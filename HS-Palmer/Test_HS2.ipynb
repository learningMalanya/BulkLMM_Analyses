{
 "cells": [
  {
   "cell_type": "code",
   "execution_count": 1,
   "id": "9587b035-4f5b-401a-9be2-58f5db20fbc4",
   "metadata": {},
   "outputs": [],
   "source": [
    "using CSV, DelimitedFiles, DataFrames, Missings, XLSX\n",
    "using LinearAlgebra, Statistics, Optim, StatsBase\n",
    "using Random, Distributions, LoopVectorization\n",
    "using GeneNetworkAPI, Downloads\n",
    "using BenchmarkTools"
   ]
  },
  {
   "cell_type": "code",
   "execution_count": 2,
   "id": "c6e33280-b28c-420c-bb51-1e11bf385df4",
   "metadata": {},
   "outputs": [],
   "source": [
    "using Plots"
   ]
  },
  {
   "cell_type": "code",
   "execution_count": 3,
   "id": "c1d83064-7cd9-4d4d-98cf-8983e6e24e43",
   "metadata": {},
   "outputs": [
    {
     "data": {
      "text/plain": [
       "\"/home/zyu20/git/BulkLMM_Analyses/HS-Palmer\""
      ]
     },
     "execution_count": 3,
     "metadata": {},
     "output_type": "execute_result"
    }
   ],
   "source": [
    "pwd()"
   ]
  },
  {
   "cell_type": "code",
   "execution_count": 4,
   "id": "b80482f2-c715-4010-b4de-fbf11a268885",
   "metadata": {},
   "outputs": [],
   "source": [
    "local_path = \"../../BulkLMM.jl/src\";"
   ]
  },
  {
   "cell_type": "code",
   "execution_count": 5,
   "id": "cb55560e-f0ab-475a-9d6b-51d9f5c56c68",
   "metadata": {},
   "outputs": [],
   "source": [
    "include(joinpath(local_path, \"kinship.jl\"));\n",
    "include(joinpath(local_path, \"util.jl\"));\n",
    "include(joinpath(local_path, \"wls.jl\"));\n",
    "include(joinpath(local_path, \"lmm.jl\"));\n",
    "include(joinpath(local_path, \"gridbrent.jl\"));\n",
    "include(joinpath(local_path, \"transform_helpers.jl\"));\n",
    "include(joinpath(local_path, \"scan.jl\"));\n",
    "include(joinpath(local_path, \"bulkscan_helpers.jl\"));\n",
    "include(joinpath(local_path, \"bulkscan.jl\"));\n",
    "include(joinpath(local_path, \"readData.jl\"));\n",
    "include(joinpath(local_path, \"../plot_utils/visuals_utils.jl\"));\n",
    "include(joinpath(local_path, \"analysis_helpers/single_trait_analysis.jl\"));\n",
    "include(\"../../BigRiver_util_code/src/kinship_utils.jl\");\n",
    "include(\"../../BigRiver_util_code/src/run_gemma_utils.jl\");"
   ]
  },
  {
   "cell_type": "markdown",
   "id": "fb693d6a-76a0-4c29-a57a-e67b06579aa9",
   "metadata": {},
   "source": [
    "## Omics traits:"
   ]
  },
  {
   "cell_type": "code",
   "execution_count": 6,
   "id": "5b45aa82-5e37-48c5-bc4a-d715b2328fd3",
   "metadata": {},
   "outputs": [
    {
     "name": "stdout",
     "output_type": "stream",
     "text": [
      " 13.052676 seconds (8.19 M allocations: 467.961 MiB, 0.95% gc time, 90.87% compilation time)\n"
     ]
    }
   ],
   "source": [
    "@time omics_pheno_df = CSV.read(\"/home/zyu20/shareddata/HSNIH-Palmer/HSNIH-Rat-PL-RSeq-0818_nomissing.csv\", DataFrame);"
   ]
  },
  {
   "cell_type": "code",
   "execution_count": 7,
   "id": "29afb046-9efc-4694-9d50-cb1f42f6a248",
   "metadata": {},
   "outputs": [
    {
     "data": {
      "text/plain": [
       "6-element Vector{String}:\n",
       " \"id\"\n",
       " \"ENSRNOG00000000001\"\n",
       " \"ENSRNOG00000000007\"\n",
       " \"ENSRNOG00000000008\"\n",
       " \"ENSRNOG00000000009\"\n",
       " \"ENSRNOG00000000010\""
      ]
     },
     "execution_count": 7,
     "metadata": {},
     "output_type": "execute_result"
    }
   ],
   "source": [
    "names(omics_pheno_df)[1:6]"
   ]
  },
  {
   "cell_type": "code",
   "execution_count": 8,
   "id": "772c3342-bcb6-41f1-bba9-a4e875337c7e",
   "metadata": {},
   "outputs": [],
   "source": [
    "sample_ids = omics_pheno_df[:, 1];"
   ]
  },
  {
   "cell_type": "code",
   "execution_count": 9,
   "id": "363644b9-031b-450b-9f06-5d1ac76f0999",
   "metadata": {},
   "outputs": [],
   "source": [
    "omics_pheno = omics_pheno_df[1:end, 2:end] |> Matrix{Float64};"
   ]
  },
  {
   "cell_type": "markdown",
   "id": "03845908-2d2c-46bd-9a43-096d82e8fb8b",
   "metadata": {},
   "source": [
    "Remove missings or columns of all 0's..."
   ]
  },
  {
   "cell_type": "code",
   "execution_count": 10,
   "id": "a422e625-3b71-49a7-9180-1bbd7cdd3e82",
   "metadata": {},
   "outputs": [],
   "source": [
    "no_value_traits = vec(sum(omics_pheno, dims = 1) .== 0.0);"
   ]
  },
  {
   "cell_type": "code",
   "execution_count": 11,
   "id": "8b2daf5c-76c7-4ad9-ba6a-61a6e3732492",
   "metadata": {},
   "outputs": [],
   "source": [
    "omics_pheno_processed = omics_pheno[:, map(x -> x .== 0.0, no_value_traits)];"
   ]
  },
  {
   "cell_type": "code",
   "execution_count": 12,
   "id": "9e9c9293-9ec0-4c96-9d4f-30d209c55db0",
   "metadata": {},
   "outputs": [],
   "source": [
    "grid_loose = collect(0.0:0.05:0.95);"
   ]
  },
  {
   "cell_type": "markdown",
   "id": "969a0e73-5d18-4f18-9884-217070b25812",
   "metadata": {
    "tags": []
   },
   "source": [
    "## HS Genotypes："
   ]
  },
  {
   "cell_type": "markdown",
   "id": "ec4108c4-81f0-4997-95b2-4b60e8893983",
   "metadata": {},
   "source": [
    "Takes too long..."
   ]
  },
  {
   "cell_type": "code",
   "execution_count": 13,
   "id": "e279ff62-aa12-42b8-aba7-fc9622bc5f04",
   "metadata": {},
   "outputs": [],
   "source": [
    "# @time hs_geno = parse_geno(\"/home/zyu20/shareddata/HSNIH-Palmer/HSNIH-Palmer_true.geno\")"
   ]
  },
  {
   "cell_type": "code",
   "execution_count": 14,
   "id": "a19612b9-2846-469b-81b9-b1a98ec34faf",
   "metadata": {},
   "outputs": [
    {
     "data": {
      "text/plain": [
       "\"@name:HSNIH-Palmer\""
      ]
     },
     "execution_count": 14,
     "metadata": {},
     "output_type": "execute_result"
    }
   ],
   "source": [
    "open(\"/home/zyu20/shareddata/HSNIH-Palmer/HSNIH-Palmer_true.geno\") do io\n",
    "           readline(io) # throw out the first line\n",
    "           readline(io)\n",
    "           # readlines(io)\n",
    "end"
   ]
  },
  {
   "cell_type": "code",
   "execution_count": 15,
   "id": "3fa9f77d-91ff-426b-a311-d8693491873b",
   "metadata": {},
   "outputs": [
    {
     "name": "stdout",
     "output_type": "stream",
     "text": [
      "@type:riset\n",
      "@name:HSNIH-Palmer\n",
      "@mat:0\n",
      "@pat:2\n",
      "#heterozygous, optional, default is \\\"H\\\"\n",
      "@het:1\n",
      "#Unknown, optional, default is \\\"U\\\"\n",
      "@unk:U\n"
     ]
    }
   ],
   "source": [
    "count = 0;\n",
    "test_line = readline(\"/home/zyu20/shareddata/HSNIH-Palmer/HSNIH-Palmer_true.geno\")\n",
    "\n",
    "for line in eachline(\"/home/zyu20/shareddata/HSNIH-Palmer/HSNIH-Palmer_true.geno\")\n",
    "    \n",
    "    count = count + 1;\n",
    "    println(line)\n",
    "    \n",
    "    test_line = line\n",
    "    \n",
    "    if count == 8\n",
    "        break\n",
    "    end\n",
    "    \n",
    "end"
   ]
  },
  {
   "cell_type": "code",
   "execution_count": 16,
   "id": "a26eddf3-f8aa-4ac5-bfb6-05f21b578235",
   "metadata": {},
   "outputs": [
    {
     "data": {
      "text/plain": [
       "1-element Vector{SubString{String}}:\n",
       " \"@unk:U\""
      ]
     },
     "execution_count": 16,
     "metadata": {},
     "output_type": "execute_result"
    }
   ],
   "source": [
    "geno_colnames = split(test_line, '\\t')"
   ]
  },
  {
   "cell_type": "code",
   "execution_count": 17,
   "id": "b467eda1-5b8f-4082-a31d-cab7932e7e30",
   "metadata": {},
   "outputs": [
    {
     "data": {
      "text/plain": [
       "(1,)"
      ]
     },
     "execution_count": 17,
     "metadata": {},
     "output_type": "execute_result"
    }
   ],
   "source": [
    "size(geno_colnames)"
   ]
  },
  {
   "cell_type": "code",
   "execution_count": 18,
   "id": "a19c8070-4d16-42d2-8bfd-8ad4fc7bf69a",
   "metadata": {},
   "outputs": [
    {
     "name": "stdout",
     "output_type": "stream",
     "text": [
      "  0.170417 seconds (431.58 k allocations: 22.404 MiB, 99.80% compilation time)\n"
     ]
    }
   ],
   "source": [
    "@time cols_to_extract_from_fullgeno = map(x -> x in sample_ids, geno_colnames);"
   ]
  },
  {
   "cell_type": "code",
   "execution_count": 19,
   "id": "a401bafa-d21a-4de7-b316-f3a639622bc4",
   "metadata": {},
   "outputs": [
    {
     "data": {
      "text/plain": [
       "0"
      ]
     },
     "execution_count": 19,
     "metadata": {},
     "output_type": "execute_result"
    }
   ],
   "source": [
    "sum(cols_to_extract_from_fullgeno)"
   ]
  },
  {
   "cell_type": "code",
   "execution_count": 20,
   "id": "cc5b4017-fd13-4993-8096-6a67a0572276",
   "metadata": {},
   "outputs": [
    {
     "data": {
      "text/plain": [
       "Int64[]"
      ]
     },
     "execution_count": 20,
     "metadata": {},
     "output_type": "execute_result"
    }
   ],
   "source": [
    "cols_ids_in_geno = findall(cols_to_extract_from_fullgeno .== 1) "
   ]
  },
  {
   "cell_type": "code",
   "execution_count": 21,
   "id": "ff3407f6-e9e4-4653-b8ac-5d8a86c8fc59",
   "metadata": {},
   "outputs": [],
   "source": [
    "#=\n",
    "@time begin\n",
    "    myfile = open(\"my_genofile.txt\", \"w\")\n",
    "    row_count = 0\n",
    "    for line in eachline(\"/home/zyu20/shareddata/HSNIH-Palmer/HSNIH-Palmer_true.geno\")\n",
    "\n",
    "        row_count = row_count + 1;\n",
    "\n",
    "        if row_count >= 9\n",
    "            col_count = 0;\n",
    "            words_in_curr_line = split(line, '\\t');\n",
    "            for word in words_in_curr_line\n",
    "                col_count = col_count + 1;\n",
    "                if col_count in cols_ids_in_geno\n",
    "                    to_write = word * \"\\t\";\n",
    "                    write(myfile, to_write);\n",
    "                end\n",
    "            end\n",
    "            write(myfile, \"\\n\")\n",
    "        end\n",
    "    end\n",
    "\n",
    "    close(myfile)\n",
    "end\n",
    "=#"
   ]
  },
  {
   "cell_type": "code",
   "execution_count": 22,
   "id": "51b228cd-b057-49fe-8dae-58c4aa3c9284",
   "metadata": {},
   "outputs": [
    {
     "name": "stdout",
     "output_type": "stream",
     "text": [
      " 13.409058 seconds (192.84 M allocations: 5.101 GiB, 6.31% gc time, 4.01% compilation time)\n"
     ]
    },
    {
     "data": {
      "text/plain": [
       "134918×80 Matrix{Any}:\n",
       " 2        2        1        2        …  2        1        2        2\n",
       " 2        2        2        2           2        2        2        2\n",
       " 2        2        2        1           2        2        2        2\n",
       " 2        2        2        1           2        2        2        2\n",
       " 2        2        2        1           2        2        2        1\n",
       " 2        2        2        2        …  2        2        1        2\n",
       " 2        2        2        2           2        2        1        2\n",
       " 0.997    1.976    0.991    1.979       1.979    1.979    1.979    0.007\n",
       " 1.941    1.559    1.006    1.994       1.993    1.994    1.993    1.998\n",
       " 1.978    1.992    1.997    1.994       1.993    1.993    1.993    1.997\n",
       " 0.031    0.39     0.99298  0.008    …  0.01     0.009    0.01     0.003\n",
       " 1.997    1.997    1.998    1.997       1.997    1.997    1.997    1.998\n",
       " 1.997    1.997    1.006    1.997       1.997    1.997    1.997    1.998\n",
       " ⋮                                   ⋱                             \n",
       " 1.917    1.917    1.917    1.917       1.917    1.917    1.917    1.917\n",
       " 1.99     1.99     1.99     1.99        1.99     1.99     1.99     1.99\n",
       " 1.913    1.913    1.913    1.913       1.913    1.913    1.913    1.913\n",
       " 0.004    0.004    0.004    0.004       0.004    0.004    0.004    0.004\n",
       " 2        2        2        2        …  2        2        2        2\n",
       " 1.913    1.913    1.913    1.913       1.91205  1.913    1.913    1.913\n",
       " 1.89703  1.89703  1.89703  1.89703     1.89703  1.89703  1.89703  1.89703\n",
       " 2        2        2        2           2        2        2        2\n",
       " 2        2        2        2           2        2        2        2\n",
       " 1.998    1.998    1.998    1.998    …  1.998    1.998    1.998    1.998\n",
       " 0.013    0.013    0.013    0.013       0.013    0.013    0.013    0.013\n",
       " 2        2        2        2           2        2        2        2"
      ]
     },
     "execution_count": 22,
     "metadata": {},
     "output_type": "execute_result"
    }
   ],
   "source": [
    "@time omics_geno = readdlm(\"my_genofile.txt\", '\\t')[2:end, 1:(end-1)]"
   ]
  },
  {
   "cell_type": "code",
   "execution_count": 23,
   "id": "d52832fc-a60d-4a4f-b733-d86877178431",
   "metadata": {},
   "outputs": [
    {
     "data": {
      "text/plain": [
       "1494-element Vector{CartesianIndex{2}}:\n",
       " CartesianIndex(21302, 1)\n",
       " CartesianIndex(21316, 1)\n",
       " CartesianIndex(35852, 1)\n",
       " CartesianIndex(35855, 1)\n",
       " CartesianIndex(78338, 1)\n",
       " CartesianIndex(78340, 1)\n",
       " CartesianIndex(78341, 1)\n",
       " CartesianIndex(78363, 1)\n",
       " CartesianIndex(95701, 1)\n",
       " CartesianIndex(95704, 1)\n",
       " CartesianIndex(95731, 1)\n",
       " CartesianIndex(95812, 1)\n",
       " CartesianIndex(21302, 2)\n",
       " ⋮\n",
       " CartesianIndex(95776, 80)\n",
       " CartesianIndex(95777, 80)\n",
       " CartesianIndex(95779, 80)\n",
       " CartesianIndex(95781, 80)\n",
       " CartesianIndex(95782, 80)\n",
       " CartesianIndex(95784, 80)\n",
       " CartesianIndex(95787, 80)\n",
       " CartesianIndex(95812, 80)\n",
       " CartesianIndex(109662, 80)\n",
       " CartesianIndex(124557, 80)\n",
       " CartesianIndex(124558, 80)\n",
       " CartesianIndex(130075, 80)"
      ]
     },
     "execution_count": 23,
     "metadata": {},
     "output_type": "execute_result"
    }
   ],
   "source": [
    "NA_entries = findall(x -> typeof(x) == SubString{String}, omics_geno)"
   ]
  },
  {
   "cell_type": "markdown",
   "id": "44bc6fbe-9db2-4829-86b7-d107336f9058",
   "metadata": {},
   "source": [
    "There are still some missings coded as \"NA\"'s..."
   ]
  },
  {
   "cell_type": "code",
   "execution_count": 24,
   "id": "00f4a3e1-cee0-4134-a7d5-c7bdf5bcdcc3",
   "metadata": {},
   "outputs": [
    {
     "data": {
      "text/plain": [
       "\"NA\""
      ]
     },
     "execution_count": 24,
     "metadata": {},
     "output_type": "execute_result"
    }
   ],
   "source": [
    "omics_geno[21302, 1]"
   ]
  },
  {
   "cell_type": "code",
   "execution_count": 25,
   "id": "1b0ea643-7297-4d31-86fc-9da4e15594a6",
   "metadata": {},
   "outputs": [
    {
     "data": {
      "text/plain": [
       "\"NA\""
      ]
     },
     "execution_count": 25,
     "metadata": {},
     "output_type": "execute_result"
    }
   ],
   "source": [
    "omics_geno[130075, 80]"
   ]
  },
  {
   "cell_type": "code",
   "execution_count": 26,
   "id": "4a1e3732-c359-47f6-82cb-a461f7f293f0",
   "metadata": {},
   "outputs": [],
   "source": [
    "NA_markers = zeros(length(NA_entries));\n",
    "\n",
    "for i in 1:length(NA_entries)\n",
    "    NA_markers[i] = NA_entries[i][1];\n",
    "end\n",
    "\n",
    "NA_markers = trunc.(Int64, NA_markers);"
   ]
  },
  {
   "cell_type": "code",
   "execution_count": 27,
   "id": "be79ebba-cc2a-4080-b0f8-20adcaf65b85",
   "metadata": {},
   "outputs": [
    {
     "data": {
      "text/plain": [
       "1494-element Vector{Int64}:\n",
       "  21302\n",
       "  21316\n",
       "  35852\n",
       "  35855\n",
       "  78338\n",
       "  78340\n",
       "  78341\n",
       "  78363\n",
       "  95701\n",
       "  95704\n",
       "  95731\n",
       "  95812\n",
       "  21302\n",
       "      ⋮\n",
       "  95776\n",
       "  95777\n",
       "  95779\n",
       "  95781\n",
       "  95782\n",
       "  95784\n",
       "  95787\n",
       "  95812\n",
       " 109662\n",
       " 124557\n",
       " 124558\n",
       " 130075"
      ]
     },
     "execution_count": 27,
     "metadata": {},
     "output_type": "execute_result"
    }
   ],
   "source": [
    "NA_markers"
   ]
  },
  {
   "cell_type": "code",
   "execution_count": 28,
   "id": "db0f77e5-a5a4-4a94-bc77-dd1439d6e467",
   "metadata": {},
   "outputs": [],
   "source": [
    "omics_geno_nomissing = omics_geno[map(x -> !(x in NA_markers), collect(1:size(omics_geno, 1))), :]';"
   ]
  },
  {
   "cell_type": "code",
   "execution_count": 29,
   "id": "c5a29981-0eb0-4402-ad5d-0ec7531d7bef",
   "metadata": {},
   "outputs": [],
   "source": [
    "# writedlm(\"/home/zyu20/shareddata/HSNIH-Palmer/HSNIH-Palmer_true_omics_geno_nomissing.txt\", omics_geno_nomissing, '\\t')"
   ]
  },
  {
   "cell_type": "code",
   "execution_count": 30,
   "id": "87a9c5d8-7021-4ce1-bf6b-33de9d669b88",
   "metadata": {},
   "outputs": [],
   "source": [
    "omics_geno_nomissing = float.(omics_geno_nomissing)./2.0;"
   ]
  },
  {
   "cell_type": "code",
   "execution_count": 31,
   "id": "ca37ba39-3015-49c2-9f75-318c6f24e62e",
   "metadata": {},
   "outputs": [
    {
     "name": "stdout",
     "output_type": "stream",
     "text": [
      "  0.205472 seconds (502.51 k allocations: 26.978 MiB, 94.42% compilation time)\n"
     ]
    }
   ],
   "source": [
    "@time maf_omics_geno = vec(mean(omics_geno_nomissing; dims = 1));"
   ]
  },
  {
   "cell_type": "code",
   "execution_count": 32,
   "id": "be218cd2-ccbf-47e5-a010-616390d7efa9",
   "metadata": {},
   "outputs": [],
   "source": [
    "to_keep = map(x -> (x < 0.95) & (x > 0.05), maf_omics_geno);"
   ]
  },
  {
   "cell_type": "code",
   "execution_count": 33,
   "id": "47330aea-93b2-4f79-b3be-874c90a7ab71",
   "metadata": {},
   "outputs": [],
   "source": [
    "omics_geno_processed = omics_geno_nomissing[:, to_keep];"
   ]
  },
  {
   "cell_type": "code",
   "execution_count": 34,
   "id": "1fc1592d-bdc3-4a5a-a950-3d3bcb5bd728",
   "metadata": {},
   "outputs": [],
   "source": [
    "(n, m) = size(omics_pheno_processed);\n",
    "p = size(omics_geno_processed, 2);"
   ]
  },
  {
   "cell_type": "code",
   "execution_count": 35,
   "id": "fc77d8cd-13af-4e4e-8cb3-4d6c4a7414e9",
   "metadata": {},
   "outputs": [
    {
     "data": {
      "text/plain": [
       "(80, 18416, 117618)"
      ]
     },
     "execution_count": 35,
     "metadata": {},
     "output_type": "execute_result"
    }
   ],
   "source": [
    "n, m, p"
   ]
  },
  {
   "cell_type": "markdown",
   "id": "b7717616-a1e1-46bf-9fc6-2ea10b26aafa",
   "metadata": {},
   "source": [
    "## Load BulkLMM functions:"
   ]
  },
  {
   "cell_type": "code",
   "execution_count": 36,
   "id": "54a43168-6754-44ed-aa2a-13ce1a79f536",
   "metadata": {},
   "outputs": [],
   "source": [
    "include(joinpath(local_path, \"kinship.jl\"));\n",
    "include(joinpath(local_path, \"util.jl\"));\n",
    "include(joinpath(local_path, \"wls.jl\"));\n",
    "include(joinpath(local_path, \"lmm.jl\"));\n",
    "include(joinpath(local_path, \"gridbrent.jl\"));\n",
    "include(joinpath(local_path, \"transform_helpers.jl\"));\n",
    "include(joinpath(local_path, \"scan.jl\"));\n",
    "include(joinpath(local_path, \"bulkscan_helpers.jl\"));\n",
    "include(joinpath(local_path, \"bulkscan.jl\"));\n",
    "include(joinpath(local_path, \"readData.jl\"));\n",
    "include(joinpath(local_path, \"../plot_utils/visuals_utils.jl\"));\n",
    "include(joinpath(local_path, \"analysis_helpers/single_trait_analysis.jl\"));\n",
    "include(\"../../BigRiver_util_code/src/kinship_utils.jl\");\n",
    "include(\"../../BigRiver_util_code/src/run_gemma_utils.jl\");"
   ]
  },
  {
   "cell_type": "code",
   "execution_count": 37,
   "id": "44ea9b29-3de5-4dc2-a7cc-34e9d74de6a0",
   "metadata": {},
   "outputs": [
    {
     "name": "stdout",
     "output_type": "stream",
     "text": [
      " 10.215746 seconds (31.60 k allocations: 13.847 GiB, 10.20% gc time)\n"
     ]
    }
   ],
   "source": [
    "@time omics_kinship = calcKinship(omics_geno_processed);"
   ]
  },
  {
   "cell_type": "code",
   "execution_count": 38,
   "id": "62522c1d-3772-4b66-b98d-e848075b5f83",
   "metadata": {},
   "outputs": [
    {
     "name": "stdout",
     "output_type": "stream",
     "text": [
      "  1.475880 seconds (1.97 M allocations: 799.621 MiB, 9.97% gc time, 31.00% compilation time)\n"
     ]
    }
   ],
   "source": [
    "@time scan_null_results = scan(reshape(omics_pheno_processed[:, 1997], :, 1), omics_geno_processed, omics_kinship;\n",
    "                               optim_interval = 10);"
   ]
  },
  {
   "cell_type": "code",
   "execution_count": 39,
   "id": "75e2f371-34b6-40ff-a68a-50785b1885b8",
   "metadata": {},
   "outputs": [],
   "source": [
    "# @time bulkscan_null_results = bulkscan_null(omics_pheno_nozeros, omics_geno_nomissing_filtered, omics_kinship);"
   ]
  },
  {
   "cell_type": "code",
   "execution_count": 44,
   "id": "70deb94a-2b30-4b99-99de-1e65e51e39df",
   "metadata": {},
   "outputs": [],
   "source": [
    "grid_loose = collect(0.00:0.05:0.95);"
   ]
  },
  {
   "cell_type": "code",
   "execution_count": 45,
   "id": "fe1c2669-83c0-449a-990b-9ad6545fe390",
   "metadata": {},
   "outputs": [],
   "source": [
    "grid_fine = collect(0.00:0.001:0.999);"
   ]
  },
  {
   "cell_type": "code",
   "execution_count": 41,
   "id": "b390cb6e-7899-4fd1-8b31-b0f5a35fa422",
   "metadata": {},
   "outputs": [
    {
     "name": "stdout",
     "output_type": "stream",
     "text": [
      " 70.045321 seconds (227.92 M allocations: 95.681 GiB, 7.65% gc time, 3.55% compilation time)\n"
     ]
    }
   ],
   "source": [
    "@time bulkscan_null_grid_results = bulkscan_null_grid(omics_pheno_processed, omics_geno_processed, omics_kinship, grid_loose;\n",
    "                                                      reml = false);"
   ]
  },
  {
   "cell_type": "code",
   "execution_count": 46,
   "id": "275fa67a-4b07-43f1-bff9-ffb451c8e662",
   "metadata": {},
   "outputs": [
    {
     "data": {
      "text/plain": [
       "8"
      ]
     },
     "execution_count": 46,
     "metadata": {},
     "output_type": "execute_result"
    }
   ],
   "source": [
    "BLAS.get_num_threads()"
   ]
  },
  {
   "cell_type": "code",
   "execution_count": 47,
   "id": "e6ab4357-0946-4af3-9e15-0aac9b6e1b7a",
   "metadata": {},
   "outputs": [],
   "source": [
    "BLAS.set_num_threads(4)"
   ]
  },
  {
   "cell_type": "code",
   "execution_count": 48,
   "id": "e912b0a6-8cf7-42a1-a756-948c1aace5b3",
   "metadata": {},
   "outputs": [],
   "source": [
    "# @time bulkscan_alt_grid_results = bulkscan_alt_grid(omics_pheno_nozeros, omics_geno_nomissing_filtered, omics_kinship, grid_loose);"
   ]
  },
  {
   "cell_type": "code",
   "execution_count": 49,
   "id": "f67d46d6-d12a-418f-a6ea-20fc984ca184",
   "metadata": {},
   "outputs": [
    {
     "data": {
      "text/plain": [
       "1.6099624375063655e-15"
      ]
     },
     "execution_count": 49,
     "metadata": {},
     "output_type": "execute_result"
    }
   ],
   "source": [
    "scan_null_results.h2_null"
   ]
  },
  {
   "cell_type": "code",
   "execution_count": 50,
   "id": "8cbd0189-90be-4819-ad01-40d00cc2be89",
   "metadata": {},
   "outputs": [
    {
     "data": {
      "text/plain": [
       "0.0"
      ]
     },
     "execution_count": 50,
     "metadata": {},
     "output_type": "execute_result"
    }
   ],
   "source": [
    "bulkscan_null_grid_results.h2_null_list[1997]"
   ]
  },
  {
   "cell_type": "code",
   "execution_count": 51,
   "id": "ea8fb0eb-a48a-4fa7-ac28-2e38b04ca3c0",
   "metadata": {},
   "outputs": [
    {
     "data": {
      "text/plain": [
       "10-element Vector{Float64}:\n",
       " 0.0\n",
       " 0.0\n",
       " 0.0\n",
       " 0.0\n",
       " 0.0\n",
       " 0.0\n",
       " 0.0\n",
       " 0.0\n",
       " 0.0\n",
       " 0.999"
      ]
     },
     "execution_count": 51,
     "metadata": {},
     "output_type": "execute_result"
    }
   ],
   "source": [
    "quantile(bulkscan_null_grid_results.h2_null_list, collect(0.1:0.1:1.0))"
   ]
  },
  {
   "cell_type": "code",
   "execution_count": 52,
   "id": "0a807a87-8921-43f6-838f-23f299e0993c",
   "metadata": {},
   "outputs": [
    {
     "data": {
      "text/plain": [
       "117618×2 Matrix{Float64}:\n",
       " 0.618842   0.618842\n",
       " 0.161133   0.161133\n",
       " 0.102444   0.102444\n",
       " 0.656556   0.656556\n",
       " 0.0857209  0.0857209\n",
       " 0.598879   0.598879\n",
       " 0.418926   0.418926\n",
       " 0.543063   0.543063\n",
       " 0.0715733  0.0715733\n",
       " 0.0820948  0.0820948\n",
       " 0.342029   0.342029\n",
       " 0.272401   0.272401\n",
       " 0.643292   0.643292\n",
       " ⋮          \n",
       " 0.0353781  0.0353781\n",
       " 0.0180401  0.0180401\n",
       " 0.0178843  0.0178843\n",
       " 0.0179356  0.0179356\n",
       " 0.0176449  0.0176449\n",
       " 0.0180401  0.0180401\n",
       " 0.0932019  0.0932019\n",
       " 0.609019   0.609019\n",
       " 0.307771   0.307771\n",
       " 0.328802   0.328802\n",
       " 0.3583     0.3583\n",
       " 0.358103   0.358103"
      ]
     },
     "execution_count": 52,
     "metadata": {},
     "output_type": "execute_result"
    }
   ],
   "source": [
    "hcat(scan_null_results.lod, bulkscan_null_grid_results.L[:, 1997])"
   ]
  },
  {
   "cell_type": "code",
   "execution_count": 49,
   "id": "6031e936-fd7d-4a2b-a39b-e521fe3440c4",
   "metadata": {},
   "outputs": [],
   "source": [
    "# bulkscan_alt_grid_results.h2_panel"
   ]
  },
  {
   "cell_type": "markdown",
   "id": "0674dcaf-cc73-484c-abc0-60e03b2f2444",
   "metadata": {
    "tags": []
   },
   "source": [
    "## GEMMA:"
   ]
  },
  {
   "cell_type": "code",
   "execution_count": 53,
   "id": "ccf5e750-496d-41e7-9598-c6acc421a987",
   "metadata": {},
   "outputs": [
    {
     "data": {
      "text/plain": [
       "\"/home/zyu20/Softwares/gemma-0.98.5-linux-static-AMD64\""
      ]
     },
     "execution_count": 53,
     "metadata": {},
     "output_type": "execute_result"
    }
   ],
   "source": [
    "gemma = \"/home/zyu20/Softwares/gemma-0.98.5-linux-static-AMD64\""
   ]
  },
  {
   "cell_type": "code",
   "execution_count": 54,
   "id": "77030960-c0f3-485f-bf64-d62bfb17bebf",
   "metadata": {},
   "outputs": [],
   "source": [
    "rand_samples = sample(1:m, 1000);"
   ]
  },
  {
   "cell_type": "code",
   "execution_count": 55,
   "id": "558833b8-61f5-499f-8ff3-bfe091bd558f",
   "metadata": {},
   "outputs": [],
   "source": [
    "pheno_filename = \"data/GEMMA_data/hs_omics_pheno.txt\";\n",
    "geno_filename = \"data/GEMMA_data/hs_omics_geno.txt\";\n",
    "kinship_filename = \"data/GEMMA_data/hs_omics_kinship.txt\";\n",
    "output_filename = \"results_univariate_LMM\";"
   ]
  },
  {
   "cell_type": "code",
   "execution_count": 56,
   "id": "95e72337-f60d-4761-adcf-89c0067b5c3b",
   "metadata": {},
   "outputs": [],
   "source": [
    "marker_names = \"marker: \" .* string.(collect(1:p));"
   ]
  },
  {
   "cell_type": "code",
   "execution_count": null,
   "id": "3f8390ef-ee1b-4c7e-b582-3bdf8a08677e",
   "metadata": {},
   "outputs": [
    {
     "name": "stdout",
     "output_type": "stream",
     "text": [
      "GEMMA 0.98.5 (2021-08-25) by Xiang Zhou, Pjotr Prins and team (C) 2012-2021\n",
      "Reading Files ... \n",
      "## number of total individuals = 80\n",
      "## number of analyzed individuals = 80\n",
      "## number of covariates = 1\n",
      "## number of phenotypes = 1\n",
      "## number of total SNPs/var        =   117618\n",
      "## number of analyzed SNPs         =   117618\n",
      "Start Eigen-Decomposition...\n",
      "pve estimate =nan\n",
      "se(pve) =nan\n",
      "================================================== 100%\n"
     ]
    },
    {
     "name": "stderr",
     "output_type": "stream",
     "text": [
      "**** INFO: Done.\n"
     ]
    },
    {
     "name": "stdout",
     "output_type": "stream",
     "text": [
      "GEMMA 0.98.5 (2021-08-25) by Xiang Zhou, Pjotr Prins and team (C) 2012-2021\n",
      "Reading Files ... \n",
      "## number of total individuals = 80\n",
      "## number of analyzed individuals = 80\n",
      "## number of covariates = 1\n",
      "## number of phenotypes = 1\n",
      "## number of total SNPs/var        =   117618\n",
      "## number of analyzed SNPs         =   117618\n",
      "Start Eigen-Decomposition...\n",
      "pve estimate =nan\n",
      "se(pve) =nan\n",
      "================================================== 100%\n"
     ]
    },
    {
     "name": "stderr",
     "output_type": "stream",
     "text": [
      "**** INFO: Done.\n"
     ]
    },
    {
     "name": "stdout",
     "output_type": "stream",
     "text": [
      "GEMMA 0.98.5 (2021-08-25) by Xiang Zhou, Pjotr Prins and team (C) 2012-2021\n",
      "Reading Files ... \n",
      "## number of total individuals = 80\n",
      "## number of analyzed individuals = 80\n",
      "## number of covariates = 1\n",
      "## number of phenotypes = 1\n",
      "## number of total SNPs/var        =   117618\n",
      "## number of analyzed SNPs         =   117618\n",
      "Start Eigen-Decomposition...\n",
      "pve estimate =nan\n",
      "se(pve) =nan\n",
      "================================================== 100%\n"
     ]
    },
    {
     "name": "stderr",
     "output_type": "stream",
     "text": [
      "**** INFO: Done.\n"
     ]
    },
    {
     "name": "stdout",
     "output_type": "stream",
     "text": [
      "GEMMA 0.98.5 (2021-08-25) by Xiang Zhou, Pjotr Prins and team (C) 2012-2021\n",
      "Reading Files ... \n",
      "## number of total individuals = 80\n",
      "## number of analyzed individuals = 80\n",
      "## number of covariates = 1\n",
      "## number of phenotypes = 1\n",
      "## number of total SNPs/var        =   117618\n",
      "## number of analyzed SNPs         =   117618\n",
      "Start Eigen-Decomposition...\n",
      "pve estimate =0.135784\n",
      "se(pve) =0.627626\n",
      "================================================== 100%\n"
     ]
    },
    {
     "name": "stderr",
     "output_type": "stream",
     "text": [
      "**** INFO: Done.\n"
     ]
    },
    {
     "name": "stdout",
     "output_type": "stream",
     "text": [
      "GEMMA 0.98.5 (2021-08-25) by Xiang Zhou, Pjotr Prins and team (C) 2012-2021\n",
      "Reading Files ... \n",
      "## number of total individuals = 80\n",
      "## number of analyzed individuals = 80\n",
      "## number of covariates = 1\n",
      "## number of phenotypes = 1\n",
      "## number of total SNPs/var        =   117618\n",
      "## number of analyzed SNPs         =   117618\n",
      "Start Eigen-Decomposition...\n",
      "pve estimate =nan\n",
      "se(pve) =nan\n",
      "================================================== 100%\n"
     ]
    },
    {
     "name": "stderr",
     "output_type": "stream",
     "text": [
      "**** INFO: Done.\n"
     ]
    },
    {
     "name": "stdout",
     "output_type": "stream",
     "text": [
      "GEMMA 0.98.5 (2021-08-25) by Xiang Zhou, Pjotr Prins and team (C) 2012-2021\n",
      "Reading Files ... \n",
      "## number of total individuals = 80\n",
      "## number of analyzed individuals = 80\n",
      "## number of covariates = 1\n",
      "## number of phenotypes = 1\n",
      "## number of total SNPs/var        =   117618\n",
      "## number of analyzed SNPs         =   117618\n",
      "Start Eigen-Decomposition...\n",
      "pve estimate =0.999997\n",
      "se(pve) =0.000478139\n",
      "================================================== 100%\n"
     ]
    },
    {
     "name": "stderr",
     "output_type": "stream",
     "text": [
      "**** INFO: Done.\n"
     ]
    },
    {
     "name": "stdout",
     "output_type": "stream",
     "text": [
      "GEMMA 0.98.5 (2021-08-25) by Xiang Zhou, Pjotr Prins and team (C) 2012-2021\n",
      "Reading Files ... \n",
      "## number of total individuals = 80\n",
      "## number of analyzed individuals = 80\n",
      "## number of covariates = 1\n",
      "## number of phenotypes = 1\n",
      "## number of total SNPs/var        =   117618\n",
      "## number of analyzed SNPs         =   117618\n",
      "Start Eigen-Decomposition...\n",
      "pve estimate =nan\n",
      "se(pve) =nan\n",
      "================================================== 100%\n"
     ]
    },
    {
     "name": "stderr",
     "output_type": "stream",
     "text": [
      "**** INFO: Done.\n"
     ]
    },
    {
     "name": "stdout",
     "output_type": "stream",
     "text": [
      "GEMMA 0.98.5 (2021-08-25) by Xiang Zhou, Pjotr Prins and team (C) 2012-2021\n",
      "Reading Files ... \n",
      "## number of total individuals = 80\n",
      "## number of analyzed individuals = 80\n",
      "## number of covariates = 1\n",
      "## number of phenotypes = 1\n",
      "## number of total SNPs/var        =   117618\n",
      "## number of analyzed SNPs         =   117618\n",
      "Start Eigen-Decomposition...\n",
      "pve estimate =0.965651\n",
      "se(pve) =0.776553\n",
      "================================================== 100%\n"
     ]
    },
    {
     "name": "stderr",
     "output_type": "stream",
     "text": [
      "**** INFO: Done.\n"
     ]
    },
    {
     "name": "stdout",
     "output_type": "stream",
     "text": [
      "GEMMA 0.98.5 (2021-08-25) by Xiang Zhou, Pjotr Prins and team (C) 2012-2021\n",
      "Reading Files ... \n",
      "## number of total individuals = 80\n",
      "## number of analyzed individuals = 80\n",
      "## number of covariates = 1\n",
      "## number of phenotypes = 1\n",
      "## number of total SNPs/var        =   117618\n",
      "## number of analyzed SNPs         =   117618\n",
      "Start Eigen-Decomposition...\n",
      "pve estimate =0.230465\n",
      "se(pve) =0.559326\n",
      "================================================== 100%\n"
     ]
    },
    {
     "name": "stderr",
     "output_type": "stream",
     "text": [
      "**** INFO: Done.\n"
     ]
    },
    {
     "name": "stdout",
     "output_type": "stream",
     "text": [
      "GEMMA 0.98.5 (2021-08-25) by Xiang Zhou, Pjotr Prins and team (C) 2012-2021\n",
      "Reading Files ... \n",
      "## number of total individuals = 80\n",
      "## number of analyzed individuals = 80\n",
      "## number of covariates = 1\n",
      "## number of phenotypes = 1\n",
      "## number of total SNPs/var        =   117618\n",
      "## number of analyzed SNPs         =   117618\n",
      "Start Eigen-Decomposition...\n",
      "pve estimate =0.0475157\n",
      "se(pve) =0.686069\n",
      "================================================== 100%\n"
     ]
    },
    {
     "name": "stderr",
     "output_type": "stream",
     "text": [
      "**** INFO: Done.\n"
     ]
    },
    {
     "name": "stdout",
     "output_type": "stream",
     "text": [
      "GEMMA 0.98.5 (2021-08-25) by Xiang Zhou, Pjotr Prins and team (C) 2012-2021\n",
      "Reading Files ... \n",
      "## number of total individuals = 80\n",
      "## number of analyzed individuals = 80\n",
      "## number of covariates = 1\n",
      "## number of phenotypes = 1\n",
      "## number of total SNPs/var        =   117618\n",
      "## number of analyzed SNPs         =   117618\n",
      "Start Eigen-Decomposition...\n",
      "pve estimate =3.5548e-06\n",
      "se(pve) =0.760351\n",
      "================================================== 100%\n"
     ]
    },
    {
     "name": "stderr",
     "output_type": "stream",
     "text": [
      "**** INFO: Done.\n"
     ]
    },
    {
     "name": "stdout",
     "output_type": "stream",
     "text": [
      "GEMMA 0.98.5 (2021-08-25) by Xiang Zhou, Pjotr Prins and team (C) 2012-2021\n",
      "Reading Files ... \n",
      "## number of total individuals = 80\n",
      "## number of analyzed individuals = 80\n",
      "## number of covariates = 1\n",
      "## number of phenotypes = 1\n",
      "## number of total SNPs/var        =   117618\n",
      "## number of analyzed SNPs         =   117618\n",
      "Start Eigen-Decomposition...\n",
      "pve estimate =nan\n",
      "se(pve) =nan\n",
      "================================================== 100%\n"
     ]
    },
    {
     "name": "stderr",
     "output_type": "stream",
     "text": [
      "**** INFO: Done.\n"
     ]
    },
    {
     "name": "stdout",
     "output_type": "stream",
     "text": [
      "GEMMA 0.98.5 (2021-08-25) by Xiang Zhou, Pjotr Prins and team (C) 2012-2021\n",
      "Reading Files ... \n",
      "## number of total individuals = 80\n",
      "## number of analyzed individuals = 80\n",
      "## number of covariates = 1\n",
      "## number of phenotypes = 1\n",
      "## number of total SNPs/var        =   117618\n",
      "## number of analyzed SNPs         =   117618\n",
      "Start Eigen-Decomposition...\n",
      "pve estimate =nan\n",
      "se(pve) =nan\n",
      "================================================== 100%\n"
     ]
    },
    {
     "name": "stderr",
     "output_type": "stream",
     "text": [
      "**** INFO: Done.\n"
     ]
    },
    {
     "name": "stdout",
     "output_type": "stream",
     "text": [
      "GEMMA 0.98.5 (2021-08-25) by Xiang Zhou, Pjotr Prins and team (C) 2012-2021\n",
      "Reading Files ... \n",
      "## number of total individuals = 80\n",
      "## number of analyzed individuals = 80\n",
      "## number of covariates = 1\n",
      "## number of phenotypes = 1\n",
      "## number of total SNPs/var        =   117618\n",
      "## number of analyzed SNPs         =   117618\n",
      "Start Eigen-Decomposition...\n",
      "pve estimate =3.5548e-06\n",
      "se(pve) =0.521191\n",
      "================================================== 100%\n"
     ]
    },
    {
     "name": "stderr",
     "output_type": "stream",
     "text": [
      "**** INFO: Done.\n"
     ]
    },
    {
     "name": "stdout",
     "output_type": "stream",
     "text": [
      "GEMMA 0.98.5 (2021-08-25) by Xiang Zhou, Pjotr Prins and team (C) 2012-2021\n",
      "Reading Files ... \n",
      "## number of total individuals = 80\n",
      "## number of analyzed individuals = 80\n",
      "## number of covariates = 1\n",
      "## number of phenotypes = 1\n",
      "## number of total SNPs/var        =   117618\n",
      "## number of analyzed SNPs         =   117618\n",
      "Start Eigen-Decomposition...\n",
      "pve estimate =0.587294\n",
      "se(pve) =0.680588\n",
      "================================================== 100%\n"
     ]
    },
    {
     "name": "stderr",
     "output_type": "stream",
     "text": [
      "**** INFO: Done.\n"
     ]
    },
    {
     "name": "stdout",
     "output_type": "stream",
     "text": [
      "GEMMA 0.98.5 (2021-08-25) by Xiang Zhou, Pjotr Prins and team (C) 2012-2021\n",
      "Reading Files ... \n",
      "## number of total individuals = 80\n",
      "## number of analyzed individuals = 80\n",
      "## number of covariates = 1\n",
      "## number of phenotypes = 1\n",
      "## number of total SNPs/var        =   117618\n",
      "## number of analyzed SNPs         =   117618\n",
      "Start Eigen-Decomposition...\n",
      "pve estimate =nan\n",
      "se(pve) =nan\n",
      "================================================== 100%\n"
     ]
    },
    {
     "name": "stderr",
     "output_type": "stream",
     "text": [
      "**** INFO: Done.\n"
     ]
    },
    {
     "name": "stdout",
     "output_type": "stream",
     "text": [
      "GEMMA 0.98.5 (2021-08-25) by Xiang Zhou, Pjotr Prins and team (C) 2012-2021\n",
      "Reading Files ... \n",
      "## number of total individuals = 80\n",
      "## number of analyzed individuals = 80\n",
      "## number of covariates = 1\n",
      "## number of phenotypes = 1\n",
      "## number of total SNPs/var        =   117618\n",
      "## number of analyzed SNPs         =   117618\n",
      "Start Eigen-Decomposition...\n",
      "pve estimate =nan\n",
      "se(pve) =nan\n",
      "================================================== 100%\n"
     ]
    },
    {
     "name": "stderr",
     "output_type": "stream",
     "text": [
      "**** INFO: Done.\n"
     ]
    },
    {
     "name": "stdout",
     "output_type": "stream",
     "text": [
      "GEMMA 0.98.5 (2021-08-25) by Xiang Zhou, Pjotr Prins and team (C) 2012-2021\n",
      "Reading Files ... \n",
      "## number of total individuals = 80\n",
      "## number of analyzed individuals = 80\n",
      "## number of covariates = 1\n",
      "## number of phenotypes = 1\n",
      "## number of total SNPs/var        =   117618\n",
      "## number of analyzed SNPs         =   117618\n",
      "Start Eigen-Decomposition...\n",
      "pve estimate =0.568454\n",
      "se(pve) =0.703232\n",
      "================================================== 100%\n"
     ]
    },
    {
     "name": "stderr",
     "output_type": "stream",
     "text": [
      "**** INFO: Done.\n"
     ]
    },
    {
     "name": "stdout",
     "output_type": "stream",
     "text": [
      "GEMMA 0.98.5 (2021-08-25) by Xiang Zhou, Pjotr Prins and team (C) 2012-2021\n",
      "Reading Files ... \n",
      "## number of total individuals = 80\n",
      "## number of analyzed individuals = 80\n",
      "## number of covariates = 1\n",
      "## number of phenotypes = 1\n",
      "## number of total SNPs/var        =   117618\n",
      "## number of analyzed SNPs         =   117618\n",
      "Start Eigen-Decomposition...\n",
      "pve estimate =3.5548e-06\n",
      "se(pve) =0.674689\n",
      "================================================== 100%\n"
     ]
    },
    {
     "name": "stderr",
     "output_type": "stream",
     "text": [
      "**** INFO: Done.\n"
     ]
    },
    {
     "name": "stdout",
     "output_type": "stream",
     "text": [
      "GEMMA 0.98.5 (2021-08-25) by Xiang Zhou, Pjotr Prins and team (C) 2012-2021\n",
      "Reading Files ... \n",
      "## number of total individuals = 80\n",
      "## number of analyzed individuals = 80\n",
      "## number of covariates = 1\n",
      "## number of phenotypes = 1\n",
      "## number of total SNPs/var        =   117618\n",
      "## number of analyzed SNPs         =   117618\n",
      "Start Eigen-Decomposition...\n",
      "pve estimate =nan\n",
      "se(pve) =nan\n",
      "================================================== 100%\n"
     ]
    },
    {
     "name": "stderr",
     "output_type": "stream",
     "text": [
      "**** INFO: Done.\n"
     ]
    },
    {
     "name": "stdout",
     "output_type": "stream",
     "text": [
      "GEMMA 0.98.5 (2021-08-25) by Xiang Zhou, Pjotr Prins and team (C) 2012-2021\n",
      "Reading Files ... \n",
      "## number of total individuals = 80\n",
      "## number of analyzed individuals = 80\n",
      "## number of covariates = 1\n",
      "## number of phenotypes = 1\n",
      "## number of total SNPs/var        =   117618\n",
      "## number of analyzed SNPs         =   117618\n",
      "Start Eigen-Decomposition...\n",
      "pve estimate =0.125336\n",
      "se(pve) =0.648045\n",
      "================================================== 100%\n"
     ]
    },
    {
     "name": "stderr",
     "output_type": "stream",
     "text": [
      "**** INFO: Done.\n"
     ]
    },
    {
     "name": "stdout",
     "output_type": "stream",
     "text": [
      "GEMMA 0.98.5 (2021-08-25) by Xiang Zhou, Pjotr Prins and team (C) 2012-2021\n",
      "Reading Files ... \n",
      "## number of total individuals = 80\n",
      "## number of analyzed individuals = 80\n",
      "## number of covariates = 1\n",
      "## number of phenotypes = 1\n",
      "## number of total SNPs/var        =   117618\n",
      "## number of analyzed SNPs         =   117618\n",
      "Start Eigen-Decomposition...\n",
      "pve estimate =nan\n",
      "se(pve) =nan\n",
      "================================================== 100%\n"
     ]
    },
    {
     "name": "stderr",
     "output_type": "stream",
     "text": [
      "**** INFO: Done.\n"
     ]
    },
    {
     "name": "stdout",
     "output_type": "stream",
     "text": [
      "GEMMA 0.98.5 (2021-08-25) by Xiang Zhou, Pjotr Prins and team (C) 2012-2021\n",
      "Reading Files ... \n",
      "## number of total individuals = 80\n",
      "## number of analyzed individuals = 80\n",
      "## number of covariates = 1\n",
      "## number of phenotypes = 1\n",
      "## number of total SNPs/var        =   117618\n",
      "## number of analyzed SNPs         =   117618\n",
      "Start Eigen-Decomposition...\n",
      "pve estimate =3.5548e-06\n",
      "se(pve) =0.661099\n",
      "================================================== 100%\n"
     ]
    },
    {
     "name": "stderr",
     "output_type": "stream",
     "text": [
      "**** INFO: Done.\n"
     ]
    },
    {
     "name": "stdout",
     "output_type": "stream",
     "text": [
      "GEMMA 0.98.5 (2021-08-25) by Xiang Zhou, Pjotr Prins and team (C) 2012-2021\n",
      "Reading Files ... \n",
      "## number of total individuals = 80\n",
      "## number of analyzed individuals = 80\n",
      "## number of covariates = 1\n",
      "## number of phenotypes = 1\n",
      "## number of total SNPs/var        =   117618\n",
      "## number of analyzed SNPs         =   117618\n",
      "Start Eigen-Decomposition...\n",
      "pve estimate =3.5548e-06\n",
      "se(pve) =0.0899421\n",
      "================================================== 100%\n"
     ]
    }
   ],
   "source": [
    "@time gemma_samples_results = run_gemma(omics_pheno_processed[:, rand_samples], omics_geno_processed, omics_kinship,\n",
    "                                  [\"A\", \"B\"], marker_names,\n",
    "                                  pheno_filename, geno_filename, kinship_filename, \n",
    "                                  output_filename, \n",
    "                                  gemma);"
   ]
  },
  {
   "cell_type": "code",
   "execution_count": null,
   "id": "7dd3bc68-c823-4f3f-8748-21a11c84f3a1",
   "metadata": {},
   "outputs": [],
   "source": [
    "gemma_samples_results"
   ]
  },
  {
   "cell_type": "code",
   "execution_count": null,
   "id": "ce3cb760-d545-42d2-a548-bb44862c7672",
   "metadata": {},
   "outputs": [],
   "source": [
    "bulkscan_null_grid_results.L[:, rand_samples]"
   ]
  },
  {
   "cell_type": "code",
   "execution_count": null,
   "id": "8bd95499-9964-4b3c-8d1a-9b967f5783cf",
   "metadata": {},
   "outputs": [],
   "source": [
    "sum(abs.(bulkscan_null_grid_results.L[:, rand_samples] .- gemma_samples_results))"
   ]
  },
  {
   "cell_type": "markdown",
   "id": "ff91e0d7-9381-49c3-b795-dba29e253813",
   "metadata": {},
   "source": [
    "#### Issues with data found so far:"
   ]
  },
  {
   "cell_type": "markdown",
   "id": "d7db88e9-28e5-406e-a81c-714274fd965f",
   "metadata": {},
   "source": [
    "- Identical genotype probabilities at some markers for all samples;"
   ]
  },
  {
   "cell_type": "code",
   "execution_count": null,
   "id": "948ea27f-bba5-4539-a9a5-0d4729be078a",
   "metadata": {},
   "outputs": [],
   "source": []
  }
 ],
 "metadata": {
  "kernelspec": {
   "display_name": "Julia 16 Threads 1.7.3",
   "language": "julia",
   "name": "julia-16-threads-1.7"
  },
  "language_info": {
   "file_extension": ".jl",
   "mimetype": "application/julia",
   "name": "julia",
   "version": "1.7.3"
  }
 },
 "nbformat": 4,
 "nbformat_minor": 5
}
