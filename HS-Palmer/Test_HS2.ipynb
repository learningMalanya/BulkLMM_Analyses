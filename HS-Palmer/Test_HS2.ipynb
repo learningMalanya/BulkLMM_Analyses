{
 "cells": [
  {
   "cell_type": "code",
   "execution_count": 1,
   "id": "9587b035-4f5b-401a-9be2-58f5db20fbc4",
   "metadata": {},
   "outputs": [],
   "source": [
    "using CSV, DelimitedFiles, DataFrames, Missings, XLSX\n",
    "using LinearAlgebra, Statistics, Optim, StatsBase\n",
    "using Random, Distributions, LoopVectorization\n",
    "using GeneNetworkAPI, Downloads\n",
    "using BenchmarkTools"
   ]
  },
  {
   "cell_type": "code",
   "execution_count": 2,
   "id": "c6e33280-b28c-420c-bb51-1e11bf385df4",
   "metadata": {},
   "outputs": [],
   "source": [
    "using Plots"
   ]
  },
  {
   "cell_type": "code",
   "execution_count": 3,
   "id": "c1d83064-7cd9-4d4d-98cf-8983e6e24e43",
   "metadata": {},
   "outputs": [
    {
     "data": {
      "text/plain": [
       "\"/home/zyu20/git/BulkLMM_Analyses/HS-Palmer\""
      ]
     },
     "execution_count": 3,
     "metadata": {},
     "output_type": "execute_result"
    }
   ],
   "source": [
    "pwd()"
   ]
  },
  {
   "cell_type": "code",
   "execution_count": 4,
   "id": "b80482f2-c715-4010-b4de-fbf11a268885",
   "metadata": {},
   "outputs": [],
   "source": [
    "local_path = \"../../BulkLMM.jl/src\";"
   ]
  },
  {
   "cell_type": "code",
   "execution_count": 216,
   "id": "cb55560e-f0ab-475a-9d6b-51d9f5c56c68",
   "metadata": {},
   "outputs": [],
   "source": [
    "include(joinpath(local_path, \"kinship.jl\"));\n",
    "include(joinpath(local_path, \"util.jl\"));\n",
    "include(joinpath(local_path, \"wls.jl\"));\n",
    "include(joinpath(local_path, \"lmm.jl\"));\n",
    "include(joinpath(local_path, \"gridbrent.jl\"));\n",
    "include(joinpath(local_path, \"transform_helpers.jl\"));\n",
    "include(joinpath(local_path, \"scan.jl\"));\n",
    "include(joinpath(local_path, \"bulkscan_helpers.jl\"));\n",
    "include(joinpath(local_path, \"bulkscan.jl\"));\n",
    "include(joinpath(local_path, \"readData.jl\"));\n",
    "include(joinpath(local_path, \"../plot_utils/visuals_utils.jl\"));\n",
    "include(joinpath(local_path, \"analysis_helpers/single_trait_analysis.jl\"));\n",
    "include(\"../../BigRiver_util_code/src/kinship_utils.jl\");\n",
    "include(\"../../BigRiver_util_code/src/run_gemma_utils.jl\");"
   ]
  },
  {
   "cell_type": "markdown",
   "id": "fb693d6a-76a0-4c29-a57a-e67b06579aa9",
   "metadata": {},
   "source": [
    "## Omics traits:"
   ]
  },
  {
   "cell_type": "code",
   "execution_count": 152,
   "id": "5b45aa82-5e37-48c5-bc4a-d715b2328fd3",
   "metadata": {},
   "outputs": [
    {
     "name": "stdout",
     "output_type": "stream",
     "text": [
      "  1.316718 seconds (1.11 M allocations: 84.567 MiB)\n"
     ]
    }
   ],
   "source": [
    "@time omics_pheno_df = CSV.read(\"/home/zyu20/shareddata/HSNIH-Palmer/HSNIH-Rat-PL-RSeq-0818_nomissing.csv\", DataFrame);"
   ]
  },
  {
   "cell_type": "code",
   "execution_count": 153,
   "id": "29afb046-9efc-4694-9d50-cb1f42f6a248",
   "metadata": {},
   "outputs": [
    {
     "data": {
      "text/plain": [
       "6-element Vector{String}:\n",
       " \"id\"\n",
       " \"ENSRNOG00000000001\"\n",
       " \"ENSRNOG00000000007\"\n",
       " \"ENSRNOG00000000008\"\n",
       " \"ENSRNOG00000000009\"\n",
       " \"ENSRNOG00000000010\""
      ]
     },
     "execution_count": 153,
     "metadata": {},
     "output_type": "execute_result"
    }
   ],
   "source": [
    "names(omics_pheno_df)[1:6]"
   ]
  },
  {
   "cell_type": "code",
   "execution_count": 154,
   "id": "772c3342-bcb6-41f1-bba9-a4e875337c7e",
   "metadata": {},
   "outputs": [],
   "source": [
    "sample_ids = omics_pheno_df[:, 1];"
   ]
  },
  {
   "cell_type": "code",
   "execution_count": 155,
   "id": "363644b9-031b-450b-9f06-5d1ac76f0999",
   "metadata": {},
   "outputs": [],
   "source": [
    "omics_pheno = omics_pheno_df[1:end, 2:end] |> Matrix{Float64};"
   ]
  },
  {
   "cell_type": "markdown",
   "id": "03845908-2d2c-46bd-9a43-096d82e8fb8b",
   "metadata": {},
   "source": [
    "Remove missings or columns of all 0's..."
   ]
  },
  {
   "cell_type": "code",
   "execution_count": 156,
   "id": "a422e625-3b71-49a7-9180-1bbd7cdd3e82",
   "metadata": {},
   "outputs": [],
   "source": [
    "no_value_traits = vec(sum(omics_pheno, dims = 1) .== 0.0);"
   ]
  },
  {
   "cell_type": "code",
   "execution_count": 157,
   "id": "8b2daf5c-76c7-4ad9-ba6a-61a6e3732492",
   "metadata": {},
   "outputs": [],
   "source": [
    "omics_pheno_processed = omics_pheno[:, map(x -> x .== 0.0, no_value_traits)];"
   ]
  },
  {
   "cell_type": "code",
   "execution_count": 158,
   "id": "9e9c9293-9ec0-4c96-9d4f-30d209c55db0",
   "metadata": {},
   "outputs": [],
   "source": [
    "grid_loose = collect(0.0:0.05:0.95);"
   ]
  },
  {
   "cell_type": "markdown",
   "id": "969a0e73-5d18-4f18-9884-217070b25812",
   "metadata": {
    "tags": []
   },
   "source": [
    "## HS Genotypes："
   ]
  },
  {
   "cell_type": "code",
   "execution_count": 171,
   "id": "3fa9f77d-91ff-426b-a311-d8693491873b",
   "metadata": {},
   "outputs": [],
   "source": [
    "count = 0;\n",
    "test_line = readline(\"/home/zyu20/shareddata/HSNIH-Palmer/HSNIH-Palmer_true.geno\")\n",
    "\n",
    "for line in eachline(\"/home/zyu20/shareddata/HSNIH-Palmer/HSNIH-Palmer_true.geno\")\n",
    "    \n",
    "    count = count + 1;\n",
    "    # println(line)\n",
    "    \n",
    "    test_line = line\n",
    "    \n",
    "    if count == 9 # data starts from the line 9\n",
    "        break\n",
    "    end\n",
    "    \n",
    "end"
   ]
  },
  {
   "cell_type": "code",
   "execution_count": 172,
   "id": "a26eddf3-f8aa-4ac5-bfb6-05f21b578235",
   "metadata": {},
   "outputs": [
    {
     "data": {
      "text/plain": [
       "6151-element Vector{SubString{String}}:\n",
       " \"Chr\"\n",
       " \"Locus\"\n",
       " \"cM\"\n",
       " \"Mb\"\n",
       " \"0007A0008B\"\n",
       " \"0007A00024\"\n",
       " \"0007A000DB\"\n",
       " \"0007A001C5\"\n",
       " \"0007A0059F\"\n",
       " \"0007A00263\"\n",
       " \"0007A00670\"\n",
       " \"0007A00716\"\n",
       " \"0007A01A7C\"\n",
       " ⋮\n",
       " \"0007929889\"\n",
       " \"0007929894\"\n",
       " \"0007929913\"\n",
       " \"0007929918\"\n",
       " \"0007929924\"\n",
       " \"0007929944\"\n",
       " \"0007929945\"\n",
       " \"0007929959\"\n",
       " \"0007929963\"\n",
       " \"0007929965\"\n",
       " \"0007929994\"\n",
       " \"0007929999\""
      ]
     },
     "execution_count": 172,
     "metadata": {},
     "output_type": "execute_result"
    }
   ],
   "source": [
    "geno_colnames = split(test_line, '\\t')"
   ]
  },
  {
   "cell_type": "code",
   "execution_count": 182,
   "id": "a19c8070-4d16-42d2-8bfd-8ad4fc7bf69a",
   "metadata": {},
   "outputs": [
    {
     "name": "stdout",
     "output_type": "stream",
     "text": [
      "  0.095852 seconds (553.54 k allocations: 33.283 MiB, 56.60% compilation time)\n"
     ]
    }
   ],
   "source": [
    "@time cols_to_extract_from_fullgeno = map(x -> x in sample_ids, geno_colnames);\n",
    "cols_to_extract_from_fullgeno[1:4] .= 1; # also want to store information about the markers (the first 4 cols: Chr, Locus, cM, Mb)"
   ]
  },
  {
   "cell_type": "code",
   "execution_count": 183,
   "id": "a401bafa-d21a-4de7-b316-f3a639622bc4",
   "metadata": {},
   "outputs": [
    {
     "data": {
      "text/plain": [
       "84"
      ]
     },
     "execution_count": 183,
     "metadata": {},
     "output_type": "execute_result"
    }
   ],
   "source": [
    "sum(cols_to_extract_from_fullgeno)"
   ]
  },
  {
   "cell_type": "code",
   "execution_count": 184,
   "id": "cc5b4017-fd13-4993-8096-6a67a0572276",
   "metadata": {},
   "outputs": [],
   "source": [
    "cols_ids_in_geno = findall(cols_to_extract_from_fullgeno .== 1);"
   ]
  },
  {
   "cell_type": "code",
   "execution_count": 186,
   "id": "ff3407f6-e9e4-4653-b8ac-5d8a86c8fc59",
   "metadata": {},
   "outputs": [
    {
     "name": "stdout",
     "output_type": "stream",
     "text": [
      "146.136487 seconds (819.18 M allocations: 67.304 GiB, 19.32% gc time, 0.00% compilation time)\n"
     ]
    },
    {
     "name": "stderr",
     "output_type": "stream",
     "text": [
      "error in running finalizer: ErrorException(\"task switch not allowed from inside gc finalizer\")\n",
      "jl_error at /buildworker/worker/package_linux64/build/src/rtutils.c:41\n",
      "jl_switch at /buildworker/worker/package_linux64/build/src/task.c:483\n",
      "try_yieldto at ./task.jl:802\n",
      "wait at ./task.jl:872\n",
      "wait at ./condition.jl:123\n",
      "lock at ./lock.jl:100\n",
      "close at ./iostream.jl:42\n",
      "_jl_invoke at /buildworker/worker/package_linux64/build/src/gf.c:2247 [inlined]\n",
      "jl_apply_generic at /buildworker/worker/package_linux64/build/src/gf.c:2429\n",
      "jl_apply at /buildworker/worker/package_linux64/build/src/julia.h:1788 [inlined]\n",
      "run_finalizer at /buildworker/worker/package_linux64/build/src/gc.c:278\n",
      "jl_gc_run_finalizers_in_list at /buildworker/worker/package_linux64/build/src/gc.c:367\n",
      "run_finalizers at /buildworker/worker/package_linux64/build/src/gc.c:394\n",
      "jl_gc_run_pending_finalizers at /buildworker/worker/package_linux64/build/src/gc.c:405\n",
      "jl_mutex_unlock at /buildworker/worker/package_linux64/build/src/julia_locks.h:131 [inlined]\n",
      "jl_process_events at /buildworker/worker/package_linux64/build/src/jl_uv.c:215\n",
      "process_events at ./libuv.jl:104 [inlined]\n",
      "wait at ./task.jl:873\n",
      "wait at ./condition.jl:123\n",
      "_trywait at ./asyncevent.jl:130\n",
      "macro expansion at ./asyncevent.jl:271 [inlined]\n",
      "#635 at ./task.jl:123\n",
      "unknown function (ip: 0x7faba40ca54f)\n",
      "_jl_invoke at /buildworker/worker/package_linux64/build/src/gf.c:2247 [inlined]\n",
      "jl_apply_generic at /buildworker/worker/package_linux64/build/src/gf.c:2429\n",
      "jl_apply at /buildworker/worker/package_linux64/build/src/julia.h:1788 [inlined]\n",
      "start_task at /buildworker/worker/package_linux64/build/src/task.c:877\n"
     ]
    }
   ],
   "source": [
    "@time begin\n",
    "    myfile = open(\"my_genofile.txt\", \"w\")\n",
    "    row_count = 0\n",
    "    for line in eachline(\"/home/zyu20/shareddata/HSNIH-Palmer/HSNIH-Palmer_true.geno\")\n",
    "\n",
    "        row_count = row_count + 1;\n",
    "\n",
    "        if row_count >= 9\n",
    "            col_count = 0;\n",
    "            words_in_curr_line = split(line, '\\t');\n",
    "            for word in words_in_curr_line\n",
    "                col_count = col_count + 1;\n",
    "                if col_count in cols_ids_in_geno\n",
    "                    to_write = word * \"\\t\";\n",
    "                    write(myfile, to_write);\n",
    "                end\n",
    "            end\n",
    "            write(myfile, \"\\n\")\n",
    "        end\n",
    "    end\n",
    "\n",
    "    close(myfile)\n",
    "end"
   ]
  },
  {
   "cell_type": "code",
   "execution_count": 198,
   "id": "1e033244-401e-4dd6-8ea5-67db6689c98a",
   "metadata": {},
   "outputs": [
    {
     "name": "stdout",
     "output_type": "stream",
     "text": [
      " 41.105239 seconds (209.62 M allocations: 5.444 GiB, 71.86% gc time)\n"
     ]
    },
    {
     "data": {
      "text/plain": [
       "134919×85 Matrix{Any}:\n",
       "   \"Chr\"  \"Locus\"             \"cM\"     …   \"000789FFF8\"   \"000789FFF9\"  \"\"\n",
       "  1       \"chr1:55365\"       0.055365     2              2              \"\"\n",
       "  1       \"chr1:666374\"      0.666374     2              2              \"\"\n",
       "  1       \"chr1:666382\"      0.666382     2              2              \"\"\n",
       "  1       \"chr1:666394\"      0.666394     2              2              \"\"\n",
       "  1       \"chr1:669529\"      0.669529  …  2              1              \"\"\n",
       "  1       \"chr1:669562\"      0.669562     1              2              \"\"\n",
       "  1       \"chr1:671466\"      0.671466     1              2              \"\"\n",
       "  1       \"chr1:759319\"      0.759319     1.979          0.007          \"\"\n",
       "  1       \"chr1:1134030\"     1.13403      1.993          1.998          \"\"\n",
       "  1       \"chr1:1139210\"     1.13921   …  1.993          1.997          \"\"\n",
       "  1       \"chr1:1143318\"     1.14332      0.01           0.003          \"\"\n",
       "  1       \"chr1:1151014\"     1.15101      1.997          1.998          \"\"\n",
       "  ⋮                                    ⋱                                \n",
       " 20       \"chr20:55641278\"  55.6413       1.917          1.917          \"\"\n",
       " 20       \"chr20:55644746\"  55.6447       1.99           1.99           \"\"\n",
       " 20       \"chr20:55659520\"  55.6595       1.913          1.913          \"\"\n",
       " 20       \"chr20:55716379\"  55.7164    …  0.004          0.004          \"\"\n",
       " 20       \"chr20:55744179\"  55.7442       2              2              \"\"\n",
       " 20       \"chr20:55773139\"  55.7731       1.913          1.913          \"\"\n",
       " 20       \"chr20:55818290\"  55.8183       1.89703        1.89703        \"\"\n",
       " 20       \"chr20:55944342\"  55.9443       2              2              \"\"\n",
       " 20       \"chr20:55963803\"  55.9638    …  2              2              \"\"\n",
       " 20       \"chr20:55991426\"  55.9914       1.998          1.998          \"\"\n",
       " 20       \"chr20:55999627\"  55.9996       0.013          0.013          \"\"\n",
       " 20       \"chr20:56115597\"  56.1156       2              2              \"\""
      ]
     },
     "execution_count": 198,
     "metadata": {},
     "output_type": "execute_result"
    }
   ],
   "source": [
    "@time omics_geno_full = readdlm(\"my_genofile.txt\", '\\t')"
   ]
  },
  {
   "cell_type": "code",
   "execution_count": 200,
   "id": "51b228cd-b057-49fe-8dae-58c4aa3c9284",
   "metadata": {},
   "outputs": [
    {
     "name": "stdout",
     "output_type": "stream",
     "text": [
      " 37.660587 seconds (209.62 M allocations: 5.524 GiB, 68.08% gc time)\n"
     ]
    },
    {
     "data": {
      "text/plain": [
       "134918×80 Matrix{Any}:\n",
       " 2        2        1        2        …  2        1        2        2\n",
       " 2        2        2        2           2        2        2        2\n",
       " 2        2        2        1           2        2        2        2\n",
       " 2        2        2        1           2        2        2        2\n",
       " 2        2        2        1           2        2        2        1\n",
       " 2        2        2        2        …  2        2        1        2\n",
       " 2        2        2        2           2        2        1        2\n",
       " 0.997    1.976    0.991    1.979       1.979    1.979    1.979    0.007\n",
       " 1.941    1.559    1.006    1.994       1.993    1.994    1.993    1.998\n",
       " 1.978    1.992    1.997    1.994       1.993    1.993    1.993    1.997\n",
       " 0.031    0.39     0.99298  0.008    …  0.01     0.009    0.01     0.003\n",
       " 1.997    1.997    1.998    1.997       1.997    1.997    1.997    1.998\n",
       " 1.997    1.997    1.006    1.997       1.997    1.997    1.997    1.998\n",
       " ⋮                                   ⋱                             \n",
       " 1.917    1.917    1.917    1.917       1.917    1.917    1.917    1.917\n",
       " 1.99     1.99     1.99     1.99        1.99     1.99     1.99     1.99\n",
       " 1.913    1.913    1.913    1.913       1.913    1.913    1.913    1.913\n",
       " 0.004    0.004    0.004    0.004       0.004    0.004    0.004    0.004\n",
       " 2        2        2        2        …  2        2        2        2\n",
       " 1.913    1.913    1.913    1.913       1.91205  1.913    1.913    1.913\n",
       " 1.89703  1.89703  1.89703  1.89703     1.89703  1.89703  1.89703  1.89703\n",
       " 2        2        2        2           2        2        2        2\n",
       " 2        2        2        2           2        2        2        2\n",
       " 1.998    1.998    1.998    1.998    …  1.998    1.998    1.998    1.998\n",
       " 0.013    0.013    0.013    0.013       0.013    0.013    0.013    0.013\n",
       " 2        2        2        2           2        2        2        2"
      ]
     },
     "execution_count": 200,
     "metadata": {},
     "output_type": "execute_result"
    }
   ],
   "source": [
    "@time omics_geno = readdlm(\"my_genofile.txt\", '\\t')[2:end, 5:(end-1)]"
   ]
  },
  {
   "cell_type": "code",
   "execution_count": 201,
   "id": "d52832fc-a60d-4a4f-b733-d86877178431",
   "metadata": {},
   "outputs": [
    {
     "data": {
      "text/plain": [
       "1494-element Vector{CartesianIndex{2}}:\n",
       " CartesianIndex(21302, 1)\n",
       " CartesianIndex(21316, 1)\n",
       " CartesianIndex(35852, 1)\n",
       " CartesianIndex(35855, 1)\n",
       " CartesianIndex(78338, 1)\n",
       " CartesianIndex(78340, 1)\n",
       " CartesianIndex(78341, 1)\n",
       " CartesianIndex(78363, 1)\n",
       " CartesianIndex(95701, 1)\n",
       " CartesianIndex(95704, 1)\n",
       " CartesianIndex(95731, 1)\n",
       " CartesianIndex(95812, 1)\n",
       " CartesianIndex(21302, 2)\n",
       " ⋮\n",
       " CartesianIndex(95776, 80)\n",
       " CartesianIndex(95777, 80)\n",
       " CartesianIndex(95779, 80)\n",
       " CartesianIndex(95781, 80)\n",
       " CartesianIndex(95782, 80)\n",
       " CartesianIndex(95784, 80)\n",
       " CartesianIndex(95787, 80)\n",
       " CartesianIndex(95812, 80)\n",
       " CartesianIndex(109662, 80)\n",
       " CartesianIndex(124557, 80)\n",
       " CartesianIndex(124558, 80)\n",
       " CartesianIndex(130075, 80)"
      ]
     },
     "execution_count": 201,
     "metadata": {},
     "output_type": "execute_result"
    }
   ],
   "source": [
    "NA_entries = findall(x -> typeof(x) == SubString{String}, omics_geno)"
   ]
  },
  {
   "cell_type": "markdown",
   "id": "44bc6fbe-9db2-4829-86b7-d107336f9058",
   "metadata": {},
   "source": [
    "There are still some missings coded as \"NA\"'s..."
   ]
  },
  {
   "cell_type": "code",
   "execution_count": 190,
   "id": "00f4a3e1-cee0-4134-a7d5-c7bdf5bcdcc3",
   "metadata": {},
   "outputs": [
    {
     "data": {
      "text/plain": [
       "2"
      ]
     },
     "execution_count": 190,
     "metadata": {},
     "output_type": "execute_result"
    }
   ],
   "source": [
    "omics_geno[21302, 1]"
   ]
  },
  {
   "cell_type": "code",
   "execution_count": 191,
   "id": "1b0ea643-7297-4d31-86fc-9da4e15594a6",
   "metadata": {},
   "outputs": [
    {
     "data": {
      "text/plain": [
       "0.037"
      ]
     },
     "execution_count": 191,
     "metadata": {},
     "output_type": "execute_result"
    }
   ],
   "source": [
    "omics_geno[130075, 80]"
   ]
  },
  {
   "cell_type": "code",
   "execution_count": 192,
   "id": "4a1e3732-c359-47f6-82cb-a461f7f293f0",
   "metadata": {},
   "outputs": [],
   "source": [
    "NA_markers = zeros(length(NA_entries));\n",
    "\n",
    "for i in 1:length(NA_entries)\n",
    "    NA_markers[i] = NA_entries[i][1];\n",
    "end\n",
    "\n",
    "NA_markers = trunc.(Int64, NA_markers);"
   ]
  },
  {
   "cell_type": "code",
   "execution_count": 193,
   "id": "be79ebba-cc2a-4080-b0f8-20adcaf65b85",
   "metadata": {},
   "outputs": [
    {
     "data": {
      "text/plain": [
       "136412-element Vector{Int64}:\n",
       "      1\n",
       "      2\n",
       "      3\n",
       "      4\n",
       "      5\n",
       "      6\n",
       "      7\n",
       "      8\n",
       "      9\n",
       "     10\n",
       "     11\n",
       "     12\n",
       "     13\n",
       "      ⋮\n",
       "  95776\n",
       "  95777\n",
       "  95779\n",
       "  95781\n",
       "  95782\n",
       "  95784\n",
       "  95787\n",
       "  95812\n",
       " 109662\n",
       " 124557\n",
       " 124558\n",
       " 130075"
      ]
     },
     "execution_count": 193,
     "metadata": {},
     "output_type": "execute_result"
    }
   ],
   "source": [
    "NA_markers"
   ]
  },
  {
   "cell_type": "code",
   "execution_count": 194,
   "id": "db0f77e5-a5a4-4a94-bc77-dd1439d6e467",
   "metadata": {},
   "outputs": [],
   "source": [
    "omics_geno_nomissing = omics_geno[map(x -> !(x in NA_markers), collect(1:size(omics_geno, 1))), :]';"
   ]
  },
  {
   "cell_type": "code",
   "execution_count": 195,
   "id": "c5a29981-0eb0-4402-ad5d-0ec7531d7bef",
   "metadata": {},
   "outputs": [],
   "source": [
    "writedlm(\"/home/zyu20/shareddata/HSNIH-Palmer/HSNIH-Palmer_true_omics_geno_nomissing.txt\", omics_geno_nomissing, '\\t')"
   ]
  },
  {
   "cell_type": "code",
   "execution_count": 196,
   "id": "87a9c5d8-7021-4ce1-bf6b-33de9d669b88",
   "metadata": {},
   "outputs": [],
   "source": [
    "omics_geno_nomissing = float.(omics_geno_nomissing)./2.0;"
   ]
  },
  {
   "cell_type": "code",
   "execution_count": 197,
   "id": "ca37ba39-3015-49c2-9f75-318c6f24e62e",
   "metadata": {},
   "outputs": [
    {
     "ename": "LoadError",
     "evalue": "MethodError: no method matching zero(::Type{Any})\n\u001b[0mClosest candidates are:\n\u001b[0m  zero(::Type{Union{Missing, T}}) where T at ~/Softwares/Julia/julia-1.7.3/share/julia/base/missing.jl:105\n\u001b[0m  zero(\u001b[91m::Union{Type{P}, P}\u001b[39m) where P<:Dates.Period at ~/Softwares/Julia/julia-1.7.3/share/julia/stdlib/v1.7/Dates/src/periods.jl:53\n\u001b[0m  zero(\u001b[91m::OffsetArrays.OffsetArray\u001b[39m) at ~/.julia/packages/OffsetArrays/WvkHl/src/OffsetArrays.jl:405\n\u001b[0m  ...",
     "output_type": "error",
     "traceback": [
      "MethodError: no method matching zero(::Type{Any})\n\u001b[0mClosest candidates are:\n\u001b[0m  zero(::Type{Union{Missing, T}}) where T at ~/Softwares/Julia/julia-1.7.3/share/julia/base/missing.jl:105\n\u001b[0m  zero(\u001b[91m::Union{Type{P}, P}\u001b[39m) where P<:Dates.Period at ~/Softwares/Julia/julia-1.7.3/share/julia/stdlib/v1.7/Dates/src/periods.jl:53\n\u001b[0m  zero(\u001b[91m::OffsetArrays.OffsetArray\u001b[39m) at ~/.julia/packages/OffsetArrays/WvkHl/src/OffsetArrays.jl:405\n\u001b[0m  ...",
      "",
      "Stacktrace:",
      "  [1] zero(#unused#::Type{Any})",
      "    @ Base ./missing.jl:106",
      "  [2] reduce_empty(#unused#::typeof(+), #unused#::Type{Any})",
      "    @ Base ./reduce.jl:313",
      "  [3] reduce_empty(#unused#::typeof(Base.add_sum), #unused#::Type{Any})",
      "    @ Base ./reduce.jl:322",
      "  [4] mapreduce_empty(#unused#::typeof(identity), op::Function, T::Type)",
      "    @ Base ./reduce.jl:345",
      "  [5] reduce_empty(op::Base.MappingRF{typeof(identity), typeof(Base.add_sum)}, #unused#::Type{Any})",
      "    @ Base ./reduce.jl:331",
      "  [6] reduce_empty_iter",
      "    @ ./reduce.jl:357 [inlined]",
      "  [7] mapreduce_empty_iter(f::Function, op::Function, itr::Matrix{Any}, ItrEltype::Base.HasEltype)",
      "    @ Base ./reduce.jl:353",
      "  [8] _mapreduce(f::typeof(identity), op::typeof(Base.add_sum), #unused#::IndexLinear, A::Matrix{Any})",
      "    @ Base ./reduce.jl:402",
      "  [9] _mapreduce_dim",
      "    @ ./reducedim.jl:330 [inlined]",
      " [10] #mapreduce#731",
      "    @ ./reducedim.jl:322 [inlined]",
      " [11] mapreduce",
      "    @ ./reducedim.jl:322 [inlined]",
      " [12] #_sum#741",
      "    @ ./reducedim.jl:894 [inlined]",
      " [13] _sum",
      "    @ ./reducedim.jl:894 [inlined]",
      " [14] #sum#739",
      "    @ ./reducedim.jl:890 [inlined]",
      " [15] sum",
      "    @ ./reducedim.jl:890 [inlined]",
      " [16] _reducedim_init(f::typeof(identity), op::typeof(Base.add_sum), fv::typeof(zero), fop::typeof(sum), A::Matrix{Any}, region::Int64)",
      "    @ Base ./reducedim.jl:121",
      " [17] reducedim_init(f::Function, op::typeof(Base.add_sum), A::Matrix{Any}, region::Int64)",
      "    @ Base ./reducedim.jl:109",
      " [18] _mapreduce_dim(f::Function, op::Function, #unused#::Base._InitialValue, A::Matrix{Any}, dims::Int64)",
      "    @ Base ./reducedim.jl:336",
      " [19] #mapreduce#731",
      "    @ ./reducedim.jl:322 [inlined]",
      " [20] #_sum#761",
      "    @ ./reducedim.jl:916 [inlined]",
      " [21] _sum",
      "    @ ./reducedim.jl:916 [inlined]",
      " [22] #sum#739",
      "    @ ./reducedim.jl:890 [inlined]",
      " [23] _mean(f::typeof(identity), A::Matrix{Any}, dims::Int64)",
      "    @ Statistics ~/Softwares/Julia/julia-1.7.3/share/julia/stdlib/v1.7/Statistics/src/Statistics.jl:170",
      " [24] #mean#2",
      "    @ ~/Softwares/Julia/julia-1.7.3/share/julia/stdlib/v1.7/Statistics/src/Statistics.jl:164 [inlined]",
      " [25] top-level scope",
      "    @ ./timing.jl:220 [inlined]",
      " [26] top-level scope",
      "    @ ./In[197]:0"
     ]
    }
   ],
   "source": [
    "@time maf_omics_geno = vec(mean(omics_geno_nomissing; dims = 1));"
   ]
  },
  {
   "cell_type": "code",
   "execution_count": 32,
   "id": "be218cd2-ccbf-47e5-a010-616390d7efa9",
   "metadata": {},
   "outputs": [],
   "source": [
    "to_keep = map(x -> (x < 0.95) & (x > 0.05), maf_omics_geno);"
   ]
  },
  {
   "cell_type": "code",
   "execution_count": 33,
   "id": "47330aea-93b2-4f79-b3be-874c90a7ab71",
   "metadata": {},
   "outputs": [],
   "source": [
    "omics_geno_processed = omics_geno_nomissing[:, to_keep];"
   ]
  },
  {
   "cell_type": "code",
   "execution_count": 34,
   "id": "1fc1592d-bdc3-4a5a-a950-3d3bcb5bd728",
   "metadata": {},
   "outputs": [],
   "source": [
    "(n, m) = size(omics_pheno_processed);\n",
    "p = size(omics_geno_processed, 2);"
   ]
  },
  {
   "cell_type": "code",
   "execution_count": 35,
   "id": "fc77d8cd-13af-4e4e-8cb3-4d6c4a7414e9",
   "metadata": {},
   "outputs": [
    {
     "data": {
      "text/plain": [
       "(80, 18416, 117618)"
      ]
     },
     "execution_count": 35,
     "metadata": {},
     "output_type": "execute_result"
    }
   ],
   "source": [
    "n, m, p"
   ]
  },
  {
   "cell_type": "markdown",
   "id": "b7717616-a1e1-46bf-9fc6-2ea10b26aafa",
   "metadata": {},
   "source": [
    "## Load BulkLMM functions:"
   ]
  },
  {
   "cell_type": "code",
   "execution_count": 36,
   "id": "54a43168-6754-44ed-aa2a-13ce1a79f536",
   "metadata": {},
   "outputs": [],
   "source": [
    "include(joinpath(local_path, \"kinship.jl\"));\n",
    "include(joinpath(local_path, \"util.jl\"));\n",
    "include(joinpath(local_path, \"wls.jl\"));\n",
    "include(joinpath(local_path, \"lmm.jl\"));\n",
    "include(joinpath(local_path, \"gridbrent.jl\"));\n",
    "include(joinpath(local_path, \"transform_helpers.jl\"));\n",
    "include(joinpath(local_path, \"scan.jl\"));\n",
    "include(joinpath(local_path, \"bulkscan_helpers.jl\"));\n",
    "include(joinpath(local_path, \"bulkscan.jl\"));\n",
    "include(joinpath(local_path, \"readData.jl\"));\n",
    "include(joinpath(local_path, \"../plot_utils/visuals_utils.jl\"));\n",
    "include(joinpath(local_path, \"analysis_helpers/single_trait_analysis.jl\"));\n",
    "include(\"../../BigRiver_util_code/src/kinship_utils.jl\");\n",
    "include(\"../../BigRiver_util_code/src/run_gemma_utils.jl\");"
   ]
  },
  {
   "cell_type": "code",
   "execution_count": 37,
   "id": "44ea9b29-3de5-4dc2-a7cc-34e9d74de6a0",
   "metadata": {},
   "outputs": [
    {
     "name": "stdout",
     "output_type": "stream",
     "text": [
      "  9.149925 seconds (31.60 k allocations: 13.847 GiB, 11.30% gc time)\n"
     ]
    }
   ],
   "source": [
    "@time omics_kinship = calcKinship(omics_geno_processed);"
   ]
  },
  {
   "cell_type": "code",
   "execution_count": 71,
   "id": "275fa67a-4b07-43f1-bff9-ffb451c8e662",
   "metadata": {},
   "outputs": [
    {
     "data": {
      "text/plain": [
       "8"
      ]
     },
     "execution_count": 71,
     "metadata": {},
     "output_type": "execute_result"
    }
   ],
   "source": [
    "BLAS.get_num_threads()"
   ]
  },
  {
   "cell_type": "code",
   "execution_count": 46,
   "id": "e6ab4357-0946-4af3-9e15-0aac9b6e1b7a",
   "metadata": {},
   "outputs": [],
   "source": [
    "BLAS.set_num_threads(8)"
   ]
  },
  {
   "cell_type": "markdown",
   "id": "390f785e-d392-4209-8bf0-05a4da3d0536",
   "metadata": {},
   "source": [
    "## BulkLMM:"
   ]
  },
  {
   "cell_type": "code",
   "execution_count": 44,
   "id": "b390cb6e-7899-4fd1-8b31-b0f5a35fa422",
   "metadata": {},
   "outputs": [
    {
     "name": "stdout",
     "output_type": "stream",
     "text": [
      " 37.428594 seconds (30.33 M allocations: 39.754 GiB, 4.32% gc time, 6.84% compilation time)\n"
     ]
    }
   ],
   "source": [
    "@time bulkscan_null_grid_results = bulkscan_null_grid(omics_pheno_processed, omics_geno_processed, omics_kinship, grid_fine;\n",
    "                                                      reml = false);"
   ]
  },
  {
   "cell_type": "code",
   "execution_count": 47,
   "id": "e912b0a6-8cf7-42a1-a756-948c1aace5b3",
   "metadata": {},
   "outputs": [],
   "source": [
    "# @time bulkscan_alt_grid_results = bulkscan_alt_grid(omics_pheno_nozeros, omics_geno_nomissing_filtered, omics_kinship, grid_loose);"
   ]
  },
  {
   "cell_type": "code",
   "execution_count": 41,
   "id": "70deb94a-2b30-4b99-99de-1e65e51e39df",
   "metadata": {},
   "outputs": [],
   "source": [
    "grid_loose = collect(0.00:0.05:0.95);"
   ]
  },
  {
   "cell_type": "code",
   "execution_count": 43,
   "id": "fe1c2669-83c0-449a-990b-9ad6545fe390",
   "metadata": {},
   "outputs": [],
   "source": [
    "grid_fine = collect(0.00:0.01:0.99);"
   ]
  },
  {
   "cell_type": "markdown",
   "id": "0674dcaf-cc73-484c-abc0-60e03b2f2444",
   "metadata": {
    "tags": []
   },
   "source": [
    "## GEMMA:"
   ]
  },
  {
   "cell_type": "code",
   "execution_count": 72,
   "id": "ccf5e750-496d-41e7-9598-c6acc421a987",
   "metadata": {},
   "outputs": [
    {
     "data": {
      "text/plain": [
       "\"/home/zyu20/Softwares/gemma-0.98.5-linux-static-AMD64\""
      ]
     },
     "execution_count": 72,
     "metadata": {},
     "output_type": "execute_result"
    }
   ],
   "source": [
    "gemma = \"/home/zyu20/Softwares/gemma-0.98.5-linux-static-AMD64\""
   ]
  },
  {
   "cell_type": "code",
   "execution_count": 74,
   "id": "77030960-c0f3-485f-bf64-d62bfb17bebf",
   "metadata": {},
   "outputs": [],
   "source": [
    "rand_samples = sample(1:m, 10);"
   ]
  },
  {
   "cell_type": "code",
   "execution_count": 75,
   "id": "ac61986a-382f-4200-99cc-615c97e71670",
   "metadata": {},
   "outputs": [
    {
     "data": {
      "text/plain": [
       "2-element Vector{Int64}:\n",
       "    1\n",
       " 1997"
      ]
     },
     "execution_count": 75,
     "metadata": {},
     "output_type": "execute_result"
    }
   ],
   "source": [
    "rand_samples = [1, 1997]"
   ]
  },
  {
   "cell_type": "code",
   "execution_count": 76,
   "id": "558833b8-61f5-499f-8ff3-bfe091bd558f",
   "metadata": {},
   "outputs": [],
   "source": [
    "pheno_filename = \"data/GEMMA_data/hs_omics_pheno.txt\";\n",
    "geno_filename = \"data/GEMMA_data/hs_omics_geno.txt\";\n",
    "kinship_filename = \"data/GEMMA_data/hs_omics_kinship.txt\";\n",
    "output_filename = \"results_univariate_LMM\";"
   ]
  },
  {
   "cell_type": "code",
   "execution_count": 77,
   "id": "95e72337-f60d-4761-adcf-89c0067b5c3b",
   "metadata": {},
   "outputs": [],
   "source": [
    "marker_names = \"marker: \" .* string.(collect(1:p));"
   ]
  },
  {
   "cell_type": "code",
   "execution_count": 78,
   "id": "3f8390ef-ee1b-4c7e-b582-3bdf8a08677e",
   "metadata": {},
   "outputs": [
    {
     "name": "stdout",
     "output_type": "stream",
     "text": [
      "GEMMA 0.98.5 (2021-08-25) by Xiang Zhou, Pjotr Prins and team (C) 2012-2021\n",
      "Reading Files ... \n",
      "## number of total individuals = 80\n",
      "## number of analyzed individuals = 80\n",
      "## number of covariates = 1\n",
      "## number of phenotypes = 1\n",
      "## number of total SNPs/var        =   117618\n",
      "## number of analyzed SNPs         =   117618\n",
      "Start Eigen-Decomposition...\n",
      "pve estimate =3.5548e-06\n",
      "se(pve) =0.633945\n",
      "================================================== 100%\n"
     ]
    },
    {
     "name": "stderr",
     "output_type": "stream",
     "text": [
      "**** INFO: Done.\n"
     ]
    },
    {
     "name": "stdout",
     "output_type": "stream",
     "text": [
      "GEMMA 0.98.5 (2021-08-25) by Xiang Zhou, Pjotr Prins and team (C) 2012-2021\n",
      "Reading Files ... \n",
      "## number of total individuals = 80\n",
      "## number of analyzed individuals = 80\n",
      "## number of covariates = 1\n",
      "## number of phenotypes = 1\n",
      "## number of total SNPs/var        =   117618\n",
      "## number of analyzed SNPs         =   117618\n",
      "Start Eigen-Decomposition...\n",
      "pve estimate =0.999997\n",
      "se(pve) =0.000515413\n",
      "================================================== 100%\n"
     ]
    },
    {
     "name": "stderr",
     "output_type": "stream",
     "text": [
      "**** INFO: Done.\n"
     ]
    },
    {
     "name": "stdout",
     "output_type": "stream",
     "text": [
      " 31.931135 seconds (85.92 M allocations: 5.555 GiB, 18.08% gc time)\n"
     ]
    }
   ],
   "source": [
    "@time gemma_samples_results = run_gemma(omics_pheno_processed[:, rand_samples], omics_geno_processed, omics_kinship,\n",
    "                                        [\"A\", \"B\"], marker_names,\n",
    "                                        pheno_filename, geno_filename, kinship_filename, \n",
    "                                        output_filename, \n",
    "                                        gemma);"
   ]
  },
  {
   "cell_type": "code",
   "execution_count": 217,
   "id": "3e8891fb-5e9e-4420-8978-fe271b45de9d",
   "metadata": {},
   "outputs": [
    {
     "data": {
      "text/plain": [
       "80×1 Matrix{Float64}:\n",
       " 3.6379\n",
       " 3.7742\n",
       " 3.554\n",
       " 3.3301\n",
       " 3.5547\n",
       " 3.8215\n",
       " 3.6407\n",
       " 3.6343\n",
       " 3.6807\n",
       " 3.8224\n",
       " 3.6883\n",
       " 3.4971\n",
       " 3.6853\n",
       " ⋮\n",
       " 3.3328\n",
       " 3.688\n",
       " 3.3988\n",
       " 3.7564\n",
       " 3.5502\n",
       " 3.5294\n",
       " 3.9482\n",
       " 3.6431\n",
       " 3.6125\n",
       " 3.4008\n",
       " 3.7062\n",
       " 3.7628"
      ]
     },
     "execution_count": 217,
     "metadata": {},
     "output_type": "execute_result"
    }
   ],
   "source": [
    "test_omics_trait = reshape(omics_pheno_processed[:, 1], :, 1) \n",
    "# colStandardize!(test_omics_trait)"
   ]
  },
  {
   "cell_type": "code",
   "execution_count": 113,
   "id": "d252f556-9142-4c10-bfea-79def6521f87",
   "metadata": {},
   "outputs": [
    {
     "name": "stdout",
     "output_type": "stream",
     "text": [
      "GEMMA 0.98.5 (2021-08-25) by Xiang Zhou, Pjotr Prins and team (C) 2012-2021\n",
      "Reading Files ... \n",
      "## number of total individuals = 80\n",
      "## number of analyzed individuals = 80\n",
      "## number of covariates = 1\n",
      "## number of phenotypes = 1\n",
      "## number of total SNPs/var        =   117618\n",
      "## number of analyzed SNPs         =   117618\n",
      "Start Eigen-Decomposition...\n",
      "pve estimate =3.5548e-06\n",
      "se(pve) =0.633945\n",
      "================================================== 100%\n"
     ]
    },
    {
     "name": "stderr",
     "output_type": "stream",
     "text": [
      "**** INFO: Done.\n"
     ]
    },
    {
     "name": "stdout",
     "output_type": "stream",
     "text": [
      " 20.828647 seconds (57.08 M allocations: 4.807 GiB, 22.99% gc time)\n"
     ]
    }
   ],
   "source": [
    "@time gemma_samples_results = run_gemma(test_omics_trait, omics_geno_processed, omics_kinship,\n",
    "                                        [\"A\", \"B\"], marker_names,\n",
    "                                        pheno_filename, geno_filename, kinship_filename, \n",
    "                                        output_filename, \n",
    "                                        gemma);"
   ]
  },
  {
   "cell_type": "code",
   "execution_count": 265,
   "id": "c3aab875-c5ca-4a4a-98d5-9f0362269019",
   "metadata": {},
   "outputs": [],
   "source": [
    "grid_fine = collect(1:999) .* 0.001;"
   ]
  },
  {
   "cell_type": "code",
   "execution_count": 267,
   "id": "598a34e4-24ec-4b85-b9c0-1c188734543d",
   "metadata": {},
   "outputs": [
    {
     "name": "stdout",
     "output_type": "stream",
     "text": [
      "Loglik plot: \n"
     ]
    },
    {
     "data": {
      "image/svg+xml": [
       "<?xml version=\"1.0\" encoding=\"utf-8\"?>\n",
       "<svg xmlns=\"http://www.w3.org/2000/svg\" xmlns:xlink=\"http://www.w3.org/1999/xlink\" width=\"600\" height=\"400\" viewBox=\"0 0 2400 1600\">\n",
       "<defs>\n",
       "  <clipPath id=\"clip690\">\n",
       "    <rect x=\"0\" y=\"0\" width=\"2400\" height=\"1600\"/>\n",
       "  </clipPath>\n",
       "</defs>\n",
       "<path clip-path=\"url(#clip690)\" d=\"\n",
       "M0 1600 L2400 1600 L2400 0 L0 0  Z\n",
       "  \" fill=\"#ffffff\" fill-rule=\"evenodd\" fill-opacity=\"1\"/>\n",
       "<defs>\n",
       "  <clipPath id=\"clip691\">\n",
       "    <rect x=\"480\" y=\"0\" width=\"1681\" height=\"1600\"/>\n",
       "  </clipPath>\n",
       "</defs>\n",
       "<path clip-path=\"url(#clip690)\" d=\"\n",
       "M232.389 1423.18 L2352.76 1423.18 L2352.76 47.2441 L232.389 47.2441  Z\n",
       "  \" fill=\"#ffffff\" fill-rule=\"evenodd\" fill-opacity=\"1\"/>\n",
       "<defs>\n",
       "  <clipPath id=\"clip692\">\n",
       "    <rect x=\"232\" y=\"47\" width=\"2121\" height=\"1377\"/>\n",
       "  </clipPath>\n",
       "</defs>\n",
       "<polyline clip-path=\"url(#clip692)\" style=\"stroke:#000000; stroke-linecap:round; stroke-linejoin:round; stroke-width:2; stroke-opacity:0.1; fill:none\" points=\"\n",
       "  328.77,1423.18 328.77,47.2441 \n",
       "  \"/>\n",
       "<polyline clip-path=\"url(#clip692)\" style=\"stroke:#000000; stroke-linecap:round; stroke-linejoin:round; stroke-width:2; stroke-opacity:0.1; fill:none\" points=\"\n",
       "  810.671,1423.18 810.671,47.2441 \n",
       "  \"/>\n",
       "<polyline clip-path=\"url(#clip692)\" style=\"stroke:#000000; stroke-linecap:round; stroke-linejoin:round; stroke-width:2; stroke-opacity:0.1; fill:none\" points=\"\n",
       "  1292.57,1423.18 1292.57,47.2441 \n",
       "  \"/>\n",
       "<polyline clip-path=\"url(#clip692)\" style=\"stroke:#000000; stroke-linecap:round; stroke-linejoin:round; stroke-width:2; stroke-opacity:0.1; fill:none\" points=\"\n",
       "  1774.47,1423.18 1774.47,47.2441 \n",
       "  \"/>\n",
       "<polyline clip-path=\"url(#clip692)\" style=\"stroke:#000000; stroke-linecap:round; stroke-linejoin:round; stroke-width:2; stroke-opacity:0.1; fill:none\" points=\"\n",
       "  2256.38,1423.18 2256.38,47.2441 \n",
       "  \"/>\n",
       "<polyline clip-path=\"url(#clip690)\" style=\"stroke:#000000; stroke-linecap:round; stroke-linejoin:round; stroke-width:4; stroke-opacity:1; fill:none\" points=\"\n",
       "  232.389,1423.18 2352.76,1423.18 \n",
       "  \"/>\n",
       "<polyline clip-path=\"url(#clip690)\" style=\"stroke:#000000; stroke-linecap:round; stroke-linejoin:round; stroke-width:4; stroke-opacity:1; fill:none\" points=\"\n",
       "  328.77,1423.18 328.77,1404.28 \n",
       "  \"/>\n",
       "<polyline clip-path=\"url(#clip690)\" style=\"stroke:#000000; stroke-linecap:round; stroke-linejoin:round; stroke-width:4; stroke-opacity:1; fill:none\" points=\"\n",
       "  810.671,1423.18 810.671,1404.28 \n",
       "  \"/>\n",
       "<polyline clip-path=\"url(#clip690)\" style=\"stroke:#000000; stroke-linecap:round; stroke-linejoin:round; stroke-width:4; stroke-opacity:1; fill:none\" points=\"\n",
       "  1292.57,1423.18 1292.57,1404.28 \n",
       "  \"/>\n",
       "<polyline clip-path=\"url(#clip690)\" style=\"stroke:#000000; stroke-linecap:round; stroke-linejoin:round; stroke-width:4; stroke-opacity:1; fill:none\" points=\"\n",
       "  1774.47,1423.18 1774.47,1404.28 \n",
       "  \"/>\n",
       "<polyline clip-path=\"url(#clip690)\" style=\"stroke:#000000; stroke-linecap:round; stroke-linejoin:round; stroke-width:4; stroke-opacity:1; fill:none\" points=\"\n",
       "  2256.38,1423.18 2256.38,1404.28 \n",
       "  \"/>\n",
       "<path clip-path=\"url(#clip690)\" d=\"M291.073 1454.1 Q287.462 1454.1 285.633 1457.66 Q283.828 1461.2 283.828 1468.33 Q283.828 1475.44 285.633 1479.01 Q287.462 1482.55 291.073 1482.55 Q294.707 1482.55 296.513 1479.01 Q298.342 1475.44 298.342 1468.33 Q298.342 1461.2 296.513 1457.66 Q294.707 1454.1 291.073 1454.1 M291.073 1450.39 Q296.883 1450.39 299.939 1455 Q303.017 1459.58 303.017 1468.33 Q303.017 1477.06 299.939 1481.67 Q296.883 1486.25 291.073 1486.25 Q285.263 1486.25 282.184 1481.67 Q279.129 1477.06 279.129 1468.33 Q279.129 1459.58 282.184 1455 Q285.263 1450.39 291.073 1450.39 Z\" fill=\"#000000\" fill-rule=\"evenodd\" fill-opacity=\"1\" /><path clip-path=\"url(#clip690)\" d=\"M311.235 1479.7 L316.119 1479.7 L316.119 1485.58 L311.235 1485.58 L311.235 1479.7 Z\" fill=\"#000000\" fill-rule=\"evenodd\" fill-opacity=\"1\" /><path clip-path=\"url(#clip690)\" d=\"M336.304 1454.1 Q332.693 1454.1 330.865 1457.66 Q329.059 1461.2 329.059 1468.33 Q329.059 1475.44 330.865 1479.01 Q332.693 1482.55 336.304 1482.55 Q339.939 1482.55 341.744 1479.01 Q343.573 1475.44 343.573 1468.33 Q343.573 1461.2 341.744 1457.66 Q339.939 1454.1 336.304 1454.1 M336.304 1450.39 Q342.114 1450.39 345.17 1455 Q348.249 1459.58 348.249 1468.33 Q348.249 1477.06 345.17 1481.67 Q342.114 1486.25 336.304 1486.25 Q330.494 1486.25 327.415 1481.67 Q324.36 1477.06 324.36 1468.33 Q324.36 1459.58 327.415 1455 Q330.494 1450.39 336.304 1450.39 Z\" fill=\"#000000\" fill-rule=\"evenodd\" fill-opacity=\"1\" /><path clip-path=\"url(#clip690)\" d=\"M366.466 1454.1 Q362.855 1454.1 361.026 1457.66 Q359.221 1461.2 359.221 1468.33 Q359.221 1475.44 361.026 1479.01 Q362.855 1482.55 366.466 1482.55 Q370.1 1482.55 371.906 1479.01 Q373.735 1475.44 373.735 1468.33 Q373.735 1461.2 371.906 1457.66 Q370.1 1454.1 366.466 1454.1 M366.466 1450.39 Q372.276 1450.39 375.332 1455 Q378.411 1459.58 378.411 1468.33 Q378.411 1477.06 375.332 1481.67 Q372.276 1486.25 366.466 1486.25 Q360.656 1486.25 357.577 1481.67 Q354.522 1477.06 354.522 1468.33 Q354.522 1459.58 357.577 1455 Q360.656 1450.39 366.466 1450.39 Z\" fill=\"#000000\" fill-rule=\"evenodd\" fill-opacity=\"1\" /><path clip-path=\"url(#clip690)\" d=\"M773.472 1454.1 Q769.861 1454.1 768.032 1457.66 Q766.227 1461.2 766.227 1468.33 Q766.227 1475.44 768.032 1479.01 Q769.861 1482.55 773.472 1482.55 Q777.107 1482.55 778.912 1479.01 Q780.741 1475.44 780.741 1468.33 Q780.741 1461.2 778.912 1457.66 Q777.107 1454.1 773.472 1454.1 M773.472 1450.39 Q779.282 1450.39 782.338 1455 Q785.417 1459.58 785.417 1468.33 Q785.417 1477.06 782.338 1481.67 Q779.282 1486.25 773.472 1486.25 Q767.662 1486.25 764.583 1481.67 Q761.528 1477.06 761.528 1468.33 Q761.528 1459.58 764.583 1455 Q767.662 1450.39 773.472 1450.39 Z\" fill=\"#000000\" fill-rule=\"evenodd\" fill-opacity=\"1\" /><path clip-path=\"url(#clip690)\" d=\"M793.634 1479.7 L798.518 1479.7 L798.518 1485.58 L793.634 1485.58 L793.634 1479.7 Z\" fill=\"#000000\" fill-rule=\"evenodd\" fill-opacity=\"1\" /><path clip-path=\"url(#clip690)\" d=\"M812.731 1481.64 L829.051 1481.64 L829.051 1485.58 L807.106 1485.58 L807.106 1481.64 Q809.768 1478.89 814.352 1474.26 Q818.958 1469.61 820.139 1468.27 Q822.384 1465.74 823.264 1464.01 Q824.166 1462.25 824.166 1460.56 Q824.166 1457.8 822.222 1456.07 Q820.301 1454.33 817.199 1454.33 Q815 1454.33 812.546 1455.09 Q810.116 1455.86 807.338 1457.41 L807.338 1452.69 Q810.162 1451.55 812.616 1450.97 Q815.069 1450.39 817.106 1450.39 Q822.477 1450.39 825.671 1453.08 Q828.865 1455.77 828.865 1460.26 Q828.865 1462.39 828.055 1464.31 Q827.268 1466.2 825.162 1468.8 Q824.583 1469.47 821.481 1472.69 Q818.379 1475.88 812.731 1481.64 Z\" fill=\"#000000\" fill-rule=\"evenodd\" fill-opacity=\"1\" /><path clip-path=\"url(#clip690)\" d=\"M838.912 1451.02 L857.268 1451.02 L857.268 1454.96 L843.194 1454.96 L843.194 1463.43 Q844.213 1463.08 845.231 1462.92 Q846.25 1462.73 847.268 1462.73 Q853.055 1462.73 856.435 1465.9 Q859.814 1469.08 859.814 1474.49 Q859.814 1480.07 856.342 1483.17 Q852.87 1486.25 846.551 1486.25 Q844.375 1486.25 842.106 1485.88 Q839.861 1485.51 837.453 1484.77 L837.453 1480.07 Q839.537 1481.2 841.759 1481.76 Q843.981 1482.32 846.458 1482.32 Q850.463 1482.32 852.801 1480.21 Q855.138 1478.1 855.138 1474.49 Q855.138 1470.88 852.801 1468.77 Q850.463 1466.67 846.458 1466.67 Q844.583 1466.67 842.708 1467.08 Q840.856 1467.5 838.912 1468.38 L838.912 1451.02 Z\" fill=\"#000000\" fill-rule=\"evenodd\" fill-opacity=\"1\" /><path clip-path=\"url(#clip690)\" d=\"M1254.88 1454.1 Q1251.26 1454.1 1249.44 1457.66 Q1247.63 1461.2 1247.63 1468.33 Q1247.63 1475.44 1249.44 1479.01 Q1251.26 1482.55 1254.88 1482.55 Q1258.51 1482.55 1260.32 1479.01 Q1262.14 1475.44 1262.14 1468.33 Q1262.14 1461.2 1260.32 1457.66 Q1258.51 1454.1 1254.88 1454.1 M1254.88 1450.39 Q1260.69 1450.39 1263.74 1455 Q1266.82 1459.58 1266.82 1468.33 Q1266.82 1477.06 1263.74 1481.67 Q1260.69 1486.25 1254.88 1486.25 Q1249.07 1486.25 1245.99 1481.67 Q1242.93 1477.06 1242.93 1468.33 Q1242.93 1459.58 1245.99 1455 Q1249.07 1450.39 1254.88 1450.39 Z\" fill=\"#000000\" fill-rule=\"evenodd\" fill-opacity=\"1\" /><path clip-path=\"url(#clip690)\" d=\"M1275.04 1479.7 L1279.92 1479.7 L1279.92 1485.58 L1275.04 1485.58 L1275.04 1479.7 Z\" fill=\"#000000\" fill-rule=\"evenodd\" fill-opacity=\"1\" /><path clip-path=\"url(#clip690)\" d=\"M1290.15 1451.02 L1308.51 1451.02 L1308.51 1454.96 L1294.44 1454.96 L1294.44 1463.43 Q1295.45 1463.08 1296.47 1462.92 Q1297.49 1462.73 1298.51 1462.73 Q1304.3 1462.73 1307.68 1465.9 Q1311.06 1469.08 1311.06 1474.49 Q1311.06 1480.07 1307.58 1483.17 Q1304.11 1486.25 1297.79 1486.25 Q1295.62 1486.25 1293.35 1485.88 Q1291.1 1485.51 1288.7 1484.77 L1288.7 1480.07 Q1290.78 1481.2 1293 1481.76 Q1295.22 1482.32 1297.7 1482.32 Q1301.7 1482.32 1304.04 1480.21 Q1306.38 1478.1 1306.38 1474.49 Q1306.38 1470.88 1304.04 1468.77 Q1301.7 1466.67 1297.7 1466.67 Q1295.82 1466.67 1293.95 1467.08 Q1292.1 1467.5 1290.15 1468.38 L1290.15 1451.02 Z\" fill=\"#000000\" fill-rule=\"evenodd\" fill-opacity=\"1\" /><path clip-path=\"url(#clip690)\" d=\"M1330.27 1454.1 Q1326.66 1454.1 1324.83 1457.66 Q1323.02 1461.2 1323.02 1468.33 Q1323.02 1475.44 1324.83 1479.01 Q1326.66 1482.55 1330.27 1482.55 Q1333.9 1482.55 1335.71 1479.01 Q1337.54 1475.44 1337.54 1468.33 Q1337.54 1461.2 1335.71 1457.66 Q1333.9 1454.1 1330.27 1454.1 M1330.27 1450.39 Q1336.08 1450.39 1339.13 1455 Q1342.21 1459.58 1342.21 1468.33 Q1342.21 1477.06 1339.13 1481.67 Q1336.08 1486.25 1330.27 1486.25 Q1324.46 1486.25 1321.38 1481.67 Q1318.32 1477.06 1318.32 1468.33 Q1318.32 1459.58 1321.38 1455 Q1324.46 1450.39 1330.27 1450.39 Z\" fill=\"#000000\" fill-rule=\"evenodd\" fill-opacity=\"1\" /><path clip-path=\"url(#clip690)\" d=\"M1737.28 1454.1 Q1733.66 1454.1 1731.84 1457.66 Q1730.03 1461.2 1730.03 1468.33 Q1730.03 1475.44 1731.84 1479.01 Q1733.66 1482.55 1737.28 1482.55 Q1740.91 1482.55 1742.72 1479.01 Q1744.54 1475.44 1744.54 1468.33 Q1744.54 1461.2 1742.72 1457.66 Q1740.91 1454.1 1737.28 1454.1 M1737.28 1450.39 Q1743.09 1450.39 1746.14 1455 Q1749.22 1459.58 1749.22 1468.33 Q1749.22 1477.06 1746.14 1481.67 Q1743.09 1486.25 1737.28 1486.25 Q1731.47 1486.25 1728.39 1481.67 Q1725.33 1477.06 1725.33 1468.33 Q1725.33 1459.58 1728.39 1455 Q1731.47 1450.39 1737.28 1450.39 Z\" fill=\"#000000\" fill-rule=\"evenodd\" fill-opacity=\"1\" /><path clip-path=\"url(#clip690)\" d=\"M1757.44 1479.7 L1762.32 1479.7 L1762.32 1485.58 L1757.44 1485.58 L1757.44 1479.7 Z\" fill=\"#000000\" fill-rule=\"evenodd\" fill-opacity=\"1\" /><path clip-path=\"url(#clip690)\" d=\"M1771.33 1451.02 L1793.55 1451.02 L1793.55 1453.01 L1781 1485.58 L1776.12 1485.58 L1787.92 1454.96 L1771.33 1454.96 L1771.33 1451.02 Z\" fill=\"#000000\" fill-rule=\"evenodd\" fill-opacity=\"1\" /><path clip-path=\"url(#clip690)\" d=\"M1802.71 1451.02 L1821.07 1451.02 L1821.07 1454.96 L1807 1454.96 L1807 1463.43 Q1808.02 1463.08 1809.03 1462.92 Q1810.05 1462.73 1811.07 1462.73 Q1816.86 1462.73 1820.24 1465.9 Q1823.62 1469.08 1823.62 1474.49 Q1823.62 1480.07 1820.15 1483.17 Q1816.67 1486.25 1810.35 1486.25 Q1808.18 1486.25 1805.91 1485.88 Q1803.66 1485.51 1801.26 1484.77 L1801.26 1480.07 Q1803.34 1481.2 1805.56 1481.76 Q1807.78 1482.32 1810.26 1482.32 Q1814.27 1482.32 1816.6 1480.21 Q1818.94 1478.1 1818.94 1474.49 Q1818.94 1470.88 1816.6 1468.77 Q1814.27 1466.67 1810.26 1466.67 Q1808.39 1466.67 1806.51 1467.08 Q1804.66 1467.5 1802.71 1468.38 L1802.71 1451.02 Z\" fill=\"#000000\" fill-rule=\"evenodd\" fill-opacity=\"1\" /><path clip-path=\"url(#clip690)\" d=\"M2208.45 1481.64 L2216.09 1481.64 L2216.09 1455.28 L2207.78 1456.95 L2207.78 1452.69 L2216.04 1451.02 L2220.72 1451.02 L2220.72 1481.64 L2228.35 1481.64 L2228.35 1485.58 L2208.45 1485.58 L2208.45 1481.64 Z\" fill=\"#000000\" fill-rule=\"evenodd\" fill-opacity=\"1\" /><path clip-path=\"url(#clip690)\" d=\"M2237.8 1479.7 L2242.68 1479.7 L2242.68 1485.58 L2237.8 1485.58 L2237.8 1479.7 Z\" fill=\"#000000\" fill-rule=\"evenodd\" fill-opacity=\"1\" /><path clip-path=\"url(#clip690)\" d=\"M2262.87 1454.1 Q2259.26 1454.1 2257.43 1457.66 Q2255.62 1461.2 2255.62 1468.33 Q2255.62 1475.44 2257.43 1479.01 Q2259.26 1482.55 2262.87 1482.55 Q2266.5 1482.55 2268.31 1479.01 Q2270.14 1475.44 2270.14 1468.33 Q2270.14 1461.2 2268.31 1457.66 Q2266.5 1454.1 2262.87 1454.1 M2262.87 1450.39 Q2268.68 1450.39 2271.73 1455 Q2274.81 1459.58 2274.81 1468.33 Q2274.81 1477.06 2271.73 1481.67 Q2268.68 1486.25 2262.87 1486.25 Q2257.06 1486.25 2253.98 1481.67 Q2250.92 1477.06 2250.92 1468.33 Q2250.92 1459.58 2253.98 1455 Q2257.06 1450.39 2262.87 1450.39 Z\" fill=\"#000000\" fill-rule=\"evenodd\" fill-opacity=\"1\" /><path clip-path=\"url(#clip690)\" d=\"M2293.03 1454.1 Q2289.42 1454.1 2287.59 1457.66 Q2285.79 1461.2 2285.79 1468.33 Q2285.79 1475.44 2287.59 1479.01 Q2289.42 1482.55 2293.03 1482.55 Q2296.66 1482.55 2298.47 1479.01 Q2300.3 1475.44 2300.3 1468.33 Q2300.3 1461.2 2298.47 1457.66 Q2296.66 1454.1 2293.03 1454.1 M2293.03 1450.39 Q2298.84 1450.39 2301.9 1455 Q2304.97 1459.58 2304.97 1468.33 Q2304.97 1477.06 2301.9 1481.67 Q2298.84 1486.25 2293.03 1486.25 Q2287.22 1486.25 2284.14 1481.67 Q2281.09 1477.06 2281.09 1468.33 Q2281.09 1459.58 2284.14 1455 Q2287.22 1450.39 2293.03 1450.39 Z\" fill=\"#000000\" fill-rule=\"evenodd\" fill-opacity=\"1\" /><path clip-path=\"url(#clip690)\" d=\"M1287.26 1546.53 L1287.26 1568.04 L1281.4 1568.04 L1281.4 1546.72 Q1281.4 1541.66 1279.43 1539.14 Q1277.45 1536.63 1273.51 1536.63 Q1268.76 1536.63 1266.03 1539.65 Q1263.29 1542.68 1263.29 1547.9 L1263.29 1568.04 L1257.4 1568.04 L1257.4 1518.52 L1263.29 1518.52 L1263.29 1537.93 Q1265.39 1534.72 1268.22 1533.13 Q1271.09 1531.54 1274.81 1531.54 Q1280.96 1531.54 1284.11 1535.36 Q1287.26 1539.14 1287.26 1546.53 Z\" fill=\"#000000\" fill-rule=\"evenodd\" fill-opacity=\"1\" /><path clip-path=\"url(#clip690)\" d=\"M1305.3 1562.63 L1327.74 1562.63 L1327.74 1568.04 L1297.57 1568.04 L1297.57 1562.63 Q1301.23 1558.85 1307.53 1552.48 Q1313.87 1546.08 1315.49 1544.24 Q1318.58 1540.77 1319.79 1538.38 Q1321.03 1535.96 1321.03 1533.64 Q1321.03 1529.85 1318.35 1527.46 Q1315.71 1525.08 1311.45 1525.08 Q1308.42 1525.08 1305.05 1526.13 Q1301.71 1527.18 1297.89 1529.31 L1297.89 1522.82 Q1301.77 1521.26 1305.14 1520.46 Q1308.52 1519.66 1311.32 1519.66 Q1318.7 1519.66 1323.1 1523.36 Q1327.49 1527.05 1327.49 1533.22 Q1327.49 1536.15 1326.37 1538.79 Q1325.29 1541.4 1322.4 1544.97 Q1321.6 1545.89 1317.34 1550.32 Q1313.07 1554.71 1305.3 1562.63 Z\" fill=\"#000000\" fill-rule=\"evenodd\" fill-opacity=\"1\" /><polyline clip-path=\"url(#clip692)\" style=\"stroke:#000000; stroke-linecap:round; stroke-linejoin:round; stroke-width:2; stroke-opacity:0.1; fill:none\" points=\"\n",
       "  232.389,1419.76 2352.76,1419.76 \n",
       "  \"/>\n",
       "<polyline clip-path=\"url(#clip692)\" style=\"stroke:#000000; stroke-linecap:round; stroke-linejoin:round; stroke-width:2; stroke-opacity:0.1; fill:none\" points=\"\n",
       "  232.389,1077.48 2352.76,1077.48 \n",
       "  \"/>\n",
       "<polyline clip-path=\"url(#clip692)\" style=\"stroke:#000000; stroke-linecap:round; stroke-linejoin:round; stroke-width:2; stroke-opacity:0.1; fill:none\" points=\"\n",
       "  232.389,735.212 2352.76,735.212 \n",
       "  \"/>\n",
       "<polyline clip-path=\"url(#clip692)\" style=\"stroke:#000000; stroke-linecap:round; stroke-linejoin:round; stroke-width:2; stroke-opacity:0.1; fill:none\" points=\"\n",
       "  232.389,392.939 2352.76,392.939 \n",
       "  \"/>\n",
       "<polyline clip-path=\"url(#clip692)\" style=\"stroke:#000000; stroke-linecap:round; stroke-linejoin:round; stroke-width:2; stroke-opacity:0.1; fill:none\" points=\"\n",
       "  232.389,50.6668 2352.76,50.6668 \n",
       "  \"/>\n",
       "<polyline clip-path=\"url(#clip690)\" style=\"stroke:#000000; stroke-linecap:round; stroke-linejoin:round; stroke-width:4; stroke-opacity:1; fill:none\" points=\"\n",
       "  232.389,1423.18 232.389,47.2441 \n",
       "  \"/>\n",
       "<polyline clip-path=\"url(#clip690)\" style=\"stroke:#000000; stroke-linecap:round; stroke-linejoin:round; stroke-width:4; stroke-opacity:1; fill:none\" points=\"\n",
       "  232.389,1419.76 251.287,1419.76 \n",
       "  \"/>\n",
       "<polyline clip-path=\"url(#clip690)\" style=\"stroke:#000000; stroke-linecap:round; stroke-linejoin:round; stroke-width:4; stroke-opacity:1; fill:none\" points=\"\n",
       "  232.389,1077.48 251.287,1077.48 \n",
       "  \"/>\n",
       "<polyline clip-path=\"url(#clip690)\" style=\"stroke:#000000; stroke-linecap:round; stroke-linejoin:round; stroke-width:4; stroke-opacity:1; fill:none\" points=\"\n",
       "  232.389,735.212 251.287,735.212 \n",
       "  \"/>\n",
       "<polyline clip-path=\"url(#clip690)\" style=\"stroke:#000000; stroke-linecap:round; stroke-linejoin:round; stroke-width:4; stroke-opacity:1; fill:none\" points=\"\n",
       "  232.389,392.939 251.287,392.939 \n",
       "  \"/>\n",
       "<polyline clip-path=\"url(#clip690)\" style=\"stroke:#000000; stroke-linecap:round; stroke-linejoin:round; stroke-width:4; stroke-opacity:1; fill:none\" points=\"\n",
       "  232.389,50.6668 251.287,50.6668 \n",
       "  \"/>\n",
       "<path clip-path=\"url(#clip690)\" d=\"M114.931 1433.1 L122.57 1433.1 L122.57 1406.74 L114.26 1408.4 L114.26 1404.14 L122.524 1402.48 L127.2 1402.48 L127.2 1433.1 L134.839 1433.1 L134.839 1437.04 L114.931 1437.04 L114.931 1433.1 Z\" fill=\"#000000\" fill-rule=\"evenodd\" fill-opacity=\"1\" /><path clip-path=\"url(#clip690)\" d=\"M154.283 1405.56 Q150.672 1405.56 148.843 1409.12 Q147.038 1412.66 147.038 1419.79 Q147.038 1426.9 148.843 1430.46 Q150.672 1434 154.283 1434 Q157.917 1434 159.723 1430.46 Q161.552 1426.9 161.552 1419.79 Q161.552 1412.66 159.723 1409.12 Q157.917 1405.56 154.283 1405.56 M154.283 1401.85 Q160.093 1401.85 163.149 1406.46 Q166.227 1411.04 166.227 1419.79 Q166.227 1428.52 163.149 1433.13 Q160.093 1437.71 154.283 1437.71 Q148.473 1437.71 145.394 1433.13 Q142.339 1428.52 142.339 1419.79 Q142.339 1411.04 145.394 1406.46 Q148.473 1401.85 154.283 1401.85 Z\" fill=\"#000000\" fill-rule=\"evenodd\" fill-opacity=\"1\" /><path clip-path=\"url(#clip690)\" d=\"M184.445 1405.56 Q180.834 1405.56 179.005 1409.12 Q177.2 1412.66 177.2 1419.79 Q177.2 1426.9 179.005 1430.46 Q180.834 1434 184.445 1434 Q188.079 1434 189.885 1430.46 Q191.713 1426.9 191.713 1419.79 Q191.713 1412.66 189.885 1409.12 Q188.079 1405.56 184.445 1405.56 M184.445 1401.85 Q190.255 1401.85 193.311 1406.46 Q196.389 1411.04 196.389 1419.79 Q196.389 1428.52 193.311 1433.13 Q190.255 1437.71 184.445 1437.71 Q178.635 1437.71 175.556 1433.13 Q172.501 1428.52 172.501 1419.79 Q172.501 1411.04 175.556 1406.46 Q178.635 1401.85 184.445 1401.85 Z\" fill=\"#000000\" fill-rule=\"evenodd\" fill-opacity=\"1\" /><path clip-path=\"url(#clip690)\" d=\"M115.927 1090.83 L123.566 1090.83 L123.566 1064.46 L115.256 1066.13 L115.256 1061.87 L123.519 1060.2 L128.195 1060.2 L128.195 1090.83 L135.834 1090.83 L135.834 1094.76 L115.927 1094.76 L115.927 1090.83 Z\" fill=\"#000000\" fill-rule=\"evenodd\" fill-opacity=\"1\" /><path clip-path=\"url(#clip690)\" d=\"M155.278 1063.28 Q151.667 1063.28 149.839 1066.85 Q148.033 1070.39 148.033 1077.52 Q148.033 1084.63 149.839 1088.19 Q151.667 1091.73 155.278 1091.73 Q158.913 1091.73 160.718 1088.19 Q162.547 1084.63 162.547 1077.52 Q162.547 1070.39 160.718 1066.85 Q158.913 1063.28 155.278 1063.28 M155.278 1059.58 Q161.089 1059.58 164.144 1064.19 Q167.223 1068.77 167.223 1077.52 Q167.223 1086.25 164.144 1090.85 Q161.089 1095.44 155.278 1095.44 Q149.468 1095.44 146.39 1090.85 Q143.334 1086.25 143.334 1077.52 Q143.334 1068.77 146.39 1064.19 Q149.468 1059.58 155.278 1059.58 Z\" fill=\"#000000\" fill-rule=\"evenodd\" fill-opacity=\"1\" /><path clip-path=\"url(#clip690)\" d=\"M175.487 1060.2 L193.843 1060.2 L193.843 1064.14 L179.769 1064.14 L179.769 1072.61 Q180.788 1072.26 181.806 1072.1 Q182.825 1071.92 183.843 1071.92 Q189.63 1071.92 193.01 1075.09 Q196.389 1078.26 196.389 1083.68 Q196.389 1089.26 192.917 1092.36 Q189.445 1095.44 183.126 1095.44 Q180.95 1095.44 178.681 1095.07 Q176.436 1094.7 174.028 1093.95 L174.028 1089.26 Q176.112 1090.39 178.334 1090.95 Q180.556 1091.5 183.033 1091.5 Q187.038 1091.5 189.375 1089.39 Q191.713 1087.29 191.713 1083.68 Q191.713 1080.07 189.375 1077.96 Q187.038 1075.85 183.033 1075.85 Q181.158 1075.85 179.283 1076.27 Q177.431 1076.69 175.487 1077.57 L175.487 1060.2 Z\" fill=\"#000000\" fill-rule=\"evenodd\" fill-opacity=\"1\" /><path clip-path=\"url(#clip690)\" d=\"M114.931 748.557 L122.57 748.557 L122.57 722.191 L114.26 723.858 L114.26 719.599 L122.524 717.932 L127.2 717.932 L127.2 748.557 L134.839 748.557 L134.839 752.492 L114.931 752.492 L114.931 748.557 Z\" fill=\"#000000\" fill-rule=\"evenodd\" fill-opacity=\"1\" /><path clip-path=\"url(#clip690)\" d=\"M145.093 748.557 L152.732 748.557 L152.732 722.191 L144.422 723.858 L144.422 719.599 L152.686 717.932 L157.362 717.932 L157.362 748.557 L165.001 748.557 L165.001 752.492 L145.093 752.492 L145.093 748.557 Z\" fill=\"#000000\" fill-rule=\"evenodd\" fill-opacity=\"1\" /><path clip-path=\"url(#clip690)\" d=\"M184.445 721.011 Q180.834 721.011 179.005 724.575 Q177.2 728.117 177.2 735.247 Q177.2 742.353 179.005 745.918 Q180.834 749.46 184.445 749.46 Q188.079 749.46 189.885 745.918 Q191.713 742.353 191.713 735.247 Q191.713 728.117 189.885 724.575 Q188.079 721.011 184.445 721.011 M184.445 717.307 Q190.255 717.307 193.311 721.913 Q196.389 726.497 196.389 735.247 Q196.389 743.973 193.311 748.58 Q190.255 753.163 184.445 753.163 Q178.635 753.163 175.556 748.58 Q172.501 743.973 172.501 735.247 Q172.501 726.497 175.556 721.913 Q178.635 717.307 184.445 717.307 Z\" fill=\"#000000\" fill-rule=\"evenodd\" fill-opacity=\"1\" /><path clip-path=\"url(#clip690)\" d=\"M115.927 406.284 L123.566 406.284 L123.566 379.919 L115.256 381.585 L115.256 377.326 L123.519 375.659 L128.195 375.659 L128.195 406.284 L135.834 406.284 L135.834 410.219 L115.927 410.219 L115.927 406.284 Z\" fill=\"#000000\" fill-rule=\"evenodd\" fill-opacity=\"1\" /><path clip-path=\"url(#clip690)\" d=\"M146.089 406.284 L153.728 406.284 L153.728 379.919 L145.417 381.585 L145.417 377.326 L153.681 375.659 L158.357 375.659 L158.357 406.284 L165.996 406.284 L165.996 410.219 L146.089 410.219 L146.089 406.284 Z\" fill=\"#000000\" fill-rule=\"evenodd\" fill-opacity=\"1\" /><path clip-path=\"url(#clip690)\" d=\"M175.487 375.659 L193.843 375.659 L193.843 379.595 L179.769 379.595 L179.769 388.067 Q180.788 387.72 181.806 387.557 Q182.825 387.372 183.843 387.372 Q189.63 387.372 193.01 390.544 Q196.389 393.715 196.389 399.131 Q196.389 404.71 192.917 407.812 Q189.445 410.891 183.126 410.891 Q180.95 410.891 178.681 410.52 Q176.436 410.15 174.028 409.409 L174.028 404.71 Q176.112 405.844 178.334 406.4 Q180.556 406.956 183.033 406.956 Q187.038 406.956 189.375 404.849 Q191.713 402.743 191.713 399.131 Q191.713 395.52 189.375 393.414 Q187.038 391.307 183.033 391.307 Q181.158 391.307 179.283 391.724 Q177.431 392.141 175.487 393.02 L175.487 375.659 Z\" fill=\"#000000\" fill-rule=\"evenodd\" fill-opacity=\"1\" /><path clip-path=\"url(#clip690)\" d=\"M114.931 64.0117 L122.57 64.0117 L122.57 37.6461 L114.26 39.3127 L114.26 35.0535 L122.524 33.3868 L127.2 33.3868 L127.2 64.0117 L134.839 64.0117 L134.839 67.9468 L114.931 67.9468 L114.931 64.0117 Z\" fill=\"#000000\" fill-rule=\"evenodd\" fill-opacity=\"1\" /><path clip-path=\"url(#clip690)\" d=\"M148.311 64.0117 L164.63 64.0117 L164.63 67.9468 L142.686 67.9468 L142.686 64.0117 Q145.348 61.257 149.931 56.6274 Q154.538 51.9747 155.718 50.6321 Q157.964 48.109 158.843 46.3729 Q159.746 44.6136 159.746 42.9238 Q159.746 40.1692 157.802 38.4331 Q155.88 36.697 152.778 36.697 Q150.579 36.697 148.126 37.4609 Q145.695 38.2248 142.917 39.7757 L142.917 35.0535 Q145.741 33.9192 148.195 33.3405 Q150.649 32.7618 152.686 32.7618 Q158.056 32.7618 161.251 35.447 Q164.445 38.1322 164.445 42.6229 Q164.445 44.7525 163.635 46.6738 Q162.848 48.5719 160.741 51.1645 Q160.163 51.8358 157.061 55.0534 Q153.959 58.2478 148.311 64.0117 Z\" fill=\"#000000\" fill-rule=\"evenodd\" fill-opacity=\"1\" /><path clip-path=\"url(#clip690)\" d=\"M184.445 36.4655 Q180.834 36.4655 179.005 40.0303 Q177.2 43.572 177.2 50.7015 Q177.2 57.808 179.005 61.3728 Q180.834 64.9144 184.445 64.9144 Q188.079 64.9144 189.885 61.3728 Q191.713 57.808 191.713 50.7015 Q191.713 43.572 189.885 40.0303 Q188.079 36.4655 184.445 36.4655 M184.445 32.7618 Q190.255 32.7618 193.311 37.3683 Q196.389 41.9516 196.389 50.7015 Q196.389 59.4283 193.311 64.0348 Q190.255 68.6181 184.445 68.6181 Q178.635 68.6181 175.556 64.0348 Q172.501 59.4283 172.501 50.7015 Q172.501 41.9516 175.556 37.3683 Q178.635 32.7618 184.445 32.7618 Z\" fill=\"#000000\" fill-rule=\"evenodd\" fill-opacity=\"1\" /><path clip-path=\"url(#clip690)\" d=\"M14.479 818.714 L14.479 812.858 L64.0042 812.858 L64.0042 818.714 L14.479 818.714 Z\" fill=\"#000000\" fill-rule=\"evenodd\" fill-opacity=\"1\" /><path clip-path=\"url(#clip690)\" d=\"M32.4621 786.79 Q32.4621 791.501 36.1542 794.238 Q39.8145 796.975 46.212 796.975 Q52.6095 796.975 56.3017 794.27 Q59.9619 791.533 59.9619 786.79 Q59.9619 782.111 56.2698 779.374 Q52.5777 776.637 46.212 776.637 Q39.8781 776.637 36.186 779.374 Q32.4621 782.111 32.4621 786.79 M27.4968 786.79 Q27.4968 779.151 32.4621 774.791 Q37.4273 770.43 46.212 770.43 Q54.9649 770.43 59.9619 774.791 Q64.9272 779.151 64.9272 786.79 Q64.9272 794.461 59.9619 798.821 Q54.9649 803.15 46.212 803.15 Q37.4273 803.15 32.4621 798.821 Q27.4968 794.461 27.4968 786.79 Z\" fill=\"#000000\" fill-rule=\"evenodd\" fill-opacity=\"1\" /><path clip-path=\"url(#clip690)\" d=\"M45.7664 737.265 Q39.4007 737.265 35.8996 739.907 Q32.3984 742.517 32.3984 747.259 Q32.3984 751.97 35.8996 754.611 Q39.4007 757.221 45.7664 757.221 Q52.1003 757.221 55.6014 754.611 Q59.1026 751.97 59.1026 747.259 Q59.1026 742.517 55.6014 739.907 Q52.1003 737.265 45.7664 737.265 M59.58 731.408 Q68.683 731.408 73.1071 735.451 Q77.5631 739.493 77.5631 747.832 Q77.5631 750.919 77.0857 753.657 Q76.6401 756.394 75.6852 758.972 L69.9879 758.972 Q71.3884 756.394 72.0568 753.879 Q72.7252 751.365 72.7252 748.755 Q72.7252 742.994 69.7015 740.129 Q66.7096 737.265 60.6303 737.265 L57.7339 737.265 Q60.885 739.079 62.4446 741.912 Q64.0042 744.745 64.0042 748.691 Q64.0042 755.248 59.0071 759.258 Q54.01 763.269 45.7664 763.269 Q37.491 763.269 32.4939 759.258 Q27.4968 755.248 27.4968 748.691 Q27.4968 744.745 29.0564 741.912 Q30.616 739.079 33.7671 737.265 L28.3562 737.265 L28.3562 731.408 L59.58 731.408 Z\" fill=\"#000000\" fill-rule=\"evenodd\" fill-opacity=\"1\" /><path clip-path=\"url(#clip690)\" d=\"M14.479 719.345 L14.479 713.489 L64.0042 713.489 L64.0042 719.345 L14.479 719.345 Z\" fill=\"#000000\" fill-rule=\"evenodd\" fill-opacity=\"1\" /><path clip-path=\"url(#clip690)\" d=\"M28.3562 701.235 L28.3562 695.379 L64.0042 695.379 L64.0042 701.235 L28.3562 701.235 M14.479 701.235 L14.479 695.379 L21.895 695.379 L21.895 701.235 L14.479 701.235 Z\" fill=\"#000000\" fill-rule=\"evenodd\" fill-opacity=\"1\" /><path clip-path=\"url(#clip690)\" d=\"M14.479 683.347 L14.479 677.459 L43.7294 677.459 L28.3562 659.985 L28.3562 652.506 L45.0344 671.412 L64.0042 651.71 L64.0042 659.349 L46.5939 677.459 L64.0042 677.459 L64.0042 683.347 L14.479 683.347 Z\" fill=\"#000000\" fill-rule=\"evenodd\" fill-opacity=\"1\" /><polyline clip-path=\"url(#clip692)\" style=\"stroke:#0000ff; stroke-linecap:round; stroke-linejoin:round; stroke-width:4; stroke-opacity:1; fill:none\" points=\"\n",
       "  330.697,851.515 332.625,853.193 334.552,854.799 336.48,856.338 338.408,857.818 340.335,859.241 342.263,860.613 344.19,861.937 346.118,863.217 348.046,864.456 \n",
       "  349.973,865.656 351.901,866.82 353.829,867.951 355.756,869.049 357.684,870.118 359.611,871.158 361.539,872.172 363.467,873.16 365.394,874.125 367.322,875.067 \n",
       "  369.249,875.987 371.177,876.887 373.105,877.767 375.032,878.629 376.96,879.473 378.887,880.3 380.815,881.11 382.743,881.906 384.67,882.686 386.598,883.452 \n",
       "  388.525,884.204 390.453,884.943 392.381,885.669 394.308,886.383 396.236,887.086 398.163,887.777 400.091,888.457 402.019,889.126 403.946,889.786 405.874,890.435 \n",
       "  407.801,891.076 409.729,891.707 411.657,892.329 413.584,892.942 415.512,893.547 417.44,894.144 419.367,894.734 421.295,895.315 423.222,895.89 425.15,896.457 \n",
       "  427.078,897.017 429.005,897.571 430.933,898.118 432.86,898.658 434.788,899.193 436.716,899.721 438.643,900.244 440.571,900.76 442.498,901.272 444.426,901.777 \n",
       "  446.354,902.278 448.281,902.773 450.209,903.264 452.136,903.749 454.064,904.23 455.992,904.706 457.919,905.177 459.847,905.644 461.774,906.107 463.702,906.565 \n",
       "  465.63,907.02 467.557,907.47 469.485,907.916 471.412,908.358 473.34,908.797 475.268,909.232 477.195,909.663 479.123,910.091 481.051,910.515 482.978,910.936 \n",
       "  484.906,911.353 486.833,911.767 488.761,912.178 490.689,912.586 492.616,912.991 494.544,913.393 496.471,913.792 498.399,914.187 500.327,914.58 502.254,914.971 \n",
       "  504.182,915.358 506.109,915.743 508.037,916.125 509.965,916.505 511.892,916.882 513.82,917.256 515.747,917.629 517.675,917.998 519.603,918.366 521.53,918.731 \n",
       "  523.458,919.093 525.385,919.454 527.313,919.812 529.241,920.168 531.168,920.522 533.096,920.874 535.023,921.224 536.951,921.572 538.879,921.918 540.806,922.262 \n",
       "  542.734,922.604 544.662,922.944 546.589,923.282 548.517,923.618 550.444,923.953 552.372,924.286 554.3,924.617 556.227,924.946 558.155,925.273 560.082,925.599 \n",
       "  562.01,925.924 563.938,926.246 565.865,926.568 567.793,926.887 569.72,927.205 571.648,927.521 573.576,927.836 575.503,928.15 577.431,928.462 579.358,928.773 \n",
       "  581.286,929.082 583.214,929.389 585.141,929.696 587.069,930.001 588.996,930.305 590.924,930.607 592.852,930.908 594.779,931.208 596.707,931.507 598.634,931.804 \n",
       "  600.562,932.1 602.49,932.395 604.417,932.689 606.345,932.981 608.273,933.272 610.2,933.563 612.128,933.852 614.055,934.14 615.983,934.427 617.911,934.712 \n",
       "  619.838,934.997 621.766,935.281 623.693,935.563 625.621,935.845 627.549,936.125 629.476,936.405 631.404,936.684 633.331,936.961 635.259,937.238 637.187,937.513 \n",
       "  639.114,937.788 641.042,938.062 642.969,938.335 644.897,938.607 646.825,938.878 648.752,939.148 650.68,939.418 652.607,939.686 654.535,939.954 656.463,940.221 \n",
       "  658.39,940.487 660.318,940.752 662.245,941.016 664.173,941.28 666.101,941.542 668.028,941.804 669.956,942.066 671.884,942.326 673.811,942.586 675.739,942.845 \n",
       "  677.666,943.103 679.594,943.36 681.522,943.617 683.449,943.873 685.377,944.129 687.304,944.383 689.232,944.637 691.16,944.891 693.087,945.143 695.015,945.396 \n",
       "  696.942,945.647 698.87,945.898 700.798,946.148 702.725,946.397 704.653,946.646 706.58,946.894 708.508,947.142 710.436,947.389 712.363,947.635 714.291,947.881 \n",
       "  716.218,948.127 718.146,948.371 720.074,948.615 722.001,948.859 723.929,949.102 725.856,949.345 727.784,949.587 729.712,949.828 731.639,950.069 733.567,950.309 \n",
       "  735.495,950.549 737.422,950.789 739.35,951.027 741.277,951.266 743.205,951.504 745.133,951.741 747.06,951.978 748.988,952.214 750.915,952.45 752.843,952.686 \n",
       "  754.771,952.921 756.698,953.156 758.626,953.39 760.553,953.623 762.481,953.857 764.409,954.09 766.336,954.322 768.264,954.554 770.191,954.786 772.119,955.017 \n",
       "  774.047,955.247 775.974,955.478 777.902,955.708 779.829,955.937 781.757,956.167 783.685,956.395 785.612,956.624 787.54,956.852 789.467,957.079 791.395,957.307 \n",
       "  793.323,957.534 795.25,957.76 797.178,957.987 799.105,958.212 801.033,958.438 802.961,958.663 804.888,958.888 806.816,959.112 808.744,959.337 810.671,959.561 \n",
       "  812.599,959.784 814.526,960.007 816.454,960.23 818.382,960.453 820.309,960.675 822.237,960.897 824.164,961.119 826.092,961.34 828.02,961.561 829.947,961.782 \n",
       "  831.875,962.003 833.802,962.223 835.73,962.443 837.658,962.663 839.585,962.882 841.513,963.101 843.44,963.32 845.368,963.539 847.296,963.757 849.223,963.975 \n",
       "  851.151,964.193 853.078,964.411 855.006,964.628 856.934,964.845 858.861,965.062 860.789,965.279 862.716,965.495 864.644,965.711 866.572,965.927 868.499,966.143 \n",
       "  870.427,966.359 872.355,966.574 874.282,966.789 876.21,967.004 878.137,967.219 880.065,967.433 881.993,967.647 883.92,967.861 885.848,968.075 887.775,968.289 \n",
       "  889.703,968.503 891.631,968.716 893.558,968.929 895.486,969.142 897.413,969.355 899.341,969.567 901.269,969.78 903.196,969.992 905.124,970.204 907.051,970.416 \n",
       "  908.979,970.627 910.907,970.839 912.834,971.05 914.762,971.262 916.689,971.473 918.617,971.684 920.545,971.894 922.472,972.105 924.4,972.315 926.327,972.526 \n",
       "  928.255,972.736 930.183,972.946 932.11,973.156 934.038,973.366 935.966,973.575 937.893,973.785 939.821,973.994 941.748,974.204 943.676,974.413 945.604,974.622 \n",
       "  947.531,974.831 949.459,975.039 951.386,975.248 953.314,975.457 955.242,975.665 957.169,975.873 959.097,976.082 961.024,976.29 962.952,976.498 964.88,976.706 \n",
       "  966.807,976.914 968.735,977.121 970.662,977.329 972.59,977.537 974.518,977.744 976.445,977.951 978.373,978.159 980.3,978.366 982.228,978.573 984.156,978.78 \n",
       "  986.083,978.987 988.011,979.194 989.938,979.401 991.866,979.608 993.794,979.814 995.721,980.021 997.649,980.228 999.577,980.434 1001.5,980.641 1003.43,980.847 \n",
       "  1005.36,981.053 1007.29,981.26 1009.21,981.466 1011.14,981.672 1013.07,981.878 1015,982.084 1016.92,982.29 1018.85,982.496 1020.78,982.702 1022.71,982.908 \n",
       "  1024.64,983.114 1026.56,983.32 1028.49,983.525 1030.42,983.731 1032.35,983.937 1034.27,984.143 1036.2,984.348 1038.13,984.554 1040.06,984.76 1041.98,984.965 \n",
       "  1043.91,985.171 1045.84,985.376 1047.77,985.582 1049.69,985.787 1051.62,985.993 1053.55,986.198 1055.48,986.404 1057.4,986.609 1059.33,986.815 1061.26,987.02 \n",
       "  1063.19,987.226 1065.12,987.431 1067.04,987.637 1068.97,987.842 1070.9,988.048 1072.83,988.253 1074.75,988.458 1076.68,988.664 1078.61,988.869 1080.54,989.075 \n",
       "  1082.46,989.28 1084.39,989.486 1086.32,989.692 1088.25,989.897 1090.17,990.103 1092.1,990.308 1094.03,990.514 1095.96,990.72 1097.88,990.925 1099.81,991.131 \n",
       "  1101.74,991.337 1103.67,991.542 1105.59,991.748 1107.52,991.954 1109.45,992.16 1111.38,992.366 1113.31,992.572 1115.23,992.778 1117.16,992.984 1119.09,993.19 \n",
       "  1121.02,993.396 1122.94,993.602 1124.87,993.808 1126.8,994.014 1128.73,994.221 1130.65,994.427 1132.58,994.633 1134.51,994.84 1136.44,995.046 1138.36,995.253 \n",
       "  1140.29,995.459 1142.22,995.666 1144.15,995.873 1146.07,996.08 1148,996.286 1149.93,996.493 1151.86,996.7 1153.78,996.907 1155.71,997.115 1157.64,997.322 \n",
       "  1159.57,997.529 1161.5,997.736 1163.42,997.944 1165.35,998.151 1167.28,998.359 1169.21,998.567 1171.13,998.774 1173.06,998.982 1174.99,999.19 1176.92,999.398 \n",
       "  1178.84,999.606 1180.77,999.814 1182.7,1000.02 1184.63,1000.23 1186.55,1000.44 1188.48,1000.65 1190.41,1000.86 1192.34,1001.07 1194.26,1001.27 1196.19,1001.48 \n",
       "  1198.12,1001.69 1200.05,1001.9 1201.98,1002.11 1203.9,1002.32 1205.83,1002.53 1207.76,1002.74 1209.69,1002.95 1211.61,1003.16 1213.54,1003.37 1215.47,1003.58 \n",
       "  1217.4,1003.79 1219.32,1004 1221.25,1004.21 1223.18,1004.42 1225.11,1004.63 1227.03,1004.84 1228.96,1005.05 1230.89,1005.26 1232.82,1005.47 1234.74,1005.69 \n",
       "  1236.67,1005.9 1238.6,1006.11 1240.53,1006.32 1242.45,1006.53 1244.38,1006.74 1246.31,1006.96 1248.24,1007.17 1250.17,1007.38 1252.09,1007.59 1254.02,1007.81 \n",
       "  1255.95,1008.02 1257.88,1008.23 1259.8,1008.45 1261.73,1008.66 1263.66,1008.87 1265.59,1009.09 1267.51,1009.3 1269.44,1009.51 1271.37,1009.73 1273.3,1009.94 \n",
       "  1275.22,1010.16 1277.15,1010.37 1279.08,1010.59 1281.01,1010.8 1282.93,1011.02 1284.86,1011.23 1286.79,1011.45 1288.72,1011.66 1290.65,1011.88 1292.57,1012.09 \n",
       "  1294.5,1012.31 1296.43,1012.53 1298.36,1012.74 1300.28,1012.96 1302.21,1013.17 1304.14,1013.39 1306.07,1013.61 1307.99,1013.83 1309.92,1014.04 1311.85,1014.26 \n",
       "  1313.78,1014.48 1315.7,1014.7 1317.63,1014.92 1319.56,1015.13 1321.49,1015.35 1323.41,1015.57 1325.34,1015.79 1327.27,1016.01 1329.2,1016.23 1331.12,1016.45 \n",
       "  1333.05,1016.67 1334.98,1016.89 1336.91,1017.11 1338.84,1017.33 1340.76,1017.55 1342.69,1017.77 1344.62,1017.99 1346.55,1018.21 1348.47,1018.44 1350.4,1018.66 \n",
       "  1352.33,1018.88 1354.26,1019.1 1356.18,1019.32 1358.11,1019.55 1360.04,1019.77 1361.97,1019.99 1363.89,1020.22 1365.82,1020.44 1367.75,1020.66 1369.68,1020.89 \n",
       "  1371.6,1021.11 1373.53,1021.34 1375.46,1021.56 1377.39,1021.79 1379.31,1022.01 1381.24,1022.24 1383.17,1022.46 1385.1,1022.69 1387.03,1022.91 1388.95,1023.14 \n",
       "  1390.88,1023.37 1392.81,1023.59 1394.74,1023.82 1396.66,1024.05 1398.59,1024.28 1400.52,1024.5 1402.45,1024.73 1404.37,1024.96 1406.3,1025.19 1408.23,1025.42 \n",
       "  1410.16,1025.65 1412.08,1025.88 1414.01,1026.11 1415.94,1026.34 1417.87,1026.57 1419.79,1026.8 1421.72,1027.03 1423.65,1027.26 1425.58,1027.49 1427.51,1027.72 \n",
       "  1429.43,1027.96 1431.36,1028.19 1433.29,1028.42 1435.22,1028.65 1437.14,1028.89 1439.07,1029.12 1441,1029.36 1442.93,1029.59 1444.85,1029.82 1446.78,1030.06 \n",
       "  1448.71,1030.29 1450.64,1030.53 1452.56,1030.76 1454.49,1031 1456.42,1031.24 1458.35,1031.47 1460.27,1031.71 1462.2,1031.95 1464.13,1032.18 1466.06,1032.42 \n",
       "  1467.98,1032.66 1469.91,1032.9 1471.84,1033.14 1473.77,1033.38 1475.7,1033.62 1477.62,1033.86 1479.55,1034.1 1481.48,1034.34 1483.41,1034.58 1485.33,1034.82 \n",
       "  1487.26,1035.06 1489.19,1035.3 1491.12,1035.54 1493.04,1035.78 1494.97,1036.03 1496.9,1036.27 1498.83,1036.51 1500.75,1036.76 1502.68,1037 1504.61,1037.25 \n",
       "  1506.54,1037.49 1508.46,1037.74 1510.39,1037.98 1512.32,1038.23 1514.25,1038.47 1516.17,1038.72 1518.1,1038.97 1520.03,1039.21 1521.96,1039.46 1523.89,1039.71 \n",
       "  1525.81,1039.96 1527.74,1040.21 1529.67,1040.46 1531.6,1040.71 1533.52,1040.96 1535.45,1041.21 1537.38,1041.46 1539.31,1041.71 1541.23,1041.96 1543.16,1042.21 \n",
       "  1545.09,1042.46 1547.02,1042.72 1548.94,1042.97 1550.87,1043.22 1552.8,1043.48 1554.73,1043.73 1556.65,1043.99 1558.58,1044.24 1560.51,1044.5 1562.44,1044.75 \n",
       "  1564.37,1045.01 1566.29,1045.26 1568.22,1045.52 1570.15,1045.78 1572.08,1046.04 1574,1046.3 1575.93,1046.55 1577.86,1046.81 1579.79,1047.07 1581.71,1047.33 \n",
       "  1583.64,1047.59 1585.57,1047.86 1587.5,1048.12 1589.42,1048.38 1591.35,1048.64 1593.28,1048.9 1595.21,1049.17 1597.13,1049.43 1599.06,1049.69 1600.99,1049.96 \n",
       "  1602.92,1050.22 1604.84,1050.49 1606.77,1050.76 1608.7,1051.02 1610.63,1051.29 1612.56,1051.56 1614.48,1051.82 1616.41,1052.09 1618.34,1052.36 1620.27,1052.63 \n",
       "  1622.19,1052.9 1624.12,1053.17 1626.05,1053.44 1627.98,1053.71 1629.9,1053.98 1631.83,1054.26 1633.76,1054.53 1635.69,1054.8 1637.61,1055.08 1639.54,1055.35 \n",
       "  1641.47,1055.62 1643.4,1055.9 1645.32,1056.18 1647.25,1056.45 1649.18,1056.73 1651.11,1057.01 1653.03,1057.28 1654.96,1057.56 1656.89,1057.84 1658.82,1058.12 \n",
       "  1660.75,1058.4 1662.67,1058.68 1664.6,1058.96 1666.53,1059.24 1668.46,1059.52 1670.38,1059.81 1672.31,1060.09 1674.24,1060.37 1676.17,1060.66 1678.09,1060.94 \n",
       "  1680.02,1061.23 1681.95,1061.51 1683.88,1061.8 1685.8,1062.09 1687.73,1062.37 1689.66,1062.66 1691.59,1062.95 1693.51,1063.24 1695.44,1063.53 1697.37,1063.82 \n",
       "  1699.3,1064.11 1701.23,1064.4 1703.15,1064.7 1705.08,1064.99 1707.01,1065.28 1708.94,1065.58 1710.86,1065.87 1712.79,1066.17 1714.72,1066.46 1716.65,1066.76 \n",
       "  1718.57,1067.05 1720.5,1067.35 1722.43,1067.65 1724.36,1067.95 1726.28,1068.25 1728.21,1068.55 1730.14,1068.85 1732.07,1069.15 1733.99,1069.45 1735.92,1069.76 \n",
       "  1737.85,1070.06 1739.78,1070.36 1741.7,1070.67 1743.63,1070.97 1745.56,1071.28 1747.49,1071.59 1749.42,1071.89 1751.34,1072.2 1753.27,1072.51 1755.2,1072.82 \n",
       "  1757.13,1073.13 1759.05,1073.44 1760.98,1073.75 1762.91,1074.06 1764.84,1074.38 1766.76,1074.69 1768.69,1075 1770.62,1075.32 1772.55,1075.63 1774.47,1075.95 \n",
       "  1776.4,1076.27 1778.33,1076.59 1780.26,1076.9 1782.18,1077.22 1784.11,1077.54 1786.04,1077.86 1787.97,1078.19 1789.89,1078.51 1791.82,1078.83 1793.75,1079.15 \n",
       "  1795.68,1079.48 1797.61,1079.8 1799.53,1080.13 1801.46,1080.46 1803.39,1080.78 1805.32,1081.11 1807.24,1081.44 1809.17,1081.77 1811.1,1082.1 1813.03,1082.43 \n",
       "  1814.95,1082.76 1816.88,1083.1 1818.81,1083.43 1820.74,1083.76 1822.66,1084.1 1824.59,1084.44 1826.52,1084.77 1828.45,1085.11 1830.37,1085.45 1832.3,1085.79 \n",
       "  1834.23,1086.13 1836.16,1086.47 1838.09,1086.81 1840.01,1087.15 1841.94,1087.5 1843.87,1087.84 1845.8,1088.19 1847.72,1088.53 1849.65,1088.88 1851.58,1089.23 \n",
       "  1853.51,1089.58 1855.43,1089.93 1857.36,1090.28 1859.29,1090.63 1861.22,1090.98 1863.14,1091.33 1865.07,1091.69 1867,1092.04 1868.93,1092.4 1870.85,1092.76 \n",
       "  1872.78,1093.11 1874.71,1093.47 1876.64,1093.83 1878.56,1094.19 1880.49,1094.55 1882.42,1094.92 1884.35,1095.28 1886.28,1095.64 1888.2,1096.01 1890.13,1096.38 \n",
       "  1892.06,1096.74 1893.99,1097.11 1895.91,1097.48 1897.84,1097.85 1899.77,1098.22 1901.7,1098.59 1903.62,1098.97 1905.55,1099.34 1907.48,1099.72 1909.41,1100.09 \n",
       "  1911.33,1100.47 1913.26,1100.85 1915.19,1101.23 1917.12,1101.61 1919.04,1101.99 1920.97,1102.37 1922.9,1102.75 1924.83,1103.14 1926.75,1103.52 1928.68,1103.91 \n",
       "  1930.61,1104.3 1932.54,1104.69 1934.47,1105.08 1936.39,1105.47 1938.32,1105.86 1940.25,1106.25 1942.18,1106.65 1944.1,1107.04 1946.03,1107.44 1947.96,1107.84 \n",
       "  1949.89,1108.24 1951.81,1108.64 1953.74,1109.04 1955.67,1109.44 1957.6,1109.84 1959.52,1110.25 1961.45,1110.66 1963.38,1111.06 1965.31,1111.47 1967.23,1111.88 \n",
       "  1969.16,1112.29 1971.09,1112.7 1973.02,1113.12 1974.95,1113.53 1976.87,1113.94 1978.8,1114.36 1980.73,1114.78 1982.66,1115.2 1984.58,1115.62 1986.51,1116.04 \n",
       "  1988.44,1116.46 1990.37,1116.89 1992.29,1117.31 1994.22,1117.74 1996.15,1118.17 1998.08,1118.6 2000,1119.03 2001.93,1119.46 2003.86,1119.89 2005.79,1120.33 \n",
       "  2007.71,1120.77 2009.64,1121.2 2011.57,1121.64 2013.5,1122.08 2015.42,1122.52 2017.35,1122.97 2019.28,1123.41 2021.21,1123.86 2023.14,1124.3 2025.06,1124.75 \n",
       "  2026.99,1125.2 2028.92,1125.65 2030.85,1126.11 2032.77,1126.56 2034.7,1127.02 2036.63,1127.47 2038.56,1127.93 2040.48,1128.39 2042.41,1128.86 2044.34,1129.32 \n",
       "  2046.27,1129.78 2048.19,1130.25 2050.12,1130.72 2052.05,1131.19 2053.98,1131.66 2055.9,1132.13 2057.83,1132.6 2059.76,1133.08 2061.69,1133.56 2063.62,1134.04 \n",
       "  2065.54,1134.52 2067.47,1135 2069.4,1135.48 2071.33,1135.97 2073.25,1136.45 2075.18,1136.94 2077.11,1137.43 2079.04,1137.92 2080.96,1138.42 2082.89,1138.91 \n",
       "  2084.82,1139.41 2086.75,1139.91 2088.67,1140.41 2090.6,1140.91 2092.53,1141.41 2094.46,1141.92 2096.38,1142.43 2098.31,1142.94 2100.24,1143.45 2102.17,1143.96 \n",
       "  2104.09,1144.47 2106.02,1144.99 2107.95,1145.51 2109.88,1146.03 2111.81,1146.55 2113.73,1147.07 2115.66,1147.6 2117.59,1148.13 2119.52,1148.66 2121.44,1149.19 \n",
       "  2123.37,1149.72 2125.3,1150.26 2127.23,1150.79 2129.15,1151.33 2131.08,1151.87 2133.01,1152.42 2134.94,1152.96 2136.86,1153.51 2138.79,1154.06 2140.72,1154.61 \n",
       "  2142.65,1155.16 2144.57,1155.72 2146.5,1156.27 2148.43,1156.83 2150.36,1157.39 2152.28,1157.96 2154.21,1158.52 2156.14,1159.09 2158.07,1159.66 2160,1160.23 \n",
       "  2161.92,1160.81 2163.85,1161.38 2165.78,1161.96 2167.71,1162.54 2169.63,1163.13 2171.56,1163.71 2173.49,1164.3 2175.42,1164.89 2177.34,1165.48 2179.27,1166.08 \n",
       "  2181.2,1166.67 2183.13,1167.27 2185.05,1167.87 2186.98,1168.48 2188.91,1169.08 2190.84,1169.69 2192.76,1170.3 2194.69,1170.92 2196.62,1171.53 2198.55,1172.15 \n",
       "  2200.48,1172.77 2202.4,1173.4 2204.33,1174.02 2206.26,1174.65 2208.19,1175.28 2210.11,1175.92 2212.04,1176.55 2213.97,1177.19 2215.9,1177.84 2217.82,1178.48 \n",
       "  2219.75,1179.13 2221.68,1179.78 2223.61,1180.43 2225.53,1181.08 2227.46,1181.74 2229.39,1182.4 2231.32,1183.07 2233.24,1183.73 2235.17,1184.4 2237.1,1185.07 \n",
       "  2239.03,1185.75 2240.95,1186.43 2242.88,1187.11 2244.81,1187.79 2246.74,1188.48 2248.67,1189.17 2250.59,1189.86 2252.52,1190.56 2254.45,1191.25 \n",
       "  \"/>\n",
       "<circle clip-path=\"url(#clip692)\" cx=\"330.697\" cy=\"851.515\" r=\"14.4\" fill=\"#0000ff\" fill-rule=\"evenodd\" fill-opacity=\"1\" stroke=\"#000000\" stroke-opacity=\"1\" stroke-width=\"3.2\"/>\n",
       "<polyline clip-path=\"url(#clip692)\" style=\"stroke:#ff0000; stroke-linecap:round; stroke-linejoin:round; stroke-width:4; stroke-opacity:1; fill:none\" points=\"\n",
       "  330.697,720.376 332.625,722.043 334.552,723.638 336.48,725.167 338.408,726.636 340.335,728.048 342.263,729.41 344.19,730.723 346.118,731.992 348.046,733.22 \n",
       "  349.973,734.41 351.901,735.563 353.829,736.683 355.756,737.77 357.684,738.828 359.611,739.858 361.539,740.861 363.467,741.838 365.394,742.792 367.322,743.723 \n",
       "  369.249,744.632 371.177,745.521 373.105,746.391 375.032,747.241 376.96,748.074 378.887,748.89 380.815,749.69 382.743,750.474 384.67,751.243 386.598,751.998 \n",
       "  388.525,752.739 390.453,753.467 392.381,754.183 394.308,754.886 396.236,755.577 398.163,756.257 400.091,756.926 402.019,757.584 403.946,758.233 405.874,758.871 \n",
       "  407.801,759.5 409.729,760.12 411.657,760.731 413.584,761.333 415.512,761.927 417.44,762.513 419.367,763.091 421.295,763.661 423.222,764.225 425.15,764.78 \n",
       "  427.078,765.329 429.005,765.872 430.933,766.407 432.86,766.937 434.788,767.46 436.716,767.977 438.643,768.488 440.571,768.993 442.498,769.493 444.426,769.987 \n",
       "  446.354,770.477 448.281,770.961 450.209,771.439 452.136,771.913 454.064,772.383 455.992,772.847 457.919,773.307 459.847,773.763 461.774,774.214 463.702,774.661 \n",
       "  465.63,775.103 467.557,775.542 469.485,775.977 471.412,776.407 473.34,776.834 475.268,777.258 477.195,777.677 479.123,778.093 481.051,778.506 482.978,778.915 \n",
       "  484.906,779.321 486.833,779.723 488.761,780.122 490.689,780.518 492.616,780.911 494.544,781.301 496.471,781.688 498.399,782.072 500.327,782.454 502.254,782.832 \n",
       "  504.182,783.208 506.109,783.581 508.037,783.951 509.965,784.319 511.892,784.684 513.82,785.047 515.747,785.407 517.675,785.765 519.603,786.12 521.53,786.473 \n",
       "  523.458,786.824 525.385,787.172 527.313,787.519 529.241,787.863 531.168,788.205 533.096,788.544 535.023,788.882 536.951,789.218 538.879,789.552 540.806,789.883 \n",
       "  542.734,790.213 544.662,790.541 546.589,790.867 548.517,791.191 550.444,791.514 552.372,791.834 554.3,792.153 556.227,792.47 558.155,792.785 560.082,793.099 \n",
       "  562.01,793.411 563.938,793.722 565.865,794.03 567.793,794.338 569.72,794.643 571.648,794.947 573.576,795.25 575.503,795.551 577.431,795.85 579.358,796.149 \n",
       "  581.286,796.445 583.214,796.741 585.141,797.035 587.069,797.327 588.996,797.618 590.924,797.908 592.852,798.197 594.779,798.484 596.707,798.77 598.634,799.055 \n",
       "  600.562,799.338 602.49,799.621 604.417,799.902 606.345,800.182 608.273,800.46 610.2,800.738 612.128,801.014 614.055,801.289 615.983,801.564 617.911,801.837 \n",
       "  619.838,802.109 621.766,802.379 623.693,802.649 625.621,802.918 627.549,803.186 629.476,803.452 631.404,803.718 633.331,803.983 635.259,804.247 637.187,804.509 \n",
       "  639.114,804.771 641.042,805.032 642.969,805.292 644.897,805.551 646.825,805.809 648.752,806.066 650.68,806.323 652.607,806.578 654.535,806.833 656.463,807.086 \n",
       "  658.39,807.339 660.318,807.591 662.245,807.843 664.173,808.093 666.101,808.343 668.028,808.591 669.956,808.839 671.884,809.087 673.811,809.333 675.739,809.579 \n",
       "  677.666,809.824 679.594,810.068 681.522,810.312 683.449,810.554 685.377,810.797 687.304,811.038 689.232,811.279 691.16,811.518 693.087,811.758 695.015,811.996 \n",
       "  696.942,812.234 698.87,812.472 700.798,812.708 702.725,812.944 704.653,813.18 706.58,813.414 708.508,813.648 710.436,813.882 712.363,814.115 714.291,814.347 \n",
       "  716.218,814.579 718.146,814.81 720.074,815.04 722.001,815.27 723.929,815.5 725.856,815.728 727.784,815.957 729.712,816.184 731.639,816.411 733.567,816.638 \n",
       "  735.495,816.864 737.422,817.09 739.35,817.315 741.277,817.539 743.205,817.763 745.133,817.987 747.06,818.21 748.988,818.432 750.915,818.654 752.843,818.876 \n",
       "  754.771,819.097 756.698,819.318 758.626,819.538 760.553,819.757 762.481,819.977 764.409,820.195 766.336,820.414 768.264,820.632 770.191,820.849 772.119,821.066 \n",
       "  774.047,821.283 775.974,821.499 777.902,821.715 779.829,821.93 781.757,822.145 783.685,822.359 785.612,822.574 787.54,822.787 789.467,823.001 791.395,823.214 \n",
       "  793.323,823.426 795.25,823.638 797.178,823.85 799.105,824.062 801.033,824.273 802.961,824.484 804.888,824.694 806.816,824.904 808.744,825.114 810.671,825.323 \n",
       "  812.599,825.532 814.526,825.741 816.454,825.949 818.382,826.157 820.309,826.365 822.237,826.572 824.164,826.779 826.092,826.986 828.02,827.192 829.947,827.398 \n",
       "  831.875,827.604 833.802,827.809 835.73,828.015 837.658,828.219 839.585,828.424 841.513,828.628 843.44,828.832 845.368,829.036 847.296,829.24 849.223,829.443 \n",
       "  851.151,829.646 853.078,829.848 855.006,830.051 856.934,830.253 858.861,830.455 860.789,830.656 862.716,830.858 864.644,831.059 866.572,831.26 868.499,831.46 \n",
       "  870.427,831.661 872.355,831.861 874.282,832.061 876.21,832.26 878.137,832.46 880.065,832.659 881.993,832.858 883.92,833.057 885.848,833.255 887.775,833.453 \n",
       "  889.703,833.652 891.631,833.849 893.558,834.047 895.486,834.245 897.413,834.442 899.341,834.639 901.269,834.836 903.196,835.033 905.124,835.229 907.051,835.425 \n",
       "  908.979,835.621 910.907,835.817 912.834,836.013 914.762,836.209 916.689,836.404 918.617,836.599 920.545,836.794 922.472,836.989 924.4,837.184 926.327,837.378 \n",
       "  928.255,837.573 930.183,837.767 932.11,837.961 934.038,838.155 935.966,838.349 937.893,838.542 939.821,838.736 941.748,838.929 943.676,839.122 945.604,839.315 \n",
       "  947.531,839.508 949.459,839.701 951.386,839.893 953.314,840.086 955.242,840.278 957.169,840.47 959.097,840.662 961.024,840.854 962.952,841.046 964.88,841.238 \n",
       "  966.807,841.429 968.735,841.621 970.662,841.812 972.59,842.003 974.518,842.194 976.445,842.385 978.373,842.576 980.3,842.767 982.228,842.957 984.156,843.148 \n",
       "  986.083,843.339 988.011,843.529 989.938,843.719 991.866,843.909 993.794,844.099 995.721,844.289 997.649,844.479 999.577,844.669 1001.5,844.859 1003.43,845.048 \n",
       "  1005.36,845.238 1007.29,845.428 1009.21,845.617 1011.14,845.806 1013.07,845.996 1015,846.185 1016.92,846.374 1018.85,846.563 1020.78,846.752 1022.71,846.941 \n",
       "  1024.64,847.13 1026.56,847.318 1028.49,847.507 1030.42,847.696 1032.35,847.884 1034.27,848.073 1036.2,848.261 1038.13,848.45 1040.06,848.638 1041.98,848.827 \n",
       "  1043.91,849.015 1045.84,849.203 1047.77,849.391 1049.69,849.58 1051.62,849.768 1053.55,849.956 1055.48,850.144 1057.4,850.332 1059.33,850.52 1061.26,850.708 \n",
       "  1063.19,850.896 1065.12,851.084 1067.04,851.271 1068.97,851.459 1070.9,851.647 1072.83,851.835 1074.75,852.023 1076.68,852.21 1078.61,852.398 1080.54,852.586 \n",
       "  1082.46,852.774 1084.39,852.961 1086.32,853.149 1088.25,853.337 1090.17,853.524 1092.1,853.712 1094.03,853.9 1095.96,854.087 1097.88,854.275 1099.81,854.463 \n",
       "  1101.74,854.65 1103.67,854.838 1105.59,855.026 1107.52,855.213 1109.45,855.401 1111.38,855.589 1113.31,855.776 1115.23,855.964 1117.16,856.152 1119.09,856.339 \n",
       "  1121.02,856.527 1122.94,856.715 1124.87,856.903 1126.8,857.09 1128.73,857.278 1130.65,857.466 1132.58,857.654 1134.51,857.842 1136.44,858.03 1138.36,858.218 \n",
       "  1140.29,858.406 1142.22,858.594 1144.15,858.782 1146.07,858.97 1148,859.158 1149.93,859.346 1151.86,859.534 1153.78,859.722 1155.71,859.911 1157.64,860.099 \n",
       "  1159.57,860.287 1161.5,860.476 1163.42,860.664 1165.35,860.852 1167.28,861.041 1169.21,861.23 1171.13,861.418 1173.06,861.607 1174.99,861.796 1176.92,861.984 \n",
       "  1178.84,862.173 1180.77,862.362 1182.7,862.551 1184.63,862.74 1186.55,862.929 1188.48,863.119 1190.41,863.308 1192.34,863.497 1194.26,863.686 1196.19,863.876 \n",
       "  1198.12,864.065 1200.05,864.255 1201.98,864.445 1203.9,864.634 1205.83,864.824 1207.76,865.014 1209.69,865.204 1211.61,865.394 1213.54,865.584 1215.47,865.775 \n",
       "  1217.4,865.965 1219.32,866.155 1221.25,866.346 1223.18,866.536 1225.11,866.727 1227.03,866.918 1228.96,867.109 1230.89,867.3 1232.82,867.491 1234.74,867.682 \n",
       "  1236.67,867.873 1238.6,868.064 1240.53,868.256 1242.45,868.447 1244.38,868.639 1246.31,868.831 1248.24,869.022 1250.17,869.214 1252.09,869.407 1254.02,869.599 \n",
       "  1255.95,869.791 1257.88,869.983 1259.8,870.176 1261.73,870.369 1263.66,870.561 1265.59,870.754 1267.51,870.947 1269.44,871.14 1271.37,871.334 1273.3,871.527 \n",
       "  1275.22,871.72 1277.15,871.914 1279.08,872.108 1281.01,872.302 1282.93,872.496 1284.86,872.69 1286.79,872.884 1288.72,873.079 1290.65,873.273 1292.57,873.468 \n",
       "  1294.5,873.663 1296.43,873.858 1298.36,874.053 1300.28,874.248 1302.21,874.443 1304.14,874.639 1306.07,874.835 1307.99,875.031 1309.92,875.227 1311.85,875.423 \n",
       "  1313.78,875.619 1315.7,875.815 1317.63,876.012 1319.56,876.209 1321.49,876.406 1323.41,876.603 1325.34,876.8 1327.27,876.997 1329.2,877.195 1331.12,877.393 \n",
       "  1333.05,877.591 1334.98,877.789 1336.91,877.987 1338.84,878.185 1340.76,878.384 1342.69,878.583 1344.62,878.782 1346.55,878.981 1348.47,879.18 1350.4,879.38 \n",
       "  1352.33,879.579 1354.26,879.779 1356.18,879.979 1358.11,880.179 1360.04,880.38 1361.97,880.58 1363.89,880.781 1365.82,880.982 1367.75,881.183 1369.68,881.385 \n",
       "  1371.6,881.586 1373.53,881.788 1375.46,881.99 1377.39,882.192 1379.31,882.394 1381.24,882.597 1383.17,882.8 1385.1,883.003 1387.03,883.206 1388.95,883.409 \n",
       "  1390.88,883.613 1392.81,883.816 1394.74,884.02 1396.66,884.225 1398.59,884.429 1400.52,884.634 1402.45,884.839 1404.37,885.044 1406.3,885.249 1408.23,885.455 \n",
       "  1410.16,885.66 1412.08,885.866 1414.01,886.073 1415.94,886.279 1417.87,886.486 1419.79,886.693 1421.72,886.9 1423.65,887.107 1425.58,887.315 1427.51,887.523 \n",
       "  1429.43,887.731 1431.36,887.939 1433.29,888.148 1435.22,888.356 1437.14,888.565 1439.07,888.775 1441,888.984 1442.93,889.194 1444.85,889.404 1446.78,889.614 \n",
       "  1448.71,889.825 1450.64,890.036 1452.56,890.247 1454.49,890.458 1456.42,890.67 1458.35,890.882 1460.27,891.094 1462.2,891.306 1464.13,891.519 1466.06,891.732 \n",
       "  1467.98,891.945 1469.91,892.159 1471.84,892.372 1473.77,892.586 1475.7,892.801 1477.62,893.015 1479.55,893.23 1481.48,893.445 1483.41,893.661 1485.33,893.877 \n",
       "  1487.26,894.093 1489.19,894.309 1491.12,894.526 1493.04,894.742 1494.97,894.96 1496.9,895.177 1498.83,895.395 1500.75,895.613 1502.68,895.831 1504.61,896.05 \n",
       "  1506.54,896.269 1508.46,896.488 1510.39,896.708 1512.32,896.928 1514.25,897.148 1516.17,897.369 1518.1,897.59 1520.03,897.811 1521.96,898.032 1523.89,898.254 \n",
       "  1525.81,898.476 1527.74,898.699 1529.67,898.922 1531.6,899.145 1533.52,899.368 1535.45,899.592 1537.38,899.816 1539.31,900.04 1541.23,900.265 1543.16,900.49 \n",
       "  1545.09,900.716 1547.02,900.942 1548.94,901.168 1550.87,901.394 1552.8,901.621 1554.73,901.848 1556.65,902.076 1558.58,902.304 1560.51,902.532 1562.44,902.761 \n",
       "  1564.37,902.99 1566.29,903.219 1568.22,903.449 1570.15,903.679 1572.08,903.909 1574,904.14 1575.93,904.372 1577.86,904.603 1579.79,904.835 1581.71,905.067 \n",
       "  1583.64,905.3 1585.57,905.533 1587.5,905.767 1589.42,906.001 1591.35,906.235 1593.28,906.469 1595.21,906.704 1597.13,906.94 1599.06,907.176 1600.99,907.412 \n",
       "  1602.92,907.649 1604.84,907.886 1606.77,908.123 1608.7,908.361 1610.63,908.599 1612.56,908.838 1614.48,909.077 1616.41,909.316 1618.34,909.556 1620.27,909.797 \n",
       "  1622.19,910.037 1624.12,910.278 1626.05,910.52 1627.98,910.762 1629.9,911.005 1631.83,911.247 1633.76,911.491 1635.69,911.735 1637.61,911.979 1639.54,912.223 \n",
       "  1641.47,912.469 1643.4,912.714 1645.32,912.96 1647.25,913.207 1649.18,913.453 1651.11,913.701 1653.03,913.949 1654.96,914.197 1656.89,914.446 1658.82,914.695 \n",
       "  1660.75,914.945 1662.67,915.195 1664.6,915.445 1666.53,915.696 1668.46,915.948 1670.38,916.2 1672.31,916.453 1674.24,916.706 1676.17,916.959 1678.09,917.213 \n",
       "  1680.02,917.468 1681.95,917.723 1683.88,917.978 1685.8,918.234 1687.73,918.491 1689.66,918.748 1691.59,919.005 1693.51,919.263 1695.44,919.522 1697.37,919.781 \n",
       "  1699.3,920.041 1701.23,920.301 1703.15,920.561 1705.08,920.822 1707.01,921.084 1708.94,921.346 1710.86,921.609 1712.79,921.872 1714.72,922.136 1716.65,922.401 \n",
       "  1718.57,922.666 1720.5,922.931 1722.43,923.197 1724.36,923.464 1726.28,923.731 1728.21,923.999 1730.14,924.267 1732.07,924.536 1733.99,924.805 1735.92,925.075 \n",
       "  1737.85,925.346 1739.78,925.617 1741.7,925.889 1743.63,926.161 1745.56,926.434 1747.49,926.707 1749.42,926.981 1751.34,927.256 1753.27,927.531 1755.2,927.807 \n",
       "  1757.13,928.084 1759.05,928.361 1760.98,928.639 1762.91,928.917 1764.84,929.196 1766.76,929.475 1768.69,929.756 1770.62,930.036 1772.55,930.318 1774.47,930.6 \n",
       "  1776.4,930.883 1778.33,931.166 1780.26,931.45 1782.18,931.735 1784.11,932.02 1786.04,932.306 1787.97,932.593 1789.89,932.88 1791.82,933.168 1793.75,933.457 \n",
       "  1795.68,933.746 1797.61,934.036 1799.53,934.327 1801.46,934.618 1803.39,934.91 1805.32,935.203 1807.24,935.496 1809.17,935.79 1811.1,936.085 1813.03,936.381 \n",
       "  1814.95,936.677 1816.88,936.974 1818.81,937.272 1820.74,937.57 1822.66,937.869 1824.59,938.169 1826.52,938.469 1828.45,938.771 1830.37,939.073 1832.3,939.376 \n",
       "  1834.23,939.679 1836.16,939.983 1838.09,940.288 1840.01,940.594 1841.94,940.901 1843.87,941.208 1845.8,941.516 1847.72,941.825 1849.65,942.135 1851.58,942.445 \n",
       "  1853.51,942.756 1855.43,943.068 1857.36,943.381 1859.29,943.695 1861.22,944.009 1863.14,944.325 1865.07,944.641 1867,944.957 1868.93,945.275 1870.85,945.594 \n",
       "  1872.78,945.913 1874.71,946.233 1876.64,946.554 1878.56,946.876 1880.49,947.199 1882.42,947.522 1884.35,947.847 1886.28,948.172 1888.2,948.498 1890.13,948.825 \n",
       "  1892.06,949.153 1893.99,949.482 1895.91,949.811 1897.84,950.142 1899.77,950.473 1901.7,950.806 1903.62,951.139 1905.55,951.473 1907.48,951.808 1909.41,952.144 \n",
       "  1911.33,952.481 1913.26,952.819 1915.19,953.158 1917.12,953.498 1919.04,953.838 1920.97,954.18 1922.9,954.523 1924.83,954.866 1926.75,955.211 1928.68,955.556 \n",
       "  1930.61,955.903 1932.54,956.25 1934.47,956.599 1936.39,956.948 1938.32,957.298 1940.25,957.65 1942.18,958.002 1944.1,958.356 1946.03,958.71 1947.96,959.066 \n",
       "  1949.89,959.422 1951.81,959.78 1953.74,960.139 1955.67,960.498 1957.6,960.859 1959.52,961.221 1961.45,961.584 1963.38,961.948 1965.31,962.313 1967.23,962.679 \n",
       "  1969.16,963.046 1971.09,963.415 1973.02,963.784 1974.95,964.154 1976.87,964.526 1978.8,964.899 1980.73,965.273 1982.66,965.648 1984.58,966.024 1986.51,966.401 \n",
       "  1988.44,966.78 1990.37,967.16 1992.29,967.541 1994.22,967.923 1996.15,968.306 1998.08,968.69 2000,969.076 2001.93,969.463 2003.86,969.851 2005.79,970.24 \n",
       "  2007.71,970.63 2009.64,971.022 2011.57,971.415 2013.5,971.809 2015.42,972.205 2017.35,972.601 2019.28,972.999 2021.21,973.398 2023.14,973.799 2025.06,974.201 \n",
       "  2026.99,974.604 2028.92,975.008 2030.85,975.414 2032.77,975.821 2034.7,976.23 2036.63,976.639 2038.56,977.051 2040.48,977.463 2042.41,977.877 2044.34,978.292 \n",
       "  2046.27,978.709 2048.19,979.127 2050.12,979.546 2052.05,979.967 2053.98,980.389 2055.9,980.812 2057.83,981.237 2059.76,981.664 2061.69,982.092 2063.62,982.521 \n",
       "  2065.54,982.952 2067.47,983.384 2069.4,983.818 2071.33,984.253 2073.25,984.69 2075.18,985.129 2077.11,985.568 2079.04,986.01 2080.96,986.453 2082.89,986.897 \n",
       "  2084.82,987.343 2086.75,987.791 2088.67,988.24 2090.6,988.691 2092.53,989.143 2094.46,989.597 2096.38,990.052 2098.31,990.51 2100.24,990.969 2102.17,991.429 \n",
       "  2104.09,991.891 2106.02,992.355 2107.95,992.82 2109.88,993.288 2111.81,993.757 2113.73,994.227 2115.66,994.7 2117.59,995.174 2119.52,995.649 2121.44,996.127 \n",
       "  2123.37,996.606 2125.3,997.087 2127.23,997.57 2129.15,998.055 2131.08,998.542 2133.01,999.03 2134.94,999.52 2136.86,1000.01 2138.79,1000.51 2140.72,1001 \n",
       "  2142.65,1001.5 2144.57,1002 2146.5,1002.5 2148.43,1003 2150.36,1003.51 2152.28,1004.02 2154.21,1004.53 2156.14,1005.04 2158.07,1005.55 2160,1006.07 \n",
       "  2161.92,1006.58 2163.85,1007.1 2165.78,1007.62 2167.71,1008.15 2169.63,1008.67 2171.56,1009.2 2173.49,1009.73 2175.42,1010.26 2177.34,1010.79 2179.27,1011.33 \n",
       "  2181.2,1011.87 2183.13,1012.41 2185.05,1012.95 2186.98,1013.5 2188.91,1014.04 2190.84,1014.59 2192.76,1015.14 2194.69,1015.7 2196.62,1016.25 2198.55,1016.81 \n",
       "  2200.48,1017.37 2202.4,1017.94 2204.33,1018.5 2206.26,1019.07 2208.19,1019.64 2210.11,1020.21 2212.04,1020.79 2213.97,1021.36 2215.9,1021.94 2217.82,1022.52 \n",
       "  2219.75,1023.11 2221.68,1023.7 2223.61,1024.29 2225.53,1024.88 2227.46,1025.47 2229.39,1026.07 2231.32,1026.67 2233.24,1027.27 2235.17,1027.88 2237.1,1028.48 \n",
       "  2239.03,1029.1 2240.95,1029.71 2242.88,1030.32 2244.81,1030.94 2246.74,1031.56 2248.67,1032.19 2250.59,1032.81 2252.52,1033.44 2254.45,1034.08 \n",
       "  \"/>\n",
       "<circle clip-path=\"url(#clip692)\" cx=\"330.697\" cy=\"720.376\" r=\"14.4\" fill=\"#ff0000\" fill-rule=\"evenodd\" fill-opacity=\"1\" stroke=\"#000000\" stroke-opacity=\"1\" stroke-width=\"3.2\"/>\n",
       "<polyline clip-path=\"url(#clip692)\" style=\"stroke:#0000ff; stroke-linecap:round; stroke-linejoin:round; stroke-width:4; stroke-opacity:1; fill:none\" stroke-dasharray=\"16, 10\" points=\"\n",
       "  330.697,1423.18 330.697,851.515 \n",
       "  \"/>\n",
       "<polyline clip-path=\"url(#clip692)\" style=\"stroke:#0000ff; stroke-linecap:round; stroke-linejoin:round; stroke-width:4; stroke-opacity:1; fill:none\" stroke-dasharray=\"16, 10\" points=\"\n",
       "  232.389,851.515 330.697,851.515 \n",
       "  \"/>\n",
       "<polyline clip-path=\"url(#clip692)\" style=\"stroke:#ff0000; stroke-linecap:round; stroke-linejoin:round; stroke-width:4; stroke-opacity:1; fill:none\" stroke-dasharray=\"16, 10\" points=\"\n",
       "  330.697,1423.18 330.697,720.376 \n",
       "  \"/>\n",
       "<polyline clip-path=\"url(#clip692)\" style=\"stroke:#ff0000; stroke-linecap:round; stroke-linejoin:round; stroke-width:4; stroke-opacity:1; fill:none\" stroke-dasharray=\"16, 10\" points=\"\n",
       "  232.389,720.376 330.697,720.376 \n",
       "  \"/>\n",
       "<path clip-path=\"url(#clip690)\" d=\"\n",
       "M303.068 1377.32 L772.604 1377.32 L772.604 1118.12 L303.068 1118.12  Z\n",
       "  \" fill=\"#ffffff\" fill-rule=\"evenodd\" fill-opacity=\"1\"/>\n",
       "<polyline clip-path=\"url(#clip690)\" style=\"stroke:#000000; stroke-linecap:round; stroke-linejoin:round; stroke-width:4; stroke-opacity:1; fill:none\" points=\"\n",
       "  303.068,1377.32 772.604,1377.32 772.604,1118.12 303.068,1118.12 303.068,1377.32 \n",
       "  \"/>\n",
       "<polyline clip-path=\"url(#clip690)\" style=\"stroke:#0000ff; stroke-linecap:round; stroke-linejoin:round; stroke-width:4; stroke-opacity:1; fill:none\" points=\"\n",
       "  326.628,1169.96 467.986,1169.96 \n",
       "  \"/>\n",
       "<path clip-path=\"url(#clip690)\" d=\"M491.545 1152.68 L497.842 1152.68 L513.166 1181.59 L513.166 1152.68 L517.703 1152.68 L517.703 1187.24 L511.406 1187.24 L496.082 1158.32 L496.082 1187.24 L491.545 1187.24 L491.545 1152.68 Z\" fill=\"#000000\" fill-rule=\"evenodd\" fill-opacity=\"1\" /><path clip-path=\"url(#clip690)\" d=\"M526.383 1177 L526.383 1161.31 L530.642 1161.31 L530.642 1176.84 Q530.642 1180.52 532.077 1182.37 Q533.513 1184.2 536.383 1184.2 Q539.832 1184.2 541.823 1182 Q543.837 1179.8 543.837 1176.01 L543.837 1161.31 L548.096 1161.31 L548.096 1187.24 L543.837 1187.24 L543.837 1183.25 Q542.286 1185.61 540.226 1186.77 Q538.189 1187.91 535.48 1187.91 Q531.013 1187.91 528.698 1185.13 Q526.383 1182.35 526.383 1177 M537.101 1160.68 L537.101 1160.68 Z\" fill=\"#000000\" fill-rule=\"evenodd\" fill-opacity=\"1\" /><path clip-path=\"url(#clip690)\" d=\"M556.869 1151.22 L561.128 1151.22 L561.128 1187.24 L556.869 1187.24 L556.869 1151.22 Z\" fill=\"#000000\" fill-rule=\"evenodd\" fill-opacity=\"1\" /><path clip-path=\"url(#clip690)\" d=\"M570.04 1151.22 L574.299 1151.22 L574.299 1187.24 L570.04 1187.24 L570.04 1151.22 Z\" fill=\"#000000\" fill-rule=\"evenodd\" fill-opacity=\"1\" /><circle clip-path=\"url(#clip690)\" cx=\"397.307\" cy=\"1221.8\" r=\"23.04\" fill=\"#0000ff\" fill-rule=\"evenodd\" fill-opacity=\"1\" stroke=\"#000000\" stroke-opacity=\"1\" stroke-width=\"5.12\"/>\n",
       "<path clip-path=\"url(#clip690)\" d=\"M511.892 1218.13 Q513.49 1215.26 515.712 1213.89 Q517.934 1212.52 520.943 1212.52 Q524.994 1212.52 527.193 1215.37 Q529.392 1218.2 529.392 1223.43 L529.392 1239.08 L525.11 1239.08 L525.11 1223.57 Q525.11 1219.84 523.79 1218.03 Q522.471 1216.23 519.763 1216.23 Q516.453 1216.23 514.531 1218.43 Q512.61 1220.63 512.61 1224.42 L512.61 1239.08 L508.328 1239.08 L508.328 1223.57 Q508.328 1219.82 507.008 1218.03 Q505.689 1216.23 502.934 1216.23 Q499.67 1216.23 497.749 1218.45 Q495.828 1220.65 495.828 1224.42 L495.828 1239.08 L491.545 1239.08 L491.545 1213.15 L495.828 1213.15 L495.828 1217.18 Q497.286 1214.79 499.323 1213.66 Q501.36 1212.52 504.161 1212.52 Q506.985 1212.52 508.953 1213.96 Q510.943 1215.39 511.892 1218.13 Z\" fill=\"#000000\" fill-rule=\"evenodd\" fill-opacity=\"1\" /><path clip-path=\"url(#clip690)\" d=\"M549.67 1226.04 Q544.508 1226.04 542.517 1227.22 Q540.526 1228.4 540.526 1231.25 Q540.526 1233.52 542.008 1234.86 Q543.513 1236.18 546.082 1236.18 Q549.624 1236.18 551.753 1233.68 Q553.906 1231.16 553.906 1226.99 L553.906 1226.04 L549.67 1226.04 M558.165 1224.28 L558.165 1239.08 L553.906 1239.08 L553.906 1235.14 Q552.448 1237.5 550.272 1238.64 Q548.096 1239.75 544.948 1239.75 Q540.966 1239.75 538.605 1237.52 Q536.267 1235.28 536.267 1231.53 Q536.267 1227.15 539.184 1224.93 Q542.124 1222.71 547.934 1222.71 L553.906 1222.71 L553.906 1222.29 Q553.906 1219.35 551.962 1217.76 Q550.04 1216.14 546.545 1216.14 Q544.323 1216.14 542.216 1216.67 Q540.11 1217.2 538.165 1218.27 L538.165 1214.33 Q540.503 1213.43 542.702 1212.99 Q544.901 1212.52 546.985 1212.52 Q552.61 1212.52 555.388 1215.44 Q558.165 1218.36 558.165 1224.28 Z\" fill=\"#000000\" fill-rule=\"evenodd\" fill-opacity=\"1\" /><path clip-path=\"url(#clip690)\" d=\"M588.489 1213.15 L579.114 1225.77 L588.975 1239.08 L583.952 1239.08 L576.406 1228.89 L568.86 1239.08 L563.837 1239.08 L573.906 1225.51 L564.693 1213.15 L569.716 1213.15 L576.591 1222.39 L583.466 1213.15 L588.489 1213.15 Z\" fill=\"#000000\" fill-rule=\"evenodd\" fill-opacity=\"1\" /><path clip-path=\"url(#clip690)\" d=\"M595.179 1204.52 L599.855 1204.52 L599.855 1235.14 L616.683 1235.14 L616.683 1239.08 L595.179 1239.08 L595.179 1204.52 Z\" fill=\"#000000\" fill-rule=\"evenodd\" fill-opacity=\"1\" /><path clip-path=\"url(#clip690)\" d=\"M621.591 1204.52 L626.267 1204.52 L626.267 1235.14 L643.095 1235.14 L643.095 1239.08 L621.591 1239.08 L621.591 1204.52 Z\" fill=\"#000000\" fill-rule=\"evenodd\" fill-opacity=\"1\" /><path clip-path=\"url(#clip690)\" d=\"M667.517 1246.95 L667.517 1250.26 L642.887 1250.26 L642.887 1246.95 L667.517 1246.95 Z\" fill=\"#000000\" fill-rule=\"evenodd\" fill-opacity=\"1\" /><path clip-path=\"url(#clip690)\" d=\"M693.072 1223.43 L693.072 1239.08 L688.813 1239.08 L688.813 1223.57 Q688.813 1219.89 687.378 1218.06 Q685.942 1216.23 683.072 1216.23 Q679.623 1216.23 677.632 1218.43 Q675.641 1220.63 675.641 1224.42 L675.641 1239.08 L671.359 1239.08 L671.359 1213.15 L675.641 1213.15 L675.641 1217.18 Q677.169 1214.84 679.229 1213.68 Q681.313 1212.52 684.021 1212.52 Q688.489 1212.52 690.78 1215.3 Q693.072 1218.06 693.072 1223.43 Z\" fill=\"#000000\" fill-rule=\"evenodd\" fill-opacity=\"1\" /><path clip-path=\"url(#clip690)\" d=\"M701.127 1228.84 L701.127 1213.15 L705.387 1213.15 L705.387 1228.68 Q705.387 1232.36 706.822 1234.21 Q708.257 1236.04 711.127 1236.04 Q714.576 1236.04 716.567 1233.84 Q718.581 1231.64 718.581 1227.85 L718.581 1213.15 L722.84 1213.15 L722.84 1239.08 L718.581 1239.08 L718.581 1235.09 Q717.03 1237.45 714.97 1238.61 Q712.933 1239.75 710.225 1239.75 Q705.757 1239.75 703.442 1236.97 Q701.127 1234.19 701.127 1228.84 M711.845 1212.52 L711.845 1212.52 Z\" fill=\"#000000\" fill-rule=\"evenodd\" fill-opacity=\"1\" /><path clip-path=\"url(#clip690)\" d=\"M731.613 1203.06 L735.873 1203.06 L735.873 1239.08 L731.613 1239.08 L731.613 1203.06 Z\" fill=\"#000000\" fill-rule=\"evenodd\" fill-opacity=\"1\" /><path clip-path=\"url(#clip690)\" d=\"M744.785 1203.06 L749.044 1203.06 L749.044 1239.08 L744.785 1239.08 L744.785 1203.06 Z\" fill=\"#000000\" fill-rule=\"evenodd\" fill-opacity=\"1\" /><polyline clip-path=\"url(#clip690)\" style=\"stroke:#ff0000; stroke-linecap:round; stroke-linejoin:round; stroke-width:4; stroke-opacity:1; fill:none\" points=\"\n",
       "  326.628,1273.64 467.986,1273.64 \n",
       "  \"/>\n",
       "<path clip-path=\"url(#clip690)\" d=\"M507.379 1260.96 L501.036 1278.16 L513.744 1278.16 L507.379 1260.96 M504.74 1256.36 L510.041 1256.36 L523.212 1290.92 L518.351 1290.92 L515.203 1282.05 L499.624 1282.05 L496.476 1290.92 L491.545 1290.92 L504.74 1256.36 Z\" fill=\"#000000\" fill-rule=\"evenodd\" fill-opacity=\"1\" /><path clip-path=\"url(#clip690)\" d=\"M528.073 1254.9 L532.332 1254.9 L532.332 1290.92 L528.073 1290.92 L528.073 1254.9 Z\" fill=\"#000000\" fill-rule=\"evenodd\" fill-opacity=\"1\" /><path clip-path=\"url(#clip690)\" d=\"M545.457 1257.63 L545.457 1264.99 L554.23 1264.99 L554.23 1268.3 L545.457 1268.3 L545.457 1282.37 Q545.457 1285.54 546.313 1286.45 Q547.193 1287.35 549.855 1287.35 L554.23 1287.35 L554.23 1290.92 L549.855 1290.92 Q544.925 1290.92 543.05 1289.09 Q541.175 1287.23 541.175 1282.37 L541.175 1268.3 L538.05 1268.3 L538.05 1264.99 L541.175 1264.99 L541.175 1257.63 L545.457 1257.63 Z\" fill=\"#000000\" fill-rule=\"evenodd\" fill-opacity=\"1\" /><path clip-path=\"url(#clip690)\" d=\"M579.531 1298.79 L579.531 1302.1 L554.901 1302.1 L554.901 1298.79 L579.531 1298.79 Z\" fill=\"#000000\" fill-rule=\"evenodd\" fill-opacity=\"1\" /><path clip-path=\"url(#clip690)\" d=\"M596.985 1260.43 L585.179 1278.88 L596.985 1278.88 L596.985 1260.43 M595.758 1256.36 L601.637 1256.36 L601.637 1278.88 L606.568 1278.88 L606.568 1282.77 L601.637 1282.77 L601.637 1290.92 L596.985 1290.92 L596.985 1282.77 L581.383 1282.77 L581.383 1278.25 L595.758 1256.36 Z\" fill=\"#000000\" fill-rule=\"evenodd\" fill-opacity=\"1\" /><circle clip-path=\"url(#clip690)\" cx=\"397.307\" cy=\"1325.48\" r=\"23.04\" fill=\"#ff0000\" fill-rule=\"evenodd\" fill-opacity=\"1\" stroke=\"#000000\" stroke-opacity=\"1\" stroke-width=\"5.12\"/>\n",
       "<path clip-path=\"url(#clip690)\" d=\"M511.892 1321.81 Q513.49 1318.94 515.712 1317.57 Q517.934 1316.2 520.943 1316.2 Q524.994 1316.2 527.193 1319.05 Q529.392 1321.88 529.392 1327.11 L529.392 1342.76 L525.11 1342.76 L525.11 1327.25 Q525.11 1323.52 523.79 1321.71 Q522.471 1319.91 519.763 1319.91 Q516.453 1319.91 514.531 1322.11 Q512.61 1324.31 512.61 1328.1 L512.61 1342.76 L508.328 1342.76 L508.328 1327.25 Q508.328 1323.5 507.008 1321.71 Q505.689 1319.91 502.934 1319.91 Q499.67 1319.91 497.749 1322.13 Q495.828 1324.33 495.828 1328.1 L495.828 1342.76 L491.545 1342.76 L491.545 1316.83 L495.828 1316.83 L495.828 1320.86 Q497.286 1318.47 499.323 1317.34 Q501.36 1316.2 504.161 1316.2 Q506.985 1316.2 508.953 1317.64 Q510.943 1319.07 511.892 1321.81 Z\" fill=\"#000000\" fill-rule=\"evenodd\" fill-opacity=\"1\" /><path clip-path=\"url(#clip690)\" d=\"M549.67 1329.72 Q544.508 1329.72 542.517 1330.9 Q540.526 1332.08 540.526 1334.93 Q540.526 1337.2 542.008 1338.54 Q543.513 1339.86 546.082 1339.86 Q549.624 1339.86 551.753 1337.36 Q553.906 1334.84 553.906 1330.67 L553.906 1329.72 L549.67 1329.72 M558.165 1327.96 L558.165 1342.76 L553.906 1342.76 L553.906 1338.82 Q552.448 1341.18 550.272 1342.32 Q548.096 1343.43 544.948 1343.43 Q540.966 1343.43 538.605 1341.2 Q536.267 1338.96 536.267 1335.21 Q536.267 1330.83 539.184 1328.61 Q542.124 1326.39 547.934 1326.39 L553.906 1326.39 L553.906 1325.97 Q553.906 1323.03 551.962 1321.44 Q550.04 1319.82 546.545 1319.82 Q544.323 1319.82 542.216 1320.35 Q540.11 1320.88 538.165 1321.95 L538.165 1318.01 Q540.503 1317.11 542.702 1316.67 Q544.901 1316.2 546.985 1316.2 Q552.61 1316.2 555.388 1319.12 Q558.165 1322.04 558.165 1327.96 Z\" fill=\"#000000\" fill-rule=\"evenodd\" fill-opacity=\"1\" /><path clip-path=\"url(#clip690)\" d=\"M588.489 1316.83 L579.114 1329.45 L588.975 1342.76 L583.952 1342.76 L576.406 1332.57 L568.86 1342.76 L563.837 1342.76 L573.906 1329.19 L564.693 1316.83 L569.716 1316.83 L576.591 1326.07 L583.466 1316.83 L588.489 1316.83 Z\" fill=\"#000000\" fill-rule=\"evenodd\" fill-opacity=\"1\" /><path clip-path=\"url(#clip690)\" d=\"M595.179 1308.2 L599.855 1308.2 L599.855 1338.82 L616.683 1338.82 L616.683 1342.76 L595.179 1342.76 L595.179 1308.2 Z\" fill=\"#000000\" fill-rule=\"evenodd\" fill-opacity=\"1\" /><path clip-path=\"url(#clip690)\" d=\"M621.591 1308.2 L626.267 1308.2 L626.267 1338.82 L643.095 1338.82 L643.095 1342.76 L621.591 1342.76 L621.591 1308.2 Z\" fill=\"#000000\" fill-rule=\"evenodd\" fill-opacity=\"1\" /><path clip-path=\"url(#clip690)\" d=\"M667.517 1350.63 L667.517 1353.94 L642.887 1353.94 L642.887 1350.63 L667.517 1350.63 Z\" fill=\"#000000\" fill-rule=\"evenodd\" fill-opacity=\"1\" /><path clip-path=\"url(#clip690)\" d=\"M683.303 1329.72 Q678.141 1329.72 676.151 1330.9 Q674.16 1332.08 674.16 1334.93 Q674.16 1337.2 675.641 1338.54 Q677.146 1339.86 679.716 1339.86 Q683.257 1339.86 685.387 1337.36 Q687.54 1334.84 687.54 1330.67 L687.54 1329.72 L683.303 1329.72 M691.799 1327.96 L691.799 1342.76 L687.54 1342.76 L687.54 1338.82 Q686.081 1341.18 683.905 1342.32 Q681.729 1343.43 678.581 1343.43 Q674.6 1343.43 672.239 1341.2 Q669.901 1338.96 669.901 1335.21 Q669.901 1330.83 672.817 1328.61 Q675.757 1326.39 681.567 1326.39 L687.54 1326.39 L687.54 1325.97 Q687.54 1323.03 685.595 1321.44 Q683.674 1319.82 680.179 1319.82 Q677.956 1319.82 675.85 1320.35 Q673.743 1320.88 671.799 1321.95 L671.799 1318.01 Q674.137 1317.11 676.336 1316.67 Q678.535 1316.2 680.618 1316.2 Q686.243 1316.2 689.021 1319.12 Q691.799 1322.04 691.799 1327.96 Z\" fill=\"#000000\" fill-rule=\"evenodd\" fill-opacity=\"1\" /><path clip-path=\"url(#clip690)\" d=\"M700.572 1306.74 L704.831 1306.74 L704.831 1342.76 L700.572 1342.76 L700.572 1306.74 Z\" fill=\"#000000\" fill-rule=\"evenodd\" fill-opacity=\"1\" /><path clip-path=\"url(#clip690)\" d=\"M717.956 1309.47 L717.956 1316.83 L726.729 1316.83 L726.729 1320.14 L717.956 1320.14 L717.956 1334.21 Q717.956 1337.38 718.813 1338.29 Q719.692 1339.19 722.354 1339.19 L726.729 1339.19 L726.729 1342.76 L722.354 1342.76 Q717.424 1342.76 715.549 1340.93 Q713.674 1339.07 713.674 1334.21 L713.674 1320.14 L710.549 1320.14 L710.549 1316.83 L713.674 1316.83 L713.674 1309.47 L717.956 1309.47 Z\" fill=\"#000000\" fill-rule=\"evenodd\" fill-opacity=\"1\" /><path clip-path=\"url(#clip690)\" d=\"M278.533 1525.35 Q274.922 1525.35 273.093 1528.92 Q271.288 1532.46 271.288 1539.59 Q271.288 1546.69 273.093 1550.26 Q274.922 1553.8 278.533 1553.8 Q282.167 1553.8 283.973 1550.26 Q285.802 1546.69 285.802 1539.59 Q285.802 1532.46 283.973 1528.92 Q282.167 1525.35 278.533 1525.35 M278.533 1521.65 Q284.343 1521.65 287.399 1526.25 Q290.478 1530.84 290.478 1539.59 Q290.478 1548.31 287.399 1552.92 Q284.343 1557.5 278.533 1557.5 Q272.723 1557.5 269.644 1552.92 Q266.589 1548.31 266.589 1539.59 Q266.589 1530.84 269.644 1526.25 Q272.723 1521.65 278.533 1521.65 Z\" fill=\"#0000ff\" fill-rule=\"evenodd\" fill-opacity=\"1\" /><path clip-path=\"url(#clip690)\" d=\"M298.695 1550.95 L303.579 1550.95 L303.579 1556.83 L298.695 1556.83 L298.695 1550.95 Z\" fill=\"#0000ff\" fill-rule=\"evenodd\" fill-opacity=\"1\" /><path clip-path=\"url(#clip690)\" d=\"M323.764 1525.35 Q320.153 1525.35 318.325 1528.92 Q316.519 1532.46 316.519 1539.59 Q316.519 1546.69 318.325 1550.26 Q320.153 1553.8 323.764 1553.8 Q327.399 1553.8 329.204 1550.26 Q331.033 1546.69 331.033 1539.59 Q331.033 1532.46 329.204 1528.92 Q327.399 1525.35 323.764 1525.35 M323.764 1521.65 Q329.575 1521.65 332.63 1526.25 Q335.709 1530.84 335.709 1539.59 Q335.709 1548.31 332.63 1552.92 Q329.575 1557.5 323.764 1557.5 Q317.954 1557.5 314.876 1552.92 Q311.82 1548.31 311.82 1539.59 Q311.82 1530.84 314.876 1526.25 Q317.954 1521.65 323.764 1521.65 Z\" fill=\"#0000ff\" fill-rule=\"evenodd\" fill-opacity=\"1\" /><path clip-path=\"url(#clip690)\" d=\"M353.926 1525.35 Q350.315 1525.35 348.487 1528.92 Q346.681 1532.46 346.681 1539.59 Q346.681 1546.69 348.487 1550.26 Q350.315 1553.8 353.926 1553.8 Q357.561 1553.8 359.366 1550.26 Q361.195 1546.69 361.195 1539.59 Q361.195 1532.46 359.366 1528.92 Q357.561 1525.35 353.926 1525.35 M353.926 1521.65 Q359.736 1521.65 362.792 1526.25 Q365.871 1530.84 365.871 1539.59 Q365.871 1548.31 362.792 1552.92 Q359.736 1557.5 353.926 1557.5 Q348.116 1557.5 345.037 1552.92 Q341.982 1548.31 341.982 1539.59 Q341.982 1530.84 345.037 1526.25 Q348.116 1521.65 353.926 1521.65 Z\" fill=\"#0000ff\" fill-rule=\"evenodd\" fill-opacity=\"1\" /><path clip-path=\"url(#clip690)\" d=\"M374.898 1552.9 L382.537 1552.9 L382.537 1526.53 L374.227 1528.2 L374.227 1523.94 L382.491 1522.27 L387.167 1522.27 L387.167 1552.9 L394.806 1552.9 L394.806 1556.83 L374.898 1556.83 L374.898 1552.9 Z\" fill=\"#0000ff\" fill-rule=\"evenodd\" fill-opacity=\"1\" /><path clip-path=\"url(#clip690)\" d=\"M278.533 1525.35 Q274.922 1525.35 273.093 1528.92 Q271.288 1532.46 271.288 1539.59 Q271.288 1546.69 273.093 1550.26 Q274.922 1553.8 278.533 1553.8 Q282.167 1553.8 283.973 1550.26 Q285.802 1546.69 285.802 1539.59 Q285.802 1532.46 283.973 1528.92 Q282.167 1525.35 278.533 1525.35 M278.533 1521.65 Q284.343 1521.65 287.399 1526.25 Q290.478 1530.84 290.478 1539.59 Q290.478 1548.31 287.399 1552.92 Q284.343 1557.5 278.533 1557.5 Q272.723 1557.5 269.644 1552.92 Q266.589 1548.31 266.589 1539.59 Q266.589 1530.84 269.644 1526.25 Q272.723 1521.65 278.533 1521.65 Z\" fill=\"#ff0000\" fill-rule=\"evenodd\" fill-opacity=\"1\" /><path clip-path=\"url(#clip690)\" d=\"M298.695 1550.95 L303.579 1550.95 L303.579 1556.83 L298.695 1556.83 L298.695 1550.95 Z\" fill=\"#ff0000\" fill-rule=\"evenodd\" fill-opacity=\"1\" /><path clip-path=\"url(#clip690)\" d=\"M323.764 1525.35 Q320.153 1525.35 318.325 1528.92 Q316.519 1532.46 316.519 1539.59 Q316.519 1546.69 318.325 1550.26 Q320.153 1553.8 323.764 1553.8 Q327.399 1553.8 329.204 1550.26 Q331.033 1546.69 331.033 1539.59 Q331.033 1532.46 329.204 1528.92 Q327.399 1525.35 323.764 1525.35 M323.764 1521.65 Q329.575 1521.65 332.63 1526.25 Q335.709 1530.84 335.709 1539.59 Q335.709 1548.31 332.63 1552.92 Q329.575 1557.5 323.764 1557.5 Q317.954 1557.5 314.876 1552.92 Q311.82 1548.31 311.82 1539.59 Q311.82 1530.84 314.876 1526.25 Q317.954 1521.65 323.764 1521.65 Z\" fill=\"#ff0000\" fill-rule=\"evenodd\" fill-opacity=\"1\" /><path clip-path=\"url(#clip690)\" d=\"M353.926 1525.35 Q350.315 1525.35 348.487 1528.92 Q346.681 1532.46 346.681 1539.59 Q346.681 1546.69 348.487 1550.26 Q350.315 1553.8 353.926 1553.8 Q357.561 1553.8 359.366 1550.26 Q361.195 1546.69 361.195 1539.59 Q361.195 1532.46 359.366 1528.92 Q357.561 1525.35 353.926 1525.35 M353.926 1521.65 Q359.736 1521.65 362.792 1526.25 Q365.871 1530.84 365.871 1539.59 Q365.871 1548.31 362.792 1552.92 Q359.736 1557.5 353.926 1557.5 Q348.116 1557.5 345.037 1552.92 Q341.982 1548.31 341.982 1539.59 Q341.982 1530.84 345.037 1526.25 Q348.116 1521.65 353.926 1521.65 Z\" fill=\"#ff0000\" fill-rule=\"evenodd\" fill-opacity=\"1\" /><path clip-path=\"url(#clip690)\" d=\"M374.898 1552.9 L382.537 1552.9 L382.537 1526.53 L374.227 1528.2 L374.227 1523.94 L382.491 1522.27 L387.167 1522.27 L387.167 1552.9 L394.806 1552.9 L394.806 1556.83 L374.898 1556.83 L374.898 1552.9 Z\" fill=\"#ff0000\" fill-rule=\"evenodd\" fill-opacity=\"1\" /></svg>\n"
      ]
     },
     "metadata": {},
     "output_type": "display_data"
    },
    {
     "name": "stdout",
     "output_type": "stream",
     "text": [
      "  4.574355 seconds (1.47 M allocations: 929.130 MiB, 81.65% gc time, 0.76% compilation time)\n"
     ]
    }
   ],
   "source": [
    "@time scan(test_omics_trait, omics_geno_processed, omics_kinship; \n",
    "           reml = true, assumption = \"null\", optim_interval = 4,\n",
    "           plot_loglik = true, markerID = 1, h2_grid = grid_fine, y_lims = [100.0, 120.0]);"
   ]
  },
  {
   "cell_type": "code",
   "execution_count": 240,
   "id": "b4d85825-e2af-4948-b3d2-006579c0ad8e",
   "metadata": {},
   "outputs": [],
   "source": [
    "include(joinpath(local_path, \"kinship.jl\"));\n",
    "include(joinpath(local_path, \"util.jl\"));\n",
    "include(joinpath(local_path, \"wls.jl\"));\n",
    "include(joinpath(local_path, \"lmm.jl\"));\n",
    "include(joinpath(local_path, \"gridbrent.jl\"));\n",
    "include(joinpath(local_path, \"transform_helpers.jl\"));\n",
    "include(joinpath(local_path, \"scan.jl\"));\n",
    "include(joinpath(local_path, \"bulkscan_helpers.jl\"));\n",
    "include(joinpath(local_path, \"bulkscan.jl\"));\n",
    "include(joinpath(local_path, \"readData.jl\"));\n",
    "include(joinpath(local_path, \"../plot_utils/visuals_utils.jl\"));\n",
    "include(joinpath(local_path, \"analysis_helpers/single_trait_analysis.jl\"));\n",
    "include(\"../../BigRiver_util_code/src/kinship_utils.jl\");\n",
    "include(\"../../BigRiver_util_code/src/run_gemma_utils.jl\");"
   ]
  },
  {
   "cell_type": "code",
   "execution_count": 241,
   "id": "e67dcbd0-0db2-4db2-b338-d10ec67e7af2",
   "metadata": {},
   "outputs": [
    {
     "name": "stdout",
     "output_type": "stream",
     "text": [
      " 87.131079 seconds (195.07 M allocations: 85.923 GiB, 21.81% gc time, 1.39% compilation time)\n"
     ]
    }
   ],
   "source": [
    "@time test_trait1 = scan(test_omics_trait, omics_geno_processed, omics_kinship; \n",
    "                         reml = false, assumption = \"alt\");"
   ]
  },
  {
   "cell_type": "code",
   "execution_count": 242,
   "id": "ddbc57dd-a988-4a98-8fc4-f82acb44ebc4",
   "metadata": {},
   "outputs": [
    {
     "data": {
      "text/plain": [
       "0.024522431974999963"
      ]
     },
     "execution_count": 242,
     "metadata": {},
     "output_type": "execute_result"
    }
   ],
   "source": [
    "test_trait1.sigma2_e"
   ]
  },
  {
   "cell_type": "code",
   "execution_count": 262,
   "id": "1e17b225-6697-4b1f-b68b-2384628e688b",
   "metadata": {},
   "outputs": [
    {
     "data": {
      "text/plain": [
       "117618-element Vector{Float64}:\n",
       " 0.5214736171774955\n",
       " 0.7034853034944917\n",
       " 0.31472862860738493\n",
       " 0.0852644624126282\n",
       " 0.26681967351130803\n",
       " 0.08681569513360746\n",
       " 0.2307458153430037\n",
       " 0.5437222013908806\n",
       " 0.3223870255910424\n",
       " 0.033272998086556274\n",
       " 0.3705547208914712\n",
       " 0.08908635742106671\n",
       " 0.37233116483008194\n",
       " ⋮\n",
       " 0.2293060561457728\n",
       " 0.14153468953002862\n",
       " 0.14146436637452442\n",
       " 0.14134630442645862\n",
       " 0.14460157923043332\n",
       " 0.14153468953002862\n",
       " 0.08682089304271583\n",
       " 0.053653570315354254\n",
       " 0.491058401636849\n",
       " 0.44244925052634454\n",
       " 0.3910812465925695\n",
       " 0.3884976118700445"
      ]
     },
     "execution_count": 262,
     "metadata": {},
     "output_type": "execute_result"
    }
   ],
   "source": [
    "temp = \"results_univariate_LMM.assoc.txt\";\n",
    "gemma_results = readdlm(joinpath(\"output/\", temp), '\\t');\n",
    "gemma_pvals = gemma_results[2:end, end] |> x -> Array{Float64}(x);\n",
    "gemma_lods = p2lod.(gemma_pvals, 2);\n",
    "gemma_lods"
   ]
  },
  {
   "cell_type": "code",
   "execution_count": 263,
   "id": "ec3be23a-e9ff-4285-a954-18816eab26ff",
   "metadata": {},
   "outputs": [
    {
     "data": {
      "text/plain": [
       "117618-element Vector{Float64}:\n",
       " 1.783907244156758e-15\n",
       " 2.34890354044044e-15\n",
       " 2.34890354044044e-15\n",
       " 8.4984128456085e-16\n",
       " 8.4984128456085e-16\n",
       " 8.4984128456085e-16\n",
       " 2.34890354044044e-15\n",
       " 6.277966669721967e-16\n",
       " 8.97201316153285e-16\n",
       " 2.34890354044044e-15\n",
       " 2.34890354044044e-15\n",
       " 8.4984128456085e-16\n",
       " 8.4984128456085e-16\n",
       " ⋮\n",
       " 8.4984128456085e-16\n",
       " 8.97201316153285e-16\n",
       " 8.4984128456085e-16\n",
       " 1.4517022242871552e-15\n",
       " 2.34890354044044e-15\n",
       " 8.97201316153285e-16\n",
       " 3.800605764727595e-15\n",
       " 8.4984128456085e-16\n",
       " 8.4984128456085e-16\n",
       " 8.4984128456085e-16\n",
       " 2.3315148220573175e-15\n",
       " 8.4984128456085e-16"
      ]
     },
     "execution_count": 263,
     "metadata": {},
     "output_type": "execute_result"
    }
   ],
   "source": [
    "test_trait1.h2_each_marker"
   ]
  },
  {
   "cell_type": "code",
   "execution_count": 245,
   "id": "0bf53753-60cb-4a0e-9e0e-e18721e89504",
   "metadata": {},
   "outputs": [
    {
     "data": {
      "text/plain": [
       "8.4984128456085e-16"
      ]
     },
     "execution_count": 245,
     "metadata": {},
     "output_type": "execute_result"
    }
   ],
   "source": [
    "test_trait1.h2_each_marker[4]"
   ]
  },
  {
   "cell_type": "code",
   "execution_count": 243,
   "id": "ac565593-b94b-4f23-8932-f04f2baf24ba",
   "metadata": {},
   "outputs": [
    {
     "data": {
      "text/plain": [
       "117618×3 Matrix{Float64}:\n",
       " 0.340197    0.340197    0.232322\n",
       " 0.391565    0.391565    0.359937\n",
       " 0.288975    0.288975    0.106136\n",
       " 0.831917    0.831917    0.0110229\n",
       " 0.325364    0.325364    0.0811541\n",
       " 0.697638    0.697638    0.0113947\n",
       " 0.550568    0.550568    0.063785\n",
       " 0.495616    0.495616    0.24725\n",
       " 0.299334    0.299334    0.11031\n",
       " 0.493727    0.493727    0.00186067\n",
       " 0.437515    0.437515    0.137586\n",
       " 0.356815    0.356815    0.0119481\n",
       " 0.229415    0.229415    0.138624\n",
       " ⋮                       \n",
       " 0.0325104   0.0325104   0.0631203\n",
       " 1.24786e-5  1.24786e-5  0.0275121\n",
       " 4.45794e-6  4.45794e-6  0.027488\n",
       " 8.83031e-6  8.83031e-6  0.0274475\n",
       " 2.23587e-6  2.23587e-6  0.028572\n",
       " 1.24786e-5  1.24786e-5  0.0275121\n",
       " 0.00492947  0.00492947  0.0113959\n",
       " 0.0847242   0.0847242   0.0046397\n",
       " 0.146107    0.146107    0.212271\n",
       " 0.189778    0.189778    0.181163\n",
       " 0.155139    0.155139    0.149702\n",
       " 0.157019    0.157019    0.148162"
      ]
     },
     "execution_count": 243,
     "metadata": {},
     "output_type": "execute_result"
    }
   ],
   "source": [
    "hcat(bulkscan_null_grid_results.L[:, 1], test_trait1.lod, gemma_samples_results)"
   ]
  },
  {
   "cell_type": "code",
   "execution_count": 215,
   "id": "30a7c388-7ed6-4502-ab80-a6cc3f5f1215",
   "metadata": {},
   "outputs": [
    {
     "data": {
      "image/svg+xml": [
       "<?xml version=\"1.0\" encoding=\"utf-8\"?>\n",
       "<svg xmlns=\"http://www.w3.org/2000/svg\" xmlns:xlink=\"http://www.w3.org/1999/xlink\" width=\"600\" height=\"400\" viewBox=\"0 0 2400 1600\">\n",
       "<defs>\n",
       "  <clipPath id=\"clip610\">\n",
       "    <rect x=\"0\" y=\"0\" width=\"2400\" height=\"1600\"/>\n",
       "  </clipPath>\n",
       "</defs>\n",
       "<path clip-path=\"url(#clip610)\" d=\"\n",
       "M0 1600 L2400 1600 L2400 0 L0 0  Z\n",
       "  \" fill=\"#ffffff\" fill-rule=\"evenodd\" fill-opacity=\"1\"/>\n",
       "<defs>\n",
       "  <clipPath id=\"clip611\">\n",
       "    <rect x=\"480\" y=\"0\" width=\"1681\" height=\"1600\"/>\n",
       "  </clipPath>\n",
       "</defs>\n",
       "<path clip-path=\"url(#clip610)\" d=\"\n",
       "M186.274 1486.45 L2352.76 1486.45 L2352.76 47.2441 L186.274 47.2441  Z\n",
       "  \" fill=\"#ffffff\" fill-rule=\"evenodd\" fill-opacity=\"1\"/>\n",
       "<defs>\n",
       "  <clipPath id=\"clip612\">\n",
       "    <rect x=\"186\" y=\"47\" width=\"2167\" height=\"1440\"/>\n",
       "  </clipPath>\n",
       "</defs>\n",
       "<polyline clip-path=\"url(#clip612)\" style=\"stroke:#000000; stroke-linecap:round; stroke-linejoin:round; stroke-width:2; stroke-opacity:0.1; fill:none\" points=\"\n",
       "  247.59,1486.45 247.59,47.2441 \n",
       "  \"/>\n",
       "<polyline clip-path=\"url(#clip612)\" style=\"stroke:#000000; stroke-linecap:round; stroke-linejoin:round; stroke-width:2; stroke-opacity:0.1; fill:none\" points=\"\n",
       "  732.254,1486.45 732.254,47.2441 \n",
       "  \"/>\n",
       "<polyline clip-path=\"url(#clip612)\" style=\"stroke:#000000; stroke-linecap:round; stroke-linejoin:round; stroke-width:2; stroke-opacity:0.1; fill:none\" points=\"\n",
       "  1216.92,1486.45 1216.92,47.2441 \n",
       "  \"/>\n",
       "<polyline clip-path=\"url(#clip612)\" style=\"stroke:#000000; stroke-linecap:round; stroke-linejoin:round; stroke-width:2; stroke-opacity:0.1; fill:none\" points=\"\n",
       "  1701.58,1486.45 1701.58,47.2441 \n",
       "  \"/>\n",
       "<polyline clip-path=\"url(#clip612)\" style=\"stroke:#000000; stroke-linecap:round; stroke-linejoin:round; stroke-width:2; stroke-opacity:0.1; fill:none\" points=\"\n",
       "  2186.25,1486.45 2186.25,47.2441 \n",
       "  \"/>\n",
       "<polyline clip-path=\"url(#clip610)\" style=\"stroke:#000000; stroke-linecap:round; stroke-linejoin:round; stroke-width:4; stroke-opacity:1; fill:none\" points=\"\n",
       "  186.274,1486.45 2352.76,1486.45 \n",
       "  \"/>\n",
       "<polyline clip-path=\"url(#clip610)\" style=\"stroke:#000000; stroke-linecap:round; stroke-linejoin:round; stroke-width:4; stroke-opacity:1; fill:none\" points=\"\n",
       "  247.59,1486.45 247.59,1467.55 \n",
       "  \"/>\n",
       "<polyline clip-path=\"url(#clip610)\" style=\"stroke:#000000; stroke-linecap:round; stroke-linejoin:round; stroke-width:4; stroke-opacity:1; fill:none\" points=\"\n",
       "  732.254,1486.45 732.254,1467.55 \n",
       "  \"/>\n",
       "<polyline clip-path=\"url(#clip610)\" style=\"stroke:#000000; stroke-linecap:round; stroke-linejoin:round; stroke-width:4; stroke-opacity:1; fill:none\" points=\"\n",
       "  1216.92,1486.45 1216.92,1467.55 \n",
       "  \"/>\n",
       "<polyline clip-path=\"url(#clip610)\" style=\"stroke:#000000; stroke-linecap:round; stroke-linejoin:round; stroke-width:4; stroke-opacity:1; fill:none\" points=\"\n",
       "  1701.58,1486.45 1701.58,1467.55 \n",
       "  \"/>\n",
       "<polyline clip-path=\"url(#clip610)\" style=\"stroke:#000000; stroke-linecap:round; stroke-linejoin:round; stroke-width:4; stroke-opacity:1; fill:none\" points=\"\n",
       "  2186.25,1486.45 2186.25,1467.55 \n",
       "  \"/>\n",
       "<path clip-path=\"url(#clip610)\" d=\"M209.893 1517.37 Q206.282 1517.37 204.453 1520.93 Q202.648 1524.47 202.648 1531.6 Q202.648 1538.71 204.453 1542.27 Q206.282 1545.82 209.893 1545.82 Q213.527 1545.82 215.333 1542.27 Q217.161 1538.71 217.161 1531.6 Q217.161 1524.47 215.333 1520.93 Q213.527 1517.37 209.893 1517.37 M209.893 1513.66 Q215.703 1513.66 218.759 1518.27 Q221.837 1522.85 221.837 1531.6 Q221.837 1540.33 218.759 1544.94 Q215.703 1549.52 209.893 1549.52 Q204.083 1549.52 201.004 1544.94 Q197.949 1540.33 197.949 1531.6 Q197.949 1522.85 201.004 1518.27 Q204.083 1513.66 209.893 1513.66 Z\" fill=\"#000000\" fill-rule=\"evenodd\" fill-opacity=\"1\" /><path clip-path=\"url(#clip610)\" d=\"M230.055 1542.97 L234.939 1542.97 L234.939 1548.85 L230.055 1548.85 L230.055 1542.97 Z\" fill=\"#000000\" fill-rule=\"evenodd\" fill-opacity=\"1\" /><path clip-path=\"url(#clip610)\" d=\"M255.124 1517.37 Q251.513 1517.37 249.684 1520.93 Q247.879 1524.47 247.879 1531.6 Q247.879 1538.71 249.684 1542.27 Q251.513 1545.82 255.124 1545.82 Q258.758 1545.82 260.564 1542.27 Q262.393 1538.71 262.393 1531.6 Q262.393 1524.47 260.564 1520.93 Q258.758 1517.37 255.124 1517.37 M255.124 1513.66 Q260.934 1513.66 263.99 1518.27 Q267.069 1522.85 267.069 1531.6 Q267.069 1540.33 263.99 1544.94 Q260.934 1549.52 255.124 1549.52 Q249.314 1549.52 246.235 1544.94 Q243.18 1540.33 243.18 1531.6 Q243.18 1522.85 246.235 1518.27 Q249.314 1513.66 255.124 1513.66 Z\" fill=\"#000000\" fill-rule=\"evenodd\" fill-opacity=\"1\" /><path clip-path=\"url(#clip610)\" d=\"M285.286 1517.37 Q281.675 1517.37 279.846 1520.93 Q278.041 1524.47 278.041 1531.6 Q278.041 1538.71 279.846 1542.27 Q281.675 1545.82 285.286 1545.82 Q288.92 1545.82 290.726 1542.27 Q292.555 1538.71 292.555 1531.6 Q292.555 1524.47 290.726 1520.93 Q288.92 1517.37 285.286 1517.37 M285.286 1513.66 Q291.096 1513.66 294.152 1518.27 Q297.23 1522.85 297.23 1531.6 Q297.23 1540.33 294.152 1544.94 Q291.096 1549.52 285.286 1549.52 Q279.476 1549.52 276.397 1544.94 Q273.342 1540.33 273.342 1531.6 Q273.342 1522.85 276.397 1518.27 Q279.476 1513.66 285.286 1513.66 Z\" fill=\"#000000\" fill-rule=\"evenodd\" fill-opacity=\"1\" /><path clip-path=\"url(#clip610)\" d=\"M695.056 1517.37 Q691.444 1517.37 689.616 1520.93 Q687.81 1524.47 687.81 1531.6 Q687.81 1538.71 689.616 1542.27 Q691.444 1545.82 695.056 1545.82 Q698.69 1545.82 700.495 1542.27 Q702.324 1538.71 702.324 1531.6 Q702.324 1524.47 700.495 1520.93 Q698.69 1517.37 695.056 1517.37 M695.056 1513.66 Q700.866 1513.66 703.921 1518.27 Q707 1522.85 707 1531.6 Q707 1540.33 703.921 1544.94 Q700.866 1549.52 695.056 1549.52 Q689.245 1549.52 686.167 1544.94 Q683.111 1540.33 683.111 1531.6 Q683.111 1522.85 686.167 1518.27 Q689.245 1513.66 695.056 1513.66 Z\" fill=\"#000000\" fill-rule=\"evenodd\" fill-opacity=\"1\" /><path clip-path=\"url(#clip610)\" d=\"M715.217 1542.97 L720.102 1542.97 L720.102 1548.85 L715.217 1548.85 L715.217 1542.97 Z\" fill=\"#000000\" fill-rule=\"evenodd\" fill-opacity=\"1\" /><path clip-path=\"url(#clip610)\" d=\"M734.315 1544.91 L750.634 1544.91 L750.634 1548.85 L728.69 1548.85 L728.69 1544.91 Q731.352 1542.16 735.935 1537.53 Q740.541 1532.88 741.722 1531.53 Q743.967 1529.01 744.847 1527.27 Q745.75 1525.51 745.75 1523.82 Q745.75 1521.07 743.805 1519.33 Q741.884 1517.6 738.782 1517.6 Q736.583 1517.6 734.129 1518.36 Q731.699 1519.13 728.921 1520.68 L728.921 1515.95 Q731.745 1514.82 734.199 1514.24 Q736.653 1513.66 738.69 1513.66 Q744.06 1513.66 747.254 1516.35 Q750.449 1519.03 750.449 1523.52 Q750.449 1525.65 749.639 1527.57 Q748.852 1529.47 746.745 1532.07 Q746.166 1532.74 743.065 1535.95 Q739.963 1539.15 734.315 1544.91 Z\" fill=\"#000000\" fill-rule=\"evenodd\" fill-opacity=\"1\" /><path clip-path=\"url(#clip610)\" d=\"M760.495 1514.29 L778.851 1514.29 L778.851 1518.22 L764.777 1518.22 L764.777 1526.7 Q765.796 1526.35 766.814 1526.19 Q767.833 1526 768.851 1526 Q774.638 1526 778.018 1529.17 Q781.398 1532.34 781.398 1537.76 Q781.398 1543.34 777.925 1546.44 Q774.453 1549.52 768.134 1549.52 Q765.958 1549.52 763.689 1549.15 Q761.444 1548.78 759.037 1548.04 L759.037 1543.34 Q761.12 1544.47 763.342 1545.03 Q765.564 1545.58 768.041 1545.58 Q772.046 1545.58 774.384 1543.48 Q776.722 1541.37 776.722 1537.76 Q776.722 1534.15 774.384 1532.04 Q772.046 1529.94 768.041 1529.94 Q766.166 1529.94 764.291 1530.35 Q762.439 1530.77 760.495 1531.65 L760.495 1514.29 Z\" fill=\"#000000\" fill-rule=\"evenodd\" fill-opacity=\"1\" /><path clip-path=\"url(#clip610)\" d=\"M1179.22 1517.37 Q1175.61 1517.37 1173.78 1520.93 Q1171.98 1524.47 1171.98 1531.6 Q1171.98 1538.71 1173.78 1542.27 Q1175.61 1545.82 1179.22 1545.82 Q1182.86 1545.82 1184.66 1542.27 Q1186.49 1538.71 1186.49 1531.6 Q1186.49 1524.47 1184.66 1520.93 Q1182.86 1517.37 1179.22 1517.37 M1179.22 1513.66 Q1185.03 1513.66 1188.09 1518.27 Q1191.17 1522.85 1191.17 1531.6 Q1191.17 1540.33 1188.09 1544.94 Q1185.03 1549.52 1179.22 1549.52 Q1173.41 1549.52 1170.33 1544.94 Q1167.28 1540.33 1167.28 1531.6 Q1167.28 1522.85 1170.33 1518.27 Q1173.41 1513.66 1179.22 1513.66 Z\" fill=\"#000000\" fill-rule=\"evenodd\" fill-opacity=\"1\" /><path clip-path=\"url(#clip610)\" d=\"M1199.38 1542.97 L1204.27 1542.97 L1204.27 1548.85 L1199.38 1548.85 L1199.38 1542.97 Z\" fill=\"#000000\" fill-rule=\"evenodd\" fill-opacity=\"1\" /><path clip-path=\"url(#clip610)\" d=\"M1214.5 1514.29 L1232.86 1514.29 L1232.86 1518.22 L1218.78 1518.22 L1218.78 1526.7 Q1219.8 1526.35 1220.82 1526.19 Q1221.84 1526 1222.86 1526 Q1228.64 1526 1232.02 1529.17 Q1235.4 1532.34 1235.4 1537.76 Q1235.4 1543.34 1231.93 1546.44 Q1228.46 1549.52 1222.14 1549.52 Q1219.96 1549.52 1217.69 1549.15 Q1215.45 1548.78 1213.04 1548.04 L1213.04 1543.34 Q1215.13 1544.47 1217.35 1545.03 Q1219.57 1545.58 1222.05 1545.58 Q1226.05 1545.58 1228.39 1543.48 Q1230.73 1541.37 1230.73 1537.76 Q1230.73 1534.15 1228.39 1532.04 Q1226.05 1529.94 1222.05 1529.94 Q1220.17 1529.94 1218.3 1530.35 Q1216.44 1530.77 1214.5 1531.65 L1214.5 1514.29 Z\" fill=\"#000000\" fill-rule=\"evenodd\" fill-opacity=\"1\" /><path clip-path=\"url(#clip610)\" d=\"M1254.62 1517.37 Q1251 1517.37 1249.18 1520.93 Q1247.37 1524.47 1247.37 1531.6 Q1247.37 1538.71 1249.18 1542.27 Q1251 1545.82 1254.62 1545.82 Q1258.25 1545.82 1260.06 1542.27 Q1261.88 1538.71 1261.88 1531.6 Q1261.88 1524.47 1260.06 1520.93 Q1258.25 1517.37 1254.62 1517.37 M1254.62 1513.66 Q1260.43 1513.66 1263.48 1518.27 Q1266.56 1522.85 1266.56 1531.6 Q1266.56 1540.33 1263.48 1544.94 Q1260.43 1549.52 1254.62 1549.52 Q1248.81 1549.52 1245.73 1544.94 Q1242.67 1540.33 1242.67 1531.6 Q1242.67 1522.85 1245.73 1518.27 Q1248.81 1513.66 1254.62 1513.66 Z\" fill=\"#000000\" fill-rule=\"evenodd\" fill-opacity=\"1\" /><path clip-path=\"url(#clip610)\" d=\"M1664.39 1517.37 Q1660.77 1517.37 1658.95 1520.93 Q1657.14 1524.47 1657.14 1531.6 Q1657.14 1538.71 1658.95 1542.27 Q1660.77 1545.82 1664.39 1545.82 Q1668.02 1545.82 1669.83 1542.27 Q1671.65 1538.71 1671.65 1531.6 Q1671.65 1524.47 1669.83 1520.93 Q1668.02 1517.37 1664.39 1517.37 M1664.39 1513.66 Q1670.2 1513.66 1673.25 1518.27 Q1676.33 1522.85 1676.33 1531.6 Q1676.33 1540.33 1673.25 1544.94 Q1670.2 1549.52 1664.39 1549.52 Q1658.58 1549.52 1655.5 1544.94 Q1652.44 1540.33 1652.44 1531.6 Q1652.44 1522.85 1655.5 1518.27 Q1658.58 1513.66 1664.39 1513.66 Z\" fill=\"#000000\" fill-rule=\"evenodd\" fill-opacity=\"1\" /><path clip-path=\"url(#clip610)\" d=\"M1684.55 1542.97 L1689.43 1542.97 L1689.43 1548.85 L1684.55 1548.85 L1684.55 1542.97 Z\" fill=\"#000000\" fill-rule=\"evenodd\" fill-opacity=\"1\" /><path clip-path=\"url(#clip610)\" d=\"M1698.44 1514.29 L1720.66 1514.29 L1720.66 1516.28 L1708.11 1548.85 L1703.23 1548.85 L1715.03 1518.22 L1698.44 1518.22 L1698.44 1514.29 Z\" fill=\"#000000\" fill-rule=\"evenodd\" fill-opacity=\"1\" /><path clip-path=\"url(#clip610)\" d=\"M1729.82 1514.29 L1748.18 1514.29 L1748.18 1518.22 L1734.11 1518.22 L1734.11 1526.7 Q1735.13 1526.35 1736.14 1526.19 Q1737.16 1526 1738.18 1526 Q1743.97 1526 1747.35 1529.17 Q1750.73 1532.34 1750.73 1537.76 Q1750.73 1543.34 1747.26 1546.44 Q1743.78 1549.52 1737.46 1549.52 Q1735.29 1549.52 1733.02 1549.15 Q1730.77 1548.78 1728.37 1548.04 L1728.37 1543.34 Q1730.45 1544.47 1732.67 1545.03 Q1734.89 1545.58 1737.37 1545.58 Q1741.38 1545.58 1743.71 1543.48 Q1746.05 1541.37 1746.05 1537.76 Q1746.05 1534.15 1743.71 1532.04 Q1741.38 1529.94 1737.37 1529.94 Q1735.5 1529.94 1733.62 1530.35 Q1731.77 1530.77 1729.82 1531.65 L1729.82 1514.29 Z\" fill=\"#000000\" fill-rule=\"evenodd\" fill-opacity=\"1\" /><path clip-path=\"url(#clip610)\" d=\"M2138.32 1544.91 L2145.96 1544.91 L2145.96 1518.55 L2137.65 1520.21 L2137.65 1515.95 L2145.91 1514.29 L2150.59 1514.29 L2150.59 1544.91 L2158.23 1544.91 L2158.23 1548.85 L2138.32 1548.85 L2138.32 1544.91 Z\" fill=\"#000000\" fill-rule=\"evenodd\" fill-opacity=\"1\" /><path clip-path=\"url(#clip610)\" d=\"M2167.67 1542.97 L2172.56 1542.97 L2172.56 1548.85 L2167.67 1548.85 L2167.67 1542.97 Z\" fill=\"#000000\" fill-rule=\"evenodd\" fill-opacity=\"1\" /><path clip-path=\"url(#clip610)\" d=\"M2192.74 1517.37 Q2189.13 1517.37 2187.3 1520.93 Q2185.5 1524.47 2185.5 1531.6 Q2185.5 1538.71 2187.3 1542.27 Q2189.13 1545.82 2192.74 1545.82 Q2196.38 1545.82 2198.18 1542.27 Q2200.01 1538.71 2200.01 1531.6 Q2200.01 1524.47 2198.18 1520.93 Q2196.38 1517.37 2192.74 1517.37 M2192.74 1513.66 Q2198.55 1513.66 2201.61 1518.27 Q2204.69 1522.85 2204.69 1531.6 Q2204.69 1540.33 2201.61 1544.94 Q2198.55 1549.52 2192.74 1549.52 Q2186.93 1549.52 2183.85 1544.94 Q2180.8 1540.33 2180.8 1531.6 Q2180.8 1522.85 2183.85 1518.27 Q2186.93 1513.66 2192.74 1513.66 Z\" fill=\"#000000\" fill-rule=\"evenodd\" fill-opacity=\"1\" /><path clip-path=\"url(#clip610)\" d=\"M2222.9 1517.37 Q2219.29 1517.37 2217.46 1520.93 Q2215.66 1524.47 2215.66 1531.6 Q2215.66 1538.71 2217.46 1542.27 Q2219.29 1545.82 2222.9 1545.82 Q2226.54 1545.82 2228.34 1542.27 Q2230.17 1538.71 2230.17 1531.6 Q2230.17 1524.47 2228.34 1520.93 Q2226.54 1517.37 2222.9 1517.37 M2222.9 1513.66 Q2228.71 1513.66 2231.77 1518.27 Q2234.85 1522.85 2234.85 1531.6 Q2234.85 1540.33 2231.77 1544.94 Q2228.71 1549.52 2222.9 1549.52 Q2217.09 1549.52 2214.02 1544.94 Q2210.96 1540.33 2210.96 1531.6 Q2210.96 1522.85 2214.02 1518.27 Q2217.09 1513.66 2222.9 1513.66 Z\" fill=\"#000000\" fill-rule=\"evenodd\" fill-opacity=\"1\" /><polyline clip-path=\"url(#clip612)\" style=\"stroke:#000000; stroke-linecap:round; stroke-linejoin:round; stroke-width:2; stroke-opacity:0.1; fill:none\" points=\"\n",
       "  186.274,1445.72 2352.76,1445.72 \n",
       "  \"/>\n",
       "<polyline clip-path=\"url(#clip612)\" style=\"stroke:#000000; stroke-linecap:round; stroke-linejoin:round; stroke-width:2; stroke-opacity:0.1; fill:none\" points=\"\n",
       "  186.274,1123.75 2352.76,1123.75 \n",
       "  \"/>\n",
       "<polyline clip-path=\"url(#clip612)\" style=\"stroke:#000000; stroke-linecap:round; stroke-linejoin:round; stroke-width:2; stroke-opacity:0.1; fill:none\" points=\"\n",
       "  186.274,801.786 2352.76,801.786 \n",
       "  \"/>\n",
       "<polyline clip-path=\"url(#clip612)\" style=\"stroke:#000000; stroke-linecap:round; stroke-linejoin:round; stroke-width:2; stroke-opacity:0.1; fill:none\" points=\"\n",
       "  186.274,479.82 2352.76,479.82 \n",
       "  \"/>\n",
       "<polyline clip-path=\"url(#clip612)\" style=\"stroke:#000000; stroke-linecap:round; stroke-linejoin:round; stroke-width:2; stroke-opacity:0.1; fill:none\" points=\"\n",
       "  186.274,157.855 2352.76,157.855 \n",
       "  \"/>\n",
       "<polyline clip-path=\"url(#clip610)\" style=\"stroke:#000000; stroke-linecap:round; stroke-linejoin:round; stroke-width:4; stroke-opacity:1; fill:none\" points=\"\n",
       "  186.274,1486.45 186.274,47.2441 \n",
       "  \"/>\n",
       "<polyline clip-path=\"url(#clip610)\" style=\"stroke:#000000; stroke-linecap:round; stroke-linejoin:round; stroke-width:4; stroke-opacity:1; fill:none\" points=\"\n",
       "  186.274,1445.72 205.172,1445.72 \n",
       "  \"/>\n",
       "<polyline clip-path=\"url(#clip610)\" style=\"stroke:#000000; stroke-linecap:round; stroke-linejoin:round; stroke-width:4; stroke-opacity:1; fill:none\" points=\"\n",
       "  186.274,1123.75 205.172,1123.75 \n",
       "  \"/>\n",
       "<polyline clip-path=\"url(#clip610)\" style=\"stroke:#000000; stroke-linecap:round; stroke-linejoin:round; stroke-width:4; stroke-opacity:1; fill:none\" points=\"\n",
       "  186.274,801.786 205.172,801.786 \n",
       "  \"/>\n",
       "<polyline clip-path=\"url(#clip610)\" style=\"stroke:#000000; stroke-linecap:round; stroke-linejoin:round; stroke-width:4; stroke-opacity:1; fill:none\" points=\"\n",
       "  186.274,479.82 205.172,479.82 \n",
       "  \"/>\n",
       "<polyline clip-path=\"url(#clip610)\" style=\"stroke:#000000; stroke-linecap:round; stroke-linejoin:round; stroke-width:4; stroke-opacity:1; fill:none\" points=\"\n",
       "  186.274,157.855 205.172,157.855 \n",
       "  \"/>\n",
       "<path clip-path=\"url(#clip610)\" d=\"M62.9365 1431.51 Q59.3254 1431.51 57.4967 1435.08 Q55.6912 1438.62 55.6912 1445.75 Q55.6912 1452.86 57.4967 1456.42 Q59.3254 1459.96 62.9365 1459.96 Q66.5707 1459.96 68.3763 1456.42 Q70.205 1452.86 70.205 1445.75 Q70.205 1438.62 68.3763 1435.08 Q66.5707 1431.51 62.9365 1431.51 M62.9365 1427.81 Q68.7467 1427.81 71.8022 1432.42 Q74.8809 1437 74.8809 1445.75 Q74.8809 1454.48 71.8022 1459.08 Q68.7467 1463.67 62.9365 1463.67 Q57.1264 1463.67 54.0477 1459.08 Q50.9921 1454.48 50.9921 1445.75 Q50.9921 1437 54.0477 1432.42 Q57.1264 1427.81 62.9365 1427.81 Z\" fill=\"#000000\" fill-rule=\"evenodd\" fill-opacity=\"1\" /><path clip-path=\"url(#clip610)\" d=\"M83.0984 1457.12 L87.9827 1457.12 L87.9827 1463 L83.0984 1463 L83.0984 1457.12 Z\" fill=\"#000000\" fill-rule=\"evenodd\" fill-opacity=\"1\" /><path clip-path=\"url(#clip610)\" d=\"M108.168 1431.51 Q104.557 1431.51 102.728 1435.08 Q100.922 1438.62 100.922 1445.75 Q100.922 1452.86 102.728 1456.42 Q104.557 1459.96 108.168 1459.96 Q111.802 1459.96 113.608 1456.42 Q115.436 1452.86 115.436 1445.75 Q115.436 1438.62 113.608 1435.08 Q111.802 1431.51 108.168 1431.51 M108.168 1427.81 Q113.978 1427.81 117.033 1432.42 Q120.112 1437 120.112 1445.75 Q120.112 1454.48 117.033 1459.08 Q113.978 1463.67 108.168 1463.67 Q102.358 1463.67 99.2789 1459.08 Q96.2234 1454.48 96.2234 1445.75 Q96.2234 1437 99.2789 1432.42 Q102.358 1427.81 108.168 1427.81 Z\" fill=\"#000000\" fill-rule=\"evenodd\" fill-opacity=\"1\" /><path clip-path=\"url(#clip610)\" d=\"M138.33 1431.51 Q134.719 1431.51 132.89 1435.08 Q131.084 1438.62 131.084 1445.75 Q131.084 1452.86 132.89 1456.42 Q134.719 1459.96 138.33 1459.96 Q141.964 1459.96 143.769 1456.42 Q145.598 1452.86 145.598 1445.75 Q145.598 1438.62 143.769 1435.08 Q141.964 1431.51 138.33 1431.51 M138.33 1427.81 Q144.14 1427.81 147.195 1432.42 Q150.274 1437 150.274 1445.75 Q150.274 1454.48 147.195 1459.08 Q144.14 1463.67 138.33 1463.67 Q132.519 1463.67 129.441 1459.08 Q126.385 1454.48 126.385 1445.75 Q126.385 1437 129.441 1432.42 Q132.519 1427.81 138.33 1427.81 Z\" fill=\"#000000\" fill-rule=\"evenodd\" fill-opacity=\"1\" /><path clip-path=\"url(#clip610)\" d=\"M63.9319 1109.55 Q60.3208 1109.55 58.4921 1113.11 Q56.6865 1116.66 56.6865 1123.79 Q56.6865 1130.89 58.4921 1134.46 Q60.3208 1138 63.9319 1138 Q67.5661 1138 69.3717 1134.46 Q71.2004 1130.89 71.2004 1123.79 Q71.2004 1116.66 69.3717 1113.11 Q67.5661 1109.55 63.9319 1109.55 M63.9319 1105.85 Q69.742 1105.85 72.7976 1110.45 Q75.8763 1115.04 75.8763 1123.79 Q75.8763 1132.51 72.7976 1137.12 Q69.742 1141.7 63.9319 1141.7 Q58.1217 1141.7 55.043 1137.12 Q51.9875 1132.51 51.9875 1123.79 Q51.9875 1115.04 55.043 1110.45 Q58.1217 1105.85 63.9319 1105.85 Z\" fill=\"#000000\" fill-rule=\"evenodd\" fill-opacity=\"1\" /><path clip-path=\"url(#clip610)\" d=\"M84.0938 1135.15 L88.978 1135.15 L88.978 1141.03 L84.0938 1141.03 L84.0938 1135.15 Z\" fill=\"#000000\" fill-rule=\"evenodd\" fill-opacity=\"1\" /><path clip-path=\"url(#clip610)\" d=\"M103.191 1137.1 L119.51 1137.1 L119.51 1141.03 L97.566 1141.03 L97.566 1137.1 Q100.228 1134.34 104.811 1129.71 Q109.418 1125.06 110.598 1123.72 Q112.844 1121.19 113.723 1119.46 Q114.626 1117.7 114.626 1116.01 Q114.626 1113.25 112.682 1111.52 Q110.76 1109.78 107.658 1109.78 Q105.459 1109.78 103.006 1110.54 Q100.575 1111.31 97.7974 1112.86 L97.7974 1108.14 Q100.621 1107 103.075 1106.42 Q105.529 1105.85 107.566 1105.85 Q112.936 1105.85 116.131 1108.53 Q119.325 1111.22 119.325 1115.71 Q119.325 1117.84 118.515 1119.76 Q117.728 1121.66 115.621 1124.25 Q115.043 1124.92 111.941 1128.14 Q108.839 1131.33 103.191 1137.1 Z\" fill=\"#000000\" fill-rule=\"evenodd\" fill-opacity=\"1\" /><path clip-path=\"url(#clip610)\" d=\"M129.371 1106.47 L147.728 1106.47 L147.728 1110.41 L133.654 1110.41 L133.654 1118.88 Q134.672 1118.53 135.691 1118.37 Q136.709 1118.18 137.728 1118.18 Q143.515 1118.18 146.894 1121.35 Q150.274 1124.53 150.274 1129.94 Q150.274 1135.52 146.802 1138.62 Q143.33 1141.7 137.01 1141.7 Q134.834 1141.7 132.566 1141.33 Q130.32 1140.96 127.913 1140.22 L127.913 1135.52 Q129.996 1136.66 132.219 1137.21 Q134.441 1137.77 136.918 1137.77 Q140.922 1137.77 143.26 1135.66 Q145.598 1133.55 145.598 1129.94 Q145.598 1126.33 143.26 1124.23 Q140.922 1122.12 136.918 1122.12 Q135.043 1122.12 133.168 1122.54 Q131.316 1122.95 129.371 1123.83 L129.371 1106.47 Z\" fill=\"#000000\" fill-rule=\"evenodd\" fill-opacity=\"1\" /><path clip-path=\"url(#clip610)\" d=\"M62.9365 787.584 Q59.3254 787.584 57.4967 791.149 Q55.6912 794.691 55.6912 801.82 Q55.6912 808.927 57.4967 812.491 Q59.3254 816.033 62.9365 816.033 Q66.5707 816.033 68.3763 812.491 Q70.205 808.927 70.205 801.82 Q70.205 794.691 68.3763 791.149 Q66.5707 787.584 62.9365 787.584 M62.9365 783.881 Q68.7467 783.881 71.8022 788.487 Q74.8809 793.07 74.8809 801.82 Q74.8809 810.547 71.8022 815.154 Q68.7467 819.737 62.9365 819.737 Q57.1264 819.737 54.0477 815.154 Q50.9921 810.547 50.9921 801.82 Q50.9921 793.07 54.0477 788.487 Q57.1264 783.881 62.9365 783.881 Z\" fill=\"#000000\" fill-rule=\"evenodd\" fill-opacity=\"1\" /><path clip-path=\"url(#clip610)\" d=\"M83.0984 813.186 L87.9827 813.186 L87.9827 819.066 L83.0984 819.066 L83.0984 813.186 Z\" fill=\"#000000\" fill-rule=\"evenodd\" fill-opacity=\"1\" /><path clip-path=\"url(#clip610)\" d=\"M98.2141 784.506 L116.57 784.506 L116.57 788.441 L102.496 788.441 L102.496 796.913 Q103.515 796.566 104.534 796.404 Q105.552 796.218 106.571 796.218 Q112.358 796.218 115.737 799.39 Q119.117 802.561 119.117 807.978 Q119.117 813.556 115.645 816.658 Q112.172 819.737 105.853 819.737 Q103.677 819.737 101.409 819.366 Q99.1632 818.996 96.7558 818.255 L96.7558 813.556 Q98.8391 814.691 101.061 815.246 Q103.284 815.802 105.76 815.802 Q109.765 815.802 112.103 813.695 Q114.441 811.589 114.441 807.978 Q114.441 804.367 112.103 802.26 Q109.765 800.154 105.76 800.154 Q103.885 800.154 102.01 800.57 Q100.159 800.987 98.2141 801.867 L98.2141 784.506 Z\" fill=\"#000000\" fill-rule=\"evenodd\" fill-opacity=\"1\" /><path clip-path=\"url(#clip610)\" d=\"M138.33 787.584 Q134.719 787.584 132.89 791.149 Q131.084 794.691 131.084 801.82 Q131.084 808.927 132.89 812.491 Q134.719 816.033 138.33 816.033 Q141.964 816.033 143.769 812.491 Q145.598 808.927 145.598 801.82 Q145.598 794.691 143.769 791.149 Q141.964 787.584 138.33 787.584 M138.33 783.881 Q144.14 783.881 147.195 788.487 Q150.274 793.07 150.274 801.82 Q150.274 810.547 147.195 815.154 Q144.14 819.737 138.33 819.737 Q132.519 819.737 129.441 815.154 Q126.385 810.547 126.385 801.82 Q126.385 793.07 129.441 788.487 Q132.519 783.881 138.33 783.881 Z\" fill=\"#000000\" fill-rule=\"evenodd\" fill-opacity=\"1\" /><path clip-path=\"url(#clip610)\" d=\"M63.9319 465.619 Q60.3208 465.619 58.4921 469.184 Q56.6865 472.726 56.6865 479.855 Q56.6865 486.962 58.4921 490.526 Q60.3208 494.068 63.9319 494.068 Q67.5661 494.068 69.3717 490.526 Q71.2004 486.962 71.2004 479.855 Q71.2004 472.726 69.3717 469.184 Q67.5661 465.619 63.9319 465.619 M63.9319 461.915 Q69.742 461.915 72.7976 466.522 Q75.8763 471.105 75.8763 479.855 Q75.8763 488.582 72.7976 493.188 Q69.742 497.772 63.9319 497.772 Q58.1217 497.772 55.043 493.188 Q51.9875 488.582 51.9875 479.855 Q51.9875 471.105 55.043 466.522 Q58.1217 461.915 63.9319 461.915 Z\" fill=\"#000000\" fill-rule=\"evenodd\" fill-opacity=\"1\" /><path clip-path=\"url(#clip610)\" d=\"M84.0938 491.221 L88.978 491.221 L88.978 497.1 L84.0938 497.1 L84.0938 491.221 Z\" fill=\"#000000\" fill-rule=\"evenodd\" fill-opacity=\"1\" /><path clip-path=\"url(#clip610)\" d=\"M97.9826 462.54 L120.205 462.54 L120.205 464.531 L107.658 497.1 L102.774 497.1 L114.58 466.476 L97.9826 466.476 L97.9826 462.54 Z\" fill=\"#000000\" fill-rule=\"evenodd\" fill-opacity=\"1\" /><path clip-path=\"url(#clip610)\" d=\"M129.371 462.54 L147.728 462.54 L147.728 466.476 L133.654 466.476 L133.654 474.948 Q134.672 474.601 135.691 474.439 Q136.709 474.253 137.728 474.253 Q143.515 474.253 146.894 477.425 Q150.274 480.596 150.274 486.013 Q150.274 491.591 146.802 494.693 Q143.33 497.772 137.01 497.772 Q134.834 497.772 132.566 497.401 Q130.32 497.031 127.913 496.29 L127.913 491.591 Q129.996 492.725 132.219 493.281 Q134.441 493.837 136.918 493.837 Q140.922 493.837 143.26 491.73 Q145.598 489.624 145.598 486.013 Q145.598 482.401 143.26 480.295 Q140.922 478.189 136.918 478.189 Q135.043 478.189 133.168 478.605 Q131.316 479.022 129.371 479.901 L129.371 462.54 Z\" fill=\"#000000\" fill-rule=\"evenodd\" fill-opacity=\"1\" /><path clip-path=\"url(#clip610)\" d=\"M53.7467 171.2 L61.3856 171.2 L61.3856 144.835 L53.0754 146.501 L53.0754 142.242 L61.3393 140.575 L66.0152 140.575 L66.0152 171.2 L73.654 171.2 L73.654 175.135 L53.7467 175.135 L53.7467 171.2 Z\" fill=\"#000000\" fill-rule=\"evenodd\" fill-opacity=\"1\" /><path clip-path=\"url(#clip610)\" d=\"M83.0984 169.256 L87.9827 169.256 L87.9827 175.135 L83.0984 175.135 L83.0984 169.256 Z\" fill=\"#000000\" fill-rule=\"evenodd\" fill-opacity=\"1\" /><path clip-path=\"url(#clip610)\" d=\"M108.168 143.654 Q104.557 143.654 102.728 147.219 Q100.922 150.76 100.922 157.89 Q100.922 164.997 102.728 168.561 Q104.557 172.103 108.168 172.103 Q111.802 172.103 113.608 168.561 Q115.436 164.997 115.436 157.89 Q115.436 150.76 113.608 147.219 Q111.802 143.654 108.168 143.654 M108.168 139.95 Q113.978 139.95 117.033 144.557 Q120.112 149.14 120.112 157.89 Q120.112 166.617 117.033 171.223 Q113.978 175.807 108.168 175.807 Q102.358 175.807 99.2789 171.223 Q96.2234 166.617 96.2234 157.89 Q96.2234 149.14 99.2789 144.557 Q102.358 139.95 108.168 139.95 Z\" fill=\"#000000\" fill-rule=\"evenodd\" fill-opacity=\"1\" /><path clip-path=\"url(#clip610)\" d=\"M138.33 143.654 Q134.719 143.654 132.89 147.219 Q131.084 150.76 131.084 157.89 Q131.084 164.997 132.89 168.561 Q134.719 172.103 138.33 172.103 Q141.964 172.103 143.769 168.561 Q145.598 164.997 145.598 157.89 Q145.598 150.76 143.769 147.219 Q141.964 143.654 138.33 143.654 M138.33 139.95 Q144.14 139.95 147.195 144.557 Q150.274 149.14 150.274 157.89 Q150.274 166.617 147.195 171.223 Q144.14 175.807 138.33 175.807 Q132.519 175.807 129.441 171.223 Q126.385 166.617 126.385 157.89 Q126.385 149.14 129.441 144.557 Q132.519 139.95 138.33 139.95 Z\" fill=\"#000000\" fill-rule=\"evenodd\" fill-opacity=\"1\" /><circle clip-path=\"url(#clip612)\" cx=\"907.116\" cy=\"1146.52\" r=\"14.4\" fill=\"#009af9\" fill-rule=\"evenodd\" fill-opacity=\"1\" stroke=\"#000000\" stroke-opacity=\"1\" stroke-width=\"3.2\"/>\n",
       "<circle clip-path=\"url(#clip612)\" cx=\"1006.7\" cy=\"982.167\" r=\"14.4\" fill=\"#009af9\" fill-rule=\"evenodd\" fill-opacity=\"1\" stroke=\"#000000\" stroke-opacity=\"1\" stroke-width=\"3.2\"/>\n",
       "<circle clip-path=\"url(#clip612)\" cx=\"807.813\" cy=\"1309.03\" r=\"14.4\" fill=\"#009af9\" fill-rule=\"evenodd\" fill-opacity=\"1\" stroke=\"#000000\" stroke-opacity=\"1\" stroke-width=\"3.2\"/>\n",
       "<circle clip-path=\"url(#clip612)\" cx=\"1860.39\" cy=\"1431.52\" r=\"14.4\" fill=\"#009af9\" fill-rule=\"evenodd\" fill-opacity=\"1\" stroke=\"#000000\" stroke-opacity=\"1\" stroke-width=\"3.2\"/>\n",
       "<circle clip-path=\"url(#clip612)\" cx=\"878.359\" cy=\"1341.2\" r=\"14.4\" fill=\"#009af9\" fill-rule=\"evenodd\" fill-opacity=\"1\" stroke=\"#000000\" stroke-opacity=\"1\" stroke-width=\"3.2\"/>\n",
       "<circle clip-path=\"url(#clip612)\" cx=\"1600.07\" cy=\"1431.04\" r=\"14.4\" fill=\"#009af9\" fill-rule=\"evenodd\" fill-opacity=\"1\" stroke=\"#000000\" stroke-opacity=\"1\" stroke-width=\"3.2\"/>\n",
       "<circle clip-path=\"url(#clip612)\" cx=\"1314.95\" cy=\"1363.57\" r=\"14.4\" fill=\"#009af9\" fill-rule=\"evenodd\" fill-opacity=\"1\" stroke=\"#000000\" stroke-opacity=\"1\" stroke-width=\"3.2\"/>\n",
       "<circle clip-path=\"url(#clip612)\" cx=\"1208.42\" cy=\"1127.29\" r=\"14.4\" fill=\"#009af9\" fill-rule=\"evenodd\" fill-opacity=\"1\" stroke=\"#000000\" stroke-opacity=\"1\" stroke-width=\"3.2\"/>\n",
       "<circle clip-path=\"url(#clip612)\" cx=\"827.896\" cy=\"1303.65\" r=\"14.4\" fill=\"#009af9\" fill-rule=\"evenodd\" fill-opacity=\"1\" stroke=\"#000000\" stroke-opacity=\"1\" stroke-width=\"3.2\"/>\n",
       "<circle clip-path=\"url(#clip612)\" cx=\"1204.76\" cy=\"1443.32\" r=\"14.4\" fill=\"#009af9\" fill-rule=\"evenodd\" fill-opacity=\"1\" stroke=\"#000000\" stroke-opacity=\"1\" stroke-width=\"3.2\"/>\n",
       "<circle clip-path=\"url(#clip612)\" cx=\"1095.78\" cy=\"1268.52\" r=\"14.4\" fill=\"#009af9\" fill-rule=\"evenodd\" fill-opacity=\"1\" stroke=\"#000000\" stroke-opacity=\"1\" stroke-width=\"3.2\"/>\n",
       "<circle clip-path=\"url(#clip612)\" cx=\"939.332\" cy=\"1430.33\" r=\"14.4\" fill=\"#009af9\" fill-rule=\"evenodd\" fill-opacity=\"1\" stroke=\"#000000\" stroke-opacity=\"1\" stroke-width=\"3.2\"/>\n",
       "<circle clip-path=\"url(#clip612)\" cx=\"692.347\" cy=\"1267.19\" r=\"14.4\" fill=\"#009af9\" fill-rule=\"evenodd\" fill-opacity=\"1\" stroke=\"#000000\" stroke-opacity=\"1\" stroke-width=\"3.2\"/>\n",
       "<circle clip-path=\"url(#clip612)\" cx=\"871.756\" cy=\"1148.56\" r=\"14.4\" fill=\"#009af9\" fill-rule=\"evenodd\" fill-opacity=\"1\" stroke=\"#000000\" stroke-opacity=\"1\" stroke-width=\"3.2\"/>\n",
       "<circle clip-path=\"url(#clip612)\" cx=\"737.416\" cy=\"1334.07\" r=\"14.4\" fill=\"#009af9\" fill-rule=\"evenodd\" fill-opacity=\"1\" stroke=\"#000000\" stroke-opacity=\"1\" stroke-width=\"3.2\"/>\n",
       "<circle clip-path=\"url(#clip612)\" cx=\"780.688\" cy=\"1270.98\" r=\"14.4\" fill=\"#009af9\" fill-rule=\"evenodd\" fill-opacity=\"1\" stroke=\"#000000\" stroke-opacity=\"1\" stroke-width=\"3.2\"/>\n",
       "<circle clip-path=\"url(#clip612)\" cx=\"1884.79\" cy=\"1285.73\" r=\"14.4\" fill=\"#009af9\" fill-rule=\"evenodd\" fill-opacity=\"1\" stroke=\"#000000\" stroke-opacity=\"1\" stroke-width=\"3.2\"/>\n",
       "<circle clip-path=\"url(#clip612)\" cx=\"256.272\" cy=\"1404.07\" r=\"14.4\" fill=\"#009af9\" fill-rule=\"evenodd\" fill-opacity=\"1\" stroke=\"#000000\" stroke-opacity=\"1\" stroke-width=\"3.2\"/>\n",
       "<circle clip-path=\"url(#clip612)\" cx=\"394.772\" cy=\"1436.27\" r=\"14.4\" fill=\"#009af9\" fill-rule=\"evenodd\" fill-opacity=\"1\" stroke=\"#000000\" stroke-opacity=\"1\" stroke-width=\"3.2\"/>\n",
       "<circle clip-path=\"url(#clip612)\" cx=\"728.737\" cy=\"1366.51\" r=\"14.4\" fill=\"#009af9\" fill-rule=\"evenodd\" fill-opacity=\"1\" stroke=\"#000000\" stroke-opacity=\"1\" stroke-width=\"3.2\"/>\n",
       "<circle clip-path=\"url(#clip612)\" cx=\"2291.44\" cy=\"1378.87\" r=\"14.4\" fill=\"#009af9\" fill-rule=\"evenodd\" fill-opacity=\"1\" stroke=\"#000000\" stroke-opacity=\"1\" stroke-width=\"3.2\"/>\n",
       "<circle clip-path=\"url(#clip612)\" cx=\"247.654\" cy=\"1433.84\" r=\"14.4\" fill=\"#009af9\" fill-rule=\"evenodd\" fill-opacity=\"1\" stroke=\"#000000\" stroke-opacity=\"1\" stroke-width=\"3.2\"/>\n",
       "<circle clip-path=\"url(#clip612)\" cx=\"1738.92\" cy=\"1224.73\" r=\"14.4\" fill=\"#009af9\" fill-rule=\"evenodd\" fill-opacity=\"1\" stroke=\"#000000\" stroke-opacity=\"1\" stroke-width=\"3.2\"/>\n",
       "<circle clip-path=\"url(#clip612)\" cx=\"586.642\" cy=\"1322.95\" r=\"14.4\" fill=\"#009af9\" fill-rule=\"evenodd\" fill-opacity=\"1\" stroke=\"#000000\" stroke-opacity=\"1\" stroke-width=\"3.2\"/>\n",
       "<circle clip-path=\"url(#clip612)\" cx=\"1088.89\" cy=\"1350.58\" r=\"14.4\" fill=\"#009af9\" fill-rule=\"evenodd\" fill-opacity=\"1\" stroke=\"#000000\" stroke-opacity=\"1\" stroke-width=\"3.2\"/>\n",
       "<circle clip-path=\"url(#clip612)\" cx=\"737.174\" cy=\"1335.72\" r=\"14.4\" fill=\"#009af9\" fill-rule=\"evenodd\" fill-opacity=\"1\" stroke=\"#000000\" stroke-opacity=\"1\" stroke-width=\"3.2\"/>\n",
       "<circle clip-path=\"url(#clip612)\" cx=\"247.59\" cy=\"1436.35\" r=\"14.4\" fill=\"#009af9\" fill-rule=\"evenodd\" fill-opacity=\"1\" stroke=\"#000000\" stroke-opacity=\"1\" stroke-width=\"3.2\"/>\n",
       "<circle clip-path=\"url(#clip612)\" cx=\"279.162\" cy=\"1206.3\" r=\"14.4\" fill=\"#009af9\" fill-rule=\"evenodd\" fill-opacity=\"1\" stroke=\"#000000\" stroke-opacity=\"1\" stroke-width=\"3.2\"/>\n",
       "<circle clip-path=\"url(#clip612)\" cx=\"737.33\" cy=\"1336.13\" r=\"14.4\" fill=\"#009af9\" fill-rule=\"evenodd\" fill-opacity=\"1\" stroke=\"#000000\" stroke-opacity=\"1\" stroke-width=\"3.2\"/>\n",
       "<circle clip-path=\"url(#clip612)\" cx=\"247.621\" cy=\"1436.56\" r=\"14.4\" fill=\"#009af9\" fill-rule=\"evenodd\" fill-opacity=\"1\" stroke=\"#000000\" stroke-opacity=\"1\" stroke-width=\"3.2\"/>\n",
       "<circle clip-path=\"url(#clip612)\" cx=\"1594.88\" cy=\"1408.04\" r=\"14.4\" fill=\"#009af9\" fill-rule=\"evenodd\" fill-opacity=\"1\" stroke=\"#000000\" stroke-opacity=\"1\" stroke-width=\"3.2\"/>\n",
       "<circle clip-path=\"url(#clip612)\" cx=\"660.408\" cy=\"1350.48\" r=\"14.4\" fill=\"#009af9\" fill-rule=\"evenodd\" fill-opacity=\"1\" stroke=\"#000000\" stroke-opacity=\"1\" stroke-width=\"3.2\"/>\n",
       "<circle clip-path=\"url(#clip612)\" cx=\"249.873\" cy=\"1439.62\" r=\"14.4\" fill=\"#009af9\" fill-rule=\"evenodd\" fill-opacity=\"1\" stroke=\"#000000\" stroke-opacity=\"1\" stroke-width=\"3.2\"/>\n",
       "<circle clip-path=\"url(#clip612)\" cx=\"249.558\" cy=\"1442.22\" r=\"14.4\" fill=\"#009af9\" fill-rule=\"evenodd\" fill-opacity=\"1\" stroke=\"#000000\" stroke-opacity=\"1\" stroke-width=\"3.2\"/>\n",
       "<circle clip-path=\"url(#clip612)\" cx=\"249.28\" cy=\"1443.91\" r=\"14.4\" fill=\"#009af9\" fill-rule=\"evenodd\" fill-opacity=\"1\" stroke=\"#000000\" stroke-opacity=\"1\" stroke-width=\"3.2\"/>\n",
       "<circle clip-path=\"url(#clip612)\" cx=\"247.614\" cy=\"1442.23\" r=\"14.4\" fill=\"#009af9\" fill-rule=\"evenodd\" fill-opacity=\"1\" stroke=\"#000000\" stroke-opacity=\"1\" stroke-width=\"3.2\"/>\n",
       "<circle clip-path=\"url(#clip612)\" cx=\"248.451\" cy=\"1443.03\" r=\"14.4\" fill=\"#009af9\" fill-rule=\"evenodd\" fill-opacity=\"1\" stroke=\"#000000\" stroke-opacity=\"1\" stroke-width=\"3.2\"/>\n",
       "<circle clip-path=\"url(#clip612)\" cx=\"272.67\" cy=\"1394.6\" r=\"14.4\" fill=\"#009af9\" fill-rule=\"evenodd\" fill-opacity=\"1\" stroke=\"#000000\" stroke-opacity=\"1\" stroke-width=\"3.2\"/>\n",
       "<circle clip-path=\"url(#clip612)\" cx=\"252.271\" cy=\"1428.56\" r=\"14.4\" fill=\"#009af9\" fill-rule=\"evenodd\" fill-opacity=\"1\" stroke=\"#000000\" stroke-opacity=\"1\" stroke-width=\"3.2\"/>\n",
       "<circle clip-path=\"url(#clip612)\" cx=\"249.544\" cy=\"1438.02\" r=\"14.4\" fill=\"#009af9\" fill-rule=\"evenodd\" fill-opacity=\"1\" stroke=\"#000000\" stroke-opacity=\"1\" stroke-width=\"3.2\"/>\n",
       "<circle clip-path=\"url(#clip612)\" cx=\"276.144\" cy=\"1409.19\" r=\"14.4\" fill=\"#009af9\" fill-rule=\"evenodd\" fill-opacity=\"1\" stroke=\"#000000\" stroke-opacity=\"1\" stroke-width=\"3.2\"/>\n",
       "<circle clip-path=\"url(#clip612)\" cx=\"266.093\" cy=\"1436.72\" r=\"14.4\" fill=\"#009af9\" fill-rule=\"evenodd\" fill-opacity=\"1\" stroke=\"#000000\" stroke-opacity=\"1\" stroke-width=\"3.2\"/>\n",
       "<circle clip-path=\"url(#clip612)\" cx=\"247.813\" cy=\"1445.28\" r=\"14.4\" fill=\"#009af9\" fill-rule=\"evenodd\" fill-opacity=\"1\" stroke=\"#000000\" stroke-opacity=\"1\" stroke-width=\"3.2\"/>\n",
       "<circle clip-path=\"url(#clip612)\" cx=\"255.368\" cy=\"1445.68\" r=\"14.4\" fill=\"#009af9\" fill-rule=\"evenodd\" fill-opacity=\"1\" stroke=\"#000000\" stroke-opacity=\"1\" stroke-width=\"3.2\"/>\n",
       "<circle clip-path=\"url(#clip612)\" cx=\"251.268\" cy=\"1445.57\" r=\"14.4\" fill=\"#009af9\" fill-rule=\"evenodd\" fill-opacity=\"1\" stroke=\"#000000\" stroke-opacity=\"1\" stroke-width=\"3.2\"/>\n",
       "<circle clip-path=\"url(#clip612)\" cx=\"249.544\" cy=\"1438.02\" r=\"14.4\" fill=\"#009af9\" fill-rule=\"evenodd\" fill-opacity=\"1\" stroke=\"#000000\" stroke-opacity=\"1\" stroke-width=\"3.2\"/>\n",
       "<circle clip-path=\"url(#clip612)\" cx=\"247.661\" cy=\"1437.66\" r=\"14.4\" fill=\"#009af9\" fill-rule=\"evenodd\" fill-opacity=\"1\" stroke=\"#000000\" stroke-opacity=\"1\" stroke-width=\"3.2\"/>\n",
       "<circle clip-path=\"url(#clip612)\" cx=\"249.416\" cy=\"1439.52\" r=\"14.4\" fill=\"#009af9\" fill-rule=\"evenodd\" fill-opacity=\"1\" stroke=\"#000000\" stroke-opacity=\"1\" stroke-width=\"3.2\"/>\n",
       "<circle clip-path=\"url(#clip612)\" cx=\"247.614\" cy=\"1440.21\" r=\"14.4\" fill=\"#009af9\" fill-rule=\"evenodd\" fill-opacity=\"1\" stroke=\"#000000\" stroke-opacity=\"1\" stroke-width=\"3.2\"/>\n",
       "<circle clip-path=\"url(#clip612)\" cx=\"277.325\" cy=\"1425.56\" r=\"14.4\" fill=\"#009af9\" fill-rule=\"evenodd\" fill-opacity=\"1\" stroke=\"#000000\" stroke-opacity=\"1\" stroke-width=\"3.2\"/>\n",
       "<circle clip-path=\"url(#clip612)\" cx=\"269.122\" cy=\"1402.52\" r=\"14.4\" fill=\"#009af9\" fill-rule=\"evenodd\" fill-opacity=\"1\" stroke=\"#000000\" stroke-opacity=\"1\" stroke-width=\"3.2\"/>\n",
       "<circle clip-path=\"url(#clip612)\" cx=\"288.082\" cy=\"1278.62\" r=\"14.4\" fill=\"#009af9\" fill-rule=\"evenodd\" fill-opacity=\"1\" stroke=\"#000000\" stroke-opacity=\"1\" stroke-width=\"3.2\"/>\n",
       "<circle clip-path=\"url(#clip612)\" cx=\"248.379\" cy=\"1445.13\" r=\"14.4\" fill=\"#009af9\" fill-rule=\"evenodd\" fill-opacity=\"1\" stroke=\"#000000\" stroke-opacity=\"1\" stroke-width=\"3.2\"/>\n",
       "<circle clip-path=\"url(#clip612)\" cx=\"262.693\" cy=\"1384.46\" r=\"14.4\" fill=\"#009af9\" fill-rule=\"evenodd\" fill-opacity=\"1\" stroke=\"#000000\" stroke-opacity=\"1\" stroke-width=\"3.2\"/>\n",
       "<circle clip-path=\"url(#clip612)\" cx=\"251.057\" cy=\"1445.71\" r=\"14.4\" fill=\"#009af9\" fill-rule=\"evenodd\" fill-opacity=\"1\" stroke=\"#000000\" stroke-opacity=\"1\" stroke-width=\"3.2\"/>\n",
       "<circle clip-path=\"url(#clip612)\" cx=\"247.596\" cy=\"1437.51\" r=\"14.4\" fill=\"#009af9\" fill-rule=\"evenodd\" fill-opacity=\"1\" stroke=\"#000000\" stroke-opacity=\"1\" stroke-width=\"3.2\"/>\n",
       "<circle clip-path=\"url(#clip612)\" cx=\"295.783\" cy=\"1276.77\" r=\"14.4\" fill=\"#009af9\" fill-rule=\"evenodd\" fill-opacity=\"1\" stroke=\"#000000\" stroke-opacity=\"1\" stroke-width=\"3.2\"/>\n",
       "<circle clip-path=\"url(#clip612)\" cx=\"249.535\" cy=\"1438.54\" r=\"14.4\" fill=\"#009af9\" fill-rule=\"evenodd\" fill-opacity=\"1\" stroke=\"#000000\" stroke-opacity=\"1\" stroke-width=\"3.2\"/>\n",
       "<circle clip-path=\"url(#clip612)\" cx=\"259.142\" cy=\"1374.77\" r=\"14.4\" fill=\"#009af9\" fill-rule=\"evenodd\" fill-opacity=\"1\" stroke=\"#000000\" stroke-opacity=\"1\" stroke-width=\"3.2\"/>\n",
       "<circle clip-path=\"url(#clip612)\" cx=\"247.593\" cy=\"1436.7\" r=\"14.4\" fill=\"#009af9\" fill-rule=\"evenodd\" fill-opacity=\"1\" stroke=\"#000000\" stroke-opacity=\"1\" stroke-width=\"3.2\"/>\n",
       "<circle clip-path=\"url(#clip612)\" cx=\"281.539\" cy=\"1415.26\" r=\"14.4\" fill=\"#009af9\" fill-rule=\"evenodd\" fill-opacity=\"1\" stroke=\"#000000\" stroke-opacity=\"1\" stroke-width=\"3.2\"/>\n",
       "<circle clip-path=\"url(#clip612)\" cx=\"268.348\" cy=\"1414.76\" r=\"14.4\" fill=\"#009af9\" fill-rule=\"evenodd\" fill-opacity=\"1\" stroke=\"#000000\" stroke-opacity=\"1\" stroke-width=\"3.2\"/>\n",
       "<circle clip-path=\"url(#clip612)\" cx=\"295.604\" cy=\"1275.09\" r=\"14.4\" fill=\"#009af9\" fill-rule=\"evenodd\" fill-opacity=\"1\" stroke=\"#000000\" stroke-opacity=\"1\" stroke-width=\"3.2\"/>\n",
       "<circle clip-path=\"url(#clip612)\" cx=\"247.593\" cy=\"1436.69\" r=\"14.4\" fill=\"#009af9\" fill-rule=\"evenodd\" fill-opacity=\"1\" stroke=\"#000000\" stroke-opacity=\"1\" stroke-width=\"3.2\"/>\n",
       "<circle clip-path=\"url(#clip612)\" cx=\"249.607\" cy=\"1438.15\" r=\"14.4\" fill=\"#009af9\" fill-rule=\"evenodd\" fill-opacity=\"1\" stroke=\"#000000\" stroke-opacity=\"1\" stroke-width=\"3.2\"/>\n",
       "<circle clip-path=\"url(#clip612)\" cx=\"251.275\" cy=\"1445.57\" r=\"14.4\" fill=\"#009af9\" fill-rule=\"evenodd\" fill-opacity=\"1\" stroke=\"#000000\" stroke-opacity=\"1\" stroke-width=\"3.2\"/>\n",
       "<circle clip-path=\"url(#clip612)\" cx=\"295.726\" cy=\"1278.28\" r=\"14.4\" fill=\"#009af9\" fill-rule=\"evenodd\" fill-opacity=\"1\" stroke=\"#000000\" stroke-opacity=\"1\" stroke-width=\"3.2\"/>\n",
       "<circle clip-path=\"url(#clip612)\" cx=\"249.544\" cy=\"1438.02\" r=\"14.4\" fill=\"#009af9\" fill-rule=\"evenodd\" fill-opacity=\"1\" stroke=\"#000000\" stroke-opacity=\"1\" stroke-width=\"3.2\"/>\n",
       "<circle clip-path=\"url(#clip612)\" cx=\"248.232\" cy=\"1415.08\" r=\"14.4\" fill=\"#009af9\" fill-rule=\"evenodd\" fill-opacity=\"1\" stroke=\"#000000\" stroke-opacity=\"1\" stroke-width=\"3.2\"/>\n",
       "<circle clip-path=\"url(#clip612)\" cx=\"268.578\" cy=\"1415.76\" r=\"14.4\" fill=\"#009af9\" fill-rule=\"evenodd\" fill-opacity=\"1\" stroke=\"#000000\" stroke-opacity=\"1\" stroke-width=\"3.2\"/>\n",
       "<circle clip-path=\"url(#clip612)\" cx=\"295.911\" cy=\"1278.41\" r=\"14.4\" fill=\"#009af9\" fill-rule=\"evenodd\" fill-opacity=\"1\" stroke=\"#000000\" stroke-opacity=\"1\" stroke-width=\"3.2\"/>\n",
       "<circle clip-path=\"url(#clip612)\" cx=\"247.611\" cy=\"1435.09\" r=\"14.4\" fill=\"#009af9\" fill-rule=\"evenodd\" fill-opacity=\"1\" stroke=\"#000000\" stroke-opacity=\"1\" stroke-width=\"3.2\"/>\n",
       "<circle clip-path=\"url(#clip612)\" cx=\"251.453\" cy=\"1445.57\" r=\"14.4\" fill=\"#009af9\" fill-rule=\"evenodd\" fill-opacity=\"1\" stroke=\"#000000\" stroke-opacity=\"1\" stroke-width=\"3.2\"/>\n",
       "<circle clip-path=\"url(#clip612)\" cx=\"250.505\" cy=\"1436.52\" r=\"14.4\" fill=\"#009af9\" fill-rule=\"evenodd\" fill-opacity=\"1\" stroke=\"#000000\" stroke-opacity=\"1\" stroke-width=\"3.2\"/>\n",
       "<circle clip-path=\"url(#clip612)\" cx=\"285.535\" cy=\"1417.72\" r=\"14.4\" fill=\"#009af9\" fill-rule=\"evenodd\" fill-opacity=\"1\" stroke=\"#000000\" stroke-opacity=\"1\" stroke-width=\"3.2\"/>\n",
       "<circle clip-path=\"url(#clip612)\" cx=\"259.37\" cy=\"1376.7\" r=\"14.4\" fill=\"#009af9\" fill-rule=\"evenodd\" fill-opacity=\"1\" stroke=\"#000000\" stroke-opacity=\"1\" stroke-width=\"3.2\"/>\n",
       "<circle clip-path=\"url(#clip612)\" cx=\"247.676\" cy=\"1434.22\" r=\"14.4\" fill=\"#009af9\" fill-rule=\"evenodd\" fill-opacity=\"1\" stroke=\"#000000\" stroke-opacity=\"1\" stroke-width=\"3.2\"/>\n",
       "<circle clip-path=\"url(#clip612)\" cx=\"295.993\" cy=\"1278.36\" r=\"14.4\" fill=\"#009af9\" fill-rule=\"evenodd\" fill-opacity=\"1\" stroke=\"#000000\" stroke-opacity=\"1\" stroke-width=\"3.2\"/>\n",
       "<circle clip-path=\"url(#clip612)\" cx=\"272.649\" cy=\"1418.64\" r=\"14.4\" fill=\"#009af9\" fill-rule=\"evenodd\" fill-opacity=\"1\" stroke=\"#000000\" stroke-opacity=\"1\" stroke-width=\"3.2\"/>\n",
       "<circle clip-path=\"url(#clip612)\" cx=\"250.975\" cy=\"1435.93\" r=\"14.4\" fill=\"#009af9\" fill-rule=\"evenodd\" fill-opacity=\"1\" stroke=\"#000000\" stroke-opacity=\"1\" stroke-width=\"3.2\"/>\n",
       "<circle clip-path=\"url(#clip612)\" cx=\"247.59\" cy=\"1445.72\" r=\"14.4\" fill=\"#009af9\" fill-rule=\"evenodd\" fill-opacity=\"1\" stroke=\"#000000\" stroke-opacity=\"1\" stroke-width=\"3.2\"/>\n",
       "<circle clip-path=\"url(#clip612)\" cx=\"274.029\" cy=\"1419.85\" r=\"14.4\" fill=\"#009af9\" fill-rule=\"evenodd\" fill-opacity=\"1\" stroke=\"#000000\" stroke-opacity=\"1\" stroke-width=\"3.2\"/>\n",
       "<circle clip-path=\"url(#clip612)\" cx=\"288.258\" cy=\"1419.43\" r=\"14.4\" fill=\"#009af9\" fill-rule=\"evenodd\" fill-opacity=\"1\" stroke=\"#000000\" stroke-opacity=\"1\" stroke-width=\"3.2\"/>\n",
       "<circle clip-path=\"url(#clip612)\" cx=\"251.47\" cy=\"1435.25\" r=\"14.4\" fill=\"#009af9\" fill-rule=\"evenodd\" fill-opacity=\"1\" stroke=\"#000000\" stroke-opacity=\"1\" stroke-width=\"3.2\"/>\n",
       "<circle clip-path=\"url(#clip612)\" cx=\"256.989\" cy=\"1392.16\" r=\"14.4\" fill=\"#009af9\" fill-rule=\"evenodd\" fill-opacity=\"1\" stroke=\"#000000\" stroke-opacity=\"1\" stroke-width=\"3.2\"/>\n",
       "<circle clip-path=\"url(#clip612)\" cx=\"295.655\" cy=\"1278.18\" r=\"14.4\" fill=\"#009af9\" fill-rule=\"evenodd\" fill-opacity=\"1\" stroke=\"#000000\" stroke-opacity=\"1\" stroke-width=\"3.2\"/>\n",
       "<circle clip-path=\"url(#clip612)\" cx=\"259.942\" cy=\"1369.37\" r=\"14.4\" fill=\"#009af9\" fill-rule=\"evenodd\" fill-opacity=\"1\" stroke=\"#000000\" stroke-opacity=\"1\" stroke-width=\"3.2\"/>\n",
       "<circle clip-path=\"url(#clip612)\" cx=\"253.487\" cy=\"1442.72\" r=\"14.4\" fill=\"#009af9\" fill-rule=\"evenodd\" fill-opacity=\"1\" stroke=\"#000000\" stroke-opacity=\"1\" stroke-width=\"3.2\"/>\n",
       "<circle clip-path=\"url(#clip612)\" cx=\"295.891\" cy=\"1278.83\" r=\"14.4\" fill=\"#009af9\" fill-rule=\"evenodd\" fill-opacity=\"1\" stroke=\"#000000\" stroke-opacity=\"1\" stroke-width=\"3.2\"/>\n",
       "<circle clip-path=\"url(#clip612)\" cx=\"369.219\" cy=\"1294.49\" r=\"14.4\" fill=\"#009af9\" fill-rule=\"evenodd\" fill-opacity=\"1\" stroke=\"#000000\" stroke-opacity=\"1\" stroke-width=\"3.2\"/>\n",
       "<circle clip-path=\"url(#clip612)\" cx=\"295.825\" cy=\"1279.23\" r=\"14.4\" fill=\"#009af9\" fill-rule=\"evenodd\" fill-opacity=\"1\" stroke=\"#000000\" stroke-opacity=\"1\" stroke-width=\"3.2\"/>\n",
       "<circle clip-path=\"url(#clip612)\" cx=\"251.2\" cy=\"1445.56\" r=\"14.4\" fill=\"#009af9\" fill-rule=\"evenodd\" fill-opacity=\"1\" stroke=\"#000000\" stroke-opacity=\"1\" stroke-width=\"3.2\"/>\n",
       "<circle clip-path=\"url(#clip612)\" cx=\"250.635\" cy=\"1445.57\" r=\"14.4\" fill=\"#009af9\" fill-rule=\"evenodd\" fill-opacity=\"1\" stroke=\"#000000\" stroke-opacity=\"1\" stroke-width=\"3.2\"/>\n",
       "<circle clip-path=\"url(#clip612)\" cx=\"261.704\" cy=\"1385.97\" r=\"14.4\" fill=\"#009af9\" fill-rule=\"evenodd\" fill-opacity=\"1\" stroke=\"#000000\" stroke-opacity=\"1\" stroke-width=\"3.2\"/>\n",
       "<circle clip-path=\"url(#clip612)\" cx=\"274.093\" cy=\"1236.12\" r=\"14.4\" fill=\"#009af9\" fill-rule=\"evenodd\" fill-opacity=\"1\" stroke=\"#000000\" stroke-opacity=\"1\" stroke-width=\"3.2\"/>\n",
       "<circle clip-path=\"url(#clip612)\" cx=\"263.946\" cy=\"1436.88\" r=\"14.4\" fill=\"#009af9\" fill-rule=\"evenodd\" fill-opacity=\"1\" stroke=\"#000000\" stroke-opacity=\"1\" stroke-width=\"3.2\"/>\n",
       "<circle clip-path=\"url(#clip612)\" cx=\"456.423\" cy=\"1255.93\" r=\"14.4\" fill=\"#009af9\" fill-rule=\"evenodd\" fill-opacity=\"1\" stroke=\"#000000\" stroke-opacity=\"1\" stroke-width=\"3.2\"/>\n",
       "<circle clip-path=\"url(#clip612)\" cx=\"247.98\" cy=\"1357.64\" r=\"14.4\" fill=\"#009af9\" fill-rule=\"evenodd\" fill-opacity=\"1\" stroke=\"#000000\" stroke-opacity=\"1\" stroke-width=\"3.2\"/>\n",
       "<circle clip-path=\"url(#clip612)\" cx=\"275.027\" cy=\"1235.56\" r=\"14.4\" fill=\"#009af9\" fill-rule=\"evenodd\" fill-opacity=\"1\" stroke=\"#000000\" stroke-opacity=\"1\" stroke-width=\"3.2\"/>\n",
       "<circle clip-path=\"url(#clip612)\" cx=\"250.917\" cy=\"1445.53\" r=\"14.4\" fill=\"#009af9\" fill-rule=\"evenodd\" fill-opacity=\"1\" stroke=\"#000000\" stroke-opacity=\"1\" stroke-width=\"3.2\"/>\n",
       "<polyline clip-path=\"url(#clip612)\" style=\"stroke:#e26f46; stroke-linecap:round; stroke-linejoin:round; stroke-width:4; stroke-opacity:1; fill:none\" points=\"\n",
       "  247.59,1445.72 260.896,1436.88 383.935,1355.14 457.876,1306.02 520.392,1264.49 588.302,1219.38 650.909,1177.79 718.031,1133.2 795.798,1081.54 864.908,1035.63 \n",
       "  925.511,995.37 991.585,951.476 1058.05,907.322 1131.54,858.505 1201.46,812.056 1274.16,763.759 1335.36,723.104 1410.08,673.469 1478.52,628 1541.74,586.006 \n",
       "  1605.77,543.467 1677.54,495.793 1742.57,452.593 1817.03,403.131 1885.97,357.334 1953.93,312.184 2019.92,268.347 2087.57,223.408 2161.69,174.172 2269.35,102.649 \n",
       "  2291.44,87.9763 \n",
       "  \"/>\n",
       "<path clip-path=\"url(#clip610)\" d=\"\n",
       "M258.49 250.738 L527.569 250.738 L527.569 95.2176 L258.49 95.2176  Z\n",
       "  \" fill=\"#ffffff\" fill-rule=\"evenodd\" fill-opacity=\"1\"/>\n",
       "<polyline clip-path=\"url(#clip610)\" style=\"stroke:#000000; stroke-linecap:round; stroke-linejoin:round; stroke-width:4; stroke-opacity:1; fill:none\" points=\"\n",
       "  258.49,250.738 527.569,250.738 527.569,95.2176 258.49,95.2176 258.49,250.738 \n",
       "  \"/>\n",
       "<circle clip-path=\"url(#clip610)\" cx=\"354.778\" cy=\"147.058\" r=\"23.04\" fill=\"#009af9\" fill-rule=\"evenodd\" fill-opacity=\"1\" stroke=\"#000000\" stroke-opacity=\"1\" stroke-width=\"5.12\"/>\n",
       "<path clip-path=\"url(#clip610)\" d=\"M464.909 166.745 Q463.103 171.375 461.39 172.787 Q459.677 174.199 456.807 174.199 L453.404 174.199 L453.404 170.634 L455.904 170.634 Q457.663 170.634 458.636 169.8 Q459.608 168.967 460.788 165.865 L461.552 163.921 L451.066 138.412 L455.58 138.412 L463.682 158.689 L471.784 138.412 L476.298 138.412 L464.909 166.745 Z\" fill=\"#000000\" fill-rule=\"evenodd\" fill-opacity=\"1\" /><path clip-path=\"url(#clip610)\" d=\"M483.589 160.402 L491.228 160.402 L491.228 134.037 L482.918 135.703 L482.918 131.444 L491.182 129.778 L495.858 129.778 L495.858 160.402 L503.497 160.402 L503.497 164.338 L483.589 164.338 L483.589 160.402 Z\" fill=\"#000000\" fill-rule=\"evenodd\" fill-opacity=\"1\" /><polyline clip-path=\"url(#clip610)\" style=\"stroke:#e26f46; stroke-linecap:round; stroke-linejoin:round; stroke-width:4; stroke-opacity:1; fill:none\" points=\"\n",
       "  282.562,198.898 426.994,198.898 \n",
       "  \"/>\n",
       "<path clip-path=\"url(#clip610)\" d=\"M464.909 218.585 Q463.103 223.215 461.39 224.627 Q459.677 226.039 456.807 226.039 L453.404 226.039 L453.404 222.474 L455.904 222.474 Q457.663 222.474 458.636 221.64 Q459.608 220.807 460.788 217.705 L461.552 215.761 L451.066 190.252 L455.58 190.252 L463.682 210.529 L471.784 190.252 L476.298 190.252 L464.909 218.585 Z\" fill=\"#000000\" fill-rule=\"evenodd\" fill-opacity=\"1\" /><path clip-path=\"url(#clip610)\" d=\"M486.807 212.242 L503.126 212.242 L503.126 216.178 L481.182 216.178 L481.182 212.242 Q483.844 209.488 488.427 204.858 Q493.034 200.205 494.214 198.863 Q496.46 196.34 497.339 194.604 Q498.242 192.844 498.242 191.155 Q498.242 188.4 496.297 186.664 Q494.376 184.928 491.274 184.928 Q489.075 184.928 486.622 185.692 Q484.191 186.455 481.413 188.006 L481.413 183.284 Q484.237 182.15 486.691 181.571 Q489.145 180.993 491.182 180.993 Q496.552 180.993 499.747 183.678 Q502.941 186.363 502.941 190.854 Q502.941 192.983 502.131 194.905 Q501.344 196.803 499.237 199.395 Q498.659 200.067 495.557 203.284 Q492.455 206.479 486.807 212.242 Z\" fill=\"#000000\" fill-rule=\"evenodd\" fill-opacity=\"1\" /></svg>\n"
      ]
     },
     "execution_count": 215,
     "metadata": {},
     "output_type": "execute_result"
    }
   ],
   "source": [
    "scatter(test_trait1.lod[1:100], gemma_samples_results[1:100])\n",
    "plot!(x -> x)"
   ]
  },
  {
   "cell_type": "code",
   "execution_count": 208,
   "id": "fa6b6e16-9ecb-4a4f-aadc-4e724953971d",
   "metadata": {},
   "outputs": [
    {
     "data": {
      "text/plain": [
       "(18153.226713966164, 81)"
      ]
     },
     "execution_count": 208,
     "metadata": {},
     "output_type": "execute_result"
    }
   ],
   "source": [
    "findmax(test_trait1.lod[1:100] ./ gemma_samples_results[1:100])"
   ]
  },
  {
   "cell_type": "code",
   "execution_count": 211,
   "id": "f1df93a4-6ade-44a4-b4d2-820e8ac43dd3",
   "metadata": {},
   "outputs": [
    {
     "data": {
      "text/plain": [
       "0.0"
      ]
     },
     "execution_count": 211,
     "metadata": {},
     "output_type": "execute_result"
    }
   ],
   "source": [
    "test_trait1.lod[81] = 0.0"
   ]
  },
  {
   "cell_type": "code",
   "execution_count": 213,
   "id": "6202d856-48a1-4b21-9038-99cd461376ac",
   "metadata": {},
   "outputs": [
    {
     "data": {
      "text/plain": [
       "0.0"
      ]
     },
     "execution_count": 213,
     "metadata": {},
     "output_type": "execute_result"
    }
   ],
   "source": [
    "gemma_samples_results[81] = 0.0"
   ]
  },
  {
   "cell_type": "code",
   "execution_count": 214,
   "id": "2e143fe7-58ec-4667-a1fb-c30e7db656f4",
   "metadata": {},
   "outputs": [
    {
     "data": {
      "image/svg+xml": [
       "<?xml version=\"1.0\" encoding=\"utf-8\"?>\n",
       "<svg xmlns=\"http://www.w3.org/2000/svg\" xmlns:xlink=\"http://www.w3.org/1999/xlink\" width=\"600\" height=\"400\" viewBox=\"0 0 2400 1600\">\n",
       "<defs>\n",
       "  <clipPath id=\"clip570\">\n",
       "    <rect x=\"0\" y=\"0\" width=\"2400\" height=\"1600\"/>\n",
       "  </clipPath>\n",
       "</defs>\n",
       "<path clip-path=\"url(#clip570)\" d=\"\n",
       "M0 1600 L2400 1600 L2400 0 L0 0  Z\n",
       "  \" fill=\"#ffffff\" fill-rule=\"evenodd\" fill-opacity=\"1\"/>\n",
       "<defs>\n",
       "  <clipPath id=\"clip571\">\n",
       "    <rect x=\"480\" y=\"0\" width=\"1681\" height=\"1600\"/>\n",
       "  </clipPath>\n",
       "</defs>\n",
       "<path clip-path=\"url(#clip570)\" d=\"\n",
       "M170.857 1486.45 L2352.76 1486.45 L2352.76 47.2441 L170.857 47.2441  Z\n",
       "  \" fill=\"#ffffff\" fill-rule=\"evenodd\" fill-opacity=\"1\"/>\n",
       "<defs>\n",
       "  <clipPath id=\"clip572\">\n",
       "    <rect x=\"170\" y=\"47\" width=\"2183\" height=\"1440\"/>\n",
       "  </clipPath>\n",
       "</defs>\n",
       "<polyline clip-path=\"url(#clip572)\" style=\"stroke:#000000; stroke-linecap:round; stroke-linejoin:round; stroke-width:2; stroke-opacity:0.1; fill:none\" points=\"\n",
       "  211.817,1486.45 211.817,47.2441 \n",
       "  \"/>\n",
       "<polyline clip-path=\"url(#clip572)\" style=\"stroke:#000000; stroke-linecap:round; stroke-linejoin:round; stroke-width:2; stroke-opacity:0.1; fill:none\" points=\"\n",
       "  731.614,1486.45 731.614,47.2441 \n",
       "  \"/>\n",
       "<polyline clip-path=\"url(#clip572)\" style=\"stroke:#000000; stroke-linecap:round; stroke-linejoin:round; stroke-width:2; stroke-opacity:0.1; fill:none\" points=\"\n",
       "  1251.41,1486.45 1251.41,47.2441 \n",
       "  \"/>\n",
       "<polyline clip-path=\"url(#clip572)\" style=\"stroke:#000000; stroke-linecap:round; stroke-linejoin:round; stroke-width:2; stroke-opacity:0.1; fill:none\" points=\"\n",
       "  1771.21,1486.45 1771.21,47.2441 \n",
       "  \"/>\n",
       "<polyline clip-path=\"url(#clip572)\" style=\"stroke:#000000; stroke-linecap:round; stroke-linejoin:round; stroke-width:2; stroke-opacity:0.1; fill:none\" points=\"\n",
       "  2291,1486.45 2291,47.2441 \n",
       "  \"/>\n",
       "<polyline clip-path=\"url(#clip570)\" style=\"stroke:#000000; stroke-linecap:round; stroke-linejoin:round; stroke-width:4; stroke-opacity:1; fill:none\" points=\"\n",
       "  170.857,1486.45 2352.76,1486.45 \n",
       "  \"/>\n",
       "<polyline clip-path=\"url(#clip570)\" style=\"stroke:#000000; stroke-linecap:round; stroke-linejoin:round; stroke-width:4; stroke-opacity:1; fill:none\" points=\"\n",
       "  211.817,1486.45 211.817,1467.55 \n",
       "  \"/>\n",
       "<polyline clip-path=\"url(#clip570)\" style=\"stroke:#000000; stroke-linecap:round; stroke-linejoin:round; stroke-width:4; stroke-opacity:1; fill:none\" points=\"\n",
       "  731.614,1486.45 731.614,1467.55 \n",
       "  \"/>\n",
       "<polyline clip-path=\"url(#clip570)\" style=\"stroke:#000000; stroke-linecap:round; stroke-linejoin:round; stroke-width:4; stroke-opacity:1; fill:none\" points=\"\n",
       "  1251.41,1486.45 1251.41,1467.55 \n",
       "  \"/>\n",
       "<polyline clip-path=\"url(#clip570)\" style=\"stroke:#000000; stroke-linecap:round; stroke-linejoin:round; stroke-width:4; stroke-opacity:1; fill:none\" points=\"\n",
       "  1771.21,1486.45 1771.21,1467.55 \n",
       "  \"/>\n",
       "<polyline clip-path=\"url(#clip570)\" style=\"stroke:#000000; stroke-linecap:round; stroke-linejoin:round; stroke-width:4; stroke-opacity:1; fill:none\" points=\"\n",
       "  2291,1486.45 2291,1467.55 \n",
       "  \"/>\n",
       "<path clip-path=\"url(#clip570)\" d=\"M211.817 1517.37 Q208.206 1517.37 206.378 1520.93 Q204.572 1524.47 204.572 1531.6 Q204.572 1538.71 206.378 1542.27 Q208.206 1545.82 211.817 1545.82 Q215.452 1545.82 217.257 1542.27 Q219.086 1538.71 219.086 1531.6 Q219.086 1524.47 217.257 1520.93 Q215.452 1517.37 211.817 1517.37 M211.817 1513.66 Q217.628 1513.66 220.683 1518.27 Q223.762 1522.85 223.762 1531.6 Q223.762 1540.33 220.683 1544.94 Q217.628 1549.52 211.817 1549.52 Q206.007 1549.52 202.929 1544.94 Q199.873 1540.33 199.873 1531.6 Q199.873 1522.85 202.929 1518.27 Q206.007 1513.66 211.817 1513.66 Z\" fill=\"#000000\" fill-rule=\"evenodd\" fill-opacity=\"1\" /><path clip-path=\"url(#clip570)\" d=\"M710.885 1544.91 L727.204 1544.91 L727.204 1548.85 L705.26 1548.85 L705.26 1544.91 Q707.922 1542.16 712.505 1537.53 Q717.112 1532.88 718.292 1531.53 Q720.538 1529.01 721.417 1527.27 Q722.32 1525.51 722.32 1523.82 Q722.32 1521.07 720.376 1519.33 Q718.454 1517.6 715.353 1517.6 Q713.154 1517.6 710.7 1518.36 Q708.269 1519.13 705.492 1520.68 L705.492 1515.95 Q708.316 1514.82 710.769 1514.24 Q713.223 1513.66 715.26 1513.66 Q720.63 1513.66 723.825 1516.35 Q727.019 1519.03 727.019 1523.52 Q727.019 1525.65 726.209 1527.57 Q725.422 1529.47 723.315 1532.07 Q722.737 1532.74 719.635 1535.95 Q716.533 1539.15 710.885 1544.91 Z\" fill=\"#000000\" fill-rule=\"evenodd\" fill-opacity=\"1\" /><path clip-path=\"url(#clip570)\" d=\"M737.065 1514.29 L755.422 1514.29 L755.422 1518.22 L741.348 1518.22 L741.348 1526.7 Q742.366 1526.35 743.385 1526.19 Q744.403 1526 745.422 1526 Q751.209 1526 754.588 1529.17 Q757.968 1532.34 757.968 1537.76 Q757.968 1543.34 754.496 1546.44 Q751.024 1549.52 744.704 1549.52 Q742.528 1549.52 740.26 1549.15 Q738.014 1548.78 735.607 1548.04 L735.607 1543.34 Q737.69 1544.47 739.913 1545.03 Q742.135 1545.58 744.612 1545.58 Q748.616 1545.58 750.954 1543.48 Q753.292 1541.37 753.292 1537.76 Q753.292 1534.15 750.954 1532.04 Q748.616 1529.94 744.612 1529.94 Q742.737 1529.94 740.862 1530.35 Q739.01 1530.77 737.065 1531.65 L737.065 1514.29 Z\" fill=\"#000000\" fill-rule=\"evenodd\" fill-opacity=\"1\" /><path clip-path=\"url(#clip570)\" d=\"M1226.11 1514.29 L1244.47 1514.29 L1244.47 1518.22 L1230.39 1518.22 L1230.39 1526.7 Q1231.41 1526.35 1232.43 1526.19 Q1233.45 1526 1234.47 1526 Q1240.25 1526 1243.63 1529.17 Q1247.01 1532.34 1247.01 1537.76 Q1247.01 1543.34 1243.54 1546.44 Q1240.07 1549.52 1233.75 1549.52 Q1231.57 1549.52 1229.3 1549.15 Q1227.06 1548.78 1224.65 1548.04 L1224.65 1543.34 Q1226.73 1544.47 1228.96 1545.03 Q1231.18 1545.58 1233.66 1545.58 Q1237.66 1545.58 1240 1543.48 Q1242.34 1541.37 1242.34 1537.76 Q1242.34 1534.15 1240 1532.04 Q1237.66 1529.94 1233.66 1529.94 Q1231.78 1529.94 1229.91 1530.35 Q1228.05 1530.77 1226.11 1531.65 L1226.11 1514.29 Z\" fill=\"#000000\" fill-rule=\"evenodd\" fill-opacity=\"1\" /><path clip-path=\"url(#clip570)\" d=\"M1266.23 1517.37 Q1262.61 1517.37 1260.79 1520.93 Q1258.98 1524.47 1258.98 1531.6 Q1258.98 1538.71 1260.79 1542.27 Q1262.61 1545.82 1266.23 1545.82 Q1269.86 1545.82 1271.67 1542.27 Q1273.49 1538.71 1273.49 1531.6 Q1273.49 1524.47 1271.67 1520.93 Q1269.86 1517.37 1266.23 1517.37 M1266.23 1513.66 Q1272.04 1513.66 1275.09 1518.27 Q1278.17 1522.85 1278.17 1531.6 Q1278.17 1540.33 1275.09 1544.94 Q1272.04 1549.52 1266.23 1549.52 Q1260.42 1549.52 1257.34 1544.94 Q1254.28 1540.33 1254.28 1531.6 Q1254.28 1522.85 1257.34 1518.27 Q1260.42 1513.66 1266.23 1513.66 Z\" fill=\"#000000\" fill-rule=\"evenodd\" fill-opacity=\"1\" /><path clip-path=\"url(#clip570)\" d=\"M1745.06 1514.29 L1767.28 1514.29 L1767.28 1516.28 L1754.74 1548.85 L1749.85 1548.85 L1761.66 1518.22 L1745.06 1518.22 L1745.06 1514.29 Z\" fill=\"#000000\" fill-rule=\"evenodd\" fill-opacity=\"1\" /><path clip-path=\"url(#clip570)\" d=\"M1776.45 1514.29 L1794.81 1514.29 L1794.81 1518.22 L1780.73 1518.22 L1780.73 1526.7 Q1781.75 1526.35 1782.77 1526.19 Q1783.79 1526 1784.81 1526 Q1790.59 1526 1793.97 1529.17 Q1797.35 1532.34 1797.35 1537.76 Q1797.35 1543.34 1793.88 1546.44 Q1790.41 1549.52 1784.09 1549.52 Q1781.91 1549.52 1779.64 1549.15 Q1777.4 1548.78 1774.99 1548.04 L1774.99 1543.34 Q1777.08 1544.47 1779.3 1545.03 Q1781.52 1545.58 1784 1545.58 Q1788 1545.58 1790.34 1543.48 Q1792.68 1541.37 1792.68 1537.76 Q1792.68 1534.15 1790.34 1532.04 Q1788 1529.94 1784 1529.94 Q1782.12 1529.94 1780.25 1530.35 Q1778.39 1530.77 1776.45 1531.65 L1776.45 1514.29 Z\" fill=\"#000000\" fill-rule=\"evenodd\" fill-opacity=\"1\" /><path clip-path=\"url(#clip570)\" d=\"M2250.61 1544.91 L2258.25 1544.91 L2258.25 1518.55 L2249.94 1520.21 L2249.94 1515.95 L2258.2 1514.29 L2262.88 1514.29 L2262.88 1544.91 L2270.52 1544.91 L2270.52 1548.85 L2250.61 1548.85 L2250.61 1544.91 Z\" fill=\"#000000\" fill-rule=\"evenodd\" fill-opacity=\"1\" /><path clip-path=\"url(#clip570)\" d=\"M2289.96 1517.37 Q2286.35 1517.37 2284.52 1520.93 Q2282.72 1524.47 2282.72 1531.6 Q2282.72 1538.71 2284.52 1542.27 Q2286.35 1545.82 2289.96 1545.82 Q2293.6 1545.82 2295.4 1542.27 Q2297.23 1538.71 2297.23 1531.6 Q2297.23 1524.47 2295.4 1520.93 Q2293.6 1517.37 2289.96 1517.37 M2289.96 1513.66 Q2295.77 1513.66 2298.83 1518.27 Q2301.91 1522.85 2301.91 1531.6 Q2301.91 1540.33 2298.83 1544.94 Q2295.77 1549.52 2289.96 1549.52 Q2284.15 1549.52 2281.07 1544.94 Q2278.02 1540.33 2278.02 1531.6 Q2278.02 1522.85 2281.07 1518.27 Q2284.15 1513.66 2289.96 1513.66 Z\" fill=\"#000000\" fill-rule=\"evenodd\" fill-opacity=\"1\" /><path clip-path=\"url(#clip570)\" d=\"M2320.12 1517.37 Q2316.51 1517.37 2314.68 1520.93 Q2312.88 1524.47 2312.88 1531.6 Q2312.88 1538.71 2314.68 1542.27 Q2316.51 1545.82 2320.12 1545.82 Q2323.76 1545.82 2325.56 1542.27 Q2327.39 1538.71 2327.39 1531.6 Q2327.39 1524.47 2325.56 1520.93 Q2323.76 1517.37 2320.12 1517.37 M2320.12 1513.66 Q2325.93 1513.66 2328.99 1518.27 Q2332.07 1522.85 2332.07 1531.6 Q2332.07 1540.33 2328.99 1544.94 Q2325.93 1549.52 2320.12 1549.52 Q2314.31 1549.52 2311.24 1544.94 Q2308.18 1540.33 2308.18 1531.6 Q2308.18 1522.85 2311.24 1518.27 Q2314.31 1513.66 2320.12 1513.66 Z\" fill=\"#000000\" fill-rule=\"evenodd\" fill-opacity=\"1\" /><polyline clip-path=\"url(#clip572)\" style=\"stroke:#000000; stroke-linecap:round; stroke-linejoin:round; stroke-width:2; stroke-opacity:0.1; fill:none\" points=\"\n",
       "  170.857,1445.72 2352.76,1445.72 \n",
       "  \"/>\n",
       "<polyline clip-path=\"url(#clip572)\" style=\"stroke:#000000; stroke-linecap:round; stroke-linejoin:round; stroke-width:2; stroke-opacity:0.1; fill:none\" points=\"\n",
       "  170.857,1189.88 2352.76,1189.88 \n",
       "  \"/>\n",
       "<polyline clip-path=\"url(#clip572)\" style=\"stroke:#000000; stroke-linecap:round; stroke-linejoin:round; stroke-width:2; stroke-opacity:0.1; fill:none\" points=\"\n",
       "  170.857,934.036 2352.76,934.036 \n",
       "  \"/>\n",
       "<polyline clip-path=\"url(#clip572)\" style=\"stroke:#000000; stroke-linecap:round; stroke-linejoin:round; stroke-width:2; stroke-opacity:0.1; fill:none\" points=\"\n",
       "  170.857,678.196 2352.76,678.196 \n",
       "  \"/>\n",
       "<polyline clip-path=\"url(#clip572)\" style=\"stroke:#000000; stroke-linecap:round; stroke-linejoin:round; stroke-width:2; stroke-opacity:0.1; fill:none\" points=\"\n",
       "  170.857,422.357 2352.76,422.357 \n",
       "  \"/>\n",
       "<polyline clip-path=\"url(#clip572)\" style=\"stroke:#000000; stroke-linecap:round; stroke-linejoin:round; stroke-width:2; stroke-opacity:0.1; fill:none\" points=\"\n",
       "  170.857,166.517 2352.76,166.517 \n",
       "  \"/>\n",
       "<polyline clip-path=\"url(#clip570)\" style=\"stroke:#000000; stroke-linecap:round; stroke-linejoin:round; stroke-width:4; stroke-opacity:1; fill:none\" points=\"\n",
       "  170.857,1486.45 170.857,47.2441 \n",
       "  \"/>\n",
       "<polyline clip-path=\"url(#clip570)\" style=\"stroke:#000000; stroke-linecap:round; stroke-linejoin:round; stroke-width:4; stroke-opacity:1; fill:none\" points=\"\n",
       "  170.857,1445.72 189.755,1445.72 \n",
       "  \"/>\n",
       "<polyline clip-path=\"url(#clip570)\" style=\"stroke:#000000; stroke-linecap:round; stroke-linejoin:round; stroke-width:4; stroke-opacity:1; fill:none\" points=\"\n",
       "  170.857,1189.88 189.755,1189.88 \n",
       "  \"/>\n",
       "<polyline clip-path=\"url(#clip570)\" style=\"stroke:#000000; stroke-linecap:round; stroke-linejoin:round; stroke-width:4; stroke-opacity:1; fill:none\" points=\"\n",
       "  170.857,934.036 189.755,934.036 \n",
       "  \"/>\n",
       "<polyline clip-path=\"url(#clip570)\" style=\"stroke:#000000; stroke-linecap:round; stroke-linejoin:round; stroke-width:4; stroke-opacity:1; fill:none\" points=\"\n",
       "  170.857,678.196 189.755,678.196 \n",
       "  \"/>\n",
       "<polyline clip-path=\"url(#clip570)\" style=\"stroke:#000000; stroke-linecap:round; stroke-linejoin:round; stroke-width:4; stroke-opacity:1; fill:none\" points=\"\n",
       "  170.857,422.357 189.755,422.357 \n",
       "  \"/>\n",
       "<polyline clip-path=\"url(#clip570)\" style=\"stroke:#000000; stroke-linecap:round; stroke-linejoin:round; stroke-width:4; stroke-opacity:1; fill:none\" points=\"\n",
       "  170.857,166.517 189.755,166.517 \n",
       "  \"/>\n",
       "<path clip-path=\"url(#clip570)\" d=\"M122.913 1431.51 Q119.302 1431.51 117.473 1435.08 Q115.668 1438.62 115.668 1445.75 Q115.668 1452.86 117.473 1456.42 Q119.302 1459.96 122.913 1459.96 Q126.547 1459.96 128.353 1456.42 Q130.182 1452.86 130.182 1445.75 Q130.182 1438.62 128.353 1435.08 Q126.547 1431.51 122.913 1431.51 M122.913 1427.81 Q128.723 1427.81 131.779 1432.42 Q134.857 1437 134.857 1445.75 Q134.857 1454.48 131.779 1459.08 Q128.723 1463.67 122.913 1463.67 Q117.103 1463.67 114.024 1459.08 Q110.969 1454.48 110.969 1445.75 Q110.969 1437 114.024 1432.42 Q117.103 1427.81 122.913 1427.81 Z\" fill=\"#000000\" fill-rule=\"evenodd\" fill-opacity=\"1\" /><path clip-path=\"url(#clip570)\" d=\"M82.7975 1172.6 L101.154 1172.6 L101.154 1176.53 L87.0799 1176.53 L87.0799 1185 Q88.0984 1184.66 89.1169 1184.49 Q90.1354 1184.31 91.1539 1184.31 Q96.941 1184.31 100.321 1187.48 Q103.7 1190.65 103.7 1196.07 Q103.7 1201.65 100.228 1204.75 Q96.7558 1207.83 90.4364 1207.83 Q88.2604 1207.83 85.9919 1207.46 Q83.7466 1207.09 81.3392 1206.35 L81.3392 1201.65 Q83.4225 1202.78 85.6447 1203.34 Q87.8669 1203.89 90.3438 1203.89 Q94.3484 1203.89 96.6863 1201.79 Q99.0243 1199.68 99.0243 1196.07 Q99.0243 1192.46 96.6863 1190.35 Q94.3484 1188.24 90.3438 1188.24 Q88.4688 1188.24 86.5938 1188.66 Q84.7419 1189.08 82.7975 1189.96 L82.7975 1172.6 Z\" fill=\"#000000\" fill-rule=\"evenodd\" fill-opacity=\"1\" /><path clip-path=\"url(#clip570)\" d=\"M122.913 1175.67 Q119.302 1175.67 117.473 1179.24 Q115.668 1182.78 115.668 1189.91 Q115.668 1197.02 117.473 1200.58 Q119.302 1204.12 122.913 1204.12 Q126.547 1204.12 128.353 1200.58 Q130.182 1197.02 130.182 1189.91 Q130.182 1182.78 128.353 1179.24 Q126.547 1175.67 122.913 1175.67 M122.913 1171.97 Q128.723 1171.97 131.779 1176.58 Q134.857 1181.16 134.857 1189.91 Q134.857 1198.64 131.779 1203.24 Q128.723 1207.83 122.913 1207.83 Q117.103 1207.83 114.024 1203.24 Q110.969 1198.64 110.969 1189.91 Q110.969 1181.16 114.024 1176.58 Q117.103 1171.97 122.913 1171.97 Z\" fill=\"#000000\" fill-rule=\"evenodd\" fill-opacity=\"1\" /><path clip-path=\"url(#clip570)\" d=\"M53.3995 947.381 L61.0384 947.381 L61.0384 921.016 L52.7282 922.682 L52.7282 918.423 L60.9921 916.756 L65.668 916.756 L65.668 947.381 L73.3068 947.381 L73.3068 951.316 L53.3995 951.316 L53.3995 947.381 Z\" fill=\"#000000\" fill-rule=\"evenodd\" fill-opacity=\"1\" /><path clip-path=\"url(#clip570)\" d=\"M92.7512 919.835 Q89.1401 919.835 87.3114 923.4 Q85.5058 926.941 85.5058 934.071 Q85.5058 941.177 87.3114 944.742 Q89.1401 948.284 92.7512 948.284 Q96.3854 948.284 98.1909 944.742 Q100.02 941.177 100.02 934.071 Q100.02 926.941 98.1909 923.4 Q96.3854 919.835 92.7512 919.835 M92.7512 916.131 Q98.5613 916.131 101.617 920.738 Q104.696 925.321 104.696 934.071 Q104.696 942.798 101.617 947.404 Q98.5613 951.988 92.7512 951.988 Q86.941 951.988 83.8623 947.404 Q80.8068 942.798 80.8068 934.071 Q80.8068 925.321 83.8623 920.738 Q86.941 916.131 92.7512 916.131 Z\" fill=\"#000000\" fill-rule=\"evenodd\" fill-opacity=\"1\" /><path clip-path=\"url(#clip570)\" d=\"M122.913 919.835 Q119.302 919.835 117.473 923.4 Q115.668 926.941 115.668 934.071 Q115.668 941.177 117.473 944.742 Q119.302 948.284 122.913 948.284 Q126.547 948.284 128.353 944.742 Q130.182 941.177 130.182 934.071 Q130.182 926.941 128.353 923.4 Q126.547 919.835 122.913 919.835 M122.913 916.131 Q128.723 916.131 131.779 920.738 Q134.857 925.321 134.857 934.071 Q134.857 942.798 131.779 947.404 Q128.723 951.988 122.913 951.988 Q117.103 951.988 114.024 947.404 Q110.969 942.798 110.969 934.071 Q110.969 925.321 114.024 920.738 Q117.103 916.131 122.913 916.131 Z\" fill=\"#000000\" fill-rule=\"evenodd\" fill-opacity=\"1\" /><path clip-path=\"url(#clip570)\" d=\"M53.3995 691.541 L61.0384 691.541 L61.0384 665.176 L52.7282 666.842 L52.7282 662.583 L60.9921 660.916 L65.668 660.916 L65.668 691.541 L73.3068 691.541 L73.3068 695.476 L53.3995 695.476 L53.3995 691.541 Z\" fill=\"#000000\" fill-rule=\"evenodd\" fill-opacity=\"1\" /><path clip-path=\"url(#clip570)\" d=\"M82.7975 660.916 L101.154 660.916 L101.154 664.852 L87.0799 664.852 L87.0799 673.324 Q88.0984 672.977 89.1169 672.815 Q90.1354 672.629 91.1539 672.629 Q96.941 672.629 100.321 675.801 Q103.7 678.972 103.7 684.389 Q103.7 689.967 100.228 693.069 Q96.7558 696.148 90.4364 696.148 Q88.2604 696.148 85.9919 695.777 Q83.7466 695.407 81.3392 694.666 L81.3392 689.967 Q83.4225 691.101 85.6447 691.657 Q87.8669 692.213 90.3438 692.213 Q94.3484 692.213 96.6863 690.106 Q99.0243 688 99.0243 684.389 Q99.0243 680.777 96.6863 678.671 Q94.3484 676.565 90.3438 676.565 Q88.4688 676.565 86.5938 676.981 Q84.7419 677.398 82.7975 678.277 L82.7975 660.916 Z\" fill=\"#000000\" fill-rule=\"evenodd\" fill-opacity=\"1\" /><path clip-path=\"url(#clip570)\" d=\"M122.913 663.995 Q119.302 663.995 117.473 667.56 Q115.668 671.102 115.668 678.231 Q115.668 685.338 117.473 688.902 Q119.302 692.444 122.913 692.444 Q126.547 692.444 128.353 688.902 Q130.182 685.338 130.182 678.231 Q130.182 671.102 128.353 667.56 Q126.547 663.995 122.913 663.995 M122.913 660.291 Q128.723 660.291 131.779 664.898 Q134.857 669.481 134.857 678.231 Q134.857 686.958 131.779 691.564 Q128.723 696.148 122.913 696.148 Q117.103 696.148 114.024 691.564 Q110.969 686.958 110.969 678.231 Q110.969 669.481 114.024 664.898 Q117.103 660.291 122.913 660.291 Z\" fill=\"#000000\" fill-rule=\"evenodd\" fill-opacity=\"1\" /><path clip-path=\"url(#clip570)\" d=\"M56.6171 435.701 L72.9365 435.701 L72.9365 439.637 L50.9921 439.637 L50.9921 435.701 Q53.6541 432.947 58.2375 428.317 Q62.8439 423.664 64.0245 422.322 Q66.2698 419.799 67.1494 418.063 Q68.0522 416.303 68.0522 414.614 Q68.0522 411.859 66.1078 410.123 Q64.1865 408.387 61.0847 408.387 Q58.8856 408.387 56.4319 409.151 Q54.0014 409.915 51.2236 411.465 L51.2236 406.743 Q54.0477 405.609 56.5014 405.03 Q58.955 404.452 60.9921 404.452 Q66.3624 404.452 69.5568 407.137 Q72.7513 409.822 72.7513 414.313 Q72.7513 416.442 71.9411 418.364 Q71.1541 420.262 69.0476 422.854 Q68.4689 423.526 65.367 426.743 Q62.2652 429.938 56.6171 435.701 Z\" fill=\"#000000\" fill-rule=\"evenodd\" fill-opacity=\"1\" /><path clip-path=\"url(#clip570)\" d=\"M92.7512 408.155 Q89.1401 408.155 87.3114 411.72 Q85.5058 415.262 85.5058 422.391 Q85.5058 429.498 87.3114 433.063 Q89.1401 436.604 92.7512 436.604 Q96.3854 436.604 98.1909 433.063 Q100.02 429.498 100.02 422.391 Q100.02 415.262 98.1909 411.72 Q96.3854 408.155 92.7512 408.155 M92.7512 404.452 Q98.5613 404.452 101.617 409.058 Q104.696 413.641 104.696 422.391 Q104.696 431.118 101.617 435.725 Q98.5613 440.308 92.7512 440.308 Q86.941 440.308 83.8623 435.725 Q80.8068 431.118 80.8068 422.391 Q80.8068 413.641 83.8623 409.058 Q86.941 404.452 92.7512 404.452 Z\" fill=\"#000000\" fill-rule=\"evenodd\" fill-opacity=\"1\" /><path clip-path=\"url(#clip570)\" d=\"M122.913 408.155 Q119.302 408.155 117.473 411.72 Q115.668 415.262 115.668 422.391 Q115.668 429.498 117.473 433.063 Q119.302 436.604 122.913 436.604 Q126.547 436.604 128.353 433.063 Q130.182 429.498 130.182 422.391 Q130.182 415.262 128.353 411.72 Q126.547 408.155 122.913 408.155 M122.913 404.452 Q128.723 404.452 131.779 409.058 Q134.857 413.641 134.857 422.391 Q134.857 431.118 131.779 435.725 Q128.723 440.308 122.913 440.308 Q117.103 440.308 114.024 435.725 Q110.969 431.118 110.969 422.391 Q110.969 413.641 114.024 409.058 Q117.103 404.452 122.913 404.452 Z\" fill=\"#000000\" fill-rule=\"evenodd\" fill-opacity=\"1\" /><path clip-path=\"url(#clip570)\" d=\"M56.6171 179.862 L72.9365 179.862 L72.9365 183.797 L50.9921 183.797 L50.9921 179.862 Q53.6541 177.107 58.2375 172.477 Q62.8439 167.825 64.0245 166.482 Q66.2698 163.959 67.1494 162.223 Q68.0522 160.464 68.0522 158.774 Q68.0522 156.019 66.1078 154.283 Q64.1865 152.547 61.0847 152.547 Q58.8856 152.547 56.4319 153.311 Q54.0014 154.075 51.2236 155.626 L51.2236 150.903 Q54.0477 149.769 56.5014 149.19 Q58.955 148.612 60.9921 148.612 Q66.3624 148.612 69.5568 151.297 Q72.7513 153.982 72.7513 158.473 Q72.7513 160.602 71.9411 162.524 Q71.1541 164.422 69.0476 167.014 Q68.4689 167.686 65.367 170.903 Q62.2652 174.098 56.6171 179.862 Z\" fill=\"#000000\" fill-rule=\"evenodd\" fill-opacity=\"1\" /><path clip-path=\"url(#clip570)\" d=\"M82.7975 149.237 L101.154 149.237 L101.154 153.172 L87.0799 153.172 L87.0799 161.644 Q88.0984 161.297 89.1169 161.135 Q90.1354 160.95 91.1539 160.95 Q96.941 160.95 100.321 164.121 Q103.7 167.292 103.7 172.709 Q103.7 178.288 100.228 181.389 Q96.7558 184.468 90.4364 184.468 Q88.2604 184.468 85.9919 184.098 Q83.7466 183.727 81.3392 182.987 L81.3392 178.288 Q83.4225 179.422 85.6447 179.977 Q87.8669 180.533 90.3438 180.533 Q94.3484 180.533 96.6863 178.426 Q99.0243 176.32 99.0243 172.709 Q99.0243 169.098 96.6863 166.991 Q94.3484 164.885 90.3438 164.885 Q88.4688 164.885 86.5938 165.302 Q84.7419 165.718 82.7975 166.598 L82.7975 149.237 Z\" fill=\"#000000\" fill-rule=\"evenodd\" fill-opacity=\"1\" /><path clip-path=\"url(#clip570)\" d=\"M122.913 152.315 Q119.302 152.315 117.473 155.88 Q115.668 159.422 115.668 166.551 Q115.668 173.658 117.473 177.223 Q119.302 180.764 122.913 180.764 Q126.547 180.764 128.353 177.223 Q130.182 173.658 130.182 166.551 Q130.182 159.422 128.353 155.88 Q126.547 152.315 122.913 152.315 M122.913 148.612 Q128.723 148.612 131.779 153.218 Q134.857 157.802 134.857 166.551 Q134.857 175.278 131.779 179.885 Q128.723 184.468 122.913 184.468 Q117.103 184.468 114.024 179.885 Q110.969 175.278 110.969 166.551 Q110.969 157.802 114.024 153.218 Q117.103 148.612 122.913 148.612 Z\" fill=\"#000000\" fill-rule=\"evenodd\" fill-opacity=\"1\" /><circle clip-path=\"url(#clip572)\" cx=\"232.609\" cy=\"1438.22\" r=\"14.4\" fill=\"#009af9\" fill-rule=\"evenodd\" fill-opacity=\"1\" stroke=\"#000000\" stroke-opacity=\"1\" stroke-width=\"3.2\"/>\n",
       "<circle clip-path=\"url(#clip572)\" cx=\"253.401\" cy=\"1440.15\" r=\"14.4\" fill=\"#009af9\" fill-rule=\"evenodd\" fill-opacity=\"1\" stroke=\"#000000\" stroke-opacity=\"1\" stroke-width=\"3.2\"/>\n",
       "<circle clip-path=\"url(#clip572)\" cx=\"274.193\" cy=\"1431.78\" r=\"14.4\" fill=\"#009af9\" fill-rule=\"evenodd\" fill-opacity=\"1\" stroke=\"#000000\" stroke-opacity=\"1\" stroke-width=\"3.2\"/>\n",
       "<circle clip-path=\"url(#clip572)\" cx=\"294.985\" cy=\"1059.54\" r=\"14.4\" fill=\"#009af9\" fill-rule=\"evenodd\" fill-opacity=\"1\" stroke=\"#000000\" stroke-opacity=\"1\" stroke-width=\"3.2\"/>\n",
       "<circle clip-path=\"url(#clip572)\" cx=\"315.777\" cy=\"1425.2\" r=\"14.4\" fill=\"#009af9\" fill-rule=\"evenodd\" fill-opacity=\"1\" stroke=\"#000000\" stroke-opacity=\"1\" stroke-width=\"3.2\"/>\n",
       "<circle clip-path=\"url(#clip572)\" cx=\"336.569\" cy=\"1132.44\" r=\"14.4\" fill=\"#009af9\" fill-rule=\"evenodd\" fill-opacity=\"1\" stroke=\"#000000\" stroke-opacity=\"1\" stroke-width=\"3.2\"/>\n",
       "<circle clip-path=\"url(#clip572)\" cx=\"357.36\" cy=\"1401.55\" r=\"14.4\" fill=\"#009af9\" fill-rule=\"evenodd\" fill-opacity=\"1\" stroke=\"#000000\" stroke-opacity=\"1\" stroke-width=\"3.2\"/>\n",
       "<circle clip-path=\"url(#clip572)\" cx=\"378.152\" cy=\"1435.46\" r=\"14.4\" fill=\"#009af9\" fill-rule=\"evenodd\" fill-opacity=\"1\" stroke=\"#000000\" stroke-opacity=\"1\" stroke-width=\"3.2\"/>\n",
       "<circle clip-path=\"url(#clip572)\" cx=\"398.944\" cy=\"1431.83\" r=\"14.4\" fill=\"#009af9\" fill-rule=\"evenodd\" fill-opacity=\"1\" stroke=\"#000000\" stroke-opacity=\"1\" stroke-width=\"3.2\"/>\n",
       "<circle clip-path=\"url(#clip572)\" cx=\"419.736\" cy=\"87.9763\" r=\"14.4\" fill=\"#009af9\" fill-rule=\"evenodd\" fill-opacity=\"1\" stroke=\"#000000\" stroke-opacity=\"1\" stroke-width=\"3.2\"/>\n",
       "<circle clip-path=\"url(#clip572)\" cx=\"440.528\" cy=\"1429.44\" r=\"14.4\" fill=\"#009af9\" fill-rule=\"evenodd\" fill-opacity=\"1\" stroke=\"#000000\" stroke-opacity=\"1\" stroke-width=\"3.2\"/>\n",
       "<circle clip-path=\"url(#clip572)\" cx=\"461.32\" cy=\"1292.91\" r=\"14.4\" fill=\"#009af9\" fill-rule=\"evenodd\" fill-opacity=\"1\" stroke=\"#000000\" stroke-opacity=\"1\" stroke-width=\"3.2\"/>\n",
       "<circle clip-path=\"url(#clip572)\" cx=\"482.112\" cy=\"1437.25\" r=\"14.4\" fill=\"#009af9\" fill-rule=\"evenodd\" fill-opacity=\"1\" stroke=\"#000000\" stroke-opacity=\"1\" stroke-width=\"3.2\"/>\n",
       "<circle clip-path=\"url(#clip572)\" cx=\"502.904\" cy=\"1438.58\" r=\"14.4\" fill=\"#009af9\" fill-rule=\"evenodd\" fill-opacity=\"1\" stroke=\"#000000\" stroke-opacity=\"1\" stroke-width=\"3.2\"/>\n",
       "<circle clip-path=\"url(#clip572)\" cx=\"523.695\" cy=\"1430.8\" r=\"14.4\" fill=\"#009af9\" fill-rule=\"evenodd\" fill-opacity=\"1\" stroke=\"#000000\" stroke-opacity=\"1\" stroke-width=\"3.2\"/>\n",
       "<circle clip-path=\"url(#clip572)\" cx=\"544.487\" cy=\"1435.35\" r=\"14.4\" fill=\"#009af9\" fill-rule=\"evenodd\" fill-opacity=\"1\" stroke=\"#000000\" stroke-opacity=\"1\" stroke-width=\"3.2\"/>\n",
       "<circle clip-path=\"url(#clip572)\" cx=\"565.279\" cy=\"1410.93\" r=\"14.4\" fill=\"#009af9\" fill-rule=\"evenodd\" fill-opacity=\"1\" stroke=\"#000000\" stroke-opacity=\"1\" stroke-width=\"3.2\"/>\n",
       "<circle clip-path=\"url(#clip572)\" cx=\"586.071\" cy=\"1445.01\" r=\"14.4\" fill=\"#009af9\" fill-rule=\"evenodd\" fill-opacity=\"1\" stroke=\"#000000\" stroke-opacity=\"1\" stroke-width=\"3.2\"/>\n",
       "<circle clip-path=\"url(#clip572)\" cx=\"606.863\" cy=\"1392.73\" r=\"14.4\" fill=\"#009af9\" fill-rule=\"evenodd\" fill-opacity=\"1\" stroke=\"#000000\" stroke-opacity=\"1\" stroke-width=\"3.2\"/>\n",
       "<circle clip-path=\"url(#clip572)\" cx=\"627.655\" cy=\"1425.07\" r=\"14.4\" fill=\"#009af9\" fill-rule=\"evenodd\" fill-opacity=\"1\" stroke=\"#000000\" stroke-opacity=\"1\" stroke-width=\"3.2\"/>\n",
       "<circle clip-path=\"url(#clip572)\" cx=\"648.447\" cy=\"1341.79\" r=\"14.4\" fill=\"#009af9\" fill-rule=\"evenodd\" fill-opacity=\"1\" stroke=\"#000000\" stroke-opacity=\"1\" stroke-width=\"3.2\"/>\n",
       "<circle clip-path=\"url(#clip572)\" cx=\"669.238\" cy=\"1445.7\" r=\"14.4\" fill=\"#009af9\" fill-rule=\"evenodd\" fill-opacity=\"1\" stroke=\"#000000\" stroke-opacity=\"1\" stroke-width=\"3.2\"/>\n",
       "<circle clip-path=\"url(#clip572)\" cx=\"690.03\" cy=\"1422.78\" r=\"14.4\" fill=\"#009af9\" fill-rule=\"evenodd\" fill-opacity=\"1\" stroke=\"#000000\" stroke-opacity=\"1\" stroke-width=\"3.2\"/>\n",
       "<circle clip-path=\"url(#clip572)\" cx=\"710.822\" cy=\"1436.33\" r=\"14.4\" fill=\"#009af9\" fill-rule=\"evenodd\" fill-opacity=\"1\" stroke=\"#000000\" stroke-opacity=\"1\" stroke-width=\"3.2\"/>\n",
       "<circle clip-path=\"url(#clip572)\" cx=\"731.614\" cy=\"1415.66\" r=\"14.4\" fill=\"#009af9\" fill-rule=\"evenodd\" fill-opacity=\"1\" stroke=\"#000000\" stroke-opacity=\"1\" stroke-width=\"3.2\"/>\n",
       "<circle clip-path=\"url(#clip572)\" cx=\"752.406\" cy=\"1430.59\" r=\"14.4\" fill=\"#009af9\" fill-rule=\"evenodd\" fill-opacity=\"1\" stroke=\"#000000\" stroke-opacity=\"1\" stroke-width=\"3.2\"/>\n",
       "<circle clip-path=\"url(#clip572)\" cx=\"773.198\" cy=\"1445.72\" r=\"14.4\" fill=\"#009af9\" fill-rule=\"evenodd\" fill-opacity=\"1\" stroke=\"#000000\" stroke-opacity=\"1\" stroke-width=\"3.2\"/>\n",
       "<circle clip-path=\"url(#clip572)\" cx=\"793.99\" cy=\"1445.27\" r=\"14.4\" fill=\"#009af9\" fill-rule=\"evenodd\" fill-opacity=\"1\" stroke=\"#000000\" stroke-opacity=\"1\" stroke-width=\"3.2\"/>\n",
       "<circle clip-path=\"url(#clip572)\" cx=\"814.782\" cy=\"1430.52\" r=\"14.4\" fill=\"#009af9\" fill-rule=\"evenodd\" fill-opacity=\"1\" stroke=\"#000000\" stroke-opacity=\"1\" stroke-width=\"3.2\"/>\n",
       "<circle clip-path=\"url(#clip572)\" cx=\"835.573\" cy=\"1445.7\" r=\"14.4\" fill=\"#009af9\" fill-rule=\"evenodd\" fill-opacity=\"1\" stroke=\"#000000\" stroke-opacity=\"1\" stroke-width=\"3.2\"/>\n",
       "<circle clip-path=\"url(#clip572)\" cx=\"856.365\" cy=\"1324.17\" r=\"14.4\" fill=\"#009af9\" fill-rule=\"evenodd\" fill-opacity=\"1\" stroke=\"#000000\" stroke-opacity=\"1\" stroke-width=\"3.2\"/>\n",
       "<circle clip-path=\"url(#clip572)\" cx=\"877.157\" cy=\"1430.98\" r=\"14.4\" fill=\"#009af9\" fill-rule=\"evenodd\" fill-opacity=\"1\" stroke=\"#000000\" stroke-opacity=\"1\" stroke-width=\"3.2\"/>\n",
       "<circle clip-path=\"url(#clip572)\" cx=\"897.949\" cy=\"1444.44\" r=\"14.4\" fill=\"#009af9\" fill-rule=\"evenodd\" fill-opacity=\"1\" stroke=\"#000000\" stroke-opacity=\"1\" stroke-width=\"3.2\"/>\n",
       "<circle clip-path=\"url(#clip572)\" cx=\"918.741\" cy=\"1443.8\" r=\"14.4\" fill=\"#009af9\" fill-rule=\"evenodd\" fill-opacity=\"1\" stroke=\"#000000\" stroke-opacity=\"1\" stroke-width=\"3.2\"/>\n",
       "<circle clip-path=\"url(#clip572)\" cx=\"939.533\" cy=\"1442.53\" r=\"14.4\" fill=\"#009af9\" fill-rule=\"evenodd\" fill-opacity=\"1\" stroke=\"#000000\" stroke-opacity=\"1\" stroke-width=\"3.2\"/>\n",
       "<circle clip-path=\"url(#clip572)\" cx=\"960.325\" cy=\"1445.69\" r=\"14.4\" fill=\"#009af9\" fill-rule=\"evenodd\" fill-opacity=\"1\" stroke=\"#000000\" stroke-opacity=\"1\" stroke-width=\"3.2\"/>\n",
       "<circle clip-path=\"url(#clip572)\" cx=\"981.116\" cy=\"1444.62\" r=\"14.4\" fill=\"#009af9\" fill-rule=\"evenodd\" fill-opacity=\"1\" stroke=\"#000000\" stroke-opacity=\"1\" stroke-width=\"3.2\"/>\n",
       "<circle clip-path=\"url(#clip572)\" cx=\"1001.91\" cy=\"1444.05\" r=\"14.4\" fill=\"#009af9\" fill-rule=\"evenodd\" fill-opacity=\"1\" stroke=\"#000000\" stroke-opacity=\"1\" stroke-width=\"3.2\"/>\n",
       "<circle clip-path=\"url(#clip572)\" cx=\"1022.7\" cy=\"1444.79\" r=\"14.4\" fill=\"#009af9\" fill-rule=\"evenodd\" fill-opacity=\"1\" stroke=\"#000000\" stroke-opacity=\"1\" stroke-width=\"3.2\"/>\n",
       "<circle clip-path=\"url(#clip572)\" cx=\"1043.49\" cy=\"1444.85\" r=\"14.4\" fill=\"#009af9\" fill-rule=\"evenodd\" fill-opacity=\"1\" stroke=\"#000000\" stroke-opacity=\"1\" stroke-width=\"3.2\"/>\n",
       "<circle clip-path=\"url(#clip572)\" cx=\"1064.28\" cy=\"1443.06\" r=\"14.4\" fill=\"#009af9\" fill-rule=\"evenodd\" fill-opacity=\"1\" stroke=\"#000000\" stroke-opacity=\"1\" stroke-width=\"3.2\"/>\n",
       "<circle clip-path=\"url(#clip572)\" cx=\"1085.08\" cy=\"1438.73\" r=\"14.4\" fill=\"#009af9\" fill-rule=\"evenodd\" fill-opacity=\"1\" stroke=\"#000000\" stroke-opacity=\"1\" stroke-width=\"3.2\"/>\n",
       "<circle clip-path=\"url(#clip572)\" cx=\"1105.87\" cy=\"1443.96\" r=\"14.4\" fill=\"#009af9\" fill-rule=\"evenodd\" fill-opacity=\"1\" stroke=\"#000000\" stroke-opacity=\"1\" stroke-width=\"3.2\"/>\n",
       "<circle clip-path=\"url(#clip572)\" cx=\"1126.66\" cy=\"714.754\" r=\"14.4\" fill=\"#009af9\" fill-rule=\"evenodd\" fill-opacity=\"1\" stroke=\"#000000\" stroke-opacity=\"1\" stroke-width=\"3.2\"/>\n",
       "<circle clip-path=\"url(#clip572)\" cx=\"1147.45\" cy=\"1357.98\" r=\"14.4\" fill=\"#009af9\" fill-rule=\"evenodd\" fill-opacity=\"1\" stroke=\"#000000\" stroke-opacity=\"1\" stroke-width=\"3.2\"/>\n",
       "<circle clip-path=\"url(#clip572)\" cx=\"1168.24\" cy=\"1444.85\" r=\"14.4\" fill=\"#009af9\" fill-rule=\"evenodd\" fill-opacity=\"1\" stroke=\"#000000\" stroke-opacity=\"1\" stroke-width=\"3.2\"/>\n",
       "<circle clip-path=\"url(#clip572)\" cx=\"1189.04\" cy=\"1445.69\" r=\"14.4\" fill=\"#009af9\" fill-rule=\"evenodd\" fill-opacity=\"1\" stroke=\"#000000\" stroke-opacity=\"1\" stroke-width=\"3.2\"/>\n",
       "<circle clip-path=\"url(#clip572)\" cx=\"1209.83\" cy=\"1444.71\" r=\"14.4\" fill=\"#009af9\" fill-rule=\"evenodd\" fill-opacity=\"1\" stroke=\"#000000\" stroke-opacity=\"1\" stroke-width=\"3.2\"/>\n",
       "<circle clip-path=\"url(#clip572)\" cx=\"1230.62\" cy=\"1445.7\" r=\"14.4\" fill=\"#009af9\" fill-rule=\"evenodd\" fill-opacity=\"1\" stroke=\"#000000\" stroke-opacity=\"1\" stroke-width=\"3.2\"/>\n",
       "<circle clip-path=\"url(#clip572)\" cx=\"1251.41\" cy=\"1440.7\" r=\"14.4\" fill=\"#009af9\" fill-rule=\"evenodd\" fill-opacity=\"1\" stroke=\"#000000\" stroke-opacity=\"1\" stroke-width=\"3.2\"/>\n",
       "<circle clip-path=\"url(#clip572)\" cx=\"1272.2\" cy=\"1444.02\" r=\"14.4\" fill=\"#009af9\" fill-rule=\"evenodd\" fill-opacity=\"1\" stroke=\"#000000\" stroke-opacity=\"1\" stroke-width=\"3.2\"/>\n",
       "<circle clip-path=\"url(#clip572)\" cx=\"1292.99\" cy=\"1444.89\" r=\"14.4\" fill=\"#009af9\" fill-rule=\"evenodd\" fill-opacity=\"1\" stroke=\"#000000\" stroke-opacity=\"1\" stroke-width=\"3.2\"/>\n",
       "<circle clip-path=\"url(#clip572)\" cx=\"1313.79\" cy=\"1441.12\" r=\"14.4\" fill=\"#009af9\" fill-rule=\"evenodd\" fill-opacity=\"1\" stroke=\"#000000\" stroke-opacity=\"1\" stroke-width=\"3.2\"/>\n",
       "<circle clip-path=\"url(#clip572)\" cx=\"1334.58\" cy=\"1444.88\" r=\"14.4\" fill=\"#009af9\" fill-rule=\"evenodd\" fill-opacity=\"1\" stroke=\"#000000\" stroke-opacity=\"1\" stroke-width=\"3.2\"/>\n",
       "<circle clip-path=\"url(#clip572)\" cx=\"1355.37\" cy=\"231.671\" r=\"14.4\" fill=\"#009af9\" fill-rule=\"evenodd\" fill-opacity=\"1\" stroke=\"#000000\" stroke-opacity=\"1\" stroke-width=\"3.2\"/>\n",
       "<circle clip-path=\"url(#clip572)\" cx=\"1376.16\" cy=\"1445.71\" r=\"14.4\" fill=\"#009af9\" fill-rule=\"evenodd\" fill-opacity=\"1\" stroke=\"#000000\" stroke-opacity=\"1\" stroke-width=\"3.2\"/>\n",
       "<circle clip-path=\"url(#clip572)\" cx=\"1396.95\" cy=\"1444.75\" r=\"14.4\" fill=\"#009af9\" fill-rule=\"evenodd\" fill-opacity=\"1\" stroke=\"#000000\" stroke-opacity=\"1\" stroke-width=\"3.2\"/>\n",
       "<circle clip-path=\"url(#clip572)\" cx=\"1417.75\" cy=\"1444.79\" r=\"14.4\" fill=\"#009af9\" fill-rule=\"evenodd\" fill-opacity=\"1\" stroke=\"#000000\" stroke-opacity=\"1\" stroke-width=\"3.2\"/>\n",
       "<circle clip-path=\"url(#clip572)\" cx=\"1438.54\" cy=\"1445.16\" r=\"14.4\" fill=\"#009af9\" fill-rule=\"evenodd\" fill-opacity=\"1\" stroke=\"#000000\" stroke-opacity=\"1\" stroke-width=\"3.2\"/>\n",
       "<circle clip-path=\"url(#clip572)\" cx=\"1459.33\" cy=\"1445.71\" r=\"14.4\" fill=\"#009af9\" fill-rule=\"evenodd\" fill-opacity=\"1\" stroke=\"#000000\" stroke-opacity=\"1\" stroke-width=\"3.2\"/>\n",
       "<circle clip-path=\"url(#clip572)\" cx=\"1480.12\" cy=\"1441.93\" r=\"14.4\" fill=\"#009af9\" fill-rule=\"evenodd\" fill-opacity=\"1\" stroke=\"#000000\" stroke-opacity=\"1\" stroke-width=\"3.2\"/>\n",
       "<circle clip-path=\"url(#clip572)\" cx=\"1500.91\" cy=\"1443.44\" r=\"14.4\" fill=\"#009af9\" fill-rule=\"evenodd\" fill-opacity=\"1\" stroke=\"#000000\" stroke-opacity=\"1\" stroke-width=\"3.2\"/>\n",
       "<circle clip-path=\"url(#clip572)\" cx=\"1521.7\" cy=\"1444.76\" r=\"14.4\" fill=\"#009af9\" fill-rule=\"evenodd\" fill-opacity=\"1\" stroke=\"#000000\" stroke-opacity=\"1\" stroke-width=\"3.2\"/>\n",
       "<circle clip-path=\"url(#clip572)\" cx=\"1542.5\" cy=\"1445.71\" r=\"14.4\" fill=\"#009af9\" fill-rule=\"evenodd\" fill-opacity=\"1\" stroke=\"#000000\" stroke-opacity=\"1\" stroke-width=\"3.2\"/>\n",
       "<circle clip-path=\"url(#clip572)\" cx=\"1563.29\" cy=\"1444.81\" r=\"14.4\" fill=\"#009af9\" fill-rule=\"evenodd\" fill-opacity=\"1\" stroke=\"#000000\" stroke-opacity=\"1\" stroke-width=\"3.2\"/>\n",
       "<circle clip-path=\"url(#clip572)\" cx=\"1584.08\" cy=\"1359.07\" r=\"14.4\" fill=\"#009af9\" fill-rule=\"evenodd\" fill-opacity=\"1\" stroke=\"#000000\" stroke-opacity=\"1\" stroke-width=\"3.2\"/>\n",
       "<circle clip-path=\"url(#clip572)\" cx=\"1604.87\" cy=\"1444.74\" r=\"14.4\" fill=\"#009af9\" fill-rule=\"evenodd\" fill-opacity=\"1\" stroke=\"#000000\" stroke-opacity=\"1\" stroke-width=\"3.2\"/>\n",
       "<circle clip-path=\"url(#clip572)\" cx=\"1625.66\" cy=\"1444.85\" r=\"14.4\" fill=\"#009af9\" fill-rule=\"evenodd\" fill-opacity=\"1\" stroke=\"#000000\" stroke-opacity=\"1\" stroke-width=\"3.2\"/>\n",
       "<circle clip-path=\"url(#clip572)\" cx=\"1646.46\" cy=\"1445.64\" r=\"14.4\" fill=\"#009af9\" fill-rule=\"evenodd\" fill-opacity=\"1\" stroke=\"#000000\" stroke-opacity=\"1\" stroke-width=\"3.2\"/>\n",
       "<circle clip-path=\"url(#clip572)\" cx=\"1667.25\" cy=\"1443.33\" r=\"14.4\" fill=\"#009af9\" fill-rule=\"evenodd\" fill-opacity=\"1\" stroke=\"#000000\" stroke-opacity=\"1\" stroke-width=\"3.2\"/>\n",
       "<circle clip-path=\"url(#clip572)\" cx=\"1688.04\" cy=\"1444.73\" r=\"14.4\" fill=\"#009af9\" fill-rule=\"evenodd\" fill-opacity=\"1\" stroke=\"#000000\" stroke-opacity=\"1\" stroke-width=\"3.2\"/>\n",
       "<circle clip-path=\"url(#clip572)\" cx=\"1708.83\" cy=\"1445.71\" r=\"14.4\" fill=\"#009af9\" fill-rule=\"evenodd\" fill-opacity=\"1\" stroke=\"#000000\" stroke-opacity=\"1\" stroke-width=\"3.2\"/>\n",
       "<circle clip-path=\"url(#clip572)\" cx=\"1729.62\" cy=\"1353.61\" r=\"14.4\" fill=\"#009af9\" fill-rule=\"evenodd\" fill-opacity=\"1\" stroke=\"#000000\" stroke-opacity=\"1\" stroke-width=\"3.2\"/>\n",
       "<circle clip-path=\"url(#clip572)\" cx=\"1750.42\" cy=\"1444.64\" r=\"14.4\" fill=\"#009af9\" fill-rule=\"evenodd\" fill-opacity=\"1\" stroke=\"#000000\" stroke-opacity=\"1\" stroke-width=\"3.2\"/>\n",
       "<circle clip-path=\"url(#clip572)\" cx=\"1771.21\" cy=\"1441.11\" r=\"14.4\" fill=\"#009af9\" fill-rule=\"evenodd\" fill-opacity=\"1\" stroke=\"#000000\" stroke-opacity=\"1\" stroke-width=\"3.2\"/>\n",
       "<circle clip-path=\"url(#clip572)\" cx=\"1792\" cy=\"1445.14\" r=\"14.4\" fill=\"#009af9\" fill-rule=\"evenodd\" fill-opacity=\"1\" stroke=\"#000000\" stroke-opacity=\"1\" stroke-width=\"3.2\"/>\n",
       "<circle clip-path=\"url(#clip572)\" cx=\"1812.79\" cy=\"1445.69\" r=\"14.4\" fill=\"#009af9\" fill-rule=\"evenodd\" fill-opacity=\"1\" stroke=\"#000000\" stroke-opacity=\"1\" stroke-width=\"3.2\"/>\n",
       "<circle clip-path=\"url(#clip572)\" cx=\"1833.58\" cy=\"1444.73\" r=\"14.4\" fill=\"#009af9\" fill-rule=\"evenodd\" fill-opacity=\"1\" stroke=\"#000000\" stroke-opacity=\"1\" stroke-width=\"3.2\"/>\n",
       "<circle clip-path=\"url(#clip572)\" cx=\"1854.37\" cy=\"1442.57\" r=\"14.4\" fill=\"#009af9\" fill-rule=\"evenodd\" fill-opacity=\"1\" stroke=\"#000000\" stroke-opacity=\"1\" stroke-width=\"3.2\"/>\n",
       "<circle clip-path=\"url(#clip572)\" cx=\"1875.17\" cy=\"1444.54\" r=\"14.4\" fill=\"#009af9\" fill-rule=\"evenodd\" fill-opacity=\"1\" stroke=\"#000000\" stroke-opacity=\"1\" stroke-width=\"3.2\"/>\n",
       "<circle clip-path=\"url(#clip572)\" cx=\"1916.75\" cy=\"1442.24\" r=\"14.4\" fill=\"#009af9\" fill-rule=\"evenodd\" fill-opacity=\"1\" stroke=\"#000000\" stroke-opacity=\"1\" stroke-width=\"3.2\"/>\n",
       "<circle clip-path=\"url(#clip572)\" cx=\"1937.54\" cy=\"1440.46\" r=\"14.4\" fill=\"#009af9\" fill-rule=\"evenodd\" fill-opacity=\"1\" stroke=\"#000000\" stroke-opacity=\"1\" stroke-width=\"3.2\"/>\n",
       "<circle clip-path=\"url(#clip572)\" cx=\"1958.33\" cy=\"1444.46\" r=\"14.4\" fill=\"#009af9\" fill-rule=\"evenodd\" fill-opacity=\"1\" stroke=\"#000000\" stroke-opacity=\"1\" stroke-width=\"3.2\"/>\n",
       "<circle clip-path=\"url(#clip572)\" cx=\"1979.13\" cy=\"1445.12\" r=\"14.4\" fill=\"#009af9\" fill-rule=\"evenodd\" fill-opacity=\"1\" stroke=\"#000000\" stroke-opacity=\"1\" stroke-width=\"3.2\"/>\n",
       "<circle clip-path=\"url(#clip572)\" cx=\"1999.92\" cy=\"1444.74\" r=\"14.4\" fill=\"#009af9\" fill-rule=\"evenodd\" fill-opacity=\"1\" stroke=\"#000000\" stroke-opacity=\"1\" stroke-width=\"3.2\"/>\n",
       "<circle clip-path=\"url(#clip572)\" cx=\"2020.71\" cy=\"1445.17\" r=\"14.4\" fill=\"#009af9\" fill-rule=\"evenodd\" fill-opacity=\"1\" stroke=\"#000000\" stroke-opacity=\"1\" stroke-width=\"3.2\"/>\n",
       "<circle clip-path=\"url(#clip572)\" cx=\"2041.5\" cy=\"1439.03\" r=\"14.4\" fill=\"#009af9\" fill-rule=\"evenodd\" fill-opacity=\"1\" stroke=\"#000000\" stroke-opacity=\"1\" stroke-width=\"3.2\"/>\n",
       "<circle clip-path=\"url(#clip572)\" cx=\"2062.29\" cy=\"1444.73\" r=\"14.4\" fill=\"#009af9\" fill-rule=\"evenodd\" fill-opacity=\"1\" stroke=\"#000000\" stroke-opacity=\"1\" stroke-width=\"3.2\"/>\n",
       "<circle clip-path=\"url(#clip572)\" cx=\"2083.09\" cy=\"1442.98\" r=\"14.4\" fill=\"#009af9\" fill-rule=\"evenodd\" fill-opacity=\"1\" stroke=\"#000000\" stroke-opacity=\"1\" stroke-width=\"3.2\"/>\n",
       "<circle clip-path=\"url(#clip572)\" cx=\"2103.88\" cy=\"1444.73\" r=\"14.4\" fill=\"#009af9\" fill-rule=\"evenodd\" fill-opacity=\"1\" stroke=\"#000000\" stroke-opacity=\"1\" stroke-width=\"3.2\"/>\n",
       "<circle clip-path=\"url(#clip572)\" cx=\"2124.67\" cy=\"1366.64\" r=\"14.4\" fill=\"#009af9\" fill-rule=\"evenodd\" fill-opacity=\"1\" stroke=\"#000000\" stroke-opacity=\"1\" stroke-width=\"3.2\"/>\n",
       "<circle clip-path=\"url(#clip572)\" cx=\"2145.46\" cy=\"1373.07\" r=\"14.4\" fill=\"#009af9\" fill-rule=\"evenodd\" fill-opacity=\"1\" stroke=\"#000000\" stroke-opacity=\"1\" stroke-width=\"3.2\"/>\n",
       "<circle clip-path=\"url(#clip572)\" cx=\"2166.25\" cy=\"1444.91\" r=\"14.4\" fill=\"#009af9\" fill-rule=\"evenodd\" fill-opacity=\"1\" stroke=\"#000000\" stroke-opacity=\"1\" stroke-width=\"3.2\"/>\n",
       "<circle clip-path=\"url(#clip572)\" cx=\"2187.04\" cy=\"1445.29\" r=\"14.4\" fill=\"#009af9\" fill-rule=\"evenodd\" fill-opacity=\"1\" stroke=\"#000000\" stroke-opacity=\"1\" stroke-width=\"3.2\"/>\n",
       "<circle clip-path=\"url(#clip572)\" cx=\"2207.84\" cy=\"1439.42\" r=\"14.4\" fill=\"#009af9\" fill-rule=\"evenodd\" fill-opacity=\"1\" stroke=\"#000000\" stroke-opacity=\"1\" stroke-width=\"3.2\"/>\n",
       "<circle clip-path=\"url(#clip572)\" cx=\"2228.63\" cy=\"1441.98\" r=\"14.4\" fill=\"#009af9\" fill-rule=\"evenodd\" fill-opacity=\"1\" stroke=\"#000000\" stroke-opacity=\"1\" stroke-width=\"3.2\"/>\n",
       "<circle clip-path=\"url(#clip572)\" cx=\"2249.42\" cy=\"1445.7\" r=\"14.4\" fill=\"#009af9\" fill-rule=\"evenodd\" fill-opacity=\"1\" stroke=\"#000000\" stroke-opacity=\"1\" stroke-width=\"3.2\"/>\n",
       "<circle clip-path=\"url(#clip572)\" cx=\"2270.21\" cy=\"1445.27\" r=\"14.4\" fill=\"#009af9\" fill-rule=\"evenodd\" fill-opacity=\"1\" stroke=\"#000000\" stroke-opacity=\"1\" stroke-width=\"3.2\"/>\n",
       "<circle clip-path=\"url(#clip572)\" cx=\"2291\" cy=\"1385.46\" r=\"14.4\" fill=\"#009af9\" fill-rule=\"evenodd\" fill-opacity=\"1\" stroke=\"#000000\" stroke-opacity=\"1\" stroke-width=\"3.2\"/>\n",
       "<polyline clip-path=\"url(#clip572)\" style=\"stroke:#e26f46; stroke-linecap:round; stroke-linejoin:round; stroke-width:4; stroke-opacity:1; fill:none\" points=\"\n",
       "  232.609,1440.6 246.011,1440.6 369.925,1440.6 444.392,1440.6 507.353,1440.6 575.746,1440.6 638.799,1440.6 706.398,1440.6 784.718,1440.6 854.32,1440.6 \n",
       "  915.355,1440.6 981.899,1440.6 1048.84,1440.6 1122.85,1440.6 1193.27,1440.6 1266.49,1440.6 1328.12,1440.6 1403.37,1440.6 1472.3,1440.6 1535.97,1440.6 \n",
       "  1600.46,1440.6 1672.74,1440.6 1738.23,1440.6 1813.21,1440.6 1882.64,1440.6 1951.09,1440.6 2017.55,1440.6 2085.68,1440.6 2160.33,1440.6 2268.76,1440.6 \n",
       "  2291,1440.6 \n",
       "  \"/>\n",
       "<path clip-path=\"url(#clip570)\" d=\"\n",
       "M243.587 250.738 L514.207 250.738 L514.207 95.2176 L243.587 95.2176  Z\n",
       "  \" fill=\"#ffffff\" fill-rule=\"evenodd\" fill-opacity=\"1\"/>\n",
       "<polyline clip-path=\"url(#clip570)\" style=\"stroke:#000000; stroke-linecap:round; stroke-linejoin:round; stroke-width:4; stroke-opacity:1; fill:none\" points=\"\n",
       "  243.587,250.738 514.207,250.738 514.207,95.2176 243.587,95.2176 243.587,250.738 \n",
       "  \"/>\n",
       "<circle clip-path=\"url(#clip570)\" cx=\"340.561\" cy=\"147.058\" r=\"23.04\" fill=\"#009af9\" fill-rule=\"evenodd\" fill-opacity=\"1\" stroke=\"#000000\" stroke-opacity=\"1\" stroke-width=\"5.12\"/>\n",
       "<path clip-path=\"url(#clip570)\" d=\"M451.376 166.745 Q449.571 171.375 447.858 172.787 Q446.145 174.199 443.275 174.199 L439.872 174.199 L439.872 170.634 L442.372 170.634 Q444.131 170.634 445.103 169.8 Q446.076 168.967 447.256 165.865 L448.02 163.921 L437.534 138.412 L442.048 138.412 L450.15 158.689 L458.251 138.412 L462.765 138.412 L451.376 166.745 Z\" fill=\"#000000\" fill-rule=\"evenodd\" fill-opacity=\"1\" /><path clip-path=\"url(#clip570)\" d=\"M470.057 160.402 L477.696 160.402 L477.696 134.037 L469.386 135.703 L469.386 131.444 L477.649 129.778 L482.325 129.778 L482.325 160.402 L489.964 160.402 L489.964 164.338 L470.057 164.338 L470.057 160.402 Z\" fill=\"#000000\" fill-rule=\"evenodd\" fill-opacity=\"1\" /><polyline clip-path=\"url(#clip570)\" style=\"stroke:#e26f46; stroke-linecap:round; stroke-linejoin:round; stroke-width:4; stroke-opacity:1; fill:none\" points=\"\n",
       "  267.831,198.898 413.291,198.898 \n",
       "  \"/>\n",
       "<path clip-path=\"url(#clip570)\" d=\"M451.376 218.585 Q449.571 223.215 447.858 224.627 Q446.145 226.039 443.275 226.039 L439.872 226.039 L439.872 222.474 L442.372 222.474 Q444.131 222.474 445.103 221.64 Q446.076 220.807 447.256 217.705 L448.02 215.761 L437.534 190.252 L442.048 190.252 L450.15 210.529 L458.251 190.252 L462.765 190.252 L451.376 218.585 Z\" fill=\"#000000\" fill-rule=\"evenodd\" fill-opacity=\"1\" /><path clip-path=\"url(#clip570)\" d=\"M473.274 212.242 L489.594 212.242 L489.594 216.178 L467.649 216.178 L467.649 212.242 Q470.312 209.488 474.895 204.858 Q479.501 200.205 480.682 198.863 Q482.927 196.34 483.807 194.604 Q484.71 192.844 484.71 191.155 Q484.71 188.4 482.765 186.664 Q480.844 184.928 477.742 184.928 Q475.543 184.928 473.089 185.692 Q470.659 186.455 467.881 188.006 L467.881 183.284 Q470.705 182.15 473.159 181.571 Q475.612 180.993 477.649 180.993 Q483.02 180.993 486.214 183.678 Q489.409 186.363 489.409 190.854 Q489.409 192.983 488.598 194.905 Q487.811 196.803 485.705 199.395 Q485.126 200.067 482.024 203.284 Q478.923 206.479 473.274 212.242 Z\" fill=\"#000000\" fill-rule=\"evenodd\" fill-opacity=\"1\" /></svg>\n"
      ]
     },
     "execution_count": 214,
     "metadata": {},
     "output_type": "execute_result"
    }
   ],
   "source": [
    "scatter(test_trait1.lod[1:100] ./ gemma_samples_results[1:100])\n",
    "plot!(x -> 1)"
   ]
  },
  {
   "cell_type": "code",
   "execution_count": 258,
   "id": "91101ea8-1df3-46ab-bc0f-0056d8db0318",
   "metadata": {},
   "outputs": [
    {
     "data": {
      "text/plain": [
       "4"
      ]
     },
     "execution_count": 258,
     "metadata": {},
     "output_type": "execute_result"
    }
   ],
   "source": [
    "sum(abs.((test_trait1.lod[1:100] ./ gemma_samples_results[1:100]) .- 1.0) .<= 0.1)"
   ]
  },
  {
   "cell_type": "code",
   "execution_count": 261,
   "id": "b08428c7-9f60-4890-8c24-e6b79c0ee5da",
   "metadata": {},
   "outputs": [
    {
     "data": {
      "text/plain": [
       "4×2 Matrix{Float64}:\n",
       " 0.391565   0.359937\n",
       " 0.015338   0.0156514\n",
       " 0.019573   0.021736\n",
       " 0.0209777  0.0204102"
      ]
     },
     "execution_count": 261,
     "metadata": {},
     "output_type": "execute_result"
    }
   ],
   "source": [
    "hcat(test_trait1.lod[findall(abs.((test_trait1.lod[1:100] ./ gemma_samples_results[1:100]) .- 1.0) .<= 0.1)], \n",
    "     gemma_samples_results[findall(abs.((test_trait1.lod[1:100] ./ gemma_samples_results[1:100]) .- 1.0) .<= 0.1)])"
   ]
  },
  {
   "cell_type": "markdown",
   "id": "ff91e0d7-9381-49c3-b795-dba29e253813",
   "metadata": {},
   "source": [
    "#### Issues with data found so far:"
   ]
  },
  {
   "cell_type": "markdown",
   "id": "d7db88e9-28e5-406e-a81c-714274fd965f",
   "metadata": {},
   "source": [
    "- Identical genotype probabilities at some markers for all samples;"
   ]
  },
  {
   "cell_type": "code",
   "execution_count": null,
   "id": "78bf6d0c-e3ee-4d61-ae7b-33efc539a4f3",
   "metadata": {},
   "outputs": [],
   "source": []
  }
 ],
 "metadata": {
  "kernelspec": {
   "display_name": "Julia 16 Threads 1.7.3",
   "language": "julia",
   "name": "julia-16-threads-1.7"
  },
  "language_info": {
   "file_extension": ".jl",
   "mimetype": "application/julia",
   "name": "julia",
   "version": "1.7.3"
  }
 },
 "nbformat": 4,
 "nbformat_minor": 5
}
