{
 "cells": [
  {
   "cell_type": "code",
   "execution_count": 326,
   "id": "9587b035-4f5b-401a-9be2-58f5db20fbc4",
   "metadata": {},
   "outputs": [
    {
     "name": "stderr",
     "output_type": "stream",
     "text": [
      "WARNING: using StatsBase.rss in module Main conflicts with an existing identifier.\n"
     ]
    }
   ],
   "source": [
    "using CSV, DelimitedFiles, DataFrames, Missings, XLSX\n",
    "using LinearAlgebra, Statistics, Optim, StatsBase\n",
    "using Random, Distributions, LoopVectorization\n",
    "using GeneNetworkAPI, Downloads\n",
    "using BenchmarkTools"
   ]
  },
  {
   "cell_type": "code",
   "execution_count": 2,
   "id": "c6e33280-b28c-420c-bb51-1e11bf385df4",
   "metadata": {},
   "outputs": [],
   "source": [
    "using Plots"
   ]
  },
  {
   "cell_type": "code",
   "execution_count": 3,
   "id": "c1d83064-7cd9-4d4d-98cf-8983e6e24e43",
   "metadata": {},
   "outputs": [
    {
     "data": {
      "text/plain": [
       "\"/home/zyu20/git/BulkLMM_Analyses/HS-Palmer\""
      ]
     },
     "execution_count": 3,
     "metadata": {},
     "output_type": "execute_result"
    }
   ],
   "source": [
    "pwd()"
   ]
  },
  {
   "cell_type": "code",
   "execution_count": 4,
   "id": "b80482f2-c715-4010-b4de-fbf11a268885",
   "metadata": {},
   "outputs": [],
   "source": [
    "local_path = \"../../BulkLMM.jl/src\";"
   ]
  },
  {
   "cell_type": "code",
   "execution_count": 327,
   "id": "cb55560e-f0ab-475a-9d6b-51d9f5c56c68",
   "metadata": {},
   "outputs": [],
   "source": [
    "include(joinpath(local_path, \"kinship.jl\"));\n",
    "include(joinpath(local_path, \"util.jl\"));\n",
    "include(joinpath(local_path, \"wls.jl\"));\n",
    "include(joinpath(local_path, \"lmm.jl\"));\n",
    "include(joinpath(local_path, \"gridbrent.jl\"));\n",
    "include(joinpath(local_path, \"transform_helpers.jl\"));\n",
    "include(joinpath(local_path, \"scan.jl\"));\n",
    "include(joinpath(local_path, \"bulkscan_helpers.jl\"));\n",
    "include(joinpath(local_path, \"bulkscan.jl\"));\n",
    "include(joinpath(local_path, \"readData.jl\"));\n",
    "include(joinpath(local_path, \"../plot_utils/visuals_utils.jl\"));\n",
    "include(joinpath(local_path, \"analysis_helpers/single_trait_analysis.jl\"));\n",
    "include(\"../../BigRiver_util_code/src/kinship_utils.jl\");"
   ]
  },
  {
   "cell_type": "markdown",
   "id": "fb693d6a-76a0-4c29-a57a-e67b06579aa9",
   "metadata": {},
   "source": [
    "## Omics traits:"
   ]
  },
  {
   "cell_type": "code",
   "execution_count": 185,
   "id": "5b45aa82-5e37-48c5-bc4a-d715b2328fd3",
   "metadata": {},
   "outputs": [
    {
     "name": "stdout",
     "output_type": "stream",
     "text": [
      "  1.337354 seconds (1.11 M allocations: 84.567 MiB, 3.94% gc time)\n"
     ]
    }
   ],
   "source": [
    "@time omics_pheno_df = CSV.read(\"/home/zyu20/shareddata/HSNIH-Palmer/HSNIH-Rat-PL-RSeq-0818_nomissing.csv\", DataFrame);"
   ]
  },
  {
   "cell_type": "code",
   "execution_count": 10,
   "id": "29afb046-9efc-4694-9d50-cb1f42f6a248",
   "metadata": {},
   "outputs": [
    {
     "data": {
      "text/plain": [
       "6-element Vector{String}:\n",
       " \"id\"\n",
       " \"ENSRNOG00000000001\"\n",
       " \"ENSRNOG00000000007\"\n",
       " \"ENSRNOG00000000008\"\n",
       " \"ENSRNOG00000000009\"\n",
       " \"ENSRNOG00000000010\""
      ]
     },
     "execution_count": 10,
     "metadata": {},
     "output_type": "execute_result"
    }
   ],
   "source": [
    "names(omics_pheno)[1:6]"
   ]
  },
  {
   "cell_type": "code",
   "execution_count": 11,
   "id": "772c3342-bcb6-41f1-bba9-a4e875337c7e",
   "metadata": {},
   "outputs": [],
   "source": [
    "sample_ids = omics_pheno[:, 1];"
   ]
  },
  {
   "cell_type": "code",
   "execution_count": null,
   "id": "2469d7ea-e1bd-4918-bd8a-27af2a611dfe",
   "metadata": {},
   "outputs": [],
   "source": []
  },
  {
   "cell_type": "markdown",
   "id": "969a0e73-5d18-4f18-9884-217070b25812",
   "metadata": {
    "tags": []
   },
   "source": [
    "## HS Genotypes："
   ]
  },
  {
   "cell_type": "markdown",
   "id": "ec4108c4-81f0-4997-95b2-4b60e8893983",
   "metadata": {},
   "source": [
    "Takes too long..."
   ]
  },
  {
   "cell_type": "code",
   "execution_count": 36,
   "id": "e279ff62-aa12-42b8-aba7-fc9622bc5f04",
   "metadata": {},
   "outputs": [],
   "source": [
    "# @time hs_geno = parse_geno(\"/home/zyu20/shareddata/HSNIH-Palmer/HSNIH-Palmer_true.geno\")"
   ]
  },
  {
   "cell_type": "code",
   "execution_count": 37,
   "id": "a19612b9-2846-469b-81b9-b1a98ec34faf",
   "metadata": {},
   "outputs": [
    {
     "data": {
      "text/plain": [
       "\"@name:HSNIH-Palmer\""
      ]
     },
     "execution_count": 37,
     "metadata": {},
     "output_type": "execute_result"
    }
   ],
   "source": [
    "open(\"/home/zyu20/shareddata/HSNIH-Palmer/HSNIH-Palmer_true.geno\") do io\n",
    "           readline(io) # throw out the first line\n",
    "           readline(io)\n",
    "           # readlines(io)\n",
    "end"
   ]
  },
  {
   "cell_type": "code",
   "execution_count": 118,
   "id": "3fa9f77d-91ff-426b-a311-d8693491873b",
   "metadata": {},
   "outputs": [
    {
     "name": "stdout",
     "output_type": "stream",
     "text": [
      "@type:riset\n",
      "@name:HSNIH-Palmer\n",
      "@mat:0\n",
      "@pat:2\n",
      "#heterozygous, optional, default is \\\"H\\\"\n",
      "@het:1\n",
      "#Unknown, optional, default is \\\"U\\\"\n",
      "@unk:U\n"
     ]
    }
   ],
   "source": [
    "count = 0;\n",
    "test_line = readline(\"/home/zyu20/shareddata/HSNIH-Palmer/HSNIH-Palmer_true.geno\")\n",
    "\n",
    "for line in eachline(\"/home/zyu20/shareddata/HSNIH-Palmer/HSNIH-Palmer_true.geno\")\n",
    "    \n",
    "    count = count + 1;\n",
    "    println(line)\n",
    "    \n",
    "    test_line = line\n",
    "    \n",
    "    if count == 8\n",
    "        break\n",
    "    end\n",
    "    \n",
    "end"
   ]
  },
  {
   "cell_type": "code",
   "execution_count": 48,
   "id": "a26eddf3-f8aa-4ac5-bfb6-05f21b578235",
   "metadata": {},
   "outputs": [
    {
     "data": {
      "text/plain": [
       "6151-element Vector{SubString{String}}:\n",
       " \"Chr\"\n",
       " \"Locus\"\n",
       " \"cM\"\n",
       " \"Mb\"\n",
       " \"0007A0008B\"\n",
       " \"0007A00024\"\n",
       " \"0007A000DB\"\n",
       " \"0007A001C5\"\n",
       " \"0007A0059F\"\n",
       " \"0007A00263\"\n",
       " \"0007A00670\"\n",
       " \"0007A00716\"\n",
       " \"0007A01A7C\"\n",
       " ⋮\n",
       " \"0007929889\"\n",
       " \"0007929894\"\n",
       " \"0007929913\"\n",
       " \"0007929918\"\n",
       " \"0007929924\"\n",
       " \"0007929944\"\n",
       " \"0007929945\"\n",
       " \"0007929959\"\n",
       " \"0007929963\"\n",
       " \"0007929965\"\n",
       " \"0007929994\"\n",
       " \"0007929999\""
      ]
     },
     "execution_count": 48,
     "metadata": {},
     "output_type": "execute_result"
    }
   ],
   "source": [
    "geno_colnames = split(test_line, '\\t')"
   ]
  },
  {
   "cell_type": "code",
   "execution_count": 100,
   "id": "b467eda1-5b8f-4082-a31d-cab7932e7e30",
   "metadata": {},
   "outputs": [
    {
     "data": {
      "text/plain": [
       "(6151,)"
      ]
     },
     "execution_count": 100,
     "metadata": {},
     "output_type": "execute_result"
    }
   ],
   "source": [
    "size(geno_colnames)"
   ]
  },
  {
   "cell_type": "code",
   "execution_count": 55,
   "id": "a19c8070-4d16-42d2-8bfd-8ad4fc7bf69a",
   "metadata": {},
   "outputs": [
    {
     "name": "stdout",
     "output_type": "stream",
     "text": [
      "  0.085747 seconds (553.54 k allocations: 33.284 MiB, 59.11% compilation time)\n"
     ]
    }
   ],
   "source": [
    "@time cols_to_extract_from_fullgeno = map(x -> x in sample_ids, geno_colnames);"
   ]
  },
  {
   "cell_type": "code",
   "execution_count": 56,
   "id": "a401bafa-d21a-4de7-b316-f3a639622bc4",
   "metadata": {},
   "outputs": [
    {
     "data": {
      "text/plain": [
       "80"
      ]
     },
     "execution_count": 56,
     "metadata": {},
     "output_type": "execute_result"
    }
   ],
   "source": [
    "sum(cols_to_extract_from_fullgeno)"
   ]
  },
  {
   "cell_type": "code",
   "execution_count": 102,
   "id": "cc5b4017-fd13-4993-8096-6a67a0572276",
   "metadata": {},
   "outputs": [
    {
     "data": {
      "text/plain": [
       "80-element Vector{Int64}:\n",
       " 2227\n",
       " 2282\n",
       " 3571\n",
       " 4113\n",
       " 4669\n",
       " 4691\n",
       " 4697\n",
       " 4701\n",
       " 4710\n",
       " 4716\n",
       " 4730\n",
       " 4736\n",
       " 4742\n",
       "    ⋮\n",
       " 5355\n",
       " 5370\n",
       " 5372\n",
       " 5377\n",
       " 5385\n",
       " 5496\n",
       " 5497\n",
       " 5507\n",
       " 5532\n",
       " 5536\n",
       " 5540\n",
       " 5541"
      ]
     },
     "execution_count": 102,
     "metadata": {},
     "output_type": "execute_result"
    }
   ],
   "source": [
    "cols_ids_in_geno = findall(cols_to_extract_from_fullgeno .== 1) "
   ]
  },
  {
   "cell_type": "code",
   "execution_count": 130,
   "id": "ff3407f6-e9e4-4653-b8ac-5d8a86c8fc59",
   "metadata": {},
   "outputs": [],
   "source": [
    "#=\n",
    "@time begin\n",
    "    myfile = open(\"my_genofile.txt\", \"w\")\n",
    "    row_count = 0\n",
    "    for line in eachline(\"/home/zyu20/shareddata/HSNIH-Palmer/HSNIH-Palmer_true.geno\")\n",
    "\n",
    "        row_count = row_count + 1;\n",
    "\n",
    "        if row_count >= 9\n",
    "            col_count = 0;\n",
    "            words_in_curr_line = split(line, '\\t');\n",
    "            for word in words_in_curr_line\n",
    "                col_count = col_count + 1;\n",
    "                if col_count in cols_ids_in_geno\n",
    "                    to_write = word * \"\\t\";\n",
    "                    write(myfile, to_write);\n",
    "                end\n",
    "            end\n",
    "            write(myfile, \"\\n\")\n",
    "        end\n",
    "    end\n",
    "\n",
    "    close(myfile)\n",
    "end\n",
    "=#"
   ]
  },
  {
   "cell_type": "code",
   "execution_count": 129,
   "id": "51b228cd-b057-49fe-8dae-58c4aa3c9284",
   "metadata": {},
   "outputs": [
    {
     "name": "stdout",
     "output_type": "stream",
     "text": [
      " 70.605341 seconds (192.58 M allocations: 5.088 GiB, 83.14% gc time, 0.06% compilation time)\n"
     ]
    },
    {
     "data": {
      "text/plain": [
       "134918×80 Matrix{Any}:\n",
       " 2        2        1        2        …  2        1        2        2\n",
       " 2        2        2        2           2        2        2        2\n",
       " 2        2        2        1           2        2        2        2\n",
       " 2        2        2        1           2        2        2        2\n",
       " 2        2        2        1           2        2        2        1\n",
       " 2        2        2        2        …  2        2        1        2\n",
       " 2        2        2        2           2        2        1        2\n",
       " 0.997    1.976    0.991    1.979       1.979    1.979    1.979    0.007\n",
       " 1.941    1.559    1.006    1.994       1.993    1.994    1.993    1.998\n",
       " 1.978    1.992    1.997    1.994       1.993    1.993    1.993    1.997\n",
       " 0.031    0.39     0.99298  0.008    …  0.01     0.009    0.01     0.003\n",
       " 1.997    1.997    1.998    1.997       1.997    1.997    1.997    1.998\n",
       " 1.997    1.997    1.006    1.997       1.997    1.997    1.997    1.998\n",
       " ⋮                                   ⋱                             \n",
       " 1.917    1.917    1.917    1.917       1.917    1.917    1.917    1.917\n",
       " 1.99     1.99     1.99     1.99        1.99     1.99     1.99     1.99\n",
       " 1.913    1.913    1.913    1.913       1.913    1.913    1.913    1.913\n",
       " 0.004    0.004    0.004    0.004       0.004    0.004    0.004    0.004\n",
       " 2        2        2        2        …  2        2        2        2\n",
       " 1.913    1.913    1.913    1.913       1.91205  1.913    1.913    1.913\n",
       " 1.89703  1.89703  1.89703  1.89703     1.89703  1.89703  1.89703  1.89703\n",
       " 2        2        2        2           2        2        2        2\n",
       " 2        2        2        2           2        2        2        2\n",
       " 1.998    1.998    1.998    1.998    …  1.998    1.998    1.998    1.998\n",
       " 0.013    0.013    0.013    0.013       0.013    0.013    0.013    0.013\n",
       " 2        2        2        2           2        2        2        2"
      ]
     },
     "execution_count": 129,
     "metadata": {},
     "output_type": "execute_result"
    }
   ],
   "source": [
    "@time omics_geno = readdlm(\"my_genofile.txt\", '\\t')[2:end, 1:(end-1)]"
   ]
  },
  {
   "cell_type": "code",
   "execution_count": 146,
   "id": "d52832fc-a60d-4a4f-b733-d86877178431",
   "metadata": {},
   "outputs": [
    {
     "data": {
      "text/plain": [
       "1494-element Vector{CartesianIndex{2}}:\n",
       " CartesianIndex(21302, 1)\n",
       " CartesianIndex(21316, 1)\n",
       " CartesianIndex(35852, 1)\n",
       " CartesianIndex(35855, 1)\n",
       " CartesianIndex(78338, 1)\n",
       " CartesianIndex(78340, 1)\n",
       " CartesianIndex(78341, 1)\n",
       " CartesianIndex(78363, 1)\n",
       " CartesianIndex(95701, 1)\n",
       " CartesianIndex(95704, 1)\n",
       " CartesianIndex(95731, 1)\n",
       " CartesianIndex(95812, 1)\n",
       " CartesianIndex(21302, 2)\n",
       " ⋮\n",
       " CartesianIndex(95776, 80)\n",
       " CartesianIndex(95777, 80)\n",
       " CartesianIndex(95779, 80)\n",
       " CartesianIndex(95781, 80)\n",
       " CartesianIndex(95782, 80)\n",
       " CartesianIndex(95784, 80)\n",
       " CartesianIndex(95787, 80)\n",
       " CartesianIndex(95812, 80)\n",
       " CartesianIndex(109662, 80)\n",
       " CartesianIndex(124557, 80)\n",
       " CartesianIndex(124558, 80)\n",
       " CartesianIndex(130075, 80)"
      ]
     },
     "execution_count": 146,
     "metadata": {},
     "output_type": "execute_result"
    }
   ],
   "source": [
    "NA_entries = findall(x -> typeof(x) == SubString{String}, omics_geno)"
   ]
  },
  {
   "cell_type": "markdown",
   "id": "44bc6fbe-9db2-4829-86b7-d107336f9058",
   "metadata": {},
   "source": [
    "There are still some missings coded as \"NA\"'s..."
   ]
  },
  {
   "cell_type": "code",
   "execution_count": 144,
   "id": "00f4a3e1-cee0-4134-a7d5-c7bdf5bcdcc3",
   "metadata": {},
   "outputs": [
    {
     "data": {
      "text/plain": [
       "\"NA\""
      ]
     },
     "execution_count": 144,
     "metadata": {},
     "output_type": "execute_result"
    }
   ],
   "source": [
    "omics_geno[21302, 1]"
   ]
  },
  {
   "cell_type": "code",
   "execution_count": 145,
   "id": "1b0ea643-7297-4d31-86fc-9da4e15594a6",
   "metadata": {},
   "outputs": [
    {
     "data": {
      "text/plain": [
       "\"NA\""
      ]
     },
     "execution_count": 145,
     "metadata": {},
     "output_type": "execute_result"
    }
   ],
   "source": [
    "omics_geno[130075, 80]"
   ]
  },
  {
   "cell_type": "code",
   "execution_count": 154,
   "id": "4a1e3732-c359-47f6-82cb-a461f7f293f0",
   "metadata": {},
   "outputs": [],
   "source": [
    "NA_markers = zeros(length(NA_entries));\n",
    "\n",
    "for i in 1:length(NA_entries)\n",
    "    NA_markers[i] = NA_entries[i][1];\n",
    "end\n",
    "\n",
    "NA_markers = trunc.(Int64, NA_markers);"
   ]
  },
  {
   "cell_type": "code",
   "execution_count": 155,
   "id": "be79ebba-cc2a-4080-b0f8-20adcaf65b85",
   "metadata": {},
   "outputs": [
    {
     "data": {
      "text/plain": [
       "1494-element Vector{Int64}:\n",
       "  21302\n",
       "  21316\n",
       "  35852\n",
       "  35855\n",
       "  78338\n",
       "  78340\n",
       "  78341\n",
       "  78363\n",
       "  95701\n",
       "  95704\n",
       "  95731\n",
       "  95812\n",
       "  21302\n",
       "      ⋮\n",
       "  95776\n",
       "  95777\n",
       "  95779\n",
       "  95781\n",
       "  95782\n",
       "  95784\n",
       "  95787\n",
       "  95812\n",
       " 109662\n",
       " 124557\n",
       " 124558\n",
       " 130075"
      ]
     },
     "execution_count": 155,
     "metadata": {},
     "output_type": "execute_result"
    }
   ],
   "source": [
    "NA_markers"
   ]
  },
  {
   "cell_type": "code",
   "execution_count": 210,
   "id": "db0f77e5-a5a4-4a94-bc77-dd1439d6e467",
   "metadata": {},
   "outputs": [],
   "source": [
    "omics_geno_nomissing = omics_geno[map(x -> !(x in NA_markers), collect(1:size(omics_geno, 1))), :]';"
   ]
  },
  {
   "cell_type": "code",
   "execution_count": 166,
   "id": "c5a29981-0eb0-4402-ad5d-0ec7531d7bef",
   "metadata": {},
   "outputs": [],
   "source": [
    "# writedlm(\"/home/zyu20/shareddata/HSNIH-Palmer/HSNIH-Palmer_true_omics_geno_nomissing.txt\", omics_geno_nomissing, '\\t')"
   ]
  },
  {
   "cell_type": "markdown",
   "id": "b7717616-a1e1-46bf-9fc6-2ea10b26aafa",
   "metadata": {},
   "source": [
    "## Load BulkLMM functions:"
   ]
  },
  {
   "cell_type": "code",
   "execution_count": 220,
   "id": "54a43168-6754-44ed-aa2a-13ce1a79f536",
   "metadata": {},
   "outputs": [],
   "source": [
    "include(joinpath(local_path, \"kinship.jl\"));\n",
    "include(joinpath(local_path, \"util.jl\"));\n",
    "include(joinpath(local_path, \"wls.jl\"));\n",
    "include(joinpath(local_path, \"lmm.jl\"));\n",
    "include(joinpath(local_path, \"gridbrent.jl\"));\n",
    "include(joinpath(local_path, \"transform_helpers.jl\"));\n",
    "include(joinpath(local_path, \"scan.jl\"));\n",
    "include(joinpath(local_path, \"bulkscan_helpers.jl\"));\n",
    "include(joinpath(local_path, \"bulkscan.jl\"));\n",
    "include(joinpath(local_path, \"readData.jl\"));\n",
    "include(joinpath(local_path, \"../plot_utils/visuals_utils.jl\"));\n",
    "include(joinpath(local_path, \"analysis_helpers/single_trait_analysis.jl\"));\n",
    "include(\"../../BigRiver_util_code/src/kinship_utils.jl\");\n",
    "include(\"../../BigRiver_util_code/src/run_gemma_utils.jl\");"
   ]
  },
  {
   "cell_type": "code",
   "execution_count": 243,
   "id": "87a9c5d8-7021-4ce1-bf6b-33de9d669b88",
   "metadata": {},
   "outputs": [],
   "source": [
    "omics_geno_nomissing = float.(omics_geno_nomissing)./2.0;"
   ]
  },
  {
   "cell_type": "code",
   "execution_count": 212,
   "id": "afacdacd-aafe-4b45-8a51-2378d0595ae7",
   "metadata": {},
   "outputs": [
    {
     "data": {
      "text/plain": [
       "(80, 134681)"
      ]
     },
     "execution_count": 212,
     "metadata": {},
     "output_type": "execute_result"
    }
   ],
   "source": [
    "size(omics_geno_nomissing)"
   ]
  },
  {
   "cell_type": "code",
   "execution_count": 213,
   "id": "b4723e01-3da8-404f-b78b-cccd173937c5",
   "metadata": {},
   "outputs": [
    {
     "data": {
      "text/plain": [
       "10-element Vector{Float64}:\n",
       " 0.0\n",
       " 0.003\n",
       " 0.005\n",
       " 0.965\n",
       " 1.0\n",
       " 1.0\n",
       " 1.668\n",
       " 1.994\n",
       " 1.998\n",
       " 2.0"
      ]
     },
     "execution_count": 213,
     "metadata": {},
     "output_type": "execute_result"
    }
   ],
   "source": [
    "quantile(vec(omics_geno_nomissing), collect(0.1:0.1:1.0))"
   ]
  },
  {
   "cell_type": "code",
   "execution_count": 187,
   "id": "363644b9-031b-450b-9f06-5d1ac76f0999",
   "metadata": {},
   "outputs": [],
   "source": [
    "omics_pheno = omics_pheno_df[1:end, 2:end] |> Matrix{Float64};"
   ]
  },
  {
   "cell_type": "code",
   "execution_count": 181,
   "id": "018d4f10-bb47-4665-8c32-d8760b18fbaf",
   "metadata": {},
   "outputs": [],
   "source": [
    "grid_loose = collect(0.0:0.05:0.95);"
   ]
  },
  {
   "cell_type": "code",
   "execution_count": 200,
   "id": "16d8a6ab-3688-4ed2-8340-c049d5874f7d",
   "metadata": {},
   "outputs": [
    {
     "data": {
      "text/plain": [
       "1×32623 Matrix{Float64}:\n",
       " 295.64  970.256  121.756  -3.3276  …  0.0  0.0  0.0  0.0  0.0  0.0  0.0"
      ]
     },
     "execution_count": 200,
     "metadata": {},
     "output_type": "execute_result"
    }
   ],
   "source": [
    "mapslices(x -> sum(x), omics_pheno; dims = 1)"
   ]
  },
  {
   "cell_type": "code",
   "execution_count": 203,
   "id": "043109e4-c574-4f47-abe6-3c9fa0d0df71",
   "metadata": {},
   "outputs": [
    {
     "data": {
      "text/plain": [
       "18416-element Vector{Int64}:\n",
       "     1\n",
       "     2\n",
       "     3\n",
       "     4\n",
       "     5\n",
       "     6\n",
       "     7\n",
       "     8\n",
       "     9\n",
       "    10\n",
       "    11\n",
       "    12\n",
       "    13\n",
       "     ⋮\n",
       " 18405\n",
       " 18406\n",
       " 18407\n",
       " 18408\n",
       " 18409\n",
       " 18410\n",
       " 18411\n",
       " 18412\n",
       " 18413\n",
       " 18414\n",
       " 18415\n",
       " 18416"
      ]
     },
     "execution_count": 203,
     "metadata": {},
     "output_type": "execute_result"
    }
   ],
   "source": [
    "nonzero_traits_to_keep = findall(vec(mapslices(x -> sum(x), omics_pheno; dims = 1)) .!== 0.0)"
   ]
  },
  {
   "cell_type": "code",
   "execution_count": 205,
   "id": "e2a73258-2adb-49fd-a5df-db8d04b46c51",
   "metadata": {},
   "outputs": [],
   "source": [
    "omics_pheno_nozeros = omics_pheno[:, nonzero_traits_to_keep];"
   ]
  },
  {
   "cell_type": "code",
   "execution_count": 206,
   "id": "21013416-c216-4fe8-ac70-2b4e3731355b",
   "metadata": {},
   "outputs": [
    {
     "data": {
      "text/plain": [
       "(80, 18416)"
      ]
     },
     "execution_count": 206,
     "metadata": {},
     "output_type": "execute_result"
    }
   ],
   "source": [
    "size(omics_pheno_nozeros)"
   ]
  },
  {
   "cell_type": "code",
   "execution_count": 365,
   "id": "ca37ba39-3015-49c2-9f75-318c6f24e62e",
   "metadata": {},
   "outputs": [
    {
     "name": "stdout",
     "output_type": "stream",
     "text": [
      "  0.011095 seconds (10 allocations: 1.028 MiB)\n"
     ]
    }
   ],
   "source": [
    "@time maf_omics_geno = vec(mean(omics_geno_nomissing; dims = 1));"
   ]
  },
  {
   "cell_type": "code",
   "execution_count": 373,
   "id": "be218cd2-ccbf-47e5-a010-616390d7efa9",
   "metadata": {},
   "outputs": [],
   "source": [
    "to_keep = map(x -> (x < 0.95) & (x > 0.05), maf_omics_geno);"
   ]
  },
  {
   "cell_type": "code",
   "execution_count": 375,
   "id": "47330aea-93b2-4f79-b3be-874c90a7ab71",
   "metadata": {},
   "outputs": [],
   "source": [
    "omics_geno_nomissing_filtered = omics_geno_nomissing[:, to_keep];"
   ]
  },
  {
   "cell_type": "code",
   "execution_count": 376,
   "id": "44ea9b29-3de5-4dc2-a7cc-34e9d74de6a0",
   "metadata": {},
   "outputs": [
    {
     "name": "stdout",
     "output_type": "stream",
     "text": [
      " 24.348417 seconds (31.60 k allocations: 13.847 GiB, 65.29% gc time)\n"
     ]
    },
    {
     "data": {
      "text/plain": [
       "80×80 Matrix{Float64}:\n",
       " 1.0       0.647764  0.638984  0.640744  …  0.633285  0.639396  0.662753\n",
       " 0.647764  1.0       0.634283  0.63157      0.627148  0.62953   0.65366\n",
       " 0.638984  0.634283  1.0       0.650255     0.648052  0.635979  0.646126\n",
       " 0.640744  0.63157   0.650255  1.0          0.635719  0.652099  0.640436\n",
       " 0.637076  0.633313  0.639172  0.646493     0.629846  0.64328   0.64063\n",
       " 0.676449  0.645656  0.653192  0.656735  …  0.638355  0.640651  0.642787\n",
       " 0.641324  0.631591  0.645213  0.649611     0.631336  0.638216  0.640156\n",
       " 0.634784  0.643335  0.631772  0.646329     0.647447  0.640572  0.656369\n",
       " 0.639598  0.619243  0.641125  0.640551     0.634354  0.6276    0.644544\n",
       " 0.653657  0.646809  0.638325  0.637831     0.649555  0.636434  0.649134\n",
       " 0.644224  0.64628   0.64461   0.644455  …  0.636753  0.652057  0.633401\n",
       " 0.62735   0.639572  0.642622  0.627293     0.63297   0.627297  0.652782\n",
       " 0.646551  0.653715  0.651631  0.658093     0.635651  0.63378   0.637987\n",
       " ⋮                                       ⋱                      \n",
       " 0.646313  0.638408  0.644301  0.658432     0.637003  0.666658  0.642855\n",
       " 0.636865  0.626288  0.636967  0.646913     0.633025  0.641603  0.64111\n",
       " 0.659273  0.647381  0.645744  0.634949  …  0.630118  0.645331  0.66132\n",
       " 0.635355  0.62028   0.649438  0.620474     0.629868  0.661099  0.644682\n",
       " 0.65424   0.653469  0.649568  0.636305     0.640717  0.616431  0.659316\n",
       " 0.637136  0.621097  0.644055  0.646375     0.638688  0.635459  0.645664\n",
       " 0.650225  0.638218  0.658993  0.65168      0.648855  0.6455    0.652887\n",
       " 0.647307  0.63665   0.652684  0.645692  …  0.62859   0.63844   0.646472\n",
       " 0.641537  0.626672  0.642624  0.645052     0.630797  0.642195  0.630942\n",
       " 0.633285  0.627148  0.648052  0.635719     1.0       0.642887  0.634042\n",
       " 0.639396  0.62953   0.635979  0.652099     0.642887  1.0       0.631074\n",
       " 0.662753  0.65366   0.646126  0.640436     0.634042  0.631074  1.0"
      ]
     },
     "execution_count": 376,
     "metadata": {},
     "output_type": "execute_result"
    }
   ],
   "source": [
    "@time omics_kinship = calcKinship(omics_geno_nomissing_filtered)"
   ]
  },
  {
   "cell_type": "code",
   "execution_count": 377,
   "id": "46d8cbaa-7d26-4cc5-a4dc-037bdbbe76c6",
   "metadata": {},
   "outputs": [
    {
     "data": {
      "text/plain": [
       "CartesianIndex{2}[]"
      ]
     },
     "execution_count": 377,
     "metadata": {},
     "output_type": "execute_result"
    }
   ],
   "source": [
    "findall(var(omics_geno_nomissing_filtered; dims = 1) .== 0.0)"
   ]
  },
  {
   "cell_type": "code",
   "execution_count": 341,
   "id": "a93ef5c5-ea34-4934-b8fa-feed9c76fd81",
   "metadata": {},
   "outputs": [
    {
     "data": {
      "text/plain": [
       "80×134073 Matrix{Float64}:\n",
       " 1.0  1.0  1.0  1.0  1.0  1.0  1.0  0.4985  …  1.0  1.0  0.999   0.0065  1.0\n",
       " 1.0  1.0  1.0  1.0  1.0  1.0  1.0  0.988      1.0  1.0  0.999   0.0065  1.0\n",
       " 0.5  1.0  1.0  1.0  1.0  1.0  1.0  0.4955     1.0  1.0  0.999   0.0065  1.0\n",
       " 1.0  1.0  0.5  0.5  0.5  1.0  1.0  0.9895     1.0  1.0  0.999   0.0065  1.0\n",
       " 1.0  1.0  1.0  1.0  1.0  1.0  1.0  0.0035     0.5  0.5  0.498   0.0455  1.0\n",
       " 1.0  1.0  1.0  1.0  1.0  1.0  1.0  0.9895  …  1.0  1.0  0.999   0.0065  1.0\n",
       " 0.5  0.5  1.0  1.0  1.0  0.5  1.0  0.4955     1.0  1.0  0.999   0.0065  1.0\n",
       " 1.0  1.0  1.0  1.0  1.0  1.0  1.0  0.4985     1.0  1.0  0.999   0.0065  1.0\n",
       " 1.0  1.0  1.0  1.0  1.0  1.0  1.0  0.004      1.0  1.0  0.999   0.0065  1.0\n",
       " 1.0  1.0  1.0  1.0  1.0  1.0  1.0  0.9895     1.0  1.0  0.999   0.0065  1.0\n",
       " 1.0  1.0  1.0  1.0  1.0  1.0  1.0  0.4985  …  1.0  1.0  0.999   0.0065  1.0\n",
       " 1.0  1.0  1.0  1.0  1.0  1.0  1.0  0.4985     1.0  0.5  0.9975  0.007   1.0\n",
       " 1.0  1.0  1.0  1.0  1.0  1.0  1.0  0.0035     1.0  1.0  0.999   0.0065  1.0\n",
       " ⋮                        ⋮                 ⋱            ⋮               \n",
       " 1.0  1.0  1.0  1.0  1.0  1.0  1.0  0.4955     1.0  1.0  0.999   0.0065  1.0\n",
       " 1.0  1.0  1.0  1.0  1.0  1.0  1.0  0.4985     1.0  1.0  0.999   0.0065  1.0\n",
       " 1.0  1.0  1.0  1.0  1.0  1.0  1.0  0.989   …  1.0  1.0  0.999   0.0065  1.0\n",
       " 1.0  1.0  1.0  1.0  1.0  1.0  1.0  0.0035     1.0  1.0  0.999   0.0065  1.0\n",
       " 1.0  1.0  1.0  1.0  1.0  1.0  1.0  0.4955     1.0  1.0  0.999   0.0065  1.0\n",
       " 1.0  1.0  1.0  1.0  1.0  0.5  1.0  0.4985     1.0  1.0  0.999   0.0065  1.0\n",
       " 1.0  1.0  1.0  1.0  1.0  1.0  1.0  0.0035     1.0  1.0  0.999   0.0065  1.0\n",
       " 1.0  1.0  1.0  1.0  1.0  1.0  1.0  0.0035  …  1.0  1.0  0.999   0.0065  1.0\n",
       " 1.0  1.0  1.0  1.0  1.0  1.0  1.0  0.9895     1.0  1.0  0.999   0.0065  1.0\n",
       " 0.5  1.0  1.0  1.0  1.0  1.0  1.0  0.9895     1.0  1.0  0.999   0.0065  1.0\n",
       " 1.0  1.0  1.0  1.0  1.0  0.5  0.5  0.9895     1.0  1.0  0.999   0.0065  1.0\n",
       " 1.0  1.0  1.0  1.0  0.5  1.0  1.0  0.0035     1.0  1.0  0.999   0.0065  1.0"
      ]
     },
     "execution_count": 341,
     "metadata": {},
     "output_type": "execute_result"
    }
   ],
   "source": [
    "omics_geno_nomissing_filtered"
   ]
  },
  {
   "cell_type": "code",
   "execution_count": 347,
   "id": "b390cb6e-7899-4fd1-8b31-b0f5a35fa422",
   "metadata": {},
   "outputs": [
    {
     "name": "stdout",
     "output_type": "stream",
     "text": [
      " 59.806108 seconds (7.78 M allocations: 39.142 GiB, 40.36% gc time)\n"
     ]
    }
   ],
   "source": [
    "@time bulkscan_null_grid_results = bulkscan_null_grid(omics_pheno_nozeros, omics_geno_nomissing_filtered, omics_kinship, grid_loose);"
   ]
  },
  {
   "cell_type": "code",
   "execution_count": 360,
   "id": "e912b0a6-8cf7-42a1-a756-948c1aace5b3",
   "metadata": {},
   "outputs": [
    {
     "name": "stdout",
     "output_type": "stream",
     "text": [
      "1709.444709 seconds (38.38 M allocations: 1.556 TiB, 24.61% gc time, 0.02% compilation time)\n"
     ]
    }
   ],
   "source": [
    "@time bulkscan_alt_grid_results = bulkscan_alt_grid(omics_pheno_nozeros, omics_geno_nomissing_filtered, omics_kinship, grid_loose);"
   ]
  },
  {
   "cell_type": "code",
   "execution_count": 362,
   "id": "6031e936-fd7d-4a2b-a39b-e521fe3440c4",
   "metadata": {},
   "outputs": [
    {
     "data": {
      "text/plain": [
       "134073×18416 Matrix{Float64}:\n",
       " 0.0  0.0  0.0  0.0  0.0  0.0  0.0  0.0  …  0.0  0.0  0.0  0.0  0.0  0.0  0.0\n",
       " 0.0  0.0  0.0  0.0  0.0  0.0  0.0  0.0     0.0  0.0  0.0  0.0  0.0  0.0  0.0\n",
       " 0.0  0.0  0.0  0.0  0.0  0.0  0.0  0.0     0.0  0.0  0.0  0.0  0.0  0.0  0.0\n",
       " 0.0  0.0  0.0  0.0  0.0  0.0  0.0  0.0     0.0  0.0  0.0  0.0  0.0  0.0  0.0\n",
       " 0.0  0.0  0.0  0.0  0.0  0.0  0.0  0.0     0.0  0.0  0.0  0.0  0.0  0.0  0.0\n",
       " 0.0  0.0  0.0  0.0  0.0  0.0  0.0  0.0  …  0.0  0.0  0.0  0.0  0.0  0.0  0.0\n",
       " 0.0  0.0  0.0  0.0  0.0  0.0  0.0  0.0     0.0  0.0  0.0  0.0  0.0  0.0  0.0\n",
       " 0.0  0.0  0.0  0.0  0.0  0.0  0.0  0.0     0.0  0.0  0.0  0.0  0.0  0.0  0.0\n",
       " 0.0  0.0  0.0  0.0  0.0  0.0  0.0  0.0     0.0  0.0  0.0  0.0  0.0  0.0  0.0\n",
       " 0.0  0.0  0.0  0.0  0.0  0.0  0.0  0.0     0.0  0.0  0.0  0.0  0.0  0.0  0.0\n",
       " 0.0  0.0  0.0  0.0  0.0  0.0  0.0  0.0  …  0.0  0.0  0.0  0.0  0.0  0.0  0.0\n",
       " 0.0  0.0  0.0  0.0  0.0  0.0  0.0  0.0     0.0  0.0  0.0  0.0  0.0  0.0  0.0\n",
       " 0.0  0.0  0.0  0.0  0.0  0.0  0.0  0.0     0.0  0.0  0.0  0.0  0.0  0.0  0.0\n",
       " ⋮                        ⋮              ⋱       ⋮                        ⋮\n",
       " 0.0  0.0  0.0  0.0  0.0  0.0  0.0  0.0     0.0  0.0  0.0  0.0  0.0  0.0  0.0\n",
       " 0.0  0.0  0.0  0.0  0.0  0.0  0.0  0.0     0.0  0.0  0.0  0.0  0.0  0.0  0.0\n",
       " 0.0  0.0  0.0  0.0  0.0  0.0  0.0  0.0     0.0  0.0  0.0  0.0  0.0  0.0  0.0\n",
       " 0.0  0.0  0.0  0.0  0.0  0.0  0.0  0.0     0.0  0.0  0.0  0.0  0.0  0.0  0.0\n",
       " 0.0  0.0  0.0  0.0  0.0  0.0  0.0  0.0  …  0.0  0.0  0.0  0.0  0.0  0.0  0.0\n",
       " 0.0  0.0  0.0  0.0  0.0  0.0  0.0  0.0     0.0  0.0  0.0  0.0  0.0  0.0  0.0\n",
       " 0.0  0.0  0.0  0.0  0.0  0.0  0.0  0.0     0.0  0.0  0.0  0.0  0.0  0.0  0.0\n",
       " 0.0  0.0  0.0  0.0  0.0  0.0  0.0  0.0     0.0  0.0  0.0  0.0  0.0  0.0  0.0\n",
       " 0.0  0.0  0.0  0.0  0.0  0.0  0.0  0.0     0.0  0.0  0.0  0.0  0.0  0.0  0.0\n",
       " 0.0  0.0  0.0  0.0  0.0  0.0  0.0  0.0  …  0.0  0.0  0.0  0.0  0.0  0.0  0.0\n",
       " 0.0  0.0  0.0  0.0  0.0  0.0  0.0  0.0     0.0  0.0  0.0  0.0  0.0  0.0  0.0\n",
       " 0.0  0.0  0.0  0.0  0.0  0.0  0.0  0.0     0.0  0.0  0.0  0.0  0.0  0.0  0.0"
      ]
     },
     "execution_count": 362,
     "metadata": {},
     "output_type": "execute_result"
    }
   ],
   "source": [
    "bulkscan_alt_grid_results.h2_panel"
   ]
  },
  {
   "cell_type": "markdown",
   "id": "0674dcaf-cc73-484c-abc0-60e03b2f2444",
   "metadata": {
    "tags": []
   },
   "source": [
    "## GEMMA:"
   ]
  },
  {
   "cell_type": "code",
   "execution_count": null,
   "id": "ccf5e750-496d-41e7-9598-c6acc421a987",
   "metadata": {},
   "outputs": [
    {
     "data": {
      "text/plain": [
       "\"/home/zyu20/Softwares/gemma-0.98.5-linux-static-AMD64\""
      ]
     },
     "execution_count": 219,
     "metadata": {},
     "output_type": "execute_result"
    }
   ],
   "source": [
    "gemma = \"/home/zyu20/Softwares/gemma-0.98.5-linux-static-AMD64\""
   ]
  },
  {
   "cell_type": "markdown",
   "id": "ff91e0d7-9381-49c3-b795-dba29e253813",
   "metadata": {},
   "source": [
    "#### Issues with data found so far:"
   ]
  },
  {
   "cell_type": "markdown",
   "id": "d7db88e9-28e5-406e-a81c-714274fd965f",
   "metadata": {},
   "source": [
    "- Identical genotype probabilities at some markers for all samples;"
   ]
  },
  {
   "cell_type": "code",
   "execution_count": null,
   "id": "948ea27f-bba5-4539-a9a5-0d4729be078a",
   "metadata": {},
   "outputs": [],
   "source": []
  }
 ],
 "metadata": {
  "kernelspec": {
   "display_name": "Julia 16 Threads 1.7.3",
   "language": "julia",
   "name": "julia-16-threads-1.7"
  },
  "language_info": {
   "file_extension": ".jl",
   "mimetype": "application/julia",
   "name": "julia",
   "version": "1.7.3"
  }
 },
 "nbformat": 4,
 "nbformat_minor": 5
}
