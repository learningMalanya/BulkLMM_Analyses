{
 "cells": [
  {
   "cell_type": "markdown",
   "id": "51c2201e-03ce-402f-b050-dcfabf1e53bf",
   "metadata": {},
   "source": [
    "## Pre-process of omics geno data for downstream analysis："
   ]
  },
  {
   "cell_type": "markdown",
   "id": "4a0da862-2c5c-48a4-ab15-dab1b01134b3",
   "metadata": {},
   "source": [
    "This notebook explains the process for obtaining and pre-processing omics mean genotype data of HS Rats used for downstream association studies."
   ]
  },
  {
   "cell_type": "code",
   "execution_count": 3,
   "id": "9587b035-4f5b-401a-9be2-58f5db20fbc4",
   "metadata": {},
   "outputs": [],
   "source": [
    "using CSV, DelimitedFiles, DataFrames, Missings, XLSX # for manipulating raw data"
   ]
  },
  {
   "cell_type": "markdown",
   "id": "fb693d6a-76a0-4c29-a57a-e67b06579aa9",
   "metadata": {},
   "source": [
    "#### First, we would need the sample ID's for samples in the omics traits data"
   ]
  },
  {
   "cell_type": "markdown",
   "id": "60e99fde-e7b7-4b80-ba70-dd56ba99db47",
   "metadata": {},
   "source": [
    "We would need the information for selecting the subset of the large file of genotypes only corresponding to the samples we want."
   ]
  },
  {
   "cell_type": "code",
   "execution_count": 4,
   "id": "5b45aa82-5e37-48c5-bc4a-d715b2328fd3",
   "metadata": {},
   "outputs": [
    {
     "name": "stdout",
     "output_type": "stream",
     "text": [
      " 12.750460 seconds (8.74 M allocations: 490.348 MiB, 2.36% gc time, 91.02% compilation time)\n"
     ]
    }
   ],
   "source": [
    "@time omics_pheno_df = CSV.read(\"/home/zyu20/shareddata/HSNIH-Palmer/HSNIH-Rat-PL-RSeq-0818_nomissing.csv\", DataFrame);"
   ]
  },
  {
   "cell_type": "code",
   "execution_count": 5,
   "id": "827f17f1-92c8-43c6-be30-4dbb13bbeacc",
   "metadata": {},
   "outputs": [
    {
     "data": {
      "text/html": [
       "<div><div style = \"float: left;\"><span>10×10 DataFrame</span></div><div style = \"clear: both;\"></div></div><div class = \"data-frame\" style = \"overflow-x: scroll;\"><table class = \"data-frame\" style = \"margin-bottom: 6px;\"><thead><tr class = \"header\"><th class = \"rowNumber\" style = \"font-weight: bold; text-align: right;\">Row</th><th style = \"text-align: left;\">id</th><th style = \"text-align: left;\">ENSRNOG00000000001</th><th style = \"text-align: left;\">ENSRNOG00000000007</th><th style = \"text-align: left;\">ENSRNOG00000000008</th><th style = \"text-align: left;\">ENSRNOG00000000009</th><th style = \"text-align: left;\">ENSRNOG00000000010</th><th style = \"text-align: left;\">ENSRNOG00000000012</th><th style = \"text-align: left;\">ENSRNOG00000000017</th><th style = \"text-align: left;\">ENSRNOG00000000021</th><th style = \"text-align: left;\">ENSRNOG00000000024</th></tr><tr class = \"subheader headerLastRow\"><th class = \"rowNumber\" style = \"font-weight: bold; text-align: right;\"></th><th title = \"String15\" style = \"text-align: left;\">String15</th><th title = \"Float64\" style = \"text-align: left;\">Float64</th><th title = \"Float64\" style = \"text-align: left;\">Float64</th><th title = \"Float64\" style = \"text-align: left;\">Float64</th><th title = \"Float64\" style = \"text-align: left;\">Float64</th><th title = \"Float64\" style = \"text-align: left;\">Float64</th><th title = \"Float64\" style = \"text-align: left;\">Float64</th><th title = \"Float64\" style = \"text-align: left;\">Float64</th><th title = \"Float64\" style = \"text-align: left;\">Float64</th><th title = \"Float64\" style = \"text-align: left;\">Float64</th></tr></thead><tbody><tr><td class = \"rowNumber\" style = \"font-weight: bold; text-align: right;\">1</td><td style = \"text-align: left;\">00077E67B5</td><td style = \"text-align: right;\">3.6379</td><td style = \"text-align: right;\">11.9384</td><td style = \"text-align: right;\">1.5656</td><td style = \"text-align: right;\">0.142</td><td style = \"text-align: right;\">8.1366</td><td style = \"text-align: right;\">4.2163</td><td style = \"text-align: right;\">2.9092</td><td style = \"text-align: right;\">7.6822</td><td style = \"text-align: right;\">9.5078</td></tr><tr><td class = \"rowNumber\" style = \"font-weight: bold; text-align: right;\">2</td><td style = \"text-align: left;\">00077E76FE</td><td style = \"text-align: right;\">3.7742</td><td style = \"text-align: right;\">11.9253</td><td style = \"text-align: right;\">1.5245</td><td style = \"text-align: right;\">-0.068</td><td style = \"text-align: right;\">8.2848</td><td style = \"text-align: right;\">4.663</td><td style = \"text-align: right;\">2.8339</td><td style = \"text-align: right;\">7.8128</td><td style = \"text-align: right;\">9.5016</td></tr><tr><td class = \"rowNumber\" style = \"font-weight: bold; text-align: right;\">3</td><td style = \"text-align: left;\">00077E8336</td><td style = \"text-align: right;\">3.554</td><td style = \"text-align: right;\">12.2001</td><td style = \"text-align: right;\">1.3987</td><td style = \"text-align: right;\">-0.0679</td><td style = \"text-align: right;\">8.1853</td><td style = \"text-align: right;\">4.5741</td><td style = \"text-align: right;\">2.5846</td><td style = \"text-align: right;\">7.705</td><td style = \"text-align: right;\">9.4759</td></tr><tr><td class = \"rowNumber\" style = \"font-weight: bold; text-align: right;\">4</td><td style = \"text-align: left;\">00077EA7E6</td><td style = \"text-align: right;\">3.3301</td><td style = \"text-align: right;\">11.9553</td><td style = \"text-align: right;\">1.6367</td><td style = \"text-align: right;\">-0.0218</td><td style = \"text-align: right;\">8.066</td><td style = \"text-align: right;\">4.4902</td><td style = \"text-align: right;\">2.5845</td><td style = \"text-align: right;\">7.6575</td><td style = \"text-align: right;\">9.3513</td></tr><tr><td class = \"rowNumber\" style = \"font-weight: bold; text-align: right;\">5</td><td style = \"text-align: left;\">00078A0224</td><td style = \"text-align: right;\">3.5547</td><td style = \"text-align: right;\">12.0272</td><td style = \"text-align: right;\">1.5649</td><td style = \"text-align: right;\">-0.0217</td><td style = \"text-align: right;\">8.3169</td><td style = \"text-align: right;\">4.5341</td><td style = \"text-align: right;\">2.6773</td><td style = \"text-align: right;\">7.8402</td><td style = \"text-align: right;\">9.3225</td></tr><tr><td class = \"rowNumber\" style = \"font-weight: bold; text-align: right;\">6</td><td style = \"text-align: left;\">00078A02CB</td><td style = \"text-align: right;\">3.8215</td><td style = \"text-align: right;\">12.0395</td><td style = \"text-align: right;\">1.3515</td><td style = \"text-align: right;\">-0.0679</td><td style = \"text-align: right;\">8.3208</td><td style = \"text-align: right;\">4.5923</td><td style = \"text-align: right;\">2.6765</td><td style = \"text-align: right;\">7.6363</td><td style = \"text-align: right;\">9.4791</td></tr><tr><td class = \"rowNumber\" style = \"font-weight: bold; text-align: right;\">7</td><td style = \"text-align: left;\">00078A0A43</td><td style = \"text-align: right;\">3.6407</td><td style = \"text-align: right;\">12.0575</td><td style = \"text-align: right;\">1.4871</td><td style = \"text-align: right;\">-0.0678</td><td style = \"text-align: right;\">8.2847</td><td style = \"text-align: right;\">4.6763</td><td style = \"text-align: right;\">2.7223</td><td style = \"text-align: right;\">7.7997</td><td style = \"text-align: right;\">9.4048</td></tr><tr><td class = \"rowNumber\" style = \"font-weight: bold; text-align: right;\">8</td><td style = \"text-align: left;\">00078A18A7</td><td style = \"text-align: right;\">3.6343</td><td style = \"text-align: right;\">12.0777</td><td style = \"text-align: right;\">1.4854</td><td style = \"text-align: right;\">-0.0679</td><td style = \"text-align: right;\">8.0468</td><td style = \"text-align: right;\">4.7543</td><td style = \"text-align: right;\">2.7599</td><td style = \"text-align: right;\">7.8119</td><td style = \"text-align: right;\">9.3522</td></tr><tr><td class = \"rowNumber\" style = \"font-weight: bold; text-align: right;\">9</td><td style = \"text-align: left;\">00078A193E</td><td style = \"text-align: right;\">3.6807</td><td style = \"text-align: right;\">12.1188</td><td style = \"text-align: right;\">1.5244</td><td style = \"text-align: right;\">-0.068</td><td style = \"text-align: right;\">8.1551</td><td style = \"text-align: right;\">4.8433</td><td style = \"text-align: right;\">2.7173</td><td style = \"text-align: right;\">7.9472</td><td style = \"text-align: right;\">9.2675</td></tr><tr><td class = \"rowNumber\" style = \"font-weight: bold; text-align: right;\">10</td><td style = \"text-align: left;\">00078A19A7</td><td style = \"text-align: right;\">3.8224</td><td style = \"text-align: right;\">12.0631</td><td style = \"text-align: right;\">1.3515</td><td style = \"text-align: right;\">-0.0679</td><td style = \"text-align: right;\">8.4357</td><td style = \"text-align: right;\">4.5116</td><td style = \"text-align: right;\">2.5344</td><td style = \"text-align: right;\">7.7446</td><td style = \"text-align: right;\">9.3388</td></tr></tbody></table></div>"
      ],
      "text/latex": [
       "\\begin{tabular}{r|cccccc}\n",
       "\t& id & ENSRNOG00000000001 & ENSRNOG00000000007 & ENSRNOG00000000008 & ENSRNOG00000000009 & \\\\\n",
       "\t\\hline\n",
       "\t& String15 & Float64 & Float64 & Float64 & Float64 & \\\\\n",
       "\t\\hline\n",
       "\t1 & 00077E67B5 & 3.6379 & 11.9384 & 1.5656 & 0.142 & $\\dots$ \\\\\n",
       "\t2 & 00077E76FE & 3.7742 & 11.9253 & 1.5245 & -0.068 & $\\dots$ \\\\\n",
       "\t3 & 00077E8336 & 3.554 & 12.2001 & 1.3987 & -0.0679 & $\\dots$ \\\\\n",
       "\t4 & 00077EA7E6 & 3.3301 & 11.9553 & 1.6367 & -0.0218 & $\\dots$ \\\\\n",
       "\t5 & 00078A0224 & 3.5547 & 12.0272 & 1.5649 & -0.0217 & $\\dots$ \\\\\n",
       "\t6 & 00078A02CB & 3.8215 & 12.0395 & 1.3515 & -0.0679 & $\\dots$ \\\\\n",
       "\t7 & 00078A0A43 & 3.6407 & 12.0575 & 1.4871 & -0.0678 & $\\dots$ \\\\\n",
       "\t8 & 00078A18A7 & 3.6343 & 12.0777 & 1.4854 & -0.0679 & $\\dots$ \\\\\n",
       "\t9 & 00078A193E & 3.6807 & 12.1188 & 1.5244 & -0.068 & $\\dots$ \\\\\n",
       "\t10 & 00078A19A7 & 3.8224 & 12.0631 & 1.3515 & -0.0679 & $\\dots$ \\\\\n",
       "\\end{tabular}\n"
      ],
      "text/plain": [
       "\u001b[1m10×10 DataFrame\u001b[0m\n",
       "\u001b[1m Row \u001b[0m│\u001b[1m id         \u001b[0m\u001b[1m ENSRNOG00000000001 \u001b[0m\u001b[1m ENSRNOG00000000007 \u001b[0m\u001b[1m ENSRNOG00000000008 \u001b[0m\u001b[1m\u001b[0m ⋯\n",
       "     │\u001b[90m String15   \u001b[0m\u001b[90m Float64            \u001b[0m\u001b[90m Float64            \u001b[0m\u001b[90m Float64            \u001b[0m\u001b[90m\u001b[0m ⋯\n",
       "─────┼──────────────────────────────────────────────────────────────────────────\n",
       "   1 │ 00077E67B5              3.6379             11.9384              1.5656  ⋯\n",
       "   2 │ 00077E76FE              3.7742             11.9253              1.5245\n",
       "   3 │ 00077E8336              3.554              12.2001              1.3987\n",
       "   4 │ 00077EA7E6              3.3301             11.9553              1.6367\n",
       "   5 │ 00078A0224              3.5547             12.0272              1.5649  ⋯\n",
       "   6 │ 00078A02CB              3.8215             12.0395              1.3515\n",
       "   7 │ 00078A0A43              3.6407             12.0575              1.4871\n",
       "   8 │ 00078A18A7              3.6343             12.0777              1.4854\n",
       "   9 │ 00078A193E              3.6807             12.1188              1.5244  ⋯\n",
       "  10 │ 00078A19A7              3.8224             12.0631              1.3515\n",
       "\u001b[36m                                                               6 columns omitted\u001b[0m"
      ]
     },
     "execution_count": 5,
     "metadata": {},
     "output_type": "execute_result"
    }
   ],
   "source": [
    "omics_pheno_df[1:10, 1:10]"
   ]
  },
  {
   "cell_type": "markdown",
   "id": "f70740af-d074-4527-8eda-665a30401cbb",
   "metadata": {},
   "source": [
    "Column names are the names of the omics:"
   ]
  },
  {
   "cell_type": "code",
   "execution_count": 8,
   "id": "b8ed9d27-f20e-4d42-88ff-4bdcb276d790",
   "metadata": {},
   "outputs": [
    {
     "data": {
      "text/plain": [
       "(80, 32624)"
      ]
     },
     "execution_count": 8,
     "metadata": {},
     "output_type": "execute_result"
    }
   ],
   "source": [
    "size(omics_pheno_df)"
   ]
  },
  {
   "cell_type": "code",
   "execution_count": 14,
   "id": "29afb046-9efc-4694-9d50-cb1f42f6a248",
   "metadata": {},
   "outputs": [
    {
     "data": {
      "text/plain": [
       "6-element Vector{String}:\n",
       " \"id\"\n",
       " \"ENSRNOG00000000001\"\n",
       " \"ENSRNOG00000000007\"\n",
       " \"ENSRNOG00000000008\"\n",
       " \"ENSRNOG00000000009\"\n",
       " \"ENSRNOG00000000010\""
      ]
     },
     "execution_count": 14,
     "metadata": {},
     "output_type": "execute_result"
    }
   ],
   "source": [
    "names(omics_pheno_df)[1:6]"
   ]
  },
  {
   "cell_type": "markdown",
   "id": "d9a1dc2f-0ef2-41ad-874f-279c471628c6",
   "metadata": {},
   "source": [
    "Row names are the ID's of the samples. Obtaining sample id's for the samples of the omics traits..."
   ]
  },
  {
   "cell_type": "code",
   "execution_count": 11,
   "id": "772c3342-bcb6-41f1-bba9-a4e875337c7e",
   "metadata": {},
   "outputs": [],
   "source": [
    "sample_ids = omics_pheno_df[:, 1];"
   ]
  },
  {
   "cell_type": "markdown",
   "id": "2a1481c0-0f30-4480-a805-b39f1ab50334",
   "metadata": {},
   "source": [
    "Get the numeric array of the traits data..."
   ]
  },
  {
   "cell_type": "code",
   "execution_count": 17,
   "id": "f75d459b-4103-46e2-b4c8-6d4d6210e672",
   "metadata": {},
   "outputs": [
    {
     "data": {
      "text/plain": [
       "80×32623 Matrix{Float64}:\n",
       " 3.6379  11.9384  1.5656   0.142   …  0.0  0.0  0.0  0.0  0.0  0.0  0.0\n",
       " 3.7742  11.9253  1.5245  -0.068      0.0  0.0  0.0  0.0  0.0  0.0  0.0\n",
       " 3.554   12.2001  1.3987  -0.0679     0.0  0.0  0.0  0.0  0.0  0.0  0.0\n",
       " 3.3301  11.9553  1.6367  -0.0218     0.0  0.0  0.0  0.0  0.0  0.0  0.0\n",
       " 3.5547  12.0272  1.5649  -0.0217     0.0  0.0  0.0  0.0  0.0  0.0  0.0\n",
       " 3.8215  12.0395  1.3515  -0.0679  …  0.0  0.0  0.0  0.0  0.0  0.0  0.0\n",
       " 3.6407  12.0575  1.4871  -0.0678     0.0  0.0  0.0  0.0  0.0  0.0  0.0\n",
       " 3.6343  12.0777  1.4854  -0.0679     0.0  0.0  0.0  0.0  0.0  0.0  0.0\n",
       " 3.6807  12.1188  1.5244  -0.068      0.0  0.0  0.0  0.0  0.0  0.0  0.0\n",
       " 3.8224  12.0631  1.3515  -0.0679     0.0  0.0  0.0  0.0  0.0  0.0  0.0\n",
       " 3.6883  12.1836  1.8251  -0.0679  …  0.0  0.0  0.0  0.0  0.0  0.0  0.0\n",
       " 3.4971  12.1465  1.3516  -0.0679     0.0  0.0  0.0  0.0  0.0  0.0  0.0\n",
       " 3.6853  11.9484  1.4855  -0.0218     0.0  0.0  0.0  0.0  0.0  0.0  0.0\n",
       " ⋮                                 ⋱                      ⋮         \n",
       " 3.3328  12.2769  1.4867  -0.0678     0.0  0.0  0.0  0.0  0.0  0.0  0.0\n",
       " 3.688   12.3448  1.3989  -0.0216     0.0  0.0  0.0  0.0  0.0  0.0  0.0\n",
       " 3.3988  12.1492  1.3515  -0.0679  …  0.0  0.0  0.0  0.0  0.0  0.0  0.0\n",
       " 3.7564  12.148   1.6366   0.0219     0.0  0.0  0.0  0.0  0.0  0.0  0.0\n",
       " 3.5502  12.2025  1.5246   0.0212     0.0  0.0  0.0  0.0  0.0  0.0  0.0\n",
       " 3.5294  12.3803  1.7064  -0.0678     0.0  0.0  0.0  0.0  0.0  0.0  0.0\n",
       " 3.9482  12.0883  1.4442  -0.0213     0.0  0.0  0.0  0.0  0.0  0.0  0.0\n",
       " 3.6431  12.3651  1.3996  -0.0678  …  0.0  0.0  0.0  0.0  0.0  0.0  0.0\n",
       " 3.6125  12.2653  1.3517   0.0226     0.0  0.0  0.0  0.0  0.0  0.0  0.0\n",
       " 3.4008  12.3984  1.4859  -0.0217     0.0  0.0  0.0  0.0  0.0  0.0  0.0\n",
       " 3.7062  12.2712  1.763   -0.0679     0.0  0.0  0.0  0.0  0.0  0.0  0.0\n",
       " 3.7628  12.3947  1.5667  -0.0678     0.0  0.0  0.0  0.0  0.0  0.0  0.0"
      ]
     },
     "execution_count": 17,
     "metadata": {},
     "output_type": "execute_result"
    }
   ],
   "source": [
    "omics_pheno = omics_pheno_df[:, 2:end] |> Matrix{Float64}"
   ]
  },
  {
   "cell_type": "markdown",
   "id": "03845908-2d2c-46bd-9a43-096d82e8fb8b",
   "metadata": {},
   "source": [
    "Notice that there are some traits with all 0.0 values. Remove missings or columns of all 0's..."
   ]
  },
  {
   "cell_type": "code",
   "execution_count": 21,
   "id": "a422e625-3b71-49a7-9180-1bbd7cdd3e82",
   "metadata": {},
   "outputs": [],
   "source": [
    "no_value_traits = vec(sum(omics_pheno, dims = 1) .== 0.0);"
   ]
  },
  {
   "cell_type": "code",
   "execution_count": 22,
   "id": "8b2daf5c-76c7-4ad9-ba6a-61a6e3732492",
   "metadata": {},
   "outputs": [],
   "source": [
    "omics_pheno_processed = omics_pheno[:, map(x -> x .== 0.0, no_value_traits)];"
   ]
  },
  {
   "cell_type": "markdown",
   "id": "969a0e73-5d18-4f18-9884-217070b25812",
   "metadata": {
    "tags": []
   },
   "source": [
    "#### Load in and pre-processing HS genotype file:"
   ]
  },
  {
   "cell_type": "markdown",
   "id": "18aa1946-aab7-4aca-aa7d-9c8609c20a18",
   "metadata": {},
   "source": [
    "First, we see which line the original geno file actually starts...(line 9)"
   ]
  },
  {
   "cell_type": "code",
   "execution_count": 25,
   "id": "3fa9f77d-91ff-426b-a311-d8693491873b",
   "metadata": {},
   "outputs": [],
   "source": [
    "count = 0;\n",
    "test_line = readline(\"/home/zyu20/shareddata/HSNIH-Palmer/HSNIH-Palmer_true.geno\")\n",
    "\n",
    "for line in eachline(\"/home/zyu20/shareddata/HSNIH-Palmer/HSNIH-Palmer_true.geno\")\n",
    "    \n",
    "    count = count + 1;\n",
    "    # println(line)\n",
    "    \n",
    "    test_line = line\n",
    "    \n",
    "    if count == 9 # data starts from the line 9\n",
    "        break\n",
    "    end\n",
    "    \n",
    "end"
   ]
  },
  {
   "cell_type": "markdown",
   "id": "62f9395a-c369-46f7-9574-812690bed185",
   "metadata": {},
   "source": [
    "Line 9 is the first line we need, and it is the line of column names:"
   ]
  },
  {
   "cell_type": "code",
   "execution_count": 27,
   "id": "a26eddf3-f8aa-4ac5-bfb6-05f21b578235",
   "metadata": {},
   "outputs": [
    {
     "data": {
      "text/plain": [
       "6151-element Vector{SubString{String}}:\n",
       " \"Chr\"\n",
       " \"Locus\"\n",
       " \"cM\"\n",
       " \"Mb\"\n",
       " \"0007A0008B\"\n",
       " \"0007A00024\"\n",
       " \"0007A000DB\"\n",
       " \"0007A001C5\"\n",
       " \"0007A0059F\"\n",
       " \"0007A00263\"\n",
       " \"0007A00670\"\n",
       " \"0007A00716\"\n",
       " \"0007A01A7C\"\n",
       " ⋮\n",
       " \"0007929889\"\n",
       " \"0007929894\"\n",
       " \"0007929913\"\n",
       " \"0007929918\"\n",
       " \"0007929924\"\n",
       " \"0007929944\"\n",
       " \"0007929945\"\n",
       " \"0007929959\"\n",
       " \"0007929963\"\n",
       " \"0007929965\"\n",
       " \"0007929994\"\n",
       " \"0007929999\""
      ]
     },
     "execution_count": 27,
     "metadata": {},
     "output_type": "execute_result"
    }
   ],
   "source": [
    "geno_colnames = split(test_line, '\\t')"
   ]
  },
  {
   "cell_type": "markdown",
   "id": "4321868b-172c-4472-a816-46069a933385",
   "metadata": {},
   "source": [
    "We see from the column names that each row contains information about the **Chr, Locus name, cM, Mb length, and the sample IDs** for each marker."
   ]
  },
  {
   "cell_type": "markdown",
   "id": "34d19f9e-d972-40a8-a6d1-d2948fa17c2b",
   "metadata": {},
   "source": [
    "We would not want to load the entire genofile data set (for all samples), since not all samples with genotype information collected also have their omics traits information collected...**we therefore extract the geno information for only samples appear in our traits data**."
   ]
  },
  {
   "cell_type": "code",
   "execution_count": 29,
   "id": "a19c8070-4d16-42d2-8bfd-8ad4fc7bf69a",
   "metadata": {},
   "outputs": [
    {
     "name": "stdout",
     "output_type": "stream",
     "text": [
      "  0.099610 seconds (553.44 k allocations: 33.283 MiB, 15.01% gc time, 51.30% compilation time)\n"
     ]
    }
   ],
   "source": [
    "@time cols_to_extract_from_fullgeno = map(x -> x in sample_ids, geno_colnames);\n",
    "cols_to_extract_from_fullgeno[1:4] .= 1; # also want to store information about the markers (the first 4 cols: Chr, Locus, cM, Mb)"
   ]
  },
  {
   "cell_type": "code",
   "execution_count": 16,
   "id": "a401bafa-d21a-4de7-b316-f3a639622bc4",
   "metadata": {},
   "outputs": [
    {
     "data": {
      "text/plain": [
       "84"
      ]
     },
     "execution_count": 16,
     "metadata": {},
     "output_type": "execute_result"
    }
   ],
   "source": [
    "sum(cols_to_extract_from_fullgeno)"
   ]
  },
  {
   "cell_type": "code",
   "execution_count": 30,
   "id": "cc5b4017-fd13-4993-8096-6a67a0572276",
   "metadata": {},
   "outputs": [],
   "source": [
    "cols_ids_in_geno = findall(cols_to_extract_from_fullgeno .== 1);"
   ]
  },
  {
   "cell_type": "markdown",
   "id": "e84f5580-8494-4193-b003-898651c998c9",
   "metadata": {},
   "source": [
    "The following cell does the process to seletively read-in and write to file the columns corresponding to samples we want..."
   ]
  },
  {
   "cell_type": "code",
   "execution_count": 35,
   "id": "ff3407f6-e9e4-4653-b8ac-5d8a86c8fc59",
   "metadata": {},
   "outputs": [],
   "source": [
    "#=\n",
    "@time begin\n",
    "    myfile = open(\"my_genofile.txt\", \"w\")\n",
    "    row_count = 0\n",
    "    for line in eachline(\"/home/zyu20/shareddata/HSNIH-Palmer/HSNIH-Palmer_true.geno\")\n",
    "\n",
    "        row_count = row_count + 1;\n",
    "\n",
    "        if row_count >= 9\n",
    "            col_count = 0;\n",
    "            words_in_curr_line = split(line, '\\t');\n",
    "            for word in words_in_curr_line\n",
    "                col_count = col_count + 1;\n",
    "                if col_count in cols_ids_in_geno\n",
    "                    to_write = word * \"\\t\";\n",
    "                    write(myfile, to_write);\n",
    "                end\n",
    "            end\n",
    "            write(myfile, \"\\n\")\n",
    "        end\n",
    "    end\n",
    "\n",
    "    close(myfile)\n",
    "end\n",
    "=#"
   ]
  },
  {
   "cell_type": "markdown",
   "id": "08b8b1fa-7a6d-477e-8e69-db61d3ed288e",
   "metadata": {},
   "source": [
    "The original genotype file has around 3Gb. Selectively reading in and writing to file only 80 samples, instead of the whole genotype file with many samples reduces the runtime significantly."
   ]
  },
  {
   "cell_type": "code",
   "execution_count": 104,
   "id": "1e033244-401e-4dd6-8ea5-67db6689c98a",
   "metadata": {},
   "outputs": [
    {
     "name": "stdout",
     "output_type": "stream",
     "text": [
      " 17.776847 seconds (209.66 M allocations: 5.530 GiB, 25.90% gc time, 0.21% compilation time)\n"
     ]
    },
    {
     "data": {
      "text/plain": [
       "134919×84 Matrix{Any}:\n",
       "   \"Chr\"  \"Locus\"             \"cM\"     …   \"000789FFF8\"   \"000789FFF9\"\n",
       "  1       \"chr1:55365\"       0.055365     2              2\n",
       "  1       \"chr1:666374\"      0.666374     2              2\n",
       "  1       \"chr1:666382\"      0.666382     2              2\n",
       "  1       \"chr1:666394\"      0.666394     2              2\n",
       "  1       \"chr1:669529\"      0.669529  …  2              1\n",
       "  1       \"chr1:669562\"      0.669562     1              2\n",
       "  1       \"chr1:671466\"      0.671466     1              2\n",
       "  1       \"chr1:759319\"      0.759319     1.979          0.007\n",
       "  1       \"chr1:1134030\"     1.13403      1.993          1.998\n",
       "  1       \"chr1:1139210\"     1.13921   …  1.993          1.997\n",
       "  1       \"chr1:1143318\"     1.14332      0.01           0.003\n",
       "  1       \"chr1:1151014\"     1.15101      1.997          1.998\n",
       "  ⋮                                    ⋱                 \n",
       " 20       \"chr20:55641278\"  55.6413       1.917          1.917\n",
       " 20       \"chr20:55644746\"  55.6447       1.99           1.99\n",
       " 20       \"chr20:55659520\"  55.6595       1.913          1.913\n",
       " 20       \"chr20:55716379\"  55.7164    …  0.004          0.004\n",
       " 20       \"chr20:55744179\"  55.7442       2              2\n",
       " 20       \"chr20:55773139\"  55.7731       1.913          1.913\n",
       " 20       \"chr20:55818290\"  55.8183       1.89703        1.89703\n",
       " 20       \"chr20:55944342\"  55.9443       2              2\n",
       " 20       \"chr20:55963803\"  55.9638    …  2              2\n",
       " 20       \"chr20:55991426\"  55.9914       1.998          1.998\n",
       " 20       \"chr20:55999627\"  55.9996       0.013          0.013\n",
       " 20       \"chr20:56115597\"  56.1156       2              2"
      ]
     },
     "execution_count": 104,
     "metadata": {},
     "output_type": "execute_result"
    }
   ],
   "source": [
    "@time omics_geno_full = readdlm(\"my_genofile.txt\", '\\t')[:, 1:(end-1)]"
   ]
  },
  {
   "cell_type": "markdown",
   "id": "1faacf44-810b-45bf-94ca-7cfffa79b55c",
   "metadata": {},
   "source": [
    "Get only the nunmeric array of genotype file..."
   ]
  },
  {
   "cell_type": "code",
   "execution_count": null,
   "id": "e58e8dbd-67ff-43d2-99ac-8f9ad555bae4",
   "metadata": {},
   "outputs": [],
   "source": [
    "omics_geno_full"
   ]
  },
  {
   "cell_type": "code",
   "execution_count": 106,
   "id": "51b228cd-b057-49fe-8dae-58c4aa3c9284",
   "metadata": {},
   "outputs": [
    {
     "name": "stdout",
     "output_type": "stream",
     "text": [
      "  0.041490 seconds (5 allocations: 82.348 MiB)\n"
     ]
    },
    {
     "data": {
      "text/plain": [
       "134918×80 Matrix{Any}:\n",
       " 2        2        1        2        …  2        1        2        2\n",
       " 2        2        2        2           2        2        2        2\n",
       " 2        2        2        1           2        2        2        2\n",
       " 2        2        2        1           2        2        2        2\n",
       " 2        2        2        1           2        2        2        1\n",
       " 2        2        2        2        …  2        2        1        2\n",
       " 2        2        2        2           2        2        1        2\n",
       " 0.997    1.976    0.991    1.979       1.979    1.979    1.979    0.007\n",
       " 1.941    1.559    1.006    1.994       1.993    1.994    1.993    1.998\n",
       " 1.978    1.992    1.997    1.994       1.993    1.993    1.993    1.997\n",
       " 0.031    0.39     0.99298  0.008    …  0.01     0.009    0.01     0.003\n",
       " 1.997    1.997    1.998    1.997       1.997    1.997    1.997    1.998\n",
       " 1.997    1.997    1.006    1.997       1.997    1.997    1.997    1.998\n",
       " ⋮                                   ⋱                             \n",
       " 1.917    1.917    1.917    1.917       1.917    1.917    1.917    1.917\n",
       " 1.99     1.99     1.99     1.99        1.99     1.99     1.99     1.99\n",
       " 1.913    1.913    1.913    1.913       1.913    1.913    1.913    1.913\n",
       " 0.004    0.004    0.004    0.004       0.004    0.004    0.004    0.004\n",
       " 2        2        2        2        …  2        2        2        2\n",
       " 1.913    1.913    1.913    1.913       1.91205  1.913    1.913    1.913\n",
       " 1.89703  1.89703  1.89703  1.89703     1.89703  1.89703  1.89703  1.89703\n",
       " 2        2        2        2           2        2        2        2\n",
       " 2        2        2        2           2        2        2        2\n",
       " 1.998    1.998    1.998    1.998    …  1.998    1.998    1.998    1.998\n",
       " 0.013    0.013    0.013    0.013       0.013    0.013    0.013    0.013\n",
       " 2        2        2        2           2        2        2        2"
      ]
     },
     "execution_count": 106,
     "metadata": {},
     "output_type": "execute_result"
    }
   ],
   "source": [
    "@time omics_geno = omics_geno_full[2:end, 5:end]"
   ]
  },
  {
   "cell_type": "markdown",
   "id": "a11bf1ce-7bd5-4e10-9064-3fb816f64363",
   "metadata": {},
   "source": [
    "#### Remove missings in genotype file:"
   ]
  },
  {
   "cell_type": "markdown",
   "id": "44bc6fbe-9db2-4829-86b7-d107336f9058",
   "metadata": {},
   "source": [
    "There are still some missings coded as \"NA\"'s..."
   ]
  },
  {
   "cell_type": "code",
   "execution_count": 107,
   "id": "d52832fc-a60d-4a4f-b733-d86877178431",
   "metadata": {},
   "outputs": [
    {
     "data": {
      "text/plain": [
       "1494-element Vector{CartesianIndex{2}}:\n",
       " CartesianIndex(21302, 1)\n",
       " CartesianIndex(21316, 1)\n",
       " CartesianIndex(35852, 1)\n",
       " CartesianIndex(35855, 1)\n",
       " CartesianIndex(78338, 1)\n",
       " CartesianIndex(78340, 1)\n",
       " CartesianIndex(78341, 1)\n",
       " CartesianIndex(78363, 1)\n",
       " CartesianIndex(95701, 1)\n",
       " CartesianIndex(95704, 1)\n",
       " CartesianIndex(95731, 1)\n",
       " CartesianIndex(95812, 1)\n",
       " CartesianIndex(21302, 2)\n",
       " ⋮\n",
       " CartesianIndex(95776, 80)\n",
       " CartesianIndex(95777, 80)\n",
       " CartesianIndex(95779, 80)\n",
       " CartesianIndex(95781, 80)\n",
       " CartesianIndex(95782, 80)\n",
       " CartesianIndex(95784, 80)\n",
       " CartesianIndex(95787, 80)\n",
       " CartesianIndex(95812, 80)\n",
       " CartesianIndex(109662, 80)\n",
       " CartesianIndex(124557, 80)\n",
       " CartesianIndex(124558, 80)\n",
       " CartesianIndex(130075, 80)"
      ]
     },
     "execution_count": 107,
     "metadata": {},
     "output_type": "execute_result"
    }
   ],
   "source": [
    "NA_entries = findall(x -> typeof(x) == SubString{String}, omics_geno)"
   ]
  },
  {
   "cell_type": "markdown",
   "id": "27045898-6a6c-4126-9c24-69b7ac69c8c9",
   "metadata": {},
   "source": [
    "For example,"
   ]
  },
  {
   "cell_type": "code",
   "execution_count": 108,
   "id": "00f4a3e1-cee0-4134-a7d5-c7bdf5bcdcc3",
   "metadata": {},
   "outputs": [
    {
     "data": {
      "text/plain": [
       "\"NA\""
      ]
     },
     "execution_count": 108,
     "metadata": {},
     "output_type": "execute_result"
    }
   ],
   "source": [
    "omics_geno[21302, 1]"
   ]
  },
  {
   "cell_type": "code",
   "execution_count": 109,
   "id": "1b0ea643-7297-4d31-86fc-9da4e15594a6",
   "metadata": {},
   "outputs": [
    {
     "data": {
      "text/plain": [
       "\"NA\""
      ]
     },
     "execution_count": 109,
     "metadata": {},
     "output_type": "execute_result"
    }
   ],
   "source": [
    "omics_geno[130075, 80]"
   ]
  },
  {
   "cell_type": "code",
   "execution_count": 110,
   "id": "4a1e3732-c359-47f6-82cb-a461f7f293f0",
   "metadata": {},
   "outputs": [],
   "source": [
    "NA_markers = zeros(length(NA_entries));\n",
    "\n",
    "for i in 1:length(NA_entries)\n",
    "    NA_markers[i] = NA_entries[i][1];\n",
    "end\n",
    "\n",
    "NA_markers = trunc.(Int64, NA_markers);"
   ]
  },
  {
   "cell_type": "code",
   "execution_count": 111,
   "id": "be79ebba-cc2a-4080-b0f8-20adcaf65b85",
   "metadata": {},
   "outputs": [
    {
     "data": {
      "text/plain": [
       "1494-element Vector{Int64}:\n",
       "  21302\n",
       "  21316\n",
       "  35852\n",
       "  35855\n",
       "  78338\n",
       "  78340\n",
       "  78341\n",
       "  78363\n",
       "  95701\n",
       "  95704\n",
       "  95731\n",
       "  95812\n",
       "  21302\n",
       "      ⋮\n",
       "  95776\n",
       "  95777\n",
       "  95779\n",
       "  95781\n",
       "  95782\n",
       "  95784\n",
       "  95787\n",
       "  95812\n",
       " 109662\n",
       " 124557\n",
       " 124558\n",
       " 130075"
      ]
     },
     "execution_count": 111,
     "metadata": {},
     "output_type": "execute_result"
    }
   ],
   "source": [
    "NA_markers"
   ]
  },
  {
   "cell_type": "code",
   "execution_count": 112,
   "id": "cab5af9f-cde3-41ff-9b81-1f451d02830d",
   "metadata": {},
   "outputs": [],
   "source": [
    "omics_geno_full_no_colnames = omics_geno_full[2:end, :];"
   ]
  },
  {
   "cell_type": "code",
   "execution_count": 113,
   "id": "db0f77e5-a5a4-4a94-bc77-dd1439d6e467",
   "metadata": {},
   "outputs": [],
   "source": [
    "omics_geno_nomissing = omics_geno_full_no_colnames[map(x -> !(x in NA_markers), collect(1:size(omics_geno, 1))), :];"
   ]
  },
  {
   "cell_type": "code",
   "execution_count": 114,
   "id": "3b2f92a5-0d0a-4385-87e2-c6c9fcd0b66b",
   "metadata": {},
   "outputs": [
    {
     "data": {
      "text/plain": [
       "134681×84 Matrix{Any}:\n",
       "  1  \"chr1:55365\"       0.055365  …  2        1        2        2\n",
       "  1  \"chr1:666374\"      0.666374     2        2        2        2\n",
       "  1  \"chr1:666382\"      0.666382     2        2        2        2\n",
       "  1  \"chr1:666394\"      0.666394     2        2        2        2\n",
       "  1  \"chr1:669529\"      0.669529     2        2        2        1\n",
       "  1  \"chr1:669562\"      0.669562  …  2        2        1        2\n",
       "  1  \"chr1:671466\"      0.671466     2        2        1        2\n",
       "  1  \"chr1:759319\"      0.759319     1.979    1.979    1.979    0.007\n",
       "  1  \"chr1:1134030\"     1.13403      1.993    1.994    1.993    1.998\n",
       "  1  \"chr1:1139210\"     1.13921      1.993    1.993    1.993    1.997\n",
       "  1  \"chr1:1143318\"     1.14332   …  0.01     0.009    0.01     0.003\n",
       "  1  \"chr1:1151014\"     1.15101      1.997    1.997    1.997    1.998\n",
       "  1  \"chr1:1151294\"     1.15129      1.997    1.997    1.997    1.998\n",
       "  ⋮                               ⋱  ⋮                          \n",
       " 20  \"chr20:55641278\"  55.6413       1.917    1.917    1.917    1.917\n",
       " 20  \"chr20:55644746\"  55.6447    …  1.99     1.99     1.99     1.99\n",
       " 20  \"chr20:55659520\"  55.6595       1.913    1.913    1.913    1.913\n",
       " 20  \"chr20:55716379\"  55.7164       0.004    0.004    0.004    0.004\n",
       " 20  \"chr20:55744179\"  55.7442       2        2        2        2\n",
       " 20  \"chr20:55773139\"  55.7731       1.91205  1.913    1.913    1.913\n",
       " 20  \"chr20:55818290\"  55.8183    …  1.89703  1.89703  1.89703  1.89703\n",
       " 20  \"chr20:55944342\"  55.9443       2        2        2        2\n",
       " 20  \"chr20:55963803\"  55.9638       2        2        2        2\n",
       " 20  \"chr20:55991426\"  55.9914       1.998    1.998    1.998    1.998\n",
       " 20  \"chr20:55999627\"  55.9996       0.013    0.013    0.013    0.013\n",
       " 20  \"chr20:56115597\"  56.1156    …  2        2        2        2"
      ]
     },
     "execution_count": 114,
     "metadata": {},
     "output_type": "execute_result"
    }
   ],
   "source": [
    "omics_geno_nomissing"
   ]
  },
  {
   "cell_type": "code",
   "execution_count": 115,
   "id": "33085af3-e6aa-4855-96f1-60c3bde0e108",
   "metadata": {},
   "outputs": [
    {
     "data": {
      "text/plain": [
       "84-element Vector{Any}:\n",
       " \"Chr\"\n",
       " \"Locus\"\n",
       " \"cM\"\n",
       " \"Mb\"\n",
       " \"00077E67B5\"\n",
       " \"00077E76FE\"\n",
       " \"00077E8336\"\n",
       " \"00077EA7E6\"\n",
       " \"00078A002C\"\n",
       " \"00078A0041\"\n",
       " \"00078A0058\"\n",
       " \"00078A0085\"\n",
       " \"00078A00AC\"\n",
       " ⋮\n",
       " \"00078A2315\"\n",
       " \"00078A2463\"\n",
       " \"00078A2496\"\n",
       " \"00078A2595\"\n",
       " \"00078A2667\"\n",
       " \"000789FF6E\"\n",
       " \"000789FF7D\"\n",
       " \"000789FF94\"\n",
       " \"000789FFD3\"\n",
       " \"000789FFF0\"\n",
       " \"000789FFF8\"\n",
       " \"000789FFF9\""
      ]
     },
     "execution_count": 115,
     "metadata": {},
     "output_type": "execute_result"
    }
   ],
   "source": [
    "omics_geno_colnames = omics_geno_full[1, :]"
   ]
  },
  {
   "cell_type": "code",
   "execution_count": 117,
   "id": "fa6ef516-1ef9-465a-a016-9c78e2442bc4",
   "metadata": {},
   "outputs": [
    {
     "data": {
      "text/html": [
       "<div><div style = \"float: left;\"><span>134681×84 DataFrame</span></div><div style = \"float: right;\"><span style = \"font-style: italic;\">134656 rows omitted</span></div><div style = \"clear: both;\"></div></div><div class = \"data-frame\" style = \"overflow-x: scroll;\"><table class = \"data-frame\" style = \"margin-bottom: 6px;\"><thead><tr class = \"header\"><th class = \"rowNumber\" style = \"font-weight: bold; text-align: right;\">Row</th><th style = \"text-align: left;\">Chr</th><th style = \"text-align: left;\">Locus</th><th style = \"text-align: left;\">cM</th><th style = \"text-align: left;\">Mb</th><th style = \"text-align: left;\">00077E67B5</th><th style = \"text-align: left;\">00077E76FE</th><th style = \"text-align: left;\">00077E8336</th><th style = \"text-align: left;\">00077EA7E6</th><th style = \"text-align: left;\">00078A002C</th><th style = \"text-align: left;\">00078A0041</th><th style = \"text-align: left;\">00078A0058</th><th style = \"text-align: left;\">00078A0085</th><th style = \"text-align: left;\">00078A00AC</th><th style = \"text-align: left;\">00078A00BF</th><th style = \"text-align: left;\">00078A01A6</th><th style = \"text-align: left;\">00078A01C0</th><th style = \"text-align: left;\">00078A01D8</th><th style = \"text-align: left;\">00078A01DB</th><th style = \"text-align: left;\">00078A01FE</th><th style = \"text-align: left;\">00078A02CB</th><th style = \"text-align: left;\">00078A02DF</th><th style = \"text-align: left;\">00078A07A2</th><th style = \"text-align: left;\">00078A09B1</th><th style = \"text-align: left;\">00078A021A</th><th style = \"text-align: left;\">00078A022D</th><th style = \"text-align: left;\">00078A087B</th><th style = \"text-align: left;\">00078A096C</th><th style = \"text-align: left;\">00078A0127</th><th style = \"text-align: left;\">00078A0138</th><th style = \"text-align: left;\">00078A0139</th><th style = \"text-align: left;\">00078A0166</th><th style = \"text-align: left;\">00078A0215</th><th style = \"text-align: left;\">00078A0224</th><th style = \"text-align: left;\">00078A0246</th><th style = \"text-align: left;\">00078A0255</th><th style = \"text-align: left;\">00078A0A43</th><th style = \"text-align: left;\">00078A0AEA</th><th style = \"text-align: left;\">00078A1A2B</th><th style = \"text-align: left;\">00078A1A16</th><th style = \"text-align: left;\">00078A1B05</th><th style = \"text-align: left;\">00078A1F34</th><th style = \"text-align: left;\">00078A16D3</th><th style = \"text-align: left;\">00078A16DF</th><th style = \"text-align: left;\">00078A17F7</th><th style = \"text-align: left;\">00078A18A7</th><th style = \"text-align: left;\">00078A18CF</th><th style = \"text-align: left;\">00078A18F7</th><th style = \"text-align: left;\">00078A19A7</th><th style = \"text-align: left;\">00078A19B5</th><th style = \"text-align: left;\">00078A19C0</th><th style = \"text-align: left;\">00078A19D6</th><th style = \"text-align: left;\">00078A22DF</th><th style = \"text-align: left;\">00078A22EB</th><th style = \"text-align: left;\">00078A179C</th><th style = \"text-align: left;\">00078A181B</th><th style = \"text-align: left;\">00078A186C</th><th style = \"text-align: left;\">00078A192C</th><th style = \"text-align: left;\">00078A193E</th><th style = \"text-align: left;\">00078A194B</th><th style = \"text-align: left;\">00078A261F</th><th style = \"text-align: left;\">00078A1707</th><th style = \"text-align: left;\">00078A1731</th><th style = \"text-align: left;\">00078A1732</th><th style = \"text-align: left;\">00078A1772</th><th style = \"text-align: left;\">00078A1807</th><th style = \"text-align: left;\">00078A1816</th><th style = \"text-align: left;\">00078A1837</th><th style = \"text-align: left;\">00078A1863</th><th style = \"text-align: left;\">00078A1875</th><th style = \"text-align: left;\">00078A1937</th><th style = \"text-align: left;\">00078A1942</th><th style = \"text-align: left;\">00078A1979</th><th style = \"text-align: left;\">00078A2315</th><th style = \"text-align: left;\">00078A2463</th><th style = \"text-align: left;\">00078A2496</th><th style = \"text-align: left;\">00078A2595</th><th style = \"text-align: left;\">00078A2667</th><th style = \"text-align: left;\">000789FF6E</th><th style = \"text-align: left;\">000789FF7D</th><th style = \"text-align: left;\">000789FF94</th><th style = \"text-align: left;\">000789FFD3</th><th style = \"text-align: left;\">000789FFF0</th><th style = \"text-align: left;\">000789FFF8</th><th style = \"text-align: left;\">000789FFF9</th></tr><tr class = \"subheader headerLastRow\"><th class = \"rowNumber\" style = \"font-weight: bold; text-align: right;\"></th><th title = \"Any\" style = \"text-align: left;\">Any</th><th title = \"Any\" style = \"text-align: left;\">Any</th><th title = \"Any\" style = \"text-align: left;\">Any</th><th title = \"Any\" style = \"text-align: left;\">Any</th><th title = \"Any\" style = \"text-align: left;\">Any</th><th title = \"Any\" style = \"text-align: left;\">Any</th><th title = \"Any\" style = \"text-align: left;\">Any</th><th title = \"Any\" style = \"text-align: left;\">Any</th><th title = \"Any\" style = \"text-align: left;\">Any</th><th title = \"Any\" style = \"text-align: left;\">Any</th><th title = \"Any\" style = \"text-align: left;\">Any</th><th title = \"Any\" style = \"text-align: left;\">Any</th><th title = \"Any\" style = \"text-align: left;\">Any</th><th title = \"Any\" style = \"text-align: left;\">Any</th><th title = \"Any\" style = \"text-align: left;\">Any</th><th title = \"Any\" style = \"text-align: left;\">Any</th><th title = \"Any\" style = \"text-align: left;\">Any</th><th title = \"Any\" style = \"text-align: left;\">Any</th><th title = \"Any\" style = \"text-align: left;\">Any</th><th title = \"Any\" style = \"text-align: left;\">Any</th><th title = \"Any\" style = \"text-align: left;\">Any</th><th title = \"Any\" style = \"text-align: left;\">Any</th><th title = \"Any\" style = \"text-align: left;\">Any</th><th title = \"Any\" style = \"text-align: left;\">Any</th><th title = \"Any\" style = \"text-align: left;\">Any</th><th title = \"Any\" style = \"text-align: left;\">Any</th><th title = \"Any\" style = \"text-align: left;\">Any</th><th title = \"Any\" style = \"text-align: left;\">Any</th><th title = \"Any\" style = \"text-align: left;\">Any</th><th title = \"Any\" style = \"text-align: left;\">Any</th><th title = \"Any\" style = \"text-align: left;\">Any</th><th title = \"Any\" style = \"text-align: left;\">Any</th><th title = \"Any\" style = \"text-align: left;\">Any</th><th title = \"Any\" style = \"text-align: left;\">Any</th><th title = \"Any\" style = \"text-align: left;\">Any</th><th title = \"Any\" style = \"text-align: left;\">Any</th><th title = \"Any\" style = \"text-align: left;\">Any</th><th title = \"Any\" style = \"text-align: left;\">Any</th><th title = \"Any\" style = \"text-align: left;\">Any</th><th title = \"Any\" style = \"text-align: left;\">Any</th><th title = \"Any\" style = \"text-align: left;\">Any</th><th title = \"Any\" style = \"text-align: left;\">Any</th><th title = \"Any\" style = \"text-align: left;\">Any</th><th title = \"Any\" style = \"text-align: left;\">Any</th><th title = \"Any\" style = \"text-align: left;\">Any</th><th title = \"Any\" style = \"text-align: left;\">Any</th><th title = \"Any\" style = \"text-align: left;\">Any</th><th title = \"Any\" style = \"text-align: left;\">Any</th><th title = \"Any\" style = \"text-align: left;\">Any</th><th title = \"Any\" style = \"text-align: left;\">Any</th><th title = \"Any\" style = \"text-align: left;\">Any</th><th title = \"Any\" style = \"text-align: left;\">Any</th><th title = \"Any\" style = \"text-align: left;\">Any</th><th title = \"Any\" style = \"text-align: left;\">Any</th><th title = \"Any\" style = \"text-align: left;\">Any</th><th title = \"Any\" style = \"text-align: left;\">Any</th><th title = \"Any\" style = \"text-align: left;\">Any</th><th title = \"Any\" style = \"text-align: left;\">Any</th><th title = \"Any\" style = \"text-align: left;\">Any</th><th title = \"Any\" style = \"text-align: left;\">Any</th><th title = \"Any\" style = \"text-align: left;\">Any</th><th title = \"Any\" style = \"text-align: left;\">Any</th><th title = \"Any\" style = \"text-align: left;\">Any</th><th title = \"Any\" style = \"text-align: left;\">Any</th><th title = \"Any\" style = \"text-align: left;\">Any</th><th title = \"Any\" style = \"text-align: left;\">Any</th><th title = \"Any\" style = \"text-align: left;\">Any</th><th title = \"Any\" style = \"text-align: left;\">Any</th><th title = \"Any\" style = \"text-align: left;\">Any</th><th title = \"Any\" style = \"text-align: left;\">Any</th><th title = \"Any\" style = \"text-align: left;\">Any</th><th title = \"Any\" style = \"text-align: left;\">Any</th><th title = \"Any\" style = \"text-align: left;\">Any</th><th title = \"Any\" style = \"text-align: left;\">Any</th><th title = \"Any\" style = \"text-align: left;\">Any</th><th title = \"Any\" style = \"text-align: left;\">Any</th><th title = \"Any\" style = \"text-align: left;\">Any</th><th title = \"Any\" style = \"text-align: left;\">Any</th><th title = \"Any\" style = \"text-align: left;\">Any</th><th title = \"Any\" style = \"text-align: left;\">Any</th><th title = \"Any\" style = \"text-align: left;\">Any</th><th title = \"Any\" style = \"text-align: left;\">Any</th><th title = \"Any\" style = \"text-align: left;\">Any</th><th title = \"Any\" style = \"text-align: left;\">Any</th></tr></thead><tbody><tr><td class = \"rowNumber\" style = \"font-weight: bold; text-align: right;\">1</td><td style = \"text-align: left;\">1</td><td style = \"text-align: left;\">chr1:55365</td><td style = \"text-align: left;\">0.055365</td><td style = \"text-align: left;\">0.055365</td><td style = \"text-align: left;\">2</td><td style = \"text-align: left;\">2</td><td style = \"text-align: left;\">1</td><td style = \"text-align: left;\">2</td><td style = \"text-align: left;\">2</td><td style = \"text-align: left;\">2</td><td style = \"text-align: left;\">1</td><td style = \"text-align: left;\">2</td><td style = \"text-align: left;\">2</td><td style = \"text-align: left;\">2</td><td style = \"text-align: left;\">2</td><td style = \"text-align: left;\">2</td><td style = \"text-align: left;\">2</td><td style = \"text-align: left;\">2</td><td style = \"text-align: left;\">2</td><td style = \"text-align: left;\">2</td><td style = \"text-align: left;\">2</td><td style = \"text-align: left;\">2</td><td style = \"text-align: left;\">2</td><td style = \"text-align: left;\">2</td><td style = \"text-align: left;\">2</td><td style = \"text-align: left;\">2</td><td style = \"text-align: left;\">2</td><td style = \"text-align: left;\">2</td><td style = \"text-align: left;\">2</td><td style = \"text-align: left;\">2</td><td style = \"text-align: left;\">2</td><td style = \"text-align: left;\">2</td><td style = \"text-align: left;\">2</td><td style = \"text-align: left;\">2</td><td style = \"text-align: left;\">2</td><td style = \"text-align: left;\">1</td><td style = \"text-align: left;\">2</td><td style = \"text-align: left;\">2</td><td style = \"text-align: left;\">2</td><td style = \"text-align: left;\">1</td><td style = \"text-align: left;\">2</td><td style = \"text-align: left;\">2</td><td style = \"text-align: left;\">2</td><td style = \"text-align: left;\">1</td><td style = \"text-align: left;\">2</td><td style = \"text-align: left;\">2</td><td style = \"text-align: left;\">2</td><td style = \"text-align: left;\">2</td><td style = \"text-align: left;\">1</td><td style = \"text-align: left;\">2</td><td style = \"text-align: left;\">2</td><td style = \"text-align: left;\">2</td><td style = \"text-align: left;\">2</td><td style = \"text-align: left;\">2</td><td style = \"text-align: left;\">2</td><td style = \"text-align: left;\">2</td><td style = \"text-align: left;\">2</td><td style = \"text-align: left;\">2</td><td style = \"text-align: left;\">2</td><td style = \"text-align: left;\">2</td><td style = \"text-align: left;\">2</td><td style = \"text-align: left;\">2</td><td style = \"text-align: left;\">2</td><td style = \"text-align: left;\">2</td><td style = \"text-align: left;\">1</td><td style = \"text-align: left;\">2</td><td style = \"text-align: left;\">1</td><td style = \"text-align: left;\">2</td><td style = \"text-align: left;\">2</td><td style = \"text-align: left;\">2</td><td style = \"text-align: left;\">2</td><td style = \"text-align: left;\">2</td><td style = \"text-align: left;\">2</td><td style = \"text-align: left;\">2</td><td style = \"text-align: left;\">2</td><td style = \"text-align: left;\">2</td><td style = \"text-align: left;\">2</td><td style = \"text-align: left;\">2</td><td style = \"text-align: left;\">2</td><td style = \"text-align: left;\">2</td><td style = \"text-align: left;\">2</td><td style = \"text-align: left;\">1</td><td style = \"text-align: left;\">2</td><td style = \"text-align: left;\">2</td></tr><tr><td class = \"rowNumber\" style = \"font-weight: bold; text-align: right;\">2</td><td style = \"text-align: left;\">1</td><td style = \"text-align: left;\">chr1:666374</td><td style = \"text-align: left;\">0.666374</td><td style = \"text-align: left;\">0.666374</td><td style = \"text-align: left;\">2</td><td style = \"text-align: left;\">2</td><td style = \"text-align: left;\">2</td><td style = \"text-align: left;\">2</td><td style = \"text-align: left;\">2</td><td style = \"text-align: left;\">2</td><td style = \"text-align: left;\">1</td><td style = \"text-align: left;\">2</td><td style = \"text-align: left;\">2</td><td style = \"text-align: left;\">2</td><td style = \"text-align: left;\">2</td><td style = \"text-align: left;\">2</td><td style = \"text-align: left;\">2</td><td style = \"text-align: left;\">2</td><td style = \"text-align: left;\">2</td><td style = \"text-align: left;\">2</td><td style = \"text-align: left;\">2</td><td style = \"text-align: left;\">2</td><td style = \"text-align: left;\">2</td><td style = \"text-align: left;\">2</td><td style = \"text-align: left;\">2</td><td style = \"text-align: left;\">2</td><td style = \"text-align: left;\">2</td><td style = \"text-align: left;\">2</td><td style = \"text-align: left;\">2</td><td style = \"text-align: left;\">1</td><td style = \"text-align: left;\">2</td><td style = \"text-align: left;\">2</td><td style = \"text-align: left;\">2</td><td style = \"text-align: left;\">2</td><td style = \"text-align: left;\">2</td><td style = \"text-align: left;\">1</td><td style = \"text-align: left;\">2</td><td style = \"text-align: left;\">2</td><td style = \"text-align: left;\">2</td><td style = \"text-align: left;\">2</td><td style = \"text-align: left;\">2</td><td style = \"text-align: left;\">2</td><td style = \"text-align: left;\">2</td><td style = \"text-align: left;\">2</td><td style = \"text-align: left;\">2</td><td style = \"text-align: left;\">2</td><td style = \"text-align: left;\">1</td><td style = \"text-align: left;\">2</td><td style = \"text-align: left;\">2</td><td style = \"text-align: left;\">2</td><td style = \"text-align: left;\">2</td><td style = \"text-align: left;\">2</td><td style = \"text-align: left;\">2</td><td style = \"text-align: left;\">2</td><td style = \"text-align: left;\">2</td><td style = \"text-align: left;\">2</td><td style = \"text-align: left;\">2</td><td style = \"text-align: left;\">2</td><td style = \"text-align: left;\">2</td><td style = \"text-align: left;\">1</td><td style = \"text-align: left;\">2</td><td style = \"text-align: left;\">2</td><td style = \"text-align: left;\">2</td><td style = \"text-align: left;\">2</td><td style = \"text-align: left;\">2</td><td style = \"text-align: left;\">2</td><td style = \"text-align: left;\">2</td><td style = \"text-align: left;\">2</td><td style = \"text-align: left;\">2</td><td style = \"text-align: left;\">2</td><td style = \"text-align: left;\">2</td><td style = \"text-align: left;\">2</td><td style = \"text-align: left;\">2</td><td style = \"text-align: left;\">2</td><td style = \"text-align: left;\">2</td><td style = \"text-align: left;\">2</td><td style = \"text-align: left;\">2</td><td style = \"text-align: left;\">2</td><td style = \"text-align: left;\">2</td><td style = \"text-align: left;\">2</td><td style = \"text-align: left;\">2</td><td style = \"text-align: left;\">2</td><td style = \"text-align: left;\">2</td><td style = \"text-align: left;\">2</td></tr><tr><td class = \"rowNumber\" style = \"font-weight: bold; text-align: right;\">3</td><td style = \"text-align: left;\">1</td><td style = \"text-align: left;\">chr1:666382</td><td style = \"text-align: left;\">0.666382</td><td style = \"text-align: left;\">0.666382</td><td style = \"text-align: left;\">2</td><td style = \"text-align: left;\">2</td><td style = \"text-align: left;\">2</td><td style = \"text-align: left;\">1</td><td style = \"text-align: left;\">2</td><td style = \"text-align: left;\">2</td><td style = \"text-align: left;\">2</td><td style = \"text-align: left;\">2</td><td style = \"text-align: left;\">2</td><td style = \"text-align: left;\">2</td><td style = \"text-align: left;\">2</td><td style = \"text-align: left;\">2</td><td style = \"text-align: left;\">2</td><td style = \"text-align: left;\">2</td><td style = \"text-align: left;\">2</td><td style = \"text-align: left;\">2</td><td style = \"text-align: left;\">2</td><td style = \"text-align: left;\">2</td><td style = \"text-align: left;\">2</td><td style = \"text-align: left;\">2</td><td style = \"text-align: left;\">2</td><td style = \"text-align: left;\">2</td><td style = \"text-align: left;\">2</td><td style = \"text-align: left;\">2</td><td style = \"text-align: left;\">2</td><td style = \"text-align: left;\">2</td><td style = \"text-align: left;\">2</td><td style = \"text-align: left;\">2</td><td style = \"text-align: left;\">2</td><td style = \"text-align: left;\">2</td><td style = \"text-align: left;\">2</td><td style = \"text-align: left;\">1</td><td style = \"text-align: left;\">2</td><td style = \"text-align: left;\">2</td><td style = \"text-align: left;\">2</td><td style = \"text-align: left;\">2</td><td style = \"text-align: left;\">2</td><td style = \"text-align: left;\">2</td><td style = \"text-align: left;\">2</td><td style = \"text-align: left;\">2</td><td style = \"text-align: left;\">2</td><td style = \"text-align: left;\">2</td><td style = \"text-align: left;\">2</td><td style = \"text-align: left;\">2</td><td style = \"text-align: left;\">2</td><td style = \"text-align: left;\">2</td><td style = \"text-align: left;\">2</td><td style = \"text-align: left;\">2</td><td style = \"text-align: left;\">2</td><td style = \"text-align: left;\">2</td><td style = \"text-align: left;\">2</td><td style = \"text-align: left;\">2</td><td style = \"text-align: left;\">2</td><td style = \"text-align: left;\">2</td><td style = \"text-align: left;\">2</td><td style = \"text-align: left;\">2</td><td style = \"text-align: left;\">2</td><td style = \"text-align: left;\">2</td><td style = \"text-align: left;\">2</td><td style = \"text-align: left;\">2</td><td style = \"text-align: left;\">2</td><td style = \"text-align: left;\">2</td><td style = \"text-align: left;\">2</td><td style = \"text-align: left;\">2</td><td style = \"text-align: left;\">2</td><td style = \"text-align: left;\">2</td><td style = \"text-align: left;\">2</td><td style = \"text-align: left;\">2</td><td style = \"text-align: left;\">2</td><td style = \"text-align: left;\">2</td><td style = \"text-align: left;\">2</td><td style = \"text-align: left;\">2</td><td style = \"text-align: left;\">2</td><td style = \"text-align: left;\">2</td><td style = \"text-align: left;\">2</td><td style = \"text-align: left;\">2</td><td style = \"text-align: left;\">2</td><td style = \"text-align: left;\">2</td><td style = \"text-align: left;\">2</td><td style = \"text-align: left;\">2</td></tr><tr><td class = \"rowNumber\" style = \"font-weight: bold; text-align: right;\">4</td><td style = \"text-align: left;\">1</td><td style = \"text-align: left;\">chr1:666394</td><td style = \"text-align: left;\">0.666394</td><td style = \"text-align: left;\">0.666394</td><td style = \"text-align: left;\">2</td><td style = \"text-align: left;\">2</td><td style = \"text-align: left;\">2</td><td style = \"text-align: left;\">1</td><td style = \"text-align: left;\">2</td><td style = \"text-align: left;\">2</td><td style = \"text-align: left;\">2</td><td style = \"text-align: left;\">2</td><td style = \"text-align: left;\">2</td><td style = \"text-align: left;\">2</td><td style = \"text-align: left;\">2</td><td style = \"text-align: left;\">2</td><td style = \"text-align: left;\">2</td><td style = \"text-align: left;\">2</td><td style = \"text-align: left;\">2</td><td style = \"text-align: left;\">2</td><td style = \"text-align: left;\">2</td><td style = \"text-align: left;\">2</td><td style = \"text-align: left;\">2</td><td style = \"text-align: left;\">2</td><td style = \"text-align: left;\">2</td><td style = \"text-align: left;\">2</td><td style = \"text-align: left;\">2</td><td style = \"text-align: left;\">2</td><td style = \"text-align: left;\">1</td><td style = \"text-align: left;\">1</td><td style = \"text-align: left;\">2</td><td style = \"text-align: left;\">2</td><td style = \"text-align: left;\">2</td><td style = \"text-align: left;\">2</td><td style = \"text-align: left;\">2</td><td style = \"text-align: left;\">1</td><td style = \"text-align: left;\">2</td><td style = \"text-align: left;\">1</td><td style = \"text-align: left;\">2</td><td style = \"text-align: left;\">2</td><td style = \"text-align: left;\">2</td><td style = \"text-align: left;\">2</td><td style = \"text-align: left;\">2</td><td style = \"text-align: left;\">2</td><td style = \"text-align: left;\">2</td><td style = \"text-align: left;\">2</td><td style = \"text-align: left;\">1</td><td style = \"text-align: left;\">2</td><td style = \"text-align: left;\">2</td><td style = \"text-align: left;\">2</td><td style = \"text-align: left;\">2</td><td style = \"text-align: left;\">2</td><td style = \"text-align: left;\">2</td><td style = \"text-align: left;\">2</td><td style = \"text-align: left;\">2</td><td style = \"text-align: left;\">2</td><td style = \"text-align: left;\">2</td><td style = \"text-align: left;\">2</td><td style = \"text-align: left;\">2</td><td style = \"text-align: left;\">2</td><td style = \"text-align: left;\">2</td><td style = \"text-align: left;\">2</td><td style = \"text-align: left;\">2</td><td style = \"text-align: left;\">2</td><td style = \"text-align: left;\">2</td><td style = \"text-align: left;\">2</td><td style = \"text-align: left;\">2</td><td style = \"text-align: left;\">2</td><td style = \"text-align: left;\">2</td><td style = \"text-align: left;\">2</td><td style = \"text-align: left;\">2</td><td style = \"text-align: left;\">2</td><td style = \"text-align: left;\">2</td><td style = \"text-align: left;\">2</td><td style = \"text-align: left;\">2</td><td style = \"text-align: left;\">2</td><td style = \"text-align: left;\">2</td><td style = \"text-align: left;\">2</td><td style = \"text-align: left;\">2</td><td style = \"text-align: left;\">2</td><td style = \"text-align: left;\">2</td><td style = \"text-align: left;\">2</td><td style = \"text-align: left;\">2</td><td style = \"text-align: left;\">2</td></tr><tr><td class = \"rowNumber\" style = \"font-weight: bold; text-align: right;\">5</td><td style = \"text-align: left;\">1</td><td style = \"text-align: left;\">chr1:669529</td><td style = \"text-align: left;\">0.669529</td><td style = \"text-align: left;\">0.669529</td><td style = \"text-align: left;\">2</td><td style = \"text-align: left;\">2</td><td style = \"text-align: left;\">2</td><td style = \"text-align: left;\">1</td><td style = \"text-align: left;\">2</td><td style = \"text-align: left;\">2</td><td style = \"text-align: left;\">2</td><td style = \"text-align: left;\">2</td><td style = \"text-align: left;\">2</td><td style = \"text-align: left;\">2</td><td style = \"text-align: left;\">2</td><td style = \"text-align: left;\">2</td><td style = \"text-align: left;\">2</td><td style = \"text-align: left;\">2</td><td style = \"text-align: left;\">2</td><td style = \"text-align: left;\">2</td><td style = \"text-align: left;\">2</td><td style = \"text-align: left;\">2</td><td style = \"text-align: left;\">2</td><td style = \"text-align: left;\">2</td><td style = \"text-align: left;\">2</td><td style = \"text-align: left;\">2</td><td style = \"text-align: left;\">2</td><td style = \"text-align: left;\">2</td><td style = \"text-align: left;\">2</td><td style = \"text-align: left;\">2</td><td style = \"text-align: left;\">2</td><td style = \"text-align: left;\">2</td><td style = \"text-align: left;\">2</td><td style = \"text-align: left;\">2</td><td style = \"text-align: left;\">2</td><td style = \"text-align: left;\">2</td><td style = \"text-align: left;\">2</td><td style = \"text-align: left;\">1</td><td style = \"text-align: left;\">2</td><td style = \"text-align: left;\">2</td><td style = \"text-align: left;\">2</td><td style = \"text-align: left;\">2</td><td style = \"text-align: left;\">1</td><td style = \"text-align: left;\">2</td><td style = \"text-align: left;\">2</td><td style = \"text-align: left;\">2</td><td style = \"text-align: left;\">2</td><td style = \"text-align: left;\">2</td><td style = \"text-align: left;\">2</td><td style = \"text-align: left;\">2</td><td style = \"text-align: left;\">2</td><td style = \"text-align: left;\">2</td><td style = \"text-align: left;\">1</td><td style = \"text-align: left;\">2</td><td style = \"text-align: left;\">2</td><td style = \"text-align: left;\">2</td><td style = \"text-align: left;\">2</td><td style = \"text-align: left;\">2</td><td style = \"text-align: left;\">2</td><td style = \"text-align: left;\">2</td><td style = \"text-align: left;\">2</td><td style = \"text-align: left;\">2</td><td style = \"text-align: left;\">2</td><td style = \"text-align: left;\">2</td><td style = \"text-align: left;\">2</td><td style = \"text-align: left;\">2</td><td style = \"text-align: left;\">2</td><td style = \"text-align: left;\">2</td><td style = \"text-align: left;\">2</td><td style = \"text-align: left;\">2</td><td style = \"text-align: left;\">2</td><td style = \"text-align: left;\">2</td><td style = \"text-align: left;\">2</td><td style = \"text-align: left;\">2</td><td style = \"text-align: left;\">2</td><td style = \"text-align: left;\">2</td><td style = \"text-align: left;\">2</td><td style = \"text-align: left;\">2</td><td style = \"text-align: left;\">2</td><td style = \"text-align: left;\">2</td><td style = \"text-align: left;\">2</td><td style = \"text-align: left;\">2</td><td style = \"text-align: left;\">2</td><td style = \"text-align: left;\">1</td></tr><tr><td class = \"rowNumber\" style = \"font-weight: bold; text-align: right;\">6</td><td style = \"text-align: left;\">1</td><td style = \"text-align: left;\">chr1:669562</td><td style = \"text-align: left;\">0.669562</td><td style = \"text-align: left;\">0.669562</td><td style = \"text-align: left;\">2</td><td style = \"text-align: left;\">2</td><td style = \"text-align: left;\">2</td><td style = \"text-align: left;\">2</td><td style = \"text-align: left;\">2</td><td style = \"text-align: left;\">2</td><td style = \"text-align: left;\">1</td><td style = \"text-align: left;\">2</td><td style = \"text-align: left;\">2</td><td style = \"text-align: left;\">2</td><td style = \"text-align: left;\">2</td><td style = \"text-align: left;\">2</td><td style = \"text-align: left;\">2</td><td style = \"text-align: left;\">2</td><td style = \"text-align: left;\">2</td><td style = \"text-align: left;\">2</td><td style = \"text-align: left;\">2</td><td style = \"text-align: left;\">2</td><td style = \"text-align: left;\">2</td><td style = \"text-align: left;\">2</td><td style = \"text-align: left;\">2</td><td style = \"text-align: left;\">2</td><td style = \"text-align: left;\">2</td><td style = \"text-align: left;\">2</td><td style = \"text-align: left;\">2</td><td style = \"text-align: left;\">1</td><td style = \"text-align: left;\">2</td><td style = \"text-align: left;\">2</td><td style = \"text-align: left;\">2</td><td style = \"text-align: left;\">2</td><td style = \"text-align: left;\">2</td><td style = \"text-align: left;\">2</td><td style = \"text-align: left;\">2</td><td style = \"text-align: left;\">2</td><td style = \"text-align: left;\">2</td><td style = \"text-align: left;\">2</td><td style = \"text-align: left;\">2</td><td style = \"text-align: left;\">2</td><td style = \"text-align: left;\">2</td><td style = \"text-align: left;\">2</td><td style = \"text-align: left;\">2</td><td style = \"text-align: left;\">2</td><td style = \"text-align: left;\">2</td><td style = \"text-align: left;\">2</td><td style = \"text-align: left;\">2</td><td style = \"text-align: left;\">2</td><td style = \"text-align: left;\">2</td><td style = \"text-align: left;\">2</td><td style = \"text-align: left;\">2</td><td style = \"text-align: left;\">2</td><td style = \"text-align: left;\">2</td><td style = \"text-align: left;\">2</td><td style = \"text-align: left;\">2</td><td style = \"text-align: left;\">2</td><td style = \"text-align: left;\">2</td><td style = \"text-align: left;\">2</td><td style = \"text-align: left;\">2</td><td style = \"text-align: left;\">2</td><td style = \"text-align: left;\">2</td><td style = \"text-align: left;\">2</td><td style = \"text-align: left;\">2</td><td style = \"text-align: left;\">1</td><td style = \"text-align: left;\">2</td><td style = \"text-align: left;\">2</td><td style = \"text-align: left;\">2</td><td style = \"text-align: left;\">2</td><td style = \"text-align: left;\">2</td><td style = \"text-align: left;\">2</td><td style = \"text-align: left;\">2</td><td style = \"text-align: left;\">2</td><td style = \"text-align: left;\">2</td><td style = \"text-align: left;\">2</td><td style = \"text-align: left;\">2</td><td style = \"text-align: left;\">1</td><td style = \"text-align: left;\">2</td><td style = \"text-align: left;\">2</td><td style = \"text-align: left;\">2</td><td style = \"text-align: left;\">2</td><td style = \"text-align: left;\">1</td><td style = \"text-align: left;\">2</td></tr><tr><td class = \"rowNumber\" style = \"font-weight: bold; text-align: right;\">7</td><td style = \"text-align: left;\">1</td><td style = \"text-align: left;\">chr1:671466</td><td style = \"text-align: left;\">0.671466</td><td style = \"text-align: left;\">0.671466</td><td style = \"text-align: left;\">2</td><td style = \"text-align: left;\">2</td><td style = \"text-align: left;\">2</td><td style = \"text-align: left;\">2</td><td style = \"text-align: left;\">2</td><td style = \"text-align: left;\">2</td><td style = \"text-align: left;\">2</td><td style = \"text-align: left;\">2</td><td style = \"text-align: left;\">2</td><td style = \"text-align: left;\">2</td><td style = \"text-align: left;\">2</td><td style = \"text-align: left;\">2</td><td style = \"text-align: left;\">2</td><td style = \"text-align: left;\">2</td><td style = \"text-align: left;\">2</td><td style = \"text-align: left;\">2</td><td style = \"text-align: left;\">2</td><td style = \"text-align: left;\">2</td><td style = \"text-align: left;\">2</td><td style = \"text-align: left;\">2</td><td style = \"text-align: left;\">2</td><td style = \"text-align: left;\">2</td><td style = \"text-align: left;\">2</td><td style = \"text-align: left;\">2</td><td style = \"text-align: left;\">2</td><td style = \"text-align: left;\">2</td><td style = \"text-align: left;\">2</td><td style = \"text-align: left;\">2</td><td style = \"text-align: left;\">2</td><td style = \"text-align: left;\">2</td><td style = \"text-align: left;\">2</td><td style = \"text-align: left;\">2</td><td style = \"text-align: left;\">2</td><td style = \"text-align: left;\">2</td><td style = \"text-align: left;\">2</td><td style = \"text-align: left;\">2</td><td style = \"text-align: left;\">2</td><td style = \"text-align: left;\">2</td><td style = \"text-align: left;\">2</td><td style = \"text-align: left;\">2</td><td style = \"text-align: left;\">2</td><td style = \"text-align: left;\">2</td><td style = \"text-align: left;\">2</td><td style = \"text-align: left;\">2</td><td style = \"text-align: left;\">2</td><td style = \"text-align: left;\">2</td><td style = \"text-align: left;\">2</td><td style = \"text-align: left;\">2</td><td style = \"text-align: left;\">2</td><td style = \"text-align: left;\">2</td><td style = \"text-align: left;\">2</td><td style = \"text-align: left;\">2</td><td style = \"text-align: left;\">2</td><td style = \"text-align: left;\">2</td><td style = \"text-align: left;\">2</td><td style = \"text-align: left;\">2</td><td style = \"text-align: left;\">2</td><td style = \"text-align: left;\">2</td><td style = \"text-align: left;\">2</td><td style = \"text-align: left;\">1</td><td style = \"text-align: left;\">2</td><td style = \"text-align: left;\">1</td><td style = \"text-align: left;\">1</td><td style = \"text-align: left;\">1</td><td style = \"text-align: left;\">1</td><td style = \"text-align: left;\">2</td><td style = \"text-align: left;\">2</td><td style = \"text-align: left;\">1</td><td style = \"text-align: left;\">2</td><td style = \"text-align: left;\">2</td><td style = \"text-align: left;\">2</td><td style = \"text-align: left;\">2</td><td style = \"text-align: left;\">2</td><td style = \"text-align: left;\">2</td><td style = \"text-align: left;\">2</td><td style = \"text-align: left;\">2</td><td style = \"text-align: left;\">2</td><td style = \"text-align: left;\">2</td><td style = \"text-align: left;\">1</td><td style = \"text-align: left;\">2</td></tr><tr><td class = \"rowNumber\" style = \"font-weight: bold; text-align: right;\">8</td><td style = \"text-align: left;\">1</td><td style = \"text-align: left;\">chr1:759319</td><td style = \"text-align: left;\">0.759319</td><td style = \"text-align: left;\">0.759319</td><td style = \"text-align: left;\">0.997</td><td style = \"text-align: left;\">1.976</td><td style = \"text-align: left;\">0.991</td><td style = \"text-align: left;\">1.979</td><td style = \"text-align: left;\">0.007</td><td style = \"text-align: left;\">1.979</td><td style = \"text-align: left;\">0.991</td><td style = \"text-align: left;\">0.997</td><td style = \"text-align: left;\">0.008</td><td style = \"text-align: left;\">1.979</td><td style = \"text-align: left;\">0.997</td><td style = \"text-align: left;\">0.997</td><td style = \"text-align: left;\">0.007</td><td style = \"text-align: left;\">0.997</td><td style = \"text-align: left;\">0.007</td><td style = \"text-align: left;\">0.991</td><td style = \"text-align: left;\">0.997</td><td style = \"text-align: left;\">0.007</td><td style = \"text-align: left;\">0.997</td><td style = \"text-align: left;\">0.991</td><td style = \"text-align: left;\">0.007</td><td style = \"text-align: left;\">0.99</td><td style = \"text-align: left;\">0.997</td><td style = \"text-align: left;\">0.99</td><td style = \"text-align: left;\">0.991</td><td style = \"text-align: left;\">0.007</td><td style = \"text-align: left;\">0.991</td><td style = \"text-align: left;\">1.979</td><td style = \"text-align: left;\">0.997</td><td style = \"text-align: left;\">0.997</td><td style = \"text-align: left;\">0.992</td><td style = \"text-align: left;\">0.997</td><td style = \"text-align: left;\">0.997</td><td style = \"text-align: left;\">0.997</td><td style = \"text-align: left;\">0.992</td><td style = \"text-align: left;\">0.992</td><td style = \"text-align: left;\">0.007</td><td style = \"text-align: left;\">0.997</td><td style = \"text-align: left;\">0.997</td><td style = \"text-align: left;\">0.997</td><td style = \"text-align: left;\">0.007</td><td style = \"text-align: left;\">0.007</td><td style = \"text-align: left;\">0.997</td><td style = \"text-align: left;\">0.007</td><td style = \"text-align: left;\">1.979</td><td style = \"text-align: left;\">0.007</td><td style = \"text-align: left;\">0.991</td><td style = \"text-align: left;\">0.007</td><td style = \"text-align: left;\">0.997</td><td style = \"text-align: left;\">0.997</td><td style = \"text-align: left;\">0.008</td><td style = \"text-align: left;\">0.997</td><td style = \"text-align: left;\">0.997</td><td style = \"text-align: left;\">0.007</td><td style = \"text-align: left;\">0.997</td><td style = \"text-align: left;\">1.979</td><td style = \"text-align: left;\">0.997</td><td style = \"text-align: left;\">0.997</td><td style = \"text-align: left;\">0.007</td><td style = \"text-align: left;\">0.007</td><td style = \"text-align: left;\">0.997</td><td style = \"text-align: left;\">0.007</td><td style = \"text-align: left;\">0.997</td><td style = \"text-align: left;\">1.979</td><td style = \"text-align: left;\">0.007</td><td style = \"text-align: left;\">0.997</td><td style = \"text-align: left;\">0.99603</td><td style = \"text-align: left;\">0.99</td><td style = \"text-align: left;\">0.991</td><td style = \"text-align: left;\">0.997</td><td style = \"text-align: left;\">1.978</td><td style = \"text-align: left;\">0.007</td><td style = \"text-align: left;\">0.991</td><td style = \"text-align: left;\">0.997</td><td style = \"text-align: left;\">0.007</td><td style = \"text-align: left;\">0.007</td><td style = \"text-align: left;\">1.979</td><td style = \"text-align: left;\">1.979</td><td style = \"text-align: left;\">1.979</td><td style = \"text-align: left;\">0.007</td></tr><tr><td class = \"rowNumber\" style = \"font-weight: bold; text-align: right;\">9</td><td style = \"text-align: left;\">1</td><td style = \"text-align: left;\">chr1:1134030</td><td style = \"text-align: left;\">1.13403</td><td style = \"text-align: left;\">1.13403</td><td style = \"text-align: left;\">1.941</td><td style = \"text-align: left;\">1.559</td><td style = \"text-align: left;\">1.006</td><td style = \"text-align: left;\">1.994</td><td style = \"text-align: left;\">1.998</td><td style = \"text-align: left;\">1.994</td><td style = \"text-align: left;\">1.846</td><td style = \"text-align: left;\">1.951</td><td style = \"text-align: left;\">1.4895</td><td style = \"text-align: left;\">1.994</td><td style = \"text-align: left;\">1.984</td><td style = \"text-align: left;\">1.945</td><td style = \"text-align: left;\">1.031</td><td style = \"text-align: left;\">1.993</td><td style = \"text-align: left;\">1.00494</td><td style = \"text-align: left;\">1.989</td><td style = \"text-align: left;\">1.992</td><td style = \"text-align: left;\">1.998</td><td style = \"text-align: left;\">1.989</td><td style = \"text-align: left;\">1.994</td><td style = \"text-align: left;\">1.022</td><td style = \"text-align: left;\">1.49847</td><td style = \"text-align: left;\">1.797</td><td style = \"text-align: left;\">1.998</td><td style = \"text-align: left;\">1.946</td><td style = \"text-align: left;\">1.055</td><td style = \"text-align: left;\">1.946</td><td style = \"text-align: left;\">1.994</td><td style = \"text-align: left;\">1.955</td><td style = \"text-align: left;\">1.993</td><td style = \"text-align: left;\">1.994</td><td style = \"text-align: left;\">1.94696</td><td style = \"text-align: left;\">1.951</td><td style = \"text-align: left;\">1.989</td><td style = \"text-align: left;\">1.926</td><td style = \"text-align: left;\">1.495</td><td style = \"text-align: left;\">1.998</td><td style = \"text-align: left;\">1.991</td><td style = \"text-align: left;\">1.994</td><td style = \"text-align: left;\">1.952</td><td style = \"text-align: left;\">1.997</td><td style = \"text-align: left;\">1.998</td><td style = \"text-align: left;\">1.94696</td><td style = \"text-align: left;\">1.998</td><td style = \"text-align: left;\">1.994</td><td style = \"text-align: left;\">1.998</td><td style = \"text-align: left;\">1.994</td><td style = \"text-align: left;\">1.998</td><td style = \"text-align: left;\">1.946</td><td style = \"text-align: left;\">1.994</td><td style = \"text-align: left;\">1.5045</td><td style = \"text-align: left;\">1.994</td><td style = \"text-align: left;\">1.994</td><td style = \"text-align: left;\">1.998</td><td style = \"text-align: left;\">1.977</td><td style = \"text-align: left;\">1.993</td><td style = \"text-align: left;\">1.935</td><td style = \"text-align: left;\">1.993</td><td style = \"text-align: left;\">1.998</td><td style = \"text-align: left;\">1.998</td><td style = \"text-align: left;\">1.994</td><td style = \"text-align: left;\">1.023</td><td style = \"text-align: left;\">1.994</td><td style = \"text-align: left;\">1.994</td><td style = \"text-align: left;\">1.998</td><td style = \"text-align: left;\">1.993</td><td style = \"text-align: left;\">1.912</td><td style = \"text-align: left;\">1.997</td><td style = \"text-align: left;\">1.994</td><td style = \"text-align: left;\">1.993</td><td style = \"text-align: left;\">1.919</td><td style = \"text-align: left;\">1.998</td><td style = \"text-align: left;\">1.994</td><td style = \"text-align: left;\">1.994</td><td style = \"text-align: left;\">1.044</td><td style = \"text-align: left;\">1.031</td><td style = \"text-align: left;\">1.993</td><td style = \"text-align: left;\">1.994</td><td style = \"text-align: left;\">1.993</td><td style = \"text-align: left;\">1.998</td></tr><tr><td class = \"rowNumber\" style = \"font-weight: bold; text-align: right;\">10</td><td style = \"text-align: left;\">1</td><td style = \"text-align: left;\">chr1:1139210</td><td style = \"text-align: left;\">1.13921</td><td style = \"text-align: left;\">1.13921</td><td style = \"text-align: left;\">1.978</td><td style = \"text-align: left;\">1.992</td><td style = \"text-align: left;\">1.997</td><td style = \"text-align: left;\">1.994</td><td style = \"text-align: left;\">1.997</td><td style = \"text-align: left;\">1.993</td><td style = \"text-align: left;\">1.912</td><td style = \"text-align: left;\">1.985</td><td style = \"text-align: left;\">1.996</td><td style = \"text-align: left;\">1.994</td><td style = \"text-align: left;\">1.959</td><td style = \"text-align: left;\">1.985</td><td style = \"text-align: left;\">1.037</td><td style = \"text-align: left;\">1.986</td><td style = \"text-align: left;\">1.006</td><td style = \"text-align: left;\">1.14</td><td style = \"text-align: left;\">1.991</td><td style = \"text-align: left;\">1.997</td><td style = \"text-align: left;\">1.14</td><td style = \"text-align: left;\">1.992</td><td style = \"text-align: left;\">1.026</td><td style = \"text-align: left;\">1.964</td><td style = \"text-align: left;\">1.858</td><td style = \"text-align: left;\">1.997</td><td style = \"text-align: left;\">1.984</td><td style = \"text-align: left;\">1.06793</td><td style = \"text-align: left;\">1.984</td><td style = \"text-align: left;\">1.993</td><td style = \"text-align: left;\">1.988</td><td style = \"text-align: left;\">1.993</td><td style = \"text-align: left;\">1.994</td><td style = \"text-align: left;\">1.213</td><td style = \"text-align: left;\">1.986</td><td style = \"text-align: left;\">1.14</td><td style = \"text-align: left;\">1.982</td><td style = \"text-align: left;\">1.668</td><td style = \"text-align: left;\">1.997</td><td style = \"text-align: left;\">1.1181</td><td style = \"text-align: left;\">1.994</td><td style = \"text-align: left;\">1.986</td><td style = \"text-align: left;\">1.996</td><td style = \"text-align: left;\">1.997</td><td style = \"text-align: left;\">1.984</td><td style = \"text-align: left;\">1.997</td><td style = \"text-align: left;\">1.993</td><td style = \"text-align: left;\">1.997</td><td style = \"text-align: left;\">1.992</td><td style = \"text-align: left;\">1.997</td><td style = \"text-align: left;\">1.984</td><td style = \"text-align: left;\">1.994</td><td style = \"text-align: left;\">1.995</td><td style = \"text-align: left;\">1.994</td><td style = \"text-align: left;\">1.993</td><td style = \"text-align: left;\">1.997</td><td style = \"text-align: left;\">1.927</td><td style = \"text-align: left;\">1.993</td><td style = \"text-align: left;\">1.981</td><td style = \"text-align: left;\">1.992</td><td style = \"text-align: left;\">1.997</td><td style = \"text-align: left;\">1.997</td><td style = \"text-align: left;\">1.994</td><td style = \"text-align: left;\">1.029</td><td style = \"text-align: left;\">1.994</td><td style = \"text-align: left;\">1.993</td><td style = \"text-align: left;\">1.997</td><td style = \"text-align: left;\">1.993</td><td style = \"text-align: left;\">1.99</td><td style = \"text-align: left;\">1.866</td><td style = \"text-align: left;\">1.992</td><td style = \"text-align: left;\">1.993</td><td style = \"text-align: left;\">1.992</td><td style = \"text-align: left;\">1.997</td><td style = \"text-align: left;\">1.992</td><td style = \"text-align: left;\">1.993</td><td style = \"text-align: left;\">1.05292</td><td style = \"text-align: left;\">1.037</td><td style = \"text-align: left;\">1.993</td><td style = \"text-align: left;\">1.993</td><td style = \"text-align: left;\">1.993</td><td style = \"text-align: left;\">1.997</td></tr><tr><td class = \"rowNumber\" style = \"font-weight: bold; text-align: right;\">11</td><td style = \"text-align: left;\">1</td><td style = \"text-align: left;\">chr1:1143318</td><td style = \"text-align: left;\">1.14332</td><td style = \"text-align: left;\">1.14332</td><td style = \"text-align: left;\">0.031</td><td style = \"text-align: left;\">0.39</td><td style = \"text-align: left;\">0.99298</td><td style = \"text-align: left;\">0.008</td><td style = \"text-align: left;\">0.003</td><td style = \"text-align: left;\">0.009</td><td style = \"text-align: left;\">0.171</td><td style = \"text-align: left;\">0.025</td><td style = \"text-align: left;\">0.026</td><td style = \"text-align: left;\">0.008</td><td style = \"text-align: left;\">0.065</td><td style = \"text-align: left;\">0.026</td><td style = \"text-align: left;\">0.947</td><td style = \"text-align: left;\">0.011</td><td style = \"text-align: left;\">0.994</td><td style = \"text-align: left;\">0.043</td><td style = \"text-align: left;\">0.013</td><td style = \"text-align: left;\">0.003</td><td style = \"text-align: left;\">0.043</td><td style = \"text-align: left;\">0.009</td><td style = \"text-align: left;\">0.962</td><td style = \"text-align: left;\">0.1802</td><td style = \"text-align: left;\">0.231</td><td style = \"text-align: left;\">0.003</td><td style = \"text-align: left;\">0.028</td><td style = \"text-align: left;\">0.9059</td><td style = \"text-align: left;\">0.028</td><td style = \"text-align: left;\">0.009</td><td style = \"text-align: left;\">0.021</td><td style = \"text-align: left;\">0.01</td><td style = \"text-align: left;\">0.008</td><td style = \"text-align: left;\">0.079</td><td style = \"text-align: left;\">0.025</td><td style = \"text-align: left;\">0.043</td><td style = \"text-align: left;\">0.128</td><td style = \"text-align: left;\">0.339</td><td style = \"text-align: left;\">0.003</td><td style = \"text-align: left;\">0.15015</td><td style = \"text-align: left;\">0.008</td><td style = \"text-align: left;\">0.024</td><td style = \"text-align: left;\">0.003</td><td style = \"text-align: left;\">0.003</td><td style = \"text-align: left;\">0.028</td><td style = \"text-align: left;\">0.003</td><td style = \"text-align: left;\">0.009</td><td style = \"text-align: left;\">0.003</td><td style = \"text-align: left;\">0.009</td><td style = \"text-align: left;\">0.003</td><td style = \"text-align: left;\">0.028</td><td style = \"text-align: left;\">0.008</td><td style = \"text-align: left;\">0.025</td><td style = \"text-align: left;\">0.008</td><td style = \"text-align: left;\">0.009</td><td style = \"text-align: left;\">0.003</td><td style = \"text-align: left;\">0.114</td><td style = \"text-align: left;\">0.01</td><td style = \"text-align: left;\">0.034</td><td style = \"text-align: left;\">0.011</td><td style = \"text-align: left;\">0.003</td><td style = \"text-align: left;\">0.003</td><td style = \"text-align: left;\">0.008</td><td style = \"text-align: left;\">0.958</td><td style = \"text-align: left;\">0.008</td><td style = \"text-align: left;\">0.009</td><td style = \"text-align: left;\">0.003</td><td style = \"text-align: left;\">0.01</td><td style = \"text-align: left;\">0.032</td><td style = \"text-align: left;\">0.158</td><td style = \"text-align: left;\">0.009</td><td style = \"text-align: left;\">0.01</td><td style = \"text-align: left;\">0.032</td><td style = \"text-align: left;\">0.003</td><td style = \"text-align: left;\">0.009</td><td style = \"text-align: left;\">0.009</td><td style = \"text-align: left;\">0.92</td><td style = \"text-align: left;\">0.947</td><td style = \"text-align: left;\">0.01</td><td style = \"text-align: left;\">0.009</td><td style = \"text-align: left;\">0.01</td><td style = \"text-align: left;\">0.003</td></tr><tr><td class = \"rowNumber\" style = \"font-weight: bold; text-align: right;\">12</td><td style = \"text-align: left;\">1</td><td style = \"text-align: left;\">chr1:1151014</td><td style = \"text-align: left;\">1.15101</td><td style = \"text-align: left;\">1.15101</td><td style = \"text-align: left;\">1.997</td><td style = \"text-align: left;\">1.997</td><td style = \"text-align: left;\">1.998</td><td style = \"text-align: left;\">1.997</td><td style = \"text-align: left;\">1.998</td><td style = \"text-align: left;\">1.997</td><td style = \"text-align: left;\">1.995</td><td style = \"text-align: left;\">1.997</td><td style = \"text-align: left;\">1.998</td><td style = \"text-align: left;\">1.997</td><td style = \"text-align: left;\">1.995</td><td style = \"text-align: left;\">1.996</td><td style = \"text-align: left;\">1.054</td><td style = \"text-align: left;\">1.997</td><td style = \"text-align: left;\">1.004</td><td style = \"text-align: left;\">1.963</td><td style = \"text-align: left;\">1.997</td><td style = \"text-align: left;\">1.998</td><td style = \"text-align: left;\">1.963</td><td style = \"text-align: left;\">1.997</td><td style = \"text-align: left;\">1.039</td><td style = \"text-align: left;\">1.998</td><td style = \"text-align: left;\">1.996</td><td style = \"text-align: left;\">1.998</td><td style = \"text-align: left;\">1.997</td><td style = \"text-align: left;\">1.097</td><td style = \"text-align: left;\">1.997</td><td style = \"text-align: left;\">1.997</td><td style = \"text-align: left;\">1.997</td><td style = \"text-align: left;\">1.997</td><td style = \"text-align: left;\">1.996</td><td style = \"text-align: left;\">1.9389</td><td style = \"text-align: left;\">1.997</td><td style = \"text-align: left;\">1.963</td><td style = \"text-align: left;\">1.997</td><td style = \"text-align: left;\">1.998</td><td style = \"text-align: left;\">1.998</td><td style = \"text-align: left;\">1.938</td><td style = \"text-align: left;\">1.997</td><td style = \"text-align: left;\">1.997</td><td style = \"text-align: left;\">1.997</td><td style = \"text-align: left;\">1.998</td><td style = \"text-align: left;\">1.997</td><td style = \"text-align: left;\">1.998</td><td style = \"text-align: left;\">1.997</td><td style = \"text-align: left;\">1.998</td><td style = \"text-align: left;\">1.997</td><td style = \"text-align: left;\">1.998</td><td style = \"text-align: left;\">1.997</td><td style = \"text-align: left;\">1.997</td><td style = \"text-align: left;\">1.998</td><td style = \"text-align: left;\">1.997</td><td style = \"text-align: left;\">1.997</td><td style = \"text-align: left;\">1.998</td><td style = \"text-align: left;\">1.996</td><td style = \"text-align: left;\">1.997</td><td style = \"text-align: left;\">1.997</td><td style = \"text-align: left;\">1.997</td><td style = \"text-align: left;\">1.998</td><td style = \"text-align: left;\">1.998</td><td style = \"text-align: left;\">1.997</td><td style = \"text-align: left;\">1.043</td><td style = \"text-align: left;\">1.997</td><td style = \"text-align: left;\">1.997</td><td style = \"text-align: left;\">1.998</td><td style = \"text-align: left;\">1.997</td><td style = \"text-align: left;\">1.998</td><td style = \"text-align: left;\">1.995</td><td style = \"text-align: left;\">1.997</td><td style = \"text-align: left;\">1.997</td><td style = \"text-align: left;\">1.998</td><td style = \"text-align: left;\">1.998</td><td style = \"text-align: left;\">1.997</td><td style = \"text-align: left;\">1.997</td><td style = \"text-align: left;\">1.086</td><td style = \"text-align: left;\">1.054</td><td style = \"text-align: left;\">1.997</td><td style = \"text-align: left;\">1.997</td><td style = \"text-align: left;\">1.997</td><td style = \"text-align: left;\">1.998</td></tr><tr><td class = \"rowNumber\" style = \"font-weight: bold; text-align: right;\">13</td><td style = \"text-align: left;\">1</td><td style = \"text-align: left;\">chr1:1151294</td><td style = \"text-align: left;\">1.15129</td><td style = \"text-align: left;\">1.15129</td><td style = \"text-align: left;\">1.997</td><td style = \"text-align: left;\">1.997</td><td style = \"text-align: left;\">1.006</td><td style = \"text-align: left;\">1.997</td><td style = \"text-align: left;\">1.998</td><td style = \"text-align: left;\">1.997</td><td style = \"text-align: left;\">1.993</td><td style = \"text-align: left;\">1.997</td><td style = \"text-align: left;\">1.98</td><td style = \"text-align: left;\">1.997</td><td style = \"text-align: left;\">1.993</td><td style = \"text-align: left;\">1.995</td><td style = \"text-align: left;\">1</td><td style = \"text-align: left;\">1.997</td><td style = \"text-align: left;\">1</td><td style = \"text-align: left;\">1.132</td><td style = \"text-align: left;\">1.997</td><td style = \"text-align: left;\">1.998</td><td style = \"text-align: left;\">1.132</td><td style = \"text-align: left;\">1.997</td><td style = \"text-align: left;\">1</td><td style = \"text-align: left;\">1.998</td><td style = \"text-align: left;\">1.995</td><td style = \"text-align: left;\">1.998</td><td style = \"text-align: left;\">1.997</td><td style = \"text-align: left;\">1</td><td style = \"text-align: left;\">1.997</td><td style = \"text-align: left;\">1.997</td><td style = \"text-align: left;\">1.997</td><td style = \"text-align: left;\">1.997</td><td style = \"text-align: left;\">1.993</td><td style = \"text-align: left;\">1.1702</td><td style = \"text-align: left;\">1.997</td><td style = \"text-align: left;\">1.132</td><td style = \"text-align: left;\">1.833</td><td style = \"text-align: left;\">1.998</td><td style = \"text-align: left;\">1.998</td><td style = \"text-align: left;\">1.16718</td><td style = \"text-align: left;\">1.997</td><td style = \"text-align: left;\">1.997</td><td style = \"text-align: left;\">1.886</td><td style = \"text-align: left;\">1.998</td><td style = \"text-align: left;\">1.997</td><td style = \"text-align: left;\">1.998</td><td style = \"text-align: left;\">1.997</td><td style = \"text-align: left;\">1.998</td><td style = \"text-align: left;\">1.997</td><td style = \"text-align: left;\">1.998</td><td style = \"text-align: left;\">1.997</td><td style = \"text-align: left;\">1.997</td><td style = \"text-align: left;\">1.981</td><td style = \"text-align: left;\">1.997</td><td style = \"text-align: left;\">1.997</td><td style = \"text-align: left;\">1.998</td><td style = \"text-align: left;\">1.995</td><td style = \"text-align: left;\">1.997</td><td style = \"text-align: left;\">1.997</td><td style = \"text-align: left;\">1.997</td><td style = \"text-align: left;\">1.998</td><td style = \"text-align: left;\">1.998</td><td style = \"text-align: left;\">1.997</td><td style = \"text-align: left;\">1</td><td style = \"text-align: left;\">1.997</td><td style = \"text-align: left;\">1.997</td><td style = \"text-align: left;\">1.998</td><td style = \"text-align: left;\">1.997</td><td style = \"text-align: left;\">1.998</td><td style = \"text-align: left;\">1.992</td><td style = \"text-align: left;\">1.997</td><td style = \"text-align: left;\">1.997</td><td style = \"text-align: left;\">1.998</td><td style = \"text-align: left;\">1.998</td><td style = \"text-align: left;\">1.997</td><td style = \"text-align: left;\">1.997</td><td style = \"text-align: left;\">1</td><td style = \"text-align: left;\">1</td><td style = \"text-align: left;\">1.997</td><td style = \"text-align: left;\">1.997</td><td style = \"text-align: left;\">1.997</td><td style = \"text-align: left;\">1.998</td></tr><tr><td style = \"text-align: right;\">&vellip;</td><td style = \"text-align: right;\">&vellip;</td><td style = \"text-align: right;\">&vellip;</td><td style = \"text-align: right;\">&vellip;</td><td style = \"text-align: right;\">&vellip;</td><td style = \"text-align: right;\">&vellip;</td><td style = \"text-align: right;\">&vellip;</td><td style = \"text-align: right;\">&vellip;</td><td style = \"text-align: right;\">&vellip;</td><td style = \"text-align: right;\">&vellip;</td><td style = \"text-align: right;\">&vellip;</td><td style = \"text-align: right;\">&vellip;</td><td style = \"text-align: right;\">&vellip;</td><td style = \"text-align: right;\">&vellip;</td><td style = \"text-align: right;\">&vellip;</td><td style = \"text-align: right;\">&vellip;</td><td style = \"text-align: right;\">&vellip;</td><td style = \"text-align: right;\">&vellip;</td><td style = \"text-align: right;\">&vellip;</td><td style = \"text-align: right;\">&vellip;</td><td style = \"text-align: right;\">&vellip;</td><td style = \"text-align: right;\">&vellip;</td><td style = \"text-align: right;\">&vellip;</td><td style = \"text-align: right;\">&vellip;</td><td style = \"text-align: right;\">&vellip;</td><td style = \"text-align: right;\">&vellip;</td><td style = \"text-align: right;\">&vellip;</td><td style = \"text-align: right;\">&vellip;</td><td style = \"text-align: right;\">&vellip;</td><td style = \"text-align: right;\">&vellip;</td><td style = \"text-align: right;\">&vellip;</td><td style = \"text-align: right;\">&vellip;</td><td style = \"text-align: right;\">&vellip;</td><td style = \"text-align: right;\">&vellip;</td><td style = \"text-align: right;\">&vellip;</td><td style = \"text-align: right;\">&vellip;</td><td style = \"text-align: right;\">&vellip;</td><td style = \"text-align: right;\">&vellip;</td><td style = \"text-align: right;\">&vellip;</td><td style = \"text-align: right;\">&vellip;</td><td style = \"text-align: right;\">&vellip;</td><td style = \"text-align: right;\">&vellip;</td><td style = \"text-align: right;\">&vellip;</td><td style = \"text-align: right;\">&vellip;</td><td style = \"text-align: right;\">&vellip;</td><td style = \"text-align: right;\">&vellip;</td><td style = \"text-align: right;\">&vellip;</td><td style = \"text-align: right;\">&vellip;</td><td style = \"text-align: right;\">&vellip;</td><td style = \"text-align: right;\">&vellip;</td><td style = \"text-align: right;\">&vellip;</td><td style = \"text-align: right;\">&vellip;</td><td style = \"text-align: right;\">&vellip;</td><td style = \"text-align: right;\">&vellip;</td><td style = \"text-align: right;\">&vellip;</td><td style = \"text-align: right;\">&vellip;</td><td style = \"text-align: right;\">&vellip;</td><td style = \"text-align: right;\">&vellip;</td><td style = \"text-align: right;\">&vellip;</td><td style = \"text-align: right;\">&vellip;</td><td style = \"text-align: right;\">&vellip;</td><td style = \"text-align: right;\">&vellip;</td><td style = \"text-align: right;\">&vellip;</td><td style = \"text-align: right;\">&vellip;</td><td style = \"text-align: right;\">&vellip;</td><td style = \"text-align: right;\">&vellip;</td><td style = \"text-align: right;\">&vellip;</td><td style = \"text-align: right;\">&vellip;</td><td style = \"text-align: right;\">&vellip;</td><td style = \"text-align: right;\">&vellip;</td><td style = \"text-align: right;\">&vellip;</td><td style = \"text-align: right;\">&vellip;</td><td style = \"text-align: right;\">&vellip;</td><td style = \"text-align: right;\">&vellip;</td><td style = \"text-align: right;\">&vellip;</td><td style = \"text-align: right;\">&vellip;</td><td style = \"text-align: right;\">&vellip;</td><td style = \"text-align: right;\">&vellip;</td><td style = \"text-align: right;\">&vellip;</td><td style = \"text-align: right;\">&vellip;</td><td style = \"text-align: right;\">&vellip;</td><td style = \"text-align: right;\">&vellip;</td><td style = \"text-align: right;\">&vellip;</td><td style = \"text-align: right;\">&vellip;</td><td style = \"text-align: right;\">&vellip;</td></tr><tr><td class = \"rowNumber\" style = \"font-weight: bold; text-align: right;\">134670</td><td style = \"text-align: left;\">20</td><td style = \"text-align: left;\">chr20:55641278</td><td style = \"text-align: left;\">55.6413</td><td style = \"text-align: left;\">55.6413</td><td style = \"text-align: left;\">1.917</td><td style = \"text-align: left;\">1.917</td><td style = \"text-align: left;\">1.917</td><td style = \"text-align: left;\">1.917</td><td style = \"text-align: left;\">1.979</td><td style = \"text-align: left;\">1.917</td><td style = \"text-align: left;\">1.917</td><td style = \"text-align: left;\">1.917</td><td style = \"text-align: left;\">1.917</td><td style = \"text-align: left;\">1.917</td><td style = \"text-align: left;\">1.917</td><td style = \"text-align: left;\">1.917</td><td style = \"text-align: left;\">1.917</td><td style = \"text-align: left;\">1.917</td><td style = \"text-align: left;\">1.917</td><td style = \"text-align: left;\">1.917</td><td style = \"text-align: left;\">1.917</td><td style = \"text-align: left;\">1.917</td><td style = \"text-align: left;\">1.917</td><td style = \"text-align: left;\">1.917</td><td style = \"text-align: left;\">1.917</td><td style = \"text-align: left;\">1.917</td><td style = \"text-align: left;\">1.917</td><td style = \"text-align: left;\">1.917</td><td style = \"text-align: left;\">1.917</td><td style = \"text-align: left;\">1.917</td><td style = \"text-align: left;\">1.917</td><td style = \"text-align: left;\">1.917</td><td style = \"text-align: left;\">1.917</td><td style = \"text-align: left;\">1.917</td><td style = \"text-align: left;\">1.917</td><td style = \"text-align: left;\">1.917</td><td style = \"text-align: left;\">1.917</td><td style = \"text-align: left;\">1.917</td><td style = \"text-align: left;\">1.917</td><td style = \"text-align: left;\">1.917</td><td style = \"text-align: left;\">1.917</td><td style = \"text-align: left;\">1.917</td><td style = \"text-align: left;\">1.917</td><td style = \"text-align: left;\">1.917</td><td style = \"text-align: left;\">0.96</td><td style = \"text-align: left;\">1.917</td><td style = \"text-align: left;\">1.917</td><td style = \"text-align: left;\">1.917</td><td style = \"text-align: left;\">1.917</td><td style = \"text-align: left;\">1.917</td><td style = \"text-align: left;\">1.917</td><td style = \"text-align: left;\">1.917</td><td style = \"text-align: left;\">1.917</td><td style = \"text-align: left;\">1.917</td><td style = \"text-align: left;\">1.917</td><td style = \"text-align: left;\">1.917</td><td style = \"text-align: left;\">1.917</td><td style = \"text-align: left;\">1.917</td><td style = \"text-align: left;\">1.917</td><td style = \"text-align: left;\">1.917</td><td style = \"text-align: left;\">1.917</td><td style = \"text-align: left;\">1.917</td><td style = \"text-align: left;\">1.917</td><td style = \"text-align: left;\">1.917</td><td style = \"text-align: left;\">1.917</td><td style = \"text-align: left;\">1.917</td><td style = \"text-align: left;\">1.917</td><td style = \"text-align: left;\">1.917</td><td style = \"text-align: left;\">1.917</td><td style = \"text-align: left;\">1.917</td><td style = \"text-align: left;\">1.91498</td><td style = \"text-align: left;\">1.917</td><td style = \"text-align: left;\">1.917</td><td style = \"text-align: left;\">1.917</td><td style = \"text-align: left;\">1.917</td><td style = \"text-align: left;\">1.917</td><td style = \"text-align: left;\">1.917</td><td style = \"text-align: left;\">1.917</td><td style = \"text-align: left;\">1.917</td><td style = \"text-align: left;\">1.917</td><td style = \"text-align: left;\">1.917</td><td style = \"text-align: left;\">1.917</td><td style = \"text-align: left;\">1.917</td><td style = \"text-align: left;\">1.917</td></tr><tr><td class = \"rowNumber\" style = \"font-weight: bold; text-align: right;\">134671</td><td style = \"text-align: left;\">20</td><td style = \"text-align: left;\">chr20:55644746</td><td style = \"text-align: left;\">55.6447</td><td style = \"text-align: left;\">55.6447</td><td style = \"text-align: left;\">1.99</td><td style = \"text-align: left;\">1.99</td><td style = \"text-align: left;\">1.99</td><td style = \"text-align: left;\">1.99</td><td style = \"text-align: left;\">1.022</td><td style = \"text-align: left;\">1.99</td><td style = \"text-align: left;\">1.99</td><td style = \"text-align: left;\">1.99</td><td style = \"text-align: left;\">1.99</td><td style = \"text-align: left;\">1.99</td><td style = \"text-align: left;\">1.99</td><td style = \"text-align: left;\">1.99</td><td style = \"text-align: left;\">1.99</td><td style = \"text-align: left;\">1.99</td><td style = \"text-align: left;\">1.99</td><td style = \"text-align: left;\">1.99</td><td style = \"text-align: left;\">1.99</td><td style = \"text-align: left;\">1.99</td><td style = \"text-align: left;\">1.99</td><td style = \"text-align: left;\">1.99</td><td style = \"text-align: left;\">1.99</td><td style = \"text-align: left;\">1.99</td><td style = \"text-align: left;\">1.99</td><td style = \"text-align: left;\">1.99</td><td style = \"text-align: left;\">1.99</td><td style = \"text-align: left;\">1.99</td><td style = \"text-align: left;\">1.99</td><td style = \"text-align: left;\">1.99</td><td style = \"text-align: left;\">1.99</td><td style = \"text-align: left;\">1.99</td><td style = \"text-align: left;\">1.99</td><td style = \"text-align: left;\">1.99</td><td style = \"text-align: left;\">1.99</td><td style = \"text-align: left;\">1.99</td><td style = \"text-align: left;\">1.99</td><td style = \"text-align: left;\">1.99</td><td style = \"text-align: left;\">1.99</td><td style = \"text-align: left;\">1.99</td><td style = \"text-align: left;\">1.99</td><td style = \"text-align: left;\">1.99</td><td style = \"text-align: left;\">0.996</td><td style = \"text-align: left;\">1.99</td><td style = \"text-align: left;\">1.99</td><td style = \"text-align: left;\">1.99</td><td style = \"text-align: left;\">1.99</td><td style = \"text-align: left;\">1.99</td><td style = \"text-align: left;\">1.99</td><td style = \"text-align: left;\">1.99</td><td style = \"text-align: left;\">1.99</td><td style = \"text-align: left;\">1.99</td><td style = \"text-align: left;\">1.99</td><td style = \"text-align: left;\">1.99</td><td style = \"text-align: left;\">1.99</td><td style = \"text-align: left;\">1.99</td><td style = \"text-align: left;\">1.99</td><td style = \"text-align: left;\">1.99</td><td style = \"text-align: left;\">1.99</td><td style = \"text-align: left;\">1.99</td><td style = \"text-align: left;\">1.99</td><td style = \"text-align: left;\">1.99</td><td style = \"text-align: left;\">1.99</td><td style = \"text-align: left;\">1.99</td><td style = \"text-align: left;\">1.99</td><td style = \"text-align: left;\">1.99</td><td style = \"text-align: left;\">1.99</td><td style = \"text-align: left;\">1.99</td><td style = \"text-align: left;\">1.99</td><td style = \"text-align: left;\">1.99</td><td style = \"text-align: left;\">1.99</td><td style = \"text-align: left;\">1.99</td><td style = \"text-align: left;\">1.99</td><td style = \"text-align: left;\">1.99</td><td style = \"text-align: left;\">1.99</td><td style = \"text-align: left;\">1.99</td><td style = \"text-align: left;\">1.99</td><td style = \"text-align: left;\">1.99</td><td style = \"text-align: left;\">1.99</td><td style = \"text-align: left;\">1.99</td><td style = \"text-align: left;\">1.99</td><td style = \"text-align: left;\">1.99</td></tr><tr><td class = \"rowNumber\" style = \"font-weight: bold; text-align: right;\">134672</td><td style = \"text-align: left;\">20</td><td style = \"text-align: left;\">chr20:55659520</td><td style = \"text-align: left;\">55.6595</td><td style = \"text-align: left;\">55.6595</td><td style = \"text-align: left;\">1.913</td><td style = \"text-align: left;\">1.913</td><td style = \"text-align: left;\">1.913</td><td style = \"text-align: left;\">1.913</td><td style = \"text-align: left;\">0.08002</td><td style = \"text-align: left;\">1.913</td><td style = \"text-align: left;\">1.913</td><td style = \"text-align: left;\">1.913</td><td style = \"text-align: left;\">1.913</td><td style = \"text-align: left;\">1.913</td><td style = \"text-align: left;\">1.913</td><td style = \"text-align: left;\">1.913</td><td style = \"text-align: left;\">1.913</td><td style = \"text-align: left;\">1.9139</td><td style = \"text-align: left;\">1.913</td><td style = \"text-align: left;\">1.913</td><td style = \"text-align: left;\">1.913</td><td style = \"text-align: left;\">1.913</td><td style = \"text-align: left;\">1.913</td><td style = \"text-align: left;\">1.913</td><td style = \"text-align: left;\">1.913</td><td style = \"text-align: left;\">1.913</td><td style = \"text-align: left;\">1.913</td><td style = \"text-align: left;\">1.913</td><td style = \"text-align: left;\">1.913</td><td style = \"text-align: left;\">1.913</td><td style = \"text-align: left;\">1.913</td><td style = \"text-align: left;\">1.913</td><td style = \"text-align: left;\">1.913</td><td style = \"text-align: left;\">1.913</td><td style = \"text-align: left;\">1.913</td><td style = \"text-align: left;\">1.913</td><td style = \"text-align: left;\">1.913</td><td style = \"text-align: left;\">1.913</td><td style = \"text-align: left;\">1.913</td><td style = \"text-align: left;\">1.913</td><td style = \"text-align: left;\">1.913</td><td style = \"text-align: left;\">1.913</td><td style = \"text-align: left;\">1.913</td><td style = \"text-align: left;\">1.913</td><td style = \"text-align: left;\">0.95795</td><td style = \"text-align: left;\">1.913</td><td style = \"text-align: left;\">1.913</td><td style = \"text-align: left;\">1.913</td><td style = \"text-align: left;\">1.913</td><td style = \"text-align: left;\">1.913</td><td style = \"text-align: left;\">1.913</td><td style = \"text-align: left;\">1.913</td><td style = \"text-align: left;\">1.913</td><td style = \"text-align: left;\">1.913</td><td style = \"text-align: left;\">1.913</td><td style = \"text-align: left;\">1.913</td><td style = \"text-align: left;\">1.913</td><td style = \"text-align: left;\">1.913</td><td style = \"text-align: left;\">1.913</td><td style = \"text-align: left;\">1.913</td><td style = \"text-align: left;\">1.913</td><td style = \"text-align: left;\">1.913</td><td style = \"text-align: left;\">1.913</td><td style = \"text-align: left;\">1.913</td><td style = \"text-align: left;\">1.913</td><td style = \"text-align: left;\">1.913</td><td style = \"text-align: left;\">1.913</td><td style = \"text-align: left;\">1.913</td><td style = \"text-align: left;\">1.913</td><td style = \"text-align: left;\">1.913</td><td style = \"text-align: left;\">1.912</td><td style = \"text-align: left;\">1.913</td><td style = \"text-align: left;\">1.913</td><td style = \"text-align: left;\">1.913</td><td style = \"text-align: left;\">1.913</td><td style = \"text-align: left;\">1.913</td><td style = \"text-align: left;\">1.913</td><td style = \"text-align: left;\">1.913</td><td style = \"text-align: left;\">1.913</td><td style = \"text-align: left;\">1.913</td><td style = \"text-align: left;\">1.913</td><td style = \"text-align: left;\">1.913</td><td style = \"text-align: left;\">1.913</td><td style = \"text-align: left;\">1.913</td></tr><tr><td class = \"rowNumber\" style = \"font-weight: bold; text-align: right;\">134673</td><td style = \"text-align: left;\">20</td><td style = \"text-align: left;\">chr20:55716379</td><td style = \"text-align: left;\">55.7164</td><td style = \"text-align: left;\">55.7164</td><td style = \"text-align: left;\">0.004</td><td style = \"text-align: left;\">0.004</td><td style = \"text-align: left;\">0.004</td><td style = \"text-align: left;\">0.004</td><td style = \"text-align: left;\">0.022</td><td style = \"text-align: left;\">0.004</td><td style = \"text-align: left;\">0.004</td><td style = \"text-align: left;\">0.004</td><td style = \"text-align: left;\">0.004</td><td style = \"text-align: left;\">0.004</td><td style = \"text-align: left;\">0.004</td><td style = \"text-align: left;\">0.004</td><td style = \"text-align: left;\">0.004</td><td style = \"text-align: left;\">0.004</td><td style = \"text-align: left;\">0.004</td><td style = \"text-align: left;\">0.004</td><td style = \"text-align: left;\">0.004</td><td style = \"text-align: left;\">0.004</td><td style = \"text-align: left;\">0.004</td><td style = \"text-align: left;\">0.004</td><td style = \"text-align: left;\">0.004</td><td style = \"text-align: left;\">0.004</td><td style = \"text-align: left;\">0.004</td><td style = \"text-align: left;\">0.004</td><td style = \"text-align: left;\">0.004</td><td style = \"text-align: left;\">0.004</td><td style = \"text-align: left;\">0.004</td><td style = \"text-align: left;\">0.004</td><td style = \"text-align: left;\">0.004</td><td style = \"text-align: left;\">0.004</td><td style = \"text-align: left;\">0.004</td><td style = \"text-align: left;\">0.004</td><td style = \"text-align: left;\">0.004</td><td style = \"text-align: left;\">0.004</td><td style = \"text-align: left;\">0.004</td><td style = \"text-align: left;\">0.004</td><td style = \"text-align: left;\">0.004</td><td style = \"text-align: left;\">0.004</td><td style = \"text-align: left;\">0.004</td><td style = \"text-align: left;\">0.004</td><td style = \"text-align: left;\">1</td><td style = \"text-align: left;\">0.004</td><td style = \"text-align: left;\">0.004</td><td style = \"text-align: left;\">0.004</td><td style = \"text-align: left;\">0.004</td><td style = \"text-align: left;\">0.004</td><td style = \"text-align: left;\">0.004</td><td style = \"text-align: left;\">0.004</td><td style = \"text-align: left;\">0.004</td><td style = \"text-align: left;\">0.004</td><td style = \"text-align: left;\">0.004</td><td style = \"text-align: left;\">0.004</td><td style = \"text-align: left;\">0.004</td><td style = \"text-align: left;\">0.004</td><td style = \"text-align: left;\">0.004</td><td style = \"text-align: left;\">0.004</td><td style = \"text-align: left;\">0.004</td><td style = \"text-align: left;\">0.004</td><td style = \"text-align: left;\">0.004</td><td style = \"text-align: left;\">0.004</td><td style = \"text-align: left;\">0.004</td><td style = \"text-align: left;\">0.004</td><td style = \"text-align: left;\">0.004</td><td style = \"text-align: left;\">0.004</td><td style = \"text-align: left;\">0.004</td><td style = \"text-align: left;\">0.004</td><td style = \"text-align: left;\">0.004</td><td style = \"text-align: left;\">0.004</td><td style = \"text-align: left;\">0.004</td><td style = \"text-align: left;\">0.004</td><td style = \"text-align: left;\">0.004</td><td style = \"text-align: left;\">0.004</td><td style = \"text-align: left;\">0.004</td><td style = \"text-align: left;\">0.004</td><td style = \"text-align: left;\">0.004</td><td style = \"text-align: left;\">0.004</td><td style = \"text-align: left;\">0.004</td><td style = \"text-align: left;\">0.004</td><td style = \"text-align: left;\">0.004</td><td style = \"text-align: left;\">0.004</td></tr><tr><td class = \"rowNumber\" style = \"font-weight: bold; text-align: right;\">134674</td><td style = \"text-align: left;\">20</td><td style = \"text-align: left;\">chr20:55744179</td><td style = \"text-align: left;\">55.7442</td><td style = \"text-align: left;\">55.7442</td><td style = \"text-align: left;\">2</td><td style = \"text-align: left;\">2</td><td style = \"text-align: left;\">2</td><td style = \"text-align: left;\">2</td><td style = \"text-align: left;\">1</td><td style = \"text-align: left;\">2</td><td style = \"text-align: left;\">2</td><td style = \"text-align: left;\">2</td><td style = \"text-align: left;\">2</td><td style = \"text-align: left;\">2</td><td style = \"text-align: left;\">2</td><td style = \"text-align: left;\">2</td><td style = \"text-align: left;\">2</td><td style = \"text-align: left;\">2</td><td style = \"text-align: left;\">2</td><td style = \"text-align: left;\">2</td><td style = \"text-align: left;\">2</td><td style = \"text-align: left;\">2</td><td style = \"text-align: left;\">2</td><td style = \"text-align: left;\">2</td><td style = \"text-align: left;\">2</td><td style = \"text-align: left;\">2</td><td style = \"text-align: left;\">2</td><td style = \"text-align: left;\">2</td><td style = \"text-align: left;\">2</td><td style = \"text-align: left;\">2</td><td style = \"text-align: left;\">2</td><td style = \"text-align: left;\">2</td><td style = \"text-align: left;\">2</td><td style = \"text-align: left;\">2</td><td style = \"text-align: left;\">2</td><td style = \"text-align: left;\">2</td><td style = \"text-align: left;\">2</td><td style = \"text-align: left;\">2</td><td style = \"text-align: left;\">2</td><td style = \"text-align: left;\">2</td><td style = \"text-align: left;\">2</td><td style = \"text-align: left;\">2</td><td style = \"text-align: left;\">2</td><td style = \"text-align: left;\">2</td><td style = \"text-align: left;\">1</td><td style = \"text-align: left;\">2</td><td style = \"text-align: left;\">2</td><td style = \"text-align: left;\">2</td><td style = \"text-align: left;\">2</td><td style = \"text-align: left;\">2</td><td style = \"text-align: left;\">2</td><td style = \"text-align: left;\">2</td><td style = \"text-align: left;\">2</td><td style = \"text-align: left;\">2</td><td style = \"text-align: left;\">2</td><td style = \"text-align: left;\">2</td><td style = \"text-align: left;\">2</td><td style = \"text-align: left;\">2</td><td style = \"text-align: left;\">2</td><td style = \"text-align: left;\">2</td><td style = \"text-align: left;\">2</td><td style = \"text-align: left;\">2</td><td style = \"text-align: left;\">2</td><td style = \"text-align: left;\">2</td><td style = \"text-align: left;\">2</td><td style = \"text-align: left;\">2</td><td style = \"text-align: left;\">2</td><td style = \"text-align: left;\">2</td><td style = \"text-align: left;\">2</td><td style = \"text-align: left;\">2</td><td style = \"text-align: left;\">2</td><td style = \"text-align: left;\">2</td><td style = \"text-align: left;\">2</td><td style = \"text-align: left;\">2</td><td style = \"text-align: left;\">2</td><td style = \"text-align: left;\">2</td><td style = \"text-align: left;\">2</td><td style = \"text-align: left;\">2</td><td style = \"text-align: left;\">2</td><td style = \"text-align: left;\">2</td><td style = \"text-align: left;\">2</td><td style = \"text-align: left;\">2</td><td style = \"text-align: left;\">2</td><td style = \"text-align: left;\">2</td></tr><tr><td class = \"rowNumber\" style = \"font-weight: bold; text-align: right;\">134675</td><td style = \"text-align: left;\">20</td><td style = \"text-align: left;\">chr20:55773139</td><td style = \"text-align: left;\">55.7731</td><td style = \"text-align: left;\">55.7731</td><td style = \"text-align: left;\">1.913</td><td style = \"text-align: left;\">1.913</td><td style = \"text-align: left;\">1.913</td><td style = \"text-align: left;\">1.913</td><td style = \"text-align: left;\">0.92902</td><td style = \"text-align: left;\">1.913</td><td style = \"text-align: left;\">1.913</td><td style = \"text-align: left;\">1.913</td><td style = \"text-align: left;\">1.913</td><td style = \"text-align: left;\">1.913</td><td style = \"text-align: left;\">1.913</td><td style = \"text-align: left;\">1.913</td><td style = \"text-align: left;\">1.913</td><td style = \"text-align: left;\">1.913</td><td style = \"text-align: left;\">1.91205</td><td style = \"text-align: left;\">1.913</td><td style = \"text-align: left;\">1.913</td><td style = \"text-align: left;\">1.913</td><td style = \"text-align: left;\">1.913</td><td style = \"text-align: left;\">1.913</td><td style = \"text-align: left;\">1.913</td><td style = \"text-align: left;\">1.913</td><td style = \"text-align: left;\">1.913</td><td style = \"text-align: left;\">1.913</td><td style = \"text-align: left;\">1.913</td><td style = \"text-align: left;\">1.913</td><td style = \"text-align: left;\">1.913</td><td style = \"text-align: left;\">1.913</td><td style = \"text-align: left;\">1.91205</td><td style = \"text-align: left;\">1.913</td><td style = \"text-align: left;\">1.913</td><td style = \"text-align: left;\">1.913</td><td style = \"text-align: left;\">1.913</td><td style = \"text-align: left;\">1.913</td><td style = \"text-align: left;\">1.913</td><td style = \"text-align: left;\">1.913</td><td style = \"text-align: left;\">1.913</td><td style = \"text-align: left;\">1.913</td><td style = \"text-align: left;\">1.913</td><td style = \"text-align: left;\">1.913</td><td style = \"text-align: left;\">0.959</td><td style = \"text-align: left;\">1.913</td><td style = \"text-align: left;\">1.913</td><td style = \"text-align: left;\">1.913</td><td style = \"text-align: left;\">1.913</td><td style = \"text-align: left;\">1.913</td><td style = \"text-align: left;\">1.913</td><td style = \"text-align: left;\">1.913</td><td style = \"text-align: left;\">1.913</td><td style = \"text-align: left;\">1.913</td><td style = \"text-align: left;\">1.913</td><td style = \"text-align: left;\">1.913</td><td style = \"text-align: left;\">1.913</td><td style = \"text-align: left;\">1.913</td><td style = \"text-align: left;\">1.913</td><td style = \"text-align: left;\">1.913</td><td style = \"text-align: left;\">1.913</td><td style = \"text-align: left;\">1.913</td><td style = \"text-align: left;\">1.913</td><td style = \"text-align: left;\">1.913</td><td style = \"text-align: left;\">1.913</td><td style = \"text-align: left;\">1.913</td><td style = \"text-align: left;\">1.913</td><td style = \"text-align: left;\">1.913</td><td style = \"text-align: left;\">1.91205</td><td style = \"text-align: left;\">1.913</td><td style = \"text-align: left;\">1.911</td><td style = \"text-align: left;\">1.913</td><td style = \"text-align: left;\">1.913</td><td style = \"text-align: left;\">1.913</td><td style = \"text-align: left;\">1.913</td><td style = \"text-align: left;\">1.913</td><td style = \"text-align: left;\">1.913</td><td style = \"text-align: left;\">1.913</td><td style = \"text-align: left;\">1.913</td><td style = \"text-align: left;\">1.913</td><td style = \"text-align: left;\">1.91205</td><td style = \"text-align: left;\">1.913</td><td style = \"text-align: left;\">1.913</td><td style = \"text-align: left;\">1.913</td></tr><tr><td class = \"rowNumber\" style = \"font-weight: bold; text-align: right;\">134676</td><td style = \"text-align: left;\">20</td><td style = \"text-align: left;\">chr20:55818290</td><td style = \"text-align: left;\">55.8183</td><td style = \"text-align: left;\">55.8183</td><td style = \"text-align: left;\">1.89703</td><td style = \"text-align: left;\">1.89703</td><td style = \"text-align: left;\">1.89703</td><td style = \"text-align: left;\">1.89703</td><td style = \"text-align: left;\">0.9049</td><td style = \"text-align: left;\">1.89703</td><td style = \"text-align: left;\">1.89703</td><td style = \"text-align: left;\">1.89703</td><td style = \"text-align: left;\">1.89703</td><td style = \"text-align: left;\">1.89703</td><td style = \"text-align: left;\">1.89703</td><td style = \"text-align: left;\">1.89703</td><td style = \"text-align: left;\">1.89703</td><td style = \"text-align: left;\">1.90485</td><td style = \"text-align: left;\">1.89703</td><td style = \"text-align: left;\">1.89703</td><td style = \"text-align: left;\">1.89703</td><td style = \"text-align: left;\">1.89703</td><td style = \"text-align: left;\">1.89703</td><td style = \"text-align: left;\">1.89703</td><td style = \"text-align: left;\">1.89703</td><td style = \"text-align: left;\">1.89703</td><td style = \"text-align: left;\">1.89703</td><td style = \"text-align: left;\">1.89703</td><td style = \"text-align: left;\">1.89703</td><td style = \"text-align: left;\">1.89703</td><td style = \"text-align: left;\">1.89703</td><td style = \"text-align: left;\">1.89703</td><td style = \"text-align: left;\">1.89703</td><td style = \"text-align: left;\">1.89703</td><td style = \"text-align: left;\">1.89703</td><td style = \"text-align: left;\">1.89703</td><td style = \"text-align: left;\">1.89703</td><td style = \"text-align: left;\">1.89716</td><td style = \"text-align: left;\">1.89703</td><td style = \"text-align: left;\">1.89703</td><td style = \"text-align: left;\">1.89703</td><td style = \"text-align: left;\">1.89703</td><td style = \"text-align: left;\">1.89703</td><td style = \"text-align: left;\">1.89703</td><td style = \"text-align: left;\">0.95502</td><td style = \"text-align: left;\">1.89703</td><td style = \"text-align: left;\">1.89703</td><td style = \"text-align: left;\">1.89703</td><td style = \"text-align: left;\">1.89703</td><td style = \"text-align: left;\">1.89703</td><td style = \"text-align: left;\">1.89703</td><td style = \"text-align: left;\">1.89703</td><td style = \"text-align: left;\">1.89703</td><td style = \"text-align: left;\">1.89703</td><td style = \"text-align: left;\">1.89703</td><td style = \"text-align: left;\">1.89703</td><td style = \"text-align: left;\">1.89703</td><td style = \"text-align: left;\">1.89703</td><td style = \"text-align: left;\">1.89703</td><td style = \"text-align: left;\">1.89703</td><td style = \"text-align: left;\">1.89703</td><td style = \"text-align: left;\">1.89703</td><td style = \"text-align: left;\">1.89703</td><td style = \"text-align: left;\">1.89703</td><td style = \"text-align: left;\">1.89703</td><td style = \"text-align: left;\">1.89703</td><td style = \"text-align: left;\">1.89703</td><td style = \"text-align: left;\">1.89703</td><td style = \"text-align: left;\">1.89703</td><td style = \"text-align: left;\">1.89703</td><td style = \"text-align: left;\">1.89703</td><td style = \"text-align: left;\">1.89703</td><td style = \"text-align: left;\">1.89703</td><td style = \"text-align: left;\">1.89703</td><td style = \"text-align: left;\">1.89703</td><td style = \"text-align: left;\">1.89703</td><td style = \"text-align: left;\">1.89703</td><td style = \"text-align: left;\">1.89703</td><td style = \"text-align: left;\">1.89703</td><td style = \"text-align: left;\">1.89703</td><td style = \"text-align: left;\">1.89703</td><td style = \"text-align: left;\">1.89703</td><td style = \"text-align: left;\">1.89703</td><td style = \"text-align: left;\">1.89703</td></tr><tr><td class = \"rowNumber\" style = \"font-weight: bold; text-align: right;\">134677</td><td style = \"text-align: left;\">20</td><td style = \"text-align: left;\">chr20:55944342</td><td style = \"text-align: left;\">55.9443</td><td style = \"text-align: left;\">55.9443</td><td style = \"text-align: left;\">2</td><td style = \"text-align: left;\">2</td><td style = \"text-align: left;\">2</td><td style = \"text-align: left;\">2</td><td style = \"text-align: left;\">1</td><td style = \"text-align: left;\">2</td><td style = \"text-align: left;\">2</td><td style = \"text-align: left;\">2</td><td style = \"text-align: left;\">2</td><td style = \"text-align: left;\">2</td><td style = \"text-align: left;\">2</td><td style = \"text-align: left;\">2</td><td style = \"text-align: left;\">2</td><td style = \"text-align: left;\">2</td><td style = \"text-align: left;\">2</td><td style = \"text-align: left;\">2</td><td style = \"text-align: left;\">2</td><td style = \"text-align: left;\">2</td><td style = \"text-align: left;\">2</td><td style = \"text-align: left;\">2</td><td style = \"text-align: left;\">2</td><td style = \"text-align: left;\">2</td><td style = \"text-align: left;\">2</td><td style = \"text-align: left;\">2</td><td style = \"text-align: left;\">2</td><td style = \"text-align: left;\">2</td><td style = \"text-align: left;\">2</td><td style = \"text-align: left;\">2</td><td style = \"text-align: left;\">2</td><td style = \"text-align: left;\">2</td><td style = \"text-align: left;\">2</td><td style = \"text-align: left;\">2</td><td style = \"text-align: left;\">2</td><td style = \"text-align: left;\">2</td><td style = \"text-align: left;\">2</td><td style = \"text-align: left;\">2</td><td style = \"text-align: left;\">2</td><td style = \"text-align: left;\">2</td><td style = \"text-align: left;\">2</td><td style = \"text-align: left;\">2</td><td style = \"text-align: left;\">1</td><td style = \"text-align: left;\">2</td><td style = \"text-align: left;\">2</td><td style = \"text-align: left;\">2</td><td style = \"text-align: left;\">2</td><td style = \"text-align: left;\">2</td><td style = \"text-align: left;\">2</td><td style = \"text-align: left;\">2</td><td style = \"text-align: left;\">2</td><td style = \"text-align: left;\">2</td><td style = \"text-align: left;\">2</td><td style = \"text-align: left;\">2</td><td style = \"text-align: left;\">2</td><td style = \"text-align: left;\">2</td><td style = \"text-align: left;\">2</td><td style = \"text-align: left;\">2</td><td style = \"text-align: left;\">2</td><td style = \"text-align: left;\">2</td><td style = \"text-align: left;\">2</td><td style = \"text-align: left;\">2</td><td style = \"text-align: left;\">2</td><td style = \"text-align: left;\">2</td><td style = \"text-align: left;\">2</td><td style = \"text-align: left;\">2</td><td style = \"text-align: left;\">2</td><td style = \"text-align: left;\">2</td><td style = \"text-align: left;\">2</td><td style = \"text-align: left;\">2</td><td style = \"text-align: left;\">2</td><td style = \"text-align: left;\">2</td><td style = \"text-align: left;\">2</td><td style = \"text-align: left;\">2</td><td style = \"text-align: left;\">2</td><td style = \"text-align: left;\">2</td><td style = \"text-align: left;\">2</td><td style = \"text-align: left;\">2</td><td style = \"text-align: left;\">2</td><td style = \"text-align: left;\">2</td><td style = \"text-align: left;\">2</td><td style = \"text-align: left;\">2</td></tr><tr><td class = \"rowNumber\" style = \"font-weight: bold; text-align: right;\">134678</td><td style = \"text-align: left;\">20</td><td style = \"text-align: left;\">chr20:55963803</td><td style = \"text-align: left;\">55.9638</td><td style = \"text-align: left;\">55.9638</td><td style = \"text-align: left;\">2</td><td style = \"text-align: left;\">2</td><td style = \"text-align: left;\">2</td><td style = \"text-align: left;\">2</td><td style = \"text-align: left;\">1</td><td style = \"text-align: left;\">2</td><td style = \"text-align: left;\">2</td><td style = \"text-align: left;\">2</td><td style = \"text-align: left;\">2</td><td style = \"text-align: left;\">2</td><td style = \"text-align: left;\">2</td><td style = \"text-align: left;\">1</td><td style = \"text-align: left;\">2</td><td style = \"text-align: left;\">2</td><td style = \"text-align: left;\">2</td><td style = \"text-align: left;\">2</td><td style = \"text-align: left;\">2</td><td style = \"text-align: left;\">2</td><td style = \"text-align: left;\">2</td><td style = \"text-align: left;\">2</td><td style = \"text-align: left;\">2</td><td style = \"text-align: left;\">2</td><td style = \"text-align: left;\">2</td><td style = \"text-align: left;\">2</td><td style = \"text-align: left;\">2</td><td style = \"text-align: left;\">2</td><td style = \"text-align: left;\">2</td><td style = \"text-align: left;\">2</td><td style = \"text-align: left;\">2</td><td style = \"text-align: left;\">2</td><td style = \"text-align: left;\">2</td><td style = \"text-align: left;\">2</td><td style = \"text-align: left;\">2</td><td style = \"text-align: left;\">2</td><td style = \"text-align: left;\">2</td><td style = \"text-align: left;\">2</td><td style = \"text-align: left;\">2</td><td style = \"text-align: left;\">2</td><td style = \"text-align: left;\">2</td><td style = \"text-align: left;\">2</td><td style = \"text-align: left;\">1</td><td style = \"text-align: left;\">2</td><td style = \"text-align: left;\">2</td><td style = \"text-align: left;\">2</td><td style = \"text-align: left;\">2</td><td style = \"text-align: left;\">2</td><td style = \"text-align: left;\">2</td><td style = \"text-align: left;\">2</td><td style = \"text-align: left;\">2</td><td style = \"text-align: left;\">2</td><td style = \"text-align: left;\">2</td><td style = \"text-align: left;\">2</td><td style = \"text-align: left;\">2</td><td style = \"text-align: left;\">2</td><td style = \"text-align: left;\">2</td><td style = \"text-align: left;\">2</td><td style = \"text-align: left;\">2</td><td style = \"text-align: left;\">2</td><td style = \"text-align: left;\">2</td><td style = \"text-align: left;\">2</td><td style = \"text-align: left;\">2</td><td style = \"text-align: left;\">2</td><td style = \"text-align: left;\">2</td><td style = \"text-align: left;\">2</td><td style = \"text-align: left;\">2</td><td style = \"text-align: left;\">2</td><td style = \"text-align: left;\">2</td><td style = \"text-align: left;\">2</td><td style = \"text-align: left;\">2</td><td style = \"text-align: left;\">2</td><td style = \"text-align: left;\">2</td><td style = \"text-align: left;\">2</td><td style = \"text-align: left;\">2</td><td style = \"text-align: left;\">2</td><td style = \"text-align: left;\">2</td><td style = \"text-align: left;\">2</td><td style = \"text-align: left;\">2</td><td style = \"text-align: left;\">2</td><td style = \"text-align: left;\">2</td><td style = \"text-align: left;\">2</td></tr><tr><td class = \"rowNumber\" style = \"font-weight: bold; text-align: right;\">134679</td><td style = \"text-align: left;\">20</td><td style = \"text-align: left;\">chr20:55991426</td><td style = \"text-align: left;\">55.9914</td><td style = \"text-align: left;\">55.9914</td><td style = \"text-align: left;\">1.998</td><td style = \"text-align: left;\">1.998</td><td style = \"text-align: left;\">1.998</td><td style = \"text-align: left;\">1.998</td><td style = \"text-align: left;\">0.996</td><td style = \"text-align: left;\">1.998</td><td style = \"text-align: left;\">1.998</td><td style = \"text-align: left;\">1.998</td><td style = \"text-align: left;\">1.998</td><td style = \"text-align: left;\">1.998</td><td style = \"text-align: left;\">1.998</td><td style = \"text-align: left;\">1.995</td><td style = \"text-align: left;\">1.998</td><td style = \"text-align: left;\">1.998</td><td style = \"text-align: left;\">1.998</td><td style = \"text-align: left;\">1.998</td><td style = \"text-align: left;\">1.998</td><td style = \"text-align: left;\">1.998</td><td style = \"text-align: left;\">1.998</td><td style = \"text-align: left;\">1.998</td><td style = \"text-align: left;\">1.998</td><td style = \"text-align: left;\">1.998</td><td style = \"text-align: left;\">1.998</td><td style = \"text-align: left;\">1.998</td><td style = \"text-align: left;\">1.998</td><td style = \"text-align: left;\">1.998</td><td style = \"text-align: left;\">1.998</td><td style = \"text-align: left;\">1.998</td><td style = \"text-align: left;\">1.998</td><td style = \"text-align: left;\">1.998</td><td style = \"text-align: left;\">1.998</td><td style = \"text-align: left;\">1.998</td><td style = \"text-align: left;\">1.998</td><td style = \"text-align: left;\">1.998</td><td style = \"text-align: left;\">1.998</td><td style = \"text-align: left;\">1.998</td><td style = \"text-align: left;\">1.998</td><td style = \"text-align: left;\">1.998</td><td style = \"text-align: left;\">1.998</td><td style = \"text-align: left;\">1.998</td><td style = \"text-align: left;\">1</td><td style = \"text-align: left;\">1.998</td><td style = \"text-align: left;\">1.998</td><td style = \"text-align: left;\">1.998</td><td style = \"text-align: left;\">1.998</td><td style = \"text-align: left;\">1.998</td><td style = \"text-align: left;\">1.998</td><td style = \"text-align: left;\">1.998</td><td style = \"text-align: left;\">1.998</td><td style = \"text-align: left;\">1.998</td><td style = \"text-align: left;\">1.998</td><td style = \"text-align: left;\">1.998</td><td style = \"text-align: left;\">1.998</td><td style = \"text-align: left;\">1.998</td><td style = \"text-align: left;\">1.998</td><td style = \"text-align: left;\">1.998</td><td style = \"text-align: left;\">1.998</td><td style = \"text-align: left;\">1.998</td><td style = \"text-align: left;\">1.998</td><td style = \"text-align: left;\">1.998</td><td style = \"text-align: left;\">1.998</td><td style = \"text-align: left;\">1.998</td><td style = \"text-align: left;\">1.998</td><td style = \"text-align: left;\">1.998</td><td style = \"text-align: left;\">1.998</td><td style = \"text-align: left;\">1.998</td><td style = \"text-align: left;\">1.998</td><td style = \"text-align: left;\">1.998</td><td style = \"text-align: left;\">1.998</td><td style = \"text-align: left;\">1.998</td><td style = \"text-align: left;\">1.998</td><td style = \"text-align: left;\">1.998</td><td style = \"text-align: left;\">1.998</td><td style = \"text-align: left;\">1.998</td><td style = \"text-align: left;\">1.998</td><td style = \"text-align: left;\">1.998</td><td style = \"text-align: left;\">1.998</td><td style = \"text-align: left;\">1.998</td><td style = \"text-align: left;\">1.998</td><td style = \"text-align: left;\">1.998</td></tr><tr><td class = \"rowNumber\" style = \"font-weight: bold; text-align: right;\">134680</td><td style = \"text-align: left;\">20</td><td style = \"text-align: left;\">chr20:55999627</td><td style = \"text-align: left;\">55.9996</td><td style = \"text-align: left;\">55.9996</td><td style = \"text-align: left;\">0.013</td><td style = \"text-align: left;\">0.013</td><td style = \"text-align: left;\">0.013</td><td style = \"text-align: left;\">0.013</td><td style = \"text-align: left;\">0.091</td><td style = \"text-align: left;\">0.013</td><td style = \"text-align: left;\">0.013</td><td style = \"text-align: left;\">0.013</td><td style = \"text-align: left;\">0.013</td><td style = \"text-align: left;\">0.013</td><td style = \"text-align: left;\">0.013</td><td style = \"text-align: left;\">0.014</td><td style = \"text-align: left;\">0.013</td><td style = \"text-align: left;\">0.013</td><td style = \"text-align: left;\">0.013</td><td style = \"text-align: left;\">0.013</td><td style = \"text-align: left;\">0.013</td><td style = \"text-align: left;\">0.013</td><td style = \"text-align: left;\">0.013</td><td style = \"text-align: left;\">0.013</td><td style = \"text-align: left;\">0.013</td><td style = \"text-align: left;\">0.013</td><td style = \"text-align: left;\">0.013</td><td style = \"text-align: left;\">0.013</td><td style = \"text-align: left;\">0.013</td><td style = \"text-align: left;\">0.013</td><td style = \"text-align: left;\">0.013</td><td style = \"text-align: left;\">0.013</td><td style = \"text-align: left;\">0.013</td><td style = \"text-align: left;\">0.013</td><td style = \"text-align: left;\">0.013</td><td style = \"text-align: left;\">0.013</td><td style = \"text-align: left;\">0.013</td><td style = \"text-align: left;\">0.013</td><td style = \"text-align: left;\">0.013</td><td style = \"text-align: left;\">0.013</td><td style = \"text-align: left;\">0.013</td><td style = \"text-align: left;\">0.013</td><td style = \"text-align: left;\">0.013</td><td style = \"text-align: left;\">0.013</td><td style = \"text-align: left;\">0.98798</td><td style = \"text-align: left;\">0.013</td><td style = \"text-align: left;\">0.013</td><td style = \"text-align: left;\">0.013</td><td style = \"text-align: left;\">0.013</td><td style = \"text-align: left;\">0.013</td><td style = \"text-align: left;\">0.013</td><td style = \"text-align: left;\">0.013</td><td style = \"text-align: left;\">0.013</td><td style = \"text-align: left;\">0.013</td><td style = \"text-align: left;\">0.013</td><td style = \"text-align: left;\">0.013</td><td style = \"text-align: left;\">0.013</td><td style = \"text-align: left;\">0.013</td><td style = \"text-align: left;\">0.013</td><td style = \"text-align: left;\">0.013</td><td style = \"text-align: left;\">0.013</td><td style = \"text-align: left;\">0.013</td><td style = \"text-align: left;\">0.013</td><td style = \"text-align: left;\">0.013</td><td style = \"text-align: left;\">0.013</td><td style = \"text-align: left;\">0.013</td><td style = \"text-align: left;\">0.013</td><td style = \"text-align: left;\">0.013</td><td style = \"text-align: left;\">0.013</td><td style = \"text-align: left;\">0.013</td><td style = \"text-align: left;\">0.013</td><td style = \"text-align: left;\">0.013</td><td style = \"text-align: left;\">0.013</td><td style = \"text-align: left;\">0.013</td><td style = \"text-align: left;\">0.013</td><td style = \"text-align: left;\">0.013</td><td style = \"text-align: left;\">0.013</td><td style = \"text-align: left;\">0.013</td><td style = \"text-align: left;\">0.013</td><td style = \"text-align: left;\">0.013</td><td style = \"text-align: left;\">0.013</td><td style = \"text-align: left;\">0.013</td><td style = \"text-align: left;\">0.013</td><td style = \"text-align: left;\">0.013</td></tr><tr><td class = \"rowNumber\" style = \"font-weight: bold; text-align: right;\">134681</td><td style = \"text-align: left;\">20</td><td style = \"text-align: left;\">chr20:56115597</td><td style = \"text-align: left;\">56.1156</td><td style = \"text-align: left;\">56.1156</td><td style = \"text-align: left;\">2</td><td style = \"text-align: left;\">2</td><td style = \"text-align: left;\">2</td><td style = \"text-align: left;\">2</td><td style = \"text-align: left;\">2</td><td style = \"text-align: left;\">2</td><td style = \"text-align: left;\">2</td><td style = \"text-align: left;\">2</td><td style = \"text-align: left;\">2</td><td style = \"text-align: left;\">2</td><td style = \"text-align: left;\">2</td><td style = \"text-align: left;\">2</td><td style = \"text-align: left;\">2</td><td style = \"text-align: left;\">2</td><td style = \"text-align: left;\">2</td><td style = \"text-align: left;\">2</td><td style = \"text-align: left;\">2</td><td style = \"text-align: left;\">2</td><td style = \"text-align: left;\">2</td><td style = \"text-align: left;\">2</td><td style = \"text-align: left;\">2</td><td style = \"text-align: left;\">2</td><td style = \"text-align: left;\">2</td><td style = \"text-align: left;\">2</td><td style = \"text-align: left;\">2</td><td style = \"text-align: left;\">2</td><td style = \"text-align: left;\">2</td><td style = \"text-align: left;\">2</td><td style = \"text-align: left;\">2</td><td style = \"text-align: left;\">2</td><td style = \"text-align: left;\">2</td><td style = \"text-align: left;\">2</td><td style = \"text-align: left;\">2</td><td style = \"text-align: left;\">2</td><td style = \"text-align: left;\">2</td><td style = \"text-align: left;\">2</td><td style = \"text-align: left;\">2</td><td style = \"text-align: left;\">2</td><td style = \"text-align: left;\">2</td><td style = \"text-align: left;\">2</td><td style = \"text-align: left;\">2</td><td style = \"text-align: left;\">2</td><td style = \"text-align: left;\">2</td><td style = \"text-align: left;\">2</td><td style = \"text-align: left;\">2</td><td style = \"text-align: left;\">2</td><td style = \"text-align: left;\">2</td><td style = \"text-align: left;\">2</td><td style = \"text-align: left;\">2</td><td style = \"text-align: left;\">2</td><td style = \"text-align: left;\">2</td><td style = \"text-align: left;\">1</td><td style = \"text-align: left;\">2</td><td style = \"text-align: left;\">2</td><td style = \"text-align: left;\">2</td><td style = \"text-align: left;\">2</td><td style = \"text-align: left;\">2</td><td style = \"text-align: left;\">2</td><td style = \"text-align: left;\">2</td><td style = \"text-align: left;\">2</td><td style = \"text-align: left;\">2</td><td style = \"text-align: left;\">2</td><td style = \"text-align: left;\">2</td><td style = \"text-align: left;\">2</td><td style = \"text-align: left;\">2</td><td style = \"text-align: left;\">2</td><td style = \"text-align: left;\">2</td><td style = \"text-align: left;\">2</td><td style = \"text-align: left;\">2</td><td style = \"text-align: left;\">2</td><td style = \"text-align: left;\">2</td><td style = \"text-align: left;\">2</td><td style = \"text-align: left;\">2</td><td style = \"text-align: left;\">2</td><td style = \"text-align: left;\">2</td><td style = \"text-align: left;\">2</td><td style = \"text-align: left;\">2</td><td style = \"text-align: left;\">2</td><td style = \"text-align: left;\">2</td><td style = \"text-align: left;\">2</td></tr></tbody></table></div>"
      ],
      "text/latex": [
       "\\begin{tabular}{r|ccccccccc}\n",
       "\t& Chr & Locus & cM & Mb & 00077E67B5 & 00077E76FE & 00077E8336 & 00077EA7E6 & \\\\\n",
       "\t\\hline\n",
       "\t& Any & Any & Any & Any & Any & Any & Any & Any & \\\\\n",
       "\t\\hline\n",
       "\t1 & 1 & chr1:55365 & 0.055365 & 0.055365 & 2 & 2 & 1 & 2 & $\\dots$ \\\\\n",
       "\t2 & 1 & chr1:666374 & 0.666374 & 0.666374 & 2 & 2 & 2 & 2 & $\\dots$ \\\\\n",
       "\t3 & 1 & chr1:666382 & 0.666382 & 0.666382 & 2 & 2 & 2 & 1 & $\\dots$ \\\\\n",
       "\t4 & 1 & chr1:666394 & 0.666394 & 0.666394 & 2 & 2 & 2 & 1 & $\\dots$ \\\\\n",
       "\t5 & 1 & chr1:669529 & 0.669529 & 0.669529 & 2 & 2 & 2 & 1 & $\\dots$ \\\\\n",
       "\t6 & 1 & chr1:669562 & 0.669562 & 0.669562 & 2 & 2 & 2 & 2 & $\\dots$ \\\\\n",
       "\t7 & 1 & chr1:671466 & 0.671466 & 0.671466 & 2 & 2 & 2 & 2 & $\\dots$ \\\\\n",
       "\t8 & 1 & chr1:759319 & 0.759319 & 0.759319 & 0.997 & 1.976 & 0.991 & 1.979 & $\\dots$ \\\\\n",
       "\t9 & 1 & chr1:1134030 & 1.13403 & 1.13403 & 1.941 & 1.559 & 1.006 & 1.994 & $\\dots$ \\\\\n",
       "\t10 & 1 & chr1:1139210 & 1.13921 & 1.13921 & 1.978 & 1.992 & 1.997 & 1.994 & $\\dots$ \\\\\n",
       "\t11 & 1 & chr1:1143318 & 1.14332 & 1.14332 & 0.031 & 0.39 & 0.99298 & 0.008 & $\\dots$ \\\\\n",
       "\t12 & 1 & chr1:1151014 & 1.15101 & 1.15101 & 1.997 & 1.997 & 1.998 & 1.997 & $\\dots$ \\\\\n",
       "\t13 & 1 & chr1:1151294 & 1.15129 & 1.15129 & 1.997 & 1.997 & 1.006 & 1.997 & $\\dots$ \\\\\n",
       "\t14 & 1 & chr1:1154467 & 1.15447 & 1.15447 & 1.988 & 1.997 & 1.005 & 1.998 & $\\dots$ \\\\\n",
       "\t15 & 1 & chr1:1154955 & 1.15495 & 1.15495 & 1 & 2 & 1 & 2 & $\\dots$ \\\\\n",
       "\t16 & 1 & chr1:1155023 & 1.15502 & 1.15502 & 2 & 2 & 2 & 2 & $\\dots$ \\\\\n",
       "\t17 & 1 & chr1:1192303 & 1.1923 & 1.1923 & 1.982 & 1.998 & 1.33636 & 1.997 & $\\dots$ \\\\\n",
       "\t18 & 1 & chr1:1229220 & 1.22922 & 1.22922 & 2 & 2 & 2 & 2 & $\\dots$ \\\\\n",
       "\t19 & 1 & chr1:1229237 & 1.22924 & 1.22924 & 2 & 2 & 1 & 2 & $\\dots$ \\\\\n",
       "\t20 & 1 & chr1:1232508 & 1.23251 & 1.23251 & 1.994 & 1.987 & 1.954 & 1.995 & $\\dots$ \\\\\n",
       "\t21 & 1 & chr1:1367999 & 1.368 & 1.368 & 2 & 2 & 2 & 2 & $\\dots$ \\\\\n",
       "\t22 & 1 & chr1:1369563 & 1.36956 & 1.36956 & 2 & 2 & 1 & 2 & $\\dots$ \\\\\n",
       "\t23 & 1 & chr1:1415027 & 1.41503 & 1.41503 & 2 & 2 & 1 & 2 & $\\dots$ \\\\\n",
       "\t24 & 1 & chr1:1482698 & 1.4827 & 1.4827 & 2 & 2 & 2 & 2 & $\\dots$ \\\\\n",
       "\t25 & 1 & chr1:1482711 & 1.48271 & 1.48271 & 2 & 2 & 2 & 2 & $\\dots$ \\\\\n",
       "\t26 & 1 & chr1:1482811 & 1.48281 & 1.48281 & 2 & 2 & 2 & 2 & $\\dots$ \\\\\n",
       "\t27 & 1 & chr1:1482825 & 1.48283 & 1.48283 & 2 & 2 & 2 & 2 & $\\dots$ \\\\\n",
       "\t28 & 1 & chr1:1482843 & 1.48284 & 1.48284 & 2 & 2 & 2 & 2 & $\\dots$ \\\\\n",
       "\t29 & 1 & chr1:1617593 & 1.61759 & 1.61759 & 1.985 & 1.997 & 1.942 & 1.994 & $\\dots$ \\\\\n",
       "\t30 & 1 & chr1:1649028 & 1.64903 & 1.64903 & 1 & 1 & 0.003 & 1.996 & $\\dots$ \\\\\n",
       "\t$\\dots$ & $\\dots$ & $\\dots$ & $\\dots$ & $\\dots$ & $\\dots$ & $\\dots$ & $\\dots$ & $\\dots$ &  \\\\\n",
       "\\end{tabular}\n"
      ],
      "text/plain": [
       "\u001b[1m134681×84 DataFrame\u001b[0m\n",
       "\u001b[1m    Row \u001b[0m│\u001b[1m Chr \u001b[0m\u001b[1m Locus          \u001b[0m\u001b[1m cM       \u001b[0m\u001b[1m Mb       \u001b[0m\u001b[1m 00077E67B5 \u001b[0m\u001b[1m 00077E76FE \u001b[0m\u001b[1m 000\u001b[0m ⋯\n",
       "        │\u001b[90m Any \u001b[0m\u001b[90m Any            \u001b[0m\u001b[90m Any      \u001b[0m\u001b[90m Any      \u001b[0m\u001b[90m Any        \u001b[0m\u001b[90m Any        \u001b[0m\u001b[90m Any\u001b[0m ⋯\n",
       "────────┼───────────────────────────────────────────────────────────────────────\n",
       "      1 │ 1    chr1:55365      0.055365  0.055365  2           2           1   ⋯\n",
       "      2 │ 1    chr1:666374     0.666374  0.666374  2           2           2\n",
       "      3 │ 1    chr1:666382     0.666382  0.666382  2           2           2\n",
       "      4 │ 1    chr1:666394     0.666394  0.666394  2           2           2\n",
       "      5 │ 1    chr1:669529     0.669529  0.669529  2           2           2   ⋯\n",
       "      6 │ 1    chr1:669562     0.669562  0.669562  2           2           2\n",
       "      7 │ 1    chr1:671466     0.671466  0.671466  2           2           2\n",
       "      8 │ 1    chr1:759319     0.759319  0.759319  0.997       1.976       0.9\n",
       "      9 │ 1    chr1:1134030    1.13403   1.13403   1.941       1.559       1.0 ⋯\n",
       "     10 │ 1    chr1:1139210    1.13921   1.13921   1.978       1.992       1.9\n",
       "     11 │ 1    chr1:1143318    1.14332   1.14332   0.031       0.39        0.9\n",
       "   ⋮    │  ⋮         ⋮            ⋮         ⋮          ⋮           ⋮           ⋱\n",
       " 134672 │ 20   chr20:55659520  55.6595   55.6595   1.913       1.913       1.9\n",
       " 134673 │ 20   chr20:55716379  55.7164   55.7164   0.004       0.004       0.0 ⋯\n",
       " 134674 │ 20   chr20:55744179  55.7442   55.7442   2           2           2\n",
       " 134675 │ 20   chr20:55773139  55.7731   55.7731   1.913       1.913       1.9\n",
       " 134676 │ 20   chr20:55818290  55.8183   55.8183   1.89703     1.89703     1.8\n",
       " 134677 │ 20   chr20:55944342  55.9443   55.9443   2           2           2   ⋯\n",
       " 134678 │ 20   chr20:55963803  55.9638   55.9638   2           2           2\n",
       " 134679 │ 20   chr20:55991426  55.9914   55.9914   1.998       1.998       1.9\n",
       " 134680 │ 20   chr20:55999627  55.9996   55.9996   0.013       0.013       0.0\n",
       " 134681 │ 20   chr20:56115597  56.1156   56.1156   2           2           2   ⋯\n",
       "\u001b[36m                                              78 columns and 134660 rows omitted\u001b[0m"
      ]
     },
     "execution_count": 117,
     "metadata": {},
     "output_type": "execute_result"
    }
   ],
   "source": [
    "omics_geno_df_nomissing = DataFrame(omics_geno_nomissing, omics_geno_colnames|> Array{String})"
   ]
  },
  {
   "cell_type": "code",
   "execution_count": 119,
   "id": "c5a29981-0eb0-4402-ad5d-0ec7531d7bef",
   "metadata": {},
   "outputs": [],
   "source": [
    "# CSV.write(\"/home/zyu20/shareddata/HSNIH-Palmer/HSNIH-Palmer_true_omics_geno_nomissing.csv\", omics_geno_df_nomissing)"
   ]
  },
  {
   "cell_type": "markdown",
   "id": "8fa34629-b485-48e0-bf86-ee394ebee63f",
   "metadata": {},
   "source": [
    "## Summary of issues of acquiring data from GN2:"
   ]
  },
  {
   "cell_type": "code",
   "execution_count": null,
   "id": "fde2c4fb-9ce3-4c63-bb5a-f4219828a304",
   "metadata": {},
   "outputs": [],
   "source": []
  }
 ],
 "metadata": {
  "kernelspec": {
   "display_name": "Julia 16 Threads 1.7.3",
   "language": "julia",
   "name": "julia-16-threads-1.7"
  },
  "language_info": {
   "file_extension": ".jl",
   "mimetype": "application/julia",
   "name": "julia",
   "version": "1.7.3"
  }
 },
 "nbformat": 4,
 "nbformat_minor": 5
}
