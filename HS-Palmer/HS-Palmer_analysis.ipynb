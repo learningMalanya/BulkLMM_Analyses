{
 "cells": [
  {
   "cell_type": "markdown",
   "id": "51c2201e-03ce-402f-b050-dcfabf1e53bf",
   "metadata": {},
   "source": [
    "## HS-Palmer omics traits analysis："
   ]
  },
  {
   "cell_type": "markdown",
   "id": "4a0da862-2c5c-48a4-ab15-dab1b01134b3",
   "metadata": {},
   "source": [
    "This notebook explains the process for obtaining and pre-processing omics mean genotype data of HS Rats used for downstream association studies."
   ]
  },
  {
   "cell_type": "code",
   "execution_count": 4,
   "id": "9587b035-4f5b-401a-9be2-58f5db20fbc4",
   "metadata": {},
   "outputs": [],
   "source": [
    "using CSV, DelimitedFiles, DataFrames, Missings, XLSX\n",
    "using LinearAlgebra, Statistics, Optim, StatsBase\n",
    "using Random, Distributions\n",
    "using BenchmarkTools\n",
    "using Plots"
   ]
  },
  {
   "cell_type": "code",
   "execution_count": 3,
   "id": "c1d83064-7cd9-4d4d-98cf-8983e6e24e43",
   "metadata": {},
   "outputs": [
    {
     "data": {
      "text/plain": [
       "\"/home/zyu20/git/BulkLMM_Analyses/HS-Palmer\""
      ]
     },
     "execution_count": 3,
     "metadata": {},
     "output_type": "execute_result"
    }
   ],
   "source": [
    "pwd()"
   ]
  },
  {
   "cell_type": "code",
   "execution_count": 4,
   "id": "b80482f2-c715-4010-b4de-fbf11a268885",
   "metadata": {},
   "outputs": [],
   "source": [
    "local_path = \"../../BulkLMM.jl/src\";"
   ]
  },
  {
   "cell_type": "code",
   "execution_count": 5,
   "id": "cb55560e-f0ab-475a-9d6b-51d9f5c56c68",
   "metadata": {},
   "outputs": [],
   "source": [
    "include(joinpath(local_path, \"kinship.jl\"));\n",
    "include(joinpath(local_path, \"util.jl\"));\n",
    "include(joinpath(local_path, \"wls.jl\"));\n",
    "include(joinpath(local_path, \"lmm.jl\"));\n",
    "include(joinpath(local_path, \"gridbrent.jl\"));\n",
    "include(joinpath(local_path, \"transform_helpers.jl\"));\n",
    "include(joinpath(local_path, \"scan.jl\"));\n",
    "include(joinpath(local_path, \"bulkscan_helpers.jl\"));\n",
    "include(joinpath(local_path, \"bulkscan.jl\"));\n",
    "include(joinpath(local_path, \"readData.jl\"));\n",
    "include(joinpath(local_path, \"../plot_utils/visuals_utils.jl\"));\n",
    "include(joinpath(local_path, \"analysis_helpers/single_trait_analysis.jl\"));\n",
    "include(\"../../BigRiver_util_code/src/kinship_utils.jl\");\n",
    "include(\"../../BigRiver_util_code/src/run_gemma_utils.jl\");"
   ]
  },
  {
   "cell_type": "markdown",
   "id": "fb693d6a-76a0-4c29-a57a-e67b06579aa9",
   "metadata": {},
   "source": [
    "### Load omics traits and convert to array:"
   ]
  },
  {
   "cell_type": "code",
   "execution_count": 5,
   "id": "1227f4b7-61a3-4ea3-b67e-412acfbf5e2a",
   "metadata": {},
   "outputs": [
    {
     "name": "stdout",
     "output_type": "stream",
     "text": [
      " 13.108736 seconds (8.59 M allocations: 486.350 MiB, 1.34% gc time, 90.16% compilation time)\n"
     ]
    }
   ],
   "source": [
    "@time omics_pheno_df = CSV.read(\"/home/zyu20/shareddata/HSNIH-Palmer/HSNIH-Rat-PL-RSeq-0818_nomissing.csv\", DataFrame);"
   ]
  },
  {
   "cell_type": "code",
   "execution_count": 6,
   "id": "89bb8c6c-00fb-40f1-b505-626dd0f29b18",
   "metadata": {},
   "outputs": [
    {
     "data": {
      "text/html": [
       "<div><div style = \"float: left;\"><span>10×10 DataFrame</span></div><div style = \"clear: both;\"></div></div><div class = \"data-frame\" style = \"overflow-x: scroll;\"><table class = \"data-frame\" style = \"margin-bottom: 6px;\"><thead><tr class = \"header\"><th class = \"rowNumber\" style = \"font-weight: bold; text-align: right;\">Row</th><th style = \"text-align: left;\">id</th><th style = \"text-align: left;\">ENSRNOG00000000001</th><th style = \"text-align: left;\">ENSRNOG00000000007</th><th style = \"text-align: left;\">ENSRNOG00000000008</th><th style = \"text-align: left;\">ENSRNOG00000000009</th><th style = \"text-align: left;\">ENSRNOG00000000010</th><th style = \"text-align: left;\">ENSRNOG00000000012</th><th style = \"text-align: left;\">ENSRNOG00000000017</th><th style = \"text-align: left;\">ENSRNOG00000000021</th><th style = \"text-align: left;\">ENSRNOG00000000024</th></tr><tr class = \"subheader headerLastRow\"><th class = \"rowNumber\" style = \"font-weight: bold; text-align: right;\"></th><th title = \"String15\" style = \"text-align: left;\">String15</th><th title = \"Float64\" style = \"text-align: left;\">Float64</th><th title = \"Float64\" style = \"text-align: left;\">Float64</th><th title = \"Float64\" style = \"text-align: left;\">Float64</th><th title = \"Float64\" style = \"text-align: left;\">Float64</th><th title = \"Float64\" style = \"text-align: left;\">Float64</th><th title = \"Float64\" style = \"text-align: left;\">Float64</th><th title = \"Float64\" style = \"text-align: left;\">Float64</th><th title = \"Float64\" style = \"text-align: left;\">Float64</th><th title = \"Float64\" style = \"text-align: left;\">Float64</th></tr></thead><tbody><tr><td class = \"rowNumber\" style = \"font-weight: bold; text-align: right;\">1</td><td style = \"text-align: left;\">00077E67B5</td><td style = \"text-align: right;\">3.6379</td><td style = \"text-align: right;\">11.9384</td><td style = \"text-align: right;\">1.5656</td><td style = \"text-align: right;\">0.142</td><td style = \"text-align: right;\">8.1366</td><td style = \"text-align: right;\">4.2163</td><td style = \"text-align: right;\">2.9092</td><td style = \"text-align: right;\">7.6822</td><td style = \"text-align: right;\">9.5078</td></tr><tr><td class = \"rowNumber\" style = \"font-weight: bold; text-align: right;\">2</td><td style = \"text-align: left;\">00077E76FE</td><td style = \"text-align: right;\">3.7742</td><td style = \"text-align: right;\">11.9253</td><td style = \"text-align: right;\">1.5245</td><td style = \"text-align: right;\">-0.068</td><td style = \"text-align: right;\">8.2848</td><td style = \"text-align: right;\">4.663</td><td style = \"text-align: right;\">2.8339</td><td style = \"text-align: right;\">7.8128</td><td style = \"text-align: right;\">9.5016</td></tr><tr><td class = \"rowNumber\" style = \"font-weight: bold; text-align: right;\">3</td><td style = \"text-align: left;\">00077E8336</td><td style = \"text-align: right;\">3.554</td><td style = \"text-align: right;\">12.2001</td><td style = \"text-align: right;\">1.3987</td><td style = \"text-align: right;\">-0.0679</td><td style = \"text-align: right;\">8.1853</td><td style = \"text-align: right;\">4.5741</td><td style = \"text-align: right;\">2.5846</td><td style = \"text-align: right;\">7.705</td><td style = \"text-align: right;\">9.4759</td></tr><tr><td class = \"rowNumber\" style = \"font-weight: bold; text-align: right;\">4</td><td style = \"text-align: left;\">00077EA7E6</td><td style = \"text-align: right;\">3.3301</td><td style = \"text-align: right;\">11.9553</td><td style = \"text-align: right;\">1.6367</td><td style = \"text-align: right;\">-0.0218</td><td style = \"text-align: right;\">8.066</td><td style = \"text-align: right;\">4.4902</td><td style = \"text-align: right;\">2.5845</td><td style = \"text-align: right;\">7.6575</td><td style = \"text-align: right;\">9.3513</td></tr><tr><td class = \"rowNumber\" style = \"font-weight: bold; text-align: right;\">5</td><td style = \"text-align: left;\">00078A0224</td><td style = \"text-align: right;\">3.5547</td><td style = \"text-align: right;\">12.0272</td><td style = \"text-align: right;\">1.5649</td><td style = \"text-align: right;\">-0.0217</td><td style = \"text-align: right;\">8.3169</td><td style = \"text-align: right;\">4.5341</td><td style = \"text-align: right;\">2.6773</td><td style = \"text-align: right;\">7.8402</td><td style = \"text-align: right;\">9.3225</td></tr><tr><td class = \"rowNumber\" style = \"font-weight: bold; text-align: right;\">6</td><td style = \"text-align: left;\">00078A02CB</td><td style = \"text-align: right;\">3.8215</td><td style = \"text-align: right;\">12.0395</td><td style = \"text-align: right;\">1.3515</td><td style = \"text-align: right;\">-0.0679</td><td style = \"text-align: right;\">8.3208</td><td style = \"text-align: right;\">4.5923</td><td style = \"text-align: right;\">2.6765</td><td style = \"text-align: right;\">7.6363</td><td style = \"text-align: right;\">9.4791</td></tr><tr><td class = \"rowNumber\" style = \"font-weight: bold; text-align: right;\">7</td><td style = \"text-align: left;\">00078A0A43</td><td style = \"text-align: right;\">3.6407</td><td style = \"text-align: right;\">12.0575</td><td style = \"text-align: right;\">1.4871</td><td style = \"text-align: right;\">-0.0678</td><td style = \"text-align: right;\">8.2847</td><td style = \"text-align: right;\">4.6763</td><td style = \"text-align: right;\">2.7223</td><td style = \"text-align: right;\">7.7997</td><td style = \"text-align: right;\">9.4048</td></tr><tr><td class = \"rowNumber\" style = \"font-weight: bold; text-align: right;\">8</td><td style = \"text-align: left;\">00078A18A7</td><td style = \"text-align: right;\">3.6343</td><td style = \"text-align: right;\">12.0777</td><td style = \"text-align: right;\">1.4854</td><td style = \"text-align: right;\">-0.0679</td><td style = \"text-align: right;\">8.0468</td><td style = \"text-align: right;\">4.7543</td><td style = \"text-align: right;\">2.7599</td><td style = \"text-align: right;\">7.8119</td><td style = \"text-align: right;\">9.3522</td></tr><tr><td class = \"rowNumber\" style = \"font-weight: bold; text-align: right;\">9</td><td style = \"text-align: left;\">00078A193E</td><td style = \"text-align: right;\">3.6807</td><td style = \"text-align: right;\">12.1188</td><td style = \"text-align: right;\">1.5244</td><td style = \"text-align: right;\">-0.068</td><td style = \"text-align: right;\">8.1551</td><td style = \"text-align: right;\">4.8433</td><td style = \"text-align: right;\">2.7173</td><td style = \"text-align: right;\">7.9472</td><td style = \"text-align: right;\">9.2675</td></tr><tr><td class = \"rowNumber\" style = \"font-weight: bold; text-align: right;\">10</td><td style = \"text-align: left;\">00078A19A7</td><td style = \"text-align: right;\">3.8224</td><td style = \"text-align: right;\">12.0631</td><td style = \"text-align: right;\">1.3515</td><td style = \"text-align: right;\">-0.0679</td><td style = \"text-align: right;\">8.4357</td><td style = \"text-align: right;\">4.5116</td><td style = \"text-align: right;\">2.5344</td><td style = \"text-align: right;\">7.7446</td><td style = \"text-align: right;\">9.3388</td></tr></tbody></table></div>"
      ],
      "text/latex": [
       "\\begin{tabular}{r|cccccc}\n",
       "\t& id & ENSRNOG00000000001 & ENSRNOG00000000007 & ENSRNOG00000000008 & ENSRNOG00000000009 & \\\\\n",
       "\t\\hline\n",
       "\t& String15 & Float64 & Float64 & Float64 & Float64 & \\\\\n",
       "\t\\hline\n",
       "\t1 & 00077E67B5 & 3.6379 & 11.9384 & 1.5656 & 0.142 & $\\dots$ \\\\\n",
       "\t2 & 00077E76FE & 3.7742 & 11.9253 & 1.5245 & -0.068 & $\\dots$ \\\\\n",
       "\t3 & 00077E8336 & 3.554 & 12.2001 & 1.3987 & -0.0679 & $\\dots$ \\\\\n",
       "\t4 & 00077EA7E6 & 3.3301 & 11.9553 & 1.6367 & -0.0218 & $\\dots$ \\\\\n",
       "\t5 & 00078A0224 & 3.5547 & 12.0272 & 1.5649 & -0.0217 & $\\dots$ \\\\\n",
       "\t6 & 00078A02CB & 3.8215 & 12.0395 & 1.3515 & -0.0679 & $\\dots$ \\\\\n",
       "\t7 & 00078A0A43 & 3.6407 & 12.0575 & 1.4871 & -0.0678 & $\\dots$ \\\\\n",
       "\t8 & 00078A18A7 & 3.6343 & 12.0777 & 1.4854 & -0.0679 & $\\dots$ \\\\\n",
       "\t9 & 00078A193E & 3.6807 & 12.1188 & 1.5244 & -0.068 & $\\dots$ \\\\\n",
       "\t10 & 00078A19A7 & 3.8224 & 12.0631 & 1.3515 & -0.0679 & $\\dots$ \\\\\n",
       "\\end{tabular}\n"
      ],
      "text/plain": [
       "\u001b[1m10×10 DataFrame\u001b[0m\n",
       "\u001b[1m Row \u001b[0m│\u001b[1m id         \u001b[0m\u001b[1m ENSRNOG00000000001 \u001b[0m\u001b[1m ENSRNOG00000000007 \u001b[0m\u001b[1m ENSRNOG00000000008 \u001b[0m\u001b[1m\u001b[0m ⋯\n",
       "     │\u001b[90m String15   \u001b[0m\u001b[90m Float64            \u001b[0m\u001b[90m Float64            \u001b[0m\u001b[90m Float64            \u001b[0m\u001b[90m\u001b[0m ⋯\n",
       "─────┼──────────────────────────────────────────────────────────────────────────\n",
       "   1 │ 00077E67B5              3.6379             11.9384              1.5656  ⋯\n",
       "   2 │ 00077E76FE              3.7742             11.9253              1.5245\n",
       "   3 │ 00077E8336              3.554              12.2001              1.3987\n",
       "   4 │ 00077EA7E6              3.3301             11.9553              1.6367\n",
       "   5 │ 00078A0224              3.5547             12.0272              1.5649  ⋯\n",
       "   6 │ 00078A02CB              3.8215             12.0395              1.3515\n",
       "   7 │ 00078A0A43              3.6407             12.0575              1.4871\n",
       "   8 │ 00078A18A7              3.6343             12.0777              1.4854\n",
       "   9 │ 00078A193E              3.6807             12.1188              1.5244  ⋯\n",
       "  10 │ 00078A19A7              3.8224             12.0631              1.3515\n",
       "\u001b[36m                                                               6 columns omitted\u001b[0m"
      ]
     },
     "execution_count": 6,
     "metadata": {},
     "output_type": "execute_result"
    }
   ],
   "source": [
    "omics_pheno_df[1:10, 1:10]"
   ]
  },
  {
   "cell_type": "markdown",
   "id": "4ba19b60-3839-4f5d-b71c-43a3a1f5d211",
   "metadata": {},
   "source": [
    "Column names are the names of the omics:"
   ]
  },
  {
   "cell_type": "code",
   "execution_count": 7,
   "id": "f1e84911-af98-404e-83ad-41a35dbd0225",
   "metadata": {},
   "outputs": [
    {
     "data": {
      "text/plain": [
       "6-element Vector{String}:\n",
       " \"id\"\n",
       " \"ENSRNOG00000000001\"\n",
       " \"ENSRNOG00000000007\"\n",
       " \"ENSRNOG00000000008\"\n",
       " \"ENSRNOG00000000009\"\n",
       " \"ENSRNOG00000000010\""
      ]
     },
     "execution_count": 7,
     "metadata": {},
     "output_type": "execute_result"
    }
   ],
   "source": [
    "names(omics_pheno_df)[1:6]"
   ]
  },
  {
   "cell_type": "markdown",
   "id": "f8b81aff-0802-4e8a-9eac-57f2836130e4",
   "metadata": {},
   "source": [
    "Row names are the ID's of the samples. Obtaining sample id's for the samples of the omics traits..."
   ]
  },
  {
   "cell_type": "code",
   "execution_count": 8,
   "id": "93187a31-c8bf-43e8-bb4c-7dadf3b3adf9",
   "metadata": {},
   "outputs": [],
   "source": [
    "sample_ids = omics_pheno_df[:, 1];"
   ]
  },
  {
   "cell_type": "markdown",
   "id": "66e35a2a-c5aa-4d48-827f-41704df43617",
   "metadata": {},
   "source": [
    "Get the numeric array of the traits data..."
   ]
  },
  {
   "cell_type": "code",
   "execution_count": 12,
   "id": "cc54bd1e-6b62-4a17-b3a2-856855f243bc",
   "metadata": {},
   "outputs": [
    {
     "data": {
      "text/plain": [
       "6×32623 Matrix{Float64}:\n",
       " 3.6379  11.9384  1.5656   0.142   …  0.0  0.0  0.0  0.0  0.0  0.0  0.0\n",
       " 3.7742  11.9253  1.5245  -0.068      0.0  0.0  0.0  0.0  0.0  0.0  0.0\n",
       " 3.554   12.2001  1.3987  -0.0679     0.0  0.0  0.0  0.0  0.0  0.0  0.0\n",
       " 3.3301  11.9553  1.6367  -0.0218     0.0  0.0  0.0  0.0  0.0  0.0  0.0\n",
       " 3.5547  12.0272  1.5649  -0.0217     0.0  0.0  0.0  0.0  0.0  0.0  0.0\n",
       " 3.8215  12.0395  1.3515  -0.0679  …  0.0  0.0  0.0  0.0  0.0  0.0  0.0"
      ]
     },
     "execution_count": 12,
     "metadata": {},
     "output_type": "execute_result"
    }
   ],
   "source": [
    "omics_pheno = omics_pheno_df[:, 2:end] |> Matrix{Float64};\n",
    "omics_pheno[1:6, :]"
   ]
  },
  {
   "cell_type": "markdown",
   "id": "04a2e8f3-87f3-4a86-9667-f03606c8d75c",
   "metadata": {},
   "source": [
    "Notice that there are some traits with all 0.0 values. Remove missings or columns of all 0's..."
   ]
  },
  {
   "cell_type": "code",
   "execution_count": 10,
   "id": "8b0578cb-b1b3-440b-935a-3f22f433d8c5",
   "metadata": {},
   "outputs": [],
   "source": [
    "no_value_traits = vec(sum(omics_pheno, dims = 1) .== 0.0);"
   ]
  },
  {
   "cell_type": "code",
   "execution_count": 11,
   "id": "43970297-7bc5-4edc-b60c-3fc6643a5016",
   "metadata": {},
   "outputs": [],
   "source": [
    "omics_pheno_processed = omics_pheno[:, map(x -> x .== 0.0, no_value_traits)];"
   ]
  },
  {
   "cell_type": "markdown",
   "id": "969a0e73-5d18-4f18-9884-217070b25812",
   "metadata": {
    "tags": []
   },
   "source": [
    "### Load omics genotype data and convert to array:"
   ]
  },
  {
   "cell_type": "code",
   "execution_count": 14,
   "id": "a19fa44d-e508-4558-aa40-c1189c8f02a6",
   "metadata": {},
   "outputs": [
    {
     "name": "stdout",
     "output_type": "stream",
     "text": [
      "  2.634146 seconds (7.03 M allocations: 436.083 MiB, 4.59% gc time, 97.02% compilation time)\n"
     ]
    }
   ],
   "source": [
    "@time omics_geno_df = CSV.read(\"/home/zyu20/shareddata/HSNIH-Palmer/HSNIH-Palmer_true_omics_geno_nomissing.csv\", DataFrame);"
   ]
  },
  {
   "cell_type": "code",
   "execution_count": 16,
   "id": "db4eb668-c422-4adf-a83a-48b1c89ddc27",
   "metadata": {},
   "outputs": [
    {
     "data": {
      "text/html": [
       "<div><div style = \"float: left;\"><span>134681×84 DataFrame</span></div><div style = \"float: right;\"><span style = \"font-style: italic;\">134656 rows omitted</span></div><div style = \"clear: both;\"></div></div><div class = \"data-frame\" style = \"overflow-x: scroll;\"><table class = \"data-frame\" style = \"margin-bottom: 6px;\"><thead><tr class = \"header\"><th class = \"rowNumber\" style = \"font-weight: bold; text-align: right;\">Row</th><th style = \"text-align: left;\">Chr</th><th style = \"text-align: left;\">Locus</th><th style = \"text-align: left;\">cM</th><th style = \"text-align: left;\">Mb</th><th style = \"text-align: left;\">00077E67B5</th><th style = \"text-align: left;\">00077E76FE</th><th style = \"text-align: left;\">00077E8336</th><th style = \"text-align: left;\">00077EA7E6</th><th style = \"text-align: left;\">00078A002C</th><th style = \"text-align: left;\">00078A0041</th><th style = \"text-align: left;\">00078A0058</th><th style = \"text-align: left;\">00078A0085</th><th style = \"text-align: left;\">00078A00AC</th><th style = \"text-align: left;\">00078A00BF</th><th style = \"text-align: left;\">00078A01A6</th><th style = \"text-align: left;\">00078A01C0</th><th style = \"text-align: left;\">00078A01D8</th><th style = \"text-align: left;\">00078A01DB</th><th style = \"text-align: left;\">00078A01FE</th><th style = \"text-align: left;\">00078A02CB</th><th style = \"text-align: left;\">00078A02DF</th><th style = \"text-align: left;\">00078A07A2</th><th style = \"text-align: left;\">00078A09B1</th><th style = \"text-align: left;\">00078A021A</th><th style = \"text-align: left;\">00078A022D</th><th style = \"text-align: left;\">00078A087B</th><th style = \"text-align: left;\">00078A096C</th><th style = \"text-align: left;\">00078A0127</th><th style = \"text-align: left;\">00078A0138</th><th style = \"text-align: left;\">00078A0139</th><th style = \"text-align: left;\">00078A0166</th><th style = \"text-align: left;\">00078A0215</th><th style = \"text-align: left;\">00078A0224</th><th style = \"text-align: left;\">00078A0246</th><th style = \"text-align: left;\">00078A0255</th><th style = \"text-align: left;\">00078A0A43</th><th style = \"text-align: left;\">00078A0AEA</th><th style = \"text-align: left;\">00078A1A2B</th><th style = \"text-align: left;\">00078A1A16</th><th style = \"text-align: left;\">00078A1B05</th><th style = \"text-align: left;\">00078A1F34</th><th style = \"text-align: left;\">00078A16D3</th><th style = \"text-align: left;\">00078A16DF</th><th style = \"text-align: left;\">00078A17F7</th><th style = \"text-align: left;\">00078A18A7</th><th style = \"text-align: left;\">00078A18CF</th><th style = \"text-align: left;\">00078A18F7</th><th style = \"text-align: left;\">00078A19A7</th><th style = \"text-align: left;\">00078A19B5</th><th style = \"text-align: left;\">00078A19C0</th><th style = \"text-align: left;\">00078A19D6</th><th style = \"text-align: left;\">00078A22DF</th><th style = \"text-align: left;\">00078A22EB</th><th style = \"text-align: left;\">00078A179C</th><th style = \"text-align: left;\">00078A181B</th><th style = \"text-align: left;\">00078A186C</th><th style = \"text-align: left;\">00078A192C</th><th style = \"text-align: left;\">00078A193E</th><th style = \"text-align: left;\">00078A194B</th><th style = \"text-align: left;\">00078A261F</th><th style = \"text-align: left;\">00078A1707</th><th style = \"text-align: left;\">00078A1731</th><th style = \"text-align: left;\">00078A1732</th><th style = \"text-align: left;\">00078A1772</th><th style = \"text-align: left;\">00078A1807</th><th style = \"text-align: left;\">00078A1816</th><th style = \"text-align: left;\">00078A1837</th><th style = \"text-align: left;\">00078A1863</th><th style = \"text-align: left;\">00078A1875</th><th style = \"text-align: left;\">00078A1937</th><th style = \"text-align: left;\">00078A1942</th><th style = \"text-align: left;\">00078A1979</th><th style = \"text-align: left;\">00078A2315</th><th style = \"text-align: left;\">00078A2463</th><th style = \"text-align: left;\">00078A2496</th><th style = \"text-align: left;\">00078A2595</th><th style = \"text-align: left;\">00078A2667</th><th style = \"text-align: left;\">000789FF6E</th><th style = \"text-align: left;\">000789FF7D</th><th style = \"text-align: left;\">000789FF94</th><th style = \"text-align: left;\">000789FFD3</th><th style = \"text-align: left;\">000789FFF0</th><th style = \"text-align: left;\">000789FFF8</th><th style = \"text-align: left;\">000789FFF9</th></tr><tr class = \"subheader headerLastRow\"><th class = \"rowNumber\" style = \"font-weight: bold; text-align: right;\"></th><th title = \"Int64\" style = \"text-align: left;\">Int64</th><th title = \"String15\" style = \"text-align: left;\">String15</th><th title = \"Float64\" style = \"text-align: left;\">Float64</th><th title = \"Float64\" style = \"text-align: left;\">Float64</th><th title = \"Float64\" style = \"text-align: left;\">Float64</th><th title = \"Float64\" style = \"text-align: left;\">Float64</th><th title = \"Float64\" style = \"text-align: left;\">Float64</th><th title = \"Float64\" style = \"text-align: left;\">Float64</th><th title = \"Float64\" style = \"text-align: left;\">Float64</th><th title = \"Float64\" style = \"text-align: left;\">Float64</th><th title = \"Float64\" style = \"text-align: left;\">Float64</th><th title = \"Float64\" style = \"text-align: left;\">Float64</th><th title = \"Float64\" style = \"text-align: left;\">Float64</th><th title = \"Float64\" style = \"text-align: left;\">Float64</th><th title = \"Float64\" style = \"text-align: left;\">Float64</th><th title = \"Float64\" style = \"text-align: left;\">Float64</th><th title = \"Float64\" style = \"text-align: left;\">Float64</th><th title = \"Float64\" style = \"text-align: left;\">Float64</th><th title = \"Float64\" style = \"text-align: left;\">Float64</th><th title = \"Float64\" style = \"text-align: left;\">Float64</th><th title = \"Float64\" style = \"text-align: left;\">Float64</th><th title = \"Float64\" style = \"text-align: left;\">Float64</th><th title = \"Float64\" style = \"text-align: left;\">Float64</th><th title = \"Float64\" style = \"text-align: left;\">Float64</th><th title = \"Float64\" style = \"text-align: left;\">Float64</th><th title = \"Float64\" style = \"text-align: left;\">Float64</th><th title = \"Float64\" style = \"text-align: left;\">Float64</th><th title = \"Float64\" style = \"text-align: left;\">Float64</th><th title = \"Float64\" style = \"text-align: left;\">Float64</th><th title = \"Float64\" style = \"text-align: left;\">Float64</th><th title = \"Float64\" style = \"text-align: left;\">Float64</th><th title = \"Float64\" style = \"text-align: left;\">Float64</th><th title = \"Float64\" style = \"text-align: left;\">Float64</th><th title = \"Float64\" style = \"text-align: left;\">Float64</th><th title = \"Float64\" style = \"text-align: left;\">Float64</th><th title = \"Float64\" style = \"text-align: left;\">Float64</th><th title = \"Float64\" style = \"text-align: left;\">Float64</th><th title = \"Float64\" style = \"text-align: left;\">Float64</th><th title = \"Float64\" style = \"text-align: left;\">Float64</th><th title = \"Float64\" style = \"text-align: left;\">Float64</th><th title = \"Float64\" style = \"text-align: left;\">Float64</th><th title = \"Float64\" style = \"text-align: left;\">Float64</th><th title = \"Float64\" style = \"text-align: left;\">Float64</th><th title = \"Float64\" style = \"text-align: left;\">Float64</th><th title = \"Float64\" style = \"text-align: left;\">Float64</th><th title = \"Float64\" style = \"text-align: left;\">Float64</th><th title = \"Float64\" style = \"text-align: left;\">Float64</th><th title = \"Float64\" style = \"text-align: left;\">Float64</th><th title = \"Float64\" style = \"text-align: left;\">Float64</th><th title = \"Float64\" style = \"text-align: left;\">Float64</th><th title = \"Float64\" style = \"text-align: left;\">Float64</th><th title = \"Float64\" style = \"text-align: left;\">Float64</th><th title = \"Float64\" style = \"text-align: left;\">Float64</th><th title = \"Float64\" style = \"text-align: left;\">Float64</th><th title = \"Float64\" style = \"text-align: left;\">Float64</th><th title = \"Float64\" style = \"text-align: left;\">Float64</th><th title = \"Float64\" style = \"text-align: left;\">Float64</th><th title = \"Float64\" style = \"text-align: left;\">Float64</th><th title = \"Float64\" style = \"text-align: left;\">Float64</th><th title = \"Float64\" style = \"text-align: left;\">Float64</th><th title = \"Float64\" style = \"text-align: left;\">Float64</th><th title = \"Float64\" style = \"text-align: left;\">Float64</th><th title = \"Float64\" style = \"text-align: left;\">Float64</th><th title = \"Float64\" style = \"text-align: left;\">Float64</th><th title = \"Float64\" style = \"text-align: left;\">Float64</th><th title = \"Float64\" style = \"text-align: left;\">Float64</th><th title = \"Float64\" style = \"text-align: left;\">Float64</th><th title = \"Float64\" style = \"text-align: left;\">Float64</th><th title = \"Float64\" style = \"text-align: left;\">Float64</th><th title = \"Float64\" style = \"text-align: left;\">Float64</th><th title = \"Float64\" style = \"text-align: left;\">Float64</th><th title = \"Float64\" style = \"text-align: left;\">Float64</th><th title = \"Float64\" style = \"text-align: left;\">Float64</th><th title = \"Float64\" style = \"text-align: left;\">Float64</th><th title = \"Float64\" style = \"text-align: left;\">Float64</th><th title = \"Float64\" style = \"text-align: left;\">Float64</th><th title = \"Float64\" style = \"text-align: left;\">Float64</th><th title = \"Float64\" style = \"text-align: left;\">Float64</th><th title = \"Float64\" style = \"text-align: left;\">Float64</th><th title = \"Float64\" style = \"text-align: left;\">Float64</th><th title = \"Float64\" style = \"text-align: left;\">Float64</th><th title = \"Float64\" style = \"text-align: left;\">Float64</th><th title = \"Float64\" style = \"text-align: left;\">Float64</th><th title = \"Float64\" style = \"text-align: left;\">Float64</th></tr></thead><tbody><tr><td class = \"rowNumber\" style = \"font-weight: bold; text-align: right;\">1</td><td style = \"text-align: right;\">1</td><td style = \"text-align: left;\">chr1:55365</td><td style = \"text-align: right;\">0.055365</td><td style = \"text-align: right;\">0.055365</td><td style = \"text-align: right;\">2.0</td><td style = \"text-align: right;\">2.0</td><td style = \"text-align: right;\">1.0</td><td style = \"text-align: right;\">2.0</td><td style = \"text-align: right;\">2.0</td><td style = \"text-align: right;\">2.0</td><td style = \"text-align: right;\">1.0</td><td style = \"text-align: right;\">2.0</td><td style = \"text-align: right;\">2.0</td><td style = \"text-align: right;\">2.0</td><td style = \"text-align: right;\">2.0</td><td style = \"text-align: right;\">2.0</td><td style = \"text-align: right;\">2.0</td><td style = \"text-align: right;\">2.0</td><td style = \"text-align: right;\">2.0</td><td style = \"text-align: right;\">2.0</td><td style = \"text-align: right;\">2.0</td><td style = \"text-align: right;\">2.0</td><td style = \"text-align: right;\">2.0</td><td style = \"text-align: right;\">2.0</td><td style = \"text-align: right;\">2.0</td><td style = \"text-align: right;\">2.0</td><td style = \"text-align: right;\">2.0</td><td style = \"text-align: right;\">2.0</td><td style = \"text-align: right;\">2.0</td><td style = \"text-align: right;\">2.0</td><td style = \"text-align: right;\">2.0</td><td style = \"text-align: right;\">2.0</td><td style = \"text-align: right;\">2.0</td><td style = \"text-align: right;\">2.0</td><td style = \"text-align: right;\">2.0</td><td style = \"text-align: right;\">1.0</td><td style = \"text-align: right;\">2.0</td><td style = \"text-align: right;\">2.0</td><td style = \"text-align: right;\">2.0</td><td style = \"text-align: right;\">1.0</td><td style = \"text-align: right;\">2.0</td><td style = \"text-align: right;\">2.0</td><td style = \"text-align: right;\">2.0</td><td style = \"text-align: right;\">1.0</td><td style = \"text-align: right;\">2.0</td><td style = \"text-align: right;\">2.0</td><td style = \"text-align: right;\">2.0</td><td style = \"text-align: right;\">2.0</td><td style = \"text-align: right;\">1.0</td><td style = \"text-align: right;\">2.0</td><td style = \"text-align: right;\">2.0</td><td style = \"text-align: right;\">2.0</td><td style = \"text-align: right;\">2.0</td><td style = \"text-align: right;\">2.0</td><td style = \"text-align: right;\">2.0</td><td style = \"text-align: right;\">2.0</td><td style = \"text-align: right;\">2.0</td><td style = \"text-align: right;\">2.0</td><td style = \"text-align: right;\">2.0</td><td style = \"text-align: right;\">2.0</td><td style = \"text-align: right;\">2.0</td><td style = \"text-align: right;\">2.0</td><td style = \"text-align: right;\">2.0</td><td style = \"text-align: right;\">2.0</td><td style = \"text-align: right;\">1.0</td><td style = \"text-align: right;\">2.0</td><td style = \"text-align: right;\">1.0</td><td style = \"text-align: right;\">2.0</td><td style = \"text-align: right;\">2.0</td><td style = \"text-align: right;\">2.0</td><td style = \"text-align: right;\">2.0</td><td style = \"text-align: right;\">2.0</td><td style = \"text-align: right;\">2.0</td><td style = \"text-align: right;\">2.0</td><td style = \"text-align: right;\">2.0</td><td style = \"text-align: right;\">2.0</td><td style = \"text-align: right;\">2.0</td><td style = \"text-align: right;\">2.0</td><td style = \"text-align: right;\">2.0</td><td style = \"text-align: right;\">2.0</td><td style = \"text-align: right;\">2.0</td><td style = \"text-align: right;\">1.0</td><td style = \"text-align: right;\">2.0</td><td style = \"text-align: right;\">2.0</td></tr><tr><td class = \"rowNumber\" style = \"font-weight: bold; text-align: right;\">2</td><td style = \"text-align: right;\">1</td><td style = \"text-align: left;\">chr1:666374</td><td style = \"text-align: right;\">0.666374</td><td style = \"text-align: right;\">0.666374</td><td style = \"text-align: right;\">2.0</td><td style = \"text-align: right;\">2.0</td><td style = \"text-align: right;\">2.0</td><td style = \"text-align: right;\">2.0</td><td style = \"text-align: right;\">2.0</td><td style = \"text-align: right;\">2.0</td><td style = \"text-align: right;\">1.0</td><td style = \"text-align: right;\">2.0</td><td style = \"text-align: right;\">2.0</td><td style = \"text-align: right;\">2.0</td><td style = \"text-align: right;\">2.0</td><td style = \"text-align: right;\">2.0</td><td style = \"text-align: right;\">2.0</td><td style = \"text-align: right;\">2.0</td><td style = \"text-align: right;\">2.0</td><td style = \"text-align: right;\">2.0</td><td style = \"text-align: right;\">2.0</td><td style = \"text-align: right;\">2.0</td><td style = \"text-align: right;\">2.0</td><td style = \"text-align: right;\">2.0</td><td style = \"text-align: right;\">2.0</td><td style = \"text-align: right;\">2.0</td><td style = \"text-align: right;\">2.0</td><td style = \"text-align: right;\">2.0</td><td style = \"text-align: right;\">2.0</td><td style = \"text-align: right;\">1.0</td><td style = \"text-align: right;\">2.0</td><td style = \"text-align: right;\">2.0</td><td style = \"text-align: right;\">2.0</td><td style = \"text-align: right;\">2.0</td><td style = \"text-align: right;\">2.0</td><td style = \"text-align: right;\">1.0</td><td style = \"text-align: right;\">2.0</td><td style = \"text-align: right;\">2.0</td><td style = \"text-align: right;\">2.0</td><td style = \"text-align: right;\">2.0</td><td style = \"text-align: right;\">2.0</td><td style = \"text-align: right;\">2.0</td><td style = \"text-align: right;\">2.0</td><td style = \"text-align: right;\">2.0</td><td style = \"text-align: right;\">2.0</td><td style = \"text-align: right;\">2.0</td><td style = \"text-align: right;\">1.0</td><td style = \"text-align: right;\">2.0</td><td style = \"text-align: right;\">2.0</td><td style = \"text-align: right;\">2.0</td><td style = \"text-align: right;\">2.0</td><td style = \"text-align: right;\">2.0</td><td style = \"text-align: right;\">2.0</td><td style = \"text-align: right;\">2.0</td><td style = \"text-align: right;\">2.0</td><td style = \"text-align: right;\">2.0</td><td style = \"text-align: right;\">2.0</td><td style = \"text-align: right;\">2.0</td><td style = \"text-align: right;\">2.0</td><td style = \"text-align: right;\">1.0</td><td style = \"text-align: right;\">2.0</td><td style = \"text-align: right;\">2.0</td><td style = \"text-align: right;\">2.0</td><td style = \"text-align: right;\">2.0</td><td style = \"text-align: right;\">2.0</td><td style = \"text-align: right;\">2.0</td><td style = \"text-align: right;\">2.0</td><td style = \"text-align: right;\">2.0</td><td style = \"text-align: right;\">2.0</td><td style = \"text-align: right;\">2.0</td><td style = \"text-align: right;\">2.0</td><td style = \"text-align: right;\">2.0</td><td style = \"text-align: right;\">2.0</td><td style = \"text-align: right;\">2.0</td><td style = \"text-align: right;\">2.0</td><td style = \"text-align: right;\">2.0</td><td style = \"text-align: right;\">2.0</td><td style = \"text-align: right;\">2.0</td><td style = \"text-align: right;\">2.0</td><td style = \"text-align: right;\">2.0</td><td style = \"text-align: right;\">2.0</td><td style = \"text-align: right;\">2.0</td><td style = \"text-align: right;\">2.0</td><td style = \"text-align: right;\">2.0</td></tr><tr><td class = \"rowNumber\" style = \"font-weight: bold; text-align: right;\">3</td><td style = \"text-align: right;\">1</td><td style = \"text-align: left;\">chr1:666382</td><td style = \"text-align: right;\">0.666382</td><td style = \"text-align: right;\">0.666382</td><td style = \"text-align: right;\">2.0</td><td style = \"text-align: right;\">2.0</td><td style = \"text-align: right;\">2.0</td><td style = \"text-align: right;\">1.0</td><td style = \"text-align: right;\">2.0</td><td style = \"text-align: right;\">2.0</td><td style = \"text-align: right;\">2.0</td><td style = \"text-align: right;\">2.0</td><td style = \"text-align: right;\">2.0</td><td style = \"text-align: right;\">2.0</td><td style = \"text-align: right;\">2.0</td><td style = \"text-align: right;\">2.0</td><td style = \"text-align: right;\">2.0</td><td style = \"text-align: right;\">2.0</td><td style = \"text-align: right;\">2.0</td><td style = \"text-align: right;\">2.0</td><td style = \"text-align: right;\">2.0</td><td style = \"text-align: right;\">2.0</td><td style = \"text-align: right;\">2.0</td><td style = \"text-align: right;\">2.0</td><td style = \"text-align: right;\">2.0</td><td style = \"text-align: right;\">2.0</td><td style = \"text-align: right;\">2.0</td><td style = \"text-align: right;\">2.0</td><td style = \"text-align: right;\">2.0</td><td style = \"text-align: right;\">2.0</td><td style = \"text-align: right;\">2.0</td><td style = \"text-align: right;\">2.0</td><td style = \"text-align: right;\">2.0</td><td style = \"text-align: right;\">2.0</td><td style = \"text-align: right;\">2.0</td><td style = \"text-align: right;\">1.0</td><td style = \"text-align: right;\">2.0</td><td style = \"text-align: right;\">2.0</td><td style = \"text-align: right;\">2.0</td><td style = \"text-align: right;\">2.0</td><td style = \"text-align: right;\">2.0</td><td style = \"text-align: right;\">2.0</td><td style = \"text-align: right;\">2.0</td><td style = \"text-align: right;\">2.0</td><td style = \"text-align: right;\">2.0</td><td style = \"text-align: right;\">2.0</td><td style = \"text-align: right;\">2.0</td><td style = \"text-align: right;\">2.0</td><td style = \"text-align: right;\">2.0</td><td style = \"text-align: right;\">2.0</td><td style = \"text-align: right;\">2.0</td><td style = \"text-align: right;\">2.0</td><td style = \"text-align: right;\">2.0</td><td style = \"text-align: right;\">2.0</td><td style = \"text-align: right;\">2.0</td><td style = \"text-align: right;\">2.0</td><td style = \"text-align: right;\">2.0</td><td style = \"text-align: right;\">2.0</td><td style = \"text-align: right;\">2.0</td><td style = \"text-align: right;\">2.0</td><td style = \"text-align: right;\">2.0</td><td style = \"text-align: right;\">2.0</td><td style = \"text-align: right;\">2.0</td><td style = \"text-align: right;\">2.0</td><td style = \"text-align: right;\">2.0</td><td style = \"text-align: right;\">2.0</td><td style = \"text-align: right;\">2.0</td><td style = \"text-align: right;\">2.0</td><td style = \"text-align: right;\">2.0</td><td style = \"text-align: right;\">2.0</td><td style = \"text-align: right;\">2.0</td><td style = \"text-align: right;\">2.0</td><td style = \"text-align: right;\">2.0</td><td style = \"text-align: right;\">2.0</td><td style = \"text-align: right;\">2.0</td><td style = \"text-align: right;\">2.0</td><td style = \"text-align: right;\">2.0</td><td style = \"text-align: right;\">2.0</td><td style = \"text-align: right;\">2.0</td><td style = \"text-align: right;\">2.0</td><td style = \"text-align: right;\">2.0</td><td style = \"text-align: right;\">2.0</td><td style = \"text-align: right;\">2.0</td><td style = \"text-align: right;\">2.0</td></tr><tr><td class = \"rowNumber\" style = \"font-weight: bold; text-align: right;\">4</td><td style = \"text-align: right;\">1</td><td style = \"text-align: left;\">chr1:666394</td><td style = \"text-align: right;\">0.666394</td><td style = \"text-align: right;\">0.666394</td><td style = \"text-align: right;\">2.0</td><td style = \"text-align: right;\">2.0</td><td style = \"text-align: right;\">2.0</td><td style = \"text-align: right;\">1.0</td><td style = \"text-align: right;\">2.0</td><td style = \"text-align: right;\">2.0</td><td style = \"text-align: right;\">2.0</td><td style = \"text-align: right;\">2.0</td><td style = \"text-align: right;\">2.0</td><td style = \"text-align: right;\">2.0</td><td style = \"text-align: right;\">2.0</td><td style = \"text-align: right;\">2.0</td><td style = \"text-align: right;\">2.0</td><td style = \"text-align: right;\">2.0</td><td style = \"text-align: right;\">2.0</td><td style = \"text-align: right;\">2.0</td><td style = \"text-align: right;\">2.0</td><td style = \"text-align: right;\">2.0</td><td style = \"text-align: right;\">2.0</td><td style = \"text-align: right;\">2.0</td><td style = \"text-align: right;\">2.0</td><td style = \"text-align: right;\">2.0</td><td style = \"text-align: right;\">2.0</td><td style = \"text-align: right;\">2.0</td><td style = \"text-align: right;\">1.0</td><td style = \"text-align: right;\">1.0</td><td style = \"text-align: right;\">2.0</td><td style = \"text-align: right;\">2.0</td><td style = \"text-align: right;\">2.0</td><td style = \"text-align: right;\">2.0</td><td style = \"text-align: right;\">2.0</td><td style = \"text-align: right;\">1.0</td><td style = \"text-align: right;\">2.0</td><td style = \"text-align: right;\">1.0</td><td style = \"text-align: right;\">2.0</td><td style = \"text-align: right;\">2.0</td><td style = \"text-align: right;\">2.0</td><td style = \"text-align: right;\">2.0</td><td style = \"text-align: right;\">2.0</td><td style = \"text-align: right;\">2.0</td><td style = \"text-align: right;\">2.0</td><td style = \"text-align: right;\">2.0</td><td style = \"text-align: right;\">1.0</td><td style = \"text-align: right;\">2.0</td><td style = \"text-align: right;\">2.0</td><td style = \"text-align: right;\">2.0</td><td style = \"text-align: right;\">2.0</td><td style = \"text-align: right;\">2.0</td><td style = \"text-align: right;\">2.0</td><td style = \"text-align: right;\">2.0</td><td style = \"text-align: right;\">2.0</td><td style = \"text-align: right;\">2.0</td><td style = \"text-align: right;\">2.0</td><td style = \"text-align: right;\">2.0</td><td style = \"text-align: right;\">2.0</td><td style = \"text-align: right;\">2.0</td><td style = \"text-align: right;\">2.0</td><td style = \"text-align: right;\">2.0</td><td style = \"text-align: right;\">2.0</td><td style = \"text-align: right;\">2.0</td><td style = \"text-align: right;\">2.0</td><td style = \"text-align: right;\">2.0</td><td style = \"text-align: right;\">2.0</td><td style = \"text-align: right;\">2.0</td><td style = \"text-align: right;\">2.0</td><td style = \"text-align: right;\">2.0</td><td style = \"text-align: right;\">2.0</td><td style = \"text-align: right;\">2.0</td><td style = \"text-align: right;\">2.0</td><td style = \"text-align: right;\">2.0</td><td style = \"text-align: right;\">2.0</td><td style = \"text-align: right;\">2.0</td><td style = \"text-align: right;\">2.0</td><td style = \"text-align: right;\">2.0</td><td style = \"text-align: right;\">2.0</td><td style = \"text-align: right;\">2.0</td><td style = \"text-align: right;\">2.0</td><td style = \"text-align: right;\">2.0</td><td style = \"text-align: right;\">2.0</td><td style = \"text-align: right;\">2.0</td></tr><tr><td class = \"rowNumber\" style = \"font-weight: bold; text-align: right;\">5</td><td style = \"text-align: right;\">1</td><td style = \"text-align: left;\">chr1:669529</td><td style = \"text-align: right;\">0.669529</td><td style = \"text-align: right;\">0.669529</td><td style = \"text-align: right;\">2.0</td><td style = \"text-align: right;\">2.0</td><td style = \"text-align: right;\">2.0</td><td style = \"text-align: right;\">1.0</td><td style = \"text-align: right;\">2.0</td><td style = \"text-align: right;\">2.0</td><td style = \"text-align: right;\">2.0</td><td style = \"text-align: right;\">2.0</td><td style = \"text-align: right;\">2.0</td><td style = \"text-align: right;\">2.0</td><td style = \"text-align: right;\">2.0</td><td style = \"text-align: right;\">2.0</td><td style = \"text-align: right;\">2.0</td><td style = \"text-align: right;\">2.0</td><td style = \"text-align: right;\">2.0</td><td style = \"text-align: right;\">2.0</td><td style = \"text-align: right;\">2.0</td><td style = \"text-align: right;\">2.0</td><td style = \"text-align: right;\">2.0</td><td style = \"text-align: right;\">2.0</td><td style = \"text-align: right;\">2.0</td><td style = \"text-align: right;\">2.0</td><td style = \"text-align: right;\">2.0</td><td style = \"text-align: right;\">2.0</td><td style = \"text-align: right;\">2.0</td><td style = \"text-align: right;\">2.0</td><td style = \"text-align: right;\">2.0</td><td style = \"text-align: right;\">2.0</td><td style = \"text-align: right;\">2.0</td><td style = \"text-align: right;\">2.0</td><td style = \"text-align: right;\">2.0</td><td style = \"text-align: right;\">2.0</td><td style = \"text-align: right;\">2.0</td><td style = \"text-align: right;\">1.0</td><td style = \"text-align: right;\">2.0</td><td style = \"text-align: right;\">2.0</td><td style = \"text-align: right;\">2.0</td><td style = \"text-align: right;\">2.0</td><td style = \"text-align: right;\">1.0</td><td style = \"text-align: right;\">2.0</td><td style = \"text-align: right;\">2.0</td><td style = \"text-align: right;\">2.0</td><td style = \"text-align: right;\">2.0</td><td style = \"text-align: right;\">2.0</td><td style = \"text-align: right;\">2.0</td><td style = \"text-align: right;\">2.0</td><td style = \"text-align: right;\">2.0</td><td style = \"text-align: right;\">2.0</td><td style = \"text-align: right;\">1.0</td><td style = \"text-align: right;\">2.0</td><td style = \"text-align: right;\">2.0</td><td style = \"text-align: right;\">2.0</td><td style = \"text-align: right;\">2.0</td><td style = \"text-align: right;\">2.0</td><td style = \"text-align: right;\">2.0</td><td style = \"text-align: right;\">2.0</td><td style = \"text-align: right;\">2.0</td><td style = \"text-align: right;\">2.0</td><td style = \"text-align: right;\">2.0</td><td style = \"text-align: right;\">2.0</td><td style = \"text-align: right;\">2.0</td><td style = \"text-align: right;\">2.0</td><td style = \"text-align: right;\">2.0</td><td style = \"text-align: right;\">2.0</td><td style = \"text-align: right;\">2.0</td><td style = \"text-align: right;\">2.0</td><td style = \"text-align: right;\">2.0</td><td style = \"text-align: right;\">2.0</td><td style = \"text-align: right;\">2.0</td><td style = \"text-align: right;\">2.0</td><td style = \"text-align: right;\">2.0</td><td style = \"text-align: right;\">2.0</td><td style = \"text-align: right;\">2.0</td><td style = \"text-align: right;\">2.0</td><td style = \"text-align: right;\">2.0</td><td style = \"text-align: right;\">2.0</td><td style = \"text-align: right;\">2.0</td><td style = \"text-align: right;\">2.0</td><td style = \"text-align: right;\">2.0</td><td style = \"text-align: right;\">1.0</td></tr><tr><td class = \"rowNumber\" style = \"font-weight: bold; text-align: right;\">6</td><td style = \"text-align: right;\">1</td><td style = \"text-align: left;\">chr1:669562</td><td style = \"text-align: right;\">0.669562</td><td style = \"text-align: right;\">0.669562</td><td style = \"text-align: right;\">2.0</td><td style = \"text-align: right;\">2.0</td><td style = \"text-align: right;\">2.0</td><td style = \"text-align: right;\">2.0</td><td style = \"text-align: right;\">2.0</td><td style = \"text-align: right;\">2.0</td><td style = \"text-align: right;\">1.0</td><td style = \"text-align: right;\">2.0</td><td style = \"text-align: right;\">2.0</td><td style = \"text-align: right;\">2.0</td><td style = \"text-align: right;\">2.0</td><td style = \"text-align: right;\">2.0</td><td style = \"text-align: right;\">2.0</td><td style = \"text-align: right;\">2.0</td><td style = \"text-align: right;\">2.0</td><td style = \"text-align: right;\">2.0</td><td style = \"text-align: right;\">2.0</td><td style = \"text-align: right;\">2.0</td><td style = \"text-align: right;\">2.0</td><td style = \"text-align: right;\">2.0</td><td style = \"text-align: right;\">2.0</td><td style = \"text-align: right;\">2.0</td><td style = \"text-align: right;\">2.0</td><td style = \"text-align: right;\">2.0</td><td style = \"text-align: right;\">2.0</td><td style = \"text-align: right;\">1.0</td><td style = \"text-align: right;\">2.0</td><td style = \"text-align: right;\">2.0</td><td style = \"text-align: right;\">2.0</td><td style = \"text-align: right;\">2.0</td><td style = \"text-align: right;\">2.0</td><td style = \"text-align: right;\">2.0</td><td style = \"text-align: right;\">2.0</td><td style = \"text-align: right;\">2.0</td><td style = \"text-align: right;\">2.0</td><td style = \"text-align: right;\">2.0</td><td style = \"text-align: right;\">2.0</td><td style = \"text-align: right;\">2.0</td><td style = \"text-align: right;\">2.0</td><td style = \"text-align: right;\">2.0</td><td style = \"text-align: right;\">2.0</td><td style = \"text-align: right;\">2.0</td><td style = \"text-align: right;\">2.0</td><td style = \"text-align: right;\">2.0</td><td style = \"text-align: right;\">2.0</td><td style = \"text-align: right;\">2.0</td><td style = \"text-align: right;\">2.0</td><td style = \"text-align: right;\">2.0</td><td style = \"text-align: right;\">2.0</td><td style = \"text-align: right;\">2.0</td><td style = \"text-align: right;\">2.0</td><td style = \"text-align: right;\">2.0</td><td style = \"text-align: right;\">2.0</td><td style = \"text-align: right;\">2.0</td><td style = \"text-align: right;\">2.0</td><td style = \"text-align: right;\">2.0</td><td style = \"text-align: right;\">2.0</td><td style = \"text-align: right;\">2.0</td><td style = \"text-align: right;\">2.0</td><td style = \"text-align: right;\">2.0</td><td style = \"text-align: right;\">2.0</td><td style = \"text-align: right;\">1.0</td><td style = \"text-align: right;\">2.0</td><td style = \"text-align: right;\">2.0</td><td style = \"text-align: right;\">2.0</td><td style = \"text-align: right;\">2.0</td><td style = \"text-align: right;\">2.0</td><td style = \"text-align: right;\">2.0</td><td style = \"text-align: right;\">2.0</td><td style = \"text-align: right;\">2.0</td><td style = \"text-align: right;\">2.0</td><td style = \"text-align: right;\">2.0</td><td style = \"text-align: right;\">2.0</td><td style = \"text-align: right;\">1.0</td><td style = \"text-align: right;\">2.0</td><td style = \"text-align: right;\">2.0</td><td style = \"text-align: right;\">2.0</td><td style = \"text-align: right;\">2.0</td><td style = \"text-align: right;\">1.0</td><td style = \"text-align: right;\">2.0</td></tr><tr><td class = \"rowNumber\" style = \"font-weight: bold; text-align: right;\">7</td><td style = \"text-align: right;\">1</td><td style = \"text-align: left;\">chr1:671466</td><td style = \"text-align: right;\">0.671466</td><td style = \"text-align: right;\">0.671466</td><td style = \"text-align: right;\">2.0</td><td style = \"text-align: right;\">2.0</td><td style = \"text-align: right;\">2.0</td><td style = \"text-align: right;\">2.0</td><td style = \"text-align: right;\">2.0</td><td style = \"text-align: right;\">2.0</td><td style = \"text-align: right;\">2.0</td><td style = \"text-align: right;\">2.0</td><td style = \"text-align: right;\">2.0</td><td style = \"text-align: right;\">2.0</td><td style = \"text-align: right;\">2.0</td><td style = \"text-align: right;\">2.0</td><td style = \"text-align: right;\">2.0</td><td style = \"text-align: right;\">2.0</td><td style = \"text-align: right;\">2.0</td><td style = \"text-align: right;\">2.0</td><td style = \"text-align: right;\">2.0</td><td style = \"text-align: right;\">2.0</td><td style = \"text-align: right;\">2.0</td><td style = \"text-align: right;\">2.0</td><td style = \"text-align: right;\">2.0</td><td style = \"text-align: right;\">2.0</td><td style = \"text-align: right;\">2.0</td><td style = \"text-align: right;\">2.0</td><td style = \"text-align: right;\">2.0</td><td style = \"text-align: right;\">2.0</td><td style = \"text-align: right;\">2.0</td><td style = \"text-align: right;\">2.0</td><td style = \"text-align: right;\">2.0</td><td style = \"text-align: right;\">2.0</td><td style = \"text-align: right;\">2.0</td><td style = \"text-align: right;\">2.0</td><td style = \"text-align: right;\">2.0</td><td style = \"text-align: right;\">2.0</td><td style = \"text-align: right;\">2.0</td><td style = \"text-align: right;\">2.0</td><td style = \"text-align: right;\">2.0</td><td style = \"text-align: right;\">2.0</td><td style = \"text-align: right;\">2.0</td><td style = \"text-align: right;\">2.0</td><td style = \"text-align: right;\">2.0</td><td style = \"text-align: right;\">2.0</td><td style = \"text-align: right;\">2.0</td><td style = \"text-align: right;\">2.0</td><td style = \"text-align: right;\">2.0</td><td style = \"text-align: right;\">2.0</td><td style = \"text-align: right;\">2.0</td><td style = \"text-align: right;\">2.0</td><td style = \"text-align: right;\">2.0</td><td style = \"text-align: right;\">2.0</td><td style = \"text-align: right;\">2.0</td><td style = \"text-align: right;\">2.0</td><td style = \"text-align: right;\">2.0</td><td style = \"text-align: right;\">2.0</td><td style = \"text-align: right;\">2.0</td><td style = \"text-align: right;\">2.0</td><td style = \"text-align: right;\">2.0</td><td style = \"text-align: right;\">2.0</td><td style = \"text-align: right;\">2.0</td><td style = \"text-align: right;\">1.0</td><td style = \"text-align: right;\">2.0</td><td style = \"text-align: right;\">1.0</td><td style = \"text-align: right;\">1.0</td><td style = \"text-align: right;\">1.0</td><td style = \"text-align: right;\">1.0</td><td style = \"text-align: right;\">2.0</td><td style = \"text-align: right;\">2.0</td><td style = \"text-align: right;\">1.0</td><td style = \"text-align: right;\">2.0</td><td style = \"text-align: right;\">2.0</td><td style = \"text-align: right;\">2.0</td><td style = \"text-align: right;\">2.0</td><td style = \"text-align: right;\">2.0</td><td style = \"text-align: right;\">2.0</td><td style = \"text-align: right;\">2.0</td><td style = \"text-align: right;\">2.0</td><td style = \"text-align: right;\">2.0</td><td style = \"text-align: right;\">2.0</td><td style = \"text-align: right;\">1.0</td><td style = \"text-align: right;\">2.0</td></tr><tr><td class = \"rowNumber\" style = \"font-weight: bold; text-align: right;\">8</td><td style = \"text-align: right;\">1</td><td style = \"text-align: left;\">chr1:759319</td><td style = \"text-align: right;\">0.759319</td><td style = \"text-align: right;\">0.759319</td><td style = \"text-align: right;\">0.997</td><td style = \"text-align: right;\">1.976</td><td style = \"text-align: right;\">0.991</td><td style = \"text-align: right;\">1.979</td><td style = \"text-align: right;\">0.007</td><td style = \"text-align: right;\">1.979</td><td style = \"text-align: right;\">0.991</td><td style = \"text-align: right;\">0.997</td><td style = \"text-align: right;\">0.008</td><td style = \"text-align: right;\">1.979</td><td style = \"text-align: right;\">0.997</td><td style = \"text-align: right;\">0.997</td><td style = \"text-align: right;\">0.007</td><td style = \"text-align: right;\">0.997</td><td style = \"text-align: right;\">0.007</td><td style = \"text-align: right;\">0.991</td><td style = \"text-align: right;\">0.997</td><td style = \"text-align: right;\">0.007</td><td style = \"text-align: right;\">0.997</td><td style = \"text-align: right;\">0.991</td><td style = \"text-align: right;\">0.007</td><td style = \"text-align: right;\">0.99</td><td style = \"text-align: right;\">0.997</td><td style = \"text-align: right;\">0.99</td><td style = \"text-align: right;\">0.991</td><td style = \"text-align: right;\">0.007</td><td style = \"text-align: right;\">0.991</td><td style = \"text-align: right;\">1.979</td><td style = \"text-align: right;\">0.997</td><td style = \"text-align: right;\">0.997</td><td style = \"text-align: right;\">0.992</td><td style = \"text-align: right;\">0.997</td><td style = \"text-align: right;\">0.997</td><td style = \"text-align: right;\">0.997</td><td style = \"text-align: right;\">0.992</td><td style = \"text-align: right;\">0.992</td><td style = \"text-align: right;\">0.007</td><td style = \"text-align: right;\">0.997</td><td style = \"text-align: right;\">0.997</td><td style = \"text-align: right;\">0.997</td><td style = \"text-align: right;\">0.007</td><td style = \"text-align: right;\">0.007</td><td style = \"text-align: right;\">0.997</td><td style = \"text-align: right;\">0.007</td><td style = \"text-align: right;\">1.979</td><td style = \"text-align: right;\">0.007</td><td style = \"text-align: right;\">0.991</td><td style = \"text-align: right;\">0.007</td><td style = \"text-align: right;\">0.997</td><td style = \"text-align: right;\">0.997</td><td style = \"text-align: right;\">0.008</td><td style = \"text-align: right;\">0.997</td><td style = \"text-align: right;\">0.997</td><td style = \"text-align: right;\">0.007</td><td style = \"text-align: right;\">0.997</td><td style = \"text-align: right;\">1.979</td><td style = \"text-align: right;\">0.997</td><td style = \"text-align: right;\">0.997</td><td style = \"text-align: right;\">0.007</td><td style = \"text-align: right;\">0.007</td><td style = \"text-align: right;\">0.997</td><td style = \"text-align: right;\">0.007</td><td style = \"text-align: right;\">0.997</td><td style = \"text-align: right;\">1.979</td><td style = \"text-align: right;\">0.007</td><td style = \"text-align: right;\">0.997</td><td style = \"text-align: right;\">0.99603</td><td style = \"text-align: right;\">0.99</td><td style = \"text-align: right;\">0.991</td><td style = \"text-align: right;\">0.997</td><td style = \"text-align: right;\">1.978</td><td style = \"text-align: right;\">0.007</td><td style = \"text-align: right;\">0.991</td><td style = \"text-align: right;\">0.997</td><td style = \"text-align: right;\">0.007</td><td style = \"text-align: right;\">0.007</td><td style = \"text-align: right;\">1.979</td><td style = \"text-align: right;\">1.979</td><td style = \"text-align: right;\">1.979</td><td style = \"text-align: right;\">0.007</td></tr><tr><td class = \"rowNumber\" style = \"font-weight: bold; text-align: right;\">9</td><td style = \"text-align: right;\">1</td><td style = \"text-align: left;\">chr1:1134030</td><td style = \"text-align: right;\">1.13403</td><td style = \"text-align: right;\">1.13403</td><td style = \"text-align: right;\">1.941</td><td style = \"text-align: right;\">1.559</td><td style = \"text-align: right;\">1.006</td><td style = \"text-align: right;\">1.994</td><td style = \"text-align: right;\">1.998</td><td style = \"text-align: right;\">1.994</td><td style = \"text-align: right;\">1.846</td><td style = \"text-align: right;\">1.951</td><td style = \"text-align: right;\">1.4895</td><td style = \"text-align: right;\">1.994</td><td style = \"text-align: right;\">1.984</td><td style = \"text-align: right;\">1.945</td><td style = \"text-align: right;\">1.031</td><td style = \"text-align: right;\">1.993</td><td style = \"text-align: right;\">1.00494</td><td style = \"text-align: right;\">1.989</td><td style = \"text-align: right;\">1.992</td><td style = \"text-align: right;\">1.998</td><td style = \"text-align: right;\">1.989</td><td style = \"text-align: right;\">1.994</td><td style = \"text-align: right;\">1.022</td><td style = \"text-align: right;\">1.49847</td><td style = \"text-align: right;\">1.797</td><td style = \"text-align: right;\">1.998</td><td style = \"text-align: right;\">1.946</td><td style = \"text-align: right;\">1.055</td><td style = \"text-align: right;\">1.946</td><td style = \"text-align: right;\">1.994</td><td style = \"text-align: right;\">1.955</td><td style = \"text-align: right;\">1.993</td><td style = \"text-align: right;\">1.994</td><td style = \"text-align: right;\">1.94696</td><td style = \"text-align: right;\">1.951</td><td style = \"text-align: right;\">1.989</td><td style = \"text-align: right;\">1.926</td><td style = \"text-align: right;\">1.495</td><td style = \"text-align: right;\">1.998</td><td style = \"text-align: right;\">1.991</td><td style = \"text-align: right;\">1.994</td><td style = \"text-align: right;\">1.952</td><td style = \"text-align: right;\">1.997</td><td style = \"text-align: right;\">1.998</td><td style = \"text-align: right;\">1.94696</td><td style = \"text-align: right;\">1.998</td><td style = \"text-align: right;\">1.994</td><td style = \"text-align: right;\">1.998</td><td style = \"text-align: right;\">1.994</td><td style = \"text-align: right;\">1.998</td><td style = \"text-align: right;\">1.946</td><td style = \"text-align: right;\">1.994</td><td style = \"text-align: right;\">1.5045</td><td style = \"text-align: right;\">1.994</td><td style = \"text-align: right;\">1.994</td><td style = \"text-align: right;\">1.998</td><td style = \"text-align: right;\">1.977</td><td style = \"text-align: right;\">1.993</td><td style = \"text-align: right;\">1.935</td><td style = \"text-align: right;\">1.993</td><td style = \"text-align: right;\">1.998</td><td style = \"text-align: right;\">1.998</td><td style = \"text-align: right;\">1.994</td><td style = \"text-align: right;\">1.023</td><td style = \"text-align: right;\">1.994</td><td style = \"text-align: right;\">1.994</td><td style = \"text-align: right;\">1.998</td><td style = \"text-align: right;\">1.993</td><td style = \"text-align: right;\">1.912</td><td style = \"text-align: right;\">1.997</td><td style = \"text-align: right;\">1.994</td><td style = \"text-align: right;\">1.993</td><td style = \"text-align: right;\">1.919</td><td style = \"text-align: right;\">1.998</td><td style = \"text-align: right;\">1.994</td><td style = \"text-align: right;\">1.994</td><td style = \"text-align: right;\">1.044</td><td style = \"text-align: right;\">1.031</td><td style = \"text-align: right;\">1.993</td><td style = \"text-align: right;\">1.994</td><td style = \"text-align: right;\">1.993</td><td style = \"text-align: right;\">1.998</td></tr><tr><td class = \"rowNumber\" style = \"font-weight: bold; text-align: right;\">10</td><td style = \"text-align: right;\">1</td><td style = \"text-align: left;\">chr1:1139210</td><td style = \"text-align: right;\">1.13921</td><td style = \"text-align: right;\">1.13921</td><td style = \"text-align: right;\">1.978</td><td style = \"text-align: right;\">1.992</td><td style = \"text-align: right;\">1.997</td><td style = \"text-align: right;\">1.994</td><td style = \"text-align: right;\">1.997</td><td style = \"text-align: right;\">1.993</td><td style = \"text-align: right;\">1.912</td><td style = \"text-align: right;\">1.985</td><td style = \"text-align: right;\">1.996</td><td style = \"text-align: right;\">1.994</td><td style = \"text-align: right;\">1.959</td><td style = \"text-align: right;\">1.985</td><td style = \"text-align: right;\">1.037</td><td style = \"text-align: right;\">1.986</td><td style = \"text-align: right;\">1.006</td><td style = \"text-align: right;\">1.14</td><td style = \"text-align: right;\">1.991</td><td style = \"text-align: right;\">1.997</td><td style = \"text-align: right;\">1.14</td><td style = \"text-align: right;\">1.992</td><td style = \"text-align: right;\">1.026</td><td style = \"text-align: right;\">1.964</td><td style = \"text-align: right;\">1.858</td><td style = \"text-align: right;\">1.997</td><td style = \"text-align: right;\">1.984</td><td style = \"text-align: right;\">1.06793</td><td style = \"text-align: right;\">1.984</td><td style = \"text-align: right;\">1.993</td><td style = \"text-align: right;\">1.988</td><td style = \"text-align: right;\">1.993</td><td style = \"text-align: right;\">1.994</td><td style = \"text-align: right;\">1.213</td><td style = \"text-align: right;\">1.986</td><td style = \"text-align: right;\">1.14</td><td style = \"text-align: right;\">1.982</td><td style = \"text-align: right;\">1.668</td><td style = \"text-align: right;\">1.997</td><td style = \"text-align: right;\">1.1181</td><td style = \"text-align: right;\">1.994</td><td style = \"text-align: right;\">1.986</td><td style = \"text-align: right;\">1.996</td><td style = \"text-align: right;\">1.997</td><td style = \"text-align: right;\">1.984</td><td style = \"text-align: right;\">1.997</td><td style = \"text-align: right;\">1.993</td><td style = \"text-align: right;\">1.997</td><td style = \"text-align: right;\">1.992</td><td style = \"text-align: right;\">1.997</td><td style = \"text-align: right;\">1.984</td><td style = \"text-align: right;\">1.994</td><td style = \"text-align: right;\">1.995</td><td style = \"text-align: right;\">1.994</td><td style = \"text-align: right;\">1.993</td><td style = \"text-align: right;\">1.997</td><td style = \"text-align: right;\">1.927</td><td style = \"text-align: right;\">1.993</td><td style = \"text-align: right;\">1.981</td><td style = \"text-align: right;\">1.992</td><td style = \"text-align: right;\">1.997</td><td style = \"text-align: right;\">1.997</td><td style = \"text-align: right;\">1.994</td><td style = \"text-align: right;\">1.029</td><td style = \"text-align: right;\">1.994</td><td style = \"text-align: right;\">1.993</td><td style = \"text-align: right;\">1.997</td><td style = \"text-align: right;\">1.993</td><td style = \"text-align: right;\">1.99</td><td style = \"text-align: right;\">1.866</td><td style = \"text-align: right;\">1.992</td><td style = \"text-align: right;\">1.993</td><td style = \"text-align: right;\">1.992</td><td style = \"text-align: right;\">1.997</td><td style = \"text-align: right;\">1.992</td><td style = \"text-align: right;\">1.993</td><td style = \"text-align: right;\">1.05292</td><td style = \"text-align: right;\">1.037</td><td style = \"text-align: right;\">1.993</td><td style = \"text-align: right;\">1.993</td><td style = \"text-align: right;\">1.993</td><td style = \"text-align: right;\">1.997</td></tr><tr><td class = \"rowNumber\" style = \"font-weight: bold; text-align: right;\">11</td><td style = \"text-align: right;\">1</td><td style = \"text-align: left;\">chr1:1143318</td><td style = \"text-align: right;\">1.14332</td><td style = \"text-align: right;\">1.14332</td><td style = \"text-align: right;\">0.031</td><td style = \"text-align: right;\">0.39</td><td style = \"text-align: right;\">0.99298</td><td style = \"text-align: right;\">0.008</td><td style = \"text-align: right;\">0.003</td><td style = \"text-align: right;\">0.009</td><td style = \"text-align: right;\">0.171</td><td style = \"text-align: right;\">0.025</td><td style = \"text-align: right;\">0.026</td><td style = \"text-align: right;\">0.008</td><td style = \"text-align: right;\">0.065</td><td style = \"text-align: right;\">0.026</td><td style = \"text-align: right;\">0.947</td><td style = \"text-align: right;\">0.011</td><td style = \"text-align: right;\">0.994</td><td style = \"text-align: right;\">0.043</td><td style = \"text-align: right;\">0.013</td><td style = \"text-align: right;\">0.003</td><td style = \"text-align: right;\">0.043</td><td style = \"text-align: right;\">0.009</td><td style = \"text-align: right;\">0.962</td><td style = \"text-align: right;\">0.1802</td><td style = \"text-align: right;\">0.231</td><td style = \"text-align: right;\">0.003</td><td style = \"text-align: right;\">0.028</td><td style = \"text-align: right;\">0.9059</td><td style = \"text-align: right;\">0.028</td><td style = \"text-align: right;\">0.009</td><td style = \"text-align: right;\">0.021</td><td style = \"text-align: right;\">0.01</td><td style = \"text-align: right;\">0.008</td><td style = \"text-align: right;\">0.079</td><td style = \"text-align: right;\">0.025</td><td style = \"text-align: right;\">0.043</td><td style = \"text-align: right;\">0.128</td><td style = \"text-align: right;\">0.339</td><td style = \"text-align: right;\">0.003</td><td style = \"text-align: right;\">0.15015</td><td style = \"text-align: right;\">0.008</td><td style = \"text-align: right;\">0.024</td><td style = \"text-align: right;\">0.003</td><td style = \"text-align: right;\">0.003</td><td style = \"text-align: right;\">0.028</td><td style = \"text-align: right;\">0.003</td><td style = \"text-align: right;\">0.009</td><td style = \"text-align: right;\">0.003</td><td style = \"text-align: right;\">0.009</td><td style = \"text-align: right;\">0.003</td><td style = \"text-align: right;\">0.028</td><td style = \"text-align: right;\">0.008</td><td style = \"text-align: right;\">0.025</td><td style = \"text-align: right;\">0.008</td><td style = \"text-align: right;\">0.009</td><td style = \"text-align: right;\">0.003</td><td style = \"text-align: right;\">0.114</td><td style = \"text-align: right;\">0.01</td><td style = \"text-align: right;\">0.034</td><td style = \"text-align: right;\">0.011</td><td style = \"text-align: right;\">0.003</td><td style = \"text-align: right;\">0.003</td><td style = \"text-align: right;\">0.008</td><td style = \"text-align: right;\">0.958</td><td style = \"text-align: right;\">0.008</td><td style = \"text-align: right;\">0.009</td><td style = \"text-align: right;\">0.003</td><td style = \"text-align: right;\">0.01</td><td style = \"text-align: right;\">0.032</td><td style = \"text-align: right;\">0.158</td><td style = \"text-align: right;\">0.009</td><td style = \"text-align: right;\">0.01</td><td style = \"text-align: right;\">0.032</td><td style = \"text-align: right;\">0.003</td><td style = \"text-align: right;\">0.009</td><td style = \"text-align: right;\">0.009</td><td style = \"text-align: right;\">0.92</td><td style = \"text-align: right;\">0.947</td><td style = \"text-align: right;\">0.01</td><td style = \"text-align: right;\">0.009</td><td style = \"text-align: right;\">0.01</td><td style = \"text-align: right;\">0.003</td></tr><tr><td class = \"rowNumber\" style = \"font-weight: bold; text-align: right;\">12</td><td style = \"text-align: right;\">1</td><td style = \"text-align: left;\">chr1:1151014</td><td style = \"text-align: right;\">1.15101</td><td style = \"text-align: right;\">1.15101</td><td style = \"text-align: right;\">1.997</td><td style = \"text-align: right;\">1.997</td><td style = \"text-align: right;\">1.998</td><td style = \"text-align: right;\">1.997</td><td style = \"text-align: right;\">1.998</td><td style = \"text-align: right;\">1.997</td><td style = \"text-align: right;\">1.995</td><td style = \"text-align: right;\">1.997</td><td style = \"text-align: right;\">1.998</td><td style = \"text-align: right;\">1.997</td><td style = \"text-align: right;\">1.995</td><td style = \"text-align: right;\">1.996</td><td style = \"text-align: right;\">1.054</td><td style = \"text-align: right;\">1.997</td><td style = \"text-align: right;\">1.004</td><td style = \"text-align: right;\">1.963</td><td style = \"text-align: right;\">1.997</td><td style = \"text-align: right;\">1.998</td><td style = \"text-align: right;\">1.963</td><td style = \"text-align: right;\">1.997</td><td style = \"text-align: right;\">1.039</td><td style = \"text-align: right;\">1.998</td><td style = \"text-align: right;\">1.996</td><td style = \"text-align: right;\">1.998</td><td style = \"text-align: right;\">1.997</td><td style = \"text-align: right;\">1.097</td><td style = \"text-align: right;\">1.997</td><td style = \"text-align: right;\">1.997</td><td style = \"text-align: right;\">1.997</td><td style = \"text-align: right;\">1.997</td><td style = \"text-align: right;\">1.996</td><td style = \"text-align: right;\">1.9389</td><td style = \"text-align: right;\">1.997</td><td style = \"text-align: right;\">1.963</td><td style = \"text-align: right;\">1.997</td><td style = \"text-align: right;\">1.998</td><td style = \"text-align: right;\">1.998</td><td style = \"text-align: right;\">1.938</td><td style = \"text-align: right;\">1.997</td><td style = \"text-align: right;\">1.997</td><td style = \"text-align: right;\">1.997</td><td style = \"text-align: right;\">1.998</td><td style = \"text-align: right;\">1.997</td><td style = \"text-align: right;\">1.998</td><td style = \"text-align: right;\">1.997</td><td style = \"text-align: right;\">1.998</td><td style = \"text-align: right;\">1.997</td><td style = \"text-align: right;\">1.998</td><td style = \"text-align: right;\">1.997</td><td style = \"text-align: right;\">1.997</td><td style = \"text-align: right;\">1.998</td><td style = \"text-align: right;\">1.997</td><td style = \"text-align: right;\">1.997</td><td style = \"text-align: right;\">1.998</td><td style = \"text-align: right;\">1.996</td><td style = \"text-align: right;\">1.997</td><td style = \"text-align: right;\">1.997</td><td style = \"text-align: right;\">1.997</td><td style = \"text-align: right;\">1.998</td><td style = \"text-align: right;\">1.998</td><td style = \"text-align: right;\">1.997</td><td style = \"text-align: right;\">1.043</td><td style = \"text-align: right;\">1.997</td><td style = \"text-align: right;\">1.997</td><td style = \"text-align: right;\">1.998</td><td style = \"text-align: right;\">1.997</td><td style = \"text-align: right;\">1.998</td><td style = \"text-align: right;\">1.995</td><td style = \"text-align: right;\">1.997</td><td style = \"text-align: right;\">1.997</td><td style = \"text-align: right;\">1.998</td><td style = \"text-align: right;\">1.998</td><td style = \"text-align: right;\">1.997</td><td style = \"text-align: right;\">1.997</td><td style = \"text-align: right;\">1.086</td><td style = \"text-align: right;\">1.054</td><td style = \"text-align: right;\">1.997</td><td style = \"text-align: right;\">1.997</td><td style = \"text-align: right;\">1.997</td><td style = \"text-align: right;\">1.998</td></tr><tr><td class = \"rowNumber\" style = \"font-weight: bold; text-align: right;\">13</td><td style = \"text-align: right;\">1</td><td style = \"text-align: left;\">chr1:1151294</td><td style = \"text-align: right;\">1.15129</td><td style = \"text-align: right;\">1.15129</td><td style = \"text-align: right;\">1.997</td><td style = \"text-align: right;\">1.997</td><td style = \"text-align: right;\">1.006</td><td style = \"text-align: right;\">1.997</td><td style = \"text-align: right;\">1.998</td><td style = \"text-align: right;\">1.997</td><td style = \"text-align: right;\">1.993</td><td style = \"text-align: right;\">1.997</td><td style = \"text-align: right;\">1.98</td><td style = \"text-align: right;\">1.997</td><td style = \"text-align: right;\">1.993</td><td style = \"text-align: right;\">1.995</td><td style = \"text-align: right;\">1.0</td><td style = \"text-align: right;\">1.997</td><td style = \"text-align: right;\">1.0</td><td style = \"text-align: right;\">1.132</td><td style = \"text-align: right;\">1.997</td><td style = \"text-align: right;\">1.998</td><td style = \"text-align: right;\">1.132</td><td style = \"text-align: right;\">1.997</td><td style = \"text-align: right;\">1.0</td><td style = \"text-align: right;\">1.998</td><td style = \"text-align: right;\">1.995</td><td style = \"text-align: right;\">1.998</td><td style = \"text-align: right;\">1.997</td><td style = \"text-align: right;\">1.0</td><td style = \"text-align: right;\">1.997</td><td style = \"text-align: right;\">1.997</td><td style = \"text-align: right;\">1.997</td><td style = \"text-align: right;\">1.997</td><td style = \"text-align: right;\">1.993</td><td style = \"text-align: right;\">1.1702</td><td style = \"text-align: right;\">1.997</td><td style = \"text-align: right;\">1.132</td><td style = \"text-align: right;\">1.833</td><td style = \"text-align: right;\">1.998</td><td style = \"text-align: right;\">1.998</td><td style = \"text-align: right;\">1.16718</td><td style = \"text-align: right;\">1.997</td><td style = \"text-align: right;\">1.997</td><td style = \"text-align: right;\">1.886</td><td style = \"text-align: right;\">1.998</td><td style = \"text-align: right;\">1.997</td><td style = \"text-align: right;\">1.998</td><td style = \"text-align: right;\">1.997</td><td style = \"text-align: right;\">1.998</td><td style = \"text-align: right;\">1.997</td><td style = \"text-align: right;\">1.998</td><td style = \"text-align: right;\">1.997</td><td style = \"text-align: right;\">1.997</td><td style = \"text-align: right;\">1.981</td><td style = \"text-align: right;\">1.997</td><td style = \"text-align: right;\">1.997</td><td style = \"text-align: right;\">1.998</td><td style = \"text-align: right;\">1.995</td><td style = \"text-align: right;\">1.997</td><td style = \"text-align: right;\">1.997</td><td style = \"text-align: right;\">1.997</td><td style = \"text-align: right;\">1.998</td><td style = \"text-align: right;\">1.998</td><td style = \"text-align: right;\">1.997</td><td style = \"text-align: right;\">1.0</td><td style = \"text-align: right;\">1.997</td><td style = \"text-align: right;\">1.997</td><td style = \"text-align: right;\">1.998</td><td style = \"text-align: right;\">1.997</td><td style = \"text-align: right;\">1.998</td><td style = \"text-align: right;\">1.992</td><td style = \"text-align: right;\">1.997</td><td style = \"text-align: right;\">1.997</td><td style = \"text-align: right;\">1.998</td><td style = \"text-align: right;\">1.998</td><td style = \"text-align: right;\">1.997</td><td style = \"text-align: right;\">1.997</td><td style = \"text-align: right;\">1.0</td><td style = \"text-align: right;\">1.0</td><td style = \"text-align: right;\">1.997</td><td style = \"text-align: right;\">1.997</td><td style = \"text-align: right;\">1.997</td><td style = \"text-align: right;\">1.998</td></tr><tr><td style = \"text-align: right;\">&vellip;</td><td style = \"text-align: right;\">&vellip;</td><td style = \"text-align: right;\">&vellip;</td><td style = \"text-align: right;\">&vellip;</td><td style = \"text-align: right;\">&vellip;</td><td style = \"text-align: right;\">&vellip;</td><td style = \"text-align: right;\">&vellip;</td><td style = \"text-align: right;\">&vellip;</td><td style = \"text-align: right;\">&vellip;</td><td style = \"text-align: right;\">&vellip;</td><td style = \"text-align: right;\">&vellip;</td><td style = \"text-align: right;\">&vellip;</td><td style = \"text-align: right;\">&vellip;</td><td style = \"text-align: right;\">&vellip;</td><td style = \"text-align: right;\">&vellip;</td><td style = \"text-align: right;\">&vellip;</td><td style = \"text-align: right;\">&vellip;</td><td style = \"text-align: right;\">&vellip;</td><td style = \"text-align: right;\">&vellip;</td><td style = \"text-align: right;\">&vellip;</td><td style = \"text-align: right;\">&vellip;</td><td style = \"text-align: right;\">&vellip;</td><td style = \"text-align: right;\">&vellip;</td><td style = \"text-align: right;\">&vellip;</td><td style = \"text-align: right;\">&vellip;</td><td style = \"text-align: right;\">&vellip;</td><td style = \"text-align: right;\">&vellip;</td><td style = \"text-align: right;\">&vellip;</td><td style = \"text-align: right;\">&vellip;</td><td style = \"text-align: right;\">&vellip;</td><td style = \"text-align: right;\">&vellip;</td><td style = \"text-align: right;\">&vellip;</td><td style = \"text-align: right;\">&vellip;</td><td style = \"text-align: right;\">&vellip;</td><td style = \"text-align: right;\">&vellip;</td><td style = \"text-align: right;\">&vellip;</td><td style = \"text-align: right;\">&vellip;</td><td style = \"text-align: right;\">&vellip;</td><td style = \"text-align: right;\">&vellip;</td><td style = \"text-align: right;\">&vellip;</td><td style = \"text-align: right;\">&vellip;</td><td style = \"text-align: right;\">&vellip;</td><td style = \"text-align: right;\">&vellip;</td><td style = \"text-align: right;\">&vellip;</td><td style = \"text-align: right;\">&vellip;</td><td style = \"text-align: right;\">&vellip;</td><td style = \"text-align: right;\">&vellip;</td><td style = \"text-align: right;\">&vellip;</td><td style = \"text-align: right;\">&vellip;</td><td style = \"text-align: right;\">&vellip;</td><td style = \"text-align: right;\">&vellip;</td><td style = \"text-align: right;\">&vellip;</td><td style = \"text-align: right;\">&vellip;</td><td style = \"text-align: right;\">&vellip;</td><td style = \"text-align: right;\">&vellip;</td><td style = \"text-align: right;\">&vellip;</td><td style = \"text-align: right;\">&vellip;</td><td style = \"text-align: right;\">&vellip;</td><td style = \"text-align: right;\">&vellip;</td><td style = \"text-align: right;\">&vellip;</td><td style = \"text-align: right;\">&vellip;</td><td style = \"text-align: right;\">&vellip;</td><td style = \"text-align: right;\">&vellip;</td><td style = \"text-align: right;\">&vellip;</td><td style = \"text-align: right;\">&vellip;</td><td style = \"text-align: right;\">&vellip;</td><td style = \"text-align: right;\">&vellip;</td><td style = \"text-align: right;\">&vellip;</td><td style = \"text-align: right;\">&vellip;</td><td style = \"text-align: right;\">&vellip;</td><td style = \"text-align: right;\">&vellip;</td><td style = \"text-align: right;\">&vellip;</td><td style = \"text-align: right;\">&vellip;</td><td style = \"text-align: right;\">&vellip;</td><td style = \"text-align: right;\">&vellip;</td><td style = \"text-align: right;\">&vellip;</td><td style = \"text-align: right;\">&vellip;</td><td style = \"text-align: right;\">&vellip;</td><td style = \"text-align: right;\">&vellip;</td><td style = \"text-align: right;\">&vellip;</td><td style = \"text-align: right;\">&vellip;</td><td style = \"text-align: right;\">&vellip;</td><td style = \"text-align: right;\">&vellip;</td><td style = \"text-align: right;\">&vellip;</td><td style = \"text-align: right;\">&vellip;</td></tr><tr><td class = \"rowNumber\" style = \"font-weight: bold; text-align: right;\">134670</td><td style = \"text-align: right;\">20</td><td style = \"text-align: left;\">chr20:55641278</td><td style = \"text-align: right;\">55.6413</td><td style = \"text-align: right;\">55.6413</td><td style = \"text-align: right;\">1.917</td><td style = \"text-align: right;\">1.917</td><td style = \"text-align: right;\">1.917</td><td style = \"text-align: right;\">1.917</td><td style = \"text-align: right;\">1.979</td><td style = \"text-align: right;\">1.917</td><td style = \"text-align: right;\">1.917</td><td style = \"text-align: right;\">1.917</td><td style = \"text-align: right;\">1.917</td><td style = \"text-align: right;\">1.917</td><td style = \"text-align: right;\">1.917</td><td style = \"text-align: right;\">1.917</td><td style = \"text-align: right;\">1.917</td><td style = \"text-align: right;\">1.917</td><td style = \"text-align: right;\">1.917</td><td style = \"text-align: right;\">1.917</td><td style = \"text-align: right;\">1.917</td><td style = \"text-align: right;\">1.917</td><td style = \"text-align: right;\">1.917</td><td style = \"text-align: right;\">1.917</td><td style = \"text-align: right;\">1.917</td><td style = \"text-align: right;\">1.917</td><td style = \"text-align: right;\">1.917</td><td style = \"text-align: right;\">1.917</td><td style = \"text-align: right;\">1.917</td><td style = \"text-align: right;\">1.917</td><td style = \"text-align: right;\">1.917</td><td style = \"text-align: right;\">1.917</td><td style = \"text-align: right;\">1.917</td><td style = \"text-align: right;\">1.917</td><td style = \"text-align: right;\">1.917</td><td style = \"text-align: right;\">1.917</td><td style = \"text-align: right;\">1.917</td><td style = \"text-align: right;\">1.917</td><td style = \"text-align: right;\">1.917</td><td style = \"text-align: right;\">1.917</td><td style = \"text-align: right;\">1.917</td><td style = \"text-align: right;\">1.917</td><td style = \"text-align: right;\">1.917</td><td style = \"text-align: right;\">1.917</td><td style = \"text-align: right;\">0.96</td><td style = \"text-align: right;\">1.917</td><td style = \"text-align: right;\">1.917</td><td style = \"text-align: right;\">1.917</td><td style = \"text-align: right;\">1.917</td><td style = \"text-align: right;\">1.917</td><td style = \"text-align: right;\">1.917</td><td style = \"text-align: right;\">1.917</td><td style = \"text-align: right;\">1.917</td><td style = \"text-align: right;\">1.917</td><td style = \"text-align: right;\">1.917</td><td style = \"text-align: right;\">1.917</td><td style = \"text-align: right;\">1.917</td><td style = \"text-align: right;\">1.917</td><td style = \"text-align: right;\">1.917</td><td style = \"text-align: right;\">1.917</td><td style = \"text-align: right;\">1.917</td><td style = \"text-align: right;\">1.917</td><td style = \"text-align: right;\">1.917</td><td style = \"text-align: right;\">1.917</td><td style = \"text-align: right;\">1.917</td><td style = \"text-align: right;\">1.917</td><td style = \"text-align: right;\">1.917</td><td style = \"text-align: right;\">1.917</td><td style = \"text-align: right;\">1.917</td><td style = \"text-align: right;\">1.917</td><td style = \"text-align: right;\">1.91498</td><td style = \"text-align: right;\">1.917</td><td style = \"text-align: right;\">1.917</td><td style = \"text-align: right;\">1.917</td><td style = \"text-align: right;\">1.917</td><td style = \"text-align: right;\">1.917</td><td style = \"text-align: right;\">1.917</td><td style = \"text-align: right;\">1.917</td><td style = \"text-align: right;\">1.917</td><td style = \"text-align: right;\">1.917</td><td style = \"text-align: right;\">1.917</td><td style = \"text-align: right;\">1.917</td><td style = \"text-align: right;\">1.917</td><td style = \"text-align: right;\">1.917</td></tr><tr><td class = \"rowNumber\" style = \"font-weight: bold; text-align: right;\">134671</td><td style = \"text-align: right;\">20</td><td style = \"text-align: left;\">chr20:55644746</td><td style = \"text-align: right;\">55.6447</td><td style = \"text-align: right;\">55.6447</td><td style = \"text-align: right;\">1.99</td><td style = \"text-align: right;\">1.99</td><td style = \"text-align: right;\">1.99</td><td style = \"text-align: right;\">1.99</td><td style = \"text-align: right;\">1.022</td><td style = \"text-align: right;\">1.99</td><td style = \"text-align: right;\">1.99</td><td style = \"text-align: right;\">1.99</td><td style = \"text-align: right;\">1.99</td><td style = \"text-align: right;\">1.99</td><td style = \"text-align: right;\">1.99</td><td style = \"text-align: right;\">1.99</td><td style = \"text-align: right;\">1.99</td><td style = \"text-align: right;\">1.99</td><td style = \"text-align: right;\">1.99</td><td style = \"text-align: right;\">1.99</td><td style = \"text-align: right;\">1.99</td><td style = \"text-align: right;\">1.99</td><td style = \"text-align: right;\">1.99</td><td style = \"text-align: right;\">1.99</td><td style = \"text-align: right;\">1.99</td><td style = \"text-align: right;\">1.99</td><td style = \"text-align: right;\">1.99</td><td style = \"text-align: right;\">1.99</td><td style = \"text-align: right;\">1.99</td><td style = \"text-align: right;\">1.99</td><td style = \"text-align: right;\">1.99</td><td style = \"text-align: right;\">1.99</td><td style = \"text-align: right;\">1.99</td><td style = \"text-align: right;\">1.99</td><td style = \"text-align: right;\">1.99</td><td style = \"text-align: right;\">1.99</td><td style = \"text-align: right;\">1.99</td><td style = \"text-align: right;\">1.99</td><td style = \"text-align: right;\">1.99</td><td style = \"text-align: right;\">1.99</td><td style = \"text-align: right;\">1.99</td><td style = \"text-align: right;\">1.99</td><td style = \"text-align: right;\">1.99</td><td style = \"text-align: right;\">1.99</td><td style = \"text-align: right;\">0.996</td><td style = \"text-align: right;\">1.99</td><td style = \"text-align: right;\">1.99</td><td style = \"text-align: right;\">1.99</td><td style = \"text-align: right;\">1.99</td><td style = \"text-align: right;\">1.99</td><td style = \"text-align: right;\">1.99</td><td style = \"text-align: right;\">1.99</td><td style = \"text-align: right;\">1.99</td><td style = \"text-align: right;\">1.99</td><td style = \"text-align: right;\">1.99</td><td style = \"text-align: right;\">1.99</td><td style = \"text-align: right;\">1.99</td><td style = \"text-align: right;\">1.99</td><td style = \"text-align: right;\">1.99</td><td style = \"text-align: right;\">1.99</td><td style = \"text-align: right;\">1.99</td><td style = \"text-align: right;\">1.99</td><td style = \"text-align: right;\">1.99</td><td style = \"text-align: right;\">1.99</td><td style = \"text-align: right;\">1.99</td><td style = \"text-align: right;\">1.99</td><td style = \"text-align: right;\">1.99</td><td style = \"text-align: right;\">1.99</td><td style = \"text-align: right;\">1.99</td><td style = \"text-align: right;\">1.99</td><td style = \"text-align: right;\">1.99</td><td style = \"text-align: right;\">1.99</td><td style = \"text-align: right;\">1.99</td><td style = \"text-align: right;\">1.99</td><td style = \"text-align: right;\">1.99</td><td style = \"text-align: right;\">1.99</td><td style = \"text-align: right;\">1.99</td><td style = \"text-align: right;\">1.99</td><td style = \"text-align: right;\">1.99</td><td style = \"text-align: right;\">1.99</td><td style = \"text-align: right;\">1.99</td><td style = \"text-align: right;\">1.99</td><td style = \"text-align: right;\">1.99</td><td style = \"text-align: right;\">1.99</td></tr><tr><td class = \"rowNumber\" style = \"font-weight: bold; text-align: right;\">134672</td><td style = \"text-align: right;\">20</td><td style = \"text-align: left;\">chr20:55659520</td><td style = \"text-align: right;\">55.6595</td><td style = \"text-align: right;\">55.6595</td><td style = \"text-align: right;\">1.913</td><td style = \"text-align: right;\">1.913</td><td style = \"text-align: right;\">1.913</td><td style = \"text-align: right;\">1.913</td><td style = \"text-align: right;\">0.08002</td><td style = \"text-align: right;\">1.913</td><td style = \"text-align: right;\">1.913</td><td style = \"text-align: right;\">1.913</td><td style = \"text-align: right;\">1.913</td><td style = \"text-align: right;\">1.913</td><td style = \"text-align: right;\">1.913</td><td style = \"text-align: right;\">1.913</td><td style = \"text-align: right;\">1.913</td><td style = \"text-align: right;\">1.9139</td><td style = \"text-align: right;\">1.913</td><td style = \"text-align: right;\">1.913</td><td style = \"text-align: right;\">1.913</td><td style = \"text-align: right;\">1.913</td><td style = \"text-align: right;\">1.913</td><td style = \"text-align: right;\">1.913</td><td style = \"text-align: right;\">1.913</td><td style = \"text-align: right;\">1.913</td><td style = \"text-align: right;\">1.913</td><td style = \"text-align: right;\">1.913</td><td style = \"text-align: right;\">1.913</td><td style = \"text-align: right;\">1.913</td><td style = \"text-align: right;\">1.913</td><td style = \"text-align: right;\">1.913</td><td style = \"text-align: right;\">1.913</td><td style = \"text-align: right;\">1.913</td><td style = \"text-align: right;\">1.913</td><td style = \"text-align: right;\">1.913</td><td style = \"text-align: right;\">1.913</td><td style = \"text-align: right;\">1.913</td><td style = \"text-align: right;\">1.913</td><td style = \"text-align: right;\">1.913</td><td style = \"text-align: right;\">1.913</td><td style = \"text-align: right;\">1.913</td><td style = \"text-align: right;\">1.913</td><td style = \"text-align: right;\">1.913</td><td style = \"text-align: right;\">0.95795</td><td style = \"text-align: right;\">1.913</td><td style = \"text-align: right;\">1.913</td><td style = \"text-align: right;\">1.913</td><td style = \"text-align: right;\">1.913</td><td style = \"text-align: right;\">1.913</td><td style = \"text-align: right;\">1.913</td><td style = \"text-align: right;\">1.913</td><td style = \"text-align: right;\">1.913</td><td style = \"text-align: right;\">1.913</td><td style = \"text-align: right;\">1.913</td><td style = \"text-align: right;\">1.913</td><td style = \"text-align: right;\">1.913</td><td style = \"text-align: right;\">1.913</td><td style = \"text-align: right;\">1.913</td><td style = \"text-align: right;\">1.913</td><td style = \"text-align: right;\">1.913</td><td style = \"text-align: right;\">1.913</td><td style = \"text-align: right;\">1.913</td><td style = \"text-align: right;\">1.913</td><td style = \"text-align: right;\">1.913</td><td style = \"text-align: right;\">1.913</td><td style = \"text-align: right;\">1.913</td><td style = \"text-align: right;\">1.913</td><td style = \"text-align: right;\">1.913</td><td style = \"text-align: right;\">1.913</td><td style = \"text-align: right;\">1.912</td><td style = \"text-align: right;\">1.913</td><td style = \"text-align: right;\">1.913</td><td style = \"text-align: right;\">1.913</td><td style = \"text-align: right;\">1.913</td><td style = \"text-align: right;\">1.913</td><td style = \"text-align: right;\">1.913</td><td style = \"text-align: right;\">1.913</td><td style = \"text-align: right;\">1.913</td><td style = \"text-align: right;\">1.913</td><td style = \"text-align: right;\">1.913</td><td style = \"text-align: right;\">1.913</td><td style = \"text-align: right;\">1.913</td><td style = \"text-align: right;\">1.913</td></tr><tr><td class = \"rowNumber\" style = \"font-weight: bold; text-align: right;\">134673</td><td style = \"text-align: right;\">20</td><td style = \"text-align: left;\">chr20:55716379</td><td style = \"text-align: right;\">55.7164</td><td style = \"text-align: right;\">55.7164</td><td style = \"text-align: right;\">0.004</td><td style = \"text-align: right;\">0.004</td><td style = \"text-align: right;\">0.004</td><td style = \"text-align: right;\">0.004</td><td style = \"text-align: right;\">0.022</td><td style = \"text-align: right;\">0.004</td><td style = \"text-align: right;\">0.004</td><td style = \"text-align: right;\">0.004</td><td style = \"text-align: right;\">0.004</td><td style = \"text-align: right;\">0.004</td><td style = \"text-align: right;\">0.004</td><td style = \"text-align: right;\">0.004</td><td style = \"text-align: right;\">0.004</td><td style = \"text-align: right;\">0.004</td><td style = \"text-align: right;\">0.004</td><td style = \"text-align: right;\">0.004</td><td style = \"text-align: right;\">0.004</td><td style = \"text-align: right;\">0.004</td><td style = \"text-align: right;\">0.004</td><td style = \"text-align: right;\">0.004</td><td style = \"text-align: right;\">0.004</td><td style = \"text-align: right;\">0.004</td><td style = \"text-align: right;\">0.004</td><td style = \"text-align: right;\">0.004</td><td style = \"text-align: right;\">0.004</td><td style = \"text-align: right;\">0.004</td><td style = \"text-align: right;\">0.004</td><td style = \"text-align: right;\">0.004</td><td style = \"text-align: right;\">0.004</td><td style = \"text-align: right;\">0.004</td><td style = \"text-align: right;\">0.004</td><td style = \"text-align: right;\">0.004</td><td style = \"text-align: right;\">0.004</td><td style = \"text-align: right;\">0.004</td><td style = \"text-align: right;\">0.004</td><td style = \"text-align: right;\">0.004</td><td style = \"text-align: right;\">0.004</td><td style = \"text-align: right;\">0.004</td><td style = \"text-align: right;\">0.004</td><td style = \"text-align: right;\">0.004</td><td style = \"text-align: right;\">1.0</td><td style = \"text-align: right;\">0.004</td><td style = \"text-align: right;\">0.004</td><td style = \"text-align: right;\">0.004</td><td style = \"text-align: right;\">0.004</td><td style = \"text-align: right;\">0.004</td><td style = \"text-align: right;\">0.004</td><td style = \"text-align: right;\">0.004</td><td style = \"text-align: right;\">0.004</td><td style = \"text-align: right;\">0.004</td><td style = \"text-align: right;\">0.004</td><td style = \"text-align: right;\">0.004</td><td style = \"text-align: right;\">0.004</td><td style = \"text-align: right;\">0.004</td><td style = \"text-align: right;\">0.004</td><td style = \"text-align: right;\">0.004</td><td style = \"text-align: right;\">0.004</td><td style = \"text-align: right;\">0.004</td><td style = \"text-align: right;\">0.004</td><td style = \"text-align: right;\">0.004</td><td style = \"text-align: right;\">0.004</td><td style = \"text-align: right;\">0.004</td><td style = \"text-align: right;\">0.004</td><td style = \"text-align: right;\">0.004</td><td style = \"text-align: right;\">0.004</td><td style = \"text-align: right;\">0.004</td><td style = \"text-align: right;\">0.004</td><td style = \"text-align: right;\">0.004</td><td style = \"text-align: right;\">0.004</td><td style = \"text-align: right;\">0.004</td><td style = \"text-align: right;\">0.004</td><td style = \"text-align: right;\">0.004</td><td style = \"text-align: right;\">0.004</td><td style = \"text-align: right;\">0.004</td><td style = \"text-align: right;\">0.004</td><td style = \"text-align: right;\">0.004</td><td style = \"text-align: right;\">0.004</td><td style = \"text-align: right;\">0.004</td><td style = \"text-align: right;\">0.004</td><td style = \"text-align: right;\">0.004</td></tr><tr><td class = \"rowNumber\" style = \"font-weight: bold; text-align: right;\">134674</td><td style = \"text-align: right;\">20</td><td style = \"text-align: left;\">chr20:55744179</td><td style = \"text-align: right;\">55.7442</td><td style = \"text-align: right;\">55.7442</td><td style = \"text-align: right;\">2.0</td><td style = \"text-align: right;\">2.0</td><td style = \"text-align: right;\">2.0</td><td style = \"text-align: right;\">2.0</td><td style = \"text-align: right;\">1.0</td><td style = \"text-align: right;\">2.0</td><td style = \"text-align: right;\">2.0</td><td style = \"text-align: right;\">2.0</td><td style = \"text-align: right;\">2.0</td><td style = \"text-align: right;\">2.0</td><td style = \"text-align: right;\">2.0</td><td style = \"text-align: right;\">2.0</td><td style = \"text-align: right;\">2.0</td><td style = \"text-align: right;\">2.0</td><td style = \"text-align: right;\">2.0</td><td style = \"text-align: right;\">2.0</td><td style = \"text-align: right;\">2.0</td><td style = \"text-align: right;\">2.0</td><td style = \"text-align: right;\">2.0</td><td style = \"text-align: right;\">2.0</td><td style = \"text-align: right;\">2.0</td><td style = \"text-align: right;\">2.0</td><td style = \"text-align: right;\">2.0</td><td style = \"text-align: right;\">2.0</td><td style = \"text-align: right;\">2.0</td><td style = \"text-align: right;\">2.0</td><td style = \"text-align: right;\">2.0</td><td style = \"text-align: right;\">2.0</td><td style = \"text-align: right;\">2.0</td><td style = \"text-align: right;\">2.0</td><td style = \"text-align: right;\">2.0</td><td style = \"text-align: right;\">2.0</td><td style = \"text-align: right;\">2.0</td><td style = \"text-align: right;\">2.0</td><td style = \"text-align: right;\">2.0</td><td style = \"text-align: right;\">2.0</td><td style = \"text-align: right;\">2.0</td><td style = \"text-align: right;\">2.0</td><td style = \"text-align: right;\">2.0</td><td style = \"text-align: right;\">2.0</td><td style = \"text-align: right;\">1.0</td><td style = \"text-align: right;\">2.0</td><td style = \"text-align: right;\">2.0</td><td style = \"text-align: right;\">2.0</td><td style = \"text-align: right;\">2.0</td><td style = \"text-align: right;\">2.0</td><td style = \"text-align: right;\">2.0</td><td style = \"text-align: right;\">2.0</td><td style = \"text-align: right;\">2.0</td><td style = \"text-align: right;\">2.0</td><td style = \"text-align: right;\">2.0</td><td style = \"text-align: right;\">2.0</td><td style = \"text-align: right;\">2.0</td><td style = \"text-align: right;\">2.0</td><td style = \"text-align: right;\">2.0</td><td style = \"text-align: right;\">2.0</td><td style = \"text-align: right;\">2.0</td><td style = \"text-align: right;\">2.0</td><td style = \"text-align: right;\">2.0</td><td style = \"text-align: right;\">2.0</td><td style = \"text-align: right;\">2.0</td><td style = \"text-align: right;\">2.0</td><td style = \"text-align: right;\">2.0</td><td style = \"text-align: right;\">2.0</td><td style = \"text-align: right;\">2.0</td><td style = \"text-align: right;\">2.0</td><td style = \"text-align: right;\">2.0</td><td style = \"text-align: right;\">2.0</td><td style = \"text-align: right;\">2.0</td><td style = \"text-align: right;\">2.0</td><td style = \"text-align: right;\">2.0</td><td style = \"text-align: right;\">2.0</td><td style = \"text-align: right;\">2.0</td><td style = \"text-align: right;\">2.0</td><td style = \"text-align: right;\">2.0</td><td style = \"text-align: right;\">2.0</td><td style = \"text-align: right;\">2.0</td><td style = \"text-align: right;\">2.0</td><td style = \"text-align: right;\">2.0</td><td style = \"text-align: right;\">2.0</td></tr><tr><td class = \"rowNumber\" style = \"font-weight: bold; text-align: right;\">134675</td><td style = \"text-align: right;\">20</td><td style = \"text-align: left;\">chr20:55773139</td><td style = \"text-align: right;\">55.7731</td><td style = \"text-align: right;\">55.7731</td><td style = \"text-align: right;\">1.913</td><td style = \"text-align: right;\">1.913</td><td style = \"text-align: right;\">1.913</td><td style = \"text-align: right;\">1.913</td><td style = \"text-align: right;\">0.92902</td><td style = \"text-align: right;\">1.913</td><td style = \"text-align: right;\">1.913</td><td style = \"text-align: right;\">1.913</td><td style = \"text-align: right;\">1.913</td><td style = \"text-align: right;\">1.913</td><td style = \"text-align: right;\">1.913</td><td style = \"text-align: right;\">1.913</td><td style = \"text-align: right;\">1.913</td><td style = \"text-align: right;\">1.913</td><td style = \"text-align: right;\">1.91205</td><td style = \"text-align: right;\">1.913</td><td style = \"text-align: right;\">1.913</td><td style = \"text-align: right;\">1.913</td><td style = \"text-align: right;\">1.913</td><td style = \"text-align: right;\">1.913</td><td style = \"text-align: right;\">1.913</td><td style = \"text-align: right;\">1.913</td><td style = \"text-align: right;\">1.913</td><td style = \"text-align: right;\">1.913</td><td style = \"text-align: right;\">1.913</td><td style = \"text-align: right;\">1.913</td><td style = \"text-align: right;\">1.913</td><td style = \"text-align: right;\">1.913</td><td style = \"text-align: right;\">1.91205</td><td style = \"text-align: right;\">1.913</td><td style = \"text-align: right;\">1.913</td><td style = \"text-align: right;\">1.913</td><td style = \"text-align: right;\">1.913</td><td style = \"text-align: right;\">1.913</td><td style = \"text-align: right;\">1.913</td><td style = \"text-align: right;\">1.913</td><td style = \"text-align: right;\">1.913</td><td style = \"text-align: right;\">1.913</td><td style = \"text-align: right;\">1.913</td><td style = \"text-align: right;\">1.913</td><td style = \"text-align: right;\">0.959</td><td style = \"text-align: right;\">1.913</td><td style = \"text-align: right;\">1.913</td><td style = \"text-align: right;\">1.913</td><td style = \"text-align: right;\">1.913</td><td style = \"text-align: right;\">1.913</td><td style = \"text-align: right;\">1.913</td><td style = \"text-align: right;\">1.913</td><td style = \"text-align: right;\">1.913</td><td style = \"text-align: right;\">1.913</td><td style = \"text-align: right;\">1.913</td><td style = \"text-align: right;\">1.913</td><td style = \"text-align: right;\">1.913</td><td style = \"text-align: right;\">1.913</td><td style = \"text-align: right;\">1.913</td><td style = \"text-align: right;\">1.913</td><td style = \"text-align: right;\">1.913</td><td style = \"text-align: right;\">1.913</td><td style = \"text-align: right;\">1.913</td><td style = \"text-align: right;\">1.913</td><td style = \"text-align: right;\">1.913</td><td style = \"text-align: right;\">1.913</td><td style = \"text-align: right;\">1.913</td><td style = \"text-align: right;\">1.913</td><td style = \"text-align: right;\">1.91205</td><td style = \"text-align: right;\">1.913</td><td style = \"text-align: right;\">1.911</td><td style = \"text-align: right;\">1.913</td><td style = \"text-align: right;\">1.913</td><td style = \"text-align: right;\">1.913</td><td style = \"text-align: right;\">1.913</td><td style = \"text-align: right;\">1.913</td><td style = \"text-align: right;\">1.913</td><td style = \"text-align: right;\">1.913</td><td style = \"text-align: right;\">1.913</td><td style = \"text-align: right;\">1.913</td><td style = \"text-align: right;\">1.91205</td><td style = \"text-align: right;\">1.913</td><td style = \"text-align: right;\">1.913</td><td style = \"text-align: right;\">1.913</td></tr><tr><td class = \"rowNumber\" style = \"font-weight: bold; text-align: right;\">134676</td><td style = \"text-align: right;\">20</td><td style = \"text-align: left;\">chr20:55818290</td><td style = \"text-align: right;\">55.8183</td><td style = \"text-align: right;\">55.8183</td><td style = \"text-align: right;\">1.89703</td><td style = \"text-align: right;\">1.89703</td><td style = \"text-align: right;\">1.89703</td><td style = \"text-align: right;\">1.89703</td><td style = \"text-align: right;\">0.9049</td><td style = \"text-align: right;\">1.89703</td><td style = \"text-align: right;\">1.89703</td><td style = \"text-align: right;\">1.89703</td><td style = \"text-align: right;\">1.89703</td><td style = \"text-align: right;\">1.89703</td><td style = \"text-align: right;\">1.89703</td><td style = \"text-align: right;\">1.89703</td><td style = \"text-align: right;\">1.89703</td><td style = \"text-align: right;\">1.90485</td><td style = \"text-align: right;\">1.89703</td><td style = \"text-align: right;\">1.89703</td><td style = \"text-align: right;\">1.89703</td><td style = \"text-align: right;\">1.89703</td><td style = \"text-align: right;\">1.89703</td><td style = \"text-align: right;\">1.89703</td><td style = \"text-align: right;\">1.89703</td><td style = \"text-align: right;\">1.89703</td><td style = \"text-align: right;\">1.89703</td><td style = \"text-align: right;\">1.89703</td><td style = \"text-align: right;\">1.89703</td><td style = \"text-align: right;\">1.89703</td><td style = \"text-align: right;\">1.89703</td><td style = \"text-align: right;\">1.89703</td><td style = \"text-align: right;\">1.89703</td><td style = \"text-align: right;\">1.89703</td><td style = \"text-align: right;\">1.89703</td><td style = \"text-align: right;\">1.89703</td><td style = \"text-align: right;\">1.89703</td><td style = \"text-align: right;\">1.89716</td><td style = \"text-align: right;\">1.89703</td><td style = \"text-align: right;\">1.89703</td><td style = \"text-align: right;\">1.89703</td><td style = \"text-align: right;\">1.89703</td><td style = \"text-align: right;\">1.89703</td><td style = \"text-align: right;\">1.89703</td><td style = \"text-align: right;\">0.95502</td><td style = \"text-align: right;\">1.89703</td><td style = \"text-align: right;\">1.89703</td><td style = \"text-align: right;\">1.89703</td><td style = \"text-align: right;\">1.89703</td><td style = \"text-align: right;\">1.89703</td><td style = \"text-align: right;\">1.89703</td><td style = \"text-align: right;\">1.89703</td><td style = \"text-align: right;\">1.89703</td><td style = \"text-align: right;\">1.89703</td><td style = \"text-align: right;\">1.89703</td><td style = \"text-align: right;\">1.89703</td><td style = \"text-align: right;\">1.89703</td><td style = \"text-align: right;\">1.89703</td><td style = \"text-align: right;\">1.89703</td><td style = \"text-align: right;\">1.89703</td><td style = \"text-align: right;\">1.89703</td><td style = \"text-align: right;\">1.89703</td><td style = \"text-align: right;\">1.89703</td><td style = \"text-align: right;\">1.89703</td><td style = \"text-align: right;\">1.89703</td><td style = \"text-align: right;\">1.89703</td><td style = \"text-align: right;\">1.89703</td><td style = \"text-align: right;\">1.89703</td><td style = \"text-align: right;\">1.89703</td><td style = \"text-align: right;\">1.89703</td><td style = \"text-align: right;\">1.89703</td><td style = \"text-align: right;\">1.89703</td><td style = \"text-align: right;\">1.89703</td><td style = \"text-align: right;\">1.89703</td><td style = \"text-align: right;\">1.89703</td><td style = \"text-align: right;\">1.89703</td><td style = \"text-align: right;\">1.89703</td><td style = \"text-align: right;\">1.89703</td><td style = \"text-align: right;\">1.89703</td><td style = \"text-align: right;\">1.89703</td><td style = \"text-align: right;\">1.89703</td><td style = \"text-align: right;\">1.89703</td><td style = \"text-align: right;\">1.89703</td><td style = \"text-align: right;\">1.89703</td></tr><tr><td class = \"rowNumber\" style = \"font-weight: bold; text-align: right;\">134677</td><td style = \"text-align: right;\">20</td><td style = \"text-align: left;\">chr20:55944342</td><td style = \"text-align: right;\">55.9443</td><td style = \"text-align: right;\">55.9443</td><td style = \"text-align: right;\">2.0</td><td style = \"text-align: right;\">2.0</td><td style = \"text-align: right;\">2.0</td><td style = \"text-align: right;\">2.0</td><td style = \"text-align: right;\">1.0</td><td style = \"text-align: right;\">2.0</td><td style = \"text-align: right;\">2.0</td><td style = \"text-align: right;\">2.0</td><td style = \"text-align: right;\">2.0</td><td style = \"text-align: right;\">2.0</td><td style = \"text-align: right;\">2.0</td><td style = \"text-align: right;\">2.0</td><td style = \"text-align: right;\">2.0</td><td style = \"text-align: right;\">2.0</td><td style = \"text-align: right;\">2.0</td><td style = \"text-align: right;\">2.0</td><td style = \"text-align: right;\">2.0</td><td style = \"text-align: right;\">2.0</td><td style = \"text-align: right;\">2.0</td><td style = \"text-align: right;\">2.0</td><td style = \"text-align: right;\">2.0</td><td style = \"text-align: right;\">2.0</td><td style = \"text-align: right;\">2.0</td><td style = \"text-align: right;\">2.0</td><td style = \"text-align: right;\">2.0</td><td style = \"text-align: right;\">2.0</td><td style = \"text-align: right;\">2.0</td><td style = \"text-align: right;\">2.0</td><td style = \"text-align: right;\">2.0</td><td style = \"text-align: right;\">2.0</td><td style = \"text-align: right;\">2.0</td><td style = \"text-align: right;\">2.0</td><td style = \"text-align: right;\">2.0</td><td style = \"text-align: right;\">2.0</td><td style = \"text-align: right;\">2.0</td><td style = \"text-align: right;\">2.0</td><td style = \"text-align: right;\">2.0</td><td style = \"text-align: right;\">2.0</td><td style = \"text-align: right;\">2.0</td><td style = \"text-align: right;\">2.0</td><td style = \"text-align: right;\">1.0</td><td style = \"text-align: right;\">2.0</td><td style = \"text-align: right;\">2.0</td><td style = \"text-align: right;\">2.0</td><td style = \"text-align: right;\">2.0</td><td style = \"text-align: right;\">2.0</td><td style = \"text-align: right;\">2.0</td><td style = \"text-align: right;\">2.0</td><td style = \"text-align: right;\">2.0</td><td style = \"text-align: right;\">2.0</td><td style = \"text-align: right;\">2.0</td><td style = \"text-align: right;\">2.0</td><td style = \"text-align: right;\">2.0</td><td style = \"text-align: right;\">2.0</td><td style = \"text-align: right;\">2.0</td><td style = \"text-align: right;\">2.0</td><td style = \"text-align: right;\">2.0</td><td style = \"text-align: right;\">2.0</td><td style = \"text-align: right;\">2.0</td><td style = \"text-align: right;\">2.0</td><td style = \"text-align: right;\">2.0</td><td style = \"text-align: right;\">2.0</td><td style = \"text-align: right;\">2.0</td><td style = \"text-align: right;\">2.0</td><td style = \"text-align: right;\">2.0</td><td style = \"text-align: right;\">2.0</td><td style = \"text-align: right;\">2.0</td><td style = \"text-align: right;\">2.0</td><td style = \"text-align: right;\">2.0</td><td style = \"text-align: right;\">2.0</td><td style = \"text-align: right;\">2.0</td><td style = \"text-align: right;\">2.0</td><td style = \"text-align: right;\">2.0</td><td style = \"text-align: right;\">2.0</td><td style = \"text-align: right;\">2.0</td><td style = \"text-align: right;\">2.0</td><td style = \"text-align: right;\">2.0</td><td style = \"text-align: right;\">2.0</td><td style = \"text-align: right;\">2.0</td><td style = \"text-align: right;\">2.0</td></tr><tr><td class = \"rowNumber\" style = \"font-weight: bold; text-align: right;\">134678</td><td style = \"text-align: right;\">20</td><td style = \"text-align: left;\">chr20:55963803</td><td style = \"text-align: right;\">55.9638</td><td style = \"text-align: right;\">55.9638</td><td style = \"text-align: right;\">2.0</td><td style = \"text-align: right;\">2.0</td><td style = \"text-align: right;\">2.0</td><td style = \"text-align: right;\">2.0</td><td style = \"text-align: right;\">1.0</td><td style = \"text-align: right;\">2.0</td><td style = \"text-align: right;\">2.0</td><td style = \"text-align: right;\">2.0</td><td style = \"text-align: right;\">2.0</td><td style = \"text-align: right;\">2.0</td><td style = \"text-align: right;\">2.0</td><td style = \"text-align: right;\">1.0</td><td style = \"text-align: right;\">2.0</td><td style = \"text-align: right;\">2.0</td><td style = \"text-align: right;\">2.0</td><td style = \"text-align: right;\">2.0</td><td style = \"text-align: right;\">2.0</td><td style = \"text-align: right;\">2.0</td><td style = \"text-align: right;\">2.0</td><td style = \"text-align: right;\">2.0</td><td style = \"text-align: right;\">2.0</td><td style = \"text-align: right;\">2.0</td><td style = \"text-align: right;\">2.0</td><td style = \"text-align: right;\">2.0</td><td style = \"text-align: right;\">2.0</td><td style = \"text-align: right;\">2.0</td><td style = \"text-align: right;\">2.0</td><td style = \"text-align: right;\">2.0</td><td style = \"text-align: right;\">2.0</td><td style = \"text-align: right;\">2.0</td><td style = \"text-align: right;\">2.0</td><td style = \"text-align: right;\">2.0</td><td style = \"text-align: right;\">2.0</td><td style = \"text-align: right;\">2.0</td><td style = \"text-align: right;\">2.0</td><td style = \"text-align: right;\">2.0</td><td style = \"text-align: right;\">2.0</td><td style = \"text-align: right;\">2.0</td><td style = \"text-align: right;\">2.0</td><td style = \"text-align: right;\">2.0</td><td style = \"text-align: right;\">1.0</td><td style = \"text-align: right;\">2.0</td><td style = \"text-align: right;\">2.0</td><td style = \"text-align: right;\">2.0</td><td style = \"text-align: right;\">2.0</td><td style = \"text-align: right;\">2.0</td><td style = \"text-align: right;\">2.0</td><td style = \"text-align: right;\">2.0</td><td style = \"text-align: right;\">2.0</td><td style = \"text-align: right;\">2.0</td><td style = \"text-align: right;\">2.0</td><td style = \"text-align: right;\">2.0</td><td style = \"text-align: right;\">2.0</td><td style = \"text-align: right;\">2.0</td><td style = \"text-align: right;\">2.0</td><td style = \"text-align: right;\">2.0</td><td style = \"text-align: right;\">2.0</td><td style = \"text-align: right;\">2.0</td><td style = \"text-align: right;\">2.0</td><td style = \"text-align: right;\">2.0</td><td style = \"text-align: right;\">2.0</td><td style = \"text-align: right;\">2.0</td><td style = \"text-align: right;\">2.0</td><td style = \"text-align: right;\">2.0</td><td style = \"text-align: right;\">2.0</td><td style = \"text-align: right;\">2.0</td><td style = \"text-align: right;\">2.0</td><td style = \"text-align: right;\">2.0</td><td style = \"text-align: right;\">2.0</td><td style = \"text-align: right;\">2.0</td><td style = \"text-align: right;\">2.0</td><td style = \"text-align: right;\">2.0</td><td style = \"text-align: right;\">2.0</td><td style = \"text-align: right;\">2.0</td><td style = \"text-align: right;\">2.0</td><td style = \"text-align: right;\">2.0</td><td style = \"text-align: right;\">2.0</td><td style = \"text-align: right;\">2.0</td><td style = \"text-align: right;\">2.0</td><td style = \"text-align: right;\">2.0</td></tr><tr><td class = \"rowNumber\" style = \"font-weight: bold; text-align: right;\">134679</td><td style = \"text-align: right;\">20</td><td style = \"text-align: left;\">chr20:55991426</td><td style = \"text-align: right;\">55.9914</td><td style = \"text-align: right;\">55.9914</td><td style = \"text-align: right;\">1.998</td><td style = \"text-align: right;\">1.998</td><td style = \"text-align: right;\">1.998</td><td style = \"text-align: right;\">1.998</td><td style = \"text-align: right;\">0.996</td><td style = \"text-align: right;\">1.998</td><td style = \"text-align: right;\">1.998</td><td style = \"text-align: right;\">1.998</td><td style = \"text-align: right;\">1.998</td><td style = \"text-align: right;\">1.998</td><td style = \"text-align: right;\">1.998</td><td style = \"text-align: right;\">1.995</td><td style = \"text-align: right;\">1.998</td><td style = \"text-align: right;\">1.998</td><td style = \"text-align: right;\">1.998</td><td style = \"text-align: right;\">1.998</td><td style = \"text-align: right;\">1.998</td><td style = \"text-align: right;\">1.998</td><td style = \"text-align: right;\">1.998</td><td style = \"text-align: right;\">1.998</td><td style = \"text-align: right;\">1.998</td><td style = \"text-align: right;\">1.998</td><td style = \"text-align: right;\">1.998</td><td style = \"text-align: right;\">1.998</td><td style = \"text-align: right;\">1.998</td><td style = \"text-align: right;\">1.998</td><td style = \"text-align: right;\">1.998</td><td style = \"text-align: right;\">1.998</td><td style = \"text-align: right;\">1.998</td><td style = \"text-align: right;\">1.998</td><td style = \"text-align: right;\">1.998</td><td style = \"text-align: right;\">1.998</td><td style = \"text-align: right;\">1.998</td><td style = \"text-align: right;\">1.998</td><td style = \"text-align: right;\">1.998</td><td style = \"text-align: right;\">1.998</td><td style = \"text-align: right;\">1.998</td><td style = \"text-align: right;\">1.998</td><td style = \"text-align: right;\">1.998</td><td style = \"text-align: right;\">1.998</td><td style = \"text-align: right;\">1.0</td><td style = \"text-align: right;\">1.998</td><td style = \"text-align: right;\">1.998</td><td style = \"text-align: right;\">1.998</td><td style = \"text-align: right;\">1.998</td><td style = \"text-align: right;\">1.998</td><td style = \"text-align: right;\">1.998</td><td style = \"text-align: right;\">1.998</td><td style = \"text-align: right;\">1.998</td><td style = \"text-align: right;\">1.998</td><td style = \"text-align: right;\">1.998</td><td style = \"text-align: right;\">1.998</td><td style = \"text-align: right;\">1.998</td><td style = \"text-align: right;\">1.998</td><td style = \"text-align: right;\">1.998</td><td style = \"text-align: right;\">1.998</td><td style = \"text-align: right;\">1.998</td><td style = \"text-align: right;\">1.998</td><td style = \"text-align: right;\">1.998</td><td style = \"text-align: right;\">1.998</td><td style = \"text-align: right;\">1.998</td><td style = \"text-align: right;\">1.998</td><td style = \"text-align: right;\">1.998</td><td style = \"text-align: right;\">1.998</td><td style = \"text-align: right;\">1.998</td><td style = \"text-align: right;\">1.998</td><td style = \"text-align: right;\">1.998</td><td style = \"text-align: right;\">1.998</td><td style = \"text-align: right;\">1.998</td><td style = \"text-align: right;\">1.998</td><td style = \"text-align: right;\">1.998</td><td style = \"text-align: right;\">1.998</td><td style = \"text-align: right;\">1.998</td><td style = \"text-align: right;\">1.998</td><td style = \"text-align: right;\">1.998</td><td style = \"text-align: right;\">1.998</td><td style = \"text-align: right;\">1.998</td><td style = \"text-align: right;\">1.998</td><td style = \"text-align: right;\">1.998</td><td style = \"text-align: right;\">1.998</td></tr><tr><td class = \"rowNumber\" style = \"font-weight: bold; text-align: right;\">134680</td><td style = \"text-align: right;\">20</td><td style = \"text-align: left;\">chr20:55999627</td><td style = \"text-align: right;\">55.9996</td><td style = \"text-align: right;\">55.9996</td><td style = \"text-align: right;\">0.013</td><td style = \"text-align: right;\">0.013</td><td style = \"text-align: right;\">0.013</td><td style = \"text-align: right;\">0.013</td><td style = \"text-align: right;\">0.091</td><td style = \"text-align: right;\">0.013</td><td style = \"text-align: right;\">0.013</td><td style = \"text-align: right;\">0.013</td><td style = \"text-align: right;\">0.013</td><td style = \"text-align: right;\">0.013</td><td style = \"text-align: right;\">0.013</td><td style = \"text-align: right;\">0.014</td><td style = \"text-align: right;\">0.013</td><td style = \"text-align: right;\">0.013</td><td style = \"text-align: right;\">0.013</td><td style = \"text-align: right;\">0.013</td><td style = \"text-align: right;\">0.013</td><td style = \"text-align: right;\">0.013</td><td style = \"text-align: right;\">0.013</td><td style = \"text-align: right;\">0.013</td><td style = \"text-align: right;\">0.013</td><td style = \"text-align: right;\">0.013</td><td style = \"text-align: right;\">0.013</td><td style = \"text-align: right;\">0.013</td><td style = \"text-align: right;\">0.013</td><td style = \"text-align: right;\">0.013</td><td style = \"text-align: right;\">0.013</td><td style = \"text-align: right;\">0.013</td><td style = \"text-align: right;\">0.013</td><td style = \"text-align: right;\">0.013</td><td style = \"text-align: right;\">0.013</td><td style = \"text-align: right;\">0.013</td><td style = \"text-align: right;\">0.013</td><td style = \"text-align: right;\">0.013</td><td style = \"text-align: right;\">0.013</td><td style = \"text-align: right;\">0.013</td><td style = \"text-align: right;\">0.013</td><td style = \"text-align: right;\">0.013</td><td style = \"text-align: right;\">0.013</td><td style = \"text-align: right;\">0.013</td><td style = \"text-align: right;\">0.98798</td><td style = \"text-align: right;\">0.013</td><td style = \"text-align: right;\">0.013</td><td style = \"text-align: right;\">0.013</td><td style = \"text-align: right;\">0.013</td><td style = \"text-align: right;\">0.013</td><td style = \"text-align: right;\">0.013</td><td style = \"text-align: right;\">0.013</td><td style = \"text-align: right;\">0.013</td><td style = \"text-align: right;\">0.013</td><td style = \"text-align: right;\">0.013</td><td style = \"text-align: right;\">0.013</td><td style = \"text-align: right;\">0.013</td><td style = \"text-align: right;\">0.013</td><td style = \"text-align: right;\">0.013</td><td style = \"text-align: right;\">0.013</td><td style = \"text-align: right;\">0.013</td><td style = \"text-align: right;\">0.013</td><td style = \"text-align: right;\">0.013</td><td style = \"text-align: right;\">0.013</td><td style = \"text-align: right;\">0.013</td><td style = \"text-align: right;\">0.013</td><td style = \"text-align: right;\">0.013</td><td style = \"text-align: right;\">0.013</td><td style = \"text-align: right;\">0.013</td><td style = \"text-align: right;\">0.013</td><td style = \"text-align: right;\">0.013</td><td style = \"text-align: right;\">0.013</td><td style = \"text-align: right;\">0.013</td><td style = \"text-align: right;\">0.013</td><td style = \"text-align: right;\">0.013</td><td style = \"text-align: right;\">0.013</td><td style = \"text-align: right;\">0.013</td><td style = \"text-align: right;\">0.013</td><td style = \"text-align: right;\">0.013</td><td style = \"text-align: right;\">0.013</td><td style = \"text-align: right;\">0.013</td><td style = \"text-align: right;\">0.013</td><td style = \"text-align: right;\">0.013</td><td style = \"text-align: right;\">0.013</td></tr><tr><td class = \"rowNumber\" style = \"font-weight: bold; text-align: right;\">134681</td><td style = \"text-align: right;\">20</td><td style = \"text-align: left;\">chr20:56115597</td><td style = \"text-align: right;\">56.1156</td><td style = \"text-align: right;\">56.1156</td><td style = \"text-align: right;\">2.0</td><td style = \"text-align: right;\">2.0</td><td style = \"text-align: right;\">2.0</td><td style = \"text-align: right;\">2.0</td><td style = \"text-align: right;\">2.0</td><td style = \"text-align: right;\">2.0</td><td style = \"text-align: right;\">2.0</td><td style = \"text-align: right;\">2.0</td><td style = \"text-align: right;\">2.0</td><td style = \"text-align: right;\">2.0</td><td style = \"text-align: right;\">2.0</td><td style = \"text-align: right;\">2.0</td><td style = \"text-align: right;\">2.0</td><td style = \"text-align: right;\">2.0</td><td style = \"text-align: right;\">2.0</td><td style = \"text-align: right;\">2.0</td><td style = \"text-align: right;\">2.0</td><td style = \"text-align: right;\">2.0</td><td style = \"text-align: right;\">2.0</td><td style = \"text-align: right;\">2.0</td><td style = \"text-align: right;\">2.0</td><td style = \"text-align: right;\">2.0</td><td style = \"text-align: right;\">2.0</td><td style = \"text-align: right;\">2.0</td><td style = \"text-align: right;\">2.0</td><td style = \"text-align: right;\">2.0</td><td style = \"text-align: right;\">2.0</td><td style = \"text-align: right;\">2.0</td><td style = \"text-align: right;\">2.0</td><td style = \"text-align: right;\">2.0</td><td style = \"text-align: right;\">2.0</td><td style = \"text-align: right;\">2.0</td><td style = \"text-align: right;\">2.0</td><td style = \"text-align: right;\">2.0</td><td style = \"text-align: right;\">2.0</td><td style = \"text-align: right;\">2.0</td><td style = \"text-align: right;\">2.0</td><td style = \"text-align: right;\">2.0</td><td style = \"text-align: right;\">2.0</td><td style = \"text-align: right;\">2.0</td><td style = \"text-align: right;\">2.0</td><td style = \"text-align: right;\">2.0</td><td style = \"text-align: right;\">2.0</td><td style = \"text-align: right;\">2.0</td><td style = \"text-align: right;\">2.0</td><td style = \"text-align: right;\">2.0</td><td style = \"text-align: right;\">2.0</td><td style = \"text-align: right;\">2.0</td><td style = \"text-align: right;\">2.0</td><td style = \"text-align: right;\">2.0</td><td style = \"text-align: right;\">2.0</td><td style = \"text-align: right;\">1.0</td><td style = \"text-align: right;\">2.0</td><td style = \"text-align: right;\">2.0</td><td style = \"text-align: right;\">2.0</td><td style = \"text-align: right;\">2.0</td><td style = \"text-align: right;\">2.0</td><td style = \"text-align: right;\">2.0</td><td style = \"text-align: right;\">2.0</td><td style = \"text-align: right;\">2.0</td><td style = \"text-align: right;\">2.0</td><td style = \"text-align: right;\">2.0</td><td style = \"text-align: right;\">2.0</td><td style = \"text-align: right;\">2.0</td><td style = \"text-align: right;\">2.0</td><td style = \"text-align: right;\">2.0</td><td style = \"text-align: right;\">2.0</td><td style = \"text-align: right;\">2.0</td><td style = \"text-align: right;\">2.0</td><td style = \"text-align: right;\">2.0</td><td style = \"text-align: right;\">2.0</td><td style = \"text-align: right;\">2.0</td><td style = \"text-align: right;\">2.0</td><td style = \"text-align: right;\">2.0</td><td style = \"text-align: right;\">2.0</td><td style = \"text-align: right;\">2.0</td><td style = \"text-align: right;\">2.0</td><td style = \"text-align: right;\">2.0</td><td style = \"text-align: right;\">2.0</td><td style = \"text-align: right;\">2.0</td></tr></tbody></table></div>"
      ],
      "text/latex": [
       "\\begin{tabular}{r|ccccccccc}\n",
       "\t& Chr & Locus & cM & Mb & 00077E67B5 & 00077E76FE & 00077E8336 & 00077EA7E6 & \\\\\n",
       "\t\\hline\n",
       "\t& Int64 & String15 & Float64 & Float64 & Float64 & Float64 & Float64 & Float64 & \\\\\n",
       "\t\\hline\n",
       "\t1 & 1 & chr1:55365 & 0.055365 & 0.055365 & 2.0 & 2.0 & 1.0 & 2.0 & $\\dots$ \\\\\n",
       "\t2 & 1 & chr1:666374 & 0.666374 & 0.666374 & 2.0 & 2.0 & 2.0 & 2.0 & $\\dots$ \\\\\n",
       "\t3 & 1 & chr1:666382 & 0.666382 & 0.666382 & 2.0 & 2.0 & 2.0 & 1.0 & $\\dots$ \\\\\n",
       "\t4 & 1 & chr1:666394 & 0.666394 & 0.666394 & 2.0 & 2.0 & 2.0 & 1.0 & $\\dots$ \\\\\n",
       "\t5 & 1 & chr1:669529 & 0.669529 & 0.669529 & 2.0 & 2.0 & 2.0 & 1.0 & $\\dots$ \\\\\n",
       "\t6 & 1 & chr1:669562 & 0.669562 & 0.669562 & 2.0 & 2.0 & 2.0 & 2.0 & $\\dots$ \\\\\n",
       "\t7 & 1 & chr1:671466 & 0.671466 & 0.671466 & 2.0 & 2.0 & 2.0 & 2.0 & $\\dots$ \\\\\n",
       "\t8 & 1 & chr1:759319 & 0.759319 & 0.759319 & 0.997 & 1.976 & 0.991 & 1.979 & $\\dots$ \\\\\n",
       "\t9 & 1 & chr1:1134030 & 1.13403 & 1.13403 & 1.941 & 1.559 & 1.006 & 1.994 & $\\dots$ \\\\\n",
       "\t10 & 1 & chr1:1139210 & 1.13921 & 1.13921 & 1.978 & 1.992 & 1.997 & 1.994 & $\\dots$ \\\\\n",
       "\t11 & 1 & chr1:1143318 & 1.14332 & 1.14332 & 0.031 & 0.39 & 0.99298 & 0.008 & $\\dots$ \\\\\n",
       "\t12 & 1 & chr1:1151014 & 1.15101 & 1.15101 & 1.997 & 1.997 & 1.998 & 1.997 & $\\dots$ \\\\\n",
       "\t13 & 1 & chr1:1151294 & 1.15129 & 1.15129 & 1.997 & 1.997 & 1.006 & 1.997 & $\\dots$ \\\\\n",
       "\t14 & 1 & chr1:1154467 & 1.15447 & 1.15447 & 1.988 & 1.997 & 1.005 & 1.998 & $\\dots$ \\\\\n",
       "\t15 & 1 & chr1:1154955 & 1.15495 & 1.15495 & 1.0 & 2.0 & 1.0 & 2.0 & $\\dots$ \\\\\n",
       "\t16 & 1 & chr1:1155023 & 1.15502 & 1.15502 & 2.0 & 2.0 & 2.0 & 2.0 & $\\dots$ \\\\\n",
       "\t17 & 1 & chr1:1192303 & 1.1923 & 1.1923 & 1.982 & 1.998 & 1.33636 & 1.997 & $\\dots$ \\\\\n",
       "\t18 & 1 & chr1:1229220 & 1.22922 & 1.22922 & 2.0 & 2.0 & 2.0 & 2.0 & $\\dots$ \\\\\n",
       "\t19 & 1 & chr1:1229237 & 1.22924 & 1.22924 & 2.0 & 2.0 & 1.0 & 2.0 & $\\dots$ \\\\\n",
       "\t20 & 1 & chr1:1232508 & 1.23251 & 1.23251 & 1.994 & 1.987 & 1.954 & 1.995 & $\\dots$ \\\\\n",
       "\t21 & 1 & chr1:1367999 & 1.368 & 1.368 & 2.0 & 2.0 & 2.0 & 2.0 & $\\dots$ \\\\\n",
       "\t22 & 1 & chr1:1369563 & 1.36956 & 1.36956 & 2.0 & 2.0 & 1.0 & 2.0 & $\\dots$ \\\\\n",
       "\t23 & 1 & chr1:1415027 & 1.41503 & 1.41503 & 2.0 & 2.0 & 1.0 & 2.0 & $\\dots$ \\\\\n",
       "\t24 & 1 & chr1:1482698 & 1.4827 & 1.4827 & 2.0 & 2.0 & 2.0 & 2.0 & $\\dots$ \\\\\n",
       "\t25 & 1 & chr1:1482711 & 1.48271 & 1.48271 & 2.0 & 2.0 & 2.0 & 2.0 & $\\dots$ \\\\\n",
       "\t26 & 1 & chr1:1482811 & 1.48281 & 1.48281 & 2.0 & 2.0 & 2.0 & 2.0 & $\\dots$ \\\\\n",
       "\t27 & 1 & chr1:1482825 & 1.48283 & 1.48283 & 2.0 & 2.0 & 2.0 & 2.0 & $\\dots$ \\\\\n",
       "\t28 & 1 & chr1:1482843 & 1.48284 & 1.48284 & 2.0 & 2.0 & 2.0 & 2.0 & $\\dots$ \\\\\n",
       "\t29 & 1 & chr1:1617593 & 1.61759 & 1.61759 & 1.985 & 1.997 & 1.942 & 1.994 & $\\dots$ \\\\\n",
       "\t30 & 1 & chr1:1649028 & 1.64903 & 1.64903 & 1.0 & 1.0 & 0.003 & 1.996 & $\\dots$ \\\\\n",
       "\t$\\dots$ & $\\dots$ & $\\dots$ & $\\dots$ & $\\dots$ & $\\dots$ & $\\dots$ & $\\dots$ & $\\dots$ &  \\\\\n",
       "\\end{tabular}\n"
      ],
      "text/plain": [
       "\u001b[1m134681×84 DataFrame\u001b[0m\n",
       "\u001b[1m    Row \u001b[0m│\u001b[1m Chr   \u001b[0m\u001b[1m Locus          \u001b[0m\u001b[1m cM        \u001b[0m\u001b[1m Mb        \u001b[0m\u001b[1m 00077E67B5 \u001b[0m\u001b[1m 00077E76FE \u001b[0m\u001b[1m\u001b[0m ⋯\n",
       "        │\u001b[90m Int64 \u001b[0m\u001b[90m String15       \u001b[0m\u001b[90m Float64   \u001b[0m\u001b[90m Float64   \u001b[0m\u001b[90m Float64    \u001b[0m\u001b[90m Float64    \u001b[0m\u001b[90m\u001b[0m ⋯\n",
       "────────┼───────────────────────────────────────────────────────────────────────\n",
       "      1 │     1  chr1:55365       0.055365   0.055365     2.0         2.0      ⋯\n",
       "      2 │     1  chr1:666374      0.666374   0.666374     2.0         2.0\n",
       "      3 │     1  chr1:666382      0.666382   0.666382     2.0         2.0\n",
       "      4 │     1  chr1:666394      0.666394   0.666394     2.0         2.0\n",
       "      5 │     1  chr1:669529      0.669529   0.669529     2.0         2.0      ⋯\n",
       "      6 │     1  chr1:669562      0.669562   0.669562     2.0         2.0\n",
       "      7 │     1  chr1:671466      0.671466   0.671466     2.0         2.0\n",
       "      8 │     1  chr1:759319      0.759319   0.759319     0.997       1.976\n",
       "      9 │     1  chr1:1134030     1.13403    1.13403      1.941       1.559    ⋯\n",
       "     10 │     1  chr1:1139210     1.13921    1.13921      1.978       1.992\n",
       "     11 │     1  chr1:1143318     1.14332    1.14332      0.031       0.39\n",
       "   ⋮    │   ⋮          ⋮             ⋮          ⋮          ⋮           ⋮       ⋱\n",
       " 134672 │    20  chr20:55659520  55.6595    55.6595       1.913       1.913\n",
       " 134673 │    20  chr20:55716379  55.7164    55.7164       0.004       0.004    ⋯\n",
       " 134674 │    20  chr20:55744179  55.7442    55.7442       2.0         2.0\n",
       " 134675 │    20  chr20:55773139  55.7731    55.7731       1.913       1.913\n",
       " 134676 │    20  chr20:55818290  55.8183    55.8183       1.89703     1.89703\n",
       " 134677 │    20  chr20:55944342  55.9443    55.9443       2.0         2.0      ⋯\n",
       " 134678 │    20  chr20:55963803  55.9638    55.9638       2.0         2.0\n",
       " 134679 │    20  chr20:55991426  55.9914    55.9914       1.998       1.998\n",
       " 134680 │    20  chr20:55999627  55.9996    55.9996       0.013       0.013\n",
       " 134681 │    20  chr20:56115597  56.1156    56.1156       2.0         2.0      ⋯\n",
       "\u001b[36m                                              78 columns and 134660 rows omitted\u001b[0m"
      ]
     },
     "execution_count": 16,
     "metadata": {},
     "output_type": "execute_result"
    }
   ],
   "source": [
    "omics_geno_df"
   ]
  },
  {
   "cell_type": "code",
   "execution_count": 71,
   "id": "51b228cd-b057-49fe-8dae-58c4aa3c9284",
   "metadata": {},
   "outputs": [
    {
     "name": "stdout",
     "output_type": "stream",
     "text": [
      "  0.193203 seconds (149.35 k allocations: 336.430 MiB, 25.71% compilation time)\n"
     ]
    }
   ],
   "source": [
    "@time omics_geno = omics_geno_df[:, 5:end] |> Array{Float64, 2} |> x -> permutedims(x) |> x -> x./2.0;"
   ]
  },
  {
   "cell_type": "code",
   "execution_count": 72,
   "id": "48f0c27d-6d89-499a-b45c-cb879d51b5b6",
   "metadata": {},
   "outputs": [
    {
     "name": "stdout",
     "output_type": "stream",
     "text": [
      "  0.003233 seconds (134.68 k allocations: 5.138 MiB)\n"
     ]
    },
    {
     "data": {
      "text/plain": [
       "6-element Vector{String}:\n",
       " \"chr1:55365\"\n",
       " \"chr1:666374\"\n",
       " \"chr1:666382\"\n",
       " \"chr1:666394\"\n",
       " \"chr1:669529\"\n",
       " \"chr1:669562\""
      ]
     },
     "execution_count": 72,
     "metadata": {},
     "output_type": "execute_result"
    }
   ],
   "source": [
    "@time omics_marker_names = omics_geno_df.Locus |> Array{String, 1};\n",
    "omics_marker_names[1:6]"
   ]
  },
  {
   "cell_type": "markdown",
   "id": "aef4603f-ae8a-4cb4-bc70-dbe26f22da4f",
   "metadata": {},
   "source": [
    "#### Filter markers by MAF within the range of (0.05, 0.95)"
   ]
  },
  {
   "cell_type": "code",
   "execution_count": 73,
   "id": "ca37ba39-3015-49c2-9f75-318c6f24e62e",
   "metadata": {},
   "outputs": [
    {
     "name": "stdout",
     "output_type": "stream",
     "text": [
      "  0.009708 seconds (10 allocations: 1.028 MiB)\n"
     ]
    }
   ],
   "source": [
    "@time maf_omics_geno = vec(mean(omics_geno; dims = 1));"
   ]
  },
  {
   "cell_type": "code",
   "execution_count": 74,
   "id": "be218cd2-ccbf-47e5-a010-616390d7efa9",
   "metadata": {},
   "outputs": [],
   "source": [
    "to_keep = map(x -> (x < 0.95) & (x > 0.05), maf_omics_geno);"
   ]
  },
  {
   "cell_type": "code",
   "execution_count": 75,
   "id": "1d228aa1-5b4f-4e66-85d1-5d6d4041b1a8",
   "metadata": {},
   "outputs": [
    {
     "data": {
      "text/plain": [
       "134681-element Vector{String}:\n",
       " \"chr1:55365\"\n",
       " \"chr1:666374\"\n",
       " \"chr1:666382\"\n",
       " \"chr1:666394\"\n",
       " \"chr1:669529\"\n",
       " \"chr1:669562\"\n",
       " \"chr1:671466\"\n",
       " \"chr1:759319\"\n",
       " \"chr1:1134030\"\n",
       " \"chr1:1139210\"\n",
       " \"chr1:1143318\"\n",
       " \"chr1:1151014\"\n",
       " \"chr1:1151294\"\n",
       " ⋮\n",
       " \"chr20:55641278\"\n",
       " \"chr20:55644746\"\n",
       " \"chr20:55659520\"\n",
       " \"chr20:55716379\"\n",
       " \"chr20:55744179\"\n",
       " \"chr20:55773139\"\n",
       " \"chr20:55818290\"\n",
       " \"chr20:55944342\"\n",
       " \"chr20:55963803\"\n",
       " \"chr20:55991426\"\n",
       " \"chr20:55999627\"\n",
       " \"chr20:56115597\""
      ]
     },
     "execution_count": 75,
     "metadata": {},
     "output_type": "execute_result"
    }
   ],
   "source": [
    "omics_marker_names"
   ]
  },
  {
   "cell_type": "code",
   "execution_count": 76,
   "id": "39e64bab-8929-4161-91dc-3598b6b1b22d",
   "metadata": {},
   "outputs": [
    {
     "data": {
      "text/plain": [
       "80×134681 Matrix{Float64}:\n",
       " 1.0  1.0  1.0  1.0  1.0  1.0  1.0  0.4985  …  1.0  1.0  0.999   0.0065  1.0\n",
       " 1.0  1.0  1.0  1.0  1.0  1.0  1.0  0.988      1.0  1.0  0.999   0.0065  1.0\n",
       " 0.5  1.0  1.0  1.0  1.0  1.0  1.0  0.4955     1.0  1.0  0.999   0.0065  1.0\n",
       " 1.0  1.0  0.5  0.5  0.5  1.0  1.0  0.9895     1.0  1.0  0.999   0.0065  1.0\n",
       " 1.0  1.0  1.0  1.0  1.0  1.0  1.0  0.0035     0.5  0.5  0.498   0.0455  1.0\n",
       " 1.0  1.0  1.0  1.0  1.0  1.0  1.0  0.9895  …  1.0  1.0  0.999   0.0065  1.0\n",
       " 0.5  0.5  1.0  1.0  1.0  0.5  1.0  0.4955     1.0  1.0  0.999   0.0065  1.0\n",
       " 1.0  1.0  1.0  1.0  1.0  1.0  1.0  0.4985     1.0  1.0  0.999   0.0065  1.0\n",
       " 1.0  1.0  1.0  1.0  1.0  1.0  1.0  0.004      1.0  1.0  0.999   0.0065  1.0\n",
       " 1.0  1.0  1.0  1.0  1.0  1.0  1.0  0.9895     1.0  1.0  0.999   0.0065  1.0\n",
       " 1.0  1.0  1.0  1.0  1.0  1.0  1.0  0.4985  …  1.0  1.0  0.999   0.0065  1.0\n",
       " 1.0  1.0  1.0  1.0  1.0  1.0  1.0  0.4985     1.0  0.5  0.9975  0.007   1.0\n",
       " 1.0  1.0  1.0  1.0  1.0  1.0  1.0  0.0035     1.0  1.0  0.999   0.0065  1.0\n",
       " ⋮                        ⋮                 ⋱                            ⋮\n",
       " 1.0  1.0  1.0  1.0  1.0  1.0  1.0  0.4955     1.0  1.0  0.999   0.0065  1.0\n",
       " 1.0  1.0  1.0  1.0  1.0  1.0  1.0  0.4985     1.0  1.0  0.999   0.0065  1.0\n",
       " 1.0  1.0  1.0  1.0  1.0  1.0  1.0  0.989   …  1.0  1.0  0.999   0.0065  1.0\n",
       " 1.0  1.0  1.0  1.0  1.0  1.0  1.0  0.0035     1.0  1.0  0.999   0.0065  1.0\n",
       " 1.0  1.0  1.0  1.0  1.0  1.0  1.0  0.4955     1.0  1.0  0.999   0.0065  1.0\n",
       " 1.0  1.0  1.0  1.0  1.0  0.5  1.0  0.4985     1.0  1.0  0.999   0.0065  1.0\n",
       " 1.0  1.0  1.0  1.0  1.0  1.0  1.0  0.0035     1.0  1.0  0.999   0.0065  1.0\n",
       " 1.0  1.0  1.0  1.0  1.0  1.0  1.0  0.0035  …  1.0  1.0  0.999   0.0065  1.0\n",
       " 1.0  1.0  1.0  1.0  1.0  1.0  1.0  0.9895     1.0  1.0  0.999   0.0065  1.0\n",
       " 0.5  1.0  1.0  1.0  1.0  1.0  1.0  0.9895     1.0  1.0  0.999   0.0065  1.0\n",
       " 1.0  1.0  1.0  1.0  1.0  0.5  0.5  0.9895     1.0  1.0  0.999   0.0065  1.0\n",
       " 1.0  1.0  1.0  1.0  0.5  1.0  1.0  0.0035     1.0  1.0  0.999   0.0065  1.0"
      ]
     },
     "execution_count": 76,
     "metadata": {},
     "output_type": "execute_result"
    }
   ],
   "source": [
    "omics_geno"
   ]
  },
  {
   "cell_type": "code",
   "execution_count": 80,
   "id": "47330aea-93b2-4f79-b3be-874c90a7ab71",
   "metadata": {},
   "outputs": [],
   "source": [
    "omics_geno_processed = omics_geno[:, to_keep];\n",
    "omics_marker_names_processed = omics_marker_names[to_keep];"
   ]
  },
  {
   "cell_type": "code",
   "execution_count": 81,
   "id": "1fc1592d-bdc3-4a5a-a950-3d3bcb5bd728",
   "metadata": {},
   "outputs": [],
   "source": [
    "(n, m) = size(omics_pheno_processed);\n",
    "p = size(omics_geno_processed, 2);"
   ]
  },
  {
   "cell_type": "code",
   "execution_count": 82,
   "id": "fc77d8cd-13af-4e4e-8cb3-4d6c4a7414e9",
   "metadata": {},
   "outputs": [
    {
     "data": {
      "text/plain": [
       "(80, 18416, 117618)"
      ]
     },
     "execution_count": 82,
     "metadata": {},
     "output_type": "execute_result"
    }
   ],
   "source": [
    "n, m, p"
   ]
  },
  {
   "cell_type": "markdown",
   "id": "b7717616-a1e1-46bf-9fc6-2ea10b26aafa",
   "metadata": {},
   "source": [
    "### Load BulkLMM functions:"
   ]
  },
  {
   "cell_type": "code",
   "execution_count": 85,
   "id": "72d311e0-f6d1-43fd-aa6e-93a959bcbae2",
   "metadata": {},
   "outputs": [],
   "source": [
    "local_path = \"/home/zyu20/git/BulkLMM.jl/src\";"
   ]
  },
  {
   "cell_type": "code",
   "execution_count": 86,
   "id": "54a43168-6754-44ed-aa2a-13ce1a79f536",
   "metadata": {},
   "outputs": [],
   "source": [
    "include(joinpath(local_path, \"kinship.jl\"));\n",
    "include(joinpath(local_path, \"util.jl\"));\n",
    "include(joinpath(local_path, \"wls.jl\"));\n",
    "include(joinpath(local_path, \"lmm.jl\"));\n",
    "include(joinpath(local_path, \"gridbrent.jl\"));\n",
    "include(joinpath(local_path, \"transform_helpers.jl\"));\n",
    "include(joinpath(local_path, \"scan.jl\"));\n",
    "include(joinpath(local_path, \"bulkscan_helpers.jl\"));\n",
    "include(joinpath(local_path, \"bulkscan.jl\"));\n",
    "include(joinpath(local_path, \"readData.jl\"));\n",
    "include(joinpath(local_path, \"../plot_utils/visuals_utils.jl\"));\n",
    "include(joinpath(local_path, \"analysis_helpers/single_trait_analysis.jl\"));\n",
    "include(\"../../BigRiver_util_code/src/kinship_utils.jl\");\n",
    "include(\"../../BigRiver_util_code/src/run_gemma_utils.jl\");"
   ]
  },
  {
   "cell_type": "code",
   "execution_count": 87,
   "id": "44ea9b29-3de5-4dc2-a7cc-34e9d74de6a0",
   "metadata": {},
   "outputs": [
    {
     "name": "stdout",
     "output_type": "stream",
     "text": [
      "  8.689408 seconds (31.60 k allocations: 13.847 GiB, 1.52% gc time)\n"
     ]
    }
   ],
   "source": [
    "@time omics_kinship = calcKinship(omics_geno_processed);"
   ]
  },
  {
   "cell_type": "code",
   "execution_count": 88,
   "id": "275fa67a-4b07-43f1-bff9-ffb451c8e662",
   "metadata": {},
   "outputs": [
    {
     "data": {
      "text/plain": [
       "8"
      ]
     },
     "execution_count": 88,
     "metadata": {},
     "output_type": "execute_result"
    }
   ],
   "source": [
    "BLAS.get_num_threads()"
   ]
  },
  {
   "cell_type": "code",
   "execution_count": 89,
   "id": "e6ab4357-0946-4af3-9e15-0aac9b6e1b7a",
   "metadata": {},
   "outputs": [],
   "source": [
    "BLAS.set_num_threads(8)"
   ]
  },
  {
   "cell_type": "markdown",
   "id": "390f785e-d392-4209-8bf0-05a4da3d0536",
   "metadata": {},
   "source": [
    "## BulkLMM:"
   ]
  },
  {
   "cell_type": "code",
   "execution_count": 129,
   "id": "fe1c2669-83c0-449a-990b-9ad6545fe390",
   "metadata": {},
   "outputs": [],
   "source": [
    "grid_fine = collect(0.00:0.01:0.99);"
   ]
  },
  {
   "cell_type": "code",
   "execution_count": 91,
   "id": "70deb94a-2b30-4b99-99de-1e65e51e39df",
   "metadata": {},
   "outputs": [],
   "source": [
    "grid_loose = collect(0.00:0.05:0.95);"
   ]
  },
  {
   "cell_type": "code",
   "execution_count": 132,
   "id": "b390cb6e-7899-4fd1-8b31-b0f5a35fa422",
   "metadata": {},
   "outputs": [],
   "source": [
    "t_null_grid20 = @elapsed bulkscan_null_grid_results = bulkscan_null_grid(omics_pheno_processed, omics_geno_processed, omics_kinship, grid_loose; reml = false);"
   ]
  },
  {
   "cell_type": "code",
   "execution_count": 133,
   "id": "c802c499-b944-4a0c-9e1e-97ae9da1eb2f",
   "metadata": {},
   "outputs": [],
   "source": [
    "t_null_grid100 = @elapsed bulkscan_null_grid_results = bulkscan_null_grid(omics_pheno_processed, omics_geno_processed, omics_kinship, grid_fine; reml = false);"
   ]
  },
  {
   "cell_type": "code",
   "execution_count": 137,
   "id": "e912b0a6-8cf7-42a1-a756-948c1aace5b3",
   "metadata": {},
   "outputs": [],
   "source": [
    "# @elapsed bulkscan_alt_grid_results = bulkscan_alt_grid(omics_pheno_nozeros, omics_geno_nomissing_filtered, omics_kinship, grid_loose);"
   ]
  },
  {
   "cell_type": "markdown",
   "id": "0674dcaf-cc73-484c-abc0-60e03b2f2444",
   "metadata": {
    "tags": []
   },
   "source": [
    "## GEMMA:"
   ]
  },
  {
   "cell_type": "code",
   "execution_count": 105,
   "id": "ccf5e750-496d-41e7-9598-c6acc421a987",
   "metadata": {},
   "outputs": [
    {
     "data": {
      "text/plain": [
       "\"/home/zyu20/Softwares/gemma-0.98.5-linux-static-AMD64\""
      ]
     },
     "execution_count": 105,
     "metadata": {},
     "output_type": "execute_result"
    }
   ],
   "source": [
    "gemma = \"/home/zyu20/Softwares/gemma-0.98.5-linux-static-AMD64\""
   ]
  },
  {
   "cell_type": "code",
   "execution_count": 139,
   "id": "77030960-c0f3-485f-bf64-d62bfb17bebf",
   "metadata": {},
   "outputs": [],
   "source": [
    "rand_samples = sample(1:m, 1000);"
   ]
  },
  {
   "cell_type": "code",
   "execution_count": 140,
   "id": "558833b8-61f5-499f-8ff3-bfe091bd558f",
   "metadata": {},
   "outputs": [],
   "source": [
    "pheno_filename = \"data/GEMMA_data/hs_omics_pheno.txt\";\n",
    "geno_filename = \"data/GEMMA_data/hs_omics_geno.txt\";\n",
    "kinship_filename = \"data/GEMMA_data/hs_omics_kinship.txt\";\n",
    "output_filename = \"results_univariate_LMM\";"
   ]
  },
  {
   "cell_type": "code",
   "execution_count": null,
   "id": "3f8390ef-ee1b-4c7e-b582-3bdf8a08677e",
   "metadata": {},
   "outputs": [
    {
     "name": "stdout",
     "output_type": "stream",
     "text": [
      "GEMMA 0.98.5 (2021-08-25) by Xiang Zhou, Pjotr Prins and team (C) 2012-2021\n",
      "Reading Files ... \n",
      "## number of total individuals = 80\n",
      "## number of analyzed individuals = 80\n",
      "## number of covariates = 1\n",
      "## number of phenotypes = 1\n",
      "## number of total SNPs/var        =   117618\n",
      "## number of analyzed SNPs         =   117618\n",
      "Start Eigen-Decomposition...\n",
      "pve estimate =nan\n",
      "se(pve) =nan\n",
      "================================================== 100%\n"
     ]
    },
    {
     "name": "stderr",
     "output_type": "stream",
     "text": [
      "**** INFO: Done.\n"
     ]
    },
    {
     "name": "stdout",
     "output_type": "stream",
     "text": [
      "GEMMA 0.98.5 (2021-08-25) by Xiang Zhou, Pjotr Prins and team (C) 2012-2021\n",
      "Reading Files ... \n",
      "## number of total individuals = 80\n",
      "## number of analyzed individuals = 80\n",
      "## number of covariates = 1\n",
      "## number of phenotypes = 1\n",
      "## number of total SNPs/var        =   117618\n",
      "## number of analyzed SNPs         =   117618\n",
      "Start Eigen-Decomposition...\n",
      "pve estimate =3.5548e-06\n",
      "se(pve) =1.02131\n",
      "================================================== 100%\n"
     ]
    },
    {
     "name": "stderr",
     "output_type": "stream",
     "text": [
      "**** INFO: Done.\n"
     ]
    },
    {
     "name": "stdout",
     "output_type": "stream",
     "text": [
      "GEMMA 0.98.5 (2021-08-25) by Xiang Zhou, Pjotr Prins and team (C) 2012-2021\n",
      "Reading Files ... \n"
     ]
    }
   ],
   "source": [
    "t_gemma = @elapsed gemma_samples_results = run_gemma(omics_pheno_processed[:, rand_samples], omics_geno_processed, omics_kinship,\n",
    "                                        [\"A\", \"B\"], omics_marker_names_processed,\n",
    "                                        pheno_filename, geno_filename, kinship_filename, \n",
    "                                        output_filename, \n",
    "                                        gemma);"
   ]
  },
  {
   "cell_type": "code",
   "execution_count": null,
   "id": "4f3f95e0-bd03-429d-85c7-3fa7184faaaa",
   "metadata": {},
   "outputs": [],
   "source": [
    "t_gemma"
   ]
  },
  {
   "cell_type": "code",
   "execution_count": null,
   "id": "6e513c00-c2aa-4bb6-a97b-4695a856d4b7",
   "metadata": {},
   "outputs": [],
   "source": [
    "runtime_results_file = open(\"output/runtimes_omics.txt\", \"w\")\n",
    "write(runtime_results_file, \"BulkLMM Alg:null_grid20 runtime = $t_null_grid20 seconds \\n\");\n",
    "write(runtime_results_file, \"BulkLMM Alg:null_grid100 runtime = $t_null_grid100 seconds \\n\");\n",
    "write(runtime_results_file, \"Gemma runtime = $t seconds\");\n",
    "close(runtime_results_file)"
   ]
  },
  {
   "cell_type": "code",
   "execution_count": null,
   "id": "c7459029-b2e8-4e7b-9688-9c42e4e3eb01",
   "metadata": {},
   "outputs": [],
   "source": [
    "writedlm(\"output/gemma_L_omics.txt\", gemma_samples_results, '\\t');"
   ]
  },
  {
   "cell_type": "code",
   "execution_count": null,
   "id": "5c57256b-d608-4fa9-a9a4-76a3cee57565",
   "metadata": {},
   "outputs": [],
   "source": [
    "writedlm(\"output/samples.txt\", rand_samples, '\\t');"
   ]
  },
  {
   "cell_type": "code",
   "execution_count": null,
   "id": "d049559a-8ecd-4238-aa83-ece7d7deb404",
   "metadata": {},
   "outputs": [],
   "source": [
    "# @elapsed bulkscan_alt_grid_results = bulkscan_alt_grid(omics_pheno_nozeros, omics_geno_nomissing_filtered, omics_kinship, grid_loose);"
   ]
  },
  {
   "cell_type": "code",
   "execution_count": 113,
   "id": "db29d7ec-7fa4-48f6-9017-12648919aefd",
   "metadata": {},
   "outputs": [
    {
     "data": {
      "text/plain": [
       "5-element Vector{Int64}:\n",
       "  1908\n",
       " 14010\n",
       " 14788\n",
       "  7511\n",
       "  3874"
      ]
     },
     "execution_count": 113,
     "metadata": {},
     "output_type": "execute_result"
    }
   ],
   "source": [
    "rand_samples"
   ]
  },
  {
   "cell_type": "code",
   "execution_count": 110,
   "id": "95e72337-f60d-4761-adcf-89c0067b5c3b",
   "metadata": {},
   "outputs": [],
   "source": [
    "# marker_names_fake = \"marker: \" .* string.(collect(1:p));\n",
    "#= \n",
    "@time gemma_samples_results = run_gemma(omics_pheno_processed[:, rand_samples], omics_geno_processed, omics_kinship,\n",
    "                                        [\"A\", \"B\"], marker_names_fake,\n",
    "                                        pheno_filename, geno_filename, kinship_filename, \n",
    "                                        output_filename, \n",
    "                                        gemma);\n",
    "=# "
   ]
  },
  {
   "cell_type": "code",
   "execution_count": 114,
   "id": "ac565593-b94b-4f23-8932-f04f2baf24ba",
   "metadata": {},
   "outputs": [
    {
     "data": {
      "text/plain": [
       "117618×2 Matrix{Float64}:\n",
       " 0.00421199  0.000909117\n",
       " 0.616251    0.481451\n",
       " 0.237365    0.349409\n",
       " 0.359675    0.598705\n",
       " 0.18627     0.259545\n",
       " 0.157039    0.3082\n",
       " 0.0855972   0.189591\n",
       " 0.0340158   0.131771\n",
       " 0.0237165   0.0481716\n",
       " 0.267427    0.362764\n",
       " 0.133714    0.280036\n",
       " 0.216543    0.50032\n",
       " 0.931258    0.730881\n",
       " ⋮           \n",
       " 0.315665    0.310618\n",
       " 0.259154    0.250276\n",
       " 0.257433    0.24849\n",
       " 0.258611    0.249771\n",
       " 0.257425    0.248942\n",
       " 0.259154    0.250276\n",
       " 0.230911    0.235171\n",
       " 0.202456    0.25768\n",
       " 0.437362    0.581754\n",
       " 0.274627    0.393988\n",
       " 0.433282    0.589516\n",
       " 0.425777    0.58111"
      ]
     },
     "execution_count": 114,
     "metadata": {},
     "output_type": "execute_result"
    }
   ],
   "source": [
    "hcat(bulkscan_null_grid_results.L[:, 1908], gemma_samples_results[:, 1])"
   ]
  },
  {
   "cell_type": "code",
   "execution_count": null,
   "id": "9eff528e-8986-442f-b5d4-4e16e9f7d5a9",
   "metadata": {},
   "outputs": [
    {
     "data": {
      "image/svg+xml": [
       "<?xml version=\"1.0\" encoding=\"utf-8\"?>\n",
       "<svg xmlns=\"http://www.w3.org/2000/svg\" xmlns:xlink=\"http://www.w3.org/1999/xlink\" width=\"600\" height=\"400\" viewBox=\"0 0 2400 1600\">\n",
       "<defs>\n",
       "  <clipPath id=\"clip170\">\n",
       "    <rect x=\"0\" y=\"0\" width=\"2400\" height=\"1600\"/>\n",
       "  </clipPath>\n",
       "</defs>\n",
       "<path clip-path=\"url(#clip170)\" d=\"\n",
       "M0 1600 L2400 1600 L2400 0 L0 0  Z\n",
       "  \" fill=\"#ffffff\" fill-rule=\"evenodd\" fill-opacity=\"1\"/>\n",
       "<defs>\n",
       "  <clipPath id=\"clip171\">\n",
       "    <rect x=\"480\" y=\"0\" width=\"1681\" height=\"1600\"/>\n",
       "  </clipPath>\n",
       "</defs>\n",
       "<path clip-path=\"url(#clip170)\" d=\"\n",
       "M156.598 1486.45 L2352.76 1486.45 L2352.76 47.2441 L156.598 47.2441  Z\n",
       "  \" fill=\"#ffffff\" fill-rule=\"evenodd\" fill-opacity=\"1\"/>\n",
       "<defs>\n",
       "  <clipPath id=\"clip172\">\n",
       "    <rect x=\"156\" y=\"47\" width=\"2197\" height=\"1440\"/>\n",
       "  </clipPath>\n",
       "</defs>\n",
       "<polyline clip-path=\"url(#clip172)\" style=\"stroke:#000000; stroke-linecap:round; stroke-linejoin:round; stroke-width:2; stroke-opacity:0.1; fill:none\" points=\"\n",
       "  197.826,1486.45 197.826,47.2441 \n",
       "  \"/>\n",
       "<polyline clip-path=\"url(#clip172)\" style=\"stroke:#000000; stroke-linecap:round; stroke-linejoin:round; stroke-width:2; stroke-opacity:0.1; fill:none\" points=\"\n",
       "  721.02,1486.45 721.02,47.2441 \n",
       "  \"/>\n",
       "<polyline clip-path=\"url(#clip172)\" style=\"stroke:#000000; stroke-linecap:round; stroke-linejoin:round; stroke-width:2; stroke-opacity:0.1; fill:none\" points=\"\n",
       "  1244.21,1486.45 1244.21,47.2441 \n",
       "  \"/>\n",
       "<polyline clip-path=\"url(#clip172)\" style=\"stroke:#000000; stroke-linecap:round; stroke-linejoin:round; stroke-width:2; stroke-opacity:0.1; fill:none\" points=\"\n",
       "  1767.41,1486.45 1767.41,47.2441 \n",
       "  \"/>\n",
       "<polyline clip-path=\"url(#clip172)\" style=\"stroke:#000000; stroke-linecap:round; stroke-linejoin:round; stroke-width:2; stroke-opacity:0.1; fill:none\" points=\"\n",
       "  2290.6,1486.45 2290.6,47.2441 \n",
       "  \"/>\n",
       "<polyline clip-path=\"url(#clip170)\" style=\"stroke:#000000; stroke-linecap:round; stroke-linejoin:round; stroke-width:4; stroke-opacity:1; fill:none\" points=\"\n",
       "  156.598,1486.45 2352.76,1486.45 \n",
       "  \"/>\n",
       "<polyline clip-path=\"url(#clip170)\" style=\"stroke:#000000; stroke-linecap:round; stroke-linejoin:round; stroke-width:4; stroke-opacity:1; fill:none\" points=\"\n",
       "  197.826,1486.45 197.826,1467.55 \n",
       "  \"/>\n",
       "<polyline clip-path=\"url(#clip170)\" style=\"stroke:#000000; stroke-linecap:round; stroke-linejoin:round; stroke-width:4; stroke-opacity:1; fill:none\" points=\"\n",
       "  721.02,1486.45 721.02,1467.55 \n",
       "  \"/>\n",
       "<polyline clip-path=\"url(#clip170)\" style=\"stroke:#000000; stroke-linecap:round; stroke-linejoin:round; stroke-width:4; stroke-opacity:1; fill:none\" points=\"\n",
       "  1244.21,1486.45 1244.21,1467.55 \n",
       "  \"/>\n",
       "<polyline clip-path=\"url(#clip170)\" style=\"stroke:#000000; stroke-linecap:round; stroke-linejoin:round; stroke-width:4; stroke-opacity:1; fill:none\" points=\"\n",
       "  1767.41,1486.45 1767.41,1467.55 \n",
       "  \"/>\n",
       "<polyline clip-path=\"url(#clip170)\" style=\"stroke:#000000; stroke-linecap:round; stroke-linejoin:round; stroke-width:4; stroke-opacity:1; fill:none\" points=\"\n",
       "  2290.6,1486.45 2290.6,1467.55 \n",
       "  \"/>\n",
       "<path clip-path=\"url(#clip170)\" d=\"M197.826 1517.37 Q194.215 1517.37 192.386 1520.93 Q190.581 1524.47 190.581 1531.6 Q190.581 1538.71 192.386 1542.27 Q194.215 1545.82 197.826 1545.82 Q201.46 1545.82 203.266 1542.27 Q205.094 1538.71 205.094 1531.6 Q205.094 1524.47 203.266 1520.93 Q201.46 1517.37 197.826 1517.37 M197.826 1513.66 Q203.636 1513.66 206.692 1518.27 Q209.77 1522.85 209.77 1531.6 Q209.77 1540.33 206.692 1544.94 Q203.636 1549.52 197.826 1549.52 Q192.016 1549.52 188.937 1544.94 Q185.882 1540.33 185.882 1531.6 Q185.882 1522.85 188.937 1518.27 Q192.016 1513.66 197.826 1513.66 Z\" fill=\"#000000\" fill-rule=\"evenodd\" fill-opacity=\"1\" /><path clip-path=\"url(#clip170)\" d=\"M700.29 1544.91 L716.61 1544.91 L716.61 1548.85 L694.666 1548.85 L694.666 1544.91 Q697.328 1542.16 701.911 1537.53 Q706.517 1532.88 707.698 1531.53 Q709.943 1529.01 710.823 1527.27 Q711.726 1525.51 711.726 1523.82 Q711.726 1521.07 709.781 1519.33 Q707.86 1517.6 704.758 1517.6 Q702.559 1517.6 700.105 1518.36 Q697.675 1519.13 694.897 1520.68 L694.897 1515.95 Q697.721 1514.82 700.175 1514.24 Q702.628 1513.66 704.665 1513.66 Q710.036 1513.66 713.23 1516.35 Q716.425 1519.03 716.425 1523.52 Q716.425 1525.65 715.614 1527.57 Q714.827 1529.47 712.721 1532.07 Q712.142 1532.74 709.04 1535.95 Q705.939 1539.15 700.29 1544.91 Z\" fill=\"#000000\" fill-rule=\"evenodd\" fill-opacity=\"1\" /><path clip-path=\"url(#clip170)\" d=\"M726.471 1514.29 L744.827 1514.29 L744.827 1518.22 L730.753 1518.22 L730.753 1526.7 Q731.772 1526.35 732.79 1526.19 Q733.809 1526 734.827 1526 Q740.614 1526 743.994 1529.17 Q747.374 1532.34 747.374 1537.76 Q747.374 1543.34 743.901 1546.44 Q740.429 1549.52 734.11 1549.52 Q731.934 1549.52 729.665 1549.15 Q727.42 1548.78 725.013 1548.04 L725.013 1543.34 Q727.096 1544.47 729.318 1545.03 Q731.54 1545.58 734.017 1545.58 Q738.022 1545.58 740.36 1543.48 Q742.698 1541.37 742.698 1537.76 Q742.698 1534.15 740.36 1532.04 Q738.022 1529.94 734.017 1529.94 Q732.142 1529.94 730.267 1530.35 Q728.415 1530.77 726.471 1531.65 L726.471 1514.29 Z\" fill=\"#000000\" fill-rule=\"evenodd\" fill-opacity=\"1\" /><path clip-path=\"url(#clip170)\" d=\"M1218.91 1514.29 L1237.27 1514.29 L1237.27 1518.22 L1223.19 1518.22 L1223.19 1526.7 Q1224.21 1526.35 1225.23 1526.19 Q1226.25 1526 1227.27 1526 Q1233.06 1526 1236.44 1529.17 Q1239.82 1532.34 1239.82 1537.76 Q1239.82 1543.34 1236.34 1546.44 Q1232.87 1549.52 1226.55 1549.52 Q1224.38 1549.52 1222.11 1549.15 Q1219.86 1548.78 1217.45 1548.04 L1217.45 1543.34 Q1219.54 1544.47 1221.76 1545.03 Q1223.98 1545.58 1226.46 1545.58 Q1230.46 1545.58 1232.8 1543.48 Q1235.14 1541.37 1235.14 1537.76 Q1235.14 1534.15 1232.8 1532.04 Q1230.46 1529.94 1226.46 1529.94 Q1224.58 1529.94 1222.71 1530.35 Q1220.86 1530.77 1218.91 1531.65 L1218.91 1514.29 Z\" fill=\"#000000\" fill-rule=\"evenodd\" fill-opacity=\"1\" /><path clip-path=\"url(#clip170)\" d=\"M1259.03 1517.37 Q1255.42 1517.37 1253.59 1520.93 Q1251.78 1524.47 1251.78 1531.6 Q1251.78 1538.71 1253.59 1542.27 Q1255.42 1545.82 1259.03 1545.82 Q1262.66 1545.82 1264.47 1542.27 Q1266.3 1538.71 1266.3 1531.6 Q1266.3 1524.47 1264.47 1520.93 Q1262.66 1517.37 1259.03 1517.37 M1259.03 1513.66 Q1264.84 1513.66 1267.89 1518.27 Q1270.97 1522.85 1270.97 1531.6 Q1270.97 1540.33 1267.89 1544.94 Q1264.84 1549.52 1259.03 1549.52 Q1253.22 1549.52 1250.14 1544.94 Q1247.08 1540.33 1247.08 1531.6 Q1247.08 1522.85 1250.14 1518.27 Q1253.22 1513.66 1259.03 1513.66 Z\" fill=\"#000000\" fill-rule=\"evenodd\" fill-opacity=\"1\" /><path clip-path=\"url(#clip170)\" d=\"M1741.26 1514.29 L1763.48 1514.29 L1763.48 1516.28 L1750.94 1548.85 L1746.05 1548.85 L1757.86 1518.22 L1741.26 1518.22 L1741.26 1514.29 Z\" fill=\"#000000\" fill-rule=\"evenodd\" fill-opacity=\"1\" /><path clip-path=\"url(#clip170)\" d=\"M1772.65 1514.29 L1791.01 1514.29 L1791.01 1518.22 L1776.93 1518.22 L1776.93 1526.7 Q1777.95 1526.35 1778.97 1526.19 Q1779.99 1526 1781.01 1526 Q1786.79 1526 1790.17 1529.17 Q1793.55 1532.34 1793.55 1537.76 Q1793.55 1543.34 1790.08 1546.44 Q1786.61 1549.52 1780.29 1549.52 Q1778.11 1549.52 1775.84 1549.15 Q1773.6 1548.78 1771.19 1548.04 L1771.19 1543.34 Q1773.27 1544.47 1775.5 1545.03 Q1777.72 1545.58 1780.2 1545.58 Q1784.2 1545.58 1786.54 1543.48 Q1788.88 1541.37 1788.88 1537.76 Q1788.88 1534.15 1786.54 1532.04 Q1784.2 1529.94 1780.2 1529.94 Q1778.32 1529.94 1776.45 1530.35 Q1774.59 1530.77 1772.65 1531.65 L1772.65 1514.29 Z\" fill=\"#000000\" fill-rule=\"evenodd\" fill-opacity=\"1\" /><path clip-path=\"url(#clip170)\" d=\"M2250.21 1544.91 L2257.85 1544.91 L2257.85 1518.55 L2249.54 1520.21 L2249.54 1515.95 L2257.8 1514.29 L2262.48 1514.29 L2262.48 1544.91 L2270.11 1544.91 L2270.11 1548.85 L2250.21 1548.85 L2250.21 1544.91 Z\" fill=\"#000000\" fill-rule=\"evenodd\" fill-opacity=\"1\" /><path clip-path=\"url(#clip170)\" d=\"M2289.56 1517.37 Q2285.95 1517.37 2284.12 1520.93 Q2282.31 1524.47 2282.31 1531.6 Q2282.31 1538.71 2284.12 1542.27 Q2285.95 1545.82 2289.56 1545.82 Q2293.19 1545.82 2295 1542.27 Q2296.83 1538.71 2296.83 1531.6 Q2296.83 1524.47 2295 1520.93 Q2293.19 1517.37 2289.56 1517.37 M2289.56 1513.66 Q2295.37 1513.66 2298.42 1518.27 Q2301.5 1522.85 2301.5 1531.6 Q2301.5 1540.33 2298.42 1544.94 Q2295.37 1549.52 2289.56 1549.52 Q2283.75 1549.52 2280.67 1544.94 Q2277.61 1540.33 2277.61 1531.6 Q2277.61 1522.85 2280.67 1518.27 Q2283.75 1513.66 2289.56 1513.66 Z\" fill=\"#000000\" fill-rule=\"evenodd\" fill-opacity=\"1\" /><path clip-path=\"url(#clip170)\" d=\"M2319.72 1517.37 Q2316.11 1517.37 2314.28 1520.93 Q2312.48 1524.47 2312.48 1531.6 Q2312.48 1538.71 2314.28 1542.27 Q2316.11 1545.82 2319.72 1545.82 Q2323.35 1545.82 2325.16 1542.27 Q2326.99 1538.71 2326.99 1531.6 Q2326.99 1524.47 2325.16 1520.93 Q2323.35 1517.37 2319.72 1517.37 M2319.72 1513.66 Q2325.53 1513.66 2328.59 1518.27 Q2331.67 1522.85 2331.67 1531.6 Q2331.67 1540.33 2328.59 1544.94 Q2325.53 1549.52 2319.72 1549.52 Q2313.91 1549.52 2310.83 1544.94 Q2307.78 1540.33 2307.78 1531.6 Q2307.78 1522.85 2310.83 1518.27 Q2313.91 1513.66 2319.72 1513.66 Z\" fill=\"#000000\" fill-rule=\"evenodd\" fill-opacity=\"1\" /><polyline clip-path=\"url(#clip172)\" style=\"stroke:#000000; stroke-linecap:round; stroke-linejoin:round; stroke-width:2; stroke-opacity:0.1; fill:none\" points=\"\n",
       "  156.598,1446.17 2352.76,1446.17 \n",
       "  \"/>\n",
       "<polyline clip-path=\"url(#clip172)\" style=\"stroke:#000000; stroke-linecap:round; stroke-linejoin:round; stroke-width:2; stroke-opacity:0.1; fill:none\" points=\"\n",
       "  156.598,1223.72 2352.76,1223.72 \n",
       "  \"/>\n",
       "<polyline clip-path=\"url(#clip172)\" style=\"stroke:#000000; stroke-linecap:round; stroke-linejoin:round; stroke-width:2; stroke-opacity:0.1; fill:none\" points=\"\n",
       "  156.598,1001.26 2352.76,1001.26 \n",
       "  \"/>\n",
       "<polyline clip-path=\"url(#clip172)\" style=\"stroke:#000000; stroke-linecap:round; stroke-linejoin:round; stroke-width:2; stroke-opacity:0.1; fill:none\" points=\"\n",
       "  156.598,778.804 2352.76,778.804 \n",
       "  \"/>\n",
       "<polyline clip-path=\"url(#clip172)\" style=\"stroke:#000000; stroke-linecap:round; stroke-linejoin:round; stroke-width:2; stroke-opacity:0.1; fill:none\" points=\"\n",
       "  156.598,556.347 2352.76,556.347 \n",
       "  \"/>\n",
       "<polyline clip-path=\"url(#clip172)\" style=\"stroke:#000000; stroke-linecap:round; stroke-linejoin:round; stroke-width:2; stroke-opacity:0.1; fill:none\" points=\"\n",
       "  156.598,333.89 2352.76,333.89 \n",
       "  \"/>\n",
       "<polyline clip-path=\"url(#clip172)\" style=\"stroke:#000000; stroke-linecap:round; stroke-linejoin:round; stroke-width:2; stroke-opacity:0.1; fill:none\" points=\"\n",
       "  156.598,111.434 2352.76,111.434 \n",
       "  \"/>\n",
       "<polyline clip-path=\"url(#clip170)\" style=\"stroke:#000000; stroke-linecap:round; stroke-linejoin:round; stroke-width:4; stroke-opacity:1; fill:none\" points=\"\n",
       "  156.598,1486.45 156.598,47.2441 \n",
       "  \"/>\n",
       "<polyline clip-path=\"url(#clip170)\" style=\"stroke:#000000; stroke-linecap:round; stroke-linejoin:round; stroke-width:4; stroke-opacity:1; fill:none\" points=\"\n",
       "  156.598,1446.17 175.496,1446.17 \n",
       "  \"/>\n",
       "<polyline clip-path=\"url(#clip170)\" style=\"stroke:#000000; stroke-linecap:round; stroke-linejoin:round; stroke-width:4; stroke-opacity:1; fill:none\" points=\"\n",
       "  156.598,1223.72 175.496,1223.72 \n",
       "  \"/>\n",
       "<polyline clip-path=\"url(#clip170)\" style=\"stroke:#000000; stroke-linecap:round; stroke-linejoin:round; stroke-width:4; stroke-opacity:1; fill:none\" points=\"\n",
       "  156.598,1001.26 175.496,1001.26 \n",
       "  \"/>\n",
       "<polyline clip-path=\"url(#clip170)\" style=\"stroke:#000000; stroke-linecap:round; stroke-linejoin:round; stroke-width:4; stroke-opacity:1; fill:none\" points=\"\n",
       "  156.598,778.804 175.496,778.804 \n",
       "  \"/>\n",
       "<polyline clip-path=\"url(#clip170)\" style=\"stroke:#000000; stroke-linecap:round; stroke-linejoin:round; stroke-width:4; stroke-opacity:1; fill:none\" points=\"\n",
       "  156.598,556.347 175.496,556.347 \n",
       "  \"/>\n",
       "<polyline clip-path=\"url(#clip170)\" style=\"stroke:#000000; stroke-linecap:round; stroke-linejoin:round; stroke-width:4; stroke-opacity:1; fill:none\" points=\"\n",
       "  156.598,333.89 175.496,333.89 \n",
       "  \"/>\n",
       "<polyline clip-path=\"url(#clip170)\" style=\"stroke:#000000; stroke-linecap:round; stroke-linejoin:round; stroke-width:4; stroke-opacity:1; fill:none\" points=\"\n",
       "  156.598,111.434 175.496,111.434 \n",
       "  \"/>\n",
       "<path clip-path=\"url(#clip170)\" d=\"M63.4226 1431.97 Q59.8115 1431.97 57.9828 1435.54 Q56.1773 1439.08 56.1773 1446.21 Q56.1773 1453.31 57.9828 1456.88 Q59.8115 1460.42 63.4226 1460.42 Q67.0569 1460.42 68.8624 1456.88 Q70.6911 1453.31 70.6911 1446.21 Q70.6911 1439.08 68.8624 1435.54 Q67.0569 1431.97 63.4226 1431.97 M63.4226 1428.27 Q69.2328 1428.27 72.2883 1432.88 Q75.367 1437.46 75.367 1446.21 Q75.367 1454.94 72.2883 1459.54 Q69.2328 1464.13 63.4226 1464.13 Q57.6125 1464.13 54.5338 1459.54 Q51.4782 1454.94 51.4782 1446.21 Q51.4782 1437.46 54.5338 1432.88 Q57.6125 1428.27 63.4226 1428.27 Z\" fill=\"#000000\" fill-rule=\"evenodd\" fill-opacity=\"1\" /><path clip-path=\"url(#clip170)\" d=\"M83.5845 1457.57 L88.4688 1457.57 L88.4688 1463.45 L83.5845 1463.45 L83.5845 1457.57 Z\" fill=\"#000000\" fill-rule=\"evenodd\" fill-opacity=\"1\" /><path clip-path=\"url(#clip170)\" d=\"M108.654 1431.97 Q105.043 1431.97 103.214 1435.54 Q101.409 1439.08 101.409 1446.21 Q101.409 1453.31 103.214 1456.88 Q105.043 1460.42 108.654 1460.42 Q112.288 1460.42 114.094 1456.88 Q115.922 1453.31 115.922 1446.21 Q115.922 1439.08 114.094 1435.54 Q112.288 1431.97 108.654 1431.97 M108.654 1428.27 Q114.464 1428.27 117.52 1432.88 Q120.598 1437.46 120.598 1446.21 Q120.598 1454.94 117.52 1459.54 Q114.464 1464.13 108.654 1464.13 Q102.844 1464.13 99.765 1459.54 Q96.7095 1454.94 96.7095 1446.21 Q96.7095 1437.46 99.765 1432.88 Q102.844 1428.27 108.654 1428.27 Z\" fill=\"#000000\" fill-rule=\"evenodd\" fill-opacity=\"1\" /><path clip-path=\"url(#clip170)\" d=\"M65.0198 1209.52 Q61.4087 1209.52 59.58 1213.08 Q57.7745 1216.62 57.7745 1223.75 Q57.7745 1230.86 59.58 1234.42 Q61.4087 1237.96 65.0198 1237.96 Q68.6541 1237.96 70.4596 1234.42 Q72.2883 1230.86 72.2883 1223.75 Q72.2883 1216.62 70.4596 1213.08 Q68.6541 1209.52 65.0198 1209.52 M65.0198 1205.81 Q70.83 1205.81 73.8855 1210.42 Q76.9642 1215 76.9642 1223.75 Q76.9642 1232.48 73.8855 1237.09 Q70.83 1241.67 65.0198 1241.67 Q59.2097 1241.67 56.131 1237.09 Q53.0754 1232.48 53.0754 1223.75 Q53.0754 1215 56.131 1210.42 Q59.2097 1205.81 65.0198 1205.81 Z\" fill=\"#000000\" fill-rule=\"evenodd\" fill-opacity=\"1\" /><path clip-path=\"url(#clip170)\" d=\"M85.1818 1235.12 L90.066 1235.12 L90.066 1241 L85.1818 1241 L85.1818 1235.12 Z\" fill=\"#000000\" fill-rule=\"evenodd\" fill-opacity=\"1\" /><path clip-path=\"url(#clip170)\" d=\"M104.279 1237.06 L120.598 1237.06 L120.598 1241 L98.6539 1241 L98.6539 1237.06 Q101.316 1234.31 105.899 1229.68 Q110.506 1225.02 111.686 1223.68 Q113.932 1221.16 114.811 1219.42 Q115.714 1217.66 115.714 1215.97 Q115.714 1213.22 113.77 1211.48 Q111.848 1209.75 108.746 1209.75 Q106.547 1209.75 104.094 1210.51 Q101.663 1211.27 98.8854 1212.83 L98.8854 1208.1 Q101.709 1206.97 104.163 1206.39 Q106.617 1205.81 108.654 1205.81 Q114.024 1205.81 117.219 1208.5 Q120.413 1211.18 120.413 1215.67 Q120.413 1217.8 119.603 1219.72 Q118.816 1221.62 116.709 1224.21 Q116.131 1224.89 113.029 1228.1 Q109.927 1231.3 104.279 1237.06 Z\" fill=\"#000000\" fill-rule=\"evenodd\" fill-opacity=\"1\" /><path clip-path=\"url(#clip170)\" d=\"M62.9365 987.059 Q59.3254 987.059 57.4967 990.624 Q55.6912 994.165 55.6912 1001.3 Q55.6912 1008.4 57.4967 1011.97 Q59.3254 1015.51 62.9365 1015.51 Q66.5707 1015.51 68.3763 1011.97 Q70.205 1008.4 70.205 1001.3 Q70.205 994.165 68.3763 990.624 Q66.5707 987.059 62.9365 987.059 M62.9365 983.355 Q68.7467 983.355 71.8022 987.962 Q74.8809 992.545 74.8809 1001.3 Q74.8809 1010.02 71.8022 1014.63 Q68.7467 1019.21 62.9365 1019.21 Q57.1264 1019.21 54.0477 1014.63 Q50.9921 1010.02 50.9921 1001.3 Q50.9921 992.545 54.0477 987.962 Q57.1264 983.355 62.9365 983.355 Z\" fill=\"#000000\" fill-rule=\"evenodd\" fill-opacity=\"1\" /><path clip-path=\"url(#clip170)\" d=\"M83.0984 1012.66 L87.9827 1012.66 L87.9827 1018.54 L83.0984 1018.54 L83.0984 1012.66 Z\" fill=\"#000000\" fill-rule=\"evenodd\" fill-opacity=\"1\" /><path clip-path=\"url(#clip170)\" d=\"M111.015 988.054 L99.2095 1006.5 L111.015 1006.5 L111.015 988.054 M109.788 983.98 L115.668 983.98 L115.668 1006.5 L120.598 1006.5 L120.598 1010.39 L115.668 1010.39 L115.668 1018.54 L111.015 1018.54 L111.015 1010.39 L95.4132 1010.39 L95.4132 1005.88 L109.788 983.98 Z\" fill=\"#000000\" fill-rule=\"evenodd\" fill-opacity=\"1\" /><path clip-path=\"url(#clip170)\" d=\"M63.2606 764.602 Q59.6495 764.602 57.8208 768.167 Q56.0152 771.709 56.0152 778.838 Q56.0152 785.945 57.8208 789.51 Q59.6495 793.051 63.2606 793.051 Q66.8948 793.051 68.7004 789.51 Q70.5291 785.945 70.5291 778.838 Q70.5291 771.709 68.7004 768.167 Q66.8948 764.602 63.2606 764.602 M63.2606 760.899 Q69.0707 760.899 72.1263 765.505 Q75.205 770.088 75.205 778.838 Q75.205 787.565 72.1263 792.172 Q69.0707 796.755 63.2606 796.755 Q57.4504 796.755 54.3717 792.172 Q51.3162 787.565 51.3162 778.838 Q51.3162 770.088 54.3717 765.505 Q57.4504 760.899 63.2606 760.899 Z\" fill=\"#000000\" fill-rule=\"evenodd\" fill-opacity=\"1\" /><path clip-path=\"url(#clip170)\" d=\"M83.4225 790.204 L88.3067 790.204 L88.3067 796.084 L83.4225 796.084 L83.4225 790.204 Z\" fill=\"#000000\" fill-rule=\"evenodd\" fill-opacity=\"1\" /><path clip-path=\"url(#clip170)\" d=\"M109.071 776.94 Q105.922 776.94 104.071 779.093 Q102.242 781.246 102.242 784.996 Q102.242 788.723 104.071 790.898 Q105.922 793.051 109.071 793.051 Q112.219 793.051 114.047 790.898 Q115.899 788.723 115.899 784.996 Q115.899 781.246 114.047 779.093 Q112.219 776.94 109.071 776.94 M118.353 762.288 L118.353 766.547 Q116.594 765.713 114.788 765.274 Q113.006 764.834 111.246 764.834 Q106.617 764.834 104.163 767.959 Q101.733 771.084 101.385 777.403 Q102.751 775.389 104.811 774.324 Q106.871 773.237 109.348 773.237 Q114.557 773.237 117.566 776.408 Q120.598 779.556 120.598 784.996 Q120.598 790.32 117.45 793.537 Q114.302 796.755 109.071 796.755 Q103.075 796.755 99.9039 792.172 Q96.7326 787.565 96.7326 778.838 Q96.7326 770.644 100.621 765.783 Q104.51 760.899 111.061 760.899 Q112.82 760.899 114.603 761.246 Q116.408 761.593 118.353 762.288 Z\" fill=\"#000000\" fill-rule=\"evenodd\" fill-opacity=\"1\" /><path clip-path=\"url(#clip170)\" d=\"M63.5152 542.146 Q59.9041 542.146 58.0754 545.71 Q56.2699 549.252 56.2699 556.382 Q56.2699 563.488 58.0754 567.053 Q59.9041 570.595 63.5152 570.595 Q67.1494 570.595 68.955 567.053 Q70.7837 563.488 70.7837 556.382 Q70.7837 549.252 68.955 545.71 Q67.1494 542.146 63.5152 542.146 M63.5152 538.442 Q69.3254 538.442 72.3809 543.048 Q75.4596 547.632 75.4596 556.382 Q75.4596 565.108 72.3809 569.715 Q69.3254 574.298 63.5152 574.298 Q57.7051 574.298 54.6264 569.715 Q51.5708 565.108 51.5708 556.382 Q51.5708 547.632 54.6264 543.048 Q57.7051 538.442 63.5152 538.442 Z\" fill=\"#000000\" fill-rule=\"evenodd\" fill-opacity=\"1\" /><path clip-path=\"url(#clip170)\" d=\"M83.6771 567.747 L88.5614 567.747 L88.5614 573.627 L83.6771 573.627 L83.6771 567.747 Z\" fill=\"#000000\" fill-rule=\"evenodd\" fill-opacity=\"1\" /><path clip-path=\"url(#clip170)\" d=\"M108.746 557.215 Q105.413 557.215 103.492 558.997 Q101.594 560.78 101.594 563.905 Q101.594 567.03 103.492 568.812 Q105.413 570.595 108.746 570.595 Q112.08 570.595 114.001 568.812 Q115.922 567.007 115.922 563.905 Q115.922 560.78 114.001 558.997 Q112.103 557.215 108.746 557.215 M104.071 555.224 Q101.061 554.484 99.3715 552.423 Q97.7048 550.363 97.7048 547.4 Q97.7048 543.257 100.645 540.849 Q103.608 538.442 108.746 538.442 Q113.908 538.442 116.848 540.849 Q119.788 543.257 119.788 547.4 Q119.788 550.363 118.098 552.423 Q116.432 554.484 113.445 555.224 Q116.825 556.011 118.7 558.303 Q120.598 560.595 120.598 563.905 Q120.598 568.928 117.52 571.613 Q114.464 574.298 108.746 574.298 Q103.029 574.298 99.9502 571.613 Q96.8947 568.928 96.8947 563.905 Q96.8947 560.595 98.7928 558.303 Q100.691 556.011 104.071 555.224 M102.358 547.84 Q102.358 550.525 104.024 552.03 Q105.714 553.534 108.746 553.534 Q111.756 553.534 113.445 552.03 Q115.158 550.525 115.158 547.84 Q115.158 545.155 113.445 543.65 Q111.756 542.146 108.746 542.146 Q105.714 542.146 104.024 543.65 Q102.358 545.155 102.358 547.84 Z\" fill=\"#000000\" fill-rule=\"evenodd\" fill-opacity=\"1\" /><path clip-path=\"url(#clip170)\" d=\"M54.2328 347.235 L61.8717 347.235 L61.8717 320.869 L53.5616 322.536 L53.5616 318.277 L61.8254 316.61 L66.5013 316.61 L66.5013 347.235 L74.1402 347.235 L74.1402 351.17 L54.2328 351.17 L54.2328 347.235 Z\" fill=\"#000000\" fill-rule=\"evenodd\" fill-opacity=\"1\" /><path clip-path=\"url(#clip170)\" d=\"M83.5845 345.291 L88.4688 345.291 L88.4688 351.17 L83.5845 351.17 L83.5845 345.291 Z\" fill=\"#000000\" fill-rule=\"evenodd\" fill-opacity=\"1\" /><path clip-path=\"url(#clip170)\" d=\"M108.654 319.689 Q105.043 319.689 103.214 323.254 Q101.409 326.795 101.409 333.925 Q101.409 341.031 103.214 344.596 Q105.043 348.138 108.654 348.138 Q112.288 348.138 114.094 344.596 Q115.922 341.031 115.922 333.925 Q115.922 326.795 114.094 323.254 Q112.288 319.689 108.654 319.689 M108.654 315.985 Q114.464 315.985 117.52 320.592 Q120.598 325.175 120.598 333.925 Q120.598 342.652 117.52 347.258 Q114.464 351.842 108.654 351.842 Q102.844 351.842 99.765 347.258 Q96.7095 342.652 96.7095 333.925 Q96.7095 325.175 99.765 320.592 Q102.844 315.985 108.654 315.985 Z\" fill=\"#000000\" fill-rule=\"evenodd\" fill-opacity=\"1\" /><path clip-path=\"url(#clip170)\" d=\"M55.8301 124.778 L63.4689 124.778 L63.4689 98.4128 L55.1588 100.079 L55.1588 95.8202 L63.4226 94.1535 L68.0985 94.1535 L68.0985 124.778 L75.7374 124.778 L75.7374 128.714 L55.8301 128.714 L55.8301 124.778 Z\" fill=\"#000000\" fill-rule=\"evenodd\" fill-opacity=\"1\" /><path clip-path=\"url(#clip170)\" d=\"M85.1818 122.834 L90.066 122.834 L90.066 128.714 L85.1818 128.714 L85.1818 122.834 Z\" fill=\"#000000\" fill-rule=\"evenodd\" fill-opacity=\"1\" /><path clip-path=\"url(#clip170)\" d=\"M104.279 124.778 L120.598 124.778 L120.598 128.714 L98.6539 128.714 L98.6539 124.778 Q101.316 122.024 105.899 117.394 Q110.506 112.741 111.686 111.399 Q113.932 108.876 114.811 107.14 Q115.714 105.38 115.714 103.691 Q115.714 100.936 113.77 99.1998 Q111.848 97.4637 108.746 97.4637 Q106.547 97.4637 104.094 98.2276 Q101.663 98.9915 98.8854 100.542 L98.8854 95.8202 Q101.709 94.6859 104.163 94.1072 Q106.617 93.5285 108.654 93.5285 Q114.024 93.5285 117.219 96.2137 Q120.413 98.8989 120.413 103.39 Q120.413 105.519 119.603 107.44 Q118.816 109.339 116.709 111.931 Q116.131 112.603 113.029 115.82 Q109.927 119.015 104.279 124.778 Z\" fill=\"#000000\" fill-rule=\"evenodd\" fill-opacity=\"1\" /><polyline clip-path=\"url(#clip172)\" style=\"stroke:#009af9; stroke-linecap:round; stroke-linejoin:round; stroke-width:4; stroke-opacity:1; fill:none\" points=\"\n",
       "  218.754,1267.2 239.681,1138.81 260.609,87.9763 281.537,1142.89 302.465,96.2081 323.392,982.056 344.32,997.855 365.248,1279.55 386.176,247.67 407.103,333.389 \n",
       "  428.031,1367.16 448.959,1316.76 469.887,1333.65 490.814,1240.55 511.742,1246.72 532.67,1286.23 553.598,1331.86 574.525,1436.78 595.453,1441.12 616.381,1263.99 \n",
       "  637.309,1375.67 658.236,1418.5 679.164,1307.07 700.092,1259.16 721.02,1247.47 741.947,1245.74 762.875,1416.12 783.803,1376.87 804.731,1244.48 825.658,1415.58 \n",
       "  846.586,1045.26 867.514,1222.11 888.442,1411.04 909.369,985.893 930.297,1061.4 951.225,1397.58 972.152,974.929 993.08,1342.06 1014.01,1393.63 1034.94,1030.88 \n",
       "  1055.86,1151.38 1076.79,1224.53 1097.72,1014.63 1118.65,1390.24 1139.57,1098.25 1160.5,1030.88 1181.43,1414.36 1202.36,1052.68 1223.29,1428.92 1244.21,841.543 \n",
       "  1265.14,1262.94 1286.07,1429.94 1307,1171.08 1327.92,1445.59 1348.85,1070.87 1369.78,1420.28 1390.71,1434.2 1411.64,1037.41 1432.56,1150.56 1453.49,1417.69 \n",
       "  1474.42,1167.5 1495.35,1437.71 1516.27,1433.76 1537.2,1417.64 1558.13,1032.78 1579.06,1095.74 1599.98,1434.86 1620.91,1030.88 1641.84,953.938 1662.77,1436.72 \n",
       "  1683.7,1434.87 1704.62,1417.52 1725.55,1088.8 1746.48,1031.88 1767.41,1168.11 1788.33,1157.94 1809.26,1417.78 1830.19,1434.84 1851.12,1437.75 1872.05,1032.18 \n",
       "  1892.97,1084.96 1913.9,1438.16 1934.83,1170.03 1955.76,1032.54 1976.68,1157.25 1997.61,1435 2018.54,1148.56 2039.47,1106.74 2060.4,1435.02 2081.32,1222.7 \n",
       "  2102.25,1435.02 2123.18,1097.5 2144.11,1098.64 2165.03,1186.01 2185.96,1434.83 2206.89,900.062 2227.82,1415.36 2248.75,1424.99 2269.67,1434.51 2290.6,1096 \n",
       "  \n",
       "  \"/>\n",
       "<polyline clip-path=\"url(#clip172)\" style=\"stroke:#e26f46; stroke-linecap:round; stroke-linejoin:round; stroke-width:4; stroke-opacity:1; fill:none\" points=\"\n",
       "  218.754,1271.07 239.681,1134.29 260.609,91.7625 281.537,1144.39 302.465,96.733 323.392,981.789 344.32,996.049 365.248,1278.67 386.176,245.437 407.103,338.285 \n",
       "  428.031,1367.85 448.959,1316.8 469.887,1329.6 490.814,1235.66 511.742,1241.34 532.67,1281.61 553.598,1331.21 574.525,1435.92 595.453,1441.63 616.381,1258.96 \n",
       "  637.309,1375.43 658.236,1416.87 679.164,1306.08 700.092,1253.9 721.02,1246.29 741.947,1240.34 762.875,1414.4 783.803,1374 804.731,1239.07 825.658,1413.85 \n",
       "  846.586,1044.29 867.514,1216.55 888.442,1409.24 909.369,980.985 930.297,1064.49 951.225,1395.37 972.152,970.571 993.08,1338.1 1014.01,1391 1034.94,1027.31 \n",
       "  1055.86,1155.65 1076.79,1227.48 1097.72,1010.79 1118.65,1387.78 1139.57,1102.16 1160.5,1027.31 1181.43,1412.58 1202.36,1049.3 1223.29,1427.63 1244.21,847.183 \n",
       "  1265.14,1262.52 1286.07,1429.42 1307,1168.75 1327.92,1445.72 1348.85,1074.86 1369.78,1418.7 1390.71,1433.78 1411.64,1033.9 1432.56,1152.19 1453.49,1416.03 \n",
       "  1474.42,1166.58 1495.35,1437.1 1516.27,1433.33 1537.2,1415.98 1558.13,1029.23 1579.06,1099.65 1599.98,1434.45 1620.91,1027.31 1641.84,956.58 1662.77,1436.07 \n",
       "  1683.7,1434.46 1704.62,1415.84 1725.55,1092.73 1746.48,1028.29 1767.41,1167.17 1788.33,1159.57 1809.26,1416.1 1830.19,1434.43 1851.12,1437.13 1872.05,1028.57 \n",
       "  1892.97,1088.87 1913.9,1437.56 1934.83,1169.08 1955.76,1028.93 1976.68,1158.65 1997.61,1434.59 2018.54,1150.16 2039.47,1110.3 2060.4,1434.61 2081.32,1224.31 \n",
       "  2102.25,1434.61 2123.18,1101.41 2144.11,1102.52 2165.03,1187.54 2185.96,1434.45 2206.89,905.233 2227.82,1414.5 2248.75,1424.51 2269.67,1434.12 2290.6,1099.93 \n",
       "  \n",
       "  \"/>\n",
       "<path clip-path=\"url(#clip170)\" d=\"\n",
       "M2007.5 250.738 L2279.55 250.738 L2279.55 95.2176 L2007.5 95.2176  Z\n",
       "  \" fill=\"#ffffff\" fill-rule=\"evenodd\" fill-opacity=\"1\"/>\n",
       "<polyline clip-path=\"url(#clip170)\" style=\"stroke:#000000; stroke-linecap:round; stroke-linejoin:round; stroke-width:4; stroke-opacity:1; fill:none\" points=\"\n",
       "  2007.5,250.738 2279.55,250.738 2279.55,95.2176 2007.5,95.2176 2007.5,250.738 \n",
       "  \"/>\n",
       "<polyline clip-path=\"url(#clip170)\" style=\"stroke:#009af9; stroke-linecap:round; stroke-linejoin:round; stroke-width:4; stroke-opacity:1; fill:none\" points=\"\n",
       "  2031.91,147.058 2178.32,147.058 \n",
       "  \"/>\n",
       "<path clip-path=\"url(#clip170)\" d=\"M2216.56 166.745 Q2214.76 171.375 2213.04 172.787 Q2211.33 174.199 2208.46 174.199 L2205.06 174.199 L2205.06 170.634 L2207.56 170.634 Q2209.32 170.634 2210.29 169.8 Q2211.26 168.967 2212.44 165.865 L2213.2 163.921 L2202.72 138.412 L2207.23 138.412 L2215.33 158.689 L2223.44 138.412 L2227.95 138.412 L2216.56 166.745 Z\" fill=\"#000000\" fill-rule=\"evenodd\" fill-opacity=\"1\" /><path clip-path=\"url(#clip170)\" d=\"M2235.24 160.402 L2242.88 160.402 L2242.88 134.037 L2234.57 135.703 L2234.57 131.444 L2242.83 129.778 L2247.51 129.778 L2247.51 160.402 L2255.15 160.402 L2255.15 164.338 L2235.24 164.338 L2235.24 160.402 Z\" fill=\"#000000\" fill-rule=\"evenodd\" fill-opacity=\"1\" /><polyline clip-path=\"url(#clip170)\" style=\"stroke:#e26f46; stroke-linecap:round; stroke-linejoin:round; stroke-width:4; stroke-opacity:1; fill:none\" points=\"\n",
       "  2031.91,198.898 2178.32,198.898 \n",
       "  \"/>\n",
       "<path clip-path=\"url(#clip170)\" d=\"M2216.56 218.585 Q2214.76 223.215 2213.04 224.627 Q2211.33 226.039 2208.46 226.039 L2205.06 226.039 L2205.06 222.474 L2207.56 222.474 Q2209.32 222.474 2210.29 221.64 Q2211.26 220.807 2212.44 217.705 L2213.2 215.761 L2202.72 190.252 L2207.23 190.252 L2215.33 210.529 L2223.44 190.252 L2227.95 190.252 L2216.56 218.585 Z\" fill=\"#000000\" fill-rule=\"evenodd\" fill-opacity=\"1\" /><path clip-path=\"url(#clip170)\" d=\"M2238.46 212.242 L2254.78 212.242 L2254.78 216.178 L2232.83 216.178 L2232.83 212.242 Q2235.5 209.488 2240.08 204.858 Q2244.69 200.205 2245.87 198.863 Q2248.11 196.34 2248.99 194.604 Q2249.89 192.844 2249.89 191.155 Q2249.89 188.4 2247.95 186.664 Q2246.03 184.928 2242.93 184.928 Q2240.73 184.928 2238.27 185.692 Q2235.84 186.455 2233.07 188.006 L2233.07 183.284 Q2235.89 182.15 2238.34 181.571 Q2240.8 180.993 2242.83 180.993 Q2248.2 180.993 2251.4 183.678 Q2254.59 186.363 2254.59 190.854 Q2254.59 192.983 2253.78 194.905 Q2253 196.803 2250.89 199.395 Q2250.31 200.067 2247.21 203.284 Q2244.11 206.479 2238.46 212.242 Z\" fill=\"#000000\" fill-rule=\"evenodd\" fill-opacity=\"1\" /></svg>\n"
      ]
     },
     "execution_count": 182,
     "metadata": {},
     "output_type": "execute_result"
    }
   ],
   "source": [
    "plot(bulkscan_null_grid_results.L[:, 49][1:100])\n",
    "plot!(gemma_lods[1:100])"
   ]
  },
  {
   "cell_type": "code",
   "execution_count": null,
   "id": "36979fc1-4f14-4bc2-9ddb-b5e30b520440",
   "metadata": {},
   "outputs": [
    {
     "data": {
      "image/svg+xml": [
       "<?xml version=\"1.0\" encoding=\"utf-8\"?>\n",
       "<svg xmlns=\"http://www.w3.org/2000/svg\" xmlns:xlink=\"http://www.w3.org/1999/xlink\" width=\"600\" height=\"400\" viewBox=\"0 0 2400 1600\">\n",
       "<defs>\n",
       "  <clipPath id=\"clip970\">\n",
       "    <rect x=\"0\" y=\"0\" width=\"2400\" height=\"1600\"/>\n",
       "  </clipPath>\n",
       "</defs>\n",
       "<path clip-path=\"url(#clip970)\" d=\"\n",
       "M0 1600 L2400 1600 L2400 0 L0 0  Z\n",
       "  \" fill=\"#ffffff\" fill-rule=\"evenodd\" fill-opacity=\"1\"/>\n",
       "<defs>\n",
       "  <clipPath id=\"clip971\">\n",
       "    <rect x=\"480\" y=\"0\" width=\"1681\" height=\"1600\"/>\n",
       "  </clipPath>\n",
       "</defs>\n",
       "<path clip-path=\"url(#clip970)\" d=\"\n",
       "M156.598 1486.45 L2352.76 1486.45 L2352.76 47.2441 L156.598 47.2441  Z\n",
       "  \" fill=\"#ffffff\" fill-rule=\"evenodd\" fill-opacity=\"1\"/>\n",
       "<defs>\n",
       "  <clipPath id=\"clip972\">\n",
       "    <rect x=\"156\" y=\"47\" width=\"2197\" height=\"1440\"/>\n",
       "  </clipPath>\n",
       "</defs>\n",
       "<polyline clip-path=\"url(#clip972)\" style=\"stroke:#000000; stroke-linecap:round; stroke-linejoin:round; stroke-width:2; stroke-opacity:0.1; fill:none\" points=\"\n",
       "  218.754,1486.45 218.754,47.2441 \n",
       "  \"/>\n",
       "<polyline clip-path=\"url(#clip972)\" style=\"stroke:#000000; stroke-linecap:round; stroke-linejoin:round; stroke-width:2; stroke-opacity:0.1; fill:none\" points=\"\n",
       "  538.062,1486.45 538.062,47.2441 \n",
       "  \"/>\n",
       "<polyline clip-path=\"url(#clip972)\" style=\"stroke:#000000; stroke-linecap:round; stroke-linejoin:round; stroke-width:2; stroke-opacity:0.1; fill:none\" points=\"\n",
       "  857.37,1486.45 857.37,47.2441 \n",
       "  \"/>\n",
       "<polyline clip-path=\"url(#clip972)\" style=\"stroke:#000000; stroke-linecap:round; stroke-linejoin:round; stroke-width:2; stroke-opacity:0.1; fill:none\" points=\"\n",
       "  1176.68,1486.45 1176.68,47.2441 \n",
       "  \"/>\n",
       "<polyline clip-path=\"url(#clip972)\" style=\"stroke:#000000; stroke-linecap:round; stroke-linejoin:round; stroke-width:2; stroke-opacity:0.1; fill:none\" points=\"\n",
       "  1495.99,1486.45 1495.99,47.2441 \n",
       "  \"/>\n",
       "<polyline clip-path=\"url(#clip972)\" style=\"stroke:#000000; stroke-linecap:round; stroke-linejoin:round; stroke-width:2; stroke-opacity:0.1; fill:none\" points=\"\n",
       "  1815.29,1486.45 1815.29,47.2441 \n",
       "  \"/>\n",
       "<polyline clip-path=\"url(#clip972)\" style=\"stroke:#000000; stroke-linecap:round; stroke-linejoin:round; stroke-width:2; stroke-opacity:0.1; fill:none\" points=\"\n",
       "  2134.6,1486.45 2134.6,47.2441 \n",
       "  \"/>\n",
       "<polyline clip-path=\"url(#clip970)\" style=\"stroke:#000000; stroke-linecap:round; stroke-linejoin:round; stroke-width:4; stroke-opacity:1; fill:none\" points=\"\n",
       "  156.598,1486.45 2352.76,1486.45 \n",
       "  \"/>\n",
       "<polyline clip-path=\"url(#clip970)\" style=\"stroke:#000000; stroke-linecap:round; stroke-linejoin:round; stroke-width:4; stroke-opacity:1; fill:none\" points=\"\n",
       "  218.754,1486.45 218.754,1467.55 \n",
       "  \"/>\n",
       "<polyline clip-path=\"url(#clip970)\" style=\"stroke:#000000; stroke-linecap:round; stroke-linejoin:round; stroke-width:4; stroke-opacity:1; fill:none\" points=\"\n",
       "  538.062,1486.45 538.062,1467.55 \n",
       "  \"/>\n",
       "<polyline clip-path=\"url(#clip970)\" style=\"stroke:#000000; stroke-linecap:round; stroke-linejoin:round; stroke-width:4; stroke-opacity:1; fill:none\" points=\"\n",
       "  857.37,1486.45 857.37,1467.55 \n",
       "  \"/>\n",
       "<polyline clip-path=\"url(#clip970)\" style=\"stroke:#000000; stroke-linecap:round; stroke-linejoin:round; stroke-width:4; stroke-opacity:1; fill:none\" points=\"\n",
       "  1176.68,1486.45 1176.68,1467.55 \n",
       "  \"/>\n",
       "<polyline clip-path=\"url(#clip970)\" style=\"stroke:#000000; stroke-linecap:round; stroke-linejoin:round; stroke-width:4; stroke-opacity:1; fill:none\" points=\"\n",
       "  1495.99,1486.45 1495.99,1467.55 \n",
       "  \"/>\n",
       "<polyline clip-path=\"url(#clip970)\" style=\"stroke:#000000; stroke-linecap:round; stroke-linejoin:round; stroke-width:4; stroke-opacity:1; fill:none\" points=\"\n",
       "  1815.29,1486.45 1815.29,1467.55 \n",
       "  \"/>\n",
       "<polyline clip-path=\"url(#clip970)\" style=\"stroke:#000000; stroke-linecap:round; stroke-linejoin:round; stroke-width:4; stroke-opacity:1; fill:none\" points=\"\n",
       "  2134.6,1486.45 2134.6,1467.55 \n",
       "  \"/>\n",
       "<path clip-path=\"url(#clip970)\" d=\"M196.138 1517.37 Q192.527 1517.37 190.698 1520.93 Q188.893 1524.47 188.893 1531.6 Q188.893 1538.71 190.698 1542.27 Q192.527 1545.82 196.138 1545.82 Q199.772 1545.82 201.578 1542.27 Q203.406 1538.71 203.406 1531.6 Q203.406 1524.47 201.578 1520.93 Q199.772 1517.37 196.138 1517.37 M196.138 1513.66 Q201.948 1513.66 205.004 1518.27 Q208.082 1522.85 208.082 1531.6 Q208.082 1540.33 205.004 1544.94 Q201.948 1549.52 196.138 1549.52 Q190.328 1549.52 187.249 1544.94 Q184.194 1540.33 184.194 1531.6 Q184.194 1522.85 187.249 1518.27 Q190.328 1513.66 196.138 1513.66 Z\" fill=\"#000000\" fill-rule=\"evenodd\" fill-opacity=\"1\" /><path clip-path=\"url(#clip970)\" d=\"M216.3 1542.97 L221.184 1542.97 L221.184 1548.85 L216.3 1548.85 L216.3 1542.97 Z\" fill=\"#000000\" fill-rule=\"evenodd\" fill-opacity=\"1\" /><path clip-path=\"url(#clip970)\" d=\"M241.369 1517.37 Q237.758 1517.37 235.929 1520.93 Q234.124 1524.47 234.124 1531.6 Q234.124 1538.71 235.929 1542.27 Q237.758 1545.82 241.369 1545.82 Q245.003 1545.82 246.809 1542.27 Q248.638 1538.71 248.638 1531.6 Q248.638 1524.47 246.809 1520.93 Q245.003 1517.37 241.369 1517.37 M241.369 1513.66 Q247.179 1513.66 250.235 1518.27 Q253.314 1522.85 253.314 1531.6 Q253.314 1540.33 250.235 1544.94 Q247.179 1549.52 241.369 1549.52 Q235.559 1549.52 232.48 1544.94 Q229.425 1540.33 229.425 1531.6 Q229.425 1522.85 232.48 1518.27 Q235.559 1513.66 241.369 1513.66 Z\" fill=\"#000000\" fill-rule=\"evenodd\" fill-opacity=\"1\" /><path clip-path=\"url(#clip970)\" d=\"M516.245 1517.37 Q512.634 1517.37 510.805 1520.93 Q508.999 1524.47 508.999 1531.6 Q508.999 1538.71 510.805 1542.27 Q512.634 1545.82 516.245 1545.82 Q519.879 1545.82 521.684 1542.27 Q523.513 1538.71 523.513 1531.6 Q523.513 1524.47 521.684 1520.93 Q519.879 1517.37 516.245 1517.37 M516.245 1513.66 Q522.055 1513.66 525.11 1518.27 Q528.189 1522.85 528.189 1531.6 Q528.189 1540.33 525.11 1544.94 Q522.055 1549.52 516.245 1549.52 Q510.435 1549.52 507.356 1544.94 Q504.3 1540.33 504.3 1531.6 Q504.3 1522.85 507.356 1518.27 Q510.435 1513.66 516.245 1513.66 Z\" fill=\"#000000\" fill-rule=\"evenodd\" fill-opacity=\"1\" /><path clip-path=\"url(#clip970)\" d=\"M536.407 1542.97 L541.291 1542.97 L541.291 1548.85 L536.407 1548.85 L536.407 1542.97 Z\" fill=\"#000000\" fill-rule=\"evenodd\" fill-opacity=\"1\" /><path clip-path=\"url(#clip970)\" d=\"M555.504 1544.91 L571.823 1544.91 L571.823 1548.85 L549.879 1548.85 L549.879 1544.91 Q552.541 1542.16 557.124 1537.53 Q561.731 1532.88 562.911 1531.53 Q565.156 1529.01 566.036 1527.27 Q566.939 1525.51 566.939 1523.82 Q566.939 1521.07 564.994 1519.33 Q563.073 1517.6 559.971 1517.6 Q557.772 1517.6 555.319 1518.36 Q552.888 1519.13 550.11 1520.68 L550.11 1515.95 Q552.934 1514.82 555.388 1514.24 Q557.842 1513.66 559.879 1513.66 Q565.249 1513.66 568.443 1516.35 Q571.638 1519.03 571.638 1523.52 Q571.638 1525.65 570.828 1527.57 Q570.041 1529.47 567.934 1532.07 Q567.356 1532.74 564.254 1535.95 Q561.152 1539.15 555.504 1544.91 Z\" fill=\"#000000\" fill-rule=\"evenodd\" fill-opacity=\"1\" /><path clip-path=\"url(#clip970)\" d=\"M834.511 1517.37 Q830.9 1517.37 829.071 1520.93 Q827.266 1524.47 827.266 1531.6 Q827.266 1538.71 829.071 1542.27 Q830.9 1545.82 834.511 1545.82 Q838.145 1545.82 839.951 1542.27 Q841.78 1538.71 841.78 1531.6 Q841.78 1524.47 839.951 1520.93 Q838.145 1517.37 834.511 1517.37 M834.511 1513.66 Q840.321 1513.66 843.377 1518.27 Q846.456 1522.85 846.456 1531.6 Q846.456 1540.33 843.377 1544.94 Q840.321 1549.52 834.511 1549.52 Q828.701 1549.52 825.622 1544.94 Q822.567 1540.33 822.567 1531.6 Q822.567 1522.85 825.622 1518.27 Q828.701 1513.66 834.511 1513.66 Z\" fill=\"#000000\" fill-rule=\"evenodd\" fill-opacity=\"1\" /><path clip-path=\"url(#clip970)\" d=\"M854.673 1542.97 L859.557 1542.97 L859.557 1548.85 L854.673 1548.85 L854.673 1542.97 Z\" fill=\"#000000\" fill-rule=\"evenodd\" fill-opacity=\"1\" /><path clip-path=\"url(#clip970)\" d=\"M882.59 1518.36 L870.784 1536.81 L882.59 1536.81 L882.59 1518.36 M881.363 1514.29 L887.242 1514.29 L887.242 1536.81 L892.173 1536.81 L892.173 1540.7 L887.242 1540.7 L887.242 1548.85 L882.59 1548.85 L882.59 1540.7 L866.988 1540.7 L866.988 1536.19 L881.363 1514.29 Z\" fill=\"#000000\" fill-rule=\"evenodd\" fill-opacity=\"1\" /><path clip-path=\"url(#clip970)\" d=\"M1153.98 1517.37 Q1150.37 1517.37 1148.54 1520.93 Q1146.74 1524.47 1146.74 1531.6 Q1146.74 1538.71 1148.54 1542.27 Q1150.37 1545.82 1153.98 1545.82 Q1157.62 1545.82 1159.42 1542.27 Q1161.25 1538.71 1161.25 1531.6 Q1161.25 1524.47 1159.42 1520.93 Q1157.62 1517.37 1153.98 1517.37 M1153.98 1513.66 Q1159.79 1513.66 1162.85 1518.27 Q1165.93 1522.85 1165.93 1531.6 Q1165.93 1540.33 1162.85 1544.94 Q1159.79 1549.52 1153.98 1549.52 Q1148.17 1549.52 1145.09 1544.94 Q1142.04 1540.33 1142.04 1531.6 Q1142.04 1522.85 1145.09 1518.27 Q1148.17 1513.66 1153.98 1513.66 Z\" fill=\"#000000\" fill-rule=\"evenodd\" fill-opacity=\"1\" /><path clip-path=\"url(#clip970)\" d=\"M1174.14 1542.97 L1179.03 1542.97 L1179.03 1548.85 L1174.14 1548.85 L1174.14 1542.97 Z\" fill=\"#000000\" fill-rule=\"evenodd\" fill-opacity=\"1\" /><path clip-path=\"url(#clip970)\" d=\"M1199.79 1529.7 Q1196.64 1529.7 1194.79 1531.86 Q1192.96 1534.01 1192.96 1537.76 Q1192.96 1541.49 1194.79 1543.66 Q1196.64 1545.82 1199.79 1545.82 Q1202.94 1545.82 1204.77 1543.66 Q1206.62 1541.49 1206.62 1537.76 Q1206.62 1534.01 1204.77 1531.86 Q1202.94 1529.7 1199.79 1529.7 M1209.07 1515.05 L1209.07 1519.31 Q1207.31 1518.48 1205.51 1518.04 Q1203.73 1517.6 1201.97 1517.6 Q1197.34 1517.6 1194.88 1520.72 Q1192.45 1523.85 1192.11 1530.17 Q1193.47 1528.15 1195.53 1527.09 Q1197.59 1526 1200.07 1526 Q1205.28 1526 1208.29 1529.17 Q1211.32 1532.32 1211.32 1537.76 Q1211.32 1543.08 1208.17 1546.3 Q1205.02 1549.52 1199.79 1549.52 Q1193.8 1549.52 1190.62 1544.94 Q1187.45 1540.33 1187.45 1531.6 Q1187.45 1523.41 1191.34 1518.55 Q1195.23 1513.66 1201.78 1513.66 Q1203.54 1513.66 1205.32 1514.01 Q1207.13 1514.36 1209.07 1515.05 Z\" fill=\"#000000\" fill-rule=\"evenodd\" fill-opacity=\"1\" /><path clip-path=\"url(#clip970)\" d=\"M1473.42 1517.37 Q1469.81 1517.37 1467.98 1520.93 Q1466.17 1524.47 1466.17 1531.6 Q1466.17 1538.71 1467.98 1542.27 Q1469.81 1545.82 1473.42 1545.82 Q1477.05 1545.82 1478.86 1542.27 Q1480.69 1538.71 1480.69 1531.6 Q1480.69 1524.47 1478.86 1520.93 Q1477.05 1517.37 1473.42 1517.37 M1473.42 1513.66 Q1479.23 1513.66 1482.28 1518.27 Q1485.36 1522.85 1485.36 1531.6 Q1485.36 1540.33 1482.28 1544.94 Q1479.23 1549.52 1473.42 1549.52 Q1467.61 1549.52 1464.53 1544.94 Q1461.47 1540.33 1461.47 1531.6 Q1461.47 1522.85 1464.53 1518.27 Q1467.61 1513.66 1473.42 1513.66 Z\" fill=\"#000000\" fill-rule=\"evenodd\" fill-opacity=\"1\" /><path clip-path=\"url(#clip970)\" d=\"M1493.58 1542.97 L1498.46 1542.97 L1498.46 1548.85 L1493.58 1548.85 L1493.58 1542.97 Z\" fill=\"#000000\" fill-rule=\"evenodd\" fill-opacity=\"1\" /><path clip-path=\"url(#clip970)\" d=\"M1518.65 1532.44 Q1515.31 1532.44 1513.39 1534.22 Q1511.5 1536 1511.5 1539.13 Q1511.5 1542.25 1513.39 1544.03 Q1515.31 1545.82 1518.65 1545.82 Q1521.98 1545.82 1523.9 1544.03 Q1525.82 1542.23 1525.82 1539.13 Q1525.82 1536 1523.9 1534.22 Q1522 1532.44 1518.65 1532.44 M1513.97 1530.45 Q1510.96 1529.7 1509.27 1527.64 Q1507.61 1525.58 1507.61 1522.62 Q1507.61 1518.48 1510.55 1516.07 Q1513.51 1513.66 1518.65 1513.66 Q1523.81 1513.66 1526.75 1516.07 Q1529.69 1518.48 1529.69 1522.62 Q1529.69 1525.58 1528 1527.64 Q1526.33 1529.7 1523.35 1530.45 Q1526.73 1531.23 1528.6 1533.52 Q1530.5 1535.82 1530.5 1539.13 Q1530.5 1544.15 1527.42 1546.83 Q1524.37 1549.52 1518.65 1549.52 Q1512.93 1549.52 1509.85 1546.83 Q1506.8 1544.15 1506.8 1539.13 Q1506.8 1535.82 1508.69 1533.52 Q1510.59 1531.23 1513.97 1530.45 M1512.26 1523.06 Q1512.26 1525.75 1513.93 1527.25 Q1515.62 1528.76 1518.65 1528.76 Q1521.66 1528.76 1523.35 1527.25 Q1525.06 1525.75 1525.06 1523.06 Q1525.06 1520.38 1523.35 1518.87 Q1521.66 1517.37 1518.65 1517.37 Q1515.62 1517.37 1513.93 1518.87 Q1512.26 1520.38 1512.26 1523.06 Z\" fill=\"#000000\" fill-rule=\"evenodd\" fill-opacity=\"1\" /><path clip-path=\"url(#clip970)\" d=\"M1782.45 1544.91 L1790.09 1544.91 L1790.09 1518.55 L1781.78 1520.21 L1781.78 1515.95 L1790.04 1514.29 L1794.72 1514.29 L1794.72 1544.91 L1802.35 1544.91 L1802.35 1548.85 L1782.45 1548.85 L1782.45 1544.91 Z\" fill=\"#000000\" fill-rule=\"evenodd\" fill-opacity=\"1\" /><path clip-path=\"url(#clip970)\" d=\"M1811.8 1542.97 L1816.68 1542.97 L1816.68 1548.85 L1811.8 1548.85 L1811.8 1542.97 Z\" fill=\"#000000\" fill-rule=\"evenodd\" fill-opacity=\"1\" /><path clip-path=\"url(#clip970)\" d=\"M1836.87 1517.37 Q1833.26 1517.37 1831.43 1520.93 Q1829.62 1524.47 1829.62 1531.6 Q1829.62 1538.71 1831.43 1542.27 Q1833.26 1545.82 1836.87 1545.82 Q1840.5 1545.82 1842.31 1542.27 Q1844.14 1538.71 1844.14 1531.6 Q1844.14 1524.47 1842.31 1520.93 Q1840.5 1517.37 1836.87 1517.37 M1836.87 1513.66 Q1842.68 1513.66 1845.73 1518.27 Q1848.81 1522.85 1848.81 1531.6 Q1848.81 1540.33 1845.73 1544.94 Q1842.68 1549.52 1836.87 1549.52 Q1831.06 1549.52 1827.98 1544.94 Q1824.92 1540.33 1824.92 1531.6 Q1824.92 1522.85 1827.98 1518.27 Q1831.06 1513.66 1836.87 1513.66 Z\" fill=\"#000000\" fill-rule=\"evenodd\" fill-opacity=\"1\" /><path clip-path=\"url(#clip970)\" d=\"M2102.55 1544.91 L2110.19 1544.91 L2110.19 1518.55 L2101.88 1520.21 L2101.88 1515.95 L2110.15 1514.29 L2114.82 1514.29 L2114.82 1544.91 L2122.46 1544.91 L2122.46 1548.85 L2102.55 1548.85 L2102.55 1544.91 Z\" fill=\"#000000\" fill-rule=\"evenodd\" fill-opacity=\"1\" /><path clip-path=\"url(#clip970)\" d=\"M2131.91 1542.97 L2136.79 1542.97 L2136.79 1548.85 L2131.91 1548.85 L2131.91 1542.97 Z\" fill=\"#000000\" fill-rule=\"evenodd\" fill-opacity=\"1\" /><path clip-path=\"url(#clip970)\" d=\"M2151 1544.91 L2167.32 1544.91 L2167.32 1548.85 L2145.38 1548.85 L2145.38 1544.91 Q2148.04 1542.16 2152.62 1537.53 Q2157.23 1532.88 2158.41 1531.53 Q2160.66 1529.01 2161.54 1527.27 Q2162.44 1525.51 2162.44 1523.82 Q2162.44 1521.07 2160.49 1519.33 Q2158.57 1517.6 2155.47 1517.6 Q2153.27 1517.6 2150.82 1518.36 Q2148.39 1519.13 2145.61 1520.68 L2145.61 1515.95 Q2148.43 1514.82 2150.89 1514.24 Q2153.34 1513.66 2155.38 1513.66 Q2160.75 1513.66 2163.94 1516.35 Q2167.14 1519.03 2167.14 1523.52 Q2167.14 1525.65 2166.33 1527.57 Q2165.54 1529.47 2163.43 1532.07 Q2162.85 1532.74 2159.75 1535.95 Q2156.65 1539.15 2151 1544.91 Z\" fill=\"#000000\" fill-rule=\"evenodd\" fill-opacity=\"1\" /><polyline clip-path=\"url(#clip972)\" style=\"stroke:#000000; stroke-linecap:round; stroke-linejoin:round; stroke-width:2; stroke-opacity:0.1; fill:none\" points=\"\n",
       "  156.598,1445.72 2352.76,1445.72 \n",
       "  \"/>\n",
       "<polyline clip-path=\"url(#clip972)\" style=\"stroke:#000000; stroke-linecap:round; stroke-linejoin:round; stroke-width:2; stroke-opacity:0.1; fill:none\" points=\"\n",
       "  156.598,1236.46 2352.76,1236.46 \n",
       "  \"/>\n",
       "<polyline clip-path=\"url(#clip972)\" style=\"stroke:#000000; stroke-linecap:round; stroke-linejoin:round; stroke-width:2; stroke-opacity:0.1; fill:none\" points=\"\n",
       "  156.598,1027.21 2352.76,1027.21 \n",
       "  \"/>\n",
       "<polyline clip-path=\"url(#clip972)\" style=\"stroke:#000000; stroke-linecap:round; stroke-linejoin:round; stroke-width:2; stroke-opacity:0.1; fill:none\" points=\"\n",
       "  156.598,817.961 2352.76,817.961 \n",
       "  \"/>\n",
       "<polyline clip-path=\"url(#clip972)\" style=\"stroke:#000000; stroke-linecap:round; stroke-linejoin:round; stroke-width:2; stroke-opacity:0.1; fill:none\" points=\"\n",
       "  156.598,608.709 2352.76,608.709 \n",
       "  \"/>\n",
       "<polyline clip-path=\"url(#clip972)\" style=\"stroke:#000000; stroke-linecap:round; stroke-linejoin:round; stroke-width:2; stroke-opacity:0.1; fill:none\" points=\"\n",
       "  156.598,399.458 2352.76,399.458 \n",
       "  \"/>\n",
       "<polyline clip-path=\"url(#clip972)\" style=\"stroke:#000000; stroke-linecap:round; stroke-linejoin:round; stroke-width:2; stroke-opacity:0.1; fill:none\" points=\"\n",
       "  156.598,190.206 2352.76,190.206 \n",
       "  \"/>\n",
       "<polyline clip-path=\"url(#clip970)\" style=\"stroke:#000000; stroke-linecap:round; stroke-linejoin:round; stroke-width:4; stroke-opacity:1; fill:none\" points=\"\n",
       "  156.598,1486.45 156.598,47.2441 \n",
       "  \"/>\n",
       "<polyline clip-path=\"url(#clip970)\" style=\"stroke:#000000; stroke-linecap:round; stroke-linejoin:round; stroke-width:4; stroke-opacity:1; fill:none\" points=\"\n",
       "  156.598,1445.72 175.496,1445.72 \n",
       "  \"/>\n",
       "<polyline clip-path=\"url(#clip970)\" style=\"stroke:#000000; stroke-linecap:round; stroke-linejoin:round; stroke-width:4; stroke-opacity:1; fill:none\" points=\"\n",
       "  156.598,1236.46 175.496,1236.46 \n",
       "  \"/>\n",
       "<polyline clip-path=\"url(#clip970)\" style=\"stroke:#000000; stroke-linecap:round; stroke-linejoin:round; stroke-width:4; stroke-opacity:1; fill:none\" points=\"\n",
       "  156.598,1027.21 175.496,1027.21 \n",
       "  \"/>\n",
       "<polyline clip-path=\"url(#clip970)\" style=\"stroke:#000000; stroke-linecap:round; stroke-linejoin:round; stroke-width:4; stroke-opacity:1; fill:none\" points=\"\n",
       "  156.598,817.961 175.496,817.961 \n",
       "  \"/>\n",
       "<polyline clip-path=\"url(#clip970)\" style=\"stroke:#000000; stroke-linecap:round; stroke-linejoin:round; stroke-width:4; stroke-opacity:1; fill:none\" points=\"\n",
       "  156.598,608.709 175.496,608.709 \n",
       "  \"/>\n",
       "<polyline clip-path=\"url(#clip970)\" style=\"stroke:#000000; stroke-linecap:round; stroke-linejoin:round; stroke-width:4; stroke-opacity:1; fill:none\" points=\"\n",
       "  156.598,399.458 175.496,399.458 \n",
       "  \"/>\n",
       "<polyline clip-path=\"url(#clip970)\" style=\"stroke:#000000; stroke-linecap:round; stroke-linejoin:round; stroke-width:4; stroke-opacity:1; fill:none\" points=\"\n",
       "  156.598,190.206 175.496,190.206 \n",
       "  \"/>\n",
       "<path clip-path=\"url(#clip970)\" d=\"M63.4226 1431.51 Q59.8115 1431.51 57.9828 1435.08 Q56.1773 1438.62 56.1773 1445.75 Q56.1773 1452.86 57.9828 1456.42 Q59.8115 1459.96 63.4226 1459.96 Q67.0569 1459.96 68.8624 1456.42 Q70.6911 1452.86 70.6911 1445.75 Q70.6911 1438.62 68.8624 1435.08 Q67.0569 1431.51 63.4226 1431.51 M63.4226 1427.81 Q69.2328 1427.81 72.2883 1432.42 Q75.367 1437 75.367 1445.75 Q75.367 1454.48 72.2883 1459.08 Q69.2328 1463.67 63.4226 1463.67 Q57.6125 1463.67 54.5338 1459.08 Q51.4782 1454.48 51.4782 1445.75 Q51.4782 1437 54.5338 1432.42 Q57.6125 1427.81 63.4226 1427.81 Z\" fill=\"#000000\" fill-rule=\"evenodd\" fill-opacity=\"1\" /><path clip-path=\"url(#clip970)\" d=\"M83.5845 1457.12 L88.4688 1457.12 L88.4688 1463 L83.5845 1463 L83.5845 1457.12 Z\" fill=\"#000000\" fill-rule=\"evenodd\" fill-opacity=\"1\" /><path clip-path=\"url(#clip970)\" d=\"M108.654 1431.51 Q105.043 1431.51 103.214 1435.08 Q101.409 1438.62 101.409 1445.75 Q101.409 1452.86 103.214 1456.42 Q105.043 1459.96 108.654 1459.96 Q112.288 1459.96 114.094 1456.42 Q115.922 1452.86 115.922 1445.75 Q115.922 1438.62 114.094 1435.08 Q112.288 1431.51 108.654 1431.51 M108.654 1427.81 Q114.464 1427.81 117.52 1432.42 Q120.598 1437 120.598 1445.75 Q120.598 1454.48 117.52 1459.08 Q114.464 1463.67 108.654 1463.67 Q102.844 1463.67 99.765 1459.08 Q96.7095 1454.48 96.7095 1445.75 Q96.7095 1437 99.765 1432.42 Q102.844 1427.81 108.654 1427.81 Z\" fill=\"#000000\" fill-rule=\"evenodd\" fill-opacity=\"1\" /><path clip-path=\"url(#clip970)\" d=\"M65.0198 1222.26 Q61.4087 1222.26 59.58 1225.83 Q57.7745 1229.37 57.7745 1236.5 Q57.7745 1243.61 59.58 1247.17 Q61.4087 1250.71 65.0198 1250.71 Q68.6541 1250.71 70.4596 1247.17 Q72.2883 1243.61 72.2883 1236.5 Q72.2883 1229.37 70.4596 1225.83 Q68.6541 1222.26 65.0198 1222.26 M65.0198 1218.56 Q70.83 1218.56 73.8855 1223.17 Q76.9642 1227.75 76.9642 1236.5 Q76.9642 1245.23 73.8855 1249.83 Q70.83 1254.42 65.0198 1254.42 Q59.2097 1254.42 56.131 1249.83 Q53.0754 1245.23 53.0754 1236.5 Q53.0754 1227.75 56.131 1223.17 Q59.2097 1218.56 65.0198 1218.56 Z\" fill=\"#000000\" fill-rule=\"evenodd\" fill-opacity=\"1\" /><path clip-path=\"url(#clip970)\" d=\"M85.1818 1247.86 L90.066 1247.86 L90.066 1253.74 L85.1818 1253.74 L85.1818 1247.86 Z\" fill=\"#000000\" fill-rule=\"evenodd\" fill-opacity=\"1\" /><path clip-path=\"url(#clip970)\" d=\"M104.279 1249.81 L120.598 1249.81 L120.598 1253.74 L98.6539 1253.74 L98.6539 1249.81 Q101.316 1247.05 105.899 1242.42 Q110.506 1237.77 111.686 1236.43 Q113.932 1233.91 114.811 1232.17 Q115.714 1230.41 115.714 1228.72 Q115.714 1225.97 113.77 1224.23 Q111.848 1222.49 108.746 1222.49 Q106.547 1222.49 104.094 1223.26 Q101.663 1224.02 98.8854 1225.57 L98.8854 1220.85 Q101.709 1219.72 104.163 1219.14 Q106.617 1218.56 108.654 1218.56 Q114.024 1218.56 117.219 1221.24 Q120.413 1223.93 120.413 1228.42 Q120.413 1230.55 119.603 1232.47 Q118.816 1234.37 116.709 1236.96 Q116.131 1237.63 113.029 1240.85 Q109.927 1244.05 104.279 1249.81 Z\" fill=\"#000000\" fill-rule=\"evenodd\" fill-opacity=\"1\" /><path clip-path=\"url(#clip970)\" d=\"M62.9365 1013.01 Q59.3254 1013.01 57.4967 1016.58 Q55.6912 1020.12 55.6912 1027.25 Q55.6912 1034.35 57.4967 1037.92 Q59.3254 1041.46 62.9365 1041.46 Q66.5707 1041.46 68.3763 1037.92 Q70.205 1034.35 70.205 1027.25 Q70.205 1020.12 68.3763 1016.58 Q66.5707 1013.01 62.9365 1013.01 M62.9365 1009.31 Q68.7467 1009.31 71.8022 1013.91 Q74.8809 1018.5 74.8809 1027.25 Q74.8809 1035.97 71.8022 1040.58 Q68.7467 1045.16 62.9365 1045.16 Q57.1264 1045.16 54.0477 1040.58 Q50.9921 1035.97 50.9921 1027.25 Q50.9921 1018.5 54.0477 1013.91 Q57.1264 1009.31 62.9365 1009.31 Z\" fill=\"#000000\" fill-rule=\"evenodd\" fill-opacity=\"1\" /><path clip-path=\"url(#clip970)\" d=\"M83.0984 1038.61 L87.9827 1038.61 L87.9827 1044.49 L83.0984 1044.49 L83.0984 1038.61 Z\" fill=\"#000000\" fill-rule=\"evenodd\" fill-opacity=\"1\" /><path clip-path=\"url(#clip970)\" d=\"M111.015 1014.01 L99.2095 1032.46 L111.015 1032.46 L111.015 1014.01 M109.788 1009.93 L115.668 1009.93 L115.668 1032.46 L120.598 1032.46 L120.598 1036.34 L115.668 1036.34 L115.668 1044.49 L111.015 1044.49 L111.015 1036.34 L95.4132 1036.34 L95.4132 1031.83 L109.788 1009.93 Z\" fill=\"#000000\" fill-rule=\"evenodd\" fill-opacity=\"1\" /><path clip-path=\"url(#clip970)\" d=\"M63.2606 803.76 Q59.6495 803.76 57.8208 807.324 Q56.0152 810.866 56.0152 817.996 Q56.0152 825.102 57.8208 828.667 Q59.6495 832.209 63.2606 832.209 Q66.8948 832.209 68.7004 828.667 Q70.5291 825.102 70.5291 817.996 Q70.5291 810.866 68.7004 807.324 Q66.8948 803.76 63.2606 803.76 M63.2606 800.056 Q69.0707 800.056 72.1263 804.662 Q75.205 809.246 75.205 817.996 Q75.205 826.722 72.1263 831.329 Q69.0707 835.912 63.2606 835.912 Q57.4504 835.912 54.3717 831.329 Q51.3162 826.722 51.3162 817.996 Q51.3162 809.246 54.3717 804.662 Q57.4504 800.056 63.2606 800.056 Z\" fill=\"#000000\" fill-rule=\"evenodd\" fill-opacity=\"1\" /><path clip-path=\"url(#clip970)\" d=\"M83.4225 829.361 L88.3067 829.361 L88.3067 835.241 L83.4225 835.241 L83.4225 829.361 Z\" fill=\"#000000\" fill-rule=\"evenodd\" fill-opacity=\"1\" /><path clip-path=\"url(#clip970)\" d=\"M109.071 816.098 Q105.922 816.098 104.071 818.25 Q102.242 820.403 102.242 824.153 Q102.242 827.88 104.071 830.056 Q105.922 832.209 109.071 832.209 Q112.219 832.209 114.047 830.056 Q115.899 827.88 115.899 824.153 Q115.899 820.403 114.047 818.25 Q112.219 816.098 109.071 816.098 M118.353 801.445 L118.353 805.704 Q116.594 804.871 114.788 804.431 Q113.006 803.991 111.246 803.991 Q106.617 803.991 104.163 807.116 Q101.733 810.241 101.385 816.56 Q102.751 814.547 104.811 813.482 Q106.871 812.394 109.348 812.394 Q114.557 812.394 117.566 815.565 Q120.598 818.713 120.598 824.153 Q120.598 829.477 117.45 832.695 Q114.302 835.912 109.071 835.912 Q103.075 835.912 99.9039 831.329 Q96.7326 826.722 96.7326 817.996 Q96.7326 809.801 100.621 804.94 Q104.51 800.056 111.061 800.056 Q112.82 800.056 114.603 800.403 Q116.408 800.75 118.353 801.445 Z\" fill=\"#000000\" fill-rule=\"evenodd\" fill-opacity=\"1\" /><path clip-path=\"url(#clip970)\" d=\"M63.5152 594.508 Q59.9041 594.508 58.0754 598.073 Q56.2699 601.614 56.2699 608.744 Q56.2699 615.85 58.0754 619.415 Q59.9041 622.957 63.5152 622.957 Q67.1494 622.957 68.955 619.415 Q70.7837 615.85 70.7837 608.744 Q70.7837 601.614 68.955 598.073 Q67.1494 594.508 63.5152 594.508 M63.5152 590.804 Q69.3254 590.804 72.3809 595.411 Q75.4596 599.994 75.4596 608.744 Q75.4596 617.471 72.3809 622.077 Q69.3254 626.661 63.5152 626.661 Q57.7051 626.661 54.6264 622.077 Q51.5708 617.471 51.5708 608.744 Q51.5708 599.994 54.6264 595.411 Q57.7051 590.804 63.5152 590.804 Z\" fill=\"#000000\" fill-rule=\"evenodd\" fill-opacity=\"1\" /><path clip-path=\"url(#clip970)\" d=\"M83.6771 620.11 L88.5614 620.11 L88.5614 625.989 L83.6771 625.989 L83.6771 620.11 Z\" fill=\"#000000\" fill-rule=\"evenodd\" fill-opacity=\"1\" /><path clip-path=\"url(#clip970)\" d=\"M108.746 609.577 Q105.413 609.577 103.492 611.36 Q101.594 613.142 101.594 616.267 Q101.594 619.392 103.492 621.175 Q105.413 622.957 108.746 622.957 Q112.08 622.957 114.001 621.175 Q115.922 619.369 115.922 616.267 Q115.922 613.142 114.001 611.36 Q112.103 609.577 108.746 609.577 M104.071 607.587 Q101.061 606.846 99.3715 604.786 Q97.7048 602.726 97.7048 599.763 Q97.7048 595.619 100.645 593.212 Q103.608 590.804 108.746 590.804 Q113.908 590.804 116.848 593.212 Q119.788 595.619 119.788 599.763 Q119.788 602.726 118.098 604.786 Q116.432 606.846 113.445 607.587 Q116.825 608.374 118.7 610.665 Q120.598 612.957 120.598 616.267 Q120.598 621.29 117.52 623.975 Q114.464 626.661 108.746 626.661 Q103.029 626.661 99.9502 623.975 Q96.8947 621.29 96.8947 616.267 Q96.8947 612.957 98.7928 610.665 Q100.691 608.374 104.071 607.587 M102.358 600.202 Q102.358 602.888 104.024 604.392 Q105.714 605.897 108.746 605.897 Q111.756 605.897 113.445 604.392 Q115.158 602.888 115.158 600.202 Q115.158 597.517 113.445 596.013 Q111.756 594.508 108.746 594.508 Q105.714 594.508 104.024 596.013 Q102.358 597.517 102.358 600.202 Z\" fill=\"#000000\" fill-rule=\"evenodd\" fill-opacity=\"1\" /><path clip-path=\"url(#clip970)\" d=\"M54.2328 412.803 L61.8717 412.803 L61.8717 386.437 L53.5616 388.104 L53.5616 383.844 L61.8254 382.178 L66.5013 382.178 L66.5013 412.803 L74.1402 412.803 L74.1402 416.738 L54.2328 416.738 L54.2328 412.803 Z\" fill=\"#000000\" fill-rule=\"evenodd\" fill-opacity=\"1\" /><path clip-path=\"url(#clip970)\" d=\"M83.5845 410.858 L88.4688 410.858 L88.4688 416.738 L83.5845 416.738 L83.5845 410.858 Z\" fill=\"#000000\" fill-rule=\"evenodd\" fill-opacity=\"1\" /><path clip-path=\"url(#clip970)\" d=\"M108.654 385.256 Q105.043 385.256 103.214 388.821 Q101.409 392.363 101.409 399.492 Q101.409 406.599 103.214 410.164 Q105.043 413.705 108.654 413.705 Q112.288 413.705 114.094 410.164 Q115.922 406.599 115.922 399.492 Q115.922 392.363 114.094 388.821 Q112.288 385.256 108.654 385.256 M108.654 381.553 Q114.464 381.553 117.52 386.159 Q120.598 390.742 120.598 399.492 Q120.598 408.219 117.52 412.826 Q114.464 417.409 108.654 417.409 Q102.844 417.409 99.765 412.826 Q96.7095 408.219 96.7095 399.492 Q96.7095 390.742 99.765 386.159 Q102.844 381.553 108.654 381.553 Z\" fill=\"#000000\" fill-rule=\"evenodd\" fill-opacity=\"1\" /><path clip-path=\"url(#clip970)\" d=\"M55.8301 203.551 L63.4689 203.551 L63.4689 177.185 L55.1588 178.852 L55.1588 174.593 L63.4226 172.926 L68.0985 172.926 L68.0985 203.551 L75.7374 203.551 L75.7374 207.486 L55.8301 207.486 L55.8301 203.551 Z\" fill=\"#000000\" fill-rule=\"evenodd\" fill-opacity=\"1\" /><path clip-path=\"url(#clip970)\" d=\"M85.1818 201.606 L90.066 201.606 L90.066 207.486 L85.1818 207.486 L85.1818 201.606 Z\" fill=\"#000000\" fill-rule=\"evenodd\" fill-opacity=\"1\" /><path clip-path=\"url(#clip970)\" d=\"M104.279 203.551 L120.598 203.551 L120.598 207.486 L98.6539 207.486 L98.6539 203.551 Q101.316 200.796 105.899 196.167 Q110.506 191.514 111.686 190.171 Q113.932 187.648 114.811 185.912 Q115.714 184.153 115.714 182.463 Q115.714 179.708 113.77 177.972 Q111.848 176.236 108.746 176.236 Q106.547 176.236 104.094 177 Q101.663 177.764 98.8854 179.315 L98.8854 174.593 Q101.709 173.459 104.163 172.88 Q106.617 172.301 108.654 172.301 Q114.024 172.301 117.219 174.986 Q120.413 177.671 120.413 182.162 Q120.413 184.292 119.603 186.213 Q118.816 188.111 116.709 190.704 Q116.131 191.375 113.029 194.593 Q109.927 197.787 104.279 203.551 Z\" fill=\"#000000\" fill-rule=\"evenodd\" fill-opacity=\"1\" /><circle clip-path=\"url(#clip972)\" cx=\"587.77\" cy=\"1357.29\" r=\"14.4\" fill=\"#009af9\" fill-rule=\"evenodd\" fill-opacity=\"1\" stroke=\"#000000\" stroke-opacity=\"1\" stroke-width=\"3.2\"/>\n",
       "<circle clip-path=\"url(#clip972)\" cx=\"505.226\" cy=\"1293.26\" r=\"14.4\" fill=\"#009af9\" fill-rule=\"evenodd\" fill-opacity=\"1\" stroke=\"#000000\" stroke-opacity=\"1\" stroke-width=\"3.2\"/>\n",
       "<circle clip-path=\"url(#clip972)\" cx=\"2290.6\" cy=\"1410.96\" r=\"14.4\" fill=\"#009af9\" fill-rule=\"evenodd\" fill-opacity=\"1\" stroke=\"#000000\" stroke-opacity=\"1\" stroke-width=\"3.2\"/>\n",
       "<circle clip-path=\"url(#clip972)\" cx=\"719.147\" cy=\"1420.32\" r=\"14.4\" fill=\"#009af9\" fill-rule=\"evenodd\" fill-opacity=\"1\" stroke=\"#000000\" stroke-opacity=\"1\" stroke-width=\"3.2\"/>\n",
       "<circle clip-path=\"url(#clip972)\" cx=\"2190.74\" cy=\"1297.38\" r=\"14.4\" fill=\"#009af9\" fill-rule=\"evenodd\" fill-opacity=\"1\" stroke=\"#000000\" stroke-opacity=\"1\" stroke-width=\"3.2\"/>\n",
       "<circle clip-path=\"url(#clip972)\" cx=\"905.531\" cy=\"1424.51\" r=\"14.4\" fill=\"#009af9\" fill-rule=\"evenodd\" fill-opacity=\"1\" stroke=\"#000000\" stroke-opacity=\"1\" stroke-width=\"3.2\"/>\n",
       "<circle clip-path=\"url(#clip972)\" cx=\"841.931\" cy=\"1406.45\" r=\"14.4\" fill=\"#009af9\" fill-rule=\"evenodd\" fill-opacity=\"1\" stroke=\"#000000\" stroke-opacity=\"1\" stroke-width=\"3.2\"/>\n",
       "<circle clip-path=\"url(#clip972)\" cx=\"449.464\" cy=\"1411.81\" r=\"14.4\" fill=\"#009af9\" fill-rule=\"evenodd\" fill-opacity=\"1\" stroke=\"#000000\" stroke-opacity=\"1\" stroke-width=\"3.2\"/>\n",
       "<circle clip-path=\"url(#clip972)\" cx=\"1895.71\" cy=\"1437.31\" r=\"14.4\" fill=\"#009af9\" fill-rule=\"evenodd\" fill-opacity=\"1\" stroke=\"#000000\" stroke-opacity=\"1\" stroke-width=\"3.2\"/>\n",
       "<circle clip-path=\"url(#clip972)\" cx=\"1949.42\" cy=\"1382.97\" r=\"14.4\" fill=\"#009af9\" fill-rule=\"evenodd\" fill-opacity=\"1\" stroke=\"#000000\" stroke-opacity=\"1\" stroke-width=\"3.2\"/>\n",
       "<circle clip-path=\"url(#clip972)\" cx=\"358.372\" cy=\"1430.9\" r=\"14.4\" fill=\"#009af9\" fill-rule=\"evenodd\" fill-opacity=\"1\" stroke=\"#000000\" stroke-opacity=\"1\" stroke-width=\"3.2\"/>\n",
       "<circle clip-path=\"url(#clip972)\" cx=\"419.655\" cy=\"1379.59\" r=\"14.4\" fill=\"#009af9\" fill-rule=\"evenodd\" fill-opacity=\"1\" stroke=\"#000000\" stroke-opacity=\"1\" stroke-width=\"3.2\"/>\n",
       "<circle clip-path=\"url(#clip972)\" cx=\"275.402\" cy=\"1443.95\" r=\"14.4\" fill=\"#009af9\" fill-rule=\"evenodd\" fill-opacity=\"1\" stroke=\"#000000\" stroke-opacity=\"1\" stroke-width=\"3.2\"/>\n",
       "<circle clip-path=\"url(#clip972)\" cx=\"369.726\" cy=\"1412.72\" r=\"14.4\" fill=\"#009af9\" fill-rule=\"evenodd\" fill-opacity=\"1\" stroke=\"#000000\" stroke-opacity=\"1\" stroke-width=\"3.2\"/>\n",
       "<circle clip-path=\"url(#clip972)\" cx=\"353.564\" cy=\"1431.54\" r=\"14.4\" fill=\"#009af9\" fill-rule=\"evenodd\" fill-opacity=\"1\" stroke=\"#000000\" stroke-opacity=\"1\" stroke-width=\"3.2\"/>\n",
       "<circle clip-path=\"url(#clip972)\" cx=\"318.76\" cy=\"1443.51\" r=\"14.4\" fill=\"#009af9\" fill-rule=\"evenodd\" fill-opacity=\"1\" stroke=\"#000000\" stroke-opacity=\"1\" stroke-width=\"3.2\"/>\n",
       "<circle clip-path=\"url(#clip972)\" cx=\"377.654\" cy=\"1386.56\" r=\"14.4\" fill=\"#009af9\" fill-rule=\"evenodd\" fill-opacity=\"1\" stroke=\"#000000\" stroke-opacity=\"1\" stroke-width=\"3.2\"/>\n",
       "<circle clip-path=\"url(#clip972)\" cx=\"219.337\" cy=\"1424.66\" r=\"14.4\" fill=\"#009af9\" fill-rule=\"evenodd\" fill-opacity=\"1\" stroke=\"#000000\" stroke-opacity=\"1\" stroke-width=\"3.2\"/>\n",
       "<circle clip-path=\"url(#clip972)\" cx=\"264.039\" cy=\"1405.92\" r=\"14.4\" fill=\"#009af9\" fill-rule=\"evenodd\" fill-opacity=\"1\" stroke=\"#000000\" stroke-opacity=\"1\" stroke-width=\"3.2\"/>\n",
       "<circle clip-path=\"url(#clip972)\" cx=\"339.147\" cy=\"1423.84\" r=\"14.4\" fill=\"#009af9\" fill-rule=\"evenodd\" fill-opacity=\"1\" stroke=\"#000000\" stroke-opacity=\"1\" stroke-width=\"3.2\"/>\n",
       "<circle clip-path=\"url(#clip972)\" cx=\"323.37\" cy=\"1428.58\" r=\"14.4\" fill=\"#009af9\" fill-rule=\"evenodd\" fill-opacity=\"1\" stroke=\"#000000\" stroke-opacity=\"1\" stroke-width=\"3.2\"/>\n",
       "<circle clip-path=\"url(#clip972)\" cx=\"220.972\" cy=\"1415.08\" r=\"14.4\" fill=\"#009af9\" fill-rule=\"evenodd\" fill-opacity=\"1\" stroke=\"#000000\" stroke-opacity=\"1\" stroke-width=\"3.2\"/>\n",
       "<circle clip-path=\"url(#clip972)\" cx=\"402.622\" cy=\"1445.71\" r=\"14.4\" fill=\"#009af9\" fill-rule=\"evenodd\" fill-opacity=\"1\" stroke=\"#000000\" stroke-opacity=\"1\" stroke-width=\"3.2\"/>\n",
       "<circle clip-path=\"url(#clip972)\" cx=\"339.009\" cy=\"1421.71\" r=\"14.4\" fill=\"#009af9\" fill-rule=\"evenodd\" fill-opacity=\"1\" stroke=\"#000000\" stroke-opacity=\"1\" stroke-width=\"3.2\"/>\n",
       "<circle clip-path=\"url(#clip972)\" cx=\"489.302\" cy=\"1435.46\" r=\"14.4\" fill=\"#009af9\" fill-rule=\"evenodd\" fill-opacity=\"1\" stroke=\"#000000\" stroke-opacity=\"1\" stroke-width=\"3.2\"/>\n",
       "<circle clip-path=\"url(#clip972)\" cx=\"354.417\" cy=\"1431.09\" r=\"14.4\" fill=\"#009af9\" fill-rule=\"evenodd\" fill-opacity=\"1\" stroke=\"#000000\" stroke-opacity=\"1\" stroke-width=\"3.2\"/>\n",
       "<circle clip-path=\"url(#clip972)\" cx=\"221.724\" cy=\"1408.27\" r=\"14.4\" fill=\"#009af9\" fill-rule=\"evenodd\" fill-opacity=\"1\" stroke=\"#000000\" stroke-opacity=\"1\" stroke-width=\"3.2\"/>\n",
       "<circle clip-path=\"url(#clip972)\" cx=\"242.272\" cy=\"1444.79\" r=\"14.4\" fill=\"#009af9\" fill-rule=\"evenodd\" fill-opacity=\"1\" stroke=\"#000000\" stroke-opacity=\"1\" stroke-width=\"3.2\"/>\n",
       "<circle clip-path=\"url(#clip972)\" cx=\"355.766\" cy=\"1431.11\" r=\"14.4\" fill=\"#009af9\" fill-rule=\"evenodd\" fill-opacity=\"1\" stroke=\"#000000\" stroke-opacity=\"1\" stroke-width=\"3.2\"/>\n",
       "<circle clip-path=\"url(#clip972)\" cx=\"221.968\" cy=\"1408.71\" r=\"14.4\" fill=\"#009af9\" fill-rule=\"evenodd\" fill-opacity=\"1\" stroke=\"#000000\" stroke-opacity=\"1\" stroke-width=\"3.2\"/>\n",
       "<circle clip-path=\"url(#clip972)\" cx=\"795.214\" cy=\"1444.91\" r=\"14.4\" fill=\"#009af9\" fill-rule=\"evenodd\" fill-opacity=\"1\" stroke=\"#000000\" stroke-opacity=\"1\" stroke-width=\"3.2\"/>\n",
       "<circle clip-path=\"url(#clip972)\" cx=\"380.343\" cy=\"1433.46\" r=\"14.4\" fill=\"#009af9\" fill-rule=\"evenodd\" fill-opacity=\"1\" stroke=\"#000000\" stroke-opacity=\"1\" stroke-width=\"3.2\"/>\n",
       "<circle clip-path=\"url(#clip972)\" cx=\"224.265\" cy=\"1410.96\" r=\"14.4\" fill=\"#009af9\" fill-rule=\"evenodd\" fill-opacity=\"1\" stroke=\"#000000\" stroke-opacity=\"1\" stroke-width=\"3.2\"/>\n",
       "<circle clip-path=\"url(#clip972)\" cx=\"701.411\" cy=\"1445.67\" r=\"14.4\" fill=\"#009af9\" fill-rule=\"evenodd\" fill-opacity=\"1\" stroke=\"#000000\" stroke-opacity=\"1\" stroke-width=\"3.2\"/>\n",
       "<circle clip-path=\"url(#clip972)\" cx=\"879.004\" cy=\"1392.8\" r=\"14.4\" fill=\"#009af9\" fill-rule=\"evenodd\" fill-opacity=\"1\" stroke=\"#000000\" stroke-opacity=\"1\" stroke-width=\"3.2\"/>\n",
       "<circle clip-path=\"url(#clip972)\" cx=\"230.736\" cy=\"1411.5\" r=\"14.4\" fill=\"#009af9\" fill-rule=\"evenodd\" fill-opacity=\"1\" stroke=\"#000000\" stroke-opacity=\"1\" stroke-width=\"3.2\"/>\n",
       "<circle clip-path=\"url(#clip972)\" cx=\"729.088\" cy=\"1445.7\" r=\"14.4\" fill=\"#009af9\" fill-rule=\"evenodd\" fill-opacity=\"1\" stroke=\"#000000\" stroke-opacity=\"1\" stroke-width=\"3.2\"/>\n",
       "<circle clip-path=\"url(#clip972)\" cx=\"261.359\" cy=\"1380.43\" r=\"14.4\" fill=\"#009af9\" fill-rule=\"evenodd\" fill-opacity=\"1\" stroke=\"#000000\" stroke-opacity=\"1\" stroke-width=\"3.2\"/>\n",
       "<circle clip-path=\"url(#clip972)\" cx=\"229.413\" cy=\"1407.29\" r=\"14.4\" fill=\"#009af9\" fill-rule=\"evenodd\" fill-opacity=\"1\" stroke=\"#000000\" stroke-opacity=\"1\" stroke-width=\"3.2\"/>\n",
       "<circle clip-path=\"url(#clip972)\" cx=\"672.061\" cy=\"1445.71\" r=\"14.4\" fill=\"#009af9\" fill-rule=\"evenodd\" fill-opacity=\"1\" stroke=\"#000000\" stroke-opacity=\"1\" stroke-width=\"3.2\"/>\n",
       "<circle clip-path=\"url(#clip972)\" cx=\"785.98\" cy=\"1389.86\" r=\"14.4\" fill=\"#009af9\" fill-rule=\"evenodd\" fill-opacity=\"1\" stroke=\"#000000\" stroke-opacity=\"1\" stroke-width=\"3.2\"/>\n",
       "<circle clip-path=\"url(#clip972)\" cx=\"642.047\" cy=\"1355.94\" r=\"14.4\" fill=\"#009af9\" fill-rule=\"evenodd\" fill-opacity=\"1\" stroke=\"#000000\" stroke-opacity=\"1\" stroke-width=\"3.2\"/>\n",
       "<circle clip-path=\"url(#clip972)\" cx=\"690.514\" cy=\"1432.7\" r=\"14.4\" fill=\"#009af9\" fill-rule=\"evenodd\" fill-opacity=\"1\" stroke=\"#000000\" stroke-opacity=\"1\" stroke-width=\"3.2\"/>\n",
       "<circle clip-path=\"url(#clip972)\" cx=\"234.547\" cy=\"1438.03\" r=\"14.4\" fill=\"#009af9\" fill-rule=\"evenodd\" fill-opacity=\"1\" stroke=\"#000000\" stroke-opacity=\"1\" stroke-width=\"3.2\"/>\n",
       "<circle clip-path=\"url(#clip972)\" cx=\"850.107\" cy=\"1389.08\" r=\"14.4\" fill=\"#009af9\" fill-rule=\"evenodd\" fill-opacity=\"1\" stroke=\"#000000\" stroke-opacity=\"1\" stroke-width=\"3.2\"/>\n",
       "<circle clip-path=\"url(#clip972)\" cx=\"672.061\" cy=\"1445.71\" r=\"14.4\" fill=\"#009af9\" fill-rule=\"evenodd\" fill-opacity=\"1\" stroke=\"#000000\" stroke-opacity=\"1\" stroke-width=\"3.2\"/>\n",
       "<circle clip-path=\"url(#clip972)\" cx=\"222.349\" cy=\"1411.65\" r=\"14.4\" fill=\"#009af9\" fill-rule=\"evenodd\" fill-opacity=\"1\" stroke=\"#000000\" stroke-opacity=\"1\" stroke-width=\"3.2\"/>\n",
       "<circle clip-path=\"url(#clip972)\" cx=\"648.057\" cy=\"1445.38\" r=\"14.4\" fill=\"#009af9\" fill-rule=\"evenodd\" fill-opacity=\"1\" stroke=\"#000000\" stroke-opacity=\"1\" stroke-width=\"3.2\"/>\n",
       "<circle clip-path=\"url(#clip972)\" cx=\"218.798\" cy=\"1418.05\" r=\"14.4\" fill=\"#009af9\" fill-rule=\"evenodd\" fill-opacity=\"1\" stroke=\"#000000\" stroke-opacity=\"1\" stroke-width=\"3.2\"/>\n",
       "<circle clip-path=\"url(#clip972)\" cx=\"1279.55\" cy=\"1412.55\" r=\"14.4\" fill=\"#009af9\" fill-rule=\"evenodd\" fill-opacity=\"1\" stroke=\"#000000\" stroke-opacity=\"1\" stroke-width=\"3.2\"/>\n",
       "<circle clip-path=\"url(#clip972)\" cx=\"449.521\" cy=\"1377.74\" r=\"14.4\" fill=\"#009af9\" fill-rule=\"evenodd\" fill-opacity=\"1\" stroke=\"#000000\" stroke-opacity=\"1\" stroke-width=\"3.2\"/>\n",
       "<circle clip-path=\"url(#clip972)\" cx=\"227.321\" cy=\"1091.89\" r=\"14.4\" fill=\"#009af9\" fill-rule=\"evenodd\" fill-opacity=\"1\" stroke=\"#000000\" stroke-opacity=\"1\" stroke-width=\"3.2\"/>\n",
       "<circle clip-path=\"url(#clip972)\" cx=\"518.756\" cy=\"1432.73\" r=\"14.4\" fill=\"#009af9\" fill-rule=\"evenodd\" fill-opacity=\"1\" stroke=\"#000000\" stroke-opacity=\"1\" stroke-width=\"3.2\"/>\n",
       "<circle clip-path=\"url(#clip972)\" cx=\"233.288\" cy=\"1228.96\" r=\"14.4\" fill=\"#009af9\" fill-rule=\"evenodd\" fill-opacity=\"1\" stroke=\"#000000\" stroke-opacity=\"1\" stroke-width=\"3.2\"/>\n",
       "<circle clip-path=\"url(#clip972)\" cx=\"890.684\" cy=\"1397.07\" r=\"14.4\" fill=\"#009af9\" fill-rule=\"evenodd\" fill-opacity=\"1\" stroke=\"#000000\" stroke-opacity=\"1\" stroke-width=\"3.2\"/>\n",
       "<circle clip-path=\"url(#clip972)\" cx=\"220.451\" cy=\"1413.96\" r=\"14.4\" fill=\"#009af9\" fill-rule=\"evenodd\" fill-opacity=\"1\" stroke=\"#000000\" stroke-opacity=\"1\" stroke-width=\"3.2\"/>\n",
       "<circle clip-path=\"url(#clip972)\" cx=\"224.227\" cy=\"1049.51\" r=\"14.4\" fill=\"#009af9\" fill-rule=\"evenodd\" fill-opacity=\"1\" stroke=\"#000000\" stroke-opacity=\"1\" stroke-width=\"3.2\"/>\n",
       "<circle clip-path=\"url(#clip972)\" cx=\"664.924\" cy=\"1445.66\" r=\"14.4\" fill=\"#009af9\" fill-rule=\"evenodd\" fill-opacity=\"1\" stroke=\"#000000\" stroke-opacity=\"1\" stroke-width=\"3.2\"/>\n",
       "<circle clip-path=\"url(#clip972)\" cx=\"689.037\" cy=\"1065.81\" r=\"14.4\" fill=\"#009af9\" fill-rule=\"evenodd\" fill-opacity=\"1\" stroke=\"#000000\" stroke-opacity=\"1\" stroke-width=\"3.2\"/>\n",
       "<circle clip-path=\"url(#clip972)\" cx=\"221.22\" cy=\"1410.44\" r=\"14.4\" fill=\"#009af9\" fill-rule=\"evenodd\" fill-opacity=\"1\" stroke=\"#000000\" stroke-opacity=\"1\" stroke-width=\"3.2\"/>\n",
       "<circle clip-path=\"url(#clip972)\" cx=\"562.017\" cy=\"1291.77\" r=\"14.4\" fill=\"#009af9\" fill-rule=\"evenodd\" fill-opacity=\"1\" stroke=\"#000000\" stroke-opacity=\"1\" stroke-width=\"3.2\"/>\n",
       "<circle clip-path=\"url(#clip972)\" cx=\"218.755\" cy=\"1071.56\" r=\"14.4\" fill=\"#009af9\" fill-rule=\"evenodd\" fill-opacity=\"1\" stroke=\"#000000\" stroke-opacity=\"1\" stroke-width=\"3.2\"/>\n",
       "<circle clip-path=\"url(#clip972)\" cx=\"224.547\" cy=\"1053.22\" r=\"14.4\" fill=\"#009af9\" fill-rule=\"evenodd\" fill-opacity=\"1\" stroke=\"#000000\" stroke-opacity=\"1\" stroke-width=\"3.2\"/>\n",
       "<circle clip-path=\"url(#clip972)\" cx=\"221.245\" cy=\"1410.45\" r=\"14.4\" fill=\"#009af9\" fill-rule=\"evenodd\" fill-opacity=\"1\" stroke=\"#000000\" stroke-opacity=\"1\" stroke-width=\"3.2\"/>\n",
       "<circle clip-path=\"url(#clip972)\" cx=\"669.963\" cy=\"1445.7\" r=\"14.4\" fill=\"#009af9\" fill-rule=\"evenodd\" fill-opacity=\"1\" stroke=\"#000000\" stroke-opacity=\"1\" stroke-width=\"3.2\"/>\n",
       "<circle clip-path=\"url(#clip972)\" cx=\"853.8\" cy=\"1389.35\" r=\"14.4\" fill=\"#009af9\" fill-rule=\"evenodd\" fill-opacity=\"1\" stroke=\"#000000\" stroke-opacity=\"1\" stroke-width=\"3.2\"/>\n",
       "<circle clip-path=\"url(#clip972)\" cx=\"223.763\" cy=\"1044.91\" r=\"14.4\" fill=\"#009af9\" fill-rule=\"evenodd\" fill-opacity=\"1\" stroke=\"#000000\" stroke-opacity=\"1\" stroke-width=\"3.2\"/>\n",
       "<circle clip-path=\"url(#clip972)\" cx=\"672.061\" cy=\"1445.71\" r=\"14.4\" fill=\"#009af9\" fill-rule=\"evenodd\" fill-opacity=\"1\" stroke=\"#000000\" stroke-opacity=\"1\" stroke-width=\"3.2\"/>\n",
       "<circle clip-path=\"url(#clip972)\" cx=\"1003.24\" cy=\"1116.23\" r=\"14.4\" fill=\"#009af9\" fill-rule=\"evenodd\" fill-opacity=\"1\" stroke=\"#000000\" stroke-opacity=\"1\" stroke-width=\"3.2\"/>\n",
       "<circle clip-path=\"url(#clip972)\" cx=\"218.799\" cy=\"1063.91\" r=\"14.4\" fill=\"#009af9\" fill-rule=\"evenodd\" fill-opacity=\"1\" stroke=\"#000000\" stroke-opacity=\"1\" stroke-width=\"3.2\"/>\n",
       "<circle clip-path=\"url(#clip972)\" cx=\"223.788\" cy=\"1044.1\" r=\"14.4\" fill=\"#009af9\" fill-rule=\"evenodd\" fill-opacity=\"1\" stroke=\"#000000\" stroke-opacity=\"1\" stroke-width=\"3.2\"/>\n",
       "<circle clip-path=\"url(#clip972)\" cx=\"221.171\" cy=\"1408.51\" r=\"14.4\" fill=\"#009af9\" fill-rule=\"evenodd\" fill-opacity=\"1\" stroke=\"#000000\" stroke-opacity=\"1\" stroke-width=\"3.2\"/>\n",
       "<circle clip-path=\"url(#clip972)\" cx=\"864.014\" cy=\"1392.43\" r=\"14.4\" fill=\"#009af9\" fill-rule=\"evenodd\" fill-opacity=\"1\" stroke=\"#000000\" stroke-opacity=\"1\" stroke-width=\"3.2\"/>\n",
       "<circle clip-path=\"url(#clip972)\" cx=\"670.266\" cy=\"1445.71\" r=\"14.4\" fill=\"#009af9\" fill-rule=\"evenodd\" fill-opacity=\"1\" stroke=\"#000000\" stroke-opacity=\"1\" stroke-width=\"3.2\"/>\n",
       "<circle clip-path=\"url(#clip972)\" cx=\"560.83\" cy=\"1288.62\" r=\"14.4\" fill=\"#009af9\" fill-rule=\"evenodd\" fill-opacity=\"1\" stroke=\"#000000\" stroke-opacity=\"1\" stroke-width=\"3.2\"/>\n",
       "<circle clip-path=\"url(#clip972)\" cx=\"678.758\" cy=\"1057.11\" r=\"14.4\" fill=\"#009af9\" fill-rule=\"evenodd\" fill-opacity=\"1\" stroke=\"#000000\" stroke-opacity=\"1\" stroke-width=\"3.2\"/>\n",
       "<circle clip-path=\"url(#clip972)\" cx=\"221.042\" cy=\"1407.88\" r=\"14.4\" fill=\"#009af9\" fill-rule=\"evenodd\" fill-opacity=\"1\" stroke=\"#000000\" stroke-opacity=\"1\" stroke-width=\"3.2\"/>\n",
       "<circle clip-path=\"url(#clip972)\" cx=\"223.818\" cy=\"1043.58\" r=\"14.4\" fill=\"#009af9\" fill-rule=\"evenodd\" fill-opacity=\"1\" stroke=\"#000000\" stroke-opacity=\"1\" stroke-width=\"3.2\"/>\n",
       "<circle clip-path=\"url(#clip972)\" cx=\"218.754\" cy=\"1058.36\" r=\"14.4\" fill=\"#009af9\" fill-rule=\"evenodd\" fill-opacity=\"1\" stroke=\"#000000\" stroke-opacity=\"1\" stroke-width=\"3.2\"/>\n",
       "<circle clip-path=\"url(#clip972)\" cx=\"669.573\" cy=\"1445.71\" r=\"14.4\" fill=\"#009af9\" fill-rule=\"evenodd\" fill-opacity=\"1\" stroke=\"#000000\" stroke-opacity=\"1\" stroke-width=\"3.2\"/>\n",
       "<circle clip-path=\"url(#clip972)\" cx=\"868.915\" cy=\"1390.9\" r=\"14.4\" fill=\"#009af9\" fill-rule=\"evenodd\" fill-opacity=\"1\" stroke=\"#000000\" stroke-opacity=\"1\" stroke-width=\"3.2\"/>\n",
       "<circle clip-path=\"url(#clip972)\" cx=\"218.764\" cy=\"1056.35\" r=\"14.4\" fill=\"#009af9\" fill-rule=\"evenodd\" fill-opacity=\"1\" stroke=\"#000000\" stroke-opacity=\"1\" stroke-width=\"3.2\"/>\n",
       "<circle clip-path=\"url(#clip972)\" cx=\"558.323\" cy=\"1287.53\" r=\"14.4\" fill=\"#009af9\" fill-rule=\"evenodd\" fill-opacity=\"1\" stroke=\"#000000\" stroke-opacity=\"1\" stroke-width=\"3.2\"/>\n",
       "<circle clip-path=\"url(#clip972)\" cx=\"668.984\" cy=\"1445.71\" r=\"14.4\" fill=\"#009af9\" fill-rule=\"evenodd\" fill-opacity=\"1\" stroke=\"#000000\" stroke-opacity=\"1\" stroke-width=\"3.2\"/>\n",
       "<circle clip-path=\"url(#clip972)\" cx=\"670.977\" cy=\"1095.86\" r=\"14.4\" fill=\"#009af9\" fill-rule=\"evenodd\" fill-opacity=\"1\" stroke=\"#000000\" stroke-opacity=\"1\" stroke-width=\"3.2\"/>\n",
       "<circle clip-path=\"url(#clip972)\" cx=\"223.672\" cy=\"1044.83\" r=\"14.4\" fill=\"#009af9\" fill-rule=\"evenodd\" fill-opacity=\"1\" stroke=\"#000000\" stroke-opacity=\"1\" stroke-width=\"3.2\"/>\n",
       "<circle clip-path=\"url(#clip972)\" cx=\"691.153\" cy=\"1060.7\" r=\"14.4\" fill=\"#009af9\" fill-rule=\"evenodd\" fill-opacity=\"1\" stroke=\"#000000\" stroke-opacity=\"1\" stroke-width=\"3.2\"/>\n",
       "<circle clip-path=\"url(#clip972)\" cx=\"824.177\" cy=\"1409.59\" r=\"14.4\" fill=\"#009af9\" fill-rule=\"evenodd\" fill-opacity=\"1\" stroke=\"#000000\" stroke-opacity=\"1\" stroke-width=\"3.2\"/>\n",
       "<circle clip-path=\"url(#clip972)\" cx=\"223.656\" cy=\"1045.34\" r=\"14.4\" fill=\"#009af9\" fill-rule=\"evenodd\" fill-opacity=\"1\" stroke=\"#000000\" stroke-opacity=\"1\" stroke-width=\"3.2\"/>\n",
       "<circle clip-path=\"url(#clip972)\" cx=\"584.874\" cy=\"979.962\" r=\"14.4\" fill=\"#009af9\" fill-rule=\"evenodd\" fill-opacity=\"1\" stroke=\"#000000\" stroke-opacity=\"1\" stroke-width=\"3.2\"/>\n",
       "<circle clip-path=\"url(#clip972)\" cx=\"223.668\" cy=\"1044.62\" r=\"14.4\" fill=\"#009af9\" fill-rule=\"evenodd\" fill-opacity=\"1\" stroke=\"#000000\" stroke-opacity=\"1\" stroke-width=\"3.2\"/>\n",
       "<circle clip-path=\"url(#clip972)\" cx=\"851.231\" cy=\"1388.43\" r=\"14.4\" fill=\"#009af9\" fill-rule=\"evenodd\" fill-opacity=\"1\" stroke=\"#000000\" stroke-opacity=\"1\" stroke-width=\"3.2\"/>\n",
       "<circle clip-path=\"url(#clip972)\" cx=\"848.862\" cy=\"1387.84\" r=\"14.4\" fill=\"#009af9\" fill-rule=\"evenodd\" fill-opacity=\"1\" stroke=\"#000000\" stroke-opacity=\"1\" stroke-width=\"3.2\"/>\n",
       "<circle clip-path=\"url(#clip972)\" cx=\"637.178\" cy=\"1037.38\" r=\"14.4\" fill=\"#009af9\" fill-rule=\"evenodd\" fill-opacity=\"1\" stroke=\"#000000\" stroke-opacity=\"1\" stroke-width=\"3.2\"/>\n",
       "<circle clip-path=\"url(#clip972)\" cx=\"224.632\" cy=\"1016.77\" r=\"14.4\" fill=\"#009af9\" fill-rule=\"evenodd\" fill-opacity=\"1\" stroke=\"#000000\" stroke-opacity=\"1\" stroke-width=\"3.2\"/>\n",
       "<circle clip-path=\"url(#clip972)\" cx=\"1177.71\" cy=\"1406.45\" r=\"14.4\" fill=\"#009af9\" fill-rule=\"evenodd\" fill-opacity=\"1\" stroke=\"#000000\" stroke-opacity=\"1\" stroke-width=\"3.2\"/>\n",
       "<circle clip-path=\"url(#clip972)\" cx=\"238.392\" cy=\"1220.48\" r=\"14.4\" fill=\"#009af9\" fill-rule=\"evenodd\" fill-opacity=\"1\" stroke=\"#000000\" stroke-opacity=\"1\" stroke-width=\"3.2\"/>\n",
       "<circle clip-path=\"url(#clip972)\" cx=\"236.23\" cy=\"951.661\" r=\"14.4\" fill=\"#009af9\" fill-rule=\"evenodd\" fill-opacity=\"1\" stroke=\"#000000\" stroke-opacity=\"1\" stroke-width=\"3.2\"/>\n",
       "<circle clip-path=\"url(#clip972)\" cx=\"224.854\" cy=\"1018.98\" r=\"14.4\" fill=\"#009af9\" fill-rule=\"evenodd\" fill-opacity=\"1\" stroke=\"#000000\" stroke-opacity=\"1\" stroke-width=\"3.2\"/>\n",
       "<circle clip-path=\"url(#clip972)\" cx=\"854.15\" cy=\"1388.1\" r=\"14.4\" fill=\"#009af9\" fill-rule=\"evenodd\" fill-opacity=\"1\" stroke=\"#000000\" stroke-opacity=\"1\" stroke-width=\"3.2\"/>\n",
       "<polyline clip-path=\"url(#clip972)\" style=\"stroke:#e26f46; stroke-linecap:round; stroke-linejoin:round; stroke-width:4; stroke-opacity:1; fill:none\" points=\"\n",
       "  218.754,1445.72 232.242,1436.88 356.966,1355.14 431.92,1306.02 495.293,1264.49 564.133,1219.38 627.598,1177.79 695.639,1133.2 774.471,1081.54 844.528,1035.63 \n",
       "  905.961,995.37 972.94,951.476 1040.32,907.322 1114.81,858.505 1185.69,812.056 1259.39,763.759 1321.42,723.104 1397.17,673.469 1466.55,628 1530.63,586.006 \n",
       "  1595.54,543.467 1668.29,495.793 1734.21,452.593 1809.69,403.131 1879.57,357.334 1948.47,312.184 2015.36,268.347 2083.94,223.408 2159.07,174.172 2268.21,102.649 \n",
       "  2290.6,87.9763 \n",
       "  \"/>\n",
       "<path clip-path=\"url(#clip970)\" d=\"\n",
       "M229.803 250.738 L501.85 250.738 L501.85 95.2176 L229.803 95.2176  Z\n",
       "  \" fill=\"#ffffff\" fill-rule=\"evenodd\" fill-opacity=\"1\"/>\n",
       "<polyline clip-path=\"url(#clip970)\" style=\"stroke:#000000; stroke-linecap:round; stroke-linejoin:round; stroke-width:4; stroke-opacity:1; fill:none\" points=\"\n",
       "  229.803,250.738 501.85,250.738 501.85,95.2176 229.803,95.2176 229.803,250.738 \n",
       "  \"/>\n",
       "<circle clip-path=\"url(#clip970)\" cx=\"327.41\" cy=\"147.058\" r=\"23.04\" fill=\"#009af9\" fill-rule=\"evenodd\" fill-opacity=\"1\" stroke=\"#000000\" stroke-opacity=\"1\" stroke-width=\"5.12\"/>\n",
       "<path clip-path=\"url(#clip970)\" d=\"M438.86 166.745 Q437.054 171.375 435.342 172.787 Q433.629 174.199 430.758 174.199 L427.355 174.199 L427.355 170.634 L429.855 170.634 Q431.615 170.634 432.587 169.8 Q433.559 168.967 434.74 165.865 L435.504 163.921 L425.018 138.412 L429.531 138.412 L437.633 158.689 L445.735 138.412 L450.249 138.412 L438.86 166.745 Z\" fill=\"#000000\" fill-rule=\"evenodd\" fill-opacity=\"1\" /><path clip-path=\"url(#clip970)\" d=\"M457.54 160.402 L465.179 160.402 L465.179 134.037 L456.869 135.703 L456.869 131.444 L465.133 129.778 L469.809 129.778 L469.809 160.402 L477.448 160.402 L477.448 164.338 L457.54 164.338 L457.54 160.402 Z\" fill=\"#000000\" fill-rule=\"evenodd\" fill-opacity=\"1\" /><polyline clip-path=\"url(#clip970)\" style=\"stroke:#e26f46; stroke-linecap:round; stroke-linejoin:round; stroke-width:4; stroke-opacity:1; fill:none\" points=\"\n",
       "  254.205,198.898 400.616,198.898 \n",
       "  \"/>\n",
       "<path clip-path=\"url(#clip970)\" d=\"M438.86 218.585 Q437.054 223.215 435.342 224.627 Q433.629 226.039 430.758 226.039 L427.355 226.039 L427.355 222.474 L429.855 222.474 Q431.615 222.474 432.587 221.64 Q433.559 220.807 434.74 217.705 L435.504 215.761 L425.018 190.252 L429.531 190.252 L437.633 210.529 L445.735 190.252 L450.249 190.252 L438.86 218.585 Z\" fill=\"#000000\" fill-rule=\"evenodd\" fill-opacity=\"1\" /><path clip-path=\"url(#clip970)\" d=\"M460.758 212.242 L477.077 212.242 L477.077 216.178 L455.133 216.178 L455.133 212.242 Q457.795 209.488 462.378 204.858 Q466.985 200.205 468.165 198.863 Q470.411 196.34 471.29 194.604 Q472.193 192.844 472.193 191.155 Q472.193 188.4 470.249 186.664 Q468.327 184.928 465.226 184.928 Q463.027 184.928 460.573 185.692 Q458.142 186.455 455.365 188.006 L455.365 183.284 Q458.189 182.15 460.642 181.571 Q463.096 180.993 465.133 180.993 Q470.503 180.993 473.698 183.678 Q476.892 186.363 476.892 190.854 Q476.892 192.983 476.082 194.905 Q475.295 196.803 473.189 199.395 Q472.61 200.067 469.508 203.284 Q466.406 206.479 460.758 212.242 Z\" fill=\"#000000\" fill-rule=\"evenodd\" fill-opacity=\"1\" /></svg>\n"
      ]
     },
     "execution_count": 146,
     "metadata": {},
     "output_type": "execute_result"
    }
   ],
   "source": [
    "scatter(test_trait1.lod[1:100], gemma_lods[1:100])\n",
    "plot!(x -> x)"
   ]
  },
  {
   "cell_type": "code",
   "execution_count": null,
   "id": "c3f636a7-6ebf-4b52-8135-405737f0d326",
   "metadata": {},
   "outputs": [
    {
     "data": {
      "text/plain": [
       "meanAbsDiff (generic function with 1 method)"
      ]
     },
     "execution_count": 93,
     "metadata": {},
     "output_type": "execute_result"
    }
   ],
   "source": [
    "function meanAbsDiff(x, y)\n",
    "    \n",
    "    return mean(abs.(x .- y))\n",
    "    \n",
    "end"
   ]
  },
  {
   "cell_type": "code",
   "execution_count": 114,
   "id": "428172cd-042f-4859-b796-4d7bda2f6206",
   "metadata": {},
   "outputs": [
    {
     "data": {
      "text/plain": [
       "removeInfValues! (generic function with 2 methods)"
      ]
     },
     "execution_count": 114,
     "metadata": {},
     "output_type": "execute_result"
    }
   ],
   "source": [
    "function removeInfValues!(x, y)\n",
    "    \n",
    "    toRemove = findall(isinf.(x));\n",
    "    \n",
    "    for inf_val in toRemove\n",
    "        \n",
    "        x[inf_val[1], inf_val[2]] = 0.0;\n",
    "        y[inf_val[1], inf_val[2]] = 0.0;\n",
    "        \n",
    "    end\n",
    "    \n",
    "end"
   ]
  },
  {
   "cell_type": "code",
   "execution_count": 115,
   "id": "97e78a5e-dea5-41cc-8a38-00a97e03e080",
   "metadata": {},
   "outputs": [],
   "source": [
    "removeInfValues!(gemma_lods, test_trait1.lod)"
   ]
  },
  {
   "cell_type": "code",
   "execution_count": 116,
   "id": "a1b73ab8-557a-4ec4-8bcf-6a5feda49365",
   "metadata": {},
   "outputs": [
    {
     "data": {
      "text/plain": [
       "0.2825154293449414"
      ]
     },
     "execution_count": 116,
     "metadata": {},
     "output_type": "execute_result"
    }
   ],
   "source": [
    "meanAbsDiff(gemma_lods, test_trait1.lod)"
   ]
  },
  {
   "cell_type": "markdown",
   "id": "d7db88e9-28e5-406e-a81c-714274fd965f",
   "metadata": {},
   "source": [
    "- Identical genotype probabilities at some markers for all samples;"
   ]
  },
  {
   "cell_type": "code",
   "execution_count": null,
   "id": "78bf6d0c-e3ee-4d61-ae7b-33efc539a4f3",
   "metadata": {},
   "outputs": [],
   "source": []
  }
 ],
 "metadata": {
  "kernelspec": {
   "display_name": "Julia 16 Threads 1.7.3",
   "language": "julia",
   "name": "julia-16-threads-1.7"
  },
  "language_info": {
   "file_extension": ".jl",
   "mimetype": "application/julia",
   "name": "julia",
   "version": "1.7.3"
  }
 },
 "nbformat": 4,
 "nbformat_minor": 5
}
