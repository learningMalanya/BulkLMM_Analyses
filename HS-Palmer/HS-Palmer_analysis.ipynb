{
 "cells": [
  {
   "cell_type": "markdown",
   "id": "51c2201e-03ce-402f-b050-dcfabf1e53bf",
   "metadata": {},
   "source": [
    "## HS-Palmer omics traits analysis："
   ]
  },
  {
   "cell_type": "markdown",
   "id": "4a0da862-2c5c-48a4-ab15-dab1b01134b3",
   "metadata": {},
   "source": [
    "This notebook explains the process for obtaining and pre-processing omics mean genotype data of HS Rats used for downstream association studies."
   ]
  },
  {
   "cell_type": "code",
   "execution_count": 342,
   "id": "9587b035-4f5b-401a-9be2-58f5db20fbc4",
   "metadata": {},
   "outputs": [],
   "source": [
    "using CSV, DelimitedFiles, DataFrames, Missings, XLSX\n",
    "using LinearAlgebra, Statistics, Optim, StatsBase\n",
    "using Random, Distributions\n",
    "using BenchmarkTools\n",
    "using Plots"
   ]
  },
  {
   "cell_type": "code",
   "execution_count": 343,
   "id": "c1d83064-7cd9-4d4d-98cf-8983e6e24e43",
   "metadata": {},
   "outputs": [
    {
     "data": {
      "text/plain": [
       "\"/home/zyu20/git/BulkLMM_Analyses/HS-Palmer\""
      ]
     },
     "execution_count": 343,
     "metadata": {},
     "output_type": "execute_result"
    }
   ],
   "source": [
    "pwd()"
   ]
  },
  {
   "cell_type": "code",
   "execution_count": 3,
   "id": "b80482f2-c715-4010-b4de-fbf11a268885",
   "metadata": {},
   "outputs": [],
   "source": [
    "local_path = \"../../BulkLMM.jl/src\";"
   ]
  },
  {
   "cell_type": "code",
   "execution_count": 4,
   "id": "cb55560e-f0ab-475a-9d6b-51d9f5c56c68",
   "metadata": {},
   "outputs": [],
   "source": [
    "include(joinpath(local_path, \"kinship.jl\"));\n",
    "include(joinpath(local_path, \"util.jl\"));\n",
    "include(joinpath(local_path, \"wls.jl\"));\n",
    "include(joinpath(local_path, \"lmm.jl\"));\n",
    "include(joinpath(local_path, \"gridbrent.jl\"));\n",
    "include(joinpath(local_path, \"transform_helpers.jl\"));\n",
    "include(joinpath(local_path, \"scan.jl\"));\n",
    "include(joinpath(local_path, \"bulkscan_helpers.jl\"));\n",
    "include(joinpath(local_path, \"bulkscan.jl\"));\n",
    "include(joinpath(local_path, \"readData.jl\"));\n",
    "include(joinpath(local_path, \"../plot_utils/visuals_utils.jl\"));\n",
    "include(joinpath(local_path, \"analysis_helpers/single_trait_analysis.jl\"));\n",
    "include(\"../../BigRiver_util_code/src/kinship_utils.jl\");\n",
    "include(\"../../BigRiver_util_code/src/run_gemma_utils.jl\");"
   ]
  },
  {
   "cell_type": "markdown",
   "id": "fb693d6a-76a0-4c29-a57a-e67b06579aa9",
   "metadata": {},
   "source": [
    "### Load omics traits and convert to array:"
   ]
  },
  {
   "cell_type": "code",
   "execution_count": 178,
   "id": "1227f4b7-61a3-4ea3-b67e-412acfbf5e2a",
   "metadata": {},
   "outputs": [
    {
     "name": "stdout",
     "output_type": "stream",
     "text": [
      "  1.195464 seconds (1.11 M allocations: 84.568 MiB, 2.10% gc time)\n"
     ]
    }
   ],
   "source": [
    "@time omics_pheno_df = CSV.read(\"/home/zyu20/shareddata/HSNIH-Palmer/HSNIH-Rat-PL-RSeq-0818_nomissing.csv\", DataFrame);"
   ]
  },
  {
   "cell_type": "markdown",
   "id": "527315b4-e2e0-46e2-aac8-b2aaf9c499a4",
   "metadata": {},
   "source": [
    "After removing missings the traits data have 32624 traits on 80 samples:"
   ]
  },
  {
   "cell_type": "code",
   "execution_count": 344,
   "id": "6a70f59a-6242-4444-8566-f736274bd99e",
   "metadata": {},
   "outputs": [
    {
     "data": {
      "text/plain": [
       "(80, 32624)"
      ]
     },
     "execution_count": 344,
     "metadata": {},
     "output_type": "execute_result"
    }
   ],
   "source": [
    "size(omics_pheno_df)"
   ]
  },
  {
   "cell_type": "code",
   "execution_count": 192,
   "id": "89bb8c6c-00fb-40f1-b505-626dd0f29b18",
   "metadata": {},
   "outputs": [
    {
     "data": {
      "text/html": [
       "<div><div style = \"float: left;\"><span>10×10 DataFrame</span></div><div style = \"clear: both;\"></div></div><div class = \"data-frame\" style = \"overflow-x: scroll;\"><table class = \"data-frame\" style = \"margin-bottom: 6px;\"><thead><tr class = \"header\"><th class = \"rowNumber\" style = \"font-weight: bold; text-align: right;\">Row</th><th style = \"text-align: left;\">id</th><th style = \"text-align: left;\">ENSRNOG00000000001</th><th style = \"text-align: left;\">ENSRNOG00000000007</th><th style = \"text-align: left;\">ENSRNOG00000000008</th><th style = \"text-align: left;\">ENSRNOG00000000009</th><th style = \"text-align: left;\">ENSRNOG00000000010</th><th style = \"text-align: left;\">ENSRNOG00000000012</th><th style = \"text-align: left;\">ENSRNOG00000000017</th><th style = \"text-align: left;\">ENSRNOG00000000021</th><th style = \"text-align: left;\">ENSRNOG00000000024</th></tr><tr class = \"subheader headerLastRow\"><th class = \"rowNumber\" style = \"font-weight: bold; text-align: right;\"></th><th title = \"String15\" style = \"text-align: left;\">String15</th><th title = \"Float64\" style = \"text-align: left;\">Float64</th><th title = \"Float64\" style = \"text-align: left;\">Float64</th><th title = \"Float64\" style = \"text-align: left;\">Float64</th><th title = \"Float64\" style = \"text-align: left;\">Float64</th><th title = \"Float64\" style = \"text-align: left;\">Float64</th><th title = \"Float64\" style = \"text-align: left;\">Float64</th><th title = \"Float64\" style = \"text-align: left;\">Float64</th><th title = \"Float64\" style = \"text-align: left;\">Float64</th><th title = \"Float64\" style = \"text-align: left;\">Float64</th></tr></thead><tbody><tr><td class = \"rowNumber\" style = \"font-weight: bold; text-align: right;\">1</td><td style = \"text-align: left;\">00077E67B5</td><td style = \"text-align: right;\">3.6379</td><td style = \"text-align: right;\">11.9384</td><td style = \"text-align: right;\">1.5656</td><td style = \"text-align: right;\">0.142</td><td style = \"text-align: right;\">8.1366</td><td style = \"text-align: right;\">4.2163</td><td style = \"text-align: right;\">2.9092</td><td style = \"text-align: right;\">7.6822</td><td style = \"text-align: right;\">9.5078</td></tr><tr><td class = \"rowNumber\" style = \"font-weight: bold; text-align: right;\">2</td><td style = \"text-align: left;\">00077E76FE</td><td style = \"text-align: right;\">3.7742</td><td style = \"text-align: right;\">11.9253</td><td style = \"text-align: right;\">1.5245</td><td style = \"text-align: right;\">-0.068</td><td style = \"text-align: right;\">8.2848</td><td style = \"text-align: right;\">4.663</td><td style = \"text-align: right;\">2.8339</td><td style = \"text-align: right;\">7.8128</td><td style = \"text-align: right;\">9.5016</td></tr><tr><td class = \"rowNumber\" style = \"font-weight: bold; text-align: right;\">3</td><td style = \"text-align: left;\">00077E8336</td><td style = \"text-align: right;\">3.554</td><td style = \"text-align: right;\">12.2001</td><td style = \"text-align: right;\">1.3987</td><td style = \"text-align: right;\">-0.0679</td><td style = \"text-align: right;\">8.1853</td><td style = \"text-align: right;\">4.5741</td><td style = \"text-align: right;\">2.5846</td><td style = \"text-align: right;\">7.705</td><td style = \"text-align: right;\">9.4759</td></tr><tr><td class = \"rowNumber\" style = \"font-weight: bold; text-align: right;\">4</td><td style = \"text-align: left;\">00077EA7E6</td><td style = \"text-align: right;\">3.3301</td><td style = \"text-align: right;\">11.9553</td><td style = \"text-align: right;\">1.6367</td><td style = \"text-align: right;\">-0.0218</td><td style = \"text-align: right;\">8.066</td><td style = \"text-align: right;\">4.4902</td><td style = \"text-align: right;\">2.5845</td><td style = \"text-align: right;\">7.6575</td><td style = \"text-align: right;\">9.3513</td></tr><tr><td class = \"rowNumber\" style = \"font-weight: bold; text-align: right;\">5</td><td style = \"text-align: left;\">00078A0224</td><td style = \"text-align: right;\">3.5547</td><td style = \"text-align: right;\">12.0272</td><td style = \"text-align: right;\">1.5649</td><td style = \"text-align: right;\">-0.0217</td><td style = \"text-align: right;\">8.3169</td><td style = \"text-align: right;\">4.5341</td><td style = \"text-align: right;\">2.6773</td><td style = \"text-align: right;\">7.8402</td><td style = \"text-align: right;\">9.3225</td></tr><tr><td class = \"rowNumber\" style = \"font-weight: bold; text-align: right;\">6</td><td style = \"text-align: left;\">00078A02CB</td><td style = \"text-align: right;\">3.8215</td><td style = \"text-align: right;\">12.0395</td><td style = \"text-align: right;\">1.3515</td><td style = \"text-align: right;\">-0.0679</td><td style = \"text-align: right;\">8.3208</td><td style = \"text-align: right;\">4.5923</td><td style = \"text-align: right;\">2.6765</td><td style = \"text-align: right;\">7.6363</td><td style = \"text-align: right;\">9.4791</td></tr><tr><td class = \"rowNumber\" style = \"font-weight: bold; text-align: right;\">7</td><td style = \"text-align: left;\">00078A0A43</td><td style = \"text-align: right;\">3.6407</td><td style = \"text-align: right;\">12.0575</td><td style = \"text-align: right;\">1.4871</td><td style = \"text-align: right;\">-0.0678</td><td style = \"text-align: right;\">8.2847</td><td style = \"text-align: right;\">4.6763</td><td style = \"text-align: right;\">2.7223</td><td style = \"text-align: right;\">7.7997</td><td style = \"text-align: right;\">9.4048</td></tr><tr><td class = \"rowNumber\" style = \"font-weight: bold; text-align: right;\">8</td><td style = \"text-align: left;\">00078A18A7</td><td style = \"text-align: right;\">3.6343</td><td style = \"text-align: right;\">12.0777</td><td style = \"text-align: right;\">1.4854</td><td style = \"text-align: right;\">-0.0679</td><td style = \"text-align: right;\">8.0468</td><td style = \"text-align: right;\">4.7543</td><td style = \"text-align: right;\">2.7599</td><td style = \"text-align: right;\">7.8119</td><td style = \"text-align: right;\">9.3522</td></tr><tr><td class = \"rowNumber\" style = \"font-weight: bold; text-align: right;\">9</td><td style = \"text-align: left;\">00078A193E</td><td style = \"text-align: right;\">3.6807</td><td style = \"text-align: right;\">12.1188</td><td style = \"text-align: right;\">1.5244</td><td style = \"text-align: right;\">-0.068</td><td style = \"text-align: right;\">8.1551</td><td style = \"text-align: right;\">4.8433</td><td style = \"text-align: right;\">2.7173</td><td style = \"text-align: right;\">7.9472</td><td style = \"text-align: right;\">9.2675</td></tr><tr><td class = \"rowNumber\" style = \"font-weight: bold; text-align: right;\">10</td><td style = \"text-align: left;\">00078A19A7</td><td style = \"text-align: right;\">3.8224</td><td style = \"text-align: right;\">12.0631</td><td style = \"text-align: right;\">1.3515</td><td style = \"text-align: right;\">-0.0679</td><td style = \"text-align: right;\">8.4357</td><td style = \"text-align: right;\">4.5116</td><td style = \"text-align: right;\">2.5344</td><td style = \"text-align: right;\">7.7446</td><td style = \"text-align: right;\">9.3388</td></tr></tbody></table></div>"
      ],
      "text/latex": [
       "\\begin{tabular}{r|cccccc}\n",
       "\t& id & ENSRNOG00000000001 & ENSRNOG00000000007 & ENSRNOG00000000008 & ENSRNOG00000000009 & \\\\\n",
       "\t\\hline\n",
       "\t& String15 & Float64 & Float64 & Float64 & Float64 & \\\\\n",
       "\t\\hline\n",
       "\t1 & 00077E67B5 & 3.6379 & 11.9384 & 1.5656 & 0.142 & $\\dots$ \\\\\n",
       "\t2 & 00077E76FE & 3.7742 & 11.9253 & 1.5245 & -0.068 & $\\dots$ \\\\\n",
       "\t3 & 00077E8336 & 3.554 & 12.2001 & 1.3987 & -0.0679 & $\\dots$ \\\\\n",
       "\t4 & 00077EA7E6 & 3.3301 & 11.9553 & 1.6367 & -0.0218 & $\\dots$ \\\\\n",
       "\t5 & 00078A0224 & 3.5547 & 12.0272 & 1.5649 & -0.0217 & $\\dots$ \\\\\n",
       "\t6 & 00078A02CB & 3.8215 & 12.0395 & 1.3515 & -0.0679 & $\\dots$ \\\\\n",
       "\t7 & 00078A0A43 & 3.6407 & 12.0575 & 1.4871 & -0.0678 & $\\dots$ \\\\\n",
       "\t8 & 00078A18A7 & 3.6343 & 12.0777 & 1.4854 & -0.0679 & $\\dots$ \\\\\n",
       "\t9 & 00078A193E & 3.6807 & 12.1188 & 1.5244 & -0.068 & $\\dots$ \\\\\n",
       "\t10 & 00078A19A7 & 3.8224 & 12.0631 & 1.3515 & -0.0679 & $\\dots$ \\\\\n",
       "\\end{tabular}\n"
      ],
      "text/plain": [
       "\u001b[1m10×10 DataFrame\u001b[0m\n",
       "\u001b[1m Row \u001b[0m│\u001b[1m id         \u001b[0m\u001b[1m ENSRNOG00000000001 \u001b[0m\u001b[1m ENSRNOG00000000007 \u001b[0m\u001b[1m ENSRNOG00000000008 \u001b[0m\u001b[1m\u001b[0m ⋯\n",
       "     │\u001b[90m String15   \u001b[0m\u001b[90m Float64            \u001b[0m\u001b[90m Float64            \u001b[0m\u001b[90m Float64            \u001b[0m\u001b[90m\u001b[0m ⋯\n",
       "─────┼──────────────────────────────────────────────────────────────────────────\n",
       "   1 │ 00077E67B5              3.6379             11.9384              1.5656  ⋯\n",
       "   2 │ 00077E76FE              3.7742             11.9253              1.5245\n",
       "   3 │ 00077E8336              3.554              12.2001              1.3987\n",
       "   4 │ 00077EA7E6              3.3301             11.9553              1.6367\n",
       "   5 │ 00078A0224              3.5547             12.0272              1.5649  ⋯\n",
       "   6 │ 00078A02CB              3.8215             12.0395              1.3515\n",
       "   7 │ 00078A0A43              3.6407             12.0575              1.4871\n",
       "   8 │ 00078A18A7              3.6343             12.0777              1.4854\n",
       "   9 │ 00078A193E              3.6807             12.1188              1.5244  ⋯\n",
       "  10 │ 00078A19A7              3.8224             12.0631              1.3515\n",
       "\u001b[36m                                                               6 columns omitted\u001b[0m"
      ]
     },
     "execution_count": 192,
     "metadata": {},
     "output_type": "execute_result"
    }
   ],
   "source": [
    "omics_pheno_df[1:10, 1:10]"
   ]
  },
  {
   "cell_type": "markdown",
   "id": "4ba19b60-3839-4f5d-b71c-43a3a1f5d211",
   "metadata": {},
   "source": [
    "Column names are the names of the omics:"
   ]
  },
  {
   "cell_type": "code",
   "execution_count": 7,
   "id": "f1e84911-af98-404e-83ad-41a35dbd0225",
   "metadata": {},
   "outputs": [
    {
     "data": {
      "text/plain": [
       "6-element Vector{String}:\n",
       " \"id\"\n",
       " \"ENSRNOG00000000001\"\n",
       " \"ENSRNOG00000000007\"\n",
       " \"ENSRNOG00000000008\"\n",
       " \"ENSRNOG00000000009\"\n",
       " \"ENSRNOG00000000010\""
      ]
     },
     "execution_count": 7,
     "metadata": {},
     "output_type": "execute_result"
    }
   ],
   "source": [
    "names(omics_pheno_df)[1:6]"
   ]
  },
  {
   "cell_type": "markdown",
   "id": "f8b81aff-0802-4e8a-9eac-57f2836130e4",
   "metadata": {},
   "source": [
    "Row names are the ID's of the samples. Obtaining sample id's for the samples of the omics traits..."
   ]
  },
  {
   "cell_type": "code",
   "execution_count": 8,
   "id": "93187a31-c8bf-43e8-bb4c-7dadf3b3adf9",
   "metadata": {},
   "outputs": [],
   "source": [
    "sample_ids = omics_pheno_df[:, 1];"
   ]
  },
  {
   "cell_type": "markdown",
   "id": "66e35a2a-c5aa-4d48-827f-41704df43617",
   "metadata": {},
   "source": [
    "Get the numeric array of the traits data..."
   ]
  },
  {
   "cell_type": "code",
   "execution_count": 9,
   "id": "cc54bd1e-6b62-4a17-b3a2-856855f243bc",
   "metadata": {},
   "outputs": [
    {
     "data": {
      "text/plain": [
       "6×32623 Matrix{Float64}:\n",
       " 3.6379  11.9384  1.5656   0.142   …  0.0  0.0  0.0  0.0  0.0  0.0  0.0\n",
       " 3.7742  11.9253  1.5245  -0.068      0.0  0.0  0.0  0.0  0.0  0.0  0.0\n",
       " 3.554   12.2001  1.3987  -0.0679     0.0  0.0  0.0  0.0  0.0  0.0  0.0\n",
       " 3.3301  11.9553  1.6367  -0.0218     0.0  0.0  0.0  0.0  0.0  0.0  0.0\n",
       " 3.5547  12.0272  1.5649  -0.0217     0.0  0.0  0.0  0.0  0.0  0.0  0.0\n",
       " 3.8215  12.0395  1.3515  -0.0679  …  0.0  0.0  0.0  0.0  0.0  0.0  0.0"
      ]
     },
     "execution_count": 9,
     "metadata": {},
     "output_type": "execute_result"
    }
   ],
   "source": [
    "omics_pheno = omics_pheno_df[:, 2:end] |> Matrix{Float64};\n",
    "omics_pheno[1:6, :]"
   ]
  },
  {
   "cell_type": "markdown",
   "id": "04a2e8f3-87f3-4a86-9667-f03606c8d75c",
   "metadata": {},
   "source": [
    "Notice that there are some traits with all 0.0 values. Remove missings or columns of all 0's..."
   ]
  },
  {
   "cell_type": "code",
   "execution_count": 229,
   "id": "8b0578cb-b1b3-440b-935a-3f22f433d8c5",
   "metadata": {},
   "outputs": [],
   "source": [
    "no_value_traits = vec(sum(abs.(omics_pheno), dims = 1) .== 0.0);"
   ]
  },
  {
   "cell_type": "code",
   "execution_count": 230,
   "id": "43970297-7bc5-4edc-b60c-3fc6643a5016",
   "metadata": {},
   "outputs": [],
   "source": [
    "omics_pheno_processed = omics_pheno[:, map(x -> x .== 0.0, no_value_traits)];"
   ]
  },
  {
   "cell_type": "code",
   "execution_count": 231,
   "id": "3c2056b7-9b3e-493e-885c-15a9e5079af3",
   "metadata": {},
   "outputs": [
    {
     "data": {
      "text/plain": [
       "(80, 18416)"
      ]
     },
     "execution_count": 231,
     "metadata": {},
     "output_type": "execute_result"
    }
   ],
   "source": [
    "size(omics_pheno_processed)"
   ]
  },
  {
   "cell_type": "markdown",
   "id": "ca60cbfe-9ecd-4079-b631-aa3786cf4316",
   "metadata": {},
   "source": [
    "The processed traits data after removing potentially missing values have 18416 traits."
   ]
  },
  {
   "cell_type": "markdown",
   "id": "969a0e73-5d18-4f18-9884-217070b25812",
   "metadata": {
    "tags": []
   },
   "source": [
    "### Load omics genotype data and convert to array:"
   ]
  },
  {
   "cell_type": "markdown",
   "id": "1c6541f9-7132-4af3-b3a2-03f3bd9ebf73",
   "metadata": {},
   "source": [
    "The genotyped data has been through the pre-processing of filtering out observations for samples that are not phenotyped, and removing missing values...the processes are detailed in the notebook `process_omics_geno.ipynb`."
   ]
  },
  {
   "cell_type": "code",
   "execution_count": 198,
   "id": "a19fa44d-e508-4558-aa40-c1189c8f02a6",
   "metadata": {},
   "outputs": [
    {
     "name": "stdout",
     "output_type": "stream",
     "text": [
      "  0.134497 seconds (1.36 M allocations: 117.995 MiB)\n"
     ]
    }
   ],
   "source": [
    "@time omics_geno_df = CSV.read(\"/home/zyu20/shareddata/HSNIH-Palmer/HSNIH-Palmer_true_omics_geno_nomissing.csv\", DataFrame);"
   ]
  },
  {
   "cell_type": "code",
   "execution_count": 199,
   "id": "db4eb668-c422-4adf-a83a-48b1c89ddc27",
   "metadata": {},
   "outputs": [
    {
     "data": {
      "text/html": [
       "<div><div style = \"float: left;\"><span>134681×84 DataFrame</span></div><div style = \"float: right;\"><span style = \"font-style: italic;\">134656 rows omitted</span></div><div style = \"clear: both;\"></div></div><div class = \"data-frame\" style = \"overflow-x: scroll;\"><table class = \"data-frame\" style = \"margin-bottom: 6px;\"><thead><tr class = \"header\"><th class = \"rowNumber\" style = \"font-weight: bold; text-align: right;\">Row</th><th style = \"text-align: left;\">Chr</th><th style = \"text-align: left;\">Locus</th><th style = \"text-align: left;\">cM</th><th style = \"text-align: left;\">Mb</th><th style = \"text-align: left;\">00077E67B5</th><th style = \"text-align: left;\">00077E76FE</th><th style = \"text-align: left;\">00077E8336</th><th style = \"text-align: left;\">00077EA7E6</th><th style = \"text-align: left;\">00078A002C</th><th style = \"text-align: left;\">00078A0041</th><th style = \"text-align: left;\">00078A0058</th><th style = \"text-align: left;\">00078A0085</th><th style = \"text-align: left;\">00078A00AC</th><th style = \"text-align: left;\">00078A00BF</th><th style = \"text-align: left;\">00078A01A6</th><th style = \"text-align: left;\">00078A01C0</th><th style = \"text-align: left;\">00078A01D8</th><th style = \"text-align: left;\">00078A01DB</th><th style = \"text-align: left;\">00078A01FE</th><th style = \"text-align: left;\">00078A02CB</th><th style = \"text-align: left;\">00078A02DF</th><th style = \"text-align: left;\">00078A07A2</th><th style = \"text-align: left;\">00078A09B1</th><th style = \"text-align: left;\">00078A021A</th><th style = \"text-align: left;\">00078A022D</th><th style = \"text-align: left;\">00078A087B</th><th style = \"text-align: left;\">00078A096C</th><th style = \"text-align: left;\">00078A0127</th><th style = \"text-align: left;\">00078A0138</th><th style = \"text-align: left;\">00078A0139</th><th style = \"text-align: left;\">00078A0166</th><th style = \"text-align: left;\">00078A0215</th><th style = \"text-align: left;\">00078A0224</th><th style = \"text-align: left;\">00078A0246</th><th style = \"text-align: left;\">00078A0255</th><th style = \"text-align: left;\">00078A0A43</th><th style = \"text-align: left;\">00078A0AEA</th><th style = \"text-align: left;\">00078A1A2B</th><th style = \"text-align: left;\">00078A1A16</th><th style = \"text-align: left;\">00078A1B05</th><th style = \"text-align: left;\">00078A1F34</th><th style = \"text-align: left;\">00078A16D3</th><th style = \"text-align: left;\">00078A16DF</th><th style = \"text-align: left;\">00078A17F7</th><th style = \"text-align: left;\">00078A18A7</th><th style = \"text-align: left;\">00078A18CF</th><th style = \"text-align: left;\">00078A18F7</th><th style = \"text-align: left;\">00078A19A7</th><th style = \"text-align: left;\">00078A19B5</th><th style = \"text-align: left;\">00078A19C0</th><th style = \"text-align: left;\">00078A19D6</th><th style = \"text-align: left;\">00078A22DF</th><th style = \"text-align: left;\">00078A22EB</th><th style = \"text-align: left;\">00078A179C</th><th style = \"text-align: left;\">00078A181B</th><th style = \"text-align: left;\">00078A186C</th><th style = \"text-align: left;\">00078A192C</th><th style = \"text-align: left;\">00078A193E</th><th style = \"text-align: left;\">00078A194B</th><th style = \"text-align: left;\">00078A261F</th><th style = \"text-align: left;\">00078A1707</th><th style = \"text-align: left;\">00078A1731</th><th style = \"text-align: left;\">00078A1732</th><th style = \"text-align: left;\">00078A1772</th><th style = \"text-align: left;\">00078A1807</th><th style = \"text-align: left;\">00078A1816</th><th style = \"text-align: left;\">00078A1837</th><th style = \"text-align: left;\">00078A1863</th><th style = \"text-align: left;\">00078A1875</th><th style = \"text-align: left;\">00078A1937</th><th style = \"text-align: left;\">00078A1942</th><th style = \"text-align: left;\">00078A1979</th><th style = \"text-align: left;\">00078A2315</th><th style = \"text-align: left;\">00078A2463</th><th style = \"text-align: left;\">00078A2496</th><th style = \"text-align: left;\">00078A2595</th><th style = \"text-align: left;\">00078A2667</th><th style = \"text-align: left;\">000789FF6E</th><th style = \"text-align: left;\">000789FF7D</th><th style = \"text-align: left;\">000789FF94</th><th style = \"text-align: left;\">000789FFD3</th><th style = \"text-align: left;\">000789FFF0</th><th style = \"text-align: left;\">000789FFF8</th><th style = \"text-align: left;\">000789FFF9</th></tr><tr class = \"subheader headerLastRow\"><th class = \"rowNumber\" style = \"font-weight: bold; text-align: right;\"></th><th title = \"Int64\" style = \"text-align: left;\">Int64</th><th title = \"String15\" style = \"text-align: left;\">String15</th><th title = \"Float64\" style = \"text-align: left;\">Float64</th><th title = \"Float64\" style = \"text-align: left;\">Float64</th><th title = \"Float64\" style = \"text-align: left;\">Float64</th><th title = \"Float64\" style = \"text-align: left;\">Float64</th><th title = \"Float64\" style = \"text-align: left;\">Float64</th><th title = \"Float64\" style = \"text-align: left;\">Float64</th><th title = \"Float64\" style = \"text-align: left;\">Float64</th><th title = \"Float64\" style = \"text-align: left;\">Float64</th><th title = \"Float64\" style = \"text-align: left;\">Float64</th><th title = \"Float64\" style = \"text-align: left;\">Float64</th><th title = \"Float64\" style = \"text-align: left;\">Float64</th><th title = \"Float64\" style = \"text-align: left;\">Float64</th><th title = \"Float64\" style = \"text-align: left;\">Float64</th><th title = \"Float64\" style = \"text-align: left;\">Float64</th><th title = \"Float64\" style = \"text-align: left;\">Float64</th><th title = \"Float64\" style = \"text-align: left;\">Float64</th><th title = \"Float64\" style = \"text-align: left;\">Float64</th><th title = \"Float64\" style = \"text-align: left;\">Float64</th><th title = \"Float64\" style = \"text-align: left;\">Float64</th><th title = \"Float64\" style = \"text-align: left;\">Float64</th><th title = \"Float64\" style = \"text-align: left;\">Float64</th><th title = \"Float64\" style = \"text-align: left;\">Float64</th><th title = \"Float64\" style = \"text-align: left;\">Float64</th><th title = \"Float64\" style = \"text-align: left;\">Float64</th><th title = \"Float64\" style = \"text-align: left;\">Float64</th><th title = \"Float64\" style = \"text-align: left;\">Float64</th><th title = \"Float64\" style = \"text-align: left;\">Float64</th><th title = \"Float64\" style = \"text-align: left;\">Float64</th><th title = \"Float64\" style = \"text-align: left;\">Float64</th><th title = \"Float64\" style = \"text-align: left;\">Float64</th><th title = \"Float64\" style = \"text-align: left;\">Float64</th><th title = \"Float64\" style = \"text-align: left;\">Float64</th><th title = \"Float64\" style = \"text-align: left;\">Float64</th><th title = \"Float64\" style = \"text-align: left;\">Float64</th><th title = \"Float64\" style = \"text-align: left;\">Float64</th><th title = \"Float64\" style = \"text-align: left;\">Float64</th><th title = \"Float64\" style = \"text-align: left;\">Float64</th><th title = \"Float64\" style = \"text-align: left;\">Float64</th><th title = \"Float64\" style = \"text-align: left;\">Float64</th><th title = \"Float64\" style = \"text-align: left;\">Float64</th><th title = \"Float64\" style = \"text-align: left;\">Float64</th><th title = \"Float64\" style = \"text-align: left;\">Float64</th><th title = \"Float64\" style = \"text-align: left;\">Float64</th><th title = \"Float64\" style = \"text-align: left;\">Float64</th><th title = \"Float64\" style = \"text-align: left;\">Float64</th><th title = \"Float64\" style = \"text-align: left;\">Float64</th><th title = \"Float64\" style = \"text-align: left;\">Float64</th><th title = \"Float64\" style = \"text-align: left;\">Float64</th><th title = \"Float64\" style = \"text-align: left;\">Float64</th><th title = \"Float64\" style = \"text-align: left;\">Float64</th><th title = \"Float64\" style = \"text-align: left;\">Float64</th><th title = \"Float64\" style = \"text-align: left;\">Float64</th><th title = \"Float64\" style = \"text-align: left;\">Float64</th><th title = \"Float64\" style = \"text-align: left;\">Float64</th><th title = \"Float64\" style = \"text-align: left;\">Float64</th><th title = \"Float64\" style = \"text-align: left;\">Float64</th><th title = \"Float64\" style = \"text-align: left;\">Float64</th><th title = \"Float64\" style = \"text-align: left;\">Float64</th><th title = \"Float64\" style = \"text-align: left;\">Float64</th><th title = \"Float64\" style = \"text-align: left;\">Float64</th><th title = \"Float64\" style = \"text-align: left;\">Float64</th><th title = \"Float64\" style = \"text-align: left;\">Float64</th><th title = \"Float64\" style = \"text-align: left;\">Float64</th><th title = \"Float64\" style = \"text-align: left;\">Float64</th><th title = \"Float64\" style = \"text-align: left;\">Float64</th><th title = \"Float64\" style = \"text-align: left;\">Float64</th><th title = \"Float64\" style = \"text-align: left;\">Float64</th><th title = \"Float64\" style = \"text-align: left;\">Float64</th><th title = \"Float64\" style = \"text-align: left;\">Float64</th><th title = \"Float64\" style = \"text-align: left;\">Float64</th><th title = \"Float64\" style = \"text-align: left;\">Float64</th><th title = \"Float64\" style = \"text-align: left;\">Float64</th><th title = \"Float64\" style = \"text-align: left;\">Float64</th><th title = \"Float64\" style = \"text-align: left;\">Float64</th><th title = \"Float64\" style = \"text-align: left;\">Float64</th><th title = \"Float64\" style = \"text-align: left;\">Float64</th><th title = \"Float64\" style = \"text-align: left;\">Float64</th><th title = \"Float64\" style = \"text-align: left;\">Float64</th><th title = \"Float64\" style = \"text-align: left;\">Float64</th><th title = \"Float64\" style = \"text-align: left;\">Float64</th><th title = \"Float64\" style = \"text-align: left;\">Float64</th><th title = \"Float64\" style = \"text-align: left;\">Float64</th></tr></thead><tbody><tr><td class = \"rowNumber\" style = \"font-weight: bold; text-align: right;\">1</td><td style = \"text-align: right;\">1</td><td style = \"text-align: left;\">chr1:55365</td><td style = \"text-align: right;\">0.055365</td><td style = \"text-align: right;\">0.055365</td><td style = \"text-align: right;\">2.0</td><td style = \"text-align: right;\">2.0</td><td style = \"text-align: right;\">1.0</td><td style = \"text-align: right;\">2.0</td><td style = \"text-align: right;\">2.0</td><td style = \"text-align: right;\">2.0</td><td style = \"text-align: right;\">1.0</td><td style = \"text-align: right;\">2.0</td><td style = \"text-align: right;\">2.0</td><td style = \"text-align: right;\">2.0</td><td style = \"text-align: right;\">2.0</td><td style = \"text-align: right;\">2.0</td><td style = \"text-align: right;\">2.0</td><td style = \"text-align: right;\">2.0</td><td style = \"text-align: right;\">2.0</td><td style = \"text-align: right;\">2.0</td><td style = \"text-align: right;\">2.0</td><td style = \"text-align: right;\">2.0</td><td style = \"text-align: right;\">2.0</td><td style = \"text-align: right;\">2.0</td><td style = \"text-align: right;\">2.0</td><td style = \"text-align: right;\">2.0</td><td style = \"text-align: right;\">2.0</td><td style = \"text-align: right;\">2.0</td><td style = \"text-align: right;\">2.0</td><td style = \"text-align: right;\">2.0</td><td style = \"text-align: right;\">2.0</td><td style = \"text-align: right;\">2.0</td><td style = \"text-align: right;\">2.0</td><td style = \"text-align: right;\">2.0</td><td style = \"text-align: right;\">2.0</td><td style = \"text-align: right;\">1.0</td><td style = \"text-align: right;\">2.0</td><td style = \"text-align: right;\">2.0</td><td style = \"text-align: right;\">2.0</td><td style = \"text-align: right;\">1.0</td><td style = \"text-align: right;\">2.0</td><td style = \"text-align: right;\">2.0</td><td style = \"text-align: right;\">2.0</td><td style = \"text-align: right;\">1.0</td><td style = \"text-align: right;\">2.0</td><td style = \"text-align: right;\">2.0</td><td style = \"text-align: right;\">2.0</td><td style = \"text-align: right;\">2.0</td><td style = \"text-align: right;\">1.0</td><td style = \"text-align: right;\">2.0</td><td style = \"text-align: right;\">2.0</td><td style = \"text-align: right;\">2.0</td><td style = \"text-align: right;\">2.0</td><td style = \"text-align: right;\">2.0</td><td style = \"text-align: right;\">2.0</td><td style = \"text-align: right;\">2.0</td><td style = \"text-align: right;\">2.0</td><td style = \"text-align: right;\">2.0</td><td style = \"text-align: right;\">2.0</td><td style = \"text-align: right;\">2.0</td><td style = \"text-align: right;\">2.0</td><td style = \"text-align: right;\">2.0</td><td style = \"text-align: right;\">2.0</td><td style = \"text-align: right;\">2.0</td><td style = \"text-align: right;\">1.0</td><td style = \"text-align: right;\">2.0</td><td style = \"text-align: right;\">1.0</td><td style = \"text-align: right;\">2.0</td><td style = \"text-align: right;\">2.0</td><td style = \"text-align: right;\">2.0</td><td style = \"text-align: right;\">2.0</td><td style = \"text-align: right;\">2.0</td><td style = \"text-align: right;\">2.0</td><td style = \"text-align: right;\">2.0</td><td style = \"text-align: right;\">2.0</td><td style = \"text-align: right;\">2.0</td><td style = \"text-align: right;\">2.0</td><td style = \"text-align: right;\">2.0</td><td style = \"text-align: right;\">2.0</td><td style = \"text-align: right;\">2.0</td><td style = \"text-align: right;\">2.0</td><td style = \"text-align: right;\">1.0</td><td style = \"text-align: right;\">2.0</td><td style = \"text-align: right;\">2.0</td></tr><tr><td class = \"rowNumber\" style = \"font-weight: bold; text-align: right;\">2</td><td style = \"text-align: right;\">1</td><td style = \"text-align: left;\">chr1:666374</td><td style = \"text-align: right;\">0.666374</td><td style = \"text-align: right;\">0.666374</td><td style = \"text-align: right;\">2.0</td><td style = \"text-align: right;\">2.0</td><td style = \"text-align: right;\">2.0</td><td style = \"text-align: right;\">2.0</td><td style = \"text-align: right;\">2.0</td><td style = \"text-align: right;\">2.0</td><td style = \"text-align: right;\">1.0</td><td style = \"text-align: right;\">2.0</td><td style = \"text-align: right;\">2.0</td><td style = \"text-align: right;\">2.0</td><td style = \"text-align: right;\">2.0</td><td style = \"text-align: right;\">2.0</td><td style = \"text-align: right;\">2.0</td><td style = \"text-align: right;\">2.0</td><td style = \"text-align: right;\">2.0</td><td style = \"text-align: right;\">2.0</td><td style = \"text-align: right;\">2.0</td><td style = \"text-align: right;\">2.0</td><td style = \"text-align: right;\">2.0</td><td style = \"text-align: right;\">2.0</td><td style = \"text-align: right;\">2.0</td><td style = \"text-align: right;\">2.0</td><td style = \"text-align: right;\">2.0</td><td style = \"text-align: right;\">2.0</td><td style = \"text-align: right;\">2.0</td><td style = \"text-align: right;\">1.0</td><td style = \"text-align: right;\">2.0</td><td style = \"text-align: right;\">2.0</td><td style = \"text-align: right;\">2.0</td><td style = \"text-align: right;\">2.0</td><td style = \"text-align: right;\">2.0</td><td style = \"text-align: right;\">1.0</td><td style = \"text-align: right;\">2.0</td><td style = \"text-align: right;\">2.0</td><td style = \"text-align: right;\">2.0</td><td style = \"text-align: right;\">2.0</td><td style = \"text-align: right;\">2.0</td><td style = \"text-align: right;\">2.0</td><td style = \"text-align: right;\">2.0</td><td style = \"text-align: right;\">2.0</td><td style = \"text-align: right;\">2.0</td><td style = \"text-align: right;\">2.0</td><td style = \"text-align: right;\">1.0</td><td style = \"text-align: right;\">2.0</td><td style = \"text-align: right;\">2.0</td><td style = \"text-align: right;\">2.0</td><td style = \"text-align: right;\">2.0</td><td style = \"text-align: right;\">2.0</td><td style = \"text-align: right;\">2.0</td><td style = \"text-align: right;\">2.0</td><td style = \"text-align: right;\">2.0</td><td style = \"text-align: right;\">2.0</td><td style = \"text-align: right;\">2.0</td><td style = \"text-align: right;\">2.0</td><td style = \"text-align: right;\">2.0</td><td style = \"text-align: right;\">1.0</td><td style = \"text-align: right;\">2.0</td><td style = \"text-align: right;\">2.0</td><td style = \"text-align: right;\">2.0</td><td style = \"text-align: right;\">2.0</td><td style = \"text-align: right;\">2.0</td><td style = \"text-align: right;\">2.0</td><td style = \"text-align: right;\">2.0</td><td style = \"text-align: right;\">2.0</td><td style = \"text-align: right;\">2.0</td><td style = \"text-align: right;\">2.0</td><td style = \"text-align: right;\">2.0</td><td style = \"text-align: right;\">2.0</td><td style = \"text-align: right;\">2.0</td><td style = \"text-align: right;\">2.0</td><td style = \"text-align: right;\">2.0</td><td style = \"text-align: right;\">2.0</td><td style = \"text-align: right;\">2.0</td><td style = \"text-align: right;\">2.0</td><td style = \"text-align: right;\">2.0</td><td style = \"text-align: right;\">2.0</td><td style = \"text-align: right;\">2.0</td><td style = \"text-align: right;\">2.0</td><td style = \"text-align: right;\">2.0</td><td style = \"text-align: right;\">2.0</td></tr><tr><td class = \"rowNumber\" style = \"font-weight: bold; text-align: right;\">3</td><td style = \"text-align: right;\">1</td><td style = \"text-align: left;\">chr1:666382</td><td style = \"text-align: right;\">0.666382</td><td style = \"text-align: right;\">0.666382</td><td style = \"text-align: right;\">2.0</td><td style = \"text-align: right;\">2.0</td><td style = \"text-align: right;\">2.0</td><td style = \"text-align: right;\">1.0</td><td style = \"text-align: right;\">2.0</td><td style = \"text-align: right;\">2.0</td><td style = \"text-align: right;\">2.0</td><td style = \"text-align: right;\">2.0</td><td style = \"text-align: right;\">2.0</td><td style = \"text-align: right;\">2.0</td><td style = \"text-align: right;\">2.0</td><td style = \"text-align: right;\">2.0</td><td style = \"text-align: right;\">2.0</td><td style = \"text-align: right;\">2.0</td><td style = \"text-align: right;\">2.0</td><td style = \"text-align: right;\">2.0</td><td style = \"text-align: right;\">2.0</td><td style = \"text-align: right;\">2.0</td><td style = \"text-align: right;\">2.0</td><td style = \"text-align: right;\">2.0</td><td style = \"text-align: right;\">2.0</td><td style = \"text-align: right;\">2.0</td><td style = \"text-align: right;\">2.0</td><td style = \"text-align: right;\">2.0</td><td style = \"text-align: right;\">2.0</td><td style = \"text-align: right;\">2.0</td><td style = \"text-align: right;\">2.0</td><td style = \"text-align: right;\">2.0</td><td style = \"text-align: right;\">2.0</td><td style = \"text-align: right;\">2.0</td><td style = \"text-align: right;\">2.0</td><td style = \"text-align: right;\">1.0</td><td style = \"text-align: right;\">2.0</td><td style = \"text-align: right;\">2.0</td><td style = \"text-align: right;\">2.0</td><td style = \"text-align: right;\">2.0</td><td style = \"text-align: right;\">2.0</td><td style = \"text-align: right;\">2.0</td><td style = \"text-align: right;\">2.0</td><td style = \"text-align: right;\">2.0</td><td style = \"text-align: right;\">2.0</td><td style = \"text-align: right;\">2.0</td><td style = \"text-align: right;\">2.0</td><td style = \"text-align: right;\">2.0</td><td style = \"text-align: right;\">2.0</td><td style = \"text-align: right;\">2.0</td><td style = \"text-align: right;\">2.0</td><td style = \"text-align: right;\">2.0</td><td style = \"text-align: right;\">2.0</td><td style = \"text-align: right;\">2.0</td><td style = \"text-align: right;\">2.0</td><td style = \"text-align: right;\">2.0</td><td style = \"text-align: right;\">2.0</td><td style = \"text-align: right;\">2.0</td><td style = \"text-align: right;\">2.0</td><td style = \"text-align: right;\">2.0</td><td style = \"text-align: right;\">2.0</td><td style = \"text-align: right;\">2.0</td><td style = \"text-align: right;\">2.0</td><td style = \"text-align: right;\">2.0</td><td style = \"text-align: right;\">2.0</td><td style = \"text-align: right;\">2.0</td><td style = \"text-align: right;\">2.0</td><td style = \"text-align: right;\">2.0</td><td style = \"text-align: right;\">2.0</td><td style = \"text-align: right;\">2.0</td><td style = \"text-align: right;\">2.0</td><td style = \"text-align: right;\">2.0</td><td style = \"text-align: right;\">2.0</td><td style = \"text-align: right;\">2.0</td><td style = \"text-align: right;\">2.0</td><td style = \"text-align: right;\">2.0</td><td style = \"text-align: right;\">2.0</td><td style = \"text-align: right;\">2.0</td><td style = \"text-align: right;\">2.0</td><td style = \"text-align: right;\">2.0</td><td style = \"text-align: right;\">2.0</td><td style = \"text-align: right;\">2.0</td><td style = \"text-align: right;\">2.0</td><td style = \"text-align: right;\">2.0</td></tr><tr><td class = \"rowNumber\" style = \"font-weight: bold; text-align: right;\">4</td><td style = \"text-align: right;\">1</td><td style = \"text-align: left;\">chr1:666394</td><td style = \"text-align: right;\">0.666394</td><td style = \"text-align: right;\">0.666394</td><td style = \"text-align: right;\">2.0</td><td style = \"text-align: right;\">2.0</td><td style = \"text-align: right;\">2.0</td><td style = \"text-align: right;\">1.0</td><td style = \"text-align: right;\">2.0</td><td style = \"text-align: right;\">2.0</td><td style = \"text-align: right;\">2.0</td><td style = \"text-align: right;\">2.0</td><td style = \"text-align: right;\">2.0</td><td style = \"text-align: right;\">2.0</td><td style = \"text-align: right;\">2.0</td><td style = \"text-align: right;\">2.0</td><td style = \"text-align: right;\">2.0</td><td style = \"text-align: right;\">2.0</td><td style = \"text-align: right;\">2.0</td><td style = \"text-align: right;\">2.0</td><td style = \"text-align: right;\">2.0</td><td style = \"text-align: right;\">2.0</td><td style = \"text-align: right;\">2.0</td><td style = \"text-align: right;\">2.0</td><td style = \"text-align: right;\">2.0</td><td style = \"text-align: right;\">2.0</td><td style = \"text-align: right;\">2.0</td><td style = \"text-align: right;\">2.0</td><td style = \"text-align: right;\">1.0</td><td style = \"text-align: right;\">1.0</td><td style = \"text-align: right;\">2.0</td><td style = \"text-align: right;\">2.0</td><td style = \"text-align: right;\">2.0</td><td style = \"text-align: right;\">2.0</td><td style = \"text-align: right;\">2.0</td><td style = \"text-align: right;\">1.0</td><td style = \"text-align: right;\">2.0</td><td style = \"text-align: right;\">1.0</td><td style = \"text-align: right;\">2.0</td><td style = \"text-align: right;\">2.0</td><td style = \"text-align: right;\">2.0</td><td style = \"text-align: right;\">2.0</td><td style = \"text-align: right;\">2.0</td><td style = \"text-align: right;\">2.0</td><td style = \"text-align: right;\">2.0</td><td style = \"text-align: right;\">2.0</td><td style = \"text-align: right;\">1.0</td><td style = \"text-align: right;\">2.0</td><td style = \"text-align: right;\">2.0</td><td style = \"text-align: right;\">2.0</td><td style = \"text-align: right;\">2.0</td><td style = \"text-align: right;\">2.0</td><td style = \"text-align: right;\">2.0</td><td style = \"text-align: right;\">2.0</td><td style = \"text-align: right;\">2.0</td><td style = \"text-align: right;\">2.0</td><td style = \"text-align: right;\">2.0</td><td style = \"text-align: right;\">2.0</td><td style = \"text-align: right;\">2.0</td><td style = \"text-align: right;\">2.0</td><td style = \"text-align: right;\">2.0</td><td style = \"text-align: right;\">2.0</td><td style = \"text-align: right;\">2.0</td><td style = \"text-align: right;\">2.0</td><td style = \"text-align: right;\">2.0</td><td style = \"text-align: right;\">2.0</td><td style = \"text-align: right;\">2.0</td><td style = \"text-align: right;\">2.0</td><td style = \"text-align: right;\">2.0</td><td style = \"text-align: right;\">2.0</td><td style = \"text-align: right;\">2.0</td><td style = \"text-align: right;\">2.0</td><td style = \"text-align: right;\">2.0</td><td style = \"text-align: right;\">2.0</td><td style = \"text-align: right;\">2.0</td><td style = \"text-align: right;\">2.0</td><td style = \"text-align: right;\">2.0</td><td style = \"text-align: right;\">2.0</td><td style = \"text-align: right;\">2.0</td><td style = \"text-align: right;\">2.0</td><td style = \"text-align: right;\">2.0</td><td style = \"text-align: right;\">2.0</td><td style = \"text-align: right;\">2.0</td><td style = \"text-align: right;\">2.0</td></tr><tr><td class = \"rowNumber\" style = \"font-weight: bold; text-align: right;\">5</td><td style = \"text-align: right;\">1</td><td style = \"text-align: left;\">chr1:669529</td><td style = \"text-align: right;\">0.669529</td><td style = \"text-align: right;\">0.669529</td><td style = \"text-align: right;\">2.0</td><td style = \"text-align: right;\">2.0</td><td style = \"text-align: right;\">2.0</td><td style = \"text-align: right;\">1.0</td><td style = \"text-align: right;\">2.0</td><td style = \"text-align: right;\">2.0</td><td style = \"text-align: right;\">2.0</td><td style = \"text-align: right;\">2.0</td><td style = \"text-align: right;\">2.0</td><td style = \"text-align: right;\">2.0</td><td style = \"text-align: right;\">2.0</td><td style = \"text-align: right;\">2.0</td><td style = \"text-align: right;\">2.0</td><td style = \"text-align: right;\">2.0</td><td style = \"text-align: right;\">2.0</td><td style = \"text-align: right;\">2.0</td><td style = \"text-align: right;\">2.0</td><td style = \"text-align: right;\">2.0</td><td style = \"text-align: right;\">2.0</td><td style = \"text-align: right;\">2.0</td><td style = \"text-align: right;\">2.0</td><td style = \"text-align: right;\">2.0</td><td style = \"text-align: right;\">2.0</td><td style = \"text-align: right;\">2.0</td><td style = \"text-align: right;\">2.0</td><td style = \"text-align: right;\">2.0</td><td style = \"text-align: right;\">2.0</td><td style = \"text-align: right;\">2.0</td><td style = \"text-align: right;\">2.0</td><td style = \"text-align: right;\">2.0</td><td style = \"text-align: right;\">2.0</td><td style = \"text-align: right;\">2.0</td><td style = \"text-align: right;\">2.0</td><td style = \"text-align: right;\">1.0</td><td style = \"text-align: right;\">2.0</td><td style = \"text-align: right;\">2.0</td><td style = \"text-align: right;\">2.0</td><td style = \"text-align: right;\">2.0</td><td style = \"text-align: right;\">1.0</td><td style = \"text-align: right;\">2.0</td><td style = \"text-align: right;\">2.0</td><td style = \"text-align: right;\">2.0</td><td style = \"text-align: right;\">2.0</td><td style = \"text-align: right;\">2.0</td><td style = \"text-align: right;\">2.0</td><td style = \"text-align: right;\">2.0</td><td style = \"text-align: right;\">2.0</td><td style = \"text-align: right;\">2.0</td><td style = \"text-align: right;\">1.0</td><td style = \"text-align: right;\">2.0</td><td style = \"text-align: right;\">2.0</td><td style = \"text-align: right;\">2.0</td><td style = \"text-align: right;\">2.0</td><td style = \"text-align: right;\">2.0</td><td style = \"text-align: right;\">2.0</td><td style = \"text-align: right;\">2.0</td><td style = \"text-align: right;\">2.0</td><td style = \"text-align: right;\">2.0</td><td style = \"text-align: right;\">2.0</td><td style = \"text-align: right;\">2.0</td><td style = \"text-align: right;\">2.0</td><td style = \"text-align: right;\">2.0</td><td style = \"text-align: right;\">2.0</td><td style = \"text-align: right;\">2.0</td><td style = \"text-align: right;\">2.0</td><td style = \"text-align: right;\">2.0</td><td style = \"text-align: right;\">2.0</td><td style = \"text-align: right;\">2.0</td><td style = \"text-align: right;\">2.0</td><td style = \"text-align: right;\">2.0</td><td style = \"text-align: right;\">2.0</td><td style = \"text-align: right;\">2.0</td><td style = \"text-align: right;\">2.0</td><td style = \"text-align: right;\">2.0</td><td style = \"text-align: right;\">2.0</td><td style = \"text-align: right;\">2.0</td><td style = \"text-align: right;\">2.0</td><td style = \"text-align: right;\">2.0</td><td style = \"text-align: right;\">2.0</td><td style = \"text-align: right;\">1.0</td></tr><tr><td class = \"rowNumber\" style = \"font-weight: bold; text-align: right;\">6</td><td style = \"text-align: right;\">1</td><td style = \"text-align: left;\">chr1:669562</td><td style = \"text-align: right;\">0.669562</td><td style = \"text-align: right;\">0.669562</td><td style = \"text-align: right;\">2.0</td><td style = \"text-align: right;\">2.0</td><td style = \"text-align: right;\">2.0</td><td style = \"text-align: right;\">2.0</td><td style = \"text-align: right;\">2.0</td><td style = \"text-align: right;\">2.0</td><td style = \"text-align: right;\">1.0</td><td style = \"text-align: right;\">2.0</td><td style = \"text-align: right;\">2.0</td><td style = \"text-align: right;\">2.0</td><td style = \"text-align: right;\">2.0</td><td style = \"text-align: right;\">2.0</td><td style = \"text-align: right;\">2.0</td><td style = \"text-align: right;\">2.0</td><td style = \"text-align: right;\">2.0</td><td style = \"text-align: right;\">2.0</td><td style = \"text-align: right;\">2.0</td><td style = \"text-align: right;\">2.0</td><td style = \"text-align: right;\">2.0</td><td style = \"text-align: right;\">2.0</td><td style = \"text-align: right;\">2.0</td><td style = \"text-align: right;\">2.0</td><td style = \"text-align: right;\">2.0</td><td style = \"text-align: right;\">2.0</td><td style = \"text-align: right;\">2.0</td><td style = \"text-align: right;\">1.0</td><td style = \"text-align: right;\">2.0</td><td style = \"text-align: right;\">2.0</td><td style = \"text-align: right;\">2.0</td><td style = \"text-align: right;\">2.0</td><td style = \"text-align: right;\">2.0</td><td style = \"text-align: right;\">2.0</td><td style = \"text-align: right;\">2.0</td><td style = \"text-align: right;\">2.0</td><td style = \"text-align: right;\">2.0</td><td style = \"text-align: right;\">2.0</td><td style = \"text-align: right;\">2.0</td><td style = \"text-align: right;\">2.0</td><td style = \"text-align: right;\">2.0</td><td style = \"text-align: right;\">2.0</td><td style = \"text-align: right;\">2.0</td><td style = \"text-align: right;\">2.0</td><td style = \"text-align: right;\">2.0</td><td style = \"text-align: right;\">2.0</td><td style = \"text-align: right;\">2.0</td><td style = \"text-align: right;\">2.0</td><td style = \"text-align: right;\">2.0</td><td style = \"text-align: right;\">2.0</td><td style = \"text-align: right;\">2.0</td><td style = \"text-align: right;\">2.0</td><td style = \"text-align: right;\">2.0</td><td style = \"text-align: right;\">2.0</td><td style = \"text-align: right;\">2.0</td><td style = \"text-align: right;\">2.0</td><td style = \"text-align: right;\">2.0</td><td style = \"text-align: right;\">2.0</td><td style = \"text-align: right;\">2.0</td><td style = \"text-align: right;\">2.0</td><td style = \"text-align: right;\">2.0</td><td style = \"text-align: right;\">2.0</td><td style = \"text-align: right;\">2.0</td><td style = \"text-align: right;\">1.0</td><td style = \"text-align: right;\">2.0</td><td style = \"text-align: right;\">2.0</td><td style = \"text-align: right;\">2.0</td><td style = \"text-align: right;\">2.0</td><td style = \"text-align: right;\">2.0</td><td style = \"text-align: right;\">2.0</td><td style = \"text-align: right;\">2.0</td><td style = \"text-align: right;\">2.0</td><td style = \"text-align: right;\">2.0</td><td style = \"text-align: right;\">2.0</td><td style = \"text-align: right;\">2.0</td><td style = \"text-align: right;\">1.0</td><td style = \"text-align: right;\">2.0</td><td style = \"text-align: right;\">2.0</td><td style = \"text-align: right;\">2.0</td><td style = \"text-align: right;\">2.0</td><td style = \"text-align: right;\">1.0</td><td style = \"text-align: right;\">2.0</td></tr><tr><td class = \"rowNumber\" style = \"font-weight: bold; text-align: right;\">7</td><td style = \"text-align: right;\">1</td><td style = \"text-align: left;\">chr1:671466</td><td style = \"text-align: right;\">0.671466</td><td style = \"text-align: right;\">0.671466</td><td style = \"text-align: right;\">2.0</td><td style = \"text-align: right;\">2.0</td><td style = \"text-align: right;\">2.0</td><td style = \"text-align: right;\">2.0</td><td style = \"text-align: right;\">2.0</td><td style = \"text-align: right;\">2.0</td><td style = \"text-align: right;\">2.0</td><td style = \"text-align: right;\">2.0</td><td style = \"text-align: right;\">2.0</td><td style = \"text-align: right;\">2.0</td><td style = \"text-align: right;\">2.0</td><td style = \"text-align: right;\">2.0</td><td style = \"text-align: right;\">2.0</td><td style = \"text-align: right;\">2.0</td><td style = \"text-align: right;\">2.0</td><td style = \"text-align: right;\">2.0</td><td style = \"text-align: right;\">2.0</td><td style = \"text-align: right;\">2.0</td><td style = \"text-align: right;\">2.0</td><td style = \"text-align: right;\">2.0</td><td style = \"text-align: right;\">2.0</td><td style = \"text-align: right;\">2.0</td><td style = \"text-align: right;\">2.0</td><td style = \"text-align: right;\">2.0</td><td style = \"text-align: right;\">2.0</td><td style = \"text-align: right;\">2.0</td><td style = \"text-align: right;\">2.0</td><td style = \"text-align: right;\">2.0</td><td style = \"text-align: right;\">2.0</td><td style = \"text-align: right;\">2.0</td><td style = \"text-align: right;\">2.0</td><td style = \"text-align: right;\">2.0</td><td style = \"text-align: right;\">2.0</td><td style = \"text-align: right;\">2.0</td><td style = \"text-align: right;\">2.0</td><td style = \"text-align: right;\">2.0</td><td style = \"text-align: right;\">2.0</td><td style = \"text-align: right;\">2.0</td><td style = \"text-align: right;\">2.0</td><td style = \"text-align: right;\">2.0</td><td style = \"text-align: right;\">2.0</td><td style = \"text-align: right;\">2.0</td><td style = \"text-align: right;\">2.0</td><td style = \"text-align: right;\">2.0</td><td style = \"text-align: right;\">2.0</td><td style = \"text-align: right;\">2.0</td><td style = \"text-align: right;\">2.0</td><td style = \"text-align: right;\">2.0</td><td style = \"text-align: right;\">2.0</td><td style = \"text-align: right;\">2.0</td><td style = \"text-align: right;\">2.0</td><td style = \"text-align: right;\">2.0</td><td style = \"text-align: right;\">2.0</td><td style = \"text-align: right;\">2.0</td><td style = \"text-align: right;\">2.0</td><td style = \"text-align: right;\">2.0</td><td style = \"text-align: right;\">2.0</td><td style = \"text-align: right;\">2.0</td><td style = \"text-align: right;\">2.0</td><td style = \"text-align: right;\">1.0</td><td style = \"text-align: right;\">2.0</td><td style = \"text-align: right;\">1.0</td><td style = \"text-align: right;\">1.0</td><td style = \"text-align: right;\">1.0</td><td style = \"text-align: right;\">1.0</td><td style = \"text-align: right;\">2.0</td><td style = \"text-align: right;\">2.0</td><td style = \"text-align: right;\">1.0</td><td style = \"text-align: right;\">2.0</td><td style = \"text-align: right;\">2.0</td><td style = \"text-align: right;\">2.0</td><td style = \"text-align: right;\">2.0</td><td style = \"text-align: right;\">2.0</td><td style = \"text-align: right;\">2.0</td><td style = \"text-align: right;\">2.0</td><td style = \"text-align: right;\">2.0</td><td style = \"text-align: right;\">2.0</td><td style = \"text-align: right;\">2.0</td><td style = \"text-align: right;\">1.0</td><td style = \"text-align: right;\">2.0</td></tr><tr><td class = \"rowNumber\" style = \"font-weight: bold; text-align: right;\">8</td><td style = \"text-align: right;\">1</td><td style = \"text-align: left;\">chr1:759319</td><td style = \"text-align: right;\">0.759319</td><td style = \"text-align: right;\">0.759319</td><td style = \"text-align: right;\">0.997</td><td style = \"text-align: right;\">1.976</td><td style = \"text-align: right;\">0.991</td><td style = \"text-align: right;\">1.979</td><td style = \"text-align: right;\">0.007</td><td style = \"text-align: right;\">1.979</td><td style = \"text-align: right;\">0.991</td><td style = \"text-align: right;\">0.997</td><td style = \"text-align: right;\">0.008</td><td style = \"text-align: right;\">1.979</td><td style = \"text-align: right;\">0.997</td><td style = \"text-align: right;\">0.997</td><td style = \"text-align: right;\">0.007</td><td style = \"text-align: right;\">0.997</td><td style = \"text-align: right;\">0.007</td><td style = \"text-align: right;\">0.991</td><td style = \"text-align: right;\">0.997</td><td style = \"text-align: right;\">0.007</td><td style = \"text-align: right;\">0.997</td><td style = \"text-align: right;\">0.991</td><td style = \"text-align: right;\">0.007</td><td style = \"text-align: right;\">0.99</td><td style = \"text-align: right;\">0.997</td><td style = \"text-align: right;\">0.99</td><td style = \"text-align: right;\">0.991</td><td style = \"text-align: right;\">0.007</td><td style = \"text-align: right;\">0.991</td><td style = \"text-align: right;\">1.979</td><td style = \"text-align: right;\">0.997</td><td style = \"text-align: right;\">0.997</td><td style = \"text-align: right;\">0.992</td><td style = \"text-align: right;\">0.997</td><td style = \"text-align: right;\">0.997</td><td style = \"text-align: right;\">0.997</td><td style = \"text-align: right;\">0.992</td><td style = \"text-align: right;\">0.992</td><td style = \"text-align: right;\">0.007</td><td style = \"text-align: right;\">0.997</td><td style = \"text-align: right;\">0.997</td><td style = \"text-align: right;\">0.997</td><td style = \"text-align: right;\">0.007</td><td style = \"text-align: right;\">0.007</td><td style = \"text-align: right;\">0.997</td><td style = \"text-align: right;\">0.007</td><td style = \"text-align: right;\">1.979</td><td style = \"text-align: right;\">0.007</td><td style = \"text-align: right;\">0.991</td><td style = \"text-align: right;\">0.007</td><td style = \"text-align: right;\">0.997</td><td style = \"text-align: right;\">0.997</td><td style = \"text-align: right;\">0.008</td><td style = \"text-align: right;\">0.997</td><td style = \"text-align: right;\">0.997</td><td style = \"text-align: right;\">0.007</td><td style = \"text-align: right;\">0.997</td><td style = \"text-align: right;\">1.979</td><td style = \"text-align: right;\">0.997</td><td style = \"text-align: right;\">0.997</td><td style = \"text-align: right;\">0.007</td><td style = \"text-align: right;\">0.007</td><td style = \"text-align: right;\">0.997</td><td style = \"text-align: right;\">0.007</td><td style = \"text-align: right;\">0.997</td><td style = \"text-align: right;\">1.979</td><td style = \"text-align: right;\">0.007</td><td style = \"text-align: right;\">0.997</td><td style = \"text-align: right;\">0.99603</td><td style = \"text-align: right;\">0.99</td><td style = \"text-align: right;\">0.991</td><td style = \"text-align: right;\">0.997</td><td style = \"text-align: right;\">1.978</td><td style = \"text-align: right;\">0.007</td><td style = \"text-align: right;\">0.991</td><td style = \"text-align: right;\">0.997</td><td style = \"text-align: right;\">0.007</td><td style = \"text-align: right;\">0.007</td><td style = \"text-align: right;\">1.979</td><td style = \"text-align: right;\">1.979</td><td style = \"text-align: right;\">1.979</td><td style = \"text-align: right;\">0.007</td></tr><tr><td class = \"rowNumber\" style = \"font-weight: bold; text-align: right;\">9</td><td style = \"text-align: right;\">1</td><td style = \"text-align: left;\">chr1:1134030</td><td style = \"text-align: right;\">1.13403</td><td style = \"text-align: right;\">1.13403</td><td style = \"text-align: right;\">1.941</td><td style = \"text-align: right;\">1.559</td><td style = \"text-align: right;\">1.006</td><td style = \"text-align: right;\">1.994</td><td style = \"text-align: right;\">1.998</td><td style = \"text-align: right;\">1.994</td><td style = \"text-align: right;\">1.846</td><td style = \"text-align: right;\">1.951</td><td style = \"text-align: right;\">1.4895</td><td style = \"text-align: right;\">1.994</td><td style = \"text-align: right;\">1.984</td><td style = \"text-align: right;\">1.945</td><td style = \"text-align: right;\">1.031</td><td style = \"text-align: right;\">1.993</td><td style = \"text-align: right;\">1.00494</td><td style = \"text-align: right;\">1.989</td><td style = \"text-align: right;\">1.992</td><td style = \"text-align: right;\">1.998</td><td style = \"text-align: right;\">1.989</td><td style = \"text-align: right;\">1.994</td><td style = \"text-align: right;\">1.022</td><td style = \"text-align: right;\">1.49847</td><td style = \"text-align: right;\">1.797</td><td style = \"text-align: right;\">1.998</td><td style = \"text-align: right;\">1.946</td><td style = \"text-align: right;\">1.055</td><td style = \"text-align: right;\">1.946</td><td style = \"text-align: right;\">1.994</td><td style = \"text-align: right;\">1.955</td><td style = \"text-align: right;\">1.993</td><td style = \"text-align: right;\">1.994</td><td style = \"text-align: right;\">1.94696</td><td style = \"text-align: right;\">1.951</td><td style = \"text-align: right;\">1.989</td><td style = \"text-align: right;\">1.926</td><td style = \"text-align: right;\">1.495</td><td style = \"text-align: right;\">1.998</td><td style = \"text-align: right;\">1.991</td><td style = \"text-align: right;\">1.994</td><td style = \"text-align: right;\">1.952</td><td style = \"text-align: right;\">1.997</td><td style = \"text-align: right;\">1.998</td><td style = \"text-align: right;\">1.94696</td><td style = \"text-align: right;\">1.998</td><td style = \"text-align: right;\">1.994</td><td style = \"text-align: right;\">1.998</td><td style = \"text-align: right;\">1.994</td><td style = \"text-align: right;\">1.998</td><td style = \"text-align: right;\">1.946</td><td style = \"text-align: right;\">1.994</td><td style = \"text-align: right;\">1.5045</td><td style = \"text-align: right;\">1.994</td><td style = \"text-align: right;\">1.994</td><td style = \"text-align: right;\">1.998</td><td style = \"text-align: right;\">1.977</td><td style = \"text-align: right;\">1.993</td><td style = \"text-align: right;\">1.935</td><td style = \"text-align: right;\">1.993</td><td style = \"text-align: right;\">1.998</td><td style = \"text-align: right;\">1.998</td><td style = \"text-align: right;\">1.994</td><td style = \"text-align: right;\">1.023</td><td style = \"text-align: right;\">1.994</td><td style = \"text-align: right;\">1.994</td><td style = \"text-align: right;\">1.998</td><td style = \"text-align: right;\">1.993</td><td style = \"text-align: right;\">1.912</td><td style = \"text-align: right;\">1.997</td><td style = \"text-align: right;\">1.994</td><td style = \"text-align: right;\">1.993</td><td style = \"text-align: right;\">1.919</td><td style = \"text-align: right;\">1.998</td><td style = \"text-align: right;\">1.994</td><td style = \"text-align: right;\">1.994</td><td style = \"text-align: right;\">1.044</td><td style = \"text-align: right;\">1.031</td><td style = \"text-align: right;\">1.993</td><td style = \"text-align: right;\">1.994</td><td style = \"text-align: right;\">1.993</td><td style = \"text-align: right;\">1.998</td></tr><tr><td class = \"rowNumber\" style = \"font-weight: bold; text-align: right;\">10</td><td style = \"text-align: right;\">1</td><td style = \"text-align: left;\">chr1:1139210</td><td style = \"text-align: right;\">1.13921</td><td style = \"text-align: right;\">1.13921</td><td style = \"text-align: right;\">1.978</td><td style = \"text-align: right;\">1.992</td><td style = \"text-align: right;\">1.997</td><td style = \"text-align: right;\">1.994</td><td style = \"text-align: right;\">1.997</td><td style = \"text-align: right;\">1.993</td><td style = \"text-align: right;\">1.912</td><td style = \"text-align: right;\">1.985</td><td style = \"text-align: right;\">1.996</td><td style = \"text-align: right;\">1.994</td><td style = \"text-align: right;\">1.959</td><td style = \"text-align: right;\">1.985</td><td style = \"text-align: right;\">1.037</td><td style = \"text-align: right;\">1.986</td><td style = \"text-align: right;\">1.006</td><td style = \"text-align: right;\">1.14</td><td style = \"text-align: right;\">1.991</td><td style = \"text-align: right;\">1.997</td><td style = \"text-align: right;\">1.14</td><td style = \"text-align: right;\">1.992</td><td style = \"text-align: right;\">1.026</td><td style = \"text-align: right;\">1.964</td><td style = \"text-align: right;\">1.858</td><td style = \"text-align: right;\">1.997</td><td style = \"text-align: right;\">1.984</td><td style = \"text-align: right;\">1.06793</td><td style = \"text-align: right;\">1.984</td><td style = \"text-align: right;\">1.993</td><td style = \"text-align: right;\">1.988</td><td style = \"text-align: right;\">1.993</td><td style = \"text-align: right;\">1.994</td><td style = \"text-align: right;\">1.213</td><td style = \"text-align: right;\">1.986</td><td style = \"text-align: right;\">1.14</td><td style = \"text-align: right;\">1.982</td><td style = \"text-align: right;\">1.668</td><td style = \"text-align: right;\">1.997</td><td style = \"text-align: right;\">1.1181</td><td style = \"text-align: right;\">1.994</td><td style = \"text-align: right;\">1.986</td><td style = \"text-align: right;\">1.996</td><td style = \"text-align: right;\">1.997</td><td style = \"text-align: right;\">1.984</td><td style = \"text-align: right;\">1.997</td><td style = \"text-align: right;\">1.993</td><td style = \"text-align: right;\">1.997</td><td style = \"text-align: right;\">1.992</td><td style = \"text-align: right;\">1.997</td><td style = \"text-align: right;\">1.984</td><td style = \"text-align: right;\">1.994</td><td style = \"text-align: right;\">1.995</td><td style = \"text-align: right;\">1.994</td><td style = \"text-align: right;\">1.993</td><td style = \"text-align: right;\">1.997</td><td style = \"text-align: right;\">1.927</td><td style = \"text-align: right;\">1.993</td><td style = \"text-align: right;\">1.981</td><td style = \"text-align: right;\">1.992</td><td style = \"text-align: right;\">1.997</td><td style = \"text-align: right;\">1.997</td><td style = \"text-align: right;\">1.994</td><td style = \"text-align: right;\">1.029</td><td style = \"text-align: right;\">1.994</td><td style = \"text-align: right;\">1.993</td><td style = \"text-align: right;\">1.997</td><td style = \"text-align: right;\">1.993</td><td style = \"text-align: right;\">1.99</td><td style = \"text-align: right;\">1.866</td><td style = \"text-align: right;\">1.992</td><td style = \"text-align: right;\">1.993</td><td style = \"text-align: right;\">1.992</td><td style = \"text-align: right;\">1.997</td><td style = \"text-align: right;\">1.992</td><td style = \"text-align: right;\">1.993</td><td style = \"text-align: right;\">1.05292</td><td style = \"text-align: right;\">1.037</td><td style = \"text-align: right;\">1.993</td><td style = \"text-align: right;\">1.993</td><td style = \"text-align: right;\">1.993</td><td style = \"text-align: right;\">1.997</td></tr><tr><td class = \"rowNumber\" style = \"font-weight: bold; text-align: right;\">11</td><td style = \"text-align: right;\">1</td><td style = \"text-align: left;\">chr1:1143318</td><td style = \"text-align: right;\">1.14332</td><td style = \"text-align: right;\">1.14332</td><td style = \"text-align: right;\">0.031</td><td style = \"text-align: right;\">0.39</td><td style = \"text-align: right;\">0.99298</td><td style = \"text-align: right;\">0.008</td><td style = \"text-align: right;\">0.003</td><td style = \"text-align: right;\">0.009</td><td style = \"text-align: right;\">0.171</td><td style = \"text-align: right;\">0.025</td><td style = \"text-align: right;\">0.026</td><td style = \"text-align: right;\">0.008</td><td style = \"text-align: right;\">0.065</td><td style = \"text-align: right;\">0.026</td><td style = \"text-align: right;\">0.947</td><td style = \"text-align: right;\">0.011</td><td style = \"text-align: right;\">0.994</td><td style = \"text-align: right;\">0.043</td><td style = \"text-align: right;\">0.013</td><td style = \"text-align: right;\">0.003</td><td style = \"text-align: right;\">0.043</td><td style = \"text-align: right;\">0.009</td><td style = \"text-align: right;\">0.962</td><td style = \"text-align: right;\">0.1802</td><td style = \"text-align: right;\">0.231</td><td style = \"text-align: right;\">0.003</td><td style = \"text-align: right;\">0.028</td><td style = \"text-align: right;\">0.9059</td><td style = \"text-align: right;\">0.028</td><td style = \"text-align: right;\">0.009</td><td style = \"text-align: right;\">0.021</td><td style = \"text-align: right;\">0.01</td><td style = \"text-align: right;\">0.008</td><td style = \"text-align: right;\">0.079</td><td style = \"text-align: right;\">0.025</td><td style = \"text-align: right;\">0.043</td><td style = \"text-align: right;\">0.128</td><td style = \"text-align: right;\">0.339</td><td style = \"text-align: right;\">0.003</td><td style = \"text-align: right;\">0.15015</td><td style = \"text-align: right;\">0.008</td><td style = \"text-align: right;\">0.024</td><td style = \"text-align: right;\">0.003</td><td style = \"text-align: right;\">0.003</td><td style = \"text-align: right;\">0.028</td><td style = \"text-align: right;\">0.003</td><td style = \"text-align: right;\">0.009</td><td style = \"text-align: right;\">0.003</td><td style = \"text-align: right;\">0.009</td><td style = \"text-align: right;\">0.003</td><td style = \"text-align: right;\">0.028</td><td style = \"text-align: right;\">0.008</td><td style = \"text-align: right;\">0.025</td><td style = \"text-align: right;\">0.008</td><td style = \"text-align: right;\">0.009</td><td style = \"text-align: right;\">0.003</td><td style = \"text-align: right;\">0.114</td><td style = \"text-align: right;\">0.01</td><td style = \"text-align: right;\">0.034</td><td style = \"text-align: right;\">0.011</td><td style = \"text-align: right;\">0.003</td><td style = \"text-align: right;\">0.003</td><td style = \"text-align: right;\">0.008</td><td style = \"text-align: right;\">0.958</td><td style = \"text-align: right;\">0.008</td><td style = \"text-align: right;\">0.009</td><td style = \"text-align: right;\">0.003</td><td style = \"text-align: right;\">0.01</td><td style = \"text-align: right;\">0.032</td><td style = \"text-align: right;\">0.158</td><td style = \"text-align: right;\">0.009</td><td style = \"text-align: right;\">0.01</td><td style = \"text-align: right;\">0.032</td><td style = \"text-align: right;\">0.003</td><td style = \"text-align: right;\">0.009</td><td style = \"text-align: right;\">0.009</td><td style = \"text-align: right;\">0.92</td><td style = \"text-align: right;\">0.947</td><td style = \"text-align: right;\">0.01</td><td style = \"text-align: right;\">0.009</td><td style = \"text-align: right;\">0.01</td><td style = \"text-align: right;\">0.003</td></tr><tr><td class = \"rowNumber\" style = \"font-weight: bold; text-align: right;\">12</td><td style = \"text-align: right;\">1</td><td style = \"text-align: left;\">chr1:1151014</td><td style = \"text-align: right;\">1.15101</td><td style = \"text-align: right;\">1.15101</td><td style = \"text-align: right;\">1.997</td><td style = \"text-align: right;\">1.997</td><td style = \"text-align: right;\">1.998</td><td style = \"text-align: right;\">1.997</td><td style = \"text-align: right;\">1.998</td><td style = \"text-align: right;\">1.997</td><td style = \"text-align: right;\">1.995</td><td style = \"text-align: right;\">1.997</td><td style = \"text-align: right;\">1.998</td><td style = \"text-align: right;\">1.997</td><td style = \"text-align: right;\">1.995</td><td style = \"text-align: right;\">1.996</td><td style = \"text-align: right;\">1.054</td><td style = \"text-align: right;\">1.997</td><td style = \"text-align: right;\">1.004</td><td style = \"text-align: right;\">1.963</td><td style = \"text-align: right;\">1.997</td><td style = \"text-align: right;\">1.998</td><td style = \"text-align: right;\">1.963</td><td style = \"text-align: right;\">1.997</td><td style = \"text-align: right;\">1.039</td><td style = \"text-align: right;\">1.998</td><td style = \"text-align: right;\">1.996</td><td style = \"text-align: right;\">1.998</td><td style = \"text-align: right;\">1.997</td><td style = \"text-align: right;\">1.097</td><td style = \"text-align: right;\">1.997</td><td style = \"text-align: right;\">1.997</td><td style = \"text-align: right;\">1.997</td><td style = \"text-align: right;\">1.997</td><td style = \"text-align: right;\">1.996</td><td style = \"text-align: right;\">1.9389</td><td style = \"text-align: right;\">1.997</td><td style = \"text-align: right;\">1.963</td><td style = \"text-align: right;\">1.997</td><td style = \"text-align: right;\">1.998</td><td style = \"text-align: right;\">1.998</td><td style = \"text-align: right;\">1.938</td><td style = \"text-align: right;\">1.997</td><td style = \"text-align: right;\">1.997</td><td style = \"text-align: right;\">1.997</td><td style = \"text-align: right;\">1.998</td><td style = \"text-align: right;\">1.997</td><td style = \"text-align: right;\">1.998</td><td style = \"text-align: right;\">1.997</td><td style = \"text-align: right;\">1.998</td><td style = \"text-align: right;\">1.997</td><td style = \"text-align: right;\">1.998</td><td style = \"text-align: right;\">1.997</td><td style = \"text-align: right;\">1.997</td><td style = \"text-align: right;\">1.998</td><td style = \"text-align: right;\">1.997</td><td style = \"text-align: right;\">1.997</td><td style = \"text-align: right;\">1.998</td><td style = \"text-align: right;\">1.996</td><td style = \"text-align: right;\">1.997</td><td style = \"text-align: right;\">1.997</td><td style = \"text-align: right;\">1.997</td><td style = \"text-align: right;\">1.998</td><td style = \"text-align: right;\">1.998</td><td style = \"text-align: right;\">1.997</td><td style = \"text-align: right;\">1.043</td><td style = \"text-align: right;\">1.997</td><td style = \"text-align: right;\">1.997</td><td style = \"text-align: right;\">1.998</td><td style = \"text-align: right;\">1.997</td><td style = \"text-align: right;\">1.998</td><td style = \"text-align: right;\">1.995</td><td style = \"text-align: right;\">1.997</td><td style = \"text-align: right;\">1.997</td><td style = \"text-align: right;\">1.998</td><td style = \"text-align: right;\">1.998</td><td style = \"text-align: right;\">1.997</td><td style = \"text-align: right;\">1.997</td><td style = \"text-align: right;\">1.086</td><td style = \"text-align: right;\">1.054</td><td style = \"text-align: right;\">1.997</td><td style = \"text-align: right;\">1.997</td><td style = \"text-align: right;\">1.997</td><td style = \"text-align: right;\">1.998</td></tr><tr><td class = \"rowNumber\" style = \"font-weight: bold; text-align: right;\">13</td><td style = \"text-align: right;\">1</td><td style = \"text-align: left;\">chr1:1151294</td><td style = \"text-align: right;\">1.15129</td><td style = \"text-align: right;\">1.15129</td><td style = \"text-align: right;\">1.997</td><td style = \"text-align: right;\">1.997</td><td style = \"text-align: right;\">1.006</td><td style = \"text-align: right;\">1.997</td><td style = \"text-align: right;\">1.998</td><td style = \"text-align: right;\">1.997</td><td style = \"text-align: right;\">1.993</td><td style = \"text-align: right;\">1.997</td><td style = \"text-align: right;\">1.98</td><td style = \"text-align: right;\">1.997</td><td style = \"text-align: right;\">1.993</td><td style = \"text-align: right;\">1.995</td><td style = \"text-align: right;\">1.0</td><td style = \"text-align: right;\">1.997</td><td style = \"text-align: right;\">1.0</td><td style = \"text-align: right;\">1.132</td><td style = \"text-align: right;\">1.997</td><td style = \"text-align: right;\">1.998</td><td style = \"text-align: right;\">1.132</td><td style = \"text-align: right;\">1.997</td><td style = \"text-align: right;\">1.0</td><td style = \"text-align: right;\">1.998</td><td style = \"text-align: right;\">1.995</td><td style = \"text-align: right;\">1.998</td><td style = \"text-align: right;\">1.997</td><td style = \"text-align: right;\">1.0</td><td style = \"text-align: right;\">1.997</td><td style = \"text-align: right;\">1.997</td><td style = \"text-align: right;\">1.997</td><td style = \"text-align: right;\">1.997</td><td style = \"text-align: right;\">1.993</td><td style = \"text-align: right;\">1.1702</td><td style = \"text-align: right;\">1.997</td><td style = \"text-align: right;\">1.132</td><td style = \"text-align: right;\">1.833</td><td style = \"text-align: right;\">1.998</td><td style = \"text-align: right;\">1.998</td><td style = \"text-align: right;\">1.16718</td><td style = \"text-align: right;\">1.997</td><td style = \"text-align: right;\">1.997</td><td style = \"text-align: right;\">1.886</td><td style = \"text-align: right;\">1.998</td><td style = \"text-align: right;\">1.997</td><td style = \"text-align: right;\">1.998</td><td style = \"text-align: right;\">1.997</td><td style = \"text-align: right;\">1.998</td><td style = \"text-align: right;\">1.997</td><td style = \"text-align: right;\">1.998</td><td style = \"text-align: right;\">1.997</td><td style = \"text-align: right;\">1.997</td><td style = \"text-align: right;\">1.981</td><td style = \"text-align: right;\">1.997</td><td style = \"text-align: right;\">1.997</td><td style = \"text-align: right;\">1.998</td><td style = \"text-align: right;\">1.995</td><td style = \"text-align: right;\">1.997</td><td style = \"text-align: right;\">1.997</td><td style = \"text-align: right;\">1.997</td><td style = \"text-align: right;\">1.998</td><td style = \"text-align: right;\">1.998</td><td style = \"text-align: right;\">1.997</td><td style = \"text-align: right;\">1.0</td><td style = \"text-align: right;\">1.997</td><td style = \"text-align: right;\">1.997</td><td style = \"text-align: right;\">1.998</td><td style = \"text-align: right;\">1.997</td><td style = \"text-align: right;\">1.998</td><td style = \"text-align: right;\">1.992</td><td style = \"text-align: right;\">1.997</td><td style = \"text-align: right;\">1.997</td><td style = \"text-align: right;\">1.998</td><td style = \"text-align: right;\">1.998</td><td style = \"text-align: right;\">1.997</td><td style = \"text-align: right;\">1.997</td><td style = \"text-align: right;\">1.0</td><td style = \"text-align: right;\">1.0</td><td style = \"text-align: right;\">1.997</td><td style = \"text-align: right;\">1.997</td><td style = \"text-align: right;\">1.997</td><td style = \"text-align: right;\">1.998</td></tr><tr><td style = \"text-align: right;\">&vellip;</td><td style = \"text-align: right;\">&vellip;</td><td style = \"text-align: right;\">&vellip;</td><td style = \"text-align: right;\">&vellip;</td><td style = \"text-align: right;\">&vellip;</td><td style = \"text-align: right;\">&vellip;</td><td style = \"text-align: right;\">&vellip;</td><td style = \"text-align: right;\">&vellip;</td><td style = \"text-align: right;\">&vellip;</td><td style = \"text-align: right;\">&vellip;</td><td style = \"text-align: right;\">&vellip;</td><td style = \"text-align: right;\">&vellip;</td><td style = \"text-align: right;\">&vellip;</td><td style = \"text-align: right;\">&vellip;</td><td style = \"text-align: right;\">&vellip;</td><td style = \"text-align: right;\">&vellip;</td><td style = \"text-align: right;\">&vellip;</td><td style = \"text-align: right;\">&vellip;</td><td style = \"text-align: right;\">&vellip;</td><td style = \"text-align: right;\">&vellip;</td><td style = \"text-align: right;\">&vellip;</td><td style = \"text-align: right;\">&vellip;</td><td style = \"text-align: right;\">&vellip;</td><td style = \"text-align: right;\">&vellip;</td><td style = \"text-align: right;\">&vellip;</td><td style = \"text-align: right;\">&vellip;</td><td style = \"text-align: right;\">&vellip;</td><td style = \"text-align: right;\">&vellip;</td><td style = \"text-align: right;\">&vellip;</td><td style = \"text-align: right;\">&vellip;</td><td style = \"text-align: right;\">&vellip;</td><td style = \"text-align: right;\">&vellip;</td><td style = \"text-align: right;\">&vellip;</td><td style = \"text-align: right;\">&vellip;</td><td style = \"text-align: right;\">&vellip;</td><td style = \"text-align: right;\">&vellip;</td><td style = \"text-align: right;\">&vellip;</td><td style = \"text-align: right;\">&vellip;</td><td style = \"text-align: right;\">&vellip;</td><td style = \"text-align: right;\">&vellip;</td><td style = \"text-align: right;\">&vellip;</td><td style = \"text-align: right;\">&vellip;</td><td style = \"text-align: right;\">&vellip;</td><td style = \"text-align: right;\">&vellip;</td><td style = \"text-align: right;\">&vellip;</td><td style = \"text-align: right;\">&vellip;</td><td style = \"text-align: right;\">&vellip;</td><td style = \"text-align: right;\">&vellip;</td><td style = \"text-align: right;\">&vellip;</td><td style = \"text-align: right;\">&vellip;</td><td style = \"text-align: right;\">&vellip;</td><td style = \"text-align: right;\">&vellip;</td><td style = \"text-align: right;\">&vellip;</td><td style = \"text-align: right;\">&vellip;</td><td style = \"text-align: right;\">&vellip;</td><td style = \"text-align: right;\">&vellip;</td><td style = \"text-align: right;\">&vellip;</td><td style = \"text-align: right;\">&vellip;</td><td style = \"text-align: right;\">&vellip;</td><td style = \"text-align: right;\">&vellip;</td><td style = \"text-align: right;\">&vellip;</td><td style = \"text-align: right;\">&vellip;</td><td style = \"text-align: right;\">&vellip;</td><td style = \"text-align: right;\">&vellip;</td><td style = \"text-align: right;\">&vellip;</td><td style = \"text-align: right;\">&vellip;</td><td style = \"text-align: right;\">&vellip;</td><td style = \"text-align: right;\">&vellip;</td><td style = \"text-align: right;\">&vellip;</td><td style = \"text-align: right;\">&vellip;</td><td style = \"text-align: right;\">&vellip;</td><td style = \"text-align: right;\">&vellip;</td><td style = \"text-align: right;\">&vellip;</td><td style = \"text-align: right;\">&vellip;</td><td style = \"text-align: right;\">&vellip;</td><td style = \"text-align: right;\">&vellip;</td><td style = \"text-align: right;\">&vellip;</td><td style = \"text-align: right;\">&vellip;</td><td style = \"text-align: right;\">&vellip;</td><td style = \"text-align: right;\">&vellip;</td><td style = \"text-align: right;\">&vellip;</td><td style = \"text-align: right;\">&vellip;</td><td style = \"text-align: right;\">&vellip;</td><td style = \"text-align: right;\">&vellip;</td><td style = \"text-align: right;\">&vellip;</td></tr><tr><td class = \"rowNumber\" style = \"font-weight: bold; text-align: right;\">134670</td><td style = \"text-align: right;\">20</td><td style = \"text-align: left;\">chr20:55641278</td><td style = \"text-align: right;\">55.6413</td><td style = \"text-align: right;\">55.6413</td><td style = \"text-align: right;\">1.917</td><td style = \"text-align: right;\">1.917</td><td style = \"text-align: right;\">1.917</td><td style = \"text-align: right;\">1.917</td><td style = \"text-align: right;\">1.979</td><td style = \"text-align: right;\">1.917</td><td style = \"text-align: right;\">1.917</td><td style = \"text-align: right;\">1.917</td><td style = \"text-align: right;\">1.917</td><td style = \"text-align: right;\">1.917</td><td style = \"text-align: right;\">1.917</td><td style = \"text-align: right;\">1.917</td><td style = \"text-align: right;\">1.917</td><td style = \"text-align: right;\">1.917</td><td style = \"text-align: right;\">1.917</td><td style = \"text-align: right;\">1.917</td><td style = \"text-align: right;\">1.917</td><td style = \"text-align: right;\">1.917</td><td style = \"text-align: right;\">1.917</td><td style = \"text-align: right;\">1.917</td><td style = \"text-align: right;\">1.917</td><td style = \"text-align: right;\">1.917</td><td style = \"text-align: right;\">1.917</td><td style = \"text-align: right;\">1.917</td><td style = \"text-align: right;\">1.917</td><td style = \"text-align: right;\">1.917</td><td style = \"text-align: right;\">1.917</td><td style = \"text-align: right;\">1.917</td><td style = \"text-align: right;\">1.917</td><td style = \"text-align: right;\">1.917</td><td style = \"text-align: right;\">1.917</td><td style = \"text-align: right;\">1.917</td><td style = \"text-align: right;\">1.917</td><td style = \"text-align: right;\">1.917</td><td style = \"text-align: right;\">1.917</td><td style = \"text-align: right;\">1.917</td><td style = \"text-align: right;\">1.917</td><td style = \"text-align: right;\">1.917</td><td style = \"text-align: right;\">1.917</td><td style = \"text-align: right;\">1.917</td><td style = \"text-align: right;\">0.96</td><td style = \"text-align: right;\">1.917</td><td style = \"text-align: right;\">1.917</td><td style = \"text-align: right;\">1.917</td><td style = \"text-align: right;\">1.917</td><td style = \"text-align: right;\">1.917</td><td style = \"text-align: right;\">1.917</td><td style = \"text-align: right;\">1.917</td><td style = \"text-align: right;\">1.917</td><td style = \"text-align: right;\">1.917</td><td style = \"text-align: right;\">1.917</td><td style = \"text-align: right;\">1.917</td><td style = \"text-align: right;\">1.917</td><td style = \"text-align: right;\">1.917</td><td style = \"text-align: right;\">1.917</td><td style = \"text-align: right;\">1.917</td><td style = \"text-align: right;\">1.917</td><td style = \"text-align: right;\">1.917</td><td style = \"text-align: right;\">1.917</td><td style = \"text-align: right;\">1.917</td><td style = \"text-align: right;\">1.917</td><td style = \"text-align: right;\">1.917</td><td style = \"text-align: right;\">1.917</td><td style = \"text-align: right;\">1.917</td><td style = \"text-align: right;\">1.917</td><td style = \"text-align: right;\">1.917</td><td style = \"text-align: right;\">1.91498</td><td style = \"text-align: right;\">1.917</td><td style = \"text-align: right;\">1.917</td><td style = \"text-align: right;\">1.917</td><td style = \"text-align: right;\">1.917</td><td style = \"text-align: right;\">1.917</td><td style = \"text-align: right;\">1.917</td><td style = \"text-align: right;\">1.917</td><td style = \"text-align: right;\">1.917</td><td style = \"text-align: right;\">1.917</td><td style = \"text-align: right;\">1.917</td><td style = \"text-align: right;\">1.917</td><td style = \"text-align: right;\">1.917</td><td style = \"text-align: right;\">1.917</td></tr><tr><td class = \"rowNumber\" style = \"font-weight: bold; text-align: right;\">134671</td><td style = \"text-align: right;\">20</td><td style = \"text-align: left;\">chr20:55644746</td><td style = \"text-align: right;\">55.6447</td><td style = \"text-align: right;\">55.6447</td><td style = \"text-align: right;\">1.99</td><td style = \"text-align: right;\">1.99</td><td style = \"text-align: right;\">1.99</td><td style = \"text-align: right;\">1.99</td><td style = \"text-align: right;\">1.022</td><td style = \"text-align: right;\">1.99</td><td style = \"text-align: right;\">1.99</td><td style = \"text-align: right;\">1.99</td><td style = \"text-align: right;\">1.99</td><td style = \"text-align: right;\">1.99</td><td style = \"text-align: right;\">1.99</td><td style = \"text-align: right;\">1.99</td><td style = \"text-align: right;\">1.99</td><td style = \"text-align: right;\">1.99</td><td style = \"text-align: right;\">1.99</td><td style = \"text-align: right;\">1.99</td><td style = \"text-align: right;\">1.99</td><td style = \"text-align: right;\">1.99</td><td style = \"text-align: right;\">1.99</td><td style = \"text-align: right;\">1.99</td><td style = \"text-align: right;\">1.99</td><td style = \"text-align: right;\">1.99</td><td style = \"text-align: right;\">1.99</td><td style = \"text-align: right;\">1.99</td><td style = \"text-align: right;\">1.99</td><td style = \"text-align: right;\">1.99</td><td style = \"text-align: right;\">1.99</td><td style = \"text-align: right;\">1.99</td><td style = \"text-align: right;\">1.99</td><td style = \"text-align: right;\">1.99</td><td style = \"text-align: right;\">1.99</td><td style = \"text-align: right;\">1.99</td><td style = \"text-align: right;\">1.99</td><td style = \"text-align: right;\">1.99</td><td style = \"text-align: right;\">1.99</td><td style = \"text-align: right;\">1.99</td><td style = \"text-align: right;\">1.99</td><td style = \"text-align: right;\">1.99</td><td style = \"text-align: right;\">1.99</td><td style = \"text-align: right;\">1.99</td><td style = \"text-align: right;\">0.996</td><td style = \"text-align: right;\">1.99</td><td style = \"text-align: right;\">1.99</td><td style = \"text-align: right;\">1.99</td><td style = \"text-align: right;\">1.99</td><td style = \"text-align: right;\">1.99</td><td style = \"text-align: right;\">1.99</td><td style = \"text-align: right;\">1.99</td><td style = \"text-align: right;\">1.99</td><td style = \"text-align: right;\">1.99</td><td style = \"text-align: right;\">1.99</td><td style = \"text-align: right;\">1.99</td><td style = \"text-align: right;\">1.99</td><td style = \"text-align: right;\">1.99</td><td style = \"text-align: right;\">1.99</td><td style = \"text-align: right;\">1.99</td><td style = \"text-align: right;\">1.99</td><td style = \"text-align: right;\">1.99</td><td style = \"text-align: right;\">1.99</td><td style = \"text-align: right;\">1.99</td><td style = \"text-align: right;\">1.99</td><td style = \"text-align: right;\">1.99</td><td style = \"text-align: right;\">1.99</td><td style = \"text-align: right;\">1.99</td><td style = \"text-align: right;\">1.99</td><td style = \"text-align: right;\">1.99</td><td style = \"text-align: right;\">1.99</td><td style = \"text-align: right;\">1.99</td><td style = \"text-align: right;\">1.99</td><td style = \"text-align: right;\">1.99</td><td style = \"text-align: right;\">1.99</td><td style = \"text-align: right;\">1.99</td><td style = \"text-align: right;\">1.99</td><td style = \"text-align: right;\">1.99</td><td style = \"text-align: right;\">1.99</td><td style = \"text-align: right;\">1.99</td><td style = \"text-align: right;\">1.99</td><td style = \"text-align: right;\">1.99</td><td style = \"text-align: right;\">1.99</td><td style = \"text-align: right;\">1.99</td></tr><tr><td class = \"rowNumber\" style = \"font-weight: bold; text-align: right;\">134672</td><td style = \"text-align: right;\">20</td><td style = \"text-align: left;\">chr20:55659520</td><td style = \"text-align: right;\">55.6595</td><td style = \"text-align: right;\">55.6595</td><td style = \"text-align: right;\">1.913</td><td style = \"text-align: right;\">1.913</td><td style = \"text-align: right;\">1.913</td><td style = \"text-align: right;\">1.913</td><td style = \"text-align: right;\">0.08002</td><td style = \"text-align: right;\">1.913</td><td style = \"text-align: right;\">1.913</td><td style = \"text-align: right;\">1.913</td><td style = \"text-align: right;\">1.913</td><td style = \"text-align: right;\">1.913</td><td style = \"text-align: right;\">1.913</td><td style = \"text-align: right;\">1.913</td><td style = \"text-align: right;\">1.913</td><td style = \"text-align: right;\">1.9139</td><td style = \"text-align: right;\">1.913</td><td style = \"text-align: right;\">1.913</td><td style = \"text-align: right;\">1.913</td><td style = \"text-align: right;\">1.913</td><td style = \"text-align: right;\">1.913</td><td style = \"text-align: right;\">1.913</td><td style = \"text-align: right;\">1.913</td><td style = \"text-align: right;\">1.913</td><td style = \"text-align: right;\">1.913</td><td style = \"text-align: right;\">1.913</td><td style = \"text-align: right;\">1.913</td><td style = \"text-align: right;\">1.913</td><td style = \"text-align: right;\">1.913</td><td style = \"text-align: right;\">1.913</td><td style = \"text-align: right;\">1.913</td><td style = \"text-align: right;\">1.913</td><td style = \"text-align: right;\">1.913</td><td style = \"text-align: right;\">1.913</td><td style = \"text-align: right;\">1.913</td><td style = \"text-align: right;\">1.913</td><td style = \"text-align: right;\">1.913</td><td style = \"text-align: right;\">1.913</td><td style = \"text-align: right;\">1.913</td><td style = \"text-align: right;\">1.913</td><td style = \"text-align: right;\">1.913</td><td style = \"text-align: right;\">1.913</td><td style = \"text-align: right;\">0.95795</td><td style = \"text-align: right;\">1.913</td><td style = \"text-align: right;\">1.913</td><td style = \"text-align: right;\">1.913</td><td style = \"text-align: right;\">1.913</td><td style = \"text-align: right;\">1.913</td><td style = \"text-align: right;\">1.913</td><td style = \"text-align: right;\">1.913</td><td style = \"text-align: right;\">1.913</td><td style = \"text-align: right;\">1.913</td><td style = \"text-align: right;\">1.913</td><td style = \"text-align: right;\">1.913</td><td style = \"text-align: right;\">1.913</td><td style = \"text-align: right;\">1.913</td><td style = \"text-align: right;\">1.913</td><td style = \"text-align: right;\">1.913</td><td style = \"text-align: right;\">1.913</td><td style = \"text-align: right;\">1.913</td><td style = \"text-align: right;\">1.913</td><td style = \"text-align: right;\">1.913</td><td style = \"text-align: right;\">1.913</td><td style = \"text-align: right;\">1.913</td><td style = \"text-align: right;\">1.913</td><td style = \"text-align: right;\">1.913</td><td style = \"text-align: right;\">1.913</td><td style = \"text-align: right;\">1.913</td><td style = \"text-align: right;\">1.912</td><td style = \"text-align: right;\">1.913</td><td style = \"text-align: right;\">1.913</td><td style = \"text-align: right;\">1.913</td><td style = \"text-align: right;\">1.913</td><td style = \"text-align: right;\">1.913</td><td style = \"text-align: right;\">1.913</td><td style = \"text-align: right;\">1.913</td><td style = \"text-align: right;\">1.913</td><td style = \"text-align: right;\">1.913</td><td style = \"text-align: right;\">1.913</td><td style = \"text-align: right;\">1.913</td><td style = \"text-align: right;\">1.913</td><td style = \"text-align: right;\">1.913</td></tr><tr><td class = \"rowNumber\" style = \"font-weight: bold; text-align: right;\">134673</td><td style = \"text-align: right;\">20</td><td style = \"text-align: left;\">chr20:55716379</td><td style = \"text-align: right;\">55.7164</td><td style = \"text-align: right;\">55.7164</td><td style = \"text-align: right;\">0.004</td><td style = \"text-align: right;\">0.004</td><td style = \"text-align: right;\">0.004</td><td style = \"text-align: right;\">0.004</td><td style = \"text-align: right;\">0.022</td><td style = \"text-align: right;\">0.004</td><td style = \"text-align: right;\">0.004</td><td style = \"text-align: right;\">0.004</td><td style = \"text-align: right;\">0.004</td><td style = \"text-align: right;\">0.004</td><td style = \"text-align: right;\">0.004</td><td style = \"text-align: right;\">0.004</td><td style = \"text-align: right;\">0.004</td><td style = \"text-align: right;\">0.004</td><td style = \"text-align: right;\">0.004</td><td style = \"text-align: right;\">0.004</td><td style = \"text-align: right;\">0.004</td><td style = \"text-align: right;\">0.004</td><td style = \"text-align: right;\">0.004</td><td style = \"text-align: right;\">0.004</td><td style = \"text-align: right;\">0.004</td><td style = \"text-align: right;\">0.004</td><td style = \"text-align: right;\">0.004</td><td style = \"text-align: right;\">0.004</td><td style = \"text-align: right;\">0.004</td><td style = \"text-align: right;\">0.004</td><td style = \"text-align: right;\">0.004</td><td style = \"text-align: right;\">0.004</td><td style = \"text-align: right;\">0.004</td><td style = \"text-align: right;\">0.004</td><td style = \"text-align: right;\">0.004</td><td style = \"text-align: right;\">0.004</td><td style = \"text-align: right;\">0.004</td><td style = \"text-align: right;\">0.004</td><td style = \"text-align: right;\">0.004</td><td style = \"text-align: right;\">0.004</td><td style = \"text-align: right;\">0.004</td><td style = \"text-align: right;\">0.004</td><td style = \"text-align: right;\">0.004</td><td style = \"text-align: right;\">0.004</td><td style = \"text-align: right;\">1.0</td><td style = \"text-align: right;\">0.004</td><td style = \"text-align: right;\">0.004</td><td style = \"text-align: right;\">0.004</td><td style = \"text-align: right;\">0.004</td><td style = \"text-align: right;\">0.004</td><td style = \"text-align: right;\">0.004</td><td style = \"text-align: right;\">0.004</td><td style = \"text-align: right;\">0.004</td><td style = \"text-align: right;\">0.004</td><td style = \"text-align: right;\">0.004</td><td style = \"text-align: right;\">0.004</td><td style = \"text-align: right;\">0.004</td><td style = \"text-align: right;\">0.004</td><td style = \"text-align: right;\">0.004</td><td style = \"text-align: right;\">0.004</td><td style = \"text-align: right;\">0.004</td><td style = \"text-align: right;\">0.004</td><td style = \"text-align: right;\">0.004</td><td style = \"text-align: right;\">0.004</td><td style = \"text-align: right;\">0.004</td><td style = \"text-align: right;\">0.004</td><td style = \"text-align: right;\">0.004</td><td style = \"text-align: right;\">0.004</td><td style = \"text-align: right;\">0.004</td><td style = \"text-align: right;\">0.004</td><td style = \"text-align: right;\">0.004</td><td style = \"text-align: right;\">0.004</td><td style = \"text-align: right;\">0.004</td><td style = \"text-align: right;\">0.004</td><td style = \"text-align: right;\">0.004</td><td style = \"text-align: right;\">0.004</td><td style = \"text-align: right;\">0.004</td><td style = \"text-align: right;\">0.004</td><td style = \"text-align: right;\">0.004</td><td style = \"text-align: right;\">0.004</td><td style = \"text-align: right;\">0.004</td><td style = \"text-align: right;\">0.004</td><td style = \"text-align: right;\">0.004</td><td style = \"text-align: right;\">0.004</td></tr><tr><td class = \"rowNumber\" style = \"font-weight: bold; text-align: right;\">134674</td><td style = \"text-align: right;\">20</td><td style = \"text-align: left;\">chr20:55744179</td><td style = \"text-align: right;\">55.7442</td><td style = \"text-align: right;\">55.7442</td><td style = \"text-align: right;\">2.0</td><td style = \"text-align: right;\">2.0</td><td style = \"text-align: right;\">2.0</td><td style = \"text-align: right;\">2.0</td><td style = \"text-align: right;\">1.0</td><td style = \"text-align: right;\">2.0</td><td style = \"text-align: right;\">2.0</td><td style = \"text-align: right;\">2.0</td><td style = \"text-align: right;\">2.0</td><td style = \"text-align: right;\">2.0</td><td style = \"text-align: right;\">2.0</td><td style = \"text-align: right;\">2.0</td><td style = \"text-align: right;\">2.0</td><td style = \"text-align: right;\">2.0</td><td style = \"text-align: right;\">2.0</td><td style = \"text-align: right;\">2.0</td><td style = \"text-align: right;\">2.0</td><td style = \"text-align: right;\">2.0</td><td style = \"text-align: right;\">2.0</td><td style = \"text-align: right;\">2.0</td><td style = \"text-align: right;\">2.0</td><td style = \"text-align: right;\">2.0</td><td style = \"text-align: right;\">2.0</td><td style = \"text-align: right;\">2.0</td><td style = \"text-align: right;\">2.0</td><td style = \"text-align: right;\">2.0</td><td style = \"text-align: right;\">2.0</td><td style = \"text-align: right;\">2.0</td><td style = \"text-align: right;\">2.0</td><td style = \"text-align: right;\">2.0</td><td style = \"text-align: right;\">2.0</td><td style = \"text-align: right;\">2.0</td><td style = \"text-align: right;\">2.0</td><td style = \"text-align: right;\">2.0</td><td style = \"text-align: right;\">2.0</td><td style = \"text-align: right;\">2.0</td><td style = \"text-align: right;\">2.0</td><td style = \"text-align: right;\">2.0</td><td style = \"text-align: right;\">2.0</td><td style = \"text-align: right;\">2.0</td><td style = \"text-align: right;\">1.0</td><td style = \"text-align: right;\">2.0</td><td style = \"text-align: right;\">2.0</td><td style = \"text-align: right;\">2.0</td><td style = \"text-align: right;\">2.0</td><td style = \"text-align: right;\">2.0</td><td style = \"text-align: right;\">2.0</td><td style = \"text-align: right;\">2.0</td><td style = \"text-align: right;\">2.0</td><td style = \"text-align: right;\">2.0</td><td style = \"text-align: right;\">2.0</td><td style = \"text-align: right;\">2.0</td><td style = \"text-align: right;\">2.0</td><td style = \"text-align: right;\">2.0</td><td style = \"text-align: right;\">2.0</td><td style = \"text-align: right;\">2.0</td><td style = \"text-align: right;\">2.0</td><td style = \"text-align: right;\">2.0</td><td style = \"text-align: right;\">2.0</td><td style = \"text-align: right;\">2.0</td><td style = \"text-align: right;\">2.0</td><td style = \"text-align: right;\">2.0</td><td style = \"text-align: right;\">2.0</td><td style = \"text-align: right;\">2.0</td><td style = \"text-align: right;\">2.0</td><td style = \"text-align: right;\">2.0</td><td style = \"text-align: right;\">2.0</td><td style = \"text-align: right;\">2.0</td><td style = \"text-align: right;\">2.0</td><td style = \"text-align: right;\">2.0</td><td style = \"text-align: right;\">2.0</td><td style = \"text-align: right;\">2.0</td><td style = \"text-align: right;\">2.0</td><td style = \"text-align: right;\">2.0</td><td style = \"text-align: right;\">2.0</td><td style = \"text-align: right;\">2.0</td><td style = \"text-align: right;\">2.0</td><td style = \"text-align: right;\">2.0</td><td style = \"text-align: right;\">2.0</td><td style = \"text-align: right;\">2.0</td></tr><tr><td class = \"rowNumber\" style = \"font-weight: bold; text-align: right;\">134675</td><td style = \"text-align: right;\">20</td><td style = \"text-align: left;\">chr20:55773139</td><td style = \"text-align: right;\">55.7731</td><td style = \"text-align: right;\">55.7731</td><td style = \"text-align: right;\">1.913</td><td style = \"text-align: right;\">1.913</td><td style = \"text-align: right;\">1.913</td><td style = \"text-align: right;\">1.913</td><td style = \"text-align: right;\">0.92902</td><td style = \"text-align: right;\">1.913</td><td style = \"text-align: right;\">1.913</td><td style = \"text-align: right;\">1.913</td><td style = \"text-align: right;\">1.913</td><td style = \"text-align: right;\">1.913</td><td style = \"text-align: right;\">1.913</td><td style = \"text-align: right;\">1.913</td><td style = \"text-align: right;\">1.913</td><td style = \"text-align: right;\">1.913</td><td style = \"text-align: right;\">1.91205</td><td style = \"text-align: right;\">1.913</td><td style = \"text-align: right;\">1.913</td><td style = \"text-align: right;\">1.913</td><td style = \"text-align: right;\">1.913</td><td style = \"text-align: right;\">1.913</td><td style = \"text-align: right;\">1.913</td><td style = \"text-align: right;\">1.913</td><td style = \"text-align: right;\">1.913</td><td style = \"text-align: right;\">1.913</td><td style = \"text-align: right;\">1.913</td><td style = \"text-align: right;\">1.913</td><td style = \"text-align: right;\">1.913</td><td style = \"text-align: right;\">1.913</td><td style = \"text-align: right;\">1.91205</td><td style = \"text-align: right;\">1.913</td><td style = \"text-align: right;\">1.913</td><td style = \"text-align: right;\">1.913</td><td style = \"text-align: right;\">1.913</td><td style = \"text-align: right;\">1.913</td><td style = \"text-align: right;\">1.913</td><td style = \"text-align: right;\">1.913</td><td style = \"text-align: right;\">1.913</td><td style = \"text-align: right;\">1.913</td><td style = \"text-align: right;\">1.913</td><td style = \"text-align: right;\">1.913</td><td style = \"text-align: right;\">0.959</td><td style = \"text-align: right;\">1.913</td><td style = \"text-align: right;\">1.913</td><td style = \"text-align: right;\">1.913</td><td style = \"text-align: right;\">1.913</td><td style = \"text-align: right;\">1.913</td><td style = \"text-align: right;\">1.913</td><td style = \"text-align: right;\">1.913</td><td style = \"text-align: right;\">1.913</td><td style = \"text-align: right;\">1.913</td><td style = \"text-align: right;\">1.913</td><td style = \"text-align: right;\">1.913</td><td style = \"text-align: right;\">1.913</td><td style = \"text-align: right;\">1.913</td><td style = \"text-align: right;\">1.913</td><td style = \"text-align: right;\">1.913</td><td style = \"text-align: right;\">1.913</td><td style = \"text-align: right;\">1.913</td><td style = \"text-align: right;\">1.913</td><td style = \"text-align: right;\">1.913</td><td style = \"text-align: right;\">1.913</td><td style = \"text-align: right;\">1.913</td><td style = \"text-align: right;\">1.913</td><td style = \"text-align: right;\">1.913</td><td style = \"text-align: right;\">1.91205</td><td style = \"text-align: right;\">1.913</td><td style = \"text-align: right;\">1.911</td><td style = \"text-align: right;\">1.913</td><td style = \"text-align: right;\">1.913</td><td style = \"text-align: right;\">1.913</td><td style = \"text-align: right;\">1.913</td><td style = \"text-align: right;\">1.913</td><td style = \"text-align: right;\">1.913</td><td style = \"text-align: right;\">1.913</td><td style = \"text-align: right;\">1.913</td><td style = \"text-align: right;\">1.913</td><td style = \"text-align: right;\">1.91205</td><td style = \"text-align: right;\">1.913</td><td style = \"text-align: right;\">1.913</td><td style = \"text-align: right;\">1.913</td></tr><tr><td class = \"rowNumber\" style = \"font-weight: bold; text-align: right;\">134676</td><td style = \"text-align: right;\">20</td><td style = \"text-align: left;\">chr20:55818290</td><td style = \"text-align: right;\">55.8183</td><td style = \"text-align: right;\">55.8183</td><td style = \"text-align: right;\">1.89703</td><td style = \"text-align: right;\">1.89703</td><td style = \"text-align: right;\">1.89703</td><td style = \"text-align: right;\">1.89703</td><td style = \"text-align: right;\">0.9049</td><td style = \"text-align: right;\">1.89703</td><td style = \"text-align: right;\">1.89703</td><td style = \"text-align: right;\">1.89703</td><td style = \"text-align: right;\">1.89703</td><td style = \"text-align: right;\">1.89703</td><td style = \"text-align: right;\">1.89703</td><td style = \"text-align: right;\">1.89703</td><td style = \"text-align: right;\">1.89703</td><td style = \"text-align: right;\">1.90485</td><td style = \"text-align: right;\">1.89703</td><td style = \"text-align: right;\">1.89703</td><td style = \"text-align: right;\">1.89703</td><td style = \"text-align: right;\">1.89703</td><td style = \"text-align: right;\">1.89703</td><td style = \"text-align: right;\">1.89703</td><td style = \"text-align: right;\">1.89703</td><td style = \"text-align: right;\">1.89703</td><td style = \"text-align: right;\">1.89703</td><td style = \"text-align: right;\">1.89703</td><td style = \"text-align: right;\">1.89703</td><td style = \"text-align: right;\">1.89703</td><td style = \"text-align: right;\">1.89703</td><td style = \"text-align: right;\">1.89703</td><td style = \"text-align: right;\">1.89703</td><td style = \"text-align: right;\">1.89703</td><td style = \"text-align: right;\">1.89703</td><td style = \"text-align: right;\">1.89703</td><td style = \"text-align: right;\">1.89703</td><td style = \"text-align: right;\">1.89716</td><td style = \"text-align: right;\">1.89703</td><td style = \"text-align: right;\">1.89703</td><td style = \"text-align: right;\">1.89703</td><td style = \"text-align: right;\">1.89703</td><td style = \"text-align: right;\">1.89703</td><td style = \"text-align: right;\">1.89703</td><td style = \"text-align: right;\">0.95502</td><td style = \"text-align: right;\">1.89703</td><td style = \"text-align: right;\">1.89703</td><td style = \"text-align: right;\">1.89703</td><td style = \"text-align: right;\">1.89703</td><td style = \"text-align: right;\">1.89703</td><td style = \"text-align: right;\">1.89703</td><td style = \"text-align: right;\">1.89703</td><td style = \"text-align: right;\">1.89703</td><td style = \"text-align: right;\">1.89703</td><td style = \"text-align: right;\">1.89703</td><td style = \"text-align: right;\">1.89703</td><td style = \"text-align: right;\">1.89703</td><td style = \"text-align: right;\">1.89703</td><td style = \"text-align: right;\">1.89703</td><td style = \"text-align: right;\">1.89703</td><td style = \"text-align: right;\">1.89703</td><td style = \"text-align: right;\">1.89703</td><td style = \"text-align: right;\">1.89703</td><td style = \"text-align: right;\">1.89703</td><td style = \"text-align: right;\">1.89703</td><td style = \"text-align: right;\">1.89703</td><td style = \"text-align: right;\">1.89703</td><td style = \"text-align: right;\">1.89703</td><td style = \"text-align: right;\">1.89703</td><td style = \"text-align: right;\">1.89703</td><td style = \"text-align: right;\">1.89703</td><td style = \"text-align: right;\">1.89703</td><td style = \"text-align: right;\">1.89703</td><td style = \"text-align: right;\">1.89703</td><td style = \"text-align: right;\">1.89703</td><td style = \"text-align: right;\">1.89703</td><td style = \"text-align: right;\">1.89703</td><td style = \"text-align: right;\">1.89703</td><td style = \"text-align: right;\">1.89703</td><td style = \"text-align: right;\">1.89703</td><td style = \"text-align: right;\">1.89703</td><td style = \"text-align: right;\">1.89703</td><td style = \"text-align: right;\">1.89703</td><td style = \"text-align: right;\">1.89703</td></tr><tr><td class = \"rowNumber\" style = \"font-weight: bold; text-align: right;\">134677</td><td style = \"text-align: right;\">20</td><td style = \"text-align: left;\">chr20:55944342</td><td style = \"text-align: right;\">55.9443</td><td style = \"text-align: right;\">55.9443</td><td style = \"text-align: right;\">2.0</td><td style = \"text-align: right;\">2.0</td><td style = \"text-align: right;\">2.0</td><td style = \"text-align: right;\">2.0</td><td style = \"text-align: right;\">1.0</td><td style = \"text-align: right;\">2.0</td><td style = \"text-align: right;\">2.0</td><td style = \"text-align: right;\">2.0</td><td style = \"text-align: right;\">2.0</td><td style = \"text-align: right;\">2.0</td><td style = \"text-align: right;\">2.0</td><td style = \"text-align: right;\">2.0</td><td style = \"text-align: right;\">2.0</td><td style = \"text-align: right;\">2.0</td><td style = \"text-align: right;\">2.0</td><td style = \"text-align: right;\">2.0</td><td style = \"text-align: right;\">2.0</td><td style = \"text-align: right;\">2.0</td><td style = \"text-align: right;\">2.0</td><td style = \"text-align: right;\">2.0</td><td style = \"text-align: right;\">2.0</td><td style = \"text-align: right;\">2.0</td><td style = \"text-align: right;\">2.0</td><td style = \"text-align: right;\">2.0</td><td style = \"text-align: right;\">2.0</td><td style = \"text-align: right;\">2.0</td><td style = \"text-align: right;\">2.0</td><td style = \"text-align: right;\">2.0</td><td style = \"text-align: right;\">2.0</td><td style = \"text-align: right;\">2.0</td><td style = \"text-align: right;\">2.0</td><td style = \"text-align: right;\">2.0</td><td style = \"text-align: right;\">2.0</td><td style = \"text-align: right;\">2.0</td><td style = \"text-align: right;\">2.0</td><td style = \"text-align: right;\">2.0</td><td style = \"text-align: right;\">2.0</td><td style = \"text-align: right;\">2.0</td><td style = \"text-align: right;\">2.0</td><td style = \"text-align: right;\">2.0</td><td style = \"text-align: right;\">1.0</td><td style = \"text-align: right;\">2.0</td><td style = \"text-align: right;\">2.0</td><td style = \"text-align: right;\">2.0</td><td style = \"text-align: right;\">2.0</td><td style = \"text-align: right;\">2.0</td><td style = \"text-align: right;\">2.0</td><td style = \"text-align: right;\">2.0</td><td style = \"text-align: right;\">2.0</td><td style = \"text-align: right;\">2.0</td><td style = \"text-align: right;\">2.0</td><td style = \"text-align: right;\">2.0</td><td style = \"text-align: right;\">2.0</td><td style = \"text-align: right;\">2.0</td><td style = \"text-align: right;\">2.0</td><td style = \"text-align: right;\">2.0</td><td style = \"text-align: right;\">2.0</td><td style = \"text-align: right;\">2.0</td><td style = \"text-align: right;\">2.0</td><td style = \"text-align: right;\">2.0</td><td style = \"text-align: right;\">2.0</td><td style = \"text-align: right;\">2.0</td><td style = \"text-align: right;\">2.0</td><td style = \"text-align: right;\">2.0</td><td style = \"text-align: right;\">2.0</td><td style = \"text-align: right;\">2.0</td><td style = \"text-align: right;\">2.0</td><td style = \"text-align: right;\">2.0</td><td style = \"text-align: right;\">2.0</td><td style = \"text-align: right;\">2.0</td><td style = \"text-align: right;\">2.0</td><td style = \"text-align: right;\">2.0</td><td style = \"text-align: right;\">2.0</td><td style = \"text-align: right;\">2.0</td><td style = \"text-align: right;\">2.0</td><td style = \"text-align: right;\">2.0</td><td style = \"text-align: right;\">2.0</td><td style = \"text-align: right;\">2.0</td><td style = \"text-align: right;\">2.0</td><td style = \"text-align: right;\">2.0</td></tr><tr><td class = \"rowNumber\" style = \"font-weight: bold; text-align: right;\">134678</td><td style = \"text-align: right;\">20</td><td style = \"text-align: left;\">chr20:55963803</td><td style = \"text-align: right;\">55.9638</td><td style = \"text-align: right;\">55.9638</td><td style = \"text-align: right;\">2.0</td><td style = \"text-align: right;\">2.0</td><td style = \"text-align: right;\">2.0</td><td style = \"text-align: right;\">2.0</td><td style = \"text-align: right;\">1.0</td><td style = \"text-align: right;\">2.0</td><td style = \"text-align: right;\">2.0</td><td style = \"text-align: right;\">2.0</td><td style = \"text-align: right;\">2.0</td><td style = \"text-align: right;\">2.0</td><td style = \"text-align: right;\">2.0</td><td style = \"text-align: right;\">1.0</td><td style = \"text-align: right;\">2.0</td><td style = \"text-align: right;\">2.0</td><td style = \"text-align: right;\">2.0</td><td style = \"text-align: right;\">2.0</td><td style = \"text-align: right;\">2.0</td><td style = \"text-align: right;\">2.0</td><td style = \"text-align: right;\">2.0</td><td style = \"text-align: right;\">2.0</td><td style = \"text-align: right;\">2.0</td><td style = \"text-align: right;\">2.0</td><td style = \"text-align: right;\">2.0</td><td style = \"text-align: right;\">2.0</td><td style = \"text-align: right;\">2.0</td><td style = \"text-align: right;\">2.0</td><td style = \"text-align: right;\">2.0</td><td style = \"text-align: right;\">2.0</td><td style = \"text-align: right;\">2.0</td><td style = \"text-align: right;\">2.0</td><td style = \"text-align: right;\">2.0</td><td style = \"text-align: right;\">2.0</td><td style = \"text-align: right;\">2.0</td><td style = \"text-align: right;\">2.0</td><td style = \"text-align: right;\">2.0</td><td style = \"text-align: right;\">2.0</td><td style = \"text-align: right;\">2.0</td><td style = \"text-align: right;\">2.0</td><td style = \"text-align: right;\">2.0</td><td style = \"text-align: right;\">2.0</td><td style = \"text-align: right;\">1.0</td><td style = \"text-align: right;\">2.0</td><td style = \"text-align: right;\">2.0</td><td style = \"text-align: right;\">2.0</td><td style = \"text-align: right;\">2.0</td><td style = \"text-align: right;\">2.0</td><td style = \"text-align: right;\">2.0</td><td style = \"text-align: right;\">2.0</td><td style = \"text-align: right;\">2.0</td><td style = \"text-align: right;\">2.0</td><td style = \"text-align: right;\">2.0</td><td style = \"text-align: right;\">2.0</td><td style = \"text-align: right;\">2.0</td><td style = \"text-align: right;\">2.0</td><td style = \"text-align: right;\">2.0</td><td style = \"text-align: right;\">2.0</td><td style = \"text-align: right;\">2.0</td><td style = \"text-align: right;\">2.0</td><td style = \"text-align: right;\">2.0</td><td style = \"text-align: right;\">2.0</td><td style = \"text-align: right;\">2.0</td><td style = \"text-align: right;\">2.0</td><td style = \"text-align: right;\">2.0</td><td style = \"text-align: right;\">2.0</td><td style = \"text-align: right;\">2.0</td><td style = \"text-align: right;\">2.0</td><td style = \"text-align: right;\">2.0</td><td style = \"text-align: right;\">2.0</td><td style = \"text-align: right;\">2.0</td><td style = \"text-align: right;\">2.0</td><td style = \"text-align: right;\">2.0</td><td style = \"text-align: right;\">2.0</td><td style = \"text-align: right;\">2.0</td><td style = \"text-align: right;\">2.0</td><td style = \"text-align: right;\">2.0</td><td style = \"text-align: right;\">2.0</td><td style = \"text-align: right;\">2.0</td><td style = \"text-align: right;\">2.0</td><td style = \"text-align: right;\">2.0</td><td style = \"text-align: right;\">2.0</td></tr><tr><td class = \"rowNumber\" style = \"font-weight: bold; text-align: right;\">134679</td><td style = \"text-align: right;\">20</td><td style = \"text-align: left;\">chr20:55991426</td><td style = \"text-align: right;\">55.9914</td><td style = \"text-align: right;\">55.9914</td><td style = \"text-align: right;\">1.998</td><td style = \"text-align: right;\">1.998</td><td style = \"text-align: right;\">1.998</td><td style = \"text-align: right;\">1.998</td><td style = \"text-align: right;\">0.996</td><td style = \"text-align: right;\">1.998</td><td style = \"text-align: right;\">1.998</td><td style = \"text-align: right;\">1.998</td><td style = \"text-align: right;\">1.998</td><td style = \"text-align: right;\">1.998</td><td style = \"text-align: right;\">1.998</td><td style = \"text-align: right;\">1.995</td><td style = \"text-align: right;\">1.998</td><td style = \"text-align: right;\">1.998</td><td style = \"text-align: right;\">1.998</td><td style = \"text-align: right;\">1.998</td><td style = \"text-align: right;\">1.998</td><td style = \"text-align: right;\">1.998</td><td style = \"text-align: right;\">1.998</td><td style = \"text-align: right;\">1.998</td><td style = \"text-align: right;\">1.998</td><td style = \"text-align: right;\">1.998</td><td style = \"text-align: right;\">1.998</td><td style = \"text-align: right;\">1.998</td><td style = \"text-align: right;\">1.998</td><td style = \"text-align: right;\">1.998</td><td style = \"text-align: right;\">1.998</td><td style = \"text-align: right;\">1.998</td><td style = \"text-align: right;\">1.998</td><td style = \"text-align: right;\">1.998</td><td style = \"text-align: right;\">1.998</td><td style = \"text-align: right;\">1.998</td><td style = \"text-align: right;\">1.998</td><td style = \"text-align: right;\">1.998</td><td style = \"text-align: right;\">1.998</td><td style = \"text-align: right;\">1.998</td><td style = \"text-align: right;\">1.998</td><td style = \"text-align: right;\">1.998</td><td style = \"text-align: right;\">1.998</td><td style = \"text-align: right;\">1.998</td><td style = \"text-align: right;\">1.0</td><td style = \"text-align: right;\">1.998</td><td style = \"text-align: right;\">1.998</td><td style = \"text-align: right;\">1.998</td><td style = \"text-align: right;\">1.998</td><td style = \"text-align: right;\">1.998</td><td style = \"text-align: right;\">1.998</td><td style = \"text-align: right;\">1.998</td><td style = \"text-align: right;\">1.998</td><td style = \"text-align: right;\">1.998</td><td style = \"text-align: right;\">1.998</td><td style = \"text-align: right;\">1.998</td><td style = \"text-align: right;\">1.998</td><td style = \"text-align: right;\">1.998</td><td style = \"text-align: right;\">1.998</td><td style = \"text-align: right;\">1.998</td><td style = \"text-align: right;\">1.998</td><td style = \"text-align: right;\">1.998</td><td style = \"text-align: right;\">1.998</td><td style = \"text-align: right;\">1.998</td><td style = \"text-align: right;\">1.998</td><td style = \"text-align: right;\">1.998</td><td style = \"text-align: right;\">1.998</td><td style = \"text-align: right;\">1.998</td><td style = \"text-align: right;\">1.998</td><td style = \"text-align: right;\">1.998</td><td style = \"text-align: right;\">1.998</td><td style = \"text-align: right;\">1.998</td><td style = \"text-align: right;\">1.998</td><td style = \"text-align: right;\">1.998</td><td style = \"text-align: right;\">1.998</td><td style = \"text-align: right;\">1.998</td><td style = \"text-align: right;\">1.998</td><td style = \"text-align: right;\">1.998</td><td style = \"text-align: right;\">1.998</td><td style = \"text-align: right;\">1.998</td><td style = \"text-align: right;\">1.998</td><td style = \"text-align: right;\">1.998</td><td style = \"text-align: right;\">1.998</td><td style = \"text-align: right;\">1.998</td></tr><tr><td class = \"rowNumber\" style = \"font-weight: bold; text-align: right;\">134680</td><td style = \"text-align: right;\">20</td><td style = \"text-align: left;\">chr20:55999627</td><td style = \"text-align: right;\">55.9996</td><td style = \"text-align: right;\">55.9996</td><td style = \"text-align: right;\">0.013</td><td style = \"text-align: right;\">0.013</td><td style = \"text-align: right;\">0.013</td><td style = \"text-align: right;\">0.013</td><td style = \"text-align: right;\">0.091</td><td style = \"text-align: right;\">0.013</td><td style = \"text-align: right;\">0.013</td><td style = \"text-align: right;\">0.013</td><td style = \"text-align: right;\">0.013</td><td style = \"text-align: right;\">0.013</td><td style = \"text-align: right;\">0.013</td><td style = \"text-align: right;\">0.014</td><td style = \"text-align: right;\">0.013</td><td style = \"text-align: right;\">0.013</td><td style = \"text-align: right;\">0.013</td><td style = \"text-align: right;\">0.013</td><td style = \"text-align: right;\">0.013</td><td style = \"text-align: right;\">0.013</td><td style = \"text-align: right;\">0.013</td><td style = \"text-align: right;\">0.013</td><td style = \"text-align: right;\">0.013</td><td style = \"text-align: right;\">0.013</td><td style = \"text-align: right;\">0.013</td><td style = \"text-align: right;\">0.013</td><td style = \"text-align: right;\">0.013</td><td style = \"text-align: right;\">0.013</td><td style = \"text-align: right;\">0.013</td><td style = \"text-align: right;\">0.013</td><td style = \"text-align: right;\">0.013</td><td style = \"text-align: right;\">0.013</td><td style = \"text-align: right;\">0.013</td><td style = \"text-align: right;\">0.013</td><td style = \"text-align: right;\">0.013</td><td style = \"text-align: right;\">0.013</td><td style = \"text-align: right;\">0.013</td><td style = \"text-align: right;\">0.013</td><td style = \"text-align: right;\">0.013</td><td style = \"text-align: right;\">0.013</td><td style = \"text-align: right;\">0.013</td><td style = \"text-align: right;\">0.013</td><td style = \"text-align: right;\">0.98798</td><td style = \"text-align: right;\">0.013</td><td style = \"text-align: right;\">0.013</td><td style = \"text-align: right;\">0.013</td><td style = \"text-align: right;\">0.013</td><td style = \"text-align: right;\">0.013</td><td style = \"text-align: right;\">0.013</td><td style = \"text-align: right;\">0.013</td><td style = \"text-align: right;\">0.013</td><td style = \"text-align: right;\">0.013</td><td style = \"text-align: right;\">0.013</td><td style = \"text-align: right;\">0.013</td><td style = \"text-align: right;\">0.013</td><td style = \"text-align: right;\">0.013</td><td style = \"text-align: right;\">0.013</td><td style = \"text-align: right;\">0.013</td><td style = \"text-align: right;\">0.013</td><td style = \"text-align: right;\">0.013</td><td style = \"text-align: right;\">0.013</td><td style = \"text-align: right;\">0.013</td><td style = \"text-align: right;\">0.013</td><td style = \"text-align: right;\">0.013</td><td style = \"text-align: right;\">0.013</td><td style = \"text-align: right;\">0.013</td><td style = \"text-align: right;\">0.013</td><td style = \"text-align: right;\">0.013</td><td style = \"text-align: right;\">0.013</td><td style = \"text-align: right;\">0.013</td><td style = \"text-align: right;\">0.013</td><td style = \"text-align: right;\">0.013</td><td style = \"text-align: right;\">0.013</td><td style = \"text-align: right;\">0.013</td><td style = \"text-align: right;\">0.013</td><td style = \"text-align: right;\">0.013</td><td style = \"text-align: right;\">0.013</td><td style = \"text-align: right;\">0.013</td><td style = \"text-align: right;\">0.013</td><td style = \"text-align: right;\">0.013</td><td style = \"text-align: right;\">0.013</td><td style = \"text-align: right;\">0.013</td></tr><tr><td class = \"rowNumber\" style = \"font-weight: bold; text-align: right;\">134681</td><td style = \"text-align: right;\">20</td><td style = \"text-align: left;\">chr20:56115597</td><td style = \"text-align: right;\">56.1156</td><td style = \"text-align: right;\">56.1156</td><td style = \"text-align: right;\">2.0</td><td style = \"text-align: right;\">2.0</td><td style = \"text-align: right;\">2.0</td><td style = \"text-align: right;\">2.0</td><td style = \"text-align: right;\">2.0</td><td style = \"text-align: right;\">2.0</td><td style = \"text-align: right;\">2.0</td><td style = \"text-align: right;\">2.0</td><td style = \"text-align: right;\">2.0</td><td style = \"text-align: right;\">2.0</td><td style = \"text-align: right;\">2.0</td><td style = \"text-align: right;\">2.0</td><td style = \"text-align: right;\">2.0</td><td style = \"text-align: right;\">2.0</td><td style = \"text-align: right;\">2.0</td><td style = \"text-align: right;\">2.0</td><td style = \"text-align: right;\">2.0</td><td style = \"text-align: right;\">2.0</td><td style = \"text-align: right;\">2.0</td><td style = \"text-align: right;\">2.0</td><td style = \"text-align: right;\">2.0</td><td style = \"text-align: right;\">2.0</td><td style = \"text-align: right;\">2.0</td><td style = \"text-align: right;\">2.0</td><td style = \"text-align: right;\">2.0</td><td style = \"text-align: right;\">2.0</td><td style = \"text-align: right;\">2.0</td><td style = \"text-align: right;\">2.0</td><td style = \"text-align: right;\">2.0</td><td style = \"text-align: right;\">2.0</td><td style = \"text-align: right;\">2.0</td><td style = \"text-align: right;\">2.0</td><td style = \"text-align: right;\">2.0</td><td style = \"text-align: right;\">2.0</td><td style = \"text-align: right;\">2.0</td><td style = \"text-align: right;\">2.0</td><td style = \"text-align: right;\">2.0</td><td style = \"text-align: right;\">2.0</td><td style = \"text-align: right;\">2.0</td><td style = \"text-align: right;\">2.0</td><td style = \"text-align: right;\">2.0</td><td style = \"text-align: right;\">2.0</td><td style = \"text-align: right;\">2.0</td><td style = \"text-align: right;\">2.0</td><td style = \"text-align: right;\">2.0</td><td style = \"text-align: right;\">2.0</td><td style = \"text-align: right;\">2.0</td><td style = \"text-align: right;\">2.0</td><td style = \"text-align: right;\">2.0</td><td style = \"text-align: right;\">2.0</td><td style = \"text-align: right;\">2.0</td><td style = \"text-align: right;\">1.0</td><td style = \"text-align: right;\">2.0</td><td style = \"text-align: right;\">2.0</td><td style = \"text-align: right;\">2.0</td><td style = \"text-align: right;\">2.0</td><td style = \"text-align: right;\">2.0</td><td style = \"text-align: right;\">2.0</td><td style = \"text-align: right;\">2.0</td><td style = \"text-align: right;\">2.0</td><td style = \"text-align: right;\">2.0</td><td style = \"text-align: right;\">2.0</td><td style = \"text-align: right;\">2.0</td><td style = \"text-align: right;\">2.0</td><td style = \"text-align: right;\">2.0</td><td style = \"text-align: right;\">2.0</td><td style = \"text-align: right;\">2.0</td><td style = \"text-align: right;\">2.0</td><td style = \"text-align: right;\">2.0</td><td style = \"text-align: right;\">2.0</td><td style = \"text-align: right;\">2.0</td><td style = \"text-align: right;\">2.0</td><td style = \"text-align: right;\">2.0</td><td style = \"text-align: right;\">2.0</td><td style = \"text-align: right;\">2.0</td><td style = \"text-align: right;\">2.0</td><td style = \"text-align: right;\">2.0</td><td style = \"text-align: right;\">2.0</td><td style = \"text-align: right;\">2.0</td><td style = \"text-align: right;\">2.0</td></tr></tbody></table></div>"
      ],
      "text/latex": [
       "\\begin{tabular}{r|ccccccccc}\n",
       "\t& Chr & Locus & cM & Mb & 00077E67B5 & 00077E76FE & 00077E8336 & 00077EA7E6 & \\\\\n",
       "\t\\hline\n",
       "\t& Int64 & String15 & Float64 & Float64 & Float64 & Float64 & Float64 & Float64 & \\\\\n",
       "\t\\hline\n",
       "\t1 & 1 & chr1:55365 & 0.055365 & 0.055365 & 2.0 & 2.0 & 1.0 & 2.0 & $\\dots$ \\\\\n",
       "\t2 & 1 & chr1:666374 & 0.666374 & 0.666374 & 2.0 & 2.0 & 2.0 & 2.0 & $\\dots$ \\\\\n",
       "\t3 & 1 & chr1:666382 & 0.666382 & 0.666382 & 2.0 & 2.0 & 2.0 & 1.0 & $\\dots$ \\\\\n",
       "\t4 & 1 & chr1:666394 & 0.666394 & 0.666394 & 2.0 & 2.0 & 2.0 & 1.0 & $\\dots$ \\\\\n",
       "\t5 & 1 & chr1:669529 & 0.669529 & 0.669529 & 2.0 & 2.0 & 2.0 & 1.0 & $\\dots$ \\\\\n",
       "\t6 & 1 & chr1:669562 & 0.669562 & 0.669562 & 2.0 & 2.0 & 2.0 & 2.0 & $\\dots$ \\\\\n",
       "\t7 & 1 & chr1:671466 & 0.671466 & 0.671466 & 2.0 & 2.0 & 2.0 & 2.0 & $\\dots$ \\\\\n",
       "\t8 & 1 & chr1:759319 & 0.759319 & 0.759319 & 0.997 & 1.976 & 0.991 & 1.979 & $\\dots$ \\\\\n",
       "\t9 & 1 & chr1:1134030 & 1.13403 & 1.13403 & 1.941 & 1.559 & 1.006 & 1.994 & $\\dots$ \\\\\n",
       "\t10 & 1 & chr1:1139210 & 1.13921 & 1.13921 & 1.978 & 1.992 & 1.997 & 1.994 & $\\dots$ \\\\\n",
       "\t11 & 1 & chr1:1143318 & 1.14332 & 1.14332 & 0.031 & 0.39 & 0.99298 & 0.008 & $\\dots$ \\\\\n",
       "\t12 & 1 & chr1:1151014 & 1.15101 & 1.15101 & 1.997 & 1.997 & 1.998 & 1.997 & $\\dots$ \\\\\n",
       "\t13 & 1 & chr1:1151294 & 1.15129 & 1.15129 & 1.997 & 1.997 & 1.006 & 1.997 & $\\dots$ \\\\\n",
       "\t14 & 1 & chr1:1154467 & 1.15447 & 1.15447 & 1.988 & 1.997 & 1.005 & 1.998 & $\\dots$ \\\\\n",
       "\t15 & 1 & chr1:1154955 & 1.15495 & 1.15495 & 1.0 & 2.0 & 1.0 & 2.0 & $\\dots$ \\\\\n",
       "\t16 & 1 & chr1:1155023 & 1.15502 & 1.15502 & 2.0 & 2.0 & 2.0 & 2.0 & $\\dots$ \\\\\n",
       "\t17 & 1 & chr1:1192303 & 1.1923 & 1.1923 & 1.982 & 1.998 & 1.33636 & 1.997 & $\\dots$ \\\\\n",
       "\t18 & 1 & chr1:1229220 & 1.22922 & 1.22922 & 2.0 & 2.0 & 2.0 & 2.0 & $\\dots$ \\\\\n",
       "\t19 & 1 & chr1:1229237 & 1.22924 & 1.22924 & 2.0 & 2.0 & 1.0 & 2.0 & $\\dots$ \\\\\n",
       "\t20 & 1 & chr1:1232508 & 1.23251 & 1.23251 & 1.994 & 1.987 & 1.954 & 1.995 & $\\dots$ \\\\\n",
       "\t21 & 1 & chr1:1367999 & 1.368 & 1.368 & 2.0 & 2.0 & 2.0 & 2.0 & $\\dots$ \\\\\n",
       "\t22 & 1 & chr1:1369563 & 1.36956 & 1.36956 & 2.0 & 2.0 & 1.0 & 2.0 & $\\dots$ \\\\\n",
       "\t23 & 1 & chr1:1415027 & 1.41503 & 1.41503 & 2.0 & 2.0 & 1.0 & 2.0 & $\\dots$ \\\\\n",
       "\t24 & 1 & chr1:1482698 & 1.4827 & 1.4827 & 2.0 & 2.0 & 2.0 & 2.0 & $\\dots$ \\\\\n",
       "\t25 & 1 & chr1:1482711 & 1.48271 & 1.48271 & 2.0 & 2.0 & 2.0 & 2.0 & $\\dots$ \\\\\n",
       "\t26 & 1 & chr1:1482811 & 1.48281 & 1.48281 & 2.0 & 2.0 & 2.0 & 2.0 & $\\dots$ \\\\\n",
       "\t27 & 1 & chr1:1482825 & 1.48283 & 1.48283 & 2.0 & 2.0 & 2.0 & 2.0 & $\\dots$ \\\\\n",
       "\t28 & 1 & chr1:1482843 & 1.48284 & 1.48284 & 2.0 & 2.0 & 2.0 & 2.0 & $\\dots$ \\\\\n",
       "\t29 & 1 & chr1:1617593 & 1.61759 & 1.61759 & 1.985 & 1.997 & 1.942 & 1.994 & $\\dots$ \\\\\n",
       "\t30 & 1 & chr1:1649028 & 1.64903 & 1.64903 & 1.0 & 1.0 & 0.003 & 1.996 & $\\dots$ \\\\\n",
       "\t$\\dots$ & $\\dots$ & $\\dots$ & $\\dots$ & $\\dots$ & $\\dots$ & $\\dots$ & $\\dots$ & $\\dots$ &  \\\\\n",
       "\\end{tabular}\n"
      ],
      "text/plain": [
       "\u001b[1m134681×84 DataFrame\u001b[0m\n",
       "\u001b[1m    Row \u001b[0m│\u001b[1m Chr   \u001b[0m\u001b[1m Locus          \u001b[0m\u001b[1m cM        \u001b[0m\u001b[1m Mb        \u001b[0m\u001b[1m 00077E67B5 \u001b[0m\u001b[1m 00077E76FE \u001b[0m\u001b[1m\u001b[0m ⋯\n",
       "        │\u001b[90m Int64 \u001b[0m\u001b[90m String15       \u001b[0m\u001b[90m Float64   \u001b[0m\u001b[90m Float64   \u001b[0m\u001b[90m Float64    \u001b[0m\u001b[90m Float64    \u001b[0m\u001b[90m\u001b[0m ⋯\n",
       "────────┼───────────────────────────────────────────────────────────────────────\n",
       "      1 │     1  chr1:55365       0.055365   0.055365     2.0         2.0      ⋯\n",
       "      2 │     1  chr1:666374      0.666374   0.666374     2.0         2.0\n",
       "      3 │     1  chr1:666382      0.666382   0.666382     2.0         2.0\n",
       "      4 │     1  chr1:666394      0.666394   0.666394     2.0         2.0\n",
       "      5 │     1  chr1:669529      0.669529   0.669529     2.0         2.0      ⋯\n",
       "      6 │     1  chr1:669562      0.669562   0.669562     2.0         2.0\n",
       "      7 │     1  chr1:671466      0.671466   0.671466     2.0         2.0\n",
       "      8 │     1  chr1:759319      0.759319   0.759319     0.997       1.976\n",
       "      9 │     1  chr1:1134030     1.13403    1.13403      1.941       1.559    ⋯\n",
       "     10 │     1  chr1:1139210     1.13921    1.13921      1.978       1.992\n",
       "     11 │     1  chr1:1143318     1.14332    1.14332      0.031       0.39\n",
       "   ⋮    │   ⋮          ⋮             ⋮          ⋮          ⋮           ⋮       ⋱\n",
       " 134672 │    20  chr20:55659520  55.6595    55.6595       1.913       1.913\n",
       " 134673 │    20  chr20:55716379  55.7164    55.7164       0.004       0.004    ⋯\n",
       " 134674 │    20  chr20:55744179  55.7442    55.7442       2.0         2.0\n",
       " 134675 │    20  chr20:55773139  55.7731    55.7731       1.913       1.913\n",
       " 134676 │    20  chr20:55818290  55.8183    55.8183       1.89703     1.89703\n",
       " 134677 │    20  chr20:55944342  55.9443    55.9443       2.0         2.0      ⋯\n",
       " 134678 │    20  chr20:55963803  55.9638    55.9638       2.0         2.0\n",
       " 134679 │    20  chr20:55991426  55.9914    55.9914       1.998       1.998\n",
       " 134680 │    20  chr20:55999627  55.9996    55.9996       0.013       0.013\n",
       " 134681 │    20  chr20:56115597  56.1156    56.1156       2.0         2.0      ⋯\n",
       "\u001b[36m                                              78 columns and 134660 rows omitted\u001b[0m"
      ]
     },
     "execution_count": 199,
     "metadata": {},
     "output_type": "execute_result"
    }
   ],
   "source": [
    "omics_geno_df"
   ]
  },
  {
   "cell_type": "code",
   "execution_count": 14,
   "id": "51b228cd-b057-49fe-8dae-58c4aa3c9284",
   "metadata": {},
   "outputs": [
    {
     "name": "stdout",
     "output_type": "stream",
     "text": [
      "  0.357760 seconds (491.40 k allocations: 354.237 MiB, 17.01% gc time, 42.23% compilation time)\n"
     ]
    }
   ],
   "source": [
    "@time omics_geno = omics_geno_df[:, 5:end] |> Array{Float64, 2} |> x -> permutedims(x) |> x -> x./2.0;"
   ]
  },
  {
   "cell_type": "code",
   "execution_count": 15,
   "id": "48f0c27d-6d89-499a-b45c-cb879d51b5b6",
   "metadata": {},
   "outputs": [
    {
     "name": "stdout",
     "output_type": "stream",
     "text": [
      "  0.085377 seconds (268.46 k allocations: 12.260 MiB, 95.88% compilation time)\n"
     ]
    },
    {
     "data": {
      "text/plain": [
       "6-element Vector{String}:\n",
       " \"chr1:55365\"\n",
       " \"chr1:666374\"\n",
       " \"chr1:666382\"\n",
       " \"chr1:666394\"\n",
       " \"chr1:669529\"\n",
       " \"chr1:669562\""
      ]
     },
     "execution_count": 15,
     "metadata": {},
     "output_type": "execute_result"
    }
   ],
   "source": [
    "@time omics_marker_names = omics_geno_df.Locus |> Array{String, 1};\n",
    "omics_marker_names[1:6]"
   ]
  },
  {
   "cell_type": "markdown",
   "id": "aef4603f-ae8a-4cb4-bc70-dbe26f22da4f",
   "metadata": {},
   "source": [
    "#### Filter markers by MAF within the range of (0.05, 0.95)"
   ]
  },
  {
   "cell_type": "code",
   "execution_count": 200,
   "id": "ca37ba39-3015-49c2-9f75-318c6f24e62e",
   "metadata": {},
   "outputs": [
    {
     "name": "stdout",
     "output_type": "stream",
     "text": [
      "  0.010541 seconds (10 allocations: 1.028 MiB)\n"
     ]
    }
   ],
   "source": [
    "@time maf_omics_geno = vec(mean(omics_geno; dims = 1));"
   ]
  },
  {
   "cell_type": "code",
   "execution_count": 201,
   "id": "be218cd2-ccbf-47e5-a010-616390d7efa9",
   "metadata": {},
   "outputs": [],
   "source": [
    "to_keep = map(x -> (x < 0.95) & (x > 0.05), maf_omics_geno);"
   ]
  },
  {
   "cell_type": "code",
   "execution_count": 202,
   "id": "1d228aa1-5b4f-4e66-85d1-5d6d4041b1a8",
   "metadata": {},
   "outputs": [
    {
     "data": {
      "text/plain": [
       "134681-element Vector{String}:\n",
       " \"chr1:55365\"\n",
       " \"chr1:666374\"\n",
       " \"chr1:666382\"\n",
       " \"chr1:666394\"\n",
       " \"chr1:669529\"\n",
       " \"chr1:669562\"\n",
       " \"chr1:671466\"\n",
       " \"chr1:759319\"\n",
       " \"chr1:1134030\"\n",
       " \"chr1:1139210\"\n",
       " \"chr1:1143318\"\n",
       " \"chr1:1151014\"\n",
       " \"chr1:1151294\"\n",
       " ⋮\n",
       " \"chr20:55641278\"\n",
       " \"chr20:55644746\"\n",
       " \"chr20:55659520\"\n",
       " \"chr20:55716379\"\n",
       " \"chr20:55744179\"\n",
       " \"chr20:55773139\"\n",
       " \"chr20:55818290\"\n",
       " \"chr20:55944342\"\n",
       " \"chr20:55963803\"\n",
       " \"chr20:55991426\"\n",
       " \"chr20:55999627\"\n",
       " \"chr20:56115597\""
      ]
     },
     "execution_count": 202,
     "metadata": {},
     "output_type": "execute_result"
    }
   ],
   "source": [
    "omics_marker_names"
   ]
  },
  {
   "cell_type": "code",
   "execution_count": 176,
   "id": "39e64bab-8929-4161-91dc-3598b6b1b22d",
   "metadata": {},
   "outputs": [
    {
     "data": {
      "text/plain": [
       "80×134681 Matrix{Float64}:\n",
       " 1.0  1.0  1.0  1.0  1.0  1.0  1.0  0.4985  …  1.0  1.0  0.999   0.0065  1.0\n",
       " 1.0  1.0  1.0  1.0  1.0  1.0  1.0  0.988      1.0  1.0  0.999   0.0065  1.0\n",
       " 0.5  1.0  1.0  1.0  1.0  1.0  1.0  0.4955     1.0  1.0  0.999   0.0065  1.0\n",
       " 1.0  1.0  0.5  0.5  0.5  1.0  1.0  0.9895     1.0  1.0  0.999   0.0065  1.0\n",
       " 1.0  1.0  1.0  1.0  1.0  1.0  1.0  0.0035     0.5  0.5  0.498   0.0455  1.0\n",
       " 1.0  1.0  1.0  1.0  1.0  1.0  1.0  0.9895  …  1.0  1.0  0.999   0.0065  1.0\n",
       " 0.5  0.5  1.0  1.0  1.0  0.5  1.0  0.4955     1.0  1.0  0.999   0.0065  1.0\n",
       " 1.0  1.0  1.0  1.0  1.0  1.0  1.0  0.4985     1.0  1.0  0.999   0.0065  1.0\n",
       " 1.0  1.0  1.0  1.0  1.0  1.0  1.0  0.004      1.0  1.0  0.999   0.0065  1.0\n",
       " 1.0  1.0  1.0  1.0  1.0  1.0  1.0  0.9895     1.0  1.0  0.999   0.0065  1.0\n",
       " 1.0  1.0  1.0  1.0  1.0  1.0  1.0  0.4985  …  1.0  1.0  0.999   0.0065  1.0\n",
       " 1.0  1.0  1.0  1.0  1.0  1.0  1.0  0.4985     1.0  0.5  0.9975  0.007   1.0\n",
       " 1.0  1.0  1.0  1.0  1.0  1.0  1.0  0.0035     1.0  1.0  0.999   0.0065  1.0\n",
       " ⋮                        ⋮                 ⋱                            ⋮\n",
       " 1.0  1.0  1.0  1.0  1.0  1.0  1.0  0.4955     1.0  1.0  0.999   0.0065  1.0\n",
       " 1.0  1.0  1.0  1.0  1.0  1.0  1.0  0.4985     1.0  1.0  0.999   0.0065  1.0\n",
       " 1.0  1.0  1.0  1.0  1.0  1.0  1.0  0.989   …  1.0  1.0  0.999   0.0065  1.0\n",
       " 1.0  1.0  1.0  1.0  1.0  1.0  1.0  0.0035     1.0  1.0  0.999   0.0065  1.0\n",
       " 1.0  1.0  1.0  1.0  1.0  1.0  1.0  0.4955     1.0  1.0  0.999   0.0065  1.0\n",
       " 1.0  1.0  1.0  1.0  1.0  0.5  1.0  0.4985     1.0  1.0  0.999   0.0065  1.0\n",
       " 1.0  1.0  1.0  1.0  1.0  1.0  1.0  0.0035     1.0  1.0  0.999   0.0065  1.0\n",
       " 1.0  1.0  1.0  1.0  1.0  1.0  1.0  0.0035  …  1.0  1.0  0.999   0.0065  1.0\n",
       " 1.0  1.0  1.0  1.0  1.0  1.0  1.0  0.9895     1.0  1.0  0.999   0.0065  1.0\n",
       " 0.5  1.0  1.0  1.0  1.0  1.0  1.0  0.9895     1.0  1.0  0.999   0.0065  1.0\n",
       " 1.0  1.0  1.0  1.0  1.0  0.5  0.5  0.9895     1.0  1.0  0.999   0.0065  1.0\n",
       " 1.0  1.0  1.0  1.0  0.5  1.0  1.0  0.0035     1.0  1.0  0.999   0.0065  1.0"
      ]
     },
     "execution_count": 176,
     "metadata": {},
     "output_type": "execute_result"
    }
   ],
   "source": [
    "omics_geno"
   ]
  },
  {
   "cell_type": "markdown",
   "id": "96abab5d-cc2f-4645-a746-053eb4008f5b",
   "metadata": {},
   "source": [
    "After removing markers outside the MAF thresholds of 0.05, we get the genotyped data of the size:"
   ]
  },
  {
   "cell_type": "code",
   "execution_count": 203,
   "id": "47330aea-93b2-4f79-b3be-874c90a7ab71",
   "metadata": {},
   "outputs": [],
   "source": [
    "omics_geno_processed = omics_geno[:, to_keep];\n",
    "omics_marker_names_processed = omics_marker_names[to_keep];"
   ]
  },
  {
   "cell_type": "code",
   "execution_count": 206,
   "id": "14433ed8-6bc8-40f0-9dd6-da88e688f796",
   "metadata": {},
   "outputs": [
    {
     "data": {
      "text/plain": [
       "(80, 117618)"
      ]
     },
     "execution_count": 206,
     "metadata": {},
     "output_type": "execute_result"
    }
   ],
   "source": [
    "size(omics_geno_processed)"
   ]
  },
  {
   "cell_type": "markdown",
   "id": "75289240-2991-454a-92ae-68824cc9eb5c",
   "metadata": {},
   "source": [
    "with 80 samples on 117,618 markers."
   ]
  },
  {
   "cell_type": "code",
   "execution_count": 204,
   "id": "1fc1592d-bdc3-4a5a-a950-3d3bcb5bd728",
   "metadata": {},
   "outputs": [],
   "source": [
    "(n, m) = size(omics_pheno_processed);\n",
    "p = size(omics_geno_processed, 2);"
   ]
  },
  {
   "cell_type": "code",
   "execution_count": 205,
   "id": "fc77d8cd-13af-4e4e-8cb3-4d6c4a7414e9",
   "metadata": {},
   "outputs": [
    {
     "data": {
      "text/plain": [
       "(80, 18416, 117618)"
      ]
     },
     "execution_count": 205,
     "metadata": {},
     "output_type": "execute_result"
    }
   ],
   "source": [
    "n, m, p"
   ]
  },
  {
   "cell_type": "markdown",
   "id": "b7717616-a1e1-46bf-9fc6-2ea10b26aafa",
   "metadata": {},
   "source": [
    "### Load BulkLMM functions:"
   ]
  },
  {
   "cell_type": "code",
   "execution_count": 345,
   "id": "72d311e0-f6d1-43fd-aa6e-93a959bcbae2",
   "metadata": {},
   "outputs": [],
   "source": [
    "local_path = \"/home/zyu20/git/BulkLMM.jl/src\";"
   ]
  },
  {
   "cell_type": "code",
   "execution_count": 346,
   "id": "54a43168-6754-44ed-aa2a-13ce1a79f536",
   "metadata": {},
   "outputs": [],
   "source": [
    "include(joinpath(local_path, \"kinship.jl\"));\n",
    "include(joinpath(local_path, \"util.jl\"));\n",
    "include(joinpath(local_path, \"wls.jl\"));\n",
    "include(joinpath(local_path, \"lmm.jl\"));\n",
    "include(joinpath(local_path, \"gridbrent.jl\"));\n",
    "include(joinpath(local_path, \"transform_helpers.jl\"));\n",
    "include(joinpath(local_path, \"scan.jl\"));\n",
    "include(joinpath(local_path, \"bulkscan_helpers.jl\"));\n",
    "include(joinpath(local_path, \"bulkscan.jl\"));\n",
    "include(joinpath(local_path, \"readData.jl\"));\n",
    "include(joinpath(local_path, \"../plot_utils/visuals_utils.jl\"));\n",
    "include(joinpath(local_path, \"analysis_helpers/single_trait_analysis.jl\"));\n",
    "include(\"../../BigRiver_util_code/src/kinship_utils.jl\");\n",
    "include(\"../../BigRiver_util_code/src/run_gemma_utils.jl\");"
   ]
  },
  {
   "cell_type": "code",
   "execution_count": 357,
   "id": "44ea9b29-3de5-4dc2-a7cc-34e9d74de6a0",
   "metadata": {},
   "outputs": [
    {
     "name": "stdout",
     "output_type": "stream",
     "text": [
      "  0.142526 seconds (160.89 k allocations: 80.156 MiB, 39.84% gc time, 29.14% compilation time)\n"
     ]
    }
   ],
   "source": [
    "@time omics_kinship = calcKinship(omics_geno_processed) |> x -> round.(x; digits = 12);"
   ]
  },
  {
   "cell_type": "code",
   "execution_count": 358,
   "id": "275fa67a-4b07-43f1-bff9-ffb451c8e662",
   "metadata": {},
   "outputs": [
    {
     "data": {
      "text/plain": [
       "16"
      ]
     },
     "execution_count": 358,
     "metadata": {},
     "output_type": "execute_result"
    }
   ],
   "source": [
    "BLAS.get_num_threads()"
   ]
  },
  {
   "cell_type": "code",
   "execution_count": 359,
   "id": "e6ab4357-0946-4af3-9e15-0aac9b6e1b7a",
   "metadata": {},
   "outputs": [],
   "source": [
    "BLAS.set_num_threads(16)"
   ]
  },
  {
   "cell_type": "markdown",
   "id": "390f785e-d392-4209-8bf0-05a4da3d0536",
   "metadata": {},
   "source": [
    "## BulkLMM:"
   ]
  },
  {
   "cell_type": "code",
   "execution_count": 389,
   "id": "fe1c2669-83c0-449a-990b-9ad6545fe390",
   "metadata": {},
   "outputs": [],
   "source": [
    "grid_fine = collect(0.00:0.01:0.99);"
   ]
  },
  {
   "cell_type": "code",
   "execution_count": 361,
   "id": "70deb94a-2b30-4b99-99de-1e65e51e39df",
   "metadata": {},
   "outputs": [],
   "source": [
    "grid_loose = collect(0.00:0.05:0.95);"
   ]
  },
  {
   "cell_type": "code",
   "execution_count": 388,
   "id": "b390cb6e-7899-4fd1-8b31-b0f5a35fa422",
   "metadata": {},
   "outputs": [],
   "source": [
    "t_null_grid20 = @elapsed bulkscan_null_grid_results20 = bulkscan_null_grid(omics_pheno_processed, omics_geno_processed, omics_kinship, grid_loose; reml = false);"
   ]
  },
  {
   "cell_type": "code",
   "execution_count": 390,
   "id": "c802c499-b944-4a0c-9e1e-97ae9da1eb2f",
   "metadata": {},
   "outputs": [],
   "source": [
    "t_null_grid100 = @elapsed bulkscan_null_grid_results100 = bulkscan_null_grid(omics_pheno_processed, omics_geno_processed, omics_kinship, grid_fine; reml = false);"
   ]
  },
  {
   "cell_type": "code",
   "execution_count": 391,
   "id": "62089ace-0a69-4cb5-94ac-d31443f6ec87",
   "metadata": {},
   "outputs": [
    {
     "data": {
      "text/plain": [
       "13.915395807"
      ]
     },
     "execution_count": 391,
     "metadata": {},
     "output_type": "execute_result"
    }
   ],
   "source": [
    "t_null_grid20"
   ]
  },
  {
   "cell_type": "code",
   "execution_count": 397,
   "id": "66a217c1-c1ee-44cf-85f9-26cf3000cdac",
   "metadata": {},
   "outputs": [],
   "source": [
    "test_y = reshape(omics_pheno_processed[:, 1], :, 1);"
   ]
  },
  {
   "cell_type": "code",
   "execution_count": 402,
   "id": "5dc8ee0f-3895-40ab-bce7-962033e2b6ea",
   "metadata": {},
   "outputs": [
    {
     "name": "stdout",
     "output_type": "stream",
     "text": [
      "  1.453635 seconds (1.30 M allocations: 2.278 GiB, 34.39% gc time)\n"
     ]
    }
   ],
   "source": [
    "@time y_perms = scan(test_y, omics_geno_processed, omics_kinship; permutation_test = true, reml = false, nperms = 1000);"
   ]
  },
  {
   "cell_type": "code",
   "execution_count": 401,
   "id": "e12232a9-7cf8-4cda-b8d3-4cc2c06bcf01",
   "metadata": {},
   "outputs": [
    {
     "name": "stdout",
     "output_type": "stream",
     "text": [
      "  0.964371 seconds (1.30 M allocations: 757.287 MiB, 30.53% gc time)\n"
     ]
    }
   ],
   "source": [
    "@time y_null = scan(test_y, omics_geno_processed, omics_kinship);"
   ]
  },
  {
   "cell_type": "code",
   "execution_count": 405,
   "id": "f6d384dc-3e72-4c10-891e-6f9093581b64",
   "metadata": {},
   "outputs": [
    {
     "name": "stdout",
     "output_type": "stream",
     "text": [
      " 88.746328 seconds (193.59 M allocations: 85.851 GiB, 10.12% gc time)\n"
     ]
    }
   ],
   "source": [
    "@time y_alt = scan(test_y, omics_geno_processed, omics_kinship; assumption = \"alt\");"
   ]
  },
  {
   "cell_type": "code",
   "execution_count": 403,
   "id": "882b57d8-e553-4605-8704-4471820c01e1",
   "metadata": {},
   "outputs": [
    {
     "data": {
      "text/plain": [
       "117618×2 Matrix{Float64}:\n",
       " 0.340197    0.340197\n",
       " 0.391565    0.391565\n",
       " 0.288975    0.288975\n",
       " 0.831917    0.831917\n",
       " 0.325364    0.325364\n",
       " 0.697638    0.697638\n",
       " 0.550568    0.550568\n",
       " 0.495616    0.495616\n",
       " 0.299334    0.299334\n",
       " 0.493727    0.493727\n",
       " 0.437515    0.437515\n",
       " 0.356815    0.356815\n",
       " 0.229415    0.229415\n",
       " ⋮           \n",
       " 0.0325104   0.0325104\n",
       " 1.24786e-5  1.24786e-5\n",
       " 4.45794e-6  4.45794e-6\n",
       " 8.83031e-6  8.83031e-6\n",
       " 2.23587e-6  2.23587e-6\n",
       " 1.24786e-5  1.24786e-5\n",
       " 0.00492947  0.00492947\n",
       " 0.0847242   0.0847242\n",
       " 0.146107    0.146107\n",
       " 0.189778    0.189778\n",
       " 0.155139    0.155139\n",
       " 0.157019    0.157019"
      ]
     },
     "execution_count": 403,
     "metadata": {},
     "output_type": "execute_result"
    }
   ],
   "source": [
    "hcat(y_null.lod, y_perms.lod) "
   ]
  },
  {
   "cell_type": "code",
   "execution_count": 392,
   "id": "8bf03bce-5635-42fb-9dd2-6bc439f76ad2",
   "metadata": {},
   "outputs": [
    {
     "data": {
      "text/plain": [
       "16.442067535"
      ]
     },
     "execution_count": 392,
     "metadata": {},
     "output_type": "execute_result"
    }
   ],
   "source": [
    "t_null_grid100"
   ]
  },
  {
   "cell_type": "code",
   "execution_count": 375,
   "id": "f57ac4b3-a492-4785-89cf-2ee2cc7f5aee",
   "metadata": {},
   "outputs": [],
   "source": [
    "# grid_looser = [0.0, 0.10, 0.20, 0.30, 0.40, 0.50, 0.60, 0.70, 0.80, 0.90];\n",
    "grid_looser = [0.0, 0.95];"
   ]
  },
  {
   "cell_type": "code",
   "execution_count": 376,
   "id": "e912b0a6-8cf7-42a1-a756-948c1aace5b3",
   "metadata": {},
   "outputs": [],
   "source": [
    "t_alt_grid2 = @elapsed bulkscan_alt_grid_results = bulkscan_alt_grid(omics_pheno_processed, omics_geno_processed, omics_kinship, grid_looser);"
   ]
  },
  {
   "cell_type": "code",
   "execution_count": 378,
   "id": "3e2852ef-d4d7-4d4b-a930-8b878133e278",
   "metadata": {},
   "outputs": [
    {
     "data": {
      "text/plain": [
       "122.816347266"
      ]
     },
     "execution_count": 378,
     "metadata": {},
     "output_type": "execute_result"
    }
   ],
   "source": [
    "t_alt_grid2"
   ]
  },
  {
   "cell_type": "code",
   "execution_count": 371,
   "id": "bcf3384b-7196-4e4c-bd01-871def91877e",
   "metadata": {},
   "outputs": [
    {
     "data": {
      "text/plain": [
       "117618×18416 Matrix{Float64}:\n",
       " 0.340197    0.226361     0.00405807   …  0.405406    0.272795    0.120127\n",
       " 0.391565    0.126534     0.0206568       1.00163     0.548643    0.11444\n",
       " 0.288975    0.00103342   0.329974        0.0714303   0.0875217   0.122337\n",
       " 0.831917    0.0817987    0.164024        0.00230466  0.154816    0.597666\n",
       " 0.325364    0.0045107    0.549366        0.099927    0.0507671   0.338061\n",
       " 0.697638    0.101465     0.217168     …  0.0133476   0.0975028   0.794292\n",
       " 0.550568    0.0788087    0.0602317       0.00104111  0.00767557  0.506985\n",
       " 0.495616    0.00894047   0.000135643     0.0140147   0.109979    0.266518\n",
       " 0.299334    0.000206067  0.0674419       0.0796164   0.424535    0.0415577\n",
       " 0.493727    0.00994813   0.192153        0.201892    0.348914    0.00836178\n",
       " 0.437515    0.0836527    0.0184778    …  0.0100988   0.130018    0.14844\n",
       " 0.356815    0.133987     0.0291973       0.0192121   0.244598    0.650927\n",
       " 0.229415    0.128631     0.0221304       0.972031    0.63961     0.00279925\n",
       " ⋮                                     ⋱                          ⋮\n",
       " 0.0325104   0.0101255    0.000913066     0.0150231   0.14673     0.645597\n",
       " 1.24786e-5  0.00665456   0.0860944       0.0420595   0.00404204  0.496909\n",
       " 4.45794e-6  0.00666855   0.0857904       0.0422793   0.00415545  0.496272\n",
       " 8.83031e-6  0.00669297   0.0859547       0.0421323   0.00409232  0.496697\n",
       " 2.23587e-6  0.00719138   0.0849356    …  0.0422803   0.00441042  0.495654\n",
       " 1.24786e-5  0.00665456   0.0860944       0.0420595   0.00404204  0.496909\n",
       " 0.00492947  0.00611805   0.105733        0.0234542   0.0084314   0.546768\n",
       " 0.0847242   0.164397     0.0723451       7.60538e-5  0.0846442   0.606973\n",
       " 0.146107    0.0953882    0.0452268       4.45442e-5  0.339343    0.23452\n",
       " 0.189778    0.0498512    0.0686614    …  0.00446051  0.185494    0.265945\n",
       " 0.155139    0.0195044    0.0894935       0.0016763   0.434359    0.294306\n",
       " 0.157019    0.0194069    0.0909852       0.00137233  0.424638    0.294736"
      ]
     },
     "execution_count": 371,
     "metadata": {},
     "output_type": "execute_result"
    }
   ],
   "source": [
    "bulkscan_alt_grid_results.L"
   ]
  },
  {
   "cell_type": "code",
   "execution_count": 377,
   "id": "aae30bdb-eb81-418d-ad29-2a3fcd1cfe92",
   "metadata": {},
   "outputs": [
    {
     "data": {
      "text/plain": [
       "0.9973356539449693"
      ]
     },
     "execution_count": 377,
     "metadata": {},
     "output_type": "execute_result"
    }
   ],
   "source": [
    "mean(bulkscan_alt_grid_results.h2_panel .== 0.0)"
   ]
  },
  {
   "cell_type": "code",
   "execution_count": 373,
   "id": "38c6da6f-3267-41c7-9ed4-fb47a29cd97e",
   "metadata": {},
   "outputs": [
    {
     "data": {
      "text/plain": [
       "117618×18416 Matrix{Float64}:\n",
       " 0.340197    0.226361     0.00405807   …  0.405406    0.272795    0.120127\n",
       " 0.391565    0.126534     0.0206568       1.00163     0.548643    0.11444\n",
       " 0.288975    0.00103342   0.329974        0.0714303   0.0875217   0.122337\n",
       " 0.831917    0.0817987    0.164024        0.00230466  0.154816    0.597666\n",
       " 0.325364    0.0045107    0.549366        0.099927    0.0507671   0.338061\n",
       " 0.697638    0.101465     0.217168     …  0.0133476   0.0975028   0.794292\n",
       " 0.550568    0.0788087    0.0602317       0.00104111  0.00767557  0.506985\n",
       " 0.495616    0.00894047   0.000135643     0.0140147   0.109979    0.266518\n",
       " 0.299334    0.000206067  0.0674419       0.0796164   0.424535    0.0415577\n",
       " 0.493727    0.00994813   0.192153        0.201892    0.348914    0.00836178\n",
       " 0.437515    0.0836527    0.0184778    …  0.0100988   0.130018    0.14844\n",
       " 0.356815    0.133987     0.0291973       0.0192121   0.244598    0.650927\n",
       " 0.229415    0.128631     0.0221304       0.972031    0.63961     0.00279925\n",
       " ⋮                                     ⋱                          ⋮\n",
       " 0.0325104   0.0101255    0.000913066     0.0150231   0.14673     0.645597\n",
       " 1.24786e-5  0.00665456   0.0860944       0.0420595   0.00404204  0.496909\n",
       " 4.45794e-6  0.00666855   0.0857904       0.0422793   0.00415545  0.496272\n",
       " 8.83031e-6  0.00669297   0.0859547       0.0421323   0.00409232  0.496697\n",
       " 2.23587e-6  0.00719138   0.0849356    …  0.0422803   0.00441042  0.495654\n",
       " 1.24786e-5  0.00665456   0.0860944       0.0420595   0.00404204  0.496909\n",
       " 0.00492947  0.00611805   0.105733        0.0234542   0.0084314   0.546768\n",
       " 0.0847242   0.164397     0.0723451       7.60538e-5  0.0846442   0.606973\n",
       " 0.146107    0.0953882    0.0452268       4.45442e-5  0.339343    0.23452\n",
       " 0.189778    0.0498512    0.0686614    …  0.00446051  0.185494    0.265945\n",
       " 0.155139    0.0195044    0.0894935       0.0016763   0.434359    0.294306\n",
       " 0.157019    0.0194069    0.0909852       0.00137233  0.424638    0.294736"
      ]
     },
     "execution_count": 373,
     "metadata": {},
     "output_type": "execute_result"
    }
   ],
   "source": [
    "bulkscan_null_grid_results100.L"
   ]
  },
  {
   "cell_type": "code",
   "execution_count": 387,
   "id": "b3bf2ad3-bca9-4415-8422-66c365503a20",
   "metadata": {},
   "outputs": [
    {
     "data": {
      "text/plain": [
       "117618"
      ]
     },
     "execution_count": 387,
     "metadata": {},
     "output_type": "execute_result"
    }
   ],
   "source": [
    "p"
   ]
  },
  {
   "cell_type": "code",
   "execution_count": 380,
   "id": "28a5c7c2-2278-413e-b2ca-87a83acf1b7c",
   "metadata": {},
   "outputs": [
    {
     "data": {
      "text/plain": [
       "0.9964161598609904"
      ]
     },
     "execution_count": 380,
     "metadata": {},
     "output_type": "execute_result"
    }
   ],
   "source": [
    "mean(bulkscan_null_grid_results100.h2_null_list .== 0.0)"
   ]
  },
  {
   "cell_type": "code",
   "execution_count": 383,
   "id": "de8795e7-1a29-4f64-8d45-3e3881b912ad",
   "metadata": {},
   "outputs": [
    {
     "data": {
      "text/plain": [
       "(1.590547189451844, CartesianIndex(57047, 1070))"
      ]
     },
     "execution_count": 383,
     "metadata": {},
     "output_type": "execute_result"
    }
   ],
   "source": [
    "findmax(abs.(bulkscan_alt_grid_results.L .- bulkscan_null_grid_results100.L))"
   ]
  },
  {
   "cell_type": "code",
   "execution_count": 385,
   "id": "480d7d41-109a-436b-9f25-7a5fc8bae46e",
   "metadata": {},
   "outputs": [
    {
     "data": {
      "text/plain": [
       "1×3 Matrix{Float64}:\n",
       " 5.12451  3.53396  5.12451"
      ]
     },
     "execution_count": 385,
     "metadata": {},
     "output_type": "execute_result"
    }
   ],
   "source": [
    "hcat(bulkscan_alt_grid_results.L[57047, 1070], bulkscan_null_grid_results100.L[57047, 1070], bulkscan_null_grid_results20.L[57047, 1070])"
   ]
  },
  {
   "cell_type": "code",
   "execution_count": 386,
   "id": "6d8c0dcd-b040-4010-b9d1-3c97ece7e238",
   "metadata": {},
   "outputs": [
    {
     "data": {
      "text/plain": [
       "1×3 Matrix{Float64}:\n",
       " 0.0  0.99  0.0"
      ]
     },
     "execution_count": 386,
     "metadata": {},
     "output_type": "execute_result"
    }
   ],
   "source": [
    "hcat(bulkscan_alt_grid_results.h2_panel[57047, 1070], bulkscan_null_grid_results100.h2_null_list[1070], bulkscan_null_grid_results20.h2_null_list[1070])"
   ]
  },
  {
   "cell_type": "markdown",
   "id": "0674dcaf-cc73-484c-abc0-60e03b2f2444",
   "metadata": {
    "tags": []
   },
   "source": [
    "## GEMMA:"
   ]
  },
  {
   "cell_type": "code",
   "execution_count": 186,
   "id": "ccf5e750-496d-41e7-9598-c6acc421a987",
   "metadata": {},
   "outputs": [
    {
     "data": {
      "text/plain": [
       "\"/home/zyu20/Softwares/gemma-0.98.5-linux-static-AMD64\""
      ]
     },
     "execution_count": 186,
     "metadata": {},
     "output_type": "execute_result"
    }
   ],
   "source": [
    "gemma = \"/home/zyu20/Softwares/gemma-0.98.5-linux-static-AMD64\""
   ]
  },
  {
   "cell_type": "code",
   "execution_count": 187,
   "id": "77030960-c0f3-485f-bf64-d62bfb17bebf",
   "metadata": {},
   "outputs": [],
   "source": [
    "# rand_samples = sample(1:m, 1000);"
   ]
  },
  {
   "cell_type": "code",
   "execution_count": 188,
   "id": "232eac86-baef-41d4-b4c5-47e3150e3f41",
   "metadata": {},
   "outputs": [],
   "source": [
    "rand_samples = readdlm(\"output/samples.txt\", '\\t') |> x -> Int.(x);"
   ]
  },
  {
   "cell_type": "code",
   "execution_count": 189,
   "id": "db29d7ec-7fa4-48f6-9017-12648919aefd",
   "metadata": {},
   "outputs": [
    {
     "data": {
      "text/plain": [
       "6-element Vector{Int64}:\n",
       " 18024\n",
       " 11971\n",
       " 11167\n",
       "  9483\n",
       "  6245\n",
       "  2358"
      ]
     },
     "execution_count": 189,
     "metadata": {},
     "output_type": "execute_result"
    }
   ],
   "source": [
    "rand_samples[1:6]"
   ]
  },
  {
   "cell_type": "code",
   "execution_count": 39,
   "id": "5c57256b-d608-4fa9-a9a4-76a3cee57565",
   "metadata": {},
   "outputs": [],
   "source": [
    "# writedlm(\"output/samples.txt\", rand_samples, '\\t');"
   ]
  },
  {
   "cell_type": "code",
   "execution_count": 40,
   "id": "558833b8-61f5-499f-8ff3-bfe091bd558f",
   "metadata": {},
   "outputs": [],
   "source": [
    "pheno_filename = \"data/GEMMA_data/hs_omics_pheno.txt\";\n",
    "geno_filename = \"data/GEMMA_data/hs_omics_geno.txt\";\n",
    "kinship_filename = \"data/GEMMA_data/hs_omics_kinship.txt\";\n",
    "output_filename = \"results_univariate_LMM\";"
   ]
  },
  {
   "cell_type": "code",
   "execution_count": 41,
   "id": "3f8390ef-ee1b-4c7e-b582-3bdf8a08677e",
   "metadata": {},
   "outputs": [],
   "source": [
    "#=\n",
    "t_gemma = @elapsed gemma_samples_results = run_gemma(omics_pheno_processed[:, rand_samples], omics_geno_processed, omics_kinship,\n",
    "                                        [\"A\", \"B\"], omics_marker_names_processed,\n",
    "                                        pheno_filename, geno_filename, kinship_filename, \n",
    "                                        output_filename, \n",
    "                                        gemma);\n",
    "=#"
   ]
  },
  {
   "cell_type": "code",
   "execution_count": 42,
   "id": "6e513c00-c2aa-4bb6-a97b-4695a856d4b7",
   "metadata": {},
   "outputs": [],
   "source": [
    "#=\n",
    "runtime_results_file = open(\"output/runtimes_omics.txt\", \"w\")\n",
    "write(runtime_results_file, \"BulkLMM Alg:null_grid20 runtime = $t_null_grid20 seconds \\n\");\n",
    "write(runtime_results_file, \"BulkLMM Alg:null_grid100 runtime = $t_null_grid100 seconds \\n\");\n",
    "write(runtime_results_file, \"Gemma runtime = $t_gemma seconds\");\n",
    "close(runtime_results_file)\n",
    "=#"
   ]
  },
  {
   "cell_type": "code",
   "execution_count": 43,
   "id": "c7459029-b2e8-4e7b-9688-9c42e4e3eb01",
   "metadata": {},
   "outputs": [],
   "source": [
    "# writedlm(\"output/gemma_L_omics.txt\", gemma_samples_results, '\\t');"
   ]
  },
  {
   "cell_type": "code",
   "execution_count": 318,
   "id": "13d3cea1-3d4a-4019-8add-a85250d2bbae",
   "metadata": {},
   "outputs": [
    {
     "name": "stdout",
     "output_type": "stream",
     "text": [
      "481.227441 seconds (7.48 G allocations: 189.101 GiB, 19.69% gc time)\n"
     ]
    }
   ],
   "source": [
    "@time gemma_samples_results = readdlm(\"output/gemma_L_omics.txt\", '\\t');"
   ]
  },
  {
   "cell_type": "code",
   "execution_count": 190,
   "id": "c3f636a7-6ebf-4b52-8135-405737f0d326",
   "metadata": {},
   "outputs": [
    {
     "data": {
      "text/plain": [
       "meanAbsDiff (generic function with 1 method)"
      ]
     },
     "execution_count": 190,
     "metadata": {},
     "output_type": "execute_result"
    }
   ],
   "source": [
    "function meanAbsDiff(x, y)\n",
    "    \n",
    "    return mean(abs.(x .- y))\n",
    "    \n",
    "end"
   ]
  },
  {
   "cell_type": "code",
   "execution_count": 191,
   "id": "428172cd-042f-4859-b796-4d7bda2f6206",
   "metadata": {},
   "outputs": [
    {
     "data": {
      "text/plain": [
       "removeInfValues! (generic function with 1 method)"
      ]
     },
     "execution_count": 191,
     "metadata": {},
     "output_type": "execute_result"
    }
   ],
   "source": [
    "function removeInfValues!(x, y)\n",
    "    \n",
    "    toRemove = findall(isinf.(x));\n",
    "    toRemove2 = findall(isnan.(x));\n",
    "    \n",
    "    for inf_val in toRemove\n",
    "        \n",
    "        x[inf_val[1], inf_val[2]] = 0.0;\n",
    "        y[inf_val[1], inf_val[2]] = 0.0;\n",
    "        \n",
    "    end\n",
    "    \n",
    "    for nan_val in toRemove2\n",
    "        \n",
    "        x[nan_val[1], nan_val[2]] = 0.0;\n",
    "        y[nan_val[1], nan_val[2]] = 0.0;\n",
    "        \n",
    "    end\n",
    "    \n",
    "end"
   ]
  },
  {
   "cell_type": "code",
   "execution_count": 215,
   "id": "e19a0975-15e4-47d3-8d5a-b8f6715aca7d",
   "metadata": {},
   "outputs": [],
   "source": [
    "bulklmm_samples_results = bulkscan_null_grid_results20.L[:, rand_samples];"
   ]
  },
  {
   "cell_type": "code",
   "execution_count": 216,
   "id": "450b6da8-ec52-4a41-950e-d357cc8e46ec",
   "metadata": {},
   "outputs": [],
   "source": [
    "bulklmm_samples_results100 = bulkscan_null_grid_results100.L[:, rand_samples];"
   ]
  },
  {
   "cell_type": "code",
   "execution_count": 217,
   "id": "4916828e-4611-4bf8-9b4e-c40747bf1731",
   "metadata": {},
   "outputs": [
    {
     "data": {
      "text/plain": [
       "117618×1000 Matrix{Float64}:\n",
       " 0.0974741   0.164465    0.233916     0.0243786    …  0.105225     0.0508327\n",
       " 0.0170367   0.111726    0.0591526    0.294831        0.247647     0.251777\n",
       " 0.00470387  0.167474    0.00426075   0.0394762       0.0363392    0.259229\n",
       " 0.132787    0.0215857   0.00939123   0.542847        0.0473257    0.0532225\n",
       " 0.00724453  0.0366205   0.00542043   0.0874384       0.0237501    0.111704\n",
       " 0.097629    0.0613611   0.00214149   0.637624     …  0.0191477    0.120678\n",
       " 0.0121531   0.0465825   0.000567216  0.610248        0.00231321   0.0180577\n",
       " 0.107786    0.0782163   0.0155233    0.377761        0.00168422   0.0135203\n",
       " 0.0281333   0.0154773   0.00568614   0.0706962       0.143478     0.338715\n",
       " 0.00641398  0.164822    0.00252118   0.000663979     0.121468     0.489662\n",
       " 0.0553845   0.00958447  0.0170617    0.662549     …  0.0004844    0.00475779\n",
       " 0.113043    0.0109376   0.0367628    0.604237        0.00771941   0.192482\n",
       " 0.22724     0.0473535   0.000163738  0.0449863       0.188162     0.0585121\n",
       " ⋮                                                 ⋱               \n",
       " 0.211329    0.482242    0.540982     0.110883        0.00586779   0.0193284\n",
       " 0.209207    1.2369      0.362075     0.0905877       0.0414229    0.0302673\n",
       " 0.209254    1.2328      0.360505     0.0911741       0.0411028    0.0301886\n",
       " 0.209368    1.2358      0.361925     0.0909888       0.0413131    0.0302385\n",
       " 0.211372    1.23506     0.360983     0.0924846    …  0.0407779    0.0299523\n",
       " 0.209207    1.2369      0.362075     0.0905877       0.0414229    0.0302673\n",
       " 0.0693204   1.11324     0.219363     0.0209347       0.0812505    0.045997\n",
       " 0.0270951   0.753474    0.00562368   0.070859        0.172231     0.0597631\n",
       " 0.191782    0.851743    0.008326     0.00911807      0.00199264   0.00514636\n",
       " 0.051529    0.724228    0.000663536  0.0397184    …  0.0420836    0.00366758\n",
       " 0.115761    0.632294    0.00918593   0.0108177       0.000819914  0.00451575\n",
       " 0.110829    0.630379    0.00863786   0.0116712       0.00129322   0.00373973"
      ]
     },
     "execution_count": 217,
     "metadata": {},
     "output_type": "execute_result"
    }
   ],
   "source": [
    "gemma_copy = copy(gemma_samples_results)"
   ]
  },
  {
   "cell_type": "code",
   "execution_count": 406,
   "id": "041269e9-13a6-4c61-8498-584c4ffe6dbc",
   "metadata": {},
   "outputs": [],
   "source": [
    "findfirst(isnan.(gemma_samples_results))"
   ]
  },
  {
   "cell_type": "code",
   "execution_count": 407,
   "id": "d2e75ad1-800a-474d-ac27-ec9437806062",
   "metadata": {},
   "outputs": [],
   "source": [
    "findfirst(isnan.(gemma_copy))"
   ]
  },
  {
   "cell_type": "code",
   "execution_count": 408,
   "id": "86bd6123-a97c-479a-9ce3-45077d818f37",
   "metadata": {},
   "outputs": [
    {
     "data": {
      "text/plain": [
       "0.0"
      ]
     },
     "execution_count": 408,
     "metadata": {},
     "output_type": "execute_result"
    }
   ],
   "source": [
    "gemma_samples_results[5012, 3]"
   ]
  },
  {
   "cell_type": "code",
   "execution_count": 409,
   "id": "dfb2c31f-a3a4-41c4-b735-d071649613de",
   "metadata": {},
   "outputs": [],
   "source": [
    "removeInfValues!(gemma_samples_results, bulklmm_samples_results)"
   ]
  },
  {
   "cell_type": "code",
   "execution_count": 410,
   "id": "6b58917e-d192-454d-afa2-0f592cb86cc3",
   "metadata": {},
   "outputs": [
    {
     "data": {
      "text/plain": [
       "0.05860736875873897"
      ]
     },
     "execution_count": 410,
     "metadata": {},
     "output_type": "execute_result"
    }
   ],
   "source": [
    "meanAbsDiff(gemma_samples_results, bulklmm_samples_results)"
   ]
  },
  {
   "cell_type": "code",
   "execution_count": 411,
   "id": "97620f0d-475c-4230-9893-bfafe77da762",
   "metadata": {},
   "outputs": [
    {
     "data": {
      "text/plain": [
       "0.0"
      ]
     },
     "execution_count": 411,
     "metadata": {},
     "output_type": "execute_result"
    }
   ],
   "source": [
    "gemma_samples_results[5012, 3]"
   ]
  },
  {
   "cell_type": "code",
   "execution_count": 412,
   "id": "4148b737-8f59-4d66-a027-927820e47801",
   "metadata": {},
   "outputs": [],
   "source": [
    "gemma_samples_results = copy(gemma_copy);"
   ]
  },
  {
   "cell_type": "code",
   "execution_count": 413,
   "id": "6f5dc166-793e-4026-b5c1-b3edcaf1918f",
   "metadata": {},
   "outputs": [
    {
     "data": {
      "text/plain": [
       "0.0"
      ]
     },
     "execution_count": 413,
     "metadata": {},
     "output_type": "execute_result"
    }
   ],
   "source": [
    "gemma_samples_results[5012, 3]"
   ]
  },
  {
   "cell_type": "code",
   "execution_count": 414,
   "id": "2d8acca1-4f21-43b8-9898-1c9384097998",
   "metadata": {},
   "outputs": [],
   "source": [
    "removeInfValues!(gemma_samples_results, bulklmm_samples_results100)"
   ]
  },
  {
   "cell_type": "code",
   "execution_count": 415,
   "id": "9314ad6e-7bdc-4094-9ccb-a07d73b2955e",
   "metadata": {},
   "outputs": [
    {
     "data": {
      "text/plain": [
       "0.05862283808452874"
      ]
     },
     "execution_count": 415,
     "metadata": {},
     "output_type": "execute_result"
    }
   ],
   "source": [
    "meanAbsDiff(gemma_samples_results, bulklmm_samples_results100)"
   ]
  },
  {
   "cell_type": "code",
   "execution_count": 152,
   "id": "7b8174a4-0fa8-4d2a-90b2-746fcb6ec74e",
   "metadata": {},
   "outputs": [
    {
     "data": {
      "text/plain": [
       "0.5326833987995034"
      ]
     },
     "execution_count": 152,
     "metadata": {},
     "output_type": "execute_result"
    }
   ],
   "source": [
    "mean(bulkscan_null_grid_results100.L[:, rand_samples] .> gemma_samples_results)"
   ]
  },
  {
   "cell_type": "code",
   "execution_count": 164,
   "id": "88552be8-30a6-4fe9-8d95-f80cf774a550",
   "metadata": {},
   "outputs": [
    {
     "data": {
      "text/plain": [
       "0.9964161598609904"
      ]
     },
     "execution_count": 164,
     "metadata": {},
     "output_type": "execute_result"
    }
   ],
   "source": [
    "mean(bulkscan_null_grid_results100.h2_null_list .== 0.0)"
   ]
  },
  {
   "cell_type": "code",
   "execution_count": 165,
   "id": "dc56ec09-326c-44f4-a2cd-bcb67314d740",
   "metadata": {},
   "outputs": [
    {
     "data": {
      "text/plain": [
       "66-element Vector{Int64}:\n",
       "    49\n",
       "   367\n",
       "   382\n",
       "   951\n",
       "  1070\n",
       "  1571\n",
       "  2037\n",
       "  3086\n",
       "  3090\n",
       "  3272\n",
       "  3771\n",
       "  3819\n",
       "  3943\n",
       "     ⋮\n",
       " 15735\n",
       " 16073\n",
       " 16167\n",
       " 16756\n",
       " 17200\n",
       " 17306\n",
       " 17474\n",
       " 17534\n",
       " 17597\n",
       " 17926\n",
       " 18250\n",
       " 18264"
      ]
     },
     "execution_count": 165,
     "metadata": {},
     "output_type": "execute_result"
    }
   ],
   "source": [
    "findall(bulkscan_null_grid_results100.h2_null_list .!== 0.0)"
   ]
  },
  {
   "cell_type": "code",
   "execution_count": 166,
   "id": "58061169-1c62-4bb6-956a-b1eadaa9b5e0",
   "metadata": {},
   "outputs": [],
   "source": [
    "meanAbsDiff_per_trait = map(x -> meanAbsDiff(bulklmm_samples_results[:, x], gemma_samples_results[:, x]), collect(1:1000));"
   ]
  },
  {
   "cell_type": "code",
   "execution_count": 167,
   "id": "3e449aa5-2faf-4e0b-8175-4dbb43a9e99b",
   "metadata": {},
   "outputs": [
    {
     "data": {
      "text/plain": [
       "(0.08868394286837569, 152)"
      ]
     },
     "execution_count": 167,
     "metadata": {},
     "output_type": "execute_result"
    }
   ],
   "source": [
    "findmax(meanAbsDiff_per_trait)"
   ]
  },
  {
   "cell_type": "code",
   "execution_count": 168,
   "id": "a73ac47c-d779-43c4-90f0-a81bdd10ba09",
   "metadata": {},
   "outputs": [
    {
     "data": {
      "text/plain": [
       "2191"
      ]
     },
     "execution_count": 168,
     "metadata": {},
     "output_type": "execute_result"
    }
   ],
   "source": [
    "rand_samples[152]"
   ]
  },
  {
   "cell_type": "code",
   "execution_count": 169,
   "id": "6816f152-ffd7-408b-8ee6-dbe4e4cca56c",
   "metadata": {},
   "outputs": [
    {
     "data": {
      "text/plain": [
       "117618-element Vector{Float64}:\n",
       " 0.2250610927179469\n",
       " 0.2843815302076637\n",
       " 0.8881004142779557\n",
       " 0.8432125303537233\n",
       " 0.9043593692736831\n",
       " 1.060048843726062\n",
       " 0.7541895425552424\n",
       " 0.8208176961621411\n",
       " 0.25905617802687214\n",
       " 0.20162964273828934\n",
       " 0.7021153522511762\n",
       " 0.5859187783141239\n",
       " 0.36147311816501404\n",
       " ⋮\n",
       " 0.009540689609963945\n",
       " 0.002512293886460644\n",
       " 0.0026123225358683656\n",
       " 0.002505279593512169\n",
       " 0.0024074232765926547\n",
       " 0.002512293886460644\n",
       " 0.03810912589446964\n",
       " 0.30397030669347724\n",
       " 0.023212087503972308\n",
       " 0.0005848979370812589\n",
       " 0.051656779973949726\n",
       " 0.047971430444706004"
      ]
     },
     "execution_count": 169,
     "metadata": {},
     "output_type": "execute_result"
    }
   ],
   "source": [
    "gemma_samples_results[:, 152]"
   ]
  },
  {
   "cell_type": "markdown",
   "id": "7b824abd-45de-45af-b548-9076573d6a5c",
   "metadata": {},
   "source": [
    "#### Look at results mapping single-trait"
   ]
  },
  {
   "cell_type": "code",
   "execution_count": 236,
   "id": "aed640d8-b91d-4f60-b003-7a0af657f849",
   "metadata": {},
   "outputs": [
    {
     "data": {
      "text/plain": [
       "17818"
      ]
     },
     "execution_count": 236,
     "metadata": {},
     "output_type": "execute_result"
    }
   ],
   "source": [
    "rand_samples[623]"
   ]
  },
  {
   "cell_type": "code",
   "execution_count": 245,
   "id": "98ce4a11-7431-42f1-b5d8-4c0fbd5be3d8",
   "metadata": {},
   "outputs": [
    {
     "name": "stdout",
     "output_type": "stream",
     "text": [
      "GEMMA 0.98.5 (2021-08-25) by Xiang Zhou, Pjotr Prins and team (C) 2012-2021\n",
      "Reading Files ... \n",
      "## number of total individuals = 80\n",
      "## number of analyzed individuals = 80\n",
      "## number of covariates = 1\n",
      "## number of phenotypes = 1\n",
      "## number of total SNPs/var        =   117618\n",
      "## number of analyzed SNPs         =   117618\n",
      "Start Eigen-Decomposition...\n",
      "pve estimate =nan\n",
      "se(pve) =nan\n",
      "================================================== 100%\n"
     ]
    },
    {
     "name": "stderr",
     "output_type": "stream",
     "text": [
      "**** INFO: Done.\n"
     ]
    },
    {
     "name": "stdout",
     "output_type": "stream",
     "text": [
      " 15.421169 seconds (57.99 M allocations: 4.832 GiB, 15.22% gc time)\n"
     ]
    }
   ],
   "source": [
    "@time gemma_one_trait_results = run_gemma(reshape(omics_pheno_processed[:, 832], :, 1), omics_geno_processed, omics_kinship,\n",
    "                                        [\"A\", \"B\"], omics_marker_names_processed,\n",
    "                                        pheno_filename, geno_filename, kinship_filename, \n",
    "                                        output_filename, \n",
    "                                        gemma);"
   ]
  },
  {
   "cell_type": "code",
   "execution_count": 246,
   "id": "70cfda0a-9c95-4528-9ebc-95a7acbc5707",
   "metadata": {},
   "outputs": [
    {
     "data": {
      "text/plain": [
       "true"
      ]
     },
     "execution_count": 246,
     "metadata": {},
     "output_type": "execute_result"
    }
   ],
   "source": [
    "any(isnan.(gemma_one_trait_results))"
   ]
  },
  {
   "cell_type": "code",
   "execution_count": 250,
   "id": "a4d4e71f-3a54-4319-becf-9ae3150e819e",
   "metadata": {},
   "outputs": [
    {
     "data": {
      "text/plain": [
       "1-element Vector{CartesianIndex{2}}:\n",
       " CartesianIndex(84731, 1)"
      ]
     },
     "execution_count": 250,
     "metadata": {},
     "output_type": "execute_result"
    }
   ],
   "source": [
    "findall(isnan.(gemma_one_trait_results))"
   ]
  },
  {
   "cell_type": "code",
   "execution_count": 249,
   "id": "55d95aca-dd8b-40d9-bd33-1ed1aedd990f",
   "metadata": {},
   "outputs": [
    {
     "data": {
      "text/plain": [
       "(NaN, CartesianIndex(84731, 1))"
      ]
     },
     "execution_count": 249,
     "metadata": {},
     "output_type": "execute_result"
    }
   ],
   "source": [
    "findmax(abs.(gemma_one_trait_results .- bulkscan_null_grid_results100.L[:, 832]))"
   ]
  },
  {
   "cell_type": "code",
   "execution_count": 251,
   "id": "b9d9a60a-0cf8-47b6-a7d1-5394ac92691f",
   "metadata": {},
   "outputs": [
    {
     "name": "stdout",
     "output_type": "stream",
     "text": [
      " 92.067949 seconds (193.53 M allocations: 85.822 GiB, 8.17% gc time)\n"
     ]
    }
   ],
   "source": [
    "@time single_trait_na_bulklmm = scan(reshape(omics_pheno_processed[:, 832], :, 1), omics_geno_processed, omics_kinship; assumption = \"alt\");"
   ]
  },
  {
   "cell_type": "code",
   "execution_count": 334,
   "id": "4d4d24d1-dd87-46b6-90fd-5ab8a8682c6e",
   "metadata": {},
   "outputs": [
    {
     "name": "stdout",
     "output_type": "stream",
     "text": [
      " 27.839460 seconds (66.16 M allocations: 28.750 GiB, 11.50% gc time)\n"
     ]
    }
   ],
   "source": [
    "@time single_trait_na_bulklmm_reml = scan(reshape(omics_pheno_processed[:, 832], :, 1), omics_geno_processed, omics_kinship; \n",
    "                                          assumption = \"alt\", reml = true, \n",
    "                                          prior_variance = var(omics_pheno_processed[:, 832]), prior_sample_size = 0.5);"
   ]
  },
  {
   "cell_type": "code",
   "execution_count": 336,
   "id": "dc048e67-c2a9-411c-8301-48290810621b",
   "metadata": {},
   "outputs": [
    {
     "data": {
      "text/plain": [
       "117618×4 Matrix{Float64}:\n",
       " 1.17849    1.13178     1.13178     1.11064\n",
       " 0.24912    0.338463    0.338463    0.669472\n",
       " 0.516644   0.370274    0.370274    0.321717\n",
       " 0.212943   0.191175    0.191175    0.167494\n",
       " 0.521571   0.388488    0.388488    0.341285\n",
       " 0.554099   0.52908     0.52908     0.503915\n",
       " 0.447054   0.400953    0.400953    0.369817\n",
       " 0.200936   0.179684    0.179684    0.1664\n",
       " 0.410644   0.258084    0.258084    0.206594\n",
       " 0.252509   0.108236    0.108236    0.0561765\n",
       " 0.410488   0.427959    0.427959    0.438933\n",
       " 0.635504   0.658674    0.658674    0.65327\n",
       " 0.27479    0.389999    0.389999    0.720997\n",
       " ⋮                                  \n",
       " 0.188147   0.201467    0.201467    0.214639\n",
       " 0.0590611  0.0560022   0.0560022   0.0531623\n",
       " 0.0593569  0.0562647   0.0562647   0.0533962\n",
       " 0.0591356  0.0560577   0.0560577   0.0532038\n",
       " 0.0586452  0.0555244   0.0555244   0.0525852\n",
       " 0.0590611  0.0560022   0.0560022   0.0531623\n",
       " 0.036829   0.0431526   0.0431526   0.047319\n",
       " 0.001326   0.00195539  0.00195539  0.00645154\n",
       " 0.143893   0.0995717   0.0995717   0.075686\n",
       " 0.367629   0.287319    0.287319    0.250567\n",
       " 0.121737   0.0711875   0.0711875   0.045118\n",
       " 0.130269   0.0777431   0.0777431   0.0508638"
      ]
     },
     "execution_count": 336,
     "metadata": {},
     "output_type": "execute_result"
    }
   ],
   "source": [
    "hcat(gemma_one_trait_results, bulkscan_null_grid_results100.L[:, 832], single_trait_na_bulklmm.lod, single_trait_na_bulklmm_reml.lod)"
   ]
  },
  {
   "cell_type": "code",
   "execution_count": 337,
   "id": "758f85f8-ee2d-44ed-8c82-6e26b2ef0f14",
   "metadata": {},
   "outputs": [
    {
     "data": {
      "text/plain": [
       "8.4984128456085e-16"
      ]
     },
     "execution_count": 337,
     "metadata": {},
     "output_type": "execute_result"
    }
   ],
   "source": [
    "single_trait_na_bulklmm.h2_null"
   ]
  },
  {
   "cell_type": "code",
   "execution_count": 338,
   "id": "cfa3a716-ff70-4246-89f4-5729203a2826",
   "metadata": {},
   "outputs": [
    {
     "data": {
      "text/plain": [
       "0.3311447862630123"
      ]
     },
     "execution_count": 338,
     "metadata": {},
     "output_type": "execute_result"
    }
   ],
   "source": [
    "single_trait_na_bulklmm_reml.h2_null"
   ]
  },
  {
   "cell_type": "code",
   "execution_count": 339,
   "id": "ab8c9bcc-412e-47c0-85b9-d4e1dbd2794f",
   "metadata": {},
   "outputs": [
    {
     "data": {
      "text/plain": [
       "117618×2 Matrix{Float64}:\n",
       " 8.49841e-16  0.401027\n",
       " 3.80061e-15  1.45395e-12\n",
       " 2.3489e-15   0.561108\n",
       " 8.49841e-16  0.410976\n",
       " 1.4517e-15   0.549077\n",
       " 8.49841e-16  0.420705\n",
       " 8.49841e-16  0.442221\n",
       " 8.49841e-16  0.373744\n",
       " 8.49841e-16  0.566643\n",
       " 8.49841e-16  0.560199\n",
       " 2.22491e-15  0.30223\n",
       " 1.4517e-15   0.350975\n",
       " 3.80061e-15  1.3963e-12\n",
       " ⋮            \n",
       " 8.49841e-16  0.293292\n",
       " 8.49841e-16  0.337647\n",
       " 2.3489e-15   0.337727\n",
       " 8.49841e-16  0.337688\n",
       " 3.80061e-15  0.337939\n",
       " 8.49841e-16  0.337647\n",
       " 8.49841e-16  0.317958\n",
       " 2.22491e-15  0.318132\n",
       " 8.49841e-16  0.408946\n",
       " 2.3489e-15   0.463934\n",
       " 8.49841e-16  0.417871\n",
       " 3.07475e-15  0.421092"
      ]
     },
     "execution_count": 339,
     "metadata": {},
     "output_type": "execute_result"
    }
   ],
   "source": [
    "hcat(single_trait_na_bulklmm.h2_each_marker, single_trait_na_bulklmm_reml.h2_each_marker)"
   ]
  },
  {
   "cell_type": "code",
   "execution_count": null,
   "id": "fcebbd4f-7311-4970-9758-bc855690ef5c",
   "metadata": {},
   "outputs": [],
   "source": []
  },
  {
   "cell_type": "code",
   "execution_count": 319,
   "id": "243c0bff-f564-4c26-b84d-5fedc5079a8f",
   "metadata": {},
   "outputs": [
    {
     "data": {
      "text/plain": [
       "plotLL (generic function with 1 method)"
      ]
     },
     "execution_count": 319,
     "metadata": {},
     "output_type": "execute_result"
    }
   ],
   "source": [
    "## Helper functions for conducting genome-wide assoication analysis of a single trait\n",
    "\n",
    "### Function to compute thresholds from permutation testing results:\n",
    "### Inputs: \n",
    "###     - nperms_results - A matrix of LOD scores, each column contains the LOD scores \n",
    "###       fitted for each permuted copy;\n",
    "###     - probs - A list contains the requested estimated (right-tail) probabilities \n",
    "###       the thresholds correspond to.\n",
    "### Outputs:\n",
    "###     - An object containing the quantiles of maximal LOD scores among all maximal \n",
    "###       LOD scores for all permutations and the corresponding probabilities . \n",
    "\n",
    "function get_thresholds(L::Array{Float64, 2}, thr_probs::Array{Float64, 1})\n",
    "\n",
    "    # Get the LOD score peak for each trait\n",
    "    peak_each_trait = vec(mapslices(x -> maximum(x), L; dims = 1));\n",
    "    # Thresholds will be determined by the quantiles of the peaks\n",
    "    thrs = map(x -> quantile(peak_each_trait, x), thr_probs);\n",
    "\n",
    "    return (probs = thr_probs, thrs = thrs);\n",
    "\n",
    "end\n",
    "\n",
    "## Function to compute the loglikelihood value of the given data under LMM model:\n",
    "## Inputs: data after rotation, a given h2 to evaluate loglik on\n",
    "##         (optional) prior for regularization loglik near the upper boundary pt.\n",
    "## Outputs: the logliks (null, alt mean model) under the given h2\n",
    "function getLL(y0::Array{Float64, 2}, X0::Array{Float64, 2}, lambda0::Array{Float64, 1},\n",
    "               num_of_covar::Int64, \n",
    "               markerID::Int64, h2::Float64; reml::Bool = false, prior::Array{Float64, 1} = [0.0, 0.0])\n",
    "    \n",
    "    n = size(y0, 1);\n",
    "    w = makeweights(h2, lambda0);\n",
    "\n",
    "    if num_of_covar == 1\n",
    "        X0_covar = reshape(X0[:, 1], :, 1);\n",
    "    else\n",
    "        X0_covar = X0[:, 1:num_of_covar];\n",
    "    end\n",
    "\n",
    "    X_design = zeros(n, num_of_covar+1);\n",
    "    X_design[:, 1:num_of_covar] = X0_covar;\n",
    "    X_design[:, num_of_covar+1] = X0[:, markerID+num_of_covar];\n",
    "    \n",
    "    return (ll_null = wls(y0, X0_covar, w, prior; reml = reml).ell, ll_markerID = wls(y0, X_design, w, prior; reml = reml).ell)\n",
    "end\n",
    "\n",
    "function profileLL(y::Array{Float64, 2}, G::Array{Float64, 2}, covar::Array{Float64, 2}, \n",
    "                   K::Array{Float64, 2}, \n",
    "                   h2_grid::Array{Float64, 1}, markerID::Int64;\n",
    "                   reml::Bool = false,\n",
    "                   prior::Array{Float64, 1} = [0.0, 0.0])\n",
    "\n",
    "    ## Initiate the vector to store the profile likelihood values evaluated under each given parameter value\n",
    "    ell_null = zeros(length(h2_grid)); # loglikelihood under null\n",
    "    ell_alt = zeros(length(h2_grid)); # loglikelihood under alternative\n",
    "\n",
    "\n",
    "    num_of_covar = size(covar, 2);\n",
    "    (y0, X0, lambda0) = transform_rotation(y, [covar G], K; addIntercept = false);\n",
    "\n",
    "    ## Loop through the supplied h2 values, evaluate the profile loglik under each h2\n",
    "    for k in 1:length(h2_grid)\n",
    "        curr_h2 = h2_grid[k];\n",
    "        output = getLL(y0, X0, lambda0, num_of_covar, markerID, curr_h2; \n",
    "                       reml = reml, prior = prior);\n",
    "        ell_null[k] = output.ll_null;\n",
    "        ell_alt[k] = output.ll_markerID;\n",
    "    end\n",
    "\n",
    "    ## Return values will be two (null, alternative models) lists of all loglikelihood values evaluated\n",
    "    return (ll_list_null = ell_null, ll_list_alt = ell_alt);\n",
    "\n",
    "end\n",
    "\n",
    "## To be moved...\n",
    "function plotLL(y::Array{Float64, 2}, G::Array{Float64, 2}, covar::Array{Float64, 2}, \n",
    "                K::Array{Float64, 2}, \n",
    "                h2_grid::Array{Float64, 1}, markerID::Int64;\n",
    "                reml::Bool = false,\n",
    "                x_lims::Array{Float64, 1}, y_lims::Array{Float64, 1},\n",
    "                prior::Array{Float64, 1} = [0.0, 0.0])\n",
    "\n",
    "\n",
    "    ell_null = zeros(length(h2_grid));\n",
    "    ell_alt = zeros(length(h2_grid));\n",
    "\n",
    "\n",
    "    num_of_covar = size(covar, 2);\n",
    "    (y0, X0, lambda0) = transform_rotation(y, [covar G], K; addIntercept = false);\n",
    "\n",
    "    for k in 1:length(h2_grid)\n",
    "        curr_h2 = h2_grid[k];\n",
    "        output = getLL(y0, X0, lambda0, num_of_covar, markerID, curr_h2; reml = reml, prior = prior);\n",
    "        ell_null[k] = output.ll_null;\n",
    "        ell_alt[k] = output.ll_markerID;\n",
    "    end\n",
    "\n",
    "    opt_ll_null = findmax(ell_null)[1];\n",
    "    opt_h2_null = h2_grid[findmax(ell_null)[2]];\n",
    "    opt_ll_alt = findmax(ell_alt)[1];\n",
    "    opt_h2_alt = h2_grid[findmax(ell_alt)[2]];\n",
    "    \n",
    "    lb = min(findmin(ell_null)[1], findmin(ell_alt)[1]);\n",
    "    ub = max(opt_ll_null, opt_ll_alt);\n",
    "\n",
    "    p = plot(h2_grid, ell_null, xlabel = \"h2\", ylabel = \"loglik\", label = \"Null\", color = \"blue\", legend=:bottomleft)\n",
    "    scatter!(p, [opt_h2_null], [opt_ll_null], label = \"maxLL_null\", color = \"blue\")\n",
    "    plot!(p, h2_grid, ell_alt, xlabel = \"h2\", ylabel = \"loglik\", label = (\"Alt_$markerID\"), color = \"red\")\n",
    "    scatter!(p, [opt_h2_alt], [opt_ll_alt], label = \"maxLL_alt\", color = \"red\");\n",
    "\n",
    "    plot!(p, ones(2).*opt_h2_null, [lb-0.05, opt_ll_null], color = \"blue\", style = :dash, label = \"\")\n",
    "    plot!(p, [x_lims[1]-0.05, opt_h2_null], ones(2).*opt_ll_null, color = \"blue\", style = :dash, label = \"\")\n",
    "    annotate!(p, opt_h2_null, y_lims[1]-1.75, \n",
    "              text(\"$opt_h2_null\", :blue, :below, 8))\n",
    "\n",
    "    plot!(p, ones(2).*opt_h2_alt, [lb-0.05, opt_ll_alt], color = \"red\", style = :dash, label = \"\")\n",
    "    plot!(p, [x_lims[1]-0.05, opt_h2_alt], ones(2).*opt_ll_alt, color = \"red\", style = :dash, label = \"\")\n",
    "    annotate!(p, opt_h2_alt, lb-1.75, \n",
    "              text(\"$opt_h2_alt\", :red, :below, 8))\n",
    "\n",
    "\n",
    "    xlims!(p, (x_lims[1]-0.05, x_lims[2]+0.05))\n",
    "    ylims!(p, (lb-1.0), ub+1.0)\n",
    "    #= \n",
    "    ylims!(p, (minimum([y_lims[1], minimum(ell_null), minimum(ell_alt)])-0.05, \n",
    "               maximum([y_lims[2], maximum(ell_null), maximum(ell_alt)])+0.05))\n",
    "\n",
    "    =#\n",
    "    return p\n",
    "\n",
    "end"
   ]
  },
  {
   "cell_type": "code",
   "execution_count": 320,
   "id": "c1914dba-ddd0-456e-8295-053e35935f4e",
   "metadata": {},
   "outputs": [],
   "source": [
    "fine_grid = collect(0.0:0.001:0.999);"
   ]
  },
  {
   "cell_type": "code",
   "execution_count": 321,
   "id": "20fe0fc7-6038-43a6-a372-f0f11efc97df",
   "metadata": {},
   "outputs": [
    {
     "data": {
      "image/svg+xml": [
       "<?xml version=\"1.0\" encoding=\"utf-8\"?>\n",
       "<svg xmlns=\"http://www.w3.org/2000/svg\" xmlns:xlink=\"http://www.w3.org/1999/xlink\" width=\"600\" height=\"400\" viewBox=\"0 0 2400 1600\">\n",
       "<defs>\n",
       "  <clipPath id=\"clip180\">\n",
       "    <rect x=\"0\" y=\"0\" width=\"2400\" height=\"1600\"/>\n",
       "  </clipPath>\n",
       "</defs>\n",
       "<path clip-path=\"url(#clip180)\" d=\"\n",
       "M0 1600 L2400 1600 L2400 0 L0 0  Z\n",
       "  \" fill=\"#ffffff\" fill-rule=\"evenodd\" fill-opacity=\"1\"/>\n",
       "<defs>\n",
       "  <clipPath id=\"clip181\">\n",
       "    <rect x=\"480\" y=\"0\" width=\"1681\" height=\"1600\"/>\n",
       "  </clipPath>\n",
       "</defs>\n",
       "<path clip-path=\"url(#clip180)\" d=\"\n",
       "M140.696 1486.45 L2352.76 1486.45 L2352.76 47.2441 L140.696 47.2441  Z\n",
       "  \" fill=\"#ffffff\" fill-rule=\"evenodd\" fill-opacity=\"1\"/>\n",
       "<defs>\n",
       "  <clipPath id=\"clip182\">\n",
       "    <rect x=\"140\" y=\"47\" width=\"2213\" height=\"1440\"/>\n",
       "  </clipPath>\n",
       "</defs>\n",
       "<polyline clip-path=\"url(#clip182)\" style=\"stroke:#000000; stroke-linecap:round; stroke-linejoin:round; stroke-width:2; stroke-opacity:0.1; fill:none\" points=\"\n",
       "  163.927,1486.45 163.927,47.2441 \n",
       "  \"/>\n",
       "<polyline clip-path=\"url(#clip182)\" style=\"stroke:#000000; stroke-linecap:round; stroke-linejoin:round; stroke-width:2; stroke-opacity:0.1; fill:none\" points=\"\n",
       "  656.108,1486.45 656.108,47.2441 \n",
       "  \"/>\n",
       "<polyline clip-path=\"url(#clip182)\" style=\"stroke:#000000; stroke-linecap:round; stroke-linejoin:round; stroke-width:2; stroke-opacity:0.1; fill:none\" points=\"\n",
       "  1148.29,1486.45 1148.29,47.2441 \n",
       "  \"/>\n",
       "<polyline clip-path=\"url(#clip182)\" style=\"stroke:#000000; stroke-linecap:round; stroke-linejoin:round; stroke-width:2; stroke-opacity:0.1; fill:none\" points=\"\n",
       "  1640.47,1486.45 1640.47,47.2441 \n",
       "  \"/>\n",
       "<polyline clip-path=\"url(#clip182)\" style=\"stroke:#000000; stroke-linecap:round; stroke-linejoin:round; stroke-width:2; stroke-opacity:0.1; fill:none\" points=\"\n",
       "  2132.65,1486.45 2132.65,47.2441 \n",
       "  \"/>\n",
       "<polyline clip-path=\"url(#clip180)\" style=\"stroke:#000000; stroke-linecap:round; stroke-linejoin:round; stroke-width:4; stroke-opacity:1; fill:none\" points=\"\n",
       "  140.696,1486.45 2352.76,1486.45 \n",
       "  \"/>\n",
       "<polyline clip-path=\"url(#clip180)\" style=\"stroke:#000000; stroke-linecap:round; stroke-linejoin:round; stroke-width:4; stroke-opacity:1; fill:none\" points=\"\n",
       "  163.927,1486.45 163.927,1467.55 \n",
       "  \"/>\n",
       "<polyline clip-path=\"url(#clip180)\" style=\"stroke:#000000; stroke-linecap:round; stroke-linejoin:round; stroke-width:4; stroke-opacity:1; fill:none\" points=\"\n",
       "  656.108,1486.45 656.108,1467.55 \n",
       "  \"/>\n",
       "<polyline clip-path=\"url(#clip180)\" style=\"stroke:#000000; stroke-linecap:round; stroke-linejoin:round; stroke-width:4; stroke-opacity:1; fill:none\" points=\"\n",
       "  1148.29,1486.45 1148.29,1467.55 \n",
       "  \"/>\n",
       "<polyline clip-path=\"url(#clip180)\" style=\"stroke:#000000; stroke-linecap:round; stroke-linejoin:round; stroke-width:4; stroke-opacity:1; fill:none\" points=\"\n",
       "  1640.47,1486.45 1640.47,1467.55 \n",
       "  \"/>\n",
       "<polyline clip-path=\"url(#clip180)\" style=\"stroke:#000000; stroke-linecap:round; stroke-linejoin:round; stroke-width:4; stroke-opacity:1; fill:none\" points=\"\n",
       "  2132.65,1486.45 2132.65,1467.55 \n",
       "  \"/>\n",
       "<path clip-path=\"url(#clip180)\" d=\"M127.214 1529.7 Q124.066 1529.7 122.214 1531.86 Q120.385 1534.01 120.385 1537.76 Q120.385 1541.49 122.214 1543.66 Q124.066 1545.82 127.214 1545.82 Q130.362 1545.82 132.191 1543.66 Q134.042 1541.49 134.042 1537.76 Q134.042 1534.01 132.191 1531.86 Q130.362 1529.7 127.214 1529.7 M136.496 1515.05 L136.496 1519.31 Q134.737 1518.48 132.931 1518.04 Q131.149 1517.6 129.39 1517.6 Q124.76 1517.6 122.306 1520.72 Q119.876 1523.85 119.529 1530.17 Q120.894 1528.15 122.955 1527.09 Q125.015 1526 127.492 1526 Q132.7 1526 135.709 1529.17 Q138.741 1532.32 138.741 1537.76 Q138.741 1543.08 135.593 1546.3 Q132.445 1549.52 127.214 1549.52 Q121.218 1549.52 118.047 1544.94 Q114.876 1540.33 114.876 1531.6 Q114.876 1523.41 118.765 1518.55 Q122.654 1513.66 129.204 1513.66 Q130.964 1513.66 132.746 1514.01 Q134.552 1514.36 136.496 1515.05 Z\" fill=\"#000000\" fill-rule=\"evenodd\" fill-opacity=\"1\" /><path clip-path=\"url(#clip180)\" d=\"M146.797 1542.97 L151.681 1542.97 L151.681 1548.85 L146.797 1548.85 L146.797 1542.97 Z\" fill=\"#000000\" fill-rule=\"evenodd\" fill-opacity=\"1\" /><path clip-path=\"url(#clip180)\" d=\"M160.686 1514.29 L182.908 1514.29 L182.908 1516.28 L170.362 1548.85 L165.477 1548.85 L177.283 1518.22 L160.686 1518.22 L160.686 1514.29 Z\" fill=\"#000000\" fill-rule=\"evenodd\" fill-opacity=\"1\" /><path clip-path=\"url(#clip180)\" d=\"M192.075 1514.29 L210.431 1514.29 L210.431 1518.22 L196.357 1518.22 L196.357 1526.7 Q197.375 1526.35 198.394 1526.19 Q199.412 1526 200.431 1526 Q206.218 1526 209.598 1529.17 Q212.977 1532.34 212.977 1537.76 Q212.977 1543.34 209.505 1546.44 Q206.033 1549.52 199.713 1549.52 Q197.537 1549.52 195.269 1549.15 Q193.024 1548.78 190.616 1548.04 L190.616 1543.34 Q192.7 1544.47 194.922 1545.03 Q197.144 1545.58 199.621 1545.58 Q203.625 1545.58 205.963 1543.48 Q208.301 1541.37 208.301 1537.76 Q208.301 1534.15 205.963 1532.04 Q203.625 1529.94 199.621 1529.94 Q197.746 1529.94 195.871 1530.35 Q194.019 1530.77 192.075 1531.65 L192.075 1514.29 Z\" fill=\"#000000\" fill-rule=\"evenodd\" fill-opacity=\"1\" /><path clip-path=\"url(#clip180)\" d=\"M606.849 1514.29 L629.071 1514.29 L629.071 1516.28 L616.525 1548.85 L611.641 1548.85 L623.446 1518.22 L606.849 1518.22 L606.849 1514.29 Z\" fill=\"#000000\" fill-rule=\"evenodd\" fill-opacity=\"1\" /><path clip-path=\"url(#clip180)\" d=\"M638.191 1542.97 L643.076 1542.97 L643.076 1548.85 L638.191 1548.85 L638.191 1542.97 Z\" fill=\"#000000\" fill-rule=\"evenodd\" fill-opacity=\"1\" /><path clip-path=\"url(#clip180)\" d=\"M663.261 1517.37 Q659.65 1517.37 657.821 1520.93 Q656.015 1524.47 656.015 1531.6 Q656.015 1538.71 657.821 1542.27 Q659.65 1545.82 663.261 1545.82 Q666.895 1545.82 668.7 1542.27 Q670.529 1538.71 670.529 1531.6 Q670.529 1524.47 668.7 1520.93 Q666.895 1517.37 663.261 1517.37 M663.261 1513.66 Q669.071 1513.66 672.126 1518.27 Q675.205 1522.85 675.205 1531.6 Q675.205 1540.33 672.126 1544.94 Q669.071 1549.52 663.261 1549.52 Q657.451 1549.52 654.372 1544.94 Q651.316 1540.33 651.316 1531.6 Q651.316 1522.85 654.372 1518.27 Q657.451 1513.66 663.261 1513.66 Z\" fill=\"#000000\" fill-rule=\"evenodd\" fill-opacity=\"1\" /><path clip-path=\"url(#clip180)\" d=\"M693.423 1517.37 Q689.811 1517.37 687.983 1520.93 Q686.177 1524.47 686.177 1531.6 Q686.177 1538.71 687.983 1542.27 Q689.811 1545.82 693.423 1545.82 Q697.057 1545.82 698.862 1542.27 Q700.691 1538.71 700.691 1531.6 Q700.691 1524.47 698.862 1520.93 Q697.057 1517.37 693.423 1517.37 M693.423 1513.66 Q699.233 1513.66 702.288 1518.27 Q705.367 1522.85 705.367 1531.6 Q705.367 1540.33 702.288 1544.94 Q699.233 1549.52 693.423 1549.52 Q687.612 1549.52 684.534 1544.94 Q681.478 1540.33 681.478 1531.6 Q681.478 1522.85 684.534 1518.27 Q687.612 1513.66 693.423 1513.66 Z\" fill=\"#000000\" fill-rule=\"evenodd\" fill-opacity=\"1\" /><path clip-path=\"url(#clip180)\" d=\"M1099.53 1514.29 L1121.75 1514.29 L1121.75 1516.28 L1109.2 1548.85 L1104.32 1548.85 L1116.13 1518.22 L1099.53 1518.22 L1099.53 1514.29 Z\" fill=\"#000000\" fill-rule=\"evenodd\" fill-opacity=\"1\" /><path clip-path=\"url(#clip180)\" d=\"M1130.87 1542.97 L1135.75 1542.97 L1135.75 1548.85 L1130.87 1548.85 L1130.87 1542.97 Z\" fill=\"#000000\" fill-rule=\"evenodd\" fill-opacity=\"1\" /><path clip-path=\"url(#clip180)\" d=\"M1149.97 1544.91 L1166.29 1544.91 L1166.29 1548.85 L1144.34 1548.85 L1144.34 1544.91 Q1147 1542.16 1151.59 1537.53 Q1156.19 1532.88 1157.38 1531.53 Q1159.62 1529.01 1160.5 1527.27 Q1161.4 1525.51 1161.4 1523.82 Q1161.4 1521.07 1159.46 1519.33 Q1157.54 1517.6 1154.44 1517.6 Q1152.24 1517.6 1149.78 1518.36 Q1147.35 1519.13 1144.57 1520.68 L1144.57 1515.95 Q1147.4 1514.82 1149.85 1514.24 Q1152.31 1513.66 1154.34 1513.66 Q1159.71 1513.66 1162.91 1516.35 Q1166.1 1519.03 1166.1 1523.52 Q1166.1 1525.65 1165.29 1527.57 Q1164.5 1529.47 1162.4 1532.07 Q1161.82 1532.74 1158.72 1535.95 Q1155.62 1539.15 1149.97 1544.91 Z\" fill=\"#000000\" fill-rule=\"evenodd\" fill-opacity=\"1\" /><path clip-path=\"url(#clip180)\" d=\"M1176.15 1514.29 L1194.5 1514.29 L1194.5 1518.22 L1180.43 1518.22 L1180.43 1526.7 Q1181.45 1526.35 1182.47 1526.19 Q1183.49 1526 1184.5 1526 Q1190.29 1526 1193.67 1529.17 Q1197.05 1532.34 1197.05 1537.76 Q1197.05 1543.34 1193.58 1546.44 Q1190.11 1549.52 1183.79 1549.52 Q1181.61 1549.52 1179.34 1549.15 Q1177.1 1548.78 1174.69 1548.04 L1174.69 1543.34 Q1176.77 1544.47 1179 1545.03 Q1181.22 1545.58 1183.69 1545.58 Q1187.7 1545.58 1190.04 1543.48 Q1192.37 1541.37 1192.37 1537.76 Q1192.37 1534.15 1190.04 1532.04 Q1187.7 1529.94 1183.69 1529.94 Q1181.82 1529.94 1179.94 1530.35 Q1178.09 1530.77 1176.15 1531.65 L1176.15 1514.29 Z\" fill=\"#000000\" fill-rule=\"evenodd\" fill-opacity=\"1\" /><path clip-path=\"url(#clip180)\" d=\"M1591.21 1514.29 L1613.43 1514.29 L1613.43 1516.28 L1600.89 1548.85 L1596 1548.85 L1607.81 1518.22 L1591.21 1518.22 L1591.21 1514.29 Z\" fill=\"#000000\" fill-rule=\"evenodd\" fill-opacity=\"1\" /><path clip-path=\"url(#clip180)\" d=\"M1622.55 1542.97 L1627.44 1542.97 L1627.44 1548.85 L1622.55 1548.85 L1622.55 1542.97 Z\" fill=\"#000000\" fill-rule=\"evenodd\" fill-opacity=\"1\" /><path clip-path=\"url(#clip180)\" d=\"M1637.67 1514.29 L1656.03 1514.29 L1656.03 1518.22 L1641.95 1518.22 L1641.95 1526.7 Q1642.97 1526.35 1643.99 1526.19 Q1645.01 1526 1646.03 1526 Q1651.81 1526 1655.19 1529.17 Q1658.57 1532.34 1658.57 1537.76 Q1658.57 1543.34 1655.1 1546.44 Q1651.63 1549.52 1645.31 1549.52 Q1643.13 1549.52 1640.86 1549.15 Q1638.62 1548.78 1636.21 1548.04 L1636.21 1543.34 Q1638.29 1544.47 1640.52 1545.03 Q1642.74 1545.58 1645.22 1545.58 Q1649.22 1545.58 1651.56 1543.48 Q1653.9 1541.37 1653.9 1537.76 Q1653.9 1534.15 1651.56 1532.04 Q1649.22 1529.94 1645.22 1529.94 Q1643.34 1529.94 1641.47 1530.35 Q1639.61 1530.77 1637.67 1531.65 L1637.67 1514.29 Z\" fill=\"#000000\" fill-rule=\"evenodd\" fill-opacity=\"1\" /><path clip-path=\"url(#clip180)\" d=\"M1677.79 1517.37 Q1674.17 1517.37 1672.35 1520.93 Q1670.54 1524.47 1670.54 1531.6 Q1670.54 1538.71 1672.35 1542.27 Q1674.17 1545.82 1677.79 1545.82 Q1681.42 1545.82 1683.23 1542.27 Q1685.05 1538.71 1685.05 1531.6 Q1685.05 1524.47 1683.23 1520.93 Q1681.42 1517.37 1677.79 1517.37 M1677.79 1513.66 Q1683.6 1513.66 1686.65 1518.27 Q1689.73 1522.85 1689.73 1531.6 Q1689.73 1540.33 1686.65 1544.94 Q1683.6 1549.52 1677.79 1549.52 Q1671.98 1549.52 1668.9 1544.94 Q1665.84 1540.33 1665.84 1531.6 Q1665.84 1522.85 1668.9 1518.27 Q1671.98 1513.66 1677.79 1513.66 Z\" fill=\"#000000\" fill-rule=\"evenodd\" fill-opacity=\"1\" /><path clip-path=\"url(#clip180)\" d=\"M2083.89 1514.29 L2106.11 1514.29 L2106.11 1516.28 L2093.57 1548.85 L2088.68 1548.85 L2100.49 1518.22 L2083.89 1518.22 L2083.89 1514.29 Z\" fill=\"#000000\" fill-rule=\"evenodd\" fill-opacity=\"1\" /><path clip-path=\"url(#clip180)\" d=\"M2115.23 1542.97 L2120.12 1542.97 L2120.12 1548.85 L2115.23 1548.85 L2115.23 1542.97 Z\" fill=\"#000000\" fill-rule=\"evenodd\" fill-opacity=\"1\" /><path clip-path=\"url(#clip180)\" d=\"M2129.12 1514.29 L2151.34 1514.29 L2151.34 1516.28 L2138.8 1548.85 L2133.91 1548.85 L2145.72 1518.22 L2129.12 1518.22 L2129.12 1514.29 Z\" fill=\"#000000\" fill-rule=\"evenodd\" fill-opacity=\"1\" /><path clip-path=\"url(#clip180)\" d=\"M2160.51 1514.29 L2178.87 1514.29 L2178.87 1518.22 L2164.79 1518.22 L2164.79 1526.7 Q2165.81 1526.35 2166.83 1526.19 Q2167.85 1526 2168.87 1526 Q2174.65 1526 2178.03 1529.17 Q2181.41 1532.34 2181.41 1537.76 Q2181.41 1543.34 2177.94 1546.44 Q2174.47 1549.52 2168.15 1549.52 Q2165.97 1549.52 2163.71 1549.15 Q2161.46 1548.78 2159.05 1548.04 L2159.05 1543.34 Q2161.14 1544.47 2163.36 1545.03 Q2165.58 1545.58 2168.06 1545.58 Q2172.06 1545.58 2174.4 1543.48 Q2176.74 1541.37 2176.74 1537.76 Q2176.74 1534.15 2174.4 1532.04 Q2172.06 1529.94 2168.06 1529.94 Q2166.18 1529.94 2164.31 1530.35 Q2162.46 1530.77 2160.51 1531.65 L2160.51 1514.29 Z\" fill=\"#000000\" fill-rule=\"evenodd\" fill-opacity=\"1\" /><polyline clip-path=\"url(#clip182)\" style=\"stroke:#000000; stroke-linecap:round; stroke-linejoin:round; stroke-width:2; stroke-opacity:0.1; fill:none\" points=\"\n",
       "  140.696,1445.72 2352.76,1445.72 \n",
       "  \"/>\n",
       "<polyline clip-path=\"url(#clip182)\" style=\"stroke:#000000; stroke-linecap:round; stroke-linejoin:round; stroke-width:2; stroke-opacity:0.1; fill:none\" points=\"\n",
       "  140.696,1150.55 2352.76,1150.55 \n",
       "  \"/>\n",
       "<polyline clip-path=\"url(#clip182)\" style=\"stroke:#000000; stroke-linecap:round; stroke-linejoin:round; stroke-width:2; stroke-opacity:0.1; fill:none\" points=\"\n",
       "  140.696,855.394 2352.76,855.394 \n",
       "  \"/>\n",
       "<polyline clip-path=\"url(#clip182)\" style=\"stroke:#000000; stroke-linecap:round; stroke-linejoin:round; stroke-width:2; stroke-opacity:0.1; fill:none\" points=\"\n",
       "  140.696,560.233 2352.76,560.233 \n",
       "  \"/>\n",
       "<polyline clip-path=\"url(#clip182)\" style=\"stroke:#000000; stroke-linecap:round; stroke-linejoin:round; stroke-width:2; stroke-opacity:0.1; fill:none\" points=\"\n",
       "  140.696,265.073 2352.76,265.073 \n",
       "  \"/>\n",
       "<polyline clip-path=\"url(#clip180)\" style=\"stroke:#000000; stroke-linecap:round; stroke-linejoin:round; stroke-width:4; stroke-opacity:1; fill:none\" points=\"\n",
       "  140.696,1486.45 140.696,47.2441 \n",
       "  \"/>\n",
       "<polyline clip-path=\"url(#clip180)\" style=\"stroke:#000000; stroke-linecap:round; stroke-linejoin:round; stroke-width:4; stroke-opacity:1; fill:none\" points=\"\n",
       "  140.696,1445.72 159.593,1445.72 \n",
       "  \"/>\n",
       "<polyline clip-path=\"url(#clip180)\" style=\"stroke:#000000; stroke-linecap:round; stroke-linejoin:round; stroke-width:4; stroke-opacity:1; fill:none\" points=\"\n",
       "  140.696,1150.55 159.593,1150.55 \n",
       "  \"/>\n",
       "<polyline clip-path=\"url(#clip180)\" style=\"stroke:#000000; stroke-linecap:round; stroke-linejoin:round; stroke-width:4; stroke-opacity:1; fill:none\" points=\"\n",
       "  140.696,855.394 159.593,855.394 \n",
       "  \"/>\n",
       "<polyline clip-path=\"url(#clip180)\" style=\"stroke:#000000; stroke-linecap:round; stroke-linejoin:round; stroke-width:4; stroke-opacity:1; fill:none\" points=\"\n",
       "  140.696,560.233 159.593,560.233 \n",
       "  \"/>\n",
       "<polyline clip-path=\"url(#clip180)\" style=\"stroke:#000000; stroke-linecap:round; stroke-linejoin:round; stroke-width:4; stroke-opacity:1; fill:none\" points=\"\n",
       "  140.696,265.073 159.593,265.073 \n",
       "  \"/>\n",
       "<path clip-path=\"url(#clip180)\" d=\"M92.7512 1431.51 Q89.1401 1431.51 87.3114 1435.08 Q85.5058 1438.62 85.5058 1445.75 Q85.5058 1452.86 87.3114 1456.42 Q89.1401 1459.96 92.7512 1459.96 Q96.3854 1459.96 98.1909 1456.42 Q100.02 1452.86 100.02 1445.75 Q100.02 1438.62 98.1909 1435.08 Q96.3854 1431.51 92.7512 1431.51 M92.7512 1427.81 Q98.5613 1427.81 101.617 1432.42 Q104.696 1437 104.696 1445.75 Q104.696 1454.48 101.617 1459.08 Q98.5613 1463.67 92.7512 1463.67 Q86.941 1463.67 83.8623 1459.08 Q80.8068 1454.48 80.8068 1445.75 Q80.8068 1437 83.8623 1432.42 Q86.941 1427.81 92.7512 1427.81 Z\" fill=\"#000000\" fill-rule=\"evenodd\" fill-opacity=\"1\" /><path clip-path=\"url(#clip180)\" d=\"M83.7929 1133.27 L102.149 1133.27 L102.149 1137.21 L88.0753 1137.21 L88.0753 1145.68 Q89.0938 1145.34 90.1123 1145.17 Q91.1308 1144.99 92.1493 1144.99 Q97.9363 1144.99 101.316 1148.16 Q104.696 1151.33 104.696 1156.75 Q104.696 1162.33 101.223 1165.43 Q97.7511 1168.51 91.4317 1168.51 Q89.2558 1168.51 86.9873 1168.14 Q84.7419 1167.77 82.3346 1167.02 L82.3346 1162.33 Q84.4179 1163.46 86.6401 1164.02 Q88.8623 1164.57 91.3391 1164.57 Q95.3437 1164.57 97.6817 1162.46 Q100.02 1160.36 100.02 1156.75 Q100.02 1153.14 97.6817 1151.03 Q95.3437 1148.92 91.3391 1148.92 Q89.4641 1148.92 87.5892 1149.34 Q85.7373 1149.76 83.7929 1150.64 L83.7929 1133.27 Z\" fill=\"#000000\" fill-rule=\"evenodd\" fill-opacity=\"1\" /><path clip-path=\"url(#clip180)\" d=\"M53.3995 868.739 L61.0384 868.739 L61.0384 842.373 L52.7282 844.04 L52.7282 839.781 L60.9921 838.114 L65.668 838.114 L65.668 868.739 L73.3068 868.739 L73.3068 872.674 L53.3995 872.674 L53.3995 868.739 Z\" fill=\"#000000\" fill-rule=\"evenodd\" fill-opacity=\"1\" /><path clip-path=\"url(#clip180)\" d=\"M92.7512 841.193 Q89.1401 841.193 87.3114 844.758 Q85.5058 848.299 85.5058 855.429 Q85.5058 862.535 87.3114 866.1 Q89.1401 869.642 92.7512 869.642 Q96.3854 869.642 98.1909 866.1 Q100.02 862.535 100.02 855.429 Q100.02 848.299 98.1909 844.758 Q96.3854 841.193 92.7512 841.193 M92.7512 837.489 Q98.5613 837.489 101.617 842.096 Q104.696 846.679 104.696 855.429 Q104.696 864.156 101.617 868.762 Q98.5613 873.345 92.7512 873.345 Q86.941 873.345 83.8623 868.762 Q80.8068 864.156 80.8068 855.429 Q80.8068 846.679 83.8623 842.096 Q86.941 837.489 92.7512 837.489 Z\" fill=\"#000000\" fill-rule=\"evenodd\" fill-opacity=\"1\" /><path clip-path=\"url(#clip180)\" d=\"M54.3949 573.578 L62.0337 573.578 L62.0337 547.213 L53.7236 548.879 L53.7236 544.62 L61.9874 542.953 L66.6633 542.953 L66.6633 573.578 L74.3022 573.578 L74.3022 577.513 L54.3949 577.513 L54.3949 573.578 Z\" fill=\"#000000\" fill-rule=\"evenodd\" fill-opacity=\"1\" /><path clip-path=\"url(#clip180)\" d=\"M83.7929 542.953 L102.149 542.953 L102.149 546.889 L88.0753 546.889 L88.0753 555.361 Q89.0938 555.014 90.1123 554.852 Q91.1308 554.666 92.1493 554.666 Q97.9363 554.666 101.316 557.838 Q104.696 561.009 104.696 566.426 Q104.696 572.004 101.223 575.106 Q97.7511 578.185 91.4317 578.185 Q89.2558 578.185 86.9873 577.814 Q84.7419 577.444 82.3346 576.703 L82.3346 572.004 Q84.4179 573.138 86.6401 573.694 Q88.8623 574.25 91.3391 574.25 Q95.3437 574.25 97.6817 572.143 Q100.02 570.037 100.02 566.426 Q100.02 562.814 97.6817 560.708 Q95.3437 558.602 91.3391 558.602 Q89.4641 558.602 87.5892 559.018 Q85.7373 559.435 83.7929 560.314 L83.7929 542.953 Z\" fill=\"#000000\" fill-rule=\"evenodd\" fill-opacity=\"1\" /><path clip-path=\"url(#clip180)\" d=\"M56.6171 278.418 L72.9365 278.418 L72.9365 282.353 L50.9921 282.353 L50.9921 278.418 Q53.6541 275.663 58.2375 271.033 Q62.8439 266.381 64.0245 265.038 Q66.2698 262.515 67.1494 260.779 Q68.0522 259.02 68.0522 257.33 Q68.0522 254.575 66.1078 252.839 Q64.1865 251.103 61.0847 251.103 Q58.8856 251.103 56.4319 251.867 Q54.0014 252.631 51.2236 254.182 L51.2236 249.459 Q54.0477 248.325 56.5014 247.746 Q58.955 247.168 60.9921 247.168 Q66.3624 247.168 69.5568 249.853 Q72.7513 252.538 72.7513 257.029 Q72.7513 259.158 71.9411 261.08 Q71.1541 262.978 69.0476 265.57 Q68.4689 266.242 65.367 269.459 Q62.2652 272.654 56.6171 278.418 Z\" fill=\"#000000\" fill-rule=\"evenodd\" fill-opacity=\"1\" /><path clip-path=\"url(#clip180)\" d=\"M92.7512 250.871 Q89.1401 250.871 87.3114 254.436 Q85.5058 257.978 85.5058 265.107 Q85.5058 272.214 87.3114 275.779 Q89.1401 279.32 92.7512 279.32 Q96.3854 279.32 98.1909 275.779 Q100.02 272.214 100.02 265.107 Q100.02 257.978 98.1909 254.436 Q96.3854 250.871 92.7512 250.871 M92.7512 247.168 Q98.5613 247.168 101.617 251.774 Q104.696 256.357 104.696 265.107 Q104.696 273.834 101.617 278.441 Q98.5613 283.024 92.7512 283.024 Q86.941 283.024 83.8623 278.441 Q80.8068 273.834 80.8068 265.107 Q80.8068 256.357 83.8623 251.774 Q86.941 247.168 92.7512 247.168 Z\" fill=\"#000000\" fill-rule=\"evenodd\" fill-opacity=\"1\" /><path clip-path=\"url(#clip182)\" d=\"\n",
       "M262.363 1327.65 L262.363 1445.72 L459.235 1445.72 L459.235 1327.65 L262.363 1327.65 L262.363 1327.65  Z\n",
       "  \" fill=\"#009af9\" fill-rule=\"evenodd\" fill-opacity=\"1\"/>\n",
       "<polyline clip-path=\"url(#clip182)\" style=\"stroke:#000000; stroke-linecap:round; stroke-linejoin:round; stroke-width:4; stroke-opacity:1; fill:none\" points=\"\n",
       "  262.363,1327.65 262.363,1445.72 459.235,1445.72 459.235,1327.65 262.363,1327.65 \n",
       "  \"/>\n",
       "<path clip-path=\"url(#clip182)\" d=\"\n",
       "M459.235 1386.68 L459.235 1445.72 L656.108 1445.72 L656.108 1386.68 L459.235 1386.68 L459.235 1386.68  Z\n",
       "  \" fill=\"#009af9\" fill-rule=\"evenodd\" fill-opacity=\"1\"/>\n",
       "<polyline clip-path=\"url(#clip182)\" style=\"stroke:#000000; stroke-linecap:round; stroke-linejoin:round; stroke-width:4; stroke-opacity:1; fill:none\" points=\"\n",
       "  459.235,1386.68 459.235,1445.72 656.108,1445.72 656.108,1386.68 459.235,1386.68 \n",
       "  \"/>\n",
       "<path clip-path=\"url(#clip182)\" d=\"\n",
       "M656.108 1327.65 L656.108 1445.72 L852.981 1445.72 L852.981 1327.65 L656.108 1327.65 L656.108 1327.65  Z\n",
       "  \" fill=\"#009af9\" fill-rule=\"evenodd\" fill-opacity=\"1\"/>\n",
       "<polyline clip-path=\"url(#clip182)\" style=\"stroke:#000000; stroke-linecap:round; stroke-linejoin:round; stroke-width:4; stroke-opacity:1; fill:none\" points=\"\n",
       "  656.108,1327.65 656.108,1445.72 852.981,1445.72 852.981,1327.65 656.108,1327.65 \n",
       "  \"/>\n",
       "<path clip-path=\"url(#clip182)\" d=\"\n",
       "M852.981 973.459 L852.981 1445.72 L1049.85 1445.72 L1049.85 973.459 L852.981 973.459 L852.981 973.459  Z\n",
       "  \" fill=\"#009af9\" fill-rule=\"evenodd\" fill-opacity=\"1\"/>\n",
       "<polyline clip-path=\"url(#clip182)\" style=\"stroke:#000000; stroke-linecap:round; stroke-linejoin:round; stroke-width:4; stroke-opacity:1; fill:none\" points=\"\n",
       "  852.981,973.459 852.981,1445.72 1049.85,1445.72 1049.85,973.459 852.981,973.459 \n",
       "  \"/>\n",
       "<path clip-path=\"url(#clip182)\" d=\"\n",
       "M1049.85 855.394 L1049.85 1445.72 L1246.73 1445.72 L1246.73 855.394 L1049.85 855.394 L1049.85 855.394  Z\n",
       "  \" fill=\"#009af9\" fill-rule=\"evenodd\" fill-opacity=\"1\"/>\n",
       "<polyline clip-path=\"url(#clip182)\" style=\"stroke:#000000; stroke-linecap:round; stroke-linejoin:round; stroke-width:4; stroke-opacity:1; fill:none\" points=\"\n",
       "  1049.85,855.394 1049.85,1445.72 1246.73,1445.72 1246.73,855.394 1049.85,855.394 \n",
       "  \"/>\n",
       "<path clip-path=\"url(#clip182)\" d=\"\n",
       "M1246.73 501.201 L1246.73 1445.72 L1443.6 1445.72 L1443.6 501.201 L1246.73 501.201 L1246.73 501.201  Z\n",
       "  \" fill=\"#009af9\" fill-rule=\"evenodd\" fill-opacity=\"1\"/>\n",
       "<polyline clip-path=\"url(#clip182)\" style=\"stroke:#000000; stroke-linecap:round; stroke-linejoin:round; stroke-width:4; stroke-opacity:1; fill:none\" points=\"\n",
       "  1246.73,501.201 1246.73,1445.72 1443.6,1445.72 1443.6,501.201 1246.73,501.201 \n",
       "  \"/>\n",
       "<path clip-path=\"url(#clip182)\" d=\"\n",
       "M1443.6 87.9763 L1443.6 1445.72 L1640.47 1445.72 L1640.47 87.9763 L1443.6 87.9763 L1443.6 87.9763  Z\n",
       "  \" fill=\"#009af9\" fill-rule=\"evenodd\" fill-opacity=\"1\"/>\n",
       "<polyline clip-path=\"url(#clip182)\" style=\"stroke:#000000; stroke-linecap:round; stroke-linejoin:round; stroke-width:4; stroke-opacity:1; fill:none\" points=\"\n",
       "  1443.6,87.9763 1443.6,1445.72 1640.47,1445.72 1640.47,87.9763 1443.6,87.9763 \n",
       "  \"/>\n",
       "<path clip-path=\"url(#clip182)\" d=\"\n",
       "M1640.47 855.394 L1640.47 1445.72 L1837.34 1445.72 L1837.34 855.394 L1640.47 855.394 L1640.47 855.394  Z\n",
       "  \" fill=\"#009af9\" fill-rule=\"evenodd\" fill-opacity=\"1\"/>\n",
       "<polyline clip-path=\"url(#clip182)\" style=\"stroke:#000000; stroke-linecap:round; stroke-linejoin:round; stroke-width:4; stroke-opacity:1; fill:none\" points=\"\n",
       "  1640.47,855.394 1640.47,1445.72 1837.34,1445.72 1837.34,855.394 1640.47,855.394 \n",
       "  \"/>\n",
       "<path clip-path=\"url(#clip182)\" d=\"\n",
       "M1837.34 1150.55 L1837.34 1445.72 L2034.22 1445.72 L2034.22 1150.55 L1837.34 1150.55 L1837.34 1150.55  Z\n",
       "  \" fill=\"#009af9\" fill-rule=\"evenodd\" fill-opacity=\"1\"/>\n",
       "<polyline clip-path=\"url(#clip182)\" style=\"stroke:#000000; stroke-linecap:round; stroke-linejoin:round; stroke-width:4; stroke-opacity:1; fill:none\" points=\"\n",
       "  1837.34,1150.55 1837.34,1445.72 2034.22,1445.72 2034.22,1150.55 1837.34,1150.55 \n",
       "  \"/>\n",
       "<path clip-path=\"url(#clip182)\" d=\"\n",
       "M2034.22 1268.62 L2034.22 1445.72 L2231.09 1445.72 L2231.09 1268.62 L2034.22 1268.62 L2034.22 1268.62  Z\n",
       "  \" fill=\"#009af9\" fill-rule=\"evenodd\" fill-opacity=\"1\"/>\n",
       "<polyline clip-path=\"url(#clip182)\" style=\"stroke:#000000; stroke-linecap:round; stroke-linejoin:round; stroke-width:4; stroke-opacity:1; fill:none\" points=\"\n",
       "  2034.22,1268.62 2034.22,1445.72 2231.09,1445.72 2231.09,1268.62 2034.22,1268.62 \n",
       "  \"/>\n",
       "<circle clip-path=\"url(#clip182)\" style=\"fill:#009af9; stroke:none; fill-opacity:0\" cx=\"360.799\" cy=\"1327.65\" r=\"2\"/>\n",
       "<circle clip-path=\"url(#clip182)\" style=\"fill:#009af9; stroke:none; fill-opacity:0\" cx=\"557.672\" cy=\"1386.68\" r=\"2\"/>\n",
       "<circle clip-path=\"url(#clip182)\" style=\"fill:#009af9; stroke:none; fill-opacity:0\" cx=\"754.544\" cy=\"1327.65\" r=\"2\"/>\n",
       "<circle clip-path=\"url(#clip182)\" style=\"fill:#009af9; stroke:none; fill-opacity:0\" cx=\"951.417\" cy=\"973.459\" r=\"2\"/>\n",
       "<circle clip-path=\"url(#clip182)\" style=\"fill:#009af9; stroke:none; fill-opacity:0\" cx=\"1148.29\" cy=\"855.394\" r=\"2\"/>\n",
       "<circle clip-path=\"url(#clip182)\" style=\"fill:#009af9; stroke:none; fill-opacity:0\" cx=\"1345.16\" cy=\"501.201\" r=\"2\"/>\n",
       "<circle clip-path=\"url(#clip182)\" style=\"fill:#009af9; stroke:none; fill-opacity:0\" cx=\"1542.03\" cy=\"87.9763\" r=\"2\"/>\n",
       "<circle clip-path=\"url(#clip182)\" style=\"fill:#009af9; stroke:none; fill-opacity:0\" cx=\"1738.91\" cy=\"855.394\" r=\"2\"/>\n",
       "<circle clip-path=\"url(#clip182)\" style=\"fill:#009af9; stroke:none; fill-opacity:0\" cx=\"1935.78\" cy=\"1150.55\" r=\"2\"/>\n",
       "<circle clip-path=\"url(#clip182)\" style=\"fill:#009af9; stroke:none; fill-opacity:0\" cx=\"2132.65\" cy=\"1268.62\" r=\"2\"/>\n",
       "<path clip-path=\"url(#clip180)\" d=\"\n",
       "M2005.38 198.898 L2279.02 198.898 L2279.02 95.2176 L2005.38 95.2176  Z\n",
       "  \" fill=\"#ffffff\" fill-rule=\"evenodd\" fill-opacity=\"1\"/>\n",
       "<polyline clip-path=\"url(#clip180)\" style=\"stroke:#000000; stroke-linecap:round; stroke-linejoin:round; stroke-width:4; stroke-opacity:1; fill:none\" points=\"\n",
       "  2005.38,198.898 2279.02,198.898 2279.02,95.2176 2005.38,95.2176 2005.38,198.898 \n",
       "  \"/>\n",
       "<path clip-path=\"url(#clip180)\" d=\"\n",
       "M2029.96 167.794 L2177.43 167.794 L2177.43 126.322 L2029.96 126.322 L2029.96 167.794  Z\n",
       "  \" fill=\"#009af9\" fill-rule=\"evenodd\" fill-opacity=\"1\"/>\n",
       "<polyline clip-path=\"url(#clip180)\" style=\"stroke:#000000; stroke-linecap:round; stroke-linejoin:round; stroke-width:4; stroke-opacity:1; fill:none\" points=\"\n",
       "  2029.96,167.794 2177.43,167.794 2177.43,126.322 2029.96,126.322 2029.96,167.794 \n",
       "  \"/>\n",
       "<path clip-path=\"url(#clip180)\" d=\"M2215.85 166.745 Q2214.05 171.375 2212.34 172.787 Q2210.62 174.199 2207.75 174.199 L2204.35 174.199 L2204.35 170.634 L2206.85 170.634 Q2208.61 170.634 2209.58 169.8 Q2210.55 168.967 2211.73 165.865 L2212.5 163.921 L2202.01 138.412 L2206.53 138.412 L2214.63 158.689 L2222.73 138.412 L2227.24 138.412 L2215.85 166.745 Z\" fill=\"#000000\" fill-rule=\"evenodd\" fill-opacity=\"1\" /><path clip-path=\"url(#clip180)\" d=\"M2234.53 160.402 L2242.17 160.402 L2242.17 134.037 L2233.86 135.703 L2233.86 131.444 L2242.13 129.778 L2246.8 129.778 L2246.8 160.402 L2254.44 160.402 L2254.44 164.338 L2234.53 164.338 L2234.53 160.402 Z\" fill=\"#000000\" fill-rule=\"evenodd\" fill-opacity=\"1\" /></svg>\n"
      ]
     },
     "execution_count": 321,
     "metadata": {},
     "output_type": "execute_result"
    }
   ],
   "source": [
    "histogram(omics_pheno_processed[:, 832])"
   ]
  },
  {
   "cell_type": "code",
   "execution_count": 322,
   "id": "07ad5783-be6d-45bb-927f-b9eea1e5dd65",
   "metadata": {},
   "outputs": [
    {
     "data": {
      "image/svg+xml": [
       "<?xml version=\"1.0\" encoding=\"utf-8\"?>\n",
       "<svg xmlns=\"http://www.w3.org/2000/svg\" xmlns:xlink=\"http://www.w3.org/1999/xlink\" width=\"600\" height=\"400\" viewBox=\"0 0 2400 1600\">\n",
       "<defs>\n",
       "  <clipPath id=\"clip220\">\n",
       "    <rect x=\"0\" y=\"0\" width=\"2400\" height=\"1600\"/>\n",
       "  </clipPath>\n",
       "</defs>\n",
       "<path clip-path=\"url(#clip220)\" d=\"\n",
       "M0 1600 L2400 1600 L2400 0 L0 0  Z\n",
       "  \" fill=\"#ffffff\" fill-rule=\"evenodd\" fill-opacity=\"1\"/>\n",
       "<defs>\n",
       "  <clipPath id=\"clip221\">\n",
       "    <rect x=\"480\" y=\"0\" width=\"1681\" height=\"1600\"/>\n",
       "  </clipPath>\n",
       "</defs>\n",
       "<path clip-path=\"url(#clip220)\" d=\"\n",
       "M204.936 1423.18 L2352.76 1423.18 L2352.76 47.2441 L204.936 47.2441  Z\n",
       "  \" fill=\"#ffffff\" fill-rule=\"evenodd\" fill-opacity=\"1\"/>\n",
       "<defs>\n",
       "  <clipPath id=\"clip222\">\n",
       "    <rect x=\"204\" y=\"47\" width=\"2149\" height=\"1377\"/>\n",
       "  </clipPath>\n",
       "</defs>\n",
       "<polyline clip-path=\"url(#clip222)\" style=\"stroke:#000000; stroke-linecap:round; stroke-linejoin:round; stroke-width:2; stroke-opacity:0.1; fill:none\" points=\"\n",
       "  302.564,1423.18 302.564,47.2441 \n",
       "  \"/>\n",
       "<polyline clip-path=\"url(#clip222)\" style=\"stroke:#000000; stroke-linecap:round; stroke-linejoin:round; stroke-width:2; stroke-opacity:0.1; fill:none\" points=\"\n",
       "  790.705,1423.18 790.705,47.2441 \n",
       "  \"/>\n",
       "<polyline clip-path=\"url(#clip222)\" style=\"stroke:#000000; stroke-linecap:round; stroke-linejoin:round; stroke-width:2; stroke-opacity:0.1; fill:none\" points=\"\n",
       "  1278.85,1423.18 1278.85,47.2441 \n",
       "  \"/>\n",
       "<polyline clip-path=\"url(#clip222)\" style=\"stroke:#000000; stroke-linecap:round; stroke-linejoin:round; stroke-width:2; stroke-opacity:0.1; fill:none\" points=\"\n",
       "  1766.99,1423.18 1766.99,47.2441 \n",
       "  \"/>\n",
       "<polyline clip-path=\"url(#clip222)\" style=\"stroke:#000000; stroke-linecap:round; stroke-linejoin:round; stroke-width:2; stroke-opacity:0.1; fill:none\" points=\"\n",
       "  2255.13,1423.18 2255.13,47.2441 \n",
       "  \"/>\n",
       "<polyline clip-path=\"url(#clip220)\" style=\"stroke:#000000; stroke-linecap:round; stroke-linejoin:round; stroke-width:4; stroke-opacity:1; fill:none\" points=\"\n",
       "  204.936,1423.18 2352.76,1423.18 \n",
       "  \"/>\n",
       "<polyline clip-path=\"url(#clip220)\" style=\"stroke:#000000; stroke-linecap:round; stroke-linejoin:round; stroke-width:4; stroke-opacity:1; fill:none\" points=\"\n",
       "  302.564,1423.18 302.564,1404.28 \n",
       "  \"/>\n",
       "<polyline clip-path=\"url(#clip220)\" style=\"stroke:#000000; stroke-linecap:round; stroke-linejoin:round; stroke-width:4; stroke-opacity:1; fill:none\" points=\"\n",
       "  790.705,1423.18 790.705,1404.28 \n",
       "  \"/>\n",
       "<polyline clip-path=\"url(#clip220)\" style=\"stroke:#000000; stroke-linecap:round; stroke-linejoin:round; stroke-width:4; stroke-opacity:1; fill:none\" points=\"\n",
       "  1278.85,1423.18 1278.85,1404.28 \n",
       "  \"/>\n",
       "<polyline clip-path=\"url(#clip220)\" style=\"stroke:#000000; stroke-linecap:round; stroke-linejoin:round; stroke-width:4; stroke-opacity:1; fill:none\" points=\"\n",
       "  1766.99,1423.18 1766.99,1404.28 \n",
       "  \"/>\n",
       "<polyline clip-path=\"url(#clip220)\" style=\"stroke:#000000; stroke-linecap:round; stroke-linejoin:round; stroke-width:4; stroke-opacity:1; fill:none\" points=\"\n",
       "  2255.13,1423.18 2255.13,1404.28 \n",
       "  \"/>\n",
       "<path clip-path=\"url(#clip220)\" d=\"M264.867 1454.1 Q261.256 1454.1 259.428 1457.66 Q257.622 1461.2 257.622 1468.33 Q257.622 1475.44 259.428 1479.01 Q261.256 1482.55 264.867 1482.55 Q268.502 1482.55 270.307 1479.01 Q272.136 1475.44 272.136 1468.33 Q272.136 1461.2 270.307 1457.66 Q268.502 1454.1 264.867 1454.1 M264.867 1450.39 Q270.678 1450.39 273.733 1455 Q276.812 1459.58 276.812 1468.33 Q276.812 1477.06 273.733 1481.67 Q270.678 1486.25 264.867 1486.25 Q259.057 1486.25 255.979 1481.67 Q252.923 1477.06 252.923 1468.33 Q252.923 1459.58 255.979 1455 Q259.057 1450.39 264.867 1450.39 Z\" fill=\"#000000\" fill-rule=\"evenodd\" fill-opacity=\"1\" /><path clip-path=\"url(#clip220)\" d=\"M285.029 1479.7 L289.914 1479.7 L289.914 1485.58 L285.029 1485.58 L285.029 1479.7 Z\" fill=\"#000000\" fill-rule=\"evenodd\" fill-opacity=\"1\" /><path clip-path=\"url(#clip220)\" d=\"M310.099 1454.1 Q306.488 1454.1 304.659 1457.66 Q302.853 1461.2 302.853 1468.33 Q302.853 1475.44 304.659 1479.01 Q306.488 1482.55 310.099 1482.55 Q313.733 1482.55 315.538 1479.01 Q317.367 1475.44 317.367 1468.33 Q317.367 1461.2 315.538 1457.66 Q313.733 1454.1 310.099 1454.1 M310.099 1450.39 Q315.909 1450.39 318.964 1455 Q322.043 1459.58 322.043 1468.33 Q322.043 1477.06 318.964 1481.67 Q315.909 1486.25 310.099 1486.25 Q304.289 1486.25 301.21 1481.67 Q298.154 1477.06 298.154 1468.33 Q298.154 1459.58 301.21 1455 Q304.289 1450.39 310.099 1450.39 Z\" fill=\"#000000\" fill-rule=\"evenodd\" fill-opacity=\"1\" /><path clip-path=\"url(#clip220)\" d=\"M340.261 1454.1 Q336.649 1454.1 334.821 1457.66 Q333.015 1461.2 333.015 1468.33 Q333.015 1475.44 334.821 1479.01 Q336.649 1482.55 340.261 1482.55 Q343.895 1482.55 345.7 1479.01 Q347.529 1475.44 347.529 1468.33 Q347.529 1461.2 345.7 1457.66 Q343.895 1454.1 340.261 1454.1 M340.261 1450.39 Q346.071 1450.39 349.126 1455 Q352.205 1459.58 352.205 1468.33 Q352.205 1477.06 349.126 1481.67 Q346.071 1486.25 340.261 1486.25 Q334.45 1486.25 331.372 1481.67 Q328.316 1477.06 328.316 1468.33 Q328.316 1459.58 331.372 1455 Q334.45 1450.39 340.261 1450.39 Z\" fill=\"#000000\" fill-rule=\"evenodd\" fill-opacity=\"1\" /><path clip-path=\"url(#clip220)\" d=\"M753.506 1454.1 Q749.895 1454.1 748.066 1457.66 Q746.261 1461.2 746.261 1468.33 Q746.261 1475.44 748.066 1479.01 Q749.895 1482.55 753.506 1482.55 Q757.14 1482.55 758.946 1479.01 Q760.775 1475.44 760.775 1468.33 Q760.775 1461.2 758.946 1457.66 Q757.14 1454.1 753.506 1454.1 M753.506 1450.39 Q759.316 1450.39 762.372 1455 Q765.45 1459.58 765.45 1468.33 Q765.45 1477.06 762.372 1481.67 Q759.316 1486.25 753.506 1486.25 Q747.696 1486.25 744.617 1481.67 Q741.562 1477.06 741.562 1468.33 Q741.562 1459.58 744.617 1455 Q747.696 1450.39 753.506 1450.39 Z\" fill=\"#000000\" fill-rule=\"evenodd\" fill-opacity=\"1\" /><path clip-path=\"url(#clip220)\" d=\"M773.668 1479.7 L778.552 1479.7 L778.552 1485.58 L773.668 1485.58 L773.668 1479.7 Z\" fill=\"#000000\" fill-rule=\"evenodd\" fill-opacity=\"1\" /><path clip-path=\"url(#clip220)\" d=\"M792.765 1481.64 L809.084 1481.64 L809.084 1485.58 L787.14 1485.58 L787.14 1481.64 Q789.802 1478.89 794.385 1474.26 Q798.992 1469.61 800.172 1468.27 Q802.418 1465.74 803.297 1464.01 Q804.2 1462.25 804.2 1460.56 Q804.2 1457.8 802.256 1456.07 Q800.334 1454.33 797.233 1454.33 Q795.034 1454.33 792.58 1455.09 Q790.149 1455.86 787.372 1457.41 L787.372 1452.69 Q790.196 1451.55 792.649 1450.97 Q795.103 1450.39 797.14 1450.39 Q802.51 1450.39 805.705 1453.08 Q808.899 1455.77 808.899 1460.26 Q808.899 1462.39 808.089 1464.31 Q807.302 1466.2 805.196 1468.8 Q804.617 1469.47 801.515 1472.69 Q798.413 1475.88 792.765 1481.64 Z\" fill=\"#000000\" fill-rule=\"evenodd\" fill-opacity=\"1\" /><path clip-path=\"url(#clip220)\" d=\"M818.946 1451.02 L837.302 1451.02 L837.302 1454.96 L823.228 1454.96 L823.228 1463.43 Q824.246 1463.08 825.265 1462.92 Q826.283 1462.73 827.302 1462.73 Q833.089 1462.73 836.469 1465.9 Q839.848 1469.08 839.848 1474.49 Q839.848 1480.07 836.376 1483.17 Q832.904 1486.25 826.584 1486.25 Q824.408 1486.25 822.14 1485.88 Q819.895 1485.51 817.487 1484.77 L817.487 1480.07 Q819.57 1481.2 821.793 1481.76 Q824.015 1482.32 826.492 1482.32 Q830.496 1482.32 832.834 1480.21 Q835.172 1478.1 835.172 1474.49 Q835.172 1470.88 832.834 1468.77 Q830.496 1466.67 826.492 1466.67 Q824.617 1466.67 822.742 1467.08 Q820.89 1467.5 818.946 1468.38 L818.946 1451.02 Z\" fill=\"#000000\" fill-rule=\"evenodd\" fill-opacity=\"1\" /><path clip-path=\"url(#clip220)\" d=\"M1241.15 1454.1 Q1237.54 1454.1 1235.71 1457.66 Q1233.9 1461.2 1233.9 1468.33 Q1233.9 1475.44 1235.71 1479.01 Q1237.54 1482.55 1241.15 1482.55 Q1244.78 1482.55 1246.59 1479.01 Q1248.42 1475.44 1248.42 1468.33 Q1248.42 1461.2 1246.59 1457.66 Q1244.78 1454.1 1241.15 1454.1 M1241.15 1450.39 Q1246.96 1450.39 1250.01 1455 Q1253.09 1459.58 1253.09 1468.33 Q1253.09 1477.06 1250.01 1481.67 Q1246.96 1486.25 1241.15 1486.25 Q1235.34 1486.25 1232.26 1481.67 Q1229.2 1477.06 1229.2 1468.33 Q1229.2 1459.58 1232.26 1455 Q1235.34 1450.39 1241.15 1450.39 Z\" fill=\"#000000\" fill-rule=\"evenodd\" fill-opacity=\"1\" /><path clip-path=\"url(#clip220)\" d=\"M1261.31 1479.7 L1266.2 1479.7 L1266.2 1485.58 L1261.31 1485.58 L1261.31 1479.7 Z\" fill=\"#000000\" fill-rule=\"evenodd\" fill-opacity=\"1\" /><path clip-path=\"url(#clip220)\" d=\"M1276.43 1451.02 L1294.78 1451.02 L1294.78 1454.96 L1280.71 1454.96 L1280.71 1463.43 Q1281.73 1463.08 1282.75 1462.92 Q1283.76 1462.73 1284.78 1462.73 Q1290.57 1462.73 1293.95 1465.9 Q1297.33 1469.08 1297.33 1474.49 Q1297.33 1480.07 1293.86 1483.17 Q1290.39 1486.25 1284.07 1486.25 Q1281.89 1486.25 1279.62 1485.88 Q1277.38 1485.51 1274.97 1484.77 L1274.97 1480.07 Q1277.05 1481.2 1279.27 1481.76 Q1281.5 1482.32 1283.97 1482.32 Q1287.98 1482.32 1290.32 1480.21 Q1292.65 1478.1 1292.65 1474.49 Q1292.65 1470.88 1290.32 1468.77 Q1287.98 1466.67 1283.97 1466.67 Q1282.1 1466.67 1280.22 1467.08 Q1278.37 1467.5 1276.43 1468.38 L1276.43 1451.02 Z\" fill=\"#000000\" fill-rule=\"evenodd\" fill-opacity=\"1\" /><path clip-path=\"url(#clip220)\" d=\"M1316.54 1454.1 Q1312.93 1454.1 1311.1 1457.66 Q1309.3 1461.2 1309.3 1468.33 Q1309.3 1475.44 1311.1 1479.01 Q1312.93 1482.55 1316.54 1482.55 Q1320.18 1482.55 1321.98 1479.01 Q1323.81 1475.44 1323.81 1468.33 Q1323.81 1461.2 1321.98 1457.66 Q1320.18 1454.1 1316.54 1454.1 M1316.54 1450.39 Q1322.35 1450.39 1325.41 1455 Q1328.49 1459.58 1328.49 1468.33 Q1328.49 1477.06 1325.41 1481.67 Q1322.35 1486.25 1316.54 1486.25 Q1310.73 1486.25 1307.65 1481.67 Q1304.6 1477.06 1304.6 1468.33 Q1304.6 1459.58 1307.65 1455 Q1310.73 1450.39 1316.54 1450.39 Z\" fill=\"#000000\" fill-rule=\"evenodd\" fill-opacity=\"1\" /><path clip-path=\"url(#clip220)\" d=\"M1729.79 1454.1 Q1726.18 1454.1 1724.35 1457.66 Q1722.54 1461.2 1722.54 1468.33 Q1722.54 1475.44 1724.35 1479.01 Q1726.18 1482.55 1729.79 1482.55 Q1733.42 1482.55 1735.23 1479.01 Q1737.06 1475.44 1737.06 1468.33 Q1737.06 1461.2 1735.23 1457.66 Q1733.42 1454.1 1729.79 1454.1 M1729.79 1450.39 Q1735.6 1450.39 1738.65 1455 Q1741.73 1459.58 1741.73 1468.33 Q1741.73 1477.06 1738.65 1481.67 Q1735.6 1486.25 1729.79 1486.25 Q1723.98 1486.25 1720.9 1481.67 Q1717.84 1477.06 1717.84 1468.33 Q1717.84 1459.58 1720.9 1455 Q1723.98 1450.39 1729.79 1450.39 Z\" fill=\"#000000\" fill-rule=\"evenodd\" fill-opacity=\"1\" /><path clip-path=\"url(#clip220)\" d=\"M1749.95 1479.7 L1754.83 1479.7 L1754.83 1485.58 L1749.95 1485.58 L1749.95 1479.7 Z\" fill=\"#000000\" fill-rule=\"evenodd\" fill-opacity=\"1\" /><path clip-path=\"url(#clip220)\" d=\"M1763.84 1451.02 L1786.06 1451.02 L1786.06 1453.01 L1773.51 1485.58 L1768.63 1485.58 L1780.44 1454.96 L1763.84 1454.96 L1763.84 1451.02 Z\" fill=\"#000000\" fill-rule=\"evenodd\" fill-opacity=\"1\" /><path clip-path=\"url(#clip220)\" d=\"M1795.23 1451.02 L1813.58 1451.02 L1813.58 1454.96 L1799.51 1454.96 L1799.51 1463.43 Q1800.53 1463.08 1801.55 1462.92 Q1802.57 1462.73 1803.58 1462.73 Q1809.37 1462.73 1812.75 1465.9 Q1816.13 1469.08 1816.13 1474.49 Q1816.13 1480.07 1812.66 1483.17 Q1809.19 1486.25 1802.87 1486.25 Q1800.69 1486.25 1798.42 1485.88 Q1796.18 1485.51 1793.77 1484.77 L1793.77 1480.07 Q1795.85 1481.2 1798.07 1481.76 Q1800.3 1482.32 1802.77 1482.32 Q1806.78 1482.32 1809.12 1480.21 Q1811.45 1478.1 1811.45 1474.49 Q1811.45 1470.88 1809.12 1468.77 Q1806.78 1466.67 1802.77 1466.67 Q1800.9 1466.67 1799.02 1467.08 Q1797.17 1467.5 1795.23 1468.38 L1795.23 1451.02 Z\" fill=\"#000000\" fill-rule=\"evenodd\" fill-opacity=\"1\" /><path clip-path=\"url(#clip220)\" d=\"M2207.2 1481.64 L2214.84 1481.64 L2214.84 1455.28 L2206.53 1456.95 L2206.53 1452.69 L2214.79 1451.02 L2219.47 1451.02 L2219.47 1481.64 L2227.11 1481.64 L2227.11 1485.58 L2207.2 1485.58 L2207.2 1481.64 Z\" fill=\"#000000\" fill-rule=\"evenodd\" fill-opacity=\"1\" /><path clip-path=\"url(#clip220)\" d=\"M2236.55 1479.7 L2241.44 1479.7 L2241.44 1485.58 L2236.55 1485.58 L2236.55 1479.7 Z\" fill=\"#000000\" fill-rule=\"evenodd\" fill-opacity=\"1\" /><path clip-path=\"url(#clip220)\" d=\"M2261.62 1454.1 Q2258.01 1454.1 2256.18 1457.66 Q2254.38 1461.2 2254.38 1468.33 Q2254.38 1475.44 2256.18 1479.01 Q2258.01 1482.55 2261.62 1482.55 Q2265.25 1482.55 2267.06 1479.01 Q2268.89 1475.44 2268.89 1468.33 Q2268.89 1461.2 2267.06 1457.66 Q2265.25 1454.1 2261.62 1454.1 M2261.62 1450.39 Q2267.43 1450.39 2270.49 1455 Q2273.57 1459.58 2273.57 1468.33 Q2273.57 1477.06 2270.49 1481.67 Q2267.43 1486.25 2261.62 1486.25 Q2255.81 1486.25 2252.73 1481.67 Q2249.68 1477.06 2249.68 1468.33 Q2249.68 1459.58 2252.73 1455 Q2255.81 1450.39 2261.62 1450.39 Z\" fill=\"#000000\" fill-rule=\"evenodd\" fill-opacity=\"1\" /><path clip-path=\"url(#clip220)\" d=\"M2291.78 1454.1 Q2288.17 1454.1 2286.34 1457.66 Q2284.54 1461.2 2284.54 1468.33 Q2284.54 1475.44 2286.34 1479.01 Q2288.17 1482.55 2291.78 1482.55 Q2295.42 1482.55 2297.22 1479.01 Q2299.05 1475.44 2299.05 1468.33 Q2299.05 1461.2 2297.22 1457.66 Q2295.42 1454.1 2291.78 1454.1 M2291.78 1450.39 Q2297.59 1450.39 2300.65 1455 Q2303.73 1459.58 2303.73 1468.33 Q2303.73 1477.06 2300.65 1481.67 Q2297.59 1486.25 2291.78 1486.25 Q2285.97 1486.25 2282.89 1481.67 Q2279.84 1477.06 2279.84 1468.33 Q2279.84 1459.58 2282.89 1455 Q2285.97 1450.39 2291.78 1450.39 Z\" fill=\"#000000\" fill-rule=\"evenodd\" fill-opacity=\"1\" /><path clip-path=\"url(#clip220)\" d=\"M1273.53 1546.53 L1273.53 1568.04 L1267.67 1568.04 L1267.67 1546.72 Q1267.67 1541.66 1265.7 1539.14 Q1263.73 1536.63 1259.78 1536.63 Q1255.04 1536.63 1252.3 1539.65 Q1249.56 1542.68 1249.56 1547.9 L1249.56 1568.04 L1243.68 1568.04 L1243.68 1518.52 L1249.56 1518.52 L1249.56 1537.93 Q1251.66 1534.72 1254.5 1533.13 Q1257.36 1531.54 1261.09 1531.54 Q1267.23 1531.54 1270.38 1535.36 Q1273.53 1539.14 1273.53 1546.53 Z\" fill=\"#000000\" fill-rule=\"evenodd\" fill-opacity=\"1\" /><path clip-path=\"url(#clip220)\" d=\"M1291.58 1562.63 L1314.02 1562.63 L1314.02 1568.04 L1283.84 1568.04 L1283.84 1562.63 Q1287.5 1558.85 1293.81 1552.48 Q1300.14 1546.08 1301.76 1544.24 Q1304.85 1540.77 1306.06 1538.38 Q1307.3 1535.96 1307.3 1533.64 Q1307.3 1529.85 1304.63 1527.46 Q1301.99 1525.08 1297.72 1525.08 Q1294.7 1525.08 1291.32 1526.13 Q1287.98 1527.18 1284.16 1529.31 L1284.16 1522.82 Q1288.04 1521.26 1291.42 1520.46 Q1294.79 1519.66 1297.59 1519.66 Q1304.98 1519.66 1309.37 1523.36 Q1313.76 1527.05 1313.76 1533.22 Q1313.76 1536.15 1312.65 1538.79 Q1311.57 1541.4 1308.67 1544.97 Q1307.87 1545.89 1303.61 1550.32 Q1299.34 1554.71 1291.58 1562.63 Z\" fill=\"#000000\" fill-rule=\"evenodd\" fill-opacity=\"1\" /><polyline clip-path=\"url(#clip222)\" style=\"stroke:#000000; stroke-linecap:round; stroke-linejoin:round; stroke-width:2; stroke-opacity:0.1; fill:none\" points=\"\n",
       "  204.936,1252.11 2352.76,1252.11 \n",
       "  \"/>\n",
       "<polyline clip-path=\"url(#clip222)\" style=\"stroke:#000000; stroke-linecap:round; stroke-linejoin:round; stroke-width:2; stroke-opacity:0.1; fill:none\" points=\"\n",
       "  204.936,1035.76 2352.76,1035.76 \n",
       "  \"/>\n",
       "<polyline clip-path=\"url(#clip222)\" style=\"stroke:#000000; stroke-linecap:round; stroke-linejoin:round; stroke-width:2; stroke-opacity:0.1; fill:none\" points=\"\n",
       "  204.936,819.412 2352.76,819.412 \n",
       "  \"/>\n",
       "<polyline clip-path=\"url(#clip222)\" style=\"stroke:#000000; stroke-linecap:round; stroke-linejoin:round; stroke-width:2; stroke-opacity:0.1; fill:none\" points=\"\n",
       "  204.936,603.065 2352.76,603.065 \n",
       "  \"/>\n",
       "<polyline clip-path=\"url(#clip222)\" style=\"stroke:#000000; stroke-linecap:round; stroke-linejoin:round; stroke-width:2; stroke-opacity:0.1; fill:none\" points=\"\n",
       "  204.936,386.717 2352.76,386.717 \n",
       "  \"/>\n",
       "<polyline clip-path=\"url(#clip222)\" style=\"stroke:#000000; stroke-linecap:round; stroke-linejoin:round; stroke-width:2; stroke-opacity:0.1; fill:none\" points=\"\n",
       "  204.936,170.369 2352.76,170.369 \n",
       "  \"/>\n",
       "<polyline clip-path=\"url(#clip220)\" style=\"stroke:#000000; stroke-linecap:round; stroke-linejoin:round; stroke-width:4; stroke-opacity:1; fill:none\" points=\"\n",
       "  204.936,1423.18 204.936,47.2441 \n",
       "  \"/>\n",
       "<polyline clip-path=\"url(#clip220)\" style=\"stroke:#000000; stroke-linecap:round; stroke-linejoin:round; stroke-width:4; stroke-opacity:1; fill:none\" points=\"\n",
       "  204.936,1252.11 223.833,1252.11 \n",
       "  \"/>\n",
       "<polyline clip-path=\"url(#clip220)\" style=\"stroke:#000000; stroke-linecap:round; stroke-linejoin:round; stroke-width:4; stroke-opacity:1; fill:none\" points=\"\n",
       "  204.936,1035.76 223.833,1035.76 \n",
       "  \"/>\n",
       "<polyline clip-path=\"url(#clip220)\" style=\"stroke:#000000; stroke-linecap:round; stroke-linejoin:round; stroke-width:4; stroke-opacity:1; fill:none\" points=\"\n",
       "  204.936,819.412 223.833,819.412 \n",
       "  \"/>\n",
       "<polyline clip-path=\"url(#clip220)\" style=\"stroke:#000000; stroke-linecap:round; stroke-linejoin:round; stroke-width:4; stroke-opacity:1; fill:none\" points=\"\n",
       "  204.936,603.065 223.833,603.065 \n",
       "  \"/>\n",
       "<polyline clip-path=\"url(#clip220)\" style=\"stroke:#000000; stroke-linecap:round; stroke-linejoin:round; stroke-width:4; stroke-opacity:1; fill:none\" points=\"\n",
       "  204.936,386.717 223.833,386.717 \n",
       "  \"/>\n",
       "<polyline clip-path=\"url(#clip220)\" style=\"stroke:#000000; stroke-linecap:round; stroke-linejoin:round; stroke-width:4; stroke-opacity:1; fill:none\" points=\"\n",
       "  204.936,170.369 223.833,170.369 \n",
       "  \"/>\n",
       "<path clip-path=\"url(#clip220)\" d=\"M118.566 1268.67 L118.566 1264.41 Q120.325 1265.24 122.13 1265.68 Q123.936 1266.12 125.672 1266.12 Q130.302 1266.12 132.732 1263.02 Q135.186 1259.9 135.533 1253.55 Q134.191 1255.54 132.13 1256.61 Q130.07 1257.67 127.57 1257.67 Q122.385 1257.67 119.353 1254.55 Q116.343 1251.4 116.343 1245.96 Q116.343 1240.64 119.492 1237.42 Q122.64 1234.2 127.871 1234.2 Q133.867 1234.2 137.015 1238.81 Q140.186 1243.39 140.186 1252.14 Q140.186 1260.31 136.297 1265.2 Q132.431 1270.06 125.88 1270.06 Q124.121 1270.06 122.316 1269.71 Q120.51 1269.36 118.566 1268.67 M127.871 1254.02 Q131.019 1254.02 132.848 1251.86 Q134.7 1249.71 134.7 1245.96 Q134.7 1242.23 132.848 1240.08 Q131.019 1237.91 127.871 1237.91 Q124.723 1237.91 122.871 1240.08 Q121.043 1242.23 121.043 1245.96 Q121.043 1249.71 122.871 1251.86 Q124.723 1254.02 127.871 1254.02 Z\" fill=\"#000000\" fill-rule=\"evenodd\" fill-opacity=\"1\" /><path clip-path=\"url(#clip220)\" d=\"M152.616 1265.45 L168.936 1265.45 L168.936 1269.39 L146.991 1269.39 L146.991 1265.45 Q149.653 1262.7 154.237 1258.07 Q158.843 1253.42 160.024 1252.07 Q162.269 1249.55 163.149 1247.81 Q164.052 1246.05 164.052 1244.36 Q164.052 1241.61 162.107 1239.87 Q160.186 1238.14 157.084 1238.14 Q154.885 1238.14 152.431 1238.9 Q150.001 1239.67 147.223 1241.22 L147.223 1236.49 Q150.047 1235.36 152.501 1234.78 Q154.954 1234.2 156.991 1234.2 Q162.362 1234.2 165.556 1236.89 Q168.751 1239.57 168.751 1244.06 Q168.751 1246.19 167.94 1248.11 Q167.153 1250.01 165.047 1252.6 Q164.468 1253.28 161.366 1256.49 Q158.265 1259.69 152.616 1265.45 Z\" fill=\"#000000\" fill-rule=\"evenodd\" fill-opacity=\"1\" /><path clip-path=\"url(#clip220)\" d=\"M117.617 1052.32 L117.617 1048.06 Q119.376 1048.9 121.181 1049.34 Q122.987 1049.78 124.723 1049.78 Q129.353 1049.78 131.783 1046.67 Q134.237 1043.55 134.584 1037.21 Q133.242 1039.2 131.181 1040.26 Q129.121 1041.33 126.621 1041.33 Q121.436 1041.33 118.404 1038.2 Q115.394 1035.05 115.394 1029.61 Q115.394 1024.29 118.543 1021.07 Q121.691 1017.85 126.922 1017.85 Q132.917 1017.85 136.066 1022.46 Q139.237 1027.04 139.237 1035.79 Q139.237 1043.97 135.348 1048.85 Q131.482 1053.71 124.931 1053.71 Q123.172 1053.71 121.367 1053.36 Q119.561 1053.02 117.617 1052.32 M126.922 1037.67 Q130.07 1037.67 131.899 1035.52 Q133.751 1033.36 133.751 1029.61 Q133.751 1025.89 131.899 1023.73 Q130.07 1021.56 126.922 1021.56 Q123.774 1021.56 121.922 1023.73 Q120.093 1025.89 120.093 1029.61 Q120.093 1033.36 121.922 1035.52 Q123.774 1037.67 126.922 1037.67 Z\" fill=\"#000000\" fill-rule=\"evenodd\" fill-opacity=\"1\" /><path clip-path=\"url(#clip220)\" d=\"M161.806 1034.41 Q165.163 1035.12 167.038 1037.39 Q168.936 1039.66 168.936 1042.99 Q168.936 1048.11 165.417 1050.91 Q161.899 1053.71 155.417 1053.71 Q153.241 1053.71 150.927 1053.27 Q148.635 1052.85 146.181 1052 L146.181 1047.48 Q148.126 1048.62 150.441 1049.2 Q152.755 1049.78 155.278 1049.78 Q159.677 1049.78 161.968 1048.04 Q164.283 1046.3 164.283 1042.99 Q164.283 1039.94 162.13 1038.22 Q160.001 1036.49 156.181 1036.49 L152.153 1036.49 L152.153 1032.65 L156.366 1032.65 Q159.815 1032.65 161.644 1031.28 Q163.473 1029.89 163.473 1027.3 Q163.473 1024.64 161.575 1023.22 Q159.7 1021.79 156.181 1021.79 Q154.26 1021.79 152.061 1022.21 Q149.862 1022.62 147.223 1023.5 L147.223 1019.34 Q149.885 1018.6 152.2 1018.23 Q154.538 1017.85 156.598 1017.85 Q161.922 1017.85 165.024 1020.29 Q168.126 1022.69 168.126 1026.81 Q168.126 1029.68 166.482 1031.67 Q164.839 1033.64 161.806 1034.41 Z\" fill=\"#000000\" fill-rule=\"evenodd\" fill-opacity=\"1\" /><path clip-path=\"url(#clip220)\" d=\"M116.482 835.974 L116.482 831.715 Q118.242 832.549 120.047 832.988 Q121.853 833.428 123.589 833.428 Q128.218 833.428 130.649 830.326 Q133.103 827.201 133.45 820.859 Q132.107 822.85 130.047 823.914 Q127.987 824.979 125.487 824.979 Q120.302 824.979 117.269 821.854 Q114.26 818.706 114.26 813.266 Q114.26 807.942 117.408 804.725 Q120.556 801.507 125.788 801.507 Q131.783 801.507 134.931 806.114 Q138.103 810.697 138.103 819.447 Q138.103 827.618 134.214 832.502 Q130.348 837.363 123.797 837.363 Q122.038 837.363 120.232 837.016 Q118.427 836.669 116.482 835.974 M125.788 821.322 Q128.936 821.322 130.765 819.169 Q132.617 817.016 132.617 813.266 Q132.617 809.539 130.765 807.387 Q128.936 805.211 125.788 805.211 Q122.64 805.211 120.788 807.387 Q118.959 809.539 118.959 813.266 Q118.959 817.016 120.788 819.169 Q122.64 821.322 125.788 821.322 Z\" fill=\"#000000\" fill-rule=\"evenodd\" fill-opacity=\"1\" /><path clip-path=\"url(#clip220)\" d=\"M159.353 806.206 L147.547 824.655 L159.353 824.655 L159.353 806.206 M158.126 802.132 L164.005 802.132 L164.005 824.655 L168.936 824.655 L168.936 828.544 L164.005 828.544 L164.005 836.692 L159.353 836.692 L159.353 828.544 L143.751 828.544 L143.751 824.03 L158.126 802.132 Z\" fill=\"#000000\" fill-rule=\"evenodd\" fill-opacity=\"1\" /><path clip-path=\"url(#clip220)\" d=\"M117.964 619.627 L117.964 615.368 Q119.723 616.201 121.529 616.641 Q123.334 617.081 125.07 617.081 Q129.7 617.081 132.13 613.979 Q134.584 610.854 134.931 604.511 Q133.589 606.502 131.529 607.567 Q129.468 608.632 126.968 608.632 Q121.783 608.632 118.751 605.507 Q115.742 602.359 115.742 596.919 Q115.742 591.595 118.89 588.377 Q122.038 585.16 127.269 585.16 Q133.265 585.16 136.413 589.766 Q139.584 594.349 139.584 603.099 Q139.584 611.27 135.695 616.155 Q131.83 621.016 125.279 621.016 Q123.519 621.016 121.714 620.669 Q119.908 620.321 117.964 619.627 M127.269 604.974 Q130.417 604.974 132.246 602.821 Q134.098 600.669 134.098 596.919 Q134.098 593.192 132.246 591.039 Q130.417 588.863 127.269 588.863 Q124.121 588.863 122.269 591.039 Q120.441 593.192 120.441 596.919 Q120.441 600.669 122.269 602.821 Q124.121 604.974 127.269 604.974 Z\" fill=\"#000000\" fill-rule=\"evenodd\" fill-opacity=\"1\" /><path clip-path=\"url(#clip220)\" d=\"M148.033 585.785 L166.39 585.785 L166.39 589.72 L152.316 589.72 L152.316 598.192 Q153.334 597.845 154.353 597.683 Q155.371 597.497 156.39 597.497 Q162.177 597.497 165.556 600.669 Q168.936 603.84 168.936 609.257 Q168.936 614.835 165.464 617.937 Q161.991 621.016 155.672 621.016 Q153.496 621.016 151.228 620.645 Q148.982 620.275 146.575 619.534 L146.575 614.835 Q148.658 615.97 150.88 616.525 Q153.103 617.081 155.579 617.081 Q159.584 617.081 161.922 614.974 Q164.26 612.868 164.26 609.257 Q164.26 605.646 161.922 603.539 Q159.584 601.433 155.579 601.433 Q153.704 601.433 151.829 601.849 Q149.978 602.266 148.033 603.146 L148.033 585.785 Z\" fill=\"#000000\" fill-rule=\"evenodd\" fill-opacity=\"1\" /><path clip-path=\"url(#clip220)\" d=\"M116.806 403.279 L116.806 399.02 Q118.566 399.853 120.371 400.293 Q122.177 400.733 123.913 400.733 Q128.542 400.733 130.973 397.631 Q133.427 394.506 133.774 388.164 Q132.431 390.154 130.371 391.219 Q128.311 392.284 125.811 392.284 Q120.626 392.284 117.593 389.159 Q114.584 386.011 114.584 380.571 Q114.584 375.247 117.732 372.03 Q120.88 368.812 126.112 368.812 Q132.107 368.812 135.255 373.418 Q138.427 378.002 138.427 386.752 Q138.427 394.923 134.538 399.807 Q130.672 404.668 124.121 404.668 Q122.362 404.668 120.556 404.321 Q118.751 403.974 116.806 403.279 M126.112 388.627 Q129.26 388.627 131.089 386.474 Q132.941 384.321 132.941 380.571 Q132.941 376.844 131.089 374.692 Q129.26 372.516 126.112 372.516 Q122.964 372.516 121.112 374.692 Q119.283 376.844 119.283 380.571 Q119.283 384.321 121.112 386.474 Q122.964 388.627 126.112 388.627 Z\" fill=\"#000000\" fill-rule=\"evenodd\" fill-opacity=\"1\" /><path clip-path=\"url(#clip220)\" d=\"M157.408 384.854 Q154.26 384.854 152.408 387.006 Q150.579 389.159 150.579 392.909 Q150.579 396.636 152.408 398.812 Q154.26 400.965 157.408 400.965 Q160.556 400.965 162.385 398.812 Q164.237 396.636 164.237 392.909 Q164.237 389.159 162.385 387.006 Q160.556 384.854 157.408 384.854 M166.69 370.201 L166.69 374.46 Q164.931 373.627 163.126 373.187 Q161.343 372.747 159.584 372.747 Q154.954 372.747 152.501 375.872 Q150.07 378.997 149.723 385.317 Q151.089 383.303 153.149 382.238 Q155.209 381.15 157.686 381.15 Q162.894 381.15 165.903 384.321 Q168.936 387.469 168.936 392.909 Q168.936 398.233 165.788 401.451 Q162.64 404.668 157.408 404.668 Q151.413 404.668 148.241 400.085 Q145.07 395.478 145.07 386.752 Q145.07 378.557 148.959 373.696 Q152.848 368.812 159.399 368.812 Q161.158 368.812 162.94 369.159 Q164.746 369.506 166.69 370.201 Z\" fill=\"#000000\" fill-rule=\"evenodd\" fill-opacity=\"1\" /><path clip-path=\"url(#clip220)\" d=\"M117.871 186.932 L117.871 182.673 Q119.63 183.506 121.436 183.946 Q123.242 184.386 124.978 184.386 Q129.607 184.386 132.038 181.284 Q134.492 178.159 134.839 171.816 Q133.496 173.807 131.436 174.872 Q129.376 175.936 126.876 175.936 Q121.691 175.936 118.658 172.812 Q115.649 169.663 115.649 164.224 Q115.649 158.9 118.797 155.682 Q121.945 152.464 127.177 152.464 Q133.172 152.464 136.32 157.071 Q139.492 161.654 139.492 170.404 Q139.492 178.575 135.603 183.46 Q131.737 188.321 125.186 188.321 Q123.427 188.321 121.621 187.973 Q119.816 187.626 117.871 186.932 M127.177 172.279 Q130.325 172.279 132.154 170.126 Q134.005 167.974 134.005 164.224 Q134.005 160.497 132.154 158.344 Q130.325 156.168 127.177 156.168 Q124.029 156.168 122.177 158.344 Q120.348 160.497 120.348 164.224 Q120.348 167.974 122.177 170.126 Q124.029 172.279 127.177 172.279 Z\" fill=\"#000000\" fill-rule=\"evenodd\" fill-opacity=\"1\" /><path clip-path=\"url(#clip220)\" d=\"M146.714 153.089 L168.936 153.089 L168.936 155.08 L156.39 187.649 L151.505 187.649 L163.311 157.025 L146.714 157.025 L146.714 153.089 Z\" fill=\"#000000\" fill-rule=\"evenodd\" fill-opacity=\"1\" /><path clip-path=\"url(#clip220)\" d=\"M14.479 818.714 L14.479 812.858 L64.0042 812.858 L64.0042 818.714 L14.479 818.714 Z\" fill=\"#000000\" fill-rule=\"evenodd\" fill-opacity=\"1\" /><path clip-path=\"url(#clip220)\" d=\"M32.4621 786.79 Q32.4621 791.501 36.1542 794.238 Q39.8145 796.975 46.212 796.975 Q52.6095 796.975 56.3017 794.27 Q59.9619 791.533 59.9619 786.79 Q59.9619 782.111 56.2698 779.374 Q52.5777 776.637 46.212 776.637 Q39.8781 776.637 36.186 779.374 Q32.4621 782.111 32.4621 786.79 M27.4968 786.79 Q27.4968 779.151 32.4621 774.791 Q37.4273 770.43 46.212 770.43 Q54.9649 770.43 59.9619 774.791 Q64.9272 779.151 64.9272 786.79 Q64.9272 794.461 59.9619 798.821 Q54.9649 803.15 46.212 803.15 Q37.4273 803.15 32.4621 798.821 Q27.4968 794.461 27.4968 786.79 Z\" fill=\"#000000\" fill-rule=\"evenodd\" fill-opacity=\"1\" /><path clip-path=\"url(#clip220)\" d=\"M45.7664 737.265 Q39.4007 737.265 35.8996 739.907 Q32.3984 742.517 32.3984 747.259 Q32.3984 751.97 35.8996 754.611 Q39.4007 757.221 45.7664 757.221 Q52.1003 757.221 55.6014 754.611 Q59.1026 751.97 59.1026 747.259 Q59.1026 742.517 55.6014 739.907 Q52.1003 737.265 45.7664 737.265 M59.58 731.408 Q68.683 731.408 73.1071 735.451 Q77.5631 739.493 77.5631 747.832 Q77.5631 750.919 77.0857 753.657 Q76.6401 756.394 75.6852 758.972 L69.9879 758.972 Q71.3884 756.394 72.0568 753.879 Q72.7252 751.365 72.7252 748.755 Q72.7252 742.994 69.7015 740.129 Q66.7096 737.265 60.6303 737.265 L57.7339 737.265 Q60.885 739.079 62.4446 741.912 Q64.0042 744.745 64.0042 748.691 Q64.0042 755.248 59.0071 759.258 Q54.01 763.269 45.7664 763.269 Q37.491 763.269 32.4939 759.258 Q27.4968 755.248 27.4968 748.691 Q27.4968 744.745 29.0564 741.912 Q30.616 739.079 33.7671 737.265 L28.3562 737.265 L28.3562 731.408 L59.58 731.408 Z\" fill=\"#000000\" fill-rule=\"evenodd\" fill-opacity=\"1\" /><path clip-path=\"url(#clip220)\" d=\"M14.479 719.345 L14.479 713.489 L64.0042 713.489 L64.0042 719.345 L14.479 719.345 Z\" fill=\"#000000\" fill-rule=\"evenodd\" fill-opacity=\"1\" /><path clip-path=\"url(#clip220)\" d=\"M28.3562 701.235 L28.3562 695.379 L64.0042 695.379 L64.0042 701.235 L28.3562 701.235 M14.479 701.235 L14.479 695.379 L21.895 695.379 L21.895 701.235 L14.479 701.235 Z\" fill=\"#000000\" fill-rule=\"evenodd\" fill-opacity=\"1\" /><path clip-path=\"url(#clip220)\" d=\"M14.479 683.347 L14.479 677.459 L43.7294 677.459 L28.3562 659.985 L28.3562 652.506 L45.0344 671.412 L64.0042 651.71 L64.0042 659.349 L46.5939 677.459 L64.0042 677.459 L64.0042 683.347 L14.479 683.347 Z\" fill=\"#000000\" fill-rule=\"evenodd\" fill-opacity=\"1\" /><polyline clip-path=\"url(#clip222)\" style=\"stroke:#0000ff; stroke-linecap:round; stroke-linejoin:round; stroke-width:4; stroke-opacity:1; fill:none\" points=\"\n",
       "  302.564,591.716 304.517,597.098 306.469,602.229 308.422,607.132 310.374,611.827 312.327,616.33 314.279,620.657 316.232,624.82 318.184,628.833 320.137,632.706 \n",
       "  322.09,636.448 324.042,640.068 325.995,643.574 327.947,646.973 329.9,650.271 331.852,653.474 333.805,656.588 335.758,659.618 337.71,662.567 339.663,665.441 \n",
       "  341.615,668.243 343.568,670.976 345.52,673.645 347.473,676.251 349.426,678.799 351.378,681.29 353.331,683.727 355.283,686.113 357.236,688.449 359.188,690.738 \n",
       "  361.141,692.982 363.093,695.182 365.046,697.34 366.999,699.458 368.951,701.537 370.904,703.578 372.856,705.584 374.809,707.555 376.761,709.492 378.714,711.398 \n",
       "  380.667,713.271 382.619,715.115 384.572,716.93 386.524,718.716 388.477,720.475 390.429,722.207 392.382,723.913 394.334,725.595 396.287,727.253 398.24,728.887 \n",
       "  400.192,730.498 402.145,732.087 404.097,733.654 406.05,735.201 408.002,736.727 409.955,738.234 411.908,739.721 413.86,741.189 415.813,742.639 417.765,744.072 \n",
       "  419.718,745.486 421.67,746.885 423.623,748.266 425.575,749.631 427.528,750.981 429.481,752.316 431.433,753.635 433.386,754.94 435.338,756.23 437.291,757.507 \n",
       "  439.243,758.77 441.196,760.019 443.149,761.256 445.101,762.479 447.054,763.691 449.006,764.89 450.959,766.077 452.911,767.252 454.864,768.416 456.817,769.568 \n",
       "  458.769,770.71 460.722,771.841 462.674,772.961 464.627,774.071 466.579,775.171 468.532,776.26 470.484,777.34 472.437,778.411 474.39,779.472 476.342,780.524 \n",
       "  478.295,781.566 480.247,782.6 482.2,783.625 484.152,784.642 486.105,785.65 488.058,786.649 490.01,787.641 491.963,788.625 493.915,789.601 495.868,790.569 \n",
       "  497.82,791.529 499.773,792.482 501.725,793.428 503.678,794.367 505.631,795.298 507.583,796.223 509.536,797.14 511.488,798.051 513.441,798.955 515.393,799.853 \n",
       "  517.346,800.744 519.299,801.629 521.251,802.508 523.204,803.38 525.156,804.247 527.109,805.107 529.061,805.962 531.014,806.811 532.966,807.654 534.919,808.491 \n",
       "  536.872,809.323 538.824,810.15 540.777,810.971 542.729,811.787 544.682,812.598 546.634,813.403 548.587,814.204 550.54,814.999 552.492,815.79 554.445,816.576 \n",
       "  556.397,817.357 558.35,818.133 560.302,818.904 562.255,819.671 564.208,820.433 566.16,821.191 568.113,821.945 570.065,822.694 572.018,823.439 573.97,824.179 \n",
       "  575.923,824.915 577.875,825.648 579.828,826.376 581.781,827.1 583.733,827.82 585.686,828.536 587.638,829.248 589.591,829.957 591.543,830.661 593.496,831.362 \n",
       "  595.449,832.059 597.401,832.753 599.354,833.443 601.306,834.129 603.259,834.812 605.211,835.491 607.164,836.167 609.116,836.839 611.069,837.509 613.022,838.174 \n",
       "  614.974,838.837 616.927,839.496 618.879,840.152 620.832,840.805 622.784,841.455 624.737,842.101 626.69,842.745 628.642,843.385 630.595,844.023 632.547,844.657 \n",
       "  634.5,845.289 636.452,845.918 638.405,846.544 640.358,847.167 642.31,847.787 644.263,848.404 646.215,849.019 648.168,849.631 650.12,850.24 652.073,850.847 \n",
       "  654.025,851.451 655.978,852.052 657.931,852.651 659.883,853.247 661.836,853.841 663.788,854.432 665.741,855.021 667.693,855.607 669.646,856.191 671.599,856.773 \n",
       "  673.551,857.352 675.504,857.928 677.456,858.503 679.409,859.075 681.361,859.645 683.314,860.212 685.266,860.778 687.219,861.341 689.172,861.902 691.124,862.461 \n",
       "  693.077,863.017 695.029,863.572 696.982,864.124 698.934,864.675 700.887,865.223 702.84,865.769 704.792,866.313 706.745,866.855 708.697,867.395 710.65,867.934 \n",
       "  712.602,868.47 714.555,869.004 716.507,869.537 718.46,870.067 720.413,870.596 722.365,871.123 724.318,871.647 726.27,872.171 728.223,872.692 730.175,873.211 \n",
       "  732.128,873.729 734.081,874.245 736.033,874.759 737.986,875.272 739.938,875.782 741.891,876.291 743.843,876.799 745.796,877.304 747.749,877.808 749.701,878.311 \n",
       "  751.654,878.812 753.606,879.311 755.559,879.808 757.511,880.304 759.464,880.799 761.416,881.292 763.369,881.783 765.322,882.273 767.274,882.761 769.227,883.248 \n",
       "  771.179,883.733 773.132,884.217 775.084,884.699 777.037,885.18 778.99,885.659 780.942,886.137 782.895,886.614 784.847,887.089 786.8,887.563 788.752,888.035 \n",
       "  790.705,888.506 792.657,888.976 794.61,889.444 796.563,889.911 798.515,890.377 800.468,890.841 802.42,891.305 804.373,891.766 806.325,892.227 808.278,892.686 \n",
       "  810.231,893.144 812.183,893.601 814.136,894.056 816.088,894.511 818.041,894.964 819.993,895.415 821.946,895.866 823.898,896.316 825.851,896.764 827.804,897.211 \n",
       "  829.756,897.657 831.709,898.102 833.661,898.545 835.614,898.988 837.566,899.429 839.519,899.87 841.472,900.309 843.424,900.747 845.377,901.184 847.329,901.62 \n",
       "  849.282,902.055 851.234,902.488 853.187,902.921 855.14,903.353 857.092,903.783 859.045,904.213 860.997,904.642 862.95,905.069 864.902,905.496 866.855,905.921 \n",
       "  868.807,906.346 870.76,906.77 872.713,907.192 874.665,907.614 876.618,908.035 878.57,908.455 880.523,908.873 882.475,909.291 884.428,909.708 886.381,910.124 \n",
       "  888.333,910.539 890.286,910.954 892.238,911.367 894.191,911.779 896.143,912.191 898.096,912.602 900.048,913.012 902.001,913.42 903.954,913.829 905.906,914.236 \n",
       "  907.859,914.642 909.811,915.048 911.764,915.452 913.716,915.856 915.669,916.259 917.622,916.662 919.574,917.063 921.527,917.464 923.479,917.864 925.432,918.263 \n",
       "  927.384,918.661 929.337,919.059 931.29,919.455 933.242,919.851 935.195,920.246 937.147,920.641 939.1,921.035 941.052,921.428 943.005,921.82 944.957,922.211 \n",
       "  946.91,922.602 948.863,922.992 950.815,923.382 952.768,923.77 954.72,924.158 956.673,924.546 958.625,924.932 960.578,925.318 962.531,925.703 964.483,926.088 \n",
       "  966.436,926.472 968.388,926.855 970.341,927.237 972.293,927.619 974.246,928.001 976.198,928.381 978.151,928.761 980.104,929.141 982.056,929.519 984.009,929.897 \n",
       "  985.961,930.275 987.914,930.652 989.866,931.028 991.819,931.404 993.772,931.779 995.724,932.153 997.677,932.527 999.629,932.9 1001.58,933.273 1003.53,933.645 \n",
       "  1005.49,934.017 1007.44,934.388 1009.39,934.758 1011.34,935.128 1013.3,935.497 1015.25,935.866 1017.2,936.234 1019.15,936.602 1021.11,936.969 1023.06,937.336 \n",
       "  1025.01,937.702 1026.97,938.067 1028.92,938.432 1030.87,938.797 1032.82,939.161 1034.78,939.524 1036.73,939.887 1038.68,940.25 1040.63,940.612 1042.59,940.974 \n",
       "  1044.54,941.335 1046.49,941.695 1048.44,942.055 1050.4,942.415 1052.35,942.774 1054.3,943.133 1056.25,943.491 1058.21,943.849 1060.16,944.206 1062.11,944.563 \n",
       "  1064.06,944.92 1066.02,945.276 1067.97,945.631 1069.92,945.986 1071.87,946.341 1073.83,946.695 1075.78,947.049 1077.73,947.403 1079.68,947.756 1081.64,948.108 \n",
       "  1083.59,948.46 1085.54,948.812 1087.49,949.164 1089.45,949.515 1091.4,949.865 1093.35,950.215 1095.3,950.565 1097.26,950.915 1099.21,951.264 1101.16,951.613 \n",
       "  1103.12,951.961 1105.07,952.309 1107.02,952.656 1108.97,953.004 1110.93,953.351 1112.88,953.697 1114.83,954.043 1116.78,954.389 1118.74,954.735 1120.69,955.08 \n",
       "  1122.64,955.425 1124.59,955.769 1126.55,956.113 1128.5,956.457 1130.45,956.8 1132.4,957.144 1134.36,957.487 1136.31,957.829 1138.26,958.171 1140.21,958.513 \n",
       "  1142.17,958.855 1144.12,959.196 1146.07,959.537 1148.02,959.878 1149.98,960.218 1151.93,960.558 1153.88,960.898 1155.83,961.238 1157.79,961.577 1159.74,961.916 \n",
       "  1161.69,962.255 1163.64,962.594 1165.6,962.932 1167.55,963.27 1169.5,963.607 1171.45,963.945 1173.41,964.282 1175.36,964.619 1177.31,964.956 1179.27,965.292 \n",
       "  1181.22,965.628 1183.17,965.964 1185.12,966.3 1187.08,966.635 1189.03,966.971 1190.98,967.306 1192.93,967.64 1194.89,967.975 1196.84,968.309 1198.79,968.644 \n",
       "  1200.74,968.977 1202.7,969.311 1204.65,969.645 1206.6,969.978 1208.55,970.311 1210.51,970.644 1212.46,970.977 1214.41,971.309 1216.36,971.642 1218.32,971.974 \n",
       "  1220.27,972.306 1222.22,972.638 1224.17,972.969 1226.13,973.301 1228.08,973.632 1230.03,973.963 1231.98,974.294 1233.94,974.625 1235.89,974.955 1237.84,975.286 \n",
       "  1239.79,975.616 1241.75,975.946 1243.7,976.276 1245.65,976.606 1247.6,976.935 1249.56,977.265 1251.51,977.594 1253.46,977.924 1255.42,978.253 1257.37,978.582 \n",
       "  1259.32,978.911 1261.27,979.239 1263.23,979.568 1265.18,979.897 1267.13,980.225 1269.08,980.553 1271.04,980.881 1272.99,981.209 1274.94,981.537 1276.89,981.865 \n",
       "  1278.85,982.193 1280.8,982.52 1282.75,982.848 1284.7,983.175 1286.66,983.503 1288.61,983.83 1290.56,984.157 1292.51,984.484 1294.47,984.811 1296.42,985.138 \n",
       "  1298.37,985.465 1300.32,985.792 1302.28,986.119 1304.23,986.445 1306.18,986.772 1308.13,987.098 1310.09,987.425 1312.04,987.751 1313.99,988.078 1315.94,988.404 \n",
       "  1317.9,988.73 1319.85,989.056 1321.8,989.382 1323.75,989.709 1325.71,990.035 1327.66,990.361 1329.61,990.687 1331.57,991.013 1333.52,991.339 1335.47,991.665 \n",
       "  1337.42,991.99 1339.38,992.316 1341.33,992.642 1343.28,992.968 1345.23,993.294 1347.19,993.62 1349.14,993.946 1351.09,994.271 1353.04,994.597 1355,994.923 \n",
       "  1356.95,995.249 1358.9,995.575 1360.85,995.9 1362.81,996.226 1364.76,996.552 1366.71,996.878 1368.66,997.204 1370.62,997.53 1372.57,997.856 1374.52,998.182 \n",
       "  1376.47,998.508 1378.43,998.834 1380.38,999.16 1382.33,999.486 1384.28,999.812 1386.24,1000.14 1388.19,1000.46 1390.14,1000.79 1392.09,1001.12 1394.05,1001.44 \n",
       "  1396,1001.77 1397.95,1002.1 1399.9,1002.42 1401.86,1002.75 1403.81,1003.08 1405.76,1003.4 1407.72,1003.73 1409.67,1004.06 1411.62,1004.38 1413.57,1004.71 \n",
       "  1415.53,1005.04 1417.48,1005.36 1419.43,1005.69 1421.38,1006.02 1423.34,1006.35 1425.29,1006.67 1427.24,1007 1429.19,1007.33 1431.15,1007.66 1433.1,1007.99 \n",
       "  1435.05,1008.31 1437,1008.64 1438.96,1008.97 1440.91,1009.3 1442.86,1009.63 1444.81,1009.96 1446.77,1010.28 1448.72,1010.61 1450.67,1010.94 1452.62,1011.27 \n",
       "  1454.58,1011.6 1456.53,1011.93 1458.48,1012.26 1460.43,1012.59 1462.39,1012.92 1464.34,1013.25 1466.29,1013.58 1468.24,1013.91 1470.2,1014.24 1472.15,1014.57 \n",
       "  1474.1,1014.9 1476.05,1015.23 1478.01,1015.56 1479.96,1015.9 1481.91,1016.23 1483.87,1016.56 1485.82,1016.89 1487.77,1017.22 1489.72,1017.55 1491.68,1017.89 \n",
       "  1493.63,1018.22 1495.58,1018.55 1497.53,1018.89 1499.49,1019.22 1501.44,1019.55 1503.39,1019.89 1505.34,1020.22 1507.3,1020.55 1509.25,1020.89 1511.2,1021.22 \n",
       "  1513.15,1021.56 1515.11,1021.89 1517.06,1022.23 1519.01,1022.56 1520.96,1022.9 1522.92,1023.23 1524.87,1023.57 1526.82,1023.91 1528.77,1024.24 1530.73,1024.58 \n",
       "  1532.68,1024.92 1534.63,1025.25 1536.58,1025.59 1538.54,1025.93 1540.49,1026.27 1542.44,1026.6 1544.39,1026.94 1546.35,1027.28 1548.3,1027.62 1550.25,1027.96 \n",
       "  1552.2,1028.3 1554.16,1028.64 1556.11,1028.98 1558.06,1029.32 1560.02,1029.66 1561.97,1030 1563.92,1030.34 1565.87,1030.69 1567.83,1031.03 1569.78,1031.37 \n",
       "  1571.73,1031.71 1573.68,1032.05 1575.64,1032.4 1577.59,1032.74 1579.54,1033.09 1581.49,1033.43 1583.45,1033.77 1585.4,1034.12 1587.35,1034.46 1589.3,1034.81 \n",
       "  1591.26,1035.16 1593.21,1035.5 1595.16,1035.85 1597.11,1036.19 1599.07,1036.54 1601.02,1036.89 1602.97,1037.24 1604.92,1037.59 1606.88,1037.93 1608.83,1038.28 \n",
       "  1610.78,1038.63 1612.73,1038.98 1614.69,1039.33 1616.64,1039.68 1618.59,1040.03 1620.54,1040.39 1622.5,1040.74 1624.45,1041.09 1626.4,1041.44 1628.35,1041.79 \n",
       "  1630.31,1042.15 1632.26,1042.5 1634.21,1042.86 1636.17,1043.21 1638.12,1043.57 1640.07,1043.92 1642.02,1044.28 1643.98,1044.63 1645.93,1044.99 1647.88,1045.35 \n",
       "  1649.83,1045.7 1651.79,1046.06 1653.74,1046.42 1655.69,1046.78 1657.64,1047.14 1659.6,1047.5 1661.55,1047.86 1663.5,1048.22 1665.45,1048.58 1667.41,1048.94 \n",
       "  1669.36,1049.31 1671.31,1049.67 1673.26,1050.03 1675.22,1050.39 1677.17,1050.76 1679.12,1051.12 1681.07,1051.49 1683.03,1051.85 1684.98,1052.22 1686.93,1052.59 \n",
       "  1688.88,1052.95 1690.84,1053.32 1692.79,1053.69 1694.74,1054.06 1696.69,1054.43 1698.65,1054.8 1700.6,1055.17 1702.55,1055.54 1704.5,1055.91 1706.46,1056.28 \n",
       "  1708.41,1056.66 1710.36,1057.03 1712.31,1057.4 1714.27,1057.78 1716.22,1058.15 1718.17,1058.53 1720.13,1058.9 1722.08,1059.28 1724.03,1059.66 1725.98,1060.04 \n",
       "  1727.94,1060.41 1729.89,1060.79 1731.84,1061.17 1733.79,1061.55 1735.75,1061.93 1737.7,1062.32 1739.65,1062.7 1741.6,1063.08 1743.56,1063.46 1745.51,1063.85 \n",
       "  1747.46,1064.23 1749.41,1064.62 1751.37,1065 1753.32,1065.39 1755.27,1065.78 1757.22,1066.17 1759.18,1066.55 1761.13,1066.94 1763.08,1067.33 1765.03,1067.73 \n",
       "  1766.99,1068.12 1768.94,1068.51 1770.89,1068.9 1772.84,1069.29 1774.8,1069.69 1776.75,1070.08 1778.7,1070.48 1780.65,1070.88 1782.61,1071.27 1784.56,1071.67 \n",
       "  1786.51,1072.07 1788.46,1072.47 1790.42,1072.87 1792.37,1073.27 1794.32,1073.67 1796.28,1074.07 1798.23,1074.48 1800.18,1074.88 1802.13,1075.29 1804.09,1075.69 \n",
       "  1806.04,1076.1 1807.99,1076.51 1809.94,1076.91 1811.9,1077.32 1813.85,1077.73 1815.8,1078.14 1817.75,1078.55 1819.71,1078.97 1821.66,1079.38 1823.61,1079.79 \n",
       "  1825.56,1080.21 1827.52,1080.62 1829.47,1081.04 1831.42,1081.46 1833.37,1081.87 1835.33,1082.29 1837.28,1082.71 1839.23,1083.13 1841.18,1083.55 1843.14,1083.98 \n",
       "  1845.09,1084.4 1847.04,1084.82 1848.99,1085.25 1850.95,1085.68 1852.9,1086.1 1854.85,1086.53 1856.8,1086.96 1858.76,1087.39 1860.71,1087.82 1862.66,1088.25 \n",
       "  1864.61,1088.69 1866.57,1089.12 1868.52,1089.55 1870.47,1089.99 1872.43,1090.43 1874.38,1090.87 1876.33,1091.3 1878.28,1091.74 1880.24,1092.18 1882.19,1092.63 \n",
       "  1884.14,1093.07 1886.09,1093.51 1888.05,1093.96 1890,1094.4 1891.95,1094.85 1893.9,1095.3 1895.86,1095.75 1897.81,1096.2 1899.76,1096.65 1901.71,1097.1 \n",
       "  1903.67,1097.56 1905.62,1098.01 1907.57,1098.47 1909.52,1098.93 1911.48,1099.38 1913.43,1099.84 1915.38,1100.3 1917.33,1100.77 1919.29,1101.23 1921.24,1101.69 \n",
       "  1923.19,1102.16 1925.14,1102.62 1927.1,1103.09 1929.05,1103.56 1931,1104.03 1932.95,1104.5 1934.91,1104.97 1936.86,1105.45 1938.81,1105.92 1940.76,1106.4 \n",
       "  1942.72,1106.88 1944.67,1107.35 1946.62,1107.83 1948.58,1108.32 1950.53,1108.8 1952.48,1109.28 1954.43,1109.77 1956.39,1110.25 1958.34,1110.74 1960.29,1111.23 \n",
       "  1962.24,1111.72 1964.2,1112.21 1966.15,1112.71 1968.1,1113.2 1970.05,1113.7 1972.01,1114.2 1973.96,1114.69 1975.91,1115.2 1977.86,1115.7 1979.82,1116.2 \n",
       "  1981.77,1116.7 1983.72,1117.21 1985.67,1117.72 1987.63,1118.23 1989.58,1118.74 1991.53,1119.25 1993.48,1119.76 1995.44,1120.28 1997.39,1120.8 1999.34,1121.31 \n",
       "  2001.29,1121.83 2003.25,1122.35 2005.2,1122.88 2007.15,1123.4 2009.1,1123.93 2011.06,1124.45 2013.01,1124.98 2014.96,1125.51 2016.91,1126.05 2018.87,1126.58 \n",
       "  2020.82,1127.12 2022.77,1127.65 2024.73,1128.19 2026.68,1128.73 2028.63,1129.28 2030.58,1129.82 2032.54,1130.37 2034.49,1130.91 2036.44,1131.46 2038.39,1132.01 \n",
       "  2040.35,1132.57 2042.3,1133.12 2044.25,1133.68 2046.2,1134.24 2048.16,1134.8 2050.11,1135.36 2052.06,1135.92 2054.01,1136.49 2055.97,1137.05 2057.92,1137.62 \n",
       "  2059.87,1138.19 2061.82,1138.77 2063.78,1139.34 2065.73,1139.92 2067.68,1140.5 2069.63,1141.08 2071.59,1141.66 2073.54,1142.25 2075.49,1142.83 2077.44,1143.42 \n",
       "  2079.4,1144.01 2081.35,1144.61 2083.3,1145.2 2085.25,1145.8 2087.21,1146.4 2089.16,1147 2091.11,1147.6 2093.06,1148.21 2095.02,1148.81 2096.97,1149.42 \n",
       "  2098.92,1150.04 2100.88,1150.65 2102.83,1151.27 2104.78,1151.89 2106.73,1152.51 2108.69,1153.13 2110.64,1153.75 2112.59,1154.38 2114.54,1155.01 2116.5,1155.64 \n",
       "  2118.45,1156.28 2120.4,1156.92 2122.35,1157.55 2124.31,1158.2 2126.26,1158.84 2128.21,1159.49 2130.16,1160.14 2132.12,1160.79 2134.07,1161.44 2136.02,1162.1 \n",
       "  2137.97,1162.76 2139.93,1163.42 2141.88,1164.08 2143.83,1164.75 2145.78,1165.42 2147.74,1166.09 2149.69,1166.76 2151.64,1167.44 2153.59,1168.12 2155.55,1168.8 \n",
       "  2157.5,1169.49 2159.45,1170.18 2161.4,1170.87 2163.36,1171.56 2165.31,1172.26 2167.26,1172.95 2169.21,1173.66 2171.17,1174.36 2173.12,1175.07 2175.07,1175.78 \n",
       "  2177.03,1176.49 2178.98,1177.21 2180.93,1177.93 2182.88,1178.65 2184.84,1179.37 2186.79,1180.1 2188.74,1180.83 2190.69,1181.57 2192.65,1182.3 2194.6,1183.04 \n",
       "  2196.55,1183.79 2198.5,1184.53 2200.46,1185.28 2202.41,1186.04 2204.36,1186.79 2206.31,1187.55 2208.27,1188.32 2210.22,1189.08 2212.17,1189.85 2214.12,1190.63 \n",
       "  2216.08,1191.4 2218.03,1192.18 2219.98,1192.96 2221.93,1193.75 2223.89,1194.54 2225.84,1195.33 2227.79,1196.13 2229.74,1196.93 2231.7,1197.74 2233.65,1198.55 \n",
       "  2235.6,1199.36 2237.55,1200.17 2239.51,1200.99 2241.46,1201.81 2243.41,1202.64 2245.36,1203.47 2247.32,1204.31 2249.27,1205.14 2251.22,1205.99 2253.18,1206.83 \n",
       "  \n",
       "  \"/>\n",
       "<circle clip-path=\"url(#clip222)\" cx=\"302.564\" cy=\"591.716\" r=\"14.4\" fill=\"#0000ff\" fill-rule=\"evenodd\" fill-opacity=\"1\" stroke=\"#000000\" stroke-opacity=\"1\" stroke-width=\"3.2\"/>\n",
       "<polyline clip-path=\"url(#clip222)\" style=\"stroke:#ff0000; stroke-linecap:round; stroke-linejoin:round; stroke-width:4; stroke-opacity:1; fill:none\" points=\"\n",
       "  302.564,263.592 304.517,268.966 306.469,274.09 308.422,278.986 310.374,283.673 312.327,288.168 314.279,292.488 316.232,296.644 318.184,300.649 320.137,304.515 \n",
       "  322.09,308.249 324.042,311.862 325.995,315.36 327.947,318.752 329.9,322.042 331.852,325.238 333.805,328.345 335.758,331.367 337.71,334.309 339.663,337.175 \n",
       "  341.615,339.97 343.568,342.696 345.52,345.357 347.473,347.956 349.426,350.496 351.378,352.98 353.331,355.41 355.283,357.788 357.236,360.117 359.188,362.398 \n",
       "  361.141,364.634 363.093,366.827 365.046,368.978 366.999,371.088 368.951,373.16 370.904,375.194 372.856,377.192 374.809,379.156 376.761,381.086 378.714,382.984 \n",
       "  380.667,384.85 382.619,386.687 384.572,388.494 386.524,390.273 388.477,392.024 390.429,393.749 392.382,395.449 394.334,397.123 396.287,398.773 398.24,400.4 \n",
       "  400.192,402.004 402.145,403.585 404.097,405.146 406.05,406.685 408.002,408.204 409.955,409.703 411.908,411.183 413.86,412.644 415.813,414.087 417.765,415.512 \n",
       "  419.718,416.92 421.67,418.311 423.623,419.685 425.575,421.043 427.528,422.386 429.481,423.713 431.433,425.025 433.386,426.323 435.338,427.606 437.291,428.875 \n",
       "  439.243,430.131 441.196,431.373 443.149,432.603 445.101,433.819 447.054,435.023 449.006,436.215 450.959,437.395 452.911,438.563 454.864,439.72 456.817,440.865 \n",
       "  458.769,442 460.722,443.123 462.674,444.237 464.627,445.339 466.579,446.432 468.532,447.515 470.484,448.588 472.437,449.651 474.39,450.705 476.342,451.749 \n",
       "  478.295,452.785 480.247,453.812 482.2,454.83 484.152,455.839 486.105,456.84 488.058,457.833 490.01,458.818 491.963,459.794 493.915,460.763 495.868,461.724 \n",
       "  497.82,462.678 499.773,463.624 501.725,464.563 503.678,465.494 505.631,466.419 507.583,467.336 509.536,468.247 511.488,469.151 513.441,470.048 515.393,470.939 \n",
       "  517.346,471.823 519.299,472.701 521.251,473.573 523.204,474.439 525.156,475.298 527.109,476.152 529.061,476.999 531.014,477.841 532.966,478.678 534.919,479.508 \n",
       "  536.872,480.334 538.824,481.153 540.777,481.968 542.729,482.777 544.682,483.581 546.634,484.379 548.587,485.173 550.54,485.962 552.492,486.746 554.445,487.525 \n",
       "  556.397,488.299 558.35,489.068 560.302,489.833 562.255,490.593 564.208,491.349 566.16,492.1 568.113,492.846 570.065,493.589 572.018,494.327 573.97,495.061 \n",
       "  575.923,495.79 577.875,496.516 579.828,497.237 581.781,497.955 583.733,498.668 585.686,499.377 587.638,500.083 589.591,500.785 591.543,501.483 593.496,502.177 \n",
       "  595.449,502.868 597.401,503.554 599.354,504.238 601.306,504.917 603.259,505.594 605.211,506.266 607.164,506.936 609.116,507.602 611.069,508.264 613.022,508.923 \n",
       "  614.974,509.579 616.927,510.232 618.879,510.882 620.832,511.528 622.784,512.171 624.737,512.811 626.69,513.448 628.642,514.083 630.595,514.714 632.547,515.342 \n",
       "  634.5,515.967 636.452,516.589 638.405,517.209 640.358,517.825 642.31,518.439 644.263,519.05 646.215,519.658 648.168,520.264 650.12,520.867 652.073,521.467 \n",
       "  654.025,522.065 655.978,522.66 657.931,523.252 659.883,523.842 661.836,524.43 663.788,525.015 665.741,525.597 667.693,526.177 669.646,526.755 671.599,527.33 \n",
       "  673.551,527.903 675.504,528.474 677.456,529.042 679.409,529.608 681.361,530.171 683.314,530.733 685.266,531.292 687.219,531.849 689.172,532.404 691.124,532.956 \n",
       "  693.077,533.507 695.029,534.055 696.982,534.602 698.934,535.146 700.887,535.688 702.84,536.228 704.792,536.766 706.745,537.302 708.697,537.837 710.65,538.369 \n",
       "  712.602,538.899 714.555,539.427 716.507,539.954 718.46,540.478 720.413,541.001 722.365,541.522 724.318,542.041 726.27,542.558 728.223,543.073 730.175,543.587 \n",
       "  732.128,544.099 734.081,544.609 736.033,545.117 737.986,545.624 739.938,546.128 741.891,546.632 743.843,547.133 745.796,547.633 747.749,548.131 749.701,548.628 \n",
       "  751.654,549.123 753.606,549.616 755.559,550.108 757.511,550.598 759.464,551.087 761.416,551.574 763.369,552.06 765.322,552.544 767.274,553.027 769.227,553.508 \n",
       "  771.179,553.987 773.132,554.465 775.084,554.942 777.037,555.417 778.99,555.891 780.942,556.364 782.895,556.835 784.847,557.304 786.8,557.773 788.752,558.24 \n",
       "  790.705,558.705 792.657,559.169 794.61,559.632 796.563,560.094 798.515,560.554 800.468,561.013 802.42,561.471 804.373,561.927 806.325,562.382 808.278,562.836 \n",
       "  810.231,563.289 812.183,563.74 814.136,564.19 816.088,564.639 818.041,565.087 819.993,565.533 821.946,565.979 823.898,566.423 825.851,566.866 827.804,567.308 \n",
       "  829.756,567.749 831.709,568.188 833.661,568.627 835.614,569.064 837.566,569.5 839.519,569.936 841.472,570.37 843.424,570.803 845.377,571.235 847.329,571.665 \n",
       "  849.282,572.095 851.234,572.524 853.187,572.952 855.14,573.378 857.092,573.804 859.045,574.229 860.997,574.652 862.95,575.075 864.902,575.497 866.855,575.917 \n",
       "  868.807,576.337 870.76,576.756 872.713,577.174 874.665,577.59 876.618,578.006 878.57,578.421 880.523,578.835 882.475,579.249 884.428,579.661 886.381,580.072 \n",
       "  888.333,580.482 890.286,580.892 892.238,581.301 894.191,581.708 896.143,582.115 898.096,582.521 900.048,582.927 902.001,583.331 903.954,583.734 905.906,584.137 \n",
       "  907.859,584.539 909.811,584.94 911.764,585.34 913.716,585.74 915.669,586.138 917.622,586.536 919.574,586.933 921.527,587.329 923.479,587.725 925.432,588.12 \n",
       "  927.384,588.513 929.337,588.907 931.29,589.299 933.242,589.691 935.195,590.082 937.147,590.472 939.1,590.861 941.052,591.25 943.005,591.638 944.957,592.026 \n",
       "  946.91,592.412 948.863,592.798 950.815,593.183 952.768,593.568 954.72,593.952 956.673,594.335 958.625,594.718 960.578,595.1 962.531,595.481 964.483,595.861 \n",
       "  966.436,596.241 968.388,596.621 970.341,596.999 972.293,597.377 974.246,597.755 976.198,598.131 978.151,598.507 980.104,598.883 982.056,599.258 984.009,599.632 \n",
       "  985.961,600.006 987.914,600.379 989.866,600.752 991.819,601.124 993.772,601.495 995.724,601.866 997.677,602.236 999.629,602.606 1001.58,602.975 1003.53,603.344 \n",
       "  1005.49,603.712 1007.44,604.079 1009.39,604.446 1011.34,604.812 1013.3,605.178 1015.25,605.544 1017.2,605.909 1019.15,606.273 1021.11,606.637 1023.06,607 \n",
       "  1025.01,607.363 1026.97,607.725 1028.92,608.087 1030.87,608.448 1032.82,608.809 1034.78,609.17 1036.73,609.529 1038.68,609.889 1040.63,610.248 1042.59,610.606 \n",
       "  1044.54,610.964 1046.49,611.322 1048.44,611.679 1050.4,612.036 1052.35,612.392 1054.3,612.748 1056.25,613.103 1058.21,613.458 1060.16,613.812 1062.11,614.167 \n",
       "  1064.06,614.52 1066.02,614.873 1067.97,615.226 1069.92,615.579 1071.87,615.931 1073.83,616.282 1075.78,616.634 1077.73,616.984 1079.68,617.335 1081.64,617.685 \n",
       "  1083.59,618.035 1085.54,618.384 1087.49,618.733 1089.45,619.081 1091.4,619.43 1093.35,619.778 1095.3,620.125 1097.26,620.472 1099.21,620.819 1101.16,621.165 \n",
       "  1103.12,621.511 1105.07,621.857 1107.02,622.203 1108.97,622.548 1110.93,622.892 1112.88,623.237 1114.83,623.581 1116.78,623.925 1118.74,624.268 1120.69,624.611 \n",
       "  1122.64,624.954 1124.59,625.297 1126.55,625.639 1128.5,625.981 1130.45,626.323 1132.4,626.664 1134.36,627.005 1136.31,627.346 1138.26,627.687 1140.21,628.027 \n",
       "  1142.17,628.367 1144.12,628.706 1146.07,629.046 1148.02,629.385 1149.98,629.724 1151.93,630.063 1153.88,630.401 1155.83,630.739 1157.79,631.077 1159.74,631.415 \n",
       "  1161.69,631.752 1163.64,632.089 1165.6,632.426 1167.55,632.763 1169.5,633.1 1171.45,633.436 1173.41,633.772 1175.36,634.108 1177.31,634.443 1179.27,634.779 \n",
       "  1181.22,635.114 1183.17,635.449 1185.12,635.784 1187.08,636.118 1189.03,636.453 1190.98,636.787 1192.93,637.121 1194.89,637.455 1196.84,637.788 1198.79,638.122 \n",
       "  1200.74,638.455 1202.7,638.788 1204.65,639.121 1206.6,639.454 1208.55,639.787 1210.51,640.119 1212.46,640.451 1214.41,640.783 1216.36,641.115 1218.32,641.447 \n",
       "  1220.27,641.779 1222.22,642.11 1224.17,642.442 1226.13,642.773 1228.08,643.104 1230.03,643.435 1231.98,643.766 1233.94,644.097 1235.89,644.427 1237.84,644.758 \n",
       "  1239.79,645.088 1241.75,645.418 1243.7,645.749 1245.65,646.079 1247.6,646.408 1249.56,646.738 1251.51,647.068 1253.46,647.398 1255.42,647.727 1257.37,648.057 \n",
       "  1259.32,648.386 1261.27,648.715 1263.23,649.044 1265.18,649.373 1267.13,649.702 1269.08,650.031 1271.04,650.36 1272.99,650.689 1274.94,651.018 1276.89,651.347 \n",
       "  1278.85,651.675 1280.8,652.004 1282.75,652.332 1284.7,652.661 1286.66,652.989 1288.61,653.317 1290.56,653.646 1292.51,653.974 1294.47,654.302 1296.42,654.63 \n",
       "  1298.37,654.959 1300.32,655.287 1302.28,655.615 1304.23,655.943 1306.18,656.271 1308.13,656.599 1310.09,656.927 1312.04,657.255 1313.99,657.583 1315.94,657.911 \n",
       "  1317.9,658.239 1319.85,658.567 1321.8,658.895 1323.75,659.223 1325.71,659.551 1327.66,659.879 1329.61,660.208 1331.57,660.536 1333.52,660.864 1335.47,661.192 \n",
       "  1337.42,661.52 1339.38,661.848 1341.33,662.176 1343.28,662.505 1345.23,662.833 1347.19,663.161 1349.14,663.49 1351.09,663.818 1353.04,664.146 1355,664.475 \n",
       "  1356.95,664.803 1358.9,665.132 1360.85,665.461 1362.81,665.789 1364.76,666.118 1366.71,666.447 1368.66,666.776 1370.62,667.105 1372.57,667.434 1374.52,667.763 \n",
       "  1376.47,668.092 1378.43,668.422 1380.38,668.751 1382.33,669.081 1384.28,669.41 1386.24,669.74 1388.19,670.07 1390.14,670.4 1392.09,670.73 1394.05,671.06 \n",
       "  1396,671.39 1397.95,671.72 1399.9,672.051 1401.86,672.381 1403.81,672.712 1405.76,673.043 1407.72,673.374 1409.67,673.705 1411.62,674.036 1413.57,674.367 \n",
       "  1415.53,674.699 1417.48,675.03 1419.43,675.362 1421.38,675.694 1423.34,676.026 1425.29,676.358 1427.24,676.69 1429.19,677.023 1431.15,677.356 1433.1,677.689 \n",
       "  1435.05,678.022 1437,678.355 1438.96,678.688 1440.91,679.022 1442.86,679.355 1444.81,679.689 1446.77,680.023 1448.72,680.358 1450.67,680.692 1452.62,681.027 \n",
       "  1454.58,681.362 1456.53,681.697 1458.48,682.032 1460.43,682.367 1462.39,682.703 1464.34,683.039 1466.29,683.375 1468.24,683.711 1470.2,684.048 1472.15,684.385 \n",
       "  1474.1,684.722 1476.05,685.059 1478.01,685.396 1479.96,685.734 1481.91,686.072 1483.87,686.41 1485.82,686.748 1487.77,687.087 1489.72,687.426 1491.68,687.765 \n",
       "  1493.63,688.105 1495.58,688.444 1497.53,688.784 1499.49,689.125 1501.44,689.465 1503.39,689.806 1505.34,690.147 1507.3,690.488 1509.25,690.83 1511.2,691.172 \n",
       "  1513.15,691.514 1515.11,691.856 1517.06,692.199 1519.01,692.542 1520.96,692.886 1522.92,693.229 1524.87,693.573 1526.82,693.918 1528.77,694.262 1530.73,694.607 \n",
       "  1532.68,694.953 1534.63,695.298 1536.58,695.644 1538.54,695.99 1540.49,696.337 1542.44,696.684 1544.39,697.031 1546.35,697.379 1548.3,697.727 1550.25,698.075 \n",
       "  1552.2,698.424 1554.16,698.773 1556.11,699.122 1558.06,699.472 1560.02,699.822 1561.97,700.173 1563.92,700.524 1565.87,700.875 1567.83,701.227 1569.78,701.579 \n",
       "  1571.73,701.931 1573.68,702.284 1575.64,702.637 1577.59,702.991 1579.54,703.345 1581.49,703.699 1583.45,704.054 1585.4,704.409 1587.35,704.765 1589.3,705.121 \n",
       "  1591.26,705.478 1593.21,705.834 1595.16,706.192 1597.11,706.55 1599.07,706.908 1601.02,707.267 1602.97,707.626 1604.92,707.985 1606.88,708.346 1608.83,708.706 \n",
       "  1610.78,709.067 1612.73,709.429 1614.69,709.79 1616.64,710.153 1618.59,710.516 1620.54,710.879 1622.5,711.243 1624.45,711.607 1626.4,711.972 1628.35,712.337 \n",
       "  1630.31,712.703 1632.26,713.07 1634.21,713.437 1636.17,713.804 1638.12,714.172 1640.07,714.54 1642.02,714.909 1643.98,715.279 1645.93,715.649 1647.88,716.019 \n",
       "  1649.83,716.39 1651.79,716.762 1653.74,717.134 1655.69,717.507 1657.64,717.88 1659.6,718.254 1661.55,718.628 1663.5,719.003 1665.45,719.379 1667.41,719.755 \n",
       "  1669.36,720.132 1671.31,720.509 1673.26,720.887 1675.22,721.265 1677.17,721.644 1679.12,722.024 1681.07,722.404 1683.03,722.785 1684.98,723.167 1686.93,723.549 \n",
       "  1688.88,723.932 1690.84,724.315 1692.79,724.699 1694.74,725.084 1696.69,725.469 1698.65,725.855 1700.6,726.242 1702.55,726.629 1704.5,727.017 1706.46,727.406 \n",
       "  1708.41,727.795 1710.36,728.185 1712.31,728.576 1714.27,728.967 1716.22,729.359 1718.17,729.752 1720.13,730.145 1722.08,730.539 1724.03,730.934 1725.98,731.33 \n",
       "  1727.94,731.726 1729.89,732.123 1731.84,732.521 1733.79,732.919 1735.75,733.319 1737.7,733.719 1739.65,734.119 1741.6,734.521 1743.56,734.923 1745.51,735.326 \n",
       "  1747.46,735.73 1749.41,736.135 1751.37,736.54 1753.32,736.946 1755.27,737.353 1757.22,737.761 1759.18,738.169 1761.13,738.579 1763.08,738.989 1765.03,739.4 \n",
       "  1766.99,739.811 1768.94,740.224 1770.89,740.637 1772.84,741.052 1774.8,741.467 1776.75,741.883 1778.7,742.3 1780.65,742.718 1782.61,743.136 1784.56,743.556 \n",
       "  1786.51,743.976 1788.46,744.397 1790.42,744.819 1792.37,745.242 1794.32,745.666 1796.28,746.091 1798.23,746.517 1800.18,746.943 1802.13,747.371 1804.09,747.8 \n",
       "  1806.04,748.229 1807.99,748.659 1809.94,749.091 1811.9,749.523 1813.85,749.956 1815.8,750.391 1817.75,750.826 1819.71,751.262 1821.66,751.699 1823.61,752.138 \n",
       "  1825.56,752.577 1827.52,753.017 1829.47,753.458 1831.42,753.901 1833.37,754.344 1835.33,754.788 1837.28,755.234 1839.23,755.68 1841.18,756.127 1843.14,756.576 \n",
       "  1845.09,757.026 1847.04,757.476 1848.99,757.928 1850.95,758.381 1852.9,758.835 1854.85,759.29 1856.8,759.746 1858.76,760.203 1860.71,760.662 1862.66,761.121 \n",
       "  1864.61,761.582 1866.57,762.044 1868.52,762.507 1870.47,762.971 1872.43,763.436 1874.38,763.903 1876.33,764.37 1878.28,764.839 1880.24,765.309 1882.19,765.781 \n",
       "  1884.14,766.253 1886.09,766.727 1888.05,767.202 1890,767.678 1891.95,768.155 1893.9,768.634 1895.86,769.114 1897.81,769.595 1899.76,770.078 1901.71,770.562 \n",
       "  1903.67,771.047 1905.62,771.533 1907.57,772.021 1909.52,772.51 1911.48,773 1913.43,773.492 1915.38,773.985 1917.33,774.479 1919.29,774.975 1921.24,775.472 \n",
       "  1923.19,775.97 1925.14,776.47 1927.1,776.972 1929.05,777.474 1931,777.978 1932.95,778.484 1934.91,778.991 1936.86,779.499 1938.81,780.009 1940.76,780.52 \n",
       "  1942.72,781.033 1944.67,781.547 1946.62,782.063 1948.58,782.581 1950.53,783.099 1952.48,783.62 1954.43,784.141 1956.39,784.665 1958.34,785.19 1960.29,785.716 \n",
       "  1962.24,786.244 1964.2,786.774 1966.15,787.305 1968.1,787.838 1970.05,788.372 1972.01,788.908 1973.96,789.446 1975.91,789.985 1977.86,790.526 1979.82,791.069 \n",
       "  1981.77,791.613 1983.72,792.159 1985.67,792.707 1987.63,793.256 1989.58,793.807 1991.53,794.36 1993.48,794.914 1995.44,795.471 1997.39,796.029 1999.34,796.589 \n",
       "  2001.29,797.15 2003.25,797.714 2005.2,798.279 2007.15,798.846 2009.1,799.415 2011.06,799.986 2013.01,800.558 2014.96,801.133 2016.91,801.709 2018.87,802.287 \n",
       "  2020.82,802.867 2022.77,803.449 2024.73,804.033 2026.68,804.619 2028.63,805.207 2030.58,805.797 2032.54,806.389 2034.49,806.983 2036.44,807.578 2038.39,808.176 \n",
       "  2040.35,808.776 2042.3,809.378 2044.25,809.982 2046.2,810.588 2048.16,811.197 2050.11,811.807 2052.06,812.419 2054.01,813.034 2055.97,813.65 2057.92,814.269 \n",
       "  2059.87,814.89 2061.82,815.513 2063.78,816.139 2065.73,816.767 2067.68,817.396 2069.63,818.029 2071.59,818.663 2073.54,819.3 2075.49,819.939 2077.44,820.58 \n",
       "  2079.4,821.223 2081.35,821.869 2083.3,822.518 2085.25,823.168 2087.21,823.821 2089.16,824.477 2091.11,825.135 2093.06,825.795 2095.02,826.458 2096.97,827.123 \n",
       "  2098.92,827.791 2100.88,828.461 2102.83,829.134 2104.78,829.81 2106.73,830.487 2108.69,831.168 2110.64,831.851 2112.59,832.537 2114.54,833.225 2116.5,833.916 \n",
       "  2118.45,834.61 2120.4,835.306 2122.35,836.005 2124.31,836.707 2126.26,837.411 2128.21,838.119 2130.16,838.829 2132.12,839.542 2134.07,840.257 2136.02,840.976 \n",
       "  2137.97,841.697 2139.93,842.422 2141.88,843.149 2143.83,843.879 2145.78,844.612 2147.74,845.348 2149.69,846.087 2151.64,846.829 2153.59,847.574 2155.55,848.322 \n",
       "  2157.5,849.073 2159.45,849.828 2161.4,850.585 2163.36,851.346 2165.31,852.109 2167.26,852.876 2169.21,853.646 2171.17,854.42 2173.12,855.196 2175.07,855.976 \n",
       "  2177.03,856.759 2178.98,857.546 2180.93,858.336 2182.88,859.129 2184.84,859.926 2186.79,860.726 2188.74,861.529 2190.69,862.336 2192.65,863.147 2194.6,863.961 \n",
       "  2196.55,864.778 2198.5,865.599 2200.46,866.424 2202.41,867.253 2204.36,868.085 2206.31,868.921 2208.27,869.76 2210.22,870.603 2212.17,871.45 2214.12,872.301 \n",
       "  2216.08,873.156 2218.03,874.014 2219.98,874.877 2221.93,875.743 2223.89,876.613 2225.84,877.487 2227.79,878.366 2229.74,879.248 2231.7,880.134 2233.65,881.025 \n",
       "  2235.6,881.92 2237.55,882.818 2239.51,883.721 2241.46,884.629 2243.41,885.54 2245.36,886.456 2247.32,887.376 2249.27,888.3 2251.22,889.229 2253.18,890.163 \n",
       "  \n",
       "  \"/>\n",
       "<circle clip-path=\"url(#clip222)\" cx=\"302.564\" cy=\"263.592\" r=\"14.4\" fill=\"#ff0000\" fill-rule=\"evenodd\" fill-opacity=\"1\" stroke=\"#000000\" stroke-opacity=\"1\" stroke-width=\"3.2\"/>\n",
       "<polyline clip-path=\"url(#clip222)\" style=\"stroke:#0000ff; stroke-linecap:round; stroke-linejoin:round; stroke-width:4; stroke-opacity:1; fill:none\" stroke-dasharray=\"16, 10\" points=\"\n",
       "  302.564,1217.65 302.564,591.716 \n",
       "  \"/>\n",
       "<polyline clip-path=\"url(#clip222)\" style=\"stroke:#0000ff; stroke-linecap:round; stroke-linejoin:round; stroke-width:4; stroke-opacity:1; fill:none\" stroke-dasharray=\"16, 10\" points=\"\n",
       "  204.936,591.716 302.564,591.716 \n",
       "  \"/>\n",
       "<polyline clip-path=\"url(#clip222)\" style=\"stroke:#ff0000; stroke-linecap:round; stroke-linejoin:round; stroke-width:4; stroke-opacity:1; fill:none\" stroke-dasharray=\"16, 10\" points=\"\n",
       "  302.564,1217.65 302.564,263.592 \n",
       "  \"/>\n",
       "<polyline clip-path=\"url(#clip222)\" style=\"stroke:#ff0000; stroke-linecap:round; stroke-linejoin:round; stroke-width:4; stroke-opacity:1; fill:none\" stroke-dasharray=\"16, 10\" points=\"\n",
       "  204.936,263.592 302.564,263.592 \n",
       "  \"/>\n",
       "<path clip-path=\"url(#clip220)\" d=\"\n",
       "M276.53 1377.32 L748.81 1377.32 L748.81 1118.12 L276.53 1118.12  Z\n",
       "  \" fill=\"#ffffff\" fill-rule=\"evenodd\" fill-opacity=\"1\"/>\n",
       "<polyline clip-path=\"url(#clip220)\" style=\"stroke:#000000; stroke-linecap:round; stroke-linejoin:round; stroke-width:4; stroke-opacity:1; fill:none\" points=\"\n",
       "  276.53,1377.32 748.81,1377.32 748.81,1118.12 276.53,1118.12 276.53,1377.32 \n",
       "  \"/>\n",
       "<polyline clip-path=\"url(#clip220)\" style=\"stroke:#0000ff; stroke-linecap:round; stroke-linejoin:round; stroke-width:4; stroke-opacity:1; fill:none\" points=\"\n",
       "  300.394,1169.96 443.582,1169.96 \n",
       "  \"/>\n",
       "<path clip-path=\"url(#clip220)\" d=\"M467.447 1152.68 L473.743 1152.68 L489.067 1181.59 L489.067 1152.68 L493.604 1152.68 L493.604 1187.24 L487.308 1187.24 L471.984 1158.32 L471.984 1187.24 L467.447 1187.24 L467.447 1152.68 Z\" fill=\"#000000\" fill-rule=\"evenodd\" fill-opacity=\"1\" /><path clip-path=\"url(#clip220)\" d=\"M502.285 1177 L502.285 1161.31 L506.544 1161.31 L506.544 1176.84 Q506.544 1180.52 507.979 1182.37 Q509.415 1184.2 512.285 1184.2 Q515.734 1184.2 517.725 1182 Q519.739 1179.8 519.739 1176.01 L519.739 1161.31 L523.998 1161.31 L523.998 1187.24 L519.739 1187.24 L519.739 1183.25 Q518.188 1185.61 516.127 1186.77 Q514.09 1187.91 511.382 1187.91 Q506.915 1187.91 504.6 1185.13 Q502.285 1182.35 502.285 1177 M513.002 1160.68 L513.002 1160.68 Z\" fill=\"#000000\" fill-rule=\"evenodd\" fill-opacity=\"1\" /><path clip-path=\"url(#clip220)\" d=\"M532.771 1151.22 L537.03 1151.22 L537.03 1187.24 L532.771 1187.24 L532.771 1151.22 Z\" fill=\"#000000\" fill-rule=\"evenodd\" fill-opacity=\"1\" /><path clip-path=\"url(#clip220)\" d=\"M545.942 1151.22 L550.201 1151.22 L550.201 1187.24 L545.942 1187.24 L545.942 1151.22 Z\" fill=\"#000000\" fill-rule=\"evenodd\" fill-opacity=\"1\" /><circle clip-path=\"url(#clip220)\" cx=\"371.988\" cy=\"1221.8\" r=\"23.04\" fill=\"#0000ff\" fill-rule=\"evenodd\" fill-opacity=\"1\" stroke=\"#000000\" stroke-opacity=\"1\" stroke-width=\"5.12\"/>\n",
       "<path clip-path=\"url(#clip220)\" d=\"M487.794 1218.13 Q489.391 1215.26 491.614 1213.89 Q493.836 1212.52 496.845 1212.52 Q500.896 1212.52 503.095 1215.37 Q505.294 1218.2 505.294 1223.43 L505.294 1239.08 L501.012 1239.08 L501.012 1223.57 Q501.012 1219.84 499.692 1218.03 Q498.373 1216.23 495.665 1216.23 Q492.354 1216.23 490.433 1218.43 Q488.512 1220.63 488.512 1224.42 L488.512 1239.08 L484.229 1239.08 L484.229 1223.57 Q484.229 1219.82 482.91 1218.03 Q481.591 1216.23 478.836 1216.23 Q475.572 1216.23 473.651 1218.45 Q471.73 1220.65 471.73 1224.42 L471.73 1239.08 L467.447 1239.08 L467.447 1213.15 L471.73 1213.15 L471.73 1217.18 Q473.188 1214.79 475.225 1213.66 Q477.262 1212.52 480.063 1212.52 Q482.887 1212.52 484.854 1213.96 Q486.845 1215.39 487.794 1218.13 Z\" fill=\"#000000\" fill-rule=\"evenodd\" fill-opacity=\"1\" /><path clip-path=\"url(#clip220)\" d=\"M525.572 1226.04 Q520.41 1226.04 518.419 1227.22 Q516.428 1228.4 516.428 1231.25 Q516.428 1233.52 517.91 1234.86 Q519.414 1236.18 521.984 1236.18 Q525.526 1236.18 527.655 1233.68 Q529.808 1231.16 529.808 1226.99 L529.808 1226.04 L525.572 1226.04 M534.067 1224.28 L534.067 1239.08 L529.808 1239.08 L529.808 1235.14 Q528.35 1237.5 526.174 1238.64 Q523.998 1239.75 520.85 1239.75 Q516.868 1239.75 514.507 1237.52 Q512.169 1235.28 512.169 1231.53 Q512.169 1227.15 515.086 1224.93 Q518.026 1222.71 523.836 1222.71 L529.808 1222.71 L529.808 1222.29 Q529.808 1219.35 527.863 1217.76 Q525.942 1216.14 522.447 1216.14 Q520.225 1216.14 518.118 1216.67 Q516.012 1217.2 514.067 1218.27 L514.067 1214.33 Q516.405 1213.43 518.604 1212.99 Q520.803 1212.52 522.887 1212.52 Q528.512 1212.52 531.289 1215.44 Q534.067 1218.36 534.067 1224.28 Z\" fill=\"#000000\" fill-rule=\"evenodd\" fill-opacity=\"1\" /><path clip-path=\"url(#clip220)\" d=\"M564.391 1213.15 L555.016 1225.77 L564.877 1239.08 L559.854 1239.08 L552.308 1228.89 L544.762 1239.08 L539.738 1239.08 L549.808 1225.51 L540.595 1213.15 L545.618 1213.15 L552.493 1222.39 L559.368 1213.15 L564.391 1213.15 Z\" fill=\"#000000\" fill-rule=\"evenodd\" fill-opacity=\"1\" /><path clip-path=\"url(#clip220)\" d=\"M571.081 1204.52 L575.757 1204.52 L575.757 1235.14 L592.585 1235.14 L592.585 1239.08 L571.081 1239.08 L571.081 1204.52 Z\" fill=\"#000000\" fill-rule=\"evenodd\" fill-opacity=\"1\" /><path clip-path=\"url(#clip220)\" d=\"M597.493 1204.52 L602.169 1204.52 L602.169 1235.14 L618.997 1235.14 L618.997 1239.08 L597.493 1239.08 L597.493 1204.52 Z\" fill=\"#000000\" fill-rule=\"evenodd\" fill-opacity=\"1\" /><path clip-path=\"url(#clip220)\" d=\"M643.418 1246.95 L643.418 1250.26 L618.789 1250.26 L618.789 1246.95 L643.418 1246.95 Z\" fill=\"#000000\" fill-rule=\"evenodd\" fill-opacity=\"1\" /><path clip-path=\"url(#clip220)\" d=\"M668.974 1223.43 L668.974 1239.08 L664.715 1239.08 L664.715 1223.57 Q664.715 1219.89 663.279 1218.06 Q661.844 1216.23 658.974 1216.23 Q655.525 1216.23 653.534 1218.43 Q651.543 1220.63 651.543 1224.42 L651.543 1239.08 L647.261 1239.08 L647.261 1213.15 L651.543 1213.15 L651.543 1217.18 Q653.071 1214.84 655.131 1213.68 Q657.215 1212.52 659.923 1212.52 Q664.391 1212.52 666.682 1215.3 Q668.974 1218.06 668.974 1223.43 Z\" fill=\"#000000\" fill-rule=\"evenodd\" fill-opacity=\"1\" /><path clip-path=\"url(#clip220)\" d=\"M677.029 1228.84 L677.029 1213.15 L681.289 1213.15 L681.289 1228.68 Q681.289 1232.36 682.724 1234.21 Q684.159 1236.04 687.029 1236.04 Q690.478 1236.04 692.469 1233.84 Q694.483 1231.64 694.483 1227.85 L694.483 1213.15 L698.742 1213.15 L698.742 1239.08 L694.483 1239.08 L694.483 1235.09 Q692.932 1237.45 690.872 1238.61 Q688.835 1239.75 686.127 1239.75 Q681.659 1239.75 679.344 1236.97 Q677.029 1234.19 677.029 1228.84 M687.747 1212.52 L687.747 1212.52 Z\" fill=\"#000000\" fill-rule=\"evenodd\" fill-opacity=\"1\" /><path clip-path=\"url(#clip220)\" d=\"M707.515 1203.06 L711.775 1203.06 L711.775 1239.08 L707.515 1239.08 L707.515 1203.06 Z\" fill=\"#000000\" fill-rule=\"evenodd\" fill-opacity=\"1\" /><path clip-path=\"url(#clip220)\" d=\"M720.687 1203.06 L724.946 1203.06 L724.946 1239.08 L720.687 1239.08 L720.687 1203.06 Z\" fill=\"#000000\" fill-rule=\"evenodd\" fill-opacity=\"1\" /><polyline clip-path=\"url(#clip220)\" style=\"stroke:#ff0000; stroke-linecap:round; stroke-linejoin:round; stroke-width:4; stroke-opacity:1; fill:none\" points=\"\n",
       "  300.394,1273.64 443.582,1273.64 \n",
       "  \"/>\n",
       "<path clip-path=\"url(#clip220)\" d=\"M483.28 1260.96 L476.938 1278.16 L489.646 1278.16 L483.28 1260.96 M480.642 1256.36 L485.942 1256.36 L499.114 1290.92 L494.253 1290.92 L491.104 1282.05 L475.526 1282.05 L472.378 1290.92 L467.447 1290.92 L480.642 1256.36 Z\" fill=\"#000000\" fill-rule=\"evenodd\" fill-opacity=\"1\" /><path clip-path=\"url(#clip220)\" d=\"M503.975 1254.9 L508.234 1254.9 L508.234 1290.92 L503.975 1290.92 L503.975 1254.9 Z\" fill=\"#000000\" fill-rule=\"evenodd\" fill-opacity=\"1\" /><path clip-path=\"url(#clip220)\" d=\"M521.359 1257.63 L521.359 1264.99 L530.132 1264.99 L530.132 1268.3 L521.359 1268.3 L521.359 1282.37 Q521.359 1285.54 522.215 1286.45 Q523.095 1287.35 525.757 1287.35 L530.132 1287.35 L530.132 1290.92 L525.757 1290.92 Q520.826 1290.92 518.951 1289.09 Q517.077 1287.23 517.077 1282.37 L517.077 1268.3 L513.952 1268.3 L513.952 1264.99 L517.077 1264.99 L517.077 1257.63 L521.359 1257.63 Z\" fill=\"#000000\" fill-rule=\"evenodd\" fill-opacity=\"1\" /><path clip-path=\"url(#clip220)\" d=\"M555.433 1298.79 L555.433 1302.1 L530.803 1302.1 L530.803 1298.79 L555.433 1298.79 Z\" fill=\"#000000\" fill-rule=\"evenodd\" fill-opacity=\"1\" /><path clip-path=\"url(#clip220)\" d=\"M560.849 1286.98 L568.488 1286.98 L568.488 1260.61 L560.178 1262.28 L560.178 1258.02 L568.442 1256.36 L573.118 1256.36 L573.118 1286.98 L580.757 1286.98 L580.757 1290.92 L560.849 1290.92 L560.849 1286.98 Z\" fill=\"#000000\" fill-rule=\"evenodd\" fill-opacity=\"1\" /><path clip-path=\"url(#clip220)\" d=\"M594.229 1286.98 L610.548 1286.98 L610.548 1290.92 L588.604 1290.92 L588.604 1286.98 Q591.266 1284.23 595.849 1279.6 Q600.456 1274.94 601.636 1273.6 Q603.882 1271.08 604.761 1269.34 Q605.664 1267.58 605.664 1265.89 Q605.664 1263.14 603.72 1261.4 Q601.798 1259.67 598.696 1259.67 Q596.497 1259.67 594.044 1260.43 Q591.613 1261.19 588.835 1262.74 L588.835 1258.02 Q591.659 1256.89 594.113 1256.31 Q596.567 1255.73 598.604 1255.73 Q603.974 1255.73 607.169 1258.42 Q610.363 1261.1 610.363 1265.59 Q610.363 1267.72 609.553 1269.64 Q608.766 1271.54 606.659 1274.13 Q606.081 1274.8 602.979 1278.02 Q599.877 1281.22 594.229 1286.98 Z\" fill=\"#000000\" fill-rule=\"evenodd\" fill-opacity=\"1\" /><circle clip-path=\"url(#clip220)\" cx=\"371.988\" cy=\"1325.48\" r=\"23.04\" fill=\"#ff0000\" fill-rule=\"evenodd\" fill-opacity=\"1\" stroke=\"#000000\" stroke-opacity=\"1\" stroke-width=\"5.12\"/>\n",
       "<path clip-path=\"url(#clip220)\" d=\"M487.794 1321.81 Q489.391 1318.94 491.614 1317.57 Q493.836 1316.2 496.845 1316.2 Q500.896 1316.2 503.095 1319.05 Q505.294 1321.88 505.294 1327.11 L505.294 1342.76 L501.012 1342.76 L501.012 1327.25 Q501.012 1323.52 499.692 1321.71 Q498.373 1319.91 495.665 1319.91 Q492.354 1319.91 490.433 1322.11 Q488.512 1324.31 488.512 1328.1 L488.512 1342.76 L484.229 1342.76 L484.229 1327.25 Q484.229 1323.5 482.91 1321.71 Q481.591 1319.91 478.836 1319.91 Q475.572 1319.91 473.651 1322.13 Q471.73 1324.33 471.73 1328.1 L471.73 1342.76 L467.447 1342.76 L467.447 1316.83 L471.73 1316.83 L471.73 1320.86 Q473.188 1318.47 475.225 1317.34 Q477.262 1316.2 480.063 1316.2 Q482.887 1316.2 484.854 1317.64 Q486.845 1319.07 487.794 1321.81 Z\" fill=\"#000000\" fill-rule=\"evenodd\" fill-opacity=\"1\" /><path clip-path=\"url(#clip220)\" d=\"M525.572 1329.72 Q520.41 1329.72 518.419 1330.9 Q516.428 1332.08 516.428 1334.93 Q516.428 1337.2 517.91 1338.54 Q519.414 1339.86 521.984 1339.86 Q525.526 1339.86 527.655 1337.36 Q529.808 1334.84 529.808 1330.67 L529.808 1329.72 L525.572 1329.72 M534.067 1327.96 L534.067 1342.76 L529.808 1342.76 L529.808 1338.82 Q528.35 1341.18 526.174 1342.32 Q523.998 1343.43 520.85 1343.43 Q516.868 1343.43 514.507 1341.2 Q512.169 1338.96 512.169 1335.21 Q512.169 1330.83 515.086 1328.61 Q518.026 1326.39 523.836 1326.39 L529.808 1326.39 L529.808 1325.97 Q529.808 1323.03 527.863 1321.44 Q525.942 1319.82 522.447 1319.82 Q520.225 1319.82 518.118 1320.35 Q516.012 1320.88 514.067 1321.95 L514.067 1318.01 Q516.405 1317.11 518.604 1316.67 Q520.803 1316.2 522.887 1316.2 Q528.512 1316.2 531.289 1319.12 Q534.067 1322.04 534.067 1327.96 Z\" fill=\"#000000\" fill-rule=\"evenodd\" fill-opacity=\"1\" /><path clip-path=\"url(#clip220)\" d=\"M564.391 1316.83 L555.016 1329.45 L564.877 1342.76 L559.854 1342.76 L552.308 1332.57 L544.762 1342.76 L539.738 1342.76 L549.808 1329.19 L540.595 1316.83 L545.618 1316.83 L552.493 1326.07 L559.368 1316.83 L564.391 1316.83 Z\" fill=\"#000000\" fill-rule=\"evenodd\" fill-opacity=\"1\" /><path clip-path=\"url(#clip220)\" d=\"M571.081 1308.2 L575.757 1308.2 L575.757 1338.82 L592.585 1338.82 L592.585 1342.76 L571.081 1342.76 L571.081 1308.2 Z\" fill=\"#000000\" fill-rule=\"evenodd\" fill-opacity=\"1\" /><path clip-path=\"url(#clip220)\" d=\"M597.493 1308.2 L602.169 1308.2 L602.169 1338.82 L618.997 1338.82 L618.997 1342.76 L597.493 1342.76 L597.493 1308.2 Z\" fill=\"#000000\" fill-rule=\"evenodd\" fill-opacity=\"1\" /><path clip-path=\"url(#clip220)\" d=\"M643.418 1350.63 L643.418 1353.94 L618.789 1353.94 L618.789 1350.63 L643.418 1350.63 Z\" fill=\"#000000\" fill-rule=\"evenodd\" fill-opacity=\"1\" /><path clip-path=\"url(#clip220)\" d=\"M659.205 1329.72 Q654.043 1329.72 652.053 1330.9 Q650.062 1332.08 650.062 1334.93 Q650.062 1337.2 651.543 1338.54 Q653.048 1339.86 655.617 1339.86 Q659.159 1339.86 661.289 1337.36 Q663.441 1334.84 663.441 1330.67 L663.441 1329.72 L659.205 1329.72 M667.701 1327.96 L667.701 1342.76 L663.441 1342.76 L663.441 1338.82 Q661.983 1341.18 659.807 1342.32 Q657.631 1343.43 654.483 1343.43 Q650.502 1343.43 648.141 1341.2 Q645.803 1338.96 645.803 1335.21 Q645.803 1330.83 648.719 1328.61 Q651.659 1326.39 657.469 1326.39 L663.441 1326.39 L663.441 1325.97 Q663.441 1323.03 661.497 1321.44 Q659.576 1319.82 656.08 1319.82 Q653.858 1319.82 651.752 1320.35 Q649.645 1320.88 647.701 1321.95 L647.701 1318.01 Q650.039 1317.11 652.238 1316.67 Q654.437 1316.2 656.52 1316.2 Q662.145 1316.2 664.923 1319.12 Q667.701 1322.04 667.701 1327.96 Z\" fill=\"#000000\" fill-rule=\"evenodd\" fill-opacity=\"1\" /><path clip-path=\"url(#clip220)\" d=\"M676.474 1306.74 L680.733 1306.74 L680.733 1342.76 L676.474 1342.76 L676.474 1306.74 Z\" fill=\"#000000\" fill-rule=\"evenodd\" fill-opacity=\"1\" /><path clip-path=\"url(#clip220)\" d=\"M693.858 1309.47 L693.858 1316.83 L702.631 1316.83 L702.631 1320.14 L693.858 1320.14 L693.858 1334.21 Q693.858 1337.38 694.714 1338.29 Q695.594 1339.19 698.256 1339.19 L702.631 1339.19 L702.631 1342.76 L698.256 1342.76 Q693.326 1342.76 691.451 1340.93 Q689.576 1339.07 689.576 1334.21 L689.576 1320.14 L686.451 1320.14 L686.451 1316.83 L689.576 1316.83 L689.576 1309.47 L693.858 1309.47 Z\" fill=\"#000000\" fill-rule=\"evenodd\" fill-opacity=\"1\" /><path clip-path=\"url(#clip220)\" d=\"M279.948 2049.21 Q276.337 2049.21 274.509 2052.77 Q272.703 2056.32 272.703 2063.45 Q272.703 2070.55 274.509 2074.12 Q276.337 2077.66 279.948 2077.66 Q283.583 2077.66 285.388 2074.12 Q287.217 2070.55 287.217 2063.45 Q287.217 2056.32 285.388 2052.77 Q283.583 2049.21 279.948 2049.21 M279.948 2045.51 Q285.759 2045.51 288.814 2050.11 Q291.893 2054.7 291.893 2063.45 Q291.893 2072.17 288.814 2076.78 Q285.759 2081.36 279.948 2081.36 Q274.138 2081.36 271.06 2076.78 Q268.004 2072.17 268.004 2063.45 Q268.004 2054.7 271.06 2050.11 Q274.138 2045.51 279.948 2045.51 Z\" fill=\"#0000ff\" fill-rule=\"evenodd\" fill-opacity=\"1\" /><path clip-path=\"url(#clip220)\" d=\"M300.11 2074.81 L304.995 2074.81 L304.995 2080.69 L300.11 2080.69 L300.11 2074.81 Z\" fill=\"#0000ff\" fill-rule=\"evenodd\" fill-opacity=\"1\" /><path clip-path=\"url(#clip220)\" d=\"M325.18 2049.21 Q321.569 2049.21 319.74 2052.77 Q317.934 2056.32 317.934 2063.45 Q317.934 2070.55 319.74 2074.12 Q321.569 2077.66 325.18 2077.66 Q328.814 2077.66 330.619 2074.12 Q332.448 2070.55 332.448 2063.45 Q332.448 2056.32 330.619 2052.77 Q328.814 2049.21 325.18 2049.21 M325.18 2045.51 Q330.99 2045.51 334.045 2050.11 Q337.124 2054.7 337.124 2063.45 Q337.124 2072.17 334.045 2076.78 Q330.99 2081.36 325.18 2081.36 Q319.369 2081.36 316.291 2076.78 Q313.235 2072.17 313.235 2063.45 Q313.235 2054.7 316.291 2050.11 Q319.369 2045.51 325.18 2045.51 Z\" fill=\"#0000ff\" fill-rule=\"evenodd\" fill-opacity=\"1\" /><path clip-path=\"url(#clip220)\" d=\"M279.948 1571.24 Q276.337 1571.24 274.509 1574.8 Q272.703 1578.35 272.703 1585.48 Q272.703 1592.58 274.509 1596.15 Q276.337 1599.69 279.948 1599.69 Q283.583 1599.69 285.388 1596.15 Q287.217 1592.58 287.217 1585.48 Q287.217 1578.35 285.388 1574.8 Q283.583 1571.24 279.948 1571.24 M279.948 1567.54 Q285.759 1567.54 288.814 1572.14 Q291.893 1576.73 291.893 1585.48 Q291.893 1594.2 288.814 1598.81 Q285.759 1603.39 279.948 1603.39 Q274.138 1603.39 271.06 1598.81 Q268.004 1594.2 268.004 1585.48 Q268.004 1576.73 271.06 1572.14 Q274.138 1567.54 279.948 1567.54 Z\" fill=\"#ff0000\" fill-rule=\"evenodd\" fill-opacity=\"1\" /><path clip-path=\"url(#clip220)\" d=\"M300.11 1596.84 L304.995 1596.84 L304.995 1602.72 L300.11 1602.72 L300.11 1596.84 Z\" fill=\"#ff0000\" fill-rule=\"evenodd\" fill-opacity=\"1\" /><path clip-path=\"url(#clip220)\" d=\"M325.18 1571.24 Q321.569 1571.24 319.74 1574.8 Q317.934 1578.35 317.934 1585.48 Q317.934 1592.58 319.74 1596.15 Q321.569 1599.69 325.18 1599.69 Q328.814 1599.69 330.619 1596.15 Q332.448 1592.58 332.448 1585.48 Q332.448 1578.35 330.619 1574.8 Q328.814 1571.24 325.18 1571.24 M325.18 1567.54 Q330.99 1567.54 334.045 1572.14 Q337.124 1576.73 337.124 1585.48 Q337.124 1594.2 334.045 1598.81 Q330.99 1603.39 325.18 1603.39 Q319.369 1603.39 316.291 1598.81 Q313.235 1594.2 313.235 1585.48 Q313.235 1576.73 316.291 1572.14 Q319.369 1567.54 325.18 1567.54 Z\" fill=\"#ff0000\" fill-rule=\"evenodd\" fill-opacity=\"1\" /></svg>\n"
      ]
     },
     "execution_count": 322,
     "metadata": {},
     "output_type": "execute_result"
    }
   ],
   "source": [
    "plotLL(reshape(omics_pheno_processed[:, 832], :, 1), omics_geno_processed, ones(n, 1), omics_kinship, fine_grid, 12; reml = false, x_lims = [0.0, 1.0], y_lims = [90.0, 100.0])"
   ]
  },
  {
   "cell_type": "code",
   "execution_count": 335,
   "id": "36696be7-1214-403f-8cd2-0e6055610221",
   "metadata": {},
   "outputs": [
    {
     "data": {
      "image/svg+xml": [
       "<?xml version=\"1.0\" encoding=\"utf-8\"?>\n",
       "<svg xmlns=\"http://www.w3.org/2000/svg\" xmlns:xlink=\"http://www.w3.org/1999/xlink\" width=\"600\" height=\"400\" viewBox=\"0 0 2400 1600\">\n",
       "<defs>\n",
       "  <clipPath id=\"clip300\">\n",
       "    <rect x=\"0\" y=\"0\" width=\"2400\" height=\"1600\"/>\n",
       "  </clipPath>\n",
       "</defs>\n",
       "<path clip-path=\"url(#clip300)\" d=\"\n",
       "M0 1600 L2400 1600 L2400 0 L0 0  Z\n",
       "  \" fill=\"#ffffff\" fill-rule=\"evenodd\" fill-opacity=\"1\"/>\n",
       "<defs>\n",
       "  <clipPath id=\"clip301\">\n",
       "    <rect x=\"480\" y=\"0\" width=\"1681\" height=\"1600\"/>\n",
       "  </clipPath>\n",
       "</defs>\n",
       "<path clip-path=\"url(#clip300)\" d=\"\n",
       "M249.681 1423.18 L2352.76 1423.18 L2352.76 47.2441 L249.681 47.2441  Z\n",
       "  \" fill=\"#ffffff\" fill-rule=\"evenodd\" fill-opacity=\"1\"/>\n",
       "<defs>\n",
       "  <clipPath id=\"clip302\">\n",
       "    <rect x=\"249\" y=\"47\" width=\"2104\" height=\"1377\"/>\n",
       "  </clipPath>\n",
       "</defs>\n",
       "<polyline clip-path=\"url(#clip302)\" style=\"stroke:#000000; stroke-linecap:round; stroke-linejoin:round; stroke-width:2; stroke-opacity:0.1; fill:none\" points=\"\n",
       "  345.275,1423.18 345.275,47.2441 \n",
       "  \"/>\n",
       "<polyline clip-path=\"url(#clip302)\" style=\"stroke:#000000; stroke-linecap:round; stroke-linejoin:round; stroke-width:2; stroke-opacity:0.1; fill:none\" points=\"\n",
       "  823.247,1423.18 823.247,47.2441 \n",
       "  \"/>\n",
       "<polyline clip-path=\"url(#clip302)\" style=\"stroke:#000000; stroke-linecap:round; stroke-linejoin:round; stroke-width:2; stroke-opacity:0.1; fill:none\" points=\"\n",
       "  1301.22,1423.18 1301.22,47.2441 \n",
       "  \"/>\n",
       "<polyline clip-path=\"url(#clip302)\" style=\"stroke:#000000; stroke-linecap:round; stroke-linejoin:round; stroke-width:2; stroke-opacity:0.1; fill:none\" points=\"\n",
       "  1779.19,1423.18 1779.19,47.2441 \n",
       "  \"/>\n",
       "<polyline clip-path=\"url(#clip302)\" style=\"stroke:#000000; stroke-linecap:round; stroke-linejoin:round; stroke-width:2; stroke-opacity:0.1; fill:none\" points=\"\n",
       "  2257.16,1423.18 2257.16,47.2441 \n",
       "  \"/>\n",
       "<polyline clip-path=\"url(#clip300)\" style=\"stroke:#000000; stroke-linecap:round; stroke-linejoin:round; stroke-width:4; stroke-opacity:1; fill:none\" points=\"\n",
       "  249.681,1423.18 2352.76,1423.18 \n",
       "  \"/>\n",
       "<polyline clip-path=\"url(#clip300)\" style=\"stroke:#000000; stroke-linecap:round; stroke-linejoin:round; stroke-width:4; stroke-opacity:1; fill:none\" points=\"\n",
       "  345.275,1423.18 345.275,1404.28 \n",
       "  \"/>\n",
       "<polyline clip-path=\"url(#clip300)\" style=\"stroke:#000000; stroke-linecap:round; stroke-linejoin:round; stroke-width:4; stroke-opacity:1; fill:none\" points=\"\n",
       "  823.247,1423.18 823.247,1404.28 \n",
       "  \"/>\n",
       "<polyline clip-path=\"url(#clip300)\" style=\"stroke:#000000; stroke-linecap:round; stroke-linejoin:round; stroke-width:4; stroke-opacity:1; fill:none\" points=\"\n",
       "  1301.22,1423.18 1301.22,1404.28 \n",
       "  \"/>\n",
       "<polyline clip-path=\"url(#clip300)\" style=\"stroke:#000000; stroke-linecap:round; stroke-linejoin:round; stroke-width:4; stroke-opacity:1; fill:none\" points=\"\n",
       "  1779.19,1423.18 1779.19,1404.28 \n",
       "  \"/>\n",
       "<polyline clip-path=\"url(#clip300)\" style=\"stroke:#000000; stroke-linecap:round; stroke-linejoin:round; stroke-width:4; stroke-opacity:1; fill:none\" points=\"\n",
       "  2257.16,1423.18 2257.16,1404.28 \n",
       "  \"/>\n",
       "<path clip-path=\"url(#clip300)\" d=\"M307.579 1454.1 Q303.968 1454.1 302.139 1457.66 Q300.333 1461.2 300.333 1468.33 Q300.333 1475.44 302.139 1479.01 Q303.968 1482.55 307.579 1482.55 Q311.213 1482.55 313.018 1479.01 Q314.847 1475.44 314.847 1468.33 Q314.847 1461.2 313.018 1457.66 Q311.213 1454.1 307.579 1454.1 M307.579 1450.39 Q313.389 1450.39 316.444 1455 Q319.523 1459.58 319.523 1468.33 Q319.523 1477.06 316.444 1481.67 Q313.389 1486.25 307.579 1486.25 Q301.769 1486.25 298.69 1481.67 Q295.634 1477.06 295.634 1468.33 Q295.634 1459.58 298.69 1455 Q301.769 1450.39 307.579 1450.39 Z\" fill=\"#000000\" fill-rule=\"evenodd\" fill-opacity=\"1\" /><path clip-path=\"url(#clip300)\" d=\"M327.741 1479.7 L332.625 1479.7 L332.625 1485.58 L327.741 1485.58 L327.741 1479.7 Z\" fill=\"#000000\" fill-rule=\"evenodd\" fill-opacity=\"1\" /><path clip-path=\"url(#clip300)\" d=\"M352.81 1454.1 Q349.199 1454.1 347.37 1457.66 Q345.565 1461.2 345.565 1468.33 Q345.565 1475.44 347.37 1479.01 Q349.199 1482.55 352.81 1482.55 Q356.444 1482.55 358.25 1479.01 Q360.078 1475.44 360.078 1468.33 Q360.078 1461.2 358.25 1457.66 Q356.444 1454.1 352.81 1454.1 M352.81 1450.39 Q358.62 1450.39 361.676 1455 Q364.754 1459.58 364.754 1468.33 Q364.754 1477.06 361.676 1481.67 Q358.62 1486.25 352.81 1486.25 Q347 1486.25 343.921 1481.67 Q340.866 1477.06 340.866 1468.33 Q340.866 1459.58 343.921 1455 Q347 1450.39 352.81 1450.39 Z\" fill=\"#000000\" fill-rule=\"evenodd\" fill-opacity=\"1\" /><path clip-path=\"url(#clip300)\" d=\"M382.972 1454.1 Q379.361 1454.1 377.532 1457.66 Q375.726 1461.2 375.726 1468.33 Q375.726 1475.44 377.532 1479.01 Q379.361 1482.55 382.972 1482.55 Q386.606 1482.55 388.412 1479.01 Q390.24 1475.44 390.24 1468.33 Q390.24 1461.2 388.412 1457.66 Q386.606 1454.1 382.972 1454.1 M382.972 1450.39 Q388.782 1450.39 391.837 1455 Q394.916 1459.58 394.916 1468.33 Q394.916 1477.06 391.837 1481.67 Q388.782 1486.25 382.972 1486.25 Q377.162 1486.25 374.083 1481.67 Q371.027 1477.06 371.027 1468.33 Q371.027 1459.58 374.083 1455 Q377.162 1450.39 382.972 1450.39 Z\" fill=\"#000000\" fill-rule=\"evenodd\" fill-opacity=\"1\" /><path clip-path=\"url(#clip300)\" d=\"M786.048 1454.1 Q782.437 1454.1 780.608 1457.66 Q778.803 1461.2 778.803 1468.33 Q778.803 1475.44 780.608 1479.01 Q782.437 1482.55 786.048 1482.55 Q789.682 1482.55 791.488 1479.01 Q793.316 1475.44 793.316 1468.33 Q793.316 1461.2 791.488 1457.66 Q789.682 1454.1 786.048 1454.1 M786.048 1450.39 Q791.858 1450.39 794.914 1455 Q797.992 1459.58 797.992 1468.33 Q797.992 1477.06 794.914 1481.67 Q791.858 1486.25 786.048 1486.25 Q780.238 1486.25 777.159 1481.67 Q774.104 1477.06 774.104 1468.33 Q774.104 1459.58 777.159 1455 Q780.238 1450.39 786.048 1450.39 Z\" fill=\"#000000\" fill-rule=\"evenodd\" fill-opacity=\"1\" /><path clip-path=\"url(#clip300)\" d=\"M806.21 1479.7 L811.094 1479.7 L811.094 1485.58 L806.21 1485.58 L806.21 1479.7 Z\" fill=\"#000000\" fill-rule=\"evenodd\" fill-opacity=\"1\" /><path clip-path=\"url(#clip300)\" d=\"M825.307 1481.64 L841.626 1481.64 L841.626 1485.58 L819.682 1485.58 L819.682 1481.64 Q822.344 1478.89 826.927 1474.26 Q831.534 1469.61 832.714 1468.27 Q834.96 1465.74 835.839 1464.01 Q836.742 1462.25 836.742 1460.56 Q836.742 1457.8 834.798 1456.07 Q832.876 1454.33 829.775 1454.33 Q827.576 1454.33 825.122 1455.09 Q822.691 1455.86 819.914 1457.41 L819.914 1452.69 Q822.738 1451.55 825.191 1450.97 Q827.645 1450.39 829.682 1450.39 Q835.052 1450.39 838.247 1453.08 Q841.441 1455.77 841.441 1460.26 Q841.441 1462.39 840.631 1464.31 Q839.844 1466.2 837.737 1468.8 Q837.159 1469.47 834.057 1472.69 Q830.955 1475.88 825.307 1481.64 Z\" fill=\"#000000\" fill-rule=\"evenodd\" fill-opacity=\"1\" /><path clip-path=\"url(#clip300)\" d=\"M851.487 1451.02 L869.844 1451.02 L869.844 1454.96 L855.77 1454.96 L855.77 1463.43 Q856.788 1463.08 857.807 1462.92 Q858.825 1462.73 859.844 1462.73 Q865.631 1462.73 869.01 1465.9 Q872.39 1469.08 872.39 1474.49 Q872.39 1480.07 868.918 1483.17 Q865.446 1486.25 859.126 1486.25 Q856.95 1486.25 854.682 1485.88 Q852.436 1485.51 850.029 1484.77 L850.029 1480.07 Q852.112 1481.2 854.335 1481.76 Q856.557 1482.32 859.034 1482.32 Q863.038 1482.32 865.376 1480.21 Q867.714 1478.1 867.714 1474.49 Q867.714 1470.88 865.376 1468.77 Q863.038 1466.67 859.034 1466.67 Q857.159 1466.67 855.284 1467.08 Q853.432 1467.5 851.487 1468.38 L851.487 1451.02 Z\" fill=\"#000000\" fill-rule=\"evenodd\" fill-opacity=\"1\" /><path clip-path=\"url(#clip300)\" d=\"M1263.52 1454.1 Q1259.91 1454.1 1258.08 1457.66 Q1256.28 1461.2 1256.28 1468.33 Q1256.28 1475.44 1258.08 1479.01 Q1259.91 1482.55 1263.52 1482.55 Q1267.16 1482.55 1268.96 1479.01 Q1270.79 1475.44 1270.79 1468.33 Q1270.79 1461.2 1268.96 1457.66 Q1267.16 1454.1 1263.52 1454.1 M1263.52 1450.39 Q1269.33 1450.39 1272.39 1455 Q1275.47 1459.58 1275.47 1468.33 Q1275.47 1477.06 1272.39 1481.67 Q1269.33 1486.25 1263.52 1486.25 Q1257.71 1486.25 1254.63 1481.67 Q1251.58 1477.06 1251.58 1468.33 Q1251.58 1459.58 1254.63 1455 Q1257.71 1450.39 1263.52 1450.39 Z\" fill=\"#000000\" fill-rule=\"evenodd\" fill-opacity=\"1\" /><path clip-path=\"url(#clip300)\" d=\"M1283.68 1479.7 L1288.57 1479.7 L1288.57 1485.58 L1283.68 1485.58 L1283.68 1479.7 Z\" fill=\"#000000\" fill-rule=\"evenodd\" fill-opacity=\"1\" /><path clip-path=\"url(#clip300)\" d=\"M1298.8 1451.02 L1317.16 1451.02 L1317.16 1454.96 L1303.08 1454.96 L1303.08 1463.43 Q1304.1 1463.08 1305.12 1462.92 Q1306.14 1462.73 1307.16 1462.73 Q1312.94 1462.73 1316.32 1465.9 Q1319.7 1469.08 1319.7 1474.49 Q1319.7 1480.07 1316.23 1483.17 Q1312.76 1486.25 1306.44 1486.25 Q1304.26 1486.25 1301.99 1485.88 Q1299.75 1485.51 1297.34 1484.77 L1297.34 1480.07 Q1299.42 1481.2 1301.65 1481.76 Q1303.87 1482.32 1306.35 1482.32 Q1310.35 1482.32 1312.69 1480.21 Q1315.03 1478.1 1315.03 1474.49 Q1315.03 1470.88 1312.69 1468.77 Q1310.35 1466.67 1306.35 1466.67 Q1304.47 1466.67 1302.6 1467.08 Q1300.74 1467.5 1298.8 1468.38 L1298.8 1451.02 Z\" fill=\"#000000\" fill-rule=\"evenodd\" fill-opacity=\"1\" /><path clip-path=\"url(#clip300)\" d=\"M1338.91 1454.1 Q1335.3 1454.1 1333.48 1457.66 Q1331.67 1461.2 1331.67 1468.33 Q1331.67 1475.44 1333.48 1479.01 Q1335.3 1482.55 1338.91 1482.55 Q1342.55 1482.55 1344.35 1479.01 Q1346.18 1475.44 1346.18 1468.33 Q1346.18 1461.2 1344.35 1457.66 Q1342.55 1454.1 1338.91 1454.1 M1338.91 1450.39 Q1344.73 1450.39 1347.78 1455 Q1350.86 1459.58 1350.86 1468.33 Q1350.86 1477.06 1347.78 1481.67 Q1344.73 1486.25 1338.91 1486.25 Q1333.1 1486.25 1330.03 1481.67 Q1326.97 1477.06 1326.97 1468.33 Q1326.97 1459.58 1330.03 1455 Q1333.1 1450.39 1338.91 1450.39 Z\" fill=\"#000000\" fill-rule=\"evenodd\" fill-opacity=\"1\" /><path clip-path=\"url(#clip300)\" d=\"M1741.99 1454.1 Q1738.38 1454.1 1736.55 1457.66 Q1734.75 1461.2 1734.75 1468.33 Q1734.75 1475.44 1736.55 1479.01 Q1738.38 1482.55 1741.99 1482.55 Q1745.63 1482.55 1747.43 1479.01 Q1749.26 1475.44 1749.26 1468.33 Q1749.26 1461.2 1747.43 1457.66 Q1745.63 1454.1 1741.99 1454.1 M1741.99 1450.39 Q1747.8 1450.39 1750.86 1455 Q1753.94 1459.58 1753.94 1468.33 Q1753.94 1477.06 1750.86 1481.67 Q1747.8 1486.25 1741.99 1486.25 Q1736.18 1486.25 1733.1 1481.67 Q1730.05 1477.06 1730.05 1468.33 Q1730.05 1459.58 1733.1 1455 Q1736.18 1450.39 1741.99 1450.39 Z\" fill=\"#000000\" fill-rule=\"evenodd\" fill-opacity=\"1\" /><path clip-path=\"url(#clip300)\" d=\"M1762.15 1479.7 L1767.04 1479.7 L1767.04 1485.58 L1762.15 1485.58 L1762.15 1479.7 Z\" fill=\"#000000\" fill-rule=\"evenodd\" fill-opacity=\"1\" /><path clip-path=\"url(#clip300)\" d=\"M1776.04 1451.02 L1798.26 1451.02 L1798.26 1453.01 L1785.72 1485.58 L1780.83 1485.58 L1792.64 1454.96 L1776.04 1454.96 L1776.04 1451.02 Z\" fill=\"#000000\" fill-rule=\"evenodd\" fill-opacity=\"1\" /><path clip-path=\"url(#clip300)\" d=\"M1807.43 1451.02 L1825.79 1451.02 L1825.79 1454.96 L1811.71 1454.96 L1811.71 1463.43 Q1812.73 1463.08 1813.75 1462.92 Q1814.77 1462.73 1815.79 1462.73 Q1821.57 1462.73 1824.95 1465.9 Q1828.33 1469.08 1828.33 1474.49 Q1828.33 1480.07 1824.86 1483.17 Q1821.39 1486.25 1815.07 1486.25 Q1812.89 1486.25 1810.63 1485.88 Q1808.38 1485.51 1805.97 1484.77 L1805.97 1480.07 Q1808.06 1481.2 1810.28 1481.76 Q1812.5 1482.32 1814.98 1482.32 Q1818.98 1482.32 1821.32 1480.21 Q1823.66 1478.1 1823.66 1474.49 Q1823.66 1470.88 1821.32 1468.77 Q1818.98 1466.67 1814.98 1466.67 Q1813.1 1466.67 1811.23 1467.08 Q1809.38 1467.5 1807.43 1468.38 L1807.43 1451.02 Z\" fill=\"#000000\" fill-rule=\"evenodd\" fill-opacity=\"1\" /><path clip-path=\"url(#clip300)\" d=\"M2209.23 1481.64 L2216.87 1481.64 L2216.87 1455.28 L2208.56 1456.95 L2208.56 1452.69 L2216.83 1451.02 L2221.5 1451.02 L2221.5 1481.64 L2229.14 1481.64 L2229.14 1485.58 L2209.23 1485.58 L2209.23 1481.64 Z\" fill=\"#000000\" fill-rule=\"evenodd\" fill-opacity=\"1\" /><path clip-path=\"url(#clip300)\" d=\"M2238.59 1479.7 L2243.47 1479.7 L2243.47 1485.58 L2238.59 1485.58 L2238.59 1479.7 Z\" fill=\"#000000\" fill-rule=\"evenodd\" fill-opacity=\"1\" /><path clip-path=\"url(#clip300)\" d=\"M2263.65 1454.1 Q2260.04 1454.1 2258.21 1457.66 Q2256.41 1461.2 2256.41 1468.33 Q2256.41 1475.44 2258.21 1479.01 Q2260.04 1482.55 2263.65 1482.55 Q2267.29 1482.55 2269.09 1479.01 Q2270.92 1475.44 2270.92 1468.33 Q2270.92 1461.2 2269.09 1457.66 Q2267.29 1454.1 2263.65 1454.1 M2263.65 1450.39 Q2269.46 1450.39 2272.52 1455 Q2275.6 1459.58 2275.6 1468.33 Q2275.6 1477.06 2272.52 1481.67 Q2269.46 1486.25 2263.65 1486.25 Q2257.84 1486.25 2254.77 1481.67 Q2251.71 1477.06 2251.71 1468.33 Q2251.71 1459.58 2254.77 1455 Q2257.84 1450.39 2263.65 1450.39 Z\" fill=\"#000000\" fill-rule=\"evenodd\" fill-opacity=\"1\" /><path clip-path=\"url(#clip300)\" d=\"M2293.82 1454.1 Q2290.21 1454.1 2288.38 1457.66 Q2286.57 1461.2 2286.57 1468.33 Q2286.57 1475.44 2288.38 1479.01 Q2290.21 1482.55 2293.82 1482.55 Q2297.45 1482.55 2299.26 1479.01 Q2301.08 1475.44 2301.08 1468.33 Q2301.08 1461.2 2299.26 1457.66 Q2297.45 1454.1 2293.82 1454.1 M2293.82 1450.39 Q2299.63 1450.39 2302.68 1455 Q2305.76 1459.58 2305.76 1468.33 Q2305.76 1477.06 2302.68 1481.67 Q2299.63 1486.25 2293.82 1486.25 Q2288.01 1486.25 2284.93 1481.67 Q2281.87 1477.06 2281.87 1468.33 Q2281.87 1459.58 2284.93 1455 Q2288.01 1450.39 2293.82 1450.39 Z\" fill=\"#000000\" fill-rule=\"evenodd\" fill-opacity=\"1\" /><path clip-path=\"url(#clip300)\" d=\"M1295.9 1546.53 L1295.9 1568.04 L1290.05 1568.04 L1290.05 1546.72 Q1290.05 1541.66 1288.07 1539.14 Q1286.1 1536.63 1282.15 1536.63 Q1277.41 1536.63 1274.67 1539.65 Q1271.94 1542.68 1271.94 1547.9 L1271.94 1568.04 L1266.05 1568.04 L1266.05 1518.52 L1271.94 1518.52 L1271.94 1537.93 Q1274.04 1534.72 1276.87 1533.13 Q1279.73 1531.54 1283.46 1531.54 Q1289.6 1531.54 1292.75 1535.36 Q1295.9 1539.14 1295.9 1546.53 Z\" fill=\"#000000\" fill-rule=\"evenodd\" fill-opacity=\"1\" /><path clip-path=\"url(#clip300)\" d=\"M1313.95 1562.63 L1336.39 1562.63 L1336.39 1568.04 L1306.22 1568.04 L1306.22 1562.63 Q1309.88 1558.85 1316.18 1552.48 Q1322.51 1546.08 1324.13 1544.24 Q1327.22 1540.77 1328.43 1538.38 Q1329.67 1535.96 1329.67 1533.64 Q1329.67 1529.85 1327 1527.46 Q1324.36 1525.08 1320.09 1525.08 Q1317.07 1525.08 1313.7 1526.13 Q1310.35 1527.18 1306.53 1529.31 L1306.53 1522.82 Q1310.42 1521.26 1313.79 1520.46 Q1317.16 1519.66 1319.97 1519.66 Q1327.35 1519.66 1331.74 1523.36 Q1336.13 1527.05 1336.13 1533.22 Q1336.13 1536.15 1335.02 1538.79 Q1333.94 1541.4 1331.04 1544.97 Q1330.25 1545.89 1325.98 1550.32 Q1321.72 1554.71 1313.95 1562.63 Z\" fill=\"#000000\" fill-rule=\"evenodd\" fill-opacity=\"1\" /><polyline clip-path=\"url(#clip302)\" style=\"stroke:#000000; stroke-linecap:round; stroke-linejoin:round; stroke-width:2; stroke-opacity:0.1; fill:none\" points=\"\n",
       "  249.681,1280.57 2352.76,1280.57 \n",
       "  \"/>\n",
       "<polyline clip-path=\"url(#clip302)\" style=\"stroke:#000000; stroke-linecap:round; stroke-linejoin:round; stroke-width:2; stroke-opacity:0.1; fill:none\" points=\"\n",
       "  249.681,1052.39 2352.76,1052.39 \n",
       "  \"/>\n",
       "<polyline clip-path=\"url(#clip302)\" style=\"stroke:#000000; stroke-linecap:round; stroke-linejoin:round; stroke-width:2; stroke-opacity:0.1; fill:none\" points=\"\n",
       "  249.681,824.212 2352.76,824.212 \n",
       "  \"/>\n",
       "<polyline clip-path=\"url(#clip302)\" style=\"stroke:#000000; stroke-linecap:round; stroke-linejoin:round; stroke-width:2; stroke-opacity:0.1; fill:none\" points=\"\n",
       "  249.681,596.031 2352.76,596.031 \n",
       "  \"/>\n",
       "<polyline clip-path=\"url(#clip302)\" style=\"stroke:#000000; stroke-linecap:round; stroke-linejoin:round; stroke-width:2; stroke-opacity:0.1; fill:none\" points=\"\n",
       "  249.681,367.849 2352.76,367.849 \n",
       "  \"/>\n",
       "<polyline clip-path=\"url(#clip302)\" style=\"stroke:#000000; stroke-linecap:round; stroke-linejoin:round; stroke-width:2; stroke-opacity:0.1; fill:none\" points=\"\n",
       "  249.681,139.668 2352.76,139.668 \n",
       "  \"/>\n",
       "<polyline clip-path=\"url(#clip300)\" style=\"stroke:#000000; stroke-linecap:round; stroke-linejoin:round; stroke-width:4; stroke-opacity:1; fill:none\" points=\"\n",
       "  249.681,1423.18 249.681,47.2441 \n",
       "  \"/>\n",
       "<polyline clip-path=\"url(#clip300)\" style=\"stroke:#000000; stroke-linecap:round; stroke-linejoin:round; stroke-width:4; stroke-opacity:1; fill:none\" points=\"\n",
       "  249.681,1280.57 268.579,1280.57 \n",
       "  \"/>\n",
       "<polyline clip-path=\"url(#clip300)\" style=\"stroke:#000000; stroke-linecap:round; stroke-linejoin:round; stroke-width:4; stroke-opacity:1; fill:none\" points=\"\n",
       "  249.681,1052.39 268.579,1052.39 \n",
       "  \"/>\n",
       "<polyline clip-path=\"url(#clip300)\" style=\"stroke:#000000; stroke-linecap:round; stroke-linejoin:round; stroke-width:4; stroke-opacity:1; fill:none\" points=\"\n",
       "  249.681,824.212 268.579,824.212 \n",
       "  \"/>\n",
       "<polyline clip-path=\"url(#clip300)\" style=\"stroke:#000000; stroke-linecap:round; stroke-linejoin:round; stroke-width:4; stroke-opacity:1; fill:none\" points=\"\n",
       "  249.681,596.031 268.579,596.031 \n",
       "  \"/>\n",
       "<polyline clip-path=\"url(#clip300)\" style=\"stroke:#000000; stroke-linecap:round; stroke-linejoin:round; stroke-width:4; stroke-opacity:1; fill:none\" points=\"\n",
       "  249.681,367.849 268.579,367.849 \n",
       "  \"/>\n",
       "<polyline clip-path=\"url(#clip300)\" style=\"stroke:#000000; stroke-linecap:round; stroke-linejoin:round; stroke-width:4; stroke-opacity:1; fill:none\" points=\"\n",
       "  249.681,139.668 268.579,139.668 \n",
       "  \"/>\n",
       "<path clip-path=\"url(#clip300)\" d=\"M127.339 1281.44 Q124.005 1281.44 122.084 1283.22 Q120.186 1285.01 120.186 1288.13 Q120.186 1291.26 122.084 1293.04 Q124.005 1294.82 127.339 1294.82 Q130.672 1294.82 132.593 1293.04 Q134.515 1291.23 134.515 1288.13 Q134.515 1285.01 132.593 1283.22 Q130.695 1281.44 127.339 1281.44 M122.663 1279.45 Q119.654 1278.71 117.964 1276.65 Q116.297 1274.59 116.297 1271.63 Q116.297 1267.48 119.237 1265.08 Q122.2 1262.67 127.339 1262.67 Q132.501 1262.67 135.441 1265.08 Q138.38 1267.48 138.38 1271.63 Q138.38 1274.59 136.691 1276.65 Q135.024 1278.71 132.038 1279.45 Q135.417 1280.24 137.292 1282.53 Q139.191 1284.82 139.191 1288.13 Q139.191 1293.15 136.112 1295.84 Q133.056 1298.53 127.339 1298.53 Q121.621 1298.53 118.543 1295.84 Q115.487 1293.15 115.487 1288.13 Q115.487 1284.82 117.385 1282.53 Q119.283 1280.24 122.663 1279.45 M120.95 1272.07 Q120.95 1274.75 122.617 1276.26 Q124.306 1277.76 127.339 1277.76 Q130.348 1277.76 132.038 1276.26 Q133.751 1274.75 133.751 1272.07 Q133.751 1269.38 132.038 1267.88 Q130.348 1266.37 127.339 1266.37 Q124.306 1266.37 122.617 1267.88 Q120.95 1269.38 120.95 1272.07 Z\" fill=\"#000000\" fill-rule=\"evenodd\" fill-opacity=\"1\" /><path clip-path=\"url(#clip300)\" d=\"M147.64 1297.14 L147.64 1292.88 Q149.399 1293.71 151.204 1294.15 Q153.01 1294.59 154.746 1294.59 Q159.376 1294.59 161.806 1291.49 Q164.26 1288.36 164.607 1282.02 Q163.265 1284.01 161.204 1285.08 Q159.144 1286.14 156.644 1286.14 Q151.459 1286.14 148.427 1283.02 Q145.417 1279.87 145.417 1274.43 Q145.417 1269.1 148.566 1265.89 Q151.714 1262.67 156.945 1262.67 Q162.94 1262.67 166.089 1267.28 Q169.26 1271.86 169.26 1280.61 Q169.26 1288.78 165.371 1293.66 Q161.505 1298.53 154.954 1298.53 Q153.195 1298.53 151.39 1298.18 Q149.584 1297.83 147.64 1297.14 M156.945 1282.48 Q160.093 1282.48 161.922 1280.33 Q163.774 1278.18 163.774 1274.43 Q163.774 1270.7 161.922 1268.55 Q160.093 1266.37 156.945 1266.37 Q153.797 1266.37 151.945 1268.55 Q150.116 1270.7 150.116 1274.43 Q150.116 1278.18 151.945 1280.33 Q153.797 1282.48 156.945 1282.48 Z\" fill=\"#000000\" fill-rule=\"evenodd\" fill-opacity=\"1\" /><path clip-path=\"url(#clip300)\" d=\"M177.663 1291.97 L182.547 1291.97 L182.547 1297.85 L177.663 1297.85 L177.663 1291.97 Z\" fill=\"#000000\" fill-rule=\"evenodd\" fill-opacity=\"1\" /><path clip-path=\"url(#clip300)\" d=\"M192.778 1263.29 L211.135 1263.29 L211.135 1267.23 L197.061 1267.23 L197.061 1275.7 Q198.079 1275.35 199.098 1275.19 Q200.116 1275.01 201.135 1275.01 Q206.922 1275.01 210.301 1278.18 Q213.681 1281.35 213.681 1286.77 Q213.681 1292.34 210.209 1295.45 Q206.737 1298.53 200.417 1298.53 Q198.241 1298.53 195.973 1298.15 Q193.727 1297.78 191.32 1297.04 L191.32 1292.34 Q193.403 1293.48 195.625 1294.03 Q197.848 1294.59 200.325 1294.59 Q204.329 1294.59 206.667 1292.48 Q209.005 1290.38 209.005 1286.77 Q209.005 1283.16 206.667 1281.05 Q204.329 1278.94 200.325 1278.94 Q198.45 1278.94 196.575 1279.36 Q194.723 1279.78 192.778 1280.66 L192.778 1263.29 Z\" fill=\"#000000\" fill-rule=\"evenodd\" fill-opacity=\"1\" /><path clip-path=\"url(#clip300)\" d=\"M116.482 1068.96 L116.482 1064.7 Q118.242 1065.53 120.047 1065.97 Q121.853 1066.41 123.589 1066.41 Q128.218 1066.41 130.649 1063.31 Q133.103 1060.18 133.45 1053.84 Q132.107 1055.83 130.047 1056.9 Q127.987 1057.96 125.487 1057.96 Q120.302 1057.96 117.269 1054.84 Q114.26 1051.69 114.26 1046.25 Q114.26 1040.92 117.408 1037.71 Q120.556 1034.49 125.788 1034.49 Q131.783 1034.49 134.931 1039.09 Q138.103 1043.68 138.103 1052.43 Q138.103 1060.6 134.214 1065.48 Q130.348 1070.34 123.797 1070.34 Q122.038 1070.34 120.232 1070 Q118.427 1069.65 116.482 1068.96 M125.788 1054.3 Q128.936 1054.3 130.765 1052.15 Q132.617 1050 132.617 1046.25 Q132.617 1042.52 130.765 1040.37 Q128.936 1038.19 125.788 1038.19 Q122.64 1038.19 120.788 1040.37 Q118.959 1042.52 118.959 1046.25 Q118.959 1050 120.788 1052.15 Q122.64 1054.3 125.788 1054.3 Z\" fill=\"#000000\" fill-rule=\"evenodd\" fill-opacity=\"1\" /><path clip-path=\"url(#clip300)\" d=\"M156.505 1038.19 Q152.894 1038.19 151.066 1041.76 Q149.26 1045.3 149.26 1052.43 Q149.26 1059.53 151.066 1063.1 Q152.894 1066.64 156.505 1066.64 Q160.14 1066.64 161.945 1063.1 Q163.774 1059.53 163.774 1052.43 Q163.774 1045.3 161.945 1041.76 Q160.14 1038.19 156.505 1038.19 M156.505 1034.49 Q162.315 1034.49 165.371 1039.09 Q168.45 1043.68 168.45 1052.43 Q168.45 1061.15 165.371 1065.76 Q162.315 1070.34 156.505 1070.34 Q150.695 1070.34 147.616 1065.76 Q144.561 1061.15 144.561 1052.43 Q144.561 1043.68 147.616 1039.09 Q150.695 1034.49 156.505 1034.49 Z\" fill=\"#000000\" fill-rule=\"evenodd\" fill-opacity=\"1\" /><path clip-path=\"url(#clip300)\" d=\"M176.667 1063.79 L181.551 1063.79 L181.551 1069.67 L176.667 1069.67 L176.667 1063.79 Z\" fill=\"#000000\" fill-rule=\"evenodd\" fill-opacity=\"1\" /><path clip-path=\"url(#clip300)\" d=\"M201.737 1038.19 Q198.125 1038.19 196.297 1041.76 Q194.491 1045.3 194.491 1052.43 Q194.491 1059.53 196.297 1063.1 Q198.125 1066.64 201.737 1066.64 Q205.371 1066.64 207.176 1063.1 Q209.005 1059.53 209.005 1052.43 Q209.005 1045.3 207.176 1041.76 Q205.371 1038.19 201.737 1038.19 M201.737 1034.49 Q207.547 1034.49 210.602 1039.09 Q213.681 1043.68 213.681 1052.43 Q213.681 1061.15 210.602 1065.76 Q207.547 1070.34 201.737 1070.34 Q195.926 1070.34 192.848 1065.76 Q189.792 1061.15 189.792 1052.43 Q189.792 1043.68 192.848 1039.09 Q195.926 1034.49 201.737 1034.49 Z\" fill=\"#000000\" fill-rule=\"evenodd\" fill-opacity=\"1\" /><path clip-path=\"url(#clip300)\" d=\"M117.478 840.774 L117.478 836.515 Q119.237 837.348 121.043 837.788 Q122.848 838.228 124.584 838.228 Q129.214 838.228 131.644 835.126 Q134.098 832.001 134.445 825.659 Q133.103 827.649 131.042 828.714 Q128.982 829.779 126.482 829.779 Q121.297 829.779 118.265 826.654 Q115.256 823.506 115.256 818.066 Q115.256 812.742 118.404 809.524 Q121.552 806.307 126.783 806.307 Q132.779 806.307 135.927 810.913 Q139.098 815.497 139.098 824.246 Q139.098 832.418 135.209 837.302 Q131.343 842.163 124.793 842.163 Q123.033 842.163 121.228 841.816 Q119.422 841.469 117.478 840.774 M126.783 826.121 Q129.931 826.121 131.76 823.969 Q133.612 821.816 133.612 818.066 Q133.612 814.339 131.76 812.186 Q129.931 810.01 126.783 810.01 Q123.635 810.01 121.783 812.186 Q119.955 814.339 119.955 818.066 Q119.955 821.816 121.783 823.969 Q123.635 826.121 126.783 826.121 Z\" fill=\"#000000\" fill-rule=\"evenodd\" fill-opacity=\"1\" /><path clip-path=\"url(#clip300)\" d=\"M157.501 810.01 Q153.89 810.01 152.061 813.575 Q150.255 817.117 150.255 824.246 Q150.255 831.353 152.061 834.918 Q153.89 838.459 157.501 838.459 Q161.135 838.459 162.94 834.918 Q164.769 831.353 164.769 824.246 Q164.769 817.117 162.94 813.575 Q161.135 810.01 157.501 810.01 M157.501 806.307 Q163.311 806.307 166.366 810.913 Q169.445 815.497 169.445 824.246 Q169.445 832.973 166.366 837.58 Q163.311 842.163 157.501 842.163 Q151.691 842.163 148.612 837.58 Q145.556 832.973 145.556 824.246 Q145.556 815.497 148.612 810.913 Q151.691 806.307 157.501 806.307 Z\" fill=\"#000000\" fill-rule=\"evenodd\" fill-opacity=\"1\" /><path clip-path=\"url(#clip300)\" d=\"M177.663 835.612 L182.547 835.612 L182.547 841.492 L177.663 841.492 L177.663 835.612 Z\" fill=\"#000000\" fill-rule=\"evenodd\" fill-opacity=\"1\" /><path clip-path=\"url(#clip300)\" d=\"M192.778 806.932 L211.135 806.932 L211.135 810.867 L197.061 810.867 L197.061 819.339 Q198.079 818.992 199.098 818.83 Q200.116 818.645 201.135 818.645 Q206.922 818.645 210.301 821.816 Q213.681 824.987 213.681 830.404 Q213.681 835.983 210.209 839.084 Q206.737 842.163 200.417 842.163 Q198.241 842.163 195.973 841.793 Q193.727 841.422 191.32 840.682 L191.32 835.983 Q193.403 837.117 195.625 837.672 Q197.848 838.228 200.325 838.228 Q204.329 838.228 206.667 836.121 Q209.005 834.015 209.005 830.404 Q209.005 826.793 206.667 824.686 Q204.329 822.58 200.325 822.58 Q198.45 822.58 196.575 822.996 Q194.723 823.413 192.778 824.293 L192.778 806.932 Z\" fill=\"#000000\" fill-rule=\"evenodd\" fill-opacity=\"1\" /><path clip-path=\"url(#clip300)\" d=\"M116.482 612.593 L116.482 608.334 Q118.242 609.167 120.047 609.607 Q121.853 610.047 123.589 610.047 Q128.218 610.047 130.649 606.945 Q133.103 603.82 133.45 597.477 Q132.107 599.468 130.047 600.533 Q127.987 601.598 125.487 601.598 Q120.302 601.598 117.269 598.473 Q114.26 595.325 114.26 589.885 Q114.26 584.561 117.408 581.343 Q120.556 578.126 125.788 578.126 Q131.783 578.126 134.931 582.732 Q138.103 587.315 138.103 596.065 Q138.103 604.237 134.214 609.121 Q130.348 613.982 123.797 613.982 Q122.038 613.982 120.232 613.635 Q118.427 613.287 116.482 612.593 M125.788 597.94 Q128.936 597.94 130.765 595.788 Q132.617 593.635 132.617 589.885 Q132.617 586.158 130.765 584.005 Q128.936 581.829 125.788 581.829 Q122.64 581.829 120.788 584.005 Q118.959 586.158 118.959 589.885 Q118.959 593.635 120.788 595.788 Q122.64 597.94 125.788 597.94 Z\" fill=\"#000000\" fill-rule=\"evenodd\" fill-opacity=\"1\" /><path clip-path=\"url(#clip300)\" d=\"M147.316 609.375 L154.954 609.375 L154.954 583.01 L146.644 584.677 L146.644 580.417 L154.908 578.751 L159.584 578.751 L159.584 609.375 L167.223 609.375 L167.223 613.311 L147.316 613.311 L147.316 609.375 Z\" fill=\"#000000\" fill-rule=\"evenodd\" fill-opacity=\"1\" /><path clip-path=\"url(#clip300)\" d=\"M176.667 607.431 L181.551 607.431 L181.551 613.311 L176.667 613.311 L176.667 607.431 Z\" fill=\"#000000\" fill-rule=\"evenodd\" fill-opacity=\"1\" /><path clip-path=\"url(#clip300)\" d=\"M201.737 581.829 Q198.125 581.829 196.297 585.394 Q194.491 588.936 194.491 596.065 Q194.491 603.172 196.297 606.737 Q198.125 610.278 201.737 610.278 Q205.371 610.278 207.176 606.737 Q209.005 603.172 209.005 596.065 Q209.005 588.936 207.176 585.394 Q205.371 581.829 201.737 581.829 M201.737 578.126 Q207.547 578.126 210.602 582.732 Q213.681 587.315 213.681 596.065 Q213.681 604.792 210.602 609.399 Q207.547 613.982 201.737 613.982 Q195.926 613.982 192.848 609.399 Q189.792 604.792 189.792 596.065 Q189.792 587.315 192.848 582.732 Q195.926 578.126 201.737 578.126 Z\" fill=\"#000000\" fill-rule=\"evenodd\" fill-opacity=\"1\" /><path clip-path=\"url(#clip300)\" d=\"M117.478 384.412 L117.478 380.153 Q119.237 380.986 121.043 381.426 Q122.848 381.866 124.584 381.866 Q129.214 381.866 131.644 378.764 Q134.098 375.639 134.445 369.296 Q133.103 371.287 131.042 372.352 Q128.982 373.417 126.482 373.417 Q121.297 373.417 118.265 370.292 Q115.256 367.143 115.256 361.704 Q115.256 356.38 118.404 353.162 Q121.552 349.944 126.783 349.944 Q132.779 349.944 135.927 354.551 Q139.098 359.134 139.098 367.884 Q139.098 376.055 135.209 380.94 Q131.343 385.801 124.793 385.801 Q123.033 385.801 121.228 385.454 Q119.422 385.106 117.478 384.412 M126.783 369.759 Q129.931 369.759 131.76 367.606 Q133.612 365.454 133.612 361.704 Q133.612 357.977 131.76 355.824 Q129.931 353.648 126.783 353.648 Q123.635 353.648 121.783 355.824 Q119.955 357.977 119.955 361.704 Q119.955 365.454 121.783 367.606 Q123.635 369.759 126.783 369.759 Z\" fill=\"#000000\" fill-rule=\"evenodd\" fill-opacity=\"1\" /><path clip-path=\"url(#clip300)\" d=\"M148.311 381.194 L155.95 381.194 L155.95 354.829 L147.64 356.495 L147.64 352.236 L155.903 350.569 L160.579 350.569 L160.579 381.194 L168.218 381.194 L168.218 385.129 L148.311 385.129 L148.311 381.194 Z\" fill=\"#000000\" fill-rule=\"evenodd\" fill-opacity=\"1\" /><path clip-path=\"url(#clip300)\" d=\"M177.663 379.25 L182.547 379.25 L182.547 385.129 L177.663 385.129 L177.663 379.25 Z\" fill=\"#000000\" fill-rule=\"evenodd\" fill-opacity=\"1\" /><path clip-path=\"url(#clip300)\" d=\"M192.778 350.569 L211.135 350.569 L211.135 354.505 L197.061 354.505 L197.061 362.977 Q198.079 362.63 199.098 362.468 Q200.116 362.282 201.135 362.282 Q206.922 362.282 210.301 365.454 Q213.681 368.625 213.681 374.042 Q213.681 379.62 210.209 382.722 Q206.737 385.801 200.417 385.801 Q198.241 385.801 195.973 385.43 Q193.727 385.06 191.32 384.319 L191.32 379.62 Q193.403 380.754 195.625 381.31 Q197.848 381.866 200.325 381.866 Q204.329 381.866 206.667 379.759 Q209.005 377.653 209.005 374.042 Q209.005 370.43 206.667 368.324 Q204.329 366.218 200.325 366.218 Q198.45 366.218 196.575 366.634 Q194.723 367.051 192.778 367.93 L192.778 350.569 Z\" fill=\"#000000\" fill-rule=\"evenodd\" fill-opacity=\"1\" /><path clip-path=\"url(#clip300)\" d=\"M116.482 156.231 L116.482 151.972 Q118.242 152.805 120.047 153.245 Q121.853 153.684 123.589 153.684 Q128.218 153.684 130.649 150.583 Q133.103 147.458 133.45 141.115 Q132.107 143.106 130.047 144.171 Q127.987 145.235 125.487 145.235 Q120.302 145.235 117.269 142.11 Q114.26 138.962 114.26 133.523 Q114.26 128.198 117.408 124.981 Q120.556 121.763 125.788 121.763 Q131.783 121.763 134.931 126.37 Q138.103 130.953 138.103 139.703 Q138.103 147.874 134.214 152.759 Q130.348 157.62 123.797 157.62 Q122.038 157.62 120.232 157.272 Q118.427 156.925 116.482 156.231 M125.788 141.578 Q128.936 141.578 130.765 139.425 Q132.617 137.273 132.617 133.523 Q132.617 129.796 130.765 127.643 Q128.936 125.467 125.788 125.467 Q122.64 125.467 120.788 127.643 Q118.959 129.796 118.959 133.523 Q118.959 137.273 120.788 139.425 Q122.64 141.578 125.788 141.578 Z\" fill=\"#000000\" fill-rule=\"evenodd\" fill-opacity=\"1\" /><path clip-path=\"url(#clip300)\" d=\"M150.533 153.013 L166.852 153.013 L166.852 156.948 L144.908 156.948 L144.908 153.013 Q147.57 150.259 152.153 145.629 Q156.76 140.976 157.94 139.634 Q160.186 137.11 161.065 135.374 Q161.968 133.615 161.968 131.925 Q161.968 129.171 160.024 127.435 Q158.103 125.699 155.001 125.699 Q152.802 125.699 150.348 126.462 Q147.917 127.226 145.14 128.777 L145.14 124.055 Q147.964 122.921 150.417 122.342 Q152.871 121.763 154.908 121.763 Q160.278 121.763 163.473 124.449 Q166.667 127.134 166.667 131.624 Q166.667 133.754 165.857 135.675 Q165.07 137.573 162.964 140.166 Q162.385 140.837 159.283 144.055 Q156.181 147.249 150.533 153.013 Z\" fill=\"#000000\" fill-rule=\"evenodd\" fill-opacity=\"1\" /><path clip-path=\"url(#clip300)\" d=\"M176.667 151.069 L181.551 151.069 L181.551 156.948 L176.667 156.948 L176.667 151.069 Z\" fill=\"#000000\" fill-rule=\"evenodd\" fill-opacity=\"1\" /><path clip-path=\"url(#clip300)\" d=\"M201.737 125.467 Q198.125 125.467 196.297 129.032 Q194.491 132.573 194.491 139.703 Q194.491 146.809 196.297 150.374 Q198.125 153.916 201.737 153.916 Q205.371 153.916 207.176 150.374 Q209.005 146.809 209.005 139.703 Q209.005 132.573 207.176 129.032 Q205.371 125.467 201.737 125.467 M201.737 121.763 Q207.547 121.763 210.602 126.37 Q213.681 130.953 213.681 139.703 Q213.681 148.43 210.602 153.036 Q207.547 157.62 201.737 157.62 Q195.926 157.62 192.848 153.036 Q189.792 148.43 189.792 139.703 Q189.792 130.953 192.848 126.37 Q195.926 121.763 201.737 121.763 Z\" fill=\"#000000\" fill-rule=\"evenodd\" fill-opacity=\"1\" /><path clip-path=\"url(#clip300)\" d=\"M14.479 818.714 L14.479 812.858 L64.0042 812.858 L64.0042 818.714 L14.479 818.714 Z\" fill=\"#000000\" fill-rule=\"evenodd\" fill-opacity=\"1\" /><path clip-path=\"url(#clip300)\" d=\"M32.4621 786.79 Q32.4621 791.501 36.1542 794.238 Q39.8145 796.975 46.212 796.975 Q52.6095 796.975 56.3017 794.27 Q59.9619 791.533 59.9619 786.79 Q59.9619 782.111 56.2698 779.374 Q52.5777 776.637 46.212 776.637 Q39.8781 776.637 36.186 779.374 Q32.4621 782.111 32.4621 786.79 M27.4968 786.79 Q27.4968 779.151 32.4621 774.791 Q37.4273 770.43 46.212 770.43 Q54.9649 770.43 59.9619 774.791 Q64.9272 779.151 64.9272 786.79 Q64.9272 794.461 59.9619 798.821 Q54.9649 803.15 46.212 803.15 Q37.4273 803.15 32.4621 798.821 Q27.4968 794.461 27.4968 786.79 Z\" fill=\"#000000\" fill-rule=\"evenodd\" fill-opacity=\"1\" /><path clip-path=\"url(#clip300)\" d=\"M45.7664 737.265 Q39.4007 737.265 35.8996 739.907 Q32.3984 742.517 32.3984 747.259 Q32.3984 751.97 35.8996 754.611 Q39.4007 757.221 45.7664 757.221 Q52.1003 757.221 55.6014 754.611 Q59.1026 751.97 59.1026 747.259 Q59.1026 742.517 55.6014 739.907 Q52.1003 737.265 45.7664 737.265 M59.58 731.408 Q68.683 731.408 73.1071 735.451 Q77.5631 739.493 77.5631 747.832 Q77.5631 750.919 77.0857 753.657 Q76.6401 756.394 75.6852 758.972 L69.9879 758.972 Q71.3884 756.394 72.0568 753.879 Q72.7252 751.365 72.7252 748.755 Q72.7252 742.994 69.7015 740.129 Q66.7096 737.265 60.6303 737.265 L57.7339 737.265 Q60.885 739.079 62.4446 741.912 Q64.0042 744.745 64.0042 748.691 Q64.0042 755.248 59.0071 759.258 Q54.01 763.269 45.7664 763.269 Q37.491 763.269 32.4939 759.258 Q27.4968 755.248 27.4968 748.691 Q27.4968 744.745 29.0564 741.912 Q30.616 739.079 33.7671 737.265 L28.3562 737.265 L28.3562 731.408 L59.58 731.408 Z\" fill=\"#000000\" fill-rule=\"evenodd\" fill-opacity=\"1\" /><path clip-path=\"url(#clip300)\" d=\"M14.479 719.345 L14.479 713.489 L64.0042 713.489 L64.0042 719.345 L14.479 719.345 Z\" fill=\"#000000\" fill-rule=\"evenodd\" fill-opacity=\"1\" /><path clip-path=\"url(#clip300)\" d=\"M28.3562 701.235 L28.3562 695.379 L64.0042 695.379 L64.0042 701.235 L28.3562 701.235 M14.479 701.235 L14.479 695.379 L21.895 695.379 L21.895 701.235 L14.479 701.235 Z\" fill=\"#000000\" fill-rule=\"evenodd\" fill-opacity=\"1\" /><path clip-path=\"url(#clip300)\" d=\"M14.479 683.347 L14.479 677.459 L43.7294 677.459 L28.3562 659.985 L28.3562 652.506 L45.0344 671.412 L64.0042 651.71 L64.0042 659.349 L46.5939 677.459 L64.0042 677.459 L64.0042 683.347 L14.479 683.347 Z\" fill=\"#000000\" fill-rule=\"evenodd\" fill-opacity=\"1\" /><polyline clip-path=\"url(#clip302)\" style=\"stroke:#0000ff; stroke-linecap:round; stroke-linejoin:round; stroke-width:4; stroke-opacity:1; fill:none\" points=\"\n",
       "  345.275,515.517 347.187,515.469 349.099,515.422 351.011,515.375 352.923,515.328 354.835,515.281 356.747,515.234 358.658,515.186 360.57,515.139 362.482,515.093 \n",
       "  364.394,515.046 366.306,514.999 368.218,514.952 370.13,514.905 372.042,514.858 373.954,514.812 375.865,514.765 377.777,514.718 379.689,514.672 381.601,514.625 \n",
       "  383.513,514.579 385.425,514.532 387.337,514.486 389.249,514.44 391.161,514.393 393.072,514.347 394.984,514.301 396.896,514.255 398.808,514.209 400.72,514.163 \n",
       "  402.632,514.117 404.544,514.071 406.456,514.025 408.367,513.979 410.279,513.933 412.191,513.888 414.103,513.842 416.015,513.796 417.927,513.751 419.839,513.705 \n",
       "  421.751,513.66 423.663,513.614 425.574,513.569 427.486,513.523 429.398,513.478 431.31,513.433 433.222,513.388 435.134,513.342 437.046,513.297 438.958,513.252 \n",
       "  440.87,513.207 442.781,513.162 444.693,513.117 446.605,513.073 448.517,513.028 450.429,512.983 452.341,512.939 454.253,512.894 456.165,512.849 458.077,512.805 \n",
       "  459.988,512.76 461.9,512.716 463.812,512.672 465.724,512.627 467.636,512.583 469.548,512.539 471.46,512.495 473.372,512.451 475.284,512.407 477.195,512.363 \n",
       "  479.107,512.319 481.019,512.275 482.931,512.232 484.843,512.188 486.755,512.144 488.667,512.101 490.579,512.057 492.49,512.014 494.402,511.97 496.314,511.927 \n",
       "  498.226,511.884 500.138,511.841 502.05,511.798 503.962,511.754 505.874,511.711 507.786,511.669 509.697,511.626 511.609,511.583 513.521,511.54 515.433,511.497 \n",
       "  517.345,511.455 519.257,511.412 521.169,511.37 523.081,511.327 524.993,511.285 526.904,511.243 528.816,511.2 530.728,511.158 532.64,511.116 534.552,511.074 \n",
       "  536.464,511.032 538.376,510.99 540.288,510.948 542.2,510.907 544.111,510.865 546.023,510.823 547.935,510.782 549.847,510.74 551.759,510.699 553.671,510.658 \n",
       "  555.583,510.616 557.495,510.575 559.407,510.534 561.318,510.493 563.23,510.452 565.142,510.411 567.054,510.37 568.966,510.33 570.878,510.289 572.79,510.248 \n",
       "  574.702,510.208 576.613,510.167 578.525,510.127 580.437,510.087 582.349,510.047 584.261,510.006 586.173,509.966 588.085,509.926 589.997,509.886 591.909,509.847 \n",
       "  593.82,509.807 595.732,509.767 597.644,509.728 599.556,509.688 601.468,509.649 603.38,509.609 605.292,509.57 607.204,509.531 609.116,509.492 611.027,509.453 \n",
       "  612.939,509.414 614.851,509.375 616.763,509.336 618.675,509.297 620.587,509.259 622.499,509.22 624.411,509.182 626.323,509.143 628.234,509.105 630.146,509.067 \n",
       "  632.058,509.029 633.97,508.991 635.882,508.953 637.794,508.915 639.706,508.877 641.618,508.84 643.53,508.802 645.441,508.765 647.353,508.727 649.265,508.69 \n",
       "  651.177,508.653 653.089,508.615 655.001,508.578 656.913,508.541 658.825,508.505 660.736,508.468 662.648,508.431 664.56,508.395 666.472,508.358 668.384,508.322 \n",
       "  670.296,508.285 672.208,508.249 674.12,508.213 676.032,508.177 677.943,508.141 679.855,508.105 681.767,508.07 683.679,508.034 685.591,507.999 687.503,507.963 \n",
       "  689.415,507.928 691.327,507.893 693.239,507.857 695.15,507.822 697.062,507.788 698.974,507.753 700.886,507.718 702.798,507.683 704.71,507.649 706.622,507.614 \n",
       "  708.534,507.58 710.446,507.546 712.357,507.512 714.269,507.478 716.181,507.444 718.093,507.41 720.005,507.377 721.917,507.343 723.829,507.31 725.741,507.276 \n",
       "  727.653,507.243 729.564,507.21 731.476,507.177 733.388,507.144 735.3,507.111 737.212,507.078 739.124,507.046 741.036,507.013 742.948,506.981 744.859,506.949 \n",
       "  746.771,506.917 748.683,506.885 750.595,506.853 752.507,506.821 754.419,506.789 756.331,506.758 758.243,506.726 760.155,506.695 762.066,506.664 763.978,506.633 \n",
       "  765.89,506.602 767.802,506.571 769.714,506.54 771.626,506.51 773.538,506.479 775.45,506.449 777.362,506.418 779.273,506.388 781.185,506.358 783.097,506.328 \n",
       "  785.009,506.299 786.921,506.269 788.833,506.24 790.745,506.21 792.657,506.181 794.569,506.152 796.48,506.123 798.392,506.094 800.304,506.065 802.216,506.037 \n",
       "  804.128,506.008 806.04,505.98 807.952,505.952 809.864,505.924 811.776,505.896 813.687,505.868 815.599,505.84 817.511,505.813 819.423,505.785 821.335,505.758 \n",
       "  823.247,505.731 825.159,505.704 827.071,505.677 828.982,505.65 830.894,505.624 832.806,505.597 834.718,505.571 836.63,505.545 838.542,505.519 840.454,505.493 \n",
       "  842.366,505.467 844.278,505.441 846.189,505.416 848.101,505.391 850.013,505.365 851.925,505.34 853.837,505.316 855.749,505.291 857.661,505.266 859.573,505.242 \n",
       "  861.485,505.218 863.396,505.193 865.308,505.169 867.22,505.146 869.132,505.122 871.044,505.098 872.956,505.075 874.868,505.052 876.78,505.029 878.692,505.006 \n",
       "  880.603,504.983 882.515,504.96 884.427,504.938 886.339,504.916 888.251,504.894 890.163,504.872 892.075,504.85 893.987,504.828 895.899,504.807 897.81,504.785 \n",
       "  899.722,504.764 901.634,504.743 903.546,504.722 905.458,504.702 907.37,504.681 909.282,504.661 911.194,504.641 913.105,504.62 915.017,504.601 916.929,504.581 \n",
       "  918.841,504.561 920.753,504.542 922.665,504.523 924.577,504.504 926.489,504.485 928.401,504.467 930.312,504.448 932.224,504.43 934.136,504.412 936.048,504.394 \n",
       "  937.96,504.376 939.872,504.358 941.784,504.341 943.696,504.324 945.608,504.307 947.519,504.29 949.431,504.273 951.343,504.257 953.255,504.24 955.167,504.224 \n",
       "  957.079,504.208 958.991,504.192 960.903,504.177 962.815,504.162 964.726,504.146 966.638,504.131 968.55,504.117 970.462,504.102 972.374,504.087 974.286,504.073 \n",
       "  976.198,504.059 978.11,504.045 980.022,504.032 981.933,504.018 983.845,504.005 985.757,503.992 987.669,503.979 989.581,503.966 991.493,503.954 993.405,503.942 \n",
       "  995.317,503.93 997.228,503.918 999.14,503.906 1001.05,503.895 1002.96,503.884 1004.88,503.872 1006.79,503.862 1008.7,503.851 1010.61,503.841 1012.52,503.83 \n",
       "  1014.44,503.821 1016.35,503.811 1018.26,503.801 1020.17,503.792 1022.08,503.783 1023.99,503.774 1025.91,503.765 1027.82,503.757 1029.73,503.749 1031.64,503.74 \n",
       "  1033.55,503.733 1035.47,503.725 1037.38,503.718 1039.29,503.711 1041.2,503.704 1043.11,503.697 1045.03,503.691 1046.94,503.684 1048.85,503.678 1050.76,503.673 \n",
       "  1052.67,503.667 1054.59,503.662 1056.5,503.657 1058.41,503.652 1060.32,503.647 1062.23,503.643 1064.14,503.639 1066.06,503.635 1067.97,503.631 1069.88,503.628 \n",
       "  1071.79,503.625 1073.7,503.622 1075.62,503.619 1077.53,503.617 1079.44,503.615 1081.35,503.613 1083.26,503.611 1085.18,503.61 1087.09,503.609 1089,503.608 \n",
       "  1090.91,503.607 1092.82,503.607 1094.73,503.606 1096.65,503.606 1098.56,503.607 1100.47,503.607 1102.38,503.608 1104.29,503.609 1106.21,503.611 1108.12,503.613 \n",
       "  1110.03,503.614 1111.94,503.617 1113.85,503.619 1115.77,503.622 1117.68,503.625 1119.59,503.628 1121.5,503.632 1123.41,503.636 1125.32,503.64 1127.24,503.644 \n",
       "  1129.15,503.649 1131.06,503.654 1132.97,503.659 1134.88,503.664 1136.8,503.67 1138.71,503.676 1140.62,503.682 1142.53,503.689 1144.44,503.696 1146.36,503.703 \n",
       "  1148.27,503.711 1150.18,503.718 1152.09,503.727 1154,503.735 1155.92,503.744 1157.83,503.753 1159.74,503.762 1161.65,503.771 1163.56,503.781 1165.47,503.791 \n",
       "  1167.39,503.802 1169.3,503.813 1171.21,503.824 1173.12,503.835 1175.03,503.847 1176.95,503.859 1178.86,503.871 1180.77,503.884 1182.68,503.897 1184.59,503.91 \n",
       "  1186.51,503.923 1188.42,503.937 1190.33,503.952 1192.24,503.966 1194.15,503.981 1196.06,503.996 1197.98,504.012 1199.89,504.027 1201.8,504.044 1203.71,504.06 \n",
       "  1205.62,504.077 1207.54,504.094 1209.45,504.112 1211.36,504.129 1213.27,504.148 1215.18,504.166 1217.1,504.185 1219.01,504.204 1220.92,504.224 1222.83,504.244 \n",
       "  1224.74,504.264 1226.65,504.284 1228.57,504.305 1230.48,504.327 1232.39,504.348 1234.3,504.37 1236.21,504.392 1238.13,504.415 1240.04,504.438 1241.95,504.462 \n",
       "  1243.86,504.485 1245.77,504.51 1247.69,504.534 1249.6,504.559 1251.51,504.584 1253.42,504.61 1255.33,504.636 1257.25,504.662 1259.16,504.689 1261.07,504.716 \n",
       "  1262.98,504.744 1264.89,504.772 1266.8,504.8 1268.72,504.829 1270.63,504.858 1272.54,504.887 1274.45,504.917 1276.36,504.947 1278.28,504.978 1280.19,505.009 \n",
       "  1282.1,505.04 1284.01,505.072 1285.92,505.104 1287.84,505.137 1289.75,505.17 1291.66,505.203 1293.57,505.237 1295.48,505.271 1297.39,505.306 1299.31,505.341 \n",
       "  1301.22,505.377 1303.13,505.413 1305.04,505.449 1306.95,505.486 1308.87,505.523 1310.78,505.56 1312.69,505.598 1314.6,505.637 1316.51,505.676 1318.43,505.715 \n",
       "  1320.34,505.755 1322.25,505.795 1324.16,505.836 1326.07,505.877 1327.98,505.919 1329.9,505.961 1331.81,506.003 1333.72,506.046 1335.63,506.089 1337.54,506.133 \n",
       "  1339.46,506.177 1341.37,506.222 1343.28,506.267 1345.19,506.313 1347.1,506.359 1349.02,506.405 1350.93,506.453 1352.84,506.5 1354.75,506.548 1356.66,506.597 \n",
       "  1358.58,506.645 1360.49,506.695 1362.4,506.745 1364.31,506.795 1366.22,506.846 1368.13,506.898 1370.05,506.949 1371.96,507.002 1373.87,507.055 1375.78,507.108 \n",
       "  1377.69,507.162 1379.61,507.216 1381.52,507.271 1383.43,507.327 1385.34,507.382 1387.25,507.439 1389.17,507.496 1391.08,507.553 1392.99,507.611 1394.9,507.67 \n",
       "  1396.81,507.729 1398.72,507.788 1400.64,507.848 1402.55,507.909 1404.46,507.97 1406.37,508.032 1408.28,508.094 1410.2,508.157 1412.11,508.22 1414.02,508.284 \n",
       "  1415.93,508.349 1417.84,508.414 1419.76,508.479 1421.67,508.545 1423.58,508.612 1425.49,508.679 1427.4,508.747 1429.31,508.815 1431.23,508.884 1433.14,508.954 \n",
       "  1435.05,509.024 1436.96,509.095 1438.87,509.166 1440.79,509.238 1442.7,509.31 1444.61,509.383 1446.52,509.457 1448.43,509.531 1450.35,509.606 1452.26,509.681 \n",
       "  1454.17,509.757 1456.08,509.834 1457.99,509.911 1459.9,509.989 1461.82,510.068 1463.73,510.147 1465.64,510.227 1467.55,510.307 1469.46,510.388 1471.38,510.47 \n",
       "  1473.29,510.552 1475.2,510.635 1477.11,510.718 1479.02,510.803 1480.94,510.887 1482.85,510.973 1484.76,511.059 1486.67,511.146 1488.58,511.233 1490.5,511.322 \n",
       "  1492.41,511.41 1494.32,511.5 1496.23,511.59 1498.14,511.681 1500.05,511.773 1501.97,511.865 1503.88,511.958 1505.79,512.051 1507.7,512.146 1509.61,512.241 \n",
       "  1511.53,512.336 1513.44,512.433 1515.35,512.53 1517.26,512.628 1519.17,512.726 1521.09,512.826 1523,512.926 1524.91,513.026 1526.82,513.128 1528.73,513.23 \n",
       "  1530.64,513.333 1532.56,513.436 1534.47,513.541 1536.38,513.646 1538.29,513.752 1540.2,513.859 1542.12,513.966 1544.03,514.074 1545.94,514.183 1547.85,514.293 \n",
       "  1549.76,514.404 1551.68,514.515 1553.59,514.627 1555.5,514.74 1557.41,514.853 1559.32,514.968 1561.23,515.083 1563.15,515.199 1565.06,515.316 1566.97,515.434 \n",
       "  1568.88,515.552 1570.79,515.671 1572.71,515.792 1574.62,515.913 1576.53,516.034 1578.44,516.157 1580.35,516.28 1582.27,516.405 1584.18,516.53 1586.09,516.656 \n",
       "  1588,516.783 1589.91,516.911 1591.83,517.039 1593.74,517.169 1595.65,517.299 1597.56,517.43 1599.47,517.562 1601.38,517.695 1603.3,517.829 1605.21,517.964 \n",
       "  1607.12,518.1 1609.03,518.236 1610.94,518.374 1612.86,518.512 1614.77,518.651 1616.68,518.792 1618.59,518.933 1620.5,519.075 1622.42,519.218 1624.33,519.362 \n",
       "  1626.24,519.507 1628.15,519.653 1630.06,519.8 1631.97,519.948 1633.89,520.097 1635.8,520.246 1637.71,520.397 1639.62,520.549 1641.53,520.702 1643.45,520.855 \n",
       "  1645.36,521.01 1647.27,521.166 1649.18,521.322 1651.09,521.48 1653.01,521.639 1654.92,521.799 1656.83,521.96 1658.74,522.121 1660.65,522.284 1662.56,522.448 \n",
       "  1664.48,522.613 1666.39,522.779 1668.3,522.947 1670.21,523.115 1672.12,523.284 1674.04,523.454 1675.95,523.626 1677.86,523.798 1679.77,523.972 1681.68,524.147 \n",
       "  1683.6,524.323 1685.51,524.5 1687.42,524.678 1689.33,524.857 1691.24,525.037 1693.16,525.219 1695.07,525.401 1696.98,525.585 1698.89,525.77 1700.8,525.956 \n",
       "  1702.71,526.143 1704.63,526.332 1706.54,526.521 1708.45,526.712 1710.36,526.904 1712.27,527.097 1714.19,527.292 1716.1,527.487 1718.01,527.684 1719.92,527.882 \n",
       "  1721.83,528.082 1723.75,528.282 1725.66,528.484 1727.57,528.687 1729.48,528.891 1731.39,529.097 1733.3,529.304 1735.22,529.512 1737.13,529.721 1739.04,529.932 \n",
       "  1740.95,530.144 1742.86,530.357 1744.78,530.572 1746.69,530.788 1748.6,531.005 1750.51,531.224 1752.42,531.444 1754.34,531.665 1756.25,531.888 1758.16,532.112 \n",
       "  1760.07,532.338 1761.98,532.564 1763.89,532.793 1765.81,533.022 1767.72,533.253 1769.63,533.486 1771.54,533.719 1773.45,533.955 1775.37,534.191 1777.28,534.43 \n",
       "  1779.19,534.669 1781.1,534.91 1783.01,535.153 1784.93,535.397 1786.84,535.642 1788.75,535.889 1790.66,536.138 1792.57,536.388 1794.49,536.639 1796.4,536.892 \n",
       "  1798.31,537.147 1800.22,537.403 1802.13,537.661 1804.04,537.92 1805.96,538.181 1807.87,538.443 1809.78,538.707 1811.69,538.973 1813.6,539.24 1815.52,539.509 \n",
       "  1817.43,539.779 1819.34,540.051 1821.25,540.325 1823.16,540.601 1825.08,540.878 1826.99,541.156 1828.9,541.437 1830.81,541.719 1832.72,542.002 1834.63,542.288 \n",
       "  1836.55,542.575 1838.46,542.864 1840.37,543.155 1842.28,543.447 1844.19,543.741 1846.11,544.037 1848.02,544.335 1849.93,544.635 1851.84,544.936 1853.75,545.239 \n",
       "  1855.67,545.544 1857.58,545.851 1859.49,546.159 1861.4,546.47 1863.31,546.782 1865.22,547.096 1867.14,547.413 1869.05,547.731 1870.96,548.05 1872.87,548.372 \n",
       "  1874.78,548.696 1876.7,549.022 1878.61,549.349 1880.52,549.679 1882.43,550.011 1884.34,550.344 1886.26,550.68 1888.17,551.017 1890.08,551.357 1891.99,551.699 \n",
       "  1893.9,552.042 1895.82,552.388 1897.73,552.736 1899.64,553.086 1901.55,553.438 1903.46,553.792 1905.37,554.148 1907.29,554.507 1909.2,554.867 1911.11,555.23 \n",
       "  1913.02,555.595 1914.93,555.962 1916.85,556.331 1918.76,556.703 1920.67,557.077 1922.58,557.452 1924.49,557.831 1926.41,558.211 1928.32,558.594 1930.23,558.979 \n",
       "  1932.14,559.366 1934.05,559.756 1935.96,560.148 1937.88,560.542 1939.79,560.939 1941.7,561.338 1943.61,561.74 1945.52,562.144 1947.44,562.55 1949.35,562.959 \n",
       "  1951.26,563.37 1953.17,563.784 1955.08,564.2 1957,564.619 1958.91,565.04 1960.82,565.464 1962.73,565.89 1964.64,566.319 1966.55,566.751 1968.47,567.185 \n",
       "  1970.38,567.621 1972.29,568.061 1974.2,568.503 1976.11,568.947 1978.03,569.395 1979.94,569.845 1981.85,570.297 1983.76,570.753 1985.67,571.211 1987.59,571.672 \n",
       "  1989.5,572.136 1991.41,572.602 1993.32,573.072 1995.23,573.544 1997.15,574.019 1999.06,574.497 2000.97,574.978 2002.88,575.461 2004.79,575.948 2006.7,576.438 \n",
       "  2008.62,576.93 2010.53,577.426 2012.44,577.924 2014.35,578.426 2016.26,578.931 2018.18,579.438 2020.09,579.949 2022,580.463 2023.91,580.98 2025.82,581.5 \n",
       "  2027.74,582.024 2029.65,582.55 2031.56,583.08 2033.47,583.613 2035.38,584.149 2037.29,584.689 2039.21,585.232 2041.12,585.778 2043.03,586.327 2044.94,586.88 \n",
       "  2046.85,587.436 2048.77,587.996 2050.68,588.559 2052.59,589.125 2054.5,589.695 2056.41,590.269 2058.33,590.846 2060.24,591.426 2062.15,592.01 2064.06,592.598 \n",
       "  2065.97,593.189 2067.88,593.784 2069.8,594.383 2071.71,594.985 2073.62,595.591 2075.53,596.201 2077.44,596.815 2079.36,597.432 2081.27,598.053 2083.18,598.678 \n",
       "  2085.09,599.307 2087,599.94 2088.92,600.577 2090.83,601.218 2092.74,601.862 2094.65,602.511 2096.56,603.164 2098.48,603.82 2100.39,604.481 2102.3,605.146 \n",
       "  2104.21,605.815 2106.12,606.489 2108.03,607.166 2109.95,607.848 2111.86,608.534 2113.77,609.225 2115.68,609.919 2117.59,610.618 2119.51,611.322 2121.42,612.03 \n",
       "  2123.33,612.742 2125.24,613.459 2127.15,614.18 2129.07,614.906 2130.98,615.637 2132.89,616.372 2134.8,617.112 2136.71,617.856 2138.62,618.605 2140.54,619.359 \n",
       "  2142.45,620.118 2144.36,620.882 2146.27,621.65 2148.18,622.423 2150.1,623.202 2152.01,623.985 2153.92,624.773 2155.83,625.566 2157.74,626.365 2159.66,627.168 \n",
       "  2161.57,627.977 2163.48,628.791 2165.39,629.61 2167.3,630.434 2169.21,631.264 2171.13,632.099 2173.04,632.939 2174.95,633.785 2176.86,634.636 2178.77,635.493 \n",
       "  2180.69,636.355 2182.6,637.223 2184.51,638.097 2186.42,638.976 2188.33,639.861 2190.25,640.752 2192.16,641.648 2194.07,642.551 2195.98,643.459 2197.89,644.373 \n",
       "  2199.8,645.294 2201.72,646.22 2203.63,647.153 2205.54,648.091 2207.45,649.036 2209.36,649.987 2211.28,650.944 2213.19,651.908 2215.1,652.878 2217.01,653.854 \n",
       "  2218.92,654.837 2220.84,655.827 2222.75,656.823 2224.66,657.825 2226.57,658.835 2228.48,659.851 2230.4,660.874 2232.31,661.904 2234.22,662.94 2236.13,663.984 \n",
       "  2238.04,665.035 2239.95,666.092 2241.87,667.157 2243.78,668.229 2245.69,669.309 2247.6,670.395 2249.51,671.489 2251.43,672.591 2253.34,673.7 2255.25,674.816 \n",
       "  \n",
       "  \"/>\n",
       "<circle clip-path=\"url(#clip302)\" cx=\"1094.73\" cy=\"503.606\" r=\"14.4\" fill=\"#0000ff\" fill-rule=\"evenodd\" fill-opacity=\"1\" stroke=\"#000000\" stroke-opacity=\"1\" stroke-width=\"3.2\"/>\n",
       "<polyline clip-path=\"url(#clip302)\" style=\"stroke:#ff0000; stroke-linecap:round; stroke-linejoin:round; stroke-width:4; stroke-opacity:1; fill:none\" points=\"\n",
       "  345.275,785.378 347.187,785.315 349.099,785.252 351.011,785.189 352.923,785.126 354.835,785.063 356.747,785 358.658,784.937 360.57,784.874 362.482,784.811 \n",
       "  364.394,784.748 366.306,784.685 368.218,784.623 370.13,784.56 372.042,784.497 373.954,784.435 375.865,784.372 377.777,784.31 379.689,784.248 381.601,784.185 \n",
       "  383.513,784.123 385.425,784.061 387.337,783.999 389.249,783.937 391.161,783.874 393.072,783.812 394.984,783.751 396.896,783.689 398.808,783.627 400.72,783.565 \n",
       "  402.632,783.503 404.544,783.442 406.456,783.38 408.367,783.318 410.279,783.257 412.191,783.196 414.103,783.134 416.015,783.073 417.927,783.012 419.839,782.95 \n",
       "  421.751,782.889 423.663,782.828 425.574,782.767 427.486,782.706 429.398,782.645 431.31,782.584 433.222,782.524 435.134,782.463 437.046,782.402 438.958,782.342 \n",
       "  440.87,782.281 442.781,782.221 444.693,782.16 446.605,782.1 448.517,782.04 450.429,781.98 452.341,781.919 454.253,781.859 456.165,781.799 458.077,781.739 \n",
       "  459.988,781.68 461.9,781.62 463.812,781.56 465.724,781.5 467.636,781.441 469.548,781.381 471.46,781.322 473.372,781.262 475.284,781.203 477.195,781.144 \n",
       "  479.107,781.084 481.019,781.025 482.931,780.966 484.843,780.907 486.755,780.848 488.667,780.79 490.579,780.731 492.49,780.672 494.402,780.613 496.314,780.555 \n",
       "  498.226,780.496 500.138,780.438 502.05,780.38 503.962,780.321 505.874,780.263 507.786,780.205 509.697,780.147 511.609,780.089 513.521,780.031 515.433,779.973 \n",
       "  517.345,779.916 519.257,779.858 521.169,779.801 523.081,779.743 524.993,779.686 526.904,779.628 528.816,779.571 530.728,779.514 532.64,779.457 534.552,779.4 \n",
       "  536.464,779.343 538.376,779.286 540.288,779.229 542.2,779.172 544.111,779.116 546.023,779.059 547.935,779.003 549.847,778.947 551.759,778.89 553.671,778.834 \n",
       "  555.583,778.778 557.495,778.722 559.407,778.666 561.318,778.61 563.23,778.554 565.142,778.499 567.054,778.443 568.966,778.388 570.878,778.332 572.79,778.277 \n",
       "  574.702,778.222 576.613,778.167 578.525,778.112 580.437,778.057 582.349,778.002 584.261,777.947 586.173,777.892 588.085,777.838 589.997,777.783 591.909,777.729 \n",
       "  593.82,777.674 595.732,777.62 597.644,777.566 599.556,777.512 601.468,777.458 603.38,777.404 605.292,777.351 607.204,777.297 609.116,777.243 611.027,777.19 \n",
       "  612.939,777.137 614.851,777.083 616.763,777.03 618.675,776.977 620.587,776.924 622.499,776.871 624.411,776.819 626.323,776.766 628.234,776.713 630.146,776.661 \n",
       "  632.058,776.609 633.97,776.556 635.882,776.504 637.794,776.452 639.706,776.4 641.618,776.348 643.53,776.297 645.441,776.245 647.353,776.194 649.265,776.142 \n",
       "  651.177,776.091 653.089,776.04 655.001,775.989 656.913,775.938 658.825,775.887 660.736,775.836 662.648,775.786 664.56,775.735 666.472,775.685 668.384,775.634 \n",
       "  670.296,775.584 672.208,775.534 674.12,775.484 676.032,775.434 677.943,775.385 679.855,775.335 681.767,775.286 683.679,775.236 685.591,775.187 687.503,775.138 \n",
       "  689.415,775.089 691.327,775.04 693.239,774.991 695.15,774.942 697.062,774.894 698.974,774.846 700.886,774.797 702.798,774.749 704.71,774.701 706.622,774.653 \n",
       "  708.534,774.605 710.446,774.558 712.357,774.51 714.269,774.463 716.181,774.415 718.093,774.368 720.005,774.321 721.917,774.274 723.829,774.227 725.741,774.181 \n",
       "  727.653,774.134 729.564,774.088 731.476,774.042 733.388,773.996 735.3,773.95 737.212,773.904 739.124,773.858 741.036,773.812 742.948,773.767 744.859,773.722 \n",
       "  746.771,773.676 748.683,773.631 750.595,773.586 752.507,773.542 754.419,773.497 756.331,773.453 758.243,773.408 760.155,773.364 762.066,773.32 763.978,773.276 \n",
       "  765.89,773.232 767.802,773.189 769.714,773.145 771.626,773.102 773.538,773.058 775.45,773.015 777.362,772.972 779.273,772.93 781.185,772.887 783.097,772.845 \n",
       "  785.009,772.802 786.921,772.76 788.833,772.718 790.745,772.676 792.657,772.635 794.569,772.593 796.48,772.552 798.392,772.51 800.304,772.469 802.216,772.428 \n",
       "  804.128,772.387 806.04,772.347 807.952,772.306 809.864,772.266 811.776,772.226 813.687,772.186 815.599,772.146 817.511,772.106 819.423,772.067 821.335,772.027 \n",
       "  823.247,771.988 825.159,771.949 827.071,771.91 828.982,771.872 830.894,771.833 832.806,771.795 834.718,771.757 836.63,771.718 838.542,771.681 840.454,771.643 \n",
       "  842.366,771.605 844.278,771.568 846.189,771.531 848.101,771.494 850.013,771.457 851.925,771.42 853.837,771.384 855.749,771.348 857.661,771.312 859.573,771.276 \n",
       "  861.485,771.24 863.396,771.204 865.308,771.169 867.22,771.134 869.132,771.099 871.044,771.064 872.956,771.029 874.868,770.995 876.78,770.96 878.692,770.926 \n",
       "  880.603,770.892 882.515,770.858 884.427,770.825 886.339,770.791 888.251,770.758 890.163,770.725 892.075,770.693 893.987,770.66 895.899,770.628 897.81,770.595 \n",
       "  899.722,770.563 901.634,770.531 903.546,770.5 905.458,770.468 907.37,770.437 909.282,770.406 911.194,770.375 913.105,770.345 915.017,770.314 916.929,770.284 \n",
       "  918.841,770.254 920.753,770.224 922.665,770.195 924.577,770.165 926.489,770.136 928.401,770.107 930.312,770.078 932.224,770.05 934.136,770.021 936.048,769.993 \n",
       "  937.96,769.965 939.872,769.938 941.784,769.91 943.696,769.883 945.608,769.856 947.519,769.829 949.431,769.802 951.343,769.776 953.255,769.75 955.167,769.724 \n",
       "  957.079,769.698 958.991,769.673 960.903,769.647 962.815,769.622 964.726,769.598 966.638,769.573 968.55,769.549 970.462,769.524 972.374,769.501 974.286,769.477 \n",
       "  976.198,769.453 978.11,769.43 980.022,769.407 981.933,769.385 983.845,769.362 985.757,769.34 987.669,769.318 989.581,769.296 991.493,769.274 993.405,769.253 \n",
       "  995.317,769.232 997.228,769.211 999.14,769.191 1001.05,769.171 1002.96,769.15 1004.88,769.131 1006.79,769.111 1008.7,769.092 1010.61,769.073 1012.52,769.054 \n",
       "  1014.44,769.035 1016.35,769.017 1018.26,768.999 1020.17,768.981 1022.08,768.964 1023.99,768.947 1025.91,768.93 1027.82,768.913 1029.73,768.896 1031.64,768.88 \n",
       "  1033.55,768.864 1035.47,768.849 1037.38,768.833 1039.29,768.818 1041.2,768.803 1043.11,768.789 1045.03,768.775 1046.94,768.761 1048.85,768.747 1050.76,768.733 \n",
       "  1052.67,768.72 1054.59,768.707 1056.5,768.695 1058.41,768.682 1060.32,768.67 1062.23,768.658 1064.14,768.647 1066.06,768.636 1067.97,768.625 1069.88,768.614 \n",
       "  1071.79,768.604 1073.7,768.594 1075.62,768.584 1077.53,768.575 1079.44,768.566 1081.35,768.557 1083.26,768.548 1085.18,768.54 1087.09,768.532 1089,768.524 \n",
       "  1090.91,768.517 1092.82,768.51 1094.73,768.503 1096.65,768.497 1098.56,768.491 1100.47,768.485 1102.38,768.48 1104.29,768.475 1106.21,768.47 1108.12,768.465 \n",
       "  1110.03,768.461 1111.94,768.457 1113.85,768.454 1115.77,768.45 1117.68,768.447 1119.59,768.445 1121.5,768.443 1123.41,768.441 1125.32,768.439 1127.24,768.438 \n",
       "  1129.15,768.437 1131.06,768.436 1132.97,768.436 1134.88,768.436 1136.8,768.436 1138.71,768.437 1140.62,768.438 1142.53,768.44 1144.44,768.442 1146.36,768.444 \n",
       "  1148.27,768.446 1150.18,768.449 1152.09,768.452 1154,768.456 1155.92,768.46 1157.83,768.464 1159.74,768.469 1161.65,768.474 1163.56,768.479 1165.47,768.485 \n",
       "  1167.39,768.491 1169.3,768.497 1171.21,768.504 1173.12,768.511 1175.03,768.519 1176.95,768.527 1178.86,768.535 1180.77,768.544 1182.68,768.553 1184.59,768.562 \n",
       "  1186.51,768.572 1188.42,768.582 1190.33,768.593 1192.24,768.604 1194.15,768.615 1196.06,768.627 1197.98,768.639 1199.89,768.651 1201.8,768.664 1203.71,768.678 \n",
       "  1205.62,768.691 1207.54,768.706 1209.45,768.72 1211.36,768.735 1213.27,768.75 1215.18,768.766 1217.1,768.782 1219.01,768.799 1220.92,768.816 1222.83,768.833 \n",
       "  1224.74,768.851 1226.65,768.869 1228.57,768.888 1230.48,768.907 1232.39,768.927 1234.3,768.947 1236.21,768.967 1238.13,768.988 1240.04,769.009 1241.95,769.031 \n",
       "  1243.86,769.053 1245.77,769.075 1247.69,769.098 1249.6,769.122 1251.51,769.146 1253.42,769.17 1255.33,769.195 1257.25,769.22 1259.16,769.246 1261.07,769.272 \n",
       "  1262.98,769.298 1264.89,769.325 1266.8,769.353 1268.72,769.381 1270.63,769.409 1272.54,769.438 1274.45,769.468 1276.36,769.497 1278.28,769.528 1280.19,769.559 \n",
       "  1282.1,769.59 1284.01,769.622 1285.92,769.654 1287.84,769.687 1289.75,769.72 1291.66,769.754 1293.57,769.788 1295.48,769.822 1297.39,769.858 1299.31,769.893 \n",
       "  1301.22,769.93 1303.13,769.966 1305.04,770.003 1306.95,770.041 1308.87,770.079 1310.78,770.118 1312.69,770.157 1314.6,770.197 1316.51,770.237 1318.43,770.278 \n",
       "  1320.34,770.32 1322.25,770.361 1324.16,770.404 1326.07,770.447 1327.98,770.49 1329.9,770.534 1331.81,770.579 1333.72,770.624 1335.63,770.669 1337.54,770.716 \n",
       "  1339.46,770.762 1341.37,770.81 1343.28,770.857 1345.19,770.906 1347.1,770.955 1349.02,771.004 1350.93,771.054 1352.84,771.105 1354.75,771.156 1356.66,771.208 \n",
       "  1358.58,771.26 1360.49,771.313 1362.4,771.367 1364.31,771.421 1366.22,771.476 1368.13,771.531 1370.05,771.587 1371.96,771.643 1373.87,771.7 1375.78,771.758 \n",
       "  1377.69,771.816 1379.61,771.875 1381.52,771.935 1383.43,771.995 1385.34,772.055 1387.25,772.117 1389.17,772.179 1391.08,772.241 1392.99,772.304 1394.9,772.368 \n",
       "  1396.81,772.433 1398.72,772.498 1400.64,772.563 1402.55,772.63 1404.46,772.697 1406.37,772.764 1408.28,772.833 1410.2,772.902 1412.11,772.971 1414.02,773.042 \n",
       "  1415.93,773.113 1417.84,773.184 1419.76,773.256 1421.67,773.329 1423.58,773.403 1425.49,773.477 1427.4,773.552 1429.31,773.628 1431.23,773.704 1433.14,773.781 \n",
       "  1435.05,773.859 1436.96,773.938 1438.87,774.017 1440.79,774.096 1442.7,774.177 1444.61,774.258 1446.52,774.34 1448.43,774.423 1450.35,774.506 1452.26,774.591 \n",
       "  1454.17,774.675 1456.08,774.761 1457.99,774.847 1459.9,774.934 1461.82,775.022 1463.73,775.111 1465.64,775.2 1467.55,775.29 1469.46,775.381 1471.38,775.472 \n",
       "  1473.29,775.565 1475.2,775.658 1477.11,775.752 1479.02,775.846 1480.94,775.942 1482.85,776.038 1484.76,776.135 1486.67,776.233 1488.58,776.331 1490.5,776.431 \n",
       "  1492.41,776.531 1494.32,776.632 1496.23,776.734 1498.14,776.836 1500.05,776.94 1501.97,777.044 1503.88,777.149 1505.79,777.255 1507.7,777.362 1509.61,777.469 \n",
       "  1511.53,777.578 1513.44,777.687 1515.35,777.797 1517.26,777.908 1519.17,778.02 1521.09,778.132 1523,778.246 1524.91,778.36 1526.82,778.476 1528.73,778.592 \n",
       "  1530.64,778.709 1532.56,778.827 1534.47,778.946 1536.38,779.065 1538.29,779.186 1540.2,779.307 1542.12,779.43 1544.03,779.553 1545.94,779.677 1547.85,779.803 \n",
       "  1549.76,779.929 1551.68,780.056 1553.59,780.184 1555.5,780.313 1557.41,780.443 1559.32,780.573 1561.23,780.705 1563.15,780.838 1565.06,780.972 1566.97,781.106 \n",
       "  1568.88,781.242 1570.79,781.378 1572.71,781.516 1574.62,781.655 1576.53,781.794 1578.44,781.935 1580.35,782.076 1582.27,782.219 1584.18,782.363 1586.09,782.507 \n",
       "  1588,782.653 1589.91,782.799 1591.83,782.947 1593.74,783.096 1595.65,783.246 1597.56,783.396 1599.47,783.548 1601.38,783.701 1603.3,783.855 1605.21,784.01 \n",
       "  1607.12,784.167 1609.03,784.324 1610.94,784.482 1612.86,784.642 1614.77,784.802 1616.68,784.964 1618.59,785.126 1620.5,785.29 1622.42,785.455 1624.33,785.621 \n",
       "  1626.24,785.788 1628.15,785.957 1630.06,786.126 1631.97,786.297 1633.89,786.469 1635.8,786.642 1637.71,786.816 1639.62,786.991 1641.53,787.168 1643.45,787.345 \n",
       "  1645.36,787.524 1647.27,787.704 1649.18,787.885 1651.09,788.068 1653.01,788.251 1654.92,788.436 1656.83,788.622 1658.74,788.81 1660.65,788.998 1662.56,789.188 \n",
       "  1664.48,789.379 1666.39,789.572 1668.3,789.765 1670.21,789.96 1672.12,790.156 1674.04,790.354 1675.95,790.552 1677.86,790.753 1679.77,790.954 1681.68,791.156 \n",
       "  1683.6,791.36 1685.51,791.566 1687.42,791.772 1689.33,791.98 1691.24,792.19 1693.16,792.4 1695.07,792.612 1696.98,792.826 1698.89,793.041 1700.8,793.257 \n",
       "  1702.71,793.474 1704.63,793.693 1706.54,793.913 1708.45,794.135 1710.36,794.358 1712.27,794.583 1714.19,794.809 1716.1,795.037 1718.01,795.265 1719.92,795.496 \n",
       "  1721.83,795.728 1723.75,795.961 1725.66,796.196 1727.57,796.432 1729.48,796.67 1731.39,796.909 1733.3,797.15 1735.22,797.392 1737.13,797.636 1739.04,797.881 \n",
       "  1740.95,798.128 1742.86,798.377 1744.78,798.627 1746.69,798.878 1748.6,799.132 1750.51,799.386 1752.42,799.643 1754.34,799.901 1756.25,800.16 1758.16,800.421 \n",
       "  1760.07,800.684 1761.98,800.949 1763.89,801.215 1765.81,801.483 1767.72,801.752 1769.63,802.023 1771.54,802.296 1773.45,802.57 1775.37,802.846 1777.28,803.124 \n",
       "  1779.19,803.404 1781.1,803.685 1783.01,803.968 1784.93,804.253 1786.84,804.54 1788.75,804.828 1790.66,805.118 1792.57,805.41 1794.49,805.704 1796.4,805.999 \n",
       "  1798.31,806.296 1800.22,806.596 1802.13,806.897 1804.04,807.199 1805.96,807.504 1807.87,807.811 1809.78,808.119 1811.69,808.429 1813.6,808.741 1815.52,809.056 \n",
       "  1817.43,809.372 1819.34,809.689 1821.25,810.009 1823.16,810.331 1825.08,810.655 1826.99,810.981 1828.9,811.309 1830.81,811.638 1832.72,811.97 1834.63,812.304 \n",
       "  1836.55,812.64 1838.46,812.977 1840.37,813.317 1842.28,813.659 1844.19,814.003 1846.11,814.349 1848.02,814.698 1849.93,815.048 1851.84,815.4 1853.75,815.755 \n",
       "  1855.67,816.112 1857.58,816.471 1859.49,816.832 1861.4,817.195 1863.31,817.56 1865.22,817.928 1867.14,818.298 1869.05,818.67 1870.96,819.044 1872.87,819.421 \n",
       "  1874.78,819.8 1876.7,820.181 1878.61,820.564 1880.52,820.95 1882.43,821.338 1884.34,821.729 1886.26,822.121 1888.17,822.517 1890.08,822.914 1891.99,823.314 \n",
       "  1893.9,823.716 1895.82,824.121 1897.73,824.528 1899.64,824.938 1901.55,825.35 1903.46,825.764 1905.37,826.181 1907.29,826.601 1909.2,827.023 1911.11,827.448 \n",
       "  1913.02,827.875 1914.93,828.305 1916.85,828.737 1918.76,829.172 1920.67,829.609 1922.58,830.05 1924.49,830.492 1926.41,830.938 1928.32,831.386 1930.23,831.837 \n",
       "  1932.14,832.29 1934.05,832.747 1935.96,833.206 1937.88,833.667 1939.79,834.132 1941.7,834.599 1943.61,835.069 1945.52,835.542 1947.44,836.018 1949.35,836.497 \n",
       "  1951.26,836.978 1953.17,837.463 1955.08,837.95 1957,838.44 1958.91,838.933 1960.82,839.429 1962.73,839.929 1964.64,840.431 1966.55,840.936 1968.47,841.444 \n",
       "  1970.38,841.955 1972.29,842.469 1974.2,842.987 1976.11,843.507 1978.03,844.031 1979.94,844.558 1981.85,845.088 1983.76,845.621 1985.67,846.157 1987.59,846.697 \n",
       "  1989.5,847.24 1991.41,847.786 1993.32,848.335 1995.23,848.888 1997.15,849.444 1999.06,850.003 2000.97,850.566 2002.88,851.132 2004.79,851.701 2006.7,852.274 \n",
       "  2008.62,852.851 2010.53,853.431 2012.44,854.014 2014.35,854.601 2016.26,855.192 2018.18,855.786 2020.09,856.383 2022,856.985 2023.91,857.589 2025.82,858.198 \n",
       "  2027.74,858.81 2029.65,859.426 2031.56,860.046 2033.47,860.669 2035.38,861.296 2037.29,861.927 2039.21,862.562 2041.12,863.201 2043.03,863.843 2044.94,864.49 \n",
       "  2046.85,865.14 2048.77,865.795 2050.68,866.453 2052.59,867.115 2054.5,867.782 2056.41,868.452 2058.33,869.126 2060.24,869.805 2062.15,870.488 2064.06,871.175 \n",
       "  2065.97,871.866 2067.88,872.561 2069.8,873.261 2071.71,873.965 2073.62,874.673 2075.53,875.385 2077.44,876.102 2079.36,876.823 2081.27,877.549 2083.18,878.279 \n",
       "  2085.09,879.014 2087,879.753 2088.92,880.496 2090.83,881.244 2092.74,881.997 2094.65,882.755 2096.56,883.517 2098.48,884.284 2100.39,885.055 2102.3,885.831 \n",
       "  2104.21,886.613 2106.12,887.398 2108.03,888.189 2109.95,888.985 2111.86,889.785 2113.77,890.591 2115.68,891.402 2117.59,892.217 2119.51,893.038 2121.42,893.863 \n",
       "  2123.33,894.694 2125.24,895.53 2127.15,896.372 2129.07,897.218 2130.98,898.07 2132.89,898.927 2134.8,899.789 2136.71,900.657 2138.62,901.53 2140.54,902.409 \n",
       "  2142.45,903.293 2144.36,904.183 2146.27,905.078 2148.18,905.979 2150.1,906.886 2152.01,907.798 2153.92,908.716 2155.83,909.64 2157.74,910.57 2159.66,911.505 \n",
       "  2161.57,912.447 2163.48,913.394 2165.39,914.348 2167.3,915.307 2169.21,916.273 2171.13,917.244 2173.04,918.222 2174.95,919.206 2176.86,920.197 2178.77,921.193 \n",
       "  2180.69,922.196 2182.6,923.206 2184.51,924.222 2186.42,925.244 2188.33,926.273 2190.25,927.308 2192.16,928.35 2194.07,929.399 2195.98,930.455 2197.89,931.517 \n",
       "  2199.8,932.586 2201.72,933.662 2203.63,934.745 2205.54,935.835 2207.45,936.933 2209.36,938.037 2211.28,939.148 2213.19,940.267 2215.1,941.392 2217.01,942.526 \n",
       "  2218.92,943.666 2220.84,944.814 2222.75,945.97 2224.66,947.133 2226.57,948.303 2228.48,949.482 2230.4,950.668 2232.31,951.861 2234.22,953.063 2236.13,954.273 \n",
       "  2238.04,955.49 2239.95,956.716 2241.87,957.95 2243.78,959.191 2245.69,960.441 2247.6,961.7 2249.51,962.967 2251.43,964.242 2253.34,965.525 2255.25,966.818 \n",
       "  \n",
       "  \"/>\n",
       "<circle clip-path=\"url(#clip302)\" cx=\"1132.97\" cy=\"768.436\" r=\"14.4\" fill=\"#ff0000\" fill-rule=\"evenodd\" fill-opacity=\"1\" stroke=\"#000000\" stroke-opacity=\"1\" stroke-width=\"3.2\"/>\n",
       "<polyline clip-path=\"url(#clip302)\" style=\"stroke:#0000ff; stroke-linecap:round; stroke-linejoin:round; stroke-width:4; stroke-opacity:1; fill:none\" stroke-dasharray=\"16, 10\" points=\"\n",
       "  1094.73,989.636 1094.73,503.606 \n",
       "  \"/>\n",
       "<polyline clip-path=\"url(#clip302)\" style=\"stroke:#0000ff; stroke-linecap:round; stroke-linejoin:round; stroke-width:4; stroke-opacity:1; fill:none\" stroke-dasharray=\"16, 10\" points=\"\n",
       "  249.681,503.606 1094.73,503.606 \n",
       "  \"/>\n",
       "<polyline clip-path=\"url(#clip302)\" style=\"stroke:#ff0000; stroke-linecap:round; stroke-linejoin:round; stroke-width:4; stroke-opacity:1; fill:none\" stroke-dasharray=\"16, 10\" points=\"\n",
       "  1132.97,989.636 1132.97,768.436 \n",
       "  \"/>\n",
       "<polyline clip-path=\"url(#clip302)\" style=\"stroke:#ff0000; stroke-linecap:round; stroke-linejoin:round; stroke-width:4; stroke-opacity:1; fill:none\" stroke-dasharray=\"16, 10\" points=\"\n",
       "  249.681,768.436 1132.97,768.436 \n",
       "  \"/>\n",
       "<path clip-path=\"url(#clip300)\" d=\"\n",
       "M319.783 1377.32 L787.59 1377.32 L787.59 1118.12 L319.783 1118.12  Z\n",
       "  \" fill=\"#ffffff\" fill-rule=\"evenodd\" fill-opacity=\"1\"/>\n",
       "<polyline clip-path=\"url(#clip300)\" style=\"stroke:#000000; stroke-linecap:round; stroke-linejoin:round; stroke-width:4; stroke-opacity:1; fill:none\" points=\"\n",
       "  319.783,1377.32 787.59,1377.32 787.59,1118.12 319.783,1118.12 319.783,1377.32 \n",
       "  \"/>\n",
       "<polyline clip-path=\"url(#clip300)\" style=\"stroke:#0000ff; stroke-linecap:round; stroke-linejoin:round; stroke-width:4; stroke-opacity:1; fill:none\" points=\"\n",
       "  343.151,1169.96 483.356,1169.96 \n",
       "  \"/>\n",
       "<path clip-path=\"url(#clip300)\" d=\"M506.723 1152.68 L513.02 1152.68 L528.344 1181.59 L528.344 1152.68 L532.881 1152.68 L532.881 1187.24 L526.584 1187.24 L511.26 1158.32 L511.26 1187.24 L506.723 1187.24 L506.723 1152.68 Z\" fill=\"#000000\" fill-rule=\"evenodd\" fill-opacity=\"1\" /><path clip-path=\"url(#clip300)\" d=\"M541.561 1177 L541.561 1161.31 L545.82 1161.31 L545.82 1176.84 Q545.82 1180.52 547.256 1182.37 Q548.691 1184.2 551.561 1184.2 Q555.01 1184.2 557.001 1182 Q559.015 1179.8 559.015 1176.01 L559.015 1161.31 L563.274 1161.31 L563.274 1187.24 L559.015 1187.24 L559.015 1183.25 Q557.464 1185.61 555.404 1186.77 Q553.367 1187.91 550.658 1187.91 Q546.191 1187.91 543.876 1185.13 Q541.561 1182.35 541.561 1177 M552.279 1160.68 L552.279 1160.68 Z\" fill=\"#000000\" fill-rule=\"evenodd\" fill-opacity=\"1\" /><path clip-path=\"url(#clip300)\" d=\"M572.047 1151.22 L576.306 1151.22 L576.306 1187.24 L572.047 1187.24 L572.047 1151.22 Z\" fill=\"#000000\" fill-rule=\"evenodd\" fill-opacity=\"1\" /><path clip-path=\"url(#clip300)\" d=\"M585.218 1151.22 L589.478 1151.22 L589.478 1187.24 L585.218 1187.24 L585.218 1151.22 Z\" fill=\"#000000\" fill-rule=\"evenodd\" fill-opacity=\"1\" /><circle clip-path=\"url(#clip300)\" cx=\"413.253\" cy=\"1221.8\" r=\"23.04\" fill=\"#0000ff\" fill-rule=\"evenodd\" fill-opacity=\"1\" stroke=\"#000000\" stroke-opacity=\"1\" stroke-width=\"5.12\"/>\n",
       "<path clip-path=\"url(#clip300)\" d=\"M527.071 1218.13 Q528.668 1215.26 530.89 1213.89 Q533.112 1212.52 536.121 1212.52 Q540.172 1212.52 542.371 1215.37 Q544.57 1218.2 544.57 1223.43 L544.57 1239.08 L540.288 1239.08 L540.288 1223.57 Q540.288 1219.84 538.969 1218.03 Q537.649 1216.23 534.941 1216.23 Q531.631 1216.23 529.709 1218.43 Q527.788 1220.63 527.788 1224.42 L527.788 1239.08 L523.506 1239.08 L523.506 1223.57 Q523.506 1219.82 522.186 1218.03 Q520.867 1216.23 518.112 1216.23 Q514.848 1216.23 512.927 1218.45 Q511.006 1220.65 511.006 1224.42 L511.006 1239.08 L506.723 1239.08 L506.723 1213.15 L511.006 1213.15 L511.006 1217.18 Q512.464 1214.79 514.501 1213.66 Q516.538 1212.52 519.339 1212.52 Q522.163 1212.52 524.131 1213.96 Q526.121 1215.39 527.071 1218.13 Z\" fill=\"#000000\" fill-rule=\"evenodd\" fill-opacity=\"1\" /><path clip-path=\"url(#clip300)\" d=\"M564.848 1226.04 Q559.686 1226.04 557.695 1227.22 Q555.705 1228.4 555.705 1231.25 Q555.705 1233.52 557.186 1234.86 Q558.691 1236.18 561.26 1236.18 Q564.802 1236.18 566.931 1233.68 Q569.084 1231.16 569.084 1226.99 L569.084 1226.04 L564.848 1226.04 M573.343 1224.28 L573.343 1239.08 L569.084 1239.08 L569.084 1235.14 Q567.626 1237.5 565.45 1238.64 Q563.274 1239.75 560.126 1239.75 Q556.144 1239.75 553.783 1237.52 Q551.445 1235.28 551.445 1231.53 Q551.445 1227.15 554.362 1224.93 Q557.302 1222.71 563.112 1222.71 L569.084 1222.71 L569.084 1222.29 Q569.084 1219.35 567.14 1217.76 Q565.218 1216.14 561.723 1216.14 Q559.501 1216.14 557.394 1216.67 Q555.288 1217.2 553.344 1218.27 L553.344 1214.33 Q555.681 1213.43 557.881 1212.99 Q560.08 1212.52 562.163 1212.52 Q567.788 1212.52 570.566 1215.44 Q573.343 1218.36 573.343 1224.28 Z\" fill=\"#000000\" fill-rule=\"evenodd\" fill-opacity=\"1\" /><path clip-path=\"url(#clip300)\" d=\"M603.667 1213.15 L594.292 1225.77 L604.153 1239.08 L599.13 1239.08 L591.584 1228.89 L584.038 1239.08 L579.015 1239.08 L589.084 1225.51 L579.871 1213.15 L584.894 1213.15 L591.769 1222.39 L598.644 1213.15 L603.667 1213.15 Z\" fill=\"#000000\" fill-rule=\"evenodd\" fill-opacity=\"1\" /><path clip-path=\"url(#clip300)\" d=\"M610.357 1204.52 L615.033 1204.52 L615.033 1235.14 L631.862 1235.14 L631.862 1239.08 L610.357 1239.08 L610.357 1204.52 Z\" fill=\"#000000\" fill-rule=\"evenodd\" fill-opacity=\"1\" /><path clip-path=\"url(#clip300)\" d=\"M636.769 1204.52 L641.445 1204.52 L641.445 1235.14 L658.274 1235.14 L658.274 1239.08 L636.769 1239.08 L636.769 1204.52 Z\" fill=\"#000000\" fill-rule=\"evenodd\" fill-opacity=\"1\" /><path clip-path=\"url(#clip300)\" d=\"M682.695 1246.95 L682.695 1250.26 L658.065 1250.26 L658.065 1246.95 L682.695 1246.95 Z\" fill=\"#000000\" fill-rule=\"evenodd\" fill-opacity=\"1\" /><path clip-path=\"url(#clip300)\" d=\"M708.25 1223.43 L708.25 1239.08 L703.991 1239.08 L703.991 1223.57 Q703.991 1219.89 702.556 1218.06 Q701.121 1216.23 698.25 1216.23 Q694.801 1216.23 692.81 1218.43 Q690.82 1220.63 690.82 1224.42 L690.82 1239.08 L686.537 1239.08 L686.537 1213.15 L690.82 1213.15 L690.82 1217.18 Q692.347 1214.84 694.408 1213.68 Q696.491 1212.52 699.199 1212.52 Q703.667 1212.52 705.958 1215.3 Q708.25 1218.06 708.25 1223.43 Z\" fill=\"#000000\" fill-rule=\"evenodd\" fill-opacity=\"1\" /><path clip-path=\"url(#clip300)\" d=\"M716.306 1228.84 L716.306 1213.15 L720.565 1213.15 L720.565 1228.68 Q720.565 1232.36 722 1234.21 Q723.435 1236.04 726.306 1236.04 Q729.755 1236.04 731.745 1233.84 Q733.759 1231.64 733.759 1227.85 L733.759 1213.15 L738.018 1213.15 L738.018 1239.08 L733.759 1239.08 L733.759 1235.09 Q732.208 1237.45 730.148 1238.61 Q728.111 1239.75 725.403 1239.75 Q720.935 1239.75 718.62 1236.97 Q716.306 1234.19 716.306 1228.84 M727.023 1212.52 L727.023 1212.52 Z\" fill=\"#000000\" fill-rule=\"evenodd\" fill-opacity=\"1\" /><path clip-path=\"url(#clip300)\" d=\"M746.792 1203.06 L751.051 1203.06 L751.051 1239.08 L746.792 1239.08 L746.792 1203.06 Z\" fill=\"#000000\" fill-rule=\"evenodd\" fill-opacity=\"1\" /><path clip-path=\"url(#clip300)\" d=\"M759.963 1203.06 L764.222 1203.06 L764.222 1239.08 L759.963 1239.08 L759.963 1203.06 Z\" fill=\"#000000\" fill-rule=\"evenodd\" fill-opacity=\"1\" /><polyline clip-path=\"url(#clip300)\" style=\"stroke:#ff0000; stroke-linecap:round; stroke-linejoin:round; stroke-width:4; stroke-opacity:1; fill:none\" points=\"\n",
       "  343.151,1273.64 483.356,1273.64 \n",
       "  \"/>\n",
       "<path clip-path=\"url(#clip300)\" d=\"M522.557 1260.96 L516.214 1278.16 L528.922 1278.16 L522.557 1260.96 M519.918 1256.36 L525.219 1256.36 L538.39 1290.92 L533.529 1290.92 L530.381 1282.05 L514.802 1282.05 L511.654 1290.92 L506.723 1290.92 L519.918 1256.36 Z\" fill=\"#000000\" fill-rule=\"evenodd\" fill-opacity=\"1\" /><path clip-path=\"url(#clip300)\" d=\"M543.251 1254.9 L547.51 1254.9 L547.51 1290.92 L543.251 1290.92 L543.251 1254.9 Z\" fill=\"#000000\" fill-rule=\"evenodd\" fill-opacity=\"1\" /><path clip-path=\"url(#clip300)\" d=\"M560.635 1257.63 L560.635 1264.99 L569.408 1264.99 L569.408 1268.3 L560.635 1268.3 L560.635 1282.37 Q560.635 1285.54 561.492 1286.45 Q562.371 1287.35 565.033 1287.35 L569.408 1287.35 L569.408 1290.92 L565.033 1290.92 Q560.103 1290.92 558.228 1289.09 Q556.353 1287.23 556.353 1282.37 L556.353 1268.3 L553.228 1268.3 L553.228 1264.99 L556.353 1264.99 L556.353 1257.63 L560.635 1257.63 Z\" fill=\"#000000\" fill-rule=\"evenodd\" fill-opacity=\"1\" /><path clip-path=\"url(#clip300)\" d=\"M594.709 1298.79 L594.709 1302.1 L570.08 1302.1 L570.08 1298.79 L594.709 1298.79 Z\" fill=\"#000000\" fill-rule=\"evenodd\" fill-opacity=\"1\" /><path clip-path=\"url(#clip300)\" d=\"M600.126 1286.98 L607.765 1286.98 L607.765 1260.61 L599.454 1262.28 L599.454 1258.02 L607.718 1256.36 L612.394 1256.36 L612.394 1286.98 L620.033 1286.98 L620.033 1290.92 L600.126 1290.92 L600.126 1286.98 Z\" fill=\"#000000\" fill-rule=\"evenodd\" fill-opacity=\"1\" /><path clip-path=\"url(#clip300)\" d=\"M633.505 1286.98 L649.825 1286.98 L649.825 1290.92 L627.88 1290.92 L627.88 1286.98 Q630.542 1284.23 635.126 1279.6 Q639.732 1274.94 640.913 1273.6 Q643.158 1271.08 644.037 1269.34 Q644.94 1267.58 644.94 1265.89 Q644.94 1263.14 642.996 1261.4 Q641.075 1259.67 637.973 1259.67 Q635.774 1259.67 633.32 1260.43 Q630.889 1261.19 628.112 1262.74 L628.112 1258.02 Q630.936 1256.89 633.389 1256.31 Q635.843 1255.73 637.88 1255.73 Q643.25 1255.73 646.445 1258.42 Q649.639 1261.1 649.639 1265.59 Q649.639 1267.72 648.829 1269.64 Q648.042 1271.54 645.936 1274.13 Q645.357 1274.8 642.255 1278.02 Q639.153 1281.22 633.505 1286.98 Z\" fill=\"#000000\" fill-rule=\"evenodd\" fill-opacity=\"1\" /><circle clip-path=\"url(#clip300)\" cx=\"413.253\" cy=\"1325.48\" r=\"23.04\" fill=\"#ff0000\" fill-rule=\"evenodd\" fill-opacity=\"1\" stroke=\"#000000\" stroke-opacity=\"1\" stroke-width=\"5.12\"/>\n",
       "<path clip-path=\"url(#clip300)\" d=\"M527.071 1321.81 Q528.668 1318.94 530.89 1317.57 Q533.112 1316.2 536.121 1316.2 Q540.172 1316.2 542.371 1319.05 Q544.57 1321.88 544.57 1327.11 L544.57 1342.76 L540.288 1342.76 L540.288 1327.25 Q540.288 1323.52 538.969 1321.71 Q537.649 1319.91 534.941 1319.91 Q531.631 1319.91 529.709 1322.11 Q527.788 1324.31 527.788 1328.1 L527.788 1342.76 L523.506 1342.76 L523.506 1327.25 Q523.506 1323.5 522.186 1321.71 Q520.867 1319.91 518.112 1319.91 Q514.848 1319.91 512.927 1322.13 Q511.006 1324.33 511.006 1328.1 L511.006 1342.76 L506.723 1342.76 L506.723 1316.83 L511.006 1316.83 L511.006 1320.86 Q512.464 1318.47 514.501 1317.34 Q516.538 1316.2 519.339 1316.2 Q522.163 1316.2 524.131 1317.64 Q526.121 1319.07 527.071 1321.81 Z\" fill=\"#000000\" fill-rule=\"evenodd\" fill-opacity=\"1\" /><path clip-path=\"url(#clip300)\" d=\"M564.848 1329.72 Q559.686 1329.72 557.695 1330.9 Q555.705 1332.08 555.705 1334.93 Q555.705 1337.2 557.186 1338.54 Q558.691 1339.86 561.26 1339.86 Q564.802 1339.86 566.931 1337.36 Q569.084 1334.84 569.084 1330.67 L569.084 1329.72 L564.848 1329.72 M573.343 1327.96 L573.343 1342.76 L569.084 1342.76 L569.084 1338.82 Q567.626 1341.18 565.45 1342.32 Q563.274 1343.43 560.126 1343.43 Q556.144 1343.43 553.783 1341.2 Q551.445 1338.96 551.445 1335.21 Q551.445 1330.83 554.362 1328.61 Q557.302 1326.39 563.112 1326.39 L569.084 1326.39 L569.084 1325.97 Q569.084 1323.03 567.14 1321.44 Q565.218 1319.82 561.723 1319.82 Q559.501 1319.82 557.394 1320.35 Q555.288 1320.88 553.344 1321.95 L553.344 1318.01 Q555.681 1317.11 557.881 1316.67 Q560.08 1316.2 562.163 1316.2 Q567.788 1316.2 570.566 1319.12 Q573.343 1322.04 573.343 1327.96 Z\" fill=\"#000000\" fill-rule=\"evenodd\" fill-opacity=\"1\" /><path clip-path=\"url(#clip300)\" d=\"M603.667 1316.83 L594.292 1329.45 L604.153 1342.76 L599.13 1342.76 L591.584 1332.57 L584.038 1342.76 L579.015 1342.76 L589.084 1329.19 L579.871 1316.83 L584.894 1316.83 L591.769 1326.07 L598.644 1316.83 L603.667 1316.83 Z\" fill=\"#000000\" fill-rule=\"evenodd\" fill-opacity=\"1\" /><path clip-path=\"url(#clip300)\" d=\"M610.357 1308.2 L615.033 1308.2 L615.033 1338.82 L631.862 1338.82 L631.862 1342.76 L610.357 1342.76 L610.357 1308.2 Z\" fill=\"#000000\" fill-rule=\"evenodd\" fill-opacity=\"1\" /><path clip-path=\"url(#clip300)\" d=\"M636.769 1308.2 L641.445 1308.2 L641.445 1338.82 L658.274 1338.82 L658.274 1342.76 L636.769 1342.76 L636.769 1308.2 Z\" fill=\"#000000\" fill-rule=\"evenodd\" fill-opacity=\"1\" /><path clip-path=\"url(#clip300)\" d=\"M682.695 1350.63 L682.695 1353.94 L658.065 1353.94 L658.065 1350.63 L682.695 1350.63 Z\" fill=\"#000000\" fill-rule=\"evenodd\" fill-opacity=\"1\" /><path clip-path=\"url(#clip300)\" d=\"M698.482 1329.72 Q693.32 1329.72 691.329 1330.9 Q689.338 1332.08 689.338 1334.93 Q689.338 1337.2 690.82 1338.54 Q692.324 1339.86 694.894 1339.86 Q698.435 1339.86 700.565 1337.36 Q702.718 1334.84 702.718 1330.67 L702.718 1329.72 L698.482 1329.72 M706.977 1327.96 L706.977 1342.76 L702.718 1342.76 L702.718 1338.82 Q701.259 1341.18 699.083 1342.32 Q696.908 1343.43 693.759 1343.43 Q689.778 1343.43 687.417 1341.2 Q685.079 1338.96 685.079 1335.21 Q685.079 1330.83 687.996 1328.61 Q690.935 1326.39 696.746 1326.39 L702.718 1326.39 L702.718 1325.97 Q702.718 1323.03 700.773 1321.44 Q698.852 1319.82 695.357 1319.82 Q693.134 1319.82 691.028 1320.35 Q688.922 1320.88 686.977 1321.95 L686.977 1318.01 Q689.315 1317.11 691.514 1316.67 Q693.713 1316.2 695.796 1316.2 Q701.421 1316.2 704.199 1319.12 Q706.977 1322.04 706.977 1327.96 Z\" fill=\"#000000\" fill-rule=\"evenodd\" fill-opacity=\"1\" /><path clip-path=\"url(#clip300)\" d=\"M715.75 1306.74 L720.009 1306.74 L720.009 1342.76 L715.75 1342.76 L715.75 1306.74 Z\" fill=\"#000000\" fill-rule=\"evenodd\" fill-opacity=\"1\" /><path clip-path=\"url(#clip300)\" d=\"M733.134 1309.47 L733.134 1316.83 L741.907 1316.83 L741.907 1320.14 L733.134 1320.14 L733.134 1334.21 Q733.134 1337.38 733.991 1338.29 Q734.87 1339.19 737.532 1339.19 L741.907 1339.19 L741.907 1342.76 L737.532 1342.76 Q732.602 1342.76 730.727 1340.93 Q728.852 1339.07 728.852 1334.21 L728.852 1320.14 L725.727 1320.14 L725.727 1316.83 L728.852 1316.83 L728.852 1309.47 L733.134 1309.47 Z\" fill=\"#000000\" fill-rule=\"evenodd\" fill-opacity=\"1\" /><path clip-path=\"url(#clip300)\" d=\"M1042.76 1836.83 Q1039.14 1836.83 1037.32 1840.39 Q1035.51 1843.93 1035.51 1851.06 Q1035.51 1858.17 1037.32 1861.73 Q1039.14 1865.27 1042.76 1865.27 Q1046.39 1865.27 1048.2 1861.73 Q1050.02 1858.17 1050.02 1851.06 Q1050.02 1843.93 1048.2 1840.39 Q1046.39 1836.83 1042.76 1836.83 M1042.76 1833.12 Q1048.57 1833.12 1051.62 1837.73 Q1054.7 1842.31 1054.7 1851.06 Q1054.7 1859.79 1051.62 1864.39 Q1048.57 1868.98 1042.76 1868.98 Q1036.95 1868.98 1033.87 1864.39 Q1030.81 1859.79 1030.81 1851.06 Q1030.81 1842.31 1033.87 1837.73 Q1036.95 1833.12 1042.76 1833.12 Z\" fill=\"#0000ff\" fill-rule=\"evenodd\" fill-opacity=\"1\" /><path clip-path=\"url(#clip300)\" d=\"M1062.92 1862.43 L1067.8 1862.43 L1067.8 1868.31 L1062.92 1868.31 L1062.92 1862.43 Z\" fill=\"#0000ff\" fill-rule=\"evenodd\" fill-opacity=\"1\" /><path clip-path=\"url(#clip300)\" d=\"M1092.15 1849.67 Q1095.51 1850.39 1097.39 1852.66 Q1099.28 1854.93 1099.28 1858.26 Q1099.28 1863.38 1095.76 1866.18 Q1092.25 1868.98 1085.76 1868.98 Q1083.59 1868.98 1081.27 1868.54 Q1078.98 1868.12 1076.53 1867.27 L1076.53 1862.75 Q1078.47 1863.89 1080.79 1864.46 Q1083.1 1865.04 1085.63 1865.04 Q1090.02 1865.04 1092.32 1863.31 Q1094.63 1861.57 1094.63 1858.26 Q1094.63 1855.21 1092.48 1853.49 Q1090.35 1851.76 1086.53 1851.76 L1082.5 1851.76 L1082.5 1847.91 L1086.71 1847.91 Q1090.16 1847.91 1091.99 1846.55 Q1093.82 1845.16 1093.82 1842.57 Q1093.82 1839.9 1091.92 1838.49 Q1090.05 1837.06 1086.53 1837.06 Q1084.61 1837.06 1082.41 1837.47 Q1080.21 1837.89 1077.57 1838.77 L1077.57 1834.6 Q1080.23 1833.86 1082.55 1833.49 Q1084.89 1833.12 1086.95 1833.12 Q1092.27 1833.12 1095.37 1835.55 Q1098.47 1837.96 1098.47 1842.08 Q1098.47 1844.95 1096.83 1846.94 Q1095.19 1848.91 1092.15 1849.67 Z\" fill=\"#0000ff\" fill-rule=\"evenodd\" fill-opacity=\"1\" /><path clip-path=\"url(#clip300)\" d=\"M1108.29 1867.59 L1108.29 1863.33 Q1110.05 1864.16 1111.85 1864.6 Q1113.66 1865.04 1115.39 1865.04 Q1120.02 1865.04 1122.45 1861.94 Q1124.91 1858.82 1125.26 1852.47 Q1123.91 1854.46 1121.85 1855.53 Q1119.79 1856.59 1117.29 1856.59 Q1112.11 1856.59 1109.07 1853.47 Q1106.07 1850.32 1106.07 1844.88 Q1106.07 1839.56 1109.21 1836.34 Q1112.36 1833.12 1117.59 1833.12 Q1123.59 1833.12 1126.74 1837.73 Q1129.91 1842.31 1129.91 1851.06 Q1129.91 1859.23 1126.02 1864.12 Q1122.15 1868.98 1115.6 1868.98 Q1113.84 1868.98 1112.04 1868.63 Q1110.23 1868.28 1108.29 1867.59 M1117.59 1852.94 Q1120.74 1852.94 1122.57 1850.78 Q1124.42 1848.63 1124.42 1844.88 Q1124.42 1841.15 1122.57 1839 Q1120.74 1836.83 1117.59 1836.83 Q1114.45 1836.83 1112.59 1839 Q1110.76 1841.15 1110.76 1844.88 Q1110.76 1848.63 1112.59 1850.78 Q1114.45 1852.94 1117.59 1852.94 Z\" fill=\"#0000ff\" fill-rule=\"evenodd\" fill-opacity=\"1\" /><path clip-path=\"url(#clip300)\" d=\"M1142.34 1864.37 L1158.66 1864.37 L1158.66 1868.31 L1136.71 1868.31 L1136.71 1864.37 Q1139.38 1861.62 1143.96 1856.99 Q1148.57 1852.33 1149.75 1850.99 Q1151.99 1848.47 1152.87 1846.73 Q1153.77 1844.97 1153.77 1843.28 Q1153.77 1840.53 1151.83 1838.79 Q1149.91 1837.06 1146.81 1837.06 Q1144.61 1837.06 1142.15 1837.82 Q1139.72 1838.58 1136.95 1840.14 L1136.95 1835.41 Q1139.77 1834.28 1142.22 1833.7 Q1144.68 1833.12 1146.71 1833.12 Q1152.08 1833.12 1155.28 1835.81 Q1158.47 1838.49 1158.47 1842.98 Q1158.47 1845.11 1157.66 1847.03 Q1156.88 1848.93 1154.77 1851.52 Q1154.19 1852.2 1151.09 1855.41 Q1147.99 1858.61 1142.34 1864.37 Z\" fill=\"#0000ff\" fill-rule=\"evenodd\" fill-opacity=\"1\" /><path clip-path=\"url(#clip300)\" d=\"M1080.99 1751.25 Q1077.38 1751.25 1075.55 1754.82 Q1073.75 1758.36 1073.75 1765.49 Q1073.75 1772.59 1075.55 1776.16 Q1077.38 1779.7 1080.99 1779.7 Q1084.63 1779.7 1086.43 1776.16 Q1088.26 1772.59 1088.26 1765.49 Q1088.26 1758.36 1086.43 1754.82 Q1084.63 1751.25 1080.99 1751.25 M1080.99 1747.55 Q1086.8 1747.55 1089.86 1752.15 Q1092.94 1756.74 1092.94 1765.49 Q1092.94 1774.21 1089.86 1778.82 Q1086.8 1783.4 1080.99 1783.4 Q1075.18 1783.4 1072.1 1778.82 Q1069.05 1774.21 1069.05 1765.49 Q1069.05 1756.74 1072.1 1752.15 Q1075.18 1747.55 1080.99 1747.55 Z\" fill=\"#ff0000\" fill-rule=\"evenodd\" fill-opacity=\"1\" /><path clip-path=\"url(#clip300)\" d=\"M1101.16 1776.85 L1106.04 1776.85 L1106.04 1782.73 L1101.16 1782.73 L1101.16 1776.85 Z\" fill=\"#ff0000\" fill-rule=\"evenodd\" fill-opacity=\"1\" /><path clip-path=\"url(#clip300)\" d=\"M1129.07 1752.25 L1117.27 1770.69 L1129.07 1770.69 L1129.07 1752.25 M1127.85 1748.17 L1133.72 1748.17 L1133.72 1770.69 L1138.66 1770.69 L1138.66 1774.58 L1133.72 1774.58 L1133.72 1782.73 L1129.07 1782.73 L1129.07 1774.58 L1113.47 1774.58 L1113.47 1770.07 L1127.85 1748.17 Z\" fill=\"#ff0000\" fill-rule=\"evenodd\" fill-opacity=\"1\" /><path clip-path=\"url(#clip300)\" d=\"M1147.2 1778.8 L1154.84 1778.8 L1154.84 1752.43 L1146.53 1754.1 L1146.53 1749.84 L1154.79 1748.17 L1159.47 1748.17 L1159.47 1778.8 L1167.1 1778.8 L1167.1 1782.73 L1147.2 1782.73 L1147.2 1778.8 Z\" fill=\"#ff0000\" fill-rule=\"evenodd\" fill-opacity=\"1\" /><path clip-path=\"url(#clip300)\" d=\"M1180.58 1778.8 L1196.9 1778.8 L1196.9 1782.73 L1174.95 1782.73 L1174.95 1778.8 Q1177.61 1776.04 1182.2 1771.41 Q1186.8 1766.76 1187.98 1765.42 Q1190.23 1762.89 1191.11 1761.16 Q1192.01 1759.4 1192.01 1757.71 Q1192.01 1754.95 1190.07 1753.22 Q1188.15 1751.48 1185.04 1751.48 Q1182.84 1751.48 1180.39 1752.25 Q1177.96 1753.01 1175.18 1754.56 L1175.18 1749.84 Q1178.01 1748.7 1180.46 1748.13 Q1182.91 1747.55 1184.95 1747.55 Q1190.32 1747.55 1193.52 1750.23 Q1196.71 1752.92 1196.71 1757.41 Q1196.71 1759.54 1195.9 1761.46 Q1195.11 1763.36 1193.01 1765.95 Q1192.43 1766.62 1189.33 1769.84 Q1186.22 1773.03 1180.58 1778.8 Z\" fill=\"#ff0000\" fill-rule=\"evenodd\" fill-opacity=\"1\" /></svg>\n"
      ]
     },
     "execution_count": 335,
     "metadata": {},
     "output_type": "execute_result"
    }
   ],
   "source": [
    "plotLL(reshape(omics_pheno_processed[:, 832], :, 1), omics_geno_processed, ones(n, 1), omics_kinship, fine_grid, 12; reml = true, x_lims = [0.0, 1.0], y_lims = [90.0, 100.0])"
   ]
  },
  {
   "cell_type": "code",
   "execution_count": 317,
   "id": "7f5d255f-1860-4cb3-bad7-2574662e63e1",
   "metadata": {},
   "outputs": [
    {
     "data": {
      "text/plain": [
       "(ll_list_null = [90.82489858261012], ll_list_alt = [90.18466579096604])"
      ]
     },
     "execution_count": 317,
     "metadata": {},
     "output_type": "execute_result"
    }
   ],
   "source": [
    "profileLL(reshape(omics_pheno_processed[:, 832], :, 1), omics_geno_processed, ones(n, 1), omics_kinship, [0.999999999999], 12; reml = true)"
   ]
  },
  {
   "cell_type": "markdown",
   "id": "ca2b62c6-653d-436d-9c1e-103c57d8afe8",
   "metadata": {},
   "source": [
    "## To run later..."
   ]
  },
  {
   "cell_type": "code",
   "execution_count": 83,
   "id": "5cad49d6-a471-4c8d-a215-53e395f44f18",
   "metadata": {},
   "outputs": [
    {
     "data": {
      "text/plain": [
       "2-element Vector{Float64}:\n",
       " 0.0\n",
       " 0.99"
      ]
     },
     "execution_count": 83,
     "metadata": {},
     "output_type": "execute_result"
    }
   ],
   "source": [
    "grid_loose = [0.0, 0.99]"
   ]
  },
  {
   "cell_type": "code",
   "execution_count": 257,
   "id": "3482f256-0442-4966-b270-3cefc253b7e5",
   "metadata": {},
   "outputs": [],
   "source": [
    "# @time single_trait_na_bulklmm10 = scan(reshape(omics_pheno_processed[:, 832], :, 1), omics_geno_processed, omics_kinship; assumption = \"alt\", optim_interval = 4);"
   ]
  },
  {
   "cell_type": "code",
   "execution_count": 84,
   "id": "d049559a-8ecd-4238-aa83-ece7d7deb404",
   "metadata": {},
   "outputs": [],
   "source": [
    "# t_alt_grid20 = @elapsed bulkscan_alt_grid_results = bulkscan_alt_grid(omics_pheno_processed, omics_geno_processed, omics_kinship, grid_loose);"
   ]
  },
  {
   "cell_type": "code",
   "execution_count": null,
   "id": "8fe218fc-89c1-49ca-ae12-d7ec38100718",
   "metadata": {},
   "outputs": [],
   "source": []
  }
 ],
 "metadata": {
  "kernelspec": {
   "display_name": "Julia 16 Threads 1.7.3",
   "language": "julia",
   "name": "julia-16-threads-1.7"
  },
  "language_info": {
   "file_extension": ".jl",
   "mimetype": "application/julia",
   "name": "julia",
   "version": "1.7.3"
  }
 },
 "nbformat": 4,
 "nbformat_minor": 5
}
