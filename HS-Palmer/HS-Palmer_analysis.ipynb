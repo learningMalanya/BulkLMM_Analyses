{
 "cells": [
  {
   "cell_type": "markdown",
   "id": "51c2201e-03ce-402f-b050-dcfabf1e53bf",
   "metadata": {},
   "source": [
    "## HS-Palmer omics traits analysis："
   ]
  },
  {
   "cell_type": "markdown",
   "id": "4a0da862-2c5c-48a4-ab15-dab1b01134b3",
   "metadata": {},
   "source": [
    "This notebook explains the process for obtaining and pre-processing omics mean genotype data of HS Rats used for downstream association studies."
   ]
  },
  {
   "cell_type": "code",
   "execution_count": 1,
   "id": "c1d83064-7cd9-4d4d-98cf-8983e6e24e43",
   "metadata": {},
   "outputs": [
    {
     "data": {
      "text/plain": [
       "\"/home/zyu20/git/BulkLMM_Analyses/HS-Palmer\""
      ]
     },
     "execution_count": 1,
     "metadata": {},
     "output_type": "execute_result"
    }
   ],
   "source": [
    "pwd()"
   ]
  },
  {
   "cell_type": "markdown",
   "id": "9ea166ce-65dd-46ce-926f-71db5c91cc48",
   "metadata": {
    "tags": []
   },
   "source": [
    "## Preworks:"
   ]
  },
  {
   "cell_type": "code",
   "execution_count": 2,
   "id": "836aae6b-6a3b-4ef4-a620-b1608301f0d7",
   "metadata": {},
   "outputs": [],
   "source": [
    "using CSV, DelimitedFiles, DataFrames, Missings, XLSX\n",
    "using LinearAlgebra, Statistics, Optim, StatsBase\n",
    "using Random, Distributions\n",
    "using BenchmarkTools\n",
    "using Plots"
   ]
  },
  {
   "cell_type": "markdown",
   "id": "fb693d6a-76a0-4c29-a57a-e67b06579aa9",
   "metadata": {
    "tags": []
   },
   "source": [
    "### Load omics traits and convert to array:"
   ]
  },
  {
   "cell_type": "code",
   "execution_count": 3,
   "id": "1227f4b7-61a3-4ea3-b67e-412acfbf5e2a",
   "metadata": {},
   "outputs": [
    {
     "name": "stdout",
     "output_type": "stream",
     "text": [
      " 12.943680 seconds (7.46 M allocations: 427.961 MiB, 0.88% gc time, 90.03% compilation time)\n"
     ]
    }
   ],
   "source": [
    "@time omics_pheno_df = CSV.read(\"/home/zyu20/shareddata/HSNIH-Palmer/HSNIH-Rat-PL-RSeq-0818_nomissing.csv\", DataFrame);"
   ]
  },
  {
   "cell_type": "markdown",
   "id": "527315b4-e2e0-46e2-aac8-b2aaf9c499a4",
   "metadata": {},
   "source": [
    "After removing missings the traits data have 32624 traits on 80 samples:"
   ]
  },
  {
   "cell_type": "code",
   "execution_count": 4,
   "id": "6a70f59a-6242-4444-8566-f736274bd99e",
   "metadata": {},
   "outputs": [
    {
     "data": {
      "text/plain": [
       "(80, 32624)"
      ]
     },
     "execution_count": 4,
     "metadata": {},
     "output_type": "execute_result"
    }
   ],
   "source": [
    "size(omics_pheno_df)"
   ]
  },
  {
   "cell_type": "code",
   "execution_count": 5,
   "id": "89bb8c6c-00fb-40f1-b505-626dd0f29b18",
   "metadata": {},
   "outputs": [
    {
     "data": {
      "text/html": [
       "<div><div style = \"float: left;\"><span>10×10 DataFrame</span></div><div style = \"clear: both;\"></div></div><div class = \"data-frame\" style = \"overflow-x: scroll;\"><table class = \"data-frame\" style = \"margin-bottom: 6px;\"><thead><tr class = \"header\"><th class = \"rowNumber\" style = \"font-weight: bold; text-align: right;\">Row</th><th style = \"text-align: left;\">id</th><th style = \"text-align: left;\">ENSRNOG00000000001</th><th style = \"text-align: left;\">ENSRNOG00000000007</th><th style = \"text-align: left;\">ENSRNOG00000000008</th><th style = \"text-align: left;\">ENSRNOG00000000009</th><th style = \"text-align: left;\">ENSRNOG00000000010</th><th style = \"text-align: left;\">ENSRNOG00000000012</th><th style = \"text-align: left;\">ENSRNOG00000000017</th><th style = \"text-align: left;\">ENSRNOG00000000021</th><th style = \"text-align: left;\">ENSRNOG00000000024</th></tr><tr class = \"subheader headerLastRow\"><th class = \"rowNumber\" style = \"font-weight: bold; text-align: right;\"></th><th title = \"String15\" style = \"text-align: left;\">String15</th><th title = \"Float64\" style = \"text-align: left;\">Float64</th><th title = \"Float64\" style = \"text-align: left;\">Float64</th><th title = \"Float64\" style = \"text-align: left;\">Float64</th><th title = \"Float64\" style = \"text-align: left;\">Float64</th><th title = \"Float64\" style = \"text-align: left;\">Float64</th><th title = \"Float64\" style = \"text-align: left;\">Float64</th><th title = \"Float64\" style = \"text-align: left;\">Float64</th><th title = \"Float64\" style = \"text-align: left;\">Float64</th><th title = \"Float64\" style = \"text-align: left;\">Float64</th></tr></thead><tbody><tr><td class = \"rowNumber\" style = \"font-weight: bold; text-align: right;\">1</td><td style = \"text-align: left;\">00077E67B5</td><td style = \"text-align: right;\">3.6379</td><td style = \"text-align: right;\">11.9384</td><td style = \"text-align: right;\">1.5656</td><td style = \"text-align: right;\">0.142</td><td style = \"text-align: right;\">8.1366</td><td style = \"text-align: right;\">4.2163</td><td style = \"text-align: right;\">2.9092</td><td style = \"text-align: right;\">7.6822</td><td style = \"text-align: right;\">9.5078</td></tr><tr><td class = \"rowNumber\" style = \"font-weight: bold; text-align: right;\">2</td><td style = \"text-align: left;\">00077E76FE</td><td style = \"text-align: right;\">3.7742</td><td style = \"text-align: right;\">11.9253</td><td style = \"text-align: right;\">1.5245</td><td style = \"text-align: right;\">-0.068</td><td style = \"text-align: right;\">8.2848</td><td style = \"text-align: right;\">4.663</td><td style = \"text-align: right;\">2.8339</td><td style = \"text-align: right;\">7.8128</td><td style = \"text-align: right;\">9.5016</td></tr><tr><td class = \"rowNumber\" style = \"font-weight: bold; text-align: right;\">3</td><td style = \"text-align: left;\">00077E8336</td><td style = \"text-align: right;\">3.554</td><td style = \"text-align: right;\">12.2001</td><td style = \"text-align: right;\">1.3987</td><td style = \"text-align: right;\">-0.0679</td><td style = \"text-align: right;\">8.1853</td><td style = \"text-align: right;\">4.5741</td><td style = \"text-align: right;\">2.5846</td><td style = \"text-align: right;\">7.705</td><td style = \"text-align: right;\">9.4759</td></tr><tr><td class = \"rowNumber\" style = \"font-weight: bold; text-align: right;\">4</td><td style = \"text-align: left;\">00077EA7E6</td><td style = \"text-align: right;\">3.3301</td><td style = \"text-align: right;\">11.9553</td><td style = \"text-align: right;\">1.6367</td><td style = \"text-align: right;\">-0.0218</td><td style = \"text-align: right;\">8.066</td><td style = \"text-align: right;\">4.4902</td><td style = \"text-align: right;\">2.5845</td><td style = \"text-align: right;\">7.6575</td><td style = \"text-align: right;\">9.3513</td></tr><tr><td class = \"rowNumber\" style = \"font-weight: bold; text-align: right;\">5</td><td style = \"text-align: left;\">00078A0224</td><td style = \"text-align: right;\">3.5547</td><td style = \"text-align: right;\">12.0272</td><td style = \"text-align: right;\">1.5649</td><td style = \"text-align: right;\">-0.0217</td><td style = \"text-align: right;\">8.3169</td><td style = \"text-align: right;\">4.5341</td><td style = \"text-align: right;\">2.6773</td><td style = \"text-align: right;\">7.8402</td><td style = \"text-align: right;\">9.3225</td></tr><tr><td class = \"rowNumber\" style = \"font-weight: bold; text-align: right;\">6</td><td style = \"text-align: left;\">00078A02CB</td><td style = \"text-align: right;\">3.8215</td><td style = \"text-align: right;\">12.0395</td><td style = \"text-align: right;\">1.3515</td><td style = \"text-align: right;\">-0.0679</td><td style = \"text-align: right;\">8.3208</td><td style = \"text-align: right;\">4.5923</td><td style = \"text-align: right;\">2.6765</td><td style = \"text-align: right;\">7.6363</td><td style = \"text-align: right;\">9.4791</td></tr><tr><td class = \"rowNumber\" style = \"font-weight: bold; text-align: right;\">7</td><td style = \"text-align: left;\">00078A0A43</td><td style = \"text-align: right;\">3.6407</td><td style = \"text-align: right;\">12.0575</td><td style = \"text-align: right;\">1.4871</td><td style = \"text-align: right;\">-0.0678</td><td style = \"text-align: right;\">8.2847</td><td style = \"text-align: right;\">4.6763</td><td style = \"text-align: right;\">2.7223</td><td style = \"text-align: right;\">7.7997</td><td style = \"text-align: right;\">9.4048</td></tr><tr><td class = \"rowNumber\" style = \"font-weight: bold; text-align: right;\">8</td><td style = \"text-align: left;\">00078A18A7</td><td style = \"text-align: right;\">3.6343</td><td style = \"text-align: right;\">12.0777</td><td style = \"text-align: right;\">1.4854</td><td style = \"text-align: right;\">-0.0679</td><td style = \"text-align: right;\">8.0468</td><td style = \"text-align: right;\">4.7543</td><td style = \"text-align: right;\">2.7599</td><td style = \"text-align: right;\">7.8119</td><td style = \"text-align: right;\">9.3522</td></tr><tr><td class = \"rowNumber\" style = \"font-weight: bold; text-align: right;\">9</td><td style = \"text-align: left;\">00078A193E</td><td style = \"text-align: right;\">3.6807</td><td style = \"text-align: right;\">12.1188</td><td style = \"text-align: right;\">1.5244</td><td style = \"text-align: right;\">-0.068</td><td style = \"text-align: right;\">8.1551</td><td style = \"text-align: right;\">4.8433</td><td style = \"text-align: right;\">2.7173</td><td style = \"text-align: right;\">7.9472</td><td style = \"text-align: right;\">9.2675</td></tr><tr><td class = \"rowNumber\" style = \"font-weight: bold; text-align: right;\">10</td><td style = \"text-align: left;\">00078A19A7</td><td style = \"text-align: right;\">3.8224</td><td style = \"text-align: right;\">12.0631</td><td style = \"text-align: right;\">1.3515</td><td style = \"text-align: right;\">-0.0679</td><td style = \"text-align: right;\">8.4357</td><td style = \"text-align: right;\">4.5116</td><td style = \"text-align: right;\">2.5344</td><td style = \"text-align: right;\">7.7446</td><td style = \"text-align: right;\">9.3388</td></tr></tbody></table></div>"
      ],
      "text/latex": [
       "\\begin{tabular}{r|cccccc}\n",
       "\t& id & ENSRNOG00000000001 & ENSRNOG00000000007 & ENSRNOG00000000008 & ENSRNOG00000000009 & \\\\\n",
       "\t\\hline\n",
       "\t& String15 & Float64 & Float64 & Float64 & Float64 & \\\\\n",
       "\t\\hline\n",
       "\t1 & 00077E67B5 & 3.6379 & 11.9384 & 1.5656 & 0.142 & $\\dots$ \\\\\n",
       "\t2 & 00077E76FE & 3.7742 & 11.9253 & 1.5245 & -0.068 & $\\dots$ \\\\\n",
       "\t3 & 00077E8336 & 3.554 & 12.2001 & 1.3987 & -0.0679 & $\\dots$ \\\\\n",
       "\t4 & 00077EA7E6 & 3.3301 & 11.9553 & 1.6367 & -0.0218 & $\\dots$ \\\\\n",
       "\t5 & 00078A0224 & 3.5547 & 12.0272 & 1.5649 & -0.0217 & $\\dots$ \\\\\n",
       "\t6 & 00078A02CB & 3.8215 & 12.0395 & 1.3515 & -0.0679 & $\\dots$ \\\\\n",
       "\t7 & 00078A0A43 & 3.6407 & 12.0575 & 1.4871 & -0.0678 & $\\dots$ \\\\\n",
       "\t8 & 00078A18A7 & 3.6343 & 12.0777 & 1.4854 & -0.0679 & $\\dots$ \\\\\n",
       "\t9 & 00078A193E & 3.6807 & 12.1188 & 1.5244 & -0.068 & $\\dots$ \\\\\n",
       "\t10 & 00078A19A7 & 3.8224 & 12.0631 & 1.3515 & -0.0679 & $\\dots$ \\\\\n",
       "\\end{tabular}\n"
      ],
      "text/plain": [
       "\u001b[1m10×10 DataFrame\u001b[0m\n",
       "\u001b[1m Row \u001b[0m│\u001b[1m id         \u001b[0m\u001b[1m ENSRNOG00000000001 \u001b[0m\u001b[1m ENSRNOG00000000007 \u001b[0m\u001b[1m ENSRNOG00000000008 \u001b[0m\u001b[1m\u001b[0m ⋯\n",
       "     │\u001b[90m String15   \u001b[0m\u001b[90m Float64            \u001b[0m\u001b[90m Float64            \u001b[0m\u001b[90m Float64            \u001b[0m\u001b[90m\u001b[0m ⋯\n",
       "─────┼──────────────────────────────────────────────────────────────────────────\n",
       "   1 │ 00077E67B5              3.6379             11.9384              1.5656  ⋯\n",
       "   2 │ 00077E76FE              3.7742             11.9253              1.5245\n",
       "   3 │ 00077E8336              3.554              12.2001              1.3987\n",
       "   4 │ 00077EA7E6              3.3301             11.9553              1.6367\n",
       "   5 │ 00078A0224              3.5547             12.0272              1.5649  ⋯\n",
       "   6 │ 00078A02CB              3.8215             12.0395              1.3515\n",
       "   7 │ 00078A0A43              3.6407             12.0575              1.4871\n",
       "   8 │ 00078A18A7              3.6343             12.0777              1.4854\n",
       "   9 │ 00078A193E              3.6807             12.1188              1.5244  ⋯\n",
       "  10 │ 00078A19A7              3.8224             12.0631              1.3515\n",
       "\u001b[36m                                                               6 columns omitted\u001b[0m"
      ]
     },
     "execution_count": 5,
     "metadata": {},
     "output_type": "execute_result"
    }
   ],
   "source": [
    "omics_pheno_df[1:10, 1:10]"
   ]
  },
  {
   "cell_type": "markdown",
   "id": "4ba19b60-3839-4f5d-b71c-43a3a1f5d211",
   "metadata": {},
   "source": [
    "Column names are the names of the omics:"
   ]
  },
  {
   "cell_type": "code",
   "execution_count": 6,
   "id": "f1e84911-af98-404e-83ad-41a35dbd0225",
   "metadata": {},
   "outputs": [
    {
     "data": {
      "text/plain": [
       "6-element Vector{String}:\n",
       " \"id\"\n",
       " \"ENSRNOG00000000001\"\n",
       " \"ENSRNOG00000000007\"\n",
       " \"ENSRNOG00000000008\"\n",
       " \"ENSRNOG00000000009\"\n",
       " \"ENSRNOG00000000010\""
      ]
     },
     "execution_count": 6,
     "metadata": {},
     "output_type": "execute_result"
    }
   ],
   "source": [
    "names(omics_pheno_df)[1:6]"
   ]
  },
  {
   "cell_type": "markdown",
   "id": "f8b81aff-0802-4e8a-9eac-57f2836130e4",
   "metadata": {},
   "source": [
    "Row names are the ID's of the samples. Obtaining sample id's for the samples of the omics traits..."
   ]
  },
  {
   "cell_type": "code",
   "execution_count": 7,
   "id": "93187a31-c8bf-43e8-bb4c-7dadf3b3adf9",
   "metadata": {},
   "outputs": [],
   "source": [
    "sample_ids = omics_pheno_df[:, 1];"
   ]
  },
  {
   "cell_type": "markdown",
   "id": "66e35a2a-c5aa-4d48-827f-41704df43617",
   "metadata": {},
   "source": [
    "Get the numeric array of the traits data..."
   ]
  },
  {
   "cell_type": "markdown",
   "id": "24450785-1a4b-42cd-abf7-cbb2b1c8a9e6",
   "metadata": {},
   "source": [
    "#### “0.0” observations for all samples at some traits: "
   ]
  },
  {
   "cell_type": "code",
   "execution_count": 8,
   "id": "cc54bd1e-6b62-4a17-b3a2-856855f243bc",
   "metadata": {},
   "outputs": [
    {
     "data": {
      "text/plain": [
       "80×32623 Matrix{Float64}:\n",
       " 3.6379  11.9384  1.5656   0.142   …  0.0  0.0  0.0  0.0  0.0  0.0  0.0\n",
       " 3.7742  11.9253  1.5245  -0.068      0.0  0.0  0.0  0.0  0.0  0.0  0.0\n",
       " 3.554   12.2001  1.3987  -0.0679     0.0  0.0  0.0  0.0  0.0  0.0  0.0\n",
       " 3.3301  11.9553  1.6367  -0.0218     0.0  0.0  0.0  0.0  0.0  0.0  0.0\n",
       " 3.5547  12.0272  1.5649  -0.0217     0.0  0.0  0.0  0.0  0.0  0.0  0.0\n",
       " 3.8215  12.0395  1.3515  -0.0679  …  0.0  0.0  0.0  0.0  0.0  0.0  0.0\n",
       " 3.6407  12.0575  1.4871  -0.0678     0.0  0.0  0.0  0.0  0.0  0.0  0.0\n",
       " 3.6343  12.0777  1.4854  -0.0679     0.0  0.0  0.0  0.0  0.0  0.0  0.0\n",
       " 3.6807  12.1188  1.5244  -0.068      0.0  0.0  0.0  0.0  0.0  0.0  0.0\n",
       " 3.8224  12.0631  1.3515  -0.0679     0.0  0.0  0.0  0.0  0.0  0.0  0.0\n",
       " 3.6883  12.1836  1.8251  -0.0679  …  0.0  0.0  0.0  0.0  0.0  0.0  0.0\n",
       " 3.4971  12.1465  1.3516  -0.0679     0.0  0.0  0.0  0.0  0.0  0.0  0.0\n",
       " 3.6853  11.9484  1.4855  -0.0218     0.0  0.0  0.0  0.0  0.0  0.0  0.0\n",
       " ⋮                                 ⋱                      ⋮         \n",
       " 3.3328  12.2769  1.4867  -0.0678     0.0  0.0  0.0  0.0  0.0  0.0  0.0\n",
       " 3.688   12.3448  1.3989  -0.0216     0.0  0.0  0.0  0.0  0.0  0.0  0.0\n",
       " 3.3988  12.1492  1.3515  -0.0679  …  0.0  0.0  0.0  0.0  0.0  0.0  0.0\n",
       " 3.7564  12.148   1.6366   0.0219     0.0  0.0  0.0  0.0  0.0  0.0  0.0\n",
       " 3.5502  12.2025  1.5246   0.0212     0.0  0.0  0.0  0.0  0.0  0.0  0.0\n",
       " 3.5294  12.3803  1.7064  -0.0678     0.0  0.0  0.0  0.0  0.0  0.0  0.0\n",
       " 3.9482  12.0883  1.4442  -0.0213     0.0  0.0  0.0  0.0  0.0  0.0  0.0\n",
       " 3.6431  12.3651  1.3996  -0.0678  …  0.0  0.0  0.0  0.0  0.0  0.0  0.0\n",
       " 3.6125  12.2653  1.3517   0.0226     0.0  0.0  0.0  0.0  0.0  0.0  0.0\n",
       " 3.4008  12.3984  1.4859  -0.0217     0.0  0.0  0.0  0.0  0.0  0.0  0.0\n",
       " 3.7062  12.2712  1.763   -0.0679     0.0  0.0  0.0  0.0  0.0  0.0  0.0\n",
       " 3.7628  12.3947  1.5667  -0.0678     0.0  0.0  0.0  0.0  0.0  0.0  0.0"
      ]
     },
     "execution_count": 8,
     "metadata": {},
     "output_type": "execute_result"
    }
   ],
   "source": [
    "omics_pheno = omics_pheno_df[:, 2:end] |> Matrix{Float64};\n",
    "omics_pheno[:, :]"
   ]
  },
  {
   "cell_type": "markdown",
   "id": "04a2e8f3-87f3-4a86-9667-f03606c8d75c",
   "metadata": {},
   "source": [
    "Notice that there are some traits with all 0.0 values. Remove missings or columns of all 0's..."
   ]
  },
  {
   "cell_type": "code",
   "execution_count": 9,
   "id": "8b0578cb-b1b3-440b-935a-3f22f433d8c5",
   "metadata": {},
   "outputs": [],
   "source": [
    "no_value_traits = vec(sum(abs.(omics_pheno), dims = 1) .== 0.0);"
   ]
  },
  {
   "cell_type": "code",
   "execution_count": 10,
   "id": "43970297-7bc5-4edc-b60c-3fc6643a5016",
   "metadata": {},
   "outputs": [],
   "source": [
    "omics_pheno_processed = omics_pheno[:, map(x -> x .== 0.0, no_value_traits)];"
   ]
  },
  {
   "cell_type": "code",
   "execution_count": 11,
   "id": "3c2056b7-9b3e-493e-885c-15a9e5079af3",
   "metadata": {},
   "outputs": [
    {
     "data": {
      "text/plain": [
       "(80, 18416)"
      ]
     },
     "execution_count": 11,
     "metadata": {},
     "output_type": "execute_result"
    }
   ],
   "source": [
    "size(omics_pheno_processed)"
   ]
  },
  {
   "cell_type": "markdown",
   "id": "ca60cbfe-9ecd-4079-b631-aa3786cf4316",
   "metadata": {},
   "source": [
    "The processed traits data after removing potentially missing values have 18416 traits."
   ]
  },
  {
   "cell_type": "markdown",
   "id": "969a0e73-5d18-4f18-9884-217070b25812",
   "metadata": {
    "tags": []
   },
   "source": [
    "### Load omics genotype data and convert to array:"
   ]
  },
  {
   "cell_type": "markdown",
   "id": "1c6541f9-7132-4af3-b3a2-03f3bd9ebf73",
   "metadata": {},
   "source": [
    "The genotyped data has been through the pre-processing of filtering out observations for samples that are not phenotyped, and removing missing values...the processes are detailed in the notebook `process_omics_geno.ipynb`."
   ]
  },
  {
   "cell_type": "code",
   "execution_count": 12,
   "id": "a19fa44d-e508-4558-aa40-c1189c8f02a6",
   "metadata": {},
   "outputs": [
    {
     "name": "stdout",
     "output_type": "stream",
     "text": [
      "  2.405879 seconds (7.15 M allocations: 444.518 MiB, 97.06% compilation time)\n"
     ]
    }
   ],
   "source": [
    "@time omics_geno_df = CSV.read(\"/home/zyu20/shareddata/HSNIH-Palmer/HSNIH-Palmer_true_omics_geno_nomissing.csv\", DataFrame);"
   ]
  },
  {
   "cell_type": "code",
   "execution_count": 13,
   "id": "15f2c064-7396-4abe-b5b5-90475ef60c2a",
   "metadata": {},
   "outputs": [
    {
     "data": {
      "text/html": [
       "<div><div style = \"float: left;\"><span>134681×84 DataFrame</span></div><div style = \"float: right;\"><span style = \"font-style: italic;\">134656 rows omitted</span></div><div style = \"clear: both;\"></div></div><div class = \"data-frame\" style = \"overflow-x: scroll;\"><table class = \"data-frame\" style = \"margin-bottom: 6px;\"><thead><tr class = \"header\"><th class = \"rowNumber\" style = \"font-weight: bold; text-align: right;\">Row</th><th style = \"text-align: left;\">Chr</th><th style = \"text-align: left;\">Locus</th><th style = \"text-align: left;\">cM</th><th style = \"text-align: left;\">Mb</th><th style = \"text-align: left;\">00077E67B5</th><th style = \"text-align: left;\">00077E76FE</th><th style = \"text-align: left;\">00077E8336</th><th style = \"text-align: left;\">00077EA7E6</th><th style = \"text-align: left;\">00078A002C</th><th style = \"text-align: left;\">00078A0041</th><th style = \"text-align: left;\">00078A0058</th><th style = \"text-align: left;\">00078A0085</th><th style = \"text-align: left;\">00078A00AC</th><th style = \"text-align: left;\">00078A00BF</th><th style = \"text-align: left;\">00078A01A6</th><th style = \"text-align: left;\">00078A01C0</th><th style = \"text-align: left;\">00078A01D8</th><th style = \"text-align: left;\">00078A01DB</th><th style = \"text-align: left;\">00078A01FE</th><th style = \"text-align: left;\">00078A02CB</th><th style = \"text-align: left;\">00078A02DF</th><th style = \"text-align: left;\">00078A07A2</th><th style = \"text-align: left;\">00078A09B1</th><th style = \"text-align: left;\">00078A021A</th><th style = \"text-align: left;\">00078A022D</th><th style = \"text-align: left;\">00078A087B</th><th style = \"text-align: left;\">00078A096C</th><th style = \"text-align: left;\">00078A0127</th><th style = \"text-align: left;\">00078A0138</th><th style = \"text-align: left;\">00078A0139</th><th style = \"text-align: left;\">00078A0166</th><th style = \"text-align: left;\">00078A0215</th><th style = \"text-align: left;\">00078A0224</th><th style = \"text-align: left;\">00078A0246</th><th style = \"text-align: left;\">00078A0255</th><th style = \"text-align: left;\">00078A0A43</th><th style = \"text-align: left;\">00078A0AEA</th><th style = \"text-align: left;\">00078A1A2B</th><th style = \"text-align: left;\">00078A1A16</th><th style = \"text-align: left;\">00078A1B05</th><th style = \"text-align: left;\">00078A1F34</th><th style = \"text-align: left;\">00078A16D3</th><th style = \"text-align: left;\">00078A16DF</th><th style = \"text-align: left;\">00078A17F7</th><th style = \"text-align: left;\">00078A18A7</th><th style = \"text-align: left;\">00078A18CF</th><th style = \"text-align: left;\">00078A18F7</th><th style = \"text-align: left;\">00078A19A7</th><th style = \"text-align: left;\">00078A19B5</th><th style = \"text-align: left;\">00078A19C0</th><th style = \"text-align: left;\">00078A19D6</th><th style = \"text-align: left;\">00078A22DF</th><th style = \"text-align: left;\">00078A22EB</th><th style = \"text-align: left;\">00078A179C</th><th style = \"text-align: left;\">00078A181B</th><th style = \"text-align: left;\">00078A186C</th><th style = \"text-align: left;\">00078A192C</th><th style = \"text-align: left;\">00078A193E</th><th style = \"text-align: left;\">00078A194B</th><th style = \"text-align: left;\">00078A261F</th><th style = \"text-align: left;\">00078A1707</th><th style = \"text-align: left;\">00078A1731</th><th style = \"text-align: left;\">00078A1732</th><th style = \"text-align: left;\">00078A1772</th><th style = \"text-align: left;\">00078A1807</th><th style = \"text-align: left;\">00078A1816</th><th style = \"text-align: left;\">00078A1837</th><th style = \"text-align: left;\">00078A1863</th><th style = \"text-align: left;\">00078A1875</th><th style = \"text-align: left;\">00078A1937</th><th style = \"text-align: left;\">00078A1942</th><th style = \"text-align: left;\">00078A1979</th><th style = \"text-align: left;\">00078A2315</th><th style = \"text-align: left;\">00078A2463</th><th style = \"text-align: left;\">00078A2496</th><th style = \"text-align: left;\">00078A2595</th><th style = \"text-align: left;\">00078A2667</th><th style = \"text-align: left;\">000789FF6E</th><th style = \"text-align: left;\">000789FF7D</th><th style = \"text-align: left;\">000789FF94</th><th style = \"text-align: left;\">000789FFD3</th><th style = \"text-align: left;\">000789FFF0</th><th style = \"text-align: left;\">000789FFF8</th><th style = \"text-align: left;\">000789FFF9</th></tr><tr class = \"subheader headerLastRow\"><th class = \"rowNumber\" style = \"font-weight: bold; text-align: right;\"></th><th title = \"Int64\" style = \"text-align: left;\">Int64</th><th title = \"String15\" style = \"text-align: left;\">String15</th><th title = \"Float64\" style = \"text-align: left;\">Float64</th><th title = \"Float64\" style = \"text-align: left;\">Float64</th><th title = \"Float64\" style = \"text-align: left;\">Float64</th><th title = \"Float64\" style = \"text-align: left;\">Float64</th><th title = \"Float64\" style = \"text-align: left;\">Float64</th><th title = \"Float64\" style = \"text-align: left;\">Float64</th><th title = \"Float64\" style = \"text-align: left;\">Float64</th><th title = \"Float64\" style = \"text-align: left;\">Float64</th><th title = \"Float64\" style = \"text-align: left;\">Float64</th><th title = \"Float64\" style = \"text-align: left;\">Float64</th><th title = \"Float64\" style = \"text-align: left;\">Float64</th><th title = \"Float64\" style = \"text-align: left;\">Float64</th><th title = \"Float64\" style = \"text-align: left;\">Float64</th><th title = \"Float64\" style = \"text-align: left;\">Float64</th><th title = \"Float64\" style = \"text-align: left;\">Float64</th><th title = \"Float64\" style = \"text-align: left;\">Float64</th><th title = \"Float64\" style = \"text-align: left;\">Float64</th><th title = \"Float64\" style = \"text-align: left;\">Float64</th><th title = \"Float64\" style = \"text-align: left;\">Float64</th><th title = \"Float64\" style = \"text-align: left;\">Float64</th><th title = \"Float64\" style = \"text-align: left;\">Float64</th><th title = \"Float64\" style = \"text-align: left;\">Float64</th><th title = \"Float64\" style = \"text-align: left;\">Float64</th><th title = \"Float64\" style = \"text-align: left;\">Float64</th><th title = \"Float64\" style = \"text-align: left;\">Float64</th><th title = \"Float64\" style = \"text-align: left;\">Float64</th><th title = \"Float64\" style = \"text-align: left;\">Float64</th><th title = \"Float64\" style = \"text-align: left;\">Float64</th><th title = \"Float64\" style = \"text-align: left;\">Float64</th><th title = \"Float64\" style = \"text-align: left;\">Float64</th><th title = \"Float64\" style = \"text-align: left;\">Float64</th><th title = \"Float64\" style = \"text-align: left;\">Float64</th><th title = \"Float64\" style = \"text-align: left;\">Float64</th><th title = \"Float64\" style = \"text-align: left;\">Float64</th><th title = \"Float64\" style = \"text-align: left;\">Float64</th><th title = \"Float64\" style = \"text-align: left;\">Float64</th><th title = \"Float64\" style = \"text-align: left;\">Float64</th><th title = \"Float64\" style = \"text-align: left;\">Float64</th><th title = \"Float64\" style = \"text-align: left;\">Float64</th><th title = \"Float64\" style = \"text-align: left;\">Float64</th><th title = \"Float64\" style = \"text-align: left;\">Float64</th><th title = \"Float64\" style = \"text-align: left;\">Float64</th><th title = \"Float64\" style = \"text-align: left;\">Float64</th><th title = \"Float64\" style = \"text-align: left;\">Float64</th><th title = \"Float64\" style = \"text-align: left;\">Float64</th><th title = \"Float64\" style = \"text-align: left;\">Float64</th><th title = \"Float64\" style = \"text-align: left;\">Float64</th><th title = \"Float64\" style = \"text-align: left;\">Float64</th><th title = \"Float64\" style = \"text-align: left;\">Float64</th><th title = \"Float64\" style = \"text-align: left;\">Float64</th><th title = \"Float64\" style = \"text-align: left;\">Float64</th><th title = \"Float64\" style = \"text-align: left;\">Float64</th><th title = \"Float64\" style = \"text-align: left;\">Float64</th><th title = \"Float64\" style = \"text-align: left;\">Float64</th><th title = \"Float64\" style = \"text-align: left;\">Float64</th><th title = \"Float64\" style = \"text-align: left;\">Float64</th><th title = \"Float64\" style = \"text-align: left;\">Float64</th><th title = \"Float64\" style = \"text-align: left;\">Float64</th><th title = \"Float64\" style = \"text-align: left;\">Float64</th><th title = \"Float64\" style = \"text-align: left;\">Float64</th><th title = \"Float64\" style = \"text-align: left;\">Float64</th><th title = \"Float64\" style = \"text-align: left;\">Float64</th><th title = \"Float64\" style = \"text-align: left;\">Float64</th><th title = \"Float64\" style = \"text-align: left;\">Float64</th><th title = \"Float64\" style = \"text-align: left;\">Float64</th><th title = \"Float64\" style = \"text-align: left;\">Float64</th><th title = \"Float64\" style = \"text-align: left;\">Float64</th><th title = \"Float64\" style = \"text-align: left;\">Float64</th><th title = \"Float64\" style = \"text-align: left;\">Float64</th><th title = \"Float64\" style = \"text-align: left;\">Float64</th><th title = \"Float64\" style = \"text-align: left;\">Float64</th><th title = \"Float64\" style = \"text-align: left;\">Float64</th><th title = \"Float64\" style = \"text-align: left;\">Float64</th><th title = \"Float64\" style = \"text-align: left;\">Float64</th><th title = \"Float64\" style = \"text-align: left;\">Float64</th><th title = \"Float64\" style = \"text-align: left;\">Float64</th><th title = \"Float64\" style = \"text-align: left;\">Float64</th><th title = \"Float64\" style = \"text-align: left;\">Float64</th><th title = \"Float64\" style = \"text-align: left;\">Float64</th><th title = \"Float64\" style = \"text-align: left;\">Float64</th><th title = \"Float64\" style = \"text-align: left;\">Float64</th><th title = \"Float64\" style = \"text-align: left;\">Float64</th></tr></thead><tbody><tr><td class = \"rowNumber\" style = \"font-weight: bold; text-align: right;\">1</td><td style = \"text-align: right;\">1</td><td style = \"text-align: left;\">chr1:55365</td><td style = \"text-align: right;\">0.055365</td><td style = \"text-align: right;\">0.055365</td><td style = \"text-align: right;\">2.0</td><td style = \"text-align: right;\">2.0</td><td style = \"text-align: right;\">1.0</td><td style = \"text-align: right;\">2.0</td><td style = \"text-align: right;\">2.0</td><td style = \"text-align: right;\">2.0</td><td style = \"text-align: right;\">1.0</td><td style = \"text-align: right;\">2.0</td><td style = \"text-align: right;\">2.0</td><td style = \"text-align: right;\">2.0</td><td style = \"text-align: right;\">2.0</td><td style = \"text-align: right;\">2.0</td><td style = \"text-align: right;\">2.0</td><td style = \"text-align: right;\">2.0</td><td style = \"text-align: right;\">2.0</td><td style = \"text-align: right;\">2.0</td><td style = \"text-align: right;\">2.0</td><td style = \"text-align: right;\">2.0</td><td style = \"text-align: right;\">2.0</td><td style = \"text-align: right;\">2.0</td><td style = \"text-align: right;\">2.0</td><td style = \"text-align: right;\">2.0</td><td style = \"text-align: right;\">2.0</td><td style = \"text-align: right;\">2.0</td><td style = \"text-align: right;\">2.0</td><td style = \"text-align: right;\">2.0</td><td style = \"text-align: right;\">2.0</td><td style = \"text-align: right;\">2.0</td><td style = \"text-align: right;\">2.0</td><td style = \"text-align: right;\">2.0</td><td style = \"text-align: right;\">2.0</td><td style = \"text-align: right;\">1.0</td><td style = \"text-align: right;\">2.0</td><td style = \"text-align: right;\">2.0</td><td style = \"text-align: right;\">2.0</td><td style = \"text-align: right;\">1.0</td><td style = \"text-align: right;\">2.0</td><td style = \"text-align: right;\">2.0</td><td style = \"text-align: right;\">2.0</td><td style = \"text-align: right;\">1.0</td><td style = \"text-align: right;\">2.0</td><td style = \"text-align: right;\">2.0</td><td style = \"text-align: right;\">2.0</td><td style = \"text-align: right;\">2.0</td><td style = \"text-align: right;\">1.0</td><td style = \"text-align: right;\">2.0</td><td style = \"text-align: right;\">2.0</td><td style = \"text-align: right;\">2.0</td><td style = \"text-align: right;\">2.0</td><td style = \"text-align: right;\">2.0</td><td style = \"text-align: right;\">2.0</td><td style = \"text-align: right;\">2.0</td><td style = \"text-align: right;\">2.0</td><td style = \"text-align: right;\">2.0</td><td style = \"text-align: right;\">2.0</td><td style = \"text-align: right;\">2.0</td><td style = \"text-align: right;\">2.0</td><td style = \"text-align: right;\">2.0</td><td style = \"text-align: right;\">2.0</td><td style = \"text-align: right;\">2.0</td><td style = \"text-align: right;\">1.0</td><td style = \"text-align: right;\">2.0</td><td style = \"text-align: right;\">1.0</td><td style = \"text-align: right;\">2.0</td><td style = \"text-align: right;\">2.0</td><td style = \"text-align: right;\">2.0</td><td style = \"text-align: right;\">2.0</td><td style = \"text-align: right;\">2.0</td><td style = \"text-align: right;\">2.0</td><td style = \"text-align: right;\">2.0</td><td style = \"text-align: right;\">2.0</td><td style = \"text-align: right;\">2.0</td><td style = \"text-align: right;\">2.0</td><td style = \"text-align: right;\">2.0</td><td style = \"text-align: right;\">2.0</td><td style = \"text-align: right;\">2.0</td><td style = \"text-align: right;\">2.0</td><td style = \"text-align: right;\">1.0</td><td style = \"text-align: right;\">2.0</td><td style = \"text-align: right;\">2.0</td></tr><tr><td class = \"rowNumber\" style = \"font-weight: bold; text-align: right;\">2</td><td style = \"text-align: right;\">1</td><td style = \"text-align: left;\">chr1:666374</td><td style = \"text-align: right;\">0.666374</td><td style = \"text-align: right;\">0.666374</td><td style = \"text-align: right;\">2.0</td><td style = \"text-align: right;\">2.0</td><td style = \"text-align: right;\">2.0</td><td style = \"text-align: right;\">2.0</td><td style = \"text-align: right;\">2.0</td><td style = \"text-align: right;\">2.0</td><td style = \"text-align: right;\">1.0</td><td style = \"text-align: right;\">2.0</td><td style = \"text-align: right;\">2.0</td><td style = \"text-align: right;\">2.0</td><td style = \"text-align: right;\">2.0</td><td style = \"text-align: right;\">2.0</td><td style = \"text-align: right;\">2.0</td><td style = \"text-align: right;\">2.0</td><td style = \"text-align: right;\">2.0</td><td style = \"text-align: right;\">2.0</td><td style = \"text-align: right;\">2.0</td><td style = \"text-align: right;\">2.0</td><td style = \"text-align: right;\">2.0</td><td style = \"text-align: right;\">2.0</td><td style = \"text-align: right;\">2.0</td><td style = \"text-align: right;\">2.0</td><td style = \"text-align: right;\">2.0</td><td style = \"text-align: right;\">2.0</td><td style = \"text-align: right;\">2.0</td><td style = \"text-align: right;\">1.0</td><td style = \"text-align: right;\">2.0</td><td style = \"text-align: right;\">2.0</td><td style = \"text-align: right;\">2.0</td><td style = \"text-align: right;\">2.0</td><td style = \"text-align: right;\">2.0</td><td style = \"text-align: right;\">1.0</td><td style = \"text-align: right;\">2.0</td><td style = \"text-align: right;\">2.0</td><td style = \"text-align: right;\">2.0</td><td style = \"text-align: right;\">2.0</td><td style = \"text-align: right;\">2.0</td><td style = \"text-align: right;\">2.0</td><td style = \"text-align: right;\">2.0</td><td style = \"text-align: right;\">2.0</td><td style = \"text-align: right;\">2.0</td><td style = \"text-align: right;\">2.0</td><td style = \"text-align: right;\">1.0</td><td style = \"text-align: right;\">2.0</td><td style = \"text-align: right;\">2.0</td><td style = \"text-align: right;\">2.0</td><td style = \"text-align: right;\">2.0</td><td style = \"text-align: right;\">2.0</td><td style = \"text-align: right;\">2.0</td><td style = \"text-align: right;\">2.0</td><td style = \"text-align: right;\">2.0</td><td style = \"text-align: right;\">2.0</td><td style = \"text-align: right;\">2.0</td><td style = \"text-align: right;\">2.0</td><td style = \"text-align: right;\">2.0</td><td style = \"text-align: right;\">1.0</td><td style = \"text-align: right;\">2.0</td><td style = \"text-align: right;\">2.0</td><td style = \"text-align: right;\">2.0</td><td style = \"text-align: right;\">2.0</td><td style = \"text-align: right;\">2.0</td><td style = \"text-align: right;\">2.0</td><td style = \"text-align: right;\">2.0</td><td style = \"text-align: right;\">2.0</td><td style = \"text-align: right;\">2.0</td><td style = \"text-align: right;\">2.0</td><td style = \"text-align: right;\">2.0</td><td style = \"text-align: right;\">2.0</td><td style = \"text-align: right;\">2.0</td><td style = \"text-align: right;\">2.0</td><td style = \"text-align: right;\">2.0</td><td style = \"text-align: right;\">2.0</td><td style = \"text-align: right;\">2.0</td><td style = \"text-align: right;\">2.0</td><td style = \"text-align: right;\">2.0</td><td style = \"text-align: right;\">2.0</td><td style = \"text-align: right;\">2.0</td><td style = \"text-align: right;\">2.0</td><td style = \"text-align: right;\">2.0</td><td style = \"text-align: right;\">2.0</td></tr><tr><td class = \"rowNumber\" style = \"font-weight: bold; text-align: right;\">3</td><td style = \"text-align: right;\">1</td><td style = \"text-align: left;\">chr1:666382</td><td style = \"text-align: right;\">0.666382</td><td style = \"text-align: right;\">0.666382</td><td style = \"text-align: right;\">2.0</td><td style = \"text-align: right;\">2.0</td><td style = \"text-align: right;\">2.0</td><td style = \"text-align: right;\">1.0</td><td style = \"text-align: right;\">2.0</td><td style = \"text-align: right;\">2.0</td><td style = \"text-align: right;\">2.0</td><td style = \"text-align: right;\">2.0</td><td style = \"text-align: right;\">2.0</td><td style = \"text-align: right;\">2.0</td><td style = \"text-align: right;\">2.0</td><td style = \"text-align: right;\">2.0</td><td style = \"text-align: right;\">2.0</td><td style = \"text-align: right;\">2.0</td><td style = \"text-align: right;\">2.0</td><td style = \"text-align: right;\">2.0</td><td style = \"text-align: right;\">2.0</td><td style = \"text-align: right;\">2.0</td><td style = \"text-align: right;\">2.0</td><td style = \"text-align: right;\">2.0</td><td style = \"text-align: right;\">2.0</td><td style = \"text-align: right;\">2.0</td><td style = \"text-align: right;\">2.0</td><td style = \"text-align: right;\">2.0</td><td style = \"text-align: right;\">2.0</td><td style = \"text-align: right;\">2.0</td><td style = \"text-align: right;\">2.0</td><td style = \"text-align: right;\">2.0</td><td style = \"text-align: right;\">2.0</td><td style = \"text-align: right;\">2.0</td><td style = \"text-align: right;\">2.0</td><td style = \"text-align: right;\">1.0</td><td style = \"text-align: right;\">2.0</td><td style = \"text-align: right;\">2.0</td><td style = \"text-align: right;\">2.0</td><td style = \"text-align: right;\">2.0</td><td style = \"text-align: right;\">2.0</td><td style = \"text-align: right;\">2.0</td><td style = \"text-align: right;\">2.0</td><td style = \"text-align: right;\">2.0</td><td style = \"text-align: right;\">2.0</td><td style = \"text-align: right;\">2.0</td><td style = \"text-align: right;\">2.0</td><td style = \"text-align: right;\">2.0</td><td style = \"text-align: right;\">2.0</td><td style = \"text-align: right;\">2.0</td><td style = \"text-align: right;\">2.0</td><td style = \"text-align: right;\">2.0</td><td style = \"text-align: right;\">2.0</td><td style = \"text-align: right;\">2.0</td><td style = \"text-align: right;\">2.0</td><td style = \"text-align: right;\">2.0</td><td style = \"text-align: right;\">2.0</td><td style = \"text-align: right;\">2.0</td><td style = \"text-align: right;\">2.0</td><td style = \"text-align: right;\">2.0</td><td style = \"text-align: right;\">2.0</td><td style = \"text-align: right;\">2.0</td><td style = \"text-align: right;\">2.0</td><td style = \"text-align: right;\">2.0</td><td style = \"text-align: right;\">2.0</td><td style = \"text-align: right;\">2.0</td><td style = \"text-align: right;\">2.0</td><td style = \"text-align: right;\">2.0</td><td style = \"text-align: right;\">2.0</td><td style = \"text-align: right;\">2.0</td><td style = \"text-align: right;\">2.0</td><td style = \"text-align: right;\">2.0</td><td style = \"text-align: right;\">2.0</td><td style = \"text-align: right;\">2.0</td><td style = \"text-align: right;\">2.0</td><td style = \"text-align: right;\">2.0</td><td style = \"text-align: right;\">2.0</td><td style = \"text-align: right;\">2.0</td><td style = \"text-align: right;\">2.0</td><td style = \"text-align: right;\">2.0</td><td style = \"text-align: right;\">2.0</td><td style = \"text-align: right;\">2.0</td><td style = \"text-align: right;\">2.0</td><td style = \"text-align: right;\">2.0</td></tr><tr><td class = \"rowNumber\" style = \"font-weight: bold; text-align: right;\">4</td><td style = \"text-align: right;\">1</td><td style = \"text-align: left;\">chr1:666394</td><td style = \"text-align: right;\">0.666394</td><td style = \"text-align: right;\">0.666394</td><td style = \"text-align: right;\">2.0</td><td style = \"text-align: right;\">2.0</td><td style = \"text-align: right;\">2.0</td><td style = \"text-align: right;\">1.0</td><td style = \"text-align: right;\">2.0</td><td style = \"text-align: right;\">2.0</td><td style = \"text-align: right;\">2.0</td><td style = \"text-align: right;\">2.0</td><td style = \"text-align: right;\">2.0</td><td style = \"text-align: right;\">2.0</td><td style = \"text-align: right;\">2.0</td><td style = \"text-align: right;\">2.0</td><td style = \"text-align: right;\">2.0</td><td style = \"text-align: right;\">2.0</td><td style = \"text-align: right;\">2.0</td><td style = \"text-align: right;\">2.0</td><td style = \"text-align: right;\">2.0</td><td style = \"text-align: right;\">2.0</td><td style = \"text-align: right;\">2.0</td><td style = \"text-align: right;\">2.0</td><td style = \"text-align: right;\">2.0</td><td style = \"text-align: right;\">2.0</td><td style = \"text-align: right;\">2.0</td><td style = \"text-align: right;\">2.0</td><td style = \"text-align: right;\">1.0</td><td style = \"text-align: right;\">1.0</td><td style = \"text-align: right;\">2.0</td><td style = \"text-align: right;\">2.0</td><td style = \"text-align: right;\">2.0</td><td style = \"text-align: right;\">2.0</td><td style = \"text-align: right;\">2.0</td><td style = \"text-align: right;\">1.0</td><td style = \"text-align: right;\">2.0</td><td style = \"text-align: right;\">1.0</td><td style = \"text-align: right;\">2.0</td><td style = \"text-align: right;\">2.0</td><td style = \"text-align: right;\">2.0</td><td style = \"text-align: right;\">2.0</td><td style = \"text-align: right;\">2.0</td><td style = \"text-align: right;\">2.0</td><td style = \"text-align: right;\">2.0</td><td style = \"text-align: right;\">2.0</td><td style = \"text-align: right;\">1.0</td><td style = \"text-align: right;\">2.0</td><td style = \"text-align: right;\">2.0</td><td style = \"text-align: right;\">2.0</td><td style = \"text-align: right;\">2.0</td><td style = \"text-align: right;\">2.0</td><td style = \"text-align: right;\">2.0</td><td style = \"text-align: right;\">2.0</td><td style = \"text-align: right;\">2.0</td><td style = \"text-align: right;\">2.0</td><td style = \"text-align: right;\">2.0</td><td style = \"text-align: right;\">2.0</td><td style = \"text-align: right;\">2.0</td><td style = \"text-align: right;\">2.0</td><td style = \"text-align: right;\">2.0</td><td style = \"text-align: right;\">2.0</td><td style = \"text-align: right;\">2.0</td><td style = \"text-align: right;\">2.0</td><td style = \"text-align: right;\">2.0</td><td style = \"text-align: right;\">2.0</td><td style = \"text-align: right;\">2.0</td><td style = \"text-align: right;\">2.0</td><td style = \"text-align: right;\">2.0</td><td style = \"text-align: right;\">2.0</td><td style = \"text-align: right;\">2.0</td><td style = \"text-align: right;\">2.0</td><td style = \"text-align: right;\">2.0</td><td style = \"text-align: right;\">2.0</td><td style = \"text-align: right;\">2.0</td><td style = \"text-align: right;\">2.0</td><td style = \"text-align: right;\">2.0</td><td style = \"text-align: right;\">2.0</td><td style = \"text-align: right;\">2.0</td><td style = \"text-align: right;\">2.0</td><td style = \"text-align: right;\">2.0</td><td style = \"text-align: right;\">2.0</td><td style = \"text-align: right;\">2.0</td><td style = \"text-align: right;\">2.0</td></tr><tr><td class = \"rowNumber\" style = \"font-weight: bold; text-align: right;\">5</td><td style = \"text-align: right;\">1</td><td style = \"text-align: left;\">chr1:669529</td><td style = \"text-align: right;\">0.669529</td><td style = \"text-align: right;\">0.669529</td><td style = \"text-align: right;\">2.0</td><td style = \"text-align: right;\">2.0</td><td style = \"text-align: right;\">2.0</td><td style = \"text-align: right;\">1.0</td><td style = \"text-align: right;\">2.0</td><td style = \"text-align: right;\">2.0</td><td style = \"text-align: right;\">2.0</td><td style = \"text-align: right;\">2.0</td><td style = \"text-align: right;\">2.0</td><td style = \"text-align: right;\">2.0</td><td style = \"text-align: right;\">2.0</td><td style = \"text-align: right;\">2.0</td><td style = \"text-align: right;\">2.0</td><td style = \"text-align: right;\">2.0</td><td style = \"text-align: right;\">2.0</td><td style = \"text-align: right;\">2.0</td><td style = \"text-align: right;\">2.0</td><td style = \"text-align: right;\">2.0</td><td style = \"text-align: right;\">2.0</td><td style = \"text-align: right;\">2.0</td><td style = \"text-align: right;\">2.0</td><td style = \"text-align: right;\">2.0</td><td style = \"text-align: right;\">2.0</td><td style = \"text-align: right;\">2.0</td><td style = \"text-align: right;\">2.0</td><td style = \"text-align: right;\">2.0</td><td style = \"text-align: right;\">2.0</td><td style = \"text-align: right;\">2.0</td><td style = \"text-align: right;\">2.0</td><td style = \"text-align: right;\">2.0</td><td style = \"text-align: right;\">2.0</td><td style = \"text-align: right;\">2.0</td><td style = \"text-align: right;\">2.0</td><td style = \"text-align: right;\">1.0</td><td style = \"text-align: right;\">2.0</td><td style = \"text-align: right;\">2.0</td><td style = \"text-align: right;\">2.0</td><td style = \"text-align: right;\">2.0</td><td style = \"text-align: right;\">1.0</td><td style = \"text-align: right;\">2.0</td><td style = \"text-align: right;\">2.0</td><td style = \"text-align: right;\">2.0</td><td style = \"text-align: right;\">2.0</td><td style = \"text-align: right;\">2.0</td><td style = \"text-align: right;\">2.0</td><td style = \"text-align: right;\">2.0</td><td style = \"text-align: right;\">2.0</td><td style = \"text-align: right;\">2.0</td><td style = \"text-align: right;\">1.0</td><td style = \"text-align: right;\">2.0</td><td style = \"text-align: right;\">2.0</td><td style = \"text-align: right;\">2.0</td><td style = \"text-align: right;\">2.0</td><td style = \"text-align: right;\">2.0</td><td style = \"text-align: right;\">2.0</td><td style = \"text-align: right;\">2.0</td><td style = \"text-align: right;\">2.0</td><td style = \"text-align: right;\">2.0</td><td style = \"text-align: right;\">2.0</td><td style = \"text-align: right;\">2.0</td><td style = \"text-align: right;\">2.0</td><td style = \"text-align: right;\">2.0</td><td style = \"text-align: right;\">2.0</td><td style = \"text-align: right;\">2.0</td><td style = \"text-align: right;\">2.0</td><td style = \"text-align: right;\">2.0</td><td style = \"text-align: right;\">2.0</td><td style = \"text-align: right;\">2.0</td><td style = \"text-align: right;\">2.0</td><td style = \"text-align: right;\">2.0</td><td style = \"text-align: right;\">2.0</td><td style = \"text-align: right;\">2.0</td><td style = \"text-align: right;\">2.0</td><td style = \"text-align: right;\">2.0</td><td style = \"text-align: right;\">2.0</td><td style = \"text-align: right;\">2.0</td><td style = \"text-align: right;\">2.0</td><td style = \"text-align: right;\">2.0</td><td style = \"text-align: right;\">2.0</td><td style = \"text-align: right;\">1.0</td></tr><tr><td class = \"rowNumber\" style = \"font-weight: bold; text-align: right;\">6</td><td style = \"text-align: right;\">1</td><td style = \"text-align: left;\">chr1:669562</td><td style = \"text-align: right;\">0.669562</td><td style = \"text-align: right;\">0.669562</td><td style = \"text-align: right;\">2.0</td><td style = \"text-align: right;\">2.0</td><td style = \"text-align: right;\">2.0</td><td style = \"text-align: right;\">2.0</td><td style = \"text-align: right;\">2.0</td><td style = \"text-align: right;\">2.0</td><td style = \"text-align: right;\">1.0</td><td style = \"text-align: right;\">2.0</td><td style = \"text-align: right;\">2.0</td><td style = \"text-align: right;\">2.0</td><td style = \"text-align: right;\">2.0</td><td style = \"text-align: right;\">2.0</td><td style = \"text-align: right;\">2.0</td><td style = \"text-align: right;\">2.0</td><td style = \"text-align: right;\">2.0</td><td style = \"text-align: right;\">2.0</td><td style = \"text-align: right;\">2.0</td><td style = \"text-align: right;\">2.0</td><td style = \"text-align: right;\">2.0</td><td style = \"text-align: right;\">2.0</td><td style = \"text-align: right;\">2.0</td><td style = \"text-align: right;\">2.0</td><td style = \"text-align: right;\">2.0</td><td style = \"text-align: right;\">2.0</td><td style = \"text-align: right;\">2.0</td><td style = \"text-align: right;\">1.0</td><td style = \"text-align: right;\">2.0</td><td style = \"text-align: right;\">2.0</td><td style = \"text-align: right;\">2.0</td><td style = \"text-align: right;\">2.0</td><td style = \"text-align: right;\">2.0</td><td style = \"text-align: right;\">2.0</td><td style = \"text-align: right;\">2.0</td><td style = \"text-align: right;\">2.0</td><td style = \"text-align: right;\">2.0</td><td style = \"text-align: right;\">2.0</td><td style = \"text-align: right;\">2.0</td><td style = \"text-align: right;\">2.0</td><td style = \"text-align: right;\">2.0</td><td style = \"text-align: right;\">2.0</td><td style = \"text-align: right;\">2.0</td><td style = \"text-align: right;\">2.0</td><td style = \"text-align: right;\">2.0</td><td style = \"text-align: right;\">2.0</td><td style = \"text-align: right;\">2.0</td><td style = \"text-align: right;\">2.0</td><td style = \"text-align: right;\">2.0</td><td style = \"text-align: right;\">2.0</td><td style = \"text-align: right;\">2.0</td><td style = \"text-align: right;\">2.0</td><td style = \"text-align: right;\">2.0</td><td style = \"text-align: right;\">2.0</td><td style = \"text-align: right;\">2.0</td><td style = \"text-align: right;\">2.0</td><td style = \"text-align: right;\">2.0</td><td style = \"text-align: right;\">2.0</td><td style = \"text-align: right;\">2.0</td><td style = \"text-align: right;\">2.0</td><td style = \"text-align: right;\">2.0</td><td style = \"text-align: right;\">2.0</td><td style = \"text-align: right;\">2.0</td><td style = \"text-align: right;\">1.0</td><td style = \"text-align: right;\">2.0</td><td style = \"text-align: right;\">2.0</td><td style = \"text-align: right;\">2.0</td><td style = \"text-align: right;\">2.0</td><td style = \"text-align: right;\">2.0</td><td style = \"text-align: right;\">2.0</td><td style = \"text-align: right;\">2.0</td><td style = \"text-align: right;\">2.0</td><td style = \"text-align: right;\">2.0</td><td style = \"text-align: right;\">2.0</td><td style = \"text-align: right;\">2.0</td><td style = \"text-align: right;\">1.0</td><td style = \"text-align: right;\">2.0</td><td style = \"text-align: right;\">2.0</td><td style = \"text-align: right;\">2.0</td><td style = \"text-align: right;\">2.0</td><td style = \"text-align: right;\">1.0</td><td style = \"text-align: right;\">2.0</td></tr><tr><td class = \"rowNumber\" style = \"font-weight: bold; text-align: right;\">7</td><td style = \"text-align: right;\">1</td><td style = \"text-align: left;\">chr1:671466</td><td style = \"text-align: right;\">0.671466</td><td style = \"text-align: right;\">0.671466</td><td style = \"text-align: right;\">2.0</td><td style = \"text-align: right;\">2.0</td><td style = \"text-align: right;\">2.0</td><td style = \"text-align: right;\">2.0</td><td style = \"text-align: right;\">2.0</td><td style = \"text-align: right;\">2.0</td><td style = \"text-align: right;\">2.0</td><td style = \"text-align: right;\">2.0</td><td style = \"text-align: right;\">2.0</td><td style = \"text-align: right;\">2.0</td><td style = \"text-align: right;\">2.0</td><td style = \"text-align: right;\">2.0</td><td style = \"text-align: right;\">2.0</td><td style = \"text-align: right;\">2.0</td><td style = \"text-align: right;\">2.0</td><td style = \"text-align: right;\">2.0</td><td style = \"text-align: right;\">2.0</td><td style = \"text-align: right;\">2.0</td><td style = \"text-align: right;\">2.0</td><td style = \"text-align: right;\">2.0</td><td style = \"text-align: right;\">2.0</td><td style = \"text-align: right;\">2.0</td><td style = \"text-align: right;\">2.0</td><td style = \"text-align: right;\">2.0</td><td style = \"text-align: right;\">2.0</td><td style = \"text-align: right;\">2.0</td><td style = \"text-align: right;\">2.0</td><td style = \"text-align: right;\">2.0</td><td style = \"text-align: right;\">2.0</td><td style = \"text-align: right;\">2.0</td><td style = \"text-align: right;\">2.0</td><td style = \"text-align: right;\">2.0</td><td style = \"text-align: right;\">2.0</td><td style = \"text-align: right;\">2.0</td><td style = \"text-align: right;\">2.0</td><td style = \"text-align: right;\">2.0</td><td style = \"text-align: right;\">2.0</td><td style = \"text-align: right;\">2.0</td><td style = \"text-align: right;\">2.0</td><td style = \"text-align: right;\">2.0</td><td style = \"text-align: right;\">2.0</td><td style = \"text-align: right;\">2.0</td><td style = \"text-align: right;\">2.0</td><td style = \"text-align: right;\">2.0</td><td style = \"text-align: right;\">2.0</td><td style = \"text-align: right;\">2.0</td><td style = \"text-align: right;\">2.0</td><td style = \"text-align: right;\">2.0</td><td style = \"text-align: right;\">2.0</td><td style = \"text-align: right;\">2.0</td><td style = \"text-align: right;\">2.0</td><td style = \"text-align: right;\">2.0</td><td style = \"text-align: right;\">2.0</td><td style = \"text-align: right;\">2.0</td><td style = \"text-align: right;\">2.0</td><td style = \"text-align: right;\">2.0</td><td style = \"text-align: right;\">2.0</td><td style = \"text-align: right;\">2.0</td><td style = \"text-align: right;\">2.0</td><td style = \"text-align: right;\">1.0</td><td style = \"text-align: right;\">2.0</td><td style = \"text-align: right;\">1.0</td><td style = \"text-align: right;\">1.0</td><td style = \"text-align: right;\">1.0</td><td style = \"text-align: right;\">1.0</td><td style = \"text-align: right;\">2.0</td><td style = \"text-align: right;\">2.0</td><td style = \"text-align: right;\">1.0</td><td style = \"text-align: right;\">2.0</td><td style = \"text-align: right;\">2.0</td><td style = \"text-align: right;\">2.0</td><td style = \"text-align: right;\">2.0</td><td style = \"text-align: right;\">2.0</td><td style = \"text-align: right;\">2.0</td><td style = \"text-align: right;\">2.0</td><td style = \"text-align: right;\">2.0</td><td style = \"text-align: right;\">2.0</td><td style = \"text-align: right;\">2.0</td><td style = \"text-align: right;\">1.0</td><td style = \"text-align: right;\">2.0</td></tr><tr><td class = \"rowNumber\" style = \"font-weight: bold; text-align: right;\">8</td><td style = \"text-align: right;\">1</td><td style = \"text-align: left;\">chr1:759319</td><td style = \"text-align: right;\">0.759319</td><td style = \"text-align: right;\">0.759319</td><td style = \"text-align: right;\">0.997</td><td style = \"text-align: right;\">1.976</td><td style = \"text-align: right;\">0.991</td><td style = \"text-align: right;\">1.979</td><td style = \"text-align: right;\">0.007</td><td style = \"text-align: right;\">1.979</td><td style = \"text-align: right;\">0.991</td><td style = \"text-align: right;\">0.997</td><td style = \"text-align: right;\">0.008</td><td style = \"text-align: right;\">1.979</td><td style = \"text-align: right;\">0.997</td><td style = \"text-align: right;\">0.997</td><td style = \"text-align: right;\">0.007</td><td style = \"text-align: right;\">0.997</td><td style = \"text-align: right;\">0.007</td><td style = \"text-align: right;\">0.991</td><td style = \"text-align: right;\">0.997</td><td style = \"text-align: right;\">0.007</td><td style = \"text-align: right;\">0.997</td><td style = \"text-align: right;\">0.991</td><td style = \"text-align: right;\">0.007</td><td style = \"text-align: right;\">0.99</td><td style = \"text-align: right;\">0.997</td><td style = \"text-align: right;\">0.99</td><td style = \"text-align: right;\">0.991</td><td style = \"text-align: right;\">0.007</td><td style = \"text-align: right;\">0.991</td><td style = \"text-align: right;\">1.979</td><td style = \"text-align: right;\">0.997</td><td style = \"text-align: right;\">0.997</td><td style = \"text-align: right;\">0.992</td><td style = \"text-align: right;\">0.997</td><td style = \"text-align: right;\">0.997</td><td style = \"text-align: right;\">0.997</td><td style = \"text-align: right;\">0.992</td><td style = \"text-align: right;\">0.992</td><td style = \"text-align: right;\">0.007</td><td style = \"text-align: right;\">0.997</td><td style = \"text-align: right;\">0.997</td><td style = \"text-align: right;\">0.997</td><td style = \"text-align: right;\">0.007</td><td style = \"text-align: right;\">0.007</td><td style = \"text-align: right;\">0.997</td><td style = \"text-align: right;\">0.007</td><td style = \"text-align: right;\">1.979</td><td style = \"text-align: right;\">0.007</td><td style = \"text-align: right;\">0.991</td><td style = \"text-align: right;\">0.007</td><td style = \"text-align: right;\">0.997</td><td style = \"text-align: right;\">0.997</td><td style = \"text-align: right;\">0.008</td><td style = \"text-align: right;\">0.997</td><td style = \"text-align: right;\">0.997</td><td style = \"text-align: right;\">0.007</td><td style = \"text-align: right;\">0.997</td><td style = \"text-align: right;\">1.979</td><td style = \"text-align: right;\">0.997</td><td style = \"text-align: right;\">0.997</td><td style = \"text-align: right;\">0.007</td><td style = \"text-align: right;\">0.007</td><td style = \"text-align: right;\">0.997</td><td style = \"text-align: right;\">0.007</td><td style = \"text-align: right;\">0.997</td><td style = \"text-align: right;\">1.979</td><td style = \"text-align: right;\">0.007</td><td style = \"text-align: right;\">0.997</td><td style = \"text-align: right;\">0.99603</td><td style = \"text-align: right;\">0.99</td><td style = \"text-align: right;\">0.991</td><td style = \"text-align: right;\">0.997</td><td style = \"text-align: right;\">1.978</td><td style = \"text-align: right;\">0.007</td><td style = \"text-align: right;\">0.991</td><td style = \"text-align: right;\">0.997</td><td style = \"text-align: right;\">0.007</td><td style = \"text-align: right;\">0.007</td><td style = \"text-align: right;\">1.979</td><td style = \"text-align: right;\">1.979</td><td style = \"text-align: right;\">1.979</td><td style = \"text-align: right;\">0.007</td></tr><tr><td class = \"rowNumber\" style = \"font-weight: bold; text-align: right;\">9</td><td style = \"text-align: right;\">1</td><td style = \"text-align: left;\">chr1:1134030</td><td style = \"text-align: right;\">1.13403</td><td style = \"text-align: right;\">1.13403</td><td style = \"text-align: right;\">1.941</td><td style = \"text-align: right;\">1.559</td><td style = \"text-align: right;\">1.006</td><td style = \"text-align: right;\">1.994</td><td style = \"text-align: right;\">1.998</td><td style = \"text-align: right;\">1.994</td><td style = \"text-align: right;\">1.846</td><td style = \"text-align: right;\">1.951</td><td style = \"text-align: right;\">1.4895</td><td style = \"text-align: right;\">1.994</td><td style = \"text-align: right;\">1.984</td><td style = \"text-align: right;\">1.945</td><td style = \"text-align: right;\">1.031</td><td style = \"text-align: right;\">1.993</td><td style = \"text-align: right;\">1.00494</td><td style = \"text-align: right;\">1.989</td><td style = \"text-align: right;\">1.992</td><td style = \"text-align: right;\">1.998</td><td style = \"text-align: right;\">1.989</td><td style = \"text-align: right;\">1.994</td><td style = \"text-align: right;\">1.022</td><td style = \"text-align: right;\">1.49847</td><td style = \"text-align: right;\">1.797</td><td style = \"text-align: right;\">1.998</td><td style = \"text-align: right;\">1.946</td><td style = \"text-align: right;\">1.055</td><td style = \"text-align: right;\">1.946</td><td style = \"text-align: right;\">1.994</td><td style = \"text-align: right;\">1.955</td><td style = \"text-align: right;\">1.993</td><td style = \"text-align: right;\">1.994</td><td style = \"text-align: right;\">1.94696</td><td style = \"text-align: right;\">1.951</td><td style = \"text-align: right;\">1.989</td><td style = \"text-align: right;\">1.926</td><td style = \"text-align: right;\">1.495</td><td style = \"text-align: right;\">1.998</td><td style = \"text-align: right;\">1.991</td><td style = \"text-align: right;\">1.994</td><td style = \"text-align: right;\">1.952</td><td style = \"text-align: right;\">1.997</td><td style = \"text-align: right;\">1.998</td><td style = \"text-align: right;\">1.94696</td><td style = \"text-align: right;\">1.998</td><td style = \"text-align: right;\">1.994</td><td style = \"text-align: right;\">1.998</td><td style = \"text-align: right;\">1.994</td><td style = \"text-align: right;\">1.998</td><td style = \"text-align: right;\">1.946</td><td style = \"text-align: right;\">1.994</td><td style = \"text-align: right;\">1.5045</td><td style = \"text-align: right;\">1.994</td><td style = \"text-align: right;\">1.994</td><td style = \"text-align: right;\">1.998</td><td style = \"text-align: right;\">1.977</td><td style = \"text-align: right;\">1.993</td><td style = \"text-align: right;\">1.935</td><td style = \"text-align: right;\">1.993</td><td style = \"text-align: right;\">1.998</td><td style = \"text-align: right;\">1.998</td><td style = \"text-align: right;\">1.994</td><td style = \"text-align: right;\">1.023</td><td style = \"text-align: right;\">1.994</td><td style = \"text-align: right;\">1.994</td><td style = \"text-align: right;\">1.998</td><td style = \"text-align: right;\">1.993</td><td style = \"text-align: right;\">1.912</td><td style = \"text-align: right;\">1.997</td><td style = \"text-align: right;\">1.994</td><td style = \"text-align: right;\">1.993</td><td style = \"text-align: right;\">1.919</td><td style = \"text-align: right;\">1.998</td><td style = \"text-align: right;\">1.994</td><td style = \"text-align: right;\">1.994</td><td style = \"text-align: right;\">1.044</td><td style = \"text-align: right;\">1.031</td><td style = \"text-align: right;\">1.993</td><td style = \"text-align: right;\">1.994</td><td style = \"text-align: right;\">1.993</td><td style = \"text-align: right;\">1.998</td></tr><tr><td class = \"rowNumber\" style = \"font-weight: bold; text-align: right;\">10</td><td style = \"text-align: right;\">1</td><td style = \"text-align: left;\">chr1:1139210</td><td style = \"text-align: right;\">1.13921</td><td style = \"text-align: right;\">1.13921</td><td style = \"text-align: right;\">1.978</td><td style = \"text-align: right;\">1.992</td><td style = \"text-align: right;\">1.997</td><td style = \"text-align: right;\">1.994</td><td style = \"text-align: right;\">1.997</td><td style = \"text-align: right;\">1.993</td><td style = \"text-align: right;\">1.912</td><td style = \"text-align: right;\">1.985</td><td style = \"text-align: right;\">1.996</td><td style = \"text-align: right;\">1.994</td><td style = \"text-align: right;\">1.959</td><td style = \"text-align: right;\">1.985</td><td style = \"text-align: right;\">1.037</td><td style = \"text-align: right;\">1.986</td><td style = \"text-align: right;\">1.006</td><td style = \"text-align: right;\">1.14</td><td style = \"text-align: right;\">1.991</td><td style = \"text-align: right;\">1.997</td><td style = \"text-align: right;\">1.14</td><td style = \"text-align: right;\">1.992</td><td style = \"text-align: right;\">1.026</td><td style = \"text-align: right;\">1.964</td><td style = \"text-align: right;\">1.858</td><td style = \"text-align: right;\">1.997</td><td style = \"text-align: right;\">1.984</td><td style = \"text-align: right;\">1.06793</td><td style = \"text-align: right;\">1.984</td><td style = \"text-align: right;\">1.993</td><td style = \"text-align: right;\">1.988</td><td style = \"text-align: right;\">1.993</td><td style = \"text-align: right;\">1.994</td><td style = \"text-align: right;\">1.213</td><td style = \"text-align: right;\">1.986</td><td style = \"text-align: right;\">1.14</td><td style = \"text-align: right;\">1.982</td><td style = \"text-align: right;\">1.668</td><td style = \"text-align: right;\">1.997</td><td style = \"text-align: right;\">1.1181</td><td style = \"text-align: right;\">1.994</td><td style = \"text-align: right;\">1.986</td><td style = \"text-align: right;\">1.996</td><td style = \"text-align: right;\">1.997</td><td style = \"text-align: right;\">1.984</td><td style = \"text-align: right;\">1.997</td><td style = \"text-align: right;\">1.993</td><td style = \"text-align: right;\">1.997</td><td style = \"text-align: right;\">1.992</td><td style = \"text-align: right;\">1.997</td><td style = \"text-align: right;\">1.984</td><td style = \"text-align: right;\">1.994</td><td style = \"text-align: right;\">1.995</td><td style = \"text-align: right;\">1.994</td><td style = \"text-align: right;\">1.993</td><td style = \"text-align: right;\">1.997</td><td style = \"text-align: right;\">1.927</td><td style = \"text-align: right;\">1.993</td><td style = \"text-align: right;\">1.981</td><td style = \"text-align: right;\">1.992</td><td style = \"text-align: right;\">1.997</td><td style = \"text-align: right;\">1.997</td><td style = \"text-align: right;\">1.994</td><td style = \"text-align: right;\">1.029</td><td style = \"text-align: right;\">1.994</td><td style = \"text-align: right;\">1.993</td><td style = \"text-align: right;\">1.997</td><td style = \"text-align: right;\">1.993</td><td style = \"text-align: right;\">1.99</td><td style = \"text-align: right;\">1.866</td><td style = \"text-align: right;\">1.992</td><td style = \"text-align: right;\">1.993</td><td style = \"text-align: right;\">1.992</td><td style = \"text-align: right;\">1.997</td><td style = \"text-align: right;\">1.992</td><td style = \"text-align: right;\">1.993</td><td style = \"text-align: right;\">1.05292</td><td style = \"text-align: right;\">1.037</td><td style = \"text-align: right;\">1.993</td><td style = \"text-align: right;\">1.993</td><td style = \"text-align: right;\">1.993</td><td style = \"text-align: right;\">1.997</td></tr><tr><td class = \"rowNumber\" style = \"font-weight: bold; text-align: right;\">11</td><td style = \"text-align: right;\">1</td><td style = \"text-align: left;\">chr1:1143318</td><td style = \"text-align: right;\">1.14332</td><td style = \"text-align: right;\">1.14332</td><td style = \"text-align: right;\">0.031</td><td style = \"text-align: right;\">0.39</td><td style = \"text-align: right;\">0.99298</td><td style = \"text-align: right;\">0.008</td><td style = \"text-align: right;\">0.003</td><td style = \"text-align: right;\">0.009</td><td style = \"text-align: right;\">0.171</td><td style = \"text-align: right;\">0.025</td><td style = \"text-align: right;\">0.026</td><td style = \"text-align: right;\">0.008</td><td style = \"text-align: right;\">0.065</td><td style = \"text-align: right;\">0.026</td><td style = \"text-align: right;\">0.947</td><td style = \"text-align: right;\">0.011</td><td style = \"text-align: right;\">0.994</td><td style = \"text-align: right;\">0.043</td><td style = \"text-align: right;\">0.013</td><td style = \"text-align: right;\">0.003</td><td style = \"text-align: right;\">0.043</td><td style = \"text-align: right;\">0.009</td><td style = \"text-align: right;\">0.962</td><td style = \"text-align: right;\">0.1802</td><td style = \"text-align: right;\">0.231</td><td style = \"text-align: right;\">0.003</td><td style = \"text-align: right;\">0.028</td><td style = \"text-align: right;\">0.9059</td><td style = \"text-align: right;\">0.028</td><td style = \"text-align: right;\">0.009</td><td style = \"text-align: right;\">0.021</td><td style = \"text-align: right;\">0.01</td><td style = \"text-align: right;\">0.008</td><td style = \"text-align: right;\">0.079</td><td style = \"text-align: right;\">0.025</td><td style = \"text-align: right;\">0.043</td><td style = \"text-align: right;\">0.128</td><td style = \"text-align: right;\">0.339</td><td style = \"text-align: right;\">0.003</td><td style = \"text-align: right;\">0.15015</td><td style = \"text-align: right;\">0.008</td><td style = \"text-align: right;\">0.024</td><td style = \"text-align: right;\">0.003</td><td style = \"text-align: right;\">0.003</td><td style = \"text-align: right;\">0.028</td><td style = \"text-align: right;\">0.003</td><td style = \"text-align: right;\">0.009</td><td style = \"text-align: right;\">0.003</td><td style = \"text-align: right;\">0.009</td><td style = \"text-align: right;\">0.003</td><td style = \"text-align: right;\">0.028</td><td style = \"text-align: right;\">0.008</td><td style = \"text-align: right;\">0.025</td><td style = \"text-align: right;\">0.008</td><td style = \"text-align: right;\">0.009</td><td style = \"text-align: right;\">0.003</td><td style = \"text-align: right;\">0.114</td><td style = \"text-align: right;\">0.01</td><td style = \"text-align: right;\">0.034</td><td style = \"text-align: right;\">0.011</td><td style = \"text-align: right;\">0.003</td><td style = \"text-align: right;\">0.003</td><td style = \"text-align: right;\">0.008</td><td style = \"text-align: right;\">0.958</td><td style = \"text-align: right;\">0.008</td><td style = \"text-align: right;\">0.009</td><td style = \"text-align: right;\">0.003</td><td style = \"text-align: right;\">0.01</td><td style = \"text-align: right;\">0.032</td><td style = \"text-align: right;\">0.158</td><td style = \"text-align: right;\">0.009</td><td style = \"text-align: right;\">0.01</td><td style = \"text-align: right;\">0.032</td><td style = \"text-align: right;\">0.003</td><td style = \"text-align: right;\">0.009</td><td style = \"text-align: right;\">0.009</td><td style = \"text-align: right;\">0.92</td><td style = \"text-align: right;\">0.947</td><td style = \"text-align: right;\">0.01</td><td style = \"text-align: right;\">0.009</td><td style = \"text-align: right;\">0.01</td><td style = \"text-align: right;\">0.003</td></tr><tr><td class = \"rowNumber\" style = \"font-weight: bold; text-align: right;\">12</td><td style = \"text-align: right;\">1</td><td style = \"text-align: left;\">chr1:1151014</td><td style = \"text-align: right;\">1.15101</td><td style = \"text-align: right;\">1.15101</td><td style = \"text-align: right;\">1.997</td><td style = \"text-align: right;\">1.997</td><td style = \"text-align: right;\">1.998</td><td style = \"text-align: right;\">1.997</td><td style = \"text-align: right;\">1.998</td><td style = \"text-align: right;\">1.997</td><td style = \"text-align: right;\">1.995</td><td style = \"text-align: right;\">1.997</td><td style = \"text-align: right;\">1.998</td><td style = \"text-align: right;\">1.997</td><td style = \"text-align: right;\">1.995</td><td style = \"text-align: right;\">1.996</td><td style = \"text-align: right;\">1.054</td><td style = \"text-align: right;\">1.997</td><td style = \"text-align: right;\">1.004</td><td style = \"text-align: right;\">1.963</td><td style = \"text-align: right;\">1.997</td><td style = \"text-align: right;\">1.998</td><td style = \"text-align: right;\">1.963</td><td style = \"text-align: right;\">1.997</td><td style = \"text-align: right;\">1.039</td><td style = \"text-align: right;\">1.998</td><td style = \"text-align: right;\">1.996</td><td style = \"text-align: right;\">1.998</td><td style = \"text-align: right;\">1.997</td><td style = \"text-align: right;\">1.097</td><td style = \"text-align: right;\">1.997</td><td style = \"text-align: right;\">1.997</td><td style = \"text-align: right;\">1.997</td><td style = \"text-align: right;\">1.997</td><td style = \"text-align: right;\">1.996</td><td style = \"text-align: right;\">1.9389</td><td style = \"text-align: right;\">1.997</td><td style = \"text-align: right;\">1.963</td><td style = \"text-align: right;\">1.997</td><td style = \"text-align: right;\">1.998</td><td style = \"text-align: right;\">1.998</td><td style = \"text-align: right;\">1.938</td><td style = \"text-align: right;\">1.997</td><td style = \"text-align: right;\">1.997</td><td style = \"text-align: right;\">1.997</td><td style = \"text-align: right;\">1.998</td><td style = \"text-align: right;\">1.997</td><td style = \"text-align: right;\">1.998</td><td style = \"text-align: right;\">1.997</td><td style = \"text-align: right;\">1.998</td><td style = \"text-align: right;\">1.997</td><td style = \"text-align: right;\">1.998</td><td style = \"text-align: right;\">1.997</td><td style = \"text-align: right;\">1.997</td><td style = \"text-align: right;\">1.998</td><td style = \"text-align: right;\">1.997</td><td style = \"text-align: right;\">1.997</td><td style = \"text-align: right;\">1.998</td><td style = \"text-align: right;\">1.996</td><td style = \"text-align: right;\">1.997</td><td style = \"text-align: right;\">1.997</td><td style = \"text-align: right;\">1.997</td><td style = \"text-align: right;\">1.998</td><td style = \"text-align: right;\">1.998</td><td style = \"text-align: right;\">1.997</td><td style = \"text-align: right;\">1.043</td><td style = \"text-align: right;\">1.997</td><td style = \"text-align: right;\">1.997</td><td style = \"text-align: right;\">1.998</td><td style = \"text-align: right;\">1.997</td><td style = \"text-align: right;\">1.998</td><td style = \"text-align: right;\">1.995</td><td style = \"text-align: right;\">1.997</td><td style = \"text-align: right;\">1.997</td><td style = \"text-align: right;\">1.998</td><td style = \"text-align: right;\">1.998</td><td style = \"text-align: right;\">1.997</td><td style = \"text-align: right;\">1.997</td><td style = \"text-align: right;\">1.086</td><td style = \"text-align: right;\">1.054</td><td style = \"text-align: right;\">1.997</td><td style = \"text-align: right;\">1.997</td><td style = \"text-align: right;\">1.997</td><td style = \"text-align: right;\">1.998</td></tr><tr><td class = \"rowNumber\" style = \"font-weight: bold; text-align: right;\">13</td><td style = \"text-align: right;\">1</td><td style = \"text-align: left;\">chr1:1151294</td><td style = \"text-align: right;\">1.15129</td><td style = \"text-align: right;\">1.15129</td><td style = \"text-align: right;\">1.997</td><td style = \"text-align: right;\">1.997</td><td style = \"text-align: right;\">1.006</td><td style = \"text-align: right;\">1.997</td><td style = \"text-align: right;\">1.998</td><td style = \"text-align: right;\">1.997</td><td style = \"text-align: right;\">1.993</td><td style = \"text-align: right;\">1.997</td><td style = \"text-align: right;\">1.98</td><td style = \"text-align: right;\">1.997</td><td style = \"text-align: right;\">1.993</td><td style = \"text-align: right;\">1.995</td><td style = \"text-align: right;\">1.0</td><td style = \"text-align: right;\">1.997</td><td style = \"text-align: right;\">1.0</td><td style = \"text-align: right;\">1.132</td><td style = \"text-align: right;\">1.997</td><td style = \"text-align: right;\">1.998</td><td style = \"text-align: right;\">1.132</td><td style = \"text-align: right;\">1.997</td><td style = \"text-align: right;\">1.0</td><td style = \"text-align: right;\">1.998</td><td style = \"text-align: right;\">1.995</td><td style = \"text-align: right;\">1.998</td><td style = \"text-align: right;\">1.997</td><td style = \"text-align: right;\">1.0</td><td style = \"text-align: right;\">1.997</td><td style = \"text-align: right;\">1.997</td><td style = \"text-align: right;\">1.997</td><td style = \"text-align: right;\">1.997</td><td style = \"text-align: right;\">1.993</td><td style = \"text-align: right;\">1.1702</td><td style = \"text-align: right;\">1.997</td><td style = \"text-align: right;\">1.132</td><td style = \"text-align: right;\">1.833</td><td style = \"text-align: right;\">1.998</td><td style = \"text-align: right;\">1.998</td><td style = \"text-align: right;\">1.16718</td><td style = \"text-align: right;\">1.997</td><td style = \"text-align: right;\">1.997</td><td style = \"text-align: right;\">1.886</td><td style = \"text-align: right;\">1.998</td><td style = \"text-align: right;\">1.997</td><td style = \"text-align: right;\">1.998</td><td style = \"text-align: right;\">1.997</td><td style = \"text-align: right;\">1.998</td><td style = \"text-align: right;\">1.997</td><td style = \"text-align: right;\">1.998</td><td style = \"text-align: right;\">1.997</td><td style = \"text-align: right;\">1.997</td><td style = \"text-align: right;\">1.981</td><td style = \"text-align: right;\">1.997</td><td style = \"text-align: right;\">1.997</td><td style = \"text-align: right;\">1.998</td><td style = \"text-align: right;\">1.995</td><td style = \"text-align: right;\">1.997</td><td style = \"text-align: right;\">1.997</td><td style = \"text-align: right;\">1.997</td><td style = \"text-align: right;\">1.998</td><td style = \"text-align: right;\">1.998</td><td style = \"text-align: right;\">1.997</td><td style = \"text-align: right;\">1.0</td><td style = \"text-align: right;\">1.997</td><td style = \"text-align: right;\">1.997</td><td style = \"text-align: right;\">1.998</td><td style = \"text-align: right;\">1.997</td><td style = \"text-align: right;\">1.998</td><td style = \"text-align: right;\">1.992</td><td style = \"text-align: right;\">1.997</td><td style = \"text-align: right;\">1.997</td><td style = \"text-align: right;\">1.998</td><td style = \"text-align: right;\">1.998</td><td style = \"text-align: right;\">1.997</td><td style = \"text-align: right;\">1.997</td><td style = \"text-align: right;\">1.0</td><td style = \"text-align: right;\">1.0</td><td style = \"text-align: right;\">1.997</td><td style = \"text-align: right;\">1.997</td><td style = \"text-align: right;\">1.997</td><td style = \"text-align: right;\">1.998</td></tr><tr><td style = \"text-align: right;\">&vellip;</td><td style = \"text-align: right;\">&vellip;</td><td style = \"text-align: right;\">&vellip;</td><td style = \"text-align: right;\">&vellip;</td><td style = \"text-align: right;\">&vellip;</td><td style = \"text-align: right;\">&vellip;</td><td style = \"text-align: right;\">&vellip;</td><td style = \"text-align: right;\">&vellip;</td><td style = \"text-align: right;\">&vellip;</td><td style = \"text-align: right;\">&vellip;</td><td style = \"text-align: right;\">&vellip;</td><td style = \"text-align: right;\">&vellip;</td><td style = \"text-align: right;\">&vellip;</td><td style = \"text-align: right;\">&vellip;</td><td style = \"text-align: right;\">&vellip;</td><td style = \"text-align: right;\">&vellip;</td><td style = \"text-align: right;\">&vellip;</td><td style = \"text-align: right;\">&vellip;</td><td style = \"text-align: right;\">&vellip;</td><td style = \"text-align: right;\">&vellip;</td><td style = \"text-align: right;\">&vellip;</td><td style = \"text-align: right;\">&vellip;</td><td style = \"text-align: right;\">&vellip;</td><td style = \"text-align: right;\">&vellip;</td><td style = \"text-align: right;\">&vellip;</td><td style = \"text-align: right;\">&vellip;</td><td style = \"text-align: right;\">&vellip;</td><td style = \"text-align: right;\">&vellip;</td><td style = \"text-align: right;\">&vellip;</td><td style = \"text-align: right;\">&vellip;</td><td style = \"text-align: right;\">&vellip;</td><td style = \"text-align: right;\">&vellip;</td><td style = \"text-align: right;\">&vellip;</td><td style = \"text-align: right;\">&vellip;</td><td style = \"text-align: right;\">&vellip;</td><td style = \"text-align: right;\">&vellip;</td><td style = \"text-align: right;\">&vellip;</td><td style = \"text-align: right;\">&vellip;</td><td style = \"text-align: right;\">&vellip;</td><td style = \"text-align: right;\">&vellip;</td><td style = \"text-align: right;\">&vellip;</td><td style = \"text-align: right;\">&vellip;</td><td style = \"text-align: right;\">&vellip;</td><td style = \"text-align: right;\">&vellip;</td><td style = \"text-align: right;\">&vellip;</td><td style = \"text-align: right;\">&vellip;</td><td style = \"text-align: right;\">&vellip;</td><td style = \"text-align: right;\">&vellip;</td><td style = \"text-align: right;\">&vellip;</td><td style = \"text-align: right;\">&vellip;</td><td style = \"text-align: right;\">&vellip;</td><td style = \"text-align: right;\">&vellip;</td><td style = \"text-align: right;\">&vellip;</td><td style = \"text-align: right;\">&vellip;</td><td style = \"text-align: right;\">&vellip;</td><td style = \"text-align: right;\">&vellip;</td><td style = \"text-align: right;\">&vellip;</td><td style = \"text-align: right;\">&vellip;</td><td style = \"text-align: right;\">&vellip;</td><td style = \"text-align: right;\">&vellip;</td><td style = \"text-align: right;\">&vellip;</td><td style = \"text-align: right;\">&vellip;</td><td style = \"text-align: right;\">&vellip;</td><td style = \"text-align: right;\">&vellip;</td><td style = \"text-align: right;\">&vellip;</td><td style = \"text-align: right;\">&vellip;</td><td style = \"text-align: right;\">&vellip;</td><td style = \"text-align: right;\">&vellip;</td><td style = \"text-align: right;\">&vellip;</td><td style = \"text-align: right;\">&vellip;</td><td style = \"text-align: right;\">&vellip;</td><td style = \"text-align: right;\">&vellip;</td><td style = \"text-align: right;\">&vellip;</td><td style = \"text-align: right;\">&vellip;</td><td style = \"text-align: right;\">&vellip;</td><td style = \"text-align: right;\">&vellip;</td><td style = \"text-align: right;\">&vellip;</td><td style = \"text-align: right;\">&vellip;</td><td style = \"text-align: right;\">&vellip;</td><td style = \"text-align: right;\">&vellip;</td><td style = \"text-align: right;\">&vellip;</td><td style = \"text-align: right;\">&vellip;</td><td style = \"text-align: right;\">&vellip;</td><td style = \"text-align: right;\">&vellip;</td><td style = \"text-align: right;\">&vellip;</td></tr><tr><td class = \"rowNumber\" style = \"font-weight: bold; text-align: right;\">134670</td><td style = \"text-align: right;\">20</td><td style = \"text-align: left;\">chr20:55641278</td><td style = \"text-align: right;\">55.6413</td><td style = \"text-align: right;\">55.6413</td><td style = \"text-align: right;\">1.917</td><td style = \"text-align: right;\">1.917</td><td style = \"text-align: right;\">1.917</td><td style = \"text-align: right;\">1.917</td><td style = \"text-align: right;\">1.979</td><td style = \"text-align: right;\">1.917</td><td style = \"text-align: right;\">1.917</td><td style = \"text-align: right;\">1.917</td><td style = \"text-align: right;\">1.917</td><td style = \"text-align: right;\">1.917</td><td style = \"text-align: right;\">1.917</td><td style = \"text-align: right;\">1.917</td><td style = \"text-align: right;\">1.917</td><td style = \"text-align: right;\">1.917</td><td style = \"text-align: right;\">1.917</td><td style = \"text-align: right;\">1.917</td><td style = \"text-align: right;\">1.917</td><td style = \"text-align: right;\">1.917</td><td style = \"text-align: right;\">1.917</td><td style = \"text-align: right;\">1.917</td><td style = \"text-align: right;\">1.917</td><td style = \"text-align: right;\">1.917</td><td style = \"text-align: right;\">1.917</td><td style = \"text-align: right;\">1.917</td><td style = \"text-align: right;\">1.917</td><td style = \"text-align: right;\">1.917</td><td style = \"text-align: right;\">1.917</td><td style = \"text-align: right;\">1.917</td><td style = \"text-align: right;\">1.917</td><td style = \"text-align: right;\">1.917</td><td style = \"text-align: right;\">1.917</td><td style = \"text-align: right;\">1.917</td><td style = \"text-align: right;\">1.917</td><td style = \"text-align: right;\">1.917</td><td style = \"text-align: right;\">1.917</td><td style = \"text-align: right;\">1.917</td><td style = \"text-align: right;\">1.917</td><td style = \"text-align: right;\">1.917</td><td style = \"text-align: right;\">1.917</td><td style = \"text-align: right;\">1.917</td><td style = \"text-align: right;\">0.96</td><td style = \"text-align: right;\">1.917</td><td style = \"text-align: right;\">1.917</td><td style = \"text-align: right;\">1.917</td><td style = \"text-align: right;\">1.917</td><td style = \"text-align: right;\">1.917</td><td style = \"text-align: right;\">1.917</td><td style = \"text-align: right;\">1.917</td><td style = \"text-align: right;\">1.917</td><td style = \"text-align: right;\">1.917</td><td style = \"text-align: right;\">1.917</td><td style = \"text-align: right;\">1.917</td><td style = \"text-align: right;\">1.917</td><td style = \"text-align: right;\">1.917</td><td style = \"text-align: right;\">1.917</td><td style = \"text-align: right;\">1.917</td><td style = \"text-align: right;\">1.917</td><td style = \"text-align: right;\">1.917</td><td style = \"text-align: right;\">1.917</td><td style = \"text-align: right;\">1.917</td><td style = \"text-align: right;\">1.917</td><td style = \"text-align: right;\">1.917</td><td style = \"text-align: right;\">1.917</td><td style = \"text-align: right;\">1.917</td><td style = \"text-align: right;\">1.917</td><td style = \"text-align: right;\">1.917</td><td style = \"text-align: right;\">1.91498</td><td style = \"text-align: right;\">1.917</td><td style = \"text-align: right;\">1.917</td><td style = \"text-align: right;\">1.917</td><td style = \"text-align: right;\">1.917</td><td style = \"text-align: right;\">1.917</td><td style = \"text-align: right;\">1.917</td><td style = \"text-align: right;\">1.917</td><td style = \"text-align: right;\">1.917</td><td style = \"text-align: right;\">1.917</td><td style = \"text-align: right;\">1.917</td><td style = \"text-align: right;\">1.917</td><td style = \"text-align: right;\">1.917</td><td style = \"text-align: right;\">1.917</td></tr><tr><td class = \"rowNumber\" style = \"font-weight: bold; text-align: right;\">134671</td><td style = \"text-align: right;\">20</td><td style = \"text-align: left;\">chr20:55644746</td><td style = \"text-align: right;\">55.6447</td><td style = \"text-align: right;\">55.6447</td><td style = \"text-align: right;\">1.99</td><td style = \"text-align: right;\">1.99</td><td style = \"text-align: right;\">1.99</td><td style = \"text-align: right;\">1.99</td><td style = \"text-align: right;\">1.022</td><td style = \"text-align: right;\">1.99</td><td style = \"text-align: right;\">1.99</td><td style = \"text-align: right;\">1.99</td><td style = \"text-align: right;\">1.99</td><td style = \"text-align: right;\">1.99</td><td style = \"text-align: right;\">1.99</td><td style = \"text-align: right;\">1.99</td><td style = \"text-align: right;\">1.99</td><td style = \"text-align: right;\">1.99</td><td style = \"text-align: right;\">1.99</td><td style = \"text-align: right;\">1.99</td><td style = \"text-align: right;\">1.99</td><td style = \"text-align: right;\">1.99</td><td style = \"text-align: right;\">1.99</td><td style = \"text-align: right;\">1.99</td><td style = \"text-align: right;\">1.99</td><td style = \"text-align: right;\">1.99</td><td style = \"text-align: right;\">1.99</td><td style = \"text-align: right;\">1.99</td><td style = \"text-align: right;\">1.99</td><td style = \"text-align: right;\">1.99</td><td style = \"text-align: right;\">1.99</td><td style = \"text-align: right;\">1.99</td><td style = \"text-align: right;\">1.99</td><td style = \"text-align: right;\">1.99</td><td style = \"text-align: right;\">1.99</td><td style = \"text-align: right;\">1.99</td><td style = \"text-align: right;\">1.99</td><td style = \"text-align: right;\">1.99</td><td style = \"text-align: right;\">1.99</td><td style = \"text-align: right;\">1.99</td><td style = \"text-align: right;\">1.99</td><td style = \"text-align: right;\">1.99</td><td style = \"text-align: right;\">1.99</td><td style = \"text-align: right;\">1.99</td><td style = \"text-align: right;\">0.996</td><td style = \"text-align: right;\">1.99</td><td style = \"text-align: right;\">1.99</td><td style = \"text-align: right;\">1.99</td><td style = \"text-align: right;\">1.99</td><td style = \"text-align: right;\">1.99</td><td style = \"text-align: right;\">1.99</td><td style = \"text-align: right;\">1.99</td><td style = \"text-align: right;\">1.99</td><td style = \"text-align: right;\">1.99</td><td style = \"text-align: right;\">1.99</td><td style = \"text-align: right;\">1.99</td><td style = \"text-align: right;\">1.99</td><td style = \"text-align: right;\">1.99</td><td style = \"text-align: right;\">1.99</td><td style = \"text-align: right;\">1.99</td><td style = \"text-align: right;\">1.99</td><td style = \"text-align: right;\">1.99</td><td style = \"text-align: right;\">1.99</td><td style = \"text-align: right;\">1.99</td><td style = \"text-align: right;\">1.99</td><td style = \"text-align: right;\">1.99</td><td style = \"text-align: right;\">1.99</td><td style = \"text-align: right;\">1.99</td><td style = \"text-align: right;\">1.99</td><td style = \"text-align: right;\">1.99</td><td style = \"text-align: right;\">1.99</td><td style = \"text-align: right;\">1.99</td><td style = \"text-align: right;\">1.99</td><td style = \"text-align: right;\">1.99</td><td style = \"text-align: right;\">1.99</td><td style = \"text-align: right;\">1.99</td><td style = \"text-align: right;\">1.99</td><td style = \"text-align: right;\">1.99</td><td style = \"text-align: right;\">1.99</td><td style = \"text-align: right;\">1.99</td><td style = \"text-align: right;\">1.99</td><td style = \"text-align: right;\">1.99</td><td style = \"text-align: right;\">1.99</td><td style = \"text-align: right;\">1.99</td></tr><tr><td class = \"rowNumber\" style = \"font-weight: bold; text-align: right;\">134672</td><td style = \"text-align: right;\">20</td><td style = \"text-align: left;\">chr20:55659520</td><td style = \"text-align: right;\">55.6595</td><td style = \"text-align: right;\">55.6595</td><td style = \"text-align: right;\">1.913</td><td style = \"text-align: right;\">1.913</td><td style = \"text-align: right;\">1.913</td><td style = \"text-align: right;\">1.913</td><td style = \"text-align: right;\">0.08002</td><td style = \"text-align: right;\">1.913</td><td style = \"text-align: right;\">1.913</td><td style = \"text-align: right;\">1.913</td><td style = \"text-align: right;\">1.913</td><td style = \"text-align: right;\">1.913</td><td style = \"text-align: right;\">1.913</td><td style = \"text-align: right;\">1.913</td><td style = \"text-align: right;\">1.913</td><td style = \"text-align: right;\">1.9139</td><td style = \"text-align: right;\">1.913</td><td style = \"text-align: right;\">1.913</td><td style = \"text-align: right;\">1.913</td><td style = \"text-align: right;\">1.913</td><td style = \"text-align: right;\">1.913</td><td style = \"text-align: right;\">1.913</td><td style = \"text-align: right;\">1.913</td><td style = \"text-align: right;\">1.913</td><td style = \"text-align: right;\">1.913</td><td style = \"text-align: right;\">1.913</td><td style = \"text-align: right;\">1.913</td><td style = \"text-align: right;\">1.913</td><td style = \"text-align: right;\">1.913</td><td style = \"text-align: right;\">1.913</td><td style = \"text-align: right;\">1.913</td><td style = \"text-align: right;\">1.913</td><td style = \"text-align: right;\">1.913</td><td style = \"text-align: right;\">1.913</td><td style = \"text-align: right;\">1.913</td><td style = \"text-align: right;\">1.913</td><td style = \"text-align: right;\">1.913</td><td style = \"text-align: right;\">1.913</td><td style = \"text-align: right;\">1.913</td><td style = \"text-align: right;\">1.913</td><td style = \"text-align: right;\">1.913</td><td style = \"text-align: right;\">1.913</td><td style = \"text-align: right;\">0.95795</td><td style = \"text-align: right;\">1.913</td><td style = \"text-align: right;\">1.913</td><td style = \"text-align: right;\">1.913</td><td style = \"text-align: right;\">1.913</td><td style = \"text-align: right;\">1.913</td><td style = \"text-align: right;\">1.913</td><td style = \"text-align: right;\">1.913</td><td style = \"text-align: right;\">1.913</td><td style = \"text-align: right;\">1.913</td><td style = \"text-align: right;\">1.913</td><td style = \"text-align: right;\">1.913</td><td style = \"text-align: right;\">1.913</td><td style = \"text-align: right;\">1.913</td><td style = \"text-align: right;\">1.913</td><td style = \"text-align: right;\">1.913</td><td style = \"text-align: right;\">1.913</td><td style = \"text-align: right;\">1.913</td><td style = \"text-align: right;\">1.913</td><td style = \"text-align: right;\">1.913</td><td style = \"text-align: right;\">1.913</td><td style = \"text-align: right;\">1.913</td><td style = \"text-align: right;\">1.913</td><td style = \"text-align: right;\">1.913</td><td style = \"text-align: right;\">1.913</td><td style = \"text-align: right;\">1.913</td><td style = \"text-align: right;\">1.912</td><td style = \"text-align: right;\">1.913</td><td style = \"text-align: right;\">1.913</td><td style = \"text-align: right;\">1.913</td><td style = \"text-align: right;\">1.913</td><td style = \"text-align: right;\">1.913</td><td style = \"text-align: right;\">1.913</td><td style = \"text-align: right;\">1.913</td><td style = \"text-align: right;\">1.913</td><td style = \"text-align: right;\">1.913</td><td style = \"text-align: right;\">1.913</td><td style = \"text-align: right;\">1.913</td><td style = \"text-align: right;\">1.913</td><td style = \"text-align: right;\">1.913</td></tr><tr><td class = \"rowNumber\" style = \"font-weight: bold; text-align: right;\">134673</td><td style = \"text-align: right;\">20</td><td style = \"text-align: left;\">chr20:55716379</td><td style = \"text-align: right;\">55.7164</td><td style = \"text-align: right;\">55.7164</td><td style = \"text-align: right;\">0.004</td><td style = \"text-align: right;\">0.004</td><td style = \"text-align: right;\">0.004</td><td style = \"text-align: right;\">0.004</td><td style = \"text-align: right;\">0.022</td><td style = \"text-align: right;\">0.004</td><td style = \"text-align: right;\">0.004</td><td style = \"text-align: right;\">0.004</td><td style = \"text-align: right;\">0.004</td><td style = \"text-align: right;\">0.004</td><td style = \"text-align: right;\">0.004</td><td style = \"text-align: right;\">0.004</td><td style = \"text-align: right;\">0.004</td><td style = \"text-align: right;\">0.004</td><td style = \"text-align: right;\">0.004</td><td style = \"text-align: right;\">0.004</td><td style = \"text-align: right;\">0.004</td><td style = \"text-align: right;\">0.004</td><td style = \"text-align: right;\">0.004</td><td style = \"text-align: right;\">0.004</td><td style = \"text-align: right;\">0.004</td><td style = \"text-align: right;\">0.004</td><td style = \"text-align: right;\">0.004</td><td style = \"text-align: right;\">0.004</td><td style = \"text-align: right;\">0.004</td><td style = \"text-align: right;\">0.004</td><td style = \"text-align: right;\">0.004</td><td style = \"text-align: right;\">0.004</td><td style = \"text-align: right;\">0.004</td><td style = \"text-align: right;\">0.004</td><td style = \"text-align: right;\">0.004</td><td style = \"text-align: right;\">0.004</td><td style = \"text-align: right;\">0.004</td><td style = \"text-align: right;\">0.004</td><td style = \"text-align: right;\">0.004</td><td style = \"text-align: right;\">0.004</td><td style = \"text-align: right;\">0.004</td><td style = \"text-align: right;\">0.004</td><td style = \"text-align: right;\">0.004</td><td style = \"text-align: right;\">0.004</td><td style = \"text-align: right;\">1.0</td><td style = \"text-align: right;\">0.004</td><td style = \"text-align: right;\">0.004</td><td style = \"text-align: right;\">0.004</td><td style = \"text-align: right;\">0.004</td><td style = \"text-align: right;\">0.004</td><td style = \"text-align: right;\">0.004</td><td style = \"text-align: right;\">0.004</td><td style = \"text-align: right;\">0.004</td><td style = \"text-align: right;\">0.004</td><td style = \"text-align: right;\">0.004</td><td style = \"text-align: right;\">0.004</td><td style = \"text-align: right;\">0.004</td><td style = \"text-align: right;\">0.004</td><td style = \"text-align: right;\">0.004</td><td style = \"text-align: right;\">0.004</td><td style = \"text-align: right;\">0.004</td><td style = \"text-align: right;\">0.004</td><td style = \"text-align: right;\">0.004</td><td style = \"text-align: right;\">0.004</td><td style = \"text-align: right;\">0.004</td><td style = \"text-align: right;\">0.004</td><td style = \"text-align: right;\">0.004</td><td style = \"text-align: right;\">0.004</td><td style = \"text-align: right;\">0.004</td><td style = \"text-align: right;\">0.004</td><td style = \"text-align: right;\">0.004</td><td style = \"text-align: right;\">0.004</td><td style = \"text-align: right;\">0.004</td><td style = \"text-align: right;\">0.004</td><td style = \"text-align: right;\">0.004</td><td style = \"text-align: right;\">0.004</td><td style = \"text-align: right;\">0.004</td><td style = \"text-align: right;\">0.004</td><td style = \"text-align: right;\">0.004</td><td style = \"text-align: right;\">0.004</td><td style = \"text-align: right;\">0.004</td><td style = \"text-align: right;\">0.004</td><td style = \"text-align: right;\">0.004</td><td style = \"text-align: right;\">0.004</td></tr><tr><td class = \"rowNumber\" style = \"font-weight: bold; text-align: right;\">134674</td><td style = \"text-align: right;\">20</td><td style = \"text-align: left;\">chr20:55744179</td><td style = \"text-align: right;\">55.7442</td><td style = \"text-align: right;\">55.7442</td><td style = \"text-align: right;\">2.0</td><td style = \"text-align: right;\">2.0</td><td style = \"text-align: right;\">2.0</td><td style = \"text-align: right;\">2.0</td><td style = \"text-align: right;\">1.0</td><td style = \"text-align: right;\">2.0</td><td style = \"text-align: right;\">2.0</td><td style = \"text-align: right;\">2.0</td><td style = \"text-align: right;\">2.0</td><td style = \"text-align: right;\">2.0</td><td style = \"text-align: right;\">2.0</td><td style = \"text-align: right;\">2.0</td><td style = \"text-align: right;\">2.0</td><td style = \"text-align: right;\">2.0</td><td style = \"text-align: right;\">2.0</td><td style = \"text-align: right;\">2.0</td><td style = \"text-align: right;\">2.0</td><td style = \"text-align: right;\">2.0</td><td style = \"text-align: right;\">2.0</td><td style = \"text-align: right;\">2.0</td><td style = \"text-align: right;\">2.0</td><td style = \"text-align: right;\">2.0</td><td style = \"text-align: right;\">2.0</td><td style = \"text-align: right;\">2.0</td><td style = \"text-align: right;\">2.0</td><td style = \"text-align: right;\">2.0</td><td style = \"text-align: right;\">2.0</td><td style = \"text-align: right;\">2.0</td><td style = \"text-align: right;\">2.0</td><td style = \"text-align: right;\">2.0</td><td style = \"text-align: right;\">2.0</td><td style = \"text-align: right;\">2.0</td><td style = \"text-align: right;\">2.0</td><td style = \"text-align: right;\">2.0</td><td style = \"text-align: right;\">2.0</td><td style = \"text-align: right;\">2.0</td><td style = \"text-align: right;\">2.0</td><td style = \"text-align: right;\">2.0</td><td style = \"text-align: right;\">2.0</td><td style = \"text-align: right;\">2.0</td><td style = \"text-align: right;\">1.0</td><td style = \"text-align: right;\">2.0</td><td style = \"text-align: right;\">2.0</td><td style = \"text-align: right;\">2.0</td><td style = \"text-align: right;\">2.0</td><td style = \"text-align: right;\">2.0</td><td style = \"text-align: right;\">2.0</td><td style = \"text-align: right;\">2.0</td><td style = \"text-align: right;\">2.0</td><td style = \"text-align: right;\">2.0</td><td style = \"text-align: right;\">2.0</td><td style = \"text-align: right;\">2.0</td><td style = \"text-align: right;\">2.0</td><td style = \"text-align: right;\">2.0</td><td style = \"text-align: right;\">2.0</td><td style = \"text-align: right;\">2.0</td><td style = \"text-align: right;\">2.0</td><td style = \"text-align: right;\">2.0</td><td style = \"text-align: right;\">2.0</td><td style = \"text-align: right;\">2.0</td><td style = \"text-align: right;\">2.0</td><td style = \"text-align: right;\">2.0</td><td style = \"text-align: right;\">2.0</td><td style = \"text-align: right;\">2.0</td><td style = \"text-align: right;\">2.0</td><td style = \"text-align: right;\">2.0</td><td style = \"text-align: right;\">2.0</td><td style = \"text-align: right;\">2.0</td><td style = \"text-align: right;\">2.0</td><td style = \"text-align: right;\">2.0</td><td style = \"text-align: right;\">2.0</td><td style = \"text-align: right;\">2.0</td><td style = \"text-align: right;\">2.0</td><td style = \"text-align: right;\">2.0</td><td style = \"text-align: right;\">2.0</td><td style = \"text-align: right;\">2.0</td><td style = \"text-align: right;\">2.0</td><td style = \"text-align: right;\">2.0</td><td style = \"text-align: right;\">2.0</td><td style = \"text-align: right;\">2.0</td></tr><tr><td class = \"rowNumber\" style = \"font-weight: bold; text-align: right;\">134675</td><td style = \"text-align: right;\">20</td><td style = \"text-align: left;\">chr20:55773139</td><td style = \"text-align: right;\">55.7731</td><td style = \"text-align: right;\">55.7731</td><td style = \"text-align: right;\">1.913</td><td style = \"text-align: right;\">1.913</td><td style = \"text-align: right;\">1.913</td><td style = \"text-align: right;\">1.913</td><td style = \"text-align: right;\">0.92902</td><td style = \"text-align: right;\">1.913</td><td style = \"text-align: right;\">1.913</td><td style = \"text-align: right;\">1.913</td><td style = \"text-align: right;\">1.913</td><td style = \"text-align: right;\">1.913</td><td style = \"text-align: right;\">1.913</td><td style = \"text-align: right;\">1.913</td><td style = \"text-align: right;\">1.913</td><td style = \"text-align: right;\">1.913</td><td style = \"text-align: right;\">1.91205</td><td style = \"text-align: right;\">1.913</td><td style = \"text-align: right;\">1.913</td><td style = \"text-align: right;\">1.913</td><td style = \"text-align: right;\">1.913</td><td style = \"text-align: right;\">1.913</td><td style = \"text-align: right;\">1.913</td><td style = \"text-align: right;\">1.913</td><td style = \"text-align: right;\">1.913</td><td style = \"text-align: right;\">1.913</td><td style = \"text-align: right;\">1.913</td><td style = \"text-align: right;\">1.913</td><td style = \"text-align: right;\">1.913</td><td style = \"text-align: right;\">1.913</td><td style = \"text-align: right;\">1.91205</td><td style = \"text-align: right;\">1.913</td><td style = \"text-align: right;\">1.913</td><td style = \"text-align: right;\">1.913</td><td style = \"text-align: right;\">1.913</td><td style = \"text-align: right;\">1.913</td><td style = \"text-align: right;\">1.913</td><td style = \"text-align: right;\">1.913</td><td style = \"text-align: right;\">1.913</td><td style = \"text-align: right;\">1.913</td><td style = \"text-align: right;\">1.913</td><td style = \"text-align: right;\">1.913</td><td style = \"text-align: right;\">0.959</td><td style = \"text-align: right;\">1.913</td><td style = \"text-align: right;\">1.913</td><td style = \"text-align: right;\">1.913</td><td style = \"text-align: right;\">1.913</td><td style = \"text-align: right;\">1.913</td><td style = \"text-align: right;\">1.913</td><td style = \"text-align: right;\">1.913</td><td style = \"text-align: right;\">1.913</td><td style = \"text-align: right;\">1.913</td><td style = \"text-align: right;\">1.913</td><td style = \"text-align: right;\">1.913</td><td style = \"text-align: right;\">1.913</td><td style = \"text-align: right;\">1.913</td><td style = \"text-align: right;\">1.913</td><td style = \"text-align: right;\">1.913</td><td style = \"text-align: right;\">1.913</td><td style = \"text-align: right;\">1.913</td><td style = \"text-align: right;\">1.913</td><td style = \"text-align: right;\">1.913</td><td style = \"text-align: right;\">1.913</td><td style = \"text-align: right;\">1.913</td><td style = \"text-align: right;\">1.913</td><td style = \"text-align: right;\">1.913</td><td style = \"text-align: right;\">1.91205</td><td style = \"text-align: right;\">1.913</td><td style = \"text-align: right;\">1.911</td><td style = \"text-align: right;\">1.913</td><td style = \"text-align: right;\">1.913</td><td style = \"text-align: right;\">1.913</td><td style = \"text-align: right;\">1.913</td><td style = \"text-align: right;\">1.913</td><td style = \"text-align: right;\">1.913</td><td style = \"text-align: right;\">1.913</td><td style = \"text-align: right;\">1.913</td><td style = \"text-align: right;\">1.913</td><td style = \"text-align: right;\">1.91205</td><td style = \"text-align: right;\">1.913</td><td style = \"text-align: right;\">1.913</td><td style = \"text-align: right;\">1.913</td></tr><tr><td class = \"rowNumber\" style = \"font-weight: bold; text-align: right;\">134676</td><td style = \"text-align: right;\">20</td><td style = \"text-align: left;\">chr20:55818290</td><td style = \"text-align: right;\">55.8183</td><td style = \"text-align: right;\">55.8183</td><td style = \"text-align: right;\">1.89703</td><td style = \"text-align: right;\">1.89703</td><td style = \"text-align: right;\">1.89703</td><td style = \"text-align: right;\">1.89703</td><td style = \"text-align: right;\">0.9049</td><td style = \"text-align: right;\">1.89703</td><td style = \"text-align: right;\">1.89703</td><td style = \"text-align: right;\">1.89703</td><td style = \"text-align: right;\">1.89703</td><td style = \"text-align: right;\">1.89703</td><td style = \"text-align: right;\">1.89703</td><td style = \"text-align: right;\">1.89703</td><td style = \"text-align: right;\">1.89703</td><td style = \"text-align: right;\">1.90485</td><td style = \"text-align: right;\">1.89703</td><td style = \"text-align: right;\">1.89703</td><td style = \"text-align: right;\">1.89703</td><td style = \"text-align: right;\">1.89703</td><td style = \"text-align: right;\">1.89703</td><td style = \"text-align: right;\">1.89703</td><td style = \"text-align: right;\">1.89703</td><td style = \"text-align: right;\">1.89703</td><td style = \"text-align: right;\">1.89703</td><td style = \"text-align: right;\">1.89703</td><td style = \"text-align: right;\">1.89703</td><td style = \"text-align: right;\">1.89703</td><td style = \"text-align: right;\">1.89703</td><td style = \"text-align: right;\">1.89703</td><td style = \"text-align: right;\">1.89703</td><td style = \"text-align: right;\">1.89703</td><td style = \"text-align: right;\">1.89703</td><td style = \"text-align: right;\">1.89703</td><td style = \"text-align: right;\">1.89703</td><td style = \"text-align: right;\">1.89716</td><td style = \"text-align: right;\">1.89703</td><td style = \"text-align: right;\">1.89703</td><td style = \"text-align: right;\">1.89703</td><td style = \"text-align: right;\">1.89703</td><td style = \"text-align: right;\">1.89703</td><td style = \"text-align: right;\">1.89703</td><td style = \"text-align: right;\">0.95502</td><td style = \"text-align: right;\">1.89703</td><td style = \"text-align: right;\">1.89703</td><td style = \"text-align: right;\">1.89703</td><td style = \"text-align: right;\">1.89703</td><td style = \"text-align: right;\">1.89703</td><td style = \"text-align: right;\">1.89703</td><td style = \"text-align: right;\">1.89703</td><td style = \"text-align: right;\">1.89703</td><td style = \"text-align: right;\">1.89703</td><td style = \"text-align: right;\">1.89703</td><td style = \"text-align: right;\">1.89703</td><td style = \"text-align: right;\">1.89703</td><td style = \"text-align: right;\">1.89703</td><td style = \"text-align: right;\">1.89703</td><td style = \"text-align: right;\">1.89703</td><td style = \"text-align: right;\">1.89703</td><td style = \"text-align: right;\">1.89703</td><td style = \"text-align: right;\">1.89703</td><td style = \"text-align: right;\">1.89703</td><td style = \"text-align: right;\">1.89703</td><td style = \"text-align: right;\">1.89703</td><td style = \"text-align: right;\">1.89703</td><td style = \"text-align: right;\">1.89703</td><td style = \"text-align: right;\">1.89703</td><td style = \"text-align: right;\">1.89703</td><td style = \"text-align: right;\">1.89703</td><td style = \"text-align: right;\">1.89703</td><td style = \"text-align: right;\">1.89703</td><td style = \"text-align: right;\">1.89703</td><td style = \"text-align: right;\">1.89703</td><td style = \"text-align: right;\">1.89703</td><td style = \"text-align: right;\">1.89703</td><td style = \"text-align: right;\">1.89703</td><td style = \"text-align: right;\">1.89703</td><td style = \"text-align: right;\">1.89703</td><td style = \"text-align: right;\">1.89703</td><td style = \"text-align: right;\">1.89703</td><td style = \"text-align: right;\">1.89703</td><td style = \"text-align: right;\">1.89703</td></tr><tr><td class = \"rowNumber\" style = \"font-weight: bold; text-align: right;\">134677</td><td style = \"text-align: right;\">20</td><td style = \"text-align: left;\">chr20:55944342</td><td style = \"text-align: right;\">55.9443</td><td style = \"text-align: right;\">55.9443</td><td style = \"text-align: right;\">2.0</td><td style = \"text-align: right;\">2.0</td><td style = \"text-align: right;\">2.0</td><td style = \"text-align: right;\">2.0</td><td style = \"text-align: right;\">1.0</td><td style = \"text-align: right;\">2.0</td><td style = \"text-align: right;\">2.0</td><td style = \"text-align: right;\">2.0</td><td style = \"text-align: right;\">2.0</td><td style = \"text-align: right;\">2.0</td><td style = \"text-align: right;\">2.0</td><td style = \"text-align: right;\">2.0</td><td style = \"text-align: right;\">2.0</td><td style = \"text-align: right;\">2.0</td><td style = \"text-align: right;\">2.0</td><td style = \"text-align: right;\">2.0</td><td style = \"text-align: right;\">2.0</td><td style = \"text-align: right;\">2.0</td><td style = \"text-align: right;\">2.0</td><td style = \"text-align: right;\">2.0</td><td style = \"text-align: right;\">2.0</td><td style = \"text-align: right;\">2.0</td><td style = \"text-align: right;\">2.0</td><td style = \"text-align: right;\">2.0</td><td style = \"text-align: right;\">2.0</td><td style = \"text-align: right;\">2.0</td><td style = \"text-align: right;\">2.0</td><td style = \"text-align: right;\">2.0</td><td style = \"text-align: right;\">2.0</td><td style = \"text-align: right;\">2.0</td><td style = \"text-align: right;\">2.0</td><td style = \"text-align: right;\">2.0</td><td style = \"text-align: right;\">2.0</td><td style = \"text-align: right;\">2.0</td><td style = \"text-align: right;\">2.0</td><td style = \"text-align: right;\">2.0</td><td style = \"text-align: right;\">2.0</td><td style = \"text-align: right;\">2.0</td><td style = \"text-align: right;\">2.0</td><td style = \"text-align: right;\">2.0</td><td style = \"text-align: right;\">1.0</td><td style = \"text-align: right;\">2.0</td><td style = \"text-align: right;\">2.0</td><td style = \"text-align: right;\">2.0</td><td style = \"text-align: right;\">2.0</td><td style = \"text-align: right;\">2.0</td><td style = \"text-align: right;\">2.0</td><td style = \"text-align: right;\">2.0</td><td style = \"text-align: right;\">2.0</td><td style = \"text-align: right;\">2.0</td><td style = \"text-align: right;\">2.0</td><td style = \"text-align: right;\">2.0</td><td style = \"text-align: right;\">2.0</td><td style = \"text-align: right;\">2.0</td><td style = \"text-align: right;\">2.0</td><td style = \"text-align: right;\">2.0</td><td style = \"text-align: right;\">2.0</td><td style = \"text-align: right;\">2.0</td><td style = \"text-align: right;\">2.0</td><td style = \"text-align: right;\">2.0</td><td style = \"text-align: right;\">2.0</td><td style = \"text-align: right;\">2.0</td><td style = \"text-align: right;\">2.0</td><td style = \"text-align: right;\">2.0</td><td style = \"text-align: right;\">2.0</td><td style = \"text-align: right;\">2.0</td><td style = \"text-align: right;\">2.0</td><td style = \"text-align: right;\">2.0</td><td style = \"text-align: right;\">2.0</td><td style = \"text-align: right;\">2.0</td><td style = \"text-align: right;\">2.0</td><td style = \"text-align: right;\">2.0</td><td style = \"text-align: right;\">2.0</td><td style = \"text-align: right;\">2.0</td><td style = \"text-align: right;\">2.0</td><td style = \"text-align: right;\">2.0</td><td style = \"text-align: right;\">2.0</td><td style = \"text-align: right;\">2.0</td><td style = \"text-align: right;\">2.0</td><td style = \"text-align: right;\">2.0</td></tr><tr><td class = \"rowNumber\" style = \"font-weight: bold; text-align: right;\">134678</td><td style = \"text-align: right;\">20</td><td style = \"text-align: left;\">chr20:55963803</td><td style = \"text-align: right;\">55.9638</td><td style = \"text-align: right;\">55.9638</td><td style = \"text-align: right;\">2.0</td><td style = \"text-align: right;\">2.0</td><td style = \"text-align: right;\">2.0</td><td style = \"text-align: right;\">2.0</td><td style = \"text-align: right;\">1.0</td><td style = \"text-align: right;\">2.0</td><td style = \"text-align: right;\">2.0</td><td style = \"text-align: right;\">2.0</td><td style = \"text-align: right;\">2.0</td><td style = \"text-align: right;\">2.0</td><td style = \"text-align: right;\">2.0</td><td style = \"text-align: right;\">1.0</td><td style = \"text-align: right;\">2.0</td><td style = \"text-align: right;\">2.0</td><td style = \"text-align: right;\">2.0</td><td style = \"text-align: right;\">2.0</td><td style = \"text-align: right;\">2.0</td><td style = \"text-align: right;\">2.0</td><td style = \"text-align: right;\">2.0</td><td style = \"text-align: right;\">2.0</td><td style = \"text-align: right;\">2.0</td><td style = \"text-align: right;\">2.0</td><td style = \"text-align: right;\">2.0</td><td style = \"text-align: right;\">2.0</td><td style = \"text-align: right;\">2.0</td><td style = \"text-align: right;\">2.0</td><td style = \"text-align: right;\">2.0</td><td style = \"text-align: right;\">2.0</td><td style = \"text-align: right;\">2.0</td><td style = \"text-align: right;\">2.0</td><td style = \"text-align: right;\">2.0</td><td style = \"text-align: right;\">2.0</td><td style = \"text-align: right;\">2.0</td><td style = \"text-align: right;\">2.0</td><td style = \"text-align: right;\">2.0</td><td style = \"text-align: right;\">2.0</td><td style = \"text-align: right;\">2.0</td><td style = \"text-align: right;\">2.0</td><td style = \"text-align: right;\">2.0</td><td style = \"text-align: right;\">2.0</td><td style = \"text-align: right;\">1.0</td><td style = \"text-align: right;\">2.0</td><td style = \"text-align: right;\">2.0</td><td style = \"text-align: right;\">2.0</td><td style = \"text-align: right;\">2.0</td><td style = \"text-align: right;\">2.0</td><td style = \"text-align: right;\">2.0</td><td style = \"text-align: right;\">2.0</td><td style = \"text-align: right;\">2.0</td><td style = \"text-align: right;\">2.0</td><td style = \"text-align: right;\">2.0</td><td style = \"text-align: right;\">2.0</td><td style = \"text-align: right;\">2.0</td><td style = \"text-align: right;\">2.0</td><td style = \"text-align: right;\">2.0</td><td style = \"text-align: right;\">2.0</td><td style = \"text-align: right;\">2.0</td><td style = \"text-align: right;\">2.0</td><td style = \"text-align: right;\">2.0</td><td style = \"text-align: right;\">2.0</td><td style = \"text-align: right;\">2.0</td><td style = \"text-align: right;\">2.0</td><td style = \"text-align: right;\">2.0</td><td style = \"text-align: right;\">2.0</td><td style = \"text-align: right;\">2.0</td><td style = \"text-align: right;\">2.0</td><td style = \"text-align: right;\">2.0</td><td style = \"text-align: right;\">2.0</td><td style = \"text-align: right;\">2.0</td><td style = \"text-align: right;\">2.0</td><td style = \"text-align: right;\">2.0</td><td style = \"text-align: right;\">2.0</td><td style = \"text-align: right;\">2.0</td><td style = \"text-align: right;\">2.0</td><td style = \"text-align: right;\">2.0</td><td style = \"text-align: right;\">2.0</td><td style = \"text-align: right;\">2.0</td><td style = \"text-align: right;\">2.0</td><td style = \"text-align: right;\">2.0</td><td style = \"text-align: right;\">2.0</td></tr><tr><td class = \"rowNumber\" style = \"font-weight: bold; text-align: right;\">134679</td><td style = \"text-align: right;\">20</td><td style = \"text-align: left;\">chr20:55991426</td><td style = \"text-align: right;\">55.9914</td><td style = \"text-align: right;\">55.9914</td><td style = \"text-align: right;\">1.998</td><td style = \"text-align: right;\">1.998</td><td style = \"text-align: right;\">1.998</td><td style = \"text-align: right;\">1.998</td><td style = \"text-align: right;\">0.996</td><td style = \"text-align: right;\">1.998</td><td style = \"text-align: right;\">1.998</td><td style = \"text-align: right;\">1.998</td><td style = \"text-align: right;\">1.998</td><td style = \"text-align: right;\">1.998</td><td style = \"text-align: right;\">1.998</td><td style = \"text-align: right;\">1.995</td><td style = \"text-align: right;\">1.998</td><td style = \"text-align: right;\">1.998</td><td style = \"text-align: right;\">1.998</td><td style = \"text-align: right;\">1.998</td><td style = \"text-align: right;\">1.998</td><td style = \"text-align: right;\">1.998</td><td style = \"text-align: right;\">1.998</td><td style = \"text-align: right;\">1.998</td><td style = \"text-align: right;\">1.998</td><td style = \"text-align: right;\">1.998</td><td style = \"text-align: right;\">1.998</td><td style = \"text-align: right;\">1.998</td><td style = \"text-align: right;\">1.998</td><td style = \"text-align: right;\">1.998</td><td style = \"text-align: right;\">1.998</td><td style = \"text-align: right;\">1.998</td><td style = \"text-align: right;\">1.998</td><td style = \"text-align: right;\">1.998</td><td style = \"text-align: right;\">1.998</td><td style = \"text-align: right;\">1.998</td><td style = \"text-align: right;\">1.998</td><td style = \"text-align: right;\">1.998</td><td style = \"text-align: right;\">1.998</td><td style = \"text-align: right;\">1.998</td><td style = \"text-align: right;\">1.998</td><td style = \"text-align: right;\">1.998</td><td style = \"text-align: right;\">1.998</td><td style = \"text-align: right;\">1.998</td><td style = \"text-align: right;\">1.0</td><td style = \"text-align: right;\">1.998</td><td style = \"text-align: right;\">1.998</td><td style = \"text-align: right;\">1.998</td><td style = \"text-align: right;\">1.998</td><td style = \"text-align: right;\">1.998</td><td style = \"text-align: right;\">1.998</td><td style = \"text-align: right;\">1.998</td><td style = \"text-align: right;\">1.998</td><td style = \"text-align: right;\">1.998</td><td style = \"text-align: right;\">1.998</td><td style = \"text-align: right;\">1.998</td><td style = \"text-align: right;\">1.998</td><td style = \"text-align: right;\">1.998</td><td style = \"text-align: right;\">1.998</td><td style = \"text-align: right;\">1.998</td><td style = \"text-align: right;\">1.998</td><td style = \"text-align: right;\">1.998</td><td style = \"text-align: right;\">1.998</td><td style = \"text-align: right;\">1.998</td><td style = \"text-align: right;\">1.998</td><td style = \"text-align: right;\">1.998</td><td style = \"text-align: right;\">1.998</td><td style = \"text-align: right;\">1.998</td><td style = \"text-align: right;\">1.998</td><td style = \"text-align: right;\">1.998</td><td style = \"text-align: right;\">1.998</td><td style = \"text-align: right;\">1.998</td><td style = \"text-align: right;\">1.998</td><td style = \"text-align: right;\">1.998</td><td style = \"text-align: right;\">1.998</td><td style = \"text-align: right;\">1.998</td><td style = \"text-align: right;\">1.998</td><td style = \"text-align: right;\">1.998</td><td style = \"text-align: right;\">1.998</td><td style = \"text-align: right;\">1.998</td><td style = \"text-align: right;\">1.998</td><td style = \"text-align: right;\">1.998</td><td style = \"text-align: right;\">1.998</td><td style = \"text-align: right;\">1.998</td></tr><tr><td class = \"rowNumber\" style = \"font-weight: bold; text-align: right;\">134680</td><td style = \"text-align: right;\">20</td><td style = \"text-align: left;\">chr20:55999627</td><td style = \"text-align: right;\">55.9996</td><td style = \"text-align: right;\">55.9996</td><td style = \"text-align: right;\">0.013</td><td style = \"text-align: right;\">0.013</td><td style = \"text-align: right;\">0.013</td><td style = \"text-align: right;\">0.013</td><td style = \"text-align: right;\">0.091</td><td style = \"text-align: right;\">0.013</td><td style = \"text-align: right;\">0.013</td><td style = \"text-align: right;\">0.013</td><td style = \"text-align: right;\">0.013</td><td style = \"text-align: right;\">0.013</td><td style = \"text-align: right;\">0.013</td><td style = \"text-align: right;\">0.014</td><td style = \"text-align: right;\">0.013</td><td style = \"text-align: right;\">0.013</td><td style = \"text-align: right;\">0.013</td><td style = \"text-align: right;\">0.013</td><td style = \"text-align: right;\">0.013</td><td style = \"text-align: right;\">0.013</td><td style = \"text-align: right;\">0.013</td><td style = \"text-align: right;\">0.013</td><td style = \"text-align: right;\">0.013</td><td style = \"text-align: right;\">0.013</td><td style = \"text-align: right;\">0.013</td><td style = \"text-align: right;\">0.013</td><td style = \"text-align: right;\">0.013</td><td style = \"text-align: right;\">0.013</td><td style = \"text-align: right;\">0.013</td><td style = \"text-align: right;\">0.013</td><td style = \"text-align: right;\">0.013</td><td style = \"text-align: right;\">0.013</td><td style = \"text-align: right;\">0.013</td><td style = \"text-align: right;\">0.013</td><td style = \"text-align: right;\">0.013</td><td style = \"text-align: right;\">0.013</td><td style = \"text-align: right;\">0.013</td><td style = \"text-align: right;\">0.013</td><td style = \"text-align: right;\">0.013</td><td style = \"text-align: right;\">0.013</td><td style = \"text-align: right;\">0.013</td><td style = \"text-align: right;\">0.013</td><td style = \"text-align: right;\">0.98798</td><td style = \"text-align: right;\">0.013</td><td style = \"text-align: right;\">0.013</td><td style = \"text-align: right;\">0.013</td><td style = \"text-align: right;\">0.013</td><td style = \"text-align: right;\">0.013</td><td style = \"text-align: right;\">0.013</td><td style = \"text-align: right;\">0.013</td><td style = \"text-align: right;\">0.013</td><td style = \"text-align: right;\">0.013</td><td style = \"text-align: right;\">0.013</td><td style = \"text-align: right;\">0.013</td><td style = \"text-align: right;\">0.013</td><td style = \"text-align: right;\">0.013</td><td style = \"text-align: right;\">0.013</td><td style = \"text-align: right;\">0.013</td><td style = \"text-align: right;\">0.013</td><td style = \"text-align: right;\">0.013</td><td style = \"text-align: right;\">0.013</td><td style = \"text-align: right;\">0.013</td><td style = \"text-align: right;\">0.013</td><td style = \"text-align: right;\">0.013</td><td style = \"text-align: right;\">0.013</td><td style = \"text-align: right;\">0.013</td><td style = \"text-align: right;\">0.013</td><td style = \"text-align: right;\">0.013</td><td style = \"text-align: right;\">0.013</td><td style = \"text-align: right;\">0.013</td><td style = \"text-align: right;\">0.013</td><td style = \"text-align: right;\">0.013</td><td style = \"text-align: right;\">0.013</td><td style = \"text-align: right;\">0.013</td><td style = \"text-align: right;\">0.013</td><td style = \"text-align: right;\">0.013</td><td style = \"text-align: right;\">0.013</td><td style = \"text-align: right;\">0.013</td><td style = \"text-align: right;\">0.013</td><td style = \"text-align: right;\">0.013</td><td style = \"text-align: right;\">0.013</td><td style = \"text-align: right;\">0.013</td></tr><tr><td class = \"rowNumber\" style = \"font-weight: bold; text-align: right;\">134681</td><td style = \"text-align: right;\">20</td><td style = \"text-align: left;\">chr20:56115597</td><td style = \"text-align: right;\">56.1156</td><td style = \"text-align: right;\">56.1156</td><td style = \"text-align: right;\">2.0</td><td style = \"text-align: right;\">2.0</td><td style = \"text-align: right;\">2.0</td><td style = \"text-align: right;\">2.0</td><td style = \"text-align: right;\">2.0</td><td style = \"text-align: right;\">2.0</td><td style = \"text-align: right;\">2.0</td><td style = \"text-align: right;\">2.0</td><td style = \"text-align: right;\">2.0</td><td style = \"text-align: right;\">2.0</td><td style = \"text-align: right;\">2.0</td><td style = \"text-align: right;\">2.0</td><td style = \"text-align: right;\">2.0</td><td style = \"text-align: right;\">2.0</td><td style = \"text-align: right;\">2.0</td><td style = \"text-align: right;\">2.0</td><td style = \"text-align: right;\">2.0</td><td style = \"text-align: right;\">2.0</td><td style = \"text-align: right;\">2.0</td><td style = \"text-align: right;\">2.0</td><td style = \"text-align: right;\">2.0</td><td style = \"text-align: right;\">2.0</td><td style = \"text-align: right;\">2.0</td><td style = \"text-align: right;\">2.0</td><td style = \"text-align: right;\">2.0</td><td style = \"text-align: right;\">2.0</td><td style = \"text-align: right;\">2.0</td><td style = \"text-align: right;\">2.0</td><td style = \"text-align: right;\">2.0</td><td style = \"text-align: right;\">2.0</td><td style = \"text-align: right;\">2.0</td><td style = \"text-align: right;\">2.0</td><td style = \"text-align: right;\">2.0</td><td style = \"text-align: right;\">2.0</td><td style = \"text-align: right;\">2.0</td><td style = \"text-align: right;\">2.0</td><td style = \"text-align: right;\">2.0</td><td style = \"text-align: right;\">2.0</td><td style = \"text-align: right;\">2.0</td><td style = \"text-align: right;\">2.0</td><td style = \"text-align: right;\">2.0</td><td style = \"text-align: right;\">2.0</td><td style = \"text-align: right;\">2.0</td><td style = \"text-align: right;\">2.0</td><td style = \"text-align: right;\">2.0</td><td style = \"text-align: right;\">2.0</td><td style = \"text-align: right;\">2.0</td><td style = \"text-align: right;\">2.0</td><td style = \"text-align: right;\">2.0</td><td style = \"text-align: right;\">2.0</td><td style = \"text-align: right;\">2.0</td><td style = \"text-align: right;\">1.0</td><td style = \"text-align: right;\">2.0</td><td style = \"text-align: right;\">2.0</td><td style = \"text-align: right;\">2.0</td><td style = \"text-align: right;\">2.0</td><td style = \"text-align: right;\">2.0</td><td style = \"text-align: right;\">2.0</td><td style = \"text-align: right;\">2.0</td><td style = \"text-align: right;\">2.0</td><td style = \"text-align: right;\">2.0</td><td style = \"text-align: right;\">2.0</td><td style = \"text-align: right;\">2.0</td><td style = \"text-align: right;\">2.0</td><td style = \"text-align: right;\">2.0</td><td style = \"text-align: right;\">2.0</td><td style = \"text-align: right;\">2.0</td><td style = \"text-align: right;\">2.0</td><td style = \"text-align: right;\">2.0</td><td style = \"text-align: right;\">2.0</td><td style = \"text-align: right;\">2.0</td><td style = \"text-align: right;\">2.0</td><td style = \"text-align: right;\">2.0</td><td style = \"text-align: right;\">2.0</td><td style = \"text-align: right;\">2.0</td><td style = \"text-align: right;\">2.0</td><td style = \"text-align: right;\">2.0</td><td style = \"text-align: right;\">2.0</td><td style = \"text-align: right;\">2.0</td><td style = \"text-align: right;\">2.0</td></tr></tbody></table></div>"
      ],
      "text/latex": [
       "\\begin{tabular}{r|ccccccccc}\n",
       "\t& Chr & Locus & cM & Mb & 00077E67B5 & 00077E76FE & 00077E8336 & 00077EA7E6 & \\\\\n",
       "\t\\hline\n",
       "\t& Int64 & String15 & Float64 & Float64 & Float64 & Float64 & Float64 & Float64 & \\\\\n",
       "\t\\hline\n",
       "\t1 & 1 & chr1:55365 & 0.055365 & 0.055365 & 2.0 & 2.0 & 1.0 & 2.0 & $\\dots$ \\\\\n",
       "\t2 & 1 & chr1:666374 & 0.666374 & 0.666374 & 2.0 & 2.0 & 2.0 & 2.0 & $\\dots$ \\\\\n",
       "\t3 & 1 & chr1:666382 & 0.666382 & 0.666382 & 2.0 & 2.0 & 2.0 & 1.0 & $\\dots$ \\\\\n",
       "\t4 & 1 & chr1:666394 & 0.666394 & 0.666394 & 2.0 & 2.0 & 2.0 & 1.0 & $\\dots$ \\\\\n",
       "\t5 & 1 & chr1:669529 & 0.669529 & 0.669529 & 2.0 & 2.0 & 2.0 & 1.0 & $\\dots$ \\\\\n",
       "\t6 & 1 & chr1:669562 & 0.669562 & 0.669562 & 2.0 & 2.0 & 2.0 & 2.0 & $\\dots$ \\\\\n",
       "\t7 & 1 & chr1:671466 & 0.671466 & 0.671466 & 2.0 & 2.0 & 2.0 & 2.0 & $\\dots$ \\\\\n",
       "\t8 & 1 & chr1:759319 & 0.759319 & 0.759319 & 0.997 & 1.976 & 0.991 & 1.979 & $\\dots$ \\\\\n",
       "\t9 & 1 & chr1:1134030 & 1.13403 & 1.13403 & 1.941 & 1.559 & 1.006 & 1.994 & $\\dots$ \\\\\n",
       "\t10 & 1 & chr1:1139210 & 1.13921 & 1.13921 & 1.978 & 1.992 & 1.997 & 1.994 & $\\dots$ \\\\\n",
       "\t11 & 1 & chr1:1143318 & 1.14332 & 1.14332 & 0.031 & 0.39 & 0.99298 & 0.008 & $\\dots$ \\\\\n",
       "\t12 & 1 & chr1:1151014 & 1.15101 & 1.15101 & 1.997 & 1.997 & 1.998 & 1.997 & $\\dots$ \\\\\n",
       "\t13 & 1 & chr1:1151294 & 1.15129 & 1.15129 & 1.997 & 1.997 & 1.006 & 1.997 & $\\dots$ \\\\\n",
       "\t14 & 1 & chr1:1154467 & 1.15447 & 1.15447 & 1.988 & 1.997 & 1.005 & 1.998 & $\\dots$ \\\\\n",
       "\t15 & 1 & chr1:1154955 & 1.15495 & 1.15495 & 1.0 & 2.0 & 1.0 & 2.0 & $\\dots$ \\\\\n",
       "\t16 & 1 & chr1:1155023 & 1.15502 & 1.15502 & 2.0 & 2.0 & 2.0 & 2.0 & $\\dots$ \\\\\n",
       "\t17 & 1 & chr1:1192303 & 1.1923 & 1.1923 & 1.982 & 1.998 & 1.33636 & 1.997 & $\\dots$ \\\\\n",
       "\t18 & 1 & chr1:1229220 & 1.22922 & 1.22922 & 2.0 & 2.0 & 2.0 & 2.0 & $\\dots$ \\\\\n",
       "\t19 & 1 & chr1:1229237 & 1.22924 & 1.22924 & 2.0 & 2.0 & 1.0 & 2.0 & $\\dots$ \\\\\n",
       "\t20 & 1 & chr1:1232508 & 1.23251 & 1.23251 & 1.994 & 1.987 & 1.954 & 1.995 & $\\dots$ \\\\\n",
       "\t21 & 1 & chr1:1367999 & 1.368 & 1.368 & 2.0 & 2.0 & 2.0 & 2.0 & $\\dots$ \\\\\n",
       "\t22 & 1 & chr1:1369563 & 1.36956 & 1.36956 & 2.0 & 2.0 & 1.0 & 2.0 & $\\dots$ \\\\\n",
       "\t23 & 1 & chr1:1415027 & 1.41503 & 1.41503 & 2.0 & 2.0 & 1.0 & 2.0 & $\\dots$ \\\\\n",
       "\t24 & 1 & chr1:1482698 & 1.4827 & 1.4827 & 2.0 & 2.0 & 2.0 & 2.0 & $\\dots$ \\\\\n",
       "\t25 & 1 & chr1:1482711 & 1.48271 & 1.48271 & 2.0 & 2.0 & 2.0 & 2.0 & $\\dots$ \\\\\n",
       "\t26 & 1 & chr1:1482811 & 1.48281 & 1.48281 & 2.0 & 2.0 & 2.0 & 2.0 & $\\dots$ \\\\\n",
       "\t27 & 1 & chr1:1482825 & 1.48283 & 1.48283 & 2.0 & 2.0 & 2.0 & 2.0 & $\\dots$ \\\\\n",
       "\t28 & 1 & chr1:1482843 & 1.48284 & 1.48284 & 2.0 & 2.0 & 2.0 & 2.0 & $\\dots$ \\\\\n",
       "\t29 & 1 & chr1:1617593 & 1.61759 & 1.61759 & 1.985 & 1.997 & 1.942 & 1.994 & $\\dots$ \\\\\n",
       "\t30 & 1 & chr1:1649028 & 1.64903 & 1.64903 & 1.0 & 1.0 & 0.003 & 1.996 & $\\dots$ \\\\\n",
       "\t$\\dots$ & $\\dots$ & $\\dots$ & $\\dots$ & $\\dots$ & $\\dots$ & $\\dots$ & $\\dots$ & $\\dots$ &  \\\\\n",
       "\\end{tabular}\n"
      ],
      "text/plain": [
       "\u001b[1m134681×84 DataFrame\u001b[0m\n",
       "\u001b[1m    Row \u001b[0m│\u001b[1m Chr   \u001b[0m\u001b[1m Locus          \u001b[0m\u001b[1m cM        \u001b[0m\u001b[1m Mb        \u001b[0m\u001b[1m 00077E67B5 \u001b[0m\u001b[1m 00077E76FE \u001b[0m\u001b[1m\u001b[0m ⋯\n",
       "        │\u001b[90m Int64 \u001b[0m\u001b[90m String15       \u001b[0m\u001b[90m Float64   \u001b[0m\u001b[90m Float64   \u001b[0m\u001b[90m Float64    \u001b[0m\u001b[90m Float64    \u001b[0m\u001b[90m\u001b[0m ⋯\n",
       "────────┼───────────────────────────────────────────────────────────────────────\n",
       "      1 │     1  chr1:55365       0.055365   0.055365     2.0         2.0      ⋯\n",
       "      2 │     1  chr1:666374      0.666374   0.666374     2.0         2.0\n",
       "      3 │     1  chr1:666382      0.666382   0.666382     2.0         2.0\n",
       "      4 │     1  chr1:666394      0.666394   0.666394     2.0         2.0\n",
       "      5 │     1  chr1:669529      0.669529   0.669529     2.0         2.0      ⋯\n",
       "      6 │     1  chr1:669562      0.669562   0.669562     2.0         2.0\n",
       "      7 │     1  chr1:671466      0.671466   0.671466     2.0         2.0\n",
       "      8 │     1  chr1:759319      0.759319   0.759319     0.997       1.976\n",
       "      9 │     1  chr1:1134030     1.13403    1.13403      1.941       1.559    ⋯\n",
       "     10 │     1  chr1:1139210     1.13921    1.13921      1.978       1.992\n",
       "     11 │     1  chr1:1143318     1.14332    1.14332      0.031       0.39\n",
       "   ⋮    │   ⋮          ⋮             ⋮          ⋮          ⋮           ⋮       ⋱\n",
       " 134672 │    20  chr20:55659520  55.6595    55.6595       1.913       1.913\n",
       " 134673 │    20  chr20:55716379  55.7164    55.7164       0.004       0.004    ⋯\n",
       " 134674 │    20  chr20:55744179  55.7442    55.7442       2.0         2.0\n",
       " 134675 │    20  chr20:55773139  55.7731    55.7731       1.913       1.913\n",
       " 134676 │    20  chr20:55818290  55.8183    55.8183       1.89703     1.89703\n",
       " 134677 │    20  chr20:55944342  55.9443    55.9443       2.0         2.0      ⋯\n",
       " 134678 │    20  chr20:55963803  55.9638    55.9638       2.0         2.0\n",
       " 134679 │    20  chr20:55991426  55.9914    55.9914       1.998       1.998\n",
       " 134680 │    20  chr20:55999627  55.9996    55.9996       0.013       0.013\n",
       " 134681 │    20  chr20:56115597  56.1156    56.1156       2.0         2.0      ⋯\n",
       "\u001b[36m                                              78 columns and 134660 rows omitted\u001b[0m"
      ]
     },
     "execution_count": 13,
     "metadata": {},
     "output_type": "execute_result"
    }
   ],
   "source": [
    "omics_geno_df"
   ]
  },
  {
   "cell_type": "code",
   "execution_count": 14,
   "id": "51b228cd-b057-49fe-8dae-58c4aa3c9284",
   "metadata": {},
   "outputs": [
    {
     "name": "stdout",
     "output_type": "stream",
     "text": [
      "  0.594494 seconds (475.32 k allocations: 353.428 MiB, 50.07% gc time, 25.56% compilation time)\n"
     ]
    }
   ],
   "source": [
    "@time omics_geno = omics_geno_df[:, 5:end] |> Array{Float64, 2} |> x -> permutedims(x) |> x -> x./2.0;"
   ]
  },
  {
   "cell_type": "code",
   "execution_count": 15,
   "id": "48f0c27d-6d89-499a-b45c-cb879d51b5b6",
   "metadata": {},
   "outputs": [
    {
     "name": "stdout",
     "output_type": "stream",
     "text": [
      "  0.086445 seconds (268.46 k allocations: 12.257 MiB, 96.13% compilation time)\n"
     ]
    },
    {
     "data": {
      "text/plain": [
       "6-element Vector{String}:\n",
       " \"chr1:55365\"\n",
       " \"chr1:666374\"\n",
       " \"chr1:666382\"\n",
       " \"chr1:666394\"\n",
       " \"chr1:669529\"\n",
       " \"chr1:669562\""
      ]
     },
     "execution_count": 15,
     "metadata": {},
     "output_type": "execute_result"
    }
   ],
   "source": [
    "@time omics_marker_names = omics_geno_df.Locus |> Array{String, 1};\n",
    "omics_marker_names[1:6]"
   ]
  },
  {
   "cell_type": "markdown",
   "id": "aef4603f-ae8a-4cb4-bc70-dbe26f22da4f",
   "metadata": {},
   "source": [
    "Filter markers by MAF within the range of (0.05, 0.95)"
   ]
  },
  {
   "cell_type": "code",
   "execution_count": 16,
   "id": "ca37ba39-3015-49c2-9f75-318c6f24e62e",
   "metadata": {},
   "outputs": [
    {
     "name": "stdout",
     "output_type": "stream",
     "text": [
      "  0.195907 seconds (491.75 k allocations: 26.437 MiB, 95.05% compilation time)\n"
     ]
    }
   ],
   "source": [
    "@time maf_omics_geno = vec(mean(omics_geno; dims = 1));"
   ]
  },
  {
   "cell_type": "code",
   "execution_count": 17,
   "id": "be218cd2-ccbf-47e5-a010-616390d7efa9",
   "metadata": {},
   "outputs": [],
   "source": [
    "to_keep = map(x -> (x < 0.95) & (x > 0.05), maf_omics_geno);"
   ]
  },
  {
   "cell_type": "code",
   "execution_count": 18,
   "id": "1d228aa1-5b4f-4e66-85d1-5d6d4041b1a8",
   "metadata": {},
   "outputs": [
    {
     "data": {
      "text/plain": [
       "134681-element Vector{String}:\n",
       " \"chr1:55365\"\n",
       " \"chr1:666374\"\n",
       " \"chr1:666382\"\n",
       " \"chr1:666394\"\n",
       " \"chr1:669529\"\n",
       " \"chr1:669562\"\n",
       " \"chr1:671466\"\n",
       " \"chr1:759319\"\n",
       " \"chr1:1134030\"\n",
       " \"chr1:1139210\"\n",
       " \"chr1:1143318\"\n",
       " \"chr1:1151014\"\n",
       " \"chr1:1151294\"\n",
       " ⋮\n",
       " \"chr20:55641278\"\n",
       " \"chr20:55644746\"\n",
       " \"chr20:55659520\"\n",
       " \"chr20:55716379\"\n",
       " \"chr20:55744179\"\n",
       " \"chr20:55773139\"\n",
       " \"chr20:55818290\"\n",
       " \"chr20:55944342\"\n",
       " \"chr20:55963803\"\n",
       " \"chr20:55991426\"\n",
       " \"chr20:55999627\"\n",
       " \"chr20:56115597\""
      ]
     },
     "execution_count": 18,
     "metadata": {},
     "output_type": "execute_result"
    }
   ],
   "source": [
    "omics_marker_names"
   ]
  },
  {
   "cell_type": "markdown",
   "id": "96abab5d-cc2f-4645-a746-053eb4008f5b",
   "metadata": {},
   "source": [
    "After removing markers outside the MAF thresholds of 0.05, we get the genotyped data of the size:"
   ]
  },
  {
   "cell_type": "code",
   "execution_count": 19,
   "id": "47330aea-93b2-4f79-b3be-874c90a7ab71",
   "metadata": {},
   "outputs": [],
   "source": [
    "omics_geno_processed = omics_geno[:, to_keep];\n",
    "omics_marker_names_processed = omics_marker_names[to_keep];"
   ]
  },
  {
   "cell_type": "code",
   "execution_count": 20,
   "id": "14433ed8-6bc8-40f0-9dd6-da88e688f796",
   "metadata": {},
   "outputs": [
    {
     "data": {
      "text/plain": [
       "(80, 117618)"
      ]
     },
     "execution_count": 20,
     "metadata": {},
     "output_type": "execute_result"
    }
   ],
   "source": [
    "size(omics_geno_processed)"
   ]
  },
  {
   "cell_type": "markdown",
   "id": "75289240-2991-454a-92ae-68824cc9eb5c",
   "metadata": {},
   "source": [
    "with 80 samples on 117,618 markers."
   ]
  },
  {
   "cell_type": "code",
   "execution_count": 21,
   "id": "1fc1592d-bdc3-4a5a-a950-3d3bcb5bd728",
   "metadata": {},
   "outputs": [],
   "source": [
    "(n, m) = size(omics_pheno_processed);\n",
    "p = size(omics_geno_processed, 2);"
   ]
  },
  {
   "cell_type": "code",
   "execution_count": 22,
   "id": "fc77d8cd-13af-4e4e-8cb3-4d6c4a7414e9",
   "metadata": {},
   "outputs": [
    {
     "data": {
      "text/plain": [
       "(80, 18416, 117618)"
      ]
     },
     "execution_count": 22,
     "metadata": {},
     "output_type": "execute_result"
    }
   ],
   "source": [
    "n, m, p"
   ]
  },
  {
   "cell_type": "markdown",
   "id": "b7717616-a1e1-46bf-9fc6-2ea10b26aafa",
   "metadata": {
    "tags": []
   },
   "source": [
    "### Load BulkLMM functions:"
   ]
  },
  {
   "cell_type": "code",
   "execution_count": 23,
   "id": "72d311e0-f6d1-43fd-aa6e-93a959bcbae2",
   "metadata": {},
   "outputs": [],
   "source": [
    "local_path = \"/home/zyu20/git/BulkLMM.jl/src\";"
   ]
  },
  {
   "cell_type": "code",
   "execution_count": 24,
   "id": "54a43168-6754-44ed-aa2a-13ce1a79f536",
   "metadata": {},
   "outputs": [],
   "source": [
    "include(joinpath(local_path, \"kinship.jl\"));\n",
    "include(joinpath(local_path, \"util.jl\"));\n",
    "include(joinpath(local_path, \"wls.jl\"));\n",
    "include(joinpath(local_path, \"lmm.jl\"));\n",
    "include(joinpath(local_path, \"gridbrent.jl\"));\n",
    "include(joinpath(local_path, \"transform_helpers.jl\"));\n",
    "include(joinpath(local_path, \"scan.jl\"));\n",
    "include(joinpath(local_path, \"bulkscan_helpers.jl\"));\n",
    "include(joinpath(local_path, \"bulkscan.jl\"));\n",
    "include(joinpath(local_path, \"readData.jl\"));\n",
    "# include(joinpath(local_path, \"../plot_utils/visuals_utils.jl\"));\n",
    "include(joinpath(local_path, \"analysis_helpers/single_trait_analysis.jl\"));\n",
    "include(\"../../BigRiver_util_code/src/kinship_utils.jl\");\n",
    "include(\"../../BigRiver_util_code/src/run_gemma_utils.jl\");"
   ]
  },
  {
   "cell_type": "code",
   "execution_count": 77,
   "id": "44ea9b29-3de5-4dc2-a7cc-34e9d74de6a0",
   "metadata": {},
   "outputs": [
    {
     "name": "stdout",
     "output_type": "stream",
     "text": [
      "  0.123463 seconds (160.88 k allocations: 80.156 MiB, 5.10% gc time, 32.75% compilation time)\n"
     ]
    }
   ],
   "source": [
    "@time omics_kinship = calcKinship(omics_geno_processed) |> x -> round.(x; digits = 12);"
   ]
  },
  {
   "cell_type": "code",
   "execution_count": 26,
   "id": "275fa67a-4b07-43f1-bff9-ffb451c8e662",
   "metadata": {},
   "outputs": [
    {
     "data": {
      "text/plain": [
       "8"
      ]
     },
     "execution_count": 26,
     "metadata": {},
     "output_type": "execute_result"
    }
   ],
   "source": [
    "BLAS.get_num_threads()"
   ]
  },
  {
   "cell_type": "code",
   "execution_count": 27,
   "id": "e6ab4357-0946-4af3-9e15-0aac9b6e1b7a",
   "metadata": {},
   "outputs": [],
   "source": [
    "BLAS.set_num_threads(16)"
   ]
  },
  {
   "cell_type": "markdown",
   "id": "390f785e-d392-4209-8bf0-05a4da3d0536",
   "metadata": {},
   "source": [
    "## BulkLMM:"
   ]
  },
  {
   "cell_type": "markdown",
   "id": "28a67148-4fdc-430f-86f3-ca110e278ab3",
   "metadata": {},
   "source": [
    "### Multiple traits scans using our grid-search(null) methods"
   ]
  },
  {
   "cell_type": "code",
   "execution_count": 28,
   "id": "70deb94a-2b30-4b99-99de-1e65e51e39df",
   "metadata": {},
   "outputs": [],
   "source": [
    "grid_loose = collect(0.00:0.05:0.95); # grid of 20"
   ]
  },
  {
   "cell_type": "code",
   "execution_count": 45,
   "id": "d480fb85-0717-4212-9b10-feb1aef57835",
   "metadata": {},
   "outputs": [],
   "source": [
    "grid_looser = collect(0.00:0.10:0.90);"
   ]
  },
  {
   "cell_type": "code",
   "execution_count": 30,
   "id": "fe1c2669-83c0-449a-990b-9ad6545fe390",
   "metadata": {},
   "outputs": [],
   "source": [
    "grid_fine = collect(0.00:0.01:0.99); # grid of 100"
   ]
  },
  {
   "cell_type": "code",
   "execution_count": 31,
   "id": "e41e0e4a-a592-4874-99ff-34b7e33cec83",
   "metadata": {},
   "outputs": [],
   "source": [
    "t_null_grid10_ml = @elapsed bulkscan_null_grid_results10_ml = bulkscan_null_grid(omics_pheno_processed, omics_geno_processed, omics_kinship, grid_looser);"
   ]
  },
  {
   "cell_type": "code",
   "execution_count": 46,
   "id": "b390cb6e-7899-4fd1-8b31-b0f5a35fa422",
   "metadata": {},
   "outputs": [],
   "source": [
    "t_null_grid10_reml = @elapsed bulkscan_null_grid_results10_reml = bulkscan_null_grid(omics_pheno_processed, omics_geno_processed, omics_kinship, grid_looser; reml = true);"
   ]
  },
  {
   "cell_type": "code",
   "execution_count": 33,
   "id": "28506270-94d6-47fe-9736-73cc026a9f78",
   "metadata": {},
   "outputs": [],
   "source": [
    "t_null_grid100_ml = @elapsed bulkscan_null_grid_results100_ml = bulkscan_null_grid(omics_pheno_processed, omics_geno_processed, omics_kinship, grid_fine);"
   ]
  },
  {
   "cell_type": "code",
   "execution_count": 34,
   "id": "c802c499-b944-4a0c-9e1e-97ae9da1eb2f",
   "metadata": {},
   "outputs": [],
   "source": [
    "t_null_grid100_reml = @elapsed bulkscan_null_grid_results100_reml = bulkscan_null_grid(omics_pheno_processed, omics_geno_processed, omics_kinship, grid_fine; reml = true);"
   ]
  },
  {
   "cell_type": "code",
   "execution_count": 35,
   "id": "8641003f-79ee-4889-8cf4-e289c1bb96f9",
   "metadata": {},
   "outputs": [],
   "source": [
    "t_alt_grid10_ml = @elapsed bulkscan_alt_grid_results10_ml = bulkscan_alt_grid(omics_pheno_processed, omics_geno_processed, omics_kinship, grid_looser; reml = false);"
   ]
  },
  {
   "cell_type": "code",
   "execution_count": 87,
   "id": "7b5b83df-544d-4f97-ad05-9cb7c6df7e39",
   "metadata": {},
   "outputs": [],
   "source": [
    "t_alt_grid10_reml = @elapsed bulkscan_alt_grid_results10_reml = bulkscan_alt_grid(omics_pheno_processed, omics_geno_processed, omics_kinship, grid_looser; reml = true);"
   ]
  },
  {
   "cell_type": "code",
   "execution_count": 84,
   "id": "5b6cc13f-ff30-4c52-9f00-d573fec41a2c",
   "metadata": {},
   "outputs": [
    {
     "data": {
      "text/plain": [
       "16"
      ]
     },
     "execution_count": 84,
     "metadata": {},
     "output_type": "execute_result"
    }
   ],
   "source": [
    "Threads.nthreads()"
   ]
  },
  {
   "cell_type": "code",
   "execution_count": 89,
   "id": "58a9aaac-15ac-409c-8f44-c68c68f8aafd",
   "metadata": {},
   "outputs": [],
   "source": [
    "t_null_exact_reml = @elapsed bulkscan_null_exact_results_reml = bulkscan_null(omics_pheno_processed, omics_geno_processed, omics_kinship; \n",
    "                                                                              nt_blas = 1, nb = 16, reml = true);"
   ]
  },
  {
   "cell_type": "code",
   "execution_count": 90,
   "id": "d2d8c0a5-130f-4e83-adfd-c8b68421ac5e",
   "metadata": {},
   "outputs": [
    {
     "data": {
      "text/plain": [
       "5398.745858701"
      ]
     },
     "execution_count": 90,
     "metadata": {},
     "output_type": "execute_result"
    }
   ],
   "source": [
    "t_null_exact_reml"
   ]
  },
  {
   "cell_type": "markdown",
   "id": "56c71cb6-faf2-491f-8706-dbf107cd3565",
   "metadata": {},
   "source": [
    "####  Runtime performance:"
   ]
  },
  {
   "cell_type": "code",
   "execution_count": 41,
   "id": "f78777e4-2f00-4349-a6e2-523ba089eae9",
   "metadata": {},
   "outputs": [],
   "source": [
    "using DataFrames"
   ]
  },
  {
   "cell_type": "code",
   "execution_count": 42,
   "id": "ec7b1c26-b2fc-4502-b4f4-57f4556d12e8",
   "metadata": {},
   "outputs": [
    {
     "data": {
      "text/plain": [
       "(80, 18416, 117618)"
      ]
     },
     "execution_count": 42,
     "metadata": {},
     "output_type": "execute_result"
    }
   ],
   "source": [
    "(n, m, p)"
   ]
  },
  {
   "cell_type": "code",
   "execution_count": 51,
   "id": "09badf03-f69b-4988-b803-d1ef6e2c7911",
   "metadata": {},
   "outputs": [
    {
     "data": {
      "text/html": [
       "<div><div style = \"float: left;\"><span>2×4 DataFrame</span></div><div style = \"clear: both;\"></div></div><div class = \"data-frame\" style = \"overflow-x: scroll;\"><table class = \"data-frame\" style = \"margin-bottom: 6px;\"><thead><tr class = \"header\"><th class = \"rowNumber\" style = \"font-weight: bold; text-align: right;\">Row</th><th style = \"text-align: left;\"> </th><th style = \"text-align: left;\">h2-grid 0.1</th><th style = \"text-align: left;\">h2-grid 0.01</th><th style = \"text-align: left;\">h2-grid 0.1 (alt)</th></tr><tr class = \"subheader headerLastRow\"><th class = \"rowNumber\" style = \"font-weight: bold; text-align: right;\"></th><th title = \"Any\" style = \"text-align: left;\">Any</th><th title = \"Any\" style = \"text-align: left;\">Any</th><th title = \"Any\" style = \"text-align: left;\">Any</th><th title = \"Any\" style = \"text-align: left;\">Any</th></tr></thead><tbody><tr><td class = \"rowNumber\" style = \"font-weight: bold; text-align: right;\">1</td><td style = \"text-align: left;\">ML</td><td style = \"text-align: left;\">14.91</td><td style = \"text-align: left;\">17.1</td><td style = \"text-align: left;\">435.76</td></tr><tr><td class = \"rowNumber\" style = \"font-weight: bold; text-align: right;\">2</td><td style = \"text-align: left;\">REML</td><td style = \"text-align: left;\">20.11</td><td style = \"text-align: left;\">90.18</td><td style = \"text-align: left;\">439.41</td></tr></tbody></table></div>"
      ],
      "text/latex": [
       "\\begin{tabular}{r|cccc}\n",
       "\t&   & h2-grid 0.1 & h2-grid 0.01 & h2-grid 0.1 (alt)\\\\\n",
       "\t\\hline\n",
       "\t& Any & Any & Any & Any\\\\\n",
       "\t\\hline\n",
       "\t1 & ML & 14.91 & 17.1 & 435.76 \\\\\n",
       "\t2 & REML & 20.11 & 90.18 & 439.41 \\\\\n",
       "\\end{tabular}\n"
      ],
      "text/plain": [
       "\u001b[1m2×4 DataFrame\u001b[0m\n",
       "\u001b[1m Row \u001b[0m│\u001b[1m      \u001b[0m\u001b[1m h2-grid 0.1 \u001b[0m\u001b[1m h2-grid 0.01 \u001b[0m\u001b[1m h2-grid 0.1 (alt) \u001b[0m\n",
       "     │\u001b[90m Any  \u001b[0m\u001b[90m Any         \u001b[0m\u001b[90m Any          \u001b[0m\u001b[90m Any               \u001b[0m\n",
       "─────┼────────────────────────────────────────────────────\n",
       "   1 │ ML    14.91        17.1          435.76\n",
       "   2 │ REML  20.11        90.18         439.41"
      ]
     },
     "execution_count": 51,
     "metadata": {},
     "output_type": "execute_result"
    }
   ],
   "source": [
    "grid_null_performance = DataFrame(hcat([\"ML\", \"REML\"], \n",
    "                                  round.([t_null_grid10_ml, t_null_grid10_reml], digits = 2),\n",
    "                                  round.([t_null_grid100_ml, t_null_grid100_reml], digits = 2), \n",
    "                                  round.([t_alt_grid10_ml, t_alt_grid10_reml], digits = 2)),\n",
    "                                  [\" \", \"h2-grid 0.1\", \"h2-grid 0.01\", \"h2-grid 0.1 (alt)\"])"
   ]
  },
  {
   "cell_type": "markdown",
   "id": "1e086031-5f76-477a-8ec4-2e49654019ba",
   "metadata": {},
   "source": [
    "#### Results analysis:"
   ]
  },
  {
   "cell_type": "code",
   "execution_count": 63,
   "id": "9304d4d7-97c7-448b-bb64-fa97e4e13cef",
   "metadata": {},
   "outputs": [
    {
     "data": {
      "text/plain": [
       "18416×2 Matrix{Float64}:\n",
       " 4.14835e-14  0.0\n",
       " 2.83721e-13  0.0\n",
       " 0.864013     0.9\n",
       " 9.68987e-14  0.0\n",
       " 0.393615     0.4\n",
       " 0.764656     0.8\n",
       " 0.837716     0.8\n",
       " 4.21494e-14  0.0\n",
       " 4.21494e-14  0.0\n",
       " 0.0290686    0.0\n",
       " 0.722103     0.7\n",
       " 0.997302     0.9\n",
       " 3.10248e-14  0.0\n",
       " ⋮            \n",
       " 1.10348e-13  0.0\n",
       " 0.847758     0.8\n",
       " 0.827284     0.8\n",
       " 3.99245e-14  0.0\n",
       " 8.07279e-13  0.0\n",
       " 4.71425e-14  0.0\n",
       " 1.10348e-13  0.0\n",
       " 1.0          0.9\n",
       " 0.570018     0.6\n",
       " 1.21604e-12  0.0\n",
       " 4.71244e-14  0.0\n",
       " 0.561756     0.6"
      ]
     },
     "execution_count": 63,
     "metadata": {},
     "output_type": "execute_result"
    }
   ],
   "source": [
    "hcat(bulkscan_null_exact_results_reml.h2_null_list, bulkscan_null_grid_results10_reml.h2_null_list)"
   ]
  },
  {
   "cell_type": "code",
   "execution_count": 67,
   "id": "6f419470-b121-4f8b-bff6-5cc1b67e54de",
   "metadata": {},
   "outputs": [
    {
     "data": {
      "text/html": [
       "<div><div style = \"float: left;\"><span>10×2 DataFrame</span></div><div style = \"clear: both;\"></div></div><div class = \"data-frame\" style = \"overflow-x: scroll;\"><table class = \"data-frame\" style = \"margin-bottom: 6px;\"><thead><tr class = \"header\"><th class = \"rowNumber\" style = \"font-weight: bold; text-align: right;\">Row</th><th style = \"text-align: left;\">h2_null_ML</th><th style = \"text-align: left;\">h2_null_REML</th></tr><tr class = \"subheader headerLastRow\"><th class = \"rowNumber\" style = \"font-weight: bold; text-align: right;\"></th><th title = \"Float64\" style = \"text-align: left;\">Float64</th><th title = \"Float64\" style = \"text-align: left;\">Float64</th></tr></thead><tbody><tr><td class = \"rowNumber\" style = \"font-weight: bold; text-align: right;\">1</td><td style = \"text-align: right;\">0.0</td><td style = \"text-align: right;\">0.0</td></tr><tr><td class = \"rowNumber\" style = \"font-weight: bold; text-align: right;\">2</td><td style = \"text-align: right;\">0.0</td><td style = \"text-align: right;\">0.0</td></tr><tr><td class = \"rowNumber\" style = \"font-weight: bold; text-align: right;\">3</td><td style = \"text-align: right;\">0.0</td><td style = \"text-align: right;\">0.86</td></tr><tr><td class = \"rowNumber\" style = \"font-weight: bold; text-align: right;\">4</td><td style = \"text-align: right;\">0.0</td><td style = \"text-align: right;\">0.0</td></tr><tr><td class = \"rowNumber\" style = \"font-weight: bold; text-align: right;\">5</td><td style = \"text-align: right;\">0.0</td><td style = \"text-align: right;\">0.39</td></tr><tr><td class = \"rowNumber\" style = \"font-weight: bold; text-align: right;\">6</td><td style = \"text-align: right;\">0.0</td><td style = \"text-align: right;\">0.76</td></tr><tr><td class = \"rowNumber\" style = \"font-weight: bold; text-align: right;\">7</td><td style = \"text-align: right;\">0.0</td><td style = \"text-align: right;\">0.84</td></tr><tr><td class = \"rowNumber\" style = \"font-weight: bold; text-align: right;\">8</td><td style = \"text-align: right;\">0.0</td><td style = \"text-align: right;\">0.0</td></tr><tr><td class = \"rowNumber\" style = \"font-weight: bold; text-align: right;\">9</td><td style = \"text-align: right;\">0.0</td><td style = \"text-align: right;\">0.0</td></tr><tr><td class = \"rowNumber\" style = \"font-weight: bold; text-align: right;\">10</td><td style = \"text-align: right;\">0.0</td><td style = \"text-align: right;\">0.03</td></tr></tbody></table></div>"
      ],
      "text/latex": [
       "\\begin{tabular}{r|cc}\n",
       "\t& h2\\_null\\_ML & h2\\_null\\_REML\\\\\n",
       "\t\\hline\n",
       "\t& Float64 & Float64\\\\\n",
       "\t\\hline\n",
       "\t1 & 0.0 & 0.0 \\\\\n",
       "\t2 & 0.0 & 0.0 \\\\\n",
       "\t3 & 0.0 & 0.86 \\\\\n",
       "\t4 & 0.0 & 0.0 \\\\\n",
       "\t5 & 0.0 & 0.39 \\\\\n",
       "\t6 & 0.0 & 0.76 \\\\\n",
       "\t7 & 0.0 & 0.84 \\\\\n",
       "\t8 & 0.0 & 0.0 \\\\\n",
       "\t9 & 0.0 & 0.0 \\\\\n",
       "\t10 & 0.0 & 0.03 \\\\\n",
       "\\end{tabular}\n"
      ],
      "text/plain": [
       "\u001b[1m10×2 DataFrame\u001b[0m\n",
       "\u001b[1m Row \u001b[0m│\u001b[1m h2_null_ML \u001b[0m\u001b[1m h2_null_REML \u001b[0m\n",
       "     │\u001b[90m Float64    \u001b[0m\u001b[90m Float64      \u001b[0m\n",
       "─────┼──────────────────────────\n",
       "   1 │        0.0          0.0\n",
       "   2 │        0.0          0.0\n",
       "   3 │        0.0          0.86\n",
       "   4 │        0.0          0.0\n",
       "   5 │        0.0          0.39\n",
       "   6 │        0.0          0.76\n",
       "   7 │        0.0          0.84\n",
       "   8 │        0.0          0.0\n",
       "   9 │        0.0          0.0\n",
       "  10 │        0.0          0.03"
      ]
     },
     "execution_count": 67,
     "metadata": {},
     "output_type": "execute_result"
    }
   ],
   "source": [
    "h2_df = DataFrame(hcat(bulkscan_null_grid_results100_ml.h2_null_list, bulkscan_null_grid_results100_reml.h2_null_list), \n",
    "         [\"h2_null_ML\", \"h2_null_REML\"]);\n",
    "h2_df[1:10, :]"
   ]
  },
  {
   "cell_type": "code",
   "execution_count": 68,
   "id": "a76e8354-f252-4233-946b-de7e38455695",
   "metadata": {},
   "outputs": [
    {
     "data": {
      "text/html": [
       "<div><div style = \"float: left;\"><span>1×2 DataFrame</span></div><div style = \"clear: both;\"></div></div><div class = \"data-frame\" style = \"overflow-x: scroll;\"><table class = \"data-frame\" style = \"margin-bottom: 6px;\"><thead><tr class = \"header\"><th class = \"rowNumber\" style = \"font-weight: bold; text-align: right;\">Row</th><th style = \"text-align: left;\">prop0.0_ML</th><th style = \"text-align: left;\">prop0.0_REML</th></tr><tr class = \"subheader headerLastRow\"><th class = \"rowNumber\" style = \"font-weight: bold; text-align: right;\"></th><th title = \"Float64\" style = \"text-align: left;\">Float64</th><th title = \"Float64\" style = \"text-align: left;\">Float64</th></tr></thead><tbody><tr><td class = \"rowNumber\" style = \"font-weight: bold; text-align: right;\">1</td><td style = \"text-align: right;\">0.996416</td><td style = \"text-align: right;\">0.568202</td></tr></tbody></table></div>"
      ],
      "text/latex": [
       "\\begin{tabular}{r|cc}\n",
       "\t& prop0.0\\_ML & prop0.0\\_REML\\\\\n",
       "\t\\hline\n",
       "\t& Float64 & Float64\\\\\n",
       "\t\\hline\n",
       "\t1 & 0.996416 & 0.568202 \\\\\n",
       "\\end{tabular}\n"
      ],
      "text/plain": [
       "\u001b[1m1×2 DataFrame\u001b[0m\n",
       "\u001b[1m Row \u001b[0m│\u001b[1m prop0.0_ML \u001b[0m\u001b[1m prop0.0_REML \u001b[0m\n",
       "     │\u001b[90m Float64    \u001b[0m\u001b[90m Float64      \u001b[0m\n",
       "─────┼──────────────────────────\n",
       "   1 │   0.996416      0.568202"
      ]
     },
     "execution_count": 68,
     "metadata": {},
     "output_type": "execute_result"
    }
   ],
   "source": [
    "prop_zero_h2 = hcat(bulkscan_null_grid_results100_ml.h2_null_list, bulkscan_null_grid_results100_reml.h2_null_list) |> \n",
    "               x->mapslices(y -> mean(y .== 0), x; dims = 1);\n",
    "prop_zero_h2 = DataFrame(prop_zero_h2, [\"prop0.0_ML\", \"prop0.0_REML\"])"
   ]
  },
  {
   "cell_type": "code",
   "execution_count": 72,
   "id": "ce630e1e-eb5c-44cf-a8dd-3046079d85a0",
   "metadata": {},
   "outputs": [
    {
     "data": {
      "image/svg+xml": [
       "<?xml version=\"1.0\" encoding=\"utf-8\"?>\n",
       "<svg xmlns=\"http://www.w3.org/2000/svg\" xmlns:xlink=\"http://www.w3.org/1999/xlink\" width=\"600\" height=\"400\" viewBox=\"0 0 2400 1600\">\n",
       "<defs>\n",
       "  <clipPath id=\"clip540\">\n",
       "    <rect x=\"0\" y=\"0\" width=\"2400\" height=\"1600\"/>\n",
       "  </clipPath>\n",
       "</defs>\n",
       "<path clip-path=\"url(#clip540)\" d=\"\n",
       "M0 1600 L2400 1600 L2400 0 L0 0  Z\n",
       "  \" fill=\"#ffffff\" fill-rule=\"evenodd\" fill-opacity=\"1\"/>\n",
       "<defs>\n",
       "  <clipPath id=\"clip541\">\n",
       "    <rect x=\"480\" y=\"0\" width=\"1681\" height=\"1600\"/>\n",
       "  </clipPath>\n",
       "</defs>\n",
       "<path clip-path=\"url(#clip540)\" d=\"\n",
       "M304.699 1486.45 L2352.76 1486.45 L2352.76 47.2441 L304.699 47.2441  Z\n",
       "  \" fill=\"#ffffff\" fill-rule=\"evenodd\" fill-opacity=\"1\"/>\n",
       "<defs>\n",
       "  <clipPath id=\"clip542\">\n",
       "    <rect x=\"304\" y=\"47\" width=\"2049\" height=\"1440\"/>\n",
       "  </clipPath>\n",
       "</defs>\n",
       "<polyline clip-path=\"url(#clip542)\" style=\"stroke:#000000; stroke-linecap:round; stroke-linejoin:round; stroke-width:2; stroke-opacity:0.1; fill:none\" points=\"\n",
       "  417.346,1486.45 417.346,47.2441 \n",
       "  \"/>\n",
       "<polyline clip-path=\"url(#clip542)\" style=\"stroke:#000000; stroke-linecap:round; stroke-linejoin:round; stroke-width:2; stroke-opacity:0.1; fill:none\" points=\"\n",
       "  873.037,1486.45 873.037,47.2441 \n",
       "  \"/>\n",
       "<polyline clip-path=\"url(#clip542)\" style=\"stroke:#000000; stroke-linecap:round; stroke-linejoin:round; stroke-width:2; stroke-opacity:0.1; fill:none\" points=\"\n",
       "  1328.73,1486.45 1328.73,47.2441 \n",
       "  \"/>\n",
       "<polyline clip-path=\"url(#clip542)\" style=\"stroke:#000000; stroke-linecap:round; stroke-linejoin:round; stroke-width:2; stroke-opacity:0.1; fill:none\" points=\"\n",
       "  1784.42,1486.45 1784.42,47.2441 \n",
       "  \"/>\n",
       "<polyline clip-path=\"url(#clip542)\" style=\"stroke:#000000; stroke-linecap:round; stroke-linejoin:round; stroke-width:2; stroke-opacity:0.1; fill:none\" points=\"\n",
       "  2240.11,1486.45 2240.11,47.2441 \n",
       "  \"/>\n",
       "<polyline clip-path=\"url(#clip540)\" style=\"stroke:#000000; stroke-linecap:round; stroke-linejoin:round; stroke-width:4; stroke-opacity:1; fill:none\" points=\"\n",
       "  304.699,1486.45 2352.76,1486.45 \n",
       "  \"/>\n",
       "<polyline clip-path=\"url(#clip540)\" style=\"stroke:#000000; stroke-linecap:round; stroke-linejoin:round; stroke-width:4; stroke-opacity:1; fill:none\" points=\"\n",
       "  417.346,1486.45 417.346,1467.55 \n",
       "  \"/>\n",
       "<polyline clip-path=\"url(#clip540)\" style=\"stroke:#000000; stroke-linecap:round; stroke-linejoin:round; stroke-width:4; stroke-opacity:1; fill:none\" points=\"\n",
       "  873.037,1486.45 873.037,1467.55 \n",
       "  \"/>\n",
       "<polyline clip-path=\"url(#clip540)\" style=\"stroke:#000000; stroke-linecap:round; stroke-linejoin:round; stroke-width:4; stroke-opacity:1; fill:none\" points=\"\n",
       "  1328.73,1486.45 1328.73,1467.55 \n",
       "  \"/>\n",
       "<polyline clip-path=\"url(#clip540)\" style=\"stroke:#000000; stroke-linecap:round; stroke-linejoin:round; stroke-width:4; stroke-opacity:1; fill:none\" points=\"\n",
       "  1784.42,1486.45 1784.42,1467.55 \n",
       "  \"/>\n",
       "<polyline clip-path=\"url(#clip540)\" style=\"stroke:#000000; stroke-linecap:round; stroke-linejoin:round; stroke-width:4; stroke-opacity:1; fill:none\" points=\"\n",
       "  2240.11,1486.45 2240.11,1467.55 \n",
       "  \"/>\n",
       "<path clip-path=\"url(#clip540)\" d=\"M379.649 1517.37 Q376.038 1517.37 374.21 1520.93 Q372.404 1524.47 372.404 1531.6 Q372.404 1538.71 374.21 1542.27 Q376.038 1545.82 379.649 1545.82 Q383.284 1545.82 385.089 1542.27 Q386.918 1538.71 386.918 1531.6 Q386.918 1524.47 385.089 1520.93 Q383.284 1517.37 379.649 1517.37 M379.649 1513.66 Q385.46 1513.66 388.515 1518.27 Q391.594 1522.85 391.594 1531.6 Q391.594 1540.33 388.515 1544.94 Q385.46 1549.52 379.649 1549.52 Q373.839 1549.52 370.761 1544.94 Q367.705 1540.33 367.705 1531.6 Q367.705 1522.85 370.761 1518.27 Q373.839 1513.66 379.649 1513.66 Z\" fill=\"#000000\" fill-rule=\"evenodd\" fill-opacity=\"1\" /><path clip-path=\"url(#clip540)\" d=\"M399.811 1542.97 L404.696 1542.97 L404.696 1548.85 L399.811 1548.85 L399.811 1542.97 Z\" fill=\"#000000\" fill-rule=\"evenodd\" fill-opacity=\"1\" /><path clip-path=\"url(#clip540)\" d=\"M424.881 1517.37 Q421.27 1517.37 419.441 1520.93 Q417.635 1524.47 417.635 1531.6 Q417.635 1538.71 419.441 1542.27 Q421.27 1545.82 424.881 1545.82 Q428.515 1545.82 430.321 1542.27 Q432.149 1538.71 432.149 1531.6 Q432.149 1524.47 430.321 1520.93 Q428.515 1517.37 424.881 1517.37 M424.881 1513.66 Q430.691 1513.66 433.746 1518.27 Q436.825 1522.85 436.825 1531.6 Q436.825 1540.33 433.746 1544.94 Q430.691 1549.52 424.881 1549.52 Q419.071 1549.52 415.992 1544.94 Q412.936 1540.33 412.936 1531.6 Q412.936 1522.85 415.992 1518.27 Q419.071 1513.66 424.881 1513.66 Z\" fill=\"#000000\" fill-rule=\"evenodd\" fill-opacity=\"1\" /><path clip-path=\"url(#clip540)\" d=\"M455.043 1517.37 Q451.432 1517.37 449.603 1520.93 Q447.797 1524.47 447.797 1531.6 Q447.797 1538.71 449.603 1542.27 Q451.432 1545.82 455.043 1545.82 Q458.677 1545.82 460.482 1542.27 Q462.311 1538.71 462.311 1531.6 Q462.311 1524.47 460.482 1520.93 Q458.677 1517.37 455.043 1517.37 M455.043 1513.66 Q460.853 1513.66 463.908 1518.27 Q466.987 1522.85 466.987 1531.6 Q466.987 1540.33 463.908 1544.94 Q460.853 1549.52 455.043 1549.52 Q449.232 1549.52 446.154 1544.94 Q443.098 1540.33 443.098 1531.6 Q443.098 1522.85 446.154 1518.27 Q449.232 1513.66 455.043 1513.66 Z\" fill=\"#000000\" fill-rule=\"evenodd\" fill-opacity=\"1\" /><path clip-path=\"url(#clip540)\" d=\"M835.838 1517.37 Q832.227 1517.37 830.398 1520.93 Q828.593 1524.47 828.593 1531.6 Q828.593 1538.71 830.398 1542.27 Q832.227 1545.82 835.838 1545.82 Q839.472 1545.82 841.278 1542.27 Q843.106 1538.71 843.106 1531.6 Q843.106 1524.47 841.278 1520.93 Q839.472 1517.37 835.838 1517.37 M835.838 1513.66 Q841.648 1513.66 844.704 1518.27 Q847.782 1522.85 847.782 1531.6 Q847.782 1540.33 844.704 1544.94 Q841.648 1549.52 835.838 1549.52 Q830.028 1549.52 826.949 1544.94 Q823.894 1540.33 823.894 1531.6 Q823.894 1522.85 826.949 1518.27 Q830.028 1513.66 835.838 1513.66 Z\" fill=\"#000000\" fill-rule=\"evenodd\" fill-opacity=\"1\" /><path clip-path=\"url(#clip540)\" d=\"M856 1542.97 L860.884 1542.97 L860.884 1548.85 L856 1548.85 L856 1542.97 Z\" fill=\"#000000\" fill-rule=\"evenodd\" fill-opacity=\"1\" /><path clip-path=\"url(#clip540)\" d=\"M875.097 1544.91 L891.416 1544.91 L891.416 1548.85 L869.472 1548.85 L869.472 1544.91 Q872.134 1542.16 876.717 1537.53 Q881.324 1532.88 882.504 1531.53 Q884.75 1529.01 885.629 1527.27 Q886.532 1525.51 886.532 1523.82 Q886.532 1521.07 884.588 1519.33 Q882.666 1517.6 879.565 1517.6 Q877.366 1517.6 874.912 1518.36 Q872.481 1519.13 869.704 1520.68 L869.704 1515.95 Q872.528 1514.82 874.981 1514.24 Q877.435 1513.66 879.472 1513.66 Q884.842 1513.66 888.037 1516.35 Q891.231 1519.03 891.231 1523.52 Q891.231 1525.65 890.421 1527.57 Q889.634 1529.47 887.527 1532.07 Q886.949 1532.74 883.847 1535.95 Q880.745 1539.15 875.097 1544.91 Z\" fill=\"#000000\" fill-rule=\"evenodd\" fill-opacity=\"1\" /><path clip-path=\"url(#clip540)\" d=\"M901.277 1514.29 L919.634 1514.29 L919.634 1518.22 L905.56 1518.22 L905.56 1526.7 Q906.578 1526.35 907.597 1526.19 Q908.615 1526 909.634 1526 Q915.421 1526 918.8 1529.17 Q922.18 1532.34 922.18 1537.76 Q922.18 1543.34 918.708 1546.44 Q915.236 1549.52 908.916 1549.52 Q906.74 1549.52 904.472 1549.15 Q902.226 1548.78 899.819 1548.04 L899.819 1543.34 Q901.902 1544.47 904.125 1545.03 Q906.347 1545.58 908.824 1545.58 Q912.828 1545.58 915.166 1543.48 Q917.504 1541.37 917.504 1537.76 Q917.504 1534.15 915.166 1532.04 Q912.828 1529.94 908.824 1529.94 Q906.949 1529.94 905.074 1530.35 Q903.222 1530.77 901.277 1531.65 L901.277 1514.29 Z\" fill=\"#000000\" fill-rule=\"evenodd\" fill-opacity=\"1\" /><path clip-path=\"url(#clip540)\" d=\"M1291.03 1517.37 Q1287.42 1517.37 1285.59 1520.93 Q1283.79 1524.47 1283.79 1531.6 Q1283.79 1538.71 1285.59 1542.27 Q1287.42 1545.82 1291.03 1545.82 Q1294.67 1545.82 1296.47 1542.27 Q1298.3 1538.71 1298.3 1531.6 Q1298.3 1524.47 1296.47 1520.93 Q1294.67 1517.37 1291.03 1517.37 M1291.03 1513.66 Q1296.84 1513.66 1299.9 1518.27 Q1302.98 1522.85 1302.98 1531.6 Q1302.98 1540.33 1299.9 1544.94 Q1296.84 1549.52 1291.03 1549.52 Q1285.22 1549.52 1282.14 1544.94 Q1279.09 1540.33 1279.09 1531.6 Q1279.09 1522.85 1282.14 1518.27 Q1285.22 1513.66 1291.03 1513.66 Z\" fill=\"#000000\" fill-rule=\"evenodd\" fill-opacity=\"1\" /><path clip-path=\"url(#clip540)\" d=\"M1311.19 1542.97 L1316.08 1542.97 L1316.08 1548.85 L1311.19 1548.85 L1311.19 1542.97 Z\" fill=\"#000000\" fill-rule=\"evenodd\" fill-opacity=\"1\" /><path clip-path=\"url(#clip540)\" d=\"M1326.31 1514.29 L1344.67 1514.29 L1344.67 1518.22 L1330.59 1518.22 L1330.59 1526.7 Q1331.61 1526.35 1332.63 1526.19 Q1333.65 1526 1334.67 1526 Q1340.45 1526 1343.83 1529.17 Q1347.21 1532.34 1347.21 1537.76 Q1347.21 1543.34 1343.74 1546.44 Q1340.27 1549.52 1333.95 1549.52 Q1331.77 1549.52 1329.5 1549.15 Q1327.26 1548.78 1324.85 1548.04 L1324.85 1543.34 Q1326.93 1544.47 1329.16 1545.03 Q1331.38 1545.58 1333.85 1545.58 Q1337.86 1545.58 1340.2 1543.48 Q1342.54 1541.37 1342.54 1537.76 Q1342.54 1534.15 1340.2 1532.04 Q1337.86 1529.94 1333.85 1529.94 Q1331.98 1529.94 1330.1 1530.35 Q1328.25 1530.77 1326.31 1531.65 L1326.31 1514.29 Z\" fill=\"#000000\" fill-rule=\"evenodd\" fill-opacity=\"1\" /><path clip-path=\"url(#clip540)\" d=\"M1366.42 1517.37 Q1362.81 1517.37 1360.98 1520.93 Q1359.18 1524.47 1359.18 1531.6 Q1359.18 1538.71 1360.98 1542.27 Q1362.81 1545.82 1366.42 1545.82 Q1370.06 1545.82 1371.86 1542.27 Q1373.69 1538.71 1373.69 1531.6 Q1373.69 1524.47 1371.86 1520.93 Q1370.06 1517.37 1366.42 1517.37 M1366.42 1513.66 Q1372.23 1513.66 1375.29 1518.27 Q1378.37 1522.85 1378.37 1531.6 Q1378.37 1540.33 1375.29 1544.94 Q1372.23 1549.52 1366.42 1549.52 Q1360.61 1549.52 1357.54 1544.94 Q1354.48 1540.33 1354.48 1531.6 Q1354.48 1522.85 1357.54 1518.27 Q1360.61 1513.66 1366.42 1513.66 Z\" fill=\"#000000\" fill-rule=\"evenodd\" fill-opacity=\"1\" /><path clip-path=\"url(#clip540)\" d=\"M1747.22 1517.37 Q1743.61 1517.37 1741.78 1520.93 Q1739.97 1524.47 1739.97 1531.6 Q1739.97 1538.71 1741.78 1542.27 Q1743.61 1545.82 1747.22 1545.82 Q1750.85 1545.82 1752.66 1542.27 Q1754.49 1538.71 1754.49 1531.6 Q1754.49 1524.47 1752.66 1520.93 Q1750.85 1517.37 1747.22 1517.37 M1747.22 1513.66 Q1753.03 1513.66 1756.09 1518.27 Q1759.16 1522.85 1759.16 1531.6 Q1759.16 1540.33 1756.09 1544.94 Q1753.03 1549.52 1747.22 1549.52 Q1741.41 1549.52 1738.33 1544.94 Q1735.28 1540.33 1735.28 1531.6 Q1735.28 1522.85 1738.33 1518.27 Q1741.41 1513.66 1747.22 1513.66 Z\" fill=\"#000000\" fill-rule=\"evenodd\" fill-opacity=\"1\" /><path clip-path=\"url(#clip540)\" d=\"M1767.38 1542.97 L1772.27 1542.97 L1772.27 1548.85 L1767.38 1548.85 L1767.38 1542.97 Z\" fill=\"#000000\" fill-rule=\"evenodd\" fill-opacity=\"1\" /><path clip-path=\"url(#clip540)\" d=\"M1781.27 1514.29 L1803.49 1514.29 L1803.49 1516.28 L1790.95 1548.85 L1786.06 1548.85 L1797.87 1518.22 L1781.27 1518.22 L1781.27 1514.29 Z\" fill=\"#000000\" fill-rule=\"evenodd\" fill-opacity=\"1\" /><path clip-path=\"url(#clip540)\" d=\"M1812.66 1514.29 L1831.02 1514.29 L1831.02 1518.22 L1816.94 1518.22 L1816.94 1526.7 Q1817.96 1526.35 1818.98 1526.19 Q1820 1526 1821.02 1526 Q1826.8 1526 1830.18 1529.17 Q1833.56 1532.34 1833.56 1537.76 Q1833.56 1543.34 1830.09 1546.44 Q1826.62 1549.52 1820.3 1549.52 Q1818.12 1549.52 1815.85 1549.15 Q1813.61 1548.78 1811.2 1548.04 L1811.2 1543.34 Q1813.28 1544.47 1815.51 1545.03 Q1817.73 1545.58 1820.21 1545.58 Q1824.21 1545.58 1826.55 1543.48 Q1828.89 1541.37 1828.89 1537.76 Q1828.89 1534.15 1826.55 1532.04 Q1824.21 1529.94 1820.21 1529.94 Q1818.33 1529.94 1816.46 1530.35 Q1814.6 1530.77 1812.66 1531.65 L1812.66 1514.29 Z\" fill=\"#000000\" fill-rule=\"evenodd\" fill-opacity=\"1\" /><path clip-path=\"url(#clip540)\" d=\"M2192.18 1544.91 L2199.82 1544.91 L2199.82 1518.55 L2191.51 1520.21 L2191.51 1515.95 L2199.77 1514.29 L2204.45 1514.29 L2204.45 1544.91 L2212.09 1544.91 L2212.09 1548.85 L2192.18 1548.85 L2192.18 1544.91 Z\" fill=\"#000000\" fill-rule=\"evenodd\" fill-opacity=\"1\" /><path clip-path=\"url(#clip540)\" d=\"M2221.53 1542.97 L2226.42 1542.97 L2226.42 1548.85 L2221.53 1548.85 L2221.53 1542.97 Z\" fill=\"#000000\" fill-rule=\"evenodd\" fill-opacity=\"1\" /><path clip-path=\"url(#clip540)\" d=\"M2246.6 1517.37 Q2242.99 1517.37 2241.16 1520.93 Q2239.36 1524.47 2239.36 1531.6 Q2239.36 1538.71 2241.16 1542.27 Q2242.99 1545.82 2246.6 1545.82 Q2250.24 1545.82 2252.04 1542.27 Q2253.87 1538.71 2253.87 1531.6 Q2253.87 1524.47 2252.04 1520.93 Q2250.24 1517.37 2246.6 1517.37 M2246.6 1513.66 Q2252.41 1513.66 2255.47 1518.27 Q2258.55 1522.85 2258.55 1531.6 Q2258.55 1540.33 2255.47 1544.94 Q2252.41 1549.52 2246.6 1549.52 Q2240.79 1549.52 2237.71 1544.94 Q2234.66 1540.33 2234.66 1531.6 Q2234.66 1522.85 2237.71 1518.27 Q2240.79 1513.66 2246.6 1513.66 Z\" fill=\"#000000\" fill-rule=\"evenodd\" fill-opacity=\"1\" /><path clip-path=\"url(#clip540)\" d=\"M2276.76 1517.37 Q2273.15 1517.37 2271.32 1520.93 Q2269.52 1524.47 2269.52 1531.6 Q2269.52 1538.71 2271.32 1542.27 Q2273.15 1545.82 2276.76 1545.82 Q2280.4 1545.82 2282.2 1542.27 Q2284.03 1538.71 2284.03 1531.6 Q2284.03 1524.47 2282.2 1520.93 Q2280.4 1517.37 2276.76 1517.37 M2276.76 1513.66 Q2282.57 1513.66 2285.63 1518.27 Q2288.71 1522.85 2288.71 1531.6 Q2288.71 1540.33 2285.63 1544.94 Q2282.57 1549.52 2276.76 1549.52 Q2270.95 1549.52 2267.88 1544.94 Q2264.82 1540.33 2264.82 1531.6 Q2264.82 1522.85 2267.88 1518.27 Q2270.95 1513.66 2276.76 1513.66 Z\" fill=\"#000000\" fill-rule=\"evenodd\" fill-opacity=\"1\" /><polyline clip-path=\"url(#clip542)\" style=\"stroke:#000000; stroke-linecap:round; stroke-linejoin:round; stroke-width:2; stroke-opacity:0.1; fill:none\" points=\"\n",
       "  304.699,1445.72 2352.76,1445.72 \n",
       "  \"/>\n",
       "<polyline clip-path=\"url(#clip542)\" style=\"stroke:#000000; stroke-linecap:round; stroke-linejoin:round; stroke-width:2; stroke-opacity:0.1; fill:none\" points=\"\n",
       "  304.699,1076.4 2352.76,1076.4 \n",
       "  \"/>\n",
       "<polyline clip-path=\"url(#clip542)\" style=\"stroke:#000000; stroke-linecap:round; stroke-linejoin:round; stroke-width:2; stroke-opacity:0.1; fill:none\" points=\"\n",
       "  304.699,707.091 2352.76,707.091 \n",
       "  \"/>\n",
       "<polyline clip-path=\"url(#clip542)\" style=\"stroke:#000000; stroke-linecap:round; stroke-linejoin:round; stroke-width:2; stroke-opacity:0.1; fill:none\" points=\"\n",
       "  304.699,337.779 2352.76,337.779 \n",
       "  \"/>\n",
       "<polyline clip-path=\"url(#clip540)\" style=\"stroke:#000000; stroke-linecap:round; stroke-linejoin:round; stroke-width:4; stroke-opacity:1; fill:none\" points=\"\n",
       "  304.699,1486.45 304.699,47.2441 \n",
       "  \"/>\n",
       "<polyline clip-path=\"url(#clip540)\" style=\"stroke:#000000; stroke-linecap:round; stroke-linejoin:round; stroke-width:4; stroke-opacity:1; fill:none\" points=\"\n",
       "  304.699,1445.72 323.597,1445.72 \n",
       "  \"/>\n",
       "<polyline clip-path=\"url(#clip540)\" style=\"stroke:#000000; stroke-linecap:round; stroke-linejoin:round; stroke-width:4; stroke-opacity:1; fill:none\" points=\"\n",
       "  304.699,1076.4 323.597,1076.4 \n",
       "  \"/>\n",
       "<polyline clip-path=\"url(#clip540)\" style=\"stroke:#000000; stroke-linecap:round; stroke-linejoin:round; stroke-width:4; stroke-opacity:1; fill:none\" points=\"\n",
       "  304.699,707.091 323.597,707.091 \n",
       "  \"/>\n",
       "<polyline clip-path=\"url(#clip540)\" style=\"stroke:#000000; stroke-linecap:round; stroke-linejoin:round; stroke-width:4; stroke-opacity:1; fill:none\" points=\"\n",
       "  304.699,337.779 323.597,337.779 \n",
       "  \"/>\n",
       "<path clip-path=\"url(#clip540)\" d=\"M256.755 1431.51 Q253.144 1431.51 251.315 1435.08 Q249.51 1438.62 249.51 1445.75 Q249.51 1452.86 251.315 1456.42 Q253.144 1459.96 256.755 1459.96 Q260.389 1459.96 262.195 1456.42 Q264.023 1452.86 264.023 1445.75 Q264.023 1438.62 262.195 1435.08 Q260.389 1431.51 256.755 1431.51 M256.755 1427.81 Q262.565 1427.81 265.621 1432.42 Q268.699 1437 268.699 1445.75 Q268.699 1454.48 265.621 1459.08 Q262.565 1463.67 256.755 1463.67 Q250.945 1463.67 247.866 1459.08 Q244.811 1454.48 244.811 1445.75 Q244.811 1437 247.866 1432.42 Q250.945 1427.81 256.755 1427.81 Z\" fill=\"#000000\" fill-rule=\"evenodd\" fill-opacity=\"1\" /><path clip-path=\"url(#clip540)\" d=\"M52.8743 1065.57 L71.2307 1065.57 L71.2307 1069.51 L57.1567 1069.51 L57.1567 1077.98 Q58.1752 1077.63 59.1938 1077.47 Q60.2123 1077.28 61.2308 1077.28 Q67.0178 1077.28 70.3974 1080.46 Q73.777 1083.63 73.777 1089.04 Q73.777 1094.62 70.3048 1097.72 Q66.8326 1100.8 60.5132 1100.8 Q58.3373 1100.8 56.0688 1100.43 Q53.8234 1100.06 51.416 1099.32 L51.416 1094.62 Q53.4993 1095.76 55.7216 1096.31 Q57.9438 1096.87 60.4206 1096.87 Q64.4252 1096.87 66.7632 1094.76 Q69.1011 1092.65 69.1011 1089.04 Q69.1011 1085.43 66.7632 1083.33 Q64.4252 1081.22 60.4206 1081.22 Q58.5456 1081.22 56.6706 1081.64 Q54.8188 1082.05 52.8743 1082.93 L52.8743 1065.57 Z\" fill=\"#000000\" fill-rule=\"evenodd\" fill-opacity=\"1\" /><path clip-path=\"url(#clip540)\" d=\"M82.9899 1094.25 L87.8742 1094.25 L87.8742 1100.13 L82.9899 1100.13 L82.9899 1094.25 Z\" fill=\"#000000\" fill-rule=\"evenodd\" fill-opacity=\"1\" /><path clip-path=\"url(#clip540)\" d=\"M108.059 1068.65 Q104.448 1068.65 102.619 1072.21 Q100.814 1075.76 100.814 1082.89 Q100.814 1089.99 102.619 1093.56 Q104.448 1097.1 108.059 1097.1 Q111.693 1097.1 113.499 1093.56 Q115.328 1089.99 115.328 1082.89 Q115.328 1075.76 113.499 1072.21 Q111.693 1068.65 108.059 1068.65 M108.059 1064.95 Q113.869 1064.95 116.925 1069.55 Q120.004 1074.14 120.004 1082.89 Q120.004 1091.61 116.925 1096.22 Q113.869 1100.8 108.059 1100.8 Q102.249 1100.8 99.1704 1096.22 Q96.1149 1091.61 96.1149 1082.89 Q96.1149 1074.14 99.1704 1069.55 Q102.249 1064.95 108.059 1064.95 Z\" fill=\"#000000\" fill-rule=\"evenodd\" fill-opacity=\"1\" /><path clip-path=\"url(#clip540)\" d=\"M138.221 1068.65 Q134.61 1068.65 132.781 1072.21 Q130.976 1075.76 130.976 1082.89 Q130.976 1089.99 132.781 1093.56 Q134.61 1097.1 138.221 1097.1 Q141.855 1097.1 143.661 1093.56 Q145.49 1089.99 145.49 1082.89 Q145.49 1075.76 143.661 1072.21 Q141.855 1068.65 138.221 1068.65 M138.221 1064.95 Q144.031 1064.95 147.087 1069.55 Q150.165 1074.14 150.165 1082.89 Q150.165 1091.61 147.087 1096.22 Q144.031 1100.8 138.221 1100.8 Q132.411 1100.8 129.332 1096.22 Q126.277 1091.61 126.277 1082.89 Q126.277 1074.14 129.332 1069.55 Q132.411 1064.95 138.221 1064.95 Z\" fill=\"#000000\" fill-rule=\"evenodd\" fill-opacity=\"1\" /><path clip-path=\"url(#clip540)\" d=\"M186.554 1074.67 L175.976 1085.29 L186.554 1095.87 L183.8 1098.67 L173.175 1088.05 L162.55 1098.67 L159.818 1095.87 L170.374 1085.29 L159.818 1074.67 L162.55 1071.87 L173.175 1082.49 L183.8 1071.87 L186.554 1074.67 Z\" fill=\"#000000\" fill-rule=\"evenodd\" fill-opacity=\"1\" /><path clip-path=\"url(#clip540)\" d=\"M198.915 1096.2 L206.554 1096.2 L206.554 1069.83 L198.244 1071.5 L198.244 1067.24 L206.508 1065.57 L211.184 1065.57 L211.184 1096.2 L218.823 1096.2 L218.823 1100.13 L198.915 1100.13 L198.915 1096.2 Z\" fill=\"#000000\" fill-rule=\"evenodd\" fill-opacity=\"1\" /><path clip-path=\"url(#clip540)\" d=\"M238.267 1068.65 Q234.656 1068.65 232.827 1072.21 Q231.022 1075.76 231.022 1082.89 Q231.022 1089.99 232.827 1093.56 Q234.656 1097.1 238.267 1097.1 Q241.901 1097.1 243.707 1093.56 Q245.535 1089.99 245.535 1082.89 Q245.535 1075.76 243.707 1072.21 Q241.901 1068.65 238.267 1068.65 M238.267 1064.95 Q244.077 1064.95 247.133 1069.55 Q250.211 1074.14 250.211 1082.89 Q250.211 1091.61 247.133 1096.22 Q244.077 1100.8 238.267 1100.8 Q232.457 1100.8 229.378 1096.22 Q226.322 1091.61 226.322 1082.89 Q226.322 1074.14 229.378 1069.55 Q232.457 1064.95 238.267 1064.95 Z\" fill=\"#000000\" fill-rule=\"evenodd\" fill-opacity=\"1\" /><path clip-path=\"url(#clip540)\" d=\"M262.906 1057.58 Q265.634 1058.16 267.157 1060.01 Q268.699 1061.85 268.699 1064.56 Q268.699 1068.71 265.841 1070.99 Q262.982 1073.27 257.716 1073.27 Q255.948 1073.27 254.067 1072.91 Q252.205 1072.57 250.211 1071.87 L250.211 1068.21 Q251.791 1069.13 253.672 1069.6 Q255.553 1070.07 257.603 1070.07 Q261.176 1070.07 263.038 1068.66 Q264.919 1067.25 264.919 1064.56 Q264.919 1062.08 263.17 1060.68 Q261.439 1059.27 258.336 1059.27 L255.064 1059.27 L255.064 1056.15 L258.487 1056.15 Q261.289 1056.15 262.775 1055.04 Q264.261 1053.91 264.261 1051.81 Q264.261 1049.64 262.718 1048.5 Q261.195 1047.33 258.336 1047.33 Q256.775 1047.33 254.988 1047.67 Q253.202 1048.01 251.058 1048.72 L251.058 1045.34 Q253.22 1044.73 255.101 1044.43 Q257.001 1044.13 258.675 1044.13 Q263.001 1044.13 265.521 1046.11 Q268.041 1048.06 268.041 1051.41 Q268.041 1053.74 266.706 1055.36 Q265.37 1056.96 262.906 1057.58 Z\" fill=\"#000000\" fill-rule=\"evenodd\" fill-opacity=\"1\" /><path clip-path=\"url(#clip540)\" d=\"M51.6634 726.884 L59.3023 726.884 L59.3023 700.518 L50.9921 702.185 L50.9921 697.926 L59.256 696.259 L63.9319 696.259 L63.9319 726.884 L71.5707 726.884 L71.5707 730.819 L51.6634 730.819 L51.6634 726.884 Z\" fill=\"#000000\" fill-rule=\"evenodd\" fill-opacity=\"1\" /><path clip-path=\"url(#clip540)\" d=\"M81.0151 724.939 L85.8993 724.939 L85.8993 730.819 L81.0151 730.819 L81.0151 724.939 Z\" fill=\"#000000\" fill-rule=\"evenodd\" fill-opacity=\"1\" /><path clip-path=\"url(#clip540)\" d=\"M106.084 699.338 Q102.473 699.338 100.645 702.902 Q98.8391 706.444 98.8391 713.574 Q98.8391 720.68 100.645 724.245 Q102.473 727.786 106.084 727.786 Q109.719 727.786 111.524 724.245 Q113.353 720.68 113.353 713.574 Q113.353 706.444 111.524 702.902 Q109.719 699.338 106.084 699.338 M106.084 695.634 Q111.895 695.634 114.95 700.24 Q118.029 704.824 118.029 713.574 Q118.029 722.3 114.95 726.907 Q111.895 731.49 106.084 731.49 Q100.274 731.49 97.1956 726.907 Q94.14 722.3 94.14 713.574 Q94.14 704.824 97.1956 700.24 Q100.274 695.634 106.084 695.634 Z\" fill=\"#000000\" fill-rule=\"evenodd\" fill-opacity=\"1\" /><path clip-path=\"url(#clip540)\" d=\"M136.246 699.338 Q132.635 699.338 130.807 702.902 Q129.001 706.444 129.001 713.574 Q129.001 720.68 130.807 724.245 Q132.635 727.786 136.246 727.786 Q139.881 727.786 141.686 724.245 Q143.515 720.68 143.515 713.574 Q143.515 706.444 141.686 702.902 Q139.881 699.338 136.246 699.338 M136.246 695.634 Q142.056 695.634 145.112 700.24 Q148.191 704.824 148.191 713.574 Q148.191 722.3 145.112 726.907 Q142.056 731.49 136.246 731.49 Q130.436 731.49 127.357 726.907 Q124.302 722.3 124.302 713.574 Q124.302 704.824 127.357 700.24 Q130.436 695.634 136.246 695.634 Z\" fill=\"#000000\" fill-rule=\"evenodd\" fill-opacity=\"1\" /><path clip-path=\"url(#clip540)\" d=\"M184.579 705.356 L174.001 715.981 L184.579 726.56 L181.825 729.361 L171.2 718.736 L160.575 729.361 L157.843 726.56 L168.399 715.981 L157.843 705.356 L160.575 702.555 L171.2 713.18 L181.825 702.555 L184.579 705.356 Z\" fill=\"#000000\" fill-rule=\"evenodd\" fill-opacity=\"1\" /><path clip-path=\"url(#clip540)\" d=\"M196.94 726.884 L204.579 726.884 L204.579 700.518 L196.269 702.185 L196.269 697.926 L204.533 696.259 L209.209 696.259 L209.209 726.884 L216.848 726.884 L216.848 730.819 L196.94 730.819 L196.94 726.884 Z\" fill=\"#000000\" fill-rule=\"evenodd\" fill-opacity=\"1\" /><path clip-path=\"url(#clip540)\" d=\"M236.292 699.338 Q232.681 699.338 230.852 702.902 Q229.047 706.444 229.047 713.574 Q229.047 720.68 230.852 724.245 Q232.681 727.786 236.292 727.786 Q239.926 727.786 241.732 724.245 Q243.561 720.68 243.561 713.574 Q243.561 706.444 241.732 702.902 Q239.926 699.338 236.292 699.338 M236.292 695.634 Q242.102 695.634 245.158 700.24 Q248.236 704.824 248.236 713.574 Q248.236 722.3 245.158 726.907 Q242.102 731.49 236.292 731.49 Q230.482 731.49 227.403 726.907 Q224.348 722.3 224.348 713.574 Q224.348 704.824 227.403 700.24 Q230.482 695.634 236.292 695.634 Z\" fill=\"#000000\" fill-rule=\"evenodd\" fill-opacity=\"1\" /><path clip-path=\"url(#clip540)\" d=\"M260.913 678.639 L251.321 693.628 L260.913 693.628 L260.913 678.639 M259.916 675.328 L264.693 675.328 L264.693 693.628 L268.699 693.628 L268.699 696.788 L264.693 696.788 L264.693 703.408 L260.913 703.408 L260.913 696.788 L248.236 696.788 L248.236 693.121 L259.916 675.328 Z\" fill=\"#000000\" fill-rule=\"evenodd\" fill-opacity=\"1\" /><path clip-path=\"url(#clip540)\" d=\"M51.6634 357.571 L59.3023 357.571 L59.3023 331.206 L50.9921 332.873 L50.9921 328.613 L59.256 326.947 L63.9319 326.947 L63.9319 357.571 L71.5707 357.571 L71.5707 361.507 L51.6634 361.507 L51.6634 357.571 Z\" fill=\"#000000\" fill-rule=\"evenodd\" fill-opacity=\"1\" /><path clip-path=\"url(#clip540)\" d=\"M81.0151 355.627 L85.8993 355.627 L85.8993 361.507 L81.0151 361.507 L81.0151 355.627 Z\" fill=\"#000000\" fill-rule=\"evenodd\" fill-opacity=\"1\" /><path clip-path=\"url(#clip540)\" d=\"M96.1308 326.947 L114.487 326.947 L114.487 330.882 L100.413 330.882 L100.413 339.354 Q101.432 339.007 102.45 338.845 Q103.469 338.66 104.487 338.66 Q110.274 338.66 113.654 341.831 Q117.033 345.002 117.033 350.419 Q117.033 355.997 113.561 359.099 Q110.089 362.178 103.77 362.178 Q101.594 362.178 99.3252 361.808 Q97.0798 361.437 94.6724 360.696 L94.6724 355.997 Q96.7558 357.132 98.978 357.687 Q101.2 358.243 103.677 358.243 Q107.682 358.243 110.02 356.136 Q112.358 354.03 112.358 350.419 Q112.358 346.808 110.02 344.701 Q107.682 342.595 103.677 342.595 Q101.802 342.595 99.927 343.011 Q98.0752 343.428 96.1308 344.308 L96.1308 326.947 Z\" fill=\"#000000\" fill-rule=\"evenodd\" fill-opacity=\"1\" /><path clip-path=\"url(#clip540)\" d=\"M136.246 330.025 Q132.635 330.025 130.807 333.59 Q129.001 337.132 129.001 344.261 Q129.001 351.368 130.807 354.933 Q132.635 358.474 136.246 358.474 Q139.881 358.474 141.686 354.933 Q143.515 351.368 143.515 344.261 Q143.515 337.132 141.686 333.59 Q139.881 330.025 136.246 330.025 M136.246 326.322 Q142.056 326.322 145.112 330.928 Q148.191 335.511 148.191 344.261 Q148.191 352.988 145.112 357.595 Q142.056 362.178 136.246 362.178 Q130.436 362.178 127.357 357.595 Q124.302 352.988 124.302 344.261 Q124.302 335.511 127.357 330.928 Q130.436 326.322 136.246 326.322 Z\" fill=\"#000000\" fill-rule=\"evenodd\" fill-opacity=\"1\" /><path clip-path=\"url(#clip540)\" d=\"M184.579 336.044 L174.001 346.669 L184.579 357.247 L181.825 360.048 L171.2 349.423 L160.575 360.048 L157.843 357.247 L168.399 346.669 L157.843 336.044 L160.575 333.243 L171.2 343.868 L181.825 333.243 L184.579 336.044 Z\" fill=\"#000000\" fill-rule=\"evenodd\" fill-opacity=\"1\" /><path clip-path=\"url(#clip540)\" d=\"M196.94 357.571 L204.579 357.571 L204.579 331.206 L196.269 332.873 L196.269 328.613 L204.533 326.947 L209.209 326.947 L209.209 357.571 L216.848 357.571 L216.848 361.507 L196.94 361.507 L196.94 357.571 Z\" fill=\"#000000\" fill-rule=\"evenodd\" fill-opacity=\"1\" /><path clip-path=\"url(#clip540)\" d=\"M236.292 330.025 Q232.681 330.025 230.852 333.59 Q229.047 337.132 229.047 344.261 Q229.047 351.368 230.852 354.933 Q232.681 358.474 236.292 358.474 Q239.926 358.474 241.732 354.933 Q243.561 351.368 243.561 344.261 Q243.561 337.132 241.732 333.59 Q239.926 330.025 236.292 330.025 M236.292 326.322 Q242.102 326.322 245.158 330.928 Q248.236 335.511 248.236 344.261 Q248.236 352.988 245.158 357.595 Q242.102 362.178 236.292 362.178 Q230.482 362.178 227.403 357.595 Q224.348 352.988 224.348 344.261 Q224.348 335.511 227.403 330.928 Q230.482 326.322 236.292 326.322 Z\" fill=\"#000000\" fill-rule=\"evenodd\" fill-opacity=\"1\" /><path clip-path=\"url(#clip540)\" d=\"M260.913 309.326 L251.321 324.316 L260.913 324.316 L260.913 309.326 M259.916 306.016 L264.693 306.016 L264.693 324.316 L268.699 324.316 L268.699 327.476 L264.693 327.476 L264.693 334.096 L260.913 334.096 L260.913 327.476 L248.236 327.476 L248.236 323.808 L259.916 306.016 Z\" fill=\"#000000\" fill-rule=\"evenodd\" fill-opacity=\"1\" /><path clip-path=\"url(#clip542)\" d=\"\n",
       "M417.346 87.9763 L417.346 1445.72 L599.622 1445.72 L599.622 87.9763 L417.346 87.9763 L417.346 87.9763  Z\n",
       "  \" fill=\"#009af9\" fill-rule=\"evenodd\" fill-opacity=\"1\"/>\n",
       "<polyline clip-path=\"url(#clip542)\" style=\"stroke:#000000; stroke-linecap:round; stroke-linejoin:round; stroke-width:4; stroke-opacity:1; fill:none\" points=\"\n",
       "  417.346,87.9763 417.346,1445.72 599.622,1445.72 599.622,87.9763 417.346,87.9763 \n",
       "  \"/>\n",
       "<path clip-path=\"url(#clip542)\" d=\"\n",
       "M599.622 1445.72 L599.622 1445.72 L781.899 1445.72 L781.899 1445.72 L599.622 1445.72 L599.622 1445.72  Z\n",
       "  \" fill=\"#009af9\" fill-rule=\"evenodd\" fill-opacity=\"1\"/>\n",
       "<polyline clip-path=\"url(#clip542)\" style=\"stroke:#000000; stroke-linecap:round; stroke-linejoin:round; stroke-width:4; stroke-opacity:1; fill:none\" points=\"\n",
       "  599.622,1445.72 599.622,1445.72 781.899,1445.72 599.622,1445.72 \n",
       "  \"/>\n",
       "<path clip-path=\"url(#clip542)\" d=\"\n",
       "M781.899 1445.72 L781.899 1445.72 L964.175 1445.72 L964.175 1445.72 L781.899 1445.72 L781.899 1445.72  Z\n",
       "  \" fill=\"#009af9\" fill-rule=\"evenodd\" fill-opacity=\"1\"/>\n",
       "<polyline clip-path=\"url(#clip542)\" style=\"stroke:#000000; stroke-linecap:round; stroke-linejoin:round; stroke-width:4; stroke-opacity:1; fill:none\" points=\"\n",
       "  781.899,1445.72 781.899,1445.72 964.175,1445.72 781.899,1445.72 \n",
       "  \"/>\n",
       "<path clip-path=\"url(#clip542)\" d=\"\n",
       "M964.175 1445.72 L964.175 1445.72 L1146.45 1445.72 L1146.45 1445.72 L964.175 1445.72 L964.175 1445.72  Z\n",
       "  \" fill=\"#009af9\" fill-rule=\"evenodd\" fill-opacity=\"1\"/>\n",
       "<polyline clip-path=\"url(#clip542)\" style=\"stroke:#000000; stroke-linecap:round; stroke-linejoin:round; stroke-width:4; stroke-opacity:1; fill:none\" points=\"\n",
       "  964.175,1445.72 964.175,1445.72 1146.45,1445.72 964.175,1445.72 \n",
       "  \"/>\n",
       "<path clip-path=\"url(#clip542)\" d=\"\n",
       "M1146.45 1445.72 L1146.45 1445.72 L1328.73 1445.72 L1328.73 1445.72 L1146.45 1445.72 L1146.45 1445.72  Z\n",
       "  \" fill=\"#009af9\" fill-rule=\"evenodd\" fill-opacity=\"1\"/>\n",
       "<polyline clip-path=\"url(#clip542)\" style=\"stroke:#000000; stroke-linecap:round; stroke-linejoin:round; stroke-width:4; stroke-opacity:1; fill:none\" points=\"\n",
       "  1146.45,1445.72 1146.45,1445.72 1328.73,1445.72 1146.45,1445.72 \n",
       "  \"/>\n",
       "<path clip-path=\"url(#clip542)\" d=\"\n",
       "M1328.73 1445.72 L1328.73 1445.72 L1511 1445.72 L1511 1445.72 L1328.73 1445.72 L1328.73 1445.72  Z\n",
       "  \" fill=\"#009af9\" fill-rule=\"evenodd\" fill-opacity=\"1\"/>\n",
       "<polyline clip-path=\"url(#clip542)\" style=\"stroke:#000000; stroke-linecap:round; stroke-linejoin:round; stroke-width:4; stroke-opacity:1; fill:none\" points=\"\n",
       "  1328.73,1445.72 1328.73,1445.72 1511,1445.72 1328.73,1445.72 \n",
       "  \"/>\n",
       "<path clip-path=\"url(#clip542)\" d=\"\n",
       "M1511 1445.72 L1511 1445.72 L1693.28 1445.72 L1693.28 1445.72 L1511 1445.72 L1511 1445.72  Z\n",
       "  \" fill=\"#009af9\" fill-rule=\"evenodd\" fill-opacity=\"1\"/>\n",
       "<polyline clip-path=\"url(#clip542)\" style=\"stroke:#000000; stroke-linecap:round; stroke-linejoin:round; stroke-width:4; stroke-opacity:1; fill:none\" points=\"\n",
       "  1511,1445.72 1511,1445.72 1693.28,1445.72 1511,1445.72 \n",
       "  \"/>\n",
       "<path clip-path=\"url(#clip542)\" d=\"\n",
       "M1693.28 1445.72 L1693.28 1445.72 L1875.56 1445.72 L1875.56 1445.72 L1693.28 1445.72 L1693.28 1445.72  Z\n",
       "  \" fill=\"#009af9\" fill-rule=\"evenodd\" fill-opacity=\"1\"/>\n",
       "<polyline clip-path=\"url(#clip542)\" style=\"stroke:#000000; stroke-linecap:round; stroke-linejoin:round; stroke-width:4; stroke-opacity:1; fill:none\" points=\"\n",
       "  1693.28,1445.72 1693.28,1445.72 1875.56,1445.72 1693.28,1445.72 \n",
       "  \"/>\n",
       "<path clip-path=\"url(#clip542)\" d=\"\n",
       "M1875.56 1445.72 L1875.56 1445.72 L2057.83 1445.72 L2057.83 1445.72 L1875.56 1445.72 L1875.56 1445.72  Z\n",
       "  \" fill=\"#009af9\" fill-rule=\"evenodd\" fill-opacity=\"1\"/>\n",
       "<polyline clip-path=\"url(#clip542)\" style=\"stroke:#000000; stroke-linecap:round; stroke-linejoin:round; stroke-width:4; stroke-opacity:1; fill:none\" points=\"\n",
       "  1875.56,1445.72 1875.56,1445.72 2057.83,1445.72 1875.56,1445.72 \n",
       "  \"/>\n",
       "<path clip-path=\"url(#clip542)\" d=\"\n",
       "M2057.83 1443.2 L2057.83 1445.72 L2240.11 1445.72 L2240.11 1443.2 L2057.83 1443.2 L2057.83 1443.2  Z\n",
       "  \" fill=\"#009af9\" fill-rule=\"evenodd\" fill-opacity=\"1\"/>\n",
       "<polyline clip-path=\"url(#clip542)\" style=\"stroke:#000000; stroke-linecap:round; stroke-linejoin:round; stroke-width:4; stroke-opacity:1; fill:none\" points=\"\n",
       "  2057.83,1443.2 2057.83,1445.72 2240.11,1445.72 2240.11,1443.2 2057.83,1443.2 \n",
       "  \"/>\n",
       "<circle clip-path=\"url(#clip542)\" style=\"fill:#009af9; stroke:none; fill-opacity:0\" cx=\"508.484\" cy=\"87.9763\" r=\"2\"/>\n",
       "<circle clip-path=\"url(#clip542)\" style=\"fill:#009af9; stroke:none; fill-opacity:0\" cx=\"690.761\" cy=\"1445.72\" r=\"2\"/>\n",
       "<circle clip-path=\"url(#clip542)\" style=\"fill:#009af9; stroke:none; fill-opacity:0\" cx=\"873.037\" cy=\"1445.72\" r=\"2\"/>\n",
       "<circle clip-path=\"url(#clip542)\" style=\"fill:#009af9; stroke:none; fill-opacity:0\" cx=\"1055.31\" cy=\"1445.72\" r=\"2\"/>\n",
       "<circle clip-path=\"url(#clip542)\" style=\"fill:#009af9; stroke:none; fill-opacity:0\" cx=\"1237.59\" cy=\"1445.72\" r=\"2\"/>\n",
       "<circle clip-path=\"url(#clip542)\" style=\"fill:#009af9; stroke:none; fill-opacity:0\" cx=\"1419.87\" cy=\"1445.72\" r=\"2\"/>\n",
       "<circle clip-path=\"url(#clip542)\" style=\"fill:#009af9; stroke:none; fill-opacity:0\" cx=\"1602.14\" cy=\"1445.72\" r=\"2\"/>\n",
       "<circle clip-path=\"url(#clip542)\" style=\"fill:#009af9; stroke:none; fill-opacity:0\" cx=\"1784.42\" cy=\"1445.72\" r=\"2\"/>\n",
       "<circle clip-path=\"url(#clip542)\" style=\"fill:#009af9; stroke:none; fill-opacity:0\" cx=\"1966.69\" cy=\"1445.72\" r=\"2\"/>\n",
       "<circle clip-path=\"url(#clip542)\" style=\"fill:#009af9; stroke:none; fill-opacity:0\" cx=\"2148.97\" cy=\"1443.2\" r=\"2\"/>\n",
       "</svg>\n"
      ]
     },
     "execution_count": 72,
     "metadata": {},
     "output_type": "execute_result"
    }
   ],
   "source": [
    "histogram(bulkscan_null_grid_results10_ml.h2_null_list, label = false)"
   ]
  },
  {
   "cell_type": "code",
   "execution_count": 71,
   "id": "23db86f2-017a-43cb-9f9e-a476ab27d8b1",
   "metadata": {},
   "outputs": [
    {
     "data": {
      "image/svg+xml": [
       "<?xml version=\"1.0\" encoding=\"utf-8\"?>\n",
       "<svg xmlns=\"http://www.w3.org/2000/svg\" xmlns:xlink=\"http://www.w3.org/1999/xlink\" width=\"600\" height=\"400\" viewBox=\"0 0 2400 1600\">\n",
       "<defs>\n",
       "  <clipPath id=\"clip500\">\n",
       "    <rect x=\"0\" y=\"0\" width=\"2400\" height=\"1600\"/>\n",
       "  </clipPath>\n",
       "</defs>\n",
       "<path clip-path=\"url(#clip500)\" d=\"\n",
       "M0 1600 L2400 1600 L2400 0 L0 0  Z\n",
       "  \" fill=\"#ffffff\" fill-rule=\"evenodd\" fill-opacity=\"1\"/>\n",
       "<defs>\n",
       "  <clipPath id=\"clip501\">\n",
       "    <rect x=\"480\" y=\"0\" width=\"1681\" height=\"1600\"/>\n",
       "  </clipPath>\n",
       "</defs>\n",
       "<path clip-path=\"url(#clip500)\" d=\"\n",
       "M229.445 1486.45 L2352.76 1486.45 L2352.76 47.2441 L229.445 47.2441  Z\n",
       "  \" fill=\"#ffffff\" fill-rule=\"evenodd\" fill-opacity=\"1\"/>\n",
       "<defs>\n",
       "  <clipPath id=\"clip502\">\n",
       "    <rect x=\"229\" y=\"47\" width=\"2124\" height=\"1440\"/>\n",
       "  </clipPath>\n",
       "</defs>\n",
       "<polyline clip-path=\"url(#clip502)\" style=\"stroke:#000000; stroke-linecap:round; stroke-linejoin:round; stroke-width:2; stroke-opacity:0.1; fill:none\" points=\"\n",
       "  346.231,1486.45 346.231,47.2441 \n",
       "  \"/>\n",
       "<polyline clip-path=\"url(#clip502)\" style=\"stroke:#000000; stroke-linecap:round; stroke-linejoin:round; stroke-width:2; stroke-opacity:0.1; fill:none\" points=\"\n",
       "  843.531,1486.45 843.531,47.2441 \n",
       "  \"/>\n",
       "<polyline clip-path=\"url(#clip502)\" style=\"stroke:#000000; stroke-linecap:round; stroke-linejoin:round; stroke-width:2; stroke-opacity:0.1; fill:none\" points=\"\n",
       "  1340.83,1486.45 1340.83,47.2441 \n",
       "  \"/>\n",
       "<polyline clip-path=\"url(#clip502)\" style=\"stroke:#000000; stroke-linecap:round; stroke-linejoin:round; stroke-width:2; stroke-opacity:0.1; fill:none\" points=\"\n",
       "  1838.13,1486.45 1838.13,47.2441 \n",
       "  \"/>\n",
       "<polyline clip-path=\"url(#clip502)\" style=\"stroke:#000000; stroke-linecap:round; stroke-linejoin:round; stroke-width:2; stroke-opacity:0.1; fill:none\" points=\"\n",
       "  2335.43,1486.45 2335.43,47.2441 \n",
       "  \"/>\n",
       "<polyline clip-path=\"url(#clip500)\" style=\"stroke:#000000; stroke-linecap:round; stroke-linejoin:round; stroke-width:4; stroke-opacity:1; fill:none\" points=\"\n",
       "  229.445,1486.45 2352.76,1486.45 \n",
       "  \"/>\n",
       "<polyline clip-path=\"url(#clip500)\" style=\"stroke:#000000; stroke-linecap:round; stroke-linejoin:round; stroke-width:4; stroke-opacity:1; fill:none\" points=\"\n",
       "  346.231,1486.45 346.231,1467.55 \n",
       "  \"/>\n",
       "<polyline clip-path=\"url(#clip500)\" style=\"stroke:#000000; stroke-linecap:round; stroke-linejoin:round; stroke-width:4; stroke-opacity:1; fill:none\" points=\"\n",
       "  843.531,1486.45 843.531,1467.55 \n",
       "  \"/>\n",
       "<polyline clip-path=\"url(#clip500)\" style=\"stroke:#000000; stroke-linecap:round; stroke-linejoin:round; stroke-width:4; stroke-opacity:1; fill:none\" points=\"\n",
       "  1340.83,1486.45 1340.83,1467.55 \n",
       "  \"/>\n",
       "<polyline clip-path=\"url(#clip500)\" style=\"stroke:#000000; stroke-linecap:round; stroke-linejoin:round; stroke-width:4; stroke-opacity:1; fill:none\" points=\"\n",
       "  1838.13,1486.45 1838.13,1467.55 \n",
       "  \"/>\n",
       "<polyline clip-path=\"url(#clip500)\" style=\"stroke:#000000; stroke-linecap:round; stroke-linejoin:round; stroke-width:4; stroke-opacity:1; fill:none\" points=\"\n",
       "  2335.43,1486.45 2335.43,1467.55 \n",
       "  \"/>\n",
       "<path clip-path=\"url(#clip500)\" d=\"M308.534 1517.37 Q304.923 1517.37 303.095 1520.93 Q301.289 1524.47 301.289 1531.6 Q301.289 1538.71 303.095 1542.27 Q304.923 1545.82 308.534 1545.82 Q312.169 1545.82 313.974 1542.27 Q315.803 1538.71 315.803 1531.6 Q315.803 1524.47 313.974 1520.93 Q312.169 1517.37 308.534 1517.37 M308.534 1513.66 Q314.345 1513.66 317.4 1518.27 Q320.479 1522.85 320.479 1531.6 Q320.479 1540.33 317.4 1544.94 Q314.345 1549.52 308.534 1549.52 Q302.724 1549.52 299.646 1544.94 Q296.59 1540.33 296.59 1531.6 Q296.59 1522.85 299.646 1518.27 Q302.724 1513.66 308.534 1513.66 Z\" fill=\"#000000\" fill-rule=\"evenodd\" fill-opacity=\"1\" /><path clip-path=\"url(#clip500)\" d=\"M328.696 1542.97 L333.581 1542.97 L333.581 1548.85 L328.696 1548.85 L328.696 1542.97 Z\" fill=\"#000000\" fill-rule=\"evenodd\" fill-opacity=\"1\" /><path clip-path=\"url(#clip500)\" d=\"M353.766 1517.37 Q350.155 1517.37 348.326 1520.93 Q346.52 1524.47 346.52 1531.6 Q346.52 1538.71 348.326 1542.27 Q350.155 1545.82 353.766 1545.82 Q357.4 1545.82 359.205 1542.27 Q361.034 1538.71 361.034 1531.6 Q361.034 1524.47 359.205 1520.93 Q357.4 1517.37 353.766 1517.37 M353.766 1513.66 Q359.576 1513.66 362.631 1518.27 Q365.71 1522.85 365.71 1531.6 Q365.71 1540.33 362.631 1544.94 Q359.576 1549.52 353.766 1549.52 Q347.955 1549.52 344.877 1544.94 Q341.821 1540.33 341.821 1531.6 Q341.821 1522.85 344.877 1518.27 Q347.955 1513.66 353.766 1513.66 Z\" fill=\"#000000\" fill-rule=\"evenodd\" fill-opacity=\"1\" /><path clip-path=\"url(#clip500)\" d=\"M383.927 1517.37 Q380.316 1517.37 378.488 1520.93 Q376.682 1524.47 376.682 1531.6 Q376.682 1538.71 378.488 1542.27 Q380.316 1545.82 383.927 1545.82 Q387.562 1545.82 389.367 1542.27 Q391.196 1538.71 391.196 1531.6 Q391.196 1524.47 389.367 1520.93 Q387.562 1517.37 383.927 1517.37 M383.927 1513.66 Q389.738 1513.66 392.793 1518.27 Q395.872 1522.85 395.872 1531.6 Q395.872 1540.33 392.793 1544.94 Q389.738 1549.52 383.927 1549.52 Q378.117 1549.52 375.039 1544.94 Q371.983 1540.33 371.983 1531.6 Q371.983 1522.85 375.039 1518.27 Q378.117 1513.66 383.927 1513.66 Z\" fill=\"#000000\" fill-rule=\"evenodd\" fill-opacity=\"1\" /><path clip-path=\"url(#clip500)\" d=\"M806.332 1517.37 Q802.721 1517.37 800.892 1520.93 Q799.086 1524.47 799.086 1531.6 Q799.086 1538.71 800.892 1542.27 Q802.721 1545.82 806.332 1545.82 Q809.966 1545.82 811.772 1542.27 Q813.6 1538.71 813.6 1531.6 Q813.6 1524.47 811.772 1520.93 Q809.966 1517.37 806.332 1517.37 M806.332 1513.66 Q812.142 1513.66 815.198 1518.27 Q818.276 1522.85 818.276 1531.6 Q818.276 1540.33 815.198 1544.94 Q812.142 1549.52 806.332 1549.52 Q800.522 1549.52 797.443 1544.94 Q794.387 1540.33 794.387 1531.6 Q794.387 1522.85 797.443 1518.27 Q800.522 1513.66 806.332 1513.66 Z\" fill=\"#000000\" fill-rule=\"evenodd\" fill-opacity=\"1\" /><path clip-path=\"url(#clip500)\" d=\"M826.494 1542.97 L831.378 1542.97 L831.378 1548.85 L826.494 1548.85 L826.494 1542.97 Z\" fill=\"#000000\" fill-rule=\"evenodd\" fill-opacity=\"1\" /><path clip-path=\"url(#clip500)\" d=\"M845.591 1544.91 L861.91 1544.91 L861.91 1548.85 L839.966 1548.85 L839.966 1544.91 Q842.628 1542.16 847.211 1537.53 Q851.818 1532.88 852.998 1531.53 Q855.244 1529.01 856.123 1527.27 Q857.026 1525.51 857.026 1523.82 Q857.026 1521.07 855.082 1519.33 Q853.16 1517.6 850.058 1517.6 Q847.859 1517.6 845.406 1518.36 Q842.975 1519.13 840.197 1520.68 L840.197 1515.95 Q843.021 1514.82 845.475 1514.24 Q847.929 1513.66 849.966 1513.66 Q855.336 1513.66 858.531 1516.35 Q861.725 1519.03 861.725 1523.52 Q861.725 1525.65 860.915 1527.57 Q860.128 1529.47 858.021 1532.07 Q857.443 1532.74 854.341 1535.95 Q851.239 1539.15 845.591 1544.91 Z\" fill=\"#000000\" fill-rule=\"evenodd\" fill-opacity=\"1\" /><path clip-path=\"url(#clip500)\" d=\"M871.771 1514.29 L890.128 1514.29 L890.128 1518.22 L876.054 1518.22 L876.054 1526.7 Q877.072 1526.35 878.091 1526.19 Q879.109 1526 880.128 1526 Q885.915 1526 889.294 1529.17 Q892.674 1532.34 892.674 1537.76 Q892.674 1543.34 889.202 1546.44 Q885.73 1549.52 879.41 1549.52 Q877.234 1549.52 874.966 1549.15 Q872.72 1548.78 870.313 1548.04 L870.313 1543.34 Q872.396 1544.47 874.618 1545.03 Q876.841 1545.58 879.318 1545.58 Q883.322 1545.58 885.66 1543.48 Q887.998 1541.37 887.998 1537.76 Q887.998 1534.15 885.66 1532.04 Q883.322 1529.94 879.318 1529.94 Q877.443 1529.94 875.568 1530.35 Q873.716 1530.77 871.771 1531.65 L871.771 1514.29 Z\" fill=\"#000000\" fill-rule=\"evenodd\" fill-opacity=\"1\" /><path clip-path=\"url(#clip500)\" d=\"M1303.13 1517.37 Q1299.52 1517.37 1297.69 1520.93 Q1295.89 1524.47 1295.89 1531.6 Q1295.89 1538.71 1297.69 1542.27 Q1299.52 1545.82 1303.13 1545.82 Q1306.77 1545.82 1308.57 1542.27 Q1310.4 1538.71 1310.4 1531.6 Q1310.4 1524.47 1308.57 1520.93 Q1306.77 1517.37 1303.13 1517.37 M1303.13 1513.66 Q1308.94 1513.66 1312 1518.27 Q1315.08 1522.85 1315.08 1531.6 Q1315.08 1540.33 1312 1544.94 Q1308.94 1549.52 1303.13 1549.52 Q1297.32 1549.52 1294.25 1544.94 Q1291.19 1540.33 1291.19 1531.6 Q1291.19 1522.85 1294.25 1518.27 Q1297.32 1513.66 1303.13 1513.66 Z\" fill=\"#000000\" fill-rule=\"evenodd\" fill-opacity=\"1\" /><path clip-path=\"url(#clip500)\" d=\"M1323.3 1542.97 L1328.18 1542.97 L1328.18 1548.85 L1323.3 1548.85 L1323.3 1542.97 Z\" fill=\"#000000\" fill-rule=\"evenodd\" fill-opacity=\"1\" /><path clip-path=\"url(#clip500)\" d=\"M1338.41 1514.29 L1356.77 1514.29 L1356.77 1518.22 L1342.69 1518.22 L1342.69 1526.7 Q1343.71 1526.35 1344.73 1526.19 Q1345.75 1526 1346.77 1526 Q1352.55 1526 1355.93 1529.17 Q1359.31 1532.34 1359.31 1537.76 Q1359.31 1543.34 1355.84 1546.44 Q1352.37 1549.52 1346.05 1549.52 Q1343.87 1549.52 1341.61 1549.15 Q1339.36 1548.78 1336.95 1548.04 L1336.95 1543.34 Q1339.04 1544.47 1341.26 1545.03 Q1343.48 1545.58 1345.96 1545.58 Q1349.96 1545.58 1352.3 1543.48 Q1354.64 1541.37 1354.64 1537.76 Q1354.64 1534.15 1352.3 1532.04 Q1349.96 1529.94 1345.96 1529.94 Q1344.08 1529.94 1342.21 1530.35 Q1340.36 1530.77 1338.41 1531.65 L1338.41 1514.29 Z\" fill=\"#000000\" fill-rule=\"evenodd\" fill-opacity=\"1\" /><path clip-path=\"url(#clip500)\" d=\"M1378.53 1517.37 Q1374.92 1517.37 1373.09 1520.93 Q1371.28 1524.47 1371.28 1531.6 Q1371.28 1538.71 1373.09 1542.27 Q1374.92 1545.82 1378.53 1545.82 Q1382.16 1545.82 1383.97 1542.27 Q1385.8 1538.71 1385.8 1531.6 Q1385.8 1524.47 1383.97 1520.93 Q1382.16 1517.37 1378.53 1517.37 M1378.53 1513.66 Q1384.34 1513.66 1387.39 1518.27 Q1390.47 1522.85 1390.47 1531.6 Q1390.47 1540.33 1387.39 1544.94 Q1384.34 1549.52 1378.53 1549.52 Q1372.72 1549.52 1369.64 1544.94 Q1366.58 1540.33 1366.58 1531.6 Q1366.58 1522.85 1369.64 1518.27 Q1372.72 1513.66 1378.53 1513.66 Z\" fill=\"#000000\" fill-rule=\"evenodd\" fill-opacity=\"1\" /><path clip-path=\"url(#clip500)\" d=\"M1800.93 1517.37 Q1797.32 1517.37 1795.49 1520.93 Q1793.69 1524.47 1793.69 1531.6 Q1793.69 1538.71 1795.49 1542.27 Q1797.32 1545.82 1800.93 1545.82 Q1804.57 1545.82 1806.37 1542.27 Q1808.2 1538.71 1808.2 1531.6 Q1808.2 1524.47 1806.37 1520.93 Q1804.57 1517.37 1800.93 1517.37 M1800.93 1513.66 Q1806.74 1513.66 1809.8 1518.27 Q1812.88 1522.85 1812.88 1531.6 Q1812.88 1540.33 1809.8 1544.94 Q1806.74 1549.52 1800.93 1549.52 Q1795.12 1549.52 1792.04 1544.94 Q1788.99 1540.33 1788.99 1531.6 Q1788.99 1522.85 1792.04 1518.27 Q1795.12 1513.66 1800.93 1513.66 Z\" fill=\"#000000\" fill-rule=\"evenodd\" fill-opacity=\"1\" /><path clip-path=\"url(#clip500)\" d=\"M1821.09 1542.97 L1825.98 1542.97 L1825.98 1548.85 L1821.09 1548.85 L1821.09 1542.97 Z\" fill=\"#000000\" fill-rule=\"evenodd\" fill-opacity=\"1\" /><path clip-path=\"url(#clip500)\" d=\"M1834.98 1514.29 L1857.2 1514.29 L1857.2 1516.28 L1844.66 1548.85 L1839.77 1548.85 L1851.58 1518.22 L1834.98 1518.22 L1834.98 1514.29 Z\" fill=\"#000000\" fill-rule=\"evenodd\" fill-opacity=\"1\" /><path clip-path=\"url(#clip500)\" d=\"M1866.37 1514.29 L1884.73 1514.29 L1884.73 1518.22 L1870.65 1518.22 L1870.65 1526.7 Q1871.67 1526.35 1872.69 1526.19 Q1873.71 1526 1874.73 1526 Q1880.51 1526 1883.89 1529.17 Q1887.27 1532.34 1887.27 1537.76 Q1887.27 1543.34 1883.8 1546.44 Q1880.33 1549.52 1874.01 1549.52 Q1871.83 1549.52 1869.57 1549.15 Q1867.32 1548.78 1864.91 1548.04 L1864.91 1543.34 Q1867 1544.47 1869.22 1545.03 Q1871.44 1545.58 1873.92 1545.58 Q1877.92 1545.58 1880.26 1543.48 Q1882.6 1541.37 1882.6 1537.76 Q1882.6 1534.15 1880.26 1532.04 Q1877.92 1529.94 1873.92 1529.94 Q1872.04 1529.94 1870.17 1530.35 Q1868.32 1530.77 1866.37 1531.65 L1866.37 1514.29 Z\" fill=\"#000000\" fill-rule=\"evenodd\" fill-opacity=\"1\" /><path clip-path=\"url(#clip500)\" d=\"M2287.5 1544.91 L2295.14 1544.91 L2295.14 1518.55 L2286.83 1520.21 L2286.83 1515.95 L2295.09 1514.29 L2299.77 1514.29 L2299.77 1544.91 L2307.41 1544.91 L2307.41 1548.85 L2287.5 1548.85 L2287.5 1544.91 Z\" fill=\"#000000\" fill-rule=\"evenodd\" fill-opacity=\"1\" /><path clip-path=\"url(#clip500)\" d=\"M2316.85 1542.97 L2321.74 1542.97 L2321.74 1548.85 L2316.85 1548.85 L2316.85 1542.97 Z\" fill=\"#000000\" fill-rule=\"evenodd\" fill-opacity=\"1\" /><path clip-path=\"url(#clip500)\" d=\"M2341.92 1517.37 Q2338.31 1517.37 2336.48 1520.93 Q2334.68 1524.47 2334.68 1531.6 Q2334.68 1538.71 2336.48 1542.27 Q2338.31 1545.82 2341.92 1545.82 Q2345.56 1545.82 2347.36 1542.27 Q2349.19 1538.71 2349.19 1531.6 Q2349.19 1524.47 2347.36 1520.93 Q2345.56 1517.37 2341.92 1517.37 M2341.92 1513.66 Q2347.73 1513.66 2350.79 1518.27 Q2353.87 1522.85 2353.87 1531.6 Q2353.87 1540.33 2350.79 1544.94 Q2347.73 1549.52 2341.92 1549.52 Q2336.11 1549.52 2333.03 1544.94 Q2329.98 1540.33 2329.98 1531.6 Q2329.98 1522.85 2333.03 1518.27 Q2336.11 1513.66 2341.92 1513.66 Z\" fill=\"#000000\" fill-rule=\"evenodd\" fill-opacity=\"1\" /><path clip-path=\"url(#clip500)\" d=\"M2372.08 1517.37 Q2368.47 1517.37 2366.65 1520.93 Q2364.84 1524.47 2364.84 1531.6 Q2364.84 1538.71 2366.65 1542.27 Q2368.47 1545.82 2372.08 1545.82 Q2375.72 1545.82 2377.52 1542.27 Q2379.35 1538.71 2379.35 1531.6 Q2379.35 1524.47 2377.52 1520.93 Q2375.72 1517.37 2372.08 1517.37 M2372.08 1513.66 Q2377.9 1513.66 2380.95 1518.27 Q2384.03 1522.85 2384.03 1531.6 Q2384.03 1540.33 2380.95 1544.94 Q2377.9 1549.52 2372.08 1549.52 Q2366.27 1549.52 2363.2 1544.94 Q2360.14 1540.33 2360.14 1531.6 Q2360.14 1522.85 2363.2 1518.27 Q2366.27 1513.66 2372.08 1513.66 Z\" fill=\"#000000\" fill-rule=\"evenodd\" fill-opacity=\"1\" /><polyline clip-path=\"url(#clip502)\" style=\"stroke:#000000; stroke-linecap:round; stroke-linejoin:round; stroke-width:2; stroke-opacity:0.1; fill:none\" points=\"\n",
       "  229.445,1445.72 2352.76,1445.72 \n",
       "  \"/>\n",
       "<polyline clip-path=\"url(#clip502)\" style=\"stroke:#000000; stroke-linecap:round; stroke-linejoin:round; stroke-width:2; stroke-opacity:0.1; fill:none\" points=\"\n",
       "  229.445,1126.88 2352.76,1126.88 \n",
       "  \"/>\n",
       "<polyline clip-path=\"url(#clip502)\" style=\"stroke:#000000; stroke-linecap:round; stroke-linejoin:round; stroke-width:2; stroke-opacity:0.1; fill:none\" points=\"\n",
       "  229.445,808.04 2352.76,808.04 \n",
       "  \"/>\n",
       "<polyline clip-path=\"url(#clip502)\" style=\"stroke:#000000; stroke-linecap:round; stroke-linejoin:round; stroke-width:2; stroke-opacity:0.1; fill:none\" points=\"\n",
       "  229.445,489.202 2352.76,489.202 \n",
       "  \"/>\n",
       "<polyline clip-path=\"url(#clip502)\" style=\"stroke:#000000; stroke-linecap:round; stroke-linejoin:round; stroke-width:2; stroke-opacity:0.1; fill:none\" points=\"\n",
       "  229.445,170.364 2352.76,170.364 \n",
       "  \"/>\n",
       "<polyline clip-path=\"url(#clip500)\" style=\"stroke:#000000; stroke-linecap:round; stroke-linejoin:round; stroke-width:4; stroke-opacity:1; fill:none\" points=\"\n",
       "  229.445,1486.45 229.445,47.2441 \n",
       "  \"/>\n",
       "<polyline clip-path=\"url(#clip500)\" style=\"stroke:#000000; stroke-linecap:round; stroke-linejoin:round; stroke-width:4; stroke-opacity:1; fill:none\" points=\"\n",
       "  229.445,1445.72 248.343,1445.72 \n",
       "  \"/>\n",
       "<polyline clip-path=\"url(#clip500)\" style=\"stroke:#000000; stroke-linecap:round; stroke-linejoin:round; stroke-width:4; stroke-opacity:1; fill:none\" points=\"\n",
       "  229.445,1126.88 248.343,1126.88 \n",
       "  \"/>\n",
       "<polyline clip-path=\"url(#clip500)\" style=\"stroke:#000000; stroke-linecap:round; stroke-linejoin:round; stroke-width:4; stroke-opacity:1; fill:none\" points=\"\n",
       "  229.445,808.04 248.343,808.04 \n",
       "  \"/>\n",
       "<polyline clip-path=\"url(#clip500)\" style=\"stroke:#000000; stroke-linecap:round; stroke-linejoin:round; stroke-width:4; stroke-opacity:1; fill:none\" points=\"\n",
       "  229.445,489.202 248.343,489.202 \n",
       "  \"/>\n",
       "<polyline clip-path=\"url(#clip500)\" style=\"stroke:#000000; stroke-linecap:round; stroke-linejoin:round; stroke-width:4; stroke-opacity:1; fill:none\" points=\"\n",
       "  229.445,170.364 248.343,170.364 \n",
       "  \"/>\n",
       "<path clip-path=\"url(#clip500)\" d=\"M181.501 1431.51 Q177.89 1431.51 176.061 1435.08 Q174.255 1438.62 174.255 1445.75 Q174.255 1452.86 176.061 1456.42 Q177.89 1459.96 181.501 1459.96 Q185.135 1459.96 186.94 1456.42 Q188.769 1452.86 188.769 1445.75 Q188.769 1438.62 186.94 1435.08 Q185.135 1431.51 181.501 1431.51 M181.501 1427.81 Q187.311 1427.81 190.366 1432.42 Q193.445 1437 193.445 1445.75 Q193.445 1454.48 190.366 1459.08 Q187.311 1463.67 181.501 1463.67 Q175.691 1463.67 172.612 1459.08 Q169.556 1454.48 169.556 1445.75 Q169.556 1437 172.612 1432.42 Q175.691 1427.81 181.501 1427.81 Z\" fill=\"#000000\" fill-rule=\"evenodd\" fill-opacity=\"1\" /><path clip-path=\"url(#clip500)\" d=\"M85.0429 1140.22 L101.362 1140.22 L101.362 1144.16 L79.4179 1144.16 L79.4179 1140.22 Q82.0799 1137.47 86.6632 1132.84 Q91.2697 1128.19 92.4502 1126.84 Q94.6956 1124.32 95.5752 1122.58 Q96.478 1120.82 96.478 1119.13 Q96.478 1116.38 94.5336 1114.64 Q92.6123 1112.91 89.5104 1112.91 Q87.3114 1112.91 84.8577 1113.67 Q82.4271 1114.44 79.6494 1115.99 L79.6494 1111.26 Q82.4734 1110.13 84.9271 1109.55 Q87.3808 1108.97 89.4178 1108.97 Q94.7882 1108.97 97.9826 1111.66 Q101.177 1114.34 101.177 1118.83 Q101.177 1120.96 100.367 1122.88 Q99.5798 1124.78 97.4734 1127.38 Q96.8947 1128.05 93.7928 1131.26 Q90.691 1134.46 85.0429 1140.22 Z\" fill=\"#000000\" fill-rule=\"evenodd\" fill-opacity=\"1\" /><path clip-path=\"url(#clip500)\" d=\"M111.223 1109.6 L129.58 1109.6 L129.58 1113.53 L115.506 1113.53 L115.506 1122.01 Q116.524 1121.66 117.543 1121.5 Q118.561 1121.31 119.58 1121.31 Q125.367 1121.31 128.746 1124.48 Q132.126 1127.65 132.126 1133.07 Q132.126 1138.65 128.654 1141.75 Q125.182 1144.83 118.862 1144.83 Q116.686 1144.83 114.418 1144.46 Q112.172 1144.09 109.765 1143.35 L109.765 1138.65 Q111.848 1139.78 114.07 1140.34 Q116.293 1140.89 118.77 1140.89 Q122.774 1140.89 125.112 1138.79 Q127.45 1136.68 127.45 1133.07 Q127.45 1129.46 125.112 1127.35 Q122.774 1125.25 118.77 1125.25 Q116.895 1125.25 115.02 1125.66 Q113.168 1126.08 111.223 1126.96 L111.223 1109.6 Z\" fill=\"#000000\" fill-rule=\"evenodd\" fill-opacity=\"1\" /><path clip-path=\"url(#clip500)\" d=\"M151.339 1112.68 Q147.728 1112.68 145.899 1116.24 Q144.093 1119.78 144.093 1126.91 Q144.093 1134.02 145.899 1137.58 Q147.728 1141.13 151.339 1141.13 Q154.973 1141.13 156.779 1137.58 Q158.607 1134.02 158.607 1126.91 Q158.607 1119.78 156.779 1116.24 Q154.973 1112.68 151.339 1112.68 M151.339 1108.97 Q157.149 1108.97 160.205 1113.58 Q163.283 1118.16 163.283 1126.91 Q163.283 1135.64 160.205 1140.25 Q157.149 1144.83 151.339 1144.83 Q145.529 1144.83 142.45 1140.25 Q139.394 1135.64 139.394 1126.91 Q139.394 1118.16 142.45 1113.58 Q145.529 1108.97 151.339 1108.97 Z\" fill=\"#000000\" fill-rule=\"evenodd\" fill-opacity=\"1\" /><path clip-path=\"url(#clip500)\" d=\"M181.501 1112.68 Q177.89 1112.68 176.061 1116.24 Q174.255 1119.78 174.255 1126.91 Q174.255 1134.02 176.061 1137.58 Q177.89 1141.13 181.501 1141.13 Q185.135 1141.13 186.94 1137.58 Q188.769 1134.02 188.769 1126.91 Q188.769 1119.78 186.94 1116.24 Q185.135 1112.68 181.501 1112.68 M181.501 1108.97 Q187.311 1108.97 190.366 1113.58 Q193.445 1118.16 193.445 1126.91 Q193.445 1135.64 190.366 1140.25 Q187.311 1144.83 181.501 1144.83 Q175.691 1144.83 172.612 1140.25 Q169.556 1135.64 169.556 1126.91 Q169.556 1118.16 172.612 1113.58 Q175.691 1108.97 181.501 1108.97 Z\" fill=\"#000000\" fill-rule=\"evenodd\" fill-opacity=\"1\" /><path clip-path=\"url(#clip500)\" d=\"M81.0614 790.76 L99.4178 790.76 L99.4178 794.695 L85.3438 794.695 L85.3438 803.167 Q86.3623 802.82 87.3808 802.658 Q88.3993 802.473 89.4178 802.473 Q95.2049 802.473 98.5845 805.644 Q101.964 808.815 101.964 814.232 Q101.964 819.811 98.4919 822.912 Q95.0197 825.991 88.7003 825.991 Q86.5243 825.991 84.2558 825.621 Q82.0105 825.25 79.6031 824.51 L79.6031 819.811 Q81.6864 820.945 83.9086 821.5 Q86.1308 822.056 88.6077 822.056 Q92.6123 822.056 94.9502 819.95 Q97.2882 817.843 97.2882 814.232 Q97.2882 810.621 94.9502 808.514 Q92.6123 806.408 88.6077 806.408 Q86.7327 806.408 84.8577 806.825 Q83.0058 807.241 81.0614 808.121 L81.0614 790.76 Z\" fill=\"#000000\" fill-rule=\"evenodd\" fill-opacity=\"1\" /><path clip-path=\"url(#clip500)\" d=\"M121.177 793.839 Q117.566 793.839 115.737 797.403 Q113.932 800.945 113.932 808.075 Q113.932 815.181 115.737 818.746 Q117.566 822.287 121.177 822.287 Q124.811 822.287 126.617 818.746 Q128.445 815.181 128.445 808.075 Q128.445 800.945 126.617 797.403 Q124.811 793.839 121.177 793.839 M121.177 790.135 Q126.987 790.135 130.043 794.741 Q133.121 799.325 133.121 808.075 Q133.121 816.801 130.043 821.408 Q126.987 825.991 121.177 825.991 Q115.367 825.991 112.288 821.408 Q109.233 816.801 109.233 808.075 Q109.233 799.325 112.288 794.741 Q115.367 790.135 121.177 790.135 Z\" fill=\"#000000\" fill-rule=\"evenodd\" fill-opacity=\"1\" /><path clip-path=\"url(#clip500)\" d=\"M151.339 793.839 Q147.728 793.839 145.899 797.403 Q144.093 800.945 144.093 808.075 Q144.093 815.181 145.899 818.746 Q147.728 822.287 151.339 822.287 Q154.973 822.287 156.779 818.746 Q158.607 815.181 158.607 808.075 Q158.607 800.945 156.779 797.403 Q154.973 793.839 151.339 793.839 M151.339 790.135 Q157.149 790.135 160.205 794.741 Q163.283 799.325 163.283 808.075 Q163.283 816.801 160.205 821.408 Q157.149 825.991 151.339 825.991 Q145.529 825.991 142.45 821.408 Q139.394 816.801 139.394 808.075 Q139.394 799.325 142.45 794.741 Q145.529 790.135 151.339 790.135 Z\" fill=\"#000000\" fill-rule=\"evenodd\" fill-opacity=\"1\" /><path clip-path=\"url(#clip500)\" d=\"M181.501 793.839 Q177.89 793.839 176.061 797.403 Q174.255 800.945 174.255 808.075 Q174.255 815.181 176.061 818.746 Q177.89 822.287 181.501 822.287 Q185.135 822.287 186.94 818.746 Q188.769 815.181 188.769 808.075 Q188.769 800.945 186.94 797.403 Q185.135 793.839 181.501 793.839 M181.501 790.135 Q187.311 790.135 190.366 794.741 Q193.445 799.325 193.445 808.075 Q193.445 816.801 190.366 821.408 Q187.311 825.991 181.501 825.991 Q175.691 825.991 172.612 821.408 Q169.556 816.801 169.556 808.075 Q169.556 799.325 172.612 794.741 Q175.691 790.135 181.501 790.135 Z\" fill=\"#000000\" fill-rule=\"evenodd\" fill-opacity=\"1\" /><path clip-path=\"url(#clip500)\" d=\"M79.8346 471.922 L102.057 471.922 L102.057 473.913 L89.5104 506.482 L84.6262 506.482 L96.4317 475.857 L79.8346 475.857 L79.8346 471.922 Z\" fill=\"#000000\" fill-rule=\"evenodd\" fill-opacity=\"1\" /><path clip-path=\"url(#clip500)\" d=\"M111.223 471.922 L129.58 471.922 L129.58 475.857 L115.506 475.857 L115.506 484.329 Q116.524 483.982 117.543 483.82 Q118.561 483.635 119.58 483.635 Q125.367 483.635 128.746 486.806 Q132.126 489.977 132.126 495.394 Q132.126 500.973 128.654 504.075 Q125.182 507.153 118.862 507.153 Q116.686 507.153 114.418 506.783 Q112.172 506.412 109.765 505.672 L109.765 500.973 Q111.848 502.107 114.07 502.662 Q116.293 503.218 118.77 503.218 Q122.774 503.218 125.112 501.112 Q127.45 499.005 127.45 495.394 Q127.45 491.783 125.112 489.676 Q122.774 487.57 118.77 487.57 Q116.895 487.57 115.02 487.987 Q113.168 488.403 111.223 489.283 L111.223 471.922 Z\" fill=\"#000000\" fill-rule=\"evenodd\" fill-opacity=\"1\" /><path clip-path=\"url(#clip500)\" d=\"M151.339 475.001 Q147.728 475.001 145.899 478.565 Q144.093 482.107 144.093 489.237 Q144.093 496.343 145.899 499.908 Q147.728 503.45 151.339 503.45 Q154.973 503.45 156.779 499.908 Q158.607 496.343 158.607 489.237 Q158.607 482.107 156.779 478.565 Q154.973 475.001 151.339 475.001 M151.339 471.297 Q157.149 471.297 160.205 475.903 Q163.283 480.487 163.283 489.237 Q163.283 497.963 160.205 502.57 Q157.149 507.153 151.339 507.153 Q145.529 507.153 142.45 502.57 Q139.394 497.963 139.394 489.237 Q139.394 480.487 142.45 475.903 Q145.529 471.297 151.339 471.297 Z\" fill=\"#000000\" fill-rule=\"evenodd\" fill-opacity=\"1\" /><path clip-path=\"url(#clip500)\" d=\"M181.501 475.001 Q177.89 475.001 176.061 478.565 Q174.255 482.107 174.255 489.237 Q174.255 496.343 176.061 499.908 Q177.89 503.45 181.501 503.45 Q185.135 503.45 186.94 499.908 Q188.769 496.343 188.769 489.237 Q188.769 482.107 186.94 478.565 Q185.135 475.001 181.501 475.001 M181.501 471.297 Q187.311 471.297 190.366 475.903 Q193.445 480.487 193.445 489.237 Q193.445 497.963 190.366 502.57 Q187.311 507.153 181.501 507.153 Q175.691 507.153 172.612 502.57 Q169.556 497.963 169.556 489.237 Q169.556 480.487 172.612 475.903 Q175.691 471.297 181.501 471.297 Z\" fill=\"#000000\" fill-rule=\"evenodd\" fill-opacity=\"1\" /><path clip-path=\"url(#clip500)\" d=\"M51.6634 183.709 L59.3023 183.709 L59.3023 157.343 L50.9921 159.01 L50.9921 154.751 L59.256 153.084 L63.9319 153.084 L63.9319 183.709 L71.5707 183.709 L71.5707 187.644 L51.6634 187.644 L51.6634 183.709 Z\" fill=\"#000000\" fill-rule=\"evenodd\" fill-opacity=\"1\" /><path clip-path=\"url(#clip500)\" d=\"M91.0151 156.163 Q87.404 156.163 85.5753 159.727 Q83.7697 163.269 83.7697 170.399 Q83.7697 177.505 85.5753 181.07 Q87.404 184.612 91.0151 184.612 Q94.6493 184.612 96.4548 181.07 Q98.2835 177.505 98.2835 170.399 Q98.2835 163.269 96.4548 159.727 Q94.6493 156.163 91.0151 156.163 M91.0151 152.459 Q96.8252 152.459 99.8808 157.065 Q102.959 161.649 102.959 170.399 Q102.959 179.126 99.8808 183.732 Q96.8252 188.315 91.0151 188.315 Q85.2049 188.315 82.1262 183.732 Q79.0707 179.126 79.0707 170.399 Q79.0707 161.649 82.1262 157.065 Q85.2049 152.459 91.0151 152.459 Z\" fill=\"#000000\" fill-rule=\"evenodd\" fill-opacity=\"1\" /><path clip-path=\"url(#clip500)\" d=\"M121.177 156.163 Q117.566 156.163 115.737 159.727 Q113.932 163.269 113.932 170.399 Q113.932 177.505 115.737 181.07 Q117.566 184.612 121.177 184.612 Q124.811 184.612 126.617 181.07 Q128.445 177.505 128.445 170.399 Q128.445 163.269 126.617 159.727 Q124.811 156.163 121.177 156.163 M121.177 152.459 Q126.987 152.459 130.043 157.065 Q133.121 161.649 133.121 170.399 Q133.121 179.126 130.043 183.732 Q126.987 188.315 121.177 188.315 Q115.367 188.315 112.288 183.732 Q109.233 179.126 109.233 170.399 Q109.233 161.649 112.288 157.065 Q115.367 152.459 121.177 152.459 Z\" fill=\"#000000\" fill-rule=\"evenodd\" fill-opacity=\"1\" /><path clip-path=\"url(#clip500)\" d=\"M151.339 156.163 Q147.728 156.163 145.899 159.727 Q144.093 163.269 144.093 170.399 Q144.093 177.505 145.899 181.07 Q147.728 184.612 151.339 184.612 Q154.973 184.612 156.779 181.07 Q158.607 177.505 158.607 170.399 Q158.607 163.269 156.779 159.727 Q154.973 156.163 151.339 156.163 M151.339 152.459 Q157.149 152.459 160.205 157.065 Q163.283 161.649 163.283 170.399 Q163.283 179.126 160.205 183.732 Q157.149 188.315 151.339 188.315 Q145.529 188.315 142.45 183.732 Q139.394 179.126 139.394 170.399 Q139.394 161.649 142.45 157.065 Q145.529 152.459 151.339 152.459 Z\" fill=\"#000000\" fill-rule=\"evenodd\" fill-opacity=\"1\" /><path clip-path=\"url(#clip500)\" d=\"M181.501 156.163 Q177.89 156.163 176.061 159.727 Q174.255 163.269 174.255 170.399 Q174.255 177.505 176.061 181.07 Q177.89 184.612 181.501 184.612 Q185.135 184.612 186.94 181.07 Q188.769 177.505 188.769 170.399 Q188.769 163.269 186.94 159.727 Q185.135 156.163 181.501 156.163 M181.501 152.459 Q187.311 152.459 190.366 157.065 Q193.445 161.649 193.445 170.399 Q193.445 179.126 190.366 183.732 Q187.311 188.315 181.501 188.315 Q175.691 188.315 172.612 183.732 Q169.556 179.126 169.556 170.399 Q169.556 161.649 172.612 157.065 Q175.691 152.459 181.501 152.459 Z\" fill=\"#000000\" fill-rule=\"evenodd\" fill-opacity=\"1\" /><path clip-path=\"url(#clip502)\" d=\"\n",
       "M346.231 87.9763 L346.231 1445.72 L445.691 1445.72 L445.691 87.9763 L346.231 87.9763 L346.231 87.9763  Z\n",
       "  \" fill=\"#009af9\" fill-rule=\"evenodd\" fill-opacity=\"1\"/>\n",
       "<polyline clip-path=\"url(#clip502)\" style=\"stroke:#000000; stroke-linecap:round; stroke-linejoin:round; stroke-width:4; stroke-opacity:1; fill:none\" points=\"\n",
       "  346.231,87.9763 346.231,1445.72 445.691,1445.72 445.691,87.9763 346.231,87.9763 \n",
       "  \"/>\n",
       "<path clip-path=\"url(#clip502)\" d=\"\n",
       "M445.691 1445.72 L445.691 1445.72 L545.151 1445.72 L545.151 1445.72 L445.691 1445.72 L445.691 1445.72  Z\n",
       "  \" fill=\"#009af9\" fill-rule=\"evenodd\" fill-opacity=\"1\"/>\n",
       "<polyline clip-path=\"url(#clip502)\" style=\"stroke:#000000; stroke-linecap:round; stroke-linejoin:round; stroke-width:4; stroke-opacity:1; fill:none\" points=\"\n",
       "  445.691,1445.72 445.691,1445.72 545.151,1445.72 445.691,1445.72 \n",
       "  \"/>\n",
       "<path clip-path=\"url(#clip502)\" d=\"\n",
       "M545.151 1391.51 L545.151 1445.72 L644.611 1445.72 L644.611 1391.51 L545.151 1391.51 L545.151 1391.51  Z\n",
       "  \" fill=\"#009af9\" fill-rule=\"evenodd\" fill-opacity=\"1\"/>\n",
       "<polyline clip-path=\"url(#clip502)\" style=\"stroke:#000000; stroke-linecap:round; stroke-linejoin:round; stroke-width:4; stroke-opacity:1; fill:none\" points=\"\n",
       "  545.151,1391.51 545.151,1445.72 644.611,1445.72 644.611,1391.51 545.151,1391.51 \n",
       "  \"/>\n",
       "<path clip-path=\"url(#clip502)\" d=\"\n",
       "M644.611 1445.72 L644.611 1445.72 L744.071 1445.72 L744.071 1445.72 L644.611 1445.72 L644.611 1445.72  Z\n",
       "  \" fill=\"#009af9\" fill-rule=\"evenodd\" fill-opacity=\"1\"/>\n",
       "<polyline clip-path=\"url(#clip502)\" style=\"stroke:#000000; stroke-linecap:round; stroke-linejoin:round; stroke-width:4; stroke-opacity:1; fill:none\" points=\"\n",
       "  644.611,1445.72 644.611,1445.72 744.071,1445.72 644.611,1445.72 \n",
       "  \"/>\n",
       "<path clip-path=\"url(#clip502)\" d=\"\n",
       "M744.071 1386.54 L744.071 1445.72 L843.531 1445.72 L843.531 1386.54 L744.071 1386.54 L744.071 1386.54  Z\n",
       "  \" fill=\"#009af9\" fill-rule=\"evenodd\" fill-opacity=\"1\"/>\n",
       "<polyline clip-path=\"url(#clip502)\" style=\"stroke:#000000; stroke-linecap:round; stroke-linejoin:round; stroke-width:4; stroke-opacity:1; fill:none\" points=\"\n",
       "  744.071,1386.54 744.071,1445.72 843.531,1445.72 843.531,1386.54 744.071,1386.54 \n",
       "  \"/>\n",
       "<path clip-path=\"url(#clip502)\" d=\"\n",
       "M843.531 1378.25 L843.531 1445.72 L942.991 1445.72 L942.991 1378.25 L843.531 1378.25 L843.531 1378.25  Z\n",
       "  \" fill=\"#009af9\" fill-rule=\"evenodd\" fill-opacity=\"1\"/>\n",
       "<polyline clip-path=\"url(#clip502)\" style=\"stroke:#000000; stroke-linecap:round; stroke-linejoin:round; stroke-width:4; stroke-opacity:1; fill:none\" points=\"\n",
       "  843.531,1378.25 843.531,1445.72 942.991,1445.72 942.991,1378.25 843.531,1378.25 \n",
       "  \"/>\n",
       "<path clip-path=\"url(#clip502)\" d=\"\n",
       "M942.991 1445.72 L942.991 1445.72 L1042.45 1445.72 L1042.45 1445.72 L942.991 1445.72 L942.991 1445.72  Z\n",
       "  \" fill=\"#009af9\" fill-rule=\"evenodd\" fill-opacity=\"1\"/>\n",
       "<polyline clip-path=\"url(#clip502)\" style=\"stroke:#000000; stroke-linecap:round; stroke-linejoin:round; stroke-width:4; stroke-opacity:1; fill:none\" points=\"\n",
       "  942.991,1445.72 942.991,1445.72 1042.45,1445.72 942.991,1445.72 \n",
       "  \"/>\n",
       "<path clip-path=\"url(#clip502)\" d=\"\n",
       "M1042.45 1445.72 L1042.45 1445.72 L1141.91 1445.72 L1141.91 1445.72 L1042.45 1445.72 L1042.45 1445.72  Z\n",
       "  \" fill=\"#009af9\" fill-rule=\"evenodd\" fill-opacity=\"1\"/>\n",
       "<polyline clip-path=\"url(#clip502)\" style=\"stroke:#000000; stroke-linecap:round; stroke-linejoin:round; stroke-width:4; stroke-opacity:1; fill:none\" points=\"\n",
       "  1042.45,1445.72 1042.45,1445.72 1141.91,1445.72 1042.45,1445.72 \n",
       "  \"/>\n",
       "<path clip-path=\"url(#clip502)\" d=\"\n",
       "M1141.91 1367.54 L1141.91 1445.72 L1241.37 1445.72 L1241.37 1367.54 L1141.91 1367.54 L1141.91 1367.54  Z\n",
       "  \" fill=\"#009af9\" fill-rule=\"evenodd\" fill-opacity=\"1\"/>\n",
       "<polyline clip-path=\"url(#clip502)\" style=\"stroke:#000000; stroke-linecap:round; stroke-linejoin:round; stroke-width:4; stroke-opacity:1; fill:none\" points=\"\n",
       "  1141.91,1367.54 1141.91,1445.72 1241.37,1445.72 1241.37,1367.54 1141.91,1367.54 \n",
       "  \"/>\n",
       "<path clip-path=\"url(#clip502)\" d=\"\n",
       "M1241.37 1445.72 L1241.37 1445.72 L1340.83 1445.72 L1340.83 1445.72 L1241.37 1445.72 L1241.37 1445.72  Z\n",
       "  \" fill=\"#009af9\" fill-rule=\"evenodd\" fill-opacity=\"1\"/>\n",
       "<polyline clip-path=\"url(#clip502)\" style=\"stroke:#000000; stroke-linecap:round; stroke-linejoin:round; stroke-width:4; stroke-opacity:1; fill:none\" points=\"\n",
       "  1241.37,1445.72 1241.37,1445.72 1340.83,1445.72 1241.37,1445.72 \n",
       "  \"/>\n",
       "<path clip-path=\"url(#clip502)\" d=\"\n",
       "M1340.83 1358.61 L1340.83 1445.72 L1440.29 1445.72 L1440.29 1358.61 L1340.83 1358.61 L1340.83 1358.61  Z\n",
       "  \" fill=\"#009af9\" fill-rule=\"evenodd\" fill-opacity=\"1\"/>\n",
       "<polyline clip-path=\"url(#clip502)\" style=\"stroke:#000000; stroke-linecap:round; stroke-linejoin:round; stroke-width:4; stroke-opacity:1; fill:none\" points=\"\n",
       "  1340.83,1358.61 1340.83,1445.72 1440.29,1445.72 1440.29,1358.61 1340.83,1358.61 \n",
       "  \"/>\n",
       "<path clip-path=\"url(#clip502)\" d=\"\n",
       "M1440.29 1348.79 L1440.29 1445.72 L1539.75 1445.72 L1539.75 1348.79 L1440.29 1348.79 L1440.29 1348.79  Z\n",
       "  \" fill=\"#009af9\" fill-rule=\"evenodd\" fill-opacity=\"1\"/>\n",
       "<polyline clip-path=\"url(#clip502)\" style=\"stroke:#000000; stroke-linecap:round; stroke-linejoin:round; stroke-width:4; stroke-opacity:1; fill:none\" points=\"\n",
       "  1440.29,1348.79 1440.29,1445.72 1539.75,1445.72 1539.75,1348.79 1440.29,1348.79 \n",
       "  \"/>\n",
       "<path clip-path=\"url(#clip502)\" d=\"\n",
       "M1539.75 1445.72 L1539.75 1445.72 L1639.21 1445.72 L1639.21 1445.72 L1539.75 1445.72 L1539.75 1445.72  Z\n",
       "  \" fill=\"#009af9\" fill-rule=\"evenodd\" fill-opacity=\"1\"/>\n",
       "<polyline clip-path=\"url(#clip502)\" style=\"stroke:#000000; stroke-linecap:round; stroke-linejoin:round; stroke-width:4; stroke-opacity:1; fill:none\" points=\"\n",
       "  1539.75,1445.72 1539.75,1445.72 1639.21,1445.72 1539.75,1445.72 \n",
       "  \"/>\n",
       "<path clip-path=\"url(#clip502)\" d=\"\n",
       "M1639.21 1342.41 L1639.21 1445.72 L1738.67 1445.72 L1738.67 1342.41 L1639.21 1342.41 L1639.21 1342.41  Z\n",
       "  \" fill=\"#009af9\" fill-rule=\"evenodd\" fill-opacity=\"1\"/>\n",
       "<polyline clip-path=\"url(#clip502)\" style=\"stroke:#000000; stroke-linecap:round; stroke-linejoin:round; stroke-width:4; stroke-opacity:1; fill:none\" points=\"\n",
       "  1639.21,1342.41 1639.21,1445.72 1738.67,1445.72 1738.67,1342.41 1639.21,1342.41 \n",
       "  \"/>\n",
       "<path clip-path=\"url(#clip502)\" d=\"\n",
       "M1738.67 1445.72 L1738.67 1445.72 L1838.13 1445.72 L1838.13 1445.72 L1738.67 1445.72 L1738.67 1445.72  Z\n",
       "  \" fill=\"#009af9\" fill-rule=\"evenodd\" fill-opacity=\"1\"/>\n",
       "<polyline clip-path=\"url(#clip502)\" style=\"stroke:#000000; stroke-linecap:round; stroke-linejoin:round; stroke-width:4; stroke-opacity:1; fill:none\" points=\"\n",
       "  1738.67,1445.72 1738.67,1445.72 1838.13,1445.72 1738.67,1445.72 \n",
       "  \"/>\n",
       "<path clip-path=\"url(#clip502)\" d=\"\n",
       "M1838.13 1445.72 L1838.13 1445.72 L1937.59 1445.72 L1937.59 1445.72 L1838.13 1445.72 L1838.13 1445.72  Z\n",
       "  \" fill=\"#009af9\" fill-rule=\"evenodd\" fill-opacity=\"1\"/>\n",
       "<polyline clip-path=\"url(#clip502)\" style=\"stroke:#000000; stroke-linecap:round; stroke-linejoin:round; stroke-width:4; stroke-opacity:1; fill:none\" points=\"\n",
       "  1838.13,1445.72 1838.13,1445.72 1937.59,1445.72 1838.13,1445.72 \n",
       "  \"/>\n",
       "<path clip-path=\"url(#clip502)\" d=\"\n",
       "M1937.59 1329.91 L1937.59 1445.72 L2037.05 1445.72 L2037.05 1329.91 L1937.59 1329.91 L1937.59 1329.91  Z\n",
       "  \" fill=\"#009af9\" fill-rule=\"evenodd\" fill-opacity=\"1\"/>\n",
       "<polyline clip-path=\"url(#clip502)\" style=\"stroke:#000000; stroke-linecap:round; stroke-linejoin:round; stroke-width:4; stroke-opacity:1; fill:none\" points=\"\n",
       "  1937.59,1329.91 1937.59,1445.72 2037.05,1445.72 2037.05,1329.91 1937.59,1329.91 \n",
       "  \"/>\n",
       "<path clip-path=\"url(#clip502)\" d=\"\n",
       "M2037.05 1445.72 L2037.05 1445.72 L2136.51 1445.72 L2136.51 1445.72 L2037.05 1445.72 L2037.05 1445.72  Z\n",
       "  \" fill=\"#009af9\" fill-rule=\"evenodd\" fill-opacity=\"1\"/>\n",
       "<polyline clip-path=\"url(#clip502)\" style=\"stroke:#000000; stroke-linecap:round; stroke-linejoin:round; stroke-width:4; stroke-opacity:1; fill:none\" points=\"\n",
       "  2037.05,1445.72 2037.05,1445.72 2136.51,1445.72 2037.05,1445.72 \n",
       "  \"/>\n",
       "<path clip-path=\"url(#clip502)\" d=\"\n",
       "M2136.51 1116.93 L2136.51 1445.72 L2235.97 1445.72 L2235.97 1116.93 L2136.51 1116.93 L2136.51 1116.93  Z\n",
       "  \" fill=\"#009af9\" fill-rule=\"evenodd\" fill-opacity=\"1\"/>\n",
       "<polyline clip-path=\"url(#clip502)\" style=\"stroke:#000000; stroke-linecap:round; stroke-linejoin:round; stroke-width:4; stroke-opacity:1; fill:none\" points=\"\n",
       "  2136.51,1116.93 2136.51,1445.72 2235.97,1445.72 2235.97,1116.93 2136.51,1116.93 \n",
       "  \"/>\n",
       "<circle clip-path=\"url(#clip502)\" style=\"fill:#009af9; stroke:none; fill-opacity:0\" cx=\"395.961\" cy=\"87.9763\" r=\"2\"/>\n",
       "<circle clip-path=\"url(#clip502)\" style=\"fill:#009af9; stroke:none; fill-opacity:0\" cx=\"495.421\" cy=\"1445.72\" r=\"2\"/>\n",
       "<circle clip-path=\"url(#clip502)\" style=\"fill:#009af9; stroke:none; fill-opacity:0\" cx=\"594.881\" cy=\"1391.51\" r=\"2\"/>\n",
       "<circle clip-path=\"url(#clip502)\" style=\"fill:#009af9; stroke:none; fill-opacity:0\" cx=\"694.341\" cy=\"1445.72\" r=\"2\"/>\n",
       "<circle clip-path=\"url(#clip502)\" style=\"fill:#009af9; stroke:none; fill-opacity:0\" cx=\"793.801\" cy=\"1386.54\" r=\"2\"/>\n",
       "<circle clip-path=\"url(#clip502)\" style=\"fill:#009af9; stroke:none; fill-opacity:0\" cx=\"893.261\" cy=\"1378.25\" r=\"2\"/>\n",
       "<circle clip-path=\"url(#clip502)\" style=\"fill:#009af9; stroke:none; fill-opacity:0\" cx=\"992.721\" cy=\"1445.72\" r=\"2\"/>\n",
       "<circle clip-path=\"url(#clip502)\" style=\"fill:#009af9; stroke:none; fill-opacity:0\" cx=\"1092.18\" cy=\"1445.72\" r=\"2\"/>\n",
       "<circle clip-path=\"url(#clip502)\" style=\"fill:#009af9; stroke:none; fill-opacity:0\" cx=\"1191.64\" cy=\"1367.54\" r=\"2\"/>\n",
       "<circle clip-path=\"url(#clip502)\" style=\"fill:#009af9; stroke:none; fill-opacity:0\" cx=\"1291.1\" cy=\"1445.72\" r=\"2\"/>\n",
       "<circle clip-path=\"url(#clip502)\" style=\"fill:#009af9; stroke:none; fill-opacity:0\" cx=\"1390.56\" cy=\"1358.61\" r=\"2\"/>\n",
       "<circle clip-path=\"url(#clip502)\" style=\"fill:#009af9; stroke:none; fill-opacity:0\" cx=\"1490.02\" cy=\"1348.79\" r=\"2\"/>\n",
       "<circle clip-path=\"url(#clip502)\" style=\"fill:#009af9; stroke:none; fill-opacity:0\" cx=\"1589.48\" cy=\"1445.72\" r=\"2\"/>\n",
       "<circle clip-path=\"url(#clip502)\" style=\"fill:#009af9; stroke:none; fill-opacity:0\" cx=\"1688.94\" cy=\"1342.41\" r=\"2\"/>\n",
       "<circle clip-path=\"url(#clip502)\" style=\"fill:#009af9; stroke:none; fill-opacity:0\" cx=\"1788.4\" cy=\"1445.72\" r=\"2\"/>\n",
       "<circle clip-path=\"url(#clip502)\" style=\"fill:#009af9; stroke:none; fill-opacity:0\" cx=\"1887.86\" cy=\"1445.72\" r=\"2\"/>\n",
       "<circle clip-path=\"url(#clip502)\" style=\"fill:#009af9; stroke:none; fill-opacity:0\" cx=\"1987.32\" cy=\"1329.91\" r=\"2\"/>\n",
       "<circle clip-path=\"url(#clip502)\" style=\"fill:#009af9; stroke:none; fill-opacity:0\" cx=\"2086.78\" cy=\"1445.72\" r=\"2\"/>\n",
       "<circle clip-path=\"url(#clip502)\" style=\"fill:#009af9; stroke:none; fill-opacity:0\" cx=\"2186.24\" cy=\"1116.93\" r=\"2\"/>\n",
       "</svg>\n"
      ]
     },
     "execution_count": 71,
     "metadata": {},
     "output_type": "execute_result"
    }
   ],
   "source": [
    "histogram(bulkscan_null_grid_results10_reml.h2_null_list, label = false)"
   ]
  },
  {
   "cell_type": "code",
   "execution_count": 73,
   "id": "e1c51736-b252-4524-8de0-8cac501cdfb5",
   "metadata": {},
   "outputs": [
    {
     "data": {
      "text/plain": [
       "228763.552"
      ]
     },
     "execution_count": 73,
     "metadata": {},
     "output_type": "execute_result"
    }
   ],
   "source": [
    "12422*m/1000"
   ]
  },
  {
   "cell_type": "markdown",
   "id": "7b824abd-45de-45af-b548-9076573d6a5c",
   "metadata": {
    "tags": []
   },
   "source": [
    "### Single trait scans"
   ]
  },
  {
   "cell_type": "code",
   "execution_count": null,
   "id": "c9b2bc8d-8361-4929-b5cc-74c93412da02",
   "metadata": {},
   "outputs": [],
   "source": [
    "omics_id = 832;"
   ]
  },
  {
   "cell_type": "code",
   "execution_count": null,
   "id": "31cd95d2-d0a0-4a7b-adcb-68d534ec9404",
   "metadata": {},
   "outputs": [],
   "source": [
    "test_y = reshape(omics_pheno_processed[:, omics_id], :, 1);"
   ]
  },
  {
   "cell_type": "code",
   "execution_count": null,
   "id": "8e23c086-f058-40f5-a4c9-54963bfe28f8",
   "metadata": {},
   "outputs": [],
   "source": [
    "@time scan_null_results_reml_perms = scan(test_y, omics_geno_processed, omics_kinship; \n",
    "                                    assumption = \"null\", reml = true,\n",
    "                                    permutation_test = true, nperms = 1000);"
   ]
  },
  {
   "cell_type": "code",
   "execution_count": null,
   "id": "bff7685a-d123-4d94-a6ed-2a0ffba53b52",
   "metadata": {},
   "outputs": [],
   "source": [
    "size(omics_geno_processed)"
   ]
  },
  {
   "cell_type": "code",
   "execution_count": null,
   "id": "0b6d2ca0-6500-48d0-a123-315c9672b8fa",
   "metadata": {},
   "outputs": [],
   "source": [
    "p"
   ]
  },
  {
   "cell_type": "code",
   "execution_count": null,
   "id": "263b3332-6d1b-4f1a-91a4-b24f34250868",
   "metadata": {},
   "outputs": [],
   "source": [
    "scan_null_results_reml_perms.L_perms"
   ]
  },
  {
   "cell_type": "markdown",
   "id": "563c181e-4d0a-42a6-b4dc-4471953761ec",
   "metadata": {},
   "source": [
    "#### Null estimation for h2:"
   ]
  },
  {
   "cell_type": "code",
   "execution_count": null,
   "id": "b9d9a60a-0cf8-47b6-a7d1-5394ac92691f",
   "metadata": {},
   "outputs": [],
   "source": [
    "@time scan_null_results_reml = scan(test_y, omics_geno_processed, omics_kinship; \n",
    "                                    assumption = \"null\", reml = true);"
   ]
  },
  {
   "cell_type": "code",
   "execution_count": null,
   "id": "37ecb6b7-b16c-401c-ac7a-65ee1ee0c51d",
   "metadata": {},
   "outputs": [],
   "source": [
    "scan_null_results_reml.h2_null"
   ]
  },
  {
   "cell_type": "code",
   "execution_count": null,
   "id": "0b48467f-c6e9-4170-8386-66936da8c1b9",
   "metadata": {},
   "outputs": [],
   "source": [
    "@time bulkscan_null_results_reml = bulkscan_null(test_y, omics_geno_processed, omics_kinship; \n",
    "                                                 reml = true);"
   ]
  },
  {
   "cell_type": "code",
   "execution_count": null,
   "id": "72207eb5-2305-413a-9622-125e2f992d5a",
   "metadata": {},
   "outputs": [],
   "source": [
    "bulkscan_null_results_reml.h2_null_list"
   ]
  },
  {
   "cell_type": "markdown",
   "id": "02bbc047-5864-4013-aca3-6e0a892c71f3",
   "metadata": {},
   "source": [
    "#### Alt estimation for h2:"
   ]
  },
  {
   "cell_type": "code",
   "execution_count": null,
   "id": "4d4d24d1-dd87-46b6-90fd-5ab8a8682c6e",
   "metadata": {},
   "outputs": [],
   "source": [
    "@time scan_alt_results_reml = scan(test_y, omics_geno_processed, omics_kinship; \n",
    "                                   assumption = \"alt\", reml = true);"
   ]
  },
  {
   "cell_type": "code",
   "execution_count": null,
   "id": "3f39775e-5d9d-411e-850e-bc96e7887e5a",
   "metadata": {},
   "outputs": [],
   "source": [
    "@time bulkscan_alt_results_reml = bulkscan_alt_grid(test_y, omics_geno_processed, omics_kinship, grid_fine; \n",
    "                                                    reml = true);"
   ]
  },
  {
   "cell_type": "code",
   "execution_count": null,
   "id": "81b33e40-a5c0-470b-bec4-ac9beef76521",
   "metadata": {},
   "outputs": [],
   "source": [
    "hcat(scan_alt_results_reml.h2_each_marker, bulkscan_alt_results_reml.h2_panel)"
   ]
  },
  {
   "cell_type": "markdown",
   "id": "bacd72e7-ccf7-45b5-a58b-aab1ed773357",
   "metadata": {
    "tags": []
   },
   "source": [
    "### Some helper functions:"
   ]
  },
  {
   "cell_type": "markdown",
   "id": "0cc1815b-bd6a-4cab-9a01-12d8eba3d8be",
   "metadata": {
    "jp-MarkdownHeadingCollapsed": true,
    "tags": []
   },
   "source": [
    "#### LOD and p conversion helper functions"
   ]
  },
  {
   "cell_type": "code",
   "execution_count": null,
   "id": "3ea0505f-0c1b-4537-84e2-306c6de268ff",
   "metadata": {},
   "outputs": [],
   "source": [
    "function p2lod(pval::Float64, df::Int64)\n",
    "    \n",
    "    lrs = invlogcdf(Chisq(df), log(1-pval))\n",
    "    lod = lrs/(2*log(10))\n",
    "    \n",
    "    return lod\n",
    "\n",
    "end\n",
    "\n",
    "function lod2p(lod::Float64, df::Int64)\n",
    "    \n",
    "    lrs = lod*2*log(10);\n",
    "    pval = 1-cdf(Chisq(df), lrs)\n",
    "    \n",
    "    return pval\n",
    "    \n",
    "end"
   ]
  },
  {
   "cell_type": "markdown",
   "id": "95164cd3-f5bf-4690-bf97-e1dd317e22bc",
   "metadata": {
    "jp-MarkdownHeadingCollapsed": true,
    "tags": []
   },
   "source": [
    "#### Profile helper functions"
   ]
  },
  {
   "cell_type": "code",
   "execution_count": null,
   "id": "243c0bff-f564-4c26-b84d-5fedc5079a8f",
   "metadata": {},
   "outputs": [],
   "source": [
    "## Helper functions for conducting genome-wide assoication analysis of a single trait\n",
    "\n",
    "### Function to compute thresholds from permutation testing results:\n",
    "### Inputs: \n",
    "###     - nperms_results - A matrix of LOD scores, each column contains the LOD scores \n",
    "###       fitted for each permuted copy;\n",
    "###     - probs - A list contains the requested estimated (right-tail) probabilities \n",
    "###       the thresholds correspond to.\n",
    "### Outputs:\n",
    "###     - An object containing the quantiles of maximal LOD scores among all maximal \n",
    "###       LOD scores for all permutations and the corresponding probabilities . \n",
    "\n",
    "function get_thresholds(L::Array{Float64, 2}, thr_probs::Array{Float64, 1})\n",
    "\n",
    "    # Get the LOD score peak for each trait\n",
    "    peak_each_trait = vec(mapslices(x -> maximum(x), L; dims = 1));\n",
    "    # Thresholds will be determined by the quantiles of the peaks\n",
    "    thrs = map(x -> quantile(peak_each_trait, x), thr_probs);\n",
    "\n",
    "    return (probs = thr_probs, thrs = thrs);\n",
    "\n",
    "end\n",
    "\n",
    "## Function to compute the loglikelihood value of the given data under LMM model:\n",
    "## Inputs: data after rotation, a given h2 to evaluate loglik on\n",
    "##         (optional) prior for regularization loglik near the upper boundary pt.\n",
    "## Outputs: the logliks (null, alt mean model) under the given h2\n",
    "function getLL(y0::Array{Float64, 2}, X0::Array{Float64, 2}, lambda0::Array{Float64, 1},\n",
    "               num_of_covar::Int64, \n",
    "               markerID::Int64, h2::Float64; reml::Bool = false, prior::Array{Float64, 1} = [0.0, 0.0])\n",
    "    \n",
    "    n = size(y0, 1);\n",
    "    w = makeweights(h2, lambda0);\n",
    "\n",
    "    if num_of_covar == 1\n",
    "        X0_covar = reshape(X0[:, 1], :, 1);\n",
    "    else\n",
    "        X0_covar = X0[:, 1:num_of_covar];\n",
    "    end\n",
    "\n",
    "    X_design = zeros(n, num_of_covar+1);\n",
    "    X_design[:, 1:num_of_covar] = X0_covar;\n",
    "    X_design[:, num_of_covar+1] = X0[:, markerID+num_of_covar];\n",
    "    \n",
    "    return (ll_null = wls(y0, X0_covar, w, prior; reml = reml).ell, ll_markerID = wls(y0, X_design, w, prior; reml = reml).ell)\n",
    "end\n",
    "\n",
    "function profileLL(y::Array{Float64, 2}, G::Array{Float64, 2}, covar::Array{Float64, 2}, \n",
    "                   K::Array{Float64, 2}, \n",
    "                   h2_grid::Array{Float64, 1}, markerID::Int64;\n",
    "                   reml::Bool = false,\n",
    "                   prior::Array{Float64, 1} = [0.0, 0.0])\n",
    "\n",
    "    ## Initiate the vector to store the profile likelihood values evaluated under each given parameter value\n",
    "    ell_null = zeros(length(h2_grid)); # loglikelihood under null\n",
    "    ell_alt = zeros(length(h2_grid)); # loglikelihood under alternative\n",
    "\n",
    "\n",
    "    num_of_covar = size(covar, 2);\n",
    "    (y0, X0, lambda0) = transform_rotation(y, [covar G], K; addIntercept = false);\n",
    "\n",
    "    ## Loop through the supplied h2 values, evaluate the profile loglik under each h2\n",
    "    for k in 1:length(h2_grid)\n",
    "        curr_h2 = h2_grid[k];\n",
    "        output = getLL(y0, X0, lambda0, num_of_covar, markerID, curr_h2; \n",
    "                       reml = reml, prior = prior);\n",
    "        ell_null[k] = output.ll_null;\n",
    "        ell_alt[k] = output.ll_markerID;\n",
    "    end\n",
    "\n",
    "    ## Return values will be two (null, alternative models) lists of all loglikelihood values evaluated\n",
    "    return (ll_list_null = ell_null, ll_list_alt = ell_alt);\n",
    "\n",
    "end\n",
    "\n",
    "## To be moved...\n",
    "function plotLL(y::Array{Float64, 2}, G::Array{Float64, 2}, covar::Array{Float64, 2}, \n",
    "                K::Array{Float64, 2}, \n",
    "                h2_grid::Array{Float64, 1}, markerID::Int64;\n",
    "                reml::Bool = false,\n",
    "                x_lims::Array{Float64, 1}, y_lims::Array{Float64, 1},\n",
    "                prior::Array{Float64, 1} = [0.0, 0.0])\n",
    "\n",
    "\n",
    "    ell_null = zeros(length(h2_grid));\n",
    "    ell_alt = zeros(length(h2_grid));\n",
    "\n",
    "\n",
    "    num_of_covar = size(covar, 2);\n",
    "    (y0, X0, lambda0) = transform_rotation(y, [covar G], K; addIntercept = false);\n",
    "\n",
    "    for k in 1:length(h2_grid)\n",
    "        curr_h2 = h2_grid[k];\n",
    "        output = getLL(y0, X0, lambda0, num_of_covar, markerID, curr_h2; reml = reml, prior = prior);\n",
    "        ell_null[k] = output.ll_null;\n",
    "        ell_alt[k] = output.ll_markerID;\n",
    "    end\n",
    "\n",
    "    opt_ll_null = findmax(ell_null)[1];\n",
    "    opt_h2_null = h2_grid[findmax(ell_null)[2]];\n",
    "    opt_ll_alt = findmax(ell_alt)[1];\n",
    "    opt_h2_alt = h2_grid[findmax(ell_alt)[2]];\n",
    "    \n",
    "    lb = min(findmin(ell_null)[1], findmin(ell_alt)[1]);\n",
    "    ub = max(opt_ll_null, opt_ll_alt);\n",
    "\n",
    "    p = plot(h2_grid, ell_null, xlabel = \"h2\", ylabel = \"loglik\", label = \"Null\", color = \"blue\", legend=:bottomleft)\n",
    "    scatter!(p, [opt_h2_null], [opt_ll_null], label = \"maxLL_null\", color = \"blue\")\n",
    "    plot!(p, h2_grid, ell_alt, xlabel = \"h2\", ylabel = \"loglik\", label = (\"Alt_$markerID\"), color = \"red\")\n",
    "    scatter!(p, [opt_h2_alt], [opt_ll_alt], label = \"maxLL_alt\", color = \"red\");\n",
    "\n",
    "    plot!(p, ones(2).*opt_h2_null, [lb-0.05, opt_ll_null], color = \"blue\", style = :dash, label = \"\")\n",
    "    plot!(p, [x_lims[1]-0.05, opt_h2_null], ones(2).*opt_ll_null, color = \"blue\", style = :dash, label = \"\")\n",
    "    annotate!(p, opt_h2_null, y_lims[1]-1.75, \n",
    "              text(\"$opt_h2_null\", :blue, :below, 8))\n",
    "\n",
    "    plot!(p, ones(2).*opt_h2_alt, [lb-0.05, opt_ll_alt], color = \"red\", style = :dash, label = \"\")\n",
    "    plot!(p, [x_lims[1]-0.05, opt_h2_alt], ones(2).*opt_ll_alt, color = \"red\", style = :dash, label = \"\")\n",
    "    annotate!(p, opt_h2_alt, lb-1.75, \n",
    "              text(\"$opt_h2_alt\", :red, :below, 8))\n",
    "\n",
    "\n",
    "    xlims!(p, (x_lims[1]-0.05, x_lims[2]+0.05))\n",
    "    ylims!(p, (lb-1.0), ub+1.0)\n",
    "    #= \n",
    "    ylims!(p, (minimum([y_lims[1], minimum(ell_null), minimum(ell_alt)])-0.05, \n",
    "               maximum([y_lims[2], maximum(ell_null), maximum(ell_alt)])+0.05))\n",
    "\n",
    "    =#\n",
    "    return p\n",
    "\n",
    "end"
   ]
  },
  {
   "cell_type": "markdown",
   "id": "4b8719db-2bea-4268-92ba-c6443642518e",
   "metadata": {
    "tags": []
   },
   "source": [
    "#### Results analysis:"
   ]
  },
  {
   "cell_type": "code",
   "execution_count": null,
   "id": "c3f636a7-6ebf-4b52-8135-405737f0d326",
   "metadata": {},
   "outputs": [],
   "source": [
    "function meanAbsDiff(x, y)\n",
    "    \n",
    "    return mean(abs.(x .- y))\n",
    "    \n",
    "end"
   ]
  },
  {
   "cell_type": "code",
   "execution_count": null,
   "id": "428172cd-042f-4859-b796-4d7bda2f6206",
   "metadata": {},
   "outputs": [],
   "source": [
    "function removeInfValues!(x, y)\n",
    "    \n",
    "    toRemove = findall(isinf.(x));\n",
    "    toRemove2 = findall(isnan.(x));\n",
    "    \n",
    "    for inf_val in toRemove\n",
    "        \n",
    "        x[inf_val[1], inf_val[2]] = 0.0;\n",
    "        y[inf_val[1], inf_val[2]] = 0.0;\n",
    "        \n",
    "    end\n",
    "    \n",
    "    for nan_val in toRemove2\n",
    "        \n",
    "        x[nan_val[1], nan_val[2]] = 0.0;\n",
    "        y[nan_val[1], nan_val[2]] = 0.0;\n",
    "        \n",
    "    end\n",
    "    \n",
    "end"
   ]
  },
  {
   "cell_type": "markdown",
   "id": "0674dcaf-cc73-484c-abc0-60e03b2f2444",
   "metadata": {
    "tags": []
   },
   "source": [
    "## GEMMA:"
   ]
  },
  {
   "cell_type": "markdown",
   "id": "9d9e1f5f-1242-4f6d-a257-c94b149cd0f3",
   "metadata": {
    "tags": []
   },
   "source": [
    "### Run gemma:"
   ]
  },
  {
   "cell_type": "code",
   "execution_count": null,
   "id": "ccf5e750-496d-41e7-9598-c6acc421a987",
   "metadata": {},
   "outputs": [],
   "source": [
    "gemma = \"/home/zyu20/Softwares/gemma-0.98.5-linux-static-AMD64\""
   ]
  },
  {
   "cell_type": "code",
   "execution_count": null,
   "id": "77030960-c0f3-485f-bf64-d62bfb17bebf",
   "metadata": {},
   "outputs": [],
   "source": [
    "# rand_samples = sample(1:m, 1000);"
   ]
  },
  {
   "cell_type": "code",
   "execution_count": null,
   "id": "232eac86-baef-41d4-b4c5-47e3150e3f41",
   "metadata": {},
   "outputs": [],
   "source": [
    "rand_samples = readdlm(\"output/samples.txt\", '\\t') |> x -> Int.(x);"
   ]
  },
  {
   "cell_type": "code",
   "execution_count": null,
   "id": "db29d7ec-7fa4-48f6-9017-12648919aefd",
   "metadata": {},
   "outputs": [],
   "source": [
    "rand_samples[1:6]"
   ]
  },
  {
   "cell_type": "code",
   "execution_count": null,
   "id": "5c57256b-d608-4fa9-a9a4-76a3cee57565",
   "metadata": {},
   "outputs": [],
   "source": [
    "# writedlm(\"output/samples.txt\", rand_samples, '\\t');"
   ]
  },
  {
   "cell_type": "code",
   "execution_count": null,
   "id": "558833b8-61f5-499f-8ff3-bfe091bd558f",
   "metadata": {},
   "outputs": [],
   "source": [
    "pheno_filename = \"data/GEMMA_data/hs_omics_pheno.txt\";\n",
    "geno_filename = \"data/GEMMA_data/hs_omics_geno.txt\";\n",
    "kinship_filename = \"data/GEMMA_data/hs_omics_kinship.txt\";\n",
    "output_filename = \"results_univariate_LMM\";"
   ]
  },
  {
   "cell_type": "code",
   "execution_count": null,
   "id": "3f8390ef-ee1b-4c7e-b582-3bdf8a08677e",
   "metadata": {},
   "outputs": [],
   "source": [
    "#=\n",
    "t_gemma = @elapsed gemma_samples_results = run_gemma(omics_pheno_processed[:, rand_samples], omics_geno_processed, omics_kinship,\n",
    "                                        [\"A\", \"B\"], omics_marker_names_processed,\n",
    "                                        pheno_filename, geno_filename, kinship_filename, \n",
    "                                        output_filename, \n",
    "                                        gemma);\n",
    "=#"
   ]
  },
  {
   "cell_type": "code",
   "execution_count": null,
   "id": "6e513c00-c2aa-4bb6-a97b-4695a856d4b7",
   "metadata": {},
   "outputs": [],
   "source": [
    "#=\n",
    "runtime_results_file = open(\"output/runtimes_omics.txt\", \"w\")\n",
    "write(runtime_results_file, \"BulkLMM Alg:null_grid20 runtime = $t_null_grid20 seconds \\n\");\n",
    "write(runtime_results_file, \"BulkLMM Alg:null_grid100 runtime = $t_null_grid100 seconds \\n\");\n",
    "write(runtime_results_file, \"Gemma runtime = $t_gemma seconds\");\n",
    "close(runtime_results_file)\n",
    "=#"
   ]
  },
  {
   "cell_type": "code",
   "execution_count": null,
   "id": "c7459029-b2e8-4e7b-9688-9c42e4e3eb01",
   "metadata": {},
   "outputs": [],
   "source": [
    "# writedlm(\"output/gemma_L_omics.txt\", gemma_samples_results, '\\t');"
   ]
  },
  {
   "cell_type": "code",
   "execution_count": null,
   "id": "13d3cea1-3d4a-4019-8add-a85250d2bbae",
   "metadata": {},
   "outputs": [],
   "source": [
    "@time gemma_samples_results = readdlm(\"output/gemma_L_omics.txt\", '\\t');"
   ]
  },
  {
   "cell_type": "markdown",
   "id": "f89d9c0c-0055-4247-8643-2b3023d5a37c",
   "metadata": {
    "tags": []
   },
   "source": [
    "### Compare BulkLMM.null results with GEMMA on 1000 sample traits:"
   ]
  },
  {
   "cell_type": "code",
   "execution_count": null,
   "id": "a2ce95d1-ad70-4b19-b44d-1afaad23862a",
   "metadata": {},
   "outputs": [],
   "source": [
    "bulklmm_samples_results_ml = bulkscan_null_grid_results100_ml.L[:, rand_samples];"
   ]
  },
  {
   "cell_type": "code",
   "execution_count": null,
   "id": "450b6da8-ec52-4a41-950e-d357cc8e46ec",
   "metadata": {},
   "outputs": [],
   "source": [
    "bulklmm_samples_results_reml = bulkscan_null_grid_results100_reml.L[:, rand_samples];"
   ]
  },
  {
   "cell_type": "code",
   "execution_count": null,
   "id": "4916828e-4611-4bf8-9b4e-c40747bf1731",
   "metadata": {},
   "outputs": [],
   "source": [
    "gemma_copy = copy(gemma_samples_results);"
   ]
  },
  {
   "cell_type": "code",
   "execution_count": null,
   "id": "041269e9-13a6-4c61-8498-584c4ffe6dbc",
   "metadata": {},
   "outputs": [],
   "source": [
    "findfirst(isnan.(gemma_samples_results))"
   ]
  },
  {
   "cell_type": "code",
   "execution_count": null,
   "id": "d2e75ad1-800a-474d-ac27-ec9437806062",
   "metadata": {},
   "outputs": [],
   "source": [
    "findfirst(isnan.(gemma_copy))"
   ]
  },
  {
   "cell_type": "code",
   "execution_count": null,
   "id": "0ba5fef6-8018-481d-abc4-f4f5ab6cd2dd",
   "metadata": {},
   "outputs": [],
   "source": [
    "removeInfValues!(gemma_samples_results, bulklmm_samples_results_ml)"
   ]
  },
  {
   "cell_type": "code",
   "execution_count": null,
   "id": "2964996c-90a8-476e-9994-a062bcd88ea1",
   "metadata": {},
   "outputs": [],
   "source": [
    "gemma_samples_results = copy(gemma_copy);"
   ]
  },
  {
   "cell_type": "code",
   "execution_count": null,
   "id": "93902bf0-94bb-4754-846f-665e4255f96e",
   "metadata": {},
   "outputs": [],
   "source": [
    "removeInfValues!(gemma_samples_results, bulklmm_samples_results_reml)"
   ]
  },
  {
   "cell_type": "code",
   "execution_count": null,
   "id": "2332a23f-d5d1-4cd2-b2d5-e9fcd3c320f4",
   "metadata": {},
   "outputs": [],
   "source": [
    "mean_diff_ml = meanAbsDiff(gemma_samples_results, bulklmm_samples_results_ml)"
   ]
  },
  {
   "cell_type": "code",
   "execution_count": null,
   "id": "f3cd6ebd-a71a-4784-8580-acc49df5459d",
   "metadata": {},
   "outputs": [],
   "source": [
    "mean_diff_reml = meanAbsDiff(gemma_samples_results, bulklmm_samples_results_reml)"
   ]
  },
  {
   "cell_type": "code",
   "execution_count": null,
   "id": "e3c93c64-b73f-4bc3-b3f2-01b8b893abf4",
   "metadata": {},
   "outputs": [],
   "source": [
    "quant_diff_ml = quantile(vec(abs.(gemma_samples_results .- bulklmm_samples_results_ml)), [0.25, 0.5, 0.75, 0.99]);"
   ]
  },
  {
   "cell_type": "code",
   "execution_count": null,
   "id": "11faab71-404e-44d9-99e2-519850105230",
   "metadata": {},
   "outputs": [],
   "source": [
    "quant_diff_reml = quantile(vec(abs.(gemma_samples_results .- bulklmm_samples_results_reml)), [0.25, 0.5, 0.75, 0.99]);"
   ]
  },
  {
   "cell_type": "code",
   "execution_count": null,
   "id": "bfc6a718-87db-40d1-826a-2388cf292c47",
   "metadata": {},
   "outputs": [],
   "source": [
    "p*1000"
   ]
  },
  {
   "cell_type": "code",
   "execution_count": null,
   "id": "750ad4e6-62b3-40d0-ba5f-6b67a02d9365",
   "metadata": {},
   "outputs": [],
   "source": [
    "p"
   ]
  },
  {
   "cell_type": "code",
   "execution_count": null,
   "id": "20d70358-3ad6-4cc6-bba4-17bc5b1d57d0",
   "metadata": {},
   "outputs": [],
   "source": [
    "plot(vec(gemma_samples_results)[1:1000], label = \"GEMMA\")\n",
    "plot!(vec(bulklmm_samples_results_reml)[1:1000], label = \"BulkLMM\")"
   ]
  },
  {
   "cell_type": "code",
   "execution_count": null,
   "id": "f1769e38-ef6c-4d6d-ab93-536a64760de7",
   "metadata": {},
   "outputs": [],
   "source": [
    "cor(vec(gemma_samples_results), vec(bulklmm_samples_results_reml))"
   ]
  },
  {
   "cell_type": "code",
   "execution_count": null,
   "id": "0579eb68-df47-4ee4-a77b-072156f64617",
   "metadata": {},
   "outputs": [],
   "source": [
    "ones(3, 10)*ones(10)"
   ]
  },
  {
   "cell_type": "code",
   "execution_count": null,
   "id": "44d23dfb-1170-421f-ba57-673f7fe43b93",
   "metadata": {},
   "outputs": [],
   "source": [
    "summary_diff = DataFrame(vcat([mean_diff_ml mean_diff_reml], hcat(quant_diff_ml, quant_diff_reml)), [\"ML\", \"REML\"]);\n",
    "summary_diff = hcat([\"Mean\", \"0.25\", \"0.50\", \"0.75\", \"0.99\"], summary_diff)"
   ]
  }
 ],
 "metadata": {
  "kernelspec": {
   "display_name": "Julia 16 Threads 1.7.3",
   "language": "julia",
   "name": "julia-16-threads-1.7"
  },
  "language_info": {
   "file_extension": ".jl",
   "mimetype": "application/julia",
   "name": "julia",
   "version": "1.7.3"
  }
 },
 "nbformat": 4,
 "nbformat_minor": 5
}
