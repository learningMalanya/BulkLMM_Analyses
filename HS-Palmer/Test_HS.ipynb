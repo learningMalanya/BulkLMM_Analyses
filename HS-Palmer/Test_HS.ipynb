{
 "cells": [
  {
   "cell_type": "code",
   "execution_count": 4,
   "id": "5d2d29e6-3311-4a00-8e85-e0f8a2ab7e31",
   "metadata": {},
   "outputs": [],
   "source": [
    "using CSV, DataFrames"
   ]
  },
  {
   "cell_type": "code",
   "execution_count": 5,
   "id": "de785ca9-07ad-48d4-8863-8be8dea67ba5",
   "metadata": {},
   "outputs": [],
   "source": [
    "using GeneNetworkAPI"
   ]
  },
  {
   "cell_type": "code",
   "execution_count": 15,
   "id": "5a9c3836-24c6-4237-8cb5-d85baeb539cb",
   "metadata": {},
   "outputs": [
    {
     "data": {
      "text/plain": [
       "\"HSNIH-Palmer\""
      ]
     },
     "execution_count": 15,
     "metadata": {},
     "output_type": "execute_result"
    }
   ],
   "source": [
    "Rats_groups = list_groups(\"rat\");\n",
    "HS_group = Rats_groups[4, :Name];"
   ]
  },
  {
   "cell_type": "code",
   "execution_count": 18,
   "id": "f0c59f3b-b575-47f9-8bb6-d5fa2a44ee5b",
   "metadata": {},
   "outputs": [],
   "source": [
    "HS_datasets = list_datasets(HS_group);\n",
    "HS_dataset_to_test = HS_datasets[6, :];"
   ]
  },
  {
   "cell_type": "code",
   "execution_count": 8,
   "id": "1535462e-a591-4119-bdeb-d57c25267a2d",
   "metadata": {},
   "outputs": [
    {
     "data": {
      "text/plain": [
       "\"http://gn2.genenetwork.org/api/v_pre1/\""
      ]
     },
     "execution_count": 8,
     "metadata": {},
     "output_type": "execute_result"
    }
   ],
   "source": [
    "gn_url()"
   ]
  },
  {
   "cell_type": "code",
   "execution_count": 19,
   "id": "5e071488-38a0-4961-bf32-37b91a6fcdfa",
   "metadata": {},
   "outputs": [
    {
     "data": {
      "text/html": [
       "<div><div style = \"float: left;\"><span>DataFrameRow (11 columns)</span></div><div style = \"clear: both;\"></div></div><div class = \"data-frame\" style = \"overflow-x: scroll;\"><table class = \"data-frame\" style = \"margin-bottom: 6px;\"><thead><tr class = \"header\"><th class = \"rowLabel\" style = \"font-weight: bold; text-align: right;\">Row</th><th style = \"text-align: left;\">AvgID</th><th style = \"text-align: left;\">CreateTime</th><th style = \"text-align: left;\">DataScale</th><th style = \"text-align: left;\">FullName</th><th style = \"text-align: left;\">Id</th><th style = \"text-align: left;\">Long_Abbreviation</th><th style = \"text-align: left;\">ProbeFreezeId</th><th style = \"text-align: left;\">ShortName</th><th style = \"text-align: left;\">Short_Abbreviation</th><th style = \"text-align: left;\">confidentiality</th><th style = \"text-align: left;\">public</th></tr><tr class = \"subheader headerLastRow\"><th class = \"rowLabel\" style = \"font-weight: bold; text-align: right;\"></th><th title = \"Int64\" style = \"text-align: left;\">Int64</th><th title = \"String\" style = \"text-align: left;\">String</th><th title = \"String\" style = \"text-align: left;\">String</th><th title = \"String\" style = \"text-align: left;\">String</th><th title = \"Int64\" style = \"text-align: left;\">Int64</th><th title = \"String\" style = \"text-align: left;\">String</th><th title = \"Int64\" style = \"text-align: left;\">Int64</th><th title = \"String\" style = \"text-align: left;\">String</th><th title = \"String\" style = \"text-align: left;\">String</th><th title = \"Int64\" style = \"text-align: left;\">Int64</th><th title = \"Int64\" style = \"text-align: left;\">Int64</th></tr></thead><tbody><tr><td class = \"rowLabel\" style = \"font-weight: bold; text-align: right;\">6</td><td style = \"text-align: right;\">24</td><td style = \"text-align: left;\">Fri, 14 Sep 2018 00:00:00 GMT</td><td style = \"text-align: left;\">log2</td><td style = \"text-align: left;\">HSNIH-Palmer Nucleus Accumbens Core RNA-Seq (Aug18) log2</td><td style = \"text-align: right;\">868</td><td style = \"text-align: left;\">HSNIH-Rat-Acbc-RSeqlog2-Aug18</td><td style = \"text-align: right;\">347</td><td style = \"text-align: left;\">HSNIH-Palmer Nucleus Accumbens Core RNA-Seq (Aug18) log2</td><td style = \"text-align: left;\">HSNIH-Rat-Acbc-RSeqlog2-0818</td><td style = \"text-align: right;\">0</td><td style = \"text-align: right;\">0</td></tr></tbody></table></div>"
      ],
      "text/latex": [
       "\\begin{tabular}{r|ccccc}\n",
       "\t& AvgID & CreateTime & DataScale & FullName & \\\\\n",
       "\t\\hline\n",
       "\t& Int64 & String & String & String & \\\\\n",
       "\t\\hline\n",
       "\t6 & 24 & Fri, 14 Sep 2018 00:00:00 GMT & log2 & HSNIH-Palmer Nucleus Accumbens Core RNA-Seq (Aug18) log2 & $\\dots$ \\\\\n",
       "\\end{tabular}\n"
      ],
      "text/plain": [
       "\u001b[1mDataFrameRow\u001b[0m\n",
       "\u001b[1m Row \u001b[0m│\u001b[1m AvgID \u001b[0m\u001b[1m CreateTime                    \u001b[0m\u001b[1m DataScale \u001b[0m\u001b[1m FullName              \u001b[0m ⋯\n",
       "     │\u001b[90m Int64 \u001b[0m\u001b[90m String                        \u001b[0m\u001b[90m String    \u001b[0m\u001b[90m String                \u001b[0m ⋯\n",
       "─────┼──────────────────────────────────────────────────────────────────────────\n",
       "   6 │    24  Fri, 14 Sep 2018 00:00:00 GMT  log2       HSNIH-Palmer Nucleus A ⋯\n",
       "\u001b[36m                                                               8 columns omitted\u001b[0m"
      ]
     },
     "execution_count": 19,
     "metadata": {},
     "output_type": "execute_result"
    }
   ],
   "source": [
    "HS_dataset_to_test = HS_datasets[6, :]"
   ]
  },
  {
   "cell_type": "code",
   "execution_count": 20,
   "id": "593d616f-2161-4021-92e3-c5dd7bb71e0d",
   "metadata": {},
   "outputs": [
    {
     "ename": "LoadError",
     "evalue": "UndefVarError: get_omics not defined",
     "output_type": "error",
     "traceback": [
      "UndefVarError: get_omics not defined",
      "",
      "Stacktrace:",
      " [1] top-level scope",
      "   @ In[20]:1"
     ]
    }
   ],
   "source": [
    "@time omic_pheno = get_omics(HS_dataset_to_test[:ShortName])"
   ]
  },
  {
   "cell_type": "code",
   "execution_count": null,
   "id": "bedb6c61-b709-4740-90e8-274af884116e",
   "metadata": {},
   "outputs": [],
   "source": [
    "# geno = get_geno(\"HSNIH-Palmer\")"
   ]
  },
  {
   "cell_type": "code",
   "execution_count": null,
   "id": "76082735-bad1-4e63-9907-a60ae98f9e6e",
   "metadata": {},
   "outputs": [],
   "source": []
  },
  {
   "cell_type": "code",
   "execution_count": null,
   "id": "02dfb2fb-bf15-47c5-a76e-8d549a25fb81",
   "metadata": {},
   "outputs": [],
   "source": []
  }
 ],
 "metadata": {
  "kernelspec": {
   "display_name": "Julia 1.8.2",
   "language": "julia",
   "name": "julia-1.8"
  },
  "language_info": {
   "file_extension": ".jl",
   "mimetype": "application/julia",
   "name": "julia",
   "version": "1.8.2"
  }
 },
 "nbformat": 4,
 "nbformat_minor": 5
}
