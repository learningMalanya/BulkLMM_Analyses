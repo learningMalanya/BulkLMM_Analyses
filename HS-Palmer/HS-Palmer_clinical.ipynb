{
 "cells": [
  {
   "cell_type": "code",
   "execution_count": 1,
   "id": "be366b62-fa5c-4b40-a324-cd121d9aed1a",
   "metadata": {},
   "outputs": [],
   "source": [
    "using CSV, DelimitedFiles, DataFrames, Missings, XLSX\n",
    "using LinearAlgebra, Statistics, Optim, StatsBase\n",
    "using Random, Distributions\n",
    "using BenchmarkTools\n",
    "using Plots"
   ]
  },
  {
   "cell_type": "code",
   "execution_count": 2,
   "id": "5638e010-499e-4fce-8071-6a10314e5ff9",
   "metadata": {},
   "outputs": [],
   "source": [
    "using CSV, DataFrames, DelimitedFiles # packages for manipulating data\n",
    "using GeneNetworkAPI"
   ]
  },
  {
   "cell_type": "code",
   "execution_count": 3,
   "id": "cddfd2a1-d2e7-438c-89fe-589c30af7a4e",
   "metadata": {},
   "outputs": [
    {
     "ename": "LoadError",
     "evalue": "HTTP.Exceptions.RequestError(HTTP.Messages.Request:\n\"\"\"\nGET /api/v_pre1/ HTTP/1.1\r\nHost: gn2.genenetwork.org\r\nAccept: */*\r\nUser-Agent: HTTP.jl/1.7.3\r\nContent-Length: 0\r\nAccept-Encoding: gzip\r\n\r\n\"\"\", EOFError())",
     "output_type": "error",
     "traceback": [
      "HTTP.Exceptions.RequestError(HTTP.Messages.Request:\n\"\"\"\nGET /api/v_pre1/ HTTP/1.1\r\nHost: gn2.genenetwork.org\r\nAccept: */*\r\nUser-Agent: HTTP.jl/1.7.3\r\nContent-Length: 0\r\nAccept-Encoding: gzip\r\n\r\n\"\"\", EOFError())",
      "",
      "Stacktrace:",
      "  [1] (::HTTP.ConnectionRequest.var\"#1#7\"{HTTP.ConnectionRequest.var\"#1#2#8\"{HTTP.TimeoutRequest.var\"#1#6\"{HTTP.TimeoutRequest.var\"#1#2#7\"{HTTP.ExceptionRequest.var\"#1#3\"{HTTP.ExceptionRequest.var\"#1#2#4\"{typeof(HTTP.StreamRequest.streamlayer)}}}}}})(req::HTTP.Messages.Request; proxy::Nothing, socket_type::Type, socket_type_tls::Type, readtimeout::Int64, kw::Base.Pairs{Symbol, Union{Nothing, Int64}, Tuple{Symbol, Symbol, Symbol}, NamedTuple{(:iofunction, :decompress, :verbose), Tuple{Nothing, Nothing, Int64}}})",
      "    @ HTTP.ConnectionRequest ~/.julia/packages/HTTP/RxlHW/src/clientlayers/ConnectionRequest.jl:121",
      "  [2] (::HTTP.CanonicalizeRequest.var\"#1#3\"{HTTP.CanonicalizeRequest.var\"#1#2#4\"{HTTP.ConnectionRequest.var\"#1#7\"{HTTP.ConnectionRequest.var\"#1#2#8\"{HTTP.TimeoutRequest.var\"#1#6\"{HTTP.TimeoutRequest.var\"#1#2#7\"{HTTP.ExceptionRequest.var\"#1#3\"{HTTP.ExceptionRequest.var\"#1#2#4\"{typeof(HTTP.StreamRequest.streamlayer)}}}}}}}})(req::HTTP.Messages.Request; canonicalize_headers::Bool, kw::Base.Pairs{Symbol, Union{Nothing, Int64}, Tuple{Symbol, Symbol, Symbol}, NamedTuple{(:iofunction, :decompress, :verbose), Tuple{Nothing, Nothing, Int64}}})",
      "    @ HTTP.CanonicalizeRequest ~/.julia/packages/HTTP/RxlHW/src/clientlayers/CanonicalizeRequest.jl:17",
      "  [3] (::Base.var\"#76#78\"{Base.var\"#76#77#79\"{ExponentialBackOff, HTTP.RetryRequest.var\"#3#6\"{Int64, typeof(HTTP.RetryRequest.FALSE), HTTP.Messages.Request, Base.RefValue{Int64}}, HTTP.CanonicalizeRequest.var\"#1#3\"{HTTP.CanonicalizeRequest.var\"#1#2#4\"{HTTP.ConnectionRequest.var\"#1#7\"{HTTP.ConnectionRequest.var\"#1#2#8\"{HTTP.TimeoutRequest.var\"#1#6\"{HTTP.TimeoutRequest.var\"#1#2#7\"{HTTP.ExceptionRequest.var\"#1#3\"{HTTP.ExceptionRequest.var\"#1#2#4\"{typeof(HTTP.StreamRequest.streamlayer)}}}}}}}}}})(args::HTTP.Messages.Request; kwargs::Base.Pairs{Symbol, Union{Nothing, Int64}, Tuple{Symbol, Symbol, Symbol}, NamedTuple{(:iofunction, :decompress, :verbose), Tuple{Nothing, Nothing, Int64}}})",
      "    @ Base ./error.jl:307",
      "  [4] (::HTTP.RetryRequest.var\"#1#4\"{HTTP.RetryRequest.var\"#1#2#5\"{HTTP.CanonicalizeRequest.var\"#1#3\"{HTTP.CanonicalizeRequest.var\"#1#2#4\"{HTTP.ConnectionRequest.var\"#1#7\"{HTTP.ConnectionRequest.var\"#1#2#8\"{HTTP.TimeoutRequest.var\"#1#6\"{HTTP.TimeoutRequest.var\"#1#2#7\"{HTTP.ExceptionRequest.var\"#1#3\"{HTTP.ExceptionRequest.var\"#1#2#4\"{typeof(HTTP.StreamRequest.streamlayer)}}}}}}}}}})(req::HTTP.Messages.Request; retry::Bool, retries::Int64, retry_delays::ExponentialBackOff, retry_check::Function, retry_non_idempotent::Bool, kw::Base.Pairs{Symbol, Union{Nothing, Int64}, Tuple{Symbol, Symbol, Symbol}, NamedTuple{(:iofunction, :decompress, :verbose), Tuple{Nothing, Nothing, Int64}}})",
      "    @ HTTP.RetryRequest ~/.julia/packages/HTTP/RxlHW/src/clientlayers/RetryRequest.jl:75",
      "  [5] (::HTTP.CookieRequest.var\"#1#5\"{HTTP.CookieRequest.var\"#1#2#6\"{HTTP.RetryRequest.var\"#1#4\"{HTTP.RetryRequest.var\"#1#2#5\"{HTTP.CanonicalizeRequest.var\"#1#3\"{HTTP.CanonicalizeRequest.var\"#1#2#4\"{HTTP.ConnectionRequest.var\"#1#7\"{HTTP.ConnectionRequest.var\"#1#2#8\"{HTTP.TimeoutRequest.var\"#1#6\"{HTTP.TimeoutRequest.var\"#1#2#7\"{HTTP.ExceptionRequest.var\"#1#3\"{HTTP.ExceptionRequest.var\"#1#2#4\"{typeof(HTTP.StreamRequest.streamlayer)}}}}}}}}}}}})(req::HTTP.Messages.Request; cookies::Bool, cookiejar::HTTP.Cookies.CookieJar, kw::Base.Pairs{Symbol, Union{Nothing, Int64}, Tuple{Symbol, Symbol, Symbol}, NamedTuple{(:iofunction, :decompress, :verbose), Tuple{Nothing, Nothing, Int64}}})",
      "    @ HTTP.CookieRequest ~/.julia/packages/HTTP/RxlHW/src/clientlayers/CookieRequest.jl:42",
      "  [6] (::HTTP.ContentTypeDetection.var\"#1#3\"{HTTP.ContentTypeDetection.var\"#1#2#4\"{HTTP.CookieRequest.var\"#1#5\"{HTTP.CookieRequest.var\"#1#2#6\"{HTTP.RetryRequest.var\"#1#4\"{HTTP.RetryRequest.var\"#1#2#5\"{HTTP.CanonicalizeRequest.var\"#1#3\"{HTTP.CanonicalizeRequest.var\"#1#2#4\"{HTTP.ConnectionRequest.var\"#1#7\"{HTTP.ConnectionRequest.var\"#1#2#8\"{HTTP.TimeoutRequest.var\"#1#6\"{HTTP.TimeoutRequest.var\"#1#2#7\"{HTTP.ExceptionRequest.var\"#1#3\"{HTTP.ExceptionRequest.var\"#1#2#4\"{typeof(HTTP.StreamRequest.streamlayer)}}}}}}}}}}}}}})(req::HTTP.Messages.Request; detect_content_type::Bool, kw::Base.Pairs{Symbol, Union{Nothing, Int64}, Tuple{Symbol, Symbol, Symbol}, NamedTuple{(:iofunction, :decompress, :verbose), Tuple{Nothing, Nothing, Int64}}})",
      "    @ HTTP.ContentTypeDetection ~/.julia/packages/HTTP/RxlHW/src/clientlayers/ContentTypeRequest.jl:23",
      "  [7] (::HTTP.BasicAuthRequest.var\"#1#3\"{HTTP.BasicAuthRequest.var\"#1#2#4\"{HTTP.ContentTypeDetection.var\"#1#3\"{HTTP.ContentTypeDetection.var\"#1#2#4\"{HTTP.CookieRequest.var\"#1#5\"{HTTP.CookieRequest.var\"#1#2#6\"{HTTP.RetryRequest.var\"#1#4\"{HTTP.RetryRequest.var\"#1#2#5\"{HTTP.CanonicalizeRequest.var\"#1#3\"{HTTP.CanonicalizeRequest.var\"#1#2#4\"{HTTP.ConnectionRequest.var\"#1#7\"{HTTP.ConnectionRequest.var\"#1#2#8\"{HTTP.TimeoutRequest.var\"#1#6\"{HTTP.TimeoutRequest.var\"#1#2#7\"{HTTP.ExceptionRequest.var\"#1#3\"{HTTP.ExceptionRequest.var\"#1#2#4\"{typeof(HTTP.StreamRequest.streamlayer)}}}}}}}}}}}}}}}})(req::HTTP.Messages.Request; basicauth::Bool, kw::Base.Pairs{Symbol, Union{Nothing, Int64}, Tuple{Symbol, Symbol, Symbol}, NamedTuple{(:iofunction, :decompress, :verbose), Tuple{Nothing, Nothing, Int64}}})",
      "    @ HTTP.BasicAuthRequest ~/.julia/packages/HTTP/RxlHW/src/clientlayers/BasicAuthRequest.jl:22",
      "  [8] (::HTTP.DefaultHeadersRequest.var\"#1#3\"{HTTP.DefaultHeadersRequest.var\"#1#2#4\"{HTTP.BasicAuthRequest.var\"#1#3\"{HTTP.BasicAuthRequest.var\"#1#2#4\"{HTTP.ContentTypeDetection.var\"#1#3\"{HTTP.ContentTypeDetection.var\"#1#2#4\"{HTTP.CookieRequest.var\"#1#5\"{HTTP.CookieRequest.var\"#1#2#6\"{HTTP.RetryRequest.var\"#1#4\"{HTTP.RetryRequest.var\"#1#2#5\"{HTTP.CanonicalizeRequest.var\"#1#3\"{HTTP.CanonicalizeRequest.var\"#1#2#4\"{HTTP.ConnectionRequest.var\"#1#7\"{HTTP.ConnectionRequest.var\"#1#2#8\"{HTTP.TimeoutRequest.var\"#1#6\"{HTTP.TimeoutRequest.var\"#1#2#7\"{HTTP.ExceptionRequest.var\"#1#3\"{HTTP.ExceptionRequest.var\"#1#2#4\"{typeof(HTTP.StreamRequest.streamlayer)}}}}}}}}}}}}}}}}}})(req::HTTP.Messages.Request; iofunction::Nothing, decompress::Nothing, kw::Base.Pairs{Symbol, Int64, Tuple{Symbol}, NamedTuple{(:verbose,), Tuple{Int64}}})",
      "    @ HTTP.DefaultHeadersRequest ~/.julia/packages/HTTP/RxlHW/src/clientlayers/DefaultHeadersRequest.jl:47",
      "  [9] (::HTTP.RedirectRequest.var\"#1#4\"{HTTP.RedirectRequest.var\"#1#2#5\"{HTTP.DefaultHeadersRequest.var\"#1#3\"{HTTP.DefaultHeadersRequest.var\"#1#2#4\"{HTTP.BasicAuthRequest.var\"#1#3\"{HTTP.BasicAuthRequest.var\"#1#2#4\"{HTTP.ContentTypeDetection.var\"#1#3\"{HTTP.ContentTypeDetection.var\"#1#2#4\"{HTTP.CookieRequest.var\"#1#5\"{HTTP.CookieRequest.var\"#1#2#6\"{HTTP.RetryRequest.var\"#1#4\"{HTTP.RetryRequest.var\"#1#2#5\"{HTTP.CanonicalizeRequest.var\"#1#3\"{HTTP.CanonicalizeRequest.var\"#1#2#4\"{HTTP.ConnectionRequest.var\"#1#7\"{HTTP.ConnectionRequest.var\"#1#2#8\"{HTTP.TimeoutRequest.var\"#1#6\"{HTTP.TimeoutRequest.var\"#1#2#7\"{HTTP.ExceptionRequest.var\"#1#3\"{HTTP.ExceptionRequest.var\"#1#2#4\"{typeof(HTTP.StreamRequest.streamlayer)}}}}}}}}}}}}}}}}}}}})(req::HTTP.Messages.Request; redirect::Bool, redirect_limit::Int64, redirect_method::Nothing, forwardheaders::Bool, response_stream::Nothing, kw::Base.Pairs{Symbol, Int64, Tuple{Symbol}, NamedTuple{(:verbose,), Tuple{Int64}}})",
      "    @ HTTP.RedirectRequest ~/.julia/packages/HTTP/RxlHW/src/clientlayers/RedirectRequest.jl:25",
      " [10] #1#2",
      "    @ ~/.julia/packages/HTTP/RxlHW/src/clientlayers/DebugRequest.jl:23 [inlined]",
      " [11] (::HTTP.MessageRequest.var\"#1#3\"{HTTP.MessageRequest.var\"#1#2#4\"{HTTP.DebugRequest.var\"#1#4\"{HTTP.DebugRequest.var\"#1#2#5\"{HTTP.RedirectRequest.var\"#1#4\"{HTTP.RedirectRequest.var\"#1#2#5\"{HTTP.DefaultHeadersRequest.var\"#1#3\"{HTTP.DefaultHeadersRequest.var\"#1#2#4\"{HTTP.BasicAuthRequest.var\"#1#3\"{HTTP.BasicAuthRequest.var\"#1#2#4\"{HTTP.ContentTypeDetection.var\"#1#3\"{HTTP.ContentTypeDetection.var\"#1#2#4\"{HTTP.CookieRequest.var\"#1#5\"{HTTP.CookieRequest.var\"#1#2#6\"{HTTP.RetryRequest.var\"#1#4\"{HTTP.RetryRequest.var\"#1#2#5\"{HTTP.CanonicalizeRequest.var\"#1#3\"{HTTP.CanonicalizeRequest.var\"#1#2#4\"{HTTP.ConnectionRequest.var\"#1#7\"{HTTP.ConnectionRequest.var\"#1#2#8\"{HTTP.TimeoutRequest.var\"#1#6\"{HTTP.TimeoutRequest.var\"#1#2#7\"{HTTP.ExceptionRequest.var\"#1#3\"{HTTP.ExceptionRequest.var\"#1#2#4\"{typeof(HTTP.StreamRequest.streamlayer)}}}}}}}}}}}}}}}}}}}}}}}})(method::String, url::URIs.URI, headers::Nothing, body::Vector{UInt8}; copyheaders::Bool, response_stream::Nothing, http_version::HTTP.Strings.HTTPVersion, kw::Base.Pairs{Symbol, Union{}, Tuple{}, NamedTuple{(), Tuple{}}})",
      "    @ HTTP.MessageRequest ~/.julia/packages/HTTP/RxlHW/src/clientlayers/MessageRequest.jl:27",
      " [12] #1",
      "    @ ~/.julia/packages/HTTP/RxlHW/src/clientlayers/MessageRequest.jl:24 [inlined]",
      " [13] request(stack::HTTP.MessageRequest.var\"#1#3\"{HTTP.MessageRequest.var\"#1#2#4\"{HTTP.DebugRequest.var\"#1#4\"{HTTP.DebugRequest.var\"#1#2#5\"{HTTP.RedirectRequest.var\"#1#4\"{HTTP.RedirectRequest.var\"#1#2#5\"{HTTP.DefaultHeadersRequest.var\"#1#3\"{HTTP.DefaultHeadersRequest.var\"#1#2#4\"{HTTP.BasicAuthRequest.var\"#1#3\"{HTTP.BasicAuthRequest.var\"#1#2#4\"{HTTP.ContentTypeDetection.var\"#1#3\"{HTTP.ContentTypeDetection.var\"#1#2#4\"{HTTP.CookieRequest.var\"#1#5\"{HTTP.CookieRequest.var\"#1#2#6\"{HTTP.RetryRequest.var\"#1#4\"{HTTP.RetryRequest.var\"#1#2#5\"{HTTP.CanonicalizeRequest.var\"#1#3\"{HTTP.CanonicalizeRequest.var\"#1#2#4\"{HTTP.ConnectionRequest.var\"#1#7\"{HTTP.ConnectionRequest.var\"#1#2#8\"{HTTP.TimeoutRequest.var\"#1#6\"{HTTP.TimeoutRequest.var\"#1#2#7\"{HTTP.ExceptionRequest.var\"#1#3\"{HTTP.ExceptionRequest.var\"#1#2#4\"{typeof(HTTP.StreamRequest.streamlayer)}}}}}}}}}}}}}}}}}}}}}}}}, method::String, url::String, h::Nothing, b::Vector{UInt8}, q::Nothing; headers::Nothing, body::Vector{UInt8}, query::Nothing, kw::Base.Pairs{Symbol, Union{}, Tuple{}, NamedTuple{(), Tuple{}}})",
      "    @ HTTP ~/.julia/packages/HTTP/RxlHW/src/HTTP.jl:426",
      " [14] request(stack::Function, method::String, url::String, h::Nothing, b::Vector{UInt8}, q::Nothing)",
      "    @ HTTP ~/.julia/packages/HTTP/RxlHW/src/HTTP.jl:426",
      " [15] #request#16",
      "    @ ~/.julia/packages/HTTP/RxlHW/src/HTTP.jl:286 [inlined]",
      " [16] request (repeats 2 times)",
      "    @ ~/.julia/packages/HTTP/RxlHW/src/HTTP.jl:286 [inlined]",
      " [17] #get#34",
      "    @ ~/.julia/packages/HTTP/RxlHW/src/HTTP.jl:487 [inlined]",
      " [18] get",
      "    @ ~/.julia/packages/HTTP/RxlHW/src/HTTP.jl:487 [inlined]",
      " [19] check_gn (repeats 2 times)",
      "    @ ~/.julia/packages/GeneNetworkAPI/VKdVq/src/query.jl:41 [inlined]",
      " [20] top-level scope",
      "    @ In[3]:1"
     ]
    }
   ],
   "source": [
    "check_gn()"
   ]
  },
  {
   "cell_type": "markdown",
   "id": "15edca68-8b36-448d-800d-5156eb70eadf",
   "metadata": {
    "tags": []
   },
   "source": [
    "### Load BulkLMM functions:"
   ]
  },
  {
   "cell_type": "code",
   "execution_count": 345,
   "id": "b86d0885-1604-4d10-ad05-ef0eeb9748b9",
   "metadata": {},
   "outputs": [],
   "source": [
    "local_path = \"/home/zyu20/git/BulkLMM.jl/src\";"
   ]
  },
  {
   "cell_type": "code",
   "execution_count": 431,
   "id": "ba051e80-ce5e-4abf-92ac-495c37b9cb0a",
   "metadata": {},
   "outputs": [],
   "source": [
    "include(joinpath(local_path, \"kinship.jl\"));\n",
    "include(joinpath(local_path, \"util.jl\"));\n",
    "include(joinpath(local_path, \"wls.jl\"));\n",
    "include(joinpath(local_path, \"lmm.jl\"));\n",
    "include(joinpath(local_path, \"gridbrent.jl\"));\n",
    "include(joinpath(local_path, \"transform_helpers.jl\"));\n",
    "include(joinpath(local_path, \"scan.jl\"));\n",
    "include(joinpath(local_path, \"bulkscan_helpers.jl\"));\n",
    "include(joinpath(local_path, \"bulkscan.jl\"));\n",
    "include(joinpath(local_path, \"readData.jl\"));\n",
    "# include(joinpath(local_path, \"../plot_utils/visuals_utils.jl\"));\n",
    "include(joinpath(local_path, \"analysis_helpers/single_trait_analysis.jl\"));\n",
    "include(\"../../BigRiver_util_code/src/kinship_utils.jl\");\n",
    "include(\"../../BigRiver_util_code/src/run_gemma_utils.jl\");"
   ]
  },
  {
   "cell_type": "code",
   "execution_count": null,
   "id": "1a98095b-55aa-4825-ae1f-043a40fd9c5c",
   "metadata": {},
   "outputs": [],
   "source": []
  }
 ],
 "metadata": {
  "kernelspec": {
   "display_name": "Julia 1.7.3",
   "language": "julia",
   "name": "julia-1.7"
  },
  "language_info": {
   "file_extension": ".jl",
   "mimetype": "application/julia",
   "name": "julia",
   "version": "1.7.3"
  }
 },
 "nbformat": 4,
 "nbformat_minor": 5
}
