{
 "cells": [
  {
   "cell_type": "markdown",
   "id": "0a90f39b-a7dc-461e-bd9b-062a77fe7938",
   "metadata": {},
   "source": [
    "## Data Analysis using BulkLMM - BXD Spleen Study"
   ]
  },
  {
   "cell_type": "code",
   "execution_count": 23,
   "id": "f713ee20-de0b-4c6e-bcf3-f6bac1fda32c",
   "metadata": {},
   "outputs": [],
   "source": [
    "using CSV, DelimitedFiles, DataFrames, Missings, XLSX\n",
    "using LinearAlgebra, Statistics, Optim\n",
    "using Random, Distributions, LoopVectorization\n",
    "using BenchmarkTools"
   ]
  },
  {
   "cell_type": "code",
   "execution_count": 24,
   "id": "2ff72f1e-18f9-47d2-b110-6fac22ef8431",
   "metadata": {},
   "outputs": [],
   "source": [
    "using Plots"
   ]
  },
  {
   "cell_type": "code",
   "execution_count": 25,
   "id": "160bce86-defa-409b-aa0f-606d4ec78bad",
   "metadata": {},
   "outputs": [
    {
     "name": "stdout",
     "output_type": "stream",
     "text": [
      "Julia Version 1.9.2\n",
      "Commit e4ee485e909 (2023-07-05 09:39 UTC)\n",
      "Platform Info:\n",
      "  OS: Linux (x86_64-linux-gnu)\n",
      "  CPU: 48 × Intel(R) Xeon(R) Silver 4214 CPU @ 2.20GHz\n",
      "  WORD_SIZE: 64\n",
      "  LIBM: libopenlibm\n",
      "  LLVM: libLLVM-14.0.6 (ORCJIT, cascadelake)\n",
      "  Threads: 17 on 48 virtual cores\n",
      "Environment:\n",
      "  JULIA_NUM_THREADS = 16\n"
     ]
    }
   ],
   "source": [
    "versioninfo()"
   ]
  },
  {
   "cell_type": "code",
   "execution_count": 26,
   "id": "280f9898-f0ec-4206-aa8a-264278dccdc1",
   "metadata": {},
   "outputs": [],
   "source": [
    "local_path = \"../../BulkLMM.jl/src\";"
   ]
  },
  {
   "cell_type": "code",
   "execution_count": 111,
   "id": "f402ca7a-f9f9-417c-93c2-2e676b15d1e1",
   "metadata": {},
   "outputs": [],
   "source": [
    "include(joinpath(local_path, \"kinship.jl\"));\n",
    "include(joinpath(local_path, \"util.jl\"));\n",
    "include(joinpath(local_path, \"wls.jl\"));\n",
    "include(joinpath(local_path, \"lmm.jl\"));\n",
    "include(joinpath(local_path, \"gridbrent.jl\"));\n",
    "include(joinpath(local_path, \"transform_helpers.jl\"));\n",
    "include(joinpath(local_path, \"scan.jl\"));\n",
    "include(joinpath(local_path, \"bulkscan_helpers.jl\"));\n",
    "include(joinpath(local_path, \"bulkscan.jl\"));\n",
    "include(joinpath(local_path, \"readData.jl\"));\n",
    "include(joinpath(local_path, \"analysis_helpers/single_trait_analysis.jl\"));"
   ]
  },
  {
   "cell_type": "code",
   "execution_count": 28,
   "id": "8af05bef-1358-4ee4-b25b-a62f8ffac8bb",
   "metadata": {},
   "outputs": [],
   "source": [
    "include(joinpath(local_path, \"../test/testHelpers.jl\"));"
   ]
  },
  {
   "cell_type": "markdown",
   "id": "a3e674f2-00af-45b4-bf38-77e3e0edf433",
   "metadata": {},
   "source": [
    "### Load data:"
   ]
  },
  {
   "cell_type": "code",
   "execution_count": 29,
   "id": "d4f869f8-4e9e-4ae8-a148-8bee0a9f771f",
   "metadata": {},
   "outputs": [],
   "source": [
    "bulklmmdir = local_path;\n",
    "pheno_file = joinpath(bulklmmdir,\"..\",\"data/bxdData/spleen-pheno-nomissing.csv\");\n",
    "pheno = readdlm(pheno_file, ',', header = false);\n",
    "pheno_processed = pheno[2:end, 2:(end-1)].*1.0; # exclude the header, the first (transcript ID)and the last columns (sex)"
   ]
  },
  {
   "cell_type": "code",
   "execution_count": 30,
   "id": "f73bb86f-6c66-4bca-80a7-8c267e798e79",
   "metadata": {},
   "outputs": [],
   "source": [
    "geno_file = joinpath(bulklmmdir,\"..\",\"data/bxdData/spleen-bxd-genoprob.csv\");\n",
    "geno = readdlm(geno_file, ',', header = false);\n",
    "geno_processed = geno[2:end, 1:2:end] .* 1.0;"
   ]
  },
  {
   "cell_type": "code",
   "execution_count": 31,
   "id": "3ef1af04-b65c-4ac5-96d2-c5cb7dac4050",
   "metadata": {},
   "outputs": [
    {
     "data": {
      "text/plain": [
       "(79, 35554)"
      ]
     },
     "execution_count": 31,
     "metadata": {},
     "output_type": "execute_result"
    }
   ],
   "source": [
    "size(pheno_processed) # (number of strains, number of traits)"
   ]
  },
  {
   "cell_type": "code",
   "execution_count": 32,
   "id": "09535952-0be9-4c59-b65f-b70699b6adf9",
   "metadata": {},
   "outputs": [
    {
     "data": {
      "text/plain": [
       "(79, 7321)"
      ]
     },
     "execution_count": 32,
     "metadata": {},
     "output_type": "execute_result"
    }
   ],
   "source": [
    "size(geno_processed) # (number of strains, number of traits)"
   ]
  },
  {
   "cell_type": "code",
   "execution_count": 33,
   "id": "7abb8c7d-0a77-4a7f-9671-9c8c24a7f734",
   "metadata": {},
   "outputs": [
    {
     "name": "stdout",
     "output_type": "stream",
     "text": [
      "  0.004578 seconds (8 allocations: 4.508 MiB)\n"
     ]
    }
   ],
   "source": [
    "@time kinship = calcKinship(geno_processed); # calculate K"
   ]
  },
  {
   "cell_type": "code",
   "execution_count": null,
   "id": "18965d29-ad89-4bfb-a395-477b6e99d11f",
   "metadata": {},
   "outputs": [],
   "source": [
    "using Helium"
   ]
  },
  {
   "cell_type": "code",
   "execution_count": null,
   "id": "16f78fa7-ebad-4f94-b13f-207e64b65c4c",
   "metadata": {},
   "outputs": [],
   "source": [
    "kinship = Helium.readhe(joinpath(local_path, \"../test/ref_data_for_tests/kinship_ref.he\"));"
   ]
  },
  {
   "cell_type": "code",
   "execution_count": null,
   "id": "438978fa-d9ef-4c98-b8e8-f2077e97b49d",
   "metadata": {},
   "outputs": [],
   "source": [
    "kinship"
   ]
  },
  {
   "cell_type": "code",
   "execution_count": 19,
   "id": "4b91c7aa-c134-4979-8777-52519f9d4d00",
   "metadata": {},
   "outputs": [
    {
     "data": {
      "text/plain": [
       "24"
      ]
     },
     "execution_count": 19,
     "metadata": {},
     "output_type": "execute_result"
    }
   ],
   "source": [
    "BLAS.get_num_threads()"
   ]
  },
  {
   "cell_type": "code",
   "execution_count": null,
   "id": "84e10584-0efa-453a-aa1a-124ce462dcd9",
   "metadata": {},
   "outputs": [],
   "source": [
    "BLAS.set_num_threads(4)"
   ]
  },
  {
   "cell_type": "code",
   "execution_count": null,
   "id": "003ccf38-6c3f-42f0-8ca1-07359d5c9b05",
   "metadata": {},
   "outputs": [],
   "source": [
    "(D, U) = eigen(kinship);"
   ]
  },
  {
   "cell_type": "code",
   "execution_count": null,
   "id": "ac602c23-01af-48c4-87d1-a9fa0fa6464f",
   "metadata": {},
   "outputs": [],
   "source": [
    "U"
   ]
  },
  {
   "cell_type": "code",
   "execution_count": null,
   "id": "6be340c0-f767-4a29-b73b-2b4f3454f83f",
   "metadata": {},
   "outputs": [],
   "source": [
    "D"
   ]
  },
  {
   "cell_type": "code",
   "execution_count": null,
   "id": "0ea9772c-9297-43d8-8d41-0eacef9dccee",
   "metadata": {},
   "outputs": [],
   "source": [
    "U"
   ]
  },
  {
   "cell_type": "markdown",
   "id": "c53bc0ff-cc08-4318-b070-8a9ba63b2f35",
   "metadata": {},
   "source": [
    "### Single trait scans:"
   ]
  },
  {
   "cell_type": "code",
   "execution_count": 138,
   "id": "2c8b07bd-c2bb-458b-bb4e-48022f0846fb",
   "metadata": {},
   "outputs": [],
   "source": [
    "traitID = 1112;\n",
    "pheno_y = reshape(pheno_processed[:, traitID], :, 1);"
   ]
  },
  {
   "cell_type": "code",
   "execution_count": 139,
   "id": "814aee6a-1cfa-478b-9ace-e0e7faba2d9f",
   "metadata": {},
   "outputs": [
    {
     "name": "stdout",
     "output_type": "stream",
     "text": [
      "  0.060065 seconds (80.96 k allocations: 47.299 MiB)\n"
     ]
    }
   ],
   "source": [
    "@time single_results = scan(pheno_y, geno_processed, kinship);"
   ]
  },
  {
   "cell_type": "code",
   "execution_count": 140,
   "id": "b154cb4c-a34c-4ccb-8b16-c966e5b7d81d",
   "metadata": {},
   "outputs": [
    {
     "data": {
      "text/plain": [
       "0.8500907448548001"
      ]
     },
     "execution_count": 140,
     "metadata": {},
     "output_type": "execute_result"
    }
   ],
   "source": [
    "single_results.h2_null"
   ]
  },
  {
   "cell_type": "code",
   "execution_count": 141,
   "id": "45684b93-b873-49ed-8f54-93b674676127",
   "metadata": {},
   "outputs": [
    {
     "name": "stdout",
     "output_type": "stream",
     "text": [
      "  0.068068 seconds (90.09 k allocations: 146.533 MiB)\n"
     ]
    }
   ],
   "source": [
    "@time single_results_perms = scan(pheno_y, geno_processed, kinship; permutation_test = true, nperms = 1000);"
   ]
  },
  {
   "cell_type": "code",
   "execution_count": 142,
   "id": "36c01086-be63-4151-a650-028dfc50eba4",
   "metadata": {},
   "outputs": [
    {
     "data": {
      "text/plain": [
       "7321-element Vector{Float64}:\n",
       " 0.3776050818288771\n",
       " 0.37760508182887126\n",
       " 0.37760508182887126\n",
       " 0.37760508182887126\n",
       " 0.3776050818288771\n",
       " 0.3776050818288732\n",
       " 0.37760508182887514\n",
       " 0.37760508182887514\n",
       " 0.37760508183021657\n",
       " 0.37760508183021657\n",
       " 0.37760539012006483\n",
       " 0.3777720004833044\n",
       " 0.5735036416999362\n",
       " ⋮\n",
       " 0.00018149541861298162\n",
       " 0.00018149133384645852\n",
       " 0.00018149133384455393\n",
       " 0.012408223483856767\n",
       " 0.07976320868738593\n",
       " 0.079763208687627\n",
       " 0.38873354088127104\n",
       " 0.39210072030207904\n",
       " 0.39211667483269136\n",
       " 0.3818705225343384\n",
       " 0.6715215850741068\n",
       " 0.6715215850742929"
      ]
     },
     "execution_count": 142,
     "metadata": {},
     "output_type": "execute_result"
    }
   ],
   "source": [
    "single_results_perms.lod"
   ]
  },
  {
   "cell_type": "code",
   "execution_count": 143,
   "id": "5a63afbb-70c4-4bee-8778-d519ec761df9",
   "metadata": {},
   "outputs": [
    {
     "data": {
      "text/plain": [
       "7321×1000 Matrix{Float64}:\n",
       " 0.0145766  0.132362  0.881491   …  0.59105     0.438842   0.206609\n",
       " 0.0145766  0.132362  0.881491      0.59105     0.438842   0.206609\n",
       " 0.0145766  0.132362  0.881491      0.59105     0.438842   0.206609\n",
       " 0.0145766  0.132362  0.881491      0.59105     0.438842   0.206609\n",
       " 0.0145766  0.132362  0.881491      0.59105     0.438842   0.206609\n",
       " 0.0145766  0.132362  0.881491   …  0.59105     0.438842   0.206609\n",
       " 0.0145766  0.132362  0.881491      0.59105     0.438842   0.206609\n",
       " 0.0145766  0.132362  0.881491      0.59105     0.438842   0.206609\n",
       " 0.0145766  0.132362  0.881491      0.59105     0.438842   0.206609\n",
       " 0.0145766  0.132362  0.881491      0.59105     0.438842   0.206609\n",
       " 0.0145766  0.132362  0.88149    …  0.591051    0.438841   0.206609\n",
       " 0.0145899  0.132374  0.881268      0.591437    0.438773   0.20665\n",
       " 0.0367593  0.124242  0.447157      1.14994     0.269512   0.227333\n",
       " ⋮                               ⋱                         \n",
       " 0.0427627  1.12733   0.0600414     0.00681622  0.0394586  0.153345\n",
       " 0.0427627  1.12733   0.0600415  …  0.00681626  0.0394588  0.153345\n",
       " 0.0427627  1.12733   0.0600415     0.00681626  0.0394588  0.153345\n",
       " 0.103638   1.19753   0.105226      0.0720095   0.183524   0.142664\n",
       " 0.175186   0.843755  0.0207475     0.166085    0.261061   0.0333501\n",
       " 0.175186   0.843755  0.0207475     0.166085    0.261061   0.0333501\n",
       " 0.388186   0.814422  0.0398615  …  0.236834    0.449706   0.024421\n",
       " 0.395668   0.952267  0.103756      0.222355    0.517418   0.0211526\n",
       " 0.395665   0.95168   0.103402      0.222437    0.517135   0.0211685\n",
       " 0.389662   1.07375   0.199273      0.199973    0.5745     0.0172489\n",
       " 0.551453   0.695378  0.123797      0.1559      0.30786    0.000144065\n",
       " 0.551453   0.695378  0.123797   …  0.1559      0.30786    0.000144065"
      ]
     },
     "execution_count": 143,
     "metadata": {},
     "output_type": "execute_result"
    }
   ],
   "source": [
    "single_results_perms.L_perms"
   ]
  },
  {
   "cell_type": "code",
   "execution_count": 144,
   "id": "90ccb941-6ac2-41fa-b48c-e39a13120908",
   "metadata": {},
   "outputs": [
    {
     "data": {
      "text/plain": [
       "2-element Vector{Float64}:\n",
       " 3.3854\n",
       " 3.6745"
      ]
     },
     "execution_count": 144,
     "metadata": {},
     "output_type": "execute_result"
    }
   ],
   "source": [
    "thrs = get_thresholds(single_results_perms.L_perms, [0.90, 0.95]).thrs\n",
    "round.(thrs; digits = 4)"
   ]
  },
  {
   "cell_type": "markdown",
   "id": "152e7c8d-6d32-49a3-93ea-e79623a99a5d",
   "metadata": {},
   "source": [
    "### Multiple trait scans:"
   ]
  },
  {
   "cell_type": "code",
   "execution_count": 20,
   "id": "7f2741db-1b30-4424-97c8-ec5cb018b819",
   "metadata": {},
   "outputs": [
    {
     "data": {
      "text/plain": [
       "16"
      ]
     },
     "execution_count": 20,
     "metadata": {},
     "output_type": "execute_result"
    }
   ],
   "source": [
    "Threads.nthreads()"
   ]
  },
  {
   "cell_type": "code",
   "execution_count": 21,
   "id": "d864bb90-8f7b-4ed5-9003-d634d62eb677",
   "metadata": {},
   "outputs": [
    {
     "data": {
      "text/plain": [
       "24"
      ]
     },
     "execution_count": 21,
     "metadata": {},
     "output_type": "execute_result"
    }
   ],
   "source": [
    "BLAS.get_num_threads()"
   ]
  },
  {
   "cell_type": "code",
   "execution_count": 17,
   "id": "62f04c4e-0f7f-4514-9a51-6746837a542d",
   "metadata": {},
   "outputs": [],
   "source": [
    "BLAS.set_num_threads(4)"
   ]
  },
  {
   "cell_type": "code",
   "execution_count": 18,
   "id": "57544daf-01b0-4164-986b-8be6ee36108b",
   "metadata": {},
   "outputs": [],
   "source": [
    "h2_grid = collect(0.0:0.01:0.99);"
   ]
  },
  {
   "cell_type": "code",
   "execution_count": 19,
   "id": "64c54fb3-62f5-40b4-b406-8038e9394e03",
   "metadata": {},
   "outputs": [],
   "source": [
    "h2_grid2 = collect(0.0:0.05:0.95);"
   ]
  },
  {
   "cell_type": "code",
   "execution_count": 20,
   "id": "393d0799-a68f-4247-a788-a6f6f893efb9",
   "metadata": {},
   "outputs": [],
   "source": [
    "pheno_st = colStandardize(pheno_processed);"
   ]
  },
  {
   "cell_type": "code",
   "execution_count": 91,
   "id": "b2bd64a4-5340-4b75-8f65-8370801f47bf",
   "metadata": {},
   "outputs": [
    {
     "data": {
      "text/plain": [
       "BenchmarkTools.Trial: 3 samples with 1 evaluation.\n",
       " Range \u001b[90m(\u001b[39m\u001b[36m\u001b[1mmin\u001b[22m\u001b[39m … \u001b[35mmax\u001b[39m\u001b[90m):  \u001b[39m\u001b[36m\u001b[1m1.910 s\u001b[22m\u001b[39m … \u001b[35m  2.038 s\u001b[39m  \u001b[90m┊\u001b[39m GC \u001b[90m(\u001b[39mmin … max\u001b[90m): \u001b[39m0.00% … 0.66%\n",
       " Time  \u001b[90m(\u001b[39m\u001b[34m\u001b[1mmedian\u001b[22m\u001b[39m\u001b[90m):     \u001b[39m\u001b[34m\u001b[1m1.919 s              \u001b[22m\u001b[39m\u001b[90m┊\u001b[39m GC \u001b[90m(\u001b[39mmedian\u001b[90m):    \u001b[39m0.68%\n",
       " Time  \u001b[90m(\u001b[39m\u001b[32m\u001b[1mmean\u001b[22m\u001b[39m ± \u001b[32mσ\u001b[39m\u001b[90m):   \u001b[39m\u001b[32m\u001b[1m1.956 s\u001b[22m\u001b[39m ± \u001b[32m71.492 ms\u001b[39m  \u001b[90m┊\u001b[39m GC \u001b[90m(\u001b[39mmean ± σ\u001b[90m):  \u001b[39m0.45% ± 0.39%\n",
       "\n",
       "  \u001b[34m█\u001b[39m\u001b[39m \u001b[39m \u001b[39m \u001b[39m█\u001b[39m \u001b[39m \u001b[39m \u001b[39m \u001b[39m \u001b[39m \u001b[39m \u001b[39m \u001b[39m \u001b[39m \u001b[39m \u001b[39m \u001b[39m \u001b[39m \u001b[39m \u001b[32m \u001b[39m\u001b[39m \u001b[39m \u001b[39m \u001b[39m \u001b[39m \u001b[39m \u001b[39m \u001b[39m \u001b[39m \u001b[39m \u001b[39m \u001b[39m \u001b[39m \u001b[39m \u001b[39m \u001b[39m \u001b[39m \u001b[39m \u001b[39m \u001b[39m \u001b[39m \u001b[39m \u001b[39m \u001b[39m \u001b[39m \u001b[39m \u001b[39m \u001b[39m \u001b[39m \u001b[39m \u001b[39m \u001b[39m \u001b[39m \u001b[39m \u001b[39m \u001b[39m█\u001b[39m \u001b[39m \n",
       "  \u001b[34m█\u001b[39m\u001b[39m▁\u001b[39m▁\u001b[39m▁\u001b[39m█\u001b[39m▁\u001b[39m▁\u001b[39m▁\u001b[39m▁\u001b[39m▁\u001b[39m▁\u001b[39m▁\u001b[39m▁\u001b[39m▁\u001b[39m▁\u001b[39m▁\u001b[39m▁\u001b[39m▁\u001b[39m▁\u001b[39m▁\u001b[32m▁\u001b[39m\u001b[39m▁\u001b[39m▁\u001b[39m▁\u001b[39m▁\u001b[39m▁\u001b[39m▁\u001b[39m▁\u001b[39m▁\u001b[39m▁\u001b[39m▁\u001b[39m▁\u001b[39m▁\u001b[39m▁\u001b[39m▁\u001b[39m▁\u001b[39m▁\u001b[39m▁\u001b[39m▁\u001b[39m▁\u001b[39m▁\u001b[39m▁\u001b[39m▁\u001b[39m▁\u001b[39m▁\u001b[39m▁\u001b[39m▁\u001b[39m▁\u001b[39m▁\u001b[39m▁\u001b[39m▁\u001b[39m▁\u001b[39m▁\u001b[39m▁\u001b[39m▁\u001b[39m▁\u001b[39m█\u001b[39m \u001b[39m▁\n",
       "  1.91 s\u001b[90m         Histogram: frequency by time\u001b[39m        2.04 s \u001b[0m\u001b[1m<\u001b[22m\n",
       "\n",
       " Memory estimate\u001b[90m: \u001b[39m\u001b[33m5.05 GiB\u001b[39m, allocs estimate\u001b[90m: \u001b[39m\u001b[33m107941\u001b[39m."
      ]
     },
     "execution_count": 91,
     "metadata": {},
     "output_type": "execute_result"
    }
   ],
   "source": [
    "@benchmark bulkscan(pheno_processed, geno_processed, kinship)"
   ]
  },
  {
   "cell_type": "code",
   "execution_count": 115,
   "id": "a248eb5e-ba90-4303-b808-0e63374e9843",
   "metadata": {},
   "outputs": [
    {
     "name": "stdout",
     "output_type": "stream",
     "text": [
      " 11.429474 seconds (1.29 M allocations: 7.066 GiB, 0.55% gc time, 26.63% compilation time: <1% of which was recompilation)\n"
     ]
    }
   ],
   "source": [
    "@time all_results_grid = bulkscan(pheno_processed, geno_processed, kinship; output_pvals = true);"
   ]
  },
  {
   "cell_type": "code",
   "execution_count": 116,
   "id": "bedb0fd2-f4e1-4238-bf4b-6bc354ab9ae2",
   "metadata": {},
   "outputs": [
    {
     "data": {
      "text/plain": [
       "(L = [0.00012008682100828602 0.04714302466927942 … 0.003349166892450877 0.34869129344849176; 0.00012008682100828602 0.04714302466927942 … 0.003349166892450877 0.348691293448486; … ; 0.18170671563925866 0.2541086612310956 … 0.05471098554541802 0.06336333569432846; 0.18170671563924712 0.254108661231171 … 0.05471098554541038 0.06336333569427495], h2_null_list = [0.0, 0.0, 0.0, 0.0, 0.0, 0.0, 0.0, 0.0, 0.0, 0.0  …  0.7, 0.0, 0.0, 0.5, 0.0, 0.0, 0.0, 0.7, 0.0, 0.0], Pvals_mat = [0.9812383707202973 0.6412572440184201 … 0.9011637960803418 0.20508563231731666; 0.9812383707202973 0.6412572440184201 … 0.9011637960803418 0.2050856323173204; … ; 0.3603163488549547 0.2793573495051721 … 0.615702975094421 0.5890700240772564; 0.36031634885497 0.2793573495051007 … 0.6157029750944456 0.5890700240774136], Chisq_df = 1)"
      ]
     },
     "execution_count": 116,
     "metadata": {},
     "output_type": "execute_result"
    }
   ],
   "source": [
    "all_results_grid"
   ]
  },
  {
   "cell_type": "code",
   "execution_count": 112,
   "id": "5a9f039c-e6d8-4386-91ff-4004f8ba3891",
   "metadata": {},
   "outputs": [
    {
     "data": {
      "text/plain": [
       "3.0"
      ]
     },
     "execution_count": 112,
     "metadata": {},
     "output_type": "execute_result"
    }
   ],
   "source": [
    "-log(10, lod2p(3.0, 2))"
   ]
  },
  {
   "cell_type": "code",
   "execution_count": 113,
   "id": "f65f27d0-2e92-4fac-93f9-cb9104ab23d0",
   "metadata": {},
   "outputs": [
    {
     "data": {
      "text/plain": [
       "lod2logP (generic function with 1 method)"
      ]
     },
     "execution_count": 113,
     "metadata": {},
     "output_type": "execute_result"
    }
   ],
   "source": [
    "function lod2logP(LODs::Union{Array{Float64,1},Array{Any,1}},v::Int64)\n",
    "return -log.(10,(ccdf.(Chisq(v),2*log(10)*LODs)))\n",
    "end"
   ]
  },
  {
   "cell_type": "code",
   "execution_count": 114,
   "id": "10da467f-a165-41a6-9def-f8305e9509b2",
   "metadata": {},
   "outputs": [
    {
     "data": {
      "text/plain": [
       "1-element Vector{Float64}:\n",
       " 3.0"
      ]
     },
     "execution_count": 114,
     "metadata": {},
     "output_type": "execute_result"
    }
   ],
   "source": [
    "lod2logP([3.0], 2)"
   ]
  },
  {
   "cell_type": "code",
   "execution_count": 96,
   "id": "59079bca-26bb-4291-b26a-b9c40b1df99e",
   "metadata": {},
   "outputs": [
    {
     "data": {
      "text/plain": [
       "(7321, 35554)"
      ]
     },
     "execution_count": 96,
     "metadata": {},
     "output_type": "execute_result"
    }
   ],
   "source": [
    "size(all_results_grid.L)"
   ]
  },
  {
   "cell_type": "code",
   "execution_count": 95,
   "id": "9dadd8e6-4125-4b53-a7f0-8ee86febe21c",
   "metadata": {},
   "outputs": [
    {
     "data": {
      "text/plain": [
       "(7321, 35554)"
      ]
     },
     "execution_count": 95,
     "metadata": {},
     "output_type": "execute_result"
    }
   ],
   "source": [
    "size(all_results_grid.Pvals_mat)"
   ]
  },
  {
   "cell_type": "code",
   "execution_count": 24,
   "id": "e92a7355-4ef3-4610-8064-97c954e08fcd",
   "metadata": {},
   "outputs": [
    {
     "name": "stdout",
     "output_type": "stream",
     "text": [
      " 10.736517 seconds (49.06 M allocations: 17.617 GiB, 11.09% gc time)\n"
     ]
    }
   ],
   "source": [
    "@time all_results_grid_st = bulkscan_null_grid(pheno_st, geno_processed, kinship, h2_grid;\n",
    "                                               prior_variance = 1.0, prior_sample_size = 0.1);"
   ]
  },
  {
   "cell_type": "code",
   "execution_count": 25,
   "id": "8e085214-cf6c-430b-9b7a-e547dfd3e377",
   "metadata": {},
   "outputs": [
    {
     "name": "stdout",
     "output_type": "stream",
     "text": [
      " 86.247687 seconds (2.86 G allocations: 706.927 GiB, 36.87% gc time, 0.07% compilation time)\n"
     ]
    }
   ],
   "source": [
    "@time all_results_exact = bulkscan_null(pheno_processed, geno_processed, kinship;\n",
    "                                        optim_interval = 1);"
   ]
  },
  {
   "cell_type": "code",
   "execution_count": 26,
   "id": "7bf160bc-fce9-4ed6-a187-e564414efa3f",
   "metadata": {},
   "outputs": [
    {
     "name": "stdout",
     "output_type": "stream",
     "text": [
      " 76.416246 seconds (2.86 G allocations: 706.924 GiB, 37.34% gc time)\n"
     ]
    }
   ],
   "source": [
    "@time all_results_exact_st = bulkscan_null(pheno_st, geno_processed, kinship;\n",
    "                                           prior_variance = 1.0, prior_sample_size = 0.1,\n",
    "                                           optim_interval = 1);"
   ]
  },
  {
   "cell_type": "code",
   "execution_count": 27,
   "id": "940dac2e-0600-429e-b7cf-1c7625aa3b43",
   "metadata": {},
   "outputs": [
    {
     "name": "stdout",
     "output_type": "stream",
     "text": [
      "701.758396 seconds (90.10 M allocations: 810.950 GiB, 16.24% gc time, 0.03% compilation time)\n"
     ]
    }
   ],
   "source": [
    "@time all_results_alt_grid = bulkscan_alt_grid(pheno_processed, geno_processed, kinship, h2_grid);"
   ]
  },
  {
   "cell_type": "code",
   "execution_count": 28,
   "id": "cd0a7bed-ced7-4cab-9cfa-88af6d1d3ecb",
   "metadata": {},
   "outputs": [
    {
     "name": "stdout",
     "output_type": "stream",
     "text": [
      "145.839825 seconds (18.27 M allocations: 171.527 GiB, 16.44% gc time)\n"
     ]
    }
   ],
   "source": [
    "@time all_results_alt_grid2 = bulkscan_alt_grid(pheno_processed, geno_processed, kinship, h2_grid2);"
   ]
  },
  {
   "cell_type": "code",
   "execution_count": 32,
   "id": "a7e1f52d-6f3a-4b0f-b21f-e0ac237147b0",
   "metadata": {},
   "outputs": [
    {
     "data": {
      "text/plain": [
       "3646-element Vector{Int64}:\n",
       "    82\n",
       "    95\n",
       "   107\n",
       "   108\n",
       "   128\n",
       "   153\n",
       "   234\n",
       "   253\n",
       "   258\n",
       "   298\n",
       "   348\n",
       "   354\n",
       "   381\n",
       "     ⋮\n",
       " 35495\n",
       " 35501\n",
       " 35509\n",
       " 35516\n",
       " 35526\n",
       " 35527\n",
       " 35529\n",
       " 35534\n",
       " 35535\n",
       " 35545\n",
       " 35548\n",
       " 35552"
      ]
     },
     "execution_count": 32,
     "metadata": {},
     "output_type": "execute_result"
    }
   ],
   "source": [
    "findall(all_results_grid.h2_null_list .> 0.0)"
   ]
  },
  {
   "cell_type": "code",
   "execution_count": 34,
   "id": "f8271393-9bbe-4c95-b8c2-9cfa10337d92",
   "metadata": {},
   "outputs": [
    {
     "data": {
      "text/plain": [
       "0.78"
      ]
     },
     "execution_count": 34,
     "metadata": {},
     "output_type": "execute_result"
    }
   ],
   "source": [
    "all_results_grid.h2_null_list[82]"
   ]
  },
  {
   "cell_type": "code",
   "execution_count": 35,
   "id": "37914d18-e94a-4830-8e92-92857f70c7aa",
   "metadata": {},
   "outputs": [
    {
     "data": {
      "text/plain": [
       "7321-element Vector{Float64}:\n",
       " 0.57\n",
       " 0.57\n",
       " 0.57\n",
       " 0.57\n",
       " 0.57\n",
       " 0.57\n",
       " 0.57\n",
       " 0.57\n",
       " 0.57\n",
       " 0.57\n",
       " 0.57\n",
       " 0.57\n",
       " 0.56\n",
       " ⋮\n",
       " 0.57\n",
       " 0.57\n",
       " 0.57\n",
       " 0.57\n",
       " 0.59\n",
       " 0.59\n",
       " 0.58\n",
       " 0.59\n",
       " 0.59\n",
       " 0.6\n",
       " 0.59\n",
       " 0.59"
      ]
     },
     "execution_count": 35,
     "metadata": {},
     "output_type": "execute_result"
    }
   ],
   "source": [
    "all_results_alt_grid.h2_panel[:, 82]"
   ]
  },
  {
   "cell_type": "code",
   "execution_count": null,
   "id": "5ad63934-06ad-4410-b791-3aeb522c5447",
   "metadata": {},
   "outputs": [],
   "source": []
  },
  {
   "cell_type": "code",
   "execution_count": 29,
   "id": "b5175e73-56a4-46b2-bd8c-17d8a487b8da",
   "metadata": {},
   "outputs": [
    {
     "data": {
      "text/plain": [
       "7321-element Vector{Float64}:\n",
       " 0.00012008682101093471\n",
       " 0.00012008682101093471\n",
       " 0.00012008682101093471\n",
       " 0.00012008682101093471\n",
       " 0.00012008682101093471\n",
       " 0.00012008682101093471\n",
       " 0.00012008682101093471\n",
       " 0.00012008682101093471\n",
       " 0.00012008682099859131\n",
       " 0.00012008682099859131\n",
       " 0.00012008387637761301\n",
       " 0.00011849771856038352\n",
       " 0.009521311901900588\n",
       " ⋮\n",
       " 0.26017848855422443\n",
       " 0.26017851503361367\n",
       " 0.26017851503361983\n",
       " 0.2534463880193611\n",
       " 0.3782893583076069\n",
       " 0.37828935830770566\n",
       " 0.21935139991554947\n",
       " 0.20144120787677675\n",
       " 0.20153298758761384\n",
       " 0.17782339280604786\n",
       " 0.18170671563925148\n",
       " 0.18170671563923912"
      ]
     },
     "execution_count": 29,
     "metadata": {},
     "output_type": "execute_result"
    }
   ],
   "source": [
    "all_results_alt_grid.L[:, 1]"
   ]
  },
  {
   "cell_type": "code",
   "execution_count": 36,
   "id": "3f902e9c-c014-45c2-98b0-38f7b9269621",
   "metadata": {},
   "outputs": [],
   "source": [
    "include(\"../../BigRiver_util_code/src/kinship_utils.jl\");\n",
    "include(\"../../BigRiver_util_code/src/run_gemma_utils.jl\");"
   ]
  },
  {
   "cell_type": "code",
   "execution_count": 37,
   "id": "21f535d5-3e7a-40e8-8b7c-a42e8b4badaf",
   "metadata": {},
   "outputs": [
    {
     "data": {
      "text/plain": [
       "\"/home/zyu20/git/BulkLMM_Analyses/BXDSpleen\""
      ]
     },
     "execution_count": 37,
     "metadata": {},
     "output_type": "execute_result"
    }
   ],
   "source": [
    "pwd()"
   ]
  },
  {
   "cell_type": "code",
   "execution_count": 41,
   "id": "31587af5-158d-45ea-8529-a3639246e259",
   "metadata": {},
   "outputs": [],
   "source": [
    "gmap = CSV.read(\"../../BulkLMM.jl/data/bxdData/gmap.csv\", DataFrame);"
   ]
  },
  {
   "cell_type": "code",
   "execution_count": 44,
   "id": "01d67305-ae14-40da-89eb-1aa9f94b2af8",
   "metadata": {},
   "outputs": [],
   "source": [
    "marker_names = gmap.Locus |> x -> String.(x) |> x -> Array{String, 1}(x);"
   ]
  },
  {
   "cell_type": "code",
   "execution_count": 45,
   "id": "073f8eb2-dd07-43ff-8d6e-4f3f0589ff5e",
   "metadata": {},
   "outputs": [],
   "source": [
    "pheno_filename = \"data/GEMMA_data/bxd_spleen_pheno.txt\";\n",
    "geno_filename = \"data/GEMMA_data/bxd_spleen_geno.txt\";\n",
    "kinship_filename = \"data/GEMMA_data/bxd_spleen_kinship.txt\";\n",
    "output_filename = \"results_univariate_LMM\";"
   ]
  },
  {
   "cell_type": "code",
   "execution_count": 48,
   "id": "3302c760-092a-4dee-a4b2-0c9656aca1f7",
   "metadata": {},
   "outputs": [],
   "source": [
    "gemma = \"/home/zyu20/Softwares/gemma-0.98.5-linux-static-AMD64\";"
   ]
  },
  {
   "cell_type": "code",
   "execution_count": 49,
   "id": "eedf5209-0fce-43f7-b377-b36e5d821bb6",
   "metadata": {},
   "outputs": [
    {
     "name": "stdout",
     "output_type": "stream",
     "text": [
      "GEMMA 0.98.5 (2021-08-25) by Xiang Zhou, Pjotr Prins and team (C) 2012-2021\n",
      "Reading Files ... \n",
      "## number of total individuals = 79\n",
      "## number of analyzed individuals = 79\n",
      "## number of covariates = 1\n",
      "## number of phenotypes = 1\n",
      "## number of total SNPs/var        =     7321\n",
      "## number of analyzed SNPs         =     7321\n",
      "Start Eigen-Decomposition...\n",
      "pve estimate =0.677983\n",
      "se(pve) =0.202993\n",
      "================================================== 100%\n"
     ]
    },
    {
     "name": "stderr",
     "output_type": "stream",
     "text": [
      "**** INFO: Done.\n"
     ]
    },
    {
     "name": "stdout",
     "output_type": "stream",
     "text": [
      "  2.741495 seconds (3.83 M allocations: 329.091 MiB, 38.53% gc time, 10.02% compilation time)\n"
     ]
    }
   ],
   "source": [
    "@time gemma_one_trait_results = run_gemma(reshape(pheno_processed[:, 82], :, 1), geno_processed, kinship,\n",
    "                                        [\"A\", \"B\"], marker_names,\n",
    "                                        pheno_filename, geno_filename, kinship_filename, \n",
    "                                        output_filename, \n",
    "                                        gemma);"
   ]
  },
  {
   "cell_type": "code",
   "execution_count": 53,
   "id": "0898d1e5-a9bd-4912-aadb-f3566a3ab6b4",
   "metadata": {},
   "outputs": [
    {
     "data": {
      "text/plain": [
       "0.7817412174810534"
      ]
     },
     "execution_count": 53,
     "metadata": {},
     "output_type": "execute_result"
    }
   ],
   "source": [
    "all_results_exact.h2_null_list[82]"
   ]
  },
  {
   "cell_type": "code",
   "execution_count": 55,
   "id": "28738e4b-6ab6-4c31-ac67-2dcf3b8fa1cc",
   "metadata": {},
   "outputs": [
    {
     "name": "stdout",
     "output_type": "stream",
     "text": [
      "  0.083102 seconds (81.13 k allocations: 47.366 MiB, 24.75% gc time)\n"
     ]
    }
   ],
   "source": [
    "@time test_single_trait = scan(reshape(pheno_processed[:, 82], :, 1), geno_processed, kinship);"
   ]
  },
  {
   "cell_type": "code",
   "execution_count": 56,
   "id": "34911e71-cf5a-4b40-b418-ef3b516f4016",
   "metadata": {},
   "outputs": [
    {
     "data": {
      "text/plain": [
       "0.7817412174810534"
      ]
     },
     "execution_count": 56,
     "metadata": {},
     "output_type": "execute_result"
    }
   ],
   "source": [
    "test_single_trait.h2_null"
   ]
  },
  {
   "cell_type": "code",
   "execution_count": 58,
   "id": "b58f80f5-96a0-4c8c-8c8d-13112f0aad04",
   "metadata": {},
   "outputs": [
    {
     "data": {
      "text/plain": [
       "7321×4 Matrix{Float64}:\n",
       " 0.356661    0.376053     0.376053     0.376463\n",
       " 0.356661    0.376053     0.376053     0.376463\n",
       " 0.356661    0.376053     0.376053     0.376463\n",
       " 0.356661    0.376053     0.376053     0.376463\n",
       " 0.356661    0.376053     0.376053     0.376463\n",
       " 0.356661    0.376053     0.376053     0.376463\n",
       " 0.356661    0.376053     0.376053     0.376463\n",
       " 0.356661    0.376053     0.376053     0.376463\n",
       " 0.356661    0.376053     0.376053     0.376463\n",
       " 0.356661    0.376053     0.376053     0.376463\n",
       " 0.356661    0.376052     0.376052     0.376463\n",
       " 0.356494    0.375938     0.375938     0.376349\n",
       " 0.0715195   0.176568     0.176568     0.177043\n",
       " ⋮                                     \n",
       " 0.00111885  0.0029897    0.0029897    0.0030035\n",
       " 0.00111885  0.0029897    0.0029897    0.00300349\n",
       " 0.00111885  0.0029897    0.0029897    0.00300349\n",
       " 3.41986e-5  0.000736934  0.000736934  0.000756148\n",
       " 0.248875    0.0381599    0.0381599    0.0377643\n",
       " 0.248875    0.0381599    0.0381599    0.0377643\n",
       " 0.199677    0.0213005    0.0213005    0.0209952\n",
       " 0.279782    0.0479837    0.0479837    0.0474979\n",
       " 0.27941     0.04784      0.04784      0.047355\n",
       " 0.365094    0.0858916    0.0858916    0.0852184\n",
       " 0.359621    0.0435649    0.0435649    0.0430319\n",
       " 0.359621    0.0435649    0.0435649    0.0430319"
      ]
     },
     "execution_count": 58,
     "metadata": {},
     "output_type": "execute_result"
    }
   ],
   "source": [
    "hcat(gemma_one_trait_results, test_single_trait.lod, all_results_exact.L[:, 82], all_results_grid.L[:, 82])"
   ]
  },
  {
   "cell_type": "code",
   "execution_count": 62,
   "id": "041613b6-5e64-4172-a5fb-ac6abd219219",
   "metadata": {},
   "outputs": [
    {
     "data": {
      "text/plain": [
       "meanAbsDiff (generic function with 1 method)"
      ]
     },
     "execution_count": 62,
     "metadata": {},
     "output_type": "execute_result"
    }
   ],
   "source": [
    "function meanAbsDiff(x, y)\n",
    "    \n",
    "    return mean(abs.(x .- y))\n",
    "    \n",
    "end"
   ]
  },
  {
   "cell_type": "code",
   "execution_count": 63,
   "id": "ba0d95ef-a100-4899-953e-58d41bc64de9",
   "metadata": {},
   "outputs": [
    {
     "data": {
      "text/plain": [
       "0.10815214516551538"
      ]
     },
     "execution_count": 63,
     "metadata": {},
     "output_type": "execute_result"
    }
   ],
   "source": [
    "meanAbsDiff(gemma_one_trait_results, test_single_trait.lod)"
   ]
  },
  {
   "cell_type": "code",
   "execution_count": 65,
   "id": "f3fd21e6-9c78-403b-b062-38ed356279be",
   "metadata": {},
   "outputs": [
    {
     "data": {
      "text/plain": [
       "(0.8248290873637598, CartesianIndex(4918, 1))"
      ]
     },
     "execution_count": 65,
     "metadata": {},
     "output_type": "execute_result"
    }
   ],
   "source": [
    "findmax(abs.(gemma_one_trait_results .- test_single_trait.lod))"
   ]
  },
  {
   "cell_type": "code",
   "execution_count": 66,
   "id": "daf4a372-03a6-4d50-941e-8abaf44960ed",
   "metadata": {},
   "outputs": [
    {
     "data": {
      "text/plain": [
       "1.9718690158524306"
      ]
     },
     "execution_count": 66,
     "metadata": {},
     "output_type": "execute_result"
    }
   ],
   "source": [
    "gemma_one_trait_results[4918]"
   ]
  },
  {
   "cell_type": "code",
   "execution_count": 67,
   "id": "24a58818-7aa7-487a-9593-ce423beb5969",
   "metadata": {},
   "outputs": [
    {
     "data": {
      "text/plain": [
       "1.1470399284886708"
      ]
     },
     "execution_count": 67,
     "metadata": {},
     "output_type": "execute_result"
    }
   ],
   "source": [
    "test_single_trait.lod[4918]"
   ]
  },
  {
   "cell_type": "code",
   "execution_count": null,
   "id": "7d384fa2-73cf-499b-a56b-6bdce5dc4064",
   "metadata": {},
   "outputs": [],
   "source": [
    "plot()"
   ]
  },
  {
   "cell_type": "code",
   "execution_count": 60,
   "id": "6c5d3caf-14bc-45f2-a9a8-462dbfceebf1",
   "metadata": {},
   "outputs": [
    {
     "data": {
      "text/plain": [
       "CartesianIndex{2}[]"
      ]
     },
     "execution_count": 60,
     "metadata": {},
     "output_type": "execute_result"
    }
   ],
   "source": [
    "findall(isnan.(gemma_one_trait_results))"
   ]
  },
  {
   "cell_type": "code",
   "execution_count": 61,
   "id": "0d22d01d-cb25-4b9c-a4e3-23a78b53985a",
   "metadata": {},
   "outputs": [
    {
     "data": {
      "text/plain": [
       "CartesianIndex{2}[]"
      ]
     },
     "execution_count": 61,
     "metadata": {},
     "output_type": "execute_result"
    }
   ],
   "source": [
    "findall(isinf.(gemma_one_trait_results))"
   ]
  },
  {
   "cell_type": "code",
   "execution_count": null,
   "id": "d7bac510-0ce1-4bd2-8f67-5cac253ac000",
   "metadata": {},
   "outputs": [],
   "source": []
  }
 ],
 "metadata": {
  "kernelspec": {
   "display_name": "Julia 16 Threads 1.9.2",
   "language": "julia",
   "name": "julia-16-threads-1.9"
  },
  "language_info": {
   "file_extension": ".jl",
   "mimetype": "application/julia",
   "name": "julia",
   "version": "1.9.2"
  }
 },
 "nbformat": 4,
 "nbformat_minor": 5
}
