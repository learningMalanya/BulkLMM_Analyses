{
 "cells": [
  {
   "cell_type": "markdown",
   "id": "0a90f39b-a7dc-461e-bd9b-062a77fe7938",
   "metadata": {},
   "source": [
    "## Data Analysis using BulkLMM - BXD Spleen Study"
   ]
  },
  {
   "cell_type": "code",
   "execution_count": 67,
   "id": "f713ee20-de0b-4c6e-bcf3-f6bac1fda32c",
   "metadata": {},
   "outputs": [],
   "source": [
    "using CSV, DelimitedFiles, DataFrames, Missings, XLSX\n",
    "using LinearAlgebra, Statistics, Optim\n",
    "using Random, Distributions, LoopVectorization\n",
    "using BenchmarkTools"
   ]
  },
  {
   "cell_type": "code",
   "execution_count": 68,
   "id": "2ff72f1e-18f9-47d2-b110-6fac22ef8431",
   "metadata": {},
   "outputs": [],
   "source": [
    "using Plots"
   ]
  },
  {
   "cell_type": "code",
   "execution_count": 69,
   "id": "280f9898-f0ec-4206-aa8a-264278dccdc1",
   "metadata": {},
   "outputs": [],
   "source": [
    "local_path = \"../../BulkLMM.jl/src\";"
   ]
  },
  {
   "cell_type": "code",
   "execution_count": 70,
   "id": "f402ca7a-f9f9-417c-93c2-2e676b15d1e1",
   "metadata": {},
   "outputs": [],
   "source": [
    "include(joinpath(local_path, \"kinship.jl\"));\n",
    "include(joinpath(local_path, \"util.jl\"));\n",
    "include(joinpath(local_path, \"wls.jl\"));\n",
    "include(joinpath(local_path, \"lmm.jl\"));\n",
    "include(joinpath(local_path, \"gridbrent.jl\"));\n",
    "include(joinpath(local_path, \"transform_helpers.jl\"));\n",
    "include(joinpath(local_path, \"scan.jl\"));\n",
    "include(joinpath(local_path, \"bulkscan_helpers.jl\"));\n",
    "include(joinpath(local_path, \"bulkscan.jl\"));\n",
    "include(joinpath(local_path, \"readData.jl\"));\n",
    "include(joinpath(local_path, \"../plot_utils/visuals_utils.jl\"));\n",
    "include(joinpath(local_path, \"analysis_helpers/single_trait_analysis.jl\"));"
   ]
  },
  {
   "cell_type": "code",
   "execution_count": 71,
   "id": "8af05bef-1358-4ee4-b25b-a62f8ffac8bb",
   "metadata": {},
   "outputs": [],
   "source": [
    "include(joinpath(local_path, \"../test/testHelpers.jl\"));"
   ]
  },
  {
   "cell_type": "markdown",
   "id": "a3e674f2-00af-45b4-bf38-77e3e0edf433",
   "metadata": {},
   "source": [
    "### Load data:"
   ]
  },
  {
   "cell_type": "code",
   "execution_count": 72,
   "id": "d4f869f8-4e9e-4ae8-a148-8bee0a9f771f",
   "metadata": {},
   "outputs": [],
   "source": [
    "bulklmmdir = local_path;\n",
    "pheno_file = joinpath(bulklmmdir,\"..\",\"data/bxdData/spleen-pheno-nomissing.csv\");\n",
    "pheno = readdlm(pheno_file, ',', header = false);\n",
    "pheno_processed = pheno[2:end, 2:(end-1)].*1.0; # exclude the header, the first (transcript ID)and the last columns (sex)"
   ]
  },
  {
   "cell_type": "code",
   "execution_count": 73,
   "id": "f73bb86f-6c66-4bca-80a7-8c267e798e79",
   "metadata": {},
   "outputs": [],
   "source": [
    "geno_file = joinpath(bulklmmdir,\"..\",\"data/bxdData/spleen-bxd-genoprob.csv\");\n",
    "geno = readdlm(geno_file, ',', header = false);\n",
    "geno_processed = geno[2:end, 1:2:end] .* 1.0;"
   ]
  },
  {
   "cell_type": "code",
   "execution_count": 74,
   "id": "3ef1af04-b65c-4ac5-96d2-c5cb7dac4050",
   "metadata": {},
   "outputs": [
    {
     "data": {
      "text/plain": [
       "(79, 35554)"
      ]
     },
     "execution_count": 74,
     "metadata": {},
     "output_type": "execute_result"
    }
   ],
   "source": [
    "size(pheno_processed) # (number of strains, number of traits)"
   ]
  },
  {
   "cell_type": "code",
   "execution_count": 75,
   "id": "09535952-0be9-4c59-b65f-b70699b6adf9",
   "metadata": {},
   "outputs": [
    {
     "data": {
      "text/plain": [
       "(79, 7321)"
      ]
     },
     "execution_count": 75,
     "metadata": {},
     "output_type": "execute_result"
    }
   ],
   "source": [
    "size(geno_processed) # (number of strains, number of traits)"
   ]
  },
  {
   "cell_type": "code",
   "execution_count": 76,
   "id": "7abb8c7d-0a77-4a7f-9671-9c8c24a7f734",
   "metadata": {},
   "outputs": [
    {
     "name": "stdout",
     "output_type": "stream",
     "text": [
      "  0.003851 seconds (8 allocations: 4.508 MiB)\n"
     ]
    }
   ],
   "source": [
    "@time kinship = calcKinship(geno_processed); # calculate K"
   ]
  },
  {
   "cell_type": "code",
   "execution_count": 97,
   "id": "18965d29-ad89-4bfb-a395-477b6e99d11f",
   "metadata": {},
   "outputs": [],
   "source": [
    "using Helium"
   ]
  },
  {
   "cell_type": "code",
   "execution_count": 103,
   "id": "16f78fa7-ebad-4f94-b13f-207e64b65c4c",
   "metadata": {},
   "outputs": [],
   "source": [
    "kinship = Helium.readhe(joinpath(local_path, \"../test/ref_data_for_tests/kinship_ref.he\"));"
   ]
  },
  {
   "cell_type": "code",
   "execution_count": 105,
   "id": "438978fa-d9ef-4c98-b8e8-f2077e97b49d",
   "metadata": {},
   "outputs": [
    {
     "data": {
      "text/plain": [
       "79×79 Matrix{Float64}:\n",
       " 1.0       0.468775  0.561072  0.521241  …  0.413409  0.435544  0.486618\n",
       " 0.468775  1.0       0.482672  0.504428     0.532658  0.48903   0.52606\n",
       " 0.561072  0.482672  1.0       0.374636     0.450499  0.454097  0.463495\n",
       " 0.521241  0.504428  0.374636  1.0          0.469941  0.421916  0.49879\n",
       " 0.502612  0.431555  0.443824  0.57748      0.519702  0.489642  0.453339\n",
       " 0.476439  0.483656  0.567143  0.462734  …  0.512509  0.549544  0.477227\n",
       " 0.46737   0.501131  0.520699  0.527784     0.481495  0.519189  0.43882\n",
       " 0.542552  0.601065  0.506128  0.463305     0.498992  0.479598  0.548914\n",
       " 0.591885  0.403157  0.533686  0.4254       0.448777  0.531941  0.403805\n",
       " 0.44131   0.626412  0.535927  0.447897     0.450781  0.461469  0.571935\n",
       " 0.460221  0.457164  0.460105  0.489863  …  0.49494   0.538491  0.511439\n",
       " 0.507045  0.570826  0.536865  0.614885     0.503228  0.478424  0.519035\n",
       " 0.582004  0.544664  0.516427  0.492061     0.450206  0.442543  0.538099\n",
       " ⋮                                       ⋱                      \n",
       " 0.547831  0.586837  0.481322  0.426634     0.571067  0.476634  0.589146\n",
       " 0.457132  0.511206  0.380453  0.534988     0.588221  0.549221  0.579091\n",
       " 0.477392  0.506164  0.541267  0.41898      0.454311  0.481435  0.559751\n",
       " 0.489399  0.528548  0.483457  0.525943  …  0.547876  0.535073  0.486158\n",
       " 0.58389   0.472835  0.580505  0.490358     0.518962  0.534107  0.509557\n",
       " 0.487631  0.51425   0.464056  0.545526     0.502278  0.504295  0.509852\n",
       " 0.53384   0.525696  0.477289  0.499988     0.517479  0.531326  0.507974\n",
       " 0.542222  0.440798  0.48888   0.442752     0.511201  0.482905  0.492357\n",
       " 0.567299  0.519175  0.62269   0.431862  …  0.582447  0.592256  0.427765\n",
       " 0.413409  0.532658  0.450499  0.469941     1.0       0.682057  0.527483\n",
       " 0.435544  0.48903   0.454097  0.421916     0.682057  1.0       0.488787\n",
       " 0.486618  0.52606   0.463495  0.49879      0.527483  0.488787  1.0"
      ]
     },
     "execution_count": 105,
     "metadata": {},
     "output_type": "execute_result"
    }
   ],
   "source": [
    "kinship"
   ]
  },
  {
   "cell_type": "code",
   "execution_count": 118,
   "id": "003ccf38-6c3f-42f0-8ca1-07359d5c9b05",
   "metadata": {},
   "outputs": [],
   "source": [
    "(D, U) = eigen(kinship);"
   ]
  },
  {
   "cell_type": "code",
   "execution_count": 120,
   "id": "ac602c23-01af-48c4-87d1-a9fa0fa6464f",
   "metadata": {},
   "outputs": [
    {
     "data": {
      "text/plain": [
       "79×79 Matrix{Float64}:\n",
       "  0.0190735     0.0246987    …  -0.0482193  -0.0133657   -0.112473\n",
       " -0.0213265    -0.0302786        0.0550769  -0.0209332   -0.111337\n",
       "  0.0132883    -0.0367073       -0.0489351  -0.115214    -0.109764\n",
       " -0.00604146   -0.0779378        0.143117   -0.0822164   -0.108326\n",
       " -0.0334209     0.072501         0.0523034  -0.114513    -0.110996\n",
       " -0.0225241    -0.0171938    …  -0.123757   -0.0283689   -0.114017\n",
       "  0.0208005     0.0207909        0.0448221  -0.214819    -0.108314\n",
       "  0.0246884     0.000842952      0.161923   -0.0346272   -0.112466\n",
       "  0.0142207    -0.0262684       -0.219273   -0.0977352   -0.11029\n",
       " -0.0101942    -0.0147589        0.0619138   0.0589055   -0.111876\n",
       " -0.00806238    0.00768447   …   0.0829551  -0.0525534   -0.110281\n",
       "  0.0178856     0.0302383        0.122099   -0.0802483   -0.112589\n",
       "  0.0112595     0.00397135       0.0273246   0.0145051   -0.112488\n",
       "  ⋮                          ⋱                           \n",
       " -0.000256379   0.0659407       -0.0574698   0.166124    -0.115953\n",
       "  0.0280068     0.0246546       -0.0445361   0.174214    -0.115649\n",
       " -0.0224118     0.0109779       -0.158352    0.149651    -0.113602\n",
       "  0.00821254   -0.590293     …   0.160723   -0.152121    -0.111483\n",
       "  0.0349154    -0.337188        -0.0719745   0.0191012   -0.115207\n",
       " -0.00876427   -0.052242         0.0963888  -0.0488513   -0.11172\n",
       " -0.0180587    -0.0109637       -0.142962    0.0806911   -0.114282\n",
       "  0.0364267    -0.0143308       -0.173524    0.0580559   -0.112652\n",
       "  0.010901      0.0300381    …   0.0278948  -0.165342    -0.113346\n",
       "  0.008681      0.038299        -0.0275894  -0.00966905  -0.114546\n",
       "  0.0285471     0.00608118      -0.0319615  -0.0848355   -0.114494\n",
       "  0.693924      0.09007          0.280132    0.303588    -0.115868"
      ]
     },
     "execution_count": 120,
     "metadata": {},
     "output_type": "execute_result"
    }
   ],
   "source": [
    "U"
   ]
  },
  {
   "cell_type": "code",
   "execution_count": 121,
   "id": "6be340c0-f767-4a29-b73b-2b4f3454f83f",
   "metadata": {},
   "outputs": [
    {
     "data": {
      "text/plain": [
       "79-element Vector{Float64}:\n",
       "  0.021461314141363087\n",
       "  0.04358579741641602\n",
       "  0.05063483806592917\n",
       "  0.07815830890084606\n",
       "  0.09242646157396982\n",
       "  0.09392839876182107\n",
       "  0.10237082779838497\n",
       "  0.10973863165888074\n",
       "  0.11198205303900768\n",
       "  0.11620523178771042\n",
       "  0.12328359712318004\n",
       "  0.1271533036558814\n",
       "  0.13248853314843423\n",
       "  ⋮\n",
       "  1.0075516581984685\n",
       "  1.0586327972877974\n",
       "  1.0763748359915781\n",
       "  1.1166373240836964\n",
       "  1.3158504843491226\n",
       "  1.3677944991059523\n",
       "  1.407868111853302\n",
       "  1.4225286891840097\n",
       "  1.5345027053453237\n",
       "  1.7103971764089647\n",
       "  2.1123056004034115\n",
       " 40.62195672165135"
      ]
     },
     "execution_count": 121,
     "metadata": {},
     "output_type": "execute_result"
    }
   ],
   "source": [
    "D"
   ]
  },
  {
   "cell_type": "code",
   "execution_count": 122,
   "id": "0ea9772c-9297-43d8-8d41-0eacef9dccee",
   "metadata": {},
   "outputs": [
    {
     "data": {
      "text/plain": [
       "79×79 Matrix{Float64}:\n",
       "  0.0190735     0.0246987    …  -0.0482193  -0.0133657   -0.112473\n",
       " -0.0213265    -0.0302786        0.0550769  -0.0209332   -0.111337\n",
       "  0.0132883    -0.0367073       -0.0489351  -0.115214    -0.109764\n",
       " -0.00604146   -0.0779378        0.143117   -0.0822164   -0.108326\n",
       " -0.0334209     0.072501         0.0523034  -0.114513    -0.110996\n",
       " -0.0225241    -0.0171938    …  -0.123757   -0.0283689   -0.114017\n",
       "  0.0208005     0.0207909        0.0448221  -0.214819    -0.108314\n",
       "  0.0246884     0.000842952      0.161923   -0.0346272   -0.112466\n",
       "  0.0142207    -0.0262684       -0.219273   -0.0977352   -0.11029\n",
       " -0.0101942    -0.0147589        0.0619138   0.0589055   -0.111876\n",
       " -0.00806238    0.00768447   …   0.0829551  -0.0525534   -0.110281\n",
       "  0.0178856     0.0302383        0.122099   -0.0802483   -0.112589\n",
       "  0.0112595     0.00397135       0.0273246   0.0145051   -0.112488\n",
       "  ⋮                          ⋱                           \n",
       " -0.000256379   0.0659407       -0.0574698   0.166124    -0.115953\n",
       "  0.0280068     0.0246546       -0.0445361   0.174214    -0.115649\n",
       " -0.0224118     0.0109779       -0.158352    0.149651    -0.113602\n",
       "  0.00821254   -0.590293     …   0.160723   -0.152121    -0.111483\n",
       "  0.0349154    -0.337188        -0.0719745   0.0191012   -0.115207\n",
       " -0.00876427   -0.052242         0.0963888  -0.0488513   -0.11172\n",
       " -0.0180587    -0.0109637       -0.142962    0.0806911   -0.114282\n",
       "  0.0364267    -0.0143308       -0.173524    0.0580559   -0.112652\n",
       "  0.010901      0.0300381    …   0.0278948  -0.165342    -0.113346\n",
       "  0.008681      0.038299        -0.0275894  -0.00966905  -0.114546\n",
       "  0.0285471     0.00608118      -0.0319615  -0.0848355   -0.114494\n",
       "  0.693924      0.09007          0.280132    0.303588    -0.115868"
      ]
     },
     "execution_count": 122,
     "metadata": {},
     "output_type": "execute_result"
    }
   ],
   "source": [
    "U"
   ]
  },
  {
   "cell_type": "markdown",
   "id": "c53bc0ff-cc08-4318-b070-8a9ba63b2f35",
   "metadata": {},
   "source": [
    "### Single trait scans:"
   ]
  },
  {
   "cell_type": "code",
   "execution_count": 106,
   "id": "2c8b07bd-c2bb-458b-bb4e-48022f0846fb",
   "metadata": {},
   "outputs": [],
   "source": [
    "traitID = 1112;\n",
    "pheno_y = reshape(pheno_processed[:, traitID], :, 1);"
   ]
  },
  {
   "cell_type": "code",
   "execution_count": 107,
   "id": "814aee6a-1cfa-478b-9ace-e0e7faba2d9f",
   "metadata": {},
   "outputs": [
    {
     "name": "stdout",
     "output_type": "stream",
     "text": [
      "  0.062312 seconds (80.96 k allocations: 47.299 MiB)\n"
     ]
    }
   ],
   "source": [
    "@time single_results = scan(pheno_y, geno_processed, kinship);"
   ]
  },
  {
   "cell_type": "code",
   "execution_count": 108,
   "id": "b154cb4c-a34c-4ccb-8b16-c966e5b7d81d",
   "metadata": {},
   "outputs": [
    {
     "data": {
      "text/plain": [
       "0.8500907321951073"
      ]
     },
     "execution_count": 108,
     "metadata": {},
     "output_type": "execute_result"
    }
   ],
   "source": [
    "single_results.h2_null"
   ]
  },
  {
   "cell_type": "code",
   "execution_count": 109,
   "id": "45684b93-b873-49ed-8f54-93b674676127",
   "metadata": {},
   "outputs": [
    {
     "name": "stdout",
     "output_type": "stream",
     "text": [
      "  0.199230 seconds (90.10 k allocations: 146.533 MiB, 66.03% gc time)\n"
     ]
    }
   ],
   "source": [
    "@time single_results_perms = scan(pheno_y, geno_processed, kinship; permutation_test = true, nperms = 1000);"
   ]
  },
  {
   "cell_type": "code",
   "execution_count": 110,
   "id": "36c01086-be63-4151-a650-028dfc50eba4",
   "metadata": {},
   "outputs": [
    {
     "data": {
      "text/plain": [
       "7321-element Vector{Float64}:\n",
       " 0.37760508655538483\n",
       " 0.377605086555379\n",
       " 0.377605086555379\n",
       " 0.377605086555379\n",
       " 0.3776050865553829\n",
       " 0.37760508655538094\n",
       " 0.37760508655538094\n",
       " 0.37760508655538094\n",
       " 0.37760508655672237\n",
       " 0.37760508655672237\n",
       " 0.3776053948465649\n",
       " 0.3777720052053918\n",
       " 0.5735036387974064\n",
       " ⋮\n",
       " 0.00018149567414110386\n",
       " 0.00018149158937077157\n",
       " 0.000181491589368867\n",
       " 0.012408221531143385\n",
       " 0.07976320168939005\n",
       " 0.07976320168963114\n",
       " 0.38873352411061574\n",
       " 0.39210070284182036\n",
       " 0.3921166573740162\n",
       " 0.38187050505547443\n",
       " 0.6715215578738422\n",
       " 0.6715215578740282"
      ]
     },
     "execution_count": 110,
     "metadata": {},
     "output_type": "execute_result"
    }
   ],
   "source": [
    "single_results_perms.lod"
   ]
  },
  {
   "cell_type": "code",
   "execution_count": 111,
   "id": "5a63afbb-70c4-4bee-8778-d519ec761df9",
   "metadata": {},
   "outputs": [
    {
     "data": {
      "text/plain": [
       "7321×1000 Matrix{Float64}:\n",
       " 0.0925555    0.0323978  0.563436  …  0.351524   0.288242   8.84317e-6\n",
       " 0.0925555    0.0323978  0.563436     0.351524   0.288242   8.84317e-6\n",
       " 0.0925555    0.0323978  0.563436     0.351524   0.288242   8.84317e-6\n",
       " 0.0925555    0.0323978  0.563436     0.351524   0.288242   8.84317e-6\n",
       " 0.0925555    0.0323978  0.563436     0.351524   0.288242   8.84317e-6\n",
       " 0.0925555    0.0323978  0.563436  …  0.351524   0.288242   8.84317e-6\n",
       " 0.0925555    0.0323978  0.563436     0.351524   0.288242   8.84317e-6\n",
       " 0.0925555    0.0323978  0.563436     0.351524   0.288242   8.84317e-6\n",
       " 0.0925555    0.0323978  0.563436     0.351524   0.288242   8.84317e-6\n",
       " 0.0925555    0.0323978  0.563436     0.351524   0.288242   8.84317e-6\n",
       " 0.0925555    0.0323978  0.563436  …  0.351524   0.288242   8.84394e-6\n",
       " 0.0925321    0.0323843  0.563165     0.351722   0.288134   9.26413e-6\n",
       " 0.0468724    0.0111665  0.165733     0.61605    0.111364   0.0115794\n",
       " ⋮                                 ⋱                        \n",
       " 0.0231785    1.79385    0.977343     0.0275337  0.065107   0.104645\n",
       " 0.0231785    1.79385    0.977344  …  0.0275337  0.0651072  0.104645\n",
       " 0.0231785    1.79385    0.977344     0.0275337  0.0651072  0.104645\n",
       " 0.0568813    2.11261    1.18009      0.0449164  0.396082   0.0716596\n",
       " 0.000223839  1.66518    0.915073     0.107209   0.63022    0.000222018\n",
       " 0.000223839  1.66518    0.915073     0.107209   0.63022    0.000222018\n",
       " 0.0367437    1.61464    0.793109  …  0.297038   0.824749   0.0567528\n",
       " 0.0725264    1.68539    0.850688     0.331999   0.741933   0.0675772\n",
       " 0.0723409    1.68519    0.850482     0.33186    0.742357   0.0675307\n",
       " 0.12042      1.69899    0.882305     0.358642   0.634391   0.077342\n",
       " 0.360233     1.24649    0.494213     0.27421    0.42609    0.0121173\n",
       " 0.360233     1.24649    0.494213  …  0.27421    0.42609    0.0121173"
      ]
     },
     "execution_count": 111,
     "metadata": {},
     "output_type": "execute_result"
    }
   ],
   "source": [
    "single_results_perms.L_perms"
   ]
  },
  {
   "cell_type": "code",
   "execution_count": 113,
   "id": "90ccb941-6ac2-41fa-b48c-e39a13120908",
   "metadata": {},
   "outputs": [
    {
     "data": {
      "text/plain": [
       "2-element Vector{Float64}:\n",
       " 3.4102\n",
       " 3.7489"
      ]
     },
     "execution_count": 113,
     "metadata": {},
     "output_type": "execute_result"
    }
   ],
   "source": [
    "thrs = get_thresholds(single_results_perms.L_perms, [0.90, 0.95]).thrs\n",
    "round.(thrs; digits = 4)"
   ]
  },
  {
   "cell_type": "markdown",
   "id": "152e7c8d-6d32-49a3-93ea-e79623a99a5d",
   "metadata": {},
   "source": [
    "### Multiple trait scans:"
   ]
  },
  {
   "cell_type": "code",
   "execution_count": 15,
   "id": "7f2741db-1b30-4424-97c8-ec5cb018b819",
   "metadata": {},
   "outputs": [
    {
     "data": {
      "text/plain": [
       "16"
      ]
     },
     "execution_count": 15,
     "metadata": {},
     "output_type": "execute_result"
    }
   ],
   "source": [
    "Threads.nthreads()"
   ]
  },
  {
   "cell_type": "code",
   "execution_count": 16,
   "id": "d864bb90-8f7b-4ed5-9003-d634d62eb677",
   "metadata": {},
   "outputs": [
    {
     "data": {
      "text/plain": [
       "8"
      ]
     },
     "execution_count": 16,
     "metadata": {},
     "output_type": "execute_result"
    }
   ],
   "source": [
    "BLAS.get_num_threads()"
   ]
  },
  {
   "cell_type": "code",
   "execution_count": 17,
   "id": "62f04c4e-0f7f-4514-9a51-6746837a542d",
   "metadata": {},
   "outputs": [],
   "source": [
    "BLAS.set_num_threads(4)"
   ]
  },
  {
   "cell_type": "code",
   "execution_count": 18,
   "id": "57544daf-01b0-4164-986b-8be6ee36108b",
   "metadata": {},
   "outputs": [],
   "source": [
    "h2_grid = collect(0.0:0.01:0.99);"
   ]
  },
  {
   "cell_type": "code",
   "execution_count": 19,
   "id": "64c54fb3-62f5-40b4-b406-8038e9394e03",
   "metadata": {},
   "outputs": [],
   "source": [
    "h2_grid2 = collect(0.0:0.05:0.95);"
   ]
  },
  {
   "cell_type": "code",
   "execution_count": 20,
   "id": "393d0799-a68f-4247-a788-a6f6f893efb9",
   "metadata": {},
   "outputs": [],
   "source": [
    "pheno_st = colStandardize(pheno_processed);"
   ]
  },
  {
   "cell_type": "code",
   "execution_count": 21,
   "id": "b2bd64a4-5340-4b75-8f65-8370801f47bf",
   "metadata": {},
   "outputs": [
    {
     "data": {
      "text/plain": [
       "BenchmarkTools.Trial: 1 sample with 1 evaluation.\n",
       " Single result which took \u001b[34m8.501 s\u001b[39m (6.01% GC) to evaluate,\n",
       " with a memory estimate of \u001b[33m17.66 GiB\u001b[39m, over \u001b[33m49219720\u001b[39m allocations."
      ]
     },
     "execution_count": 21,
     "metadata": {},
     "output_type": "execute_result"
    }
   ],
   "source": [
    "@benchmark bulkscan_null_grid(pheno_processed, geno_processed, kinship, h2_grid)"
   ]
  },
  {
   "cell_type": "code",
   "execution_count": 22,
   "id": "a1f4a9d2-0213-4cbb-a530-f435caba5a46",
   "metadata": {},
   "outputs": [
    {
     "data": {
      "text/plain": [
       "BenchmarkTools.Trial: 2 samples with 1 evaluation.\n",
       " Range \u001b[90m(\u001b[39m\u001b[36m\u001b[1mmin\u001b[22m\u001b[39m … \u001b[35mmax\u001b[39m\u001b[90m):  \u001b[39m\u001b[36m\u001b[1m3.335 s\u001b[22m\u001b[39m … \u001b[35m4.999 s\u001b[39m  \u001b[90m┊\u001b[39m GC \u001b[90m(\u001b[39mmin … max\u001b[90m): \u001b[39m 5.07% … 32.63%\n",
       " Time  \u001b[90m(\u001b[39m\u001b[34m\u001b[1mmedian\u001b[22m\u001b[39m\u001b[90m):     \u001b[39m\u001b[34m\u001b[1m4.167 s            \u001b[22m\u001b[39m\u001b[90m┊\u001b[39m GC \u001b[90m(\u001b[39mmedian\u001b[90m):    \u001b[39m21.60%\n",
       " Time  \u001b[90m(\u001b[39m\u001b[32m\u001b[1mmean\u001b[22m\u001b[39m ± \u001b[32mσ\u001b[39m\u001b[90m):   \u001b[39m\u001b[32m\u001b[1m4.167 s\u001b[22m\u001b[39m ± \u001b[32m1.177 s\u001b[39m  \u001b[90m┊\u001b[39m GC \u001b[90m(\u001b[39mmean ± σ\u001b[90m):  \u001b[39m21.60% ± 19.49%\n",
       "\n",
       "  \u001b[34m█\u001b[39m\u001b[39m \u001b[39m \u001b[39m \u001b[39m \u001b[39m \u001b[39m \u001b[39m \u001b[39m \u001b[39m \u001b[39m \u001b[39m \u001b[39m \u001b[39m \u001b[39m \u001b[39m \u001b[39m \u001b[39m \u001b[39m \u001b[39m \u001b[39m \u001b[39m \u001b[39m \u001b[39m \u001b[39m \u001b[39m \u001b[39m \u001b[39m \u001b[32m \u001b[39m\u001b[39m \u001b[39m \u001b[39m \u001b[39m \u001b[39m \u001b[39m \u001b[39m \u001b[39m \u001b[39m \u001b[39m \u001b[39m \u001b[39m \u001b[39m \u001b[39m \u001b[39m \u001b[39m \u001b[39m \u001b[39m \u001b[39m \u001b[39m \u001b[39m \u001b[39m \u001b[39m \u001b[39m \u001b[39m \u001b[39m█\u001b[39m \u001b[39m \n",
       "  \u001b[34m█\u001b[39m\u001b[39m▁\u001b[39m▁\u001b[39m▁\u001b[39m▁\u001b[39m▁\u001b[39m▁\u001b[39m▁\u001b[39m▁\u001b[39m▁\u001b[39m▁\u001b[39m▁\u001b[39m▁\u001b[39m▁\u001b[39m▁\u001b[39m▁\u001b[39m▁\u001b[39m▁\u001b[39m▁\u001b[39m▁\u001b[39m▁\u001b[39m▁\u001b[39m▁\u001b[39m▁\u001b[39m▁\u001b[39m▁\u001b[39m▁\u001b[39m▁\u001b[32m▁\u001b[39m\u001b[39m▁\u001b[39m▁\u001b[39m▁\u001b[39m▁\u001b[39m▁\u001b[39m▁\u001b[39m▁\u001b[39m▁\u001b[39m▁\u001b[39m▁\u001b[39m▁\u001b[39m▁\u001b[39m▁\u001b[39m▁\u001b[39m▁\u001b[39m▁\u001b[39m▁\u001b[39m▁\u001b[39m▁\u001b[39m▁\u001b[39m▁\u001b[39m▁\u001b[39m▁\u001b[39m▁\u001b[39m▁\u001b[39m█\u001b[39m \u001b[39m▁\n",
       "  3.34 s\u001b[90m        Histogram: frequency by time\u001b[39m          5 s \u001b[0m\u001b[1m<\u001b[22m\n",
       "\n",
       " Memory estimate\u001b[90m: \u001b[39m\u001b[33m6.79 GiB\u001b[39m, allocs estimate\u001b[90m: \u001b[39m\u001b[33m10609693\u001b[39m."
      ]
     },
     "execution_count": 22,
     "metadata": {},
     "output_type": "execute_result"
    }
   ],
   "source": [
    "@benchmark bulkscan_null_grid(pheno_processed, geno_processed, kinship, h2_grid2)"
   ]
  },
  {
   "cell_type": "code",
   "execution_count": 23,
   "id": "a248eb5e-ba90-4303-b808-0e63374e9843",
   "metadata": {},
   "outputs": [
    {
     "name": "stdout",
     "output_type": "stream",
     "text": [
      "  9.863589 seconds (49.22 M allocations: 17.664 GiB, 7.68% gc time)\n"
     ]
    }
   ],
   "source": [
    "@time all_results_grid = bulkscan_null_grid(pheno_processed, geno_processed, kinship, h2_grid);"
   ]
  },
  {
   "cell_type": "code",
   "execution_count": 24,
   "id": "e92a7355-4ef3-4610-8064-97c954e08fcd",
   "metadata": {},
   "outputs": [
    {
     "name": "stdout",
     "output_type": "stream",
     "text": [
      " 10.736517 seconds (49.06 M allocations: 17.617 GiB, 11.09% gc time)\n"
     ]
    }
   ],
   "source": [
    "@time all_results_grid_st = bulkscan_null_grid(pheno_st, geno_processed, kinship, h2_grid;\n",
    "                                               prior_variance = 1.0, prior_sample_size = 0.1);"
   ]
  },
  {
   "cell_type": "code",
   "execution_count": 25,
   "id": "8e085214-cf6c-430b-9b7a-e547dfd3e377",
   "metadata": {},
   "outputs": [
    {
     "name": "stdout",
     "output_type": "stream",
     "text": [
      " 86.247687 seconds (2.86 G allocations: 706.927 GiB, 36.87% gc time, 0.07% compilation time)\n"
     ]
    }
   ],
   "source": [
    "@time all_results_exact = bulkscan_null(pheno_processed, geno_processed, kinship;\n",
    "                                        optim_interval = 1);"
   ]
  },
  {
   "cell_type": "code",
   "execution_count": 26,
   "id": "7bf160bc-fce9-4ed6-a187-e564414efa3f",
   "metadata": {},
   "outputs": [
    {
     "name": "stdout",
     "output_type": "stream",
     "text": [
      " 76.416246 seconds (2.86 G allocations: 706.924 GiB, 37.34% gc time)\n"
     ]
    }
   ],
   "source": [
    "@time all_results_exact_st = bulkscan_null(pheno_st, geno_processed, kinship;\n",
    "                                           prior_variance = 1.0, prior_sample_size = 0.1,\n",
    "                                           optim_interval = 1);"
   ]
  },
  {
   "cell_type": "code",
   "execution_count": 27,
   "id": "940dac2e-0600-429e-b7cf-1c7625aa3b43",
   "metadata": {},
   "outputs": [
    {
     "name": "stdout",
     "output_type": "stream",
     "text": [
      "701.758396 seconds (90.10 M allocations: 810.950 GiB, 16.24% gc time, 0.03% compilation time)\n"
     ]
    }
   ],
   "source": [
    "@time all_results_alt_grid = bulkscan_alt_grid(pheno_processed, geno_processed, kinship, h2_grid);"
   ]
  },
  {
   "cell_type": "code",
   "execution_count": 28,
   "id": "cd0a7bed-ced7-4cab-9cfa-88af6d1d3ecb",
   "metadata": {},
   "outputs": [
    {
     "name": "stdout",
     "output_type": "stream",
     "text": [
      "145.839825 seconds (18.27 M allocations: 171.527 GiB, 16.44% gc time)\n"
     ]
    }
   ],
   "source": [
    "@time all_results_alt_grid2 = bulkscan_alt_grid(pheno_processed, geno_processed, kinship, h2_grid2);"
   ]
  },
  {
   "cell_type": "code",
   "execution_count": 32,
   "id": "a7e1f52d-6f3a-4b0f-b21f-e0ac237147b0",
   "metadata": {},
   "outputs": [
    {
     "data": {
      "text/plain": [
       "3646-element Vector{Int64}:\n",
       "    82\n",
       "    95\n",
       "   107\n",
       "   108\n",
       "   128\n",
       "   153\n",
       "   234\n",
       "   253\n",
       "   258\n",
       "   298\n",
       "   348\n",
       "   354\n",
       "   381\n",
       "     ⋮\n",
       " 35495\n",
       " 35501\n",
       " 35509\n",
       " 35516\n",
       " 35526\n",
       " 35527\n",
       " 35529\n",
       " 35534\n",
       " 35535\n",
       " 35545\n",
       " 35548\n",
       " 35552"
      ]
     },
     "execution_count": 32,
     "metadata": {},
     "output_type": "execute_result"
    }
   ],
   "source": [
    "findall(all_results_grid.h2_null_list .> 0.0)"
   ]
  },
  {
   "cell_type": "code",
   "execution_count": 34,
   "id": "f8271393-9bbe-4c95-b8c2-9cfa10337d92",
   "metadata": {},
   "outputs": [
    {
     "data": {
      "text/plain": [
       "0.78"
      ]
     },
     "execution_count": 34,
     "metadata": {},
     "output_type": "execute_result"
    }
   ],
   "source": [
    "all_results_grid.h2_null_list[82]"
   ]
  },
  {
   "cell_type": "code",
   "execution_count": 35,
   "id": "37914d18-e94a-4830-8e92-92857f70c7aa",
   "metadata": {},
   "outputs": [
    {
     "data": {
      "text/plain": [
       "7321-element Vector{Float64}:\n",
       " 0.57\n",
       " 0.57\n",
       " 0.57\n",
       " 0.57\n",
       " 0.57\n",
       " 0.57\n",
       " 0.57\n",
       " 0.57\n",
       " 0.57\n",
       " 0.57\n",
       " 0.57\n",
       " 0.57\n",
       " 0.56\n",
       " ⋮\n",
       " 0.57\n",
       " 0.57\n",
       " 0.57\n",
       " 0.57\n",
       " 0.59\n",
       " 0.59\n",
       " 0.58\n",
       " 0.59\n",
       " 0.59\n",
       " 0.6\n",
       " 0.59\n",
       " 0.59"
      ]
     },
     "execution_count": 35,
     "metadata": {},
     "output_type": "execute_result"
    }
   ],
   "source": [
    "all_results_alt_grid.h2_panel[:, 82]"
   ]
  },
  {
   "cell_type": "code",
   "execution_count": null,
   "id": "5ad63934-06ad-4410-b791-3aeb522c5447",
   "metadata": {},
   "outputs": [],
   "source": []
  },
  {
   "cell_type": "code",
   "execution_count": 29,
   "id": "b5175e73-56a4-46b2-bd8c-17d8a487b8da",
   "metadata": {},
   "outputs": [
    {
     "data": {
      "text/plain": [
       "7321-element Vector{Float64}:\n",
       " 0.00012008682101093471\n",
       " 0.00012008682101093471\n",
       " 0.00012008682101093471\n",
       " 0.00012008682101093471\n",
       " 0.00012008682101093471\n",
       " 0.00012008682101093471\n",
       " 0.00012008682101093471\n",
       " 0.00012008682101093471\n",
       " 0.00012008682099859131\n",
       " 0.00012008682099859131\n",
       " 0.00012008387637761301\n",
       " 0.00011849771856038352\n",
       " 0.009521311901900588\n",
       " ⋮\n",
       " 0.26017848855422443\n",
       " 0.26017851503361367\n",
       " 0.26017851503361983\n",
       " 0.2534463880193611\n",
       " 0.3782893583076069\n",
       " 0.37828935830770566\n",
       " 0.21935139991554947\n",
       " 0.20144120787677675\n",
       " 0.20153298758761384\n",
       " 0.17782339280604786\n",
       " 0.18170671563925148\n",
       " 0.18170671563923912"
      ]
     },
     "execution_count": 29,
     "metadata": {},
     "output_type": "execute_result"
    }
   ],
   "source": [
    "all_results_alt_grid.L[:, 1]"
   ]
  },
  {
   "cell_type": "code",
   "execution_count": 36,
   "id": "3f902e9c-c014-45c2-98b0-38f7b9269621",
   "metadata": {},
   "outputs": [],
   "source": [
    "include(\"../../BigRiver_util_code/src/kinship_utils.jl\");\n",
    "include(\"../../BigRiver_util_code/src/run_gemma_utils.jl\");"
   ]
  },
  {
   "cell_type": "code",
   "execution_count": 37,
   "id": "21f535d5-3e7a-40e8-8b7c-a42e8b4badaf",
   "metadata": {},
   "outputs": [
    {
     "data": {
      "text/plain": [
       "\"/home/zyu20/git/BulkLMM_Analyses/BXDSpleen\""
      ]
     },
     "execution_count": 37,
     "metadata": {},
     "output_type": "execute_result"
    }
   ],
   "source": [
    "pwd()"
   ]
  },
  {
   "cell_type": "code",
   "execution_count": 41,
   "id": "31587af5-158d-45ea-8529-a3639246e259",
   "metadata": {},
   "outputs": [],
   "source": [
    "gmap = CSV.read(\"../../BulkLMM.jl/data/bxdData/gmap.csv\", DataFrame);"
   ]
  },
  {
   "cell_type": "code",
   "execution_count": 44,
   "id": "01d67305-ae14-40da-89eb-1aa9f94b2af8",
   "metadata": {},
   "outputs": [],
   "source": [
    "marker_names = gmap.Locus |> x -> String.(x) |> x -> Array{String, 1}(x);"
   ]
  },
  {
   "cell_type": "code",
   "execution_count": 45,
   "id": "073f8eb2-dd07-43ff-8d6e-4f3f0589ff5e",
   "metadata": {},
   "outputs": [],
   "source": [
    "pheno_filename = \"data/GEMMA_data/bxd_spleen_pheno.txt\";\n",
    "geno_filename = \"data/GEMMA_data/bxd_spleen_geno.txt\";\n",
    "kinship_filename = \"data/GEMMA_data/bxd_spleen_kinship.txt\";\n",
    "output_filename = \"results_univariate_LMM\";"
   ]
  },
  {
   "cell_type": "code",
   "execution_count": 48,
   "id": "3302c760-092a-4dee-a4b2-0c9656aca1f7",
   "metadata": {},
   "outputs": [],
   "source": [
    "gemma = \"/home/zyu20/Softwares/gemma-0.98.5-linux-static-AMD64\";"
   ]
  },
  {
   "cell_type": "code",
   "execution_count": 49,
   "id": "eedf5209-0fce-43f7-b377-b36e5d821bb6",
   "metadata": {},
   "outputs": [
    {
     "name": "stdout",
     "output_type": "stream",
     "text": [
      "GEMMA 0.98.5 (2021-08-25) by Xiang Zhou, Pjotr Prins and team (C) 2012-2021\n",
      "Reading Files ... \n",
      "## number of total individuals = 79\n",
      "## number of analyzed individuals = 79\n",
      "## number of covariates = 1\n",
      "## number of phenotypes = 1\n",
      "## number of total SNPs/var        =     7321\n",
      "## number of analyzed SNPs         =     7321\n",
      "Start Eigen-Decomposition...\n",
      "pve estimate =0.677983\n",
      "se(pve) =0.202993\n",
      "================================================== 100%\n"
     ]
    },
    {
     "name": "stderr",
     "output_type": "stream",
     "text": [
      "**** INFO: Done.\n"
     ]
    },
    {
     "name": "stdout",
     "output_type": "stream",
     "text": [
      "  2.741495 seconds (3.83 M allocations: 329.091 MiB, 38.53% gc time, 10.02% compilation time)\n"
     ]
    }
   ],
   "source": [
    "@time gemma_one_trait_results = run_gemma(reshape(pheno_processed[:, 82], :, 1), geno_processed, kinship,\n",
    "                                        [\"A\", \"B\"], marker_names,\n",
    "                                        pheno_filename, geno_filename, kinship_filename, \n",
    "                                        output_filename, \n",
    "                                        gemma);"
   ]
  },
  {
   "cell_type": "code",
   "execution_count": 53,
   "id": "0898d1e5-a9bd-4912-aadb-f3566a3ab6b4",
   "metadata": {},
   "outputs": [
    {
     "data": {
      "text/plain": [
       "0.7817412174810534"
      ]
     },
     "execution_count": 53,
     "metadata": {},
     "output_type": "execute_result"
    }
   ],
   "source": [
    "all_results_exact.h2_null_list[82]"
   ]
  },
  {
   "cell_type": "code",
   "execution_count": 55,
   "id": "28738e4b-6ab6-4c31-ac67-2dcf3b8fa1cc",
   "metadata": {},
   "outputs": [
    {
     "name": "stdout",
     "output_type": "stream",
     "text": [
      "  0.083102 seconds (81.13 k allocations: 47.366 MiB, 24.75% gc time)\n"
     ]
    }
   ],
   "source": [
    "@time test_single_trait = scan(reshape(pheno_processed[:, 82], :, 1), geno_processed, kinship);"
   ]
  },
  {
   "cell_type": "code",
   "execution_count": 56,
   "id": "34911e71-cf5a-4b40-b418-ef3b516f4016",
   "metadata": {},
   "outputs": [
    {
     "data": {
      "text/plain": [
       "0.7817412174810534"
      ]
     },
     "execution_count": 56,
     "metadata": {},
     "output_type": "execute_result"
    }
   ],
   "source": [
    "test_single_trait.h2_null"
   ]
  },
  {
   "cell_type": "code",
   "execution_count": 58,
   "id": "b58f80f5-96a0-4c8c-8c8d-13112f0aad04",
   "metadata": {},
   "outputs": [
    {
     "data": {
      "text/plain": [
       "7321×4 Matrix{Float64}:\n",
       " 0.356661    0.376053     0.376053     0.376463\n",
       " 0.356661    0.376053     0.376053     0.376463\n",
       " 0.356661    0.376053     0.376053     0.376463\n",
       " 0.356661    0.376053     0.376053     0.376463\n",
       " 0.356661    0.376053     0.376053     0.376463\n",
       " 0.356661    0.376053     0.376053     0.376463\n",
       " 0.356661    0.376053     0.376053     0.376463\n",
       " 0.356661    0.376053     0.376053     0.376463\n",
       " 0.356661    0.376053     0.376053     0.376463\n",
       " 0.356661    0.376053     0.376053     0.376463\n",
       " 0.356661    0.376052     0.376052     0.376463\n",
       " 0.356494    0.375938     0.375938     0.376349\n",
       " 0.0715195   0.176568     0.176568     0.177043\n",
       " ⋮                                     \n",
       " 0.00111885  0.0029897    0.0029897    0.0030035\n",
       " 0.00111885  0.0029897    0.0029897    0.00300349\n",
       " 0.00111885  0.0029897    0.0029897    0.00300349\n",
       " 3.41986e-5  0.000736934  0.000736934  0.000756148\n",
       " 0.248875    0.0381599    0.0381599    0.0377643\n",
       " 0.248875    0.0381599    0.0381599    0.0377643\n",
       " 0.199677    0.0213005    0.0213005    0.0209952\n",
       " 0.279782    0.0479837    0.0479837    0.0474979\n",
       " 0.27941     0.04784      0.04784      0.047355\n",
       " 0.365094    0.0858916    0.0858916    0.0852184\n",
       " 0.359621    0.0435649    0.0435649    0.0430319\n",
       " 0.359621    0.0435649    0.0435649    0.0430319"
      ]
     },
     "execution_count": 58,
     "metadata": {},
     "output_type": "execute_result"
    }
   ],
   "source": [
    "hcat(gemma_one_trait_results, test_single_trait.lod, all_results_exact.L[:, 82], all_results_grid.L[:, 82])"
   ]
  },
  {
   "cell_type": "code",
   "execution_count": 62,
   "id": "041613b6-5e64-4172-a5fb-ac6abd219219",
   "metadata": {},
   "outputs": [
    {
     "data": {
      "text/plain": [
       "meanAbsDiff (generic function with 1 method)"
      ]
     },
     "execution_count": 62,
     "metadata": {},
     "output_type": "execute_result"
    }
   ],
   "source": [
    "function meanAbsDiff(x, y)\n",
    "    \n",
    "    return mean(abs.(x .- y))\n",
    "    \n",
    "end"
   ]
  },
  {
   "cell_type": "code",
   "execution_count": 63,
   "id": "ba0d95ef-a100-4899-953e-58d41bc64de9",
   "metadata": {},
   "outputs": [
    {
     "data": {
      "text/plain": [
       "0.10815214516551538"
      ]
     },
     "execution_count": 63,
     "metadata": {},
     "output_type": "execute_result"
    }
   ],
   "source": [
    "meanAbsDiff(gemma_one_trait_results, test_single_trait.lod)"
   ]
  },
  {
   "cell_type": "code",
   "execution_count": 65,
   "id": "f3fd21e6-9c78-403b-b062-38ed356279be",
   "metadata": {},
   "outputs": [
    {
     "data": {
      "text/plain": [
       "(0.8248290873637598, CartesianIndex(4918, 1))"
      ]
     },
     "execution_count": 65,
     "metadata": {},
     "output_type": "execute_result"
    }
   ],
   "source": [
    "findmax(abs.(gemma_one_trait_results .- test_single_trait.lod))"
   ]
  },
  {
   "cell_type": "code",
   "execution_count": 66,
   "id": "daf4a372-03a6-4d50-941e-8abaf44960ed",
   "metadata": {},
   "outputs": [
    {
     "data": {
      "text/plain": [
       "1.9718690158524306"
      ]
     },
     "execution_count": 66,
     "metadata": {},
     "output_type": "execute_result"
    }
   ],
   "source": [
    "gemma_one_trait_results[4918]"
   ]
  },
  {
   "cell_type": "code",
   "execution_count": 67,
   "id": "24a58818-7aa7-487a-9593-ce423beb5969",
   "metadata": {},
   "outputs": [
    {
     "data": {
      "text/plain": [
       "1.1470399284886708"
      ]
     },
     "execution_count": 67,
     "metadata": {},
     "output_type": "execute_result"
    }
   ],
   "source": [
    "test_single_trait.lod[4918]"
   ]
  },
  {
   "cell_type": "code",
   "execution_count": null,
   "id": "7d384fa2-73cf-499b-a56b-6bdce5dc4064",
   "metadata": {},
   "outputs": [],
   "source": [
    "plot()"
   ]
  },
  {
   "cell_type": "code",
   "execution_count": 60,
   "id": "6c5d3caf-14bc-45f2-a9a8-462dbfceebf1",
   "metadata": {},
   "outputs": [
    {
     "data": {
      "text/plain": [
       "CartesianIndex{2}[]"
      ]
     },
     "execution_count": 60,
     "metadata": {},
     "output_type": "execute_result"
    }
   ],
   "source": [
    "findall(isnan.(gemma_one_trait_results))"
   ]
  },
  {
   "cell_type": "code",
   "execution_count": 61,
   "id": "0d22d01d-cb25-4b9c-a4e3-23a78b53985a",
   "metadata": {},
   "outputs": [
    {
     "data": {
      "text/plain": [
       "CartesianIndex{2}[]"
      ]
     },
     "execution_count": 61,
     "metadata": {},
     "output_type": "execute_result"
    }
   ],
   "source": [
    "findall(isinf.(gemma_one_trait_results))"
   ]
  },
  {
   "cell_type": "code",
   "execution_count": null,
   "id": "d7bac510-0ce1-4bd2-8f67-5cac253ac000",
   "metadata": {},
   "outputs": [],
   "source": []
  }
 ],
 "metadata": {
  "kernelspec": {
   "display_name": "Julia 16 Threads 1.7.3",
   "language": "julia",
   "name": "julia-16-threads-1.7"
  },
  "language_info": {
   "file_extension": ".jl",
   "mimetype": "application/julia",
   "name": "julia",
   "version": "1.7.3"
  }
 },
 "nbformat": 4,
 "nbformat_minor": 5
}
