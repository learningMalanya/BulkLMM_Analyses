{
 "cells": [
  {
   "cell_type": "markdown",
   "id": "0a90f39b-a7dc-461e-bd9b-062a77fe7938",
   "metadata": {},
   "source": [
    "## Data Analysis using BulkLMM - BXD Spleen Study"
   ]
  },
  {
   "cell_type": "code",
   "execution_count": 1,
   "id": "f713ee20-de0b-4c6e-bcf3-f6bac1fda32c",
   "metadata": {},
   "outputs": [],
   "source": [
    "using CSV, DelimitedFiles, DataFrames, Missings, XLSX\n",
    "using LinearAlgebra, Statistics, Optim\n",
    "using Random, Distributions, LoopVectorization\n",
    "using GeneNetworkAPI, Downloads\n",
    "using BenchmarkTools"
   ]
  },
  {
   "cell_type": "code",
   "execution_count": 2,
   "id": "2ff72f1e-18f9-47d2-b110-6fac22ef8431",
   "metadata": {},
   "outputs": [],
   "source": [
    "using Plots"
   ]
  },
  {
   "cell_type": "code",
   "execution_count": 3,
   "id": "280f9898-f0ec-4206-aa8a-264278dccdc1",
   "metadata": {},
   "outputs": [],
   "source": [
    "local_path = \"../../BulkLMM.jl/src\";"
   ]
  },
  {
   "cell_type": "code",
   "execution_count": 33,
   "id": "f402ca7a-f9f9-417c-93c2-2e676b15d1e1",
   "metadata": {},
   "outputs": [],
   "source": [
    "include(joinpath(local_path, \"kinship.jl\"));\n",
    "include(joinpath(local_path, \"util.jl\"));\n",
    "include(joinpath(local_path, \"wls.jl\"));\n",
    "include(joinpath(local_path, \"lmm.jl\"));\n",
    "include(joinpath(local_path, \"gridbrent.jl\"));\n",
    "include(joinpath(local_path, \"transform_helpers.jl\"));\n",
    "include(joinpath(local_path, \"scan.jl\"));\n",
    "include(joinpath(local_path, \"bulkscan_helpers.jl\"));\n",
    "include(joinpath(local_path, \"bulkscan.jl\"));\n",
    "include(joinpath(local_path, \"readData.jl\"));\n",
    "include(joinpath(local_path, \"../plot_utils/visuals_utils.jl\"));\n",
    "include(joinpath(local_path, \"analysis_helpers/single_trait_analysis.jl\"));"
   ]
  },
  {
   "cell_type": "code",
   "execution_count": 64,
   "id": "8af05bef-1358-4ee4-b25b-a62f8ffac8bb",
   "metadata": {},
   "outputs": [],
   "source": [
    "include(joinpath(local_path, \"../test/testHelpers.jl\"));"
   ]
  },
  {
   "cell_type": "markdown",
   "id": "a3e674f2-00af-45b4-bf38-77e3e0edf433",
   "metadata": {},
   "source": [
    "### Load data:"
   ]
  },
  {
   "cell_type": "code",
   "execution_count": 4,
   "id": "d4f869f8-4e9e-4ae8-a148-8bee0a9f771f",
   "metadata": {},
   "outputs": [],
   "source": [
    "bulklmmdir = local_path;\n",
    "pheno_file = joinpath(bulklmmdir,\"..\",\"data/bxdData/spleen-pheno-nomissing.csv\");\n",
    "pheno = readdlm(pheno_file, ',', header = false);\n",
    "pheno_processed = pheno[2:end, 2:(end-1)].*1.0; # exclude the header, the first (transcript ID)and the last columns (sex)"
   ]
  },
  {
   "cell_type": "code",
   "execution_count": 5,
   "id": "f73bb86f-6c66-4bca-80a7-8c267e798e79",
   "metadata": {},
   "outputs": [],
   "source": [
    "geno_file = joinpath(bulklmmdir,\"..\",\"data/bxdData/spleen-bxd-genoprob.csv\");\n",
    "geno = readdlm(geno_file, ',', header = false);\n",
    "geno_processed = geno[2:end, 1:2:end] .* 1.0;"
   ]
  },
  {
   "cell_type": "code",
   "execution_count": 6,
   "id": "3ef1af04-b65c-4ac5-96d2-c5cb7dac4050",
   "metadata": {},
   "outputs": [
    {
     "data": {
      "text/plain": [
       "(79, 35554)"
      ]
     },
     "execution_count": 6,
     "metadata": {},
     "output_type": "execute_result"
    }
   ],
   "source": [
    "size(pheno_processed) # (number of strains, number of traits)"
   ]
  },
  {
   "cell_type": "code",
   "execution_count": 7,
   "id": "09535952-0be9-4c59-b65f-b70699b6adf9",
   "metadata": {},
   "outputs": [
    {
     "data": {
      "text/plain": [
       "(79, 7321)"
      ]
     },
     "execution_count": 7,
     "metadata": {},
     "output_type": "execute_result"
    }
   ],
   "source": [
    "size(geno_processed) # (number of strains, number of traits)"
   ]
  },
  {
   "cell_type": "code",
   "execution_count": 11,
   "id": "7abb8c7d-0a77-4a7f-9671-9c8c24a7f734",
   "metadata": {},
   "outputs": [
    {
     "name": "stdout",
     "output_type": "stream",
     "text": [
      "  0.306172 seconds (30.81 k allocations: 862.019 MiB, 8.70% gc time)\n"
     ]
    }
   ],
   "source": [
    "@time kinship = calcKinship(geno_processed); # calculate K"
   ]
  },
  {
   "cell_type": "code",
   "execution_count": null,
   "id": "f8f7615d-6fc2-41dc-a894-fbc90fc0fb44",
   "metadata": {},
   "outputs": [],
   "source": []
  },
  {
   "cell_type": "markdown",
   "id": "c53bc0ff-cc08-4318-b070-8a9ba63b2f35",
   "metadata": {},
   "source": [
    "### Single trait scans:"
   ]
  },
  {
   "cell_type": "code",
   "execution_count": 34,
   "id": "2c8b07bd-c2bb-458b-bb4e-48022f0846fb",
   "metadata": {},
   "outputs": [],
   "source": [
    "traitID = 1112;\n",
    "pheno_y = reshape(pheno_processed[:, traitID], :, 1);"
   ]
  },
  {
   "cell_type": "code",
   "execution_count": 35,
   "id": "814aee6a-1cfa-478b-9ace-e0e7faba2d9f",
   "metadata": {},
   "outputs": [
    {
     "name": "stdout",
     "output_type": "stream",
     "text": [
      "  1.109311 seconds (1.37 M allocations: 110.635 MiB, 94.14% compilation time)\n"
     ]
    }
   ],
   "source": [
    "@time single_results = scan(pheno_y, geno_processed, kinship);"
   ]
  },
  {
   "cell_type": "code",
   "execution_count": 36,
   "id": "45684b93-b873-49ed-8f54-93b674676127",
   "metadata": {},
   "outputs": [
    {
     "name": "stdout",
     "output_type": "stream",
     "text": [
      "  0.291795 seconds (456.68 k allocations: 108.309 MiB, 76.60% compilation time)\n"
     ]
    }
   ],
   "source": [
    "@time single_results_perms = scan(pheno_y, geno_processed, kinship; permutation_test = true, nperms = 1000, original = false);"
   ]
  },
  {
   "cell_type": "code",
   "execution_count": 37,
   "id": "90ccb941-6ac2-41fa-b48c-e39a13120908",
   "metadata": {},
   "outputs": [
    {
     "data": {
      "text/plain": [
       "2-element Vector{Float64}:\n",
       " 3.1486274394173113\n",
       " 3.7208709479810396"
      ]
     },
     "execution_count": 37,
     "metadata": {},
     "output_type": "execute_result"
    }
   ],
   "source": [
    "thrs = get_thresholds(single_results_perms, [0.85, 0.95]).thrs"
   ]
  },
  {
   "cell_type": "markdown",
   "id": "152e7c8d-6d32-49a3-93ea-e79623a99a5d",
   "metadata": {},
   "source": [
    "### Multiple trait scans:"
   ]
  },
  {
   "cell_type": "code",
   "execution_count": 38,
   "id": "7f2741db-1b30-4424-97c8-ec5cb018b819",
   "metadata": {},
   "outputs": [
    {
     "data": {
      "text/plain": [
       "16"
      ]
     },
     "execution_count": 38,
     "metadata": {},
     "output_type": "execute_result"
    }
   ],
   "source": [
    "Threads.nthreads()"
   ]
  },
  {
   "cell_type": "code",
   "execution_count": 74,
   "id": "d864bb90-8f7b-4ed5-9003-d634d62eb677",
   "metadata": {},
   "outputs": [
    {
     "data": {
      "text/plain": [
       "1"
      ]
     },
     "execution_count": 74,
     "metadata": {},
     "output_type": "execute_result"
    }
   ],
   "source": [
    "BLAS.get_num_threads()"
   ]
  },
  {
   "cell_type": "code",
   "execution_count": 40,
   "id": "62f04c4e-0f7f-4514-9a51-6746837a542d",
   "metadata": {},
   "outputs": [],
   "source": [
    "BLAS.set_num_threads(4)"
   ]
  },
  {
   "cell_type": "code",
   "execution_count": 69,
   "id": "57544daf-01b0-4164-986b-8be6ee36108b",
   "metadata": {},
   "outputs": [],
   "source": [
    "h2_grid = collect(0.0:0.01:0.99);"
   ]
  },
  {
   "cell_type": "code",
   "execution_count": 70,
   "id": "64c54fb3-62f5-40b4-b406-8038e9394e03",
   "metadata": {},
   "outputs": [],
   "source": [
    "h2_grid2 = collect(0.0:0.05:0.95);"
   ]
  },
  {
   "cell_type": "code",
   "execution_count": 72,
   "id": "393d0799-a68f-4247-a788-a6f6f893efb9",
   "metadata": {},
   "outputs": [],
   "source": [
    "pheno_st = colStandardize(pheno_processed);"
   ]
  },
  {
   "cell_type": "code",
   "execution_count": 53,
   "id": "b2bd64a4-5340-4b75-8f65-8370801f47bf",
   "metadata": {},
   "outputs": [
    {
     "data": {
      "text/plain": [
       "BenchmarkTools.Trial: 1 sample with 1 evaluation.\n",
       " Single result which took \u001b[34m12.133 s\u001b[39m (27.80% GC) to evaluate,\n",
       " with a memory estimate of \u001b[33m17.66 GiB\u001b[39m, over \u001b[33m49220879\u001b[39m allocations."
      ]
     },
     "execution_count": 53,
     "metadata": {},
     "output_type": "execute_result"
    }
   ],
   "source": [
    "@benchmark bulkscan_null_grid(pheno_processed, geno_processed, kinship, h2_grid)"
   ]
  },
  {
   "cell_type": "code",
   "execution_count": 71,
   "id": "a1f4a9d2-0213-4cbb-a530-f435caba5a46",
   "metadata": {},
   "outputs": [
    {
     "data": {
      "text/plain": [
       "BenchmarkTools.Trial: 1 sample with 1 evaluation.\n",
       " Single result which took \u001b[34m5.106 s\u001b[39m (18.81% GC) to evaluate,\n",
       " with a memory estimate of \u001b[33m6.79 GiB\u001b[39m, over \u001b[33m10610121\u001b[39m allocations."
      ]
     },
     "execution_count": 71,
     "metadata": {},
     "output_type": "execute_result"
    }
   ],
   "source": [
    "@benchmark bulkscan_null_grid(pheno_processed, geno_processed, kinship, h2_grid2)"
   ]
  },
  {
   "cell_type": "code",
   "execution_count": 43,
   "id": "a248eb5e-ba90-4303-b808-0e63374e9843",
   "metadata": {},
   "outputs": [
    {
     "name": "stdout",
     "output_type": "stream",
     "text": [
      " 11.350480 seconds (49.22 M allocations: 17.664 GiB, 27.72% gc time)\n"
     ]
    }
   ],
   "source": [
    "@time all_results_grid = bulkscan_null_grid(pheno_processed, geno_processed, kinship, h2_grid);"
   ]
  },
  {
   "cell_type": "code",
   "execution_count": 73,
   "id": "e92a7355-4ef3-4610-8064-97c954e08fcd",
   "metadata": {},
   "outputs": [
    {
     "name": "stdout",
     "output_type": "stream",
     "text": [
      " 12.768860 seconds (49.22 M allocations: 17.664 GiB, 31.70% gc time)\n"
     ]
    }
   ],
   "source": [
    "@time all_results_grid_st = bulkscan_null_grid(pheno_st, geno_processed, kinship, h2_grid);"
   ]
  },
  {
   "cell_type": "code",
   "execution_count": 59,
   "id": "8e085214-cf6c-430b-9b7a-e547dfd3e377",
   "metadata": {},
   "outputs": [
    {
     "name": "stdout",
     "output_type": "stream",
     "text": [
      "231.826512 seconds (3.09 G allocations: 793.932 GiB, 26.78% gc time, 0.05% compilation time)\n"
     ]
    }
   ],
   "source": [
    "@time all_results_exact = bulkscan_null(pheno_processed, geno_processed, kinship;\n",
    "                                        optim_interval = 10);"
   ]
  },
  {
   "cell_type": "code",
   "execution_count": 75,
   "id": "7bf160bc-fce9-4ed6-a187-e564414efa3f",
   "metadata": {},
   "outputs": [
    {
     "name": "stdout",
     "output_type": "stream",
     "text": [
      "233.371882 seconds (3.09 G allocations: 793.951 GiB, 26.51% gc time)\n"
     ]
    }
   ],
   "source": [
    "@time all_results_exact_st = bulkscan_null(pheno_st, geno_processed, kinship;\n",
    "                                        optim_interval = 10);"
   ]
  },
  {
   "cell_type": "code",
   "execution_count": 76,
   "id": "76c8a48f-db92-49cb-beee-240a6e749931",
   "metadata": {},
   "outputs": [
    {
     "data": {
      "text/plain": [
       "7321-element Vector{Float64}:\n",
       " 0.00012008682100828602\n",
       " 0.00012008682100828602\n",
       " 0.00012008682100828602\n",
       " 0.00012008682100828602\n",
       " 0.00012008682100828602\n",
       " 0.00012008682100828602\n",
       " 0.00012008682100828602\n",
       " 0.00012008682100828602\n",
       " 0.00012008682099685866\n",
       " 0.00012008682099685866\n",
       " 0.00012008387637556666\n",
       " 0.00011849771856266301\n",
       " 0.009521311901905454\n",
       " ⋮\n",
       " 0.26017848855422565\n",
       " 0.26017851503361494\n",
       " 0.2601785150336246\n",
       " 0.25344638801937\n",
       " 0.378289358307625\n",
       " 0.37828935830772425\n",
       " 0.2193513999155637\n",
       " 0.20144120787678782\n",
       " 0.20153298758762725\n",
       " 0.177823392806062\n",
       " 0.18170671563926058\n",
       " 0.18170671563924903"
      ]
     },
     "execution_count": 76,
     "metadata": {},
     "output_type": "execute_result"
    }
   ],
   "source": [
    "all_results_grid_st.L[:, 1]"
   ]
  },
  {
   "cell_type": "code",
   "execution_count": 77,
   "id": "84f7b1c6-4152-4e92-9380-87c8790a0fd3",
   "metadata": {},
   "outputs": [
    {
     "data": {
      "text/plain": [
       "7321-element Vector{Float64}:\n",
       " 0.00012008682100828602\n",
       " 0.00012008682100828602\n",
       " 0.00012008682100828602\n",
       " 0.00012008682100828602\n",
       " 0.00012008682100828602\n",
       " 0.00012008682100828602\n",
       " 0.00012008682100828602\n",
       " 0.00012008682100828602\n",
       " 0.00012008682099685866\n",
       " 0.00012008682099685866\n",
       " 0.00012008387637556666\n",
       " 0.00011849771856266301\n",
       " 0.009521311901905454\n",
       " ⋮\n",
       " 0.26017848855422565\n",
       " 0.26017851503361494\n",
       " 0.2601785150336246\n",
       " 0.25344638801937\n",
       " 0.378289358307625\n",
       " 0.37828935830772425\n",
       " 0.2193513999155637\n",
       " 0.20144120787678782\n",
       " 0.20153298758762725\n",
       " 0.177823392806062\n",
       " 0.18170671563926058\n",
       " 0.18170671563924903"
      ]
     },
     "execution_count": 77,
     "metadata": {},
     "output_type": "execute_result"
    }
   ],
   "source": [
    "all_results_exact_st.L[:, 1]"
   ]
  },
  {
   "cell_type": "code",
   "execution_count": 60,
   "id": "a57fa2df-98b8-4853-ad64-795b1e64c435",
   "metadata": {},
   "outputs": [
    {
     "data": {
      "text/plain": [
       "74-element Vector{Float64}:\n",
       " 0.0\n",
       " 0.78\n",
       " 0.45\n",
       " 0.38\n",
       " 0.84\n",
       " 0.61\n",
       " 0.7\n",
       " 0.52\n",
       " 0.89\n",
       " 0.5\n",
       " 0.79\n",
       " 0.63\n",
       " 0.47\n",
       " ⋮\n",
       " 0.31\n",
       " 0.83\n",
       " 0.28\n",
       " 0.34\n",
       " 0.35\n",
       " 0.98\n",
       " 0.86\n",
       " 0.39\n",
       " 0.81\n",
       " 0.33\n",
       " 0.29\n",
       " 0.27"
      ]
     },
     "execution_count": 60,
     "metadata": {},
     "output_type": "execute_result"
    }
   ],
   "source": [
    "unique(all_results_grid.h2_null_list)"
   ]
  },
  {
   "cell_type": "code",
   "execution_count": 61,
   "id": "fd516daa-32b3-4edf-b916-0566af1d423c",
   "metadata": {},
   "outputs": [
    {
     "data": {
      "text/plain": [
       "35554×2 Matrix{Float64}:\n",
       " 4.21494e-15  0.0\n",
       " 1.22271e-15  0.0\n",
       " 6.14951e-16  0.0\n",
       " 1.60996e-15  0.0\n",
       " 3.20109e-15  0.0\n",
       " 9.95012e-16  0.0\n",
       " 9.42488e-16  0.0\n",
       " 9.95012e-16  0.0\n",
       " 8.50543e-16  0.0\n",
       " 1.00066e-15  0.0\n",
       " 5.8249e-16   0.0\n",
       " 3.18791e-15  0.0\n",
       " 2.10747e-15  0.0\n",
       " ⋮            \n",
       " 2.03871e-15  0.0\n",
       " 6.81991e-15  0.0\n",
       " 0.655454     0.66\n",
       " 5.8249e-16   0.0\n",
       " 1.60996e-15  0.0\n",
       " 0.474575     0.47\n",
       " 9.42488e-16  0.0\n",
       " 9.42488e-16  0.0\n",
       " 6.81991e-15  0.0\n",
       " 0.682617     0.68\n",
       " 1.60996e-15  0.0\n",
       " 1.59804e-15  0.0"
      ]
     },
     "execution_count": 61,
     "metadata": {},
     "output_type": "execute_result"
    }
   ],
   "source": [
    "hcat(all_results_exact.h2_null_list, all_results_grid.h2_null_list)"
   ]
  },
  {
   "cell_type": "code",
   "execution_count": 62,
   "id": "d72dc634-c572-41e0-8073-14b2c9d6b9dc",
   "metadata": {},
   "outputs": [
    {
     "data": {
      "text/plain": [
       "(0.009999981682421333, 1634)"
      ]
     },
     "execution_count": 62,
     "metadata": {},
     "output_type": "execute_result"
    }
   ],
   "source": [
    "findmax(abs.(all_results_exact.h2_null_list .- all_results_grid.h2_null_list))"
   ]
  },
  {
   "cell_type": "code",
   "execution_count": 63,
   "id": "1fbf2354-6043-4974-aca3-7c02aa916c4f",
   "metadata": {},
   "outputs": [
    {
     "data": {
      "text/plain": [
       "(0.9999999816824213, 0.99)"
      ]
     },
     "execution_count": 63,
     "metadata": {},
     "output_type": "execute_result"
    }
   ],
   "source": [
    "all_results_exact.h2_null_list[1634], all_results_grid.h2_null_list[1634]"
   ]
  },
  {
   "cell_type": "code",
   "execution_count": 67,
   "id": "8507f016-9094-4574-8715-afa024377fdc",
   "metadata": {},
   "outputs": [
    {
     "data": {
      "text/plain": [
       "(0.9779549482273531, CartesianIndex(4023, 32346))"
      ]
     },
     "execution_count": 67,
     "metadata": {},
     "output_type": "execute_result"
    }
   ],
   "source": [
    "findmax(abs.(all_results_exact.L .- all_results_grid.L))"
   ]
  },
  {
   "cell_type": "code",
   "execution_count": 68,
   "id": "1d8eaefa-e319-4539-85c4-7555cfd44fbe",
   "metadata": {},
   "outputs": [
    {
     "data": {
      "text/plain": [
       "(0.9999999816824213, 0.99)"
      ]
     },
     "execution_count": 68,
     "metadata": {},
     "output_type": "execute_result"
    }
   ],
   "source": [
    "all_results_exact.h2_null_list[32346], all_results_grid.h2_null_list[32346]"
   ]
  },
  {
   "cell_type": "code",
   "execution_count": 32,
   "id": "0630030c-e6e7-41ac-8419-d95cfac4bd92",
   "metadata": {},
   "outputs": [
    {
     "data": {
      "text/plain": [
       "1"
      ]
     },
     "execution_count": 32,
     "metadata": {},
     "output_type": "execute_result"
    }
   ],
   "source": [
    "BLAS.get_num_threads()"
   ]
  }
 ],
 "metadata": {
  "kernelspec": {
   "display_name": "Julia 16 Threads 1.8.1",
   "language": "julia",
   "name": "julia-16-threads-1.8"
  },
  "language_info": {
   "file_extension": ".jl",
   "mimetype": "application/julia",
   "name": "julia",
   "version": "1.8.1"
  }
 },
 "nbformat": 4,
 "nbformat_minor": 5
}
