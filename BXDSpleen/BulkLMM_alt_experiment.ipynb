{
 "cells": [
  {
   "cell_type": "code",
   "execution_count": 1,
   "id": "cb748537-308e-4897-90fd-1c764dd61aec",
   "metadata": {},
   "outputs": [],
   "source": [
    "using CSV, DelimitedFiles, DataFrames, Missings, XLSX\n",
    "using LinearAlgebra, Statistics, Optim\n",
    "using Random, Distributions, LoopVectorization\n",
    "using BenchmarkTools"
   ]
  },
  {
   "cell_type": "code",
   "execution_count": 2,
   "id": "54b559cc-2389-45d8-9918-277dc2ae1171",
   "metadata": {},
   "outputs": [],
   "source": [
    "using Plots"
   ]
  },
  {
   "cell_type": "code",
   "execution_count": 123,
   "id": "8fb4d2e2-310b-4743-acdf-ae62fa863630",
   "metadata": {},
   "outputs": [],
   "source": [
    "local_path = \"../../BulkLMM.jl/src\";"
   ]
  },
  {
   "cell_type": "code",
   "execution_count": 138,
   "id": "e2dd42ed-f06c-4725-9636-0a032d9216ba",
   "metadata": {},
   "outputs": [],
   "source": [
    "include(joinpath(local_path, \"kinship.jl\"));\n",
    "include(joinpath(local_path, \"util.jl\"));\n",
    "include(joinpath(local_path, \"wls.jl\"));\n",
    "include(joinpath(local_path, \"lmm.jl\"));\n",
    "include(joinpath(local_path, \"gridbrent.jl\"));\n",
    "include(joinpath(local_path, \"transform_helpers.jl\"));\n",
    "include(joinpath(local_path, \"scan.jl\"));\n",
    "include(joinpath(local_path, \"bulkscan_helpers.jl\"));\n",
    "include(joinpath(local_path, \"bulkscan.jl\"));\n",
    "include(joinpath(local_path, \"readData.jl\"));\n",
    "include(joinpath(local_path, \"../plot_utils/visuals_utils.jl\"));\n",
    "include(joinpath(local_path, \"analysis_helpers/single_trait_analysis.jl\"));\n",
    "include(joinpath(local_path, \"../test/testHelpers.jl\"));"
   ]
  },
  {
   "cell_type": "code",
   "execution_count": 6,
   "id": "b009dd7c-20e5-4923-95f0-1ab97a7a757a",
   "metadata": {},
   "outputs": [],
   "source": [
    "bulklmmdir = local_path;\n",
    "pheno_file = joinpath(bulklmmdir,\"..\",\"data/bxdData/spleen-pheno-nomissing.csv\");\n",
    "pheno = readdlm(pheno_file, ',', header = false);\n",
    "pheno_processed = pheno[2:end, 2:(end-1)].*1.0; # exclude the header, the first (transcript ID)and the last columns (sex)"
   ]
  },
  {
   "cell_type": "code",
   "execution_count": 7,
   "id": "3bb88f75-e3f5-4613-b561-ba798077b17c",
   "metadata": {},
   "outputs": [],
   "source": [
    "geno_file = joinpath(bulklmmdir,\"..\",\"data/bxdData/spleen-bxd-genoprob.csv\");\n",
    "geno = readdlm(geno_file, ',', header = false);\n",
    "geno_processed = geno[2:end, 1:2:end] .* 1.0;"
   ]
  },
  {
   "cell_type": "code",
   "execution_count": 15,
   "id": "a1a290d7-2b9a-4622-bd49-fe7291e3f6e8",
   "metadata": {},
   "outputs": [],
   "source": [
    "(n, m) = size(pheno_processed);"
   ]
  },
  {
   "cell_type": "code",
   "execution_count": 17,
   "id": "dcde0a74-f1fd-4f12-8512-71a60f3995e4",
   "metadata": {},
   "outputs": [],
   "source": [
    "p = size(geno_processed, 2);"
   ]
  },
  {
   "cell_type": "code",
   "execution_count": 9,
   "id": "74d76130-e15a-4131-baf1-5a6e81e63713",
   "metadata": {},
   "outputs": [
    {
     "name": "stdout",
     "output_type": "stream",
     "text": [
      "  0.236701 seconds (30.81 k allocations: 862.019 MiB, 7.51% gc time)\n"
     ]
    }
   ],
   "source": [
    "@time kinship = calcKinship(geno_processed); # calculate K"
   ]
  },
  {
   "cell_type": "code",
   "execution_count": 69,
   "id": "7a7374d6-6a4d-4445-87bb-c7cf1f767c22",
   "metadata": {},
   "outputs": [
    {
     "name": "stdout",
     "output_type": "stream",
     "text": [
      "  0.017453 seconds (29 allocations: 30.429 MiB)\n"
     ]
    }
   ],
   "source": [
    "@time (Y0, X0, lambda0) = transform_rotation(pheno_processed, geno_processed, kinship);"
   ]
  },
  {
   "cell_type": "code",
   "execution_count": 70,
   "id": "5d9b02ef-4efb-49a1-a7ab-244f074ceed9",
   "metadata": {},
   "outputs": [
    {
     "data": {
      "text/plain": [
       "(79, 7322)"
      ]
     },
     "execution_count": 70,
     "metadata": {},
     "output_type": "execute_result"
    }
   ],
   "source": [
    "size(X0) # check that n#col = p + 1"
   ]
  },
  {
   "cell_type": "code",
   "execution_count": 71,
   "id": "ecb2bef7-a2d9-46f7-b14b-87421cc01da5",
   "metadata": {},
   "outputs": [
    {
     "name": "stdout",
     "output_type": "stream",
     "text": [
      "  1.446959 seconds (468.81 k allocations: 2.056 GiB, 38.61% gc time)\n"
     ]
    }
   ],
   "source": [
    "@time test1_L = weighted_liteqtl(Y0, X0, lambda0, test_grid[1]);"
   ]
  },
  {
   "cell_type": "code",
   "execution_count": 72,
   "id": "a4ee5d60-4947-421a-a3c6-9e8e7f20b3c4",
   "metadata": {},
   "outputs": [
    {
     "name": "stdout",
     "output_type": "stream",
     "text": [
      "  0.628405 seconds (4 allocations: 1.939 GiB, 1.56% gc time)\n"
     ]
    },
    {
     "data": {
      "text/plain": [
       "7321×35554 Matrix{Float64}:\n",
       " 0.00027651   0.108551   0.00682573  …  0.0704603  0.00771174  0.802891\n",
       " 0.00027651   0.108551   0.00682573     0.0704603  0.00771174  0.802891\n",
       " 0.00027651   0.108551   0.00682573     0.0704603  0.00771174  0.802891\n",
       " 0.00027651   0.108551   0.00682573     0.0704603  0.00771174  0.802891\n",
       " 0.00027651   0.108551   0.00682573     0.0704603  0.00771174  0.802891\n",
       " 0.00027651   0.108551   0.00682573  …  0.0704603  0.00771174  0.802891\n",
       " 0.00027651   0.108551   0.00682573     0.0704603  0.00771174  0.802891\n",
       " 0.00027651   0.108551   0.00682573     0.0704603  0.00771174  0.802891\n",
       " 0.00027651   0.108551   0.00682573     0.0704603  0.00771174  0.802891\n",
       " 0.00027651   0.108551   0.00682573     0.0704603  0.00771174  0.802891\n",
       " 0.000276503  0.108551   0.00682576  …  0.0704603  0.00771174  0.802892\n",
       " 0.000272851  0.108586   0.00683966     0.0704901  0.00771303  0.803004\n",
       " 0.0219236    0.152786   0.0413911      0.112449   0.00887184  0.889538\n",
       " ⋮                                   ⋱                         \n",
       " 0.599083     0.132343   0.549795       0.659124   0.0241305   0.413011\n",
       " 0.599083     0.132343   0.549795    …  0.659123   0.0241304   0.413011\n",
       " 0.599083     0.132343   0.549795       0.659123   0.0241304   0.413011\n",
       " 0.583582     0.117104   0.494686       0.237667   0.00502934  0.794774\n",
       " 0.871043     0.0500665  0.706663       0.161008   0.00037127  0.890711\n",
       " 0.871043     0.0500665  0.706663       0.161008   0.00037127  0.890711\n",
       " 0.505075     0.107346   0.379082    …  0.0375144  0.0591003   0.668167\n",
       " 0.463836     0.203632   0.348007       0.0265668  0.0930981   0.491364\n",
       " 0.464047     0.203131   0.348166       0.0266143  0.0929296   0.492142\n",
       " 0.409453     0.33444    0.307027       0.0163779  0.135021    0.320716\n",
       " 0.418395     0.585107   0.240952       0.0516595  0.125977    0.145899\n",
       " 0.418395     0.585107   0.240952    …  0.0516595  0.125977    0.145899"
      ]
     },
     "execution_count": 72,
     "metadata": {},
     "output_type": "execute_result"
    }
   ],
   "source": [
    "@time test1_logLR = test1_L .* log(10)"
   ]
  },
  {
   "cell_type": "code",
   "execution_count": 73,
   "id": "aecaccec-4a70-449c-b5aa-1f78dbaf8527",
   "metadata": {},
   "outputs": [],
   "source": [
    "weights1 = makeweights(test_grid[1], lambda0);"
   ]
  },
  {
   "cell_type": "code",
   "execution_count": 74,
   "id": "86f4ecef-5dfb-49fb-bee7-92392d9418b6",
   "metadata": {},
   "outputs": [],
   "source": [
    "prior = [0.0, 0.0];"
   ]
  },
  {
   "cell_type": "code",
   "execution_count": 75,
   "id": "9a5519cd-acdf-45b1-9ef2-ba0d69d0f950",
   "metadata": {},
   "outputs": [
    {
     "name": "stdout",
     "output_type": "stream",
     "text": [
      "  0.185161 seconds (425.21 k allocations: 121.507 MiB, 60.71% gc time)\n"
     ]
    }
   ],
   "source": [
    "@time test1_logL0 = wls_multivar(Y0, reshape(X0[:, 1], :, 1), weights1, prior).Ell;"
   ]
  },
  {
   "cell_type": "code",
   "execution_count": 76,
   "id": "195ebb28-8923-4ce8-8add-8f873a377352",
   "metadata": {},
   "outputs": [
    {
     "name": "stdout",
     "output_type": "stream",
     "text": [
      "  3.462887 seconds (6 allocations: 3.879 GiB, 14.36% gc time)\n"
     ]
    },
    {
     "data": {
      "text/plain": [
       "7321×35554 Matrix{Float64}:\n",
       " 97.3425  74.9454  72.8573  66.6923  …  92.201   112.126  142.004  145.839\n",
       " 97.3425  74.9454  72.8573  66.6923     92.201   112.126  142.004  145.839\n",
       " 97.3425  74.9454  72.8573  66.6923     92.201   112.126  142.004  145.839\n",
       " 97.3425  74.9454  72.8573  66.6923     92.201   112.126  142.004  145.839\n",
       " 97.3425  74.9454  72.8573  66.6923     92.201   112.126  142.004  145.839\n",
       " 97.3425  74.9454  72.8573  66.6923  …  92.201   112.126  142.004  145.839\n",
       " 97.3425  74.9454  72.8573  66.6923     92.201   112.126  142.004  145.839\n",
       " 97.3425  74.9454  72.8573  66.6923     92.201   112.126  142.004  145.839\n",
       " 97.3425  74.9454  72.8573  66.6923     92.201   112.126  142.004  145.839\n",
       " 97.3425  74.9454  72.8573  66.6923     92.201   112.126  142.004  145.839\n",
       " 97.3425  74.9454  72.8573  66.6923  …  92.201   112.126  142.004  145.839\n",
       " 97.3425  74.9454  72.8573  66.6923     92.201   112.126  142.004  145.839\n",
       " 97.3641  74.9896  72.8919  66.666      92.1663  112.168  142.005  145.925\n",
       "  ⋮                                  ⋱   ⋮                         \n",
       " 97.9413  74.9692  73.4003  66.8884     92.2578  112.714  142.02   145.449\n",
       " 97.9413  74.9692  73.4003  66.8884  …  92.2578  112.714  142.02   145.449\n",
       " 97.9413  74.9692  73.4003  66.8884     92.2578  112.714  142.02   145.449\n",
       " 97.9258  74.9539  73.3452  66.8466     92.5383  112.293  142.001  145.831\n",
       " 98.2133  74.8869  73.5572  66.9431     92.6444  112.216  141.996  145.927\n",
       " 98.2133  74.8869  73.5572  66.9431     92.6444  112.216  141.996  145.927\n",
       " 97.8473  74.9442  73.2296  66.8     …  92.4139  112.093  142.055  145.704\n",
       " 97.8061  75.0405  73.1985  66.8195     92.3255  112.082  142.089  145.527\n",
       " 97.8063  75.04    73.1987  66.8194     92.326   112.082  142.089  145.528\n",
       " 97.7517  75.1713  73.1575  66.8371     92.2193  112.072  142.131  145.357\n",
       " 97.7606  75.4219  73.0915  66.7997     92.07    112.107  142.122  145.182\n",
       " 97.7606  75.4219  73.0915  66.7997  …  92.07    112.107  142.122  145.182"
      ]
     },
     "execution_count": 76,
     "metadata": {},
     "output_type": "execute_result"
    }
   ],
   "source": [
    "@time test1_logL1 = test1_logLR .+ repeat(test1_logL0, 7321)"
   ]
  },
  {
   "cell_type": "code",
   "execution_count": 77,
   "id": "bcee43a4-bbea-4963-9235-f37ae3807da2",
   "metadata": {},
   "outputs": [
    {
     "data": {
      "text/plain": [
       "3-element Vector{Float64}:\n",
       " 0.0\n",
       " 0.5\n",
       " 0.95"
      ]
     },
     "execution_count": 77,
     "metadata": {},
     "output_type": "execute_result"
    }
   ],
   "source": [
    "test_grid = [0.0, 0.50, 0.95]"
   ]
  },
  {
   "cell_type": "code",
   "execution_count": 78,
   "id": "e1c31419-e372-444c-9897-473a6fcd7e08",
   "metadata": {},
   "outputs": [
    {
     "data": {
      "text/plain": [
       "20-element Vector{Float64}:\n",
       " 0.0\n",
       " 0.05\n",
       " 0.1\n",
       " 0.15\n",
       " 0.2\n",
       " 0.25\n",
       " 0.3\n",
       " 0.35\n",
       " 0.4\n",
       " 0.45\n",
       " 0.5\n",
       " 0.55\n",
       " 0.6\n",
       " 0.65\n",
       " 0.7\n",
       " 0.75\n",
       " 0.8\n",
       " 0.85\n",
       " 0.9\n",
       " 0.95"
      ]
     },
     "execution_count": 78,
     "metadata": {},
     "output_type": "execute_result"
    }
   ],
   "source": [
    "test_grid = collect(0.0:0.05:0.95)"
   ]
  },
  {
   "cell_type": "code",
   "execution_count": 79,
   "id": "fba544eb-0159-4bcd-9adc-55653a3ae304",
   "metadata": {},
   "outputs": [
    {
     "data": {
      "text/plain": [
       "4"
      ]
     },
     "execution_count": 79,
     "metadata": {},
     "output_type": "execute_result"
    }
   ],
   "source": [
    "BLAS.get_num_threads()"
   ]
  },
  {
   "cell_type": "code",
   "execution_count": 80,
   "id": "f1e9707f-16e7-48c6-9c4a-b3e163fcd597",
   "metadata": {},
   "outputs": [],
   "source": [
    "BLAS.set_num_threads(4)"
   ]
  },
  {
   "cell_type": "code",
   "execution_count": 81,
   "id": "29e14bd8-e607-48f9-ae27-01d374fdf07e",
   "metadata": {},
   "outputs": [
    {
     "name": "stdout",
     "output_type": "stream",
     "text": [
      "126.520757 seconds (17.88 M allocations: 159.847 GiB, 18.53% gc time)\n"
     ]
    }
   ],
   "source": [
    "test_h2_panel = ones(p, m) .* test_grid[1];\n",
    "test_h2_panel_counter = Int.(ones(p, m));\n",
    "\n",
    "@time begin\n",
    "    for h2 in test_grid\n",
    "        testk_logLR = weighted_liteqtl(Y0, X0, lambda0, h2) .* log(10);\n",
    "        weightsk = makeweights(h2, lambda0);\n",
    "        testk_logL0 = wls_multivar(Y0, reshape(X0[:, 1], :, 1), weightsk, [0.0, 0.0]).Ell; \n",
    "        testk_logL1 = testk_logLR .+ repeat(testk_logL0, 7321)\n",
    "\n",
    "        tmax!(test1_logL1, testk_logL1, test_h2_panel, test_h2_panel_counter, test_grid)\n",
    "    end\n",
    "end"
   ]
  },
  {
   "cell_type": "code",
   "execution_count": 107,
   "id": "44e9484c-5db4-45c9-ace8-97d42647ae23",
   "metadata": {},
   "outputs": [],
   "source": [
    "test_all_logL0 = zeros(20, m);\n",
    "test_all_logL0[1, :] = test1_logL0;"
   ]
  },
  {
   "cell_type": "code",
   "execution_count": 108,
   "id": "6fb186be-6164-4949-a8d6-ce1e6d5560d3",
   "metadata": {},
   "outputs": [
    {
     "data": {
      "text/plain": [
       "1×35554 Matrix{Float64}:\n",
       " 97.3422  74.8368  72.8505  66.6552  …  91.6516  112.055  141.996  145.036"
      ]
     },
     "execution_count": 108,
     "metadata": {},
     "output_type": "execute_result"
    }
   ],
   "source": [
    "test1_logL0"
   ]
  },
  {
   "cell_type": "code",
   "execution_count": 110,
   "id": "de9c9b5b-4c96-47fc-808e-bea77cd82484",
   "metadata": {},
   "outputs": [
    {
     "name": "stdout",
     "output_type": "stream",
     "text": [
      "  1.161604 seconds (8.08 M allocations: 2.255 GiB, 11.55% gc time)\n"
     ]
    }
   ],
   "source": [
    "@time begin \n",
    "    \n",
    "    for k in 2:20\n",
    "        h2 = test_grid[k];\n",
    "        weightsk = makeweights(h2, lambda0);\n",
    "        testk_logL0 = wls_multivar(Y0, reshape(X0[:, 1], :, 1), weightsk, [0.0, 0.0]).Ell; \n",
    "        test_all_logL0[k, :] = testk_logL0;\n",
    "    end\n",
    "    \n",
    "end"
   ]
  },
  {
   "cell_type": "code",
   "execution_count": 113,
   "id": "11e8809b-1bed-407a-91bc-3b40a559b86a",
   "metadata": {},
   "outputs": [
    {
     "data": {
      "text/plain": [
       "20×35554 Matrix{Float64}:\n",
       " 97.3422  74.8368  72.8505  66.6552  …  91.6516  112.055  141.996  145.036\n",
       " 96.5777  74.2778  72.1035  65.9431     91.156   111.678  141.417  144.349\n",
       " 96.0902  73.9975  71.6349  65.5108     90.9283  111.595  141.125  143.924\n",
       " 95.6735  73.7915  71.2388  65.1522     90.7642  111.601  140.913  143.555\n",
       " 95.2815  73.6148  70.8688  64.8212     90.6196  111.651  140.736  143.194\n",
       " 94.8945  73.4496  70.5056  64.4985  …  90.4766  111.727  140.575  142.821\n",
       " 94.5014  73.2859  70.1381  64.1732     90.3258  111.82   140.42   142.423\n",
       " 94.0939  73.1175  69.7582  63.8373     90.1607  111.924  140.263  141.992\n",
       " 93.6647  72.939   69.3589  63.4841     89.976   112.035  140.098  141.516\n",
       " 93.2065  72.7455  68.9331  63.1067     89.7667  112.147  139.92   140.987\n",
       " 92.7112  72.5317  68.473   62.6974  …  89.527   112.256  139.722  140.393\n",
       " 92.1687  72.2913  67.9689  62.2472     89.2502  112.356  139.497  139.719\n",
       " 91.566   72.0165  67.4084  61.7443     88.9276  112.439  139.237  138.946\n",
       " 90.8859  71.6968  66.7747  61.1728     88.5474  112.493  138.93   138.047\n",
       " 90.1033  71.3174  66.0436  60.5104     88.093   112.501  138.561  136.986\n",
       " 89.1807  70.8565  65.1783  59.7233  …  87.5393  112.434  138.109  135.705\n",
       " 88.0566  70.2788  64.1176  58.7573     86.8456  112.241  137.542  134.114\n",
       " 86.6186  69.5233  62.7487  57.5156     85.9389  111.827  136.812  132.048\n",
       " 84.623   68.4669  60.8213  55.7956     84.6656  110.979  135.84   129.167\n",
       " 81.3296  66.7937  57.561   53.0153     82.5959  109.094  134.478  124.558"
      ]
     },
     "execution_count": 113,
     "metadata": {},
     "output_type": "execute_result"
    }
   ],
   "source": [
    "test_all_logL0"
   ]
  },
  {
   "cell_type": "code",
   "execution_count": 117,
   "id": "4f1cf704-78b3-4f86-95c3-2e9f96a2da77",
   "metadata": {},
   "outputs": [
    {
     "name": "stdout",
     "output_type": "stream",
     "text": [
      "  2.377470 seconds (552.92 k allocations: 1.957 GiB, 0.33% gc time, 6.20% compilation time)\n"
     ]
    }
   ],
   "source": [
    "@time test_logL0_optimum = mapslices(x -> maximum(x), test_all_logL0, dims = 1) |> x -> repeat(x, 7321);"
   ]
  },
  {
   "cell_type": "code",
   "execution_count": 119,
   "id": "3da17623-5f52-497f-ba52-f5ba45510750",
   "metadata": {},
   "outputs": [],
   "source": [
    "results_alt = (test1_logL1 .- test_logL0_optimum) ./ log(10);"
   ]
  },
  {
   "cell_type": "code",
   "execution_count": null,
   "id": "e3b9b331-014c-44b5-b382-f62d829aefb2",
   "metadata": {},
   "outputs": [],
   "source": []
  },
  {
   "cell_type": "code",
   "execution_count": null,
   "id": "c3a1d11c-d686-4baf-bad9-f694144ed55c",
   "metadata": {},
   "outputs": [],
   "source": []
  },
  {
   "cell_type": "code",
   "execution_count": 82,
   "id": "d91ab8e6-ad9e-4399-a8b2-d06504691134",
   "metadata": {},
   "outputs": [
    {
     "data": {
      "text/plain": [
       "7321×35554 Matrix{Float64}:\n",
       " 0.0  0.0  0.0  0.0  0.0  0.0  0.0  …  0.15  0.0  0.0  0.0  0.35  0.0  0.0\n",
       " 0.0  0.0  0.0  0.0  0.0  0.0  0.0     0.15  0.0  0.0  0.0  0.35  0.0  0.0\n",
       " 0.0  0.0  0.0  0.0  0.0  0.0  0.0     0.15  0.0  0.0  0.0  0.35  0.0  0.0\n",
       " 0.0  0.0  0.0  0.0  0.0  0.0  0.0     0.15  0.0  0.0  0.0  0.35  0.0  0.0\n",
       " 0.0  0.0  0.0  0.0  0.0  0.0  0.0     0.15  0.0  0.0  0.0  0.35  0.0  0.0\n",
       " 0.0  0.0  0.0  0.0  0.0  0.0  0.0  …  0.15  0.0  0.0  0.0  0.35  0.0  0.0\n",
       " 0.0  0.0  0.0  0.0  0.0  0.0  0.0     0.15  0.0  0.0  0.0  0.35  0.0  0.0\n",
       " 0.0  0.0  0.0  0.0  0.0  0.0  0.0     0.15  0.0  0.0  0.0  0.35  0.0  0.0\n",
       " 0.0  0.0  0.0  0.0  0.0  0.0  0.0     0.15  0.0  0.0  0.0  0.35  0.0  0.0\n",
       " 0.0  0.0  0.0  0.0  0.0  0.0  0.0     0.15  0.0  0.0  0.0  0.35  0.0  0.0\n",
       " 0.0  0.0  0.0  0.0  0.0  0.0  0.0  …  0.15  0.0  0.0  0.0  0.35  0.0  0.0\n",
       " 0.0  0.0  0.0  0.0  0.0  0.0  0.0     0.15  0.0  0.0  0.0  0.35  0.0  0.0\n",
       " 0.0  0.0  0.0  0.0  0.0  0.0  0.0     0.15  0.0  0.0  0.0  0.3   0.0  0.0\n",
       " ⋮                        ⋮         ⋱                  ⋮               \n",
       " 0.0  0.0  0.0  0.0  0.0  0.0  0.0     0.25  0.0  0.0  0.0  0.25  0.0  0.0\n",
       " 0.0  0.0  0.0  0.0  0.0  0.0  0.0  …  0.25  0.0  0.0  0.0  0.25  0.0  0.0\n",
       " 0.0  0.0  0.0  0.0  0.0  0.0  0.0     0.25  0.0  0.0  0.0  0.25  0.0  0.0\n",
       " 0.0  0.0  0.0  0.0  0.0  0.0  0.0     0.2   0.0  0.0  0.0  0.3   0.0  0.0\n",
       " 0.0  0.0  0.0  0.0  0.0  0.0  0.0     0.2   0.0  0.0  0.0  0.3   0.0  0.0\n",
       " 0.0  0.0  0.0  0.0  0.0  0.0  0.0     0.2   0.0  0.0  0.0  0.3   0.0  0.0\n",
       " 0.0  0.0  0.0  0.0  0.0  0.0  0.0  …  0.2   0.0  0.0  0.0  0.3   0.0  0.0\n",
       " 0.0  0.0  0.0  0.0  0.0  0.0  0.0     0.2   0.0  0.0  0.0  0.3   0.0  0.0\n",
       " 0.0  0.0  0.0  0.0  0.0  0.0  0.0     0.2   0.0  0.0  0.0  0.3   0.0  0.0\n",
       " 0.0  0.0  0.0  0.0  0.0  0.0  0.0     0.2   0.0  0.0  0.0  0.3   0.0  0.0\n",
       " 0.0  0.0  0.0  0.0  0.0  0.0  0.0     0.3   0.0  0.0  0.0  0.3   0.0  0.0\n",
       " 0.0  0.0  0.0  0.0  0.0  0.0  0.0  …  0.3   0.0  0.0  0.0  0.3   0.0  0.0"
      ]
     },
     "execution_count": 82,
     "metadata": {},
     "output_type": "execute_result"
    }
   ],
   "source": [
    "test_h2_panel"
   ]
  },
  {
   "cell_type": "code",
   "execution_count": 86,
   "id": "7165f262-b443-4451-99bf-943eaf1dd06f",
   "metadata": {},
   "outputs": [
    {
     "data": {
      "text/plain": [
       "4"
      ]
     },
     "execution_count": 86,
     "metadata": {},
     "output_type": "execute_result"
    }
   ],
   "source": [
    "BLAS.get_num_threads()"
   ]
  },
  {
   "cell_type": "code",
   "execution_count": 91,
   "id": "4f2be463-ec64-43b3-b84c-d5de51fd779d",
   "metadata": {},
   "outputs": [],
   "source": [
    "BLAS.set_num_threads(8)"
   ]
  },
  {
   "cell_type": "code",
   "execution_count": 92,
   "id": "8aee9bce-1aca-48f3-b555-45bc1ae5bf02",
   "metadata": {},
   "outputs": [
    {
     "name": "stdout",
     "output_type": "stream",
     "text": [
      "  6.327137 seconds (10.61 M allocations: 6.788 GiB, 22.77% gc time)\n"
     ]
    }
   ],
   "source": [
    "@time test_bulkscan_null_grid = bulkscan_null_grid(pheno_processed, geno_processed, kinship, test_grid);"
   ]
  },
  {
   "cell_type": "code",
   "execution_count": 121,
   "id": "d2d15690-954e-4a99-b8a9-4701fd521572",
   "metadata": {},
   "outputs": [
    {
     "data": {
      "text/plain": [
       "0.003190289481501103"
      ]
     },
     "execution_count": 121,
     "metadata": {},
     "output_type": "execute_result"
    }
   ],
   "source": [
    "mean(abs.(results_alt .- test_bulkscan_null_grid.L))"
   ]
  },
  {
   "cell_type": "code",
   "execution_count": 143,
   "id": "c88b46c0-ceea-46b0-a73a-3beeffef5036",
   "metadata": {},
   "outputs": [
    {
     "data": {
      "text/plain": [
       "100-element Vector{Float64}:\n",
       " 0.0\n",
       " 0.01\n",
       " 0.02\n",
       " 0.03\n",
       " 0.04\n",
       " 0.05\n",
       " 0.06\n",
       " 0.07\n",
       " 0.08\n",
       " 0.09\n",
       " 0.1\n",
       " 0.11\n",
       " 0.12\n",
       " ⋮\n",
       " 0.88\n",
       " 0.89\n",
       " 0.9\n",
       " 0.91\n",
       " 0.92\n",
       " 0.93\n",
       " 0.94\n",
       " 0.95\n",
       " 0.96\n",
       " 0.97\n",
       " 0.98\n",
       " 0.99"
      ]
     },
     "execution_count": 143,
     "metadata": {},
     "output_type": "execute_result"
    }
   ],
   "source": [
    "grid_finer = collect(0.0:0.01:0.99)"
   ]
  },
  {
   "cell_type": "code",
   "execution_count": null,
   "id": "9a9ce216-7c44-45b2-bb76-83e244157492",
   "metadata": {},
   "outputs": [],
   "source": [
    "@time test_bulkscan_alt_grid = bulkscan_alt_grid(pheno_processed, geno_processed, kinship, grid_finer);"
   ]
  },
  {
   "cell_type": "code",
   "execution_count": null,
   "id": "68c45c82-35e9-452a-80aa-f0f208bcc9fa",
   "metadata": {},
   "outputs": [],
   "source": [
    "@time test_scan_alt = scan(reshape(pheno_processed[:, 1112], :, 1), geno_processed, kinship; assumption = \"alt\", optim_interval = 4);"
   ]
  },
  {
   "cell_type": "code",
   "execution_count": null,
   "id": "a092dfb1-c11b-4e57-a36d-51727b849f33",
   "metadata": {},
   "outputs": [],
   "source": [
    "hcat(test_scan_alt.h2_each_marker, test_h2_panel[:, 1112], test_bulkscan_alt_grid.h2_panel[:, 1112])"
   ]
  },
  {
   "cell_type": "code",
   "execution_count": 147,
   "id": "d05bea32-dda4-4619-b084-74f1ac3138f6",
   "metadata": {},
   "outputs": [
    {
     "data": {
      "text/plain": [
       "7321×3 Matrix{Float64}:\n",
       " 0.474433   0.377639     0.377639\n",
       " 0.474433   0.377639     0.377639\n",
       " 0.474433   0.377639     0.377639\n",
       " 0.474433   0.377639     0.377639\n",
       " 0.474433   0.377639     0.377639\n",
       " 0.474433   0.377639     0.377639\n",
       " 0.474433   0.377639     0.377639\n",
       " 0.474433   0.377639     0.377639\n",
       " 0.474433   0.377639     0.377639\n",
       " 0.474433   0.377639     0.377639\n",
       " 0.474433   0.377639     0.377639\n",
       " 0.474625   0.377806     0.377806\n",
       " 0.718646   0.573483     0.573483\n",
       " ⋮                       \n",
       " 0.0318565  0.000183332  0.000183332\n",
       " 0.0318565  0.000183327  0.000183327\n",
       " 0.0318566  0.000183327  0.000183327\n",
       " 0.0227071  0.0123942    0.0123942\n",
       " 0.093469   0.0797131    0.0797131\n",
       " 0.093469   0.0797131    0.0797131\n",
       " 0.398281   0.427481     0.427481\n",
       " 0.400334   0.433584     0.433584\n",
       " 0.40036    0.433594     0.433594\n",
       " 0.38686    0.422936     0.422936\n",
       " 0.634617   0.754686     0.754686\n",
       " 0.634617   0.754686     0.754686"
      ]
     },
     "execution_count": 147,
     "metadata": {},
     "output_type": "execute_result"
    }
   ],
   "source": [
    "hcat(test_scan_alt.lod, test_bulkscan_alt_grid.L[:, 1112], results_alt[:, 1112])"
   ]
  },
  {
   "cell_type": "code",
   "execution_count": 148,
   "id": "cbc9fc34-6f3c-4c28-8ebe-345ea549bc46",
   "metadata": {},
   "outputs": [
    {
     "data": {
      "text/plain": [
       "0.05908721531033275"
      ]
     },
     "execution_count": 148,
     "metadata": {},
     "output_type": "execute_result"
    }
   ],
   "source": [
    "mean(abs.(test_scan_alt.lod .- test_bulkscan_alt_grid.L[:, 1112]))"
   ]
  },
  {
   "cell_type": "code",
   "execution_count": null,
   "id": "9efa41d8-7adb-468e-99cc-cd5969e959b3",
   "metadata": {},
   "outputs": [],
   "source": []
  }
 ],
 "metadata": {
  "kernelspec": {
   "display_name": "Julia 24 Threads 1.7.3",
   "language": "julia",
   "name": "julia-24-threads-1.7"
  },
  "language_info": {
   "file_extension": ".jl",
   "mimetype": "application/julia",
   "name": "julia",
   "version": "1.7.3"
  }
 },
 "nbformat": 4,
 "nbformat_minor": 5
}
