{
 "cells": [
  {
   "cell_type": "markdown",
   "id": "76f80b67-85df-4d55-bb10-f6913d392780",
   "metadata": {},
   "source": [
    "## Data Analysis using BulkLMM - BXD Longevity Study"
   ]
  },
  {
   "cell_type": "code",
   "execution_count": 1,
   "id": "028f2786-ee1b-4ec3-ab13-05110ad9caf6",
   "metadata": {},
   "outputs": [],
   "source": [
    "using CSV, DelimitedFiles, DataFrames, Missings, XLSX\n",
    "using LinearAlgebra, Statistics, Optim\n",
    "using Random, Distributions, LoopVectorization\n",
    "# using GeneNetworkAPI, Downloads\n",
    "using BenchmarkTools"
   ]
  },
  {
   "cell_type": "code",
   "execution_count": 2,
   "id": "4a6c9448-eeee-4fe2-8b74-a183abe6cf6f",
   "metadata": {},
   "outputs": [],
   "source": [
    "using Plots"
   ]
  },
  {
   "cell_type": "code",
   "execution_count": 3,
   "id": "bc3d1279-dc9b-4a8e-8616-12e041d6179f",
   "metadata": {},
   "outputs": [],
   "source": [
    "local_path = \"../../BulkLMM.jl/src\";"
   ]
  },
  {
   "cell_type": "code",
   "execution_count": 4,
   "id": "d10bc79d-6961-489d-a971-fb0562b6e25b",
   "metadata": {},
   "outputs": [],
   "source": [
    "#=\n",
    "import LossFunctions: HuberLoss, value\n",
    "import Distributions: Chisq, ccdf\n",
    "import StatsBase: mad, sample\n",
    "\n",
    "function huberize(y::Vector{Float64})\n",
    "    m = median(y)\n",
    "    s = mad(y,normalize=true)\n",
    "    z = (y.-m)./s\n",
    "    l = value.(HuberLoss(1),z)\n",
    "    x = sign.(z).* sqrt.(2*l)\n",
    "    return m .+ s.*x\n",
    "end\n",
    "=#"
   ]
  },
  {
   "cell_type": "markdown",
   "id": "548266cf-7288-4c51-a8d0-61a23e207f4e",
   "metadata": {},
   "source": [
    "## Load processed_data:"
   ]
  },
  {
   "cell_type": "markdown",
   "id": "76b2ccbd-e0db-4bcd-a11d-7703fbbbd811",
   "metadata": {},
   "source": [
    "### By individuals:"
   ]
  },
  {
   "cell_type": "code",
   "execution_count": 5,
   "id": "d6fec140-00e9-4f42-9b72-3b5f067bcf20",
   "metadata": {},
   "outputs": [
    {
     "data": {
      "text/plain": [
       "\"/home/zyu20/git/BulkLMM_Analyses/BXDLongevity\""
      ]
     },
     "execution_count": 5,
     "metadata": {},
     "output_type": "execute_result"
    }
   ],
   "source": [
    "pwd()"
   ]
  },
  {
   "cell_type": "code",
   "execution_count": 6,
   "id": "abafa447-fb73-405f-a457-8ab1ac3cefcc",
   "metadata": {},
   "outputs": [],
   "source": [
    "BXD_pheno_ind_summary_df = CSV.read(\"../../../shareddata/BXDLongevity/data/GN886_pheno_summary.csv\", DataFrame);"
   ]
  },
  {
   "cell_type": "markdown",
   "id": "a3e12b95-f2e2-4cfc-812d-34f74ac83f1e",
   "metadata": {},
   "source": [
    "By individuals, there are 248 individual samples for 32445 livear proteome."
   ]
  },
  {
   "cell_type": "code",
   "execution_count": 7,
   "id": "cf42c49c-60d5-458e-9206-35123de57d51",
   "metadata": {},
   "outputs": [
    {
     "name": "stdout",
     "output_type": "stream",
     "text": [
      "(248, 32448)\n"
     ]
    },
    {
     "data": {
      "text/html": [
       "<div><div style = \"float: left;\"><span>10×10 DataFrame</span></div><div style = \"clear: both;\"></div></div><div class = \"data-frame\" style = \"overflow-x: scroll;\"><table class = \"data-frame\" style = \"margin-bottom: 6px;\"><thead><tr class = \"header\"><th class = \"rowNumber\" style = \"font-weight: bold; text-align: right;\">Row</th><th style = \"text-align: left;\">Sample</th><th style = \"text-align: left;\">Strain</th><th style = \"text-align: left;\">Strain_num</th><th style = \"text-align: left;\">P42209_DESGLNRK_2</th><th style = \"text-align: left;\">P42209_GLRPLDVAFLR_3</th><th style = \"text-align: left;\">Q99M02_VGDPVYR_2</th><th style = \"text-align: left;\">Q99M02_VWIYPIK_2</th><th style = \"text-align: left;\">Q99M02_LCDPSVK_2</th><th style = \"text-align: left;\">Q99M02_CVLTTVDPDTGIIDR_2</th><th style = \"text-align: left;\">Q99M02_LVQFDTSMK_2</th></tr><tr class = \"subheader headerLastRow\"><th class = \"rowNumber\" style = \"font-weight: bold; text-align: right;\"></th><th title = \"String7\" style = \"text-align: left;\">String7</th><th title = \"String7\" style = \"text-align: left;\">String7</th><th title = \"Int64\" style = \"text-align: left;\">Int64</th><th title = \"Float64\" style = \"text-align: left;\">Float64</th><th title = \"Float64\" style = \"text-align: left;\">Float64</th><th title = \"Float64\" style = \"text-align: left;\">Float64</th><th title = \"Float64\" style = \"text-align: left;\">Float64</th><th title = \"Float64\" style = \"text-align: left;\">Float64</th><th title = \"Float64\" style = \"text-align: left;\">Float64</th><th title = \"Float64\" style = \"text-align: left;\">Float64</th></tr></thead><tbody><tr><td class = \"rowNumber\" style = \"font-weight: bold; text-align: right;\">1</td><td style = \"text-align: left;\">H1009</td><td style = \"text-align: left;\">BXD9</td><td style = \"text-align: right;\">9</td><td style = \"text-align: right;\">11.349</td><td style = \"text-align: right;\">11.534</td><td style = \"text-align: right;\">17.587</td><td style = \"text-align: right;\">17.517</td><td style = \"text-align: right;\">17.309</td><td style = \"text-align: right;\">16.574</td><td style = \"text-align: right;\">16.323</td></tr><tr><td class = \"rowNumber\" style = \"font-weight: bold; text-align: right;\">2</td><td style = \"text-align: left;\">H0370</td><td style = \"text-align: left;\">BXD9</td><td style = \"text-align: right;\">9</td><td style = \"text-align: right;\">11.249</td><td style = \"text-align: right;\">12.735</td><td style = \"text-align: right;\">17.427</td><td style = \"text-align: right;\">17.325</td><td style = \"text-align: right;\">17.252</td><td style = \"text-align: right;\">16.685</td><td style = \"text-align: right;\">16.021</td></tr><tr><td class = \"rowNumber\" style = \"font-weight: bold; text-align: right;\">3</td><td style = \"text-align: left;\">H2577</td><td style = \"text-align: left;\">BXD9</td><td style = \"text-align: right;\">9</td><td style = \"text-align: right;\">12.415</td><td style = \"text-align: right;\">10.487</td><td style = \"text-align: right;\">17.89</td><td style = \"text-align: right;\">17.488</td><td style = \"text-align: right;\">17.594</td><td style = \"text-align: right;\">16.731</td><td style = \"text-align: right;\">16.208</td></tr><tr><td class = \"rowNumber\" style = \"font-weight: bold; text-align: right;\">4</td><td style = \"text-align: left;\">H0365</td><td style = \"text-align: left;\">BXD9</td><td style = \"text-align: right;\">9</td><td style = \"text-align: right;\">11.374</td><td style = \"text-align: right;\">10.674</td><td style = \"text-align: right;\">17.714</td><td style = \"text-align: right;\">17.401</td><td style = \"text-align: right;\">17.381</td><td style = \"text-align: right;\">16.621</td><td style = \"text-align: right;\">16.337</td></tr><tr><td class = \"rowNumber\" style = \"font-weight: bold; text-align: right;\">5</td><td style = \"text-align: left;\">H1333</td><td style = \"text-align: left;\">BXD13</td><td style = \"text-align: right;\">13</td><td style = \"text-align: right;\">11.687</td><td style = \"text-align: right;\">11.524</td><td style = \"text-align: right;\">17.362</td><td style = \"text-align: right;\">17.367</td><td style = \"text-align: right;\">17.071</td><td style = \"text-align: right;\">16.465</td><td style = \"text-align: right;\">15.97</td></tr><tr><td class = \"rowNumber\" style = \"font-weight: bold; text-align: right;\">6</td><td style = \"text-align: left;\">H2259</td><td style = \"text-align: left;\">BXD24</td><td style = \"text-align: right;\">24</td><td style = \"text-align: right;\">11.837</td><td style = \"text-align: right;\">11.715</td><td style = \"text-align: right;\">17.57</td><td style = \"text-align: right;\">17.792</td><td style = \"text-align: right;\">17.505</td><td style = \"text-align: right;\">16.894</td><td style = \"text-align: right;\">16.277</td></tr><tr><td class = \"rowNumber\" style = \"font-weight: bold; text-align: right;\">7</td><td style = \"text-align: left;\">H1792</td><td style = \"text-align: left;\">BXD24</td><td style = \"text-align: right;\">24</td><td style = \"text-align: right;\">11.563</td><td style = \"text-align: right;\">11.434</td><td style = \"text-align: right;\">17.789</td><td style = \"text-align: right;\">17.847</td><td style = \"text-align: right;\">17.416</td><td style = \"text-align: right;\">17.042</td><td style = \"text-align: right;\">16.292</td></tr><tr><td class = \"rowNumber\" style = \"font-weight: bold; text-align: right;\">8</td><td style = \"text-align: left;\">H1791</td><td style = \"text-align: left;\">BXD24</td><td style = \"text-align: right;\">24</td><td style = \"text-align: right;\">12.5</td><td style = \"text-align: right;\">12.273</td><td style = \"text-align: right;\">17.944</td><td style = \"text-align: right;\">17.833</td><td style = \"text-align: right;\">17.63</td><td style = \"text-align: right;\">16.862</td><td style = \"text-align: right;\">16.3</td></tr><tr><td class = \"rowNumber\" style = \"font-weight: bold; text-align: right;\">9</td><td style = \"text-align: left;\">H1541</td><td style = \"text-align: left;\">BXD24</td><td style = \"text-align: right;\">24</td><td style = \"text-align: right;\">11.815</td><td style = \"text-align: right;\">11.564</td><td style = \"text-align: right;\">17.794</td><td style = \"text-align: right;\">17.759</td><td style = \"text-align: right;\">17.456</td><td style = \"text-align: right;\">16.878</td><td style = \"text-align: right;\">16.377</td></tr><tr><td class = \"rowNumber\" style = \"font-weight: bold; text-align: right;\">10</td><td style = \"text-align: left;\">H1277</td><td style = \"text-align: left;\">BXD24</td><td style = \"text-align: right;\">24</td><td style = \"text-align: right;\">12.674</td><td style = \"text-align: right;\">11.743</td><td style = \"text-align: right;\">17.866</td><td style = \"text-align: right;\">17.845</td><td style = \"text-align: right;\">17.577</td><td style = \"text-align: right;\">16.922</td><td style = \"text-align: right;\">16.26</td></tr></tbody></table></div>"
      ],
      "text/latex": [
       "\\begin{tabular}{r|ccccccc}\n",
       "\t& Sample & Strain & Strain\\_num & P42209\\_DESGLNRK\\_2 & P42209\\_GLRPLDVAFLR\\_3 & Q99M02\\_VGDPVYR\\_2 & \\\\\n",
       "\t\\hline\n",
       "\t& String7 & String7 & Int64 & Float64 & Float64 & Float64 & \\\\\n",
       "\t\\hline\n",
       "\t1 & H1009 & BXD9 & 9 & 11.349 & 11.534 & 17.587 & $\\dots$ \\\\\n",
       "\t2 & H0370 & BXD9 & 9 & 11.249 & 12.735 & 17.427 & $\\dots$ \\\\\n",
       "\t3 & H2577 & BXD9 & 9 & 12.415 & 10.487 & 17.89 & $\\dots$ \\\\\n",
       "\t4 & H0365 & BXD9 & 9 & 11.374 & 10.674 & 17.714 & $\\dots$ \\\\\n",
       "\t5 & H1333 & BXD13 & 13 & 11.687 & 11.524 & 17.362 & $\\dots$ \\\\\n",
       "\t6 & H2259 & BXD24 & 24 & 11.837 & 11.715 & 17.57 & $\\dots$ \\\\\n",
       "\t7 & H1792 & BXD24 & 24 & 11.563 & 11.434 & 17.789 & $\\dots$ \\\\\n",
       "\t8 & H1791 & BXD24 & 24 & 12.5 & 12.273 & 17.944 & $\\dots$ \\\\\n",
       "\t9 & H1541 & BXD24 & 24 & 11.815 & 11.564 & 17.794 & $\\dots$ \\\\\n",
       "\t10 & H1277 & BXD24 & 24 & 12.674 & 11.743 & 17.866 & $\\dots$ \\\\\n",
       "\\end{tabular}\n"
      ],
      "text/plain": [
       "\u001b[1m10×10 DataFrame\u001b[0m\n",
       "\u001b[1m Row \u001b[0m│\u001b[1m Sample  \u001b[0m\u001b[1m Strain  \u001b[0m\u001b[1m Strain_num \u001b[0m\u001b[1m P42209_DESGLNRK_2 \u001b[0m\u001b[1m P42209_GLRPLDVAFLR_3 \u001b[0m\u001b[1m \u001b[0m ⋯\n",
       "     │\u001b[90m String7 \u001b[0m\u001b[90m String7 \u001b[0m\u001b[90m Int64      \u001b[0m\u001b[90m Float64           \u001b[0m\u001b[90m Float64              \u001b[0m\u001b[90m \u001b[0m ⋯\n",
       "─────┼──────────────────────────────────────────────────────────────────────────\n",
       "   1 │ H1009    BXD9              9             11.349                11.534   ⋯\n",
       "   2 │ H0370    BXD9              9             11.249                12.735\n",
       "   3 │ H2577    BXD9              9             12.415                10.487\n",
       "   4 │ H0365    BXD9              9             11.374                10.674\n",
       "   5 │ H1333    BXD13            13             11.687                11.524   ⋯\n",
       "   6 │ H2259    BXD24            24             11.837                11.715\n",
       "   7 │ H1792    BXD24            24             11.563                11.434\n",
       "   8 │ H1791    BXD24            24             12.5                  12.273\n",
       "   9 │ H1541    BXD24            24             11.815                11.564   ⋯\n",
       "  10 │ H1277    BXD24            24             12.674                11.743\n",
       "\u001b[36m                                                               5 columns omitted\u001b[0m"
      ]
     },
     "execution_count": 7,
     "metadata": {},
     "output_type": "execute_result"
    }
   ],
   "source": [
    "println(size(BXD_pheno_ind_summary_df)) \n",
    "BXD_pheno_ind_summary_df[1:10, 1:10]"
   ]
  },
  {
   "cell_type": "code",
   "execution_count": 8,
   "id": "0ff1711f-771b-432b-a230-4161835d4b52",
   "metadata": {},
   "outputs": [],
   "source": [
    "BXD_geno_ind_summary_df = CSV.read(\"../../../shareddata/BXDLongevity/data/GN886_geno_summary.csv\", DataFrame);"
   ]
  },
  {
   "cell_type": "markdown",
   "id": "2f3abf17-58be-4916-9a5f-412546a12f50",
   "metadata": {},
   "source": [
    "By individuals, there are 248 individual samples for 7321 markers."
   ]
  },
  {
   "cell_type": "code",
   "execution_count": 9,
   "id": "e7f39851-0173-4c71-b583-dd4ad554445d",
   "metadata": {},
   "outputs": [
    {
     "name": "stdout",
     "output_type": "stream",
     "text": [
      "(248, 7324)\n"
     ]
    },
    {
     "data": {
      "text/html": [
       "<div><div style = \"float: left;\"><span>10×10 DataFrame</span></div><div style = \"clear: both;\"></div></div><div class = \"data-frame\" style = \"overflow-x: scroll;\"><table class = \"data-frame\" style = \"margin-bottom: 6px;\"><thead><tr class = \"header\"><th class = \"rowNumber\" style = \"font-weight: bold; text-align: right;\">Row</th><th style = \"text-align: left;\">Sample</th><th style = \"text-align: left;\">Strain</th><th style = \"text-align: left;\">Strain_num</th><th style = \"text-align: left;\">rs31443144</th><th style = \"text-align: left;\">rs6269442</th><th style = \"text-align: left;\">rs32285189</th><th style = \"text-align: left;\">rs258367496</th><th style = \"text-align: left;\">rs32430919</th><th style = \"text-align: left;\">rs36251697</th><th style = \"text-align: left;\">rs30658298</th></tr><tr class = \"subheader headerLastRow\"><th class = \"rowNumber\" style = \"font-weight: bold; text-align: right;\"></th><th title = \"String7\" style = \"text-align: left;\">String7</th><th title = \"String7\" style = \"text-align: left;\">String7</th><th title = \"Int64\" style = \"text-align: left;\">Int64</th><th title = \"Float64\" style = \"text-align: left;\">Float64</th><th title = \"Float64\" style = \"text-align: left;\">Float64</th><th title = \"Float64\" style = \"text-align: left;\">Float64</th><th title = \"Float64\" style = \"text-align: left;\">Float64</th><th title = \"Float64\" style = \"text-align: left;\">Float64</th><th title = \"Float64\" style = \"text-align: left;\">Float64</th><th title = \"Float64\" style = \"text-align: left;\">Float64</th></tr></thead><tbody><tr><td class = \"rowNumber\" style = \"font-weight: bold; text-align: right;\">1</td><td style = \"text-align: left;\">H1009</td><td style = \"text-align: left;\">BXD9</td><td style = \"text-align: right;\">9</td><td style = \"text-align: right;\">0.0</td><td style = \"text-align: right;\">0.0</td><td style = \"text-align: right;\">0.0</td><td style = \"text-align: right;\">0.0</td><td style = \"text-align: right;\">0.0</td><td style = \"text-align: right;\">0.0</td><td style = \"text-align: right;\">0.0</td></tr><tr><td class = \"rowNumber\" style = \"font-weight: bold; text-align: right;\">2</td><td style = \"text-align: left;\">H0370</td><td style = \"text-align: left;\">BXD9</td><td style = \"text-align: right;\">9</td><td style = \"text-align: right;\">0.0</td><td style = \"text-align: right;\">0.0</td><td style = \"text-align: right;\">0.0</td><td style = \"text-align: right;\">0.0</td><td style = \"text-align: right;\">0.0</td><td style = \"text-align: right;\">0.0</td><td style = \"text-align: right;\">0.0</td></tr><tr><td class = \"rowNumber\" style = \"font-weight: bold; text-align: right;\">3</td><td style = \"text-align: left;\">H2577</td><td style = \"text-align: left;\">BXD9</td><td style = \"text-align: right;\">9</td><td style = \"text-align: right;\">0.0</td><td style = \"text-align: right;\">0.0</td><td style = \"text-align: right;\">0.0</td><td style = \"text-align: right;\">0.0</td><td style = \"text-align: right;\">0.0</td><td style = \"text-align: right;\">0.0</td><td style = \"text-align: right;\">0.0</td></tr><tr><td class = \"rowNumber\" style = \"font-weight: bold; text-align: right;\">4</td><td style = \"text-align: left;\">H0365</td><td style = \"text-align: left;\">BXD9</td><td style = \"text-align: right;\">9</td><td style = \"text-align: right;\">0.0</td><td style = \"text-align: right;\">0.0</td><td style = \"text-align: right;\">0.0</td><td style = \"text-align: right;\">0.0</td><td style = \"text-align: right;\">0.0</td><td style = \"text-align: right;\">0.0</td><td style = \"text-align: right;\">0.0</td></tr><tr><td class = \"rowNumber\" style = \"font-weight: bold; text-align: right;\">5</td><td style = \"text-align: left;\">H1333</td><td style = \"text-align: left;\">BXD13</td><td style = \"text-align: right;\">13</td><td style = \"text-align: right;\">0.0</td><td style = \"text-align: right;\">0.0</td><td style = \"text-align: right;\">0.0</td><td style = \"text-align: right;\">0.0</td><td style = \"text-align: right;\">0.0</td><td style = \"text-align: right;\">0.0</td><td style = \"text-align: right;\">0.0</td></tr><tr><td class = \"rowNumber\" style = \"font-weight: bold; text-align: right;\">6</td><td style = \"text-align: left;\">H2259</td><td style = \"text-align: left;\">BXD24</td><td style = \"text-align: right;\">24</td><td style = \"text-align: right;\">0.0</td><td style = \"text-align: right;\">0.0</td><td style = \"text-align: right;\">0.0</td><td style = \"text-align: right;\">0.0</td><td style = \"text-align: right;\">0.0</td><td style = \"text-align: right;\">0.0</td><td style = \"text-align: right;\">0.0</td></tr><tr><td class = \"rowNumber\" style = \"font-weight: bold; text-align: right;\">7</td><td style = \"text-align: left;\">H1792</td><td style = \"text-align: left;\">BXD24</td><td style = \"text-align: right;\">24</td><td style = \"text-align: right;\">0.0</td><td style = \"text-align: right;\">0.0</td><td style = \"text-align: right;\">0.0</td><td style = \"text-align: right;\">0.0</td><td style = \"text-align: right;\">0.0</td><td style = \"text-align: right;\">0.0</td><td style = \"text-align: right;\">0.0</td></tr><tr><td class = \"rowNumber\" style = \"font-weight: bold; text-align: right;\">8</td><td style = \"text-align: left;\">H1791</td><td style = \"text-align: left;\">BXD24</td><td style = \"text-align: right;\">24</td><td style = \"text-align: right;\">0.0</td><td style = \"text-align: right;\">0.0</td><td style = \"text-align: right;\">0.0</td><td style = \"text-align: right;\">0.0</td><td style = \"text-align: right;\">0.0</td><td style = \"text-align: right;\">0.0</td><td style = \"text-align: right;\">0.0</td></tr><tr><td class = \"rowNumber\" style = \"font-weight: bold; text-align: right;\">9</td><td style = \"text-align: left;\">H1541</td><td style = \"text-align: left;\">BXD24</td><td style = \"text-align: right;\">24</td><td style = \"text-align: right;\">0.0</td><td style = \"text-align: right;\">0.0</td><td style = \"text-align: right;\">0.0</td><td style = \"text-align: right;\">0.0</td><td style = \"text-align: right;\">0.0</td><td style = \"text-align: right;\">0.0</td><td style = \"text-align: right;\">0.0</td></tr><tr><td class = \"rowNumber\" style = \"font-weight: bold; text-align: right;\">10</td><td style = \"text-align: left;\">H1277</td><td style = \"text-align: left;\">BXD24</td><td style = \"text-align: right;\">24</td><td style = \"text-align: right;\">0.0</td><td style = \"text-align: right;\">0.0</td><td style = \"text-align: right;\">0.0</td><td style = \"text-align: right;\">0.0</td><td style = \"text-align: right;\">0.0</td><td style = \"text-align: right;\">0.0</td><td style = \"text-align: right;\">0.0</td></tr></tbody></table></div>"
      ],
      "text/latex": [
       "\\begin{tabular}{r|ccccccccc}\n",
       "\t& Sample & Strain & Strain\\_num & rs31443144 & rs6269442 & rs32285189 & rs258367496 & rs32430919 & \\\\\n",
       "\t\\hline\n",
       "\t& String7 & String7 & Int64 & Float64 & Float64 & Float64 & Float64 & Float64 & \\\\\n",
       "\t\\hline\n",
       "\t1 & H1009 & BXD9 & 9 & 0.0 & 0.0 & 0.0 & 0.0 & 0.0 & $\\dots$ \\\\\n",
       "\t2 & H0370 & BXD9 & 9 & 0.0 & 0.0 & 0.0 & 0.0 & 0.0 & $\\dots$ \\\\\n",
       "\t3 & H2577 & BXD9 & 9 & 0.0 & 0.0 & 0.0 & 0.0 & 0.0 & $\\dots$ \\\\\n",
       "\t4 & H0365 & BXD9 & 9 & 0.0 & 0.0 & 0.0 & 0.0 & 0.0 & $\\dots$ \\\\\n",
       "\t5 & H1333 & BXD13 & 13 & 0.0 & 0.0 & 0.0 & 0.0 & 0.0 & $\\dots$ \\\\\n",
       "\t6 & H2259 & BXD24 & 24 & 0.0 & 0.0 & 0.0 & 0.0 & 0.0 & $\\dots$ \\\\\n",
       "\t7 & H1792 & BXD24 & 24 & 0.0 & 0.0 & 0.0 & 0.0 & 0.0 & $\\dots$ \\\\\n",
       "\t8 & H1791 & BXD24 & 24 & 0.0 & 0.0 & 0.0 & 0.0 & 0.0 & $\\dots$ \\\\\n",
       "\t9 & H1541 & BXD24 & 24 & 0.0 & 0.0 & 0.0 & 0.0 & 0.0 & $\\dots$ \\\\\n",
       "\t10 & H1277 & BXD24 & 24 & 0.0 & 0.0 & 0.0 & 0.0 & 0.0 & $\\dots$ \\\\\n",
       "\\end{tabular}\n"
      ],
      "text/plain": [
       "\u001b[1m10×10 DataFrame\u001b[0m\n",
       "\u001b[1m Row \u001b[0m│\u001b[1m Sample  \u001b[0m\u001b[1m Strain  \u001b[0m\u001b[1m Strain_num \u001b[0m\u001b[1m rs31443144 \u001b[0m\u001b[1m rs6269442 \u001b[0m\u001b[1m rs32285189 \u001b[0m\u001b[1m rs2583\u001b[0m ⋯\n",
       "     │\u001b[90m String7 \u001b[0m\u001b[90m String7 \u001b[0m\u001b[90m Int64      \u001b[0m\u001b[90m Float64    \u001b[0m\u001b[90m Float64   \u001b[0m\u001b[90m Float64    \u001b[0m\u001b[90m Float6\u001b[0m ⋯\n",
       "─────┼──────────────────────────────────────────────────────────────────────────\n",
       "   1 │ H1009    BXD9              9         0.0        0.0         0.0         ⋯\n",
       "   2 │ H0370    BXD9              9         0.0        0.0         0.0\n",
       "   3 │ H2577    BXD9              9         0.0        0.0         0.0\n",
       "   4 │ H0365    BXD9              9         0.0        0.0         0.0\n",
       "   5 │ H1333    BXD13            13         0.0        0.0         0.0         ⋯\n",
       "   6 │ H2259    BXD24            24         0.0        0.0         0.0\n",
       "   7 │ H1792    BXD24            24         0.0        0.0         0.0\n",
       "   8 │ H1791    BXD24            24         0.0        0.0         0.0\n",
       "   9 │ H1541    BXD24            24         0.0        0.0         0.0         ⋯\n",
       "  10 │ H1277    BXD24            24         0.0        0.0         0.0\n",
       "\u001b[36m                                                               4 columns omitted\u001b[0m"
      ]
     },
     "execution_count": 9,
     "metadata": {},
     "output_type": "execute_result"
    }
   ],
   "source": [
    "println(size(BXD_geno_ind_summary_df)) \n",
    "BXD_geno_ind_summary_df[1:10, 1:10]"
   ]
  },
  {
   "cell_type": "markdown",
   "id": "09ec71ff-4361-42b5-b7be-b5b67963dc81",
   "metadata": {},
   "source": [
    "### By strains:"
   ]
  },
  {
   "cell_type": "code",
   "execution_count": 10,
   "id": "446da4f9-0e1b-481b-b1c0-27fbd9d0165b",
   "metadata": {},
   "outputs": [
    {
     "data": {
      "text/plain": [
       "\"/home/zyu20/git/BulkLMM_Analyses/BXDLongevity\""
      ]
     },
     "execution_count": 10,
     "metadata": {},
     "output_type": "execute_result"
    }
   ],
   "source": [
    "pwd()"
   ]
  },
  {
   "cell_type": "code",
   "execution_count": 11,
   "id": "87fab8f1-fbe4-49d2-94cc-0163ac9ad461",
   "metadata": {},
   "outputs": [],
   "source": [
    "BXD_pheno_strains_summary_df = CSV.read(\"../../../shareddata/BXDLongevity/data/GN886_pheno_strain_means_summary.csv\", DataFrame);"
   ]
  },
  {
   "cell_type": "markdown",
   "id": "2255810e-cdd7-4473-a605-8a96126cbad0",
   "metadata": {},
   "source": [
    "By strains, there are 50 BXD strains for 32445 liver proteome."
   ]
  },
  {
   "cell_type": "code",
   "execution_count": 12,
   "id": "f5441670-3929-420d-a6c3-ceb794ea9cb1",
   "metadata": {},
   "outputs": [
    {
     "name": "stdout",
     "output_type": "stream",
     "text": [
      "(50, 32447)\n"
     ]
    },
    {
     "data": {
      "text/html": [
       "<div><div style = \"float: left;\"><span>10×10 DataFrame</span></div><div style = \"clear: both;\"></div></div><div class = \"data-frame\" style = \"overflow-x: scroll;\"><table class = \"data-frame\" style = \"margin-bottom: 6px;\"><thead><tr class = \"header\"><th class = \"rowNumber\" style = \"font-weight: bold; text-align: right;\">Row</th><th style = \"text-align: left;\">Strain</th><th style = \"text-align: left;\">Number of Samples</th><th style = \"text-align: left;\">P42209_DESGLNRK_2</th><th style = \"text-align: left;\">P42209_GLRPLDVAFLR_3</th><th style = \"text-align: left;\">Q99M02_VGDPVYR_2</th><th style = \"text-align: left;\">Q99M02_VWIYPIK_2</th><th style = \"text-align: left;\">Q99M02_LCDPSVK_2</th><th style = \"text-align: left;\">Q99M02_CVLTTVDPDTGIIDR_2</th><th style = \"text-align: left;\">Q99M02_LVQFDTSMK_2</th><th style = \"text-align: left;\">Q99M02_QLQQVGTVSK_2</th></tr><tr class = \"subheader headerLastRow\"><th class = \"rowNumber\" style = \"font-weight: bold; text-align: right;\"></th><th title = \"String7\" style = \"text-align: left;\">String7</th><th title = \"Int64\" style = \"text-align: left;\">Int64</th><th title = \"Float64\" style = \"text-align: left;\">Float64</th><th title = \"Float64\" style = \"text-align: left;\">Float64</th><th title = \"Float64\" style = \"text-align: left;\">Float64</th><th title = \"Float64\" style = \"text-align: left;\">Float64</th><th title = \"Float64\" style = \"text-align: left;\">Float64</th><th title = \"Float64\" style = \"text-align: left;\">Float64</th><th title = \"Float64\" style = \"text-align: left;\">Float64</th><th title = \"Float64\" style = \"text-align: left;\">Float64</th></tr></thead><tbody><tr><td class = \"rowNumber\" style = \"font-weight: bold; text-align: right;\">1</td><td style = \"text-align: left;\">BXD9</td><td style = \"text-align: right;\">4</td><td style = \"text-align: right;\">11.5968</td><td style = \"text-align: right;\">11.3575</td><td style = \"text-align: right;\">17.6545</td><td style = \"text-align: right;\">17.4327</td><td style = \"text-align: right;\">17.384</td><td style = \"text-align: right;\">16.6528</td><td style = \"text-align: right;\">16.2222</td><td style = \"text-align: right;\">16.3227</td></tr><tr><td class = \"rowNumber\" style = \"font-weight: bold; text-align: right;\">2</td><td style = \"text-align: left;\">BXD13</td><td style = \"text-align: right;\">1</td><td style = \"text-align: right;\">11.687</td><td style = \"text-align: right;\">11.524</td><td style = \"text-align: right;\">17.362</td><td style = \"text-align: right;\">17.367</td><td style = \"text-align: right;\">17.071</td><td style = \"text-align: right;\">16.465</td><td style = \"text-align: right;\">15.97</td><td style = \"text-align: right;\">15.98</td></tr><tr><td class = \"rowNumber\" style = \"font-weight: bold; text-align: right;\">3</td><td style = \"text-align: left;\">BXD24</td><td style = \"text-align: right;\">5</td><td style = \"text-align: right;\">12.0778</td><td style = \"text-align: right;\">11.7458</td><td style = \"text-align: right;\">17.7926</td><td style = \"text-align: right;\">17.8152</td><td style = \"text-align: right;\">17.5168</td><td style = \"text-align: right;\">16.9196</td><td style = \"text-align: right;\">16.3012</td><td style = \"text-align: right;\">16.4304</td></tr><tr><td class = \"rowNumber\" style = \"font-weight: bold; text-align: right;\">4</td><td style = \"text-align: left;\">BXD27</td><td style = \"text-align: right;\">3</td><td style = \"text-align: right;\">11.717</td><td style = \"text-align: right;\">11.149</td><td style = \"text-align: right;\">17.336</td><td style = \"text-align: right;\">17.3143</td><td style = \"text-align: right;\">17.165</td><td style = \"text-align: right;\">16.5283</td><td style = \"text-align: right;\">15.9407</td><td style = \"text-align: right;\">16.002</td></tr><tr><td class = \"rowNumber\" style = \"font-weight: bold; text-align: right;\">5</td><td style = \"text-align: left;\">BXD29</td><td style = \"text-align: right;\">11</td><td style = \"text-align: right;\">11.735</td><td style = \"text-align: right;\">11.3496</td><td style = \"text-align: right;\">17.4583</td><td style = \"text-align: right;\">17.3877</td><td style = \"text-align: right;\">17.2431</td><td style = \"text-align: right;\">16.4945</td><td style = \"text-align: right;\">16.0869</td><td style = \"text-align: right;\">16.1075</td></tr><tr><td class = \"rowNumber\" style = \"font-weight: bold; text-align: right;\">6</td><td style = \"text-align: left;\">BXD32</td><td style = \"text-align: right;\">8</td><td style = \"text-align: right;\">11.6266</td><td style = \"text-align: right;\">11.554</td><td style = \"text-align: right;\">17.8254</td><td style = \"text-align: right;\">17.7716</td><td style = \"text-align: right;\">17.4639</td><td style = \"text-align: right;\">16.9029</td><td style = \"text-align: right;\">16.434</td><td style = \"text-align: right;\">16.425</td></tr><tr><td class = \"rowNumber\" style = \"font-weight: bold; text-align: right;\">7</td><td style = \"text-align: left;\">BXD34</td><td style = \"text-align: right;\">13</td><td style = \"text-align: right;\">11.7491</td><td style = \"text-align: right;\">11.9135</td><td style = \"text-align: right;\">17.6108</td><td style = \"text-align: right;\">17.5974</td><td style = \"text-align: right;\">17.2988</td><td style = \"text-align: right;\">16.7761</td><td style = \"text-align: right;\">16.3147</td><td style = \"text-align: right;\">16.2926</td></tr><tr><td class = \"rowNumber\" style = \"font-weight: bold; text-align: right;\">8</td><td style = \"text-align: left;\">BXD39</td><td style = \"text-align: right;\">5</td><td style = \"text-align: right;\">11.9158</td><td style = \"text-align: right;\">11.719</td><td style = \"text-align: right;\">17.395</td><td style = \"text-align: right;\">17.385</td><td style = \"text-align: right;\">17.157</td><td style = \"text-align: right;\">16.5226</td><td style = \"text-align: right;\">16.179</td><td style = \"text-align: right;\">16.0594</td></tr><tr><td class = \"rowNumber\" style = \"font-weight: bold; text-align: right;\">9</td><td style = \"text-align: left;\">BXD40</td><td style = \"text-align: right;\">8</td><td style = \"text-align: right;\">11.8651</td><td style = \"text-align: right;\">11.6817</td><td style = \"text-align: right;\">17.5986</td><td style = \"text-align: right;\">17.6386</td><td style = \"text-align: right;\">17.3861</td><td style = \"text-align: right;\">16.6824</td><td style = \"text-align: right;\">16.2855</td><td style = \"text-align: right;\">16.2523</td></tr><tr><td class = \"rowNumber\" style = \"font-weight: bold; text-align: right;\">10</td><td style = \"text-align: left;\">BXD43</td><td style = \"text-align: right;\">4</td><td style = \"text-align: right;\">12.378</td><td style = \"text-align: right;\">11.4563</td><td style = \"text-align: right;\">17.76</td><td style = \"text-align: right;\">17.8035</td><td style = \"text-align: right;\">17.3652</td><td style = \"text-align: right;\">16.885</td><td style = \"text-align: right;\">16.5245</td><td style = \"text-align: right;\">16.3532</td></tr></tbody></table></div>"
      ],
      "text/latex": [
       "\\begin{tabular}{r|cccccc}\n",
       "\t& Strain & Number of Samples & P42209\\_DESGLNRK\\_2 & P42209\\_GLRPLDVAFLR\\_3 & Q99M02\\_VGDPVYR\\_2 & \\\\\n",
       "\t\\hline\n",
       "\t& String7 & Int64 & Float64 & Float64 & Float64 & \\\\\n",
       "\t\\hline\n",
       "\t1 & BXD9 & 4 & 11.5968 & 11.3575 & 17.6545 & $\\dots$ \\\\\n",
       "\t2 & BXD13 & 1 & 11.687 & 11.524 & 17.362 & $\\dots$ \\\\\n",
       "\t3 & BXD24 & 5 & 12.0778 & 11.7458 & 17.7926 & $\\dots$ \\\\\n",
       "\t4 & BXD27 & 3 & 11.717 & 11.149 & 17.336 & $\\dots$ \\\\\n",
       "\t5 & BXD29 & 11 & 11.735 & 11.3496 & 17.4583 & $\\dots$ \\\\\n",
       "\t6 & BXD32 & 8 & 11.6266 & 11.554 & 17.8254 & $\\dots$ \\\\\n",
       "\t7 & BXD34 & 13 & 11.7491 & 11.9135 & 17.6108 & $\\dots$ \\\\\n",
       "\t8 & BXD39 & 5 & 11.9158 & 11.719 & 17.395 & $\\dots$ \\\\\n",
       "\t9 & BXD40 & 8 & 11.8651 & 11.6817 & 17.5986 & $\\dots$ \\\\\n",
       "\t10 & BXD43 & 4 & 12.378 & 11.4563 & 17.76 & $\\dots$ \\\\\n",
       "\\end{tabular}\n"
      ],
      "text/plain": [
       "\u001b[1m10×10 DataFrame\u001b[0m\n",
       "\u001b[1m Row \u001b[0m│\u001b[1m Strain  \u001b[0m\u001b[1m Number of Samples \u001b[0m\u001b[1m P42209_DESGLNRK_2 \u001b[0m\u001b[1m P42209_GLRPLDVAFLR_3 \u001b[0m\u001b[1m Q9\u001b[0m ⋯\n",
       "     │\u001b[90m String7 \u001b[0m\u001b[90m Int64             \u001b[0m\u001b[90m Float64           \u001b[0m\u001b[90m Float64              \u001b[0m\u001b[90m Fl\u001b[0m ⋯\n",
       "─────┼──────────────────────────────────────────────────────────────────────────\n",
       "   1 │ BXD9                     4            11.5968               11.3575     ⋯\n",
       "   2 │ BXD13                    1            11.687                11.524\n",
       "   3 │ BXD24                    5            12.0778               11.7458\n",
       "   4 │ BXD27                    3            11.717                11.149\n",
       "   5 │ BXD29                   11            11.735                11.3496     ⋯\n",
       "   6 │ BXD32                    8            11.6266               11.554\n",
       "   7 │ BXD34                   13            11.7491               11.9135\n",
       "   8 │ BXD39                    5            11.9158               11.719\n",
       "   9 │ BXD40                    8            11.8651               11.6817     ⋯\n",
       "  10 │ BXD43                    4            12.378                11.4563\n",
       "\u001b[36m                                                               6 columns omitted\u001b[0m"
      ]
     },
     "execution_count": 12,
     "metadata": {},
     "output_type": "execute_result"
    }
   ],
   "source": [
    "println(size(BXD_pheno_strains_summary_df)) \n",
    "BXD_pheno_strains_summary_df[1:10, 1:10]"
   ]
  },
  {
   "cell_type": "code",
   "execution_count": 13,
   "id": "c9e172db-b395-4c04-9c4c-429e8ce5b677",
   "metadata": {},
   "outputs": [],
   "source": [
    "BXD_geno_strains_summary_df = CSV.read(\"../../../shareddata/BXDLongevity/data/GN886_geno_strains_summary.csv\", DataFrame);"
   ]
  },
  {
   "cell_type": "markdown",
   "id": "e606034c-1af9-4dad-a88d-07f4cc67be19",
   "metadata": {},
   "source": [
    "By strains, there are 50 BXD strains for 7321 markers."
   ]
  },
  {
   "cell_type": "code",
   "execution_count": 14,
   "id": "324c16c7-5a68-44a5-abe6-b098bf1526a9",
   "metadata": {},
   "outputs": [
    {
     "name": "stdout",
     "output_type": "stream",
     "text": [
      "(50, 7322)\n"
     ]
    },
    {
     "data": {
      "text/html": [
       "<div><div style = \"float: left;\"><span>10×10 DataFrame</span></div><div style = \"clear: both;\"></div></div><div class = \"data-frame\" style = \"overflow-x: scroll;\"><table class = \"data-frame\" style = \"margin-bottom: 6px;\"><thead><tr class = \"header\"><th class = \"rowNumber\" style = \"font-weight: bold; text-align: right;\">Row</th><th style = \"text-align: left;\">Strain</th><th style = \"text-align: left;\">rs31443144</th><th style = \"text-align: left;\">rs6269442</th><th style = \"text-align: left;\">rs32285189</th><th style = \"text-align: left;\">rs258367496</th><th style = \"text-align: left;\">rs32430919</th><th style = \"text-align: left;\">rs36251697</th><th style = \"text-align: left;\">rs30658298</th><th style = \"text-align: left;\">rs51852623</th><th style = \"text-align: left;\">rs31879829</th></tr><tr class = \"subheader headerLastRow\"><th class = \"rowNumber\" style = \"font-weight: bold; text-align: right;\"></th><th title = \"String7\" style = \"text-align: left;\">String7</th><th title = \"Float64\" style = \"text-align: left;\">Float64</th><th title = \"Float64\" style = \"text-align: left;\">Float64</th><th title = \"Float64\" style = \"text-align: left;\">Float64</th><th title = \"Float64\" style = \"text-align: left;\">Float64</th><th title = \"Float64\" style = \"text-align: left;\">Float64</th><th title = \"Float64\" style = \"text-align: left;\">Float64</th><th title = \"Float64\" style = \"text-align: left;\">Float64</th><th title = \"Float64\" style = \"text-align: left;\">Float64</th><th title = \"Float64\" style = \"text-align: left;\">Float64</th></tr></thead><tbody><tr><td class = \"rowNumber\" style = \"font-weight: bold; text-align: right;\">1</td><td style = \"text-align: left;\">BXD9</td><td style = \"text-align: right;\">0.0</td><td style = \"text-align: right;\">0.0</td><td style = \"text-align: right;\">0.0</td><td style = \"text-align: right;\">0.0</td><td style = \"text-align: right;\">0.0</td><td style = \"text-align: right;\">0.0</td><td style = \"text-align: right;\">0.0</td><td style = \"text-align: right;\">0.0</td><td style = \"text-align: right;\">0.0</td></tr><tr><td class = \"rowNumber\" style = \"font-weight: bold; text-align: right;\">2</td><td style = \"text-align: left;\">BXD13</td><td style = \"text-align: right;\">0.0</td><td style = \"text-align: right;\">0.0</td><td style = \"text-align: right;\">0.0</td><td style = \"text-align: right;\">0.0</td><td style = \"text-align: right;\">0.0</td><td style = \"text-align: right;\">0.0</td><td style = \"text-align: right;\">0.0</td><td style = \"text-align: right;\">0.0</td><td style = \"text-align: right;\">0.0</td></tr><tr><td class = \"rowNumber\" style = \"font-weight: bold; text-align: right;\">3</td><td style = \"text-align: left;\">BXD24</td><td style = \"text-align: right;\">0.0</td><td style = \"text-align: right;\">0.0</td><td style = \"text-align: right;\">0.0</td><td style = \"text-align: right;\">0.0</td><td style = \"text-align: right;\">0.0</td><td style = \"text-align: right;\">0.0</td><td style = \"text-align: right;\">0.0</td><td style = \"text-align: right;\">0.0</td><td style = \"text-align: right;\">0.0</td></tr><tr><td class = \"rowNumber\" style = \"font-weight: bold; text-align: right;\">4</td><td style = \"text-align: left;\">BXD27</td><td style = \"text-align: right;\">0.0</td><td style = \"text-align: right;\">0.0</td><td style = \"text-align: right;\">0.0</td><td style = \"text-align: right;\">0.0</td><td style = \"text-align: right;\">0.0</td><td style = \"text-align: right;\">0.0</td><td style = \"text-align: right;\">0.0</td><td style = \"text-align: right;\">0.0</td><td style = \"text-align: right;\">0.0</td></tr><tr><td class = \"rowNumber\" style = \"font-weight: bold; text-align: right;\">5</td><td style = \"text-align: left;\">BXD29</td><td style = \"text-align: right;\">1.0</td><td style = \"text-align: right;\">1.0</td><td style = \"text-align: right;\">1.0</td><td style = \"text-align: right;\">1.0</td><td style = \"text-align: right;\">1.0</td><td style = \"text-align: right;\">1.0</td><td style = \"text-align: right;\">1.0</td><td style = \"text-align: right;\">1.0</td><td style = \"text-align: right;\">1.0</td></tr><tr><td class = \"rowNumber\" style = \"font-weight: bold; text-align: right;\">6</td><td style = \"text-align: left;\">BXD32</td><td style = \"text-align: right;\">0.0</td><td style = \"text-align: right;\">0.0</td><td style = \"text-align: right;\">0.0</td><td style = \"text-align: right;\">0.0</td><td style = \"text-align: right;\">0.0</td><td style = \"text-align: right;\">0.0</td><td style = \"text-align: right;\">0.0</td><td style = \"text-align: right;\">0.0</td><td style = \"text-align: right;\">0.0</td></tr><tr><td class = \"rowNumber\" style = \"font-weight: bold; text-align: right;\">7</td><td style = \"text-align: left;\">BXD34</td><td style = \"text-align: right;\">0.0</td><td style = \"text-align: right;\">0.0</td><td style = \"text-align: right;\">0.0</td><td style = \"text-align: right;\">0.0</td><td style = \"text-align: right;\">0.0</td><td style = \"text-align: right;\">0.0</td><td style = \"text-align: right;\">0.0</td><td style = \"text-align: right;\">0.0</td><td style = \"text-align: right;\">0.0</td></tr><tr><td class = \"rowNumber\" style = \"font-weight: bold; text-align: right;\">8</td><td style = \"text-align: left;\">BXD39</td><td style = \"text-align: right;\">1.0</td><td style = \"text-align: right;\">1.0</td><td style = \"text-align: right;\">1.0</td><td style = \"text-align: right;\">1.0</td><td style = \"text-align: right;\">1.0</td><td style = \"text-align: right;\">1.0</td><td style = \"text-align: right;\">1.0</td><td style = \"text-align: right;\">1.0</td><td style = \"text-align: right;\">1.0</td></tr><tr><td class = \"rowNumber\" style = \"font-weight: bold; text-align: right;\">9</td><td style = \"text-align: left;\">BXD40</td><td style = \"text-align: right;\">0.0</td><td style = \"text-align: right;\">0.0</td><td style = \"text-align: right;\">0.0</td><td style = \"text-align: right;\">0.0</td><td style = \"text-align: right;\">0.0</td><td style = \"text-align: right;\">0.0</td><td style = \"text-align: right;\">0.0</td><td style = \"text-align: right;\">0.0</td><td style = \"text-align: right;\">0.0</td></tr><tr><td class = \"rowNumber\" style = \"font-weight: bold; text-align: right;\">10</td><td style = \"text-align: left;\">BXD43</td><td style = \"text-align: right;\">0.0</td><td style = \"text-align: right;\">0.0</td><td style = \"text-align: right;\">0.0</td><td style = \"text-align: right;\">0.0</td><td style = \"text-align: right;\">0.0</td><td style = \"text-align: right;\">0.0</td><td style = \"text-align: right;\">0.0</td><td style = \"text-align: right;\">0.0</td><td style = \"text-align: right;\">0.0</td></tr></tbody></table></div>"
      ],
      "text/latex": [
       "\\begin{tabular}{r|cccccccc}\n",
       "\t& Strain & rs31443144 & rs6269442 & rs32285189 & rs258367496 & rs32430919 & rs36251697 & \\\\\n",
       "\t\\hline\n",
       "\t& String7 & Float64 & Float64 & Float64 & Float64 & Float64 & Float64 & \\\\\n",
       "\t\\hline\n",
       "\t1 & BXD9 & 0.0 & 0.0 & 0.0 & 0.0 & 0.0 & 0.0 & $\\dots$ \\\\\n",
       "\t2 & BXD13 & 0.0 & 0.0 & 0.0 & 0.0 & 0.0 & 0.0 & $\\dots$ \\\\\n",
       "\t3 & BXD24 & 0.0 & 0.0 & 0.0 & 0.0 & 0.0 & 0.0 & $\\dots$ \\\\\n",
       "\t4 & BXD27 & 0.0 & 0.0 & 0.0 & 0.0 & 0.0 & 0.0 & $\\dots$ \\\\\n",
       "\t5 & BXD29 & 1.0 & 1.0 & 1.0 & 1.0 & 1.0 & 1.0 & $\\dots$ \\\\\n",
       "\t6 & BXD32 & 0.0 & 0.0 & 0.0 & 0.0 & 0.0 & 0.0 & $\\dots$ \\\\\n",
       "\t7 & BXD34 & 0.0 & 0.0 & 0.0 & 0.0 & 0.0 & 0.0 & $\\dots$ \\\\\n",
       "\t8 & BXD39 & 1.0 & 1.0 & 1.0 & 1.0 & 1.0 & 1.0 & $\\dots$ \\\\\n",
       "\t9 & BXD40 & 0.0 & 0.0 & 0.0 & 0.0 & 0.0 & 0.0 & $\\dots$ \\\\\n",
       "\t10 & BXD43 & 0.0 & 0.0 & 0.0 & 0.0 & 0.0 & 0.0 & $\\dots$ \\\\\n",
       "\\end{tabular}\n"
      ],
      "text/plain": [
       "\u001b[1m10×10 DataFrame\u001b[0m\n",
       "\u001b[1m Row \u001b[0m│\u001b[1m Strain  \u001b[0m\u001b[1m rs31443144 \u001b[0m\u001b[1m rs6269442 \u001b[0m\u001b[1m rs32285189 \u001b[0m\u001b[1m rs258367496 \u001b[0m\u001b[1m rs32430919 \u001b[0m\u001b[1m rs\u001b[0m ⋯\n",
       "     │\u001b[90m String7 \u001b[0m\u001b[90m Float64    \u001b[0m\u001b[90m Float64   \u001b[0m\u001b[90m Float64    \u001b[0m\u001b[90m Float64     \u001b[0m\u001b[90m Float64    \u001b[0m\u001b[90m Fl\u001b[0m ⋯\n",
       "─────┼──────────────────────────────────────────────────────────────────────────\n",
       "   1 │ BXD9            0.0        0.0         0.0          0.0         0.0     ⋯\n",
       "   2 │ BXD13           0.0        0.0         0.0          0.0         0.0\n",
       "   3 │ BXD24           0.0        0.0         0.0          0.0         0.0\n",
       "   4 │ BXD27           0.0        0.0         0.0          0.0         0.0\n",
       "   5 │ BXD29           1.0        1.0         1.0          1.0         1.0     ⋯\n",
       "   6 │ BXD32           0.0        0.0         0.0          0.0         0.0\n",
       "   7 │ BXD34           0.0        0.0         0.0          0.0         0.0\n",
       "   8 │ BXD39           1.0        1.0         1.0          1.0         1.0\n",
       "   9 │ BXD40           0.0        0.0         0.0          0.0         0.0     ⋯\n",
       "  10 │ BXD43           0.0        0.0         0.0          0.0         0.0\n",
       "\u001b[36m                                                               4 columns omitted\u001b[0m"
      ]
     },
     "execution_count": 14,
     "metadata": {},
     "output_type": "execute_result"
    }
   ],
   "source": [
    "println(size(BXD_geno_strains_summary_df)) \n",
    "BXD_geno_strains_summary_df[1:10, 1:10]"
   ]
  },
  {
   "cell_type": "markdown",
   "id": "3e0e8473-c29a-42c3-a47f-a2748cd4f5d7",
   "metadata": {},
   "source": [
    "## Load functions:"
   ]
  },
  {
   "cell_type": "code",
   "execution_count": 15,
   "id": "f04bb842-e79c-4ec0-9d62-d7b944e6f665",
   "metadata": {},
   "outputs": [],
   "source": [
    "include(joinpath(local_path, \"kinship.jl\"));\n",
    "include(joinpath(local_path, \"util.jl\"));\n",
    "include(joinpath(local_path, \"wls.jl\"));\n",
    "include(joinpath(local_path, \"lmm.jl\"));\n",
    "include(joinpath(local_path, \"gridbrent.jl\"));\n",
    "include(joinpath(local_path, \"transform_helpers.jl\"));\n",
    "include(joinpath(local_path, \"scan.jl\"));\n",
    "include(joinpath(local_path, \"bulkscan_helpers.jl\"));\n",
    "include(joinpath(local_path, \"bulkscan.jl\"));\n",
    "include(joinpath(local_path, \"readData.jl\"));\n",
    "include(joinpath(local_path, \"../plot_utils/visuals_utils.jl\"));\n",
    "include(joinpath(local_path, \"analysis_helpers/single_trait_analysis.jl\"));"
   ]
  },
  {
   "cell_type": "markdown",
   "id": "0eae3573-e769-444e-9899-98480f6f8ccd",
   "metadata": {
    "tags": []
   },
   "source": [
    "## Objectives\n",
    "\n",
    "- gemma one trait, ind and strains\n",
    "\n",
    "- scan_alt one trait, ind and strains\n",
    "\n",
    "- scan_null one trait, ind and strains\n",
    "\n",
    "- bulkscan_grid (null), all traits, ...\n",
    "\n",
    "- data structure for all traits results...\n",
    "\n",
    "- Heatmap grids_taken, compare on strain means and individuals\n",
    "\n",
    "- Histogram of heritabilities (null) for all traits (both strain means and individual level data)\n",
    "\n",
    "- Loglikelihood by h2_grid plot, strain means v.s. individuals\n",
    "\n",
    "- Report fixed effects:\n",
    "\n",
    "- Adjusting difference in the number of samples across strains\n",
    "\n",
    "- Histogram of heritabilities (null) for all traits (both strain means and individual level data)"
   ]
  },
  {
   "cell_type": "markdown",
   "id": "3fe2c576-b753-4832-810f-24f196d05587",
   "metadata": {},
   "source": [
    "## Run BulkLMM.jl:"
   ]
  },
  {
   "cell_type": "markdown",
   "id": "b21044d7-08fc-454d-9528-e1271634033d",
   "metadata": {},
   "source": [
    "### Calculate kinship:"
   ]
  },
  {
   "cell_type": "markdown",
   "id": "02df590a-330c-42cd-9683-a3ba1ff991fc",
   "metadata": {},
   "source": [
    "First, calculate the kinship matrix of relatedness among the strains (50-by-50):"
   ]
  },
  {
   "cell_type": "code",
   "execution_count": 16,
   "id": "18e76163-3e2a-40b3-b934-7ee1c9329887",
   "metadata": {},
   "outputs": [],
   "source": [
    "geno_strains = Matrix{Float64}(BXD_geno_strains_summary_df[:, 2:end]);"
   ]
  },
  {
   "cell_type": "code",
   "execution_count": 17,
   "id": "dd7d6569-ee12-4e1f-8fa4-df06d5c62ff8",
   "metadata": {},
   "outputs": [],
   "source": [
    "kinship_strains = calcKinship(geno_strains);"
   ]
  },
  {
   "cell_type": "markdown",
   "id": "e11b6c48-a575-4948-86bf-5e40d01b79c6",
   "metadata": {},
   "source": [
    "Then, construct the kinship matrix of relatedness among the individuals based on which strain they are from:"
   ]
  },
  {
   "cell_type": "code",
   "execution_count": 18,
   "id": "cfcf52f0-8c4a-4a39-83be-9955101cc419",
   "metadata": {},
   "outputs": [
    {
     "data": {
      "text/plain": [
       "calcRepeats (generic function with 1 method)"
      ]
     },
     "execution_count": 18,
     "metadata": {},
     "output_type": "execute_result"
    }
   ],
   "source": [
    "function calcRepeats(x::Array{Int64, 1})\n",
    "    \n",
    "    counting_dict = Dict{Int64, Int64}();\n",
    "    \n",
    "    for i in 1:length(x)\n",
    "        curr_key = x[i];\n",
    "        if haskey(counting_dict, curr_key) # if current key already exists\n",
    "            counting_dict[curr_key] += 1;\n",
    "        else # if current key does not present, add it as a new key\n",
    "            counting_dict[curr_key] = 1;\n",
    "        end\n",
    "    end\n",
    "    \n",
    "    return counting_dict\n",
    "    \n",
    "end"
   ]
  },
  {
   "cell_type": "code",
   "execution_count": 19,
   "id": "a22c5899-227f-44e8-872b-0fb90953fd4b",
   "metadata": {},
   "outputs": [
    {
     "data": {
      "text/plain": [
       "calcIndKinship_from_StrainKinship (generic function with 1 method)"
      ]
     },
     "execution_count": 19,
     "metadata": {},
     "output_type": "execute_result"
    }
   ],
   "source": [
    "function calcIndKinship_from_StrainKinship(kinship_strains::Array{Float64, 2}, \n",
    "                                           strain_info_about_samples::Array{Int64, 1})\n",
    "    \n",
    "    counting_dict = calcRepeats(strain_info_about_samples);\n",
    "    reps_each_strain = map(x -> counting_dict[x], unique(strain_info_about_samples));\n",
    "    \n",
    "    # Initialize the placeholder:\n",
    "    kinship_ind_from_strains = ones(sum(reps_each_strain), sum(reps_each_strain));\n",
    "\n",
    "    # process the first BXD strain...\n",
    "    reps_strain_1 = reps_each_strain[1];\n",
    "    k_11 = kinship_strains[1, 1];\n",
    "    # block_11 = ones(reps_strain_1, reps_strain_1);\n",
    "\n",
    "    row_id = 0;\n",
    "    col_id = 0;\n",
    "\n",
    "    @views kinship_ind_from_strains[(row_id+1):(row_id+reps_strain_1), \n",
    "                             (row_id+1):(row_id+reps_strain_1)] .*= k_11;\n",
    "\n",
    "    for j in 2:length(reps_each_strain)\n",
    "        reps_strain_j = reps_each_strain[j];\n",
    "        k_1j = kinship_strains[1, j];\n",
    "        # block_1j = ones(reps_strain_1, reps_strain_j);\n",
    "\n",
    "        col_id += reps_each_strain[j-1];\n",
    "        @views kinship_ind_from_strains[(row_id+1):(row_id+reps_strain_1), \n",
    "                                 (col_id+1):(col_id+reps_strain_j)] .*= k_1j;\n",
    "\n",
    "        # process the off-diagonal block conveniently...\n",
    "        # block_j1 = ones(reps_strain_j, reps_strain_1);\n",
    "        kinship_ind_from_strains[(col_id+1):(col_id+reps_strain_j),\n",
    "                                 (row_id+1):(row_id+reps_strain_1)] .*= k_1j;\n",
    "\n",
    "    end\n",
    "\n",
    "    # process for the second BXD strain and all after...\n",
    "    # for i in 2:length(reps_each_strain)\n",
    "    for i in 2:length(reps_each_strain)\n",
    "\n",
    "        reps_strain_i = reps_each_strain[i];\n",
    "        k_ii = kinship_strains[i, i];\n",
    "        # block_ii = ones(reps_strain_i, reps_strain_i);\n",
    "\n",
    "        row_id += reps_each_strain[i-1];\n",
    "        @views kinship_ind_from_strains[(row_id+1):(row_id+reps_strain_i), \n",
    "                                 (row_id+1):(row_id+reps_strain_i)] .*= k_ii;\n",
    "\n",
    "        col_id = row_id+reps_strain_i;\n",
    "\n",
    "        for j in (i+1):length(reps_each_strain)\n",
    "\n",
    "            reps_strain_j = reps_each_strain[j];\n",
    "            k_ij = kinship_strains[i, j];\n",
    "            # block_ij = ones(reps_strain_i, reps_strain_j);\n",
    "\n",
    "            @views kinship_ind_from_strains[(row_id+1):(row_id+reps_strain_i), \n",
    "                                     (col_id+1):(col_id+reps_strain_j)] .*= k_ij;\n",
    "\n",
    "            # process the off-diagonal block conveniently...\n",
    "            # block_ji = ones(reps_strain_j, reps_strain_i);\n",
    "            @views kinship_ind_from_strains[(col_id+1):(col_id+reps_strain_j),\n",
    "                                     (row_id+1):(row_id+reps_strain_i)] .*= k_ij;\n",
    "\n",
    "            col_id += reps_each_strain[j];\n",
    "        end\n",
    "    \n",
    "    end\n",
    "    \n",
    "    return kinship_ind_from_strains\n",
    "end"
   ]
  },
  {
   "cell_type": "code",
   "execution_count": 20,
   "id": "1627ff49-f03c-4f7c-95bb-647d9bec26dc",
   "metadata": {},
   "outputs": [],
   "source": [
    "BXD_geno_ind_summary_df.Strain_num = Vector{Int64}(BXD_geno_ind_summary_df.Strain_num);"
   ]
  },
  {
   "cell_type": "code",
   "execution_count": 21,
   "id": "ed61c75f-c283-49fd-acde-30b083d1743b",
   "metadata": {},
   "outputs": [
    {
     "name": "stdout",
     "output_type": "stream",
     "text": [
      "  0.000238 seconds (76 allocations: 503.766 KiB)\n"
     ]
    }
   ],
   "source": [
    "@time kinship_ind_from_strains = calcIndKinship_from_StrainKinship(kinship_strains, BXD_geno_ind_summary_df.Strain_num);"
   ]
  },
  {
   "cell_type": "markdown",
   "id": "c5e77a37-855e-4143-941c-1bd5164b84a7",
   "metadata": {},
   "source": [
    "Compare the runtime with directly calculating the kinship matrix from individual genotype data:"
   ]
  },
  {
   "cell_type": "code",
   "execution_count": 22,
   "id": "d52be48c-64d2-4894-a83c-3af0629e489c",
   "metadata": {},
   "outputs": [
    {
     "data": {
      "text/plain": [
       "10×10 Matrix{Float64}:\n",
       " 1.0   1.0   1.0   1.0   0.55  0.58  0.58  0.58  0.58  0.58\n",
       " 1.0   1.0   1.0   1.0   0.55  0.58  0.58  0.58  0.58  0.58\n",
       " 1.0   1.0   1.0   1.0   0.55  0.58  0.58  0.58  0.58  0.58\n",
       " 1.0   1.0   1.0   1.0   0.55  0.58  0.58  0.58  0.58  0.58\n",
       " 0.55  0.55  0.55  0.55  1.0   0.56  0.56  0.56  0.56  0.56\n",
       " 0.58  0.58  0.58  0.58  0.56  1.0   1.0   1.0   1.0   1.0\n",
       " 0.58  0.58  0.58  0.58  0.56  1.0   1.0   1.0   1.0   1.0\n",
       " 0.58  0.58  0.58  0.58  0.56  1.0   1.0   1.0   1.0   1.0\n",
       " 0.58  0.58  0.58  0.58  0.56  1.0   1.0   1.0   1.0   1.0\n",
       " 0.58  0.58  0.58  0.58  0.56  1.0   1.0   1.0   1.0   1.0"
      ]
     },
     "execution_count": 22,
     "metadata": {},
     "output_type": "execute_result"
    }
   ],
   "source": [
    "round.(kinship_ind_from_strains[1:10, 1:10], digits = 2)"
   ]
  },
  {
   "cell_type": "code",
   "execution_count": 23,
   "id": "d5f97779-e35c-4373-91ae-b9f003c5c280",
   "metadata": {},
   "outputs": [],
   "source": [
    "geno_ind = Matrix{Float64}(BXD_geno_ind_summary_df[:, 4:end]);"
   ]
  },
  {
   "cell_type": "code",
   "execution_count": 24,
   "id": "0306cc96-a8d2-4cbd-a7af-539ee488c70f",
   "metadata": {},
   "outputs": [
    {
     "name": "stdout",
     "output_type": "stream",
     "text": [
      "  3.245601 seconds (306.28 k allocations: 8.368 GiB, 6.14% gc time)\n"
     ]
    }
   ],
   "source": [
    "@time kinship_ind_from_ind = calcKinship(geno_ind);"
   ]
  },
  {
   "cell_type": "code",
   "execution_count": 25,
   "id": "cfe9f696-f089-4865-a081-a5dd95d5c87e",
   "metadata": {},
   "outputs": [
    {
     "data": {
      "text/plain": [
       "0.04186586531894554"
      ]
     },
     "execution_count": 25,
     "metadata": {},
     "output_type": "execute_result"
    }
   ],
   "source": [
    "maximum(abs.(kinship_ind_from_ind .- kinship_ind_from_strains))"
   ]
  },
  {
   "cell_type": "markdown",
   "id": "19b9c567-b404-429c-a3a6-6053ffec44d4",
   "metadata": {},
   "source": [
    "### Single-trait genome scans:"
   ]
  },
  {
   "cell_type": "markdown",
   "id": "bcbd89b9-2ad3-40a8-8e8d-81512875debb",
   "metadata": {},
   "source": [
    "To see single trait genome scan results, we take the 29437-th livear proteomic as the single trait to run analysis:  "
   ]
  },
  {
   "cell_type": "code",
   "execution_count": 26,
   "id": "547fc3eb-99e8-43b7-a7dd-bb0d3073b3b5",
   "metadata": {},
   "outputs": [],
   "source": [
    "lp_names = names(BXD_pheno_ind_summary_df)[4:end];"
   ]
  },
  {
   "cell_type": "code",
   "execution_count": 27,
   "id": "07a1bf7c-d333-4826-ab63-513f87006589",
   "metadata": {},
   "outputs": [
    {
     "data": {
      "text/plain": [
       "\"Q9Z2I8_SSGLPITSAVDLEDAAK_3\""
      ]
     },
     "execution_count": 27,
     "metadata": {},
     "output_type": "execute_result"
    }
   ],
   "source": [
    "lp_id = 29437;\n",
    "lp_names[lp_id]"
   ]
  },
  {
   "cell_type": "code",
   "execution_count": 28,
   "id": "10b8a21f-65a2-442f-bdd4-fbb0f7e2feaf",
   "metadata": {},
   "outputs": [],
   "source": [
    "prior = [1.0, 0.1];"
   ]
  },
  {
   "cell_type": "markdown",
   "id": "fb6aa497-38b0-4c8e-9582-c675019bfcfc",
   "metadata": {},
   "source": [
    "#### For individual liver proteome"
   ]
  },
  {
   "cell_type": "code",
   "execution_count": 29,
   "id": "f9e6bc67-fc56-47ae-aa0c-df73658709b0",
   "metadata": {},
   "outputs": [],
   "source": [
    "lp_ind_Y = Matrix{Float64}(BXD_pheno_ind_summary_df[:, 4:end]);\n",
    "lp_ind_y = reshape(lp_ind_Y[:, lp_id], :, 1);"
   ]
  },
  {
   "cell_type": "code",
   "execution_count": 30,
   "id": "ebaaef2c-8973-42e0-b527-c23d8c73ae40",
   "metadata": {},
   "outputs": [],
   "source": [
    "lpst_ind_Y = colStandardize(lp_ind_Y);\n",
    "lpst_ind_y = reshape(lpst_ind_Y[:, lp_id], :, 1);"
   ]
  },
  {
   "cell_type": "code",
   "execution_count": 31,
   "id": "fb383cb0-71d2-45ea-97ba-b5d685e69607",
   "metadata": {},
   "outputs": [
    {
     "name": "stdout",
     "output_type": "stream",
     "text": [
      "Loglik plot: \n"
     ]
    },
    {
     "data": {
      "image/svg+xml": [
       "<?xml version=\"1.0\" encoding=\"utf-8\"?>\n",
       "<svg xmlns=\"http://www.w3.org/2000/svg\" xmlns:xlink=\"http://www.w3.org/1999/xlink\" width=\"600\" height=\"400\" viewBox=\"0 0 2400 1600\">\n",
       "<defs>\n",
       "  <clipPath id=\"clip380\">\n",
       "    <rect x=\"0\" y=\"0\" width=\"2400\" height=\"1600\"/>\n",
       "  </clipPath>\n",
       "</defs>\n",
       "<path clip-path=\"url(#clip380)\" d=\"\n",
       "M0 1600 L2400 1600 L2400 0 L0 0  Z\n",
       "  \" fill=\"#ffffff\" fill-rule=\"evenodd\" fill-opacity=\"1\"/>\n",
       "<defs>\n",
       "  <clipPath id=\"clip381\">\n",
       "    <rect x=\"480\" y=\"0\" width=\"1681\" height=\"1600\"/>\n",
       "  </clipPath>\n",
       "</defs>\n",
       "<path clip-path=\"url(#clip380)\" d=\"\n",
       "M272.297 1423.18 L2352.76 1423.18 L2352.76 47.2441 L272.297 47.2441  Z\n",
       "  \" fill=\"#ffffff\" fill-rule=\"evenodd\" fill-opacity=\"1\"/>\n",
       "<defs>\n",
       "  <clipPath id=\"clip382\">\n",
       "    <rect x=\"272\" y=\"47\" width=\"2081\" height=\"1377\"/>\n",
       "  </clipPath>\n",
       "</defs>\n",
       "<polyline clip-path=\"url(#clip382)\" style=\"stroke:#000000; stroke-linecap:round; stroke-linejoin:round; stroke-width:2; stroke-opacity:0.1; fill:none\" points=\"\n",
       "  366.863,1423.18 366.863,47.2441 \n",
       "  \"/>\n",
       "<polyline clip-path=\"url(#clip382)\" style=\"stroke:#000000; stroke-linecap:round; stroke-linejoin:round; stroke-width:2; stroke-opacity:0.1; fill:none\" points=\"\n",
       "  839.695,1423.18 839.695,47.2441 \n",
       "  \"/>\n",
       "<polyline clip-path=\"url(#clip382)\" style=\"stroke:#000000; stroke-linecap:round; stroke-linejoin:round; stroke-width:2; stroke-opacity:0.1; fill:none\" points=\"\n",
       "  1312.53,1423.18 1312.53,47.2441 \n",
       "  \"/>\n",
       "<polyline clip-path=\"url(#clip382)\" style=\"stroke:#000000; stroke-linecap:round; stroke-linejoin:round; stroke-width:2; stroke-opacity:0.1; fill:none\" points=\"\n",
       "  1785.36,1423.18 1785.36,47.2441 \n",
       "  \"/>\n",
       "<polyline clip-path=\"url(#clip382)\" style=\"stroke:#000000; stroke-linecap:round; stroke-linejoin:round; stroke-width:2; stroke-opacity:0.1; fill:none\" points=\"\n",
       "  2258.19,1423.18 2258.19,47.2441 \n",
       "  \"/>\n",
       "<polyline clip-path=\"url(#clip380)\" style=\"stroke:#000000; stroke-linecap:round; stroke-linejoin:round; stroke-width:4; stroke-opacity:1; fill:none\" points=\"\n",
       "  272.297,1423.18 2352.76,1423.18 \n",
       "  \"/>\n",
       "<polyline clip-path=\"url(#clip380)\" style=\"stroke:#000000; stroke-linecap:round; stroke-linejoin:round; stroke-width:4; stroke-opacity:1; fill:none\" points=\"\n",
       "  366.863,1423.18 366.863,1404.28 \n",
       "  \"/>\n",
       "<polyline clip-path=\"url(#clip380)\" style=\"stroke:#000000; stroke-linecap:round; stroke-linejoin:round; stroke-width:4; stroke-opacity:1; fill:none\" points=\"\n",
       "  839.695,1423.18 839.695,1404.28 \n",
       "  \"/>\n",
       "<polyline clip-path=\"url(#clip380)\" style=\"stroke:#000000; stroke-linecap:round; stroke-linejoin:round; stroke-width:4; stroke-opacity:1; fill:none\" points=\"\n",
       "  1312.53,1423.18 1312.53,1404.28 \n",
       "  \"/>\n",
       "<polyline clip-path=\"url(#clip380)\" style=\"stroke:#000000; stroke-linecap:round; stroke-linejoin:round; stroke-width:4; stroke-opacity:1; fill:none\" points=\"\n",
       "  1785.36,1423.18 1785.36,1404.28 \n",
       "  \"/>\n",
       "<polyline clip-path=\"url(#clip380)\" style=\"stroke:#000000; stroke-linecap:round; stroke-linejoin:round; stroke-width:4; stroke-opacity:1; fill:none\" points=\"\n",
       "  2258.19,1423.18 2258.19,1404.28 \n",
       "  \"/>\n",
       "<path clip-path=\"url(#clip380)\" d=\"M329.166 1454.1 Q325.555 1454.1 323.727 1457.66 Q321.921 1461.2 321.921 1468.33 Q321.921 1475.44 323.727 1479.01 Q325.555 1482.55 329.166 1482.55 Q332.801 1482.55 334.606 1479.01 Q336.435 1475.44 336.435 1468.33 Q336.435 1461.2 334.606 1457.66 Q332.801 1454.1 329.166 1454.1 M329.166 1450.39 Q334.976 1450.39 338.032 1455 Q341.111 1459.58 341.111 1468.33 Q341.111 1477.06 338.032 1481.67 Q334.976 1486.25 329.166 1486.25 Q323.356 1486.25 320.277 1481.67 Q317.222 1477.06 317.222 1468.33 Q317.222 1459.58 320.277 1455 Q323.356 1450.39 329.166 1450.39 Z\" fill=\"#000000\" fill-rule=\"evenodd\" fill-opacity=\"1\" /><path clip-path=\"url(#clip380)\" d=\"M349.328 1479.7 L354.212 1479.7 L354.212 1485.58 L349.328 1485.58 L349.328 1479.7 Z\" fill=\"#000000\" fill-rule=\"evenodd\" fill-opacity=\"1\" /><path clip-path=\"url(#clip380)\" d=\"M374.398 1454.1 Q370.786 1454.1 368.958 1457.66 Q367.152 1461.2 367.152 1468.33 Q367.152 1475.44 368.958 1479.01 Q370.786 1482.55 374.398 1482.55 Q378.032 1482.55 379.837 1479.01 Q381.666 1475.44 381.666 1468.33 Q381.666 1461.2 379.837 1457.66 Q378.032 1454.1 374.398 1454.1 M374.398 1450.39 Q380.208 1450.39 383.263 1455 Q386.342 1459.58 386.342 1468.33 Q386.342 1477.06 383.263 1481.67 Q380.208 1486.25 374.398 1486.25 Q368.587 1486.25 365.509 1481.67 Q362.453 1477.06 362.453 1468.33 Q362.453 1459.58 365.509 1455 Q368.587 1450.39 374.398 1450.39 Z\" fill=\"#000000\" fill-rule=\"evenodd\" fill-opacity=\"1\" /><path clip-path=\"url(#clip380)\" d=\"M404.559 1454.1 Q400.948 1454.1 399.12 1457.66 Q397.314 1461.2 397.314 1468.33 Q397.314 1475.44 399.12 1479.01 Q400.948 1482.55 404.559 1482.55 Q408.194 1482.55 409.999 1479.01 Q411.828 1475.44 411.828 1468.33 Q411.828 1461.2 409.999 1457.66 Q408.194 1454.1 404.559 1454.1 M404.559 1450.39 Q410.37 1450.39 413.425 1455 Q416.504 1459.58 416.504 1468.33 Q416.504 1477.06 413.425 1481.67 Q410.37 1486.25 404.559 1486.25 Q398.749 1486.25 395.671 1481.67 Q392.615 1477.06 392.615 1468.33 Q392.615 1459.58 395.671 1455 Q398.749 1450.39 404.559 1450.39 Z\" fill=\"#000000\" fill-rule=\"evenodd\" fill-opacity=\"1\" /><path clip-path=\"url(#clip380)\" d=\"M802.496 1454.1 Q798.885 1454.1 797.056 1457.66 Q795.25 1461.2 795.25 1468.33 Q795.25 1475.44 797.056 1479.01 Q798.885 1482.55 802.496 1482.55 Q806.13 1482.55 807.935 1479.01 Q809.764 1475.44 809.764 1468.33 Q809.764 1461.2 807.935 1457.66 Q806.13 1454.1 802.496 1454.1 M802.496 1450.39 Q808.306 1450.39 811.361 1455 Q814.44 1459.58 814.44 1468.33 Q814.44 1477.06 811.361 1481.67 Q808.306 1486.25 802.496 1486.25 Q796.686 1486.25 793.607 1481.67 Q790.551 1477.06 790.551 1468.33 Q790.551 1459.58 793.607 1455 Q796.686 1450.39 802.496 1450.39 Z\" fill=\"#000000\" fill-rule=\"evenodd\" fill-opacity=\"1\" /><path clip-path=\"url(#clip380)\" d=\"M822.658 1479.7 L827.542 1479.7 L827.542 1485.58 L822.658 1485.58 L822.658 1479.7 Z\" fill=\"#000000\" fill-rule=\"evenodd\" fill-opacity=\"1\" /><path clip-path=\"url(#clip380)\" d=\"M841.755 1481.64 L858.074 1481.64 L858.074 1485.58 L836.13 1485.58 L836.13 1481.64 Q838.792 1478.89 843.375 1474.26 Q847.982 1469.61 849.162 1468.27 Q851.407 1465.74 852.287 1464.01 Q853.19 1462.25 853.19 1460.56 Q853.19 1457.8 851.245 1456.07 Q849.324 1454.33 846.222 1454.33 Q844.023 1454.33 841.57 1455.09 Q839.139 1455.86 836.361 1457.41 L836.361 1452.69 Q839.185 1451.55 841.639 1450.97 Q844.093 1450.39 846.13 1450.39 Q851.5 1450.39 854.694 1453.08 Q857.889 1455.77 857.889 1460.26 Q857.889 1462.39 857.079 1464.31 Q856.292 1466.2 854.185 1468.8 Q853.607 1469.47 850.505 1472.69 Q847.403 1475.88 841.755 1481.64 Z\" fill=\"#000000\" fill-rule=\"evenodd\" fill-opacity=\"1\" /><path clip-path=\"url(#clip380)\" d=\"M867.935 1451.02 L886.292 1451.02 L886.292 1454.96 L872.218 1454.96 L872.218 1463.43 Q873.236 1463.08 874.255 1462.92 Q875.273 1462.73 876.292 1462.73 Q882.079 1462.73 885.458 1465.9 Q888.838 1469.08 888.838 1474.49 Q888.838 1480.07 885.366 1483.17 Q881.893 1486.25 875.574 1486.25 Q873.398 1486.25 871.13 1485.88 Q868.884 1485.51 866.477 1484.77 L866.477 1480.07 Q868.56 1481.2 870.782 1481.76 Q873.005 1482.32 875.481 1482.32 Q879.486 1482.32 881.824 1480.21 Q884.162 1478.1 884.162 1474.49 Q884.162 1470.88 881.824 1468.77 Q879.486 1466.67 875.481 1466.67 Q873.606 1466.67 871.731 1467.08 Q869.88 1467.5 867.935 1468.38 L867.935 1451.02 Z\" fill=\"#000000\" fill-rule=\"evenodd\" fill-opacity=\"1\" /><path clip-path=\"url(#clip380)\" d=\"M1274.83 1454.1 Q1271.22 1454.1 1269.39 1457.66 Q1267.58 1461.2 1267.58 1468.33 Q1267.58 1475.44 1269.39 1479.01 Q1271.22 1482.55 1274.83 1482.55 Q1278.46 1482.55 1280.27 1479.01 Q1282.1 1475.44 1282.1 1468.33 Q1282.1 1461.2 1280.27 1457.66 Q1278.46 1454.1 1274.83 1454.1 M1274.83 1450.39 Q1280.64 1450.39 1283.7 1455 Q1286.77 1459.58 1286.77 1468.33 Q1286.77 1477.06 1283.7 1481.67 Q1280.64 1486.25 1274.83 1486.25 Q1269.02 1486.25 1265.94 1481.67 Q1262.89 1477.06 1262.89 1468.33 Q1262.89 1459.58 1265.94 1455 Q1269.02 1450.39 1274.83 1450.39 Z\" fill=\"#000000\" fill-rule=\"evenodd\" fill-opacity=\"1\" /><path clip-path=\"url(#clip380)\" d=\"M1294.99 1479.7 L1299.88 1479.7 L1299.88 1485.58 L1294.99 1485.58 L1294.99 1479.7 Z\" fill=\"#000000\" fill-rule=\"evenodd\" fill-opacity=\"1\" /><path clip-path=\"url(#clip380)\" d=\"M1310.11 1451.02 L1328.46 1451.02 L1328.46 1454.96 L1314.39 1454.96 L1314.39 1463.43 Q1315.41 1463.08 1316.43 1462.92 Q1317.45 1462.73 1318.46 1462.73 Q1324.25 1462.73 1327.63 1465.9 Q1331.01 1469.08 1331.01 1474.49 Q1331.01 1480.07 1327.54 1483.17 Q1324.07 1486.25 1317.75 1486.25 Q1315.57 1486.25 1313.3 1485.88 Q1311.06 1485.51 1308.65 1484.77 L1308.65 1480.07 Q1310.73 1481.2 1312.95 1481.76 Q1315.18 1482.32 1317.65 1482.32 Q1321.66 1482.32 1324 1480.21 Q1326.33 1478.1 1326.33 1474.49 Q1326.33 1470.88 1324 1468.77 Q1321.66 1466.67 1317.65 1466.67 Q1315.78 1466.67 1313.9 1467.08 Q1312.05 1467.5 1310.11 1468.38 L1310.11 1451.02 Z\" fill=\"#000000\" fill-rule=\"evenodd\" fill-opacity=\"1\" /><path clip-path=\"url(#clip380)\" d=\"M1350.22 1454.1 Q1346.61 1454.1 1344.78 1457.66 Q1342.98 1461.2 1342.98 1468.33 Q1342.98 1475.44 1344.78 1479.01 Q1346.61 1482.55 1350.22 1482.55 Q1353.86 1482.55 1355.66 1479.01 Q1357.49 1475.44 1357.49 1468.33 Q1357.49 1461.2 1355.66 1457.66 Q1353.86 1454.1 1350.22 1454.1 M1350.22 1450.39 Q1356.03 1450.39 1359.09 1455 Q1362.17 1459.58 1362.17 1468.33 Q1362.17 1477.06 1359.09 1481.67 Q1356.03 1486.25 1350.22 1486.25 Q1344.41 1486.25 1341.33 1481.67 Q1338.28 1477.06 1338.28 1468.33 Q1338.28 1459.58 1341.33 1455 Q1344.41 1450.39 1350.22 1450.39 Z\" fill=\"#000000\" fill-rule=\"evenodd\" fill-opacity=\"1\" /><path clip-path=\"url(#clip380)\" d=\"M1748.16 1454.1 Q1744.55 1454.1 1742.72 1457.66 Q1740.91 1461.2 1740.91 1468.33 Q1740.91 1475.44 1742.72 1479.01 Q1744.55 1482.55 1748.16 1482.55 Q1751.79 1482.55 1753.6 1479.01 Q1755.43 1475.44 1755.43 1468.33 Q1755.43 1461.2 1753.6 1457.66 Q1751.79 1454.1 1748.16 1454.1 M1748.16 1450.39 Q1753.97 1450.39 1757.02 1455 Q1760.1 1459.58 1760.1 1468.33 Q1760.1 1477.06 1757.02 1481.67 Q1753.97 1486.25 1748.16 1486.25 Q1742.35 1486.25 1739.27 1481.67 Q1736.21 1477.06 1736.21 1468.33 Q1736.21 1459.58 1739.27 1455 Q1742.35 1450.39 1748.16 1450.39 Z\" fill=\"#000000\" fill-rule=\"evenodd\" fill-opacity=\"1\" /><path clip-path=\"url(#clip380)\" d=\"M1768.32 1479.7 L1773.21 1479.7 L1773.21 1485.58 L1768.32 1485.58 L1768.32 1479.7 Z\" fill=\"#000000\" fill-rule=\"evenodd\" fill-opacity=\"1\" /><path clip-path=\"url(#clip380)\" d=\"M1782.21 1451.02 L1804.43 1451.02 L1804.43 1453.01 L1791.89 1485.58 L1787 1485.58 L1798.81 1454.96 L1782.21 1454.96 L1782.21 1451.02 Z\" fill=\"#000000\" fill-rule=\"evenodd\" fill-opacity=\"1\" /><path clip-path=\"url(#clip380)\" d=\"M1813.6 1451.02 L1831.95 1451.02 L1831.95 1454.96 L1817.88 1454.96 L1817.88 1463.43 Q1818.9 1463.08 1819.92 1462.92 Q1820.94 1462.73 1821.95 1462.73 Q1827.74 1462.73 1831.12 1465.9 Q1834.5 1469.08 1834.5 1474.49 Q1834.5 1480.07 1831.03 1483.17 Q1827.56 1486.25 1821.24 1486.25 Q1819.06 1486.25 1816.79 1485.88 Q1814.55 1485.51 1812.14 1484.77 L1812.14 1480.07 Q1814.22 1481.2 1816.45 1481.76 Q1818.67 1482.32 1821.14 1482.32 Q1825.15 1482.32 1827.49 1480.21 Q1829.83 1478.1 1829.83 1474.49 Q1829.83 1470.88 1827.49 1468.77 Q1825.15 1466.67 1821.14 1466.67 Q1819.27 1466.67 1817.39 1467.08 Q1815.54 1467.5 1813.6 1468.38 L1813.6 1451.02 Z\" fill=\"#000000\" fill-rule=\"evenodd\" fill-opacity=\"1\" /><path clip-path=\"url(#clip380)\" d=\"M2210.26 1481.64 L2217.9 1481.64 L2217.9 1455.28 L2209.59 1456.95 L2209.59 1452.69 L2217.85 1451.02 L2222.53 1451.02 L2222.53 1481.64 L2230.17 1481.64 L2230.17 1485.58 L2210.26 1485.58 L2210.26 1481.64 Z\" fill=\"#000000\" fill-rule=\"evenodd\" fill-opacity=\"1\" /><path clip-path=\"url(#clip380)\" d=\"M2239.61 1479.7 L2244.5 1479.7 L2244.5 1485.58 L2239.61 1485.58 L2239.61 1479.7 Z\" fill=\"#000000\" fill-rule=\"evenodd\" fill-opacity=\"1\" /><path clip-path=\"url(#clip380)\" d=\"M2264.68 1454.1 Q2261.07 1454.1 2259.24 1457.66 Q2257.44 1461.2 2257.44 1468.33 Q2257.44 1475.44 2259.24 1479.01 Q2261.07 1482.55 2264.68 1482.55 Q2268.32 1482.55 2270.12 1479.01 Q2271.95 1475.44 2271.95 1468.33 Q2271.95 1461.2 2270.12 1457.66 Q2268.32 1454.1 2264.68 1454.1 M2264.68 1450.39 Q2270.49 1450.39 2273.55 1455 Q2276.63 1459.58 2276.63 1468.33 Q2276.63 1477.06 2273.55 1481.67 Q2270.49 1486.25 2264.68 1486.25 Q2258.87 1486.25 2255.79 1481.67 Q2252.74 1477.06 2252.74 1468.33 Q2252.74 1459.58 2255.79 1455 Q2258.87 1450.39 2264.68 1450.39 Z\" fill=\"#000000\" fill-rule=\"evenodd\" fill-opacity=\"1\" /><path clip-path=\"url(#clip380)\" d=\"M2294.84 1454.1 Q2291.23 1454.1 2289.4 1457.66 Q2287.6 1461.2 2287.6 1468.33 Q2287.6 1475.44 2289.4 1479.01 Q2291.23 1482.55 2294.84 1482.55 Q2298.48 1482.55 2300.28 1479.01 Q2302.11 1475.44 2302.11 1468.33 Q2302.11 1461.2 2300.28 1457.66 Q2298.48 1454.1 2294.84 1454.1 M2294.84 1450.39 Q2300.65 1450.39 2303.71 1455 Q2306.79 1459.58 2306.79 1468.33 Q2306.79 1477.06 2303.71 1481.67 Q2300.65 1486.25 2294.84 1486.25 Q2289.03 1486.25 2285.96 1481.67 Q2282.9 1477.06 2282.9 1468.33 Q2282.9 1459.58 2285.96 1455 Q2289.03 1450.39 2294.84 1450.39 Z\" fill=\"#000000\" fill-rule=\"evenodd\" fill-opacity=\"1\" /><path clip-path=\"url(#clip380)\" d=\"M1307.21 1546.53 L1307.21 1568.04 L1301.35 1568.04 L1301.35 1546.72 Q1301.35 1541.66 1299.38 1539.14 Q1297.41 1536.63 1293.46 1536.63 Q1288.72 1536.63 1285.98 1539.65 Q1283.24 1542.68 1283.24 1547.9 L1283.24 1568.04 L1277.36 1568.04 L1277.36 1518.52 L1283.24 1518.52 L1283.24 1537.93 Q1285.34 1534.72 1288.18 1533.13 Q1291.04 1531.54 1294.77 1531.54 Q1300.91 1531.54 1304.06 1535.36 Q1307.21 1539.14 1307.21 1546.53 Z\" fill=\"#000000\" fill-rule=\"evenodd\" fill-opacity=\"1\" /><path clip-path=\"url(#clip380)\" d=\"M1325.26 1562.63 L1347.7 1562.63 L1347.7 1568.04 L1317.52 1568.04 L1317.52 1562.63 Q1321.18 1558.85 1327.49 1552.48 Q1333.82 1546.08 1335.44 1544.24 Q1338.53 1540.77 1339.74 1538.38 Q1340.98 1535.96 1340.98 1533.64 Q1340.98 1529.85 1338.31 1527.46 Q1335.67 1525.08 1331.4 1525.08 Q1328.38 1525.08 1325 1526.13 Q1321.66 1527.18 1317.84 1529.31 L1317.84 1522.82 Q1321.72 1521.26 1325.1 1520.46 Q1328.47 1519.66 1331.27 1519.66 Q1338.66 1519.66 1343.05 1523.36 Q1347.44 1527.05 1347.44 1533.22 Q1347.44 1536.15 1346.33 1538.79 Q1345.25 1541.4 1342.35 1544.97 Q1341.55 1545.89 1337.29 1550.32 Q1333.02 1554.71 1325.26 1562.63 Z\" fill=\"#000000\" fill-rule=\"evenodd\" fill-opacity=\"1\" /><polyline clip-path=\"url(#clip382)\" style=\"stroke:#000000; stroke-linecap:round; stroke-linejoin:round; stroke-width:2; stroke-opacity:0.1; fill:none\" points=\"\n",
       "  272.297,1289.67 2352.76,1289.67 \n",
       "  \"/>\n",
       "<polyline clip-path=\"url(#clip382)\" style=\"stroke:#000000; stroke-linecap:round; stroke-linejoin:round; stroke-width:2; stroke-opacity:0.1; fill:none\" points=\"\n",
       "  272.297,1112.24 2352.76,1112.24 \n",
       "  \"/>\n",
       "<polyline clip-path=\"url(#clip382)\" style=\"stroke:#000000; stroke-linecap:round; stroke-linejoin:round; stroke-width:2; stroke-opacity:0.1; fill:none\" points=\"\n",
       "  272.297,934.816 2352.76,934.816 \n",
       "  \"/>\n",
       "<polyline clip-path=\"url(#clip382)\" style=\"stroke:#000000; stroke-linecap:round; stroke-linejoin:round; stroke-width:2; stroke-opacity:0.1; fill:none\" points=\"\n",
       "  272.297,757.39 2352.76,757.39 \n",
       "  \"/>\n",
       "<polyline clip-path=\"url(#clip382)\" style=\"stroke:#000000; stroke-linecap:round; stroke-linejoin:round; stroke-width:2; stroke-opacity:0.1; fill:none\" points=\"\n",
       "  272.297,579.965 2352.76,579.965 \n",
       "  \"/>\n",
       "<polyline clip-path=\"url(#clip382)\" style=\"stroke:#000000; stroke-linecap:round; stroke-linejoin:round; stroke-width:2; stroke-opacity:0.1; fill:none\" points=\"\n",
       "  272.297,402.539 2352.76,402.539 \n",
       "  \"/>\n",
       "<polyline clip-path=\"url(#clip382)\" style=\"stroke:#000000; stroke-linecap:round; stroke-linejoin:round; stroke-width:2; stroke-opacity:0.1; fill:none\" points=\"\n",
       "  272.297,225.113 2352.76,225.113 \n",
       "  \"/>\n",
       "<polyline clip-path=\"url(#clip382)\" style=\"stroke:#000000; stroke-linecap:round; stroke-linejoin:round; stroke-width:2; stroke-opacity:0.1; fill:none\" points=\"\n",
       "  272.297,47.6877 2352.76,47.6877 \n",
       "  \"/>\n",
       "<polyline clip-path=\"url(#clip380)\" style=\"stroke:#000000; stroke-linecap:round; stroke-linejoin:round; stroke-width:4; stroke-opacity:1; fill:none\" points=\"\n",
       "  272.297,1423.18 272.297,47.2441 \n",
       "  \"/>\n",
       "<polyline clip-path=\"url(#clip380)\" style=\"stroke:#000000; stroke-linecap:round; stroke-linejoin:round; stroke-width:4; stroke-opacity:1; fill:none\" points=\"\n",
       "  272.297,1289.67 291.194,1289.67 \n",
       "  \"/>\n",
       "<polyline clip-path=\"url(#clip380)\" style=\"stroke:#000000; stroke-linecap:round; stroke-linejoin:round; stroke-width:4; stroke-opacity:1; fill:none\" points=\"\n",
       "  272.297,1112.24 291.194,1112.24 \n",
       "  \"/>\n",
       "<polyline clip-path=\"url(#clip380)\" style=\"stroke:#000000; stroke-linecap:round; stroke-linejoin:round; stroke-width:4; stroke-opacity:1; fill:none\" points=\"\n",
       "  272.297,934.816 291.194,934.816 \n",
       "  \"/>\n",
       "<polyline clip-path=\"url(#clip380)\" style=\"stroke:#000000; stroke-linecap:round; stroke-linejoin:round; stroke-width:4; stroke-opacity:1; fill:none\" points=\"\n",
       "  272.297,757.39 291.194,757.39 \n",
       "  \"/>\n",
       "<polyline clip-path=\"url(#clip380)\" style=\"stroke:#000000; stroke-linecap:round; stroke-linejoin:round; stroke-width:4; stroke-opacity:1; fill:none\" points=\"\n",
       "  272.297,579.965 291.194,579.965 \n",
       "  \"/>\n",
       "<polyline clip-path=\"url(#clip380)\" style=\"stroke:#000000; stroke-linecap:round; stroke-linejoin:round; stroke-width:4; stroke-opacity:1; fill:none\" points=\"\n",
       "  272.297,402.539 291.194,402.539 \n",
       "  \"/>\n",
       "<polyline clip-path=\"url(#clip380)\" style=\"stroke:#000000; stroke-linecap:round; stroke-linejoin:round; stroke-width:4; stroke-opacity:1; fill:none\" points=\"\n",
       "  272.297,225.113 291.194,225.113 \n",
       "  \"/>\n",
       "<polyline clip-path=\"url(#clip380)\" style=\"stroke:#000000; stroke-linecap:round; stroke-linejoin:round; stroke-width:4; stroke-opacity:1; fill:none\" points=\"\n",
       "  272.297,47.6877 291.194,47.6877 \n",
       "  \"/>\n",
       "<path clip-path=\"url(#clip380)\" d=\"M114.26 1290.12 L143.936 1290.12 L143.936 1294.05 L114.26 1294.05 L114.26 1290.12 Z\" fill=\"#000000\" fill-rule=\"evenodd\" fill-opacity=\"1\" /><path clip-path=\"url(#clip380)\" d=\"M158.056 1303.01 L174.376 1303.01 L174.376 1306.95 L152.431 1306.95 L152.431 1303.01 Q155.093 1300.26 159.677 1295.63 Q164.283 1290.97 165.464 1289.63 Q167.709 1287.11 168.589 1285.37 Q169.491 1283.61 169.491 1281.92 Q169.491 1279.17 167.547 1277.43 Q165.626 1275.7 162.524 1275.7 Q160.325 1275.7 157.871 1276.46 Q155.44 1277.22 152.663 1278.78 L152.663 1274.05 Q155.487 1272.92 157.94 1272.34 Q160.394 1271.76 162.431 1271.76 Q167.802 1271.76 170.996 1274.45 Q174.19 1277.13 174.19 1281.62 Q174.19 1283.75 173.38 1285.67 Q172.593 1287.57 170.487 1290.16 Q169.908 1290.84 166.806 1294.05 Q163.704 1297.25 158.056 1303.01 Z\" fill=\"#000000\" fill-rule=\"evenodd\" fill-opacity=\"1\" /><path clip-path=\"url(#clip380)\" d=\"M194.769 1287.8 Q191.621 1287.8 189.769 1289.96 Q187.94 1292.11 187.94 1295.86 Q187.94 1299.59 189.769 1301.76 Q191.621 1303.91 194.769 1303.91 Q197.917 1303.91 199.746 1301.76 Q201.598 1299.59 201.598 1295.86 Q201.598 1292.11 199.746 1289.96 Q197.917 1287.8 194.769 1287.8 M204.051 1273.15 L204.051 1277.41 Q202.292 1276.58 200.487 1276.14 Q198.704 1275.7 196.945 1275.7 Q192.315 1275.7 189.862 1278.82 Q187.431 1281.95 187.084 1288.27 Q188.45 1286.25 190.51 1285.19 Q192.57 1284.1 195.047 1284.1 Q200.255 1284.1 203.264 1287.27 Q206.297 1290.42 206.297 1295.86 Q206.297 1301.18 203.149 1304.4 Q200 1307.62 194.769 1307.62 Q188.774 1307.62 185.602 1303.04 Q182.431 1298.43 182.431 1289.7 Q182.431 1281.51 186.32 1276.65 Q190.209 1271.76 196.76 1271.76 Q198.519 1271.76 200.301 1272.11 Q202.107 1272.46 204.051 1273.15 Z\" fill=\"#000000\" fill-rule=\"evenodd\" fill-opacity=\"1\" /><path clip-path=\"url(#clip380)\" d=\"M224.352 1275.47 Q220.741 1275.47 218.912 1279.03 Q217.107 1282.57 217.107 1289.7 Q217.107 1296.81 218.912 1300.37 Q220.741 1303.91 224.352 1303.91 Q227.986 1303.91 229.792 1300.37 Q231.621 1296.81 231.621 1289.7 Q231.621 1282.57 229.792 1279.03 Q227.986 1275.47 224.352 1275.47 M224.352 1271.76 Q230.162 1271.76 233.218 1276.37 Q236.297 1280.95 236.297 1289.7 Q236.297 1298.43 233.218 1303.04 Q230.162 1307.62 224.352 1307.62 Q218.542 1307.62 215.463 1303.04 Q212.408 1298.43 212.408 1289.7 Q212.408 1280.95 215.463 1276.37 Q218.542 1271.76 224.352 1271.76 Z\" fill=\"#000000\" fill-rule=\"evenodd\" fill-opacity=\"1\" /><path clip-path=\"url(#clip380)\" d=\"M114.26 1112.69 L143.936 1112.69 L143.936 1116.63 L114.26 1116.63 L114.26 1112.69 Z\" fill=\"#000000\" fill-rule=\"evenodd\" fill-opacity=\"1\" /><path clip-path=\"url(#clip380)\" d=\"M158.056 1125.59 L174.376 1125.59 L174.376 1129.52 L152.431 1129.52 L152.431 1125.59 Q155.093 1122.83 159.677 1118.2 Q164.283 1113.55 165.464 1112.21 Q167.709 1109.68 168.589 1107.95 Q169.491 1106.19 169.491 1104.5 Q169.491 1101.74 167.547 1100.01 Q165.626 1098.27 162.524 1098.27 Q160.325 1098.27 157.871 1099.04 Q155.44 1099.8 152.663 1101.35 L152.663 1096.63 Q155.487 1095.49 157.94 1094.92 Q160.394 1094.34 162.431 1094.34 Q167.802 1094.34 170.996 1097.02 Q174.19 1099.71 174.19 1104.2 Q174.19 1106.33 173.38 1108.25 Q172.593 1110.15 170.487 1112.74 Q169.908 1113.41 166.806 1116.63 Q163.704 1119.82 158.056 1125.59 Z\" fill=\"#000000\" fill-rule=\"evenodd\" fill-opacity=\"1\" /><path clip-path=\"url(#clip380)\" d=\"M197.037 1099.04 L185.232 1117.48 L197.037 1117.48 L197.037 1099.04 M195.811 1094.96 L201.69 1094.96 L201.69 1117.48 L206.621 1117.48 L206.621 1121.37 L201.69 1121.37 L201.69 1129.52 L197.037 1129.52 L197.037 1121.37 L181.436 1121.37 L181.436 1116.86 L195.811 1094.96 Z\" fill=\"#000000\" fill-rule=\"evenodd\" fill-opacity=\"1\" /><path clip-path=\"url(#clip380)\" d=\"M224.352 1098.04 Q220.741 1098.04 218.912 1101.6 Q217.107 1105.15 217.107 1112.28 Q217.107 1119.38 218.912 1122.95 Q220.741 1126.49 224.352 1126.49 Q227.986 1126.49 229.792 1122.95 Q231.621 1119.38 231.621 1112.28 Q231.621 1105.15 229.792 1101.6 Q227.986 1098.04 224.352 1098.04 M224.352 1094.34 Q230.162 1094.34 233.218 1098.94 Q236.297 1103.53 236.297 1112.28 Q236.297 1121 233.218 1125.61 Q230.162 1130.19 224.352 1130.19 Q218.542 1130.19 215.463 1125.61 Q212.408 1121 212.408 1112.28 Q212.408 1103.53 215.463 1098.94 Q218.542 1094.34 224.352 1094.34 Z\" fill=\"#000000\" fill-rule=\"evenodd\" fill-opacity=\"1\" /><path clip-path=\"url(#clip380)\" d=\"M114.26 935.267 L143.936 935.267 L143.936 939.202 L114.26 939.202 L114.26 935.267 Z\" fill=\"#000000\" fill-rule=\"evenodd\" fill-opacity=\"1\" /><path clip-path=\"url(#clip380)\" d=\"M158.056 948.161 L174.376 948.161 L174.376 952.096 L152.431 952.096 L152.431 948.161 Q155.093 945.406 159.677 940.776 Q164.283 936.124 165.464 934.781 Q167.709 932.258 168.589 930.522 Q169.491 928.763 169.491 927.073 Q169.491 924.318 167.547 922.582 Q165.626 920.846 162.524 920.846 Q160.325 920.846 157.871 921.61 Q155.44 922.374 152.663 923.925 L152.663 919.202 Q155.487 918.068 157.94 917.49 Q160.394 916.911 162.431 916.911 Q167.802 916.911 170.996 919.596 Q174.19 922.281 174.19 926.772 Q174.19 928.901 173.38 930.823 Q172.593 932.721 170.487 935.313 Q169.908 935.985 166.806 939.202 Q163.704 942.397 158.056 948.161 Z\" fill=\"#000000\" fill-rule=\"evenodd\" fill-opacity=\"1\" /><path clip-path=\"url(#clip380)\" d=\"M188.218 948.161 L204.537 948.161 L204.537 952.096 L182.593 952.096 L182.593 948.161 Q185.255 945.406 189.838 940.776 Q194.445 936.124 195.625 934.781 Q197.871 932.258 198.75 930.522 Q199.653 928.763 199.653 927.073 Q199.653 924.318 197.709 922.582 Q195.787 920.846 192.686 920.846 Q190.487 920.846 188.033 921.61 Q185.602 922.374 182.825 923.925 L182.825 919.202 Q185.649 918.068 188.102 917.49 Q190.556 916.911 192.593 916.911 Q197.963 916.911 201.158 919.596 Q204.352 922.281 204.352 926.772 Q204.352 928.901 203.542 930.823 Q202.755 932.721 200.649 935.313 Q200.07 935.985 196.968 939.202 Q193.866 942.397 188.218 948.161 Z\" fill=\"#000000\" fill-rule=\"evenodd\" fill-opacity=\"1\" /><path clip-path=\"url(#clip380)\" d=\"M224.352 920.614 Q220.741 920.614 218.912 924.179 Q217.107 927.721 217.107 934.851 Q217.107 941.957 218.912 945.522 Q220.741 949.063 224.352 949.063 Q227.986 949.063 229.792 945.522 Q231.621 941.957 231.621 934.851 Q231.621 927.721 229.792 924.179 Q227.986 920.614 224.352 920.614 M224.352 916.911 Q230.162 916.911 233.218 921.517 Q236.297 926.101 236.297 934.851 Q236.297 943.577 233.218 948.184 Q230.162 952.767 224.352 952.767 Q218.542 952.767 215.463 948.184 Q212.408 943.577 212.408 934.851 Q212.408 926.101 215.463 921.517 Q218.542 916.911 224.352 916.911 Z\" fill=\"#000000\" fill-rule=\"evenodd\" fill-opacity=\"1\" /><path clip-path=\"url(#clip380)\" d=\"M114.26 757.842 L143.936 757.842 L143.936 761.777 L114.26 761.777 L114.26 757.842 Z\" fill=\"#000000\" fill-rule=\"evenodd\" fill-opacity=\"1\" /><path clip-path=\"url(#clip380)\" d=\"M158.056 770.735 L174.376 770.735 L174.376 774.67 L152.431 774.67 L152.431 770.735 Q155.093 767.98 159.677 763.351 Q164.283 758.698 165.464 757.355 Q167.709 754.832 168.589 753.096 Q169.491 751.337 169.491 749.647 Q169.491 746.893 167.547 745.156 Q165.626 743.42 162.524 743.42 Q160.325 743.42 157.871 744.184 Q155.44 744.948 152.663 746.499 L152.663 741.777 Q155.487 740.643 157.94 740.064 Q160.394 739.485 162.431 739.485 Q167.802 739.485 170.996 742.17 Q174.19 744.856 174.19 749.346 Q174.19 751.476 173.38 753.397 Q172.593 755.295 170.487 757.888 Q169.908 758.559 166.806 761.777 Q163.704 764.971 158.056 770.735 Z\" fill=\"#000000\" fill-rule=\"evenodd\" fill-opacity=\"1\" /><path clip-path=\"url(#clip380)\" d=\"M194.19 743.189 Q190.579 743.189 188.75 746.754 Q186.945 750.295 186.945 757.425 Q186.945 764.531 188.75 768.096 Q190.579 771.638 194.19 771.638 Q197.825 771.638 199.63 768.096 Q201.459 764.531 201.459 757.425 Q201.459 750.295 199.63 746.754 Q197.825 743.189 194.19 743.189 M194.19 739.485 Q200 739.485 203.056 744.092 Q206.135 748.675 206.135 757.425 Q206.135 766.152 203.056 770.758 Q200 775.341 194.19 775.341 Q188.38 775.341 185.301 770.758 Q182.246 766.152 182.246 757.425 Q182.246 748.675 185.301 744.092 Q188.38 739.485 194.19 739.485 Z\" fill=\"#000000\" fill-rule=\"evenodd\" fill-opacity=\"1\" /><path clip-path=\"url(#clip380)\" d=\"M224.352 743.189 Q220.741 743.189 218.912 746.754 Q217.107 750.295 217.107 757.425 Q217.107 764.531 218.912 768.096 Q220.741 771.638 224.352 771.638 Q227.986 771.638 229.792 768.096 Q231.621 764.531 231.621 757.425 Q231.621 750.295 229.792 746.754 Q227.986 743.189 224.352 743.189 M224.352 739.485 Q230.162 739.485 233.218 744.092 Q236.297 748.675 236.297 757.425 Q236.297 766.152 233.218 770.758 Q230.162 775.341 224.352 775.341 Q218.542 775.341 215.463 770.758 Q212.408 766.152 212.408 757.425 Q212.408 748.675 215.463 744.092 Q218.542 739.485 224.352 739.485 Z\" fill=\"#000000\" fill-rule=\"evenodd\" fill-opacity=\"1\" /><path clip-path=\"url(#clip380)\" d=\"M114.26 580.416 L143.936 580.416 L143.936 584.351 L114.26 584.351 L114.26 580.416 Z\" fill=\"#000000\" fill-rule=\"evenodd\" fill-opacity=\"1\" /><path clip-path=\"url(#clip380)\" d=\"M154.839 593.309 L162.477 593.309 L162.477 566.944 L154.167 568.61 L154.167 564.351 L162.431 562.685 L167.107 562.685 L167.107 593.309 L174.746 593.309 L174.746 597.245 L154.839 597.245 L154.839 593.309 Z\" fill=\"#000000\" fill-rule=\"evenodd\" fill-opacity=\"1\" /><path clip-path=\"url(#clip380)\" d=\"M194.19 580.833 Q190.857 580.833 188.936 582.615 Q187.038 584.397 187.038 587.522 Q187.038 590.647 188.936 592.43 Q190.857 594.212 194.19 594.212 Q197.524 594.212 199.445 592.43 Q201.366 590.624 201.366 587.522 Q201.366 584.397 199.445 582.615 Q197.547 580.833 194.19 580.833 M189.514 578.842 Q186.505 578.101 184.815 576.041 Q183.149 573.981 183.149 571.018 Q183.149 566.874 186.088 564.467 Q189.051 562.06 194.19 562.06 Q199.352 562.06 202.292 564.467 Q205.232 566.874 205.232 571.018 Q205.232 573.981 203.542 576.041 Q201.875 578.101 198.889 578.842 Q202.269 579.629 204.144 581.921 Q206.042 584.212 206.042 587.522 Q206.042 592.545 202.963 595.231 Q199.908 597.916 194.19 597.916 Q188.473 597.916 185.394 595.231 Q182.338 592.545 182.338 587.522 Q182.338 584.212 184.237 581.921 Q186.135 579.629 189.514 578.842 M187.801 571.458 Q187.801 574.143 189.468 575.647 Q191.158 577.152 194.19 577.152 Q197.2 577.152 198.889 575.647 Q200.602 574.143 200.602 571.458 Q200.602 568.772 198.889 567.268 Q197.2 565.763 194.19 565.763 Q191.158 565.763 189.468 567.268 Q187.801 568.772 187.801 571.458 Z\" fill=\"#000000\" fill-rule=\"evenodd\" fill-opacity=\"1\" /><path clip-path=\"url(#clip380)\" d=\"M224.352 565.763 Q220.741 565.763 218.912 569.328 Q217.107 572.87 217.107 579.999 Q217.107 587.106 218.912 590.671 Q220.741 594.212 224.352 594.212 Q227.986 594.212 229.792 590.671 Q231.621 587.106 231.621 579.999 Q231.621 572.87 229.792 569.328 Q227.986 565.763 224.352 565.763 M224.352 562.06 Q230.162 562.06 233.218 566.666 Q236.297 571.249 236.297 579.999 Q236.297 588.726 233.218 593.333 Q230.162 597.916 224.352 597.916 Q218.542 597.916 215.463 593.333 Q212.408 588.726 212.408 579.999 Q212.408 571.249 215.463 566.666 Q218.542 562.06 224.352 562.06 Z\" fill=\"#000000\" fill-rule=\"evenodd\" fill-opacity=\"1\" /><path clip-path=\"url(#clip380)\" d=\"M114.26 402.99 L143.936 402.99 L143.936 406.925 L114.26 406.925 L114.26 402.99 Z\" fill=\"#000000\" fill-rule=\"evenodd\" fill-opacity=\"1\" /><path clip-path=\"url(#clip380)\" d=\"M154.839 415.884 L162.477 415.884 L162.477 389.518 L154.167 391.185 L154.167 386.926 L162.431 385.259 L167.107 385.259 L167.107 415.884 L174.746 415.884 L174.746 419.819 L154.839 419.819 L154.839 415.884 Z\" fill=\"#000000\" fill-rule=\"evenodd\" fill-opacity=\"1\" /><path clip-path=\"url(#clip380)\" d=\"M194.769 400.675 Q191.621 400.675 189.769 402.828 Q187.94 404.981 187.94 408.731 Q187.94 412.458 189.769 414.634 Q191.621 416.787 194.769 416.787 Q197.917 416.787 199.746 414.634 Q201.598 412.458 201.598 408.731 Q201.598 404.981 199.746 402.828 Q197.917 400.675 194.769 400.675 M204.051 386.023 L204.051 390.282 Q202.292 389.449 200.487 389.009 Q198.704 388.569 196.945 388.569 Q192.315 388.569 189.862 391.694 Q187.431 394.819 187.084 401.138 Q188.45 399.125 190.51 398.06 Q192.57 396.972 195.047 396.972 Q200.255 396.972 203.264 400.143 Q206.297 403.291 206.297 408.731 Q206.297 414.055 203.149 417.273 Q200 420.49 194.769 420.49 Q188.774 420.49 185.602 415.907 Q182.431 411.3 182.431 402.574 Q182.431 394.379 186.32 389.518 Q190.209 384.634 196.76 384.634 Q198.519 384.634 200.301 384.981 Q202.107 385.328 204.051 386.023 Z\" fill=\"#000000\" fill-rule=\"evenodd\" fill-opacity=\"1\" /><path clip-path=\"url(#clip380)\" d=\"M224.352 388.338 Q220.741 388.338 218.912 391.902 Q217.107 395.444 217.107 402.574 Q217.107 409.68 218.912 413.245 Q220.741 416.787 224.352 416.787 Q227.986 416.787 229.792 413.245 Q231.621 409.68 231.621 402.574 Q231.621 395.444 229.792 391.902 Q227.986 388.338 224.352 388.338 M224.352 384.634 Q230.162 384.634 233.218 389.24 Q236.297 393.824 236.297 402.574 Q236.297 411.3 233.218 415.907 Q230.162 420.49 224.352 420.49 Q218.542 420.49 215.463 415.907 Q212.408 411.3 212.408 402.574 Q212.408 393.824 215.463 389.24 Q218.542 384.634 224.352 384.634 Z\" fill=\"#000000\" fill-rule=\"evenodd\" fill-opacity=\"1\" /><path clip-path=\"url(#clip380)\" d=\"M114.26 225.565 L143.936 225.565 L143.936 229.5 L114.26 229.5 L114.26 225.565 Z\" fill=\"#000000\" fill-rule=\"evenodd\" fill-opacity=\"1\" /><path clip-path=\"url(#clip380)\" d=\"M154.839 238.458 L162.477 238.458 L162.477 212.093 L154.167 213.759 L154.167 209.5 L162.431 207.833 L167.107 207.833 L167.107 238.458 L174.746 238.458 L174.746 242.393 L154.839 242.393 L154.839 238.458 Z\" fill=\"#000000\" fill-rule=\"evenodd\" fill-opacity=\"1\" /><path clip-path=\"url(#clip380)\" d=\"M197.037 211.907 L185.232 230.356 L197.037 230.356 L197.037 211.907 M195.811 207.833 L201.69 207.833 L201.69 230.356 L206.621 230.356 L206.621 234.245 L201.69 234.245 L201.69 242.393 L197.037 242.393 L197.037 234.245 L181.436 234.245 L181.436 229.731 L195.811 207.833 Z\" fill=\"#000000\" fill-rule=\"evenodd\" fill-opacity=\"1\" /><path clip-path=\"url(#clip380)\" d=\"M224.352 210.912 Q220.741 210.912 218.912 214.477 Q217.107 218.018 217.107 225.148 Q217.107 232.254 218.912 235.819 Q220.741 239.361 224.352 239.361 Q227.986 239.361 229.792 235.819 Q231.621 232.254 231.621 225.148 Q231.621 218.018 229.792 214.477 Q227.986 210.912 224.352 210.912 M224.352 207.208 Q230.162 207.208 233.218 211.815 Q236.297 216.398 236.297 225.148 Q236.297 233.875 233.218 238.481 Q230.162 243.065 224.352 243.065 Q218.542 243.065 215.463 238.481 Q212.408 233.875 212.408 225.148 Q212.408 216.398 215.463 211.815 Q218.542 207.208 224.352 207.208 Z\" fill=\"#000000\" fill-rule=\"evenodd\" fill-opacity=\"1\" /><path clip-path=\"url(#clip380)\" d=\"M114.26 48.139 L143.936 48.139 L143.936 52.0742 L114.26 52.0742 L114.26 48.139 Z\" fill=\"#000000\" fill-rule=\"evenodd\" fill-opacity=\"1\" /><path clip-path=\"url(#clip380)\" d=\"M154.839 61.0325 L162.477 61.0325 L162.477 34.6669 L154.167 36.3336 L154.167 32.0743 L162.431 30.4077 L167.107 30.4077 L167.107 61.0325 L174.746 61.0325 L174.746 64.9677 L154.839 64.9677 L154.839 61.0325 Z\" fill=\"#000000\" fill-rule=\"evenodd\" fill-opacity=\"1\" /><path clip-path=\"url(#clip380)\" d=\"M188.218 61.0325 L204.537 61.0325 L204.537 64.9677 L182.593 64.9677 L182.593 61.0325 Q185.255 58.2779 189.838 53.6483 Q194.445 48.9955 195.625 47.6529 Q197.871 45.1298 198.75 43.3937 Q199.653 41.6345 199.653 39.9446 Q199.653 37.19 197.709 35.4539 Q195.787 33.7178 192.686 33.7178 Q190.487 33.7178 188.033 34.4817 Q185.602 35.2456 182.825 36.7965 L182.825 32.0743 Q185.649 30.9401 188.102 30.3614 Q190.556 29.7827 192.593 29.7827 Q197.963 29.7827 201.158 32.4678 Q204.352 35.153 204.352 39.6437 Q204.352 41.7733 203.542 43.6946 Q202.755 45.5928 200.649 48.1853 Q200.07 48.8566 196.968 52.0742 Q193.866 55.2686 188.218 61.0325 Z\" fill=\"#000000\" fill-rule=\"evenodd\" fill-opacity=\"1\" /><path clip-path=\"url(#clip380)\" d=\"M224.352 33.4863 Q220.741 33.4863 218.912 37.0511 Q217.107 40.5928 217.107 47.7224 Q217.107 54.8288 218.912 58.3936 Q220.741 61.9353 224.352 61.9353 Q227.986 61.9353 229.792 58.3936 Q231.621 54.8288 231.621 47.7224 Q231.621 40.5928 229.792 37.0511 Q227.986 33.4863 224.352 33.4863 M224.352 29.7827 Q230.162 29.7827 233.218 34.3891 Q236.297 38.9724 236.297 47.7224 Q236.297 56.4492 233.218 61.0556 Q230.162 65.639 224.352 65.639 Q218.542 65.639 215.463 61.0556 Q212.408 56.4492 212.408 47.7224 Q212.408 38.9724 215.463 34.3891 Q218.542 29.7827 224.352 29.7827 Z\" fill=\"#000000\" fill-rule=\"evenodd\" fill-opacity=\"1\" /><path clip-path=\"url(#clip380)\" d=\"M14.479 818.714 L14.479 812.858 L64.0042 812.858 L64.0042 818.714 L14.479 818.714 Z\" fill=\"#000000\" fill-rule=\"evenodd\" fill-opacity=\"1\" /><path clip-path=\"url(#clip380)\" d=\"M32.4621 786.79 Q32.4621 791.501 36.1542 794.238 Q39.8145 796.975 46.212 796.975 Q52.6095 796.975 56.3017 794.27 Q59.9619 791.533 59.9619 786.79 Q59.9619 782.111 56.2698 779.374 Q52.5777 776.637 46.212 776.637 Q39.8781 776.637 36.186 779.374 Q32.4621 782.111 32.4621 786.79 M27.4968 786.79 Q27.4968 779.151 32.4621 774.791 Q37.4273 770.43 46.212 770.43 Q54.9649 770.43 59.9619 774.791 Q64.9272 779.151 64.9272 786.79 Q64.9272 794.461 59.9619 798.821 Q54.9649 803.15 46.212 803.15 Q37.4273 803.15 32.4621 798.821 Q27.4968 794.461 27.4968 786.79 Z\" fill=\"#000000\" fill-rule=\"evenodd\" fill-opacity=\"1\" /><path clip-path=\"url(#clip380)\" d=\"M45.7664 737.265 Q39.4007 737.265 35.8996 739.907 Q32.3984 742.517 32.3984 747.259 Q32.3984 751.97 35.8996 754.611 Q39.4007 757.221 45.7664 757.221 Q52.1003 757.221 55.6014 754.611 Q59.1026 751.97 59.1026 747.259 Q59.1026 742.517 55.6014 739.907 Q52.1003 737.265 45.7664 737.265 M59.58 731.408 Q68.683 731.408 73.1071 735.451 Q77.5631 739.493 77.5631 747.832 Q77.5631 750.919 77.0857 753.657 Q76.6401 756.394 75.6852 758.972 L69.9879 758.972 Q71.3884 756.394 72.0568 753.879 Q72.7252 751.365 72.7252 748.755 Q72.7252 742.994 69.7015 740.129 Q66.7096 737.265 60.6303 737.265 L57.7339 737.265 Q60.885 739.079 62.4446 741.912 Q64.0042 744.745 64.0042 748.691 Q64.0042 755.248 59.0071 759.258 Q54.01 763.269 45.7664 763.269 Q37.491 763.269 32.4939 759.258 Q27.4968 755.248 27.4968 748.691 Q27.4968 744.745 29.0564 741.912 Q30.616 739.079 33.7671 737.265 L28.3562 737.265 L28.3562 731.408 L59.58 731.408 Z\" fill=\"#000000\" fill-rule=\"evenodd\" fill-opacity=\"1\" /><path clip-path=\"url(#clip380)\" d=\"M14.479 719.345 L14.479 713.489 L64.0042 713.489 L64.0042 719.345 L14.479 719.345 Z\" fill=\"#000000\" fill-rule=\"evenodd\" fill-opacity=\"1\" /><path clip-path=\"url(#clip380)\" d=\"M28.3562 701.235 L28.3562 695.379 L64.0042 695.379 L64.0042 701.235 L28.3562 701.235 M14.479 701.235 L14.479 695.379 L21.895 695.379 L21.895 701.235 L14.479 701.235 Z\" fill=\"#000000\" fill-rule=\"evenodd\" fill-opacity=\"1\" /><path clip-path=\"url(#clip380)\" d=\"M14.479 683.347 L14.479 677.459 L43.7294 677.459 L28.3562 659.985 L28.3562 652.506 L45.0344 671.412 L64.0042 651.71 L64.0042 659.349 L46.5939 677.459 L64.0042 677.459 L64.0042 683.347 L14.479 683.347 Z\" fill=\"#000000\" fill-rule=\"evenodd\" fill-opacity=\"1\" /><polyline clip-path=\"url(#clip382)\" style=\"stroke:#0000ff; stroke-linecap:round; stroke-linejoin:round; stroke-width:4; stroke-opacity:1; fill:none\" points=\"\n",
       "  366.863,79.2073 368.754,79.6649 370.646,80.0653 372.537,80.42 374.428,80.7375 376.32,81.0242 378.211,81.2849 380.102,81.5236 381.993,81.7433 383.885,81.9465 \n",
       "  385.776,82.1354 387.667,82.3117 389.559,82.4767 391.45,82.6319 393.341,82.7782 395.233,82.9166 397.124,83.0478 399.015,83.1726 400.907,83.2915 402.798,83.4052 \n",
       "  404.689,83.5141 406.581,83.6185 408.472,83.7191 410.363,83.8159 412.255,83.9094 414.146,83.9999 416.037,84.0876 417.929,84.1727 419.82,84.2555 421.711,84.3361 \n",
       "  423.603,84.4147 425.494,84.4915 427.385,84.5666 429.277,84.6402 431.168,84.7123 433.059,84.7832 434.951,84.8529 436.842,84.9215 438.733,84.9891 440.625,85.0558 \n",
       "  442.516,85.1217 444.407,85.1869 446.299,85.2513 448.19,85.3152 450.081,85.3785 451.973,85.4413 453.864,85.5037 455.755,85.5657 457.647,85.6274 459.538,85.6888 \n",
       "  461.429,85.7499 463.321,85.8108 465.212,85.8715 467.103,85.9321 468.995,85.9926 470.886,86.0531 472.777,86.1135 474.668,86.1738 476.56,86.2342 478.451,86.2946 \n",
       "  480.342,86.3551 482.234,86.4157 484.125,86.4763 486.016,86.5371 487.908,86.5981 489.799,86.6592 491.69,86.7205 493.582,86.782 495.473,86.8437 497.364,86.9056 \n",
       "  499.256,86.9678 501.147,87.0302 503.038,87.0929 504.93,87.1559 506.821,87.2192 508.712,87.2827 510.604,87.3466 512.495,87.4108 514.386,87.4754 516.278,87.5403 \n",
       "  518.169,87.6056 520.06,87.6712 521.952,87.7372 523.843,87.8035 525.734,87.8703 527.626,87.9374 529.517,88.0049 531.408,88.0729 533.3,88.1412 535.191,88.21 \n",
       "  537.082,88.2792 538.974,88.3488 540.865,88.4189 542.756,88.4894 544.648,88.5603 546.539,88.6317 548.43,88.7035 550.322,88.7758 552.213,88.8485 554.104,88.9218 \n",
       "  555.996,88.9954 557.887,89.0696 559.778,89.1442 561.67,89.2193 563.561,89.2949 565.452,89.3709 567.344,89.4474 569.235,89.5245 571.126,89.602 573.017,89.68 \n",
       "  574.909,89.7585 576.8,89.8375 578.691,89.917 580.583,89.997 582.474,90.0775 584.365,90.1585 586.257,90.24 588.148,90.322 590.039,90.4045 591.931,90.4876 \n",
       "  593.822,90.5711 595.713,90.6552 597.605,90.7398 599.496,90.8249 601.387,90.9105 603.279,90.9966 605.17,91.0833 607.061,91.1704 608.953,91.2581 610.844,91.3463 \n",
       "  612.735,91.4351 614.627,91.5243 616.518,91.6141 618.409,91.7044 620.301,91.7953 622.192,91.8866 624.083,91.9785 625.975,92.071 627.866,92.1639 629.757,92.2574 \n",
       "  631.649,92.3514 633.54,92.446 635.431,92.5411 637.323,92.6367 639.214,92.7328 641.105,92.8295 642.997,92.9267 644.888,93.0244 646.779,93.1227 648.671,93.2215 \n",
       "  650.562,93.3209 652.453,93.4208 654.345,93.5212 656.236,93.6221 658.127,93.7236 660.019,93.8256 661.91,93.9282 663.801,94.0313 665.692,94.1349 667.584,94.2391 \n",
       "  669.475,94.3438 671.366,94.4491 673.258,94.5549 675.149,94.6612 677.04,94.768 678.932,94.8754 680.823,94.9834 682.714,95.0918 684.606,95.2009 686.497,95.3104 \n",
       "  688.388,95.4205 690.28,95.5311 692.171,95.6423 694.062,95.754 695.954,95.8663 697.845,95.979 699.736,96.0924 701.628,96.2062 703.519,96.3206 705.41,96.4356 \n",
       "  707.302,96.5511 709.193,96.6671 711.084,96.7837 712.976,96.9008 714.867,97.0184 716.758,97.1366 718.65,97.2553 720.541,97.3746 722.432,97.4944 724.324,97.6147 \n",
       "  726.215,97.7356 728.106,97.857 729.998,97.979 731.889,98.1015 733.78,98.2245 735.672,98.3481 737.563,98.4722 739.454,98.5969 741.346,98.7221 743.237,98.8478 \n",
       "  745.128,98.9741 747.02,99.101 748.911,99.2283 750.802,99.3562 752.694,99.4847 754.585,99.6137 756.476,99.7432 758.368,99.8733 760.259,100.004 762.15,100.135 \n",
       "  764.041,100.267 765.933,100.399 767.824,100.532 769.715,100.665 771.607,100.799 773.498,100.933 775.389,101.068 777.281,101.204 779.172,101.34 781.063,101.476 \n",
       "  782.955,101.614 784.846,101.751 786.737,101.889 788.629,102.028 790.52,102.168 792.411,102.307 794.303,102.448 796.194,102.589 798.085,102.73 799.977,102.872 \n",
       "  801.868,103.015 803.759,103.158 805.651,103.301 807.542,103.446 809.433,103.59 811.325,103.736 813.216,103.881 815.107,104.028 816.999,104.175 818.89,104.322 \n",
       "  820.781,104.47 822.673,104.619 824.564,104.768 826.455,104.918 828.347,105.068 830.238,105.219 832.129,105.37 834.021,105.522 835.912,105.674 837.803,105.827 \n",
       "  839.695,105.981 841.586,106.135 843.477,106.289 845.369,106.444 847.26,106.6 849.151,106.756 851.043,106.913 852.934,107.07 854.825,107.228 856.716,107.387 \n",
       "  858.608,107.546 860.499,107.705 862.39,107.865 864.282,108.026 866.173,108.187 868.064,108.349 869.956,108.511 871.847,108.674 873.738,108.838 875.63,109.002 \n",
       "  877.521,109.166 879.412,109.331 881.304,109.497 883.195,109.663 885.086,109.83 886.978,109.997 888.869,110.165 890.76,110.334 892.652,110.503 894.543,110.672 \n",
       "  896.434,110.843 898.326,111.013 900.217,111.185 902.108,111.356 904,111.529 905.891,111.702 907.782,111.875 909.674,112.049 911.565,112.224 913.456,112.399 \n",
       "  915.348,112.575 917.239,112.751 919.13,112.928 921.022,113.106 922.913,113.284 924.804,113.462 926.696,113.642 928.587,113.821 930.478,114.002 932.37,114.183 \n",
       "  934.261,114.364 936.152,114.546 938.044,114.729 939.935,114.912 941.826,115.096 943.718,115.28 945.609,115.465 947.5,115.651 949.391,115.837 951.283,116.023 \n",
       "  953.174,116.211 955.065,116.398 956.957,116.587 958.848,116.776 960.739,116.965 962.631,117.155 964.522,117.346 966.413,117.537 968.305,117.729 970.196,117.922 \n",
       "  972.087,118.115 973.979,118.309 975.87,118.503 977.761,118.698 979.653,118.893 981.544,119.089 983.435,119.286 985.327,119.483 987.218,119.681 989.109,119.879 \n",
       "  991.001,120.078 992.892,120.278 994.783,120.478 996.675,120.679 998.566,120.88 1000.46,121.082 1002.35,121.285 1004.24,121.488 1006.13,121.692 1008.02,121.896 \n",
       "  1009.91,122.101 1011.81,122.307 1013.7,122.513 1015.59,122.72 1017.48,122.927 1019.37,123.135 1021.26,123.344 1023.15,123.553 1025.04,123.763 1026.94,123.973 \n",
       "  1028.83,124.184 1030.72,124.396 1032.61,124.608 1034.5,124.821 1036.39,125.035 1038.28,125.249 1040.18,125.464 1042.07,125.679 1043.96,125.895 1045.85,126.112 \n",
       "  1047.74,126.329 1049.63,126.547 1051.52,126.766 1053.41,126.985 1055.31,127.205 1057.2,127.425 1059.09,127.646 1060.98,127.868 1062.87,128.09 1064.76,128.313 \n",
       "  1066.65,128.537 1068.55,128.761 1070.44,128.986 1072.33,129.212 1074.22,129.438 1076.11,129.665 1078,129.892 1079.89,130.12 1081.78,130.349 1083.68,130.578 \n",
       "  1085.57,130.808 1087.46,131.039 1089.35,131.271 1091.24,131.503 1093.13,131.735 1095.02,131.969 1096.91,132.203 1098.81,132.437 1100.7,132.673 1102.59,132.909 \n",
       "  1104.48,133.145 1106.37,133.383 1108.26,133.62 1110.15,133.859 1112.05,134.098 1113.94,134.338 1115.83,134.579 1117.72,134.82 1119.61,135.062 1121.5,135.305 \n",
       "  1123.39,135.548 1125.28,135.793 1127.18,136.037 1129.07,136.283 1130.96,136.529 1132.85,136.776 1134.74,137.023 1136.63,137.271 1138.52,137.52 1140.42,137.77 \n",
       "  1142.31,138.02 1144.2,138.271 1146.09,138.523 1147.98,138.775 1149.87,139.028 1151.76,139.282 1153.65,139.536 1155.55,139.791 1157.44,140.047 1159.33,140.304 \n",
       "  1161.22,140.561 1163.11,140.819 1165,141.078 1166.89,141.337 1168.79,141.597 1170.68,141.858 1172.57,142.12 1174.46,142.382 1176.35,142.645 1178.24,142.909 \n",
       "  1180.13,143.174 1182.02,143.439 1183.92,143.705 1185.81,143.972 1187.7,144.239 1189.59,144.507 1191.48,144.776 1193.37,145.046 1195.26,145.317 1197.16,145.588 \n",
       "  1199.05,145.86 1200.94,146.132 1202.83,146.406 1204.72,146.68 1206.61,146.955 1208.5,147.231 1210.39,147.507 1212.29,147.785 1214.18,148.063 1216.07,148.341 \n",
       "  1217.96,148.621 1219.85,148.901 1221.74,149.183 1223.63,149.465 1225.53,149.747 1227.42,150.031 1229.31,150.315 1231.2,150.6 1233.09,150.886 1234.98,151.173 \n",
       "  1236.87,151.46 1238.76,151.748 1240.66,152.037 1242.55,152.327 1244.44,152.618 1246.33,152.909 1248.22,153.202 1250.11,153.495 1252,153.788 1253.9,154.083 \n",
       "  1255.79,154.379 1257.68,154.675 1259.57,154.972 1261.46,155.27 1263.35,155.569 1265.24,155.869 1267.13,156.169 1269.03,156.471 1270.92,156.773 1272.81,157.076 \n",
       "  1274.7,157.38 1276.59,157.685 1278.48,157.99 1280.37,158.297 1282.26,158.604 1284.16,158.912 1286.05,159.221 1287.94,159.531 1289.83,159.842 1291.72,160.153 \n",
       "  1293.61,160.466 1295.5,160.779 1297.4,161.094 1299.29,161.409 1301.18,161.725 1303.07,162.042 1304.96,162.359 1306.85,162.678 1308.74,162.998 1310.63,163.318 \n",
       "  1312.53,163.64 1314.42,163.962 1316.31,164.285 1318.2,164.609 1320.09,164.935 1321.98,165.261 1323.87,165.587 1325.77,165.915 1327.66,166.244 1329.55,166.574 \n",
       "  1331.44,166.904 1333.33,167.236 1335.22,167.569 1337.11,167.902 1339,168.236 1340.9,168.572 1342.79,168.908 1344.68,169.245 1346.57,169.584 1348.46,169.923 \n",
       "  1350.35,170.263 1352.24,170.604 1354.14,170.947 1356.03,171.29 1357.92,171.634 1359.81,171.979 1361.7,172.325 1363.59,172.672 1365.48,173.02 1367.37,173.369 \n",
       "  1369.27,173.72 1371.16,174.071 1373.05,174.423 1374.94,174.776 1376.83,175.13 1378.72,175.485 1380.61,175.842 1382.51,176.199 1384.4,176.557 1386.29,176.917 \n",
       "  1388.18,177.277 1390.07,177.639 1391.96,178.001 1393.85,178.365 1395.74,178.73 1397.64,179.095 1399.53,179.462 1401.42,179.83 1403.31,180.199 1405.2,180.569 \n",
       "  1407.09,180.94 1408.98,181.313 1410.88,181.686 1412.77,182.06 1414.66,182.436 1416.55,182.813 1418.44,183.19 1420.33,183.569 1422.22,183.949 1424.11,184.331 \n",
       "  1426.01,184.713 1427.9,185.096 1429.79,185.481 1431.68,185.867 1433.57,186.254 1435.46,186.642 1437.35,187.031 1439.25,187.422 1441.14,187.813 1443.03,188.206 \n",
       "  1444.92,188.6 1446.81,188.995 1448.7,189.392 1450.59,189.789 1452.48,190.188 1454.38,190.588 1456.27,190.989 1458.16,191.392 1460.05,191.795 1461.94,192.2 \n",
       "  1463.83,192.606 1465.72,193.014 1467.62,193.422 1469.51,193.832 1471.4,194.243 1473.29,194.656 1475.18,195.07 1477.07,195.485 1478.96,195.901 1480.85,196.318 \n",
       "  1482.75,196.737 1484.64,197.157 1486.53,197.579 1488.42,198.002 1490.31,198.426 1492.2,198.851 1494.09,199.278 1495.98,199.706 1497.88,200.136 1499.77,200.567 \n",
       "  1501.66,200.999 1503.55,201.432 1505.44,201.867 1507.33,202.304 1509.22,202.741 1511.12,203.18 1513.01,203.621 1514.9,204.063 1516.79,204.506 1518.68,204.951 \n",
       "  1520.57,205.397 1522.46,205.845 1524.35,206.294 1526.25,206.744 1528.14,207.196 1530.03,207.65 1531.92,208.104 1533.81,208.561 1535.7,209.019 1537.59,209.478 \n",
       "  1539.49,209.939 1541.38,210.401 1543.27,210.865 1545.16,211.331 1547.05,211.798 1548.94,212.266 1550.83,212.736 1552.72,213.208 1554.62,213.681 1556.51,214.155 \n",
       "  1558.4,214.632 1560.29,215.11 1562.18,215.589 1564.07,216.07 1565.96,216.553 1567.86,217.037 1569.75,217.523 1571.64,218.011 1573.53,218.5 1575.42,218.991 \n",
       "  1577.31,219.484 1579.2,219.978 1581.09,220.474 1582.99,220.971 1584.88,221.471 1586.77,221.972 1588.66,222.475 1590.55,222.979 1592.44,223.485 1594.33,223.993 \n",
       "  1596.23,224.503 1598.12,225.015 1600.01,225.528 1601.9,226.043 1603.79,226.56 1605.68,227.079 1607.57,227.599 1609.46,228.122 1611.36,228.646 1613.25,229.172 \n",
       "  1615.14,229.7 1617.03,230.23 1618.92,230.761 1620.81,231.295 1622.7,231.83 1624.6,232.368 1626.49,232.907 1628.38,233.448 1630.27,233.992 1632.16,234.537 \n",
       "  1634.05,235.084 1635.94,235.633 1637.83,236.184 1639.73,236.738 1641.62,237.293 1643.51,237.85 1645.4,238.409 1647.29,238.971 1649.18,239.534 1651.07,240.1 \n",
       "  1652.97,240.667 1654.86,241.237 1656.75,241.809 1658.64,242.383 1660.53,242.959 1662.42,243.537 1664.31,244.118 1666.2,244.701 1668.1,245.286 1669.99,245.873 \n",
       "  1671.88,246.462 1673.77,247.054 1675.66,247.648 1677.55,248.244 1679.44,248.842 1681.33,249.443 1683.23,250.046 1685.12,250.651 1687.01,251.259 1688.9,251.869 \n",
       "  1690.79,252.482 1692.68,253.097 1694.57,253.714 1696.47,254.334 1698.36,254.956 1700.25,255.581 1702.14,256.208 1704.03,256.838 1705.92,257.47 1707.81,258.105 \n",
       "  1709.7,258.742 1711.6,259.382 1713.49,260.025 1715.38,260.67 1717.27,261.317 1719.16,261.968 1721.05,262.621 1722.94,263.277 1724.84,263.935 1726.73,264.596 \n",
       "  1728.62,265.26 1730.51,265.927 1732.4,266.596 1734.29,267.268 1736.18,267.943 1738.07,268.621 1739.97,269.302 1741.86,269.985 1743.75,270.672 1745.64,271.361 \n",
       "  1747.53,272.054 1749.42,272.749 1751.31,273.447 1753.21,274.148 1755.1,274.853 1756.99,275.56 1758.88,276.271 1760.77,276.984 1762.66,277.701 1764.55,278.421 \n",
       "  1766.44,279.144 1768.34,279.87 1770.23,280.6 1772.12,281.332 1774.01,282.068 1775.9,282.808 1777.79,283.55 1779.68,284.296 1781.58,285.046 1783.47,285.798 \n",
       "  1785.36,286.555 1787.25,287.314 1789.14,288.077 1791.03,288.844 1792.92,289.614 1794.81,290.388 1796.71,291.166 1798.6,291.947 1800.49,292.731 1802.38,293.52 \n",
       "  1804.27,294.312 1806.16,295.108 1808.05,295.907 1809.95,296.711 1811.84,297.518 1813.73,298.329 1815.62,299.145 1817.51,299.964 1819.4,300.787 1821.29,301.614 \n",
       "  1823.18,302.445 1825.08,303.28 1826.97,304.12 1828.86,304.963 1830.75,305.811 1832.64,306.663 1834.53,307.52 1836.42,308.38 1838.32,309.245 1840.21,310.115 \n",
       "  1842.1,310.988 1843.99,311.867 1845.88,312.75 1847.77,313.637 1849.66,314.529 1851.55,315.426 1853.45,316.327 1855.34,317.233 1857.23,318.144 1859.12,319.06 \n",
       "  1861.01,319.98 1862.9,320.906 1864.79,321.836 1866.68,322.771 1868.58,323.712 1870.47,324.658 1872.36,325.608 1874.25,326.564 1876.14,327.526 1878.03,328.492 \n",
       "  1879.92,329.464 1881.82,330.442 1883.71,331.425 1885.6,332.413 1887.49,333.407 1889.38,334.407 1891.27,335.412 1893.16,336.423 1895.05,337.44 1896.95,338.463 \n",
       "  1898.84,339.492 1900.73,340.527 1902.62,341.568 1904.51,342.615 1906.4,343.668 1908.29,344.728 1910.19,345.794 1912.08,346.866 1913.97,347.945 1915.86,349.031 \n",
       "  1917.75,350.123 1919.64,351.222 1921.53,352.327 1923.42,353.44 1925.32,354.559 1927.21,355.686 1929.1,356.819 1930.99,357.96 1932.88,359.108 1934.77,360.264 \n",
       "  1936.66,361.426 1938.56,362.597 1940.45,363.775 1942.34,364.961 1944.23,366.154 1946.12,367.356 1948.01,368.565 1949.9,369.783 1951.79,371.009 1953.69,372.243 \n",
       "  1955.58,373.485 1957.47,374.736 1959.36,375.996 1961.25,377.264 1963.14,378.541 1965.03,379.828 1966.93,381.123 1968.82,382.427 1970.71,383.741 1972.6,385.065 \n",
       "  1974.49,386.397 1976.38,387.74 1978.27,389.092 1980.16,390.455 1982.06,391.827 1983.95,393.21 1985.84,394.603 1987.73,396.007 1989.62,397.421 1991.51,398.846 \n",
       "  1993.4,400.283 1995.3,401.73 1997.19,403.189 1999.08,404.659 2000.97,406.141 2002.86,407.634 2004.75,409.14 2006.64,410.658 2008.53,412.188 2010.43,413.731 \n",
       "  2012.32,415.286 2014.21,416.855 2016.1,418.436 2017.99,420.031 2019.88,421.64 2021.77,423.262 2023.67,424.899 2025.56,426.549 2027.45,428.215 2029.34,429.894 \n",
       "  2031.23,431.589 2033.12,433.299 2035.01,435.025 2036.9,436.766 2038.8,438.524 2040.69,440.297 2042.58,442.087 2044.47,443.895 2046.36,445.719 2048.25,447.561 \n",
       "  2050.14,449.42 2052.03,451.298 2053.93,453.194 2055.82,455.109 2057.71,457.044 2059.6,458.997 2061.49,460.971 2063.38,462.965 2065.27,464.98 2067.17,467.016 \n",
       "  2069.06,469.073 2070.95,471.152 2072.84,473.254 2074.73,475.379 2076.62,477.527 2078.51,479.699 2080.4,481.895 2082.3,484.117 2084.19,486.363 2086.08,488.636 \n",
       "  2087.97,490.935 2089.86,493.262 2091.75,495.616 2093.64,497.999 2095.54,500.41 2097.43,502.852 2099.32,505.324 2101.21,507.827 2103.1,510.362 2104.99,512.93 \n",
       "  2106.88,515.532 2108.77,518.168 2110.67,520.839 2112.56,523.547 2114.45,526.291 2116.34,529.074 2118.23,531.897 2120.12,534.759 2122.01,537.663 2123.91,540.609 \n",
       "  2125.8,543.599 2127.69,546.634 2129.58,549.716 2131.47,552.845 2133.36,556.024 2135.25,559.253 2137.14,562.534 2139.04,565.87 2140.93,569.261 2142.82,572.709 \n",
       "  2144.71,576.217 2146.6,579.786 2148.49,583.419 2150.38,587.117 2152.28,590.883 2154.17,594.72 2156.06,598.63 2157.95,602.616 2159.84,606.68 2161.73,610.826 \n",
       "  2163.62,615.058 2165.51,619.377 2167.41,623.789 2169.3,628.297 2171.19,632.905 2173.08,637.618 2174.97,642.44 2176.86,647.376 2178.75,652.432 2180.65,657.614 \n",
       "  2182.54,662.927 2184.43,668.378 2186.32,673.975 2188.21,679.726 2190.1,685.638 2191.99,691.721 2193.88,697.985 2195.78,704.441 2197.67,711.1 2199.56,717.976 \n",
       "  2201.45,725.082 2203.34,732.435 2205.23,740.051 2207.12,747.949 2209.02,756.152 2210.91,764.683 2212.8,773.569 2214.69,782.84 2216.58,792.53 2218.47,802.679 \n",
       "  2220.36,813.331 2222.25,824.538 2224.15,836.359 2226.04,848.866 2227.93,862.142 2229.82,876.285 2231.71,891.415 2233.6,907.68 2235.49,925.261 2237.38,944.386 \n",
       "  2239.28,965.352 2241.17,988.547 2243.06,1014.5 2244.95,1043.94 2246.84,1077.95 2248.73,1118.22 2250.62,1167.53 2252.52,1231.16 2254.41,1320.91 2256.3,1474.46 \n",
       "  \n",
       "  \"/>\n",
       "<circle clip-path=\"url(#clip382)\" cx=\"366.863\" cy=\"79.2073\" r=\"14.4\" fill=\"#0000ff\" fill-rule=\"evenodd\" fill-opacity=\"1\" stroke=\"#000000\" stroke-opacity=\"1\" stroke-width=\"3.2\"/>\n",
       "<polyline clip-path=\"url(#clip382)\" style=\"stroke:#ff0000; stroke-linecap:round; stroke-linejoin:round; stroke-width:4; stroke-opacity:1; fill:none\" points=\"\n",
       "  366.863,70.0436 368.754,70.5027 370.646,70.9048 372.537,71.2615 374.428,71.5813 376.32,71.8706 378.211,72.1341 380.102,72.3759 381.993,72.5989 383.885,72.8058 \n",
       "  385.776,72.9985 387.667,73.1788 389.559,73.3483 391.45,73.508 393.341,73.6591 395.233,73.8024 397.124,73.9389 399.015,74.0691 400.907,74.1937 402.798,74.3132 \n",
       "  404.689,74.4281 406.581,74.5389 408.472,74.6458 410.363,74.7493 412.255,74.8496 414.146,74.9471 416.037,75.0419 417.929,75.1343 419.82,75.2246 421.711,75.3128 \n",
       "  423.603,75.3992 425.494,75.484 427.385,75.5672 429.277,75.6491 431.168,75.7297 433.059,75.8091 434.951,75.8875 436.842,75.9649 438.733,76.0415 440.625,76.1173 \n",
       "  442.516,76.1924 444.407,76.2669 446.299,76.3409 448.19,76.4143 450.081,76.4874 451.973,76.56 453.864,76.6323 455.755,76.7044 457.647,76.7762 459.538,76.8478 \n",
       "  461.429,76.9193 463.321,76.9907 465.212,77.062 467.103,77.1333 468.995,77.2045 470.886,77.2758 472.777,77.3471 474.668,77.4185 476.56,77.49 478.451,77.5616 \n",
       "  480.342,77.6334 482.234,77.7053 484.125,77.7774 486.016,77.8497 487.908,77.9222 489.799,77.995 491.69,78.068 493.582,78.1413 495.473,78.2148 497.364,78.2887 \n",
       "  499.256,78.3629 501.147,78.4374 503.038,78.5122 504.93,78.5873 506.821,78.6628 508.712,78.7387 510.604,78.815 512.495,78.8916 514.386,78.9686 516.278,79.046 \n",
       "  518.169,79.1238 520.06,79.2021 521.952,79.2807 523.843,79.3598 525.734,79.4393 527.626,79.5192 529.517,79.5996 531.408,79.6804 533.3,79.7617 535.191,79.8434 \n",
       "  537.082,79.9256 538.974,80.0083 540.865,80.0914 542.756,80.175 544.648,80.2591 546.539,80.3436 548.43,80.4287 550.322,80.5142 552.213,80.6002 554.104,80.6867 \n",
       "  555.996,80.7737 557.887,80.8612 559.778,80.9492 561.67,81.0378 563.561,81.1268 565.452,81.2163 567.344,81.3063 569.235,81.3968 571.126,81.4879 573.017,81.5795 \n",
       "  574.909,81.6715 576.8,81.7641 578.691,81.8573 580.583,81.9509 582.474,82.045 584.365,82.1397 586.257,82.2349 588.148,82.3306 590.039,82.4269 591.931,82.5236 \n",
       "  593.822,82.6209 595.713,82.7188 597.605,82.8171 599.496,82.916 601.387,83.0154 603.279,83.1154 605.17,83.2158 607.061,83.3168 608.953,83.4184 610.844,83.5204 \n",
       "  612.735,83.623 614.627,83.7261 616.518,83.8298 618.409,83.934 620.301,84.0387 622.192,84.144 624.083,84.2498 625.975,84.3561 627.866,84.463 629.757,84.5704 \n",
       "  631.649,84.6783 633.54,84.7868 635.431,84.8958 637.323,85.0053 639.214,85.1154 641.105,85.226 642.997,85.3371 644.888,85.4488 646.779,85.561 648.671,85.6737 \n",
       "  650.562,85.787 652.453,85.9008 654.345,86.0152 656.236,86.13 658.127,86.2454 660.019,86.3614 661.91,86.4779 663.801,86.5949 665.692,86.7124 667.584,86.8305 \n",
       "  669.475,86.9491 671.366,87.0683 673.258,87.188 675.149,87.3082 677.04,87.4289 678.932,87.5502 680.823,87.672 682.714,87.7944 684.606,87.9173 686.497,88.0407 \n",
       "  688.388,88.1646 690.28,88.2891 692.171,88.4141 694.062,88.5397 695.954,88.6657 697.845,88.7923 699.736,88.9195 701.628,89.0471 703.519,89.1753 705.41,89.3041 \n",
       "  707.302,89.4333 709.193,89.5631 711.084,89.6934 712.976,89.8243 714.867,89.9557 716.758,90.0876 718.65,90.22 720.541,90.353 722.432,90.4865 724.324,90.6205 \n",
       "  726.215,90.7551 728.106,90.8902 729.998,91.0258 731.889,91.1619 733.78,91.2986 735.672,91.4358 737.563,91.5736 739.454,91.7118 741.346,91.8506 743.237,91.9899 \n",
       "  745.128,92.1298 747.02,92.2702 748.911,92.4111 750.802,92.5525 752.694,92.6945 754.585,92.837 756.476,92.98 758.368,93.1235 760.259,93.2676 762.15,93.4122 \n",
       "  764.041,93.5573 765.933,93.703 767.824,93.8492 769.715,93.9959 771.607,94.1432 773.498,94.2909 775.389,94.4392 777.281,94.5881 779.172,94.7374 781.063,94.8873 \n",
       "  782.955,95.0377 784.846,95.1887 786.737,95.3401 788.629,95.4921 790.52,95.6447 792.411,95.7977 794.303,95.9513 796.194,96.1054 798.085,96.2601 799.977,96.4152 \n",
       "  801.868,96.5709 803.759,96.7272 805.651,96.8839 807.542,97.0412 809.433,97.199 811.325,97.3574 813.216,97.5162 815.107,97.6756 816.999,97.8356 818.89,97.996 \n",
       "  820.781,98.157 822.673,98.3186 824.564,98.4806 826.455,98.6432 828.347,98.8063 830.238,98.97 832.129,99.1342 834.021,99.2989 835.912,99.4641 837.803,99.6299 \n",
       "  839.695,99.7962 841.586,99.9631 843.477,100.13 845.369,100.298 847.26,100.467 849.151,100.636 851.043,100.805 852.934,100.975 854.825,101.146 856.716,101.317 \n",
       "  858.608,101.489 860.499,101.661 862.39,101.834 864.282,102.007 866.173,102.181 868.064,102.355 869.956,102.53 871.847,102.705 873.738,102.881 875.63,103.058 \n",
       "  877.521,103.235 879.412,103.412 881.304,103.59 883.195,103.769 885.086,103.948 886.978,104.128 888.869,104.308 890.76,104.489 892.652,104.67 894.543,104.852 \n",
       "  896.434,105.035 898.326,105.218 900.217,105.401 902.108,105.585 904,105.77 905.891,105.955 907.782,106.141 909.674,106.327 911.565,106.514 913.456,106.701 \n",
       "  915.348,106.889 917.239,107.078 919.13,107.267 921.022,107.456 922.913,107.646 924.804,107.837 926.696,108.028 928.587,108.22 930.478,108.412 932.37,108.605 \n",
       "  934.261,108.799 936.152,108.993 938.044,109.187 939.935,109.382 941.826,109.578 943.718,109.774 945.609,109.971 947.5,110.168 949.391,110.366 951.283,110.565 \n",
       "  953.174,110.764 955.065,110.963 956.957,111.163 958.848,111.364 960.739,111.565 962.631,111.767 964.522,111.97 966.413,112.173 968.305,112.376 970.196,112.58 \n",
       "  972.087,112.785 973.979,112.99 975.87,113.196 977.761,113.402 979.653,113.609 981.544,113.817 983.435,114.025 985.327,114.234 987.218,114.443 989.109,114.653 \n",
       "  991.001,114.863 992.892,115.074 994.783,115.286 996.675,115.498 998.566,115.71 1000.46,115.924 1002.35,116.138 1004.24,116.352 1006.13,116.567 1008.02,116.783 \n",
       "  1009.91,116.999 1011.81,117.216 1013.7,117.433 1015.59,117.651 1017.48,117.87 1019.37,118.089 1021.26,118.309 1023.15,118.529 1025.04,118.75 1026.94,118.972 \n",
       "  1028.83,119.194 1030.72,119.417 1032.61,119.64 1034.5,119.864 1036.39,120.089 1038.28,120.314 1040.18,120.54 1042.07,120.766 1043.96,120.993 1045.85,121.221 \n",
       "  1047.74,121.449 1049.63,121.678 1051.52,121.907 1053.41,122.137 1055.31,122.368 1057.2,122.599 1059.09,122.831 1060.98,123.063 1062.87,123.297 1064.76,123.53 \n",
       "  1066.65,123.765 1068.55,124 1070.44,124.235 1072.33,124.471 1074.22,124.708 1076.11,124.946 1078,125.184 1079.89,125.423 1081.78,125.662 1083.68,125.902 \n",
       "  1085.57,126.143 1087.46,126.384 1089.35,126.626 1091.24,126.868 1093.13,127.112 1095.02,127.355 1096.91,127.6 1098.81,127.845 1100.7,128.091 1102.59,128.337 \n",
       "  1104.48,128.584 1106.37,128.832 1108.26,129.08 1110.15,129.329 1112.05,129.579 1113.94,129.829 1115.83,130.08 1117.72,130.332 1119.61,130.584 1121.5,130.837 \n",
       "  1123.39,131.091 1125.28,131.345 1127.18,131.6 1129.07,131.856 1130.96,132.112 1132.85,132.369 1134.74,132.627 1136.63,132.885 1138.52,133.144 1140.42,133.404 \n",
       "  1142.31,133.664 1144.2,133.925 1146.09,134.187 1147.98,134.449 1149.87,134.712 1151.76,134.976 1153.65,135.24 1155.55,135.506 1157.44,135.771 1159.33,136.038 \n",
       "  1161.22,136.305 1163.11,136.573 1165,136.842 1166.89,137.111 1168.79,137.381 1170.68,137.652 1172.57,137.923 1174.46,138.196 1176.35,138.469 1178.24,138.742 \n",
       "  1180.13,139.016 1182.02,139.292 1183.92,139.567 1185.81,139.844 1187.7,140.121 1189.59,140.399 1191.48,140.678 1193.37,140.957 1195.26,141.237 1197.16,141.518 \n",
       "  1199.05,141.8 1200.94,142.082 1202.83,142.365 1204.72,142.649 1206.61,142.933 1208.5,143.219 1210.39,143.505 1212.29,143.792 1214.18,144.079 1216.07,144.368 \n",
       "  1217.96,144.657 1219.85,144.947 1221.74,145.237 1223.63,145.529 1225.53,145.821 1227.42,146.114 1229.31,146.407 1231.2,146.702 1233.09,146.997 1234.98,147.293 \n",
       "  1236.87,147.59 1238.76,147.888 1240.66,148.186 1242.55,148.485 1244.44,148.785 1246.33,149.086 1248.22,149.387 1250.11,149.69 1252,149.993 1253.9,150.297 \n",
       "  1255.79,150.602 1257.68,150.907 1259.57,151.214 1261.46,151.521 1263.35,151.829 1265.24,152.138 1267.13,152.447 1269.03,152.758 1270.92,153.069 1272.81,153.381 \n",
       "  1274.7,153.694 1276.59,154.008 1278.48,154.323 1280.37,154.638 1282.26,154.955 1284.16,155.272 1286.05,155.59 1287.94,155.909 1289.83,156.229 1291.72,156.549 \n",
       "  1293.61,156.871 1295.5,157.193 1297.4,157.516 1299.29,157.84 1301.18,158.165 1303.07,158.491 1304.96,158.818 1306.85,159.145 1308.74,159.474 1310.63,159.803 \n",
       "  1312.53,160.133 1314.42,160.465 1316.31,160.797 1318.2,161.13 1320.09,161.464 1321.98,161.798 1323.87,162.134 1325.77,162.471 1327.66,162.808 1329.55,163.147 \n",
       "  1331.44,163.486 1333.33,163.826 1335.22,164.167 1337.11,164.51 1339,164.853 1340.9,165.197 1342.79,165.542 1344.68,165.888 1346.57,166.235 1348.46,166.582 \n",
       "  1350.35,166.931 1352.24,167.281 1354.14,167.632 1356.03,167.983 1357.92,168.336 1359.81,168.69 1361.7,169.044 1363.59,169.4 1365.48,169.757 1367.37,170.114 \n",
       "  1369.27,170.473 1371.16,170.833 1373.05,171.193 1374.94,171.555 1376.83,171.917 1378.72,172.281 1380.61,172.646 1382.51,173.012 1384.4,173.378 1386.29,173.746 \n",
       "  1388.18,174.115 1390.07,174.485 1391.96,174.856 1393.85,175.228 1395.74,175.601 1397.64,175.975 1399.53,176.35 1401.42,176.726 1403.31,177.103 1405.2,177.482 \n",
       "  1407.09,177.861 1408.98,178.242 1410.88,178.623 1412.77,179.006 1414.66,179.39 1416.55,179.775 1418.44,180.161 1420.33,180.548 1422.22,180.936 1424.11,181.325 \n",
       "  1426.01,181.716 1427.9,182.107 1429.79,182.5 1431.68,182.894 1433.57,183.289 1435.46,183.685 1437.35,184.083 1439.25,184.481 1441.14,184.881 1443.03,185.282 \n",
       "  1444.92,185.684 1446.81,186.087 1448.7,186.491 1450.59,186.897 1452.48,187.304 1454.38,187.712 1456.27,188.121 1458.16,188.531 1460.05,188.943 1461.94,189.356 \n",
       "  1463.83,189.77 1465.72,190.185 1467.62,190.602 1469.51,191.02 1471.4,191.439 1473.29,191.859 1475.18,192.281 1477.07,192.704 1478.96,193.128 1480.85,193.553 \n",
       "  1482.75,193.98 1484.64,194.408 1486.53,194.837 1488.42,195.268 1490.31,195.7 1492.2,196.133 1494.09,196.568 1495.98,197.004 1497.88,197.441 1499.77,197.88 \n",
       "  1501.66,198.32 1503.55,198.761 1505.44,199.204 1507.33,199.648 1509.22,200.093 1511.12,200.54 1513.01,200.988 1514.9,201.438 1516.79,201.889 1518.68,202.341 \n",
       "  1520.57,202.795 1522.46,203.25 1524.35,203.707 1526.25,204.165 1528.14,204.625 1530.03,205.086 1531.92,205.548 1533.81,206.012 1535.7,206.478 1537.59,206.945 \n",
       "  1539.49,207.413 1541.38,207.883 1543.27,208.354 1545.16,208.827 1547.05,209.302 1548.94,209.778 1550.83,210.255 1552.72,210.735 1554.62,211.215 1556.51,211.697 \n",
       "  1558.4,212.181 1560.29,212.667 1562.18,213.154 1564.07,213.642 1565.96,214.132 1567.86,214.624 1569.75,215.118 1571.64,215.613 1573.53,216.109 1575.42,216.608 \n",
       "  1577.31,217.108 1579.2,217.609 1581.09,218.113 1582.99,218.618 1584.88,219.124 1586.77,219.633 1588.66,220.143 1590.55,220.655 1592.44,221.168 1594.33,221.684 \n",
       "  1596.23,222.201 1598.12,222.72 1600.01,223.24 1601.9,223.763 1603.79,224.287 1605.68,224.813 1607.57,225.341 1609.46,225.87 1611.36,226.402 1613.25,226.935 \n",
       "  1615.14,227.471 1617.03,228.008 1618.92,228.547 1620.81,229.087 1622.7,229.63 1624.6,230.175 1626.49,230.721 1628.38,231.27 1630.27,231.82 1632.16,232.373 \n",
       "  1634.05,232.927 1635.94,233.483 1637.83,234.042 1639.73,234.602 1641.62,235.164 1643.51,235.729 1645.4,236.295 1647.29,236.864 1649.18,237.434 1651.07,238.007 \n",
       "  1652.97,238.582 1654.86,239.159 1656.75,239.738 1658.64,240.319 1660.53,240.902 1662.42,241.487 1664.31,242.075 1666.2,242.665 1668.1,243.257 1669.99,243.851 \n",
       "  1671.88,244.447 1673.77,245.046 1675.66,245.647 1677.55,246.25 1679.44,246.856 1681.33,247.464 1683.23,248.074 1685.12,248.686 1687.01,249.301 1688.9,249.918 \n",
       "  1690.79,250.538 1692.68,251.16 1694.57,251.784 1696.47,252.411 1698.36,253.04 1700.25,253.672 1702.14,254.306 1704.03,254.942 1705.92,255.582 1707.81,256.223 \n",
       "  1709.7,256.868 1711.6,257.514 1713.49,258.164 1715.38,258.816 1717.27,259.47 1719.16,260.128 1721.05,260.788 1722.94,261.45 1724.84,262.115 1726.73,262.783 \n",
       "  1728.62,263.454 1730.51,264.128 1732.4,264.804 1734.29,265.483 1736.18,266.165 1738.07,266.85 1739.97,267.537 1741.86,268.228 1743.75,268.921 1745.64,269.617 \n",
       "  1747.53,270.316 1749.42,271.018 1751.31,271.724 1753.21,272.432 1755.1,273.143 1756.99,273.857 1758.88,274.574 1760.77,275.295 1762.66,276.018 1764.55,276.745 \n",
       "  1766.44,277.475 1768.34,278.208 1770.23,278.944 1772.12,279.683 1774.01,280.426 1775.9,281.172 1777.79,281.921 1779.68,282.674 1781.58,283.43 1783.47,284.19 \n",
       "  1785.36,284.953 1787.25,285.719 1789.14,286.489 1791.03,287.262 1792.92,288.039 1794.81,288.82 1796.71,289.604 1798.6,290.392 1800.49,291.183 1802.38,291.978 \n",
       "  1804.27,292.777 1806.16,293.579 1808.05,294.386 1809.95,295.196 1811.84,296.01 1813.73,296.828 1815.62,297.65 1817.51,298.475 1819.4,299.305 1821.29,300.139 \n",
       "  1823.18,300.977 1825.08,301.819 1826.97,302.665 1828.86,303.515 1830.75,304.369 1832.64,305.228 1834.53,306.091 1836.42,306.958 1838.32,307.83 1840.21,308.706 \n",
       "  1842.1,309.586 1843.99,310.471 1845.88,311.36 1847.77,312.254 1849.66,313.153 1851.55,314.056 1853.45,314.964 1855.34,315.877 1857.23,316.794 1859.12,317.716 \n",
       "  1861.01,318.643 1862.9,319.575 1864.79,320.512 1866.68,321.454 1868.58,322.401 1870.47,323.354 1872.36,324.311 1874.25,325.273 1876.14,326.241 1878.03,327.214 \n",
       "  1879.92,328.193 1881.82,329.177 1883.71,330.166 1885.6,331.161 1887.49,332.162 1889.38,333.168 1891.27,334.18 1893.16,335.197 1895.05,336.221 1896.95,337.25 \n",
       "  1898.84,338.286 1900.73,339.327 1902.62,340.374 1904.51,341.428 1906.4,342.488 1908.29,343.554 1910.19,344.626 1912.08,345.705 1913.97,346.791 1915.86,347.883 \n",
       "  1917.75,348.981 1919.64,350.086 1921.53,351.198 1923.42,352.317 1925.32,353.443 1927.21,354.576 1929.1,355.716 1930.99,356.863 1932.88,358.018 1934.77,359.18 \n",
       "  1936.66,360.349 1938.56,361.526 1940.45,362.71 1942.34,363.902 1944.23,365.102 1946.12,366.31 1948.01,367.526 1949.9,368.75 1951.79,369.982 1953.69,371.223 \n",
       "  1955.58,372.472 1957.47,373.729 1959.36,374.995 1961.25,376.27 1963.14,377.554 1965.03,378.846 1966.93,380.148 1968.82,381.459 1970.71,382.779 1972.6,384.109 \n",
       "  1974.49,385.448 1976.38,386.797 1978.27,388.156 1980.16,389.524 1982.06,390.903 1983.95,392.292 1985.84,393.692 1987.73,395.102 1989.62,396.523 1991.51,397.954 \n",
       "  1993.4,399.397 1995.3,400.851 1997.19,402.316 1999.08,403.792 2000.97,405.28 2002.86,406.78 2004.75,408.292 2006.64,409.816 2008.53,411.353 2010.43,412.902 \n",
       "  2012.32,414.464 2014.21,416.039 2016.1,417.627 2017.99,419.228 2019.88,420.843 2021.77,422.472 2023.67,424.115 2025.56,425.772 2027.45,427.443 2029.34,429.129 \n",
       "  2031.23,430.83 2033.12,432.547 2035.01,434.279 2036.9,436.026 2038.8,437.79 2040.69,439.57 2042.58,441.367 2044.47,443.18 2046.36,445.011 2048.25,446.859 \n",
       "  2050.14,448.725 2052.03,450.609 2053.93,452.511 2055.82,454.433 2057.71,456.373 2059.6,458.333 2061.49,460.313 2063.38,462.314 2065.27,464.335 2067.17,466.377 \n",
       "  2069.06,468.441 2070.95,470.526 2072.84,472.634 2074.73,474.765 2076.62,476.92 2078.51,479.098 2080.4,481.301 2082.3,483.528 2084.19,485.781 2086.08,488.06 \n",
       "  2087.97,490.366 2089.86,492.699 2091.75,495.059 2093.64,497.448 2095.54,499.866 2097.43,502.314 2099.32,504.792 2101.21,507.302 2103.1,509.843 2104.99,512.418 \n",
       "  2106.88,515.025 2108.77,517.668 2110.67,520.345 2112.56,523.059 2114.45,525.81 2116.34,528.6 2118.23,531.428 2120.12,534.297 2122.01,537.207 2123.91,540.16 \n",
       "  2125.8,543.156 2127.69,546.197 2129.58,549.285 2131.47,552.421 2133.36,555.606 2135.25,558.841 2137.14,562.129 2139.04,565.47 2140.93,568.868 2142.82,572.322 \n",
       "  2144.71,575.836 2146.6,579.412 2148.49,583.051 2150.38,586.756 2152.28,590.528 2154.17,594.371 2156.06,598.288 2157.95,602.28 2159.84,606.35 2161.73,610.503 \n",
       "  2163.62,614.741 2165.51,619.067 2167.41,623.485 2169.3,627.999 2171.19,632.613 2173.08,637.332 2174.97,642.161 2176.86,647.103 2178.75,652.165 2180.65,657.353 \n",
       "  2182.54,662.673 2184.43,668.131 2186.32,673.734 2188.21,679.491 2190.1,685.409 2191.99,691.499 2193.88,697.769 2195.78,704.231 2197.67,710.897 2199.56,717.779 \n",
       "  2201.45,724.891 2203.34,732.25 2205.23,739.873 2207.12,747.778 2209.02,755.987 2210.91,764.524 2212.8,773.417 2214.69,782.694 2216.58,792.391 2218.47,802.546 \n",
       "  2220.36,813.204 2222.25,824.417 2224.15,836.245 2226.04,848.758 2227.93,862.04 2229.82,876.189 2231.71,891.326 2233.6,907.597 2235.49,925.184 2237.38,944.316 \n",
       "  2239.28,965.289 2241.17,988.49 2243.06,1014.45 2244.95,1043.89 2246.84,1077.91 2248.73,1118.18 2250.62,1167.5 2252.52,1231.14 2254.41,1320.9 2256.3,1474.46 \n",
       "  \n",
       "  \"/>\n",
       "<circle clip-path=\"url(#clip382)\" cx=\"366.863\" cy=\"70.0436\" r=\"14.4\" fill=\"#ff0000\" fill-rule=\"evenodd\" fill-opacity=\"1\" stroke=\"#000000\" stroke-opacity=\"1\" stroke-width=\"3.2\"/>\n",
       "<polyline clip-path=\"url(#clip382)\" style=\"stroke:#0000ff; stroke-linecap:round; stroke-linejoin:round; stroke-width:4; stroke-opacity:1; fill:none\" stroke-dasharray=\"16, 10\" points=\"\n",
       "  366.863,1423.18 366.863,79.2073 \n",
       "  \"/>\n",
       "<polyline clip-path=\"url(#clip382)\" style=\"stroke:#0000ff; stroke-linecap:round; stroke-linejoin:round; stroke-width:4; stroke-opacity:1; fill:none\" stroke-dasharray=\"16, 10\" points=\"\n",
       "  272.297,79.2073 366.863,79.2073 \n",
       "  \"/>\n",
       "<polyline clip-path=\"url(#clip382)\" style=\"stroke:#ff0000; stroke-linecap:round; stroke-linejoin:round; stroke-width:4; stroke-opacity:1; fill:none\" stroke-dasharray=\"16, 10\" points=\"\n",
       "  366.863,1423.18 366.863,70.0436 \n",
       "  \"/>\n",
       "<polyline clip-path=\"url(#clip382)\" style=\"stroke:#ff0000; stroke-linecap:round; stroke-linejoin:round; stroke-width:4; stroke-opacity:1; fill:none\" stroke-dasharray=\"16, 10\" points=\"\n",
       "  272.297,70.0436 366.863,70.0436 \n",
       "  \"/>\n",
       "<path clip-path=\"url(#clip380)\" d=\"\n",
       "M341.645 1377.32 L807.19 1377.32 L807.19 1118.12 L341.645 1118.12  Z\n",
       "  \" fill=\"#ffffff\" fill-rule=\"evenodd\" fill-opacity=\"1\"/>\n",
       "<polyline clip-path=\"url(#clip380)\" style=\"stroke:#000000; stroke-linecap:round; stroke-linejoin:round; stroke-width:4; stroke-opacity:1; fill:none\" points=\"\n",
       "  341.645,1377.32 807.19,1377.32 807.19,1118.12 341.645,1118.12 341.645,1377.32 \n",
       "  \"/>\n",
       "<polyline clip-path=\"url(#clip380)\" style=\"stroke:#0000ff; stroke-linecap:round; stroke-linejoin:round; stroke-width:4; stroke-opacity:1; fill:none\" points=\"\n",
       "  364.761,1169.96 503.459,1169.96 \n",
       "  \"/>\n",
       "<path clip-path=\"url(#clip380)\" d=\"M526.575 1152.68 L532.871 1152.68 L548.195 1181.59 L548.195 1152.68 L552.732 1152.68 L552.732 1187.24 L546.436 1187.24 L531.112 1158.32 L531.112 1187.24 L526.575 1187.24 L526.575 1152.68 Z\" fill=\"#000000\" fill-rule=\"evenodd\" fill-opacity=\"1\" /><path clip-path=\"url(#clip380)\" d=\"M561.413 1177 L561.413 1161.31 L565.672 1161.31 L565.672 1176.84 Q565.672 1180.52 567.107 1182.37 Q568.542 1184.2 571.413 1184.2 Q574.862 1184.2 576.852 1182 Q578.866 1179.8 578.866 1176.01 L578.866 1161.31 L583.126 1161.31 L583.126 1187.24 L578.866 1187.24 L578.866 1183.25 Q577.315 1185.61 575.255 1186.77 Q573.218 1187.91 570.51 1187.91 Q566.042 1187.91 563.727 1185.13 Q561.413 1182.35 561.413 1177 M572.13 1160.68 L572.13 1160.68 Z\" fill=\"#000000\" fill-rule=\"evenodd\" fill-opacity=\"1\" /><path clip-path=\"url(#clip380)\" d=\"M591.899 1151.22 L596.158 1151.22 L596.158 1187.24 L591.899 1187.24 L591.899 1151.22 Z\" fill=\"#000000\" fill-rule=\"evenodd\" fill-opacity=\"1\" /><path clip-path=\"url(#clip380)\" d=\"M605.07 1151.22 L609.329 1151.22 L609.329 1187.24 L605.07 1187.24 L605.07 1151.22 Z\" fill=\"#000000\" fill-rule=\"evenodd\" fill-opacity=\"1\" /><circle clip-path=\"url(#clip380)\" cx=\"434.11\" cy=\"1221.8\" r=\"23.04\" fill=\"#0000ff\" fill-rule=\"evenodd\" fill-opacity=\"1\" stroke=\"#000000\" stroke-opacity=\"1\" stroke-width=\"5.12\"/>\n",
       "<path clip-path=\"url(#clip380)\" d=\"M546.922 1218.13 Q548.519 1215.26 550.741 1213.89 Q552.964 1212.52 555.973 1212.52 Q560.024 1212.52 562.223 1215.37 Q564.422 1218.2 564.422 1223.43 L564.422 1239.08 L560.14 1239.08 L560.14 1223.57 Q560.14 1219.84 558.82 1218.03 Q557.501 1216.23 554.792 1216.23 Q551.482 1216.23 549.561 1218.43 Q547.64 1220.63 547.64 1224.42 L547.64 1239.08 L543.357 1239.08 L543.357 1223.57 Q543.357 1219.82 542.038 1218.03 Q540.718 1216.23 537.964 1216.23 Q534.7 1216.23 532.779 1218.45 Q530.857 1220.65 530.857 1224.42 L530.857 1239.08 L526.575 1239.08 L526.575 1213.15 L530.857 1213.15 L530.857 1217.18 Q532.316 1214.79 534.353 1213.66 Q536.39 1212.52 539.191 1212.52 Q542.015 1212.52 543.982 1213.96 Q545.973 1215.39 546.922 1218.13 Z\" fill=\"#000000\" fill-rule=\"evenodd\" fill-opacity=\"1\" /><path clip-path=\"url(#clip380)\" d=\"M584.7 1226.04 Q579.538 1226.04 577.547 1227.22 Q575.556 1228.4 575.556 1231.25 Q575.556 1233.52 577.038 1234.86 Q578.542 1236.18 581.112 1236.18 Q584.653 1236.18 586.783 1233.68 Q588.936 1231.16 588.936 1226.99 L588.936 1226.04 L584.7 1226.04 M593.195 1224.28 L593.195 1239.08 L588.936 1239.08 L588.936 1235.14 Q587.477 1237.5 585.301 1238.64 Q583.126 1239.75 579.977 1239.75 Q575.996 1239.75 573.635 1237.52 Q571.297 1235.28 571.297 1231.53 Q571.297 1227.15 574.214 1224.93 Q577.153 1222.71 582.963 1222.71 L588.936 1222.71 L588.936 1222.29 Q588.936 1219.35 586.991 1217.76 Q585.07 1216.14 581.575 1216.14 Q579.352 1216.14 577.246 1216.67 Q575.139 1217.2 573.195 1218.27 L573.195 1214.33 Q575.533 1213.43 577.732 1212.99 Q579.931 1212.52 582.014 1212.52 Q587.639 1212.52 590.417 1215.44 Q593.195 1218.36 593.195 1224.28 Z\" fill=\"#000000\" fill-rule=\"evenodd\" fill-opacity=\"1\" /><path clip-path=\"url(#clip380)\" d=\"M623.519 1213.15 L614.144 1225.77 L624.005 1239.08 L618.982 1239.08 L611.436 1228.89 L603.889 1239.08 L598.866 1239.08 L608.936 1225.51 L599.723 1213.15 L604.746 1213.15 L611.621 1222.39 L618.496 1213.15 L623.519 1213.15 Z\" fill=\"#000000\" fill-rule=\"evenodd\" fill-opacity=\"1\" /><path clip-path=\"url(#clip380)\" d=\"M630.209 1204.52 L634.885 1204.52 L634.885 1235.14 L651.713 1235.14 L651.713 1239.08 L630.209 1239.08 L630.209 1204.52 Z\" fill=\"#000000\" fill-rule=\"evenodd\" fill-opacity=\"1\" /><path clip-path=\"url(#clip380)\" d=\"M656.621 1204.52 L661.296 1204.52 L661.296 1235.14 L678.125 1235.14 L678.125 1239.08 L656.621 1239.08 L656.621 1204.52 Z\" fill=\"#000000\" fill-rule=\"evenodd\" fill-opacity=\"1\" /><path clip-path=\"url(#clip380)\" d=\"M702.546 1246.95 L702.546 1250.26 L677.917 1250.26 L677.917 1246.95 L702.546 1246.95 Z\" fill=\"#000000\" fill-rule=\"evenodd\" fill-opacity=\"1\" /><path clip-path=\"url(#clip380)\" d=\"M728.102 1223.43 L728.102 1239.08 L723.842 1239.08 L723.842 1223.57 Q723.842 1219.89 722.407 1218.06 Q720.972 1216.23 718.102 1216.23 Q714.653 1216.23 712.662 1218.43 Q710.671 1220.63 710.671 1224.42 L710.671 1239.08 L706.389 1239.08 L706.389 1213.15 L710.671 1213.15 L710.671 1217.18 Q712.199 1214.84 714.259 1213.68 Q716.342 1212.52 719.051 1212.52 Q723.518 1212.52 725.81 1215.3 Q728.102 1218.06 728.102 1223.43 Z\" fill=\"#000000\" fill-rule=\"evenodd\" fill-opacity=\"1\" /><path clip-path=\"url(#clip380)\" d=\"M736.157 1228.84 L736.157 1213.15 L740.416 1213.15 L740.416 1228.68 Q740.416 1232.36 741.852 1234.21 Q743.287 1236.04 746.157 1236.04 Q749.606 1236.04 751.597 1233.84 Q753.611 1231.64 753.611 1227.85 L753.611 1213.15 L757.87 1213.15 L757.87 1239.08 L753.611 1239.08 L753.611 1235.09 Q752.06 1237.45 750 1238.61 Q747.963 1239.75 745.254 1239.75 Q740.787 1239.75 738.472 1236.97 Q736.157 1234.19 736.157 1228.84 M746.875 1212.52 L746.875 1212.52 Z\" fill=\"#000000\" fill-rule=\"evenodd\" fill-opacity=\"1\" /><path clip-path=\"url(#clip380)\" d=\"M766.643 1203.06 L770.902 1203.06 L770.902 1239.08 L766.643 1239.08 L766.643 1203.06 Z\" fill=\"#000000\" fill-rule=\"evenodd\" fill-opacity=\"1\" /><path clip-path=\"url(#clip380)\" d=\"M779.814 1203.06 L784.074 1203.06 L784.074 1239.08 L779.814 1239.08 L779.814 1203.06 Z\" fill=\"#000000\" fill-rule=\"evenodd\" fill-opacity=\"1\" /><polyline clip-path=\"url(#clip380)\" style=\"stroke:#ff0000; stroke-linecap:round; stroke-linejoin:round; stroke-width:4; stroke-opacity:1; fill:none\" points=\"\n",
       "  364.761,1273.64 503.459,1273.64 \n",
       "  \"/>\n",
       "<path clip-path=\"url(#clip380)\" d=\"M542.408 1260.96 L536.066 1278.16 L548.774 1278.16 L542.408 1260.96 M539.769 1256.36 L545.07 1256.36 L558.241 1290.92 L553.38 1290.92 L550.232 1282.05 L534.654 1282.05 L531.505 1290.92 L526.575 1290.92 L539.769 1256.36 Z\" fill=\"#000000\" fill-rule=\"evenodd\" fill-opacity=\"1\" /><path clip-path=\"url(#clip380)\" d=\"M563.102 1254.9 L567.362 1254.9 L567.362 1290.92 L563.102 1290.92 L563.102 1254.9 Z\" fill=\"#000000\" fill-rule=\"evenodd\" fill-opacity=\"1\" /><path clip-path=\"url(#clip380)\" d=\"M580.487 1257.63 L580.487 1264.99 L589.26 1264.99 L589.26 1268.3 L580.487 1268.3 L580.487 1282.37 Q580.487 1285.54 581.343 1286.45 Q582.223 1287.35 584.885 1287.35 L589.26 1287.35 L589.26 1290.92 L584.885 1290.92 Q579.954 1290.92 578.079 1289.09 Q576.204 1287.23 576.204 1282.37 L576.204 1268.3 L573.079 1268.3 L573.079 1264.99 L576.204 1264.99 L576.204 1257.63 L580.487 1257.63 Z\" fill=\"#000000\" fill-rule=\"evenodd\" fill-opacity=\"1\" /><path clip-path=\"url(#clip380)\" d=\"M614.561 1298.79 L614.561 1302.1 L589.931 1302.1 L589.931 1298.79 L614.561 1298.79 Z\" fill=\"#000000\" fill-rule=\"evenodd\" fill-opacity=\"1\" /><path clip-path=\"url(#clip380)\" d=\"M633.334 1272.28 Q636.69 1273 638.565 1275.27 Q640.463 1277.54 640.463 1280.87 Q640.463 1285.98 636.945 1288.79 Q633.426 1291.59 626.945 1291.59 Q624.769 1291.59 622.454 1291.15 Q620.162 1290.73 617.709 1289.87 L617.709 1285.36 Q619.653 1286.49 621.968 1287.07 Q624.283 1287.65 626.806 1287.65 Q631.204 1287.65 633.496 1285.92 Q635.81 1284.18 635.81 1280.87 Q635.81 1277.81 633.658 1276.1 Q631.528 1274.36 627.709 1274.36 L623.681 1274.36 L623.681 1270.52 L627.894 1270.52 Q631.343 1270.52 633.172 1269.16 Q635 1267.77 635 1265.17 Q635 1262.51 633.102 1261.1 Q631.227 1259.67 627.709 1259.67 Q625.787 1259.67 623.588 1260.08 Q621.389 1260.5 618.75 1261.38 L618.75 1257.21 Q621.412 1256.47 623.727 1256.1 Q626.065 1255.73 628.125 1255.73 Q633.449 1255.73 636.551 1258.16 Q639.653 1260.57 639.653 1264.69 Q639.653 1267.56 638.009 1269.55 Q636.366 1271.52 633.334 1272.28 Z\" fill=\"#000000\" fill-rule=\"evenodd\" fill-opacity=\"1\" /><circle clip-path=\"url(#clip380)\" cx=\"434.11\" cy=\"1325.48\" r=\"23.04\" fill=\"#ff0000\" fill-rule=\"evenodd\" fill-opacity=\"1\" stroke=\"#000000\" stroke-opacity=\"1\" stroke-width=\"5.12\"/>\n",
       "<path clip-path=\"url(#clip380)\" d=\"M546.922 1321.81 Q548.519 1318.94 550.741 1317.57 Q552.964 1316.2 555.973 1316.2 Q560.024 1316.2 562.223 1319.05 Q564.422 1321.88 564.422 1327.11 L564.422 1342.76 L560.14 1342.76 L560.14 1327.25 Q560.14 1323.52 558.82 1321.71 Q557.501 1319.91 554.792 1319.91 Q551.482 1319.91 549.561 1322.11 Q547.64 1324.31 547.64 1328.1 L547.64 1342.76 L543.357 1342.76 L543.357 1327.25 Q543.357 1323.5 542.038 1321.71 Q540.718 1319.91 537.964 1319.91 Q534.7 1319.91 532.779 1322.13 Q530.857 1324.33 530.857 1328.1 L530.857 1342.76 L526.575 1342.76 L526.575 1316.83 L530.857 1316.83 L530.857 1320.86 Q532.316 1318.47 534.353 1317.34 Q536.39 1316.2 539.191 1316.2 Q542.015 1316.2 543.982 1317.64 Q545.973 1319.07 546.922 1321.81 Z\" fill=\"#000000\" fill-rule=\"evenodd\" fill-opacity=\"1\" /><path clip-path=\"url(#clip380)\" d=\"M584.7 1329.72 Q579.538 1329.72 577.547 1330.9 Q575.556 1332.08 575.556 1334.93 Q575.556 1337.2 577.038 1338.54 Q578.542 1339.86 581.112 1339.86 Q584.653 1339.86 586.783 1337.36 Q588.936 1334.84 588.936 1330.67 L588.936 1329.72 L584.7 1329.72 M593.195 1327.96 L593.195 1342.76 L588.936 1342.76 L588.936 1338.82 Q587.477 1341.18 585.301 1342.32 Q583.126 1343.43 579.977 1343.43 Q575.996 1343.43 573.635 1341.2 Q571.297 1338.96 571.297 1335.21 Q571.297 1330.83 574.214 1328.61 Q577.153 1326.39 582.963 1326.39 L588.936 1326.39 L588.936 1325.97 Q588.936 1323.03 586.991 1321.44 Q585.07 1319.82 581.575 1319.82 Q579.352 1319.82 577.246 1320.35 Q575.139 1320.88 573.195 1321.95 L573.195 1318.01 Q575.533 1317.11 577.732 1316.67 Q579.931 1316.2 582.014 1316.2 Q587.639 1316.2 590.417 1319.12 Q593.195 1322.04 593.195 1327.96 Z\" fill=\"#000000\" fill-rule=\"evenodd\" fill-opacity=\"1\" /><path clip-path=\"url(#clip380)\" d=\"M623.519 1316.83 L614.144 1329.45 L624.005 1342.76 L618.982 1342.76 L611.436 1332.57 L603.889 1342.76 L598.866 1342.76 L608.936 1329.19 L599.723 1316.83 L604.746 1316.83 L611.621 1326.07 L618.496 1316.83 L623.519 1316.83 Z\" fill=\"#000000\" fill-rule=\"evenodd\" fill-opacity=\"1\" /><path clip-path=\"url(#clip380)\" d=\"M630.209 1308.2 L634.885 1308.2 L634.885 1338.82 L651.713 1338.82 L651.713 1342.76 L630.209 1342.76 L630.209 1308.2 Z\" fill=\"#000000\" fill-rule=\"evenodd\" fill-opacity=\"1\" /><path clip-path=\"url(#clip380)\" d=\"M656.621 1308.2 L661.296 1308.2 L661.296 1338.82 L678.125 1338.82 L678.125 1342.76 L656.621 1342.76 L656.621 1308.2 Z\" fill=\"#000000\" fill-rule=\"evenodd\" fill-opacity=\"1\" /><path clip-path=\"url(#clip380)\" d=\"M702.546 1350.63 L702.546 1353.94 L677.917 1353.94 L677.917 1350.63 L702.546 1350.63 Z\" fill=\"#000000\" fill-rule=\"evenodd\" fill-opacity=\"1\" /><path clip-path=\"url(#clip380)\" d=\"M718.333 1329.72 Q713.171 1329.72 711.18 1330.9 Q709.19 1332.08 709.19 1334.93 Q709.19 1337.2 710.671 1338.54 Q712.176 1339.86 714.745 1339.86 Q718.287 1339.86 720.416 1337.36 Q722.569 1334.84 722.569 1330.67 L722.569 1329.72 L718.333 1329.72 M726.828 1327.96 L726.828 1342.76 L722.569 1342.76 L722.569 1338.82 Q721.111 1341.18 718.935 1342.32 Q716.759 1343.43 713.611 1343.43 Q709.629 1343.43 707.268 1341.2 Q704.93 1338.96 704.93 1335.21 Q704.93 1330.83 707.847 1328.61 Q710.787 1326.39 716.597 1326.39 L722.569 1326.39 L722.569 1325.97 Q722.569 1323.03 720.625 1321.44 Q718.704 1319.82 715.208 1319.82 Q712.986 1319.82 710.879 1320.35 Q708.773 1320.88 706.829 1321.95 L706.829 1318.01 Q709.167 1317.11 711.366 1316.67 Q713.565 1316.2 715.648 1316.2 Q721.273 1316.2 724.051 1319.12 Q726.828 1322.04 726.828 1327.96 Z\" fill=\"#000000\" fill-rule=\"evenodd\" fill-opacity=\"1\" /><path clip-path=\"url(#clip380)\" d=\"M735.602 1306.74 L739.861 1306.74 L739.861 1342.76 L735.602 1342.76 L735.602 1306.74 Z\" fill=\"#000000\" fill-rule=\"evenodd\" fill-opacity=\"1\" /><path clip-path=\"url(#clip380)\" d=\"M752.986 1309.47 L752.986 1316.83 L761.759 1316.83 L761.759 1320.14 L752.986 1320.14 L752.986 1334.21 Q752.986 1337.38 753.842 1338.29 Q754.722 1339.19 757.384 1339.19 L761.759 1339.19 L761.759 1342.76 L757.384 1342.76 Q752.453 1342.76 750.578 1340.93 Q748.703 1339.07 748.703 1334.21 L748.703 1320.14 L745.578 1320.14 L745.578 1316.83 L748.703 1316.83 L748.703 1309.47 L752.986 1309.47 Z\" fill=\"#000000\" fill-rule=\"evenodd\" fill-opacity=\"1\" /><path clip-path=\"url(#clip380)\" d=\"M344.247 1408.98 Q340.636 1408.98 338.807 1412.54 Q337.002 1416.08 337.002 1423.21 Q337.002 1430.32 338.807 1433.89 Q340.636 1437.43 344.247 1437.43 Q347.881 1437.43 349.687 1433.89 Q351.516 1430.32 351.516 1423.21 Q351.516 1416.08 349.687 1412.54 Q347.881 1408.98 344.247 1408.98 M344.247 1405.27 Q350.057 1405.27 353.113 1409.88 Q356.192 1414.46 356.192 1423.21 Q356.192 1431.94 353.113 1436.55 Q350.057 1441.13 344.247 1441.13 Q338.437 1441.13 335.358 1436.55 Q332.303 1431.94 332.303 1423.21 Q332.303 1414.46 335.358 1409.88 Q338.437 1405.27 344.247 1405.27 Z\" fill=\"#0000ff\" fill-rule=\"evenodd\" fill-opacity=\"1\" /><path clip-path=\"url(#clip380)\" d=\"M364.409 1434.58 L369.293 1434.58 L369.293 1440.46 L364.409 1440.46 L364.409 1434.58 Z\" fill=\"#0000ff\" fill-rule=\"evenodd\" fill-opacity=\"1\" /><path clip-path=\"url(#clip380)\" d=\"M389.478 1408.98 Q385.867 1408.98 384.039 1412.54 Q382.233 1416.08 382.233 1423.21 Q382.233 1430.32 384.039 1433.89 Q385.867 1437.43 389.478 1437.43 Q393.113 1437.43 394.918 1433.89 Q396.747 1430.32 396.747 1423.21 Q396.747 1416.08 394.918 1412.54 Q393.113 1408.98 389.478 1408.98 M389.478 1405.27 Q395.289 1405.27 398.344 1409.88 Q401.423 1414.46 401.423 1423.21 Q401.423 1431.94 398.344 1436.55 Q395.289 1441.13 389.478 1441.13 Q383.668 1441.13 380.59 1436.55 Q377.534 1431.94 377.534 1423.21 Q377.534 1414.46 380.59 1409.88 Q383.668 1405.27 389.478 1405.27 Z\" fill=\"#0000ff\" fill-rule=\"evenodd\" fill-opacity=\"1\" /><path clip-path=\"url(#clip380)\" d=\"M344.247 1408.98 Q340.636 1408.98 338.807 1412.54 Q337.002 1416.08 337.002 1423.21 Q337.002 1430.32 338.807 1433.89 Q340.636 1437.43 344.247 1437.43 Q347.881 1437.43 349.687 1433.89 Q351.516 1430.32 351.516 1423.21 Q351.516 1416.08 349.687 1412.54 Q347.881 1408.98 344.247 1408.98 M344.247 1405.27 Q350.057 1405.27 353.113 1409.88 Q356.192 1414.46 356.192 1423.21 Q356.192 1431.94 353.113 1436.55 Q350.057 1441.13 344.247 1441.13 Q338.437 1441.13 335.358 1436.55 Q332.303 1431.94 332.303 1423.21 Q332.303 1414.46 335.358 1409.88 Q338.437 1405.27 344.247 1405.27 Z\" fill=\"#ff0000\" fill-rule=\"evenodd\" fill-opacity=\"1\" /><path clip-path=\"url(#clip380)\" d=\"M364.409 1434.58 L369.293 1434.58 L369.293 1440.46 L364.409 1440.46 L364.409 1434.58 Z\" fill=\"#ff0000\" fill-rule=\"evenodd\" fill-opacity=\"1\" /><path clip-path=\"url(#clip380)\" d=\"M389.478 1408.98 Q385.867 1408.98 384.039 1412.54 Q382.233 1416.08 382.233 1423.21 Q382.233 1430.32 384.039 1433.89 Q385.867 1437.43 389.478 1437.43 Q393.113 1437.43 394.918 1433.89 Q396.747 1430.32 396.747 1423.21 Q396.747 1416.08 394.918 1412.54 Q393.113 1408.98 389.478 1408.98 M389.478 1405.27 Q395.289 1405.27 398.344 1409.88 Q401.423 1414.46 401.423 1423.21 Q401.423 1431.94 398.344 1436.55 Q395.289 1441.13 389.478 1441.13 Q383.668 1441.13 380.59 1436.55 Q377.534 1431.94 377.534 1423.21 Q377.534 1414.46 380.59 1409.88 Q383.668 1405.27 389.478 1405.27 Z\" fill=\"#ff0000\" fill-rule=\"evenodd\" fill-opacity=\"1\" /></svg>\n"
      ]
     },
     "metadata": {},
     "output_type": "display_data"
    },
    {
     "name": "stdout",
     "output_type": "stream",
     "text": [
      " 26.346688 seconds (71.55 M allocations: 4.054 GiB, 3.91% gc time, 98.69% compilation time)\n"
     ]
    }
   ],
   "source": [
    "@time scan_results_ind = scan(lpst_ind_y, geno_ind, kinship_ind_from_strains;\n",
    "                              prior_variance = prior[1], prior_sample_size = prior[2],\n",
    "                              plot_loglik = true, markerID = 3, h2_grid = collect(0.0:999).*0.001,\n",
    "                              x_lims = [0.0, 1.0], y_lims = [-275, -120.0]);"
   ]
  },
  {
   "cell_type": "code",
   "execution_count": 32,
   "id": "b2dcd33a-1d17-466f-98d5-2d13cba44825",
   "metadata": {},
   "outputs": [],
   "source": [
    "BLAS.set_num_threads(Threads.nthreads())"
   ]
  },
  {
   "cell_type": "code",
   "execution_count": 33,
   "id": "8e2671d3-bfc1-4541-b841-6a178b77a950",
   "metadata": {},
   "outputs": [
    {
     "data": {
      "text/plain": [
       "16"
      ]
     },
     "execution_count": 33,
     "metadata": {},
     "output_type": "execute_result"
    }
   ],
   "source": [
    "BLAS.get_num_threads()"
   ]
  },
  {
   "cell_type": "code",
   "execution_count": 34,
   "id": "b44968a6-e24e-46bc-99c1-c5f5a8599e96",
   "metadata": {},
   "outputs": [
    {
     "name": "stdout",
     "output_type": "stream",
     "text": [
      " 14.159934 seconds (11.82 M allocations: 14.368 GiB, 11.21% gc time, 0.25% compilation time)\n"
     ]
    }
   ],
   "source": [
    "@time scan_results_ind_alt = scan(lpst_ind_y, geno_ind, kinship_ind_from_strains;\n",
    "                                  assumption = \"alt\", \n",
    "                                  prior_variance = prior[1], prior_sample_size = prior[2]);"
   ]
  },
  {
   "cell_type": "code",
   "execution_count": 35,
   "id": "4eb97040-9b9d-4b6a-b8c1-b497f16cd24b",
   "metadata": {},
   "outputs": [
    {
     "name": "stdout",
     "output_type": "stream",
     "text": [
      "  1.010721 seconds (2.04 M allocations: 268.273 MiB, 2.44% gc time, 87.71% compilation time)\n"
     ]
    }
   ],
   "source": [
    "@time scan_perms_results_ind = scan(lpst_ind_y, geno_ind, kinship_ind_from_strains;\n",
    "                                    prior_variance = prior[1], prior_sample_size = prior[2],\n",
    "                                    permutation_test = true, nperms = 1000, original = true);"
   ]
  },
  {
   "cell_type": "code",
   "execution_count": 36,
   "id": "e4f465be-68de-4c22-bdf7-a06d4729a66f",
   "metadata": {},
   "outputs": [],
   "source": [
    "max_lods = vec(mapslices(x -> maximum(x), scan_perms_results_ind; dims = 1));"
   ]
  },
  {
   "cell_type": "code",
   "execution_count": 37,
   "id": "1a3a0594-dd3d-4f8d-b824-b88ec344a287",
   "metadata": {},
   "outputs": [],
   "source": [
    "thrs = map(x -> quantile(max_lods, x), [0.85, 0.95]);"
   ]
  },
  {
   "cell_type": "code",
   "execution_count": 38,
   "id": "4046cb16-e0ef-401f-b242-20442e5fba8e",
   "metadata": {},
   "outputs": [
    {
     "data": {
      "text/plain": [
       "29437"
      ]
     },
     "execution_count": 38,
     "metadata": {},
     "output_type": "execute_result"
    }
   ],
   "source": [
    "lp_id"
   ]
  },
  {
   "cell_type": "code",
   "execution_count": 39,
   "id": "9a166cc0-58ee-41ca-a84b-b22939bd5669",
   "metadata": {},
   "outputs": [
    {
     "data": {
      "text/plain": [
       "0.0"
      ]
     },
     "execution_count": 39,
     "metadata": {},
     "output_type": "execute_result"
    }
   ],
   "source": [
    "mean(scan_perms_results_ind[:, 1] .> 2.94)"
   ]
  },
  {
   "cell_type": "code",
   "execution_count": 40,
   "id": "a5b86474-94e4-4794-8184-dbbab2956548",
   "metadata": {},
   "outputs": [
    {
     "data": {
      "text/plain": [
       "2-element Vector{Float64}:\n",
       " 2.896638126422173\n",
       " 3.4268718725428533"
      ]
     },
     "execution_count": 40,
     "metadata": {},
     "output_type": "execute_result"
    }
   ],
   "source": [
    "thrs"
   ]
  },
  {
   "cell_type": "code",
   "execution_count": 41,
   "id": "703432c5-882d-4ec7-a9b9-818c1ed4b08e",
   "metadata": {},
   "outputs": [],
   "source": [
    "single_results_ind = DataFrame(hcat(scan_results_ind.lod, scan_results_ind_alt.lod, scan_perms_results_ind[:, 1]), [\"scan_null\", \"scan_alt\", \"scan_perms.original\"]);"
   ]
  },
  {
   "cell_type": "code",
   "execution_count": 42,
   "id": "1003eae2-dd56-42dd-9da9-5a218b38e37b",
   "metadata": {},
   "outputs": [
    {
     "data": {
      "text/html": [
       "<div><div style = \"float: left;\"><span>6×3 DataFrame</span></div><div style = \"clear: both;\"></div></div><div class = \"data-frame\" style = \"overflow-x: scroll;\"><table class = \"data-frame\" style = \"margin-bottom: 6px;\"><thead><tr class = \"header\"><th class = \"rowNumber\" style = \"font-weight: bold; text-align: right;\">Row</th><th style = \"text-align: left;\">scan_null</th><th style = \"text-align: left;\">scan_alt</th><th style = \"text-align: left;\">scan_perms.original</th></tr><tr class = \"subheader headerLastRow\"><th class = \"rowNumber\" style = \"font-weight: bold; text-align: right;\"></th><th title = \"Float64\" style = \"text-align: left;\">Float64</th><th title = \"Float64\" style = \"text-align: left;\">Float64</th><th title = \"Float64\" style = \"text-align: left;\">Float64</th></tr></thead><tbody><tr><td class = \"rowNumber\" style = \"font-weight: bold; text-align: right;\">1</td><td style = \"text-align: right;\">0.44861</td><td style = \"text-align: right;\">0.448609</td><td style = \"text-align: right;\">0.44861</td></tr><tr><td class = \"rowNumber\" style = \"font-weight: bold; text-align: right;\">2</td><td style = \"text-align: right;\">0.44861</td><td style = \"text-align: right;\">0.448609</td><td style = \"text-align: right;\">0.44861</td></tr><tr><td class = \"rowNumber\" style = \"font-weight: bold; text-align: right;\">3</td><td style = \"text-align: right;\">0.44861</td><td style = \"text-align: right;\">0.448609</td><td style = \"text-align: right;\">0.44861</td></tr><tr><td class = \"rowNumber\" style = \"font-weight: bold; text-align: right;\">4</td><td style = \"text-align: right;\">0.44861</td><td style = \"text-align: right;\">0.448609</td><td style = \"text-align: right;\">0.44861</td></tr><tr><td class = \"rowNumber\" style = \"font-weight: bold; text-align: right;\">5</td><td style = \"text-align: right;\">0.44861</td><td style = \"text-align: right;\">0.448609</td><td style = \"text-align: right;\">0.44861</td></tr><tr><td class = \"rowNumber\" style = \"font-weight: bold; text-align: right;\">6</td><td style = \"text-align: right;\">0.44861</td><td style = \"text-align: right;\">0.448609</td><td style = \"text-align: right;\">0.44861</td></tr></tbody></table></div>"
      ],
      "text/latex": [
       "\\begin{tabular}{r|ccc}\n",
       "\t& scan\\_null & scan\\_alt & scan\\_perms.original\\\\\n",
       "\t\\hline\n",
       "\t& Float64 & Float64 & Float64\\\\\n",
       "\t\\hline\n",
       "\t1 & 0.44861 & 0.448609 & 0.44861 \\\\\n",
       "\t2 & 0.44861 & 0.448609 & 0.44861 \\\\\n",
       "\t3 & 0.44861 & 0.448609 & 0.44861 \\\\\n",
       "\t4 & 0.44861 & 0.448609 & 0.44861 \\\\\n",
       "\t5 & 0.44861 & 0.448609 & 0.44861 \\\\\n",
       "\t6 & 0.44861 & 0.448609 & 0.44861 \\\\\n",
       "\\end{tabular}\n"
      ],
      "text/plain": [
       "\u001b[1m6×3 DataFrame\u001b[0m\n",
       "\u001b[1m Row \u001b[0m│\u001b[1m scan_null \u001b[0m\u001b[1m scan_alt \u001b[0m\u001b[1m scan_perms.original \u001b[0m\n",
       "     │\u001b[90m Float64   \u001b[0m\u001b[90m Float64  \u001b[0m\u001b[90m Float64             \u001b[0m\n",
       "─────┼──────────────────────────────────────────\n",
       "   1 │   0.44861  0.448609              0.44861\n",
       "   2 │   0.44861  0.448609              0.44861\n",
       "   3 │   0.44861  0.448609              0.44861\n",
       "   4 │   0.44861  0.448609              0.44861\n",
       "   5 │   0.44861  0.448609              0.44861\n",
       "   6 │   0.44861  0.448609              0.44861"
      ]
     },
     "execution_count": 42,
     "metadata": {},
     "output_type": "execute_result"
    }
   ],
   "source": [
    "single_results_ind[1:6, :]"
   ]
  },
  {
   "cell_type": "markdown",
   "id": "02074d3d-dfce-4b1d-a559-e03508615ca3",
   "metadata": {},
   "source": [
    "#### For liver proteome means by strains"
   ]
  },
  {
   "cell_type": "code",
   "execution_count": 43,
   "id": "4b51bafb-a1de-41c5-9f0d-b708b4972cdb",
   "metadata": {},
   "outputs": [],
   "source": [
    "lp_strains_Y = Matrix{Float64}(BXD_pheno_strains_summary_df[:, 3:end]);\n",
    "lp_strains_y = reshape(lp_strains_Y[:, lp_id], :, 1);"
   ]
  },
  {
   "cell_type": "code",
   "execution_count": 44,
   "id": "3fb63f6a-afd6-470f-aceb-cea72c5cba2b",
   "metadata": {},
   "outputs": [],
   "source": [
    "lpst_strains_Y = colStandardize(lp_strains_Y);\n",
    "lpst_strains_y = reshape(lpst_strains_Y[:, lp_id], :, 1);"
   ]
  },
  {
   "cell_type": "code",
   "execution_count": 45,
   "id": "8d181cef-df57-4e17-b4bc-f7c6a8a41d2f",
   "metadata": {},
   "outputs": [
    {
     "name": "stdout",
     "output_type": "stream",
     "text": [
      "  0.088418 seconds (206.24 k allocations: 40.237 MiB, 36.48% compilation time)\n"
     ]
    }
   ],
   "source": [
    "@time scan_results_strains = scan(lpst_strains_y, geno_strains, kinship_strains; \n",
    "                                  prior_variance = prior[1], prior_sample_size = prior[2],\n",
    "                                  optim_interval = 4);"
   ]
  },
  {
   "cell_type": "code",
   "execution_count": 46,
   "id": "558a9947-1e61-402e-90da-5a8c1cae15c7",
   "metadata": {},
   "outputs": [
    {
     "name": "stdout",
     "output_type": "stream",
     "text": [
      "  1.632704 seconds (4.08 M allocations: 1.233 GiB, 10.05% gc time)\n"
     ]
    }
   ],
   "source": [
    "@time scan_results_strains_alt = scan(lpst_strains_y, geno_strains, kinship_strains;\n",
    "                                      assumption = \"alt\",\n",
    "                                      prior_variance = prior[1], prior_sample_size = prior[2]);"
   ]
  },
  {
   "cell_type": "code",
   "execution_count": 47,
   "id": "f7e7ec8e-7352-4fef-a22c-d61e90fbae53",
   "metadata": {},
   "outputs": [
    {
     "name": "stdout",
     "output_type": "stream",
     "text": [
      "  0.071453 seconds (214.75 k allocations: 85.974 MiB, 46.61% compilation time)\n"
     ]
    }
   ],
   "source": [
    "@time scan_perms_results_strains = scan(lpst_strains_y, geno_strains, kinship_strains;\n",
    "                                        permutation_test = true, nperms = 1000, original = true, \n",
    "                                        prior_variance = prior[1], prior_sample_size = prior[2]);"
   ]
  },
  {
   "cell_type": "code",
   "execution_count": 48,
   "id": "ef7d8e30-dfea-47f0-a7ff-ae966a9594b9",
   "metadata": {},
   "outputs": [],
   "source": [
    "single_results_strains = DataFrame(hcat(scan_results_strains.lod, scan_results_strains_alt.lod, scan_perms_results_strains[:, 1]), [\"scan_null\", \"scan_alt\", \"scan_perms.original\"]);"
   ]
  },
  {
   "cell_type": "code",
   "execution_count": 49,
   "id": "cd32ad3e-95f0-4169-a7b7-1b1b28b48f6c",
   "metadata": {},
   "outputs": [
    {
     "data": {
      "text/html": [
       "<div><div style = \"float: left;\"><span>6×3 DataFrame</span></div><div style = \"clear: both;\"></div></div><div class = \"data-frame\" style = \"overflow-x: scroll;\"><table class = \"data-frame\" style = \"margin-bottom: 6px;\"><thead><tr class = \"header\"><th class = \"rowNumber\" style = \"font-weight: bold; text-align: right;\">Row</th><th style = \"text-align: left;\">scan_null</th><th style = \"text-align: left;\">scan_alt</th><th style = \"text-align: left;\">scan_perms.original</th></tr><tr class = \"subheader headerLastRow\"><th class = \"rowNumber\" style = \"font-weight: bold; text-align: right;\"></th><th title = \"Float64\" style = \"text-align: left;\">Float64</th><th title = \"Float64\" style = \"text-align: left;\">Float64</th><th title = \"Float64\" style = \"text-align: left;\">Float64</th></tr></thead><tbody><tr><td class = \"rowNumber\" style = \"font-weight: bold; text-align: right;\">1</td><td style = \"text-align: right;\">0.147528</td><td style = \"text-align: right;\">0.359619</td><td style = \"text-align: right;\">0.363103</td></tr><tr><td class = \"rowNumber\" style = \"font-weight: bold; text-align: right;\">2</td><td style = \"text-align: right;\">0.147528</td><td style = \"text-align: right;\">0.359619</td><td style = \"text-align: right;\">0.363103</td></tr><tr><td class = \"rowNumber\" style = \"font-weight: bold; text-align: right;\">3</td><td style = \"text-align: right;\">0.147528</td><td style = \"text-align: right;\">0.359619</td><td style = \"text-align: right;\">0.363103</td></tr><tr><td class = \"rowNumber\" style = \"font-weight: bold; text-align: right;\">4</td><td style = \"text-align: right;\">0.147528</td><td style = \"text-align: right;\">0.359619</td><td style = \"text-align: right;\">0.363103</td></tr><tr><td class = \"rowNumber\" style = \"font-weight: bold; text-align: right;\">5</td><td style = \"text-align: right;\">0.147528</td><td style = \"text-align: right;\">0.359619</td><td style = \"text-align: right;\">0.363103</td></tr><tr><td class = \"rowNumber\" style = \"font-weight: bold; text-align: right;\">6</td><td style = \"text-align: right;\">0.147528</td><td style = \"text-align: right;\">0.359619</td><td style = \"text-align: right;\">0.363103</td></tr></tbody></table></div>"
      ],
      "text/latex": [
       "\\begin{tabular}{r|ccc}\n",
       "\t& scan\\_null & scan\\_alt & scan\\_perms.original\\\\\n",
       "\t\\hline\n",
       "\t& Float64 & Float64 & Float64\\\\\n",
       "\t\\hline\n",
       "\t1 & 0.147528 & 0.359619 & 0.363103 \\\\\n",
       "\t2 & 0.147528 & 0.359619 & 0.363103 \\\\\n",
       "\t3 & 0.147528 & 0.359619 & 0.363103 \\\\\n",
       "\t4 & 0.147528 & 0.359619 & 0.363103 \\\\\n",
       "\t5 & 0.147528 & 0.359619 & 0.363103 \\\\\n",
       "\t6 & 0.147528 & 0.359619 & 0.363103 \\\\\n",
       "\\end{tabular}\n"
      ],
      "text/plain": [
       "\u001b[1m6×3 DataFrame\u001b[0m\n",
       "\u001b[1m Row \u001b[0m│\u001b[1m scan_null \u001b[0m\u001b[1m scan_alt \u001b[0m\u001b[1m scan_perms.original \u001b[0m\n",
       "     │\u001b[90m Float64   \u001b[0m\u001b[90m Float64  \u001b[0m\u001b[90m Float64             \u001b[0m\n",
       "─────┼──────────────────────────────────────────\n",
       "   1 │  0.147528  0.359619             0.363103\n",
       "   2 │  0.147528  0.359619             0.363103\n",
       "   3 │  0.147528  0.359619             0.363103\n",
       "   4 │  0.147528  0.359619             0.363103\n",
       "   5 │  0.147528  0.359619             0.363103\n",
       "   6 │  0.147528  0.359619             0.363103"
      ]
     },
     "execution_count": 49,
     "metadata": {},
     "output_type": "execute_result"
    }
   ],
   "source": [
    "single_results_strains[1:6, :]"
   ]
  },
  {
   "cell_type": "code",
   "execution_count": 50,
   "id": "d5c3f3c6-25ce-4cb6-8256-d5cd33898b19",
   "metadata": {},
   "outputs": [
    {
     "data": {
      "text/plain": [
       "(50, 1)"
      ]
     },
     "execution_count": 50,
     "metadata": {},
     "output_type": "execute_result"
    }
   ],
   "source": [
    "size(lp_strains_y)"
   ]
  },
  {
   "cell_type": "code",
   "execution_count": 51,
   "id": "55a7845a-e2c2-43ef-a5a2-0f87bf3aa659",
   "metadata": {},
   "outputs": [
    {
     "data": {
      "text/plain": [
       "5-element Vector{Float64}:\n",
       "  1.0226201850024244\n",
       " -0.007395742683977131\n",
       "  0.8020068444624721\n",
       "  1.234467432540759\n",
       " -0.5639098286938068"
      ]
     },
     "execution_count": 51,
     "metadata": {},
     "output_type": "execute_result"
    }
   ],
   "source": [
    "lpst_strains_y[1:5]./sqrt(0.5)"
   ]
  },
  {
   "cell_type": "markdown",
   "id": "beafdcee-0be5-4243-bf4c-142b1b692df9",
   "metadata": {},
   "source": [
    "### Weighted Error Variances:"
   ]
  },
  {
   "cell_type": "markdown",
   "id": "3db9e73e-b72b-44d5-b83f-8928c874c016",
   "metadata": {},
   "source": [
    "Assuming that\n",
    "\n",
    "$$y = X_0 B_0+g\\beta+\\epsilon$$\n",
    "\n",
    "where \n",
    "\n",
    "$$\\epsilon \\sim N(0,  \\sigma^2_g K + \\sigma^2_e V) $$ and \n",
    "\n",
    "the matrix $V$ is a diagonal but not necessarily an identity matrix."
   ]
  },
  {
   "cell_type": "markdown",
   "id": "1e014cdf-d1d5-424c-b0ee-631aa556cb61",
   "metadata": {},
   "source": [
    "Notice that since $V^{-1} = V^{-1/2}V^{-1/2}$, then the strategy is as such:"
   ]
  },
  {
   "cell_type": "markdown",
   "id": "dee5ac13-31b2-4d7e-88c9-c7d47a59f0b6",
   "metadata": {},
   "source": [
    "Let $$y^* = V^{-1/2}y = V^{-1/2}X0+V^{-1/2}g\\beta+V^{-1/2}\\epsilon$$\n",
    "\n",
    "then \n",
    "$$V^{-1/2}\\epsilon \\sim N(0, \\sigma^2_g V^{-1/2}KV^{-1/2}+\\sigma^2_e V^{-1/2}VV^{-1/2} = \\sigma^2_g K^*+\\sigma^2_e I)$$"
   ]
  },
  {
   "cell_type": "code",
   "execution_count": 52,
   "id": "2d78e1d4-8920-4242-a2a0-400853cb0de6",
   "metadata": {},
   "outputs": [
    {
     "data": {
      "text/html": [
       "<div><div style = \"float: left;\"><span>6×32448 DataFrame</span></div><div style = \"float: right;\"><span style = \"font-style: italic;\">32348 columns omitted</span></div><div style = \"clear: both;\"></div></div><div class = \"data-frame\" style = \"overflow-x: scroll;\"><table class = \"data-frame\" style = \"margin-bottom: 6px;\"><thead><tr class = \"header\"><th class = \"rowNumber\" style = \"font-weight: bold; text-align: right;\">Row</th><th style = \"text-align: left;\">Sample</th><th style = \"text-align: left;\">Strain</th><th style = \"text-align: left;\">Strain_num</th><th style = \"text-align: left;\">P42209_DESGLNRK_2</th><th style = \"text-align: left;\">P42209_GLRPLDVAFLR_3</th><th style = \"text-align: left;\">Q99M02_VGDPVYR_2</th><th style = \"text-align: left;\">Q99M02_VWIYPIK_2</th><th style = \"text-align: left;\">Q99M02_LCDPSVK_2</th><th style = \"text-align: left;\">Q99M02_CVLTTVDPDTGIIDR_2</th><th style = \"text-align: left;\">Q99M02_LVQFDTSMK_2</th><th style = \"text-align: left;\">Q99M02_QLQQVGTVSK_2</th><th style = \"text-align: left;\">Q99M02_KLYPSESYLQNYEVAYPDCSPVHLISEASLVDLNTR_4</th><th style = \"text-align: left;\">Q99M02_GRDCGDEVAQWFTNYLK_3</th><th style = \"text-align: left;\">Q99M02_SIYQSSPLFGMYFSVEK_2</th><th style = \"text-align: left;\">Q99M02_RQLQQVGTVSK_3</th><th style = \"text-align: left;\">Q99M02_LYPSESYLQNYEVAYPDCSPVHLISEASLVDLNTR_4</th><th style = \"text-align: left;\">Q99M02_KLYPSESYLQNYEVAYPDCSPVHLISEASLVDLNTR_5</th><th style = \"text-align: left;\">Q99M02_SIYQSSPLFGMYFSVEK_3</th><th style = \"text-align: left;\">Q99M02_CVLTTVDPDTGIIDRK_3</th><th style = \"text-align: left;\">Q99M02_CVLTTVDPDTGIIDR_3</th><th style = \"text-align: left;\">Q99M02_TQAYRLVQFDTSMK_3</th><th style = \"text-align: left;\">Q99M02_GVSVCETECTDMGLR_2</th><th style = \"text-align: left;\">Q99M02_DCGDEVAQWFTNYLK_2</th><th style = \"text-align: left;\">Q99M02_DRFWMVVK_2</th><th style = \"text-align: left;\">Q99M02_GRDCGDEVAQWFTNYLK_2</th><th style = \"text-align: left;\">Q99M02_DCGDEVAQWFTNYLK_3</th><th style = \"text-align: left;\">Q99M02_EDGHMVTAR_2</th><th style = \"text-align: left;\">Q99M02_RQLQQVGTVSK_2</th><th style = \"text-align: left;\">P42208_TIISYIDEQFER_2</th><th style = \"text-align: left;\">P42208_ILDEIEEHSIK_3</th><th style = \"text-align: left;\">P42208_VNIVPVIAK_2</th><th style = \"text-align: left;\">P42208_ASIPFSVVGSNQLIEAK_2</th><th style = \"text-align: left;\">P42208_TVQIEASTVEIEER_2</th><th style = \"text-align: left;\">P42208_LTVVDTPGYGDAINCR_2</th><th style = \"text-align: left;\">P42208_ASIPFSVVGSNQLIEAK_3</th><th style = \"text-align: left;\">P42208_STLINSLFLTDLYPER_3</th><th style = \"text-align: left;\">Q9Z1S5_VNIIPVIAK_2</th><th style = \"text-align: left;\">Q3KNM2_LGPVVYVLDLADR_2</th><th style = \"text-align: left;\">Q9Z2Q6_LATPEDKQDIDKQYVGFATLPNQVHR_4</th><th style = \"text-align: left;\">Q9Z2Q6_VNIVPILAK_2</th><th style = \"text-align: left;\">Q9R1T4_RNEFLGELQK_3</th><th style = \"text-align: left;\">Q9R1T4_STLMDTLFNTK_2</th><th style = \"text-align: left;\">O55131_STLINSLFLTDLYSPEYPGPSHR_3</th><th style = \"text-align: left;\">O55131_FEDYLNAESR_2</th><th style = \"text-align: left;\">O55131_IYEFPETDDEEENKLVK_3</th><th style = \"text-align: left;\">O55131_NLEGYVGFANLPNQVYR_2</th><th style = \"text-align: left;\">O55131_DVTNNVHYENYR_3</th><th style = \"text-align: left;\">O55131_ANWEAQQR_2</th><th style = \"text-align: left;\">O55131_NLEGYVGFANLPNQVYR_3</th><th style = \"text-align: left;\">O55131_ADTLTPEECQQFK_2</th><th style = \"text-align: left;\">O55131_ILEQQNSSR_2</th><th style = \"text-align: left;\">O55131_VQCCLYFIAPSGHGLKPLDIEFMK_4</th><th style = \"text-align: left;\">O55131_TVQVEQSK_2</th><th style = \"text-align: left;\">O55131_LKDSEAELQR_2</th><th style = \"text-align: left;\">Q8CHH9_VNIIPLIAK_2</th><th style = \"text-align: left;\">Q8CHH9_VNIIPIIAK_2</th><th style = \"text-align: left;\">Q80UG5_ADTLTLEER_2</th><th style = \"text-align: left;\">Q80UG5_STLINTLFK_2</th><th style = \"text-align: left;\">Q80UG5_RTEITIVKPQESVLR_4</th><th style = \"text-align: left;\">Q80UG5_DITSNIHFEAYR_3</th><th style = \"text-align: left;\">Q80UG5_LEPRPSVAEVPYR_3</th><th style = \"text-align: left;\">Q80UG5_FINDQYEK_2</th><th style = \"text-align: left;\">Q80UG5_YLQEEVNINR_2</th><th style = \"text-align: left;\">Q80UG5_VVNIVPVIAK_2</th><th style = \"text-align: left;\">Q80UG5_SITHDIEEK_2</th><th style = \"text-align: left;\">Q80UG5_IPEGSAVPATDAAPK_2</th><th style = \"text-align: left;\">Q80UG5_SVQPTSEER_2</th><th style = \"text-align: left;\">Q80UG5_QVESTASAAGPSR_2</th><th style = \"text-align: left;\">Q8C1B7_FESDPATHNEPGVR_3</th><th style = \"text-align: left;\">Q8C1B7_SYELQESNVR_2</th><th style = \"text-align: left;\">Q8C1B7_NLSLSGHVGFDSLPDQLVNK_3</th><th style = \"text-align: left;\">Q8C1B7_AAAQLLQSQAQQSGAQQTK_3</th><th style = \"text-align: left;\">Q8C1B7_ELEEEVSNFQK_2</th><th style = \"text-align: left;\">Q9ERR7_WNTDSVEEFLSEK_2</th><th style = \"text-align: left;\">Q9ERR7_LLDDNGNIAEELSILK_2</th><th style = \"text-align: left;\">Q9ERY9_YLEAEPVSR_2</th><th style = \"text-align: left;\">P59708_ITAEEMYDIFGK_2</th><th style = \"text-align: left;\">Q9DCS2_CLDSIAATTR_2</th><th style = \"text-align: left;\">Q9DCS2_ISPQSNVDFDLTLR_2</th><th style = \"text-align: left;\">Q9DCS2_VLEVASGSGQHAAHFAQAFPNAEWQPSDVDQR_4</th><th style = \"text-align: left;\">Q9DCS2_QYVDPAQR_2</th><th style = \"text-align: left;\">Q9DCS2_NKEPILSVLR_2</th><th style = \"text-align: left;\">Q9DCS2_AQGLSNVK_2</th><th style = \"text-align: left;\">Q9DCS2_VLEVASGSGQHAAHFAQAFPNAEWQPSDVDQR_5</th><th style = \"text-align: left;\">Q9DCS2_MVDMPANNK_2</th><th style = \"text-align: left;\">Q9DCS2_DTVLLEELGQASGLVLER_3</th><th style = \"text-align: left;\">Q9DCS2_DTVLLEELGQASGLVLER_2</th><th style = \"text-align: left;\">Q9JHJ3_LLHTADVCQLEVALVGASPR_3</th><th style = \"text-align: left;\">A2A8E1_TIVEFECR_2</th><th style = \"text-align: left;\">A2A8E1_ATLENVTNLRPVGEDFR_3</th><th style = \"text-align: left;\">A2A8E1_ENSIDILSSTIK_2</th><th style = \"text-align: left;\">A2A8E1_AQESVGIFEVTHQFVK_3</th><th style = \"text-align: left;\">Q8BWR2_GLAYGLYLR_2</th><th style = \"text-align: left;\">Q8VED9_IQTLSAIDTIK_2</th><th style = \"text-align: left;\">Q9CRB3_LFFDTER_2</th><th style = \"text-align: left;\">Q9CRB3_FHVPLLLSPWSYTTYR_3</th><th style = \"text-align: left;\">Q9CRB3_TSYTNLDGR_2</th><th style = \"text-align: left;\">Q9CRB3_LEAPCQQWMELR_2</th><th style = \"text-align: left;\">Q9CRB3_CPGLLTPSQIKPGTYK_3</th><th style = \"text-align: left;\">Q9CRB3_LEAPCQQWMELR_3</th><th style = \"text-align: right;\">&ctdot;</th></tr><tr class = \"subheader headerLastRow\"><th class = \"rowNumber\" style = \"font-weight: bold; text-align: right;\"></th><th title = \"String7\" style = \"text-align: left;\">String7</th><th title = \"String7\" style = \"text-align: left;\">String7</th><th title = \"Int64\" style = \"text-align: left;\">Int64</th><th title = \"Float64\" style = \"text-align: left;\">Float64</th><th title = \"Float64\" style = \"text-align: left;\">Float64</th><th title = \"Float64\" style = \"text-align: left;\">Float64</th><th title = \"Float64\" style = \"text-align: left;\">Float64</th><th title = \"Float64\" style = \"text-align: left;\">Float64</th><th title = \"Float64\" style = \"text-align: left;\">Float64</th><th title = \"Float64\" style = \"text-align: left;\">Float64</th><th title = \"Float64\" style = \"text-align: left;\">Float64</th><th title = \"Float64\" style = \"text-align: left;\">Float64</th><th title = \"Float64\" style = \"text-align: left;\">Float64</th><th title = \"Float64\" style = \"text-align: left;\">Float64</th><th title = \"Float64\" style = \"text-align: left;\">Float64</th><th title = \"Float64\" style = \"text-align: left;\">Float64</th><th title = \"Float64\" style = \"text-align: left;\">Float64</th><th title = \"Float64\" style = \"text-align: left;\">Float64</th><th title = \"Float64\" style = \"text-align: left;\">Float64</th><th title = \"Float64\" style = \"text-align: left;\">Float64</th><th title = \"Float64\" style = \"text-align: left;\">Float64</th><th title = \"Float64\" style = \"text-align: left;\">Float64</th><th title = \"Float64\" style = \"text-align: left;\">Float64</th><th title = \"Float64\" style = \"text-align: left;\">Float64</th><th title = \"Float64\" style = \"text-align: left;\">Float64</th><th title = \"Float64\" style = \"text-align: left;\">Float64</th><th title = \"Float64\" style = \"text-align: left;\">Float64</th><th title = \"Float64\" style = \"text-align: left;\">Float64</th><th title = \"Float64\" style = \"text-align: left;\">Float64</th><th title = \"Float64\" style = \"text-align: left;\">Float64</th><th title = \"Float64\" style = \"text-align: left;\">Float64</th><th title = \"Float64\" style = \"text-align: left;\">Float64</th><th title = \"Float64\" style = \"text-align: left;\">Float64</th><th title = \"Float64\" style = \"text-align: left;\">Float64</th><th title = \"Float64\" style = \"text-align: left;\">Float64</th><th title = \"Float64\" style = \"text-align: left;\">Float64</th><th title = \"Float64\" style = \"text-align: left;\">Float64</th><th title = \"Float64\" style = \"text-align: left;\">Float64</th><th title = \"Float64\" style = \"text-align: left;\">Float64</th><th title = \"Float64\" style = \"text-align: left;\">Float64</th><th title = \"Float64\" style = \"text-align: left;\">Float64</th><th title = \"Float64\" style = \"text-align: left;\">Float64</th><th title = \"Float64\" style = \"text-align: left;\">Float64</th><th title = \"Float64\" style = \"text-align: left;\">Float64</th><th title = \"Float64\" style = \"text-align: left;\">Float64</th><th title = \"Float64\" style = \"text-align: left;\">Float64</th><th title = \"Float64\" style = \"text-align: left;\">Float64</th><th title = \"Float64\" style = \"text-align: left;\">Float64</th><th title = \"Float64\" style = \"text-align: left;\">Float64</th><th title = \"Float64\" style = \"text-align: left;\">Float64</th><th title = \"Float64\" style = \"text-align: left;\">Float64</th><th title = \"Float64\" style = \"text-align: left;\">Float64</th><th title = \"Float64\" style = \"text-align: left;\">Float64</th><th title = \"Float64\" style = \"text-align: left;\">Float64</th><th title = \"Float64\" style = \"text-align: left;\">Float64</th><th title = \"Float64\" style = \"text-align: left;\">Float64</th><th title = \"Float64\" style = \"text-align: left;\">Float64</th><th title = \"Float64\" style = \"text-align: left;\">Float64</th><th title = \"Float64\" style = \"text-align: left;\">Float64</th><th title = \"Float64\" style = \"text-align: left;\">Float64</th><th title = \"Float64\" style = \"text-align: left;\">Float64</th><th title = \"Float64\" style = \"text-align: left;\">Float64</th><th title = \"Float64\" style = \"text-align: left;\">Float64</th><th title = \"Float64\" style = \"text-align: left;\">Float64</th><th title = \"Float64\" style = \"text-align: left;\">Float64</th><th title = \"Float64\" style = \"text-align: left;\">Float64</th><th title = \"Float64\" style = \"text-align: left;\">Float64</th><th title = \"Float64\" style = \"text-align: left;\">Float64</th><th title = \"Float64\" style = \"text-align: left;\">Float64</th><th title = \"Float64\" style = \"text-align: left;\">Float64</th><th title = \"Float64\" style = \"text-align: left;\">Float64</th><th title = \"Float64\" style = \"text-align: left;\">Float64</th><th title = \"Float64\" style = \"text-align: left;\">Float64</th><th title = \"Float64\" style = \"text-align: left;\">Float64</th><th title = \"Float64\" style = \"text-align: left;\">Float64</th><th title = \"Float64\" style = \"text-align: left;\">Float64</th><th title = \"Float64\" style = \"text-align: left;\">Float64</th><th title = \"Float64\" style = \"text-align: left;\">Float64</th><th title = \"Float64\" style = \"text-align: left;\">Float64</th><th title = \"Float64\" style = \"text-align: left;\">Float64</th><th title = \"Float64\" style = \"text-align: left;\">Float64</th><th title = \"Float64\" style = \"text-align: left;\">Float64</th><th title = \"Float64\" style = \"text-align: left;\">Float64</th><th title = \"Float64\" style = \"text-align: left;\">Float64</th><th title = \"Float64\" style = \"text-align: left;\">Float64</th><th title = \"Float64\" style = \"text-align: left;\">Float64</th><th title = \"Float64\" style = \"text-align: left;\">Float64</th><th title = \"Float64\" style = \"text-align: left;\">Float64</th><th title = \"Float64\" style = \"text-align: left;\">Float64</th><th title = \"Float64\" style = \"text-align: left;\">Float64</th><th title = \"Float64\" style = \"text-align: left;\">Float64</th><th title = \"Float64\" style = \"text-align: left;\">Float64</th><th title = \"Float64\" style = \"text-align: left;\">Float64</th><th title = \"Float64\" style = \"text-align: left;\">Float64</th><th title = \"Float64\" style = \"text-align: left;\">Float64</th><th title = \"Float64\" style = \"text-align: left;\">Float64</th><th title = \"Float64\" style = \"text-align: left;\">Float64</th><th title = \"Float64\" style = \"text-align: left;\">Float64</th><th title = \"Float64\" style = \"text-align: left;\">Float64</th><th title = \"Float64\" style = \"text-align: left;\">Float64</th><th title = \"Float64\" style = \"text-align: right;\">&ctdot;</th></tr></thead><tbody><tr><td class = \"rowNumber\" style = \"font-weight: bold; text-align: right;\">1</td><td style = \"text-align: left;\">H1009</td><td style = \"text-align: left;\">BXD9</td><td style = \"text-align: right;\">9</td><td style = \"text-align: right;\">11.349</td><td style = \"text-align: right;\">11.534</td><td style = \"text-align: right;\">17.587</td><td style = \"text-align: right;\">17.517</td><td style = \"text-align: right;\">17.309</td><td style = \"text-align: right;\">16.574</td><td style = \"text-align: right;\">16.323</td><td style = \"text-align: right;\">16.263</td><td style = \"text-align: right;\">16.24</td><td style = \"text-align: right;\">16.052</td><td style = \"text-align: right;\">15.355</td><td style = \"text-align: right;\">15.795</td><td style = \"text-align: right;\">15.4</td><td style = \"text-align: right;\">15.03</td><td style = \"text-align: right;\">14.831</td><td style = \"text-align: right;\">14.914</td><td style = \"text-align: right;\">14.755</td><td style = \"text-align: right;\">14.389</td><td style = \"text-align: right;\">14.272</td><td style = \"text-align: right;\">13.992</td><td style = \"text-align: right;\">14.291</td><td style = \"text-align: right;\">13.762</td><td style = \"text-align: right;\">13.167</td><td style = \"text-align: right;\">12.662</td><td style = \"text-align: right;\">10.913</td><td style = \"text-align: right;\">14.723</td><td style = \"text-align: right;\">14.348</td><td style = \"text-align: right;\">13.345</td><td style = \"text-align: right;\">14.228</td><td style = \"text-align: right;\">13.862</td><td style = \"text-align: right;\">13.902</td><td style = \"text-align: right;\">13.687</td><td style = \"text-align: right;\">11.613</td><td style = \"text-align: right;\">10.245</td><td style = \"text-align: right;\">14.409</td><td style = \"text-align: right;\">15.147</td><td style = \"text-align: right;\">12.34</td><td style = \"text-align: right;\">14.404</td><td style = \"text-align: right;\">13.775</td><td style = \"text-align: right;\">14.293</td><td style = \"text-align: right;\">14.461</td><td style = \"text-align: right;\">14.23</td><td style = \"text-align: right;\">14.065</td><td style = \"text-align: right;\">14.258</td><td style = \"text-align: right;\">14.31</td><td style = \"text-align: right;\">13.616</td><td style = \"text-align: right;\">13.541</td><td style = \"text-align: right;\">13.46</td><td style = \"text-align: right;\">13.293</td><td style = \"text-align: right;\">12.937</td><td style = \"text-align: right;\">12.717</td><td style = \"text-align: right;\">15.149</td><td style = \"text-align: right;\">14.36</td><td style = \"text-align: right;\">14.833</td><td style = \"text-align: right;\">14.341</td><td style = \"text-align: right;\">14.579</td><td style = \"text-align: right;\">14.316</td><td style = \"text-align: right;\">14.049</td><td style = \"text-align: right;\">13.817</td><td style = \"text-align: right;\">13.656</td><td style = \"text-align: right;\">13.297</td><td style = \"text-align: right;\">13.78</td><td style = \"text-align: right;\">12.843</td><td style = \"text-align: right;\">12.439</td><td style = \"text-align: right;\">11.074</td><td style = \"text-align: right;\">14.065</td><td style = \"text-align: right;\">13.915</td><td style = \"text-align: right;\">13.994</td><td style = \"text-align: right;\">13.907</td><td style = \"text-align: right;\">13.247</td><td style = \"text-align: right;\">13.356</td><td style = \"text-align: right;\">12.815</td><td style = \"text-align: right;\">14.702</td><td style = \"text-align: right;\">13.637</td><td style = \"text-align: right;\">16.398</td><td style = \"text-align: right;\">16.402</td><td style = \"text-align: right;\">16.271</td><td style = \"text-align: right;\">16.0</td><td style = \"text-align: right;\">15.909</td><td style = \"text-align: right;\">15.647</td><td style = \"text-align: right;\">15.021</td><td style = \"text-align: right;\">13.726</td><td style = \"text-align: right;\">7.236</td><td style = \"text-align: right;\">3.295</td><td style = \"text-align: right;\">13.794</td><td style = \"text-align: right;\">14.838</td><td style = \"text-align: right;\">14.908</td><td style = \"text-align: right;\">14.664</td><td style = \"text-align: right;\">13.055</td><td style = \"text-align: right;\">12.612</td><td style = \"text-align: right;\">13.323</td><td style = \"text-align: right;\">18.252</td><td style = \"text-align: right;\">16.889</td><td style = \"text-align: right;\">17.118</td><td style = \"text-align: right;\">16.443</td><td style = \"text-align: right;\">15.683</td><td style = \"text-align: right;\">14.183</td><td style = \"text-align: right;\">&ctdot;</td></tr><tr><td class = \"rowNumber\" style = \"font-weight: bold; text-align: right;\">2</td><td style = \"text-align: left;\">H0370</td><td style = \"text-align: left;\">BXD9</td><td style = \"text-align: right;\">9</td><td style = \"text-align: right;\">11.249</td><td style = \"text-align: right;\">12.735</td><td style = \"text-align: right;\">17.427</td><td style = \"text-align: right;\">17.325</td><td style = \"text-align: right;\">17.252</td><td style = \"text-align: right;\">16.685</td><td style = \"text-align: right;\">16.021</td><td style = \"text-align: right;\">16.332</td><td style = \"text-align: right;\">15.965</td><td style = \"text-align: right;\">15.624</td><td style = \"text-align: right;\">15.336</td><td style = \"text-align: right;\">14.811</td><td style = \"text-align: right;\">14.979</td><td style = \"text-align: right;\">14.957</td><td style = \"text-align: right;\">14.474</td><td style = \"text-align: right;\">14.815</td><td style = \"text-align: right;\">14.912</td><td style = \"text-align: right;\">14.77</td><td style = \"text-align: right;\">14.244</td><td style = \"text-align: right;\">14.151</td><td style = \"text-align: right;\">13.87</td><td style = \"text-align: right;\">13.696</td><td style = \"text-align: right;\">11.285</td><td style = \"text-align: right;\">13.094</td><td style = \"text-align: right;\">12.99</td><td style = \"text-align: right;\">14.693</td><td style = \"text-align: right;\">14.325</td><td style = \"text-align: right;\">13.812</td><td style = \"text-align: right;\">13.761</td><td style = \"text-align: right;\">14.299</td><td style = \"text-align: right;\">13.728</td><td style = \"text-align: right;\">13.671</td><td style = \"text-align: right;\">10.678</td><td style = \"text-align: right;\">12.411</td><td style = \"text-align: right;\">14.209</td><td style = \"text-align: right;\">15.113</td><td style = \"text-align: right;\">12.719</td><td style = \"text-align: right;\">13.653</td><td style = \"text-align: right;\">13.652</td><td style = \"text-align: right;\">14.711</td><td style = \"text-align: right;\">14.455</td><td style = \"text-align: right;\">14.302</td><td style = \"text-align: right;\">14.254</td><td style = \"text-align: right;\">13.889</td><td style = \"text-align: right;\">14.378</td><td style = \"text-align: right;\">13.339</td><td style = \"text-align: right;\">13.615</td><td style = \"text-align: right;\">12.124</td><td style = \"text-align: right;\">13.634</td><td style = \"text-align: right;\">11.894</td><td style = \"text-align: right;\">13.017</td><td style = \"text-align: right;\">15.184</td><td style = \"text-align: right;\">14.411</td><td style = \"text-align: right;\">14.978</td><td style = \"text-align: right;\">14.348</td><td style = \"text-align: right;\">14.457</td><td style = \"text-align: right;\">14.669</td><td style = \"text-align: right;\">14.235</td><td style = \"text-align: right;\">13.924</td><td style = \"text-align: right;\">14.003</td><td style = \"text-align: right;\">13.666</td><td style = \"text-align: right;\">14.188</td><td style = \"text-align: right;\">13.613</td><td style = \"text-align: right;\">12.401</td><td style = \"text-align: right;\">11.491</td><td style = \"text-align: right;\">14.018</td><td style = \"text-align: right;\">14.086</td><td style = \"text-align: right;\">13.778</td><td style = \"text-align: right;\">13.871</td><td style = \"text-align: right;\">13.235</td><td style = \"text-align: right;\">13.212</td><td style = \"text-align: right;\">12.527</td><td style = \"text-align: right;\">14.404</td><td style = \"text-align: right;\">13.305</td><td style = \"text-align: right;\">16.291</td><td style = \"text-align: right;\">16.533</td><td style = \"text-align: right;\">16.014</td><td style = \"text-align: right;\">16.083</td><td style = \"text-align: right;\">16.104</td><td style = \"text-align: right;\">15.923</td><td style = \"text-align: right;\">14.657</td><td style = \"text-align: right;\">12.945</td><td style = \"text-align: right;\">11.541</td><td style = \"text-align: right;\">12.83</td><td style = \"text-align: right;\">13.963</td><td style = \"text-align: right;\">15.221</td><td style = \"text-align: right;\">15.093</td><td style = \"text-align: right;\">14.817</td><td style = \"text-align: right;\">13.129</td><td style = \"text-align: right;\">13.251</td><td style = \"text-align: right;\">13.666</td><td style = \"text-align: right;\">18.352</td><td style = \"text-align: right;\">17.202</td><td style = \"text-align: right;\">17.106</td><td style = \"text-align: right;\">16.211</td><td style = \"text-align: right;\">15.557</td><td style = \"text-align: right;\">14.051</td><td style = \"text-align: right;\">&ctdot;</td></tr><tr><td class = \"rowNumber\" style = \"font-weight: bold; text-align: right;\">3</td><td style = \"text-align: left;\">H2577</td><td style = \"text-align: left;\">BXD9</td><td style = \"text-align: right;\">9</td><td style = \"text-align: right;\">12.415</td><td style = \"text-align: right;\">10.487</td><td style = \"text-align: right;\">17.89</td><td style = \"text-align: right;\">17.488</td><td style = \"text-align: right;\">17.594</td><td style = \"text-align: right;\">16.731</td><td style = \"text-align: right;\">16.208</td><td style = \"text-align: right;\">16.417</td><td style = \"text-align: right;\">16.182</td><td style = \"text-align: right;\">16.07</td><td style = \"text-align: right;\">15.356</td><td style = \"text-align: right;\">15.863</td><td style = \"text-align: right;\">15.109</td><td style = \"text-align: right;\">15.033</td><td style = \"text-align: right;\">14.914</td><td style = \"text-align: right;\">14.967</td><td style = \"text-align: right;\">14.355</td><td style = \"text-align: right;\">14.242</td><td style = \"text-align: right;\">14.588</td><td style = \"text-align: right;\">14.289</td><td style = \"text-align: right;\">14.267</td><td style = \"text-align: right;\">13.802</td><td style = \"text-align: right;\">13.015</td><td style = \"text-align: right;\">13.371</td><td style = \"text-align: right;\">12.637</td><td style = \"text-align: right;\">13.861</td><td style = \"text-align: right;\">14.179</td><td style = \"text-align: right;\">12.208</td><td style = \"text-align: right;\">13.453</td><td style = \"text-align: right;\">13.541</td><td style = \"text-align: right;\">13.37</td><td style = \"text-align: right;\">13.689</td><td style = \"text-align: right;\">10.072</td><td style = \"text-align: right;\">9.864</td><td style = \"text-align: right;\">14.387</td><td style = \"text-align: right;\">15.132</td><td style = \"text-align: right;\">12.267</td><td style = \"text-align: right;\">13.809</td><td style = \"text-align: right;\">13.439</td><td style = \"text-align: right;\">14.278</td><td style = \"text-align: right;\">14.046</td><td style = \"text-align: right;\">13.795</td><td style = \"text-align: right;\">14.186</td><td style = \"text-align: right;\">13.719</td><td style = \"text-align: right;\">14.087</td><td style = \"text-align: right;\">13.657</td><td style = \"text-align: right;\">12.693</td><td style = \"text-align: right;\">13.618</td><td style = \"text-align: right;\">12.68</td><td style = \"text-align: right;\">12.717</td><td style = \"text-align: right;\">12.675</td><td style = \"text-align: right;\">14.976</td><td style = \"text-align: right;\">13.714</td><td style = \"text-align: right;\">14.986</td><td style = \"text-align: right;\">14.0</td><td style = \"text-align: right;\">14.337</td><td style = \"text-align: right;\">14.344</td><td style = \"text-align: right;\">13.613</td><td style = \"text-align: right;\">13.228</td><td style = \"text-align: right;\">13.313</td><td style = \"text-align: right;\">12.639</td><td style = \"text-align: right;\">13.791</td><td style = \"text-align: right;\">10.895</td><td style = \"text-align: right;\">12.259</td><td style = \"text-align: right;\">10.923</td><td style = \"text-align: right;\">13.552</td><td style = \"text-align: right;\">13.719</td><td style = \"text-align: right;\">13.266</td><td style = \"text-align: right;\">13.521</td><td style = \"text-align: right;\">13.085</td><td style = \"text-align: right;\">13.292</td><td style = \"text-align: right;\">11.783</td><td style = \"text-align: right;\">14.967</td><td style = \"text-align: right;\">12.924</td><td style = \"text-align: right;\">16.235</td><td style = \"text-align: right;\">16.191</td><td style = \"text-align: right;\">15.877</td><td style = \"text-align: right;\">15.898</td><td style = \"text-align: right;\">15.851</td><td style = \"text-align: right;\">16.033</td><td style = \"text-align: right;\">14.695</td><td style = \"text-align: right;\">13.533</td><td style = \"text-align: right;\">9.657</td><td style = \"text-align: right;\">12.811</td><td style = \"text-align: right;\">13.877</td><td style = \"text-align: right;\">14.851</td><td style = \"text-align: right;\">14.993</td><td style = \"text-align: right;\">14.642</td><td style = \"text-align: right;\">12.832</td><td style = \"text-align: right;\">13.225</td><td style = \"text-align: right;\">12.795</td><td style = \"text-align: right;\">18.21</td><td style = \"text-align: right;\">16.846</td><td style = \"text-align: right;\">17.019</td><td style = \"text-align: right;\">15.882</td><td style = \"text-align: right;\">15.599</td><td style = \"text-align: right;\">14.0</td><td style = \"text-align: right;\">&ctdot;</td></tr><tr><td class = \"rowNumber\" style = \"font-weight: bold; text-align: right;\">4</td><td style = \"text-align: left;\">H0365</td><td style = \"text-align: left;\">BXD9</td><td style = \"text-align: right;\">9</td><td style = \"text-align: right;\">11.374</td><td style = \"text-align: right;\">10.674</td><td style = \"text-align: right;\">17.714</td><td style = \"text-align: right;\">17.401</td><td style = \"text-align: right;\">17.381</td><td style = \"text-align: right;\">16.621</td><td style = \"text-align: right;\">16.337</td><td style = \"text-align: right;\">16.279</td><td style = \"text-align: right;\">16.304</td><td style = \"text-align: right;\">16.153</td><td style = \"text-align: right;\">15.509</td><td style = \"text-align: right;\">15.673</td><td style = \"text-align: right;\">15.411</td><td style = \"text-align: right;\">15.207</td><td style = \"text-align: right;\">15.082</td><td style = \"text-align: right;\">14.959</td><td style = \"text-align: right;\">14.782</td><td style = \"text-align: right;\">14.53</td><td style = \"text-align: right;\">14.636</td><td style = \"text-align: right;\">14.309</td><td style = \"text-align: right;\">14.296</td><td style = \"text-align: right;\">13.808</td><td style = \"text-align: right;\">13.163</td><td style = \"text-align: right;\">12.99</td><td style = \"text-align: right;\">12.106</td><td style = \"text-align: right;\">14.457</td><td style = \"text-align: right;\">14.464</td><td style = \"text-align: right;\">13.119</td><td style = \"text-align: right;\">13.42</td><td style = \"text-align: right;\">13.466</td><td style = \"text-align: right;\">13.717</td><td style = \"text-align: right;\">13.305</td><td style = \"text-align: right;\">9.526</td><td style = \"text-align: right;\">10.685</td><td style = \"text-align: right;\">14.608</td><td style = \"text-align: right;\">15.05</td><td style = \"text-align: right;\">11.858</td><td style = \"text-align: right;\">14.077</td><td style = \"text-align: right;\">13.459</td><td style = \"text-align: right;\">14.379</td><td style = \"text-align: right;\">14.294</td><td style = \"text-align: right;\">13.946</td><td style = \"text-align: right;\">13.816</td><td style = \"text-align: right;\">14.172</td><td style = \"text-align: right;\">14.218</td><td style = \"text-align: right;\">13.352</td><td style = \"text-align: right;\">13.12</td><td style = \"text-align: right;\">12.885</td><td style = \"text-align: right;\">12.876</td><td style = \"text-align: right;\">12.836</td><td style = \"text-align: right;\">11.771</td><td style = \"text-align: right;\">15.005</td><td style = \"text-align: right;\">13.907</td><td style = \"text-align: right;\">15.195</td><td style = \"text-align: right;\">14.505</td><td style = \"text-align: right;\">14.645</td><td style = \"text-align: right;\">14.437</td><td style = \"text-align: right;\">14.339</td><td style = \"text-align: right;\">13.929</td><td style = \"text-align: right;\">13.891</td><td style = \"text-align: right;\">12.584</td><td style = \"text-align: right;\">13.894</td><td style = \"text-align: right;\">13.005</td><td style = \"text-align: right;\">11.745</td><td style = \"text-align: right;\">11.587</td><td style = \"text-align: right;\">13.855</td><td style = \"text-align: right;\">13.595</td><td style = \"text-align: right;\">13.443</td><td style = \"text-align: right;\">13.53</td><td style = \"text-align: right;\">13.295</td><td style = \"text-align: right;\">12.984</td><td style = \"text-align: right;\">12.606</td><td style = \"text-align: right;\">14.777</td><td style = \"text-align: right;\">13.316</td><td style = \"text-align: right;\">16.244</td><td style = \"text-align: right;\">16.171</td><td style = \"text-align: right;\">16.074</td><td style = \"text-align: right;\">15.865</td><td style = \"text-align: right;\">15.819</td><td style = \"text-align: right;\">15.716</td><td style = \"text-align: right;\">14.651</td><td style = \"text-align: right;\">13.418</td><td style = \"text-align: right;\">12.186</td><td style = \"text-align: right;\">11.279</td><td style = \"text-align: right;\">13.677</td><td style = \"text-align: right;\">15.099</td><td style = \"text-align: right;\">14.941</td><td style = \"text-align: right;\">14.738</td><td style = \"text-align: right;\">13.196</td><td style = \"text-align: right;\">13.011</td><td style = \"text-align: right;\">13.543</td><td style = \"text-align: right;\">18.146</td><td style = \"text-align: right;\">17.282</td><td style = \"text-align: right;\">17.106</td><td style = \"text-align: right;\">16.174</td><td style = \"text-align: right;\">15.614</td><td style = \"text-align: right;\">13.949</td><td style = \"text-align: right;\">&ctdot;</td></tr><tr><td class = \"rowNumber\" style = \"font-weight: bold; text-align: right;\">5</td><td style = \"text-align: left;\">H1333</td><td style = \"text-align: left;\">BXD13</td><td style = \"text-align: right;\">13</td><td style = \"text-align: right;\">11.687</td><td style = \"text-align: right;\">11.524</td><td style = \"text-align: right;\">17.362</td><td style = \"text-align: right;\">17.367</td><td style = \"text-align: right;\">17.071</td><td style = \"text-align: right;\">16.465</td><td style = \"text-align: right;\">15.97</td><td style = \"text-align: right;\">15.98</td><td style = \"text-align: right;\">16.108</td><td style = \"text-align: right;\">15.938</td><td style = \"text-align: right;\">15.541</td><td style = \"text-align: right;\">15.121</td><td style = \"text-align: right;\">14.971</td><td style = \"text-align: right;\">14.903</td><td style = \"text-align: right;\">14.859</td><td style = \"text-align: right;\">14.664</td><td style = \"text-align: right;\">14.504</td><td style = \"text-align: right;\">14.407</td><td style = \"text-align: right;\">13.969</td><td style = \"text-align: right;\">14.8</td><td style = \"text-align: right;\">14.137</td><td style = \"text-align: right;\">13.564</td><td style = \"text-align: right;\">12.76</td><td style = \"text-align: right;\">12.675</td><td style = \"text-align: right;\">10.73</td><td style = \"text-align: right;\">14.177</td><td style = \"text-align: right;\">14.387</td><td style = \"text-align: right;\">14.163</td><td style = \"text-align: right;\">14.263</td><td style = \"text-align: right;\">14.137</td><td style = \"text-align: right;\">13.716</td><td style = \"text-align: right;\">13.914</td><td style = \"text-align: right;\">10.33</td><td style = \"text-align: right;\">12.509</td><td style = \"text-align: right;\">14.681</td><td style = \"text-align: right;\">15.291</td><td style = \"text-align: right;\">12.428</td><td style = \"text-align: right;\">13.724</td><td style = \"text-align: right;\">13.942</td><td style = \"text-align: right;\">14.533</td><td style = \"text-align: right;\">14.243</td><td style = \"text-align: right;\">14.28</td><td style = \"text-align: right;\">14.347</td><td style = \"text-align: right;\">14.401</td><td style = \"text-align: right;\">13.624</td><td style = \"text-align: right;\">13.771</td><td style = \"text-align: right;\">13.424</td><td style = \"text-align: right;\">13.562</td><td style = \"text-align: right;\">13.38</td><td style = \"text-align: right;\">12.794</td><td style = \"text-align: right;\">12.361</td><td style = \"text-align: right;\">15.332</td><td style = \"text-align: right;\">14.932</td><td style = \"text-align: right;\">14.845</td><td style = \"text-align: right;\">15.077</td><td style = \"text-align: right;\">14.859</td><td style = \"text-align: right;\">14.384</td><td style = \"text-align: right;\">14.296</td><td style = \"text-align: right;\">13.806</td><td style = \"text-align: right;\">14.147</td><td style = \"text-align: right;\">13.204</td><td style = \"text-align: right;\">13.585</td><td style = \"text-align: right;\">13.129</td><td style = \"text-align: right;\">12.163</td><td style = \"text-align: right;\">8.345</td><td style = \"text-align: right;\">14.16</td><td style = \"text-align: right;\">13.969</td><td style = \"text-align: right;\">14.061</td><td style = \"text-align: right;\">13.865</td><td style = \"text-align: right;\">13.096</td><td style = \"text-align: right;\">13.459</td><td style = \"text-align: right;\">12.487</td><td style = \"text-align: right;\">14.692</td><td style = \"text-align: right;\">13.804</td><td style = \"text-align: right;\">16.059</td><td style = \"text-align: right;\">16.074</td><td style = \"text-align: right;\">16.011</td><td style = \"text-align: right;\">15.545</td><td style = \"text-align: right;\">15.406</td><td style = \"text-align: right;\">15.51</td><td style = \"text-align: right;\">14.934</td><td style = \"text-align: right;\">13.014</td><td style = \"text-align: right;\">12.128</td><td style = \"text-align: right;\">10.242</td><td style = \"text-align: right;\">14.031</td><td style = \"text-align: right;\">14.619</td><td style = \"text-align: right;\">14.694</td><td style = \"text-align: right;\">14.367</td><td style = \"text-align: right;\">13.109</td><td style = \"text-align: right;\">12.496</td><td style = \"text-align: right;\">13.936</td><td style = \"text-align: right;\">18.353</td><td style = \"text-align: right;\">17.438</td><td style = \"text-align: right;\">17.023</td><td style = \"text-align: right;\">16.186</td><td style = \"text-align: right;\">15.476</td><td style = \"text-align: right;\">14.089</td><td style = \"text-align: right;\">&ctdot;</td></tr><tr><td class = \"rowNumber\" style = \"font-weight: bold; text-align: right;\">6</td><td style = \"text-align: left;\">H2259</td><td style = \"text-align: left;\">BXD24</td><td style = \"text-align: right;\">24</td><td style = \"text-align: right;\">11.837</td><td style = \"text-align: right;\">11.715</td><td style = \"text-align: right;\">17.57</td><td style = \"text-align: right;\">17.792</td><td style = \"text-align: right;\">17.505</td><td style = \"text-align: right;\">16.894</td><td style = \"text-align: right;\">16.277</td><td style = \"text-align: right;\">16.408</td><td style = \"text-align: right;\">16.127</td><td style = \"text-align: right;\">16.226</td><td style = \"text-align: right;\">15.512</td><td style = \"text-align: right;\">15.217</td><td style = \"text-align: right;\">14.936</td><td style = \"text-align: right;\">15.126</td><td style = \"text-align: right;\">15.137</td><td style = \"text-align: right;\">14.774</td><td style = \"text-align: right;\">14.909</td><td style = \"text-align: right;\">14.821</td><td style = \"text-align: right;\">14.443</td><td style = \"text-align: right;\">14.327</td><td style = \"text-align: right;\">13.977</td><td style = \"text-align: right;\">13.275</td><td style = \"text-align: right;\">13.467</td><td style = \"text-align: right;\">12.901</td><td style = \"text-align: right;\">12.17</td><td style = \"text-align: right;\">15.032</td><td style = \"text-align: right;\">14.423</td><td style = \"text-align: right;\">16.016</td><td style = \"text-align: right;\">14.499</td><td style = \"text-align: right;\">14.443</td><td style = \"text-align: right;\">14.15</td><td style = \"text-align: right;\">13.914</td><td style = \"text-align: right;\">11.629</td><td style = \"text-align: right;\">11.703</td><td style = \"text-align: right;\">14.199</td><td style = \"text-align: right;\">14.91</td><td style = \"text-align: right;\">13.119</td><td style = \"text-align: right;\">14.628</td><td style = \"text-align: right;\">14.397</td><td style = \"text-align: right;\">14.863</td><td style = \"text-align: right;\">15.049</td><td style = \"text-align: right;\">14.504</td><td style = \"text-align: right;\">13.994</td><td style = \"text-align: right;\">13.705</td><td style = \"text-align: right;\">14.438</td><td style = \"text-align: right;\">13.283</td><td style = \"text-align: right;\">14.034</td><td style = \"text-align: right;\">13.776</td><td style = \"text-align: right;\">13.369</td><td style = \"text-align: right;\">13.268</td><td style = \"text-align: right;\">13.169</td><td style = \"text-align: right;\">15.819</td><td style = \"text-align: right;\">16.623</td><td style = \"text-align: right;\">14.966</td><td style = \"text-align: right;\">15.085</td><td style = \"text-align: right;\">15.048</td><td style = \"text-align: right;\">14.508</td><td style = \"text-align: right;\">13.742</td><td style = \"text-align: right;\">14.183</td><td style = \"text-align: right;\">14.045</td><td style = \"text-align: right;\">12.944</td><td style = \"text-align: right;\">13.709</td><td style = \"text-align: right;\">13.951</td><td style = \"text-align: right;\">11.915</td><td style = \"text-align: right;\">12.226</td><td style = \"text-align: right;\">14.677</td><td style = \"text-align: right;\">14.584</td><td style = \"text-align: right;\">14.699</td><td style = \"text-align: right;\">13.069</td><td style = \"text-align: right;\">13.73</td><td style = \"text-align: right;\">13.668</td><td style = \"text-align: right;\">12.112</td><td style = \"text-align: right;\">14.754</td><td style = \"text-align: right;\">13.307</td><td style = \"text-align: right;\">16.1</td><td style = \"text-align: right;\">16.239</td><td style = \"text-align: right;\">16.072</td><td style = \"text-align: right;\">15.849</td><td style = \"text-align: right;\">15.743</td><td style = \"text-align: right;\">15.519</td><td style = \"text-align: right;\">15.132</td><td style = \"text-align: right;\">13.229</td><td style = \"text-align: right;\">12.628</td><td style = \"text-align: right;\">9.156</td><td style = \"text-align: right;\">13.72</td><td style = \"text-align: right;\">15.432</td><td style = \"text-align: right;\">15.469</td><td style = \"text-align: right;\">14.728</td><td style = \"text-align: right;\">13.421</td><td style = \"text-align: right;\">13.398</td><td style = \"text-align: right;\">14.013</td><td style = \"text-align: right;\">17.736</td><td style = \"text-align: right;\">17.088</td><td style = \"text-align: right;\">16.729</td><td style = \"text-align: right;\">16.112</td><td style = \"text-align: right;\">15.209</td><td style = \"text-align: right;\">13.971</td><td style = \"text-align: right;\">&ctdot;</td></tr></tbody></table></div>"
      ],
      "text/latex": [
       "\\begin{tabular}{r|ccccccc}\n",
       "\t& Sample & Strain & Strain\\_num & P42209\\_DESGLNRK\\_2 & P42209\\_GLRPLDVAFLR\\_3 & Q99M02\\_VGDPVYR\\_2 & \\\\\n",
       "\t\\hline\n",
       "\t& String7 & String7 & Int64 & Float64 & Float64 & Float64 & \\\\\n",
       "\t\\hline\n",
       "\t1 & H1009 & BXD9 & 9 & 11.349 & 11.534 & 17.587 & $\\dots$ \\\\\n",
       "\t2 & H0370 & BXD9 & 9 & 11.249 & 12.735 & 17.427 & $\\dots$ \\\\\n",
       "\t3 & H2577 & BXD9 & 9 & 12.415 & 10.487 & 17.89 & $\\dots$ \\\\\n",
       "\t4 & H0365 & BXD9 & 9 & 11.374 & 10.674 & 17.714 & $\\dots$ \\\\\n",
       "\t5 & H1333 & BXD13 & 13 & 11.687 & 11.524 & 17.362 & $\\dots$ \\\\\n",
       "\t6 & H2259 & BXD24 & 24 & 11.837 & 11.715 & 17.57 & $\\dots$ \\\\\n",
       "\\end{tabular}\n"
      ],
      "text/plain": [
       "\u001b[1m6×32448 DataFrame\u001b[0m\n",
       "\u001b[1m Row \u001b[0m│\u001b[1m Sample  \u001b[0m\u001b[1m Strain  \u001b[0m\u001b[1m Strain_num \u001b[0m\u001b[1m P42209_DESGLNRK_2 \u001b[0m\u001b[1m P42209_GLRPLDVAFLR_3 \u001b[0m\u001b[1m \u001b[0m ⋯\n",
       "     │\u001b[90m String7 \u001b[0m\u001b[90m String7 \u001b[0m\u001b[90m Int64      \u001b[0m\u001b[90m Float64           \u001b[0m\u001b[90m Float64              \u001b[0m\u001b[90m \u001b[0m ⋯\n",
       "─────┼──────────────────────────────────────────────────────────────────────────\n",
       "   1 │ H1009    BXD9              9             11.349                11.534   ⋯\n",
       "   2 │ H0370    BXD9              9             11.249                12.735\n",
       "   3 │ H2577    BXD9              9             12.415                10.487\n",
       "   4 │ H0365    BXD9              9             11.374                10.674\n",
       "   5 │ H1333    BXD13            13             11.687                11.524   ⋯\n",
       "   6 │ H2259    BXD24            24             11.837                11.715\n",
       "\u001b[36m                                                           32443 columns omitted\u001b[0m"
      ]
     },
     "execution_count": 52,
     "metadata": {},
     "output_type": "execute_result"
    }
   ],
   "source": [
    "BXD_pheno_ind_summary_df[1:6, :]"
   ]
  },
  {
   "cell_type": "code",
   "execution_count": 53,
   "id": "b377263f-5b06-48ce-b4cd-e190d1c61ef1",
   "metadata": {},
   "outputs": [
    {
     "data": {
      "text/html": [
       "<div><div style = \"float: left;\"><span>6×32447 DataFrame</span></div><div style = \"float: right;\"><span style = \"font-style: italic;\">32347 columns omitted</span></div><div style = \"clear: both;\"></div></div><div class = \"data-frame\" style = \"overflow-x: scroll;\"><table class = \"data-frame\" style = \"margin-bottom: 6px;\"><thead><tr class = \"header\"><th class = \"rowNumber\" style = \"font-weight: bold; text-align: right;\">Row</th><th style = \"text-align: left;\">Strain</th><th style = \"text-align: left;\">Number of Samples</th><th style = \"text-align: left;\">P42209_DESGLNRK_2</th><th style = \"text-align: left;\">P42209_GLRPLDVAFLR_3</th><th style = \"text-align: left;\">Q99M02_VGDPVYR_2</th><th style = \"text-align: left;\">Q99M02_VWIYPIK_2</th><th style = \"text-align: left;\">Q99M02_LCDPSVK_2</th><th style = \"text-align: left;\">Q99M02_CVLTTVDPDTGIIDR_2</th><th style = \"text-align: left;\">Q99M02_LVQFDTSMK_2</th><th style = \"text-align: left;\">Q99M02_QLQQVGTVSK_2</th><th style = \"text-align: left;\">Q99M02_KLYPSESYLQNYEVAYPDCSPVHLISEASLVDLNTR_4</th><th style = \"text-align: left;\">Q99M02_GRDCGDEVAQWFTNYLK_3</th><th style = \"text-align: left;\">Q99M02_SIYQSSPLFGMYFSVEK_2</th><th style = \"text-align: left;\">Q99M02_RQLQQVGTVSK_3</th><th style = \"text-align: left;\">Q99M02_LYPSESYLQNYEVAYPDCSPVHLISEASLVDLNTR_4</th><th style = \"text-align: left;\">Q99M02_KLYPSESYLQNYEVAYPDCSPVHLISEASLVDLNTR_5</th><th style = \"text-align: left;\">Q99M02_SIYQSSPLFGMYFSVEK_3</th><th style = \"text-align: left;\">Q99M02_CVLTTVDPDTGIIDRK_3</th><th style = \"text-align: left;\">Q99M02_CVLTTVDPDTGIIDR_3</th><th style = \"text-align: left;\">Q99M02_TQAYRLVQFDTSMK_3</th><th style = \"text-align: left;\">Q99M02_GVSVCETECTDMGLR_2</th><th style = \"text-align: left;\">Q99M02_DCGDEVAQWFTNYLK_2</th><th style = \"text-align: left;\">Q99M02_DRFWMVVK_2</th><th style = \"text-align: left;\">Q99M02_GRDCGDEVAQWFTNYLK_2</th><th style = \"text-align: left;\">Q99M02_DCGDEVAQWFTNYLK_3</th><th style = \"text-align: left;\">Q99M02_EDGHMVTAR_2</th><th style = \"text-align: left;\">Q99M02_RQLQQVGTVSK_2</th><th style = \"text-align: left;\">P42208_TIISYIDEQFER_2</th><th style = \"text-align: left;\">P42208_ILDEIEEHSIK_3</th><th style = \"text-align: left;\">P42208_VNIVPVIAK_2</th><th style = \"text-align: left;\">P42208_ASIPFSVVGSNQLIEAK_2</th><th style = \"text-align: left;\">P42208_TVQIEASTVEIEER_2</th><th style = \"text-align: left;\">P42208_LTVVDTPGYGDAINCR_2</th><th style = \"text-align: left;\">P42208_ASIPFSVVGSNQLIEAK_3</th><th style = \"text-align: left;\">P42208_STLINSLFLTDLYPER_3</th><th style = \"text-align: left;\">Q9Z1S5_VNIIPVIAK_2</th><th style = \"text-align: left;\">Q3KNM2_LGPVVYVLDLADR_2</th><th style = \"text-align: left;\">Q9Z2Q6_LATPEDKQDIDKQYVGFATLPNQVHR_4</th><th style = \"text-align: left;\">Q9Z2Q6_VNIVPILAK_2</th><th style = \"text-align: left;\">Q9R1T4_RNEFLGELQK_3</th><th style = \"text-align: left;\">Q9R1T4_STLMDTLFNTK_2</th><th style = \"text-align: left;\">O55131_STLINSLFLTDLYSPEYPGPSHR_3</th><th style = \"text-align: left;\">O55131_FEDYLNAESR_2</th><th style = \"text-align: left;\">O55131_IYEFPETDDEEENKLVK_3</th><th style = \"text-align: left;\">O55131_NLEGYVGFANLPNQVYR_2</th><th style = \"text-align: left;\">O55131_DVTNNVHYENYR_3</th><th style = \"text-align: left;\">O55131_ANWEAQQR_2</th><th style = \"text-align: left;\">O55131_NLEGYVGFANLPNQVYR_3</th><th style = \"text-align: left;\">O55131_ADTLTPEECQQFK_2</th><th style = \"text-align: left;\">O55131_ILEQQNSSR_2</th><th style = \"text-align: left;\">O55131_VQCCLYFIAPSGHGLKPLDIEFMK_4</th><th style = \"text-align: left;\">O55131_TVQVEQSK_2</th><th style = \"text-align: left;\">O55131_LKDSEAELQR_2</th><th style = \"text-align: left;\">Q8CHH9_VNIIPLIAK_2</th><th style = \"text-align: left;\">Q8CHH9_VNIIPIIAK_2</th><th style = \"text-align: left;\">Q80UG5_ADTLTLEER_2</th><th style = \"text-align: left;\">Q80UG5_STLINTLFK_2</th><th style = \"text-align: left;\">Q80UG5_RTEITIVKPQESVLR_4</th><th style = \"text-align: left;\">Q80UG5_DITSNIHFEAYR_3</th><th style = \"text-align: left;\">Q80UG5_LEPRPSVAEVPYR_3</th><th style = \"text-align: left;\">Q80UG5_FINDQYEK_2</th><th style = \"text-align: left;\">Q80UG5_YLQEEVNINR_2</th><th style = \"text-align: left;\">Q80UG5_VVNIVPVIAK_2</th><th style = \"text-align: left;\">Q80UG5_SITHDIEEK_2</th><th style = \"text-align: left;\">Q80UG5_IPEGSAVPATDAAPK_2</th><th style = \"text-align: left;\">Q80UG5_SVQPTSEER_2</th><th style = \"text-align: left;\">Q80UG5_QVESTASAAGPSR_2</th><th style = \"text-align: left;\">Q8C1B7_FESDPATHNEPGVR_3</th><th style = \"text-align: left;\">Q8C1B7_SYELQESNVR_2</th><th style = \"text-align: left;\">Q8C1B7_NLSLSGHVGFDSLPDQLVNK_3</th><th style = \"text-align: left;\">Q8C1B7_AAAQLLQSQAQQSGAQQTK_3</th><th style = \"text-align: left;\">Q8C1B7_ELEEEVSNFQK_2</th><th style = \"text-align: left;\">Q9ERR7_WNTDSVEEFLSEK_2</th><th style = \"text-align: left;\">Q9ERR7_LLDDNGNIAEELSILK_2</th><th style = \"text-align: left;\">Q9ERY9_YLEAEPVSR_2</th><th style = \"text-align: left;\">P59708_ITAEEMYDIFGK_2</th><th style = \"text-align: left;\">Q9DCS2_CLDSIAATTR_2</th><th style = \"text-align: left;\">Q9DCS2_ISPQSNVDFDLTLR_2</th><th style = \"text-align: left;\">Q9DCS2_VLEVASGSGQHAAHFAQAFPNAEWQPSDVDQR_4</th><th style = \"text-align: left;\">Q9DCS2_QYVDPAQR_2</th><th style = \"text-align: left;\">Q9DCS2_NKEPILSVLR_2</th><th style = \"text-align: left;\">Q9DCS2_AQGLSNVK_2</th><th style = \"text-align: left;\">Q9DCS2_VLEVASGSGQHAAHFAQAFPNAEWQPSDVDQR_5</th><th style = \"text-align: left;\">Q9DCS2_MVDMPANNK_2</th><th style = \"text-align: left;\">Q9DCS2_DTVLLEELGQASGLVLER_3</th><th style = \"text-align: left;\">Q9DCS2_DTVLLEELGQASGLVLER_2</th><th style = \"text-align: left;\">Q9JHJ3_LLHTADVCQLEVALVGASPR_3</th><th style = \"text-align: left;\">A2A8E1_TIVEFECR_2</th><th style = \"text-align: left;\">A2A8E1_ATLENVTNLRPVGEDFR_3</th><th style = \"text-align: left;\">A2A8E1_ENSIDILSSTIK_2</th><th style = \"text-align: left;\">A2A8E1_AQESVGIFEVTHQFVK_3</th><th style = \"text-align: left;\">Q8BWR2_GLAYGLYLR_2</th><th style = \"text-align: left;\">Q8VED9_IQTLSAIDTIK_2</th><th style = \"text-align: left;\">Q9CRB3_LFFDTER_2</th><th style = \"text-align: left;\">Q9CRB3_FHVPLLLSPWSYTTYR_3</th><th style = \"text-align: left;\">Q9CRB3_TSYTNLDGR_2</th><th style = \"text-align: left;\">Q9CRB3_LEAPCQQWMELR_2</th><th style = \"text-align: left;\">Q9CRB3_CPGLLTPSQIKPGTYK_3</th><th style = \"text-align: left;\">Q9CRB3_LEAPCQQWMELR_3</th><th style = \"text-align: left;\">Q9CRB3_CPGLLTPSQIKPGTYK_2</th><th style = \"text-align: right;\">&ctdot;</th></tr><tr class = \"subheader headerLastRow\"><th class = \"rowNumber\" style = \"font-weight: bold; text-align: right;\"></th><th title = \"String7\" style = \"text-align: left;\">String7</th><th title = \"Int64\" style = \"text-align: left;\">Int64</th><th title = \"Float64\" style = \"text-align: left;\">Float64</th><th title = \"Float64\" style = \"text-align: left;\">Float64</th><th title = \"Float64\" style = \"text-align: left;\">Float64</th><th title = \"Float64\" style = \"text-align: left;\">Float64</th><th title = \"Float64\" style = \"text-align: left;\">Float64</th><th title = \"Float64\" style = \"text-align: left;\">Float64</th><th title = \"Float64\" style = \"text-align: left;\">Float64</th><th title = \"Float64\" style = \"text-align: left;\">Float64</th><th title = \"Float64\" style = \"text-align: left;\">Float64</th><th title = \"Float64\" style = \"text-align: left;\">Float64</th><th title = \"Float64\" style = \"text-align: left;\">Float64</th><th title = \"Float64\" style = \"text-align: left;\">Float64</th><th title = \"Float64\" style = \"text-align: left;\">Float64</th><th title = \"Float64\" style = \"text-align: left;\">Float64</th><th title = \"Float64\" style = \"text-align: left;\">Float64</th><th title = \"Float64\" style = \"text-align: left;\">Float64</th><th title = \"Float64\" style = \"text-align: left;\">Float64</th><th title = \"Float64\" style = \"text-align: left;\">Float64</th><th title = \"Float64\" style = \"text-align: left;\">Float64</th><th title = \"Float64\" style = \"text-align: left;\">Float64</th><th title = \"Float64\" style = \"text-align: left;\">Float64</th><th title = \"Float64\" style = \"text-align: left;\">Float64</th><th title = \"Float64\" style = \"text-align: left;\">Float64</th><th title = \"Float64\" style = \"text-align: left;\">Float64</th><th title = \"Float64\" style = \"text-align: left;\">Float64</th><th title = \"Float64\" style = \"text-align: left;\">Float64</th><th title = \"Float64\" style = \"text-align: left;\">Float64</th><th title = \"Float64\" style = \"text-align: left;\">Float64</th><th title = \"Float64\" style = \"text-align: left;\">Float64</th><th title = \"Float64\" style = \"text-align: left;\">Float64</th><th title = \"Float64\" style = \"text-align: left;\">Float64</th><th title = \"Float64\" style = \"text-align: left;\">Float64</th><th title = \"Float64\" style = \"text-align: left;\">Float64</th><th title = \"Float64\" style = \"text-align: left;\">Float64</th><th title = \"Float64\" style = \"text-align: left;\">Float64</th><th title = \"Float64\" style = \"text-align: left;\">Float64</th><th title = \"Float64\" style = \"text-align: left;\">Float64</th><th title = \"Float64\" style = \"text-align: left;\">Float64</th><th title = \"Float64\" style = \"text-align: left;\">Float64</th><th title = \"Float64\" style = \"text-align: left;\">Float64</th><th title = \"Float64\" style = \"text-align: left;\">Float64</th><th title = \"Float64\" style = \"text-align: left;\">Float64</th><th title = \"Float64\" style = \"text-align: left;\">Float64</th><th title = \"Float64\" style = \"text-align: left;\">Float64</th><th title = \"Float64\" style = \"text-align: left;\">Float64</th><th title = \"Float64\" style = \"text-align: left;\">Float64</th><th title = \"Float64\" style = \"text-align: left;\">Float64</th><th title = \"Float64\" style = \"text-align: left;\">Float64</th><th title = \"Float64\" style = \"text-align: left;\">Float64</th><th title = \"Float64\" style = \"text-align: left;\">Float64</th><th title = \"Float64\" style = \"text-align: left;\">Float64</th><th title = \"Float64\" style = \"text-align: left;\">Float64</th><th title = \"Float64\" style = \"text-align: left;\">Float64</th><th title = \"Float64\" style = \"text-align: left;\">Float64</th><th title = \"Float64\" style = \"text-align: left;\">Float64</th><th title = \"Float64\" style = \"text-align: left;\">Float64</th><th title = \"Float64\" style = \"text-align: left;\">Float64</th><th title = \"Float64\" style = \"text-align: left;\">Float64</th><th title = \"Float64\" style = \"text-align: left;\">Float64</th><th title = \"Float64\" style = \"text-align: left;\">Float64</th><th title = \"Float64\" style = \"text-align: left;\">Float64</th><th title = \"Float64\" style = \"text-align: left;\">Float64</th><th title = \"Float64\" style = \"text-align: left;\">Float64</th><th title = \"Float64\" style = \"text-align: left;\">Float64</th><th title = \"Float64\" style = \"text-align: left;\">Float64</th><th title = \"Float64\" style = \"text-align: left;\">Float64</th><th title = \"Float64\" style = \"text-align: left;\">Float64</th><th title = \"Float64\" style = \"text-align: left;\">Float64</th><th title = \"Float64\" style = \"text-align: left;\">Float64</th><th title = \"Float64\" style = \"text-align: left;\">Float64</th><th title = \"Float64\" style = \"text-align: left;\">Float64</th><th title = \"Float64\" style = \"text-align: left;\">Float64</th><th title = \"Float64\" style = \"text-align: left;\">Float64</th><th title = \"Float64\" style = \"text-align: left;\">Float64</th><th title = \"Float64\" style = \"text-align: left;\">Float64</th><th title = \"Float64\" style = \"text-align: left;\">Float64</th><th title = \"Float64\" style = \"text-align: left;\">Float64</th><th title = \"Float64\" style = \"text-align: left;\">Float64</th><th title = \"Float64\" style = \"text-align: left;\">Float64</th><th title = \"Float64\" style = \"text-align: left;\">Float64</th><th title = \"Float64\" style = \"text-align: left;\">Float64</th><th title = \"Float64\" style = \"text-align: left;\">Float64</th><th title = \"Float64\" style = \"text-align: left;\">Float64</th><th title = \"Float64\" style = \"text-align: left;\">Float64</th><th title = \"Float64\" style = \"text-align: left;\">Float64</th><th title = \"Float64\" style = \"text-align: left;\">Float64</th><th title = \"Float64\" style = \"text-align: left;\">Float64</th><th title = \"Float64\" style = \"text-align: left;\">Float64</th><th title = \"Float64\" style = \"text-align: left;\">Float64</th><th title = \"Float64\" style = \"text-align: left;\">Float64</th><th title = \"Float64\" style = \"text-align: left;\">Float64</th><th title = \"Float64\" style = \"text-align: left;\">Float64</th><th title = \"Float64\" style = \"text-align: left;\">Float64</th><th title = \"Float64\" style = \"text-align: left;\">Float64</th><th title = \"Float64\" style = \"text-align: left;\">Float64</th><th title = \"Float64\" style = \"text-align: left;\">Float64</th><th title = \"Float64\" style = \"text-align: left;\">Float64</th><th title = \"Float64\" style = \"text-align: left;\">Float64</th><th title = \"Float64\" style = \"text-align: right;\">&ctdot;</th></tr></thead><tbody><tr><td class = \"rowNumber\" style = \"font-weight: bold; text-align: right;\">1</td><td style = \"text-align: left;\">BXD9</td><td style = \"text-align: right;\">4</td><td style = \"text-align: right;\">11.5968</td><td style = \"text-align: right;\">11.3575</td><td style = \"text-align: right;\">17.6545</td><td style = \"text-align: right;\">17.4327</td><td style = \"text-align: right;\">17.384</td><td style = \"text-align: right;\">16.6528</td><td style = \"text-align: right;\">16.2222</td><td style = \"text-align: right;\">16.3227</td><td style = \"text-align: right;\">16.1728</td><td style = \"text-align: right;\">15.9748</td><td style = \"text-align: right;\">15.389</td><td style = \"text-align: right;\">15.5355</td><td style = \"text-align: right;\">15.2248</td><td style = \"text-align: right;\">15.0568</td><td style = \"text-align: right;\">14.8253</td><td style = \"text-align: right;\">14.9138</td><td style = \"text-align: right;\">14.701</td><td style = \"text-align: right;\">14.4827</td><td style = \"text-align: right;\">14.435</td><td style = \"text-align: right;\">14.1852</td><td style = \"text-align: right;\">14.181</td><td style = \"text-align: right;\">13.767</td><td style = \"text-align: right;\">12.6575</td><td style = \"text-align: right;\">13.0293</td><td style = \"text-align: right;\">12.1615</td><td style = \"text-align: right;\">14.4335</td><td style = \"text-align: right;\">14.329</td><td style = \"text-align: right;\">13.121</td><td style = \"text-align: right;\">13.7155</td><td style = \"text-align: right;\">13.792</td><td style = \"text-align: right;\">13.6792</td><td style = \"text-align: right;\">13.588</td><td style = \"text-align: right;\">10.4722</td><td style = \"text-align: right;\">10.8012</td><td style = \"text-align: right;\">14.4032</td><td style = \"text-align: right;\">15.1105</td><td style = \"text-align: right;\">12.296</td><td style = \"text-align: right;\">13.9857</td><td style = \"text-align: right;\">13.5813</td><td style = \"text-align: right;\">14.4152</td><td style = \"text-align: right;\">14.314</td><td style = \"text-align: right;\">14.0682</td><td style = \"text-align: right;\">14.0802</td><td style = \"text-align: right;\">14.0095</td><td style = \"text-align: right;\">14.2483</td><td style = \"text-align: right;\">13.491</td><td style = \"text-align: right;\">13.2422</td><td style = \"text-align: right;\">13.0218</td><td style = \"text-align: right;\">13.1207</td><td style = \"text-align: right;\">12.596</td><td style = \"text-align: right;\">12.545</td><td style = \"text-align: right;\">15.0785</td><td style = \"text-align: right;\">14.098</td><td style = \"text-align: right;\">14.998</td><td style = \"text-align: right;\">14.2985</td><td style = \"text-align: right;\">14.5045</td><td style = \"text-align: right;\">14.4415</td><td style = \"text-align: right;\">14.059</td><td style = \"text-align: right;\">13.7245</td><td style = \"text-align: right;\">13.7157</td><td style = \"text-align: right;\">13.0465</td><td style = \"text-align: right;\">13.9132</td><td style = \"text-align: right;\">12.589</td><td style = \"text-align: right;\">12.211</td><td style = \"text-align: right;\">11.2688</td><td style = \"text-align: right;\">13.8725</td><td style = \"text-align: right;\">13.8287</td><td style = \"text-align: right;\">13.6202</td><td style = \"text-align: right;\">13.7073</td><td style = \"text-align: right;\">13.2155</td><td style = \"text-align: right;\">13.211</td><td style = \"text-align: right;\">12.4328</td><td style = \"text-align: right;\">14.7125</td><td style = \"text-align: right;\">13.2955</td><td style = \"text-align: right;\">16.292</td><td style = \"text-align: right;\">16.3242</td><td style = \"text-align: right;\">16.059</td><td style = \"text-align: right;\">15.9615</td><td style = \"text-align: right;\">15.9207</td><td style = \"text-align: right;\">15.8298</td><td style = \"text-align: right;\">14.756</td><td style = \"text-align: right;\">13.4055</td><td style = \"text-align: right;\">10.155</td><td style = \"text-align: right;\">10.0538</td><td style = \"text-align: right;\">13.8277</td><td style = \"text-align: right;\">15.0023</td><td style = \"text-align: right;\">14.9838</td><td style = \"text-align: right;\">14.7153</td><td style = \"text-align: right;\">13.053</td><td style = \"text-align: right;\">13.0248</td><td style = \"text-align: right;\">13.3317</td><td style = \"text-align: right;\">18.24</td><td style = \"text-align: right;\">17.0547</td><td style = \"text-align: right;\">17.0873</td><td style = \"text-align: right;\">16.1775</td><td style = \"text-align: right;\">15.6133</td><td style = \"text-align: right;\">14.0457</td><td style = \"text-align: right;\">13.528</td><td style = \"text-align: right;\">&ctdot;</td></tr><tr><td class = \"rowNumber\" style = \"font-weight: bold; text-align: right;\">2</td><td style = \"text-align: left;\">BXD13</td><td style = \"text-align: right;\">1</td><td style = \"text-align: right;\">11.687</td><td style = \"text-align: right;\">11.524</td><td style = \"text-align: right;\">17.362</td><td style = \"text-align: right;\">17.367</td><td style = \"text-align: right;\">17.071</td><td style = \"text-align: right;\">16.465</td><td style = \"text-align: right;\">15.97</td><td style = \"text-align: right;\">15.98</td><td style = \"text-align: right;\">16.108</td><td style = \"text-align: right;\">15.938</td><td style = \"text-align: right;\">15.541</td><td style = \"text-align: right;\">15.121</td><td style = \"text-align: right;\">14.971</td><td style = \"text-align: right;\">14.903</td><td style = \"text-align: right;\">14.859</td><td style = \"text-align: right;\">14.664</td><td style = \"text-align: right;\">14.504</td><td style = \"text-align: right;\">14.407</td><td style = \"text-align: right;\">13.969</td><td style = \"text-align: right;\">14.8</td><td style = \"text-align: right;\">14.137</td><td style = \"text-align: right;\">13.564</td><td style = \"text-align: right;\">12.76</td><td style = \"text-align: right;\">12.675</td><td style = \"text-align: right;\">10.73</td><td style = \"text-align: right;\">14.177</td><td style = \"text-align: right;\">14.387</td><td style = \"text-align: right;\">14.163</td><td style = \"text-align: right;\">14.263</td><td style = \"text-align: right;\">14.137</td><td style = \"text-align: right;\">13.716</td><td style = \"text-align: right;\">13.914</td><td style = \"text-align: right;\">10.33</td><td style = \"text-align: right;\">12.509</td><td style = \"text-align: right;\">14.681</td><td style = \"text-align: right;\">15.291</td><td style = \"text-align: right;\">12.428</td><td style = \"text-align: right;\">13.724</td><td style = \"text-align: right;\">13.942</td><td style = \"text-align: right;\">14.533</td><td style = \"text-align: right;\">14.243</td><td style = \"text-align: right;\">14.28</td><td style = \"text-align: right;\">14.347</td><td style = \"text-align: right;\">14.401</td><td style = \"text-align: right;\">13.624</td><td style = \"text-align: right;\">13.771</td><td style = \"text-align: right;\">13.424</td><td style = \"text-align: right;\">13.562</td><td style = \"text-align: right;\">13.38</td><td style = \"text-align: right;\">12.794</td><td style = \"text-align: right;\">12.361</td><td style = \"text-align: right;\">15.332</td><td style = \"text-align: right;\">14.932</td><td style = \"text-align: right;\">14.845</td><td style = \"text-align: right;\">15.077</td><td style = \"text-align: right;\">14.859</td><td style = \"text-align: right;\">14.384</td><td style = \"text-align: right;\">14.296</td><td style = \"text-align: right;\">13.806</td><td style = \"text-align: right;\">14.147</td><td style = \"text-align: right;\">13.204</td><td style = \"text-align: right;\">13.585</td><td style = \"text-align: right;\">13.129</td><td style = \"text-align: right;\">12.163</td><td style = \"text-align: right;\">8.345</td><td style = \"text-align: right;\">14.16</td><td style = \"text-align: right;\">13.969</td><td style = \"text-align: right;\">14.061</td><td style = \"text-align: right;\">13.865</td><td style = \"text-align: right;\">13.096</td><td style = \"text-align: right;\">13.459</td><td style = \"text-align: right;\">12.487</td><td style = \"text-align: right;\">14.692</td><td style = \"text-align: right;\">13.804</td><td style = \"text-align: right;\">16.059</td><td style = \"text-align: right;\">16.074</td><td style = \"text-align: right;\">16.011</td><td style = \"text-align: right;\">15.545</td><td style = \"text-align: right;\">15.406</td><td style = \"text-align: right;\">15.51</td><td style = \"text-align: right;\">14.934</td><td style = \"text-align: right;\">13.014</td><td style = \"text-align: right;\">12.128</td><td style = \"text-align: right;\">10.242</td><td style = \"text-align: right;\">14.031</td><td style = \"text-align: right;\">14.619</td><td style = \"text-align: right;\">14.694</td><td style = \"text-align: right;\">14.367</td><td style = \"text-align: right;\">13.109</td><td style = \"text-align: right;\">12.496</td><td style = \"text-align: right;\">13.936</td><td style = \"text-align: right;\">18.353</td><td style = \"text-align: right;\">17.438</td><td style = \"text-align: right;\">17.023</td><td style = \"text-align: right;\">16.186</td><td style = \"text-align: right;\">15.476</td><td style = \"text-align: right;\">14.089</td><td style = \"text-align: right;\">13.59</td><td style = \"text-align: right;\">&ctdot;</td></tr><tr><td class = \"rowNumber\" style = \"font-weight: bold; text-align: right;\">3</td><td style = \"text-align: left;\">BXD24</td><td style = \"text-align: right;\">5</td><td style = \"text-align: right;\">12.0778</td><td style = \"text-align: right;\">11.7458</td><td style = \"text-align: right;\">17.7926</td><td style = \"text-align: right;\">17.8152</td><td style = \"text-align: right;\">17.5168</td><td style = \"text-align: right;\">16.9196</td><td style = \"text-align: right;\">16.3012</td><td style = \"text-align: right;\">16.4304</td><td style = \"text-align: right;\">16.4046</td><td style = \"text-align: right;\">16.198</td><td style = \"text-align: right;\">15.7484</td><td style = \"text-align: right;\">15.4766</td><td style = \"text-align: right;\">15.5122</td><td style = \"text-align: right;\">15.3378</td><td style = \"text-align: right;\">15.1678</td><td style = \"text-align: right;\">14.9602</td><td style = \"text-align: right;\">14.7964</td><td style = \"text-align: right;\">14.6034</td><td style = \"text-align: right;\">14.4538</td><td style = \"text-align: right;\">14.553</td><td style = \"text-align: right;\">14.1074</td><td style = \"text-align: right;\">13.4392</td><td style = \"text-align: right;\">13.4314</td><td style = \"text-align: right;\">12.8272</td><td style = \"text-align: right;\">12.076</td><td style = \"text-align: right;\">14.622</td><td style = \"text-align: right;\">14.2248</td><td style = \"text-align: right;\">14.2662</td><td style = \"text-align: right;\">13.7822</td><td style = \"text-align: right;\">14.082</td><td style = \"text-align: right;\">13.8986</td><td style = \"text-align: right;\">13.7788</td><td style = \"text-align: right;\">10.639</td><td style = \"text-align: right;\">10.9026</td><td style = \"text-align: right;\">14.6066</td><td style = \"text-align: right;\">15.3112</td><td style = \"text-align: right;\">12.8476</td><td style = \"text-align: right;\">14.1936</td><td style = \"text-align: right;\">13.8788</td><td style = \"text-align: right;\">14.5368</td><td style = \"text-align: right;\">14.5982</td><td style = \"text-align: right;\">14.1958</td><td style = \"text-align: right;\">14.0398</td><td style = \"text-align: right;\">14.0304</td><td style = \"text-align: right;\">14.1092</td><td style = \"text-align: right;\">13.5726</td><td style = \"text-align: right;\">13.493</td><td style = \"text-align: right;\">13.4714</td><td style = \"text-align: right;\">13.094</td><td style = \"text-align: right;\">12.8576</td><td style = \"text-align: right;\">12.6106</td><td style = \"text-align: right;\">15.381</td><td style = \"text-align: right;\">15.13</td><td style = \"text-align: right;\">14.7966</td><td style = \"text-align: right;\">14.7886</td><td style = \"text-align: right;\">14.807</td><td style = \"text-align: right;\">14.5512</td><td style = \"text-align: right;\">14.0154</td><td style = \"text-align: right;\">13.8298</td><td style = \"text-align: right;\">13.8532</td><td style = \"text-align: right;\">13.3786</td><td style = \"text-align: right;\">13.6128</td><td style = \"text-align: right;\">12.7878</td><td style = \"text-align: right;\">12.1732</td><td style = \"text-align: right;\">11.5004</td><td style = \"text-align: right;\">14.199</td><td style = \"text-align: right;\">14.1752</td><td style = \"text-align: right;\">14.03</td><td style = \"text-align: right;\">13.5106</td><td style = \"text-align: right;\">13.0432</td><td style = \"text-align: right;\">13.4558</td><td style = \"text-align: right;\">12.2262</td><td style = \"text-align: right;\">14.6826</td><td style = \"text-align: right;\">13.3648</td><td style = \"text-align: right;\">16.119</td><td style = \"text-align: right;\">16.1756</td><td style = \"text-align: right;\">16.024</td><td style = \"text-align: right;\">15.7366</td><td style = \"text-align: right;\">15.5866</td><td style = \"text-align: right;\">15.5456</td><td style = \"text-align: right;\">14.7516</td><td style = \"text-align: right;\">13.1946</td><td style = \"text-align: right;\">12.2582</td><td style = \"text-align: right;\">9.51</td><td style = \"text-align: right;\">13.862</td><td style = \"text-align: right;\">15.1892</td><td style = \"text-align: right;\">15.1918</td><td style = \"text-align: right;\">14.6118</td><td style = \"text-align: right;\">13.2002</td><td style = \"text-align: right;\">13.1128</td><td style = \"text-align: right;\">13.6436</td><td style = \"text-align: right;\">18.0574</td><td style = \"text-align: right;\">16.9206</td><td style = \"text-align: right;\">16.9398</td><td style = \"text-align: right;\">16.1706</td><td style = \"text-align: right;\">15.4332</td><td style = \"text-align: right;\">14.1424</td><td style = \"text-align: right;\">13.2646</td><td style = \"text-align: right;\">&ctdot;</td></tr><tr><td class = \"rowNumber\" style = \"font-weight: bold; text-align: right;\">4</td><td style = \"text-align: left;\">BXD27</td><td style = \"text-align: right;\">3</td><td style = \"text-align: right;\">11.717</td><td style = \"text-align: right;\">11.149</td><td style = \"text-align: right;\">17.336</td><td style = \"text-align: right;\">17.3143</td><td style = \"text-align: right;\">17.165</td><td style = \"text-align: right;\">16.5283</td><td style = \"text-align: right;\">15.9407</td><td style = \"text-align: right;\">16.002</td><td style = \"text-align: right;\">15.835</td><td style = \"text-align: right;\">15.6853</td><td style = \"text-align: right;\">15.393</td><td style = \"text-align: right;\">15.2167</td><td style = \"text-align: right;\">14.949</td><td style = \"text-align: right;\">15.1823</td><td style = \"text-align: right;\">14.6633</td><td style = \"text-align: right;\">14.868</td><td style = \"text-align: right;\">14.3793</td><td style = \"text-align: right;\">14.2423</td><td style = \"text-align: right;\">13.8173</td><td style = \"text-align: right;\">14.148</td><td style = \"text-align: right;\">14.0913</td><td style = \"text-align: right;\">13.4913</td><td style = \"text-align: right;\">12.6937</td><td style = \"text-align: right;\">12.1197</td><td style = \"text-align: right;\">11.027</td><td style = \"text-align: right;\">14.52</td><td style = \"text-align: right;\">14.422</td><td style = \"text-align: right;\">14.1073</td><td style = \"text-align: right;\">13.619</td><td style = \"text-align: right;\">13.63</td><td style = \"text-align: right;\">13.6857</td><td style = \"text-align: right;\">13.611</td><td style = \"text-align: right;\">9.32133</td><td style = \"text-align: right;\">11.7763</td><td style = \"text-align: right;\">14.571</td><td style = \"text-align: right;\">15.3837</td><td style = \"text-align: right;\">12.784</td><td style = \"text-align: right;\">14.6323</td><td style = \"text-align: right;\">13.7723</td><td style = \"text-align: right;\">14.1757</td><td style = \"text-align: right;\">14.3563</td><td style = \"text-align: right;\">14.211</td><td style = \"text-align: right;\">14.0903</td><td style = \"text-align: right;\">14.1083</td><td style = \"text-align: right;\">14.071</td><td style = \"text-align: right;\">13.6597</td><td style = \"text-align: right;\">13.4197</td><td style = \"text-align: right;\">13.5897</td><td style = \"text-align: right;\">12.8537</td><td style = \"text-align: right;\">12.67</td><td style = \"text-align: right;\">12.1583</td><td style = \"text-align: right;\">15.2177</td><td style = \"text-align: right;\">14.5537</td><td style = \"text-align: right;\">14.891</td><td style = \"text-align: right;\">14.2777</td><td style = \"text-align: right;\">14.77</td><td style = \"text-align: right;\">14.5403</td><td style = \"text-align: right;\">14.3283</td><td style = \"text-align: right;\">13.8783</td><td style = \"text-align: right;\">13.4637</td><td style = \"text-align: right;\">13.6553</td><td style = \"text-align: right;\">13.646</td><td style = \"text-align: right;\">13.0073</td><td style = \"text-align: right;\">11.9843</td><td style = \"text-align: right;\">10.2057</td><td style = \"text-align: right;\">13.9873</td><td style = \"text-align: right;\">14.092</td><td style = \"text-align: right;\">13.784</td><td style = \"text-align: right;\">13.8003</td><td style = \"text-align: right;\">13.3137</td><td style = \"text-align: right;\">13.387</td><td style = \"text-align: right;\">12.7673</td><td style = \"text-align: right;\">15.2597</td><td style = \"text-align: right;\">13.5233</td><td style = \"text-align: right;\">16.011</td><td style = \"text-align: right;\">15.8713</td><td style = \"text-align: right;\">15.713</td><td style = \"text-align: right;\">15.4403</td><td style = \"text-align: right;\">15.3543</td><td style = \"text-align: right;\">15.4597</td><td style = \"text-align: right;\">14.6077</td><td style = \"text-align: right;\">13.0793</td><td style = \"text-align: right;\">9.956</td><td style = \"text-align: right;\">12.3407</td><td style = \"text-align: right;\">14.0577</td><td style = \"text-align: right;\">15.1457</td><td style = \"text-align: right;\">14.8357</td><td style = \"text-align: right;\">14.668</td><td style = \"text-align: right;\">13.2197</td><td style = \"text-align: right;\">13.157</td><td style = \"text-align: right;\">13.5327</td><td style = \"text-align: right;\">18.2297</td><td style = \"text-align: right;\">17.1547</td><td style = \"text-align: right;\">17.0423</td><td style = \"text-align: right;\">16.064</td><td style = \"text-align: right;\">15.5357</td><td style = \"text-align: right;\">13.8793</td><td style = \"text-align: right;\">13.3773</td><td style = \"text-align: right;\">&ctdot;</td></tr><tr><td class = \"rowNumber\" style = \"font-weight: bold; text-align: right;\">5</td><td style = \"text-align: left;\">BXD29</td><td style = \"text-align: right;\">11</td><td style = \"text-align: right;\">11.735</td><td style = \"text-align: right;\">11.3496</td><td style = \"text-align: right;\">17.4583</td><td style = \"text-align: right;\">17.3877</td><td style = \"text-align: right;\">17.2431</td><td style = \"text-align: right;\">16.4945</td><td style = \"text-align: right;\">16.0869</td><td style = \"text-align: right;\">16.1075</td><td style = \"text-align: right;\">16.1212</td><td style = \"text-align: right;\">15.8937</td><td style = \"text-align: right;\">15.684</td><td style = \"text-align: right;\">15.409</td><td style = \"text-align: right;\">15.1916</td><td style = \"text-align: right;\">15.0053</td><td style = \"text-align: right;\">14.9666</td><td style = \"text-align: right;\">14.8633</td><td style = \"text-align: right;\">14.366</td><td style = \"text-align: right;\">14.1128</td><td style = \"text-align: right;\">14.2439</td><td style = \"text-align: right;\">14.1931</td><td style = \"text-align: right;\">14.2505</td><td style = \"text-align: right;\">13.3711</td><td style = \"text-align: right;\">12.8908</td><td style = \"text-align: right;\">12.7607</td><td style = \"text-align: right;\">11.6908</td><td style = \"text-align: right;\">14.8308</td><td style = \"text-align: right;\">14.5071</td><td style = \"text-align: right;\">14.7158</td><td style = \"text-align: right;\">14.162</td><td style = \"text-align: right;\">14.1477</td><td style = \"text-align: right;\">13.9994</td><td style = \"text-align: right;\">13.7841</td><td style = \"text-align: right;\">10.4076</td><td style = \"text-align: right;\">12.3381</td><td style = \"text-align: right;\">14.5445</td><td style = \"text-align: right;\">15.2115</td><td style = \"text-align: right;\">12.7209</td><td style = \"text-align: right;\">14.4564</td><td style = \"text-align: right;\">13.9601</td><td style = \"text-align: right;\">14.6675</td><td style = \"text-align: right;\">14.5868</td><td style = \"text-align: right;\">14.3356</td><td style = \"text-align: right;\">14.1672</td><td style = \"text-align: right;\">13.8776</td><td style = \"text-align: right;\">14.0893</td><td style = \"text-align: right;\">13.8332</td><td style = \"text-align: right;\">13.7339</td><td style = \"text-align: right;\">13.7212</td><td style = \"text-align: right;\">13.3905</td><td style = \"text-align: right;\">13.2016</td><td style = \"text-align: right;\">12.9025</td><td style = \"text-align: right;\">15.5145</td><td style = \"text-align: right;\">15.5719</td><td style = \"text-align: right;\">15.0056</td><td style = \"text-align: right;\">14.7801</td><td style = \"text-align: right;\">14.7173</td><td style = \"text-align: right;\">14.6183</td><td style = \"text-align: right;\">14.4813</td><td style = \"text-align: right;\">13.9296</td><td style = \"text-align: right;\">13.8006</td><td style = \"text-align: right;\">13.8925</td><td style = \"text-align: right;\">13.7307</td><td style = \"text-align: right;\">13.5148</td><td style = \"text-align: right;\">11.9401</td><td style = \"text-align: right;\">12.2295</td><td style = \"text-align: right;\">14.2733</td><td style = \"text-align: right;\">14.176</td><td style = \"text-align: right;\">13.8756</td><td style = \"text-align: right;\">13.7707</td><td style = \"text-align: right;\">13.242</td><td style = \"text-align: right;\">13.3123</td><td style = \"text-align: right;\">12.4464</td><td style = \"text-align: right;\">14.7318</td><td style = \"text-align: right;\">13.3787</td><td style = \"text-align: right;\">16.1553</td><td style = \"text-align: right;\">16.1705</td><td style = \"text-align: right;\">16.0135</td><td style = \"text-align: right;\">15.6993</td><td style = \"text-align: right;\">15.6559</td><td style = \"text-align: right;\">15.5867</td><td style = \"text-align: right;\">14.7852</td><td style = \"text-align: right;\">13.3675</td><td style = \"text-align: right;\">10.3002</td><td style = \"text-align: right;\">10.162</td><td style = \"text-align: right;\">13.7972</td><td style = \"text-align: right;\">14.8815</td><td style = \"text-align: right;\">14.8505</td><td style = \"text-align: right;\">14.4068</td><td style = \"text-align: right;\">12.7473</td><td style = \"text-align: right;\">12.9053</td><td style = \"text-align: right;\">13.4953</td><td style = \"text-align: right;\">18.0303</td><td style = \"text-align: right;\">17.222</td><td style = \"text-align: right;\">16.9341</td><td style = \"text-align: right;\">16.1497</td><td style = \"text-align: right;\">15.5033</td><td style = \"text-align: right;\">14.0375</td><td style = \"text-align: right;\">13.3467</td><td style = \"text-align: right;\">&ctdot;</td></tr><tr><td class = \"rowNumber\" style = \"font-weight: bold; text-align: right;\">6</td><td style = \"text-align: left;\">BXD32</td><td style = \"text-align: right;\">8</td><td style = \"text-align: right;\">11.6266</td><td style = \"text-align: right;\">11.554</td><td style = \"text-align: right;\">17.8254</td><td style = \"text-align: right;\">17.7716</td><td style = \"text-align: right;\">17.4639</td><td style = \"text-align: right;\">16.9029</td><td style = \"text-align: right;\">16.434</td><td style = \"text-align: right;\">16.425</td><td style = \"text-align: right;\">16.3785</td><td style = \"text-align: right;\">16.1801</td><td style = \"text-align: right;\">15.552</td><td style = \"text-align: right;\">15.7024</td><td style = \"text-align: right;\">15.5084</td><td style = \"text-align: right;\">15.1917</td><td style = \"text-align: right;\">15.122</td><td style = \"text-align: right;\">15.0381</td><td style = \"text-align: right;\">14.8614</td><td style = \"text-align: right;\">14.5611</td><td style = \"text-align: right;\">14.601</td><td style = \"text-align: right;\">14.5976</td><td style = \"text-align: right;\">14.445</td><td style = \"text-align: right;\">13.5466</td><td style = \"text-align: right;\">13.1775</td><td style = \"text-align: right;\">12.8655</td><td style = \"text-align: right;\">12.3601</td><td style = \"text-align: right;\">14.5995</td><td style = \"text-align: right;\">14.4216</td><td style = \"text-align: right;\">14.2189</td><td style = \"text-align: right;\">13.8381</td><td style = \"text-align: right;\">13.7746</td><td style = \"text-align: right;\">13.8859</td><td style = \"text-align: right;\">13.709</td><td style = \"text-align: right;\">10.2306</td><td style = \"text-align: right;\">11.1946</td><td style = \"text-align: right;\">14.3859</td><td style = \"text-align: right;\">15.4081</td><td style = \"text-align: right;\">12.6895</td><td style = \"text-align: right;\">14.3795</td><td style = \"text-align: right;\">13.9581</td><td style = \"text-align: right;\">14.4554</td><td style = \"text-align: right;\">14.5031</td><td style = \"text-align: right;\">14.2995</td><td style = \"text-align: right;\">14.0696</td><td style = \"text-align: right;\">14.1139</td><td style = \"text-align: right;\">14.0496</td><td style = \"text-align: right;\">13.7116</td><td style = \"text-align: right;\">13.4935</td><td style = \"text-align: right;\">13.3465</td><td style = \"text-align: right;\">13.2482</td><td style = \"text-align: right;\">12.8716</td><td style = \"text-align: right;\">12.738</td><td style = \"text-align: right;\">15.2785</td><td style = \"text-align: right;\">14.7681</td><td style = \"text-align: right;\">14.885</td><td style = \"text-align: right;\">14.4642</td><td style = \"text-align: right;\">14.4146</td><td style = \"text-align: right;\">14.4585</td><td style = \"text-align: right;\">14.039</td><td style = \"text-align: right;\">13.8499</td><td style = \"text-align: right;\">13.7484</td><td style = \"text-align: right;\">13.6994</td><td style = \"text-align: right;\">13.5931</td><td style = \"text-align: right;\">12.8803</td><td style = \"text-align: right;\">11.9216</td><td style = \"text-align: right;\">11.2298</td><td style = \"text-align: right;\">14.3098</td><td style = \"text-align: right;\">14.1794</td><td style = \"text-align: right;\">14.0259</td><td style = \"text-align: right;\">13.8049</td><td style = \"text-align: right;\">13.1902</td><td style = \"text-align: right;\">13.3515</td><td style = \"text-align: right;\">12.6331</td><td style = \"text-align: right;\">14.8286</td><td style = \"text-align: right;\">13.2711</td><td style = \"text-align: right;\">15.7947</td><td style = \"text-align: right;\">15.729</td><td style = \"text-align: right;\">15.5913</td><td style = \"text-align: right;\">15.2536</td><td style = \"text-align: right;\">15.2625</td><td style = \"text-align: right;\">15.2375</td><td style = \"text-align: right;\">14.5699</td><td style = \"text-align: right;\">12.9751</td><td style = \"text-align: right;\">11.6832</td><td style = \"text-align: right;\">9.80775</td><td style = \"text-align: right;\">13.8344</td><td style = \"text-align: right;\">15.1399</td><td style = \"text-align: right;\">14.9749</td><td style = \"text-align: right;\">14.6185</td><td style = \"text-align: right;\">13.0956</td><td style = \"text-align: right;\">13.0355</td><td style = \"text-align: right;\">13.8955</td><td style = \"text-align: right;\">18.2956</td><td style = \"text-align: right;\">16.9094</td><td style = \"text-align: right;\">17.091</td><td style = \"text-align: right;\">16.3139</td><td style = \"text-align: right;\">15.5746</td><td style = \"text-align: right;\">14.2024</td><td style = \"text-align: right;\">13.4624</td><td style = \"text-align: right;\">&ctdot;</td></tr></tbody></table></div>"
      ],
      "text/latex": [
       "\\begin{tabular}{r|cccccc}\n",
       "\t& Strain & Number of Samples & P42209\\_DESGLNRK\\_2 & P42209\\_GLRPLDVAFLR\\_3 & Q99M02\\_VGDPVYR\\_2 & \\\\\n",
       "\t\\hline\n",
       "\t& String7 & Int64 & Float64 & Float64 & Float64 & \\\\\n",
       "\t\\hline\n",
       "\t1 & BXD9 & 4 & 11.5968 & 11.3575 & 17.6545 & $\\dots$ \\\\\n",
       "\t2 & BXD13 & 1 & 11.687 & 11.524 & 17.362 & $\\dots$ \\\\\n",
       "\t3 & BXD24 & 5 & 12.0778 & 11.7458 & 17.7926 & $\\dots$ \\\\\n",
       "\t4 & BXD27 & 3 & 11.717 & 11.149 & 17.336 & $\\dots$ \\\\\n",
       "\t5 & BXD29 & 11 & 11.735 & 11.3496 & 17.4583 & $\\dots$ \\\\\n",
       "\t6 & BXD32 & 8 & 11.6266 & 11.554 & 17.8254 & $\\dots$ \\\\\n",
       "\\end{tabular}\n"
      ],
      "text/plain": [
       "\u001b[1m6×32447 DataFrame\u001b[0m\n",
       "\u001b[1m Row \u001b[0m│\u001b[1m Strain  \u001b[0m\u001b[1m Number of Samples \u001b[0m\u001b[1m P42209_DESGLNRK_2 \u001b[0m\u001b[1m P42209_GLRPLDVAFLR_3 \u001b[0m\u001b[1m Q9\u001b[0m ⋯\n",
       "     │\u001b[90m String7 \u001b[0m\u001b[90m Int64             \u001b[0m\u001b[90m Float64           \u001b[0m\u001b[90m Float64              \u001b[0m\u001b[90m Fl\u001b[0m ⋯\n",
       "─────┼──────────────────────────────────────────────────────────────────────────\n",
       "   1 │ BXD9                     4            11.5968               11.3575     ⋯\n",
       "   2 │ BXD13                    1            11.687                11.524\n",
       "   3 │ BXD24                    5            12.0778               11.7458\n",
       "   4 │ BXD27                    3            11.717                11.149\n",
       "   5 │ BXD29                   11            11.735                11.3496     ⋯\n",
       "   6 │ BXD32                    8            11.6266               11.554\n",
       "\u001b[36m                                                           32443 columns omitted\u001b[0m"
      ]
     },
     "execution_count": 53,
     "metadata": {},
     "output_type": "execute_result"
    }
   ],
   "source": [
    "BXD_pheno_strains_summary_df[1:6, :]"
   ]
  },
  {
   "cell_type": "code",
   "execution_count": 54,
   "id": "465a5506-0ac0-4057-a196-c41a57b49b73",
   "metadata": {},
   "outputs": [],
   "source": [
    "# weights_true = float.(1.0 ./BXD_pheno_strains_summary_df[:, 2]);\n",
    "weights_true = sqrt.(BXD_pheno_strains_summary_df[:, 2]);"
   ]
  },
  {
   "cell_type": "code",
   "execution_count": 55,
   "id": "1d5cd959-919b-4ef4-82c4-13b02104f76d",
   "metadata": {},
   "outputs": [
    {
     "name": "stdout",
     "output_type": "stream",
     "text": [
      "  0.270717 seconds (624.45 k allocations: 66.189 MiB, 82.62% compilation time)\n"
     ]
    }
   ],
   "source": [
    "@time lod_from_pkg = scan(lpst_strains_y, geno_strains, kinship_strains;\n",
    "                          weights = weights_true,\n",
    "                          prior_variance = prior[1], prior_sample_size = prior[2]);"
   ]
  },
  {
   "cell_type": "code",
   "execution_count": 56,
   "id": "751cc1dd-e209-45c9-a8ec-144e83612427",
   "metadata": {},
   "outputs": [
    {
     "data": {
      "text/plain": [
       "10-element Vector{Float64}:\n",
       " 0.44542169852154756\n",
       " 0.44542169852154756\n",
       " 0.44542169852154756\n",
       " 0.44542169852154756\n",
       " 0.44542169852154756\n",
       " 0.44542169852154756\n",
       " 0.44542169852154756\n",
       " 0.44542169852154756\n",
       " 0.44542169852154756\n",
       " 0.44542169852154756"
      ]
     },
     "execution_count": 56,
     "metadata": {},
     "output_type": "execute_result"
    }
   ],
   "source": [
    "lod_from_pkg.lod[1:10]"
   ]
  },
  {
   "cell_type": "code",
   "execution_count": 57,
   "id": "8055deb9-d794-4447-b784-a5384c854499",
   "metadata": {},
   "outputs": [
    {
     "data": {
      "text/plain": [
       "10-element Vector{Float64}:\n",
       " 0.44542169852154756\n",
       " 0.44542169852154756\n",
       " 0.44542169852154756\n",
       " 0.44542169852154756\n",
       " 0.44542169852154756\n",
       " 0.44542169852154756\n",
       " 0.44542169852154756\n",
       " 0.44542169852154756\n",
       " 0.44542169852154756\n",
       " 0.44542169852154756"
      ]
     },
     "execution_count": 57,
     "metadata": {},
     "output_type": "execute_result"
    }
   ],
   "source": [
    "lod_from_pkg.lod[1:10]"
   ]
  },
  {
   "cell_type": "code",
   "execution_count": 58,
   "id": "07d71104-6b77-4632-a949-508ba4e494a8",
   "metadata": {},
   "outputs": [],
   "source": [
    "lpst_strains_y_test = rowMultiply(lpst_strains_y, weights_true);\n",
    "geno_strains_test = rowMultiply(geno_strains, weights_true);\n",
    "covar_strains_test = rowMultiply(ones(50, 1), weights_true);\n",
    "# kinship_strains_test = rowMultiply(kinship_strains, weights_true);"
   ]
  },
  {
   "cell_type": "code",
   "execution_count": 59,
   "id": "87c7b93b-1b8e-4c37-8b39-ceff05e68458",
   "metadata": {},
   "outputs": [],
   "source": [
    "test_W = rowMultiply(kinship_strains, weights_true);"
   ]
  },
  {
   "cell_type": "code",
   "execution_count": 60,
   "id": "c379c311-7a3f-432d-89d3-acbefb542881",
   "metadata": {},
   "outputs": [],
   "source": [
    "test_K = rowMultiply(permutedims(test_W), weights_true);"
   ]
  },
  {
   "cell_type": "code",
   "execution_count": 61,
   "id": "7584bd11-3a6c-4b7d-aa77-70b4ef1b5bc2",
   "metadata": {},
   "outputs": [],
   "source": [
    "lod_by_hand = scan(lpst_strains_y_test, geno_strains_test, covar_strains_test, test_K;\n",
    "                   addIntercept = false, \n",
    "                   prior_variance = prior[1], prior_sample_size = prior[2]);"
   ]
  },
  {
   "cell_type": "code",
   "execution_count": 62,
   "id": "0ae33b05-9e20-4a00-9bdc-812d61de9a5a",
   "metadata": {},
   "outputs": [
    {
     "data": {
      "text/plain": [
       "9.867273226049633e-6"
      ]
     },
     "execution_count": 62,
     "metadata": {},
     "output_type": "execute_result"
    }
   ],
   "source": [
    "sum(abs.(lod_by_hand.lod .- lod_from_pkg.lod))"
   ]
  },
  {
   "cell_type": "code",
   "execution_count": 63,
   "id": "5bbe2f8c-c370-42bc-a363-4ff83ba99d75",
   "metadata": {},
   "outputs": [
    {
     "data": {
      "text/plain": [
       "29437"
      ]
     },
     "execution_count": 63,
     "metadata": {},
     "output_type": "execute_result"
    }
   ],
   "source": [
    "lp_id"
   ]
  },
  {
   "cell_type": "code",
   "execution_count": 64,
   "id": "226e7f69-19a9-4ef5-b0e6-e8e77f364b07",
   "metadata": {},
   "outputs": [
    {
     "data": {
      "text/plain": [
       "\"Q9Z2I8_SSGLPITSAVDLEDAAK_3\""
      ]
     },
     "execution_count": 64,
     "metadata": {},
     "output_type": "execute_result"
    }
   ],
   "source": [
    "lp_names[lp_id]"
   ]
  },
  {
   "cell_type": "markdown",
   "id": "66b656a3-339a-4d83-8211-4c5a18e13346",
   "metadata": {},
   "source": [
    "### Test:"
   ]
  },
  {
   "cell_type": "code",
   "execution_count": 65,
   "id": "27712117-401e-4325-a0a6-35c57d6d8b57",
   "metadata": {},
   "outputs": [
    {
     "data": {
      "text/plain": [
       "29437"
      ]
     },
     "execution_count": 65,
     "metadata": {},
     "output_type": "execute_result"
    }
   ],
   "source": [
    "lp_id = 29437"
   ]
  },
  {
   "cell_type": "code",
   "execution_count": 66,
   "id": "175dbf84-aefc-4cb8-9b98-8fecd023ae8b",
   "metadata": {},
   "outputs": [
    {
     "data": {
      "text/plain": [
       "2"
      ]
     },
     "execution_count": 66,
     "metadata": {},
     "output_type": "execute_result"
    }
   ],
   "source": [
    "lp_id = 2"
   ]
  },
  {
   "cell_type": "code",
   "execution_count": 67,
   "id": "954011ab-aa4e-40ff-a3dc-4d3f85c6dd5c",
   "metadata": {},
   "outputs": [],
   "source": [
    "lpst_strains_y = reshape(lpst_strains_Y[:, lp_id], :, 1);"
   ]
  },
  {
   "cell_type": "code",
   "execution_count": 68,
   "id": "d0c33c19-8f5d-463c-adb2-061b934dde1e",
   "metadata": {},
   "outputs": [
    {
     "data": {
      "text/plain": [
       "2-element Vector{Float64}:\n",
       " 1.0\n",
       " 0.0"
      ]
     },
     "execution_count": 68,
     "metadata": {},
     "output_type": "execute_result"
    }
   ],
   "source": [
    "prior = [1.0, 0.0]"
   ]
  },
  {
   "cell_type": "code",
   "execution_count": 69,
   "id": "a4cbc8d3-7882-41ec-8131-9c3e7de4277f",
   "metadata": {},
   "outputs": [],
   "source": [
    "grid_list = collect(0:99).*0.01;"
   ]
  },
  {
   "cell_type": "code",
   "execution_count": 208,
   "id": "7da4a5cc-b56b-4bb8-b492-7d32377152c1",
   "metadata": {},
   "outputs": [
    {
     "name": "stdout",
     "output_type": "stream",
     "text": [
      "Loglik plot: \n"
     ]
    },
    {
     "data": {
      "image/svg+xml": [
       "<?xml version=\"1.0\" encoding=\"utf-8\"?>\n",
       "<svg xmlns=\"http://www.w3.org/2000/svg\" xmlns:xlink=\"http://www.w3.org/1999/xlink\" width=\"600\" height=\"400\" viewBox=\"0 0 2400 1600\">\n",
       "<defs>\n",
       "  <clipPath id=\"clip700\">\n",
       "    <rect x=\"0\" y=\"0\" width=\"2400\" height=\"1600\"/>\n",
       "  </clipPath>\n",
       "</defs>\n",
       "<path clip-path=\"url(#clip700)\" d=\"\n",
       "M0 1600 L2400 1600 L2400 0 L0 0  Z\n",
       "  \" fill=\"#ffffff\" fill-rule=\"evenodd\" fill-opacity=\"1\"/>\n",
       "<defs>\n",
       "  <clipPath id=\"clip701\">\n",
       "    <rect x=\"480\" y=\"0\" width=\"1681\" height=\"1600\"/>\n",
       "  </clipPath>\n",
       "</defs>\n",
       "<path clip-path=\"url(#clip700)\" d=\"\n",
       "M242.135 1423.18 L2352.76 1423.18 L2352.76 47.2441 L242.135 47.2441  Z\n",
       "  \" fill=\"#ffffff\" fill-rule=\"evenodd\" fill-opacity=\"1\"/>\n",
       "<defs>\n",
       "  <clipPath id=\"clip702\">\n",
       "    <rect x=\"242\" y=\"47\" width=\"2112\" height=\"1377\"/>\n",
       "  </clipPath>\n",
       "</defs>\n",
       "<polyline clip-path=\"url(#clip702)\" style=\"stroke:#000000; stroke-linecap:round; stroke-linejoin:round; stroke-width:2; stroke-opacity:0.1; fill:none\" points=\"\n",
       "  338.072,1423.18 338.072,47.2441 \n",
       "  \"/>\n",
       "<polyline clip-path=\"url(#clip702)\" style=\"stroke:#000000; stroke-linecap:round; stroke-linejoin:round; stroke-width:2; stroke-opacity:0.1; fill:none\" points=\"\n",
       "  817.759,1423.18 817.759,47.2441 \n",
       "  \"/>\n",
       "<polyline clip-path=\"url(#clip702)\" style=\"stroke:#000000; stroke-linecap:round; stroke-linejoin:round; stroke-width:2; stroke-opacity:0.1; fill:none\" points=\"\n",
       "  1297.45,1423.18 1297.45,47.2441 \n",
       "  \"/>\n",
       "<polyline clip-path=\"url(#clip702)\" style=\"stroke:#000000; stroke-linecap:round; stroke-linejoin:round; stroke-width:2; stroke-opacity:0.1; fill:none\" points=\"\n",
       "  1777.13,1423.18 1777.13,47.2441 \n",
       "  \"/>\n",
       "<polyline clip-path=\"url(#clip702)\" style=\"stroke:#000000; stroke-linecap:round; stroke-linejoin:round; stroke-width:2; stroke-opacity:0.1; fill:none\" points=\"\n",
       "  2256.82,1423.18 2256.82,47.2441 \n",
       "  \"/>\n",
       "<polyline clip-path=\"url(#clip700)\" style=\"stroke:#000000; stroke-linecap:round; stroke-linejoin:round; stroke-width:4; stroke-opacity:1; fill:none\" points=\"\n",
       "  242.135,1423.18 2352.76,1423.18 \n",
       "  \"/>\n",
       "<polyline clip-path=\"url(#clip700)\" style=\"stroke:#000000; stroke-linecap:round; stroke-linejoin:round; stroke-width:4; stroke-opacity:1; fill:none\" points=\"\n",
       "  338.072,1423.18 338.072,1404.28 \n",
       "  \"/>\n",
       "<polyline clip-path=\"url(#clip700)\" style=\"stroke:#000000; stroke-linecap:round; stroke-linejoin:round; stroke-width:4; stroke-opacity:1; fill:none\" points=\"\n",
       "  817.759,1423.18 817.759,1404.28 \n",
       "  \"/>\n",
       "<polyline clip-path=\"url(#clip700)\" style=\"stroke:#000000; stroke-linecap:round; stroke-linejoin:round; stroke-width:4; stroke-opacity:1; fill:none\" points=\"\n",
       "  1297.45,1423.18 1297.45,1404.28 \n",
       "  \"/>\n",
       "<polyline clip-path=\"url(#clip700)\" style=\"stroke:#000000; stroke-linecap:round; stroke-linejoin:round; stroke-width:4; stroke-opacity:1; fill:none\" points=\"\n",
       "  1777.13,1423.18 1777.13,1404.28 \n",
       "  \"/>\n",
       "<polyline clip-path=\"url(#clip700)\" style=\"stroke:#000000; stroke-linecap:round; stroke-linejoin:round; stroke-width:4; stroke-opacity:1; fill:none\" points=\"\n",
       "  2256.82,1423.18 2256.82,1404.28 \n",
       "  \"/>\n",
       "<path clip-path=\"url(#clip700)\" d=\"M300.375 1454.1 Q296.764 1454.1 294.936 1457.66 Q293.13 1461.2 293.13 1468.33 Q293.13 1475.44 294.936 1479.01 Q296.764 1482.55 300.375 1482.55 Q304.01 1482.55 305.815 1479.01 Q307.644 1475.44 307.644 1468.33 Q307.644 1461.2 305.815 1457.66 Q304.01 1454.1 300.375 1454.1 M300.375 1450.39 Q306.186 1450.39 309.241 1455 Q312.32 1459.58 312.32 1468.33 Q312.32 1477.06 309.241 1481.67 Q306.186 1486.25 300.375 1486.25 Q294.565 1486.25 291.487 1481.67 Q288.431 1477.06 288.431 1468.33 Q288.431 1459.58 291.487 1455 Q294.565 1450.39 300.375 1450.39 Z\" fill=\"#000000\" fill-rule=\"evenodd\" fill-opacity=\"1\" /><path clip-path=\"url(#clip700)\" d=\"M320.537 1479.7 L325.422 1479.7 L325.422 1485.58 L320.537 1485.58 L320.537 1479.7 Z\" fill=\"#000000\" fill-rule=\"evenodd\" fill-opacity=\"1\" /><path clip-path=\"url(#clip700)\" d=\"M345.607 1454.1 Q341.996 1454.1 340.167 1457.66 Q338.361 1461.2 338.361 1468.33 Q338.361 1475.44 340.167 1479.01 Q341.996 1482.55 345.607 1482.55 Q349.241 1482.55 351.046 1479.01 Q352.875 1475.44 352.875 1468.33 Q352.875 1461.2 351.046 1457.66 Q349.241 1454.1 345.607 1454.1 M345.607 1450.39 Q351.417 1450.39 354.472 1455 Q357.551 1459.58 357.551 1468.33 Q357.551 1477.06 354.472 1481.67 Q351.417 1486.25 345.607 1486.25 Q339.797 1486.25 336.718 1481.67 Q333.662 1477.06 333.662 1468.33 Q333.662 1459.58 336.718 1455 Q339.797 1450.39 345.607 1450.39 Z\" fill=\"#000000\" fill-rule=\"evenodd\" fill-opacity=\"1\" /><path clip-path=\"url(#clip700)\" d=\"M375.769 1454.1 Q372.157 1454.1 370.329 1457.66 Q368.523 1461.2 368.523 1468.33 Q368.523 1475.44 370.329 1479.01 Q372.157 1482.55 375.769 1482.55 Q379.403 1482.55 381.208 1479.01 Q383.037 1475.44 383.037 1468.33 Q383.037 1461.2 381.208 1457.66 Q379.403 1454.1 375.769 1454.1 M375.769 1450.39 Q381.579 1450.39 384.634 1455 Q387.713 1459.58 387.713 1468.33 Q387.713 1477.06 384.634 1481.67 Q381.579 1486.25 375.769 1486.25 Q369.958 1486.25 366.88 1481.67 Q363.824 1477.06 363.824 1468.33 Q363.824 1459.58 366.88 1455 Q369.958 1450.39 375.769 1450.39 Z\" fill=\"#000000\" fill-rule=\"evenodd\" fill-opacity=\"1\" /><path clip-path=\"url(#clip700)\" d=\"M780.56 1454.1 Q776.949 1454.1 775.12 1457.66 Q773.314 1461.2 773.314 1468.33 Q773.314 1475.44 775.12 1479.01 Q776.949 1482.55 780.56 1482.55 Q784.194 1482.55 786 1479.01 Q787.828 1475.44 787.828 1468.33 Q787.828 1461.2 786 1457.66 Q784.194 1454.1 780.56 1454.1 M780.56 1450.39 Q786.37 1450.39 789.425 1455 Q792.504 1459.58 792.504 1468.33 Q792.504 1477.06 789.425 1481.67 Q786.37 1486.25 780.56 1486.25 Q774.75 1486.25 771.671 1481.67 Q768.615 1477.06 768.615 1468.33 Q768.615 1459.58 771.671 1455 Q774.75 1450.39 780.56 1450.39 Z\" fill=\"#000000\" fill-rule=\"evenodd\" fill-opacity=\"1\" /><path clip-path=\"url(#clip700)\" d=\"M800.722 1479.7 L805.606 1479.7 L805.606 1485.58 L800.722 1485.58 L800.722 1479.7 Z\" fill=\"#000000\" fill-rule=\"evenodd\" fill-opacity=\"1\" /><path clip-path=\"url(#clip700)\" d=\"M819.819 1481.64 L836.138 1481.64 L836.138 1485.58 L814.194 1485.58 L814.194 1481.64 Q816.856 1478.89 821.439 1474.26 Q826.046 1469.61 827.226 1468.27 Q829.472 1465.74 830.351 1464.01 Q831.254 1462.25 831.254 1460.56 Q831.254 1457.8 829.31 1456.07 Q827.388 1454.33 824.286 1454.33 Q822.087 1454.33 819.634 1455.09 Q817.203 1455.86 814.425 1457.41 L814.425 1452.69 Q817.249 1451.55 819.703 1450.97 Q822.157 1450.39 824.194 1450.39 Q829.564 1450.39 832.759 1453.08 Q835.953 1455.77 835.953 1460.26 Q835.953 1462.39 835.143 1464.31 Q834.356 1466.2 832.249 1468.8 Q831.671 1469.47 828.569 1472.69 Q825.467 1475.88 819.819 1481.64 Z\" fill=\"#000000\" fill-rule=\"evenodd\" fill-opacity=\"1\" /><path clip-path=\"url(#clip700)\" d=\"M845.999 1451.02 L864.356 1451.02 L864.356 1454.96 L850.282 1454.96 L850.282 1463.43 Q851.3 1463.08 852.319 1462.92 Q853.337 1462.73 854.356 1462.73 Q860.143 1462.73 863.522 1465.9 Q866.902 1469.08 866.902 1474.49 Q866.902 1480.07 863.43 1483.17 Q859.957 1486.25 853.638 1486.25 Q851.462 1486.25 849.194 1485.88 Q846.948 1485.51 844.541 1484.77 L844.541 1480.07 Q846.624 1481.2 848.846 1481.76 Q851.069 1482.32 853.545 1482.32 Q857.55 1482.32 859.888 1480.21 Q862.226 1478.1 862.226 1474.49 Q862.226 1470.88 859.888 1468.77 Q857.55 1466.67 853.545 1466.67 Q851.67 1466.67 849.796 1467.08 Q847.944 1467.5 845.999 1468.38 L845.999 1451.02 Z\" fill=\"#000000\" fill-rule=\"evenodd\" fill-opacity=\"1\" /><path clip-path=\"url(#clip700)\" d=\"M1259.75 1454.1 Q1256.14 1454.1 1254.31 1457.66 Q1252.5 1461.2 1252.5 1468.33 Q1252.5 1475.44 1254.31 1479.01 Q1256.14 1482.55 1259.75 1482.55 Q1263.38 1482.55 1265.19 1479.01 Q1267.02 1475.44 1267.02 1468.33 Q1267.02 1461.2 1265.19 1457.66 Q1263.38 1454.1 1259.75 1454.1 M1259.75 1450.39 Q1265.56 1450.39 1268.61 1455 Q1271.69 1459.58 1271.69 1468.33 Q1271.69 1477.06 1268.61 1481.67 Q1265.56 1486.25 1259.75 1486.25 Q1253.94 1486.25 1250.86 1481.67 Q1247.8 1477.06 1247.8 1468.33 Q1247.8 1459.58 1250.86 1455 Q1253.94 1450.39 1259.75 1450.39 Z\" fill=\"#000000\" fill-rule=\"evenodd\" fill-opacity=\"1\" /><path clip-path=\"url(#clip700)\" d=\"M1279.91 1479.7 L1284.79 1479.7 L1284.79 1485.58 L1279.91 1485.58 L1279.91 1479.7 Z\" fill=\"#000000\" fill-rule=\"evenodd\" fill-opacity=\"1\" /><path clip-path=\"url(#clip700)\" d=\"M1295.03 1451.02 L1313.38 1451.02 L1313.38 1454.96 L1299.31 1454.96 L1299.31 1463.43 Q1300.33 1463.08 1301.35 1462.92 Q1302.36 1462.73 1303.38 1462.73 Q1309.17 1462.73 1312.55 1465.9 Q1315.93 1469.08 1315.93 1474.49 Q1315.93 1480.07 1312.46 1483.17 Q1308.98 1486.25 1302.67 1486.25 Q1300.49 1486.25 1298.22 1485.88 Q1295.98 1485.51 1293.57 1484.77 L1293.57 1480.07 Q1295.65 1481.2 1297.87 1481.76 Q1300.1 1482.32 1302.57 1482.32 Q1306.58 1482.32 1308.92 1480.21 Q1311.25 1478.1 1311.25 1474.49 Q1311.25 1470.88 1308.92 1468.77 Q1306.58 1466.67 1302.57 1466.67 Q1300.7 1466.67 1298.82 1467.08 Q1296.97 1467.5 1295.03 1468.38 L1295.03 1451.02 Z\" fill=\"#000000\" fill-rule=\"evenodd\" fill-opacity=\"1\" /><path clip-path=\"url(#clip700)\" d=\"M1335.14 1454.1 Q1331.53 1454.1 1329.7 1457.66 Q1327.9 1461.2 1327.9 1468.33 Q1327.9 1475.44 1329.7 1479.01 Q1331.53 1482.55 1335.14 1482.55 Q1338.78 1482.55 1340.58 1479.01 Q1342.41 1475.44 1342.41 1468.33 Q1342.41 1461.2 1340.58 1457.66 Q1338.78 1454.1 1335.14 1454.1 M1335.14 1450.39 Q1340.95 1450.39 1344.01 1455 Q1347.09 1459.58 1347.09 1468.33 Q1347.09 1477.06 1344.01 1481.67 Q1340.95 1486.25 1335.14 1486.25 Q1329.33 1486.25 1326.25 1481.67 Q1323.2 1477.06 1323.2 1468.33 Q1323.2 1459.58 1326.25 1455 Q1329.33 1450.39 1335.14 1450.39 Z\" fill=\"#000000\" fill-rule=\"evenodd\" fill-opacity=\"1\" /><path clip-path=\"url(#clip700)\" d=\"M1739.93 1454.1 Q1736.32 1454.1 1734.49 1457.66 Q1732.69 1461.2 1732.69 1468.33 Q1732.69 1475.44 1734.49 1479.01 Q1736.32 1482.55 1739.93 1482.55 Q1743.57 1482.55 1745.37 1479.01 Q1747.2 1475.44 1747.2 1468.33 Q1747.2 1461.2 1745.37 1457.66 Q1743.57 1454.1 1739.93 1454.1 M1739.93 1450.39 Q1745.74 1450.39 1748.8 1455 Q1751.88 1459.58 1751.88 1468.33 Q1751.88 1477.06 1748.8 1481.67 Q1745.74 1486.25 1739.93 1486.25 Q1734.12 1486.25 1731.04 1481.67 Q1727.99 1477.06 1727.99 1468.33 Q1727.99 1459.58 1731.04 1455 Q1734.12 1450.39 1739.93 1450.39 Z\" fill=\"#000000\" fill-rule=\"evenodd\" fill-opacity=\"1\" /><path clip-path=\"url(#clip700)\" d=\"M1760.09 1479.7 L1764.98 1479.7 L1764.98 1485.58 L1760.09 1485.58 L1760.09 1479.7 Z\" fill=\"#000000\" fill-rule=\"evenodd\" fill-opacity=\"1\" /><path clip-path=\"url(#clip700)\" d=\"M1773.98 1451.02 L1796.21 1451.02 L1796.21 1453.01 L1783.66 1485.58 L1778.78 1485.58 L1790.58 1454.96 L1773.98 1454.96 L1773.98 1451.02 Z\" fill=\"#000000\" fill-rule=\"evenodd\" fill-opacity=\"1\" /><path clip-path=\"url(#clip700)\" d=\"M1805.37 1451.02 L1823.73 1451.02 L1823.73 1454.96 L1809.65 1454.96 L1809.65 1463.43 Q1810.67 1463.08 1811.69 1462.92 Q1812.71 1462.73 1813.73 1462.73 Q1819.52 1462.73 1822.9 1465.9 Q1826.28 1469.08 1826.28 1474.49 Q1826.28 1480.07 1822.8 1483.17 Q1819.33 1486.25 1813.01 1486.25 Q1810.84 1486.25 1808.57 1485.88 Q1806.32 1485.51 1803.91 1484.77 L1803.91 1480.07 Q1806 1481.2 1808.22 1481.76 Q1810.44 1482.32 1812.92 1482.32 Q1816.92 1482.32 1819.26 1480.21 Q1821.6 1478.1 1821.6 1474.49 Q1821.6 1470.88 1819.26 1468.77 Q1816.92 1466.67 1812.92 1466.67 Q1811.04 1466.67 1809.17 1467.08 Q1807.32 1467.5 1805.37 1468.38 L1805.37 1451.02 Z\" fill=\"#000000\" fill-rule=\"evenodd\" fill-opacity=\"1\" /><path clip-path=\"url(#clip700)\" d=\"M2208.89 1481.64 L2216.53 1481.64 L2216.53 1455.28 L2208.22 1456.95 L2208.22 1452.69 L2216.48 1451.02 L2221.16 1451.02 L2221.16 1481.64 L2228.8 1481.64 L2228.8 1485.58 L2208.89 1485.58 L2208.89 1481.64 Z\" fill=\"#000000\" fill-rule=\"evenodd\" fill-opacity=\"1\" /><path clip-path=\"url(#clip700)\" d=\"M2238.24 1479.7 L2243.13 1479.7 L2243.13 1485.58 L2238.24 1485.58 L2238.24 1479.7 Z\" fill=\"#000000\" fill-rule=\"evenodd\" fill-opacity=\"1\" /><path clip-path=\"url(#clip700)\" d=\"M2263.31 1454.1 Q2259.7 1454.1 2257.87 1457.66 Q2256.07 1461.2 2256.07 1468.33 Q2256.07 1475.44 2257.87 1479.01 Q2259.7 1482.55 2263.31 1482.55 Q2266.95 1482.55 2268.75 1479.01 Q2270.58 1475.44 2270.58 1468.33 Q2270.58 1461.2 2268.75 1457.66 Q2266.95 1454.1 2263.31 1454.1 M2263.31 1450.39 Q2269.12 1450.39 2272.18 1455 Q2275.26 1459.58 2275.26 1468.33 Q2275.26 1477.06 2272.18 1481.67 Q2269.12 1486.25 2263.31 1486.25 Q2257.5 1486.25 2254.42 1481.67 Q2251.37 1477.06 2251.37 1468.33 Q2251.37 1459.58 2254.42 1455 Q2257.5 1450.39 2263.31 1450.39 Z\" fill=\"#000000\" fill-rule=\"evenodd\" fill-opacity=\"1\" /><path clip-path=\"url(#clip700)\" d=\"M2293.47 1454.1 Q2289.86 1454.1 2288.03 1457.66 Q2286.23 1461.2 2286.23 1468.33 Q2286.23 1475.44 2288.03 1479.01 Q2289.86 1482.55 2293.47 1482.55 Q2297.11 1482.55 2298.91 1479.01 Q2300.74 1475.44 2300.74 1468.33 Q2300.74 1461.2 2298.91 1457.66 Q2297.11 1454.1 2293.47 1454.1 M2293.47 1450.39 Q2299.28 1450.39 2302.34 1455 Q2305.42 1459.58 2305.42 1468.33 Q2305.42 1477.06 2302.34 1481.67 Q2299.28 1486.25 2293.47 1486.25 Q2287.66 1486.25 2284.58 1481.67 Q2281.53 1477.06 2281.53 1468.33 Q2281.53 1459.58 2284.58 1455 Q2287.66 1450.39 2293.47 1450.39 Z\" fill=\"#000000\" fill-rule=\"evenodd\" fill-opacity=\"1\" /><path clip-path=\"url(#clip700)\" d=\"M1292.13 1546.53 L1292.13 1568.04 L1286.27 1568.04 L1286.27 1546.72 Q1286.27 1541.66 1284.3 1539.14 Q1282.33 1536.63 1278.38 1536.63 Q1273.64 1536.63 1270.9 1539.65 Q1268.16 1542.68 1268.16 1547.9 L1268.16 1568.04 L1262.27 1568.04 L1262.27 1518.52 L1268.16 1518.52 L1268.16 1537.93 Q1270.26 1534.72 1273.1 1533.13 Q1275.96 1531.54 1279.68 1531.54 Q1285.83 1531.54 1288.98 1535.36 Q1292.13 1539.14 1292.13 1546.53 Z\" fill=\"#000000\" fill-rule=\"evenodd\" fill-opacity=\"1\" /><path clip-path=\"url(#clip700)\" d=\"M1310.18 1562.63 L1332.62 1562.63 L1332.62 1568.04 L1302.44 1568.04 L1302.44 1562.63 Q1306.1 1558.85 1312.4 1552.48 Q1318.74 1546.08 1320.36 1544.24 Q1323.45 1540.77 1324.66 1538.38 Q1325.9 1535.96 1325.9 1533.64 Q1325.9 1529.85 1323.23 1527.46 Q1320.58 1525.08 1316.32 1525.08 Q1313.3 1525.08 1309.92 1526.13 Q1306.58 1527.18 1302.76 1529.31 L1302.76 1522.82 Q1306.64 1521.26 1310.02 1520.46 Q1313.39 1519.66 1316.19 1519.66 Q1323.58 1519.66 1327.97 1523.36 Q1332.36 1527.05 1332.36 1533.22 Q1332.36 1536.15 1331.25 1538.79 Q1330.17 1541.4 1327.27 1544.97 Q1326.47 1545.89 1322.21 1550.32 Q1317.94 1554.71 1310.18 1562.63 Z\" fill=\"#000000\" fill-rule=\"evenodd\" fill-opacity=\"1\" /><polyline clip-path=\"url(#clip702)\" style=\"stroke:#000000; stroke-linecap:round; stroke-linejoin:round; stroke-width:2; stroke-opacity:0.1; fill:none\" points=\"\n",
       "  242.135,1420.89 2352.76,1420.89 \n",
       "  \"/>\n",
       "<polyline clip-path=\"url(#clip702)\" style=\"stroke:#000000; stroke-linecap:round; stroke-linejoin:round; stroke-width:2; stroke-opacity:0.1; fill:none\" points=\"\n",
       "  242.135,963.773 2352.76,963.773 \n",
       "  \"/>\n",
       "<polyline clip-path=\"url(#clip702)\" style=\"stroke:#000000; stroke-linecap:round; stroke-linejoin:round; stroke-width:2; stroke-opacity:0.1; fill:none\" points=\"\n",
       "  242.135,506.651 2352.76,506.651 \n",
       "  \"/>\n",
       "<polyline clip-path=\"url(#clip702)\" style=\"stroke:#000000; stroke-linecap:round; stroke-linejoin:round; stroke-width:2; stroke-opacity:0.1; fill:none\" points=\"\n",
       "  242.135,49.5297 2352.76,49.5297 \n",
       "  \"/>\n",
       "<polyline clip-path=\"url(#clip700)\" style=\"stroke:#000000; stroke-linecap:round; stroke-linejoin:round; stroke-width:4; stroke-opacity:1; fill:none\" points=\"\n",
       "  242.135,1423.18 242.135,47.2441 \n",
       "  \"/>\n",
       "<polyline clip-path=\"url(#clip700)\" style=\"stroke:#000000; stroke-linecap:round; stroke-linejoin:round; stroke-width:4; stroke-opacity:1; fill:none\" points=\"\n",
       "  242.135,1420.89 261.032,1420.89 \n",
       "  \"/>\n",
       "<polyline clip-path=\"url(#clip700)\" style=\"stroke:#000000; stroke-linecap:round; stroke-linejoin:round; stroke-width:4; stroke-opacity:1; fill:none\" points=\"\n",
       "  242.135,963.773 261.032,963.773 \n",
       "  \"/>\n",
       "<polyline clip-path=\"url(#clip700)\" style=\"stroke:#000000; stroke-linecap:round; stroke-linejoin:round; stroke-width:4; stroke-opacity:1; fill:none\" points=\"\n",
       "  242.135,506.651 261.032,506.651 \n",
       "  \"/>\n",
       "<polyline clip-path=\"url(#clip700)\" style=\"stroke:#000000; stroke-linecap:round; stroke-linejoin:round; stroke-width:4; stroke-opacity:1; fill:none\" points=\"\n",
       "  242.135,49.5297 261.032,49.5297 \n",
       "  \"/>\n",
       "<path clip-path=\"url(#clip700)\" d=\"M114.26 1421.35 L143.936 1421.35 L143.936 1425.28 L114.26 1425.28 L114.26 1421.35 Z\" fill=\"#000000\" fill-rule=\"evenodd\" fill-opacity=\"1\" /><path clip-path=\"url(#clip700)\" d=\"M168.195 1419.54 Q171.552 1420.26 173.427 1422.53 Q175.325 1424.79 175.325 1428.13 Q175.325 1433.24 171.806 1436.04 Q168.288 1438.85 161.806 1438.85 Q159.63 1438.85 157.315 1438.41 Q155.024 1437.99 152.57 1437.13 L152.57 1432.62 Q154.515 1433.75 156.829 1434.33 Q159.144 1434.91 161.667 1434.91 Q166.065 1434.91 168.357 1433.17 Q170.672 1431.44 170.672 1428.13 Q170.672 1425.07 168.519 1423.36 Q166.39 1421.62 162.57 1421.62 L158.542 1421.62 L158.542 1417.78 L162.755 1417.78 Q166.204 1417.78 168.033 1416.42 Q169.862 1415.03 169.862 1412.43 Q169.862 1409.77 167.964 1408.36 Q166.089 1406.92 162.57 1406.92 Q160.649 1406.92 158.45 1407.34 Q156.251 1407.76 153.612 1408.64 L153.612 1404.47 Q156.274 1403.73 158.589 1403.36 Q160.927 1402.99 162.987 1402.99 Q168.311 1402.99 171.413 1405.42 Q174.514 1407.83 174.514 1411.95 Q174.514 1414.82 172.871 1416.81 Q171.227 1418.78 168.195 1419.54 Z\" fill=\"#000000\" fill-rule=\"evenodd\" fill-opacity=\"1\" /><path clip-path=\"url(#clip700)\" d=\"M194.19 1406.69 Q190.579 1406.69 188.75 1410.26 Q186.945 1413.8 186.945 1420.93 Q186.945 1428.04 188.75 1431.6 Q190.579 1435.14 194.19 1435.14 Q197.825 1435.14 199.63 1431.6 Q201.459 1428.04 201.459 1420.93 Q201.459 1413.8 199.63 1410.26 Q197.825 1406.69 194.19 1406.69 M194.19 1402.99 Q200 1402.99 203.056 1407.6 Q206.135 1412.18 206.135 1420.93 Q206.135 1429.66 203.056 1434.26 Q200 1438.85 194.19 1438.85 Q188.38 1438.85 185.301 1434.26 Q182.246 1429.66 182.246 1420.93 Q182.246 1412.18 185.301 1407.6 Q188.38 1402.99 194.19 1402.99 Z\" fill=\"#000000\" fill-rule=\"evenodd\" fill-opacity=\"1\" /><path clip-path=\"url(#clip700)\" d=\"M114.26 964.224 L143.936 964.224 L143.936 968.159 L114.26 968.159 L114.26 964.224 Z\" fill=\"#000000\" fill-rule=\"evenodd\" fill-opacity=\"1\" /><path clip-path=\"url(#clip700)\" d=\"M158.056 977.118 L174.376 977.118 L174.376 981.053 L152.431 981.053 L152.431 977.118 Q155.093 974.363 159.677 969.733 Q164.283 965.081 165.464 963.738 Q167.709 961.215 168.589 959.479 Q169.491 957.72 169.491 956.03 Q169.491 953.275 167.547 951.539 Q165.626 949.803 162.524 949.803 Q160.325 949.803 157.871 950.567 Q155.44 951.331 152.663 952.882 L152.663 948.159 Q155.487 947.025 157.94 946.446 Q160.394 945.868 162.431 945.868 Q167.802 945.868 170.996 948.553 Q174.19 951.238 174.19 955.729 Q174.19 957.858 173.38 959.78 Q172.593 961.678 170.487 964.27 Q169.908 964.942 166.806 968.159 Q163.704 971.354 158.056 977.118 Z\" fill=\"#000000\" fill-rule=\"evenodd\" fill-opacity=\"1\" /><path clip-path=\"url(#clip700)\" d=\"M194.19 949.571 Q190.579 949.571 188.75 953.136 Q186.945 956.678 186.945 963.807 Q186.945 970.914 188.75 974.479 Q190.579 978.02 194.19 978.02 Q197.825 978.02 199.63 974.479 Q201.459 970.914 201.459 963.807 Q201.459 956.678 199.63 953.136 Q197.825 949.571 194.19 949.571 M194.19 945.868 Q200 945.868 203.056 950.474 Q206.135 955.057 206.135 963.807 Q206.135 972.534 203.056 977.141 Q200 981.724 194.19 981.724 Q188.38 981.724 185.301 977.141 Q182.246 972.534 182.246 963.807 Q182.246 955.057 185.301 950.474 Q188.38 945.868 194.19 945.868 Z\" fill=\"#000000\" fill-rule=\"evenodd\" fill-opacity=\"1\" /><path clip-path=\"url(#clip700)\" d=\"M114.26 507.103 L143.936 507.103 L143.936 511.038 L114.26 511.038 L114.26 507.103 Z\" fill=\"#000000\" fill-rule=\"evenodd\" fill-opacity=\"1\" /><path clip-path=\"url(#clip700)\" d=\"M154.839 519.996 L162.477 519.996 L162.477 493.63 L154.167 495.297 L154.167 491.038 L162.431 489.371 L167.107 489.371 L167.107 519.996 L174.746 519.996 L174.746 523.931 L154.839 523.931 L154.839 519.996 Z\" fill=\"#000000\" fill-rule=\"evenodd\" fill-opacity=\"1\" /><path clip-path=\"url(#clip700)\" d=\"M194.19 492.45 Q190.579 492.45 188.75 496.015 Q186.945 499.556 186.945 506.686 Q186.945 513.792 188.75 517.357 Q190.579 520.899 194.19 520.899 Q197.825 520.899 199.63 517.357 Q201.459 513.792 201.459 506.686 Q201.459 499.556 199.63 496.015 Q197.825 492.45 194.19 492.45 M194.19 488.746 Q200 488.746 203.056 493.353 Q206.135 497.936 206.135 506.686 Q206.135 515.413 203.056 520.019 Q200 524.603 194.19 524.603 Q188.38 524.603 185.301 520.019 Q182.246 515.413 182.246 506.686 Q182.246 497.936 185.301 493.353 Q188.38 488.746 194.19 488.746 Z\" fill=\"#000000\" fill-rule=\"evenodd\" fill-opacity=\"1\" /><path clip-path=\"url(#clip700)\" d=\"M194.19 35.3284 Q190.579 35.3284 188.75 38.8932 Q186.945 42.4348 186.945 49.5644 Q186.945 56.6709 188.75 60.2357 Q190.579 63.7773 194.19 63.7773 Q197.825 63.7773 199.63 60.2357 Q201.459 56.6709 201.459 49.5644 Q201.459 42.4348 199.63 38.8932 Q197.825 35.3284 194.19 35.3284 M194.19 31.6247 Q200 31.6247 203.056 36.2312 Q206.135 40.8145 206.135 49.5644 Q206.135 58.2912 203.056 62.8977 Q200 67.481 194.19 67.481 Q188.38 67.481 185.301 62.8977 Q182.246 58.2912 182.246 49.5644 Q182.246 40.8145 185.301 36.2312 Q188.38 31.6247 194.19 31.6247 Z\" fill=\"#000000\" fill-rule=\"evenodd\" fill-opacity=\"1\" /><path clip-path=\"url(#clip700)\" d=\"M14.479 818.714 L14.479 812.858 L64.0042 812.858 L64.0042 818.714 L14.479 818.714 Z\" fill=\"#000000\" fill-rule=\"evenodd\" fill-opacity=\"1\" /><path clip-path=\"url(#clip700)\" d=\"M32.4621 786.79 Q32.4621 791.501 36.1542 794.238 Q39.8145 796.975 46.212 796.975 Q52.6095 796.975 56.3017 794.27 Q59.9619 791.533 59.9619 786.79 Q59.9619 782.111 56.2698 779.374 Q52.5777 776.637 46.212 776.637 Q39.8781 776.637 36.186 779.374 Q32.4621 782.111 32.4621 786.79 M27.4968 786.79 Q27.4968 779.151 32.4621 774.791 Q37.4273 770.43 46.212 770.43 Q54.9649 770.43 59.9619 774.791 Q64.9272 779.151 64.9272 786.79 Q64.9272 794.461 59.9619 798.821 Q54.9649 803.15 46.212 803.15 Q37.4273 803.15 32.4621 798.821 Q27.4968 794.461 27.4968 786.79 Z\" fill=\"#000000\" fill-rule=\"evenodd\" fill-opacity=\"1\" /><path clip-path=\"url(#clip700)\" d=\"M45.7664 737.265 Q39.4007 737.265 35.8996 739.907 Q32.3984 742.517 32.3984 747.259 Q32.3984 751.97 35.8996 754.611 Q39.4007 757.221 45.7664 757.221 Q52.1003 757.221 55.6014 754.611 Q59.1026 751.97 59.1026 747.259 Q59.1026 742.517 55.6014 739.907 Q52.1003 737.265 45.7664 737.265 M59.58 731.408 Q68.683 731.408 73.1071 735.451 Q77.5631 739.493 77.5631 747.832 Q77.5631 750.919 77.0857 753.657 Q76.6401 756.394 75.6852 758.972 L69.9879 758.972 Q71.3884 756.394 72.0568 753.879 Q72.7252 751.365 72.7252 748.755 Q72.7252 742.994 69.7015 740.129 Q66.7096 737.265 60.6303 737.265 L57.7339 737.265 Q60.885 739.079 62.4446 741.912 Q64.0042 744.745 64.0042 748.691 Q64.0042 755.248 59.0071 759.258 Q54.01 763.269 45.7664 763.269 Q37.491 763.269 32.4939 759.258 Q27.4968 755.248 27.4968 748.691 Q27.4968 744.745 29.0564 741.912 Q30.616 739.079 33.7671 737.265 L28.3562 737.265 L28.3562 731.408 L59.58 731.408 Z\" fill=\"#000000\" fill-rule=\"evenodd\" fill-opacity=\"1\" /><path clip-path=\"url(#clip700)\" d=\"M14.479 719.345 L14.479 713.489 L64.0042 713.489 L64.0042 719.345 L14.479 719.345 Z\" fill=\"#000000\" fill-rule=\"evenodd\" fill-opacity=\"1\" /><path clip-path=\"url(#clip700)\" d=\"M28.3562 701.235 L28.3562 695.379 L64.0042 695.379 L64.0042 701.235 L28.3562 701.235 M14.479 701.235 L14.479 695.379 L21.895 695.379 L21.895 701.235 L14.479 701.235 Z\" fill=\"#000000\" fill-rule=\"evenodd\" fill-opacity=\"1\" /><path clip-path=\"url(#clip700)\" d=\"M14.479 683.347 L14.479 677.459 L43.7294 677.459 L28.3562 659.985 L28.3562 652.506 L45.0344 671.412 L64.0042 651.71 L64.0042 659.349 L46.5939 677.459 L64.0042 677.459 L64.0042 683.347 L14.479 683.347 Z\" fill=\"#000000\" fill-rule=\"evenodd\" fill-opacity=\"1\" /><polyline clip-path=\"url(#clip702)\" style=\"stroke:#0000ff; stroke-linecap:round; stroke-linejoin:round; stroke-width:4; stroke-opacity:1; fill:none\" points=\"\n",
       "  338.072,1172.42 357.259,1177.22 376.447,1181.07 395.634,1184.27 414.822,1186.99 434.009,1189.34 453.197,1191.4 472.384,1193.23 491.572,1194.86 510.759,1196.33 \n",
       "  529.947,1197.66 549.134,1198.87 568.322,1199.98 587.509,1200.99 606.697,1201.92 625.884,1202.77 645.071,1203.56 664.259,1204.28 683.446,1204.95 702.634,1205.57 \n",
       "  721.821,1206.14 741.009,1206.67 760.196,1207.15 779.384,1207.6 798.571,1208.01 817.759,1208.39 836.946,1208.73 856.134,1209.05 875.321,1209.34 894.509,1209.6 \n",
       "  913.696,1209.83 932.883,1210.04 952.071,1210.23 971.258,1210.39 990.446,1210.53 1009.63,1210.65 1028.82,1210.75 1048.01,1210.83 1067.2,1210.88 1086.38,1210.92 \n",
       "  1105.57,1210.94 1124.76,1210.94 1143.95,1210.93 1163.13,1210.89 1182.32,1210.84 1201.51,1210.77 1220.7,1210.69 1239.88,1210.58 1259.07,1210.46 1278.26,1210.33 \n",
       "  1297.45,1210.17 1316.63,1210 1335.82,1209.82 1355.01,1209.61 1374.2,1209.39 1393.38,1209.16 1412.57,1208.9 1431.76,1208.63 1450.95,1208.35 1470.13,1208.04 \n",
       "  1489.32,1207.72 1508.51,1207.38 1527.69,1207.02 1546.88,1206.65 1566.07,1206.25 1585.26,1205.84 1604.44,1205.41 1623.63,1204.96 1642.82,1204.49 1662.01,1204 \n",
       "  1681.19,1203.49 1700.38,1202.96 1719.57,1202.41 1738.76,1201.84 1757.94,1201.25 1777.13,1200.63 1796.32,1200 1815.51,1199.34 1834.69,1198.66 1853.88,1197.97 \n",
       "  1873.07,1197.25 1892.26,1196.51 1911.44,1195.75 1930.63,1194.98 1949.82,1194.2 1969.01,1193.41 1988.19,1192.62 2007.38,1191.83 2026.57,1191.07 2045.76,1190.35 \n",
       "  2064.94,1189.69 2084.13,1189.15 2103.32,1188.78 2122.51,1188.7 2141.69,1189.07 2160.88,1190.23 2180.07,1192.86 2199.26,1198.5 2218.44,1211.86 2237.63,1255.8 \n",
       "  \n",
       "  \"/>\n",
       "<circle clip-path=\"url(#clip702)\" cx=\"338.072\" cy=\"1172.42\" r=\"14.4\" fill=\"#0000ff\" fill-rule=\"evenodd\" fill-opacity=\"1\" stroke=\"#000000\" stroke-opacity=\"1\" stroke-width=\"3.2\"/>\n",
       "<polyline clip-path=\"url(#clip702)\" style=\"stroke:#ff0000; stroke-linecap:round; stroke-linejoin:round; stroke-width:4; stroke-opacity:1; fill:none\" points=\"\n",
       "  338.072,1156.89 357.259,1161.54 376.447,1165.23 395.634,1168.27 414.822,1170.82 434.009,1173.01 453.197,1174.91 472.384,1176.57 491.572,1178.04 510.759,1179.34 \n",
       "  529.947,1180.5 549.134,1181.54 568.322,1182.47 587.509,1183.31 606.697,1184.06 625.884,1184.74 645.071,1185.34 664.259,1185.89 683.446,1186.37 702.634,1186.81 \n",
       "  721.821,1187.19 741.009,1187.53 760.196,1187.83 779.384,1188.08 798.571,1188.3 817.759,1188.49 836.946,1188.64 856.134,1188.76 875.321,1188.84 894.509,1188.9 \n",
       "  913.696,1188.93 932.883,1188.94 952.071,1188.92 971.258,1188.87 990.446,1188.8 1009.63,1188.7 1028.82,1188.59 1048.01,1188.45 1067.2,1188.29 1086.38,1188.1 \n",
       "  1105.57,1187.9 1124.76,1187.68 1143.95,1187.43 1163.13,1187.17 1182.32,1186.89 1201.51,1186.58 1220.7,1186.26 1239.88,1185.92 1259.07,1185.56 1278.26,1185.18 \n",
       "  1297.45,1184.79 1316.63,1184.37 1335.82,1183.93 1355.01,1183.48 1374.2,1183 1393.38,1182.51 1412.57,1182 1431.76,1181.47 1450.95,1180.92 1470.13,1180.35 \n",
       "  1489.32,1179.76 1508.51,1179.15 1527.69,1178.52 1546.88,1177.87 1566.07,1177.2 1585.26,1176.51 1604.44,1175.79 1623.63,1175.06 1642.82,1174.3 1662.01,1173.53 \n",
       "  1681.19,1172.72 1700.38,1171.9 1719.57,1171.05 1738.76,1170.19 1757.94,1169.29 1777.13,1168.38 1796.32,1167.44 1815.51,1166.47 1834.69,1165.49 1853.88,1164.48 \n",
       "  1873.07,1163.45 1892.26,1162.39 1911.44,1161.32 1930.63,1160.24 1949.82,1159.14 1969.01,1158.03 1988.19,1156.92 2007.38,1155.82 2026.57,1154.74 2045.76,1153.71 \n",
       "  2064.94,1152.74 2084.13,1151.9 2103.32,1151.23 2122.51,1150.86 2141.69,1150.97 2160.88,1151.9 2180.07,1154.35 2199.26,1159.93 2218.44,1173.49 2237.63,1218.69 \n",
       "  \n",
       "  \"/>\n",
       "<circle clip-path=\"url(#clip702)\" cx=\"2122.51\" cy=\"1150.86\" r=\"14.4\" fill=\"#ff0000\" fill-rule=\"evenodd\" fill-opacity=\"1\" stroke=\"#000000\" stroke-opacity=\"1\" stroke-width=\"3.2\"/>\n",
       "<polyline clip-path=\"url(#clip702)\" style=\"stroke:#0000ff; stroke-linecap:round; stroke-linejoin:round; stroke-width:4; stroke-opacity:1; fill:none\" stroke-dasharray=\"16, 10\" points=\"\n",
       "  338.072,1423.18 338.072,1172.42 \n",
       "  \"/>\n",
       "<polyline clip-path=\"url(#clip702)\" style=\"stroke:#0000ff; stroke-linecap:round; stroke-linejoin:round; stroke-width:4; stroke-opacity:1; fill:none\" stroke-dasharray=\"16, 10\" points=\"\n",
       "  242.135,1172.42 338.072,1172.42 \n",
       "  \"/>\n",
       "<polyline clip-path=\"url(#clip702)\" style=\"stroke:#ff0000; stroke-linecap:round; stroke-linejoin:round; stroke-width:4; stroke-opacity:1; fill:none\" stroke-dasharray=\"16, 10\" points=\"\n",
       "  2122.51,1423.18 2122.51,1150.86 \n",
       "  \"/>\n",
       "<polyline clip-path=\"url(#clip702)\" style=\"stroke:#ff0000; stroke-linecap:round; stroke-linejoin:round; stroke-width:4; stroke-opacity:1; fill:none\" stroke-dasharray=\"16, 10\" points=\"\n",
       "  242.135,1150.86 2122.51,1150.86 \n",
       "  \"/>\n",
       "<path clip-path=\"url(#clip700)\" d=\"\n",
       "M312.489 1377.32 L781.049 1377.32 L781.049 1118.12 L312.489 1118.12  Z\n",
       "  \" fill=\"#ffffff\" fill-rule=\"evenodd\" fill-opacity=\"1\"/>\n",
       "<polyline clip-path=\"url(#clip700)\" style=\"stroke:#000000; stroke-linecap:round; stroke-linejoin:round; stroke-width:4; stroke-opacity:1; fill:none\" points=\"\n",
       "  312.489,1377.32 781.049,1377.32 781.049,1118.12 312.489,1118.12 312.489,1377.32 \n",
       "  \"/>\n",
       "<polyline clip-path=\"url(#clip700)\" style=\"stroke:#0000ff; stroke-linecap:round; stroke-linejoin:round; stroke-width:4; stroke-opacity:1; fill:none\" points=\"\n",
       "  335.94,1169.96 476.648,1169.96 \n",
       "  \"/>\n",
       "<path clip-path=\"url(#clip700)\" d=\"M500.099 1152.68 L506.396 1152.68 L521.72 1181.59 L521.72 1152.68 L526.257 1152.68 L526.257 1187.24 L519.96 1187.24 L504.636 1158.32 L504.636 1187.24 L500.099 1187.24 L500.099 1152.68 Z\" fill=\"#000000\" fill-rule=\"evenodd\" fill-opacity=\"1\" /><path clip-path=\"url(#clip700)\" d=\"M534.937 1177 L534.937 1161.31 L539.196 1161.31 L539.196 1176.84 Q539.196 1180.52 540.632 1182.37 Q542.067 1184.2 544.937 1184.2 Q548.386 1184.2 550.377 1182 Q552.391 1179.8 552.391 1176.01 L552.391 1161.31 L556.65 1161.31 L556.65 1187.24 L552.391 1187.24 L552.391 1183.25 Q550.84 1185.61 548.78 1186.77 Q546.743 1187.91 544.034 1187.91 Q539.567 1187.91 537.252 1185.13 Q534.937 1182.35 534.937 1177 M545.655 1160.68 L545.655 1160.68 Z\" fill=\"#000000\" fill-rule=\"evenodd\" fill-opacity=\"1\" /><path clip-path=\"url(#clip700)\" d=\"M565.423 1151.22 L569.682 1151.22 L569.682 1187.24 L565.423 1187.24 L565.423 1151.22 Z\" fill=\"#000000\" fill-rule=\"evenodd\" fill-opacity=\"1\" /><path clip-path=\"url(#clip700)\" d=\"M578.594 1151.22 L582.854 1151.22 L582.854 1187.24 L578.594 1187.24 L578.594 1151.22 Z\" fill=\"#000000\" fill-rule=\"evenodd\" fill-opacity=\"1\" /><circle clip-path=\"url(#clip700)\" cx=\"406.294\" cy=\"1221.8\" r=\"23.04\" fill=\"#0000ff\" fill-rule=\"evenodd\" fill-opacity=\"1\" stroke=\"#000000\" stroke-opacity=\"1\" stroke-width=\"5.12\"/>\n",
       "<path clip-path=\"url(#clip700)\" d=\"M520.447 1218.13 Q522.044 1215.26 524.266 1213.89 Q526.488 1212.52 529.497 1212.52 Q533.548 1212.52 535.747 1215.37 Q537.947 1218.2 537.947 1223.43 L537.947 1239.08 L533.664 1239.08 L533.664 1223.57 Q533.664 1219.84 532.345 1218.03 Q531.025 1216.23 528.317 1216.23 Q525.007 1216.23 523.085 1218.43 Q521.164 1220.63 521.164 1224.42 L521.164 1239.08 L516.882 1239.08 L516.882 1223.57 Q516.882 1219.82 515.562 1218.03 Q514.243 1216.23 511.488 1216.23 Q508.224 1216.23 506.303 1218.45 Q504.382 1220.65 504.382 1224.42 L504.382 1239.08 L500.099 1239.08 L500.099 1213.15 L504.382 1213.15 L504.382 1217.18 Q505.84 1214.79 507.877 1213.66 Q509.914 1212.52 512.715 1212.52 Q515.539 1212.52 517.507 1213.96 Q519.498 1215.39 520.447 1218.13 Z\" fill=\"#000000\" fill-rule=\"evenodd\" fill-opacity=\"1\" /><path clip-path=\"url(#clip700)\" d=\"M558.224 1226.04 Q553.062 1226.04 551.071 1227.22 Q549.081 1228.4 549.081 1231.25 Q549.081 1233.52 550.562 1234.86 Q552.067 1236.18 554.636 1236.18 Q558.178 1236.18 560.307 1233.68 Q562.46 1231.16 562.46 1226.99 L562.46 1226.04 L558.224 1226.04 M566.719 1224.28 L566.719 1239.08 L562.46 1239.08 L562.46 1235.14 Q561.002 1237.5 558.826 1238.64 Q556.65 1239.75 553.502 1239.75 Q549.521 1239.75 547.159 1237.52 Q544.821 1235.28 544.821 1231.53 Q544.821 1227.15 547.738 1224.93 Q550.678 1222.71 556.488 1222.71 L562.46 1222.71 L562.46 1222.29 Q562.46 1219.35 560.516 1217.76 Q558.595 1216.14 555.099 1216.14 Q552.877 1216.14 550.771 1216.67 Q548.664 1217.2 546.72 1218.27 L546.72 1214.33 Q549.058 1213.43 551.257 1212.99 Q553.456 1212.52 555.539 1212.52 Q561.164 1212.52 563.942 1215.44 Q566.719 1218.36 566.719 1224.28 Z\" fill=\"#000000\" fill-rule=\"evenodd\" fill-opacity=\"1\" /><path clip-path=\"url(#clip700)\" d=\"M597.043 1213.15 L587.668 1225.77 L597.53 1239.08 L592.506 1239.08 L584.96 1228.89 L577.414 1239.08 L572.391 1239.08 L582.46 1225.51 L573.247 1213.15 L578.27 1213.15 L585.145 1222.39 L592.02 1213.15 L597.043 1213.15 Z\" fill=\"#000000\" fill-rule=\"evenodd\" fill-opacity=\"1\" /><path clip-path=\"url(#clip700)\" d=\"M603.733 1204.52 L608.409 1204.52 L608.409 1235.14 L625.238 1235.14 L625.238 1239.08 L603.733 1239.08 L603.733 1204.52 Z\" fill=\"#000000\" fill-rule=\"evenodd\" fill-opacity=\"1\" /><path clip-path=\"url(#clip700)\" d=\"M630.145 1204.52 L634.821 1204.52 L634.821 1235.14 L651.65 1235.14 L651.65 1239.08 L630.145 1239.08 L630.145 1204.52 Z\" fill=\"#000000\" fill-rule=\"evenodd\" fill-opacity=\"1\" /><path clip-path=\"url(#clip700)\" d=\"M676.071 1246.95 L676.071 1250.26 L651.441 1250.26 L651.441 1246.95 L676.071 1246.95 Z\" fill=\"#000000\" fill-rule=\"evenodd\" fill-opacity=\"1\" /><path clip-path=\"url(#clip700)\" d=\"M701.626 1223.43 L701.626 1239.08 L697.367 1239.08 L697.367 1223.57 Q697.367 1219.89 695.932 1218.06 Q694.497 1216.23 691.626 1216.23 Q688.177 1216.23 686.186 1218.43 Q684.196 1220.63 684.196 1224.42 L684.196 1239.08 L679.913 1239.08 L679.913 1213.15 L684.196 1213.15 L684.196 1217.18 Q685.723 1214.84 687.784 1213.68 Q689.867 1212.52 692.575 1212.52 Q697.043 1212.52 699.335 1215.3 Q701.626 1218.06 701.626 1223.43 Z\" fill=\"#000000\" fill-rule=\"evenodd\" fill-opacity=\"1\" /><path clip-path=\"url(#clip700)\" d=\"M709.682 1228.84 L709.682 1213.15 L713.941 1213.15 L713.941 1228.68 Q713.941 1232.36 715.376 1234.21 Q716.811 1236.04 719.682 1236.04 Q723.131 1236.04 725.121 1233.84 Q727.135 1231.64 727.135 1227.85 L727.135 1213.15 L731.395 1213.15 L731.395 1239.08 L727.135 1239.08 L727.135 1235.09 Q725.584 1237.45 723.524 1238.61 Q721.487 1239.75 718.779 1239.75 Q714.311 1239.75 711.996 1236.97 Q709.682 1234.19 709.682 1228.84 M720.399 1212.52 L720.399 1212.52 Z\" fill=\"#000000\" fill-rule=\"evenodd\" fill-opacity=\"1\" /><path clip-path=\"url(#clip700)\" d=\"M740.168 1203.06 L744.427 1203.06 L744.427 1239.08 L740.168 1239.08 L740.168 1203.06 Z\" fill=\"#000000\" fill-rule=\"evenodd\" fill-opacity=\"1\" /><path clip-path=\"url(#clip700)\" d=\"M753.339 1203.06 L757.598 1203.06 L757.598 1239.08 L753.339 1239.08 L753.339 1203.06 Z\" fill=\"#000000\" fill-rule=\"evenodd\" fill-opacity=\"1\" /><polyline clip-path=\"url(#clip700)\" style=\"stroke:#ff0000; stroke-linecap:round; stroke-linejoin:round; stroke-width:4; stroke-opacity:1; fill:none\" points=\"\n",
       "  335.94,1273.64 476.648,1273.64 \n",
       "  \"/>\n",
       "<path clip-path=\"url(#clip700)\" d=\"M515.933 1260.96 L509.59 1278.16 L522.298 1278.16 L515.933 1260.96 M513.294 1256.36 L518.595 1256.36 L531.766 1290.92 L526.905 1290.92 L523.757 1282.05 L508.178 1282.05 L505.03 1290.92 L500.099 1290.92 L513.294 1256.36 Z\" fill=\"#000000\" fill-rule=\"evenodd\" fill-opacity=\"1\" /><path clip-path=\"url(#clip700)\" d=\"M536.627 1254.9 L540.886 1254.9 L540.886 1290.92 L536.627 1290.92 L536.627 1254.9 Z\" fill=\"#000000\" fill-rule=\"evenodd\" fill-opacity=\"1\" /><path clip-path=\"url(#clip700)\" d=\"M554.011 1257.63 L554.011 1264.99 L562.784 1264.99 L562.784 1268.3 L554.011 1268.3 L554.011 1282.37 Q554.011 1285.54 554.868 1286.45 Q555.747 1287.35 558.409 1287.35 L562.784 1287.35 L562.784 1290.92 L558.409 1290.92 Q553.479 1290.92 551.604 1289.09 Q549.729 1287.23 549.729 1282.37 L549.729 1268.3 L546.604 1268.3 L546.604 1264.99 L549.729 1264.99 L549.729 1257.63 L554.011 1257.63 Z\" fill=\"#000000\" fill-rule=\"evenodd\" fill-opacity=\"1\" /><path clip-path=\"url(#clip700)\" d=\"M588.085 1298.79 L588.085 1302.1 L563.456 1302.1 L563.456 1298.79 L588.085 1298.79 Z\" fill=\"#000000\" fill-rule=\"evenodd\" fill-opacity=\"1\" /><path clip-path=\"url(#clip700)\" d=\"M593.502 1286.98 L601.141 1286.98 L601.141 1260.61 L592.83 1262.28 L592.83 1258.02 L601.094 1256.36 L605.77 1256.36 L605.77 1286.98 L613.409 1286.98 L613.409 1290.92 L593.502 1290.92 L593.502 1286.98 Z\" fill=\"#000000\" fill-rule=\"evenodd\" fill-opacity=\"1\" /><circle clip-path=\"url(#clip700)\" cx=\"406.294\" cy=\"1325.48\" r=\"23.04\" fill=\"#ff0000\" fill-rule=\"evenodd\" fill-opacity=\"1\" stroke=\"#000000\" stroke-opacity=\"1\" stroke-width=\"5.12\"/>\n",
       "<path clip-path=\"url(#clip700)\" d=\"M520.447 1321.81 Q522.044 1318.94 524.266 1317.57 Q526.488 1316.2 529.497 1316.2 Q533.548 1316.2 535.747 1319.05 Q537.947 1321.88 537.947 1327.11 L537.947 1342.76 L533.664 1342.76 L533.664 1327.25 Q533.664 1323.52 532.345 1321.71 Q531.025 1319.91 528.317 1319.91 Q525.007 1319.91 523.085 1322.11 Q521.164 1324.31 521.164 1328.1 L521.164 1342.76 L516.882 1342.76 L516.882 1327.25 Q516.882 1323.5 515.562 1321.71 Q514.243 1319.91 511.488 1319.91 Q508.224 1319.91 506.303 1322.13 Q504.382 1324.33 504.382 1328.1 L504.382 1342.76 L500.099 1342.76 L500.099 1316.83 L504.382 1316.83 L504.382 1320.86 Q505.84 1318.47 507.877 1317.34 Q509.914 1316.2 512.715 1316.2 Q515.539 1316.2 517.507 1317.64 Q519.498 1319.07 520.447 1321.81 Z\" fill=\"#000000\" fill-rule=\"evenodd\" fill-opacity=\"1\" /><path clip-path=\"url(#clip700)\" d=\"M558.224 1329.72 Q553.062 1329.72 551.071 1330.9 Q549.081 1332.08 549.081 1334.93 Q549.081 1337.2 550.562 1338.54 Q552.067 1339.86 554.636 1339.86 Q558.178 1339.86 560.307 1337.36 Q562.46 1334.84 562.46 1330.67 L562.46 1329.72 L558.224 1329.72 M566.719 1327.96 L566.719 1342.76 L562.46 1342.76 L562.46 1338.82 Q561.002 1341.18 558.826 1342.32 Q556.65 1343.43 553.502 1343.43 Q549.521 1343.43 547.159 1341.2 Q544.821 1338.96 544.821 1335.21 Q544.821 1330.83 547.738 1328.61 Q550.678 1326.39 556.488 1326.39 L562.46 1326.39 L562.46 1325.97 Q562.46 1323.03 560.516 1321.44 Q558.595 1319.82 555.099 1319.82 Q552.877 1319.82 550.771 1320.35 Q548.664 1320.88 546.72 1321.95 L546.72 1318.01 Q549.058 1317.11 551.257 1316.67 Q553.456 1316.2 555.539 1316.2 Q561.164 1316.2 563.942 1319.12 Q566.719 1322.04 566.719 1327.96 Z\" fill=\"#000000\" fill-rule=\"evenodd\" fill-opacity=\"1\" /><path clip-path=\"url(#clip700)\" d=\"M597.043 1316.83 L587.668 1329.45 L597.53 1342.76 L592.506 1342.76 L584.96 1332.57 L577.414 1342.76 L572.391 1342.76 L582.46 1329.19 L573.247 1316.83 L578.27 1316.83 L585.145 1326.07 L592.02 1316.83 L597.043 1316.83 Z\" fill=\"#000000\" fill-rule=\"evenodd\" fill-opacity=\"1\" /><path clip-path=\"url(#clip700)\" d=\"M603.733 1308.2 L608.409 1308.2 L608.409 1338.82 L625.238 1338.82 L625.238 1342.76 L603.733 1342.76 L603.733 1308.2 Z\" fill=\"#000000\" fill-rule=\"evenodd\" fill-opacity=\"1\" /><path clip-path=\"url(#clip700)\" d=\"M630.145 1308.2 L634.821 1308.2 L634.821 1338.82 L651.65 1338.82 L651.65 1342.76 L630.145 1342.76 L630.145 1308.2 Z\" fill=\"#000000\" fill-rule=\"evenodd\" fill-opacity=\"1\" /><path clip-path=\"url(#clip700)\" d=\"M676.071 1350.63 L676.071 1353.94 L651.441 1353.94 L651.441 1350.63 L676.071 1350.63 Z\" fill=\"#000000\" fill-rule=\"evenodd\" fill-opacity=\"1\" /><path clip-path=\"url(#clip700)\" d=\"M691.858 1329.72 Q686.696 1329.72 684.705 1330.9 Q682.714 1332.08 682.714 1334.93 Q682.714 1337.2 684.196 1338.54 Q685.7 1339.86 688.27 1339.86 Q691.811 1339.86 693.941 1337.36 Q696.094 1334.84 696.094 1330.67 L696.094 1329.72 L691.858 1329.72 M700.353 1327.96 L700.353 1342.76 L696.094 1342.76 L696.094 1338.82 Q694.635 1341.18 692.46 1342.32 Q690.284 1343.43 687.136 1343.43 Q683.154 1343.43 680.793 1341.2 Q678.455 1338.96 678.455 1335.21 Q678.455 1330.83 681.372 1328.61 Q684.311 1326.39 690.122 1326.39 L696.094 1326.39 L696.094 1325.97 Q696.094 1323.03 694.149 1321.44 Q692.228 1319.82 688.733 1319.82 Q686.511 1319.82 684.404 1320.35 Q682.298 1320.88 680.353 1321.95 L680.353 1318.01 Q682.691 1317.11 684.89 1316.67 Q687.089 1316.2 689.173 1316.2 Q694.798 1316.2 697.575 1319.12 Q700.353 1322.04 700.353 1327.96 Z\" fill=\"#000000\" fill-rule=\"evenodd\" fill-opacity=\"1\" /><path clip-path=\"url(#clip700)\" d=\"M709.126 1306.74 L713.385 1306.74 L713.385 1342.76 L709.126 1342.76 L709.126 1306.74 Z\" fill=\"#000000\" fill-rule=\"evenodd\" fill-opacity=\"1\" /><path clip-path=\"url(#clip700)\" d=\"M726.51 1309.47 L726.51 1316.83 L735.283 1316.83 L735.283 1320.14 L726.51 1320.14 L726.51 1334.21 Q726.51 1337.38 727.367 1338.29 Q728.246 1339.19 730.908 1339.19 L735.283 1339.19 L735.283 1342.76 L730.908 1342.76 Q725.978 1342.76 724.103 1340.93 Q722.228 1339.07 722.228 1334.21 L722.228 1320.14 L719.103 1320.14 L719.103 1316.83 L722.228 1316.83 L722.228 1309.47 L726.51 1309.47 Z\" fill=\"#000000\" fill-rule=\"evenodd\" fill-opacity=\"1\" /><path clip-path=\"url(#clip700)\" d=\"M315.456 1408.98 Q311.845 1408.98 310.017 1412.54 Q308.211 1416.08 308.211 1423.21 Q308.211 1430.32 310.017 1433.89 Q311.845 1437.43 315.456 1437.43 Q319.091 1437.43 320.896 1433.89 Q322.725 1430.32 322.725 1423.21 Q322.725 1416.08 320.896 1412.54 Q319.091 1408.98 315.456 1408.98 M315.456 1405.27 Q321.267 1405.27 324.322 1409.88 Q327.401 1414.46 327.401 1423.21 Q327.401 1431.94 324.322 1436.55 Q321.267 1441.13 315.456 1441.13 Q309.646 1441.13 306.568 1436.55 Q303.512 1431.94 303.512 1423.21 Q303.512 1414.46 306.568 1409.88 Q309.646 1405.27 315.456 1405.27 Z\" fill=\"#0000ff\" fill-rule=\"evenodd\" fill-opacity=\"1\" /><path clip-path=\"url(#clip700)\" d=\"M335.618 1434.58 L340.503 1434.58 L340.503 1440.46 L335.618 1440.46 L335.618 1434.58 Z\" fill=\"#0000ff\" fill-rule=\"evenodd\" fill-opacity=\"1\" /><path clip-path=\"url(#clip700)\" d=\"M360.688 1408.98 Q357.077 1408.98 355.248 1412.54 Q353.442 1416.08 353.442 1423.21 Q353.442 1430.32 355.248 1433.89 Q357.077 1437.43 360.688 1437.43 Q364.322 1437.43 366.127 1433.89 Q367.956 1430.32 367.956 1423.21 Q367.956 1416.08 366.127 1412.54 Q364.322 1408.98 360.688 1408.98 M360.688 1405.27 Q366.498 1405.27 369.553 1409.88 Q372.632 1414.46 372.632 1423.21 Q372.632 1431.94 369.553 1436.55 Q366.498 1441.13 360.688 1441.13 Q354.877 1441.13 351.799 1436.55 Q348.743 1431.94 348.743 1423.21 Q348.743 1414.46 351.799 1409.88 Q354.877 1405.27 360.688 1405.27 Z\" fill=\"#0000ff\" fill-rule=\"evenodd\" fill-opacity=\"1\" /><path clip-path=\"url(#clip700)\" d=\"M2085.13 1408.98 Q2081.52 1408.98 2079.69 1412.54 Q2077.89 1416.08 2077.89 1423.21 Q2077.89 1430.32 2079.69 1433.89 Q2081.52 1437.43 2085.13 1437.43 Q2088.77 1437.43 2090.57 1433.89 Q2092.4 1430.32 2092.4 1423.21 Q2092.4 1416.08 2090.57 1412.54 Q2088.77 1408.98 2085.13 1408.98 M2085.13 1405.27 Q2090.94 1405.27 2094 1409.88 Q2097.08 1414.46 2097.08 1423.21 Q2097.08 1431.94 2094 1436.55 Q2090.94 1441.13 2085.13 1441.13 Q2079.32 1441.13 2076.24 1436.55 Q2073.19 1431.94 2073.19 1423.21 Q2073.19 1414.46 2076.24 1409.88 Q2079.32 1405.27 2085.13 1405.27 Z\" fill=\"#ff0000\" fill-rule=\"evenodd\" fill-opacity=\"1\" /><path clip-path=\"url(#clip700)\" d=\"M2105.3 1434.58 L2110.18 1434.58 L2110.18 1440.46 L2105.3 1440.46 L2105.3 1434.58 Z\" fill=\"#ff0000\" fill-rule=\"evenodd\" fill-opacity=\"1\" /><path clip-path=\"url(#clip700)\" d=\"M2120.5 1439.74 L2120.5 1435.48 Q2122.26 1436.32 2124.07 1436.76 Q2125.87 1437.2 2127.61 1437.2 Q2132.24 1437.2 2134.67 1434.09 Q2137.12 1430.97 2137.47 1424.63 Q2136.13 1426.62 2134.07 1427.68 Q2132.01 1428.75 2129.51 1428.75 Q2124.32 1428.75 2121.29 1425.62 Q2118.28 1422.47 2118.28 1417.03 Q2118.28 1411.71 2121.43 1408.49 Q2124.58 1405.27 2129.81 1405.27 Q2135.8 1405.27 2138.95 1409.88 Q2142.12 1414.46 2142.12 1423.21 Q2142.12 1431.39 2138.24 1436.27 Q2134.37 1441.13 2127.82 1441.13 Q2126.06 1441.13 2124.25 1440.78 Q2122.45 1440.44 2120.5 1439.74 M2129.81 1425.09 Q2132.96 1425.09 2134.79 1422.94 Q2136.64 1420.78 2136.64 1417.03 Q2136.64 1413.31 2134.79 1411.15 Q2132.96 1408.98 2129.81 1408.98 Q2126.66 1408.98 2124.81 1411.15 Q2122.98 1413.31 2122.98 1417.03 Q2122.98 1420.78 2124.81 1422.94 Q2126.66 1425.09 2129.81 1425.09 Z\" fill=\"#ff0000\" fill-rule=\"evenodd\" fill-opacity=\"1\" /><path clip-path=\"url(#clip700)\" d=\"M2164.69 1421.83 Q2168.05 1422.54 2169.93 1424.81 Q2171.82 1427.08 2171.82 1430.41 Q2171.82 1435.53 2168.3 1438.33 Q2164.79 1441.13 2158.3 1441.13 Q2156.13 1441.13 2153.81 1440.69 Q2151.52 1440.27 2149.07 1439.42 L2149.07 1434.9 Q2151.01 1436.04 2153.33 1436.62 Q2155.64 1437.2 2158.17 1437.2 Q2162.56 1437.2 2164.86 1435.46 Q2167.17 1433.72 2167.17 1430.41 Q2167.17 1427.36 2165.02 1425.65 Q2162.89 1423.91 2159.07 1423.91 L2155.04 1423.91 L2155.04 1420.07 L2159.25 1420.07 Q2162.7 1420.07 2164.53 1418.7 Q2166.36 1417.31 2166.36 1414.72 Q2166.36 1412.06 2164.46 1410.65 Q2162.59 1409.21 2159.07 1409.21 Q2157.15 1409.21 2154.95 1409.63 Q2152.75 1410.04 2150.11 1410.92 L2150.11 1406.76 Q2152.77 1406.02 2155.09 1405.65 Q2157.43 1405.27 2159.49 1405.27 Q2164.81 1405.27 2167.91 1407.71 Q2171.01 1410.11 2171.01 1414.23 Q2171.01 1417.1 2169.37 1419.09 Q2167.73 1421.06 2164.69 1421.83 Z\" fill=\"#ff0000\" fill-rule=\"evenodd\" fill-opacity=\"1\" /></svg>\n"
      ]
     },
     "metadata": {},
     "output_type": "display_data"
    },
    {
     "data": {
      "text/plain": [
       "(sigma2_e = 0.9424184261036478, h2_null = 2.556751964474975e-16, lod = [0.14752829300981873, 0.14752829300981873, 0.14752829300981873, 0.14752829300981873, 0.14752829300981873, 0.14752829300981873, 0.14752829300981873, 0.14752829300981873, 0.14752829300981873, 0.14752829300981873  …  0.4151525758615604, 0.06667066426725987, 0.2266740335756856, 0.2266740335756856, 0.09929425046903417, 0.013710982777837, 0.09929425046903417, 0.013710982777837, 0.08060830345161252, 0.08060830345161252])"
      ]
     },
     "execution_count": 208,
     "metadata": {},
     "output_type": "execute_result"
    }
   ],
   "source": [
    "test_a = scan(lpst_strains_y, geno_strains, kinship_strains;\n",
    "               #weights = weights_true,\n",
    "                prior_variance = 1.0, prior_sample_size = 0.1, \n",
    "                optim_interval = 10, plot_loglik = true, markerID = 1, h2_grid = grid_list, y_lims = [-30.0, -20.0])"
   ]
  },
  {
   "cell_type": "code",
   "execution_count": 71,
   "id": "b74b891f-8f32-45c1-9fcb-394ab7826a42",
   "metadata": {},
   "outputs": [
    {
     "data": {
      "text/plain": [
       "0.8329203388975025"
      ]
     },
     "execution_count": 71,
     "metadata": {},
     "output_type": "execute_result"
    }
   ],
   "source": [
    "test_a.h2_null"
   ]
  },
  {
   "cell_type": "code",
   "execution_count": 72,
   "id": "d119d896-3896-4732-81c7-1119faeb27e0",
   "metadata": {},
   "outputs": [
    {
     "name": "stdout",
     "output_type": "stream",
     "text": [
      " 11.092300 seconds (51.66 M allocations: 12.638 GiB, 6.61% gc time, 22.85% compilation time)\n"
     ]
    }
   ],
   "source": [
    "@time test_A = bulkscan_null_grid(lpst_strains_Y, geno_strains, kinship_strains, grid_list;\n",
    "                                  weights = weights_true, \n",
    "                                  prior_variance = 1.0, prior_sample_size = 0.1);"
   ]
  },
  {
   "cell_type": "code",
   "execution_count": 73,
   "id": "be8305af-46bd-4ebd-b422-85141dff030f",
   "metadata": {},
   "outputs": [
    {
     "data": {
      "text/plain": [
       "0.48"
      ]
     },
     "execution_count": 73,
     "metadata": {},
     "output_type": "execute_result"
    }
   ],
   "source": [
    "test_A.h2_null_list[lp_id]"
   ]
  },
  {
   "cell_type": "code",
   "execution_count": 74,
   "id": "6ca0c1ff-4be8-4f1a-ae47-a1b7de756709",
   "metadata": {},
   "outputs": [
    {
     "data": {
      "text/plain": [
       "1996-element Vector{Int64}:\n",
       "    18\n",
       "    37\n",
       "    39\n",
       "    42\n",
       "    53\n",
       "    58\n",
       "    61\n",
       "    67\n",
       "    78\n",
       "   123\n",
       "   144\n",
       "   191\n",
       "   215\n",
       "     ⋮\n",
       " 32220\n",
       " 32222\n",
       " 32223\n",
       " 32227\n",
       " 32228\n",
       " 32231\n",
       " 32270\n",
       " 32372\n",
       " 32420\n",
       " 32426\n",
       " 32429\n",
       " 32437"
      ]
     },
     "execution_count": 74,
     "metadata": {},
     "output_type": "execute_result"
    }
   ],
   "source": [
    "findall(test_A.h2_null_list .>= 0.5)"
   ]
  },
  {
   "cell_type": "code",
   "execution_count": 75,
   "id": "dbe2cbfa-3f27-40c5-ad3c-81c75db775d4",
   "metadata": {},
   "outputs": [
    {
     "data": {
      "text/plain": [
       "2.6928413624628664"
      ]
     },
     "execution_count": 75,
     "metadata": {},
     "output_type": "execute_result"
    }
   ],
   "source": [
    "maximum(abs.(test_a.lod .- lod_by_hand.lod))"
   ]
  },
  {
   "cell_type": "code",
   "execution_count": 76,
   "id": "74c0e981-9d37-433d-b2e9-cc9a53d27cae",
   "metadata": {},
   "outputs": [
    {
     "data": {
      "text/plain": [
       "3.629255560717888e-16"
      ]
     },
     "execution_count": 76,
     "metadata": {},
     "output_type": "execute_result"
    }
   ],
   "source": [
    "scan_results_strains.h2_null"
   ]
  },
  {
   "cell_type": "code",
   "execution_count": 77,
   "id": "5b3717b9-bc48-4c18-b54d-f519faf147d9",
   "metadata": {},
   "outputs": [
    {
     "name": "stdout",
     "output_type": "stream",
     "text": [
      "192.066706 seconds (2.81 G allocations: 486.444 GiB, 24.37% gc time, 0.16% compilation time)\n"
     ]
    }
   ],
   "source": [
    "@time test_A_exact = bulkscan_null(lpst_strains_Y, geno_strains, kinship_strains; nb = Threads.nthreads(),\n",
    "                                   weights = weights_true, \n",
    "                                   prior_variance = 1.0, prior_sample_size = 0.1, optim_interval = 10);"
   ]
  },
  {
   "cell_type": "code",
   "execution_count": 78,
   "id": "c1b838b4-52b8-4d42-a727-3d30484f2fec",
   "metadata": {},
   "outputs": [
    {
     "data": {
      "text/plain": [
       "0.47700360368597094"
      ]
     },
     "execution_count": 78,
     "metadata": {},
     "output_type": "execute_result"
    }
   ],
   "source": [
    "test_A_exact.h2_null_list[lp_id]"
   ]
  },
  {
   "cell_type": "code",
   "execution_count": 79,
   "id": "bdd013dd-69a4-4410-9845-092db7989bbb",
   "metadata": {},
   "outputs": [
    {
     "data": {
      "text/plain": [
       "0.48"
      ]
     },
     "execution_count": 79,
     "metadata": {},
     "output_type": "execute_result"
    }
   ],
   "source": [
    "test_A.h2_null_list[lp_id]"
   ]
  },
  {
   "cell_type": "code",
   "execution_count": 80,
   "id": "1784c286-384d-4571-a1c6-96a5ddf4f62a",
   "metadata": {},
   "outputs": [
    {
     "data": {
      "text/plain": [
       "7321×3 Matrix{Float64}:\n",
       " 0.346766    0.470132   0.347721\n",
       " 0.346766    0.470132   0.347721\n",
       " 0.346766    0.470132   0.347721\n",
       " 0.346766    0.470132   0.347721\n",
       " 0.346766    0.470132   0.347721\n",
       " 0.346766    0.470132   0.347721\n",
       " 0.346766    0.470132   0.347721\n",
       " 0.346766    0.470132   0.347721\n",
       " 0.346766    0.470132   0.347721\n",
       " 0.346766    0.470132   0.347721\n",
       " 0.346766    0.470132   0.347721\n",
       " 0.346766    0.470132   0.347721\n",
       " 0.226185    0.289321   0.225985\n",
       " ⋮                      \n",
       " 0.00849478  0.0190723  0.00827439\n",
       " 0.00849478  0.0190723  0.00827439\n",
       " 0.00849478  0.0190723  0.00827439\n",
       " 0.147244    0.366897   0.148533\n",
       " 0.49964     0.751512   0.501627\n",
       " 0.49964     0.751512   0.501627\n",
       " 0.469364    0.743515   0.47156\n",
       " 0.256173    0.401996   0.257254\n",
       " 0.469364    0.743515   0.47156\n",
       " 0.256173    0.401996   0.257254\n",
       " 0.284542    0.461123   0.285633\n",
       " 0.284542    0.461123   0.285633"
      ]
     },
     "execution_count": 80,
     "metadata": {},
     "output_type": "execute_result"
    }
   ],
   "source": [
    "hcat(test_A_exact.L[:, lp_id], test_a.lod, test_A.L[:, lp_id])"
   ]
  },
  {
   "cell_type": "code",
   "execution_count": 81,
   "id": "d301e316-bb8e-45be-96c7-d9adc723adf7",
   "metadata": {},
   "outputs": [
    {
     "data": {
      "text/plain": [
       "612.4693881351816"
      ]
     },
     "execution_count": 81,
     "metadata": {},
     "output_type": "execute_result"
    }
   ],
   "source": [
    "sum(abs.(test_A_exact.L[:, lp_id] .- test_a.lod))"
   ]
  },
  {
   "cell_type": "code",
   "execution_count": 82,
   "id": "2a949cd3-c5bb-41c0-8667-30876d17a22d",
   "metadata": {},
   "outputs": [
    {
     "data": {
      "text/plain": [
       "0.725066072163604"
      ]
     },
     "execution_count": 82,
     "metadata": {},
     "output_type": "execute_result"
    }
   ],
   "source": [
    "maximum(abs.(test_A.L[:, lp_id] .- test_a.lod))"
   ]
  },
  {
   "cell_type": "markdown",
   "id": "e581b199-d92b-4b4a-950f-888df22eb3f2",
   "metadata": {},
   "source": [
    "### Multiple-trait genome scans:"
   ]
  },
  {
   "cell_type": "code",
   "execution_count": 83,
   "id": "cd08a07d-6a5c-45e0-a9a3-2aa199495c2a",
   "metadata": {},
   "outputs": [],
   "source": [
    "BLAS.set_num_threads(Threads.nthreads())"
   ]
  },
  {
   "cell_type": "code",
   "execution_count": 84,
   "id": "e02cca07-1c96-4fa6-89a5-4582abc864f1",
   "metadata": {},
   "outputs": [
    {
     "data": {
      "text/plain": [
       "16"
      ]
     },
     "execution_count": 84,
     "metadata": {},
     "output_type": "execute_result"
    }
   ],
   "source": [
    "BLAS.get_num_threads()"
   ]
  },
  {
   "cell_type": "code",
   "execution_count": 85,
   "id": "bea4f61b-409c-47a7-a2ff-00c7acebe2f0",
   "metadata": {},
   "outputs": [],
   "source": [
    "grid_list = collect(0.0:0.01:0.99);"
   ]
  },
  {
   "cell_type": "markdown",
   "id": "15398327-2dcb-4168-8f30-a8bc4c3957ae",
   "metadata": {},
   "source": [
    "#### For individual liver proteome"
   ]
  },
  {
   "cell_type": "code",
   "execution_count": 86,
   "id": "e3ffddcb-2dfb-4442-a569-a50ef65a4276",
   "metadata": {},
   "outputs": [
    {
     "data": {
      "text/plain": [
       "(248, 32445)"
      ]
     },
     "execution_count": 86,
     "metadata": {},
     "output_type": "execute_result"
    }
   ],
   "source": [
    "size(lpst_ind_Y)"
   ]
  },
  {
   "cell_type": "code",
   "execution_count": 87,
   "id": "743c155d-79e5-4dad-9c70-045bced69678",
   "metadata": {},
   "outputs": [
    {
     "data": {
      "text/plain": [
       "(50, 32445)"
      ]
     },
     "execution_count": 87,
     "metadata": {},
     "output_type": "execute_result"
    }
   ],
   "source": [
    "size(lpst_strains_Y)"
   ]
  },
  {
   "cell_type": "code",
   "execution_count": 88,
   "id": "c97d6a1f-da6a-42e4-9687-037aff817b11",
   "metadata": {},
   "outputs": [
    {
     "data": {
      "text/plain": [
       "16"
      ]
     },
     "execution_count": 88,
     "metadata": {},
     "output_type": "execute_result"
    }
   ],
   "source": [
    "Threads.nthreads()"
   ]
  },
  {
   "cell_type": "code",
   "execution_count": 89,
   "id": "2a304cb3-24ef-483e-a3ee-9ac484b2c3fb",
   "metadata": {},
   "outputs": [
    {
     "name": "stdout",
     "output_type": "stream",
     "text": [
      "208.129944 seconds (2.67 G allocations: 1.887 TiB, 16.28% gc time)\n"
     ]
    }
   ],
   "source": [
    "@time bulkscan_results_ind_null = bulkscan_null(lpst_ind_Y, geno_ind, kinship_ind_from_strains; nb = Threads.nthreads(),\n",
    "                                                prior_variance = 1.0, prior_sample_size = 0.1, optim_interval = 4);"
   ]
  },
  {
   "cell_type": "code",
   "execution_count": 90,
   "id": "0a73fb1d-8e91-4cc8-a227-236ceda8f66b",
   "metadata": {},
   "outputs": [],
   "source": [
    "BLAS.set_num_threads(Threads.nthreads())"
   ]
  },
  {
   "cell_type": "code",
   "execution_count": 91,
   "id": "44d2515c-83a5-419a-a1d1-5e9151ceacc2",
   "metadata": {},
   "outputs": [
    {
     "name": "stdout",
     "output_type": "stream",
     "text": [
      "103.137184 seconds (43.63 M allocations: 208.851 GiB, 1.56% gc time, 0.04% compilation time)\n"
     ]
    }
   ],
   "source": [
    "@time bulkscan_results_ind_alt_grid = bulkscan_alt_grid(lpst_ind_Y, geno_ind, kinship_ind_from_strains, grid_list);"
   ]
  },
  {
   "cell_type": "code",
   "execution_count": 92,
   "id": "c8b20542-0959-472e-9ae8-df190723e01e",
   "metadata": {},
   "outputs": [
    {
     "name": "stdout",
     "output_type": "stream",
     "text": [
      " 18.150817 seconds (46.80 M allocations: 41.700 GiB, 3.90% gc time)\n"
     ]
    }
   ],
   "source": [
    "@time bulkscan_results_ind_null_grid = bulkscan_null_grid(lpst_ind_Y, geno_ind, kinship_ind_from_strains, grid_list);"
   ]
  },
  {
   "cell_type": "markdown",
   "id": "f69ba271-fe23-4764-9186-4167a256a964",
   "metadata": {},
   "source": [
    "#### For liver proteome means by strains"
   ]
  },
  {
   "cell_type": "code",
   "execution_count": 93,
   "id": "f1d7f72c-5fd7-4135-94d0-7afaf3c8e396",
   "metadata": {},
   "outputs": [
    {
     "name": "stdout",
     "output_type": "stream",
     "text": [
      " 98.629623 seconds (2.68 G allocations: 453.974 GiB, 27.05% gc time)\n"
     ]
    }
   ],
   "source": [
    "@time bulkscan_results_strains_null = bulkscan_null(lpst_strains_Y, geno_strains, kinship_strains; nb = Threads.nthreads(),\n",
    "                                                    prior_variance = 1.0, prior_sample_size = 0.1, optim_interval = 4);"
   ]
  },
  {
   "cell_type": "code",
   "execution_count": 94,
   "id": "a1231e79-a93f-4fc7-8927-033d0dc5bf93",
   "metadata": {},
   "outputs": [],
   "source": [
    "BLAS.set_num_threads(Threads.nthreads())"
   ]
  },
  {
   "cell_type": "code",
   "execution_count": 95,
   "id": "72a4ee75-e32b-4f97-b062-55afb687f85c",
   "metadata": {},
   "outputs": [
    {
     "name": "stdout",
     "output_type": "stream",
     "text": [
      " 71.670422 seconds (43.46 M allocations: 184.224 GiB, 3.12% gc time)\n"
     ]
    }
   ],
   "source": [
    "@time bulkscan_results_strains_alt_grid = bulkscan_alt_grid(lpst_strains_Y, geno_strains, kinship_strains, grid_list);"
   ]
  },
  {
   "cell_type": "code",
   "execution_count": 96,
   "id": "bd1ea493-2cc3-4e3c-9f4c-8faaf7cc10d2",
   "metadata": {},
   "outputs": [
    {
     "name": "stdout",
     "output_type": "stream",
     "text": [
      "  8.995208 seconds (43.67 M allocations: 11.769 GiB, 17.55% gc time)\n"
     ]
    }
   ],
   "source": [
    "@time bulkscan_results_strains_null_grid = bulkscan_null_grid(lpst_strains_Y, geno_strains, kinship_strains, grid_list;\n",
    "                                                              prior_variance = 1.0, prior_sample_size = 0.1);"
   ]
  },
  {
   "cell_type": "code",
   "execution_count": 97,
   "id": "d7680b96-f668-4e29-88c0-08bc226fb795",
   "metadata": {},
   "outputs": [
    {
     "data": {
      "text/plain": [
       "\"/home/zyu20/git/BulkLMM_Analyses/BXDLongevity\""
      ]
     },
     "execution_count": 97,
     "metadata": {},
     "output_type": "execute_result"
    }
   ],
   "source": [
    "pwd()"
   ]
  },
  {
   "cell_type": "code",
   "execution_count": 98,
   "id": "1f8ce2a9-4b9c-4e5c-a10d-03169333e9fd",
   "metadata": {},
   "outputs": [
    {
     "data": {
      "text/plain": [
       "7321×32445 Matrix{Float64}:\n",
       " 0.545307  0.468929   0.20646     …  0.00117692  0.0641232  0.0190642\n",
       " 0.545307  0.468929   0.20646        0.00117692  0.0641232  0.0190642\n",
       " 0.545307  0.468929   0.20646        0.00117692  0.0641232  0.0190642\n",
       " 0.545307  0.468929   0.20646        0.00117692  0.0641232  0.0190642\n",
       " 0.545307  0.468929   0.20646        0.00117692  0.0641232  0.0190642\n",
       " 0.545307  0.468929   0.20646     …  0.00117692  0.0641232  0.0190642\n",
       " 0.545307  0.468929   0.20646        0.00117692  0.0641232  0.0190642\n",
       " 0.545307  0.468929   0.20646        0.00117692  0.0641232  0.0190642\n",
       " 0.545307  0.468929   0.20646        0.00117692  0.0641232  0.0190642\n",
       " 0.545307  0.468929   0.20646        0.00117692  0.0641232  0.0190642\n",
       " 0.545307  0.468929   0.20646     …  0.00117692  0.0641232  0.0190642\n",
       " 0.545307  0.468929   0.20646        0.00117692  0.0641232  0.0190642\n",
       " 0.241439  0.290214   0.23155        0.00717917  0.0387175  0.0620101\n",
       " ⋮                                ⋱                         \n",
       " 0.530659  0.0190203  0.202794       0.281427    0.838268   0.582722\n",
       " 0.530659  0.0190203  0.202794    …  0.281427    0.838268   0.582722\n",
       " 0.530659  0.0190203  0.202794       0.281427    0.838268   0.582722\n",
       " 0.928319  0.365603   0.135273       0.453457    0.592415   0.776399\n",
       " 1.00042   0.749244   0.131826       0.468053    0.459616   0.686066\n",
       " 1.00042   0.749244   0.131826       0.468053    0.459616   0.686066\n",
       " 0.819083  0.740687   0.0859258   …  0.356615    0.429848   0.853266\n",
       " 0.492655  0.400394   0.023215       0.4515      0.890168   0.679084\n",
       " 0.819083  0.740687   0.0859258      0.356615    0.429848   0.853266\n",
       " 0.492655  0.400394   0.023215       0.4515      0.890168   0.679084\n",
       " 0.125674  0.459753   0.00774224     0.435938    0.459559   0.441653\n",
       " 0.125674  0.459753   0.00774224  …  0.435938    0.459559   0.441653"
      ]
     },
     "execution_count": 98,
     "metadata": {},
     "output_type": "execute_result"
    }
   ],
   "source": [
    "bulkscan_results_strains_null_grid.L"
   ]
  },
  {
   "cell_type": "markdown",
   "id": "eada40c8-13e0-4830-b41e-e7c2683c9716",
   "metadata": {},
   "source": [
    "### Write-in results:"
   ]
  },
  {
   "cell_type": "code",
   "execution_count": 99,
   "id": "cf58ad1f-e5ea-4f8b-8572-6f2d24614148",
   "metadata": {},
   "outputs": [
    {
     "data": {
      "text/plain": [
       "\"P42209_GLRPLDVAFLR_3\""
      ]
     },
     "execution_count": 99,
     "metadata": {},
     "output_type": "execute_result"
    }
   ],
   "source": [
    "lp_names[lp_id]"
   ]
  },
  {
   "cell_type": "code",
   "execution_count": 100,
   "id": "1d38a868-1ee3-4689-82ac-847217996d74",
   "metadata": {},
   "outputs": [],
   "source": [
    "output_folder_ind_nh = \"BulkLMM_Outputs/Ind_NoHub\";\n",
    "output_folder_strains_nh = \"BulkLMM_Outputs/Strains_NoHub\";"
   ]
  },
  {
   "cell_type": "code",
   "execution_count": 101,
   "id": "fd0b56d4-a4df-4b47-adfc-3a77de0b91fe",
   "metadata": {},
   "outputs": [
    {
     "data": {
      "text/plain": [
       "\"/home/zyu20/git/BulkLMM_Analyses/BXDLongevity\""
      ]
     },
     "execution_count": 101,
     "metadata": {},
     "output_type": "execute_result"
    }
   ],
   "source": [
    "pwd()"
   ]
  },
  {
   "cell_type": "markdown",
   "id": "26c1df5c-6932-42a6-81b5-46f24666f00f",
   "metadata": {},
   "source": [
    "#### Single_trait:"
   ]
  },
  {
   "cell_type": "code",
   "execution_count": null,
   "id": "846bf97e-04eb-4f2b-b6d1-19e85cdee17f",
   "metadata": {},
   "outputs": [],
   "source": []
  },
  {
   "cell_type": "code",
   "execution_count": null,
   "id": "961dbb0d-fed1-4929-bc58-0d6f3b23a2fd",
   "metadata": {},
   "outputs": [],
   "source": []
  },
  {
   "cell_type": "markdown",
   "id": "c4a2a091-53aa-48b5-8758-5be4517c2fe6",
   "metadata": {},
   "source": [
    "#### Multiple_traits:"
   ]
  },
  {
   "cell_type": "code",
   "execution_count": 102,
   "id": "3d9082ae-5fb4-41d6-83be-26cbd85df42d",
   "metadata": {},
   "outputs": [],
   "source": [
    "b_ind_null = vcat(bulkscan_results_ind_null.h2_null_list', bulkscan_results_ind_null.L);"
   ]
  },
  {
   "cell_type": "code",
   "execution_count": 103,
   "id": "20e3cf95-f6ba-4864-af4d-c174f932e9db",
   "metadata": {},
   "outputs": [],
   "source": [
    "b_ind_null_grid = vcat(bulkscan_results_ind_null_grid.h2_null_list', bulkscan_results_ind_null_grid.L);"
   ]
  },
  {
   "cell_type": "code",
   "execution_count": null,
   "id": "8b27e45d-8f27-49b4-85a6-d85eb52f78d4",
   "metadata": {},
   "outputs": [],
   "source": []
  },
  {
   "cell_type": "code",
   "execution_count": null,
   "id": "686deed9-6c49-401a-9c00-21c8ac6e0864",
   "metadata": {},
   "outputs": [],
   "source": []
  },
  {
   "cell_type": "code",
   "execution_count": 104,
   "id": "735aa2ef-ebf0-4074-ae74-d0e19cf92eea",
   "metadata": {},
   "outputs": [],
   "source": [
    "b_strains_null = vcat(bulkscan_results_strains_null.h2_null_list', bulkscan_results_strains_null.L);"
   ]
  },
  {
   "cell_type": "code",
   "execution_count": 105,
   "id": "27fece3b-43f8-405d-b91f-56273fc4394c",
   "metadata": {},
   "outputs": [],
   "source": [
    "b_strains_null_grid = vcat(bulkscan_results_strains_null_grid.h2_null_list', bulkscan_results_strains_null_grid.L);"
   ]
  },
  {
   "cell_type": "code",
   "execution_count": 106,
   "id": "a659edf2-2957-410a-91d2-c0952439f7a9",
   "metadata": {},
   "outputs": [],
   "source": [
    "b_strains_null_grid = vcat(bulkscan_results_strains_null_grid.h2_null_list', bulkscan_results_strains_null_grid.L);"
   ]
  },
  {
   "cell_type": "code",
   "execution_count": null,
   "id": "18e22ec5-308e-4a4f-b10b-409aae17eac1",
   "metadata": {},
   "outputs": [],
   "source": []
  },
  {
   "cell_type": "markdown",
   "id": "1636f06a-05e5-4d55-a747-f2cb0e31b0ee",
   "metadata": {},
   "source": [
    "## Examine loglikelihood:"
   ]
  },
  {
   "cell_type": "code",
   "execution_count": 107,
   "id": "84314d32-ae36-4cc2-8beb-ec6df9a666d2",
   "metadata": {},
   "outputs": [
    {
     "data": {
      "text/plain": [
       "232-element Vector{Int64}:\n",
       "    18\n",
       "   123\n",
       "   191\n",
       "   290\n",
       "   409\n",
       "  1408\n",
       "  2031\n",
       "  2035\n",
       "  2086\n",
       "  2113\n",
       "  2114\n",
       "  2115\n",
       "  2116\n",
       "     ⋮\n",
       " 30676\n",
       " 30677\n",
       " 30678\n",
       " 30682\n",
       " 30685\n",
       " 31221\n",
       " 31663\n",
       " 32099\n",
       " 32158\n",
       " 32214\n",
       " 32420\n",
       " 32426"
      ]
     },
     "execution_count": 107,
     "metadata": {},
     "output_type": "execute_result"
    }
   ],
   "source": [
    "findall(map(x -> (x <= 0.97) & (x >= 0.93), bulkscan_results_strains_null_grid.h2_null_list))"
   ]
  },
  {
   "cell_type": "code",
   "execution_count": 108,
   "id": "ac7d1b80-5a27-4d3e-b952-fe71273b47cb",
   "metadata": {},
   "outputs": [],
   "source": [
    "lp_id = 31663;"
   ]
  },
  {
   "cell_type": "code",
   "execution_count": 109,
   "id": "ff5a83dc-31e7-4b2d-9aff-0d11bd4b972b",
   "metadata": {},
   "outputs": [],
   "source": [
    "lp_id = 29437;"
   ]
  },
  {
   "cell_type": "code",
   "execution_count": 110,
   "id": "557a4df1-bab1-4759-9fe5-ee8b90ebb58a",
   "metadata": {},
   "outputs": [
    {
     "data": {
      "text/plain": [
       "0.0"
      ]
     },
     "execution_count": 110,
     "metadata": {},
     "output_type": "execute_result"
    }
   ],
   "source": [
    "bulkscan_results_strains_null_grid.h2_null_list[lp_id]"
   ]
  },
  {
   "cell_type": "code",
   "execution_count": 111,
   "id": "5ed199d5-31bc-4b63-9cd4-511a559237fa",
   "metadata": {},
   "outputs": [
    {
     "data": {
      "text/plain": [
       "50×1 Matrix{Float64}:\n",
       "  0.723101667393456\n",
       " -0.005229579803751027\n",
       "  0.5671044782774387\n",
       "  0.8729002927035177\n",
       " -0.39874446384713513\n",
       "  0.6649901317128264\n",
       " -0.4280034188751577\n",
       " -0.0155605194803013\n",
       "  0.12261579869361594\n",
       "  0.2814539962206704\n",
       "  1.3658337001277736\n",
       "  0.7530613924554537\n",
       " -0.5906494948086091\n",
       "  ⋮\n",
       "  1.1931594226767412\n",
       "  0.30883098636353506\n",
       "  1.482425733620314\n",
       " -0.7783282322660338\n",
       "  0.7472071933054312\n",
       "  1.2293177115446947\n",
       "  0.0112999236787551\n",
       "  0.7468628286495163\n",
       "  1.0433607973666796\n",
       " -0.4533340882743783\n",
       " -0.3812757840304122\n",
       " -0.6036293933765857"
      ]
     },
     "execution_count": 111,
     "metadata": {},
     "output_type": "execute_result"
    }
   ],
   "source": [
    "lpst_strains_y = reshape(lpst_strains_Y[:, lp_id], :, 1)"
   ]
  },
  {
   "cell_type": "code",
   "execution_count": 112,
   "id": "b9b430e6-7ac1-4ec8-b267-fd7f67d76c23",
   "metadata": {},
   "outputs": [
    {
     "data": {
      "text/plain": [
       "getLL (generic function with 3 methods)"
      ]
     },
     "execution_count": 112,
     "metadata": {},
     "output_type": "execute_result"
    }
   ],
   "source": [
    "## Inputs: Original data, a given h2 to evaluate loglik on\n",
    "##         (optional) prior for regularization loglik near the upper boundary pt.\n",
    "## Outputs: the logliks (null, alt mean model) under the given h2\n",
    "function getLL(y::Array{Float64, 2}, G::Array{Float64, 2}, K::Array{Float64, 2}, \n",
    "               markerID::Int64, h2::Float64; prior::Array{Float64, 1} = [0.0, 0.0])\n",
    "    \n",
    "    Gj = reshape(G[:, markerID], :, 1);\n",
    "    (y0, X0, lambda0) = transform_rotation(y, Gj, K; addIntercept = true);\n",
    "    w = makeweights(h2, lambda0);\n",
    "    X0_inter = reshape(X0[:, 1], :, 1);\n",
    "    \n",
    "    return (ll_null = wls(y0, X0_inter, w, prior).ell, ll_markerID = wls(y0, X0, w, prior).ell)\n",
    "end\n",
    "\n",
    "function getLL(y0::Array{Float64, 2}, X0::Array{Float64, 2}, lambda0::Array{Float64, 1}, \n",
    "               markerID::Int64, h2::Float64; prior::Array{Float64, 1} = [0.0, 0.0])\n",
    "    \n",
    "    n = size(y0, 1);\n",
    "    w = makeweights(h2, lambda0);\n",
    "\n",
    "    X0_inter = reshape(X0[:, 1], :, 1);\n",
    "    X_design = zeros(n, 2);\n",
    "    X_design[:, 1] = X0[:, 1];\n",
    "    X_design[:, 2] = X0[:, markerID+1];\n",
    "    \n",
    "    return (ll_null = wls(y0, X0_inter, w, prior).ell, ll_markerID = wls(y0, X_design, w, prior).ell)\n",
    "end"
   ]
  },
  {
   "cell_type": "code",
   "execution_count": 113,
   "id": "b678e8d5-f75d-48a6-b369-fb2642f5ec5b",
   "metadata": {},
   "outputs": [
    {
     "name": "stdout",
     "output_type": "stream",
     "text": [
      "  0.578171 seconds (684.13 k allocations: 41.191 MiB, 43.82% gc time, 93.97% compilation time)\n"
     ]
    },
    {
     "data": {
      "text/plain": [
       "Results of Optimization Algorithm\n",
       " * Algorithm: Brent's Method\n",
       " * Search Interval: [0.000000, 1.000000]\n",
       " * Minimizer: 1.000000e+00\n",
       " * Minimum: 2.433404e+01\n",
       " * Iterations: 36\n",
       " * Convergence: max(|x - x_upper|, |x - x_lower|) <= 2*(1.5e-08*|x|+2.2e-16): true\n",
       " * Objective Function Calls: 37"
      ]
     },
     "execution_count": 113,
     "metadata": {},
     "output_type": "execute_result"
    }
   ],
   "source": [
    "@time opt = optimize(x -> -getLL(lpst_strains_y, geno_strains, kinship_strains, 1997, x; prior = prior).ll_null, 0.0, 1.0)"
   ]
  },
  {
   "cell_type": "code",
   "execution_count": 114,
   "id": "fa61ed18-c2f9-46c1-8b7f-a8b56e2c5916",
   "metadata": {},
   "outputs": [
    {
     "name": "stdout",
     "output_type": "stream",
     "text": [
      "  0.726407 seconds (308.83 k allocations: 48.726 MiB, 34.76% gc time, 17.70% compilation time)\n"
     ]
    }
   ],
   "source": [
    "@time gridopt = gridbrent(x -> -getLL(lpst_strains_y, geno_strains, kinship_strains, 1997, x; prior = prior).ll_null, 0.0, 1.0, 10);"
   ]
  },
  {
   "cell_type": "code",
   "execution_count": 115,
   "id": "240dbb33-7548-46d6-a29e-8a26d895d6f0",
   "metadata": {},
   "outputs": [
    {
     "data": {
      "text/plain": [
       "0.9999999816824213"
      ]
     },
     "execution_count": 115,
     "metadata": {},
     "output_type": "execute_result"
    }
   ],
   "source": [
    "gridopt.minimizer"
   ]
  },
  {
   "cell_type": "code",
   "execution_count": 116,
   "id": "7eebb403-adfe-4701-9640-f1b96638e1c4",
   "metadata": {},
   "outputs": [
    {
     "name": "stdout",
     "output_type": "stream",
     "text": [
      "  0.094930 seconds (199.73 k allocations: 39.325 MiB, 13.03% gc time, 37.18% compilation time)\n"
     ]
    }
   ],
   "source": [
    "@time ml_null = scan(lpst_strains_y, geno_strains, kinship_strains; \n",
    "                     prior_variance = prior[1], prior_sample_size = prior[2]);"
   ]
  },
  {
   "cell_type": "code",
   "execution_count": 117,
   "id": "29ad8deb-e6c1-43d5-8b45-4b8d115413d1",
   "metadata": {},
   "outputs": [
    {
     "name": "stdout",
     "output_type": "stream",
     "text": [
      "  0.092756 seconds (203.76 k allocations: 39.563 MiB, 12.61% gc time, 40.15% compilation time)\n"
     ]
    }
   ],
   "source": [
    "@time reml_null = scan(lpst_strains_y, geno_strains, kinship_strains; \n",
    "                       reml = true, \n",
    "                       prior_variance = prior[1], prior_sample_size = prior[2]);"
   ]
  },
  {
   "cell_type": "code",
   "execution_count": 118,
   "id": "7590f818-3a8e-4549-87c0-2df762f4b461",
   "metadata": {},
   "outputs": [
    {
     "name": "stdout",
     "output_type": "stream",
     "text": [
      "  2.018050 seconds (6.85 M allocations: 2.062 GiB, 10.54% gc time, 1.87% compilation time)\n"
     ]
    }
   ],
   "source": [
    "@time ml_alt = scan(lpst_strains_y, geno_strains, kinship_strains; \n",
    "                    reml = false, assumption = \"alt\", \n",
    "                    prior_variance = prior[1], prior_sample_size = prior[2]);"
   ]
  },
  {
   "cell_type": "code",
   "execution_count": 119,
   "id": "67d93961-d10c-4dc3-ba62-0dcae7b49ff4",
   "metadata": {},
   "outputs": [
    {
     "name": "stdout",
     "output_type": "stream",
     "text": [
      "  1.833922 seconds (6.32 M allocations: 1.920 GiB, 10.02% gc time)\n"
     ]
    }
   ],
   "source": [
    "@time reml_alt = scan(lpst_strains_y, geno_strains, kinship_strains; \n",
    "                      reml = true, assumption = \"alt\",\n",
    "                      prior_variance = prior[1], prior_sample_size = prior[2]);"
   ]
  },
  {
   "cell_type": "code",
   "execution_count": 120,
   "id": "d03b2ecb-da4a-493a-b6bf-036bc115ca27",
   "metadata": {},
   "outputs": [
    {
     "data": {
      "text/plain": [
       "0.999999984947842"
      ]
     },
     "execution_count": 120,
     "metadata": {},
     "output_type": "execute_result"
    }
   ],
   "source": [
    "opt.minimizer"
   ]
  },
  {
   "cell_type": "code",
   "execution_count": 121,
   "id": "e3bbd867-f813-4b4f-ac18-37dfacd7b7c9",
   "metadata": {},
   "outputs": [
    {
     "data": {
      "text/plain": [
       "24.33403608624127"
      ]
     },
     "execution_count": 121,
     "metadata": {},
     "output_type": "execute_result"
    }
   ],
   "source": [
    "opt.minimum"
   ]
  },
  {
   "cell_type": "code",
   "execution_count": 122,
   "id": "15261040-1dc9-4e7f-98da-8e00ade3128d",
   "metadata": {},
   "outputs": [
    {
     "data": {
      "text/plain": [
       "(minimum = 24.334036103990684, minimizer = 0.9999999816824213)"
      ]
     },
     "execution_count": 122,
     "metadata": {},
     "output_type": "execute_result"
    }
   ],
   "source": [
    "gridopt"
   ]
  },
  {
   "cell_type": "code",
   "execution_count": 123,
   "id": "be852430-7110-4c96-ba52-69356b363633",
   "metadata": {},
   "outputs": [
    {
     "data": {
      "text/plain": [
       "2-element Vector{Float64}:\n",
       " 1.0\n",
       " 0.0"
      ]
     },
     "execution_count": 123,
     "metadata": {},
     "output_type": "execute_result"
    }
   ],
   "source": [
    "prior"
   ]
  },
  {
   "cell_type": "code",
   "execution_count": 124,
   "id": "bdeb41e8-7255-4bc8-b9a3-2dbbf00d9cf1",
   "metadata": {},
   "outputs": [],
   "source": [
    "prior = [1.0, 0.1];"
   ]
  },
  {
   "cell_type": "code",
   "execution_count": 125,
   "id": "d0b4cc9c-9325-4dbd-8ca2-83ed987b4b40",
   "metadata": {},
   "outputs": [
    {
     "ename": "LoadError",
     "evalue": "UndefVarError: h2_grid not defined",
     "output_type": "error",
     "traceback": [
      "UndefVarError: h2_grid not defined",
      "",
      "Stacktrace:",
      " [1] macro expansion",
      "   @ In[125]:2 [inlined]",
      " [2] top-level scope",
      "   @ timing.jl:220"
     ]
    }
   ],
   "source": [
    "@time begin\n",
    "    ind_ll = map(x -> getLL(lpst_ind_y, geno_ind, kinship_ind_from_strains, 1997, x; prior = prior), h2_grid);\n",
    "    strains_ll = map(x -> getLL(lpst_strains_y, geno_strains, kinship_strains, 1997, x; prior = prior), h2_grid);\n",
    "\n",
    "    ind_ell_list2 = zeros(1000);\n",
    "    ind_ell_list_alt2 = zeros(1000);\n",
    "    strains_ell_list = zeros(1000);\n",
    "    strains_ell_list_alt = zeros(1000);\n",
    "    for k in 1:1000 \n",
    "        ind_ell_list2[k] = ind_ll[k].ll_null;\n",
    "        strains_ell_list[k] = strains_ll[k].ll_null;\n",
    "        strains_ell_list_alt[k] = strains_ll[k].ll_markerID;\n",
    "    end\n",
    "end"
   ]
  },
  {
   "cell_type": "code",
   "execution_count": 126,
   "id": "856c3b51-537b-4f56-b580-db048acb7fa4",
   "metadata": {},
   "outputs": [],
   "source": [
    "h2_grid = 0.001*collect(0:999);"
   ]
  },
  {
   "cell_type": "code",
   "execution_count": 127,
   "id": "b078565f-5581-467f-b39a-61f8bea7168d",
   "metadata": {},
   "outputs": [
    {
     "name": "stdout",
     "output_type": "stream",
     "text": [
      "  0.152997 seconds (65.76 k allocations: 85.281 MiB, 17.40% gc time, 35.04% compilation time)\n"
     ]
    }
   ],
   "source": [
    "@time begin\n",
    "    ind_ell_list = zeros(1000);\n",
    "    ind_ell_list_alt = zeros(1000);\n",
    "\n",
    "\n",
    "    (lpst_ind_y0, geno_ind0, lambda_ind0) = transform_rotation(lpst_ind_y, geno_ind, kinship_ind_from_strains;\n",
    "                                                              addIntercept = true);\n",
    "    markerID = 1997;\n",
    "\n",
    "    for k in 1:length(h2_grid)\n",
    "        curr_h2 = h2_grid[k];\n",
    "        output = getLL(lpst_ind_y0, geno_ind0, lambda_ind0, markerID, curr_h2; prior = prior);\n",
    "        ind_ell_list[k] = output.ll_null;\n",
    "        ind_ell_list_alt[k] = output.ll_markerID;\n",
    "    end\n",
    "    \n",
    "end"
   ]
  },
  {
   "cell_type": "code",
   "execution_count": 128,
   "id": "c8c45ced-1187-42c9-a7cf-5e5220601657",
   "metadata": {},
   "outputs": [
    {
     "ename": "LoadError",
     "evalue": "UndefVarError: ind_ell_list2 not defined",
     "output_type": "error",
     "traceback": [
      "UndefVarError: ind_ell_list2 not defined",
      "",
      "Stacktrace:",
      " [1] top-level scope",
      "   @ In[128]:1"
     ]
    }
   ],
   "source": [
    "sum(ind_ell_list .- ind_ell_list2)"
   ]
  },
  {
   "cell_type": "code",
   "execution_count": 129,
   "id": "212818a6-770a-4c30-953d-e5ac974d19bb",
   "metadata": {},
   "outputs": [
    {
     "data": {
      "text/plain": [
       "1000-element Vector{Float64}:\n",
       " -1.3591185962713581\n",
       " -1.3551960536914294\n",
       " -1.3512723118882803\n",
       " -1.3473477895975776\n",
       " -1.3434228894584805\n",
       " -1.339497998655986\n",
       " -1.3355734895337719\n",
       " -1.3316497201807067\n",
       " -1.3277270349903603\n",
       " -1.3238057651968091\n",
       " -1.319886229386583\n",
       " -1.3159687339882566\n",
       " -1.312053573741025\n",
       "  ⋮\n",
       " -0.0004418734557702919\n",
       " -0.0003997969494946574\n",
       " -0.0003586973674032379\n",
       " -0.0003185683166293529\n",
       " -0.0002794033529767148\n",
       " -0.0002411959802657293\n",
       " -0.00020393964987874824\n",
       " -0.00016762775968004462\n",
       " -0.00013225365324842642\n",
       " -9.781061930880242e-5\n",
       " -6.429189096479604e-5\n",
       " -3.1690644789250655e-5"
      ]
     },
     "execution_count": 129,
     "metadata": {},
     "output_type": "execute_result"
    }
   ],
   "source": [
    "ind_ell_list .- ind_ell_list_alt"
   ]
  },
  {
   "cell_type": "code",
   "execution_count": 130,
   "id": "70768942-7cd8-492c-bb2e-006079c632ae",
   "metadata": {},
   "outputs": [
    {
     "data": {
      "text/plain": [
       "0.9999999816824213"
      ]
     },
     "execution_count": 130,
     "metadata": {},
     "output_type": "execute_result"
    }
   ],
   "source": [
    "gridopt.minimizer"
   ]
  },
  {
   "cell_type": "code",
   "execution_count": null,
   "id": "db93cd62-9e1e-4d5f-81cb-347cd61e40e6",
   "metadata": {},
   "outputs": [],
   "source": []
  },
  {
   "cell_type": "code",
   "execution_count": 131,
   "id": "2d0f18a8-e23d-4b49-92f7-04ee04f1d4aa",
   "metadata": {},
   "outputs": [
    {
     "ename": "LoadError",
     "evalue": "UndefVarError: strains_ell_list not defined",
     "output_type": "error",
     "traceback": [
      "UndefVarError: strains_ell_list not defined",
      "",
      "Stacktrace:",
      " [1] top-level scope",
      "   @ In[131]:1"
     ]
    }
   ],
   "source": [
    "plot(collect(0.001:0.001:0.999), strains_ell_list, label = \"Intercept\", ylab = \"loglik\", xlab = \"h2\")\n",
    "# plot!(collect(0.001:0.001:0.999), strains_ell_list_alt, label = \"alt\")\n",
    "scatter!([opt.minimizer], [-opt.minimum], label = \"brents_optim\", color = \"blue\")\n",
    "plot!([opt.minimizer, opt.minimizer], [-35.5, -opt.minimum], color = \"blue\", style = :dash, label = \"\")\n",
    "plot!([-0.02, opt.minimizer], ones(2).* (-opt.minimum), color = \"blue\", style = :dash, label = \"\")\n",
    "# scatter!([gridopt.minimizer], [-gridopt.minimum], label = \"grid_brents_optim\", color = \"red\")\n",
    "# plot!([gridopt.minimizer, gridopt.minimizer], [-35.5, -gridopt.minimum], color = \"red\", style = :dash, label = \"\")\n",
    "# plot!([-0.02, gridopt.minimizer], ones(2).* (-gridopt.minimum), color = \"red\", style = :dash, label = \"\")\n",
    "annotate!(opt.minimizer, -35.5, \n",
    "          text(\"0.9275\", :blue, :below, 8))\n",
    "xlims!((-0.025, 1.05))\n",
    "ylims!((-35.0, -24.0))"
   ]
  },
  {
   "cell_type": "code",
   "execution_count": 132,
   "id": "e33645e9-e05f-4d11-99da-7844f66f31b9",
   "metadata": {},
   "outputs": [
    {
     "data": {
      "text/plain": [
       "0.1"
      ]
     },
     "execution_count": 132,
     "metadata": {},
     "output_type": "execute_result"
    }
   ],
   "source": [
    "min(1.0, 0.1)"
   ]
  },
  {
   "cell_type": "code",
   "execution_count": 133,
   "id": "39f1b04e-8351-4e73-9ec1-cb34e0c86033",
   "metadata": {},
   "outputs": [
    {
     "ename": "LoadError",
     "evalue": "MethodError: no method matching min(::Vector{Float64})\n\u001b[0mClosest candidates are:\n\u001b[0m  min(::Any, \u001b[91m::Missing\u001b[39m) at ~/Softwares/Julia/julia-1.7.3/share/julia/base/missing.jl:134\n\u001b[0m  min(::Any, \u001b[91m::Any\u001b[39m) at ~/Softwares/Julia/julia-1.7.3/share/julia/base/operators.jl:506\n\u001b[0m  min(::Any, \u001b[91m::Any\u001b[39m, \u001b[91m::Any\u001b[39m, \u001b[91m::Any...\u001b[39m) at ~/Softwares/Julia/julia-1.7.3/share/julia/base/operators.jl:655\n\u001b[0m  ...",
     "output_type": "error",
     "traceback": [
      "MethodError: no method matching min(::Vector{Float64})\n\u001b[0mClosest candidates are:\n\u001b[0m  min(::Any, \u001b[91m::Missing\u001b[39m) at ~/Softwares/Julia/julia-1.7.3/share/julia/base/missing.jl:134\n\u001b[0m  min(::Any, \u001b[91m::Any\u001b[39m) at ~/Softwares/Julia/julia-1.7.3/share/julia/base/operators.jl:506\n\u001b[0m  min(::Any, \u001b[91m::Any\u001b[39m, \u001b[91m::Any\u001b[39m, \u001b[91m::Any...\u001b[39m) at ~/Softwares/Julia/julia-1.7.3/share/julia/base/operators.jl:655\n\u001b[0m  ...",
      "",
      "Stacktrace:",
      " [1] top-level scope",
      "   @ In[133]:1"
     ]
    }
   ],
   "source": [
    "min([1.0, 1.2, 3.0, 2.3])"
   ]
  },
  {
   "cell_type": "code",
   "execution_count": 134,
   "id": "41c11bb7-c5c9-424d-b813-677fd712ffc3",
   "metadata": {},
   "outputs": [
    {
     "data": {
      "text/plain": [
       "StepRangeLen{Float64, Base.TwicePrecision{Float64}, Base.TwicePrecision{Float64}, Int64}"
      ]
     },
     "execution_count": 134,
     "metadata": {},
     "output_type": "execute_result"
    }
   ],
   "source": [
    "typeof(1.0:10.0)"
   ]
  },
  {
   "cell_type": "code",
   "execution_count": 135,
   "id": "a83c108c-4525-413f-99df-3ea863d8de7b",
   "metadata": {},
   "outputs": [
    {
     "name": "stdout",
     "output_type": "stream",
     "text": [
      "search: \u001b[0m\u001b[1my\u001b[22m\u001b[0m\u001b[1ml\u001b[22m\u001b[0m\u001b[1mi\u001b[22m\u001b[0m\u001b[1mm\u001b[22m\u001b[0m\u001b[1ms\u001b[22m \u001b[0m\u001b[1my\u001b[22m\u001b[0m\u001b[1ml\u001b[22m\u001b[0m\u001b[1mi\u001b[22m\u001b[0m\u001b[1mm\u001b[22m\u001b[0m\u001b[1ms\u001b[22m!\n",
      "\n"
     ]
    },
    {
     "data": {
      "text/latex": [
       "\\begin{verbatim}\n",
       "ylims([plt])\n",
       "\\end{verbatim}\n",
       "Returns the y axis limits of the current plot or subplot\n",
       "\n"
      ],
      "text/markdown": [
       "```\n",
       "ylims([plt])\n",
       "```\n",
       "\n",
       "Returns the y axis limits of the current plot or subplot\n"
      ],
      "text/plain": [
       "\u001b[36m  ylims([plt])\u001b[39m\n",
       "\n",
       "  Returns the y axis limits of the current plot or subplot"
      ]
     },
     "execution_count": 135,
     "metadata": {},
     "output_type": "execute_result"
    }
   ],
   "source": [
    "?ylims"
   ]
  },
  {
   "cell_type": "code",
   "execution_count": 136,
   "id": "6e420b54-7a4c-4c13-86a5-ee383b660f7f",
   "metadata": {},
   "outputs": [
    {
     "ename": "LoadError",
     "evalue": "UndefVarError: strains_ell_list not defined",
     "output_type": "error",
     "traceback": [
      "UndefVarError: strains_ell_list not defined",
      "",
      "Stacktrace:",
      " [1] top-level scope",
      "   @ In[136]:1"
     ]
    }
   ],
   "source": [
    "findmax(strains_ell_list)"
   ]
  },
  {
   "cell_type": "code",
   "execution_count": 137,
   "id": "e6908b72-61d6-46e2-bfdc-00d514d2570c",
   "metadata": {},
   "outputs": [
    {
     "ename": "LoadError",
     "evalue": "UndefVarError: strains_ell_list not defined",
     "output_type": "error",
     "traceback": [
      "UndefVarError: strains_ell_list not defined",
      "",
      "Stacktrace:",
      " [1] top-level scope",
      "   @ In[137]:2"
     ]
    }
   ],
   "source": [
    "plot(collect(1:999).*0.001, ind_ell_list, xlabel = \"h2\", ylabel = \"loglik\", label = \"LP individuals\", color = \"blue\", legend=:bottomleft)\n",
    "plot!(collect(1:999).*0.001, strains_ell_list, xlabel = \"h2\", ylabel = \"loglik\", label = \"LP strain means\", color = \"red\")"
   ]
  },
  {
   "cell_type": "code",
   "execution_count": null,
   "id": "e3020beb-ee92-4bf1-a165-a6a84abe79b9",
   "metadata": {},
   "outputs": [],
   "source": []
  },
  {
   "cell_type": "code",
   "execution_count": null,
   "id": "443adcf5-255a-43b7-999a-7990d76ba1fd",
   "metadata": {},
   "outputs": [],
   "source": []
  },
  {
   "cell_type": "markdown",
   "id": "4cb7caa4-7cb7-4d75-b371-f2919122e458",
   "metadata": {},
   "source": [
    "## Examine hsqs, maxLods:"
   ]
  },
  {
   "cell_type": "code",
   "execution_count": 138,
   "id": "6c875ef5-3efe-48e4-855a-e5196af469d1",
   "metadata": {},
   "outputs": [],
   "source": [
    "L_ind_null = bulkscan_results_ind_null.L;"
   ]
  },
  {
   "cell_type": "code",
   "execution_count": 139,
   "id": "d2db9e6b-baf4-465e-add8-3c3938e0c2dc",
   "metadata": {},
   "outputs": [],
   "source": [
    "L_ind_null_grid = bulkscan_results_ind_null_grid.L;"
   ]
  },
  {
   "cell_type": "code",
   "execution_count": 140,
   "id": "8af2bb19-f013-4038-a40e-e7568e1b28a5",
   "metadata": {},
   "outputs": [
    {
     "data": {
      "text/plain": [
       "getMaxLODs (generic function with 1 method)"
      ]
     },
     "execution_count": 140,
     "metadata": {},
     "output_type": "execute_result"
    }
   ],
   "source": [
    "function getMaxLODs(L::Array{Float64, 2})\n",
    "    \n",
    "    m = size(L, 2);\n",
    "    max_marker = Array{Int64, 1}(undef, m);\n",
    "    max_lod = Array{Float64, 1}(undef, m);\n",
    "    \n",
    "    for i in 1:m\n",
    "        result_i = findmax(L[:, i]); \n",
    "        max_marker[i] = result_i[2];\n",
    "        max_lod[i] = result_i[1];\n",
    "    end\n",
    "    \n",
    "    return (max_markers = max_marker, max_lod = max_lod);\n",
    "end"
   ]
  },
  {
   "cell_type": "code",
   "execution_count": 141,
   "id": "e9e73599-aa37-44ef-a623-814ea7144d25",
   "metadata": {},
   "outputs": [
    {
     "name": "stdout",
     "output_type": "stream",
     "text": [
      "  3.075366 seconds (129.79 k allocations: 3.547 GiB, 9.47% gc time)\n"
     ]
    }
   ],
   "source": [
    "@time begin\n",
    "    max_results_ind = getMaxLODs(L_ind_null);\n",
    "    max_results_ind_grid = getMaxLODs(L_ind_null_grid);\n",
    "end;"
   ]
  },
  {
   "cell_type": "code",
   "execution_count": 142,
   "id": "ac5e8245-703c-4e75-a007-dcb3e4683618",
   "metadata": {},
   "outputs": [
    {
     "data": {
      "text/plain": [
       "\"/home/zyu20/git/BulkLMM_Analyses/BXDLongevity\""
      ]
     },
     "execution_count": 142,
     "metadata": {},
     "output_type": "execute_result"
    }
   ],
   "source": [
    "pwd()"
   ]
  },
  {
   "cell_type": "code",
   "execution_count": 143,
   "id": "100b2191-490d-4e5b-9340-8ada99594b7e",
   "metadata": {},
   "outputs": [],
   "source": [
    "# CSV.write(\"output/max_results_ind.csv\", DataFrame(round.(hcat(max_results_ind.max_markers, max_results_ind.max_lod), digits = 2), [\"max_marker\", \"max_lod\"]))"
   ]
  },
  {
   "cell_type": "code",
   "execution_count": 144,
   "id": "88e030de-5c8f-46be-a46c-f01cc2520088",
   "metadata": {},
   "outputs": [],
   "source": [
    "# CSV.write(\"output/max_results_ind_grid.csv\", DataFrame(round.(hcat(max_results_ind_grid.max_markers, max_results_ind_grid.max_lod), digits = 2), [\"max_marker\", \"max_lod\"]))"
   ]
  },
  {
   "cell_type": "code",
   "execution_count": 145,
   "id": "7cfbefdf-2b7d-4420-af29-c9f0f64cba6d",
   "metadata": {},
   "outputs": [
    {
     "name": "stdout",
     "output_type": "stream",
     "text": [
      "551.405820 seconds (2.67 G allocations: 1.887 TiB, 69.43% gc time)\n"
     ]
    }
   ],
   "source": [
    "@time bulkscan_results_ind_null_4 = bulkscan_null(lpst_ind_Y, geno_ind, kinship_ind_from_strains; nb = Threads.nthreads(),\n",
    "                                                  prior_variance = 1.0, prior_sample_size = 0.1, optim_interval = 4);"
   ]
  },
  {
   "cell_type": "code",
   "execution_count": 146,
   "id": "7e3d6152-539f-40b8-bb82-dd36c2696a1a",
   "metadata": {},
   "outputs": [
    {
     "name": "stdout",
     "output_type": "stream",
     "text": [
      " 96.616815 seconds (2.68 G allocations: 453.974 GiB, 25.81% gc time)\n"
     ]
    }
   ],
   "source": [
    "@time bulkscan_results_null_strains_4 = bulkscan_null(lpst_strains_Y, geno_strains, kinship_strains; nb = Threads.nthreads(),\n",
    "                                                      prior_variance = 1.0, prior_sample_size = 0.1, optim_interval = 4);"
   ]
  },
  {
   "cell_type": "code",
   "execution_count": 147,
   "id": "5ce1c297-dedb-4502-a146-094593e2ade3",
   "metadata": {},
   "outputs": [],
   "source": [
    "L_ind = bulkscan_results_ind_null.L;\n",
    "L_strains = bulkscan_results_strains_null.L;\n",
    "h2s_ind = bulkscan_results_ind_null.h2_null_list;\n",
    "h2s_strains = bulkscan_results_strains_null.h2_null_list;"
   ]
  },
  {
   "cell_type": "code",
   "execution_count": 148,
   "id": "166fc44a-cfd0-4b0c-9120-3aec112e070c",
   "metadata": {},
   "outputs": [],
   "source": [
    "L_ind_4 = bulkscan_results_ind_null_4.L;\n",
    "L_strains_4 = bulkscan_results_null_strains_4.L;\n",
    "h2s_ind_4 = bulkscan_results_ind_null_4.h2_null_list;\n",
    "h2s_strains_4 = bulkscan_results_null_strains_4.h2_null_list;"
   ]
  },
  {
   "cell_type": "code",
   "execution_count": null,
   "id": "779f01cc-c95a-4711-a063-56f1d948e7f1",
   "metadata": {},
   "outputs": [],
   "source": []
  },
  {
   "cell_type": "markdown",
   "id": "81d2a958-0b9c-4ebe-8b25-d50069886e3b",
   "metadata": {},
   "source": [
    "## Get Plot:"
   ]
  },
  {
   "cell_type": "code",
   "execution_count": 149,
   "id": "a31b7b0c-4fea-48ea-8d32-113660a1d21b",
   "metadata": {},
   "outputs": [
    {
     "ename": "LoadError",
     "evalue": "ArgumentError: \"data/BXD_pmap.csv\" is not a valid file or doesn't exist",
     "output_type": "error",
     "traceback": [
      "ArgumentError: \"data/BXD_pmap.csv\" is not a valid file or doesn't exist",
      "",
      "Stacktrace:",
      " [1] CSV.Context(source::CSV.Arg, header::CSV.Arg, normalizenames::CSV.Arg, datarow::CSV.Arg, skipto::CSV.Arg, footerskip::CSV.Arg, transpose::CSV.Arg, comment::CSV.Arg, ignoreemptyrows::CSV.Arg, ignoreemptylines::CSV.Arg, select::CSV.Arg, drop::CSV.Arg, limit::CSV.Arg, buffer_in_memory::CSV.Arg, threaded::CSV.Arg, ntasks::CSV.Arg, tasks::CSV.Arg, rows_to_check::CSV.Arg, lines_to_check::CSV.Arg, missingstrings::CSV.Arg, missingstring::CSV.Arg, delim::CSV.Arg, ignorerepeated::CSV.Arg, quoted::CSV.Arg, quotechar::CSV.Arg, openquotechar::CSV.Arg, closequotechar::CSV.Arg, escapechar::CSV.Arg, dateformat::CSV.Arg, dateformats::CSV.Arg, decimal::CSV.Arg, truestrings::CSV.Arg, falsestrings::CSV.Arg, stripwhitespace::CSV.Arg, type::CSV.Arg, types::CSV.Arg, typemap::CSV.Arg, pool::CSV.Arg, downcast::CSV.Arg, lazystrings::CSV.Arg, stringtype::CSV.Arg, strict::CSV.Arg, silencewarnings::CSV.Arg, maxwarnings::CSV.Arg, debug::CSV.Arg, parsingdebug::CSV.Arg, validate::CSV.Arg, streaming::CSV.Arg)",
      "   @ CSV ~/.julia/packages/CSV/b8ebJ/src/context.jl:306",
      " [2] #File#28",
      "   @ ~/.julia/packages/CSV/b8ebJ/src/file.jl:221 [inlined]",
      " [3] File",
      "   @ ~/.julia/packages/CSV/b8ebJ/src/file.jl:221 [inlined]",
      " [4] read(source::String, sink::Type; copycols::Bool, kwargs::Base.Pairs{Symbol, Union{}, Tuple{}, NamedTuple{(), Tuple{}}})",
      "   @ CSV ~/.julia/packages/CSV/b8ebJ/src/CSV.jl:117",
      " [5] read(source::String, sink::Type)",
      "   @ CSV ~/.julia/packages/CSV/b8ebJ/src/CSV.jl:114",
      " [6] top-level scope",
      "   @ In[149]:1"
     ]
    }
   ],
   "source": [
    "BXD_pmap = CSV.read(\"data/BXD_pmap.csv\", DataFrame);\n",
    "BXD_gmap = CSV.read(\"data/BXD_gmap.csv\", DataFrame);"
   ]
  },
  {
   "cell_type": "code",
   "execution_count": 150,
   "id": "088c60aa-f589-4d1b-b597-5e0f750ed422",
   "metadata": {},
   "outputs": [
    {
     "ename": "LoadError",
     "evalue": "ArgumentError: \"output/max_results_ind.csv\" is not a valid file or doesn't exist",
     "output_type": "error",
     "traceback": [
      "ArgumentError: \"output/max_results_ind.csv\" is not a valid file or doesn't exist",
      "",
      "Stacktrace:",
      " [1] CSV.Context(source::CSV.Arg, header::CSV.Arg, normalizenames::CSV.Arg, datarow::CSV.Arg, skipto::CSV.Arg, footerskip::CSV.Arg, transpose::CSV.Arg, comment::CSV.Arg, ignoreemptyrows::CSV.Arg, ignoreemptylines::CSV.Arg, select::CSV.Arg, drop::CSV.Arg, limit::CSV.Arg, buffer_in_memory::CSV.Arg, threaded::CSV.Arg, ntasks::CSV.Arg, tasks::CSV.Arg, rows_to_check::CSV.Arg, lines_to_check::CSV.Arg, missingstrings::CSV.Arg, missingstring::CSV.Arg, delim::CSV.Arg, ignorerepeated::CSV.Arg, quoted::CSV.Arg, quotechar::CSV.Arg, openquotechar::CSV.Arg, closequotechar::CSV.Arg, escapechar::CSV.Arg, dateformat::CSV.Arg, dateformats::CSV.Arg, decimal::CSV.Arg, truestrings::CSV.Arg, falsestrings::CSV.Arg, stripwhitespace::CSV.Arg, type::CSV.Arg, types::CSV.Arg, typemap::CSV.Arg, pool::CSV.Arg, downcast::CSV.Arg, lazystrings::CSV.Arg, stringtype::CSV.Arg, strict::CSV.Arg, silencewarnings::CSV.Arg, maxwarnings::CSV.Arg, debug::CSV.Arg, parsingdebug::CSV.Arg, validate::CSV.Arg, streaming::CSV.Arg)",
      "   @ CSV ~/.julia/packages/CSV/b8ebJ/src/context.jl:306",
      " [2] #File#28",
      "   @ ~/.julia/packages/CSV/b8ebJ/src/file.jl:221 [inlined]",
      " [3] File",
      "   @ ~/.julia/packages/CSV/b8ebJ/src/file.jl:221 [inlined]",
      " [4] read(source::String, sink::Type; copycols::Bool, kwargs::Base.Pairs{Symbol, Union{}, Tuple{}, NamedTuple{(), Tuple{}}})",
      "   @ CSV ~/.julia/packages/CSV/b8ebJ/src/CSV.jl:117",
      " [5] read(source::String, sink::Type)",
      "   @ CSV ~/.julia/packages/CSV/b8ebJ/src/CSV.jl:114",
      " [6] top-level scope",
      "   @ In[150]:1"
     ]
    }
   ],
   "source": [
    "max_results_df_ind = CSV.read(\"output/max_results_ind.csv\", DataFrame);"
   ]
  },
  {
   "cell_type": "code",
   "execution_count": 151,
   "id": "aee243fa-8042-4d63-809e-d64f7063242d",
   "metadata": {},
   "outputs": [
    {
     "ename": "LoadError",
     "evalue": "ArgumentError: \"output/max_results_ind_grid.csv\" is not a valid file or doesn't exist",
     "output_type": "error",
     "traceback": [
      "ArgumentError: \"output/max_results_ind_grid.csv\" is not a valid file or doesn't exist",
      "",
      "Stacktrace:",
      " [1] CSV.Context(source::CSV.Arg, header::CSV.Arg, normalizenames::CSV.Arg, datarow::CSV.Arg, skipto::CSV.Arg, footerskip::CSV.Arg, transpose::CSV.Arg, comment::CSV.Arg, ignoreemptyrows::CSV.Arg, ignoreemptylines::CSV.Arg, select::CSV.Arg, drop::CSV.Arg, limit::CSV.Arg, buffer_in_memory::CSV.Arg, threaded::CSV.Arg, ntasks::CSV.Arg, tasks::CSV.Arg, rows_to_check::CSV.Arg, lines_to_check::CSV.Arg, missingstrings::CSV.Arg, missingstring::CSV.Arg, delim::CSV.Arg, ignorerepeated::CSV.Arg, quoted::CSV.Arg, quotechar::CSV.Arg, openquotechar::CSV.Arg, closequotechar::CSV.Arg, escapechar::CSV.Arg, dateformat::CSV.Arg, dateformats::CSV.Arg, decimal::CSV.Arg, truestrings::CSV.Arg, falsestrings::CSV.Arg, stripwhitespace::CSV.Arg, type::CSV.Arg, types::CSV.Arg, typemap::CSV.Arg, pool::CSV.Arg, downcast::CSV.Arg, lazystrings::CSV.Arg, stringtype::CSV.Arg, strict::CSV.Arg, silencewarnings::CSV.Arg, maxwarnings::CSV.Arg, debug::CSV.Arg, parsingdebug::CSV.Arg, validate::CSV.Arg, streaming::CSV.Arg)",
      "   @ CSV ~/.julia/packages/CSV/b8ebJ/src/context.jl:306",
      " [2] #File#28",
      "   @ ~/.julia/packages/CSV/b8ebJ/src/file.jl:221 [inlined]",
      " [3] File",
      "   @ ~/.julia/packages/CSV/b8ebJ/src/file.jl:221 [inlined]",
      " [4] read(source::String, sink::Type; copycols::Bool, kwargs::Base.Pairs{Symbol, Union{}, Tuple{}, NamedTuple{(), Tuple{}}})",
      "   @ CSV ~/.julia/packages/CSV/b8ebJ/src/CSV.jl:117",
      " [5] read(source::String, sink::Type)",
      "   @ CSV ~/.julia/packages/CSV/b8ebJ/src/CSV.jl:114",
      " [6] top-level scope",
      "   @ In[151]:1"
     ]
    }
   ],
   "source": [
    "max_results_df_ind_grid = CSV.read(\"output/max_results_ind_grid.csv\", DataFrame);"
   ]
  },
  {
   "cell_type": "code",
   "execution_count": 152,
   "id": "6364f079-7743-42f5-b691-52df2350b486",
   "metadata": {},
   "outputs": [
    {
     "ename": "LoadError",
     "evalue": "ArgumentError: Package RecipesBase not found in current path:\n- Run `import Pkg; Pkg.add(\"RecipesBase\")` to install the RecipesBase package.\n",
     "output_type": "error",
     "traceback": [
      "ArgumentError: Package RecipesBase not found in current path:\n- Run `import Pkg; Pkg.add(\"RecipesBase\")` to install the RecipesBase package.\n",
      "",
      "Stacktrace:",
      " [1] require(into::Module, mod::Symbol)",
      "   @ Base ./loading.jl:967"
     ]
    }
   ],
   "source": [
    "using RecipesBase, Plots, Plots.PlotMeasures, ColorSchemes"
   ]
  },
  {
   "cell_type": "code",
   "execution_count": 153,
   "id": "792d6ae6-28fc-47d8-8756-f36b4be7a1ae",
   "metadata": {},
   "outputs": [
    {
     "data": {
      "text/plain": [
       "plot_eQTL2 (generic function with 1 method)"
      ]
     },
     "execution_count": 153,
     "metadata": {},
     "output_type": "execute_result"
    }
   ],
   "source": [
    "function plot_eQTL2(lodc::Array{Float64, 2}, gmap::DataFrame, phenocovar::DataFrame;\n",
    "                thr::Float64 = 5.0, kwargs...)\n",
    "    \n",
    "    x, y, z, mysteps, mychr = get_eQTL_accMb(\n",
    "                                lodc, \n",
    "                                phenocovar,\n",
    "                                gmap;\n",
    "                                thr = thr,\n",
    "                                kwargs...\n",
    "                              )\n",
    "\n",
    "    eQTLplot(x, y, z, mysteps, mychr, kwargs...)\n",
    "\n",
    "end"
   ]
  },
  {
   "cell_type": "code",
   "execution_count": 154,
   "id": "6647e4f6-93c5-4f53-9b42-8113bff4e1c9",
   "metadata": {},
   "outputs": [
    {
     "ename": "LoadError",
     "evalue": "UndefVarError: BXD_pmap not defined",
     "output_type": "error",
     "traceback": [
      "UndefVarError: BXD_pmap not defined",
      "",
      "Stacktrace:",
      " [1] top-level scope",
      "   @ In[154]:1"
     ]
    }
   ],
   "source": [
    "BXD_pmap.Chr = convert.(String, BXD_pmap.Chr);"
   ]
  },
  {
   "cell_type": "code",
   "execution_count": 155,
   "id": "53c1ee33-4e85-4c9e-9773-10384ef185cc",
   "metadata": {},
   "outputs": [
    {
     "ename": "LoadError",
     "evalue": "UndefVarError: BXD_gmap not defined",
     "output_type": "error",
     "traceback": [
      "UndefVarError: BXD_gmap not defined",
      "",
      "Stacktrace:",
      " [1] top-level scope",
      "   @ In[155]:1"
     ]
    }
   ],
   "source": [
    "BXD_gmap.Chr = convert.(String, BXD_gmap.Chr);"
   ]
  },
  {
   "cell_type": "code",
   "execution_count": 156,
   "id": "bd05ceb6-e3c4-4de1-967a-17e8be5694bb",
   "metadata": {},
   "outputs": [
    {
     "ename": "LoadError",
     "evalue": "UndefVarError: max_results_df_ind not defined",
     "output_type": "error",
     "traceback": [
      "UndefVarError: max_results_df_ind not defined",
      "",
      "Stacktrace:",
      " [1] top-level scope",
      "   @ In[156]:1"
     ]
    }
   ],
   "source": [
    "plot_eQTL2(Matrix(max_results_df_ind), BXD_gmap, BXD_pmap)"
   ]
  },
  {
   "cell_type": "code",
   "execution_count": 157,
   "id": "0f8a6bbc-a096-4749-a858-806479bdb415",
   "metadata": {},
   "outputs": [
    {
     "data": {
      "text/plain": [
       "29437"
      ]
     },
     "execution_count": 157,
     "metadata": {},
     "output_type": "execute_result"
    }
   ],
   "source": [
    "lp_id"
   ]
  },
  {
   "cell_type": "code",
   "execution_count": 158,
   "id": "db7c3875-9be7-4270-95f8-3a4e40a952e1",
   "metadata": {},
   "outputs": [
    {
     "data": {
      "text/plain": [
       "248×1 Matrix{Float64}:\n",
       " 14.925\n",
       " 15.131\n",
       " 15.074\n",
       " 14.892\n",
       " 14.935\n",
       " 14.832\n",
       " 15.292\n",
       " 14.963\n",
       " 14.944\n",
       " 14.921\n",
       " 14.983\n",
       " 15.154\n",
       " 14.923\n",
       "  ⋮\n",
       " 14.641\n",
       " 14.851\n",
       " 15.017\n",
       " 14.991\n",
       " 14.621\n",
       " 14.943\n",
       " 15.038\n",
       " 14.799\n",
       " 15.113\n",
       " 14.788\n",
       " 14.858\n",
       " 14.921"
      ]
     },
     "execution_count": 158,
     "metadata": {},
     "output_type": "execute_result"
    }
   ],
   "source": [
    "lp_ind_y"
   ]
  },
  {
   "cell_type": "code",
   "execution_count": 159,
   "id": "c9c6a90b-f5e3-4e76-8d9b-c43ddc6cbe93",
   "metadata": {},
   "outputs": [
    {
     "data": {
      "text/plain": [
       "248×1 Matrix{Float64}:\n",
       "  0.008839326301732115\n",
       "  1.1520886987138745\n",
       "  0.8357527073182789\n",
       " -0.17430256345361847\n",
       "  0.06433686865183506\n",
       " -0.5072878175542362\n",
       "  2.0455991305505488\n",
       "  0.2197299872321194\n",
       "  0.11428465676693068\n",
       " -0.013359690638316954\n",
       "  0.33072507193233514\n",
       "  1.2797330461191123\n",
       " -0.002260182168292419\n",
       "  ⋮\n",
       " -1.5672908764412292\n",
       " -0.40184248708903764\n",
       "  0.5194167159226832\n",
       "  0.3751231058124136\n",
       " -1.6782859611414351\n",
       "  0.1087349025319135\n",
       "  0.6359615548579063\n",
       " -0.6904297073095867\n",
       "  1.0521931224836834\n",
       " -0.7514770038946971\n",
       " -0.36299420744396654\n",
       " -0.013359690638316954"
      ]
     },
     "execution_count": 159,
     "metadata": {},
     "output_type": "execute_result"
    }
   ],
   "source": [
    "lpst_ind_y"
   ]
  },
  {
   "cell_type": "code",
   "execution_count": 160,
   "id": "9965367b-5bb2-419e-b9e8-88073d0e2d84",
   "metadata": {},
   "outputs": [
    {
     "data": {
      "text/plain": [
       "7321-element Vector{Float64}:\n",
       " 0.4486088396867715\n",
       " 0.4486088396867715\n",
       " 0.4486088396867715\n",
       " 0.4486088396867715\n",
       " 0.4486088396867715\n",
       " 0.4486088396867715\n",
       " 0.4486088396867715\n",
       " 0.4486088396867715\n",
       " 0.4486088396867715\n",
       " 0.4486088396867715\n",
       " 0.4486088396867715\n",
       " 0.4486088396867715\n",
       " 0.027257698423434687\n",
       " ⋮\n",
       " 0.3258518530361997\n",
       " 0.3258518530361997\n",
       " 0.3258518530361997\n",
       " 0.04951088178133477\n",
       " 0.33876637614411703\n",
       " 0.33876637614411703\n",
       " 0.16359116385153535\n",
       " 0.09563509438568\n",
       " 0.16359116385153535\n",
       " 0.09563509438568\n",
       " 0.1615761938288365\n",
       " 0.1615761938288365"
      ]
     },
     "execution_count": 160,
     "metadata": {},
     "output_type": "execute_result"
    }
   ],
   "source": [
    "scan_results_ind_alt.lod"
   ]
  },
  {
   "cell_type": "code",
   "execution_count": null,
   "id": "3e86e849-169d-483d-95d6-42abe5891b95",
   "metadata": {},
   "outputs": [],
   "source": []
  },
  {
   "cell_type": "markdown",
   "id": "1bd1387f-8c85-4453-9547-c00eadb126ac",
   "metadata": {},
   "source": [
    "### Heritabilities:"
   ]
  },
  {
   "cell_type": "code",
   "execution_count": 161,
   "id": "efccaf03-e495-484c-9a1b-b2ce37b16c2e",
   "metadata": {},
   "outputs": [
    {
     "data": {
      "text/plain": [
       "Int64[]"
      ]
     },
     "execution_count": 161,
     "metadata": {},
     "output_type": "execute_result"
    }
   ],
   "source": [
    "findall(abs.(h2s_strains .- h2s_strains_4) .>= 0.5)"
   ]
  },
  {
   "cell_type": "code",
   "execution_count": 162,
   "id": "5a3a734e-2d68-4ea4-97a1-d476280d11c5",
   "metadata": {},
   "outputs": [
    {
     "data": {
      "text/plain": [
       "(0.0, 1)"
      ]
     },
     "execution_count": 162,
     "metadata": {},
     "output_type": "execute_result"
    }
   ],
   "source": [
    "findmax(abs.(h2s_strains .- h2s_strains_4))"
   ]
  },
  {
   "cell_type": "code",
   "execution_count": 163,
   "id": "8bc854c0-58c7-4381-b8a7-5263532240c6",
   "metadata": {},
   "outputs": [],
   "source": [
    "largest_h2diff_strains_y = reshape(lpst_strains_Y[:, 6], :, 1);"
   ]
  },
  {
   "cell_type": "code",
   "execution_count": 164,
   "id": "67b1b819-f4d3-4b19-9d19-775c12f60892",
   "metadata": {},
   "outputs": [
    {
     "name": "stdout",
     "output_type": "stream",
     "text": [
      "  0.115833 seconds (81.10 k allocations: 32.340 MiB, 63.66% gc time)\n"
     ]
    }
   ],
   "source": [
    "@time test_scan_results_opt1 = scan(largest_h2diff_strains_y, geno_strains, kinship_strains; \n",
    "                             prior_variance = 1.0, prior_sample_size = 0.1, optim_interval = 1);"
   ]
  },
  {
   "cell_type": "code",
   "execution_count": 165,
   "id": "426fd1da-4ff6-4a52-8b59-33aea4cf2419",
   "metadata": {},
   "outputs": [
    {
     "name": "stdout",
     "output_type": "stream",
     "text": [
      "  0.304483 seconds (82.47 k allocations: 32.714 MiB, 86.98% gc time)\n"
     ]
    }
   ],
   "source": [
    "@time test_scan_results_opt2 = scan(largest_h2diff_strains_y, geno_strains, kinship_strains; \n",
    "                             prior_variance = 1.0, prior_sample_size = 0.1, optim_interval = 2);"
   ]
  },
  {
   "cell_type": "code",
   "execution_count": 166,
   "id": "ff548933-3042-4201-a20e-49833ad6e5ed",
   "metadata": {},
   "outputs": [
    {
     "name": "stdout",
     "output_type": "stream",
     "text": [
      "  0.042282 seconds (83.84 k allocations: 33.088 MiB, 19.80% gc time)\n"
     ]
    }
   ],
   "source": [
    "@time test_scan_results_opt4 = scan(largest_h2diff_strains_y, geno_strains, kinship_strains; \n",
    "                             prior_variance = 1.0, prior_sample_size = 0.1, optim_interval = 4);"
   ]
  },
  {
   "cell_type": "code",
   "execution_count": 167,
   "id": "3f8909dd-1768-4279-a671-72344de2a394",
   "metadata": {},
   "outputs": [
    {
     "name": "stdout",
     "output_type": "stream",
     "text": [
      "  0.034196 seconds (87.97 k allocations: 34.217 MiB)\n"
     ]
    }
   ],
   "source": [
    "@time test_scan_results_opt10 = scan(largest_h2diff_strains_y, geno_strains, kinship_strains; \n",
    "                             prior_variance = 1.0, prior_sample_size = 0.1, optim_interval = 10);"
   ]
  },
  {
   "cell_type": "code",
   "execution_count": 168,
   "id": "8c5d8f12-3aef-47c2-a232-f274f7c3a7fa",
   "metadata": {},
   "outputs": [
    {
     "data": {
      "text/plain": [
       "0.6582586920663421"
      ]
     },
     "execution_count": 168,
     "metadata": {},
     "output_type": "execute_result"
    }
   ],
   "source": [
    "test_scan_results_opt1.h2_null"
   ]
  },
  {
   "cell_type": "code",
   "execution_count": 169,
   "id": "5521e69d-8671-4448-9619-f0f04fd20fd1",
   "metadata": {},
   "outputs": [
    {
     "data": {
      "text/plain": [
       "7.258511121435776e-16"
      ]
     },
     "execution_count": 169,
     "metadata": {},
     "output_type": "execute_result"
    }
   ],
   "source": [
    "test_scan_results_opt2.h2_null"
   ]
  },
  {
   "cell_type": "code",
   "execution_count": 170,
   "id": "26cddd2e-e3ec-4413-bd31-3b3346193f49",
   "metadata": {},
   "outputs": [
    {
     "data": {
      "text/plain": [
       "7.281068220985078e-16"
      ]
     },
     "execution_count": 170,
     "metadata": {},
     "output_type": "execute_result"
    }
   ],
   "source": [
    "test_scan_results_opt4.h2_null"
   ]
  },
  {
   "cell_type": "code",
   "execution_count": 171,
   "id": "6bb11152-653a-4773-822a-32e76166d266",
   "metadata": {},
   "outputs": [
    {
     "data": {
      "text/plain": [
       "7.556752351802334e-16"
      ]
     },
     "execution_count": 171,
     "metadata": {},
     "output_type": "execute_result"
    }
   ],
   "source": [
    "test_scan_results_opt10.h2_null"
   ]
  },
  {
   "cell_type": "code",
   "execution_count": 172,
   "id": "dcdccd26-df34-42ca-9379-d9b724d4a98b",
   "metadata": {},
   "outputs": [
    {
     "data": {
      "text/plain": [
       "(ll_null = -24.49493231706208, ll_markerID = -24.331720041707165)"
      ]
     },
     "execution_count": 172,
     "metadata": {},
     "output_type": "execute_result"
    }
   ],
   "source": [
    "getLL(largest_h2diff_strains_y, geno_strains, kinship_strains, 1, 0.0)"
   ]
  },
  {
   "cell_type": "code",
   "execution_count": 173,
   "id": "5963c795-8737-48fd-a634-0b1b8909dd62",
   "metadata": {},
   "outputs": [
    {
     "data": {
      "text/plain": [
       "(ll_null = -24.962051098420524, ll_markerID = -24.678442130923703)"
      ]
     },
     "execution_count": 173,
     "metadata": {},
     "output_type": "execute_result"
    }
   ],
   "source": [
    "getLL(largest_h2diff_strains_y, geno_strains, kinship_strains, 1, 0.66)"
   ]
  },
  {
   "cell_type": "code",
   "execution_count": 174,
   "id": "e2147b7a-f305-4701-8223-abf4de2228c7",
   "metadata": {},
   "outputs": [],
   "source": [
    "# ind_ll = map(x -> getLL(largest_h2diff_strains_y, geno_strains, kinship_strains, 1, x), collect(0.0:0.001:0.999));\n",
    "l_strains_ll = map(x -> getLL(largest_h2diff_strains_y, geno_strains, kinship_strains, 1, x;\n",
    "                              prior = [1.0, 0.1]), \n",
    "                   collect(0.0:0.001:0.999));\n",
    "\n",
    "# ind_ell_list = zeros(999);\n",
    "l_strains_ell_list = zeros(999);\n",
    "l_strains_ell_list_alt = zeros(999);\n",
    "for k in 1:999 \n",
    "    # ind_ell_list[k] = ind_ll[k].ll_null;\n",
    "    l_strains_ell_list[k] = l_strains_ll[k].ll_null;\n",
    "    l_strains_ell_list_alt[k] = l_strains_ll[k].ll_markerID;\n",
    "end"
   ]
  },
  {
   "cell_type": "code",
   "execution_count": 175,
   "id": "387e857c-7d6c-4137-8322-a74b1d1c2106",
   "metadata": {},
   "outputs": [
    {
     "data": {
      "image/svg+xml": [
       "<?xml version=\"1.0\" encoding=\"utf-8\"?>\n",
       "<svg xmlns=\"http://www.w3.org/2000/svg\" xmlns:xlink=\"http://www.w3.org/1999/xlink\" width=\"600\" height=\"400\" viewBox=\"0 0 2400 1600\">\n",
       "<defs>\n",
       "  <clipPath id=\"clip460\">\n",
       "    <rect x=\"0\" y=\"0\" width=\"2400\" height=\"1600\"/>\n",
       "  </clipPath>\n",
       "</defs>\n",
       "<path clip-path=\"url(#clip460)\" d=\"\n",
       "M0 1600 L2400 1600 L2400 0 L0 0  Z\n",
       "  \" fill=\"#ffffff\" fill-rule=\"evenodd\" fill-opacity=\"1\"/>\n",
       "<defs>\n",
       "  <clipPath id=\"clip461\">\n",
       "    <rect x=\"480\" y=\"0\" width=\"1681\" height=\"1600\"/>\n",
       "  </clipPath>\n",
       "</defs>\n",
       "<path clip-path=\"url(#clip460)\" d=\"\n",
       "M179.353 1486.45 L2352.76 1486.45 L2352.76 47.2441 L179.353 47.2441  Z\n",
       "  \" fill=\"#ffffff\" fill-rule=\"evenodd\" fill-opacity=\"1\"/>\n",
       "<defs>\n",
       "  <clipPath id=\"clip462\">\n",
       "    <rect x=\"179\" y=\"47\" width=\"2174\" height=\"1440\"/>\n",
       "  </clipPath>\n",
       "</defs>\n",
       "<polyline clip-path=\"url(#clip462)\" style=\"stroke:#000000; stroke-linecap:round; stroke-linejoin:round; stroke-width:2; stroke-opacity:0.1; fill:none\" points=\"\n",
       "  238.81,1486.45 238.81,47.2441 \n",
       "  \"/>\n",
       "<polyline clip-path=\"url(#clip462)\" style=\"stroke:#000000; stroke-linecap:round; stroke-linejoin:round; stroke-width:2; stroke-opacity:0.1; fill:none\" points=\"\n",
       "  752.432,1486.45 752.432,47.2441 \n",
       "  \"/>\n",
       "<polyline clip-path=\"url(#clip462)\" style=\"stroke:#000000; stroke-linecap:round; stroke-linejoin:round; stroke-width:2; stroke-opacity:0.1; fill:none\" points=\"\n",
       "  1266.05,1486.45 1266.05,47.2441 \n",
       "  \"/>\n",
       "<polyline clip-path=\"url(#clip462)\" style=\"stroke:#000000; stroke-linecap:round; stroke-linejoin:round; stroke-width:2; stroke-opacity:0.1; fill:none\" points=\"\n",
       "  1779.68,1486.45 1779.68,47.2441 \n",
       "  \"/>\n",
       "<polyline clip-path=\"url(#clip462)\" style=\"stroke:#000000; stroke-linecap:round; stroke-linejoin:round; stroke-width:2; stroke-opacity:0.1; fill:none\" points=\"\n",
       "  2293.3,1486.45 2293.3,47.2441 \n",
       "  \"/>\n",
       "<polyline clip-path=\"url(#clip460)\" style=\"stroke:#000000; stroke-linecap:round; stroke-linejoin:round; stroke-width:4; stroke-opacity:1; fill:none\" points=\"\n",
       "  179.353,1486.45 2352.76,1486.45 \n",
       "  \"/>\n",
       "<polyline clip-path=\"url(#clip460)\" style=\"stroke:#000000; stroke-linecap:round; stroke-linejoin:round; stroke-width:4; stroke-opacity:1; fill:none\" points=\"\n",
       "  238.81,1486.45 238.81,1467.55 \n",
       "  \"/>\n",
       "<polyline clip-path=\"url(#clip460)\" style=\"stroke:#000000; stroke-linecap:round; stroke-linejoin:round; stroke-width:4; stroke-opacity:1; fill:none\" points=\"\n",
       "  752.432,1486.45 752.432,1467.55 \n",
       "  \"/>\n",
       "<polyline clip-path=\"url(#clip460)\" style=\"stroke:#000000; stroke-linecap:round; stroke-linejoin:round; stroke-width:4; stroke-opacity:1; fill:none\" points=\"\n",
       "  1266.05,1486.45 1266.05,1467.55 \n",
       "  \"/>\n",
       "<polyline clip-path=\"url(#clip460)\" style=\"stroke:#000000; stroke-linecap:round; stroke-linejoin:round; stroke-width:4; stroke-opacity:1; fill:none\" points=\"\n",
       "  1779.68,1486.45 1779.68,1467.55 \n",
       "  \"/>\n",
       "<polyline clip-path=\"url(#clip460)\" style=\"stroke:#000000; stroke-linecap:round; stroke-linejoin:round; stroke-width:4; stroke-opacity:1; fill:none\" points=\"\n",
       "  2293.3,1486.45 2293.3,1467.55 \n",
       "  \"/>\n",
       "<path clip-path=\"url(#clip460)\" d=\"M238.81 1517.37 Q235.199 1517.37 233.37 1520.93 Q231.564 1524.47 231.564 1531.6 Q231.564 1538.71 233.37 1542.27 Q235.199 1545.82 238.81 1545.82 Q242.444 1545.82 244.249 1542.27 Q246.078 1538.71 246.078 1531.6 Q246.078 1524.47 244.249 1520.93 Q242.444 1517.37 238.81 1517.37 M238.81 1513.66 Q244.62 1513.66 247.675 1518.27 Q250.754 1522.85 250.754 1531.6 Q250.754 1540.33 247.675 1544.94 Q244.62 1549.52 238.81 1549.52 Q233 1549.52 229.921 1544.94 Q226.865 1540.33 226.865 1531.6 Q226.865 1522.85 229.921 1518.27 Q233 1513.66 238.81 1513.66 Z\" fill=\"#000000\" fill-rule=\"evenodd\" fill-opacity=\"1\" /><path clip-path=\"url(#clip460)\" d=\"M716.124 1544.91 L732.444 1544.91 L732.444 1548.85 L710.499 1548.85 L710.499 1544.91 Q713.161 1542.16 717.745 1537.53 Q722.351 1532.88 723.532 1531.53 Q725.777 1529.01 726.657 1527.27 Q727.559 1525.51 727.559 1523.82 Q727.559 1521.07 725.615 1519.33 Q723.694 1517.6 720.592 1517.6 Q718.393 1517.6 715.939 1518.36 Q713.509 1519.13 710.731 1520.68 L710.731 1515.95 Q713.555 1514.82 716.009 1514.24 Q718.462 1513.66 720.499 1513.66 Q725.87 1513.66 729.064 1516.35 Q732.258 1519.03 732.258 1523.52 Q732.258 1525.65 731.448 1527.57 Q730.661 1529.47 728.555 1532.07 Q727.976 1532.74 724.874 1535.95 Q721.772 1539.15 716.124 1544.91 Z\" fill=\"#000000\" fill-rule=\"evenodd\" fill-opacity=\"1\" /><path clip-path=\"url(#clip460)\" d=\"M742.305 1514.29 L760.661 1514.29 L760.661 1518.22 L746.587 1518.22 L746.587 1526.7 Q747.606 1526.35 748.624 1526.19 Q749.643 1526 750.661 1526 Q756.448 1526 759.828 1529.17 Q763.207 1532.34 763.207 1537.76 Q763.207 1543.34 759.735 1546.44 Q756.263 1549.52 749.944 1549.52 Q747.768 1549.52 745.499 1549.15 Q743.254 1548.78 740.846 1548.04 L740.846 1543.34 Q742.93 1544.47 745.152 1545.03 Q747.374 1545.58 749.851 1545.58 Q753.856 1545.58 756.194 1543.48 Q758.531 1541.37 758.531 1537.76 Q758.531 1534.15 756.194 1532.04 Q753.856 1529.94 749.851 1529.94 Q747.976 1529.94 746.101 1530.35 Q744.249 1530.77 742.305 1531.65 L742.305 1514.29 Z\" fill=\"#000000\" fill-rule=\"evenodd\" fill-opacity=\"1\" /><path clip-path=\"url(#clip460)\" d=\"M782.42 1517.37 Q778.809 1517.37 776.98 1520.93 Q775.175 1524.47 775.175 1531.6 Q775.175 1538.71 776.98 1542.27 Q778.809 1545.82 782.42 1545.82 Q786.054 1545.82 787.86 1542.27 Q789.689 1538.71 789.689 1531.6 Q789.689 1524.47 787.86 1520.93 Q786.054 1517.37 782.42 1517.37 M782.42 1513.66 Q788.23 1513.66 791.286 1518.27 Q794.365 1522.85 794.365 1531.6 Q794.365 1540.33 791.286 1544.94 Q788.23 1549.52 782.42 1549.52 Q776.61 1549.52 773.531 1544.94 Q770.476 1540.33 770.476 1531.6 Q770.476 1522.85 773.531 1518.27 Q776.61 1513.66 782.42 1513.66 Z\" fill=\"#000000\" fill-rule=\"evenodd\" fill-opacity=\"1\" /><path clip-path=\"url(#clip460)\" d=\"M1225.67 1514.29 L1244.03 1514.29 L1244.03 1518.22 L1229.95 1518.22 L1229.95 1526.7 Q1230.97 1526.35 1231.99 1526.19 Q1233.01 1526 1234.03 1526 Q1239.82 1526 1243.2 1529.17 Q1246.58 1532.34 1246.58 1537.76 Q1246.58 1543.34 1243.1 1546.44 Q1239.63 1549.52 1233.31 1549.52 Q1231.14 1549.52 1228.87 1549.15 Q1226.62 1548.78 1224.21 1548.04 L1224.21 1543.34 Q1226.3 1544.47 1228.52 1545.03 Q1230.74 1545.58 1233.22 1545.58 Q1237.22 1545.58 1239.56 1543.48 Q1241.9 1541.37 1241.9 1537.76 Q1241.9 1534.15 1239.56 1532.04 Q1237.22 1529.94 1233.22 1529.94 Q1231.34 1529.94 1229.47 1530.35 Q1227.62 1530.77 1225.67 1531.65 L1225.67 1514.29 Z\" fill=\"#000000\" fill-rule=\"evenodd\" fill-opacity=\"1\" /><path clip-path=\"url(#clip460)\" d=\"M1265.79 1517.37 Q1262.18 1517.37 1260.35 1520.93 Q1258.54 1524.47 1258.54 1531.6 Q1258.54 1538.71 1260.35 1542.27 Q1262.18 1545.82 1265.79 1545.82 Q1269.42 1545.82 1271.23 1542.27 Q1273.06 1538.71 1273.06 1531.6 Q1273.06 1524.47 1271.23 1520.93 Q1269.42 1517.37 1265.79 1517.37 M1265.79 1513.66 Q1271.6 1513.66 1274.65 1518.27 Q1277.73 1522.85 1277.73 1531.6 Q1277.73 1540.33 1274.65 1544.94 Q1271.6 1549.52 1265.79 1549.52 Q1259.98 1549.52 1256.9 1544.94 Q1253.84 1540.33 1253.84 1531.6 Q1253.84 1522.85 1256.9 1518.27 Q1259.98 1513.66 1265.79 1513.66 Z\" fill=\"#000000\" fill-rule=\"evenodd\" fill-opacity=\"1\" /><path clip-path=\"url(#clip460)\" d=\"M1295.95 1517.37 Q1292.34 1517.37 1290.51 1520.93 Q1288.7 1524.47 1288.7 1531.6 Q1288.7 1538.71 1290.51 1542.27 Q1292.34 1545.82 1295.95 1545.82 Q1299.58 1545.82 1301.39 1542.27 Q1303.22 1538.71 1303.22 1531.6 Q1303.22 1524.47 1301.39 1520.93 Q1299.58 1517.37 1295.95 1517.37 M1295.95 1513.66 Q1301.76 1513.66 1304.82 1518.27 Q1307.89 1522.85 1307.89 1531.6 Q1307.89 1540.33 1304.82 1544.94 Q1301.76 1549.52 1295.95 1549.52 Q1290.14 1549.52 1287.06 1544.94 Q1284.01 1540.33 1284.01 1531.6 Q1284.01 1522.85 1287.06 1518.27 Q1290.14 1513.66 1295.95 1513.66 Z\" fill=\"#000000\" fill-rule=\"evenodd\" fill-opacity=\"1\" /><path clip-path=\"url(#clip460)\" d=\"M1737.95 1514.29 L1760.17 1514.29 L1760.17 1516.28 L1747.63 1548.85 L1742.74 1548.85 L1754.55 1518.22 L1737.95 1518.22 L1737.95 1514.29 Z\" fill=\"#000000\" fill-rule=\"evenodd\" fill-opacity=\"1\" /><path clip-path=\"url(#clip460)\" d=\"M1769.34 1514.29 L1787.7 1514.29 L1787.7 1518.22 L1773.62 1518.22 L1773.62 1526.7 Q1774.64 1526.35 1775.66 1526.19 Q1776.68 1526 1777.7 1526 Q1783.48 1526 1786.86 1529.17 Q1790.24 1532.34 1790.24 1537.76 Q1790.24 1543.34 1786.77 1546.44 Q1783.3 1549.52 1776.98 1549.52 Q1774.8 1549.52 1772.54 1549.15 Q1770.29 1548.78 1767.88 1548.04 L1767.88 1543.34 Q1769.97 1544.47 1772.19 1545.03 Q1774.41 1545.58 1776.89 1545.58 Q1780.89 1545.58 1783.23 1543.48 Q1785.57 1541.37 1785.57 1537.76 Q1785.57 1534.15 1783.23 1532.04 Q1780.89 1529.94 1776.89 1529.94 Q1775.01 1529.94 1773.14 1530.35 Q1771.29 1530.77 1769.34 1531.65 L1769.34 1514.29 Z\" fill=\"#000000\" fill-rule=\"evenodd\" fill-opacity=\"1\" /><path clip-path=\"url(#clip460)\" d=\"M1809.46 1517.37 Q1805.85 1517.37 1804.02 1520.93 Q1802.21 1524.47 1802.21 1531.6 Q1802.21 1538.71 1804.02 1542.27 Q1805.85 1545.82 1809.46 1545.82 Q1813.09 1545.82 1814.9 1542.27 Q1816.73 1538.71 1816.73 1531.6 Q1816.73 1524.47 1814.9 1520.93 Q1813.09 1517.37 1809.46 1517.37 M1809.46 1513.66 Q1815.27 1513.66 1818.32 1518.27 Q1821.4 1522.85 1821.4 1531.6 Q1821.4 1540.33 1818.32 1544.94 Q1815.27 1549.52 1809.46 1549.52 Q1803.65 1549.52 1800.57 1544.94 Q1797.51 1540.33 1797.51 1531.6 Q1797.51 1522.85 1800.57 1518.27 Q1803.65 1513.66 1809.46 1513.66 Z\" fill=\"#000000\" fill-rule=\"evenodd\" fill-opacity=\"1\" /><path clip-path=\"url(#clip460)\" d=\"M2237.82 1544.91 L2245.46 1544.91 L2245.46 1518.55 L2237.15 1520.21 L2237.15 1515.95 L2245.42 1514.29 L2250.09 1514.29 L2250.09 1544.91 L2257.73 1544.91 L2257.73 1548.85 L2237.82 1548.85 L2237.82 1544.91 Z\" fill=\"#000000\" fill-rule=\"evenodd\" fill-opacity=\"1\" /><path clip-path=\"url(#clip460)\" d=\"M2277.18 1517.37 Q2273.57 1517.37 2271.74 1520.93 Q2269.93 1524.47 2269.93 1531.6 Q2269.93 1538.71 2271.74 1542.27 Q2273.57 1545.82 2277.18 1545.82 Q2280.81 1545.82 2282.62 1542.27 Q2284.44 1538.71 2284.44 1531.6 Q2284.44 1524.47 2282.62 1520.93 Q2280.81 1517.37 2277.18 1517.37 M2277.18 1513.66 Q2282.99 1513.66 2286.04 1518.27 Q2289.12 1522.85 2289.12 1531.6 Q2289.12 1540.33 2286.04 1544.94 Q2282.99 1549.52 2277.18 1549.52 Q2271.37 1549.52 2268.29 1544.94 Q2265.23 1540.33 2265.23 1531.6 Q2265.23 1522.85 2268.29 1518.27 Q2271.37 1513.66 2277.18 1513.66 Z\" fill=\"#000000\" fill-rule=\"evenodd\" fill-opacity=\"1\" /><path clip-path=\"url(#clip460)\" d=\"M2307.34 1517.37 Q2303.73 1517.37 2301.9 1520.93 Q2300.09 1524.47 2300.09 1531.6 Q2300.09 1538.71 2301.9 1542.27 Q2303.73 1545.82 2307.34 1545.82 Q2310.97 1545.82 2312.78 1542.27 Q2314.61 1538.71 2314.61 1531.6 Q2314.61 1524.47 2312.78 1520.93 Q2310.97 1517.37 2307.34 1517.37 M2307.34 1513.66 Q2313.15 1513.66 2316.2 1518.27 Q2319.28 1522.85 2319.28 1531.6 Q2319.28 1540.33 2316.2 1544.94 Q2313.15 1549.52 2307.34 1549.52 Q2301.53 1549.52 2298.45 1544.94 Q2295.39 1540.33 2295.39 1531.6 Q2295.39 1522.85 2298.45 1518.27 Q2301.53 1513.66 2307.34 1513.66 Z\" fill=\"#000000\" fill-rule=\"evenodd\" fill-opacity=\"1\" /><path clip-path=\"url(#clip460)\" d=\"M2337.5 1517.37 Q2333.89 1517.37 2332.06 1520.93 Q2330.25 1524.47 2330.25 1531.6 Q2330.25 1538.71 2332.06 1542.27 Q2333.89 1545.82 2337.5 1545.82 Q2341.13 1545.82 2342.94 1542.27 Q2344.77 1538.71 2344.77 1531.6 Q2344.77 1524.47 2342.94 1520.93 Q2341.13 1517.37 2337.5 1517.37 M2337.5 1513.66 Q2343.31 1513.66 2346.37 1518.27 Q2349.44 1522.85 2349.44 1531.6 Q2349.44 1540.33 2346.37 1544.94 Q2343.31 1549.52 2337.5 1549.52 Q2331.69 1549.52 2328.61 1544.94 Q2325.56 1540.33 2325.56 1531.6 Q2325.56 1522.85 2328.61 1518.27 Q2331.69 1513.66 2337.5 1513.66 Z\" fill=\"#000000\" fill-rule=\"evenodd\" fill-opacity=\"1\" /><polyline clip-path=\"url(#clip462)\" style=\"stroke:#000000; stroke-linecap:round; stroke-linejoin:round; stroke-width:2; stroke-opacity:0.1; fill:none\" points=\"\n",
       "  179.353,1379.4 2352.76,1379.4 \n",
       "  \"/>\n",
       "<polyline clip-path=\"url(#clip462)\" style=\"stroke:#000000; stroke-linecap:round; stroke-linejoin:round; stroke-width:2; stroke-opacity:0.1; fill:none\" points=\"\n",
       "  179.353,1105.67 2352.76,1105.67 \n",
       "  \"/>\n",
       "<polyline clip-path=\"url(#clip462)\" style=\"stroke:#000000; stroke-linecap:round; stroke-linejoin:round; stroke-width:2; stroke-opacity:0.1; fill:none\" points=\"\n",
       "  179.353,831.933 2352.76,831.933 \n",
       "  \"/>\n",
       "<polyline clip-path=\"url(#clip462)\" style=\"stroke:#000000; stroke-linecap:round; stroke-linejoin:round; stroke-width:2; stroke-opacity:0.1; fill:none\" points=\"\n",
       "  179.353,558.199 2352.76,558.199 \n",
       "  \"/>\n",
       "<polyline clip-path=\"url(#clip462)\" style=\"stroke:#000000; stroke-linecap:round; stroke-linejoin:round; stroke-width:2; stroke-opacity:0.1; fill:none\" points=\"\n",
       "  179.353,284.465 2352.76,284.465 \n",
       "  \"/>\n",
       "<polyline clip-path=\"url(#clip460)\" style=\"stroke:#000000; stroke-linecap:round; stroke-linejoin:round; stroke-width:4; stroke-opacity:1; fill:none\" points=\"\n",
       "  179.353,1486.45 179.353,47.2441 \n",
       "  \"/>\n",
       "<polyline clip-path=\"url(#clip460)\" style=\"stroke:#000000; stroke-linecap:round; stroke-linejoin:round; stroke-width:4; stroke-opacity:1; fill:none\" points=\"\n",
       "  179.353,1379.4 198.25,1379.4 \n",
       "  \"/>\n",
       "<polyline clip-path=\"url(#clip460)\" style=\"stroke:#000000; stroke-linecap:round; stroke-linejoin:round; stroke-width:4; stroke-opacity:1; fill:none\" points=\"\n",
       "  179.353,1105.67 198.25,1105.67 \n",
       "  \"/>\n",
       "<polyline clip-path=\"url(#clip460)\" style=\"stroke:#000000; stroke-linecap:round; stroke-linejoin:round; stroke-width:4; stroke-opacity:1; fill:none\" points=\"\n",
       "  179.353,831.933 198.25,831.933 \n",
       "  \"/>\n",
       "<polyline clip-path=\"url(#clip460)\" style=\"stroke:#000000; stroke-linecap:round; stroke-linejoin:round; stroke-width:4; stroke-opacity:1; fill:none\" points=\"\n",
       "  179.353,558.199 198.25,558.199 \n",
       "  \"/>\n",
       "<polyline clip-path=\"url(#clip460)\" style=\"stroke:#000000; stroke-linecap:round; stroke-linejoin:round; stroke-width:4; stroke-opacity:1; fill:none\" points=\"\n",
       "  179.353,284.465 198.25,284.465 \n",
       "  \"/>\n",
       "<path clip-path=\"url(#clip460)\" d=\"M50.9921 1379.85 L80.6679 1379.85 L80.6679 1383.79 L50.9921 1383.79 L50.9921 1379.85 Z\" fill=\"#000000\" fill-rule=\"evenodd\" fill-opacity=\"1\" /><path clip-path=\"url(#clip460)\" d=\"M104.927 1378.05 Q108.283 1378.77 110.158 1381.03 Q112.057 1383.3 112.057 1386.64 Q112.057 1391.75 108.538 1394.55 Q105.02 1397.35 98.5382 1397.35 Q96.3623 1397.35 94.0475 1396.91 Q91.7558 1396.5 89.3021 1395.64 L89.3021 1391.13 Q91.2465 1392.26 93.5613 1392.84 Q95.8761 1393.42 98.3993 1393.42 Q102.797 1393.42 105.089 1391.68 Q107.404 1389.95 107.404 1386.64 Q107.404 1383.58 105.251 1381.87 Q103.121 1380.13 99.3021 1380.13 L95.2743 1380.13 L95.2743 1376.29 L99.4872 1376.29 Q102.936 1376.29 104.765 1374.92 Q106.594 1373.53 106.594 1370.94 Q106.594 1368.28 104.696 1366.87 Q102.821 1365.43 99.3021 1365.43 Q97.3808 1365.43 95.1817 1365.85 Q92.9826 1366.27 90.3438 1367.14 L90.3438 1362.98 Q93.0058 1362.24 95.3206 1361.87 Q97.6585 1361.5 99.7187 1361.5 Q105.043 1361.5 108.145 1363.93 Q111.246 1366.33 111.246 1370.45 Q111.246 1373.33 109.603 1375.32 Q107.959 1377.28 104.927 1378.05 Z\" fill=\"#000000\" fill-rule=\"evenodd\" fill-opacity=\"1\" /><path clip-path=\"url(#clip460)\" d=\"M133.769 1366.2 L121.964 1384.64 L133.769 1384.64 L133.769 1366.2 M132.543 1362.12 L138.422 1362.12 L138.422 1384.64 L143.353 1384.64 L143.353 1388.53 L138.422 1388.53 L138.422 1396.68 L133.769 1396.68 L133.769 1388.53 L118.168 1388.53 L118.168 1384.02 L132.543 1362.12 Z\" fill=\"#000000\" fill-rule=\"evenodd\" fill-opacity=\"1\" /><path clip-path=\"url(#clip460)\" d=\"M53.0754 1106.12 L82.7512 1106.12 L82.7512 1110.05 L53.0754 1110.05 L53.0754 1106.12 Z\" fill=\"#000000\" fill-rule=\"evenodd\" fill-opacity=\"1\" /><path clip-path=\"url(#clip460)\" d=\"M107.01 1104.31 Q110.367 1105.03 112.242 1107.3 Q114.14 1109.57 114.14 1112.9 Q114.14 1118.02 110.621 1120.82 Q107.103 1123.62 100.621 1123.62 Q98.4456 1123.62 96.1308 1123.18 Q93.8391 1122.76 91.3854 1121.91 L91.3854 1117.39 Q93.3299 1118.53 95.6447 1119.1 Q97.9595 1119.68 100.483 1119.68 Q104.881 1119.68 107.172 1117.95 Q109.487 1116.21 109.487 1112.9 Q109.487 1109.85 107.334 1108.13 Q105.205 1106.4 101.385 1106.4 L97.3576 1106.4 L97.3576 1102.55 L101.571 1102.55 Q105.02 1102.55 106.848 1101.19 Q108.677 1099.8 108.677 1097.21 Q108.677 1094.54 106.779 1093.13 Q104.904 1091.7 101.385 1091.7 Q99.4641 1091.7 97.265 1092.11 Q95.066 1092.53 92.4271 1093.41 L92.4271 1089.24 Q95.0891 1088.5 97.4039 1088.13 Q99.7419 1087.76 101.802 1087.76 Q107.126 1087.76 110.228 1090.19 Q113.33 1092.6 113.33 1096.72 Q113.33 1099.59 111.686 1101.58 Q110.043 1103.55 107.01 1104.31 Z\" fill=\"#000000\" fill-rule=\"evenodd\" fill-opacity=\"1\" /><path clip-path=\"url(#clip460)\" d=\"M127.033 1119.01 L143.353 1119.01 L143.353 1122.95 L121.408 1122.95 L121.408 1119.01 Q124.07 1116.26 128.654 1111.63 Q133.26 1106.98 134.441 1105.63 Q136.686 1103.11 137.566 1101.37 Q138.469 1099.61 138.469 1097.92 Q138.469 1095.17 136.524 1093.43 Q134.603 1091.7 131.501 1091.7 Q129.302 1091.7 126.848 1092.46 Q124.418 1093.23 121.64 1094.78 L121.64 1090.05 Q124.464 1088.92 126.918 1088.34 Q129.371 1087.76 131.408 1087.76 Q136.779 1087.76 139.973 1090.45 Q143.168 1093.13 143.168 1097.62 Q143.168 1099.75 142.357 1101.67 Q141.57 1103.57 139.464 1106.17 Q138.885 1106.84 135.783 1110.05 Q132.682 1113.25 127.033 1119.01 Z\" fill=\"#000000\" fill-rule=\"evenodd\" fill-opacity=\"1\" /><path clip-path=\"url(#clip460)\" d=\"M51.4782 832.384 L81.154 832.384 L81.154 836.32 L51.4782 836.32 L51.4782 832.384 Z\" fill=\"#000000\" fill-rule=\"evenodd\" fill-opacity=\"1\" /><path clip-path=\"url(#clip460)\" d=\"M105.413 830.579 Q108.77 831.297 110.645 833.565 Q112.543 835.834 112.543 839.167 Q112.543 844.283 109.024 847.083 Q105.506 849.884 99.0243 849.884 Q96.8484 849.884 94.5336 849.445 Q92.2419 849.028 89.7882 848.171 L89.7882 843.658 Q91.7326 844.792 94.0475 845.371 Q96.3623 845.949 98.8854 845.949 Q103.284 845.949 105.575 844.213 Q107.89 842.477 107.89 839.167 Q107.89 836.111 105.737 834.398 Q103.608 832.662 99.7882 832.662 L95.7604 832.662 L95.7604 828.82 L99.9733 828.82 Q103.422 828.82 105.251 827.454 Q107.08 826.065 107.08 823.472 Q107.08 820.81 105.182 819.398 Q103.307 817.963 99.7882 817.963 Q97.8669 817.963 95.6678 818.38 Q93.4688 818.797 90.8299 819.676 L90.8299 815.51 Q93.4919 814.769 95.8067 814.398 Q98.1447 814.028 100.205 814.028 Q105.529 814.028 108.631 816.459 Q111.733 818.866 111.733 822.986 Q111.733 825.857 110.089 827.847 Q108.446 829.815 105.413 830.579 Z\" fill=\"#000000\" fill-rule=\"evenodd\" fill-opacity=\"1\" /><path clip-path=\"url(#clip460)\" d=\"M131.408 817.732 Q127.797 817.732 125.969 821.297 Q124.163 824.838 124.163 831.968 Q124.163 839.074 125.969 842.639 Q127.797 846.181 131.408 846.181 Q135.043 846.181 136.848 842.639 Q138.677 839.074 138.677 831.968 Q138.677 824.838 136.848 821.297 Q135.043 817.732 131.408 817.732 M131.408 814.028 Q137.219 814.028 140.274 818.635 Q143.353 823.218 143.353 831.968 Q143.353 840.695 140.274 845.301 Q137.219 849.884 131.408 849.884 Q125.598 849.884 122.52 845.301 Q119.464 840.695 119.464 831.968 Q119.464 823.218 122.52 818.635 Q125.598 814.028 131.408 814.028 Z\" fill=\"#000000\" fill-rule=\"evenodd\" fill-opacity=\"1\" /><path clip-path=\"url(#clip460)\" d=\"M51.5708 558.65 L81.2466 558.65 L81.2466 562.585 L51.5708 562.585 L51.5708 558.65 Z\" fill=\"#000000\" fill-rule=\"evenodd\" fill-opacity=\"1\" /><path clip-path=\"url(#clip460)\" d=\"M95.3669 571.544 L111.686 571.544 L111.686 575.479 L89.7419 575.479 L89.7419 571.544 Q92.4039 568.789 96.9872 564.159 Q101.594 559.507 102.774 558.164 Q105.02 555.641 105.899 553.905 Q106.802 552.146 106.802 550.456 Q106.802 547.701 104.858 545.965 Q102.936 544.229 99.8345 544.229 Q97.6354 544.229 95.1817 544.993 Q92.7512 545.757 89.9734 547.308 L89.9734 542.585 Q92.7975 541.451 95.2511 540.873 Q97.7048 540.294 99.7419 540.294 Q105.112 540.294 108.307 542.979 Q111.501 545.664 111.501 550.155 Q111.501 552.284 110.691 554.206 Q109.904 556.104 107.797 558.696 Q107.219 559.368 104.117 562.585 Q101.015 565.78 95.3669 571.544 Z\" fill=\"#000000\" fill-rule=\"evenodd\" fill-opacity=\"1\" /><path clip-path=\"url(#clip460)\" d=\"M131.501 559.067 Q128.168 559.067 126.246 560.849 Q124.348 562.632 124.348 565.757 Q124.348 568.882 126.246 570.664 Q128.168 572.446 131.501 572.446 Q134.834 572.446 136.756 570.664 Q138.677 568.858 138.677 565.757 Q138.677 562.632 136.756 560.849 Q134.857 559.067 131.501 559.067 M126.825 557.076 Q123.816 556.335 122.126 554.275 Q120.459 552.215 120.459 549.252 Q120.459 545.109 123.399 542.701 Q126.362 540.294 131.501 540.294 Q136.663 540.294 139.603 542.701 Q142.543 545.109 142.543 549.252 Q142.543 552.215 140.853 554.275 Q139.186 556.335 136.2 557.076 Q139.58 557.863 141.455 560.155 Q143.353 562.446 143.353 565.757 Q143.353 570.78 140.274 573.465 Q137.219 576.15 131.501 576.15 Q125.783 576.15 122.705 573.465 Q119.649 570.78 119.649 565.757 Q119.649 562.446 121.547 560.155 Q123.445 557.863 126.825 557.076 M125.112 549.692 Q125.112 552.377 126.779 553.882 Q128.469 555.386 131.501 555.386 Q134.51 555.386 136.2 553.882 Q137.913 552.377 137.913 549.692 Q137.913 547.007 136.2 545.502 Q134.51 543.997 131.501 543.997 Q128.469 543.997 126.779 545.502 Q125.112 547.007 125.112 549.692 Z\" fill=\"#000000\" fill-rule=\"evenodd\" fill-opacity=\"1\" /><path clip-path=\"url(#clip460)\" d=\"M51.3162 284.916 L80.992 284.916 L80.992 288.851 L51.3162 288.851 L51.3162 284.916 Z\" fill=\"#000000\" fill-rule=\"evenodd\" fill-opacity=\"1\" /><path clip-path=\"url(#clip460)\" d=\"M95.1123 297.809 L111.432 297.809 L111.432 301.745 L89.4873 301.745 L89.4873 297.809 Q92.1493 295.055 96.7326 290.425 Q101.339 285.772 102.52 284.43 Q104.765 281.907 105.645 280.171 Q106.547 278.411 106.547 276.722 Q106.547 273.967 104.603 272.231 Q102.682 270.495 99.5798 270.495 Q97.3808 270.495 94.9271 271.259 Q92.4965 272.022 89.7188 273.573 L89.7188 268.851 Q92.5428 267.717 94.9965 267.138 Q97.4502 266.56 99.4872 266.56 Q104.858 266.56 108.052 269.245 Q111.246 271.93 111.246 276.421 Q111.246 278.55 110.436 280.472 Q109.649 282.37 107.543 284.962 Q106.964 285.634 103.862 288.851 Q100.76 292.046 95.1123 297.809 Z\" fill=\"#000000\" fill-rule=\"evenodd\" fill-opacity=\"1\" /><path clip-path=\"url(#clip460)\" d=\"M131.825 282.601 Q128.677 282.601 126.825 284.754 Q124.996 286.907 124.996 290.657 Q124.996 294.383 126.825 296.559 Q128.677 298.712 131.825 298.712 Q134.973 298.712 136.802 296.559 Q138.654 294.383 138.654 290.657 Q138.654 286.907 136.802 284.754 Q134.973 282.601 131.825 282.601 M141.107 267.948 L141.107 272.208 Q139.348 271.374 137.543 270.935 Q135.76 270.495 134.001 270.495 Q129.371 270.495 126.918 273.62 Q124.487 276.745 124.14 283.064 Q125.506 281.05 127.566 279.985 Q129.626 278.897 132.103 278.897 Q137.311 278.897 140.32 282.069 Q143.353 285.217 143.353 290.657 Q143.353 295.981 140.205 299.198 Q137.056 302.416 131.825 302.416 Q125.83 302.416 122.658 297.833 Q119.487 293.226 119.487 284.499 Q119.487 276.305 123.376 271.444 Q127.265 266.56 133.816 266.56 Q135.575 266.56 137.357 266.907 Q139.163 267.254 141.107 267.948 Z\" fill=\"#000000\" fill-rule=\"evenodd\" fill-opacity=\"1\" /><polyline clip-path=\"url(#clip462)\" style=\"stroke:#009af9; stroke-linecap:round; stroke-linejoin:round; stroke-width:4; stroke-opacity:1; fill:none\" points=\"\n",
       "  240.864,87.9763 242.919,89.4687 244.973,90.9197 247.028,92.3311 249.082,93.7048 251.137,95.0426 253.191,96.3459 255.246,97.6163 257.3,98.8552 259.355,100.064 \n",
       "  261.409,101.244 263.464,102.395 265.518,103.521 267.573,104.62 269.627,105.695 271.681,106.746 273.736,107.773 275.79,108.779 277.845,109.763 279.899,110.727 \n",
       "  281.954,111.671 284.008,112.595 286.063,113.501 288.117,114.389 290.172,115.259 292.226,116.112 294.281,116.949 296.335,117.77 298.39,118.575 300.444,119.366 \n",
       "  302.499,120.141 304.553,120.903 306.608,121.651 308.662,122.386 310.717,123.107 312.771,123.816 314.826,124.512 316.88,125.197 318.935,125.87 320.989,126.531 \n",
       "  323.044,127.181 325.098,127.821 327.153,128.45 329.207,129.068 331.262,129.677 333.316,130.275 335.371,130.865 337.425,131.444 339.48,132.015 341.534,132.576 \n",
       "  343.589,133.129 345.643,133.673 347.698,134.209 349.752,134.737 351.807,135.257 353.861,135.768 355.916,136.272 357.97,136.769 360.025,137.258 362.079,137.74 \n",
       "  364.134,138.215 366.188,138.683 368.242,139.144 370.297,139.599 372.351,140.047 374.406,140.488 376.46,140.924 378.515,141.353 380.569,141.776 382.624,142.193 \n",
       "  384.678,142.604 386.733,143.01 388.787,143.409 390.842,143.804 392.896,144.193 394.951,144.576 397.005,144.955 399.06,145.328 401.114,145.696 403.169,146.059 \n",
       "  405.223,146.417 407.278,146.77 409.332,147.119 411.387,147.463 413.441,147.802 415.496,148.137 417.55,148.468 419.605,148.794 421.659,149.115 423.714,149.433 \n",
       "  425.768,149.746 427.823,150.055 429.877,150.361 431.932,150.662 433.986,150.959 436.041,151.252 438.095,151.542 440.15,151.828 442.204,152.11 444.259,152.388 \n",
       "  446.313,152.663 448.368,152.935 450.422,153.202 452.477,153.467 454.531,153.728 456.586,153.985 458.64,154.24 460.695,154.491 462.749,154.739 464.803,154.983 \n",
       "  466.858,155.225 468.912,155.463 470.967,155.699 473.021,155.931 475.076,156.161 477.13,156.387 479.185,156.611 481.239,156.831 483.294,157.049 485.348,157.264 \n",
       "  487.403,157.477 489.457,157.687 491.512,157.894 493.566,158.098 495.621,158.3 497.675,158.499 499.73,158.695 501.784,158.889 503.839,159.081 505.893,159.27 \n",
       "  507.948,159.457 510.002,159.641 512.057,159.823 514.111,160.002 516.166,160.18 518.22,160.354 520.275,160.527 522.329,160.698 524.384,160.866 526.438,161.032 \n",
       "  528.493,161.195 530.547,161.357 532.602,161.517 534.656,161.674 536.711,161.83 538.765,161.983 540.82,162.134 542.874,162.283 544.929,162.431 546.983,162.576 \n",
       "  549.038,162.719 551.092,162.861 553.147,163 555.201,163.138 557.256,163.274 559.31,163.408 561.364,163.54 563.419,163.67 565.473,163.799 567.528,163.925 \n",
       "  569.582,164.05 571.637,164.174 573.691,164.295 575.746,164.415 577.8,164.533 579.855,164.65 581.909,164.765 583.964,164.878 586.018,164.989 588.073,165.099 \n",
       "  590.127,165.208 592.182,165.315 594.236,165.42 596.291,165.524 598.345,165.626 600.4,165.726 602.454,165.826 604.509,165.923 606.563,166.019 608.618,166.114 \n",
       "  610.672,166.208 612.727,166.299 614.781,166.39 616.836,166.479 618.89,166.567 620.945,166.653 622.999,166.738 625.054,166.821 627.108,166.904 629.163,166.984 \n",
       "  631.217,167.064 633.272,167.142 635.326,167.219 637.381,167.295 639.435,167.369 641.49,167.443 643.544,167.514 645.599,167.585 647.653,167.655 649.708,167.723 \n",
       "  651.762,167.79 653.817,167.856 655.871,167.92 657.925,167.984 659.98,168.046 662.034,168.107 664.089,168.167 666.143,168.226 668.198,168.284 670.252,168.34 \n",
       "  672.307,168.396 674.361,168.45 676.416,168.504 678.47,168.556 680.525,168.607 682.579,168.657 684.634,168.706 686.688,168.754 688.743,168.801 690.797,168.847 \n",
       "  692.852,168.892 694.906,168.936 696.961,168.979 699.015,169.021 701.07,169.061 703.124,169.101 705.179,169.14 707.233,169.178 709.288,169.215 711.342,169.251 \n",
       "  713.397,169.287 715.451,169.321 717.506,169.354 719.56,169.387 721.615,169.418 723.669,169.449 725.724,169.478 727.778,169.507 729.833,169.535 731.887,169.562 \n",
       "  733.942,169.588 735.996,169.613 738.051,169.638 740.105,169.661 742.16,169.684 744.214,169.706 746.269,169.727 748.323,169.747 750.378,169.767 752.432,169.785 \n",
       "  754.486,169.803 756.541,169.82 758.595,169.836 760.65,169.852 762.704,169.867 764.759,169.88 766.813,169.894 768.868,169.906 770.922,169.918 772.977,169.928 \n",
       "  775.031,169.938 777.086,169.948 779.14,169.956 781.195,169.964 783.249,169.972 785.304,169.978 787.358,169.984 789.413,169.989 791.467,169.993 793.522,169.997 \n",
       "  795.576,170 797.631,170.002 799.685,170.004 801.74,170.005 803.794,170.005 805.849,170.005 807.903,170.003 809.958,170.002 812.012,169.999 814.067,169.996 \n",
       "  816.121,169.993 818.176,169.988 820.23,169.983 822.285,169.978 824.339,169.972 826.394,169.965 828.448,169.958 830.503,169.95 832.557,169.941 834.612,169.932 \n",
       "  836.666,169.922 838.721,169.912 840.775,169.901 842.83,169.889 844.884,169.877 846.939,169.864 848.993,169.851 851.047,169.837 853.102,169.823 855.156,169.808 \n",
       "  857.211,169.792 859.265,169.776 861.32,169.76 863.374,169.743 865.429,169.725 867.483,169.707 869.538,169.688 871.592,169.669 873.647,169.649 875.701,169.629 \n",
       "  877.756,169.608 879.81,169.587 881.865,169.565 883.919,169.543 885.974,169.52 888.028,169.497 890.083,169.473 892.137,169.449 894.192,169.424 896.246,169.399 \n",
       "  898.301,169.374 900.355,169.347 902.41,169.321 904.464,169.294 906.519,169.266 908.573,169.238 910.628,169.21 912.682,169.181 914.737,169.152 916.791,169.122 \n",
       "  918.846,169.092 920.9,169.062 922.955,169.031 925.009,168.999 927.064,168.967 929.118,168.935 931.173,168.902 933.227,168.869 935.282,168.836 937.336,168.802 \n",
       "  939.391,168.768 941.445,168.733 943.5,168.698 945.554,168.662 947.608,168.627 949.663,168.59 951.717,168.554 953.772,168.517 955.826,168.479 957.881,168.442 \n",
       "  959.935,168.403 961.99,168.365 964.044,168.326 966.099,168.287 968.153,168.247 970.208,168.207 972.262,168.167 974.317,168.127 976.371,168.086 978.426,168.044 \n",
       "  980.48,168.003 982.535,167.961 984.589,167.919 986.644,167.876 988.698,167.833 990.753,167.79 992.807,167.746 994.862,167.702 996.916,167.658 998.971,167.614 \n",
       "  1001.03,167.569 1003.08,167.524 1005.13,167.479 1007.19,167.433 1009.24,167.387 1011.3,167.341 1013.35,167.294 1015.41,167.247 1017.46,167.2 1019.52,167.153 \n",
       "  1021.57,167.105 1023.62,167.057 1025.68,167.009 1027.73,166.96 1029.79,166.912 1031.84,166.863 1033.9,166.813 1035.95,166.764 1038.01,166.714 1040.06,166.664 \n",
       "  1042.11,166.614 1044.17,166.563 1046.22,166.513 1048.28,166.462 1050.33,166.41 1052.39,166.359 1054.44,166.307 1056.5,166.255 1058.55,166.203 1060.61,166.151 \n",
       "  1062.66,166.098 1064.71,166.046 1066.77,165.993 1068.82,165.939 1070.88,165.886 1072.93,165.832 1074.99,165.778 1077.04,165.724 1079.1,165.67 1081.15,165.616 \n",
       "  1083.2,165.561 1085.26,165.506 1087.31,165.452 1089.37,165.396 1091.42,165.341 1093.48,165.286 1095.53,165.23 1097.59,165.174 1099.64,165.118 1101.7,165.062 \n",
       "  1103.75,165.006 1105.8,164.949 1107.86,164.892 1109.91,164.836 1111.97,164.779 1114.02,164.722 1116.08,164.664 1118.13,164.607 1120.19,164.549 1122.24,164.492 \n",
       "  1124.29,164.434 1126.35,164.376 1128.4,164.318 1130.46,164.26 1132.51,164.201 1134.57,164.143 1136.62,164.084 1138.68,164.026 1140.73,163.967 1142.78,163.908 \n",
       "  1144.84,163.849 1146.89,163.79 1148.95,163.731 1151,163.671 1153.06,163.612 1155.11,163.552 1157.17,163.493 1159.22,163.433 1161.28,163.373 1163.33,163.314 \n",
       "  1165.38,163.254 1167.44,163.194 1169.49,163.134 1171.55,163.073 1173.6,163.013 1175.66,162.953 1177.71,162.893 1179.77,162.832 1181.82,162.772 1183.87,162.711 \n",
       "  1185.93,162.651 1187.98,162.59 1190.04,162.529 1192.09,162.469 1194.15,162.408 1196.2,162.347 1198.26,162.286 1200.31,162.226 1202.37,162.165 1204.42,162.104 \n",
       "  1206.47,162.043 1208.53,161.982 1210.58,161.921 1212.64,161.86 1214.69,161.799 1216.75,161.738 1218.8,161.677 1220.86,161.616 1222.91,161.555 1224.96,161.494 \n",
       "  1227.02,161.433 1229.07,161.372 1231.13,161.311 1233.18,161.25 1235.24,161.189 1237.29,161.128 1239.35,161.068 1241.4,161.007 1243.45,160.946 1245.51,160.885 \n",
       "  1247.56,160.824 1249.62,160.764 1251.67,160.703 1253.73,160.642 1255.78,160.582 1257.84,160.521 1259.89,160.461 1261.95,160.4 1264,160.34 1266.05,160.279 \n",
       "  1268.11,160.219 1270.16,160.159 1272.22,160.099 1274.27,160.039 1276.33,159.979 1278.38,159.919 1280.44,159.859 1282.49,159.8 1284.54,159.74 1286.6,159.68 \n",
       "  1288.65,159.621 1290.71,159.562 1292.76,159.502 1294.82,159.443 1296.87,159.384 1298.93,159.325 1300.98,159.267 1303.04,159.208 1305.09,159.149 1307.14,159.091 \n",
       "  1309.2,159.033 1311.25,158.975 1313.31,158.917 1315.36,158.859 1317.42,158.801 1319.47,158.743 1321.53,158.686 1323.58,158.629 1325.63,158.572 1327.69,158.515 \n",
       "  1329.74,158.458 1331.8,158.401 1333.85,158.345 1335.91,158.288 1337.96,158.232 1340.02,158.176 1342.07,158.121 1344.12,158.065 1346.18,158.01 1348.23,157.955 \n",
       "  1350.29,157.9 1352.34,157.845 1354.4,157.79 1356.45,157.736 1358.51,157.682 1360.56,157.628 1362.62,157.574 1364.67,157.52 1366.72,157.467 1368.78,157.414 \n",
       "  1370.83,157.361 1372.89,157.309 1374.94,157.256 1377,157.204 1379.05,157.152 1381.11,157.101 1383.16,157.05 1385.21,156.998 1387.27,156.948 1389.32,156.897 \n",
       "  1391.38,156.847 1393.43,156.797 1395.49,156.747 1397.54,156.698 1399.6,156.649 1401.65,156.6 1403.71,156.551 1405.76,156.503 1407.81,156.455 1409.87,156.407 \n",
       "  1411.92,156.36 1413.98,156.313 1416.03,156.266 1418.09,156.22 1420.14,156.174 1422.2,156.128 1424.25,156.083 1426.3,156.038 1428.36,155.993 1430.41,155.949 \n",
       "  1432.47,155.905 1434.52,155.861 1436.58,155.818 1438.63,155.775 1440.69,155.733 1442.74,155.69 1444.79,155.649 1446.85,155.607 1448.9,155.566 1450.96,155.526 \n",
       "  1453.01,155.485 1455.07,155.446 1457.12,155.406 1459.18,155.367 1461.23,155.329 1463.29,155.291 1465.34,155.253 1467.39,155.216 1469.45,155.179 1471.5,155.142 \n",
       "  1473.56,155.106 1475.61,155.071 1477.67,155.036 1479.72,155.001 1481.78,154.967 1483.83,154.934 1485.88,154.9 1487.94,154.868 1489.99,154.836 1492.05,154.804 \n",
       "  1494.1,154.773 1496.16,154.742 1498.21,154.712 1500.27,154.682 1502.32,154.653 1504.38,154.624 1506.43,154.596 1508.48,154.568 1510.54,154.541 1512.59,154.515 \n",
       "  1514.65,154.489 1516.7,154.464 1518.76,154.439 1520.81,154.414 1522.87,154.391 1524.92,154.368 1526.97,154.345 1529.03,154.323 1531.08,154.302 1533.14,154.281 \n",
       "  1535.19,154.261 1537.25,154.241 1539.3,154.222 1541.36,154.204 1543.41,154.186 1545.46,154.169 1547.52,154.153 1549.57,154.137 1551.63,154.122 1553.68,154.108 \n",
       "  1555.74,154.094 1557.79,154.081 1559.85,154.069 1561.9,154.057 1563.96,154.046 1566.01,154.036 1568.06,154.026 1570.12,154.017 1572.17,154.009 1574.23,154.001 \n",
       "  1576.28,153.995 1578.34,153.989 1580.39,153.983 1582.45,153.979 1584.5,153.975 1586.55,153.972 1588.61,153.97 1590.66,153.969 1592.72,153.968 1594.77,153.968 \n",
       "  1596.83,153.969 1598.88,153.971 1600.94,153.974 1602.99,153.977 1605.05,153.981 1607.1,153.987 1609.15,153.993 1611.21,153.999 1613.26,154.007 1615.32,154.016 \n",
       "  1617.37,154.025 1619.43,154.035 1621.48,154.047 1623.54,154.059 1625.59,154.072 1627.64,154.086 1629.7,154.101 1631.75,154.117 1633.81,154.133 1635.86,154.151 \n",
       "  1637.92,154.17 1639.97,154.189 1642.03,154.21 1644.08,154.232 1646.13,154.254 1648.19,154.278 1650.24,154.302 1652.3,154.328 1654.35,154.355 1656.41,154.383 \n",
       "  1658.46,154.411 1660.52,154.441 1662.57,154.472 1664.63,154.504 1666.68,154.537 1668.73,154.571 1670.79,154.607 1672.84,154.643 1674.9,154.68 1676.95,154.719 \n",
       "  1679.01,154.759 1681.06,154.8 1683.12,154.842 1685.17,154.885 1687.22,154.93 1689.28,154.975 1691.33,155.022 1693.39,155.07 1695.44,155.12 1697.5,155.17 \n",
       "  1699.55,155.222 1701.61,155.275 1703.66,155.33 1705.72,155.385 1707.77,155.442 1709.82,155.5 1711.88,155.56 1713.93,155.621 1715.99,155.683 1718.04,155.747 \n",
       "  1720.1,155.812 1722.15,155.878 1724.21,155.946 1726.26,156.015 1728.31,156.086 1730.37,156.157 1732.42,156.231 1734.48,156.306 1736.53,156.382 1738.59,156.46 \n",
       "  1740.64,156.539 1742.7,156.62 1744.75,156.702 1746.8,156.786 1748.86,156.872 1750.91,156.959 1752.97,157.047 1755.02,157.137 1757.08,157.229 1759.13,157.322 \n",
       "  1761.19,157.417 1763.24,157.514 1765.3,157.612 1767.35,157.712 1769.4,157.814 1771.46,157.917 1773.51,158.022 1775.57,158.129 1777.62,158.237 1779.68,158.348 \n",
       "  1781.73,158.46 1783.79,158.574 1785.84,158.689 1787.89,158.807 1789.95,158.926 1792,159.047 1794.06,159.17 1796.11,159.295 1798.17,159.422 1800.22,159.551 \n",
       "  1802.28,159.682 1804.33,159.815 1806.39,159.95 1808.44,160.086 1810.49,160.225 1812.55,160.366 1814.6,160.509 1816.66,160.654 1818.71,160.801 1820.77,160.95 \n",
       "  1822.82,161.101 1824.88,161.255 1826.93,161.41 1828.98,161.568 1831.04,161.728 1833.09,161.891 1835.15,162.055 1837.2,162.222 1839.26,162.391 1841.31,162.563 \n",
       "  1843.37,162.737 1845.42,162.913 1847.47,163.091 1849.53,163.272 1851.58,163.456 1853.64,163.642 1855.69,163.83 1857.75,164.021 1859.8,164.214 1861.86,164.41 \n",
       "  1863.91,164.609 1865.97,164.81 1868.02,165.014 1870.07,165.22 1872.13,165.43 1874.18,165.641 1876.24,165.856 1878.29,166.073 1880.35,166.294 1882.4,166.517 \n",
       "  1884.46,166.742 1886.51,166.971 1888.56,167.203 1890.62,167.437 1892.67,167.675 1894.73,167.915 1896.78,168.159 1898.84,168.405 1900.89,168.655 1902.95,168.908 \n",
       "  1905,169.164 1907.05,169.423 1909.11,169.685 1911.16,169.951 1913.22,170.22 1915.27,170.492 1917.33,170.768 1919.38,171.047 1921.44,171.329 1923.49,171.615 \n",
       "  1925.55,171.904 1927.6,172.197 1929.65,172.494 1931.71,172.794 1933.76,173.097 1935.82,173.405 1937.87,173.716 1939.93,174.031 1941.98,174.35 1944.04,174.672 \n",
       "  1946.09,174.999 1948.14,175.329 1950.2,175.664 1952.25,176.002 1954.31,176.345 1956.36,176.691 1958.42,177.042 1960.47,177.397 1962.53,177.757 1964.58,178.12 \n",
       "  1966.64,178.489 1968.69,178.861 1970.74,179.238 1972.8,179.62 1974.85,180.006 1976.91,180.396 1978.96,180.792 1981.02,181.192 1983.07,181.597 1985.13,182.007 \n",
       "  1987.18,182.422 1989.23,182.842 1991.29,183.266 1993.34,183.696 1995.4,184.132 1997.45,184.572 1999.51,185.018 2001.56,185.469 2003.62,185.926 2005.67,186.388 \n",
       "  2007.72,186.855 2009.78,187.329 2011.83,187.808 2013.89,188.293 2015.94,188.784 2018,189.281 2020.05,189.784 2022.11,190.293 2024.16,190.809 2026.22,191.331 \n",
       "  2028.27,191.859 2030.32,192.394 2032.38,192.935 2034.43,193.483 2036.49,194.038 2038.54,194.6 2040.6,195.169 2042.65,195.745 2044.71,196.328 2046.76,196.919 \n",
       "  2048.81,197.517 2050.87,198.122 2052.92,198.736 2054.98,199.357 2057.03,199.986 2059.09,200.623 2061.14,201.269 2063.2,201.923 2065.25,202.585 2067.31,203.256 \n",
       "  2069.36,203.936 2071.41,204.625 2073.47,205.323 2075.52,206.03 2077.58,206.747 2079.63,207.473 2081.69,208.209 2083.74,208.955 2085.8,209.711 2087.85,210.478 \n",
       "  2089.9,211.255 2091.96,212.043 2094.01,212.842 2096.07,213.653 2098.12,214.475 2100.18,215.308 2102.23,216.153 2104.29,217.011 2106.34,217.881 2108.39,218.764 \n",
       "  2110.45,219.66 2112.5,220.569 2114.56,221.492 2116.61,222.429 2118.67,223.38 2120.72,224.346 2122.78,225.327 2124.83,226.324 2126.89,227.336 2128.94,228.364 \n",
       "  2130.99,229.409 2133.05,230.471 2135.1,231.551 2137.16,232.649 2139.21,233.765 2141.27,234.901 2143.32,236.056 2145.38,237.231 2147.43,238.427 2149.48,239.645 \n",
       "  2151.54,240.885 2153.59,242.148 2155.65,243.435 2157.7,244.746 2159.76,246.083 2161.81,247.446 2163.87,248.836 2165.92,250.255 2167.98,251.703 2170.03,253.181 \n",
       "  2172.08,254.691 2174.14,256.234 2176.19,257.811 2178.25,259.424 2180.3,261.074 2182.36,262.763 2184.41,264.493 2186.47,266.266 2188.52,268.084 2190.57,269.948 \n",
       "  2192.63,271.862 2194.68,273.827 2196.74,275.848 2198.79,277.926 2200.85,280.064 2202.9,282.268 2204.96,284.539 2207.01,286.883 2209.06,289.304 2211.12,291.807 \n",
       "  2213.17,294.397 2215.23,297.081 2217.28,299.865 2219.34,302.757 2221.39,305.764 2223.45,308.897 2225.5,312.164 2227.56,315.578 2229.61,319.151 2231.66,322.898 \n",
       "  2233.72,326.835 2235.77,330.979 2237.83,335.353 2239.88,339.981 2241.94,344.89 2243.99,350.112 2246.05,355.685 2248.1,361.653 2250.15,368.068 2252.21,374.99 \n",
       "  2254.26,382.494 2256.32,390.668 2258.37,399.62 2260.43,409.482 2262.48,420.421 2264.54,432.645 2266.59,446.419 2268.65,462.09 2270.7,480.117 2272.75,501.12 \n",
       "  2274.81,525.955 2276.86,555.85 2278.92,592.615 2280.97,639.044 2283.03,699.687 2285.08,782.483 2287.14,902.657 2289.19,1093.59 2291.24,1445.72 \n",
       "  \"/>\n",
       "<path clip-path=\"url(#clip460)\" d=\"\n",
       "M251.8 1438.47 L521.57 1438.47 L521.57 1334.79 L251.8 1334.79  Z\n",
       "  \" fill=\"#ffffff\" fill-rule=\"evenodd\" fill-opacity=\"1\"/>\n",
       "<polyline clip-path=\"url(#clip460)\" style=\"stroke:#000000; stroke-linecap:round; stroke-linejoin:round; stroke-width:4; stroke-opacity:1; fill:none\" points=\"\n",
       "  251.8,1438.47 521.57,1438.47 521.57,1334.79 251.8,1334.79 251.8,1438.47 \n",
       "  \"/>\n",
       "<polyline clip-path=\"url(#clip460)\" style=\"stroke:#009af9; stroke-linecap:round; stroke-linejoin:round; stroke-width:4; stroke-opacity:1; fill:none\" points=\"\n",
       "  275.948,1386.63 420.842,1386.63 \n",
       "  \"/>\n",
       "<path clip-path=\"url(#clip460)\" d=\"M458.833 1406.32 Q457.028 1410.95 455.315 1412.36 Q453.602 1413.78 450.732 1413.78 L447.329 1413.78 L447.329 1410.21 L449.829 1410.21 Q451.588 1410.21 452.56 1409.38 Q453.533 1408.54 454.713 1405.44 L455.477 1403.5 L444.991 1377.99 L449.505 1377.99 L457.607 1398.27 L465.708 1377.99 L470.222 1377.99 L458.833 1406.32 Z\" fill=\"#000000\" fill-rule=\"evenodd\" fill-opacity=\"1\" /><path clip-path=\"url(#clip460)\" d=\"M477.514 1399.98 L485.153 1399.98 L485.153 1373.61 L476.843 1375.28 L476.843 1371.02 L485.106 1369.35 L489.782 1369.35 L489.782 1399.98 L497.421 1399.98 L497.421 1403.91 L477.514 1403.91 L477.514 1399.98 Z\" fill=\"#000000\" fill-rule=\"evenodd\" fill-opacity=\"1\" /></svg>\n"
      ]
     },
     "execution_count": 175,
     "metadata": {},
     "output_type": "execute_result"
    }
   ],
   "source": [
    "plot(l_strains_ell_list)"
   ]
  },
  {
   "cell_type": "code",
   "execution_count": 176,
   "id": "aab2d48b-770c-4875-9eab-5118e15871ee",
   "metadata": {},
   "outputs": [
    {
     "data": {
      "image/svg+xml": [
       "<?xml version=\"1.0\" encoding=\"utf-8\"?>\n",
       "<svg xmlns=\"http://www.w3.org/2000/svg\" xmlns:xlink=\"http://www.w3.org/1999/xlink\" width=\"600\" height=\"400\" viewBox=\"0 0 2400 1600\">\n",
       "<defs>\n",
       "  <clipPath id=\"clip500\">\n",
       "    <rect x=\"0\" y=\"0\" width=\"2400\" height=\"1600\"/>\n",
       "  </clipPath>\n",
       "</defs>\n",
       "<path clip-path=\"url(#clip500)\" d=\"\n",
       "M0 1600 L2400 1600 L2400 0 L0 0  Z\n",
       "  \" fill=\"#ffffff\" fill-rule=\"evenodd\" fill-opacity=\"1\"/>\n",
       "<defs>\n",
       "  <clipPath id=\"clip501\">\n",
       "    <rect x=\"480\" y=\"0\" width=\"1681\" height=\"1600\"/>\n",
       "  </clipPath>\n",
       "</defs>\n",
       "<path clip-path=\"url(#clip500)\" d=\"\n",
       "M186.274 1486.45 L2352.76 1486.45 L2352.76 47.2441 L186.274 47.2441  Z\n",
       "  \" fill=\"#ffffff\" fill-rule=\"evenodd\" fill-opacity=\"1\"/>\n",
       "<defs>\n",
       "  <clipPath id=\"clip502\">\n",
       "    <rect x=\"186\" y=\"47\" width=\"2167\" height=\"1440\"/>\n",
       "  </clipPath>\n",
       "</defs>\n",
       "<polyline clip-path=\"url(#clip502)\" style=\"stroke:#000000; stroke-linecap:round; stroke-linejoin:round; stroke-width:2; stroke-opacity:0.1; fill:none\" points=\"\n",
       "  245.542,1486.45 245.542,47.2441 \n",
       "  \"/>\n",
       "<polyline clip-path=\"url(#clip502)\" style=\"stroke:#000000; stroke-linecap:round; stroke-linejoin:round; stroke-width:2; stroke-opacity:0.1; fill:none\" points=\"\n",
       "  757.528,1486.45 757.528,47.2441 \n",
       "  \"/>\n",
       "<polyline clip-path=\"url(#clip502)\" style=\"stroke:#000000; stroke-linecap:round; stroke-linejoin:round; stroke-width:2; stroke-opacity:0.1; fill:none\" points=\"\n",
       "  1269.51,1486.45 1269.51,47.2441 \n",
       "  \"/>\n",
       "<polyline clip-path=\"url(#clip502)\" style=\"stroke:#000000; stroke-linecap:round; stroke-linejoin:round; stroke-width:2; stroke-opacity:0.1; fill:none\" points=\"\n",
       "  1781.5,1486.45 1781.5,47.2441 \n",
       "  \"/>\n",
       "<polyline clip-path=\"url(#clip502)\" style=\"stroke:#000000; stroke-linecap:round; stroke-linejoin:round; stroke-width:2; stroke-opacity:0.1; fill:none\" points=\"\n",
       "  2293.49,1486.45 2293.49,47.2441 \n",
       "  \"/>\n",
       "<polyline clip-path=\"url(#clip500)\" style=\"stroke:#000000; stroke-linecap:round; stroke-linejoin:round; stroke-width:4; stroke-opacity:1; fill:none\" points=\"\n",
       "  186.274,1486.45 2352.76,1486.45 \n",
       "  \"/>\n",
       "<polyline clip-path=\"url(#clip500)\" style=\"stroke:#000000; stroke-linecap:round; stroke-linejoin:round; stroke-width:4; stroke-opacity:1; fill:none\" points=\"\n",
       "  245.542,1486.45 245.542,1467.55 \n",
       "  \"/>\n",
       "<polyline clip-path=\"url(#clip500)\" style=\"stroke:#000000; stroke-linecap:round; stroke-linejoin:round; stroke-width:4; stroke-opacity:1; fill:none\" points=\"\n",
       "  757.528,1486.45 757.528,1467.55 \n",
       "  \"/>\n",
       "<polyline clip-path=\"url(#clip500)\" style=\"stroke:#000000; stroke-linecap:round; stroke-linejoin:round; stroke-width:4; stroke-opacity:1; fill:none\" points=\"\n",
       "  1269.51,1486.45 1269.51,1467.55 \n",
       "  \"/>\n",
       "<polyline clip-path=\"url(#clip500)\" style=\"stroke:#000000; stroke-linecap:round; stroke-linejoin:round; stroke-width:4; stroke-opacity:1; fill:none\" points=\"\n",
       "  1781.5,1486.45 1781.5,1467.55 \n",
       "  \"/>\n",
       "<polyline clip-path=\"url(#clip500)\" style=\"stroke:#000000; stroke-linecap:round; stroke-linejoin:round; stroke-width:4; stroke-opacity:1; fill:none\" points=\"\n",
       "  2293.49,1486.45 2293.49,1467.55 \n",
       "  \"/>\n",
       "<path clip-path=\"url(#clip500)\" d=\"M245.542 1517.37 Q241.93 1517.37 240.102 1520.93 Q238.296 1524.47 238.296 1531.6 Q238.296 1538.71 240.102 1542.27 Q241.93 1545.82 245.542 1545.82 Q249.176 1545.82 250.981 1542.27 Q252.81 1538.71 252.81 1531.6 Q252.81 1524.47 250.981 1520.93 Q249.176 1517.37 245.542 1517.37 M245.542 1513.66 Q251.352 1513.66 254.407 1518.27 Q257.486 1522.85 257.486 1531.6 Q257.486 1540.33 254.407 1544.94 Q251.352 1549.52 245.542 1549.52 Q239.731 1549.52 236.653 1544.94 Q233.597 1540.33 233.597 1531.6 Q233.597 1522.85 236.653 1518.27 Q239.731 1513.66 245.542 1513.66 Z\" fill=\"#000000\" fill-rule=\"evenodd\" fill-opacity=\"1\" /><path clip-path=\"url(#clip500)\" d=\"M721.221 1544.91 L737.54 1544.91 L737.54 1548.85 L715.596 1548.85 L715.596 1544.91 Q718.258 1542.16 722.841 1537.53 Q727.447 1532.88 728.628 1531.53 Q730.873 1529.01 731.753 1527.27 Q732.656 1525.51 732.656 1523.82 Q732.656 1521.07 730.711 1519.33 Q728.79 1517.6 725.688 1517.6 Q723.489 1517.6 721.035 1518.36 Q718.605 1519.13 715.827 1520.68 L715.827 1515.95 Q718.651 1514.82 721.105 1514.24 Q723.559 1513.66 725.596 1513.66 Q730.966 1513.66 734.16 1516.35 Q737.355 1519.03 737.355 1523.52 Q737.355 1525.65 736.545 1527.57 Q735.758 1529.47 733.651 1532.07 Q733.072 1532.74 729.971 1535.95 Q726.869 1539.15 721.221 1544.91 Z\" fill=\"#000000\" fill-rule=\"evenodd\" fill-opacity=\"1\" /><path clip-path=\"url(#clip500)\" d=\"M747.401 1514.29 L765.757 1514.29 L765.757 1518.22 L751.683 1518.22 L751.683 1526.7 Q752.702 1526.35 753.72 1526.19 Q754.739 1526 755.757 1526 Q761.544 1526 764.924 1529.17 Q768.304 1532.34 768.304 1537.76 Q768.304 1543.34 764.831 1546.44 Q761.359 1549.52 755.04 1549.52 Q752.864 1549.52 750.595 1549.15 Q748.35 1548.78 745.943 1548.04 L745.943 1543.34 Q748.026 1544.47 750.248 1545.03 Q752.47 1545.58 754.947 1545.58 Q758.952 1545.58 761.29 1543.48 Q763.628 1541.37 763.628 1537.76 Q763.628 1534.15 761.29 1532.04 Q758.952 1529.94 754.947 1529.94 Q753.072 1529.94 751.197 1530.35 Q749.345 1530.77 747.401 1531.65 L747.401 1514.29 Z\" fill=\"#000000\" fill-rule=\"evenodd\" fill-opacity=\"1\" /><path clip-path=\"url(#clip500)\" d=\"M787.517 1517.37 Q783.905 1517.37 782.077 1520.93 Q780.271 1524.47 780.271 1531.6 Q780.271 1538.71 782.077 1542.27 Q783.905 1545.82 787.517 1545.82 Q791.151 1545.82 792.956 1542.27 Q794.785 1538.71 794.785 1531.6 Q794.785 1524.47 792.956 1520.93 Q791.151 1517.37 787.517 1517.37 M787.517 1513.66 Q793.327 1513.66 796.382 1518.27 Q799.461 1522.85 799.461 1531.6 Q799.461 1540.33 796.382 1544.94 Q793.327 1549.52 787.517 1549.52 Q781.706 1549.52 778.628 1544.94 Q775.572 1540.33 775.572 1531.6 Q775.572 1522.85 778.628 1518.27 Q781.706 1513.66 787.517 1513.66 Z\" fill=\"#000000\" fill-rule=\"evenodd\" fill-opacity=\"1\" /><path clip-path=\"url(#clip500)\" d=\"M1229.13 1514.29 L1247.49 1514.29 L1247.49 1518.22 L1233.42 1518.22 L1233.42 1526.7 Q1234.43 1526.35 1235.45 1526.19 Q1236.47 1526 1237.49 1526 Q1243.28 1526 1246.66 1529.17 Q1250.04 1532.34 1250.04 1537.76 Q1250.04 1543.34 1246.56 1546.44 Q1243.09 1549.52 1236.77 1549.52 Q1234.6 1549.52 1232.33 1549.15 Q1230.08 1548.78 1227.67 1548.04 L1227.67 1543.34 Q1229.76 1544.47 1231.98 1545.03 Q1234.2 1545.58 1236.68 1545.58 Q1240.68 1545.58 1243.02 1543.48 Q1245.36 1541.37 1245.36 1537.76 Q1245.36 1534.15 1243.02 1532.04 Q1240.68 1529.94 1236.68 1529.94 Q1234.8 1529.94 1232.93 1530.35 Q1231.08 1530.77 1229.13 1531.65 L1229.13 1514.29 Z\" fill=\"#000000\" fill-rule=\"evenodd\" fill-opacity=\"1\" /><path clip-path=\"url(#clip500)\" d=\"M1269.25 1517.37 Q1265.64 1517.37 1263.81 1520.93 Q1262 1524.47 1262 1531.6 Q1262 1538.71 1263.81 1542.27 Q1265.64 1545.82 1269.25 1545.82 Q1272.88 1545.82 1274.69 1542.27 Q1276.52 1538.71 1276.52 1531.6 Q1276.52 1524.47 1274.69 1520.93 Q1272.88 1517.37 1269.25 1517.37 M1269.25 1513.66 Q1275.06 1513.66 1278.11 1518.27 Q1281.19 1522.85 1281.19 1531.6 Q1281.19 1540.33 1278.11 1544.94 Q1275.06 1549.52 1269.25 1549.52 Q1263.44 1549.52 1260.36 1544.94 Q1257.3 1540.33 1257.3 1531.6 Q1257.3 1522.85 1260.36 1518.27 Q1263.44 1513.66 1269.25 1513.66 Z\" fill=\"#000000\" fill-rule=\"evenodd\" fill-opacity=\"1\" /><path clip-path=\"url(#clip500)\" d=\"M1299.41 1517.37 Q1295.8 1517.37 1293.97 1520.93 Q1292.17 1524.47 1292.17 1531.6 Q1292.17 1538.71 1293.97 1542.27 Q1295.8 1545.82 1299.41 1545.82 Q1303.04 1545.82 1304.85 1542.27 Q1306.68 1538.71 1306.68 1531.6 Q1306.68 1524.47 1304.85 1520.93 Q1303.04 1517.37 1299.41 1517.37 M1299.41 1513.66 Q1305.22 1513.66 1308.28 1518.27 Q1311.36 1522.85 1311.36 1531.6 Q1311.36 1540.33 1308.28 1544.94 Q1305.22 1549.52 1299.41 1549.52 Q1293.6 1549.52 1290.52 1544.94 Q1287.47 1540.33 1287.47 1531.6 Q1287.47 1522.85 1290.52 1518.27 Q1293.6 1513.66 1299.41 1513.66 Z\" fill=\"#000000\" fill-rule=\"evenodd\" fill-opacity=\"1\" /><path clip-path=\"url(#clip500)\" d=\"M1739.78 1514.29 L1762 1514.29 L1762 1516.28 L1749.45 1548.85 L1744.57 1548.85 L1756.37 1518.22 L1739.78 1518.22 L1739.78 1514.29 Z\" fill=\"#000000\" fill-rule=\"evenodd\" fill-opacity=\"1\" /><path clip-path=\"url(#clip500)\" d=\"M1771.17 1514.29 L1789.52 1514.29 L1789.52 1518.22 L1775.45 1518.22 L1775.45 1526.7 Q1776.47 1526.35 1777.49 1526.19 Q1778.5 1526 1779.52 1526 Q1785.31 1526 1788.69 1529.17 Q1792.07 1532.34 1792.07 1537.76 Q1792.07 1543.34 1788.6 1546.44 Q1785.12 1549.52 1778.8 1549.52 Q1776.63 1549.52 1774.36 1549.15 Q1772.12 1548.78 1769.71 1548.04 L1769.71 1543.34 Q1771.79 1544.47 1774.01 1545.03 Q1776.24 1545.58 1778.71 1545.58 Q1782.72 1545.58 1785.05 1543.48 Q1787.39 1541.37 1787.39 1537.76 Q1787.39 1534.15 1785.05 1532.04 Q1782.72 1529.94 1778.71 1529.94 Q1776.84 1529.94 1774.96 1530.35 Q1773.11 1530.77 1771.17 1531.65 L1771.17 1514.29 Z\" fill=\"#000000\" fill-rule=\"evenodd\" fill-opacity=\"1\" /><path clip-path=\"url(#clip500)\" d=\"M1811.28 1517.37 Q1807.67 1517.37 1805.84 1520.93 Q1804.04 1524.47 1804.04 1531.6 Q1804.04 1538.71 1805.84 1542.27 Q1807.67 1545.82 1811.28 1545.82 Q1814.92 1545.82 1816.72 1542.27 Q1818.55 1538.71 1818.55 1531.6 Q1818.55 1524.47 1816.72 1520.93 Q1814.92 1517.37 1811.28 1517.37 M1811.28 1513.66 Q1817.09 1513.66 1820.15 1518.27 Q1823.23 1522.85 1823.23 1531.6 Q1823.23 1540.33 1820.15 1544.94 Q1817.09 1549.52 1811.28 1549.52 Q1805.47 1549.52 1802.39 1544.94 Q1799.34 1540.33 1799.34 1531.6 Q1799.34 1522.85 1802.39 1518.27 Q1805.47 1513.66 1811.28 1513.66 Z\" fill=\"#000000\" fill-rule=\"evenodd\" fill-opacity=\"1\" /><path clip-path=\"url(#clip500)\" d=\"M2238.01 1544.91 L2245.65 1544.91 L2245.65 1518.55 L2237.34 1520.21 L2237.34 1515.95 L2245.61 1514.29 L2250.28 1514.29 L2250.28 1544.91 L2257.92 1544.91 L2257.92 1548.85 L2238.01 1548.85 L2238.01 1544.91 Z\" fill=\"#000000\" fill-rule=\"evenodd\" fill-opacity=\"1\" /><path clip-path=\"url(#clip500)\" d=\"M2277.37 1517.37 Q2273.75 1517.37 2271.93 1520.93 Q2270.12 1524.47 2270.12 1531.6 Q2270.12 1538.71 2271.93 1542.27 Q2273.75 1545.82 2277.37 1545.82 Q2281 1545.82 2282.81 1542.27 Q2284.63 1538.71 2284.63 1531.6 Q2284.63 1524.47 2282.81 1520.93 Q2281 1517.37 2277.37 1517.37 M2277.37 1513.66 Q2283.18 1513.66 2286.23 1518.27 Q2289.31 1522.85 2289.31 1531.6 Q2289.31 1540.33 2286.23 1544.94 Q2283.18 1549.52 2277.37 1549.52 Q2271.56 1549.52 2268.48 1544.94 Q2265.42 1540.33 2265.42 1531.6 Q2265.42 1522.85 2268.48 1518.27 Q2271.56 1513.66 2277.37 1513.66 Z\" fill=\"#000000\" fill-rule=\"evenodd\" fill-opacity=\"1\" /><path clip-path=\"url(#clip500)\" d=\"M2307.53 1517.37 Q2303.92 1517.37 2302.09 1520.93 Q2300.28 1524.47 2300.28 1531.6 Q2300.28 1538.71 2302.09 1542.27 Q2303.92 1545.82 2307.53 1545.82 Q2311.16 1545.82 2312.97 1542.27 Q2314.8 1538.71 2314.8 1531.6 Q2314.8 1524.47 2312.97 1520.93 Q2311.16 1517.37 2307.53 1517.37 M2307.53 1513.66 Q2313.34 1513.66 2316.39 1518.27 Q2319.47 1522.85 2319.47 1531.6 Q2319.47 1540.33 2316.39 1544.94 Q2313.34 1549.52 2307.53 1549.52 Q2301.72 1549.52 2298.64 1544.94 Q2295.58 1540.33 2295.58 1531.6 Q2295.58 1522.85 2298.64 1518.27 Q2301.72 1513.66 2307.53 1513.66 Z\" fill=\"#000000\" fill-rule=\"evenodd\" fill-opacity=\"1\" /><path clip-path=\"url(#clip500)\" d=\"M2337.69 1517.37 Q2334.08 1517.37 2332.25 1520.93 Q2330.44 1524.47 2330.44 1531.6 Q2330.44 1538.71 2332.25 1542.27 Q2334.08 1545.82 2337.69 1545.82 Q2341.32 1545.82 2343.13 1542.27 Q2344.96 1538.71 2344.96 1531.6 Q2344.96 1524.47 2343.13 1520.93 Q2341.32 1517.37 2337.69 1517.37 M2337.69 1513.66 Q2343.5 1513.66 2346.56 1518.27 Q2349.63 1522.85 2349.63 1531.6 Q2349.63 1540.33 2346.56 1544.94 Q2343.5 1549.52 2337.69 1549.52 Q2331.88 1549.52 2328.8 1544.94 Q2325.75 1540.33 2325.75 1531.6 Q2325.75 1522.85 2328.8 1518.27 Q2331.88 1513.66 2337.69 1513.66 Z\" fill=\"#000000\" fill-rule=\"evenodd\" fill-opacity=\"1\" /><polyline clip-path=\"url(#clip502)\" style=\"stroke:#000000; stroke-linecap:round; stroke-linejoin:round; stroke-width:2; stroke-opacity:0.1; fill:none\" points=\"\n",
       "  186.274,1445.78 2352.76,1445.78 \n",
       "  \"/>\n",
       "<polyline clip-path=\"url(#clip502)\" style=\"stroke:#000000; stroke-linecap:round; stroke-linejoin:round; stroke-width:2; stroke-opacity:0.1; fill:none\" points=\"\n",
       "  186.274,1106.33 2352.76,1106.33 \n",
       "  \"/>\n",
       "<polyline clip-path=\"url(#clip502)\" style=\"stroke:#000000; stroke-linecap:round; stroke-linejoin:round; stroke-width:2; stroke-opacity:0.1; fill:none\" points=\"\n",
       "  186.274,766.879 2352.76,766.879 \n",
       "  \"/>\n",
       "<polyline clip-path=\"url(#clip502)\" style=\"stroke:#000000; stroke-linecap:round; stroke-linejoin:round; stroke-width:2; stroke-opacity:0.1; fill:none\" points=\"\n",
       "  186.274,427.428 2352.76,427.428 \n",
       "  \"/>\n",
       "<polyline clip-path=\"url(#clip502)\" style=\"stroke:#000000; stroke-linecap:round; stroke-linejoin:round; stroke-width:2; stroke-opacity:0.1; fill:none\" points=\"\n",
       "  186.274,87.9763 2352.76,87.9763 \n",
       "  \"/>\n",
       "<polyline clip-path=\"url(#clip500)\" style=\"stroke:#000000; stroke-linecap:round; stroke-linejoin:round; stroke-width:4; stroke-opacity:1; fill:none\" points=\"\n",
       "  186.274,1486.45 186.274,47.2441 \n",
       "  \"/>\n",
       "<polyline clip-path=\"url(#clip500)\" style=\"stroke:#000000; stroke-linecap:round; stroke-linejoin:round; stroke-width:4; stroke-opacity:1; fill:none\" points=\"\n",
       "  186.274,1445.78 205.172,1445.78 \n",
       "  \"/>\n",
       "<polyline clip-path=\"url(#clip500)\" style=\"stroke:#000000; stroke-linecap:round; stroke-linejoin:round; stroke-width:4; stroke-opacity:1; fill:none\" points=\"\n",
       "  186.274,1106.33 205.172,1106.33 \n",
       "  \"/>\n",
       "<polyline clip-path=\"url(#clip500)\" style=\"stroke:#000000; stroke-linecap:round; stroke-linejoin:round; stroke-width:4; stroke-opacity:1; fill:none\" points=\"\n",
       "  186.274,766.879 205.172,766.879 \n",
       "  \"/>\n",
       "<polyline clip-path=\"url(#clip500)\" style=\"stroke:#000000; stroke-linecap:round; stroke-linejoin:round; stroke-width:4; stroke-opacity:1; fill:none\" points=\"\n",
       "  186.274,427.428 205.172,427.428 \n",
       "  \"/>\n",
       "<polyline clip-path=\"url(#clip500)\" style=\"stroke:#000000; stroke-linecap:round; stroke-linejoin:round; stroke-width:4; stroke-opacity:1; fill:none\" points=\"\n",
       "  186.274,87.9763 205.172,87.9763 \n",
       "  \"/>\n",
       "<path clip-path=\"url(#clip500)\" d=\"M62.9365 1431.58 Q59.3254 1431.58 57.4967 1435.15 Q55.6912 1438.69 55.6912 1445.82 Q55.6912 1452.92 57.4967 1456.49 Q59.3254 1460.03 62.9365 1460.03 Q66.5707 1460.03 68.3763 1456.49 Q70.205 1452.92 70.205 1445.82 Q70.205 1438.69 68.3763 1435.15 Q66.5707 1431.58 62.9365 1431.58 M62.9365 1427.88 Q68.7467 1427.88 71.8022 1432.48 Q74.8809 1437.07 74.8809 1445.82 Q74.8809 1454.54 71.8022 1459.15 Q68.7467 1463.73 62.9365 1463.73 Q57.1264 1463.73 54.0477 1459.15 Q50.9921 1454.54 50.9921 1445.82 Q50.9921 1437.07 54.0477 1432.48 Q57.1264 1427.88 62.9365 1427.88 Z\" fill=\"#000000\" fill-rule=\"evenodd\" fill-opacity=\"1\" /><path clip-path=\"url(#clip500)\" d=\"M83.0984 1457.18 L87.9827 1457.18 L87.9827 1463.06 L83.0984 1463.06 L83.0984 1457.18 Z\" fill=\"#000000\" fill-rule=\"evenodd\" fill-opacity=\"1\" /><path clip-path=\"url(#clip500)\" d=\"M108.168 1431.58 Q104.557 1431.58 102.728 1435.15 Q100.922 1438.69 100.922 1445.82 Q100.922 1452.92 102.728 1456.49 Q104.557 1460.03 108.168 1460.03 Q111.802 1460.03 113.608 1456.49 Q115.436 1452.92 115.436 1445.82 Q115.436 1438.69 113.608 1435.15 Q111.802 1431.58 108.168 1431.58 M108.168 1427.88 Q113.978 1427.88 117.033 1432.48 Q120.112 1437.07 120.112 1445.82 Q120.112 1454.54 117.033 1459.15 Q113.978 1463.73 108.168 1463.73 Q102.358 1463.73 99.2789 1459.15 Q96.2234 1454.54 96.2234 1445.82 Q96.2234 1437.07 99.2789 1432.48 Q102.358 1427.88 108.168 1427.88 Z\" fill=\"#000000\" fill-rule=\"evenodd\" fill-opacity=\"1\" /><path clip-path=\"url(#clip500)\" d=\"M138.33 1431.58 Q134.719 1431.58 132.89 1435.15 Q131.084 1438.69 131.084 1445.82 Q131.084 1452.92 132.89 1456.49 Q134.719 1460.03 138.33 1460.03 Q141.964 1460.03 143.769 1456.49 Q145.598 1452.92 145.598 1445.82 Q145.598 1438.69 143.769 1435.15 Q141.964 1431.58 138.33 1431.58 M138.33 1427.88 Q144.14 1427.88 147.195 1432.48 Q150.274 1437.07 150.274 1445.82 Q150.274 1454.54 147.195 1459.15 Q144.14 1463.73 138.33 1463.73 Q132.519 1463.73 129.441 1459.15 Q126.385 1454.54 126.385 1445.82 Q126.385 1437.07 129.441 1432.48 Q132.519 1427.88 138.33 1427.88 Z\" fill=\"#000000\" fill-rule=\"evenodd\" fill-opacity=\"1\" /><path clip-path=\"url(#clip500)\" d=\"M63.9319 1092.13 Q60.3208 1092.13 58.4921 1095.69 Q56.6865 1099.24 56.6865 1106.37 Q56.6865 1113.47 58.4921 1117.04 Q60.3208 1120.58 63.9319 1120.58 Q67.5661 1120.58 69.3717 1117.04 Q71.2004 1113.47 71.2004 1106.37 Q71.2004 1099.24 69.3717 1095.69 Q67.5661 1092.13 63.9319 1092.13 M63.9319 1088.43 Q69.742 1088.43 72.7976 1093.03 Q75.8763 1097.62 75.8763 1106.37 Q75.8763 1115.09 72.7976 1119.7 Q69.742 1124.28 63.9319 1124.28 Q58.1217 1124.28 55.043 1119.7 Q51.9875 1115.09 51.9875 1106.37 Q51.9875 1097.62 55.043 1093.03 Q58.1217 1088.43 63.9319 1088.43 Z\" fill=\"#000000\" fill-rule=\"evenodd\" fill-opacity=\"1\" /><path clip-path=\"url(#clip500)\" d=\"M84.0938 1117.73 L88.978 1117.73 L88.978 1123.61 L84.0938 1123.61 L84.0938 1117.73 Z\" fill=\"#000000\" fill-rule=\"evenodd\" fill-opacity=\"1\" /><path clip-path=\"url(#clip500)\" d=\"M103.191 1119.68 L119.51 1119.68 L119.51 1123.61 L97.566 1123.61 L97.566 1119.68 Q100.228 1116.92 104.811 1112.29 Q109.418 1107.64 110.598 1106.3 Q112.844 1103.77 113.723 1102.04 Q114.626 1100.28 114.626 1098.59 Q114.626 1095.83 112.682 1094.1 Q110.76 1092.36 107.658 1092.36 Q105.459 1092.36 103.006 1093.12 Q100.575 1093.89 97.7974 1095.44 L97.7974 1090.72 Q100.621 1089.58 103.075 1089 Q105.529 1088.43 107.566 1088.43 Q112.936 1088.43 116.131 1091.11 Q119.325 1093.8 119.325 1098.29 Q119.325 1100.42 118.515 1102.34 Q117.728 1104.24 115.621 1106.83 Q115.043 1107.5 111.941 1110.72 Q108.839 1113.91 103.191 1119.68 Z\" fill=\"#000000\" fill-rule=\"evenodd\" fill-opacity=\"1\" /><path clip-path=\"url(#clip500)\" d=\"M129.371 1089.05 L147.728 1089.05 L147.728 1092.99 L133.654 1092.99 L133.654 1101.46 Q134.672 1101.11 135.691 1100.95 Q136.709 1100.76 137.728 1100.76 Q143.515 1100.76 146.894 1103.94 Q150.274 1107.11 150.274 1112.52 Q150.274 1118.1 146.802 1121.2 Q143.33 1124.28 137.01 1124.28 Q134.834 1124.28 132.566 1123.91 Q130.32 1123.54 127.913 1122.8 L127.913 1118.1 Q129.996 1119.24 132.219 1119.79 Q134.441 1120.35 136.918 1120.35 Q140.922 1120.35 143.26 1118.24 Q145.598 1116.13 145.598 1112.52 Q145.598 1108.91 143.26 1106.81 Q140.922 1104.7 136.918 1104.7 Q135.043 1104.7 133.168 1105.12 Q131.316 1105.53 129.371 1106.41 L129.371 1089.05 Z\" fill=\"#000000\" fill-rule=\"evenodd\" fill-opacity=\"1\" /><path clip-path=\"url(#clip500)\" d=\"M62.9365 752.678 Q59.3254 752.678 57.4967 756.243 Q55.6912 759.784 55.6912 766.914 Q55.6912 774.021 57.4967 777.585 Q59.3254 781.127 62.9365 781.127 Q66.5707 781.127 68.3763 777.585 Q70.205 774.021 70.205 766.914 Q70.205 759.784 68.3763 756.243 Q66.5707 752.678 62.9365 752.678 M62.9365 748.974 Q68.7467 748.974 71.8022 753.581 Q74.8809 758.164 74.8809 766.914 Q74.8809 775.641 71.8022 780.247 Q68.7467 784.831 62.9365 784.831 Q57.1264 784.831 54.0477 780.247 Q50.9921 775.641 50.9921 766.914 Q50.9921 758.164 54.0477 753.581 Q57.1264 748.974 62.9365 748.974 Z\" fill=\"#000000\" fill-rule=\"evenodd\" fill-opacity=\"1\" /><path clip-path=\"url(#clip500)\" d=\"M83.0984 778.28 L87.9827 778.28 L87.9827 784.159 L83.0984 784.159 L83.0984 778.28 Z\" fill=\"#000000\" fill-rule=\"evenodd\" fill-opacity=\"1\" /><path clip-path=\"url(#clip500)\" d=\"M98.2141 749.599 L116.57 749.599 L116.57 753.535 L102.496 753.535 L102.496 762.007 Q103.515 761.659 104.534 761.497 Q105.552 761.312 106.571 761.312 Q112.358 761.312 115.737 764.484 Q119.117 767.655 119.117 773.071 Q119.117 778.65 115.645 781.752 Q112.172 784.831 105.853 784.831 Q103.677 784.831 101.409 784.46 Q99.1632 784.09 96.7558 783.349 L96.7558 778.65 Q98.8391 779.784 101.061 780.34 Q103.284 780.895 105.76 780.895 Q109.765 780.895 112.103 778.789 Q114.441 776.683 114.441 773.071 Q114.441 769.46 112.103 767.354 Q109.765 765.247 105.76 765.247 Q103.885 765.247 102.01 765.664 Q100.159 766.081 98.2141 766.96 L98.2141 749.599 Z\" fill=\"#000000\" fill-rule=\"evenodd\" fill-opacity=\"1\" /><path clip-path=\"url(#clip500)\" d=\"M138.33 752.678 Q134.719 752.678 132.89 756.243 Q131.084 759.784 131.084 766.914 Q131.084 774.021 132.89 777.585 Q134.719 781.127 138.33 781.127 Q141.964 781.127 143.769 777.585 Q145.598 774.021 145.598 766.914 Q145.598 759.784 143.769 756.243 Q141.964 752.678 138.33 752.678 M138.33 748.974 Q144.14 748.974 147.195 753.581 Q150.274 758.164 150.274 766.914 Q150.274 775.641 147.195 780.247 Q144.14 784.831 138.33 784.831 Q132.519 784.831 129.441 780.247 Q126.385 775.641 126.385 766.914 Q126.385 758.164 129.441 753.581 Q132.519 748.974 138.33 748.974 Z\" fill=\"#000000\" fill-rule=\"evenodd\" fill-opacity=\"1\" /><path clip-path=\"url(#clip500)\" d=\"M63.9319 413.227 Q60.3208 413.227 58.4921 416.791 Q56.6865 420.333 56.6865 427.463 Q56.6865 434.569 58.4921 438.134 Q60.3208 441.675 63.9319 441.675 Q67.5661 441.675 69.3717 438.134 Q71.2004 434.569 71.2004 427.463 Q71.2004 420.333 69.3717 416.791 Q67.5661 413.227 63.9319 413.227 M63.9319 409.523 Q69.742 409.523 72.7976 414.129 Q75.8763 418.713 75.8763 427.463 Q75.8763 436.189 72.7976 440.796 Q69.742 445.379 63.9319 445.379 Q58.1217 445.379 55.043 440.796 Q51.9875 436.189 51.9875 427.463 Q51.9875 418.713 55.043 414.129 Q58.1217 409.523 63.9319 409.523 Z\" fill=\"#000000\" fill-rule=\"evenodd\" fill-opacity=\"1\" /><path clip-path=\"url(#clip500)\" d=\"M84.0938 438.828 L88.978 438.828 L88.978 444.708 L84.0938 444.708 L84.0938 438.828 Z\" fill=\"#000000\" fill-rule=\"evenodd\" fill-opacity=\"1\" /><path clip-path=\"url(#clip500)\" d=\"M97.9826 410.148 L120.205 410.148 L120.205 412.139 L107.658 444.708 L102.774 444.708 L114.58 414.083 L97.9826 414.083 L97.9826 410.148 Z\" fill=\"#000000\" fill-rule=\"evenodd\" fill-opacity=\"1\" /><path clip-path=\"url(#clip500)\" d=\"M129.371 410.148 L147.728 410.148 L147.728 414.083 L133.654 414.083 L133.654 422.555 Q134.672 422.208 135.691 422.046 Q136.709 421.861 137.728 421.861 Q143.515 421.861 146.894 425.032 Q150.274 428.203 150.274 433.62 Q150.274 439.199 146.802 442.3 Q143.33 445.379 137.01 445.379 Q134.834 445.379 132.566 445.009 Q130.32 444.638 127.913 443.898 L127.913 439.199 Q129.996 440.333 132.219 440.888 Q134.441 441.444 136.918 441.444 Q140.922 441.444 143.26 439.337 Q145.598 437.231 145.598 433.62 Q145.598 430.009 143.26 427.902 Q140.922 425.796 136.918 425.796 Q135.043 425.796 133.168 426.213 Q131.316 426.629 129.371 427.509 L129.371 410.148 Z\" fill=\"#000000\" fill-rule=\"evenodd\" fill-opacity=\"1\" /><path clip-path=\"url(#clip500)\" d=\"M53.7467 101.321 L61.3856 101.321 L61.3856 74.9555 L53.0754 76.6222 L53.0754 72.3629 L61.3393 70.6963 L66.0152 70.6963 L66.0152 101.321 L73.654 101.321 L73.654 105.256 L53.7467 105.256 L53.7467 101.321 Z\" fill=\"#000000\" fill-rule=\"evenodd\" fill-opacity=\"1\" /><path clip-path=\"url(#clip500)\" d=\"M83.0984 99.3767 L87.9827 99.3767 L87.9827 105.256 L83.0984 105.256 L83.0984 99.3767 Z\" fill=\"#000000\" fill-rule=\"evenodd\" fill-opacity=\"1\" /><path clip-path=\"url(#clip500)\" d=\"M108.168 73.775 Q104.557 73.775 102.728 77.3398 Q100.922 80.8814 100.922 88.011 Q100.922 95.1174 102.728 98.6822 Q104.557 102.224 108.168 102.224 Q111.802 102.224 113.608 98.6822 Q115.436 95.1174 115.436 88.011 Q115.436 80.8814 113.608 77.3398 Q111.802 73.775 108.168 73.775 M108.168 70.0713 Q113.978 70.0713 117.033 74.6777 Q120.112 79.261 120.112 88.011 Q120.112 96.7378 117.033 101.344 Q113.978 105.928 108.168 105.928 Q102.358 105.928 99.2789 101.344 Q96.2234 96.7378 96.2234 88.011 Q96.2234 79.261 99.2789 74.6777 Q102.358 70.0713 108.168 70.0713 Z\" fill=\"#000000\" fill-rule=\"evenodd\" fill-opacity=\"1\" /><path clip-path=\"url(#clip500)\" d=\"M138.33 73.775 Q134.719 73.775 132.89 77.3398 Q131.084 80.8814 131.084 88.011 Q131.084 95.1174 132.89 98.6822 Q134.719 102.224 138.33 102.224 Q141.964 102.224 143.769 98.6822 Q145.598 95.1174 145.598 88.011 Q145.598 80.8814 143.769 77.3398 Q141.964 73.775 138.33 73.775 M138.33 70.0713 Q144.14 70.0713 147.195 74.6777 Q150.274 79.261 150.274 88.011 Q150.274 96.7378 147.195 101.344 Q144.14 105.928 138.33 105.928 Q132.519 105.928 129.441 101.344 Q126.385 96.7378 126.385 88.011 Q126.385 79.261 129.441 74.6777 Q132.519 70.0713 138.33 70.0713 Z\" fill=\"#000000\" fill-rule=\"evenodd\" fill-opacity=\"1\" /><polyline clip-path=\"url(#clip502)\" style=\"stroke:#009af9; stroke-linecap:round; stroke-linejoin:round; stroke-width:4; stroke-opacity:1; fill:none\" points=\"\n",
       "  247.59,87.9763 249.637,102.702 251.685,116.865 253.733,130.499 255.781,143.634 257.829,156.299 259.877,168.52 261.925,180.321 263.973,191.724 266.021,202.75 \n",
       "  268.069,213.418 270.117,223.746 272.165,233.751 274.213,243.448 276.261,252.852 278.309,261.976 280.357,270.833 282.405,279.435 284.453,287.793 286.501,295.917 \n",
       "  288.548,303.818 290.596,311.505 292.644,318.987 294.692,326.271 296.74,333.367 298.788,340.28 300.836,347.018 302.884,353.589 304.932,359.997 306.98,366.249 \n",
       "  309.028,372.351 311.076,378.309 313.124,384.126 315.172,389.808 317.22,395.36 319.268,400.786 321.316,406.091 323.364,411.278 325.412,416.35 327.459,421.313 \n",
       "  329.507,426.169 331.555,430.922 333.603,435.574 335.651,440.129 337.699,444.59 339.747,448.96 341.795,453.241 343.843,457.436 345.891,461.547 347.939,465.577 \n",
       "  349.987,469.528 352.035,473.402 354.083,477.202 356.131,480.929 358.179,484.585 360.227,488.173 362.275,491.694 364.322,495.149 366.37,498.541 368.418,501.871 \n",
       "  370.466,505.141 372.514,508.351 374.562,511.505 376.61,514.602 378.658,517.645 380.706,520.634 382.754,523.572 384.802,526.459 386.85,529.296 388.898,532.084 \n",
       "  390.946,534.825 392.994,537.52 395.042,540.17 397.09,542.776 399.138,545.338 401.186,547.858 403.233,550.336 405.281,552.774 407.329,555.173 409.377,557.532 \n",
       "  411.425,559.854 413.473,562.138 415.521,564.386 417.569,566.598 419.617,568.776 421.665,570.919 423.713,573.028 425.761,575.105 427.809,577.149 429.857,579.162 \n",
       "  431.905,581.143 433.953,583.095 436.001,585.016 438.049,586.908 440.097,588.771 442.144,590.606 444.192,592.414 446.24,594.194 448.288,595.948 450.336,597.675 \n",
       "  452.384,599.376 454.432,601.053 456.48,602.704 458.528,604.331 460.576,605.934 462.624,607.513 464.672,609.07 466.72,610.603 468.768,612.114 470.816,613.603 \n",
       "  472.864,615.07 474.912,616.516 476.96,617.941 479.008,619.346 481.055,620.73 483.103,622.094 485.151,623.439 487.199,624.764 489.247,626.07 491.295,627.358 \n",
       "  493.343,628.627 495.391,629.878 497.439,631.111 499.487,632.326 501.535,633.524 503.583,634.705 505.631,635.869 507.679,637.017 509.727,638.148 511.775,639.263 \n",
       "  513.823,640.362 515.871,641.446 517.918,642.514 519.966,643.567 522.014,644.605 524.062,645.628 526.11,646.637 528.158,647.631 530.206,648.611 532.254,649.577 \n",
       "  534.302,650.53 536.35,651.468 538.398,652.394 540.446,653.306 542.494,654.205 544.542,655.091 546.59,655.965 548.638,656.826 550.686,657.674 552.734,658.511 \n",
       "  554.782,659.335 556.829,660.147 558.877,660.948 560.925,661.737 562.973,662.514 565.021,663.281 567.069,664.036 569.117,664.78 571.165,665.513 573.213,666.235 \n",
       "  575.261,666.946 577.309,667.648 579.357,668.338 581.405,669.019 583.453,669.689 585.501,670.349 587.549,671 589.597,671.64 591.645,672.271 593.693,672.892 \n",
       "  595.74,673.504 597.788,674.106 599.836,674.7 601.884,675.284 603.932,675.859 605.98,676.425 608.028,676.982 610.076,677.531 612.124,678.071 614.172,678.602 \n",
       "  616.22,679.125 618.268,679.639 620.316,680.145 622.364,680.644 624.412,681.133 626.46,681.615 628.508,682.089 630.556,682.555 632.604,683.014 634.651,683.465 \n",
       "  636.699,683.908 638.747,684.343 640.795,684.771 642.843,685.192 644.891,685.605 646.939,686.012 648.987,686.411 651.035,686.803 653.083,687.188 655.131,687.566 \n",
       "  657.179,687.937 659.227,688.301 661.275,688.659 663.323,689.01 665.371,689.354 667.419,689.692 669.467,690.023 671.515,690.348 673.562,690.667 675.61,690.979 \n",
       "  677.658,691.285 679.706,691.585 681.754,691.879 683.802,692.166 685.85,692.448 687.898,692.724 689.946,692.993 691.994,693.257 694.042,693.515 696.09,693.768 \n",
       "  698.138,694.015 700.186,694.256 702.234,694.491 704.282,694.721 706.33,694.946 708.378,695.165 710.425,695.378 712.473,695.587 714.521,695.79 716.569,695.987 \n",
       "  718.617,696.18 720.665,696.367 722.713,696.55 724.761,696.727 726.809,696.899 728.857,697.066 730.905,697.228 732.953,697.386 735.001,697.538 737.049,697.686 \n",
       "  739.097,697.829 741.145,697.967 743.193,698.101 745.241,698.229 747.289,698.354 749.336,698.473 751.384,698.588 753.432,698.699 755.48,698.805 757.528,698.906 \n",
       "  759.576,699.004 761.624,699.096 763.672,699.185 765.72,699.269 767.768,699.349 769.816,699.425 771.864,699.497 773.912,699.564 775.96,699.627 778.008,699.686 \n",
       "  780.056,699.741 782.104,699.793 784.152,699.84 786.2,699.883 788.247,699.922 790.295,699.957 792.343,699.989 794.391,700.016 796.439,700.04 798.487,700.06 \n",
       "  800.535,700.076 802.583,700.088 804.631,700.097 806.679,700.102 808.727,700.103 810.775,700.101 812.823,700.095 814.871,700.086 816.919,700.073 818.967,700.057 \n",
       "  821.015,700.037 823.063,700.013 825.111,699.987 827.158,699.956 829.206,699.923 831.254,699.886 833.302,699.846 835.35,699.802 837.398,699.755 839.446,699.705 \n",
       "  841.494,699.652 843.542,699.595 845.59,699.535 847.638,699.472 849.686,699.406 851.734,699.337 853.782,699.265 855.83,699.189 857.878,699.111 859.926,699.029 \n",
       "  861.974,698.945 864.021,698.857 866.069,698.767 868.117,698.673 870.165,698.577 872.213,698.478 874.261,698.376 876.309,698.271 878.357,698.163 880.405,698.052 \n",
       "  882.453,697.939 884.501,697.823 886.549,697.704 888.597,697.582 890.645,697.458 892.693,697.331 894.741,697.201 896.789,697.069 898.837,696.934 900.885,696.796 \n",
       "  902.932,696.656 904.98,696.513 907.028,696.367 909.076,696.219 911.124,696.069 913.172,695.916 915.22,695.76 917.268,695.602 919.316,695.442 921.364,695.279 \n",
       "  923.412,695.114 925.46,694.946 927.508,694.776 929.556,694.604 931.604,694.429 933.652,694.252 935.7,694.072 937.748,693.891 939.796,693.707 941.843,693.52 \n",
       "  943.891,693.332 945.939,693.141 947.987,692.948 950.035,692.753 952.083,692.556 954.131,692.356 956.179,692.155 958.227,691.951 960.275,691.745 962.323,691.537 \n",
       "  964.371,691.327 966.419,691.115 968.467,690.901 970.515,690.685 972.563,690.466 974.611,690.246 976.659,690.024 978.707,689.8 980.754,689.574 982.802,689.346 \n",
       "  984.85,689.116 986.898,688.884 988.946,688.65 990.994,688.414 993.042,688.177 995.09,687.938 997.138,687.696 999.186,687.453 1001.23,687.209 1003.28,686.962 \n",
       "  1005.33,686.714 1007.38,686.464 1009.43,686.212 1011.47,685.958 1013.52,685.703 1015.57,685.446 1017.62,685.187 1019.67,684.927 1021.71,684.665 1023.76,684.401 \n",
       "  1025.81,684.136 1027.86,683.869 1029.91,683.601 1031.95,683.331 1034,683.059 1036.05,682.786 1038.1,682.511 1040.14,682.235 1042.19,681.957 1044.24,681.678 \n",
       "  1046.29,681.398 1048.34,681.115 1050.38,680.832 1052.43,680.547 1054.48,680.26 1056.53,679.973 1058.58,679.683 1060.62,679.393 1062.67,679.101 1064.72,678.808 \n",
       "  1066.77,678.513 1068.82,678.217 1070.86,677.92 1072.91,677.621 1074.96,677.321 1077.01,677.02 1079.06,676.718 1081.1,676.414 1083.15,676.11 1085.2,675.804 \n",
       "  1087.25,675.496 1089.3,675.188 1091.34,674.879 1093.39,674.568 1095.44,674.256 1097.49,673.943 1099.54,673.629 1101.58,673.314 1103.63,672.998 1105.68,672.681 \n",
       "  1107.73,672.362 1109.78,672.043 1111.82,671.723 1113.87,671.401 1115.92,671.079 1117.97,670.756 1120.01,670.431 1122.06,670.106 1124.11,669.78 1126.16,669.453 \n",
       "  1128.21,669.125 1130.25,668.796 1132.3,668.466 1134.35,668.136 1136.4,667.804 1138.45,667.472 1140.49,667.139 1142.54,666.805 1144.59,666.471 1146.64,666.135 \n",
       "  1148.69,665.799 1150.73,665.462 1152.78,665.125 1154.83,664.786 1156.88,664.447 1158.93,664.107 1160.97,663.767 1163.02,663.426 1165.07,663.084 1167.12,662.742 \n",
       "  1169.17,662.399 1171.21,662.056 1173.26,661.712 1175.31,661.367 1177.36,661.022 1179.41,660.676 1181.45,660.33 1183.5,659.983 1185.55,659.636 1187.6,659.289 \n",
       "  1189.65,658.941 1191.69,658.592 1193.74,658.243 1195.79,657.894 1197.84,657.544 1199.88,657.194 1201.93,656.844 1203.98,656.493 1206.03,656.142 1208.08,655.79 \n",
       "  1210.12,655.439 1212.17,655.087 1214.22,654.735 1216.27,654.382 1218.32,654.029 1220.36,653.677 1222.41,653.323 1224.46,652.97 1226.51,652.617 1228.56,652.263 \n",
       "  1230.6,651.91 1232.65,651.556 1234.7,651.202 1236.75,650.848 1238.8,650.494 1240.84,650.14 1242.89,649.786 1244.94,649.432 1246.99,649.078 1249.04,648.724 \n",
       "  1251.08,648.37 1253.13,648.016 1255.18,647.662 1257.23,647.308 1259.28,646.955 1261.32,646.601 1263.37,646.248 1265.42,645.895 1267.47,645.542 1269.51,645.189 \n",
       "  1271.56,644.837 1273.61,644.485 1275.66,644.133 1277.71,643.781 1279.75,643.429 1281.8,643.078 1283.85,642.728 1285.9,642.377 1287.95,642.027 1289.99,641.678 \n",
       "  1292.04,641.328 1294.09,640.98 1296.14,640.631 1298.19,640.284 1300.23,639.936 1302.28,639.59 1304.33,639.243 1306.38,638.898 1308.43,638.552 1310.47,638.208 \n",
       "  1312.52,637.864 1314.57,637.521 1316.62,637.178 1318.67,636.836 1320.71,636.495 1322.76,636.154 1324.81,635.814 1326.86,635.475 1328.91,635.137 1330.95,634.8 \n",
       "  1333,634.463 1335.05,634.127 1337.1,633.792 1339.15,633.458 1341.19,633.125 1343.24,632.793 1345.29,632.462 1347.34,632.131 1349.38,631.802 1351.43,631.474 \n",
       "  1353.48,631.147 1355.53,630.82 1357.58,630.495 1359.62,630.171 1361.67,629.849 1363.72,629.527 1365.77,629.206 1367.82,628.887 1369.86,628.569 1371.91,628.252 \n",
       "  1373.96,627.937 1376.01,627.622 1378.06,627.31 1380.1,626.998 1382.15,626.688 1384.2,626.379 1386.25,626.072 1388.3,625.766 1390.34,625.461 1392.39,625.158 \n",
       "  1394.44,624.857 1396.49,624.557 1398.54,624.259 1400.58,623.962 1402.63,623.667 1404.68,623.373 1406.73,623.081 1408.78,622.791 1410.82,622.503 1412.87,622.216 \n",
       "  1414.92,621.931 1416.97,621.648 1419.02,621.367 1421.06,621.088 1423.11,620.81 1425.16,620.535 1427.21,620.261 1429.25,619.99 1431.3,619.72 1433.35,619.452 \n",
       "  1435.4,619.187 1437.45,618.923 1439.49,618.662 1441.54,618.403 1443.59,618.146 1445.64,617.891 1447.69,617.638 1449.73,617.388 1451.78,617.14 1453.83,616.894 \n",
       "  1455.88,616.65 1457.93,616.409 1459.97,616.171 1462.02,615.934 1464.07,615.701 1466.12,615.469 1468.17,615.241 1470.21,615.014 1472.26,614.791 1474.31,614.57 \n",
       "  1476.36,614.351 1478.41,614.136 1480.45,613.923 1482.5,613.713 1484.55,613.505 1486.6,613.301 1488.65,613.099 1490.69,612.9 1492.74,612.704 1494.79,612.511 \n",
       "  1496.84,612.321 1498.88,612.134 1500.93,611.95 1502.98,611.769 1505.03,611.591 1507.08,611.416 1509.12,611.245 1511.17,611.077 1513.22,610.912 1515.27,610.75 \n",
       "  1517.32,610.592 1519.36,610.437 1521.41,610.285 1523.46,610.137 1525.51,609.992 1527.56,609.851 1529.6,609.713 1531.65,609.579 1533.7,609.448 1535.75,609.322 \n",
       "  1537.8,609.198 1539.84,609.079 1541.89,608.963 1543.94,608.851 1545.99,608.743 1548.04,608.639 1550.08,608.539 1552.13,608.443 1554.18,608.351 1556.23,608.262 \n",
       "  1558.28,608.178 1560.32,608.098 1562.37,608.022 1564.42,607.951 1566.47,607.883 1568.52,607.82 1570.56,607.761 1572.61,607.707 1574.66,607.657 1576.71,607.611 \n",
       "  1578.75,607.57 1580.8,607.533 1582.85,607.501 1584.9,607.474 1586.95,607.451 1588.99,607.433 1591.04,607.42 1593.09,607.411 1595.14,607.407 1597.19,607.409 \n",
       "  1599.23,607.415 1601.28,607.426 1603.33,607.442 1605.38,607.463 1607.43,607.489 1609.47,607.521 1611.52,607.557 1613.57,607.599 1615.62,607.646 1617.67,607.699 \n",
       "  1619.71,607.756 1621.76,607.82 1623.81,607.888 1625.86,607.963 1627.91,608.042 1629.95,608.128 1632,608.219 1634.05,608.316 1636.1,608.418 1638.15,608.527 \n",
       "  1640.19,608.641 1642.24,608.761 1644.29,608.887 1646.34,609.02 1648.39,609.158 1650.43,609.302 1652.48,609.453 1654.53,609.61 1656.58,609.773 1658.62,609.942 \n",
       "  1660.67,610.118 1662.72,610.3 1664.77,610.488 1666.82,610.684 1668.86,610.885 1670.91,611.094 1672.96,611.309 1675.01,611.531 1677.06,611.759 1679.1,611.995 \n",
       "  1681.15,612.237 1683.2,612.487 1685.25,612.743 1687.3,613.006 1689.34,613.277 1691.39,613.555 1693.44,613.84 1695.49,614.132 1697.54,614.432 1699.58,614.739 \n",
       "  1701.63,615.054 1703.68,615.376 1705.73,615.706 1707.78,616.043 1709.82,616.388 1711.87,616.741 1713.92,617.102 1715.97,617.471 1718.02,617.847 1720.06,618.232 \n",
       "  1722.11,618.625 1724.16,619.026 1726.21,619.435 1728.26,619.852 1730.3,620.277 1732.35,620.711 1734.4,621.154 1736.45,621.605 1738.49,622.064 1740.54,622.532 \n",
       "  1742.59,623.009 1744.64,623.495 1746.69,623.989 1748.73,624.493 1750.78,625.005 1752.83,625.526 1754.88,626.057 1756.93,626.596 1758.97,627.145 1761.02,627.703 \n",
       "  1763.07,628.27 1765.12,628.847 1767.17,629.434 1769.21,630.029 1771.26,630.635 1773.31,631.25 1775.36,631.875 1777.41,632.51 1779.45,633.154 1781.5,633.809 \n",
       "  1783.55,634.474 1785.6,635.148 1787.65,635.833 1789.69,636.528 1791.74,637.234 1793.79,637.95 1795.84,638.676 1797.89,639.413 1799.93,640.16 1801.98,640.918 \n",
       "  1804.03,641.687 1806.08,642.467 1808.12,643.257 1810.17,644.059 1812.22,644.871 1814.27,645.695 1816.32,646.53 1818.36,647.376 1820.41,648.233 1822.46,649.102 \n",
       "  1824.51,649.982 1826.56,650.874 1828.6,651.778 1830.65,652.693 1832.7,653.62 1834.75,654.559 1836.8,655.51 1838.84,656.472 1840.89,657.447 1842.94,658.434 \n",
       "  1844.99,659.434 1847.04,660.445 1849.08,661.469 1851.13,662.506 1853.18,663.555 1855.23,664.617 1857.28,665.691 1859.32,666.779 1861.37,667.879 1863.42,668.992 \n",
       "  1865.47,670.118 1867.52,671.257 1869.56,672.41 1871.61,673.576 1873.66,674.755 1875.71,675.947 1877.76,677.153 1879.8,678.373 1881.85,679.607 1883.9,680.854 \n",
       "  1885.95,682.115 1887.99,683.39 1890.04,684.679 1892.09,685.982 1894.14,687.3 1896.19,688.631 1898.23,689.977 1900.28,691.338 1902.33,692.713 1904.38,694.103 \n",
       "  1906.43,695.507 1908.47,696.926 1910.52,698.36 1912.57,699.809 1914.62,701.274 1916.67,702.753 1918.71,704.247 1920.76,705.757 1922.81,707.282 1924.86,708.823 \n",
       "  1926.91,710.379 1928.95,711.952 1931,713.539 1933.05,715.143 1935.1,716.763 1937.15,718.398 1939.19,720.05 1941.24,721.718 1943.29,723.402 1945.34,725.103 \n",
       "  1947.39,726.82 1949.43,728.554 1951.48,730.305 1953.53,732.072 1955.58,733.856 1957.63,735.657 1959.67,737.475 1961.72,739.311 1963.77,741.163 1965.82,743.033 \n",
       "  1967.86,744.92 1969.91,746.825 1971.96,748.748 1974.01,750.688 1976.06,752.646 1978.1,754.622 1980.15,756.616 1982.2,758.628 1984.25,760.659 1986.3,762.708 \n",
       "  1988.34,764.775 1990.39,766.86 1992.44,768.965 1994.49,771.088 1996.54,773.23 1998.58,775.39 2000.63,777.57 2002.68,779.769 2004.73,781.987 2006.78,784.225 \n",
       "  2008.82,786.482 2010.87,788.759 2012.92,791.055 2014.97,793.371 2017.02,795.707 2019.06,798.064 2021.11,800.44 2023.16,802.836 2025.21,805.253 2027.26,807.691 \n",
       "  2029.3,810.149 2031.35,812.627 2033.4,815.127 2035.45,817.647 2037.49,820.189 2039.54,822.752 2041.59,825.336 2043.64,827.942 2045.69,830.569 2047.73,833.218 \n",
       "  2049.78,835.889 2051.83,838.582 2053.88,841.297 2055.93,844.035 2057.97,846.795 2060.02,849.577 2062.07,852.382 2064.12,855.211 2066.17,858.062 2068.21,860.936 \n",
       "  2070.26,863.834 2072.31,866.756 2074.36,869.701 2076.41,872.67 2078.45,875.663 2080.5,878.68 2082.55,881.722 2084.6,884.788 2086.65,887.88 2088.69,890.996 \n",
       "  2090.74,894.138 2092.79,897.305 2094.84,900.497 2096.89,903.716 2098.93,906.961 2100.98,910.232 2103.03,913.53 2105.08,916.855 2107.13,920.207 2109.17,923.586 \n",
       "  2111.22,926.993 2113.27,930.429 2115.32,933.892 2117.36,937.384 2119.41,940.905 2121.46,944.456 2123.51,948.036 2125.56,951.647 2127.6,955.287 2129.65,958.959 \n",
       "  2131.7,962.662 2133.75,966.396 2135.8,970.163 2137.84,973.963 2139.89,977.795 2141.94,981.662 2143.99,985.562 2146.04,989.498 2148.08,993.468 2150.13,997.475 \n",
       "  2152.18,1001.52 2154.23,1005.6 2156.28,1009.72 2158.32,1013.88 2160.37,1018.07 2162.42,1022.31 2164.47,1026.59 2166.52,1030.91 2168.56,1035.28 2170.61,1039.69 \n",
       "  2172.66,1044.14 2174.71,1048.65 2176.76,1053.2 2178.8,1057.8 2180.85,1062.45 2182.9,1067.15 2184.95,1071.91 2187,1076.72 2189.04,1081.58 2191.09,1086.51 \n",
       "  2193.14,1091.5 2195.19,1096.55 2197.23,1101.67 2199.28,1106.85 2201.33,1112.11 2203.38,1117.44 2205.43,1122.84 2207.47,1128.33 2209.52,1133.89 2211.57,1139.54 \n",
       "  2213.62,1145.28 2215.67,1151.12 2217.71,1157.05 2219.76,1163.09 2221.81,1169.23 2223.86,1175.49 2225.91,1181.87 2227.95,1188.37 2230,1195 2232.05,1201.77 \n",
       "  2234.1,1208.69 2236.15,1215.76 2238.19,1223 2240.24,1230.41 2242.29,1237.99 2244.34,1245.77 2246.39,1253.75 2248.43,1261.95 2250.48,1270.36 2252.53,1279.02 \n",
       "  2254.58,1287.91 2256.63,1297.06 2258.67,1306.48 2260.72,1316.17 2262.77,1326.12 2264.82,1336.34 2266.87,1346.82 2268.91,1357.53 2270.96,1368.42 2273.01,1379.43 \n",
       "  2275.06,1390.44 2277.1,1401.3 2279.15,1411.78 2281.2,1421.56 2283.25,1430.23 2285.3,1437.29 2287.34,1442.25 2289.39,1444.91 2291.44,1445.72 \n",
       "  \"/>\n",
       "<path clip-path=\"url(#clip500)\" d=\"\n",
       "M2011.46 198.898 L2280.54 198.898 L2280.54 95.2176 L2011.46 95.2176  Z\n",
       "  \" fill=\"#ffffff\" fill-rule=\"evenodd\" fill-opacity=\"1\"/>\n",
       "<polyline clip-path=\"url(#clip500)\" style=\"stroke:#000000; stroke-linecap:round; stroke-linejoin:round; stroke-width:4; stroke-opacity:1; fill:none\" points=\"\n",
       "  2011.46,198.898 2280.54,198.898 2280.54,95.2176 2011.46,95.2176 2011.46,198.898 \n",
       "  \"/>\n",
       "<polyline clip-path=\"url(#clip500)\" style=\"stroke:#009af9; stroke-linecap:round; stroke-linejoin:round; stroke-width:4; stroke-opacity:1; fill:none\" points=\"\n",
       "  2035.53,147.058 2179.97,147.058 \n",
       "  \"/>\n",
       "<path clip-path=\"url(#clip500)\" d=\"M2217.88 166.745 Q2216.07 171.375 2214.36 172.787 Q2212.65 174.199 2209.78 174.199 L2206.38 174.199 L2206.38 170.634 L2208.88 170.634 Q2210.63 170.634 2211.61 169.8 Q2212.58 168.967 2213.76 165.865 L2214.52 163.921 L2204.04 138.412 L2208.55 138.412 L2216.65 158.689 L2224.76 138.412 L2229.27 138.412 L2217.88 166.745 Z\" fill=\"#000000\" fill-rule=\"evenodd\" fill-opacity=\"1\" /><path clip-path=\"url(#clip500)\" d=\"M2236.56 160.402 L2244.2 160.402 L2244.2 134.037 L2235.89 135.703 L2235.89 131.444 L2244.15 129.778 L2248.83 129.778 L2248.83 160.402 L2256.47 160.402 L2256.47 164.338 L2236.56 164.338 L2236.56 160.402 Z\" fill=\"#000000\" fill-rule=\"evenodd\" fill-opacity=\"1\" /></svg>\n"
      ]
     },
     "execution_count": 176,
     "metadata": {},
     "output_type": "execute_result"
    }
   ],
   "source": [
    "plot(exp.(l_strains_ell_list .- maximum(l_strains_ell_list)))"
   ]
  },
  {
   "cell_type": "code",
   "execution_count": 177,
   "id": "c0926f58-cc8a-4dee-88e2-3a6e80271688",
   "metadata": {},
   "outputs": [
    {
     "data": {
      "image/svg+xml": [
       "<?xml version=\"1.0\" encoding=\"utf-8\"?>\n",
       "<svg xmlns=\"http://www.w3.org/2000/svg\" xmlns:xlink=\"http://www.w3.org/1999/xlink\" width=\"600\" height=\"400\" viewBox=\"0 0 2400 1600\">\n",
       "<defs>\n",
       "  <clipPath id=\"clip540\">\n",
       "    <rect x=\"0\" y=\"0\" width=\"2400\" height=\"1600\"/>\n",
       "  </clipPath>\n",
       "</defs>\n",
       "<path clip-path=\"url(#clip540)\" d=\"\n",
       "M0 1600 L2400 1600 L2400 0 L0 0  Z\n",
       "  \" fill=\"#ffffff\" fill-rule=\"evenodd\" fill-opacity=\"1\"/>\n",
       "<defs>\n",
       "  <clipPath id=\"clip541\">\n",
       "    <rect x=\"480\" y=\"0\" width=\"1681\" height=\"1600\"/>\n",
       "  </clipPath>\n",
       "</defs>\n",
       "<path clip-path=\"url(#clip540)\" d=\"\n",
       "M186.274 1486.45 L2352.76 1486.45 L2352.76 47.2441 L186.274 47.2441  Z\n",
       "  \" fill=\"#ffffff\" fill-rule=\"evenodd\" fill-opacity=\"1\"/>\n",
       "<defs>\n",
       "  <clipPath id=\"clip542\">\n",
       "    <rect x=\"186\" y=\"47\" width=\"2167\" height=\"1440\"/>\n",
       "  </clipPath>\n",
       "</defs>\n",
       "<polyline clip-path=\"url(#clip542)\" style=\"stroke:#000000; stroke-linecap:round; stroke-linejoin:round; stroke-width:2; stroke-opacity:0.1; fill:none\" points=\"\n",
       "  245.542,1486.45 245.542,47.2441 \n",
       "  \"/>\n",
       "<polyline clip-path=\"url(#clip542)\" style=\"stroke:#000000; stroke-linecap:round; stroke-linejoin:round; stroke-width:2; stroke-opacity:0.1; fill:none\" points=\"\n",
       "  757.528,1486.45 757.528,47.2441 \n",
       "  \"/>\n",
       "<polyline clip-path=\"url(#clip542)\" style=\"stroke:#000000; stroke-linecap:round; stroke-linejoin:round; stroke-width:2; stroke-opacity:0.1; fill:none\" points=\"\n",
       "  1269.51,1486.45 1269.51,47.2441 \n",
       "  \"/>\n",
       "<polyline clip-path=\"url(#clip542)\" style=\"stroke:#000000; stroke-linecap:round; stroke-linejoin:round; stroke-width:2; stroke-opacity:0.1; fill:none\" points=\"\n",
       "  1781.5,1486.45 1781.5,47.2441 \n",
       "  \"/>\n",
       "<polyline clip-path=\"url(#clip542)\" style=\"stroke:#000000; stroke-linecap:round; stroke-linejoin:round; stroke-width:2; stroke-opacity:0.1; fill:none\" points=\"\n",
       "  2293.49,1486.45 2293.49,47.2441 \n",
       "  \"/>\n",
       "<polyline clip-path=\"url(#clip540)\" style=\"stroke:#000000; stroke-linecap:round; stroke-linejoin:round; stroke-width:4; stroke-opacity:1; fill:none\" points=\"\n",
       "  186.274,1486.45 2352.76,1486.45 \n",
       "  \"/>\n",
       "<polyline clip-path=\"url(#clip540)\" style=\"stroke:#000000; stroke-linecap:round; stroke-linejoin:round; stroke-width:4; stroke-opacity:1; fill:none\" points=\"\n",
       "  245.542,1486.45 245.542,1467.55 \n",
       "  \"/>\n",
       "<polyline clip-path=\"url(#clip540)\" style=\"stroke:#000000; stroke-linecap:round; stroke-linejoin:round; stroke-width:4; stroke-opacity:1; fill:none\" points=\"\n",
       "  757.528,1486.45 757.528,1467.55 \n",
       "  \"/>\n",
       "<polyline clip-path=\"url(#clip540)\" style=\"stroke:#000000; stroke-linecap:round; stroke-linejoin:round; stroke-width:4; stroke-opacity:1; fill:none\" points=\"\n",
       "  1269.51,1486.45 1269.51,1467.55 \n",
       "  \"/>\n",
       "<polyline clip-path=\"url(#clip540)\" style=\"stroke:#000000; stroke-linecap:round; stroke-linejoin:round; stroke-width:4; stroke-opacity:1; fill:none\" points=\"\n",
       "  1781.5,1486.45 1781.5,1467.55 \n",
       "  \"/>\n",
       "<polyline clip-path=\"url(#clip540)\" style=\"stroke:#000000; stroke-linecap:round; stroke-linejoin:round; stroke-width:4; stroke-opacity:1; fill:none\" points=\"\n",
       "  2293.49,1486.45 2293.49,1467.55 \n",
       "  \"/>\n",
       "<path clip-path=\"url(#clip540)\" d=\"M245.542 1517.37 Q241.93 1517.37 240.102 1520.93 Q238.296 1524.47 238.296 1531.6 Q238.296 1538.71 240.102 1542.27 Q241.93 1545.82 245.542 1545.82 Q249.176 1545.82 250.981 1542.27 Q252.81 1538.71 252.81 1531.6 Q252.81 1524.47 250.981 1520.93 Q249.176 1517.37 245.542 1517.37 M245.542 1513.66 Q251.352 1513.66 254.407 1518.27 Q257.486 1522.85 257.486 1531.6 Q257.486 1540.33 254.407 1544.94 Q251.352 1549.52 245.542 1549.52 Q239.731 1549.52 236.653 1544.94 Q233.597 1540.33 233.597 1531.6 Q233.597 1522.85 236.653 1518.27 Q239.731 1513.66 245.542 1513.66 Z\" fill=\"#000000\" fill-rule=\"evenodd\" fill-opacity=\"1\" /><path clip-path=\"url(#clip540)\" d=\"M721.221 1544.91 L737.54 1544.91 L737.54 1548.85 L715.596 1548.85 L715.596 1544.91 Q718.258 1542.16 722.841 1537.53 Q727.447 1532.88 728.628 1531.53 Q730.873 1529.01 731.753 1527.27 Q732.656 1525.51 732.656 1523.82 Q732.656 1521.07 730.711 1519.33 Q728.79 1517.6 725.688 1517.6 Q723.489 1517.6 721.035 1518.36 Q718.605 1519.13 715.827 1520.68 L715.827 1515.95 Q718.651 1514.82 721.105 1514.24 Q723.559 1513.66 725.596 1513.66 Q730.966 1513.66 734.16 1516.35 Q737.355 1519.03 737.355 1523.52 Q737.355 1525.65 736.545 1527.57 Q735.758 1529.47 733.651 1532.07 Q733.072 1532.74 729.971 1535.95 Q726.869 1539.15 721.221 1544.91 Z\" fill=\"#000000\" fill-rule=\"evenodd\" fill-opacity=\"1\" /><path clip-path=\"url(#clip540)\" d=\"M747.401 1514.29 L765.757 1514.29 L765.757 1518.22 L751.683 1518.22 L751.683 1526.7 Q752.702 1526.35 753.72 1526.19 Q754.739 1526 755.757 1526 Q761.544 1526 764.924 1529.17 Q768.304 1532.34 768.304 1537.76 Q768.304 1543.34 764.831 1546.44 Q761.359 1549.52 755.04 1549.52 Q752.864 1549.52 750.595 1549.15 Q748.35 1548.78 745.943 1548.04 L745.943 1543.34 Q748.026 1544.47 750.248 1545.03 Q752.47 1545.58 754.947 1545.58 Q758.952 1545.58 761.29 1543.48 Q763.628 1541.37 763.628 1537.76 Q763.628 1534.15 761.29 1532.04 Q758.952 1529.94 754.947 1529.94 Q753.072 1529.94 751.197 1530.35 Q749.345 1530.77 747.401 1531.65 L747.401 1514.29 Z\" fill=\"#000000\" fill-rule=\"evenodd\" fill-opacity=\"1\" /><path clip-path=\"url(#clip540)\" d=\"M787.517 1517.37 Q783.905 1517.37 782.077 1520.93 Q780.271 1524.47 780.271 1531.6 Q780.271 1538.71 782.077 1542.27 Q783.905 1545.82 787.517 1545.82 Q791.151 1545.82 792.956 1542.27 Q794.785 1538.71 794.785 1531.6 Q794.785 1524.47 792.956 1520.93 Q791.151 1517.37 787.517 1517.37 M787.517 1513.66 Q793.327 1513.66 796.382 1518.27 Q799.461 1522.85 799.461 1531.6 Q799.461 1540.33 796.382 1544.94 Q793.327 1549.52 787.517 1549.52 Q781.706 1549.52 778.628 1544.94 Q775.572 1540.33 775.572 1531.6 Q775.572 1522.85 778.628 1518.27 Q781.706 1513.66 787.517 1513.66 Z\" fill=\"#000000\" fill-rule=\"evenodd\" fill-opacity=\"1\" /><path clip-path=\"url(#clip540)\" d=\"M1229.13 1514.29 L1247.49 1514.29 L1247.49 1518.22 L1233.42 1518.22 L1233.42 1526.7 Q1234.43 1526.35 1235.45 1526.19 Q1236.47 1526 1237.49 1526 Q1243.28 1526 1246.66 1529.17 Q1250.04 1532.34 1250.04 1537.76 Q1250.04 1543.34 1246.56 1546.44 Q1243.09 1549.52 1236.77 1549.52 Q1234.6 1549.52 1232.33 1549.15 Q1230.08 1548.78 1227.67 1548.04 L1227.67 1543.34 Q1229.76 1544.47 1231.98 1545.03 Q1234.2 1545.58 1236.68 1545.58 Q1240.68 1545.58 1243.02 1543.48 Q1245.36 1541.37 1245.36 1537.76 Q1245.36 1534.15 1243.02 1532.04 Q1240.68 1529.94 1236.68 1529.94 Q1234.8 1529.94 1232.93 1530.35 Q1231.08 1530.77 1229.13 1531.65 L1229.13 1514.29 Z\" fill=\"#000000\" fill-rule=\"evenodd\" fill-opacity=\"1\" /><path clip-path=\"url(#clip540)\" d=\"M1269.25 1517.37 Q1265.64 1517.37 1263.81 1520.93 Q1262 1524.47 1262 1531.6 Q1262 1538.71 1263.81 1542.27 Q1265.64 1545.82 1269.25 1545.82 Q1272.88 1545.82 1274.69 1542.27 Q1276.52 1538.71 1276.52 1531.6 Q1276.52 1524.47 1274.69 1520.93 Q1272.88 1517.37 1269.25 1517.37 M1269.25 1513.66 Q1275.06 1513.66 1278.11 1518.27 Q1281.19 1522.85 1281.19 1531.6 Q1281.19 1540.33 1278.11 1544.94 Q1275.06 1549.52 1269.25 1549.52 Q1263.44 1549.52 1260.36 1544.94 Q1257.3 1540.33 1257.3 1531.6 Q1257.3 1522.85 1260.36 1518.27 Q1263.44 1513.66 1269.25 1513.66 Z\" fill=\"#000000\" fill-rule=\"evenodd\" fill-opacity=\"1\" /><path clip-path=\"url(#clip540)\" d=\"M1299.41 1517.37 Q1295.8 1517.37 1293.97 1520.93 Q1292.17 1524.47 1292.17 1531.6 Q1292.17 1538.71 1293.97 1542.27 Q1295.8 1545.82 1299.41 1545.82 Q1303.04 1545.82 1304.85 1542.27 Q1306.68 1538.71 1306.68 1531.6 Q1306.68 1524.47 1304.85 1520.93 Q1303.04 1517.37 1299.41 1517.37 M1299.41 1513.66 Q1305.22 1513.66 1308.28 1518.27 Q1311.36 1522.85 1311.36 1531.6 Q1311.36 1540.33 1308.28 1544.94 Q1305.22 1549.52 1299.41 1549.52 Q1293.6 1549.52 1290.52 1544.94 Q1287.47 1540.33 1287.47 1531.6 Q1287.47 1522.85 1290.52 1518.27 Q1293.6 1513.66 1299.41 1513.66 Z\" fill=\"#000000\" fill-rule=\"evenodd\" fill-opacity=\"1\" /><path clip-path=\"url(#clip540)\" d=\"M1739.78 1514.29 L1762 1514.29 L1762 1516.28 L1749.45 1548.85 L1744.57 1548.85 L1756.37 1518.22 L1739.78 1518.22 L1739.78 1514.29 Z\" fill=\"#000000\" fill-rule=\"evenodd\" fill-opacity=\"1\" /><path clip-path=\"url(#clip540)\" d=\"M1771.17 1514.29 L1789.52 1514.29 L1789.52 1518.22 L1775.45 1518.22 L1775.45 1526.7 Q1776.47 1526.35 1777.49 1526.19 Q1778.5 1526 1779.52 1526 Q1785.31 1526 1788.69 1529.17 Q1792.07 1532.34 1792.07 1537.76 Q1792.07 1543.34 1788.6 1546.44 Q1785.12 1549.52 1778.8 1549.52 Q1776.63 1549.52 1774.36 1549.15 Q1772.12 1548.78 1769.71 1548.04 L1769.71 1543.34 Q1771.79 1544.47 1774.01 1545.03 Q1776.24 1545.58 1778.71 1545.58 Q1782.72 1545.58 1785.05 1543.48 Q1787.39 1541.37 1787.39 1537.76 Q1787.39 1534.15 1785.05 1532.04 Q1782.72 1529.94 1778.71 1529.94 Q1776.84 1529.94 1774.96 1530.35 Q1773.11 1530.77 1771.17 1531.65 L1771.17 1514.29 Z\" fill=\"#000000\" fill-rule=\"evenodd\" fill-opacity=\"1\" /><path clip-path=\"url(#clip540)\" d=\"M1811.28 1517.37 Q1807.67 1517.37 1805.84 1520.93 Q1804.04 1524.47 1804.04 1531.6 Q1804.04 1538.71 1805.84 1542.27 Q1807.67 1545.82 1811.28 1545.82 Q1814.92 1545.82 1816.72 1542.27 Q1818.55 1538.71 1818.55 1531.6 Q1818.55 1524.47 1816.72 1520.93 Q1814.92 1517.37 1811.28 1517.37 M1811.28 1513.66 Q1817.09 1513.66 1820.15 1518.27 Q1823.23 1522.85 1823.23 1531.6 Q1823.23 1540.33 1820.15 1544.94 Q1817.09 1549.52 1811.28 1549.52 Q1805.47 1549.52 1802.39 1544.94 Q1799.34 1540.33 1799.34 1531.6 Q1799.34 1522.85 1802.39 1518.27 Q1805.47 1513.66 1811.28 1513.66 Z\" fill=\"#000000\" fill-rule=\"evenodd\" fill-opacity=\"1\" /><path clip-path=\"url(#clip540)\" d=\"M2238.01 1544.91 L2245.65 1544.91 L2245.65 1518.55 L2237.34 1520.21 L2237.34 1515.95 L2245.61 1514.29 L2250.28 1514.29 L2250.28 1544.91 L2257.92 1544.91 L2257.92 1548.85 L2238.01 1548.85 L2238.01 1544.91 Z\" fill=\"#000000\" fill-rule=\"evenodd\" fill-opacity=\"1\" /><path clip-path=\"url(#clip540)\" d=\"M2277.37 1517.37 Q2273.75 1517.37 2271.93 1520.93 Q2270.12 1524.47 2270.12 1531.6 Q2270.12 1538.71 2271.93 1542.27 Q2273.75 1545.82 2277.37 1545.82 Q2281 1545.82 2282.81 1542.27 Q2284.63 1538.71 2284.63 1531.6 Q2284.63 1524.47 2282.81 1520.93 Q2281 1517.37 2277.37 1517.37 M2277.37 1513.66 Q2283.18 1513.66 2286.23 1518.27 Q2289.31 1522.85 2289.31 1531.6 Q2289.31 1540.33 2286.23 1544.94 Q2283.18 1549.52 2277.37 1549.52 Q2271.56 1549.52 2268.48 1544.94 Q2265.42 1540.33 2265.42 1531.6 Q2265.42 1522.85 2268.48 1518.27 Q2271.56 1513.66 2277.37 1513.66 Z\" fill=\"#000000\" fill-rule=\"evenodd\" fill-opacity=\"1\" /><path clip-path=\"url(#clip540)\" d=\"M2307.53 1517.37 Q2303.92 1517.37 2302.09 1520.93 Q2300.28 1524.47 2300.28 1531.6 Q2300.28 1538.71 2302.09 1542.27 Q2303.92 1545.82 2307.53 1545.82 Q2311.16 1545.82 2312.97 1542.27 Q2314.8 1538.71 2314.8 1531.6 Q2314.8 1524.47 2312.97 1520.93 Q2311.16 1517.37 2307.53 1517.37 M2307.53 1513.66 Q2313.34 1513.66 2316.39 1518.27 Q2319.47 1522.85 2319.47 1531.6 Q2319.47 1540.33 2316.39 1544.94 Q2313.34 1549.52 2307.53 1549.52 Q2301.72 1549.52 2298.64 1544.94 Q2295.58 1540.33 2295.58 1531.6 Q2295.58 1522.85 2298.64 1518.27 Q2301.72 1513.66 2307.53 1513.66 Z\" fill=\"#000000\" fill-rule=\"evenodd\" fill-opacity=\"1\" /><path clip-path=\"url(#clip540)\" d=\"M2337.69 1517.37 Q2334.08 1517.37 2332.25 1520.93 Q2330.44 1524.47 2330.44 1531.6 Q2330.44 1538.71 2332.25 1542.27 Q2334.08 1545.82 2337.69 1545.82 Q2341.32 1545.82 2343.13 1542.27 Q2344.96 1538.71 2344.96 1531.6 Q2344.96 1524.47 2343.13 1520.93 Q2341.32 1517.37 2337.69 1517.37 M2337.69 1513.66 Q2343.5 1513.66 2346.56 1518.27 Q2349.63 1522.85 2349.63 1531.6 Q2349.63 1540.33 2346.56 1544.94 Q2343.5 1549.52 2337.69 1549.52 Q2331.88 1549.52 2328.8 1544.94 Q2325.75 1540.33 2325.75 1531.6 Q2325.75 1522.85 2328.8 1518.27 Q2331.88 1513.66 2337.69 1513.66 Z\" fill=\"#000000\" fill-rule=\"evenodd\" fill-opacity=\"1\" /><polyline clip-path=\"url(#clip542)\" style=\"stroke:#000000; stroke-linecap:round; stroke-linejoin:round; stroke-width:2; stroke-opacity:0.1; fill:none\" points=\"\n",
       "  186.274,1445.78 2352.76,1445.78 \n",
       "  \"/>\n",
       "<polyline clip-path=\"url(#clip542)\" style=\"stroke:#000000; stroke-linecap:round; stroke-linejoin:round; stroke-width:2; stroke-opacity:0.1; fill:none\" points=\"\n",
       "  186.274,1106.33 2352.76,1106.33 \n",
       "  \"/>\n",
       "<polyline clip-path=\"url(#clip542)\" style=\"stroke:#000000; stroke-linecap:round; stroke-linejoin:round; stroke-width:2; stroke-opacity:0.1; fill:none\" points=\"\n",
       "  186.274,766.879 2352.76,766.879 \n",
       "  \"/>\n",
       "<polyline clip-path=\"url(#clip542)\" style=\"stroke:#000000; stroke-linecap:round; stroke-linejoin:round; stroke-width:2; stroke-opacity:0.1; fill:none\" points=\"\n",
       "  186.274,427.428 2352.76,427.428 \n",
       "  \"/>\n",
       "<polyline clip-path=\"url(#clip542)\" style=\"stroke:#000000; stroke-linecap:round; stroke-linejoin:round; stroke-width:2; stroke-opacity:0.1; fill:none\" points=\"\n",
       "  186.274,87.9763 2352.76,87.9763 \n",
       "  \"/>\n",
       "<polyline clip-path=\"url(#clip540)\" style=\"stroke:#000000; stroke-linecap:round; stroke-linejoin:round; stroke-width:4; stroke-opacity:1; fill:none\" points=\"\n",
       "  186.274,1486.45 186.274,47.2441 \n",
       "  \"/>\n",
       "<polyline clip-path=\"url(#clip540)\" style=\"stroke:#000000; stroke-linecap:round; stroke-linejoin:round; stroke-width:4; stroke-opacity:1; fill:none\" points=\"\n",
       "  186.274,1445.78 205.172,1445.78 \n",
       "  \"/>\n",
       "<polyline clip-path=\"url(#clip540)\" style=\"stroke:#000000; stroke-linecap:round; stroke-linejoin:round; stroke-width:4; stroke-opacity:1; fill:none\" points=\"\n",
       "  186.274,1106.33 205.172,1106.33 \n",
       "  \"/>\n",
       "<polyline clip-path=\"url(#clip540)\" style=\"stroke:#000000; stroke-linecap:round; stroke-linejoin:round; stroke-width:4; stroke-opacity:1; fill:none\" points=\"\n",
       "  186.274,766.879 205.172,766.879 \n",
       "  \"/>\n",
       "<polyline clip-path=\"url(#clip540)\" style=\"stroke:#000000; stroke-linecap:round; stroke-linejoin:round; stroke-width:4; stroke-opacity:1; fill:none\" points=\"\n",
       "  186.274,427.428 205.172,427.428 \n",
       "  \"/>\n",
       "<polyline clip-path=\"url(#clip540)\" style=\"stroke:#000000; stroke-linecap:round; stroke-linejoin:round; stroke-width:4; stroke-opacity:1; fill:none\" points=\"\n",
       "  186.274,87.9763 205.172,87.9763 \n",
       "  \"/>\n",
       "<path clip-path=\"url(#clip540)\" d=\"M62.9365 1431.58 Q59.3254 1431.58 57.4967 1435.15 Q55.6912 1438.69 55.6912 1445.82 Q55.6912 1452.92 57.4967 1456.49 Q59.3254 1460.03 62.9365 1460.03 Q66.5707 1460.03 68.3763 1456.49 Q70.205 1452.92 70.205 1445.82 Q70.205 1438.69 68.3763 1435.15 Q66.5707 1431.58 62.9365 1431.58 M62.9365 1427.88 Q68.7467 1427.88 71.8022 1432.48 Q74.8809 1437.07 74.8809 1445.82 Q74.8809 1454.54 71.8022 1459.15 Q68.7467 1463.73 62.9365 1463.73 Q57.1264 1463.73 54.0477 1459.15 Q50.9921 1454.54 50.9921 1445.82 Q50.9921 1437.07 54.0477 1432.48 Q57.1264 1427.88 62.9365 1427.88 Z\" fill=\"#000000\" fill-rule=\"evenodd\" fill-opacity=\"1\" /><path clip-path=\"url(#clip540)\" d=\"M83.0984 1457.18 L87.9827 1457.18 L87.9827 1463.06 L83.0984 1463.06 L83.0984 1457.18 Z\" fill=\"#000000\" fill-rule=\"evenodd\" fill-opacity=\"1\" /><path clip-path=\"url(#clip540)\" d=\"M108.168 1431.58 Q104.557 1431.58 102.728 1435.15 Q100.922 1438.69 100.922 1445.82 Q100.922 1452.92 102.728 1456.49 Q104.557 1460.03 108.168 1460.03 Q111.802 1460.03 113.608 1456.49 Q115.436 1452.92 115.436 1445.82 Q115.436 1438.69 113.608 1435.15 Q111.802 1431.58 108.168 1431.58 M108.168 1427.88 Q113.978 1427.88 117.033 1432.48 Q120.112 1437.07 120.112 1445.82 Q120.112 1454.54 117.033 1459.15 Q113.978 1463.73 108.168 1463.73 Q102.358 1463.73 99.2789 1459.15 Q96.2234 1454.54 96.2234 1445.82 Q96.2234 1437.07 99.2789 1432.48 Q102.358 1427.88 108.168 1427.88 Z\" fill=\"#000000\" fill-rule=\"evenodd\" fill-opacity=\"1\" /><path clip-path=\"url(#clip540)\" d=\"M138.33 1431.58 Q134.719 1431.58 132.89 1435.15 Q131.084 1438.69 131.084 1445.82 Q131.084 1452.92 132.89 1456.49 Q134.719 1460.03 138.33 1460.03 Q141.964 1460.03 143.769 1456.49 Q145.598 1452.92 145.598 1445.82 Q145.598 1438.69 143.769 1435.15 Q141.964 1431.58 138.33 1431.58 M138.33 1427.88 Q144.14 1427.88 147.195 1432.48 Q150.274 1437.07 150.274 1445.82 Q150.274 1454.54 147.195 1459.15 Q144.14 1463.73 138.33 1463.73 Q132.519 1463.73 129.441 1459.15 Q126.385 1454.54 126.385 1445.82 Q126.385 1437.07 129.441 1432.48 Q132.519 1427.88 138.33 1427.88 Z\" fill=\"#000000\" fill-rule=\"evenodd\" fill-opacity=\"1\" /><path clip-path=\"url(#clip540)\" d=\"M63.9319 1092.13 Q60.3208 1092.13 58.4921 1095.69 Q56.6865 1099.24 56.6865 1106.37 Q56.6865 1113.47 58.4921 1117.04 Q60.3208 1120.58 63.9319 1120.58 Q67.5661 1120.58 69.3717 1117.04 Q71.2004 1113.47 71.2004 1106.37 Q71.2004 1099.24 69.3717 1095.69 Q67.5661 1092.13 63.9319 1092.13 M63.9319 1088.43 Q69.742 1088.43 72.7976 1093.03 Q75.8763 1097.62 75.8763 1106.37 Q75.8763 1115.09 72.7976 1119.7 Q69.742 1124.28 63.9319 1124.28 Q58.1217 1124.28 55.043 1119.7 Q51.9875 1115.09 51.9875 1106.37 Q51.9875 1097.62 55.043 1093.03 Q58.1217 1088.43 63.9319 1088.43 Z\" fill=\"#000000\" fill-rule=\"evenodd\" fill-opacity=\"1\" /><path clip-path=\"url(#clip540)\" d=\"M84.0938 1117.73 L88.978 1117.73 L88.978 1123.61 L84.0938 1123.61 L84.0938 1117.73 Z\" fill=\"#000000\" fill-rule=\"evenodd\" fill-opacity=\"1\" /><path clip-path=\"url(#clip540)\" d=\"M103.191 1119.68 L119.51 1119.68 L119.51 1123.61 L97.566 1123.61 L97.566 1119.68 Q100.228 1116.92 104.811 1112.29 Q109.418 1107.64 110.598 1106.3 Q112.844 1103.77 113.723 1102.04 Q114.626 1100.28 114.626 1098.59 Q114.626 1095.83 112.682 1094.1 Q110.76 1092.36 107.658 1092.36 Q105.459 1092.36 103.006 1093.12 Q100.575 1093.89 97.7974 1095.44 L97.7974 1090.72 Q100.621 1089.58 103.075 1089 Q105.529 1088.43 107.566 1088.43 Q112.936 1088.43 116.131 1091.11 Q119.325 1093.8 119.325 1098.29 Q119.325 1100.42 118.515 1102.34 Q117.728 1104.24 115.621 1106.83 Q115.043 1107.5 111.941 1110.72 Q108.839 1113.91 103.191 1119.68 Z\" fill=\"#000000\" fill-rule=\"evenodd\" fill-opacity=\"1\" /><path clip-path=\"url(#clip540)\" d=\"M129.371 1089.05 L147.728 1089.05 L147.728 1092.99 L133.654 1092.99 L133.654 1101.46 Q134.672 1101.11 135.691 1100.95 Q136.709 1100.76 137.728 1100.76 Q143.515 1100.76 146.894 1103.94 Q150.274 1107.11 150.274 1112.52 Q150.274 1118.1 146.802 1121.2 Q143.33 1124.28 137.01 1124.28 Q134.834 1124.28 132.566 1123.91 Q130.32 1123.54 127.913 1122.8 L127.913 1118.1 Q129.996 1119.24 132.219 1119.79 Q134.441 1120.35 136.918 1120.35 Q140.922 1120.35 143.26 1118.24 Q145.598 1116.13 145.598 1112.52 Q145.598 1108.91 143.26 1106.81 Q140.922 1104.7 136.918 1104.7 Q135.043 1104.7 133.168 1105.12 Q131.316 1105.53 129.371 1106.41 L129.371 1089.05 Z\" fill=\"#000000\" fill-rule=\"evenodd\" fill-opacity=\"1\" /><path clip-path=\"url(#clip540)\" d=\"M62.9365 752.678 Q59.3254 752.678 57.4967 756.243 Q55.6912 759.784 55.6912 766.914 Q55.6912 774.021 57.4967 777.585 Q59.3254 781.127 62.9365 781.127 Q66.5707 781.127 68.3763 777.585 Q70.205 774.021 70.205 766.914 Q70.205 759.784 68.3763 756.243 Q66.5707 752.678 62.9365 752.678 M62.9365 748.974 Q68.7467 748.974 71.8022 753.581 Q74.8809 758.164 74.8809 766.914 Q74.8809 775.641 71.8022 780.247 Q68.7467 784.831 62.9365 784.831 Q57.1264 784.831 54.0477 780.247 Q50.9921 775.641 50.9921 766.914 Q50.9921 758.164 54.0477 753.581 Q57.1264 748.974 62.9365 748.974 Z\" fill=\"#000000\" fill-rule=\"evenodd\" fill-opacity=\"1\" /><path clip-path=\"url(#clip540)\" d=\"M83.0984 778.28 L87.9827 778.28 L87.9827 784.159 L83.0984 784.159 L83.0984 778.28 Z\" fill=\"#000000\" fill-rule=\"evenodd\" fill-opacity=\"1\" /><path clip-path=\"url(#clip540)\" d=\"M98.2141 749.599 L116.57 749.599 L116.57 753.535 L102.496 753.535 L102.496 762.007 Q103.515 761.659 104.534 761.497 Q105.552 761.312 106.571 761.312 Q112.358 761.312 115.737 764.484 Q119.117 767.655 119.117 773.071 Q119.117 778.65 115.645 781.752 Q112.172 784.831 105.853 784.831 Q103.677 784.831 101.409 784.46 Q99.1632 784.09 96.7558 783.349 L96.7558 778.65 Q98.8391 779.784 101.061 780.34 Q103.284 780.895 105.76 780.895 Q109.765 780.895 112.103 778.789 Q114.441 776.683 114.441 773.071 Q114.441 769.46 112.103 767.354 Q109.765 765.247 105.76 765.247 Q103.885 765.247 102.01 765.664 Q100.159 766.081 98.2141 766.96 L98.2141 749.599 Z\" fill=\"#000000\" fill-rule=\"evenodd\" fill-opacity=\"1\" /><path clip-path=\"url(#clip540)\" d=\"M138.33 752.678 Q134.719 752.678 132.89 756.243 Q131.084 759.784 131.084 766.914 Q131.084 774.021 132.89 777.585 Q134.719 781.127 138.33 781.127 Q141.964 781.127 143.769 777.585 Q145.598 774.021 145.598 766.914 Q145.598 759.784 143.769 756.243 Q141.964 752.678 138.33 752.678 M138.33 748.974 Q144.14 748.974 147.195 753.581 Q150.274 758.164 150.274 766.914 Q150.274 775.641 147.195 780.247 Q144.14 784.831 138.33 784.831 Q132.519 784.831 129.441 780.247 Q126.385 775.641 126.385 766.914 Q126.385 758.164 129.441 753.581 Q132.519 748.974 138.33 748.974 Z\" fill=\"#000000\" fill-rule=\"evenodd\" fill-opacity=\"1\" /><path clip-path=\"url(#clip540)\" d=\"M63.9319 413.227 Q60.3208 413.227 58.4921 416.791 Q56.6865 420.333 56.6865 427.463 Q56.6865 434.569 58.4921 438.134 Q60.3208 441.675 63.9319 441.675 Q67.5661 441.675 69.3717 438.134 Q71.2004 434.569 71.2004 427.463 Q71.2004 420.333 69.3717 416.791 Q67.5661 413.227 63.9319 413.227 M63.9319 409.523 Q69.742 409.523 72.7976 414.129 Q75.8763 418.713 75.8763 427.463 Q75.8763 436.189 72.7976 440.796 Q69.742 445.379 63.9319 445.379 Q58.1217 445.379 55.043 440.796 Q51.9875 436.189 51.9875 427.463 Q51.9875 418.713 55.043 414.129 Q58.1217 409.523 63.9319 409.523 Z\" fill=\"#000000\" fill-rule=\"evenodd\" fill-opacity=\"1\" /><path clip-path=\"url(#clip540)\" d=\"M84.0938 438.828 L88.978 438.828 L88.978 444.708 L84.0938 444.708 L84.0938 438.828 Z\" fill=\"#000000\" fill-rule=\"evenodd\" fill-opacity=\"1\" /><path clip-path=\"url(#clip540)\" d=\"M97.9826 410.148 L120.205 410.148 L120.205 412.139 L107.658 444.708 L102.774 444.708 L114.58 414.083 L97.9826 414.083 L97.9826 410.148 Z\" fill=\"#000000\" fill-rule=\"evenodd\" fill-opacity=\"1\" /><path clip-path=\"url(#clip540)\" d=\"M129.371 410.148 L147.728 410.148 L147.728 414.083 L133.654 414.083 L133.654 422.555 Q134.672 422.208 135.691 422.046 Q136.709 421.861 137.728 421.861 Q143.515 421.861 146.894 425.032 Q150.274 428.203 150.274 433.62 Q150.274 439.199 146.802 442.3 Q143.33 445.379 137.01 445.379 Q134.834 445.379 132.566 445.009 Q130.32 444.638 127.913 443.898 L127.913 439.199 Q129.996 440.333 132.219 440.888 Q134.441 441.444 136.918 441.444 Q140.922 441.444 143.26 439.337 Q145.598 437.231 145.598 433.62 Q145.598 430.009 143.26 427.902 Q140.922 425.796 136.918 425.796 Q135.043 425.796 133.168 426.213 Q131.316 426.629 129.371 427.509 L129.371 410.148 Z\" fill=\"#000000\" fill-rule=\"evenodd\" fill-opacity=\"1\" /><path clip-path=\"url(#clip540)\" d=\"M53.7467 101.321 L61.3856 101.321 L61.3856 74.9555 L53.0754 76.6222 L53.0754 72.3629 L61.3393 70.6963 L66.0152 70.6963 L66.0152 101.321 L73.654 101.321 L73.654 105.256 L53.7467 105.256 L53.7467 101.321 Z\" fill=\"#000000\" fill-rule=\"evenodd\" fill-opacity=\"1\" /><path clip-path=\"url(#clip540)\" d=\"M83.0984 99.3767 L87.9827 99.3767 L87.9827 105.256 L83.0984 105.256 L83.0984 99.3767 Z\" fill=\"#000000\" fill-rule=\"evenodd\" fill-opacity=\"1\" /><path clip-path=\"url(#clip540)\" d=\"M108.168 73.775 Q104.557 73.775 102.728 77.3398 Q100.922 80.8814 100.922 88.011 Q100.922 95.1174 102.728 98.6822 Q104.557 102.224 108.168 102.224 Q111.802 102.224 113.608 98.6822 Q115.436 95.1174 115.436 88.011 Q115.436 80.8814 113.608 77.3398 Q111.802 73.775 108.168 73.775 M108.168 70.0713 Q113.978 70.0713 117.033 74.6777 Q120.112 79.261 120.112 88.011 Q120.112 96.7378 117.033 101.344 Q113.978 105.928 108.168 105.928 Q102.358 105.928 99.2789 101.344 Q96.2234 96.7378 96.2234 88.011 Q96.2234 79.261 99.2789 74.6777 Q102.358 70.0713 108.168 70.0713 Z\" fill=\"#000000\" fill-rule=\"evenodd\" fill-opacity=\"1\" /><path clip-path=\"url(#clip540)\" d=\"M138.33 73.775 Q134.719 73.775 132.89 77.3398 Q131.084 80.8814 131.084 88.011 Q131.084 95.1174 132.89 98.6822 Q134.719 102.224 138.33 102.224 Q141.964 102.224 143.769 98.6822 Q145.598 95.1174 145.598 88.011 Q145.598 80.8814 143.769 77.3398 Q141.964 73.775 138.33 73.775 M138.33 70.0713 Q144.14 70.0713 147.195 74.6777 Q150.274 79.261 150.274 88.011 Q150.274 96.7378 147.195 101.344 Q144.14 105.928 138.33 105.928 Q132.519 105.928 129.441 101.344 Q126.385 96.7378 126.385 88.011 Q126.385 79.261 129.441 74.6777 Q132.519 70.0713 138.33 70.0713 Z\" fill=\"#000000\" fill-rule=\"evenodd\" fill-opacity=\"1\" /><polyline clip-path=\"url(#clip542)\" style=\"stroke:#009af9; stroke-linecap:round; stroke-linejoin:round; stroke-width:4; stroke-opacity:1; fill:none\" points=\"\n",
       "  247.59,87.9763 249.637,102.702 251.685,116.865 253.733,130.499 255.781,143.634 257.829,156.299 259.877,168.52 261.925,180.321 263.973,191.724 266.021,202.75 \n",
       "  268.069,213.418 270.117,223.746 272.165,233.751 274.213,243.448 276.261,252.852 278.309,261.976 280.357,270.833 282.405,279.435 284.453,287.793 286.501,295.917 \n",
       "  288.548,303.818 290.596,311.505 292.644,318.987 294.692,326.271 296.74,333.367 298.788,340.28 300.836,347.018 302.884,353.589 304.932,359.997 306.98,366.249 \n",
       "  309.028,372.351 311.076,378.309 313.124,384.126 315.172,389.808 317.22,395.36 319.268,400.786 321.316,406.091 323.364,411.278 325.412,416.35 327.459,421.313 \n",
       "  329.507,426.169 331.555,430.922 333.603,435.574 335.651,440.129 337.699,444.59 339.747,448.96 341.795,453.241 343.843,457.436 345.891,461.547 347.939,465.577 \n",
       "  349.987,469.528 352.035,473.402 354.083,477.202 356.131,480.929 358.179,484.585 360.227,488.173 362.275,491.694 364.322,495.149 366.37,498.541 368.418,501.871 \n",
       "  370.466,505.141 372.514,508.351 374.562,511.505 376.61,514.602 378.658,517.645 380.706,520.634 382.754,523.572 384.802,526.459 386.85,529.296 388.898,532.084 \n",
       "  390.946,534.825 392.994,537.52 395.042,540.17 397.09,542.776 399.138,545.338 401.186,547.858 403.233,550.336 405.281,552.774 407.329,555.173 409.377,557.532 \n",
       "  411.425,559.854 413.473,562.138 415.521,564.386 417.569,566.598 419.617,568.776 421.665,570.919 423.713,573.028 425.761,575.105 427.809,577.149 429.857,579.162 \n",
       "  431.905,581.143 433.953,583.095 436.001,585.016 438.049,586.908 440.097,588.771 442.144,590.606 444.192,592.414 446.24,594.194 448.288,595.948 450.336,597.675 \n",
       "  452.384,599.376 454.432,601.053 456.48,602.704 458.528,604.331 460.576,605.934 462.624,607.513 464.672,609.07 466.72,610.603 468.768,612.114 470.816,613.603 \n",
       "  472.864,615.07 474.912,616.516 476.96,617.941 479.008,619.346 481.055,620.73 483.103,622.094 485.151,623.439 487.199,624.764 489.247,626.07 491.295,627.358 \n",
       "  493.343,628.627 495.391,629.878 497.439,631.111 499.487,632.326 501.535,633.524 503.583,634.705 505.631,635.869 507.679,637.017 509.727,638.148 511.775,639.263 \n",
       "  513.823,640.362 515.871,641.446 517.918,642.514 519.966,643.567 522.014,644.605 524.062,645.628 526.11,646.637 528.158,647.631 530.206,648.611 532.254,649.577 \n",
       "  534.302,650.53 536.35,651.468 538.398,652.394 540.446,653.306 542.494,654.205 544.542,655.091 546.59,655.965 548.638,656.826 550.686,657.674 552.734,658.511 \n",
       "  554.782,659.335 556.829,660.147 558.877,660.948 560.925,661.737 562.973,662.514 565.021,663.281 567.069,664.036 569.117,664.78 571.165,665.513 573.213,666.235 \n",
       "  575.261,666.946 577.309,667.648 579.357,668.338 581.405,669.019 583.453,669.689 585.501,670.349 587.549,671 589.597,671.64 591.645,672.271 593.693,672.892 \n",
       "  595.74,673.504 597.788,674.106 599.836,674.7 601.884,675.284 603.932,675.859 605.98,676.425 608.028,676.982 610.076,677.531 612.124,678.071 614.172,678.602 \n",
       "  616.22,679.125 618.268,679.639 620.316,680.145 622.364,680.644 624.412,681.133 626.46,681.615 628.508,682.089 630.556,682.555 632.604,683.014 634.651,683.465 \n",
       "  636.699,683.908 638.747,684.343 640.795,684.771 642.843,685.192 644.891,685.605 646.939,686.012 648.987,686.411 651.035,686.803 653.083,687.188 655.131,687.566 \n",
       "  657.179,687.937 659.227,688.301 661.275,688.659 663.323,689.01 665.371,689.354 667.419,689.692 669.467,690.023 671.515,690.348 673.562,690.667 675.61,690.979 \n",
       "  677.658,691.285 679.706,691.585 681.754,691.879 683.802,692.166 685.85,692.448 687.898,692.724 689.946,692.993 691.994,693.257 694.042,693.515 696.09,693.768 \n",
       "  698.138,694.015 700.186,694.256 702.234,694.491 704.282,694.721 706.33,694.946 708.378,695.165 710.425,695.378 712.473,695.587 714.521,695.79 716.569,695.987 \n",
       "  718.617,696.18 720.665,696.367 722.713,696.55 724.761,696.727 726.809,696.899 728.857,697.066 730.905,697.228 732.953,697.386 735.001,697.538 737.049,697.686 \n",
       "  739.097,697.829 741.145,697.967 743.193,698.101 745.241,698.229 747.289,698.354 749.336,698.473 751.384,698.588 753.432,698.699 755.48,698.805 757.528,698.906 \n",
       "  759.576,699.004 761.624,699.096 763.672,699.185 765.72,699.269 767.768,699.349 769.816,699.425 771.864,699.497 773.912,699.564 775.96,699.627 778.008,699.686 \n",
       "  780.056,699.741 782.104,699.793 784.152,699.84 786.2,699.883 788.247,699.922 790.295,699.957 792.343,699.989 794.391,700.016 796.439,700.04 798.487,700.06 \n",
       "  800.535,700.076 802.583,700.088 804.631,700.097 806.679,700.102 808.727,700.103 810.775,700.101 812.823,700.095 814.871,700.086 816.919,700.073 818.967,700.057 \n",
       "  821.015,700.037 823.063,700.013 825.111,699.987 827.158,699.956 829.206,699.923 831.254,699.886 833.302,699.846 835.35,699.802 837.398,699.755 839.446,699.705 \n",
       "  841.494,699.652 843.542,699.595 845.59,699.535 847.638,699.472 849.686,699.406 851.734,699.337 853.782,699.265 855.83,699.189 857.878,699.111 859.926,699.029 \n",
       "  861.974,698.945 864.021,698.857 866.069,698.767 868.117,698.673 870.165,698.577 872.213,698.478 874.261,698.376 876.309,698.271 878.357,698.163 880.405,698.052 \n",
       "  882.453,697.939 884.501,697.823 886.549,697.704 888.597,697.582 890.645,697.458 892.693,697.331 894.741,697.201 896.789,697.069 898.837,696.934 900.885,696.796 \n",
       "  902.932,696.656 904.98,696.513 907.028,696.367 909.076,696.219 911.124,696.069 913.172,695.916 915.22,695.76 917.268,695.602 919.316,695.442 921.364,695.279 \n",
       "  923.412,695.114 925.46,694.946 927.508,694.776 929.556,694.604 931.604,694.429 933.652,694.252 935.7,694.072 937.748,693.891 939.796,693.707 941.843,693.52 \n",
       "  943.891,693.332 945.939,693.141 947.987,692.948 950.035,692.753 952.083,692.556 954.131,692.356 956.179,692.155 958.227,691.951 960.275,691.745 962.323,691.537 \n",
       "  964.371,691.327 966.419,691.115 968.467,690.901 970.515,690.685 972.563,690.466 974.611,690.246 976.659,690.024 978.707,689.8 980.754,689.574 982.802,689.346 \n",
       "  984.85,689.116 986.898,688.884 988.946,688.65 990.994,688.414 993.042,688.177 995.09,687.938 997.138,687.696 999.186,687.453 1001.23,687.209 1003.28,686.962 \n",
       "  1005.33,686.714 1007.38,686.464 1009.43,686.212 1011.47,685.958 1013.52,685.703 1015.57,685.446 1017.62,685.187 1019.67,684.927 1021.71,684.665 1023.76,684.401 \n",
       "  1025.81,684.136 1027.86,683.869 1029.91,683.601 1031.95,683.331 1034,683.059 1036.05,682.786 1038.1,682.511 1040.14,682.235 1042.19,681.957 1044.24,681.678 \n",
       "  1046.29,681.398 1048.34,681.115 1050.38,680.832 1052.43,680.547 1054.48,680.26 1056.53,679.973 1058.58,679.683 1060.62,679.393 1062.67,679.101 1064.72,678.808 \n",
       "  1066.77,678.513 1068.82,678.217 1070.86,677.92 1072.91,677.621 1074.96,677.321 1077.01,677.02 1079.06,676.718 1081.1,676.414 1083.15,676.11 1085.2,675.804 \n",
       "  1087.25,675.496 1089.3,675.188 1091.34,674.879 1093.39,674.568 1095.44,674.256 1097.49,673.943 1099.54,673.629 1101.58,673.314 1103.63,672.998 1105.68,672.681 \n",
       "  1107.73,672.362 1109.78,672.043 1111.82,671.723 1113.87,671.401 1115.92,671.079 1117.97,670.756 1120.01,670.431 1122.06,670.106 1124.11,669.78 1126.16,669.453 \n",
       "  1128.21,669.125 1130.25,668.796 1132.3,668.466 1134.35,668.136 1136.4,667.804 1138.45,667.472 1140.49,667.139 1142.54,666.805 1144.59,666.471 1146.64,666.135 \n",
       "  1148.69,665.799 1150.73,665.462 1152.78,665.125 1154.83,664.786 1156.88,664.447 1158.93,664.107 1160.97,663.767 1163.02,663.426 1165.07,663.084 1167.12,662.742 \n",
       "  1169.17,662.399 1171.21,662.056 1173.26,661.712 1175.31,661.367 1177.36,661.022 1179.41,660.676 1181.45,660.33 1183.5,659.983 1185.55,659.636 1187.6,659.289 \n",
       "  1189.65,658.941 1191.69,658.592 1193.74,658.243 1195.79,657.894 1197.84,657.544 1199.88,657.194 1201.93,656.844 1203.98,656.493 1206.03,656.142 1208.08,655.79 \n",
       "  1210.12,655.439 1212.17,655.087 1214.22,654.735 1216.27,654.382 1218.32,654.029 1220.36,653.677 1222.41,653.323 1224.46,652.97 1226.51,652.617 1228.56,652.263 \n",
       "  1230.6,651.91 1232.65,651.556 1234.7,651.202 1236.75,650.848 1238.8,650.494 1240.84,650.14 1242.89,649.786 1244.94,649.432 1246.99,649.078 1249.04,648.724 \n",
       "  1251.08,648.37 1253.13,648.016 1255.18,647.662 1257.23,647.308 1259.28,646.955 1261.32,646.601 1263.37,646.248 1265.42,645.895 1267.47,645.542 1269.51,645.189 \n",
       "  1271.56,644.837 1273.61,644.485 1275.66,644.133 1277.71,643.781 1279.75,643.429 1281.8,643.078 1283.85,642.728 1285.9,642.377 1287.95,642.027 1289.99,641.678 \n",
       "  1292.04,641.328 1294.09,640.98 1296.14,640.631 1298.19,640.284 1300.23,639.936 1302.28,639.59 1304.33,639.243 1306.38,638.898 1308.43,638.552 1310.47,638.208 \n",
       "  1312.52,637.864 1314.57,637.521 1316.62,637.178 1318.67,636.836 1320.71,636.495 1322.76,636.154 1324.81,635.814 1326.86,635.475 1328.91,635.137 1330.95,634.8 \n",
       "  1333,634.463 1335.05,634.127 1337.1,633.792 1339.15,633.458 1341.19,633.125 1343.24,632.793 1345.29,632.462 1347.34,632.131 1349.38,631.802 1351.43,631.474 \n",
       "  1353.48,631.147 1355.53,630.82 1357.58,630.495 1359.62,630.171 1361.67,629.849 1363.72,629.527 1365.77,629.206 1367.82,628.887 1369.86,628.569 1371.91,628.252 \n",
       "  1373.96,627.937 1376.01,627.622 1378.06,627.31 1380.1,626.998 1382.15,626.688 1384.2,626.379 1386.25,626.072 1388.3,625.766 1390.34,625.461 1392.39,625.158 \n",
       "  1394.44,624.857 1396.49,624.557 1398.54,624.259 1400.58,623.962 1402.63,623.667 1404.68,623.373 1406.73,623.081 1408.78,622.791 1410.82,622.503 1412.87,622.216 \n",
       "  1414.92,621.931 1416.97,621.648 1419.02,621.367 1421.06,621.088 1423.11,620.81 1425.16,620.535 1427.21,620.261 1429.25,619.99 1431.3,619.72 1433.35,619.452 \n",
       "  1435.4,619.187 1437.45,618.923 1439.49,618.662 1441.54,618.403 1443.59,618.146 1445.64,617.891 1447.69,617.638 1449.73,617.388 1451.78,617.14 1453.83,616.894 \n",
       "  1455.88,616.65 1457.93,616.409 1459.97,616.171 1462.02,615.934 1464.07,615.701 1466.12,615.469 1468.17,615.241 1470.21,615.014 1472.26,614.791 1474.31,614.57 \n",
       "  1476.36,614.351 1478.41,614.136 1480.45,613.923 1482.5,613.713 1484.55,613.505 1486.6,613.301 1488.65,613.099 1490.69,612.9 1492.74,612.704 1494.79,612.511 \n",
       "  1496.84,612.321 1498.88,612.134 1500.93,611.95 1502.98,611.769 1505.03,611.591 1507.08,611.416 1509.12,611.245 1511.17,611.077 1513.22,610.912 1515.27,610.75 \n",
       "  1517.32,610.592 1519.36,610.437 1521.41,610.285 1523.46,610.137 1525.51,609.992 1527.56,609.851 1529.6,609.713 1531.65,609.579 1533.7,609.448 1535.75,609.322 \n",
       "  1537.8,609.198 1539.84,609.079 1541.89,608.963 1543.94,608.851 1545.99,608.743 1548.04,608.639 1550.08,608.539 1552.13,608.443 1554.18,608.351 1556.23,608.262 \n",
       "  1558.28,608.178 1560.32,608.098 1562.37,608.022 1564.42,607.951 1566.47,607.883 1568.52,607.82 1570.56,607.761 1572.61,607.707 1574.66,607.657 1576.71,607.611 \n",
       "  1578.75,607.57 1580.8,607.533 1582.85,607.501 1584.9,607.474 1586.95,607.451 1588.99,607.433 1591.04,607.42 1593.09,607.411 1595.14,607.407 1597.19,607.409 \n",
       "  1599.23,607.415 1601.28,607.426 1603.33,607.442 1605.38,607.463 1607.43,607.489 1609.47,607.521 1611.52,607.557 1613.57,607.599 1615.62,607.646 1617.67,607.699 \n",
       "  1619.71,607.756 1621.76,607.82 1623.81,607.888 1625.86,607.963 1627.91,608.042 1629.95,608.128 1632,608.219 1634.05,608.316 1636.1,608.418 1638.15,608.527 \n",
       "  1640.19,608.641 1642.24,608.761 1644.29,608.887 1646.34,609.02 1648.39,609.158 1650.43,609.302 1652.48,609.453 1654.53,609.61 1656.58,609.773 1658.62,609.942 \n",
       "  1660.67,610.118 1662.72,610.3 1664.77,610.488 1666.82,610.684 1668.86,610.885 1670.91,611.094 1672.96,611.309 1675.01,611.531 1677.06,611.759 1679.1,611.995 \n",
       "  1681.15,612.237 1683.2,612.487 1685.25,612.743 1687.3,613.006 1689.34,613.277 1691.39,613.555 1693.44,613.84 1695.49,614.132 1697.54,614.432 1699.58,614.739 \n",
       "  1701.63,615.054 1703.68,615.376 1705.73,615.706 1707.78,616.043 1709.82,616.388 1711.87,616.741 1713.92,617.102 1715.97,617.471 1718.02,617.847 1720.06,618.232 \n",
       "  1722.11,618.625 1724.16,619.026 1726.21,619.435 1728.26,619.852 1730.3,620.277 1732.35,620.711 1734.4,621.154 1736.45,621.605 1738.49,622.064 1740.54,622.532 \n",
       "  1742.59,623.009 1744.64,623.495 1746.69,623.989 1748.73,624.493 1750.78,625.005 1752.83,625.526 1754.88,626.057 1756.93,626.596 1758.97,627.145 1761.02,627.703 \n",
       "  1763.07,628.27 1765.12,628.847 1767.17,629.434 1769.21,630.029 1771.26,630.635 1773.31,631.25 1775.36,631.875 1777.41,632.51 1779.45,633.154 1781.5,633.809 \n",
       "  1783.55,634.474 1785.6,635.148 1787.65,635.833 1789.69,636.528 1791.74,637.234 1793.79,637.95 1795.84,638.676 1797.89,639.413 1799.93,640.16 1801.98,640.918 \n",
       "  1804.03,641.687 1806.08,642.467 1808.12,643.257 1810.17,644.059 1812.22,644.871 1814.27,645.695 1816.32,646.53 1818.36,647.376 1820.41,648.233 1822.46,649.102 \n",
       "  1824.51,649.982 1826.56,650.874 1828.6,651.778 1830.65,652.693 1832.7,653.62 1834.75,654.559 1836.8,655.51 1838.84,656.472 1840.89,657.447 1842.94,658.434 \n",
       "  1844.99,659.434 1847.04,660.445 1849.08,661.469 1851.13,662.506 1853.18,663.555 1855.23,664.617 1857.28,665.691 1859.32,666.779 1861.37,667.879 1863.42,668.992 \n",
       "  1865.47,670.118 1867.52,671.257 1869.56,672.41 1871.61,673.576 1873.66,674.755 1875.71,675.947 1877.76,677.153 1879.8,678.373 1881.85,679.607 1883.9,680.854 \n",
       "  1885.95,682.115 1887.99,683.39 1890.04,684.679 1892.09,685.982 1894.14,687.3 1896.19,688.631 1898.23,689.977 1900.28,691.338 1902.33,692.713 1904.38,694.103 \n",
       "  1906.43,695.507 1908.47,696.926 1910.52,698.36 1912.57,699.809 1914.62,701.274 1916.67,702.753 1918.71,704.247 1920.76,705.757 1922.81,707.282 1924.86,708.823 \n",
       "  1926.91,710.379 1928.95,711.952 1931,713.539 1933.05,715.143 1935.1,716.763 1937.15,718.398 1939.19,720.05 1941.24,721.718 1943.29,723.402 1945.34,725.103 \n",
       "  1947.39,726.82 1949.43,728.554 1951.48,730.305 1953.53,732.072 1955.58,733.856 1957.63,735.657 1959.67,737.475 1961.72,739.311 1963.77,741.163 1965.82,743.033 \n",
       "  1967.86,744.92 1969.91,746.825 1971.96,748.748 1974.01,750.688 1976.06,752.646 1978.1,754.622 1980.15,756.616 1982.2,758.628 1984.25,760.659 1986.3,762.708 \n",
       "  1988.34,764.775 1990.39,766.86 1992.44,768.965 1994.49,771.088 1996.54,773.23 1998.58,775.39 2000.63,777.57 2002.68,779.769 2004.73,781.987 2006.78,784.225 \n",
       "  2008.82,786.482 2010.87,788.759 2012.92,791.055 2014.97,793.371 2017.02,795.707 2019.06,798.064 2021.11,800.44 2023.16,802.836 2025.21,805.253 2027.26,807.691 \n",
       "  2029.3,810.149 2031.35,812.627 2033.4,815.127 2035.45,817.647 2037.49,820.189 2039.54,822.752 2041.59,825.336 2043.64,827.942 2045.69,830.569 2047.73,833.218 \n",
       "  2049.78,835.889 2051.83,838.582 2053.88,841.297 2055.93,844.035 2057.97,846.795 2060.02,849.577 2062.07,852.382 2064.12,855.211 2066.17,858.062 2068.21,860.936 \n",
       "  2070.26,863.834 2072.31,866.756 2074.36,869.701 2076.41,872.67 2078.45,875.663 2080.5,878.68 2082.55,881.722 2084.6,884.788 2086.65,887.88 2088.69,890.996 \n",
       "  2090.74,894.138 2092.79,897.305 2094.84,900.497 2096.89,903.716 2098.93,906.961 2100.98,910.232 2103.03,913.53 2105.08,916.855 2107.13,920.207 2109.17,923.586 \n",
       "  2111.22,926.993 2113.27,930.429 2115.32,933.892 2117.36,937.384 2119.41,940.905 2121.46,944.456 2123.51,948.036 2125.56,951.647 2127.6,955.287 2129.65,958.959 \n",
       "  2131.7,962.662 2133.75,966.396 2135.8,970.163 2137.84,973.963 2139.89,977.795 2141.94,981.662 2143.99,985.562 2146.04,989.498 2148.08,993.468 2150.13,997.475 \n",
       "  2152.18,1001.52 2154.23,1005.6 2156.28,1009.72 2158.32,1013.88 2160.37,1018.07 2162.42,1022.31 2164.47,1026.59 2166.52,1030.91 2168.56,1035.28 2170.61,1039.69 \n",
       "  2172.66,1044.14 2174.71,1048.65 2176.76,1053.2 2178.8,1057.8 2180.85,1062.45 2182.9,1067.15 2184.95,1071.91 2187,1076.72 2189.04,1081.58 2191.09,1086.51 \n",
       "  2193.14,1091.5 2195.19,1096.55 2197.23,1101.67 2199.28,1106.85 2201.33,1112.11 2203.38,1117.44 2205.43,1122.84 2207.47,1128.33 2209.52,1133.89 2211.57,1139.54 \n",
       "  2213.62,1145.28 2215.67,1151.12 2217.71,1157.05 2219.76,1163.09 2221.81,1169.23 2223.86,1175.49 2225.91,1181.87 2227.95,1188.37 2230,1195 2232.05,1201.77 \n",
       "  2234.1,1208.69 2236.15,1215.76 2238.19,1223 2240.24,1230.41 2242.29,1237.99 2244.34,1245.77 2246.39,1253.75 2248.43,1261.95 2250.48,1270.36 2252.53,1279.02 \n",
       "  2254.58,1287.91 2256.63,1297.06 2258.67,1306.48 2260.72,1316.17 2262.77,1326.12 2264.82,1336.34 2266.87,1346.82 2268.91,1357.53 2270.96,1368.42 2273.01,1379.43 \n",
       "  2275.06,1390.44 2277.1,1401.3 2279.15,1411.78 2281.2,1421.56 2283.25,1430.23 2285.3,1437.29 2287.34,1442.25 2289.39,1444.91 2291.44,1445.72 \n",
       "  \"/>\n",
       "<path clip-path=\"url(#clip540)\" d=\"\n",
       "M2011.46 198.898 L2280.54 198.898 L2280.54 95.2176 L2011.46 95.2176  Z\n",
       "  \" fill=\"#ffffff\" fill-rule=\"evenodd\" fill-opacity=\"1\"/>\n",
       "<polyline clip-path=\"url(#clip540)\" style=\"stroke:#000000; stroke-linecap:round; stroke-linejoin:round; stroke-width:4; stroke-opacity:1; fill:none\" points=\"\n",
       "  2011.46,198.898 2280.54,198.898 2280.54,95.2176 2011.46,95.2176 2011.46,198.898 \n",
       "  \"/>\n",
       "<polyline clip-path=\"url(#clip540)\" style=\"stroke:#009af9; stroke-linecap:round; stroke-linejoin:round; stroke-width:4; stroke-opacity:1; fill:none\" points=\"\n",
       "  2035.53,147.058 2179.97,147.058 \n",
       "  \"/>\n",
       "<path clip-path=\"url(#clip540)\" d=\"M2217.88 166.745 Q2216.07 171.375 2214.36 172.787 Q2212.65 174.199 2209.78 174.199 L2206.38 174.199 L2206.38 170.634 L2208.88 170.634 Q2210.63 170.634 2211.61 169.8 Q2212.58 168.967 2213.76 165.865 L2214.52 163.921 L2204.04 138.412 L2208.55 138.412 L2216.65 158.689 L2224.76 138.412 L2229.27 138.412 L2217.88 166.745 Z\" fill=\"#000000\" fill-rule=\"evenodd\" fill-opacity=\"1\" /><path clip-path=\"url(#clip540)\" d=\"M2236.56 160.402 L2244.2 160.402 L2244.2 134.037 L2235.89 135.703 L2235.89 131.444 L2244.15 129.778 L2248.83 129.778 L2248.83 160.402 L2256.47 160.402 L2256.47 164.338 L2236.56 164.338 L2236.56 160.402 Z\" fill=\"#000000\" fill-rule=\"evenodd\" fill-opacity=\"1\" /></svg>\n"
      ]
     },
     "execution_count": 177,
     "metadata": {},
     "output_type": "execute_result"
    }
   ],
   "source": [
    "plot(exp.(l_strains_ell_list .- maximum(l_strains_ell_list)))"
   ]
  },
  {
   "cell_type": "code",
   "execution_count": null,
   "id": "42c3fb8b-7b2e-485d-8f32-0faafa85fda0",
   "metadata": {},
   "outputs": [],
   "source": []
  },
  {
   "cell_type": "code",
   "execution_count": null,
   "id": "1bc07185-f219-44e7-bfcc-007fdfc1b9de",
   "metadata": {},
   "outputs": [],
   "source": []
  },
  {
   "cell_type": "markdown",
   "id": "a0688b4d-b8cd-4354-a225-7501a95092eb",
   "metadata": {},
   "source": [
    "### Maximum lod scores:"
   ]
  },
  {
   "cell_type": "code",
   "execution_count": 178,
   "id": "bce0ae26-6858-4f58-97d5-3546c020867e",
   "metadata": {},
   "outputs": [
    {
     "data": {
      "image/svg+xml": [
       "<?xml version=\"1.0\" encoding=\"utf-8\"?>\n",
       "<svg xmlns=\"http://www.w3.org/2000/svg\" xmlns:xlink=\"http://www.w3.org/1999/xlink\" width=\"600\" height=\"400\" viewBox=\"0 0 2400 1600\">\n",
       "<defs>\n",
       "  <clipPath id=\"clip580\">\n",
       "    <rect x=\"0\" y=\"0\" width=\"2400\" height=\"1600\"/>\n",
       "  </clipPath>\n",
       "</defs>\n",
       "<path clip-path=\"url(#clip580)\" d=\"\n",
       "M0 1600 L2400 1600 L2400 0 L0 0  Z\n",
       "  \" fill=\"#ffffff\" fill-rule=\"evenodd\" fill-opacity=\"1\"/>\n",
       "<defs>\n",
       "  <clipPath id=\"clip581\">\n",
       "    <rect x=\"480\" y=\"0\" width=\"1681\" height=\"1600\"/>\n",
       "  </clipPath>\n",
       "</defs>\n",
       "<path clip-path=\"url(#clip580)\" d=\"\n",
       "M199.283 1486.45 L2352.76 1486.45 L2352.76 47.2441 L199.283 47.2441  Z\n",
       "  \" fill=\"#ffffff\" fill-rule=\"evenodd\" fill-opacity=\"1\"/>\n",
       "<defs>\n",
       "  <clipPath id=\"clip582\">\n",
       "    <rect x=\"199\" y=\"47\" width=\"2154\" height=\"1440\"/>\n",
       "  </clipPath>\n",
       "</defs>\n",
       "<polyline clip-path=\"url(#clip582)\" style=\"stroke:#000000; stroke-linecap:round; stroke-linejoin:round; stroke-width:2; stroke-opacity:0.1; fill:none\" points=\"\n",
       "  211.742,1486.45 211.742,47.2441 \n",
       "  \"/>\n",
       "<polyline clip-path=\"url(#clip582)\" style=\"stroke:#000000; stroke-linecap:round; stroke-linejoin:round; stroke-width:2; stroke-opacity:0.1; fill:none\" points=\"\n",
       "  653.351,1486.45 653.351,47.2441 \n",
       "  \"/>\n",
       "<polyline clip-path=\"url(#clip582)\" style=\"stroke:#000000; stroke-linecap:round; stroke-linejoin:round; stroke-width:2; stroke-opacity:0.1; fill:none\" points=\"\n",
       "  1094.96,1486.45 1094.96,47.2441 \n",
       "  \"/>\n",
       "<polyline clip-path=\"url(#clip582)\" style=\"stroke:#000000; stroke-linecap:round; stroke-linejoin:round; stroke-width:2; stroke-opacity:0.1; fill:none\" points=\"\n",
       "  1536.57,1486.45 1536.57,47.2441 \n",
       "  \"/>\n",
       "<polyline clip-path=\"url(#clip582)\" style=\"stroke:#000000; stroke-linecap:round; stroke-linejoin:round; stroke-width:2; stroke-opacity:0.1; fill:none\" points=\"\n",
       "  1978.18,1486.45 1978.18,47.2441 \n",
       "  \"/>\n",
       "<polyline clip-path=\"url(#clip580)\" style=\"stroke:#000000; stroke-linecap:round; stroke-linejoin:round; stroke-width:4; stroke-opacity:1; fill:none\" points=\"\n",
       "  199.283,1486.45 2352.76,1486.45 \n",
       "  \"/>\n",
       "<polyline clip-path=\"url(#clip580)\" style=\"stroke:#000000; stroke-linecap:round; stroke-linejoin:round; stroke-width:4; stroke-opacity:1; fill:none\" points=\"\n",
       "  211.742,1486.45 211.742,1467.55 \n",
       "  \"/>\n",
       "<polyline clip-path=\"url(#clip580)\" style=\"stroke:#000000; stroke-linecap:round; stroke-linejoin:round; stroke-width:4; stroke-opacity:1; fill:none\" points=\"\n",
       "  653.351,1486.45 653.351,1467.55 \n",
       "  \"/>\n",
       "<polyline clip-path=\"url(#clip580)\" style=\"stroke:#000000; stroke-linecap:round; stroke-linejoin:round; stroke-width:4; stroke-opacity:1; fill:none\" points=\"\n",
       "  1094.96,1486.45 1094.96,1467.55 \n",
       "  \"/>\n",
       "<polyline clip-path=\"url(#clip580)\" style=\"stroke:#000000; stroke-linecap:round; stroke-linejoin:round; stroke-width:4; stroke-opacity:1; fill:none\" points=\"\n",
       "  1536.57,1486.45 1536.57,1467.55 \n",
       "  \"/>\n",
       "<polyline clip-path=\"url(#clip580)\" style=\"stroke:#000000; stroke-linecap:round; stroke-linejoin:round; stroke-width:4; stroke-opacity:1; fill:none\" points=\"\n",
       "  1978.18,1486.45 1978.18,1467.55 \n",
       "  \"/>\n",
       "<path clip-path=\"url(#clip580)\" d=\"M189.126 1517.37 Q185.515 1517.37 183.686 1520.93 Q181.881 1524.47 181.881 1531.6 Q181.881 1538.71 183.686 1542.27 Q185.515 1545.82 189.126 1545.82 Q192.76 1545.82 194.566 1542.27 Q196.395 1538.71 196.395 1531.6 Q196.395 1524.47 194.566 1520.93 Q192.76 1517.37 189.126 1517.37 M189.126 1513.66 Q194.936 1513.66 197.992 1518.27 Q201.071 1522.85 201.071 1531.6 Q201.071 1540.33 197.992 1544.94 Q194.936 1549.52 189.126 1549.52 Q183.316 1549.52 180.237 1544.94 Q177.182 1540.33 177.182 1531.6 Q177.182 1522.85 180.237 1518.27 Q183.316 1513.66 189.126 1513.66 Z\" fill=\"#000000\" fill-rule=\"evenodd\" fill-opacity=\"1\" /><path clip-path=\"url(#clip580)\" d=\"M209.288 1542.97 L214.172 1542.97 L214.172 1548.85 L209.288 1548.85 L209.288 1542.97 Z\" fill=\"#000000\" fill-rule=\"evenodd\" fill-opacity=\"1\" /><path clip-path=\"url(#clip580)\" d=\"M234.357 1517.37 Q230.746 1517.37 228.918 1520.93 Q227.112 1524.47 227.112 1531.6 Q227.112 1538.71 228.918 1542.27 Q230.746 1545.82 234.357 1545.82 Q237.992 1545.82 239.797 1542.27 Q241.626 1538.71 241.626 1531.6 Q241.626 1524.47 239.797 1520.93 Q237.992 1517.37 234.357 1517.37 M234.357 1513.66 Q240.168 1513.66 243.223 1518.27 Q246.302 1522.85 246.302 1531.6 Q246.302 1540.33 243.223 1544.94 Q240.168 1549.52 234.357 1549.52 Q228.547 1549.52 225.469 1544.94 Q222.413 1540.33 222.413 1531.6 Q222.413 1522.85 225.469 1518.27 Q228.547 1513.66 234.357 1513.66 Z\" fill=\"#000000\" fill-rule=\"evenodd\" fill-opacity=\"1\" /><path clip-path=\"url(#clip580)\" d=\"M625.087 1544.91 L641.406 1544.91 L641.406 1548.85 L619.462 1548.85 L619.462 1544.91 Q622.124 1542.16 626.707 1537.53 Q631.314 1532.88 632.494 1531.53 Q634.74 1529.01 635.619 1527.27 Q636.522 1525.51 636.522 1523.82 Q636.522 1521.07 634.578 1519.33 Q632.657 1517.6 629.555 1517.6 Q627.356 1517.6 624.902 1518.36 Q622.471 1519.13 619.694 1520.68 L619.694 1515.95 Q622.518 1514.82 624.971 1514.24 Q627.425 1513.66 629.462 1513.66 Q634.832 1513.66 638.027 1516.35 Q641.221 1519.03 641.221 1523.52 Q641.221 1525.65 640.411 1527.57 Q639.624 1529.47 637.518 1532.07 Q636.939 1532.74 633.837 1535.95 Q630.735 1539.15 625.087 1544.91 Z\" fill=\"#000000\" fill-rule=\"evenodd\" fill-opacity=\"1\" /><path clip-path=\"url(#clip580)\" d=\"M651.221 1542.97 L656.105 1542.97 L656.105 1548.85 L651.221 1548.85 L651.221 1542.97 Z\" fill=\"#000000\" fill-rule=\"evenodd\" fill-opacity=\"1\" /><path clip-path=\"url(#clip580)\" d=\"M666.337 1514.29 L684.693 1514.29 L684.693 1518.22 L670.619 1518.22 L670.619 1526.7 Q671.638 1526.35 672.656 1526.19 Q673.675 1526 674.693 1526 Q680.48 1526 683.86 1529.17 Q687.24 1532.34 687.24 1537.76 Q687.24 1543.34 683.767 1546.44 Q680.295 1549.52 673.976 1549.52 Q671.8 1549.52 669.531 1549.15 Q667.286 1548.78 664.879 1548.04 L664.879 1543.34 Q666.962 1544.47 669.184 1545.03 Q671.406 1545.58 673.883 1545.58 Q677.888 1545.58 680.226 1543.48 Q682.564 1541.37 682.564 1537.76 Q682.564 1534.15 680.226 1532.04 Q677.888 1529.94 673.883 1529.94 Q672.008 1529.94 670.133 1530.35 Q668.281 1530.77 666.337 1531.65 L666.337 1514.29 Z\" fill=\"#000000\" fill-rule=\"evenodd\" fill-opacity=\"1\" /><path clip-path=\"url(#clip580)\" d=\"M1062.12 1514.29 L1080.48 1514.29 L1080.48 1518.22 L1066.41 1518.22 L1066.41 1526.7 Q1067.43 1526.35 1068.44 1526.19 Q1069.46 1526 1070.48 1526 Q1076.27 1526 1079.65 1529.17 Q1083.03 1532.34 1083.03 1537.76 Q1083.03 1543.34 1079.55 1546.44 Q1076.08 1549.52 1069.76 1549.52 Q1067.59 1549.52 1065.32 1549.15 Q1063.07 1548.78 1060.67 1548.04 L1060.67 1543.34 Q1062.75 1544.47 1064.97 1545.03 Q1067.19 1545.58 1069.67 1545.58 Q1073.68 1545.58 1076.01 1543.48 Q1078.35 1541.37 1078.35 1537.76 Q1078.35 1534.15 1076.01 1532.04 Q1073.68 1529.94 1069.67 1529.94 Q1067.8 1529.94 1065.92 1530.35 Q1064.07 1530.77 1062.12 1531.65 L1062.12 1514.29 Z\" fill=\"#000000\" fill-rule=\"evenodd\" fill-opacity=\"1\" /><path clip-path=\"url(#clip580)\" d=\"M1092.24 1542.97 L1097.12 1542.97 L1097.12 1548.85 L1092.24 1548.85 L1092.24 1542.97 Z\" fill=\"#000000\" fill-rule=\"evenodd\" fill-opacity=\"1\" /><path clip-path=\"url(#clip580)\" d=\"M1117.31 1517.37 Q1113.7 1517.37 1111.87 1520.93 Q1110.06 1524.47 1110.06 1531.6 Q1110.06 1538.71 1111.87 1542.27 Q1113.7 1545.82 1117.31 1545.82 Q1120.94 1545.82 1122.75 1542.27 Q1124.58 1538.71 1124.58 1531.6 Q1124.58 1524.47 1122.75 1520.93 Q1120.94 1517.37 1117.31 1517.37 M1117.31 1513.66 Q1123.12 1513.66 1126.17 1518.27 Q1129.25 1522.85 1129.25 1531.6 Q1129.25 1540.33 1126.17 1544.94 Q1123.12 1549.52 1117.31 1549.52 Q1111.5 1549.52 1108.42 1544.94 Q1105.36 1540.33 1105.36 1531.6 Q1105.36 1522.85 1108.42 1518.27 Q1111.5 1513.66 1117.31 1513.66 Z\" fill=\"#000000\" fill-rule=\"evenodd\" fill-opacity=\"1\" /><path clip-path=\"url(#clip580)\" d=\"M1502.89 1514.29 L1525.11 1514.29 L1525.11 1516.28 L1512.56 1548.85 L1507.68 1548.85 L1519.49 1518.22 L1502.89 1518.22 L1502.89 1514.29 Z\" fill=\"#000000\" fill-rule=\"evenodd\" fill-opacity=\"1\" /><path clip-path=\"url(#clip580)\" d=\"M1534.23 1542.97 L1539.12 1542.97 L1539.12 1548.85 L1534.23 1548.85 L1534.23 1542.97 Z\" fill=\"#000000\" fill-rule=\"evenodd\" fill-opacity=\"1\" /><path clip-path=\"url(#clip580)\" d=\"M1549.35 1514.29 L1567.7 1514.29 L1567.7 1518.22 L1553.63 1518.22 L1553.63 1526.7 Q1554.65 1526.35 1555.67 1526.19 Q1556.68 1526 1557.7 1526 Q1563.49 1526 1566.87 1529.17 Q1570.25 1532.34 1570.25 1537.76 Q1570.25 1543.34 1566.78 1546.44 Q1563.3 1549.52 1556.99 1549.52 Q1554.81 1549.52 1552.54 1549.15 Q1550.3 1548.78 1547.89 1548.04 L1547.89 1543.34 Q1549.97 1544.47 1552.19 1545.03 Q1554.42 1545.58 1556.89 1545.58 Q1560.9 1545.58 1563.24 1543.48 Q1565.57 1541.37 1565.57 1537.76 Q1565.57 1534.15 1563.24 1532.04 Q1560.9 1529.94 1556.89 1529.94 Q1555.02 1529.94 1553.14 1530.35 Q1551.29 1530.77 1549.35 1531.65 L1549.35 1514.29 Z\" fill=\"#000000\" fill-rule=\"evenodd\" fill-opacity=\"1\" /><path clip-path=\"url(#clip580)\" d=\"M1930.25 1544.91 L1937.89 1544.91 L1937.89 1518.55 L1929.58 1520.21 L1929.58 1515.95 L1937.84 1514.29 L1942.52 1514.29 L1942.52 1544.91 L1950.16 1544.91 L1950.16 1548.85 L1930.25 1548.85 L1930.25 1544.91 Z\" fill=\"#000000\" fill-rule=\"evenodd\" fill-opacity=\"1\" /><path clip-path=\"url(#clip580)\" d=\"M1969.6 1517.37 Q1965.99 1517.37 1964.16 1520.93 Q1962.36 1524.47 1962.36 1531.6 Q1962.36 1538.71 1964.16 1542.27 Q1965.99 1545.82 1969.6 1545.82 Q1973.24 1545.82 1975.04 1542.27 Q1976.87 1538.71 1976.87 1531.6 Q1976.87 1524.47 1975.04 1520.93 Q1973.24 1517.37 1969.6 1517.37 M1969.6 1513.66 Q1975.41 1513.66 1978.47 1518.27 Q1981.55 1522.85 1981.55 1531.6 Q1981.55 1540.33 1978.47 1544.94 Q1975.41 1549.52 1969.6 1549.52 Q1963.79 1549.52 1960.71 1544.94 Q1957.66 1540.33 1957.66 1531.6 Q1957.66 1522.85 1960.71 1518.27 Q1963.79 1513.66 1969.6 1513.66 Z\" fill=\"#000000\" fill-rule=\"evenodd\" fill-opacity=\"1\" /><path clip-path=\"url(#clip580)\" d=\"M1989.76 1542.97 L1994.65 1542.97 L1994.65 1548.85 L1989.76 1548.85 L1989.76 1542.97 Z\" fill=\"#000000\" fill-rule=\"evenodd\" fill-opacity=\"1\" /><path clip-path=\"url(#clip580)\" d=\"M2014.83 1517.37 Q2011.22 1517.37 2009.39 1520.93 Q2007.59 1524.47 2007.59 1531.6 Q2007.59 1538.71 2009.39 1542.27 Q2011.22 1545.82 2014.83 1545.82 Q2018.47 1545.82 2020.27 1542.27 Q2022.1 1538.71 2022.1 1531.6 Q2022.1 1524.47 2020.27 1520.93 Q2018.47 1517.37 2014.83 1517.37 M2014.83 1513.66 Q2020.64 1513.66 2023.7 1518.27 Q2026.78 1522.85 2026.78 1531.6 Q2026.78 1540.33 2023.7 1544.94 Q2020.64 1549.52 2014.83 1549.52 Q2009.02 1549.52 2005.94 1544.94 Q2002.89 1540.33 2002.89 1531.6 Q2002.89 1522.85 2005.94 1518.27 Q2009.02 1513.66 2014.83 1513.66 Z\" fill=\"#000000\" fill-rule=\"evenodd\" fill-opacity=\"1\" /><polyline clip-path=\"url(#clip582)\" style=\"stroke:#000000; stroke-linecap:round; stroke-linejoin:round; stroke-width:2; stroke-opacity:0.1; fill:none\" points=\"\n",
       "  199.283,1445.72 2352.76,1445.72 \n",
       "  \"/>\n",
       "<polyline clip-path=\"url(#clip582)\" style=\"stroke:#000000; stroke-linecap:round; stroke-linejoin:round; stroke-width:2; stroke-opacity:0.1; fill:none\" points=\"\n",
       "  199.283,1238.9 2352.76,1238.9 \n",
       "  \"/>\n",
       "<polyline clip-path=\"url(#clip582)\" style=\"stroke:#000000; stroke-linecap:round; stroke-linejoin:round; stroke-width:2; stroke-opacity:0.1; fill:none\" points=\"\n",
       "  199.283,1032.09 2352.76,1032.09 \n",
       "  \"/>\n",
       "<polyline clip-path=\"url(#clip582)\" style=\"stroke:#000000; stroke-linecap:round; stroke-linejoin:round; stroke-width:2; stroke-opacity:0.1; fill:none\" points=\"\n",
       "  199.283,825.271 2352.76,825.271 \n",
       "  \"/>\n",
       "<polyline clip-path=\"url(#clip582)\" style=\"stroke:#000000; stroke-linecap:round; stroke-linejoin:round; stroke-width:2; stroke-opacity:0.1; fill:none\" points=\"\n",
       "  199.283,618.456 2352.76,618.456 \n",
       "  \"/>\n",
       "<polyline clip-path=\"url(#clip582)\" style=\"stroke:#000000; stroke-linecap:round; stroke-linejoin:round; stroke-width:2; stroke-opacity:0.1; fill:none\" points=\"\n",
       "  199.283,411.641 2352.76,411.641 \n",
       "  \"/>\n",
       "<polyline clip-path=\"url(#clip582)\" style=\"stroke:#000000; stroke-linecap:round; stroke-linejoin:round; stroke-width:2; stroke-opacity:0.1; fill:none\" points=\"\n",
       "  199.283,204.827 2352.76,204.827 \n",
       "  \"/>\n",
       "<polyline clip-path=\"url(#clip580)\" style=\"stroke:#000000; stroke-linecap:round; stroke-linejoin:round; stroke-width:4; stroke-opacity:1; fill:none\" points=\"\n",
       "  199.283,1486.45 199.283,47.2441 \n",
       "  \"/>\n",
       "<polyline clip-path=\"url(#clip580)\" style=\"stroke:#000000; stroke-linecap:round; stroke-linejoin:round; stroke-width:4; stroke-opacity:1; fill:none\" points=\"\n",
       "  199.283,1445.72 218.181,1445.72 \n",
       "  \"/>\n",
       "<polyline clip-path=\"url(#clip580)\" style=\"stroke:#000000; stroke-linecap:round; stroke-linejoin:round; stroke-width:4; stroke-opacity:1; fill:none\" points=\"\n",
       "  199.283,1238.9 218.181,1238.9 \n",
       "  \"/>\n",
       "<polyline clip-path=\"url(#clip580)\" style=\"stroke:#000000; stroke-linecap:round; stroke-linejoin:round; stroke-width:4; stroke-opacity:1; fill:none\" points=\"\n",
       "  199.283,1032.09 218.181,1032.09 \n",
       "  \"/>\n",
       "<polyline clip-path=\"url(#clip580)\" style=\"stroke:#000000; stroke-linecap:round; stroke-linejoin:round; stroke-width:4; stroke-opacity:1; fill:none\" points=\"\n",
       "  199.283,825.271 218.181,825.271 \n",
       "  \"/>\n",
       "<polyline clip-path=\"url(#clip580)\" style=\"stroke:#000000; stroke-linecap:round; stroke-linejoin:round; stroke-width:4; stroke-opacity:1; fill:none\" points=\"\n",
       "  199.283,618.456 218.181,618.456 \n",
       "  \"/>\n",
       "<polyline clip-path=\"url(#clip580)\" style=\"stroke:#000000; stroke-linecap:round; stroke-linejoin:round; stroke-width:4; stroke-opacity:1; fill:none\" points=\"\n",
       "  199.283,411.641 218.181,411.641 \n",
       "  \"/>\n",
       "<polyline clip-path=\"url(#clip580)\" style=\"stroke:#000000; stroke-linecap:round; stroke-linejoin:round; stroke-width:4; stroke-opacity:1; fill:none\" points=\"\n",
       "  199.283,204.827 218.181,204.827 \n",
       "  \"/>\n",
       "<path clip-path=\"url(#clip580)\" d=\"M151.339 1431.51 Q147.728 1431.51 145.899 1435.08 Q144.093 1438.62 144.093 1445.75 Q144.093 1452.86 145.899 1456.42 Q147.728 1459.96 151.339 1459.96 Q154.973 1459.96 156.779 1456.42 Q158.607 1452.86 158.607 1445.75 Q158.607 1438.62 156.779 1435.08 Q154.973 1431.51 151.339 1431.51 M151.339 1427.81 Q157.149 1427.81 160.205 1432.42 Q163.283 1437 163.283 1445.75 Q163.283 1454.48 160.205 1459.08 Q157.149 1463.67 151.339 1463.67 Q145.529 1463.67 142.45 1459.08 Q139.394 1454.48 139.394 1445.75 Q139.394 1437 142.45 1432.42 Q145.529 1427.81 151.339 1427.81 Z\" fill=\"#000000\" fill-rule=\"evenodd\" fill-opacity=\"1\" /><path clip-path=\"url(#clip580)\" d=\"M85.0429 1252.25 L101.362 1252.25 L101.362 1256.18 L79.4179 1256.18 L79.4179 1252.25 Q82.0799 1249.49 86.6632 1244.86 Q91.2697 1240.21 92.4502 1238.87 Q94.6956 1236.34 95.5752 1234.61 Q96.478 1232.85 96.478 1231.16 Q96.478 1228.4 94.5336 1226.67 Q92.6123 1224.93 89.5104 1224.93 Q87.3114 1224.93 84.8577 1225.69 Q82.4271 1226.46 79.6494 1228.01 L79.6494 1223.29 Q82.4734 1222.15 84.9271 1221.57 Q87.3808 1221 89.4178 1221 Q94.7882 1221 97.9826 1223.68 Q101.177 1226.37 101.177 1230.86 Q101.177 1232.99 100.367 1234.91 Q99.5798 1236.81 97.4734 1239.4 Q96.8947 1240.07 93.7928 1243.29 Q90.691 1246.48 85.0429 1252.25 Z\" fill=\"#000000\" fill-rule=\"evenodd\" fill-opacity=\"1\" /><path clip-path=\"url(#clip580)\" d=\"M121.177 1224.7 Q117.566 1224.7 115.737 1228.26 Q113.932 1231.81 113.932 1238.94 Q113.932 1246.04 115.737 1249.61 Q117.566 1253.15 121.177 1253.15 Q124.811 1253.15 126.617 1249.61 Q128.445 1246.04 128.445 1238.94 Q128.445 1231.81 126.617 1228.26 Q124.811 1224.7 121.177 1224.7 M121.177 1221 Q126.987 1221 130.043 1225.6 Q133.121 1230.19 133.121 1238.94 Q133.121 1247.66 130.043 1252.27 Q126.987 1256.85 121.177 1256.85 Q115.367 1256.85 112.288 1252.27 Q109.233 1247.66 109.233 1238.94 Q109.233 1230.19 112.288 1225.6 Q115.367 1221 121.177 1221 Z\" fill=\"#000000\" fill-rule=\"evenodd\" fill-opacity=\"1\" /><path clip-path=\"url(#clip580)\" d=\"M151.339 1224.7 Q147.728 1224.7 145.899 1228.26 Q144.093 1231.81 144.093 1238.94 Q144.093 1246.04 145.899 1249.61 Q147.728 1253.15 151.339 1253.15 Q154.973 1253.15 156.779 1249.61 Q158.607 1246.04 158.607 1238.94 Q158.607 1231.81 156.779 1228.26 Q154.973 1224.7 151.339 1224.7 M151.339 1221 Q157.149 1221 160.205 1225.6 Q163.283 1230.19 163.283 1238.94 Q163.283 1247.66 160.205 1252.27 Q157.149 1256.85 151.339 1256.85 Q145.529 1256.85 142.45 1252.27 Q139.394 1247.66 139.394 1238.94 Q139.394 1230.19 142.45 1225.6 Q145.529 1221 151.339 1221 Z\" fill=\"#000000\" fill-rule=\"evenodd\" fill-opacity=\"1\" /><path clip-path=\"url(#clip580)\" d=\"M93.8623 1018.88 L82.0568 1037.33 L93.8623 1037.33 L93.8623 1018.88 M92.6354 1014.81 L98.515 1014.81 L98.515 1037.33 L103.446 1037.33 L103.446 1041.22 L98.515 1041.22 L98.515 1049.37 L93.8623 1049.37 L93.8623 1041.22 L78.2605 1041.22 L78.2605 1036.7 L92.6354 1014.81 Z\" fill=\"#000000\" fill-rule=\"evenodd\" fill-opacity=\"1\" /><path clip-path=\"url(#clip580)\" d=\"M121.177 1017.88 Q117.566 1017.88 115.737 1021.45 Q113.932 1024.99 113.932 1032.12 Q113.932 1039.23 115.737 1042.79 Q117.566 1046.33 121.177 1046.33 Q124.811 1046.33 126.617 1042.79 Q128.445 1039.23 128.445 1032.12 Q128.445 1024.99 126.617 1021.45 Q124.811 1017.88 121.177 1017.88 M121.177 1014.18 Q126.987 1014.18 130.043 1018.79 Q133.121 1023.37 133.121 1032.12 Q133.121 1040.85 130.043 1045.45 Q126.987 1050.04 121.177 1050.04 Q115.367 1050.04 112.288 1045.45 Q109.233 1040.85 109.233 1032.12 Q109.233 1023.37 112.288 1018.79 Q115.367 1014.18 121.177 1014.18 Z\" fill=\"#000000\" fill-rule=\"evenodd\" fill-opacity=\"1\" /><path clip-path=\"url(#clip580)\" d=\"M151.339 1017.88 Q147.728 1017.88 145.899 1021.45 Q144.093 1024.99 144.093 1032.12 Q144.093 1039.23 145.899 1042.79 Q147.728 1046.33 151.339 1046.33 Q154.973 1046.33 156.779 1042.79 Q158.607 1039.23 158.607 1032.12 Q158.607 1024.99 156.779 1021.45 Q154.973 1017.88 151.339 1017.88 M151.339 1014.18 Q157.149 1014.18 160.205 1018.79 Q163.283 1023.37 163.283 1032.12 Q163.283 1040.85 160.205 1045.45 Q157.149 1050.04 151.339 1050.04 Q145.529 1050.04 142.45 1045.45 Q139.394 1040.85 139.394 1032.12 Q139.394 1023.37 142.45 1018.79 Q145.529 1014.18 151.339 1014.18 Z\" fill=\"#000000\" fill-rule=\"evenodd\" fill-opacity=\"1\" /><path clip-path=\"url(#clip580)\" d=\"M91.5938 823.408 Q88.4456 823.408 86.5938 825.561 Q84.7651 827.713 84.7651 831.463 Q84.7651 835.19 86.5938 837.366 Q88.4456 839.519 91.5938 839.519 Q94.7419 839.519 96.5706 837.366 Q98.4224 835.19 98.4224 831.463 Q98.4224 827.713 96.5706 825.561 Q94.7419 823.408 91.5938 823.408 M100.876 808.755 L100.876 813.014 Q99.1169 812.181 97.3113 811.741 Q95.5289 811.301 93.7697 811.301 Q89.1401 811.301 86.6864 814.426 Q84.2558 817.551 83.9086 823.871 Q85.2743 821.857 87.3345 820.792 Q89.3947 819.704 91.8715 819.704 Q97.0798 819.704 100.089 822.875 Q103.121 826.023 103.121 831.463 Q103.121 836.787 99.9733 840.005 Q96.8252 843.222 91.5938 843.222 Q85.5984 843.222 82.4271 838.639 Q79.2559 834.033 79.2559 825.306 Q79.2559 817.111 83.1447 812.25 Q87.0336 807.366 93.5845 807.366 Q95.3437 807.366 97.1261 807.713 Q98.9317 808.061 100.876 808.755 Z\" fill=\"#000000\" fill-rule=\"evenodd\" fill-opacity=\"1\" /><path clip-path=\"url(#clip580)\" d=\"M121.177 811.07 Q117.566 811.07 115.737 814.635 Q113.932 818.176 113.932 825.306 Q113.932 832.412 115.737 835.977 Q117.566 839.519 121.177 839.519 Q124.811 839.519 126.617 835.977 Q128.445 832.412 128.445 825.306 Q128.445 818.176 126.617 814.635 Q124.811 811.07 121.177 811.07 M121.177 807.366 Q126.987 807.366 130.043 811.973 Q133.121 816.556 133.121 825.306 Q133.121 834.033 130.043 838.639 Q126.987 843.222 121.177 843.222 Q115.367 843.222 112.288 838.639 Q109.233 834.033 109.233 825.306 Q109.233 816.556 112.288 811.973 Q115.367 807.366 121.177 807.366 Z\" fill=\"#000000\" fill-rule=\"evenodd\" fill-opacity=\"1\" /><path clip-path=\"url(#clip580)\" d=\"M151.339 811.07 Q147.728 811.07 145.899 814.635 Q144.093 818.176 144.093 825.306 Q144.093 832.412 145.899 835.977 Q147.728 839.519 151.339 839.519 Q154.973 839.519 156.779 835.977 Q158.607 832.412 158.607 825.306 Q158.607 818.176 156.779 814.635 Q154.973 811.07 151.339 811.07 M151.339 807.366 Q157.149 807.366 160.205 811.973 Q163.283 816.556 163.283 825.306 Q163.283 834.033 160.205 838.639 Q157.149 843.222 151.339 843.222 Q145.529 843.222 142.45 838.639 Q139.394 834.033 139.394 825.306 Q139.394 816.556 142.45 811.973 Q145.529 807.366 151.339 807.366 Z\" fill=\"#000000\" fill-rule=\"evenodd\" fill-opacity=\"1\" /><path clip-path=\"url(#clip580)\" d=\"M91.0151 619.324 Q87.6817 619.324 85.7605 621.107 Q83.8623 622.889 83.8623 626.014 Q83.8623 629.139 85.7605 630.922 Q87.6817 632.704 91.0151 632.704 Q94.3484 632.704 96.2697 630.922 Q98.1909 629.116 98.1909 626.014 Q98.1909 622.889 96.2697 621.107 Q94.3715 619.324 91.0151 619.324 M86.3392 617.334 Q83.3299 616.593 81.6401 614.533 Q79.9735 612.473 79.9735 609.51 Q79.9735 605.366 82.9133 602.959 Q85.8762 600.551 91.0151 600.551 Q96.1771 600.551 99.1169 602.959 Q102.057 605.366 102.057 609.51 Q102.057 612.473 100.367 614.533 Q98.7002 616.593 95.7141 617.334 Q99.0937 618.121 100.969 620.412 Q102.867 622.704 102.867 626.014 Q102.867 631.037 99.7882 633.722 Q96.7326 636.408 91.0151 636.408 Q85.2975 636.408 82.2188 633.722 Q79.1633 631.037 79.1633 626.014 Q79.1633 622.704 81.0614 620.412 Q82.9595 618.121 86.3392 617.334 M84.6262 609.949 Q84.6262 612.635 86.2929 614.139 Q87.9827 615.644 91.0151 615.644 Q94.0243 615.644 95.7141 614.139 Q97.4271 612.635 97.4271 609.949 Q97.4271 607.264 95.7141 605.76 Q94.0243 604.255 91.0151 604.255 Q87.9827 604.255 86.2929 605.76 Q84.6262 607.264 84.6262 609.949 Z\" fill=\"#000000\" fill-rule=\"evenodd\" fill-opacity=\"1\" /><path clip-path=\"url(#clip580)\" d=\"M121.177 604.255 Q117.566 604.255 115.737 607.82 Q113.932 611.361 113.932 618.491 Q113.932 625.598 115.737 629.162 Q117.566 632.704 121.177 632.704 Q124.811 632.704 126.617 629.162 Q128.445 625.598 128.445 618.491 Q128.445 611.361 126.617 607.82 Q124.811 604.255 121.177 604.255 M121.177 600.551 Q126.987 600.551 130.043 605.158 Q133.121 609.741 133.121 618.491 Q133.121 627.218 130.043 631.824 Q126.987 636.408 121.177 636.408 Q115.367 636.408 112.288 631.824 Q109.233 627.218 109.233 618.491 Q109.233 609.741 112.288 605.158 Q115.367 600.551 121.177 600.551 Z\" fill=\"#000000\" fill-rule=\"evenodd\" fill-opacity=\"1\" /><path clip-path=\"url(#clip580)\" d=\"M151.339 604.255 Q147.728 604.255 145.899 607.82 Q144.093 611.361 144.093 618.491 Q144.093 625.598 145.899 629.162 Q147.728 632.704 151.339 632.704 Q154.973 632.704 156.779 629.162 Q158.607 625.598 158.607 618.491 Q158.607 611.361 156.779 607.82 Q154.973 604.255 151.339 604.255 M151.339 600.551 Q157.149 600.551 160.205 605.158 Q163.283 609.741 163.283 618.491 Q163.283 627.218 160.205 631.824 Q157.149 636.408 151.339 636.408 Q145.529 636.408 142.45 631.824 Q139.394 627.218 139.394 618.491 Q139.394 609.741 142.45 605.158 Q145.529 600.551 151.339 600.551 Z\" fill=\"#000000\" fill-rule=\"evenodd\" fill-opacity=\"1\" /><path clip-path=\"url(#clip580)\" d=\"M51.6634 424.986 L59.3023 424.986 L59.3023 398.621 L50.9921 400.287 L50.9921 396.028 L59.256 394.361 L63.9319 394.361 L63.9319 424.986 L71.5707 424.986 L71.5707 428.921 L51.6634 428.921 L51.6634 424.986 Z\" fill=\"#000000\" fill-rule=\"evenodd\" fill-opacity=\"1\" /><path clip-path=\"url(#clip580)\" d=\"M91.0151 397.44 Q87.404 397.44 85.5753 401.005 Q83.7697 404.547 83.7697 411.676 Q83.7697 418.783 85.5753 422.347 Q87.404 425.889 91.0151 425.889 Q94.6493 425.889 96.4548 422.347 Q98.2835 418.783 98.2835 411.676 Q98.2835 404.547 96.4548 401.005 Q94.6493 397.44 91.0151 397.44 M91.0151 393.737 Q96.8252 393.737 99.8808 398.343 Q102.959 402.926 102.959 411.676 Q102.959 420.403 99.8808 425.009 Q96.8252 429.593 91.0151 429.593 Q85.2049 429.593 82.1262 425.009 Q79.0707 420.403 79.0707 411.676 Q79.0707 402.926 82.1262 398.343 Q85.2049 393.737 91.0151 393.737 Z\" fill=\"#000000\" fill-rule=\"evenodd\" fill-opacity=\"1\" /><path clip-path=\"url(#clip580)\" d=\"M121.177 397.44 Q117.566 397.44 115.737 401.005 Q113.932 404.547 113.932 411.676 Q113.932 418.783 115.737 422.347 Q117.566 425.889 121.177 425.889 Q124.811 425.889 126.617 422.347 Q128.445 418.783 128.445 411.676 Q128.445 404.547 126.617 401.005 Q124.811 397.44 121.177 397.44 M121.177 393.737 Q126.987 393.737 130.043 398.343 Q133.121 402.926 133.121 411.676 Q133.121 420.403 130.043 425.009 Q126.987 429.593 121.177 429.593 Q115.367 429.593 112.288 425.009 Q109.233 420.403 109.233 411.676 Q109.233 402.926 112.288 398.343 Q115.367 393.737 121.177 393.737 Z\" fill=\"#000000\" fill-rule=\"evenodd\" fill-opacity=\"1\" /><path clip-path=\"url(#clip580)\" d=\"M151.339 397.44 Q147.728 397.44 145.899 401.005 Q144.093 404.547 144.093 411.676 Q144.093 418.783 145.899 422.347 Q147.728 425.889 151.339 425.889 Q154.973 425.889 156.779 422.347 Q158.607 418.783 158.607 411.676 Q158.607 404.547 156.779 401.005 Q154.973 397.44 151.339 397.44 M151.339 393.737 Q157.149 393.737 160.205 398.343 Q163.283 402.926 163.283 411.676 Q163.283 420.403 160.205 425.009 Q157.149 429.593 151.339 429.593 Q145.529 429.593 142.45 425.009 Q139.394 420.403 139.394 411.676 Q139.394 402.926 142.45 398.343 Q145.529 393.737 151.339 393.737 Z\" fill=\"#000000\" fill-rule=\"evenodd\" fill-opacity=\"1\" /><path clip-path=\"url(#clip580)\" d=\"M51.6634 218.171 L59.3023 218.171 L59.3023 191.806 L50.9921 193.473 L50.9921 189.213 L59.256 187.547 L63.9319 187.547 L63.9319 218.171 L71.5707 218.171 L71.5707 222.107 L51.6634 222.107 L51.6634 218.171 Z\" fill=\"#000000\" fill-rule=\"evenodd\" fill-opacity=\"1\" /><path clip-path=\"url(#clip580)\" d=\"M85.0429 218.171 L101.362 218.171 L101.362 222.107 L79.4179 222.107 L79.4179 218.171 Q82.0799 215.417 86.6632 210.787 Q91.2697 206.135 92.4502 204.792 Q94.6956 202.269 95.5752 200.533 Q96.478 198.773 96.478 197.084 Q96.478 194.329 94.5336 192.593 Q92.6123 190.857 89.5104 190.857 Q87.3114 190.857 84.8577 191.621 Q82.4271 192.385 79.6494 193.936 L79.6494 189.213 Q82.4734 188.079 84.9271 187.5 Q87.3808 186.922 89.4178 186.922 Q94.7882 186.922 97.9826 189.607 Q101.177 192.292 101.177 196.783 Q101.177 198.912 100.367 200.834 Q99.5798 202.732 97.4734 205.324 Q96.8947 205.996 93.7928 209.213 Q90.691 212.408 85.0429 218.171 Z\" fill=\"#000000\" fill-rule=\"evenodd\" fill-opacity=\"1\" /><path clip-path=\"url(#clip580)\" d=\"M121.177 190.625 Q117.566 190.625 115.737 194.19 Q113.932 197.732 113.932 204.861 Q113.932 211.968 115.737 215.533 Q117.566 219.074 121.177 219.074 Q124.811 219.074 126.617 215.533 Q128.445 211.968 128.445 204.861 Q128.445 197.732 126.617 194.19 Q124.811 190.625 121.177 190.625 M121.177 186.922 Q126.987 186.922 130.043 191.528 Q133.121 196.111 133.121 204.861 Q133.121 213.588 130.043 218.195 Q126.987 222.778 121.177 222.778 Q115.367 222.778 112.288 218.195 Q109.233 213.588 109.233 204.861 Q109.233 196.111 112.288 191.528 Q115.367 186.922 121.177 186.922 Z\" fill=\"#000000\" fill-rule=\"evenodd\" fill-opacity=\"1\" /><path clip-path=\"url(#clip580)\" d=\"M151.339 190.625 Q147.728 190.625 145.899 194.19 Q144.093 197.732 144.093 204.861 Q144.093 211.968 145.899 215.533 Q147.728 219.074 151.339 219.074 Q154.973 219.074 156.779 215.533 Q158.607 211.968 158.607 204.861 Q158.607 197.732 156.779 194.19 Q154.973 190.625 151.339 190.625 M151.339 186.922 Q157.149 186.922 160.205 191.528 Q163.283 196.111 163.283 204.861 Q163.283 213.588 160.205 218.195 Q157.149 222.778 151.339 222.778 Q145.529 222.778 142.45 218.195 Q139.394 213.588 139.394 204.861 Q139.394 196.111 142.45 191.528 Q145.529 186.922 151.339 186.922 Z\" fill=\"#000000\" fill-rule=\"evenodd\" fill-opacity=\"1\" /><path clip-path=\"url(#clip582)\" d=\"\n",
       "M317.728 1444.68 L317.728 1445.72 L326.56 1445.72 L326.56 1444.68 L317.728 1444.68 L317.728 1444.68  Z\n",
       "  \" fill=\"#009af9\" fill-rule=\"evenodd\" fill-opacity=\"1\"/>\n",
       "<polyline clip-path=\"url(#clip582)\" style=\"stroke:#000000; stroke-linecap:round; stroke-linejoin:round; stroke-width:4; stroke-opacity:1; fill:none\" points=\"\n",
       "  317.728,1444.68 317.728,1445.72 326.56,1445.72 326.56,1444.68 317.728,1444.68 \n",
       "  \"/>\n",
       "<path clip-path=\"url(#clip582)\" d=\"\n",
       "M326.56 1445.72 L326.56 1445.72 L335.392 1445.72 L335.392 1445.72 L326.56 1445.72 L326.56 1445.72  Z\n",
       "  \" fill=\"#009af9\" fill-rule=\"evenodd\" fill-opacity=\"1\"/>\n",
       "<polyline clip-path=\"url(#clip582)\" style=\"stroke:#000000; stroke-linecap:round; stroke-linejoin:round; stroke-width:4; stroke-opacity:1; fill:none\" points=\"\n",
       "  326.56,1445.72 326.56,1445.72 335.392,1445.72 326.56,1445.72 \n",
       "  \"/>\n",
       "<path clip-path=\"url(#clip582)\" d=\"\n",
       "M335.392 1444.68 L335.392 1445.72 L344.225 1445.72 L344.225 1444.68 L335.392 1444.68 L335.392 1444.68  Z\n",
       "  \" fill=\"#009af9\" fill-rule=\"evenodd\" fill-opacity=\"1\"/>\n",
       "<polyline clip-path=\"url(#clip582)\" style=\"stroke:#000000; stroke-linecap:round; stroke-linejoin:round; stroke-width:4; stroke-opacity:1; fill:none\" points=\"\n",
       "  335.392,1444.68 335.392,1445.72 344.225,1445.72 344.225,1444.68 335.392,1444.68 \n",
       "  \"/>\n",
       "<path clip-path=\"url(#clip582)\" d=\"\n",
       "M344.225 1444.68 L344.225 1445.72 L353.057 1445.72 L353.057 1444.68 L344.225 1444.68 L344.225 1444.68  Z\n",
       "  \" fill=\"#009af9\" fill-rule=\"evenodd\" fill-opacity=\"1\"/>\n",
       "<polyline clip-path=\"url(#clip582)\" style=\"stroke:#000000; stroke-linecap:round; stroke-linejoin:round; stroke-width:4; stroke-opacity:1; fill:none\" points=\"\n",
       "  344.225,1444.68 344.225,1445.72 353.057,1445.72 353.057,1444.68 344.225,1444.68 \n",
       "  \"/>\n",
       "<path clip-path=\"url(#clip582)\" d=\"\n",
       "M353.057 1443.65 L353.057 1445.72 L361.889 1445.72 L361.889 1443.65 L353.057 1443.65 L353.057 1443.65  Z\n",
       "  \" fill=\"#009af9\" fill-rule=\"evenodd\" fill-opacity=\"1\"/>\n",
       "<polyline clip-path=\"url(#clip582)\" style=\"stroke:#000000; stroke-linecap:round; stroke-linejoin:round; stroke-width:4; stroke-opacity:1; fill:none\" points=\"\n",
       "  353.057,1443.65 353.057,1445.72 361.889,1445.72 361.889,1443.65 353.057,1443.65 \n",
       "  \"/>\n",
       "<path clip-path=\"url(#clip582)\" d=\"\n",
       "M361.889 1441.58 L361.889 1445.72 L370.721 1445.72 L370.721 1441.58 L361.889 1441.58 L361.889 1441.58  Z\n",
       "  \" fill=\"#009af9\" fill-rule=\"evenodd\" fill-opacity=\"1\"/>\n",
       "<polyline clip-path=\"url(#clip582)\" style=\"stroke:#000000; stroke-linecap:round; stroke-linejoin:round; stroke-width:4; stroke-opacity:1; fill:none\" points=\"\n",
       "  361.889,1441.58 361.889,1445.72 370.721,1445.72 370.721,1441.58 361.889,1441.58 \n",
       "  \"/>\n",
       "<path clip-path=\"url(#clip582)\" d=\"\n",
       "M370.721 1440.55 L370.721 1445.72 L379.553 1445.72 L379.553 1440.55 L370.721 1440.55 L370.721 1440.55  Z\n",
       "  \" fill=\"#009af9\" fill-rule=\"evenodd\" fill-opacity=\"1\"/>\n",
       "<polyline clip-path=\"url(#clip582)\" style=\"stroke:#000000; stroke-linecap:round; stroke-linejoin:round; stroke-width:4; stroke-opacity:1; fill:none\" points=\"\n",
       "  370.721,1440.55 370.721,1445.72 379.553,1445.72 379.553,1440.55 370.721,1440.55 \n",
       "  \"/>\n",
       "<path clip-path=\"url(#clip582)\" d=\"\n",
       "M379.553 1431.24 L379.553 1445.72 L388.385 1445.72 L388.385 1431.24 L379.553 1431.24 L379.553 1431.24  Z\n",
       "  \" fill=\"#009af9\" fill-rule=\"evenodd\" fill-opacity=\"1\"/>\n",
       "<polyline clip-path=\"url(#clip582)\" style=\"stroke:#000000; stroke-linecap:round; stroke-linejoin:round; stroke-width:4; stroke-opacity:1; fill:none\" points=\"\n",
       "  379.553,1431.24 379.553,1445.72 388.385,1445.72 388.385,1431.24 379.553,1431.24 \n",
       "  \"/>\n",
       "<path clip-path=\"url(#clip582)\" d=\"\n",
       "M388.385 1436.41 L388.385 1445.72 L397.218 1445.72 L397.218 1436.41 L388.385 1436.41 L388.385 1436.41  Z\n",
       "  \" fill=\"#009af9\" fill-rule=\"evenodd\" fill-opacity=\"1\"/>\n",
       "<polyline clip-path=\"url(#clip582)\" style=\"stroke:#000000; stroke-linecap:round; stroke-linejoin:round; stroke-width:4; stroke-opacity:1; fill:none\" points=\"\n",
       "  388.385,1436.41 388.385,1445.72 397.218,1445.72 397.218,1436.41 388.385,1436.41 \n",
       "  \"/>\n",
       "<path clip-path=\"url(#clip582)\" d=\"\n",
       "M397.218 1437.44 L397.218 1445.72 L406.05 1445.72 L406.05 1437.44 L397.218 1437.44 L397.218 1437.44  Z\n",
       "  \" fill=\"#009af9\" fill-rule=\"evenodd\" fill-opacity=\"1\"/>\n",
       "<polyline clip-path=\"url(#clip582)\" style=\"stroke:#000000; stroke-linecap:round; stroke-linejoin:round; stroke-width:4; stroke-opacity:1; fill:none\" points=\"\n",
       "  397.218,1437.44 397.218,1445.72 406.05,1445.72 406.05,1437.44 397.218,1437.44 \n",
       "  \"/>\n",
       "<path clip-path=\"url(#clip582)\" d=\"\n",
       "M406.05 1427.1 L406.05 1445.72 L414.882 1445.72 L414.882 1427.1 L406.05 1427.1 L406.05 1427.1  Z\n",
       "  \" fill=\"#009af9\" fill-rule=\"evenodd\" fill-opacity=\"1\"/>\n",
       "<polyline clip-path=\"url(#clip582)\" style=\"stroke:#000000; stroke-linecap:round; stroke-linejoin:round; stroke-width:4; stroke-opacity:1; fill:none\" points=\"\n",
       "  406.05,1427.1 406.05,1445.72 414.882,1445.72 414.882,1427.1 406.05,1427.1 \n",
       "  \"/>\n",
       "<path clip-path=\"url(#clip582)\" d=\"\n",
       "M414.882 1411.59 L414.882 1445.72 L423.714 1445.72 L423.714 1411.59 L414.882 1411.59 L414.882 1411.59  Z\n",
       "  \" fill=\"#009af9\" fill-rule=\"evenodd\" fill-opacity=\"1\"/>\n",
       "<polyline clip-path=\"url(#clip582)\" style=\"stroke:#000000; stroke-linecap:round; stroke-linejoin:round; stroke-width:4; stroke-opacity:1; fill:none\" points=\"\n",
       "  414.882,1411.59 414.882,1445.72 423.714,1445.72 423.714,1411.59 414.882,1411.59 \n",
       "  \"/>\n",
       "<path clip-path=\"url(#clip582)\" d=\"\n",
       "M423.714 1387.81 L423.714 1445.72 L432.546 1445.72 L432.546 1387.81 L423.714 1387.81 L423.714 1387.81  Z\n",
       "  \" fill=\"#009af9\" fill-rule=\"evenodd\" fill-opacity=\"1\"/>\n",
       "<polyline clip-path=\"url(#clip582)\" style=\"stroke:#000000; stroke-linecap:round; stroke-linejoin:round; stroke-width:4; stroke-opacity:1; fill:none\" points=\"\n",
       "  423.714,1387.81 423.714,1445.72 432.546,1445.72 432.546,1387.81 423.714,1387.81 \n",
       "  \"/>\n",
       "<path clip-path=\"url(#clip582)\" d=\"\n",
       "M432.546 1364.02 L432.546 1445.72 L441.379 1445.72 L441.379 1364.02 L432.546 1364.02 L432.546 1364.02  Z\n",
       "  \" fill=\"#009af9\" fill-rule=\"evenodd\" fill-opacity=\"1\"/>\n",
       "<polyline clip-path=\"url(#clip582)\" style=\"stroke:#000000; stroke-linecap:round; stroke-linejoin:round; stroke-width:4; stroke-opacity:1; fill:none\" points=\"\n",
       "  432.546,1364.02 432.546,1445.72 441.379,1445.72 441.379,1364.02 432.546,1364.02 \n",
       "  \"/>\n",
       "<path clip-path=\"url(#clip582)\" d=\"\n",
       "M441.379 1360.92 L441.379 1445.72 L450.211 1445.72 L450.211 1360.92 L441.379 1360.92 L441.379 1360.92  Z\n",
       "  \" fill=\"#009af9\" fill-rule=\"evenodd\" fill-opacity=\"1\"/>\n",
       "<polyline clip-path=\"url(#clip582)\" style=\"stroke:#000000; stroke-linecap:round; stroke-linejoin:round; stroke-width:4; stroke-opacity:1; fill:none\" points=\"\n",
       "  441.379,1360.92 441.379,1445.72 450.211,1445.72 450.211,1360.92 441.379,1360.92 \n",
       "  \"/>\n",
       "<path clip-path=\"url(#clip582)\" d=\"\n",
       "M450.211 1347.48 L450.211 1445.72 L459.043 1445.72 L459.043 1347.48 L450.211 1347.48 L450.211 1347.48  Z\n",
       "  \" fill=\"#009af9\" fill-rule=\"evenodd\" fill-opacity=\"1\"/>\n",
       "<polyline clip-path=\"url(#clip582)\" style=\"stroke:#000000; stroke-linecap:round; stroke-linejoin:round; stroke-width:4; stroke-opacity:1; fill:none\" points=\"\n",
       "  450.211,1347.48 450.211,1445.72 459.043,1445.72 459.043,1347.48 450.211,1347.48 \n",
       "  \"/>\n",
       "<path clip-path=\"url(#clip582)\" d=\"\n",
       "M459.043 1311.29 L459.043 1445.72 L467.875 1445.72 L467.875 1311.29 L459.043 1311.29 L459.043 1311.29  Z\n",
       "  \" fill=\"#009af9\" fill-rule=\"evenodd\" fill-opacity=\"1\"/>\n",
       "<polyline clip-path=\"url(#clip582)\" style=\"stroke:#000000; stroke-linecap:round; stroke-linejoin:round; stroke-width:4; stroke-opacity:1; fill:none\" points=\"\n",
       "  459.043,1311.29 459.043,1445.72 467.875,1445.72 467.875,1311.29 459.043,1311.29 \n",
       "  \"/>\n",
       "<path clip-path=\"url(#clip582)\" d=\"\n",
       "M467.875 1270.96 L467.875 1445.72 L476.707 1445.72 L476.707 1270.96 L467.875 1270.96 L467.875 1270.96  Z\n",
       "  \" fill=\"#009af9\" fill-rule=\"evenodd\" fill-opacity=\"1\"/>\n",
       "<polyline clip-path=\"url(#clip582)\" style=\"stroke:#000000; stroke-linecap:round; stroke-linejoin:round; stroke-width:4; stroke-opacity:1; fill:none\" points=\"\n",
       "  467.875,1270.96 467.875,1445.72 476.707,1445.72 476.707,1270.96 467.875,1270.96 \n",
       "  \"/>\n",
       "<path clip-path=\"url(#clip582)\" d=\"\n",
       "M476.707 1274.06 L476.707 1445.72 L485.539 1445.72 L485.539 1274.06 L476.707 1274.06 L476.707 1274.06  Z\n",
       "  \" fill=\"#009af9\" fill-rule=\"evenodd\" fill-opacity=\"1\"/>\n",
       "<polyline clip-path=\"url(#clip582)\" style=\"stroke:#000000; stroke-linecap:round; stroke-linejoin:round; stroke-width:4; stroke-opacity:1; fill:none\" points=\"\n",
       "  476.707,1274.06 476.707,1445.72 485.539,1445.72 485.539,1274.06 476.707,1274.06 \n",
       "  \"/>\n",
       "<path clip-path=\"url(#clip582)\" d=\"\n",
       "M485.539 1219.25 L485.539 1445.72 L494.372 1445.72 L494.372 1219.25 L485.539 1219.25 L485.539 1219.25  Z\n",
       "  \" fill=\"#009af9\" fill-rule=\"evenodd\" fill-opacity=\"1\"/>\n",
       "<polyline clip-path=\"url(#clip582)\" style=\"stroke:#000000; stroke-linecap:round; stroke-linejoin:round; stroke-width:4; stroke-opacity:1; fill:none\" points=\"\n",
       "  485.539,1219.25 485.539,1445.72 494.372,1445.72 494.372,1219.25 485.539,1219.25 \n",
       "  \"/>\n",
       "<path clip-path=\"url(#clip582)\" d=\"\n",
       "M494.372 1142.73 L494.372 1445.72 L503.204 1445.72 L503.204 1142.73 L494.372 1142.73 L494.372 1142.73  Z\n",
       "  \" fill=\"#009af9\" fill-rule=\"evenodd\" fill-opacity=\"1\"/>\n",
       "<polyline clip-path=\"url(#clip582)\" style=\"stroke:#000000; stroke-linecap:round; stroke-linejoin:round; stroke-width:4; stroke-opacity:1; fill:none\" points=\"\n",
       "  494.372,1142.73 494.372,1445.72 503.204,1445.72 503.204,1142.73 494.372,1142.73 \n",
       "  \"/>\n",
       "<path clip-path=\"url(#clip582)\" d=\"\n",
       "M503.204 1109.64 L503.204 1445.72 L512.036 1445.72 L512.036 1109.64 L503.204 1109.64 L503.204 1109.64  Z\n",
       "  \" fill=\"#009af9\" fill-rule=\"evenodd\" fill-opacity=\"1\"/>\n",
       "<polyline clip-path=\"url(#clip582)\" style=\"stroke:#000000; stroke-linecap:round; stroke-linejoin:round; stroke-width:4; stroke-opacity:1; fill:none\" points=\"\n",
       "  503.204,1109.64 503.204,1445.72 512.036,1445.72 512.036,1109.64 503.204,1109.64 \n",
       "  \"/>\n",
       "<path clip-path=\"url(#clip582)\" d=\"\n",
       "M512.036 1058.97 L512.036 1445.72 L520.868 1445.72 L520.868 1058.97 L512.036 1058.97 L512.036 1058.97  Z\n",
       "  \" fill=\"#009af9\" fill-rule=\"evenodd\" fill-opacity=\"1\"/>\n",
       "<polyline clip-path=\"url(#clip582)\" style=\"stroke:#000000; stroke-linecap:round; stroke-linejoin:round; stroke-width:4; stroke-opacity:1; fill:none\" points=\"\n",
       "  512.036,1058.97 512.036,1445.72 520.868,1445.72 520.868,1058.97 512.036,1058.97 \n",
       "  \"/>\n",
       "<path clip-path=\"url(#clip582)\" d=\"\n",
       "M520.868 992.791 L520.868 1445.72 L529.7 1445.72 L529.7 992.791 L520.868 992.791 L520.868 992.791  Z\n",
       "  \" fill=\"#009af9\" fill-rule=\"evenodd\" fill-opacity=\"1\"/>\n",
       "<polyline clip-path=\"url(#clip582)\" style=\"stroke:#000000; stroke-linecap:round; stroke-linejoin:round; stroke-width:4; stroke-opacity:1; fill:none\" points=\"\n",
       "  520.868,992.791 520.868,1445.72 529.7,1445.72 529.7,992.791 520.868,992.791 \n",
       "  \"/>\n",
       "<path clip-path=\"url(#clip582)\" d=\"\n",
       "M529.7 910.065 L529.7 1445.72 L538.533 1445.72 L538.533 910.065 L529.7 910.065 L529.7 910.065  Z\n",
       "  \" fill=\"#009af9\" fill-rule=\"evenodd\" fill-opacity=\"1\"/>\n",
       "<polyline clip-path=\"url(#clip582)\" style=\"stroke:#000000; stroke-linecap:round; stroke-linejoin:round; stroke-width:4; stroke-opacity:1; fill:none\" points=\"\n",
       "  529.7,910.065 529.7,1445.72 538.533,1445.72 538.533,910.065 529.7,910.065 \n",
       "  \"/>\n",
       "<path clip-path=\"url(#clip582)\" d=\"\n",
       "M538.533 797.351 L538.533 1445.72 L547.365 1445.72 L547.365 797.351 L538.533 797.351 L538.533 797.351  Z\n",
       "  \" fill=\"#009af9\" fill-rule=\"evenodd\" fill-opacity=\"1\"/>\n",
       "<polyline clip-path=\"url(#clip582)\" style=\"stroke:#000000; stroke-linecap:round; stroke-linejoin:round; stroke-width:4; stroke-opacity:1; fill:none\" points=\"\n",
       "  538.533,797.351 538.533,1445.72 547.365,1445.72 547.365,797.351 538.533,797.351 \n",
       "  \"/>\n",
       "<path clip-path=\"url(#clip582)\" d=\"\n",
       "M547.365 681.535 L547.365 1445.72 L556.197 1445.72 L556.197 681.535 L547.365 681.535 L547.365 681.535  Z\n",
       "  \" fill=\"#009af9\" fill-rule=\"evenodd\" fill-opacity=\"1\"/>\n",
       "<polyline clip-path=\"url(#clip582)\" style=\"stroke:#000000; stroke-linecap:round; stroke-linejoin:round; stroke-width:4; stroke-opacity:1; fill:none\" points=\"\n",
       "  547.365,681.535 547.365,1445.72 556.197,1445.72 556.197,681.535 547.365,681.535 \n",
       "  \"/>\n",
       "<path clip-path=\"url(#clip582)\" d=\"\n",
       "M556.197 592.604 L556.197 1445.72 L565.029 1445.72 L565.029 592.604 L556.197 592.604 L556.197 592.604  Z\n",
       "  \" fill=\"#009af9\" fill-rule=\"evenodd\" fill-opacity=\"1\"/>\n",
       "<polyline clip-path=\"url(#clip582)\" style=\"stroke:#000000; stroke-linecap:round; stroke-linejoin:round; stroke-width:4; stroke-opacity:1; fill:none\" points=\"\n",
       "  556.197,592.604 556.197,1445.72 565.029,1445.72 565.029,592.604 556.197,592.604 \n",
       "  \"/>\n",
       "<path clip-path=\"url(#clip582)\" d=\"\n",
       "M565.029 484.027 L565.029 1445.72 L573.861 1445.72 L573.861 484.027 L565.029 484.027 L565.029 484.027  Z\n",
       "  \" fill=\"#009af9\" fill-rule=\"evenodd\" fill-opacity=\"1\"/>\n",
       "<polyline clip-path=\"url(#clip582)\" style=\"stroke:#000000; stroke-linecap:round; stroke-linejoin:round; stroke-width:4; stroke-opacity:1; fill:none\" points=\"\n",
       "  565.029,484.027 565.029,1445.72 573.861,1445.72 573.861,484.027 565.029,484.027 \n",
       "  \"/>\n",
       "<path clip-path=\"url(#clip582)\" d=\"\n",
       "M573.861 356.836 L573.861 1445.72 L582.693 1445.72 L582.693 356.836 L573.861 356.836 L573.861 356.836  Z\n",
       "  \" fill=\"#009af9\" fill-rule=\"evenodd\" fill-opacity=\"1\"/>\n",
       "<polyline clip-path=\"url(#clip582)\" style=\"stroke:#000000; stroke-linecap:round; stroke-linejoin:round; stroke-width:4; stroke-opacity:1; fill:none\" points=\"\n",
       "  573.861,356.836 573.861,1445.72 582.693,1445.72 582.693,356.836 573.861,356.836 \n",
       "  \"/>\n",
       "<path clip-path=\"url(#clip582)\" d=\"\n",
       "M582.693 349.597 L582.693 1445.72 L591.526 1445.72 L591.526 349.597 L582.693 349.597 L582.693 349.597  Z\n",
       "  \" fill=\"#009af9\" fill-rule=\"evenodd\" fill-opacity=\"1\"/>\n",
       "<polyline clip-path=\"url(#clip582)\" style=\"stroke:#000000; stroke-linecap:round; stroke-linejoin:round; stroke-width:4; stroke-opacity:1; fill:none\" points=\"\n",
       "  582.693,349.597 582.693,1445.72 591.526,1445.72 591.526,349.597 582.693,349.597 \n",
       "  \"/>\n",
       "<path clip-path=\"url(#clip582)\" d=\"\n",
       "M591.526 207.929 L591.526 1445.72 L600.358 1445.72 L600.358 207.929 L591.526 207.929 L591.526 207.929  Z\n",
       "  \" fill=\"#009af9\" fill-rule=\"evenodd\" fill-opacity=\"1\"/>\n",
       "<polyline clip-path=\"url(#clip582)\" style=\"stroke:#000000; stroke-linecap:round; stroke-linejoin:round; stroke-width:4; stroke-opacity:1; fill:none\" points=\"\n",
       "  591.526,207.929 591.526,1445.72 600.358,1445.72 600.358,207.929 591.526,207.929 \n",
       "  \"/>\n",
       "<path clip-path=\"url(#clip582)\" d=\"\n",
       "M600.358 294.791 L600.358 1445.72 L609.19 1445.72 L609.19 294.791 L600.358 294.791 L600.358 294.791  Z\n",
       "  \" fill=\"#009af9\" fill-rule=\"evenodd\" fill-opacity=\"1\"/>\n",
       "<polyline clip-path=\"url(#clip582)\" style=\"stroke:#000000; stroke-linecap:round; stroke-linejoin:round; stroke-width:4; stroke-opacity:1; fill:none\" points=\"\n",
       "  600.358,294.791 600.358,1445.72 609.19,1445.72 609.19,294.791 600.358,294.791 \n",
       "  \"/>\n",
       "<path clip-path=\"url(#clip582)\" d=\"\n",
       "M609.19 158.293 L609.19 1445.72 L618.022 1445.72 L618.022 158.293 L609.19 158.293 L609.19 158.293  Z\n",
       "  \" fill=\"#009af9\" fill-rule=\"evenodd\" fill-opacity=\"1\"/>\n",
       "<polyline clip-path=\"url(#clip582)\" style=\"stroke:#000000; stroke-linecap:round; stroke-linejoin:round; stroke-width:4; stroke-opacity:1; fill:none\" points=\"\n",
       "  609.19,158.293 609.19,1445.72 618.022,1445.72 618.022,158.293 609.19,158.293 \n",
       "  \"/>\n",
       "<path clip-path=\"url(#clip582)\" d=\"\n",
       "M618.022 87.9763 L618.022 1445.72 L626.854 1445.72 L626.854 87.9763 L618.022 87.9763 L618.022 87.9763  Z\n",
       "  \" fill=\"#009af9\" fill-rule=\"evenodd\" fill-opacity=\"1\"/>\n",
       "<polyline clip-path=\"url(#clip582)\" style=\"stroke:#000000; stroke-linecap:round; stroke-linejoin:round; stroke-width:4; stroke-opacity:1; fill:none\" points=\"\n",
       "  618.022,87.9763 618.022,1445.72 626.854,1445.72 626.854,87.9763 618.022,87.9763 \n",
       "  \"/>\n",
       "<path clip-path=\"url(#clip582)\" d=\"\n",
       "M626.854 266.871 L626.854 1445.72 L635.687 1445.72 L635.687 266.871 L626.854 266.871 L626.854 266.871  Z\n",
       "  \" fill=\"#009af9\" fill-rule=\"evenodd\" fill-opacity=\"1\"/>\n",
       "<polyline clip-path=\"url(#clip582)\" style=\"stroke:#000000; stroke-linecap:round; stroke-linejoin:round; stroke-width:4; stroke-opacity:1; fill:none\" points=\"\n",
       "  626.854,266.871 626.854,1445.72 635.687,1445.72 635.687,266.871 626.854,266.871 \n",
       "  \"/>\n",
       "<path clip-path=\"url(#clip582)\" d=\"\n",
       "M635.687 197.588 L635.687 1445.72 L644.519 1445.72 L644.519 197.588 L635.687 197.588 L635.687 197.588  Z\n",
       "  \" fill=\"#009af9\" fill-rule=\"evenodd\" fill-opacity=\"1\"/>\n",
       "<polyline clip-path=\"url(#clip582)\" style=\"stroke:#000000; stroke-linecap:round; stroke-linejoin:round; stroke-width:4; stroke-opacity:1; fill:none\" points=\"\n",
       "  635.687,197.588 635.687,1445.72 644.519,1445.72 644.519,197.588 635.687,197.588 \n",
       "  \"/>\n",
       "<path clip-path=\"url(#clip582)\" d=\"\n",
       "M644.519 231.713 L644.519 1445.72 L653.351 1445.72 L653.351 231.713 L644.519 231.713 L644.519 231.713  Z\n",
       "  \" fill=\"#009af9\" fill-rule=\"evenodd\" fill-opacity=\"1\"/>\n",
       "<polyline clip-path=\"url(#clip582)\" style=\"stroke:#000000; stroke-linecap:round; stroke-linejoin:round; stroke-width:4; stroke-opacity:1; fill:none\" points=\"\n",
       "  644.519,231.713 644.519,1445.72 653.351,1445.72 653.351,231.713 644.519,231.713 \n",
       "  \"/>\n",
       "<path clip-path=\"url(#clip582)\" d=\"\n",
       "M653.351 326.847 L653.351 1445.72 L662.183 1445.72 L662.183 326.847 L653.351 326.847 L653.351 326.847  Z\n",
       "  \" fill=\"#009af9\" fill-rule=\"evenodd\" fill-opacity=\"1\"/>\n",
       "<polyline clip-path=\"url(#clip582)\" style=\"stroke:#000000; stroke-linecap:round; stroke-linejoin:round; stroke-width:4; stroke-opacity:1; fill:none\" points=\"\n",
       "  653.351,326.847 653.351,1445.72 662.183,1445.72 662.183,326.847 653.351,326.847 \n",
       "  \"/>\n",
       "<path clip-path=\"url(#clip582)\" d=\"\n",
       "M662.183 247.224 L662.183 1445.72 L671.015 1445.72 L671.015 247.224 L662.183 247.224 L662.183 247.224  Z\n",
       "  \" fill=\"#009af9\" fill-rule=\"evenodd\" fill-opacity=\"1\"/>\n",
       "<polyline clip-path=\"url(#clip582)\" style=\"stroke:#000000; stroke-linecap:round; stroke-linejoin:round; stroke-width:4; stroke-opacity:1; fill:none\" points=\"\n",
       "  662.183,247.224 662.183,1445.72 671.015,1445.72 671.015,247.224 662.183,247.224 \n",
       "  \"/>\n",
       "<path clip-path=\"url(#clip582)\" d=\"\n",
       "M671.015 302.03 L671.015 1445.72 L679.847 1445.72 L679.847 302.03 L671.015 302.03 L671.015 302.03  Z\n",
       "  \" fill=\"#009af9\" fill-rule=\"evenodd\" fill-opacity=\"1\"/>\n",
       "<polyline clip-path=\"url(#clip582)\" style=\"stroke:#000000; stroke-linecap:round; stroke-linejoin:round; stroke-width:4; stroke-opacity:1; fill:none\" points=\"\n",
       "  671.015,302.03 671.015,1445.72 679.847,1445.72 679.847,302.03 671.015,302.03 \n",
       "  \"/>\n",
       "<path clip-path=\"url(#clip582)\" d=\"\n",
       "M679.847 493.333 L679.847 1445.72 L688.68 1445.72 L688.68 493.333 L679.847 493.333 L679.847 493.333  Z\n",
       "  \" fill=\"#009af9\" fill-rule=\"evenodd\" fill-opacity=\"1\"/>\n",
       "<polyline clip-path=\"url(#clip582)\" style=\"stroke:#000000; stroke-linecap:round; stroke-linejoin:round; stroke-width:4; stroke-opacity:1; fill:none\" points=\"\n",
       "  679.847,493.333 679.847,1445.72 688.68,1445.72 688.68,493.333 679.847,493.333 \n",
       "  \"/>\n",
       "<path clip-path=\"url(#clip582)\" d=\"\n",
       "M688.68 499.538 L688.68 1445.72 L697.512 1445.72 L697.512 499.538 L688.68 499.538 L688.68 499.538  Z\n",
       "  \" fill=\"#009af9\" fill-rule=\"evenodd\" fill-opacity=\"1\"/>\n",
       "<polyline clip-path=\"url(#clip582)\" style=\"stroke:#000000; stroke-linecap:round; stroke-linejoin:round; stroke-width:4; stroke-opacity:1; fill:none\" points=\"\n",
       "  688.68,499.538 688.68,1445.72 697.512,1445.72 697.512,499.538 688.68,499.538 \n",
       "  \"/>\n",
       "<path clip-path=\"url(#clip582)\" d=\"\n",
       "M697.512 621.559 L697.512 1445.72 L706.344 1445.72 L706.344 621.559 L697.512 621.559 L697.512 621.559  Z\n",
       "  \" fill=\"#009af9\" fill-rule=\"evenodd\" fill-opacity=\"1\"/>\n",
       "<polyline clip-path=\"url(#clip582)\" style=\"stroke:#000000; stroke-linecap:round; stroke-linejoin:round; stroke-width:4; stroke-opacity:1; fill:none\" points=\"\n",
       "  697.512,621.559 697.512,1445.72 706.344,1445.72 706.344,621.559 697.512,621.559 \n",
       "  \"/>\n",
       "<path clip-path=\"url(#clip582)\" d=\"\n",
       "M706.344 619.49 L706.344 1445.72 L715.176 1445.72 L715.176 619.49 L706.344 619.49 L706.344 619.49  Z\n",
       "  \" fill=\"#009af9\" fill-rule=\"evenodd\" fill-opacity=\"1\"/>\n",
       "<polyline clip-path=\"url(#clip582)\" style=\"stroke:#000000; stroke-linecap:round; stroke-linejoin:round; stroke-width:4; stroke-opacity:1; fill:none\" points=\"\n",
       "  706.344,619.49 706.344,1445.72 715.176,1445.72 715.176,619.49 706.344,619.49 \n",
       "  \"/>\n",
       "<path clip-path=\"url(#clip582)\" d=\"\n",
       "M715.176 672.228 L715.176 1445.72 L724.008 1445.72 L724.008 672.228 L715.176 672.228 L715.176 672.228  Z\n",
       "  \" fill=\"#009af9\" fill-rule=\"evenodd\" fill-opacity=\"1\"/>\n",
       "<polyline clip-path=\"url(#clip582)\" style=\"stroke:#000000; stroke-linecap:round; stroke-linejoin:round; stroke-width:4; stroke-opacity:1; fill:none\" points=\"\n",
       "  715.176,672.228 715.176,1445.72 724.008,1445.72 724.008,672.228 715.176,672.228 \n",
       "  \"/>\n",
       "<path clip-path=\"url(#clip582)\" d=\"\n",
       "M724.008 769.431 L724.008 1445.72 L732.84 1445.72 L732.84 769.431 L724.008 769.431 L724.008 769.431  Z\n",
       "  \" fill=\"#009af9\" fill-rule=\"evenodd\" fill-opacity=\"1\"/>\n",
       "<polyline clip-path=\"url(#clip582)\" style=\"stroke:#000000; stroke-linecap:round; stroke-linejoin:round; stroke-width:4; stroke-opacity:1; fill:none\" points=\"\n",
       "  724.008,769.431 724.008,1445.72 732.84,1445.72 732.84,769.431 724.008,769.431 \n",
       "  \"/>\n",
       "<path clip-path=\"url(#clip582)\" d=\"\n",
       "M732.84 790.113 L732.84 1445.72 L741.673 1445.72 L741.673 790.113 L732.84 790.113 L732.84 790.113  Z\n",
       "  \" fill=\"#009af9\" fill-rule=\"evenodd\" fill-opacity=\"1\"/>\n",
       "<polyline clip-path=\"url(#clip582)\" style=\"stroke:#000000; stroke-linecap:round; stroke-linejoin:round; stroke-width:4; stroke-opacity:1; fill:none\" points=\"\n",
       "  732.84,790.113 732.84,1445.72 741.673,1445.72 741.673,790.113 732.84,790.113 \n",
       "  \"/>\n",
       "<path clip-path=\"url(#clip582)\" d=\"\n",
       "M741.673 863.532 L741.673 1445.72 L750.505 1445.72 L750.505 863.532 L741.673 863.532 L741.673 863.532  Z\n",
       "  \" fill=\"#009af9\" fill-rule=\"evenodd\" fill-opacity=\"1\"/>\n",
       "<polyline clip-path=\"url(#clip582)\" style=\"stroke:#000000; stroke-linecap:round; stroke-linejoin:round; stroke-width:4; stroke-opacity:1; fill:none\" points=\"\n",
       "  741.673,863.532 741.673,1445.72 750.505,1445.72 750.505,863.532 741.673,863.532 \n",
       "  \"/>\n",
       "<path clip-path=\"url(#clip582)\" d=\"\n",
       "M750.505 925.576 L750.505 1445.72 L759.337 1445.72 L759.337 925.576 L750.505 925.576 L750.505 925.576  Z\n",
       "  \" fill=\"#009af9\" fill-rule=\"evenodd\" fill-opacity=\"1\"/>\n",
       "<polyline clip-path=\"url(#clip582)\" style=\"stroke:#000000; stroke-linecap:round; stroke-linejoin:round; stroke-width:4; stroke-opacity:1; fill:none\" points=\"\n",
       "  750.505,925.576 750.505,1445.72 759.337,1445.72 759.337,925.576 750.505,925.576 \n",
       "  \"/>\n",
       "<path clip-path=\"url(#clip582)\" d=\"\n",
       "M759.337 955.565 L759.337 1445.72 L768.169 1445.72 L768.169 955.565 L759.337 955.565 L759.337 955.565  Z\n",
       "  \" fill=\"#009af9\" fill-rule=\"evenodd\" fill-opacity=\"1\"/>\n",
       "<polyline clip-path=\"url(#clip582)\" style=\"stroke:#000000; stroke-linecap:round; stroke-linejoin:round; stroke-width:4; stroke-opacity:1; fill:none\" points=\"\n",
       "  759.337,955.565 759.337,1445.72 768.169,1445.72 768.169,955.565 759.337,955.565 \n",
       "  \"/>\n",
       "<path clip-path=\"url(#clip582)\" d=\"\n",
       "M768.169 1010.37 L768.169 1445.72 L777.001 1445.72 L777.001 1010.37 L768.169 1010.37 L768.169 1010.37  Z\n",
       "  \" fill=\"#009af9\" fill-rule=\"evenodd\" fill-opacity=\"1\"/>\n",
       "<polyline clip-path=\"url(#clip582)\" style=\"stroke:#000000; stroke-linecap:round; stroke-linejoin:round; stroke-width:4; stroke-opacity:1; fill:none\" points=\"\n",
       "  768.169,1010.37 768.169,1445.72 777.001,1445.72 777.001,1010.37 768.169,1010.37 \n",
       "  \"/>\n",
       "<path clip-path=\"url(#clip582)\" d=\"\n",
       "M777.001 1003.13 L777.001 1445.72 L785.834 1445.72 L785.834 1003.13 L777.001 1003.13 L777.001 1003.13  Z\n",
       "  \" fill=\"#009af9\" fill-rule=\"evenodd\" fill-opacity=\"1\"/>\n",
       "<polyline clip-path=\"url(#clip582)\" style=\"stroke:#000000; stroke-linecap:round; stroke-linejoin:round; stroke-width:4; stroke-opacity:1; fill:none\" points=\"\n",
       "  777.001,1003.13 777.001,1445.72 785.834,1445.72 785.834,1003.13 777.001,1003.13 \n",
       "  \"/>\n",
       "<path clip-path=\"url(#clip582)\" d=\"\n",
       "M785.834 1110.68 L785.834 1445.72 L794.666 1445.72 L794.666 1110.68 L785.834 1110.68 L785.834 1110.68  Z\n",
       "  \" fill=\"#009af9\" fill-rule=\"evenodd\" fill-opacity=\"1\"/>\n",
       "<polyline clip-path=\"url(#clip582)\" style=\"stroke:#000000; stroke-linecap:round; stroke-linejoin:round; stroke-width:4; stroke-opacity:1; fill:none\" points=\"\n",
       "  785.834,1110.68 785.834,1445.72 794.666,1445.72 794.666,1110.68 785.834,1110.68 \n",
       "  \"/>\n",
       "<path clip-path=\"url(#clip582)\" d=\"\n",
       "M794.666 1118.95 L794.666 1445.72 L803.498 1445.72 L803.498 1118.95 L794.666 1118.95 L794.666 1118.95  Z\n",
       "  \" fill=\"#009af9\" fill-rule=\"evenodd\" fill-opacity=\"1\"/>\n",
       "<polyline clip-path=\"url(#clip582)\" style=\"stroke:#000000; stroke-linecap:round; stroke-linejoin:round; stroke-width:4; stroke-opacity:1; fill:none\" points=\"\n",
       "  794.666,1118.95 794.666,1445.72 803.498,1445.72 803.498,1118.95 794.666,1118.95 \n",
       "  \"/>\n",
       "<path clip-path=\"url(#clip582)\" d=\"\n",
       "M803.498 1113.78 L803.498 1445.72 L812.33 1445.72 L812.33 1113.78 L803.498 1113.78 L803.498 1113.78  Z\n",
       "  \" fill=\"#009af9\" fill-rule=\"evenodd\" fill-opacity=\"1\"/>\n",
       "<polyline clip-path=\"url(#clip582)\" style=\"stroke:#000000; stroke-linecap:round; stroke-linejoin:round; stroke-width:4; stroke-opacity:1; fill:none\" points=\"\n",
       "  803.498,1113.78 803.498,1445.72 812.33,1445.72 812.33,1113.78 803.498,1113.78 \n",
       "  \"/>\n",
       "<path clip-path=\"url(#clip582)\" d=\"\n",
       "M812.33 1194.44 L812.33 1445.72 L821.162 1445.72 L821.162 1194.44 L812.33 1194.44 L812.33 1194.44  Z\n",
       "  \" fill=\"#009af9\" fill-rule=\"evenodd\" fill-opacity=\"1\"/>\n",
       "<polyline clip-path=\"url(#clip582)\" style=\"stroke:#000000; stroke-linecap:round; stroke-linejoin:round; stroke-width:4; stroke-opacity:1; fill:none\" points=\"\n",
       "  812.33,1194.44 812.33,1445.72 821.162,1445.72 821.162,1194.44 812.33,1194.44 \n",
       "  \"/>\n",
       "<path clip-path=\"url(#clip582)\" d=\"\n",
       "M821.162 1245.11 L821.162 1445.72 L829.994 1445.72 L829.994 1245.11 L821.162 1245.11 L821.162 1245.11  Z\n",
       "  \" fill=\"#009af9\" fill-rule=\"evenodd\" fill-opacity=\"1\"/>\n",
       "<polyline clip-path=\"url(#clip582)\" style=\"stroke:#000000; stroke-linecap:round; stroke-linejoin:round; stroke-width:4; stroke-opacity:1; fill:none\" points=\"\n",
       "  821.162,1245.11 821.162,1445.72 829.994,1445.72 829.994,1245.11 821.162,1245.11 \n",
       "  \"/>\n",
       "<path clip-path=\"url(#clip582)\" d=\"\n",
       "M829.994 1237.87 L829.994 1445.72 L838.827 1445.72 L838.827 1237.87 L829.994 1237.87 L829.994 1237.87  Z\n",
       "  \" fill=\"#009af9\" fill-rule=\"evenodd\" fill-opacity=\"1\"/>\n",
       "<polyline clip-path=\"url(#clip582)\" style=\"stroke:#000000; stroke-linecap:round; stroke-linejoin:round; stroke-width:4; stroke-opacity:1; fill:none\" points=\"\n",
       "  829.994,1237.87 829.994,1445.72 838.827,1445.72 838.827,1237.87 829.994,1237.87 \n",
       "  \"/>\n",
       "<path clip-path=\"url(#clip582)\" d=\"\n",
       "M838.827 1290.6 L838.827 1445.72 L847.659 1445.72 L847.659 1290.6 L838.827 1290.6 L838.827 1290.6  Z\n",
       "  \" fill=\"#009af9\" fill-rule=\"evenodd\" fill-opacity=\"1\"/>\n",
       "<polyline clip-path=\"url(#clip582)\" style=\"stroke:#000000; stroke-linecap:round; stroke-linejoin:round; stroke-width:4; stroke-opacity:1; fill:none\" points=\"\n",
       "  838.827,1290.6 838.827,1445.72 847.659,1445.72 847.659,1290.6 838.827,1290.6 \n",
       "  \"/>\n",
       "<path clip-path=\"url(#clip582)\" d=\"\n",
       "M847.659 1279.23 L847.659 1445.72 L856.491 1445.72 L856.491 1279.23 L847.659 1279.23 L847.659 1279.23  Z\n",
       "  \" fill=\"#009af9\" fill-rule=\"evenodd\" fill-opacity=\"1\"/>\n",
       "<polyline clip-path=\"url(#clip582)\" style=\"stroke:#000000; stroke-linecap:round; stroke-linejoin:round; stroke-width:4; stroke-opacity:1; fill:none\" points=\"\n",
       "  847.659,1279.23 847.659,1445.72 856.491,1445.72 856.491,1279.23 847.659,1279.23 \n",
       "  \"/>\n",
       "<path clip-path=\"url(#clip582)\" d=\"\n",
       "M856.491 1290.6 L856.491 1445.72 L865.323 1445.72 L865.323 1290.6 L856.491 1290.6 L856.491 1290.6  Z\n",
       "  \" fill=\"#009af9\" fill-rule=\"evenodd\" fill-opacity=\"1\"/>\n",
       "<polyline clip-path=\"url(#clip582)\" style=\"stroke:#000000; stroke-linecap:round; stroke-linejoin:round; stroke-width:4; stroke-opacity:1; fill:none\" points=\"\n",
       "  856.491,1290.6 856.491,1445.72 865.323,1445.72 865.323,1290.6 856.491,1290.6 \n",
       "  \"/>\n",
       "<path clip-path=\"url(#clip582)\" d=\"\n",
       "M865.323 1281.3 L865.323 1445.72 L874.155 1445.72 L874.155 1281.3 L865.323 1281.3 L865.323 1281.3  Z\n",
       "  \" fill=\"#009af9\" fill-rule=\"evenodd\" fill-opacity=\"1\"/>\n",
       "<polyline clip-path=\"url(#clip582)\" style=\"stroke:#000000; stroke-linecap:round; stroke-linejoin:round; stroke-width:4; stroke-opacity:1; fill:none\" points=\"\n",
       "  865.323,1281.3 865.323,1445.72 874.155,1445.72 874.155,1281.3 865.323,1281.3 \n",
       "  \"/>\n",
       "<path clip-path=\"url(#clip582)\" d=\"\n",
       "M874.155 1346.44 L874.155 1445.72 L882.988 1445.72 L882.988 1346.44 L874.155 1346.44 L874.155 1346.44  Z\n",
       "  \" fill=\"#009af9\" fill-rule=\"evenodd\" fill-opacity=\"1\"/>\n",
       "<polyline clip-path=\"url(#clip582)\" style=\"stroke:#000000; stroke-linecap:round; stroke-linejoin:round; stroke-width:4; stroke-opacity:1; fill:none\" points=\"\n",
       "  874.155,1346.44 874.155,1445.72 882.988,1445.72 882.988,1346.44 874.155,1346.44 \n",
       "  \"/>\n",
       "<path clip-path=\"url(#clip582)\" d=\"\n",
       "M882.988 1335.07 L882.988 1445.72 L891.82 1445.72 L891.82 1335.07 L882.988 1335.07 L882.988 1335.07  Z\n",
       "  \" fill=\"#009af9\" fill-rule=\"evenodd\" fill-opacity=\"1\"/>\n",
       "<polyline clip-path=\"url(#clip582)\" style=\"stroke:#000000; stroke-linecap:round; stroke-linejoin:round; stroke-width:4; stroke-opacity:1; fill:none\" points=\"\n",
       "  882.988,1335.07 882.988,1445.72 891.82,1445.72 891.82,1335.07 882.988,1335.07 \n",
       "  \"/>\n",
       "<path clip-path=\"url(#clip582)\" d=\"\n",
       "M891.82 1329.9 L891.82 1445.72 L900.652 1445.72 L900.652 1329.9 L891.82 1329.9 L891.82 1329.9  Z\n",
       "  \" fill=\"#009af9\" fill-rule=\"evenodd\" fill-opacity=\"1\"/>\n",
       "<polyline clip-path=\"url(#clip582)\" style=\"stroke:#000000; stroke-linecap:round; stroke-linejoin:round; stroke-width:4; stroke-opacity:1; fill:none\" points=\"\n",
       "  891.82,1329.9 891.82,1445.72 900.652,1445.72 900.652,1329.9 891.82,1329.9 \n",
       "  \"/>\n",
       "<path clip-path=\"url(#clip582)\" d=\"\n",
       "M900.652 1344.38 L900.652 1445.72 L909.484 1445.72 L909.484 1344.38 L900.652 1344.38 L900.652 1344.38  Z\n",
       "  \" fill=\"#009af9\" fill-rule=\"evenodd\" fill-opacity=\"1\"/>\n",
       "<polyline clip-path=\"url(#clip582)\" style=\"stroke:#000000; stroke-linecap:round; stroke-linejoin:round; stroke-width:4; stroke-opacity:1; fill:none\" points=\"\n",
       "  900.652,1344.38 900.652,1445.72 909.484,1445.72 909.484,1344.38 900.652,1344.38 \n",
       "  \"/>\n",
       "<path clip-path=\"url(#clip582)\" d=\"\n",
       "M909.484 1353.68 L909.484 1445.72 L918.316 1445.72 L918.316 1353.68 L909.484 1353.68 L909.484 1353.68  Z\n",
       "  \" fill=\"#009af9\" fill-rule=\"evenodd\" fill-opacity=\"1\"/>\n",
       "<polyline clip-path=\"url(#clip582)\" style=\"stroke:#000000; stroke-linecap:round; stroke-linejoin:round; stroke-width:4; stroke-opacity:1; fill:none\" points=\"\n",
       "  909.484,1353.68 909.484,1445.72 918.316,1445.72 918.316,1353.68 909.484,1353.68 \n",
       "  \"/>\n",
       "<path clip-path=\"url(#clip582)\" d=\"\n",
       "M918.316 1372.3 L918.316 1445.72 L927.148 1445.72 L927.148 1372.3 L918.316 1372.3 L918.316 1372.3  Z\n",
       "  \" fill=\"#009af9\" fill-rule=\"evenodd\" fill-opacity=\"1\"/>\n",
       "<polyline clip-path=\"url(#clip582)\" style=\"stroke:#000000; stroke-linecap:round; stroke-linejoin:round; stroke-width:4; stroke-opacity:1; fill:none\" points=\"\n",
       "  918.316,1372.3 918.316,1445.72 927.148,1445.72 927.148,1372.3 918.316,1372.3 \n",
       "  \"/>\n",
       "<path clip-path=\"url(#clip582)\" d=\"\n",
       "M927.148 1387.81 L927.148 1445.72 L935.981 1445.72 L935.981 1387.81 L927.148 1387.81 L927.148 1387.81  Z\n",
       "  \" fill=\"#009af9\" fill-rule=\"evenodd\" fill-opacity=\"1\"/>\n",
       "<polyline clip-path=\"url(#clip582)\" style=\"stroke:#000000; stroke-linecap:round; stroke-linejoin:round; stroke-width:4; stroke-opacity:1; fill:none\" points=\"\n",
       "  927.148,1387.81 927.148,1445.72 935.981,1445.72 935.981,1387.81 927.148,1387.81 \n",
       "  \"/>\n",
       "<path clip-path=\"url(#clip582)\" d=\"\n",
       "M935.981 1386.77 L935.981 1445.72 L944.813 1445.72 L944.813 1386.77 L935.981 1386.77 L935.981 1386.77  Z\n",
       "  \" fill=\"#009af9\" fill-rule=\"evenodd\" fill-opacity=\"1\"/>\n",
       "<polyline clip-path=\"url(#clip582)\" style=\"stroke:#000000; stroke-linecap:round; stroke-linejoin:round; stroke-width:4; stroke-opacity:1; fill:none\" points=\"\n",
       "  935.981,1386.77 935.981,1445.72 944.813,1445.72 944.813,1386.77 935.981,1386.77 \n",
       "  \"/>\n",
       "<path clip-path=\"url(#clip582)\" d=\"\n",
       "M944.813 1376.43 L944.813 1445.72 L953.645 1445.72 L953.645 1376.43 L944.813 1376.43 L944.813 1376.43  Z\n",
       "  \" fill=\"#009af9\" fill-rule=\"evenodd\" fill-opacity=\"1\"/>\n",
       "<polyline clip-path=\"url(#clip582)\" style=\"stroke:#000000; stroke-linecap:round; stroke-linejoin:round; stroke-width:4; stroke-opacity:1; fill:none\" points=\"\n",
       "  944.813,1376.43 944.813,1445.72 953.645,1445.72 953.645,1376.43 944.813,1376.43 \n",
       "  \"/>\n",
       "<path clip-path=\"url(#clip582)\" d=\"\n",
       "M953.645 1398.15 L953.645 1445.72 L962.477 1445.72 L962.477 1398.15 L953.645 1398.15 L953.645 1398.15  Z\n",
       "  \" fill=\"#009af9\" fill-rule=\"evenodd\" fill-opacity=\"1\"/>\n",
       "<polyline clip-path=\"url(#clip582)\" style=\"stroke:#000000; stroke-linecap:round; stroke-linejoin:round; stroke-width:4; stroke-opacity:1; fill:none\" points=\"\n",
       "  953.645,1398.15 953.645,1445.72 962.477,1445.72 962.477,1398.15 953.645,1398.15 \n",
       "  \"/>\n",
       "<path clip-path=\"url(#clip582)\" d=\"\n",
       "M962.477 1396.08 L962.477 1445.72 L971.309 1445.72 L971.309 1396.08 L962.477 1396.08 L962.477 1396.08  Z\n",
       "  \" fill=\"#009af9\" fill-rule=\"evenodd\" fill-opacity=\"1\"/>\n",
       "<polyline clip-path=\"url(#clip582)\" style=\"stroke:#000000; stroke-linecap:round; stroke-linejoin:round; stroke-width:4; stroke-opacity:1; fill:none\" points=\"\n",
       "  962.477,1396.08 962.477,1445.72 971.309,1445.72 971.309,1396.08 962.477,1396.08 \n",
       "  \"/>\n",
       "<path clip-path=\"url(#clip582)\" d=\"\n",
       "M971.309 1384.71 L971.309 1445.72 L980.142 1445.72 L980.142 1384.71 L971.309 1384.71 L971.309 1384.71  Z\n",
       "  \" fill=\"#009af9\" fill-rule=\"evenodd\" fill-opacity=\"1\"/>\n",
       "<polyline clip-path=\"url(#clip582)\" style=\"stroke:#000000; stroke-linecap:round; stroke-linejoin:round; stroke-width:4; stroke-opacity:1; fill:none\" points=\"\n",
       "  971.309,1384.71 971.309,1445.72 980.142,1445.72 980.142,1384.71 971.309,1384.71 \n",
       "  \"/>\n",
       "<path clip-path=\"url(#clip582)\" d=\"\n",
       "M980.142 1403.32 L980.142 1445.72 L988.974 1445.72 L988.974 1403.32 L980.142 1403.32 L980.142 1403.32  Z\n",
       "  \" fill=\"#009af9\" fill-rule=\"evenodd\" fill-opacity=\"1\"/>\n",
       "<polyline clip-path=\"url(#clip582)\" style=\"stroke:#000000; stroke-linecap:round; stroke-linejoin:round; stroke-width:4; stroke-opacity:1; fill:none\" points=\"\n",
       "  980.142,1403.32 980.142,1445.72 988.974,1445.72 988.974,1403.32 980.142,1403.32 \n",
       "  \"/>\n",
       "<path clip-path=\"url(#clip582)\" d=\"\n",
       "M988.974 1409.52 L988.974 1445.72 L997.806 1445.72 L997.806 1409.52 L988.974 1409.52 L988.974 1409.52  Z\n",
       "  \" fill=\"#009af9\" fill-rule=\"evenodd\" fill-opacity=\"1\"/>\n",
       "<polyline clip-path=\"url(#clip582)\" style=\"stroke:#000000; stroke-linecap:round; stroke-linejoin:round; stroke-width:4; stroke-opacity:1; fill:none\" points=\"\n",
       "  988.974,1409.52 988.974,1445.72 997.806,1445.72 997.806,1409.52 988.974,1409.52 \n",
       "  \"/>\n",
       "<path clip-path=\"url(#clip582)\" d=\"\n",
       "M997.806 1410.56 L997.806 1445.72 L1006.64 1445.72 L1006.64 1410.56 L997.806 1410.56 L997.806 1410.56  Z\n",
       "  \" fill=\"#009af9\" fill-rule=\"evenodd\" fill-opacity=\"1\"/>\n",
       "<polyline clip-path=\"url(#clip582)\" style=\"stroke:#000000; stroke-linecap:round; stroke-linejoin:round; stroke-width:4; stroke-opacity:1; fill:none\" points=\"\n",
       "  997.806,1410.56 997.806,1445.72 1006.64,1445.72 1006.64,1410.56 997.806,1410.56 \n",
       "  \"/>\n",
       "<path clip-path=\"url(#clip582)\" d=\"\n",
       "M1006.64 1404.35 L1006.64 1445.72 L1015.47 1445.72 L1015.47 1404.35 L1006.64 1404.35 L1006.64 1404.35  Z\n",
       "  \" fill=\"#009af9\" fill-rule=\"evenodd\" fill-opacity=\"1\"/>\n",
       "<polyline clip-path=\"url(#clip582)\" style=\"stroke:#000000; stroke-linecap:round; stroke-linejoin:round; stroke-width:4; stroke-opacity:1; fill:none\" points=\"\n",
       "  1006.64,1404.35 1006.64,1445.72 1015.47,1445.72 1015.47,1404.35 1006.64,1404.35 \n",
       "  \"/>\n",
       "<path clip-path=\"url(#clip582)\" d=\"\n",
       "M1015.47 1411.59 L1015.47 1445.72 L1024.3 1445.72 L1024.3 1411.59 L1015.47 1411.59 L1015.47 1411.59  Z\n",
       "  \" fill=\"#009af9\" fill-rule=\"evenodd\" fill-opacity=\"1\"/>\n",
       "<polyline clip-path=\"url(#clip582)\" style=\"stroke:#000000; stroke-linecap:round; stroke-linejoin:round; stroke-width:4; stroke-opacity:1; fill:none\" points=\"\n",
       "  1015.47,1411.59 1015.47,1445.72 1024.3,1445.72 1024.3,1411.59 1015.47,1411.59 \n",
       "  \"/>\n",
       "<path clip-path=\"url(#clip582)\" d=\"\n",
       "M1024.3 1411.59 L1024.3 1445.72 L1033.13 1445.72 L1033.13 1411.59 L1024.3 1411.59 L1024.3 1411.59  Z\n",
       "  \" fill=\"#009af9\" fill-rule=\"evenodd\" fill-opacity=\"1\"/>\n",
       "<polyline clip-path=\"url(#clip582)\" style=\"stroke:#000000; stroke-linecap:round; stroke-linejoin:round; stroke-width:4; stroke-opacity:1; fill:none\" points=\"\n",
       "  1024.3,1411.59 1024.3,1445.72 1033.13,1445.72 1033.13,1411.59 1024.3,1411.59 \n",
       "  \"/>\n",
       "<path clip-path=\"url(#clip582)\" d=\"\n",
       "M1033.13 1419.86 L1033.13 1445.72 L1041.97 1445.72 L1041.97 1419.86 L1033.13 1419.86 L1033.13 1419.86  Z\n",
       "  \" fill=\"#009af9\" fill-rule=\"evenodd\" fill-opacity=\"1\"/>\n",
       "<polyline clip-path=\"url(#clip582)\" style=\"stroke:#000000; stroke-linecap:round; stroke-linejoin:round; stroke-width:4; stroke-opacity:1; fill:none\" points=\"\n",
       "  1033.13,1419.86 1033.13,1445.72 1041.97,1445.72 1041.97,1419.86 1033.13,1419.86 \n",
       "  \"/>\n",
       "<path clip-path=\"url(#clip582)\" d=\"\n",
       "M1041.97 1414.69 L1041.97 1445.72 L1050.8 1445.72 L1050.8 1414.69 L1041.97 1414.69 L1041.97 1414.69  Z\n",
       "  \" fill=\"#009af9\" fill-rule=\"evenodd\" fill-opacity=\"1\"/>\n",
       "<polyline clip-path=\"url(#clip582)\" style=\"stroke:#000000; stroke-linecap:round; stroke-linejoin:round; stroke-width:4; stroke-opacity:1; fill:none\" points=\"\n",
       "  1041.97,1414.69 1041.97,1445.72 1050.8,1445.72 1050.8,1414.69 1041.97,1414.69 \n",
       "  \"/>\n",
       "<path clip-path=\"url(#clip582)\" d=\"\n",
       "M1050.8 1416.76 L1050.8 1445.72 L1059.63 1445.72 L1059.63 1416.76 L1050.8 1416.76 L1050.8 1416.76  Z\n",
       "  \" fill=\"#009af9\" fill-rule=\"evenodd\" fill-opacity=\"1\"/>\n",
       "<polyline clip-path=\"url(#clip582)\" style=\"stroke:#000000; stroke-linecap:round; stroke-linejoin:round; stroke-width:4; stroke-opacity:1; fill:none\" points=\"\n",
       "  1050.8,1416.76 1050.8,1445.72 1059.63,1445.72 1059.63,1416.76 1050.8,1416.76 \n",
       "  \"/>\n",
       "<path clip-path=\"url(#clip582)\" d=\"\n",
       "M1059.63 1418.83 L1059.63 1445.72 L1068.46 1445.72 L1068.46 1418.83 L1059.63 1418.83 L1059.63 1418.83  Z\n",
       "  \" fill=\"#009af9\" fill-rule=\"evenodd\" fill-opacity=\"1\"/>\n",
       "<polyline clip-path=\"url(#clip582)\" style=\"stroke:#000000; stroke-linecap:round; stroke-linejoin:round; stroke-width:4; stroke-opacity:1; fill:none\" points=\"\n",
       "  1059.63,1418.83 1059.63,1445.72 1068.46,1445.72 1068.46,1418.83 1059.63,1418.83 \n",
       "  \"/>\n",
       "<path clip-path=\"url(#clip582)\" d=\"\n",
       "M1068.46 1408.49 L1068.46 1445.72 L1077.3 1445.72 L1077.3 1408.49 L1068.46 1408.49 L1068.46 1408.49  Z\n",
       "  \" fill=\"#009af9\" fill-rule=\"evenodd\" fill-opacity=\"1\"/>\n",
       "<polyline clip-path=\"url(#clip582)\" style=\"stroke:#000000; stroke-linecap:round; stroke-linejoin:round; stroke-width:4; stroke-opacity:1; fill:none\" points=\"\n",
       "  1068.46,1408.49 1068.46,1445.72 1077.3,1445.72 1077.3,1408.49 1068.46,1408.49 \n",
       "  \"/>\n",
       "<path clip-path=\"url(#clip582)\" d=\"\n",
       "M1077.3 1419.86 L1077.3 1445.72 L1086.13 1445.72 L1086.13 1419.86 L1077.3 1419.86 L1077.3 1419.86  Z\n",
       "  \" fill=\"#009af9\" fill-rule=\"evenodd\" fill-opacity=\"1\"/>\n",
       "<polyline clip-path=\"url(#clip582)\" style=\"stroke:#000000; stroke-linecap:round; stroke-linejoin:round; stroke-width:4; stroke-opacity:1; fill:none\" points=\"\n",
       "  1077.3,1419.86 1077.3,1445.72 1086.13,1445.72 1086.13,1419.86 1077.3,1419.86 \n",
       "  \"/>\n",
       "<path clip-path=\"url(#clip582)\" d=\"\n",
       "M1086.13 1419.86 L1086.13 1445.72 L1094.96 1445.72 L1094.96 1419.86 L1086.13 1419.86 L1086.13 1419.86  Z\n",
       "  \" fill=\"#009af9\" fill-rule=\"evenodd\" fill-opacity=\"1\"/>\n",
       "<polyline clip-path=\"url(#clip582)\" style=\"stroke:#000000; stroke-linecap:round; stroke-linejoin:round; stroke-width:4; stroke-opacity:1; fill:none\" points=\"\n",
       "  1086.13,1419.86 1086.13,1445.72 1094.96,1445.72 1094.96,1419.86 1086.13,1419.86 \n",
       "  \"/>\n",
       "<path clip-path=\"url(#clip582)\" d=\"\n",
       "M1094.96 1421.93 L1094.96 1445.72 L1103.79 1445.72 L1103.79 1421.93 L1094.96 1421.93 L1094.96 1421.93  Z\n",
       "  \" fill=\"#009af9\" fill-rule=\"evenodd\" fill-opacity=\"1\"/>\n",
       "<polyline clip-path=\"url(#clip582)\" style=\"stroke:#000000; stroke-linecap:round; stroke-linejoin:round; stroke-width:4; stroke-opacity:1; fill:none\" points=\"\n",
       "  1094.96,1421.93 1094.96,1445.72 1103.79,1445.72 1103.79,1421.93 1094.96,1421.93 \n",
       "  \"/>\n",
       "<path clip-path=\"url(#clip582)\" d=\"\n",
       "M1103.79 1427.1 L1103.79 1445.72 L1112.62 1445.72 L1112.62 1427.1 L1103.79 1427.1 L1103.79 1427.1  Z\n",
       "  \" fill=\"#009af9\" fill-rule=\"evenodd\" fill-opacity=\"1\"/>\n",
       "<polyline clip-path=\"url(#clip582)\" style=\"stroke:#000000; stroke-linecap:round; stroke-linejoin:round; stroke-width:4; stroke-opacity:1; fill:none\" points=\"\n",
       "  1103.79,1427.1 1103.79,1445.72 1112.62,1445.72 1112.62,1427.1 1103.79,1427.1 \n",
       "  \"/>\n",
       "<path clip-path=\"url(#clip582)\" d=\"\n",
       "M1112.62 1421.93 L1112.62 1445.72 L1121.46 1445.72 L1121.46 1421.93 L1112.62 1421.93 L1112.62 1421.93  Z\n",
       "  \" fill=\"#009af9\" fill-rule=\"evenodd\" fill-opacity=\"1\"/>\n",
       "<polyline clip-path=\"url(#clip582)\" style=\"stroke:#000000; stroke-linecap:round; stroke-linejoin:round; stroke-width:4; stroke-opacity:1; fill:none\" points=\"\n",
       "  1112.62,1421.93 1112.62,1445.72 1121.46,1445.72 1121.46,1421.93 1112.62,1421.93 \n",
       "  \"/>\n",
       "<path clip-path=\"url(#clip582)\" d=\"\n",
       "M1121.46 1429.17 L1121.46 1445.72 L1130.29 1445.72 L1130.29 1429.17 L1121.46 1429.17 L1121.46 1429.17  Z\n",
       "  \" fill=\"#009af9\" fill-rule=\"evenodd\" fill-opacity=\"1\"/>\n",
       "<polyline clip-path=\"url(#clip582)\" style=\"stroke:#000000; stroke-linecap:round; stroke-linejoin:round; stroke-width:4; stroke-opacity:1; fill:none\" points=\"\n",
       "  1121.46,1429.17 1121.46,1445.72 1130.29,1445.72 1130.29,1429.17 1121.46,1429.17 \n",
       "  \"/>\n",
       "<path clip-path=\"url(#clip582)\" d=\"\n",
       "M1130.29 1425.03 L1130.29 1445.72 L1139.12 1445.72 L1139.12 1425.03 L1130.29 1425.03 L1130.29 1425.03  Z\n",
       "  \" fill=\"#009af9\" fill-rule=\"evenodd\" fill-opacity=\"1\"/>\n",
       "<polyline clip-path=\"url(#clip582)\" style=\"stroke:#000000; stroke-linecap:round; stroke-linejoin:round; stroke-width:4; stroke-opacity:1; fill:none\" points=\"\n",
       "  1130.29,1425.03 1130.29,1445.72 1139.12,1445.72 1139.12,1425.03 1130.29,1425.03 \n",
       "  \"/>\n",
       "<path clip-path=\"url(#clip582)\" d=\"\n",
       "M1139.12 1431.24 L1139.12 1445.72 L1147.95 1445.72 L1147.95 1431.24 L1139.12 1431.24 L1139.12 1431.24  Z\n",
       "  \" fill=\"#009af9\" fill-rule=\"evenodd\" fill-opacity=\"1\"/>\n",
       "<polyline clip-path=\"url(#clip582)\" style=\"stroke:#000000; stroke-linecap:round; stroke-linejoin:round; stroke-width:4; stroke-opacity:1; fill:none\" points=\"\n",
       "  1139.12,1431.24 1139.12,1445.72 1147.95,1445.72 1147.95,1431.24 1139.12,1431.24 \n",
       "  \"/>\n",
       "<path clip-path=\"url(#clip582)\" d=\"\n",
       "M1147.95 1424 L1147.95 1445.72 L1156.79 1445.72 L1156.79 1424 L1147.95 1424 L1147.95 1424  Z\n",
       "  \" fill=\"#009af9\" fill-rule=\"evenodd\" fill-opacity=\"1\"/>\n",
       "<polyline clip-path=\"url(#clip582)\" style=\"stroke:#000000; stroke-linecap:round; stroke-linejoin:round; stroke-width:4; stroke-opacity:1; fill:none\" points=\"\n",
       "  1147.95,1424 1147.95,1445.72 1156.79,1445.72 1156.79,1424 1147.95,1424 \n",
       "  \"/>\n",
       "<path clip-path=\"url(#clip582)\" d=\"\n",
       "M1156.79 1424 L1156.79 1445.72 L1165.62 1445.72 L1165.62 1424 L1156.79 1424 L1156.79 1424  Z\n",
       "  \" fill=\"#009af9\" fill-rule=\"evenodd\" fill-opacity=\"1\"/>\n",
       "<polyline clip-path=\"url(#clip582)\" style=\"stroke:#000000; stroke-linecap:round; stroke-linejoin:round; stroke-width:4; stroke-opacity:1; fill:none\" points=\"\n",
       "  1156.79,1424 1156.79,1445.72 1165.62,1445.72 1165.62,1424 1156.79,1424 \n",
       "  \"/>\n",
       "<path clip-path=\"url(#clip582)\" d=\"\n",
       "M1165.62 1428.14 L1165.62 1445.72 L1174.45 1445.72 L1174.45 1428.14 L1165.62 1428.14 L1165.62 1428.14  Z\n",
       "  \" fill=\"#009af9\" fill-rule=\"evenodd\" fill-opacity=\"1\"/>\n",
       "<polyline clip-path=\"url(#clip582)\" style=\"stroke:#000000; stroke-linecap:round; stroke-linejoin:round; stroke-width:4; stroke-opacity:1; fill:none\" points=\"\n",
       "  1165.62,1428.14 1165.62,1445.72 1174.45,1445.72 1174.45,1428.14 1165.62,1428.14 \n",
       "  \"/>\n",
       "<path clip-path=\"url(#clip582)\" d=\"\n",
       "M1174.45 1424 L1174.45 1445.72 L1183.28 1445.72 L1183.28 1424 L1174.45 1424 L1174.45 1424  Z\n",
       "  \" fill=\"#009af9\" fill-rule=\"evenodd\" fill-opacity=\"1\"/>\n",
       "<polyline clip-path=\"url(#clip582)\" style=\"stroke:#000000; stroke-linecap:round; stroke-linejoin:round; stroke-width:4; stroke-opacity:1; fill:none\" points=\"\n",
       "  1174.45,1424 1174.45,1445.72 1183.28,1445.72 1183.28,1424 1174.45,1424 \n",
       "  \"/>\n",
       "<path clip-path=\"url(#clip582)\" d=\"\n",
       "M1183.28 1434.34 L1183.28 1445.72 L1192.11 1445.72 L1192.11 1434.34 L1183.28 1434.34 L1183.28 1434.34  Z\n",
       "  \" fill=\"#009af9\" fill-rule=\"evenodd\" fill-opacity=\"1\"/>\n",
       "<polyline clip-path=\"url(#clip582)\" style=\"stroke:#000000; stroke-linecap:round; stroke-linejoin:round; stroke-width:4; stroke-opacity:1; fill:none\" points=\"\n",
       "  1183.28,1434.34 1183.28,1445.72 1192.11,1445.72 1192.11,1434.34 1183.28,1434.34 \n",
       "  \"/>\n",
       "<path clip-path=\"url(#clip582)\" d=\"\n",
       "M1192.11 1424 L1192.11 1445.72 L1200.95 1445.72 L1200.95 1424 L1192.11 1424 L1192.11 1424  Z\n",
       "  \" fill=\"#009af9\" fill-rule=\"evenodd\" fill-opacity=\"1\"/>\n",
       "<polyline clip-path=\"url(#clip582)\" style=\"stroke:#000000; stroke-linecap:round; stroke-linejoin:round; stroke-width:4; stroke-opacity:1; fill:none\" points=\"\n",
       "  1192.11,1424 1192.11,1445.72 1200.95,1445.72 1200.95,1424 1192.11,1424 \n",
       "  \"/>\n",
       "<path clip-path=\"url(#clip582)\" d=\"\n",
       "M1200.95 1420.9 L1200.95 1445.72 L1209.78 1445.72 L1209.78 1420.9 L1200.95 1420.9 L1200.95 1420.9  Z\n",
       "  \" fill=\"#009af9\" fill-rule=\"evenodd\" fill-opacity=\"1\"/>\n",
       "<polyline clip-path=\"url(#clip582)\" style=\"stroke:#000000; stroke-linecap:round; stroke-linejoin:round; stroke-width:4; stroke-opacity:1; fill:none\" points=\"\n",
       "  1200.95,1420.9 1200.95,1445.72 1209.78,1445.72 1209.78,1420.9 1200.95,1420.9 \n",
       "  \"/>\n",
       "<path clip-path=\"url(#clip582)\" d=\"\n",
       "M1209.78 1430.2 L1209.78 1445.72 L1218.61 1445.72 L1218.61 1430.2 L1209.78 1430.2 L1209.78 1430.2  Z\n",
       "  \" fill=\"#009af9\" fill-rule=\"evenodd\" fill-opacity=\"1\"/>\n",
       "<polyline clip-path=\"url(#clip582)\" style=\"stroke:#000000; stroke-linecap:round; stroke-linejoin:round; stroke-width:4; stroke-opacity:1; fill:none\" points=\"\n",
       "  1209.78,1430.2 1209.78,1445.72 1218.61,1445.72 1218.61,1430.2 1209.78,1430.2 \n",
       "  \"/>\n",
       "<path clip-path=\"url(#clip582)\" d=\"\n",
       "M1218.61 1425.03 L1218.61 1445.72 L1227.44 1445.72 L1227.44 1425.03 L1218.61 1425.03 L1218.61 1425.03  Z\n",
       "  \" fill=\"#009af9\" fill-rule=\"evenodd\" fill-opacity=\"1\"/>\n",
       "<polyline clip-path=\"url(#clip582)\" style=\"stroke:#000000; stroke-linecap:round; stroke-linejoin:round; stroke-width:4; stroke-opacity:1; fill:none\" points=\"\n",
       "  1218.61,1425.03 1218.61,1445.72 1227.44,1445.72 1227.44,1425.03 1218.61,1425.03 \n",
       "  \"/>\n",
       "<path clip-path=\"url(#clip582)\" d=\"\n",
       "M1227.44 1432.27 L1227.44 1445.72 L1236.27 1445.72 L1236.27 1432.27 L1227.44 1432.27 L1227.44 1432.27  Z\n",
       "  \" fill=\"#009af9\" fill-rule=\"evenodd\" fill-opacity=\"1\"/>\n",
       "<polyline clip-path=\"url(#clip582)\" style=\"stroke:#000000; stroke-linecap:round; stroke-linejoin:round; stroke-width:4; stroke-opacity:1; fill:none\" points=\"\n",
       "  1227.44,1432.27 1227.44,1445.72 1236.27,1445.72 1236.27,1432.27 1227.44,1432.27 \n",
       "  \"/>\n",
       "<path clip-path=\"url(#clip582)\" d=\"\n",
       "M1236.27 1427.1 L1236.27 1445.72 L1245.11 1445.72 L1245.11 1427.1 L1236.27 1427.1 L1236.27 1427.1  Z\n",
       "  \" fill=\"#009af9\" fill-rule=\"evenodd\" fill-opacity=\"1\"/>\n",
       "<polyline clip-path=\"url(#clip582)\" style=\"stroke:#000000; stroke-linecap:round; stroke-linejoin:round; stroke-width:4; stroke-opacity:1; fill:none\" points=\"\n",
       "  1236.27,1427.1 1236.27,1445.72 1245.11,1445.72 1245.11,1427.1 1236.27,1427.1 \n",
       "  \"/>\n",
       "<path clip-path=\"url(#clip582)\" d=\"\n",
       "M1245.11 1429.17 L1245.11 1445.72 L1253.94 1445.72 L1253.94 1429.17 L1245.11 1429.17 L1245.11 1429.17  Z\n",
       "  \" fill=\"#009af9\" fill-rule=\"evenodd\" fill-opacity=\"1\"/>\n",
       "<polyline clip-path=\"url(#clip582)\" style=\"stroke:#000000; stroke-linecap:round; stroke-linejoin:round; stroke-width:4; stroke-opacity:1; fill:none\" points=\"\n",
       "  1245.11,1429.17 1245.11,1445.72 1253.94,1445.72 1253.94,1429.17 1245.11,1429.17 \n",
       "  \"/>\n",
       "<path clip-path=\"url(#clip582)\" d=\"\n",
       "M1253.94 1426.07 L1253.94 1445.72 L1262.77 1445.72 L1262.77 1426.07 L1253.94 1426.07 L1253.94 1426.07  Z\n",
       "  \" fill=\"#009af9\" fill-rule=\"evenodd\" fill-opacity=\"1\"/>\n",
       "<polyline clip-path=\"url(#clip582)\" style=\"stroke:#000000; stroke-linecap:round; stroke-linejoin:round; stroke-width:4; stroke-opacity:1; fill:none\" points=\"\n",
       "  1253.94,1426.07 1253.94,1445.72 1262.77,1445.72 1262.77,1426.07 1253.94,1426.07 \n",
       "  \"/>\n",
       "<path clip-path=\"url(#clip582)\" d=\"\n",
       "M1262.77 1431.24 L1262.77 1445.72 L1271.6 1445.72 L1271.6 1431.24 L1262.77 1431.24 L1262.77 1431.24  Z\n",
       "  \" fill=\"#009af9\" fill-rule=\"evenodd\" fill-opacity=\"1\"/>\n",
       "<polyline clip-path=\"url(#clip582)\" style=\"stroke:#000000; stroke-linecap:round; stroke-linejoin:round; stroke-width:4; stroke-opacity:1; fill:none\" points=\"\n",
       "  1262.77,1431.24 1262.77,1445.72 1271.6,1445.72 1271.6,1431.24 1262.77,1431.24 \n",
       "  \"/>\n",
       "<path clip-path=\"url(#clip582)\" d=\"\n",
       "M1271.6 1425.03 L1271.6 1445.72 L1280.44 1445.72 L1280.44 1425.03 L1271.6 1425.03 L1271.6 1425.03  Z\n",
       "  \" fill=\"#009af9\" fill-rule=\"evenodd\" fill-opacity=\"1\"/>\n",
       "<polyline clip-path=\"url(#clip582)\" style=\"stroke:#000000; stroke-linecap:round; stroke-linejoin:round; stroke-width:4; stroke-opacity:1; fill:none\" points=\"\n",
       "  1271.6,1425.03 1271.6,1445.72 1280.44,1445.72 1280.44,1425.03 1271.6,1425.03 \n",
       "  \"/>\n",
       "<path clip-path=\"url(#clip582)\" d=\"\n",
       "M1280.44 1429.17 L1280.44 1445.72 L1289.27 1445.72 L1289.27 1429.17 L1280.44 1429.17 L1280.44 1429.17  Z\n",
       "  \" fill=\"#009af9\" fill-rule=\"evenodd\" fill-opacity=\"1\"/>\n",
       "<polyline clip-path=\"url(#clip582)\" style=\"stroke:#000000; stroke-linecap:round; stroke-linejoin:round; stroke-width:4; stroke-opacity:1; fill:none\" points=\"\n",
       "  1280.44,1429.17 1280.44,1445.72 1289.27,1445.72 1289.27,1429.17 1280.44,1429.17 \n",
       "  \"/>\n",
       "<path clip-path=\"url(#clip582)\" d=\"\n",
       "M1289.27 1429.17 L1289.27 1445.72 L1298.1 1445.72 L1298.1 1429.17 L1289.27 1429.17 L1289.27 1429.17  Z\n",
       "  \" fill=\"#009af9\" fill-rule=\"evenodd\" fill-opacity=\"1\"/>\n",
       "<polyline clip-path=\"url(#clip582)\" style=\"stroke:#000000; stroke-linecap:round; stroke-linejoin:round; stroke-width:4; stroke-opacity:1; fill:none\" points=\"\n",
       "  1289.27,1429.17 1289.27,1445.72 1298.1,1445.72 1298.1,1429.17 1289.27,1429.17 \n",
       "  \"/>\n",
       "<path clip-path=\"url(#clip582)\" d=\"\n",
       "M1298.1 1435.37 L1298.1 1445.72 L1306.93 1445.72 L1306.93 1435.37 L1298.1 1435.37 L1298.1 1435.37  Z\n",
       "  \" fill=\"#009af9\" fill-rule=\"evenodd\" fill-opacity=\"1\"/>\n",
       "<polyline clip-path=\"url(#clip582)\" style=\"stroke:#000000; stroke-linecap:round; stroke-linejoin:round; stroke-width:4; stroke-opacity:1; fill:none\" points=\"\n",
       "  1298.1,1435.37 1298.1,1445.72 1306.93,1445.72 1306.93,1435.37 1298.1,1435.37 \n",
       "  \"/>\n",
       "<path clip-path=\"url(#clip582)\" d=\"\n",
       "M1306.93 1432.27 L1306.93 1445.72 L1315.76 1445.72 L1315.76 1432.27 L1306.93 1432.27 L1306.93 1432.27  Z\n",
       "  \" fill=\"#009af9\" fill-rule=\"evenodd\" fill-opacity=\"1\"/>\n",
       "<polyline clip-path=\"url(#clip582)\" style=\"stroke:#000000; stroke-linecap:round; stroke-linejoin:round; stroke-width:4; stroke-opacity:1; fill:none\" points=\"\n",
       "  1306.93,1432.27 1306.93,1445.72 1315.76,1445.72 1315.76,1432.27 1306.93,1432.27 \n",
       "  \"/>\n",
       "<path clip-path=\"url(#clip582)\" d=\"\n",
       "M1315.76 1432.27 L1315.76 1445.72 L1324.6 1445.72 L1324.6 1432.27 L1315.76 1432.27 L1315.76 1432.27  Z\n",
       "  \" fill=\"#009af9\" fill-rule=\"evenodd\" fill-opacity=\"1\"/>\n",
       "<polyline clip-path=\"url(#clip582)\" style=\"stroke:#000000; stroke-linecap:round; stroke-linejoin:round; stroke-width:4; stroke-opacity:1; fill:none\" points=\"\n",
       "  1315.76,1432.27 1315.76,1445.72 1324.6,1445.72 1324.6,1432.27 1315.76,1432.27 \n",
       "  \"/>\n",
       "<path clip-path=\"url(#clip582)\" d=\"\n",
       "M1324.6 1424 L1324.6 1445.72 L1333.43 1445.72 L1333.43 1424 L1324.6 1424 L1324.6 1424  Z\n",
       "  \" fill=\"#009af9\" fill-rule=\"evenodd\" fill-opacity=\"1\"/>\n",
       "<polyline clip-path=\"url(#clip582)\" style=\"stroke:#000000; stroke-linecap:round; stroke-linejoin:round; stroke-width:4; stroke-opacity:1; fill:none\" points=\"\n",
       "  1324.6,1424 1324.6,1445.72 1333.43,1445.72 1333.43,1424 1324.6,1424 \n",
       "  \"/>\n",
       "<path clip-path=\"url(#clip582)\" d=\"\n",
       "M1333.43 1431.24 L1333.43 1445.72 L1342.26 1445.72 L1342.26 1431.24 L1333.43 1431.24 L1333.43 1431.24  Z\n",
       "  \" fill=\"#009af9\" fill-rule=\"evenodd\" fill-opacity=\"1\"/>\n",
       "<polyline clip-path=\"url(#clip582)\" style=\"stroke:#000000; stroke-linecap:round; stroke-linejoin:round; stroke-width:4; stroke-opacity:1; fill:none\" points=\"\n",
       "  1333.43,1431.24 1333.43,1445.72 1342.26,1445.72 1342.26,1431.24 1333.43,1431.24 \n",
       "  \"/>\n",
       "<path clip-path=\"url(#clip582)\" d=\"\n",
       "M1342.26 1434.34 L1342.26 1445.72 L1351.09 1445.72 L1351.09 1434.34 L1342.26 1434.34 L1342.26 1434.34  Z\n",
       "  \" fill=\"#009af9\" fill-rule=\"evenodd\" fill-opacity=\"1\"/>\n",
       "<polyline clip-path=\"url(#clip582)\" style=\"stroke:#000000; stroke-linecap:round; stroke-linejoin:round; stroke-width:4; stroke-opacity:1; fill:none\" points=\"\n",
       "  1342.26,1434.34 1342.26,1445.72 1351.09,1445.72 1351.09,1434.34 1342.26,1434.34 \n",
       "  \"/>\n",
       "<path clip-path=\"url(#clip582)\" d=\"\n",
       "M1351.09 1432.27 L1351.09 1445.72 L1359.93 1445.72 L1359.93 1432.27 L1351.09 1432.27 L1351.09 1432.27  Z\n",
       "  \" fill=\"#009af9\" fill-rule=\"evenodd\" fill-opacity=\"1\"/>\n",
       "<polyline clip-path=\"url(#clip582)\" style=\"stroke:#000000; stroke-linecap:round; stroke-linejoin:round; stroke-width:4; stroke-opacity:1; fill:none\" points=\"\n",
       "  1351.09,1432.27 1351.09,1445.72 1359.93,1445.72 1359.93,1432.27 1351.09,1432.27 \n",
       "  \"/>\n",
       "<path clip-path=\"url(#clip582)\" d=\"\n",
       "M1359.93 1433.31 L1359.93 1445.72 L1368.76 1445.72 L1368.76 1433.31 L1359.93 1433.31 L1359.93 1433.31  Z\n",
       "  \" fill=\"#009af9\" fill-rule=\"evenodd\" fill-opacity=\"1\"/>\n",
       "<polyline clip-path=\"url(#clip582)\" style=\"stroke:#000000; stroke-linecap:round; stroke-linejoin:round; stroke-width:4; stroke-opacity:1; fill:none\" points=\"\n",
       "  1359.93,1433.31 1359.93,1445.72 1368.76,1445.72 1368.76,1433.31 1359.93,1433.31 \n",
       "  \"/>\n",
       "<path clip-path=\"url(#clip582)\" d=\"\n",
       "M1368.76 1427.1 L1368.76 1445.72 L1377.59 1445.72 L1377.59 1427.1 L1368.76 1427.1 L1368.76 1427.1  Z\n",
       "  \" fill=\"#009af9\" fill-rule=\"evenodd\" fill-opacity=\"1\"/>\n",
       "<polyline clip-path=\"url(#clip582)\" style=\"stroke:#000000; stroke-linecap:round; stroke-linejoin:round; stroke-width:4; stroke-opacity:1; fill:none\" points=\"\n",
       "  1368.76,1427.1 1368.76,1445.72 1377.59,1445.72 1377.59,1427.1 1368.76,1427.1 \n",
       "  \"/>\n",
       "<path clip-path=\"url(#clip582)\" d=\"\n",
       "M1377.59 1431.24 L1377.59 1445.72 L1386.42 1445.72 L1386.42 1431.24 L1377.59 1431.24 L1377.59 1431.24  Z\n",
       "  \" fill=\"#009af9\" fill-rule=\"evenodd\" fill-opacity=\"1\"/>\n",
       "<polyline clip-path=\"url(#clip582)\" style=\"stroke:#000000; stroke-linecap:round; stroke-linejoin:round; stroke-width:4; stroke-opacity:1; fill:none\" points=\"\n",
       "  1377.59,1431.24 1377.59,1445.72 1386.42,1445.72 1386.42,1431.24 1377.59,1431.24 \n",
       "  \"/>\n",
       "<path clip-path=\"url(#clip582)\" d=\"\n",
       "M1386.42 1432.27 L1386.42 1445.72 L1395.25 1445.72 L1395.25 1432.27 L1386.42 1432.27 L1386.42 1432.27  Z\n",
       "  \" fill=\"#009af9\" fill-rule=\"evenodd\" fill-opacity=\"1\"/>\n",
       "<polyline clip-path=\"url(#clip582)\" style=\"stroke:#000000; stroke-linecap:round; stroke-linejoin:round; stroke-width:4; stroke-opacity:1; fill:none\" points=\"\n",
       "  1386.42,1432.27 1386.42,1445.72 1395.25,1445.72 1395.25,1432.27 1386.42,1432.27 \n",
       "  \"/>\n",
       "<path clip-path=\"url(#clip582)\" d=\"\n",
       "M1395.25 1430.2 L1395.25 1445.72 L1404.09 1445.72 L1404.09 1430.2 L1395.25 1430.2 L1395.25 1430.2  Z\n",
       "  \" fill=\"#009af9\" fill-rule=\"evenodd\" fill-opacity=\"1\"/>\n",
       "<polyline clip-path=\"url(#clip582)\" style=\"stroke:#000000; stroke-linecap:round; stroke-linejoin:round; stroke-width:4; stroke-opacity:1; fill:none\" points=\"\n",
       "  1395.25,1430.2 1395.25,1445.72 1404.09,1445.72 1404.09,1430.2 1395.25,1430.2 \n",
       "  \"/>\n",
       "<path clip-path=\"url(#clip582)\" d=\"\n",
       "M1404.09 1435.37 L1404.09 1445.72 L1412.92 1445.72 L1412.92 1435.37 L1404.09 1435.37 L1404.09 1435.37  Z\n",
       "  \" fill=\"#009af9\" fill-rule=\"evenodd\" fill-opacity=\"1\"/>\n",
       "<polyline clip-path=\"url(#clip582)\" style=\"stroke:#000000; stroke-linecap:round; stroke-linejoin:round; stroke-width:4; stroke-opacity:1; fill:none\" points=\"\n",
       "  1404.09,1435.37 1404.09,1445.72 1412.92,1445.72 1412.92,1435.37 1404.09,1435.37 \n",
       "  \"/>\n",
       "<path clip-path=\"url(#clip582)\" d=\"\n",
       "M1412.92 1434.34 L1412.92 1445.72 L1421.75 1445.72 L1421.75 1434.34 L1412.92 1434.34 L1412.92 1434.34  Z\n",
       "  \" fill=\"#009af9\" fill-rule=\"evenodd\" fill-opacity=\"1\"/>\n",
       "<polyline clip-path=\"url(#clip582)\" style=\"stroke:#000000; stroke-linecap:round; stroke-linejoin:round; stroke-width:4; stroke-opacity:1; fill:none\" points=\"\n",
       "  1412.92,1434.34 1412.92,1445.72 1421.75,1445.72 1421.75,1434.34 1412.92,1434.34 \n",
       "  \"/>\n",
       "<path clip-path=\"url(#clip582)\" d=\"\n",
       "M1421.75 1434.34 L1421.75 1445.72 L1430.58 1445.72 L1430.58 1434.34 L1421.75 1434.34 L1421.75 1434.34  Z\n",
       "  \" fill=\"#009af9\" fill-rule=\"evenodd\" fill-opacity=\"1\"/>\n",
       "<polyline clip-path=\"url(#clip582)\" style=\"stroke:#000000; stroke-linecap:round; stroke-linejoin:round; stroke-width:4; stroke-opacity:1; fill:none\" points=\"\n",
       "  1421.75,1434.34 1421.75,1445.72 1430.58,1445.72 1430.58,1434.34 1421.75,1434.34 \n",
       "  \"/>\n",
       "<path clip-path=\"url(#clip582)\" d=\"\n",
       "M1430.58 1430.2 L1430.58 1445.72 L1439.41 1445.72 L1439.41 1430.2 L1430.58 1430.2 L1430.58 1430.2  Z\n",
       "  \" fill=\"#009af9\" fill-rule=\"evenodd\" fill-opacity=\"1\"/>\n",
       "<polyline clip-path=\"url(#clip582)\" style=\"stroke:#000000; stroke-linecap:round; stroke-linejoin:round; stroke-width:4; stroke-opacity:1; fill:none\" points=\"\n",
       "  1430.58,1430.2 1430.58,1445.72 1439.41,1445.72 1439.41,1430.2 1430.58,1430.2 \n",
       "  \"/>\n",
       "<path clip-path=\"url(#clip582)\" d=\"\n",
       "M1439.41 1433.31 L1439.41 1445.72 L1448.25 1445.72 L1448.25 1433.31 L1439.41 1433.31 L1439.41 1433.31  Z\n",
       "  \" fill=\"#009af9\" fill-rule=\"evenodd\" fill-opacity=\"1\"/>\n",
       "<polyline clip-path=\"url(#clip582)\" style=\"stroke:#000000; stroke-linecap:round; stroke-linejoin:round; stroke-width:4; stroke-opacity:1; fill:none\" points=\"\n",
       "  1439.41,1433.31 1439.41,1445.72 1448.25,1445.72 1448.25,1433.31 1439.41,1433.31 \n",
       "  \"/>\n",
       "<path clip-path=\"url(#clip582)\" d=\"\n",
       "M1448.25 1433.31 L1448.25 1445.72 L1457.08 1445.72 L1457.08 1433.31 L1448.25 1433.31 L1448.25 1433.31  Z\n",
       "  \" fill=\"#009af9\" fill-rule=\"evenodd\" fill-opacity=\"1\"/>\n",
       "<polyline clip-path=\"url(#clip582)\" style=\"stroke:#000000; stroke-linecap:round; stroke-linejoin:round; stroke-width:4; stroke-opacity:1; fill:none\" points=\"\n",
       "  1448.25,1433.31 1448.25,1445.72 1457.08,1445.72 1457.08,1433.31 1448.25,1433.31 \n",
       "  \"/>\n",
       "<path clip-path=\"url(#clip582)\" d=\"\n",
       "M1457.08 1433.31 L1457.08 1445.72 L1465.91 1445.72 L1465.91 1433.31 L1457.08 1433.31 L1457.08 1433.31  Z\n",
       "  \" fill=\"#009af9\" fill-rule=\"evenodd\" fill-opacity=\"1\"/>\n",
       "<polyline clip-path=\"url(#clip582)\" style=\"stroke:#000000; stroke-linecap:round; stroke-linejoin:round; stroke-width:4; stroke-opacity:1; fill:none\" points=\"\n",
       "  1457.08,1433.31 1457.08,1445.72 1465.91,1445.72 1465.91,1433.31 1457.08,1433.31 \n",
       "  \"/>\n",
       "<path clip-path=\"url(#clip582)\" d=\"\n",
       "M1465.91 1432.27 L1465.91 1445.72 L1474.74 1445.72 L1474.74 1432.27 L1465.91 1432.27 L1465.91 1432.27  Z\n",
       "  \" fill=\"#009af9\" fill-rule=\"evenodd\" fill-opacity=\"1\"/>\n",
       "<polyline clip-path=\"url(#clip582)\" style=\"stroke:#000000; stroke-linecap:round; stroke-linejoin:round; stroke-width:4; stroke-opacity:1; fill:none\" points=\"\n",
       "  1465.91,1432.27 1465.91,1445.72 1474.74,1445.72 1474.74,1432.27 1465.91,1432.27 \n",
       "  \"/>\n",
       "<path clip-path=\"url(#clip582)\" d=\"\n",
       "M1474.74 1436.41 L1474.74 1445.72 L1483.58 1445.72 L1483.58 1436.41 L1474.74 1436.41 L1474.74 1436.41  Z\n",
       "  \" fill=\"#009af9\" fill-rule=\"evenodd\" fill-opacity=\"1\"/>\n",
       "<polyline clip-path=\"url(#clip582)\" style=\"stroke:#000000; stroke-linecap:round; stroke-linejoin:round; stroke-width:4; stroke-opacity:1; fill:none\" points=\"\n",
       "  1474.74,1436.41 1474.74,1445.72 1483.58,1445.72 1483.58,1436.41 1474.74,1436.41 \n",
       "  \"/>\n",
       "<path clip-path=\"url(#clip582)\" d=\"\n",
       "M1483.58 1435.37 L1483.58 1445.72 L1492.41 1445.72 L1492.41 1435.37 L1483.58 1435.37 L1483.58 1435.37  Z\n",
       "  \" fill=\"#009af9\" fill-rule=\"evenodd\" fill-opacity=\"1\"/>\n",
       "<polyline clip-path=\"url(#clip582)\" style=\"stroke:#000000; stroke-linecap:round; stroke-linejoin:round; stroke-width:4; stroke-opacity:1; fill:none\" points=\"\n",
       "  1483.58,1435.37 1483.58,1445.72 1492.41,1445.72 1492.41,1435.37 1483.58,1435.37 \n",
       "  \"/>\n",
       "<path clip-path=\"url(#clip582)\" d=\"\n",
       "M1492.41 1441.58 L1492.41 1445.72 L1501.24 1445.72 L1501.24 1441.58 L1492.41 1441.58 L1492.41 1441.58  Z\n",
       "  \" fill=\"#009af9\" fill-rule=\"evenodd\" fill-opacity=\"1\"/>\n",
       "<polyline clip-path=\"url(#clip582)\" style=\"stroke:#000000; stroke-linecap:round; stroke-linejoin:round; stroke-width:4; stroke-opacity:1; fill:none\" points=\"\n",
       "  1492.41,1441.58 1492.41,1445.72 1501.24,1445.72 1501.24,1441.58 1492.41,1441.58 \n",
       "  \"/>\n",
       "<path clip-path=\"url(#clip582)\" d=\"\n",
       "M1501.24 1436.41 L1501.24 1445.72 L1510.07 1445.72 L1510.07 1436.41 L1501.24 1436.41 L1501.24 1436.41  Z\n",
       "  \" fill=\"#009af9\" fill-rule=\"evenodd\" fill-opacity=\"1\"/>\n",
       "<polyline clip-path=\"url(#clip582)\" style=\"stroke:#000000; stroke-linecap:round; stroke-linejoin:round; stroke-width:4; stroke-opacity:1; fill:none\" points=\"\n",
       "  1501.24,1436.41 1501.24,1445.72 1510.07,1445.72 1510.07,1436.41 1501.24,1436.41 \n",
       "  \"/>\n",
       "<path clip-path=\"url(#clip582)\" d=\"\n",
       "M1510.07 1437.44 L1510.07 1445.72 L1518.9 1445.72 L1518.9 1437.44 L1510.07 1437.44 L1510.07 1437.44  Z\n",
       "  \" fill=\"#009af9\" fill-rule=\"evenodd\" fill-opacity=\"1\"/>\n",
       "<polyline clip-path=\"url(#clip582)\" style=\"stroke:#000000; stroke-linecap:round; stroke-linejoin:round; stroke-width:4; stroke-opacity:1; fill:none\" points=\"\n",
       "  1510.07,1437.44 1510.07,1445.72 1518.9,1445.72 1518.9,1437.44 1510.07,1437.44 \n",
       "  \"/>\n",
       "<path clip-path=\"url(#clip582)\" d=\"\n",
       "M1518.9 1438.48 L1518.9 1445.72 L1527.74 1445.72 L1527.74 1438.48 L1518.9 1438.48 L1518.9 1438.48  Z\n",
       "  \" fill=\"#009af9\" fill-rule=\"evenodd\" fill-opacity=\"1\"/>\n",
       "<polyline clip-path=\"url(#clip582)\" style=\"stroke:#000000; stroke-linecap:round; stroke-linejoin:round; stroke-width:4; stroke-opacity:1; fill:none\" points=\"\n",
       "  1518.9,1438.48 1518.9,1445.72 1527.74,1445.72 1527.74,1438.48 1518.9,1438.48 \n",
       "  \"/>\n",
       "<path clip-path=\"url(#clip582)\" d=\"\n",
       "M1527.74 1435.37 L1527.74 1445.72 L1536.57 1445.72 L1536.57 1435.37 L1527.74 1435.37 L1527.74 1435.37  Z\n",
       "  \" fill=\"#009af9\" fill-rule=\"evenodd\" fill-opacity=\"1\"/>\n",
       "<polyline clip-path=\"url(#clip582)\" style=\"stroke:#000000; stroke-linecap:round; stroke-linejoin:round; stroke-width:4; stroke-opacity:1; fill:none\" points=\"\n",
       "  1527.74,1435.37 1527.74,1445.72 1536.57,1445.72 1536.57,1435.37 1527.74,1435.37 \n",
       "  \"/>\n",
       "<path clip-path=\"url(#clip582)\" d=\"\n",
       "M1536.57 1438.48 L1536.57 1445.72 L1545.4 1445.72 L1545.4 1438.48 L1536.57 1438.48 L1536.57 1438.48  Z\n",
       "  \" fill=\"#009af9\" fill-rule=\"evenodd\" fill-opacity=\"1\"/>\n",
       "<polyline clip-path=\"url(#clip582)\" style=\"stroke:#000000; stroke-linecap:round; stroke-linejoin:round; stroke-width:4; stroke-opacity:1; fill:none\" points=\"\n",
       "  1536.57,1438.48 1536.57,1445.72 1545.4,1445.72 1545.4,1438.48 1536.57,1438.48 \n",
       "  \"/>\n",
       "<path clip-path=\"url(#clip582)\" d=\"\n",
       "M1545.4 1438.48 L1545.4 1445.72 L1554.23 1445.72 L1554.23 1438.48 L1545.4 1438.48 L1545.4 1438.48  Z\n",
       "  \" fill=\"#009af9\" fill-rule=\"evenodd\" fill-opacity=\"1\"/>\n",
       "<polyline clip-path=\"url(#clip582)\" style=\"stroke:#000000; stroke-linecap:round; stroke-linejoin:round; stroke-width:4; stroke-opacity:1; fill:none\" points=\"\n",
       "  1545.4,1438.48 1545.4,1445.72 1554.23,1445.72 1554.23,1438.48 1545.4,1438.48 \n",
       "  \"/>\n",
       "<path clip-path=\"url(#clip582)\" d=\"\n",
       "M1554.23 1438.48 L1554.23 1445.72 L1563.07 1445.72 L1563.07 1438.48 L1554.23 1438.48 L1554.23 1438.48  Z\n",
       "  \" fill=\"#009af9\" fill-rule=\"evenodd\" fill-opacity=\"1\"/>\n",
       "<polyline clip-path=\"url(#clip582)\" style=\"stroke:#000000; stroke-linecap:round; stroke-linejoin:round; stroke-width:4; stroke-opacity:1; fill:none\" points=\"\n",
       "  1554.23,1438.48 1554.23,1445.72 1563.07,1445.72 1563.07,1438.48 1554.23,1438.48 \n",
       "  \"/>\n",
       "<path clip-path=\"url(#clip582)\" d=\"\n",
       "M1563.07 1439.51 L1563.07 1445.72 L1571.9 1445.72 L1571.9 1439.51 L1563.07 1439.51 L1563.07 1439.51  Z\n",
       "  \" fill=\"#009af9\" fill-rule=\"evenodd\" fill-opacity=\"1\"/>\n",
       "<polyline clip-path=\"url(#clip582)\" style=\"stroke:#000000; stroke-linecap:round; stroke-linejoin:round; stroke-width:4; stroke-opacity:1; fill:none\" points=\"\n",
       "  1563.07,1439.51 1563.07,1445.72 1571.9,1445.72 1571.9,1439.51 1563.07,1439.51 \n",
       "  \"/>\n",
       "<path clip-path=\"url(#clip582)\" d=\"\n",
       "M1571.9 1440.55 L1571.9 1445.72 L1580.73 1445.72 L1580.73 1440.55 L1571.9 1440.55 L1571.9 1440.55  Z\n",
       "  \" fill=\"#009af9\" fill-rule=\"evenodd\" fill-opacity=\"1\"/>\n",
       "<polyline clip-path=\"url(#clip582)\" style=\"stroke:#000000; stroke-linecap:round; stroke-linejoin:round; stroke-width:4; stroke-opacity:1; fill:none\" points=\"\n",
       "  1571.9,1440.55 1571.9,1445.72 1580.73,1445.72 1580.73,1440.55 1571.9,1440.55 \n",
       "  \"/>\n",
       "<path clip-path=\"url(#clip582)\" d=\"\n",
       "M1580.73 1439.51 L1580.73 1445.72 L1589.56 1445.72 L1589.56 1439.51 L1580.73 1439.51 L1580.73 1439.51  Z\n",
       "  \" fill=\"#009af9\" fill-rule=\"evenodd\" fill-opacity=\"1\"/>\n",
       "<polyline clip-path=\"url(#clip582)\" style=\"stroke:#000000; stroke-linecap:round; stroke-linejoin:round; stroke-width:4; stroke-opacity:1; fill:none\" points=\"\n",
       "  1580.73,1439.51 1580.73,1445.72 1589.56,1445.72 1589.56,1439.51 1580.73,1439.51 \n",
       "  \"/>\n",
       "<path clip-path=\"url(#clip582)\" d=\"\n",
       "M1589.56 1436.41 L1589.56 1445.72 L1598.39 1445.72 L1598.39 1436.41 L1589.56 1436.41 L1589.56 1436.41  Z\n",
       "  \" fill=\"#009af9\" fill-rule=\"evenodd\" fill-opacity=\"1\"/>\n",
       "<polyline clip-path=\"url(#clip582)\" style=\"stroke:#000000; stroke-linecap:round; stroke-linejoin:round; stroke-width:4; stroke-opacity:1; fill:none\" points=\"\n",
       "  1589.56,1436.41 1589.56,1445.72 1598.39,1445.72 1598.39,1436.41 1589.56,1436.41 \n",
       "  \"/>\n",
       "<path clip-path=\"url(#clip582)\" d=\"\n",
       "M1598.39 1440.55 L1598.39 1445.72 L1607.23 1445.72 L1607.23 1440.55 L1598.39 1440.55 L1598.39 1440.55  Z\n",
       "  \" fill=\"#009af9\" fill-rule=\"evenodd\" fill-opacity=\"1\"/>\n",
       "<polyline clip-path=\"url(#clip582)\" style=\"stroke:#000000; stroke-linecap:round; stroke-linejoin:round; stroke-width:4; stroke-opacity:1; fill:none\" points=\"\n",
       "  1598.39,1440.55 1598.39,1445.72 1607.23,1445.72 1607.23,1440.55 1598.39,1440.55 \n",
       "  \"/>\n",
       "<path clip-path=\"url(#clip582)\" d=\"\n",
       "M1607.23 1435.37 L1607.23 1445.72 L1616.06 1445.72 L1616.06 1435.37 L1607.23 1435.37 L1607.23 1435.37  Z\n",
       "  \" fill=\"#009af9\" fill-rule=\"evenodd\" fill-opacity=\"1\"/>\n",
       "<polyline clip-path=\"url(#clip582)\" style=\"stroke:#000000; stroke-linecap:round; stroke-linejoin:round; stroke-width:4; stroke-opacity:1; fill:none\" points=\"\n",
       "  1607.23,1435.37 1607.23,1445.72 1616.06,1445.72 1616.06,1435.37 1607.23,1435.37 \n",
       "  \"/>\n",
       "<path clip-path=\"url(#clip582)\" d=\"\n",
       "M1616.06 1434.34 L1616.06 1445.72 L1624.89 1445.72 L1624.89 1434.34 L1616.06 1434.34 L1616.06 1434.34  Z\n",
       "  \" fill=\"#009af9\" fill-rule=\"evenodd\" fill-opacity=\"1\"/>\n",
       "<polyline clip-path=\"url(#clip582)\" style=\"stroke:#000000; stroke-linecap:round; stroke-linejoin:round; stroke-width:4; stroke-opacity:1; fill:none\" points=\"\n",
       "  1616.06,1434.34 1616.06,1445.72 1624.89,1445.72 1624.89,1434.34 1616.06,1434.34 \n",
       "  \"/>\n",
       "<path clip-path=\"url(#clip582)\" d=\"\n",
       "M1624.89 1437.44 L1624.89 1445.72 L1633.72 1445.72 L1633.72 1437.44 L1624.89 1437.44 L1624.89 1437.44  Z\n",
       "  \" fill=\"#009af9\" fill-rule=\"evenodd\" fill-opacity=\"1\"/>\n",
       "<polyline clip-path=\"url(#clip582)\" style=\"stroke:#000000; stroke-linecap:round; stroke-linejoin:round; stroke-width:4; stroke-opacity:1; fill:none\" points=\"\n",
       "  1624.89,1437.44 1624.89,1445.72 1633.72,1445.72 1633.72,1437.44 1624.89,1437.44 \n",
       "  \"/>\n",
       "<path clip-path=\"url(#clip582)\" d=\"\n",
       "M1633.72 1436.41 L1633.72 1445.72 L1642.56 1445.72 L1642.56 1436.41 L1633.72 1436.41 L1633.72 1436.41  Z\n",
       "  \" fill=\"#009af9\" fill-rule=\"evenodd\" fill-opacity=\"1\"/>\n",
       "<polyline clip-path=\"url(#clip582)\" style=\"stroke:#000000; stroke-linecap:round; stroke-linejoin:round; stroke-width:4; stroke-opacity:1; fill:none\" points=\"\n",
       "  1633.72,1436.41 1633.72,1445.72 1642.56,1445.72 1642.56,1436.41 1633.72,1436.41 \n",
       "  \"/>\n",
       "<path clip-path=\"url(#clip582)\" d=\"\n",
       "M1642.56 1437.44 L1642.56 1445.72 L1651.39 1445.72 L1651.39 1437.44 L1642.56 1437.44 L1642.56 1437.44  Z\n",
       "  \" fill=\"#009af9\" fill-rule=\"evenodd\" fill-opacity=\"1\"/>\n",
       "<polyline clip-path=\"url(#clip582)\" style=\"stroke:#000000; stroke-linecap:round; stroke-linejoin:round; stroke-width:4; stroke-opacity:1; fill:none\" points=\"\n",
       "  1642.56,1437.44 1642.56,1445.72 1651.39,1445.72 1651.39,1437.44 1642.56,1437.44 \n",
       "  \"/>\n",
       "<path clip-path=\"url(#clip582)\" d=\"\n",
       "M1651.39 1434.34 L1651.39 1445.72 L1660.22 1445.72 L1660.22 1434.34 L1651.39 1434.34 L1651.39 1434.34  Z\n",
       "  \" fill=\"#009af9\" fill-rule=\"evenodd\" fill-opacity=\"1\"/>\n",
       "<polyline clip-path=\"url(#clip582)\" style=\"stroke:#000000; stroke-linecap:round; stroke-linejoin:round; stroke-width:4; stroke-opacity:1; fill:none\" points=\"\n",
       "  1651.39,1434.34 1651.39,1445.72 1660.22,1445.72 1660.22,1434.34 1651.39,1434.34 \n",
       "  \"/>\n",
       "<path clip-path=\"url(#clip582)\" d=\"\n",
       "M1660.22 1436.41 L1660.22 1445.72 L1669.05 1445.72 L1669.05 1436.41 L1660.22 1436.41 L1660.22 1436.41  Z\n",
       "  \" fill=\"#009af9\" fill-rule=\"evenodd\" fill-opacity=\"1\"/>\n",
       "<polyline clip-path=\"url(#clip582)\" style=\"stroke:#000000; stroke-linecap:round; stroke-linejoin:round; stroke-width:4; stroke-opacity:1; fill:none\" points=\"\n",
       "  1660.22,1436.41 1660.22,1445.72 1669.05,1445.72 1669.05,1436.41 1660.22,1436.41 \n",
       "  \"/>\n",
       "<path clip-path=\"url(#clip582)\" d=\"\n",
       "M1669.05 1436.41 L1669.05 1445.72 L1677.88 1445.72 L1677.88 1436.41 L1669.05 1436.41 L1669.05 1436.41  Z\n",
       "  \" fill=\"#009af9\" fill-rule=\"evenodd\" fill-opacity=\"1\"/>\n",
       "<polyline clip-path=\"url(#clip582)\" style=\"stroke:#000000; stroke-linecap:round; stroke-linejoin:round; stroke-width:4; stroke-opacity:1; fill:none\" points=\"\n",
       "  1669.05,1436.41 1669.05,1445.72 1677.88,1445.72 1677.88,1436.41 1669.05,1436.41 \n",
       "  \"/>\n",
       "<path clip-path=\"url(#clip582)\" d=\"\n",
       "M1677.88 1438.48 L1677.88 1445.72 L1686.72 1445.72 L1686.72 1438.48 L1677.88 1438.48 L1677.88 1438.48  Z\n",
       "  \" fill=\"#009af9\" fill-rule=\"evenodd\" fill-opacity=\"1\"/>\n",
       "<polyline clip-path=\"url(#clip582)\" style=\"stroke:#000000; stroke-linecap:round; stroke-linejoin:round; stroke-width:4; stroke-opacity:1; fill:none\" points=\"\n",
       "  1677.88,1438.48 1677.88,1445.72 1686.72,1445.72 1686.72,1438.48 1677.88,1438.48 \n",
       "  \"/>\n",
       "<path clip-path=\"url(#clip582)\" d=\"\n",
       "M1686.72 1437.44 L1686.72 1445.72 L1695.55 1445.72 L1695.55 1437.44 L1686.72 1437.44 L1686.72 1437.44  Z\n",
       "  \" fill=\"#009af9\" fill-rule=\"evenodd\" fill-opacity=\"1\"/>\n",
       "<polyline clip-path=\"url(#clip582)\" style=\"stroke:#000000; stroke-linecap:round; stroke-linejoin:round; stroke-width:4; stroke-opacity:1; fill:none\" points=\"\n",
       "  1686.72,1437.44 1686.72,1445.72 1695.55,1445.72 1695.55,1437.44 1686.72,1437.44 \n",
       "  \"/>\n",
       "<path clip-path=\"url(#clip582)\" d=\"\n",
       "M1695.55 1439.51 L1695.55 1445.72 L1704.38 1445.72 L1704.38 1439.51 L1695.55 1439.51 L1695.55 1439.51  Z\n",
       "  \" fill=\"#009af9\" fill-rule=\"evenodd\" fill-opacity=\"1\"/>\n",
       "<polyline clip-path=\"url(#clip582)\" style=\"stroke:#000000; stroke-linecap:round; stroke-linejoin:round; stroke-width:4; stroke-opacity:1; fill:none\" points=\"\n",
       "  1695.55,1439.51 1695.55,1445.72 1704.38,1445.72 1704.38,1439.51 1695.55,1439.51 \n",
       "  \"/>\n",
       "<path clip-path=\"url(#clip582)\" d=\"\n",
       "M1704.38 1439.51 L1704.38 1445.72 L1713.21 1445.72 L1713.21 1439.51 L1704.38 1439.51 L1704.38 1439.51  Z\n",
       "  \" fill=\"#009af9\" fill-rule=\"evenodd\" fill-opacity=\"1\"/>\n",
       "<polyline clip-path=\"url(#clip582)\" style=\"stroke:#000000; stroke-linecap:round; stroke-linejoin:round; stroke-width:4; stroke-opacity:1; fill:none\" points=\"\n",
       "  1704.38,1439.51 1704.38,1445.72 1713.21,1445.72 1713.21,1439.51 1704.38,1439.51 \n",
       "  \"/>\n",
       "<path clip-path=\"url(#clip582)\" d=\"\n",
       "M1713.21 1438.48 L1713.21 1445.72 L1722.04 1445.72 L1722.04 1438.48 L1713.21 1438.48 L1713.21 1438.48  Z\n",
       "  \" fill=\"#009af9\" fill-rule=\"evenodd\" fill-opacity=\"1\"/>\n",
       "<polyline clip-path=\"url(#clip582)\" style=\"stroke:#000000; stroke-linecap:round; stroke-linejoin:round; stroke-width:4; stroke-opacity:1; fill:none\" points=\"\n",
       "  1713.21,1438.48 1713.21,1445.72 1722.04,1445.72 1722.04,1438.48 1713.21,1438.48 \n",
       "  \"/>\n",
       "<path clip-path=\"url(#clip582)\" d=\"\n",
       "M1722.04 1438.48 L1722.04 1445.72 L1730.88 1445.72 L1730.88 1438.48 L1722.04 1438.48 L1722.04 1438.48  Z\n",
       "  \" fill=\"#009af9\" fill-rule=\"evenodd\" fill-opacity=\"1\"/>\n",
       "<polyline clip-path=\"url(#clip582)\" style=\"stroke:#000000; stroke-linecap:round; stroke-linejoin:round; stroke-width:4; stroke-opacity:1; fill:none\" points=\"\n",
       "  1722.04,1438.48 1722.04,1445.72 1730.88,1445.72 1730.88,1438.48 1722.04,1438.48 \n",
       "  \"/>\n",
       "<path clip-path=\"url(#clip582)\" d=\"\n",
       "M1730.88 1442.61 L1730.88 1445.72 L1739.71 1445.72 L1739.71 1442.61 L1730.88 1442.61 L1730.88 1442.61  Z\n",
       "  \" fill=\"#009af9\" fill-rule=\"evenodd\" fill-opacity=\"1\"/>\n",
       "<polyline clip-path=\"url(#clip582)\" style=\"stroke:#000000; stroke-linecap:round; stroke-linejoin:round; stroke-width:4; stroke-opacity:1; fill:none\" points=\"\n",
       "  1730.88,1442.61 1730.88,1445.72 1739.71,1445.72 1739.71,1442.61 1730.88,1442.61 \n",
       "  \"/>\n",
       "<path clip-path=\"url(#clip582)\" d=\"\n",
       "M1739.71 1439.51 L1739.71 1445.72 L1748.54 1445.72 L1748.54 1439.51 L1739.71 1439.51 L1739.71 1439.51  Z\n",
       "  \" fill=\"#009af9\" fill-rule=\"evenodd\" fill-opacity=\"1\"/>\n",
       "<polyline clip-path=\"url(#clip582)\" style=\"stroke:#000000; stroke-linecap:round; stroke-linejoin:round; stroke-width:4; stroke-opacity:1; fill:none\" points=\"\n",
       "  1739.71,1439.51 1739.71,1445.72 1748.54,1445.72 1748.54,1439.51 1739.71,1439.51 \n",
       "  \"/>\n",
       "<path clip-path=\"url(#clip582)\" d=\"\n",
       "M1748.54 1443.65 L1748.54 1445.72 L1757.37 1445.72 L1757.37 1443.65 L1748.54 1443.65 L1748.54 1443.65  Z\n",
       "  \" fill=\"#009af9\" fill-rule=\"evenodd\" fill-opacity=\"1\"/>\n",
       "<polyline clip-path=\"url(#clip582)\" style=\"stroke:#000000; stroke-linecap:round; stroke-linejoin:round; stroke-width:4; stroke-opacity:1; fill:none\" points=\"\n",
       "  1748.54,1443.65 1748.54,1445.72 1757.37,1445.72 1757.37,1443.65 1748.54,1443.65 \n",
       "  \"/>\n",
       "<path clip-path=\"url(#clip582)\" d=\"\n",
       "M1757.37 1436.41 L1757.37 1445.72 L1766.21 1445.72 L1766.21 1436.41 L1757.37 1436.41 L1757.37 1436.41  Z\n",
       "  \" fill=\"#009af9\" fill-rule=\"evenodd\" fill-opacity=\"1\"/>\n",
       "<polyline clip-path=\"url(#clip582)\" style=\"stroke:#000000; stroke-linecap:round; stroke-linejoin:round; stroke-width:4; stroke-opacity:1; fill:none\" points=\"\n",
       "  1757.37,1436.41 1757.37,1445.72 1766.21,1445.72 1766.21,1436.41 1757.37,1436.41 \n",
       "  \"/>\n",
       "<path clip-path=\"url(#clip582)\" d=\"\n",
       "M1766.21 1438.48 L1766.21 1445.72 L1775.04 1445.72 L1775.04 1438.48 L1766.21 1438.48 L1766.21 1438.48  Z\n",
       "  \" fill=\"#009af9\" fill-rule=\"evenodd\" fill-opacity=\"1\"/>\n",
       "<polyline clip-path=\"url(#clip582)\" style=\"stroke:#000000; stroke-linecap:round; stroke-linejoin:round; stroke-width:4; stroke-opacity:1; fill:none\" points=\"\n",
       "  1766.21,1438.48 1766.21,1445.72 1775.04,1445.72 1775.04,1438.48 1766.21,1438.48 \n",
       "  \"/>\n",
       "<path clip-path=\"url(#clip582)\" d=\"\n",
       "M1775.04 1442.61 L1775.04 1445.72 L1783.87 1445.72 L1783.87 1442.61 L1775.04 1442.61 L1775.04 1442.61  Z\n",
       "  \" fill=\"#009af9\" fill-rule=\"evenodd\" fill-opacity=\"1\"/>\n",
       "<polyline clip-path=\"url(#clip582)\" style=\"stroke:#000000; stroke-linecap:round; stroke-linejoin:round; stroke-width:4; stroke-opacity:1; fill:none\" points=\"\n",
       "  1775.04,1442.61 1775.04,1445.72 1783.87,1445.72 1783.87,1442.61 1775.04,1442.61 \n",
       "  \"/>\n",
       "<path clip-path=\"url(#clip582)\" d=\"\n",
       "M1783.87 1434.34 L1783.87 1445.72 L1792.7 1445.72 L1792.7 1434.34 L1783.87 1434.34 L1783.87 1434.34  Z\n",
       "  \" fill=\"#009af9\" fill-rule=\"evenodd\" fill-opacity=\"1\"/>\n",
       "<polyline clip-path=\"url(#clip582)\" style=\"stroke:#000000; stroke-linecap:round; stroke-linejoin:round; stroke-width:4; stroke-opacity:1; fill:none\" points=\"\n",
       "  1783.87,1434.34 1783.87,1445.72 1792.7,1445.72 1792.7,1434.34 1783.87,1434.34 \n",
       "  \"/>\n",
       "<path clip-path=\"url(#clip582)\" d=\"\n",
       "M1792.7 1442.61 L1792.7 1445.72 L1801.53 1445.72 L1801.53 1442.61 L1792.7 1442.61 L1792.7 1442.61  Z\n",
       "  \" fill=\"#009af9\" fill-rule=\"evenodd\" fill-opacity=\"1\"/>\n",
       "<polyline clip-path=\"url(#clip582)\" style=\"stroke:#000000; stroke-linecap:round; stroke-linejoin:round; stroke-width:4; stroke-opacity:1; fill:none\" points=\"\n",
       "  1792.7,1442.61 1792.7,1445.72 1801.53,1445.72 1801.53,1442.61 1792.7,1442.61 \n",
       "  \"/>\n",
       "<path clip-path=\"url(#clip582)\" d=\"\n",
       "M1801.53 1442.61 L1801.53 1445.72 L1810.37 1445.72 L1810.37 1442.61 L1801.53 1442.61 L1801.53 1442.61  Z\n",
       "  \" fill=\"#009af9\" fill-rule=\"evenodd\" fill-opacity=\"1\"/>\n",
       "<polyline clip-path=\"url(#clip582)\" style=\"stroke:#000000; stroke-linecap:round; stroke-linejoin:round; stroke-width:4; stroke-opacity:1; fill:none\" points=\"\n",
       "  1801.53,1442.61 1801.53,1445.72 1810.37,1445.72 1810.37,1442.61 1801.53,1442.61 \n",
       "  \"/>\n",
       "<path clip-path=\"url(#clip582)\" d=\"\n",
       "M1810.37 1443.65 L1810.37 1445.72 L1819.2 1445.72 L1819.2 1443.65 L1810.37 1443.65 L1810.37 1443.65  Z\n",
       "  \" fill=\"#009af9\" fill-rule=\"evenodd\" fill-opacity=\"1\"/>\n",
       "<polyline clip-path=\"url(#clip582)\" style=\"stroke:#000000; stroke-linecap:round; stroke-linejoin:round; stroke-width:4; stroke-opacity:1; fill:none\" points=\"\n",
       "  1810.37,1443.65 1810.37,1445.72 1819.2,1445.72 1819.2,1443.65 1810.37,1443.65 \n",
       "  \"/>\n",
       "<path clip-path=\"url(#clip582)\" d=\"\n",
       "M1819.2 1442.61 L1819.2 1445.72 L1828.03 1445.72 L1828.03 1442.61 L1819.2 1442.61 L1819.2 1442.61  Z\n",
       "  \" fill=\"#009af9\" fill-rule=\"evenodd\" fill-opacity=\"1\"/>\n",
       "<polyline clip-path=\"url(#clip582)\" style=\"stroke:#000000; stroke-linecap:round; stroke-linejoin:round; stroke-width:4; stroke-opacity:1; fill:none\" points=\"\n",
       "  1819.2,1442.61 1819.2,1445.72 1828.03,1445.72 1828.03,1442.61 1819.2,1442.61 \n",
       "  \"/>\n",
       "<path clip-path=\"url(#clip582)\" d=\"\n",
       "M1828.03 1441.58 L1828.03 1445.72 L1836.86 1445.72 L1836.86 1441.58 L1828.03 1441.58 L1828.03 1441.58  Z\n",
       "  \" fill=\"#009af9\" fill-rule=\"evenodd\" fill-opacity=\"1\"/>\n",
       "<polyline clip-path=\"url(#clip582)\" style=\"stroke:#000000; stroke-linecap:round; stroke-linejoin:round; stroke-width:4; stroke-opacity:1; fill:none\" points=\"\n",
       "  1828.03,1441.58 1828.03,1445.72 1836.86,1445.72 1836.86,1441.58 1828.03,1441.58 \n",
       "  \"/>\n",
       "<path clip-path=\"url(#clip582)\" d=\"\n",
       "M1836.86 1438.48 L1836.86 1445.72 L1845.7 1445.72 L1845.7 1438.48 L1836.86 1438.48 L1836.86 1438.48  Z\n",
       "  \" fill=\"#009af9\" fill-rule=\"evenodd\" fill-opacity=\"1\"/>\n",
       "<polyline clip-path=\"url(#clip582)\" style=\"stroke:#000000; stroke-linecap:round; stroke-linejoin:round; stroke-width:4; stroke-opacity:1; fill:none\" points=\"\n",
       "  1836.86,1438.48 1836.86,1445.72 1845.7,1445.72 1845.7,1438.48 1836.86,1438.48 \n",
       "  \"/>\n",
       "<path clip-path=\"url(#clip582)\" d=\"\n",
       "M1845.7 1442.61 L1845.7 1445.72 L1854.53 1445.72 L1854.53 1442.61 L1845.7 1442.61 L1845.7 1442.61  Z\n",
       "  \" fill=\"#009af9\" fill-rule=\"evenodd\" fill-opacity=\"1\"/>\n",
       "<polyline clip-path=\"url(#clip582)\" style=\"stroke:#000000; stroke-linecap:round; stroke-linejoin:round; stroke-width:4; stroke-opacity:1; fill:none\" points=\"\n",
       "  1845.7,1442.61 1845.7,1445.72 1854.53,1445.72 1854.53,1442.61 1845.7,1442.61 \n",
       "  \"/>\n",
       "<path clip-path=\"url(#clip582)\" d=\"\n",
       "M1854.53 1444.68 L1854.53 1445.72 L1863.36 1445.72 L1863.36 1444.68 L1854.53 1444.68 L1854.53 1444.68  Z\n",
       "  \" fill=\"#009af9\" fill-rule=\"evenodd\" fill-opacity=\"1\"/>\n",
       "<polyline clip-path=\"url(#clip582)\" style=\"stroke:#000000; stroke-linecap:round; stroke-linejoin:round; stroke-width:4; stroke-opacity:1; fill:none\" points=\"\n",
       "  1854.53,1444.68 1854.53,1445.72 1863.36,1445.72 1863.36,1444.68 1854.53,1444.68 \n",
       "  \"/>\n",
       "<path clip-path=\"url(#clip582)\" d=\"\n",
       "M1863.36 1443.65 L1863.36 1445.72 L1872.19 1445.72 L1872.19 1443.65 L1863.36 1443.65 L1863.36 1443.65  Z\n",
       "  \" fill=\"#009af9\" fill-rule=\"evenodd\" fill-opacity=\"1\"/>\n",
       "<polyline clip-path=\"url(#clip582)\" style=\"stroke:#000000; stroke-linecap:round; stroke-linejoin:round; stroke-width:4; stroke-opacity:1; fill:none\" points=\"\n",
       "  1863.36,1443.65 1863.36,1445.72 1872.19,1445.72 1872.19,1443.65 1863.36,1443.65 \n",
       "  \"/>\n",
       "<path clip-path=\"url(#clip582)\" d=\"\n",
       "M1872.19 1441.58 L1872.19 1445.72 L1881.02 1445.72 L1881.02 1441.58 L1872.19 1441.58 L1872.19 1441.58  Z\n",
       "  \" fill=\"#009af9\" fill-rule=\"evenodd\" fill-opacity=\"1\"/>\n",
       "<polyline clip-path=\"url(#clip582)\" style=\"stroke:#000000; stroke-linecap:round; stroke-linejoin:round; stroke-width:4; stroke-opacity:1; fill:none\" points=\"\n",
       "  1872.19,1441.58 1872.19,1445.72 1881.02,1445.72 1881.02,1441.58 1872.19,1441.58 \n",
       "  \"/>\n",
       "<path clip-path=\"url(#clip582)\" d=\"\n",
       "M1881.02 1441.58 L1881.02 1445.72 L1889.86 1445.72 L1889.86 1441.58 L1881.02 1441.58 L1881.02 1441.58  Z\n",
       "  \" fill=\"#009af9\" fill-rule=\"evenodd\" fill-opacity=\"1\"/>\n",
       "<polyline clip-path=\"url(#clip582)\" style=\"stroke:#000000; stroke-linecap:round; stroke-linejoin:round; stroke-width:4; stroke-opacity:1; fill:none\" points=\"\n",
       "  1881.02,1441.58 1881.02,1445.72 1889.86,1445.72 1889.86,1441.58 1881.02,1441.58 \n",
       "  \"/>\n",
       "<path clip-path=\"url(#clip582)\" d=\"\n",
       "M1889.86 1443.65 L1889.86 1445.72 L1898.69 1445.72 L1898.69 1443.65 L1889.86 1443.65 L1889.86 1443.65  Z\n",
       "  \" fill=\"#009af9\" fill-rule=\"evenodd\" fill-opacity=\"1\"/>\n",
       "<polyline clip-path=\"url(#clip582)\" style=\"stroke:#000000; stroke-linecap:round; stroke-linejoin:round; stroke-width:4; stroke-opacity:1; fill:none\" points=\"\n",
       "  1889.86,1443.65 1889.86,1445.72 1898.69,1445.72 1898.69,1443.65 1889.86,1443.65 \n",
       "  \"/>\n",
       "<path clip-path=\"url(#clip582)\" d=\"\n",
       "M1898.69 1443.65 L1898.69 1445.72 L1907.52 1445.72 L1907.52 1443.65 L1898.69 1443.65 L1898.69 1443.65  Z\n",
       "  \" fill=\"#009af9\" fill-rule=\"evenodd\" fill-opacity=\"1\"/>\n",
       "<polyline clip-path=\"url(#clip582)\" style=\"stroke:#000000; stroke-linecap:round; stroke-linejoin:round; stroke-width:4; stroke-opacity:1; fill:none\" points=\"\n",
       "  1898.69,1443.65 1898.69,1445.72 1907.52,1445.72 1907.52,1443.65 1898.69,1443.65 \n",
       "  \"/>\n",
       "<path clip-path=\"url(#clip582)\" d=\"\n",
       "M1907.52 1441.58 L1907.52 1445.72 L1916.35 1445.72 L1916.35 1441.58 L1907.52 1441.58 L1907.52 1441.58  Z\n",
       "  \" fill=\"#009af9\" fill-rule=\"evenodd\" fill-opacity=\"1\"/>\n",
       "<polyline clip-path=\"url(#clip582)\" style=\"stroke:#000000; stroke-linecap:round; stroke-linejoin:round; stroke-width:4; stroke-opacity:1; fill:none\" points=\"\n",
       "  1907.52,1441.58 1907.52,1445.72 1916.35,1445.72 1916.35,1441.58 1907.52,1441.58 \n",
       "  \"/>\n",
       "<path clip-path=\"url(#clip582)\" d=\"\n",
       "M1916.35 1443.65 L1916.35 1445.72 L1925.18 1445.72 L1925.18 1443.65 L1916.35 1443.65 L1916.35 1443.65  Z\n",
       "  \" fill=\"#009af9\" fill-rule=\"evenodd\" fill-opacity=\"1\"/>\n",
       "<polyline clip-path=\"url(#clip582)\" style=\"stroke:#000000; stroke-linecap:round; stroke-linejoin:round; stroke-width:4; stroke-opacity:1; fill:none\" points=\"\n",
       "  1916.35,1443.65 1916.35,1445.72 1925.18,1445.72 1925.18,1443.65 1916.35,1443.65 \n",
       "  \"/>\n",
       "<path clip-path=\"url(#clip582)\" d=\"\n",
       "M1925.18 1437.44 L1925.18 1445.72 L1934.02 1445.72 L1934.02 1437.44 L1925.18 1437.44 L1925.18 1437.44  Z\n",
       "  \" fill=\"#009af9\" fill-rule=\"evenodd\" fill-opacity=\"1\"/>\n",
       "<polyline clip-path=\"url(#clip582)\" style=\"stroke:#000000; stroke-linecap:round; stroke-linejoin:round; stroke-width:4; stroke-opacity:1; fill:none\" points=\"\n",
       "  1925.18,1437.44 1925.18,1445.72 1934.02,1445.72 1934.02,1437.44 1925.18,1437.44 \n",
       "  \"/>\n",
       "<path clip-path=\"url(#clip582)\" d=\"\n",
       "M1934.02 1440.55 L1934.02 1445.72 L1942.85 1445.72 L1942.85 1440.55 L1934.02 1440.55 L1934.02 1440.55  Z\n",
       "  \" fill=\"#009af9\" fill-rule=\"evenodd\" fill-opacity=\"1\"/>\n",
       "<polyline clip-path=\"url(#clip582)\" style=\"stroke:#000000; stroke-linecap:round; stroke-linejoin:round; stroke-width:4; stroke-opacity:1; fill:none\" points=\"\n",
       "  1934.02,1440.55 1934.02,1445.72 1942.85,1445.72 1942.85,1440.55 1934.02,1440.55 \n",
       "  \"/>\n",
       "<path clip-path=\"url(#clip582)\" d=\"\n",
       "M1942.85 1442.61 L1942.85 1445.72 L1951.68 1445.72 L1951.68 1442.61 L1942.85 1442.61 L1942.85 1442.61  Z\n",
       "  \" fill=\"#009af9\" fill-rule=\"evenodd\" fill-opacity=\"1\"/>\n",
       "<polyline clip-path=\"url(#clip582)\" style=\"stroke:#000000; stroke-linecap:round; stroke-linejoin:round; stroke-width:4; stroke-opacity:1; fill:none\" points=\"\n",
       "  1942.85,1442.61 1942.85,1445.72 1951.68,1445.72 1951.68,1442.61 1942.85,1442.61 \n",
       "  \"/>\n",
       "<path clip-path=\"url(#clip582)\" d=\"\n",
       "M1951.68 1443.65 L1951.68 1445.72 L1960.51 1445.72 L1960.51 1443.65 L1951.68 1443.65 L1951.68 1443.65  Z\n",
       "  \" fill=\"#009af9\" fill-rule=\"evenodd\" fill-opacity=\"1\"/>\n",
       "<polyline clip-path=\"url(#clip582)\" style=\"stroke:#000000; stroke-linecap:round; stroke-linejoin:round; stroke-width:4; stroke-opacity:1; fill:none\" points=\"\n",
       "  1951.68,1443.65 1951.68,1445.72 1960.51,1445.72 1960.51,1443.65 1951.68,1443.65 \n",
       "  \"/>\n",
       "<path clip-path=\"url(#clip582)\" d=\"\n",
       "M1960.51 1440.55 L1960.51 1445.72 L1969.35 1445.72 L1969.35 1440.55 L1960.51 1440.55 L1960.51 1440.55  Z\n",
       "  \" fill=\"#009af9\" fill-rule=\"evenodd\" fill-opacity=\"1\"/>\n",
       "<polyline clip-path=\"url(#clip582)\" style=\"stroke:#000000; stroke-linecap:round; stroke-linejoin:round; stroke-width:4; stroke-opacity:1; fill:none\" points=\"\n",
       "  1960.51,1440.55 1960.51,1445.72 1969.35,1445.72 1969.35,1440.55 1960.51,1440.55 \n",
       "  \"/>\n",
       "<path clip-path=\"url(#clip582)\" d=\"\n",
       "M1969.35 1442.61 L1969.35 1445.72 L1978.18 1445.72 L1978.18 1442.61 L1969.35 1442.61 L1969.35 1442.61  Z\n",
       "  \" fill=\"#009af9\" fill-rule=\"evenodd\" fill-opacity=\"1\"/>\n",
       "<polyline clip-path=\"url(#clip582)\" style=\"stroke:#000000; stroke-linecap:round; stroke-linejoin:round; stroke-width:4; stroke-opacity:1; fill:none\" points=\"\n",
       "  1969.35,1442.61 1969.35,1445.72 1978.18,1445.72 1978.18,1442.61 1969.35,1442.61 \n",
       "  \"/>\n",
       "<path clip-path=\"url(#clip582)\" d=\"\n",
       "M1978.18 1442.61 L1978.18 1445.72 L1987.01 1445.72 L1987.01 1442.61 L1978.18 1442.61 L1978.18 1442.61  Z\n",
       "  \" fill=\"#009af9\" fill-rule=\"evenodd\" fill-opacity=\"1\"/>\n",
       "<polyline clip-path=\"url(#clip582)\" style=\"stroke:#000000; stroke-linecap:round; stroke-linejoin:round; stroke-width:4; stroke-opacity:1; fill:none\" points=\"\n",
       "  1978.18,1442.61 1978.18,1445.72 1987.01,1445.72 1987.01,1442.61 1978.18,1442.61 \n",
       "  \"/>\n",
       "<path clip-path=\"url(#clip582)\" d=\"\n",
       "M1987.01 1442.61 L1987.01 1445.72 L1995.84 1445.72 L1995.84 1442.61 L1987.01 1442.61 L1987.01 1442.61  Z\n",
       "  \" fill=\"#009af9\" fill-rule=\"evenodd\" fill-opacity=\"1\"/>\n",
       "<polyline clip-path=\"url(#clip582)\" style=\"stroke:#000000; stroke-linecap:round; stroke-linejoin:round; stroke-width:4; stroke-opacity:1; fill:none\" points=\"\n",
       "  1987.01,1442.61 1987.01,1445.72 1995.84,1445.72 1995.84,1442.61 1987.01,1442.61 \n",
       "  \"/>\n",
       "<path clip-path=\"url(#clip582)\" d=\"\n",
       "M1995.84 1443.65 L1995.84 1445.72 L2004.67 1445.72 L2004.67 1443.65 L1995.84 1443.65 L1995.84 1443.65  Z\n",
       "  \" fill=\"#009af9\" fill-rule=\"evenodd\" fill-opacity=\"1\"/>\n",
       "<polyline clip-path=\"url(#clip582)\" style=\"stroke:#000000; stroke-linecap:round; stroke-linejoin:round; stroke-width:4; stroke-opacity:1; fill:none\" points=\"\n",
       "  1995.84,1443.65 1995.84,1445.72 2004.67,1445.72 2004.67,1443.65 1995.84,1443.65 \n",
       "  \"/>\n",
       "<path clip-path=\"url(#clip582)\" d=\"\n",
       "M2004.67 1442.61 L2004.67 1445.72 L2013.51 1445.72 L2013.51 1442.61 L2004.67 1442.61 L2004.67 1442.61  Z\n",
       "  \" fill=\"#009af9\" fill-rule=\"evenodd\" fill-opacity=\"1\"/>\n",
       "<polyline clip-path=\"url(#clip582)\" style=\"stroke:#000000; stroke-linecap:round; stroke-linejoin:round; stroke-width:4; stroke-opacity:1; fill:none\" points=\"\n",
       "  2004.67,1442.61 2004.67,1445.72 2013.51,1445.72 2013.51,1442.61 2004.67,1442.61 \n",
       "  \"/>\n",
       "<path clip-path=\"url(#clip582)\" d=\"\n",
       "M2013.51 1442.61 L2013.51 1445.72 L2022.34 1445.72 L2022.34 1442.61 L2013.51 1442.61 L2013.51 1442.61  Z\n",
       "  \" fill=\"#009af9\" fill-rule=\"evenodd\" fill-opacity=\"1\"/>\n",
       "<polyline clip-path=\"url(#clip582)\" style=\"stroke:#000000; stroke-linecap:round; stroke-linejoin:round; stroke-width:4; stroke-opacity:1; fill:none\" points=\"\n",
       "  2013.51,1442.61 2013.51,1445.72 2022.34,1445.72 2022.34,1442.61 2013.51,1442.61 \n",
       "  \"/>\n",
       "<path clip-path=\"url(#clip582)\" d=\"\n",
       "M2022.34 1443.65 L2022.34 1445.72 L2031.17 1445.72 L2031.17 1443.65 L2022.34 1443.65 L2022.34 1443.65  Z\n",
       "  \" fill=\"#009af9\" fill-rule=\"evenodd\" fill-opacity=\"1\"/>\n",
       "<polyline clip-path=\"url(#clip582)\" style=\"stroke:#000000; stroke-linecap:round; stroke-linejoin:round; stroke-width:4; stroke-opacity:1; fill:none\" points=\"\n",
       "  2022.34,1443.65 2022.34,1445.72 2031.17,1445.72 2031.17,1443.65 2022.34,1443.65 \n",
       "  \"/>\n",
       "<path clip-path=\"url(#clip582)\" d=\"\n",
       "M2031.17 1445.72 L2031.17 1445.72 L2040 1445.72 L2040 1445.72 L2031.17 1445.72 L2031.17 1445.72  Z\n",
       "  \" fill=\"#009af9\" fill-rule=\"evenodd\" fill-opacity=\"1\"/>\n",
       "<polyline clip-path=\"url(#clip582)\" style=\"stroke:#000000; stroke-linecap:round; stroke-linejoin:round; stroke-width:4; stroke-opacity:1; fill:none\" points=\"\n",
       "  2031.17,1445.72 2031.17,1445.72 2040,1445.72 2031.17,1445.72 \n",
       "  \"/>\n",
       "<path clip-path=\"url(#clip582)\" d=\"\n",
       "M2040 1444.68 L2040 1445.72 L2048.84 1445.72 L2048.84 1444.68 L2040 1444.68 L2040 1444.68  Z\n",
       "  \" fill=\"#009af9\" fill-rule=\"evenodd\" fill-opacity=\"1\"/>\n",
       "<polyline clip-path=\"url(#clip582)\" style=\"stroke:#000000; stroke-linecap:round; stroke-linejoin:round; stroke-width:4; stroke-opacity:1; fill:none\" points=\"\n",
       "  2040,1444.68 2040,1445.72 2048.84,1445.72 2048.84,1444.68 2040,1444.68 \n",
       "  \"/>\n",
       "<path clip-path=\"url(#clip582)\" d=\"\n",
       "M2048.84 1445.72 L2048.84 1445.72 L2057.67 1445.72 L2057.67 1445.72 L2048.84 1445.72 L2048.84 1445.72  Z\n",
       "  \" fill=\"#009af9\" fill-rule=\"evenodd\" fill-opacity=\"1\"/>\n",
       "<polyline clip-path=\"url(#clip582)\" style=\"stroke:#000000; stroke-linecap:round; stroke-linejoin:round; stroke-width:4; stroke-opacity:1; fill:none\" points=\"\n",
       "  2048.84,1445.72 2048.84,1445.72 2057.67,1445.72 2048.84,1445.72 \n",
       "  \"/>\n",
       "<path clip-path=\"url(#clip582)\" d=\"\n",
       "M2057.67 1444.68 L2057.67 1445.72 L2066.5 1445.72 L2066.5 1444.68 L2057.67 1444.68 L2057.67 1444.68  Z\n",
       "  \" fill=\"#009af9\" fill-rule=\"evenodd\" fill-opacity=\"1\"/>\n",
       "<polyline clip-path=\"url(#clip582)\" style=\"stroke:#000000; stroke-linecap:round; stroke-linejoin:round; stroke-width:4; stroke-opacity:1; fill:none\" points=\"\n",
       "  2057.67,1444.68 2057.67,1445.72 2066.5,1445.72 2066.5,1444.68 2057.67,1444.68 \n",
       "  \"/>\n",
       "<path clip-path=\"url(#clip582)\" d=\"\n",
       "M2066.5 1444.68 L2066.5 1445.72 L2075.33 1445.72 L2075.33 1444.68 L2066.5 1444.68 L2066.5 1444.68  Z\n",
       "  \" fill=\"#009af9\" fill-rule=\"evenodd\" fill-opacity=\"1\"/>\n",
       "<polyline clip-path=\"url(#clip582)\" style=\"stroke:#000000; stroke-linecap:round; stroke-linejoin:round; stroke-width:4; stroke-opacity:1; fill:none\" points=\"\n",
       "  2066.5,1444.68 2066.5,1445.72 2075.33,1445.72 2075.33,1444.68 2066.5,1444.68 \n",
       "  \"/>\n",
       "<path clip-path=\"url(#clip582)\" d=\"\n",
       "M2075.33 1443.65 L2075.33 1445.72 L2084.16 1445.72 L2084.16 1443.65 L2075.33 1443.65 L2075.33 1443.65  Z\n",
       "  \" fill=\"#009af9\" fill-rule=\"evenodd\" fill-opacity=\"1\"/>\n",
       "<polyline clip-path=\"url(#clip582)\" style=\"stroke:#000000; stroke-linecap:round; stroke-linejoin:round; stroke-width:4; stroke-opacity:1; fill:none\" points=\"\n",
       "  2075.33,1443.65 2075.33,1445.72 2084.16,1445.72 2084.16,1443.65 2075.33,1443.65 \n",
       "  \"/>\n",
       "<path clip-path=\"url(#clip582)\" d=\"\n",
       "M2084.16 1445.72 L2084.16 1445.72 L2093 1445.72 L2093 1445.72 L2084.16 1445.72 L2084.16 1445.72  Z\n",
       "  \" fill=\"#009af9\" fill-rule=\"evenodd\" fill-opacity=\"1\"/>\n",
       "<polyline clip-path=\"url(#clip582)\" style=\"stroke:#000000; stroke-linecap:round; stroke-linejoin:round; stroke-width:4; stroke-opacity:1; fill:none\" points=\"\n",
       "  2084.16,1445.72 2084.16,1445.72 2093,1445.72 2084.16,1445.72 \n",
       "  \"/>\n",
       "<path clip-path=\"url(#clip582)\" d=\"\n",
       "M2093 1445.72 L2093 1445.72 L2101.83 1445.72 L2101.83 1445.72 L2093 1445.72 L2093 1445.72  Z\n",
       "  \" fill=\"#009af9\" fill-rule=\"evenodd\" fill-opacity=\"1\"/>\n",
       "<polyline clip-path=\"url(#clip582)\" style=\"stroke:#000000; stroke-linecap:round; stroke-linejoin:round; stroke-width:4; stroke-opacity:1; fill:none\" points=\"\n",
       "  2093,1445.72 2093,1445.72 2101.83,1445.72 2093,1445.72 \n",
       "  \"/>\n",
       "<path clip-path=\"url(#clip582)\" d=\"\n",
       "M2101.83 1444.68 L2101.83 1445.72 L2110.66 1445.72 L2110.66 1444.68 L2101.83 1444.68 L2101.83 1444.68  Z\n",
       "  \" fill=\"#009af9\" fill-rule=\"evenodd\" fill-opacity=\"1\"/>\n",
       "<polyline clip-path=\"url(#clip582)\" style=\"stroke:#000000; stroke-linecap:round; stroke-linejoin:round; stroke-width:4; stroke-opacity:1; fill:none\" points=\"\n",
       "  2101.83,1444.68 2101.83,1445.72 2110.66,1445.72 2110.66,1444.68 2101.83,1444.68 \n",
       "  \"/>\n",
       "<path clip-path=\"url(#clip582)\" d=\"\n",
       "M2110.66 1444.68 L2110.66 1445.72 L2119.49 1445.72 L2119.49 1444.68 L2110.66 1444.68 L2110.66 1444.68  Z\n",
       "  \" fill=\"#009af9\" fill-rule=\"evenodd\" fill-opacity=\"1\"/>\n",
       "<polyline clip-path=\"url(#clip582)\" style=\"stroke:#000000; stroke-linecap:round; stroke-linejoin:round; stroke-width:4; stroke-opacity:1; fill:none\" points=\"\n",
       "  2110.66,1444.68 2110.66,1445.72 2119.49,1445.72 2119.49,1444.68 2110.66,1444.68 \n",
       "  \"/>\n",
       "<path clip-path=\"url(#clip582)\" d=\"\n",
       "M2119.49 1445.72 L2119.49 1445.72 L2128.32 1445.72 L2128.32 1445.72 L2119.49 1445.72 L2119.49 1445.72  Z\n",
       "  \" fill=\"#009af9\" fill-rule=\"evenodd\" fill-opacity=\"1\"/>\n",
       "<polyline clip-path=\"url(#clip582)\" style=\"stroke:#000000; stroke-linecap:round; stroke-linejoin:round; stroke-width:4; stroke-opacity:1; fill:none\" points=\"\n",
       "  2119.49,1445.72 2119.49,1445.72 2128.32,1445.72 2119.49,1445.72 \n",
       "  \"/>\n",
       "<path clip-path=\"url(#clip582)\" d=\"\n",
       "M2128.32 1445.72 L2128.32 1445.72 L2137.16 1445.72 L2137.16 1445.72 L2128.32 1445.72 L2128.32 1445.72  Z\n",
       "  \" fill=\"#009af9\" fill-rule=\"evenodd\" fill-opacity=\"1\"/>\n",
       "<polyline clip-path=\"url(#clip582)\" style=\"stroke:#000000; stroke-linecap:round; stroke-linejoin:round; stroke-width:4; stroke-opacity:1; fill:none\" points=\"\n",
       "  2128.32,1445.72 2128.32,1445.72 2137.16,1445.72 2128.32,1445.72 \n",
       "  \"/>\n",
       "<path clip-path=\"url(#clip582)\" d=\"\n",
       "M2137.16 1445.72 L2137.16 1445.72 L2145.99 1445.72 L2145.99 1445.72 L2137.16 1445.72 L2137.16 1445.72  Z\n",
       "  \" fill=\"#009af9\" fill-rule=\"evenodd\" fill-opacity=\"1\"/>\n",
       "<polyline clip-path=\"url(#clip582)\" style=\"stroke:#000000; stroke-linecap:round; stroke-linejoin:round; stroke-width:4; stroke-opacity:1; fill:none\" points=\"\n",
       "  2137.16,1445.72 2137.16,1445.72 2145.99,1445.72 2137.16,1445.72 \n",
       "  \"/>\n",
       "<path clip-path=\"url(#clip582)\" d=\"\n",
       "M2145.99 1445.72 L2145.99 1445.72 L2154.82 1445.72 L2154.82 1445.72 L2145.99 1445.72 L2145.99 1445.72  Z\n",
       "  \" fill=\"#009af9\" fill-rule=\"evenodd\" fill-opacity=\"1\"/>\n",
       "<polyline clip-path=\"url(#clip582)\" style=\"stroke:#000000; stroke-linecap:round; stroke-linejoin:round; stroke-width:4; stroke-opacity:1; fill:none\" points=\"\n",
       "  2145.99,1445.72 2145.99,1445.72 2154.82,1445.72 2145.99,1445.72 \n",
       "  \"/>\n",
       "<path clip-path=\"url(#clip582)\" d=\"\n",
       "M2154.82 1445.72 L2154.82 1445.72 L2163.65 1445.72 L2163.65 1445.72 L2154.82 1445.72 L2154.82 1445.72  Z\n",
       "  \" fill=\"#009af9\" fill-rule=\"evenodd\" fill-opacity=\"1\"/>\n",
       "<polyline clip-path=\"url(#clip582)\" style=\"stroke:#000000; stroke-linecap:round; stroke-linejoin:round; stroke-width:4; stroke-opacity:1; fill:none\" points=\"\n",
       "  2154.82,1445.72 2154.82,1445.72 2163.65,1445.72 2154.82,1445.72 \n",
       "  \"/>\n",
       "<path clip-path=\"url(#clip582)\" d=\"\n",
       "M2163.65 1445.72 L2163.65 1445.72 L2172.49 1445.72 L2172.49 1445.72 L2163.65 1445.72 L2163.65 1445.72  Z\n",
       "  \" fill=\"#009af9\" fill-rule=\"evenodd\" fill-opacity=\"1\"/>\n",
       "<polyline clip-path=\"url(#clip582)\" style=\"stroke:#000000; stroke-linecap:round; stroke-linejoin:round; stroke-width:4; stroke-opacity:1; fill:none\" points=\"\n",
       "  2163.65,1445.72 2163.65,1445.72 2172.49,1445.72 2163.65,1445.72 \n",
       "  \"/>\n",
       "<path clip-path=\"url(#clip582)\" d=\"\n",
       "M2172.49 1445.72 L2172.49 1445.72 L2181.32 1445.72 L2181.32 1445.72 L2172.49 1445.72 L2172.49 1445.72  Z\n",
       "  \" fill=\"#009af9\" fill-rule=\"evenodd\" fill-opacity=\"1\"/>\n",
       "<polyline clip-path=\"url(#clip582)\" style=\"stroke:#000000; stroke-linecap:round; stroke-linejoin:round; stroke-width:4; stroke-opacity:1; fill:none\" points=\"\n",
       "  2172.49,1445.72 2172.49,1445.72 2181.32,1445.72 2172.49,1445.72 \n",
       "  \"/>\n",
       "<path clip-path=\"url(#clip582)\" d=\"\n",
       "M2181.32 1445.72 L2181.32 1445.72 L2190.15 1445.72 L2190.15 1445.72 L2181.32 1445.72 L2181.32 1445.72  Z\n",
       "  \" fill=\"#009af9\" fill-rule=\"evenodd\" fill-opacity=\"1\"/>\n",
       "<polyline clip-path=\"url(#clip582)\" style=\"stroke:#000000; stroke-linecap:round; stroke-linejoin:round; stroke-width:4; stroke-opacity:1; fill:none\" points=\"\n",
       "  2181.32,1445.72 2181.32,1445.72 2190.15,1445.72 2181.32,1445.72 \n",
       "  \"/>\n",
       "<path clip-path=\"url(#clip582)\" d=\"\n",
       "M2190.15 1445.72 L2190.15 1445.72 L2198.98 1445.72 L2198.98 1445.72 L2190.15 1445.72 L2190.15 1445.72  Z\n",
       "  \" fill=\"#009af9\" fill-rule=\"evenodd\" fill-opacity=\"1\"/>\n",
       "<polyline clip-path=\"url(#clip582)\" style=\"stroke:#000000; stroke-linecap:round; stroke-linejoin:round; stroke-width:4; stroke-opacity:1; fill:none\" points=\"\n",
       "  2190.15,1445.72 2190.15,1445.72 2198.98,1445.72 2190.15,1445.72 \n",
       "  \"/>\n",
       "<path clip-path=\"url(#clip582)\" d=\"\n",
       "M2198.98 1445.72 L2198.98 1445.72 L2207.81 1445.72 L2207.81 1445.72 L2198.98 1445.72 L2198.98 1445.72  Z\n",
       "  \" fill=\"#009af9\" fill-rule=\"evenodd\" fill-opacity=\"1\"/>\n",
       "<polyline clip-path=\"url(#clip582)\" style=\"stroke:#000000; stroke-linecap:round; stroke-linejoin:round; stroke-width:4; stroke-opacity:1; fill:none\" points=\"\n",
       "  2198.98,1445.72 2198.98,1445.72 2207.81,1445.72 2198.98,1445.72 \n",
       "  \"/>\n",
       "<path clip-path=\"url(#clip582)\" d=\"\n",
       "M2207.81 1445.72 L2207.81 1445.72 L2216.65 1445.72 L2216.65 1445.72 L2207.81 1445.72 L2207.81 1445.72  Z\n",
       "  \" fill=\"#009af9\" fill-rule=\"evenodd\" fill-opacity=\"1\"/>\n",
       "<polyline clip-path=\"url(#clip582)\" style=\"stroke:#000000; stroke-linecap:round; stroke-linejoin:round; stroke-width:4; stroke-opacity:1; fill:none\" points=\"\n",
       "  2207.81,1445.72 2207.81,1445.72 2216.65,1445.72 2207.81,1445.72 \n",
       "  \"/>\n",
       "<path clip-path=\"url(#clip582)\" d=\"\n",
       "M2216.65 1445.72 L2216.65 1445.72 L2225.48 1445.72 L2225.48 1445.72 L2216.65 1445.72 L2216.65 1445.72  Z\n",
       "  \" fill=\"#009af9\" fill-rule=\"evenodd\" fill-opacity=\"1\"/>\n",
       "<polyline clip-path=\"url(#clip582)\" style=\"stroke:#000000; stroke-linecap:round; stroke-linejoin:round; stroke-width:4; stroke-opacity:1; fill:none\" points=\"\n",
       "  2216.65,1445.72 2216.65,1445.72 2225.48,1445.72 2216.65,1445.72 \n",
       "  \"/>\n",
       "<path clip-path=\"url(#clip582)\" d=\"\n",
       "M2225.48 1444.68 L2225.48 1445.72 L2234.31 1445.72 L2234.31 1444.68 L2225.48 1444.68 L2225.48 1444.68  Z\n",
       "  \" fill=\"#009af9\" fill-rule=\"evenodd\" fill-opacity=\"1\"/>\n",
       "<polyline clip-path=\"url(#clip582)\" style=\"stroke:#000000; stroke-linecap:round; stroke-linejoin:round; stroke-width:4; stroke-opacity:1; fill:none\" points=\"\n",
       "  2225.48,1444.68 2225.48,1445.72 2234.31,1445.72 2234.31,1444.68 2225.48,1444.68 \n",
       "  \"/>\n",
       "<circle clip-path=\"url(#clip582)\" style=\"fill:#009af9; stroke:none; fill-opacity:0\" cx=\"322.144\" cy=\"1444.68\" r=\"2\"/>\n",
       "<circle clip-path=\"url(#clip582)\" style=\"fill:#009af9; stroke:none; fill-opacity:0\" cx=\"330.976\" cy=\"1445.72\" r=\"2\"/>\n",
       "<circle clip-path=\"url(#clip582)\" style=\"fill:#009af9; stroke:none; fill-opacity:0\" cx=\"339.808\" cy=\"1444.68\" r=\"2\"/>\n",
       "<circle clip-path=\"url(#clip582)\" style=\"fill:#009af9; stroke:none; fill-opacity:0\" cx=\"348.641\" cy=\"1444.68\" r=\"2\"/>\n",
       "<circle clip-path=\"url(#clip582)\" style=\"fill:#009af9; stroke:none; fill-opacity:0\" cx=\"357.473\" cy=\"1443.65\" r=\"2\"/>\n",
       "<circle clip-path=\"url(#clip582)\" style=\"fill:#009af9; stroke:none; fill-opacity:0\" cx=\"366.305\" cy=\"1441.58\" r=\"2\"/>\n",
       "<circle clip-path=\"url(#clip582)\" style=\"fill:#009af9; stroke:none; fill-opacity:0\" cx=\"375.137\" cy=\"1440.55\" r=\"2\"/>\n",
       "<circle clip-path=\"url(#clip582)\" style=\"fill:#009af9; stroke:none; fill-opacity:0\" cx=\"383.969\" cy=\"1431.24\" r=\"2\"/>\n",
       "<circle clip-path=\"url(#clip582)\" style=\"fill:#009af9; stroke:none; fill-opacity:0\" cx=\"392.802\" cy=\"1436.41\" r=\"2\"/>\n",
       "<circle clip-path=\"url(#clip582)\" style=\"fill:#009af9; stroke:none; fill-opacity:0\" cx=\"401.634\" cy=\"1437.44\" r=\"2\"/>\n",
       "<circle clip-path=\"url(#clip582)\" style=\"fill:#009af9; stroke:none; fill-opacity:0\" cx=\"410.466\" cy=\"1427.1\" r=\"2\"/>\n",
       "<circle clip-path=\"url(#clip582)\" style=\"fill:#009af9; stroke:none; fill-opacity:0\" cx=\"419.298\" cy=\"1411.59\" r=\"2\"/>\n",
       "<circle clip-path=\"url(#clip582)\" style=\"fill:#009af9; stroke:none; fill-opacity:0\" cx=\"428.13\" cy=\"1387.81\" r=\"2\"/>\n",
       "<circle clip-path=\"url(#clip582)\" style=\"fill:#009af9; stroke:none; fill-opacity:0\" cx=\"436.962\" cy=\"1364.02\" r=\"2\"/>\n",
       "<circle clip-path=\"url(#clip582)\" style=\"fill:#009af9; stroke:none; fill-opacity:0\" cx=\"445.795\" cy=\"1360.92\" r=\"2\"/>\n",
       "<circle clip-path=\"url(#clip582)\" style=\"fill:#009af9; stroke:none; fill-opacity:0\" cx=\"454.627\" cy=\"1347.48\" r=\"2\"/>\n",
       "<circle clip-path=\"url(#clip582)\" style=\"fill:#009af9; stroke:none; fill-opacity:0\" cx=\"463.459\" cy=\"1311.29\" r=\"2\"/>\n",
       "<circle clip-path=\"url(#clip582)\" style=\"fill:#009af9; stroke:none; fill-opacity:0\" cx=\"472.291\" cy=\"1270.96\" r=\"2\"/>\n",
       "<circle clip-path=\"url(#clip582)\" style=\"fill:#009af9; stroke:none; fill-opacity:0\" cx=\"481.123\" cy=\"1274.06\" r=\"2\"/>\n",
       "<circle clip-path=\"url(#clip582)\" style=\"fill:#009af9; stroke:none; fill-opacity:0\" cx=\"489.956\" cy=\"1219.25\" r=\"2\"/>\n",
       "<circle clip-path=\"url(#clip582)\" style=\"fill:#009af9; stroke:none; fill-opacity:0\" cx=\"498.788\" cy=\"1142.73\" r=\"2\"/>\n",
       "<circle clip-path=\"url(#clip582)\" style=\"fill:#009af9; stroke:none; fill-opacity:0\" cx=\"507.62\" cy=\"1109.64\" r=\"2\"/>\n",
       "<circle clip-path=\"url(#clip582)\" style=\"fill:#009af9; stroke:none; fill-opacity:0\" cx=\"516.452\" cy=\"1058.97\" r=\"2\"/>\n",
       "<circle clip-path=\"url(#clip582)\" style=\"fill:#009af9; stroke:none; fill-opacity:0\" cx=\"525.284\" cy=\"992.791\" r=\"2\"/>\n",
       "<circle clip-path=\"url(#clip582)\" style=\"fill:#009af9; stroke:none; fill-opacity:0\" cx=\"534.116\" cy=\"910.065\" r=\"2\"/>\n",
       "<circle clip-path=\"url(#clip582)\" style=\"fill:#009af9; stroke:none; fill-opacity:0\" cx=\"542.949\" cy=\"797.351\" r=\"2\"/>\n",
       "<circle clip-path=\"url(#clip582)\" style=\"fill:#009af9; stroke:none; fill-opacity:0\" cx=\"551.781\" cy=\"681.535\" r=\"2\"/>\n",
       "<circle clip-path=\"url(#clip582)\" style=\"fill:#009af9; stroke:none; fill-opacity:0\" cx=\"560.613\" cy=\"592.604\" r=\"2\"/>\n",
       "<circle clip-path=\"url(#clip582)\" style=\"fill:#009af9; stroke:none; fill-opacity:0\" cx=\"569.445\" cy=\"484.027\" r=\"2\"/>\n",
       "<circle clip-path=\"url(#clip582)\" style=\"fill:#009af9; stroke:none; fill-opacity:0\" cx=\"578.277\" cy=\"356.836\" r=\"2\"/>\n",
       "<circle clip-path=\"url(#clip582)\" style=\"fill:#009af9; stroke:none; fill-opacity:0\" cx=\"587.11\" cy=\"349.597\" r=\"2\"/>\n",
       "<circle clip-path=\"url(#clip582)\" style=\"fill:#009af9; stroke:none; fill-opacity:0\" cx=\"595.942\" cy=\"207.929\" r=\"2\"/>\n",
       "<circle clip-path=\"url(#clip582)\" style=\"fill:#009af9; stroke:none; fill-opacity:0\" cx=\"604.774\" cy=\"294.791\" r=\"2\"/>\n",
       "<circle clip-path=\"url(#clip582)\" style=\"fill:#009af9; stroke:none; fill-opacity:0\" cx=\"613.606\" cy=\"158.293\" r=\"2\"/>\n",
       "<circle clip-path=\"url(#clip582)\" style=\"fill:#009af9; stroke:none; fill-opacity:0\" cx=\"622.438\" cy=\"87.9763\" r=\"2\"/>\n",
       "<circle clip-path=\"url(#clip582)\" style=\"fill:#009af9; stroke:none; fill-opacity:0\" cx=\"631.27\" cy=\"266.871\" r=\"2\"/>\n",
       "<circle clip-path=\"url(#clip582)\" style=\"fill:#009af9; stroke:none; fill-opacity:0\" cx=\"640.103\" cy=\"197.588\" r=\"2\"/>\n",
       "<circle clip-path=\"url(#clip582)\" style=\"fill:#009af9; stroke:none; fill-opacity:0\" cx=\"648.935\" cy=\"231.713\" r=\"2\"/>\n",
       "<circle clip-path=\"url(#clip582)\" style=\"fill:#009af9; stroke:none; fill-opacity:0\" cx=\"657.767\" cy=\"326.847\" r=\"2\"/>\n",
       "<circle clip-path=\"url(#clip582)\" style=\"fill:#009af9; stroke:none; fill-opacity:0\" cx=\"666.599\" cy=\"247.224\" r=\"2\"/>\n",
       "<circle clip-path=\"url(#clip582)\" style=\"fill:#009af9; stroke:none; fill-opacity:0\" cx=\"675.431\" cy=\"302.03\" r=\"2\"/>\n",
       "<circle clip-path=\"url(#clip582)\" style=\"fill:#009af9; stroke:none; fill-opacity:0\" cx=\"684.263\" cy=\"493.333\" r=\"2\"/>\n",
       "<circle clip-path=\"url(#clip582)\" style=\"fill:#009af9; stroke:none; fill-opacity:0\" cx=\"693.096\" cy=\"499.538\" r=\"2\"/>\n",
       "<circle clip-path=\"url(#clip582)\" style=\"fill:#009af9; stroke:none; fill-opacity:0\" cx=\"701.928\" cy=\"621.559\" r=\"2\"/>\n",
       "<circle clip-path=\"url(#clip582)\" style=\"fill:#009af9; stroke:none; fill-opacity:0\" cx=\"710.76\" cy=\"619.49\" r=\"2\"/>\n",
       "<circle clip-path=\"url(#clip582)\" style=\"fill:#009af9; stroke:none; fill-opacity:0\" cx=\"719.592\" cy=\"672.228\" r=\"2\"/>\n",
       "<circle clip-path=\"url(#clip582)\" style=\"fill:#009af9; stroke:none; fill-opacity:0\" cx=\"728.424\" cy=\"769.431\" r=\"2\"/>\n",
       "<circle clip-path=\"url(#clip582)\" style=\"fill:#009af9; stroke:none; fill-opacity:0\" cx=\"737.257\" cy=\"790.113\" r=\"2\"/>\n",
       "<circle clip-path=\"url(#clip582)\" style=\"fill:#009af9; stroke:none; fill-opacity:0\" cx=\"746.089\" cy=\"863.532\" r=\"2\"/>\n",
       "<circle clip-path=\"url(#clip582)\" style=\"fill:#009af9; stroke:none; fill-opacity:0\" cx=\"754.921\" cy=\"925.576\" r=\"2\"/>\n",
       "<circle clip-path=\"url(#clip582)\" style=\"fill:#009af9; stroke:none; fill-opacity:0\" cx=\"763.753\" cy=\"955.565\" r=\"2\"/>\n",
       "<circle clip-path=\"url(#clip582)\" style=\"fill:#009af9; stroke:none; fill-opacity:0\" cx=\"772.585\" cy=\"1010.37\" r=\"2\"/>\n",
       "<circle clip-path=\"url(#clip582)\" style=\"fill:#009af9; stroke:none; fill-opacity:0\" cx=\"781.417\" cy=\"1003.13\" r=\"2\"/>\n",
       "<circle clip-path=\"url(#clip582)\" style=\"fill:#009af9; stroke:none; fill-opacity:0\" cx=\"790.25\" cy=\"1110.68\" r=\"2\"/>\n",
       "<circle clip-path=\"url(#clip582)\" style=\"fill:#009af9; stroke:none; fill-opacity:0\" cx=\"799.082\" cy=\"1118.95\" r=\"2\"/>\n",
       "<circle clip-path=\"url(#clip582)\" style=\"fill:#009af9; stroke:none; fill-opacity:0\" cx=\"807.914\" cy=\"1113.78\" r=\"2\"/>\n",
       "<circle clip-path=\"url(#clip582)\" style=\"fill:#009af9; stroke:none; fill-opacity:0\" cx=\"816.746\" cy=\"1194.44\" r=\"2\"/>\n",
       "<circle clip-path=\"url(#clip582)\" style=\"fill:#009af9; stroke:none; fill-opacity:0\" cx=\"825.578\" cy=\"1245.11\" r=\"2\"/>\n",
       "<circle clip-path=\"url(#clip582)\" style=\"fill:#009af9; stroke:none; fill-opacity:0\" cx=\"834.411\" cy=\"1237.87\" r=\"2\"/>\n",
       "<circle clip-path=\"url(#clip582)\" style=\"fill:#009af9; stroke:none; fill-opacity:0\" cx=\"843.243\" cy=\"1290.6\" r=\"2\"/>\n",
       "<circle clip-path=\"url(#clip582)\" style=\"fill:#009af9; stroke:none; fill-opacity:0\" cx=\"852.075\" cy=\"1279.23\" r=\"2\"/>\n",
       "<circle clip-path=\"url(#clip582)\" style=\"fill:#009af9; stroke:none; fill-opacity:0\" cx=\"860.907\" cy=\"1290.6\" r=\"2\"/>\n",
       "<circle clip-path=\"url(#clip582)\" style=\"fill:#009af9; stroke:none; fill-opacity:0\" cx=\"869.739\" cy=\"1281.3\" r=\"2\"/>\n",
       "<circle clip-path=\"url(#clip582)\" style=\"fill:#009af9; stroke:none; fill-opacity:0\" cx=\"878.571\" cy=\"1346.44\" r=\"2\"/>\n",
       "<circle clip-path=\"url(#clip582)\" style=\"fill:#009af9; stroke:none; fill-opacity:0\" cx=\"887.404\" cy=\"1335.07\" r=\"2\"/>\n",
       "<circle clip-path=\"url(#clip582)\" style=\"fill:#009af9; stroke:none; fill-opacity:0\" cx=\"896.236\" cy=\"1329.9\" r=\"2\"/>\n",
       "<circle clip-path=\"url(#clip582)\" style=\"fill:#009af9; stroke:none; fill-opacity:0\" cx=\"905.068\" cy=\"1344.38\" r=\"2\"/>\n",
       "<circle clip-path=\"url(#clip582)\" style=\"fill:#009af9; stroke:none; fill-opacity:0\" cx=\"913.9\" cy=\"1353.68\" r=\"2\"/>\n",
       "<circle clip-path=\"url(#clip582)\" style=\"fill:#009af9; stroke:none; fill-opacity:0\" cx=\"922.732\" cy=\"1372.3\" r=\"2\"/>\n",
       "<circle clip-path=\"url(#clip582)\" style=\"fill:#009af9; stroke:none; fill-opacity:0\" cx=\"931.565\" cy=\"1387.81\" r=\"2\"/>\n",
       "<circle clip-path=\"url(#clip582)\" style=\"fill:#009af9; stroke:none; fill-opacity:0\" cx=\"940.397\" cy=\"1386.77\" r=\"2\"/>\n",
       "<circle clip-path=\"url(#clip582)\" style=\"fill:#009af9; stroke:none; fill-opacity:0\" cx=\"949.229\" cy=\"1376.43\" r=\"2\"/>\n",
       "<circle clip-path=\"url(#clip582)\" style=\"fill:#009af9; stroke:none; fill-opacity:0\" cx=\"958.061\" cy=\"1398.15\" r=\"2\"/>\n",
       "<circle clip-path=\"url(#clip582)\" style=\"fill:#009af9; stroke:none; fill-opacity:0\" cx=\"966.893\" cy=\"1396.08\" r=\"2\"/>\n",
       "<circle clip-path=\"url(#clip582)\" style=\"fill:#009af9; stroke:none; fill-opacity:0\" cx=\"975.725\" cy=\"1384.71\" r=\"2\"/>\n",
       "<circle clip-path=\"url(#clip582)\" style=\"fill:#009af9; stroke:none; fill-opacity:0\" cx=\"984.558\" cy=\"1403.32\" r=\"2\"/>\n",
       "<circle clip-path=\"url(#clip582)\" style=\"fill:#009af9; stroke:none; fill-opacity:0\" cx=\"993.39\" cy=\"1409.52\" r=\"2\"/>\n",
       "<circle clip-path=\"url(#clip582)\" style=\"fill:#009af9; stroke:none; fill-opacity:0\" cx=\"1002.22\" cy=\"1410.56\" r=\"2\"/>\n",
       "<circle clip-path=\"url(#clip582)\" style=\"fill:#009af9; stroke:none; fill-opacity:0\" cx=\"1011.05\" cy=\"1404.35\" r=\"2\"/>\n",
       "<circle clip-path=\"url(#clip582)\" style=\"fill:#009af9; stroke:none; fill-opacity:0\" cx=\"1019.89\" cy=\"1411.59\" r=\"2\"/>\n",
       "<circle clip-path=\"url(#clip582)\" style=\"fill:#009af9; stroke:none; fill-opacity:0\" cx=\"1028.72\" cy=\"1411.59\" r=\"2\"/>\n",
       "<circle clip-path=\"url(#clip582)\" style=\"fill:#009af9; stroke:none; fill-opacity:0\" cx=\"1037.55\" cy=\"1419.86\" r=\"2\"/>\n",
       "<circle clip-path=\"url(#clip582)\" style=\"fill:#009af9; stroke:none; fill-opacity:0\" cx=\"1046.38\" cy=\"1414.69\" r=\"2\"/>\n",
       "<circle clip-path=\"url(#clip582)\" style=\"fill:#009af9; stroke:none; fill-opacity:0\" cx=\"1055.22\" cy=\"1416.76\" r=\"2\"/>\n",
       "<circle clip-path=\"url(#clip582)\" style=\"fill:#009af9; stroke:none; fill-opacity:0\" cx=\"1064.05\" cy=\"1418.83\" r=\"2\"/>\n",
       "<circle clip-path=\"url(#clip582)\" style=\"fill:#009af9; stroke:none; fill-opacity:0\" cx=\"1072.88\" cy=\"1408.49\" r=\"2\"/>\n",
       "<circle clip-path=\"url(#clip582)\" style=\"fill:#009af9; stroke:none; fill-opacity:0\" cx=\"1081.71\" cy=\"1419.86\" r=\"2\"/>\n",
       "<circle clip-path=\"url(#clip582)\" style=\"fill:#009af9; stroke:none; fill-opacity:0\" cx=\"1090.54\" cy=\"1419.86\" r=\"2\"/>\n",
       "<circle clip-path=\"url(#clip582)\" style=\"fill:#009af9; stroke:none; fill-opacity:0\" cx=\"1099.38\" cy=\"1421.93\" r=\"2\"/>\n",
       "<circle clip-path=\"url(#clip582)\" style=\"fill:#009af9; stroke:none; fill-opacity:0\" cx=\"1108.21\" cy=\"1427.1\" r=\"2\"/>\n",
       "<circle clip-path=\"url(#clip582)\" style=\"fill:#009af9; stroke:none; fill-opacity:0\" cx=\"1117.04\" cy=\"1421.93\" r=\"2\"/>\n",
       "<circle clip-path=\"url(#clip582)\" style=\"fill:#009af9; stroke:none; fill-opacity:0\" cx=\"1125.87\" cy=\"1429.17\" r=\"2\"/>\n",
       "<circle clip-path=\"url(#clip582)\" style=\"fill:#009af9; stroke:none; fill-opacity:0\" cx=\"1134.7\" cy=\"1425.03\" r=\"2\"/>\n",
       "<circle clip-path=\"url(#clip582)\" style=\"fill:#009af9; stroke:none; fill-opacity:0\" cx=\"1143.54\" cy=\"1431.24\" r=\"2\"/>\n",
       "<circle clip-path=\"url(#clip582)\" style=\"fill:#009af9; stroke:none; fill-opacity:0\" cx=\"1152.37\" cy=\"1424\" r=\"2\"/>\n",
       "<circle clip-path=\"url(#clip582)\" style=\"fill:#009af9; stroke:none; fill-opacity:0\" cx=\"1161.2\" cy=\"1424\" r=\"2\"/>\n",
       "<circle clip-path=\"url(#clip582)\" style=\"fill:#009af9; stroke:none; fill-opacity:0\" cx=\"1170.03\" cy=\"1428.14\" r=\"2\"/>\n",
       "<circle clip-path=\"url(#clip582)\" style=\"fill:#009af9; stroke:none; fill-opacity:0\" cx=\"1178.87\" cy=\"1424\" r=\"2\"/>\n",
       "<circle clip-path=\"url(#clip582)\" style=\"fill:#009af9; stroke:none; fill-opacity:0\" cx=\"1187.7\" cy=\"1434.34\" r=\"2\"/>\n",
       "<circle clip-path=\"url(#clip582)\" style=\"fill:#009af9; stroke:none; fill-opacity:0\" cx=\"1196.53\" cy=\"1424\" r=\"2\"/>\n",
       "<circle clip-path=\"url(#clip582)\" style=\"fill:#009af9; stroke:none; fill-opacity:0\" cx=\"1205.36\" cy=\"1420.9\" r=\"2\"/>\n",
       "<circle clip-path=\"url(#clip582)\" style=\"fill:#009af9; stroke:none; fill-opacity:0\" cx=\"1214.19\" cy=\"1430.2\" r=\"2\"/>\n",
       "<circle clip-path=\"url(#clip582)\" style=\"fill:#009af9; stroke:none; fill-opacity:0\" cx=\"1223.03\" cy=\"1425.03\" r=\"2\"/>\n",
       "<circle clip-path=\"url(#clip582)\" style=\"fill:#009af9; stroke:none; fill-opacity:0\" cx=\"1231.86\" cy=\"1432.27\" r=\"2\"/>\n",
       "<circle clip-path=\"url(#clip582)\" style=\"fill:#009af9; stroke:none; fill-opacity:0\" cx=\"1240.69\" cy=\"1427.1\" r=\"2\"/>\n",
       "<circle clip-path=\"url(#clip582)\" style=\"fill:#009af9; stroke:none; fill-opacity:0\" cx=\"1249.52\" cy=\"1429.17\" r=\"2\"/>\n",
       "<circle clip-path=\"url(#clip582)\" style=\"fill:#009af9; stroke:none; fill-opacity:0\" cx=\"1258.36\" cy=\"1426.07\" r=\"2\"/>\n",
       "<circle clip-path=\"url(#clip582)\" style=\"fill:#009af9; stroke:none; fill-opacity:0\" cx=\"1267.19\" cy=\"1431.24\" r=\"2\"/>\n",
       "<circle clip-path=\"url(#clip582)\" style=\"fill:#009af9; stroke:none; fill-opacity:0\" cx=\"1276.02\" cy=\"1425.03\" r=\"2\"/>\n",
       "<circle clip-path=\"url(#clip582)\" style=\"fill:#009af9; stroke:none; fill-opacity:0\" cx=\"1284.85\" cy=\"1429.17\" r=\"2\"/>\n",
       "<circle clip-path=\"url(#clip582)\" style=\"fill:#009af9; stroke:none; fill-opacity:0\" cx=\"1293.68\" cy=\"1429.17\" r=\"2\"/>\n",
       "<circle clip-path=\"url(#clip582)\" style=\"fill:#009af9; stroke:none; fill-opacity:0\" cx=\"1302.52\" cy=\"1435.37\" r=\"2\"/>\n",
       "<circle clip-path=\"url(#clip582)\" style=\"fill:#009af9; stroke:none; fill-opacity:0\" cx=\"1311.35\" cy=\"1432.27\" r=\"2\"/>\n",
       "<circle clip-path=\"url(#clip582)\" style=\"fill:#009af9; stroke:none; fill-opacity:0\" cx=\"1320.18\" cy=\"1432.27\" r=\"2\"/>\n",
       "<circle clip-path=\"url(#clip582)\" style=\"fill:#009af9; stroke:none; fill-opacity:0\" cx=\"1329.01\" cy=\"1424\" r=\"2\"/>\n",
       "<circle clip-path=\"url(#clip582)\" style=\"fill:#009af9; stroke:none; fill-opacity:0\" cx=\"1337.84\" cy=\"1431.24\" r=\"2\"/>\n",
       "<circle clip-path=\"url(#clip582)\" style=\"fill:#009af9; stroke:none; fill-opacity:0\" cx=\"1346.68\" cy=\"1434.34\" r=\"2\"/>\n",
       "<circle clip-path=\"url(#clip582)\" style=\"fill:#009af9; stroke:none; fill-opacity:0\" cx=\"1355.51\" cy=\"1432.27\" r=\"2\"/>\n",
       "<circle clip-path=\"url(#clip582)\" style=\"fill:#009af9; stroke:none; fill-opacity:0\" cx=\"1364.34\" cy=\"1433.31\" r=\"2\"/>\n",
       "<circle clip-path=\"url(#clip582)\" style=\"fill:#009af9; stroke:none; fill-opacity:0\" cx=\"1373.17\" cy=\"1427.1\" r=\"2\"/>\n",
       "<circle clip-path=\"url(#clip582)\" style=\"fill:#009af9; stroke:none; fill-opacity:0\" cx=\"1382.01\" cy=\"1431.24\" r=\"2\"/>\n",
       "<circle clip-path=\"url(#clip582)\" style=\"fill:#009af9; stroke:none; fill-opacity:0\" cx=\"1390.84\" cy=\"1432.27\" r=\"2\"/>\n",
       "<circle clip-path=\"url(#clip582)\" style=\"fill:#009af9; stroke:none; fill-opacity:0\" cx=\"1399.67\" cy=\"1430.2\" r=\"2\"/>\n",
       "<circle clip-path=\"url(#clip582)\" style=\"fill:#009af9; stroke:none; fill-opacity:0\" cx=\"1408.5\" cy=\"1435.37\" r=\"2\"/>\n",
       "<circle clip-path=\"url(#clip582)\" style=\"fill:#009af9; stroke:none; fill-opacity:0\" cx=\"1417.33\" cy=\"1434.34\" r=\"2\"/>\n",
       "<circle clip-path=\"url(#clip582)\" style=\"fill:#009af9; stroke:none; fill-opacity:0\" cx=\"1426.17\" cy=\"1434.34\" r=\"2\"/>\n",
       "<circle clip-path=\"url(#clip582)\" style=\"fill:#009af9; stroke:none; fill-opacity:0\" cx=\"1435\" cy=\"1430.2\" r=\"2\"/>\n",
       "<circle clip-path=\"url(#clip582)\" style=\"fill:#009af9; stroke:none; fill-opacity:0\" cx=\"1443.83\" cy=\"1433.31\" r=\"2\"/>\n",
       "<circle clip-path=\"url(#clip582)\" style=\"fill:#009af9; stroke:none; fill-opacity:0\" cx=\"1452.66\" cy=\"1433.31\" r=\"2\"/>\n",
       "<circle clip-path=\"url(#clip582)\" style=\"fill:#009af9; stroke:none; fill-opacity:0\" cx=\"1461.5\" cy=\"1433.31\" r=\"2\"/>\n",
       "<circle clip-path=\"url(#clip582)\" style=\"fill:#009af9; stroke:none; fill-opacity:0\" cx=\"1470.33\" cy=\"1432.27\" r=\"2\"/>\n",
       "<circle clip-path=\"url(#clip582)\" style=\"fill:#009af9; stroke:none; fill-opacity:0\" cx=\"1479.16\" cy=\"1436.41\" r=\"2\"/>\n",
       "<circle clip-path=\"url(#clip582)\" style=\"fill:#009af9; stroke:none; fill-opacity:0\" cx=\"1487.99\" cy=\"1435.37\" r=\"2\"/>\n",
       "<circle clip-path=\"url(#clip582)\" style=\"fill:#009af9; stroke:none; fill-opacity:0\" cx=\"1496.82\" cy=\"1441.58\" r=\"2\"/>\n",
       "<circle clip-path=\"url(#clip582)\" style=\"fill:#009af9; stroke:none; fill-opacity:0\" cx=\"1505.66\" cy=\"1436.41\" r=\"2\"/>\n",
       "<circle clip-path=\"url(#clip582)\" style=\"fill:#009af9; stroke:none; fill-opacity:0\" cx=\"1514.49\" cy=\"1437.44\" r=\"2\"/>\n",
       "<circle clip-path=\"url(#clip582)\" style=\"fill:#009af9; stroke:none; fill-opacity:0\" cx=\"1523.32\" cy=\"1438.48\" r=\"2\"/>\n",
       "<circle clip-path=\"url(#clip582)\" style=\"fill:#009af9; stroke:none; fill-opacity:0\" cx=\"1532.15\" cy=\"1435.37\" r=\"2\"/>\n",
       "<circle clip-path=\"url(#clip582)\" style=\"fill:#009af9; stroke:none; fill-opacity:0\" cx=\"1540.98\" cy=\"1438.48\" r=\"2\"/>\n",
       "<circle clip-path=\"url(#clip582)\" style=\"fill:#009af9; stroke:none; fill-opacity:0\" cx=\"1549.82\" cy=\"1438.48\" r=\"2\"/>\n",
       "<circle clip-path=\"url(#clip582)\" style=\"fill:#009af9; stroke:none; fill-opacity:0\" cx=\"1558.65\" cy=\"1438.48\" r=\"2\"/>\n",
       "<circle clip-path=\"url(#clip582)\" style=\"fill:#009af9; stroke:none; fill-opacity:0\" cx=\"1567.48\" cy=\"1439.51\" r=\"2\"/>\n",
       "<circle clip-path=\"url(#clip582)\" style=\"fill:#009af9; stroke:none; fill-opacity:0\" cx=\"1576.31\" cy=\"1440.55\" r=\"2\"/>\n",
       "<circle clip-path=\"url(#clip582)\" style=\"fill:#009af9; stroke:none; fill-opacity:0\" cx=\"1585.15\" cy=\"1439.51\" r=\"2\"/>\n",
       "<circle clip-path=\"url(#clip582)\" style=\"fill:#009af9; stroke:none; fill-opacity:0\" cx=\"1593.98\" cy=\"1436.41\" r=\"2\"/>\n",
       "<circle clip-path=\"url(#clip582)\" style=\"fill:#009af9; stroke:none; fill-opacity:0\" cx=\"1602.81\" cy=\"1440.55\" r=\"2\"/>\n",
       "<circle clip-path=\"url(#clip582)\" style=\"fill:#009af9; stroke:none; fill-opacity:0\" cx=\"1611.64\" cy=\"1435.37\" r=\"2\"/>\n",
       "<circle clip-path=\"url(#clip582)\" style=\"fill:#009af9; stroke:none; fill-opacity:0\" cx=\"1620.47\" cy=\"1434.34\" r=\"2\"/>\n",
       "<circle clip-path=\"url(#clip582)\" style=\"fill:#009af9; stroke:none; fill-opacity:0\" cx=\"1629.31\" cy=\"1437.44\" r=\"2\"/>\n",
       "<circle clip-path=\"url(#clip582)\" style=\"fill:#009af9; stroke:none; fill-opacity:0\" cx=\"1638.14\" cy=\"1436.41\" r=\"2\"/>\n",
       "<circle clip-path=\"url(#clip582)\" style=\"fill:#009af9; stroke:none; fill-opacity:0\" cx=\"1646.97\" cy=\"1437.44\" r=\"2\"/>\n",
       "<circle clip-path=\"url(#clip582)\" style=\"fill:#009af9; stroke:none; fill-opacity:0\" cx=\"1655.8\" cy=\"1434.34\" r=\"2\"/>\n",
       "<circle clip-path=\"url(#clip582)\" style=\"fill:#009af9; stroke:none; fill-opacity:0\" cx=\"1664.64\" cy=\"1436.41\" r=\"2\"/>\n",
       "<circle clip-path=\"url(#clip582)\" style=\"fill:#009af9; stroke:none; fill-opacity:0\" cx=\"1673.47\" cy=\"1436.41\" r=\"2\"/>\n",
       "<circle clip-path=\"url(#clip582)\" style=\"fill:#009af9; stroke:none; fill-opacity:0\" cx=\"1682.3\" cy=\"1438.48\" r=\"2\"/>\n",
       "<circle clip-path=\"url(#clip582)\" style=\"fill:#009af9; stroke:none; fill-opacity:0\" cx=\"1691.13\" cy=\"1437.44\" r=\"2\"/>\n",
       "<circle clip-path=\"url(#clip582)\" style=\"fill:#009af9; stroke:none; fill-opacity:0\" cx=\"1699.96\" cy=\"1439.51\" r=\"2\"/>\n",
       "<circle clip-path=\"url(#clip582)\" style=\"fill:#009af9; stroke:none; fill-opacity:0\" cx=\"1708.8\" cy=\"1439.51\" r=\"2\"/>\n",
       "<circle clip-path=\"url(#clip582)\" style=\"fill:#009af9; stroke:none; fill-opacity:0\" cx=\"1717.63\" cy=\"1438.48\" r=\"2\"/>\n",
       "<circle clip-path=\"url(#clip582)\" style=\"fill:#009af9; stroke:none; fill-opacity:0\" cx=\"1726.46\" cy=\"1438.48\" r=\"2\"/>\n",
       "<circle clip-path=\"url(#clip582)\" style=\"fill:#009af9; stroke:none; fill-opacity:0\" cx=\"1735.29\" cy=\"1442.61\" r=\"2\"/>\n",
       "<circle clip-path=\"url(#clip582)\" style=\"fill:#009af9; stroke:none; fill-opacity:0\" cx=\"1744.13\" cy=\"1439.51\" r=\"2\"/>\n",
       "<circle clip-path=\"url(#clip582)\" style=\"fill:#009af9; stroke:none; fill-opacity:0\" cx=\"1752.96\" cy=\"1443.65\" r=\"2\"/>\n",
       "<circle clip-path=\"url(#clip582)\" style=\"fill:#009af9; stroke:none; fill-opacity:0\" cx=\"1761.79\" cy=\"1436.41\" r=\"2\"/>\n",
       "<circle clip-path=\"url(#clip582)\" style=\"fill:#009af9; stroke:none; fill-opacity:0\" cx=\"1770.62\" cy=\"1438.48\" r=\"2\"/>\n",
       "<circle clip-path=\"url(#clip582)\" style=\"fill:#009af9; stroke:none; fill-opacity:0\" cx=\"1779.45\" cy=\"1442.61\" r=\"2\"/>\n",
       "<circle clip-path=\"url(#clip582)\" style=\"fill:#009af9; stroke:none; fill-opacity:0\" cx=\"1788.29\" cy=\"1434.34\" r=\"2\"/>\n",
       "<circle clip-path=\"url(#clip582)\" style=\"fill:#009af9; stroke:none; fill-opacity:0\" cx=\"1797.12\" cy=\"1442.61\" r=\"2\"/>\n",
       "<circle clip-path=\"url(#clip582)\" style=\"fill:#009af9; stroke:none; fill-opacity:0\" cx=\"1805.95\" cy=\"1442.61\" r=\"2\"/>\n",
       "<circle clip-path=\"url(#clip582)\" style=\"fill:#009af9; stroke:none; fill-opacity:0\" cx=\"1814.78\" cy=\"1443.65\" r=\"2\"/>\n",
       "<circle clip-path=\"url(#clip582)\" style=\"fill:#009af9; stroke:none; fill-opacity:0\" cx=\"1823.61\" cy=\"1442.61\" r=\"2\"/>\n",
       "<circle clip-path=\"url(#clip582)\" style=\"fill:#009af9; stroke:none; fill-opacity:0\" cx=\"1832.45\" cy=\"1441.58\" r=\"2\"/>\n",
       "<circle clip-path=\"url(#clip582)\" style=\"fill:#009af9; stroke:none; fill-opacity:0\" cx=\"1841.28\" cy=\"1438.48\" r=\"2\"/>\n",
       "<circle clip-path=\"url(#clip582)\" style=\"fill:#009af9; stroke:none; fill-opacity:0\" cx=\"1850.11\" cy=\"1442.61\" r=\"2\"/>\n",
       "<circle clip-path=\"url(#clip582)\" style=\"fill:#009af9; stroke:none; fill-opacity:0\" cx=\"1858.94\" cy=\"1444.68\" r=\"2\"/>\n",
       "<circle clip-path=\"url(#clip582)\" style=\"fill:#009af9; stroke:none; fill-opacity:0\" cx=\"1867.78\" cy=\"1443.65\" r=\"2\"/>\n",
       "<circle clip-path=\"url(#clip582)\" style=\"fill:#009af9; stroke:none; fill-opacity:0\" cx=\"1876.61\" cy=\"1441.58\" r=\"2\"/>\n",
       "<circle clip-path=\"url(#clip582)\" style=\"fill:#009af9; stroke:none; fill-opacity:0\" cx=\"1885.44\" cy=\"1441.58\" r=\"2\"/>\n",
       "<circle clip-path=\"url(#clip582)\" style=\"fill:#009af9; stroke:none; fill-opacity:0\" cx=\"1894.27\" cy=\"1443.65\" r=\"2\"/>\n",
       "<circle clip-path=\"url(#clip582)\" style=\"fill:#009af9; stroke:none; fill-opacity:0\" cx=\"1903.1\" cy=\"1443.65\" r=\"2\"/>\n",
       "<circle clip-path=\"url(#clip582)\" style=\"fill:#009af9; stroke:none; fill-opacity:0\" cx=\"1911.94\" cy=\"1441.58\" r=\"2\"/>\n",
       "<circle clip-path=\"url(#clip582)\" style=\"fill:#009af9; stroke:none; fill-opacity:0\" cx=\"1920.77\" cy=\"1443.65\" r=\"2\"/>\n",
       "<circle clip-path=\"url(#clip582)\" style=\"fill:#009af9; stroke:none; fill-opacity:0\" cx=\"1929.6\" cy=\"1437.44\" r=\"2\"/>\n",
       "<circle clip-path=\"url(#clip582)\" style=\"fill:#009af9; stroke:none; fill-opacity:0\" cx=\"1938.43\" cy=\"1440.55\" r=\"2\"/>\n",
       "<circle clip-path=\"url(#clip582)\" style=\"fill:#009af9; stroke:none; fill-opacity:0\" cx=\"1947.27\" cy=\"1442.61\" r=\"2\"/>\n",
       "<circle clip-path=\"url(#clip582)\" style=\"fill:#009af9; stroke:none; fill-opacity:0\" cx=\"1956.1\" cy=\"1443.65\" r=\"2\"/>\n",
       "<circle clip-path=\"url(#clip582)\" style=\"fill:#009af9; stroke:none; fill-opacity:0\" cx=\"1964.93\" cy=\"1440.55\" r=\"2\"/>\n",
       "<circle clip-path=\"url(#clip582)\" style=\"fill:#009af9; stroke:none; fill-opacity:0\" cx=\"1973.76\" cy=\"1442.61\" r=\"2\"/>\n",
       "<circle clip-path=\"url(#clip582)\" style=\"fill:#009af9; stroke:none; fill-opacity:0\" cx=\"1982.59\" cy=\"1442.61\" r=\"2\"/>\n",
       "<circle clip-path=\"url(#clip582)\" style=\"fill:#009af9; stroke:none; fill-opacity:0\" cx=\"1991.43\" cy=\"1442.61\" r=\"2\"/>\n",
       "<circle clip-path=\"url(#clip582)\" style=\"fill:#009af9; stroke:none; fill-opacity:0\" cx=\"2000.26\" cy=\"1443.65\" r=\"2\"/>\n",
       "<circle clip-path=\"url(#clip582)\" style=\"fill:#009af9; stroke:none; fill-opacity:0\" cx=\"2009.09\" cy=\"1442.61\" r=\"2\"/>\n",
       "<circle clip-path=\"url(#clip582)\" style=\"fill:#009af9; stroke:none; fill-opacity:0\" cx=\"2017.92\" cy=\"1442.61\" r=\"2\"/>\n",
       "<circle clip-path=\"url(#clip582)\" style=\"fill:#009af9; stroke:none; fill-opacity:0\" cx=\"2026.75\" cy=\"1443.65\" r=\"2\"/>\n",
       "<circle clip-path=\"url(#clip582)\" style=\"fill:#009af9; stroke:none; fill-opacity:0\" cx=\"2035.59\" cy=\"1445.72\" r=\"2\"/>\n",
       "<circle clip-path=\"url(#clip582)\" style=\"fill:#009af9; stroke:none; fill-opacity:0\" cx=\"2044.42\" cy=\"1444.68\" r=\"2\"/>\n",
       "<circle clip-path=\"url(#clip582)\" style=\"fill:#009af9; stroke:none; fill-opacity:0\" cx=\"2053.25\" cy=\"1445.72\" r=\"2\"/>\n",
       "<circle clip-path=\"url(#clip582)\" style=\"fill:#009af9; stroke:none; fill-opacity:0\" cx=\"2062.08\" cy=\"1444.68\" r=\"2\"/>\n",
       "<circle clip-path=\"url(#clip582)\" style=\"fill:#009af9; stroke:none; fill-opacity:0\" cx=\"2070.92\" cy=\"1444.68\" r=\"2\"/>\n",
       "<circle clip-path=\"url(#clip582)\" style=\"fill:#009af9; stroke:none; fill-opacity:0\" cx=\"2079.75\" cy=\"1443.65\" r=\"2\"/>\n",
       "<circle clip-path=\"url(#clip582)\" style=\"fill:#009af9; stroke:none; fill-opacity:0\" cx=\"2088.58\" cy=\"1445.72\" r=\"2\"/>\n",
       "<circle clip-path=\"url(#clip582)\" style=\"fill:#009af9; stroke:none; fill-opacity:0\" cx=\"2097.41\" cy=\"1445.72\" r=\"2\"/>\n",
       "<circle clip-path=\"url(#clip582)\" style=\"fill:#009af9; stroke:none; fill-opacity:0\" cx=\"2106.24\" cy=\"1444.68\" r=\"2\"/>\n",
       "<circle clip-path=\"url(#clip582)\" style=\"fill:#009af9; stroke:none; fill-opacity:0\" cx=\"2115.08\" cy=\"1444.68\" r=\"2\"/>\n",
       "<circle clip-path=\"url(#clip582)\" style=\"fill:#009af9; stroke:none; fill-opacity:0\" cx=\"2123.91\" cy=\"1445.72\" r=\"2\"/>\n",
       "<circle clip-path=\"url(#clip582)\" style=\"fill:#009af9; stroke:none; fill-opacity:0\" cx=\"2132.74\" cy=\"1445.72\" r=\"2\"/>\n",
       "<circle clip-path=\"url(#clip582)\" style=\"fill:#009af9; stroke:none; fill-opacity:0\" cx=\"2141.57\" cy=\"1445.72\" r=\"2\"/>\n",
       "<circle clip-path=\"url(#clip582)\" style=\"fill:#009af9; stroke:none; fill-opacity:0\" cx=\"2150.41\" cy=\"1445.72\" r=\"2\"/>\n",
       "<circle clip-path=\"url(#clip582)\" style=\"fill:#009af9; stroke:none; fill-opacity:0\" cx=\"2159.24\" cy=\"1445.72\" r=\"2\"/>\n",
       "<circle clip-path=\"url(#clip582)\" style=\"fill:#009af9; stroke:none; fill-opacity:0\" cx=\"2168.07\" cy=\"1445.72\" r=\"2\"/>\n",
       "<circle clip-path=\"url(#clip582)\" style=\"fill:#009af9; stroke:none; fill-opacity:0\" cx=\"2176.9\" cy=\"1445.72\" r=\"2\"/>\n",
       "<circle clip-path=\"url(#clip582)\" style=\"fill:#009af9; stroke:none; fill-opacity:0\" cx=\"2185.73\" cy=\"1445.72\" r=\"2\"/>\n",
       "<circle clip-path=\"url(#clip582)\" style=\"fill:#009af9; stroke:none; fill-opacity:0\" cx=\"2194.57\" cy=\"1445.72\" r=\"2\"/>\n",
       "<circle clip-path=\"url(#clip582)\" style=\"fill:#009af9; stroke:none; fill-opacity:0\" cx=\"2203.4\" cy=\"1445.72\" r=\"2\"/>\n",
       "<circle clip-path=\"url(#clip582)\" style=\"fill:#009af9; stroke:none; fill-opacity:0\" cx=\"2212.23\" cy=\"1445.72\" r=\"2\"/>\n",
       "<circle clip-path=\"url(#clip582)\" style=\"fill:#009af9; stroke:none; fill-opacity:0\" cx=\"2221.06\" cy=\"1445.72\" r=\"2\"/>\n",
       "<circle clip-path=\"url(#clip582)\" style=\"fill:#009af9; stroke:none; fill-opacity:0\" cx=\"2229.89\" cy=\"1444.68\" r=\"2\"/>\n",
       "<path clip-path=\"url(#clip580)\" d=\"\n",
       "M1402.78 198.898 L2280.97 198.898 L2280.97 95.2176 L1402.78 95.2176  Z\n",
       "  \" fill=\"#ffffff\" fill-rule=\"evenodd\" fill-opacity=\"1\"/>\n",
       "<polyline clip-path=\"url(#clip580)\" style=\"stroke:#000000; stroke-linecap:round; stroke-linejoin:round; stroke-width:4; stroke-opacity:1; fill:none\" points=\"\n",
       "  1402.78,198.898 2280.97,198.898 2280.97,95.2176 1402.78,95.2176 1402.78,198.898 \n",
       "  \"/>\n",
       "<path clip-path=\"url(#clip580)\" d=\"\n",
       "M1426.71 167.794 L1570.27 167.794 L1570.27 126.322 L1426.71 126.322 L1426.71 167.794  Z\n",
       "  \" fill=\"#009af9\" fill-rule=\"evenodd\" fill-opacity=\"1\"/>\n",
       "<polyline clip-path=\"url(#clip580)\" style=\"stroke:#000000; stroke-linecap:round; stroke-linejoin:round; stroke-width:4; stroke-opacity:1; fill:none\" points=\"\n",
       "  1426.71,167.794 1570.27,167.794 1570.27,126.322 1426.71,126.322 1426.71,167.794 \n",
       "  \"/>\n",
       "<path clip-path=\"url(#clip580)\" d=\"M1594.2 129.778 L1601.17 129.778 L1609.99 153.296 L1618.85 129.778 L1625.82 129.778 L1625.82 164.338 L1621.26 164.338 L1621.26 133.99 L1612.35 157.694 L1607.65 157.694 L1598.74 133.99 L1598.74 164.338 L1594.2 164.338 L1594.2 129.778 Z\" fill=\"#000000\" fill-rule=\"evenodd\" fill-opacity=\"1\" /><path clip-path=\"url(#clip580)\" d=\"M1646.7 151.305 Q1641.54 151.305 1639.55 152.486 Q1637.56 153.666 1637.56 156.514 Q1637.56 158.782 1639.04 160.125 Q1640.54 161.444 1643.11 161.444 Q1646.66 161.444 1648.79 158.944 Q1650.94 156.421 1650.94 152.254 L1650.94 151.305 L1646.7 151.305 M1655.2 149.546 L1655.2 164.338 L1650.94 164.338 L1650.94 160.402 Q1649.48 162.763 1647.3 163.898 Q1645.13 165.009 1641.98 165.009 Q1638 165.009 1635.64 162.787 Q1633.3 160.541 1633.3 156.791 Q1633.3 152.416 1636.22 150.194 Q1639.16 147.972 1644.97 147.972 L1650.94 147.972 L1650.94 147.555 Q1650.94 144.615 1648.99 143.018 Q1647.07 141.398 1643.58 141.398 Q1641.35 141.398 1639.25 141.93 Q1637.14 142.463 1635.2 143.527 L1635.2 139.592 Q1637.54 138.69 1639.73 138.25 Q1641.93 137.787 1644.02 137.787 Q1649.64 137.787 1652.42 140.703 Q1655.2 143.62 1655.2 149.546 Z\" fill=\"#000000\" fill-rule=\"evenodd\" fill-opacity=\"1\" /><path clip-path=\"url(#clip580)\" d=\"M1685.52 138.412 L1676.15 151.027 L1686.01 164.338 L1680.98 164.338 L1673.44 154.152 L1665.89 164.338 L1660.87 164.338 L1670.94 150.773 L1661.73 138.412 L1666.75 138.412 L1673.62 147.648 L1680.5 138.412 L1685.52 138.412 Z\" fill=\"#000000\" fill-rule=\"evenodd\" fill-opacity=\"1\" /><path clip-path=\"url(#clip580)\" d=\"M1692.03 138.412 L1696.29 138.412 L1696.29 164.338 L1692.03 164.338 L1692.03 138.412 M1692.03 128.319 L1696.29 128.319 L1696.29 133.713 L1692.03 133.713 L1692.03 128.319 Z\" fill=\"#000000\" fill-rule=\"evenodd\" fill-opacity=\"1\" /><path clip-path=\"url(#clip580)\" d=\"M1725.38 143.389 Q1726.98 140.518 1729.2 139.153 Q1731.42 137.787 1734.43 137.787 Q1738.48 137.787 1740.68 140.634 Q1742.88 143.458 1742.88 148.689 L1742.88 164.338 L1738.6 164.338 L1738.6 148.828 Q1738.6 145.102 1737.28 143.296 Q1735.96 141.49 1733.25 141.49 Q1729.94 141.49 1728.02 143.69 Q1726.1 145.889 1726.1 149.685 L1726.1 164.338 L1721.82 164.338 L1721.82 148.828 Q1721.82 145.078 1720.5 143.296 Q1719.18 141.49 1716.42 141.49 Q1713.16 141.49 1711.24 143.713 Q1709.32 145.912 1709.32 149.685 L1709.32 164.338 L1705.04 164.338 L1705.04 138.412 L1709.32 138.412 L1709.32 142.44 Q1710.78 140.055 1712.81 138.921 Q1714.85 137.787 1717.65 137.787 Q1720.47 137.787 1722.44 139.222 Q1724.43 140.657 1725.38 143.389 Z\" fill=\"#000000\" fill-rule=\"evenodd\" fill-opacity=\"1\" /><path clip-path=\"url(#clip580)\" d=\"M1750.94 154.106 L1750.94 138.412 L1755.2 138.412 L1755.2 153.944 Q1755.2 157.625 1756.63 159.476 Q1758.07 161.305 1760.94 161.305 Q1764.39 161.305 1766.38 159.106 Q1768.39 156.907 1768.39 153.111 L1768.39 138.412 L1772.65 138.412 L1772.65 164.338 L1768.39 164.338 L1768.39 160.356 Q1766.84 162.717 1764.78 163.875 Q1762.74 165.009 1760.03 165.009 Q1755.57 165.009 1753.25 162.231 Q1750.94 159.453 1750.94 154.106 M1761.66 137.787 L1761.66 137.787 Z\" fill=\"#000000\" fill-rule=\"evenodd\" fill-opacity=\"1\" /><path clip-path=\"url(#clip580)\" d=\"M1801.61 143.389 Q1803.21 140.518 1805.43 139.153 Q1807.65 137.787 1810.66 137.787 Q1814.71 137.787 1816.91 140.634 Q1819.11 143.458 1819.11 148.689 L1819.11 164.338 L1814.83 164.338 L1814.83 148.828 Q1814.83 145.102 1813.51 143.296 Q1812.19 141.49 1809.48 141.49 Q1806.17 141.49 1804.25 143.69 Q1802.33 145.889 1802.33 149.685 L1802.33 164.338 L1798.04 164.338 L1798.04 148.828 Q1798.04 145.078 1796.72 143.296 Q1795.4 141.49 1792.65 141.49 Q1789.39 141.49 1787.47 143.713 Q1785.54 145.912 1785.54 149.685 L1785.54 164.338 L1781.26 164.338 L1781.26 138.412 L1785.54 138.412 L1785.54 142.44 Q1787 140.055 1789.04 138.921 Q1791.08 137.787 1793.88 137.787 Q1796.7 137.787 1798.67 139.222 Q1800.66 140.657 1801.61 143.389 Z\" fill=\"#000000\" fill-rule=\"evenodd\" fill-opacity=\"1\" /><path clip-path=\"url(#clip580)\" d=\"M1842.67 128.319 L1846.93 128.319 L1846.93 164.338 L1842.67 164.338 L1842.67 128.319 Z\" fill=\"#000000\" fill-rule=\"evenodd\" fill-opacity=\"1\" /><path clip-path=\"url(#clip580)\" d=\"M1865.89 141.398 Q1862.46 141.398 1860.47 144.083 Q1858.48 146.745 1858.48 151.398 Q1858.48 156.051 1860.45 158.736 Q1862.44 161.398 1865.89 161.398 Q1869.29 161.398 1871.28 158.713 Q1873.27 156.027 1873.27 151.398 Q1873.27 146.791 1871.28 144.106 Q1869.29 141.398 1865.89 141.398 M1865.89 137.787 Q1871.45 137.787 1874.62 141.398 Q1877.79 145.009 1877.79 151.398 Q1877.79 157.764 1874.62 161.398 Q1871.45 165.009 1865.89 165.009 Q1860.31 165.009 1857.14 161.398 Q1853.99 157.764 1853.99 151.398 Q1853.99 145.009 1857.14 141.398 Q1860.31 137.787 1865.89 137.787 Z\" fill=\"#000000\" fill-rule=\"evenodd\" fill-opacity=\"1\" /><path clip-path=\"url(#clip580)\" d=\"M1901.91 142.347 L1901.91 128.319 L1906.17 128.319 L1906.17 164.338 L1901.91 164.338 L1901.91 160.449 Q1900.57 162.763 1898.51 163.898 Q1896.47 165.009 1893.6 165.009 Q1888.9 165.009 1885.94 161.259 Q1883 157.509 1883 151.398 Q1883 145.287 1885.94 141.537 Q1888.9 137.787 1893.6 137.787 Q1896.47 137.787 1898.51 138.921 Q1900.57 140.032 1901.91 142.347 M1887.4 151.398 Q1887.4 156.097 1889.32 158.782 Q1891.26 161.444 1894.64 161.444 Q1898.02 161.444 1899.96 158.782 Q1901.91 156.097 1901.91 151.398 Q1901.91 146.699 1899.96 144.037 Q1898.02 141.352 1894.64 141.352 Q1891.26 141.352 1889.32 144.037 Q1887.4 146.699 1887.4 151.398 Z\" fill=\"#000000\" fill-rule=\"evenodd\" fill-opacity=\"1\" /><path clip-path=\"url(#clip580)\" d=\"M1927.86 149.453 L1940.33 149.453 L1940.33 153.25 L1927.86 153.25 L1927.86 149.453 Z\" fill=\"#000000\" fill-rule=\"evenodd\" fill-opacity=\"1\" /><path clip-path=\"url(#clip580)\" d=\"M1962.37 129.778 L1967.05 129.778 L1967.05 164.338 L1962.37 164.338 L1962.37 129.778 Z\" fill=\"#000000\" fill-rule=\"evenodd\" fill-opacity=\"1\" /><path clip-path=\"url(#clip580)\" d=\"M1997.72 148.689 L1997.72 164.338 L1993.46 164.338 L1993.46 148.828 Q1993.46 145.148 1992.02 143.319 Q1990.59 141.49 1987.72 141.49 Q1984.27 141.49 1982.28 143.69 Q1980.29 145.889 1980.29 149.685 L1980.29 164.338 L1976.01 164.338 L1976.01 138.412 L1980.29 138.412 L1980.29 142.44 Q1981.82 140.102 1983.88 138.944 Q1985.96 137.787 1988.67 137.787 Q1993.14 137.787 1995.43 140.565 Q1997.72 143.319 1997.72 148.689 Z\" fill=\"#000000\" fill-rule=\"evenodd\" fill-opacity=\"1\" /><path clip-path=\"url(#clip580)\" d=\"M2023.27 142.347 L2023.27 128.319 L2027.53 128.319 L2027.53 164.338 L2023.27 164.338 L2023.27 160.449 Q2021.93 162.763 2019.87 163.898 Q2017.83 165.009 2014.96 165.009 Q2010.26 165.009 2007.3 161.259 Q2004.36 157.509 2004.36 151.398 Q2004.36 145.287 2007.3 141.537 Q2010.26 137.787 2014.96 137.787 Q2017.83 137.787 2019.87 138.921 Q2021.93 140.032 2023.27 142.347 M2008.76 151.398 Q2008.76 156.097 2010.68 158.782 Q2012.63 161.444 2016.01 161.444 Q2019.39 161.444 2021.33 158.782 Q2023.27 156.097 2023.27 151.398 Q2023.27 146.699 2021.33 144.037 Q2019.39 141.352 2016.01 141.352 Q2012.63 141.352 2010.68 144.037 Q2008.76 146.699 2008.76 151.398 Z\" fill=\"#000000\" fill-rule=\"evenodd\" fill-opacity=\"1\" /><path clip-path=\"url(#clip580)\" d=\"M2036.31 138.412 L2040.57 138.412 L2040.57 164.338 L2036.31 164.338 L2036.31 138.412 M2036.31 128.319 L2040.57 128.319 L2040.57 133.713 L2036.31 133.713 L2036.31 128.319 Z\" fill=\"#000000\" fill-rule=\"evenodd\" fill-opacity=\"1\" /><path clip-path=\"url(#clip580)\" d=\"M2046.42 138.412 L2050.94 138.412 L2059.04 160.171 L2067.14 138.412 L2071.65 138.412 L2061.93 164.338 L2056.14 164.338 L2046.42 138.412 Z\" fill=\"#000000\" fill-rule=\"evenodd\" fill-opacity=\"1\" /><path clip-path=\"url(#clip580)\" d=\"M2077.53 138.412 L2081.79 138.412 L2081.79 164.338 L2077.53 164.338 L2077.53 138.412 M2077.53 128.319 L2081.79 128.319 L2081.79 133.713 L2077.53 133.713 L2077.53 128.319 Z\" fill=\"#000000\" fill-rule=\"evenodd\" fill-opacity=\"1\" /><path clip-path=\"url(#clip580)\" d=\"M2107.76 142.347 L2107.76 128.319 L2112.02 128.319 L2112.02 164.338 L2107.76 164.338 L2107.76 160.449 Q2106.42 162.763 2104.36 163.898 Q2102.32 165.009 2099.45 165.009 Q2094.76 165.009 2091.79 161.259 Q2088.85 157.509 2088.85 151.398 Q2088.85 145.287 2091.79 141.537 Q2094.76 137.787 2099.45 137.787 Q2102.32 137.787 2104.36 138.921 Q2106.42 140.032 2107.76 142.347 M2093.25 151.398 Q2093.25 156.097 2095.17 158.782 Q2097.12 161.444 2100.5 161.444 Q2103.88 161.444 2105.82 158.782 Q2107.76 156.097 2107.76 151.398 Q2107.76 146.699 2105.82 144.037 Q2103.88 141.352 2100.5 141.352 Q2097.12 141.352 2095.17 144.037 Q2093.25 146.699 2093.25 151.398 Z\" fill=\"#000000\" fill-rule=\"evenodd\" fill-opacity=\"1\" /><path clip-path=\"url(#clip580)\" d=\"M2120.36 154.106 L2120.36 138.412 L2124.62 138.412 L2124.62 153.944 Q2124.62 157.625 2126.05 159.476 Q2127.49 161.305 2130.36 161.305 Q2133.81 161.305 2135.8 159.106 Q2137.81 156.907 2137.81 153.111 L2137.81 138.412 L2142.07 138.412 L2142.07 164.338 L2137.81 164.338 L2137.81 160.356 Q2136.26 162.717 2134.2 163.875 Q2132.16 165.009 2129.45 165.009 Q2124.99 165.009 2122.67 162.231 Q2120.36 159.453 2120.36 154.106 M2131.07 137.787 L2131.07 137.787 Z\" fill=\"#000000\" fill-rule=\"evenodd\" fill-opacity=\"1\" /><path clip-path=\"url(#clip580)\" d=\"M2162.63 151.305 Q2157.46 151.305 2155.47 152.486 Q2153.48 153.666 2153.48 156.514 Q2153.48 158.782 2154.96 160.125 Q2156.47 161.444 2159.04 161.444 Q2162.58 161.444 2164.71 158.944 Q2166.86 156.421 2166.86 152.254 L2166.86 151.305 L2162.63 151.305 M2171.12 149.546 L2171.12 164.338 L2166.86 164.338 L2166.86 160.402 Q2165.4 162.763 2163.23 163.898 Q2161.05 165.009 2157.9 165.009 Q2153.92 165.009 2151.56 162.787 Q2149.22 160.541 2149.22 156.791 Q2149.22 152.416 2152.14 150.194 Q2155.08 147.972 2160.89 147.972 L2166.86 147.972 L2166.86 147.555 Q2166.86 144.615 2164.92 143.018 Q2163 141.398 2159.5 141.398 Q2157.28 141.398 2155.17 141.93 Q2153.07 142.463 2151.12 143.527 L2151.12 139.592 Q2153.46 138.69 2155.66 138.25 Q2157.86 137.787 2159.94 137.787 Q2165.57 137.787 2168.34 140.703 Q2171.12 143.62 2171.12 149.546 Z\" fill=\"#000000\" fill-rule=\"evenodd\" fill-opacity=\"1\" /><path clip-path=\"url(#clip580)\" d=\"M2179.89 128.319 L2184.15 128.319 L2184.15 164.338 L2179.89 164.338 L2179.89 128.319 Z\" fill=\"#000000\" fill-rule=\"evenodd\" fill-opacity=\"1\" /><path clip-path=\"url(#clip580)\" d=\"M2208.32 129.778 L2213 129.778 L2213 160.402 L2229.82 160.402 L2229.82 164.338 L2208.32 164.338 L2208.32 129.778 Z\" fill=\"#000000\" fill-rule=\"evenodd\" fill-opacity=\"1\" /><path clip-path=\"url(#clip580)\" d=\"M2239.41 133.62 L2239.41 146.606 L2245.29 146.606 Q2248.55 146.606 2250.33 144.916 Q2252.12 143.227 2252.12 140.102 Q2252.12 137 2250.33 135.31 Q2248.55 133.62 2245.29 133.62 L2239.41 133.62 M2234.73 129.778 L2245.29 129.778 Q2251.1 129.778 2254.06 132.416 Q2257.05 135.032 2257.05 140.102 Q2257.05 145.217 2254.06 147.833 Q2251.1 150.449 2245.29 150.449 L2239.41 150.449 L2239.41 164.338 L2234.73 164.338 L2234.73 129.778 Z\" fill=\"#000000\" fill-rule=\"evenodd\" fill-opacity=\"1\" /></svg>\n"
      ]
     },
     "execution_count": 178,
     "metadata": {},
     "output_type": "execute_result"
    }
   ],
   "source": [
    "histogram(max_results_ind.max_lod, label = \"Maximum lod - Individual LP\")"
   ]
  },
  {
   "cell_type": "code",
   "execution_count": 179,
   "id": "51db45fe-83d5-4112-b1b3-2faf52e2d306",
   "metadata": {},
   "outputs": [
    {
     "ename": "LoadError",
     "evalue": "UndefVarError: max_results_strains not defined",
     "output_type": "error",
     "traceback": [
      "UndefVarError: max_results_strains not defined",
      "",
      "Stacktrace:",
      " [1] top-level scope",
      "   @ In[179]:1"
     ]
    }
   ],
   "source": [
    "histogram(max_results_strains.max_lod, label = \"Maximum lod - Strain mean LP\")"
   ]
  },
  {
   "cell_type": "code",
   "execution_count": 180,
   "id": "85cd5865-5fdf-4542-ad00-005c0f843383",
   "metadata": {},
   "outputs": [
    {
     "ename": "LoadError",
     "evalue": "UndefVarError: max_results_strains not defined",
     "output_type": "error",
     "traceback": [
      "UndefVarError: max_results_strains not defined",
      "",
      "Stacktrace:",
      " [1] top-level scope",
      "   @ In[180]:1"
     ]
    }
   ],
   "source": [
    "plot(max_results_ind.max_lod .- max_results_strains.max_lod, label = \"Max lod: ind - strains\")\n",
    "hline!(x -> x = 0.0, label = \"\")"
   ]
  },
  {
   "cell_type": "code",
   "execution_count": 181,
   "id": "6ccb0c09-3494-428b-a03d-ccb95ddb8f2e",
   "metadata": {},
   "outputs": [
    {
     "ename": "LoadError",
     "evalue": "UndefVarError: max_results_strains not defined",
     "output_type": "error",
     "traceback": [
      "UndefVarError: max_results_strains not defined",
      "",
      "Stacktrace:",
      " [1] top-level scope",
      "   @ In[181]:1"
     ]
    }
   ],
   "source": [
    "mean(max_results_ind.max_lod .- max_results_strains.max_lod .>= 0.0)"
   ]
  },
  {
   "cell_type": "code",
   "execution_count": null,
   "id": "ef615c79-9f04-4c97-8f5c-b6c2e5ab7cc5",
   "metadata": {},
   "outputs": [],
   "source": []
  },
  {
   "cell_type": "code",
   "execution_count": null,
   "id": "19c7e4b0-0a67-4042-9c8a-67e3f3b4c6ba",
   "metadata": {},
   "outputs": [],
   "source": []
  },
  {
   "cell_type": "code",
   "execution_count": 182,
   "id": "094283bd-1f2f-4afa-a235-a12cf3af2c7d",
   "metadata": {},
   "outputs": [
    {
     "data": {
      "text/plain": [
       "\"/home/zyu20/git/BulkLMM_Analyses/BXDLongevity\""
      ]
     },
     "execution_count": 182,
     "metadata": {},
     "output_type": "execute_result"
    }
   ],
   "source": [
    "pwd()"
   ]
  },
  {
   "cell_type": "code",
   "execution_count": null,
   "id": "a8925d91-ce60-4f46-a1cc-862693a0aa96",
   "metadata": {},
   "outputs": [],
   "source": []
  },
  {
   "cell_type": "code",
   "execution_count": null,
   "id": "1dc030a2-94ec-4732-84c9-9da632c2db7f",
   "metadata": {},
   "outputs": [],
   "source": []
  },
  {
   "cell_type": "markdown",
   "id": "45af8dac-f9dd-49f8-aa66-04cbb2c7c6e3",
   "metadata": {
    "tags": []
   },
   "source": [
    "## Run GEMMA for single-trait scans:"
   ]
  },
  {
   "cell_type": "code",
   "execution_count": 183,
   "id": "b1bac948-cc65-453b-8b09-9c772cd932b6",
   "metadata": {},
   "outputs": [
    {
     "data": {
      "text/plain": [
       "\"/home/zyu20/git/BulkLMM_Analyses/BXDLongevity\""
      ]
     },
     "execution_count": 183,
     "metadata": {},
     "output_type": "execute_result"
    }
   ],
   "source": [
    "pwd()"
   ]
  },
  {
   "cell_type": "code",
   "execution_count": 184,
   "id": "7e7b6054-f267-437b-ac63-8a9b3e1ff006",
   "metadata": {},
   "outputs": [
    {
     "data": {
      "text/plain": [
       "\"/home/zyu20/Softwares/gemma-0.98.5-linux-static-AMD64\""
      ]
     },
     "execution_count": 184,
     "metadata": {},
     "output_type": "execute_result"
    }
   ],
   "source": [
    "gemma = \"/home/zyu20/Softwares/gemma-0.98.5-linux-static-AMD64\""
   ]
  },
  {
   "cell_type": "code",
   "execution_count": 185,
   "id": "73a7cbf3-d647-4c5a-a7e3-42677404cca2",
   "metadata": {},
   "outputs": [
    {
     "name": "stdout",
     "output_type": "stream",
     "text": [
      "GEMMA 0.98.5 (2021-08-25) by Xiang Zhou, Pjotr Prins and team (C) 2012-2021\n",
      "\n",
      " type ./gemma -h [num] for detailed help\n",
      " options: \n",
      "  1: quick guide\n",
      "  2: file I/O related\n",
      "  3: SNP QC\n",
      "  4: calculate relatedness matrix\n",
      "  5: perform eigen decomposition\n",
      "  6: perform variance component estimation\n",
      "  7: fit a linear model\n",
      "  8: fit a linear mixed model\n",
      "  9: fit a multivariate linear mixed model\n",
      " 10: fit a Bayesian sparse linear mixed model\n",
      " 11: obtain predicted values\n",
      " 12: calculate snp variance covariance\n",
      " 13: note\n",
      " 14: debug options\n",
      "\n",
      "The GEMMA software is distributed under the GNU General Public v3\n",
      "   -license    show license information\n",
      "   see also http://www.xzlab.org/software.html, https://github.com/genetics-statistics\n"
     ]
    },
    {
     "data": {
      "text/plain": [
       "Process(`\u001b[4m/home/zyu20/Softwares/gemma-0.98.5-linux-static-AMD64\u001b[24m \u001b[4m-h\u001b[24m`, ProcessExited(0))"
      ]
     },
     "execution_count": 185,
     "metadata": {},
     "output_type": "execute_result"
    }
   ],
   "source": [
    "run(`$gemma -h`)"
   ]
  },
  {
   "cell_type": "code",
   "execution_count": 186,
   "id": "ee6e9830-b187-452a-ab36-e814781b1b70",
   "metadata": {},
   "outputs": [
    {
     "data": {
      "text/plain": [
       "transform_bxd_pheno_to_gemma2 (generic function with 1 method)"
      ]
     },
     "execution_count": 186,
     "metadata": {},
     "output_type": "execute_result"
    }
   ],
   "source": [
    "function transform_bxd_pheno_to_gemma2(inputfile::AbstractString, outputfile::AbstractString, iter::Int64)\n",
    "    pheno = CSV.read(inputfile, DataFrame);\n",
    "    pheno = Matrix{Float64}(pheno[:, 3:end]);\n",
    "    open(outputfile, \"w\") do io\n",
    "        writedlm(io, pheno[:, iter])\n",
    "    end\n",
    "    return pheno\n",
    "end"
   ]
  },
  {
   "cell_type": "code",
   "execution_count": 187,
   "id": "39441696-89ed-4087-b2ad-67f12bef125b",
   "metadata": {},
   "outputs": [
    {
     "data": {
      "text/plain": [
       "transform_bxd_geno_to_gemma2 (generic function with 1 method)"
      ]
     },
     "execution_count": 187,
     "metadata": {},
     "output_type": "execute_result"
    }
   ],
   "source": [
    "function transform_bxd_geno_to_gemma2(inputfile::AbstractString, outputfile::AbstractString, \n",
    "                                      startCol::Int64)\n",
    "    data = CSV.read(inputfile, DataFrame);\n",
    "    \n",
    "    marker_names = names(data)[startCol:end];\n",
    "    data = 2 .* data[:, startCol:end] |> x -> Matrix{Float64}(x)\n",
    "    # data = data[:, startCol:end] |> x -> Matrix{Float64}(x)\n",
    "    minor_allele = fill(\"A\", length(marker_names), 1);\n",
    "    major_allele = fill(\"B\", length(marker_names), 1);\n",
    "    output = hcat(hcat(marker_names, minor_allele, major_allele), transpose(data))\n",
    "    writeToFile(output, outputfile)\n",
    "    return output\n",
    "end"
   ]
  },
  {
   "cell_type": "code",
   "execution_count": 188,
   "id": "0e090b4f-6dc7-44bf-b082-893f5deed830",
   "metadata": {},
   "outputs": [
    {
     "data": {
      "text/plain": [
       "29437"
      ]
     },
     "execution_count": 188,
     "metadata": {},
     "output_type": "execute_result"
    }
   ],
   "source": [
    "lp_id"
   ]
  },
  {
   "cell_type": "code",
   "execution_count": 189,
   "id": "1d49eaa6-a548-4ee8-a565-3f548535da52",
   "metadata": {},
   "outputs": [],
   "source": [
    "# transform_bxd_geno_to_gemma2(\"data/GN886_geno_strains_summary.csv\", \"data/GEMMA_data/GN886_geno_strains_summary.txt\", 2);\n",
    "# transform_bxd_geno_to_gemma2(\"data/GN886_geno_summary.csv\", \"data/GEMMA_data/GN886_geno_ind_summary.txt\", 4);"
   ]
  },
  {
   "cell_type": "code",
   "execution_count": 190,
   "id": "28157ddb-4b44-44d5-a161-a9726b9acbe3",
   "metadata": {},
   "outputs": [],
   "source": [
    "lp_id = 29437;"
   ]
  },
  {
   "cell_type": "code",
   "execution_count": 191,
   "id": "4015a708-0c19-4a46-9f59-2ad49ef02b24",
   "metadata": {},
   "outputs": [
    {
     "ename": "LoadError",
     "evalue": "ArgumentError: \"data/GN886_pheno_strain_means_summary.csv\" is not a valid file or doesn't exist",
     "output_type": "error",
     "traceback": [
      "ArgumentError: \"data/GN886_pheno_strain_means_summary.csv\" is not a valid file or doesn't exist",
      "",
      "Stacktrace:",
      " [1] CSV.Context(source::CSV.Arg, header::CSV.Arg, normalizenames::CSV.Arg, datarow::CSV.Arg, skipto::CSV.Arg, footerskip::CSV.Arg, transpose::CSV.Arg, comment::CSV.Arg, ignoreemptyrows::CSV.Arg, ignoreemptylines::CSV.Arg, select::CSV.Arg, drop::CSV.Arg, limit::CSV.Arg, buffer_in_memory::CSV.Arg, threaded::CSV.Arg, ntasks::CSV.Arg, tasks::CSV.Arg, rows_to_check::CSV.Arg, lines_to_check::CSV.Arg, missingstrings::CSV.Arg, missingstring::CSV.Arg, delim::CSV.Arg, ignorerepeated::CSV.Arg, quoted::CSV.Arg, quotechar::CSV.Arg, openquotechar::CSV.Arg, closequotechar::CSV.Arg, escapechar::CSV.Arg, dateformat::CSV.Arg, dateformats::CSV.Arg, decimal::CSV.Arg, truestrings::CSV.Arg, falsestrings::CSV.Arg, stripwhitespace::CSV.Arg, type::CSV.Arg, types::CSV.Arg, typemap::CSV.Arg, pool::CSV.Arg, downcast::CSV.Arg, lazystrings::CSV.Arg, stringtype::CSV.Arg, strict::CSV.Arg, silencewarnings::CSV.Arg, maxwarnings::CSV.Arg, debug::CSV.Arg, parsingdebug::CSV.Arg, validate::CSV.Arg, streaming::CSV.Arg)",
      "   @ CSV ~/.julia/packages/CSV/b8ebJ/src/context.jl:306",
      " [2] #File#28",
      "   @ ~/.julia/packages/CSV/b8ebJ/src/file.jl:221 [inlined]",
      " [3] File",
      "   @ ~/.julia/packages/CSV/b8ebJ/src/file.jl:221 [inlined]",
      " [4] read(source::String, sink::Type; copycols::Bool, kwargs::Base.Pairs{Symbol, Union{}, Tuple{}, NamedTuple{(), Tuple{}}})",
      "   @ CSV ~/.julia/packages/CSV/b8ebJ/src/CSV.jl:117",
      " [5] read",
      "   @ ~/.julia/packages/CSV/b8ebJ/src/CSV.jl:114 [inlined]",
      " [6] transform_bxd_pheno_to_gemma2(inputfile::String, outputfile::String, iter::Int64)",
      "   @ Main ./In[186]:2",
      " [7] top-level scope",
      "   @ In[191]:1"
     ]
    }
   ],
   "source": [
    "transform_bxd_pheno_to_gemma2(\"data/GN886_pheno_strain_means_summary.csv\", \"data/GEMMA_data/GN886_pheno_strains_summary.txt\", lp_id);\n",
    "transform_bxd_pheno_to_gemma2(\"data/GN886_pheno_summary.csv\", \"data/GEMMA_data/GN886_pheno_ind_summary.txt\", lp_id);"
   ]
  },
  {
   "cell_type": "code",
   "execution_count": 192,
   "id": "0ae98acb-a676-49b6-ab15-ed9dad6d3e21",
   "metadata": {},
   "outputs": [],
   "source": [
    "# writedlm(\"data/GEMMA_data/kinship_strains.txt\", kinship_strains, '\\t')\n",
    "# writedlm(\"data/GEMMA_data/kinship_ind.txt\", kinship_ind_from_strains, '\\t')"
   ]
  },
  {
   "cell_type": "code",
   "execution_count": 193,
   "id": "76c8932a-65f4-4048-80e3-8b377700abf9",
   "metadata": {},
   "outputs": [
    {
     "data": {
      "text/plain": [
       "p2lod (generic function with 1 method)"
      ]
     },
     "execution_count": 193,
     "metadata": {},
     "output_type": "execute_result"
    }
   ],
   "source": [
    "function p2lod(pval::Float64, df::Int64)\n",
    "    \n",
    "    lrs = invlogcdf(Chisq(df), log(1-pval))\n",
    "    lod = lrs/(2*log(10))\n",
    "    \n",
    "    # return lrs\n",
    "    return lod\n",
    "\n",
    "end"
   ]
  },
  {
   "cell_type": "code",
   "execution_count": 194,
   "id": "ba8d2c36-000d-4f71-b0eb-34fdb7f5f5f3",
   "metadata": {},
   "outputs": [
    {
     "data": {
      "text/plain": [
       "gemmaWrapper (generic function with 1 method)"
      ]
     },
     "execution_count": 194,
     "metadata": {},
     "output_type": "execute_result"
    }
   ],
   "source": [
    "function gemmaWrapper(pheno_filename::String, geno_filename::String,\n",
    "                      kinship_filename::String, output_filename::String)\n",
    "    \n",
    "    run(`$gemma -g $geno_filename -p $pheno_filename -k $kinship_filename -lmm 2 -lmax 1000000 -o $output_filename`)\n",
    "    \n",
    "end"
   ]
  },
  {
   "cell_type": "code",
   "execution_count": 195,
   "id": "5c081ae1-91e6-44e4-ac5b-be6bdaa982be",
   "metadata": {},
   "outputs": [
    {
     "name": "stdout",
     "output_type": "stream",
     "text": [
      "GEMMA 0.98.5 (2021-08-25) by Xiang Zhou, Pjotr Prins and team (C) 2012-2021\n",
      "error! fail to open phenotype file: data/GEMMA_data/GN886_pheno_strains_summary.txt\n",
      "error! fail to open mean genotype file: data/GEMMA_data/GN886_geno_strains_summary.txt\n",
      "ERROR: Enforce failed for file_kin data/GEMMA_data/kinship_strains.txt: open file in src/param.cpp at line 934 in CheckParam\n"
     ]
    },
    {
     "ename": "LoadError",
     "evalue": "failed process: Process(`\u001b[4m/home/zyu20/Softwares/gemma-0.98.5-linux-static-AMD64\u001b[24m \u001b[4m-g\u001b[24m \u001b[4mdata/GEMMA_data/GN886_geno_strains_summary.txt\u001b[24m \u001b[4m-p\u001b[24m \u001b[4mdata/GEMMA_data/GN886_pheno_strains_summary.txt\u001b[24m \u001b[4m-k\u001b[24m \u001b[4mdata/GEMMA_data/kinship_strains.txt\u001b[24m \u001b[4m-lmm\u001b[24m \u001b[4m2\u001b[24m \u001b[4m-lmax\u001b[24m \u001b[4m1000000\u001b[24m \u001b[4m-o\u001b[24m \u001b[4mresults_strains.txt\u001b[24m`, ProcessSignaled(2)) [0]\n",
     "output_type": "error",
     "traceback": [
      "failed process: Process(`\u001b[4m/home/zyu20/Softwares/gemma-0.98.5-linux-static-AMD64\u001b[24m \u001b[4m-g\u001b[24m \u001b[4mdata/GEMMA_data/GN886_geno_strains_summary.txt\u001b[24m \u001b[4m-p\u001b[24m \u001b[4mdata/GEMMA_data/GN886_pheno_strains_summary.txt\u001b[24m \u001b[4m-k\u001b[24m \u001b[4mdata/GEMMA_data/kinship_strains.txt\u001b[24m \u001b[4m-lmm\u001b[24m \u001b[4m2\u001b[24m \u001b[4m-lmax\u001b[24m \u001b[4m1000000\u001b[24m \u001b[4m-o\u001b[24m \u001b[4mresults_strains.txt\u001b[24m`, ProcessSignaled(2)) [0]\n",
      "",
      "Stacktrace:",
      " [1] pipeline_error",
      "   @ ./process.jl:540 [inlined]",
      " [2] run(::Cmd; wait::Bool)",
      "   @ Base ./process.jl:455",
      " [3] run",
      "   @ ./process.jl:453 [inlined]",
      " [4] gemmaWrapper(pheno_filename::String, geno_filename::String, kinship_filename::String, output_filename::String)",
      "   @ Main ./In[194]:4",
      " [5] top-level scope",
      "   @ ./timing.jl:220 [inlined]",
      " [6] top-level scope",
      "   @ ./In[195]:0"
     ]
    }
   ],
   "source": [
    "@time gemmaWrapper(\"data/GEMMA_data/GN886_pheno_strains_summary.txt\", \n",
    "                   \"data/GEMMA_data/GN886_geno_strains_summary.txt\",\n",
    "                   \"data/GEMMA_data/kinship_strains.txt\",\n",
    "                   \"results_strains.txt\");"
   ]
  },
  {
   "cell_type": "code",
   "execution_count": 196,
   "id": "de3ba7dd-97a4-4286-b61e-e7926647e930",
   "metadata": {},
   "outputs": [
    {
     "name": "stdout",
     "output_type": "stream",
     "text": [
      "GEMMA 0.98.5 (2021-08-25) by Xiang Zhou, Pjotr Prins and team (C) 2012-2021\n",
      "error! fail to open phenotype file: data/GEMMA_data/GN886_pheno_ind_summary.txt\n",
      "error! fail to open mean genotype file: data/GEMMA_data/GN886_geno_ind_summary.txt\n",
      "ERROR: Enforce failed for file_kin data/GEMMA_data/kinship_ind.txt: open file in src/param.cpp at line 934 in CheckParam\n"
     ]
    },
    {
     "ename": "LoadError",
     "evalue": "failed process: Process(`\u001b[4m/home/zyu20/Softwares/gemma-0.98.5-linux-static-AMD64\u001b[24m \u001b[4m-g\u001b[24m \u001b[4mdata/GEMMA_data/GN886_geno_ind_summary.txt\u001b[24m \u001b[4m-p\u001b[24m \u001b[4mdata/GEMMA_data/GN886_pheno_ind_summary.txt\u001b[24m \u001b[4m-k\u001b[24m \u001b[4mdata/GEMMA_data/kinship_ind.txt\u001b[24m \u001b[4m-lmm\u001b[24m \u001b[4m2\u001b[24m \u001b[4m-lmax\u001b[24m \u001b[4m1000000\u001b[24m \u001b[4m-o\u001b[24m \u001b[4mresults_ind.txt\u001b[24m`, ProcessSignaled(2)) [0]\n",
     "output_type": "error",
     "traceback": [
      "failed process: Process(`\u001b[4m/home/zyu20/Softwares/gemma-0.98.5-linux-static-AMD64\u001b[24m \u001b[4m-g\u001b[24m \u001b[4mdata/GEMMA_data/GN886_geno_ind_summary.txt\u001b[24m \u001b[4m-p\u001b[24m \u001b[4mdata/GEMMA_data/GN886_pheno_ind_summary.txt\u001b[24m \u001b[4m-k\u001b[24m \u001b[4mdata/GEMMA_data/kinship_ind.txt\u001b[24m \u001b[4m-lmm\u001b[24m \u001b[4m2\u001b[24m \u001b[4m-lmax\u001b[24m \u001b[4m1000000\u001b[24m \u001b[4m-o\u001b[24m \u001b[4mresults_ind.txt\u001b[24m`, ProcessSignaled(2)) [0]\n",
      "",
      "Stacktrace:",
      " [1] pipeline_error",
      "   @ ./process.jl:540 [inlined]",
      " [2] run(::Cmd; wait::Bool)",
      "   @ Base ./process.jl:455",
      " [3] run",
      "   @ ./process.jl:453 [inlined]",
      " [4] gemmaWrapper(pheno_filename::String, geno_filename::String, kinship_filename::String, output_filename::String)",
      "   @ Main ./In[194]:4",
      " [5] top-level scope",
      "   @ ./timing.jl:220 [inlined]",
      " [6] top-level scope",
      "   @ ./In[196]:0"
     ]
    }
   ],
   "source": [
    "@time gemmaWrapper(\"data/GEMMA_data/GN886_pheno_ind_summary.txt\", \n",
    "                   \"data/GEMMA_data/GN886_geno_ind_summary.txt\",\n",
    "                   \"data/GEMMA_data/kinship_ind.txt\",\n",
    "                   \"results_ind.txt\");"
   ]
  },
  {
   "cell_type": "code",
   "execution_count": 197,
   "id": "d48f6416-11df-47d2-ae97-b9cf673623bc",
   "metadata": {},
   "outputs": [
    {
     "data": {
      "text/plain": [
       "198"
      ]
     },
     "execution_count": 197,
     "metadata": {},
     "output_type": "execute_result"
    }
   ],
   "source": [
    "sum(eigen(kinship_ind_from_strains).values.<0.0001)"
   ]
  },
  {
   "cell_type": "code",
   "execution_count": 198,
   "id": "b6e5af53-02e8-4cec-b8fc-83b3efe76ddd",
   "metadata": {},
   "outputs": [],
   "source": [
    "gemma_results_strains = readdlm(\"output/results_strains.txt.assoc.txt\", '\\t');\n",
    "gemma_results_ind = readdlm(\"output/results_ind.txt.assoc.txt\", '\\t');"
   ]
  },
  {
   "cell_type": "code",
   "execution_count": 199,
   "id": "b1f06ed0-ba22-4f56-9843-de4b47d2b7b8",
   "metadata": {},
   "outputs": [],
   "source": [
    "gemma_strains = gemma_results_strains[2:end, 10] |> x -> Array{Float64}(x);\n",
    "gemma_ind = gemma_results_ind[2:end, 10] |> x -> Array{Float64}(x);"
   ]
  },
  {
   "cell_type": "code",
   "execution_count": 200,
   "id": "f082a5d7-1717-4f03-9272-07df9e10c38e",
   "metadata": {},
   "outputs": [],
   "source": [
    "gemma_strains_lod = p2lod.(gemma_strains, 1);\n",
    "gemma_ind_lod = p2lod.(gemma_ind, 1);"
   ]
  },
  {
   "cell_type": "code",
   "execution_count": 201,
   "id": "077555ab-3fa2-4ad6-a9c0-e8f8410b52f8",
   "metadata": {},
   "outputs": [
    {
     "ename": "LoadError",
     "evalue": "UndefVarError: bulkscan_results_null_grid_ind not defined",
     "output_type": "error",
     "traceback": [
      "UndefVarError: bulkscan_results_null_grid_ind not defined",
      "",
      "Stacktrace:",
      " [1] top-level scope",
      "   @ In[201]:1"
     ]
    }
   ],
   "source": [
    "hcat(gemma_ind_lod, scan_results_ind.lod, bulkscan_results_null_grid_ind.L[:, lp_id])"
   ]
  },
  {
   "cell_type": "code",
   "execution_count": 202,
   "id": "d1f1d5ae-3afb-46dc-b538-dd57428ae794",
   "metadata": {},
   "outputs": [
    {
     "ename": "LoadError",
     "evalue": "UndefVarError: bulkscan_results_null_strains not defined",
     "output_type": "error",
     "traceback": [
      "UndefVarError: bulkscan_results_null_strains not defined",
      "",
      "Stacktrace:",
      " [1] top-level scope",
      "   @ In[202]:1"
     ]
    }
   ],
   "source": [
    "hcat(gemma_strains_lod, scan_results_strains.lod, bulkscan_results_null_strains.L[:, lp_id])"
   ]
  },
  {
   "cell_type": "code",
   "execution_count": 203,
   "id": "709a4dfd-3648-4165-9d24-d3fadaee590a",
   "metadata": {},
   "outputs": [
    {
     "data": {
      "text/plain": [
       "1:7321"
      ]
     },
     "execution_count": 203,
     "metadata": {},
     "output_type": "execute_result"
    }
   ],
   "source": [
    "lookRange = 1:7321"
   ]
  },
  {
   "cell_type": "code",
   "execution_count": 204,
   "id": "e7359365-0980-44c6-bb9b-c57ef20a0506",
   "metadata": {},
   "outputs": [
    {
     "ename": "LoadError",
     "evalue": "UndefVarError: bulkscan_results_null_strains not defined",
     "output_type": "error",
     "traceback": [
      "UndefVarError: bulkscan_results_null_strains not defined",
      "",
      "Stacktrace:",
      " [1] top-level scope",
      "   @ In[204]:3"
     ]
    }
   ],
   "source": [
    "plot(gemma_strains_lod[lookRange], label = \"GEMMA_strains\");\n",
    "# plot!(scan_results_strains_alt_hub.lod[lookRange], label = \"BulkLMM_strains\")\n",
    "plot!(bulkscan_results_null_strains.L[lookRange, lp_id], label = \"BulkLMM_strains\")"
   ]
  },
  {
   "cell_type": "code",
   "execution_count": 205,
   "id": "634bf00f-9d0c-4dac-9e69-a1c59b390fef",
   "metadata": {},
   "outputs": [
    {
     "data": {
      "text/plain": [
       "3.392702346811808e-16"
      ]
     },
     "execution_count": 205,
     "metadata": {},
     "output_type": "execute_result"
    }
   ],
   "source": [
    "scan_results_ind.h2_null"
   ]
  },
  {
   "cell_type": "code",
   "execution_count": null,
   "id": "6ee6edbe-afdc-468c-8cc9-861adfeb0c3e",
   "metadata": {},
   "outputs": [],
   "source": []
  }
 ],
 "metadata": {
  "kernelspec": {
   "display_name": "Julia 16 Threads 1.7.3",
   "language": "julia",
   "name": "julia-16-threads-1.7"
  },
  "language_info": {
   "file_extension": ".jl",
   "mimetype": "application/julia",
   "name": "julia",
   "version": "1.7.3"
  }
 },
 "nbformat": 4,
 "nbformat_minor": 5
}
