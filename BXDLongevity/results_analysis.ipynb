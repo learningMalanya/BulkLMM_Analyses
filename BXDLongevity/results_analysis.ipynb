{
 "cells": [
  {
   "cell_type": "code",
   "execution_count": 1,
   "id": "8d0bc780-15a1-433d-8584-fc57c725380c",
   "metadata": {},
   "outputs": [
    {
     "data": {
      "text/plain": [
       "\"/home/zyu20/git/BulkLMM_Analyses/BXDLongevity\""
      ]
     },
     "execution_count": 1,
     "metadata": {},
     "output_type": "execute_result"
    }
   ],
   "source": [
    "pwd()"
   ]
  },
  {
   "cell_type": "code",
   "execution_count": 2,
   "id": "16ff4238-8e83-45ca-9cf5-6e949e2776e9",
   "metadata": {},
   "outputs": [],
   "source": [
    "using CSV, DelimitedFiles, DataFrames, Missings, XLSX\n",
    "using LinearAlgebra, Statistics, Optim\n",
    "using Random, Distributions, LoopVectorization\n",
    "# using GeneNetworkAPI, Downloads\n",
    "using BenchmarkTools\n",
    "using Plots"
   ]
  },
  {
   "cell_type": "code",
   "execution_count": 3,
   "id": "77c0f674-8e35-48b4-82e7-0b4b61e267d2",
   "metadata": {},
   "outputs": [],
   "source": [
    "sampled_traits = readdlm(\"output/samples1000.txt\", '\\t') |> vec |> x -> Int.(x);"
   ]
  },
  {
   "cell_type": "code",
   "execution_count": 4,
   "id": "54a29783-485a-4b7c-974f-05212598bf53",
   "metadata": {},
   "outputs": [
    {
     "data": {
      "text/plain": [
       "meanAbsDiff (generic function with 1 method)"
      ]
     },
     "execution_count": 4,
     "metadata": {},
     "output_type": "execute_result"
    }
   ],
   "source": [
    "function meanAbsDiff(x, y)\n",
    "    \n",
    "    return mean(abs.(x .- y))\n",
    "    \n",
    "end"
   ]
  },
  {
   "cell_type": "code",
   "execution_count": 5,
   "id": "537f7541-7f62-43c3-b9a4-bc521270a3d5",
   "metadata": {},
   "outputs": [
    {
     "data": {
      "text/plain": [
       "removeInfValues! (generic function with 1 method)"
      ]
     },
     "execution_count": 5,
     "metadata": {},
     "output_type": "execute_result"
    }
   ],
   "source": [
    "function removeInfValues!(x, y, toRemove)\n",
    "    \n",
    "    for inf_val in toRemove\n",
    "        \n",
    "        x[inf_val[1], inf_val[2]] = 0.0;\n",
    "        y[inf_val[1], inf_val[2]] = 0.0;\n",
    "        \n",
    "    end\n",
    "    \n",
    "end"
   ]
  },
  {
   "cell_type": "code",
   "execution_count": 6,
   "id": "e3ea8290-e5a5-440c-8074-04a216d7a573",
   "metadata": {},
   "outputs": [],
   "source": [
    "samples = Int.(readdlm(\"output/samples1000.txt\")) |> vec;"
   ]
  },
  {
   "cell_type": "markdown",
   "id": "801324af-f43c-42fa-9bce-6942f88cfdd0",
   "metadata": {},
   "source": [
    "## Individual LP:"
   ]
  },
  {
   "cell_type": "code",
   "execution_count": 7,
   "id": "e51f799b-6f8e-431b-ae70-21794b0f4a67",
   "metadata": {},
   "outputs": [],
   "source": [
    "bulklmm_results_ind_null = readdlm(\"output/bulklmm_L_ind_null.txt\", '\\t');"
   ]
  },
  {
   "cell_type": "code",
   "execution_count": 8,
   "id": "81d26d93-a22d-42ed-82cd-8f44c524a742",
   "metadata": {},
   "outputs": [],
   "source": [
    "bulklmm_results_ind_null_grid10 = readdlm(\"output/bulklmm_L_ind_null_grid10.txt\", '\\t');"
   ]
  },
  {
   "cell_type": "code",
   "execution_count": 9,
   "id": "35c7970e-be56-4b0e-9893-bf0bc9be249c",
   "metadata": {},
   "outputs": [],
   "source": [
    "bulklmm_results_ind_null_grid20 = readdlm(\"output/bulklmm_L_ind_null_grid20.txt\", '\\t');"
   ]
  },
  {
   "cell_type": "code",
   "execution_count": 10,
   "id": "0048bbbd-c546-418a-9606-13ac24307d72",
   "metadata": {},
   "outputs": [],
   "source": [
    "bulklmm_results_ind_null_grid100 = readdlm(\"output/bulklmm_L_ind_null_grid100.txt\", '\\t');"
   ]
  },
  {
   "cell_type": "code",
   "execution_count": null,
   "id": "ed7fb8e1-9f09-49d3-b015-77145c1d6da0",
   "metadata": {},
   "outputs": [],
   "source": [
    "bulklmm_results_ind_alt_grid10 = readdlm(\"output/bulklmm_L_ind_alt_grid10.txt\", '\\t');"
   ]
  },
  {
   "cell_type": "code",
   "execution_count": null,
   "id": "f17a69c1-9a15-401f-8d91-04914d465b96",
   "metadata": {},
   "outputs": [],
   "source": [
    "bulklmm_results_ind_alt_grid20 = readdlm(\"output/bulklmm_L_ind_alt_grid20.txt\", '\\t');"
   ]
  },
  {
   "cell_type": "code",
   "execution_count": null,
   "id": "e4c53419-8dff-46fd-b16c-4fcd30be6d2c",
   "metadata": {},
   "outputs": [],
   "source": [
    "bulklmm_results_ind_alt_grid100 = readdlm(\"output/bulklmm_L_ind_alt_grid100.txt\", '\\t');"
   ]
  },
  {
   "cell_type": "code",
   "execution_count": null,
   "id": "b10b2a88-19f4-4a8c-8c1e-582b2149a684",
   "metadata": {},
   "outputs": [],
   "source": [
    "@time gemma_results_ind = readdlm(\"output/gemma_L_ind.txt\", '\\t');"
   ]
  },
  {
   "cell_type": "code",
   "execution_count": null,
   "id": "761c667a-42db-429d-aa38-9a7246882ed7",
   "metadata": {},
   "outputs": [],
   "source": [
    "copy_gemma = copy(gemma_results_ind);"
   ]
  },
  {
   "cell_type": "code",
   "execution_count": null,
   "id": "baa56541-8f3d-4b11-b506-9f6dc0168700",
   "metadata": {},
   "outputs": [],
   "source": [
    "toRemove = findall(isinf.(copy_gemma));"
   ]
  },
  {
   "cell_type": "code",
   "execution_count": null,
   "id": "1f5f1619-b932-4f89-958a-67fd1fe21447",
   "metadata": {},
   "outputs": [],
   "source": [
    "removeInfValues!(gemma_results_ind, bulklmm_results_ind_null, toRemove)\n",
    "removeInfValues!(gemma_results_ind, bulklmm_results_ind_null_grid10, toRemove)\n",
    "removeInfValues!(gemma_results_ind, bulklmm_results_ind_null_grid20, toRemove)\n",
    "removeInfValues!(gemma_results_ind, bulklmm_results_ind_null_grid100, toRemove)"
   ]
  },
  {
   "cell_type": "code",
   "execution_count": null,
   "id": "7f97aa63-3c7d-41ef-ac5b-522312f88e9b",
   "metadata": {},
   "outputs": [],
   "source": [
    "removeInfValues!(gemma_results_ind, bulklmm_results_ind_alt_grid10, toRemove)\n",
    "removeInfValues!(gemma_results_ind, bulklmm_results_ind_alt_grid20, toRemove)\n",
    "removeInfValues!(gemma_results_ind, bulklmm_results_ind_alt_grid100, toRemove)"
   ]
  },
  {
   "cell_type": "code",
   "execution_count": null,
   "id": "94ffc248-a495-44bf-8070-89fc50e54935",
   "metadata": {},
   "outputs": [],
   "source": [
    "mad_null_exact = meanAbsDiff(bulklmm_results_ind_null, gemma_results_ind);\n",
    "mad_null_grid10 = meanAbsDiff(bulklmm_results_ind_null_grid10, gemma_results_ind);\n",
    "mad_null_grid20 = meanAbsDiff(bulklmm_results_ind_null_grid20, gemma_results_ind);\n",
    "mad_null_grid100 = meanAbsDiff(bulklmm_results_ind_null_grid100, gemma_results_ind);\n",
    "mad_alt_grid10 = meanAbsDiff(bulklmm_results_ind_alt_grid10, gemma_results_ind);\n",
    "mad_alt_grid20 = meanAbsDiff(bulklmm_results_ind_alt_grid20, gemma_results_ind);\n",
    "mad_alt_grid100 = meanAbsDiff(bulklmm_results_ind_alt_grid100, gemma_results_ind);"
   ]
  },
  {
   "cell_type": "code",
   "execution_count": null,
   "id": "8d09e551-70ce-4f6c-a9d8-3bb9f7dc548d",
   "metadata": {},
   "outputs": [],
   "source": [
    "method_names = [\"null-exact\", \"null-grid-0.1\", \"null-grid-0.05\", \"null-grid-0.01\", \"alt-grid-0.1\", \"alt-grid-0.05\", \"alt-grid-0.01\"];"
   ]
  },
  {
   "cell_type": "code",
   "execution_count": null,
   "id": "7c3694fe-2e5f-45e4-b064-36481893cb34",
   "metadata": {},
   "outputs": [],
   "source": [
    "lp_ind_mad_summary = DataFrame(hcat(method_names, \n",
    "                                    [mad_null_exact, \n",
    "                                     mad_null_grid10, \n",
    "                                     mad_null_grid20, \n",
    "                                     mad_null_grid100,\n",
    "                                     mad_alt_grid10, \n",
    "                                     mad_alt_grid20, \n",
    "                                     mad_alt_grid100]), [\"Method\", \"MAD\"])"
   ]
  },
  {
   "cell_type": "code",
   "execution_count": null,
   "id": "0cff0f05-7b04-4ac3-94b3-af1d7a338009",
   "metadata": {},
   "outputs": [],
   "source": [
    "size(bulklmm_results_ind_null_grid10)"
   ]
  },
  {
   "cell_type": "code",
   "execution_count": null,
   "id": "b20a7c2a-4dd8-446d-b452-491e392d6078",
   "metadata": {},
   "outputs": [],
   "source": [
    "scatter(vec(bulklmm_results_ind_null_grid10)[1:1000])"
   ]
  },
  {
   "cell_type": "code",
   "execution_count": null,
   "id": "6831c6d1-0ea4-4d57-bc11-ae5e8f77b5d9",
   "metadata": {},
   "outputs": [],
   "source": []
  }
 ],
 "metadata": {
  "kernelspec": {
   "display_name": "Julia 1.7.3",
   "language": "julia",
   "name": "julia-1.7"
  },
  "language_info": {
   "file_extension": ".jl",
   "mimetype": "application/julia",
   "name": "julia",
   "version": "1.7.3"
  }
 },
 "nbformat": 4,
 "nbformat_minor": 5
}
