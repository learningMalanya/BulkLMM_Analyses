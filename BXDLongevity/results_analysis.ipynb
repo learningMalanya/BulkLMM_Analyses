{
 "cells": [
  {
   "cell_type": "code",
   "execution_count": 28,
   "id": "8d0bc780-15a1-433d-8584-fc57c725380c",
   "metadata": {},
   "outputs": [
    {
     "data": {
      "text/plain": [
       "\"/Users/FredYu/Documents/GitHub/BulkLMM_Analyses/BXDLongevity/output\""
      ]
     },
     "execution_count": 28,
     "metadata": {},
     "output_type": "execute_result"
    }
   ],
   "source": [
    "pwd()"
   ]
  },
  {
   "cell_type": "code",
   "execution_count": 29,
   "id": "16ff4238-8e83-45ca-9cf5-6e949e2776e9",
   "metadata": {},
   "outputs": [],
   "source": [
    "using CSV, DelimitedFiles, DataFrames, Missings, XLSX\n",
    "using LinearAlgebra, Statistics, Optim\n",
    "using Random, Distributions, LoopVectorization\n",
    "# using GeneNetworkAPI, Downloads\n",
    "using BenchmarkTools\n",
    "using Plots"
   ]
  },
  {
   "cell_type": "code",
   "execution_count": 30,
   "id": "77c0f674-8e35-48b4-82e7-0b4b61e267d2",
   "metadata": {},
   "outputs": [],
   "source": [
    "sampled_traits = readdlm(\"samples1000.txt\", '\\t') |> vec |> x -> Int.(x);"
   ]
  },
  {
   "cell_type": "code",
   "execution_count": 31,
   "id": "54a29783-485a-4b7c-974f-05212598bf53",
   "metadata": {},
   "outputs": [
    {
     "data": {
      "text/plain": [
       "meanAbsDiff (generic function with 1 method)"
      ]
     },
     "execution_count": 31,
     "metadata": {},
     "output_type": "execute_result"
    }
   ],
   "source": [
    "function meanAbsDiff(x, y)\n",
    "    \n",
    "    return mean(abs.(x .- y))\n",
    "    \n",
    "end"
   ]
  },
  {
   "cell_type": "code",
   "execution_count": 50,
   "id": "c9039541-004b-42dd-bc8f-415cff743ad7",
   "metadata": {},
   "outputs": [
    {
     "data": {
      "text/plain": [
       "removeInfValues! (generic function with 2 methods)"
      ]
     },
     "execution_count": 50,
     "metadata": {},
     "output_type": "execute_result"
    }
   ],
   "source": [
    "function removeInfValues!(x)\n",
    "    \n",
    "    toRemove = findall(isinf.(x));\n",
    "    \n",
    "    for inf_val in toRemove\n",
    "        \n",
    "        x[inf_val[1], inf_val[2]] = 0.0;\n",
    "        \n",
    "    end\n",
    "    \n",
    "end"
   ]
  },
  {
   "cell_type": "code",
   "execution_count": 46,
   "id": "537f7541-7f62-43c3-b9a4-bc521270a3d5",
   "metadata": {},
   "outputs": [
    {
     "data": {
      "text/plain": [
       "removeInfValues! (generic function with 2 methods)"
      ]
     },
     "execution_count": 46,
     "metadata": {},
     "output_type": "execute_result"
    }
   ],
   "source": [
    "function removeInfValues!(x, y)\n",
    "    \n",
    "    toRemove = findall(isinf.(x));\n",
    "    \n",
    "    for inf_val in toRemove\n",
    "        \n",
    "        y[inf_val[1], inf_val[2]] = 0.0;\n",
    "        \n",
    "    end\n",
    "    \n",
    "end"
   ]
  },
  {
   "cell_type": "markdown",
   "id": "801324af-f43c-42fa-9bce-6942f88cfdd0",
   "metadata": {},
   "source": [
    "## Individual LP:"
   ]
  },
  {
   "cell_type": "code",
   "execution_count": 32,
   "id": "e51f799b-6f8e-431b-ae70-21794b0f4a67",
   "metadata": {},
   "outputs": [],
   "source": [
    "bulklmm_results_ind_null = readdlm(\"output/bulklmm_L_ind_null.txt\", '\\t');"
   ]
  },
  {
   "cell_type": "code",
   "execution_count": 33,
   "id": "81d26d93-a22d-42ed-82cd-8f44c524a742",
   "metadata": {},
   "outputs": [],
   "source": [
    "bulklmm_results_ind_null_grid = readdlm(\"output/bulklmm_L_ind_null_grid20.txt\", '\\t');"
   ]
  },
  {
   "cell_type": "code",
   "execution_count": 34,
   "id": "9d9796f1-f8ec-49f4-b14f-25548fa43e87",
   "metadata": {},
   "outputs": [],
   "source": [
    "bulklmm_results_ind_alt_grid = readdlm(\"output/bulklmm_L_ind_alt_grid20.txt\", '\\t');"
   ]
  },
  {
   "cell_type": "code",
   "execution_count": 35,
   "id": "b10b2a88-19f4-4a8c-8c1e-582b2149a684",
   "metadata": {},
   "outputs": [],
   "source": [
    "gemma_results_ind = readdlm(\"gemma_L_ind.txt\", '\\t');"
   ]
  },
  {
   "cell_type": "code",
   "execution_count": null,
   "id": "761c667a-42db-429d-aa38-9a7246882ed7",
   "metadata": {},
   "outputs": [],
   "source": []
  },
  {
   "cell_type": "code",
   "execution_count": 47,
   "id": "1f5f1619-b932-4f89-958a-67fd1fe21447",
   "metadata": {},
   "outputs": [],
   "source": [
    "removeInfValues!(gemma_results_ind, bulklmm_results_ind_null)"
   ]
  },
  {
   "cell_type": "code",
   "execution_count": 48,
   "id": "69a83f5b-2276-4658-82c2-7a5f5b2c1940",
   "metadata": {},
   "outputs": [],
   "source": [
    "removeInfValues!(gemma_results_ind, bulklmm_results_ind_null_grid)"
   ]
  },
  {
   "cell_type": "code",
   "execution_count": 49,
   "id": "c8fbd11b-637f-4e28-b21e-8d2948fbb38f",
   "metadata": {},
   "outputs": [],
   "source": [
    "removeInfValues!(gemma_results_ind, bulklmm_results_ind_alt_grid)"
   ]
  },
  {
   "cell_type": "code",
   "execution_count": 51,
   "id": "77a25a48-f9b2-4936-9d34-3b7b664ed32c",
   "metadata": {},
   "outputs": [],
   "source": [
    "removeInfValues!(gemma_results_ind)"
   ]
  },
  {
   "cell_type": "code",
   "execution_count": null,
   "id": "7f97aa63-3c7d-41ef-ac5b-522312f88e9b",
   "metadata": {},
   "outputs": [],
   "source": []
  },
  {
   "cell_type": "code",
   "execution_count": 52,
   "id": "94ffc248-a495-44bf-8070-89fc50e54935",
   "metadata": {},
   "outputs": [
    {
     "data": {
      "text/plain": [
       "0.019844982572864846"
      ]
     },
     "execution_count": 52,
     "metadata": {},
     "output_type": "execute_result"
    }
   ],
   "source": [
    "meanAbsDiff(bulklmm_results_ind_null, gemma_results_ind)"
   ]
  },
  {
   "cell_type": "code",
   "execution_count": 53,
   "id": "7b704ea6-a91e-4638-bfa1-e8cbdb10c21f",
   "metadata": {},
   "outputs": [
    {
     "data": {
      "text/plain": [
       "0.026090870615912806"
      ]
     },
     "execution_count": 53,
     "metadata": {},
     "output_type": "execute_result"
    }
   ],
   "source": [
    "meanAbsDiff(bulklmm_results_ind_null_grid, gemma_results_ind)"
   ]
  },
  {
   "cell_type": "code",
   "execution_count": 54,
   "id": "c9665cc1-4f41-4bb8-b4cc-9852a8a26300",
   "metadata": {},
   "outputs": [
    {
     "data": {
      "text/plain": [
       "0.03286788043198145"
      ]
     },
     "execution_count": 54,
     "metadata": {},
     "output_type": "execute_result"
    }
   ],
   "source": [
    "meanAbsDiff(bulklmm_results_ind_alt_grid, gemma_results_ind)"
   ]
  },
  {
   "cell_type": "code",
   "execution_count": 55,
   "id": "4aec5f02-8167-4d40-88dc-c4e92db2bddd",
   "metadata": {},
   "outputs": [
    {
     "data": {
      "text/plain": [
       "0.015995631848133355"
      ]
     },
     "execution_count": 55,
     "metadata": {},
     "output_type": "execute_result"
    }
   ],
   "source": [
    "meanAbsDiff(bulklmm_results_ind_alt_grid, bulklmm_results_ind_null)"
   ]
  },
  {
   "cell_type": "code",
   "execution_count": 56,
   "id": "83f52cb8-b3ba-4820-b422-1fcc8bb2c31e",
   "metadata": {},
   "outputs": [
    {
     "data": {
      "text/plain": [
       "0.010085232015539014"
      ]
     },
     "execution_count": 56,
     "metadata": {},
     "output_type": "execute_result"
    }
   ],
   "source": [
    "meanAbsDiff(bulklmm_results_ind_alt_grid, bulklmm_results_ind_null_grid)"
   ]
  },
  {
   "cell_type": "code",
   "execution_count": 59,
   "id": "2661ad03-dd33-4838-b29b-3b444702a3fe",
   "metadata": {},
   "outputs": [
    {
     "data": {
      "text/plain": [
       "(1.225190904225336, CartesianIndex(201, 52))"
      ]
     },
     "execution_count": 59,
     "metadata": {},
     "output_type": "execute_result"
    }
   ],
   "source": [
    "findmax(abs.(bulklmm_results_ind_alt_grid .- gemma_results_ind))"
   ]
  },
  {
   "cell_type": "code",
   "execution_count": 60,
   "id": "b0753365-5233-420b-a5a5-bda63981d074",
   "metadata": {},
   "outputs": [
    {
     "data": {
      "text/plain": [
       "13.21768068820141"
      ]
     },
     "execution_count": 60,
     "metadata": {},
     "output_type": "execute_result"
    }
   ],
   "source": [
    "bulklmm_results_ind_alt_grid[201, 52]"
   ]
  },
  {
   "cell_type": "code",
   "execution_count": 61,
   "id": "c058afc0-9cd7-418c-a69d-f625522d97f3",
   "metadata": {},
   "outputs": [
    {
     "data": {
      "text/plain": [
       "11.992489783976074"
      ]
     },
     "execution_count": 61,
     "metadata": {},
     "output_type": "execute_result"
    }
   ],
   "source": [
    "gemma_results_ind[201, 52]"
   ]
  },
  {
   "cell_type": "code",
   "execution_count": 62,
   "id": "236a8ef1-6f4d-4811-aab5-0000a3d21761",
   "metadata": {},
   "outputs": [
    {
     "data": {
      "text/plain": [
       "3.0"
      ]
     },
     "execution_count": 62,
     "metadata": {},
     "output_type": "execute_result"
    }
   ],
   "source": [
    "thrs = 3.0"
   ]
  },
  {
   "cell_type": "code",
   "execution_count": 67,
   "id": "5c68403b-ea45-43d5-a1b2-1f096d5cdc92",
   "metadata": {},
   "outputs": [],
   "source": [
    "to_reject = findall(gemma_results_ind .> 3.0);\n",
    "count = 0;\n",
    "\n",
    "for k in to_reject\n",
    "    i = k[1];\n",
    "    j = k[2];\n",
    "    \n",
    "    if bulklmm_results_ind_alt_grid[i, j] >= 3.0\n",
    "        \n",
    "        count = count+1;\n",
    "        \n",
    "    end\n",
    "end"
   ]
  },
  {
   "cell_type": "code",
   "execution_count": 68,
   "id": "b262d213-85ae-428b-b9ff-b7f11fb62241",
   "metadata": {},
   "outputs": [
    {
     "data": {
      "text/plain": [
       "3097"
      ]
     },
     "execution_count": 68,
     "metadata": {},
     "output_type": "execute_result"
    }
   ],
   "source": [
    "count"
   ]
  },
  {
   "cell_type": "code",
   "execution_count": 69,
   "id": "613ef555-092a-4b87-81c3-8247872e4e22",
   "metadata": {},
   "outputs": [
    {
     "data": {
      "text/plain": [
       "3097-element Vector{CartesianIndex{2}}:\n",
       " CartesianIndex(2334, 4)\n",
       " CartesianIndex(2335, 4)\n",
       " CartesianIndex(2336, 4)\n",
       " CartesianIndex(2337, 4)\n",
       " CartesianIndex(2338, 4)\n",
       " CartesianIndex(2339, 4)\n",
       " CartesianIndex(2340, 4)\n",
       " CartesianIndex(2341, 4)\n",
       " CartesianIndex(2342, 4)\n",
       " CartesianIndex(2343, 4)\n",
       " CartesianIndex(2344, 4)\n",
       " CartesianIndex(2345, 4)\n",
       " CartesianIndex(2346, 4)\n",
       " ⋮\n",
       " CartesianIndex(5980, 996)\n",
       " CartesianIndex(5981, 996)\n",
       " CartesianIndex(5982, 996)\n",
       " CartesianIndex(5983, 996)\n",
       " CartesianIndex(5984, 996)\n",
       " CartesianIndex(5985, 996)\n",
       " CartesianIndex(5986, 996)\n",
       " CartesianIndex(5987, 996)\n",
       " CartesianIndex(5988, 996)\n",
       " CartesianIndex(5989, 996)\n",
       " CartesianIndex(5990, 996)\n",
       " CartesianIndex(5991, 996)"
      ]
     },
     "execution_count": 69,
     "metadata": {},
     "output_type": "execute_result"
    }
   ],
   "source": [
    "to_reject"
   ]
  },
  {
   "cell_type": "code",
   "execution_count": null,
   "id": "4d8fb002-331d-47a3-bde1-6fb4eb267ff2",
   "metadata": {},
   "outputs": [],
   "source": [
    "histogram(bulklmm_results_ind_null .- gemma_results_ind)"
   ]
  },
  {
   "cell_type": "markdown",
   "id": "062f51c4-88d4-4679-8a9b-a6d32406ff81",
   "metadata": {},
   "source": [
    "## Strain LP:"
   ]
  },
  {
   "cell_type": "code",
   "execution_count": 36,
   "id": "855a8ed6-43f7-4426-a36d-d232d12b35de",
   "metadata": {},
   "outputs": [],
   "source": [
    "bulklmm_results_strains_null = readdlm(\"output/bulklmm_L_strains_null.txt\", '\\t');"
   ]
  },
  {
   "cell_type": "code",
   "execution_count": 37,
   "id": "fc7f04a7-9192-4cdb-b48e-08719a7ec8cc",
   "metadata": {},
   "outputs": [],
   "source": [
    "bulklmm_results_strains_null_grid = readdlm(\"output/bulklmm_L_strains_null_grid20.txt\", '\\t');"
   ]
  },
  {
   "cell_type": "code",
   "execution_count": 38,
   "id": "4b9c8bc7-edb4-4963-a960-c2461d1d0d52",
   "metadata": {},
   "outputs": [],
   "source": [
    "bulklmm_results_strains_alt_grid = readdlm(\"output/bulklmm_L_strains_alt_grid20.txt\", '\\t');"
   ]
  },
  {
   "cell_type": "code",
   "execution_count": 39,
   "id": "4803060d-c9c2-47cf-b424-094426db7b02",
   "metadata": {},
   "outputs": [],
   "source": [
    "gemma_results_strains = readdlm(\"gemma_L_strains.txt\", '\\t');"
   ]
  },
  {
   "cell_type": "code",
   "execution_count": null,
   "id": "5e56018f-601f-46fa-9530-961a331dcf51",
   "metadata": {},
   "outputs": [],
   "source": []
  },
  {
   "cell_type": "code",
   "execution_count": null,
   "id": "b5598ccd-03a0-4a9e-8957-808abe6e43cf",
   "metadata": {},
   "outputs": [],
   "source": []
  },
  {
   "cell_type": "code",
   "execution_count": 57,
   "id": "df16f295-b795-4c12-bfc1-230c32a22916",
   "metadata": {},
   "outputs": [],
   "source": [
    "# plot(gemma_results_strains[1:1000, :], bulklmm_results_strains_null[1:1000, :])"
   ]
  },
  {
   "cell_type": "code",
   "execution_count": null,
   "id": "bb315a57-b426-4aa3-993a-5460e0f6d38c",
   "metadata": {},
   "outputs": [],
   "source": []
  }
 ],
 "metadata": {
  "kernelspec": {
   "display_name": "Julia 1.8.2",
   "language": "julia",
   "name": "julia-1.8"
  },
  "language_info": {
   "file_extension": ".jl",
   "mimetype": "application/julia",
   "name": "julia",
   "version": "1.8.2"
  }
 },
 "nbformat": 4,
 "nbformat_minor": 5
}
