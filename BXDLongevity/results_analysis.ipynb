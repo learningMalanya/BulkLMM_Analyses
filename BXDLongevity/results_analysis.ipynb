{
 "cells": [
  {
   "cell_type": "code",
   "execution_count": 1,
   "id": "8d0bc780-15a1-433d-8584-fc57c725380c",
   "metadata": {},
   "outputs": [
    {
     "data": {
      "text/plain": [
       "\"/home/zyu20/git/BulkLMM_Analyses/BXDLongevity\""
      ]
     },
     "execution_count": 1,
     "metadata": {},
     "output_type": "execute_result"
    }
   ],
   "source": [
    "pwd()"
   ]
  },
  {
   "cell_type": "code",
   "execution_count": 2,
   "id": "16ff4238-8e83-45ca-9cf5-6e949e2776e9",
   "metadata": {},
   "outputs": [],
   "source": [
    "using CSV, DelimitedFiles, DataFrames, Missings, XLSX\n",
    "using LinearAlgebra, Statistics, Optim\n",
    "using Random, Distributions, LoopVectorization\n",
    "# using GeneNetworkAPI, Downloads\n",
    "using BenchmarkTools\n",
    "using Plots"
   ]
  },
  {
   "cell_type": "code",
   "execution_count": 3,
   "id": "77c0f674-8e35-48b4-82e7-0b4b61e267d2",
   "metadata": {},
   "outputs": [],
   "source": [
    "sampled_traits = readdlm(\"output/samples1000.txt\", '\\t') |> vec |> x -> Int.(x);"
   ]
  },
  {
   "cell_type": "code",
   "execution_count": 28,
   "id": "54a29783-485a-4b7c-974f-05212598bf53",
   "metadata": {},
   "outputs": [
    {
     "data": {
      "text/plain": [
       "meanAbsDiff (generic function with 1 method)"
      ]
     },
     "execution_count": 28,
     "metadata": {},
     "output_type": "execute_result"
    }
   ],
   "source": [
    "function meanAbsDiff(x, y)\n",
    "    \n",
    "    return mean(abs.(x .- y))\n",
    "    \n",
    "end"
   ]
  },
  {
   "cell_type": "code",
   "execution_count": 29,
   "id": "537f7541-7f62-43c3-b9a4-bc521270a3d5",
   "metadata": {},
   "outputs": [
    {
     "data": {
      "text/plain": [
       "removeInfValues! (generic function with 2 methods)"
      ]
     },
     "execution_count": 29,
     "metadata": {},
     "output_type": "execute_result"
    }
   ],
   "source": [
    "function removeInfValues!(x, y)\n",
    "    \n",
    "    toRemove = findall(isinf.(x));\n",
    "    \n",
    "    for inf_val in toRemove\n",
    "        \n",
    "        x[inf_val[1], inf_val[2]] = 0.0;\n",
    "        y[inf_val[1], inf_val[2]] = 0.0;\n",
    "        \n",
    "    end\n",
    "    \n",
    "end"
   ]
  },
  {
   "cell_type": "markdown",
   "id": "801324af-f43c-42fa-9bce-6942f88cfdd0",
   "metadata": {},
   "source": [
    "## Individual LP:"
   ]
  },
  {
   "cell_type": "code",
   "execution_count": 7,
   "id": "e51f799b-6f8e-431b-ae70-21794b0f4a67",
   "metadata": {},
   "outputs": [],
   "source": [
    "bulklmm_results_ind_null = readdlm(\"output/bulklmm_L_ind_null.txt\", '\\t');"
   ]
  },
  {
   "cell_type": "code",
   "execution_count": 8,
   "id": "81d26d93-a22d-42ed-82cd-8f44c524a742",
   "metadata": {},
   "outputs": [],
   "source": [
    "bulklmm_results_ind_null_grid = readdlm(\"output/bulklmm_L_ind_null_grid20.txt\", '\\t');"
   ]
  },
  {
   "cell_type": "code",
   "execution_count": 9,
   "id": "9d9796f1-f8ec-49f4-b14f-25548fa43e87",
   "metadata": {},
   "outputs": [],
   "source": [
    "bulklmm_results_ind_alt_grid = readdlm(\"output/bulklmm_L_ind_alt_grid20.txt\", '\\t');"
   ]
  },
  {
   "cell_type": "code",
   "execution_count": 10,
   "id": "b10b2a88-19f4-4a8c-8c1e-582b2149a684",
   "metadata": {},
   "outputs": [],
   "source": [
    "gemma_results_ind = readdlm(\"output/gemma_L_ind.txt\", '\\t');"
   ]
  },
  {
   "cell_type": "code",
   "execution_count": null,
   "id": "761c667a-42db-429d-aa38-9a7246882ed7",
   "metadata": {},
   "outputs": [],
   "source": []
  },
  {
   "cell_type": "code",
   "execution_count": 11,
   "id": "1f5f1619-b932-4f89-958a-67fd1fe21447",
   "metadata": {},
   "outputs": [],
   "source": [
    "removeInfValues!(gemma_results_ind, bulklmm_results_ind_null)"
   ]
  },
  {
   "cell_type": "code",
   "execution_count": 12,
   "id": "69a83f5b-2276-4658-82c2-7a5f5b2c1940",
   "metadata": {},
   "outputs": [],
   "source": [
    "removeInfValues!(gemma_results_ind, bulklmm_results_ind_null_grid)"
   ]
  },
  {
   "cell_type": "code",
   "execution_count": 13,
   "id": "c8fbd11b-637f-4e28-b21e-8d2948fbb38f",
   "metadata": {},
   "outputs": [],
   "source": [
    "removeInfValues!(gemma_results_ind, bulklmm_results_ind_alt_grid)"
   ]
  },
  {
   "cell_type": "code",
   "execution_count": 14,
   "id": "77a25a48-f9b2-4936-9d34-3b7b664ed32c",
   "metadata": {},
   "outputs": [],
   "source": [
    "removeInfValues!(gemma_results_ind)"
   ]
  },
  {
   "cell_type": "code",
   "execution_count": null,
   "id": "7f97aa63-3c7d-41ef-ac5b-522312f88e9b",
   "metadata": {},
   "outputs": [],
   "source": []
  },
  {
   "cell_type": "code",
   "execution_count": 30,
   "id": "94ffc248-a495-44bf-8070-89fc50e54935",
   "metadata": {},
   "outputs": [
    {
     "data": {
      "text/plain": [
       "0.019844982572864846"
      ]
     },
     "execution_count": 30,
     "metadata": {},
     "output_type": "execute_result"
    }
   ],
   "source": [
    "meanAbsDiff(bulklmm_results_ind_null, gemma_results_ind)"
   ]
  },
  {
   "cell_type": "code",
   "execution_count": 31,
   "id": "7b704ea6-a91e-4638-bfa1-e8cbdb10c21f",
   "metadata": {},
   "outputs": [
    {
     "data": {
      "text/plain": [
       "0.026090870615912806"
      ]
     },
     "execution_count": 31,
     "metadata": {},
     "output_type": "execute_result"
    }
   ],
   "source": [
    "meanAbsDiff(bulklmm_results_ind_null_grid, gemma_results_ind)"
   ]
  },
  {
   "cell_type": "code",
   "execution_count": 32,
   "id": "c9665cc1-4f41-4bb8-b4cc-9852a8a26300",
   "metadata": {},
   "outputs": [
    {
     "data": {
      "text/plain": [
       "0.03286788043198145"
      ]
     },
     "execution_count": 32,
     "metadata": {},
     "output_type": "execute_result"
    }
   ],
   "source": [
    "meanAbsDiff(bulklmm_results_ind_alt_grid, gemma_results_ind)"
   ]
  },
  {
   "cell_type": "code",
   "execution_count": 33,
   "id": "4aec5f02-8167-4d40-88dc-c4e92db2bddd",
   "metadata": {},
   "outputs": [
    {
     "data": {
      "text/plain": [
       "0.015995631848133355"
      ]
     },
     "execution_count": 33,
     "metadata": {},
     "output_type": "execute_result"
    }
   ],
   "source": [
    "meanAbsDiff(bulklmm_results_ind_alt_grid, bulklmm_results_ind_null)"
   ]
  },
  {
   "cell_type": "code",
   "execution_count": 34,
   "id": "83f52cb8-b3ba-4820-b422-1fcc8bb2c31e",
   "metadata": {},
   "outputs": [
    {
     "data": {
      "text/plain": [
       "0.010085232015539014"
      ]
     },
     "execution_count": 34,
     "metadata": {},
     "output_type": "execute_result"
    }
   ],
   "source": [
    "meanAbsDiff(bulklmm_results_ind_alt_grid, bulklmm_results_ind_null_grid)"
   ]
  },
  {
   "cell_type": "code",
   "execution_count": 35,
   "id": "2661ad03-dd33-4838-b29b-3b444702a3fe",
   "metadata": {},
   "outputs": [
    {
     "data": {
      "text/plain": [
       "(1.225190904225336, CartesianIndex(201, 52))"
      ]
     },
     "execution_count": 35,
     "metadata": {},
     "output_type": "execute_result"
    }
   ],
   "source": [
    "findmax(abs.(bulklmm_results_ind_alt_grid .- gemma_results_ind))"
   ]
  },
  {
   "cell_type": "code",
   "execution_count": 36,
   "id": "b0753365-5233-420b-a5a5-bda63981d074",
   "metadata": {},
   "outputs": [
    {
     "data": {
      "text/plain": [
       "13.21768068820141"
      ]
     },
     "execution_count": 36,
     "metadata": {},
     "output_type": "execute_result"
    }
   ],
   "source": [
    "bulklmm_results_ind_alt_grid[201, 52]"
   ]
  },
  {
   "cell_type": "code",
   "execution_count": 37,
   "id": "c058afc0-9cd7-418c-a69d-f625522d97f3",
   "metadata": {},
   "outputs": [
    {
     "data": {
      "text/plain": [
       "11.992489783976074"
      ]
     },
     "execution_count": 37,
     "metadata": {},
     "output_type": "execute_result"
    }
   ],
   "source": [
    "gemma_results_ind[201, 52]"
   ]
  },
  {
   "cell_type": "code",
   "execution_count": 38,
   "id": "236a8ef1-6f4d-4811-aab5-0000a3d21761",
   "metadata": {},
   "outputs": [
    {
     "data": {
      "text/plain": [
       "3.0"
      ]
     },
     "execution_count": 38,
     "metadata": {},
     "output_type": "execute_result"
    }
   ],
   "source": [
    "thrs = 3.0"
   ]
  },
  {
   "cell_type": "code",
   "execution_count": 39,
   "id": "5c68403b-ea45-43d5-a1b2-1f096d5cdc92",
   "metadata": {},
   "outputs": [],
   "source": [
    "to_reject = findall(gemma_results_ind .> 3.0);"
   ]
  },
  {
   "cell_type": "code",
   "execution_count": 40,
   "id": "77378f78-2c38-4aa0-8169-487d16120f4a",
   "metadata": {},
   "outputs": [],
   "source": [
    "to_reject_bulklmm = findall(bulklmm_results_ind_alt_grid .> 3.0);"
   ]
  },
  {
   "cell_type": "code",
   "execution_count": 41,
   "id": "9db0323f-a739-40e2-9fd7-5f6d6985fe72",
   "metadata": {},
   "outputs": [
    {
     "data": {
      "text/plain": [
       "3097-element Vector{CartesianIndex{2}}:\n",
       " CartesianIndex(2334, 4)\n",
       " CartesianIndex(2335, 4)\n",
       " CartesianIndex(2336, 4)\n",
       " CartesianIndex(2337, 4)\n",
       " CartesianIndex(2338, 4)\n",
       " CartesianIndex(2339, 4)\n",
       " CartesianIndex(2340, 4)\n",
       " CartesianIndex(2341, 4)\n",
       " CartesianIndex(2342, 4)\n",
       " CartesianIndex(2343, 4)\n",
       " CartesianIndex(2344, 4)\n",
       " CartesianIndex(2345, 4)\n",
       " CartesianIndex(2346, 4)\n",
       " ⋮\n",
       " CartesianIndex(5980, 996)\n",
       " CartesianIndex(5981, 996)\n",
       " CartesianIndex(5982, 996)\n",
       " CartesianIndex(5983, 996)\n",
       " CartesianIndex(5984, 996)\n",
       " CartesianIndex(5985, 996)\n",
       " CartesianIndex(5986, 996)\n",
       " CartesianIndex(5987, 996)\n",
       " CartesianIndex(5988, 996)\n",
       " CartesianIndex(5989, 996)\n",
       " CartesianIndex(5990, 996)\n",
       " CartesianIndex(5991, 996)"
      ]
     },
     "execution_count": 41,
     "metadata": {},
     "output_type": "execute_result"
    }
   ],
   "source": [
    "to_reject"
   ]
  },
  {
   "cell_type": "code",
   "execution_count": 42,
   "id": "87af356e-25c4-4d50-b31e-98966ad02678",
   "metadata": {},
   "outputs": [
    {
     "data": {
      "text/plain": [
       "5482-element Vector{CartesianIndex{2}}:\n",
       " CartesianIndex(2907, 3)\n",
       " CartesianIndex(2908, 3)\n",
       " CartesianIndex(2909, 3)\n",
       " CartesianIndex(4280, 3)\n",
       " CartesianIndex(4281, 3)\n",
       " CartesianIndex(4282, 3)\n",
       " CartesianIndex(4283, 3)\n",
       " CartesianIndex(4284, 3)\n",
       " CartesianIndex(4285, 3)\n",
       " CartesianIndex(4286, 3)\n",
       " CartesianIndex(4287, 3)\n",
       " CartesianIndex(4288, 3)\n",
       " CartesianIndex(4289, 3)\n",
       " ⋮\n",
       " CartesianIndex(5981, 996)\n",
       " CartesianIndex(5982, 996)\n",
       " CartesianIndex(5983, 996)\n",
       " CartesianIndex(5984, 996)\n",
       " CartesianIndex(5985, 996)\n",
       " CartesianIndex(5986, 996)\n",
       " CartesianIndex(5987, 996)\n",
       " CartesianIndex(5988, 996)\n",
       " CartesianIndex(5989, 996)\n",
       " CartesianIndex(5990, 996)\n",
       " CartesianIndex(5991, 996)\n",
       " CartesianIndex(5992, 996)"
      ]
     },
     "execution_count": 42,
     "metadata": {},
     "output_type": "execute_result"
    }
   ],
   "source": [
    "to_reject_bulklmm"
   ]
  },
  {
   "cell_type": "code",
   "execution_count": 43,
   "id": "932c81b6-4840-4a88-9b40-51698ab4991f",
   "metadata": {},
   "outputs": [
    {
     "data": {
      "text/plain": [
       "7321×1000 Matrix{Float64}:\n",
       " 0.13297     0.00237256  0.114716    …  0.0494661    0.479688     0.0378185\n",
       " 0.13297     0.00237256  0.114716       0.0494661    0.479688     0.0378185\n",
       " 0.13297     0.00237256  0.114716       0.0494661    0.479688     0.0378185\n",
       " 0.13297     0.00237256  0.114716       0.0494661    0.479688     0.0378185\n",
       " 0.13297     0.00237256  0.114716       0.0494661    0.479688     0.0378185\n",
       " 0.13297     0.00237256  0.114716    …  0.0494661    0.479688     0.0378185\n",
       " 0.13297     0.00237256  0.114716       0.0494661    0.479688     0.0378185\n",
       " 0.13297     0.00237256  0.114716       0.0494661    0.479688     0.0378185\n",
       " 0.13297     0.00237256  0.114716       0.0494661    0.479688     0.0378185\n",
       " 0.13297     0.00237256  0.114716       0.0494661    0.479688     0.0378185\n",
       " 0.13297     0.00237256  0.114716    …  0.0494661    0.479688     0.0378185\n",
       " 0.13297     0.00237256  0.114716       0.0494661    0.479688     0.0378185\n",
       " 0.0399133   5.74931e-5  0.176414       0.323577     0.000715447  0.0143582\n",
       " ⋮                                   ⋱                            \n",
       " 0.34184     0.00470029  0.00474203     0.144986     0.0793652    0.603035\n",
       " 0.34184     0.00470029  0.00474203  …  0.144986     0.0793652    0.603035\n",
       " 0.34184     0.00470029  0.00474203     0.144986     0.0793652    0.603035\n",
       " 0.254305    0.0281764   0.0572239      0.0580988    0.0878285    0.316955\n",
       " 0.212522    0.0257633   0.184633       0.0119249    0.000843298  0.281022\n",
       " 0.212522    0.0257633   0.184633       0.0119249    0.000843298  0.281022\n",
       " 0.123272    0.0543949   0.194527    …  0.00230402   0.00988052   0.218471\n",
       " 0.0698983   0.0365083   0.137269       0.000601489  0.0437991    0.399137\n",
       " 0.123272    0.0543949   0.194527       0.00230402   0.00988052   0.218471\n",
       " 0.0698983   0.0365083   0.137269       0.000601489  0.0437991    0.399137\n",
       " 0.00222716  0.0246719   0.164817       0.00945245   0.0280841    0.256038\n",
       " 0.00222716  0.0246719   0.164817    …  0.00945245   0.0280841    0.256038"
      ]
     },
     "execution_count": 43,
     "metadata": {},
     "output_type": "execute_result"
    }
   ],
   "source": [
    "gemma_results_ind"
   ]
  },
  {
   "cell_type": "code",
   "execution_count": 44,
   "id": "9efae0b3-19b8-424d-aa4e-c517a4f10bf5",
   "metadata": {},
   "outputs": [
    {
     "data": {
      "text/plain": [
       "7321×1000 Matrix{Float64}:\n",
       " 0.144266    0.00396406  0.109569    …  0.0438948   0.567834    0.0483595\n",
       " 0.144266    0.00396406  0.109569       0.0438948   0.567834    0.0483595\n",
       " 0.144266    0.00396406  0.109569       0.0438948   0.567834    0.0483595\n",
       " 0.144266    0.00396406  0.109569       0.0438948   0.567834    0.0483595\n",
       " 0.144266    0.00396406  0.109569       0.0438948   0.567834    0.0483595\n",
       " 0.144266    0.00396406  0.109569    …  0.0438948   0.567834    0.0483595\n",
       " 0.144266    0.00396406  0.109569       0.0438948   0.567834    0.0483595\n",
       " 0.144266    0.00396406  0.109569       0.0438948   0.567834    0.0483595\n",
       " 0.144266    0.00396406  0.109569       0.0438948   0.567834    0.0483595\n",
       " 0.144266    0.00396406  0.109569       0.0438948   0.567834    0.0483595\n",
       " 0.144266    0.00396406  0.109569    …  0.0438948   0.567834    0.0483595\n",
       " 0.144266    0.00396406  0.109569       0.0438948   0.567834    0.0483595\n",
       " 0.0397299   0.00032194  0.289912       0.352193    0.00037901  0.0156391\n",
       " ⋮                                   ⋱                          \n",
       " 0.34235     0.00445994  0.00794948     0.164679    0.0647176   0.646953\n",
       " 0.34235     0.00445994  0.00794948  …  0.164679    0.0647176   0.646953\n",
       " 0.34235     0.00445994  0.00794948     0.164679    0.0647176   0.646953\n",
       " 0.254331    0.027786    0.0729909      0.0699625   0.0758148   0.344212\n",
       " 0.212511    0.0257374   0.247128       0.0145508   4.16587e-7  0.306478\n",
       " 0.212511    0.0257374   0.247128       0.0145508   4.16587e-7  0.306478\n",
       " 0.123032    0.0550226   0.281302    …  0.00173387  0.0137359   0.236433\n",
       " 0.0694941   0.0375515   0.198607       0.00092994  0.0522542   0.418895\n",
       " 0.123032    0.0550226   0.281302       0.00173387  0.0137359   0.236433\n",
       " 0.0694941   0.0375515   0.198607       0.00092994  0.0522542   0.418895\n",
       " 0.00218021  0.0254837   0.234046       0.0106114   0.0356769   0.275971\n",
       " 0.00218021  0.0254837   0.234046    …  0.0106114   0.0356769   0.275971"
      ]
     },
     "execution_count": 44,
     "metadata": {},
     "output_type": "execute_result"
    }
   ],
   "source": [
    "bulklmm_results_ind_alt_grid"
   ]
  },
  {
   "cell_type": "markdown",
   "id": "062f51c4-88d4-4679-8a9b-a6d32406ff81",
   "metadata": {
    "tags": []
   },
   "source": [
    "## Strain LP:"
   ]
  },
  {
   "cell_type": "code",
   "execution_count": 54,
   "id": "855a8ed6-43f7-4426-a36d-d232d12b35de",
   "metadata": {},
   "outputs": [],
   "source": [
    "bulklmm_results_strains_null = readdlm(\"output/bulklmm_L_strains_null.txt\", '\\t');"
   ]
  },
  {
   "cell_type": "code",
   "execution_count": 29,
   "id": "fc7f04a7-9192-4cdb-b48e-08719a7ec8cc",
   "metadata": {},
   "outputs": [],
   "source": [
    "bulklmm_results_strains_null_grid = readdlm(\"output/bulklmm_L_strains_null_grid20.txt\", '\\t');"
   ]
  },
  {
   "cell_type": "code",
   "execution_count": 30,
   "id": "4b9c8bc7-edb4-4963-a960-c2461d1d0d52",
   "metadata": {},
   "outputs": [],
   "source": [
    "bulklmm_results_strains_alt_grid = readdlm(\"output/bulklmm_L_strains_alt_grid20.txt\", '\\t');"
   ]
  },
  {
   "cell_type": "code",
   "execution_count": 55,
   "id": "4803060d-c9c2-47cf-b424-094426db7b02",
   "metadata": {},
   "outputs": [],
   "source": [
    "gemma_results_strains = readdlm(\"output/gemma_L_strains.txt\", '\\t');"
   ]
  },
  {
   "cell_type": "code",
   "execution_count": null,
   "id": "5e56018f-601f-46fa-9530-961a331dcf51",
   "metadata": {},
   "outputs": [],
   "source": []
  },
  {
   "cell_type": "code",
   "execution_count": null,
   "id": "b5598ccd-03a0-4a9e-8957-808abe6e43cf",
   "metadata": {},
   "outputs": [],
   "source": []
  },
  {
   "cell_type": "code",
   "execution_count": 57,
   "id": "df16f295-b795-4c12-bfc1-230c32a22916",
   "metadata": {},
   "outputs": [],
   "source": [
    "# plot(gemma_results_strains[1:1000, :], bulklmm_results_strains_null[1:1000, :])"
   ]
  },
  {
   "cell_type": "code",
   "execution_count": 70,
   "id": "bb315a57-b426-4aa3-993a-5460e0f6d38c",
   "metadata": {},
   "outputs": [
    {
     "data": {
      "text/plain": [
       "7321×1000 Matrix{Float64}:\n",
       " 0.144266    0.00396406  0.109569    …  0.0438948   0.567834    0.0483595\n",
       " 0.144266    0.00396406  0.109569       0.0438948   0.567834    0.0483595\n",
       " 0.144266    0.00396406  0.109569       0.0438948   0.567834    0.0483595\n",
       " 0.144266    0.00396406  0.109569       0.0438948   0.567834    0.0483595\n",
       " 0.144266    0.00396406  0.109569       0.0438948   0.567834    0.0483595\n",
       " 0.144266    0.00396406  0.109569    …  0.0438948   0.567834    0.0483595\n",
       " 0.144266    0.00396406  0.109569       0.0438948   0.567834    0.0483595\n",
       " 0.144266    0.00396406  0.109569       0.0438948   0.567834    0.0483595\n",
       " 0.144266    0.00396406  0.109569       0.0438948   0.567834    0.0483595\n",
       " 0.144266    0.00396406  0.109569       0.0438948   0.567834    0.0483595\n",
       " 0.144266    0.00396406  0.109569    …  0.0438948   0.567834    0.0483595\n",
       " 0.144266    0.00396406  0.109569       0.0438948   0.567834    0.0483595\n",
       " 0.0397299   0.00032194  0.289912       0.352193    0.00037901  0.0156391\n",
       " ⋮                                   ⋱                          \n",
       " 0.34235     0.00445994  0.00794948     0.164679    0.0647176   0.646953\n",
       " 0.34235     0.00445994  0.00794948  …  0.164679    0.0647176   0.646953\n",
       " 0.34235     0.00445994  0.00794948     0.164679    0.0647176   0.646953\n",
       " 0.254331    0.027786    0.0729909      0.0699625   0.0758148   0.344212\n",
       " 0.212511    0.0257374   0.247128       0.0145508   4.16587e-7  0.306478\n",
       " 0.212511    0.0257374   0.247128       0.0145508   4.16587e-7  0.306478\n",
       " 0.123032    0.0550226   0.281302    …  0.00173387  0.0137359   0.236433\n",
       " 0.0694941   0.0375515   0.198607       0.00092994  0.0522542   0.418895\n",
       " 0.123032    0.0550226   0.281302       0.00173387  0.0137359   0.236433\n",
       " 0.0694941   0.0375515   0.198607       0.00092994  0.0522542   0.418895\n",
       " 0.00218021  0.0254837   0.234046       0.0106114   0.0356769   0.275971\n",
       " 0.00218021  0.0254837   0.234046    …  0.0106114   0.0356769   0.275971"
      ]
     },
     "execution_count": 70,
     "metadata": {},
     "output_type": "execute_result"
    }
   ],
   "source": [
    "bulklmm_results_ind_alt_grid"
   ]
  },
  {
   "cell_type": "code",
   "execution_count": null,
   "id": "7c3694fe-2e5f-45e4-b064-36481893cb34",
   "metadata": {},
   "outputs": [],
   "source": []
  }
 ],
 "metadata": {
  "kernelspec": {
   "display_name": "Julia 1.7.3",
   "language": "julia",
   "name": "julia-1.7"
  },
  "language_info": {
   "file_extension": ".jl",
   "mimetype": "application/julia",
   "name": "julia",
   "version": "1.7.3"
  }
 },
 "nbformat": 4,
 "nbformat_minor": 5
}
