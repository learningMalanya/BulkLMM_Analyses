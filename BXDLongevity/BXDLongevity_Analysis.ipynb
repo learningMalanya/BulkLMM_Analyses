{
 "cells": [
  {
   "cell_type": "markdown",
   "id": "76f80b67-85df-4d55-bb10-f6913d392780",
   "metadata": {},
   "source": [
    "## Data Analysis using BulkLMM - BXD Longevity Study"
   ]
  },
  {
   "cell_type": "code",
   "execution_count": 1,
   "id": "028f2786-ee1b-4ec3-ab13-05110ad9caf6",
   "metadata": {},
   "outputs": [],
   "source": [
    "using CSV, DelimitedFiles, DataFrames, Missings, XLSX\n",
    "using LinearAlgebra, Statistics, Optim\n",
    "using Random, Distributions, LoopVectorization\n",
    "using GeneNetworkAPI, Downloads\n",
    "using BenchmarkTools"
   ]
  },
  {
   "cell_type": "code",
   "execution_count": 2,
   "id": "4a6c9448-eeee-4fe2-8b74-a183abe6cf6f",
   "metadata": {},
   "outputs": [],
   "source": [
    "using Plots"
   ]
  },
  {
   "cell_type": "code",
   "execution_count": 3,
   "id": "bc3d1279-dc9b-4a8e-8616-12e041d6179f",
   "metadata": {},
   "outputs": [],
   "source": [
    "local_path = \"../../BulkLMM.jl/src\";"
   ]
  },
  {
   "cell_type": "markdown",
   "id": "548266cf-7288-4c51-a8d0-61a23e207f4e",
   "metadata": {},
   "source": [
    "## Load processed_data:"
   ]
  },
  {
   "cell_type": "markdown",
   "id": "76b2ccbd-e0db-4bcd-a11d-7703fbbbd811",
   "metadata": {},
   "source": [
    "### By individuals:"
   ]
  },
  {
   "cell_type": "code",
   "execution_count": 4,
   "id": "abafa447-fb73-405f-a457-8ab1ac3cefcc",
   "metadata": {},
   "outputs": [],
   "source": [
    "BXD_pheno_ind_summary_df = CSV.read(\"data/GN886_pheno_summary.csv\", DataFrame);"
   ]
  },
  {
   "cell_type": "markdown",
   "id": "a3e12b95-f2e2-4cfc-812d-34f74ac83f1e",
   "metadata": {},
   "source": [
    "By individuals, there are 248 individual samples for 32445 livear proteome."
   ]
  },
  {
   "cell_type": "code",
   "execution_count": 5,
   "id": "cf42c49c-60d5-458e-9206-35123de57d51",
   "metadata": {},
   "outputs": [
    {
     "name": "stdout",
     "output_type": "stream",
     "text": [
      "(248, 32448)\n"
     ]
    },
    {
     "data": {
      "text/html": [
       "<div><div style = \"float: left;\"><span>10×10 DataFrame</span></div><div style = \"clear: both;\"></div></div><div class = \"data-frame\" style = \"overflow-x: scroll;\"><table class = \"data-frame\" style = \"margin-bottom: 6px;\"><thead><tr class = \"header\"><th class = \"rowNumber\" style = \"font-weight: bold; text-align: right;\">Row</th><th style = \"text-align: left;\">Sample</th><th style = \"text-align: left;\">Strain</th><th style = \"text-align: left;\">Strain_num</th><th style = \"text-align: left;\">P42209_DESGLNRK_2</th><th style = \"text-align: left;\">P42209_GLRPLDVAFLR_3</th><th style = \"text-align: left;\">Q99M02_VGDPVYR_2</th><th style = \"text-align: left;\">Q99M02_VWIYPIK_2</th><th style = \"text-align: left;\">Q99M02_LCDPSVK_2</th><th style = \"text-align: left;\">Q99M02_CVLTTVDPDTGIIDR_2</th><th style = \"text-align: left;\">Q99M02_LVQFDTSMK_2</th></tr><tr class = \"subheader headerLastRow\"><th class = \"rowNumber\" style = \"font-weight: bold; text-align: right;\"></th><th title = \"String7\" style = \"text-align: left;\">String7</th><th title = \"String7\" style = \"text-align: left;\">String7</th><th title = \"Int64\" style = \"text-align: left;\">Int64</th><th title = \"Float64\" style = \"text-align: left;\">Float64</th><th title = \"Float64\" style = \"text-align: left;\">Float64</th><th title = \"Float64\" style = \"text-align: left;\">Float64</th><th title = \"Float64\" style = \"text-align: left;\">Float64</th><th title = \"Float64\" style = \"text-align: left;\">Float64</th><th title = \"Float64\" style = \"text-align: left;\">Float64</th><th title = \"Float64\" style = \"text-align: left;\">Float64</th></tr></thead><tbody><tr><td class = \"rowNumber\" style = \"font-weight: bold; text-align: right;\">1</td><td style = \"text-align: left;\">H1009</td><td style = \"text-align: left;\">BXD9</td><td style = \"text-align: right;\">9</td><td style = \"text-align: right;\">11.349</td><td style = \"text-align: right;\">11.534</td><td style = \"text-align: right;\">17.587</td><td style = \"text-align: right;\">17.517</td><td style = \"text-align: right;\">17.309</td><td style = \"text-align: right;\">16.574</td><td style = \"text-align: right;\">16.323</td></tr><tr><td class = \"rowNumber\" style = \"font-weight: bold; text-align: right;\">2</td><td style = \"text-align: left;\">H0370</td><td style = \"text-align: left;\">BXD9</td><td style = \"text-align: right;\">9</td><td style = \"text-align: right;\">11.249</td><td style = \"text-align: right;\">12.735</td><td style = \"text-align: right;\">17.427</td><td style = \"text-align: right;\">17.325</td><td style = \"text-align: right;\">17.252</td><td style = \"text-align: right;\">16.685</td><td style = \"text-align: right;\">16.021</td></tr><tr><td class = \"rowNumber\" style = \"font-weight: bold; text-align: right;\">3</td><td style = \"text-align: left;\">H2577</td><td style = \"text-align: left;\">BXD9</td><td style = \"text-align: right;\">9</td><td style = \"text-align: right;\">12.415</td><td style = \"text-align: right;\">10.487</td><td style = \"text-align: right;\">17.89</td><td style = \"text-align: right;\">17.488</td><td style = \"text-align: right;\">17.594</td><td style = \"text-align: right;\">16.731</td><td style = \"text-align: right;\">16.208</td></tr><tr><td class = \"rowNumber\" style = \"font-weight: bold; text-align: right;\">4</td><td style = \"text-align: left;\">H0365</td><td style = \"text-align: left;\">BXD9</td><td style = \"text-align: right;\">9</td><td style = \"text-align: right;\">11.374</td><td style = \"text-align: right;\">10.674</td><td style = \"text-align: right;\">17.714</td><td style = \"text-align: right;\">17.401</td><td style = \"text-align: right;\">17.381</td><td style = \"text-align: right;\">16.621</td><td style = \"text-align: right;\">16.337</td></tr><tr><td class = \"rowNumber\" style = \"font-weight: bold; text-align: right;\">5</td><td style = \"text-align: left;\">H1333</td><td style = \"text-align: left;\">BXD13</td><td style = \"text-align: right;\">13</td><td style = \"text-align: right;\">11.687</td><td style = \"text-align: right;\">11.524</td><td style = \"text-align: right;\">17.362</td><td style = \"text-align: right;\">17.367</td><td style = \"text-align: right;\">17.071</td><td style = \"text-align: right;\">16.465</td><td style = \"text-align: right;\">15.97</td></tr><tr><td class = \"rowNumber\" style = \"font-weight: bold; text-align: right;\">6</td><td style = \"text-align: left;\">H2259</td><td style = \"text-align: left;\">BXD24</td><td style = \"text-align: right;\">24</td><td style = \"text-align: right;\">11.837</td><td style = \"text-align: right;\">11.715</td><td style = \"text-align: right;\">17.57</td><td style = \"text-align: right;\">17.792</td><td style = \"text-align: right;\">17.505</td><td style = \"text-align: right;\">16.894</td><td style = \"text-align: right;\">16.277</td></tr><tr><td class = \"rowNumber\" style = \"font-weight: bold; text-align: right;\">7</td><td style = \"text-align: left;\">H1792</td><td style = \"text-align: left;\">BXD24</td><td style = \"text-align: right;\">24</td><td style = \"text-align: right;\">11.563</td><td style = \"text-align: right;\">11.434</td><td style = \"text-align: right;\">17.789</td><td style = \"text-align: right;\">17.847</td><td style = \"text-align: right;\">17.416</td><td style = \"text-align: right;\">17.042</td><td style = \"text-align: right;\">16.292</td></tr><tr><td class = \"rowNumber\" style = \"font-weight: bold; text-align: right;\">8</td><td style = \"text-align: left;\">H1791</td><td style = \"text-align: left;\">BXD24</td><td style = \"text-align: right;\">24</td><td style = \"text-align: right;\">12.5</td><td style = \"text-align: right;\">12.273</td><td style = \"text-align: right;\">17.944</td><td style = \"text-align: right;\">17.833</td><td style = \"text-align: right;\">17.63</td><td style = \"text-align: right;\">16.862</td><td style = \"text-align: right;\">16.3</td></tr><tr><td class = \"rowNumber\" style = \"font-weight: bold; text-align: right;\">9</td><td style = \"text-align: left;\">H1541</td><td style = \"text-align: left;\">BXD24</td><td style = \"text-align: right;\">24</td><td style = \"text-align: right;\">11.815</td><td style = \"text-align: right;\">11.564</td><td style = \"text-align: right;\">17.794</td><td style = \"text-align: right;\">17.759</td><td style = \"text-align: right;\">17.456</td><td style = \"text-align: right;\">16.878</td><td style = \"text-align: right;\">16.377</td></tr><tr><td class = \"rowNumber\" style = \"font-weight: bold; text-align: right;\">10</td><td style = \"text-align: left;\">H1277</td><td style = \"text-align: left;\">BXD24</td><td style = \"text-align: right;\">24</td><td style = \"text-align: right;\">12.674</td><td style = \"text-align: right;\">11.743</td><td style = \"text-align: right;\">17.866</td><td style = \"text-align: right;\">17.845</td><td style = \"text-align: right;\">17.577</td><td style = \"text-align: right;\">16.922</td><td style = \"text-align: right;\">16.26</td></tr></tbody></table></div>"
      ],
      "text/latex": [
       "\\begin{tabular}{r|ccccccc}\n",
       "\t& Sample & Strain & Strain\\_num & P42209\\_DESGLNRK\\_2 & P42209\\_GLRPLDVAFLR\\_3 & Q99M02\\_VGDPVYR\\_2 & \\\\\n",
       "\t\\hline\n",
       "\t& String7 & String7 & Int64 & Float64 & Float64 & Float64 & \\\\\n",
       "\t\\hline\n",
       "\t1 & H1009 & BXD9 & 9 & 11.349 & 11.534 & 17.587 & $\\dots$ \\\\\n",
       "\t2 & H0370 & BXD9 & 9 & 11.249 & 12.735 & 17.427 & $\\dots$ \\\\\n",
       "\t3 & H2577 & BXD9 & 9 & 12.415 & 10.487 & 17.89 & $\\dots$ \\\\\n",
       "\t4 & H0365 & BXD9 & 9 & 11.374 & 10.674 & 17.714 & $\\dots$ \\\\\n",
       "\t5 & H1333 & BXD13 & 13 & 11.687 & 11.524 & 17.362 & $\\dots$ \\\\\n",
       "\t6 & H2259 & BXD24 & 24 & 11.837 & 11.715 & 17.57 & $\\dots$ \\\\\n",
       "\t7 & H1792 & BXD24 & 24 & 11.563 & 11.434 & 17.789 & $\\dots$ \\\\\n",
       "\t8 & H1791 & BXD24 & 24 & 12.5 & 12.273 & 17.944 & $\\dots$ \\\\\n",
       "\t9 & H1541 & BXD24 & 24 & 11.815 & 11.564 & 17.794 & $\\dots$ \\\\\n",
       "\t10 & H1277 & BXD24 & 24 & 12.674 & 11.743 & 17.866 & $\\dots$ \\\\\n",
       "\\end{tabular}\n"
      ],
      "text/plain": [
       "\u001b[1m10×10 DataFrame\u001b[0m\n",
       "\u001b[1m Row \u001b[0m│\u001b[1m Sample  \u001b[0m\u001b[1m Strain  \u001b[0m\u001b[1m Strain_num \u001b[0m\u001b[1m P42209_DESGLNRK_2 \u001b[0m\u001b[1m P42209_GLRPLDVAFLR_3 \u001b[0m\u001b[1m \u001b[0m ⋯\n",
       "     │\u001b[90m String7 \u001b[0m\u001b[90m String7 \u001b[0m\u001b[90m Int64      \u001b[0m\u001b[90m Float64           \u001b[0m\u001b[90m Float64              \u001b[0m\u001b[90m \u001b[0m ⋯\n",
       "─────┼──────────────────────────────────────────────────────────────────────────\n",
       "   1 │ H1009    BXD9              9             11.349                11.534   ⋯\n",
       "   2 │ H0370    BXD9              9             11.249                12.735\n",
       "   3 │ H2577    BXD9              9             12.415                10.487\n",
       "   4 │ H0365    BXD9              9             11.374                10.674\n",
       "   5 │ H1333    BXD13            13             11.687                11.524   ⋯\n",
       "   6 │ H2259    BXD24            24             11.837                11.715\n",
       "   7 │ H1792    BXD24            24             11.563                11.434\n",
       "   8 │ H1791    BXD24            24             12.5                  12.273\n",
       "   9 │ H1541    BXD24            24             11.815                11.564   ⋯\n",
       "  10 │ H1277    BXD24            24             12.674                11.743\n",
       "\u001b[36m                                                               5 columns omitted\u001b[0m"
      ]
     },
     "execution_count": 5,
     "metadata": {},
     "output_type": "execute_result"
    }
   ],
   "source": [
    "println(size(BXD_pheno_ind_summary_df)) \n",
    "BXD_pheno_ind_summary_df[1:10, 1:10]"
   ]
  },
  {
   "cell_type": "code",
   "execution_count": 6,
   "id": "0ff1711f-771b-432b-a230-4161835d4b52",
   "metadata": {},
   "outputs": [],
   "source": [
    "BXD_geno_ind_summary_df = CSV.read(\"data/GN886_geno_summary.csv\", DataFrame);"
   ]
  },
  {
   "cell_type": "markdown",
   "id": "2f3abf17-58be-4916-9a5f-412546a12f50",
   "metadata": {},
   "source": [
    "By individuals, there are 248 individual samples for 7321 markers."
   ]
  },
  {
   "cell_type": "code",
   "execution_count": 7,
   "id": "e7f39851-0173-4c71-b583-dd4ad554445d",
   "metadata": {},
   "outputs": [
    {
     "name": "stdout",
     "output_type": "stream",
     "text": [
      "(248, 7324)\n"
     ]
    },
    {
     "data": {
      "text/html": [
       "<div><div style = \"float: left;\"><span>10×10 DataFrame</span></div><div style = \"clear: both;\"></div></div><div class = \"data-frame\" style = \"overflow-x: scroll;\"><table class = \"data-frame\" style = \"margin-bottom: 6px;\"><thead><tr class = \"header\"><th class = \"rowNumber\" style = \"font-weight: bold; text-align: right;\">Row</th><th style = \"text-align: left;\">Sample</th><th style = \"text-align: left;\">Strain</th><th style = \"text-align: left;\">Strain_num</th><th style = \"text-align: left;\">rs31443144</th><th style = \"text-align: left;\">rs6269442</th><th style = \"text-align: left;\">rs32285189</th><th style = \"text-align: left;\">rs258367496</th><th style = \"text-align: left;\">rs32430919</th><th style = \"text-align: left;\">rs36251697</th><th style = \"text-align: left;\">rs30658298</th></tr><tr class = \"subheader headerLastRow\"><th class = \"rowNumber\" style = \"font-weight: bold; text-align: right;\"></th><th title = \"String7\" style = \"text-align: left;\">String7</th><th title = \"String7\" style = \"text-align: left;\">String7</th><th title = \"Int64\" style = \"text-align: left;\">Int64</th><th title = \"Float64\" style = \"text-align: left;\">Float64</th><th title = \"Float64\" style = \"text-align: left;\">Float64</th><th title = \"Float64\" style = \"text-align: left;\">Float64</th><th title = \"Float64\" style = \"text-align: left;\">Float64</th><th title = \"Float64\" style = \"text-align: left;\">Float64</th><th title = \"Float64\" style = \"text-align: left;\">Float64</th><th title = \"Float64\" style = \"text-align: left;\">Float64</th></tr></thead><tbody><tr><td class = \"rowNumber\" style = \"font-weight: bold; text-align: right;\">1</td><td style = \"text-align: left;\">H1009</td><td style = \"text-align: left;\">BXD9</td><td style = \"text-align: right;\">9</td><td style = \"text-align: right;\">0.0</td><td style = \"text-align: right;\">0.0</td><td style = \"text-align: right;\">0.0</td><td style = \"text-align: right;\">0.0</td><td style = \"text-align: right;\">0.0</td><td style = \"text-align: right;\">0.0</td><td style = \"text-align: right;\">0.0</td></tr><tr><td class = \"rowNumber\" style = \"font-weight: bold; text-align: right;\">2</td><td style = \"text-align: left;\">H0370</td><td style = \"text-align: left;\">BXD9</td><td style = \"text-align: right;\">9</td><td style = \"text-align: right;\">0.0</td><td style = \"text-align: right;\">0.0</td><td style = \"text-align: right;\">0.0</td><td style = \"text-align: right;\">0.0</td><td style = \"text-align: right;\">0.0</td><td style = \"text-align: right;\">0.0</td><td style = \"text-align: right;\">0.0</td></tr><tr><td class = \"rowNumber\" style = \"font-weight: bold; text-align: right;\">3</td><td style = \"text-align: left;\">H2577</td><td style = \"text-align: left;\">BXD9</td><td style = \"text-align: right;\">9</td><td style = \"text-align: right;\">0.0</td><td style = \"text-align: right;\">0.0</td><td style = \"text-align: right;\">0.0</td><td style = \"text-align: right;\">0.0</td><td style = \"text-align: right;\">0.0</td><td style = \"text-align: right;\">0.0</td><td style = \"text-align: right;\">0.0</td></tr><tr><td class = \"rowNumber\" style = \"font-weight: bold; text-align: right;\">4</td><td style = \"text-align: left;\">H0365</td><td style = \"text-align: left;\">BXD9</td><td style = \"text-align: right;\">9</td><td style = \"text-align: right;\">0.0</td><td style = \"text-align: right;\">0.0</td><td style = \"text-align: right;\">0.0</td><td style = \"text-align: right;\">0.0</td><td style = \"text-align: right;\">0.0</td><td style = \"text-align: right;\">0.0</td><td style = \"text-align: right;\">0.0</td></tr><tr><td class = \"rowNumber\" style = \"font-weight: bold; text-align: right;\">5</td><td style = \"text-align: left;\">H1333</td><td style = \"text-align: left;\">BXD13</td><td style = \"text-align: right;\">13</td><td style = \"text-align: right;\">0.0</td><td style = \"text-align: right;\">0.0</td><td style = \"text-align: right;\">0.0</td><td style = \"text-align: right;\">0.0</td><td style = \"text-align: right;\">0.0</td><td style = \"text-align: right;\">0.0</td><td style = \"text-align: right;\">0.0</td></tr><tr><td class = \"rowNumber\" style = \"font-weight: bold; text-align: right;\">6</td><td style = \"text-align: left;\">H2259</td><td style = \"text-align: left;\">BXD24</td><td style = \"text-align: right;\">24</td><td style = \"text-align: right;\">0.0</td><td style = \"text-align: right;\">0.0</td><td style = \"text-align: right;\">0.0</td><td style = \"text-align: right;\">0.0</td><td style = \"text-align: right;\">0.0</td><td style = \"text-align: right;\">0.0</td><td style = \"text-align: right;\">0.0</td></tr><tr><td class = \"rowNumber\" style = \"font-weight: bold; text-align: right;\">7</td><td style = \"text-align: left;\">H1792</td><td style = \"text-align: left;\">BXD24</td><td style = \"text-align: right;\">24</td><td style = \"text-align: right;\">0.0</td><td style = \"text-align: right;\">0.0</td><td style = \"text-align: right;\">0.0</td><td style = \"text-align: right;\">0.0</td><td style = \"text-align: right;\">0.0</td><td style = \"text-align: right;\">0.0</td><td style = \"text-align: right;\">0.0</td></tr><tr><td class = \"rowNumber\" style = \"font-weight: bold; text-align: right;\">8</td><td style = \"text-align: left;\">H1791</td><td style = \"text-align: left;\">BXD24</td><td style = \"text-align: right;\">24</td><td style = \"text-align: right;\">0.0</td><td style = \"text-align: right;\">0.0</td><td style = \"text-align: right;\">0.0</td><td style = \"text-align: right;\">0.0</td><td style = \"text-align: right;\">0.0</td><td style = \"text-align: right;\">0.0</td><td style = \"text-align: right;\">0.0</td></tr><tr><td class = \"rowNumber\" style = \"font-weight: bold; text-align: right;\">9</td><td style = \"text-align: left;\">H1541</td><td style = \"text-align: left;\">BXD24</td><td style = \"text-align: right;\">24</td><td style = \"text-align: right;\">0.0</td><td style = \"text-align: right;\">0.0</td><td style = \"text-align: right;\">0.0</td><td style = \"text-align: right;\">0.0</td><td style = \"text-align: right;\">0.0</td><td style = \"text-align: right;\">0.0</td><td style = \"text-align: right;\">0.0</td></tr><tr><td class = \"rowNumber\" style = \"font-weight: bold; text-align: right;\">10</td><td style = \"text-align: left;\">H1277</td><td style = \"text-align: left;\">BXD24</td><td style = \"text-align: right;\">24</td><td style = \"text-align: right;\">0.0</td><td style = \"text-align: right;\">0.0</td><td style = \"text-align: right;\">0.0</td><td style = \"text-align: right;\">0.0</td><td style = \"text-align: right;\">0.0</td><td style = \"text-align: right;\">0.0</td><td style = \"text-align: right;\">0.0</td></tr></tbody></table></div>"
      ],
      "text/latex": [
       "\\begin{tabular}{r|ccccccccc}\n",
       "\t& Sample & Strain & Strain\\_num & rs31443144 & rs6269442 & rs32285189 & rs258367496 & rs32430919 & \\\\\n",
       "\t\\hline\n",
       "\t& String7 & String7 & Int64 & Float64 & Float64 & Float64 & Float64 & Float64 & \\\\\n",
       "\t\\hline\n",
       "\t1 & H1009 & BXD9 & 9 & 0.0 & 0.0 & 0.0 & 0.0 & 0.0 & $\\dots$ \\\\\n",
       "\t2 & H0370 & BXD9 & 9 & 0.0 & 0.0 & 0.0 & 0.0 & 0.0 & $\\dots$ \\\\\n",
       "\t3 & H2577 & BXD9 & 9 & 0.0 & 0.0 & 0.0 & 0.0 & 0.0 & $\\dots$ \\\\\n",
       "\t4 & H0365 & BXD9 & 9 & 0.0 & 0.0 & 0.0 & 0.0 & 0.0 & $\\dots$ \\\\\n",
       "\t5 & H1333 & BXD13 & 13 & 0.0 & 0.0 & 0.0 & 0.0 & 0.0 & $\\dots$ \\\\\n",
       "\t6 & H2259 & BXD24 & 24 & 0.0 & 0.0 & 0.0 & 0.0 & 0.0 & $\\dots$ \\\\\n",
       "\t7 & H1792 & BXD24 & 24 & 0.0 & 0.0 & 0.0 & 0.0 & 0.0 & $\\dots$ \\\\\n",
       "\t8 & H1791 & BXD24 & 24 & 0.0 & 0.0 & 0.0 & 0.0 & 0.0 & $\\dots$ \\\\\n",
       "\t9 & H1541 & BXD24 & 24 & 0.0 & 0.0 & 0.0 & 0.0 & 0.0 & $\\dots$ \\\\\n",
       "\t10 & H1277 & BXD24 & 24 & 0.0 & 0.0 & 0.0 & 0.0 & 0.0 & $\\dots$ \\\\\n",
       "\\end{tabular}\n"
      ],
      "text/plain": [
       "\u001b[1m10×10 DataFrame\u001b[0m\n",
       "\u001b[1m Row \u001b[0m│\u001b[1m Sample  \u001b[0m\u001b[1m Strain  \u001b[0m\u001b[1m Strain_num \u001b[0m\u001b[1m rs31443144 \u001b[0m\u001b[1m rs6269442 \u001b[0m\u001b[1m rs32285189 \u001b[0m\u001b[1m rs2583\u001b[0m ⋯\n",
       "     │\u001b[90m String7 \u001b[0m\u001b[90m String7 \u001b[0m\u001b[90m Int64      \u001b[0m\u001b[90m Float64    \u001b[0m\u001b[90m Float64   \u001b[0m\u001b[90m Float64    \u001b[0m\u001b[90m Float6\u001b[0m ⋯\n",
       "─────┼──────────────────────────────────────────────────────────────────────────\n",
       "   1 │ H1009    BXD9              9         0.0        0.0         0.0         ⋯\n",
       "   2 │ H0370    BXD9              9         0.0        0.0         0.0\n",
       "   3 │ H2577    BXD9              9         0.0        0.0         0.0\n",
       "   4 │ H0365    BXD9              9         0.0        0.0         0.0\n",
       "   5 │ H1333    BXD13            13         0.0        0.0         0.0         ⋯\n",
       "   6 │ H2259    BXD24            24         0.0        0.0         0.0\n",
       "   7 │ H1792    BXD24            24         0.0        0.0         0.0\n",
       "   8 │ H1791    BXD24            24         0.0        0.0         0.0\n",
       "   9 │ H1541    BXD24            24         0.0        0.0         0.0         ⋯\n",
       "  10 │ H1277    BXD24            24         0.0        0.0         0.0\n",
       "\u001b[36m                                                               4 columns omitted\u001b[0m"
      ]
     },
     "execution_count": 7,
     "metadata": {},
     "output_type": "execute_result"
    }
   ],
   "source": [
    "println(size(BXD_geno_ind_summary_df)) \n",
    "BXD_geno_ind_summary_df[1:10, 1:10]"
   ]
  },
  {
   "cell_type": "markdown",
   "id": "09ec71ff-4361-42b5-b7be-b5b67963dc81",
   "metadata": {},
   "source": [
    "### By strains:"
   ]
  },
  {
   "cell_type": "code",
   "execution_count": 8,
   "id": "87fab8f1-fbe4-49d2-94cc-0163ac9ad461",
   "metadata": {},
   "outputs": [],
   "source": [
    "BXD_pheno_strains_summary_df = CSV.read(\"data/GN886_pheno_strain_means_summary.csv\", DataFrame);"
   ]
  },
  {
   "cell_type": "markdown",
   "id": "2255810e-cdd7-4473-a605-8a96126cbad0",
   "metadata": {},
   "source": [
    "By strains, there are 50 BXD strains for 32445 liver proteome."
   ]
  },
  {
   "cell_type": "code",
   "execution_count": 9,
   "id": "f5441670-3929-420d-a6c3-ceb794ea9cb1",
   "metadata": {},
   "outputs": [
    {
     "name": "stdout",
     "output_type": "stream",
     "text": [
      "(50, 32447)\n"
     ]
    },
    {
     "data": {
      "text/html": [
       "<div><div style = \"float: left;\"><span>10×10 DataFrame</span></div><div style = \"clear: both;\"></div></div><div class = \"data-frame\" style = \"overflow-x: scroll;\"><table class = \"data-frame\" style = \"margin-bottom: 6px;\"><thead><tr class = \"header\"><th class = \"rowNumber\" style = \"font-weight: bold; text-align: right;\">Row</th><th style = \"text-align: left;\">Strain</th><th style = \"text-align: left;\">Number of Samples</th><th style = \"text-align: left;\">P42209_DESGLNRK_2</th><th style = \"text-align: left;\">P42209_GLRPLDVAFLR_3</th><th style = \"text-align: left;\">Q99M02_VGDPVYR_2</th><th style = \"text-align: left;\">Q99M02_VWIYPIK_2</th><th style = \"text-align: left;\">Q99M02_LCDPSVK_2</th><th style = \"text-align: left;\">Q99M02_CVLTTVDPDTGIIDR_2</th><th style = \"text-align: left;\">Q99M02_LVQFDTSMK_2</th><th style = \"text-align: left;\">Q99M02_QLQQVGTVSK_2</th></tr><tr class = \"subheader headerLastRow\"><th class = \"rowNumber\" style = \"font-weight: bold; text-align: right;\"></th><th title = \"String7\" style = \"text-align: left;\">String7</th><th title = \"Int64\" style = \"text-align: left;\">Int64</th><th title = \"Float64\" style = \"text-align: left;\">Float64</th><th title = \"Float64\" style = \"text-align: left;\">Float64</th><th title = \"Float64\" style = \"text-align: left;\">Float64</th><th title = \"Float64\" style = \"text-align: left;\">Float64</th><th title = \"Float64\" style = \"text-align: left;\">Float64</th><th title = \"Float64\" style = \"text-align: left;\">Float64</th><th title = \"Float64\" style = \"text-align: left;\">Float64</th><th title = \"Float64\" style = \"text-align: left;\">Float64</th></tr></thead><tbody><tr><td class = \"rowNumber\" style = \"font-weight: bold; text-align: right;\">1</td><td style = \"text-align: left;\">BXD9</td><td style = \"text-align: right;\">4</td><td style = \"text-align: right;\">11.5968</td><td style = \"text-align: right;\">11.3575</td><td style = \"text-align: right;\">17.6545</td><td style = \"text-align: right;\">17.4327</td><td style = \"text-align: right;\">17.384</td><td style = \"text-align: right;\">16.6528</td><td style = \"text-align: right;\">16.2222</td><td style = \"text-align: right;\">16.3227</td></tr><tr><td class = \"rowNumber\" style = \"font-weight: bold; text-align: right;\">2</td><td style = \"text-align: left;\">BXD13</td><td style = \"text-align: right;\">1</td><td style = \"text-align: right;\">11.687</td><td style = \"text-align: right;\">11.524</td><td style = \"text-align: right;\">17.362</td><td style = \"text-align: right;\">17.367</td><td style = \"text-align: right;\">17.071</td><td style = \"text-align: right;\">16.465</td><td style = \"text-align: right;\">15.97</td><td style = \"text-align: right;\">15.98</td></tr><tr><td class = \"rowNumber\" style = \"font-weight: bold; text-align: right;\">3</td><td style = \"text-align: left;\">BXD24</td><td style = \"text-align: right;\">5</td><td style = \"text-align: right;\">12.0778</td><td style = \"text-align: right;\">11.7458</td><td style = \"text-align: right;\">17.7926</td><td style = \"text-align: right;\">17.8152</td><td style = \"text-align: right;\">17.5168</td><td style = \"text-align: right;\">16.9196</td><td style = \"text-align: right;\">16.3012</td><td style = \"text-align: right;\">16.4304</td></tr><tr><td class = \"rowNumber\" style = \"font-weight: bold; text-align: right;\">4</td><td style = \"text-align: left;\">BXD27</td><td style = \"text-align: right;\">3</td><td style = \"text-align: right;\">11.717</td><td style = \"text-align: right;\">11.149</td><td style = \"text-align: right;\">17.336</td><td style = \"text-align: right;\">17.3143</td><td style = \"text-align: right;\">17.165</td><td style = \"text-align: right;\">16.5283</td><td style = \"text-align: right;\">15.9407</td><td style = \"text-align: right;\">16.002</td></tr><tr><td class = \"rowNumber\" style = \"font-weight: bold; text-align: right;\">5</td><td style = \"text-align: left;\">BXD29</td><td style = \"text-align: right;\">11</td><td style = \"text-align: right;\">11.735</td><td style = \"text-align: right;\">11.3496</td><td style = \"text-align: right;\">17.4583</td><td style = \"text-align: right;\">17.3877</td><td style = \"text-align: right;\">17.2431</td><td style = \"text-align: right;\">16.4945</td><td style = \"text-align: right;\">16.0869</td><td style = \"text-align: right;\">16.1075</td></tr><tr><td class = \"rowNumber\" style = \"font-weight: bold; text-align: right;\">6</td><td style = \"text-align: left;\">BXD32</td><td style = \"text-align: right;\">8</td><td style = \"text-align: right;\">11.6266</td><td style = \"text-align: right;\">11.554</td><td style = \"text-align: right;\">17.8254</td><td style = \"text-align: right;\">17.7716</td><td style = \"text-align: right;\">17.4639</td><td style = \"text-align: right;\">16.9029</td><td style = \"text-align: right;\">16.434</td><td style = \"text-align: right;\">16.425</td></tr><tr><td class = \"rowNumber\" style = \"font-weight: bold; text-align: right;\">7</td><td style = \"text-align: left;\">BXD34</td><td style = \"text-align: right;\">13</td><td style = \"text-align: right;\">11.7491</td><td style = \"text-align: right;\">11.9135</td><td style = \"text-align: right;\">17.6108</td><td style = \"text-align: right;\">17.5974</td><td style = \"text-align: right;\">17.2988</td><td style = \"text-align: right;\">16.7761</td><td style = \"text-align: right;\">16.3147</td><td style = \"text-align: right;\">16.2926</td></tr><tr><td class = \"rowNumber\" style = \"font-weight: bold; text-align: right;\">8</td><td style = \"text-align: left;\">BXD39</td><td style = \"text-align: right;\">5</td><td style = \"text-align: right;\">11.9158</td><td style = \"text-align: right;\">11.719</td><td style = \"text-align: right;\">17.395</td><td style = \"text-align: right;\">17.385</td><td style = \"text-align: right;\">17.157</td><td style = \"text-align: right;\">16.5226</td><td style = \"text-align: right;\">16.179</td><td style = \"text-align: right;\">16.0594</td></tr><tr><td class = \"rowNumber\" style = \"font-weight: bold; text-align: right;\">9</td><td style = \"text-align: left;\">BXD40</td><td style = \"text-align: right;\">8</td><td style = \"text-align: right;\">11.8651</td><td style = \"text-align: right;\">11.6817</td><td style = \"text-align: right;\">17.5986</td><td style = \"text-align: right;\">17.6386</td><td style = \"text-align: right;\">17.3861</td><td style = \"text-align: right;\">16.6824</td><td style = \"text-align: right;\">16.2855</td><td style = \"text-align: right;\">16.2523</td></tr><tr><td class = \"rowNumber\" style = \"font-weight: bold; text-align: right;\">10</td><td style = \"text-align: left;\">BXD43</td><td style = \"text-align: right;\">4</td><td style = \"text-align: right;\">12.378</td><td style = \"text-align: right;\">11.4563</td><td style = \"text-align: right;\">17.76</td><td style = \"text-align: right;\">17.8035</td><td style = \"text-align: right;\">17.3652</td><td style = \"text-align: right;\">16.885</td><td style = \"text-align: right;\">16.5245</td><td style = \"text-align: right;\">16.3532</td></tr></tbody></table></div>"
      ],
      "text/latex": [
       "\\begin{tabular}{r|cccccc}\n",
       "\t& Strain & Number of Samples & P42209\\_DESGLNRK\\_2 & P42209\\_GLRPLDVAFLR\\_3 & Q99M02\\_VGDPVYR\\_2 & \\\\\n",
       "\t\\hline\n",
       "\t& String7 & Int64 & Float64 & Float64 & Float64 & \\\\\n",
       "\t\\hline\n",
       "\t1 & BXD9 & 4 & 11.5968 & 11.3575 & 17.6545 & $\\dots$ \\\\\n",
       "\t2 & BXD13 & 1 & 11.687 & 11.524 & 17.362 & $\\dots$ \\\\\n",
       "\t3 & BXD24 & 5 & 12.0778 & 11.7458 & 17.7926 & $\\dots$ \\\\\n",
       "\t4 & BXD27 & 3 & 11.717 & 11.149 & 17.336 & $\\dots$ \\\\\n",
       "\t5 & BXD29 & 11 & 11.735 & 11.3496 & 17.4583 & $\\dots$ \\\\\n",
       "\t6 & BXD32 & 8 & 11.6266 & 11.554 & 17.8254 & $\\dots$ \\\\\n",
       "\t7 & BXD34 & 13 & 11.7491 & 11.9135 & 17.6108 & $\\dots$ \\\\\n",
       "\t8 & BXD39 & 5 & 11.9158 & 11.719 & 17.395 & $\\dots$ \\\\\n",
       "\t9 & BXD40 & 8 & 11.8651 & 11.6817 & 17.5986 & $\\dots$ \\\\\n",
       "\t10 & BXD43 & 4 & 12.378 & 11.4563 & 17.76 & $\\dots$ \\\\\n",
       "\\end{tabular}\n"
      ],
      "text/plain": [
       "\u001b[1m10×10 DataFrame\u001b[0m\n",
       "\u001b[1m Row \u001b[0m│\u001b[1m Strain  \u001b[0m\u001b[1m Number of Samples \u001b[0m\u001b[1m P42209_DESGLNRK_2 \u001b[0m\u001b[1m P42209_GLRPLDVAFLR_3 \u001b[0m\u001b[1m Q9\u001b[0m ⋯\n",
       "     │\u001b[90m String7 \u001b[0m\u001b[90m Int64             \u001b[0m\u001b[90m Float64           \u001b[0m\u001b[90m Float64              \u001b[0m\u001b[90m Fl\u001b[0m ⋯\n",
       "─────┼──────────────────────────────────────────────────────────────────────────\n",
       "   1 │ BXD9                     4            11.5968               11.3575     ⋯\n",
       "   2 │ BXD13                    1            11.687                11.524\n",
       "   3 │ BXD24                    5            12.0778               11.7458\n",
       "   4 │ BXD27                    3            11.717                11.149\n",
       "   5 │ BXD29                   11            11.735                11.3496     ⋯\n",
       "   6 │ BXD32                    8            11.6266               11.554\n",
       "   7 │ BXD34                   13            11.7491               11.9135\n",
       "   8 │ BXD39                    5            11.9158               11.719\n",
       "   9 │ BXD40                    8            11.8651               11.6817     ⋯\n",
       "  10 │ BXD43                    4            12.378                11.4563\n",
       "\u001b[36m                                                               6 columns omitted\u001b[0m"
      ]
     },
     "execution_count": 9,
     "metadata": {},
     "output_type": "execute_result"
    }
   ],
   "source": [
    "println(size(BXD_pheno_strains_summary_df)) \n",
    "BXD_pheno_strains_summary_df[1:10, 1:10]"
   ]
  },
  {
   "cell_type": "code",
   "execution_count": 10,
   "id": "c9e172db-b395-4c04-9c4c-429e8ce5b677",
   "metadata": {},
   "outputs": [],
   "source": [
    "BXD_geno_strains_summary_df = CSV.read(\"data/GN886_geno_strains_summary.csv\", DataFrame);"
   ]
  },
  {
   "cell_type": "markdown",
   "id": "e606034c-1af9-4dad-a88d-07f4cc67be19",
   "metadata": {},
   "source": [
    "By strains, there are 50 BXD strains for 7321 markers."
   ]
  },
  {
   "cell_type": "code",
   "execution_count": 11,
   "id": "324c16c7-5a68-44a5-abe6-b098bf1526a9",
   "metadata": {},
   "outputs": [
    {
     "name": "stdout",
     "output_type": "stream",
     "text": [
      "(50, 7322)\n"
     ]
    },
    {
     "data": {
      "text/html": [
       "<div><div style = \"float: left;\"><span>10×10 DataFrame</span></div><div style = \"clear: both;\"></div></div><div class = \"data-frame\" style = \"overflow-x: scroll;\"><table class = \"data-frame\" style = \"margin-bottom: 6px;\"><thead><tr class = \"header\"><th class = \"rowNumber\" style = \"font-weight: bold; text-align: right;\">Row</th><th style = \"text-align: left;\">Strain</th><th style = \"text-align: left;\">rs31443144</th><th style = \"text-align: left;\">rs6269442</th><th style = \"text-align: left;\">rs32285189</th><th style = \"text-align: left;\">rs258367496</th><th style = \"text-align: left;\">rs32430919</th><th style = \"text-align: left;\">rs36251697</th><th style = \"text-align: left;\">rs30658298</th><th style = \"text-align: left;\">rs51852623</th><th style = \"text-align: left;\">rs31879829</th></tr><tr class = \"subheader headerLastRow\"><th class = \"rowNumber\" style = \"font-weight: bold; text-align: right;\"></th><th title = \"String7\" style = \"text-align: left;\">String7</th><th title = \"Float64\" style = \"text-align: left;\">Float64</th><th title = \"Float64\" style = \"text-align: left;\">Float64</th><th title = \"Float64\" style = \"text-align: left;\">Float64</th><th title = \"Float64\" style = \"text-align: left;\">Float64</th><th title = \"Float64\" style = \"text-align: left;\">Float64</th><th title = \"Float64\" style = \"text-align: left;\">Float64</th><th title = \"Float64\" style = \"text-align: left;\">Float64</th><th title = \"Float64\" style = \"text-align: left;\">Float64</th><th title = \"Float64\" style = \"text-align: left;\">Float64</th></tr></thead><tbody><tr><td class = \"rowNumber\" style = \"font-weight: bold; text-align: right;\">1</td><td style = \"text-align: left;\">BXD9</td><td style = \"text-align: right;\">0.0</td><td style = \"text-align: right;\">0.0</td><td style = \"text-align: right;\">0.0</td><td style = \"text-align: right;\">0.0</td><td style = \"text-align: right;\">0.0</td><td style = \"text-align: right;\">0.0</td><td style = \"text-align: right;\">0.0</td><td style = \"text-align: right;\">0.0</td><td style = \"text-align: right;\">0.0</td></tr><tr><td class = \"rowNumber\" style = \"font-weight: bold; text-align: right;\">2</td><td style = \"text-align: left;\">BXD13</td><td style = \"text-align: right;\">0.0</td><td style = \"text-align: right;\">0.0</td><td style = \"text-align: right;\">0.0</td><td style = \"text-align: right;\">0.0</td><td style = \"text-align: right;\">0.0</td><td style = \"text-align: right;\">0.0</td><td style = \"text-align: right;\">0.0</td><td style = \"text-align: right;\">0.0</td><td style = \"text-align: right;\">0.0</td></tr><tr><td class = \"rowNumber\" style = \"font-weight: bold; text-align: right;\">3</td><td style = \"text-align: left;\">BXD24</td><td style = \"text-align: right;\">0.0</td><td style = \"text-align: right;\">0.0</td><td style = \"text-align: right;\">0.0</td><td style = \"text-align: right;\">0.0</td><td style = \"text-align: right;\">0.0</td><td style = \"text-align: right;\">0.0</td><td style = \"text-align: right;\">0.0</td><td style = \"text-align: right;\">0.0</td><td style = \"text-align: right;\">0.0</td></tr><tr><td class = \"rowNumber\" style = \"font-weight: bold; text-align: right;\">4</td><td style = \"text-align: left;\">BXD27</td><td style = \"text-align: right;\">0.0</td><td style = \"text-align: right;\">0.0</td><td style = \"text-align: right;\">0.0</td><td style = \"text-align: right;\">0.0</td><td style = \"text-align: right;\">0.0</td><td style = \"text-align: right;\">0.0</td><td style = \"text-align: right;\">0.0</td><td style = \"text-align: right;\">0.0</td><td style = \"text-align: right;\">0.0</td></tr><tr><td class = \"rowNumber\" style = \"font-weight: bold; text-align: right;\">5</td><td style = \"text-align: left;\">BXD29</td><td style = \"text-align: right;\">1.0</td><td style = \"text-align: right;\">1.0</td><td style = \"text-align: right;\">1.0</td><td style = \"text-align: right;\">1.0</td><td style = \"text-align: right;\">1.0</td><td style = \"text-align: right;\">1.0</td><td style = \"text-align: right;\">1.0</td><td style = \"text-align: right;\">1.0</td><td style = \"text-align: right;\">1.0</td></tr><tr><td class = \"rowNumber\" style = \"font-weight: bold; text-align: right;\">6</td><td style = \"text-align: left;\">BXD32</td><td style = \"text-align: right;\">0.0</td><td style = \"text-align: right;\">0.0</td><td style = \"text-align: right;\">0.0</td><td style = \"text-align: right;\">0.0</td><td style = \"text-align: right;\">0.0</td><td style = \"text-align: right;\">0.0</td><td style = \"text-align: right;\">0.0</td><td style = \"text-align: right;\">0.0</td><td style = \"text-align: right;\">0.0</td></tr><tr><td class = \"rowNumber\" style = \"font-weight: bold; text-align: right;\">7</td><td style = \"text-align: left;\">BXD34</td><td style = \"text-align: right;\">0.0</td><td style = \"text-align: right;\">0.0</td><td style = \"text-align: right;\">0.0</td><td style = \"text-align: right;\">0.0</td><td style = \"text-align: right;\">0.0</td><td style = \"text-align: right;\">0.0</td><td style = \"text-align: right;\">0.0</td><td style = \"text-align: right;\">0.0</td><td style = \"text-align: right;\">0.0</td></tr><tr><td class = \"rowNumber\" style = \"font-weight: bold; text-align: right;\">8</td><td style = \"text-align: left;\">BXD39</td><td style = \"text-align: right;\">1.0</td><td style = \"text-align: right;\">1.0</td><td style = \"text-align: right;\">1.0</td><td style = \"text-align: right;\">1.0</td><td style = \"text-align: right;\">1.0</td><td style = \"text-align: right;\">1.0</td><td style = \"text-align: right;\">1.0</td><td style = \"text-align: right;\">1.0</td><td style = \"text-align: right;\">1.0</td></tr><tr><td class = \"rowNumber\" style = \"font-weight: bold; text-align: right;\">9</td><td style = \"text-align: left;\">BXD40</td><td style = \"text-align: right;\">0.0</td><td style = \"text-align: right;\">0.0</td><td style = \"text-align: right;\">0.0</td><td style = \"text-align: right;\">0.0</td><td style = \"text-align: right;\">0.0</td><td style = \"text-align: right;\">0.0</td><td style = \"text-align: right;\">0.0</td><td style = \"text-align: right;\">0.0</td><td style = \"text-align: right;\">0.0</td></tr><tr><td class = \"rowNumber\" style = \"font-weight: bold; text-align: right;\">10</td><td style = \"text-align: left;\">BXD43</td><td style = \"text-align: right;\">0.0</td><td style = \"text-align: right;\">0.0</td><td style = \"text-align: right;\">0.0</td><td style = \"text-align: right;\">0.0</td><td style = \"text-align: right;\">0.0</td><td style = \"text-align: right;\">0.0</td><td style = \"text-align: right;\">0.0</td><td style = \"text-align: right;\">0.0</td><td style = \"text-align: right;\">0.0</td></tr></tbody></table></div>"
      ],
      "text/latex": [
       "\\begin{tabular}{r|cccccccc}\n",
       "\t& Strain & rs31443144 & rs6269442 & rs32285189 & rs258367496 & rs32430919 & rs36251697 & \\\\\n",
       "\t\\hline\n",
       "\t& String7 & Float64 & Float64 & Float64 & Float64 & Float64 & Float64 & \\\\\n",
       "\t\\hline\n",
       "\t1 & BXD9 & 0.0 & 0.0 & 0.0 & 0.0 & 0.0 & 0.0 & $\\dots$ \\\\\n",
       "\t2 & BXD13 & 0.0 & 0.0 & 0.0 & 0.0 & 0.0 & 0.0 & $\\dots$ \\\\\n",
       "\t3 & BXD24 & 0.0 & 0.0 & 0.0 & 0.0 & 0.0 & 0.0 & $\\dots$ \\\\\n",
       "\t4 & BXD27 & 0.0 & 0.0 & 0.0 & 0.0 & 0.0 & 0.0 & $\\dots$ \\\\\n",
       "\t5 & BXD29 & 1.0 & 1.0 & 1.0 & 1.0 & 1.0 & 1.0 & $\\dots$ \\\\\n",
       "\t6 & BXD32 & 0.0 & 0.0 & 0.0 & 0.0 & 0.0 & 0.0 & $\\dots$ \\\\\n",
       "\t7 & BXD34 & 0.0 & 0.0 & 0.0 & 0.0 & 0.0 & 0.0 & $\\dots$ \\\\\n",
       "\t8 & BXD39 & 1.0 & 1.0 & 1.0 & 1.0 & 1.0 & 1.0 & $\\dots$ \\\\\n",
       "\t9 & BXD40 & 0.0 & 0.0 & 0.0 & 0.0 & 0.0 & 0.0 & $\\dots$ \\\\\n",
       "\t10 & BXD43 & 0.0 & 0.0 & 0.0 & 0.0 & 0.0 & 0.0 & $\\dots$ \\\\\n",
       "\\end{tabular}\n"
      ],
      "text/plain": [
       "\u001b[1m10×10 DataFrame\u001b[0m\n",
       "\u001b[1m Row \u001b[0m│\u001b[1m Strain  \u001b[0m\u001b[1m rs31443144 \u001b[0m\u001b[1m rs6269442 \u001b[0m\u001b[1m rs32285189 \u001b[0m\u001b[1m rs258367496 \u001b[0m\u001b[1m rs32430919 \u001b[0m\u001b[1m rs\u001b[0m ⋯\n",
       "     │\u001b[90m String7 \u001b[0m\u001b[90m Float64    \u001b[0m\u001b[90m Float64   \u001b[0m\u001b[90m Float64    \u001b[0m\u001b[90m Float64     \u001b[0m\u001b[90m Float64    \u001b[0m\u001b[90m Fl\u001b[0m ⋯\n",
       "─────┼──────────────────────────────────────────────────────────────────────────\n",
       "   1 │ BXD9            0.0        0.0         0.0          0.0         0.0     ⋯\n",
       "   2 │ BXD13           0.0        0.0         0.0          0.0         0.0\n",
       "   3 │ BXD24           0.0        0.0         0.0          0.0         0.0\n",
       "   4 │ BXD27           0.0        0.0         0.0          0.0         0.0\n",
       "   5 │ BXD29           1.0        1.0         1.0          1.0         1.0     ⋯\n",
       "   6 │ BXD32           0.0        0.0         0.0          0.0         0.0\n",
       "   7 │ BXD34           0.0        0.0         0.0          0.0         0.0\n",
       "   8 │ BXD39           1.0        1.0         1.0          1.0         1.0\n",
       "   9 │ BXD40           0.0        0.0         0.0          0.0         0.0     ⋯\n",
       "  10 │ BXD43           0.0        0.0         0.0          0.0         0.0\n",
       "\u001b[36m                                                               4 columns omitted\u001b[0m"
      ]
     },
     "execution_count": 11,
     "metadata": {},
     "output_type": "execute_result"
    }
   ],
   "source": [
    "println(size(BXD_geno_strains_summary_df)) \n",
    "BXD_geno_strains_summary_df[1:10, 1:10]"
   ]
  },
  {
   "cell_type": "markdown",
   "id": "3e0e8473-c29a-42c3-a47f-a2748cd4f5d7",
   "metadata": {},
   "source": [
    "## Load functions:"
   ]
  },
  {
   "cell_type": "code",
   "execution_count": 12,
   "id": "f04bb842-e79c-4ec0-9d62-d7b944e6f665",
   "metadata": {},
   "outputs": [],
   "source": [
    "include(joinpath(local_path, \"kinship.jl\"));\n",
    "include(joinpath(local_path, \"util.jl\"));\n",
    "include(joinpath(local_path, \"wls.jl\"));\n",
    "include(joinpath(local_path, \"lmm.jl\"));\n",
    "include(joinpath(local_path, \"transform_helpers.jl\"));\n",
    "include(joinpath(local_path, \"scan.jl\"));\n",
    "include(joinpath(local_path, \"bulkscan_helpers.jl\"));\n",
    "include(joinpath(local_path, \"bulkscan.jl\"));"
   ]
  },
  {
   "cell_type": "markdown",
   "id": "3fe2c576-b753-4832-810f-24f196d05587",
   "metadata": {},
   "source": [
    "## Run BulkLMM.jl:"
   ]
  },
  {
   "cell_type": "markdown",
   "id": "b21044d7-08fc-454d-9528-e1271634033d",
   "metadata": {},
   "source": [
    "### Calculate kinship:"
   ]
  },
  {
   "cell_type": "markdown",
   "id": "02df590a-330c-42cd-9683-a3ba1ff991fc",
   "metadata": {},
   "source": [
    "First, calculate the kinship matrix of relatedness among the strains (50-by-50):"
   ]
  },
  {
   "cell_type": "code",
   "execution_count": 13,
   "id": "18e76163-3e2a-40b3-b934-7ee1c9329887",
   "metadata": {},
   "outputs": [],
   "source": [
    "geno_strains = Matrix{Float64}(BXD_geno_strains_summary_df[:, 2:end]);"
   ]
  },
  {
   "cell_type": "code",
   "execution_count": 14,
   "id": "dd7d6569-ee12-4e1f-8fa4-df06d5c62ff8",
   "metadata": {},
   "outputs": [],
   "source": [
    "kinship_strains = calcKinship(geno_strains);"
   ]
  },
  {
   "cell_type": "markdown",
   "id": "e11b6c48-a575-4948-86bf-5e40d01b79c6",
   "metadata": {},
   "source": [
    "Then, construct the kinship matrix of relatedness among the individuals based on which strain they are from:"
   ]
  },
  {
   "cell_type": "code",
   "execution_count": 15,
   "id": "cfcf52f0-8c4a-4a39-83be-9955101cc419",
   "metadata": {},
   "outputs": [
    {
     "data": {
      "text/plain": [
       "calcRepeats (generic function with 1 method)"
      ]
     },
     "execution_count": 15,
     "metadata": {},
     "output_type": "execute_result"
    }
   ],
   "source": [
    "function calcRepeats(x::Array{Int64, 1})\n",
    "    \n",
    "    counting_dict = Dict{Int64, Int64}();\n",
    "    \n",
    "    for i in 1:length(x)\n",
    "        curr_key = x[i];\n",
    "        if haskey(counting_dict, curr_key) # if current key already exists\n",
    "            counting_dict[curr_key] += 1;\n",
    "        else # if current key does not present, add it as a new key\n",
    "            counting_dict[curr_key] = 1;\n",
    "        end\n",
    "    end\n",
    "    \n",
    "    return counting_dict\n",
    "    \n",
    "end"
   ]
  },
  {
   "cell_type": "code",
   "execution_count": 16,
   "id": "a22c5899-227f-44e8-872b-0fb90953fd4b",
   "metadata": {},
   "outputs": [
    {
     "data": {
      "text/plain": [
       "calcIndKinship_from_StrainKinship (generic function with 1 method)"
      ]
     },
     "execution_count": 16,
     "metadata": {},
     "output_type": "execute_result"
    }
   ],
   "source": [
    "function calcIndKinship_from_StrainKinship(kinship_strains::Array{Float64, 2}, \n",
    "                                           strain_info_about_samples::Array{Int64, 1})\n",
    "    \n",
    "    counting_dict = calcRepeats(strain_info_about_samples);\n",
    "    reps_each_strain = map(x -> counting_dict[x], unique(strain_info_about_samples));\n",
    "    \n",
    "    # Initialize the placeholder:\n",
    "    kinship_ind_from_strains = ones(sum(reps_each_strain), sum(reps_each_strain));\n",
    "\n",
    "    # process the first BXD strain...\n",
    "    reps_strain_1 = reps_each_strain[1];\n",
    "    k_11 = kinship_strains[1, 1];\n",
    "    # block_11 = ones(reps_strain_1, reps_strain_1);\n",
    "\n",
    "    row_id = 0;\n",
    "    col_id = 0;\n",
    "\n",
    "    @views kinship_ind_from_strains[(row_id+1):(row_id+reps_strain_1), \n",
    "                             (row_id+1):(row_id+reps_strain_1)] .*= k_11;\n",
    "\n",
    "    for j in 2:length(reps_each_strain)\n",
    "        reps_strain_j = reps_each_strain[j];\n",
    "        k_1j = kinship_strains[1, j];\n",
    "        # block_1j = ones(reps_strain_1, reps_strain_j);\n",
    "\n",
    "        col_id += reps_each_strain[j-1];\n",
    "        @views kinship_ind_from_strains[(row_id+1):(row_id+reps_strain_1), \n",
    "                                 (col_id+1):(col_id+reps_strain_j)] .*= k_1j;\n",
    "\n",
    "        # process the off-diagonal block conveniently...\n",
    "        # block_j1 = ones(reps_strain_j, reps_strain_1);\n",
    "        kinship_ind_from_strains[(col_id+1):(col_id+reps_strain_j),\n",
    "                                 (row_id+1):(row_id+reps_strain_1)] .*= k_1j;\n",
    "\n",
    "    end\n",
    "\n",
    "    # process for the second BXD strain and all after...\n",
    "    # for i in 2:length(reps_each_strain)\n",
    "    for i in 2:length(reps_each_strain)\n",
    "\n",
    "        reps_strain_i = reps_each_strain[i];\n",
    "        k_ii = kinship_strains[i, i];\n",
    "        # block_ii = ones(reps_strain_i, reps_strain_i);\n",
    "\n",
    "        row_id += reps_each_strain[i-1];\n",
    "        @views kinship_ind_from_strains[(row_id+1):(row_id+reps_strain_i), \n",
    "                                 (row_id+1):(row_id+reps_strain_i)] .*= k_ii;\n",
    "\n",
    "        col_id = row_id+reps_strain_i;\n",
    "\n",
    "        for j in (i+1):length(reps_each_strain)\n",
    "\n",
    "            reps_strain_j = reps_each_strain[j];\n",
    "            k_ij = kinship_strains[i, j];\n",
    "            # block_ij = ones(reps_strain_i, reps_strain_j);\n",
    "\n",
    "            @views kinship_ind_from_strains[(row_id+1):(row_id+reps_strain_i), \n",
    "                                     (col_id+1):(col_id+reps_strain_j)] .*= k_ij;\n",
    "\n",
    "            # process the off-diagonal block conveniently...\n",
    "            # block_ji = ones(reps_strain_j, reps_strain_i);\n",
    "            @views kinship_ind_from_strains[(col_id+1):(col_id+reps_strain_j),\n",
    "                                     (row_id+1):(row_id+reps_strain_i)] .*= k_ij;\n",
    "\n",
    "            col_id += reps_each_strain[j];\n",
    "        end\n",
    "    \n",
    "    end\n",
    "    \n",
    "    return kinship_ind_from_strains\n",
    "end"
   ]
  },
  {
   "cell_type": "code",
   "execution_count": 17,
   "id": "1627ff49-f03c-4f7c-95bb-647d9bec26dc",
   "metadata": {},
   "outputs": [],
   "source": [
    "BXD_geno_ind_summary_df.Strain_num = Vector{Int64}(BXD_geno_ind_summary_df.Strain_num);"
   ]
  },
  {
   "cell_type": "code",
   "execution_count": 18,
   "id": "ed61c75f-c283-49fd-acde-30b083d1743b",
   "metadata": {},
   "outputs": [
    {
     "name": "stdout",
     "output_type": "stream",
     "text": [
      "  0.000247 seconds (76 allocations: 503.766 KiB)\n"
     ]
    }
   ],
   "source": [
    "@time kinship_ind_from_strains = calcIndKinship_from_StrainKinship(kinship_strains, BXD_geno_ind_summary_df.Strain_num);"
   ]
  },
  {
   "cell_type": "markdown",
   "id": "c5e77a37-855e-4143-941c-1bd5164b84a7",
   "metadata": {},
   "source": [
    "Compare the runtime with directly calculating the kinship matrix from individual genotype data:"
   ]
  },
  {
   "cell_type": "code",
   "execution_count": 19,
   "id": "d5f97779-e35c-4373-91ae-b9f003c5c280",
   "metadata": {},
   "outputs": [],
   "source": [
    "geno_ind = Matrix{Float64}(BXD_geno_ind_summary_df[:, 4:end]);"
   ]
  },
  {
   "cell_type": "code",
   "execution_count": 20,
   "id": "0306cc96-a8d2-4cbd-a7af-539ee488c70f",
   "metadata": {},
   "outputs": [
    {
     "name": "stdout",
     "output_type": "stream",
     "text": [
      "  3.248548 seconds (306.28 k allocations: 8.368 GiB, 5.65% gc time)\n"
     ]
    }
   ],
   "source": [
    "@time kinship_ind_from_ind = calcKinship(geno_ind);"
   ]
  },
  {
   "cell_type": "code",
   "execution_count": 21,
   "id": "cfe9f696-f089-4865-a081-a5dd95d5c87e",
   "metadata": {},
   "outputs": [
    {
     "data": {
      "text/plain": [
       "0.04186586531894554"
      ]
     },
     "execution_count": 21,
     "metadata": {},
     "output_type": "execute_result"
    }
   ],
   "source": [
    "maximum(abs.(kinship_ind_from_ind .- kinship_ind_from_strains))"
   ]
  },
  {
   "cell_type": "markdown",
   "id": "19b9c567-b404-429c-a3a6-6053ffec44d4",
   "metadata": {},
   "source": [
    "### Single-trait genome scans:"
   ]
  },
  {
   "cell_type": "markdown",
   "id": "bcbd89b9-2ad3-40a8-8e8d-81512875debb",
   "metadata": {},
   "source": [
    "To see single trait genome scan results, we take the 7512-th livear proteomic as the single trait to run analysis:  "
   ]
  },
  {
   "cell_type": "code",
   "execution_count": 22,
   "id": "547fc3eb-99e8-43b7-a7dd-bb0d3073b3b5",
   "metadata": {},
   "outputs": [],
   "source": [
    "lp_names = names(BXD_pheno_ind_summary_df)[4:end];"
   ]
  },
  {
   "cell_type": "code",
   "execution_count": 23,
   "id": "07a1bf7c-d333-4826-ab63-513f87006589",
   "metadata": {},
   "outputs": [
    {
     "data": {
      "text/plain": [
       "\"P61924_VALRGEDVPLTEQTVSQVLQSAK_3\""
      ]
     },
     "execution_count": 23,
     "metadata": {},
     "output_type": "execute_result"
    }
   ],
   "source": [
    "lp_id = 7512;\n",
    "lp_names[lp_id]"
   ]
  },
  {
   "cell_type": "markdown",
   "id": "fb6aa497-38b0-4c8e-9582-c675019bfcfc",
   "metadata": {},
   "source": [
    "#### For individual liver proteome"
   ]
  },
  {
   "cell_type": "code",
   "execution_count": 24,
   "id": "f9e6bc67-fc56-47ae-aa0c-df73658709b0",
   "metadata": {},
   "outputs": [],
   "source": [
    "lp_ind_Y = Matrix{Float64}(BXD_pheno_ind_summary_df[:, 4:end]);\n",
    "lp_ind_y = reshape(lp_ind_Y[:, lp_id], :, 1);"
   ]
  },
  {
   "cell_type": "code",
   "execution_count": 25,
   "id": "fb383cb0-71d2-45ea-97ba-b5d685e69607",
   "metadata": {},
   "outputs": [
    {
     "name": "stdout",
     "output_type": "stream",
     "text": [
      "  0.249174 seconds (80.92 k allocations: 134.882 MiB, 23.16% gc time)\n"
     ]
    }
   ],
   "source": [
    "@time scan_results_ind = scan(lp_ind_y, geno_ind, kinship_ind_from_strains);"
   ]
  },
  {
   "cell_type": "code",
   "execution_count": 52,
   "id": "4eb97040-9b9d-4b6a-b8c1-b497f16cd24b",
   "metadata": {},
   "outputs": [
    {
     "name": "stdout",
     "output_type": "stream",
     "text": [
      "  0.075789 seconds (90.05 k allocations: 160.872 MiB)\n"
     ]
    }
   ],
   "source": [
    "@time scan_perms_results_ind = scan(lp_ind_y, geno_ind, kinship_ind_from_strains;\n",
    "                                    permutation_test = true, nperms = 1000, original = true);"
   ]
  },
  {
   "cell_type": "markdown",
   "id": "02074d3d-dfce-4b1d-a559-e03508615ca3",
   "metadata": {},
   "source": [
    "#### For liver proteome means by strains"
   ]
  },
  {
   "cell_type": "code",
   "execution_count": 27,
   "id": "4b51bafb-a1de-41c5-9f0d-b708b4972cdb",
   "metadata": {},
   "outputs": [],
   "source": [
    "lp_strains_Y = Matrix{Float64}(BXD_pheno_strains_summary_df[:, 3:end]);\n",
    "lp_strains_y = reshape(lp_strains_Y[:, lp_id], :, 1);"
   ]
  },
  {
   "cell_type": "code",
   "execution_count": 28,
   "id": "8d181cef-df57-4e17-b4bc-f7c6a8a41d2f",
   "metadata": {},
   "outputs": [
    {
     "name": "stdout",
     "output_type": "stream",
     "text": [
      "  0.051220 seconds (82.15 k allocations: 32.632 MiB)\n"
     ]
    }
   ],
   "source": [
    "@time scan_results_strains = scan(lp_strains_y, geno_strains, kinship_strains);"
   ]
  },
  {
   "cell_type": "code",
   "execution_count": 53,
   "id": "f7e7ec8e-7352-4fef-a22c-d61e90fbae53",
   "metadata": {},
   "outputs": [
    {
     "name": "stdout",
     "output_type": "stream",
     "text": [
      "  0.029077 seconds (91.29 k allocations: 79.023 MiB)\n"
     ]
    }
   ],
   "source": [
    "@time scan_perms_results_strains = scan(lp_strains_y, geno_strains, kinship_strains;\n",
    "                                        permutation_test = true, nperms = 1000, original = true);"
   ]
  },
  {
   "cell_type": "markdown",
   "id": "e581b199-d92b-4b4a-950f-888df22eb3f2",
   "metadata": {},
   "source": [
    "### Multiple-trait genome scans:"
   ]
  },
  {
   "cell_type": "code",
   "execution_count": 30,
   "id": "cd08a07d-6a5c-45e0-a9a3-2aa199495c2a",
   "metadata": {},
   "outputs": [],
   "source": [
    "BLAS.set_num_threads(16)"
   ]
  },
  {
   "cell_type": "code",
   "execution_count": 31,
   "id": "e02cca07-1c96-4fa6-89a5-4582abc864f1",
   "metadata": {},
   "outputs": [
    {
     "data": {
      "text/plain": [
       "16"
      ]
     },
     "execution_count": 31,
     "metadata": {},
     "output_type": "execute_result"
    }
   ],
   "source": [
    "BLAS.get_num_threads()"
   ]
  },
  {
   "cell_type": "code",
   "execution_count": 32,
   "id": "bea4f61b-409c-47a7-a2ff-00c7acebe2f0",
   "metadata": {},
   "outputs": [],
   "source": [
    "grid_list = collect(0.0:0.05:0.95);"
   ]
  },
  {
   "cell_type": "markdown",
   "id": "15398327-2dcb-4168-8f30-a8bc4c3957ae",
   "metadata": {},
   "source": [
    "#### For individual liver proteome"
   ]
  },
  {
   "cell_type": "code",
   "execution_count": 33,
   "id": "3885674f-e06e-47fb-b0d7-5ca1e5cf027d",
   "metadata": {},
   "outputs": [
    {
     "data": {
      "text/plain": [
       "BenchmarkTools.Trial: 1 sample with 1 evaluation.\n",
       " Single result which took \u001b[34m5.227 s\u001b[39m (9.48% GC) to evaluate,\n",
       " with a memory estimate of \u001b[33m11.67 GiB\u001b[39m, over \u001b[33m10097567\u001b[39m allocations."
      ]
     },
     "execution_count": 33,
     "metadata": {},
     "output_type": "execute_result"
    }
   ],
   "source": [
    "@benchmark bulkscan_null_grid(lp_ind_Y, geno_ind, kinship_ind_from_strains, grid_list)"
   ]
  },
  {
   "cell_type": "code",
   "execution_count": 34,
   "id": "2a304cb3-24ef-483e-a3ee-9ac484b2c3fb",
   "metadata": {},
   "outputs": [
    {
     "name": "stdout",
     "output_type": "stream",
     "text": [
      "112.318204 seconds (2.60 G allocations: 1.813 TiB, 21.60% gc time, 0.06% compilation time)\n"
     ]
    }
   ],
   "source": [
    "@time bulkscan_results_null_grid_ind = bulkscan_null(lp_ind_Y, geno_ind, kinship_ind_from_strains; nb = 16);"
   ]
  },
  {
   "cell_type": "code",
   "execution_count": 35,
   "id": "0a73fb1d-8e91-4cc8-a227-236ceda8f66b",
   "metadata": {},
   "outputs": [],
   "source": [
    "BLAS.set_num_threads(16)"
   ]
  },
  {
   "cell_type": "code",
   "execution_count": 36,
   "id": "44d2515c-83a5-419a-a1d1-5e9151ceacc2",
   "metadata": {},
   "outputs": [
    {
     "data": {
      "text/plain": [
       "BenchmarkTools.Trial: 1 sample with 1 evaluation.\n",
       " Single result which took \u001b[34m20.341 s\u001b[39m (3.65% GC) to evaluate,\n",
       " with a memory estimate of \u001b[33m41.84 GiB\u001b[39m, over \u001b[33m8691510\u001b[39m allocations."
      ]
     },
     "execution_count": 36,
     "metadata": {},
     "output_type": "execute_result"
    }
   ],
   "source": [
    "@benchmark bulkscan_alt_grid(lp_ind_Y, geno_ind, kinship_ind_from_strains, grid_list)"
   ]
  },
  {
   "cell_type": "code",
   "execution_count": 37,
   "id": "c8b20542-0959-472e-9ae8-df190723e01e",
   "metadata": {},
   "outputs": [
    {
     "name": "stdout",
     "output_type": "stream",
     "text": [
      "  5.360038 seconds (10.10 M allocations: 11.669 GiB, 2.57% gc time)\n"
     ]
    }
   ],
   "source": [
    "@time bulkscan_results_ind = bulkscan_null_grid(lp_ind_Y, geno_ind, kinship_ind_from_strains, grid_list);"
   ]
  },
  {
   "cell_type": "markdown",
   "id": "f69ba271-fe23-4764-9186-4167a256a964",
   "metadata": {},
   "source": [
    "#### For liver proteome means by strains"
   ]
  },
  {
   "cell_type": "code",
   "execution_count": 38,
   "id": "f9d834cd-44e1-4295-bfe8-f53f4d23e77e",
   "metadata": {},
   "outputs": [
    {
     "data": {
      "text/plain": [
       "BenchmarkTools.Trial: 2 samples with 1 evaluation.\n",
       " Range \u001b[90m(\u001b[39m\u001b[36m\u001b[1mmin\u001b[22m\u001b[39m … \u001b[35mmax\u001b[39m\u001b[90m):  \u001b[39m\u001b[36m\u001b[1m2.618 s\u001b[22m\u001b[39m … \u001b[35m  2.634 s\u001b[39m  \u001b[90m┊\u001b[39m GC \u001b[90m(\u001b[39mmin … max\u001b[90m): \u001b[39m4.52% … 4.66%\n",
       " Time  \u001b[90m(\u001b[39m\u001b[34m\u001b[1mmedian\u001b[22m\u001b[39m\u001b[90m):     \u001b[39m\u001b[34m\u001b[1m2.626 s              \u001b[22m\u001b[39m\u001b[90m┊\u001b[39m GC \u001b[90m(\u001b[39mmedian\u001b[90m):    \u001b[39m4.59%\n",
       " Time  \u001b[90m(\u001b[39m\u001b[32m\u001b[1mmean\u001b[22m\u001b[39m ± \u001b[32mσ\u001b[39m\u001b[90m):   \u001b[39m\u001b[32m\u001b[1m2.626 s\u001b[22m\u001b[39m ± \u001b[32m11.763 ms\u001b[39m  \u001b[90m┊\u001b[39m GC \u001b[90m(\u001b[39mmean ± σ\u001b[90m):  \u001b[39m4.59% ± 0.10%\n",
       "\n",
       "  \u001b[34m█\u001b[39m\u001b[39m \u001b[39m \u001b[39m \u001b[39m \u001b[39m \u001b[39m \u001b[39m \u001b[39m \u001b[39m \u001b[39m \u001b[39m \u001b[39m \u001b[39m \u001b[39m \u001b[39m \u001b[39m \u001b[39m \u001b[39m \u001b[39m \u001b[39m \u001b[39m \u001b[39m \u001b[39m \u001b[39m \u001b[39m \u001b[39m \u001b[39m \u001b[32m \u001b[39m\u001b[39m \u001b[39m \u001b[39m \u001b[39m \u001b[39m \u001b[39m \u001b[39m \u001b[39m \u001b[39m \u001b[39m \u001b[39m \u001b[39m \u001b[39m \u001b[39m \u001b[39m \u001b[39m \u001b[39m \u001b[39m \u001b[39m \u001b[39m \u001b[39m \u001b[39m \u001b[39m \u001b[39m \u001b[39m \u001b[39m \u001b[39m \u001b[39m█\u001b[39m \u001b[39m \n",
       "  \u001b[34m█\u001b[39m\u001b[39m▁\u001b[39m▁\u001b[39m▁\u001b[39m▁\u001b[39m▁\u001b[39m▁\u001b[39m▁\u001b[39m▁\u001b[39m▁\u001b[39m▁\u001b[39m▁\u001b[39m▁\u001b[39m▁\u001b[39m▁\u001b[39m▁\u001b[39m▁\u001b[39m▁\u001b[39m▁\u001b[39m▁\u001b[39m▁\u001b[39m▁\u001b[39m▁\u001b[39m▁\u001b[39m▁\u001b[39m▁\u001b[39m▁\u001b[39m▁\u001b[32m▁\u001b[39m\u001b[39m▁\u001b[39m▁\u001b[39m▁\u001b[39m▁\u001b[39m▁\u001b[39m▁\u001b[39m▁\u001b[39m▁\u001b[39m▁\u001b[39m▁\u001b[39m▁\u001b[39m▁\u001b[39m▁\u001b[39m▁\u001b[39m▁\u001b[39m▁\u001b[39m▁\u001b[39m▁\u001b[39m▁\u001b[39m▁\u001b[39m▁\u001b[39m▁\u001b[39m▁\u001b[39m▁\u001b[39m▁\u001b[39m▁\u001b[39m▁\u001b[39m█\u001b[39m \u001b[39m▁\n",
       "  2.62 s\u001b[90m         Histogram: frequency by time\u001b[39m        2.63 s \u001b[0m\u001b[1m<\u001b[22m\n",
       "\n",
       " Memory estimate\u001b[90m: \u001b[39m\u001b[33m5.30 GiB\u001b[39m, allocs estimate\u001b[90m: \u001b[39m\u001b[33m9474506\u001b[39m."
      ]
     },
     "execution_count": 38,
     "metadata": {},
     "output_type": "execute_result"
    }
   ],
   "source": [
    "@benchmark bulkscan_null_grid(lp_strains_Y, geno_strains, kinship_strains, grid_list)"
   ]
  },
  {
   "cell_type": "code",
   "execution_count": 54,
   "id": "f1d7f72c-5fd7-4135-94d0-7afaf3c8e396",
   "metadata": {},
   "outputs": [
    {
     "name": "stdout",
     "output_type": "stream",
     "text": [
      " 59.317759 seconds (2.61 G allocations: 434.463 GiB, 44.44% gc time)\n"
     ]
    }
   ],
   "source": [
    "@time bulkscan_results_null_grid_strains = bulkscan_null(lp_strains_Y, geno_strains, kinship_strains);"
   ]
  },
  {
   "cell_type": "code",
   "execution_count": 40,
   "id": "a1231e79-a93f-4fc7-8927-033d0dc5bf93",
   "metadata": {},
   "outputs": [],
   "source": [
    "BLAS.set_num_threads(16)"
   ]
  },
  {
   "cell_type": "code",
   "execution_count": 41,
   "id": "72a4ee75-e32b-4f97-b062-55afb687f85c",
   "metadata": {},
   "outputs": [
    {
     "data": {
      "text/plain": [
       "BenchmarkTools.Trial: 1 sample with 1 evaluation.\n",
       " Single result which took \u001b[34m13.761 s\u001b[39m (3.29% GC) to evaluate,\n",
       " with a memory estimate of \u001b[33m36.86 GiB\u001b[39m, over \u001b[33m8691548\u001b[39m allocations."
      ]
     },
     "execution_count": 41,
     "metadata": {},
     "output_type": "execute_result"
    }
   ],
   "source": [
    "@benchmark bulkscan_alt_grid(lp_strains_Y, geno_strains, kinship_strains, grid_list)"
   ]
  },
  {
   "cell_type": "code",
   "execution_count": 42,
   "id": "bd1ea493-2cc3-4e3c-9f4c-8faaf7cc10d2",
   "metadata": {},
   "outputs": [
    {
     "name": "stdout",
     "output_type": "stream",
     "text": [
      "  2.938197 seconds (9.47 M allocations: 5.301 GiB, 4.96% gc time)\n"
     ]
    }
   ],
   "source": [
    "@time bulkscan_results_strains = bulkscan_null_grid(lp_strains_Y, geno_strains, kinship_strains, grid_list);"
   ]
  },
  {
   "cell_type": "code",
   "execution_count": 43,
   "id": "6f7f7e72-6eac-462a-b3c5-90ceef423505",
   "metadata": {},
   "outputs": [
    {
     "data": {
      "text/plain": [
       "5.545009081338703e-16"
      ]
     },
     "execution_count": 43,
     "metadata": {},
     "output_type": "execute_result"
    }
   ],
   "source": [
    "scan_results_strains.h2_null"
   ]
  },
  {
   "cell_type": "code",
   "execution_count": 44,
   "id": "2e78b39c-a53f-4930-8d2d-5ee55f47b346",
   "metadata": {},
   "outputs": [
    {
     "data": {
      "text/html": [
       "<div><div style = \"float: left;\"><span>10×4 DataFrame</span></div><div style = \"clear: both;\"></div></div><div class = \"data-frame\" style = \"overflow-x: scroll;\"><table class = \"data-frame\" style = \"margin-bottom: 6px;\"><thead><tr class = \"header\"><th class = \"rowNumber\" style = \"font-weight: bold; text-align: right;\">Row</th><th style = \"text-align: left;\">LOD_ind</th><th style = \"text-align: left;\">LOD_strains</th><th style = \"text-align: left;\">LOD_ind_grid</th><th style = \"text-align: left;\">LOD_strains_grid</th></tr><tr class = \"subheader headerLastRow\"><th class = \"rowNumber\" style = \"font-weight: bold; text-align: right;\"></th><th title = \"Float64\" style = \"text-align: left;\">Float64</th><th title = \"Float64\" style = \"text-align: left;\">Float64</th><th title = \"Float64\" style = \"text-align: left;\">Float64</th><th title = \"Float64\" style = \"text-align: left;\">Float64</th></tr></thead><tbody><tr><td class = \"rowNumber\" style = \"font-weight: bold; text-align: right;\">1</td><td style = \"text-align: right;\">0.232074</td><td style = \"text-align: right;\">0.0175979</td><td style = \"text-align: right;\">0.232724</td><td style = \"text-align: right;\">0.0175979</td></tr><tr><td class = \"rowNumber\" style = \"font-weight: bold; text-align: right;\">2</td><td style = \"text-align: right;\">0.232074</td><td style = \"text-align: right;\">0.0175979</td><td style = \"text-align: right;\">0.232724</td><td style = \"text-align: right;\">0.0175979</td></tr><tr><td class = \"rowNumber\" style = \"font-weight: bold; text-align: right;\">3</td><td style = \"text-align: right;\">0.232074</td><td style = \"text-align: right;\">0.0175979</td><td style = \"text-align: right;\">0.232724</td><td style = \"text-align: right;\">0.0175979</td></tr><tr><td class = \"rowNumber\" style = \"font-weight: bold; text-align: right;\">4</td><td style = \"text-align: right;\">0.232074</td><td style = \"text-align: right;\">0.0175979</td><td style = \"text-align: right;\">0.232724</td><td style = \"text-align: right;\">0.0175979</td></tr><tr><td class = \"rowNumber\" style = \"font-weight: bold; text-align: right;\">5</td><td style = \"text-align: right;\">0.232074</td><td style = \"text-align: right;\">0.0175979</td><td style = \"text-align: right;\">0.232724</td><td style = \"text-align: right;\">0.0175979</td></tr><tr><td class = \"rowNumber\" style = \"font-weight: bold; text-align: right;\">6</td><td style = \"text-align: right;\">0.232074</td><td style = \"text-align: right;\">0.0175979</td><td style = \"text-align: right;\">0.232724</td><td style = \"text-align: right;\">0.0175979</td></tr><tr><td class = \"rowNumber\" style = \"font-weight: bold; text-align: right;\">7</td><td style = \"text-align: right;\">0.232074</td><td style = \"text-align: right;\">0.0175979</td><td style = \"text-align: right;\">0.232724</td><td style = \"text-align: right;\">0.0175979</td></tr><tr><td class = \"rowNumber\" style = \"font-weight: bold; text-align: right;\">8</td><td style = \"text-align: right;\">0.232074</td><td style = \"text-align: right;\">0.0175979</td><td style = \"text-align: right;\">0.232724</td><td style = \"text-align: right;\">0.0175979</td></tr><tr><td class = \"rowNumber\" style = \"font-weight: bold; text-align: right;\">9</td><td style = \"text-align: right;\">0.232074</td><td style = \"text-align: right;\">0.0175979</td><td style = \"text-align: right;\">0.232724</td><td style = \"text-align: right;\">0.0175979</td></tr><tr><td class = \"rowNumber\" style = \"font-weight: bold; text-align: right;\">10</td><td style = \"text-align: right;\">0.232074</td><td style = \"text-align: right;\">0.0175979</td><td style = \"text-align: right;\">0.232724</td><td style = \"text-align: right;\">0.0175979</td></tr></tbody></table></div>"
      ],
      "text/latex": [
       "\\begin{tabular}{r|cccc}\n",
       "\t& LOD\\_ind & LOD\\_strains & LOD\\_ind\\_grid & LOD\\_strains\\_grid\\\\\n",
       "\t\\hline\n",
       "\t& Float64 & Float64 & Float64 & Float64\\\\\n",
       "\t\\hline\n",
       "\t1 & 0.232074 & 0.0175979 & 0.232724 & 0.0175979 \\\\\n",
       "\t2 & 0.232074 & 0.0175979 & 0.232724 & 0.0175979 \\\\\n",
       "\t3 & 0.232074 & 0.0175979 & 0.232724 & 0.0175979 \\\\\n",
       "\t4 & 0.232074 & 0.0175979 & 0.232724 & 0.0175979 \\\\\n",
       "\t5 & 0.232074 & 0.0175979 & 0.232724 & 0.0175979 \\\\\n",
       "\t6 & 0.232074 & 0.0175979 & 0.232724 & 0.0175979 \\\\\n",
       "\t7 & 0.232074 & 0.0175979 & 0.232724 & 0.0175979 \\\\\n",
       "\t8 & 0.232074 & 0.0175979 & 0.232724 & 0.0175979 \\\\\n",
       "\t9 & 0.232074 & 0.0175979 & 0.232724 & 0.0175979 \\\\\n",
       "\t10 & 0.232074 & 0.0175979 & 0.232724 & 0.0175979 \\\\\n",
       "\\end{tabular}\n"
      ],
      "text/plain": [
       "\u001b[1m10×4 DataFrame\u001b[0m\n",
       "\u001b[1m Row \u001b[0m│\u001b[1m LOD_ind  \u001b[0m\u001b[1m LOD_strains \u001b[0m\u001b[1m LOD_ind_grid \u001b[0m\u001b[1m LOD_strains_grid \u001b[0m\n",
       "     │\u001b[90m Float64  \u001b[0m\u001b[90m Float64     \u001b[0m\u001b[90m Float64      \u001b[0m\u001b[90m Float64          \u001b[0m\n",
       "─────┼───────────────────────────────────────────────────────\n",
       "   1 │ 0.232074    0.0175979      0.232724         0.0175979\n",
       "   2 │ 0.232074    0.0175979      0.232724         0.0175979\n",
       "   3 │ 0.232074    0.0175979      0.232724         0.0175979\n",
       "   4 │ 0.232074    0.0175979      0.232724         0.0175979\n",
       "   5 │ 0.232074    0.0175979      0.232724         0.0175979\n",
       "   6 │ 0.232074    0.0175979      0.232724         0.0175979\n",
       "   7 │ 0.232074    0.0175979      0.232724         0.0175979\n",
       "   8 │ 0.232074    0.0175979      0.232724         0.0175979\n",
       "   9 │ 0.232074    0.0175979      0.232724         0.0175979\n",
       "  10 │ 0.232074    0.0175979      0.232724         0.0175979"
      ]
     },
     "execution_count": 44,
     "metadata": {},
     "output_type": "execute_result"
    }
   ],
   "source": [
    "hcat(scan_results_ind.lod, scan_results_strains.lod, \n",
    "     bulkscan_results_ind[3][:, lp_id], bulkscan_results_strains[3][:, lp_id]) |> \n",
    "(x -> DataFrame(x, [\"LOD_ind\", \"LOD_strains\", \"LOD_ind_grid\", \"LOD_strains_grid\"])) |> x -> x[1:10, :]"
   ]
  },
  {
   "cell_type": "code",
   "execution_count": 45,
   "id": "8dfb44ff-92c8-4e74-aea8-49a2cedcae4d",
   "metadata": {},
   "outputs": [],
   "source": [
    "h2_taken_ind = bulkscan_results_ind[1];\n",
    "h2_taken_strains = bulkscan_results_strains[1];"
   ]
  },
  {
   "cell_type": "code",
   "execution_count": 46,
   "id": "5eb4c7b0-1e02-410e-9f0f-ea7fcb5e2fec",
   "metadata": {},
   "outputs": [
    {
     "data": {
      "text/plain": [
       "20-element Vector{Float64}:\n",
       " 0.0\n",
       " 0.25\n",
       " 0.4\n",
       " 0.45\n",
       " 0.15\n",
       " 0.2\n",
       " 0.3\n",
       " 0.1\n",
       " 0.35\n",
       " 0.65\n",
       " 0.7\n",
       " 0.6\n",
       " 0.5\n",
       " 0.75\n",
       " 0.9\n",
       " 0.05\n",
       " 0.95\n",
       " 0.55\n",
       " 0.8\n",
       " 0.85"
      ]
     },
     "execution_count": 46,
     "metadata": {},
     "output_type": "execute_result"
    }
   ],
   "source": [
    "bulkscan_results_ind[2]"
   ]
  },
  {
   "cell_type": "code",
   "execution_count": 47,
   "id": "06fbec74-be3f-423a-80b1-7ccc4805dff5",
   "metadata": {},
   "outputs": [
    {
     "data": {
      "text/plain": [
       "get_h2_distribution (generic function with 1 method)"
      ]
     },
     "execution_count": 47,
     "metadata": {},
     "output_type": "execute_result"
    }
   ],
   "source": [
    "function get_h2_distribution(h2_list::Array{Float64, 1}, idxs_by_bin::Vector{Vector{Bool}})\n",
    "\n",
    "    h2_distr = h2_list[1]*ones(sum(idxs_by_bin[1]))\n",
    "    \n",
    "    for i in 2:length(h2_list)\n",
    "        h2_distr = vcat(h2_distr, h2_list[i]*ones(sum(idxs_by_bin[i])))\n",
    "    end\n",
    "    \n",
    "    return h2_distr;\n",
    "    \n",
    "end"
   ]
  },
  {
   "cell_type": "code",
   "execution_count": 48,
   "id": "6dcad1b7-17a8-4a1e-a218-aabacab5c219",
   "metadata": {},
   "outputs": [],
   "source": [
    "h2_distr_ind = get_h2_distribution(bulkscan_results_ind[2], h2_taken_ind);\n",
    "h2_distr_strains = get_h2_distribution(bulkscan_results_strains[2], h2_taken_strains);"
   ]
  },
  {
   "cell_type": "code",
   "execution_count": 49,
   "id": "9ad978d7-dd9f-4a0d-affc-6b4462577e95",
   "metadata": {},
   "outputs": [
    {
     "data": {
      "text/plain": [
       "32445-element Vector{Float64}:\n",
       " 0.0\n",
       " 0.0\n",
       " 0.0\n",
       " 0.0\n",
       " 0.0\n",
       " 0.0\n",
       " 0.0\n",
       " 0.0\n",
       " 0.0\n",
       " 0.0\n",
       " 0.0\n",
       " 0.0\n",
       " 0.0\n",
       " ⋮\n",
       " 0.85\n",
       " 0.85\n",
       " 0.85\n",
       " 0.85\n",
       " 0.85\n",
       " 0.85\n",
       " 0.85\n",
       " 0.85\n",
       " 0.85\n",
       " 0.85\n",
       " 0.85\n",
       " 0.85"
      ]
     },
     "execution_count": 49,
     "metadata": {},
     "output_type": "execute_result"
    }
   ],
   "source": [
    "h2_distr_ind"
   ]
  },
  {
   "cell_type": "code",
   "execution_count": 50,
   "id": "e1afd1e2-e9f1-4e8c-937c-d256e1544dfa",
   "metadata": {},
   "outputs": [
    {
     "data": {
      "image/svg+xml": [
       "<?xml version=\"1.0\" encoding=\"utf-8\"?>\n",
       "<svg xmlns=\"http://www.w3.org/2000/svg\" xmlns:xlink=\"http://www.w3.org/1999/xlink\" width=\"600\" height=\"400\" viewBox=\"0 0 2400 1600\">\n",
       "<defs>\n",
       "  <clipPath id=\"clip530\">\n",
       "    <rect x=\"0\" y=\"0\" width=\"2400\" height=\"1600\"/>\n",
       "  </clipPath>\n",
       "</defs>\n",
       "<path clip-path=\"url(#clip530)\" d=\"\n",
       "M0 1600 L2400 1600 L2400 0 L0 0  Z\n",
       "  \" fill=\"#ffffff\" fill-rule=\"evenodd\" fill-opacity=\"1\"/>\n",
       "<defs>\n",
       "  <clipPath id=\"clip531\">\n",
       "    <rect x=\"480\" y=\"0\" width=\"1681\" height=\"1600\"/>\n",
       "  </clipPath>\n",
       "</defs>\n",
       "<path clip-path=\"url(#clip530)\" d=\"\n",
       "M219.866 1423.18 L2352.76 1423.18 L2352.76 47.2441 L219.866 47.2441  Z\n",
       "  \" fill=\"#ffffff\" fill-rule=\"evenodd\" fill-opacity=\"1\"/>\n",
       "<defs>\n",
       "  <clipPath id=\"clip532\">\n",
       "    <rect x=\"219\" y=\"47\" width=\"2134\" height=\"1377\"/>\n",
       "  </clipPath>\n",
       "</defs>\n",
       "<polyline clip-path=\"url(#clip532)\" style=\"stroke:#000000; stroke-linecap:round; stroke-linejoin:round; stroke-width:2; stroke-opacity:0.1; fill:none\" points=\"\n",
       "  337.179,1423.18 337.179,47.2441 \n",
       "  \"/>\n",
       "<polyline clip-path=\"url(#clip532)\" style=\"stroke:#000000; stroke-linecap:round; stroke-linejoin:round; stroke-width:2; stroke-opacity:0.1; fill:none\" points=\"\n",
       "  836.722,1423.18 836.722,47.2441 \n",
       "  \"/>\n",
       "<polyline clip-path=\"url(#clip532)\" style=\"stroke:#000000; stroke-linecap:round; stroke-linejoin:round; stroke-width:2; stroke-opacity:0.1; fill:none\" points=\"\n",
       "  1336.27,1423.18 1336.27,47.2441 \n",
       "  \"/>\n",
       "<polyline clip-path=\"url(#clip532)\" style=\"stroke:#000000; stroke-linecap:round; stroke-linejoin:round; stroke-width:2; stroke-opacity:0.1; fill:none\" points=\"\n",
       "  1835.81,1423.18 1835.81,47.2441 \n",
       "  \"/>\n",
       "<polyline clip-path=\"url(#clip532)\" style=\"stroke:#000000; stroke-linecap:round; stroke-linejoin:round; stroke-width:2; stroke-opacity:0.1; fill:none\" points=\"\n",
       "  2335.35,1423.18 2335.35,47.2441 \n",
       "  \"/>\n",
       "<polyline clip-path=\"url(#clip530)\" style=\"stroke:#000000; stroke-linecap:round; stroke-linejoin:round; stroke-width:4; stroke-opacity:1; fill:none\" points=\"\n",
       "  219.866,1423.18 2352.76,1423.18 \n",
       "  \"/>\n",
       "<polyline clip-path=\"url(#clip530)\" style=\"stroke:#000000; stroke-linecap:round; stroke-linejoin:round; stroke-width:4; stroke-opacity:1; fill:none\" points=\"\n",
       "  337.179,1423.18 337.179,1404.28 \n",
       "  \"/>\n",
       "<polyline clip-path=\"url(#clip530)\" style=\"stroke:#000000; stroke-linecap:round; stroke-linejoin:round; stroke-width:4; stroke-opacity:1; fill:none\" points=\"\n",
       "  836.722,1423.18 836.722,1404.28 \n",
       "  \"/>\n",
       "<polyline clip-path=\"url(#clip530)\" style=\"stroke:#000000; stroke-linecap:round; stroke-linejoin:round; stroke-width:4; stroke-opacity:1; fill:none\" points=\"\n",
       "  1336.27,1423.18 1336.27,1404.28 \n",
       "  \"/>\n",
       "<polyline clip-path=\"url(#clip530)\" style=\"stroke:#000000; stroke-linecap:round; stroke-linejoin:round; stroke-width:4; stroke-opacity:1; fill:none\" points=\"\n",
       "  1835.81,1423.18 1835.81,1404.28 \n",
       "  \"/>\n",
       "<polyline clip-path=\"url(#clip530)\" style=\"stroke:#000000; stroke-linecap:round; stroke-linejoin:round; stroke-width:4; stroke-opacity:1; fill:none\" points=\"\n",
       "  2335.35,1423.18 2335.35,1404.28 \n",
       "  \"/>\n",
       "<path clip-path=\"url(#clip530)\" d=\"M299.482 1454.1 Q295.871 1454.1 294.043 1457.66 Q292.237 1461.2 292.237 1468.33 Q292.237 1475.44 294.043 1479.01 Q295.871 1482.55 299.482 1482.55 Q303.117 1482.55 304.922 1479.01 Q306.751 1475.44 306.751 1468.33 Q306.751 1461.2 304.922 1457.66 Q303.117 1454.1 299.482 1454.1 M299.482 1450.39 Q305.293 1450.39 308.348 1455 Q311.427 1459.58 311.427 1468.33 Q311.427 1477.06 308.348 1481.67 Q305.293 1486.25 299.482 1486.25 Q293.672 1486.25 290.594 1481.67 Q287.538 1477.06 287.538 1468.33 Q287.538 1459.58 290.594 1455 Q293.672 1450.39 299.482 1450.39 Z\" fill=\"#000000\" fill-rule=\"evenodd\" fill-opacity=\"1\" /><path clip-path=\"url(#clip530)\" d=\"M319.644 1479.7 L324.529 1479.7 L324.529 1485.58 L319.644 1485.58 L319.644 1479.7 Z\" fill=\"#000000\" fill-rule=\"evenodd\" fill-opacity=\"1\" /><path clip-path=\"url(#clip530)\" d=\"M344.714 1454.1 Q341.103 1454.1 339.274 1457.66 Q337.468 1461.2 337.468 1468.33 Q337.468 1475.44 339.274 1479.01 Q341.103 1482.55 344.714 1482.55 Q348.348 1482.55 350.153 1479.01 Q351.982 1475.44 351.982 1468.33 Q351.982 1461.2 350.153 1457.66 Q348.348 1454.1 344.714 1454.1 M344.714 1450.39 Q350.524 1450.39 353.579 1455 Q356.658 1459.58 356.658 1468.33 Q356.658 1477.06 353.579 1481.67 Q350.524 1486.25 344.714 1486.25 Q338.904 1486.25 335.825 1481.67 Q332.769 1477.06 332.769 1468.33 Q332.769 1459.58 335.825 1455 Q338.904 1450.39 344.714 1450.39 Z\" fill=\"#000000\" fill-rule=\"evenodd\" fill-opacity=\"1\" /><path clip-path=\"url(#clip530)\" d=\"M374.876 1454.1 Q371.264 1454.1 369.436 1457.66 Q367.63 1461.2 367.63 1468.33 Q367.63 1475.44 369.436 1479.01 Q371.264 1482.55 374.876 1482.55 Q378.51 1482.55 380.315 1479.01 Q382.144 1475.44 382.144 1468.33 Q382.144 1461.2 380.315 1457.66 Q378.51 1454.1 374.876 1454.1 M374.876 1450.39 Q380.686 1450.39 383.741 1455 Q386.82 1459.58 386.82 1468.33 Q386.82 1477.06 383.741 1481.67 Q380.686 1486.25 374.876 1486.25 Q369.065 1486.25 365.987 1481.67 Q362.931 1477.06 362.931 1468.33 Q362.931 1459.58 365.987 1455 Q369.065 1450.39 374.876 1450.39 Z\" fill=\"#000000\" fill-rule=\"evenodd\" fill-opacity=\"1\" /><path clip-path=\"url(#clip530)\" d=\"M799.523 1454.1 Q795.912 1454.1 794.084 1457.66 Q792.278 1461.2 792.278 1468.33 Q792.278 1475.44 794.084 1479.01 Q795.912 1482.55 799.523 1482.55 Q803.158 1482.55 804.963 1479.01 Q806.792 1475.44 806.792 1468.33 Q806.792 1461.2 804.963 1457.66 Q803.158 1454.1 799.523 1454.1 M799.523 1450.39 Q805.333 1450.39 808.389 1455 Q811.468 1459.58 811.468 1468.33 Q811.468 1477.06 808.389 1481.67 Q805.333 1486.25 799.523 1486.25 Q793.713 1486.25 790.634 1481.67 Q787.579 1477.06 787.579 1468.33 Q787.579 1459.58 790.634 1455 Q793.713 1450.39 799.523 1450.39 Z\" fill=\"#000000\" fill-rule=\"evenodd\" fill-opacity=\"1\" /><path clip-path=\"url(#clip530)\" d=\"M819.685 1479.7 L824.569 1479.7 L824.569 1485.58 L819.685 1485.58 L819.685 1479.7 Z\" fill=\"#000000\" fill-rule=\"evenodd\" fill-opacity=\"1\" /><path clip-path=\"url(#clip530)\" d=\"M838.782 1481.64 L855.102 1481.64 L855.102 1485.58 L833.157 1485.58 L833.157 1481.64 Q835.819 1478.89 840.403 1474.26 Q845.009 1469.61 846.19 1468.27 Q848.435 1465.74 849.315 1464.01 Q850.217 1462.25 850.217 1460.56 Q850.217 1457.8 848.273 1456.07 Q846.352 1454.33 843.25 1454.33 Q841.051 1454.33 838.597 1455.09 Q836.167 1455.86 833.389 1457.41 L833.389 1452.69 Q836.213 1451.55 838.667 1450.97 Q841.12 1450.39 843.157 1450.39 Q848.528 1450.39 851.722 1453.08 Q854.917 1455.77 854.917 1460.26 Q854.917 1462.39 854.106 1464.31 Q853.319 1466.2 851.213 1468.8 Q850.634 1469.47 847.532 1472.69 Q844.43 1475.88 838.782 1481.64 Z\" fill=\"#000000\" fill-rule=\"evenodd\" fill-opacity=\"1\" /><path clip-path=\"url(#clip530)\" d=\"M864.963 1451.02 L883.319 1451.02 L883.319 1454.96 L869.245 1454.96 L869.245 1463.43 Q870.264 1463.08 871.282 1462.92 Q872.301 1462.73 873.319 1462.73 Q879.106 1462.73 882.486 1465.9 Q885.865 1469.08 885.865 1474.49 Q885.865 1480.07 882.393 1483.17 Q878.921 1486.25 872.602 1486.25 Q870.426 1486.25 868.157 1485.88 Q865.912 1485.51 863.504 1484.77 L863.504 1480.07 Q865.588 1481.2 867.81 1481.76 Q870.032 1482.32 872.509 1482.32 Q876.514 1482.32 878.852 1480.21 Q881.19 1478.1 881.19 1474.49 Q881.19 1470.88 878.852 1468.77 Q876.514 1466.67 872.509 1466.67 Q870.634 1466.67 868.759 1467.08 Q866.907 1467.5 864.963 1468.38 L864.963 1451.02 Z\" fill=\"#000000\" fill-rule=\"evenodd\" fill-opacity=\"1\" /><path clip-path=\"url(#clip530)\" d=\"M1298.57 1454.1 Q1294.96 1454.1 1293.13 1457.66 Q1291.32 1461.2 1291.32 1468.33 Q1291.32 1475.44 1293.13 1479.01 Q1294.96 1482.55 1298.57 1482.55 Q1302.2 1482.55 1304.01 1479.01 Q1305.84 1475.44 1305.84 1468.33 Q1305.84 1461.2 1304.01 1457.66 Q1302.2 1454.1 1298.57 1454.1 M1298.57 1450.39 Q1304.38 1450.39 1307.43 1455 Q1310.51 1459.58 1310.51 1468.33 Q1310.51 1477.06 1307.43 1481.67 Q1304.38 1486.25 1298.57 1486.25 Q1292.76 1486.25 1289.68 1481.67 Q1286.62 1477.06 1286.62 1468.33 Q1286.62 1459.58 1289.68 1455 Q1292.76 1450.39 1298.57 1450.39 Z\" fill=\"#000000\" fill-rule=\"evenodd\" fill-opacity=\"1\" /><path clip-path=\"url(#clip530)\" d=\"M1318.73 1479.7 L1323.62 1479.7 L1323.62 1485.58 L1318.73 1485.58 L1318.73 1479.7 Z\" fill=\"#000000\" fill-rule=\"evenodd\" fill-opacity=\"1\" /><path clip-path=\"url(#clip530)\" d=\"M1333.85 1451.02 L1352.2 1451.02 L1352.2 1454.96 L1338.13 1454.96 L1338.13 1463.43 Q1339.15 1463.08 1340.17 1462.92 Q1341.18 1462.73 1342.2 1462.73 Q1347.99 1462.73 1351.37 1465.9 Q1354.75 1469.08 1354.75 1474.49 Q1354.75 1480.07 1351.28 1483.17 Q1347.8 1486.25 1341.49 1486.25 Q1339.31 1486.25 1337.04 1485.88 Q1334.8 1485.51 1332.39 1484.77 L1332.39 1480.07 Q1334.47 1481.2 1336.69 1481.76 Q1338.92 1482.32 1341.39 1482.32 Q1345.4 1482.32 1347.74 1480.21 Q1350.07 1478.1 1350.07 1474.49 Q1350.07 1470.88 1347.74 1468.77 Q1345.4 1466.67 1341.39 1466.67 Q1339.52 1466.67 1337.64 1467.08 Q1335.79 1467.5 1333.85 1468.38 L1333.85 1451.02 Z\" fill=\"#000000\" fill-rule=\"evenodd\" fill-opacity=\"1\" /><path clip-path=\"url(#clip530)\" d=\"M1373.96 1454.1 Q1370.35 1454.1 1368.52 1457.66 Q1366.72 1461.2 1366.72 1468.33 Q1366.72 1475.44 1368.52 1479.01 Q1370.35 1482.55 1373.96 1482.55 Q1377.6 1482.55 1379.4 1479.01 Q1381.23 1475.44 1381.23 1468.33 Q1381.23 1461.2 1379.4 1457.66 Q1377.6 1454.1 1373.96 1454.1 M1373.96 1450.39 Q1379.77 1450.39 1382.83 1455 Q1385.91 1459.58 1385.91 1468.33 Q1385.91 1477.06 1382.83 1481.67 Q1379.77 1486.25 1373.96 1486.25 Q1368.15 1486.25 1365.07 1481.67 Q1362.02 1477.06 1362.02 1468.33 Q1362.02 1459.58 1365.07 1455 Q1368.15 1450.39 1373.96 1450.39 Z\" fill=\"#000000\" fill-rule=\"evenodd\" fill-opacity=\"1\" /><path clip-path=\"url(#clip530)\" d=\"M1798.61 1454.1 Q1795 1454.1 1793.17 1457.66 Q1791.36 1461.2 1791.36 1468.33 Q1791.36 1475.44 1793.17 1479.01 Q1795 1482.55 1798.61 1482.55 Q1802.24 1482.55 1804.05 1479.01 Q1805.88 1475.44 1805.88 1468.33 Q1805.88 1461.2 1804.05 1457.66 Q1802.24 1454.1 1798.61 1454.1 M1798.61 1450.39 Q1804.42 1450.39 1807.48 1455 Q1810.55 1459.58 1810.55 1468.33 Q1810.55 1477.06 1807.48 1481.67 Q1804.42 1486.25 1798.61 1486.25 Q1792.8 1486.25 1789.72 1481.67 Q1786.67 1477.06 1786.67 1468.33 Q1786.67 1459.58 1789.72 1455 Q1792.8 1450.39 1798.61 1450.39 Z\" fill=\"#000000\" fill-rule=\"evenodd\" fill-opacity=\"1\" /><path clip-path=\"url(#clip530)\" d=\"M1818.77 1479.7 L1823.66 1479.7 L1823.66 1485.58 L1818.77 1485.58 L1818.77 1479.7 Z\" fill=\"#000000\" fill-rule=\"evenodd\" fill-opacity=\"1\" /><path clip-path=\"url(#clip530)\" d=\"M1832.66 1451.02 L1854.88 1451.02 L1854.88 1453.01 L1842.34 1485.58 L1837.45 1485.58 L1849.26 1454.96 L1832.66 1454.96 L1832.66 1451.02 Z\" fill=\"#000000\" fill-rule=\"evenodd\" fill-opacity=\"1\" /><path clip-path=\"url(#clip530)\" d=\"M1864.05 1451.02 L1882.41 1451.02 L1882.41 1454.96 L1868.33 1454.96 L1868.33 1463.43 Q1869.35 1463.08 1870.37 1462.92 Q1871.39 1462.73 1872.41 1462.73 Q1878.19 1462.73 1881.57 1465.9 Q1884.95 1469.08 1884.95 1474.49 Q1884.95 1480.07 1881.48 1483.17 Q1878.01 1486.25 1871.69 1486.25 Q1869.51 1486.25 1867.24 1485.88 Q1865 1485.51 1862.59 1484.77 L1862.59 1480.07 Q1864.67 1481.2 1866.9 1481.76 Q1869.12 1482.32 1871.6 1482.32 Q1875.6 1482.32 1877.94 1480.21 Q1880.28 1478.1 1880.28 1474.49 Q1880.28 1470.88 1877.94 1468.77 Q1875.6 1466.67 1871.6 1466.67 Q1869.72 1466.67 1867.85 1467.08 Q1865.99 1467.5 1864.05 1468.38 L1864.05 1451.02 Z\" fill=\"#000000\" fill-rule=\"evenodd\" fill-opacity=\"1\" /><path clip-path=\"url(#clip530)\" d=\"M2287.42 1481.64 L2295.06 1481.64 L2295.06 1455.28 L2286.75 1456.95 L2286.75 1452.69 L2295.02 1451.02 L2299.69 1451.02 L2299.69 1481.64 L2307.33 1481.64 L2307.33 1485.58 L2287.42 1485.58 L2287.42 1481.64 Z\" fill=\"#000000\" fill-rule=\"evenodd\" fill-opacity=\"1\" /><path clip-path=\"url(#clip530)\" d=\"M2316.78 1479.7 L2321.66 1479.7 L2321.66 1485.58 L2316.78 1485.58 L2316.78 1479.7 Z\" fill=\"#000000\" fill-rule=\"evenodd\" fill-opacity=\"1\" /><path clip-path=\"url(#clip530)\" d=\"M2341.84 1454.1 Q2338.23 1454.1 2336.41 1457.66 Q2334.6 1461.2 2334.6 1468.33 Q2334.6 1475.44 2336.41 1479.01 Q2338.23 1482.55 2341.84 1482.55 Q2345.48 1482.55 2347.28 1479.01 Q2349.11 1475.44 2349.11 1468.33 Q2349.11 1461.2 2347.28 1457.66 Q2345.48 1454.1 2341.84 1454.1 M2341.84 1450.39 Q2347.65 1450.39 2350.71 1455 Q2353.79 1459.58 2353.79 1468.33 Q2353.79 1477.06 2350.71 1481.67 Q2347.65 1486.25 2341.84 1486.25 Q2336.03 1486.25 2332.96 1481.67 Q2329.9 1477.06 2329.9 1468.33 Q2329.9 1459.58 2332.96 1455 Q2336.03 1450.39 2341.84 1450.39 Z\" fill=\"#000000\" fill-rule=\"evenodd\" fill-opacity=\"1\" /><path clip-path=\"url(#clip530)\" d=\"M2372.01 1454.1 Q2368.4 1454.1 2366.57 1457.66 Q2364.76 1461.2 2364.76 1468.33 Q2364.76 1475.44 2366.57 1479.01 Q2368.4 1482.55 2372.01 1482.55 Q2375.64 1482.55 2377.45 1479.01 Q2379.28 1475.44 2379.28 1468.33 Q2379.28 1461.2 2377.45 1457.66 Q2375.64 1454.1 2372.01 1454.1 M2372.01 1450.39 Q2377.82 1450.39 2380.87 1455 Q2383.95 1459.58 2383.95 1468.33 Q2383.95 1477.06 2380.87 1481.67 Q2377.82 1486.25 2372.01 1486.25 Q2366.2 1486.25 2363.12 1481.67 Q2360.06 1477.06 2360.06 1468.33 Q2360.06 1459.58 2363.12 1455 Q2366.2 1450.39 2372.01 1450.39 Z\" fill=\"#000000\" fill-rule=\"evenodd\" fill-opacity=\"1\" /><path clip-path=\"url(#clip530)\" d=\"M1281 1546.53 L1281 1568.04 L1275.14 1568.04 L1275.14 1546.72 Q1275.14 1541.66 1273.17 1539.14 Q1271.19 1536.63 1267.25 1536.63 Q1262.5 1536.63 1259.77 1539.65 Q1257.03 1542.68 1257.03 1547.9 L1257.03 1568.04 L1251.14 1568.04 L1251.14 1518.52 L1257.03 1518.52 L1257.03 1537.93 Q1259.13 1534.72 1261.96 1533.13 Q1264.83 1531.54 1268.55 1531.54 Q1274.69 1531.54 1277.84 1535.36 Q1281 1539.14 1281 1546.53 Z\" fill=\"#000000\" fill-rule=\"evenodd\" fill-opacity=\"1\" /><path clip-path=\"url(#clip530)\" d=\"M1299.04 1562.63 L1321.48 1562.63 L1321.48 1568.04 L1291.31 1568.04 L1291.31 1562.63 Q1294.97 1558.85 1301.27 1552.48 Q1307.6 1546.08 1309.23 1544.24 Q1312.31 1540.77 1313.52 1538.38 Q1314.77 1535.96 1314.77 1533.64 Q1314.77 1529.85 1312.09 1527.46 Q1309.45 1525.08 1305.19 1525.08 Q1302.16 1525.08 1298.79 1526.13 Q1295.45 1527.18 1291.63 1529.31 L1291.63 1522.82 Q1295.51 1521.26 1298.88 1520.46 Q1302.26 1519.66 1305.06 1519.66 Q1312.44 1519.66 1316.83 1523.36 Q1321.23 1527.05 1321.23 1533.22 Q1321.23 1536.15 1320.11 1538.79 Q1319.03 1541.4 1316.13 1544.97 Q1315.34 1545.89 1311.07 1550.32 Q1306.81 1554.71 1299.04 1562.63 Z\" fill=\"#000000\" fill-rule=\"evenodd\" fill-opacity=\"1\" /><polyline clip-path=\"url(#clip532)\" style=\"stroke:#000000; stroke-linecap:round; stroke-linejoin:round; stroke-width:2; stroke-opacity:0.1; fill:none\" points=\"\n",
       "  219.866,1384.24 2352.76,1384.24 \n",
       "  \"/>\n",
       "<polyline clip-path=\"url(#clip532)\" style=\"stroke:#000000; stroke-linecap:round; stroke-linejoin:round; stroke-width:2; stroke-opacity:0.1; fill:none\" points=\"\n",
       "  219.866,1141.4 2352.76,1141.4 \n",
       "  \"/>\n",
       "<polyline clip-path=\"url(#clip532)\" style=\"stroke:#000000; stroke-linecap:round; stroke-linejoin:round; stroke-width:2; stroke-opacity:0.1; fill:none\" points=\"\n",
       "  219.866,898.562 2352.76,898.562 \n",
       "  \"/>\n",
       "<polyline clip-path=\"url(#clip532)\" style=\"stroke:#000000; stroke-linecap:round; stroke-linejoin:round; stroke-width:2; stroke-opacity:0.1; fill:none\" points=\"\n",
       "  219.866,655.724 2352.76,655.724 \n",
       "  \"/>\n",
       "<polyline clip-path=\"url(#clip532)\" style=\"stroke:#000000; stroke-linecap:round; stroke-linejoin:round; stroke-width:2; stroke-opacity:0.1; fill:none\" points=\"\n",
       "  219.866,412.886 2352.76,412.886 \n",
       "  \"/>\n",
       "<polyline clip-path=\"url(#clip532)\" style=\"stroke:#000000; stroke-linecap:round; stroke-linejoin:round; stroke-width:2; stroke-opacity:0.1; fill:none\" points=\"\n",
       "  219.866,170.048 2352.76,170.048 \n",
       "  \"/>\n",
       "<polyline clip-path=\"url(#clip530)\" style=\"stroke:#000000; stroke-linecap:round; stroke-linejoin:round; stroke-width:4; stroke-opacity:1; fill:none\" points=\"\n",
       "  219.866,1423.18 219.866,47.2441 \n",
       "  \"/>\n",
       "<polyline clip-path=\"url(#clip530)\" style=\"stroke:#000000; stroke-linecap:round; stroke-linejoin:round; stroke-width:4; stroke-opacity:1; fill:none\" points=\"\n",
       "  219.866,1384.24 238.764,1384.24 \n",
       "  \"/>\n",
       "<polyline clip-path=\"url(#clip530)\" style=\"stroke:#000000; stroke-linecap:round; stroke-linejoin:round; stroke-width:4; stroke-opacity:1; fill:none\" points=\"\n",
       "  219.866,1141.4 238.764,1141.4 \n",
       "  \"/>\n",
       "<polyline clip-path=\"url(#clip530)\" style=\"stroke:#000000; stroke-linecap:round; stroke-linejoin:round; stroke-width:4; stroke-opacity:1; fill:none\" points=\"\n",
       "  219.866,898.562 238.764,898.562 \n",
       "  \"/>\n",
       "<polyline clip-path=\"url(#clip530)\" style=\"stroke:#000000; stroke-linecap:round; stroke-linejoin:round; stroke-width:4; stroke-opacity:1; fill:none\" points=\"\n",
       "  219.866,655.724 238.764,655.724 \n",
       "  \"/>\n",
       "<polyline clip-path=\"url(#clip530)\" style=\"stroke:#000000; stroke-linecap:round; stroke-linejoin:round; stroke-width:4; stroke-opacity:1; fill:none\" points=\"\n",
       "  219.866,412.886 238.764,412.886 \n",
       "  \"/>\n",
       "<polyline clip-path=\"url(#clip530)\" style=\"stroke:#000000; stroke-linecap:round; stroke-linejoin:round; stroke-width:4; stroke-opacity:1; fill:none\" points=\"\n",
       "  219.866,170.048 238.764,170.048 \n",
       "  \"/>\n",
       "<path clip-path=\"url(#clip530)\" d=\"M126.691 1370.04 Q123.08 1370.04 121.251 1373.6 Q119.445 1377.14 119.445 1384.27 Q119.445 1391.38 121.251 1394.94 Q123.08 1398.49 126.691 1398.49 Q130.325 1398.49 132.13 1394.94 Q133.959 1391.38 133.959 1384.27 Q133.959 1377.14 132.13 1373.6 Q130.325 1370.04 126.691 1370.04 M126.691 1366.33 Q132.501 1366.33 135.556 1370.94 Q138.635 1375.52 138.635 1384.27 Q138.635 1393 135.556 1397.61 Q132.501 1402.19 126.691 1402.19 Q120.88 1402.19 117.802 1397.61 Q114.746 1393 114.746 1384.27 Q114.746 1375.52 117.802 1370.94 Q120.88 1366.33 126.691 1366.33 Z\" fill=\"#000000\" fill-rule=\"evenodd\" fill-opacity=\"1\" /><path clip-path=\"url(#clip530)\" d=\"M146.853 1395.64 L151.737 1395.64 L151.737 1401.52 L146.853 1401.52 L146.853 1395.64 Z\" fill=\"#000000\" fill-rule=\"evenodd\" fill-opacity=\"1\" /><path clip-path=\"url(#clip530)\" d=\"M171.922 1370.04 Q168.311 1370.04 166.482 1373.6 Q164.677 1377.14 164.677 1384.27 Q164.677 1391.38 166.482 1394.94 Q168.311 1398.49 171.922 1398.49 Q175.556 1398.49 177.362 1394.94 Q179.19 1391.38 179.19 1384.27 Q179.19 1377.14 177.362 1373.6 Q175.556 1370.04 171.922 1370.04 M171.922 1366.33 Q177.732 1366.33 180.788 1370.94 Q183.866 1375.52 183.866 1384.27 Q183.866 1393 180.788 1397.61 Q177.732 1402.19 171.922 1402.19 Q166.112 1402.19 163.033 1397.61 Q159.978 1393 159.978 1384.27 Q159.978 1375.52 163.033 1370.94 Q166.112 1366.33 171.922 1366.33 Z\" fill=\"#000000\" fill-rule=\"evenodd\" fill-opacity=\"1\" /><path clip-path=\"url(#clip530)\" d=\"M127.917 1127.2 Q124.306 1127.2 122.478 1130.76 Q120.672 1134.31 120.672 1141.43 Q120.672 1148.54 122.478 1152.11 Q124.306 1155.65 127.917 1155.65 Q131.552 1155.65 133.357 1152.11 Q135.186 1148.54 135.186 1141.43 Q135.186 1134.31 133.357 1130.76 Q131.552 1127.2 127.917 1127.2 M127.917 1123.5 Q133.728 1123.5 136.783 1128.1 Q139.862 1132.69 139.862 1141.43 Q139.862 1150.16 136.783 1154.77 Q133.728 1159.35 127.917 1159.35 Q122.107 1159.35 119.029 1154.77 Q115.973 1150.16 115.973 1141.43 Q115.973 1132.69 119.029 1128.1 Q122.107 1123.5 127.917 1123.5 Z\" fill=\"#000000\" fill-rule=\"evenodd\" fill-opacity=\"1\" /><path clip-path=\"url(#clip530)\" d=\"M148.079 1152.8 L152.964 1152.8 L152.964 1158.68 L148.079 1158.68 L148.079 1152.8 Z\" fill=\"#000000\" fill-rule=\"evenodd\" fill-opacity=\"1\" /><path clip-path=\"url(#clip530)\" d=\"M163.959 1154.75 L171.598 1154.75 L171.598 1128.38 L163.288 1130.05 L163.288 1125.79 L171.552 1124.12 L176.227 1124.12 L176.227 1154.75 L183.866 1154.75 L183.866 1158.68 L163.959 1158.68 L163.959 1154.75 Z\" fill=\"#000000\" fill-rule=\"evenodd\" fill-opacity=\"1\" /><path clip-path=\"url(#clip530)\" d=\"M128.288 884.361 Q124.677 884.361 122.848 887.926 Q121.043 891.467 121.043 898.597 Q121.043 905.703 122.848 909.268 Q124.677 912.81 128.288 912.81 Q131.922 912.81 133.728 909.268 Q135.556 905.703 135.556 898.597 Q135.556 891.467 133.728 887.926 Q131.922 884.361 128.288 884.361 M128.288 880.657 Q134.098 880.657 137.154 885.264 Q140.232 889.847 140.232 898.597 Q140.232 907.324 137.154 911.93 Q134.098 916.514 128.288 916.514 Q122.478 916.514 119.399 911.93 Q116.343 907.324 116.343 898.597 Q116.343 889.847 119.399 885.264 Q122.478 880.657 128.288 880.657 Z\" fill=\"#000000\" fill-rule=\"evenodd\" fill-opacity=\"1\" /><path clip-path=\"url(#clip530)\" d=\"M148.45 909.963 L153.334 909.963 L153.334 915.842 L148.45 915.842 L148.45 909.963 Z\" fill=\"#000000\" fill-rule=\"evenodd\" fill-opacity=\"1\" /><path clip-path=\"url(#clip530)\" d=\"M167.547 911.907 L183.866 911.907 L183.866 915.842 L161.922 915.842 L161.922 911.907 Q164.584 909.152 169.167 904.523 Q173.774 899.87 174.954 898.528 Q177.2 896.004 178.079 894.268 Q178.982 892.509 178.982 890.819 Q178.982 888.065 177.038 886.329 Q175.116 884.592 172.014 884.592 Q169.815 884.592 167.362 885.356 Q164.931 886.12 162.153 887.671 L162.153 882.949 Q164.977 881.815 167.431 881.236 Q169.885 880.657 171.922 880.657 Q177.292 880.657 180.487 883.342 Q183.681 886.028 183.681 890.518 Q183.681 892.648 182.871 894.569 Q182.084 896.467 179.977 899.06 Q179.399 899.731 176.297 902.949 Q173.195 906.143 167.547 911.907 Z\" fill=\"#000000\" fill-rule=\"evenodd\" fill-opacity=\"1\" /><path clip-path=\"url(#clip530)\" d=\"M127.339 641.523 Q123.728 641.523 121.899 645.088 Q120.093 648.629 120.093 655.759 Q120.093 662.865 121.899 666.43 Q123.728 669.972 127.339 669.972 Q130.973 669.972 132.779 666.43 Q134.607 662.865 134.607 655.759 Q134.607 648.629 132.779 645.088 Q130.973 641.523 127.339 641.523 M127.339 637.819 Q133.149 637.819 136.204 642.426 Q139.283 647.009 139.283 655.759 Q139.283 664.486 136.204 669.092 Q133.149 673.676 127.339 673.676 Q121.529 673.676 118.45 669.092 Q115.394 664.486 115.394 655.759 Q115.394 647.009 118.45 642.426 Q121.529 637.819 127.339 637.819 Z\" fill=\"#000000\" fill-rule=\"evenodd\" fill-opacity=\"1\" /><path clip-path=\"url(#clip530)\" d=\"M147.501 667.125 L152.385 667.125 L152.385 673.004 L147.501 673.004 L147.501 667.125 Z\" fill=\"#000000\" fill-rule=\"evenodd\" fill-opacity=\"1\" /><path clip-path=\"url(#clip530)\" d=\"M176.737 654.37 Q180.093 655.088 181.968 657.356 Q183.866 659.625 183.866 662.958 Q183.866 668.074 180.348 670.875 Q176.829 673.676 170.348 673.676 Q168.172 673.676 165.857 673.236 Q163.565 672.819 161.112 671.963 L161.112 667.449 Q163.056 668.583 165.371 669.162 Q167.686 669.74 170.209 669.74 Q174.607 669.74 176.899 668.004 Q179.214 666.268 179.214 662.958 Q179.214 659.902 177.061 658.189 Q174.931 656.453 171.112 656.453 L167.084 656.453 L167.084 652.611 L171.297 652.611 Q174.746 652.611 176.575 651.245 Q178.403 649.856 178.403 647.264 Q178.403 644.602 176.505 643.19 Q174.63 641.754 171.112 641.754 Q169.19 641.754 166.991 642.171 Q164.792 642.588 162.153 643.467 L162.153 639.301 Q164.815 638.56 167.13 638.19 Q169.468 637.819 171.528 637.819 Q176.852 637.819 179.954 640.25 Q183.056 642.657 183.056 646.778 Q183.056 649.648 181.413 651.639 Q179.769 653.606 176.737 654.37 Z\" fill=\"#000000\" fill-rule=\"evenodd\" fill-opacity=\"1\" /><path clip-path=\"url(#clip530)\" d=\"M126.205 398.685 Q122.593 398.685 120.765 402.25 Q118.959 405.791 118.959 412.921 Q118.959 420.027 120.765 423.592 Q122.593 427.134 126.205 427.134 Q129.839 427.134 131.644 423.592 Q133.473 420.027 133.473 412.921 Q133.473 405.791 131.644 402.25 Q129.839 398.685 126.205 398.685 M126.205 394.981 Q132.015 394.981 135.07 399.588 Q138.149 404.171 138.149 412.921 Q138.149 421.648 135.07 426.254 Q132.015 430.838 126.205 430.838 Q120.394 430.838 117.316 426.254 Q114.26 421.648 114.26 412.921 Q114.26 404.171 117.316 399.588 Q120.394 394.981 126.205 394.981 Z\" fill=\"#000000\" fill-rule=\"evenodd\" fill-opacity=\"1\" /><path clip-path=\"url(#clip530)\" d=\"M146.366 424.287 L151.251 424.287 L151.251 430.166 L146.366 430.166 L146.366 424.287 Z\" fill=\"#000000\" fill-rule=\"evenodd\" fill-opacity=\"1\" /><path clip-path=\"url(#clip530)\" d=\"M174.283 399.68 L162.477 418.129 L174.283 418.129 L174.283 399.68 M173.056 395.606 L178.936 395.606 L178.936 418.129 L183.866 418.129 L183.866 422.018 L178.936 422.018 L178.936 430.166 L174.283 430.166 L174.283 422.018 L158.681 422.018 L158.681 417.504 L173.056 395.606 Z\" fill=\"#000000\" fill-rule=\"evenodd\" fill-opacity=\"1\" /><path clip-path=\"url(#clip530)\" d=\"M127.686 155.847 Q124.075 155.847 122.246 159.412 Q120.441 162.953 120.441 170.083 Q120.441 177.189 122.246 180.754 Q124.075 184.296 127.686 184.296 Q131.32 184.296 133.126 180.754 Q134.954 177.189 134.954 170.083 Q134.954 162.953 133.126 159.412 Q131.32 155.847 127.686 155.847 M127.686 152.143 Q133.496 152.143 136.552 156.75 Q139.63 161.333 139.63 170.083 Q139.63 178.81 136.552 183.416 Q133.496 187.999 127.686 187.999 Q121.876 187.999 118.797 183.416 Q115.742 178.81 115.742 170.083 Q115.742 161.333 118.797 156.75 Q121.876 152.143 127.686 152.143 Z\" fill=\"#000000\" fill-rule=\"evenodd\" fill-opacity=\"1\" /><path clip-path=\"url(#clip530)\" d=\"M147.848 181.449 L152.732 181.449 L152.732 187.328 L147.848 187.328 L147.848 181.449 Z\" fill=\"#000000\" fill-rule=\"evenodd\" fill-opacity=\"1\" /><path clip-path=\"url(#clip530)\" d=\"M162.964 152.768 L181.32 152.768 L181.32 156.703 L167.246 156.703 L167.246 165.176 Q168.264 164.828 169.283 164.666 Q170.302 164.481 171.32 164.481 Q177.107 164.481 180.487 167.652 Q183.866 170.824 183.866 176.24 Q183.866 181.819 180.394 184.921 Q176.922 187.999 170.602 187.999 Q168.427 187.999 166.158 187.629 Q163.913 187.259 161.505 186.518 L161.505 181.819 Q163.589 182.953 165.811 183.509 Q168.033 184.064 170.51 184.064 Q174.514 184.064 176.852 181.958 Q179.19 179.851 179.19 176.24 Q179.19 172.629 176.852 170.523 Q174.514 168.416 170.51 168.416 Q168.635 168.416 166.76 168.833 Q164.908 169.25 162.964 170.129 L162.964 152.768 Z\" fill=\"#000000\" fill-rule=\"evenodd\" fill-opacity=\"1\" /><path clip-path=\"url(#clip530)\" d=\"M21.7677 890.981 L39.6235 890.981 L39.6235 882.896 Q39.6235 878.409 37.3 875.958 Q34.9765 873.507 30.6797 873.507 Q26.4147 873.507 24.0912 875.958 Q21.7677 878.409 21.7677 882.896 L21.7677 890.981 M16.4842 897.41 L16.4842 882.896 Q16.4842 874.907 20.1126 870.833 Q23.7092 866.727 30.6797 866.727 Q37.7138 866.727 41.3104 870.833 Q44.907 874.907 44.907 882.896 L44.907 890.981 L64.0042 890.981 L64.0042 897.41 L16.4842 897.41 Z\" fill=\"#000000\" fill-rule=\"evenodd\" fill-opacity=\"1\" /><path clip-path=\"url(#clip530)\" d=\"M33.8307 838.846 Q33.2578 839.832 33.0032 841.01 Q32.7167 842.156 32.7167 843.556 Q32.7167 848.522 35.9632 851.195 Q39.1779 853.837 45.2253 853.837 L64.0042 853.837 L64.0042 859.725 L28.3562 859.725 L28.3562 853.837 L33.8944 853.837 Q30.6479 851.991 29.0883 849.031 Q27.4968 846.071 27.4968 841.838 Q27.4968 841.233 27.5923 840.501 Q27.656 839.769 27.8151 838.878 L33.8307 838.846 Z\" fill=\"#000000\" fill-rule=\"evenodd\" fill-opacity=\"1\" /><path clip-path=\"url(#clip530)\" d=\"M32.4621 820.321 Q32.4621 825.032 36.1542 827.769 Q39.8145 830.507 46.212 830.507 Q52.6095 830.507 56.3017 827.801 Q59.9619 825.064 59.9619 820.321 Q59.9619 815.643 56.2698 812.905 Q52.5777 810.168 46.212 810.168 Q39.8781 810.168 36.186 812.905 Q32.4621 815.643 32.4621 820.321 M27.4968 820.321 Q27.4968 812.683 32.4621 808.322 Q37.4273 803.962 46.212 803.962 Q54.9649 803.962 59.9619 808.322 Q64.9272 812.683 64.9272 820.321 Q64.9272 827.992 59.9619 832.353 Q54.9649 836.681 46.212 836.681 Q37.4273 836.681 32.4621 832.353 Q27.4968 827.992 27.4968 820.321 Z\" fill=\"#000000\" fill-rule=\"evenodd\" fill-opacity=\"1\" /><path clip-path=\"url(#clip530)\" d=\"M58.657 788.588 L77.5631 788.588 L77.5631 794.477 L28.3562 794.477 L28.3562 788.588 L33.7671 788.588 Q30.5842 786.742 29.0564 783.941 Q27.4968 781.109 27.4968 777.194 Q27.4968 770.701 32.6531 766.659 Q37.8093 762.585 46.212 762.585 Q54.6147 762.585 59.771 766.659 Q64.9272 770.701 64.9272 777.194 Q64.9272 781.109 63.3994 783.941 Q61.8398 786.742 58.657 788.588 M46.212 768.664 Q39.7508 768.664 36.0905 771.337 Q32.3984 773.979 32.3984 778.626 Q32.3984 783.273 36.0905 785.947 Q39.7508 788.588 46.212 788.588 Q52.6732 788.588 56.3653 785.947 Q60.0256 783.273 60.0256 778.626 Q60.0256 773.979 56.3653 771.337 Q52.6732 768.664 46.212 768.664 Z\" fill=\"#000000\" fill-rule=\"evenodd\" fill-opacity=\"1\" /><path clip-path=\"url(#clip530)\" d=\"M32.4621 739.063 Q32.4621 743.774 36.1542 746.511 Q39.8145 749.248 46.212 749.248 Q52.6095 749.248 56.3017 746.543 Q59.9619 743.806 59.9619 739.063 Q59.9619 734.384 56.2698 731.647 Q52.5777 728.91 46.212 728.91 Q39.8781 728.91 36.186 731.647 Q32.4621 734.384 32.4621 739.063 M27.4968 739.063 Q27.4968 731.424 32.4621 727.064 Q37.4273 722.703 46.212 722.703 Q54.9649 722.703 59.9619 727.064 Q64.9272 731.424 64.9272 739.063 Q64.9272 746.734 59.9619 751.094 Q54.9649 755.423 46.212 755.423 Q37.4273 755.423 32.4621 751.094 Q27.4968 746.734 27.4968 739.063 Z\" fill=\"#000000\" fill-rule=\"evenodd\" fill-opacity=\"1\" /><path clip-path=\"url(#clip530)\" d=\"M33.8307 692.339 Q33.2578 693.326 33.0032 694.503 Q32.7167 695.649 32.7167 697.05 Q32.7167 702.015 35.9632 704.688 Q39.1779 707.33 45.2253 707.33 L64.0042 707.33 L64.0042 713.218 L28.3562 713.218 L28.3562 707.33 L33.8944 707.33 Q30.6479 705.484 29.0883 702.524 Q27.4968 699.564 27.4968 695.331 Q27.4968 694.726 27.5923 693.994 Q27.656 693.262 27.8151 692.371 L33.8307 692.339 Z\" fill=\"#000000\" fill-rule=\"evenodd\" fill-opacity=\"1\" /><path clip-path=\"url(#clip530)\" d=\"M18.2347 680.403 L28.3562 680.403 L28.3562 668.34 L32.9077 668.34 L32.9077 680.403 L52.2594 680.403 Q56.6199 680.403 57.8613 679.226 Q59.1026 678.016 59.1026 674.356 L59.1026 668.34 L64.0042 668.34 L64.0042 674.356 Q64.0042 681.135 61.4897 683.713 Q58.9434 686.292 52.2594 686.292 L32.9077 686.292 L32.9077 690.588 L28.3562 690.588 L28.3562 686.292 L18.2347 686.292 L18.2347 680.403 Z\" fill=\"#000000\" fill-rule=\"evenodd\" fill-opacity=\"1\" /><path clip-path=\"url(#clip530)\" d=\"M28.3562 660.638 L28.3562 654.781 L64.0042 654.781 L64.0042 660.638 L28.3562 660.638 M14.479 660.638 L14.479 654.781 L21.895 654.781 L21.895 660.638 L14.479 660.638 Z\" fill=\"#000000\" fill-rule=\"evenodd\" fill-opacity=\"1\" /><path clip-path=\"url(#clip530)\" d=\"M32.4621 628.714 Q32.4621 633.424 36.1542 636.162 Q39.8145 638.899 46.212 638.899 Q52.6095 638.899 56.3017 636.193 Q59.9619 633.456 59.9619 628.714 Q59.9619 624.035 56.2698 621.298 Q52.5777 618.56 46.212 618.56 Q39.8781 618.56 36.186 621.298 Q32.4621 624.035 32.4621 628.714 M27.4968 628.714 Q27.4968 621.075 32.4621 616.714 Q37.4273 612.354 46.212 612.354 Q54.9649 612.354 59.9619 616.714 Q64.9272 621.075 64.9272 628.714 Q64.9272 636.384 59.9619 640.745 Q54.9649 645.074 46.212 645.074 Q37.4273 645.074 32.4621 640.745 Q27.4968 636.384 27.4968 628.714 Z\" fill=\"#000000\" fill-rule=\"evenodd\" fill-opacity=\"1\" /><path clip-path=\"url(#clip530)\" d=\"M42.4881 573.014 L64.0042 573.014 L64.0042 578.87 L42.679 578.87 Q37.6183 578.87 35.1038 580.844 Q32.5894 582.817 32.5894 586.764 Q32.5894 591.506 35.6131 594.243 Q38.6368 596.981 43.8567 596.981 L64.0042 596.981 L64.0042 602.869 L28.3562 602.869 L28.3562 596.981 L33.8944 596.981 Q30.6797 594.88 29.0883 592.047 Q27.4968 589.183 27.4968 585.459 Q27.4968 579.316 31.3163 576.165 Q35.1038 573.014 42.4881 573.014 Z\" fill=\"#000000\" fill-rule=\"evenodd\" fill-opacity=\"1\" /><path clip-path=\"url(#clip532)\" d=\"\n",
       "M337.179 86.1857 L337.179 1384.24 L437.088 1384.24 L437.088 86.1857 L337.179 86.1857 L337.179 86.1857  Z\n",
       "  \" fill=\"#009af9\" fill-rule=\"evenodd\" fill-opacity=\"1\"/>\n",
       "<polyline clip-path=\"url(#clip532)\" style=\"stroke:#000000; stroke-linecap:round; stroke-linejoin:round; stroke-width:4; stroke-opacity:1; fill:none\" points=\"\n",
       "  337.179,86.1857 337.179,1384.24 437.088,1384.24 437.088,86.1857 337.179,86.1857 \n",
       "  \"/>\n",
       "<path clip-path=\"url(#clip532)\" d=\"\n",
       "M437.088 1350.9 L437.088 1384.24 L536.996 1384.24 L536.996 1350.9 L437.088 1350.9 L437.088 1350.9  Z\n",
       "  \" fill=\"#009af9\" fill-rule=\"evenodd\" fill-opacity=\"1\"/>\n",
       "<polyline clip-path=\"url(#clip532)\" style=\"stroke:#000000; stroke-linecap:round; stroke-linejoin:round; stroke-width:4; stroke-opacity:1; fill:none\" points=\"\n",
       "  437.088,1350.9 437.088,1384.24 536.996,1384.24 536.996,1350.9 437.088,1350.9 \n",
       "  \"/>\n",
       "<path clip-path=\"url(#clip532)\" d=\"\n",
       "M536.996 1169.62 L536.996 1384.24 L636.905 1384.24 L636.905 1169.62 L536.996 1169.62 L536.996 1169.62  Z\n",
       "  \" fill=\"#009af9\" fill-rule=\"evenodd\" fill-opacity=\"1\"/>\n",
       "<polyline clip-path=\"url(#clip532)\" style=\"stroke:#000000; stroke-linecap:round; stroke-linejoin:round; stroke-width:4; stroke-opacity:1; fill:none\" points=\"\n",
       "  536.996,1169.62 536.996,1384.24 636.905,1384.24 636.905,1169.62 536.996,1169.62 \n",
       "  \"/>\n",
       "<path clip-path=\"url(#clip532)\" d=\"\n",
       "M636.905 1187.45 L636.905 1384.24 L736.814 1384.24 L736.814 1187.45 L636.905 1187.45 L636.905 1187.45  Z\n",
       "  \" fill=\"#009af9\" fill-rule=\"evenodd\" fill-opacity=\"1\"/>\n",
       "<polyline clip-path=\"url(#clip532)\" style=\"stroke:#000000; stroke-linecap:round; stroke-linejoin:round; stroke-width:4; stroke-opacity:1; fill:none\" points=\"\n",
       "  636.905,1187.45 636.905,1384.24 736.814,1384.24 736.814,1187.45 636.905,1187.45 \n",
       "  \"/>\n",
       "<path clip-path=\"url(#clip532)\" d=\"\n",
       "M736.814 1235.99 L736.814 1384.24 L836.722 1384.24 L836.722 1235.99 L736.814 1235.99 L736.814 1235.99  Z\n",
       "  \" fill=\"#009af9\" fill-rule=\"evenodd\" fill-opacity=\"1\"/>\n",
       "<polyline clip-path=\"url(#clip532)\" style=\"stroke:#000000; stroke-linecap:round; stroke-linejoin:round; stroke-width:4; stroke-opacity:1; fill:none\" points=\"\n",
       "  736.814,1235.99 736.814,1384.24 836.722,1384.24 836.722,1235.99 736.814,1235.99 \n",
       "  \"/>\n",
       "<path clip-path=\"url(#clip532)\" d=\"\n",
       "M836.722 1262.73 L836.722 1384.24 L936.631 1384.24 L936.631 1262.73 L836.722 1262.73 L836.722 1262.73  Z\n",
       "  \" fill=\"#009af9\" fill-rule=\"evenodd\" fill-opacity=\"1\"/>\n",
       "<polyline clip-path=\"url(#clip532)\" style=\"stroke:#000000; stroke-linecap:round; stroke-linejoin:round; stroke-width:4; stroke-opacity:1; fill:none\" points=\"\n",
       "  836.722,1262.73 836.722,1384.24 936.631,1384.24 936.631,1262.73 836.722,1262.73 \n",
       "  \"/>\n",
       "<path clip-path=\"url(#clip532)\" d=\"\n",
       "M936.631 1288.65 L936.631 1384.24 L1036.54 1384.24 L1036.54 1288.65 L936.631 1288.65 L936.631 1288.65  Z\n",
       "  \" fill=\"#009af9\" fill-rule=\"evenodd\" fill-opacity=\"1\"/>\n",
       "<polyline clip-path=\"url(#clip532)\" style=\"stroke:#000000; stroke-linecap:round; stroke-linejoin:round; stroke-width:4; stroke-opacity:1; fill:none\" points=\"\n",
       "  936.631,1288.65 936.631,1384.24 1036.54,1384.24 1036.54,1288.65 936.631,1288.65 \n",
       "  \"/>\n",
       "<path clip-path=\"url(#clip532)\" d=\"\n",
       "M1036.54 1305.73 L1036.54 1384.24 L1136.45 1384.24 L1136.45 1305.73 L1036.54 1305.73 L1036.54 1305.73  Z\n",
       "  \" fill=\"#009af9\" fill-rule=\"evenodd\" fill-opacity=\"1\"/>\n",
       "<polyline clip-path=\"url(#clip532)\" style=\"stroke:#000000; stroke-linecap:round; stroke-linejoin:round; stroke-width:4; stroke-opacity:1; fill:none\" points=\"\n",
       "  1036.54,1305.73 1036.54,1384.24 1136.45,1384.24 1136.45,1305.73 1036.54,1305.73 \n",
       "  \"/>\n",
       "<path clip-path=\"url(#clip532)\" d=\"\n",
       "M1136.45 1321.99 L1136.45 1384.24 L1236.36 1384.24 L1236.36 1321.99 L1136.45 1321.99 L1136.45 1321.99  Z\n",
       "  \" fill=\"#009af9\" fill-rule=\"evenodd\" fill-opacity=\"1\"/>\n",
       "<polyline clip-path=\"url(#clip532)\" style=\"stroke:#000000; stroke-linecap:round; stroke-linejoin:round; stroke-width:4; stroke-opacity:1; fill:none\" points=\"\n",
       "  1136.45,1321.99 1136.45,1384.24 1236.36,1384.24 1236.36,1321.99 1136.45,1321.99 \n",
       "  \"/>\n",
       "<path clip-path=\"url(#clip532)\" d=\"\n",
       "M1236.36 1340.86 L1236.36 1384.24 L1336.27 1384.24 L1336.27 1340.86 L1236.36 1340.86 L1236.36 1340.86  Z\n",
       "  \" fill=\"#009af9\" fill-rule=\"evenodd\" fill-opacity=\"1\"/>\n",
       "<polyline clip-path=\"url(#clip532)\" style=\"stroke:#000000; stroke-linecap:round; stroke-linejoin:round; stroke-width:4; stroke-opacity:1; fill:none\" points=\"\n",
       "  1236.36,1340.86 1236.36,1384.24 1336.27,1384.24 1336.27,1340.86 1236.36,1340.86 \n",
       "  \"/>\n",
       "<path clip-path=\"url(#clip532)\" d=\"\n",
       "M1336.27 1355.55 L1336.27 1384.24 L1436.17 1384.24 L1436.17 1355.55 L1336.27 1355.55 L1336.27 1355.55  Z\n",
       "  \" fill=\"#009af9\" fill-rule=\"evenodd\" fill-opacity=\"1\"/>\n",
       "<polyline clip-path=\"url(#clip532)\" style=\"stroke:#000000; stroke-linecap:round; stroke-linejoin:round; stroke-width:4; stroke-opacity:1; fill:none\" points=\"\n",
       "  1336.27,1355.55 1336.27,1384.24 1436.17,1384.24 1436.17,1355.55 1336.27,1355.55 \n",
       "  \"/>\n",
       "<path clip-path=\"url(#clip532)\" d=\"\n",
       "M1436.17 1362.21 L1436.17 1384.24 L1536.08 1384.24 L1536.08 1362.21 L1436.17 1362.21 L1436.17 1362.21  Z\n",
       "  \" fill=\"#009af9\" fill-rule=\"evenodd\" fill-opacity=\"1\"/>\n",
       "<polyline clip-path=\"url(#clip532)\" style=\"stroke:#000000; stroke-linecap:round; stroke-linejoin:round; stroke-width:4; stroke-opacity:1; fill:none\" points=\"\n",
       "  1436.17,1362.21 1436.17,1384.24 1536.08,1384.24 1536.08,1362.21 1436.17,1362.21 \n",
       "  \"/>\n",
       "<path clip-path=\"url(#clip532)\" d=\"\n",
       "M1536.08 1367.68 L1536.08 1384.24 L1635.99 1384.24 L1635.99 1367.68 L1536.08 1367.68 L1536.08 1367.68  Z\n",
       "  \" fill=\"#009af9\" fill-rule=\"evenodd\" fill-opacity=\"1\"/>\n",
       "<polyline clip-path=\"url(#clip532)\" style=\"stroke:#000000; stroke-linecap:round; stroke-linejoin:round; stroke-width:4; stroke-opacity:1; fill:none\" points=\"\n",
       "  1536.08,1367.68 1536.08,1384.24 1635.99,1384.24 1635.99,1367.68 1536.08,1367.68 \n",
       "  \"/>\n",
       "<path clip-path=\"url(#clip532)\" d=\"\n",
       "M1635.99 1369.33 L1635.99 1384.24 L1735.9 1384.24 L1735.9 1369.33 L1635.99 1369.33 L1635.99 1369.33  Z\n",
       "  \" fill=\"#009af9\" fill-rule=\"evenodd\" fill-opacity=\"1\"/>\n",
       "<polyline clip-path=\"url(#clip532)\" style=\"stroke:#000000; stroke-linecap:round; stroke-linejoin:round; stroke-width:4; stroke-opacity:1; fill:none\" points=\"\n",
       "  1635.99,1369.33 1635.99,1384.24 1735.9,1384.24 1735.9,1369.33 1635.99,1369.33 \n",
       "  \"/>\n",
       "<path clip-path=\"url(#clip532)\" d=\"\n",
       "M1735.9 1371.73 L1735.9 1384.24 L1835.81 1384.24 L1835.81 1371.73 L1735.9 1371.73 L1735.9 1371.73  Z\n",
       "  \" fill=\"#009af9\" fill-rule=\"evenodd\" fill-opacity=\"1\"/>\n",
       "<polyline clip-path=\"url(#clip532)\" style=\"stroke:#000000; stroke-linecap:round; stroke-linejoin:round; stroke-width:4; stroke-opacity:1; fill:none\" points=\"\n",
       "  1735.9,1371.73 1735.9,1384.24 1835.81,1384.24 1835.81,1371.73 1735.9,1371.73 \n",
       "  \"/>\n",
       "<path clip-path=\"url(#clip532)\" d=\"\n",
       "M1835.81 1373.38 L1835.81 1384.24 L1935.72 1384.24 L1935.72 1373.38 L1835.81 1373.38 L1835.81 1373.38  Z\n",
       "  \" fill=\"#009af9\" fill-rule=\"evenodd\" fill-opacity=\"1\"/>\n",
       "<polyline clip-path=\"url(#clip532)\" style=\"stroke:#000000; stroke-linecap:round; stroke-linejoin:round; stroke-width:4; stroke-opacity:1; fill:none\" points=\"\n",
       "  1835.81,1373.38 1835.81,1384.24 1935.72,1384.24 1935.72,1373.38 1835.81,1373.38 \n",
       "  \"/>\n",
       "<path clip-path=\"url(#clip532)\" d=\"\n",
       "M1935.72 1375.32 L1935.72 1384.24 L2035.63 1384.24 L2035.63 1375.32 L1935.72 1375.32 L1935.72 1375.32  Z\n",
       "  \" fill=\"#009af9\" fill-rule=\"evenodd\" fill-opacity=\"1\"/>\n",
       "<polyline clip-path=\"url(#clip532)\" style=\"stroke:#000000; stroke-linecap:round; stroke-linejoin:round; stroke-width:4; stroke-opacity:1; fill:none\" points=\"\n",
       "  1935.72,1375.32 1935.72,1384.24 2035.63,1384.24 2035.63,1375.32 1935.72,1375.32 \n",
       "  \"/>\n",
       "<path clip-path=\"url(#clip532)\" d=\"\n",
       "M2035.63 1372.48 L2035.63 1384.24 L2135.53 1384.24 L2135.53 1372.48 L2035.63 1372.48 L2035.63 1372.48  Z\n",
       "  \" fill=\"#009af9\" fill-rule=\"evenodd\" fill-opacity=\"1\"/>\n",
       "<polyline clip-path=\"url(#clip532)\" style=\"stroke:#000000; stroke-linecap:round; stroke-linejoin:round; stroke-width:4; stroke-opacity:1; fill:none\" points=\"\n",
       "  2035.63,1372.48 2035.63,1384.24 2135.53,1384.24 2135.53,1372.48 2035.63,1372.48 \n",
       "  \"/>\n",
       "<path clip-path=\"url(#clip532)\" d=\"\n",
       "M2135.53 1374.35 L2135.53 1384.24 L2235.44 1384.24 L2235.44 1374.35 L2135.53 1374.35 L2135.53 1374.35  Z\n",
       "  \" fill=\"#009af9\" fill-rule=\"evenodd\" fill-opacity=\"1\"/>\n",
       "<polyline clip-path=\"url(#clip532)\" style=\"stroke:#000000; stroke-linecap:round; stroke-linejoin:round; stroke-width:4; stroke-opacity:1; fill:none\" points=\"\n",
       "  2135.53,1374.35 2135.53,1384.24 2235.44,1384.24 2235.44,1374.35 2135.53,1374.35 \n",
       "  \"/>\n",
       "<circle clip-path=\"url(#clip532)\" style=\"fill:#009af9; stroke:none; fill-opacity:0\" cx=\"387.133\" cy=\"86.1857\" r=\"2\"/>\n",
       "<circle clip-path=\"url(#clip532)\" style=\"fill:#009af9; stroke:none; fill-opacity:0\" cx=\"487.042\" cy=\"1350.9\" r=\"2\"/>\n",
       "<circle clip-path=\"url(#clip532)\" style=\"fill:#009af9; stroke:none; fill-opacity:0\" cx=\"586.951\" cy=\"1169.62\" r=\"2\"/>\n",
       "<circle clip-path=\"url(#clip532)\" style=\"fill:#009af9; stroke:none; fill-opacity:0\" cx=\"686.859\" cy=\"1187.45\" r=\"2\"/>\n",
       "<circle clip-path=\"url(#clip532)\" style=\"fill:#009af9; stroke:none; fill-opacity:0\" cx=\"786.768\" cy=\"1235.99\" r=\"2\"/>\n",
       "<circle clip-path=\"url(#clip532)\" style=\"fill:#009af9; stroke:none; fill-opacity:0\" cx=\"886.677\" cy=\"1262.73\" r=\"2\"/>\n",
       "<circle clip-path=\"url(#clip532)\" style=\"fill:#009af9; stroke:none; fill-opacity:0\" cx=\"986.585\" cy=\"1288.65\" r=\"2\"/>\n",
       "<circle clip-path=\"url(#clip532)\" style=\"fill:#009af9; stroke:none; fill-opacity:0\" cx=\"1086.49\" cy=\"1305.73\" r=\"2\"/>\n",
       "<circle clip-path=\"url(#clip532)\" style=\"fill:#009af9; stroke:none; fill-opacity:0\" cx=\"1186.4\" cy=\"1321.99\" r=\"2\"/>\n",
       "<circle clip-path=\"url(#clip532)\" style=\"fill:#009af9; stroke:none; fill-opacity:0\" cx=\"1286.31\" cy=\"1340.86\" r=\"2\"/>\n",
       "<circle clip-path=\"url(#clip532)\" style=\"fill:#009af9; stroke:none; fill-opacity:0\" cx=\"1386.22\" cy=\"1355.55\" r=\"2\"/>\n",
       "<circle clip-path=\"url(#clip532)\" style=\"fill:#009af9; stroke:none; fill-opacity:0\" cx=\"1486.13\" cy=\"1362.21\" r=\"2\"/>\n",
       "<circle clip-path=\"url(#clip532)\" style=\"fill:#009af9; stroke:none; fill-opacity:0\" cx=\"1586.04\" cy=\"1367.68\" r=\"2\"/>\n",
       "<circle clip-path=\"url(#clip532)\" style=\"fill:#009af9; stroke:none; fill-opacity:0\" cx=\"1685.95\" cy=\"1369.33\" r=\"2\"/>\n",
       "<circle clip-path=\"url(#clip532)\" style=\"fill:#009af9; stroke:none; fill-opacity:0\" cx=\"1785.85\" cy=\"1371.73\" r=\"2\"/>\n",
       "<circle clip-path=\"url(#clip532)\" style=\"fill:#009af9; stroke:none; fill-opacity:0\" cx=\"1885.76\" cy=\"1373.38\" r=\"2\"/>\n",
       "<circle clip-path=\"url(#clip532)\" style=\"fill:#009af9; stroke:none; fill-opacity:0\" cx=\"1985.67\" cy=\"1375.32\" r=\"2\"/>\n",
       "<circle clip-path=\"url(#clip532)\" style=\"fill:#009af9; stroke:none; fill-opacity:0\" cx=\"2085.58\" cy=\"1372.48\" r=\"2\"/>\n",
       "<circle clip-path=\"url(#clip532)\" style=\"fill:#009af9; stroke:none; fill-opacity:0\" cx=\"2185.49\" cy=\"1374.35\" r=\"2\"/>\n",
       "<path clip-path=\"url(#clip530)\" d=\"\n",
       "M1773.7 196.789 L2281.66 196.789 L2281.66 93.1086 L1773.7 93.1086  Z\n",
       "  \" fill=\"#ffffff\" fill-rule=\"evenodd\" fill-opacity=\"1\"/>\n",
       "<polyline clip-path=\"url(#clip530)\" style=\"stroke:#000000; stroke-linecap:round; stroke-linejoin:round; stroke-width:4; stroke-opacity:1; fill:none\" points=\"\n",
       "  1773.7,196.789 2281.66,196.789 2281.66,93.1086 1773.7,93.1086 1773.7,196.789 \n",
       "  \"/>\n",
       "<path clip-path=\"url(#clip530)\" d=\"\n",
       "M1797.4 165.685 L1939.59 165.685 L1939.59 124.213 L1797.4 124.213 L1797.4 165.685  Z\n",
       "  \" fill=\"#009af9\" fill-rule=\"evenodd\" fill-opacity=\"1\"/>\n",
       "<polyline clip-path=\"url(#clip530)\" style=\"stroke:#000000; stroke-linecap:round; stroke-linejoin:round; stroke-width:4; stroke-opacity:1; fill:none\" points=\"\n",
       "  1797.4,165.685 1939.59,165.685 1939.59,124.213 1797.4,124.213 1797.4,165.685 \n",
       "  \"/>\n",
       "<path clip-path=\"url(#clip530)\" d=\"M1963.29 127.669 L1967.96 127.669 L1967.96 162.229 L1963.29 162.229 L1963.29 127.669 Z\" fill=\"#000000\" fill-rule=\"evenodd\" fill-opacity=\"1\" /><path clip-path=\"url(#clip530)\" d=\"M1998.63 146.581 L1998.63 162.229 L1994.37 162.229 L1994.37 146.719 Q1994.37 143.039 1992.94 141.21 Q1991.5 139.382 1988.63 139.382 Q1985.18 139.382 1983.19 141.581 Q1981.2 143.78 1981.2 147.576 L1981.2 162.229 L1976.92 162.229 L1976.92 136.303 L1981.2 136.303 L1981.2 140.331 Q1982.73 137.993 1984.79 136.835 Q1986.87 135.678 1989.58 135.678 Q1994.05 135.678 1996.34 138.456 Q1998.63 141.21 1998.63 146.581 Z\" fill=\"#000000\" fill-rule=\"evenodd\" fill-opacity=\"1\" /><path clip-path=\"url(#clip530)\" d=\"M2024.19 140.238 L2024.19 126.21 L2028.45 126.21 L2028.45 162.229 L2024.19 162.229 L2024.19 158.34 Q2022.85 160.655 2020.79 161.789 Q2018.75 162.9 2015.88 162.9 Q2011.18 162.9 2008.22 159.15 Q2005.28 155.4 2005.28 149.289 Q2005.28 143.178 2008.22 139.428 Q2011.18 135.678 2015.88 135.678 Q2018.75 135.678 2020.79 136.812 Q2022.85 137.923 2024.19 140.238 M2009.68 149.289 Q2009.68 153.988 2011.6 156.673 Q2013.54 159.335 2016.92 159.335 Q2020.3 159.335 2022.24 156.673 Q2024.19 153.988 2024.19 149.289 Q2024.19 144.59 2022.24 141.928 Q2020.3 139.243 2016.92 139.243 Q2013.54 139.243 2011.6 141.928 Q2009.68 144.59 2009.68 149.289 Z\" fill=\"#000000\" fill-rule=\"evenodd\" fill-opacity=\"1\" /><path clip-path=\"url(#clip530)\" d=\"M2037.22 136.303 L2041.48 136.303 L2041.48 162.229 L2037.22 162.229 L2037.22 136.303 M2037.22 126.21 L2041.48 126.21 L2041.48 131.604 L2037.22 131.604 L2037.22 126.21 Z\" fill=\"#000000\" fill-rule=\"evenodd\" fill-opacity=\"1\" /><path clip-path=\"url(#clip530)\" d=\"M2047.34 136.303 L2051.85 136.303 L2059.95 158.062 L2068.05 136.303 L2072.57 136.303 L2062.85 162.229 L2057.06 162.229 L2047.34 136.303 Z\" fill=\"#000000\" fill-rule=\"evenodd\" fill-opacity=\"1\" /><path clip-path=\"url(#clip530)\" d=\"M2078.45 136.303 L2082.71 136.303 L2082.71 162.229 L2078.45 162.229 L2078.45 136.303 M2078.45 126.21 L2082.71 126.21 L2082.71 131.604 L2078.45 131.604 L2078.45 126.21 Z\" fill=\"#000000\" fill-rule=\"evenodd\" fill-opacity=\"1\" /><path clip-path=\"url(#clip530)\" d=\"M2108.68 140.238 L2108.68 126.21 L2112.94 126.21 L2112.94 162.229 L2108.68 162.229 L2108.68 158.34 Q2107.34 160.655 2105.28 161.789 Q2103.24 162.9 2100.37 162.9 Q2095.67 162.9 2092.71 159.15 Q2089.77 155.4 2089.77 149.289 Q2089.77 143.178 2092.71 139.428 Q2095.67 135.678 2100.37 135.678 Q2103.24 135.678 2105.28 136.812 Q2107.34 137.923 2108.68 140.238 M2094.17 149.289 Q2094.17 153.988 2096.09 156.673 Q2098.03 159.335 2101.41 159.335 Q2104.79 159.335 2106.73 156.673 Q2108.68 153.988 2108.68 149.289 Q2108.68 144.59 2106.73 141.928 Q2104.79 139.243 2101.41 139.243 Q2098.03 139.243 2096.09 141.928 Q2094.17 144.59 2094.17 149.289 Z\" fill=\"#000000\" fill-rule=\"evenodd\" fill-opacity=\"1\" /><path clip-path=\"url(#clip530)\" d=\"M2121.27 151.997 L2121.27 136.303 L2125.53 136.303 L2125.53 151.835 Q2125.53 155.516 2126.97 157.368 Q2128.4 159.196 2131.27 159.196 Q2134.72 159.196 2136.71 156.997 Q2138.73 154.798 2138.73 151.002 L2138.73 136.303 L2142.98 136.303 L2142.98 162.229 L2138.73 162.229 L2138.73 158.247 Q2137.17 160.608 2135.11 161.766 Q2133.08 162.9 2130.37 162.9 Q2125.9 162.9 2123.59 160.122 Q2121.27 157.344 2121.27 151.997 M2131.99 135.678 L2131.99 135.678 Z\" fill=\"#000000\" fill-rule=\"evenodd\" fill-opacity=\"1\" /><path clip-path=\"url(#clip530)\" d=\"M2163.54 149.196 Q2158.38 149.196 2156.39 150.377 Q2154.4 151.557 2154.4 154.405 Q2154.4 156.673 2155.88 158.016 Q2157.38 159.335 2159.95 159.335 Q2163.49 159.335 2165.62 156.835 Q2167.78 154.312 2167.78 150.145 L2167.78 149.196 L2163.54 149.196 M2172.04 147.437 L2172.04 162.229 L2167.78 162.229 L2167.78 158.293 Q2166.32 160.655 2164.14 161.789 Q2161.97 162.9 2158.82 162.9 Q2154.84 162.9 2152.48 160.678 Q2150.14 158.432 2150.14 154.682 Q2150.14 150.307 2153.05 148.085 Q2155.99 145.863 2161.8 145.863 L2167.78 145.863 L2167.78 145.446 Q2167.78 142.507 2165.83 140.909 Q2163.91 139.289 2160.42 139.289 Q2158.19 139.289 2156.09 139.821 Q2153.98 140.354 2152.04 141.419 L2152.04 137.483 Q2154.37 136.581 2156.57 136.141 Q2158.77 135.678 2160.85 135.678 Q2166.48 135.678 2169.26 138.594 Q2172.04 141.511 2172.04 147.437 Z\" fill=\"#000000\" fill-rule=\"evenodd\" fill-opacity=\"1\" /><path clip-path=\"url(#clip530)\" d=\"M2180.81 126.21 L2185.07 126.21 L2185.07 162.229 L2180.81 162.229 L2180.81 126.21 Z\" fill=\"#000000\" fill-rule=\"evenodd\" fill-opacity=\"1\" /><path clip-path=\"url(#clip530)\" d=\"M2209.23 127.669 L2213.91 127.669 L2213.91 158.293 L2230.74 158.293 L2230.74 162.229 L2209.23 162.229 L2209.23 127.669 Z\" fill=\"#000000\" fill-rule=\"evenodd\" fill-opacity=\"1\" /><path clip-path=\"url(#clip530)\" d=\"M2240.32 131.511 L2240.32 144.497 L2246.2 144.497 Q2249.47 144.497 2251.25 142.807 Q2253.03 141.118 2253.03 137.993 Q2253.03 134.891 2251.25 133.201 Q2249.47 131.511 2246.2 131.511 L2240.32 131.511 M2235.65 127.669 L2246.2 127.669 Q2252.01 127.669 2254.97 130.307 Q2257.96 132.923 2257.96 137.993 Q2257.96 143.108 2254.97 145.724 Q2252.01 148.34 2246.2 148.34 L2240.32 148.34 L2240.32 162.229 L2235.65 162.229 L2235.65 127.669 Z\" fill=\"#000000\" fill-rule=\"evenodd\" fill-opacity=\"1\" /></svg>\n"
      ]
     },
     "execution_count": 50,
     "metadata": {},
     "output_type": "execute_result"
    }
   ],
   "source": [
    "hist_ind = histogram(h2_distr_ind, normalize = :probability,\n",
    "          label = \"Individual LP\", xlab = \"h2\", ylab = \"Proportion\", bins = 0.0:0.05:0.95)"
   ]
  },
  {
   "cell_type": "code",
   "execution_count": 51,
   "id": "d6f5e0d7-12a8-4248-b60d-9cae9e182f1d",
   "metadata": {},
   "outputs": [
    {
     "data": {
      "image/svg+xml": [
       "<?xml version=\"1.0\" encoding=\"utf-8\"?>\n",
       "<svg xmlns=\"http://www.w3.org/2000/svg\" xmlns:xlink=\"http://www.w3.org/1999/xlink\" width=\"600\" height=\"400\" viewBox=\"0 0 2400 1600\">\n",
       "<defs>\n",
       "  <clipPath id=\"clip570\">\n",
       "    <rect x=\"0\" y=\"0\" width=\"2400\" height=\"1600\"/>\n",
       "  </clipPath>\n",
       "</defs>\n",
       "<path clip-path=\"url(#clip570)\" d=\"\n",
       "M0 1600 L2400 1600 L2400 0 L0 0  Z\n",
       "  \" fill=\"#ffffff\" fill-rule=\"evenodd\" fill-opacity=\"1\"/>\n",
       "<defs>\n",
       "  <clipPath id=\"clip571\">\n",
       "    <rect x=\"480\" y=\"0\" width=\"1681\" height=\"1600\"/>\n",
       "  </clipPath>\n",
       "</defs>\n",
       "<path clip-path=\"url(#clip570)\" d=\"\n",
       "M219.866 1423.18 L2352.76 1423.18 L2352.76 47.2441 L219.866 47.2441  Z\n",
       "  \" fill=\"#ffffff\" fill-rule=\"evenodd\" fill-opacity=\"1\"/>\n",
       "<defs>\n",
       "  <clipPath id=\"clip572\">\n",
       "    <rect x=\"219\" y=\"47\" width=\"2134\" height=\"1377\"/>\n",
       "  </clipPath>\n",
       "</defs>\n",
       "<polyline clip-path=\"url(#clip572)\" style=\"stroke:#000000; stroke-linecap:round; stroke-linejoin:round; stroke-width:2; stroke-opacity:0.1; fill:none\" points=\"\n",
       "  337.179,1423.18 337.179,47.2441 \n",
       "  \"/>\n",
       "<polyline clip-path=\"url(#clip572)\" style=\"stroke:#000000; stroke-linecap:round; stroke-linejoin:round; stroke-width:2; stroke-opacity:0.1; fill:none\" points=\"\n",
       "  836.722,1423.18 836.722,47.2441 \n",
       "  \"/>\n",
       "<polyline clip-path=\"url(#clip572)\" style=\"stroke:#000000; stroke-linecap:round; stroke-linejoin:round; stroke-width:2; stroke-opacity:0.1; fill:none\" points=\"\n",
       "  1336.27,1423.18 1336.27,47.2441 \n",
       "  \"/>\n",
       "<polyline clip-path=\"url(#clip572)\" style=\"stroke:#000000; stroke-linecap:round; stroke-linejoin:round; stroke-width:2; stroke-opacity:0.1; fill:none\" points=\"\n",
       "  1835.81,1423.18 1835.81,47.2441 \n",
       "  \"/>\n",
       "<polyline clip-path=\"url(#clip572)\" style=\"stroke:#000000; stroke-linecap:round; stroke-linejoin:round; stroke-width:2; stroke-opacity:0.1; fill:none\" points=\"\n",
       "  2335.35,1423.18 2335.35,47.2441 \n",
       "  \"/>\n",
       "<polyline clip-path=\"url(#clip570)\" style=\"stroke:#000000; stroke-linecap:round; stroke-linejoin:round; stroke-width:4; stroke-opacity:1; fill:none\" points=\"\n",
       "  219.866,1423.18 2352.76,1423.18 \n",
       "  \"/>\n",
       "<polyline clip-path=\"url(#clip570)\" style=\"stroke:#000000; stroke-linecap:round; stroke-linejoin:round; stroke-width:4; stroke-opacity:1; fill:none\" points=\"\n",
       "  337.179,1423.18 337.179,1404.28 \n",
       "  \"/>\n",
       "<polyline clip-path=\"url(#clip570)\" style=\"stroke:#000000; stroke-linecap:round; stroke-linejoin:round; stroke-width:4; stroke-opacity:1; fill:none\" points=\"\n",
       "  836.722,1423.18 836.722,1404.28 \n",
       "  \"/>\n",
       "<polyline clip-path=\"url(#clip570)\" style=\"stroke:#000000; stroke-linecap:round; stroke-linejoin:round; stroke-width:4; stroke-opacity:1; fill:none\" points=\"\n",
       "  1336.27,1423.18 1336.27,1404.28 \n",
       "  \"/>\n",
       "<polyline clip-path=\"url(#clip570)\" style=\"stroke:#000000; stroke-linecap:round; stroke-linejoin:round; stroke-width:4; stroke-opacity:1; fill:none\" points=\"\n",
       "  1835.81,1423.18 1835.81,1404.28 \n",
       "  \"/>\n",
       "<polyline clip-path=\"url(#clip570)\" style=\"stroke:#000000; stroke-linecap:round; stroke-linejoin:round; stroke-width:4; stroke-opacity:1; fill:none\" points=\"\n",
       "  2335.35,1423.18 2335.35,1404.28 \n",
       "  \"/>\n",
       "<path clip-path=\"url(#clip570)\" d=\"M299.482 1454.1 Q295.871 1454.1 294.043 1457.66 Q292.237 1461.2 292.237 1468.33 Q292.237 1475.44 294.043 1479.01 Q295.871 1482.55 299.482 1482.55 Q303.117 1482.55 304.922 1479.01 Q306.751 1475.44 306.751 1468.33 Q306.751 1461.2 304.922 1457.66 Q303.117 1454.1 299.482 1454.1 M299.482 1450.39 Q305.293 1450.39 308.348 1455 Q311.427 1459.58 311.427 1468.33 Q311.427 1477.06 308.348 1481.67 Q305.293 1486.25 299.482 1486.25 Q293.672 1486.25 290.594 1481.67 Q287.538 1477.06 287.538 1468.33 Q287.538 1459.58 290.594 1455 Q293.672 1450.39 299.482 1450.39 Z\" fill=\"#000000\" fill-rule=\"evenodd\" fill-opacity=\"1\" /><path clip-path=\"url(#clip570)\" d=\"M319.644 1479.7 L324.529 1479.7 L324.529 1485.58 L319.644 1485.58 L319.644 1479.7 Z\" fill=\"#000000\" fill-rule=\"evenodd\" fill-opacity=\"1\" /><path clip-path=\"url(#clip570)\" d=\"M344.714 1454.1 Q341.103 1454.1 339.274 1457.66 Q337.468 1461.2 337.468 1468.33 Q337.468 1475.44 339.274 1479.01 Q341.103 1482.55 344.714 1482.55 Q348.348 1482.55 350.153 1479.01 Q351.982 1475.44 351.982 1468.33 Q351.982 1461.2 350.153 1457.66 Q348.348 1454.1 344.714 1454.1 M344.714 1450.39 Q350.524 1450.39 353.579 1455 Q356.658 1459.58 356.658 1468.33 Q356.658 1477.06 353.579 1481.67 Q350.524 1486.25 344.714 1486.25 Q338.904 1486.25 335.825 1481.67 Q332.769 1477.06 332.769 1468.33 Q332.769 1459.58 335.825 1455 Q338.904 1450.39 344.714 1450.39 Z\" fill=\"#000000\" fill-rule=\"evenodd\" fill-opacity=\"1\" /><path clip-path=\"url(#clip570)\" d=\"M374.876 1454.1 Q371.264 1454.1 369.436 1457.66 Q367.63 1461.2 367.63 1468.33 Q367.63 1475.44 369.436 1479.01 Q371.264 1482.55 374.876 1482.55 Q378.51 1482.55 380.315 1479.01 Q382.144 1475.44 382.144 1468.33 Q382.144 1461.2 380.315 1457.66 Q378.51 1454.1 374.876 1454.1 M374.876 1450.39 Q380.686 1450.39 383.741 1455 Q386.82 1459.58 386.82 1468.33 Q386.82 1477.06 383.741 1481.67 Q380.686 1486.25 374.876 1486.25 Q369.065 1486.25 365.987 1481.67 Q362.931 1477.06 362.931 1468.33 Q362.931 1459.58 365.987 1455 Q369.065 1450.39 374.876 1450.39 Z\" fill=\"#000000\" fill-rule=\"evenodd\" fill-opacity=\"1\" /><path clip-path=\"url(#clip570)\" d=\"M799.523 1454.1 Q795.912 1454.1 794.084 1457.66 Q792.278 1461.2 792.278 1468.33 Q792.278 1475.44 794.084 1479.01 Q795.912 1482.55 799.523 1482.55 Q803.158 1482.55 804.963 1479.01 Q806.792 1475.44 806.792 1468.33 Q806.792 1461.2 804.963 1457.66 Q803.158 1454.1 799.523 1454.1 M799.523 1450.39 Q805.333 1450.39 808.389 1455 Q811.468 1459.58 811.468 1468.33 Q811.468 1477.06 808.389 1481.67 Q805.333 1486.25 799.523 1486.25 Q793.713 1486.25 790.634 1481.67 Q787.579 1477.06 787.579 1468.33 Q787.579 1459.58 790.634 1455 Q793.713 1450.39 799.523 1450.39 Z\" fill=\"#000000\" fill-rule=\"evenodd\" fill-opacity=\"1\" /><path clip-path=\"url(#clip570)\" d=\"M819.685 1479.7 L824.569 1479.7 L824.569 1485.58 L819.685 1485.58 L819.685 1479.7 Z\" fill=\"#000000\" fill-rule=\"evenodd\" fill-opacity=\"1\" /><path clip-path=\"url(#clip570)\" d=\"M838.782 1481.64 L855.102 1481.64 L855.102 1485.58 L833.157 1485.58 L833.157 1481.64 Q835.819 1478.89 840.403 1474.26 Q845.009 1469.61 846.19 1468.27 Q848.435 1465.74 849.315 1464.01 Q850.217 1462.25 850.217 1460.56 Q850.217 1457.8 848.273 1456.07 Q846.352 1454.33 843.25 1454.33 Q841.051 1454.33 838.597 1455.09 Q836.167 1455.86 833.389 1457.41 L833.389 1452.69 Q836.213 1451.55 838.667 1450.97 Q841.12 1450.39 843.157 1450.39 Q848.528 1450.39 851.722 1453.08 Q854.917 1455.77 854.917 1460.26 Q854.917 1462.39 854.106 1464.31 Q853.319 1466.2 851.213 1468.8 Q850.634 1469.47 847.532 1472.69 Q844.43 1475.88 838.782 1481.64 Z\" fill=\"#000000\" fill-rule=\"evenodd\" fill-opacity=\"1\" /><path clip-path=\"url(#clip570)\" d=\"M864.963 1451.02 L883.319 1451.02 L883.319 1454.96 L869.245 1454.96 L869.245 1463.43 Q870.264 1463.08 871.282 1462.92 Q872.301 1462.73 873.319 1462.73 Q879.106 1462.73 882.486 1465.9 Q885.865 1469.08 885.865 1474.49 Q885.865 1480.07 882.393 1483.17 Q878.921 1486.25 872.602 1486.25 Q870.426 1486.25 868.157 1485.88 Q865.912 1485.51 863.504 1484.77 L863.504 1480.07 Q865.588 1481.2 867.81 1481.76 Q870.032 1482.32 872.509 1482.32 Q876.514 1482.32 878.852 1480.21 Q881.19 1478.1 881.19 1474.49 Q881.19 1470.88 878.852 1468.77 Q876.514 1466.67 872.509 1466.67 Q870.634 1466.67 868.759 1467.08 Q866.907 1467.5 864.963 1468.38 L864.963 1451.02 Z\" fill=\"#000000\" fill-rule=\"evenodd\" fill-opacity=\"1\" /><path clip-path=\"url(#clip570)\" d=\"M1298.57 1454.1 Q1294.96 1454.1 1293.13 1457.66 Q1291.32 1461.2 1291.32 1468.33 Q1291.32 1475.44 1293.13 1479.01 Q1294.96 1482.55 1298.57 1482.55 Q1302.2 1482.55 1304.01 1479.01 Q1305.84 1475.44 1305.84 1468.33 Q1305.84 1461.2 1304.01 1457.66 Q1302.2 1454.1 1298.57 1454.1 M1298.57 1450.39 Q1304.38 1450.39 1307.43 1455 Q1310.51 1459.58 1310.51 1468.33 Q1310.51 1477.06 1307.43 1481.67 Q1304.38 1486.25 1298.57 1486.25 Q1292.76 1486.25 1289.68 1481.67 Q1286.62 1477.06 1286.62 1468.33 Q1286.62 1459.58 1289.68 1455 Q1292.76 1450.39 1298.57 1450.39 Z\" fill=\"#000000\" fill-rule=\"evenodd\" fill-opacity=\"1\" /><path clip-path=\"url(#clip570)\" d=\"M1318.73 1479.7 L1323.62 1479.7 L1323.62 1485.58 L1318.73 1485.58 L1318.73 1479.7 Z\" fill=\"#000000\" fill-rule=\"evenodd\" fill-opacity=\"1\" /><path clip-path=\"url(#clip570)\" d=\"M1333.85 1451.02 L1352.2 1451.02 L1352.2 1454.96 L1338.13 1454.96 L1338.13 1463.43 Q1339.15 1463.08 1340.17 1462.92 Q1341.18 1462.73 1342.2 1462.73 Q1347.99 1462.73 1351.37 1465.9 Q1354.75 1469.08 1354.75 1474.49 Q1354.75 1480.07 1351.28 1483.17 Q1347.8 1486.25 1341.49 1486.25 Q1339.31 1486.25 1337.04 1485.88 Q1334.8 1485.51 1332.39 1484.77 L1332.39 1480.07 Q1334.47 1481.2 1336.69 1481.76 Q1338.92 1482.32 1341.39 1482.32 Q1345.4 1482.32 1347.74 1480.21 Q1350.07 1478.1 1350.07 1474.49 Q1350.07 1470.88 1347.74 1468.77 Q1345.4 1466.67 1341.39 1466.67 Q1339.52 1466.67 1337.64 1467.08 Q1335.79 1467.5 1333.85 1468.38 L1333.85 1451.02 Z\" fill=\"#000000\" fill-rule=\"evenodd\" fill-opacity=\"1\" /><path clip-path=\"url(#clip570)\" d=\"M1373.96 1454.1 Q1370.35 1454.1 1368.52 1457.66 Q1366.72 1461.2 1366.72 1468.33 Q1366.72 1475.44 1368.52 1479.01 Q1370.35 1482.55 1373.96 1482.55 Q1377.6 1482.55 1379.4 1479.01 Q1381.23 1475.44 1381.23 1468.33 Q1381.23 1461.2 1379.4 1457.66 Q1377.6 1454.1 1373.96 1454.1 M1373.96 1450.39 Q1379.77 1450.39 1382.83 1455 Q1385.91 1459.58 1385.91 1468.33 Q1385.91 1477.06 1382.83 1481.67 Q1379.77 1486.25 1373.96 1486.25 Q1368.15 1486.25 1365.07 1481.67 Q1362.02 1477.06 1362.02 1468.33 Q1362.02 1459.58 1365.07 1455 Q1368.15 1450.39 1373.96 1450.39 Z\" fill=\"#000000\" fill-rule=\"evenodd\" fill-opacity=\"1\" /><path clip-path=\"url(#clip570)\" d=\"M1798.61 1454.1 Q1795 1454.1 1793.17 1457.66 Q1791.36 1461.2 1791.36 1468.33 Q1791.36 1475.44 1793.17 1479.01 Q1795 1482.55 1798.61 1482.55 Q1802.24 1482.55 1804.05 1479.01 Q1805.88 1475.44 1805.88 1468.33 Q1805.88 1461.2 1804.05 1457.66 Q1802.24 1454.1 1798.61 1454.1 M1798.61 1450.39 Q1804.42 1450.39 1807.48 1455 Q1810.55 1459.58 1810.55 1468.33 Q1810.55 1477.06 1807.48 1481.67 Q1804.42 1486.25 1798.61 1486.25 Q1792.8 1486.25 1789.72 1481.67 Q1786.67 1477.06 1786.67 1468.33 Q1786.67 1459.58 1789.72 1455 Q1792.8 1450.39 1798.61 1450.39 Z\" fill=\"#000000\" fill-rule=\"evenodd\" fill-opacity=\"1\" /><path clip-path=\"url(#clip570)\" d=\"M1818.77 1479.7 L1823.66 1479.7 L1823.66 1485.58 L1818.77 1485.58 L1818.77 1479.7 Z\" fill=\"#000000\" fill-rule=\"evenodd\" fill-opacity=\"1\" /><path clip-path=\"url(#clip570)\" d=\"M1832.66 1451.02 L1854.88 1451.02 L1854.88 1453.01 L1842.34 1485.58 L1837.45 1485.58 L1849.26 1454.96 L1832.66 1454.96 L1832.66 1451.02 Z\" fill=\"#000000\" fill-rule=\"evenodd\" fill-opacity=\"1\" /><path clip-path=\"url(#clip570)\" d=\"M1864.05 1451.02 L1882.41 1451.02 L1882.41 1454.96 L1868.33 1454.96 L1868.33 1463.43 Q1869.35 1463.08 1870.37 1462.92 Q1871.39 1462.73 1872.41 1462.73 Q1878.19 1462.73 1881.57 1465.9 Q1884.95 1469.08 1884.95 1474.49 Q1884.95 1480.07 1881.48 1483.17 Q1878.01 1486.25 1871.69 1486.25 Q1869.51 1486.25 1867.24 1485.88 Q1865 1485.51 1862.59 1484.77 L1862.59 1480.07 Q1864.67 1481.2 1866.9 1481.76 Q1869.12 1482.32 1871.6 1482.32 Q1875.6 1482.32 1877.94 1480.21 Q1880.28 1478.1 1880.28 1474.49 Q1880.28 1470.88 1877.94 1468.77 Q1875.6 1466.67 1871.6 1466.67 Q1869.72 1466.67 1867.85 1467.08 Q1865.99 1467.5 1864.05 1468.38 L1864.05 1451.02 Z\" fill=\"#000000\" fill-rule=\"evenodd\" fill-opacity=\"1\" /><path clip-path=\"url(#clip570)\" d=\"M2287.42 1481.64 L2295.06 1481.64 L2295.06 1455.28 L2286.75 1456.95 L2286.75 1452.69 L2295.02 1451.02 L2299.69 1451.02 L2299.69 1481.64 L2307.33 1481.64 L2307.33 1485.58 L2287.42 1485.58 L2287.42 1481.64 Z\" fill=\"#000000\" fill-rule=\"evenodd\" fill-opacity=\"1\" /><path clip-path=\"url(#clip570)\" d=\"M2316.78 1479.7 L2321.66 1479.7 L2321.66 1485.58 L2316.78 1485.58 L2316.78 1479.7 Z\" fill=\"#000000\" fill-rule=\"evenodd\" fill-opacity=\"1\" /><path clip-path=\"url(#clip570)\" d=\"M2341.84 1454.1 Q2338.23 1454.1 2336.41 1457.66 Q2334.6 1461.2 2334.6 1468.33 Q2334.6 1475.44 2336.41 1479.01 Q2338.23 1482.55 2341.84 1482.55 Q2345.48 1482.55 2347.28 1479.01 Q2349.11 1475.44 2349.11 1468.33 Q2349.11 1461.2 2347.28 1457.66 Q2345.48 1454.1 2341.84 1454.1 M2341.84 1450.39 Q2347.65 1450.39 2350.71 1455 Q2353.79 1459.58 2353.79 1468.33 Q2353.79 1477.06 2350.71 1481.67 Q2347.65 1486.25 2341.84 1486.25 Q2336.03 1486.25 2332.96 1481.67 Q2329.9 1477.06 2329.9 1468.33 Q2329.9 1459.58 2332.96 1455 Q2336.03 1450.39 2341.84 1450.39 Z\" fill=\"#000000\" fill-rule=\"evenodd\" fill-opacity=\"1\" /><path clip-path=\"url(#clip570)\" d=\"M2372.01 1454.1 Q2368.4 1454.1 2366.57 1457.66 Q2364.76 1461.2 2364.76 1468.33 Q2364.76 1475.44 2366.57 1479.01 Q2368.4 1482.55 2372.01 1482.55 Q2375.64 1482.55 2377.45 1479.01 Q2379.28 1475.44 2379.28 1468.33 Q2379.28 1461.2 2377.45 1457.66 Q2375.64 1454.1 2372.01 1454.1 M2372.01 1450.39 Q2377.82 1450.39 2380.87 1455 Q2383.95 1459.58 2383.95 1468.33 Q2383.95 1477.06 2380.87 1481.67 Q2377.82 1486.25 2372.01 1486.25 Q2366.2 1486.25 2363.12 1481.67 Q2360.06 1477.06 2360.06 1468.33 Q2360.06 1459.58 2363.12 1455 Q2366.2 1450.39 2372.01 1450.39 Z\" fill=\"#000000\" fill-rule=\"evenodd\" fill-opacity=\"1\" /><path clip-path=\"url(#clip570)\" d=\"M1281 1546.53 L1281 1568.04 L1275.14 1568.04 L1275.14 1546.72 Q1275.14 1541.66 1273.17 1539.14 Q1271.19 1536.63 1267.25 1536.63 Q1262.5 1536.63 1259.77 1539.65 Q1257.03 1542.68 1257.03 1547.9 L1257.03 1568.04 L1251.14 1568.04 L1251.14 1518.52 L1257.03 1518.52 L1257.03 1537.93 Q1259.13 1534.72 1261.96 1533.13 Q1264.83 1531.54 1268.55 1531.54 Q1274.69 1531.54 1277.84 1535.36 Q1281 1539.14 1281 1546.53 Z\" fill=\"#000000\" fill-rule=\"evenodd\" fill-opacity=\"1\" /><path clip-path=\"url(#clip570)\" d=\"M1299.04 1562.63 L1321.48 1562.63 L1321.48 1568.04 L1291.31 1568.04 L1291.31 1562.63 Q1294.97 1558.85 1301.27 1552.48 Q1307.6 1546.08 1309.23 1544.24 Q1312.31 1540.77 1313.52 1538.38 Q1314.77 1535.96 1314.77 1533.64 Q1314.77 1529.85 1312.09 1527.46 Q1309.45 1525.08 1305.19 1525.08 Q1302.16 1525.08 1298.79 1526.13 Q1295.45 1527.18 1291.63 1529.31 L1291.63 1522.82 Q1295.51 1521.26 1298.88 1520.46 Q1302.26 1519.66 1305.06 1519.66 Q1312.44 1519.66 1316.83 1523.36 Q1321.23 1527.05 1321.23 1533.22 Q1321.23 1536.15 1320.11 1538.79 Q1319.03 1541.4 1316.13 1544.97 Q1315.34 1545.89 1311.07 1550.32 Q1306.81 1554.71 1299.04 1562.63 Z\" fill=\"#000000\" fill-rule=\"evenodd\" fill-opacity=\"1\" /><polyline clip-path=\"url(#clip572)\" style=\"stroke:#000000; stroke-linecap:round; stroke-linejoin:round; stroke-width:2; stroke-opacity:0.1; fill:none\" points=\"\n",
       "  219.866,1384.24 2352.76,1384.24 \n",
       "  \"/>\n",
       "<polyline clip-path=\"url(#clip572)\" style=\"stroke:#000000; stroke-linecap:round; stroke-linejoin:round; stroke-width:2; stroke-opacity:0.1; fill:none\" points=\"\n",
       "  219.866,1099.95 2352.76,1099.95 \n",
       "  \"/>\n",
       "<polyline clip-path=\"url(#clip572)\" style=\"stroke:#000000; stroke-linecap:round; stroke-linejoin:round; stroke-width:2; stroke-opacity:0.1; fill:none\" points=\"\n",
       "  219.866,815.656 2352.76,815.656 \n",
       "  \"/>\n",
       "<polyline clip-path=\"url(#clip572)\" style=\"stroke:#000000; stroke-linecap:round; stroke-linejoin:round; stroke-width:2; stroke-opacity:0.1; fill:none\" points=\"\n",
       "  219.866,531.364 2352.76,531.364 \n",
       "  \"/>\n",
       "<polyline clip-path=\"url(#clip572)\" style=\"stroke:#000000; stroke-linecap:round; stroke-linejoin:round; stroke-width:2; stroke-opacity:0.1; fill:none\" points=\"\n",
       "  219.866,247.073 2352.76,247.073 \n",
       "  \"/>\n",
       "<polyline clip-path=\"url(#clip570)\" style=\"stroke:#000000; stroke-linecap:round; stroke-linejoin:round; stroke-width:4; stroke-opacity:1; fill:none\" points=\"\n",
       "  219.866,1423.18 219.866,47.2441 \n",
       "  \"/>\n",
       "<polyline clip-path=\"url(#clip570)\" style=\"stroke:#000000; stroke-linecap:round; stroke-linejoin:round; stroke-width:4; stroke-opacity:1; fill:none\" points=\"\n",
       "  219.866,1384.24 238.764,1384.24 \n",
       "  \"/>\n",
       "<polyline clip-path=\"url(#clip570)\" style=\"stroke:#000000; stroke-linecap:round; stroke-linejoin:round; stroke-width:4; stroke-opacity:1; fill:none\" points=\"\n",
       "  219.866,1099.95 238.764,1099.95 \n",
       "  \"/>\n",
       "<polyline clip-path=\"url(#clip570)\" style=\"stroke:#000000; stroke-linecap:round; stroke-linejoin:round; stroke-width:4; stroke-opacity:1; fill:none\" points=\"\n",
       "  219.866,815.656 238.764,815.656 \n",
       "  \"/>\n",
       "<polyline clip-path=\"url(#clip570)\" style=\"stroke:#000000; stroke-linecap:round; stroke-linejoin:round; stroke-width:4; stroke-opacity:1; fill:none\" points=\"\n",
       "  219.866,531.364 238.764,531.364 \n",
       "  \"/>\n",
       "<polyline clip-path=\"url(#clip570)\" style=\"stroke:#000000; stroke-linecap:round; stroke-linejoin:round; stroke-width:4; stroke-opacity:1; fill:none\" points=\"\n",
       "  219.866,247.073 238.764,247.073 \n",
       "  \"/>\n",
       "<path clip-path=\"url(#clip570)\" d=\"M126.691 1370.04 Q123.08 1370.04 121.251 1373.6 Q119.445 1377.14 119.445 1384.27 Q119.445 1391.38 121.251 1394.94 Q123.08 1398.49 126.691 1398.49 Q130.325 1398.49 132.13 1394.94 Q133.959 1391.38 133.959 1384.27 Q133.959 1377.14 132.13 1373.6 Q130.325 1370.04 126.691 1370.04 M126.691 1366.33 Q132.501 1366.33 135.556 1370.94 Q138.635 1375.52 138.635 1384.27 Q138.635 1393 135.556 1397.61 Q132.501 1402.19 126.691 1402.19 Q120.88 1402.19 117.802 1397.61 Q114.746 1393 114.746 1384.27 Q114.746 1375.52 117.802 1370.94 Q120.88 1366.33 126.691 1366.33 Z\" fill=\"#000000\" fill-rule=\"evenodd\" fill-opacity=\"1\" /><path clip-path=\"url(#clip570)\" d=\"M146.853 1395.64 L151.737 1395.64 L151.737 1401.52 L146.853 1401.52 L146.853 1395.64 Z\" fill=\"#000000\" fill-rule=\"evenodd\" fill-opacity=\"1\" /><path clip-path=\"url(#clip570)\" d=\"M171.922 1370.04 Q168.311 1370.04 166.482 1373.6 Q164.677 1377.14 164.677 1384.27 Q164.677 1391.38 166.482 1394.94 Q168.311 1398.49 171.922 1398.49 Q175.556 1398.49 177.362 1394.94 Q179.19 1391.38 179.19 1384.27 Q179.19 1377.14 177.362 1373.6 Q175.556 1370.04 171.922 1370.04 M171.922 1366.33 Q177.732 1366.33 180.788 1370.94 Q183.866 1375.52 183.866 1384.27 Q183.866 1393 180.788 1397.61 Q177.732 1402.19 171.922 1402.19 Q166.112 1402.19 163.033 1397.61 Q159.978 1393 159.978 1384.27 Q159.978 1375.52 163.033 1370.94 Q166.112 1366.33 171.922 1366.33 Z\" fill=\"#000000\" fill-rule=\"evenodd\" fill-opacity=\"1\" /><path clip-path=\"url(#clip570)\" d=\"M128.288 1085.75 Q124.677 1085.75 122.848 1089.31 Q121.043 1092.85 121.043 1099.98 Q121.043 1107.09 122.848 1110.65 Q124.677 1114.19 128.288 1114.19 Q131.922 1114.19 133.728 1110.65 Q135.556 1107.09 135.556 1099.98 Q135.556 1092.85 133.728 1089.31 Q131.922 1085.75 128.288 1085.75 M128.288 1082.04 Q134.098 1082.04 137.154 1086.65 Q140.232 1091.23 140.232 1099.98 Q140.232 1108.71 137.154 1113.31 Q134.098 1117.9 128.288 1117.9 Q122.478 1117.9 119.399 1113.31 Q116.343 1108.71 116.343 1099.98 Q116.343 1091.23 119.399 1086.65 Q122.478 1082.04 128.288 1082.04 Z\" fill=\"#000000\" fill-rule=\"evenodd\" fill-opacity=\"1\" /><path clip-path=\"url(#clip570)\" d=\"M148.45 1111.35 L153.334 1111.35 L153.334 1117.23 L148.45 1117.23 L148.45 1111.35 Z\" fill=\"#000000\" fill-rule=\"evenodd\" fill-opacity=\"1\" /><path clip-path=\"url(#clip570)\" d=\"M167.547 1113.29 L183.866 1113.29 L183.866 1117.23 L161.922 1117.23 L161.922 1113.29 Q164.584 1110.54 169.167 1105.91 Q173.774 1101.25 174.954 1099.91 Q177.2 1097.39 178.079 1095.65 Q178.982 1093.89 178.982 1092.2 Q178.982 1089.45 177.038 1087.71 Q175.116 1085.98 172.014 1085.98 Q169.815 1085.98 167.362 1086.74 Q164.931 1087.5 162.153 1089.06 L162.153 1084.33 Q164.977 1083.2 167.431 1082.62 Q169.885 1082.04 171.922 1082.04 Q177.292 1082.04 180.487 1084.73 Q183.681 1087.41 183.681 1091.9 Q183.681 1094.03 182.871 1095.95 Q182.084 1097.85 179.977 1100.44 Q179.399 1101.12 176.297 1104.33 Q173.195 1107.53 167.547 1113.29 Z\" fill=\"#000000\" fill-rule=\"evenodd\" fill-opacity=\"1\" /><path clip-path=\"url(#clip570)\" d=\"M126.205 801.454 Q122.593 801.454 120.765 805.019 Q118.959 808.561 118.959 815.69 Q118.959 822.797 120.765 826.362 Q122.593 829.903 126.205 829.903 Q129.839 829.903 131.644 826.362 Q133.473 822.797 133.473 815.69 Q133.473 808.561 131.644 805.019 Q129.839 801.454 126.205 801.454 M126.205 797.751 Q132.015 797.751 135.07 802.357 Q138.149 806.94 138.149 815.69 Q138.149 824.417 135.07 829.024 Q132.015 833.607 126.205 833.607 Q120.394 833.607 117.316 829.024 Q114.26 824.417 114.26 815.69 Q114.26 806.94 117.316 802.357 Q120.394 797.751 126.205 797.751 Z\" fill=\"#000000\" fill-rule=\"evenodd\" fill-opacity=\"1\" /><path clip-path=\"url(#clip570)\" d=\"M146.366 827.056 L151.251 827.056 L151.251 832.936 L146.366 832.936 L146.366 827.056 Z\" fill=\"#000000\" fill-rule=\"evenodd\" fill-opacity=\"1\" /><path clip-path=\"url(#clip570)\" d=\"M174.283 802.45 L162.477 820.899 L174.283 820.899 L174.283 802.45 M173.056 798.376 L178.936 798.376 L178.936 820.899 L183.866 820.899 L183.866 824.788 L178.936 824.788 L178.936 832.936 L174.283 832.936 L174.283 824.788 L158.681 824.788 L158.681 820.274 L173.056 798.376 Z\" fill=\"#000000\" fill-rule=\"evenodd\" fill-opacity=\"1\" /><path clip-path=\"url(#clip570)\" d=\"M126.529 517.163 Q122.918 517.163 121.089 520.728 Q119.283 524.27 119.283 531.399 Q119.283 538.506 121.089 542.07 Q122.918 545.612 126.529 545.612 Q130.163 545.612 131.968 542.07 Q133.797 538.506 133.797 531.399 Q133.797 524.27 131.968 520.728 Q130.163 517.163 126.529 517.163 M126.529 513.459 Q132.339 513.459 135.394 518.066 Q138.473 522.649 138.473 531.399 Q138.473 540.126 135.394 544.732 Q132.339 549.316 126.529 549.316 Q120.718 549.316 117.64 544.732 Q114.584 540.126 114.584 531.399 Q114.584 522.649 117.64 518.066 Q120.718 513.459 126.529 513.459 Z\" fill=\"#000000\" fill-rule=\"evenodd\" fill-opacity=\"1\" /><path clip-path=\"url(#clip570)\" d=\"M146.691 542.765 L151.575 542.765 L151.575 548.644 L146.691 548.644 L146.691 542.765 Z\" fill=\"#000000\" fill-rule=\"evenodd\" fill-opacity=\"1\" /><path clip-path=\"url(#clip570)\" d=\"M172.339 529.501 Q169.19 529.501 167.339 531.654 Q165.51 533.807 165.51 537.557 Q165.51 541.283 167.339 543.459 Q169.19 545.612 172.339 545.612 Q175.487 545.612 177.315 543.459 Q179.167 541.283 179.167 537.557 Q179.167 533.807 177.315 531.654 Q175.487 529.501 172.339 529.501 M181.621 514.848 L181.621 519.108 Q179.862 518.274 178.056 517.834 Q176.274 517.395 174.514 517.395 Q169.885 517.395 167.431 520.52 Q165.001 523.645 164.653 529.964 Q166.019 527.95 168.079 526.885 Q170.139 525.797 172.616 525.797 Q177.825 525.797 180.834 528.969 Q183.866 532.117 183.866 537.557 Q183.866 542.881 180.718 546.098 Q177.57 549.316 172.339 549.316 Q166.343 549.316 163.172 544.732 Q160.001 540.126 160.001 531.399 Q160.001 523.205 163.89 518.344 Q167.778 513.459 174.329 513.459 Q176.089 513.459 177.871 513.807 Q179.676 514.154 181.621 514.848 Z\" fill=\"#000000\" fill-rule=\"evenodd\" fill-opacity=\"1\" /><path clip-path=\"url(#clip570)\" d=\"M126.783 232.872 Q123.172 232.872 121.343 236.437 Q119.538 239.978 119.538 247.108 Q119.538 254.214 121.343 257.779 Q123.172 261.321 126.783 261.321 Q130.417 261.321 132.223 257.779 Q134.052 254.214 134.052 247.108 Q134.052 239.978 132.223 236.437 Q130.417 232.872 126.783 232.872 M126.783 229.168 Q132.593 229.168 135.649 233.775 Q138.728 238.358 138.728 247.108 Q138.728 255.835 135.649 260.441 Q132.593 265.024 126.783 265.024 Q120.973 265.024 117.894 260.441 Q114.839 255.835 114.839 247.108 Q114.839 238.358 117.894 233.775 Q120.973 229.168 126.783 229.168 Z\" fill=\"#000000\" fill-rule=\"evenodd\" fill-opacity=\"1\" /><path clip-path=\"url(#clip570)\" d=\"M146.945 258.474 L151.829 258.474 L151.829 264.353 L146.945 264.353 L146.945 258.474 Z\" fill=\"#000000\" fill-rule=\"evenodd\" fill-opacity=\"1\" /><path clip-path=\"url(#clip570)\" d=\"M172.014 247.941 Q168.681 247.941 166.76 249.724 Q164.862 251.506 164.862 254.631 Q164.862 257.756 166.76 259.538 Q168.681 261.321 172.014 261.321 Q175.348 261.321 177.269 259.538 Q179.19 257.733 179.19 254.631 Q179.19 251.506 177.269 249.724 Q175.371 247.941 172.014 247.941 M167.339 245.95 Q164.329 245.21 162.64 243.15 Q160.973 241.089 160.973 238.126 Q160.973 233.983 163.913 231.576 Q166.876 229.168 172.014 229.168 Q177.176 229.168 180.116 231.576 Q183.056 233.983 183.056 238.126 Q183.056 241.089 181.366 243.15 Q179.7 245.21 176.714 245.95 Q180.093 246.738 181.968 249.029 Q183.866 251.321 183.866 254.631 Q183.866 259.654 180.788 262.339 Q177.732 265.024 172.014 265.024 Q166.297 265.024 163.218 262.339 Q160.163 259.654 160.163 254.631 Q160.163 251.321 162.061 249.029 Q163.959 246.738 167.339 245.95 M165.626 238.566 Q165.626 241.251 167.292 242.756 Q168.982 244.261 172.014 244.261 Q175.024 244.261 176.714 242.756 Q178.426 241.251 178.426 238.566 Q178.426 235.881 176.714 234.376 Q175.024 232.872 172.014 232.872 Q168.982 232.872 167.292 234.376 Q165.626 235.881 165.626 238.566 Z\" fill=\"#000000\" fill-rule=\"evenodd\" fill-opacity=\"1\" /><path clip-path=\"url(#clip570)\" d=\"M21.7677 890.981 L39.6235 890.981 L39.6235 882.896 Q39.6235 878.409 37.3 875.958 Q34.9765 873.507 30.6797 873.507 Q26.4147 873.507 24.0912 875.958 Q21.7677 878.409 21.7677 882.896 L21.7677 890.981 M16.4842 897.41 L16.4842 882.896 Q16.4842 874.907 20.1126 870.833 Q23.7092 866.727 30.6797 866.727 Q37.7138 866.727 41.3104 870.833 Q44.907 874.907 44.907 882.896 L44.907 890.981 L64.0042 890.981 L64.0042 897.41 L16.4842 897.41 Z\" fill=\"#000000\" fill-rule=\"evenodd\" fill-opacity=\"1\" /><path clip-path=\"url(#clip570)\" d=\"M33.8307 838.846 Q33.2578 839.832 33.0032 841.01 Q32.7167 842.156 32.7167 843.556 Q32.7167 848.522 35.9632 851.195 Q39.1779 853.837 45.2253 853.837 L64.0042 853.837 L64.0042 859.725 L28.3562 859.725 L28.3562 853.837 L33.8944 853.837 Q30.6479 851.991 29.0883 849.031 Q27.4968 846.071 27.4968 841.838 Q27.4968 841.233 27.5923 840.501 Q27.656 839.769 27.8151 838.878 L33.8307 838.846 Z\" fill=\"#000000\" fill-rule=\"evenodd\" fill-opacity=\"1\" /><path clip-path=\"url(#clip570)\" d=\"M32.4621 820.321 Q32.4621 825.032 36.1542 827.769 Q39.8145 830.507 46.212 830.507 Q52.6095 830.507 56.3017 827.801 Q59.9619 825.064 59.9619 820.321 Q59.9619 815.643 56.2698 812.905 Q52.5777 810.168 46.212 810.168 Q39.8781 810.168 36.186 812.905 Q32.4621 815.643 32.4621 820.321 M27.4968 820.321 Q27.4968 812.683 32.4621 808.322 Q37.4273 803.962 46.212 803.962 Q54.9649 803.962 59.9619 808.322 Q64.9272 812.683 64.9272 820.321 Q64.9272 827.992 59.9619 832.353 Q54.9649 836.681 46.212 836.681 Q37.4273 836.681 32.4621 832.353 Q27.4968 827.992 27.4968 820.321 Z\" fill=\"#000000\" fill-rule=\"evenodd\" fill-opacity=\"1\" /><path clip-path=\"url(#clip570)\" d=\"M58.657 788.588 L77.5631 788.588 L77.5631 794.477 L28.3562 794.477 L28.3562 788.588 L33.7671 788.588 Q30.5842 786.742 29.0564 783.941 Q27.4968 781.109 27.4968 777.194 Q27.4968 770.701 32.6531 766.659 Q37.8093 762.585 46.212 762.585 Q54.6147 762.585 59.771 766.659 Q64.9272 770.701 64.9272 777.194 Q64.9272 781.109 63.3994 783.941 Q61.8398 786.742 58.657 788.588 M46.212 768.664 Q39.7508 768.664 36.0905 771.337 Q32.3984 773.979 32.3984 778.626 Q32.3984 783.273 36.0905 785.947 Q39.7508 788.588 46.212 788.588 Q52.6732 788.588 56.3653 785.947 Q60.0256 783.273 60.0256 778.626 Q60.0256 773.979 56.3653 771.337 Q52.6732 768.664 46.212 768.664 Z\" fill=\"#000000\" fill-rule=\"evenodd\" fill-opacity=\"1\" /><path clip-path=\"url(#clip570)\" d=\"M32.4621 739.063 Q32.4621 743.774 36.1542 746.511 Q39.8145 749.248 46.212 749.248 Q52.6095 749.248 56.3017 746.543 Q59.9619 743.806 59.9619 739.063 Q59.9619 734.384 56.2698 731.647 Q52.5777 728.91 46.212 728.91 Q39.8781 728.91 36.186 731.647 Q32.4621 734.384 32.4621 739.063 M27.4968 739.063 Q27.4968 731.424 32.4621 727.064 Q37.4273 722.703 46.212 722.703 Q54.9649 722.703 59.9619 727.064 Q64.9272 731.424 64.9272 739.063 Q64.9272 746.734 59.9619 751.094 Q54.9649 755.423 46.212 755.423 Q37.4273 755.423 32.4621 751.094 Q27.4968 746.734 27.4968 739.063 Z\" fill=\"#000000\" fill-rule=\"evenodd\" fill-opacity=\"1\" /><path clip-path=\"url(#clip570)\" d=\"M33.8307 692.339 Q33.2578 693.326 33.0032 694.503 Q32.7167 695.649 32.7167 697.05 Q32.7167 702.015 35.9632 704.688 Q39.1779 707.33 45.2253 707.33 L64.0042 707.33 L64.0042 713.218 L28.3562 713.218 L28.3562 707.33 L33.8944 707.33 Q30.6479 705.484 29.0883 702.524 Q27.4968 699.564 27.4968 695.331 Q27.4968 694.726 27.5923 693.994 Q27.656 693.262 27.8151 692.371 L33.8307 692.339 Z\" fill=\"#000000\" fill-rule=\"evenodd\" fill-opacity=\"1\" /><path clip-path=\"url(#clip570)\" d=\"M18.2347 680.403 L28.3562 680.403 L28.3562 668.34 L32.9077 668.34 L32.9077 680.403 L52.2594 680.403 Q56.6199 680.403 57.8613 679.226 Q59.1026 678.016 59.1026 674.356 L59.1026 668.34 L64.0042 668.34 L64.0042 674.356 Q64.0042 681.135 61.4897 683.713 Q58.9434 686.292 52.2594 686.292 L32.9077 686.292 L32.9077 690.588 L28.3562 690.588 L28.3562 686.292 L18.2347 686.292 L18.2347 680.403 Z\" fill=\"#000000\" fill-rule=\"evenodd\" fill-opacity=\"1\" /><path clip-path=\"url(#clip570)\" d=\"M28.3562 660.638 L28.3562 654.781 L64.0042 654.781 L64.0042 660.638 L28.3562 660.638 M14.479 660.638 L14.479 654.781 L21.895 654.781 L21.895 660.638 L14.479 660.638 Z\" fill=\"#000000\" fill-rule=\"evenodd\" fill-opacity=\"1\" /><path clip-path=\"url(#clip570)\" d=\"M32.4621 628.714 Q32.4621 633.424 36.1542 636.162 Q39.8145 638.899 46.212 638.899 Q52.6095 638.899 56.3017 636.193 Q59.9619 633.456 59.9619 628.714 Q59.9619 624.035 56.2698 621.298 Q52.5777 618.56 46.212 618.56 Q39.8781 618.56 36.186 621.298 Q32.4621 624.035 32.4621 628.714 M27.4968 628.714 Q27.4968 621.075 32.4621 616.714 Q37.4273 612.354 46.212 612.354 Q54.9649 612.354 59.9619 616.714 Q64.9272 621.075 64.9272 628.714 Q64.9272 636.384 59.9619 640.745 Q54.9649 645.074 46.212 645.074 Q37.4273 645.074 32.4621 640.745 Q27.4968 636.384 27.4968 628.714 Z\" fill=\"#000000\" fill-rule=\"evenodd\" fill-opacity=\"1\" /><path clip-path=\"url(#clip570)\" d=\"M42.4881 573.014 L64.0042 573.014 L64.0042 578.87 L42.679 578.87 Q37.6183 578.87 35.1038 580.844 Q32.5894 582.817 32.5894 586.764 Q32.5894 591.506 35.6131 594.243 Q38.6368 596.981 43.8567 596.981 L64.0042 596.981 L64.0042 602.869 L28.3562 602.869 L28.3562 596.981 L33.8944 596.981 Q30.6797 594.88 29.0883 592.047 Q27.4968 589.183 27.4968 585.459 Q27.4968 579.316 31.3163 576.165 Q35.1038 573.014 42.4881 573.014 Z\" fill=\"#000000\" fill-rule=\"evenodd\" fill-opacity=\"1\" /><path clip-path=\"url(#clip572)\" d=\"\n",
       "M337.179 86.1857 L337.179 1384.24 L437.088 1384.24 L437.088 86.1857 L337.179 86.1857 L337.179 86.1857  Z\n",
       "  \" fill=\"#009af9\" fill-rule=\"evenodd\" fill-opacity=\"1\"/>\n",
       "<polyline clip-path=\"url(#clip572)\" style=\"stroke:#000000; stroke-linecap:round; stroke-linejoin:round; stroke-width:4; stroke-opacity:1; fill:none\" points=\"\n",
       "  337.179,86.1857 337.179,1384.24 437.088,1384.24 437.088,86.1857 337.179,86.1857 \n",
       "  \"/>\n",
       "<path clip-path=\"url(#clip572)\" d=\"\n",
       "M437.088 1384.24 L437.088 1384.24 L536.996 1384.24 L536.996 1384.24 L437.088 1384.24 L437.088 1384.24  Z\n",
       "  \" fill=\"#009af9\" fill-rule=\"evenodd\" fill-opacity=\"1\"/>\n",
       "<polyline clip-path=\"url(#clip572)\" style=\"stroke:#000000; stroke-linecap:round; stroke-linejoin:round; stroke-width:4; stroke-opacity:1; fill:none\" points=\"\n",
       "  437.088,1384.24 437.088,1384.24 536.996,1384.24 437.088,1384.24 \n",
       "  \"/>\n",
       "<path clip-path=\"url(#clip572)\" d=\"\n",
       "M536.996 1384.24 L536.996 1384.24 L636.905 1384.24 L636.905 1384.24 L536.996 1384.24 L536.996 1384.24  Z\n",
       "  \" fill=\"#009af9\" fill-rule=\"evenodd\" fill-opacity=\"1\"/>\n",
       "<polyline clip-path=\"url(#clip572)\" style=\"stroke:#000000; stroke-linecap:round; stroke-linejoin:round; stroke-width:4; stroke-opacity:1; fill:none\" points=\"\n",
       "  536.996,1384.24 536.996,1384.24 636.905,1384.24 536.996,1384.24 \n",
       "  \"/>\n",
       "<path clip-path=\"url(#clip572)\" d=\"\n",
       "M636.905 1384.24 L636.905 1384.24 L736.814 1384.24 L736.814 1384.24 L636.905 1384.24 L636.905 1384.24  Z\n",
       "  \" fill=\"#009af9\" fill-rule=\"evenodd\" fill-opacity=\"1\"/>\n",
       "<polyline clip-path=\"url(#clip572)\" style=\"stroke:#000000; stroke-linecap:round; stroke-linejoin:round; stroke-width:4; stroke-opacity:1; fill:none\" points=\"\n",
       "  636.905,1384.24 636.905,1384.24 736.814,1384.24 636.905,1384.24 \n",
       "  \"/>\n",
       "<path clip-path=\"url(#clip572)\" d=\"\n",
       "M736.814 1384.24 L736.814 1384.24 L836.722 1384.24 L836.722 1384.24 L736.814 1384.24 L736.814 1384.24  Z\n",
       "  \" fill=\"#009af9\" fill-rule=\"evenodd\" fill-opacity=\"1\"/>\n",
       "<polyline clip-path=\"url(#clip572)\" style=\"stroke:#000000; stroke-linecap:round; stroke-linejoin:round; stroke-width:4; stroke-opacity:1; fill:none\" points=\"\n",
       "  736.814,1384.24 736.814,1384.24 836.722,1384.24 736.814,1384.24 \n",
       "  \"/>\n",
       "<path clip-path=\"url(#clip572)\" d=\"\n",
       "M836.722 1384.24 L836.722 1384.24 L936.631 1384.24 L936.631 1384.24 L836.722 1384.24 L836.722 1384.24  Z\n",
       "  \" fill=\"#009af9\" fill-rule=\"evenodd\" fill-opacity=\"1\"/>\n",
       "<polyline clip-path=\"url(#clip572)\" style=\"stroke:#000000; stroke-linecap:round; stroke-linejoin:round; stroke-width:4; stroke-opacity:1; fill:none\" points=\"\n",
       "  836.722,1384.24 836.722,1384.24 936.631,1384.24 836.722,1384.24 \n",
       "  \"/>\n",
       "<path clip-path=\"url(#clip572)\" d=\"\n",
       "M936.631 1384.24 L936.631 1384.24 L1036.54 1384.24 L1036.54 1384.24 L936.631 1384.24 L936.631 1384.24  Z\n",
       "  \" fill=\"#009af9\" fill-rule=\"evenodd\" fill-opacity=\"1\"/>\n",
       "<polyline clip-path=\"url(#clip572)\" style=\"stroke:#000000; stroke-linecap:round; stroke-linejoin:round; stroke-width:4; stroke-opacity:1; fill:none\" points=\"\n",
       "  936.631,1384.24 936.631,1384.24 1036.54,1384.24 936.631,1384.24 \n",
       "  \"/>\n",
       "<path clip-path=\"url(#clip572)\" d=\"\n",
       "M1036.54 1384.24 L1036.54 1384.24 L1136.45 1384.24 L1136.45 1384.24 L1036.54 1384.24 L1036.54 1384.24  Z\n",
       "  \" fill=\"#009af9\" fill-rule=\"evenodd\" fill-opacity=\"1\"/>\n",
       "<polyline clip-path=\"url(#clip572)\" style=\"stroke:#000000; stroke-linecap:round; stroke-linejoin:round; stroke-width:4; stroke-opacity:1; fill:none\" points=\"\n",
       "  1036.54,1384.24 1036.54,1384.24 1136.45,1384.24 1036.54,1384.24 \n",
       "  \"/>\n",
       "<path clip-path=\"url(#clip572)\" d=\"\n",
       "M1136.45 1384.24 L1136.45 1384.24 L1236.36 1384.24 L1236.36 1384.24 L1136.45 1384.24 L1136.45 1384.24  Z\n",
       "  \" fill=\"#009af9\" fill-rule=\"evenodd\" fill-opacity=\"1\"/>\n",
       "<polyline clip-path=\"url(#clip572)\" style=\"stroke:#000000; stroke-linecap:round; stroke-linejoin:round; stroke-width:4; stroke-opacity:1; fill:none\" points=\"\n",
       "  1136.45,1384.24 1136.45,1384.24 1236.36,1384.24 1136.45,1384.24 \n",
       "  \"/>\n",
       "<path clip-path=\"url(#clip572)\" d=\"\n",
       "M1236.36 1384.06 L1236.36 1384.24 L1336.27 1384.24 L1336.27 1384.06 L1236.36 1384.06 L1236.36 1384.06  Z\n",
       "  \" fill=\"#009af9\" fill-rule=\"evenodd\" fill-opacity=\"1\"/>\n",
       "<polyline clip-path=\"url(#clip572)\" style=\"stroke:#000000; stroke-linecap:round; stroke-linejoin:round; stroke-width:4; stroke-opacity:1; fill:none\" points=\"\n",
       "  1236.36,1384.06 1236.36,1384.24 1336.27,1384.24 1336.27,1384.06 1236.36,1384.06 \n",
       "  \"/>\n",
       "<path clip-path=\"url(#clip572)\" d=\"\n",
       "M1336.27 1383.53 L1336.27 1384.24 L1436.17 1384.24 L1436.17 1383.53 L1336.27 1383.53 L1336.27 1383.53  Z\n",
       "  \" fill=\"#009af9\" fill-rule=\"evenodd\" fill-opacity=\"1\"/>\n",
       "<polyline clip-path=\"url(#clip572)\" style=\"stroke:#000000; stroke-linecap:round; stroke-linejoin:round; stroke-width:4; stroke-opacity:1; fill:none\" points=\"\n",
       "  1336.27,1383.53 1336.27,1384.24 1436.17,1384.24 1436.17,1383.53 1336.27,1383.53 \n",
       "  \"/>\n",
       "<path clip-path=\"url(#clip572)\" d=\"\n",
       "M1436.17 1382.48 L1436.17 1384.24 L1536.08 1384.24 L1536.08 1382.48 L1436.17 1382.48 L1436.17 1382.48  Z\n",
       "  \" fill=\"#009af9\" fill-rule=\"evenodd\" fill-opacity=\"1\"/>\n",
       "<polyline clip-path=\"url(#clip572)\" style=\"stroke:#000000; stroke-linecap:round; stroke-linejoin:round; stroke-width:4; stroke-opacity:1; fill:none\" points=\"\n",
       "  1436.17,1382.48 1436.17,1384.24 1536.08,1384.24 1536.08,1382.48 1436.17,1382.48 \n",
       "  \"/>\n",
       "<path clip-path=\"url(#clip572)\" d=\"\n",
       "M1536.08 1379 L1536.08 1384.24 L1635.99 1384.24 L1635.99 1379 L1536.08 1379 L1536.08 1379  Z\n",
       "  \" fill=\"#009af9\" fill-rule=\"evenodd\" fill-opacity=\"1\"/>\n",
       "<polyline clip-path=\"url(#clip572)\" style=\"stroke:#000000; stroke-linecap:round; stroke-linejoin:round; stroke-width:4; stroke-opacity:1; fill:none\" points=\"\n",
       "  1536.08,1379 1536.08,1384.24 1635.99,1384.24 1635.99,1379 1536.08,1379 \n",
       "  \"/>\n",
       "<path clip-path=\"url(#clip572)\" d=\"\n",
       "M1635.99 1374.19 L1635.99 1384.24 L1735.9 1384.24 L1735.9 1374.19 L1635.99 1374.19 L1635.99 1374.19  Z\n",
       "  \" fill=\"#009af9\" fill-rule=\"evenodd\" fill-opacity=\"1\"/>\n",
       "<polyline clip-path=\"url(#clip572)\" style=\"stroke:#000000; stroke-linecap:round; stroke-linejoin:round; stroke-width:4; stroke-opacity:1; fill:none\" points=\"\n",
       "  1635.99,1374.19 1635.99,1384.24 1735.9,1384.24 1735.9,1374.19 1635.99,1374.19 \n",
       "  \"/>\n",
       "<path clip-path=\"url(#clip572)\" d=\"\n",
       "M1735.9 1369.79 L1735.9 1384.24 L1835.81 1384.24 L1835.81 1369.79 L1735.9 1369.79 L1735.9 1369.79  Z\n",
       "  \" fill=\"#009af9\" fill-rule=\"evenodd\" fill-opacity=\"1\"/>\n",
       "<polyline clip-path=\"url(#clip572)\" style=\"stroke:#000000; stroke-linecap:round; stroke-linejoin:round; stroke-width:4; stroke-opacity:1; fill:none\" points=\"\n",
       "  1735.9,1369.79 1735.9,1384.24 1835.81,1384.24 1835.81,1369.79 1735.9,1369.79 \n",
       "  \"/>\n",
       "<path clip-path=\"url(#clip572)\" d=\"\n",
       "M1835.81 1365.43 L1835.81 1384.24 L1935.72 1384.24 L1935.72 1365.43 L1835.81 1365.43 L1835.81 1365.43  Z\n",
       "  \" fill=\"#009af9\" fill-rule=\"evenodd\" fill-opacity=\"1\"/>\n",
       "<polyline clip-path=\"url(#clip572)\" style=\"stroke:#000000; stroke-linecap:round; stroke-linejoin:round; stroke-width:4; stroke-opacity:1; fill:none\" points=\"\n",
       "  1835.81,1365.43 1835.81,1384.24 1935.72,1384.24 1935.72,1365.43 1835.81,1365.43 \n",
       "  \"/>\n",
       "<path clip-path=\"url(#clip572)\" d=\"\n",
       "M1935.72 1362.83 L1935.72 1384.24 L2035.63 1384.24 L2035.63 1362.83 L1935.72 1362.83 L1935.72 1362.83  Z\n",
       "  \" fill=\"#009af9\" fill-rule=\"evenodd\" fill-opacity=\"1\"/>\n",
       "<polyline clip-path=\"url(#clip572)\" style=\"stroke:#000000; stroke-linecap:round; stroke-linejoin:round; stroke-width:4; stroke-opacity:1; fill:none\" points=\"\n",
       "  1935.72,1362.83 1935.72,1384.24 2035.63,1384.24 2035.63,1362.83 1935.72,1362.83 \n",
       "  \"/>\n",
       "<path clip-path=\"url(#clip572)\" d=\"\n",
       "M2035.63 1360.1 L2035.63 1384.24 L2135.53 1384.24 L2135.53 1360.1 L2035.63 1360.1 L2035.63 1360.1  Z\n",
       "  \" fill=\"#009af9\" fill-rule=\"evenodd\" fill-opacity=\"1\"/>\n",
       "<polyline clip-path=\"url(#clip572)\" style=\"stroke:#000000; stroke-linecap:round; stroke-linejoin:round; stroke-width:4; stroke-opacity:1; fill:none\" points=\"\n",
       "  2035.63,1360.1 2035.63,1384.24 2135.53,1384.24 2135.53,1360.1 2035.63,1360.1 \n",
       "  \"/>\n",
       "<path clip-path=\"url(#clip572)\" d=\"\n",
       "M2135.53 1357.58 L2135.53 1384.24 L2235.44 1384.24 L2235.44 1357.58 L2135.53 1357.58 L2135.53 1357.58  Z\n",
       "  \" fill=\"#009af9\" fill-rule=\"evenodd\" fill-opacity=\"1\"/>\n",
       "<polyline clip-path=\"url(#clip572)\" style=\"stroke:#000000; stroke-linecap:round; stroke-linejoin:round; stroke-width:4; stroke-opacity:1; fill:none\" points=\"\n",
       "  2135.53,1357.58 2135.53,1384.24 2235.44,1384.24 2235.44,1357.58 2135.53,1357.58 \n",
       "  \"/>\n",
       "<circle clip-path=\"url(#clip572)\" style=\"fill:#009af9; stroke:none; fill-opacity:0\" cx=\"387.133\" cy=\"86.1857\" r=\"2\"/>\n",
       "<circle clip-path=\"url(#clip572)\" style=\"fill:#009af9; stroke:none; fill-opacity:0\" cx=\"487.042\" cy=\"1384.24\" r=\"2\"/>\n",
       "<circle clip-path=\"url(#clip572)\" style=\"fill:#009af9; stroke:none; fill-opacity:0\" cx=\"586.951\" cy=\"1384.24\" r=\"2\"/>\n",
       "<circle clip-path=\"url(#clip572)\" style=\"fill:#009af9; stroke:none; fill-opacity:0\" cx=\"686.859\" cy=\"1384.24\" r=\"2\"/>\n",
       "<circle clip-path=\"url(#clip572)\" style=\"fill:#009af9; stroke:none; fill-opacity:0\" cx=\"786.768\" cy=\"1384.24\" r=\"2\"/>\n",
       "<circle clip-path=\"url(#clip572)\" style=\"fill:#009af9; stroke:none; fill-opacity:0\" cx=\"886.677\" cy=\"1384.24\" r=\"2\"/>\n",
       "<circle clip-path=\"url(#clip572)\" style=\"fill:#009af9; stroke:none; fill-opacity:0\" cx=\"986.585\" cy=\"1384.24\" r=\"2\"/>\n",
       "<circle clip-path=\"url(#clip572)\" style=\"fill:#009af9; stroke:none; fill-opacity:0\" cx=\"1086.49\" cy=\"1384.24\" r=\"2\"/>\n",
       "<circle clip-path=\"url(#clip572)\" style=\"fill:#009af9; stroke:none; fill-opacity:0\" cx=\"1186.4\" cy=\"1384.24\" r=\"2\"/>\n",
       "<circle clip-path=\"url(#clip572)\" style=\"fill:#009af9; stroke:none; fill-opacity:0\" cx=\"1286.31\" cy=\"1384.06\" r=\"2\"/>\n",
       "<circle clip-path=\"url(#clip572)\" style=\"fill:#009af9; stroke:none; fill-opacity:0\" cx=\"1386.22\" cy=\"1383.53\" r=\"2\"/>\n",
       "<circle clip-path=\"url(#clip572)\" style=\"fill:#009af9; stroke:none; fill-opacity:0\" cx=\"1486.13\" cy=\"1382.48\" r=\"2\"/>\n",
       "<circle clip-path=\"url(#clip572)\" style=\"fill:#009af9; stroke:none; fill-opacity:0\" cx=\"1586.04\" cy=\"1379\" r=\"2\"/>\n",
       "<circle clip-path=\"url(#clip572)\" style=\"fill:#009af9; stroke:none; fill-opacity:0\" cx=\"1685.95\" cy=\"1374.19\" r=\"2\"/>\n",
       "<circle clip-path=\"url(#clip572)\" style=\"fill:#009af9; stroke:none; fill-opacity:0\" cx=\"1785.85\" cy=\"1369.79\" r=\"2\"/>\n",
       "<circle clip-path=\"url(#clip572)\" style=\"fill:#009af9; stroke:none; fill-opacity:0\" cx=\"1885.76\" cy=\"1365.43\" r=\"2\"/>\n",
       "<circle clip-path=\"url(#clip572)\" style=\"fill:#009af9; stroke:none; fill-opacity:0\" cx=\"1985.67\" cy=\"1362.83\" r=\"2\"/>\n",
       "<circle clip-path=\"url(#clip572)\" style=\"fill:#009af9; stroke:none; fill-opacity:0\" cx=\"2085.58\" cy=\"1360.1\" r=\"2\"/>\n",
       "<circle clip-path=\"url(#clip572)\" style=\"fill:#009af9; stroke:none; fill-opacity:0\" cx=\"2185.49\" cy=\"1357.58\" r=\"2\"/>\n",
       "<path clip-path=\"url(#clip570)\" d=\"\n",
       "M1693.67 196.789 L2281.66 196.789 L2281.66 93.1086 L1693.67 93.1086  Z\n",
       "  \" fill=\"#ffffff\" fill-rule=\"evenodd\" fill-opacity=\"1\"/>\n",
       "<polyline clip-path=\"url(#clip570)\" style=\"stroke:#000000; stroke-linecap:round; stroke-linejoin:round; stroke-width:4; stroke-opacity:1; fill:none\" points=\"\n",
       "  1693.67,196.789 2281.66,196.789 2281.66,93.1086 1693.67,93.1086 1693.67,196.789 \n",
       "  \"/>\n",
       "<path clip-path=\"url(#clip570)\" d=\"\n",
       "M1717.37 165.685 L1859.56 165.685 L1859.56 124.213 L1717.37 124.213 L1717.37 165.685  Z\n",
       "  \" fill=\"#009af9\" fill-rule=\"evenodd\" fill-opacity=\"1\"/>\n",
       "<polyline clip-path=\"url(#clip570)\" style=\"stroke:#000000; stroke-linecap:round; stroke-linejoin:round; stroke-width:4; stroke-opacity:1; fill:none\" points=\"\n",
       "  1717.37,165.685 1859.56,165.685 1859.56,124.213 1717.37,124.213 1717.37,165.685 \n",
       "  \"/>\n",
       "<path clip-path=\"url(#clip570)\" d=\"M1905.51 128.803 L1905.51 133.363 Q1902.85 132.09 1900.49 131.465 Q1898.12 130.84 1895.93 130.84 Q1892.11 130.84 1890.02 132.321 Q1887.96 133.803 1887.96 136.534 Q1887.96 138.826 1889.33 140.007 Q1890.72 141.164 1894.56 141.882 L1897.38 142.46 Q1902.62 143.456 1905.09 145.979 Q1907.59 148.479 1907.59 152.692 Q1907.59 157.715 1904.21 160.307 Q1900.86 162.9 1894.35 162.9 Q1891.9 162.9 1889.12 162.344 Q1886.37 161.789 1883.4 160.701 L1883.4 155.886 Q1886.25 157.483 1888.98 158.293 Q1891.71 159.104 1894.35 159.104 Q1898.36 159.104 1900.53 157.53 Q1902.71 155.956 1902.71 153.039 Q1902.71 150.493 1901.13 149.057 Q1899.58 147.622 1896.02 146.905 L1893.17 146.349 Q1887.94 145.307 1885.6 143.085 Q1883.26 140.863 1883.26 136.905 Q1883.26 132.321 1886.48 129.682 Q1889.72 127.044 1895.39 127.044 Q1897.82 127.044 1900.35 127.483 Q1902.87 127.923 1905.51 128.803 Z\" fill=\"#000000\" fill-rule=\"evenodd\" fill-opacity=\"1\" /><path clip-path=\"url(#clip570)\" d=\"M1918.91 128.942 L1918.91 136.303 L1927.68 136.303 L1927.68 139.613 L1918.91 139.613 L1918.91 153.687 Q1918.91 156.858 1919.77 157.761 Q1920.65 158.664 1923.31 158.664 L1927.68 158.664 L1927.68 162.229 L1923.31 162.229 Q1918.38 162.229 1916.5 160.4 Q1914.63 158.548 1914.63 153.687 L1914.63 139.613 L1911.5 139.613 L1911.5 136.303 L1914.63 136.303 L1914.63 128.942 L1918.91 128.942 Z\" fill=\"#000000\" fill-rule=\"evenodd\" fill-opacity=\"1\" /><path clip-path=\"url(#clip570)\" d=\"M1948.31 140.284 Q1947.59 139.868 1946.74 139.682 Q1945.9 139.474 1944.88 139.474 Q1941.27 139.474 1939.33 141.835 Q1937.41 144.173 1937.41 148.571 L1937.41 162.229 L1933.12 162.229 L1933.12 136.303 L1937.41 136.303 L1937.41 140.331 Q1938.75 137.969 1940.9 136.835 Q1943.06 135.678 1946.13 135.678 Q1946.57 135.678 1947.11 135.747 Q1947.64 135.794 1948.29 135.909 L1948.31 140.284 Z\" fill=\"#000000\" fill-rule=\"evenodd\" fill-opacity=\"1\" /><path clip-path=\"url(#clip570)\" d=\"M1964.56 149.196 Q1959.4 149.196 1957.41 150.377 Q1955.42 151.557 1955.42 154.405 Q1955.42 156.673 1956.9 158.016 Q1958.4 159.335 1960.97 159.335 Q1964.51 159.335 1966.64 156.835 Q1968.8 154.312 1968.8 150.145 L1968.8 149.196 L1964.56 149.196 M1973.05 147.437 L1973.05 162.229 L1968.8 162.229 L1968.8 158.293 Q1967.34 160.655 1965.16 161.789 Q1962.99 162.9 1959.84 162.9 Q1955.86 162.9 1953.49 160.678 Q1951.16 158.432 1951.16 154.682 Q1951.16 150.307 1954.07 148.085 Q1957.01 145.863 1962.82 145.863 L1968.8 145.863 L1968.8 145.446 Q1968.8 142.507 1966.85 140.909 Q1964.93 139.289 1961.43 139.289 Q1959.21 139.289 1957.11 139.821 Q1955 140.354 1953.06 141.419 L1953.06 137.483 Q1955.39 136.581 1957.59 136.141 Q1959.79 135.678 1961.87 135.678 Q1967.5 135.678 1970.28 138.594 Q1973.05 141.511 1973.05 147.437 Z\" fill=\"#000000\" fill-rule=\"evenodd\" fill-opacity=\"1\" /><path clip-path=\"url(#clip570)\" d=\"M1981.83 136.303 L1986.09 136.303 L1986.09 162.229 L1981.83 162.229 L1981.83 136.303 M1981.83 126.21 L1986.09 126.21 L1986.09 131.604 L1981.83 131.604 L1981.83 126.21 Z\" fill=\"#000000\" fill-rule=\"evenodd\" fill-opacity=\"1\" /><path clip-path=\"url(#clip570)\" d=\"M2016.55 146.581 L2016.55 162.229 L2012.29 162.229 L2012.29 146.719 Q2012.29 143.039 2010.86 141.21 Q2009.42 139.382 2006.55 139.382 Q2003.1 139.382 2001.11 141.581 Q1999.12 143.78 1999.12 147.576 L1999.12 162.229 L1994.84 162.229 L1994.84 136.303 L1999.12 136.303 L1999.12 140.331 Q2000.65 137.993 2002.71 136.835 Q2004.79 135.678 2007.5 135.678 Q2011.97 135.678 2014.26 138.456 Q2016.55 141.21 2016.55 146.581 Z\" fill=\"#000000\" fill-rule=\"evenodd\" fill-opacity=\"1\" /><path clip-path=\"url(#clip570)\" d=\"M2040.3 127.669 L2047.27 127.669 L2056.09 151.187 L2064.95 127.669 L2071.92 127.669 L2071.92 162.229 L2067.36 162.229 L2067.36 131.882 L2058.45 155.585 L2053.75 155.585 L2044.84 131.882 L2044.84 162.229 L2040.3 162.229 L2040.3 127.669 Z\" fill=\"#000000\" fill-rule=\"evenodd\" fill-opacity=\"1\" /><path clip-path=\"url(#clip570)\" d=\"M2103.19 148.201 L2103.19 150.284 L2083.61 150.284 Q2083.89 154.682 2086.25 156.997 Q2088.63 159.289 2092.87 159.289 Q2095.32 159.289 2097.61 158.687 Q2099.93 158.085 2102.2 156.881 L2102.2 160.909 Q2099.91 161.881 2097.5 162.391 Q2095.09 162.9 2092.61 162.9 Q2086.41 162.9 2082.78 159.289 Q2079.17 155.678 2079.17 149.52 Q2079.17 143.155 2082.59 139.428 Q2086.04 135.678 2091.87 135.678 Q2097.11 135.678 2100.14 139.057 Q2103.19 142.414 2103.19 148.201 M2098.93 146.951 Q2098.89 143.456 2096.97 141.372 Q2095.07 139.289 2091.92 139.289 Q2088.36 139.289 2086.2 141.303 Q2084.07 143.317 2083.75 146.974 L2098.93 146.951 Z\" fill=\"#000000\" fill-rule=\"evenodd\" fill-opacity=\"1\" /><path clip-path=\"url(#clip570)\" d=\"M2121.97 149.196 Q2116.8 149.196 2114.81 150.377 Q2112.82 151.557 2112.82 154.405 Q2112.82 156.673 2114.3 158.016 Q2115.81 159.335 2118.38 159.335 Q2121.92 159.335 2124.05 156.835 Q2126.2 154.312 2126.2 150.145 L2126.2 149.196 L2121.97 149.196 M2130.46 147.437 L2130.46 162.229 L2126.2 162.229 L2126.2 158.293 Q2124.74 160.655 2122.57 161.789 Q2120.39 162.9 2117.24 162.9 Q2113.26 162.9 2110.9 160.678 Q2108.56 158.432 2108.56 154.682 Q2108.56 150.307 2111.48 148.085 Q2114.42 145.863 2120.23 145.863 L2126.2 145.863 L2126.2 145.446 Q2126.2 142.507 2124.26 140.909 Q2122.34 139.289 2118.84 139.289 Q2116.62 139.289 2114.51 139.821 Q2112.41 140.354 2110.46 141.419 L2110.46 137.483 Q2112.8 136.581 2115 136.141 Q2117.2 135.678 2119.28 135.678 Q2124.91 135.678 2127.68 138.594 Q2130.46 141.511 2130.46 147.437 Z\" fill=\"#000000\" fill-rule=\"evenodd\" fill-opacity=\"1\" /><path clip-path=\"url(#clip570)\" d=\"M2160.79 146.581 L2160.79 162.229 L2156.53 162.229 L2156.53 146.719 Q2156.53 143.039 2155.09 141.21 Q2153.66 139.382 2150.79 139.382 Q2147.34 139.382 2145.35 141.581 Q2143.35 143.78 2143.35 147.576 L2143.35 162.229 L2139.07 162.229 L2139.07 136.303 L2143.35 136.303 L2143.35 140.331 Q2144.88 137.993 2146.94 136.835 Q2149.03 135.678 2151.73 135.678 Q2156.2 135.678 2158.49 138.456 Q2160.79 141.21 2160.79 146.581 Z\" fill=\"#000000\" fill-rule=\"evenodd\" fill-opacity=\"1\" /><path clip-path=\"url(#clip570)\" d=\"M2185.81 137.067 L2185.81 141.094 Q2184 140.169 2182.06 139.706 Q2180.11 139.243 2178.03 139.243 Q2174.86 139.243 2173.26 140.215 Q2171.69 141.187 2171.69 143.131 Q2171.69 144.613 2172.82 145.469 Q2173.96 146.303 2177.38 147.067 L2178.84 147.391 Q2183.38 148.363 2185.28 150.145 Q2187.2 151.905 2187.2 155.076 Q2187.2 158.687 2184.33 160.793 Q2181.48 162.9 2176.48 162.9 Q2174.4 162.9 2172.13 162.483 Q2169.88 162.09 2167.38 161.28 L2167.38 156.881 Q2169.74 158.108 2172.04 158.733 Q2174.33 159.335 2176.57 159.335 Q2179.58 159.335 2181.2 158.317 Q2182.82 157.275 2182.82 155.4 Q2182.82 153.664 2181.64 152.738 Q2180.48 151.812 2176.53 150.956 L2175.04 150.608 Q2171.09 149.775 2169.33 148.062 Q2167.57 146.326 2167.57 143.317 Q2167.57 139.659 2170.16 137.669 Q2172.75 135.678 2177.52 135.678 Q2179.88 135.678 2181.97 136.025 Q2184.05 136.372 2185.81 137.067 Z\" fill=\"#000000\" fill-rule=\"evenodd\" fill-opacity=\"1\" /><path clip-path=\"url(#clip570)\" d=\"M2209.23 127.669 L2213.91 127.669 L2213.91 158.293 L2230.74 158.293 L2230.74 162.229 L2209.23 162.229 L2209.23 127.669 Z\" fill=\"#000000\" fill-rule=\"evenodd\" fill-opacity=\"1\" /><path clip-path=\"url(#clip570)\" d=\"M2240.32 131.511 L2240.32 144.497 L2246.2 144.497 Q2249.47 144.497 2251.25 142.807 Q2253.03 141.118 2253.03 137.993 Q2253.03 134.891 2251.25 133.201 Q2249.47 131.511 2246.2 131.511 L2240.32 131.511 M2235.65 127.669 L2246.2 127.669 Q2252.01 127.669 2254.97 130.307 Q2257.96 132.923 2257.96 137.993 Q2257.96 143.108 2254.97 145.724 Q2252.01 148.34 2246.2 148.34 L2240.32 148.34 L2240.32 162.229 L2235.65 162.229 L2235.65 127.669 Z\" fill=\"#000000\" fill-rule=\"evenodd\" fill-opacity=\"1\" /></svg>\n"
      ]
     },
     "execution_count": 51,
     "metadata": {},
     "output_type": "execute_result"
    }
   ],
   "source": [
    "hist_strains = histogram(h2_distr_strains, normalize = :probability,\n",
    "          label = \"Strain Means LP\", xlab = \"h2\", ylab = \"Proportion\", bins = 0.0:0.05:0.95)"
   ]
  },
  {
   "cell_type": "markdown",
   "id": "6ae18cba-4adc-4f8a-8fe3-d79ede30321a",
   "metadata": {
    "tags": []
   },
   "source": [
    "## Objectives\n",
    "\n",
    "- gemma one trait, ind and strains\n",
    "\n",
    "- scan_alt one trait, ind and strains\n",
    "\n",
    "- scan_null one trait, ind and strains\n",
    "\n",
    "- bulkscan_grid (null), all traits, ...\n",
    "\n",
    "- data structure for all traits results...\n",
    "\n",
    "- Heatmap grids_taken, compare on strain means and individuals\n",
    "\n",
    "- Histogram of heritabilities (null) for all traits (both strain means and individual level data)\n",
    "\n",
    "- Loglikelihood by h2_grid plot, strain means v.s. individuals\n",
    "\n",
    "- Report fixed effects:\n",
    "\n",
    "- Adjusting difference in the number of samples across strains\n",
    "\n",
    "- Histogram of heritabilities (null) for all traits (both strain means and individual level data)"
   ]
  },
  {
   "cell_type": "code",
   "execution_count": null,
   "id": "fba91b19-8347-44af-9897-adb925923ca1",
   "metadata": {},
   "outputs": [],
   "source": []
  },
  {
   "cell_type": "code",
   "execution_count": null,
   "id": "73a7cbf3-d647-4c5a-a7e3-42677404cca2",
   "metadata": {},
   "outputs": [],
   "source": []
  }
 ],
 "metadata": {
  "kernelspec": {
   "display_name": "Julia 16 Threads 1.7.3",
   "language": "julia",
   "name": "julia-16-threads-1.7"
  },
  "language_info": {
   "file_extension": ".jl",
   "mimetype": "application/julia",
   "name": "julia",
   "version": "1.7.3"
  }
 },
 "nbformat": 4,
 "nbformat_minor": 5
}
