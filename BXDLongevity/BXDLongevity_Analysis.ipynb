{
 "cells": [
  {
   "cell_type": "markdown",
   "id": "76f80b67-85df-4d55-bb10-f6913d392780",
   "metadata": {},
   "source": [
    "## Data Analysis using BulkLMM - BXD Longevity Study"
   ]
  },
  {
   "cell_type": "code",
   "execution_count": 1,
   "id": "028f2786-ee1b-4ec3-ab13-05110ad9caf6",
   "metadata": {},
   "outputs": [],
   "source": [
    "using CSV, DelimitedFiles, DataFrames, Missings, XLSX\n",
    "using LinearAlgebra, Statistics, Optim\n",
    "using Random, Distributions, LoopVectorization\n",
    "# using GeneNetworkAPI, Downloads\n",
    "using BenchmarkTools"
   ]
  },
  {
   "cell_type": "code",
   "execution_count": 2,
   "id": "4a6c9448-eeee-4fe2-8b74-a183abe6cf6f",
   "metadata": {},
   "outputs": [],
   "source": [
    "using Plots"
   ]
  },
  {
   "cell_type": "code",
   "execution_count": 3,
   "id": "bc3d1279-dc9b-4a8e-8616-12e041d6179f",
   "metadata": {},
   "outputs": [],
   "source": [
    "local_path = \"../../BulkLMM.jl/src\";"
   ]
  },
  {
   "cell_type": "code",
   "execution_count": 4,
   "id": "d10bc79d-6961-489d-a971-fb0562b6e25b",
   "metadata": {},
   "outputs": [],
   "source": [
    "#=\n",
    "import LossFunctions: HuberLoss, value\n",
    "import Distributions: Chisq, ccdf\n",
    "import StatsBase: mad, sample\n",
    "\n",
    "function huberize(y::Vector{Float64})\n",
    "    m = median(y)\n",
    "    s = mad(y,normalize=true)\n",
    "    z = (y.-m)./s\n",
    "    l = value.(HuberLoss(1),z)\n",
    "    x = sign.(z).* sqrt.(2*l)\n",
    "    return m .+ s.*x\n",
    "end\n",
    "=#"
   ]
  },
  {
   "cell_type": "markdown",
   "id": "548266cf-7288-4c51-a8d0-61a23e207f4e",
   "metadata": {},
   "source": [
    "## Load processed_data:"
   ]
  },
  {
   "cell_type": "markdown",
   "id": "76b2ccbd-e0db-4bcd-a11d-7703fbbbd811",
   "metadata": {},
   "source": [
    "### By individuals:"
   ]
  },
  {
   "cell_type": "code",
   "execution_count": 5,
   "id": "d6fec140-00e9-4f42-9b72-3b5f067bcf20",
   "metadata": {},
   "outputs": [
    {
     "data": {
      "text/plain": [
       "\"/home/zyu20/git/BulkLMM_Analyses/BXDLongevity\""
      ]
     },
     "execution_count": 5,
     "metadata": {},
     "output_type": "execute_result"
    }
   ],
   "source": [
    "pwd()"
   ]
  },
  {
   "cell_type": "code",
   "execution_count": 6,
   "id": "abafa447-fb73-405f-a457-8ab1ac3cefcc",
   "metadata": {},
   "outputs": [],
   "source": [
    "BXD_pheno_ind_summary_df = CSV.read(\"../../../shareddata/BXDLongevity/data/GN886_pheno_summary.csv\", DataFrame);"
   ]
  },
  {
   "cell_type": "markdown",
   "id": "a3e12b95-f2e2-4cfc-812d-34f74ac83f1e",
   "metadata": {},
   "source": [
    "By individuals, there are 248 individual samples for 32445 livear proteome."
   ]
  },
  {
   "cell_type": "code",
   "execution_count": 7,
   "id": "cf42c49c-60d5-458e-9206-35123de57d51",
   "metadata": {},
   "outputs": [
    {
     "name": "stdout",
     "output_type": "stream",
     "text": [
      "(248, 32448)\n"
     ]
    },
    {
     "data": {
      "text/html": [
       "<div><div style = \"float: left;\"><span>10×10 DataFrame</span></div><div style = \"clear: both;\"></div></div><div class = \"data-frame\" style = \"overflow-x: scroll;\"><table class = \"data-frame\" style = \"margin-bottom: 6px;\"><thead><tr class = \"header\"><th class = \"rowNumber\" style = \"font-weight: bold; text-align: right;\">Row</th><th style = \"text-align: left;\">Sample</th><th style = \"text-align: left;\">Strain</th><th style = \"text-align: left;\">Strain_num</th><th style = \"text-align: left;\">P42209_DESGLNRK_2</th><th style = \"text-align: left;\">P42209_GLRPLDVAFLR_3</th><th style = \"text-align: left;\">Q99M02_VGDPVYR_2</th><th style = \"text-align: left;\">Q99M02_VWIYPIK_2</th><th style = \"text-align: left;\">Q99M02_LCDPSVK_2</th><th style = \"text-align: left;\">Q99M02_CVLTTVDPDTGIIDR_2</th><th style = \"text-align: left;\">Q99M02_LVQFDTSMK_2</th></tr><tr class = \"subheader headerLastRow\"><th class = \"rowNumber\" style = \"font-weight: bold; text-align: right;\"></th><th title = \"String7\" style = \"text-align: left;\">String7</th><th title = \"String7\" style = \"text-align: left;\">String7</th><th title = \"Int64\" style = \"text-align: left;\">Int64</th><th title = \"Float64\" style = \"text-align: left;\">Float64</th><th title = \"Float64\" style = \"text-align: left;\">Float64</th><th title = \"Float64\" style = \"text-align: left;\">Float64</th><th title = \"Float64\" style = \"text-align: left;\">Float64</th><th title = \"Float64\" style = \"text-align: left;\">Float64</th><th title = \"Float64\" style = \"text-align: left;\">Float64</th><th title = \"Float64\" style = \"text-align: left;\">Float64</th></tr></thead><tbody><tr><td class = \"rowNumber\" style = \"font-weight: bold; text-align: right;\">1</td><td style = \"text-align: left;\">H1009</td><td style = \"text-align: left;\">BXD9</td><td style = \"text-align: right;\">9</td><td style = \"text-align: right;\">11.349</td><td style = \"text-align: right;\">11.534</td><td style = \"text-align: right;\">17.587</td><td style = \"text-align: right;\">17.517</td><td style = \"text-align: right;\">17.309</td><td style = \"text-align: right;\">16.574</td><td style = \"text-align: right;\">16.323</td></tr><tr><td class = \"rowNumber\" style = \"font-weight: bold; text-align: right;\">2</td><td style = \"text-align: left;\">H0370</td><td style = \"text-align: left;\">BXD9</td><td style = \"text-align: right;\">9</td><td style = \"text-align: right;\">11.249</td><td style = \"text-align: right;\">12.735</td><td style = \"text-align: right;\">17.427</td><td style = \"text-align: right;\">17.325</td><td style = \"text-align: right;\">17.252</td><td style = \"text-align: right;\">16.685</td><td style = \"text-align: right;\">16.021</td></tr><tr><td class = \"rowNumber\" style = \"font-weight: bold; text-align: right;\">3</td><td style = \"text-align: left;\">H2577</td><td style = \"text-align: left;\">BXD9</td><td style = \"text-align: right;\">9</td><td style = \"text-align: right;\">12.415</td><td style = \"text-align: right;\">10.487</td><td style = \"text-align: right;\">17.89</td><td style = \"text-align: right;\">17.488</td><td style = \"text-align: right;\">17.594</td><td style = \"text-align: right;\">16.731</td><td style = \"text-align: right;\">16.208</td></tr><tr><td class = \"rowNumber\" style = \"font-weight: bold; text-align: right;\">4</td><td style = \"text-align: left;\">H0365</td><td style = \"text-align: left;\">BXD9</td><td style = \"text-align: right;\">9</td><td style = \"text-align: right;\">11.374</td><td style = \"text-align: right;\">10.674</td><td style = \"text-align: right;\">17.714</td><td style = \"text-align: right;\">17.401</td><td style = \"text-align: right;\">17.381</td><td style = \"text-align: right;\">16.621</td><td style = \"text-align: right;\">16.337</td></tr><tr><td class = \"rowNumber\" style = \"font-weight: bold; text-align: right;\">5</td><td style = \"text-align: left;\">H1333</td><td style = \"text-align: left;\">BXD13</td><td style = \"text-align: right;\">13</td><td style = \"text-align: right;\">11.687</td><td style = \"text-align: right;\">11.524</td><td style = \"text-align: right;\">17.362</td><td style = \"text-align: right;\">17.367</td><td style = \"text-align: right;\">17.071</td><td style = \"text-align: right;\">16.465</td><td style = \"text-align: right;\">15.97</td></tr><tr><td class = \"rowNumber\" style = \"font-weight: bold; text-align: right;\">6</td><td style = \"text-align: left;\">H2259</td><td style = \"text-align: left;\">BXD24</td><td style = \"text-align: right;\">24</td><td style = \"text-align: right;\">11.837</td><td style = \"text-align: right;\">11.715</td><td style = \"text-align: right;\">17.57</td><td style = \"text-align: right;\">17.792</td><td style = \"text-align: right;\">17.505</td><td style = \"text-align: right;\">16.894</td><td style = \"text-align: right;\">16.277</td></tr><tr><td class = \"rowNumber\" style = \"font-weight: bold; text-align: right;\">7</td><td style = \"text-align: left;\">H1792</td><td style = \"text-align: left;\">BXD24</td><td style = \"text-align: right;\">24</td><td style = \"text-align: right;\">11.563</td><td style = \"text-align: right;\">11.434</td><td style = \"text-align: right;\">17.789</td><td style = \"text-align: right;\">17.847</td><td style = \"text-align: right;\">17.416</td><td style = \"text-align: right;\">17.042</td><td style = \"text-align: right;\">16.292</td></tr><tr><td class = \"rowNumber\" style = \"font-weight: bold; text-align: right;\">8</td><td style = \"text-align: left;\">H1791</td><td style = \"text-align: left;\">BXD24</td><td style = \"text-align: right;\">24</td><td style = \"text-align: right;\">12.5</td><td style = \"text-align: right;\">12.273</td><td style = \"text-align: right;\">17.944</td><td style = \"text-align: right;\">17.833</td><td style = \"text-align: right;\">17.63</td><td style = \"text-align: right;\">16.862</td><td style = \"text-align: right;\">16.3</td></tr><tr><td class = \"rowNumber\" style = \"font-weight: bold; text-align: right;\">9</td><td style = \"text-align: left;\">H1541</td><td style = \"text-align: left;\">BXD24</td><td style = \"text-align: right;\">24</td><td style = \"text-align: right;\">11.815</td><td style = \"text-align: right;\">11.564</td><td style = \"text-align: right;\">17.794</td><td style = \"text-align: right;\">17.759</td><td style = \"text-align: right;\">17.456</td><td style = \"text-align: right;\">16.878</td><td style = \"text-align: right;\">16.377</td></tr><tr><td class = \"rowNumber\" style = \"font-weight: bold; text-align: right;\">10</td><td style = \"text-align: left;\">H1277</td><td style = \"text-align: left;\">BXD24</td><td style = \"text-align: right;\">24</td><td style = \"text-align: right;\">12.674</td><td style = \"text-align: right;\">11.743</td><td style = \"text-align: right;\">17.866</td><td style = \"text-align: right;\">17.845</td><td style = \"text-align: right;\">17.577</td><td style = \"text-align: right;\">16.922</td><td style = \"text-align: right;\">16.26</td></tr></tbody></table></div>"
      ],
      "text/latex": [
       "\\begin{tabular}{r|ccccccc}\n",
       "\t& Sample & Strain & Strain\\_num & P42209\\_DESGLNRK\\_2 & P42209\\_GLRPLDVAFLR\\_3 & Q99M02\\_VGDPVYR\\_2 & \\\\\n",
       "\t\\hline\n",
       "\t& String7 & String7 & Int64 & Float64 & Float64 & Float64 & \\\\\n",
       "\t\\hline\n",
       "\t1 & H1009 & BXD9 & 9 & 11.349 & 11.534 & 17.587 & $\\dots$ \\\\\n",
       "\t2 & H0370 & BXD9 & 9 & 11.249 & 12.735 & 17.427 & $\\dots$ \\\\\n",
       "\t3 & H2577 & BXD9 & 9 & 12.415 & 10.487 & 17.89 & $\\dots$ \\\\\n",
       "\t4 & H0365 & BXD9 & 9 & 11.374 & 10.674 & 17.714 & $\\dots$ \\\\\n",
       "\t5 & H1333 & BXD13 & 13 & 11.687 & 11.524 & 17.362 & $\\dots$ \\\\\n",
       "\t6 & H2259 & BXD24 & 24 & 11.837 & 11.715 & 17.57 & $\\dots$ \\\\\n",
       "\t7 & H1792 & BXD24 & 24 & 11.563 & 11.434 & 17.789 & $\\dots$ \\\\\n",
       "\t8 & H1791 & BXD24 & 24 & 12.5 & 12.273 & 17.944 & $\\dots$ \\\\\n",
       "\t9 & H1541 & BXD24 & 24 & 11.815 & 11.564 & 17.794 & $\\dots$ \\\\\n",
       "\t10 & H1277 & BXD24 & 24 & 12.674 & 11.743 & 17.866 & $\\dots$ \\\\\n",
       "\\end{tabular}\n"
      ],
      "text/plain": [
       "\u001b[1m10×10 DataFrame\u001b[0m\n",
       "\u001b[1m Row \u001b[0m│\u001b[1m Sample  \u001b[0m\u001b[1m Strain  \u001b[0m\u001b[1m Strain_num \u001b[0m\u001b[1m P42209_DESGLNRK_2 \u001b[0m\u001b[1m P42209_GLRPLDVAFLR_3 \u001b[0m\u001b[1m \u001b[0m ⋯\n",
       "     │\u001b[90m String7 \u001b[0m\u001b[90m String7 \u001b[0m\u001b[90m Int64      \u001b[0m\u001b[90m Float64           \u001b[0m\u001b[90m Float64              \u001b[0m\u001b[90m \u001b[0m ⋯\n",
       "─────┼──────────────────────────────────────────────────────────────────────────\n",
       "   1 │ H1009    BXD9              9             11.349                11.534   ⋯\n",
       "   2 │ H0370    BXD9              9             11.249                12.735\n",
       "   3 │ H2577    BXD9              9             12.415                10.487\n",
       "   4 │ H0365    BXD9              9             11.374                10.674\n",
       "   5 │ H1333    BXD13            13             11.687                11.524   ⋯\n",
       "   6 │ H2259    BXD24            24             11.837                11.715\n",
       "   7 │ H1792    BXD24            24             11.563                11.434\n",
       "   8 │ H1791    BXD24            24             12.5                  12.273\n",
       "   9 │ H1541    BXD24            24             11.815                11.564   ⋯\n",
       "  10 │ H1277    BXD24            24             12.674                11.743\n",
       "\u001b[36m                                                               5 columns omitted\u001b[0m"
      ]
     },
     "execution_count": 7,
     "metadata": {},
     "output_type": "execute_result"
    }
   ],
   "source": [
    "println(size(BXD_pheno_ind_summary_df)) \n",
    "BXD_pheno_ind_summary_df[1:10, 1:10]"
   ]
  },
  {
   "cell_type": "code",
   "execution_count": 8,
   "id": "0ff1711f-771b-432b-a230-4161835d4b52",
   "metadata": {},
   "outputs": [],
   "source": [
    "BXD_geno_ind_summary_df = CSV.read(\"../../../shareddata/BXDLongevity/data/GN886_geno_summary.csv\", DataFrame);"
   ]
  },
  {
   "cell_type": "markdown",
   "id": "2f3abf17-58be-4916-9a5f-412546a12f50",
   "metadata": {},
   "source": [
    "By individuals, there are 248 individual samples for 7321 markers."
   ]
  },
  {
   "cell_type": "code",
   "execution_count": 9,
   "id": "e7f39851-0173-4c71-b583-dd4ad554445d",
   "metadata": {},
   "outputs": [
    {
     "name": "stdout",
     "output_type": "stream",
     "text": [
      "(248, 7324)\n"
     ]
    },
    {
     "data": {
      "text/html": [
       "<div><div style = \"float: left;\"><span>10×10 DataFrame</span></div><div style = \"clear: both;\"></div></div><div class = \"data-frame\" style = \"overflow-x: scroll;\"><table class = \"data-frame\" style = \"margin-bottom: 6px;\"><thead><tr class = \"header\"><th class = \"rowNumber\" style = \"font-weight: bold; text-align: right;\">Row</th><th style = \"text-align: left;\">Sample</th><th style = \"text-align: left;\">Strain</th><th style = \"text-align: left;\">Strain_num</th><th style = \"text-align: left;\">rs31443144</th><th style = \"text-align: left;\">rs6269442</th><th style = \"text-align: left;\">rs32285189</th><th style = \"text-align: left;\">rs258367496</th><th style = \"text-align: left;\">rs32430919</th><th style = \"text-align: left;\">rs36251697</th><th style = \"text-align: left;\">rs30658298</th></tr><tr class = \"subheader headerLastRow\"><th class = \"rowNumber\" style = \"font-weight: bold; text-align: right;\"></th><th title = \"String7\" style = \"text-align: left;\">String7</th><th title = \"String7\" style = \"text-align: left;\">String7</th><th title = \"Int64\" style = \"text-align: left;\">Int64</th><th title = \"Float64\" style = \"text-align: left;\">Float64</th><th title = \"Float64\" style = \"text-align: left;\">Float64</th><th title = \"Float64\" style = \"text-align: left;\">Float64</th><th title = \"Float64\" style = \"text-align: left;\">Float64</th><th title = \"Float64\" style = \"text-align: left;\">Float64</th><th title = \"Float64\" style = \"text-align: left;\">Float64</th><th title = \"Float64\" style = \"text-align: left;\">Float64</th></tr></thead><tbody><tr><td class = \"rowNumber\" style = \"font-weight: bold; text-align: right;\">1</td><td style = \"text-align: left;\">H1009</td><td style = \"text-align: left;\">BXD9</td><td style = \"text-align: right;\">9</td><td style = \"text-align: right;\">0.0</td><td style = \"text-align: right;\">0.0</td><td style = \"text-align: right;\">0.0</td><td style = \"text-align: right;\">0.0</td><td style = \"text-align: right;\">0.0</td><td style = \"text-align: right;\">0.0</td><td style = \"text-align: right;\">0.0</td></tr><tr><td class = \"rowNumber\" style = \"font-weight: bold; text-align: right;\">2</td><td style = \"text-align: left;\">H0370</td><td style = \"text-align: left;\">BXD9</td><td style = \"text-align: right;\">9</td><td style = \"text-align: right;\">0.0</td><td style = \"text-align: right;\">0.0</td><td style = \"text-align: right;\">0.0</td><td style = \"text-align: right;\">0.0</td><td style = \"text-align: right;\">0.0</td><td style = \"text-align: right;\">0.0</td><td style = \"text-align: right;\">0.0</td></tr><tr><td class = \"rowNumber\" style = \"font-weight: bold; text-align: right;\">3</td><td style = \"text-align: left;\">H2577</td><td style = \"text-align: left;\">BXD9</td><td style = \"text-align: right;\">9</td><td style = \"text-align: right;\">0.0</td><td style = \"text-align: right;\">0.0</td><td style = \"text-align: right;\">0.0</td><td style = \"text-align: right;\">0.0</td><td style = \"text-align: right;\">0.0</td><td style = \"text-align: right;\">0.0</td><td style = \"text-align: right;\">0.0</td></tr><tr><td class = \"rowNumber\" style = \"font-weight: bold; text-align: right;\">4</td><td style = \"text-align: left;\">H0365</td><td style = \"text-align: left;\">BXD9</td><td style = \"text-align: right;\">9</td><td style = \"text-align: right;\">0.0</td><td style = \"text-align: right;\">0.0</td><td style = \"text-align: right;\">0.0</td><td style = \"text-align: right;\">0.0</td><td style = \"text-align: right;\">0.0</td><td style = \"text-align: right;\">0.0</td><td style = \"text-align: right;\">0.0</td></tr><tr><td class = \"rowNumber\" style = \"font-weight: bold; text-align: right;\">5</td><td style = \"text-align: left;\">H1333</td><td style = \"text-align: left;\">BXD13</td><td style = \"text-align: right;\">13</td><td style = \"text-align: right;\">0.0</td><td style = \"text-align: right;\">0.0</td><td style = \"text-align: right;\">0.0</td><td style = \"text-align: right;\">0.0</td><td style = \"text-align: right;\">0.0</td><td style = \"text-align: right;\">0.0</td><td style = \"text-align: right;\">0.0</td></tr><tr><td class = \"rowNumber\" style = \"font-weight: bold; text-align: right;\">6</td><td style = \"text-align: left;\">H2259</td><td style = \"text-align: left;\">BXD24</td><td style = \"text-align: right;\">24</td><td style = \"text-align: right;\">0.0</td><td style = \"text-align: right;\">0.0</td><td style = \"text-align: right;\">0.0</td><td style = \"text-align: right;\">0.0</td><td style = \"text-align: right;\">0.0</td><td style = \"text-align: right;\">0.0</td><td style = \"text-align: right;\">0.0</td></tr><tr><td class = \"rowNumber\" style = \"font-weight: bold; text-align: right;\">7</td><td style = \"text-align: left;\">H1792</td><td style = \"text-align: left;\">BXD24</td><td style = \"text-align: right;\">24</td><td style = \"text-align: right;\">0.0</td><td style = \"text-align: right;\">0.0</td><td style = \"text-align: right;\">0.0</td><td style = \"text-align: right;\">0.0</td><td style = \"text-align: right;\">0.0</td><td style = \"text-align: right;\">0.0</td><td style = \"text-align: right;\">0.0</td></tr><tr><td class = \"rowNumber\" style = \"font-weight: bold; text-align: right;\">8</td><td style = \"text-align: left;\">H1791</td><td style = \"text-align: left;\">BXD24</td><td style = \"text-align: right;\">24</td><td style = \"text-align: right;\">0.0</td><td style = \"text-align: right;\">0.0</td><td style = \"text-align: right;\">0.0</td><td style = \"text-align: right;\">0.0</td><td style = \"text-align: right;\">0.0</td><td style = \"text-align: right;\">0.0</td><td style = \"text-align: right;\">0.0</td></tr><tr><td class = \"rowNumber\" style = \"font-weight: bold; text-align: right;\">9</td><td style = \"text-align: left;\">H1541</td><td style = \"text-align: left;\">BXD24</td><td style = \"text-align: right;\">24</td><td style = \"text-align: right;\">0.0</td><td style = \"text-align: right;\">0.0</td><td style = \"text-align: right;\">0.0</td><td style = \"text-align: right;\">0.0</td><td style = \"text-align: right;\">0.0</td><td style = \"text-align: right;\">0.0</td><td style = \"text-align: right;\">0.0</td></tr><tr><td class = \"rowNumber\" style = \"font-weight: bold; text-align: right;\">10</td><td style = \"text-align: left;\">H1277</td><td style = \"text-align: left;\">BXD24</td><td style = \"text-align: right;\">24</td><td style = \"text-align: right;\">0.0</td><td style = \"text-align: right;\">0.0</td><td style = \"text-align: right;\">0.0</td><td style = \"text-align: right;\">0.0</td><td style = \"text-align: right;\">0.0</td><td style = \"text-align: right;\">0.0</td><td style = \"text-align: right;\">0.0</td></tr></tbody></table></div>"
      ],
      "text/latex": [
       "\\begin{tabular}{r|ccccccccc}\n",
       "\t& Sample & Strain & Strain\\_num & rs31443144 & rs6269442 & rs32285189 & rs258367496 & rs32430919 & \\\\\n",
       "\t\\hline\n",
       "\t& String7 & String7 & Int64 & Float64 & Float64 & Float64 & Float64 & Float64 & \\\\\n",
       "\t\\hline\n",
       "\t1 & H1009 & BXD9 & 9 & 0.0 & 0.0 & 0.0 & 0.0 & 0.0 & $\\dots$ \\\\\n",
       "\t2 & H0370 & BXD9 & 9 & 0.0 & 0.0 & 0.0 & 0.0 & 0.0 & $\\dots$ \\\\\n",
       "\t3 & H2577 & BXD9 & 9 & 0.0 & 0.0 & 0.0 & 0.0 & 0.0 & $\\dots$ \\\\\n",
       "\t4 & H0365 & BXD9 & 9 & 0.0 & 0.0 & 0.0 & 0.0 & 0.0 & $\\dots$ \\\\\n",
       "\t5 & H1333 & BXD13 & 13 & 0.0 & 0.0 & 0.0 & 0.0 & 0.0 & $\\dots$ \\\\\n",
       "\t6 & H2259 & BXD24 & 24 & 0.0 & 0.0 & 0.0 & 0.0 & 0.0 & $\\dots$ \\\\\n",
       "\t7 & H1792 & BXD24 & 24 & 0.0 & 0.0 & 0.0 & 0.0 & 0.0 & $\\dots$ \\\\\n",
       "\t8 & H1791 & BXD24 & 24 & 0.0 & 0.0 & 0.0 & 0.0 & 0.0 & $\\dots$ \\\\\n",
       "\t9 & H1541 & BXD24 & 24 & 0.0 & 0.0 & 0.0 & 0.0 & 0.0 & $\\dots$ \\\\\n",
       "\t10 & H1277 & BXD24 & 24 & 0.0 & 0.0 & 0.0 & 0.0 & 0.0 & $\\dots$ \\\\\n",
       "\\end{tabular}\n"
      ],
      "text/plain": [
       "\u001b[1m10×10 DataFrame\u001b[0m\n",
       "\u001b[1m Row \u001b[0m│\u001b[1m Sample  \u001b[0m\u001b[1m Strain  \u001b[0m\u001b[1m Strain_num \u001b[0m\u001b[1m rs31443144 \u001b[0m\u001b[1m rs6269442 \u001b[0m\u001b[1m rs32285189 \u001b[0m\u001b[1m rs2583\u001b[0m ⋯\n",
       "     │\u001b[90m String7 \u001b[0m\u001b[90m String7 \u001b[0m\u001b[90m Int64      \u001b[0m\u001b[90m Float64    \u001b[0m\u001b[90m Float64   \u001b[0m\u001b[90m Float64    \u001b[0m\u001b[90m Float6\u001b[0m ⋯\n",
       "─────┼──────────────────────────────────────────────────────────────────────────\n",
       "   1 │ H1009    BXD9              9         0.0        0.0         0.0         ⋯\n",
       "   2 │ H0370    BXD9              9         0.0        0.0         0.0\n",
       "   3 │ H2577    BXD9              9         0.0        0.0         0.0\n",
       "   4 │ H0365    BXD9              9         0.0        0.0         0.0\n",
       "   5 │ H1333    BXD13            13         0.0        0.0         0.0         ⋯\n",
       "   6 │ H2259    BXD24            24         0.0        0.0         0.0\n",
       "   7 │ H1792    BXD24            24         0.0        0.0         0.0\n",
       "   8 │ H1791    BXD24            24         0.0        0.0         0.0\n",
       "   9 │ H1541    BXD24            24         0.0        0.0         0.0         ⋯\n",
       "  10 │ H1277    BXD24            24         0.0        0.0         0.0\n",
       "\u001b[36m                                                               4 columns omitted\u001b[0m"
      ]
     },
     "execution_count": 9,
     "metadata": {},
     "output_type": "execute_result"
    }
   ],
   "source": [
    "println(size(BXD_geno_ind_summary_df)) \n",
    "BXD_geno_ind_summary_df[1:10, 1:10]"
   ]
  },
  {
   "cell_type": "markdown",
   "id": "09ec71ff-4361-42b5-b7be-b5b67963dc81",
   "metadata": {},
   "source": [
    "### By strains:"
   ]
  },
  {
   "cell_type": "code",
   "execution_count": 10,
   "id": "446da4f9-0e1b-481b-b1c0-27fbd9d0165b",
   "metadata": {},
   "outputs": [
    {
     "data": {
      "text/plain": [
       "\"/home/zyu20/git/BulkLMM_Analyses/BXDLongevity\""
      ]
     },
     "execution_count": 10,
     "metadata": {},
     "output_type": "execute_result"
    }
   ],
   "source": [
    "pwd()"
   ]
  },
  {
   "cell_type": "code",
   "execution_count": 11,
   "id": "87fab8f1-fbe4-49d2-94cc-0163ac9ad461",
   "metadata": {},
   "outputs": [],
   "source": [
    "BXD_pheno_strains_summary_df = CSV.read(\"../../../shareddata/BXDLongevity/data/GN886_pheno_strain_means_summary.csv\", DataFrame);"
   ]
  },
  {
   "cell_type": "markdown",
   "id": "2255810e-cdd7-4473-a605-8a96126cbad0",
   "metadata": {},
   "source": [
    "By strains, there are 50 BXD strains for 32445 liver proteome."
   ]
  },
  {
   "cell_type": "code",
   "execution_count": 12,
   "id": "f5441670-3929-420d-a6c3-ceb794ea9cb1",
   "metadata": {},
   "outputs": [
    {
     "name": "stdout",
     "output_type": "stream",
     "text": [
      "(50, 32447)\n"
     ]
    },
    {
     "data": {
      "text/html": [
       "<div><div style = \"float: left;\"><span>10×10 DataFrame</span></div><div style = \"clear: both;\"></div></div><div class = \"data-frame\" style = \"overflow-x: scroll;\"><table class = \"data-frame\" style = \"margin-bottom: 6px;\"><thead><tr class = \"header\"><th class = \"rowNumber\" style = \"font-weight: bold; text-align: right;\">Row</th><th style = \"text-align: left;\">Strain</th><th style = \"text-align: left;\">Number of Samples</th><th style = \"text-align: left;\">P42209_DESGLNRK_2</th><th style = \"text-align: left;\">P42209_GLRPLDVAFLR_3</th><th style = \"text-align: left;\">Q99M02_VGDPVYR_2</th><th style = \"text-align: left;\">Q99M02_VWIYPIK_2</th><th style = \"text-align: left;\">Q99M02_LCDPSVK_2</th><th style = \"text-align: left;\">Q99M02_CVLTTVDPDTGIIDR_2</th><th style = \"text-align: left;\">Q99M02_LVQFDTSMK_2</th><th style = \"text-align: left;\">Q99M02_QLQQVGTVSK_2</th></tr><tr class = \"subheader headerLastRow\"><th class = \"rowNumber\" style = \"font-weight: bold; text-align: right;\"></th><th title = \"String7\" style = \"text-align: left;\">String7</th><th title = \"Int64\" style = \"text-align: left;\">Int64</th><th title = \"Float64\" style = \"text-align: left;\">Float64</th><th title = \"Float64\" style = \"text-align: left;\">Float64</th><th title = \"Float64\" style = \"text-align: left;\">Float64</th><th title = \"Float64\" style = \"text-align: left;\">Float64</th><th title = \"Float64\" style = \"text-align: left;\">Float64</th><th title = \"Float64\" style = \"text-align: left;\">Float64</th><th title = \"Float64\" style = \"text-align: left;\">Float64</th><th title = \"Float64\" style = \"text-align: left;\">Float64</th></tr></thead><tbody><tr><td class = \"rowNumber\" style = \"font-weight: bold; text-align: right;\">1</td><td style = \"text-align: left;\">BXD9</td><td style = \"text-align: right;\">4</td><td style = \"text-align: right;\">11.5968</td><td style = \"text-align: right;\">11.3575</td><td style = \"text-align: right;\">17.6545</td><td style = \"text-align: right;\">17.4327</td><td style = \"text-align: right;\">17.384</td><td style = \"text-align: right;\">16.6528</td><td style = \"text-align: right;\">16.2222</td><td style = \"text-align: right;\">16.3227</td></tr><tr><td class = \"rowNumber\" style = \"font-weight: bold; text-align: right;\">2</td><td style = \"text-align: left;\">BXD13</td><td style = \"text-align: right;\">1</td><td style = \"text-align: right;\">11.687</td><td style = \"text-align: right;\">11.524</td><td style = \"text-align: right;\">17.362</td><td style = \"text-align: right;\">17.367</td><td style = \"text-align: right;\">17.071</td><td style = \"text-align: right;\">16.465</td><td style = \"text-align: right;\">15.97</td><td style = \"text-align: right;\">15.98</td></tr><tr><td class = \"rowNumber\" style = \"font-weight: bold; text-align: right;\">3</td><td style = \"text-align: left;\">BXD24</td><td style = \"text-align: right;\">5</td><td style = \"text-align: right;\">12.0778</td><td style = \"text-align: right;\">11.7458</td><td style = \"text-align: right;\">17.7926</td><td style = \"text-align: right;\">17.8152</td><td style = \"text-align: right;\">17.5168</td><td style = \"text-align: right;\">16.9196</td><td style = \"text-align: right;\">16.3012</td><td style = \"text-align: right;\">16.4304</td></tr><tr><td class = \"rowNumber\" style = \"font-weight: bold; text-align: right;\">4</td><td style = \"text-align: left;\">BXD27</td><td style = \"text-align: right;\">3</td><td style = \"text-align: right;\">11.717</td><td style = \"text-align: right;\">11.149</td><td style = \"text-align: right;\">17.336</td><td style = \"text-align: right;\">17.3143</td><td style = \"text-align: right;\">17.165</td><td style = \"text-align: right;\">16.5283</td><td style = \"text-align: right;\">15.9407</td><td style = \"text-align: right;\">16.002</td></tr><tr><td class = \"rowNumber\" style = \"font-weight: bold; text-align: right;\">5</td><td style = \"text-align: left;\">BXD29</td><td style = \"text-align: right;\">11</td><td style = \"text-align: right;\">11.735</td><td style = \"text-align: right;\">11.3496</td><td style = \"text-align: right;\">17.4583</td><td style = \"text-align: right;\">17.3877</td><td style = \"text-align: right;\">17.2431</td><td style = \"text-align: right;\">16.4945</td><td style = \"text-align: right;\">16.0869</td><td style = \"text-align: right;\">16.1075</td></tr><tr><td class = \"rowNumber\" style = \"font-weight: bold; text-align: right;\">6</td><td style = \"text-align: left;\">BXD32</td><td style = \"text-align: right;\">8</td><td style = \"text-align: right;\">11.6266</td><td style = \"text-align: right;\">11.554</td><td style = \"text-align: right;\">17.8254</td><td style = \"text-align: right;\">17.7716</td><td style = \"text-align: right;\">17.4639</td><td style = \"text-align: right;\">16.9029</td><td style = \"text-align: right;\">16.434</td><td style = \"text-align: right;\">16.425</td></tr><tr><td class = \"rowNumber\" style = \"font-weight: bold; text-align: right;\">7</td><td style = \"text-align: left;\">BXD34</td><td style = \"text-align: right;\">13</td><td style = \"text-align: right;\">11.7491</td><td style = \"text-align: right;\">11.9135</td><td style = \"text-align: right;\">17.6108</td><td style = \"text-align: right;\">17.5974</td><td style = \"text-align: right;\">17.2988</td><td style = \"text-align: right;\">16.7761</td><td style = \"text-align: right;\">16.3147</td><td style = \"text-align: right;\">16.2926</td></tr><tr><td class = \"rowNumber\" style = \"font-weight: bold; text-align: right;\">8</td><td style = \"text-align: left;\">BXD39</td><td style = \"text-align: right;\">5</td><td style = \"text-align: right;\">11.9158</td><td style = \"text-align: right;\">11.719</td><td style = \"text-align: right;\">17.395</td><td style = \"text-align: right;\">17.385</td><td style = \"text-align: right;\">17.157</td><td style = \"text-align: right;\">16.5226</td><td style = \"text-align: right;\">16.179</td><td style = \"text-align: right;\">16.0594</td></tr><tr><td class = \"rowNumber\" style = \"font-weight: bold; text-align: right;\">9</td><td style = \"text-align: left;\">BXD40</td><td style = \"text-align: right;\">8</td><td style = \"text-align: right;\">11.8651</td><td style = \"text-align: right;\">11.6817</td><td style = \"text-align: right;\">17.5986</td><td style = \"text-align: right;\">17.6386</td><td style = \"text-align: right;\">17.3861</td><td style = \"text-align: right;\">16.6824</td><td style = \"text-align: right;\">16.2855</td><td style = \"text-align: right;\">16.2523</td></tr><tr><td class = \"rowNumber\" style = \"font-weight: bold; text-align: right;\">10</td><td style = \"text-align: left;\">BXD43</td><td style = \"text-align: right;\">4</td><td style = \"text-align: right;\">12.378</td><td style = \"text-align: right;\">11.4563</td><td style = \"text-align: right;\">17.76</td><td style = \"text-align: right;\">17.8035</td><td style = \"text-align: right;\">17.3652</td><td style = \"text-align: right;\">16.885</td><td style = \"text-align: right;\">16.5245</td><td style = \"text-align: right;\">16.3532</td></tr></tbody></table></div>"
      ],
      "text/latex": [
       "\\begin{tabular}{r|cccccc}\n",
       "\t& Strain & Number of Samples & P42209\\_DESGLNRK\\_2 & P42209\\_GLRPLDVAFLR\\_3 & Q99M02\\_VGDPVYR\\_2 & \\\\\n",
       "\t\\hline\n",
       "\t& String7 & Int64 & Float64 & Float64 & Float64 & \\\\\n",
       "\t\\hline\n",
       "\t1 & BXD9 & 4 & 11.5968 & 11.3575 & 17.6545 & $\\dots$ \\\\\n",
       "\t2 & BXD13 & 1 & 11.687 & 11.524 & 17.362 & $\\dots$ \\\\\n",
       "\t3 & BXD24 & 5 & 12.0778 & 11.7458 & 17.7926 & $\\dots$ \\\\\n",
       "\t4 & BXD27 & 3 & 11.717 & 11.149 & 17.336 & $\\dots$ \\\\\n",
       "\t5 & BXD29 & 11 & 11.735 & 11.3496 & 17.4583 & $\\dots$ \\\\\n",
       "\t6 & BXD32 & 8 & 11.6266 & 11.554 & 17.8254 & $\\dots$ \\\\\n",
       "\t7 & BXD34 & 13 & 11.7491 & 11.9135 & 17.6108 & $\\dots$ \\\\\n",
       "\t8 & BXD39 & 5 & 11.9158 & 11.719 & 17.395 & $\\dots$ \\\\\n",
       "\t9 & BXD40 & 8 & 11.8651 & 11.6817 & 17.5986 & $\\dots$ \\\\\n",
       "\t10 & BXD43 & 4 & 12.378 & 11.4563 & 17.76 & $\\dots$ \\\\\n",
       "\\end{tabular}\n"
      ],
      "text/plain": [
       "\u001b[1m10×10 DataFrame\u001b[0m\n",
       "\u001b[1m Row \u001b[0m│\u001b[1m Strain  \u001b[0m\u001b[1m Number of Samples \u001b[0m\u001b[1m P42209_DESGLNRK_2 \u001b[0m\u001b[1m P42209_GLRPLDVAFLR_3 \u001b[0m\u001b[1m Q9\u001b[0m ⋯\n",
       "     │\u001b[90m String7 \u001b[0m\u001b[90m Int64             \u001b[0m\u001b[90m Float64           \u001b[0m\u001b[90m Float64              \u001b[0m\u001b[90m Fl\u001b[0m ⋯\n",
       "─────┼──────────────────────────────────────────────────────────────────────────\n",
       "   1 │ BXD9                     4            11.5968               11.3575     ⋯\n",
       "   2 │ BXD13                    1            11.687                11.524\n",
       "   3 │ BXD24                    5            12.0778               11.7458\n",
       "   4 │ BXD27                    3            11.717                11.149\n",
       "   5 │ BXD29                   11            11.735                11.3496     ⋯\n",
       "   6 │ BXD32                    8            11.6266               11.554\n",
       "   7 │ BXD34                   13            11.7491               11.9135\n",
       "   8 │ BXD39                    5            11.9158               11.719\n",
       "   9 │ BXD40                    8            11.8651               11.6817     ⋯\n",
       "  10 │ BXD43                    4            12.378                11.4563\n",
       "\u001b[36m                                                               6 columns omitted\u001b[0m"
      ]
     },
     "execution_count": 12,
     "metadata": {},
     "output_type": "execute_result"
    }
   ],
   "source": [
    "println(size(BXD_pheno_strains_summary_df)) \n",
    "BXD_pheno_strains_summary_df[1:10, 1:10]"
   ]
  },
  {
   "cell_type": "code",
   "execution_count": 13,
   "id": "c9e172db-b395-4c04-9c4c-429e8ce5b677",
   "metadata": {},
   "outputs": [],
   "source": [
    "BXD_geno_strains_summary_df = CSV.read(\"../../../shareddata/BXDLongevity/data/GN886_geno_strains_summary.csv\", DataFrame);"
   ]
  },
  {
   "cell_type": "markdown",
   "id": "e606034c-1af9-4dad-a88d-07f4cc67be19",
   "metadata": {},
   "source": [
    "By strains, there are 50 BXD strains for 7321 markers."
   ]
  },
  {
   "cell_type": "code",
   "execution_count": 14,
   "id": "324c16c7-5a68-44a5-abe6-b098bf1526a9",
   "metadata": {},
   "outputs": [
    {
     "name": "stdout",
     "output_type": "stream",
     "text": [
      "(50, 7322)\n"
     ]
    },
    {
     "data": {
      "text/html": [
       "<div><div style = \"float: left;\"><span>10×10 DataFrame</span></div><div style = \"clear: both;\"></div></div><div class = \"data-frame\" style = \"overflow-x: scroll;\"><table class = \"data-frame\" style = \"margin-bottom: 6px;\"><thead><tr class = \"header\"><th class = \"rowNumber\" style = \"font-weight: bold; text-align: right;\">Row</th><th style = \"text-align: left;\">Strain</th><th style = \"text-align: left;\">rs31443144</th><th style = \"text-align: left;\">rs6269442</th><th style = \"text-align: left;\">rs32285189</th><th style = \"text-align: left;\">rs258367496</th><th style = \"text-align: left;\">rs32430919</th><th style = \"text-align: left;\">rs36251697</th><th style = \"text-align: left;\">rs30658298</th><th style = \"text-align: left;\">rs51852623</th><th style = \"text-align: left;\">rs31879829</th></tr><tr class = \"subheader headerLastRow\"><th class = \"rowNumber\" style = \"font-weight: bold; text-align: right;\"></th><th title = \"String7\" style = \"text-align: left;\">String7</th><th title = \"Float64\" style = \"text-align: left;\">Float64</th><th title = \"Float64\" style = \"text-align: left;\">Float64</th><th title = \"Float64\" style = \"text-align: left;\">Float64</th><th title = \"Float64\" style = \"text-align: left;\">Float64</th><th title = \"Float64\" style = \"text-align: left;\">Float64</th><th title = \"Float64\" style = \"text-align: left;\">Float64</th><th title = \"Float64\" style = \"text-align: left;\">Float64</th><th title = \"Float64\" style = \"text-align: left;\">Float64</th><th title = \"Float64\" style = \"text-align: left;\">Float64</th></tr></thead><tbody><tr><td class = \"rowNumber\" style = \"font-weight: bold; text-align: right;\">1</td><td style = \"text-align: left;\">BXD9</td><td style = \"text-align: right;\">0.0</td><td style = \"text-align: right;\">0.0</td><td style = \"text-align: right;\">0.0</td><td style = \"text-align: right;\">0.0</td><td style = \"text-align: right;\">0.0</td><td style = \"text-align: right;\">0.0</td><td style = \"text-align: right;\">0.0</td><td style = \"text-align: right;\">0.0</td><td style = \"text-align: right;\">0.0</td></tr><tr><td class = \"rowNumber\" style = \"font-weight: bold; text-align: right;\">2</td><td style = \"text-align: left;\">BXD13</td><td style = \"text-align: right;\">0.0</td><td style = \"text-align: right;\">0.0</td><td style = \"text-align: right;\">0.0</td><td style = \"text-align: right;\">0.0</td><td style = \"text-align: right;\">0.0</td><td style = \"text-align: right;\">0.0</td><td style = \"text-align: right;\">0.0</td><td style = \"text-align: right;\">0.0</td><td style = \"text-align: right;\">0.0</td></tr><tr><td class = \"rowNumber\" style = \"font-weight: bold; text-align: right;\">3</td><td style = \"text-align: left;\">BXD24</td><td style = \"text-align: right;\">0.0</td><td style = \"text-align: right;\">0.0</td><td style = \"text-align: right;\">0.0</td><td style = \"text-align: right;\">0.0</td><td style = \"text-align: right;\">0.0</td><td style = \"text-align: right;\">0.0</td><td style = \"text-align: right;\">0.0</td><td style = \"text-align: right;\">0.0</td><td style = \"text-align: right;\">0.0</td></tr><tr><td class = \"rowNumber\" style = \"font-weight: bold; text-align: right;\">4</td><td style = \"text-align: left;\">BXD27</td><td style = \"text-align: right;\">0.0</td><td style = \"text-align: right;\">0.0</td><td style = \"text-align: right;\">0.0</td><td style = \"text-align: right;\">0.0</td><td style = \"text-align: right;\">0.0</td><td style = \"text-align: right;\">0.0</td><td style = \"text-align: right;\">0.0</td><td style = \"text-align: right;\">0.0</td><td style = \"text-align: right;\">0.0</td></tr><tr><td class = \"rowNumber\" style = \"font-weight: bold; text-align: right;\">5</td><td style = \"text-align: left;\">BXD29</td><td style = \"text-align: right;\">1.0</td><td style = \"text-align: right;\">1.0</td><td style = \"text-align: right;\">1.0</td><td style = \"text-align: right;\">1.0</td><td style = \"text-align: right;\">1.0</td><td style = \"text-align: right;\">1.0</td><td style = \"text-align: right;\">1.0</td><td style = \"text-align: right;\">1.0</td><td style = \"text-align: right;\">1.0</td></tr><tr><td class = \"rowNumber\" style = \"font-weight: bold; text-align: right;\">6</td><td style = \"text-align: left;\">BXD32</td><td style = \"text-align: right;\">0.0</td><td style = \"text-align: right;\">0.0</td><td style = \"text-align: right;\">0.0</td><td style = \"text-align: right;\">0.0</td><td style = \"text-align: right;\">0.0</td><td style = \"text-align: right;\">0.0</td><td style = \"text-align: right;\">0.0</td><td style = \"text-align: right;\">0.0</td><td style = \"text-align: right;\">0.0</td></tr><tr><td class = \"rowNumber\" style = \"font-weight: bold; text-align: right;\">7</td><td style = \"text-align: left;\">BXD34</td><td style = \"text-align: right;\">0.0</td><td style = \"text-align: right;\">0.0</td><td style = \"text-align: right;\">0.0</td><td style = \"text-align: right;\">0.0</td><td style = \"text-align: right;\">0.0</td><td style = \"text-align: right;\">0.0</td><td style = \"text-align: right;\">0.0</td><td style = \"text-align: right;\">0.0</td><td style = \"text-align: right;\">0.0</td></tr><tr><td class = \"rowNumber\" style = \"font-weight: bold; text-align: right;\">8</td><td style = \"text-align: left;\">BXD39</td><td style = \"text-align: right;\">1.0</td><td style = \"text-align: right;\">1.0</td><td style = \"text-align: right;\">1.0</td><td style = \"text-align: right;\">1.0</td><td style = \"text-align: right;\">1.0</td><td style = \"text-align: right;\">1.0</td><td style = \"text-align: right;\">1.0</td><td style = \"text-align: right;\">1.0</td><td style = \"text-align: right;\">1.0</td></tr><tr><td class = \"rowNumber\" style = \"font-weight: bold; text-align: right;\">9</td><td style = \"text-align: left;\">BXD40</td><td style = \"text-align: right;\">0.0</td><td style = \"text-align: right;\">0.0</td><td style = \"text-align: right;\">0.0</td><td style = \"text-align: right;\">0.0</td><td style = \"text-align: right;\">0.0</td><td style = \"text-align: right;\">0.0</td><td style = \"text-align: right;\">0.0</td><td style = \"text-align: right;\">0.0</td><td style = \"text-align: right;\">0.0</td></tr><tr><td class = \"rowNumber\" style = \"font-weight: bold; text-align: right;\">10</td><td style = \"text-align: left;\">BXD43</td><td style = \"text-align: right;\">0.0</td><td style = \"text-align: right;\">0.0</td><td style = \"text-align: right;\">0.0</td><td style = \"text-align: right;\">0.0</td><td style = \"text-align: right;\">0.0</td><td style = \"text-align: right;\">0.0</td><td style = \"text-align: right;\">0.0</td><td style = \"text-align: right;\">0.0</td><td style = \"text-align: right;\">0.0</td></tr></tbody></table></div>"
      ],
      "text/latex": [
       "\\begin{tabular}{r|cccccccc}\n",
       "\t& Strain & rs31443144 & rs6269442 & rs32285189 & rs258367496 & rs32430919 & rs36251697 & \\\\\n",
       "\t\\hline\n",
       "\t& String7 & Float64 & Float64 & Float64 & Float64 & Float64 & Float64 & \\\\\n",
       "\t\\hline\n",
       "\t1 & BXD9 & 0.0 & 0.0 & 0.0 & 0.0 & 0.0 & 0.0 & $\\dots$ \\\\\n",
       "\t2 & BXD13 & 0.0 & 0.0 & 0.0 & 0.0 & 0.0 & 0.0 & $\\dots$ \\\\\n",
       "\t3 & BXD24 & 0.0 & 0.0 & 0.0 & 0.0 & 0.0 & 0.0 & $\\dots$ \\\\\n",
       "\t4 & BXD27 & 0.0 & 0.0 & 0.0 & 0.0 & 0.0 & 0.0 & $\\dots$ \\\\\n",
       "\t5 & BXD29 & 1.0 & 1.0 & 1.0 & 1.0 & 1.0 & 1.0 & $\\dots$ \\\\\n",
       "\t6 & BXD32 & 0.0 & 0.0 & 0.0 & 0.0 & 0.0 & 0.0 & $\\dots$ \\\\\n",
       "\t7 & BXD34 & 0.0 & 0.0 & 0.0 & 0.0 & 0.0 & 0.0 & $\\dots$ \\\\\n",
       "\t8 & BXD39 & 1.0 & 1.0 & 1.0 & 1.0 & 1.0 & 1.0 & $\\dots$ \\\\\n",
       "\t9 & BXD40 & 0.0 & 0.0 & 0.0 & 0.0 & 0.0 & 0.0 & $\\dots$ \\\\\n",
       "\t10 & BXD43 & 0.0 & 0.0 & 0.0 & 0.0 & 0.0 & 0.0 & $\\dots$ \\\\\n",
       "\\end{tabular}\n"
      ],
      "text/plain": [
       "\u001b[1m10×10 DataFrame\u001b[0m\n",
       "\u001b[1m Row \u001b[0m│\u001b[1m Strain  \u001b[0m\u001b[1m rs31443144 \u001b[0m\u001b[1m rs6269442 \u001b[0m\u001b[1m rs32285189 \u001b[0m\u001b[1m rs258367496 \u001b[0m\u001b[1m rs32430919 \u001b[0m\u001b[1m rs\u001b[0m ⋯\n",
       "     │\u001b[90m String7 \u001b[0m\u001b[90m Float64    \u001b[0m\u001b[90m Float64   \u001b[0m\u001b[90m Float64    \u001b[0m\u001b[90m Float64     \u001b[0m\u001b[90m Float64    \u001b[0m\u001b[90m Fl\u001b[0m ⋯\n",
       "─────┼──────────────────────────────────────────────────────────────────────────\n",
       "   1 │ BXD9            0.0        0.0         0.0          0.0         0.0     ⋯\n",
       "   2 │ BXD13           0.0        0.0         0.0          0.0         0.0\n",
       "   3 │ BXD24           0.0        0.0         0.0          0.0         0.0\n",
       "   4 │ BXD27           0.0        0.0         0.0          0.0         0.0\n",
       "   5 │ BXD29           1.0        1.0         1.0          1.0         1.0     ⋯\n",
       "   6 │ BXD32           0.0        0.0         0.0          0.0         0.0\n",
       "   7 │ BXD34           0.0        0.0         0.0          0.0         0.0\n",
       "   8 │ BXD39           1.0        1.0         1.0          1.0         1.0\n",
       "   9 │ BXD40           0.0        0.0         0.0          0.0         0.0     ⋯\n",
       "  10 │ BXD43           0.0        0.0         0.0          0.0         0.0\n",
       "\u001b[36m                                                               4 columns omitted\u001b[0m"
      ]
     },
     "execution_count": 14,
     "metadata": {},
     "output_type": "execute_result"
    }
   ],
   "source": [
    "println(size(BXD_geno_strains_summary_df)) \n",
    "BXD_geno_strains_summary_df[1:10, 1:10]"
   ]
  },
  {
   "cell_type": "markdown",
   "id": "3e0e8473-c29a-42c3-a47f-a2748cd4f5d7",
   "metadata": {},
   "source": [
    "## Load functions:"
   ]
  },
  {
   "cell_type": "code",
   "execution_count": 15,
   "id": "f04bb842-e79c-4ec0-9d62-d7b944e6f665",
   "metadata": {},
   "outputs": [],
   "source": [
    "include(joinpath(local_path, \"kinship.jl\"));\n",
    "include(joinpath(local_path, \"util.jl\"));\n",
    "include(joinpath(local_path, \"wls.jl\"));\n",
    "include(joinpath(local_path, \"lmm.jl\"));\n",
    "include(joinpath(local_path, \"gridbrent.jl\"));\n",
    "include(joinpath(local_path, \"transform_helpers.jl\"));\n",
    "include(joinpath(local_path, \"scan.jl\"));\n",
    "include(joinpath(local_path, \"bulkscan_helpers.jl\"));\n",
    "include(joinpath(local_path, \"bulkscan.jl\"));\n",
    "include(joinpath(local_path, \"readData.jl\"));\n",
    "include(joinpath(local_path, \"../plot_utils/visuals_utils.jl\"));\n",
    "include(joinpath(local_path, \"analysis_helpers/single_trait_analysis.jl\"));"
   ]
  },
  {
   "cell_type": "markdown",
   "id": "0eae3573-e769-444e-9899-98480f6f8ccd",
   "metadata": {
    "tags": []
   },
   "source": [
    "## Objectives\n",
    "\n",
    "- gemma one trait, ind and strains\n",
    "\n",
    "- scan_alt one trait, ind and strains\n",
    "\n",
    "- scan_null one trait, ind and strains\n",
    "\n",
    "- bulkscan_grid (null), all traits, ...\n",
    "\n",
    "- data structure for all traits results...\n",
    "\n",
    "- Heatmap grids_taken, compare on strain means and individuals\n",
    "\n",
    "- Histogram of heritabilities (null) for all traits (both strain means and individual level data)\n",
    "\n",
    "- Loglikelihood by h2_grid plot, strain means v.s. individuals\n",
    "\n",
    "- Report fixed effects:\n",
    "\n",
    "- Adjusting difference in the number of samples across strains\n",
    "\n",
    "- Histogram of heritabilities (null) for all traits (both strain means and individual level data)"
   ]
  },
  {
   "cell_type": "markdown",
   "id": "3fe2c576-b753-4832-810f-24f196d05587",
   "metadata": {},
   "source": [
    "## Run BulkLMM.jl:"
   ]
  },
  {
   "cell_type": "markdown",
   "id": "b21044d7-08fc-454d-9528-e1271634033d",
   "metadata": {},
   "source": [
    "### Calculate kinship:"
   ]
  },
  {
   "cell_type": "markdown",
   "id": "02df590a-330c-42cd-9683-a3ba1ff991fc",
   "metadata": {},
   "source": [
    "First, calculate the kinship matrix of relatedness among the strains (50-by-50):"
   ]
  },
  {
   "cell_type": "code",
   "execution_count": 16,
   "id": "18e76163-3e2a-40b3-b934-7ee1c9329887",
   "metadata": {},
   "outputs": [],
   "source": [
    "geno_strains = Matrix{Float64}(BXD_geno_strains_summary_df[:, 2:end]);"
   ]
  },
  {
   "cell_type": "code",
   "execution_count": 17,
   "id": "dd7d6569-ee12-4e1f-8fa4-df06d5c62ff8",
   "metadata": {},
   "outputs": [],
   "source": [
    "kinship_strains = calcKinship(geno_strains);"
   ]
  },
  {
   "cell_type": "markdown",
   "id": "e11b6c48-a575-4948-86bf-5e40d01b79c6",
   "metadata": {},
   "source": [
    "Then, construct the kinship matrix of relatedness among the individuals based on which strain they are from:"
   ]
  },
  {
   "cell_type": "code",
   "execution_count": 34,
   "id": "cfcf52f0-8c4a-4a39-83be-9955101cc419",
   "metadata": {},
   "outputs": [
    {
     "data": {
      "text/plain": [
       "calcRepeats (generic function with 3 methods)"
      ]
     },
     "execution_count": 34,
     "metadata": {},
     "output_type": "execute_result"
    }
   ],
   "source": [
    "function calcRepeats(x::Array{<:Any, 1})\n",
    "    \n",
    "    counting_dict = Dict{Any, Int64}();\n",
    "    \n",
    "    for i in 1:length(x)\n",
    "        curr_key = x[i];\n",
    "        if haskey(counting_dict, curr_key) # if current key already exists\n",
    "            counting_dict[curr_key] += 1;\n",
    "        else # if current key does not present, add it as a new key\n",
    "            counting_dict[curr_key] = 1;\n",
    "        end\n",
    "    end\n",
    "    \n",
    "    return counting_dict\n",
    "    \n",
    "end"
   ]
  },
  {
   "cell_type": "code",
   "execution_count": 19,
   "id": "a22c5899-227f-44e8-872b-0fb90953fd4b",
   "metadata": {},
   "outputs": [
    {
     "data": {
      "text/plain": [
       "calcIndKinship_from_StrainKinship (generic function with 1 method)"
      ]
     },
     "execution_count": 19,
     "metadata": {},
     "output_type": "execute_result"
    }
   ],
   "source": [
    "function calcIndKinship_from_StrainKinship(kinship_strains::Array{Float64, 2}, \n",
    "                                           strain_info_about_samples::Array{Int64, 1})\n",
    "    \n",
    "    counting_dict = calcRepeats(strain_info_about_samples);\n",
    "    reps_each_strain = map(x -> counting_dict[x], unique(strain_info_about_samples));\n",
    "    \n",
    "    # Initialize the placeholder:\n",
    "    kinship_ind_from_strains = ones(sum(reps_each_strain), sum(reps_each_strain));\n",
    "\n",
    "    # process the first BXD strain...\n",
    "    reps_strain_1 = reps_each_strain[1];\n",
    "    k_11 = kinship_strains[1, 1];\n",
    "    # block_11 = ones(reps_strain_1, reps_strain_1);\n",
    "\n",
    "    row_id = 0;\n",
    "    col_id = 0;\n",
    "\n",
    "    @views kinship_ind_from_strains[(row_id+1):(row_id+reps_strain_1), \n",
    "                             (row_id+1):(row_id+reps_strain_1)] .*= k_11;\n",
    "\n",
    "    for j in 2:length(reps_each_strain)\n",
    "        reps_strain_j = reps_each_strain[j];\n",
    "        k_1j = kinship_strains[1, j];\n",
    "        # block_1j = ones(reps_strain_1, reps_strain_j);\n",
    "\n",
    "        col_id += reps_each_strain[j-1];\n",
    "        @views kinship_ind_from_strains[(row_id+1):(row_id+reps_strain_1), \n",
    "                                 (col_id+1):(col_id+reps_strain_j)] .*= k_1j;\n",
    "\n",
    "        # process the off-diagonal block conveniently...\n",
    "        # block_j1 = ones(reps_strain_j, reps_strain_1);\n",
    "        kinship_ind_from_strains[(col_id+1):(col_id+reps_strain_j),\n",
    "                                 (row_id+1):(row_id+reps_strain_1)] .*= k_1j;\n",
    "\n",
    "    end\n",
    "\n",
    "    # process for the second BXD strain and all after...\n",
    "    # for i in 2:length(reps_each_strain)\n",
    "    for i in 2:length(reps_each_strain)\n",
    "\n",
    "        reps_strain_i = reps_each_strain[i];\n",
    "        k_ii = kinship_strains[i, i];\n",
    "        # block_ii = ones(reps_strain_i, reps_strain_i);\n",
    "\n",
    "        row_id += reps_each_strain[i-1];\n",
    "        @views kinship_ind_from_strains[(row_id+1):(row_id+reps_strain_i), \n",
    "                                 (row_id+1):(row_id+reps_strain_i)] .*= k_ii;\n",
    "\n",
    "        col_id = row_id+reps_strain_i;\n",
    "\n",
    "        for j in (i+1):length(reps_each_strain)\n",
    "\n",
    "            reps_strain_j = reps_each_strain[j];\n",
    "            k_ij = kinship_strains[i, j];\n",
    "            # block_ij = ones(reps_strain_i, reps_strain_j);\n",
    "\n",
    "            @views kinship_ind_from_strains[(row_id+1):(row_id+reps_strain_i), \n",
    "                                     (col_id+1):(col_id+reps_strain_j)] .*= k_ij;\n",
    "\n",
    "            # process the off-diagonal block conveniently...\n",
    "            # block_ji = ones(reps_strain_j, reps_strain_i);\n",
    "            @views kinship_ind_from_strains[(col_id+1):(col_id+reps_strain_j),\n",
    "                                     (row_id+1):(row_id+reps_strain_i)] .*= k_ij;\n",
    "\n",
    "            col_id += reps_each_strain[j];\n",
    "        end\n",
    "    \n",
    "    end\n",
    "    \n",
    "    return kinship_ind_from_strains\n",
    "end"
   ]
  },
  {
   "cell_type": "code",
   "execution_count": 35,
   "id": "1627ff49-f03c-4f7c-95bb-647d9bec26dc",
   "metadata": {},
   "outputs": [],
   "source": [
    "BXD_geno_ind_summary_df.Strain_num = Vector{Int64}(BXD_geno_ind_summary_df.Strain_num);"
   ]
  },
  {
   "cell_type": "code",
   "execution_count": 36,
   "id": "a73175e6-d861-4263-8a77-1313da56c694",
   "metadata": {},
   "outputs": [
    {
     "data": {
      "text/plain": [
       "248-element Vector{Int64}:\n",
       "   9\n",
       "   9\n",
       "   9\n",
       "   9\n",
       "  13\n",
       "  24\n",
       "  24\n",
       "  24\n",
       "  24\n",
       "  24\n",
       "  27\n",
       "  27\n",
       "  27\n",
       "   ⋮\n",
       " 102\n",
       " 102\n",
       " 102\n",
       " 102\n",
       " 102\n",
       " 102\n",
       " 102\n",
       " 102\n",
       " 102\n",
       " 102\n",
       " 102\n",
       " 102"
      ]
     },
     "execution_count": 36,
     "metadata": {},
     "output_type": "execute_result"
    }
   ],
   "source": [
    "BXD_geno_ind_summary_df.Strain_num"
   ]
  },
  {
   "cell_type": "code",
   "execution_count": 47,
   "id": "e9488226-7305-460c-9699-686589549603",
   "metadata": {},
   "outputs": [
    {
     "data": {
      "text/plain": [
       "10-element Vector{String}:\n",
       " \"BXD1\"\n",
       " \"BXD2\"\n",
       " \"BXD3\"\n",
       " \"BXD4\"\n",
       " \"BXD5\"\n",
       " \"BXD6\"\n",
       " \"BXD7\"\n",
       " \"BXD8\"\n",
       " \"BXD9\"\n",
       " \"BXD10\""
      ]
     },
     "execution_count": 47,
     "metadata": {},
     "output_type": "execute_result"
    }
   ],
   "source": [
    "s = \"BXD\" .* string.(collect(1:10))"
   ]
  },
  {
   "cell_type": "code",
   "execution_count": 51,
   "id": "e87a3f75-3de0-4e3b-8168-7746416c392f",
   "metadata": {},
   "outputs": [
    {
     "data": {
      "text/plain": [
       "6-element Vector{String}:\n",
       " \"BXD1\"\n",
       " \"BXD1\"\n",
       " \"BXD1\"\n",
       " \"BXD2\"\n",
       " \"BXD2\"\n",
       " \"BXD2\""
      ]
     },
     "execution_count": 51,
     "metadata": {},
     "output_type": "execute_result"
    }
   ],
   "source": [
    "repeat(s[1:2], inner = 3)"
   ]
  },
  {
   "cell_type": "code",
   "execution_count": 41,
   "id": "2d66622e-8441-4494-aad8-e04576f797f3",
   "metadata": {},
   "outputs": [
    {
     "data": {
      "text/plain": [
       "Dict{Int64, Int64} with 50 entries:\n",
       "  56 => 1\n",
       "  55 => 1\n",
       "  60 => 3\n",
       "  32 => 8\n",
       "  67 => 2\n",
       "  45 => 5\n",
       "  73 => 7\n",
       "  64 => 3\n",
       "  90 => 6\n",
       "  13 => 1\n",
       "  63 => 12\n",
       "  86 => 4\n",
       "  91 => 2\n",
       "  62 => 5\n",
       "  75 => 2\n",
       "  43 => 4\n",
       "  69 => 5\n",
       "  68 => 2\n",
       "  98 => 5\n",
       "  39 => 5\n",
       "  84 => 2\n",
       "  77 => 6\n",
       "  95 => 5\n",
       "  66 => 5\n",
       "  34 => 13\n",
       "  ⋮  => ⋮"
      ]
     },
     "execution_count": 41,
     "metadata": {},
     "output_type": "execute_result"
    }
   ],
   "source": [
    "df1 = calcRepeats(BXD_geno_ind_summary_df.Strain_num)"
   ]
  },
  {
   "cell_type": "code",
   "execution_count": 38,
   "id": "70689c47-880c-44d2-8749-828078ab492c",
   "metadata": {},
   "outputs": [
    {
     "data": {
      "text/plain": [
       "248-element Vector{String}:\n",
       " \"BXD9\"\n",
       " \"BXD9\"\n",
       " \"BXD9\"\n",
       " \"BXD9\"\n",
       " \"BXD13\"\n",
       " \"BXD24\"\n",
       " \"BXD24\"\n",
       " \"BXD24\"\n",
       " \"BXD24\"\n",
       " \"BXD24\"\n",
       " \"BXD27\"\n",
       " \"BXD27\"\n",
       " \"BXD27\"\n",
       " ⋮\n",
       " \"BXD102\"\n",
       " \"BXD102\"\n",
       " \"BXD102\"\n",
       " \"BXD102\"\n",
       " \"BXD102\"\n",
       " \"BXD102\"\n",
       " \"BXD102\"\n",
       " \"BXD102\"\n",
       " \"BXD102\"\n",
       " \"BXD102\"\n",
       " \"BXD102\"\n",
       " \"BXD102\""
      ]
     },
     "execution_count": 38,
     "metadata": {},
     "output_type": "execute_result"
    }
   ],
   "source": [
    "BXD_geno_ind_summary_df.Strain = BXD_geno_ind_summary_df.Strain |> Array{String}"
   ]
  },
  {
   "cell_type": "code",
   "execution_count": 39,
   "id": "39dfc167-3b5d-492e-bf0f-1b1991553019",
   "metadata": {},
   "outputs": [
    {
     "data": {
      "text/plain": [
       "Vector{String} (alias for Array{String, 1})"
      ]
     },
     "execution_count": 39,
     "metadata": {},
     "output_type": "execute_result"
    }
   ],
   "source": [
    "typeof(BXD_geno_ind_summary_df.Strain)"
   ]
  },
  {
   "cell_type": "code",
   "execution_count": 42,
   "id": "df8d64a5-6d8c-45c6-8899-71b9a4d1258b",
   "metadata": {},
   "outputs": [
    {
     "data": {
      "text/plain": [
       "Dict{Any, Int64} with 50 entries:\n",
       "  \"BXD53\"  => 3\n",
       "  \"BXD32\"  => 8\n",
       "  \"BXD70\"  => 7\n",
       "  \"BXD79\"  => 5\n",
       "  \"BXD48\"  => 6\n",
       "  \"BXD60\"  => 3\n",
       "  \"BXD13\"  => 1\n",
       "  \"BXD69\"  => 5\n",
       "  \"BXD90\"  => 6\n",
       "  \"BXD49\"  => 2\n",
       "  \"BXD51\"  => 5\n",
       "  \"BXD84\"  => 2\n",
       "  \"BXD101\" => 5\n",
       "  \"BXD86\"  => 4\n",
       "  \"BXD40\"  => 8\n",
       "  \"BXD50\"  => 3\n",
       "  \"BXD65\"  => 13\n",
       "  \"BXD88\"  => 1\n",
       "  \"BXD95\"  => 5\n",
       "  \"BXD27\"  => 3\n",
       "  \"BXD61\"  => 8\n",
       "  \"BXD29\"  => 11\n",
       "  \"BXD74\"  => 1\n",
       "  \"BXD100\" => 8\n",
       "  \"BXD91\"  => 2\n",
       "  ⋮        => ⋮"
      ]
     },
     "execution_count": 42,
     "metadata": {},
     "output_type": "execute_result"
    }
   ],
   "source": [
    "df_any = calcRepeats(BXD_geno_ind_summary_df.Strain)"
   ]
  },
  {
   "cell_type": "code",
   "execution_count": 68,
   "id": "4d316171-eb8a-4af2-8b69-2b7b250b499b",
   "metadata": {},
   "outputs": [
    {
     "data": {
      "text/plain": [
       "createRanges (generic function with 1 method)"
      ]
     },
     "execution_count": 68,
     "metadata": {},
     "output_type": "execute_result"
    }
   ],
   "source": [
    "function createRanges(values::Array{Int64, 1})\n",
    "    \n",
    "    m = length(values); # number of strains\n",
    "    \n",
    "    list_ranges = Array{UnitRange{Int64}, 1}(undef, m)\n",
    "    startpt = 1\n",
    "    \n",
    "    for i in 1:length(values)\n",
    "        endpt = startpt+values[i]-1;\n",
    "        list_ranges[i] = startpt:endpt\n",
    "        startpt = endpt+1\n",
    "    end\n",
    "    \n",
    "    return list_ranges\n",
    "    \n",
    "end"
   ]
  },
  {
   "cell_type": "code",
   "execution_count": 69,
   "id": "9f192b6e-e552-4cfe-8658-df37f6f3dce7",
   "metadata": {},
   "outputs": [
    {
     "data": {
      "text/plain": [
       "UnitRange{Int64}"
      ]
     },
     "execution_count": 69,
     "metadata": {},
     "output_type": "execute_result"
    }
   ],
   "source": [
    "typeof(1:3)"
   ]
  },
  {
   "cell_type": "code",
   "execution_count": 70,
   "id": "bccc2a9e-ab14-4c4a-bda1-1b3d7d8cc1aa",
   "metadata": {},
   "outputs": [],
   "source": [
    "example = [3, 2, 4];"
   ]
  },
  {
   "cell_type": "code",
   "execution_count": 78,
   "id": "f8f3c9a5-2fb9-4da1-b041-6b7acc0b7edc",
   "metadata": {},
   "outputs": [
    {
     "data": {
      "text/plain": [
       "3-element Vector{UnitRange{Int64}}:\n",
       " 1:3\n",
       " 4:5\n",
       " 6:9"
      ]
     },
     "execution_count": 78,
     "metadata": {},
     "output_type": "execute_result"
    }
   ],
   "source": [
    "test_ranges = createRanges(example)"
   ]
  },
  {
   "cell_type": "code",
   "execution_count": 76,
   "id": "a8178bf4-07b7-4ca2-b2a4-33e9a4df99d4",
   "metadata": {},
   "outputs": [
    {
     "data": {
      "text/plain": [
       "false"
      ]
     },
     "execution_count": 76,
     "metadata": {},
     "output_type": "execute_result"
    }
   ],
   "source": [
    "!(1 in 1:3)"
   ]
  },
  {
   "cell_type": "code",
   "execution_count": 88,
   "id": "b25882ee-2ac2-40ed-ab1a-51ca4f02217c",
   "metadata": {},
   "outputs": [
    {
     "data": {
      "text/plain": [
       "mapIds (generic function with 1 method)"
      ]
     },
     "execution_count": 88,
     "metadata": {},
     "output_type": "execute_result"
    }
   ],
   "source": [
    "function mapIds(id::Int64, ranges::Array{UnitRange{Int64}, 1})\n",
    "    \n",
    "    curr_group = 1;\n",
    "    \n",
    "    while !(id in ranges[curr_group])\n",
    "        curr_group = curr_group+1;\n",
    "    end\n",
    "    \n",
    "    return curr_group\n",
    "    \n",
    "end"
   ]
  },
  {
   "cell_type": "code",
   "execution_count": 79,
   "id": "20570c82-fa68-4e54-9c7f-c408d62e915a",
   "metadata": {},
   "outputs": [
    {
     "data": {
      "text/plain": [
       "3"
      ]
     },
     "execution_count": 79,
     "metadata": {},
     "output_type": "execute_result"
    }
   ],
   "source": [
    "mapIdxs(7, test_ranges)"
   ]
  },
  {
   "cell_type": "code",
   "execution_count": 95,
   "id": "52f72346-1084-4650-8ea7-7081aa8160af",
   "metadata": {},
   "outputs": [
    {
     "data": {
      "text/plain": [
       "mapValues (generic function with 1 method)"
      ]
     },
     "execution_count": 95,
     "metadata": {},
     "output_type": "execute_result"
    }
   ],
   "source": [
    "function mapValues(idx::Int64, idy::Int64, ranges::Array{UnitRange{Int64}, 1}, K::Array{Float64, 2})\n",
    "    \n",
    "    f_idx = mapIds(idx, ranges);\n",
    "    f_idy = mapIds(idy, ranges);\n",
    "    \n",
    "    return K[f_idx, f_idy];\n",
    "    \n",
    "end"
   ]
  },
  {
   "cell_type": "code",
   "execution_count": 97,
   "id": "67815eb2-393d-4204-925d-a1b22615f713",
   "metadata": {},
   "outputs": [
    {
     "data": {
      "text/plain": [
       "calcKinship2 (generic function with 1 method)"
      ]
     },
     "execution_count": 97,
     "metadata": {},
     "output_type": "execute_result"
    }
   ],
   "source": [
    "function calcKinship2(kinship_strains::Array{Float64, 2}, \n",
    "                      strain_info_about_samples::Array{<:Any, 1})\n",
    "\n",
    "    counting_dict = calcRepeats(strain_info_about_samples);\n",
    "    reps_each_strain = map(x -> counting_dict[x], unique(strain_info_about_samples));\n",
    "    ranges = createRanges(reps_each_strain);\n",
    "    \n",
    "    n = sum(reps_each_strain); # total number of individual samples\n",
    "    \n",
    "    kinship_ind = ones(n, n);\n",
    "    \n",
    "    for i in 1:n\n",
    "        for j in 1:n\n",
    "            kinship_ind[i, j] = mapValues(i, j, ranges, kinship_strains);\n",
    "        end\n",
    "    end\n",
    "    \n",
    "    return kinship_ind;    \n",
    "\n",
    "end"
   ]
  },
  {
   "cell_type": "code",
   "execution_count": 100,
   "id": "c68f03ec-25ca-4d93-ba11-6430fcc21cdb",
   "metadata": {},
   "outputs": [
    {
     "data": {
      "text/plain": [
       "3×3 Matrix{Float64}:\n",
       " 1.0  0.5  0.6\n",
       " 0.5  1.0  0.7\n",
       " 0.6  0.7  1.0"
      ]
     },
     "execution_count": 100,
     "metadata": {},
     "output_type": "execute_result"
    }
   ],
   "source": [
    "example_K = [1 0.5 0.6; \n",
    "             0.5 1 0.7;\n",
    "             0.6 0.7 1]"
   ]
  },
  {
   "cell_type": "code",
   "execution_count": 102,
   "id": "8abd8f9f-c35a-4c17-9965-d08e2f281c0b",
   "metadata": {},
   "outputs": [],
   "source": [
    "example_strain_each_sample = [1, 1, 1, 2, 2, 3, 3, 3, 3];"
   ]
  },
  {
   "cell_type": "code",
   "execution_count": 104,
   "id": "2e1094cb-c096-4952-ab02-9f9b01505fb7",
   "metadata": {},
   "outputs": [
    {
     "name": "stdout",
     "output_type": "stream",
     "text": [
      "  0.000012 seconds (13 allocations: 1.969 KiB)\n"
     ]
    },
    {
     "data": {
      "text/plain": [
       "9×9 Matrix{Float64}:\n",
       " 1.0  1.0  1.0  0.5  0.5  0.6  0.6  0.6  0.6\n",
       " 1.0  1.0  1.0  0.5  0.5  0.6  0.6  0.6  0.6\n",
       " 1.0  1.0  1.0  0.5  0.5  0.6  0.6  0.6  0.6\n",
       " 0.5  0.5  0.5  1.0  1.0  0.7  0.7  0.7  0.7\n",
       " 0.5  0.5  0.5  1.0  1.0  0.7  0.7  0.7  0.7\n",
       " 0.6  0.6  0.6  0.7  0.7  1.0  1.0  1.0  1.0\n",
       " 0.6  0.6  0.6  0.7  0.7  1.0  1.0  1.0  1.0\n",
       " 0.6  0.6  0.6  0.7  0.7  1.0  1.0  1.0  1.0\n",
       " 0.6  0.6  0.6  0.7  0.7  1.0  1.0  1.0  1.0"
      ]
     },
     "execution_count": 104,
     "metadata": {},
     "output_type": "execute_result"
    }
   ],
   "source": [
    "@time example_test_K2 = calcKinship2(example_K, example_strain_each_sample)"
   ]
  },
  {
   "cell_type": "code",
   "execution_count": 108,
   "id": "a27748ae-2b90-4739-8c18-b7b86f79eb79",
   "metadata": {},
   "outputs": [
    {
     "name": "stdout",
     "output_type": "stream",
     "text": [
      "  0.003237 seconds (28 allocations: 493.812 KiB)\n"
     ]
    }
   ],
   "source": [
    "@time kinship2_ind = calcKinship2(kinship_strains, BXD_geno_ind_summary_df.Strain_num);"
   ]
  },
  {
   "cell_type": "code",
   "execution_count": 43,
   "id": "00e3eac5-c8a7-4aca-9af7-30a99c6b1fe9",
   "metadata": {},
   "outputs": [
    {
     "data": {
      "text/plain": [
       "13"
      ]
     },
     "execution_count": 43,
     "metadata": {},
     "output_type": "execute_result"
    }
   ],
   "source": [
    "df_any[\"BXD34\"]"
   ]
  },
  {
   "cell_type": "code",
   "execution_count": 107,
   "id": "ed61c75f-c283-49fd-acde-30b083d1743b",
   "metadata": {},
   "outputs": [
    {
     "name": "stdout",
     "output_type": "stream",
     "text": [
      "  0.000199 seconds (76 allocations: 503.766 KiB)\n"
     ]
    }
   ],
   "source": [
    "@time kinship_ind_from_strains = calcIndKinship_from_StrainKinship(kinship_strains, BXD_geno_ind_summary_df.Strain_num);"
   ]
  },
  {
   "cell_type": "code",
   "execution_count": 109,
   "id": "26cb43ba-29db-4c54-a152-a0acaf48e6a6",
   "metadata": {},
   "outputs": [
    {
     "data": {
      "text/plain": [
       "248×248 Matrix{Float64}:\n",
       " 1.0       1.0       1.0       1.0       …  0.549925  0.549925  0.549925\n",
       " 1.0       1.0       1.0       1.0          0.549925  0.549925  0.549925\n",
       " 1.0       1.0       1.0       1.0          0.549925  0.549925  0.549925\n",
       " 1.0       1.0       1.0       1.0          0.549925  0.549925  0.549925\n",
       " 0.554842  0.554842  0.554842  0.554842     0.531895  0.531895  0.531895\n",
       " 0.583732  0.583732  0.583732  0.583732  …  0.540227  0.540227  0.540227\n",
       " 0.583732  0.583732  0.583732  0.583732     0.540227  0.540227  0.540227\n",
       " 0.583732  0.583732  0.583732  0.583732     0.540227  0.540227  0.540227\n",
       " 0.583732  0.583732  0.583732  0.583732     0.540227  0.540227  0.540227\n",
       " 0.583732  0.583732  0.583732  0.583732     0.540227  0.540227  0.540227\n",
       " 0.529504  0.529504  0.529504  0.529504  …  0.557984  0.557984  0.557984\n",
       " 0.529504  0.529504  0.529504  0.529504     0.557984  0.557984  0.557984\n",
       " 0.529504  0.529504  0.529504  0.529504     0.557984  0.557984  0.557984\n",
       " ⋮                                       ⋱  ⋮                   \n",
       " 0.549925  0.549925  0.549925  0.549925     1.0       1.0       1.0\n",
       " 0.549925  0.549925  0.549925  0.549925     1.0       1.0       1.0\n",
       " 0.549925  0.549925  0.549925  0.549925     1.0       1.0       1.0\n",
       " 0.549925  0.549925  0.549925  0.549925     1.0       1.0       1.0\n",
       " 0.549925  0.549925  0.549925  0.549925  …  1.0       1.0       1.0\n",
       " 0.549925  0.549925  0.549925  0.549925     1.0       1.0       1.0\n",
       " 0.549925  0.549925  0.549925  0.549925     1.0       1.0       1.0\n",
       " 0.549925  0.549925  0.549925  0.549925     1.0       1.0       1.0\n",
       " 0.549925  0.549925  0.549925  0.549925     1.0       1.0       1.0\n",
       " 0.549925  0.549925  0.549925  0.549925  …  1.0       1.0       1.0\n",
       " 0.549925  0.549925  0.549925  0.549925     1.0       1.0       1.0\n",
       " 0.549925  0.549925  0.549925  0.549925     1.0       1.0       1.0"
      ]
     },
     "execution_count": 109,
     "metadata": {},
     "output_type": "execute_result"
    }
   ],
   "source": [
    "kinship2_ind"
   ]
  },
  {
   "cell_type": "code",
   "execution_count": 55,
   "id": "c5c3d042-1fb2-476f-beb9-84d9e6499540",
   "metadata": {},
   "outputs": [
    {
     "data": {
      "text/plain": [
       "248×248 Matrix{Float64}:\n",
       " 1.0       1.0       1.0       1.0       …  0.549925  0.549925  0.549925\n",
       " 1.0       1.0       1.0       1.0          0.549925  0.549925  0.549925\n",
       " 1.0       1.0       1.0       1.0          0.549925  0.549925  0.549925\n",
       " 1.0       1.0       1.0       1.0          0.549925  0.549925  0.549925\n",
       " 0.554842  0.554842  0.554842  0.554842     0.531895  0.531895  0.531895\n",
       " 0.583732  0.583732  0.583732  0.583732  …  0.540227  0.540227  0.540227\n",
       " 0.583732  0.583732  0.583732  0.583732     0.540227  0.540227  0.540227\n",
       " 0.583732  0.583732  0.583732  0.583732     0.540227  0.540227  0.540227\n",
       " 0.583732  0.583732  0.583732  0.583732     0.540227  0.540227  0.540227\n",
       " 0.583732  0.583732  0.583732  0.583732     0.540227  0.540227  0.540227\n",
       " 0.529504  0.529504  0.529504  0.529504  …  0.557984  0.557984  0.557984\n",
       " 0.529504  0.529504  0.529504  0.529504     0.557984  0.557984  0.557984\n",
       " 0.529504  0.529504  0.529504  0.529504     0.557984  0.557984  0.557984\n",
       " ⋮                                       ⋱  ⋮                   \n",
       " 0.549925  0.549925  0.549925  0.549925     1.0       1.0       1.0\n",
       " 0.549925  0.549925  0.549925  0.549925     1.0       1.0       1.0\n",
       " 0.549925  0.549925  0.549925  0.549925     1.0       1.0       1.0\n",
       " 0.549925  0.549925  0.549925  0.549925     1.0       1.0       1.0\n",
       " 0.549925  0.549925  0.549925  0.549925  …  1.0       1.0       1.0\n",
       " 0.549925  0.549925  0.549925  0.549925     1.0       1.0       1.0\n",
       " 0.549925  0.549925  0.549925  0.549925     1.0       1.0       1.0\n",
       " 0.549925  0.549925  0.549925  0.549925     1.0       1.0       1.0\n",
       " 0.549925  0.549925  0.549925  0.549925     1.0       1.0       1.0\n",
       " 0.549925  0.549925  0.549925  0.549925  …  1.0       1.0       1.0\n",
       " 0.549925  0.549925  0.549925  0.549925     1.0       1.0       1.0\n",
       " 0.549925  0.549925  0.549925  0.549925     1.0       1.0       1.0"
      ]
     },
     "execution_count": 55,
     "metadata": {},
     "output_type": "execute_result"
    }
   ],
   "source": [
    "kinship_ind_from_strains"
   ]
  },
  {
   "cell_type": "code",
   "execution_count": 110,
   "id": "1165a177-9e0c-4b24-97d7-69e92b71a101",
   "metadata": {},
   "outputs": [
    {
     "data": {
      "text/plain": [
       "0.0"
      ]
     },
     "execution_count": 110,
     "metadata": {},
     "output_type": "execute_result"
    }
   ],
   "source": [
    "sum(abs.(kinship2_ind .- kinship_ind_from_strains))"
   ]
  },
  {
   "cell_type": "markdown",
   "id": "c5e77a37-855e-4143-941c-1bd5164b84a7",
   "metadata": {},
   "source": [
    "Compare the runtime with directly calculating the kinship matrix from individual genotype data:"
   ]
  },
  {
   "cell_type": "code",
   "execution_count": 130,
   "id": "d52be48c-64d2-4894-a83c-3af0629e489c",
   "metadata": {},
   "outputs": [
    {
     "data": {
      "text/plain": [
       "10×10 Matrix{Float64}:\n",
       " 1.0   1.0   1.0   1.0   0.55  0.58  0.58  0.58  0.58  0.58\n",
       " 1.0   1.0   1.0   1.0   0.55  0.58  0.58  0.58  0.58  0.58\n",
       " 1.0   1.0   1.0   1.0   0.55  0.58  0.58  0.58  0.58  0.58\n",
       " 1.0   1.0   1.0   1.0   0.55  0.58  0.58  0.58  0.58  0.58\n",
       " 0.55  0.55  0.55  0.55  1.0   0.56  0.56  0.56  0.56  0.56\n",
       " 0.58  0.58  0.58  0.58  0.56  1.0   1.0   1.0   1.0   1.0\n",
       " 0.58  0.58  0.58  0.58  0.56  1.0   1.0   1.0   1.0   1.0\n",
       " 0.58  0.58  0.58  0.58  0.56  1.0   1.0   1.0   1.0   1.0\n",
       " 0.58  0.58  0.58  0.58  0.56  1.0   1.0   1.0   1.0   1.0\n",
       " 0.58  0.58  0.58  0.58  0.56  1.0   1.0   1.0   1.0   1.0"
      ]
     },
     "execution_count": 130,
     "metadata": {},
     "output_type": "execute_result"
    }
   ],
   "source": [
    "round.(kinship_ind_from_strains[1:10, 1:10], digits = 2)"
   ]
  },
  {
   "cell_type": "code",
   "execution_count": 131,
   "id": "d5f97779-e35c-4373-91ae-b9f003c5c280",
   "metadata": {},
   "outputs": [],
   "source": [
    "geno_ind = Matrix{Float64}(BXD_geno_ind_summary_df[:, 4:end]);"
   ]
  },
  {
   "cell_type": "code",
   "execution_count": 132,
   "id": "0306cc96-a8d2-4cbd-a7af-539ee488c70f",
   "metadata": {},
   "outputs": [
    {
     "name": "stdout",
     "output_type": "stream",
     "text": [
      "  2.695384 seconds (306.28 k allocations: 8.368 GiB, 5.50% gc time)\n"
     ]
    }
   ],
   "source": [
    "@time kinship_ind_from_ind = calcKinship(geno_ind);"
   ]
  },
  {
   "cell_type": "code",
   "execution_count": 133,
   "id": "cfe9f696-f089-4865-a081-a5dd95d5c87e",
   "metadata": {},
   "outputs": [
    {
     "data": {
      "text/plain": [
       "0.04186586531894554"
      ]
     },
     "execution_count": 133,
     "metadata": {},
     "output_type": "execute_result"
    }
   ],
   "source": [
    "maximum(abs.(kinship_ind_from_ind .- kinship_ind_from_strains))"
   ]
  },
  {
   "cell_type": "markdown",
   "id": "19b9c567-b404-429c-a3a6-6053ffec44d4",
   "metadata": {},
   "source": [
    "### Single-trait genome scans:"
   ]
  },
  {
   "cell_type": "markdown",
   "id": "bcbd89b9-2ad3-40a8-8e8d-81512875debb",
   "metadata": {},
   "source": [
    "To see single trait genome scan results, we take the 29437-th livear proteomic as the single trait to run analysis:  "
   ]
  },
  {
   "cell_type": "code",
   "execution_count": 134,
   "id": "547fc3eb-99e8-43b7-a7dd-bb0d3073b3b5",
   "metadata": {},
   "outputs": [],
   "source": [
    "lp_names = names(BXD_pheno_ind_summary_df)[4:end];"
   ]
  },
  {
   "cell_type": "code",
   "execution_count": 135,
   "id": "07a1bf7c-d333-4826-ab63-513f87006589",
   "metadata": {},
   "outputs": [
    {
     "data": {
      "text/plain": [
       "\"Q9Z2I8_SSGLPITSAVDLEDAAK_3\""
      ]
     },
     "execution_count": 135,
     "metadata": {},
     "output_type": "execute_result"
    }
   ],
   "source": [
    "lp_id = 29437;\n",
    "lp_names[lp_id]"
   ]
  },
  {
   "cell_type": "code",
   "execution_count": 136,
   "id": "10b8a21f-65a2-442f-bdd4-fbb0f7e2feaf",
   "metadata": {},
   "outputs": [],
   "source": [
    "prior = [1.0, 0.1];"
   ]
  },
  {
   "cell_type": "markdown",
   "id": "fb6aa497-38b0-4c8e-9582-c675019bfcfc",
   "metadata": {},
   "source": [
    "#### For individual liver proteome"
   ]
  },
  {
   "cell_type": "code",
   "execution_count": 137,
   "id": "f9e6bc67-fc56-47ae-aa0c-df73658709b0",
   "metadata": {},
   "outputs": [],
   "source": [
    "lp_ind_Y = Matrix{Float64}(BXD_pheno_ind_summary_df[:, 4:end]);\n",
    "lp_ind_y = reshape(lp_ind_Y[:, lp_id], :, 1);"
   ]
  },
  {
   "cell_type": "code",
   "execution_count": 138,
   "id": "ebaaef2c-8973-42e0-b527-c23d8c73ae40",
   "metadata": {},
   "outputs": [],
   "source": [
    "lpst_ind_Y = colStandardize(lp_ind_Y);\n",
    "lpst_ind_y = reshape(lpst_ind_Y[:, lp_id], :, 1);"
   ]
  },
  {
   "cell_type": "code",
   "execution_count": 139,
   "id": "fb383cb0-71d2-45ea-97ba-b5d685e69607",
   "metadata": {},
   "outputs": [
    {
     "name": "stdout",
     "output_type": "stream",
     "text": [
      "Loglik plot: \n"
     ]
    },
    {
     "data": {
      "image/svg+xml": [
       "<?xml version=\"1.0\" encoding=\"utf-8\"?>\n",
       "<svg xmlns=\"http://www.w3.org/2000/svg\" xmlns:xlink=\"http://www.w3.org/1999/xlink\" width=\"600\" height=\"400\" viewBox=\"0 0 2400 1600\">\n",
       "<defs>\n",
       "  <clipPath id=\"clip470\">\n",
       "    <rect x=\"0\" y=\"0\" width=\"2400\" height=\"1600\"/>\n",
       "  </clipPath>\n",
       "</defs>\n",
       "<path clip-path=\"url(#clip470)\" d=\"\n",
       "M0 1600 L2400 1600 L2400 0 L0 0  Z\n",
       "  \" fill=\"#ffffff\" fill-rule=\"evenodd\" fill-opacity=\"1\"/>\n",
       "<defs>\n",
       "  <clipPath id=\"clip471\">\n",
       "    <rect x=\"480\" y=\"0\" width=\"1681\" height=\"1600\"/>\n",
       "  </clipPath>\n",
       "</defs>\n",
       "<path clip-path=\"url(#clip470)\" d=\"\n",
       "M272.297 1423.18 L2352.76 1423.18 L2352.76 47.2441 L272.297 47.2441  Z\n",
       "  \" fill=\"#ffffff\" fill-rule=\"evenodd\" fill-opacity=\"1\"/>\n",
       "<defs>\n",
       "  <clipPath id=\"clip472\">\n",
       "    <rect x=\"272\" y=\"47\" width=\"2081\" height=\"1377\"/>\n",
       "  </clipPath>\n",
       "</defs>\n",
       "<polyline clip-path=\"url(#clip472)\" style=\"stroke:#000000; stroke-linecap:round; stroke-linejoin:round; stroke-width:2; stroke-opacity:0.1; fill:none\" points=\"\n",
       "  366.863,1423.18 366.863,47.2441 \n",
       "  \"/>\n",
       "<polyline clip-path=\"url(#clip472)\" style=\"stroke:#000000; stroke-linecap:round; stroke-linejoin:round; stroke-width:2; stroke-opacity:0.1; fill:none\" points=\"\n",
       "  839.695,1423.18 839.695,47.2441 \n",
       "  \"/>\n",
       "<polyline clip-path=\"url(#clip472)\" style=\"stroke:#000000; stroke-linecap:round; stroke-linejoin:round; stroke-width:2; stroke-opacity:0.1; fill:none\" points=\"\n",
       "  1312.53,1423.18 1312.53,47.2441 \n",
       "  \"/>\n",
       "<polyline clip-path=\"url(#clip472)\" style=\"stroke:#000000; stroke-linecap:round; stroke-linejoin:round; stroke-width:2; stroke-opacity:0.1; fill:none\" points=\"\n",
       "  1785.36,1423.18 1785.36,47.2441 \n",
       "  \"/>\n",
       "<polyline clip-path=\"url(#clip472)\" style=\"stroke:#000000; stroke-linecap:round; stroke-linejoin:round; stroke-width:2; stroke-opacity:0.1; fill:none\" points=\"\n",
       "  2258.19,1423.18 2258.19,47.2441 \n",
       "  \"/>\n",
       "<polyline clip-path=\"url(#clip470)\" style=\"stroke:#000000; stroke-linecap:round; stroke-linejoin:round; stroke-width:4; stroke-opacity:1; fill:none\" points=\"\n",
       "  272.297,1423.18 2352.76,1423.18 \n",
       "  \"/>\n",
       "<polyline clip-path=\"url(#clip470)\" style=\"stroke:#000000; stroke-linecap:round; stroke-linejoin:round; stroke-width:4; stroke-opacity:1; fill:none\" points=\"\n",
       "  366.863,1423.18 366.863,1404.28 \n",
       "  \"/>\n",
       "<polyline clip-path=\"url(#clip470)\" style=\"stroke:#000000; stroke-linecap:round; stroke-linejoin:round; stroke-width:4; stroke-opacity:1; fill:none\" points=\"\n",
       "  839.695,1423.18 839.695,1404.28 \n",
       "  \"/>\n",
       "<polyline clip-path=\"url(#clip470)\" style=\"stroke:#000000; stroke-linecap:round; stroke-linejoin:round; stroke-width:4; stroke-opacity:1; fill:none\" points=\"\n",
       "  1312.53,1423.18 1312.53,1404.28 \n",
       "  \"/>\n",
       "<polyline clip-path=\"url(#clip470)\" style=\"stroke:#000000; stroke-linecap:round; stroke-linejoin:round; stroke-width:4; stroke-opacity:1; fill:none\" points=\"\n",
       "  1785.36,1423.18 1785.36,1404.28 \n",
       "  \"/>\n",
       "<polyline clip-path=\"url(#clip470)\" style=\"stroke:#000000; stroke-linecap:round; stroke-linejoin:round; stroke-width:4; stroke-opacity:1; fill:none\" points=\"\n",
       "  2258.19,1423.18 2258.19,1404.28 \n",
       "  \"/>\n",
       "<path clip-path=\"url(#clip470)\" d=\"M329.166 1454.1 Q325.555 1454.1 323.727 1457.66 Q321.921 1461.2 321.921 1468.33 Q321.921 1475.44 323.727 1479.01 Q325.555 1482.55 329.166 1482.55 Q332.801 1482.55 334.606 1479.01 Q336.435 1475.44 336.435 1468.33 Q336.435 1461.2 334.606 1457.66 Q332.801 1454.1 329.166 1454.1 M329.166 1450.39 Q334.976 1450.39 338.032 1455 Q341.111 1459.58 341.111 1468.33 Q341.111 1477.06 338.032 1481.67 Q334.976 1486.25 329.166 1486.25 Q323.356 1486.25 320.277 1481.67 Q317.222 1477.06 317.222 1468.33 Q317.222 1459.58 320.277 1455 Q323.356 1450.39 329.166 1450.39 Z\" fill=\"#000000\" fill-rule=\"evenodd\" fill-opacity=\"1\" /><path clip-path=\"url(#clip470)\" d=\"M349.328 1479.7 L354.212 1479.7 L354.212 1485.58 L349.328 1485.58 L349.328 1479.7 Z\" fill=\"#000000\" fill-rule=\"evenodd\" fill-opacity=\"1\" /><path clip-path=\"url(#clip470)\" d=\"M374.398 1454.1 Q370.786 1454.1 368.958 1457.66 Q367.152 1461.2 367.152 1468.33 Q367.152 1475.44 368.958 1479.01 Q370.786 1482.55 374.398 1482.55 Q378.032 1482.55 379.837 1479.01 Q381.666 1475.44 381.666 1468.33 Q381.666 1461.2 379.837 1457.66 Q378.032 1454.1 374.398 1454.1 M374.398 1450.39 Q380.208 1450.39 383.263 1455 Q386.342 1459.58 386.342 1468.33 Q386.342 1477.06 383.263 1481.67 Q380.208 1486.25 374.398 1486.25 Q368.587 1486.25 365.509 1481.67 Q362.453 1477.06 362.453 1468.33 Q362.453 1459.58 365.509 1455 Q368.587 1450.39 374.398 1450.39 Z\" fill=\"#000000\" fill-rule=\"evenodd\" fill-opacity=\"1\" /><path clip-path=\"url(#clip470)\" d=\"M404.559 1454.1 Q400.948 1454.1 399.12 1457.66 Q397.314 1461.2 397.314 1468.33 Q397.314 1475.44 399.12 1479.01 Q400.948 1482.55 404.559 1482.55 Q408.194 1482.55 409.999 1479.01 Q411.828 1475.44 411.828 1468.33 Q411.828 1461.2 409.999 1457.66 Q408.194 1454.1 404.559 1454.1 M404.559 1450.39 Q410.37 1450.39 413.425 1455 Q416.504 1459.58 416.504 1468.33 Q416.504 1477.06 413.425 1481.67 Q410.37 1486.25 404.559 1486.25 Q398.749 1486.25 395.671 1481.67 Q392.615 1477.06 392.615 1468.33 Q392.615 1459.58 395.671 1455 Q398.749 1450.39 404.559 1450.39 Z\" fill=\"#000000\" fill-rule=\"evenodd\" fill-opacity=\"1\" /><path clip-path=\"url(#clip470)\" d=\"M802.496 1454.1 Q798.885 1454.1 797.056 1457.66 Q795.25 1461.2 795.25 1468.33 Q795.25 1475.44 797.056 1479.01 Q798.885 1482.55 802.496 1482.55 Q806.13 1482.55 807.935 1479.01 Q809.764 1475.44 809.764 1468.33 Q809.764 1461.2 807.935 1457.66 Q806.13 1454.1 802.496 1454.1 M802.496 1450.39 Q808.306 1450.39 811.361 1455 Q814.44 1459.58 814.44 1468.33 Q814.44 1477.06 811.361 1481.67 Q808.306 1486.25 802.496 1486.25 Q796.686 1486.25 793.607 1481.67 Q790.551 1477.06 790.551 1468.33 Q790.551 1459.58 793.607 1455 Q796.686 1450.39 802.496 1450.39 Z\" fill=\"#000000\" fill-rule=\"evenodd\" fill-opacity=\"1\" /><path clip-path=\"url(#clip470)\" d=\"M822.658 1479.7 L827.542 1479.7 L827.542 1485.58 L822.658 1485.58 L822.658 1479.7 Z\" fill=\"#000000\" fill-rule=\"evenodd\" fill-opacity=\"1\" /><path clip-path=\"url(#clip470)\" d=\"M841.755 1481.64 L858.074 1481.64 L858.074 1485.58 L836.13 1485.58 L836.13 1481.64 Q838.792 1478.89 843.375 1474.26 Q847.982 1469.61 849.162 1468.27 Q851.407 1465.74 852.287 1464.01 Q853.19 1462.25 853.19 1460.56 Q853.19 1457.8 851.245 1456.07 Q849.324 1454.33 846.222 1454.33 Q844.023 1454.33 841.57 1455.09 Q839.139 1455.86 836.361 1457.41 L836.361 1452.69 Q839.185 1451.55 841.639 1450.97 Q844.093 1450.39 846.13 1450.39 Q851.5 1450.39 854.694 1453.08 Q857.889 1455.77 857.889 1460.26 Q857.889 1462.39 857.079 1464.31 Q856.292 1466.2 854.185 1468.8 Q853.607 1469.47 850.505 1472.69 Q847.403 1475.88 841.755 1481.64 Z\" fill=\"#000000\" fill-rule=\"evenodd\" fill-opacity=\"1\" /><path clip-path=\"url(#clip470)\" d=\"M867.935 1451.02 L886.292 1451.02 L886.292 1454.96 L872.218 1454.96 L872.218 1463.43 Q873.236 1463.08 874.255 1462.92 Q875.273 1462.73 876.292 1462.73 Q882.079 1462.73 885.458 1465.9 Q888.838 1469.08 888.838 1474.49 Q888.838 1480.07 885.366 1483.17 Q881.893 1486.25 875.574 1486.25 Q873.398 1486.25 871.13 1485.88 Q868.884 1485.51 866.477 1484.77 L866.477 1480.07 Q868.56 1481.2 870.782 1481.76 Q873.005 1482.32 875.481 1482.32 Q879.486 1482.32 881.824 1480.21 Q884.162 1478.1 884.162 1474.49 Q884.162 1470.88 881.824 1468.77 Q879.486 1466.67 875.481 1466.67 Q873.606 1466.67 871.731 1467.08 Q869.88 1467.5 867.935 1468.38 L867.935 1451.02 Z\" fill=\"#000000\" fill-rule=\"evenodd\" fill-opacity=\"1\" /><path clip-path=\"url(#clip470)\" d=\"M1274.83 1454.1 Q1271.22 1454.1 1269.39 1457.66 Q1267.58 1461.2 1267.58 1468.33 Q1267.58 1475.44 1269.39 1479.01 Q1271.22 1482.55 1274.83 1482.55 Q1278.46 1482.55 1280.27 1479.01 Q1282.1 1475.44 1282.1 1468.33 Q1282.1 1461.2 1280.27 1457.66 Q1278.46 1454.1 1274.83 1454.1 M1274.83 1450.39 Q1280.64 1450.39 1283.7 1455 Q1286.77 1459.58 1286.77 1468.33 Q1286.77 1477.06 1283.7 1481.67 Q1280.64 1486.25 1274.83 1486.25 Q1269.02 1486.25 1265.94 1481.67 Q1262.89 1477.06 1262.89 1468.33 Q1262.89 1459.58 1265.94 1455 Q1269.02 1450.39 1274.83 1450.39 Z\" fill=\"#000000\" fill-rule=\"evenodd\" fill-opacity=\"1\" /><path clip-path=\"url(#clip470)\" d=\"M1294.99 1479.7 L1299.88 1479.7 L1299.88 1485.58 L1294.99 1485.58 L1294.99 1479.7 Z\" fill=\"#000000\" fill-rule=\"evenodd\" fill-opacity=\"1\" /><path clip-path=\"url(#clip470)\" d=\"M1310.11 1451.02 L1328.46 1451.02 L1328.46 1454.96 L1314.39 1454.96 L1314.39 1463.43 Q1315.41 1463.08 1316.43 1462.92 Q1317.45 1462.73 1318.46 1462.73 Q1324.25 1462.73 1327.63 1465.9 Q1331.01 1469.08 1331.01 1474.49 Q1331.01 1480.07 1327.54 1483.17 Q1324.07 1486.25 1317.75 1486.25 Q1315.57 1486.25 1313.3 1485.88 Q1311.06 1485.51 1308.65 1484.77 L1308.65 1480.07 Q1310.73 1481.2 1312.95 1481.76 Q1315.18 1482.32 1317.65 1482.32 Q1321.66 1482.32 1324 1480.21 Q1326.33 1478.1 1326.33 1474.49 Q1326.33 1470.88 1324 1468.77 Q1321.66 1466.67 1317.65 1466.67 Q1315.78 1466.67 1313.9 1467.08 Q1312.05 1467.5 1310.11 1468.38 L1310.11 1451.02 Z\" fill=\"#000000\" fill-rule=\"evenodd\" fill-opacity=\"1\" /><path clip-path=\"url(#clip470)\" d=\"M1350.22 1454.1 Q1346.61 1454.1 1344.78 1457.66 Q1342.98 1461.2 1342.98 1468.33 Q1342.98 1475.44 1344.78 1479.01 Q1346.61 1482.55 1350.22 1482.55 Q1353.86 1482.55 1355.66 1479.01 Q1357.49 1475.44 1357.49 1468.33 Q1357.49 1461.2 1355.66 1457.66 Q1353.86 1454.1 1350.22 1454.1 M1350.22 1450.39 Q1356.03 1450.39 1359.09 1455 Q1362.17 1459.58 1362.17 1468.33 Q1362.17 1477.06 1359.09 1481.67 Q1356.03 1486.25 1350.22 1486.25 Q1344.41 1486.25 1341.33 1481.67 Q1338.28 1477.06 1338.28 1468.33 Q1338.28 1459.58 1341.33 1455 Q1344.41 1450.39 1350.22 1450.39 Z\" fill=\"#000000\" fill-rule=\"evenodd\" fill-opacity=\"1\" /><path clip-path=\"url(#clip470)\" d=\"M1748.16 1454.1 Q1744.55 1454.1 1742.72 1457.66 Q1740.91 1461.2 1740.91 1468.33 Q1740.91 1475.44 1742.72 1479.01 Q1744.55 1482.55 1748.16 1482.55 Q1751.79 1482.55 1753.6 1479.01 Q1755.43 1475.44 1755.43 1468.33 Q1755.43 1461.2 1753.6 1457.66 Q1751.79 1454.1 1748.16 1454.1 M1748.16 1450.39 Q1753.97 1450.39 1757.02 1455 Q1760.1 1459.58 1760.1 1468.33 Q1760.1 1477.06 1757.02 1481.67 Q1753.97 1486.25 1748.16 1486.25 Q1742.35 1486.25 1739.27 1481.67 Q1736.21 1477.06 1736.21 1468.33 Q1736.21 1459.58 1739.27 1455 Q1742.35 1450.39 1748.16 1450.39 Z\" fill=\"#000000\" fill-rule=\"evenodd\" fill-opacity=\"1\" /><path clip-path=\"url(#clip470)\" d=\"M1768.32 1479.7 L1773.21 1479.7 L1773.21 1485.58 L1768.32 1485.58 L1768.32 1479.7 Z\" fill=\"#000000\" fill-rule=\"evenodd\" fill-opacity=\"1\" /><path clip-path=\"url(#clip470)\" d=\"M1782.21 1451.02 L1804.43 1451.02 L1804.43 1453.01 L1791.89 1485.58 L1787 1485.58 L1798.81 1454.96 L1782.21 1454.96 L1782.21 1451.02 Z\" fill=\"#000000\" fill-rule=\"evenodd\" fill-opacity=\"1\" /><path clip-path=\"url(#clip470)\" d=\"M1813.6 1451.02 L1831.95 1451.02 L1831.95 1454.96 L1817.88 1454.96 L1817.88 1463.43 Q1818.9 1463.08 1819.92 1462.92 Q1820.94 1462.73 1821.95 1462.73 Q1827.74 1462.73 1831.12 1465.9 Q1834.5 1469.08 1834.5 1474.49 Q1834.5 1480.07 1831.03 1483.17 Q1827.56 1486.25 1821.24 1486.25 Q1819.06 1486.25 1816.79 1485.88 Q1814.55 1485.51 1812.14 1484.77 L1812.14 1480.07 Q1814.22 1481.2 1816.45 1481.76 Q1818.67 1482.32 1821.14 1482.32 Q1825.15 1482.32 1827.49 1480.21 Q1829.83 1478.1 1829.83 1474.49 Q1829.83 1470.88 1827.49 1468.77 Q1825.15 1466.67 1821.14 1466.67 Q1819.27 1466.67 1817.39 1467.08 Q1815.54 1467.5 1813.6 1468.38 L1813.6 1451.02 Z\" fill=\"#000000\" fill-rule=\"evenodd\" fill-opacity=\"1\" /><path clip-path=\"url(#clip470)\" d=\"M2210.26 1481.64 L2217.9 1481.64 L2217.9 1455.28 L2209.59 1456.95 L2209.59 1452.69 L2217.85 1451.02 L2222.53 1451.02 L2222.53 1481.64 L2230.17 1481.64 L2230.17 1485.58 L2210.26 1485.58 L2210.26 1481.64 Z\" fill=\"#000000\" fill-rule=\"evenodd\" fill-opacity=\"1\" /><path clip-path=\"url(#clip470)\" d=\"M2239.61 1479.7 L2244.5 1479.7 L2244.5 1485.58 L2239.61 1485.58 L2239.61 1479.7 Z\" fill=\"#000000\" fill-rule=\"evenodd\" fill-opacity=\"1\" /><path clip-path=\"url(#clip470)\" d=\"M2264.68 1454.1 Q2261.07 1454.1 2259.24 1457.66 Q2257.44 1461.2 2257.44 1468.33 Q2257.44 1475.44 2259.24 1479.01 Q2261.07 1482.55 2264.68 1482.55 Q2268.32 1482.55 2270.12 1479.01 Q2271.95 1475.44 2271.95 1468.33 Q2271.95 1461.2 2270.12 1457.66 Q2268.32 1454.1 2264.68 1454.1 M2264.68 1450.39 Q2270.49 1450.39 2273.55 1455 Q2276.63 1459.58 2276.63 1468.33 Q2276.63 1477.06 2273.55 1481.67 Q2270.49 1486.25 2264.68 1486.25 Q2258.87 1486.25 2255.79 1481.67 Q2252.74 1477.06 2252.74 1468.33 Q2252.74 1459.58 2255.79 1455 Q2258.87 1450.39 2264.68 1450.39 Z\" fill=\"#000000\" fill-rule=\"evenodd\" fill-opacity=\"1\" /><path clip-path=\"url(#clip470)\" d=\"M2294.84 1454.1 Q2291.23 1454.1 2289.4 1457.66 Q2287.6 1461.2 2287.6 1468.33 Q2287.6 1475.44 2289.4 1479.01 Q2291.23 1482.55 2294.84 1482.55 Q2298.48 1482.55 2300.28 1479.01 Q2302.11 1475.44 2302.11 1468.33 Q2302.11 1461.2 2300.28 1457.66 Q2298.48 1454.1 2294.84 1454.1 M2294.84 1450.39 Q2300.65 1450.39 2303.71 1455 Q2306.79 1459.58 2306.79 1468.33 Q2306.79 1477.06 2303.71 1481.67 Q2300.65 1486.25 2294.84 1486.25 Q2289.03 1486.25 2285.96 1481.67 Q2282.9 1477.06 2282.9 1468.33 Q2282.9 1459.58 2285.96 1455 Q2289.03 1450.39 2294.84 1450.39 Z\" fill=\"#000000\" fill-rule=\"evenodd\" fill-opacity=\"1\" /><path clip-path=\"url(#clip470)\" d=\"M1307.21 1546.53 L1307.21 1568.04 L1301.35 1568.04 L1301.35 1546.72 Q1301.35 1541.66 1299.38 1539.14 Q1297.41 1536.63 1293.46 1536.63 Q1288.72 1536.63 1285.98 1539.65 Q1283.24 1542.68 1283.24 1547.9 L1283.24 1568.04 L1277.36 1568.04 L1277.36 1518.52 L1283.24 1518.52 L1283.24 1537.93 Q1285.34 1534.72 1288.18 1533.13 Q1291.04 1531.54 1294.77 1531.54 Q1300.91 1531.54 1304.06 1535.36 Q1307.21 1539.14 1307.21 1546.53 Z\" fill=\"#000000\" fill-rule=\"evenodd\" fill-opacity=\"1\" /><path clip-path=\"url(#clip470)\" d=\"M1325.26 1562.63 L1347.7 1562.63 L1347.7 1568.04 L1317.52 1568.04 L1317.52 1562.63 Q1321.18 1558.85 1327.49 1552.48 Q1333.82 1546.08 1335.44 1544.24 Q1338.53 1540.77 1339.74 1538.38 Q1340.98 1535.96 1340.98 1533.64 Q1340.98 1529.85 1338.31 1527.46 Q1335.67 1525.08 1331.4 1525.08 Q1328.38 1525.08 1325 1526.13 Q1321.66 1527.18 1317.84 1529.31 L1317.84 1522.82 Q1321.72 1521.26 1325.1 1520.46 Q1328.47 1519.66 1331.27 1519.66 Q1338.66 1519.66 1343.05 1523.36 Q1347.44 1527.05 1347.44 1533.22 Q1347.44 1536.15 1346.33 1538.79 Q1345.25 1541.4 1342.35 1544.97 Q1341.55 1545.89 1337.29 1550.32 Q1333.02 1554.71 1325.26 1562.63 Z\" fill=\"#000000\" fill-rule=\"evenodd\" fill-opacity=\"1\" /><polyline clip-path=\"url(#clip472)\" style=\"stroke:#000000; stroke-linecap:round; stroke-linejoin:round; stroke-width:2; stroke-opacity:0.1; fill:none\" points=\"\n",
       "  272.297,1289.67 2352.76,1289.67 \n",
       "  \"/>\n",
       "<polyline clip-path=\"url(#clip472)\" style=\"stroke:#000000; stroke-linecap:round; stroke-linejoin:round; stroke-width:2; stroke-opacity:0.1; fill:none\" points=\"\n",
       "  272.297,1112.24 2352.76,1112.24 \n",
       "  \"/>\n",
       "<polyline clip-path=\"url(#clip472)\" style=\"stroke:#000000; stroke-linecap:round; stroke-linejoin:round; stroke-width:2; stroke-opacity:0.1; fill:none\" points=\"\n",
       "  272.297,934.816 2352.76,934.816 \n",
       "  \"/>\n",
       "<polyline clip-path=\"url(#clip472)\" style=\"stroke:#000000; stroke-linecap:round; stroke-linejoin:round; stroke-width:2; stroke-opacity:0.1; fill:none\" points=\"\n",
       "  272.297,757.39 2352.76,757.39 \n",
       "  \"/>\n",
       "<polyline clip-path=\"url(#clip472)\" style=\"stroke:#000000; stroke-linecap:round; stroke-linejoin:round; stroke-width:2; stroke-opacity:0.1; fill:none\" points=\"\n",
       "  272.297,579.965 2352.76,579.965 \n",
       "  \"/>\n",
       "<polyline clip-path=\"url(#clip472)\" style=\"stroke:#000000; stroke-linecap:round; stroke-linejoin:round; stroke-width:2; stroke-opacity:0.1; fill:none\" points=\"\n",
       "  272.297,402.539 2352.76,402.539 \n",
       "  \"/>\n",
       "<polyline clip-path=\"url(#clip472)\" style=\"stroke:#000000; stroke-linecap:round; stroke-linejoin:round; stroke-width:2; stroke-opacity:0.1; fill:none\" points=\"\n",
       "  272.297,225.113 2352.76,225.113 \n",
       "  \"/>\n",
       "<polyline clip-path=\"url(#clip472)\" style=\"stroke:#000000; stroke-linecap:round; stroke-linejoin:round; stroke-width:2; stroke-opacity:0.1; fill:none\" points=\"\n",
       "  272.297,47.6877 2352.76,47.6877 \n",
       "  \"/>\n",
       "<polyline clip-path=\"url(#clip470)\" style=\"stroke:#000000; stroke-linecap:round; stroke-linejoin:round; stroke-width:4; stroke-opacity:1; fill:none\" points=\"\n",
       "  272.297,1423.18 272.297,47.2441 \n",
       "  \"/>\n",
       "<polyline clip-path=\"url(#clip470)\" style=\"stroke:#000000; stroke-linecap:round; stroke-linejoin:round; stroke-width:4; stroke-opacity:1; fill:none\" points=\"\n",
       "  272.297,1289.67 291.194,1289.67 \n",
       "  \"/>\n",
       "<polyline clip-path=\"url(#clip470)\" style=\"stroke:#000000; stroke-linecap:round; stroke-linejoin:round; stroke-width:4; stroke-opacity:1; fill:none\" points=\"\n",
       "  272.297,1112.24 291.194,1112.24 \n",
       "  \"/>\n",
       "<polyline clip-path=\"url(#clip470)\" style=\"stroke:#000000; stroke-linecap:round; stroke-linejoin:round; stroke-width:4; stroke-opacity:1; fill:none\" points=\"\n",
       "  272.297,934.816 291.194,934.816 \n",
       "  \"/>\n",
       "<polyline clip-path=\"url(#clip470)\" style=\"stroke:#000000; stroke-linecap:round; stroke-linejoin:round; stroke-width:4; stroke-opacity:1; fill:none\" points=\"\n",
       "  272.297,757.39 291.194,757.39 \n",
       "  \"/>\n",
       "<polyline clip-path=\"url(#clip470)\" style=\"stroke:#000000; stroke-linecap:round; stroke-linejoin:round; stroke-width:4; stroke-opacity:1; fill:none\" points=\"\n",
       "  272.297,579.965 291.194,579.965 \n",
       "  \"/>\n",
       "<polyline clip-path=\"url(#clip470)\" style=\"stroke:#000000; stroke-linecap:round; stroke-linejoin:round; stroke-width:4; stroke-opacity:1; fill:none\" points=\"\n",
       "  272.297,402.539 291.194,402.539 \n",
       "  \"/>\n",
       "<polyline clip-path=\"url(#clip470)\" style=\"stroke:#000000; stroke-linecap:round; stroke-linejoin:round; stroke-width:4; stroke-opacity:1; fill:none\" points=\"\n",
       "  272.297,225.113 291.194,225.113 \n",
       "  \"/>\n",
       "<polyline clip-path=\"url(#clip470)\" style=\"stroke:#000000; stroke-linecap:round; stroke-linejoin:round; stroke-width:4; stroke-opacity:1; fill:none\" points=\"\n",
       "  272.297,47.6877 291.194,47.6877 \n",
       "  \"/>\n",
       "<path clip-path=\"url(#clip470)\" d=\"M114.26 1290.12 L143.936 1290.12 L143.936 1294.05 L114.26 1294.05 L114.26 1290.12 Z\" fill=\"#000000\" fill-rule=\"evenodd\" fill-opacity=\"1\" /><path clip-path=\"url(#clip470)\" d=\"M158.056 1303.01 L174.376 1303.01 L174.376 1306.95 L152.431 1306.95 L152.431 1303.01 Q155.093 1300.26 159.677 1295.63 Q164.283 1290.97 165.464 1289.63 Q167.709 1287.11 168.589 1285.37 Q169.491 1283.61 169.491 1281.92 Q169.491 1279.17 167.547 1277.43 Q165.626 1275.7 162.524 1275.7 Q160.325 1275.7 157.871 1276.46 Q155.44 1277.22 152.663 1278.78 L152.663 1274.05 Q155.487 1272.92 157.94 1272.34 Q160.394 1271.76 162.431 1271.76 Q167.802 1271.76 170.996 1274.45 Q174.19 1277.13 174.19 1281.62 Q174.19 1283.75 173.38 1285.67 Q172.593 1287.57 170.487 1290.16 Q169.908 1290.84 166.806 1294.05 Q163.704 1297.25 158.056 1303.01 Z\" fill=\"#000000\" fill-rule=\"evenodd\" fill-opacity=\"1\" /><path clip-path=\"url(#clip470)\" d=\"M194.769 1287.8 Q191.621 1287.8 189.769 1289.96 Q187.94 1292.11 187.94 1295.86 Q187.94 1299.59 189.769 1301.76 Q191.621 1303.91 194.769 1303.91 Q197.917 1303.91 199.746 1301.76 Q201.598 1299.59 201.598 1295.86 Q201.598 1292.11 199.746 1289.96 Q197.917 1287.8 194.769 1287.8 M204.051 1273.15 L204.051 1277.41 Q202.292 1276.58 200.487 1276.14 Q198.704 1275.7 196.945 1275.7 Q192.315 1275.7 189.862 1278.82 Q187.431 1281.95 187.084 1288.27 Q188.45 1286.25 190.51 1285.19 Q192.57 1284.1 195.047 1284.1 Q200.255 1284.1 203.264 1287.27 Q206.297 1290.42 206.297 1295.86 Q206.297 1301.18 203.149 1304.4 Q200 1307.62 194.769 1307.62 Q188.774 1307.62 185.602 1303.04 Q182.431 1298.43 182.431 1289.7 Q182.431 1281.51 186.32 1276.65 Q190.209 1271.76 196.76 1271.76 Q198.519 1271.76 200.301 1272.11 Q202.107 1272.46 204.051 1273.15 Z\" fill=\"#000000\" fill-rule=\"evenodd\" fill-opacity=\"1\" /><path clip-path=\"url(#clip470)\" d=\"M224.352 1275.47 Q220.741 1275.47 218.912 1279.03 Q217.107 1282.57 217.107 1289.7 Q217.107 1296.81 218.912 1300.37 Q220.741 1303.91 224.352 1303.91 Q227.986 1303.91 229.792 1300.37 Q231.621 1296.81 231.621 1289.7 Q231.621 1282.57 229.792 1279.03 Q227.986 1275.47 224.352 1275.47 M224.352 1271.76 Q230.162 1271.76 233.218 1276.37 Q236.297 1280.95 236.297 1289.7 Q236.297 1298.43 233.218 1303.04 Q230.162 1307.62 224.352 1307.62 Q218.542 1307.62 215.463 1303.04 Q212.408 1298.43 212.408 1289.7 Q212.408 1280.95 215.463 1276.37 Q218.542 1271.76 224.352 1271.76 Z\" fill=\"#000000\" fill-rule=\"evenodd\" fill-opacity=\"1\" /><path clip-path=\"url(#clip470)\" d=\"M114.26 1112.69 L143.936 1112.69 L143.936 1116.63 L114.26 1116.63 L114.26 1112.69 Z\" fill=\"#000000\" fill-rule=\"evenodd\" fill-opacity=\"1\" /><path clip-path=\"url(#clip470)\" d=\"M158.056 1125.59 L174.376 1125.59 L174.376 1129.52 L152.431 1129.52 L152.431 1125.59 Q155.093 1122.83 159.677 1118.2 Q164.283 1113.55 165.464 1112.21 Q167.709 1109.68 168.589 1107.95 Q169.491 1106.19 169.491 1104.5 Q169.491 1101.74 167.547 1100.01 Q165.626 1098.27 162.524 1098.27 Q160.325 1098.27 157.871 1099.04 Q155.44 1099.8 152.663 1101.35 L152.663 1096.63 Q155.487 1095.49 157.94 1094.92 Q160.394 1094.34 162.431 1094.34 Q167.802 1094.34 170.996 1097.02 Q174.19 1099.71 174.19 1104.2 Q174.19 1106.33 173.38 1108.25 Q172.593 1110.15 170.487 1112.74 Q169.908 1113.41 166.806 1116.63 Q163.704 1119.82 158.056 1125.59 Z\" fill=\"#000000\" fill-rule=\"evenodd\" fill-opacity=\"1\" /><path clip-path=\"url(#clip470)\" d=\"M197.037 1099.04 L185.232 1117.48 L197.037 1117.48 L197.037 1099.04 M195.811 1094.96 L201.69 1094.96 L201.69 1117.48 L206.621 1117.48 L206.621 1121.37 L201.69 1121.37 L201.69 1129.52 L197.037 1129.52 L197.037 1121.37 L181.436 1121.37 L181.436 1116.86 L195.811 1094.96 Z\" fill=\"#000000\" fill-rule=\"evenodd\" fill-opacity=\"1\" /><path clip-path=\"url(#clip470)\" d=\"M224.352 1098.04 Q220.741 1098.04 218.912 1101.6 Q217.107 1105.15 217.107 1112.28 Q217.107 1119.38 218.912 1122.95 Q220.741 1126.49 224.352 1126.49 Q227.986 1126.49 229.792 1122.95 Q231.621 1119.38 231.621 1112.28 Q231.621 1105.15 229.792 1101.6 Q227.986 1098.04 224.352 1098.04 M224.352 1094.34 Q230.162 1094.34 233.218 1098.94 Q236.297 1103.53 236.297 1112.28 Q236.297 1121 233.218 1125.61 Q230.162 1130.19 224.352 1130.19 Q218.542 1130.19 215.463 1125.61 Q212.408 1121 212.408 1112.28 Q212.408 1103.53 215.463 1098.94 Q218.542 1094.34 224.352 1094.34 Z\" fill=\"#000000\" fill-rule=\"evenodd\" fill-opacity=\"1\" /><path clip-path=\"url(#clip470)\" d=\"M114.26 935.267 L143.936 935.267 L143.936 939.202 L114.26 939.202 L114.26 935.267 Z\" fill=\"#000000\" fill-rule=\"evenodd\" fill-opacity=\"1\" /><path clip-path=\"url(#clip470)\" d=\"M158.056 948.161 L174.376 948.161 L174.376 952.096 L152.431 952.096 L152.431 948.161 Q155.093 945.406 159.677 940.776 Q164.283 936.124 165.464 934.781 Q167.709 932.258 168.589 930.522 Q169.491 928.763 169.491 927.073 Q169.491 924.318 167.547 922.582 Q165.626 920.846 162.524 920.846 Q160.325 920.846 157.871 921.61 Q155.44 922.374 152.663 923.925 L152.663 919.202 Q155.487 918.068 157.94 917.49 Q160.394 916.911 162.431 916.911 Q167.802 916.911 170.996 919.596 Q174.19 922.281 174.19 926.772 Q174.19 928.901 173.38 930.823 Q172.593 932.721 170.487 935.313 Q169.908 935.985 166.806 939.202 Q163.704 942.397 158.056 948.161 Z\" fill=\"#000000\" fill-rule=\"evenodd\" fill-opacity=\"1\" /><path clip-path=\"url(#clip470)\" d=\"M188.218 948.161 L204.537 948.161 L204.537 952.096 L182.593 952.096 L182.593 948.161 Q185.255 945.406 189.838 940.776 Q194.445 936.124 195.625 934.781 Q197.871 932.258 198.75 930.522 Q199.653 928.763 199.653 927.073 Q199.653 924.318 197.709 922.582 Q195.787 920.846 192.686 920.846 Q190.487 920.846 188.033 921.61 Q185.602 922.374 182.825 923.925 L182.825 919.202 Q185.649 918.068 188.102 917.49 Q190.556 916.911 192.593 916.911 Q197.963 916.911 201.158 919.596 Q204.352 922.281 204.352 926.772 Q204.352 928.901 203.542 930.823 Q202.755 932.721 200.649 935.313 Q200.07 935.985 196.968 939.202 Q193.866 942.397 188.218 948.161 Z\" fill=\"#000000\" fill-rule=\"evenodd\" fill-opacity=\"1\" /><path clip-path=\"url(#clip470)\" d=\"M224.352 920.614 Q220.741 920.614 218.912 924.179 Q217.107 927.721 217.107 934.851 Q217.107 941.957 218.912 945.522 Q220.741 949.063 224.352 949.063 Q227.986 949.063 229.792 945.522 Q231.621 941.957 231.621 934.851 Q231.621 927.721 229.792 924.179 Q227.986 920.614 224.352 920.614 M224.352 916.911 Q230.162 916.911 233.218 921.517 Q236.297 926.101 236.297 934.851 Q236.297 943.577 233.218 948.184 Q230.162 952.767 224.352 952.767 Q218.542 952.767 215.463 948.184 Q212.408 943.577 212.408 934.851 Q212.408 926.101 215.463 921.517 Q218.542 916.911 224.352 916.911 Z\" fill=\"#000000\" fill-rule=\"evenodd\" fill-opacity=\"1\" /><path clip-path=\"url(#clip470)\" d=\"M114.26 757.842 L143.936 757.842 L143.936 761.777 L114.26 761.777 L114.26 757.842 Z\" fill=\"#000000\" fill-rule=\"evenodd\" fill-opacity=\"1\" /><path clip-path=\"url(#clip470)\" d=\"M158.056 770.735 L174.376 770.735 L174.376 774.67 L152.431 774.67 L152.431 770.735 Q155.093 767.98 159.677 763.351 Q164.283 758.698 165.464 757.355 Q167.709 754.832 168.589 753.096 Q169.491 751.337 169.491 749.647 Q169.491 746.893 167.547 745.156 Q165.626 743.42 162.524 743.42 Q160.325 743.42 157.871 744.184 Q155.44 744.948 152.663 746.499 L152.663 741.777 Q155.487 740.643 157.94 740.064 Q160.394 739.485 162.431 739.485 Q167.802 739.485 170.996 742.17 Q174.19 744.856 174.19 749.346 Q174.19 751.476 173.38 753.397 Q172.593 755.295 170.487 757.888 Q169.908 758.559 166.806 761.777 Q163.704 764.971 158.056 770.735 Z\" fill=\"#000000\" fill-rule=\"evenodd\" fill-opacity=\"1\" /><path clip-path=\"url(#clip470)\" d=\"M194.19 743.189 Q190.579 743.189 188.75 746.754 Q186.945 750.295 186.945 757.425 Q186.945 764.531 188.75 768.096 Q190.579 771.638 194.19 771.638 Q197.825 771.638 199.63 768.096 Q201.459 764.531 201.459 757.425 Q201.459 750.295 199.63 746.754 Q197.825 743.189 194.19 743.189 M194.19 739.485 Q200 739.485 203.056 744.092 Q206.135 748.675 206.135 757.425 Q206.135 766.152 203.056 770.758 Q200 775.341 194.19 775.341 Q188.38 775.341 185.301 770.758 Q182.246 766.152 182.246 757.425 Q182.246 748.675 185.301 744.092 Q188.38 739.485 194.19 739.485 Z\" fill=\"#000000\" fill-rule=\"evenodd\" fill-opacity=\"1\" /><path clip-path=\"url(#clip470)\" d=\"M224.352 743.189 Q220.741 743.189 218.912 746.754 Q217.107 750.295 217.107 757.425 Q217.107 764.531 218.912 768.096 Q220.741 771.638 224.352 771.638 Q227.986 771.638 229.792 768.096 Q231.621 764.531 231.621 757.425 Q231.621 750.295 229.792 746.754 Q227.986 743.189 224.352 743.189 M224.352 739.485 Q230.162 739.485 233.218 744.092 Q236.297 748.675 236.297 757.425 Q236.297 766.152 233.218 770.758 Q230.162 775.341 224.352 775.341 Q218.542 775.341 215.463 770.758 Q212.408 766.152 212.408 757.425 Q212.408 748.675 215.463 744.092 Q218.542 739.485 224.352 739.485 Z\" fill=\"#000000\" fill-rule=\"evenodd\" fill-opacity=\"1\" /><path clip-path=\"url(#clip470)\" d=\"M114.26 580.416 L143.936 580.416 L143.936 584.351 L114.26 584.351 L114.26 580.416 Z\" fill=\"#000000\" fill-rule=\"evenodd\" fill-opacity=\"1\" /><path clip-path=\"url(#clip470)\" d=\"M154.839 593.309 L162.477 593.309 L162.477 566.944 L154.167 568.61 L154.167 564.351 L162.431 562.685 L167.107 562.685 L167.107 593.309 L174.746 593.309 L174.746 597.245 L154.839 597.245 L154.839 593.309 Z\" fill=\"#000000\" fill-rule=\"evenodd\" fill-opacity=\"1\" /><path clip-path=\"url(#clip470)\" d=\"M194.19 580.833 Q190.857 580.833 188.936 582.615 Q187.038 584.397 187.038 587.522 Q187.038 590.647 188.936 592.43 Q190.857 594.212 194.19 594.212 Q197.524 594.212 199.445 592.43 Q201.366 590.624 201.366 587.522 Q201.366 584.397 199.445 582.615 Q197.547 580.833 194.19 580.833 M189.514 578.842 Q186.505 578.101 184.815 576.041 Q183.149 573.981 183.149 571.018 Q183.149 566.874 186.088 564.467 Q189.051 562.06 194.19 562.06 Q199.352 562.06 202.292 564.467 Q205.232 566.874 205.232 571.018 Q205.232 573.981 203.542 576.041 Q201.875 578.101 198.889 578.842 Q202.269 579.629 204.144 581.921 Q206.042 584.212 206.042 587.522 Q206.042 592.545 202.963 595.231 Q199.908 597.916 194.19 597.916 Q188.473 597.916 185.394 595.231 Q182.338 592.545 182.338 587.522 Q182.338 584.212 184.237 581.921 Q186.135 579.629 189.514 578.842 M187.801 571.458 Q187.801 574.143 189.468 575.647 Q191.158 577.152 194.19 577.152 Q197.2 577.152 198.889 575.647 Q200.602 574.143 200.602 571.458 Q200.602 568.772 198.889 567.268 Q197.2 565.763 194.19 565.763 Q191.158 565.763 189.468 567.268 Q187.801 568.772 187.801 571.458 Z\" fill=\"#000000\" fill-rule=\"evenodd\" fill-opacity=\"1\" /><path clip-path=\"url(#clip470)\" d=\"M224.352 565.763 Q220.741 565.763 218.912 569.328 Q217.107 572.87 217.107 579.999 Q217.107 587.106 218.912 590.671 Q220.741 594.212 224.352 594.212 Q227.986 594.212 229.792 590.671 Q231.621 587.106 231.621 579.999 Q231.621 572.87 229.792 569.328 Q227.986 565.763 224.352 565.763 M224.352 562.06 Q230.162 562.06 233.218 566.666 Q236.297 571.249 236.297 579.999 Q236.297 588.726 233.218 593.333 Q230.162 597.916 224.352 597.916 Q218.542 597.916 215.463 593.333 Q212.408 588.726 212.408 579.999 Q212.408 571.249 215.463 566.666 Q218.542 562.06 224.352 562.06 Z\" fill=\"#000000\" fill-rule=\"evenodd\" fill-opacity=\"1\" /><path clip-path=\"url(#clip470)\" d=\"M114.26 402.99 L143.936 402.99 L143.936 406.925 L114.26 406.925 L114.26 402.99 Z\" fill=\"#000000\" fill-rule=\"evenodd\" fill-opacity=\"1\" /><path clip-path=\"url(#clip470)\" d=\"M154.839 415.884 L162.477 415.884 L162.477 389.518 L154.167 391.185 L154.167 386.926 L162.431 385.259 L167.107 385.259 L167.107 415.884 L174.746 415.884 L174.746 419.819 L154.839 419.819 L154.839 415.884 Z\" fill=\"#000000\" fill-rule=\"evenodd\" fill-opacity=\"1\" /><path clip-path=\"url(#clip470)\" d=\"M194.769 400.675 Q191.621 400.675 189.769 402.828 Q187.94 404.981 187.94 408.731 Q187.94 412.458 189.769 414.634 Q191.621 416.787 194.769 416.787 Q197.917 416.787 199.746 414.634 Q201.598 412.458 201.598 408.731 Q201.598 404.981 199.746 402.828 Q197.917 400.675 194.769 400.675 M204.051 386.023 L204.051 390.282 Q202.292 389.449 200.487 389.009 Q198.704 388.569 196.945 388.569 Q192.315 388.569 189.862 391.694 Q187.431 394.819 187.084 401.138 Q188.45 399.125 190.51 398.06 Q192.57 396.972 195.047 396.972 Q200.255 396.972 203.264 400.143 Q206.297 403.291 206.297 408.731 Q206.297 414.055 203.149 417.273 Q200 420.49 194.769 420.49 Q188.774 420.49 185.602 415.907 Q182.431 411.3 182.431 402.574 Q182.431 394.379 186.32 389.518 Q190.209 384.634 196.76 384.634 Q198.519 384.634 200.301 384.981 Q202.107 385.328 204.051 386.023 Z\" fill=\"#000000\" fill-rule=\"evenodd\" fill-opacity=\"1\" /><path clip-path=\"url(#clip470)\" d=\"M224.352 388.338 Q220.741 388.338 218.912 391.902 Q217.107 395.444 217.107 402.574 Q217.107 409.68 218.912 413.245 Q220.741 416.787 224.352 416.787 Q227.986 416.787 229.792 413.245 Q231.621 409.68 231.621 402.574 Q231.621 395.444 229.792 391.902 Q227.986 388.338 224.352 388.338 M224.352 384.634 Q230.162 384.634 233.218 389.24 Q236.297 393.824 236.297 402.574 Q236.297 411.3 233.218 415.907 Q230.162 420.49 224.352 420.49 Q218.542 420.49 215.463 415.907 Q212.408 411.3 212.408 402.574 Q212.408 393.824 215.463 389.24 Q218.542 384.634 224.352 384.634 Z\" fill=\"#000000\" fill-rule=\"evenodd\" fill-opacity=\"1\" /><path clip-path=\"url(#clip470)\" d=\"M114.26 225.565 L143.936 225.565 L143.936 229.5 L114.26 229.5 L114.26 225.565 Z\" fill=\"#000000\" fill-rule=\"evenodd\" fill-opacity=\"1\" /><path clip-path=\"url(#clip470)\" d=\"M154.839 238.458 L162.477 238.458 L162.477 212.093 L154.167 213.759 L154.167 209.5 L162.431 207.833 L167.107 207.833 L167.107 238.458 L174.746 238.458 L174.746 242.393 L154.839 242.393 L154.839 238.458 Z\" fill=\"#000000\" fill-rule=\"evenodd\" fill-opacity=\"1\" /><path clip-path=\"url(#clip470)\" d=\"M197.037 211.907 L185.232 230.356 L197.037 230.356 L197.037 211.907 M195.811 207.833 L201.69 207.833 L201.69 230.356 L206.621 230.356 L206.621 234.245 L201.69 234.245 L201.69 242.393 L197.037 242.393 L197.037 234.245 L181.436 234.245 L181.436 229.731 L195.811 207.833 Z\" fill=\"#000000\" fill-rule=\"evenodd\" fill-opacity=\"1\" /><path clip-path=\"url(#clip470)\" d=\"M224.352 210.912 Q220.741 210.912 218.912 214.477 Q217.107 218.018 217.107 225.148 Q217.107 232.254 218.912 235.819 Q220.741 239.361 224.352 239.361 Q227.986 239.361 229.792 235.819 Q231.621 232.254 231.621 225.148 Q231.621 218.018 229.792 214.477 Q227.986 210.912 224.352 210.912 M224.352 207.208 Q230.162 207.208 233.218 211.815 Q236.297 216.398 236.297 225.148 Q236.297 233.875 233.218 238.481 Q230.162 243.065 224.352 243.065 Q218.542 243.065 215.463 238.481 Q212.408 233.875 212.408 225.148 Q212.408 216.398 215.463 211.815 Q218.542 207.208 224.352 207.208 Z\" fill=\"#000000\" fill-rule=\"evenodd\" fill-opacity=\"1\" /><path clip-path=\"url(#clip470)\" d=\"M114.26 48.139 L143.936 48.139 L143.936 52.0742 L114.26 52.0742 L114.26 48.139 Z\" fill=\"#000000\" fill-rule=\"evenodd\" fill-opacity=\"1\" /><path clip-path=\"url(#clip470)\" d=\"M154.839 61.0325 L162.477 61.0325 L162.477 34.6669 L154.167 36.3336 L154.167 32.0743 L162.431 30.4077 L167.107 30.4077 L167.107 61.0325 L174.746 61.0325 L174.746 64.9677 L154.839 64.9677 L154.839 61.0325 Z\" fill=\"#000000\" fill-rule=\"evenodd\" fill-opacity=\"1\" /><path clip-path=\"url(#clip470)\" d=\"M188.218 61.0325 L204.537 61.0325 L204.537 64.9677 L182.593 64.9677 L182.593 61.0325 Q185.255 58.2779 189.838 53.6483 Q194.445 48.9955 195.625 47.6529 Q197.871 45.1298 198.75 43.3937 Q199.653 41.6345 199.653 39.9446 Q199.653 37.19 197.709 35.4539 Q195.787 33.7178 192.686 33.7178 Q190.487 33.7178 188.033 34.4817 Q185.602 35.2456 182.825 36.7965 L182.825 32.0743 Q185.649 30.9401 188.102 30.3614 Q190.556 29.7827 192.593 29.7827 Q197.963 29.7827 201.158 32.4678 Q204.352 35.153 204.352 39.6437 Q204.352 41.7733 203.542 43.6946 Q202.755 45.5928 200.649 48.1853 Q200.07 48.8566 196.968 52.0742 Q193.866 55.2686 188.218 61.0325 Z\" fill=\"#000000\" fill-rule=\"evenodd\" fill-opacity=\"1\" /><path clip-path=\"url(#clip470)\" d=\"M224.352 33.4863 Q220.741 33.4863 218.912 37.0511 Q217.107 40.5928 217.107 47.7224 Q217.107 54.8288 218.912 58.3936 Q220.741 61.9353 224.352 61.9353 Q227.986 61.9353 229.792 58.3936 Q231.621 54.8288 231.621 47.7224 Q231.621 40.5928 229.792 37.0511 Q227.986 33.4863 224.352 33.4863 M224.352 29.7827 Q230.162 29.7827 233.218 34.3891 Q236.297 38.9724 236.297 47.7224 Q236.297 56.4492 233.218 61.0556 Q230.162 65.639 224.352 65.639 Q218.542 65.639 215.463 61.0556 Q212.408 56.4492 212.408 47.7224 Q212.408 38.9724 215.463 34.3891 Q218.542 29.7827 224.352 29.7827 Z\" fill=\"#000000\" fill-rule=\"evenodd\" fill-opacity=\"1\" /><path clip-path=\"url(#clip470)\" d=\"M14.479 818.714 L14.479 812.858 L64.0042 812.858 L64.0042 818.714 L14.479 818.714 Z\" fill=\"#000000\" fill-rule=\"evenodd\" fill-opacity=\"1\" /><path clip-path=\"url(#clip470)\" d=\"M32.4621 786.79 Q32.4621 791.501 36.1542 794.238 Q39.8145 796.975 46.212 796.975 Q52.6095 796.975 56.3017 794.27 Q59.9619 791.533 59.9619 786.79 Q59.9619 782.111 56.2698 779.374 Q52.5777 776.637 46.212 776.637 Q39.8781 776.637 36.186 779.374 Q32.4621 782.111 32.4621 786.79 M27.4968 786.79 Q27.4968 779.151 32.4621 774.791 Q37.4273 770.43 46.212 770.43 Q54.9649 770.43 59.9619 774.791 Q64.9272 779.151 64.9272 786.79 Q64.9272 794.461 59.9619 798.821 Q54.9649 803.15 46.212 803.15 Q37.4273 803.15 32.4621 798.821 Q27.4968 794.461 27.4968 786.79 Z\" fill=\"#000000\" fill-rule=\"evenodd\" fill-opacity=\"1\" /><path clip-path=\"url(#clip470)\" d=\"M45.7664 737.265 Q39.4007 737.265 35.8996 739.907 Q32.3984 742.517 32.3984 747.259 Q32.3984 751.97 35.8996 754.611 Q39.4007 757.221 45.7664 757.221 Q52.1003 757.221 55.6014 754.611 Q59.1026 751.97 59.1026 747.259 Q59.1026 742.517 55.6014 739.907 Q52.1003 737.265 45.7664 737.265 M59.58 731.408 Q68.683 731.408 73.1071 735.451 Q77.5631 739.493 77.5631 747.832 Q77.5631 750.919 77.0857 753.657 Q76.6401 756.394 75.6852 758.972 L69.9879 758.972 Q71.3884 756.394 72.0568 753.879 Q72.7252 751.365 72.7252 748.755 Q72.7252 742.994 69.7015 740.129 Q66.7096 737.265 60.6303 737.265 L57.7339 737.265 Q60.885 739.079 62.4446 741.912 Q64.0042 744.745 64.0042 748.691 Q64.0042 755.248 59.0071 759.258 Q54.01 763.269 45.7664 763.269 Q37.491 763.269 32.4939 759.258 Q27.4968 755.248 27.4968 748.691 Q27.4968 744.745 29.0564 741.912 Q30.616 739.079 33.7671 737.265 L28.3562 737.265 L28.3562 731.408 L59.58 731.408 Z\" fill=\"#000000\" fill-rule=\"evenodd\" fill-opacity=\"1\" /><path clip-path=\"url(#clip470)\" d=\"M14.479 719.345 L14.479 713.489 L64.0042 713.489 L64.0042 719.345 L14.479 719.345 Z\" fill=\"#000000\" fill-rule=\"evenodd\" fill-opacity=\"1\" /><path clip-path=\"url(#clip470)\" d=\"M28.3562 701.235 L28.3562 695.379 L64.0042 695.379 L64.0042 701.235 L28.3562 701.235 M14.479 701.235 L14.479 695.379 L21.895 695.379 L21.895 701.235 L14.479 701.235 Z\" fill=\"#000000\" fill-rule=\"evenodd\" fill-opacity=\"1\" /><path clip-path=\"url(#clip470)\" d=\"M14.479 683.347 L14.479 677.459 L43.7294 677.459 L28.3562 659.985 L28.3562 652.506 L45.0344 671.412 L64.0042 651.71 L64.0042 659.349 L46.5939 677.459 L64.0042 677.459 L64.0042 683.347 L14.479 683.347 Z\" fill=\"#000000\" fill-rule=\"evenodd\" fill-opacity=\"1\" /><polyline clip-path=\"url(#clip472)\" style=\"stroke:#0000ff; stroke-linecap:round; stroke-linejoin:round; stroke-width:4; stroke-opacity:1; fill:none\" points=\"\n",
       "  366.863,79.2073 368.754,79.6649 370.646,80.0653 372.537,80.42 374.428,80.7375 376.32,81.0242 378.211,81.2849 380.102,81.5236 381.993,81.7433 383.885,81.9465 \n",
       "  385.776,82.1354 387.667,82.3117 389.559,82.4767 391.45,82.6319 393.341,82.7782 395.233,82.9166 397.124,83.0478 399.015,83.1726 400.907,83.2915 402.798,83.4052 \n",
       "  404.689,83.5141 406.581,83.6185 408.472,83.7191 410.363,83.8159 412.255,83.9094 414.146,83.9999 416.037,84.0876 417.929,84.1727 419.82,84.2555 421.711,84.3361 \n",
       "  423.603,84.4147 425.494,84.4915 427.385,84.5666 429.277,84.6402 431.168,84.7123 433.059,84.7832 434.951,84.8529 436.842,84.9215 438.733,84.9891 440.625,85.0558 \n",
       "  442.516,85.1217 444.407,85.1869 446.299,85.2513 448.19,85.3152 450.081,85.3785 451.973,85.4413 453.864,85.5037 455.755,85.5657 457.647,85.6274 459.538,85.6888 \n",
       "  461.429,85.7499 463.321,85.8108 465.212,85.8715 467.103,85.9321 468.995,85.9926 470.886,86.0531 472.777,86.1135 474.668,86.1738 476.56,86.2342 478.451,86.2946 \n",
       "  480.342,86.3551 482.234,86.4157 484.125,86.4763 486.016,86.5371 487.908,86.5981 489.799,86.6592 491.69,86.7205 493.582,86.782 495.473,86.8437 497.364,86.9056 \n",
       "  499.256,86.9678 501.147,87.0302 503.038,87.0929 504.93,87.1559 506.821,87.2192 508.712,87.2827 510.604,87.3466 512.495,87.4108 514.386,87.4754 516.278,87.5403 \n",
       "  518.169,87.6056 520.06,87.6712 521.952,87.7372 523.843,87.8035 525.734,87.8703 527.626,87.9374 529.517,88.0049 531.408,88.0729 533.3,88.1412 535.191,88.21 \n",
       "  537.082,88.2792 538.974,88.3488 540.865,88.4189 542.756,88.4894 544.648,88.5603 546.539,88.6317 548.43,88.7035 550.322,88.7758 552.213,88.8485 554.104,88.9218 \n",
       "  555.996,88.9954 557.887,89.0696 559.778,89.1442 561.67,89.2193 563.561,89.2949 565.452,89.3709 567.344,89.4474 569.235,89.5245 571.126,89.602 573.017,89.68 \n",
       "  574.909,89.7585 576.8,89.8375 578.691,89.917 580.583,89.997 582.474,90.0775 584.365,90.1585 586.257,90.24 588.148,90.322 590.039,90.4045 591.931,90.4876 \n",
       "  593.822,90.5711 595.713,90.6552 597.605,90.7398 599.496,90.8249 601.387,90.9105 603.279,90.9966 605.17,91.0833 607.061,91.1704 608.953,91.2581 610.844,91.3463 \n",
       "  612.735,91.4351 614.627,91.5243 616.518,91.6141 618.409,91.7044 620.301,91.7953 622.192,91.8866 624.083,91.9785 625.975,92.071 627.866,92.1639 629.757,92.2574 \n",
       "  631.649,92.3514 633.54,92.446 635.431,92.5411 637.323,92.6367 639.214,92.7328 641.105,92.8295 642.997,92.9267 644.888,93.0244 646.779,93.1227 648.671,93.2215 \n",
       "  650.562,93.3209 652.453,93.4208 654.345,93.5212 656.236,93.6221 658.127,93.7236 660.019,93.8256 661.91,93.9282 663.801,94.0313 665.692,94.1349 667.584,94.2391 \n",
       "  669.475,94.3438 671.366,94.4491 673.258,94.5549 675.149,94.6612 677.04,94.768 678.932,94.8754 680.823,94.9834 682.714,95.0918 684.606,95.2009 686.497,95.3104 \n",
       "  688.388,95.4205 690.28,95.5311 692.171,95.6423 694.062,95.754 695.954,95.8663 697.845,95.979 699.736,96.0924 701.628,96.2062 703.519,96.3206 705.41,96.4356 \n",
       "  707.302,96.5511 709.193,96.6671 711.084,96.7837 712.976,96.9008 714.867,97.0184 716.758,97.1366 718.65,97.2553 720.541,97.3746 722.432,97.4944 724.324,97.6147 \n",
       "  726.215,97.7356 728.106,97.857 729.998,97.979 731.889,98.1015 733.78,98.2245 735.672,98.3481 737.563,98.4722 739.454,98.5969 741.346,98.7221 743.237,98.8478 \n",
       "  745.128,98.9741 747.02,99.101 748.911,99.2283 750.802,99.3562 752.694,99.4847 754.585,99.6137 756.476,99.7432 758.368,99.8733 760.259,100.004 762.15,100.135 \n",
       "  764.041,100.267 765.933,100.399 767.824,100.532 769.715,100.665 771.607,100.799 773.498,100.933 775.389,101.068 777.281,101.204 779.172,101.34 781.063,101.476 \n",
       "  782.955,101.614 784.846,101.751 786.737,101.889 788.629,102.028 790.52,102.168 792.411,102.307 794.303,102.448 796.194,102.589 798.085,102.73 799.977,102.872 \n",
       "  801.868,103.015 803.759,103.158 805.651,103.301 807.542,103.446 809.433,103.59 811.325,103.736 813.216,103.881 815.107,104.028 816.999,104.175 818.89,104.322 \n",
       "  820.781,104.47 822.673,104.619 824.564,104.768 826.455,104.918 828.347,105.068 830.238,105.219 832.129,105.37 834.021,105.522 835.912,105.674 837.803,105.827 \n",
       "  839.695,105.981 841.586,106.135 843.477,106.289 845.369,106.444 847.26,106.6 849.151,106.756 851.043,106.913 852.934,107.07 854.825,107.228 856.716,107.387 \n",
       "  858.608,107.546 860.499,107.705 862.39,107.865 864.282,108.026 866.173,108.187 868.064,108.349 869.956,108.511 871.847,108.674 873.738,108.838 875.63,109.002 \n",
       "  877.521,109.166 879.412,109.331 881.304,109.497 883.195,109.663 885.086,109.83 886.978,109.997 888.869,110.165 890.76,110.334 892.652,110.503 894.543,110.672 \n",
       "  896.434,110.843 898.326,111.013 900.217,111.185 902.108,111.356 904,111.529 905.891,111.702 907.782,111.875 909.674,112.049 911.565,112.224 913.456,112.399 \n",
       "  915.348,112.575 917.239,112.751 919.13,112.928 921.022,113.106 922.913,113.284 924.804,113.462 926.696,113.642 928.587,113.821 930.478,114.002 932.37,114.183 \n",
       "  934.261,114.364 936.152,114.546 938.044,114.729 939.935,114.912 941.826,115.096 943.718,115.28 945.609,115.465 947.5,115.651 949.391,115.837 951.283,116.023 \n",
       "  953.174,116.211 955.065,116.398 956.957,116.587 958.848,116.776 960.739,116.965 962.631,117.155 964.522,117.346 966.413,117.537 968.305,117.729 970.196,117.922 \n",
       "  972.087,118.115 973.979,118.309 975.87,118.503 977.761,118.698 979.653,118.893 981.544,119.089 983.435,119.286 985.327,119.483 987.218,119.681 989.109,119.879 \n",
       "  991.001,120.078 992.892,120.278 994.783,120.478 996.675,120.679 998.566,120.88 1000.46,121.082 1002.35,121.285 1004.24,121.488 1006.13,121.692 1008.02,121.896 \n",
       "  1009.91,122.101 1011.81,122.307 1013.7,122.513 1015.59,122.72 1017.48,122.927 1019.37,123.135 1021.26,123.344 1023.15,123.553 1025.04,123.763 1026.94,123.973 \n",
       "  1028.83,124.184 1030.72,124.396 1032.61,124.608 1034.5,124.821 1036.39,125.035 1038.28,125.249 1040.18,125.464 1042.07,125.679 1043.96,125.895 1045.85,126.112 \n",
       "  1047.74,126.329 1049.63,126.547 1051.52,126.766 1053.41,126.985 1055.31,127.205 1057.2,127.425 1059.09,127.646 1060.98,127.868 1062.87,128.09 1064.76,128.313 \n",
       "  1066.65,128.537 1068.55,128.761 1070.44,128.986 1072.33,129.212 1074.22,129.438 1076.11,129.665 1078,129.892 1079.89,130.12 1081.78,130.349 1083.68,130.578 \n",
       "  1085.57,130.808 1087.46,131.039 1089.35,131.271 1091.24,131.503 1093.13,131.735 1095.02,131.969 1096.91,132.203 1098.81,132.437 1100.7,132.673 1102.59,132.909 \n",
       "  1104.48,133.145 1106.37,133.383 1108.26,133.62 1110.15,133.859 1112.05,134.098 1113.94,134.338 1115.83,134.579 1117.72,134.82 1119.61,135.062 1121.5,135.305 \n",
       "  1123.39,135.548 1125.28,135.793 1127.18,136.037 1129.07,136.283 1130.96,136.529 1132.85,136.776 1134.74,137.023 1136.63,137.271 1138.52,137.52 1140.42,137.77 \n",
       "  1142.31,138.02 1144.2,138.271 1146.09,138.523 1147.98,138.775 1149.87,139.028 1151.76,139.282 1153.65,139.536 1155.55,139.791 1157.44,140.047 1159.33,140.304 \n",
       "  1161.22,140.561 1163.11,140.819 1165,141.078 1166.89,141.337 1168.79,141.597 1170.68,141.858 1172.57,142.12 1174.46,142.382 1176.35,142.645 1178.24,142.909 \n",
       "  1180.13,143.174 1182.02,143.439 1183.92,143.705 1185.81,143.972 1187.7,144.239 1189.59,144.507 1191.48,144.776 1193.37,145.046 1195.26,145.317 1197.16,145.588 \n",
       "  1199.05,145.86 1200.94,146.132 1202.83,146.406 1204.72,146.68 1206.61,146.955 1208.5,147.231 1210.39,147.507 1212.29,147.785 1214.18,148.063 1216.07,148.341 \n",
       "  1217.96,148.621 1219.85,148.901 1221.74,149.183 1223.63,149.465 1225.53,149.747 1227.42,150.031 1229.31,150.315 1231.2,150.6 1233.09,150.886 1234.98,151.173 \n",
       "  1236.87,151.46 1238.76,151.748 1240.66,152.037 1242.55,152.327 1244.44,152.618 1246.33,152.909 1248.22,153.202 1250.11,153.495 1252,153.788 1253.9,154.083 \n",
       "  1255.79,154.379 1257.68,154.675 1259.57,154.972 1261.46,155.27 1263.35,155.569 1265.24,155.869 1267.13,156.169 1269.03,156.471 1270.92,156.773 1272.81,157.076 \n",
       "  1274.7,157.38 1276.59,157.685 1278.48,157.99 1280.37,158.297 1282.26,158.604 1284.16,158.912 1286.05,159.221 1287.94,159.531 1289.83,159.842 1291.72,160.153 \n",
       "  1293.61,160.466 1295.5,160.779 1297.4,161.094 1299.29,161.409 1301.18,161.725 1303.07,162.042 1304.96,162.359 1306.85,162.678 1308.74,162.998 1310.63,163.318 \n",
       "  1312.53,163.64 1314.42,163.962 1316.31,164.285 1318.2,164.609 1320.09,164.935 1321.98,165.261 1323.87,165.587 1325.77,165.915 1327.66,166.244 1329.55,166.574 \n",
       "  1331.44,166.904 1333.33,167.236 1335.22,167.569 1337.11,167.902 1339,168.236 1340.9,168.572 1342.79,168.908 1344.68,169.245 1346.57,169.584 1348.46,169.923 \n",
       "  1350.35,170.263 1352.24,170.604 1354.14,170.947 1356.03,171.29 1357.92,171.634 1359.81,171.979 1361.7,172.325 1363.59,172.672 1365.48,173.02 1367.37,173.369 \n",
       "  1369.27,173.72 1371.16,174.071 1373.05,174.423 1374.94,174.776 1376.83,175.13 1378.72,175.485 1380.61,175.842 1382.51,176.199 1384.4,176.557 1386.29,176.917 \n",
       "  1388.18,177.277 1390.07,177.639 1391.96,178.001 1393.85,178.365 1395.74,178.73 1397.64,179.095 1399.53,179.462 1401.42,179.83 1403.31,180.199 1405.2,180.569 \n",
       "  1407.09,180.94 1408.98,181.313 1410.88,181.686 1412.77,182.06 1414.66,182.436 1416.55,182.813 1418.44,183.19 1420.33,183.569 1422.22,183.949 1424.11,184.331 \n",
       "  1426.01,184.713 1427.9,185.096 1429.79,185.481 1431.68,185.867 1433.57,186.254 1435.46,186.642 1437.35,187.031 1439.25,187.422 1441.14,187.813 1443.03,188.206 \n",
       "  1444.92,188.6 1446.81,188.995 1448.7,189.392 1450.59,189.789 1452.48,190.188 1454.38,190.588 1456.27,190.989 1458.16,191.392 1460.05,191.795 1461.94,192.2 \n",
       "  1463.83,192.606 1465.72,193.014 1467.62,193.422 1469.51,193.832 1471.4,194.243 1473.29,194.656 1475.18,195.07 1477.07,195.485 1478.96,195.901 1480.85,196.318 \n",
       "  1482.75,196.737 1484.64,197.157 1486.53,197.579 1488.42,198.002 1490.31,198.426 1492.2,198.851 1494.09,199.278 1495.98,199.706 1497.88,200.136 1499.77,200.567 \n",
       "  1501.66,200.999 1503.55,201.432 1505.44,201.867 1507.33,202.304 1509.22,202.741 1511.12,203.18 1513.01,203.621 1514.9,204.063 1516.79,204.506 1518.68,204.951 \n",
       "  1520.57,205.397 1522.46,205.845 1524.35,206.294 1526.25,206.744 1528.14,207.196 1530.03,207.65 1531.92,208.104 1533.81,208.561 1535.7,209.019 1537.59,209.478 \n",
       "  1539.49,209.939 1541.38,210.401 1543.27,210.865 1545.16,211.331 1547.05,211.798 1548.94,212.266 1550.83,212.736 1552.72,213.208 1554.62,213.681 1556.51,214.155 \n",
       "  1558.4,214.632 1560.29,215.11 1562.18,215.589 1564.07,216.07 1565.96,216.553 1567.86,217.037 1569.75,217.523 1571.64,218.011 1573.53,218.5 1575.42,218.991 \n",
       "  1577.31,219.484 1579.2,219.978 1581.09,220.474 1582.99,220.971 1584.88,221.471 1586.77,221.972 1588.66,222.475 1590.55,222.979 1592.44,223.485 1594.33,223.993 \n",
       "  1596.23,224.503 1598.12,225.015 1600.01,225.528 1601.9,226.043 1603.79,226.56 1605.68,227.079 1607.57,227.599 1609.46,228.122 1611.36,228.646 1613.25,229.172 \n",
       "  1615.14,229.7 1617.03,230.23 1618.92,230.761 1620.81,231.295 1622.7,231.83 1624.6,232.368 1626.49,232.907 1628.38,233.448 1630.27,233.992 1632.16,234.537 \n",
       "  1634.05,235.084 1635.94,235.633 1637.83,236.184 1639.73,236.738 1641.62,237.293 1643.51,237.85 1645.4,238.409 1647.29,238.971 1649.18,239.534 1651.07,240.1 \n",
       "  1652.97,240.667 1654.86,241.237 1656.75,241.809 1658.64,242.383 1660.53,242.959 1662.42,243.537 1664.31,244.118 1666.2,244.701 1668.1,245.286 1669.99,245.873 \n",
       "  1671.88,246.462 1673.77,247.054 1675.66,247.648 1677.55,248.244 1679.44,248.842 1681.33,249.443 1683.23,250.046 1685.12,250.651 1687.01,251.259 1688.9,251.869 \n",
       "  1690.79,252.482 1692.68,253.097 1694.57,253.714 1696.47,254.334 1698.36,254.956 1700.25,255.581 1702.14,256.208 1704.03,256.838 1705.92,257.47 1707.81,258.105 \n",
       "  1709.7,258.742 1711.6,259.382 1713.49,260.025 1715.38,260.67 1717.27,261.317 1719.16,261.968 1721.05,262.621 1722.94,263.277 1724.84,263.935 1726.73,264.596 \n",
       "  1728.62,265.26 1730.51,265.927 1732.4,266.596 1734.29,267.268 1736.18,267.943 1738.07,268.621 1739.97,269.302 1741.86,269.985 1743.75,270.672 1745.64,271.361 \n",
       "  1747.53,272.054 1749.42,272.749 1751.31,273.447 1753.21,274.148 1755.1,274.853 1756.99,275.56 1758.88,276.271 1760.77,276.984 1762.66,277.701 1764.55,278.421 \n",
       "  1766.44,279.144 1768.34,279.87 1770.23,280.6 1772.12,281.332 1774.01,282.068 1775.9,282.808 1777.79,283.55 1779.68,284.296 1781.58,285.046 1783.47,285.798 \n",
       "  1785.36,286.555 1787.25,287.314 1789.14,288.077 1791.03,288.844 1792.92,289.614 1794.81,290.388 1796.71,291.166 1798.6,291.947 1800.49,292.731 1802.38,293.52 \n",
       "  1804.27,294.312 1806.16,295.108 1808.05,295.907 1809.95,296.711 1811.84,297.518 1813.73,298.329 1815.62,299.145 1817.51,299.964 1819.4,300.787 1821.29,301.614 \n",
       "  1823.18,302.445 1825.08,303.28 1826.97,304.12 1828.86,304.963 1830.75,305.811 1832.64,306.663 1834.53,307.52 1836.42,308.38 1838.32,309.245 1840.21,310.115 \n",
       "  1842.1,310.988 1843.99,311.867 1845.88,312.75 1847.77,313.637 1849.66,314.529 1851.55,315.426 1853.45,316.327 1855.34,317.233 1857.23,318.144 1859.12,319.06 \n",
       "  1861.01,319.98 1862.9,320.906 1864.79,321.836 1866.68,322.771 1868.58,323.712 1870.47,324.658 1872.36,325.608 1874.25,326.564 1876.14,327.526 1878.03,328.492 \n",
       "  1879.92,329.464 1881.82,330.442 1883.71,331.425 1885.6,332.413 1887.49,333.407 1889.38,334.407 1891.27,335.412 1893.16,336.423 1895.05,337.44 1896.95,338.463 \n",
       "  1898.84,339.492 1900.73,340.527 1902.62,341.568 1904.51,342.615 1906.4,343.668 1908.29,344.728 1910.19,345.794 1912.08,346.866 1913.97,347.945 1915.86,349.031 \n",
       "  1917.75,350.123 1919.64,351.222 1921.53,352.327 1923.42,353.44 1925.32,354.559 1927.21,355.686 1929.1,356.819 1930.99,357.96 1932.88,359.108 1934.77,360.264 \n",
       "  1936.66,361.426 1938.56,362.597 1940.45,363.775 1942.34,364.961 1944.23,366.154 1946.12,367.356 1948.01,368.565 1949.9,369.783 1951.79,371.009 1953.69,372.243 \n",
       "  1955.58,373.485 1957.47,374.736 1959.36,375.996 1961.25,377.264 1963.14,378.541 1965.03,379.828 1966.93,381.123 1968.82,382.427 1970.71,383.741 1972.6,385.065 \n",
       "  1974.49,386.397 1976.38,387.74 1978.27,389.092 1980.16,390.455 1982.06,391.827 1983.95,393.21 1985.84,394.603 1987.73,396.007 1989.62,397.421 1991.51,398.846 \n",
       "  1993.4,400.283 1995.3,401.73 1997.19,403.189 1999.08,404.659 2000.97,406.141 2002.86,407.634 2004.75,409.14 2006.64,410.658 2008.53,412.188 2010.43,413.731 \n",
       "  2012.32,415.286 2014.21,416.855 2016.1,418.436 2017.99,420.031 2019.88,421.64 2021.77,423.262 2023.67,424.899 2025.56,426.549 2027.45,428.215 2029.34,429.894 \n",
       "  2031.23,431.589 2033.12,433.299 2035.01,435.025 2036.9,436.766 2038.8,438.524 2040.69,440.297 2042.58,442.087 2044.47,443.895 2046.36,445.719 2048.25,447.561 \n",
       "  2050.14,449.42 2052.03,451.298 2053.93,453.194 2055.82,455.109 2057.71,457.044 2059.6,458.997 2061.49,460.971 2063.38,462.965 2065.27,464.98 2067.17,467.016 \n",
       "  2069.06,469.073 2070.95,471.152 2072.84,473.254 2074.73,475.379 2076.62,477.527 2078.51,479.699 2080.4,481.895 2082.3,484.117 2084.19,486.363 2086.08,488.636 \n",
       "  2087.97,490.935 2089.86,493.262 2091.75,495.616 2093.64,497.999 2095.54,500.41 2097.43,502.852 2099.32,505.324 2101.21,507.827 2103.1,510.362 2104.99,512.93 \n",
       "  2106.88,515.532 2108.77,518.168 2110.67,520.839 2112.56,523.547 2114.45,526.291 2116.34,529.074 2118.23,531.897 2120.12,534.759 2122.01,537.663 2123.91,540.609 \n",
       "  2125.8,543.599 2127.69,546.634 2129.58,549.716 2131.47,552.845 2133.36,556.024 2135.25,559.253 2137.14,562.534 2139.04,565.87 2140.93,569.261 2142.82,572.709 \n",
       "  2144.71,576.217 2146.6,579.786 2148.49,583.419 2150.38,587.117 2152.28,590.883 2154.17,594.72 2156.06,598.63 2157.95,602.616 2159.84,606.68 2161.73,610.826 \n",
       "  2163.62,615.058 2165.51,619.377 2167.41,623.789 2169.3,628.297 2171.19,632.905 2173.08,637.618 2174.97,642.44 2176.86,647.376 2178.75,652.432 2180.65,657.614 \n",
       "  2182.54,662.927 2184.43,668.378 2186.32,673.975 2188.21,679.726 2190.1,685.638 2191.99,691.721 2193.88,697.985 2195.78,704.441 2197.67,711.1 2199.56,717.976 \n",
       "  2201.45,725.082 2203.34,732.435 2205.23,740.051 2207.12,747.949 2209.02,756.152 2210.91,764.683 2212.8,773.569 2214.69,782.84 2216.58,792.53 2218.47,802.679 \n",
       "  2220.36,813.331 2222.25,824.538 2224.15,836.359 2226.04,848.866 2227.93,862.142 2229.82,876.285 2231.71,891.415 2233.6,907.68 2235.49,925.261 2237.38,944.386 \n",
       "  2239.28,965.352 2241.17,988.547 2243.06,1014.5 2244.95,1043.94 2246.84,1077.95 2248.73,1118.22 2250.62,1167.53 2252.52,1231.16 2254.41,1320.91 2256.3,1474.46 \n",
       "  \n",
       "  \"/>\n",
       "<circle clip-path=\"url(#clip472)\" cx=\"366.863\" cy=\"79.2073\" r=\"14.4\" fill=\"#0000ff\" fill-rule=\"evenodd\" fill-opacity=\"1\" stroke=\"#000000\" stroke-opacity=\"1\" stroke-width=\"3.2\"/>\n",
       "<polyline clip-path=\"url(#clip472)\" style=\"stroke:#ff0000; stroke-linecap:round; stroke-linejoin:round; stroke-width:4; stroke-opacity:1; fill:none\" points=\"\n",
       "  366.863,70.0436 368.754,70.5027 370.646,70.9048 372.537,71.2615 374.428,71.5813 376.32,71.8706 378.211,72.1341 380.102,72.3759 381.993,72.5989 383.885,72.8058 \n",
       "  385.776,72.9985 387.667,73.1788 389.559,73.3483 391.45,73.508 393.341,73.6591 395.233,73.8024 397.124,73.9389 399.015,74.0691 400.907,74.1937 402.798,74.3132 \n",
       "  404.689,74.4281 406.581,74.5389 408.472,74.6458 410.363,74.7493 412.255,74.8496 414.146,74.9471 416.037,75.0419 417.929,75.1343 419.82,75.2246 421.711,75.3128 \n",
       "  423.603,75.3992 425.494,75.484 427.385,75.5672 429.277,75.6491 431.168,75.7297 433.059,75.8091 434.951,75.8875 436.842,75.9649 438.733,76.0415 440.625,76.1173 \n",
       "  442.516,76.1924 444.407,76.2669 446.299,76.3409 448.19,76.4143 450.081,76.4874 451.973,76.56 453.864,76.6323 455.755,76.7044 457.647,76.7762 459.538,76.8478 \n",
       "  461.429,76.9193 463.321,76.9907 465.212,77.062 467.103,77.1333 468.995,77.2045 470.886,77.2758 472.777,77.3471 474.668,77.4185 476.56,77.49 478.451,77.5616 \n",
       "  480.342,77.6334 482.234,77.7053 484.125,77.7774 486.016,77.8497 487.908,77.9222 489.799,77.995 491.69,78.068 493.582,78.1413 495.473,78.2148 497.364,78.2887 \n",
       "  499.256,78.3629 501.147,78.4374 503.038,78.5122 504.93,78.5873 506.821,78.6628 508.712,78.7387 510.604,78.815 512.495,78.8916 514.386,78.9686 516.278,79.046 \n",
       "  518.169,79.1238 520.06,79.2021 521.952,79.2807 523.843,79.3598 525.734,79.4393 527.626,79.5192 529.517,79.5996 531.408,79.6804 533.3,79.7617 535.191,79.8434 \n",
       "  537.082,79.9256 538.974,80.0083 540.865,80.0914 542.756,80.175 544.648,80.2591 546.539,80.3436 548.43,80.4287 550.322,80.5142 552.213,80.6002 554.104,80.6867 \n",
       "  555.996,80.7737 557.887,80.8612 559.778,80.9492 561.67,81.0378 563.561,81.1268 565.452,81.2163 567.344,81.3063 569.235,81.3968 571.126,81.4879 573.017,81.5795 \n",
       "  574.909,81.6715 576.8,81.7641 578.691,81.8573 580.583,81.9509 582.474,82.045 584.365,82.1397 586.257,82.2349 588.148,82.3306 590.039,82.4269 591.931,82.5236 \n",
       "  593.822,82.6209 595.713,82.7188 597.605,82.8171 599.496,82.916 601.387,83.0154 603.279,83.1154 605.17,83.2158 607.061,83.3168 608.953,83.4184 610.844,83.5204 \n",
       "  612.735,83.623 614.627,83.7261 616.518,83.8298 618.409,83.934 620.301,84.0387 622.192,84.144 624.083,84.2498 625.975,84.3561 627.866,84.463 629.757,84.5704 \n",
       "  631.649,84.6783 633.54,84.7868 635.431,84.8958 637.323,85.0053 639.214,85.1154 641.105,85.226 642.997,85.3371 644.888,85.4488 646.779,85.561 648.671,85.6737 \n",
       "  650.562,85.787 652.453,85.9008 654.345,86.0152 656.236,86.13 658.127,86.2454 660.019,86.3614 661.91,86.4779 663.801,86.5949 665.692,86.7124 667.584,86.8305 \n",
       "  669.475,86.9491 671.366,87.0683 673.258,87.188 675.149,87.3082 677.04,87.4289 678.932,87.5502 680.823,87.672 682.714,87.7944 684.606,87.9173 686.497,88.0407 \n",
       "  688.388,88.1646 690.28,88.2891 692.171,88.4141 694.062,88.5397 695.954,88.6657 697.845,88.7923 699.736,88.9195 701.628,89.0471 703.519,89.1753 705.41,89.3041 \n",
       "  707.302,89.4333 709.193,89.5631 711.084,89.6934 712.976,89.8243 714.867,89.9557 716.758,90.0876 718.65,90.22 720.541,90.353 722.432,90.4865 724.324,90.6205 \n",
       "  726.215,90.7551 728.106,90.8902 729.998,91.0258 731.889,91.1619 733.78,91.2986 735.672,91.4358 737.563,91.5736 739.454,91.7118 741.346,91.8506 743.237,91.9899 \n",
       "  745.128,92.1298 747.02,92.2702 748.911,92.4111 750.802,92.5525 752.694,92.6945 754.585,92.837 756.476,92.98 758.368,93.1235 760.259,93.2676 762.15,93.4122 \n",
       "  764.041,93.5573 765.933,93.703 767.824,93.8492 769.715,93.9959 771.607,94.1432 773.498,94.2909 775.389,94.4392 777.281,94.5881 779.172,94.7374 781.063,94.8873 \n",
       "  782.955,95.0377 784.846,95.1887 786.737,95.3401 788.629,95.4921 790.52,95.6447 792.411,95.7977 794.303,95.9513 796.194,96.1054 798.085,96.2601 799.977,96.4152 \n",
       "  801.868,96.5709 803.759,96.7272 805.651,96.8839 807.542,97.0412 809.433,97.199 811.325,97.3574 813.216,97.5162 815.107,97.6756 816.999,97.8356 818.89,97.996 \n",
       "  820.781,98.157 822.673,98.3186 824.564,98.4806 826.455,98.6432 828.347,98.8063 830.238,98.97 832.129,99.1342 834.021,99.2989 835.912,99.4641 837.803,99.6299 \n",
       "  839.695,99.7962 841.586,99.9631 843.477,100.13 845.369,100.298 847.26,100.467 849.151,100.636 851.043,100.805 852.934,100.975 854.825,101.146 856.716,101.317 \n",
       "  858.608,101.489 860.499,101.661 862.39,101.834 864.282,102.007 866.173,102.181 868.064,102.355 869.956,102.53 871.847,102.705 873.738,102.881 875.63,103.058 \n",
       "  877.521,103.235 879.412,103.412 881.304,103.59 883.195,103.769 885.086,103.948 886.978,104.128 888.869,104.308 890.76,104.489 892.652,104.67 894.543,104.852 \n",
       "  896.434,105.035 898.326,105.218 900.217,105.401 902.108,105.585 904,105.77 905.891,105.955 907.782,106.141 909.674,106.327 911.565,106.514 913.456,106.701 \n",
       "  915.348,106.889 917.239,107.078 919.13,107.267 921.022,107.456 922.913,107.646 924.804,107.837 926.696,108.028 928.587,108.22 930.478,108.412 932.37,108.605 \n",
       "  934.261,108.799 936.152,108.993 938.044,109.187 939.935,109.382 941.826,109.578 943.718,109.774 945.609,109.971 947.5,110.168 949.391,110.366 951.283,110.565 \n",
       "  953.174,110.764 955.065,110.963 956.957,111.163 958.848,111.364 960.739,111.565 962.631,111.767 964.522,111.97 966.413,112.173 968.305,112.376 970.196,112.58 \n",
       "  972.087,112.785 973.979,112.99 975.87,113.196 977.761,113.402 979.653,113.609 981.544,113.817 983.435,114.025 985.327,114.234 987.218,114.443 989.109,114.653 \n",
       "  991.001,114.863 992.892,115.074 994.783,115.286 996.675,115.498 998.566,115.71 1000.46,115.924 1002.35,116.138 1004.24,116.352 1006.13,116.567 1008.02,116.783 \n",
       "  1009.91,116.999 1011.81,117.216 1013.7,117.433 1015.59,117.651 1017.48,117.87 1019.37,118.089 1021.26,118.309 1023.15,118.529 1025.04,118.75 1026.94,118.972 \n",
       "  1028.83,119.194 1030.72,119.417 1032.61,119.64 1034.5,119.864 1036.39,120.089 1038.28,120.314 1040.18,120.54 1042.07,120.766 1043.96,120.993 1045.85,121.221 \n",
       "  1047.74,121.449 1049.63,121.678 1051.52,121.907 1053.41,122.137 1055.31,122.368 1057.2,122.599 1059.09,122.831 1060.98,123.063 1062.87,123.297 1064.76,123.53 \n",
       "  1066.65,123.765 1068.55,124 1070.44,124.235 1072.33,124.471 1074.22,124.708 1076.11,124.946 1078,125.184 1079.89,125.423 1081.78,125.662 1083.68,125.902 \n",
       "  1085.57,126.143 1087.46,126.384 1089.35,126.626 1091.24,126.868 1093.13,127.112 1095.02,127.355 1096.91,127.6 1098.81,127.845 1100.7,128.091 1102.59,128.337 \n",
       "  1104.48,128.584 1106.37,128.832 1108.26,129.08 1110.15,129.329 1112.05,129.579 1113.94,129.829 1115.83,130.08 1117.72,130.332 1119.61,130.584 1121.5,130.837 \n",
       "  1123.39,131.091 1125.28,131.345 1127.18,131.6 1129.07,131.856 1130.96,132.112 1132.85,132.369 1134.74,132.627 1136.63,132.885 1138.52,133.144 1140.42,133.404 \n",
       "  1142.31,133.664 1144.2,133.925 1146.09,134.187 1147.98,134.449 1149.87,134.712 1151.76,134.976 1153.65,135.24 1155.55,135.506 1157.44,135.771 1159.33,136.038 \n",
       "  1161.22,136.305 1163.11,136.573 1165,136.842 1166.89,137.111 1168.79,137.381 1170.68,137.652 1172.57,137.923 1174.46,138.196 1176.35,138.469 1178.24,138.742 \n",
       "  1180.13,139.016 1182.02,139.292 1183.92,139.567 1185.81,139.844 1187.7,140.121 1189.59,140.399 1191.48,140.678 1193.37,140.957 1195.26,141.237 1197.16,141.518 \n",
       "  1199.05,141.8 1200.94,142.082 1202.83,142.365 1204.72,142.649 1206.61,142.933 1208.5,143.219 1210.39,143.505 1212.29,143.792 1214.18,144.079 1216.07,144.368 \n",
       "  1217.96,144.657 1219.85,144.947 1221.74,145.237 1223.63,145.529 1225.53,145.821 1227.42,146.114 1229.31,146.407 1231.2,146.702 1233.09,146.997 1234.98,147.293 \n",
       "  1236.87,147.59 1238.76,147.888 1240.66,148.186 1242.55,148.485 1244.44,148.785 1246.33,149.086 1248.22,149.387 1250.11,149.69 1252,149.993 1253.9,150.297 \n",
       "  1255.79,150.602 1257.68,150.907 1259.57,151.214 1261.46,151.521 1263.35,151.829 1265.24,152.138 1267.13,152.447 1269.03,152.758 1270.92,153.069 1272.81,153.381 \n",
       "  1274.7,153.694 1276.59,154.008 1278.48,154.323 1280.37,154.638 1282.26,154.955 1284.16,155.272 1286.05,155.59 1287.94,155.909 1289.83,156.229 1291.72,156.549 \n",
       "  1293.61,156.871 1295.5,157.193 1297.4,157.516 1299.29,157.84 1301.18,158.165 1303.07,158.491 1304.96,158.818 1306.85,159.145 1308.74,159.474 1310.63,159.803 \n",
       "  1312.53,160.133 1314.42,160.465 1316.31,160.797 1318.2,161.13 1320.09,161.464 1321.98,161.798 1323.87,162.134 1325.77,162.471 1327.66,162.808 1329.55,163.147 \n",
       "  1331.44,163.486 1333.33,163.826 1335.22,164.167 1337.11,164.51 1339,164.853 1340.9,165.197 1342.79,165.542 1344.68,165.888 1346.57,166.235 1348.46,166.582 \n",
       "  1350.35,166.931 1352.24,167.281 1354.14,167.632 1356.03,167.983 1357.92,168.336 1359.81,168.69 1361.7,169.044 1363.59,169.4 1365.48,169.757 1367.37,170.114 \n",
       "  1369.27,170.473 1371.16,170.833 1373.05,171.193 1374.94,171.555 1376.83,171.917 1378.72,172.281 1380.61,172.646 1382.51,173.012 1384.4,173.378 1386.29,173.746 \n",
       "  1388.18,174.115 1390.07,174.485 1391.96,174.856 1393.85,175.228 1395.74,175.601 1397.64,175.975 1399.53,176.35 1401.42,176.726 1403.31,177.103 1405.2,177.482 \n",
       "  1407.09,177.861 1408.98,178.242 1410.88,178.623 1412.77,179.006 1414.66,179.39 1416.55,179.775 1418.44,180.161 1420.33,180.548 1422.22,180.936 1424.11,181.325 \n",
       "  1426.01,181.716 1427.9,182.107 1429.79,182.5 1431.68,182.894 1433.57,183.289 1435.46,183.685 1437.35,184.083 1439.25,184.481 1441.14,184.881 1443.03,185.282 \n",
       "  1444.92,185.684 1446.81,186.087 1448.7,186.491 1450.59,186.897 1452.48,187.304 1454.38,187.712 1456.27,188.121 1458.16,188.531 1460.05,188.943 1461.94,189.356 \n",
       "  1463.83,189.77 1465.72,190.185 1467.62,190.602 1469.51,191.02 1471.4,191.439 1473.29,191.859 1475.18,192.281 1477.07,192.704 1478.96,193.128 1480.85,193.553 \n",
       "  1482.75,193.98 1484.64,194.408 1486.53,194.837 1488.42,195.268 1490.31,195.7 1492.2,196.133 1494.09,196.568 1495.98,197.004 1497.88,197.441 1499.77,197.88 \n",
       "  1501.66,198.32 1503.55,198.761 1505.44,199.204 1507.33,199.648 1509.22,200.093 1511.12,200.54 1513.01,200.988 1514.9,201.438 1516.79,201.889 1518.68,202.341 \n",
       "  1520.57,202.795 1522.46,203.25 1524.35,203.707 1526.25,204.165 1528.14,204.625 1530.03,205.086 1531.92,205.548 1533.81,206.012 1535.7,206.478 1537.59,206.945 \n",
       "  1539.49,207.413 1541.38,207.883 1543.27,208.354 1545.16,208.827 1547.05,209.302 1548.94,209.778 1550.83,210.255 1552.72,210.735 1554.62,211.215 1556.51,211.697 \n",
       "  1558.4,212.181 1560.29,212.667 1562.18,213.154 1564.07,213.642 1565.96,214.132 1567.86,214.624 1569.75,215.118 1571.64,215.613 1573.53,216.109 1575.42,216.608 \n",
       "  1577.31,217.108 1579.2,217.609 1581.09,218.113 1582.99,218.618 1584.88,219.124 1586.77,219.633 1588.66,220.143 1590.55,220.655 1592.44,221.168 1594.33,221.684 \n",
       "  1596.23,222.201 1598.12,222.72 1600.01,223.24 1601.9,223.763 1603.79,224.287 1605.68,224.813 1607.57,225.341 1609.46,225.87 1611.36,226.402 1613.25,226.935 \n",
       "  1615.14,227.471 1617.03,228.008 1618.92,228.547 1620.81,229.087 1622.7,229.63 1624.6,230.175 1626.49,230.721 1628.38,231.27 1630.27,231.82 1632.16,232.373 \n",
       "  1634.05,232.927 1635.94,233.483 1637.83,234.042 1639.73,234.602 1641.62,235.164 1643.51,235.729 1645.4,236.295 1647.29,236.864 1649.18,237.434 1651.07,238.007 \n",
       "  1652.97,238.582 1654.86,239.159 1656.75,239.738 1658.64,240.319 1660.53,240.902 1662.42,241.487 1664.31,242.075 1666.2,242.665 1668.1,243.257 1669.99,243.851 \n",
       "  1671.88,244.447 1673.77,245.046 1675.66,245.647 1677.55,246.25 1679.44,246.856 1681.33,247.464 1683.23,248.074 1685.12,248.686 1687.01,249.301 1688.9,249.918 \n",
       "  1690.79,250.538 1692.68,251.16 1694.57,251.784 1696.47,252.411 1698.36,253.04 1700.25,253.672 1702.14,254.306 1704.03,254.942 1705.92,255.582 1707.81,256.223 \n",
       "  1709.7,256.868 1711.6,257.514 1713.49,258.164 1715.38,258.816 1717.27,259.47 1719.16,260.128 1721.05,260.788 1722.94,261.45 1724.84,262.115 1726.73,262.783 \n",
       "  1728.62,263.454 1730.51,264.128 1732.4,264.804 1734.29,265.483 1736.18,266.165 1738.07,266.85 1739.97,267.537 1741.86,268.228 1743.75,268.921 1745.64,269.617 \n",
       "  1747.53,270.316 1749.42,271.018 1751.31,271.724 1753.21,272.432 1755.1,273.143 1756.99,273.857 1758.88,274.574 1760.77,275.295 1762.66,276.018 1764.55,276.745 \n",
       "  1766.44,277.475 1768.34,278.208 1770.23,278.944 1772.12,279.683 1774.01,280.426 1775.9,281.172 1777.79,281.921 1779.68,282.674 1781.58,283.43 1783.47,284.19 \n",
       "  1785.36,284.953 1787.25,285.719 1789.14,286.489 1791.03,287.262 1792.92,288.039 1794.81,288.82 1796.71,289.604 1798.6,290.392 1800.49,291.183 1802.38,291.978 \n",
       "  1804.27,292.777 1806.16,293.579 1808.05,294.386 1809.95,295.196 1811.84,296.01 1813.73,296.828 1815.62,297.65 1817.51,298.475 1819.4,299.305 1821.29,300.139 \n",
       "  1823.18,300.977 1825.08,301.819 1826.97,302.665 1828.86,303.515 1830.75,304.369 1832.64,305.228 1834.53,306.091 1836.42,306.958 1838.32,307.83 1840.21,308.706 \n",
       "  1842.1,309.586 1843.99,310.471 1845.88,311.36 1847.77,312.254 1849.66,313.153 1851.55,314.056 1853.45,314.964 1855.34,315.877 1857.23,316.794 1859.12,317.716 \n",
       "  1861.01,318.643 1862.9,319.575 1864.79,320.512 1866.68,321.454 1868.58,322.401 1870.47,323.354 1872.36,324.311 1874.25,325.273 1876.14,326.241 1878.03,327.214 \n",
       "  1879.92,328.193 1881.82,329.177 1883.71,330.166 1885.6,331.161 1887.49,332.162 1889.38,333.168 1891.27,334.18 1893.16,335.197 1895.05,336.221 1896.95,337.25 \n",
       "  1898.84,338.286 1900.73,339.327 1902.62,340.374 1904.51,341.428 1906.4,342.488 1908.29,343.554 1910.19,344.626 1912.08,345.705 1913.97,346.791 1915.86,347.883 \n",
       "  1917.75,348.981 1919.64,350.086 1921.53,351.198 1923.42,352.317 1925.32,353.443 1927.21,354.576 1929.1,355.716 1930.99,356.863 1932.88,358.018 1934.77,359.18 \n",
       "  1936.66,360.349 1938.56,361.526 1940.45,362.71 1942.34,363.902 1944.23,365.102 1946.12,366.31 1948.01,367.526 1949.9,368.75 1951.79,369.982 1953.69,371.223 \n",
       "  1955.58,372.472 1957.47,373.729 1959.36,374.995 1961.25,376.27 1963.14,377.554 1965.03,378.846 1966.93,380.148 1968.82,381.459 1970.71,382.779 1972.6,384.109 \n",
       "  1974.49,385.448 1976.38,386.797 1978.27,388.156 1980.16,389.524 1982.06,390.903 1983.95,392.292 1985.84,393.692 1987.73,395.102 1989.62,396.523 1991.51,397.954 \n",
       "  1993.4,399.397 1995.3,400.851 1997.19,402.316 1999.08,403.792 2000.97,405.28 2002.86,406.78 2004.75,408.292 2006.64,409.816 2008.53,411.353 2010.43,412.902 \n",
       "  2012.32,414.464 2014.21,416.039 2016.1,417.627 2017.99,419.228 2019.88,420.843 2021.77,422.472 2023.67,424.115 2025.56,425.772 2027.45,427.443 2029.34,429.129 \n",
       "  2031.23,430.83 2033.12,432.547 2035.01,434.279 2036.9,436.026 2038.8,437.79 2040.69,439.57 2042.58,441.367 2044.47,443.18 2046.36,445.011 2048.25,446.859 \n",
       "  2050.14,448.725 2052.03,450.609 2053.93,452.511 2055.82,454.433 2057.71,456.373 2059.6,458.333 2061.49,460.313 2063.38,462.314 2065.27,464.335 2067.17,466.377 \n",
       "  2069.06,468.441 2070.95,470.526 2072.84,472.634 2074.73,474.765 2076.62,476.92 2078.51,479.098 2080.4,481.301 2082.3,483.528 2084.19,485.781 2086.08,488.06 \n",
       "  2087.97,490.366 2089.86,492.699 2091.75,495.059 2093.64,497.448 2095.54,499.866 2097.43,502.314 2099.32,504.792 2101.21,507.302 2103.1,509.843 2104.99,512.418 \n",
       "  2106.88,515.025 2108.77,517.668 2110.67,520.345 2112.56,523.059 2114.45,525.81 2116.34,528.6 2118.23,531.428 2120.12,534.297 2122.01,537.207 2123.91,540.16 \n",
       "  2125.8,543.156 2127.69,546.197 2129.58,549.285 2131.47,552.421 2133.36,555.606 2135.25,558.841 2137.14,562.129 2139.04,565.47 2140.93,568.868 2142.82,572.322 \n",
       "  2144.71,575.836 2146.6,579.412 2148.49,583.051 2150.38,586.756 2152.28,590.528 2154.17,594.371 2156.06,598.288 2157.95,602.28 2159.84,606.35 2161.73,610.503 \n",
       "  2163.62,614.741 2165.51,619.067 2167.41,623.485 2169.3,627.999 2171.19,632.613 2173.08,637.332 2174.97,642.161 2176.86,647.103 2178.75,652.165 2180.65,657.353 \n",
       "  2182.54,662.673 2184.43,668.131 2186.32,673.734 2188.21,679.491 2190.1,685.409 2191.99,691.499 2193.88,697.769 2195.78,704.231 2197.67,710.897 2199.56,717.779 \n",
       "  2201.45,724.891 2203.34,732.25 2205.23,739.873 2207.12,747.778 2209.02,755.987 2210.91,764.524 2212.8,773.417 2214.69,782.694 2216.58,792.391 2218.47,802.546 \n",
       "  2220.36,813.204 2222.25,824.417 2224.15,836.245 2226.04,848.758 2227.93,862.04 2229.82,876.189 2231.71,891.326 2233.6,907.597 2235.49,925.184 2237.38,944.316 \n",
       "  2239.28,965.289 2241.17,988.49 2243.06,1014.45 2244.95,1043.89 2246.84,1077.91 2248.73,1118.18 2250.62,1167.5 2252.52,1231.14 2254.41,1320.9 2256.3,1474.46 \n",
       "  \n",
       "  \"/>\n",
       "<circle clip-path=\"url(#clip472)\" cx=\"366.863\" cy=\"70.0436\" r=\"14.4\" fill=\"#ff0000\" fill-rule=\"evenodd\" fill-opacity=\"1\" stroke=\"#000000\" stroke-opacity=\"1\" stroke-width=\"3.2\"/>\n",
       "<polyline clip-path=\"url(#clip472)\" style=\"stroke:#0000ff; stroke-linecap:round; stroke-linejoin:round; stroke-width:4; stroke-opacity:1; fill:none\" stroke-dasharray=\"16, 10\" points=\"\n",
       "  366.863,1423.18 366.863,79.2073 \n",
       "  \"/>\n",
       "<polyline clip-path=\"url(#clip472)\" style=\"stroke:#0000ff; stroke-linecap:round; stroke-linejoin:round; stroke-width:4; stroke-opacity:1; fill:none\" stroke-dasharray=\"16, 10\" points=\"\n",
       "  272.297,79.2073 366.863,79.2073 \n",
       "  \"/>\n",
       "<polyline clip-path=\"url(#clip472)\" style=\"stroke:#ff0000; stroke-linecap:round; stroke-linejoin:round; stroke-width:4; stroke-opacity:1; fill:none\" stroke-dasharray=\"16, 10\" points=\"\n",
       "  366.863,1423.18 366.863,70.0436 \n",
       "  \"/>\n",
       "<polyline clip-path=\"url(#clip472)\" style=\"stroke:#ff0000; stroke-linecap:round; stroke-linejoin:round; stroke-width:4; stroke-opacity:1; fill:none\" stroke-dasharray=\"16, 10\" points=\"\n",
       "  272.297,70.0436 366.863,70.0436 \n",
       "  \"/>\n",
       "<path clip-path=\"url(#clip470)\" d=\"\n",
       "M341.645 1377.32 L807.19 1377.32 L807.19 1118.12 L341.645 1118.12  Z\n",
       "  \" fill=\"#ffffff\" fill-rule=\"evenodd\" fill-opacity=\"1\"/>\n",
       "<polyline clip-path=\"url(#clip470)\" style=\"stroke:#000000; stroke-linecap:round; stroke-linejoin:round; stroke-width:4; stroke-opacity:1; fill:none\" points=\"\n",
       "  341.645,1377.32 807.19,1377.32 807.19,1118.12 341.645,1118.12 341.645,1377.32 \n",
       "  \"/>\n",
       "<polyline clip-path=\"url(#clip470)\" style=\"stroke:#0000ff; stroke-linecap:round; stroke-linejoin:round; stroke-width:4; stroke-opacity:1; fill:none\" points=\"\n",
       "  364.761,1169.96 503.459,1169.96 \n",
       "  \"/>\n",
       "<path clip-path=\"url(#clip470)\" d=\"M526.575 1152.68 L532.871 1152.68 L548.195 1181.59 L548.195 1152.68 L552.732 1152.68 L552.732 1187.24 L546.436 1187.24 L531.112 1158.32 L531.112 1187.24 L526.575 1187.24 L526.575 1152.68 Z\" fill=\"#000000\" fill-rule=\"evenodd\" fill-opacity=\"1\" /><path clip-path=\"url(#clip470)\" d=\"M561.413 1177 L561.413 1161.31 L565.672 1161.31 L565.672 1176.84 Q565.672 1180.52 567.107 1182.37 Q568.542 1184.2 571.413 1184.2 Q574.862 1184.2 576.852 1182 Q578.866 1179.8 578.866 1176.01 L578.866 1161.31 L583.126 1161.31 L583.126 1187.24 L578.866 1187.24 L578.866 1183.25 Q577.315 1185.61 575.255 1186.77 Q573.218 1187.91 570.51 1187.91 Q566.042 1187.91 563.727 1185.13 Q561.413 1182.35 561.413 1177 M572.13 1160.68 L572.13 1160.68 Z\" fill=\"#000000\" fill-rule=\"evenodd\" fill-opacity=\"1\" /><path clip-path=\"url(#clip470)\" d=\"M591.899 1151.22 L596.158 1151.22 L596.158 1187.24 L591.899 1187.24 L591.899 1151.22 Z\" fill=\"#000000\" fill-rule=\"evenodd\" fill-opacity=\"1\" /><path clip-path=\"url(#clip470)\" d=\"M605.07 1151.22 L609.329 1151.22 L609.329 1187.24 L605.07 1187.24 L605.07 1151.22 Z\" fill=\"#000000\" fill-rule=\"evenodd\" fill-opacity=\"1\" /><circle clip-path=\"url(#clip470)\" cx=\"434.11\" cy=\"1221.8\" r=\"23.04\" fill=\"#0000ff\" fill-rule=\"evenodd\" fill-opacity=\"1\" stroke=\"#000000\" stroke-opacity=\"1\" stroke-width=\"5.12\"/>\n",
       "<path clip-path=\"url(#clip470)\" d=\"M546.922 1218.13 Q548.519 1215.26 550.741 1213.89 Q552.964 1212.52 555.973 1212.52 Q560.024 1212.52 562.223 1215.37 Q564.422 1218.2 564.422 1223.43 L564.422 1239.08 L560.14 1239.08 L560.14 1223.57 Q560.14 1219.84 558.82 1218.03 Q557.501 1216.23 554.792 1216.23 Q551.482 1216.23 549.561 1218.43 Q547.64 1220.63 547.64 1224.42 L547.64 1239.08 L543.357 1239.08 L543.357 1223.57 Q543.357 1219.82 542.038 1218.03 Q540.718 1216.23 537.964 1216.23 Q534.7 1216.23 532.779 1218.45 Q530.857 1220.65 530.857 1224.42 L530.857 1239.08 L526.575 1239.08 L526.575 1213.15 L530.857 1213.15 L530.857 1217.18 Q532.316 1214.79 534.353 1213.66 Q536.39 1212.52 539.191 1212.52 Q542.015 1212.52 543.982 1213.96 Q545.973 1215.39 546.922 1218.13 Z\" fill=\"#000000\" fill-rule=\"evenodd\" fill-opacity=\"1\" /><path clip-path=\"url(#clip470)\" d=\"M584.7 1226.04 Q579.538 1226.04 577.547 1227.22 Q575.556 1228.4 575.556 1231.25 Q575.556 1233.52 577.038 1234.86 Q578.542 1236.18 581.112 1236.18 Q584.653 1236.18 586.783 1233.68 Q588.936 1231.16 588.936 1226.99 L588.936 1226.04 L584.7 1226.04 M593.195 1224.28 L593.195 1239.08 L588.936 1239.08 L588.936 1235.14 Q587.477 1237.5 585.301 1238.64 Q583.126 1239.75 579.977 1239.75 Q575.996 1239.75 573.635 1237.52 Q571.297 1235.28 571.297 1231.53 Q571.297 1227.15 574.214 1224.93 Q577.153 1222.71 582.963 1222.71 L588.936 1222.71 L588.936 1222.29 Q588.936 1219.35 586.991 1217.76 Q585.07 1216.14 581.575 1216.14 Q579.352 1216.14 577.246 1216.67 Q575.139 1217.2 573.195 1218.27 L573.195 1214.33 Q575.533 1213.43 577.732 1212.99 Q579.931 1212.52 582.014 1212.52 Q587.639 1212.52 590.417 1215.44 Q593.195 1218.36 593.195 1224.28 Z\" fill=\"#000000\" fill-rule=\"evenodd\" fill-opacity=\"1\" /><path clip-path=\"url(#clip470)\" d=\"M623.519 1213.15 L614.144 1225.77 L624.005 1239.08 L618.982 1239.08 L611.436 1228.89 L603.889 1239.08 L598.866 1239.08 L608.936 1225.51 L599.723 1213.15 L604.746 1213.15 L611.621 1222.39 L618.496 1213.15 L623.519 1213.15 Z\" fill=\"#000000\" fill-rule=\"evenodd\" fill-opacity=\"1\" /><path clip-path=\"url(#clip470)\" d=\"M630.209 1204.52 L634.885 1204.52 L634.885 1235.14 L651.713 1235.14 L651.713 1239.08 L630.209 1239.08 L630.209 1204.52 Z\" fill=\"#000000\" fill-rule=\"evenodd\" fill-opacity=\"1\" /><path clip-path=\"url(#clip470)\" d=\"M656.621 1204.52 L661.296 1204.52 L661.296 1235.14 L678.125 1235.14 L678.125 1239.08 L656.621 1239.08 L656.621 1204.52 Z\" fill=\"#000000\" fill-rule=\"evenodd\" fill-opacity=\"1\" /><path clip-path=\"url(#clip470)\" d=\"M702.546 1246.95 L702.546 1250.26 L677.917 1250.26 L677.917 1246.95 L702.546 1246.95 Z\" fill=\"#000000\" fill-rule=\"evenodd\" fill-opacity=\"1\" /><path clip-path=\"url(#clip470)\" d=\"M728.102 1223.43 L728.102 1239.08 L723.842 1239.08 L723.842 1223.57 Q723.842 1219.89 722.407 1218.06 Q720.972 1216.23 718.102 1216.23 Q714.653 1216.23 712.662 1218.43 Q710.671 1220.63 710.671 1224.42 L710.671 1239.08 L706.389 1239.08 L706.389 1213.15 L710.671 1213.15 L710.671 1217.18 Q712.199 1214.84 714.259 1213.68 Q716.342 1212.52 719.051 1212.52 Q723.518 1212.52 725.81 1215.3 Q728.102 1218.06 728.102 1223.43 Z\" fill=\"#000000\" fill-rule=\"evenodd\" fill-opacity=\"1\" /><path clip-path=\"url(#clip470)\" d=\"M736.157 1228.84 L736.157 1213.15 L740.416 1213.15 L740.416 1228.68 Q740.416 1232.36 741.852 1234.21 Q743.287 1236.04 746.157 1236.04 Q749.606 1236.04 751.597 1233.84 Q753.611 1231.64 753.611 1227.85 L753.611 1213.15 L757.87 1213.15 L757.87 1239.08 L753.611 1239.08 L753.611 1235.09 Q752.06 1237.45 750 1238.61 Q747.963 1239.75 745.254 1239.75 Q740.787 1239.75 738.472 1236.97 Q736.157 1234.19 736.157 1228.84 M746.875 1212.52 L746.875 1212.52 Z\" fill=\"#000000\" fill-rule=\"evenodd\" fill-opacity=\"1\" /><path clip-path=\"url(#clip470)\" d=\"M766.643 1203.06 L770.902 1203.06 L770.902 1239.08 L766.643 1239.08 L766.643 1203.06 Z\" fill=\"#000000\" fill-rule=\"evenodd\" fill-opacity=\"1\" /><path clip-path=\"url(#clip470)\" d=\"M779.814 1203.06 L784.074 1203.06 L784.074 1239.08 L779.814 1239.08 L779.814 1203.06 Z\" fill=\"#000000\" fill-rule=\"evenodd\" fill-opacity=\"1\" /><polyline clip-path=\"url(#clip470)\" style=\"stroke:#ff0000; stroke-linecap:round; stroke-linejoin:round; stroke-width:4; stroke-opacity:1; fill:none\" points=\"\n",
       "  364.761,1273.64 503.459,1273.64 \n",
       "  \"/>\n",
       "<path clip-path=\"url(#clip470)\" d=\"M542.408 1260.96 L536.066 1278.16 L548.774 1278.16 L542.408 1260.96 M539.769 1256.36 L545.07 1256.36 L558.241 1290.92 L553.38 1290.92 L550.232 1282.05 L534.654 1282.05 L531.505 1290.92 L526.575 1290.92 L539.769 1256.36 Z\" fill=\"#000000\" fill-rule=\"evenodd\" fill-opacity=\"1\" /><path clip-path=\"url(#clip470)\" d=\"M563.102 1254.9 L567.362 1254.9 L567.362 1290.92 L563.102 1290.92 L563.102 1254.9 Z\" fill=\"#000000\" fill-rule=\"evenodd\" fill-opacity=\"1\" /><path clip-path=\"url(#clip470)\" d=\"M580.487 1257.63 L580.487 1264.99 L589.26 1264.99 L589.26 1268.3 L580.487 1268.3 L580.487 1282.37 Q580.487 1285.54 581.343 1286.45 Q582.223 1287.35 584.885 1287.35 L589.26 1287.35 L589.26 1290.92 L584.885 1290.92 Q579.954 1290.92 578.079 1289.09 Q576.204 1287.23 576.204 1282.37 L576.204 1268.3 L573.079 1268.3 L573.079 1264.99 L576.204 1264.99 L576.204 1257.63 L580.487 1257.63 Z\" fill=\"#000000\" fill-rule=\"evenodd\" fill-opacity=\"1\" /><path clip-path=\"url(#clip470)\" d=\"M614.561 1298.79 L614.561 1302.1 L589.931 1302.1 L589.931 1298.79 L614.561 1298.79 Z\" fill=\"#000000\" fill-rule=\"evenodd\" fill-opacity=\"1\" /><path clip-path=\"url(#clip470)\" d=\"M633.334 1272.28 Q636.69 1273 638.565 1275.27 Q640.463 1277.54 640.463 1280.87 Q640.463 1285.98 636.945 1288.79 Q633.426 1291.59 626.945 1291.59 Q624.769 1291.59 622.454 1291.15 Q620.162 1290.73 617.709 1289.87 L617.709 1285.36 Q619.653 1286.49 621.968 1287.07 Q624.283 1287.65 626.806 1287.65 Q631.204 1287.65 633.496 1285.92 Q635.81 1284.18 635.81 1280.87 Q635.81 1277.81 633.658 1276.1 Q631.528 1274.36 627.709 1274.36 L623.681 1274.36 L623.681 1270.52 L627.894 1270.52 Q631.343 1270.52 633.172 1269.16 Q635 1267.77 635 1265.17 Q635 1262.51 633.102 1261.1 Q631.227 1259.67 627.709 1259.67 Q625.787 1259.67 623.588 1260.08 Q621.389 1260.5 618.75 1261.38 L618.75 1257.21 Q621.412 1256.47 623.727 1256.1 Q626.065 1255.73 628.125 1255.73 Q633.449 1255.73 636.551 1258.16 Q639.653 1260.57 639.653 1264.69 Q639.653 1267.56 638.009 1269.55 Q636.366 1271.52 633.334 1272.28 Z\" fill=\"#000000\" fill-rule=\"evenodd\" fill-opacity=\"1\" /><circle clip-path=\"url(#clip470)\" cx=\"434.11\" cy=\"1325.48\" r=\"23.04\" fill=\"#ff0000\" fill-rule=\"evenodd\" fill-opacity=\"1\" stroke=\"#000000\" stroke-opacity=\"1\" stroke-width=\"5.12\"/>\n",
       "<path clip-path=\"url(#clip470)\" d=\"M546.922 1321.81 Q548.519 1318.94 550.741 1317.57 Q552.964 1316.2 555.973 1316.2 Q560.024 1316.2 562.223 1319.05 Q564.422 1321.88 564.422 1327.11 L564.422 1342.76 L560.14 1342.76 L560.14 1327.25 Q560.14 1323.52 558.82 1321.71 Q557.501 1319.91 554.792 1319.91 Q551.482 1319.91 549.561 1322.11 Q547.64 1324.31 547.64 1328.1 L547.64 1342.76 L543.357 1342.76 L543.357 1327.25 Q543.357 1323.5 542.038 1321.71 Q540.718 1319.91 537.964 1319.91 Q534.7 1319.91 532.779 1322.13 Q530.857 1324.33 530.857 1328.1 L530.857 1342.76 L526.575 1342.76 L526.575 1316.83 L530.857 1316.83 L530.857 1320.86 Q532.316 1318.47 534.353 1317.34 Q536.39 1316.2 539.191 1316.2 Q542.015 1316.2 543.982 1317.64 Q545.973 1319.07 546.922 1321.81 Z\" fill=\"#000000\" fill-rule=\"evenodd\" fill-opacity=\"1\" /><path clip-path=\"url(#clip470)\" d=\"M584.7 1329.72 Q579.538 1329.72 577.547 1330.9 Q575.556 1332.08 575.556 1334.93 Q575.556 1337.2 577.038 1338.54 Q578.542 1339.86 581.112 1339.86 Q584.653 1339.86 586.783 1337.36 Q588.936 1334.84 588.936 1330.67 L588.936 1329.72 L584.7 1329.72 M593.195 1327.96 L593.195 1342.76 L588.936 1342.76 L588.936 1338.82 Q587.477 1341.18 585.301 1342.32 Q583.126 1343.43 579.977 1343.43 Q575.996 1343.43 573.635 1341.2 Q571.297 1338.96 571.297 1335.21 Q571.297 1330.83 574.214 1328.61 Q577.153 1326.39 582.963 1326.39 L588.936 1326.39 L588.936 1325.97 Q588.936 1323.03 586.991 1321.44 Q585.07 1319.82 581.575 1319.82 Q579.352 1319.82 577.246 1320.35 Q575.139 1320.88 573.195 1321.95 L573.195 1318.01 Q575.533 1317.11 577.732 1316.67 Q579.931 1316.2 582.014 1316.2 Q587.639 1316.2 590.417 1319.12 Q593.195 1322.04 593.195 1327.96 Z\" fill=\"#000000\" fill-rule=\"evenodd\" fill-opacity=\"1\" /><path clip-path=\"url(#clip470)\" d=\"M623.519 1316.83 L614.144 1329.45 L624.005 1342.76 L618.982 1342.76 L611.436 1332.57 L603.889 1342.76 L598.866 1342.76 L608.936 1329.19 L599.723 1316.83 L604.746 1316.83 L611.621 1326.07 L618.496 1316.83 L623.519 1316.83 Z\" fill=\"#000000\" fill-rule=\"evenodd\" fill-opacity=\"1\" /><path clip-path=\"url(#clip470)\" d=\"M630.209 1308.2 L634.885 1308.2 L634.885 1338.82 L651.713 1338.82 L651.713 1342.76 L630.209 1342.76 L630.209 1308.2 Z\" fill=\"#000000\" fill-rule=\"evenodd\" fill-opacity=\"1\" /><path clip-path=\"url(#clip470)\" d=\"M656.621 1308.2 L661.296 1308.2 L661.296 1338.82 L678.125 1338.82 L678.125 1342.76 L656.621 1342.76 L656.621 1308.2 Z\" fill=\"#000000\" fill-rule=\"evenodd\" fill-opacity=\"1\" /><path clip-path=\"url(#clip470)\" d=\"M702.546 1350.63 L702.546 1353.94 L677.917 1353.94 L677.917 1350.63 L702.546 1350.63 Z\" fill=\"#000000\" fill-rule=\"evenodd\" fill-opacity=\"1\" /><path clip-path=\"url(#clip470)\" d=\"M718.333 1329.72 Q713.171 1329.72 711.18 1330.9 Q709.19 1332.08 709.19 1334.93 Q709.19 1337.2 710.671 1338.54 Q712.176 1339.86 714.745 1339.86 Q718.287 1339.86 720.416 1337.36 Q722.569 1334.84 722.569 1330.67 L722.569 1329.72 L718.333 1329.72 M726.828 1327.96 L726.828 1342.76 L722.569 1342.76 L722.569 1338.82 Q721.111 1341.18 718.935 1342.32 Q716.759 1343.43 713.611 1343.43 Q709.629 1343.43 707.268 1341.2 Q704.93 1338.96 704.93 1335.21 Q704.93 1330.83 707.847 1328.61 Q710.787 1326.39 716.597 1326.39 L722.569 1326.39 L722.569 1325.97 Q722.569 1323.03 720.625 1321.44 Q718.704 1319.82 715.208 1319.82 Q712.986 1319.82 710.879 1320.35 Q708.773 1320.88 706.829 1321.95 L706.829 1318.01 Q709.167 1317.11 711.366 1316.67 Q713.565 1316.2 715.648 1316.2 Q721.273 1316.2 724.051 1319.12 Q726.828 1322.04 726.828 1327.96 Z\" fill=\"#000000\" fill-rule=\"evenodd\" fill-opacity=\"1\" /><path clip-path=\"url(#clip470)\" d=\"M735.602 1306.74 L739.861 1306.74 L739.861 1342.76 L735.602 1342.76 L735.602 1306.74 Z\" fill=\"#000000\" fill-rule=\"evenodd\" fill-opacity=\"1\" /><path clip-path=\"url(#clip470)\" d=\"M752.986 1309.47 L752.986 1316.83 L761.759 1316.83 L761.759 1320.14 L752.986 1320.14 L752.986 1334.21 Q752.986 1337.38 753.842 1338.29 Q754.722 1339.19 757.384 1339.19 L761.759 1339.19 L761.759 1342.76 L757.384 1342.76 Q752.453 1342.76 750.578 1340.93 Q748.703 1339.07 748.703 1334.21 L748.703 1320.14 L745.578 1320.14 L745.578 1316.83 L748.703 1316.83 L748.703 1309.47 L752.986 1309.47 Z\" fill=\"#000000\" fill-rule=\"evenodd\" fill-opacity=\"1\" /><path clip-path=\"url(#clip470)\" d=\"M344.247 1408.98 Q340.636 1408.98 338.807 1412.54 Q337.002 1416.08 337.002 1423.21 Q337.002 1430.32 338.807 1433.89 Q340.636 1437.43 344.247 1437.43 Q347.881 1437.43 349.687 1433.89 Q351.516 1430.32 351.516 1423.21 Q351.516 1416.08 349.687 1412.54 Q347.881 1408.98 344.247 1408.98 M344.247 1405.27 Q350.057 1405.27 353.113 1409.88 Q356.192 1414.46 356.192 1423.21 Q356.192 1431.94 353.113 1436.55 Q350.057 1441.13 344.247 1441.13 Q338.437 1441.13 335.358 1436.55 Q332.303 1431.94 332.303 1423.21 Q332.303 1414.46 335.358 1409.88 Q338.437 1405.27 344.247 1405.27 Z\" fill=\"#0000ff\" fill-rule=\"evenodd\" fill-opacity=\"1\" /><path clip-path=\"url(#clip470)\" d=\"M364.409 1434.58 L369.293 1434.58 L369.293 1440.46 L364.409 1440.46 L364.409 1434.58 Z\" fill=\"#0000ff\" fill-rule=\"evenodd\" fill-opacity=\"1\" /><path clip-path=\"url(#clip470)\" d=\"M389.478 1408.98 Q385.867 1408.98 384.039 1412.54 Q382.233 1416.08 382.233 1423.21 Q382.233 1430.32 384.039 1433.89 Q385.867 1437.43 389.478 1437.43 Q393.113 1437.43 394.918 1433.89 Q396.747 1430.32 396.747 1423.21 Q396.747 1416.08 394.918 1412.54 Q393.113 1408.98 389.478 1408.98 M389.478 1405.27 Q395.289 1405.27 398.344 1409.88 Q401.423 1414.46 401.423 1423.21 Q401.423 1431.94 398.344 1436.55 Q395.289 1441.13 389.478 1441.13 Q383.668 1441.13 380.59 1436.55 Q377.534 1431.94 377.534 1423.21 Q377.534 1414.46 380.59 1409.88 Q383.668 1405.27 389.478 1405.27 Z\" fill=\"#0000ff\" fill-rule=\"evenodd\" fill-opacity=\"1\" /><path clip-path=\"url(#clip470)\" d=\"M344.247 1408.98 Q340.636 1408.98 338.807 1412.54 Q337.002 1416.08 337.002 1423.21 Q337.002 1430.32 338.807 1433.89 Q340.636 1437.43 344.247 1437.43 Q347.881 1437.43 349.687 1433.89 Q351.516 1430.32 351.516 1423.21 Q351.516 1416.08 349.687 1412.54 Q347.881 1408.98 344.247 1408.98 M344.247 1405.27 Q350.057 1405.27 353.113 1409.88 Q356.192 1414.46 356.192 1423.21 Q356.192 1431.94 353.113 1436.55 Q350.057 1441.13 344.247 1441.13 Q338.437 1441.13 335.358 1436.55 Q332.303 1431.94 332.303 1423.21 Q332.303 1414.46 335.358 1409.88 Q338.437 1405.27 344.247 1405.27 Z\" fill=\"#ff0000\" fill-rule=\"evenodd\" fill-opacity=\"1\" /><path clip-path=\"url(#clip470)\" d=\"M364.409 1434.58 L369.293 1434.58 L369.293 1440.46 L364.409 1440.46 L364.409 1434.58 Z\" fill=\"#ff0000\" fill-rule=\"evenodd\" fill-opacity=\"1\" /><path clip-path=\"url(#clip470)\" d=\"M389.478 1408.98 Q385.867 1408.98 384.039 1412.54 Q382.233 1416.08 382.233 1423.21 Q382.233 1430.32 384.039 1433.89 Q385.867 1437.43 389.478 1437.43 Q393.113 1437.43 394.918 1433.89 Q396.747 1430.32 396.747 1423.21 Q396.747 1416.08 394.918 1412.54 Q393.113 1408.98 389.478 1408.98 M389.478 1405.27 Q395.289 1405.27 398.344 1409.88 Q401.423 1414.46 401.423 1423.21 Q401.423 1431.94 398.344 1436.55 Q395.289 1441.13 389.478 1441.13 Q383.668 1441.13 380.59 1436.55 Q377.534 1431.94 377.534 1423.21 Q377.534 1414.46 380.59 1409.88 Q383.668 1405.27 389.478 1405.27 Z\" fill=\"#ff0000\" fill-rule=\"evenodd\" fill-opacity=\"1\" /></svg>\n"
      ]
     },
     "metadata": {},
     "output_type": "display_data"
    },
    {
     "name": "stdout",
     "output_type": "stream",
     "text": [
      " 26.482775 seconds (70.93 M allocations: 4.021 GiB, 4.82% gc time, 97.59% compilation time)\n"
     ]
    }
   ],
   "source": [
    "@time scan_results_ind = scan(lpst_ind_y, geno_ind, kinship_ind_from_strains;\n",
    "                              prior_variance = prior[1], prior_sample_size = prior[2],\n",
    "                              plot_loglik = true, markerID = 3, h2_grid = collect(0.0:999).*0.001,\n",
    "                              x_lims = [0.0, 1.0], y_lims = [-275, -120.0]);"
   ]
  },
  {
   "cell_type": "code",
   "execution_count": 140,
   "id": "b2dcd33a-1d17-466f-98d5-2d13cba44825",
   "metadata": {},
   "outputs": [],
   "source": [
    "BLAS.set_num_threads(Threads.nthreads())"
   ]
  },
  {
   "cell_type": "code",
   "execution_count": 141,
   "id": "8e2671d3-bfc1-4541-b841-6a178b77a950",
   "metadata": {},
   "outputs": [
    {
     "data": {
      "text/plain": [
       "16"
      ]
     },
     "execution_count": 141,
     "metadata": {},
     "output_type": "execute_result"
    }
   ],
   "source": [
    "BLAS.get_num_threads()"
   ]
  },
  {
   "cell_type": "code",
   "execution_count": 142,
   "id": "b44968a6-e24e-46bc-99c1-c5f5a8599e96",
   "metadata": {},
   "outputs": [
    {
     "name": "stdout",
     "output_type": "stream",
     "text": [
      " 13.442810 seconds (11.82 M allocations: 14.368 GiB, 7.57% gc time, 0.21% compilation time)\n"
     ]
    }
   ],
   "source": [
    "@time scan_results_ind_alt = scan(lpst_ind_y, geno_ind, kinship_ind_from_strains;\n",
    "                                  assumption = \"alt\", \n",
    "                                  prior_variance = prior[1], prior_sample_size = prior[2]);"
   ]
  },
  {
   "cell_type": "code",
   "execution_count": 143,
   "id": "4eb97040-9b9d-4b6a-b8c1-b497f16cd24b",
   "metadata": {},
   "outputs": [
    {
     "name": "stdout",
     "output_type": "stream",
     "text": [
      "  0.957237 seconds (2.04 M allocations: 268.149 MiB, 4.68% gc time, 89.77% compilation time)\n"
     ]
    }
   ],
   "source": [
    "@time scan_perms_results_ind = scan(lpst_ind_y, geno_ind, kinship_ind_from_strains;\n",
    "                                    prior_variance = prior[1], prior_sample_size = prior[2],\n",
    "                                    permutation_test = true, nperms = 1000, original = true);"
   ]
  },
  {
   "cell_type": "code",
   "execution_count": 144,
   "id": "e4f465be-68de-4c22-bdf7-a06d4729a66f",
   "metadata": {},
   "outputs": [],
   "source": [
    "max_lods = vec(mapslices(x -> maximum(x), scan_perms_results_ind; dims = 1));"
   ]
  },
  {
   "cell_type": "code",
   "execution_count": 145,
   "id": "1a3a0594-dd3d-4f8d-b824-b88ec344a287",
   "metadata": {},
   "outputs": [],
   "source": [
    "thrs = map(x -> quantile(max_lods, x), [0.85, 0.95]);"
   ]
  },
  {
   "cell_type": "code",
   "execution_count": 146,
   "id": "4046cb16-e0ef-401f-b242-20442e5fba8e",
   "metadata": {},
   "outputs": [
    {
     "data": {
      "text/plain": [
       "29437"
      ]
     },
     "execution_count": 146,
     "metadata": {},
     "output_type": "execute_result"
    }
   ],
   "source": [
    "lp_id"
   ]
  },
  {
   "cell_type": "code",
   "execution_count": 147,
   "id": "9a166cc0-58ee-41ca-a84b-b22939bd5669",
   "metadata": {},
   "outputs": [
    {
     "data": {
      "text/plain": [
       "0.0"
      ]
     },
     "execution_count": 147,
     "metadata": {},
     "output_type": "execute_result"
    }
   ],
   "source": [
    "mean(scan_perms_results_ind[:, 1] .> 2.94)"
   ]
  },
  {
   "cell_type": "code",
   "execution_count": 148,
   "id": "a5b86474-94e4-4794-8184-dbbab2956548",
   "metadata": {},
   "outputs": [
    {
     "data": {
      "text/plain": [
       "2-element Vector{Float64}:\n",
       " 2.896638126422173\n",
       " 3.4268718725428533"
      ]
     },
     "execution_count": 148,
     "metadata": {},
     "output_type": "execute_result"
    }
   ],
   "source": [
    "thrs"
   ]
  },
  {
   "cell_type": "code",
   "execution_count": 149,
   "id": "703432c5-882d-4ec7-a9b9-818c1ed4b08e",
   "metadata": {},
   "outputs": [],
   "source": [
    "single_results_ind = DataFrame(hcat(scan_results_ind.lod, scan_results_ind_alt.lod, scan_perms_results_ind[:, 1]), [\"scan_null\", \"scan_alt\", \"scan_perms.original\"]);"
   ]
  },
  {
   "cell_type": "code",
   "execution_count": 150,
   "id": "1003eae2-dd56-42dd-9da9-5a218b38e37b",
   "metadata": {},
   "outputs": [
    {
     "data": {
      "text/html": [
       "<div><div style = \"float: left;\"><span>6×3 DataFrame</span></div><div style = \"clear: both;\"></div></div><div class = \"data-frame\" style = \"overflow-x: scroll;\"><table class = \"data-frame\" style = \"margin-bottom: 6px;\"><thead><tr class = \"header\"><th class = \"rowNumber\" style = \"font-weight: bold; text-align: right;\">Row</th><th style = \"text-align: left;\">scan_null</th><th style = \"text-align: left;\">scan_alt</th><th style = \"text-align: left;\">scan_perms.original</th></tr><tr class = \"subheader headerLastRow\"><th class = \"rowNumber\" style = \"font-weight: bold; text-align: right;\"></th><th title = \"Float64\" style = \"text-align: left;\">Float64</th><th title = \"Float64\" style = \"text-align: left;\">Float64</th><th title = \"Float64\" style = \"text-align: left;\">Float64</th></tr></thead><tbody><tr><td class = \"rowNumber\" style = \"font-weight: bold; text-align: right;\">1</td><td style = \"text-align: right;\">0.44861</td><td style = \"text-align: right;\">0.448609</td><td style = \"text-align: right;\">0.44861</td></tr><tr><td class = \"rowNumber\" style = \"font-weight: bold; text-align: right;\">2</td><td style = \"text-align: right;\">0.44861</td><td style = \"text-align: right;\">0.448609</td><td style = \"text-align: right;\">0.44861</td></tr><tr><td class = \"rowNumber\" style = \"font-weight: bold; text-align: right;\">3</td><td style = \"text-align: right;\">0.44861</td><td style = \"text-align: right;\">0.448609</td><td style = \"text-align: right;\">0.44861</td></tr><tr><td class = \"rowNumber\" style = \"font-weight: bold; text-align: right;\">4</td><td style = \"text-align: right;\">0.44861</td><td style = \"text-align: right;\">0.448609</td><td style = \"text-align: right;\">0.44861</td></tr><tr><td class = \"rowNumber\" style = \"font-weight: bold; text-align: right;\">5</td><td style = \"text-align: right;\">0.44861</td><td style = \"text-align: right;\">0.448609</td><td style = \"text-align: right;\">0.44861</td></tr><tr><td class = \"rowNumber\" style = \"font-weight: bold; text-align: right;\">6</td><td style = \"text-align: right;\">0.44861</td><td style = \"text-align: right;\">0.448609</td><td style = \"text-align: right;\">0.44861</td></tr></tbody></table></div>"
      ],
      "text/latex": [
       "\\begin{tabular}{r|ccc}\n",
       "\t& scan\\_null & scan\\_alt & scan\\_perms.original\\\\\n",
       "\t\\hline\n",
       "\t& Float64 & Float64 & Float64\\\\\n",
       "\t\\hline\n",
       "\t1 & 0.44861 & 0.448609 & 0.44861 \\\\\n",
       "\t2 & 0.44861 & 0.448609 & 0.44861 \\\\\n",
       "\t3 & 0.44861 & 0.448609 & 0.44861 \\\\\n",
       "\t4 & 0.44861 & 0.448609 & 0.44861 \\\\\n",
       "\t5 & 0.44861 & 0.448609 & 0.44861 \\\\\n",
       "\t6 & 0.44861 & 0.448609 & 0.44861 \\\\\n",
       "\\end{tabular}\n"
      ],
      "text/plain": [
       "\u001b[1m6×3 DataFrame\u001b[0m\n",
       "\u001b[1m Row \u001b[0m│\u001b[1m scan_null \u001b[0m\u001b[1m scan_alt \u001b[0m\u001b[1m scan_perms.original \u001b[0m\n",
       "     │\u001b[90m Float64   \u001b[0m\u001b[90m Float64  \u001b[0m\u001b[90m Float64             \u001b[0m\n",
       "─────┼──────────────────────────────────────────\n",
       "   1 │   0.44861  0.448609              0.44861\n",
       "   2 │   0.44861  0.448609              0.44861\n",
       "   3 │   0.44861  0.448609              0.44861\n",
       "   4 │   0.44861  0.448609              0.44861\n",
       "   5 │   0.44861  0.448609              0.44861\n",
       "   6 │   0.44861  0.448609              0.44861"
      ]
     },
     "execution_count": 150,
     "metadata": {},
     "output_type": "execute_result"
    }
   ],
   "source": [
    "single_results_ind[1:6, :]"
   ]
  },
  {
   "cell_type": "markdown",
   "id": "02074d3d-dfce-4b1d-a559-e03508615ca3",
   "metadata": {},
   "source": [
    "#### For liver proteome means by strains"
   ]
  },
  {
   "cell_type": "code",
   "execution_count": 151,
   "id": "4b51bafb-a1de-41c5-9f0d-b708b4972cdb",
   "metadata": {},
   "outputs": [],
   "source": [
    "lp_strains_Y = Matrix{Float64}(BXD_pheno_strains_summary_df[:, 3:end]);\n",
    "lp_strains_y = reshape(lp_strains_Y[:, lp_id], :, 1);"
   ]
  },
  {
   "cell_type": "code",
   "execution_count": 152,
   "id": "3fb63f6a-afd6-470f-aceb-cea72c5cba2b",
   "metadata": {},
   "outputs": [],
   "source": [
    "lpst_strains_Y = colStandardize(lp_strains_Y);\n",
    "lpst_strains_y = reshape(lpst_strains_Y[:, lp_id], :, 1);"
   ]
  },
  {
   "cell_type": "code",
   "execution_count": 153,
   "id": "8d181cef-df57-4e17-b4bc-f7c6a8a41d2f",
   "metadata": {},
   "outputs": [
    {
     "name": "stdout",
     "output_type": "stream",
     "text": [
      "  0.076321 seconds (206.24 k allocations: 40.237 MiB, 42.13% compilation time)\n"
     ]
    }
   ],
   "source": [
    "@time scan_results_strains = scan(lpst_strains_y, geno_strains, kinship_strains; \n",
    "                                  prior_variance = prior[1], prior_sample_size = prior[2],\n",
    "                                  optim_interval = 4);"
   ]
  },
  {
   "cell_type": "code",
   "execution_count": 154,
   "id": "558a9947-1e61-402e-90da-5a8c1cae15c7",
   "metadata": {},
   "outputs": [
    {
     "name": "stdout",
     "output_type": "stream",
     "text": [
      "  1.631722 seconds (4.08 M allocations: 1.233 GiB, 12.98% gc time)\n"
     ]
    }
   ],
   "source": [
    "@time scan_results_strains_alt = scan(lpst_strains_y, geno_strains, kinship_strains;\n",
    "                                      assumption = \"alt\",\n",
    "                                      prior_variance = prior[1], prior_sample_size = prior[2]);"
   ]
  },
  {
   "cell_type": "code",
   "execution_count": 155,
   "id": "f7e7ec8e-7352-4fef-a22c-d61e90fbae53",
   "metadata": {},
   "outputs": [
    {
     "name": "stdout",
     "output_type": "stream",
     "text": [
      "  0.070793 seconds (214.75 k allocations: 85.974 MiB, 49.59% compilation time)\n"
     ]
    }
   ],
   "source": [
    "@time scan_perms_results_strains = scan(lpst_strains_y, geno_strains, kinship_strains;\n",
    "                                        permutation_test = true, nperms = 1000, original = true, \n",
    "                                        prior_variance = prior[1], prior_sample_size = prior[2]);"
   ]
  },
  {
   "cell_type": "code",
   "execution_count": 156,
   "id": "ef7d8e30-dfea-47f0-a7ff-ae966a9594b9",
   "metadata": {},
   "outputs": [],
   "source": [
    "single_results_strains = DataFrame(hcat(scan_results_strains.lod, scan_results_strains_alt.lod, scan_perms_results_strains[:, 1]), [\"scan_null\", \"scan_alt\", \"scan_perms.original\"]);"
   ]
  },
  {
   "cell_type": "code",
   "execution_count": 157,
   "id": "cd32ad3e-95f0-4169-a7b7-1b1b28b48f6c",
   "metadata": {},
   "outputs": [
    {
     "data": {
      "text/html": [
       "<div><div style = \"float: left;\"><span>6×3 DataFrame</span></div><div style = \"clear: both;\"></div></div><div class = \"data-frame\" style = \"overflow-x: scroll;\"><table class = \"data-frame\" style = \"margin-bottom: 6px;\"><thead><tr class = \"header\"><th class = \"rowNumber\" style = \"font-weight: bold; text-align: right;\">Row</th><th style = \"text-align: left;\">scan_null</th><th style = \"text-align: left;\">scan_alt</th><th style = \"text-align: left;\">scan_perms.original</th></tr><tr class = \"subheader headerLastRow\"><th class = \"rowNumber\" style = \"font-weight: bold; text-align: right;\"></th><th title = \"Float64\" style = \"text-align: left;\">Float64</th><th title = \"Float64\" style = \"text-align: left;\">Float64</th><th title = \"Float64\" style = \"text-align: left;\">Float64</th></tr></thead><tbody><tr><td class = \"rowNumber\" style = \"font-weight: bold; text-align: right;\">1</td><td style = \"text-align: right;\">0.147528</td><td style = \"text-align: right;\">0.359619</td><td style = \"text-align: right;\">0.363103</td></tr><tr><td class = \"rowNumber\" style = \"font-weight: bold; text-align: right;\">2</td><td style = \"text-align: right;\">0.147528</td><td style = \"text-align: right;\">0.359619</td><td style = \"text-align: right;\">0.363103</td></tr><tr><td class = \"rowNumber\" style = \"font-weight: bold; text-align: right;\">3</td><td style = \"text-align: right;\">0.147528</td><td style = \"text-align: right;\">0.359619</td><td style = \"text-align: right;\">0.363103</td></tr><tr><td class = \"rowNumber\" style = \"font-weight: bold; text-align: right;\">4</td><td style = \"text-align: right;\">0.147528</td><td style = \"text-align: right;\">0.359619</td><td style = \"text-align: right;\">0.363103</td></tr><tr><td class = \"rowNumber\" style = \"font-weight: bold; text-align: right;\">5</td><td style = \"text-align: right;\">0.147528</td><td style = \"text-align: right;\">0.359619</td><td style = \"text-align: right;\">0.363103</td></tr><tr><td class = \"rowNumber\" style = \"font-weight: bold; text-align: right;\">6</td><td style = \"text-align: right;\">0.147528</td><td style = \"text-align: right;\">0.359619</td><td style = \"text-align: right;\">0.363103</td></tr></tbody></table></div>"
      ],
      "text/latex": [
       "\\begin{tabular}{r|ccc}\n",
       "\t& scan\\_null & scan\\_alt & scan\\_perms.original\\\\\n",
       "\t\\hline\n",
       "\t& Float64 & Float64 & Float64\\\\\n",
       "\t\\hline\n",
       "\t1 & 0.147528 & 0.359619 & 0.363103 \\\\\n",
       "\t2 & 0.147528 & 0.359619 & 0.363103 \\\\\n",
       "\t3 & 0.147528 & 0.359619 & 0.363103 \\\\\n",
       "\t4 & 0.147528 & 0.359619 & 0.363103 \\\\\n",
       "\t5 & 0.147528 & 0.359619 & 0.363103 \\\\\n",
       "\t6 & 0.147528 & 0.359619 & 0.363103 \\\\\n",
       "\\end{tabular}\n"
      ],
      "text/plain": [
       "\u001b[1m6×3 DataFrame\u001b[0m\n",
       "\u001b[1m Row \u001b[0m│\u001b[1m scan_null \u001b[0m\u001b[1m scan_alt \u001b[0m\u001b[1m scan_perms.original \u001b[0m\n",
       "     │\u001b[90m Float64   \u001b[0m\u001b[90m Float64  \u001b[0m\u001b[90m Float64             \u001b[0m\n",
       "─────┼──────────────────────────────────────────\n",
       "   1 │  0.147528  0.359619             0.363103\n",
       "   2 │  0.147528  0.359619             0.363103\n",
       "   3 │  0.147528  0.359619             0.363103\n",
       "   4 │  0.147528  0.359619             0.363103\n",
       "   5 │  0.147528  0.359619             0.363103\n",
       "   6 │  0.147528  0.359619             0.363103"
      ]
     },
     "execution_count": 157,
     "metadata": {},
     "output_type": "execute_result"
    }
   ],
   "source": [
    "single_results_strains[1:6, :]"
   ]
  },
  {
   "cell_type": "code",
   "execution_count": 158,
   "id": "d5c3f3c6-25ce-4cb6-8256-d5cd33898b19",
   "metadata": {},
   "outputs": [
    {
     "data": {
      "text/plain": [
       "(50, 1)"
      ]
     },
     "execution_count": 158,
     "metadata": {},
     "output_type": "execute_result"
    }
   ],
   "source": [
    "size(lp_strains_y)"
   ]
  },
  {
   "cell_type": "code",
   "execution_count": 159,
   "id": "55a7845a-e2c2-43ef-a5a2-0f87bf3aa659",
   "metadata": {},
   "outputs": [
    {
     "data": {
      "text/plain": [
       "5-element Vector{Float64}:\n",
       "  1.0226201850024244\n",
       " -0.007395742683977131\n",
       "  0.8020068444624721\n",
       "  1.234467432540759\n",
       " -0.5639098286938068"
      ]
     },
     "execution_count": 159,
     "metadata": {},
     "output_type": "execute_result"
    }
   ],
   "source": [
    "lpst_strains_y[1:5]./sqrt(0.5)"
   ]
  },
  {
   "cell_type": "markdown",
   "id": "beafdcee-0be5-4243-bf4c-142b1b692df9",
   "metadata": {},
   "source": [
    "### Weighted Error Variances:"
   ]
  },
  {
   "cell_type": "markdown",
   "id": "3db9e73e-b72b-44d5-b83f-8928c874c016",
   "metadata": {},
   "source": [
    "Assuming that\n",
    "\n",
    "$$y = X_0 B_0+g\\beta+\\epsilon$$\n",
    "\n",
    "where \n",
    "\n",
    "$$\\epsilon \\sim N(0,  \\sigma^2_g K + \\sigma^2_e V) $$ and \n",
    "\n",
    "the matrix $V$ is a diagonal but not necessarily an identity matrix."
   ]
  },
  {
   "cell_type": "markdown",
   "id": "1e014cdf-d1d5-424c-b0ee-631aa556cb61",
   "metadata": {},
   "source": [
    "Notice that since $V^{-1} = V^{-1/2}V^{-1/2}$, then the strategy is as such:"
   ]
  },
  {
   "cell_type": "markdown",
   "id": "dee5ac13-31b2-4d7e-88c9-c7d47a59f0b6",
   "metadata": {},
   "source": [
    "Let $$y^* = V^{-1/2}y = V^{-1/2}X0+V^{-1/2}g\\beta+V^{-1/2}\\epsilon$$\n",
    "\n",
    "then \n",
    "$$V^{-1/2}\\epsilon \\sim N(0, \\sigma^2_g V^{-1/2}KV^{-1/2}+\\sigma^2_e V^{-1/2}VV^{-1/2} = \\sigma^2_g K^*+\\sigma^2_e I)$$"
   ]
  },
  {
   "cell_type": "code",
   "execution_count": 160,
   "id": "2d78e1d4-8920-4242-a2a0-400853cb0de6",
   "metadata": {},
   "outputs": [
    {
     "data": {
      "text/html": [
       "<div><div style = \"float: left;\"><span>6×32448 DataFrame</span></div><div style = \"float: right;\"><span style = \"font-style: italic;\">32348 columns omitted</span></div><div style = \"clear: both;\"></div></div><div class = \"data-frame\" style = \"overflow-x: scroll;\"><table class = \"data-frame\" style = \"margin-bottom: 6px;\"><thead><tr class = \"header\"><th class = \"rowNumber\" style = \"font-weight: bold; text-align: right;\">Row</th><th style = \"text-align: left;\">Sample</th><th style = \"text-align: left;\">Strain</th><th style = \"text-align: left;\">Strain_num</th><th style = \"text-align: left;\">P42209_DESGLNRK_2</th><th style = \"text-align: left;\">P42209_GLRPLDVAFLR_3</th><th style = \"text-align: left;\">Q99M02_VGDPVYR_2</th><th style = \"text-align: left;\">Q99M02_VWIYPIK_2</th><th style = \"text-align: left;\">Q99M02_LCDPSVK_2</th><th style = \"text-align: left;\">Q99M02_CVLTTVDPDTGIIDR_2</th><th style = \"text-align: left;\">Q99M02_LVQFDTSMK_2</th><th style = \"text-align: left;\">Q99M02_QLQQVGTVSK_2</th><th style = \"text-align: left;\">Q99M02_KLYPSESYLQNYEVAYPDCSPVHLISEASLVDLNTR_4</th><th style = \"text-align: left;\">Q99M02_GRDCGDEVAQWFTNYLK_3</th><th style = \"text-align: left;\">Q99M02_SIYQSSPLFGMYFSVEK_2</th><th style = \"text-align: left;\">Q99M02_RQLQQVGTVSK_3</th><th style = \"text-align: left;\">Q99M02_LYPSESYLQNYEVAYPDCSPVHLISEASLVDLNTR_4</th><th style = \"text-align: left;\">Q99M02_KLYPSESYLQNYEVAYPDCSPVHLISEASLVDLNTR_5</th><th style = \"text-align: left;\">Q99M02_SIYQSSPLFGMYFSVEK_3</th><th style = \"text-align: left;\">Q99M02_CVLTTVDPDTGIIDRK_3</th><th style = \"text-align: left;\">Q99M02_CVLTTVDPDTGIIDR_3</th><th style = \"text-align: left;\">Q99M02_TQAYRLVQFDTSMK_3</th><th style = \"text-align: left;\">Q99M02_GVSVCETECTDMGLR_2</th><th style = \"text-align: left;\">Q99M02_DCGDEVAQWFTNYLK_2</th><th style = \"text-align: left;\">Q99M02_DRFWMVVK_2</th><th style = \"text-align: left;\">Q99M02_GRDCGDEVAQWFTNYLK_2</th><th style = \"text-align: left;\">Q99M02_DCGDEVAQWFTNYLK_3</th><th style = \"text-align: left;\">Q99M02_EDGHMVTAR_2</th><th style = \"text-align: left;\">Q99M02_RQLQQVGTVSK_2</th><th style = \"text-align: left;\">P42208_TIISYIDEQFER_2</th><th style = \"text-align: left;\">P42208_ILDEIEEHSIK_3</th><th style = \"text-align: left;\">P42208_VNIVPVIAK_2</th><th style = \"text-align: left;\">P42208_ASIPFSVVGSNQLIEAK_2</th><th style = \"text-align: left;\">P42208_TVQIEASTVEIEER_2</th><th style = \"text-align: left;\">P42208_LTVVDTPGYGDAINCR_2</th><th style = \"text-align: left;\">P42208_ASIPFSVVGSNQLIEAK_3</th><th style = \"text-align: left;\">P42208_STLINSLFLTDLYPER_3</th><th style = \"text-align: left;\">Q9Z1S5_VNIIPVIAK_2</th><th style = \"text-align: left;\">Q3KNM2_LGPVVYVLDLADR_2</th><th style = \"text-align: left;\">Q9Z2Q6_LATPEDKQDIDKQYVGFATLPNQVHR_4</th><th style = \"text-align: left;\">Q9Z2Q6_VNIVPILAK_2</th><th style = \"text-align: left;\">Q9R1T4_RNEFLGELQK_3</th><th style = \"text-align: left;\">Q9R1T4_STLMDTLFNTK_2</th><th style = \"text-align: left;\">O55131_STLINSLFLTDLYSPEYPGPSHR_3</th><th style = \"text-align: left;\">O55131_FEDYLNAESR_2</th><th style = \"text-align: left;\">O55131_IYEFPETDDEEENKLVK_3</th><th style = \"text-align: left;\">O55131_NLEGYVGFANLPNQVYR_2</th><th style = \"text-align: left;\">O55131_DVTNNVHYENYR_3</th><th style = \"text-align: left;\">O55131_ANWEAQQR_2</th><th style = \"text-align: left;\">O55131_NLEGYVGFANLPNQVYR_3</th><th style = \"text-align: left;\">O55131_ADTLTPEECQQFK_2</th><th style = \"text-align: left;\">O55131_ILEQQNSSR_2</th><th style = \"text-align: left;\">O55131_VQCCLYFIAPSGHGLKPLDIEFMK_4</th><th style = \"text-align: left;\">O55131_TVQVEQSK_2</th><th style = \"text-align: left;\">O55131_LKDSEAELQR_2</th><th style = \"text-align: left;\">Q8CHH9_VNIIPLIAK_2</th><th style = \"text-align: left;\">Q8CHH9_VNIIPIIAK_2</th><th style = \"text-align: left;\">Q80UG5_ADTLTLEER_2</th><th style = \"text-align: left;\">Q80UG5_STLINTLFK_2</th><th style = \"text-align: left;\">Q80UG5_RTEITIVKPQESVLR_4</th><th style = \"text-align: left;\">Q80UG5_DITSNIHFEAYR_3</th><th style = \"text-align: left;\">Q80UG5_LEPRPSVAEVPYR_3</th><th style = \"text-align: left;\">Q80UG5_FINDQYEK_2</th><th style = \"text-align: left;\">Q80UG5_YLQEEVNINR_2</th><th style = \"text-align: left;\">Q80UG5_VVNIVPVIAK_2</th><th style = \"text-align: left;\">Q80UG5_SITHDIEEK_2</th><th style = \"text-align: left;\">Q80UG5_IPEGSAVPATDAAPK_2</th><th style = \"text-align: left;\">Q80UG5_SVQPTSEER_2</th><th style = \"text-align: left;\">Q80UG5_QVESTASAAGPSR_2</th><th style = \"text-align: left;\">Q8C1B7_FESDPATHNEPGVR_3</th><th style = \"text-align: left;\">Q8C1B7_SYELQESNVR_2</th><th style = \"text-align: left;\">Q8C1B7_NLSLSGHVGFDSLPDQLVNK_3</th><th style = \"text-align: left;\">Q8C1B7_AAAQLLQSQAQQSGAQQTK_3</th><th style = \"text-align: left;\">Q8C1B7_ELEEEVSNFQK_2</th><th style = \"text-align: left;\">Q9ERR7_WNTDSVEEFLSEK_2</th><th style = \"text-align: left;\">Q9ERR7_LLDDNGNIAEELSILK_2</th><th style = \"text-align: left;\">Q9ERY9_YLEAEPVSR_2</th><th style = \"text-align: left;\">P59708_ITAEEMYDIFGK_2</th><th style = \"text-align: left;\">Q9DCS2_CLDSIAATTR_2</th><th style = \"text-align: left;\">Q9DCS2_ISPQSNVDFDLTLR_2</th><th style = \"text-align: left;\">Q9DCS2_VLEVASGSGQHAAHFAQAFPNAEWQPSDVDQR_4</th><th style = \"text-align: left;\">Q9DCS2_QYVDPAQR_2</th><th style = \"text-align: left;\">Q9DCS2_NKEPILSVLR_2</th><th style = \"text-align: left;\">Q9DCS2_AQGLSNVK_2</th><th style = \"text-align: left;\">Q9DCS2_VLEVASGSGQHAAHFAQAFPNAEWQPSDVDQR_5</th><th style = \"text-align: left;\">Q9DCS2_MVDMPANNK_2</th><th style = \"text-align: left;\">Q9DCS2_DTVLLEELGQASGLVLER_3</th><th style = \"text-align: left;\">Q9DCS2_DTVLLEELGQASGLVLER_2</th><th style = \"text-align: left;\">Q9JHJ3_LLHTADVCQLEVALVGASPR_3</th><th style = \"text-align: left;\">A2A8E1_TIVEFECR_2</th><th style = \"text-align: left;\">A2A8E1_ATLENVTNLRPVGEDFR_3</th><th style = \"text-align: left;\">A2A8E1_ENSIDILSSTIK_2</th><th style = \"text-align: left;\">A2A8E1_AQESVGIFEVTHQFVK_3</th><th style = \"text-align: left;\">Q8BWR2_GLAYGLYLR_2</th><th style = \"text-align: left;\">Q8VED9_IQTLSAIDTIK_2</th><th style = \"text-align: left;\">Q9CRB3_LFFDTER_2</th><th style = \"text-align: left;\">Q9CRB3_FHVPLLLSPWSYTTYR_3</th><th style = \"text-align: left;\">Q9CRB3_TSYTNLDGR_2</th><th style = \"text-align: left;\">Q9CRB3_LEAPCQQWMELR_2</th><th style = \"text-align: left;\">Q9CRB3_CPGLLTPSQIKPGTYK_3</th><th style = \"text-align: left;\">Q9CRB3_LEAPCQQWMELR_3</th><th style = \"text-align: right;\">&ctdot;</th></tr><tr class = \"subheader headerLastRow\"><th class = \"rowNumber\" style = \"font-weight: bold; text-align: right;\"></th><th title = \"String7\" style = \"text-align: left;\">String7</th><th title = \"String7\" style = \"text-align: left;\">String7</th><th title = \"Int64\" style = \"text-align: left;\">Int64</th><th title = \"Float64\" style = \"text-align: left;\">Float64</th><th title = \"Float64\" style = \"text-align: left;\">Float64</th><th title = \"Float64\" style = \"text-align: left;\">Float64</th><th title = \"Float64\" style = \"text-align: left;\">Float64</th><th title = \"Float64\" style = \"text-align: left;\">Float64</th><th title = \"Float64\" style = \"text-align: left;\">Float64</th><th title = \"Float64\" style = \"text-align: left;\">Float64</th><th title = \"Float64\" style = \"text-align: left;\">Float64</th><th title = \"Float64\" style = \"text-align: left;\">Float64</th><th title = \"Float64\" style = \"text-align: left;\">Float64</th><th title = \"Float64\" style = \"text-align: left;\">Float64</th><th title = \"Float64\" style = \"text-align: left;\">Float64</th><th title = \"Float64\" style = \"text-align: left;\">Float64</th><th title = \"Float64\" style = \"text-align: left;\">Float64</th><th title = \"Float64\" style = \"text-align: left;\">Float64</th><th title = \"Float64\" style = \"text-align: left;\">Float64</th><th title = \"Float64\" style = \"text-align: left;\">Float64</th><th title = \"Float64\" style = \"text-align: left;\">Float64</th><th title = \"Float64\" style = \"text-align: left;\">Float64</th><th title = \"Float64\" style = \"text-align: left;\">Float64</th><th title = \"Float64\" style = \"text-align: left;\">Float64</th><th title = \"Float64\" style = \"text-align: left;\">Float64</th><th title = \"Float64\" style = \"text-align: left;\">Float64</th><th title = \"Float64\" style = \"text-align: left;\">Float64</th><th title = \"Float64\" style = \"text-align: left;\">Float64</th><th title = \"Float64\" style = \"text-align: left;\">Float64</th><th title = \"Float64\" style = \"text-align: left;\">Float64</th><th title = \"Float64\" style = \"text-align: left;\">Float64</th><th title = \"Float64\" style = \"text-align: left;\">Float64</th><th title = \"Float64\" style = \"text-align: left;\">Float64</th><th title = \"Float64\" style = \"text-align: left;\">Float64</th><th title = \"Float64\" style = \"text-align: left;\">Float64</th><th title = \"Float64\" style = \"text-align: left;\">Float64</th><th title = \"Float64\" style = \"text-align: left;\">Float64</th><th title = \"Float64\" style = \"text-align: left;\">Float64</th><th title = \"Float64\" style = \"text-align: left;\">Float64</th><th title = \"Float64\" style = \"text-align: left;\">Float64</th><th title = \"Float64\" style = \"text-align: left;\">Float64</th><th title = \"Float64\" style = \"text-align: left;\">Float64</th><th title = \"Float64\" style = \"text-align: left;\">Float64</th><th title = \"Float64\" style = \"text-align: left;\">Float64</th><th title = \"Float64\" style = \"text-align: left;\">Float64</th><th title = \"Float64\" style = \"text-align: left;\">Float64</th><th title = \"Float64\" style = \"text-align: left;\">Float64</th><th title = \"Float64\" style = \"text-align: left;\">Float64</th><th title = \"Float64\" style = \"text-align: left;\">Float64</th><th title = \"Float64\" style = \"text-align: left;\">Float64</th><th title = \"Float64\" style = \"text-align: left;\">Float64</th><th title = \"Float64\" style = \"text-align: left;\">Float64</th><th title = \"Float64\" style = \"text-align: left;\">Float64</th><th title = \"Float64\" style = \"text-align: left;\">Float64</th><th title = \"Float64\" style = \"text-align: left;\">Float64</th><th title = \"Float64\" style = \"text-align: left;\">Float64</th><th title = \"Float64\" style = \"text-align: left;\">Float64</th><th title = \"Float64\" style = \"text-align: left;\">Float64</th><th title = \"Float64\" style = \"text-align: left;\">Float64</th><th title = \"Float64\" style = \"text-align: left;\">Float64</th><th title = \"Float64\" style = \"text-align: left;\">Float64</th><th title = \"Float64\" style = \"text-align: left;\">Float64</th><th title = \"Float64\" style = \"text-align: left;\">Float64</th><th title = \"Float64\" style = \"text-align: left;\">Float64</th><th title = \"Float64\" style = \"text-align: left;\">Float64</th><th title = \"Float64\" style = \"text-align: left;\">Float64</th><th title = \"Float64\" style = \"text-align: left;\">Float64</th><th title = \"Float64\" style = \"text-align: left;\">Float64</th><th title = \"Float64\" style = \"text-align: left;\">Float64</th><th title = \"Float64\" style = \"text-align: left;\">Float64</th><th title = \"Float64\" style = \"text-align: left;\">Float64</th><th title = \"Float64\" style = \"text-align: left;\">Float64</th><th title = \"Float64\" style = \"text-align: left;\">Float64</th><th title = \"Float64\" style = \"text-align: left;\">Float64</th><th title = \"Float64\" style = \"text-align: left;\">Float64</th><th title = \"Float64\" style = \"text-align: left;\">Float64</th><th title = \"Float64\" style = \"text-align: left;\">Float64</th><th title = \"Float64\" style = \"text-align: left;\">Float64</th><th title = \"Float64\" style = \"text-align: left;\">Float64</th><th title = \"Float64\" style = \"text-align: left;\">Float64</th><th title = \"Float64\" style = \"text-align: left;\">Float64</th><th title = \"Float64\" style = \"text-align: left;\">Float64</th><th title = \"Float64\" style = \"text-align: left;\">Float64</th><th title = \"Float64\" style = \"text-align: left;\">Float64</th><th title = \"Float64\" style = \"text-align: left;\">Float64</th><th title = \"Float64\" style = \"text-align: left;\">Float64</th><th title = \"Float64\" style = \"text-align: left;\">Float64</th><th title = \"Float64\" style = \"text-align: left;\">Float64</th><th title = \"Float64\" style = \"text-align: left;\">Float64</th><th title = \"Float64\" style = \"text-align: left;\">Float64</th><th title = \"Float64\" style = \"text-align: left;\">Float64</th><th title = \"Float64\" style = \"text-align: left;\">Float64</th><th title = \"Float64\" style = \"text-align: left;\">Float64</th><th title = \"Float64\" style = \"text-align: left;\">Float64</th><th title = \"Float64\" style = \"text-align: left;\">Float64</th><th title = \"Float64\" style = \"text-align: left;\">Float64</th><th title = \"Float64\" style = \"text-align: left;\">Float64</th><th title = \"Float64\" style = \"text-align: left;\">Float64</th><th title = \"Float64\" style = \"text-align: left;\">Float64</th><th title = \"Float64\" style = \"text-align: left;\">Float64</th><th title = \"Float64\" style = \"text-align: right;\">&ctdot;</th></tr></thead><tbody><tr><td class = \"rowNumber\" style = \"font-weight: bold; text-align: right;\">1</td><td style = \"text-align: left;\">H1009</td><td style = \"text-align: left;\">BXD9</td><td style = \"text-align: right;\">9</td><td style = \"text-align: right;\">11.349</td><td style = \"text-align: right;\">11.534</td><td style = \"text-align: right;\">17.587</td><td style = \"text-align: right;\">17.517</td><td style = \"text-align: right;\">17.309</td><td style = \"text-align: right;\">16.574</td><td style = \"text-align: right;\">16.323</td><td style = \"text-align: right;\">16.263</td><td style = \"text-align: right;\">16.24</td><td style = \"text-align: right;\">16.052</td><td style = \"text-align: right;\">15.355</td><td style = \"text-align: right;\">15.795</td><td style = \"text-align: right;\">15.4</td><td style = \"text-align: right;\">15.03</td><td style = \"text-align: right;\">14.831</td><td style = \"text-align: right;\">14.914</td><td style = \"text-align: right;\">14.755</td><td style = \"text-align: right;\">14.389</td><td style = \"text-align: right;\">14.272</td><td style = \"text-align: right;\">13.992</td><td style = \"text-align: right;\">14.291</td><td style = \"text-align: right;\">13.762</td><td style = \"text-align: right;\">13.167</td><td style = \"text-align: right;\">12.662</td><td style = \"text-align: right;\">10.913</td><td style = \"text-align: right;\">14.723</td><td style = \"text-align: right;\">14.348</td><td style = \"text-align: right;\">13.345</td><td style = \"text-align: right;\">14.228</td><td style = \"text-align: right;\">13.862</td><td style = \"text-align: right;\">13.902</td><td style = \"text-align: right;\">13.687</td><td style = \"text-align: right;\">11.613</td><td style = \"text-align: right;\">10.245</td><td style = \"text-align: right;\">14.409</td><td style = \"text-align: right;\">15.147</td><td style = \"text-align: right;\">12.34</td><td style = \"text-align: right;\">14.404</td><td style = \"text-align: right;\">13.775</td><td style = \"text-align: right;\">14.293</td><td style = \"text-align: right;\">14.461</td><td style = \"text-align: right;\">14.23</td><td style = \"text-align: right;\">14.065</td><td style = \"text-align: right;\">14.258</td><td style = \"text-align: right;\">14.31</td><td style = \"text-align: right;\">13.616</td><td style = \"text-align: right;\">13.541</td><td style = \"text-align: right;\">13.46</td><td style = \"text-align: right;\">13.293</td><td style = \"text-align: right;\">12.937</td><td style = \"text-align: right;\">12.717</td><td style = \"text-align: right;\">15.149</td><td style = \"text-align: right;\">14.36</td><td style = \"text-align: right;\">14.833</td><td style = \"text-align: right;\">14.341</td><td style = \"text-align: right;\">14.579</td><td style = \"text-align: right;\">14.316</td><td style = \"text-align: right;\">14.049</td><td style = \"text-align: right;\">13.817</td><td style = \"text-align: right;\">13.656</td><td style = \"text-align: right;\">13.297</td><td style = \"text-align: right;\">13.78</td><td style = \"text-align: right;\">12.843</td><td style = \"text-align: right;\">12.439</td><td style = \"text-align: right;\">11.074</td><td style = \"text-align: right;\">14.065</td><td style = \"text-align: right;\">13.915</td><td style = \"text-align: right;\">13.994</td><td style = \"text-align: right;\">13.907</td><td style = \"text-align: right;\">13.247</td><td style = \"text-align: right;\">13.356</td><td style = \"text-align: right;\">12.815</td><td style = \"text-align: right;\">14.702</td><td style = \"text-align: right;\">13.637</td><td style = \"text-align: right;\">16.398</td><td style = \"text-align: right;\">16.402</td><td style = \"text-align: right;\">16.271</td><td style = \"text-align: right;\">16.0</td><td style = \"text-align: right;\">15.909</td><td style = \"text-align: right;\">15.647</td><td style = \"text-align: right;\">15.021</td><td style = \"text-align: right;\">13.726</td><td style = \"text-align: right;\">7.236</td><td style = \"text-align: right;\">3.295</td><td style = \"text-align: right;\">13.794</td><td style = \"text-align: right;\">14.838</td><td style = \"text-align: right;\">14.908</td><td style = \"text-align: right;\">14.664</td><td style = \"text-align: right;\">13.055</td><td style = \"text-align: right;\">12.612</td><td style = \"text-align: right;\">13.323</td><td style = \"text-align: right;\">18.252</td><td style = \"text-align: right;\">16.889</td><td style = \"text-align: right;\">17.118</td><td style = \"text-align: right;\">16.443</td><td style = \"text-align: right;\">15.683</td><td style = \"text-align: right;\">14.183</td><td style = \"text-align: right;\">&ctdot;</td></tr><tr><td class = \"rowNumber\" style = \"font-weight: bold; text-align: right;\">2</td><td style = \"text-align: left;\">H0370</td><td style = \"text-align: left;\">BXD9</td><td style = \"text-align: right;\">9</td><td style = \"text-align: right;\">11.249</td><td style = \"text-align: right;\">12.735</td><td style = \"text-align: right;\">17.427</td><td style = \"text-align: right;\">17.325</td><td style = \"text-align: right;\">17.252</td><td style = \"text-align: right;\">16.685</td><td style = \"text-align: right;\">16.021</td><td style = \"text-align: right;\">16.332</td><td style = \"text-align: right;\">15.965</td><td style = \"text-align: right;\">15.624</td><td style = \"text-align: right;\">15.336</td><td style = \"text-align: right;\">14.811</td><td style = \"text-align: right;\">14.979</td><td style = \"text-align: right;\">14.957</td><td style = \"text-align: right;\">14.474</td><td style = \"text-align: right;\">14.815</td><td style = \"text-align: right;\">14.912</td><td style = \"text-align: right;\">14.77</td><td style = \"text-align: right;\">14.244</td><td style = \"text-align: right;\">14.151</td><td style = \"text-align: right;\">13.87</td><td style = \"text-align: right;\">13.696</td><td style = \"text-align: right;\">11.285</td><td style = \"text-align: right;\">13.094</td><td style = \"text-align: right;\">12.99</td><td style = \"text-align: right;\">14.693</td><td style = \"text-align: right;\">14.325</td><td style = \"text-align: right;\">13.812</td><td style = \"text-align: right;\">13.761</td><td style = \"text-align: right;\">14.299</td><td style = \"text-align: right;\">13.728</td><td style = \"text-align: right;\">13.671</td><td style = \"text-align: right;\">10.678</td><td style = \"text-align: right;\">12.411</td><td style = \"text-align: right;\">14.209</td><td style = \"text-align: right;\">15.113</td><td style = \"text-align: right;\">12.719</td><td style = \"text-align: right;\">13.653</td><td style = \"text-align: right;\">13.652</td><td style = \"text-align: right;\">14.711</td><td style = \"text-align: right;\">14.455</td><td style = \"text-align: right;\">14.302</td><td style = \"text-align: right;\">14.254</td><td style = \"text-align: right;\">13.889</td><td style = \"text-align: right;\">14.378</td><td style = \"text-align: right;\">13.339</td><td style = \"text-align: right;\">13.615</td><td style = \"text-align: right;\">12.124</td><td style = \"text-align: right;\">13.634</td><td style = \"text-align: right;\">11.894</td><td style = \"text-align: right;\">13.017</td><td style = \"text-align: right;\">15.184</td><td style = \"text-align: right;\">14.411</td><td style = \"text-align: right;\">14.978</td><td style = \"text-align: right;\">14.348</td><td style = \"text-align: right;\">14.457</td><td style = \"text-align: right;\">14.669</td><td style = \"text-align: right;\">14.235</td><td style = \"text-align: right;\">13.924</td><td style = \"text-align: right;\">14.003</td><td style = \"text-align: right;\">13.666</td><td style = \"text-align: right;\">14.188</td><td style = \"text-align: right;\">13.613</td><td style = \"text-align: right;\">12.401</td><td style = \"text-align: right;\">11.491</td><td style = \"text-align: right;\">14.018</td><td style = \"text-align: right;\">14.086</td><td style = \"text-align: right;\">13.778</td><td style = \"text-align: right;\">13.871</td><td style = \"text-align: right;\">13.235</td><td style = \"text-align: right;\">13.212</td><td style = \"text-align: right;\">12.527</td><td style = \"text-align: right;\">14.404</td><td style = \"text-align: right;\">13.305</td><td style = \"text-align: right;\">16.291</td><td style = \"text-align: right;\">16.533</td><td style = \"text-align: right;\">16.014</td><td style = \"text-align: right;\">16.083</td><td style = \"text-align: right;\">16.104</td><td style = \"text-align: right;\">15.923</td><td style = \"text-align: right;\">14.657</td><td style = \"text-align: right;\">12.945</td><td style = \"text-align: right;\">11.541</td><td style = \"text-align: right;\">12.83</td><td style = \"text-align: right;\">13.963</td><td style = \"text-align: right;\">15.221</td><td style = \"text-align: right;\">15.093</td><td style = \"text-align: right;\">14.817</td><td style = \"text-align: right;\">13.129</td><td style = \"text-align: right;\">13.251</td><td style = \"text-align: right;\">13.666</td><td style = \"text-align: right;\">18.352</td><td style = \"text-align: right;\">17.202</td><td style = \"text-align: right;\">17.106</td><td style = \"text-align: right;\">16.211</td><td style = \"text-align: right;\">15.557</td><td style = \"text-align: right;\">14.051</td><td style = \"text-align: right;\">&ctdot;</td></tr><tr><td class = \"rowNumber\" style = \"font-weight: bold; text-align: right;\">3</td><td style = \"text-align: left;\">H2577</td><td style = \"text-align: left;\">BXD9</td><td style = \"text-align: right;\">9</td><td style = \"text-align: right;\">12.415</td><td style = \"text-align: right;\">10.487</td><td style = \"text-align: right;\">17.89</td><td style = \"text-align: right;\">17.488</td><td style = \"text-align: right;\">17.594</td><td style = \"text-align: right;\">16.731</td><td style = \"text-align: right;\">16.208</td><td style = \"text-align: right;\">16.417</td><td style = \"text-align: right;\">16.182</td><td style = \"text-align: right;\">16.07</td><td style = \"text-align: right;\">15.356</td><td style = \"text-align: right;\">15.863</td><td style = \"text-align: right;\">15.109</td><td style = \"text-align: right;\">15.033</td><td style = \"text-align: right;\">14.914</td><td style = \"text-align: right;\">14.967</td><td style = \"text-align: right;\">14.355</td><td style = \"text-align: right;\">14.242</td><td style = \"text-align: right;\">14.588</td><td style = \"text-align: right;\">14.289</td><td style = \"text-align: right;\">14.267</td><td style = \"text-align: right;\">13.802</td><td style = \"text-align: right;\">13.015</td><td style = \"text-align: right;\">13.371</td><td style = \"text-align: right;\">12.637</td><td style = \"text-align: right;\">13.861</td><td style = \"text-align: right;\">14.179</td><td style = \"text-align: right;\">12.208</td><td style = \"text-align: right;\">13.453</td><td style = \"text-align: right;\">13.541</td><td style = \"text-align: right;\">13.37</td><td style = \"text-align: right;\">13.689</td><td style = \"text-align: right;\">10.072</td><td style = \"text-align: right;\">9.864</td><td style = \"text-align: right;\">14.387</td><td style = \"text-align: right;\">15.132</td><td style = \"text-align: right;\">12.267</td><td style = \"text-align: right;\">13.809</td><td style = \"text-align: right;\">13.439</td><td style = \"text-align: right;\">14.278</td><td style = \"text-align: right;\">14.046</td><td style = \"text-align: right;\">13.795</td><td style = \"text-align: right;\">14.186</td><td style = \"text-align: right;\">13.719</td><td style = \"text-align: right;\">14.087</td><td style = \"text-align: right;\">13.657</td><td style = \"text-align: right;\">12.693</td><td style = \"text-align: right;\">13.618</td><td style = \"text-align: right;\">12.68</td><td style = \"text-align: right;\">12.717</td><td style = \"text-align: right;\">12.675</td><td style = \"text-align: right;\">14.976</td><td style = \"text-align: right;\">13.714</td><td style = \"text-align: right;\">14.986</td><td style = \"text-align: right;\">14.0</td><td style = \"text-align: right;\">14.337</td><td style = \"text-align: right;\">14.344</td><td style = \"text-align: right;\">13.613</td><td style = \"text-align: right;\">13.228</td><td style = \"text-align: right;\">13.313</td><td style = \"text-align: right;\">12.639</td><td style = \"text-align: right;\">13.791</td><td style = \"text-align: right;\">10.895</td><td style = \"text-align: right;\">12.259</td><td style = \"text-align: right;\">10.923</td><td style = \"text-align: right;\">13.552</td><td style = \"text-align: right;\">13.719</td><td style = \"text-align: right;\">13.266</td><td style = \"text-align: right;\">13.521</td><td style = \"text-align: right;\">13.085</td><td style = \"text-align: right;\">13.292</td><td style = \"text-align: right;\">11.783</td><td style = \"text-align: right;\">14.967</td><td style = \"text-align: right;\">12.924</td><td style = \"text-align: right;\">16.235</td><td style = \"text-align: right;\">16.191</td><td style = \"text-align: right;\">15.877</td><td style = \"text-align: right;\">15.898</td><td style = \"text-align: right;\">15.851</td><td style = \"text-align: right;\">16.033</td><td style = \"text-align: right;\">14.695</td><td style = \"text-align: right;\">13.533</td><td style = \"text-align: right;\">9.657</td><td style = \"text-align: right;\">12.811</td><td style = \"text-align: right;\">13.877</td><td style = \"text-align: right;\">14.851</td><td style = \"text-align: right;\">14.993</td><td style = \"text-align: right;\">14.642</td><td style = \"text-align: right;\">12.832</td><td style = \"text-align: right;\">13.225</td><td style = \"text-align: right;\">12.795</td><td style = \"text-align: right;\">18.21</td><td style = \"text-align: right;\">16.846</td><td style = \"text-align: right;\">17.019</td><td style = \"text-align: right;\">15.882</td><td style = \"text-align: right;\">15.599</td><td style = \"text-align: right;\">14.0</td><td style = \"text-align: right;\">&ctdot;</td></tr><tr><td class = \"rowNumber\" style = \"font-weight: bold; text-align: right;\">4</td><td style = \"text-align: left;\">H0365</td><td style = \"text-align: left;\">BXD9</td><td style = \"text-align: right;\">9</td><td style = \"text-align: right;\">11.374</td><td style = \"text-align: right;\">10.674</td><td style = \"text-align: right;\">17.714</td><td style = \"text-align: right;\">17.401</td><td style = \"text-align: right;\">17.381</td><td style = \"text-align: right;\">16.621</td><td style = \"text-align: right;\">16.337</td><td style = \"text-align: right;\">16.279</td><td style = \"text-align: right;\">16.304</td><td style = \"text-align: right;\">16.153</td><td style = \"text-align: right;\">15.509</td><td style = \"text-align: right;\">15.673</td><td style = \"text-align: right;\">15.411</td><td style = \"text-align: right;\">15.207</td><td style = \"text-align: right;\">15.082</td><td style = \"text-align: right;\">14.959</td><td style = \"text-align: right;\">14.782</td><td style = \"text-align: right;\">14.53</td><td style = \"text-align: right;\">14.636</td><td style = \"text-align: right;\">14.309</td><td style = \"text-align: right;\">14.296</td><td style = \"text-align: right;\">13.808</td><td style = \"text-align: right;\">13.163</td><td style = \"text-align: right;\">12.99</td><td style = \"text-align: right;\">12.106</td><td style = \"text-align: right;\">14.457</td><td style = \"text-align: right;\">14.464</td><td style = \"text-align: right;\">13.119</td><td style = \"text-align: right;\">13.42</td><td style = \"text-align: right;\">13.466</td><td style = \"text-align: right;\">13.717</td><td style = \"text-align: right;\">13.305</td><td style = \"text-align: right;\">9.526</td><td style = \"text-align: right;\">10.685</td><td style = \"text-align: right;\">14.608</td><td style = \"text-align: right;\">15.05</td><td style = \"text-align: right;\">11.858</td><td style = \"text-align: right;\">14.077</td><td style = \"text-align: right;\">13.459</td><td style = \"text-align: right;\">14.379</td><td style = \"text-align: right;\">14.294</td><td style = \"text-align: right;\">13.946</td><td style = \"text-align: right;\">13.816</td><td style = \"text-align: right;\">14.172</td><td style = \"text-align: right;\">14.218</td><td style = \"text-align: right;\">13.352</td><td style = \"text-align: right;\">13.12</td><td style = \"text-align: right;\">12.885</td><td style = \"text-align: right;\">12.876</td><td style = \"text-align: right;\">12.836</td><td style = \"text-align: right;\">11.771</td><td style = \"text-align: right;\">15.005</td><td style = \"text-align: right;\">13.907</td><td style = \"text-align: right;\">15.195</td><td style = \"text-align: right;\">14.505</td><td style = \"text-align: right;\">14.645</td><td style = \"text-align: right;\">14.437</td><td style = \"text-align: right;\">14.339</td><td style = \"text-align: right;\">13.929</td><td style = \"text-align: right;\">13.891</td><td style = \"text-align: right;\">12.584</td><td style = \"text-align: right;\">13.894</td><td style = \"text-align: right;\">13.005</td><td style = \"text-align: right;\">11.745</td><td style = \"text-align: right;\">11.587</td><td style = \"text-align: right;\">13.855</td><td style = \"text-align: right;\">13.595</td><td style = \"text-align: right;\">13.443</td><td style = \"text-align: right;\">13.53</td><td style = \"text-align: right;\">13.295</td><td style = \"text-align: right;\">12.984</td><td style = \"text-align: right;\">12.606</td><td style = \"text-align: right;\">14.777</td><td style = \"text-align: right;\">13.316</td><td style = \"text-align: right;\">16.244</td><td style = \"text-align: right;\">16.171</td><td style = \"text-align: right;\">16.074</td><td style = \"text-align: right;\">15.865</td><td style = \"text-align: right;\">15.819</td><td style = \"text-align: right;\">15.716</td><td style = \"text-align: right;\">14.651</td><td style = \"text-align: right;\">13.418</td><td style = \"text-align: right;\">12.186</td><td style = \"text-align: right;\">11.279</td><td style = \"text-align: right;\">13.677</td><td style = \"text-align: right;\">15.099</td><td style = \"text-align: right;\">14.941</td><td style = \"text-align: right;\">14.738</td><td style = \"text-align: right;\">13.196</td><td style = \"text-align: right;\">13.011</td><td style = \"text-align: right;\">13.543</td><td style = \"text-align: right;\">18.146</td><td style = \"text-align: right;\">17.282</td><td style = \"text-align: right;\">17.106</td><td style = \"text-align: right;\">16.174</td><td style = \"text-align: right;\">15.614</td><td style = \"text-align: right;\">13.949</td><td style = \"text-align: right;\">&ctdot;</td></tr><tr><td class = \"rowNumber\" style = \"font-weight: bold; text-align: right;\">5</td><td style = \"text-align: left;\">H1333</td><td style = \"text-align: left;\">BXD13</td><td style = \"text-align: right;\">13</td><td style = \"text-align: right;\">11.687</td><td style = \"text-align: right;\">11.524</td><td style = \"text-align: right;\">17.362</td><td style = \"text-align: right;\">17.367</td><td style = \"text-align: right;\">17.071</td><td style = \"text-align: right;\">16.465</td><td style = \"text-align: right;\">15.97</td><td style = \"text-align: right;\">15.98</td><td style = \"text-align: right;\">16.108</td><td style = \"text-align: right;\">15.938</td><td style = \"text-align: right;\">15.541</td><td style = \"text-align: right;\">15.121</td><td style = \"text-align: right;\">14.971</td><td style = \"text-align: right;\">14.903</td><td style = \"text-align: right;\">14.859</td><td style = \"text-align: right;\">14.664</td><td style = \"text-align: right;\">14.504</td><td style = \"text-align: right;\">14.407</td><td style = \"text-align: right;\">13.969</td><td style = \"text-align: right;\">14.8</td><td style = \"text-align: right;\">14.137</td><td style = \"text-align: right;\">13.564</td><td style = \"text-align: right;\">12.76</td><td style = \"text-align: right;\">12.675</td><td style = \"text-align: right;\">10.73</td><td style = \"text-align: right;\">14.177</td><td style = \"text-align: right;\">14.387</td><td style = \"text-align: right;\">14.163</td><td style = \"text-align: right;\">14.263</td><td style = \"text-align: right;\">14.137</td><td style = \"text-align: right;\">13.716</td><td style = \"text-align: right;\">13.914</td><td style = \"text-align: right;\">10.33</td><td style = \"text-align: right;\">12.509</td><td style = \"text-align: right;\">14.681</td><td style = \"text-align: right;\">15.291</td><td style = \"text-align: right;\">12.428</td><td style = \"text-align: right;\">13.724</td><td style = \"text-align: right;\">13.942</td><td style = \"text-align: right;\">14.533</td><td style = \"text-align: right;\">14.243</td><td style = \"text-align: right;\">14.28</td><td style = \"text-align: right;\">14.347</td><td style = \"text-align: right;\">14.401</td><td style = \"text-align: right;\">13.624</td><td style = \"text-align: right;\">13.771</td><td style = \"text-align: right;\">13.424</td><td style = \"text-align: right;\">13.562</td><td style = \"text-align: right;\">13.38</td><td style = \"text-align: right;\">12.794</td><td style = \"text-align: right;\">12.361</td><td style = \"text-align: right;\">15.332</td><td style = \"text-align: right;\">14.932</td><td style = \"text-align: right;\">14.845</td><td style = \"text-align: right;\">15.077</td><td style = \"text-align: right;\">14.859</td><td style = \"text-align: right;\">14.384</td><td style = \"text-align: right;\">14.296</td><td style = \"text-align: right;\">13.806</td><td style = \"text-align: right;\">14.147</td><td style = \"text-align: right;\">13.204</td><td style = \"text-align: right;\">13.585</td><td style = \"text-align: right;\">13.129</td><td style = \"text-align: right;\">12.163</td><td style = \"text-align: right;\">8.345</td><td style = \"text-align: right;\">14.16</td><td style = \"text-align: right;\">13.969</td><td style = \"text-align: right;\">14.061</td><td style = \"text-align: right;\">13.865</td><td style = \"text-align: right;\">13.096</td><td style = \"text-align: right;\">13.459</td><td style = \"text-align: right;\">12.487</td><td style = \"text-align: right;\">14.692</td><td style = \"text-align: right;\">13.804</td><td style = \"text-align: right;\">16.059</td><td style = \"text-align: right;\">16.074</td><td style = \"text-align: right;\">16.011</td><td style = \"text-align: right;\">15.545</td><td style = \"text-align: right;\">15.406</td><td style = \"text-align: right;\">15.51</td><td style = \"text-align: right;\">14.934</td><td style = \"text-align: right;\">13.014</td><td style = \"text-align: right;\">12.128</td><td style = \"text-align: right;\">10.242</td><td style = \"text-align: right;\">14.031</td><td style = \"text-align: right;\">14.619</td><td style = \"text-align: right;\">14.694</td><td style = \"text-align: right;\">14.367</td><td style = \"text-align: right;\">13.109</td><td style = \"text-align: right;\">12.496</td><td style = \"text-align: right;\">13.936</td><td style = \"text-align: right;\">18.353</td><td style = \"text-align: right;\">17.438</td><td style = \"text-align: right;\">17.023</td><td style = \"text-align: right;\">16.186</td><td style = \"text-align: right;\">15.476</td><td style = \"text-align: right;\">14.089</td><td style = \"text-align: right;\">&ctdot;</td></tr><tr><td class = \"rowNumber\" style = \"font-weight: bold; text-align: right;\">6</td><td style = \"text-align: left;\">H2259</td><td style = \"text-align: left;\">BXD24</td><td style = \"text-align: right;\">24</td><td style = \"text-align: right;\">11.837</td><td style = \"text-align: right;\">11.715</td><td style = \"text-align: right;\">17.57</td><td style = \"text-align: right;\">17.792</td><td style = \"text-align: right;\">17.505</td><td style = \"text-align: right;\">16.894</td><td style = \"text-align: right;\">16.277</td><td style = \"text-align: right;\">16.408</td><td style = \"text-align: right;\">16.127</td><td style = \"text-align: right;\">16.226</td><td style = \"text-align: right;\">15.512</td><td style = \"text-align: right;\">15.217</td><td style = \"text-align: right;\">14.936</td><td style = \"text-align: right;\">15.126</td><td style = \"text-align: right;\">15.137</td><td style = \"text-align: right;\">14.774</td><td style = \"text-align: right;\">14.909</td><td style = \"text-align: right;\">14.821</td><td style = \"text-align: right;\">14.443</td><td style = \"text-align: right;\">14.327</td><td style = \"text-align: right;\">13.977</td><td style = \"text-align: right;\">13.275</td><td style = \"text-align: right;\">13.467</td><td style = \"text-align: right;\">12.901</td><td style = \"text-align: right;\">12.17</td><td style = \"text-align: right;\">15.032</td><td style = \"text-align: right;\">14.423</td><td style = \"text-align: right;\">16.016</td><td style = \"text-align: right;\">14.499</td><td style = \"text-align: right;\">14.443</td><td style = \"text-align: right;\">14.15</td><td style = \"text-align: right;\">13.914</td><td style = \"text-align: right;\">11.629</td><td style = \"text-align: right;\">11.703</td><td style = \"text-align: right;\">14.199</td><td style = \"text-align: right;\">14.91</td><td style = \"text-align: right;\">13.119</td><td style = \"text-align: right;\">14.628</td><td style = \"text-align: right;\">14.397</td><td style = \"text-align: right;\">14.863</td><td style = \"text-align: right;\">15.049</td><td style = \"text-align: right;\">14.504</td><td style = \"text-align: right;\">13.994</td><td style = \"text-align: right;\">13.705</td><td style = \"text-align: right;\">14.438</td><td style = \"text-align: right;\">13.283</td><td style = \"text-align: right;\">14.034</td><td style = \"text-align: right;\">13.776</td><td style = \"text-align: right;\">13.369</td><td style = \"text-align: right;\">13.268</td><td style = \"text-align: right;\">13.169</td><td style = \"text-align: right;\">15.819</td><td style = \"text-align: right;\">16.623</td><td style = \"text-align: right;\">14.966</td><td style = \"text-align: right;\">15.085</td><td style = \"text-align: right;\">15.048</td><td style = \"text-align: right;\">14.508</td><td style = \"text-align: right;\">13.742</td><td style = \"text-align: right;\">14.183</td><td style = \"text-align: right;\">14.045</td><td style = \"text-align: right;\">12.944</td><td style = \"text-align: right;\">13.709</td><td style = \"text-align: right;\">13.951</td><td style = \"text-align: right;\">11.915</td><td style = \"text-align: right;\">12.226</td><td style = \"text-align: right;\">14.677</td><td style = \"text-align: right;\">14.584</td><td style = \"text-align: right;\">14.699</td><td style = \"text-align: right;\">13.069</td><td style = \"text-align: right;\">13.73</td><td style = \"text-align: right;\">13.668</td><td style = \"text-align: right;\">12.112</td><td style = \"text-align: right;\">14.754</td><td style = \"text-align: right;\">13.307</td><td style = \"text-align: right;\">16.1</td><td style = \"text-align: right;\">16.239</td><td style = \"text-align: right;\">16.072</td><td style = \"text-align: right;\">15.849</td><td style = \"text-align: right;\">15.743</td><td style = \"text-align: right;\">15.519</td><td style = \"text-align: right;\">15.132</td><td style = \"text-align: right;\">13.229</td><td style = \"text-align: right;\">12.628</td><td style = \"text-align: right;\">9.156</td><td style = \"text-align: right;\">13.72</td><td style = \"text-align: right;\">15.432</td><td style = \"text-align: right;\">15.469</td><td style = \"text-align: right;\">14.728</td><td style = \"text-align: right;\">13.421</td><td style = \"text-align: right;\">13.398</td><td style = \"text-align: right;\">14.013</td><td style = \"text-align: right;\">17.736</td><td style = \"text-align: right;\">17.088</td><td style = \"text-align: right;\">16.729</td><td style = \"text-align: right;\">16.112</td><td style = \"text-align: right;\">15.209</td><td style = \"text-align: right;\">13.971</td><td style = \"text-align: right;\">&ctdot;</td></tr></tbody></table></div>"
      ],
      "text/latex": [
       "\\begin{tabular}{r|ccccccc}\n",
       "\t& Sample & Strain & Strain\\_num & P42209\\_DESGLNRK\\_2 & P42209\\_GLRPLDVAFLR\\_3 & Q99M02\\_VGDPVYR\\_2 & \\\\\n",
       "\t\\hline\n",
       "\t& String7 & String7 & Int64 & Float64 & Float64 & Float64 & \\\\\n",
       "\t\\hline\n",
       "\t1 & H1009 & BXD9 & 9 & 11.349 & 11.534 & 17.587 & $\\dots$ \\\\\n",
       "\t2 & H0370 & BXD9 & 9 & 11.249 & 12.735 & 17.427 & $\\dots$ \\\\\n",
       "\t3 & H2577 & BXD9 & 9 & 12.415 & 10.487 & 17.89 & $\\dots$ \\\\\n",
       "\t4 & H0365 & BXD9 & 9 & 11.374 & 10.674 & 17.714 & $\\dots$ \\\\\n",
       "\t5 & H1333 & BXD13 & 13 & 11.687 & 11.524 & 17.362 & $\\dots$ \\\\\n",
       "\t6 & H2259 & BXD24 & 24 & 11.837 & 11.715 & 17.57 & $\\dots$ \\\\\n",
       "\\end{tabular}\n"
      ],
      "text/plain": [
       "\u001b[1m6×32448 DataFrame\u001b[0m\n",
       "\u001b[1m Row \u001b[0m│\u001b[1m Sample  \u001b[0m\u001b[1m Strain  \u001b[0m\u001b[1m Strain_num \u001b[0m\u001b[1m P42209_DESGLNRK_2 \u001b[0m\u001b[1m P42209_GLRPLDVAFLR_3 \u001b[0m\u001b[1m \u001b[0m ⋯\n",
       "     │\u001b[90m String7 \u001b[0m\u001b[90m String7 \u001b[0m\u001b[90m Int64      \u001b[0m\u001b[90m Float64           \u001b[0m\u001b[90m Float64              \u001b[0m\u001b[90m \u001b[0m ⋯\n",
       "─────┼──────────────────────────────────────────────────────────────────────────\n",
       "   1 │ H1009    BXD9              9             11.349                11.534   ⋯\n",
       "   2 │ H0370    BXD9              9             11.249                12.735\n",
       "   3 │ H2577    BXD9              9             12.415                10.487\n",
       "   4 │ H0365    BXD9              9             11.374                10.674\n",
       "   5 │ H1333    BXD13            13             11.687                11.524   ⋯\n",
       "   6 │ H2259    BXD24            24             11.837                11.715\n",
       "\u001b[36m                                                           32443 columns omitted\u001b[0m"
      ]
     },
     "execution_count": 160,
     "metadata": {},
     "output_type": "execute_result"
    }
   ],
   "source": [
    "BXD_pheno_ind_summary_df[1:6, :]"
   ]
  },
  {
   "cell_type": "code",
   "execution_count": 161,
   "id": "b377263f-5b06-48ce-b4cd-e190d1c61ef1",
   "metadata": {},
   "outputs": [
    {
     "data": {
      "text/html": [
       "<div><div style = \"float: left;\"><span>6×32447 DataFrame</span></div><div style = \"float: right;\"><span style = \"font-style: italic;\">32347 columns omitted</span></div><div style = \"clear: both;\"></div></div><div class = \"data-frame\" style = \"overflow-x: scroll;\"><table class = \"data-frame\" style = \"margin-bottom: 6px;\"><thead><tr class = \"header\"><th class = \"rowNumber\" style = \"font-weight: bold; text-align: right;\">Row</th><th style = \"text-align: left;\">Strain</th><th style = \"text-align: left;\">Number of Samples</th><th style = \"text-align: left;\">P42209_DESGLNRK_2</th><th style = \"text-align: left;\">P42209_GLRPLDVAFLR_3</th><th style = \"text-align: left;\">Q99M02_VGDPVYR_2</th><th style = \"text-align: left;\">Q99M02_VWIYPIK_2</th><th style = \"text-align: left;\">Q99M02_LCDPSVK_2</th><th style = \"text-align: left;\">Q99M02_CVLTTVDPDTGIIDR_2</th><th style = \"text-align: left;\">Q99M02_LVQFDTSMK_2</th><th style = \"text-align: left;\">Q99M02_QLQQVGTVSK_2</th><th style = \"text-align: left;\">Q99M02_KLYPSESYLQNYEVAYPDCSPVHLISEASLVDLNTR_4</th><th style = \"text-align: left;\">Q99M02_GRDCGDEVAQWFTNYLK_3</th><th style = \"text-align: left;\">Q99M02_SIYQSSPLFGMYFSVEK_2</th><th style = \"text-align: left;\">Q99M02_RQLQQVGTVSK_3</th><th style = \"text-align: left;\">Q99M02_LYPSESYLQNYEVAYPDCSPVHLISEASLVDLNTR_4</th><th style = \"text-align: left;\">Q99M02_KLYPSESYLQNYEVAYPDCSPVHLISEASLVDLNTR_5</th><th style = \"text-align: left;\">Q99M02_SIYQSSPLFGMYFSVEK_3</th><th style = \"text-align: left;\">Q99M02_CVLTTVDPDTGIIDRK_3</th><th style = \"text-align: left;\">Q99M02_CVLTTVDPDTGIIDR_3</th><th style = \"text-align: left;\">Q99M02_TQAYRLVQFDTSMK_3</th><th style = \"text-align: left;\">Q99M02_GVSVCETECTDMGLR_2</th><th style = \"text-align: left;\">Q99M02_DCGDEVAQWFTNYLK_2</th><th style = \"text-align: left;\">Q99M02_DRFWMVVK_2</th><th style = \"text-align: left;\">Q99M02_GRDCGDEVAQWFTNYLK_2</th><th style = \"text-align: left;\">Q99M02_DCGDEVAQWFTNYLK_3</th><th style = \"text-align: left;\">Q99M02_EDGHMVTAR_2</th><th style = \"text-align: left;\">Q99M02_RQLQQVGTVSK_2</th><th style = \"text-align: left;\">P42208_TIISYIDEQFER_2</th><th style = \"text-align: left;\">P42208_ILDEIEEHSIK_3</th><th style = \"text-align: left;\">P42208_VNIVPVIAK_2</th><th style = \"text-align: left;\">P42208_ASIPFSVVGSNQLIEAK_2</th><th style = \"text-align: left;\">P42208_TVQIEASTVEIEER_2</th><th style = \"text-align: left;\">P42208_LTVVDTPGYGDAINCR_2</th><th style = \"text-align: left;\">P42208_ASIPFSVVGSNQLIEAK_3</th><th style = \"text-align: left;\">P42208_STLINSLFLTDLYPER_3</th><th style = \"text-align: left;\">Q9Z1S5_VNIIPVIAK_2</th><th style = \"text-align: left;\">Q3KNM2_LGPVVYVLDLADR_2</th><th style = \"text-align: left;\">Q9Z2Q6_LATPEDKQDIDKQYVGFATLPNQVHR_4</th><th style = \"text-align: left;\">Q9Z2Q6_VNIVPILAK_2</th><th style = \"text-align: left;\">Q9R1T4_RNEFLGELQK_3</th><th style = \"text-align: left;\">Q9R1T4_STLMDTLFNTK_2</th><th style = \"text-align: left;\">O55131_STLINSLFLTDLYSPEYPGPSHR_3</th><th style = \"text-align: left;\">O55131_FEDYLNAESR_2</th><th style = \"text-align: left;\">O55131_IYEFPETDDEEENKLVK_3</th><th style = \"text-align: left;\">O55131_NLEGYVGFANLPNQVYR_2</th><th style = \"text-align: left;\">O55131_DVTNNVHYENYR_3</th><th style = \"text-align: left;\">O55131_ANWEAQQR_2</th><th style = \"text-align: left;\">O55131_NLEGYVGFANLPNQVYR_3</th><th style = \"text-align: left;\">O55131_ADTLTPEECQQFK_2</th><th style = \"text-align: left;\">O55131_ILEQQNSSR_2</th><th style = \"text-align: left;\">O55131_VQCCLYFIAPSGHGLKPLDIEFMK_4</th><th style = \"text-align: left;\">O55131_TVQVEQSK_2</th><th style = \"text-align: left;\">O55131_LKDSEAELQR_2</th><th style = \"text-align: left;\">Q8CHH9_VNIIPLIAK_2</th><th style = \"text-align: left;\">Q8CHH9_VNIIPIIAK_2</th><th style = \"text-align: left;\">Q80UG5_ADTLTLEER_2</th><th style = \"text-align: left;\">Q80UG5_STLINTLFK_2</th><th style = \"text-align: left;\">Q80UG5_RTEITIVKPQESVLR_4</th><th style = \"text-align: left;\">Q80UG5_DITSNIHFEAYR_3</th><th style = \"text-align: left;\">Q80UG5_LEPRPSVAEVPYR_3</th><th style = \"text-align: left;\">Q80UG5_FINDQYEK_2</th><th style = \"text-align: left;\">Q80UG5_YLQEEVNINR_2</th><th style = \"text-align: left;\">Q80UG5_VVNIVPVIAK_2</th><th style = \"text-align: left;\">Q80UG5_SITHDIEEK_2</th><th style = \"text-align: left;\">Q80UG5_IPEGSAVPATDAAPK_2</th><th style = \"text-align: left;\">Q80UG5_SVQPTSEER_2</th><th style = \"text-align: left;\">Q80UG5_QVESTASAAGPSR_2</th><th style = \"text-align: left;\">Q8C1B7_FESDPATHNEPGVR_3</th><th style = \"text-align: left;\">Q8C1B7_SYELQESNVR_2</th><th style = \"text-align: left;\">Q8C1B7_NLSLSGHVGFDSLPDQLVNK_3</th><th style = \"text-align: left;\">Q8C1B7_AAAQLLQSQAQQSGAQQTK_3</th><th style = \"text-align: left;\">Q8C1B7_ELEEEVSNFQK_2</th><th style = \"text-align: left;\">Q9ERR7_WNTDSVEEFLSEK_2</th><th style = \"text-align: left;\">Q9ERR7_LLDDNGNIAEELSILK_2</th><th style = \"text-align: left;\">Q9ERY9_YLEAEPVSR_2</th><th style = \"text-align: left;\">P59708_ITAEEMYDIFGK_2</th><th style = \"text-align: left;\">Q9DCS2_CLDSIAATTR_2</th><th style = \"text-align: left;\">Q9DCS2_ISPQSNVDFDLTLR_2</th><th style = \"text-align: left;\">Q9DCS2_VLEVASGSGQHAAHFAQAFPNAEWQPSDVDQR_4</th><th style = \"text-align: left;\">Q9DCS2_QYVDPAQR_2</th><th style = \"text-align: left;\">Q9DCS2_NKEPILSVLR_2</th><th style = \"text-align: left;\">Q9DCS2_AQGLSNVK_2</th><th style = \"text-align: left;\">Q9DCS2_VLEVASGSGQHAAHFAQAFPNAEWQPSDVDQR_5</th><th style = \"text-align: left;\">Q9DCS2_MVDMPANNK_2</th><th style = \"text-align: left;\">Q9DCS2_DTVLLEELGQASGLVLER_3</th><th style = \"text-align: left;\">Q9DCS2_DTVLLEELGQASGLVLER_2</th><th style = \"text-align: left;\">Q9JHJ3_LLHTADVCQLEVALVGASPR_3</th><th style = \"text-align: left;\">A2A8E1_TIVEFECR_2</th><th style = \"text-align: left;\">A2A8E1_ATLENVTNLRPVGEDFR_3</th><th style = \"text-align: left;\">A2A8E1_ENSIDILSSTIK_2</th><th style = \"text-align: left;\">A2A8E1_AQESVGIFEVTHQFVK_3</th><th style = \"text-align: left;\">Q8BWR2_GLAYGLYLR_2</th><th style = \"text-align: left;\">Q8VED9_IQTLSAIDTIK_2</th><th style = \"text-align: left;\">Q9CRB3_LFFDTER_2</th><th style = \"text-align: left;\">Q9CRB3_FHVPLLLSPWSYTTYR_3</th><th style = \"text-align: left;\">Q9CRB3_TSYTNLDGR_2</th><th style = \"text-align: left;\">Q9CRB3_LEAPCQQWMELR_2</th><th style = \"text-align: left;\">Q9CRB3_CPGLLTPSQIKPGTYK_3</th><th style = \"text-align: left;\">Q9CRB3_LEAPCQQWMELR_3</th><th style = \"text-align: left;\">Q9CRB3_CPGLLTPSQIKPGTYK_2</th><th style = \"text-align: right;\">&ctdot;</th></tr><tr class = \"subheader headerLastRow\"><th class = \"rowNumber\" style = \"font-weight: bold; text-align: right;\"></th><th title = \"String7\" style = \"text-align: left;\">String7</th><th title = \"Int64\" style = \"text-align: left;\">Int64</th><th title = \"Float64\" style = \"text-align: left;\">Float64</th><th title = \"Float64\" style = \"text-align: left;\">Float64</th><th title = \"Float64\" style = \"text-align: left;\">Float64</th><th title = \"Float64\" style = \"text-align: left;\">Float64</th><th title = \"Float64\" style = \"text-align: left;\">Float64</th><th title = \"Float64\" style = \"text-align: left;\">Float64</th><th title = \"Float64\" style = \"text-align: left;\">Float64</th><th title = \"Float64\" style = \"text-align: left;\">Float64</th><th title = \"Float64\" style = \"text-align: left;\">Float64</th><th title = \"Float64\" style = \"text-align: left;\">Float64</th><th title = \"Float64\" style = \"text-align: left;\">Float64</th><th title = \"Float64\" style = \"text-align: left;\">Float64</th><th title = \"Float64\" style = \"text-align: left;\">Float64</th><th title = \"Float64\" style = \"text-align: left;\">Float64</th><th title = \"Float64\" style = \"text-align: left;\">Float64</th><th title = \"Float64\" style = \"text-align: left;\">Float64</th><th title = \"Float64\" style = \"text-align: left;\">Float64</th><th title = \"Float64\" style = \"text-align: left;\">Float64</th><th title = \"Float64\" style = \"text-align: left;\">Float64</th><th title = \"Float64\" style = \"text-align: left;\">Float64</th><th title = \"Float64\" style = \"text-align: left;\">Float64</th><th title = \"Float64\" style = \"text-align: left;\">Float64</th><th title = \"Float64\" style = \"text-align: left;\">Float64</th><th title = \"Float64\" style = \"text-align: left;\">Float64</th><th title = \"Float64\" style = \"text-align: left;\">Float64</th><th title = \"Float64\" style = \"text-align: left;\">Float64</th><th title = \"Float64\" style = \"text-align: left;\">Float64</th><th title = \"Float64\" style = \"text-align: left;\">Float64</th><th title = \"Float64\" style = \"text-align: left;\">Float64</th><th title = \"Float64\" style = \"text-align: left;\">Float64</th><th title = \"Float64\" style = \"text-align: left;\">Float64</th><th title = \"Float64\" style = \"text-align: left;\">Float64</th><th title = \"Float64\" style = \"text-align: left;\">Float64</th><th title = \"Float64\" style = \"text-align: left;\">Float64</th><th title = \"Float64\" style = \"text-align: left;\">Float64</th><th title = \"Float64\" style = \"text-align: left;\">Float64</th><th title = \"Float64\" style = \"text-align: left;\">Float64</th><th title = \"Float64\" style = \"text-align: left;\">Float64</th><th title = \"Float64\" style = \"text-align: left;\">Float64</th><th title = \"Float64\" style = \"text-align: left;\">Float64</th><th title = \"Float64\" style = \"text-align: left;\">Float64</th><th title = \"Float64\" style = \"text-align: left;\">Float64</th><th title = \"Float64\" style = \"text-align: left;\">Float64</th><th title = \"Float64\" style = \"text-align: left;\">Float64</th><th title = \"Float64\" style = \"text-align: left;\">Float64</th><th title = \"Float64\" style = \"text-align: left;\">Float64</th><th title = \"Float64\" style = \"text-align: left;\">Float64</th><th title = \"Float64\" style = \"text-align: left;\">Float64</th><th title = \"Float64\" style = \"text-align: left;\">Float64</th><th title = \"Float64\" style = \"text-align: left;\">Float64</th><th title = \"Float64\" style = \"text-align: left;\">Float64</th><th title = \"Float64\" style = \"text-align: left;\">Float64</th><th title = \"Float64\" style = \"text-align: left;\">Float64</th><th title = \"Float64\" style = \"text-align: left;\">Float64</th><th title = \"Float64\" style = \"text-align: left;\">Float64</th><th title = \"Float64\" style = \"text-align: left;\">Float64</th><th title = \"Float64\" style = \"text-align: left;\">Float64</th><th title = \"Float64\" style = \"text-align: left;\">Float64</th><th title = \"Float64\" style = \"text-align: left;\">Float64</th><th title = \"Float64\" style = \"text-align: left;\">Float64</th><th title = \"Float64\" style = \"text-align: left;\">Float64</th><th title = \"Float64\" style = \"text-align: left;\">Float64</th><th title = \"Float64\" style = \"text-align: left;\">Float64</th><th title = \"Float64\" style = \"text-align: left;\">Float64</th><th title = \"Float64\" style = \"text-align: left;\">Float64</th><th title = \"Float64\" style = \"text-align: left;\">Float64</th><th title = \"Float64\" style = \"text-align: left;\">Float64</th><th title = \"Float64\" style = \"text-align: left;\">Float64</th><th title = \"Float64\" style = \"text-align: left;\">Float64</th><th title = \"Float64\" style = \"text-align: left;\">Float64</th><th title = \"Float64\" style = \"text-align: left;\">Float64</th><th title = \"Float64\" style = \"text-align: left;\">Float64</th><th title = \"Float64\" style = \"text-align: left;\">Float64</th><th title = \"Float64\" style = \"text-align: left;\">Float64</th><th title = \"Float64\" style = \"text-align: left;\">Float64</th><th title = \"Float64\" style = \"text-align: left;\">Float64</th><th title = \"Float64\" style = \"text-align: left;\">Float64</th><th title = \"Float64\" style = \"text-align: left;\">Float64</th><th title = \"Float64\" style = \"text-align: left;\">Float64</th><th title = \"Float64\" style = \"text-align: left;\">Float64</th><th title = \"Float64\" style = \"text-align: left;\">Float64</th><th title = \"Float64\" style = \"text-align: left;\">Float64</th><th title = \"Float64\" style = \"text-align: left;\">Float64</th><th title = \"Float64\" style = \"text-align: left;\">Float64</th><th title = \"Float64\" style = \"text-align: left;\">Float64</th><th title = \"Float64\" style = \"text-align: left;\">Float64</th><th title = \"Float64\" style = \"text-align: left;\">Float64</th><th title = \"Float64\" style = \"text-align: left;\">Float64</th><th title = \"Float64\" style = \"text-align: left;\">Float64</th><th title = \"Float64\" style = \"text-align: left;\">Float64</th><th title = \"Float64\" style = \"text-align: left;\">Float64</th><th title = \"Float64\" style = \"text-align: left;\">Float64</th><th title = \"Float64\" style = \"text-align: left;\">Float64</th><th title = \"Float64\" style = \"text-align: left;\">Float64</th><th title = \"Float64\" style = \"text-align: left;\">Float64</th><th title = \"Float64\" style = \"text-align: left;\">Float64</th><th title = \"Float64\" style = \"text-align: left;\">Float64</th><th title = \"Float64\" style = \"text-align: left;\">Float64</th><th title = \"Float64\" style = \"text-align: right;\">&ctdot;</th></tr></thead><tbody><tr><td class = \"rowNumber\" style = \"font-weight: bold; text-align: right;\">1</td><td style = \"text-align: left;\">BXD9</td><td style = \"text-align: right;\">4</td><td style = \"text-align: right;\">11.5968</td><td style = \"text-align: right;\">11.3575</td><td style = \"text-align: right;\">17.6545</td><td style = \"text-align: right;\">17.4327</td><td style = \"text-align: right;\">17.384</td><td style = \"text-align: right;\">16.6528</td><td style = \"text-align: right;\">16.2222</td><td style = \"text-align: right;\">16.3227</td><td style = \"text-align: right;\">16.1728</td><td style = \"text-align: right;\">15.9748</td><td style = \"text-align: right;\">15.389</td><td style = \"text-align: right;\">15.5355</td><td style = \"text-align: right;\">15.2248</td><td style = \"text-align: right;\">15.0568</td><td style = \"text-align: right;\">14.8253</td><td style = \"text-align: right;\">14.9138</td><td style = \"text-align: right;\">14.701</td><td style = \"text-align: right;\">14.4827</td><td style = \"text-align: right;\">14.435</td><td style = \"text-align: right;\">14.1852</td><td style = \"text-align: right;\">14.181</td><td style = \"text-align: right;\">13.767</td><td style = \"text-align: right;\">12.6575</td><td style = \"text-align: right;\">13.0293</td><td style = \"text-align: right;\">12.1615</td><td style = \"text-align: right;\">14.4335</td><td style = \"text-align: right;\">14.329</td><td style = \"text-align: right;\">13.121</td><td style = \"text-align: right;\">13.7155</td><td style = \"text-align: right;\">13.792</td><td style = \"text-align: right;\">13.6792</td><td style = \"text-align: right;\">13.588</td><td style = \"text-align: right;\">10.4722</td><td style = \"text-align: right;\">10.8012</td><td style = \"text-align: right;\">14.4032</td><td style = \"text-align: right;\">15.1105</td><td style = \"text-align: right;\">12.296</td><td style = \"text-align: right;\">13.9857</td><td style = \"text-align: right;\">13.5813</td><td style = \"text-align: right;\">14.4152</td><td style = \"text-align: right;\">14.314</td><td style = \"text-align: right;\">14.0682</td><td style = \"text-align: right;\">14.0802</td><td style = \"text-align: right;\">14.0095</td><td style = \"text-align: right;\">14.2483</td><td style = \"text-align: right;\">13.491</td><td style = \"text-align: right;\">13.2422</td><td style = \"text-align: right;\">13.0218</td><td style = \"text-align: right;\">13.1207</td><td style = \"text-align: right;\">12.596</td><td style = \"text-align: right;\">12.545</td><td style = \"text-align: right;\">15.0785</td><td style = \"text-align: right;\">14.098</td><td style = \"text-align: right;\">14.998</td><td style = \"text-align: right;\">14.2985</td><td style = \"text-align: right;\">14.5045</td><td style = \"text-align: right;\">14.4415</td><td style = \"text-align: right;\">14.059</td><td style = \"text-align: right;\">13.7245</td><td style = \"text-align: right;\">13.7157</td><td style = \"text-align: right;\">13.0465</td><td style = \"text-align: right;\">13.9132</td><td style = \"text-align: right;\">12.589</td><td style = \"text-align: right;\">12.211</td><td style = \"text-align: right;\">11.2688</td><td style = \"text-align: right;\">13.8725</td><td style = \"text-align: right;\">13.8287</td><td style = \"text-align: right;\">13.6202</td><td style = \"text-align: right;\">13.7073</td><td style = \"text-align: right;\">13.2155</td><td style = \"text-align: right;\">13.211</td><td style = \"text-align: right;\">12.4328</td><td style = \"text-align: right;\">14.7125</td><td style = \"text-align: right;\">13.2955</td><td style = \"text-align: right;\">16.292</td><td style = \"text-align: right;\">16.3242</td><td style = \"text-align: right;\">16.059</td><td style = \"text-align: right;\">15.9615</td><td style = \"text-align: right;\">15.9207</td><td style = \"text-align: right;\">15.8298</td><td style = \"text-align: right;\">14.756</td><td style = \"text-align: right;\">13.4055</td><td style = \"text-align: right;\">10.155</td><td style = \"text-align: right;\">10.0538</td><td style = \"text-align: right;\">13.8277</td><td style = \"text-align: right;\">15.0023</td><td style = \"text-align: right;\">14.9838</td><td style = \"text-align: right;\">14.7153</td><td style = \"text-align: right;\">13.053</td><td style = \"text-align: right;\">13.0248</td><td style = \"text-align: right;\">13.3317</td><td style = \"text-align: right;\">18.24</td><td style = \"text-align: right;\">17.0547</td><td style = \"text-align: right;\">17.0873</td><td style = \"text-align: right;\">16.1775</td><td style = \"text-align: right;\">15.6133</td><td style = \"text-align: right;\">14.0457</td><td style = \"text-align: right;\">13.528</td><td style = \"text-align: right;\">&ctdot;</td></tr><tr><td class = \"rowNumber\" style = \"font-weight: bold; text-align: right;\">2</td><td style = \"text-align: left;\">BXD13</td><td style = \"text-align: right;\">1</td><td style = \"text-align: right;\">11.687</td><td style = \"text-align: right;\">11.524</td><td style = \"text-align: right;\">17.362</td><td style = \"text-align: right;\">17.367</td><td style = \"text-align: right;\">17.071</td><td style = \"text-align: right;\">16.465</td><td style = \"text-align: right;\">15.97</td><td style = \"text-align: right;\">15.98</td><td style = \"text-align: right;\">16.108</td><td style = \"text-align: right;\">15.938</td><td style = \"text-align: right;\">15.541</td><td style = \"text-align: right;\">15.121</td><td style = \"text-align: right;\">14.971</td><td style = \"text-align: right;\">14.903</td><td style = \"text-align: right;\">14.859</td><td style = \"text-align: right;\">14.664</td><td style = \"text-align: right;\">14.504</td><td style = \"text-align: right;\">14.407</td><td style = \"text-align: right;\">13.969</td><td style = \"text-align: right;\">14.8</td><td style = \"text-align: right;\">14.137</td><td style = \"text-align: right;\">13.564</td><td style = \"text-align: right;\">12.76</td><td style = \"text-align: right;\">12.675</td><td style = \"text-align: right;\">10.73</td><td style = \"text-align: right;\">14.177</td><td style = \"text-align: right;\">14.387</td><td style = \"text-align: right;\">14.163</td><td style = \"text-align: right;\">14.263</td><td style = \"text-align: right;\">14.137</td><td style = \"text-align: right;\">13.716</td><td style = \"text-align: right;\">13.914</td><td style = \"text-align: right;\">10.33</td><td style = \"text-align: right;\">12.509</td><td style = \"text-align: right;\">14.681</td><td style = \"text-align: right;\">15.291</td><td style = \"text-align: right;\">12.428</td><td style = \"text-align: right;\">13.724</td><td style = \"text-align: right;\">13.942</td><td style = \"text-align: right;\">14.533</td><td style = \"text-align: right;\">14.243</td><td style = \"text-align: right;\">14.28</td><td style = \"text-align: right;\">14.347</td><td style = \"text-align: right;\">14.401</td><td style = \"text-align: right;\">13.624</td><td style = \"text-align: right;\">13.771</td><td style = \"text-align: right;\">13.424</td><td style = \"text-align: right;\">13.562</td><td style = \"text-align: right;\">13.38</td><td style = \"text-align: right;\">12.794</td><td style = \"text-align: right;\">12.361</td><td style = \"text-align: right;\">15.332</td><td style = \"text-align: right;\">14.932</td><td style = \"text-align: right;\">14.845</td><td style = \"text-align: right;\">15.077</td><td style = \"text-align: right;\">14.859</td><td style = \"text-align: right;\">14.384</td><td style = \"text-align: right;\">14.296</td><td style = \"text-align: right;\">13.806</td><td style = \"text-align: right;\">14.147</td><td style = \"text-align: right;\">13.204</td><td style = \"text-align: right;\">13.585</td><td style = \"text-align: right;\">13.129</td><td style = \"text-align: right;\">12.163</td><td style = \"text-align: right;\">8.345</td><td style = \"text-align: right;\">14.16</td><td style = \"text-align: right;\">13.969</td><td style = \"text-align: right;\">14.061</td><td style = \"text-align: right;\">13.865</td><td style = \"text-align: right;\">13.096</td><td style = \"text-align: right;\">13.459</td><td style = \"text-align: right;\">12.487</td><td style = \"text-align: right;\">14.692</td><td style = \"text-align: right;\">13.804</td><td style = \"text-align: right;\">16.059</td><td style = \"text-align: right;\">16.074</td><td style = \"text-align: right;\">16.011</td><td style = \"text-align: right;\">15.545</td><td style = \"text-align: right;\">15.406</td><td style = \"text-align: right;\">15.51</td><td style = \"text-align: right;\">14.934</td><td style = \"text-align: right;\">13.014</td><td style = \"text-align: right;\">12.128</td><td style = \"text-align: right;\">10.242</td><td style = \"text-align: right;\">14.031</td><td style = \"text-align: right;\">14.619</td><td style = \"text-align: right;\">14.694</td><td style = \"text-align: right;\">14.367</td><td style = \"text-align: right;\">13.109</td><td style = \"text-align: right;\">12.496</td><td style = \"text-align: right;\">13.936</td><td style = \"text-align: right;\">18.353</td><td style = \"text-align: right;\">17.438</td><td style = \"text-align: right;\">17.023</td><td style = \"text-align: right;\">16.186</td><td style = \"text-align: right;\">15.476</td><td style = \"text-align: right;\">14.089</td><td style = \"text-align: right;\">13.59</td><td style = \"text-align: right;\">&ctdot;</td></tr><tr><td class = \"rowNumber\" style = \"font-weight: bold; text-align: right;\">3</td><td style = \"text-align: left;\">BXD24</td><td style = \"text-align: right;\">5</td><td style = \"text-align: right;\">12.0778</td><td style = \"text-align: right;\">11.7458</td><td style = \"text-align: right;\">17.7926</td><td style = \"text-align: right;\">17.8152</td><td style = \"text-align: right;\">17.5168</td><td style = \"text-align: right;\">16.9196</td><td style = \"text-align: right;\">16.3012</td><td style = \"text-align: right;\">16.4304</td><td style = \"text-align: right;\">16.4046</td><td style = \"text-align: right;\">16.198</td><td style = \"text-align: right;\">15.7484</td><td style = \"text-align: right;\">15.4766</td><td style = \"text-align: right;\">15.5122</td><td style = \"text-align: right;\">15.3378</td><td style = \"text-align: right;\">15.1678</td><td style = \"text-align: right;\">14.9602</td><td style = \"text-align: right;\">14.7964</td><td style = \"text-align: right;\">14.6034</td><td style = \"text-align: right;\">14.4538</td><td style = \"text-align: right;\">14.553</td><td style = \"text-align: right;\">14.1074</td><td style = \"text-align: right;\">13.4392</td><td style = \"text-align: right;\">13.4314</td><td style = \"text-align: right;\">12.8272</td><td style = \"text-align: right;\">12.076</td><td style = \"text-align: right;\">14.622</td><td style = \"text-align: right;\">14.2248</td><td style = \"text-align: right;\">14.2662</td><td style = \"text-align: right;\">13.7822</td><td style = \"text-align: right;\">14.082</td><td style = \"text-align: right;\">13.8986</td><td style = \"text-align: right;\">13.7788</td><td style = \"text-align: right;\">10.639</td><td style = \"text-align: right;\">10.9026</td><td style = \"text-align: right;\">14.6066</td><td style = \"text-align: right;\">15.3112</td><td style = \"text-align: right;\">12.8476</td><td style = \"text-align: right;\">14.1936</td><td style = \"text-align: right;\">13.8788</td><td style = \"text-align: right;\">14.5368</td><td style = \"text-align: right;\">14.5982</td><td style = \"text-align: right;\">14.1958</td><td style = \"text-align: right;\">14.0398</td><td style = \"text-align: right;\">14.0304</td><td style = \"text-align: right;\">14.1092</td><td style = \"text-align: right;\">13.5726</td><td style = \"text-align: right;\">13.493</td><td style = \"text-align: right;\">13.4714</td><td style = \"text-align: right;\">13.094</td><td style = \"text-align: right;\">12.8576</td><td style = \"text-align: right;\">12.6106</td><td style = \"text-align: right;\">15.381</td><td style = \"text-align: right;\">15.13</td><td style = \"text-align: right;\">14.7966</td><td style = \"text-align: right;\">14.7886</td><td style = \"text-align: right;\">14.807</td><td style = \"text-align: right;\">14.5512</td><td style = \"text-align: right;\">14.0154</td><td style = \"text-align: right;\">13.8298</td><td style = \"text-align: right;\">13.8532</td><td style = \"text-align: right;\">13.3786</td><td style = \"text-align: right;\">13.6128</td><td style = \"text-align: right;\">12.7878</td><td style = \"text-align: right;\">12.1732</td><td style = \"text-align: right;\">11.5004</td><td style = \"text-align: right;\">14.199</td><td style = \"text-align: right;\">14.1752</td><td style = \"text-align: right;\">14.03</td><td style = \"text-align: right;\">13.5106</td><td style = \"text-align: right;\">13.0432</td><td style = \"text-align: right;\">13.4558</td><td style = \"text-align: right;\">12.2262</td><td style = \"text-align: right;\">14.6826</td><td style = \"text-align: right;\">13.3648</td><td style = \"text-align: right;\">16.119</td><td style = \"text-align: right;\">16.1756</td><td style = \"text-align: right;\">16.024</td><td style = \"text-align: right;\">15.7366</td><td style = \"text-align: right;\">15.5866</td><td style = \"text-align: right;\">15.5456</td><td style = \"text-align: right;\">14.7516</td><td style = \"text-align: right;\">13.1946</td><td style = \"text-align: right;\">12.2582</td><td style = \"text-align: right;\">9.51</td><td style = \"text-align: right;\">13.862</td><td style = \"text-align: right;\">15.1892</td><td style = \"text-align: right;\">15.1918</td><td style = \"text-align: right;\">14.6118</td><td style = \"text-align: right;\">13.2002</td><td style = \"text-align: right;\">13.1128</td><td style = \"text-align: right;\">13.6436</td><td style = \"text-align: right;\">18.0574</td><td style = \"text-align: right;\">16.9206</td><td style = \"text-align: right;\">16.9398</td><td style = \"text-align: right;\">16.1706</td><td style = \"text-align: right;\">15.4332</td><td style = \"text-align: right;\">14.1424</td><td style = \"text-align: right;\">13.2646</td><td style = \"text-align: right;\">&ctdot;</td></tr><tr><td class = \"rowNumber\" style = \"font-weight: bold; text-align: right;\">4</td><td style = \"text-align: left;\">BXD27</td><td style = \"text-align: right;\">3</td><td style = \"text-align: right;\">11.717</td><td style = \"text-align: right;\">11.149</td><td style = \"text-align: right;\">17.336</td><td style = \"text-align: right;\">17.3143</td><td style = \"text-align: right;\">17.165</td><td style = \"text-align: right;\">16.5283</td><td style = \"text-align: right;\">15.9407</td><td style = \"text-align: right;\">16.002</td><td style = \"text-align: right;\">15.835</td><td style = \"text-align: right;\">15.6853</td><td style = \"text-align: right;\">15.393</td><td style = \"text-align: right;\">15.2167</td><td style = \"text-align: right;\">14.949</td><td style = \"text-align: right;\">15.1823</td><td style = \"text-align: right;\">14.6633</td><td style = \"text-align: right;\">14.868</td><td style = \"text-align: right;\">14.3793</td><td style = \"text-align: right;\">14.2423</td><td style = \"text-align: right;\">13.8173</td><td style = \"text-align: right;\">14.148</td><td style = \"text-align: right;\">14.0913</td><td style = \"text-align: right;\">13.4913</td><td style = \"text-align: right;\">12.6937</td><td style = \"text-align: right;\">12.1197</td><td style = \"text-align: right;\">11.027</td><td style = \"text-align: right;\">14.52</td><td style = \"text-align: right;\">14.422</td><td style = \"text-align: right;\">14.1073</td><td style = \"text-align: right;\">13.619</td><td style = \"text-align: right;\">13.63</td><td style = \"text-align: right;\">13.6857</td><td style = \"text-align: right;\">13.611</td><td style = \"text-align: right;\">9.32133</td><td style = \"text-align: right;\">11.7763</td><td style = \"text-align: right;\">14.571</td><td style = \"text-align: right;\">15.3837</td><td style = \"text-align: right;\">12.784</td><td style = \"text-align: right;\">14.6323</td><td style = \"text-align: right;\">13.7723</td><td style = \"text-align: right;\">14.1757</td><td style = \"text-align: right;\">14.3563</td><td style = \"text-align: right;\">14.211</td><td style = \"text-align: right;\">14.0903</td><td style = \"text-align: right;\">14.1083</td><td style = \"text-align: right;\">14.071</td><td style = \"text-align: right;\">13.6597</td><td style = \"text-align: right;\">13.4197</td><td style = \"text-align: right;\">13.5897</td><td style = \"text-align: right;\">12.8537</td><td style = \"text-align: right;\">12.67</td><td style = \"text-align: right;\">12.1583</td><td style = \"text-align: right;\">15.2177</td><td style = \"text-align: right;\">14.5537</td><td style = \"text-align: right;\">14.891</td><td style = \"text-align: right;\">14.2777</td><td style = \"text-align: right;\">14.77</td><td style = \"text-align: right;\">14.5403</td><td style = \"text-align: right;\">14.3283</td><td style = \"text-align: right;\">13.8783</td><td style = \"text-align: right;\">13.4637</td><td style = \"text-align: right;\">13.6553</td><td style = \"text-align: right;\">13.646</td><td style = \"text-align: right;\">13.0073</td><td style = \"text-align: right;\">11.9843</td><td style = \"text-align: right;\">10.2057</td><td style = \"text-align: right;\">13.9873</td><td style = \"text-align: right;\">14.092</td><td style = \"text-align: right;\">13.784</td><td style = \"text-align: right;\">13.8003</td><td style = \"text-align: right;\">13.3137</td><td style = \"text-align: right;\">13.387</td><td style = \"text-align: right;\">12.7673</td><td style = \"text-align: right;\">15.2597</td><td style = \"text-align: right;\">13.5233</td><td style = \"text-align: right;\">16.011</td><td style = \"text-align: right;\">15.8713</td><td style = \"text-align: right;\">15.713</td><td style = \"text-align: right;\">15.4403</td><td style = \"text-align: right;\">15.3543</td><td style = \"text-align: right;\">15.4597</td><td style = \"text-align: right;\">14.6077</td><td style = \"text-align: right;\">13.0793</td><td style = \"text-align: right;\">9.956</td><td style = \"text-align: right;\">12.3407</td><td style = \"text-align: right;\">14.0577</td><td style = \"text-align: right;\">15.1457</td><td style = \"text-align: right;\">14.8357</td><td style = \"text-align: right;\">14.668</td><td style = \"text-align: right;\">13.2197</td><td style = \"text-align: right;\">13.157</td><td style = \"text-align: right;\">13.5327</td><td style = \"text-align: right;\">18.2297</td><td style = \"text-align: right;\">17.1547</td><td style = \"text-align: right;\">17.0423</td><td style = \"text-align: right;\">16.064</td><td style = \"text-align: right;\">15.5357</td><td style = \"text-align: right;\">13.8793</td><td style = \"text-align: right;\">13.3773</td><td style = \"text-align: right;\">&ctdot;</td></tr><tr><td class = \"rowNumber\" style = \"font-weight: bold; text-align: right;\">5</td><td style = \"text-align: left;\">BXD29</td><td style = \"text-align: right;\">11</td><td style = \"text-align: right;\">11.735</td><td style = \"text-align: right;\">11.3496</td><td style = \"text-align: right;\">17.4583</td><td style = \"text-align: right;\">17.3877</td><td style = \"text-align: right;\">17.2431</td><td style = \"text-align: right;\">16.4945</td><td style = \"text-align: right;\">16.0869</td><td style = \"text-align: right;\">16.1075</td><td style = \"text-align: right;\">16.1212</td><td style = \"text-align: right;\">15.8937</td><td style = \"text-align: right;\">15.684</td><td style = \"text-align: right;\">15.409</td><td style = \"text-align: right;\">15.1916</td><td style = \"text-align: right;\">15.0053</td><td style = \"text-align: right;\">14.9666</td><td style = \"text-align: right;\">14.8633</td><td style = \"text-align: right;\">14.366</td><td style = \"text-align: right;\">14.1128</td><td style = \"text-align: right;\">14.2439</td><td style = \"text-align: right;\">14.1931</td><td style = \"text-align: right;\">14.2505</td><td style = \"text-align: right;\">13.3711</td><td style = \"text-align: right;\">12.8908</td><td style = \"text-align: right;\">12.7607</td><td style = \"text-align: right;\">11.6908</td><td style = \"text-align: right;\">14.8308</td><td style = \"text-align: right;\">14.5071</td><td style = \"text-align: right;\">14.7158</td><td style = \"text-align: right;\">14.162</td><td style = \"text-align: right;\">14.1477</td><td style = \"text-align: right;\">13.9994</td><td style = \"text-align: right;\">13.7841</td><td style = \"text-align: right;\">10.4076</td><td style = \"text-align: right;\">12.3381</td><td style = \"text-align: right;\">14.5445</td><td style = \"text-align: right;\">15.2115</td><td style = \"text-align: right;\">12.7209</td><td style = \"text-align: right;\">14.4564</td><td style = \"text-align: right;\">13.9601</td><td style = \"text-align: right;\">14.6675</td><td style = \"text-align: right;\">14.5868</td><td style = \"text-align: right;\">14.3356</td><td style = \"text-align: right;\">14.1672</td><td style = \"text-align: right;\">13.8776</td><td style = \"text-align: right;\">14.0893</td><td style = \"text-align: right;\">13.8332</td><td style = \"text-align: right;\">13.7339</td><td style = \"text-align: right;\">13.7212</td><td style = \"text-align: right;\">13.3905</td><td style = \"text-align: right;\">13.2016</td><td style = \"text-align: right;\">12.9025</td><td style = \"text-align: right;\">15.5145</td><td style = \"text-align: right;\">15.5719</td><td style = \"text-align: right;\">15.0056</td><td style = \"text-align: right;\">14.7801</td><td style = \"text-align: right;\">14.7173</td><td style = \"text-align: right;\">14.6183</td><td style = \"text-align: right;\">14.4813</td><td style = \"text-align: right;\">13.9296</td><td style = \"text-align: right;\">13.8006</td><td style = \"text-align: right;\">13.8925</td><td style = \"text-align: right;\">13.7307</td><td style = \"text-align: right;\">13.5148</td><td style = \"text-align: right;\">11.9401</td><td style = \"text-align: right;\">12.2295</td><td style = \"text-align: right;\">14.2733</td><td style = \"text-align: right;\">14.176</td><td style = \"text-align: right;\">13.8756</td><td style = \"text-align: right;\">13.7707</td><td style = \"text-align: right;\">13.242</td><td style = \"text-align: right;\">13.3123</td><td style = \"text-align: right;\">12.4464</td><td style = \"text-align: right;\">14.7318</td><td style = \"text-align: right;\">13.3787</td><td style = \"text-align: right;\">16.1553</td><td style = \"text-align: right;\">16.1705</td><td style = \"text-align: right;\">16.0135</td><td style = \"text-align: right;\">15.6993</td><td style = \"text-align: right;\">15.6559</td><td style = \"text-align: right;\">15.5867</td><td style = \"text-align: right;\">14.7852</td><td style = \"text-align: right;\">13.3675</td><td style = \"text-align: right;\">10.3002</td><td style = \"text-align: right;\">10.162</td><td style = \"text-align: right;\">13.7972</td><td style = \"text-align: right;\">14.8815</td><td style = \"text-align: right;\">14.8505</td><td style = \"text-align: right;\">14.4068</td><td style = \"text-align: right;\">12.7473</td><td style = \"text-align: right;\">12.9053</td><td style = \"text-align: right;\">13.4953</td><td style = \"text-align: right;\">18.0303</td><td style = \"text-align: right;\">17.222</td><td style = \"text-align: right;\">16.9341</td><td style = \"text-align: right;\">16.1497</td><td style = \"text-align: right;\">15.5033</td><td style = \"text-align: right;\">14.0375</td><td style = \"text-align: right;\">13.3467</td><td style = \"text-align: right;\">&ctdot;</td></tr><tr><td class = \"rowNumber\" style = \"font-weight: bold; text-align: right;\">6</td><td style = \"text-align: left;\">BXD32</td><td style = \"text-align: right;\">8</td><td style = \"text-align: right;\">11.6266</td><td style = \"text-align: right;\">11.554</td><td style = \"text-align: right;\">17.8254</td><td style = \"text-align: right;\">17.7716</td><td style = \"text-align: right;\">17.4639</td><td style = \"text-align: right;\">16.9029</td><td style = \"text-align: right;\">16.434</td><td style = \"text-align: right;\">16.425</td><td style = \"text-align: right;\">16.3785</td><td style = \"text-align: right;\">16.1801</td><td style = \"text-align: right;\">15.552</td><td style = \"text-align: right;\">15.7024</td><td style = \"text-align: right;\">15.5084</td><td style = \"text-align: right;\">15.1917</td><td style = \"text-align: right;\">15.122</td><td style = \"text-align: right;\">15.0381</td><td style = \"text-align: right;\">14.8614</td><td style = \"text-align: right;\">14.5611</td><td style = \"text-align: right;\">14.601</td><td style = \"text-align: right;\">14.5976</td><td style = \"text-align: right;\">14.445</td><td style = \"text-align: right;\">13.5466</td><td style = \"text-align: right;\">13.1775</td><td style = \"text-align: right;\">12.8655</td><td style = \"text-align: right;\">12.3601</td><td style = \"text-align: right;\">14.5995</td><td style = \"text-align: right;\">14.4216</td><td style = \"text-align: right;\">14.2189</td><td style = \"text-align: right;\">13.8381</td><td style = \"text-align: right;\">13.7746</td><td style = \"text-align: right;\">13.8859</td><td style = \"text-align: right;\">13.709</td><td style = \"text-align: right;\">10.2306</td><td style = \"text-align: right;\">11.1946</td><td style = \"text-align: right;\">14.3859</td><td style = \"text-align: right;\">15.4081</td><td style = \"text-align: right;\">12.6895</td><td style = \"text-align: right;\">14.3795</td><td style = \"text-align: right;\">13.9581</td><td style = \"text-align: right;\">14.4554</td><td style = \"text-align: right;\">14.5031</td><td style = \"text-align: right;\">14.2995</td><td style = \"text-align: right;\">14.0696</td><td style = \"text-align: right;\">14.1139</td><td style = \"text-align: right;\">14.0496</td><td style = \"text-align: right;\">13.7116</td><td style = \"text-align: right;\">13.4935</td><td style = \"text-align: right;\">13.3465</td><td style = \"text-align: right;\">13.2482</td><td style = \"text-align: right;\">12.8716</td><td style = \"text-align: right;\">12.738</td><td style = \"text-align: right;\">15.2785</td><td style = \"text-align: right;\">14.7681</td><td style = \"text-align: right;\">14.885</td><td style = \"text-align: right;\">14.4642</td><td style = \"text-align: right;\">14.4146</td><td style = \"text-align: right;\">14.4585</td><td style = \"text-align: right;\">14.039</td><td style = \"text-align: right;\">13.8499</td><td style = \"text-align: right;\">13.7484</td><td style = \"text-align: right;\">13.6994</td><td style = \"text-align: right;\">13.5931</td><td style = \"text-align: right;\">12.8803</td><td style = \"text-align: right;\">11.9216</td><td style = \"text-align: right;\">11.2298</td><td style = \"text-align: right;\">14.3098</td><td style = \"text-align: right;\">14.1794</td><td style = \"text-align: right;\">14.0259</td><td style = \"text-align: right;\">13.8049</td><td style = \"text-align: right;\">13.1902</td><td style = \"text-align: right;\">13.3515</td><td style = \"text-align: right;\">12.6331</td><td style = \"text-align: right;\">14.8286</td><td style = \"text-align: right;\">13.2711</td><td style = \"text-align: right;\">15.7947</td><td style = \"text-align: right;\">15.729</td><td style = \"text-align: right;\">15.5913</td><td style = \"text-align: right;\">15.2536</td><td style = \"text-align: right;\">15.2625</td><td style = \"text-align: right;\">15.2375</td><td style = \"text-align: right;\">14.5699</td><td style = \"text-align: right;\">12.9751</td><td style = \"text-align: right;\">11.6832</td><td style = \"text-align: right;\">9.80775</td><td style = \"text-align: right;\">13.8344</td><td style = \"text-align: right;\">15.1399</td><td style = \"text-align: right;\">14.9749</td><td style = \"text-align: right;\">14.6185</td><td style = \"text-align: right;\">13.0956</td><td style = \"text-align: right;\">13.0355</td><td style = \"text-align: right;\">13.8955</td><td style = \"text-align: right;\">18.2956</td><td style = \"text-align: right;\">16.9094</td><td style = \"text-align: right;\">17.091</td><td style = \"text-align: right;\">16.3139</td><td style = \"text-align: right;\">15.5746</td><td style = \"text-align: right;\">14.2024</td><td style = \"text-align: right;\">13.4624</td><td style = \"text-align: right;\">&ctdot;</td></tr></tbody></table></div>"
      ],
      "text/latex": [
       "\\begin{tabular}{r|cccccc}\n",
       "\t& Strain & Number of Samples & P42209\\_DESGLNRK\\_2 & P42209\\_GLRPLDVAFLR\\_3 & Q99M02\\_VGDPVYR\\_2 & \\\\\n",
       "\t\\hline\n",
       "\t& String7 & Int64 & Float64 & Float64 & Float64 & \\\\\n",
       "\t\\hline\n",
       "\t1 & BXD9 & 4 & 11.5968 & 11.3575 & 17.6545 & $\\dots$ \\\\\n",
       "\t2 & BXD13 & 1 & 11.687 & 11.524 & 17.362 & $\\dots$ \\\\\n",
       "\t3 & BXD24 & 5 & 12.0778 & 11.7458 & 17.7926 & $\\dots$ \\\\\n",
       "\t4 & BXD27 & 3 & 11.717 & 11.149 & 17.336 & $\\dots$ \\\\\n",
       "\t5 & BXD29 & 11 & 11.735 & 11.3496 & 17.4583 & $\\dots$ \\\\\n",
       "\t6 & BXD32 & 8 & 11.6266 & 11.554 & 17.8254 & $\\dots$ \\\\\n",
       "\\end{tabular}\n"
      ],
      "text/plain": [
       "\u001b[1m6×32447 DataFrame\u001b[0m\n",
       "\u001b[1m Row \u001b[0m│\u001b[1m Strain  \u001b[0m\u001b[1m Number of Samples \u001b[0m\u001b[1m P42209_DESGLNRK_2 \u001b[0m\u001b[1m P42209_GLRPLDVAFLR_3 \u001b[0m\u001b[1m Q9\u001b[0m ⋯\n",
       "     │\u001b[90m String7 \u001b[0m\u001b[90m Int64             \u001b[0m\u001b[90m Float64           \u001b[0m\u001b[90m Float64              \u001b[0m\u001b[90m Fl\u001b[0m ⋯\n",
       "─────┼──────────────────────────────────────────────────────────────────────────\n",
       "   1 │ BXD9                     4            11.5968               11.3575     ⋯\n",
       "   2 │ BXD13                    1            11.687                11.524\n",
       "   3 │ BXD24                    5            12.0778               11.7458\n",
       "   4 │ BXD27                    3            11.717                11.149\n",
       "   5 │ BXD29                   11            11.735                11.3496     ⋯\n",
       "   6 │ BXD32                    8            11.6266               11.554\n",
       "\u001b[36m                                                           32443 columns omitted\u001b[0m"
      ]
     },
     "execution_count": 161,
     "metadata": {},
     "output_type": "execute_result"
    }
   ],
   "source": [
    "BXD_pheno_strains_summary_df[1:6, :]"
   ]
  },
  {
   "cell_type": "code",
   "execution_count": 162,
   "id": "465a5506-0ac0-4057-a196-c41a57b49b73",
   "metadata": {},
   "outputs": [],
   "source": [
    "# weights_true = float.(1.0 ./BXD_pheno_strains_summary_df[:, 2]);\n",
    "weights_true = sqrt.(BXD_pheno_strains_summary_df[:, 2]);"
   ]
  },
  {
   "cell_type": "code",
   "execution_count": 163,
   "id": "1d5cd959-919b-4ef4-82c4-13b02104f76d",
   "metadata": {},
   "outputs": [
    {
     "name": "stdout",
     "output_type": "stream",
     "text": [
      "  0.326830 seconds (624.44 k allocations: 66.187 MiB, 15.90% gc time, 85.64% compilation time)\n"
     ]
    }
   ],
   "source": [
    "@time lod_from_pkg = scan(lpst_strains_y, geno_strains, kinship_strains;\n",
    "                          weights = weights_true,\n",
    "                          prior_variance = prior[1], prior_sample_size = prior[2]);"
   ]
  },
  {
   "cell_type": "code",
   "execution_count": 164,
   "id": "751cc1dd-e209-45c9-a8ec-144e83612427",
   "metadata": {},
   "outputs": [
    {
     "data": {
      "text/plain": [
       "10-element Vector{Float64}:\n",
       " 0.44542169852154756\n",
       " 0.44542169852154756\n",
       " 0.44542169852154756\n",
       " 0.44542169852154756\n",
       " 0.44542169852154756\n",
       " 0.44542169852154756\n",
       " 0.44542169852154756\n",
       " 0.44542169852154756\n",
       " 0.44542169852154756\n",
       " 0.44542169852154756"
      ]
     },
     "execution_count": 164,
     "metadata": {},
     "output_type": "execute_result"
    }
   ],
   "source": [
    "lod_from_pkg.lod[1:10]"
   ]
  },
  {
   "cell_type": "code",
   "execution_count": 165,
   "id": "8055deb9-d794-4447-b784-a5384c854499",
   "metadata": {},
   "outputs": [
    {
     "data": {
      "text/plain": [
       "10-element Vector{Float64}:\n",
       " 0.44542169852154756\n",
       " 0.44542169852154756\n",
       " 0.44542169852154756\n",
       " 0.44542169852154756\n",
       " 0.44542169852154756\n",
       " 0.44542169852154756\n",
       " 0.44542169852154756\n",
       " 0.44542169852154756\n",
       " 0.44542169852154756\n",
       " 0.44542169852154756"
      ]
     },
     "execution_count": 165,
     "metadata": {},
     "output_type": "execute_result"
    }
   ],
   "source": [
    "lod_from_pkg.lod[1:10]"
   ]
  },
  {
   "cell_type": "code",
   "execution_count": 166,
   "id": "07d71104-6b77-4632-a949-508ba4e494a8",
   "metadata": {},
   "outputs": [],
   "source": [
    "lpst_strains_y_test = rowMultiply(lpst_strains_y, weights_true);\n",
    "geno_strains_test = rowMultiply(geno_strains, weights_true);\n",
    "covar_strains_test = rowMultiply(ones(50, 1), weights_true);\n",
    "# kinship_strains_test = rowMultiply(kinship_strains, weights_true);"
   ]
  },
  {
   "cell_type": "code",
   "execution_count": 167,
   "id": "87c7b93b-1b8e-4c37-8b39-ceff05e68458",
   "metadata": {},
   "outputs": [],
   "source": [
    "test_W = rowMultiply(kinship_strains, weights_true);"
   ]
  },
  {
   "cell_type": "code",
   "execution_count": 168,
   "id": "c379c311-7a3f-432d-89d3-acbefb542881",
   "metadata": {},
   "outputs": [],
   "source": [
    "test_K = rowMultiply(permutedims(test_W), weights_true);"
   ]
  },
  {
   "cell_type": "code",
   "execution_count": 169,
   "id": "7584bd11-3a6c-4b7d-aa77-70b4ef1b5bc2",
   "metadata": {},
   "outputs": [],
   "source": [
    "lod_by_hand = scan(lpst_strains_y_test, geno_strains_test, covar_strains_test, test_K;\n",
    "                   addIntercept = false, \n",
    "                   prior_variance = prior[1], prior_sample_size = prior[2]);"
   ]
  },
  {
   "cell_type": "code",
   "execution_count": 170,
   "id": "0ae33b05-9e20-4a00-9bdc-812d61de9a5a",
   "metadata": {},
   "outputs": [
    {
     "data": {
      "text/plain": [
       "9.867273226049633e-6"
      ]
     },
     "execution_count": 170,
     "metadata": {},
     "output_type": "execute_result"
    }
   ],
   "source": [
    "sum(abs.(lod_by_hand.lod .- lod_from_pkg.lod))"
   ]
  },
  {
   "cell_type": "code",
   "execution_count": 171,
   "id": "5bbe2f8c-c370-42bc-a363-4ff83ba99d75",
   "metadata": {},
   "outputs": [
    {
     "data": {
      "text/plain": [
       "29437"
      ]
     },
     "execution_count": 171,
     "metadata": {},
     "output_type": "execute_result"
    }
   ],
   "source": [
    "lp_id"
   ]
  },
  {
   "cell_type": "code",
   "execution_count": 172,
   "id": "226e7f69-19a9-4ef5-b0e6-e8e77f364b07",
   "metadata": {},
   "outputs": [
    {
     "data": {
      "text/plain": [
       "\"Q9Z2I8_SSGLPITSAVDLEDAAK_3\""
      ]
     },
     "execution_count": 172,
     "metadata": {},
     "output_type": "execute_result"
    }
   ],
   "source": [
    "lp_names[lp_id]"
   ]
  },
  {
   "cell_type": "markdown",
   "id": "66b656a3-339a-4d83-8211-4c5a18e13346",
   "metadata": {},
   "source": [
    "### Test:"
   ]
  },
  {
   "cell_type": "code",
   "execution_count": 173,
   "id": "27712117-401e-4325-a0a6-35c57d6d8b57",
   "metadata": {},
   "outputs": [
    {
     "data": {
      "text/plain": [
       "29437"
      ]
     },
     "execution_count": 173,
     "metadata": {},
     "output_type": "execute_result"
    }
   ],
   "source": [
    "lp_id = 29437"
   ]
  },
  {
   "cell_type": "code",
   "execution_count": 255,
   "id": "175dbf84-aefc-4cb8-9b98-8fecd023ae8b",
   "metadata": {},
   "outputs": [
    {
     "data": {
      "text/plain": [
       "241"
      ]
     },
     "execution_count": 255,
     "metadata": {},
     "output_type": "execute_result"
    }
   ],
   "source": [
    "lp_id = 241"
   ]
  },
  {
   "cell_type": "code",
   "execution_count": 256,
   "id": "954011ab-aa4e-40ff-a3dc-4d3f85c6dd5c",
   "metadata": {},
   "outputs": [],
   "source": [
    "lpst_strains_y = reshape(lpst_strains_Y[:, lp_id], :, 1);"
   ]
  },
  {
   "cell_type": "code",
   "execution_count": 257,
   "id": "d7e1a711-7372-4a0e-91b1-cb3e80804e39",
   "metadata": {},
   "outputs": [],
   "source": [
    "lpst_ind_y = reshape(lpst_ind_Y[:, lp_id], :, 1);"
   ]
  },
  {
   "cell_type": "code",
   "execution_count": 258,
   "id": "d0c33c19-8f5d-463c-adb2-061b934dde1e",
   "metadata": {},
   "outputs": [
    {
     "data": {
      "text/plain": [
       "2-element Vector{Float64}:\n",
       " 1.0\n",
       " 0.0"
      ]
     },
     "execution_count": 258,
     "metadata": {},
     "output_type": "execute_result"
    }
   ],
   "source": [
    "prior = [1.0, 0.0]"
   ]
  },
  {
   "cell_type": "code",
   "execution_count": 259,
   "id": "a4cbc8d3-7882-41ec-8131-9c3e7de4277f",
   "metadata": {},
   "outputs": [],
   "source": [
    "grid_list = collect(0:999).*0.001;"
   ]
  },
  {
   "cell_type": "code",
   "execution_count": 281,
   "id": "f6fabbb8-ace0-462e-824e-d7d0cb6ccb94",
   "metadata": {},
   "outputs": [
    {
     "name": "stdout",
     "output_type": "stream",
     "text": [
      "Loglik plot: \n"
     ]
    },
    {
     "data": {
      "image/svg+xml": [
       "<?xml version=\"1.0\" encoding=\"utf-8\"?>\n",
       "<svg xmlns=\"http://www.w3.org/2000/svg\" xmlns:xlink=\"http://www.w3.org/1999/xlink\" width=\"600\" height=\"400\" viewBox=\"0 0 2400 1600\">\n",
       "<defs>\n",
       "  <clipPath id=\"clip190\">\n",
       "    <rect x=\"0\" y=\"0\" width=\"2400\" height=\"1600\"/>\n",
       "  </clipPath>\n",
       "</defs>\n",
       "<path clip-path=\"url(#clip190)\" d=\"\n",
       "M0 1600 L2400 1600 L2400 0 L0 0  Z\n",
       "  \" fill=\"#ffffff\" fill-rule=\"evenodd\" fill-opacity=\"1\"/>\n",
       "<defs>\n",
       "  <clipPath id=\"clip191\">\n",
       "    <rect x=\"480\" y=\"0\" width=\"1681\" height=\"1600\"/>\n",
       "  </clipPath>\n",
       "</defs>\n",
       "<path clip-path=\"url(#clip190)\" d=\"\n",
       "M272.297 1423.18 L2352.76 1423.18 L2352.76 47.2441 L272.297 47.2441  Z\n",
       "  \" fill=\"#ffffff\" fill-rule=\"evenodd\" fill-opacity=\"1\"/>\n",
       "<defs>\n",
       "  <clipPath id=\"clip192\">\n",
       "    <rect x=\"272\" y=\"47\" width=\"2081\" height=\"1377\"/>\n",
       "  </clipPath>\n",
       "</defs>\n",
       "<polyline clip-path=\"url(#clip192)\" style=\"stroke:#000000; stroke-linecap:round; stroke-linejoin:round; stroke-width:2; stroke-opacity:0.1; fill:none\" points=\"\n",
       "  366.863,1423.18 366.863,47.2441 \n",
       "  \"/>\n",
       "<polyline clip-path=\"url(#clip192)\" style=\"stroke:#000000; stroke-linecap:round; stroke-linejoin:round; stroke-width:2; stroke-opacity:0.1; fill:none\" points=\"\n",
       "  839.695,1423.18 839.695,47.2441 \n",
       "  \"/>\n",
       "<polyline clip-path=\"url(#clip192)\" style=\"stroke:#000000; stroke-linecap:round; stroke-linejoin:round; stroke-width:2; stroke-opacity:0.1; fill:none\" points=\"\n",
       "  1312.53,1423.18 1312.53,47.2441 \n",
       "  \"/>\n",
       "<polyline clip-path=\"url(#clip192)\" style=\"stroke:#000000; stroke-linecap:round; stroke-linejoin:round; stroke-width:2; stroke-opacity:0.1; fill:none\" points=\"\n",
       "  1785.36,1423.18 1785.36,47.2441 \n",
       "  \"/>\n",
       "<polyline clip-path=\"url(#clip192)\" style=\"stroke:#000000; stroke-linecap:round; stroke-linejoin:round; stroke-width:2; stroke-opacity:0.1; fill:none\" points=\"\n",
       "  2258.19,1423.18 2258.19,47.2441 \n",
       "  \"/>\n",
       "<polyline clip-path=\"url(#clip190)\" style=\"stroke:#000000; stroke-linecap:round; stroke-linejoin:round; stroke-width:4; stroke-opacity:1; fill:none\" points=\"\n",
       "  272.297,1423.18 2352.76,1423.18 \n",
       "  \"/>\n",
       "<polyline clip-path=\"url(#clip190)\" style=\"stroke:#000000; stroke-linecap:round; stroke-linejoin:round; stroke-width:4; stroke-opacity:1; fill:none\" points=\"\n",
       "  366.863,1423.18 366.863,1404.28 \n",
       "  \"/>\n",
       "<polyline clip-path=\"url(#clip190)\" style=\"stroke:#000000; stroke-linecap:round; stroke-linejoin:round; stroke-width:4; stroke-opacity:1; fill:none\" points=\"\n",
       "  839.695,1423.18 839.695,1404.28 \n",
       "  \"/>\n",
       "<polyline clip-path=\"url(#clip190)\" style=\"stroke:#000000; stroke-linecap:round; stroke-linejoin:round; stroke-width:4; stroke-opacity:1; fill:none\" points=\"\n",
       "  1312.53,1423.18 1312.53,1404.28 \n",
       "  \"/>\n",
       "<polyline clip-path=\"url(#clip190)\" style=\"stroke:#000000; stroke-linecap:round; stroke-linejoin:round; stroke-width:4; stroke-opacity:1; fill:none\" points=\"\n",
       "  1785.36,1423.18 1785.36,1404.28 \n",
       "  \"/>\n",
       "<polyline clip-path=\"url(#clip190)\" style=\"stroke:#000000; stroke-linecap:round; stroke-linejoin:round; stroke-width:4; stroke-opacity:1; fill:none\" points=\"\n",
       "  2258.19,1423.18 2258.19,1404.28 \n",
       "  \"/>\n",
       "<path clip-path=\"url(#clip190)\" d=\"M329.166 1454.1 Q325.555 1454.1 323.727 1457.66 Q321.921 1461.2 321.921 1468.33 Q321.921 1475.44 323.727 1479.01 Q325.555 1482.55 329.166 1482.55 Q332.801 1482.55 334.606 1479.01 Q336.435 1475.44 336.435 1468.33 Q336.435 1461.2 334.606 1457.66 Q332.801 1454.1 329.166 1454.1 M329.166 1450.39 Q334.976 1450.39 338.032 1455 Q341.111 1459.58 341.111 1468.33 Q341.111 1477.06 338.032 1481.67 Q334.976 1486.25 329.166 1486.25 Q323.356 1486.25 320.277 1481.67 Q317.222 1477.06 317.222 1468.33 Q317.222 1459.58 320.277 1455 Q323.356 1450.39 329.166 1450.39 Z\" fill=\"#000000\" fill-rule=\"evenodd\" fill-opacity=\"1\" /><path clip-path=\"url(#clip190)\" d=\"M349.328 1479.7 L354.212 1479.7 L354.212 1485.58 L349.328 1485.58 L349.328 1479.7 Z\" fill=\"#000000\" fill-rule=\"evenodd\" fill-opacity=\"1\" /><path clip-path=\"url(#clip190)\" d=\"M374.398 1454.1 Q370.786 1454.1 368.958 1457.66 Q367.152 1461.2 367.152 1468.33 Q367.152 1475.44 368.958 1479.01 Q370.786 1482.55 374.398 1482.55 Q378.032 1482.55 379.837 1479.01 Q381.666 1475.44 381.666 1468.33 Q381.666 1461.2 379.837 1457.66 Q378.032 1454.1 374.398 1454.1 M374.398 1450.39 Q380.208 1450.39 383.263 1455 Q386.342 1459.58 386.342 1468.33 Q386.342 1477.06 383.263 1481.67 Q380.208 1486.25 374.398 1486.25 Q368.587 1486.25 365.509 1481.67 Q362.453 1477.06 362.453 1468.33 Q362.453 1459.58 365.509 1455 Q368.587 1450.39 374.398 1450.39 Z\" fill=\"#000000\" fill-rule=\"evenodd\" fill-opacity=\"1\" /><path clip-path=\"url(#clip190)\" d=\"M404.559 1454.1 Q400.948 1454.1 399.12 1457.66 Q397.314 1461.2 397.314 1468.33 Q397.314 1475.44 399.12 1479.01 Q400.948 1482.55 404.559 1482.55 Q408.194 1482.55 409.999 1479.01 Q411.828 1475.44 411.828 1468.33 Q411.828 1461.2 409.999 1457.66 Q408.194 1454.1 404.559 1454.1 M404.559 1450.39 Q410.37 1450.39 413.425 1455 Q416.504 1459.58 416.504 1468.33 Q416.504 1477.06 413.425 1481.67 Q410.37 1486.25 404.559 1486.25 Q398.749 1486.25 395.671 1481.67 Q392.615 1477.06 392.615 1468.33 Q392.615 1459.58 395.671 1455 Q398.749 1450.39 404.559 1450.39 Z\" fill=\"#000000\" fill-rule=\"evenodd\" fill-opacity=\"1\" /><path clip-path=\"url(#clip190)\" d=\"M802.496 1454.1 Q798.885 1454.1 797.056 1457.66 Q795.25 1461.2 795.25 1468.33 Q795.25 1475.44 797.056 1479.01 Q798.885 1482.55 802.496 1482.55 Q806.13 1482.55 807.935 1479.01 Q809.764 1475.44 809.764 1468.33 Q809.764 1461.2 807.935 1457.66 Q806.13 1454.1 802.496 1454.1 M802.496 1450.39 Q808.306 1450.39 811.361 1455 Q814.44 1459.58 814.44 1468.33 Q814.44 1477.06 811.361 1481.67 Q808.306 1486.25 802.496 1486.25 Q796.686 1486.25 793.607 1481.67 Q790.551 1477.06 790.551 1468.33 Q790.551 1459.58 793.607 1455 Q796.686 1450.39 802.496 1450.39 Z\" fill=\"#000000\" fill-rule=\"evenodd\" fill-opacity=\"1\" /><path clip-path=\"url(#clip190)\" d=\"M822.658 1479.7 L827.542 1479.7 L827.542 1485.58 L822.658 1485.58 L822.658 1479.7 Z\" fill=\"#000000\" fill-rule=\"evenodd\" fill-opacity=\"1\" /><path clip-path=\"url(#clip190)\" d=\"M841.755 1481.64 L858.074 1481.64 L858.074 1485.58 L836.13 1485.58 L836.13 1481.64 Q838.792 1478.89 843.375 1474.26 Q847.982 1469.61 849.162 1468.27 Q851.407 1465.74 852.287 1464.01 Q853.19 1462.25 853.19 1460.56 Q853.19 1457.8 851.245 1456.07 Q849.324 1454.33 846.222 1454.33 Q844.023 1454.33 841.57 1455.09 Q839.139 1455.86 836.361 1457.41 L836.361 1452.69 Q839.185 1451.55 841.639 1450.97 Q844.093 1450.39 846.13 1450.39 Q851.5 1450.39 854.694 1453.08 Q857.889 1455.77 857.889 1460.26 Q857.889 1462.39 857.079 1464.31 Q856.292 1466.2 854.185 1468.8 Q853.607 1469.47 850.505 1472.69 Q847.403 1475.88 841.755 1481.64 Z\" fill=\"#000000\" fill-rule=\"evenodd\" fill-opacity=\"1\" /><path clip-path=\"url(#clip190)\" d=\"M867.935 1451.02 L886.292 1451.02 L886.292 1454.96 L872.218 1454.96 L872.218 1463.43 Q873.236 1463.08 874.255 1462.92 Q875.273 1462.73 876.292 1462.73 Q882.079 1462.73 885.458 1465.9 Q888.838 1469.08 888.838 1474.49 Q888.838 1480.07 885.366 1483.17 Q881.893 1486.25 875.574 1486.25 Q873.398 1486.25 871.13 1485.88 Q868.884 1485.51 866.477 1484.77 L866.477 1480.07 Q868.56 1481.2 870.782 1481.76 Q873.005 1482.32 875.481 1482.32 Q879.486 1482.32 881.824 1480.21 Q884.162 1478.1 884.162 1474.49 Q884.162 1470.88 881.824 1468.77 Q879.486 1466.67 875.481 1466.67 Q873.606 1466.67 871.731 1467.08 Q869.88 1467.5 867.935 1468.38 L867.935 1451.02 Z\" fill=\"#000000\" fill-rule=\"evenodd\" fill-opacity=\"1\" /><path clip-path=\"url(#clip190)\" d=\"M1274.83 1454.1 Q1271.22 1454.1 1269.39 1457.66 Q1267.58 1461.2 1267.58 1468.33 Q1267.58 1475.44 1269.39 1479.01 Q1271.22 1482.55 1274.83 1482.55 Q1278.46 1482.55 1280.27 1479.01 Q1282.1 1475.44 1282.1 1468.33 Q1282.1 1461.2 1280.27 1457.66 Q1278.46 1454.1 1274.83 1454.1 M1274.83 1450.39 Q1280.64 1450.39 1283.7 1455 Q1286.77 1459.58 1286.77 1468.33 Q1286.77 1477.06 1283.7 1481.67 Q1280.64 1486.25 1274.83 1486.25 Q1269.02 1486.25 1265.94 1481.67 Q1262.89 1477.06 1262.89 1468.33 Q1262.89 1459.58 1265.94 1455 Q1269.02 1450.39 1274.83 1450.39 Z\" fill=\"#000000\" fill-rule=\"evenodd\" fill-opacity=\"1\" /><path clip-path=\"url(#clip190)\" d=\"M1294.99 1479.7 L1299.88 1479.7 L1299.88 1485.58 L1294.99 1485.58 L1294.99 1479.7 Z\" fill=\"#000000\" fill-rule=\"evenodd\" fill-opacity=\"1\" /><path clip-path=\"url(#clip190)\" d=\"M1310.11 1451.02 L1328.46 1451.02 L1328.46 1454.96 L1314.39 1454.96 L1314.39 1463.43 Q1315.41 1463.08 1316.43 1462.92 Q1317.45 1462.73 1318.46 1462.73 Q1324.25 1462.73 1327.63 1465.9 Q1331.01 1469.08 1331.01 1474.49 Q1331.01 1480.07 1327.54 1483.17 Q1324.07 1486.25 1317.75 1486.25 Q1315.57 1486.25 1313.3 1485.88 Q1311.06 1485.51 1308.65 1484.77 L1308.65 1480.07 Q1310.73 1481.2 1312.95 1481.76 Q1315.18 1482.32 1317.65 1482.32 Q1321.66 1482.32 1324 1480.21 Q1326.33 1478.1 1326.33 1474.49 Q1326.33 1470.88 1324 1468.77 Q1321.66 1466.67 1317.65 1466.67 Q1315.78 1466.67 1313.9 1467.08 Q1312.05 1467.5 1310.11 1468.38 L1310.11 1451.02 Z\" fill=\"#000000\" fill-rule=\"evenodd\" fill-opacity=\"1\" /><path clip-path=\"url(#clip190)\" d=\"M1350.22 1454.1 Q1346.61 1454.1 1344.78 1457.66 Q1342.98 1461.2 1342.98 1468.33 Q1342.98 1475.44 1344.78 1479.01 Q1346.61 1482.55 1350.22 1482.55 Q1353.86 1482.55 1355.66 1479.01 Q1357.49 1475.44 1357.49 1468.33 Q1357.49 1461.2 1355.66 1457.66 Q1353.86 1454.1 1350.22 1454.1 M1350.22 1450.39 Q1356.03 1450.39 1359.09 1455 Q1362.17 1459.58 1362.17 1468.33 Q1362.17 1477.06 1359.09 1481.67 Q1356.03 1486.25 1350.22 1486.25 Q1344.41 1486.25 1341.33 1481.67 Q1338.28 1477.06 1338.28 1468.33 Q1338.28 1459.58 1341.33 1455 Q1344.41 1450.39 1350.22 1450.39 Z\" fill=\"#000000\" fill-rule=\"evenodd\" fill-opacity=\"1\" /><path clip-path=\"url(#clip190)\" d=\"M1748.16 1454.1 Q1744.55 1454.1 1742.72 1457.66 Q1740.91 1461.2 1740.91 1468.33 Q1740.91 1475.44 1742.72 1479.01 Q1744.55 1482.55 1748.16 1482.55 Q1751.79 1482.55 1753.6 1479.01 Q1755.43 1475.44 1755.43 1468.33 Q1755.43 1461.2 1753.6 1457.66 Q1751.79 1454.1 1748.16 1454.1 M1748.16 1450.39 Q1753.97 1450.39 1757.02 1455 Q1760.1 1459.58 1760.1 1468.33 Q1760.1 1477.06 1757.02 1481.67 Q1753.97 1486.25 1748.16 1486.25 Q1742.35 1486.25 1739.27 1481.67 Q1736.21 1477.06 1736.21 1468.33 Q1736.21 1459.58 1739.27 1455 Q1742.35 1450.39 1748.16 1450.39 Z\" fill=\"#000000\" fill-rule=\"evenodd\" fill-opacity=\"1\" /><path clip-path=\"url(#clip190)\" d=\"M1768.32 1479.7 L1773.21 1479.7 L1773.21 1485.58 L1768.32 1485.58 L1768.32 1479.7 Z\" fill=\"#000000\" fill-rule=\"evenodd\" fill-opacity=\"1\" /><path clip-path=\"url(#clip190)\" d=\"M1782.21 1451.02 L1804.43 1451.02 L1804.43 1453.01 L1791.89 1485.58 L1787 1485.58 L1798.81 1454.96 L1782.21 1454.96 L1782.21 1451.02 Z\" fill=\"#000000\" fill-rule=\"evenodd\" fill-opacity=\"1\" /><path clip-path=\"url(#clip190)\" d=\"M1813.6 1451.02 L1831.95 1451.02 L1831.95 1454.96 L1817.88 1454.96 L1817.88 1463.43 Q1818.9 1463.08 1819.92 1462.92 Q1820.94 1462.73 1821.95 1462.73 Q1827.74 1462.73 1831.12 1465.9 Q1834.5 1469.08 1834.5 1474.49 Q1834.5 1480.07 1831.03 1483.17 Q1827.56 1486.25 1821.24 1486.25 Q1819.06 1486.25 1816.79 1485.88 Q1814.55 1485.51 1812.14 1484.77 L1812.14 1480.07 Q1814.22 1481.2 1816.45 1481.76 Q1818.67 1482.32 1821.14 1482.32 Q1825.15 1482.32 1827.49 1480.21 Q1829.83 1478.1 1829.83 1474.49 Q1829.83 1470.88 1827.49 1468.77 Q1825.15 1466.67 1821.14 1466.67 Q1819.27 1466.67 1817.39 1467.08 Q1815.54 1467.5 1813.6 1468.38 L1813.6 1451.02 Z\" fill=\"#000000\" fill-rule=\"evenodd\" fill-opacity=\"1\" /><path clip-path=\"url(#clip190)\" d=\"M2210.26 1481.64 L2217.9 1481.64 L2217.9 1455.28 L2209.59 1456.95 L2209.59 1452.69 L2217.85 1451.02 L2222.53 1451.02 L2222.53 1481.64 L2230.17 1481.64 L2230.17 1485.58 L2210.26 1485.58 L2210.26 1481.64 Z\" fill=\"#000000\" fill-rule=\"evenodd\" fill-opacity=\"1\" /><path clip-path=\"url(#clip190)\" d=\"M2239.61 1479.7 L2244.5 1479.7 L2244.5 1485.58 L2239.61 1485.58 L2239.61 1479.7 Z\" fill=\"#000000\" fill-rule=\"evenodd\" fill-opacity=\"1\" /><path clip-path=\"url(#clip190)\" d=\"M2264.68 1454.1 Q2261.07 1454.1 2259.24 1457.66 Q2257.44 1461.2 2257.44 1468.33 Q2257.44 1475.44 2259.24 1479.01 Q2261.07 1482.55 2264.68 1482.55 Q2268.32 1482.55 2270.12 1479.01 Q2271.95 1475.44 2271.95 1468.33 Q2271.95 1461.2 2270.12 1457.66 Q2268.32 1454.1 2264.68 1454.1 M2264.68 1450.39 Q2270.49 1450.39 2273.55 1455 Q2276.63 1459.58 2276.63 1468.33 Q2276.63 1477.06 2273.55 1481.67 Q2270.49 1486.25 2264.68 1486.25 Q2258.87 1486.25 2255.79 1481.67 Q2252.74 1477.06 2252.74 1468.33 Q2252.74 1459.58 2255.79 1455 Q2258.87 1450.39 2264.68 1450.39 Z\" fill=\"#000000\" fill-rule=\"evenodd\" fill-opacity=\"1\" /><path clip-path=\"url(#clip190)\" d=\"M2294.84 1454.1 Q2291.23 1454.1 2289.4 1457.66 Q2287.6 1461.2 2287.6 1468.33 Q2287.6 1475.44 2289.4 1479.01 Q2291.23 1482.55 2294.84 1482.55 Q2298.48 1482.55 2300.28 1479.01 Q2302.11 1475.44 2302.11 1468.33 Q2302.11 1461.2 2300.28 1457.66 Q2298.48 1454.1 2294.84 1454.1 M2294.84 1450.39 Q2300.65 1450.39 2303.71 1455 Q2306.79 1459.58 2306.79 1468.33 Q2306.79 1477.06 2303.71 1481.67 Q2300.65 1486.25 2294.84 1486.25 Q2289.03 1486.25 2285.96 1481.67 Q2282.9 1477.06 2282.9 1468.33 Q2282.9 1459.58 2285.96 1455 Q2289.03 1450.39 2294.84 1450.39 Z\" fill=\"#000000\" fill-rule=\"evenodd\" fill-opacity=\"1\" /><path clip-path=\"url(#clip190)\" d=\"M1307.21 1546.53 L1307.21 1568.04 L1301.35 1568.04 L1301.35 1546.72 Q1301.35 1541.66 1299.38 1539.14 Q1297.41 1536.63 1293.46 1536.63 Q1288.72 1536.63 1285.98 1539.65 Q1283.24 1542.68 1283.24 1547.9 L1283.24 1568.04 L1277.36 1568.04 L1277.36 1518.52 L1283.24 1518.52 L1283.24 1537.93 Q1285.34 1534.72 1288.18 1533.13 Q1291.04 1531.54 1294.77 1531.54 Q1300.91 1531.54 1304.06 1535.36 Q1307.21 1539.14 1307.21 1546.53 Z\" fill=\"#000000\" fill-rule=\"evenodd\" fill-opacity=\"1\" /><path clip-path=\"url(#clip190)\" d=\"M1325.26 1562.63 L1347.7 1562.63 L1347.7 1568.04 L1317.52 1568.04 L1317.52 1562.63 Q1321.18 1558.85 1327.49 1552.48 Q1333.82 1546.08 1335.44 1544.24 Q1338.53 1540.77 1339.74 1538.38 Q1340.98 1535.96 1340.98 1533.64 Q1340.98 1529.85 1338.31 1527.46 Q1335.67 1525.08 1331.4 1525.08 Q1328.38 1525.08 1325 1526.13 Q1321.66 1527.18 1317.84 1529.31 L1317.84 1522.82 Q1321.72 1521.26 1325.1 1520.46 Q1328.47 1519.66 1331.27 1519.66 Q1338.66 1519.66 1343.05 1523.36 Q1347.44 1527.05 1347.44 1533.22 Q1347.44 1536.15 1346.33 1538.79 Q1345.25 1541.4 1342.35 1544.97 Q1341.55 1545.89 1337.29 1550.32 Q1333.02 1554.71 1325.26 1562.63 Z\" fill=\"#000000\" fill-rule=\"evenodd\" fill-opacity=\"1\" /><polyline clip-path=\"url(#clip192)\" style=\"stroke:#000000; stroke-linecap:round; stroke-linejoin:round; stroke-width:2; stroke-opacity:0.1; fill:none\" points=\"\n",
       "  272.297,1422.95 2352.76,1422.95 \n",
       "  \"/>\n",
       "<polyline clip-path=\"url(#clip192)\" style=\"stroke:#000000; stroke-linecap:round; stroke-linejoin:round; stroke-width:2; stroke-opacity:0.1; fill:none\" points=\"\n",
       "  272.297,964.458 2352.76,964.458 \n",
       "  \"/>\n",
       "<polyline clip-path=\"url(#clip192)\" style=\"stroke:#000000; stroke-linecap:round; stroke-linejoin:round; stroke-width:2; stroke-opacity:0.1; fill:none\" points=\"\n",
       "  272.297,505.966 2352.76,505.966 \n",
       "  \"/>\n",
       "<polyline clip-path=\"url(#clip192)\" style=\"stroke:#000000; stroke-linecap:round; stroke-linejoin:round; stroke-width:2; stroke-opacity:0.1; fill:none\" points=\"\n",
       "  272.297,47.4733 2352.76,47.4733 \n",
       "  \"/>\n",
       "<polyline clip-path=\"url(#clip190)\" style=\"stroke:#000000; stroke-linecap:round; stroke-linejoin:round; stroke-width:4; stroke-opacity:1; fill:none\" points=\"\n",
       "  272.297,1423.18 272.297,47.2441 \n",
       "  \"/>\n",
       "<polyline clip-path=\"url(#clip190)\" style=\"stroke:#000000; stroke-linecap:round; stroke-linejoin:round; stroke-width:4; stroke-opacity:1; fill:none\" points=\"\n",
       "  272.297,1422.95 291.194,1422.95 \n",
       "  \"/>\n",
       "<polyline clip-path=\"url(#clip190)\" style=\"stroke:#000000; stroke-linecap:round; stroke-linejoin:round; stroke-width:4; stroke-opacity:1; fill:none\" points=\"\n",
       "  272.297,964.458 291.194,964.458 \n",
       "  \"/>\n",
       "<polyline clip-path=\"url(#clip190)\" style=\"stroke:#000000; stroke-linecap:round; stroke-linejoin:round; stroke-width:4; stroke-opacity:1; fill:none\" points=\"\n",
       "  272.297,505.966 291.194,505.966 \n",
       "  \"/>\n",
       "<polyline clip-path=\"url(#clip190)\" style=\"stroke:#000000; stroke-linecap:round; stroke-linejoin:round; stroke-width:4; stroke-opacity:1; fill:none\" points=\"\n",
       "  272.297,47.4733 291.194,47.4733 \n",
       "  \"/>\n",
       "<path clip-path=\"url(#clip190)\" d=\"M114.26 1423.4 L143.936 1423.4 L143.936 1427.34 L114.26 1427.34 L114.26 1423.4 Z\" fill=\"#000000\" fill-rule=\"evenodd\" fill-opacity=\"1\" /><path clip-path=\"url(#clip190)\" d=\"M158.056 1436.3 L174.376 1436.3 L174.376 1440.23 L152.431 1440.23 L152.431 1436.3 Q155.093 1433.54 159.677 1428.91 Q164.283 1424.26 165.464 1422.92 Q167.709 1420.39 168.589 1418.66 Q169.491 1416.9 169.491 1415.21 Q169.491 1412.45 167.547 1410.72 Q165.626 1408.98 162.524 1408.98 Q160.325 1408.98 157.871 1409.74 Q155.44 1410.51 152.663 1412.06 L152.663 1407.34 Q155.487 1406.2 157.94 1405.62 Q160.394 1405.05 162.431 1405.05 Q167.802 1405.05 170.996 1407.73 Q174.19 1410.42 174.19 1414.91 Q174.19 1417.04 173.38 1418.96 Q172.593 1420.86 170.487 1423.45 Q169.908 1424.12 166.806 1427.34 Q163.704 1430.53 158.056 1436.3 Z\" fill=\"#000000\" fill-rule=\"evenodd\" fill-opacity=\"1\" /><path clip-path=\"url(#clip190)\" d=\"M194.19 1408.75 Q190.579 1408.75 188.75 1412.31 Q186.945 1415.86 186.945 1422.99 Q186.945 1430.09 188.75 1433.66 Q190.579 1437.2 194.19 1437.2 Q197.825 1437.2 199.63 1433.66 Q201.459 1430.09 201.459 1422.99 Q201.459 1415.86 199.63 1412.31 Q197.825 1408.75 194.19 1408.75 M194.19 1405.05 Q200 1405.05 203.056 1409.65 Q206.135 1414.24 206.135 1422.99 Q206.135 1431.71 203.056 1436.32 Q200 1440.9 194.19 1440.9 Q188.38 1440.9 185.301 1436.32 Q182.246 1431.71 182.246 1422.99 Q182.246 1414.24 185.301 1409.65 Q188.38 1405.05 194.19 1405.05 Z\" fill=\"#000000\" fill-rule=\"evenodd\" fill-opacity=\"1\" /><path clip-path=\"url(#clip190)\" d=\"M224.352 1408.75 Q220.741 1408.75 218.912 1412.31 Q217.107 1415.86 217.107 1422.99 Q217.107 1430.09 218.912 1433.66 Q220.741 1437.2 224.352 1437.2 Q227.986 1437.2 229.792 1433.66 Q231.621 1430.09 231.621 1422.99 Q231.621 1415.86 229.792 1412.31 Q227.986 1408.75 224.352 1408.75 M224.352 1405.05 Q230.162 1405.05 233.218 1409.65 Q236.297 1414.24 236.297 1422.99 Q236.297 1431.71 233.218 1436.32 Q230.162 1440.9 224.352 1440.9 Q218.542 1440.9 215.463 1436.32 Q212.408 1431.71 212.408 1422.99 Q212.408 1414.24 215.463 1409.65 Q218.542 1405.05 224.352 1405.05 Z\" fill=\"#000000\" fill-rule=\"evenodd\" fill-opacity=\"1\" /><path clip-path=\"url(#clip190)\" d=\"M114.26 964.91 L143.936 964.91 L143.936 968.845 L114.26 968.845 L114.26 964.91 Z\" fill=\"#000000\" fill-rule=\"evenodd\" fill-opacity=\"1\" /><path clip-path=\"url(#clip190)\" d=\"M154.839 977.803 L162.477 977.803 L162.477 951.437 L154.167 953.104 L154.167 948.845 L162.431 947.178 L167.107 947.178 L167.107 977.803 L174.746 977.803 L174.746 981.738 L154.839 981.738 L154.839 977.803 Z\" fill=\"#000000\" fill-rule=\"evenodd\" fill-opacity=\"1\" /><path clip-path=\"url(#clip190)\" d=\"M194.19 950.257 Q190.579 950.257 188.75 953.822 Q186.945 957.363 186.945 964.493 Q186.945 971.599 188.75 975.164 Q190.579 978.706 194.19 978.706 Q197.825 978.706 199.63 975.164 Q201.459 971.599 201.459 964.493 Q201.459 957.363 199.63 953.822 Q197.825 950.257 194.19 950.257 M194.19 946.553 Q200 946.553 203.056 951.16 Q206.135 955.743 206.135 964.493 Q206.135 973.22 203.056 977.826 Q200 982.409 194.19 982.409 Q188.38 982.409 185.301 977.826 Q182.246 973.22 182.246 964.493 Q182.246 955.743 185.301 951.16 Q188.38 946.553 194.19 946.553 Z\" fill=\"#000000\" fill-rule=\"evenodd\" fill-opacity=\"1\" /><path clip-path=\"url(#clip190)\" d=\"M224.352 950.257 Q220.741 950.257 218.912 953.822 Q217.107 957.363 217.107 964.493 Q217.107 971.599 218.912 975.164 Q220.741 978.706 224.352 978.706 Q227.986 978.706 229.792 975.164 Q231.621 971.599 231.621 964.493 Q231.621 957.363 229.792 953.822 Q227.986 950.257 224.352 950.257 M224.352 946.553 Q230.162 946.553 233.218 951.16 Q236.297 955.743 236.297 964.493 Q236.297 973.22 233.218 977.826 Q230.162 982.409 224.352 982.409 Q218.542 982.409 215.463 977.826 Q212.408 973.22 212.408 964.493 Q212.408 955.743 215.463 951.16 Q218.542 946.553 224.352 946.553 Z\" fill=\"#000000\" fill-rule=\"evenodd\" fill-opacity=\"1\" /><path clip-path=\"url(#clip190)\" d=\"M224.352 491.764 Q220.741 491.764 218.912 495.329 Q217.107 498.871 217.107 506 Q217.107 513.107 218.912 516.672 Q220.741 520.213 224.352 520.213 Q227.986 520.213 229.792 516.672 Q231.621 513.107 231.621 506 Q231.621 498.871 229.792 495.329 Q227.986 491.764 224.352 491.764 M224.352 488.061 Q230.162 488.061 233.218 492.667 Q236.297 497.251 236.297 506 Q236.297 514.727 233.218 519.334 Q230.162 523.917 224.352 523.917 Q218.542 523.917 215.463 519.334 Q212.408 514.727 212.408 506 Q212.408 497.251 215.463 492.667 Q218.542 488.061 224.352 488.061 Z\" fill=\"#000000\" fill-rule=\"evenodd\" fill-opacity=\"1\" /><path clip-path=\"url(#clip190)\" d=\"M154.839 60.8182 L162.477 60.8182 L162.477 34.4526 L154.167 36.1192 L154.167 31.86 L162.431 30.1933 L167.107 30.1933 L167.107 60.8182 L174.746 60.8182 L174.746 64.7533 L154.839 64.7533 L154.839 60.8182 Z\" fill=\"#000000\" fill-rule=\"evenodd\" fill-opacity=\"1\" /><path clip-path=\"url(#clip190)\" d=\"M194.19 33.272 Q190.579 33.272 188.75 36.8368 Q186.945 40.3785 186.945 47.5081 Q186.945 54.6145 188.75 58.1793 Q190.579 61.7209 194.19 61.7209 Q197.825 61.7209 199.63 58.1793 Q201.459 54.6145 201.459 47.5081 Q201.459 40.3785 199.63 36.8368 Q197.825 33.272 194.19 33.272 M194.19 29.5683 Q200 29.5683 203.056 34.1748 Q206.135 38.7581 206.135 47.5081 Q206.135 56.2349 203.056 60.8413 Q200 65.4246 194.19 65.4246 Q188.38 65.4246 185.301 60.8413 Q182.246 56.2349 182.246 47.5081 Q182.246 38.7581 185.301 34.1748 Q188.38 29.5683 194.19 29.5683 Z\" fill=\"#000000\" fill-rule=\"evenodd\" fill-opacity=\"1\" /><path clip-path=\"url(#clip190)\" d=\"M224.352 33.272 Q220.741 33.272 218.912 36.8368 Q217.107 40.3785 217.107 47.5081 Q217.107 54.6145 218.912 58.1793 Q220.741 61.7209 224.352 61.7209 Q227.986 61.7209 229.792 58.1793 Q231.621 54.6145 231.621 47.5081 Q231.621 40.3785 229.792 36.8368 Q227.986 33.272 224.352 33.272 M224.352 29.5683 Q230.162 29.5683 233.218 34.1748 Q236.297 38.7581 236.297 47.5081 Q236.297 56.2349 233.218 60.8413 Q230.162 65.4246 224.352 65.4246 Q218.542 65.4246 215.463 60.8413 Q212.408 56.2349 212.408 47.5081 Q212.408 38.7581 215.463 34.1748 Q218.542 29.5683 224.352 29.5683 Z\" fill=\"#000000\" fill-rule=\"evenodd\" fill-opacity=\"1\" /><path clip-path=\"url(#clip190)\" d=\"M14.479 818.714 L14.479 812.858 L64.0042 812.858 L64.0042 818.714 L14.479 818.714 Z\" fill=\"#000000\" fill-rule=\"evenodd\" fill-opacity=\"1\" /><path clip-path=\"url(#clip190)\" d=\"M32.4621 786.79 Q32.4621 791.501 36.1542 794.238 Q39.8145 796.975 46.212 796.975 Q52.6095 796.975 56.3017 794.27 Q59.9619 791.533 59.9619 786.79 Q59.9619 782.111 56.2698 779.374 Q52.5777 776.637 46.212 776.637 Q39.8781 776.637 36.186 779.374 Q32.4621 782.111 32.4621 786.79 M27.4968 786.79 Q27.4968 779.151 32.4621 774.791 Q37.4273 770.43 46.212 770.43 Q54.9649 770.43 59.9619 774.791 Q64.9272 779.151 64.9272 786.79 Q64.9272 794.461 59.9619 798.821 Q54.9649 803.15 46.212 803.15 Q37.4273 803.15 32.4621 798.821 Q27.4968 794.461 27.4968 786.79 Z\" fill=\"#000000\" fill-rule=\"evenodd\" fill-opacity=\"1\" /><path clip-path=\"url(#clip190)\" d=\"M45.7664 737.265 Q39.4007 737.265 35.8996 739.907 Q32.3984 742.517 32.3984 747.259 Q32.3984 751.97 35.8996 754.611 Q39.4007 757.221 45.7664 757.221 Q52.1003 757.221 55.6014 754.611 Q59.1026 751.97 59.1026 747.259 Q59.1026 742.517 55.6014 739.907 Q52.1003 737.265 45.7664 737.265 M59.58 731.408 Q68.683 731.408 73.1071 735.451 Q77.5631 739.493 77.5631 747.832 Q77.5631 750.919 77.0857 753.657 Q76.6401 756.394 75.6852 758.972 L69.9879 758.972 Q71.3884 756.394 72.0568 753.879 Q72.7252 751.365 72.7252 748.755 Q72.7252 742.994 69.7015 740.129 Q66.7096 737.265 60.6303 737.265 L57.7339 737.265 Q60.885 739.079 62.4446 741.912 Q64.0042 744.745 64.0042 748.691 Q64.0042 755.248 59.0071 759.258 Q54.01 763.269 45.7664 763.269 Q37.491 763.269 32.4939 759.258 Q27.4968 755.248 27.4968 748.691 Q27.4968 744.745 29.0564 741.912 Q30.616 739.079 33.7671 737.265 L28.3562 737.265 L28.3562 731.408 L59.58 731.408 Z\" fill=\"#000000\" fill-rule=\"evenodd\" fill-opacity=\"1\" /><path clip-path=\"url(#clip190)\" d=\"M14.479 719.345 L14.479 713.489 L64.0042 713.489 L64.0042 719.345 L14.479 719.345 Z\" fill=\"#000000\" fill-rule=\"evenodd\" fill-opacity=\"1\" /><path clip-path=\"url(#clip190)\" d=\"M28.3562 701.235 L28.3562 695.379 L64.0042 695.379 L64.0042 701.235 L28.3562 701.235 M14.479 701.235 L14.479 695.379 L21.895 695.379 L21.895 701.235 L14.479 701.235 Z\" fill=\"#000000\" fill-rule=\"evenodd\" fill-opacity=\"1\" /><path clip-path=\"url(#clip190)\" d=\"M14.479 683.347 L14.479 677.459 L43.7294 677.459 L28.3562 659.985 L28.3562 652.506 L45.0344 671.412 L64.0042 651.71 L64.0042 659.349 L46.5939 677.459 L64.0042 677.459 L64.0042 683.347 L14.479 683.347 Z\" fill=\"#000000\" fill-rule=\"evenodd\" fill-opacity=\"1\" /><polyline clip-path=\"url(#clip192)\" style=\"stroke:#0000ff; stroke-linecap:round; stroke-linejoin:round; stroke-width:4; stroke-opacity:1; fill:none\" points=\"\n",
       "  366.863,1072.2 368.754,1071.04 370.646,1069.86 372.537,1068.65 374.428,1067.44 376.32,1066.21 378.211,1064.97 380.102,1063.73 381.993,1062.48 383.885,1061.23 \n",
       "  385.776,1059.98 387.667,1058.72 389.559,1057.46 391.45,1056.21 393.341,1054.95 395.233,1053.69 397.124,1052.43 399.015,1051.18 400.907,1049.92 402.798,1048.67 \n",
       "  404.689,1047.42 406.581,1046.17 408.472,1044.92 410.363,1043.68 412.255,1042.44 414.146,1041.2 416.037,1039.96 417.929,1038.72 419.82,1037.49 421.711,1036.26 \n",
       "  423.603,1035.04 425.494,1033.81 427.385,1032.59 429.277,1031.37 431.168,1030.16 433.059,1028.95 434.951,1027.74 436.842,1026.53 438.733,1025.33 440.625,1024.13 \n",
       "  442.516,1022.93 444.407,1021.74 446.299,1020.55 448.19,1019.36 450.081,1018.18 451.973,1017 453.864,1015.82 455.755,1014.64 457.647,1013.47 459.538,1012.3 \n",
       "  461.429,1011.13 463.321,1009.97 465.212,1008.81 467.103,1007.66 468.995,1006.5 470.886,1005.35 472.777,1004.2 474.668,1003.06 476.56,1001.92 478.451,1000.78 \n",
       "  480.342,999.64 482.234,998.507 484.125,997.377 486.016,996.249 487.908,995.125 489.799,994.003 491.69,992.885 493.582,991.769 495.473,990.656 497.364,989.545 \n",
       "  499.256,988.438 501.147,987.333 503.038,986.231 504.93,985.132 506.821,984.036 508.712,982.942 510.604,981.851 512.495,980.762 514.386,979.677 516.278,978.594 \n",
       "  518.169,977.513 520.06,976.435 521.952,975.36 523.843,974.288 525.734,973.218 527.626,972.15 529.517,971.085 531.408,970.023 533.3,968.963 535.191,967.905 \n",
       "  537.082,966.85 538.974,965.798 540.865,964.748 542.756,963.7 544.648,962.655 546.539,961.612 548.43,960.572 550.322,959.534 552.213,958.498 554.104,957.465 \n",
       "  555.996,956.434 557.887,955.405 559.778,954.379 561.67,953.354 563.561,952.332 565.452,951.313 567.344,950.295 569.235,949.28 571.126,948.267 573.017,947.257 \n",
       "  574.909,946.248 576.8,945.242 578.691,944.237 580.583,943.235 582.474,942.235 584.365,941.237 586.257,940.241 588.148,939.248 590.039,938.256 591.931,937.266 \n",
       "  593.822,936.279 595.713,935.293 597.605,934.31 599.496,933.328 601.387,932.349 603.279,931.371 605.17,930.396 607.061,929.422 608.953,928.451 610.844,927.481 \n",
       "  612.735,926.513 614.627,925.547 616.518,924.583 618.409,923.621 620.301,922.661 622.192,921.703 624.083,920.746 625.975,919.792 627.866,918.839 629.757,917.888 \n",
       "  631.649,916.939 633.54,915.991 635.431,915.045 637.323,914.102 639.214,913.159 641.105,912.219 642.997,911.28 644.888,910.344 646.779,909.408 648.671,908.475 \n",
       "  650.562,907.543 652.453,906.613 654.345,905.685 656.236,904.758 658.127,903.833 660.019,902.909 661.91,901.988 663.801,901.067 665.692,900.149 667.584,899.232 \n",
       "  669.475,898.316 671.366,897.403 673.258,896.49 675.149,895.58 677.04,894.671 678.932,893.763 680.823,892.857 682.714,891.953 684.606,891.05 686.497,890.148 \n",
       "  688.388,889.248 690.28,888.35 692.171,887.453 694.062,886.558 695.954,885.664 697.845,884.771 699.736,883.88 701.628,882.99 703.519,882.102 705.41,881.215 \n",
       "  707.302,880.33 709.193,879.446 711.084,878.563 712.976,877.682 714.867,876.802 716.758,875.924 718.65,875.047 720.541,874.171 722.432,873.297 724.324,872.424 \n",
       "  726.215,871.552 728.106,870.682 729.998,869.813 731.889,868.945 733.78,868.078 735.672,867.213 737.563,866.349 739.454,865.487 741.346,864.626 743.237,863.766 \n",
       "  745.128,862.907 747.02,862.049 748.911,861.193 750.802,860.338 752.694,859.484 754.585,858.632 756.476,857.78 758.368,856.93 760.259,856.081 762.15,855.234 \n",
       "  764.041,854.387 765.933,853.542 767.824,852.698 769.715,851.855 771.607,851.013 773.498,850.172 775.389,849.332 777.281,848.494 779.172,847.657 781.063,846.821 \n",
       "  782.955,845.986 784.846,845.152 786.737,844.319 788.629,843.487 790.52,842.657 792.411,841.827 794.303,840.999 796.194,840.172 798.085,839.345 799.977,838.52 \n",
       "  801.868,837.696 803.759,836.873 805.651,836.051 807.542,835.23 809.433,834.41 811.325,833.591 813.216,832.773 815.107,831.957 816.999,831.141 818.89,830.326 \n",
       "  820.781,829.512 822.673,828.699 824.564,827.888 826.455,827.077 828.347,826.267 830.238,825.458 832.129,824.65 834.021,823.843 835.912,823.037 837.803,822.232 \n",
       "  839.695,821.428 841.586,820.625 843.477,819.823 845.369,819.022 847.26,818.221 849.151,817.422 851.043,816.624 852.934,815.826 854.825,815.029 856.716,814.234 \n",
       "  858.608,813.439 860.499,812.645 862.39,811.852 864.282,811.06 866.173,810.269 868.064,809.478 869.956,808.689 871.847,807.9 873.738,807.112 875.63,806.325 \n",
       "  877.521,805.539 879.412,804.754 881.304,803.969 883.195,803.186 885.086,802.403 886.978,801.621 888.869,800.84 890.76,800.06 892.652,799.281 894.543,798.502 \n",
       "  896.434,797.724 898.326,796.947 900.217,796.171 902.108,795.395 904,794.621 905.891,793.847 907.782,793.074 909.674,792.302 911.565,791.53 913.456,790.759 \n",
       "  915.348,789.989 917.239,789.22 919.13,788.452 921.022,787.684 922.913,786.917 924.804,786.151 926.696,785.385 928.587,784.621 930.478,783.857 932.37,783.093 \n",
       "  934.261,782.331 936.152,781.569 938.044,780.808 939.935,780.048 941.826,779.288 943.718,778.529 945.609,777.771 947.5,777.013 949.391,776.256 951.283,775.5 \n",
       "  953.174,774.744 955.065,773.99 956.957,773.235 958.848,772.482 960.739,771.729 962.631,770.977 964.522,770.226 966.413,769.475 968.305,768.725 970.196,767.975 \n",
       "  972.087,767.226 973.979,766.478 975.87,765.731 977.761,764.984 979.653,764.237 981.544,763.492 983.435,762.747 985.327,762.002 987.218,761.259 989.109,760.515 \n",
       "  991.001,759.773 992.892,759.031 994.783,758.29 996.675,757.549 998.566,756.809 1000.46,756.069 1002.35,755.33 1004.24,754.592 1006.13,753.854 1008.02,753.117 \n",
       "  1009.91,752.381 1011.81,751.645 1013.7,750.91 1015.59,750.175 1017.48,749.44 1019.37,748.707 1021.26,747.974 1023.15,747.241 1025.04,746.509 1026.94,745.778 \n",
       "  1028.83,745.047 1030.72,744.317 1032.61,743.587 1034.5,742.858 1036.39,742.129 1038.28,741.401 1040.18,740.673 1042.07,739.946 1043.96,739.22 1045.85,738.494 \n",
       "  1047.74,737.768 1049.63,737.043 1051.52,736.319 1053.41,735.595 1055.31,734.872 1057.2,734.149 1059.09,733.426 1060.98,732.704 1062.87,731.983 1064.76,731.262 \n",
       "  1066.65,730.542 1068.55,729.822 1070.44,729.103 1072.33,728.384 1074.22,727.665 1076.11,726.947 1078,726.23 1079.89,725.513 1081.78,724.796 1083.68,724.08 \n",
       "  1085.57,723.365 1087.46,722.65 1089.35,721.935 1091.24,721.221 1093.13,720.507 1095.02,719.794 1096.91,719.081 1098.81,718.369 1100.7,717.657 1102.59,716.946 \n",
       "  1104.48,716.235 1106.37,715.524 1108.26,714.814 1110.15,714.105 1112.05,713.395 1113.94,712.687 1115.83,711.978 1117.72,711.27 1119.61,710.563 1121.5,709.856 \n",
       "  1123.39,709.149 1125.28,708.443 1127.18,707.737 1129.07,707.032 1130.96,706.327 1132.85,705.622 1134.74,704.918 1136.63,704.214 1138.52,703.511 1140.42,702.808 \n",
       "  1142.31,702.106 1144.2,701.404 1146.09,700.702 1147.98,700 1149.87,699.3 1151.76,698.599 1153.65,697.899 1155.55,697.199 1157.44,696.5 1159.33,695.801 \n",
       "  1161.22,695.102 1163.11,694.404 1165,693.706 1166.89,693.008 1168.79,692.311 1170.68,691.614 1172.57,690.918 1174.46,690.222 1176.35,689.526 1178.24,688.831 \n",
       "  1180.13,688.136 1182.02,687.442 1183.92,686.747 1185.81,686.053 1187.7,685.36 1189.59,684.667 1191.48,683.974 1193.37,683.281 1195.26,682.589 1197.16,681.898 \n",
       "  1199.05,681.206 1200.94,680.515 1202.83,679.824 1204.72,679.134 1206.61,678.444 1208.5,677.754 1210.39,677.064 1212.29,676.375 1214.18,675.686 1216.07,674.998 \n",
       "  1217.96,674.31 1219.85,673.622 1221.74,672.935 1223.63,672.247 1225.53,671.56 1227.42,670.874 1229.31,670.188 1231.2,669.502 1233.09,668.816 1234.98,668.131 \n",
       "  1236.87,667.446 1238.76,666.761 1240.66,666.077 1242.55,665.393 1244.44,664.709 1246.33,664.025 1248.22,663.342 1250.11,662.659 1252,661.977 1253.9,661.294 \n",
       "  1255.79,660.612 1257.68,659.93 1259.57,659.249 1261.46,658.568 1263.35,657.887 1265.24,657.206 1267.13,656.526 1269.03,655.846 1270.92,655.166 1272.81,654.487 \n",
       "  1274.7,653.807 1276.59,653.128 1278.48,652.45 1280.37,651.771 1282.26,651.093 1284.16,650.415 1286.05,649.738 1287.94,649.06 1289.83,648.383 1291.72,647.707 \n",
       "  1293.61,647.03 1295.5,646.354 1297.4,645.678 1299.29,645.002 1301.18,644.326 1303.07,643.651 1304.96,642.976 1306.85,642.301 1308.74,641.627 1310.63,640.953 \n",
       "  1312.53,640.279 1314.42,639.605 1316.31,638.931 1318.2,638.258 1320.09,637.585 1321.98,636.912 1323.87,636.24 1325.77,635.567 1327.66,634.895 1329.55,634.224 \n",
       "  1331.44,633.552 1333.33,632.881 1335.22,632.21 1337.11,631.539 1339,630.868 1340.9,630.198 1342.79,629.527 1344.68,628.858 1346.57,628.188 1348.46,627.518 \n",
       "  1350.35,626.849 1352.24,626.18 1354.14,625.511 1356.03,624.843 1357.92,624.174 1359.81,623.506 1361.7,622.838 1363.59,622.17 1365.48,621.503 1367.37,620.836 \n",
       "  1369.27,620.169 1371.16,619.502 1373.05,618.835 1374.94,618.169 1376.83,617.503 1378.72,616.837 1380.61,616.171 1382.51,615.505 1384.4,614.84 1386.29,614.175 \n",
       "  1388.18,613.51 1390.07,612.845 1391.96,612.181 1393.85,611.516 1395.74,610.852 1397.64,610.188 1399.53,609.525 1401.42,608.861 1403.31,608.198 1405.2,607.535 \n",
       "  1407.09,606.872 1408.98,606.209 1410.88,605.547 1412.77,604.885 1414.66,604.222 1416.55,603.561 1418.44,602.899 1420.33,602.237 1422.22,601.576 1424.11,600.915 \n",
       "  1426.01,600.254 1427.9,599.594 1429.79,598.933 1431.68,598.273 1433.57,597.613 1435.46,596.953 1437.35,596.293 1439.25,595.633 1441.14,594.974 1443.03,594.315 \n",
       "  1444.92,593.656 1446.81,592.997 1448.7,592.339 1450.59,591.68 1452.48,591.022 1454.38,590.364 1456.27,589.706 1458.16,589.049 1460.05,588.391 1461.94,587.734 \n",
       "  1463.83,587.077 1465.72,586.42 1467.62,585.764 1469.51,585.107 1471.4,584.451 1473.29,583.795 1475.18,583.139 1477.07,582.483 1478.96,581.828 1480.85,581.172 \n",
       "  1482.75,580.517 1484.64,579.862 1486.53,579.207 1488.42,578.553 1490.31,577.898 1492.2,577.244 1494.09,576.59 1495.98,575.936 1497.88,575.283 1499.77,574.629 \n",
       "  1501.66,573.976 1503.55,573.323 1505.44,572.67 1507.33,572.017 1509.22,571.365 1511.12,570.713 1513.01,570.06 1514.9,569.409 1516.79,568.757 1518.68,568.105 \n",
       "  1520.57,567.454 1522.46,566.803 1524.35,566.152 1526.25,565.501 1528.14,564.85 1530.03,564.2 1531.92,563.55 1533.81,562.9 1535.7,562.25 1537.59,561.6 \n",
       "  1539.49,560.951 1541.38,560.302 1543.27,559.653 1545.16,559.004 1547.05,558.355 1548.94,557.707 1550.83,557.059 1552.72,556.411 1554.62,555.763 1556.51,555.115 \n",
       "  1558.4,554.468 1560.29,553.821 1562.18,553.174 1564.07,552.527 1565.96,551.881 1567.86,551.234 1569.75,550.588 1571.64,549.942 1573.53,549.296 1575.42,548.651 \n",
       "  1577.31,548.006 1579.2,547.361 1581.09,546.716 1582.99,546.071 1584.88,545.427 1586.77,544.782 1588.66,544.138 1590.55,543.495 1592.44,542.851 1594.33,542.208 \n",
       "  1596.23,541.565 1598.12,540.922 1600.01,540.279 1601.9,539.637 1603.79,538.995 1605.68,538.353 1607.57,537.711 1609.46,537.07 1611.36,536.429 1613.25,535.788 \n",
       "  1615.14,535.147 1617.03,534.507 1618.92,533.867 1620.81,533.227 1622.7,532.587 1624.6,531.947 1626.49,531.308 1628.38,530.669 1630.27,530.031 1632.16,529.392 \n",
       "  1634.05,528.754 1635.94,528.116 1637.83,527.479 1639.73,526.841 1641.62,526.204 1643.51,525.568 1645.4,524.931 1647.29,524.295 1649.18,523.659 1651.07,523.023 \n",
       "  1652.97,522.388 1654.86,521.753 1656.75,521.118 1658.64,520.484 1660.53,519.85 1662.42,519.216 1664.31,518.582 1666.2,517.949 1668.1,517.316 1669.99,516.684 \n",
       "  1671.88,516.052 1673.77,515.42 1675.66,514.788 1677.55,514.157 1679.44,513.526 1681.33,512.895 1683.23,512.265 1685.12,511.635 1687.01,511.006 1688.9,510.376 \n",
       "  1690.79,509.747 1692.68,509.119 1694.57,508.491 1696.47,507.863 1698.36,507.236 1700.25,506.609 1702.14,505.982 1704.03,505.356 1705.92,504.73 1707.81,504.105 \n",
       "  1709.7,503.48 1711.6,502.855 1713.49,502.231 1715.38,501.607 1717.27,500.984 1719.16,500.361 1721.05,499.738 1722.94,499.116 1724.84,498.495 1726.73,497.873 \n",
       "  1728.62,497.253 1730.51,496.632 1732.4,496.013 1734.29,495.393 1736.18,494.774 1738.07,494.156 1739.97,493.538 1741.86,492.921 1743.75,492.304 1745.64,491.687 \n",
       "  1747.53,491.071 1749.42,490.456 1751.31,489.841 1753.21,489.227 1755.1,488.613 1756.99,488 1758.88,487.387 1760.77,486.775 1762.66,486.163 1764.55,485.552 \n",
       "  1766.44,484.942 1768.34,484.332 1770.23,483.723 1772.12,483.114 1774.01,482.507 1775.9,481.899 1777.79,481.292 1779.68,480.686 1781.58,480.081 1783.47,479.476 \n",
       "  1785.36,478.872 1787.25,478.269 1789.14,477.666 1791.03,477.064 1792.92,476.462 1794.81,475.862 1796.71,475.262 1798.6,474.663 1800.49,474.064 1802.38,473.467 \n",
       "  1804.27,472.87 1806.16,472.274 1808.05,471.678 1809.95,471.084 1811.84,470.49 1813.73,469.897 1815.62,469.305 1817.51,468.714 1819.4,468.123 1821.29,467.534 \n",
       "  1823.18,466.945 1825.08,466.358 1826.97,465.771 1828.86,465.185 1830.75,464.6 1832.64,464.016 1834.53,463.433 1836.42,462.851 1838.32,462.27 1840.21,461.69 \n",
       "  1842.1,461.111 1843.99,460.533 1845.88,459.956 1847.77,459.38 1849.66,458.805 1851.55,458.231 1853.45,457.659 1855.34,457.087 1857.23,456.517 1859.12,455.948 \n",
       "  1861.01,455.38 1862.9,454.813 1864.79,454.247 1866.68,453.683 1868.58,453.12 1870.47,452.558 1872.36,451.998 1874.25,451.439 1876.14,450.881 1878.03,450.324 \n",
       "  1879.92,449.769 1881.82,449.216 1883.71,448.663 1885.6,448.113 1887.49,447.563 1889.38,447.015 1891.27,446.469 1893.16,445.924 1895.05,445.381 1896.95,444.84 \n",
       "  1898.84,444.3 1900.73,443.761 1902.62,443.224 1904.51,442.69 1906.4,442.156 1908.29,441.625 1910.19,441.095 1912.08,440.567 1913.97,440.041 1915.86,439.517 \n",
       "  1917.75,438.994 1919.64,438.474 1921.53,437.956 1923.42,437.439 1925.32,436.925 1927.21,436.412 1929.1,435.902 1930.99,435.394 1932.88,434.888 1934.77,434.384 \n",
       "  1936.66,433.883 1938.56,433.383 1940.45,432.886 1942.34,432.392 1944.23,431.9 1946.12,431.41 1948.01,430.923 1949.9,430.438 1951.79,429.956 1953.69,429.476 \n",
       "  1955.58,429 1957.47,428.525 1959.36,428.054 1961.25,427.585 1963.14,427.12 1965.03,426.657 1966.93,426.197 1968.82,425.74 1970.71,425.286 1972.6,424.836 \n",
       "  1974.49,424.388 1976.38,423.944 1978.27,423.503 1980.16,423.065 1982.06,422.631 1983.95,422.201 1985.84,421.773 1987.73,421.35 1989.62,420.93 1991.51,420.514 \n",
       "  1993.4,420.102 1995.3,419.693 1997.19,419.289 1999.08,418.889 2000.97,418.493 2002.86,418.101 2004.75,417.713 2006.64,417.33 2008.53,416.951 2010.43,416.576 \n",
       "  2012.32,416.207 2014.21,415.842 2016.1,415.482 2017.99,415.127 2019.88,414.776 2021.77,414.431 2023.67,414.092 2025.56,413.757 2027.45,413.428 2029.34,413.105 \n",
       "  2031.23,412.787 2033.12,412.475 2035.01,412.169 2036.9,411.869 2038.8,411.576 2040.69,411.288 2042.58,411.007 2044.47,410.733 2046.36,410.465 2048.25,410.205 \n",
       "  2050.14,409.951 2052.03,409.704 2053.93,409.465 2055.82,409.234 2057.71,409.01 2059.6,408.794 2061.49,408.586 2063.38,408.387 2065.27,408.196 2067.17,408.013 \n",
       "  2069.06,407.84 2070.95,407.675 2072.84,407.52 2074.73,407.374 2076.62,407.238 2078.51,407.112 2080.4,406.997 2082.3,406.891 2084.19,406.797 2086.08,406.714 \n",
       "  2087.97,406.642 2089.86,406.581 2091.75,406.533 2093.64,406.497 2095.54,406.473 2097.43,406.463 2099.32,406.466 2101.21,406.482 2103.1,406.512 2104.99,406.557 \n",
       "  2106.88,406.617 2108.77,406.692 2110.67,406.782 2112.56,406.889 2114.45,407.013 2116.34,407.153 2118.23,407.312 2120.12,407.488 2122.01,407.683 2123.91,407.898 \n",
       "  2125.8,408.132 2127.69,408.388 2129.58,408.664 2131.47,408.962 2133.36,409.283 2135.25,409.628 2137.14,409.997 2139.04,410.391 2140.93,410.811 2142.82,411.257 \n",
       "  2144.71,411.732 2146.6,412.236 2148.49,412.769 2150.38,413.334 2152.28,413.931 2154.17,414.561 2156.06,415.227 2157.95,415.928 2159.84,416.668 2161.73,417.446 \n",
       "  2163.62,418.266 2165.51,419.128 2167.41,420.035 2169.3,420.989 2171.19,421.991 2173.08,423.044 2174.97,424.151 2176.86,425.314 2178.75,426.535 2180.65,427.819 \n",
       "  2182.54,429.167 2184.43,430.583 2186.32,432.072 2188.21,433.636 2190.1,435.281 2191.99,437.012 2193.88,438.832 2195.78,440.748 2197.67,442.766 2199.56,444.892 \n",
       "  2201.45,447.135 2203.34,449.501 2205.23,452 2207.12,454.642 2209.02,457.438 2210.91,460.4 2212.8,463.541 2214.69,466.879 2216.58,470.429 2218.47,474.213 \n",
       "  2220.36,478.254 2222.25,482.577 2224.15,487.215 2226.04,492.204 2227.93,497.585 2229.82,503.412 2231.71,509.746 2233.6,516.662 2235.49,524.254 2237.38,532.641 \n",
       "  2239.28,541.976 2241.17,552.458 2243.06,564.361 2244.95,578.065 2246.84,594.128 2248.73,613.416 2250.62,637.379 2252.52,668.736 2254.41,713.589 2256.3,791.413 \n",
       "  \n",
       "  \"/>\n",
       "<circle clip-path=\"url(#clip192)\" cx=\"2097.43\" cy=\"406.463\" r=\"14.4\" fill=\"#0000ff\" fill-rule=\"evenodd\" fill-opacity=\"1\" stroke=\"#000000\" stroke-opacity=\"1\" stroke-width=\"3.2\"/>\n",
       "<polyline clip-path=\"url(#clip192)\" style=\"stroke:#ff0000; stroke-linecap:round; stroke-linejoin:round; stroke-width:4; stroke-opacity:1; fill:none\" points=\"\n",
       "  366.863,1019.84 368.754,1018.75 370.646,1017.65 372.537,1016.52 374.428,1015.38 376.32,1014.22 378.211,1013.06 380.102,1011.9 381.993,1010.72 383.885,1009.55 \n",
       "  385.776,1008.37 387.667,1007.18 389.559,1006 391.45,1004.82 393.341,1003.63 395.233,1002.45 397.124,1001.27 399.015,1000.08 400.907,998.902 402.798,997.722 \n",
       "  404.689,996.544 406.581,995.368 408.472,994.193 410.363,993.02 412.255,991.85 414.146,990.682 416.037,989.516 417.929,988.353 419.82,987.192 421.711,986.033 \n",
       "  423.603,984.878 425.494,983.725 427.385,982.574 429.277,981.427 431.168,980.282 433.059,979.14 434.951,978.001 436.842,976.864 438.733,975.731 440.625,974.6 \n",
       "  442.516,973.472 444.407,972.347 446.299,971.225 448.19,970.106 450.081,968.989 451.973,967.876 453.864,966.765 455.755,965.657 457.647,964.552 459.538,963.45 \n",
       "  461.429,962.351 463.321,961.255 465.212,960.161 467.103,959.07 468.995,957.982 470.886,956.897 472.777,955.815 474.668,954.735 476.56,953.658 478.451,952.584 \n",
       "  480.342,951.513 482.234,950.444 484.125,949.378 486.016,948.315 487.908,947.254 489.799,946.197 491.69,945.141 493.582,944.089 495.473,943.039 497.364,941.991 \n",
       "  499.256,940.946 501.147,939.904 503.038,938.865 504.93,937.827 506.821,936.793 508.712,935.761 510.604,934.731 512.495,933.704 514.386,932.68 516.278,931.657 \n",
       "  518.169,930.638 520.06,929.62 521.952,928.605 523.843,927.593 525.734,926.583 527.626,925.575 529.517,924.57 531.408,923.567 533.3,922.566 535.191,921.567 \n",
       "  537.082,920.571 538.974,919.577 540.865,918.586 542.756,917.596 544.648,916.609 546.539,915.624 548.43,914.642 550.322,913.661 552.213,912.683 554.104,911.706 \n",
       "  555.996,910.732 557.887,909.76 559.778,908.791 561.67,907.823 563.561,906.857 565.452,905.894 567.344,904.932 569.235,903.973 571.126,903.016 573.017,902.06 \n",
       "  574.909,901.107 576.8,900.156 578.691,899.206 580.583,898.259 582.474,897.313 584.365,896.37 586.257,895.428 588.148,894.489 590.039,893.551 591.931,892.615 \n",
       "  593.822,891.681 595.713,890.749 597.605,889.819 599.496,888.891 601.387,887.964 603.279,887.04 605.17,886.117 607.061,885.196 608.953,884.277 610.844,883.359 \n",
       "  612.735,882.443 614.627,881.529 616.518,880.617 618.409,879.707 620.301,878.798 622.192,877.891 624.083,876.986 625.975,876.082 627.866,875.18 629.757,874.28 \n",
       "  631.649,873.381 633.54,872.484 635.431,871.589 637.323,870.696 639.214,869.804 641.105,868.913 642.997,868.024 644.888,867.137 646.779,866.251 648.671,865.367 \n",
       "  650.562,864.485 652.453,863.604 654.345,862.725 656.236,861.847 658.127,860.97 660.019,860.095 661.91,859.222 663.801,858.35 665.692,857.48 667.584,856.611 \n",
       "  669.475,855.744 671.366,854.878 673.258,854.013 675.149,853.15 677.04,852.289 678.932,851.429 680.823,850.57 682.714,849.713 684.606,848.857 686.497,848.002 \n",
       "  688.388,847.149 690.28,846.297 692.171,845.447 694.062,844.598 695.954,843.75 697.845,842.904 699.736,842.059 701.628,841.215 703.519,840.373 705.41,839.532 \n",
       "  707.302,838.692 709.193,837.854 711.084,837.017 712.976,836.181 714.867,835.346 716.758,834.513 718.65,833.681 720.541,832.85 722.432,832.021 724.324,831.193 \n",
       "  726.215,830.366 728.106,829.54 729.998,828.715 731.889,827.892 733.78,827.07 735.672,826.249 737.563,825.429 739.454,824.61 741.346,823.793 743.237,822.977 \n",
       "  745.128,822.162 747.02,821.348 748.911,820.535 750.802,819.723 752.694,818.913 754.585,818.103 756.476,817.295 758.368,816.488 760.259,815.682 762.15,814.877 \n",
       "  764.041,814.073 765.933,813.271 767.824,812.469 769.715,811.669 771.607,810.869 773.498,810.071 775.389,809.274 777.281,808.477 779.172,807.682 781.063,806.888 \n",
       "  782.955,806.095 784.846,805.303 786.737,804.512 788.629,803.722 790.52,802.933 792.411,802.145 794.303,801.358 796.194,800.572 798.085,799.787 799.977,799.003 \n",
       "  801.868,798.22 803.759,797.439 805.651,796.658 807.542,795.877 809.433,795.098 811.325,794.32 813.216,793.543 815.107,792.767 816.999,791.992 818.89,791.217 \n",
       "  820.781,790.444 822.673,789.672 824.564,788.9 826.455,788.13 828.347,787.36 830.238,786.591 832.129,785.823 834.021,785.056 835.912,784.29 837.803,783.525 \n",
       "  839.695,782.761 841.586,781.997 843.477,781.235 845.369,780.473 847.26,779.712 849.151,778.952 851.043,778.193 852.934,777.435 854.825,776.678 856.716,775.921 \n",
       "  858.608,775.166 860.499,774.411 862.39,773.657 864.282,772.904 866.173,772.151 868.064,771.4 869.956,770.649 871.847,769.899 873.738,769.15 875.63,768.402 \n",
       "  877.521,767.654 879.412,766.908 881.304,766.162 883.195,765.416 885.086,764.672 886.978,763.929 888.869,763.186 890.76,762.444 892.652,761.702 894.543,760.962 \n",
       "  896.434,760.222 898.326,759.483 900.217,758.745 902.108,758.008 904,757.271 905.891,756.535 907.782,755.799 909.674,755.065 911.565,754.331 913.456,753.598 \n",
       "  915.348,752.866 917.239,752.134 919.13,751.403 921.022,750.673 922.913,749.943 924.804,749.214 926.696,748.486 928.587,747.759 930.478,747.032 932.37,746.306 \n",
       "  934.261,745.581 936.152,744.856 938.044,744.132 939.935,743.409 941.826,742.686 943.718,741.964 945.609,741.243 947.5,740.522 949.391,739.802 951.283,739.082 \n",
       "  953.174,738.364 955.065,737.646 956.957,736.928 958.848,736.211 960.739,735.495 962.631,734.78 964.522,734.065 966.413,733.351 968.305,732.637 970.196,731.924 \n",
       "  972.087,731.211 973.979,730.5 975.87,729.788 977.761,729.078 979.653,728.368 981.544,727.659 983.435,726.95 985.327,726.242 987.218,725.534 989.109,724.827 \n",
       "  991.001,724.121 992.892,723.415 994.783,722.71 996.675,722.005 998.566,721.301 1000.46,720.597 1002.35,719.895 1004.24,719.192 1006.13,718.49 1008.02,717.789 \n",
       "  1009.91,717.088 1011.81,716.388 1013.7,715.689 1015.59,714.99 1017.48,714.291 1019.37,713.593 1021.26,712.896 1023.15,712.199 1025.04,711.503 1026.94,710.807 \n",
       "  1028.83,710.112 1030.72,709.417 1032.61,708.723 1034.5,708.029 1036.39,707.336 1038.28,706.644 1040.18,705.951 1042.07,705.26 1043.96,704.569 1045.85,703.878 \n",
       "  1047.74,703.188 1049.63,702.499 1051.52,701.81 1053.41,701.121 1055.31,700.433 1057.2,699.745 1059.09,699.058 1060.98,698.372 1062.87,697.686 1064.76,697 \n",
       "  1066.65,696.315 1068.55,695.63 1070.44,694.946 1072.33,694.262 1074.22,693.579 1076.11,692.896 1078,692.214 1079.89,691.532 1081.78,690.851 1083.68,690.17 \n",
       "  1085.57,689.49 1087.46,688.81 1089.35,688.13 1091.24,687.451 1093.13,686.772 1095.02,686.094 1096.91,685.416 1098.81,684.739 1100.7,684.062 1102.59,683.386 \n",
       "  1104.48,682.71 1106.37,682.034 1108.26,681.359 1110.15,680.685 1112.05,680.01 1113.94,679.337 1115.83,678.663 1117.72,677.99 1119.61,677.318 1121.5,676.646 \n",
       "  1123.39,675.974 1125.28,675.303 1127.18,674.632 1129.07,673.961 1130.96,673.291 1132.85,672.622 1134.74,671.952 1136.63,671.284 1138.52,670.615 1140.42,669.947 \n",
       "  1142.31,669.279 1144.2,668.612 1146.09,667.945 1147.98,667.279 1149.87,666.613 1151.76,665.947 1153.65,665.282 1155.55,664.617 1157.44,663.952 1159.33,663.288 \n",
       "  1161.22,662.624 1163.11,661.961 1165,661.298 1166.89,660.635 1168.79,659.973 1170.68,659.311 1172.57,658.65 1174.46,657.989 1176.35,657.328 1178.24,656.667 \n",
       "  1180.13,656.007 1182.02,655.348 1183.92,654.688 1185.81,654.029 1187.7,653.371 1189.59,652.712 1191.48,652.054 1193.37,651.397 1195.26,650.74 1197.16,650.083 \n",
       "  1199.05,649.426 1200.94,648.77 1202.83,648.114 1204.72,647.459 1206.61,646.803 1208.5,646.149 1210.39,645.494 1212.29,644.84 1214.18,644.186 1216.07,643.533 \n",
       "  1217.96,642.879 1219.85,642.227 1221.74,641.574 1223.63,640.922 1225.53,640.27 1227.42,639.619 1229.31,638.967 1231.2,638.317 1233.09,637.666 1234.98,637.016 \n",
       "  1236.87,636.366 1238.76,635.716 1240.66,635.067 1242.55,634.418 1244.44,633.769 1246.33,633.121 1248.22,632.473 1250.11,631.825 1252,631.178 1253.9,630.53 \n",
       "  1255.79,629.884 1257.68,629.237 1259.57,628.591 1261.46,627.945 1263.35,627.299 1265.24,626.654 1267.13,626.009 1269.03,625.364 1270.92,624.72 1272.81,624.076 \n",
       "  1274.7,623.432 1276.59,622.788 1278.48,622.145 1280.37,621.502 1282.26,620.859 1284.16,620.217 1286.05,619.575 1287.94,618.933 1289.83,618.291 1291.72,617.65 \n",
       "  1293.61,617.009 1295.5,616.368 1297.4,615.728 1299.29,615.087 1301.18,614.448 1303.07,613.808 1304.96,613.169 1306.85,612.53 1308.74,611.891 1310.63,611.252 \n",
       "  1312.53,610.614 1314.42,609.976 1316.31,609.338 1318.2,608.701 1320.09,608.064 1321.98,607.427 1323.87,606.79 1325.77,606.154 1327.66,605.518 1329.55,604.882 \n",
       "  1331.44,604.246 1333.33,603.611 1335.22,602.976 1337.11,602.341 1339,601.706 1340.9,601.072 1342.79,600.438 1344.68,599.804 1346.57,599.171 1348.46,598.537 \n",
       "  1350.35,597.904 1352.24,597.271 1354.14,596.639 1356.03,596.007 1357.92,595.375 1359.81,594.743 1361.7,594.111 1363.59,593.48 1365.48,592.849 1367.37,592.218 \n",
       "  1369.27,591.588 1371.16,590.958 1373.05,590.327 1374.94,589.698 1376.83,589.068 1378.72,588.439 1380.61,587.81 1382.51,587.181 1384.4,586.552 1386.29,585.924 \n",
       "  1388.18,585.296 1390.07,584.668 1391.96,584.041 1393.85,583.413 1395.74,582.786 1397.64,582.159 1399.53,581.533 1401.42,580.906 1403.31,580.28 1405.2,579.654 \n",
       "  1407.09,579.028 1408.98,578.403 1410.88,577.778 1412.77,577.153 1414.66,576.528 1416.55,575.904 1418.44,575.279 1420.33,574.655 1422.22,574.031 1424.11,573.408 \n",
       "  1426.01,572.785 1427.9,572.162 1429.79,571.539 1431.68,570.916 1433.57,570.294 1435.46,569.672 1437.35,569.05 1439.25,568.428 1441.14,567.806 1443.03,567.185 \n",
       "  1444.92,566.564 1446.81,565.944 1448.7,565.323 1450.59,564.703 1452.48,564.083 1454.38,563.463 1456.27,562.843 1458.16,562.224 1460.05,561.605 1461.94,560.986 \n",
       "  1463.83,560.367 1465.72,559.749 1467.62,559.131 1469.51,558.513 1471.4,557.895 1473.29,557.278 1475.18,556.661 1477.07,556.044 1478.96,555.427 1480.85,554.81 \n",
       "  1482.75,554.194 1484.64,553.578 1486.53,552.962 1488.42,552.347 1490.31,551.731 1492.2,551.116 1494.09,550.501 1495.98,549.887 1497.88,549.272 1499.77,548.658 \n",
       "  1501.66,548.044 1503.55,547.431 1505.44,546.817 1507.33,546.204 1509.22,545.591 1511.12,544.979 1513.01,544.366 1514.9,543.754 1516.79,543.142 1518.68,542.53 \n",
       "  1520.57,541.919 1522.46,541.308 1524.35,540.697 1526.25,540.086 1528.14,539.476 1530.03,538.865 1531.92,538.255 1533.81,537.646 1535.7,537.036 1537.59,536.427 \n",
       "  1539.49,535.818 1541.38,535.209 1543.27,534.601 1545.16,533.993 1547.05,533.385 1548.94,532.777 1550.83,532.17 1552.72,531.563 1554.62,530.956 1556.51,530.349 \n",
       "  1558.4,529.743 1560.29,529.137 1562.18,528.531 1564.07,527.926 1565.96,527.32 1567.86,526.715 1569.75,526.111 1571.64,525.506 1573.53,524.902 1575.42,524.298 \n",
       "  1577.31,523.695 1579.2,523.091 1581.09,522.488 1582.99,521.886 1584.88,521.283 1586.77,520.681 1588.66,520.079 1590.55,519.478 1592.44,518.876 1594.33,518.275 \n",
       "  1596.23,517.675 1598.12,517.074 1600.01,516.474 1601.9,515.874 1603.79,515.275 1605.68,514.676 1607.57,514.077 1609.46,513.478 1611.36,512.88 1613.25,512.282 \n",
       "  1615.14,511.685 1617.03,511.087 1618.92,510.49 1620.81,509.894 1622.7,509.297 1624.6,508.701 1626.49,508.106 1628.38,507.51 1630.27,506.915 1632.16,506.321 \n",
       "  1634.05,505.727 1635.94,505.133 1637.83,504.539 1639.73,503.946 1641.62,503.353 1643.51,502.76 1645.4,502.168 1647.29,501.576 1649.18,500.985 1651.07,500.394 \n",
       "  1652.97,499.803 1654.86,499.213 1656.75,498.623 1658.64,498.033 1660.53,497.444 1662.42,496.855 1664.31,496.267 1666.2,495.679 1668.1,495.091 1669.99,494.504 \n",
       "  1671.88,493.917 1673.77,493.331 1675.66,492.745 1677.55,492.16 1679.44,491.575 1681.33,490.99 1683.23,490.406 1685.12,489.822 1687.01,489.238 1688.9,488.655 \n",
       "  1690.79,488.073 1692.68,487.491 1694.57,486.909 1696.47,486.328 1698.36,485.748 1700.25,485.167 1702.14,484.588 1704.03,484.009 1705.92,483.43 1707.81,482.852 \n",
       "  1709.7,482.274 1711.6,481.697 1713.49,481.12 1715.38,480.544 1717.27,479.968 1719.16,479.393 1721.05,478.818 1722.94,478.244 1724.84,477.67 1726.73,477.097 \n",
       "  1728.62,476.525 1730.51,475.953 1732.4,475.382 1734.29,474.811 1736.18,474.241 1738.07,473.671 1739.97,473.102 1741.86,472.534 1743.75,471.966 1745.64,471.399 \n",
       "  1747.53,470.832 1749.42,470.266 1751.31,469.701 1753.21,469.136 1755.1,468.572 1756.99,468.009 1758.88,467.446 1760.77,466.884 1762.66,466.322 1764.55,465.762 \n",
       "  1766.44,465.202 1768.34,464.642 1770.23,464.084 1772.12,463.526 1774.01,462.969 1775.9,462.413 1777.79,461.857 1779.68,461.302 1781.58,460.748 1783.47,460.195 \n",
       "  1785.36,459.642 1787.25,459.09 1789.14,458.539 1791.03,457.989 1792.92,457.44 1794.81,456.891 1796.71,456.344 1798.6,455.797 1800.49,455.251 1802.38,454.706 \n",
       "  1804.27,454.162 1806.16,453.619 1808.05,453.076 1809.95,452.535 1811.84,451.994 1813.73,451.455 1815.62,450.916 1817.51,450.379 1819.4,449.842 1821.29,449.306 \n",
       "  1823.18,448.772 1825.08,448.238 1826.97,447.706 1828.86,447.174 1830.75,446.644 1832.64,446.115 1834.53,445.587 1836.42,445.059 1838.32,444.533 1840.21,444.009 \n",
       "  1842.1,443.485 1843.99,442.962 1845.88,442.441 1847.77,441.921 1849.66,441.402 1851.55,440.885 1853.45,440.368 1855.34,439.853 1857.23,439.339 1859.12,438.827 \n",
       "  1861.01,438.316 1862.9,437.806 1864.79,437.297 1866.68,436.79 1868.58,436.285 1870.47,435.781 1872.36,435.278 1874.25,434.777 1876.14,434.277 1878.03,433.778 \n",
       "  1879.92,433.282 1881.82,432.787 1883.71,432.293 1885.6,431.801 1887.49,431.311 1889.38,430.822 1891.27,430.335 1893.16,429.849 1895.05,429.366 1896.95,428.884 \n",
       "  1898.84,428.404 1900.73,427.926 1902.62,427.449 1904.51,426.974 1906.4,426.502 1908.29,426.031 1910.19,425.562 1912.08,425.095 1913.97,424.63 1915.86,424.168 \n",
       "  1917.75,423.707 1919.64,423.248 1921.53,422.792 1923.42,422.337 1925.32,421.885 1927.21,421.435 1929.1,420.988 1930.99,420.542 1932.88,420.099 1934.77,419.659 \n",
       "  1936.66,419.221 1938.56,418.785 1940.45,418.352 1942.34,417.921 1944.23,417.493 1946.12,417.068 1948.01,416.645 1949.9,416.225 1951.79,415.808 1953.69,415.393 \n",
       "  1955.58,414.982 1957.47,414.573 1959.36,414.167 1961.25,413.764 1963.14,413.365 1965.03,412.968 1966.93,412.575 1968.82,412.184 1970.71,411.797 1972.6,411.414 \n",
       "  1974.49,411.033 1976.38,410.657 1978.27,410.283 1980.16,409.914 1982.06,409.547 1983.95,409.185 1985.84,408.826 1987.73,408.472 1989.62,408.121 1991.51,407.774 \n",
       "  1993.4,407.431 1995.3,407.092 1997.19,406.757 1999.08,406.427 2000.97,406.101 2002.86,405.78 2004.75,405.462 2006.64,405.15 2008.53,404.842 2010.43,404.539 \n",
       "  2012.32,404.241 2014.21,403.948 2016.1,403.66 2017.99,403.377 2019.88,403.1 2021.77,402.827 2023.67,402.56 2025.56,402.299 2027.45,402.044 2029.34,401.794 \n",
       "  2031.23,401.55 2033.12,401.313 2035.01,401.081 2036.9,400.856 2038.8,400.637 2040.69,400.425 2042.58,400.219 2044.47,400.021 2046.36,399.829 2048.25,399.645 \n",
       "  2050.14,399.467 2052.03,399.298 2053.93,399.136 2055.82,398.981 2057.71,398.835 2059.6,398.697 2061.49,398.567 2063.38,398.446 2065.27,398.334 2067.17,398.23 \n",
       "  2069.06,398.136 2070.95,398.051 2072.84,397.975 2074.73,397.909 2076.62,397.854 2078.51,397.808 2080.4,397.774 2082.3,397.75 2084.19,397.737 2086.08,397.735 \n",
       "  2087.97,397.745 2089.86,397.767 2091.75,397.802 2093.64,397.848 2095.54,397.908 2097.43,397.981 2099.32,398.068 2101.21,398.168 2103.1,398.283 2104.99,398.413 \n",
       "  2106.88,398.558 2108.77,398.718 2110.67,398.894 2112.56,399.087 2114.45,399.297 2116.34,399.524 2118.23,399.77 2120.12,400.033 2122.01,400.316 2123.91,400.619 \n",
       "  2125.8,400.942 2127.69,401.286 2129.58,401.651 2131.47,402.039 2133.36,402.45 2135.25,402.885 2137.14,403.344 2139.04,403.829 2140.93,404.34 2142.82,404.878 \n",
       "  2144.71,405.445 2146.6,406.04 2148.49,406.667 2150.38,407.324 2152.28,408.014 2154.17,408.739 2156.06,409.498 2157.95,410.294 2159.84,411.128 2161.73,412.002 \n",
       "  2163.62,412.918 2165.51,413.876 2167.41,414.879 2169.3,415.93 2171.19,417.029 2173.08,418.18 2174.97,419.385 2176.86,420.646 2178.75,421.967 2180.65,423.349 \n",
       "  2182.54,424.797 2184.43,426.314 2186.32,427.903 2188.21,429.568 2190.1,431.315 2191.99,433.147 2193.88,435.069 2195.78,437.088 2197.67,439.209 2199.56,441.439 \n",
       "  2201.45,443.786 2203.34,446.257 2205.23,448.861 2207.12,451.608 2209.02,454.51 2210.91,457.578 2212.8,460.826 2214.69,464.271 2216.58,467.929 2218.47,471.821 \n",
       "  2220.36,475.971 2222.25,480.403 2224.15,485.151 2226.04,490.25 2227.93,495.742 2229.82,501.68 2231.71,508.126 2233.6,515.154 2235.49,522.859 2237.38,531.359 \n",
       "  2239.28,540.808 2241.17,551.405 2243.06,563.422 2244.95,577.241 2246.84,593.42 2248.73,612.825 2250.62,636.905 2252.52,668.379 2254.41,713.351 2256.3,791.293 \n",
       "  \n",
       "  \"/>\n",
       "<circle clip-path=\"url(#clip192)\" cx=\"2086.08\" cy=\"397.735\" r=\"14.4\" fill=\"#ff0000\" fill-rule=\"evenodd\" fill-opacity=\"1\" stroke=\"#000000\" stroke-opacity=\"1\" stroke-width=\"3.2\"/>\n",
       "<polyline clip-path=\"url(#clip192)\" style=\"stroke:#0000ff; stroke-linecap:round; stroke-linejoin:round; stroke-width:4; stroke-opacity:1; fill:none\" stroke-dasharray=\"16, 10\" points=\"\n",
       "  2097.43,1423.18 2097.43,406.463 \n",
       "  \"/>\n",
       "<polyline clip-path=\"url(#clip192)\" style=\"stroke:#0000ff; stroke-linecap:round; stroke-linejoin:round; stroke-width:4; stroke-opacity:1; fill:none\" stroke-dasharray=\"16, 10\" points=\"\n",
       "  272.297,406.463 2097.43,406.463 \n",
       "  \"/>\n",
       "<polyline clip-path=\"url(#clip192)\" style=\"stroke:#ff0000; stroke-linecap:round; stroke-linejoin:round; stroke-width:4; stroke-opacity:1; fill:none\" stroke-dasharray=\"16, 10\" points=\"\n",
       "  2086.08,1423.18 2086.08,397.735 \n",
       "  \"/>\n",
       "<polyline clip-path=\"url(#clip192)\" style=\"stroke:#ff0000; stroke-linecap:round; stroke-linejoin:round; stroke-width:4; stroke-opacity:1; fill:none\" stroke-dasharray=\"16, 10\" points=\"\n",
       "  272.297,397.735 2086.08,397.735 \n",
       "  \"/>\n",
       "<path clip-path=\"url(#clip190)\" d=\"\n",
       "M341.645 1377.32 L807.19 1377.32 L807.19 1118.12 L341.645 1118.12  Z\n",
       "  \" fill=\"#ffffff\" fill-rule=\"evenodd\" fill-opacity=\"1\"/>\n",
       "<polyline clip-path=\"url(#clip190)\" style=\"stroke:#000000; stroke-linecap:round; stroke-linejoin:round; stroke-width:4; stroke-opacity:1; fill:none\" points=\"\n",
       "  341.645,1377.32 807.19,1377.32 807.19,1118.12 341.645,1118.12 341.645,1377.32 \n",
       "  \"/>\n",
       "<polyline clip-path=\"url(#clip190)\" style=\"stroke:#0000ff; stroke-linecap:round; stroke-linejoin:round; stroke-width:4; stroke-opacity:1; fill:none\" points=\"\n",
       "  364.761,1169.96 503.459,1169.96 \n",
       "  \"/>\n",
       "<path clip-path=\"url(#clip190)\" d=\"M526.575 1152.68 L532.871 1152.68 L548.195 1181.59 L548.195 1152.68 L552.732 1152.68 L552.732 1187.24 L546.436 1187.24 L531.112 1158.32 L531.112 1187.24 L526.575 1187.24 L526.575 1152.68 Z\" fill=\"#000000\" fill-rule=\"evenodd\" fill-opacity=\"1\" /><path clip-path=\"url(#clip190)\" d=\"M561.413 1177 L561.413 1161.31 L565.672 1161.31 L565.672 1176.84 Q565.672 1180.52 567.107 1182.37 Q568.542 1184.2 571.413 1184.2 Q574.862 1184.2 576.852 1182 Q578.866 1179.8 578.866 1176.01 L578.866 1161.31 L583.126 1161.31 L583.126 1187.24 L578.866 1187.24 L578.866 1183.25 Q577.315 1185.61 575.255 1186.77 Q573.218 1187.91 570.51 1187.91 Q566.042 1187.91 563.727 1185.13 Q561.413 1182.35 561.413 1177 M572.13 1160.68 L572.13 1160.68 Z\" fill=\"#000000\" fill-rule=\"evenodd\" fill-opacity=\"1\" /><path clip-path=\"url(#clip190)\" d=\"M591.899 1151.22 L596.158 1151.22 L596.158 1187.24 L591.899 1187.24 L591.899 1151.22 Z\" fill=\"#000000\" fill-rule=\"evenodd\" fill-opacity=\"1\" /><path clip-path=\"url(#clip190)\" d=\"M605.07 1151.22 L609.329 1151.22 L609.329 1187.24 L605.07 1187.24 L605.07 1151.22 Z\" fill=\"#000000\" fill-rule=\"evenodd\" fill-opacity=\"1\" /><circle clip-path=\"url(#clip190)\" cx=\"434.11\" cy=\"1221.8\" r=\"23.04\" fill=\"#0000ff\" fill-rule=\"evenodd\" fill-opacity=\"1\" stroke=\"#000000\" stroke-opacity=\"1\" stroke-width=\"5.12\"/>\n",
       "<path clip-path=\"url(#clip190)\" d=\"M546.922 1218.13 Q548.519 1215.26 550.741 1213.89 Q552.964 1212.52 555.973 1212.52 Q560.024 1212.52 562.223 1215.37 Q564.422 1218.2 564.422 1223.43 L564.422 1239.08 L560.14 1239.08 L560.14 1223.57 Q560.14 1219.84 558.82 1218.03 Q557.501 1216.23 554.792 1216.23 Q551.482 1216.23 549.561 1218.43 Q547.64 1220.63 547.64 1224.42 L547.64 1239.08 L543.357 1239.08 L543.357 1223.57 Q543.357 1219.82 542.038 1218.03 Q540.718 1216.23 537.964 1216.23 Q534.7 1216.23 532.779 1218.45 Q530.857 1220.65 530.857 1224.42 L530.857 1239.08 L526.575 1239.08 L526.575 1213.15 L530.857 1213.15 L530.857 1217.18 Q532.316 1214.79 534.353 1213.66 Q536.39 1212.52 539.191 1212.52 Q542.015 1212.52 543.982 1213.96 Q545.973 1215.39 546.922 1218.13 Z\" fill=\"#000000\" fill-rule=\"evenodd\" fill-opacity=\"1\" /><path clip-path=\"url(#clip190)\" d=\"M584.7 1226.04 Q579.538 1226.04 577.547 1227.22 Q575.556 1228.4 575.556 1231.25 Q575.556 1233.52 577.038 1234.86 Q578.542 1236.18 581.112 1236.18 Q584.653 1236.18 586.783 1233.68 Q588.936 1231.16 588.936 1226.99 L588.936 1226.04 L584.7 1226.04 M593.195 1224.28 L593.195 1239.08 L588.936 1239.08 L588.936 1235.14 Q587.477 1237.5 585.301 1238.64 Q583.126 1239.75 579.977 1239.75 Q575.996 1239.75 573.635 1237.52 Q571.297 1235.28 571.297 1231.53 Q571.297 1227.15 574.214 1224.93 Q577.153 1222.71 582.963 1222.71 L588.936 1222.71 L588.936 1222.29 Q588.936 1219.35 586.991 1217.76 Q585.07 1216.14 581.575 1216.14 Q579.352 1216.14 577.246 1216.67 Q575.139 1217.2 573.195 1218.27 L573.195 1214.33 Q575.533 1213.43 577.732 1212.99 Q579.931 1212.52 582.014 1212.52 Q587.639 1212.52 590.417 1215.44 Q593.195 1218.36 593.195 1224.28 Z\" fill=\"#000000\" fill-rule=\"evenodd\" fill-opacity=\"1\" /><path clip-path=\"url(#clip190)\" d=\"M623.519 1213.15 L614.144 1225.77 L624.005 1239.08 L618.982 1239.08 L611.436 1228.89 L603.889 1239.08 L598.866 1239.08 L608.936 1225.51 L599.723 1213.15 L604.746 1213.15 L611.621 1222.39 L618.496 1213.15 L623.519 1213.15 Z\" fill=\"#000000\" fill-rule=\"evenodd\" fill-opacity=\"1\" /><path clip-path=\"url(#clip190)\" d=\"M630.209 1204.52 L634.885 1204.52 L634.885 1235.14 L651.713 1235.14 L651.713 1239.08 L630.209 1239.08 L630.209 1204.52 Z\" fill=\"#000000\" fill-rule=\"evenodd\" fill-opacity=\"1\" /><path clip-path=\"url(#clip190)\" d=\"M656.621 1204.52 L661.296 1204.52 L661.296 1235.14 L678.125 1235.14 L678.125 1239.08 L656.621 1239.08 L656.621 1204.52 Z\" fill=\"#000000\" fill-rule=\"evenodd\" fill-opacity=\"1\" /><path clip-path=\"url(#clip190)\" d=\"M702.546 1246.95 L702.546 1250.26 L677.917 1250.26 L677.917 1246.95 L702.546 1246.95 Z\" fill=\"#000000\" fill-rule=\"evenodd\" fill-opacity=\"1\" /><path clip-path=\"url(#clip190)\" d=\"M728.102 1223.43 L728.102 1239.08 L723.842 1239.08 L723.842 1223.57 Q723.842 1219.89 722.407 1218.06 Q720.972 1216.23 718.102 1216.23 Q714.653 1216.23 712.662 1218.43 Q710.671 1220.63 710.671 1224.42 L710.671 1239.08 L706.389 1239.08 L706.389 1213.15 L710.671 1213.15 L710.671 1217.18 Q712.199 1214.84 714.259 1213.68 Q716.342 1212.52 719.051 1212.52 Q723.518 1212.52 725.81 1215.3 Q728.102 1218.06 728.102 1223.43 Z\" fill=\"#000000\" fill-rule=\"evenodd\" fill-opacity=\"1\" /><path clip-path=\"url(#clip190)\" d=\"M736.157 1228.84 L736.157 1213.15 L740.416 1213.15 L740.416 1228.68 Q740.416 1232.36 741.852 1234.21 Q743.287 1236.04 746.157 1236.04 Q749.606 1236.04 751.597 1233.84 Q753.611 1231.64 753.611 1227.85 L753.611 1213.15 L757.87 1213.15 L757.87 1239.08 L753.611 1239.08 L753.611 1235.09 Q752.06 1237.45 750 1238.61 Q747.963 1239.75 745.254 1239.75 Q740.787 1239.75 738.472 1236.97 Q736.157 1234.19 736.157 1228.84 M746.875 1212.52 L746.875 1212.52 Z\" fill=\"#000000\" fill-rule=\"evenodd\" fill-opacity=\"1\" /><path clip-path=\"url(#clip190)\" d=\"M766.643 1203.06 L770.902 1203.06 L770.902 1239.08 L766.643 1239.08 L766.643 1203.06 Z\" fill=\"#000000\" fill-rule=\"evenodd\" fill-opacity=\"1\" /><path clip-path=\"url(#clip190)\" d=\"M779.814 1203.06 L784.074 1203.06 L784.074 1239.08 L779.814 1239.08 L779.814 1203.06 Z\" fill=\"#000000\" fill-rule=\"evenodd\" fill-opacity=\"1\" /><polyline clip-path=\"url(#clip190)\" style=\"stroke:#ff0000; stroke-linecap:round; stroke-linejoin:round; stroke-width:4; stroke-opacity:1; fill:none\" points=\"\n",
       "  364.761,1273.64 503.459,1273.64 \n",
       "  \"/>\n",
       "<path clip-path=\"url(#clip190)\" d=\"M542.408 1260.96 L536.066 1278.16 L548.774 1278.16 L542.408 1260.96 M539.769 1256.36 L545.07 1256.36 L558.241 1290.92 L553.38 1290.92 L550.232 1282.05 L534.654 1282.05 L531.505 1290.92 L526.575 1290.92 L539.769 1256.36 Z\" fill=\"#000000\" fill-rule=\"evenodd\" fill-opacity=\"1\" /><path clip-path=\"url(#clip190)\" d=\"M563.102 1254.9 L567.362 1254.9 L567.362 1290.92 L563.102 1290.92 L563.102 1254.9 Z\" fill=\"#000000\" fill-rule=\"evenodd\" fill-opacity=\"1\" /><path clip-path=\"url(#clip190)\" d=\"M580.487 1257.63 L580.487 1264.99 L589.26 1264.99 L589.26 1268.3 L580.487 1268.3 L580.487 1282.37 Q580.487 1285.54 581.343 1286.45 Q582.223 1287.35 584.885 1287.35 L589.26 1287.35 L589.26 1290.92 L584.885 1290.92 Q579.954 1290.92 578.079 1289.09 Q576.204 1287.23 576.204 1282.37 L576.204 1268.3 L573.079 1268.3 L573.079 1264.99 L576.204 1264.99 L576.204 1257.63 L580.487 1257.63 Z\" fill=\"#000000\" fill-rule=\"evenodd\" fill-opacity=\"1\" /><path clip-path=\"url(#clip190)\" d=\"M614.561 1298.79 L614.561 1302.1 L589.931 1302.1 L589.931 1298.79 L614.561 1298.79 Z\" fill=\"#000000\" fill-rule=\"evenodd\" fill-opacity=\"1\" /><path clip-path=\"url(#clip190)\" d=\"M617.986 1256.36 L640.209 1256.36 L640.209 1258.35 L627.662 1290.92 L622.778 1290.92 L634.584 1260.29 L617.986 1260.29 L617.986 1256.36 Z\" fill=\"#000000\" fill-rule=\"evenodd\" fill-opacity=\"1\" /><path clip-path=\"url(#clip190)\" d=\"M663.495 1272.28 Q666.852 1273 668.727 1275.27 Q670.625 1277.54 670.625 1280.87 Q670.625 1285.98 667.107 1288.79 Q663.588 1291.59 657.107 1291.59 Q654.931 1291.59 652.616 1291.15 Q650.324 1290.73 647.871 1289.87 L647.871 1285.36 Q649.815 1286.49 652.13 1287.07 Q654.445 1287.65 656.968 1287.65 Q661.366 1287.65 663.658 1285.92 Q665.972 1284.18 665.972 1280.87 Q665.972 1277.81 663.82 1276.1 Q661.69 1274.36 657.871 1274.36 L653.843 1274.36 L653.843 1270.52 L658.056 1270.52 Q661.505 1270.52 663.333 1269.16 Q665.162 1267.77 665.162 1265.17 Q665.162 1262.51 663.264 1261.1 Q661.389 1259.67 657.871 1259.67 Q655.949 1259.67 653.75 1260.08 Q651.551 1260.5 648.912 1261.38 L648.912 1257.21 Q651.574 1256.47 653.889 1256.1 Q656.227 1255.73 658.287 1255.73 Q663.611 1255.73 666.713 1258.16 Q669.815 1260.57 669.815 1264.69 Q669.815 1267.56 668.171 1269.55 Q666.528 1271.52 663.495 1272.28 Z\" fill=\"#000000\" fill-rule=\"evenodd\" fill-opacity=\"1\" /><path clip-path=\"url(#clip190)\" d=\"M683.519 1286.98 L699.838 1286.98 L699.838 1290.92 L677.894 1290.92 L677.894 1286.98 Q680.556 1284.23 685.139 1279.6 Q689.745 1274.94 690.926 1273.6 Q693.171 1271.08 694.051 1269.34 Q694.954 1267.58 694.954 1265.89 Q694.954 1263.14 693.009 1261.4 Q691.088 1259.67 687.986 1259.67 Q685.787 1259.67 683.333 1260.43 Q680.903 1261.19 678.125 1262.74 L678.125 1258.02 Q680.949 1256.89 683.403 1256.31 Q685.856 1255.73 687.893 1255.73 Q693.264 1255.73 696.458 1258.42 Q699.653 1261.1 699.653 1265.59 Q699.653 1267.72 698.843 1269.64 Q698.055 1271.54 695.949 1274.13 Q695.37 1274.8 692.268 1278.02 Q689.167 1281.22 683.519 1286.98 Z\" fill=\"#000000\" fill-rule=\"evenodd\" fill-opacity=\"1\" /><path clip-path=\"url(#clip190)\" d=\"M710.463 1286.98 L718.102 1286.98 L718.102 1260.61 L709.792 1262.28 L709.792 1258.02 L718.055 1256.36 L722.731 1256.36 L722.731 1286.98 L730.37 1286.98 L730.37 1290.92 L710.463 1290.92 L710.463 1286.98 Z\" fill=\"#000000\" fill-rule=\"evenodd\" fill-opacity=\"1\" /><circle clip-path=\"url(#clip190)\" cx=\"434.11\" cy=\"1325.48\" r=\"23.04\" fill=\"#ff0000\" fill-rule=\"evenodd\" fill-opacity=\"1\" stroke=\"#000000\" stroke-opacity=\"1\" stroke-width=\"5.12\"/>\n",
       "<path clip-path=\"url(#clip190)\" d=\"M546.922 1321.81 Q548.519 1318.94 550.741 1317.57 Q552.964 1316.2 555.973 1316.2 Q560.024 1316.2 562.223 1319.05 Q564.422 1321.88 564.422 1327.11 L564.422 1342.76 L560.14 1342.76 L560.14 1327.25 Q560.14 1323.52 558.82 1321.71 Q557.501 1319.91 554.792 1319.91 Q551.482 1319.91 549.561 1322.11 Q547.64 1324.31 547.64 1328.1 L547.64 1342.76 L543.357 1342.76 L543.357 1327.25 Q543.357 1323.5 542.038 1321.71 Q540.718 1319.91 537.964 1319.91 Q534.7 1319.91 532.779 1322.13 Q530.857 1324.33 530.857 1328.1 L530.857 1342.76 L526.575 1342.76 L526.575 1316.83 L530.857 1316.83 L530.857 1320.86 Q532.316 1318.47 534.353 1317.34 Q536.39 1316.2 539.191 1316.2 Q542.015 1316.2 543.982 1317.64 Q545.973 1319.07 546.922 1321.81 Z\" fill=\"#000000\" fill-rule=\"evenodd\" fill-opacity=\"1\" /><path clip-path=\"url(#clip190)\" d=\"M584.7 1329.72 Q579.538 1329.72 577.547 1330.9 Q575.556 1332.08 575.556 1334.93 Q575.556 1337.2 577.038 1338.54 Q578.542 1339.86 581.112 1339.86 Q584.653 1339.86 586.783 1337.36 Q588.936 1334.84 588.936 1330.67 L588.936 1329.72 L584.7 1329.72 M593.195 1327.96 L593.195 1342.76 L588.936 1342.76 L588.936 1338.82 Q587.477 1341.18 585.301 1342.32 Q583.126 1343.43 579.977 1343.43 Q575.996 1343.43 573.635 1341.2 Q571.297 1338.96 571.297 1335.21 Q571.297 1330.83 574.214 1328.61 Q577.153 1326.39 582.963 1326.39 L588.936 1326.39 L588.936 1325.97 Q588.936 1323.03 586.991 1321.44 Q585.07 1319.82 581.575 1319.82 Q579.352 1319.82 577.246 1320.35 Q575.139 1320.88 573.195 1321.95 L573.195 1318.01 Q575.533 1317.11 577.732 1316.67 Q579.931 1316.2 582.014 1316.2 Q587.639 1316.2 590.417 1319.12 Q593.195 1322.04 593.195 1327.96 Z\" fill=\"#000000\" fill-rule=\"evenodd\" fill-opacity=\"1\" /><path clip-path=\"url(#clip190)\" d=\"M623.519 1316.83 L614.144 1329.45 L624.005 1342.76 L618.982 1342.76 L611.436 1332.57 L603.889 1342.76 L598.866 1342.76 L608.936 1329.19 L599.723 1316.83 L604.746 1316.83 L611.621 1326.07 L618.496 1316.83 L623.519 1316.83 Z\" fill=\"#000000\" fill-rule=\"evenodd\" fill-opacity=\"1\" /><path clip-path=\"url(#clip190)\" d=\"M630.209 1308.2 L634.885 1308.2 L634.885 1338.82 L651.713 1338.82 L651.713 1342.76 L630.209 1342.76 L630.209 1308.2 Z\" fill=\"#000000\" fill-rule=\"evenodd\" fill-opacity=\"1\" /><path clip-path=\"url(#clip190)\" d=\"M656.621 1308.2 L661.296 1308.2 L661.296 1338.82 L678.125 1338.82 L678.125 1342.76 L656.621 1342.76 L656.621 1308.2 Z\" fill=\"#000000\" fill-rule=\"evenodd\" fill-opacity=\"1\" /><path clip-path=\"url(#clip190)\" d=\"M702.546 1350.63 L702.546 1353.94 L677.917 1353.94 L677.917 1350.63 L702.546 1350.63 Z\" fill=\"#000000\" fill-rule=\"evenodd\" fill-opacity=\"1\" /><path clip-path=\"url(#clip190)\" d=\"M718.333 1329.72 Q713.171 1329.72 711.18 1330.9 Q709.19 1332.08 709.19 1334.93 Q709.19 1337.2 710.671 1338.54 Q712.176 1339.86 714.745 1339.86 Q718.287 1339.86 720.416 1337.36 Q722.569 1334.84 722.569 1330.67 L722.569 1329.72 L718.333 1329.72 M726.828 1327.96 L726.828 1342.76 L722.569 1342.76 L722.569 1338.82 Q721.111 1341.18 718.935 1342.32 Q716.759 1343.43 713.611 1343.43 Q709.629 1343.43 707.268 1341.2 Q704.93 1338.96 704.93 1335.21 Q704.93 1330.83 707.847 1328.61 Q710.787 1326.39 716.597 1326.39 L722.569 1326.39 L722.569 1325.97 Q722.569 1323.03 720.625 1321.44 Q718.704 1319.82 715.208 1319.82 Q712.986 1319.82 710.879 1320.35 Q708.773 1320.88 706.829 1321.95 L706.829 1318.01 Q709.167 1317.11 711.366 1316.67 Q713.565 1316.2 715.648 1316.2 Q721.273 1316.2 724.051 1319.12 Q726.828 1322.04 726.828 1327.96 Z\" fill=\"#000000\" fill-rule=\"evenodd\" fill-opacity=\"1\" /><path clip-path=\"url(#clip190)\" d=\"M735.602 1306.74 L739.861 1306.74 L739.861 1342.76 L735.602 1342.76 L735.602 1306.74 Z\" fill=\"#000000\" fill-rule=\"evenodd\" fill-opacity=\"1\" /><path clip-path=\"url(#clip190)\" d=\"M752.986 1309.47 L752.986 1316.83 L761.759 1316.83 L761.759 1320.14 L752.986 1320.14 L752.986 1334.21 Q752.986 1337.38 753.842 1338.29 Q754.722 1339.19 757.384 1339.19 L761.759 1339.19 L761.759 1342.76 L757.384 1342.76 Q752.453 1342.76 750.578 1340.93 Q748.703 1339.07 748.703 1334.21 L748.703 1320.14 L745.578 1320.14 L745.578 1316.83 L748.703 1316.83 L748.703 1309.47 L752.986 1309.47 Z\" fill=\"#000000\" fill-rule=\"evenodd\" fill-opacity=\"1\" /><path clip-path=\"url(#clip190)\" d=\"M2045.15 1408.98 Q2041.54 1408.98 2039.71 1412.54 Q2037.9 1416.08 2037.9 1423.21 Q2037.9 1430.32 2039.71 1433.89 Q2041.54 1437.43 2045.15 1437.43 Q2048.78 1437.43 2050.59 1433.89 Q2052.42 1430.32 2052.42 1423.21 Q2052.42 1416.08 2050.59 1412.54 Q2048.78 1408.98 2045.15 1408.98 M2045.15 1405.27 Q2050.96 1405.27 2054.01 1409.88 Q2057.09 1414.46 2057.09 1423.21 Q2057.09 1431.94 2054.01 1436.55 Q2050.96 1441.13 2045.15 1441.13 Q2039.34 1441.13 2036.26 1436.55 Q2033.2 1431.94 2033.2 1423.21 Q2033.2 1414.46 2036.26 1409.88 Q2039.34 1405.27 2045.15 1405.27 Z\" fill=\"#0000ff\" fill-rule=\"evenodd\" fill-opacity=\"1\" /><path clip-path=\"url(#clip190)\" d=\"M2065.31 1434.58 L2070.19 1434.58 L2070.19 1440.46 L2065.31 1440.46 L2065.31 1434.58 Z\" fill=\"#0000ff\" fill-rule=\"evenodd\" fill-opacity=\"1\" /><path clip-path=\"url(#clip190)\" d=\"M2080.52 1439.74 L2080.52 1435.48 Q2082.28 1436.32 2084.08 1436.76 Q2085.89 1437.2 2087.62 1437.2 Q2092.25 1437.2 2094.68 1434.09 Q2097.14 1430.97 2097.48 1424.63 Q2096.14 1426.62 2094.08 1427.68 Q2092.02 1428.75 2089.52 1428.75 Q2084.34 1428.75 2081.3 1425.62 Q2078.29 1422.47 2078.29 1417.03 Q2078.29 1411.71 2081.44 1408.49 Q2084.59 1405.27 2089.82 1405.27 Q2095.82 1405.27 2098.97 1409.88 Q2102.14 1414.46 2102.14 1423.21 Q2102.14 1431.39 2098.25 1436.27 Q2094.38 1441.13 2087.83 1441.13 Q2086.07 1441.13 2084.27 1440.78 Q2082.46 1440.44 2080.52 1439.74 M2089.82 1425.09 Q2092.97 1425.09 2094.8 1422.94 Q2096.65 1420.78 2096.65 1417.03 Q2096.65 1413.31 2094.8 1411.15 Q2092.97 1408.98 2089.82 1408.98 Q2086.67 1408.98 2084.82 1411.15 Q2082.99 1413.31 2082.99 1417.03 Q2082.99 1420.78 2084.82 1422.94 Q2086.67 1425.09 2089.82 1425.09 Z\" fill=\"#0000ff\" fill-rule=\"evenodd\" fill-opacity=\"1\" /><path clip-path=\"url(#clip190)\" d=\"M2111.35 1436.52 L2118.99 1436.52 L2118.99 1410.16 L2110.68 1411.83 L2110.68 1407.57 L2118.94 1405.9 L2123.62 1405.9 L2123.62 1436.52 L2131.26 1436.52 L2131.26 1440.46 L2111.35 1440.46 L2111.35 1436.52 Z\" fill=\"#0000ff\" fill-rule=\"evenodd\" fill-opacity=\"1\" /><path clip-path=\"url(#clip190)\" d=\"M2140.75 1405.9 L2159.1 1405.9 L2159.1 1409.84 L2145.03 1409.84 L2145.03 1418.31 Q2146.05 1417.96 2147.07 1417.8 Q2148.09 1417.61 2149.1 1417.61 Q2154.89 1417.61 2158.27 1420.78 Q2161.65 1423.96 2161.65 1429.37 Q2161.65 1434.95 2158.18 1438.05 Q2154.71 1441.13 2148.39 1441.13 Q2146.21 1441.13 2143.94 1440.76 Q2141.7 1440.39 2139.29 1439.65 L2139.29 1434.95 Q2141.37 1436.08 2143.6 1436.64 Q2145.82 1437.2 2148.29 1437.2 Q2152.3 1437.2 2154.64 1435.09 Q2156.98 1432.98 2156.98 1429.37 Q2156.98 1425.76 2154.64 1423.65 Q2152.3 1421.55 2148.29 1421.55 Q2146.42 1421.55 2144.54 1421.96 Q2142.69 1422.38 2140.75 1423.26 L2140.75 1405.9 Z\" fill=\"#0000ff\" fill-rule=\"evenodd\" fill-opacity=\"1\" /><path clip-path=\"url(#clip190)\" d=\"M2033.39 1408.98 Q2029.78 1408.98 2027.95 1412.54 Q2026.15 1416.08 2026.15 1423.21 Q2026.15 1430.32 2027.95 1433.89 Q2029.78 1437.43 2033.39 1437.43 Q2037.03 1437.43 2038.83 1433.89 Q2040.66 1430.32 2040.66 1423.21 Q2040.66 1416.08 2038.83 1412.54 Q2037.03 1408.98 2033.39 1408.98 M2033.39 1405.27 Q2039.2 1405.27 2042.26 1409.88 Q2045.34 1414.46 2045.34 1423.21 Q2045.34 1431.94 2042.26 1436.55 Q2039.2 1441.13 2033.39 1441.13 Q2027.58 1441.13 2024.51 1436.55 Q2021.45 1431.94 2021.45 1423.21 Q2021.45 1414.46 2024.51 1409.88 Q2027.58 1405.27 2033.39 1405.27 Z\" fill=\"#ff0000\" fill-rule=\"evenodd\" fill-opacity=\"1\" /><path clip-path=\"url(#clip190)\" d=\"M2053.56 1434.58 L2058.44 1434.58 L2058.44 1440.46 L2053.56 1440.46 L2053.56 1434.58 Z\" fill=\"#ff0000\" fill-rule=\"evenodd\" fill-opacity=\"1\" /><path clip-path=\"url(#clip190)\" d=\"M2068.76 1439.74 L2068.76 1435.48 Q2070.52 1436.32 2072.33 1436.76 Q2074.13 1437.2 2075.87 1437.2 Q2080.5 1437.2 2082.93 1434.09 Q2085.38 1430.97 2085.73 1424.63 Q2084.39 1426.62 2082.33 1427.68 Q2080.27 1428.75 2077.77 1428.75 Q2072.58 1428.75 2069.55 1425.62 Q2066.54 1422.47 2066.54 1417.03 Q2066.54 1411.71 2069.69 1408.49 Q2072.84 1405.27 2078.07 1405.27 Q2084.06 1405.27 2087.21 1409.88 Q2090.38 1414.46 2090.38 1423.21 Q2090.38 1431.39 2086.5 1436.27 Q2082.63 1441.13 2076.08 1441.13 Q2074.32 1441.13 2072.51 1440.78 Q2070.71 1440.44 2068.76 1439.74 M2078.07 1425.09 Q2081.22 1425.09 2083.05 1422.94 Q2084.9 1420.78 2084.9 1417.03 Q2084.9 1413.31 2083.05 1411.15 Q2081.22 1408.98 2078.07 1408.98 Q2074.92 1408.98 2073.07 1411.15 Q2071.24 1413.31 2071.24 1417.03 Q2071.24 1420.78 2073.07 1422.94 Q2074.92 1425.09 2078.07 1425.09 Z\" fill=\"#ff0000\" fill-rule=\"evenodd\" fill-opacity=\"1\" /><path clip-path=\"url(#clip190)\" d=\"M2108.79 1408.98 Q2105.18 1408.98 2103.35 1412.54 Q2101.54 1416.08 2101.54 1423.21 Q2101.54 1430.32 2103.35 1433.89 Q2105.18 1437.43 2108.79 1437.43 Q2112.42 1437.43 2114.23 1433.89 Q2116.06 1430.32 2116.06 1423.21 Q2116.06 1416.08 2114.23 1412.54 Q2112.42 1408.98 2108.79 1408.98 M2108.79 1405.27 Q2114.6 1405.27 2117.65 1409.88 Q2120.73 1414.46 2120.73 1423.21 Q2120.73 1431.94 2117.65 1436.55 Q2114.6 1441.13 2108.79 1441.13 Q2102.98 1441.13 2099.9 1436.55 Q2096.84 1431.94 2096.84 1423.21 Q2096.84 1414.46 2099.9 1409.88 Q2102.98 1405.27 2108.79 1405.27 Z\" fill=\"#ff0000\" fill-rule=\"evenodd\" fill-opacity=\"1\" /><path clip-path=\"url(#clip190)\" d=\"M2129.09 1439.74 L2129.09 1435.48 Q2130.85 1436.32 2132.65 1436.76 Q2134.46 1437.2 2136.19 1437.2 Q2140.82 1437.2 2143.25 1434.09 Q2145.71 1430.97 2146.06 1424.63 Q2144.71 1426.62 2142.65 1427.68 Q2140.59 1428.75 2138.09 1428.75 Q2132.91 1428.75 2129.87 1425.62 Q2126.87 1422.47 2126.87 1417.03 Q2126.87 1411.71 2130.01 1408.49 Q2133.16 1405.27 2138.39 1405.27 Q2144.39 1405.27 2147.54 1409.88 Q2150.71 1414.46 2150.71 1423.21 Q2150.71 1431.39 2146.82 1436.27 Q2142.95 1441.13 2136.4 1441.13 Q2134.64 1441.13 2132.84 1440.78 Q2131.03 1440.44 2129.09 1439.74 M2138.39 1425.09 Q2141.54 1425.09 2143.37 1422.94 Q2145.22 1420.78 2145.22 1417.03 Q2145.22 1413.31 2143.37 1411.15 Q2141.54 1408.98 2138.39 1408.98 Q2135.25 1408.98 2133.39 1411.15 Q2131.56 1413.31 2131.56 1417.03 Q2131.56 1420.78 2133.39 1422.94 Q2135.25 1425.09 2138.39 1425.09 Z\" fill=\"#ff0000\" fill-rule=\"evenodd\" fill-opacity=\"1\" /></svg>\n"
      ]
     },
     "metadata": {},
     "output_type": "display_data"
    },
    {
     "data": {
      "text/plain": [
       "(sigma2_e = 0.16880624413711928, h2_null = 0.915299056559069, lod = [0.1678774075707974, 0.1678774075707974, 0.1678774075707974, 0.1678774075707974, 0.1678774075707974, 0.1678774075707974, 0.1678774075707974, 0.1678774075707974, 0.1678774075707974, 0.1678774075707974  …  0.0921515465737377, 0.12135688586455995, 0.3144526747612826, 0.3144526747612826, 0.6621491338575574, 0.6061397322915791, 0.6621491338575574, 0.6061397322915791, 0.8010423995218856, 0.8010423995218856])"
      ]
     },
     "execution_count": 281,
     "metadata": {},
     "output_type": "execute_result"
    }
   ],
   "source": [
    "test_a = scan(lpst_ind_y, geno_ind, kinship_ind_from_strains;\n",
    "              # weights = weights_true,\n",
    "              prior_variance = 1.0, prior_sample_size = 0.0, \n",
    "              optim_interval = 10, plot_loglik = true, markerID = 7321, h2_grid = grid_list, y_lims = [-200.0, 100.0])"
   ]
  },
  {
   "cell_type": "code",
   "execution_count": 288,
   "id": "7da4a5cc-b56b-4bb8-b492-7d32377152c1",
   "metadata": {},
   "outputs": [
    {
     "name": "stdout",
     "output_type": "stream",
     "text": [
      "Loglik plot: \n"
     ]
    },
    {
     "data": {
      "image/svg+xml": [
       "<?xml version=\"1.0\" encoding=\"utf-8\"?>\n",
       "<svg xmlns=\"http://www.w3.org/2000/svg\" xmlns:xlink=\"http://www.w3.org/1999/xlink\" width=\"600\" height=\"400\" viewBox=\"0 0 2400 1600\">\n",
       "<defs>\n",
       "  <clipPath id=\"clip470\">\n",
       "    <rect x=\"0\" y=\"0\" width=\"2400\" height=\"1600\"/>\n",
       "  </clipPath>\n",
       "</defs>\n",
       "<path clip-path=\"url(#clip470)\" d=\"\n",
       "M0 1600 L2400 1600 L2400 0 L0 0  Z\n",
       "  \" fill=\"#ffffff\" fill-rule=\"evenodd\" fill-opacity=\"1\"/>\n",
       "<defs>\n",
       "  <clipPath id=\"clip471\">\n",
       "    <rect x=\"480\" y=\"0\" width=\"1681\" height=\"1600\"/>\n",
       "  </clipPath>\n",
       "</defs>\n",
       "<path clip-path=\"url(#clip470)\" d=\"\n",
       "M242.297 1423.18 L2352.76 1423.18 L2352.76 47.2441 L242.297 47.2441  Z\n",
       "  \" fill=\"#ffffff\" fill-rule=\"evenodd\" fill-opacity=\"1\"/>\n",
       "<defs>\n",
       "  <clipPath id=\"clip472\">\n",
       "    <rect x=\"242\" y=\"47\" width=\"2111\" height=\"1377\"/>\n",
       "  </clipPath>\n",
       "</defs>\n",
       "<polyline clip-path=\"url(#clip472)\" style=\"stroke:#000000; stroke-linecap:round; stroke-linejoin:round; stroke-width:2; stroke-opacity:0.1; fill:none\" points=\"\n",
       "  338.227,1423.18 338.227,47.2441 \n",
       "  \"/>\n",
       "<polyline clip-path=\"url(#clip472)\" style=\"stroke:#000000; stroke-linecap:round; stroke-linejoin:round; stroke-width:2; stroke-opacity:0.1; fill:none\" points=\"\n",
       "  817.876,1423.18 817.876,47.2441 \n",
       "  \"/>\n",
       "<polyline clip-path=\"url(#clip472)\" style=\"stroke:#000000; stroke-linecap:round; stroke-linejoin:round; stroke-width:2; stroke-opacity:0.1; fill:none\" points=\"\n",
       "  1297.53,1423.18 1297.53,47.2441 \n",
       "  \"/>\n",
       "<polyline clip-path=\"url(#clip472)\" style=\"stroke:#000000; stroke-linecap:round; stroke-linejoin:round; stroke-width:2; stroke-opacity:0.1; fill:none\" points=\"\n",
       "  1777.18,1423.18 1777.18,47.2441 \n",
       "  \"/>\n",
       "<polyline clip-path=\"url(#clip472)\" style=\"stroke:#000000; stroke-linecap:round; stroke-linejoin:round; stroke-width:2; stroke-opacity:0.1; fill:none\" points=\"\n",
       "  2256.83,1423.18 2256.83,47.2441 \n",
       "  \"/>\n",
       "<polyline clip-path=\"url(#clip470)\" style=\"stroke:#000000; stroke-linecap:round; stroke-linejoin:round; stroke-width:4; stroke-opacity:1; fill:none\" points=\"\n",
       "  242.297,1423.18 2352.76,1423.18 \n",
       "  \"/>\n",
       "<polyline clip-path=\"url(#clip470)\" style=\"stroke:#000000; stroke-linecap:round; stroke-linejoin:round; stroke-width:4; stroke-opacity:1; fill:none\" points=\"\n",
       "  338.227,1423.18 338.227,1404.28 \n",
       "  \"/>\n",
       "<polyline clip-path=\"url(#clip470)\" style=\"stroke:#000000; stroke-linecap:round; stroke-linejoin:round; stroke-width:4; stroke-opacity:1; fill:none\" points=\"\n",
       "  817.876,1423.18 817.876,1404.28 \n",
       "  \"/>\n",
       "<polyline clip-path=\"url(#clip470)\" style=\"stroke:#000000; stroke-linecap:round; stroke-linejoin:round; stroke-width:4; stroke-opacity:1; fill:none\" points=\"\n",
       "  1297.53,1423.18 1297.53,1404.28 \n",
       "  \"/>\n",
       "<polyline clip-path=\"url(#clip470)\" style=\"stroke:#000000; stroke-linecap:round; stroke-linejoin:round; stroke-width:4; stroke-opacity:1; fill:none\" points=\"\n",
       "  1777.18,1423.18 1777.18,1404.28 \n",
       "  \"/>\n",
       "<polyline clip-path=\"url(#clip470)\" style=\"stroke:#000000; stroke-linecap:round; stroke-linejoin:round; stroke-width:4; stroke-opacity:1; fill:none\" points=\"\n",
       "  2256.83,1423.18 2256.83,1404.28 \n",
       "  \"/>\n",
       "<path clip-path=\"url(#clip470)\" d=\"M300.53 1454.1 Q296.919 1454.1 295.09 1457.66 Q293.285 1461.2 293.285 1468.33 Q293.285 1475.44 295.09 1479.01 Q296.919 1482.55 300.53 1482.55 Q304.164 1482.55 305.97 1479.01 Q307.799 1475.44 307.799 1468.33 Q307.799 1461.2 305.97 1457.66 Q304.164 1454.1 300.53 1454.1 M300.53 1450.39 Q306.34 1450.39 309.396 1455 Q312.474 1459.58 312.474 1468.33 Q312.474 1477.06 309.396 1481.67 Q306.34 1486.25 300.53 1486.25 Q294.72 1486.25 291.641 1481.67 Q288.586 1477.06 288.586 1468.33 Q288.586 1459.58 291.641 1455 Q294.72 1450.39 300.53 1450.39 Z\" fill=\"#000000\" fill-rule=\"evenodd\" fill-opacity=\"1\" /><path clip-path=\"url(#clip470)\" d=\"M320.692 1479.7 L325.576 1479.7 L325.576 1485.58 L320.692 1485.58 L320.692 1479.7 Z\" fill=\"#000000\" fill-rule=\"evenodd\" fill-opacity=\"1\" /><path clip-path=\"url(#clip470)\" d=\"M345.761 1454.1 Q342.15 1454.1 340.322 1457.66 Q338.516 1461.2 338.516 1468.33 Q338.516 1475.44 340.322 1479.01 Q342.15 1482.55 345.761 1482.55 Q349.396 1482.55 351.201 1479.01 Q353.03 1475.44 353.03 1468.33 Q353.03 1461.2 351.201 1457.66 Q349.396 1454.1 345.761 1454.1 M345.761 1450.39 Q351.572 1450.39 354.627 1455 Q357.706 1459.58 357.706 1468.33 Q357.706 1477.06 354.627 1481.67 Q351.572 1486.25 345.761 1486.25 Q339.951 1486.25 336.873 1481.67 Q333.817 1477.06 333.817 1468.33 Q333.817 1459.58 336.873 1455 Q339.951 1450.39 345.761 1450.39 Z\" fill=\"#000000\" fill-rule=\"evenodd\" fill-opacity=\"1\" /><path clip-path=\"url(#clip470)\" d=\"M375.923 1454.1 Q372.312 1454.1 370.483 1457.66 Q368.678 1461.2 368.678 1468.33 Q368.678 1475.44 370.483 1479.01 Q372.312 1482.55 375.923 1482.55 Q379.557 1482.55 381.363 1479.01 Q383.192 1475.44 383.192 1468.33 Q383.192 1461.2 381.363 1457.66 Q379.557 1454.1 375.923 1454.1 M375.923 1450.39 Q381.733 1450.39 384.789 1455 Q387.868 1459.58 387.868 1468.33 Q387.868 1477.06 384.789 1481.67 Q381.733 1486.25 375.923 1486.25 Q370.113 1486.25 367.034 1481.67 Q363.979 1477.06 363.979 1468.33 Q363.979 1459.58 367.034 1455 Q370.113 1450.39 375.923 1450.39 Z\" fill=\"#000000\" fill-rule=\"evenodd\" fill-opacity=\"1\" /><path clip-path=\"url(#clip470)\" d=\"M780.678 1454.1 Q777.067 1454.1 775.238 1457.66 Q773.432 1461.2 773.432 1468.33 Q773.432 1475.44 775.238 1479.01 Q777.067 1482.55 780.678 1482.55 Q784.312 1482.55 786.117 1479.01 Q787.946 1475.44 787.946 1468.33 Q787.946 1461.2 786.117 1457.66 Q784.312 1454.1 780.678 1454.1 M780.678 1450.39 Q786.488 1450.39 789.543 1455 Q792.622 1459.58 792.622 1468.33 Q792.622 1477.06 789.543 1481.67 Q786.488 1486.25 780.678 1486.25 Q774.867 1486.25 771.789 1481.67 Q768.733 1477.06 768.733 1468.33 Q768.733 1459.58 771.789 1455 Q774.867 1450.39 780.678 1450.39 Z\" fill=\"#000000\" fill-rule=\"evenodd\" fill-opacity=\"1\" /><path clip-path=\"url(#clip470)\" d=\"M800.84 1479.7 L805.724 1479.7 L805.724 1485.58 L800.84 1485.58 L800.84 1479.7 Z\" fill=\"#000000\" fill-rule=\"evenodd\" fill-opacity=\"1\" /><path clip-path=\"url(#clip470)\" d=\"M819.937 1481.64 L836.256 1481.64 L836.256 1485.58 L814.312 1485.58 L814.312 1481.64 Q816.974 1478.89 821.557 1474.26 Q826.163 1469.61 827.344 1468.27 Q829.589 1465.74 830.469 1464.01 Q831.372 1462.25 831.372 1460.56 Q831.372 1457.8 829.427 1456.07 Q827.506 1454.33 824.404 1454.33 Q822.205 1454.33 819.751 1455.09 Q817.321 1455.86 814.543 1457.41 L814.543 1452.69 Q817.367 1451.55 819.821 1450.97 Q822.275 1450.39 824.312 1450.39 Q829.682 1450.39 832.876 1453.08 Q836.071 1455.77 836.071 1460.26 Q836.071 1462.39 835.261 1464.31 Q834.474 1466.2 832.367 1468.8 Q831.788 1469.47 828.687 1472.69 Q825.585 1475.88 819.937 1481.64 Z\" fill=\"#000000\" fill-rule=\"evenodd\" fill-opacity=\"1\" /><path clip-path=\"url(#clip470)\" d=\"M846.117 1451.02 L864.473 1451.02 L864.473 1454.96 L850.399 1454.96 L850.399 1463.43 Q851.418 1463.08 852.436 1462.92 Q853.455 1462.73 854.474 1462.73 Q860.261 1462.73 863.64 1465.9 Q867.02 1469.08 867.02 1474.49 Q867.02 1480.07 863.548 1483.17 Q860.075 1486.25 853.756 1486.25 Q851.58 1486.25 849.312 1485.88 Q847.066 1485.51 844.659 1484.77 L844.659 1480.07 Q846.742 1481.2 848.964 1481.76 Q851.186 1482.32 853.663 1482.32 Q857.668 1482.32 860.006 1480.21 Q862.344 1478.1 862.344 1474.49 Q862.344 1470.88 860.006 1468.77 Q857.668 1466.67 853.663 1466.67 Q851.788 1466.67 849.913 1467.08 Q848.062 1467.5 846.117 1468.38 L846.117 1451.02 Z\" fill=\"#000000\" fill-rule=\"evenodd\" fill-opacity=\"1\" /><path clip-path=\"url(#clip470)\" d=\"M1259.83 1454.1 Q1256.22 1454.1 1254.39 1457.66 Q1252.58 1461.2 1252.58 1468.33 Q1252.58 1475.44 1254.39 1479.01 Q1256.22 1482.55 1259.83 1482.55 Q1263.46 1482.55 1265.27 1479.01 Q1267.1 1475.44 1267.1 1468.33 Q1267.1 1461.2 1265.27 1457.66 Q1263.46 1454.1 1259.83 1454.1 M1259.83 1450.39 Q1265.64 1450.39 1268.7 1455 Q1271.77 1459.58 1271.77 1468.33 Q1271.77 1477.06 1268.7 1481.67 Q1265.64 1486.25 1259.83 1486.25 Q1254.02 1486.25 1250.94 1481.67 Q1247.89 1477.06 1247.89 1468.33 Q1247.89 1459.58 1250.94 1455 Q1254.02 1450.39 1259.83 1450.39 Z\" fill=\"#000000\" fill-rule=\"evenodd\" fill-opacity=\"1\" /><path clip-path=\"url(#clip470)\" d=\"M1279.99 1479.7 L1284.88 1479.7 L1284.88 1485.58 L1279.99 1485.58 L1279.99 1479.7 Z\" fill=\"#000000\" fill-rule=\"evenodd\" fill-opacity=\"1\" /><path clip-path=\"url(#clip470)\" d=\"M1295.11 1451.02 L1313.46 1451.02 L1313.46 1454.96 L1299.39 1454.96 L1299.39 1463.43 Q1300.41 1463.08 1301.43 1462.92 Q1302.45 1462.73 1303.46 1462.73 Q1309.25 1462.73 1312.63 1465.9 Q1316.01 1469.08 1316.01 1474.49 Q1316.01 1480.07 1312.54 1483.17 Q1309.07 1486.25 1302.75 1486.25 Q1300.57 1486.25 1298.3 1485.88 Q1296.06 1485.51 1293.65 1484.77 L1293.65 1480.07 Q1295.73 1481.2 1297.95 1481.76 Q1300.18 1482.32 1302.65 1482.32 Q1306.66 1482.32 1309 1480.21 Q1311.33 1478.1 1311.33 1474.49 Q1311.33 1470.88 1309 1468.77 Q1306.66 1466.67 1302.65 1466.67 Q1300.78 1466.67 1298.9 1467.08 Q1297.05 1467.5 1295.11 1468.38 L1295.11 1451.02 Z\" fill=\"#000000\" fill-rule=\"evenodd\" fill-opacity=\"1\" /><path clip-path=\"url(#clip470)\" d=\"M1335.22 1454.1 Q1331.61 1454.1 1329.78 1457.66 Q1327.98 1461.2 1327.98 1468.33 Q1327.98 1475.44 1329.78 1479.01 Q1331.61 1482.55 1335.22 1482.55 Q1338.86 1482.55 1340.66 1479.01 Q1342.49 1475.44 1342.49 1468.33 Q1342.49 1461.2 1340.66 1457.66 Q1338.86 1454.1 1335.22 1454.1 M1335.22 1450.39 Q1341.03 1450.39 1344.09 1455 Q1347.17 1459.58 1347.17 1468.33 Q1347.17 1477.06 1344.09 1481.67 Q1341.03 1486.25 1335.22 1486.25 Q1329.41 1486.25 1326.33 1481.67 Q1323.28 1477.06 1323.28 1468.33 Q1323.28 1459.58 1326.33 1455 Q1329.41 1450.39 1335.22 1450.39 Z\" fill=\"#000000\" fill-rule=\"evenodd\" fill-opacity=\"1\" /><path clip-path=\"url(#clip470)\" d=\"M1739.98 1454.1 Q1736.37 1454.1 1734.54 1457.66 Q1732.73 1461.2 1732.73 1468.33 Q1732.73 1475.44 1734.54 1479.01 Q1736.37 1482.55 1739.98 1482.55 Q1743.61 1482.55 1745.42 1479.01 Q1747.25 1475.44 1747.25 1468.33 Q1747.25 1461.2 1745.42 1457.66 Q1743.61 1454.1 1739.98 1454.1 M1739.98 1450.39 Q1745.79 1450.39 1748.84 1455 Q1751.92 1459.58 1751.92 1468.33 Q1751.92 1477.06 1748.84 1481.67 Q1745.79 1486.25 1739.98 1486.25 Q1734.17 1486.25 1731.09 1481.67 Q1728.03 1477.06 1728.03 1468.33 Q1728.03 1459.58 1731.09 1455 Q1734.17 1450.39 1739.98 1450.39 Z\" fill=\"#000000\" fill-rule=\"evenodd\" fill-opacity=\"1\" /><path clip-path=\"url(#clip470)\" d=\"M1760.14 1479.7 L1765.02 1479.7 L1765.02 1485.58 L1760.14 1485.58 L1760.14 1479.7 Z\" fill=\"#000000\" fill-rule=\"evenodd\" fill-opacity=\"1\" /><path clip-path=\"url(#clip470)\" d=\"M1774.03 1451.02 L1796.25 1451.02 L1796.25 1453.01 L1783.7 1485.58 L1778.82 1485.58 L1790.63 1454.96 L1774.03 1454.96 L1774.03 1451.02 Z\" fill=\"#000000\" fill-rule=\"evenodd\" fill-opacity=\"1\" /><path clip-path=\"url(#clip470)\" d=\"M1805.42 1451.02 L1823.77 1451.02 L1823.77 1454.96 L1809.7 1454.96 L1809.7 1463.43 Q1810.72 1463.08 1811.74 1462.92 Q1812.75 1462.73 1813.77 1462.73 Q1819.56 1462.73 1822.94 1465.9 Q1826.32 1469.08 1826.32 1474.49 Q1826.32 1480.07 1822.85 1483.17 Q1819.37 1486.25 1813.06 1486.25 Q1810.88 1486.25 1808.61 1485.88 Q1806.37 1485.51 1803.96 1484.77 L1803.96 1480.07 Q1806.04 1481.2 1808.26 1481.76 Q1810.49 1482.32 1812.96 1482.32 Q1816.97 1482.32 1819.31 1480.21 Q1821.64 1478.1 1821.64 1474.49 Q1821.64 1470.88 1819.31 1468.77 Q1816.97 1466.67 1812.96 1466.67 Q1811.09 1466.67 1809.21 1467.08 Q1807.36 1467.5 1805.42 1468.38 L1805.42 1451.02 Z\" fill=\"#000000\" fill-rule=\"evenodd\" fill-opacity=\"1\" /><path clip-path=\"url(#clip470)\" d=\"M2208.9 1481.64 L2216.54 1481.64 L2216.54 1455.28 L2208.23 1456.95 L2208.23 1452.69 L2216.49 1451.02 L2221.17 1451.02 L2221.17 1481.64 L2228.81 1481.64 L2228.81 1485.58 L2208.9 1485.58 L2208.9 1481.64 Z\" fill=\"#000000\" fill-rule=\"evenodd\" fill-opacity=\"1\" /><path clip-path=\"url(#clip470)\" d=\"M2238.25 1479.7 L2243.13 1479.7 L2243.13 1485.58 L2238.25 1485.58 L2238.25 1479.7 Z\" fill=\"#000000\" fill-rule=\"evenodd\" fill-opacity=\"1\" /><path clip-path=\"url(#clip470)\" d=\"M2263.32 1454.1 Q2259.71 1454.1 2257.88 1457.66 Q2256.07 1461.2 2256.07 1468.33 Q2256.07 1475.44 2257.88 1479.01 Q2259.71 1482.55 2263.32 1482.55 Q2266.95 1482.55 2268.76 1479.01 Q2270.59 1475.44 2270.59 1468.33 Q2270.59 1461.2 2268.76 1457.66 Q2266.95 1454.1 2263.32 1454.1 M2263.32 1450.39 Q2269.13 1450.39 2272.18 1455 Q2275.26 1459.58 2275.26 1468.33 Q2275.26 1477.06 2272.18 1481.67 Q2269.13 1486.25 2263.32 1486.25 Q2257.51 1486.25 2254.43 1481.67 Q2251.37 1477.06 2251.37 1468.33 Q2251.37 1459.58 2254.43 1455 Q2257.51 1450.39 2263.32 1450.39 Z\" fill=\"#000000\" fill-rule=\"evenodd\" fill-opacity=\"1\" /><path clip-path=\"url(#clip470)\" d=\"M2293.48 1454.1 Q2289.87 1454.1 2288.04 1457.66 Q2286.24 1461.2 2286.24 1468.33 Q2286.24 1475.44 2288.04 1479.01 Q2289.87 1482.55 2293.48 1482.55 Q2297.12 1482.55 2298.92 1479.01 Q2300.75 1475.44 2300.75 1468.33 Q2300.75 1461.2 2298.92 1457.66 Q2297.12 1454.1 2293.48 1454.1 M2293.48 1450.39 Q2299.29 1450.39 2302.35 1455 Q2305.43 1459.58 2305.43 1468.33 Q2305.43 1477.06 2302.35 1481.67 Q2299.29 1486.25 2293.48 1486.25 Q2287.67 1486.25 2284.59 1481.67 Q2281.54 1477.06 2281.54 1468.33 Q2281.54 1459.58 2284.59 1455 Q2287.67 1450.39 2293.48 1450.39 Z\" fill=\"#000000\" fill-rule=\"evenodd\" fill-opacity=\"1\" /><path clip-path=\"url(#clip470)\" d=\"M1292.21 1546.53 L1292.21 1568.04 L1286.35 1568.04 L1286.35 1546.72 Q1286.35 1541.66 1284.38 1539.14 Q1282.41 1536.63 1278.46 1536.63 Q1273.72 1536.63 1270.98 1539.65 Q1268.24 1542.68 1268.24 1547.9 L1268.24 1568.04 L1262.36 1568.04 L1262.36 1518.52 L1268.24 1518.52 L1268.24 1537.93 Q1270.34 1534.72 1273.18 1533.13 Q1276.04 1531.54 1279.77 1531.54 Q1285.91 1531.54 1289.06 1535.36 Q1292.21 1539.14 1292.21 1546.53 Z\" fill=\"#000000\" fill-rule=\"evenodd\" fill-opacity=\"1\" /><path clip-path=\"url(#clip470)\" d=\"M1310.26 1562.63 L1332.7 1562.63 L1332.7 1568.04 L1302.52 1568.04 L1302.52 1562.63 Q1306.18 1558.85 1312.49 1552.48 Q1318.82 1546.08 1320.44 1544.24 Q1323.53 1540.77 1324.74 1538.38 Q1325.98 1535.96 1325.98 1533.64 Q1325.98 1529.85 1323.31 1527.46 Q1320.67 1525.08 1316.4 1525.08 Q1313.38 1525.08 1310 1526.13 Q1306.66 1527.18 1302.84 1529.31 L1302.84 1522.82 Q1306.72 1521.26 1310.1 1520.46 Q1313.47 1519.66 1316.27 1519.66 Q1323.66 1519.66 1328.05 1523.36 Q1332.44 1527.05 1332.44 1533.22 Q1332.44 1536.15 1331.33 1538.79 Q1330.25 1541.4 1327.35 1544.97 Q1326.55 1545.89 1322.29 1550.32 Q1318.02 1554.71 1310.26 1562.63 Z\" fill=\"#000000\" fill-rule=\"evenodd\" fill-opacity=\"1\" /><polyline clip-path=\"url(#clip472)\" style=\"stroke:#000000; stroke-linecap:round; stroke-linejoin:round; stroke-width:2; stroke-opacity:0.1; fill:none\" points=\"\n",
       "  242.297,1409.69 2352.76,1409.69 \n",
       "  \"/>\n",
       "<polyline clip-path=\"url(#clip472)\" style=\"stroke:#000000; stroke-linecap:round; stroke-linejoin:round; stroke-width:2; stroke-opacity:0.1; fill:none\" points=\"\n",
       "  242.297,1139.9 2352.76,1139.9 \n",
       "  \"/>\n",
       "<polyline clip-path=\"url(#clip472)\" style=\"stroke:#000000; stroke-linecap:round; stroke-linejoin:round; stroke-width:2; stroke-opacity:0.1; fill:none\" points=\"\n",
       "  242.297,870.108 2352.76,870.108 \n",
       "  \"/>\n",
       "<polyline clip-path=\"url(#clip472)\" style=\"stroke:#000000; stroke-linecap:round; stroke-linejoin:round; stroke-width:2; stroke-opacity:0.1; fill:none\" points=\"\n",
       "  242.297,600.316 2352.76,600.316 \n",
       "  \"/>\n",
       "<polyline clip-path=\"url(#clip472)\" style=\"stroke:#000000; stroke-linecap:round; stroke-linejoin:round; stroke-width:2; stroke-opacity:0.1; fill:none\" points=\"\n",
       "  242.297,330.525 2352.76,330.525 \n",
       "  \"/>\n",
       "<polyline clip-path=\"url(#clip472)\" style=\"stroke:#000000; stroke-linecap:round; stroke-linejoin:round; stroke-width:2; stroke-opacity:0.1; fill:none\" points=\"\n",
       "  242.297,60.7337 2352.76,60.7337 \n",
       "  \"/>\n",
       "<polyline clip-path=\"url(#clip470)\" style=\"stroke:#000000; stroke-linecap:round; stroke-linejoin:round; stroke-width:4; stroke-opacity:1; fill:none\" points=\"\n",
       "  242.297,1423.18 242.297,47.2441 \n",
       "  \"/>\n",
       "<polyline clip-path=\"url(#clip470)\" style=\"stroke:#000000; stroke-linecap:round; stroke-linejoin:round; stroke-width:4; stroke-opacity:1; fill:none\" points=\"\n",
       "  242.297,1409.69 261.194,1409.69 \n",
       "  \"/>\n",
       "<polyline clip-path=\"url(#clip470)\" style=\"stroke:#000000; stroke-linecap:round; stroke-linejoin:round; stroke-width:4; stroke-opacity:1; fill:none\" points=\"\n",
       "  242.297,1139.9 261.194,1139.9 \n",
       "  \"/>\n",
       "<polyline clip-path=\"url(#clip470)\" style=\"stroke:#000000; stroke-linecap:round; stroke-linejoin:round; stroke-width:4; stroke-opacity:1; fill:none\" points=\"\n",
       "  242.297,870.108 261.194,870.108 \n",
       "  \"/>\n",
       "<polyline clip-path=\"url(#clip470)\" style=\"stroke:#000000; stroke-linecap:round; stroke-linejoin:round; stroke-width:4; stroke-opacity:1; fill:none\" points=\"\n",
       "  242.297,600.316 261.194,600.316 \n",
       "  \"/>\n",
       "<polyline clip-path=\"url(#clip470)\" style=\"stroke:#000000; stroke-linecap:round; stroke-linejoin:round; stroke-width:4; stroke-opacity:1; fill:none\" points=\"\n",
       "  242.297,330.525 261.194,330.525 \n",
       "  \"/>\n",
       "<polyline clip-path=\"url(#clip470)\" style=\"stroke:#000000; stroke-linecap:round; stroke-linejoin:round; stroke-width:4; stroke-opacity:1; fill:none\" points=\"\n",
       "  242.297,60.7337 261.194,60.7337 \n",
       "  \"/>\n",
       "<path clip-path=\"url(#clip470)\" d=\"M114.422 1410.14 L144.098 1410.14 L144.098 1414.08 L114.422 1414.08 L114.422 1410.14 Z\" fill=\"#000000\" fill-rule=\"evenodd\" fill-opacity=\"1\" /><path clip-path=\"url(#clip470)\" d=\"M164.769 1407.83 Q161.621 1407.83 159.769 1409.98 Q157.94 1412.13 157.94 1415.88 Q157.94 1419.61 159.769 1421.79 Q161.621 1423.94 164.769 1423.94 Q167.917 1423.94 169.746 1421.79 Q171.598 1419.61 171.598 1415.88 Q171.598 1412.13 169.746 1409.98 Q167.917 1407.83 164.769 1407.83 M174.052 1393.17 L174.052 1397.43 Q172.292 1396.6 170.487 1396.16 Q168.704 1395.72 166.945 1395.72 Q162.315 1395.72 159.862 1398.85 Q157.431 1401.97 157.084 1408.29 Q158.45 1406.28 160.51 1405.21 Q162.57 1404.12 165.047 1404.12 Q170.255 1404.12 173.264 1407.29 Q176.297 1410.44 176.297 1415.88 Q176.297 1421.21 173.149 1424.42 Q170.001 1427.64 164.769 1427.64 Q158.774 1427.64 155.603 1423.06 Q152.431 1418.45 152.431 1409.72 Q152.431 1401.53 156.32 1396.67 Q160.209 1391.79 166.76 1391.79 Q168.519 1391.79 170.302 1392.13 Q172.107 1392.48 174.052 1393.17 Z\" fill=\"#000000\" fill-rule=\"evenodd\" fill-opacity=\"1\" /><path clip-path=\"url(#clip470)\" d=\"M194.352 1395.49 Q190.741 1395.49 188.913 1399.05 Q187.107 1402.6 187.107 1409.72 Q187.107 1416.83 188.913 1420.4 Q190.741 1423.94 194.352 1423.94 Q197.987 1423.94 199.792 1420.4 Q201.621 1416.83 201.621 1409.72 Q201.621 1402.6 199.792 1399.05 Q197.987 1395.49 194.352 1395.49 M194.352 1391.79 Q200.162 1391.79 203.218 1396.39 Q206.297 1400.98 206.297 1409.72 Q206.297 1418.45 203.218 1423.06 Q200.162 1427.64 194.352 1427.64 Q188.542 1427.64 185.463 1423.06 Q182.408 1418.45 182.408 1409.72 Q182.408 1400.98 185.463 1396.39 Q188.542 1391.79 194.352 1391.79 Z\" fill=\"#000000\" fill-rule=\"evenodd\" fill-opacity=\"1\" /><path clip-path=\"url(#clip470)\" d=\"M114.607 1140.35 L144.283 1140.35 L144.283 1144.29 L114.607 1144.29 L114.607 1140.35 Z\" fill=\"#000000\" fill-rule=\"evenodd\" fill-opacity=\"1\" /><path clip-path=\"url(#clip470)\" d=\"M154.422 1122.62 L172.778 1122.62 L172.778 1126.55 L158.704 1126.55 L158.704 1135.03 Q159.723 1134.68 160.741 1134.52 Q161.76 1134.33 162.778 1134.33 Q168.565 1134.33 171.945 1137.5 Q175.325 1140.67 175.325 1146.09 Q175.325 1151.67 171.852 1154.77 Q168.38 1157.85 162.061 1157.85 Q159.885 1157.85 157.616 1157.48 Q155.371 1157.11 152.964 1156.37 L152.964 1151.67 Q155.047 1152.8 157.269 1153.36 Q159.491 1153.92 161.968 1153.92 Q165.973 1153.92 168.311 1151.81 Q170.649 1149.7 170.649 1146.09 Q170.649 1142.48 168.311 1140.37 Q165.973 1138.27 161.968 1138.27 Q160.093 1138.27 158.218 1138.68 Q156.366 1139.1 154.422 1139.98 L154.422 1122.62 Z\" fill=\"#000000\" fill-rule=\"evenodd\" fill-opacity=\"1\" /><path clip-path=\"url(#clip470)\" d=\"M184.676 1156.46 L184.676 1152.2 Q186.436 1153.04 188.241 1153.48 Q190.047 1153.92 191.783 1153.92 Q196.412 1153.92 198.843 1150.81 Q201.297 1147.69 201.644 1141.35 Q200.301 1143.34 198.241 1144.4 Q196.181 1145.47 193.681 1145.47 Q188.496 1145.47 185.463 1142.34 Q182.454 1139.19 182.454 1133.75 Q182.454 1128.43 185.602 1125.21 Q188.75 1121.99 193.982 1121.99 Q199.977 1121.99 203.125 1126.6 Q206.297 1131.18 206.297 1139.93 Q206.297 1148.1 202.408 1152.99 Q198.542 1157.85 191.991 1157.85 Q190.232 1157.85 188.426 1157.5 Q186.621 1157.16 184.676 1156.46 M193.982 1141.81 Q197.13 1141.81 198.959 1139.66 Q200.811 1137.5 200.811 1133.75 Q200.811 1130.03 198.959 1127.87 Q197.13 1125.7 193.982 1125.7 Q190.834 1125.7 188.982 1127.87 Q187.153 1130.03 187.153 1133.75 Q187.153 1137.5 188.982 1139.66 Q190.834 1141.81 193.982 1141.81 Z\" fill=\"#000000\" fill-rule=\"evenodd\" fill-opacity=\"1\" /><path clip-path=\"url(#clip470)\" d=\"M114.515 870.559 L144.191 870.559 L144.191 874.494 L114.515 874.494 L114.515 870.559 Z\" fill=\"#000000\" fill-rule=\"evenodd\" fill-opacity=\"1\" /><path clip-path=\"url(#clip470)\" d=\"M154.329 852.828 L172.686 852.828 L172.686 856.763 L158.612 856.763 L158.612 865.235 Q159.63 864.888 160.649 864.726 Q161.667 864.541 162.686 864.541 Q168.473 864.541 171.852 867.712 Q175.232 870.883 175.232 876.3 Q175.232 881.878 171.76 884.98 Q168.288 888.059 161.968 888.059 Q159.792 888.059 157.524 887.689 Q155.278 887.318 152.871 886.577 L152.871 881.878 Q154.954 883.013 157.177 883.568 Q159.399 884.124 161.876 884.124 Q165.88 884.124 168.218 882.017 Q170.556 879.911 170.556 876.3 Q170.556 872.689 168.218 870.582 Q165.88 868.476 161.876 868.476 Q160.001 868.476 158.126 868.892 Q156.274 869.309 154.329 870.189 L154.329 852.828 Z\" fill=\"#000000\" fill-rule=\"evenodd\" fill-opacity=\"1\" /><path clip-path=\"url(#clip470)\" d=\"M194.445 870.976 Q191.112 870.976 189.19 872.758 Q187.292 874.54 187.292 877.665 Q187.292 880.79 189.19 882.573 Q191.112 884.355 194.445 884.355 Q197.778 884.355 199.7 882.573 Q201.621 880.767 201.621 877.665 Q201.621 874.54 199.7 872.758 Q197.801 870.976 194.445 870.976 M189.769 868.985 Q186.76 868.244 185.07 866.184 Q183.403 864.124 183.403 861.161 Q183.403 857.017 186.343 854.61 Q189.306 852.203 194.445 852.203 Q199.607 852.203 202.547 854.61 Q205.487 857.017 205.487 861.161 Q205.487 864.124 203.797 866.184 Q202.13 868.244 199.144 868.985 Q202.524 869.772 204.399 872.064 Q206.297 874.355 206.297 877.665 Q206.297 882.689 203.218 885.374 Q200.162 888.059 194.445 888.059 Q188.727 888.059 185.649 885.374 Q182.593 882.689 182.593 877.665 Q182.593 874.355 184.491 872.064 Q186.389 869.772 189.769 868.985 M188.056 861.601 Q188.056 864.286 189.723 865.791 Q191.413 867.295 194.445 867.295 Q197.454 867.295 199.144 865.791 Q200.857 864.286 200.857 861.601 Q200.857 858.916 199.144 857.411 Q197.454 855.906 194.445 855.906 Q191.413 855.906 189.723 857.411 Q188.056 858.916 188.056 861.601 Z\" fill=\"#000000\" fill-rule=\"evenodd\" fill-opacity=\"1\" /><path clip-path=\"url(#clip470)\" d=\"M115.325 600.768 L145.001 600.768 L145.001 604.703 L115.325 604.703 L115.325 600.768 Z\" fill=\"#000000\" fill-rule=\"evenodd\" fill-opacity=\"1\" /><path clip-path=\"url(#clip470)\" d=\"M155.14 583.036 L173.496 583.036 L173.496 586.971 L159.422 586.971 L159.422 595.444 Q160.44 595.096 161.459 594.934 Q162.477 594.749 163.496 594.749 Q169.283 594.749 172.663 597.92 Q176.042 601.092 176.042 606.508 Q176.042 612.087 172.57 615.189 Q169.098 618.268 162.778 618.268 Q160.603 618.268 158.334 617.897 Q156.089 617.527 153.681 616.786 L153.681 612.087 Q155.765 613.221 157.987 613.777 Q160.209 614.332 162.686 614.332 Q166.69 614.332 169.028 612.226 Q171.366 610.119 171.366 606.508 Q171.366 602.897 169.028 600.791 Q166.69 598.684 162.686 598.684 Q160.811 598.684 158.936 599.101 Q157.084 599.518 155.14 600.397 L155.14 583.036 Z\" fill=\"#000000\" fill-rule=\"evenodd\" fill-opacity=\"1\" /><path clip-path=\"url(#clip470)\" d=\"M184.075 583.036 L206.297 583.036 L206.297 585.027 L193.75 617.596 L188.866 617.596 L200.672 586.971 L184.075 586.971 L184.075 583.036 Z\" fill=\"#000000\" fill-rule=\"evenodd\" fill-opacity=\"1\" /><path clip-path=\"url(#clip470)\" d=\"M114.26 330.976 L143.936 330.976 L143.936 334.912 L114.26 334.912 L114.26 330.976 Z\" fill=\"#000000\" fill-rule=\"evenodd\" fill-opacity=\"1\" /><path clip-path=\"url(#clip470)\" d=\"M154.075 313.245 L172.431 313.245 L172.431 317.18 L158.357 317.18 L158.357 325.652 Q159.376 325.305 160.394 325.143 Q161.413 324.958 162.431 324.958 Q168.218 324.958 171.598 328.129 Q174.977 331.3 174.977 336.717 Q174.977 342.296 171.505 345.398 Q168.033 348.476 161.714 348.476 Q159.538 348.476 157.269 348.106 Q155.024 347.736 152.616 346.995 L152.616 342.296 Q154.7 343.43 156.922 343.986 Q159.144 344.541 161.621 344.541 Q165.626 344.541 167.964 342.435 Q170.302 340.328 170.302 336.717 Q170.302 333.106 167.964 331 Q165.626 328.893 161.621 328.893 Q159.746 328.893 157.871 329.31 Q156.019 329.726 154.075 330.606 L154.075 313.245 Z\" fill=\"#000000\" fill-rule=\"evenodd\" fill-opacity=\"1\" /><path clip-path=\"url(#clip470)\" d=\"M194.769 328.662 Q191.621 328.662 189.769 330.814 Q187.94 332.967 187.94 336.717 Q187.94 340.444 189.769 342.62 Q191.621 344.773 194.769 344.773 Q197.917 344.773 199.746 342.62 Q201.598 340.444 201.598 336.717 Q201.598 332.967 199.746 330.814 Q197.917 328.662 194.769 328.662 M204.051 314.009 L204.051 318.268 Q202.292 317.435 200.487 316.995 Q198.704 316.555 196.945 316.555 Q192.315 316.555 189.862 319.68 Q187.431 322.805 187.084 329.125 Q188.45 327.111 190.51 326.046 Q192.57 324.958 195.047 324.958 Q200.255 324.958 203.264 328.129 Q206.297 331.277 206.297 336.717 Q206.297 342.041 203.149 345.259 Q200 348.476 194.769 348.476 Q188.774 348.476 185.602 343.893 Q182.431 339.287 182.431 330.56 Q182.431 322.365 186.32 317.504 Q190.209 312.62 196.76 312.62 Q198.519 312.62 200.301 312.967 Q202.107 313.314 204.051 314.009 Z\" fill=\"#000000\" fill-rule=\"evenodd\" fill-opacity=\"1\" /><path clip-path=\"url(#clip470)\" d=\"M115.418 61.185 L145.093 61.185 L145.093 65.1202 L115.418 65.1202 L115.418 61.185 Z\" fill=\"#000000\" fill-rule=\"evenodd\" fill-opacity=\"1\" /><path clip-path=\"url(#clip470)\" d=\"M155.232 43.4537 L173.589 43.4537 L173.589 47.3888 L159.515 47.3888 L159.515 55.861 Q160.533 55.5138 161.552 55.3517 Q162.57 55.1666 163.589 55.1666 Q169.376 55.1666 172.755 58.3378 Q176.135 61.5091 176.135 66.9258 Q176.135 72.5044 172.663 75.6063 Q169.19 78.685 162.871 78.685 Q160.695 78.685 158.427 78.3146 Q156.181 77.9442 153.774 77.2035 L153.774 72.5044 Q155.857 73.6387 158.079 74.1942 Q160.302 74.7498 162.778 74.7498 Q166.783 74.7498 169.121 72.6433 Q171.459 70.5368 171.459 66.9258 Q171.459 63.3147 169.121 61.2082 Q166.783 59.1017 162.778 59.1017 Q160.903 59.1017 159.028 59.5184 Q157.177 59.9351 155.232 60.8147 L155.232 43.4537 Z\" fill=\"#000000\" fill-rule=\"evenodd\" fill-opacity=\"1\" /><path clip-path=\"url(#clip470)\" d=\"M185.394 43.4537 L203.75 43.4537 L203.75 47.3888 L189.676 47.3888 L189.676 55.861 Q190.695 55.5138 191.713 55.3517 Q192.732 55.1666 193.75 55.1666 Q199.537 55.1666 202.917 58.3378 Q206.297 61.5091 206.297 66.9258 Q206.297 72.5044 202.824 75.6063 Q199.352 78.685 193.033 78.685 Q190.857 78.685 188.588 78.3146 Q186.343 77.9442 183.936 77.2035 L183.936 72.5044 Q186.019 73.6387 188.241 74.1942 Q190.463 74.7498 192.94 74.7498 Q196.945 74.7498 199.283 72.6433 Q201.621 70.5368 201.621 66.9258 Q201.621 63.3147 199.283 61.2082 Q196.945 59.1017 192.94 59.1017 Q191.065 59.1017 189.19 59.5184 Q187.338 59.9351 185.394 60.8147 L185.394 43.4537 Z\" fill=\"#000000\" fill-rule=\"evenodd\" fill-opacity=\"1\" /><path clip-path=\"url(#clip470)\" d=\"M14.479 818.714 L14.479 812.858 L64.0042 812.858 L64.0042 818.714 L14.479 818.714 Z\" fill=\"#000000\" fill-rule=\"evenodd\" fill-opacity=\"1\" /><path clip-path=\"url(#clip470)\" d=\"M32.4621 786.79 Q32.4621 791.501 36.1542 794.238 Q39.8145 796.975 46.212 796.975 Q52.6095 796.975 56.3017 794.27 Q59.9619 791.533 59.9619 786.79 Q59.9619 782.111 56.2698 779.374 Q52.5777 776.637 46.212 776.637 Q39.8781 776.637 36.186 779.374 Q32.4621 782.111 32.4621 786.79 M27.4968 786.79 Q27.4968 779.151 32.4621 774.791 Q37.4273 770.43 46.212 770.43 Q54.9649 770.43 59.9619 774.791 Q64.9272 779.151 64.9272 786.79 Q64.9272 794.461 59.9619 798.821 Q54.9649 803.15 46.212 803.15 Q37.4273 803.15 32.4621 798.821 Q27.4968 794.461 27.4968 786.79 Z\" fill=\"#000000\" fill-rule=\"evenodd\" fill-opacity=\"1\" /><path clip-path=\"url(#clip470)\" d=\"M45.7664 737.265 Q39.4007 737.265 35.8996 739.907 Q32.3984 742.517 32.3984 747.259 Q32.3984 751.97 35.8996 754.611 Q39.4007 757.221 45.7664 757.221 Q52.1003 757.221 55.6014 754.611 Q59.1026 751.97 59.1026 747.259 Q59.1026 742.517 55.6014 739.907 Q52.1003 737.265 45.7664 737.265 M59.58 731.408 Q68.683 731.408 73.1071 735.451 Q77.5631 739.493 77.5631 747.832 Q77.5631 750.919 77.0857 753.657 Q76.6401 756.394 75.6852 758.972 L69.9879 758.972 Q71.3884 756.394 72.0568 753.879 Q72.7252 751.365 72.7252 748.755 Q72.7252 742.994 69.7015 740.129 Q66.7096 737.265 60.6303 737.265 L57.7339 737.265 Q60.885 739.079 62.4446 741.912 Q64.0042 744.745 64.0042 748.691 Q64.0042 755.248 59.0071 759.258 Q54.01 763.269 45.7664 763.269 Q37.491 763.269 32.4939 759.258 Q27.4968 755.248 27.4968 748.691 Q27.4968 744.745 29.0564 741.912 Q30.616 739.079 33.7671 737.265 L28.3562 737.265 L28.3562 731.408 L59.58 731.408 Z\" fill=\"#000000\" fill-rule=\"evenodd\" fill-opacity=\"1\" /><path clip-path=\"url(#clip470)\" d=\"M14.479 719.345 L14.479 713.489 L64.0042 713.489 L64.0042 719.345 L14.479 719.345 Z\" fill=\"#000000\" fill-rule=\"evenodd\" fill-opacity=\"1\" /><path clip-path=\"url(#clip470)\" d=\"M28.3562 701.235 L28.3562 695.379 L64.0042 695.379 L64.0042 701.235 L28.3562 701.235 M14.479 701.235 L14.479 695.379 L21.895 695.379 L21.895 701.235 L14.479 701.235 Z\" fill=\"#000000\" fill-rule=\"evenodd\" fill-opacity=\"1\" /><path clip-path=\"url(#clip470)\" d=\"M14.479 683.347 L14.479 677.459 L43.7294 677.459 L28.3562 659.985 L28.3562 652.506 L45.0344 671.412 L64.0042 651.71 L64.0042 659.349 L46.5939 677.459 L64.0042 677.459 L64.0042 683.347 L14.479 683.347 Z\" fill=\"#000000\" fill-rule=\"evenodd\" fill-opacity=\"1\" /><polyline clip-path=\"url(#clip472)\" style=\"stroke:#0000ff; stroke-linecap:round; stroke-linejoin:round; stroke-width:4; stroke-opacity:1; fill:none\" points=\"\n",
       "  338.227,2763.64 340.145,2772.55 342.064,2779.71 343.982,2785.48 345.901,2790.1 347.82,2793.77 349.738,2796.65 351.657,2798.84 353.575,2800.45 355.494,2801.54 \n",
       "  357.413,2802.2 359.331,2802.45 361.25,2802.36 363.168,2801.96 365.087,2801.28 367.006,2800.35 368.924,2799.2 370.843,2797.84 372.761,2796.29 374.68,2794.57 \n",
       "  376.599,2792.7 378.517,2790.69 380.436,2788.55 382.354,2786.29 384.273,2783.92 386.192,2781.45 388.11,2778.89 390.029,2776.24 391.947,2773.51 393.866,2770.7 \n",
       "  395.785,2767.83 397.703,2764.89 399.622,2761.9 401.54,2758.85 403.459,2755.75 405.378,2752.61 407.296,2749.42 409.215,2746.18 411.133,2742.92 413.052,2739.61 \n",
       "  414.971,2736.28 416.889,2732.91 418.808,2729.52 420.726,2726.1 422.645,2722.65 424.564,2719.18 426.482,2715.7 428.401,2712.19 430.319,2708.67 432.238,2705.12 \n",
       "  434.157,2701.57 436.075,2698 437.994,2694.42 439.912,2690.82 441.831,2687.22 443.75,2683.61 445.668,2679.98 447.587,2676.35 449.505,2672.72 451.424,2669.07 \n",
       "  453.343,2665.43 455.261,2661.77 457.18,2658.12 459.098,2654.46 461.017,2650.79 462.936,2647.13 464.854,2643.46 466.773,2639.79 468.691,2636.12 470.61,2632.45 \n",
       "  472.529,2628.78 474.447,2625.11 476.366,2621.45 478.284,2617.78 480.203,2614.12 482.122,2610.45 484.04,2606.79 485.959,2603.14 487.877,2599.48 489.796,2595.83 \n",
       "  491.715,2592.18 493.633,2588.54 495.552,2584.9 497.47,2581.26 499.389,2577.63 501.308,2574 503.226,2570.38 505.145,2566.76 507.063,2563.15 508.982,2559.54 \n",
       "  510.901,2555.94 512.819,2552.35 514.738,2548.76 516.656,2545.17 518.575,2541.6 520.494,2538.03 522.412,2534.46 524.331,2530.9 526.249,2527.35 528.168,2523.8 \n",
       "  530.087,2520.27 532.005,2516.73 533.924,2513.21 535.842,2509.69 537.761,2506.18 539.68,2502.68 541.598,2499.18 543.517,2495.69 545.435,2492.21 547.354,2488.73 \n",
       "  549.273,2485.27 551.191,2481.81 553.11,2478.36 555.028,2474.91 556.947,2471.48 558.866,2468.05 560.784,2464.63 562.703,2461.21 564.621,2457.81 566.54,2454.41 \n",
       "  568.459,2451.02 570.377,2447.64 572.296,2444.26 574.214,2440.9 576.133,2437.54 578.052,2434.19 579.97,2430.85 581.889,2427.51 583.807,2424.18 585.726,2420.87 \n",
       "  587.645,2417.56 589.563,2414.25 591.482,2410.96 593.4,2407.67 595.319,2404.39 597.238,2401.12 599.156,2397.86 601.075,2394.61 602.993,2391.36 604.912,2388.12 \n",
       "  606.831,2384.89 608.749,2381.67 610.668,2378.46 612.586,2375.25 614.505,2372.06 616.424,2368.87 618.342,2365.68 620.261,2362.51 622.179,2359.34 624.098,2356.19 \n",
       "  626.017,2353.04 627.935,2349.9 629.854,2346.76 631.772,2343.64 633.691,2340.52 635.61,2337.41 637.528,2334.31 639.447,2331.21 641.365,2328.12 643.284,2325.05 \n",
       "  645.203,2321.98 647.121,2318.91 649.04,2315.86 650.958,2312.81 652.877,2309.77 654.796,2306.74 656.714,2303.71 658.633,2300.7 660.551,2297.69 662.47,2294.69 \n",
       "  664.389,2291.69 666.307,2288.71 668.226,2285.73 670.144,2282.76 672.063,2279.8 673.982,2276.84 675.9,2273.89 677.819,2270.95 679.737,2268.02 681.656,2265.09 \n",
       "  683.575,2262.18 685.493,2259.27 687.412,2256.36 689.33,2253.47 691.249,2250.58 693.168,2247.7 695.086,2244.82 697.005,2241.96 698.923,2239.1 700.842,2236.25 \n",
       "  702.761,2233.4 704.679,2230.56 706.598,2227.73 708.516,2224.91 710.435,2222.09 712.354,2219.28 714.272,2216.48 716.191,2213.69 718.109,2210.9 720.028,2208.12 \n",
       "  721.947,2205.34 723.865,2202.58 725.784,2199.82 727.702,2197.06 729.621,2194.32 731.54,2191.58 733.458,2188.84 735.377,2186.12 737.295,2183.4 739.214,2180.69 \n",
       "  741.133,2177.98 743.051,2175.28 744.97,2172.59 746.888,2169.91 748.807,2167.23 750.726,2164.55 752.644,2161.89 754.563,2159.23 756.481,2156.58 758.4,2153.93 \n",
       "  760.319,2151.29 762.237,2148.66 764.156,2146.03 766.074,2143.41 767.993,2140.8 769.912,2138.19 771.83,2135.59 773.749,2133 775.667,2130.41 777.586,2127.83 \n",
       "  779.504,2125.25 781.423,2122.68 783.342,2120.12 785.26,2117.56 787.179,2115.01 789.097,2112.46 791.016,2109.93 792.935,2107.39 794.853,2104.87 796.772,2102.35 \n",
       "  798.69,2099.83 800.609,2097.32 802.528,2094.82 804.446,2092.32 806.365,2089.83 808.283,2087.35 810.202,2084.87 812.121,2082.4 814.039,2079.93 815.958,2077.47 \n",
       "  817.876,2075.01 819.795,2072.57 821.714,2070.12 823.632,2067.68 825.551,2065.25 827.469,2062.82 829.388,2060.4 831.307,2057.99 833.225,2055.58 835.144,2053.18 \n",
       "  837.062,2050.78 838.981,2048.38 840.9,2046 842.818,2043.62 844.737,2041.24 846.655,2038.87 848.574,2036.5 850.493,2034.14 852.411,2031.79 854.33,2029.44 \n",
       "  856.248,2027.1 858.167,2024.76 860.086,2022.43 862.004,2020.1 863.923,2017.78 865.841,2015.46 867.76,2013.15 869.679,2010.84 871.597,2008.54 873.516,2006.24 \n",
       "  875.434,2003.95 877.353,2001.67 879.272,1999.39 881.19,1997.11 883.109,1994.84 885.027,1992.57 886.946,1990.31 888.865,1988.06 890.783,1985.81 892.702,1983.56 \n",
       "  894.62,1981.32 896.539,1979.09 898.458,1976.86 900.376,1974.63 902.295,1972.41 904.213,1970.2 906.132,1967.99 908.051,1965.78 909.969,1963.58 911.888,1961.38 \n",
       "  913.806,1959.19 915.725,1957 917.644,1954.82 919.562,1952.65 921.481,1950.47 923.399,1948.31 925.318,1946.14 927.237,1943.98 929.155,1941.83 931.074,1939.68 \n",
       "  932.992,1937.54 934.911,1935.4 936.83,1933.26 938.748,1931.13 940.667,1929.01 942.585,1926.88 944.504,1924.77 946.423,1922.65 948.341,1920.55 950.26,1918.44 \n",
       "  952.178,1916.34 954.097,1914.25 956.016,1912.16 957.934,1910.07 959.853,1907.99 961.771,1905.91 963.69,1903.84 965.609,1901.77 967.527,1899.71 969.446,1897.65 \n",
       "  971.364,1895.59 973.283,1893.54 975.202,1891.49 977.12,1889.45 979.039,1887.41 980.957,1885.38 982.876,1883.35 984.795,1881.32 986.713,1879.3 988.632,1877.28 \n",
       "  990.55,1875.27 992.469,1873.26 994.388,1871.25 996.306,1869.25 998.225,1867.25 1000.14,1865.26 1002.06,1863.27 1003.98,1861.29 1005.9,1859.3 1007.82,1857.33 \n",
       "  1009.74,1855.35 1011.66,1853.38 1013.57,1851.42 1015.49,1849.46 1017.41,1847.5 1019.33,1845.55 1021.25,1843.6 1023.17,1841.65 1025.09,1839.71 1027,1837.77 \n",
       "  1028.92,1835.84 1030.84,1833.9 1032.76,1831.98 1034.68,1830.05 1036.6,1828.14 1038.52,1826.22 1040.43,1824.31 1042.35,1822.4 1044.27,1820.5 1046.19,1818.6 \n",
       "  1048.11,1816.7 1050.03,1814.8 1051.95,1812.92 1053.86,1811.03 1055.78,1809.15 1057.7,1807.27 1059.62,1805.39 1061.54,1803.52 1063.46,1801.65 1065.38,1799.79 \n",
       "  1067.29,1797.93 1069.21,1796.07 1071.13,1794.22 1073.05,1792.37 1074.97,1790.52 1076.89,1788.68 1078.81,1786.84 1080.72,1785 1082.64,1783.17 1084.56,1781.34 \n",
       "  1086.48,1779.51 1088.4,1777.69 1090.32,1775.87 1092.24,1774.05 1094.15,1772.24 1096.07,1770.43 1097.99,1768.63 1099.91,1766.82 1101.83,1765.02 1103.75,1763.23 \n",
       "  1105.67,1761.44 1107.58,1759.65 1109.5,1757.86 1111.42,1756.08 1113.34,1754.3 1115.26,1752.52 1117.18,1750.75 1119.1,1748.98 1121.02,1747.21 1122.93,1745.45 \n",
       "  1124.85,1743.69 1126.77,1741.93 1128.69,1740.18 1130.61,1738.43 1132.53,1736.68 1134.45,1734.94 1136.36,1733.2 1138.28,1731.46 1140.2,1729.72 1142.12,1727.99 \n",
       "  1144.04,1726.26 1145.96,1724.54 1147.88,1722.81 1149.79,1721.09 1151.71,1719.38 1153.63,1717.66 1155.55,1715.95 1157.47,1714.24 1159.39,1712.54 1161.31,1710.84 \n",
       "  1163.22,1709.14 1165.14,1707.44 1167.06,1705.75 1168.98,1704.06 1170.9,1702.37 1172.82,1700.69 1174.74,1699.01 1176.65,1697.33 1178.57,1695.65 1180.49,1693.98 \n",
       "  1182.41,1692.31 1184.33,1690.64 1186.25,1688.98 1188.17,1687.32 1190.08,1685.66 1192,1684 1193.92,1682.35 1195.84,1680.7 1197.76,1679.05 1199.68,1677.41 \n",
       "  1201.6,1675.77 1203.51,1674.13 1205.43,1672.49 1207.35,1670.86 1209.27,1669.23 1211.19,1667.6 1213.11,1665.97 1215.03,1664.35 1216.95,1662.73 1218.86,1661.11 \n",
       "  1220.78,1659.5 1222.7,1657.88 1224.62,1656.27 1226.54,1654.67 1228.46,1653.06 1230.38,1651.46 1232.29,1649.86 1234.21,1648.27 1236.13,1646.67 1238.05,1645.08 \n",
       "  1239.97,1643.49 1241.89,1641.91 1243.81,1640.32 1245.72,1638.74 1247.64,1637.16 1249.56,1635.59 1251.48,1634.01 1253.4,1632.44 1255.32,1630.87 1257.24,1629.31 \n",
       "  1259.15,1627.74 1261.07,1626.18 1262.99,1624.62 1264.91,1623.07 1266.83,1621.51 1268.75,1619.96 1270.67,1618.41 1272.58,1616.87 1274.5,1615.32 1276.42,1613.78 \n",
       "  1278.34,1612.24 1280.26,1610.7 1282.18,1609.17 1284.1,1607.64 1286.01,1606.11 1287.93,1604.58 1289.85,1603.06 1291.77,1601.53 1293.69,1600.01 1295.61,1598.49 \n",
       "  1297.53,1596.98 1299.44,1595.46 1301.36,1593.95 1303.28,1592.44 1305.2,1590.94 1307.12,1589.43 1309.04,1587.93 1310.96,1586.43 1312.88,1584.93 1314.79,1583.44 \n",
       "  1316.71,1581.94 1318.63,1580.45 1320.55,1578.96 1322.47,1577.48 1324.39,1575.99 1326.31,1574.51 1328.22,1573.03 1330.14,1571.55 1332.06,1570.08 1333.98,1568.6 \n",
       "  1335.9,1567.13 1337.82,1565.66 1339.74,1564.19 1341.65,1562.73 1343.57,1561.27 1345.49,1559.81 1347.41,1558.35 1349.33,1556.89 1351.25,1555.44 1353.17,1553.98 \n",
       "  1355.08,1552.53 1357,1551.08 1358.92,1549.64 1360.84,1548.19 1362.76,1546.75 1364.68,1545.31 1366.6,1543.87 1368.51,1542.44 1370.43,1541 1372.35,1539.57 \n",
       "  1374.27,1538.14 1376.19,1536.71 1378.11,1535.29 1380.03,1533.86 1381.94,1532.44 1383.86,1531.02 1385.78,1529.6 1387.7,1528.19 1389.62,1526.77 1391.54,1525.36 \n",
       "  1393.46,1523.95 1395.37,1522.54 1397.29,1521.13 1399.21,1519.73 1401.13,1518.33 1403.05,1516.93 1404.97,1515.53 1406.89,1514.13 1408.81,1512.73 1410.72,1511.34 \n",
       "  1412.64,1509.95 1414.56,1508.56 1416.48,1507.17 1418.4,1505.79 1420.32,1504.4 1422.24,1503.02 1424.15,1501.64 1426.07,1500.26 1427.99,1498.88 1429.91,1497.51 \n",
       "  1431.83,1496.13 1433.75,1494.76 1435.67,1493.39 1437.58,1492.03 1439.5,1490.66 1441.42,1489.29 1443.34,1487.93 1445.26,1486.57 1447.18,1485.21 1449.1,1483.85 \n",
       "  1451.01,1482.5 1452.93,1481.14 1454.85,1479.79 1456.77,1478.44 1458.69,1477.09 1460.61,1475.75 1462.53,1474.4 1464.44,1473.06 1466.36,1471.71 1468.28,1470.37 \n",
       "  1470.2,1469.04 1472.12,1467.7 1474.04,1466.36 1475.96,1465.03 1477.87,1463.7 1479.79,1462.37 1481.71,1461.04 1483.63,1459.71 1485.55,1458.38 1487.47,1457.06 \n",
       "  1489.39,1455.74 1491.3,1454.42 1493.22,1453.1 1495.14,1451.78 1497.06,1450.46 1498.98,1449.15 1500.9,1447.84 1502.82,1446.53 1504.74,1445.22 1506.65,1443.91 \n",
       "  1508.57,1442.6 1510.49,1441.3 1512.41,1439.99 1514.33,1438.69 1516.25,1437.39 1518.17,1436.09 1520.08,1434.79 1522,1433.5 1523.92,1432.2 1525.84,1430.91 \n",
       "  1527.76,1429.62 1529.68,1428.33 1531.6,1427.04 1533.51,1425.75 1535.43,1424.47 1537.35,1423.18 1539.27,1421.9 1541.19,1420.62 1543.11,1419.34 1545.03,1418.06 \n",
       "  1546.94,1416.79 1548.86,1415.51 1550.78,1414.24 1552.7,1412.96 1554.62,1411.69 1556.54,1410.42 1558.46,1409.16 1560.37,1407.89 1562.29,1406.62 1564.21,1405.36 \n",
       "  1566.13,1404.1 1568.05,1402.83 1569.97,1401.57 1571.89,1400.32 1573.8,1399.06 1575.72,1397.8 1577.64,1396.55 1579.56,1395.29 1581.48,1394.04 1583.4,1392.79 \n",
       "  1585.32,1391.54 1587.23,1390.3 1589.15,1389.05 1591.07,1387.8 1592.99,1386.56 1594.91,1385.32 1596.83,1384.08 1598.75,1382.84 1600.66,1381.6 1602.58,1380.36 \n",
       "  1604.5,1379.12 1606.42,1377.89 1608.34,1376.65 1610.26,1375.42 1612.18,1374.19 1614.1,1372.96 1616.01,1371.73 1617.93,1370.5 1619.85,1369.28 1621.77,1368.05 \n",
       "  1623.69,1366.83 1625.61,1365.61 1627.53,1364.39 1629.44,1363.17 1631.36,1361.95 1633.28,1360.73 1635.2,1359.51 1637.12,1358.3 1639.04,1357.08 1640.96,1355.87 \n",
       "  1642.87,1354.66 1644.79,1353.45 1646.71,1352.24 1648.63,1351.03 1650.55,1349.82 1652.47,1348.62 1654.39,1347.41 1656.3,1346.21 1658.22,1345.01 1660.14,1343.81 \n",
       "  1662.06,1342.61 1663.98,1341.41 1665.9,1340.21 1667.82,1339.01 1669.73,1337.82 1671.65,1336.62 1673.57,1335.43 1675.49,1334.24 1677.41,1333.04 1679.33,1331.85 \n",
       "  1681.25,1330.66 1683.16,1329.48 1685.08,1328.29 1687,1327.1 1688.92,1325.92 1690.84,1324.73 1692.76,1323.55 1694.68,1322.37 1696.59,1321.19 1698.51,1320.01 \n",
       "  1700.43,1318.83 1702.35,1317.65 1704.27,1316.48 1706.19,1315.3 1708.11,1314.13 1710.03,1312.95 1711.94,1311.78 1713.86,1310.61 1715.78,1309.44 1717.7,1308.27 \n",
       "  1719.62,1307.1 1721.54,1305.93 1723.46,1304.77 1725.37,1303.6 1727.29,1302.44 1729.21,1301.27 1731.13,1300.11 1733.05,1298.95 1734.97,1297.79 1736.89,1296.63 \n",
       "  1738.8,1295.47 1740.72,1294.31 1742.64,1293.15 1744.56,1292 1746.48,1290.84 1748.4,1289.69 1750.32,1288.53 1752.23,1287.38 1754.15,1286.23 1756.07,1285.08 \n",
       "  1757.99,1283.93 1759.91,1282.78 1761.83,1281.63 1763.75,1280.48 1765.66,1279.34 1767.58,1278.19 1769.5,1277.05 1771.42,1275.9 1773.34,1274.76 1775.26,1273.62 \n",
       "  1777.18,1272.48 1779.09,1271.34 1781.01,1270.2 1782.93,1269.06 1784.85,1267.92 1786.77,1266.79 1788.69,1265.65 1790.61,1264.51 1792.52,1263.38 1794.44,1262.25 \n",
       "  1796.36,1261.11 1798.28,1259.98 1800.2,1258.85 1802.12,1257.72 1804.04,1256.59 1805.96,1255.46 1807.87,1254.33 1809.79,1253.21 1811.71,1252.08 1813.63,1250.95 \n",
       "  1815.55,1249.83 1817.47,1248.7 1819.39,1247.58 1821.3,1246.46 1823.22,1245.34 1825.14,1244.21 1827.06,1243.09 1828.98,1241.97 1830.9,1240.86 1832.82,1239.74 \n",
       "  1834.73,1238.62 1836.65,1237.5 1838.57,1236.39 1840.49,1235.27 1842.41,1234.16 1844.33,1233.04 1846.25,1231.93 1848.16,1230.82 1850.08,1229.7 1852,1228.59 \n",
       "  1853.92,1227.48 1855.84,1226.37 1857.76,1225.26 1859.68,1224.15 1861.59,1223.05 1863.51,1221.94 1865.43,1220.83 1867.35,1219.73 1869.27,1218.62 1871.19,1217.52 \n",
       "  1873.11,1216.41 1875.02,1215.31 1876.94,1214.21 1878.86,1213.1 1880.78,1212 1882.7,1210.9 1884.62,1209.8 1886.54,1208.7 1888.45,1207.6 1890.37,1206.5 \n",
       "  1892.29,1205.41 1894.21,1204.31 1896.13,1203.21 1898.05,1202.12 1899.97,1201.02 1901.89,1199.92 1903.8,1198.83 1905.72,1197.74 1907.64,1196.64 1909.56,1195.55 \n",
       "  1911.48,1194.46 1913.4,1193.37 1915.32,1192.27 1917.23,1191.18 1919.15,1190.09 1921.07,1189 1922.99,1187.91 1924.91,1186.83 1926.83,1185.74 1928.75,1184.65 \n",
       "  1930.66,1183.56 1932.58,1182.48 1934.5,1181.39 1936.42,1180.31 1938.34,1179.22 1940.26,1178.14 1942.18,1177.05 1944.09,1175.97 1946.01,1174.88 1947.93,1173.8 \n",
       "  1949.85,1172.72 1951.77,1171.64 1953.69,1170.56 1955.61,1169.48 1957.52,1168.4 1959.44,1167.32 1961.36,1166.24 1963.28,1165.16 1965.2,1164.08 1967.12,1163 \n",
       "  1969.04,1161.92 1970.95,1160.84 1972.87,1159.77 1974.79,1158.69 1976.71,1157.61 1978.63,1156.54 1980.55,1155.46 1982.47,1154.39 1984.38,1153.31 1986.3,1152.24 \n",
       "  1988.22,1151.17 1990.14,1150.09 1992.06,1149.02 1993.98,1147.95 1995.9,1146.87 1997.82,1145.8 1999.73,1144.73 2001.65,1143.66 2003.57,1142.59 2005.49,1141.52 \n",
       "  2007.41,1140.45 2009.33,1139.38 2011.25,1138.31 2013.16,1137.24 2015.08,1136.17 2017,1135.1 2018.92,1134.03 2020.84,1132.96 2022.76,1131.9 2024.68,1130.83 \n",
       "  2026.59,1129.76 2028.51,1128.69 2030.43,1127.63 2032.35,1126.56 2034.27,1125.49 2036.19,1124.43 2038.11,1123.36 2040.02,1122.3 2041.94,1121.23 2043.86,1120.17 \n",
       "  2045.78,1119.1 2047.7,1118.04 2049.62,1116.97 2051.54,1115.91 2053.45,1114.85 2055.37,1113.78 2057.29,1112.72 2059.21,1111.66 2061.13,1110.59 2063.05,1109.53 \n",
       "  2064.97,1108.47 2066.88,1107.41 2068.8,1106.34 2070.72,1105.28 2072.64,1104.22 2074.56,1103.16 2076.48,1102.1 2078.4,1101.04 2080.31,1099.98 2082.23,1098.91 \n",
       "  2084.15,1097.85 2086.07,1096.79 2087.99,1095.73 2089.91,1094.67 2091.83,1093.61 2093.75,1092.55 2095.66,1091.49 2097.58,1090.43 2099.5,1089.37 2101.42,1088.31 \n",
       "  2103.34,1087.25 2105.26,1086.19 2107.18,1085.14 2109.09,1084.08 2111.01,1083.02 2112.93,1081.96 2114.85,1080.9 2116.77,1079.84 2118.69,1078.78 2120.61,1077.72 \n",
       "  2122.52,1076.66 2124.44,1075.61 2126.36,1074.55 2128.28,1073.49 2130.2,1072.43 2132.12,1071.37 2134.04,1070.31 2135.95,1069.25 2137.87,1068.2 2139.79,1067.14 \n",
       "  2141.71,1066.08 2143.63,1065.02 2145.55,1063.96 2147.47,1062.9 2149.38,1061.84 2151.3,1060.79 2153.22,1059.73 2155.14,1058.67 2157.06,1057.61 2158.98,1056.55 \n",
       "  2160.9,1055.49 2162.81,1054.43 2164.73,1053.38 2166.65,1052.32 2168.57,1051.26 2170.49,1050.2 2172.41,1049.14 2174.33,1048.08 2176.24,1047.02 2178.16,1045.96 \n",
       "  2180.08,1044.9 2182,1043.84 2183.92,1042.78 2185.84,1041.72 2187.76,1040.66 2189.67,1039.6 2191.59,1038.54 2193.51,1037.48 2195.43,1036.42 2197.35,1035.36 \n",
       "  2199.27,1034.3 2201.19,1033.24 2203.11,1032.18 2205.02,1031.12 2206.94,1030.06 2208.86,1029 2210.78,1027.93 2212.7,1026.87 2214.62,1025.81 2216.54,1024.75 \n",
       "  2218.45,1023.69 2220.37,1022.62 2222.29,1021.56 2224.21,1020.5 2226.13,1019.43 2228.05,1018.37 2229.97,1017.31 2231.88,1016.24 2233.8,1015.18 2235.72,1014.11 \n",
       "  2237.64,1013.05 2239.56,1011.98 2241.48,1010.92 2243.4,1009.85 2245.31,1008.78 2247.23,1007.72 2249.15,1006.65 2251.07,1005.58 2252.99,1004.52 2254.91,1003.45 \n",
       "  \n",
       "  \"/>\n",
       "<circle clip-path=\"url(#clip472)\" cx=\"2254.91\" cy=\"1003.45\" r=\"14.4\" fill=\"#0000ff\" fill-rule=\"evenodd\" fill-opacity=\"1\" stroke=\"#000000\" stroke-opacity=\"1\" stroke-width=\"3.2\"/>\n",
       "<polyline clip-path=\"url(#clip472)\" style=\"stroke:#ff0000; stroke-linecap:round; stroke-linejoin:round; stroke-width:4; stroke-opacity:1; fill:none\" points=\"\n",
       "  338.227,2502.16 340.145,2511.48 342.064,2519.05 343.982,2525.23 345.901,2530.26 347.82,2534.34 349.738,2537.63 351.657,2540.23 353.575,2542.25 355.494,2543.77 \n",
       "  357.413,2544.83 359.331,2545.5 361.25,2545.83 363.168,2545.84 365.087,2545.58 367.006,2545.06 368.924,2544.32 370.843,2543.38 372.761,2542.25 374.68,2540.95 \n",
       "  376.599,2539.5 378.517,2537.91 380.436,2536.18 382.354,2534.34 384.273,2532.39 386.192,2530.33 388.11,2528.19 390.029,2525.96 391.947,2523.64 393.866,2521.26 \n",
       "  395.785,2518.81 397.703,2516.29 399.622,2513.71 401.54,2511.08 403.459,2508.4 405.378,2505.67 407.296,2502.9 409.215,2500.09 411.133,2497.23 413.052,2494.35 \n",
       "  414.971,2491.43 416.889,2488.48 418.808,2485.5 420.726,2482.5 422.645,2479.47 424.564,2476.42 426.482,2473.35 428.401,2470.25 430.319,2467.14 432.238,2464.02 \n",
       "  434.157,2460.88 436.075,2457.72 437.994,2454.55 439.912,2451.37 441.831,2448.18 443.75,2444.98 445.668,2441.77 447.587,2438.55 449.505,2435.32 451.424,2432.09 \n",
       "  453.343,2428.85 455.261,2425.61 457.18,2422.36 459.098,2419.11 461.017,2415.85 462.936,2412.59 464.854,2409.33 466.773,2406.07 468.691,2402.81 470.61,2399.54 \n",
       "  472.529,2396.28 474.447,2393.01 476.366,2389.75 478.284,2386.49 480.203,2383.22 482.122,2379.96 484.04,2376.7 485.959,2373.45 487.877,2370.19 489.796,2366.94 \n",
       "  491.715,2363.69 493.633,2360.44 495.552,2357.2 497.47,2353.96 499.389,2350.72 501.308,2347.49 503.226,2344.26 505.145,2341.04 507.063,2337.82 508.982,2334.61 \n",
       "  510.901,2331.4 512.819,2328.19 514.738,2324.99 516.656,2321.8 518.575,2318.61 520.494,2315.43 522.412,2312.25 524.331,2309.08 526.249,2305.91 528.168,2302.75 \n",
       "  530.087,2299.6 532.005,2296.45 533.924,2293.31 535.842,2290.17 537.761,2287.04 539.68,2283.92 541.598,2280.8 543.517,2277.69 545.435,2274.59 547.354,2271.49 \n",
       "  549.273,2268.4 551.191,2265.32 553.11,2262.24 555.028,2259.17 556.947,2256.11 558.866,2253.05 560.784,2250 562.703,2246.96 564.621,2243.92 566.54,2240.89 \n",
       "  568.459,2237.87 570.377,2234.86 572.296,2231.85 574.214,2228.85 576.133,2225.86 578.052,2222.87 579.97,2219.89 581.889,2216.92 583.807,2213.96 585.726,2211 \n",
       "  587.645,2208.05 589.563,2205.11 591.482,2202.17 593.4,2199.24 595.319,2196.32 597.238,2193.41 599.156,2190.5 601.075,2187.6 602.993,2184.71 604.912,2181.83 \n",
       "  606.831,2178.95 608.749,2176.08 610.668,2173.21 612.586,2170.36 614.505,2167.51 616.424,2164.67 618.342,2161.83 620.261,2159 622.179,2156.18 624.098,2153.37 \n",
       "  626.017,2150.56 627.935,2147.77 629.854,2144.97 631.772,2142.19 633.691,2139.41 635.61,2136.64 637.528,2133.88 639.447,2131.12 641.365,2128.37 643.284,2125.63 \n",
       "  645.203,2122.89 647.121,2120.16 649.04,2117.44 650.958,2114.73 652.877,2112.02 654.796,2109.32 656.714,2106.63 658.633,2103.94 660.551,2101.26 662.47,2098.59 \n",
       "  664.389,2095.92 666.307,2093.26 668.226,2090.61 670.144,2087.96 672.063,2085.32 673.982,2082.69 675.9,2080.06 677.819,2077.44 679.737,2074.83 681.656,2072.22 \n",
       "  683.575,2069.62 685.493,2067.03 687.412,2064.44 689.33,2061.86 691.249,2059.29 693.168,2056.72 695.086,2054.16 697.005,2051.61 698.923,2049.06 700.842,2046.52 \n",
       "  702.761,2043.99 704.679,2041.46 706.598,2038.94 708.516,2036.42 710.435,2033.91 712.354,2031.41 714.272,2028.91 716.191,2026.42 718.109,2023.94 720.028,2021.46 \n",
       "  721.947,2018.99 723.865,2016.52 725.784,2014.06 727.702,2011.61 729.621,2009.16 731.54,2006.72 733.458,2004.28 735.377,2001.85 737.295,1999.43 739.214,1997.01 \n",
       "  741.133,1994.6 743.051,1992.19 744.97,1989.8 746.888,1987.4 748.807,1985.01 750.726,1982.63 752.644,1980.25 754.563,1977.88 756.481,1975.52 758.4,1973.16 \n",
       "  760.319,1970.81 762.237,1968.46 764.156,1966.12 766.074,1963.78 767.993,1961.45 769.912,1959.12 771.83,1956.8 773.749,1954.49 775.667,1952.18 777.586,1949.88 \n",
       "  779.504,1947.58 781.423,1945.29 783.342,1943 785.26,1940.72 787.179,1938.44 789.097,1936.17 791.016,1933.91 792.935,1931.65 794.853,1929.39 796.772,1927.14 \n",
       "  798.69,1924.9 800.609,1922.66 802.528,1920.43 804.446,1918.2 806.365,1915.98 808.283,1913.76 810.202,1911.55 812.121,1909.34 814.039,1907.14 815.958,1904.94 \n",
       "  817.876,1902.75 819.795,1900.56 821.714,1898.38 823.632,1896.2 825.551,1894.03 827.469,1891.86 829.388,1889.7 831.307,1887.54 833.225,1885.39 835.144,1883.24 \n",
       "  837.062,1881.1 838.981,1878.96 840.9,1876.82 842.818,1874.7 844.737,1872.57 846.655,1870.45 848.574,1868.34 850.493,1866.23 852.411,1864.13 854.33,1862.03 \n",
       "  856.248,1859.93 858.167,1857.84 860.086,1855.75 862.004,1853.67 863.923,1851.59 865.841,1849.52 867.76,1847.45 869.679,1845.39 871.597,1843.33 873.516,1841.28 \n",
       "  875.434,1839.23 877.353,1837.18 879.272,1835.14 881.19,1833.11 883.109,1831.07 885.027,1829.05 886.946,1827.02 888.865,1825 890.783,1822.99 892.702,1820.98 \n",
       "  894.62,1818.97 896.539,1816.97 898.458,1814.97 900.376,1812.98 902.295,1810.99 904.213,1809.01 906.132,1807.03 908.051,1805.05 909.969,1803.08 911.888,1801.11 \n",
       "  913.806,1799.15 915.725,1797.19 917.644,1795.23 919.562,1793.28 921.481,1791.33 923.399,1789.39 925.318,1787.45 927.237,1785.51 929.155,1783.58 931.074,1781.65 \n",
       "  932.992,1779.73 934.911,1777.81 936.83,1775.89 938.748,1773.98 940.667,1772.08 942.585,1770.17 944.504,1768.27 946.423,1766.37 948.341,1764.48 950.26,1762.59 \n",
       "  952.178,1760.71 954.097,1758.83 956.016,1756.95 957.934,1755.08 959.853,1753.21 961.771,1751.34 963.69,1749.48 965.609,1747.62 967.527,1745.77 969.446,1743.91 \n",
       "  971.364,1742.07 973.283,1740.22 975.202,1738.38 977.12,1736.55 979.039,1734.71 980.957,1732.88 982.876,1731.06 984.795,1729.23 986.713,1727.42 988.632,1725.6 \n",
       "  990.55,1723.79 992.469,1721.98 994.388,1720.18 996.306,1718.37 998.225,1716.58 1000.14,1714.78 1002.06,1712.99 1003.98,1711.2 1005.9,1709.42 1007.82,1707.64 \n",
       "  1009.74,1705.86 1011.66,1704.09 1013.57,1702.32 1015.49,1700.55 1017.41,1698.78 1019.33,1697.02 1021.25,1695.27 1023.17,1693.51 1025.09,1691.76 1027,1690.01 \n",
       "  1028.92,1688.27 1030.84,1686.53 1032.76,1684.79 1034.68,1683.05 1036.6,1681.32 1038.52,1679.59 1040.43,1677.87 1042.35,1676.15 1044.27,1674.43 1046.19,1672.71 \n",
       "  1048.11,1671 1050.03,1669.29 1051.95,1667.58 1053.86,1665.88 1055.78,1664.18 1057.7,1662.48 1059.62,1660.79 1061.54,1659.1 1063.46,1657.41 1065.38,1655.72 \n",
       "  1067.29,1654.04 1069.21,1652.36 1071.13,1650.68 1073.05,1649.01 1074.97,1647.34 1076.89,1645.67 1078.81,1644.01 1080.72,1642.35 1082.64,1640.69 1084.56,1639.03 \n",
       "  1086.48,1637.38 1088.4,1635.73 1090.32,1634.08 1092.24,1632.44 1094.15,1630.8 1096.07,1629.16 1097.99,1627.52 1099.91,1625.89 1101.83,1624.26 1103.75,1622.63 \n",
       "  1105.67,1621.01 1107.58,1619.38 1109.5,1617.77 1111.42,1616.15 1113.34,1614.54 1115.26,1612.92 1117.18,1611.32 1119.1,1609.71 1121.02,1608.11 1122.93,1606.51 \n",
       "  1124.85,1604.91 1126.77,1603.31 1128.69,1601.72 1130.61,1600.13 1132.53,1598.55 1134.45,1596.96 1136.36,1595.38 1138.28,1593.8 1140.2,1592.22 1142.12,1590.65 \n",
       "  1144.04,1589.08 1145.96,1587.51 1147.88,1585.94 1149.79,1584.38 1151.71,1582.82 1153.63,1581.26 1155.55,1579.7 1157.47,1578.15 1159.39,1576.6 1161.31,1575.05 \n",
       "  1163.22,1573.5 1165.14,1571.96 1167.06,1570.42 1168.98,1568.88 1170.9,1567.34 1172.82,1565.81 1174.74,1564.27 1176.65,1562.75 1178.57,1561.22 1180.49,1559.69 \n",
       "  1182.41,1558.17 1184.33,1556.65 1186.25,1555.13 1188.17,1553.62 1190.08,1552.11 1192,1550.6 1193.92,1549.09 1195.84,1547.58 1197.76,1546.08 1199.68,1544.58 \n",
       "  1201.6,1543.08 1203.51,1541.58 1205.43,1540.09 1207.35,1538.59 1209.27,1537.1 1211.19,1535.62 1213.11,1534.13 1215.03,1532.65 1216.95,1531.17 1218.86,1529.69 \n",
       "  1220.78,1528.21 1222.7,1526.74 1224.62,1525.26 1226.54,1523.79 1228.46,1522.33 1230.38,1520.86 1232.29,1519.4 1234.21,1517.94 1236.13,1516.48 1238.05,1515.02 \n",
       "  1239.97,1513.56 1241.89,1512.11 1243.81,1510.66 1245.72,1509.21 1247.64,1507.76 1249.56,1506.32 1251.48,1504.88 1253.4,1503.44 1255.32,1502 1257.24,1500.56 \n",
       "  1259.15,1499.13 1261.07,1497.69 1262.99,1496.26 1264.91,1494.84 1266.83,1493.41 1268.75,1491.99 1270.67,1490.56 1272.58,1489.14 1274.5,1487.72 1276.42,1486.31 \n",
       "  1278.34,1484.89 1280.26,1483.48 1282.18,1482.07 1284.1,1480.66 1286.01,1479.25 1287.93,1477.85 1289.85,1476.45 1291.77,1475.05 1293.69,1473.65 1295.61,1472.25 \n",
       "  1297.53,1470.85 1299.44,1469.46 1301.36,1468.07 1303.28,1466.68 1305.2,1465.29 1307.12,1463.9 1309.04,1462.52 1310.96,1461.14 1312.88,1459.76 1314.79,1458.38 \n",
       "  1316.71,1457 1318.63,1455.63 1320.55,1454.25 1322.47,1452.88 1324.39,1451.51 1326.31,1450.14 1328.22,1448.78 1330.14,1447.41 1332.06,1446.05 1333.98,1444.69 \n",
       "  1335.9,1443.33 1337.82,1441.97 1339.74,1440.62 1341.65,1439.26 1343.57,1437.91 1345.49,1436.56 1347.41,1435.21 1349.33,1433.86 1351.25,1432.52 1353.17,1431.18 \n",
       "  1355.08,1429.83 1357,1428.49 1358.92,1427.15 1360.84,1425.82 1362.76,1424.48 1364.68,1423.15 1366.6,1421.81 1368.51,1420.48 1370.43,1419.15 1372.35,1417.83 \n",
       "  1374.27,1416.5 1376.19,1415.18 1378.11,1413.85 1380.03,1412.53 1381.94,1411.21 1383.86,1409.9 1385.78,1408.58 1387.7,1407.27 1389.62,1405.95 1391.54,1404.64 \n",
       "  1393.46,1403.33 1395.37,1402.02 1397.29,1400.72 1399.21,1399.41 1401.13,1398.11 1403.05,1396.8 1404.97,1395.5 1406.89,1394.2 1408.81,1392.91 1410.72,1391.61 \n",
       "  1412.64,1390.31 1414.56,1389.02 1416.48,1387.73 1418.4,1386.44 1420.32,1385.15 1422.24,1383.86 1424.15,1382.57 1426.07,1381.29 1427.99,1380.01 1429.91,1378.72 \n",
       "  1431.83,1377.44 1433.75,1376.17 1435.67,1374.89 1437.58,1373.61 1439.5,1372.34 1441.42,1371.06 1443.34,1369.79 1445.26,1368.52 1447.18,1367.25 1449.1,1365.98 \n",
       "  1451.01,1364.72 1452.93,1363.45 1454.85,1362.19 1456.77,1360.93 1458.69,1359.66 1460.61,1358.4 1462.53,1357.15 1464.44,1355.89 1466.36,1354.63 1468.28,1353.38 \n",
       "  1470.2,1352.13 1472.12,1350.87 1474.04,1349.62 1475.96,1348.37 1477.87,1347.13 1479.79,1345.88 1481.71,1344.63 1483.63,1343.39 1485.55,1342.15 1487.47,1340.91 \n",
       "  1489.39,1339.66 1491.3,1338.43 1493.22,1337.19 1495.14,1335.95 1497.06,1334.72 1498.98,1333.48 1500.9,1332.25 1502.82,1331.02 1504.74,1329.79 1506.65,1328.56 \n",
       "  1508.57,1327.33 1510.49,1326.1 1512.41,1324.88 1514.33,1323.65 1516.25,1322.43 1518.17,1321.21 1520.08,1319.99 1522,1318.77 1523.92,1317.55 1525.84,1316.33 \n",
       "  1527.76,1315.11 1529.68,1313.9 1531.6,1312.68 1533.51,1311.47 1535.43,1310.26 1537.35,1309.05 1539.27,1307.84 1541.19,1306.63 1543.11,1305.42 1545.03,1304.22 \n",
       "  1546.94,1303.01 1548.86,1301.81 1550.78,1300.6 1552.7,1299.4 1554.62,1298.2 1556.54,1297 1558.46,1295.8 1560.37,1294.61 1562.29,1293.41 1564.21,1292.21 \n",
       "  1566.13,1291.02 1568.05,1289.83 1569.97,1288.63 1571.89,1287.44 1573.8,1286.25 1575.72,1285.06 1577.64,1283.87 1579.56,1282.69 1581.48,1281.5 1583.4,1280.31 \n",
       "  1585.32,1279.13 1587.23,1277.95 1589.15,1276.76 1591.07,1275.58 1592.99,1274.4 1594.91,1273.22 1596.83,1272.05 1598.75,1270.87 1600.66,1269.69 1602.58,1268.52 \n",
       "  1604.5,1267.34 1606.42,1266.17 1608.34,1265 1610.26,1263.82 1612.18,1262.65 1614.1,1261.48 1616.01,1260.31 1617.93,1259.15 1619.85,1257.98 1621.77,1256.81 \n",
       "  1623.69,1255.65 1625.61,1254.48 1627.53,1253.32 1629.44,1252.16 1631.36,1251 1633.28,1249.83 1635.2,1248.67 1637.12,1247.52 1639.04,1246.36 1640.96,1245.2 \n",
       "  1642.87,1244.04 1644.79,1242.89 1646.71,1241.73 1648.63,1240.58 1650.55,1239.43 1652.47,1238.27 1654.39,1237.12 1656.3,1235.97 1658.22,1234.82 1660.14,1233.67 \n",
       "  1662.06,1232.52 1663.98,1231.38 1665.9,1230.23 1667.82,1229.08 1669.73,1227.94 1671.65,1226.79 1673.57,1225.65 1675.49,1224.51 1677.41,1223.37 1679.33,1222.23 \n",
       "  1681.25,1221.09 1683.16,1219.95 1685.08,1218.81 1687,1217.67 1688.92,1216.53 1690.84,1215.4 1692.76,1214.26 1694.68,1213.12 1696.59,1211.99 1698.51,1210.86 \n",
       "  1700.43,1209.72 1702.35,1208.59 1704.27,1207.46 1706.19,1206.33 1708.11,1205.2 1710.03,1204.07 1711.94,1202.94 1713.86,1201.81 1715.78,1200.68 1717.7,1199.56 \n",
       "  1719.62,1198.43 1721.54,1197.31 1723.46,1196.18 1725.37,1195.06 1727.29,1193.93 1729.21,1192.81 1731.13,1191.69 1733.05,1190.57 1734.97,1189.45 1736.89,1188.33 \n",
       "  1738.8,1187.21 1740.72,1186.09 1742.64,1184.97 1744.56,1183.85 1746.48,1182.74 1748.4,1181.62 1750.32,1180.5 1752.23,1179.39 1754.15,1178.27 1756.07,1177.16 \n",
       "  1757.99,1176.05 1759.91,1174.93 1761.83,1173.82 1763.75,1172.71 1765.66,1171.6 1767.58,1170.49 1769.5,1169.38 1771.42,1168.27 1773.34,1167.16 1775.26,1166.05 \n",
       "  1777.18,1164.94 1779.09,1163.84 1781.01,1162.73 1782.93,1161.62 1784.85,1160.52 1786.77,1159.41 1788.69,1158.31 1790.61,1157.2 1792.52,1156.1 1794.44,1155 \n",
       "  1796.36,1153.9 1798.28,1152.79 1800.2,1151.69 1802.12,1150.59 1804.04,1149.49 1805.96,1148.39 1807.87,1147.29 1809.79,1146.19 1811.71,1145.09 1813.63,1143.99 \n",
       "  1815.55,1142.9 1817.47,1141.8 1819.39,1140.7 1821.3,1139.61 1823.22,1138.51 1825.14,1137.41 1827.06,1136.32 1828.98,1135.22 1830.9,1134.13 1832.82,1133.04 \n",
       "  1834.73,1131.94 1836.65,1130.85 1838.57,1129.76 1840.49,1128.66 1842.41,1127.57 1844.33,1126.48 1846.25,1125.39 1848.16,1124.3 1850.08,1123.21 1852,1122.12 \n",
       "  1853.92,1121.03 1855.84,1119.94 1857.76,1118.85 1859.68,1117.76 1861.59,1116.67 1863.51,1115.59 1865.43,1114.5 1867.35,1113.41 1869.27,1112.32 1871.19,1111.24 \n",
       "  1873.11,1110.15 1875.02,1109.07 1876.94,1107.98 1878.86,1106.9 1880.78,1105.81 1882.7,1104.73 1884.62,1103.64 1886.54,1102.56 1888.45,1101.47 1890.37,1100.39 \n",
       "  1892.29,1099.31 1894.21,1098.22 1896.13,1097.14 1898.05,1096.06 1899.97,1094.98 1901.89,1093.9 1903.8,1092.81 1905.72,1091.73 1907.64,1090.65 1909.56,1089.57 \n",
       "  1911.48,1088.49 1913.4,1087.41 1915.32,1086.33 1917.23,1085.25 1919.15,1084.17 1921.07,1083.09 1922.99,1082.01 1924.91,1080.93 1926.83,1079.85 1928.75,1078.77 \n",
       "  1930.66,1077.7 1932.58,1076.62 1934.5,1075.54 1936.42,1074.46 1938.34,1073.38 1940.26,1072.31 1942.18,1071.23 1944.09,1070.15 1946.01,1069.08 1947.93,1068 \n",
       "  1949.85,1066.92 1951.77,1065.84 1953.69,1064.77 1955.61,1063.69 1957.52,1062.62 1959.44,1061.54 1961.36,1060.46 1963.28,1059.39 1965.2,1058.31 1967.12,1057.24 \n",
       "  1969.04,1056.16 1970.95,1055.08 1972.87,1054.01 1974.79,1052.93 1976.71,1051.86 1978.63,1050.78 1980.55,1049.71 1982.47,1048.63 1984.38,1047.56 1986.3,1046.48 \n",
       "  1988.22,1045.41 1990.14,1044.33 1992.06,1043.26 1993.98,1042.18 1995.9,1041.11 1997.82,1040.03 1999.73,1038.96 2001.65,1037.89 2003.57,1036.81 2005.49,1035.74 \n",
       "  2007.41,1034.66 2009.33,1033.59 2011.25,1032.51 2013.16,1031.44 2015.08,1030.36 2017,1029.29 2018.92,1028.21 2020.84,1027.14 2022.76,1026.06 2024.68,1024.99 \n",
       "  2026.59,1023.91 2028.51,1022.84 2030.43,1021.76 2032.35,1020.69 2034.27,1019.61 2036.19,1018.54 2038.11,1017.46 2040.02,1016.39 2041.94,1015.31 2043.86,1014.24 \n",
       "  2045.78,1013.16 2047.7,1012.09 2049.62,1011.01 2051.54,1009.93 2053.45,1008.86 2055.37,1007.78 2057.29,1006.71 2059.21,1005.63 2061.13,1004.55 2063.05,1003.48 \n",
       "  2064.97,1002.4 2066.88,1001.32 2068.8,1000.24 2070.72,999.168 2072.64,998.09 2074.56,997.012 2076.48,995.934 2078.4,994.856 2080.31,993.778 2082.23,992.7 \n",
       "  2084.15,991.621 2086.07,990.542 2087.99,989.463 2089.91,988.384 2091.83,987.304 2093.75,986.224 2095.66,985.144 2097.58,984.064 2099.5,982.984 2101.42,981.903 \n",
       "  2103.34,980.822 2105.26,979.741 2107.18,978.659 2109.09,977.577 2111.01,976.495 2112.93,975.413 2114.85,974.33 2116.77,973.247 2118.69,972.164 2120.61,971.08 \n",
       "  2122.52,969.996 2124.44,968.912 2126.36,967.827 2128.28,966.742 2130.2,965.657 2132.12,964.572 2134.04,963.486 2135.95,962.399 2137.87,961.313 2139.79,960.225 \n",
       "  2141.71,959.138 2143.63,958.05 2145.55,956.962 2147.47,955.873 2149.38,954.784 2151.3,953.695 2153.22,952.605 2155.14,951.515 2157.06,950.424 2158.98,949.333 \n",
       "  2160.9,948.241 2162.81,947.149 2164.73,946.057 2166.65,944.964 2168.57,943.871 2170.49,942.777 2172.41,941.682 2174.33,940.588 2176.24,939.492 2178.16,938.396 \n",
       "  2180.08,937.3 2182,936.203 2183.92,935.106 2185.84,934.008 2187.76,932.91 2189.67,931.811 2191.59,930.711 2193.51,929.611 2195.43,928.51 2197.35,927.409 \n",
       "  2199.27,926.307 2201.19,925.205 2203.11,924.102 2205.02,922.998 2206.94,921.894 2208.86,920.79 2210.78,919.684 2212.7,918.578 2214.62,917.471 2216.54,916.364 \n",
       "  2218.45,915.256 2220.37,914.148 2222.29,913.038 2224.21,911.928 2226.13,910.818 2228.05,909.706 2229.97,908.594 2231.88,907.482 2233.8,906.368 2235.72,905.254 \n",
       "  2237.64,904.139 2239.56,903.024 2241.48,901.907 2243.4,900.79 2245.31,899.672 2247.23,898.554 2249.15,897.434 2251.07,896.314 2252.99,895.193 2254.91,894.071 \n",
       "  \n",
       "  \"/>\n",
       "<circle clip-path=\"url(#clip472)\" cx=\"2254.91\" cy=\"894.071\" r=\"14.4\" fill=\"#ff0000\" fill-rule=\"evenodd\" fill-opacity=\"1\" stroke=\"#000000\" stroke-opacity=\"1\" stroke-width=\"3.2\"/>\n",
       "<polyline clip-path=\"url(#clip472)\" style=\"stroke:#0000ff; stroke-linecap:round; stroke-linejoin:round; stroke-width:4; stroke-opacity:1; fill:none\" stroke-dasharray=\"16, 10\" points=\"\n",
       "  2254.91,1423.18 2254.91,1003.45 \n",
       "  \"/>\n",
       "<polyline clip-path=\"url(#clip472)\" style=\"stroke:#0000ff; stroke-linecap:round; stroke-linejoin:round; stroke-width:4; stroke-opacity:1; fill:none\" stroke-dasharray=\"16, 10\" points=\"\n",
       "  242.297,1003.45 2254.91,1003.45 \n",
       "  \"/>\n",
       "<polyline clip-path=\"url(#clip472)\" style=\"stroke:#ff0000; stroke-linecap:round; stroke-linejoin:round; stroke-width:4; stroke-opacity:1; fill:none\" stroke-dasharray=\"16, 10\" points=\"\n",
       "  2254.91,1423.18 2254.91,894.071 \n",
       "  \"/>\n",
       "<polyline clip-path=\"url(#clip472)\" style=\"stroke:#ff0000; stroke-linecap:round; stroke-linejoin:round; stroke-width:4; stroke-opacity:1; fill:none\" stroke-dasharray=\"16, 10\" points=\"\n",
       "  242.297,894.071 2254.91,894.071 \n",
       "  \"/>\n",
       "<path clip-path=\"url(#clip470)\" d=\"\n",
       "M312.645 1377.32 L781.19 1377.32 L781.19 1118.12 L312.645 1118.12  Z\n",
       "  \" fill=\"#ffffff\" fill-rule=\"evenodd\" fill-opacity=\"1\"/>\n",
       "<polyline clip-path=\"url(#clip470)\" style=\"stroke:#000000; stroke-linecap:round; stroke-linejoin:round; stroke-width:4; stroke-opacity:1; fill:none\" points=\"\n",
       "  312.645,1377.32 781.19,1377.32 781.19,1118.12 312.645,1118.12 312.645,1377.32 \n",
       "  \"/>\n",
       "<polyline clip-path=\"url(#clip470)\" style=\"stroke:#0000ff; stroke-linecap:round; stroke-linejoin:round; stroke-width:4; stroke-opacity:1; fill:none\" points=\"\n",
       "  336.095,1169.96 476.792,1169.96 \n",
       "  \"/>\n",
       "<path clip-path=\"url(#clip470)\" d=\"M500.242 1152.68 L506.538 1152.68 L521.862 1181.59 L521.862 1152.68 L526.399 1152.68 L526.399 1187.24 L520.103 1187.24 L504.779 1158.32 L504.779 1187.24 L500.242 1187.24 L500.242 1152.68 Z\" fill=\"#000000\" fill-rule=\"evenodd\" fill-opacity=\"1\" /><path clip-path=\"url(#clip470)\" d=\"M535.079 1177 L535.079 1161.31 L539.339 1161.31 L539.339 1176.84 Q539.339 1180.52 540.774 1182.37 Q542.209 1184.2 545.079 1184.2 Q548.528 1184.2 550.519 1182 Q552.533 1179.8 552.533 1176.01 L552.533 1161.31 L556.792 1161.31 L556.792 1187.24 L552.533 1187.24 L552.533 1183.25 Q550.982 1185.61 548.922 1186.77 Q546.885 1187.91 544.177 1187.91 Q539.709 1187.91 537.394 1185.13 Q535.079 1182.35 535.079 1177 M545.797 1160.68 L545.797 1160.68 Z\" fill=\"#000000\" fill-rule=\"evenodd\" fill-opacity=\"1\" /><path clip-path=\"url(#clip470)\" d=\"M565.565 1151.22 L569.825 1151.22 L569.825 1187.24 L565.565 1187.24 L565.565 1151.22 Z\" fill=\"#000000\" fill-rule=\"evenodd\" fill-opacity=\"1\" /><path clip-path=\"url(#clip470)\" d=\"M578.737 1151.22 L582.996 1151.22 L582.996 1187.24 L578.737 1187.24 L578.737 1151.22 Z\" fill=\"#000000\" fill-rule=\"evenodd\" fill-opacity=\"1\" /><circle clip-path=\"url(#clip470)\" cx=\"406.444\" cy=\"1221.8\" r=\"23.04\" fill=\"#0000ff\" fill-rule=\"evenodd\" fill-opacity=\"1\" stroke=\"#000000\" stroke-opacity=\"1\" stroke-width=\"5.12\"/>\n",
       "<path clip-path=\"url(#clip470)\" d=\"M520.589 1218.13 Q522.186 1215.26 524.408 1213.89 Q526.63 1212.52 529.64 1212.52 Q533.691 1212.52 535.89 1215.37 Q538.089 1218.2 538.089 1223.43 L538.089 1239.08 L533.806 1239.08 L533.806 1223.57 Q533.806 1219.84 532.487 1218.03 Q531.167 1216.23 528.459 1216.23 Q525.149 1216.23 523.228 1218.43 Q521.306 1220.63 521.306 1224.42 L521.306 1239.08 L517.024 1239.08 L517.024 1223.57 Q517.024 1219.82 515.705 1218.03 Q514.385 1216.23 511.631 1216.23 Q508.367 1216.23 506.445 1218.45 Q504.524 1220.65 504.524 1224.42 L504.524 1239.08 L500.242 1239.08 L500.242 1213.15 L504.524 1213.15 L504.524 1217.18 Q505.982 1214.79 508.019 1213.66 Q510.056 1212.52 512.857 1212.52 Q515.681 1212.52 517.649 1213.96 Q519.64 1215.39 520.589 1218.13 Z\" fill=\"#000000\" fill-rule=\"evenodd\" fill-opacity=\"1\" /><path clip-path=\"url(#clip470)\" d=\"M558.366 1226.04 Q553.204 1226.04 551.214 1227.22 Q549.223 1228.4 549.223 1231.25 Q549.223 1233.52 550.704 1234.86 Q552.209 1236.18 554.778 1236.18 Q558.32 1236.18 560.45 1233.68 Q562.602 1231.16 562.602 1226.99 L562.602 1226.04 L558.366 1226.04 M566.862 1224.28 L566.862 1239.08 L562.602 1239.08 L562.602 1235.14 Q561.144 1237.5 558.968 1238.64 Q556.792 1239.75 553.644 1239.75 Q549.663 1239.75 547.302 1237.52 Q544.964 1235.28 544.964 1231.53 Q544.964 1227.15 547.88 1224.93 Q550.82 1222.71 556.63 1222.71 L562.602 1222.71 L562.602 1222.29 Q562.602 1219.35 560.658 1217.76 Q558.737 1216.14 555.241 1216.14 Q553.019 1216.14 550.913 1216.67 Q548.806 1217.2 546.862 1218.27 L546.862 1214.33 Q549.2 1213.43 551.399 1212.99 Q553.598 1212.52 555.681 1212.52 Q561.306 1212.52 564.084 1215.44 Q566.862 1218.36 566.862 1224.28 Z\" fill=\"#000000\" fill-rule=\"evenodd\" fill-opacity=\"1\" /><path clip-path=\"url(#clip470)\" d=\"M597.186 1213.15 L587.811 1225.77 L597.672 1239.08 L592.649 1239.08 L585.102 1228.89 L577.556 1239.08 L572.533 1239.08 L582.602 1225.51 L573.389 1213.15 L578.413 1213.15 L585.288 1222.39 L592.163 1213.15 L597.186 1213.15 Z\" fill=\"#000000\" fill-rule=\"evenodd\" fill-opacity=\"1\" /><path clip-path=\"url(#clip470)\" d=\"M603.875 1204.52 L608.551 1204.52 L608.551 1235.14 L625.38 1235.14 L625.38 1239.08 L603.875 1239.08 L603.875 1204.52 Z\" fill=\"#000000\" fill-rule=\"evenodd\" fill-opacity=\"1\" /><path clip-path=\"url(#clip470)\" d=\"M630.287 1204.52 L634.963 1204.52 L634.963 1235.14 L651.792 1235.14 L651.792 1239.08 L630.287 1239.08 L630.287 1204.52 Z\" fill=\"#000000\" fill-rule=\"evenodd\" fill-opacity=\"1\" /><path clip-path=\"url(#clip470)\" d=\"M676.213 1246.95 L676.213 1250.26 L651.583 1250.26 L651.583 1246.95 L676.213 1246.95 Z\" fill=\"#000000\" fill-rule=\"evenodd\" fill-opacity=\"1\" /><path clip-path=\"url(#clip470)\" d=\"M701.768 1223.43 L701.768 1239.08 L697.509 1239.08 L697.509 1223.57 Q697.509 1219.89 696.074 1218.06 Q694.639 1216.23 691.768 1216.23 Q688.319 1216.23 686.329 1218.43 Q684.338 1220.63 684.338 1224.42 L684.338 1239.08 L680.056 1239.08 L680.056 1213.15 L684.338 1213.15 L684.338 1217.18 Q685.866 1214.84 687.926 1213.68 Q690.009 1212.52 692.718 1212.52 Q697.185 1212.52 699.477 1215.3 Q701.768 1218.06 701.768 1223.43 Z\" fill=\"#000000\" fill-rule=\"evenodd\" fill-opacity=\"1\" /><path clip-path=\"url(#clip470)\" d=\"M709.824 1228.84 L709.824 1213.15 L714.083 1213.15 L714.083 1228.68 Q714.083 1232.36 715.518 1234.21 Q716.954 1236.04 719.824 1236.04 Q723.273 1236.04 725.264 1233.84 Q727.278 1231.64 727.278 1227.85 L727.278 1213.15 L731.537 1213.15 L731.537 1239.08 L727.278 1239.08 L727.278 1235.09 Q725.727 1237.45 723.666 1238.61 Q721.629 1239.75 718.921 1239.75 Q714.454 1239.75 712.139 1236.97 Q709.824 1234.19 709.824 1228.84 M720.541 1212.52 L720.541 1212.52 Z\" fill=\"#000000\" fill-rule=\"evenodd\" fill-opacity=\"1\" /><path clip-path=\"url(#clip470)\" d=\"M740.31 1203.06 L744.569 1203.06 L744.569 1239.08 L740.31 1239.08 L740.31 1203.06 Z\" fill=\"#000000\" fill-rule=\"evenodd\" fill-opacity=\"1\" /><path clip-path=\"url(#clip470)\" d=\"M753.481 1203.06 L757.74 1203.06 L757.74 1239.08 L753.481 1239.08 L753.481 1203.06 Z\" fill=\"#000000\" fill-rule=\"evenodd\" fill-opacity=\"1\" /><polyline clip-path=\"url(#clip470)\" style=\"stroke:#ff0000; stroke-linecap:round; stroke-linejoin:round; stroke-width:4; stroke-opacity:1; fill:none\" points=\"\n",
       "  336.095,1273.64 476.792,1273.64 \n",
       "  \"/>\n",
       "<path clip-path=\"url(#clip470)\" d=\"M516.075 1260.96 L509.732 1278.16 L522.441 1278.16 L516.075 1260.96 M513.436 1256.36 L518.737 1256.36 L531.908 1290.92 L527.047 1290.92 L523.899 1282.05 L508.32 1282.05 L505.172 1290.92 L500.242 1290.92 L513.436 1256.36 Z\" fill=\"#000000\" fill-rule=\"evenodd\" fill-opacity=\"1\" /><path clip-path=\"url(#clip470)\" d=\"M536.769 1254.9 L541.029 1254.9 L541.029 1290.92 L536.769 1290.92 L536.769 1254.9 Z\" fill=\"#000000\" fill-rule=\"evenodd\" fill-opacity=\"1\" /><path clip-path=\"url(#clip470)\" d=\"M554.153 1257.63 L554.153 1264.99 L562.927 1264.99 L562.927 1268.3 L554.153 1268.3 L554.153 1282.37 Q554.153 1285.54 555.01 1286.45 Q555.89 1287.35 558.552 1287.35 L562.927 1287.35 L562.927 1290.92 L558.552 1290.92 Q553.621 1290.92 551.746 1289.09 Q549.871 1287.23 549.871 1282.37 L549.871 1268.3 L546.746 1268.3 L546.746 1264.99 L549.871 1264.99 L549.871 1257.63 L554.153 1257.63 Z\" fill=\"#000000\" fill-rule=\"evenodd\" fill-opacity=\"1\" /><path clip-path=\"url(#clip470)\" d=\"M588.227 1298.79 L588.227 1302.1 L563.598 1302.1 L563.598 1298.79 L588.227 1298.79 Z\" fill=\"#000000\" fill-rule=\"evenodd\" fill-opacity=\"1\" /><path clip-path=\"url(#clip470)\" d=\"M596.862 1286.98 L613.181 1286.98 L613.181 1290.92 L591.237 1290.92 L591.237 1286.98 Q593.899 1284.23 598.482 1279.6 Q603.088 1274.94 604.269 1273.6 Q606.514 1271.08 607.394 1269.34 Q608.297 1267.58 608.297 1265.89 Q608.297 1263.14 606.352 1261.4 Q604.431 1259.67 601.329 1259.67 Q599.13 1259.67 596.676 1260.43 Q594.246 1261.19 591.468 1262.74 L591.468 1258.02 Q594.292 1256.89 596.746 1256.31 Q599.2 1255.73 601.237 1255.73 Q606.607 1255.73 609.801 1258.42 Q612.996 1261.1 612.996 1265.59 Q612.996 1267.72 612.186 1269.64 Q611.399 1271.54 609.292 1274.13 Q608.713 1274.8 605.612 1278.02 Q602.51 1281.22 596.862 1286.98 Z\" fill=\"#000000\" fill-rule=\"evenodd\" fill-opacity=\"1\" /><circle clip-path=\"url(#clip470)\" cx=\"406.444\" cy=\"1325.48\" r=\"23.04\" fill=\"#ff0000\" fill-rule=\"evenodd\" fill-opacity=\"1\" stroke=\"#000000\" stroke-opacity=\"1\" stroke-width=\"5.12\"/>\n",
       "<path clip-path=\"url(#clip470)\" d=\"M520.589 1321.81 Q522.186 1318.94 524.408 1317.57 Q526.63 1316.2 529.64 1316.2 Q533.691 1316.2 535.89 1319.05 Q538.089 1321.88 538.089 1327.11 L538.089 1342.76 L533.806 1342.76 L533.806 1327.25 Q533.806 1323.52 532.487 1321.71 Q531.167 1319.91 528.459 1319.91 Q525.149 1319.91 523.228 1322.11 Q521.306 1324.31 521.306 1328.1 L521.306 1342.76 L517.024 1342.76 L517.024 1327.25 Q517.024 1323.5 515.705 1321.71 Q514.385 1319.91 511.631 1319.91 Q508.367 1319.91 506.445 1322.13 Q504.524 1324.33 504.524 1328.1 L504.524 1342.76 L500.242 1342.76 L500.242 1316.83 L504.524 1316.83 L504.524 1320.86 Q505.982 1318.47 508.019 1317.34 Q510.056 1316.2 512.857 1316.2 Q515.681 1316.2 517.649 1317.64 Q519.64 1319.07 520.589 1321.81 Z\" fill=\"#000000\" fill-rule=\"evenodd\" fill-opacity=\"1\" /><path clip-path=\"url(#clip470)\" d=\"M558.366 1329.72 Q553.204 1329.72 551.214 1330.9 Q549.223 1332.08 549.223 1334.93 Q549.223 1337.2 550.704 1338.54 Q552.209 1339.86 554.778 1339.86 Q558.32 1339.86 560.45 1337.36 Q562.602 1334.84 562.602 1330.67 L562.602 1329.72 L558.366 1329.72 M566.862 1327.96 L566.862 1342.76 L562.602 1342.76 L562.602 1338.82 Q561.144 1341.18 558.968 1342.32 Q556.792 1343.43 553.644 1343.43 Q549.663 1343.43 547.302 1341.2 Q544.964 1338.96 544.964 1335.21 Q544.964 1330.83 547.88 1328.61 Q550.82 1326.39 556.63 1326.39 L562.602 1326.39 L562.602 1325.97 Q562.602 1323.03 560.658 1321.44 Q558.737 1319.82 555.241 1319.82 Q553.019 1319.82 550.913 1320.35 Q548.806 1320.88 546.862 1321.95 L546.862 1318.01 Q549.2 1317.11 551.399 1316.67 Q553.598 1316.2 555.681 1316.2 Q561.306 1316.2 564.084 1319.12 Q566.862 1322.04 566.862 1327.96 Z\" fill=\"#000000\" fill-rule=\"evenodd\" fill-opacity=\"1\" /><path clip-path=\"url(#clip470)\" d=\"M597.186 1316.83 L587.811 1329.45 L597.672 1342.76 L592.649 1342.76 L585.102 1332.57 L577.556 1342.76 L572.533 1342.76 L582.602 1329.19 L573.389 1316.83 L578.413 1316.83 L585.288 1326.07 L592.163 1316.83 L597.186 1316.83 Z\" fill=\"#000000\" fill-rule=\"evenodd\" fill-opacity=\"1\" /><path clip-path=\"url(#clip470)\" d=\"M603.875 1308.2 L608.551 1308.2 L608.551 1338.82 L625.38 1338.82 L625.38 1342.76 L603.875 1342.76 L603.875 1308.2 Z\" fill=\"#000000\" fill-rule=\"evenodd\" fill-opacity=\"1\" /><path clip-path=\"url(#clip470)\" d=\"M630.287 1308.2 L634.963 1308.2 L634.963 1338.82 L651.792 1338.82 L651.792 1342.76 L630.287 1342.76 L630.287 1308.2 Z\" fill=\"#000000\" fill-rule=\"evenodd\" fill-opacity=\"1\" /><path clip-path=\"url(#clip470)\" d=\"M676.213 1350.63 L676.213 1353.94 L651.583 1353.94 L651.583 1350.63 L676.213 1350.63 Z\" fill=\"#000000\" fill-rule=\"evenodd\" fill-opacity=\"1\" /><path clip-path=\"url(#clip470)\" d=\"M692 1329.72 Q686.838 1329.72 684.847 1330.9 Q682.856 1332.08 682.856 1334.93 Q682.856 1337.2 684.338 1338.54 Q685.843 1339.86 688.412 1339.86 Q691.954 1339.86 694.083 1337.36 Q696.236 1334.84 696.236 1330.67 L696.236 1329.72 L692 1329.72 M700.495 1327.96 L700.495 1342.76 L696.236 1342.76 L696.236 1338.82 Q694.778 1341.18 692.602 1342.32 Q690.426 1343.43 687.278 1343.43 Q683.296 1343.43 680.935 1341.2 Q678.597 1338.96 678.597 1335.21 Q678.597 1330.83 681.514 1328.61 Q684.454 1326.39 690.264 1326.39 L696.236 1326.39 L696.236 1325.97 Q696.236 1323.03 694.292 1321.44 Q692.37 1319.82 688.875 1319.82 Q686.653 1319.82 684.546 1320.35 Q682.44 1320.88 680.495 1321.95 L680.495 1318.01 Q682.833 1317.11 685.032 1316.67 Q687.231 1316.2 689.315 1316.2 Q694.94 1316.2 697.718 1319.12 Q700.495 1322.04 700.495 1327.96 Z\" fill=\"#000000\" fill-rule=\"evenodd\" fill-opacity=\"1\" /><path clip-path=\"url(#clip470)\" d=\"M709.268 1306.74 L713.528 1306.74 L713.528 1342.76 L709.268 1342.76 L709.268 1306.74 Z\" fill=\"#000000\" fill-rule=\"evenodd\" fill-opacity=\"1\" /><path clip-path=\"url(#clip470)\" d=\"M726.653 1309.47 L726.653 1316.83 L735.426 1316.83 L735.426 1320.14 L726.653 1320.14 L726.653 1334.21 Q726.653 1337.38 727.509 1338.29 Q728.389 1339.19 731.051 1339.19 L735.426 1339.19 L735.426 1342.76 L731.051 1342.76 Q726.12 1342.76 724.245 1340.93 Q722.37 1339.07 722.37 1334.21 L722.37 1320.14 L719.245 1320.14 L719.245 1316.83 L722.37 1316.83 L722.37 1309.47 L726.653 1309.47 Z\" fill=\"#000000\" fill-rule=\"evenodd\" fill-opacity=\"1\" /><path clip-path=\"url(#clip470)\" d=\"M2202.22 1408.98 Q2198.61 1408.98 2196.78 1412.54 Q2194.98 1416.08 2194.98 1423.21 Q2194.98 1430.32 2196.78 1433.89 Q2198.61 1437.43 2202.22 1437.43 Q2205.86 1437.43 2207.66 1433.89 Q2209.49 1430.32 2209.49 1423.21 Q2209.49 1416.08 2207.66 1412.54 Q2205.86 1408.98 2202.22 1408.98 M2202.22 1405.27 Q2208.03 1405.27 2211.09 1409.88 Q2214.17 1414.46 2214.17 1423.21 Q2214.17 1431.94 2211.09 1436.55 Q2208.03 1441.13 2202.22 1441.13 Q2196.41 1441.13 2193.33 1436.55 Q2190.28 1431.94 2190.28 1423.21 Q2190.28 1414.46 2193.33 1409.88 Q2196.41 1405.27 2202.22 1405.27 Z\" fill=\"#0000ff\" fill-rule=\"evenodd\" fill-opacity=\"1\" /><path clip-path=\"url(#clip470)\" d=\"M2222.38 1434.58 L2227.27 1434.58 L2227.27 1440.46 L2222.38 1440.46 L2222.38 1434.58 Z\" fill=\"#0000ff\" fill-rule=\"evenodd\" fill-opacity=\"1\" /><path clip-path=\"url(#clip470)\" d=\"M2237.59 1439.74 L2237.59 1435.48 Q2239.35 1436.32 2241.16 1436.76 Q2242.96 1437.2 2244.7 1437.2 Q2249.33 1437.2 2251.76 1434.09 Q2254.21 1430.97 2254.56 1424.63 Q2253.22 1426.62 2251.16 1427.68 Q2249.1 1428.75 2246.6 1428.75 Q2241.41 1428.75 2238.38 1425.62 Q2235.37 1422.47 2235.37 1417.03 Q2235.37 1411.71 2238.52 1408.49 Q2241.67 1405.27 2246.9 1405.27 Q2252.89 1405.27 2256.04 1409.88 Q2259.21 1414.46 2259.21 1423.21 Q2259.21 1431.39 2255.32 1436.27 Q2251.46 1441.13 2244.91 1441.13 Q2243.15 1441.13 2241.34 1440.78 Q2239.54 1440.44 2237.59 1439.74 M2246.9 1425.09 Q2250.05 1425.09 2251.87 1422.94 Q2253.73 1420.78 2253.73 1417.03 Q2253.73 1413.31 2251.87 1411.15 Q2250.05 1408.98 2246.9 1408.98 Q2243.75 1408.98 2241.9 1411.15 Q2240.07 1413.31 2240.07 1417.03 Q2240.07 1420.78 2241.9 1422.94 Q2243.75 1425.09 2246.9 1425.09 Z\" fill=\"#0000ff\" fill-rule=\"evenodd\" fill-opacity=\"1\" /><path clip-path=\"url(#clip470)\" d=\"M2267.75 1439.74 L2267.75 1435.48 Q2269.51 1436.32 2271.32 1436.76 Q2273.12 1437.2 2274.86 1437.2 Q2279.49 1437.2 2281.92 1434.09 Q2284.37 1430.97 2284.72 1424.63 Q2283.38 1426.62 2281.32 1427.68 Q2279.26 1428.75 2276.76 1428.75 Q2271.57 1428.75 2268.54 1425.62 Q2265.53 1422.47 2265.53 1417.03 Q2265.53 1411.71 2268.68 1408.49 Q2271.83 1405.27 2277.06 1405.27 Q2283.06 1405.27 2286.2 1409.88 Q2289.37 1414.46 2289.37 1423.21 Q2289.37 1431.39 2285.49 1436.27 Q2281.62 1441.13 2275.07 1441.13 Q2273.31 1441.13 2271.5 1440.78 Q2269.7 1440.44 2267.75 1439.74 M2277.06 1425.09 Q2280.21 1425.09 2282.04 1422.94 Q2283.89 1420.78 2283.89 1417.03 Q2283.89 1413.31 2282.04 1411.15 Q2280.21 1408.98 2277.06 1408.98 Q2273.91 1408.98 2272.06 1411.15 Q2270.23 1413.31 2270.23 1417.03 Q2270.23 1420.78 2272.06 1422.94 Q2273.91 1425.09 2277.06 1425.09 Z\" fill=\"#0000ff\" fill-rule=\"evenodd\" fill-opacity=\"1\" /><path clip-path=\"url(#clip470)\" d=\"M2297.92 1439.74 L2297.92 1435.48 Q2299.68 1436.32 2301.48 1436.76 Q2303.29 1437.2 2305.02 1437.2 Q2309.65 1437.2 2312.08 1434.09 Q2314.54 1430.97 2314.88 1424.63 Q2313.54 1426.62 2311.48 1427.68 Q2309.42 1428.75 2306.92 1428.75 Q2301.74 1428.75 2298.7 1425.62 Q2295.69 1422.47 2295.69 1417.03 Q2295.69 1411.71 2298.84 1408.49 Q2301.99 1405.27 2307.22 1405.27 Q2313.22 1405.27 2316.37 1409.88 Q2319.54 1414.46 2319.54 1423.21 Q2319.54 1431.39 2315.65 1436.27 Q2311.78 1441.13 2305.23 1441.13 Q2303.47 1441.13 2301.67 1440.78 Q2299.86 1440.44 2297.92 1439.74 M2307.22 1425.09 Q2310.37 1425.09 2312.2 1422.94 Q2314.05 1420.78 2314.05 1417.03 Q2314.05 1413.31 2312.2 1411.15 Q2310.37 1408.98 2307.22 1408.98 Q2304.07 1408.98 2302.22 1411.15 Q2300.39 1413.31 2300.39 1417.03 Q2300.39 1420.78 2302.22 1422.94 Q2304.07 1425.09 2307.22 1425.09 Z\" fill=\"#0000ff\" fill-rule=\"evenodd\" fill-opacity=\"1\" /><path clip-path=\"url(#clip470)\" d=\"M2202.22 1408.98 Q2198.61 1408.98 2196.78 1412.54 Q2194.98 1416.08 2194.98 1423.21 Q2194.98 1430.32 2196.78 1433.89 Q2198.61 1437.43 2202.22 1437.43 Q2205.86 1437.43 2207.66 1433.89 Q2209.49 1430.32 2209.49 1423.21 Q2209.49 1416.08 2207.66 1412.54 Q2205.86 1408.98 2202.22 1408.98 M2202.22 1405.27 Q2208.03 1405.27 2211.09 1409.88 Q2214.17 1414.46 2214.17 1423.21 Q2214.17 1431.94 2211.09 1436.55 Q2208.03 1441.13 2202.22 1441.13 Q2196.41 1441.13 2193.33 1436.55 Q2190.28 1431.94 2190.28 1423.21 Q2190.28 1414.46 2193.33 1409.88 Q2196.41 1405.27 2202.22 1405.27 Z\" fill=\"#ff0000\" fill-rule=\"evenodd\" fill-opacity=\"1\" /><path clip-path=\"url(#clip470)\" d=\"M2222.38 1434.58 L2227.27 1434.58 L2227.27 1440.46 L2222.38 1440.46 L2222.38 1434.58 Z\" fill=\"#ff0000\" fill-rule=\"evenodd\" fill-opacity=\"1\" /><path clip-path=\"url(#clip470)\" d=\"M2237.59 1439.74 L2237.59 1435.48 Q2239.35 1436.32 2241.16 1436.76 Q2242.96 1437.2 2244.7 1437.2 Q2249.33 1437.2 2251.76 1434.09 Q2254.21 1430.97 2254.56 1424.63 Q2253.22 1426.62 2251.16 1427.68 Q2249.1 1428.75 2246.6 1428.75 Q2241.41 1428.75 2238.38 1425.62 Q2235.37 1422.47 2235.37 1417.03 Q2235.37 1411.71 2238.52 1408.49 Q2241.67 1405.27 2246.9 1405.27 Q2252.89 1405.27 2256.04 1409.88 Q2259.21 1414.46 2259.21 1423.21 Q2259.21 1431.39 2255.32 1436.27 Q2251.46 1441.13 2244.91 1441.13 Q2243.15 1441.13 2241.34 1440.78 Q2239.54 1440.44 2237.59 1439.74 M2246.9 1425.09 Q2250.05 1425.09 2251.87 1422.94 Q2253.73 1420.78 2253.73 1417.03 Q2253.73 1413.31 2251.87 1411.15 Q2250.05 1408.98 2246.9 1408.98 Q2243.75 1408.98 2241.9 1411.15 Q2240.07 1413.31 2240.07 1417.03 Q2240.07 1420.78 2241.9 1422.94 Q2243.75 1425.09 2246.9 1425.09 Z\" fill=\"#ff0000\" fill-rule=\"evenodd\" fill-opacity=\"1\" /><path clip-path=\"url(#clip470)\" d=\"M2267.75 1439.74 L2267.75 1435.48 Q2269.51 1436.32 2271.32 1436.76 Q2273.12 1437.2 2274.86 1437.2 Q2279.49 1437.2 2281.92 1434.09 Q2284.37 1430.97 2284.72 1424.63 Q2283.38 1426.62 2281.32 1427.68 Q2279.26 1428.75 2276.76 1428.75 Q2271.57 1428.75 2268.54 1425.62 Q2265.53 1422.47 2265.53 1417.03 Q2265.53 1411.71 2268.68 1408.49 Q2271.83 1405.27 2277.06 1405.27 Q2283.06 1405.27 2286.2 1409.88 Q2289.37 1414.46 2289.37 1423.21 Q2289.37 1431.39 2285.49 1436.27 Q2281.62 1441.13 2275.07 1441.13 Q2273.31 1441.13 2271.5 1440.78 Q2269.7 1440.44 2267.75 1439.74 M2277.06 1425.09 Q2280.21 1425.09 2282.04 1422.94 Q2283.89 1420.78 2283.89 1417.03 Q2283.89 1413.31 2282.04 1411.15 Q2280.21 1408.98 2277.06 1408.98 Q2273.91 1408.98 2272.06 1411.15 Q2270.23 1413.31 2270.23 1417.03 Q2270.23 1420.78 2272.06 1422.94 Q2273.91 1425.09 2277.06 1425.09 Z\" fill=\"#ff0000\" fill-rule=\"evenodd\" fill-opacity=\"1\" /><path clip-path=\"url(#clip470)\" d=\"M2297.92 1439.74 L2297.92 1435.48 Q2299.68 1436.32 2301.48 1436.76 Q2303.29 1437.2 2305.02 1437.2 Q2309.65 1437.2 2312.08 1434.09 Q2314.54 1430.97 2314.88 1424.63 Q2313.54 1426.62 2311.48 1427.68 Q2309.42 1428.75 2306.92 1428.75 Q2301.74 1428.75 2298.7 1425.62 Q2295.69 1422.47 2295.69 1417.03 Q2295.69 1411.71 2298.84 1408.49 Q2301.99 1405.27 2307.22 1405.27 Q2313.22 1405.27 2316.37 1409.88 Q2319.54 1414.46 2319.54 1423.21 Q2319.54 1431.39 2315.65 1436.27 Q2311.78 1441.13 2305.23 1441.13 Q2303.47 1441.13 2301.67 1440.78 Q2299.86 1440.44 2297.92 1439.74 M2307.22 1425.09 Q2310.37 1425.09 2312.2 1422.94 Q2314.05 1420.78 2314.05 1417.03 Q2314.05 1413.31 2312.2 1411.15 Q2310.37 1408.98 2307.22 1408.98 Q2304.07 1408.98 2302.22 1411.15 Q2300.39 1413.31 2300.39 1417.03 Q2300.39 1420.78 2302.22 1422.94 Q2304.07 1425.09 2307.22 1425.09 Z\" fill=\"#ff0000\" fill-rule=\"evenodd\" fill-opacity=\"1\" /></svg>\n"
      ]
     },
     "metadata": {},
     "output_type": "display_data"
    },
    {
     "data": {
      "text/plain": [
       "(sigma2_e = 4.1049377249986253e-8, h2_null = 0.9999999816824213, lod = [0.17615920414006947, 0.17615920414006947, 0.17615920414006947, 0.17615920414006947, 0.17615920414006947, 0.17615920414006947, 0.17615920414006947, 0.17615920414006947, 0.17615920414006947, 0.17615920414006947  …  0.09076635500657737, 0.12317486576078895, 0.3136544602489355, 0.3136544602489355, 0.6722781742264816, 0.6116341980753282, 0.6722781742264816, 0.6116341980753282, 0.8241712798392475, 0.8241712798392475])"
      ]
     },
     "execution_count": 288,
     "metadata": {},
     "output_type": "execute_result"
    }
   ],
   "source": [
    "test_a = scan(lpst_strains_y, geno_strains, kinship_strains;\n",
    "              weights = weights_true,\n",
    "              prior_variance = 1.0, prior_sample_size = 0.0, \n",
    "              optim_interval = 10, plot_loglik = true, markerID = 2, h2_grid = grid_list, y_lims = [-60.0, -55.0])"
   ]
  },
  {
   "cell_type": "code",
   "execution_count": 262,
   "id": "b74b891f-8f32-45c1-9fcb-394ab7826a42",
   "metadata": {},
   "outputs": [
    {
     "data": {
      "text/plain": [
       "0.9999999816824213"
      ]
     },
     "execution_count": 262,
     "metadata": {},
     "output_type": "execute_result"
    }
   ],
   "source": [
    "test_a.h2_null"
   ]
  },
  {
   "cell_type": "code",
   "execution_count": 263,
   "id": "d119d896-3896-4732-81c7-1119faeb27e0",
   "metadata": {},
   "outputs": [
    {
     "name": "stdout",
     "output_type": "stream",
     "text": [
      " 55.668381 seconds (455.97 M allocations: 90.124 GiB, 5.82% gc time)\n"
     ]
    }
   ],
   "source": [
    "@time test_A = bulkscan_null_grid(lpst_strains_Y, geno_strains, kinship_strains, grid_list;\n",
    "                                  weights = weights_true, \n",
    "                                  prior_variance = 1.0, prior_sample_size = 0.1);"
   ]
  },
  {
   "cell_type": "code",
   "execution_count": 266,
   "id": "be8305af-46bd-4ebd-b422-85141dff030f",
   "metadata": {},
   "outputs": [
    {
     "data": {
      "text/plain": [
       "0.931"
      ]
     },
     "execution_count": 266,
     "metadata": {},
     "output_type": "execute_result"
    }
   ],
   "source": [
    "test_A.h2_null_list[lp_id]"
   ]
  },
  {
   "cell_type": "code",
   "execution_count": 269,
   "id": "4418a344-fb04-4470-bd4c-f288ffd6bf29",
   "metadata": {},
   "outputs": [
    {
     "data": {
      "text/plain": [
       "0.9311279236201185"
      ]
     },
     "execution_count": 269,
     "metadata": {},
     "output_type": "execute_result"
    }
   ],
   "source": [
    "test_A_exact.h2_null_list[lp_id]"
   ]
  },
  {
   "cell_type": "code",
   "execution_count": 267,
   "id": "6ca0c1ff-4be8-4f1a-ae47-a1b7de756709",
   "metadata": {},
   "outputs": [
    {
     "data": {
      "text/plain": [
       "1954-element Vector{Int64}:\n",
       "    37\n",
       "    39\n",
       "    42\n",
       "    53\n",
       "    58\n",
       "    61\n",
       "    67\n",
       "    78\n",
       "   123\n",
       "   191\n",
       "   215\n",
       "   231\n",
       "   232\n",
       "     ⋮\n",
       " 32220\n",
       " 32222\n",
       " 32223\n",
       " 32227\n",
       " 32228\n",
       " 32231\n",
       " 32270\n",
       " 32372\n",
       " 32420\n",
       " 32426\n",
       " 32429\n",
       " 32437"
      ]
     },
     "execution_count": 267,
     "metadata": {},
     "output_type": "execute_result"
    }
   ],
   "source": [
    "findall(test_A.h2_null_list .>= 0.5)"
   ]
  },
  {
   "cell_type": "code",
   "execution_count": 183,
   "id": "dbe2cbfa-3f27-40c5-ad3c-81c75db775d4",
   "metadata": {},
   "outputs": [
    {
     "data": {
      "text/plain": [
       "2.6928413624628664"
      ]
     },
     "execution_count": 183,
     "metadata": {},
     "output_type": "execute_result"
    }
   ],
   "source": [
    "maximum(abs.(test_a.lod .- lod_by_hand.lod))"
   ]
  },
  {
   "cell_type": "code",
   "execution_count": 184,
   "id": "74c0e981-9d37-433d-b2e9-cc9a53d27cae",
   "metadata": {},
   "outputs": [
    {
     "data": {
      "text/plain": [
       "3.629255560717888e-16"
      ]
     },
     "execution_count": 184,
     "metadata": {},
     "output_type": "execute_result"
    }
   ],
   "source": [
    "scan_results_strains.h2_null"
   ]
  },
  {
   "cell_type": "code",
   "execution_count": 185,
   "id": "5b3717b9-bc48-4c18-b54d-f519faf147d9",
   "metadata": {},
   "outputs": [
    {
     "name": "stdout",
     "output_type": "stream",
     "text": [
      "190.379060 seconds (2.81 G allocations: 486.444 GiB, 23.83% gc time, 0.16% compilation time)\n"
     ]
    }
   ],
   "source": [
    "@time test_A_exact = bulkscan_null(lpst_strains_Y, geno_strains, kinship_strains; nb = Threads.nthreads(),\n",
    "                                   weights = weights_true, \n",
    "                                   prior_variance = 1.0, prior_sample_size = 0.1, optim_interval = 10);"
   ]
  },
  {
   "cell_type": "code",
   "execution_count": 186,
   "id": "c1b838b4-52b8-4d42-a727-3d30484f2fec",
   "metadata": {},
   "outputs": [
    {
     "data": {
      "text/plain": [
       "0.47700360368597094"
      ]
     },
     "execution_count": 186,
     "metadata": {},
     "output_type": "execute_result"
    }
   ],
   "source": [
    "test_A_exact.h2_null_list[lp_id]"
   ]
  },
  {
   "cell_type": "code",
   "execution_count": 246,
   "id": "8c3117c8-9669-48a5-98e8-46f1334748e8",
   "metadata": {},
   "outputs": [
    {
     "data": {
      "text/plain": [
       "117-element Vector{Int64}:\n",
       "   123\n",
       "   241\n",
       "   495\n",
       "   500\n",
       "   501\n",
       "   897\n",
       "   955\n",
       "   959\n",
       "  1515\n",
       "  2750\n",
       "  3199\n",
       "  3200\n",
       "  3210\n",
       "     ⋮\n",
       " 31327\n",
       " 31328\n",
       " 31329\n",
       " 31330\n",
       " 31331\n",
       " 31333\n",
       " 31334\n",
       " 31338\n",
       " 31341\n",
       " 32158\n",
       " 32213\n",
       " 32426"
      ]
     },
     "execution_count": 246,
     "metadata": {},
     "output_type": "execute_result"
    }
   ],
   "source": [
    "findall(test_A_exact.h2_null_list .>= 0.9)"
   ]
  },
  {
   "cell_type": "code",
   "execution_count": 187,
   "id": "bdd013dd-69a4-4410-9845-092db7989bbb",
   "metadata": {},
   "outputs": [
    {
     "data": {
      "text/plain": [
       "0.48"
      ]
     },
     "execution_count": 187,
     "metadata": {},
     "output_type": "execute_result"
    }
   ],
   "source": [
    "test_A.h2_null_list[lp_id]"
   ]
  },
  {
   "cell_type": "code",
   "execution_count": 188,
   "id": "1784c286-384d-4571-a1c6-96a5ddf4f62a",
   "metadata": {},
   "outputs": [
    {
     "data": {
      "text/plain": [
       "7321×3 Matrix{Float64}:\n",
       " 0.346766    0.470132   0.347721\n",
       " 0.346766    0.470132   0.347721\n",
       " 0.346766    0.470132   0.347721\n",
       " 0.346766    0.470132   0.347721\n",
       " 0.346766    0.470132   0.347721\n",
       " 0.346766    0.470132   0.347721\n",
       " 0.346766    0.470132   0.347721\n",
       " 0.346766    0.470132   0.347721\n",
       " 0.346766    0.470132   0.347721\n",
       " 0.346766    0.470132   0.347721\n",
       " 0.346766    0.470132   0.347721\n",
       " 0.346766    0.470132   0.347721\n",
       " 0.226185    0.289321   0.225985\n",
       " ⋮                      \n",
       " 0.00849478  0.0190723  0.00827439\n",
       " 0.00849478  0.0190723  0.00827439\n",
       " 0.00849478  0.0190723  0.00827439\n",
       " 0.147244    0.366897   0.148533\n",
       " 0.49964     0.751512   0.501627\n",
       " 0.49964     0.751512   0.501627\n",
       " 0.469364    0.743515   0.47156\n",
       " 0.256173    0.401996   0.257254\n",
       " 0.469364    0.743515   0.47156\n",
       " 0.256173    0.401996   0.257254\n",
       " 0.284542    0.461123   0.285633\n",
       " 0.284542    0.461123   0.285633"
      ]
     },
     "execution_count": 188,
     "metadata": {},
     "output_type": "execute_result"
    }
   ],
   "source": [
    "hcat(test_A_exact.L[:, lp_id], test_a.lod, test_A.L[:, lp_id])"
   ]
  },
  {
   "cell_type": "code",
   "execution_count": 189,
   "id": "d301e316-bb8e-45be-96c7-d9adc723adf7",
   "metadata": {},
   "outputs": [
    {
     "data": {
      "text/plain": [
       "612.4693881351816"
      ]
     },
     "execution_count": 189,
     "metadata": {},
     "output_type": "execute_result"
    }
   ],
   "source": [
    "sum(abs.(test_A_exact.L[:, lp_id] .- test_a.lod))"
   ]
  },
  {
   "cell_type": "code",
   "execution_count": 190,
   "id": "2a949cd3-c5bb-41c0-8667-30876d17a22d",
   "metadata": {},
   "outputs": [
    {
     "data": {
      "text/plain": [
       "0.725066072163604"
      ]
     },
     "execution_count": 190,
     "metadata": {},
     "output_type": "execute_result"
    }
   ],
   "source": [
    "maximum(abs.(test_A.L[:, lp_id] .- test_a.lod))"
   ]
  },
  {
   "cell_type": "markdown",
   "id": "e581b199-d92b-4b4a-950f-888df22eb3f2",
   "metadata": {},
   "source": [
    "### Multiple-trait genome scans:"
   ]
  },
  {
   "cell_type": "code",
   "execution_count": null,
   "id": "cd08a07d-6a5c-45e0-a9a3-2aa199495c2a",
   "metadata": {},
   "outputs": [],
   "source": [
    "BLAS.set_num_threads(Threads.nthreads())"
   ]
  },
  {
   "cell_type": "code",
   "execution_count": null,
   "id": "e02cca07-1c96-4fa6-89a5-4582abc864f1",
   "metadata": {},
   "outputs": [],
   "source": [
    "BLAS.get_num_threads()"
   ]
  },
  {
   "cell_type": "code",
   "execution_count": null,
   "id": "bea4f61b-409c-47a7-a2ff-00c7acebe2f0",
   "metadata": {},
   "outputs": [],
   "source": [
    "grid_list = collect(0.0:0.01:0.99);"
   ]
  },
  {
   "cell_type": "markdown",
   "id": "15398327-2dcb-4168-8f30-a8bc4c3957ae",
   "metadata": {},
   "source": [
    "#### For individual liver proteome"
   ]
  },
  {
   "cell_type": "code",
   "execution_count": null,
   "id": "e3ffddcb-2dfb-4442-a569-a50ef65a4276",
   "metadata": {},
   "outputs": [],
   "source": [
    "size(lpst_ind_Y)"
   ]
  },
  {
   "cell_type": "code",
   "execution_count": null,
   "id": "743c155d-79e5-4dad-9c70-045bced69678",
   "metadata": {},
   "outputs": [],
   "source": [
    "size(lpst_strains_Y)"
   ]
  },
  {
   "cell_type": "code",
   "execution_count": null,
   "id": "c97d6a1f-da6a-42e4-9687-037aff817b11",
   "metadata": {},
   "outputs": [],
   "source": [
    "Threads.nthreads()"
   ]
  },
  {
   "cell_type": "code",
   "execution_count": null,
   "id": "2a304cb3-24ef-483e-a3ee-9ac484b2c3fb",
   "metadata": {},
   "outputs": [],
   "source": [
    "@time bulkscan_results_ind_null = bulkscan_null(lpst_ind_Y, geno_ind, kinship_ind_from_strains; nb = Threads.nthreads(),\n",
    "                                                prior_variance = 1.0, prior_sample_size = 0.1, optim_interval = 4);"
   ]
  },
  {
   "cell_type": "code",
   "execution_count": null,
   "id": "0a73fb1d-8e91-4cc8-a227-236ceda8f66b",
   "metadata": {},
   "outputs": [],
   "source": [
    "BLAS.set_num_threads(Threads.nthreads())"
   ]
  },
  {
   "cell_type": "code",
   "execution_count": null,
   "id": "44d2515c-83a5-419a-a1d1-5e9151ceacc2",
   "metadata": {},
   "outputs": [],
   "source": [
    "@time bulkscan_results_ind_alt_grid = bulkscan_alt_grid(lpst_ind_Y, geno_ind, kinship_ind_from_strains, grid_list);"
   ]
  },
  {
   "cell_type": "code",
   "execution_count": null,
   "id": "c8b20542-0959-472e-9ae8-df190723e01e",
   "metadata": {},
   "outputs": [],
   "source": [
    "@time bulkscan_results_ind_null_grid = bulkscan_null_grid(lpst_ind_Y, geno_ind, kinship_ind_from_strains, grid_list);"
   ]
  },
  {
   "cell_type": "markdown",
   "id": "f69ba271-fe23-4764-9186-4167a256a964",
   "metadata": {},
   "source": [
    "#### For liver proteome means by strains"
   ]
  },
  {
   "cell_type": "code",
   "execution_count": null,
   "id": "f1d7f72c-5fd7-4135-94d0-7afaf3c8e396",
   "metadata": {},
   "outputs": [],
   "source": [
    "@time bulkscan_results_strains_null = bulkscan_null(lpst_strains_Y, geno_strains, kinship_strains; nb = Threads.nthreads(),\n",
    "                                                    prior_variance = 1.0, prior_sample_size = 0.1, optim_interval = 4);"
   ]
  },
  {
   "cell_type": "code",
   "execution_count": null,
   "id": "a1231e79-a93f-4fc7-8927-033d0dc5bf93",
   "metadata": {},
   "outputs": [],
   "source": [
    "BLAS.set_num_threads(Threads.nthreads())"
   ]
  },
  {
   "cell_type": "code",
   "execution_count": null,
   "id": "72a4ee75-e32b-4f97-b062-55afb687f85c",
   "metadata": {},
   "outputs": [],
   "source": [
    "@time bulkscan_results_strains_alt_grid = bulkscan_alt_grid(lpst_strains_Y, geno_strains, kinship_strains, grid_list);"
   ]
  },
  {
   "cell_type": "code",
   "execution_count": null,
   "id": "bd1ea493-2cc3-4e3c-9f4c-8faaf7cc10d2",
   "metadata": {},
   "outputs": [],
   "source": [
    "@time bulkscan_results_strains_null_grid = bulkscan_null_grid(lpst_strains_Y, geno_strains, kinship_strains, grid_list;\n",
    "                                                              prior_variance = 1.0, prior_sample_size = 0.1);"
   ]
  },
  {
   "cell_type": "code",
   "execution_count": null,
   "id": "d7680b96-f668-4e29-88c0-08bc226fb795",
   "metadata": {},
   "outputs": [],
   "source": [
    "pwd()"
   ]
  },
  {
   "cell_type": "code",
   "execution_count": null,
   "id": "1f8ce2a9-4b9c-4e5c-a10d-03169333e9fd",
   "metadata": {},
   "outputs": [],
   "source": [
    "bulkscan_results_strains_null_grid.L"
   ]
  },
  {
   "cell_type": "markdown",
   "id": "eada40c8-13e0-4830-b41e-e7c2683c9716",
   "metadata": {},
   "source": [
    "### Write-in results:"
   ]
  },
  {
   "cell_type": "code",
   "execution_count": null,
   "id": "cf58ad1f-e5ea-4f8b-8572-6f2d24614148",
   "metadata": {},
   "outputs": [],
   "source": [
    "lp_names[lp_id]"
   ]
  },
  {
   "cell_type": "code",
   "execution_count": null,
   "id": "1d38a868-1ee3-4689-82ac-847217996d74",
   "metadata": {},
   "outputs": [],
   "source": [
    "output_folder_ind_nh = \"BulkLMM_Outputs/Ind_NoHub\";\n",
    "output_folder_strains_nh = \"BulkLMM_Outputs/Strains_NoHub\";"
   ]
  },
  {
   "cell_type": "code",
   "execution_count": null,
   "id": "fd0b56d4-a4df-4b47-adfc-3a77de0b91fe",
   "metadata": {},
   "outputs": [],
   "source": [
    "pwd()"
   ]
  },
  {
   "cell_type": "markdown",
   "id": "26c1df5c-6932-42a6-81b5-46f24666f00f",
   "metadata": {},
   "source": [
    "#### Single_trait:"
   ]
  },
  {
   "cell_type": "code",
   "execution_count": null,
   "id": "846bf97e-04eb-4f2b-b6d1-19e85cdee17f",
   "metadata": {},
   "outputs": [],
   "source": []
  },
  {
   "cell_type": "code",
   "execution_count": null,
   "id": "961dbb0d-fed1-4929-bc58-0d6f3b23a2fd",
   "metadata": {},
   "outputs": [],
   "source": []
  },
  {
   "cell_type": "markdown",
   "id": "c4a2a091-53aa-48b5-8758-5be4517c2fe6",
   "metadata": {},
   "source": [
    "#### Multiple_traits:"
   ]
  },
  {
   "cell_type": "code",
   "execution_count": null,
   "id": "3d9082ae-5fb4-41d6-83be-26cbd85df42d",
   "metadata": {},
   "outputs": [],
   "source": [
    "b_ind_null = vcat(bulkscan_results_ind_null.h2_null_list', bulkscan_results_ind_null.L);"
   ]
  },
  {
   "cell_type": "code",
   "execution_count": null,
   "id": "20e3cf95-f6ba-4864-af4d-c174f932e9db",
   "metadata": {},
   "outputs": [],
   "source": [
    "b_ind_null_grid = vcat(bulkscan_results_ind_null_grid.h2_null_list', bulkscan_results_ind_null_grid.L);"
   ]
  },
  {
   "cell_type": "code",
   "execution_count": null,
   "id": "8b27e45d-8f27-49b4-85a6-d85eb52f78d4",
   "metadata": {},
   "outputs": [],
   "source": []
  },
  {
   "cell_type": "code",
   "execution_count": null,
   "id": "686deed9-6c49-401a-9c00-21c8ac6e0864",
   "metadata": {},
   "outputs": [],
   "source": []
  },
  {
   "cell_type": "code",
   "execution_count": null,
   "id": "735aa2ef-ebf0-4074-ae74-d0e19cf92eea",
   "metadata": {},
   "outputs": [],
   "source": [
    "b_strains_null = vcat(bulkscan_results_strains_null.h2_null_list', bulkscan_results_strains_null.L);"
   ]
  },
  {
   "cell_type": "code",
   "execution_count": null,
   "id": "27fece3b-43f8-405d-b91f-56273fc4394c",
   "metadata": {},
   "outputs": [],
   "source": [
    "b_strains_null_grid = vcat(bulkscan_results_strains_null_grid.h2_null_list', bulkscan_results_strains_null_grid.L);"
   ]
  },
  {
   "cell_type": "code",
   "execution_count": null,
   "id": "a659edf2-2957-410a-91d2-c0952439f7a9",
   "metadata": {},
   "outputs": [],
   "source": [
    "b_strains_null_grid = vcat(bulkscan_results_strains_null_grid.h2_null_list', bulkscan_results_strains_null_grid.L);"
   ]
  },
  {
   "cell_type": "code",
   "execution_count": null,
   "id": "18e22ec5-308e-4a4f-b10b-409aae17eac1",
   "metadata": {},
   "outputs": [],
   "source": []
  },
  {
   "cell_type": "markdown",
   "id": "1636f06a-05e5-4d55-a747-f2cb0e31b0ee",
   "metadata": {},
   "source": [
    "## Examine loglikelihood:"
   ]
  },
  {
   "cell_type": "code",
   "execution_count": null,
   "id": "84314d32-ae36-4cc2-8beb-ec6df9a666d2",
   "metadata": {},
   "outputs": [],
   "source": [
    "findall(map(x -> (x <= 0.97) & (x >= 0.93), bulkscan_results_strains_null_grid.h2_null_list))"
   ]
  },
  {
   "cell_type": "code",
   "execution_count": null,
   "id": "ac7d1b80-5a27-4d3e-b952-fe71273b47cb",
   "metadata": {},
   "outputs": [],
   "source": [
    "lp_id = 31663;"
   ]
  },
  {
   "cell_type": "code",
   "execution_count": null,
   "id": "ff5a83dc-31e7-4b2d-9aff-0d11bd4b972b",
   "metadata": {},
   "outputs": [],
   "source": [
    "lp_id = 29437;"
   ]
  },
  {
   "cell_type": "code",
   "execution_count": null,
   "id": "557a4df1-bab1-4759-9fe5-ee8b90ebb58a",
   "metadata": {},
   "outputs": [],
   "source": [
    "bulkscan_results_strains_null_grid.h2_null_list[lp_id]"
   ]
  },
  {
   "cell_type": "code",
   "execution_count": null,
   "id": "5ed199d5-31bc-4b63-9cd4-511a559237fa",
   "metadata": {},
   "outputs": [],
   "source": [
    "lpst_strains_y = reshape(lpst_strains_Y[:, lp_id], :, 1)"
   ]
  },
  {
   "cell_type": "code",
   "execution_count": null,
   "id": "b9b430e6-7ac1-4ec8-b267-fd7f67d76c23",
   "metadata": {},
   "outputs": [],
   "source": [
    "## Inputs: Original data, a given h2 to evaluate loglik on\n",
    "##         (optional) prior for regularization loglik near the upper boundary pt.\n",
    "## Outputs: the logliks (null, alt mean model) under the given h2\n",
    "function getLL(y::Array{Float64, 2}, G::Array{Float64, 2}, K::Array{Float64, 2}, \n",
    "               markerID::Int64, h2::Float64; prior::Array{Float64, 1} = [0.0, 0.0])\n",
    "    \n",
    "    Gj = reshape(G[:, markerID], :, 1);\n",
    "    (y0, X0, lambda0) = transform_rotation(y, Gj, K; addIntercept = true);\n",
    "    w = makeweights(h2, lambda0);\n",
    "    X0_inter = reshape(X0[:, 1], :, 1);\n",
    "    \n",
    "    return (ll_null = wls(y0, X0_inter, w, prior).ell, ll_markerID = wls(y0, X0, w, prior).ell)\n",
    "end\n",
    "\n",
    "function getLL(y0::Array{Float64, 2}, X0::Array{Float64, 2}, lambda0::Array{Float64, 1}, \n",
    "               markerID::Int64, h2::Float64; prior::Array{Float64, 1} = [0.0, 0.0])\n",
    "    \n",
    "    n = size(y0, 1);\n",
    "    w = makeweights(h2, lambda0);\n",
    "\n",
    "    X0_inter = reshape(X0[:, 1], :, 1);\n",
    "    X_design = zeros(n, 2);\n",
    "    X_design[:, 1] = X0[:, 1];\n",
    "    X_design[:, 2] = X0[:, markerID+1];\n",
    "    \n",
    "    return (ll_null = wls(y0, X0_inter, w, prior).ell, ll_markerID = wls(y0, X_design, w, prior).ell)\n",
    "end"
   ]
  },
  {
   "cell_type": "code",
   "execution_count": null,
   "id": "b678e8d5-f75d-48a6-b369-fb2642f5ec5b",
   "metadata": {},
   "outputs": [],
   "source": [
    "@time opt = optimize(x -> -getLL(lpst_strains_y, geno_strains, kinship_strains, 1997, x; prior = prior).ll_null, 0.0, 1.0)"
   ]
  },
  {
   "cell_type": "code",
   "execution_count": null,
   "id": "fa61ed18-c2f9-46c1-8b7f-a8b56e2c5916",
   "metadata": {},
   "outputs": [],
   "source": [
    "@time gridopt = gridbrent(x -> -getLL(lpst_strains_y, geno_strains, kinship_strains, 1997, x; prior = prior).ll_null, 0.0, 1.0, 10);"
   ]
  },
  {
   "cell_type": "code",
   "execution_count": null,
   "id": "240dbb33-7548-46d6-a29e-8a26d895d6f0",
   "metadata": {},
   "outputs": [],
   "source": [
    "gridopt.minimizer"
   ]
  },
  {
   "cell_type": "code",
   "execution_count": null,
   "id": "7eebb403-adfe-4701-9640-f1b96638e1c4",
   "metadata": {},
   "outputs": [],
   "source": [
    "@time ml_null = scan(lpst_strains_y, geno_strains, kinship_strains; \n",
    "                     prior_variance = prior[1], prior_sample_size = prior[2]);"
   ]
  },
  {
   "cell_type": "code",
   "execution_count": null,
   "id": "29ad8deb-e6c1-43d5-8b45-4b8d115413d1",
   "metadata": {},
   "outputs": [],
   "source": [
    "@time reml_null = scan(lpst_strains_y, geno_strains, kinship_strains; \n",
    "                       reml = true, \n",
    "                       prior_variance = prior[1], prior_sample_size = prior[2]);"
   ]
  },
  {
   "cell_type": "code",
   "execution_count": null,
   "id": "7590f818-3a8e-4549-87c0-2df762f4b461",
   "metadata": {},
   "outputs": [],
   "source": [
    "@time ml_alt = scan(lpst_strains_y, geno_strains, kinship_strains; \n",
    "                    reml = false, assumption = \"alt\", \n",
    "                    prior_variance = prior[1], prior_sample_size = prior[2]);"
   ]
  },
  {
   "cell_type": "code",
   "execution_count": null,
   "id": "67d93961-d10c-4dc3-ba62-0dcae7b49ff4",
   "metadata": {},
   "outputs": [],
   "source": [
    "@time reml_alt = scan(lpst_strains_y, geno_strains, kinship_strains; \n",
    "                      reml = true, assumption = \"alt\",\n",
    "                      prior_variance = prior[1], prior_sample_size = prior[2]);"
   ]
  },
  {
   "cell_type": "code",
   "execution_count": null,
   "id": "d03b2ecb-da4a-493a-b6bf-036bc115ca27",
   "metadata": {},
   "outputs": [],
   "source": [
    "opt.minimizer"
   ]
  },
  {
   "cell_type": "code",
   "execution_count": null,
   "id": "e3bbd867-f813-4b4f-ac18-37dfacd7b7c9",
   "metadata": {},
   "outputs": [],
   "source": [
    "opt.minimum"
   ]
  },
  {
   "cell_type": "code",
   "execution_count": null,
   "id": "15261040-1dc9-4e7f-98da-8e00ade3128d",
   "metadata": {},
   "outputs": [],
   "source": [
    "gridopt"
   ]
  },
  {
   "cell_type": "code",
   "execution_count": null,
   "id": "be852430-7110-4c96-ba52-69356b363633",
   "metadata": {},
   "outputs": [],
   "source": [
    "prior"
   ]
  },
  {
   "cell_type": "code",
   "execution_count": null,
   "id": "bdeb41e8-7255-4bc8-b9a3-2dbbf00d9cf1",
   "metadata": {},
   "outputs": [],
   "source": [
    "prior = [1.0, 0.1];"
   ]
  },
  {
   "cell_type": "code",
   "execution_count": null,
   "id": "d0b4cc9c-9325-4dbd-8ca2-83ed987b4b40",
   "metadata": {},
   "outputs": [],
   "source": [
    "@time begin\n",
    "    ind_ll = map(x -> getLL(lpst_ind_y, geno_ind, kinship_ind_from_strains, 1997, x; prior = prior), h2_grid);\n",
    "    strains_ll = map(x -> getLL(lpst_strains_y, geno_strains, kinship_strains, 1997, x; prior = prior), h2_grid);\n",
    "\n",
    "    ind_ell_list2 = zeros(1000);\n",
    "    ind_ell_list_alt2 = zeros(1000);\n",
    "    strains_ell_list = zeros(1000);\n",
    "    strains_ell_list_alt = zeros(1000);\n",
    "    for k in 1:1000 \n",
    "        ind_ell_list2[k] = ind_ll[k].ll_null;\n",
    "        strains_ell_list[k] = strains_ll[k].ll_null;\n",
    "        strains_ell_list_alt[k] = strains_ll[k].ll_markerID;\n",
    "    end\n",
    "end"
   ]
  },
  {
   "cell_type": "code",
   "execution_count": null,
   "id": "856c3b51-537b-4f56-b580-db048acb7fa4",
   "metadata": {},
   "outputs": [],
   "source": [
    "h2_grid = 0.001*collect(0:999);"
   ]
  },
  {
   "cell_type": "code",
   "execution_count": null,
   "id": "b078565f-5581-467f-b39a-61f8bea7168d",
   "metadata": {},
   "outputs": [],
   "source": [
    "@time begin\n",
    "    ind_ell_list = zeros(1000);\n",
    "    ind_ell_list_alt = zeros(1000);\n",
    "\n",
    "\n",
    "    (lpst_ind_y0, geno_ind0, lambda_ind0) = transform_rotation(lpst_ind_y, geno_ind, kinship_ind_from_strains;\n",
    "                                                              addIntercept = true);\n",
    "    markerID = 1997;\n",
    "\n",
    "    for k in 1:length(h2_grid)\n",
    "        curr_h2 = h2_grid[k];\n",
    "        output = getLL(lpst_ind_y0, geno_ind0, lambda_ind0, markerID, curr_h2; prior = prior);\n",
    "        ind_ell_list[k] = output.ll_null;\n",
    "        ind_ell_list_alt[k] = output.ll_markerID;\n",
    "    end\n",
    "    \n",
    "end"
   ]
  },
  {
   "cell_type": "code",
   "execution_count": null,
   "id": "c8c45ced-1187-42c9-a7cf-5e5220601657",
   "metadata": {},
   "outputs": [],
   "source": [
    "sum(ind_ell_list .- ind_ell_list2)"
   ]
  },
  {
   "cell_type": "code",
   "execution_count": null,
   "id": "212818a6-770a-4c30-953d-e5ac974d19bb",
   "metadata": {},
   "outputs": [],
   "source": [
    "ind_ell_list .- ind_ell_list_alt"
   ]
  },
  {
   "cell_type": "code",
   "execution_count": null,
   "id": "70768942-7cd8-492c-bb2e-006079c632ae",
   "metadata": {},
   "outputs": [],
   "source": [
    "gridopt.minimizer"
   ]
  },
  {
   "cell_type": "code",
   "execution_count": null,
   "id": "db93cd62-9e1e-4d5f-81cb-347cd61e40e6",
   "metadata": {},
   "outputs": [],
   "source": []
  },
  {
   "cell_type": "code",
   "execution_count": null,
   "id": "2d0f18a8-e23d-4b49-92f7-04ee04f1d4aa",
   "metadata": {},
   "outputs": [],
   "source": [
    "plot(collect(0.001:0.001:0.999), strains_ell_list, label = \"Intercept\", ylab = \"loglik\", xlab = \"h2\")\n",
    "# plot!(collect(0.001:0.001:0.999), strains_ell_list_alt, label = \"alt\")\n",
    "scatter!([opt.minimizer], [-opt.minimum], label = \"brents_optim\", color = \"blue\")\n",
    "plot!([opt.minimizer, opt.minimizer], [-35.5, -opt.minimum], color = \"blue\", style = :dash, label = \"\")\n",
    "plot!([-0.02, opt.minimizer], ones(2).* (-opt.minimum), color = \"blue\", style = :dash, label = \"\")\n",
    "# scatter!([gridopt.minimizer], [-gridopt.minimum], label = \"grid_brents_optim\", color = \"red\")\n",
    "# plot!([gridopt.minimizer, gridopt.minimizer], [-35.5, -gridopt.minimum], color = \"red\", style = :dash, label = \"\")\n",
    "# plot!([-0.02, gridopt.minimizer], ones(2).* (-gridopt.minimum), color = \"red\", style = :dash, label = \"\")\n",
    "annotate!(opt.minimizer, -35.5, \n",
    "          text(\"0.9275\", :blue, :below, 8))\n",
    "xlims!((-0.025, 1.05))\n",
    "ylims!((-35.0, -24.0))"
   ]
  },
  {
   "cell_type": "code",
   "execution_count": null,
   "id": "e33645e9-e05f-4d11-99da-7844f66f31b9",
   "metadata": {},
   "outputs": [],
   "source": [
    "min(1.0, 0.1)"
   ]
  },
  {
   "cell_type": "code",
   "execution_count": null,
   "id": "39f1b04e-8351-4e73-9ec1-cb34e0c86033",
   "metadata": {},
   "outputs": [],
   "source": [
    "min([1.0, 1.2, 3.0, 2.3])"
   ]
  },
  {
   "cell_type": "code",
   "execution_count": null,
   "id": "41c11bb7-c5c9-424d-b813-677fd712ffc3",
   "metadata": {},
   "outputs": [],
   "source": [
    "typeof(1.0:10.0)"
   ]
  },
  {
   "cell_type": "code",
   "execution_count": null,
   "id": "a83c108c-4525-413f-99df-3ea863d8de7b",
   "metadata": {},
   "outputs": [],
   "source": [
    "?ylims"
   ]
  },
  {
   "cell_type": "code",
   "execution_count": null,
   "id": "6e420b54-7a4c-4c13-86a5-ee383b660f7f",
   "metadata": {},
   "outputs": [],
   "source": [
    "findmax(strains_ell_list)"
   ]
  },
  {
   "cell_type": "code",
   "execution_count": null,
   "id": "e6908b72-61d6-46e2-bfdc-00d514d2570c",
   "metadata": {},
   "outputs": [],
   "source": [
    "plot(collect(1:999).*0.001, ind_ell_list, xlabel = \"h2\", ylabel = \"loglik\", label = \"LP individuals\", color = \"blue\", legend=:bottomleft)\n",
    "plot!(collect(1:999).*0.001, strains_ell_list, xlabel = \"h2\", ylabel = \"loglik\", label = \"LP strain means\", color = \"red\")"
   ]
  },
  {
   "cell_type": "code",
   "execution_count": null,
   "id": "e3020beb-ee92-4bf1-a165-a6a84abe79b9",
   "metadata": {},
   "outputs": [],
   "source": []
  },
  {
   "cell_type": "code",
   "execution_count": null,
   "id": "443adcf5-255a-43b7-999a-7990d76ba1fd",
   "metadata": {},
   "outputs": [],
   "source": []
  },
  {
   "cell_type": "markdown",
   "id": "4cb7caa4-7cb7-4d75-b371-f2919122e458",
   "metadata": {},
   "source": [
    "## Examine hsqs, maxLods:"
   ]
  },
  {
   "cell_type": "code",
   "execution_count": null,
   "id": "6c875ef5-3efe-48e4-855a-e5196af469d1",
   "metadata": {},
   "outputs": [],
   "source": [
    "L_ind_null = bulkscan_results_ind_null.L;"
   ]
  },
  {
   "cell_type": "code",
   "execution_count": null,
   "id": "d2db9e6b-baf4-465e-add8-3c3938e0c2dc",
   "metadata": {},
   "outputs": [],
   "source": [
    "L_ind_null_grid = bulkscan_results_ind_null_grid.L;"
   ]
  },
  {
   "cell_type": "code",
   "execution_count": null,
   "id": "8af2bb19-f013-4038-a40e-e7568e1b28a5",
   "metadata": {},
   "outputs": [],
   "source": [
    "function getMaxLODs(L::Array{Float64, 2})\n",
    "    \n",
    "    m = size(L, 2);\n",
    "    max_marker = Array{Int64, 1}(undef, m);\n",
    "    max_lod = Array{Float64, 1}(undef, m);\n",
    "    \n",
    "    for i in 1:m\n",
    "        result_i = findmax(L[:, i]); \n",
    "        max_marker[i] = result_i[2];\n",
    "        max_lod[i] = result_i[1];\n",
    "    end\n",
    "    \n",
    "    return (max_markers = max_marker, max_lod = max_lod);\n",
    "end"
   ]
  },
  {
   "cell_type": "code",
   "execution_count": null,
   "id": "e9e73599-aa37-44ef-a623-814ea7144d25",
   "metadata": {},
   "outputs": [],
   "source": [
    "@time begin\n",
    "    max_results_ind = getMaxLODs(L_ind_null);\n",
    "    max_results_ind_grid = getMaxLODs(L_ind_null_grid);\n",
    "end;"
   ]
  },
  {
   "cell_type": "code",
   "execution_count": null,
   "id": "ac5e8245-703c-4e75-a007-dcb3e4683618",
   "metadata": {},
   "outputs": [],
   "source": [
    "pwd()"
   ]
  },
  {
   "cell_type": "code",
   "execution_count": null,
   "id": "100b2191-490d-4e5b-9340-8ada99594b7e",
   "metadata": {},
   "outputs": [],
   "source": [
    "# CSV.write(\"output/max_results_ind.csv\", DataFrame(round.(hcat(max_results_ind.max_markers, max_results_ind.max_lod), digits = 2), [\"max_marker\", \"max_lod\"]))"
   ]
  },
  {
   "cell_type": "code",
   "execution_count": null,
   "id": "88e030de-5c8f-46be-a46c-f01cc2520088",
   "metadata": {},
   "outputs": [],
   "source": [
    "# CSV.write(\"output/max_results_ind_grid.csv\", DataFrame(round.(hcat(max_results_ind_grid.max_markers, max_results_ind_grid.max_lod), digits = 2), [\"max_marker\", \"max_lod\"]))"
   ]
  },
  {
   "cell_type": "code",
   "execution_count": null,
   "id": "7cfbefdf-2b7d-4420-af29-c9f0f64cba6d",
   "metadata": {},
   "outputs": [],
   "source": [
    "@time bulkscan_results_ind_null_4 = bulkscan_null(lpst_ind_Y, geno_ind, kinship_ind_from_strains; nb = Threads.nthreads(),\n",
    "                                                  prior_variance = 1.0, prior_sample_size = 0.1, optim_interval = 4);"
   ]
  },
  {
   "cell_type": "code",
   "execution_count": null,
   "id": "7e3d6152-539f-40b8-bb82-dd36c2696a1a",
   "metadata": {},
   "outputs": [],
   "source": [
    "@time bulkscan_results_null_strains_4 = bulkscan_null(lpst_strains_Y, geno_strains, kinship_strains; nb = Threads.nthreads(),\n",
    "                                                      prior_variance = 1.0, prior_sample_size = 0.1, optim_interval = 4);"
   ]
  },
  {
   "cell_type": "code",
   "execution_count": null,
   "id": "5ce1c297-dedb-4502-a146-094593e2ade3",
   "metadata": {},
   "outputs": [],
   "source": [
    "L_ind = bulkscan_results_ind_null.L;\n",
    "L_strains = bulkscan_results_strains_null.L;\n",
    "h2s_ind = bulkscan_results_ind_null.h2_null_list;\n",
    "h2s_strains = bulkscan_results_strains_null.h2_null_list;"
   ]
  },
  {
   "cell_type": "code",
   "execution_count": null,
   "id": "166fc44a-cfd0-4b0c-9120-3aec112e070c",
   "metadata": {},
   "outputs": [],
   "source": [
    "L_ind_4 = bulkscan_results_ind_null_4.L;\n",
    "L_strains_4 = bulkscan_results_null_strains_4.L;\n",
    "h2s_ind_4 = bulkscan_results_ind_null_4.h2_null_list;\n",
    "h2s_strains_4 = bulkscan_results_null_strains_4.h2_null_list;"
   ]
  },
  {
   "cell_type": "code",
   "execution_count": null,
   "id": "779f01cc-c95a-4711-a063-56f1d948e7f1",
   "metadata": {},
   "outputs": [],
   "source": []
  },
  {
   "cell_type": "markdown",
   "id": "81d2a958-0b9c-4ebe-8b25-d50069886e3b",
   "metadata": {},
   "source": [
    "## Get Plot:"
   ]
  },
  {
   "cell_type": "code",
   "execution_count": null,
   "id": "a31b7b0c-4fea-48ea-8d32-113660a1d21b",
   "metadata": {},
   "outputs": [],
   "source": [
    "BXD_pmap = CSV.read(\"data/BXD_pmap.csv\", DataFrame);\n",
    "BXD_gmap = CSV.read(\"data/BXD_gmap.csv\", DataFrame);"
   ]
  },
  {
   "cell_type": "code",
   "execution_count": null,
   "id": "088c60aa-f589-4d1b-b597-5e0f750ed422",
   "metadata": {},
   "outputs": [],
   "source": [
    "max_results_df_ind = CSV.read(\"output/max_results_ind.csv\", DataFrame);"
   ]
  },
  {
   "cell_type": "code",
   "execution_count": null,
   "id": "aee243fa-8042-4d63-809e-d64f7063242d",
   "metadata": {},
   "outputs": [],
   "source": [
    "max_results_df_ind_grid = CSV.read(\"output/max_results_ind_grid.csv\", DataFrame);"
   ]
  },
  {
   "cell_type": "code",
   "execution_count": null,
   "id": "6364f079-7743-42f5-b691-52df2350b486",
   "metadata": {},
   "outputs": [],
   "source": [
    "using RecipesBase, Plots, Plots.PlotMeasures, ColorSchemes"
   ]
  },
  {
   "cell_type": "code",
   "execution_count": null,
   "id": "792d6ae6-28fc-47d8-8756-f36b4be7a1ae",
   "metadata": {},
   "outputs": [],
   "source": [
    "function plot_eQTL2(lodc::Array{Float64, 2}, gmap::DataFrame, phenocovar::DataFrame;\n",
    "                thr::Float64 = 5.0, kwargs...)\n",
    "    \n",
    "    x, y, z, mysteps, mychr = get_eQTL_accMb(\n",
    "                                lodc, \n",
    "                                phenocovar,\n",
    "                                gmap;\n",
    "                                thr = thr,\n",
    "                                kwargs...\n",
    "                              )\n",
    "\n",
    "    eQTLplot(x, y, z, mysteps, mychr, kwargs...)\n",
    "\n",
    "end"
   ]
  },
  {
   "cell_type": "code",
   "execution_count": null,
   "id": "6647e4f6-93c5-4f53-9b42-8113bff4e1c9",
   "metadata": {},
   "outputs": [],
   "source": [
    "BXD_pmap.Chr = convert.(String, BXD_pmap.Chr);"
   ]
  },
  {
   "cell_type": "code",
   "execution_count": null,
   "id": "53c1ee33-4e85-4c9e-9773-10384ef185cc",
   "metadata": {},
   "outputs": [],
   "source": [
    "BXD_gmap.Chr = convert.(String, BXD_gmap.Chr);"
   ]
  },
  {
   "cell_type": "code",
   "execution_count": null,
   "id": "bd05ceb6-e3c4-4de1-967a-17e8be5694bb",
   "metadata": {},
   "outputs": [],
   "source": [
    "plot_eQTL2(Matrix(max_results_df_ind), BXD_gmap, BXD_pmap)"
   ]
  },
  {
   "cell_type": "code",
   "execution_count": null,
   "id": "0f8a6bbc-a096-4749-a858-806479bdb415",
   "metadata": {},
   "outputs": [],
   "source": [
    "lp_id"
   ]
  },
  {
   "cell_type": "code",
   "execution_count": null,
   "id": "db7c3875-9be7-4270-95f8-3a4e40a952e1",
   "metadata": {},
   "outputs": [],
   "source": [
    "lp_ind_y"
   ]
  },
  {
   "cell_type": "code",
   "execution_count": null,
   "id": "c9c6a90b-f5e3-4e76-8d9b-c43ddc6cbe93",
   "metadata": {},
   "outputs": [],
   "source": [
    "lpst_ind_y"
   ]
  },
  {
   "cell_type": "code",
   "execution_count": null,
   "id": "9965367b-5bb2-419e-b9e8-88073d0e2d84",
   "metadata": {},
   "outputs": [],
   "source": [
    "scan_results_ind_alt.lod"
   ]
  },
  {
   "cell_type": "code",
   "execution_count": null,
   "id": "3e86e849-169d-483d-95d6-42abe5891b95",
   "metadata": {},
   "outputs": [],
   "source": []
  },
  {
   "cell_type": "markdown",
   "id": "1bd1387f-8c85-4453-9547-c00eadb126ac",
   "metadata": {},
   "source": [
    "### Heritabilities:"
   ]
  },
  {
   "cell_type": "code",
   "execution_count": null,
   "id": "efccaf03-e495-484c-9a1b-b2ce37b16c2e",
   "metadata": {},
   "outputs": [],
   "source": [
    "findall(abs.(h2s_strains .- h2s_strains_4) .>= 0.5)"
   ]
  },
  {
   "cell_type": "code",
   "execution_count": null,
   "id": "5a3a734e-2d68-4ea4-97a1-d476280d11c5",
   "metadata": {},
   "outputs": [],
   "source": [
    "findmax(abs.(h2s_strains .- h2s_strains_4))"
   ]
  },
  {
   "cell_type": "code",
   "execution_count": null,
   "id": "8bc854c0-58c7-4381-b8a7-5263532240c6",
   "metadata": {},
   "outputs": [],
   "source": [
    "largest_h2diff_strains_y = reshape(lpst_strains_Y[:, 6], :, 1);"
   ]
  },
  {
   "cell_type": "code",
   "execution_count": null,
   "id": "67b1b819-f4d3-4b19-9d19-775c12f60892",
   "metadata": {},
   "outputs": [],
   "source": [
    "@time test_scan_results_opt1 = scan(largest_h2diff_strains_y, geno_strains, kinship_strains; \n",
    "                             prior_variance = 1.0, prior_sample_size = 0.1, optim_interval = 1);"
   ]
  },
  {
   "cell_type": "code",
   "execution_count": null,
   "id": "426fd1da-4ff6-4a52-8b59-33aea4cf2419",
   "metadata": {},
   "outputs": [],
   "source": [
    "@time test_scan_results_opt2 = scan(largest_h2diff_strains_y, geno_strains, kinship_strains; \n",
    "                             prior_variance = 1.0, prior_sample_size = 0.1, optim_interval = 2);"
   ]
  },
  {
   "cell_type": "code",
   "execution_count": null,
   "id": "ff548933-3042-4201-a20e-49833ad6e5ed",
   "metadata": {},
   "outputs": [],
   "source": [
    "@time test_scan_results_opt4 = scan(largest_h2diff_strains_y, geno_strains, kinship_strains; \n",
    "                             prior_variance = 1.0, prior_sample_size = 0.1, optim_interval = 4);"
   ]
  },
  {
   "cell_type": "code",
   "execution_count": null,
   "id": "3f8909dd-1768-4279-a671-72344de2a394",
   "metadata": {},
   "outputs": [],
   "source": [
    "@time test_scan_results_opt10 = scan(largest_h2diff_strains_y, geno_strains, kinship_strains; \n",
    "                             prior_variance = 1.0, prior_sample_size = 0.1, optim_interval = 10);"
   ]
  },
  {
   "cell_type": "code",
   "execution_count": null,
   "id": "8c5d8f12-3aef-47c2-a232-f274f7c3a7fa",
   "metadata": {},
   "outputs": [],
   "source": [
    "test_scan_results_opt1.h2_null"
   ]
  },
  {
   "cell_type": "code",
   "execution_count": null,
   "id": "5521e69d-8671-4448-9619-f0f04fd20fd1",
   "metadata": {},
   "outputs": [],
   "source": [
    "test_scan_results_opt2.h2_null"
   ]
  },
  {
   "cell_type": "code",
   "execution_count": null,
   "id": "26cddd2e-e3ec-4413-bd31-3b3346193f49",
   "metadata": {},
   "outputs": [],
   "source": [
    "test_scan_results_opt4.h2_null"
   ]
  },
  {
   "cell_type": "code",
   "execution_count": null,
   "id": "6bb11152-653a-4773-822a-32e76166d266",
   "metadata": {},
   "outputs": [],
   "source": [
    "test_scan_results_opt10.h2_null"
   ]
  },
  {
   "cell_type": "code",
   "execution_count": null,
   "id": "dcdccd26-df34-42ca-9379-d9b724d4a98b",
   "metadata": {},
   "outputs": [],
   "source": [
    "getLL(largest_h2diff_strains_y, geno_strains, kinship_strains, 1, 0.0)"
   ]
  },
  {
   "cell_type": "code",
   "execution_count": null,
   "id": "5963c795-8737-48fd-a634-0b1b8909dd62",
   "metadata": {},
   "outputs": [],
   "source": [
    "getLL(largest_h2diff_strains_y, geno_strains, kinship_strains, 1, 0.66)"
   ]
  },
  {
   "cell_type": "code",
   "execution_count": null,
   "id": "e2147b7a-f305-4701-8223-abf4de2228c7",
   "metadata": {},
   "outputs": [],
   "source": [
    "# ind_ll = map(x -> getLL(largest_h2diff_strains_y, geno_strains, kinship_strains, 1, x), collect(0.0:0.001:0.999));\n",
    "l_strains_ll = map(x -> getLL(largest_h2diff_strains_y, geno_strains, kinship_strains, 1, x;\n",
    "                              prior = [1.0, 0.1]), \n",
    "                   collect(0.0:0.001:0.999));\n",
    "\n",
    "# ind_ell_list = zeros(999);\n",
    "l_strains_ell_list = zeros(999);\n",
    "l_strains_ell_list_alt = zeros(999);\n",
    "for k in 1:999 \n",
    "    # ind_ell_list[k] = ind_ll[k].ll_null;\n",
    "    l_strains_ell_list[k] = l_strains_ll[k].ll_null;\n",
    "    l_strains_ell_list_alt[k] = l_strains_ll[k].ll_markerID;\n",
    "end"
   ]
  },
  {
   "cell_type": "code",
   "execution_count": null,
   "id": "387e857c-7d6c-4137-8322-a74b1d1c2106",
   "metadata": {},
   "outputs": [],
   "source": [
    "plot(l_strains_ell_list)"
   ]
  },
  {
   "cell_type": "code",
   "execution_count": null,
   "id": "aab2d48b-770c-4875-9eab-5118e15871ee",
   "metadata": {},
   "outputs": [],
   "source": [
    "plot(exp.(l_strains_ell_list .- maximum(l_strains_ell_list)))"
   ]
  },
  {
   "cell_type": "code",
   "execution_count": null,
   "id": "c0926f58-cc8a-4dee-88e2-3a6e80271688",
   "metadata": {},
   "outputs": [],
   "source": [
    "plot(exp.(l_strains_ell_list .- maximum(l_strains_ell_list)))"
   ]
  },
  {
   "cell_type": "code",
   "execution_count": null,
   "id": "42c3fb8b-7b2e-485d-8f32-0faafa85fda0",
   "metadata": {},
   "outputs": [],
   "source": []
  },
  {
   "cell_type": "code",
   "execution_count": null,
   "id": "1bc07185-f219-44e7-bfcc-007fdfc1b9de",
   "metadata": {},
   "outputs": [],
   "source": []
  },
  {
   "cell_type": "markdown",
   "id": "a0688b4d-b8cd-4354-a225-7501a95092eb",
   "metadata": {},
   "source": [
    "### Maximum lod scores:"
   ]
  },
  {
   "cell_type": "code",
   "execution_count": null,
   "id": "bce0ae26-6858-4f58-97d5-3546c020867e",
   "metadata": {},
   "outputs": [],
   "source": [
    "histogram(max_results_ind.max_lod, label = \"Maximum lod - Individual LP\")"
   ]
  },
  {
   "cell_type": "code",
   "execution_count": null,
   "id": "51db45fe-83d5-4112-b1b3-2faf52e2d306",
   "metadata": {},
   "outputs": [],
   "source": [
    "histogram(max_results_strains.max_lod, label = \"Maximum lod - Strain mean LP\")"
   ]
  },
  {
   "cell_type": "code",
   "execution_count": null,
   "id": "85cd5865-5fdf-4542-ad00-005c0f843383",
   "metadata": {},
   "outputs": [],
   "source": [
    "plot(max_results_ind.max_lod .- max_results_strains.max_lod, label = \"Max lod: ind - strains\")\n",
    "hline!(x -> x = 0.0, label = \"\")"
   ]
  },
  {
   "cell_type": "code",
   "execution_count": null,
   "id": "6ccb0c09-3494-428b-a03d-ccb95ddb8f2e",
   "metadata": {},
   "outputs": [],
   "source": [
    "mean(max_results_ind.max_lod .- max_results_strains.max_lod .>= 0.0)"
   ]
  },
  {
   "cell_type": "code",
   "execution_count": null,
   "id": "ef615c79-9f04-4c97-8f5c-b6c2e5ab7cc5",
   "metadata": {},
   "outputs": [],
   "source": []
  },
  {
   "cell_type": "code",
   "execution_count": null,
   "id": "19c7e4b0-0a67-4042-9c8a-67e3f3b4c6ba",
   "metadata": {},
   "outputs": [],
   "source": []
  },
  {
   "cell_type": "code",
   "execution_count": null,
   "id": "094283bd-1f2f-4afa-a235-a12cf3af2c7d",
   "metadata": {},
   "outputs": [],
   "source": [
    "pwd()"
   ]
  },
  {
   "cell_type": "code",
   "execution_count": null,
   "id": "a8925d91-ce60-4f46-a1cc-862693a0aa96",
   "metadata": {},
   "outputs": [],
   "source": []
  },
  {
   "cell_type": "code",
   "execution_count": null,
   "id": "1dc030a2-94ec-4732-84c9-9da632c2db7f",
   "metadata": {},
   "outputs": [],
   "source": []
  },
  {
   "cell_type": "markdown",
   "id": "45af8dac-f9dd-49f8-aa66-04cbb2c7c6e3",
   "metadata": {
    "tags": []
   },
   "source": [
    "## Run GEMMA for single-trait scans:"
   ]
  },
  {
   "cell_type": "code",
   "execution_count": null,
   "id": "b1bac948-cc65-453b-8b09-9c772cd932b6",
   "metadata": {},
   "outputs": [],
   "source": [
    "pwd()"
   ]
  },
  {
   "cell_type": "code",
   "execution_count": null,
   "id": "7e7b6054-f267-437b-ac63-8a9b3e1ff006",
   "metadata": {},
   "outputs": [],
   "source": [
    "gemma = \"/home/zyu20/Softwares/gemma-0.98.5-linux-static-AMD64\""
   ]
  },
  {
   "cell_type": "code",
   "execution_count": null,
   "id": "73a7cbf3-d647-4c5a-a7e3-42677404cca2",
   "metadata": {},
   "outputs": [],
   "source": [
    "run(`$gemma -h`)"
   ]
  },
  {
   "cell_type": "code",
   "execution_count": null,
   "id": "ee6e9830-b187-452a-ab36-e814781b1b70",
   "metadata": {},
   "outputs": [],
   "source": [
    "function transform_bxd_pheno_to_gemma2(inputfile::AbstractString, outputfile::AbstractString, iter::Int64)\n",
    "    pheno = CSV.read(inputfile, DataFrame);\n",
    "    pheno = Matrix{Float64}(pheno[:, 3:end]);\n",
    "    open(outputfile, \"w\") do io\n",
    "        writedlm(io, pheno[:, iter])\n",
    "    end\n",
    "    return pheno\n",
    "end"
   ]
  },
  {
   "cell_type": "code",
   "execution_count": null,
   "id": "39441696-89ed-4087-b2ad-67f12bef125b",
   "metadata": {},
   "outputs": [],
   "source": [
    "function transform_bxd_geno_to_gemma2(inputfile::AbstractString, outputfile::AbstractString, \n",
    "                                      startCol::Int64)\n",
    "    data = CSV.read(inputfile, DataFrame);\n",
    "    \n",
    "    marker_names = names(data)[startCol:end];\n",
    "    data = 2 .* data[:, startCol:end] |> x -> Matrix{Float64}(x)\n",
    "    # data = data[:, startCol:end] |> x -> Matrix{Float64}(x)\n",
    "    minor_allele = fill(\"A\", length(marker_names), 1);\n",
    "    major_allele = fill(\"B\", length(marker_names), 1);\n",
    "    output = hcat(hcat(marker_names, minor_allele, major_allele), transpose(data))\n",
    "    writeToFile(output, outputfile)\n",
    "    return output\n",
    "end"
   ]
  },
  {
   "cell_type": "code",
   "execution_count": null,
   "id": "0e090b4f-6dc7-44bf-b082-893f5deed830",
   "metadata": {},
   "outputs": [],
   "source": [
    "lp_id"
   ]
  },
  {
   "cell_type": "code",
   "execution_count": null,
   "id": "1d49eaa6-a548-4ee8-a565-3f548535da52",
   "metadata": {},
   "outputs": [],
   "source": [
    "# transform_bxd_geno_to_gemma2(\"data/GN886_geno_strains_summary.csv\", \"data/GEMMA_data/GN886_geno_strains_summary.txt\", 2);\n",
    "# transform_bxd_geno_to_gemma2(\"data/GN886_geno_summary.csv\", \"data/GEMMA_data/GN886_geno_ind_summary.txt\", 4);"
   ]
  },
  {
   "cell_type": "code",
   "execution_count": null,
   "id": "28157ddb-4b44-44d5-a161-a9726b9acbe3",
   "metadata": {},
   "outputs": [],
   "source": [
    "lp_id = 29437;"
   ]
  },
  {
   "cell_type": "code",
   "execution_count": null,
   "id": "4015a708-0c19-4a46-9f59-2ad49ef02b24",
   "metadata": {},
   "outputs": [],
   "source": [
    "transform_bxd_pheno_to_gemma2(\"data/GN886_pheno_strain_means_summary.csv\", \"data/GEMMA_data/GN886_pheno_strains_summary.txt\", lp_id);\n",
    "transform_bxd_pheno_to_gemma2(\"data/GN886_pheno_summary.csv\", \"data/GEMMA_data/GN886_pheno_ind_summary.txt\", lp_id);"
   ]
  },
  {
   "cell_type": "code",
   "execution_count": null,
   "id": "0ae98acb-a676-49b6-ab15-ed9dad6d3e21",
   "metadata": {},
   "outputs": [],
   "source": [
    "# writedlm(\"data/GEMMA_data/kinship_strains.txt\", kinship_strains, '\\t')\n",
    "# writedlm(\"data/GEMMA_data/kinship_ind.txt\", kinship_ind_from_strains, '\\t')"
   ]
  },
  {
   "cell_type": "code",
   "execution_count": null,
   "id": "76c8932a-65f4-4048-80e3-8b377700abf9",
   "metadata": {},
   "outputs": [],
   "source": [
    "function p2lod(pval::Float64, df::Int64)\n",
    "    \n",
    "    lrs = invlogcdf(Chisq(df), log(1-pval))\n",
    "    lod = lrs/(2*log(10))\n",
    "    \n",
    "    # return lrs\n",
    "    return lod\n",
    "\n",
    "end"
   ]
  },
  {
   "cell_type": "code",
   "execution_count": null,
   "id": "ba8d2c36-000d-4f71-b0eb-34fdb7f5f5f3",
   "metadata": {},
   "outputs": [],
   "source": [
    "function gemmaWrapper(pheno_filename::String, geno_filename::String,\n",
    "                      kinship_filename::String, output_filename::String)\n",
    "    \n",
    "    run(`$gemma -g $geno_filename -p $pheno_filename -k $kinship_filename -lmm 2 -lmax 1000000 -o $output_filename`)\n",
    "    \n",
    "end"
   ]
  },
  {
   "cell_type": "code",
   "execution_count": null,
   "id": "5c081ae1-91e6-44e4-ac5b-be6bdaa982be",
   "metadata": {},
   "outputs": [],
   "source": [
    "@time gemmaWrapper(\"data/GEMMA_data/GN886_pheno_strains_summary.txt\", \n",
    "                   \"data/GEMMA_data/GN886_geno_strains_summary.txt\",\n",
    "                   \"data/GEMMA_data/kinship_strains.txt\",\n",
    "                   \"results_strains.txt\");"
   ]
  },
  {
   "cell_type": "code",
   "execution_count": null,
   "id": "de3ba7dd-97a4-4286-b61e-e7926647e930",
   "metadata": {},
   "outputs": [],
   "source": [
    "@time gemmaWrapper(\"data/GEMMA_data/GN886_pheno_ind_summary.txt\", \n",
    "                   \"data/GEMMA_data/GN886_geno_ind_summary.txt\",\n",
    "                   \"data/GEMMA_data/kinship_ind.txt\",\n",
    "                   \"results_ind.txt\");"
   ]
  },
  {
   "cell_type": "code",
   "execution_count": null,
   "id": "d48f6416-11df-47d2-ae97-b9cf673623bc",
   "metadata": {},
   "outputs": [],
   "source": [
    "sum(eigen(kinship_ind_from_strains).values.<0.0001)"
   ]
  },
  {
   "cell_type": "code",
   "execution_count": null,
   "id": "b6e5af53-02e8-4cec-b8fc-83b3efe76ddd",
   "metadata": {},
   "outputs": [],
   "source": [
    "gemma_results_strains = readdlm(\"output/results_strains.txt.assoc.txt\", '\\t');\n",
    "gemma_results_ind = readdlm(\"output/results_ind.txt.assoc.txt\", '\\t');"
   ]
  },
  {
   "cell_type": "code",
   "execution_count": null,
   "id": "b1f06ed0-ba22-4f56-9843-de4b47d2b7b8",
   "metadata": {},
   "outputs": [],
   "source": [
    "gemma_strains = gemma_results_strains[2:end, 10] |> x -> Array{Float64}(x);\n",
    "gemma_ind = gemma_results_ind[2:end, 10] |> x -> Array{Float64}(x);"
   ]
  },
  {
   "cell_type": "code",
   "execution_count": null,
   "id": "f082a5d7-1717-4f03-9272-07df9e10c38e",
   "metadata": {},
   "outputs": [],
   "source": [
    "gemma_strains_lod = p2lod.(gemma_strains, 1);\n",
    "gemma_ind_lod = p2lod.(gemma_ind, 1);"
   ]
  },
  {
   "cell_type": "code",
   "execution_count": null,
   "id": "077555ab-3fa2-4ad6-a9c0-e8f8410b52f8",
   "metadata": {},
   "outputs": [],
   "source": [
    "hcat(gemma_ind_lod, scan_results_ind.lod, bulkscan_results_null_grid_ind.L[:, lp_id])"
   ]
  },
  {
   "cell_type": "code",
   "execution_count": null,
   "id": "d1f1d5ae-3afb-46dc-b538-dd57428ae794",
   "metadata": {},
   "outputs": [],
   "source": [
    "hcat(gemma_strains_lod, scan_results_strains.lod, bulkscan_results_null_strains.L[:, lp_id])"
   ]
  },
  {
   "cell_type": "code",
   "execution_count": null,
   "id": "709a4dfd-3648-4165-9d24-d3fadaee590a",
   "metadata": {},
   "outputs": [],
   "source": [
    "lookRange = 1:7321"
   ]
  },
  {
   "cell_type": "code",
   "execution_count": null,
   "id": "e7359365-0980-44c6-bb9b-c57ef20a0506",
   "metadata": {},
   "outputs": [],
   "source": [
    "plot(gemma_strains_lod[lookRange], label = \"GEMMA_strains\");\n",
    "# plot!(scan_results_strains_alt_hub.lod[lookRange], label = \"BulkLMM_strains\")\n",
    "plot!(bulkscan_results_null_strains.L[lookRange, lp_id], label = \"BulkLMM_strains\")"
   ]
  },
  {
   "cell_type": "code",
   "execution_count": null,
   "id": "634bf00f-9d0c-4dac-9e69-a1c59b390fef",
   "metadata": {},
   "outputs": [],
   "source": [
    "scan_results_ind.h2_null"
   ]
  },
  {
   "cell_type": "code",
   "execution_count": null,
   "id": "6ee6edbe-afdc-468c-8cc9-861adfeb0c3e",
   "metadata": {},
   "outputs": [],
   "source": []
  }
 ],
 "metadata": {
  "kernelspec": {
   "display_name": "Julia 16 Threads 1.7.3",
   "language": "julia",
   "name": "julia-16-threads-1.7"
  },
  "language_info": {
   "file_extension": ".jl",
   "mimetype": "application/julia",
   "name": "julia",
   "version": "1.7.3"
  }
 },
 "nbformat": 4,
 "nbformat_minor": 5
}
