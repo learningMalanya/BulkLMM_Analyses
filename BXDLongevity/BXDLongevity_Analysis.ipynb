{
 "cells": [
  {
   "cell_type": "markdown",
   "id": "76f80b67-85df-4d55-bb10-f6913d392780",
   "metadata": {},
   "source": [
    "## Data Analysis using BulkLMM - BXD Longevity Study"
   ]
  },
  {
   "cell_type": "code",
   "execution_count": 1,
   "id": "028f2786-ee1b-4ec3-ab13-05110ad9caf6",
   "metadata": {},
   "outputs": [],
   "source": [
    "using CSV, DelimitedFiles, DataFrames, Missings, XLSX\n",
    "using LinearAlgebra, Statistics, Optim\n",
    "using Random, Distributions, LoopVectorization\n",
    "# using GeneNetworkAPI, Downloads\n",
    "using BenchmarkTools"
   ]
  },
  {
   "cell_type": "code",
   "execution_count": 2,
   "id": "4a6c9448-eeee-4fe2-8b74-a183abe6cf6f",
   "metadata": {},
   "outputs": [],
   "source": [
    "using Plots"
   ]
  },
  {
   "cell_type": "code",
   "execution_count": 3,
   "id": "bc3d1279-dc9b-4a8e-8616-12e041d6179f",
   "metadata": {},
   "outputs": [],
   "source": [
    "local_path = \"../../BulkLMM.jl/src\";"
   ]
  },
  {
   "cell_type": "markdown",
   "id": "548266cf-7288-4c51-a8d0-61a23e207f4e",
   "metadata": {},
   "source": [
    "## Load processed_data:"
   ]
  },
  {
   "cell_type": "markdown",
   "id": "76b2ccbd-e0db-4bcd-a11d-7703fbbbd811",
   "metadata": {},
   "source": [
    "### By individuals:"
   ]
  },
  {
   "cell_type": "code",
   "execution_count": 4,
   "id": "d6fec140-00e9-4f42-9b72-3b5f067bcf20",
   "metadata": {},
   "outputs": [
    {
     "data": {
      "text/plain": [
       "\"/home/zyu20/git/BulkLMM_Analyses/BXDLongevity\""
      ]
     },
     "execution_count": 4,
     "metadata": {},
     "output_type": "execute_result"
    }
   ],
   "source": [
    "pwd()"
   ]
  },
  {
   "cell_type": "code",
   "execution_count": 5,
   "id": "abafa447-fb73-405f-a457-8ab1ac3cefcc",
   "metadata": {},
   "outputs": [],
   "source": [
    "BXD_pheno_ind_summary_df = CSV.read(\"../../../shareddata/BXDLongevity/data/GN886_pheno_summary.csv\", DataFrame);"
   ]
  },
  {
   "cell_type": "markdown",
   "id": "a3e12b95-f2e2-4cfc-812d-34f74ac83f1e",
   "metadata": {},
   "source": [
    "By individuals, there are 248 individual samples for 32445 livear proteome."
   ]
  },
  {
   "cell_type": "code",
   "execution_count": 6,
   "id": "cf42c49c-60d5-458e-9206-35123de57d51",
   "metadata": {},
   "outputs": [
    {
     "name": "stdout",
     "output_type": "stream",
     "text": [
      "(248, 32448)\n"
     ]
    },
    {
     "data": {
      "text/html": [
       "<div><div style = \"float: left;\"><span>10×10 DataFrame</span></div><div style = \"clear: both;\"></div></div><div class = \"data-frame\" style = \"overflow-x: scroll;\"><table class = \"data-frame\" style = \"margin-bottom: 6px;\"><thead><tr class = \"header\"><th class = \"rowNumber\" style = \"font-weight: bold; text-align: right;\">Row</th><th style = \"text-align: left;\">Sample</th><th style = \"text-align: left;\">Strain</th><th style = \"text-align: left;\">Strain_num</th><th style = \"text-align: left;\">P42209_DESGLNRK_2</th><th style = \"text-align: left;\">P42209_GLRPLDVAFLR_3</th><th style = \"text-align: left;\">Q99M02_VGDPVYR_2</th><th style = \"text-align: left;\">Q99M02_VWIYPIK_2</th><th style = \"text-align: left;\">Q99M02_LCDPSVK_2</th><th style = \"text-align: left;\">Q99M02_CVLTTVDPDTGIIDR_2</th><th style = \"text-align: left;\">Q99M02_LVQFDTSMK_2</th></tr><tr class = \"subheader headerLastRow\"><th class = \"rowNumber\" style = \"font-weight: bold; text-align: right;\"></th><th title = \"String7\" style = \"text-align: left;\">String7</th><th title = \"String7\" style = \"text-align: left;\">String7</th><th title = \"Int64\" style = \"text-align: left;\">Int64</th><th title = \"Float64\" style = \"text-align: left;\">Float64</th><th title = \"Float64\" style = \"text-align: left;\">Float64</th><th title = \"Float64\" style = \"text-align: left;\">Float64</th><th title = \"Float64\" style = \"text-align: left;\">Float64</th><th title = \"Float64\" style = \"text-align: left;\">Float64</th><th title = \"Float64\" style = \"text-align: left;\">Float64</th><th title = \"Float64\" style = \"text-align: left;\">Float64</th></tr></thead><tbody><tr><td class = \"rowNumber\" style = \"font-weight: bold; text-align: right;\">1</td><td style = \"text-align: left;\">H1009</td><td style = \"text-align: left;\">BXD9</td><td style = \"text-align: right;\">9</td><td style = \"text-align: right;\">11.349</td><td style = \"text-align: right;\">11.534</td><td style = \"text-align: right;\">17.587</td><td style = \"text-align: right;\">17.517</td><td style = \"text-align: right;\">17.309</td><td style = \"text-align: right;\">16.574</td><td style = \"text-align: right;\">16.323</td></tr><tr><td class = \"rowNumber\" style = \"font-weight: bold; text-align: right;\">2</td><td style = \"text-align: left;\">H0370</td><td style = \"text-align: left;\">BXD9</td><td style = \"text-align: right;\">9</td><td style = \"text-align: right;\">11.249</td><td style = \"text-align: right;\">12.735</td><td style = \"text-align: right;\">17.427</td><td style = \"text-align: right;\">17.325</td><td style = \"text-align: right;\">17.252</td><td style = \"text-align: right;\">16.685</td><td style = \"text-align: right;\">16.021</td></tr><tr><td class = \"rowNumber\" style = \"font-weight: bold; text-align: right;\">3</td><td style = \"text-align: left;\">H2577</td><td style = \"text-align: left;\">BXD9</td><td style = \"text-align: right;\">9</td><td style = \"text-align: right;\">12.415</td><td style = \"text-align: right;\">10.487</td><td style = \"text-align: right;\">17.89</td><td style = \"text-align: right;\">17.488</td><td style = \"text-align: right;\">17.594</td><td style = \"text-align: right;\">16.731</td><td style = \"text-align: right;\">16.208</td></tr><tr><td class = \"rowNumber\" style = \"font-weight: bold; text-align: right;\">4</td><td style = \"text-align: left;\">H0365</td><td style = \"text-align: left;\">BXD9</td><td style = \"text-align: right;\">9</td><td style = \"text-align: right;\">11.374</td><td style = \"text-align: right;\">10.674</td><td style = \"text-align: right;\">17.714</td><td style = \"text-align: right;\">17.401</td><td style = \"text-align: right;\">17.381</td><td style = \"text-align: right;\">16.621</td><td style = \"text-align: right;\">16.337</td></tr><tr><td class = \"rowNumber\" style = \"font-weight: bold; text-align: right;\">5</td><td style = \"text-align: left;\">H1333</td><td style = \"text-align: left;\">BXD13</td><td style = \"text-align: right;\">13</td><td style = \"text-align: right;\">11.687</td><td style = \"text-align: right;\">11.524</td><td style = \"text-align: right;\">17.362</td><td style = \"text-align: right;\">17.367</td><td style = \"text-align: right;\">17.071</td><td style = \"text-align: right;\">16.465</td><td style = \"text-align: right;\">15.97</td></tr><tr><td class = \"rowNumber\" style = \"font-weight: bold; text-align: right;\">6</td><td style = \"text-align: left;\">H2259</td><td style = \"text-align: left;\">BXD24</td><td style = \"text-align: right;\">24</td><td style = \"text-align: right;\">11.837</td><td style = \"text-align: right;\">11.715</td><td style = \"text-align: right;\">17.57</td><td style = \"text-align: right;\">17.792</td><td style = \"text-align: right;\">17.505</td><td style = \"text-align: right;\">16.894</td><td style = \"text-align: right;\">16.277</td></tr><tr><td class = \"rowNumber\" style = \"font-weight: bold; text-align: right;\">7</td><td style = \"text-align: left;\">H1792</td><td style = \"text-align: left;\">BXD24</td><td style = \"text-align: right;\">24</td><td style = \"text-align: right;\">11.563</td><td style = \"text-align: right;\">11.434</td><td style = \"text-align: right;\">17.789</td><td style = \"text-align: right;\">17.847</td><td style = \"text-align: right;\">17.416</td><td style = \"text-align: right;\">17.042</td><td style = \"text-align: right;\">16.292</td></tr><tr><td class = \"rowNumber\" style = \"font-weight: bold; text-align: right;\">8</td><td style = \"text-align: left;\">H1791</td><td style = \"text-align: left;\">BXD24</td><td style = \"text-align: right;\">24</td><td style = \"text-align: right;\">12.5</td><td style = \"text-align: right;\">12.273</td><td style = \"text-align: right;\">17.944</td><td style = \"text-align: right;\">17.833</td><td style = \"text-align: right;\">17.63</td><td style = \"text-align: right;\">16.862</td><td style = \"text-align: right;\">16.3</td></tr><tr><td class = \"rowNumber\" style = \"font-weight: bold; text-align: right;\">9</td><td style = \"text-align: left;\">H1541</td><td style = \"text-align: left;\">BXD24</td><td style = \"text-align: right;\">24</td><td style = \"text-align: right;\">11.815</td><td style = \"text-align: right;\">11.564</td><td style = \"text-align: right;\">17.794</td><td style = \"text-align: right;\">17.759</td><td style = \"text-align: right;\">17.456</td><td style = \"text-align: right;\">16.878</td><td style = \"text-align: right;\">16.377</td></tr><tr><td class = \"rowNumber\" style = \"font-weight: bold; text-align: right;\">10</td><td style = \"text-align: left;\">H1277</td><td style = \"text-align: left;\">BXD24</td><td style = \"text-align: right;\">24</td><td style = \"text-align: right;\">12.674</td><td style = \"text-align: right;\">11.743</td><td style = \"text-align: right;\">17.866</td><td style = \"text-align: right;\">17.845</td><td style = \"text-align: right;\">17.577</td><td style = \"text-align: right;\">16.922</td><td style = \"text-align: right;\">16.26</td></tr></tbody></table></div>"
      ],
      "text/latex": [
       "\\begin{tabular}{r|ccccccc}\n",
       "\t& Sample & Strain & Strain\\_num & P42209\\_DESGLNRK\\_2 & P42209\\_GLRPLDVAFLR\\_3 & Q99M02\\_VGDPVYR\\_2 & \\\\\n",
       "\t\\hline\n",
       "\t& String7 & String7 & Int64 & Float64 & Float64 & Float64 & \\\\\n",
       "\t\\hline\n",
       "\t1 & H1009 & BXD9 & 9 & 11.349 & 11.534 & 17.587 & $\\dots$ \\\\\n",
       "\t2 & H0370 & BXD9 & 9 & 11.249 & 12.735 & 17.427 & $\\dots$ \\\\\n",
       "\t3 & H2577 & BXD9 & 9 & 12.415 & 10.487 & 17.89 & $\\dots$ \\\\\n",
       "\t4 & H0365 & BXD9 & 9 & 11.374 & 10.674 & 17.714 & $\\dots$ \\\\\n",
       "\t5 & H1333 & BXD13 & 13 & 11.687 & 11.524 & 17.362 & $\\dots$ \\\\\n",
       "\t6 & H2259 & BXD24 & 24 & 11.837 & 11.715 & 17.57 & $\\dots$ \\\\\n",
       "\t7 & H1792 & BXD24 & 24 & 11.563 & 11.434 & 17.789 & $\\dots$ \\\\\n",
       "\t8 & H1791 & BXD24 & 24 & 12.5 & 12.273 & 17.944 & $\\dots$ \\\\\n",
       "\t9 & H1541 & BXD24 & 24 & 11.815 & 11.564 & 17.794 & $\\dots$ \\\\\n",
       "\t10 & H1277 & BXD24 & 24 & 12.674 & 11.743 & 17.866 & $\\dots$ \\\\\n",
       "\\end{tabular}\n"
      ],
      "text/plain": [
       "\u001b[1m10×10 DataFrame\u001b[0m\n",
       "\u001b[1m Row \u001b[0m│\u001b[1m Sample  \u001b[0m\u001b[1m Strain  \u001b[0m\u001b[1m Strain_num \u001b[0m\u001b[1m P42209_DESGLNRK_2 \u001b[0m\u001b[1m P42209_GLRPLDVAFLR_3 \u001b[0m\u001b[1m \u001b[0m ⋯\n",
       "     │\u001b[90m String7 \u001b[0m\u001b[90m String7 \u001b[0m\u001b[90m Int64      \u001b[0m\u001b[90m Float64           \u001b[0m\u001b[90m Float64              \u001b[0m\u001b[90m \u001b[0m ⋯\n",
       "─────┼──────────────────────────────────────────────────────────────────────────\n",
       "   1 │ H1009    BXD9              9             11.349                11.534   ⋯\n",
       "   2 │ H0370    BXD9              9             11.249                12.735\n",
       "   3 │ H2577    BXD9              9             12.415                10.487\n",
       "   4 │ H0365    BXD9              9             11.374                10.674\n",
       "   5 │ H1333    BXD13            13             11.687                11.524   ⋯\n",
       "   6 │ H2259    BXD24            24             11.837                11.715\n",
       "   7 │ H1792    BXD24            24             11.563                11.434\n",
       "   8 │ H1791    BXD24            24             12.5                  12.273\n",
       "   9 │ H1541    BXD24            24             11.815                11.564   ⋯\n",
       "  10 │ H1277    BXD24            24             12.674                11.743\n",
       "\u001b[36m                                                               5 columns omitted\u001b[0m"
      ]
     },
     "execution_count": 6,
     "metadata": {},
     "output_type": "execute_result"
    }
   ],
   "source": [
    "println(size(BXD_pheno_ind_summary_df)) \n",
    "BXD_pheno_ind_summary_df[1:10, 1:10]"
   ]
  },
  {
   "cell_type": "code",
   "execution_count": 7,
   "id": "0ff1711f-771b-432b-a230-4161835d4b52",
   "metadata": {},
   "outputs": [],
   "source": [
    "BXD_geno_ind_summary_df = CSV.read(\"../../../shareddata/BXDLongevity/data/GN886_geno_summary.csv\", DataFrame);"
   ]
  },
  {
   "cell_type": "markdown",
   "id": "2f3abf17-58be-4916-9a5f-412546a12f50",
   "metadata": {},
   "source": [
    "By individuals, there are 248 individual samples for 7321 markers."
   ]
  },
  {
   "cell_type": "code",
   "execution_count": 8,
   "id": "e7f39851-0173-4c71-b583-dd4ad554445d",
   "metadata": {},
   "outputs": [
    {
     "name": "stdout",
     "output_type": "stream",
     "text": [
      "(248, 7324)\n"
     ]
    },
    {
     "data": {
      "text/html": [
       "<div><div style = \"float: left;\"><span>10×10 DataFrame</span></div><div style = \"clear: both;\"></div></div><div class = \"data-frame\" style = \"overflow-x: scroll;\"><table class = \"data-frame\" style = \"margin-bottom: 6px;\"><thead><tr class = \"header\"><th class = \"rowNumber\" style = \"font-weight: bold; text-align: right;\">Row</th><th style = \"text-align: left;\">Sample</th><th style = \"text-align: left;\">Strain</th><th style = \"text-align: left;\">Strain_num</th><th style = \"text-align: left;\">rs31443144</th><th style = \"text-align: left;\">rs6269442</th><th style = \"text-align: left;\">rs32285189</th><th style = \"text-align: left;\">rs258367496</th><th style = \"text-align: left;\">rs32430919</th><th style = \"text-align: left;\">rs36251697</th><th style = \"text-align: left;\">rs30658298</th></tr><tr class = \"subheader headerLastRow\"><th class = \"rowNumber\" style = \"font-weight: bold; text-align: right;\"></th><th title = \"String7\" style = \"text-align: left;\">String7</th><th title = \"String7\" style = \"text-align: left;\">String7</th><th title = \"Int64\" style = \"text-align: left;\">Int64</th><th title = \"Float64\" style = \"text-align: left;\">Float64</th><th title = \"Float64\" style = \"text-align: left;\">Float64</th><th title = \"Float64\" style = \"text-align: left;\">Float64</th><th title = \"Float64\" style = \"text-align: left;\">Float64</th><th title = \"Float64\" style = \"text-align: left;\">Float64</th><th title = \"Float64\" style = \"text-align: left;\">Float64</th><th title = \"Float64\" style = \"text-align: left;\">Float64</th></tr></thead><tbody><tr><td class = \"rowNumber\" style = \"font-weight: bold; text-align: right;\">1</td><td style = \"text-align: left;\">H1009</td><td style = \"text-align: left;\">BXD9</td><td style = \"text-align: right;\">9</td><td style = \"text-align: right;\">0.0</td><td style = \"text-align: right;\">0.0</td><td style = \"text-align: right;\">0.0</td><td style = \"text-align: right;\">0.0</td><td style = \"text-align: right;\">0.0</td><td style = \"text-align: right;\">0.0</td><td style = \"text-align: right;\">0.0</td></tr><tr><td class = \"rowNumber\" style = \"font-weight: bold; text-align: right;\">2</td><td style = \"text-align: left;\">H0370</td><td style = \"text-align: left;\">BXD9</td><td style = \"text-align: right;\">9</td><td style = \"text-align: right;\">0.0</td><td style = \"text-align: right;\">0.0</td><td style = \"text-align: right;\">0.0</td><td style = \"text-align: right;\">0.0</td><td style = \"text-align: right;\">0.0</td><td style = \"text-align: right;\">0.0</td><td style = \"text-align: right;\">0.0</td></tr><tr><td class = \"rowNumber\" style = \"font-weight: bold; text-align: right;\">3</td><td style = \"text-align: left;\">H2577</td><td style = \"text-align: left;\">BXD9</td><td style = \"text-align: right;\">9</td><td style = \"text-align: right;\">0.0</td><td style = \"text-align: right;\">0.0</td><td style = \"text-align: right;\">0.0</td><td style = \"text-align: right;\">0.0</td><td style = \"text-align: right;\">0.0</td><td style = \"text-align: right;\">0.0</td><td style = \"text-align: right;\">0.0</td></tr><tr><td class = \"rowNumber\" style = \"font-weight: bold; text-align: right;\">4</td><td style = \"text-align: left;\">H0365</td><td style = \"text-align: left;\">BXD9</td><td style = \"text-align: right;\">9</td><td style = \"text-align: right;\">0.0</td><td style = \"text-align: right;\">0.0</td><td style = \"text-align: right;\">0.0</td><td style = \"text-align: right;\">0.0</td><td style = \"text-align: right;\">0.0</td><td style = \"text-align: right;\">0.0</td><td style = \"text-align: right;\">0.0</td></tr><tr><td class = \"rowNumber\" style = \"font-weight: bold; text-align: right;\">5</td><td style = \"text-align: left;\">H1333</td><td style = \"text-align: left;\">BXD13</td><td style = \"text-align: right;\">13</td><td style = \"text-align: right;\">0.0</td><td style = \"text-align: right;\">0.0</td><td style = \"text-align: right;\">0.0</td><td style = \"text-align: right;\">0.0</td><td style = \"text-align: right;\">0.0</td><td style = \"text-align: right;\">0.0</td><td style = \"text-align: right;\">0.0</td></tr><tr><td class = \"rowNumber\" style = \"font-weight: bold; text-align: right;\">6</td><td style = \"text-align: left;\">H2259</td><td style = \"text-align: left;\">BXD24</td><td style = \"text-align: right;\">24</td><td style = \"text-align: right;\">0.0</td><td style = \"text-align: right;\">0.0</td><td style = \"text-align: right;\">0.0</td><td style = \"text-align: right;\">0.0</td><td style = \"text-align: right;\">0.0</td><td style = \"text-align: right;\">0.0</td><td style = \"text-align: right;\">0.0</td></tr><tr><td class = \"rowNumber\" style = \"font-weight: bold; text-align: right;\">7</td><td style = \"text-align: left;\">H1792</td><td style = \"text-align: left;\">BXD24</td><td style = \"text-align: right;\">24</td><td style = \"text-align: right;\">0.0</td><td style = \"text-align: right;\">0.0</td><td style = \"text-align: right;\">0.0</td><td style = \"text-align: right;\">0.0</td><td style = \"text-align: right;\">0.0</td><td style = \"text-align: right;\">0.0</td><td style = \"text-align: right;\">0.0</td></tr><tr><td class = \"rowNumber\" style = \"font-weight: bold; text-align: right;\">8</td><td style = \"text-align: left;\">H1791</td><td style = \"text-align: left;\">BXD24</td><td style = \"text-align: right;\">24</td><td style = \"text-align: right;\">0.0</td><td style = \"text-align: right;\">0.0</td><td style = \"text-align: right;\">0.0</td><td style = \"text-align: right;\">0.0</td><td style = \"text-align: right;\">0.0</td><td style = \"text-align: right;\">0.0</td><td style = \"text-align: right;\">0.0</td></tr><tr><td class = \"rowNumber\" style = \"font-weight: bold; text-align: right;\">9</td><td style = \"text-align: left;\">H1541</td><td style = \"text-align: left;\">BXD24</td><td style = \"text-align: right;\">24</td><td style = \"text-align: right;\">0.0</td><td style = \"text-align: right;\">0.0</td><td style = \"text-align: right;\">0.0</td><td style = \"text-align: right;\">0.0</td><td style = \"text-align: right;\">0.0</td><td style = \"text-align: right;\">0.0</td><td style = \"text-align: right;\">0.0</td></tr><tr><td class = \"rowNumber\" style = \"font-weight: bold; text-align: right;\">10</td><td style = \"text-align: left;\">H1277</td><td style = \"text-align: left;\">BXD24</td><td style = \"text-align: right;\">24</td><td style = \"text-align: right;\">0.0</td><td style = \"text-align: right;\">0.0</td><td style = \"text-align: right;\">0.0</td><td style = \"text-align: right;\">0.0</td><td style = \"text-align: right;\">0.0</td><td style = \"text-align: right;\">0.0</td><td style = \"text-align: right;\">0.0</td></tr></tbody></table></div>"
      ],
      "text/latex": [
       "\\begin{tabular}{r|ccccccccc}\n",
       "\t& Sample & Strain & Strain\\_num & rs31443144 & rs6269442 & rs32285189 & rs258367496 & rs32430919 & \\\\\n",
       "\t\\hline\n",
       "\t& String7 & String7 & Int64 & Float64 & Float64 & Float64 & Float64 & Float64 & \\\\\n",
       "\t\\hline\n",
       "\t1 & H1009 & BXD9 & 9 & 0.0 & 0.0 & 0.0 & 0.0 & 0.0 & $\\dots$ \\\\\n",
       "\t2 & H0370 & BXD9 & 9 & 0.0 & 0.0 & 0.0 & 0.0 & 0.0 & $\\dots$ \\\\\n",
       "\t3 & H2577 & BXD9 & 9 & 0.0 & 0.0 & 0.0 & 0.0 & 0.0 & $\\dots$ \\\\\n",
       "\t4 & H0365 & BXD9 & 9 & 0.0 & 0.0 & 0.0 & 0.0 & 0.0 & $\\dots$ \\\\\n",
       "\t5 & H1333 & BXD13 & 13 & 0.0 & 0.0 & 0.0 & 0.0 & 0.0 & $\\dots$ \\\\\n",
       "\t6 & H2259 & BXD24 & 24 & 0.0 & 0.0 & 0.0 & 0.0 & 0.0 & $\\dots$ \\\\\n",
       "\t7 & H1792 & BXD24 & 24 & 0.0 & 0.0 & 0.0 & 0.0 & 0.0 & $\\dots$ \\\\\n",
       "\t8 & H1791 & BXD24 & 24 & 0.0 & 0.0 & 0.0 & 0.0 & 0.0 & $\\dots$ \\\\\n",
       "\t9 & H1541 & BXD24 & 24 & 0.0 & 0.0 & 0.0 & 0.0 & 0.0 & $\\dots$ \\\\\n",
       "\t10 & H1277 & BXD24 & 24 & 0.0 & 0.0 & 0.0 & 0.0 & 0.0 & $\\dots$ \\\\\n",
       "\\end{tabular}\n"
      ],
      "text/plain": [
       "\u001b[1m10×10 DataFrame\u001b[0m\n",
       "\u001b[1m Row \u001b[0m│\u001b[1m Sample  \u001b[0m\u001b[1m Strain  \u001b[0m\u001b[1m Strain_num \u001b[0m\u001b[1m rs31443144 \u001b[0m\u001b[1m rs6269442 \u001b[0m\u001b[1m rs32285189 \u001b[0m\u001b[1m rs2583\u001b[0m ⋯\n",
       "     │\u001b[90m String7 \u001b[0m\u001b[90m String7 \u001b[0m\u001b[90m Int64      \u001b[0m\u001b[90m Float64    \u001b[0m\u001b[90m Float64   \u001b[0m\u001b[90m Float64    \u001b[0m\u001b[90m Float6\u001b[0m ⋯\n",
       "─────┼──────────────────────────────────────────────────────────────────────────\n",
       "   1 │ H1009    BXD9              9         0.0        0.0         0.0         ⋯\n",
       "   2 │ H0370    BXD9              9         0.0        0.0         0.0\n",
       "   3 │ H2577    BXD9              9         0.0        0.0         0.0\n",
       "   4 │ H0365    BXD9              9         0.0        0.0         0.0\n",
       "   5 │ H1333    BXD13            13         0.0        0.0         0.0         ⋯\n",
       "   6 │ H2259    BXD24            24         0.0        0.0         0.0\n",
       "   7 │ H1792    BXD24            24         0.0        0.0         0.0\n",
       "   8 │ H1791    BXD24            24         0.0        0.0         0.0\n",
       "   9 │ H1541    BXD24            24         0.0        0.0         0.0         ⋯\n",
       "  10 │ H1277    BXD24            24         0.0        0.0         0.0\n",
       "\u001b[36m                                                               4 columns omitted\u001b[0m"
      ]
     },
     "execution_count": 8,
     "metadata": {},
     "output_type": "execute_result"
    }
   ],
   "source": [
    "println(size(BXD_geno_ind_summary_df)) \n",
    "BXD_geno_ind_summary_df[1:10, 1:10]"
   ]
  },
  {
   "cell_type": "markdown",
   "id": "09ec71ff-4361-42b5-b7be-b5b67963dc81",
   "metadata": {},
   "source": [
    "### By strains:"
   ]
  },
  {
   "cell_type": "code",
   "execution_count": 9,
   "id": "446da4f9-0e1b-481b-b1c0-27fbd9d0165b",
   "metadata": {},
   "outputs": [
    {
     "data": {
      "text/plain": [
       "\"/home/zyu20/git/BulkLMM_Analyses/BXDLongevity\""
      ]
     },
     "execution_count": 9,
     "metadata": {},
     "output_type": "execute_result"
    }
   ],
   "source": [
    "pwd()"
   ]
  },
  {
   "cell_type": "code",
   "execution_count": 10,
   "id": "87fab8f1-fbe4-49d2-94cc-0163ac9ad461",
   "metadata": {},
   "outputs": [],
   "source": [
    "BXD_pheno_strains_summary_df = CSV.read(\"../../../shareddata/BXDLongevity/data/GN886_pheno_strain_means_summary.csv\", DataFrame);"
   ]
  },
  {
   "cell_type": "markdown",
   "id": "2255810e-cdd7-4473-a605-8a96126cbad0",
   "metadata": {},
   "source": [
    "By strains, there are 50 BXD strains for 32445 liver proteome."
   ]
  },
  {
   "cell_type": "code",
   "execution_count": 11,
   "id": "f5441670-3929-420d-a6c3-ceb794ea9cb1",
   "metadata": {},
   "outputs": [
    {
     "name": "stdout",
     "output_type": "stream",
     "text": [
      "(50, 32447)\n"
     ]
    },
    {
     "data": {
      "text/html": [
       "<div><div style = \"float: left;\"><span>10×10 DataFrame</span></div><div style = \"clear: both;\"></div></div><div class = \"data-frame\" style = \"overflow-x: scroll;\"><table class = \"data-frame\" style = \"margin-bottom: 6px;\"><thead><tr class = \"header\"><th class = \"rowNumber\" style = \"font-weight: bold; text-align: right;\">Row</th><th style = \"text-align: left;\">Strain</th><th style = \"text-align: left;\">Number of Samples</th><th style = \"text-align: left;\">P42209_DESGLNRK_2</th><th style = \"text-align: left;\">P42209_GLRPLDVAFLR_3</th><th style = \"text-align: left;\">Q99M02_VGDPVYR_2</th><th style = \"text-align: left;\">Q99M02_VWIYPIK_2</th><th style = \"text-align: left;\">Q99M02_LCDPSVK_2</th><th style = \"text-align: left;\">Q99M02_CVLTTVDPDTGIIDR_2</th><th style = \"text-align: left;\">Q99M02_LVQFDTSMK_2</th><th style = \"text-align: left;\">Q99M02_QLQQVGTVSK_2</th></tr><tr class = \"subheader headerLastRow\"><th class = \"rowNumber\" style = \"font-weight: bold; text-align: right;\"></th><th title = \"String7\" style = \"text-align: left;\">String7</th><th title = \"Int64\" style = \"text-align: left;\">Int64</th><th title = \"Float64\" style = \"text-align: left;\">Float64</th><th title = \"Float64\" style = \"text-align: left;\">Float64</th><th title = \"Float64\" style = \"text-align: left;\">Float64</th><th title = \"Float64\" style = \"text-align: left;\">Float64</th><th title = \"Float64\" style = \"text-align: left;\">Float64</th><th title = \"Float64\" style = \"text-align: left;\">Float64</th><th title = \"Float64\" style = \"text-align: left;\">Float64</th><th title = \"Float64\" style = \"text-align: left;\">Float64</th></tr></thead><tbody><tr><td class = \"rowNumber\" style = \"font-weight: bold; text-align: right;\">1</td><td style = \"text-align: left;\">BXD9</td><td style = \"text-align: right;\">4</td><td style = \"text-align: right;\">11.5968</td><td style = \"text-align: right;\">11.3575</td><td style = \"text-align: right;\">17.6545</td><td style = \"text-align: right;\">17.4327</td><td style = \"text-align: right;\">17.384</td><td style = \"text-align: right;\">16.6528</td><td style = \"text-align: right;\">16.2222</td><td style = \"text-align: right;\">16.3227</td></tr><tr><td class = \"rowNumber\" style = \"font-weight: bold; text-align: right;\">2</td><td style = \"text-align: left;\">BXD13</td><td style = \"text-align: right;\">1</td><td style = \"text-align: right;\">11.687</td><td style = \"text-align: right;\">11.524</td><td style = \"text-align: right;\">17.362</td><td style = \"text-align: right;\">17.367</td><td style = \"text-align: right;\">17.071</td><td style = \"text-align: right;\">16.465</td><td style = \"text-align: right;\">15.97</td><td style = \"text-align: right;\">15.98</td></tr><tr><td class = \"rowNumber\" style = \"font-weight: bold; text-align: right;\">3</td><td style = \"text-align: left;\">BXD24</td><td style = \"text-align: right;\">5</td><td style = \"text-align: right;\">12.0778</td><td style = \"text-align: right;\">11.7458</td><td style = \"text-align: right;\">17.7926</td><td style = \"text-align: right;\">17.8152</td><td style = \"text-align: right;\">17.5168</td><td style = \"text-align: right;\">16.9196</td><td style = \"text-align: right;\">16.3012</td><td style = \"text-align: right;\">16.4304</td></tr><tr><td class = \"rowNumber\" style = \"font-weight: bold; text-align: right;\">4</td><td style = \"text-align: left;\">BXD27</td><td style = \"text-align: right;\">3</td><td style = \"text-align: right;\">11.717</td><td style = \"text-align: right;\">11.149</td><td style = \"text-align: right;\">17.336</td><td style = \"text-align: right;\">17.3143</td><td style = \"text-align: right;\">17.165</td><td style = \"text-align: right;\">16.5283</td><td style = \"text-align: right;\">15.9407</td><td style = \"text-align: right;\">16.002</td></tr><tr><td class = \"rowNumber\" style = \"font-weight: bold; text-align: right;\">5</td><td style = \"text-align: left;\">BXD29</td><td style = \"text-align: right;\">11</td><td style = \"text-align: right;\">11.735</td><td style = \"text-align: right;\">11.3496</td><td style = \"text-align: right;\">17.4583</td><td style = \"text-align: right;\">17.3877</td><td style = \"text-align: right;\">17.2431</td><td style = \"text-align: right;\">16.4945</td><td style = \"text-align: right;\">16.0869</td><td style = \"text-align: right;\">16.1075</td></tr><tr><td class = \"rowNumber\" style = \"font-weight: bold; text-align: right;\">6</td><td style = \"text-align: left;\">BXD32</td><td style = \"text-align: right;\">8</td><td style = \"text-align: right;\">11.6266</td><td style = \"text-align: right;\">11.554</td><td style = \"text-align: right;\">17.8254</td><td style = \"text-align: right;\">17.7716</td><td style = \"text-align: right;\">17.4639</td><td style = \"text-align: right;\">16.9029</td><td style = \"text-align: right;\">16.434</td><td style = \"text-align: right;\">16.425</td></tr><tr><td class = \"rowNumber\" style = \"font-weight: bold; text-align: right;\">7</td><td style = \"text-align: left;\">BXD34</td><td style = \"text-align: right;\">13</td><td style = \"text-align: right;\">11.7491</td><td style = \"text-align: right;\">11.9135</td><td style = \"text-align: right;\">17.6108</td><td style = \"text-align: right;\">17.5974</td><td style = \"text-align: right;\">17.2988</td><td style = \"text-align: right;\">16.7761</td><td style = \"text-align: right;\">16.3147</td><td style = \"text-align: right;\">16.2926</td></tr><tr><td class = \"rowNumber\" style = \"font-weight: bold; text-align: right;\">8</td><td style = \"text-align: left;\">BXD39</td><td style = \"text-align: right;\">5</td><td style = \"text-align: right;\">11.9158</td><td style = \"text-align: right;\">11.719</td><td style = \"text-align: right;\">17.395</td><td style = \"text-align: right;\">17.385</td><td style = \"text-align: right;\">17.157</td><td style = \"text-align: right;\">16.5226</td><td style = \"text-align: right;\">16.179</td><td style = \"text-align: right;\">16.0594</td></tr><tr><td class = \"rowNumber\" style = \"font-weight: bold; text-align: right;\">9</td><td style = \"text-align: left;\">BXD40</td><td style = \"text-align: right;\">8</td><td style = \"text-align: right;\">11.8651</td><td style = \"text-align: right;\">11.6817</td><td style = \"text-align: right;\">17.5986</td><td style = \"text-align: right;\">17.6386</td><td style = \"text-align: right;\">17.3861</td><td style = \"text-align: right;\">16.6824</td><td style = \"text-align: right;\">16.2855</td><td style = \"text-align: right;\">16.2523</td></tr><tr><td class = \"rowNumber\" style = \"font-weight: bold; text-align: right;\">10</td><td style = \"text-align: left;\">BXD43</td><td style = \"text-align: right;\">4</td><td style = \"text-align: right;\">12.378</td><td style = \"text-align: right;\">11.4563</td><td style = \"text-align: right;\">17.76</td><td style = \"text-align: right;\">17.8035</td><td style = \"text-align: right;\">17.3652</td><td style = \"text-align: right;\">16.885</td><td style = \"text-align: right;\">16.5245</td><td style = \"text-align: right;\">16.3532</td></tr></tbody></table></div>"
      ],
      "text/latex": [
       "\\begin{tabular}{r|cccccc}\n",
       "\t& Strain & Number of Samples & P42209\\_DESGLNRK\\_2 & P42209\\_GLRPLDVAFLR\\_3 & Q99M02\\_VGDPVYR\\_2 & \\\\\n",
       "\t\\hline\n",
       "\t& String7 & Int64 & Float64 & Float64 & Float64 & \\\\\n",
       "\t\\hline\n",
       "\t1 & BXD9 & 4 & 11.5968 & 11.3575 & 17.6545 & $\\dots$ \\\\\n",
       "\t2 & BXD13 & 1 & 11.687 & 11.524 & 17.362 & $\\dots$ \\\\\n",
       "\t3 & BXD24 & 5 & 12.0778 & 11.7458 & 17.7926 & $\\dots$ \\\\\n",
       "\t4 & BXD27 & 3 & 11.717 & 11.149 & 17.336 & $\\dots$ \\\\\n",
       "\t5 & BXD29 & 11 & 11.735 & 11.3496 & 17.4583 & $\\dots$ \\\\\n",
       "\t6 & BXD32 & 8 & 11.6266 & 11.554 & 17.8254 & $\\dots$ \\\\\n",
       "\t7 & BXD34 & 13 & 11.7491 & 11.9135 & 17.6108 & $\\dots$ \\\\\n",
       "\t8 & BXD39 & 5 & 11.9158 & 11.719 & 17.395 & $\\dots$ \\\\\n",
       "\t9 & BXD40 & 8 & 11.8651 & 11.6817 & 17.5986 & $\\dots$ \\\\\n",
       "\t10 & BXD43 & 4 & 12.378 & 11.4563 & 17.76 & $\\dots$ \\\\\n",
       "\\end{tabular}\n"
      ],
      "text/plain": [
       "\u001b[1m10×10 DataFrame\u001b[0m\n",
       "\u001b[1m Row \u001b[0m│\u001b[1m Strain  \u001b[0m\u001b[1m Number of Samples \u001b[0m\u001b[1m P42209_DESGLNRK_2 \u001b[0m\u001b[1m P42209_GLRPLDVAFLR_3 \u001b[0m\u001b[1m Q9\u001b[0m ⋯\n",
       "     │\u001b[90m String7 \u001b[0m\u001b[90m Int64             \u001b[0m\u001b[90m Float64           \u001b[0m\u001b[90m Float64              \u001b[0m\u001b[90m Fl\u001b[0m ⋯\n",
       "─────┼──────────────────────────────────────────────────────────────────────────\n",
       "   1 │ BXD9                     4            11.5968               11.3575     ⋯\n",
       "   2 │ BXD13                    1            11.687                11.524\n",
       "   3 │ BXD24                    5            12.0778               11.7458\n",
       "   4 │ BXD27                    3            11.717                11.149\n",
       "   5 │ BXD29                   11            11.735                11.3496     ⋯\n",
       "   6 │ BXD32                    8            11.6266               11.554\n",
       "   7 │ BXD34                   13            11.7491               11.9135\n",
       "   8 │ BXD39                    5            11.9158               11.719\n",
       "   9 │ BXD40                    8            11.8651               11.6817     ⋯\n",
       "  10 │ BXD43                    4            12.378                11.4563\n",
       "\u001b[36m                                                               6 columns omitted\u001b[0m"
      ]
     },
     "execution_count": 11,
     "metadata": {},
     "output_type": "execute_result"
    }
   ],
   "source": [
    "println(size(BXD_pheno_strains_summary_df)) \n",
    "BXD_pheno_strains_summary_df[1:10, 1:10]"
   ]
  },
  {
   "cell_type": "code",
   "execution_count": 12,
   "id": "c9e172db-b395-4c04-9c4c-429e8ce5b677",
   "metadata": {},
   "outputs": [],
   "source": [
    "BXD_geno_strains_summary_df = CSV.read(\"../../../shareddata/BXDLongevity/data/GN886_geno_strains_summary.csv\", DataFrame);"
   ]
  },
  {
   "cell_type": "markdown",
   "id": "e606034c-1af9-4dad-a88d-07f4cc67be19",
   "metadata": {},
   "source": [
    "By strains, there are 50 BXD strains for 7321 markers."
   ]
  },
  {
   "cell_type": "code",
   "execution_count": 13,
   "id": "324c16c7-5a68-44a5-abe6-b098bf1526a9",
   "metadata": {},
   "outputs": [
    {
     "name": "stdout",
     "output_type": "stream",
     "text": [
      "(50, 7322)\n"
     ]
    },
    {
     "data": {
      "text/html": [
       "<div><div style = \"float: left;\"><span>10×10 DataFrame</span></div><div style = \"clear: both;\"></div></div><div class = \"data-frame\" style = \"overflow-x: scroll;\"><table class = \"data-frame\" style = \"margin-bottom: 6px;\"><thead><tr class = \"header\"><th class = \"rowNumber\" style = \"font-weight: bold; text-align: right;\">Row</th><th style = \"text-align: left;\">Strain</th><th style = \"text-align: left;\">rs31443144</th><th style = \"text-align: left;\">rs6269442</th><th style = \"text-align: left;\">rs32285189</th><th style = \"text-align: left;\">rs258367496</th><th style = \"text-align: left;\">rs32430919</th><th style = \"text-align: left;\">rs36251697</th><th style = \"text-align: left;\">rs30658298</th><th style = \"text-align: left;\">rs51852623</th><th style = \"text-align: left;\">rs31879829</th></tr><tr class = \"subheader headerLastRow\"><th class = \"rowNumber\" style = \"font-weight: bold; text-align: right;\"></th><th title = \"String7\" style = \"text-align: left;\">String7</th><th title = \"Float64\" style = \"text-align: left;\">Float64</th><th title = \"Float64\" style = \"text-align: left;\">Float64</th><th title = \"Float64\" style = \"text-align: left;\">Float64</th><th title = \"Float64\" style = \"text-align: left;\">Float64</th><th title = \"Float64\" style = \"text-align: left;\">Float64</th><th title = \"Float64\" style = \"text-align: left;\">Float64</th><th title = \"Float64\" style = \"text-align: left;\">Float64</th><th title = \"Float64\" style = \"text-align: left;\">Float64</th><th title = \"Float64\" style = \"text-align: left;\">Float64</th></tr></thead><tbody><tr><td class = \"rowNumber\" style = \"font-weight: bold; text-align: right;\">1</td><td style = \"text-align: left;\">BXD9</td><td style = \"text-align: right;\">0.0</td><td style = \"text-align: right;\">0.0</td><td style = \"text-align: right;\">0.0</td><td style = \"text-align: right;\">0.0</td><td style = \"text-align: right;\">0.0</td><td style = \"text-align: right;\">0.0</td><td style = \"text-align: right;\">0.0</td><td style = \"text-align: right;\">0.0</td><td style = \"text-align: right;\">0.0</td></tr><tr><td class = \"rowNumber\" style = \"font-weight: bold; text-align: right;\">2</td><td style = \"text-align: left;\">BXD13</td><td style = \"text-align: right;\">0.0</td><td style = \"text-align: right;\">0.0</td><td style = \"text-align: right;\">0.0</td><td style = \"text-align: right;\">0.0</td><td style = \"text-align: right;\">0.0</td><td style = \"text-align: right;\">0.0</td><td style = \"text-align: right;\">0.0</td><td style = \"text-align: right;\">0.0</td><td style = \"text-align: right;\">0.0</td></tr><tr><td class = \"rowNumber\" style = \"font-weight: bold; text-align: right;\">3</td><td style = \"text-align: left;\">BXD24</td><td style = \"text-align: right;\">0.0</td><td style = \"text-align: right;\">0.0</td><td style = \"text-align: right;\">0.0</td><td style = \"text-align: right;\">0.0</td><td style = \"text-align: right;\">0.0</td><td style = \"text-align: right;\">0.0</td><td style = \"text-align: right;\">0.0</td><td style = \"text-align: right;\">0.0</td><td style = \"text-align: right;\">0.0</td></tr><tr><td class = \"rowNumber\" style = \"font-weight: bold; text-align: right;\">4</td><td style = \"text-align: left;\">BXD27</td><td style = \"text-align: right;\">0.0</td><td style = \"text-align: right;\">0.0</td><td style = \"text-align: right;\">0.0</td><td style = \"text-align: right;\">0.0</td><td style = \"text-align: right;\">0.0</td><td style = \"text-align: right;\">0.0</td><td style = \"text-align: right;\">0.0</td><td style = \"text-align: right;\">0.0</td><td style = \"text-align: right;\">0.0</td></tr><tr><td class = \"rowNumber\" style = \"font-weight: bold; text-align: right;\">5</td><td style = \"text-align: left;\">BXD29</td><td style = \"text-align: right;\">1.0</td><td style = \"text-align: right;\">1.0</td><td style = \"text-align: right;\">1.0</td><td style = \"text-align: right;\">1.0</td><td style = \"text-align: right;\">1.0</td><td style = \"text-align: right;\">1.0</td><td style = \"text-align: right;\">1.0</td><td style = \"text-align: right;\">1.0</td><td style = \"text-align: right;\">1.0</td></tr><tr><td class = \"rowNumber\" style = \"font-weight: bold; text-align: right;\">6</td><td style = \"text-align: left;\">BXD32</td><td style = \"text-align: right;\">0.0</td><td style = \"text-align: right;\">0.0</td><td style = \"text-align: right;\">0.0</td><td style = \"text-align: right;\">0.0</td><td style = \"text-align: right;\">0.0</td><td style = \"text-align: right;\">0.0</td><td style = \"text-align: right;\">0.0</td><td style = \"text-align: right;\">0.0</td><td style = \"text-align: right;\">0.0</td></tr><tr><td class = \"rowNumber\" style = \"font-weight: bold; text-align: right;\">7</td><td style = \"text-align: left;\">BXD34</td><td style = \"text-align: right;\">0.0</td><td style = \"text-align: right;\">0.0</td><td style = \"text-align: right;\">0.0</td><td style = \"text-align: right;\">0.0</td><td style = \"text-align: right;\">0.0</td><td style = \"text-align: right;\">0.0</td><td style = \"text-align: right;\">0.0</td><td style = \"text-align: right;\">0.0</td><td style = \"text-align: right;\">0.0</td></tr><tr><td class = \"rowNumber\" style = \"font-weight: bold; text-align: right;\">8</td><td style = \"text-align: left;\">BXD39</td><td style = \"text-align: right;\">1.0</td><td style = \"text-align: right;\">1.0</td><td style = \"text-align: right;\">1.0</td><td style = \"text-align: right;\">1.0</td><td style = \"text-align: right;\">1.0</td><td style = \"text-align: right;\">1.0</td><td style = \"text-align: right;\">1.0</td><td style = \"text-align: right;\">1.0</td><td style = \"text-align: right;\">1.0</td></tr><tr><td class = \"rowNumber\" style = \"font-weight: bold; text-align: right;\">9</td><td style = \"text-align: left;\">BXD40</td><td style = \"text-align: right;\">0.0</td><td style = \"text-align: right;\">0.0</td><td style = \"text-align: right;\">0.0</td><td style = \"text-align: right;\">0.0</td><td style = \"text-align: right;\">0.0</td><td style = \"text-align: right;\">0.0</td><td style = \"text-align: right;\">0.0</td><td style = \"text-align: right;\">0.0</td><td style = \"text-align: right;\">0.0</td></tr><tr><td class = \"rowNumber\" style = \"font-weight: bold; text-align: right;\">10</td><td style = \"text-align: left;\">BXD43</td><td style = \"text-align: right;\">0.0</td><td style = \"text-align: right;\">0.0</td><td style = \"text-align: right;\">0.0</td><td style = \"text-align: right;\">0.0</td><td style = \"text-align: right;\">0.0</td><td style = \"text-align: right;\">0.0</td><td style = \"text-align: right;\">0.0</td><td style = \"text-align: right;\">0.0</td><td style = \"text-align: right;\">0.0</td></tr></tbody></table></div>"
      ],
      "text/latex": [
       "\\begin{tabular}{r|cccccccc}\n",
       "\t& Strain & rs31443144 & rs6269442 & rs32285189 & rs258367496 & rs32430919 & rs36251697 & \\\\\n",
       "\t\\hline\n",
       "\t& String7 & Float64 & Float64 & Float64 & Float64 & Float64 & Float64 & \\\\\n",
       "\t\\hline\n",
       "\t1 & BXD9 & 0.0 & 0.0 & 0.0 & 0.0 & 0.0 & 0.0 & $\\dots$ \\\\\n",
       "\t2 & BXD13 & 0.0 & 0.0 & 0.0 & 0.0 & 0.0 & 0.0 & $\\dots$ \\\\\n",
       "\t3 & BXD24 & 0.0 & 0.0 & 0.0 & 0.0 & 0.0 & 0.0 & $\\dots$ \\\\\n",
       "\t4 & BXD27 & 0.0 & 0.0 & 0.0 & 0.0 & 0.0 & 0.0 & $\\dots$ \\\\\n",
       "\t5 & BXD29 & 1.0 & 1.0 & 1.0 & 1.0 & 1.0 & 1.0 & $\\dots$ \\\\\n",
       "\t6 & BXD32 & 0.0 & 0.0 & 0.0 & 0.0 & 0.0 & 0.0 & $\\dots$ \\\\\n",
       "\t7 & BXD34 & 0.0 & 0.0 & 0.0 & 0.0 & 0.0 & 0.0 & $\\dots$ \\\\\n",
       "\t8 & BXD39 & 1.0 & 1.0 & 1.0 & 1.0 & 1.0 & 1.0 & $\\dots$ \\\\\n",
       "\t9 & BXD40 & 0.0 & 0.0 & 0.0 & 0.0 & 0.0 & 0.0 & $\\dots$ \\\\\n",
       "\t10 & BXD43 & 0.0 & 0.0 & 0.0 & 0.0 & 0.0 & 0.0 & $\\dots$ \\\\\n",
       "\\end{tabular}\n"
      ],
      "text/plain": [
       "\u001b[1m10×10 DataFrame\u001b[0m\n",
       "\u001b[1m Row \u001b[0m│\u001b[1m Strain  \u001b[0m\u001b[1m rs31443144 \u001b[0m\u001b[1m rs6269442 \u001b[0m\u001b[1m rs32285189 \u001b[0m\u001b[1m rs258367496 \u001b[0m\u001b[1m rs32430919 \u001b[0m\u001b[1m rs\u001b[0m ⋯\n",
       "     │\u001b[90m String7 \u001b[0m\u001b[90m Float64    \u001b[0m\u001b[90m Float64   \u001b[0m\u001b[90m Float64    \u001b[0m\u001b[90m Float64     \u001b[0m\u001b[90m Float64    \u001b[0m\u001b[90m Fl\u001b[0m ⋯\n",
       "─────┼──────────────────────────────────────────────────────────────────────────\n",
       "   1 │ BXD9            0.0        0.0         0.0          0.0         0.0     ⋯\n",
       "   2 │ BXD13           0.0        0.0         0.0          0.0         0.0\n",
       "   3 │ BXD24           0.0        0.0         0.0          0.0         0.0\n",
       "   4 │ BXD27           0.0        0.0         0.0          0.0         0.0\n",
       "   5 │ BXD29           1.0        1.0         1.0          1.0         1.0     ⋯\n",
       "   6 │ BXD32           0.0        0.0         0.0          0.0         0.0\n",
       "   7 │ BXD34           0.0        0.0         0.0          0.0         0.0\n",
       "   8 │ BXD39           1.0        1.0         1.0          1.0         1.0\n",
       "   9 │ BXD40           0.0        0.0         0.0          0.0         0.0     ⋯\n",
       "  10 │ BXD43           0.0        0.0         0.0          0.0         0.0\n",
       "\u001b[36m                                                               4 columns omitted\u001b[0m"
      ]
     },
     "execution_count": 13,
     "metadata": {},
     "output_type": "execute_result"
    }
   ],
   "source": [
    "println(size(BXD_geno_strains_summary_df)) \n",
    "BXD_geno_strains_summary_df[1:10, 1:10]"
   ]
  },
  {
   "cell_type": "markdown",
   "id": "3e0e8473-c29a-42c3-a47f-a2748cd4f5d7",
   "metadata": {},
   "source": [
    "## Load functions:"
   ]
  },
  {
   "cell_type": "code",
   "execution_count": 14,
   "id": "eb9dc75b-0c40-4bf1-b24e-cb6896ae45b3",
   "metadata": {},
   "outputs": [
    {
     "data": {
      "text/plain": [
       "\"/home/zyu20/git/BulkLMM_Analyses/BXDLongevity\""
      ]
     },
     "execution_count": 14,
     "metadata": {},
     "output_type": "execute_result"
    }
   ],
   "source": [
    "pwd()"
   ]
  },
  {
   "cell_type": "code",
   "execution_count": 15,
   "id": "f04bb842-e79c-4ec0-9d62-d7b944e6f665",
   "metadata": {},
   "outputs": [],
   "source": [
    "include(joinpath(local_path, \"kinship.jl\"));\n",
    "include(joinpath(local_path, \"util.jl\"));\n",
    "include(joinpath(local_path, \"wls.jl\"));\n",
    "include(joinpath(local_path, \"lmm.jl\"));\n",
    "include(joinpath(local_path, \"gridbrent.jl\"));\n",
    "include(joinpath(local_path, \"transform_helpers.jl\"));\n",
    "include(joinpath(local_path, \"scan.jl\"));\n",
    "include(joinpath(local_path, \"bulkscan_helpers.jl\"));\n",
    "include(joinpath(local_path, \"bulkscan.jl\"));\n",
    "include(joinpath(local_path, \"readData.jl\"));\n",
    "include(joinpath(local_path, \"../plot_utils/visuals_utils.jl\"));\n",
    "include(joinpath(local_path, \"analysis_helpers/single_trait_analysis.jl\"));\n",
    "include(\"../../BigRiver_util_code/src/kinship_utils.jl\");"
   ]
  },
  {
   "cell_type": "markdown",
   "id": "0eae3573-e769-444e-9899-98480f6f8ccd",
   "metadata": {
    "tags": []
   },
   "source": [
    "## Objectives\n",
    "\n",
    "- gemma one trait, ind and strains\n",
    "\n",
    "- scan_alt one trait, ind and strains\n",
    "\n",
    "- scan_null one trait, ind and strains\n",
    "\n",
    "- bulkscan_grid (null), all traits, ...\n",
    "\n",
    "- data structure for all traits results...\n",
    "\n",
    "- Heatmap grids_taken, compare on strain means and individuals\n",
    "\n",
    "- Histogram of heritabilities (null) for all traits (both strain means and individual level data)\n",
    "\n",
    "- Loglikelihood by h2_grid plot, strain means v.s. individuals\n",
    "\n",
    "- Report fixed effects:\n",
    "\n",
    "- Adjusting difference in the number of samples across strains\n",
    "\n",
    "- Histogram of heritabilities (null) for all traits (both strain means and individual level data)"
   ]
  },
  {
   "cell_type": "markdown",
   "id": "3fe2c576-b753-4832-810f-24f196d05587",
   "metadata": {},
   "source": [
    "## Run BulkLMM.jl:"
   ]
  },
  {
   "cell_type": "markdown",
   "id": "b21044d7-08fc-454d-9528-e1271634033d",
   "metadata": {},
   "source": [
    "### Calculate kinship:"
   ]
  },
  {
   "cell_type": "markdown",
   "id": "02df590a-330c-42cd-9683-a3ba1ff991fc",
   "metadata": {},
   "source": [
    "First, calculate the kinship matrix of relatedness among the strains (50-by-50):"
   ]
  },
  {
   "cell_type": "code",
   "execution_count": 16,
   "id": "18e76163-3e2a-40b3-b934-7ee1c9329887",
   "metadata": {},
   "outputs": [],
   "source": [
    "geno_strains = Matrix{Float64}(BXD_geno_strains_summary_df[:, 2:end]);"
   ]
  },
  {
   "cell_type": "code",
   "execution_count": 17,
   "id": "dd7d6569-ee12-4e1f-8fa4-df06d5c62ff8",
   "metadata": {},
   "outputs": [],
   "source": [
    "kinship_strains = calcKinship(geno_strains);"
   ]
  },
  {
   "cell_type": "markdown",
   "id": "e11b6c48-a575-4948-86bf-5e40d01b79c6",
   "metadata": {},
   "source": [
    "Then, construct the kinship matrix of relatedness among the individuals based on which strain they are from:"
   ]
  },
  {
   "cell_type": "code",
   "execution_count": 18,
   "id": "1627ff49-f03c-4f7c-95bb-647d9bec26dc",
   "metadata": {},
   "outputs": [],
   "source": [
    "BXD_geno_ind_summary_df.Strain_num = Vector{Int64}(BXD_geno_ind_summary_df.Strain_num);"
   ]
  },
  {
   "cell_type": "code",
   "execution_count": 19,
   "id": "ed61c75f-c283-49fd-acde-30b083d1743b",
   "metadata": {},
   "outputs": [
    {
     "name": "stdout",
     "output_type": "stream",
     "text": [
      "  0.078360 seconds (103.25 k allocations: 5.983 MiB, 96.13% compilation time)\n"
     ]
    }
   ],
   "source": [
    "@time kinship_ind_from_strains = calcKinship2(kinship_strains, BXD_geno_ind_summary_df.Strain_num);"
   ]
  },
  {
   "cell_type": "markdown",
   "id": "19b9c567-b404-429c-a3a6-6053ffec44d4",
   "metadata": {},
   "source": [
    "### Single-trait genome scans:"
   ]
  },
  {
   "cell_type": "markdown",
   "id": "bcbd89b9-2ad3-40a8-8e8d-81512875debb",
   "metadata": {},
   "source": [
    "To see single trait genome scan results, we take the 29437-th livear proteomic as the single trait to run analysis:  "
   ]
  },
  {
   "cell_type": "code",
   "execution_count": 20,
   "id": "547fc3eb-99e8-43b7-a7dd-bb0d3073b3b5",
   "metadata": {},
   "outputs": [],
   "source": [
    "lp_names = names(BXD_pheno_ind_summary_df)[4:end];"
   ]
  },
  {
   "cell_type": "code",
   "execution_count": 21,
   "id": "07a1bf7c-d333-4826-ab63-513f87006589",
   "metadata": {},
   "outputs": [
    {
     "data": {
      "text/plain": [
       "\"Q9Z2I8_SSGLPITSAVDLEDAAK_3\""
      ]
     },
     "execution_count": 21,
     "metadata": {},
     "output_type": "execute_result"
    }
   ],
   "source": [
    "lp_id = 29437;\n",
    "lp_names[lp_id]"
   ]
  },
  {
   "cell_type": "code",
   "execution_count": 22,
   "id": "10b8a21f-65a2-442f-bdd4-fbb0f7e2feaf",
   "metadata": {},
   "outputs": [],
   "source": [
    "prior = [1.0, 0.0];"
   ]
  },
  {
   "cell_type": "markdown",
   "id": "fb6aa497-38b0-4c8e-9582-c675019bfcfc",
   "metadata": {},
   "source": [
    "#### For individual liver proteome"
   ]
  },
  {
   "cell_type": "code",
   "execution_count": 23,
   "id": "d5f97779-e35c-4373-91ae-b9f003c5c280",
   "metadata": {},
   "outputs": [],
   "source": [
    "geno_ind = Matrix{Float64}(BXD_geno_ind_summary_df[:, 4:end]);"
   ]
  },
  {
   "cell_type": "code",
   "execution_count": 24,
   "id": "f9e6bc67-fc56-47ae-aa0c-df73658709b0",
   "metadata": {},
   "outputs": [],
   "source": [
    "lp_ind_Y = Matrix{Float64}(BXD_pheno_ind_summary_df[:, 4:end]);\n",
    "lp_ind_y = reshape(lp_ind_Y[:, lp_id], :, 1);"
   ]
  },
  {
   "cell_type": "code",
   "execution_count": 25,
   "id": "ebaaef2c-8973-42e0-b527-c23d8c73ae40",
   "metadata": {},
   "outputs": [],
   "source": [
    "lpst_ind_Y = colStandardize(lp_ind_Y);\n",
    "lpst_ind_y = reshape(lpst_ind_Y[:, lp_id], :, 1);"
   ]
  },
  {
   "cell_type": "code",
   "execution_count": 26,
   "id": "fb383cb0-71d2-45ea-97ba-b5d685e69607",
   "metadata": {},
   "outputs": [
    {
     "name": "stdout",
     "output_type": "stream",
     "text": [
      "  0.725176 seconds (731.68 k allocations: 175.362 MiB, 12.93% gc time, 79.06% compilation time)\n"
     ]
    }
   ],
   "source": [
    "@time scan_results_ind = scan(lpst_ind_y, geno_ind, kinship_ind_from_strains;\n",
    "                              prior_variance = 1.0, prior_sample_size = 0.1);"
   ]
  },
  {
   "cell_type": "code",
   "execution_count": 27,
   "id": "b44968a6-e24e-46bc-99c1-c5f5a8599e96",
   "metadata": {},
   "outputs": [
    {
     "name": "stdout",
     "output_type": "stream",
     "text": [
      " 13.294940 seconds (11.82 M allocations: 14.369 GiB, 7.71% gc time, 0.25% compilation time)\n"
     ]
    }
   ],
   "source": [
    "@time scan_results_ind_alt = scan(lpst_ind_y, geno_ind, kinship_ind_from_strains;\n",
    "                                  assumption = \"alt\", \n",
    "                                  prior_variance = prior[1], prior_sample_size = prior[2]);"
   ]
  },
  {
   "cell_type": "code",
   "execution_count": 28,
   "id": "4eb97040-9b9d-4b6a-b8c1-b497f16cd24b",
   "metadata": {},
   "outputs": [
    {
     "name": "stdout",
     "output_type": "stream",
     "text": [
      "  1.008721 seconds (2.06 M allocations: 269.178 MiB, 2.77% gc time, 87.67% compilation time)\n"
     ]
    }
   ],
   "source": [
    "@time scan_perms_results_ind = scan(lpst_ind_y, geno_ind, kinship_ind_from_strains;\n",
    "                                    prior_variance = prior[1], prior_sample_size = prior[2],\n",
    "                                    permutation_test = true, nperms = 1000, original = true);"
   ]
  },
  {
   "cell_type": "code",
   "execution_count": 29,
   "id": "703432c5-882d-4ec7-a9b9-818c1ed4b08e",
   "metadata": {},
   "outputs": [],
   "source": [
    "single_results_ind = DataFrame(hcat(scan_results_ind.lod, scan_results_ind_alt.lod, scan_perms_results_ind[:, 1]), [\"scan_null\", \"scan_alt\", \"scan_perms.original\"]);"
   ]
  },
  {
   "cell_type": "code",
   "execution_count": 30,
   "id": "1003eae2-dd56-42dd-9da9-5a218b38e37b",
   "metadata": {},
   "outputs": [
    {
     "data": {
      "text/html": [
       "<div><div style = \"float: left;\"><span>6×3 DataFrame</span></div><div style = \"clear: both;\"></div></div><div class = \"data-frame\" style = \"overflow-x: scroll;\"><table class = \"data-frame\" style = \"margin-bottom: 6px;\"><thead><tr class = \"header\"><th class = \"rowNumber\" style = \"font-weight: bold; text-align: right;\">Row</th><th style = \"text-align: left;\">scan_null</th><th style = \"text-align: left;\">scan_alt</th><th style = \"text-align: left;\">scan_perms.original</th></tr><tr class = \"subheader headerLastRow\"><th class = \"rowNumber\" style = \"font-weight: bold; text-align: right;\"></th><th title = \"Float64\" style = \"text-align: left;\">Float64</th><th title = \"Float64\" style = \"text-align: left;\">Float64</th><th title = \"Float64\" style = \"text-align: left;\">Float64</th></tr></thead><tbody><tr><td class = \"rowNumber\" style = \"font-weight: bold; text-align: right;\">1</td><td style = \"text-align: right;\">0.44861</td><td style = \"text-align: right;\">0.44861</td><td style = \"text-align: right;\">0.44861</td></tr><tr><td class = \"rowNumber\" style = \"font-weight: bold; text-align: right;\">2</td><td style = \"text-align: right;\">0.44861</td><td style = \"text-align: right;\">0.44861</td><td style = \"text-align: right;\">0.44861</td></tr><tr><td class = \"rowNumber\" style = \"font-weight: bold; text-align: right;\">3</td><td style = \"text-align: right;\">0.44861</td><td style = \"text-align: right;\">0.44861</td><td style = \"text-align: right;\">0.44861</td></tr><tr><td class = \"rowNumber\" style = \"font-weight: bold; text-align: right;\">4</td><td style = \"text-align: right;\">0.44861</td><td style = \"text-align: right;\">0.44861</td><td style = \"text-align: right;\">0.44861</td></tr><tr><td class = \"rowNumber\" style = \"font-weight: bold; text-align: right;\">5</td><td style = \"text-align: right;\">0.44861</td><td style = \"text-align: right;\">0.44861</td><td style = \"text-align: right;\">0.44861</td></tr><tr><td class = \"rowNumber\" style = \"font-weight: bold; text-align: right;\">6</td><td style = \"text-align: right;\">0.44861</td><td style = \"text-align: right;\">0.44861</td><td style = \"text-align: right;\">0.44861</td></tr></tbody></table></div>"
      ],
      "text/latex": [
       "\\begin{tabular}{r|ccc}\n",
       "\t& scan\\_null & scan\\_alt & scan\\_perms.original\\\\\n",
       "\t\\hline\n",
       "\t& Float64 & Float64 & Float64\\\\\n",
       "\t\\hline\n",
       "\t1 & 0.44861 & 0.44861 & 0.44861 \\\\\n",
       "\t2 & 0.44861 & 0.44861 & 0.44861 \\\\\n",
       "\t3 & 0.44861 & 0.44861 & 0.44861 \\\\\n",
       "\t4 & 0.44861 & 0.44861 & 0.44861 \\\\\n",
       "\t5 & 0.44861 & 0.44861 & 0.44861 \\\\\n",
       "\t6 & 0.44861 & 0.44861 & 0.44861 \\\\\n",
       "\\end{tabular}\n"
      ],
      "text/plain": [
       "\u001b[1m6×3 DataFrame\u001b[0m\n",
       "\u001b[1m Row \u001b[0m│\u001b[1m scan_null \u001b[0m\u001b[1m scan_alt \u001b[0m\u001b[1m scan_perms.original \u001b[0m\n",
       "     │\u001b[90m Float64   \u001b[0m\u001b[90m Float64  \u001b[0m\u001b[90m Float64             \u001b[0m\n",
       "─────┼──────────────────────────────────────────\n",
       "   1 │   0.44861   0.44861              0.44861\n",
       "   2 │   0.44861   0.44861              0.44861\n",
       "   3 │   0.44861   0.44861              0.44861\n",
       "   4 │   0.44861   0.44861              0.44861\n",
       "   5 │   0.44861   0.44861              0.44861\n",
       "   6 │   0.44861   0.44861              0.44861"
      ]
     },
     "execution_count": 30,
     "metadata": {},
     "output_type": "execute_result"
    }
   ],
   "source": [
    "single_results_ind[1:6, :]"
   ]
  },
  {
   "cell_type": "markdown",
   "id": "02074d3d-dfce-4b1d-a559-e03508615ca3",
   "metadata": {},
   "source": [
    "#### For liver proteome means by strains"
   ]
  },
  {
   "cell_type": "code",
   "execution_count": 26,
   "id": "4b51bafb-a1de-41c5-9f0d-b708b4972cdb",
   "metadata": {},
   "outputs": [],
   "source": [
    "lp_strains_Y = Matrix{Float64}(BXD_pheno_strains_summary_df[:, 3:end]);\n",
    "lp_strains_y = reshape(lp_strains_Y[:, lp_id], :, 1);"
   ]
  },
  {
   "cell_type": "code",
   "execution_count": 27,
   "id": "3fb63f6a-afd6-470f-aceb-cea72c5cba2b",
   "metadata": {},
   "outputs": [],
   "source": [
    "lpst_strains_Y = colStandardize(lp_strains_Y);\n",
    "lpst_strains_y = reshape(lpst_strains_Y[:, lp_id], :, 1);"
   ]
  },
  {
   "cell_type": "code",
   "execution_count": 33,
   "id": "8d181cef-df57-4e17-b4bc-f7c6a8a41d2f",
   "metadata": {},
   "outputs": [
    {
     "name": "stdout",
     "output_type": "stream",
     "text": [
      "  0.080775 seconds (206.70 k allocations: 40.364 MiB, 43.65% compilation time)\n"
     ]
    }
   ],
   "source": [
    "@time scan_results_strains = scan(lpst_strains_y, geno_strains, kinship_strains; \n",
    "                                  prior_variance = prior[1], prior_sample_size = prior[2],\n",
    "                                  optim_interval = 4);"
   ]
  },
  {
   "cell_type": "code",
   "execution_count": 34,
   "id": "558a9947-1e61-402e-90da-5a8c1cae15c7",
   "metadata": {},
   "outputs": [
    {
     "name": "stdout",
     "output_type": "stream",
     "text": [
      "  2.880550 seconds (6.73 M allocations: 2.055 GiB, 19.07% gc time)\n"
     ]
    }
   ],
   "source": [
    "@time scan_results_strains_alt = scan(lpst_strains_y, geno_strains, kinship_strains;\n",
    "                                      assumption = \"alt\",\n",
    "                                      prior_variance = prior[1], prior_sample_size = prior[2]);"
   ]
  },
  {
   "cell_type": "code",
   "execution_count": 35,
   "id": "f7e7ec8e-7352-4fef-a22c-d61e90fbae53",
   "metadata": {},
   "outputs": [
    {
     "name": "stdout",
     "output_type": "stream",
     "text": [
      "  0.112563 seconds (215.14 k allocations: 86.077 MiB, 26.47% gc time, 59.86% compilation time)\n"
     ]
    }
   ],
   "source": [
    "@time scan_perms_results_strains = scan(lpst_strains_y, geno_strains, kinship_strains;\n",
    "                                        permutation_test = true, nperms = 1000, original = true, \n",
    "                                        prior_variance = prior[1], prior_sample_size = prior[2]);"
   ]
  },
  {
   "cell_type": "code",
   "execution_count": 36,
   "id": "ef7d8e30-dfea-47f0-a7ff-ae966a9594b9",
   "metadata": {},
   "outputs": [],
   "source": [
    "single_results_strains = DataFrame(hcat(scan_results_strains.lod, scan_results_strains_alt.lod, scan_perms_results_strains[:, 1]), [\"scan_null\", \"scan_alt\", \"scan_perms.original\"]);"
   ]
  },
  {
   "cell_type": "code",
   "execution_count": 37,
   "id": "cd32ad3e-95f0-4169-a7b7-1b1b28b48f6c",
   "metadata": {},
   "outputs": [
    {
     "data": {
      "text/html": [
       "<div><div style = \"float: left;\"><span>6×3 DataFrame</span></div><div style = \"clear: both;\"></div></div><div class = \"data-frame\" style = \"overflow-x: scroll;\"><table class = \"data-frame\" style = \"margin-bottom: 6px;\"><thead><tr class = \"header\"><th class = \"rowNumber\" style = \"font-weight: bold; text-align: right;\">Row</th><th style = \"text-align: left;\">scan_null</th><th style = \"text-align: left;\">scan_alt</th><th style = \"text-align: left;\">scan_perms.original</th></tr><tr class = \"subheader headerLastRow\"><th class = \"rowNumber\" style = \"font-weight: bold; text-align: right;\"></th><th title = \"Float64\" style = \"text-align: left;\">Float64</th><th title = \"Float64\" style = \"text-align: left;\">Float64</th><th title = \"Float64\" style = \"text-align: left;\">Float64</th></tr></thead><tbody><tr><td class = \"rowNumber\" style = \"font-weight: bold; text-align: right;\">1</td><td style = \"text-align: right;\">0.387771</td><td style = \"text-align: right;\">0.387771</td><td style = \"text-align: right;\">0.387771</td></tr><tr><td class = \"rowNumber\" style = \"font-weight: bold; text-align: right;\">2</td><td style = \"text-align: right;\">0.387771</td><td style = \"text-align: right;\">0.387771</td><td style = \"text-align: right;\">0.387771</td></tr><tr><td class = \"rowNumber\" style = \"font-weight: bold; text-align: right;\">3</td><td style = \"text-align: right;\">0.387771</td><td style = \"text-align: right;\">0.387771</td><td style = \"text-align: right;\">0.387771</td></tr><tr><td class = \"rowNumber\" style = \"font-weight: bold; text-align: right;\">4</td><td style = \"text-align: right;\">0.387771</td><td style = \"text-align: right;\">0.387771</td><td style = \"text-align: right;\">0.387771</td></tr><tr><td class = \"rowNumber\" style = \"font-weight: bold; text-align: right;\">5</td><td style = \"text-align: right;\">0.387771</td><td style = \"text-align: right;\">0.387771</td><td style = \"text-align: right;\">0.387771</td></tr><tr><td class = \"rowNumber\" style = \"font-weight: bold; text-align: right;\">6</td><td style = \"text-align: right;\">0.387771</td><td style = \"text-align: right;\">0.387771</td><td style = \"text-align: right;\">0.387771</td></tr></tbody></table></div>"
      ],
      "text/latex": [
       "\\begin{tabular}{r|ccc}\n",
       "\t& scan\\_null & scan\\_alt & scan\\_perms.original\\\\\n",
       "\t\\hline\n",
       "\t& Float64 & Float64 & Float64\\\\\n",
       "\t\\hline\n",
       "\t1 & 0.387771 & 0.387771 & 0.387771 \\\\\n",
       "\t2 & 0.387771 & 0.387771 & 0.387771 \\\\\n",
       "\t3 & 0.387771 & 0.387771 & 0.387771 \\\\\n",
       "\t4 & 0.387771 & 0.387771 & 0.387771 \\\\\n",
       "\t5 & 0.387771 & 0.387771 & 0.387771 \\\\\n",
       "\t6 & 0.387771 & 0.387771 & 0.387771 \\\\\n",
       "\\end{tabular}\n"
      ],
      "text/plain": [
       "\u001b[1m6×3 DataFrame\u001b[0m\n",
       "\u001b[1m Row \u001b[0m│\u001b[1m scan_null \u001b[0m\u001b[1m scan_alt \u001b[0m\u001b[1m scan_perms.original \u001b[0m\n",
       "     │\u001b[90m Float64   \u001b[0m\u001b[90m Float64  \u001b[0m\u001b[90m Float64             \u001b[0m\n",
       "─────┼──────────────────────────────────────────\n",
       "   1 │  0.387771  0.387771             0.387771\n",
       "   2 │  0.387771  0.387771             0.387771\n",
       "   3 │  0.387771  0.387771             0.387771\n",
       "   4 │  0.387771  0.387771             0.387771\n",
       "   5 │  0.387771  0.387771             0.387771\n",
       "   6 │  0.387771  0.387771             0.387771"
      ]
     },
     "execution_count": 37,
     "metadata": {},
     "output_type": "execute_result"
    }
   ],
   "source": [
    "single_results_strains[1:6, :]"
   ]
  },
  {
   "cell_type": "markdown",
   "id": "e581b199-d92b-4b4a-950f-888df22eb3f2",
   "metadata": {},
   "source": [
    "### Multiple-trait genome scans:"
   ]
  },
  {
   "cell_type": "code",
   "execution_count": 28,
   "id": "cd08a07d-6a5c-45e0-a9a3-2aa199495c2a",
   "metadata": {},
   "outputs": [],
   "source": [
    "BLAS.set_num_threads(Threads.nthreads())"
   ]
  },
  {
   "cell_type": "code",
   "execution_count": 29,
   "id": "e02cca07-1c96-4fa6-89a5-4582abc864f1",
   "metadata": {},
   "outputs": [
    {
     "data": {
      "text/plain": [
       "16"
      ]
     },
     "execution_count": 29,
     "metadata": {},
     "output_type": "execute_result"
    }
   ],
   "source": [
    "BLAS.get_num_threads()"
   ]
  },
  {
   "cell_type": "code",
   "execution_count": 30,
   "id": "e1648bcc-bf04-4651-acfb-d4673b7826f5",
   "metadata": {},
   "outputs": [],
   "source": [
    "grid_list = collect(0.0:0.05:0.95);\n",
    "# grid_list = collect(0.0:0.01:0.99);"
   ]
  },
  {
   "cell_type": "markdown",
   "id": "15398327-2dcb-4168-8f30-a8bc4c3957ae",
   "metadata": {},
   "source": [
    "#### For individual liver proteome"
   ]
  },
  {
   "cell_type": "code",
   "execution_count": null,
   "id": "e3ffddcb-2dfb-4442-a569-a50ef65a4276",
   "metadata": {},
   "outputs": [],
   "source": [
    "size(lpst_ind_Y)"
   ]
  },
  {
   "cell_type": "code",
   "execution_count": null,
   "id": "743c155d-79e5-4dad-9c70-045bced69678",
   "metadata": {},
   "outputs": [],
   "source": [
    "size(lpst_strains_Y)"
   ]
  },
  {
   "cell_type": "code",
   "execution_count": null,
   "id": "c97d6a1f-da6a-42e4-9687-037aff817b11",
   "metadata": {},
   "outputs": [],
   "source": [
    "Threads.nthreads()"
   ]
  },
  {
   "cell_type": "code",
   "execution_count": null,
   "id": "2a304cb3-24ef-483e-a3ee-9ac484b2c3fb",
   "metadata": {},
   "outputs": [],
   "source": [
    "@time bulkscan_results_ind_null = bulkscan_null(lp_ind_Y, geno_ind, kinship_ind_from_strains; nb = Threads.nthreads(),\n",
    "                                                prior_variance = 1.0, prior_sample_size = 0.0, optim_interval = 1);"
   ]
  },
  {
   "cell_type": "code",
   "execution_count": null,
   "id": "0a73fb1d-8e91-4cc8-a227-236ceda8f66b",
   "metadata": {},
   "outputs": [],
   "source": [
    "BLAS.set_num_threads(Threads.nthreads())"
   ]
  },
  {
   "cell_type": "code",
   "execution_count": null,
   "id": "44d2515c-83a5-419a-a1d1-5e9151ceacc2",
   "metadata": {},
   "outputs": [],
   "source": [
    "@time bulkscan_results_ind_alt_grid = bulkscan_alt_grid(lpst_ind_Y, geno_ind, kinship_ind_from_strains, grid_list);"
   ]
  },
  {
   "cell_type": "code",
   "execution_count": null,
   "id": "c8b20542-0959-472e-9ae8-df190723e01e",
   "metadata": {},
   "outputs": [],
   "source": [
    "@time bulkscan_results_ind_null_grid = bulkscan_null_grid(lpst_ind_Y, geno_ind, kinship_ind_from_strains, grid_list);"
   ]
  },
  {
   "cell_type": "markdown",
   "id": "f69ba271-fe23-4764-9186-4167a256a964",
   "metadata": {},
   "source": [
    "#### For liver proteome means by strains"
   ]
  },
  {
   "cell_type": "code",
   "execution_count": null,
   "id": "f1d7f72c-5fd7-4135-94d0-7afaf3c8e396",
   "metadata": {},
   "outputs": [],
   "source": [
    "@time bulkscan_results_strains_null = bulkscan_null(lpst_strains_Y, geno_strains, kinship_strains; nb = Threads.nthreads(),\n",
    "                                                    prior_variance = 1.0, prior_sample_size = 0.0, optim_interval = 1);"
   ]
  },
  {
   "cell_type": "code",
   "execution_count": null,
   "id": "a1231e79-a93f-4fc7-8927-033d0dc5bf93",
   "metadata": {},
   "outputs": [],
   "source": [
    "BLAS.set_num_threads(Threads.nthreads())"
   ]
  },
  {
   "cell_type": "code",
   "execution_count": null,
   "id": "72a4ee75-e32b-4f97-b062-55afb687f85c",
   "metadata": {},
   "outputs": [],
   "source": [
    "@time bulkscan_results_strains_alt_grid = bulkscan_alt_grid(lpst_strains_Y, geno_strains, kinship_strains, grid_list);"
   ]
  },
  {
   "cell_type": "code",
   "execution_count": null,
   "id": "bd1ea493-2cc3-4e3c-9f4c-8faaf7cc10d2",
   "metadata": {},
   "outputs": [],
   "source": [
    "@time bulkscan_results_strains_null_grid = bulkscan_null_grid(lpst_strains_Y, geno_strains, kinship_strains, grid_list;\n",
    "                                                              prior_variance = 1.0, prior_sample_size = 0.0);"
   ]
  },
  {
   "cell_type": "code",
   "execution_count": null,
   "id": "d7680b96-f668-4e29-88c0-08bc226fb795",
   "metadata": {},
   "outputs": [],
   "source": [
    "pwd()"
   ]
  },
  {
   "cell_type": "markdown",
   "id": "c0c0d52b-1a02-490b-b7da-ef1f8f588963",
   "metadata": {},
   "source": [
    "### Peformance check:"
   ]
  },
  {
   "cell_type": "markdown",
   "id": "4d7af6d1-d09d-4630-a940-a98d7753e7c5",
   "metadata": {},
   "source": [
    "#### Individual data:\n",
    "- n = 248\n",
    "- m = 32445\n",
    "- p = 7321"
   ]
  },
  {
   "cell_type": "code",
   "execution_count": 40,
   "id": "5186431f-99e3-4c56-8896-30e9cf2ad037",
   "metadata": {},
   "outputs": [
    {
     "data": {
      "text/plain": [
       "(248, 32445)"
      ]
     },
     "execution_count": 40,
     "metadata": {},
     "output_type": "execute_result"
    }
   ],
   "source": [
    "size(lpst_ind_Y)"
   ]
  },
  {
   "cell_type": "code",
   "execution_count": 41,
   "id": "2c806f81-2571-41e4-9ec5-af3a0a6af603",
   "metadata": {},
   "outputs": [
    {
     "data": {
      "text/plain": [
       "(248, 7321)"
      ]
     },
     "execution_count": 41,
     "metadata": {},
     "output_type": "execute_result"
    }
   ],
   "source": [
    "size(geno_ind)"
   ]
  },
  {
   "cell_type": "code",
   "execution_count": 42,
   "id": "6d621b15-97bb-40b5-be00-fb1911fcce22",
   "metadata": {},
   "outputs": [
    {
     "data": {
      "text/plain": [
       "BenchmarkTools.Trial: 31 samples with 1 evaluation.\n",
       " Range \u001b[90m(\u001b[39m\u001b[36m\u001b[1mmin\u001b[22m\u001b[39m … \u001b[35mmax\u001b[39m\u001b[90m):  \u001b[39m\u001b[36m\u001b[1m137.718 ms\u001b[22m\u001b[39m … \u001b[35m295.167 ms\u001b[39m  \u001b[90m┊\u001b[39m GC \u001b[90m(\u001b[39mmin … max\u001b[90m): \u001b[39m0.00% … 12.62%\n",
       " Time  \u001b[90m(\u001b[39m\u001b[34m\u001b[1mmedian\u001b[22m\u001b[39m\u001b[90m):     \u001b[39m\u001b[34m\u001b[1m153.051 ms               \u001b[22m\u001b[39m\u001b[90m┊\u001b[39m GC \u001b[90m(\u001b[39mmedian\u001b[90m):    \u001b[39m0.00%\n",
       " Time  \u001b[90m(\u001b[39m\u001b[32m\u001b[1mmean\u001b[22m\u001b[39m ± \u001b[32mσ\u001b[39m\u001b[90m):   \u001b[39m\u001b[32m\u001b[1m165.246 ms\u001b[22m\u001b[39m ± \u001b[32m 34.361 ms\u001b[39m  \u001b[90m┊\u001b[39m GC \u001b[90m(\u001b[39mmean ± σ\u001b[90m):  \u001b[39m8.15% ±  9.55%\n",
       "\n",
       "  \u001b[39m█\u001b[39m \u001b[39m \u001b[39m \u001b[39m \u001b[39m▁\u001b[34m \u001b[39m\u001b[39m \u001b[39m \u001b[39m \u001b[39m \u001b[32m \u001b[39m\u001b[39m \u001b[39m \u001b[39m \u001b[39m \u001b[39m \u001b[39m \u001b[39m \u001b[39m \u001b[39m \u001b[39m \u001b[39m \u001b[39m \u001b[39m \u001b[39m \u001b[39m \u001b[39m \u001b[39m \u001b[39m \u001b[39m \u001b[39m \u001b[39m \u001b[39m \u001b[39m \u001b[39m \u001b[39m \u001b[39m \u001b[39m \u001b[39m \u001b[39m \u001b[39m \u001b[39m \u001b[39m \u001b[39m \u001b[39m \u001b[39m \u001b[39m \u001b[39m \u001b[39m \u001b[39m \u001b[39m \u001b[39m \u001b[39m \u001b[39m \u001b[39m \u001b[39m \u001b[39m \u001b[39m \u001b[39m \u001b[39m \u001b[39m \u001b[39m \n",
       "  \u001b[39m█\u001b[39m▄\u001b[39m▄\u001b[39m▁\u001b[39m▆\u001b[39m█\u001b[34m▄\u001b[39m\u001b[39m▄\u001b[39m▁\u001b[39m▆\u001b[39m▄\u001b[32m▄\u001b[39m\u001b[39m▄\u001b[39m▁\u001b[39m▄\u001b[39m▁\u001b[39m▄\u001b[39m▁\u001b[39m▁\u001b[39m▁\u001b[39m▄\u001b[39m▁\u001b[39m▁\u001b[39m▁\u001b[39m▄\u001b[39m▁\u001b[39m▄\u001b[39m▁\u001b[39m▁\u001b[39m▁\u001b[39m▄\u001b[39m▁\u001b[39m▁\u001b[39m▁\u001b[39m▄\u001b[39m▁\u001b[39m▁\u001b[39m▁\u001b[39m▁\u001b[39m▁\u001b[39m▁\u001b[39m▁\u001b[39m▁\u001b[39m▁\u001b[39m▁\u001b[39m▁\u001b[39m▁\u001b[39m▁\u001b[39m▁\u001b[39m▁\u001b[39m▁\u001b[39m▁\u001b[39m▁\u001b[39m▁\u001b[39m▁\u001b[39m▁\u001b[39m▁\u001b[39m▁\u001b[39m▁\u001b[39m▁\u001b[39m▄\u001b[39m \u001b[39m▁\n",
       "  138 ms\u001b[90m           Histogram: frequency by time\u001b[39m          295 ms \u001b[0m\u001b[1m<\u001b[22m\n",
       "\n",
       " Memory estimate\u001b[90m: \u001b[39m\u001b[33m136.22 MiB\u001b[39m, allocs estimate\u001b[90m: \u001b[39m\u001b[33m82175\u001b[39m."
      ]
     },
     "execution_count": 42,
     "metadata": {},
     "output_type": "execute_result"
    }
   ],
   "source": [
    "@benchmark scan(lpst_ind_y, geno_ind, kinship_ind_from_strains)"
   ]
  },
  {
   "cell_type": "code",
   "execution_count": 43,
   "id": "2ab53d50-2533-4e72-a213-c40574d137af",
   "metadata": {},
   "outputs": [
    {
     "data": {
      "text/plain": [
       "BenchmarkTools.Trial: 34 samples with 1 evaluation.\n",
       " Range \u001b[90m(\u001b[39m\u001b[36m\u001b[1mmin\u001b[22m\u001b[39m … \u001b[35mmax\u001b[39m\u001b[90m):  \u001b[39m\u001b[36m\u001b[1m137.078 ms\u001b[22m\u001b[39m … \u001b[35m185.899 ms\u001b[39m  \u001b[90m┊\u001b[39m GC \u001b[90m(\u001b[39mmin … max\u001b[90m): \u001b[39m0.00% … 9.05%\n",
       " Time  \u001b[90m(\u001b[39m\u001b[34m\u001b[1mmedian\u001b[22m\u001b[39m\u001b[90m):     \u001b[39m\u001b[34m\u001b[1m151.067 ms               \u001b[22m\u001b[39m\u001b[90m┊\u001b[39m GC \u001b[90m(\u001b[39mmedian\u001b[90m):    \u001b[39m4.71%\n",
       " Time  \u001b[90m(\u001b[39m\u001b[32m\u001b[1mmean\u001b[22m\u001b[39m ± \u001b[32mσ\u001b[39m\u001b[90m):   \u001b[39m\u001b[32m\u001b[1m147.267 ms\u001b[22m\u001b[39m ± \u001b[32m  9.947 ms\u001b[39m  \u001b[90m┊\u001b[39m GC \u001b[90m(\u001b[39mmean ± σ\u001b[90m):  \u001b[39m5.02% ± 4.88%\n",
       "\n",
       "  \u001b[39m▄\u001b[39m▃\u001b[39m \u001b[39m \u001b[39m \u001b[39m \u001b[39m \u001b[39m \u001b[39m \u001b[39m \u001b[39m \u001b[39m \u001b[39m \u001b[32m \u001b[39m\u001b[39m \u001b[39m \u001b[39m \u001b[34m \u001b[39m\u001b[39m█\u001b[39m \u001b[39m \u001b[39m \u001b[39m \u001b[39m \u001b[39m \u001b[39m \u001b[39m \u001b[39m \u001b[39m \u001b[39m \u001b[39m \u001b[39m \u001b[39m \u001b[39m \u001b[39m \u001b[39m \u001b[39m \u001b[39m \u001b[39m \u001b[39m \u001b[39m \u001b[39m \u001b[39m \u001b[39m \u001b[39m \u001b[39m \u001b[39m \u001b[39m \u001b[39m \u001b[39m \u001b[39m \u001b[39m \u001b[39m \u001b[39m \u001b[39m \u001b[39m \u001b[39m \u001b[39m \u001b[39m \u001b[39m \u001b[39m \u001b[39m \u001b[39m \n",
       "  \u001b[39m█\u001b[39m█\u001b[39m▇\u001b[39m▁\u001b[39m▁\u001b[39m▄\u001b[39m▁\u001b[39m▁\u001b[39m▁\u001b[39m▁\u001b[39m▁\u001b[39m▁\u001b[39m▁\u001b[32m▁\u001b[39m\u001b[39m▁\u001b[39m▁\u001b[39m▄\u001b[34m▇\u001b[39m\u001b[39m█\u001b[39m▇\u001b[39m▄\u001b[39m▁\u001b[39m▄\u001b[39m▁\u001b[39m▁\u001b[39m▁\u001b[39m▁\u001b[39m▁\u001b[39m▄\u001b[39m▁\u001b[39m▁\u001b[39m▁\u001b[39m▁\u001b[39m▁\u001b[39m▁\u001b[39m▁\u001b[39m▁\u001b[39m▁\u001b[39m▁\u001b[39m▁\u001b[39m▁\u001b[39m▁\u001b[39m▁\u001b[39m▁\u001b[39m▁\u001b[39m▁\u001b[39m▁\u001b[39m▁\u001b[39m▁\u001b[39m▁\u001b[39m▁\u001b[39m▁\u001b[39m▁\u001b[39m▁\u001b[39m▁\u001b[39m▁\u001b[39m▁\u001b[39m▁\u001b[39m▁\u001b[39m▁\u001b[39m▄\u001b[39m \u001b[39m▁\n",
       "  137 ms\u001b[90m           Histogram: frequency by time\u001b[39m          186 ms \u001b[0m\u001b[1m<\u001b[22m\n",
       "\n",
       " Memory estimate\u001b[90m: \u001b[39m\u001b[33m136.25 MiB\u001b[39m, allocs estimate\u001b[90m: \u001b[39m\u001b[33m82196\u001b[39m."
      ]
     },
     "execution_count": 43,
     "metadata": {},
     "output_type": "execute_result"
    }
   ],
   "source": [
    "@benchmark scan(lpst_ind_y, geno_ind, kinship_ind_from_strains;\n",
    "                prior_variance = 1.0, prior_sample_size = 0.1)"
   ]
  },
  {
   "cell_type": "code",
   "execution_count": 44,
   "id": "9499d1c5-b7e0-4b80-8bb4-74a7449de503",
   "metadata": {},
   "outputs": [
    {
     "data": {
      "text/plain": [
       "BenchmarkTools.Trial: 1 sample with 1 evaluation.\n",
       " Single result which took \u001b[34m13.118 s\u001b[39m (6.90% GC) to evaluate,\n",
       " with a memory estimate of \u001b[33m14.36 GiB\u001b[39m, over \u001b[33m11700339\u001b[39m allocations."
      ]
     },
     "execution_count": 44,
     "metadata": {},
     "output_type": "execute_result"
    }
   ],
   "source": [
    "@benchmark scan(lpst_ind_y, geno_ind, kinship_ind_from_strains;\n",
    "                assumption = \"alt\")"
   ]
  },
  {
   "cell_type": "code",
   "execution_count": 45,
   "id": "4358dedc-6d98-447c-a2bc-baf166f73f36",
   "metadata": {},
   "outputs": [
    {
     "data": {
      "text/plain": [
       "BenchmarkTools.Trial: 1 sample with 1 evaluation.\n",
       " Single result which took \u001b[34m13.560 s\u001b[39m (6.49% GC) to evaluate,\n",
       " with a memory estimate of \u001b[33m14.36 GiB\u001b[39m, over \u001b[33m11699184\u001b[39m allocations."
      ]
     },
     "execution_count": 45,
     "metadata": {},
     "output_type": "execute_result"
    }
   ],
   "source": [
    "@benchmark scan(lpst_ind_y, geno_ind, kinship_ind_from_strains;\n",
    "                assumption = \"alt\", \n",
    "                prior_variance = 1.0, prior_sample_size = 0.1)"
   ]
  },
  {
   "cell_type": "code",
   "execution_count": 46,
   "id": "ebbfc9a4-fd99-4394-8b19-cf5419b58093",
   "metadata": {},
   "outputs": [
    {
     "data": {
      "text/plain": [
       "16"
      ]
     },
     "execution_count": 46,
     "metadata": {},
     "output_type": "execute_result"
    }
   ],
   "source": [
    "BLAS.get_num_threads()"
   ]
  },
  {
   "cell_type": "code",
   "execution_count": 69,
   "id": "c1797da7-2e71-4170-b169-15ff506828b6",
   "metadata": {},
   "outputs": [
    {
     "name": "stdout",
     "output_type": "stream",
     "text": [
      "158.591825 seconds (2.60 G allocations: 1.813 TiB, 18.45% gc time)\n"
     ]
    }
   ],
   "source": [
    "@time bulkscan_null(lpst_ind_Y, geno_ind, kinship_ind_from_strains,\n",
    "                    prior_variance = 1.0, prior_sample_size = 0.1);"
   ]
  },
  {
   "cell_type": "code",
   "execution_count": 80,
   "id": "7e3c6287-fb49-42b6-8c90-39bfca88e2f4",
   "metadata": {},
   "outputs": [],
   "source": [
    "grid_perf = collect(0.0:0.05:0.95);"
   ]
  },
  {
   "cell_type": "code",
   "execution_count": 81,
   "id": "85303778-4d44-45c7-b422-88295248f909",
   "metadata": {},
   "outputs": [
    {
     "ename": "LoadError",
     "evalue": "TaskFailedException\n\n\u001b[91m    nested task error: \u001b[39mInterruptException:\n    Stacktrace:\n     [1] \u001b[0m\u001b[1mmacro expansion\u001b[22m\n    \u001b[90m   @ \u001b[39m\u001b[90m./\u001b[39m\u001b[90m\u001b[4mthreadingconstructs.jl:51\u001b[24m\u001b[39m\u001b[90m [inlined]\u001b[39m\n     [2] \u001b[0m\u001b[1mthreaded_map!\u001b[22m\u001b[0m\u001b[1m(\u001b[22m\u001b[90mf\u001b[39m::\u001b[0mFunction, \u001b[90mM\u001b[39m::\u001b[0mMatrix\u001b[90m{Float64}\u001b[39m, \u001b[90margs\u001b[39m::\u001b[0mInt64; \u001b[90mdims\u001b[39m::\u001b[0mInt64\u001b[0m\u001b[1m)\u001b[22m\n    \u001b[90m   @ \u001b[39m\u001b[35mMain\u001b[39m \u001b[90m~/git/BulkLMM.jl/src/\u001b[39m\u001b[90m\u001b[4mbulkscan_helpers.jl:94\u001b[24m\u001b[39m\n     [3] \u001b[0m\u001b[1mweighted_liteqtl\u001b[22m\u001b[0m\u001b[1m(\u001b[22m\u001b[90mY0\u001b[39m::\u001b[0mMatrix\u001b[90m{Float64}\u001b[39m, \u001b[90mX0\u001b[39m::\u001b[0mMatrix\u001b[90m{Float64}\u001b[39m, \u001b[90mlambda0\u001b[39m::\u001b[0mVector\u001b[90m{Float64}\u001b[39m, \u001b[90mhsq\u001b[39m::\u001b[0mFloat64; \u001b[90mnum_of_covar\u001b[39m::\u001b[0mInt64, \u001b[90mdims\u001b[39m::\u001b[0mInt64\u001b[0m\u001b[1m)\u001b[22m\n    \u001b[90m   @ \u001b[39m\u001b[35mMain\u001b[39m \u001b[90m~/git/BulkLMM.jl/src/\u001b[39m\u001b[90m\u001b[4mbulkscan_helpers.jl:200\u001b[24m\u001b[39m\n     [4] \u001b[0m\u001b[1mmacro expansion\u001b[22m\n    \u001b[90m   @ \u001b[39m\u001b[90m~/git/BulkLMM.jl/src/\u001b[39m\u001b[90m\u001b[4mbulkscan_helpers.jl:286\u001b[24m\u001b[39m\u001b[90m [inlined]\u001b[39m\n     [5] \u001b[0m\u001b[1m(::var\"#148#threadsfor_fun#44\"{Vector{Matrix{Float64}}, Vector{Vector{Bool}}, Vector{Float64}, Vector{Float64}, Matrix{Float64}, Matrix{Float64}, UnitRange{Int64}})\u001b[22m\u001b[0m\u001b[1m(\u001b[22m\u001b[90monethread\u001b[39m::\u001b[0mBool\u001b[0m\u001b[1m)\u001b[22m\n    \u001b[90m   @ \u001b[39m\u001b[35mMain\u001b[39m \u001b[90m./\u001b[39m\u001b[90m\u001b[4mthreadingconstructs.jl:85\u001b[24m\u001b[39m\n     [6] \u001b[0m\u001b[1m(::var\"#148#threadsfor_fun#44\"{Vector{Matrix{Float64}}, Vector{Vector{Bool}}, Vector{Float64}, Vector{Float64}, Matrix{Float64}, Matrix{Float64}, UnitRange{Int64}})\u001b[22m\u001b[0m\u001b[1m(\u001b[22m\u001b[0m\u001b[1m)\u001b[22m\n    \u001b[90m   @ \u001b[39m\u001b[35mMain\u001b[39m \u001b[90m./\u001b[39m\u001b[90m\u001b[4mthreadingconstructs.jl:52\u001b[24m\u001b[39m",
     "output_type": "error",
     "traceback": [
      "TaskFailedException\n\n\u001b[91m    nested task error: \u001b[39mInterruptException:\n    Stacktrace:\n     [1] \u001b[0m\u001b[1mmacro expansion\u001b[22m\n    \u001b[90m   @ \u001b[39m\u001b[90m./\u001b[39m\u001b[90m\u001b[4mthreadingconstructs.jl:51\u001b[24m\u001b[39m\u001b[90m [inlined]\u001b[39m\n     [2] \u001b[0m\u001b[1mthreaded_map!\u001b[22m\u001b[0m\u001b[1m(\u001b[22m\u001b[90mf\u001b[39m::\u001b[0mFunction, \u001b[90mM\u001b[39m::\u001b[0mMatrix\u001b[90m{Float64}\u001b[39m, \u001b[90margs\u001b[39m::\u001b[0mInt64; \u001b[90mdims\u001b[39m::\u001b[0mInt64\u001b[0m\u001b[1m)\u001b[22m\n    \u001b[90m   @ \u001b[39m\u001b[35mMain\u001b[39m \u001b[90m~/git/BulkLMM.jl/src/\u001b[39m\u001b[90m\u001b[4mbulkscan_helpers.jl:94\u001b[24m\u001b[39m\n     [3] \u001b[0m\u001b[1mweighted_liteqtl\u001b[22m\u001b[0m\u001b[1m(\u001b[22m\u001b[90mY0\u001b[39m::\u001b[0mMatrix\u001b[90m{Float64}\u001b[39m, \u001b[90mX0\u001b[39m::\u001b[0mMatrix\u001b[90m{Float64}\u001b[39m, \u001b[90mlambda0\u001b[39m::\u001b[0mVector\u001b[90m{Float64}\u001b[39m, \u001b[90mhsq\u001b[39m::\u001b[0mFloat64; \u001b[90mnum_of_covar\u001b[39m::\u001b[0mInt64, \u001b[90mdims\u001b[39m::\u001b[0mInt64\u001b[0m\u001b[1m)\u001b[22m\n    \u001b[90m   @ \u001b[39m\u001b[35mMain\u001b[39m \u001b[90m~/git/BulkLMM.jl/src/\u001b[39m\u001b[90m\u001b[4mbulkscan_helpers.jl:200\u001b[24m\u001b[39m\n     [4] \u001b[0m\u001b[1mmacro expansion\u001b[22m\n    \u001b[90m   @ \u001b[39m\u001b[90m~/git/BulkLMM.jl/src/\u001b[39m\u001b[90m\u001b[4mbulkscan_helpers.jl:286\u001b[24m\u001b[39m\u001b[90m [inlined]\u001b[39m\n     [5] \u001b[0m\u001b[1m(::var\"#148#threadsfor_fun#44\"{Vector{Matrix{Float64}}, Vector{Vector{Bool}}, Vector{Float64}, Vector{Float64}, Matrix{Float64}, Matrix{Float64}, UnitRange{Int64}})\u001b[22m\u001b[0m\u001b[1m(\u001b[22m\u001b[90monethread\u001b[39m::\u001b[0mBool\u001b[0m\u001b[1m)\u001b[22m\n    \u001b[90m   @ \u001b[39m\u001b[35mMain\u001b[39m \u001b[90m./\u001b[39m\u001b[90m\u001b[4mthreadingconstructs.jl:85\u001b[24m\u001b[39m\n     [6] \u001b[0m\u001b[1m(::var\"#148#threadsfor_fun#44\"{Vector{Matrix{Float64}}, Vector{Vector{Bool}}, Vector{Float64}, Vector{Float64}, Matrix{Float64}, Matrix{Float64}, UnitRange{Int64}})\u001b[22m\u001b[0m\u001b[1m(\u001b[22m\u001b[0m\u001b[1m)\u001b[22m\n    \u001b[90m   @ \u001b[39m\u001b[35mMain\u001b[39m \u001b[90m./\u001b[39m\u001b[90m\u001b[4mthreadingconstructs.jl:52\u001b[24m\u001b[39m",
      "",
      "Stacktrace:",
      "  [1] wait",
      "    @ ./task.jl:334 [inlined]",
      "  [2] threading_run(func::Function)",
      "    @ Base.Threads ./threadingconstructs.jl:38",
      "  [3] macro expansion",
      "    @ ./threadingconstructs.jl:97 [inlined]",
      "  [4] gridscan_by_bin(pheno::Matrix{Float64}, geno::Matrix{Float64}, covar::Matrix{Float64}, kinship::Matrix{Float64}, grid::Vector{Float64}; addIntercept::Bool, prior_variance::Float64, prior_sample_size::Float64, reml::Bool)",
      "    @ Main ~/git/BulkLMM.jl/src/bulkscan_helpers.jl:284",
      "  [5] #bulkscan_null_grid#50",
      "    @ ~/git/BulkLMM.jl/src/bulkscan.jl:207 [inlined]",
      "  [6] bulkscan_null_grid(Y::Matrix{Float64}, G::Matrix{Float64}, K::Matrix{Float64}, grid_list::Vector{Float64}; weights::Missing, prior_variance::Float64, prior_sample_size::Float64, reml::Bool)",
      "    @ Main ~/git/BulkLMM.jl/src/bulkscan.jl:169",
      "  [7] var\"##core#311\"()",
      "    @ Main ~/.julia/packages/BenchmarkTools/0owsb/src/execution.jl:489",
      "  [8] var\"##sample#312\"(::Tuple{}, __params::BenchmarkTools.Parameters)",
      "    @ Main ~/.julia/packages/BenchmarkTools/0owsb/src/execution.jl:495",
      "  [9] _run(b::BenchmarkTools.Benchmark, p::BenchmarkTools.Parameters; verbose::Bool, pad::String, kwargs::Base.Pairs{Symbol, Integer, NTuple{4, Symbol}, NamedTuple{(:samples, :evals, :gctrial, :gcsample), Tuple{Int64, Int64, Bool, Bool}}})",
      "    @ BenchmarkTools ~/.julia/packages/BenchmarkTools/0owsb/src/execution.jl:99",
      " [10] #invokelatest#2",
      "    @ ./essentials.jl:718 [inlined]",
      " [11] #run_result#45",
      "    @ ~/.julia/packages/BenchmarkTools/0owsb/src/execution.jl:34 [inlined]",
      " [12] run(b::BenchmarkTools.Benchmark, p::BenchmarkTools.Parameters; progressid::Nothing, nleaves::Float64, ndone::Float64, kwargs::Base.Pairs{Symbol, Integer, NTuple{5, Symbol}, NamedTuple{(:verbose, :samples, :evals, :gctrial, :gcsample), Tuple{Bool, Int64, Int64, Bool, Bool}}})",
      "    @ BenchmarkTools ~/.julia/packages/BenchmarkTools/0owsb/src/execution.jl:117",
      " [13] #warmup#54",
      "    @ ~/.julia/packages/BenchmarkTools/0owsb/src/execution.jl:169 [inlined]",
      " [14] warmup(item::BenchmarkTools.Benchmark)",
      "    @ BenchmarkTools ~/.julia/packages/BenchmarkTools/0owsb/src/execution.jl:169",
      " [15] top-level scope",
      "    @ ~/.julia/packages/BenchmarkTools/0owsb/src/execution.jl:393"
     ]
    }
   ],
   "source": [
    "@benchmark bulkscan_null_grid(lpst_ind_Y, geno_ind, kinship_ind_from_strains, grid_perf;\n",
    "                              prior_variance = 1.0, prior_sample_size = 0.1)"
   ]
  },
  {
   "cell_type": "code",
   "execution_count": 49,
   "id": "bdc492b2-3d84-42df-9b6d-09054595a067",
   "metadata": {},
   "outputs": [
    {
     "data": {
      "text/plain": [
       "BenchmarkTools.Trial: 1 sample with 1 evaluation.\n",
       " Single result which took \u001b[34m22.824 s\u001b[39m (3.32% GC) to evaluate,\n",
       " with a memory estimate of \u001b[33m41.84 GiB\u001b[39m, over \u001b[33m8691544\u001b[39m allocations."
      ]
     },
     "execution_count": 49,
     "metadata": {},
     "output_type": "execute_result"
    }
   ],
   "source": [
    "@benchmark bulkscan_alt_grid(lpst_ind_Y, geno_ind, kinship_ind_from_strains, grid_perf)"
   ]
  },
  {
   "cell_type": "markdown",
   "id": "d689cc87-01de-4f41-9193-55cd1201769c",
   "metadata": {},
   "source": [
    "#### Strain mean data:\n",
    "- n = 50\n",
    "- m = 32445\n",
    "- p = 7321"
   ]
  },
  {
   "cell_type": "code",
   "execution_count": 51,
   "id": "a7f55341-5d16-48f3-b3f7-7c2c71077963",
   "metadata": {},
   "outputs": [
    {
     "data": {
      "text/plain": [
       "(50, 32445)"
      ]
     },
     "execution_count": 51,
     "metadata": {},
     "output_type": "execute_result"
    }
   ],
   "source": [
    "size(lpst_strains_Y)"
   ]
  },
  {
   "cell_type": "code",
   "execution_count": 50,
   "id": "63889131-bb18-48fc-ad89-51b10d4e7ade",
   "metadata": {},
   "outputs": [
    {
     "data": {
      "text/plain": [
       "(50, 7321)"
      ]
     },
     "execution_count": 50,
     "metadata": {},
     "output_type": "execute_result"
    }
   ],
   "source": [
    "size(geno_strains)"
   ]
  },
  {
   "cell_type": "code",
   "execution_count": 52,
   "id": "2f8084a6-9ce3-429d-bf82-33d5ca370310",
   "metadata": {},
   "outputs": [
    {
     "data": {
      "text/plain": [
       "BenchmarkTools.Trial: 95 samples with 1 evaluation.\n",
       " Range \u001b[90m(\u001b[39m\u001b[36m\u001b[1mmin\u001b[22m\u001b[39m … \u001b[35mmax\u001b[39m\u001b[90m):  \u001b[39m\u001b[36m\u001b[1m39.550 ms\u001b[22m\u001b[39m … \u001b[35m241.791 ms\u001b[39m  \u001b[90m┊\u001b[39m GC \u001b[90m(\u001b[39mmin … max\u001b[90m): \u001b[39m0.00% … 79.77%\n",
       " Time  \u001b[90m(\u001b[39m\u001b[34m\u001b[1mmedian\u001b[22m\u001b[39m\u001b[90m):     \u001b[39m\u001b[34m\u001b[1m48.669 ms               \u001b[22m\u001b[39m\u001b[90m┊\u001b[39m GC \u001b[90m(\u001b[39mmedian\u001b[90m):    \u001b[39m0.00%\n",
       " Time  \u001b[90m(\u001b[39m\u001b[32m\u001b[1mmean\u001b[22m\u001b[39m ± \u001b[32mσ\u001b[39m\u001b[90m):   \u001b[39m\u001b[32m\u001b[1m52.642 ms\u001b[22m\u001b[39m ± \u001b[32m 27.347 ms\u001b[39m  \u001b[90m┊\u001b[39m GC \u001b[90m(\u001b[39mmean ± σ\u001b[90m):  \u001b[39m7.67% ± 11.64%\n",
       "\n",
       "  \u001b[39m \u001b[39m \u001b[39m█\u001b[34m▅\u001b[39m\u001b[32m \u001b[39m\u001b[39m \u001b[39m \u001b[39m \u001b[39m \u001b[39m \u001b[39m \u001b[39m \u001b[39m \u001b[39m \u001b[39m \u001b[39m \u001b[39m \u001b[39m \u001b[39m \u001b[39m \u001b[39m \u001b[39m \u001b[39m \u001b[39m \u001b[39m \u001b[39m \u001b[39m \u001b[39m \u001b[39m \u001b[39m \u001b[39m \u001b[39m \u001b[39m \u001b[39m \u001b[39m \u001b[39m \u001b[39m \u001b[39m \u001b[39m \u001b[39m \u001b[39m \u001b[39m \u001b[39m \u001b[39m \u001b[39m \u001b[39m \u001b[39m \u001b[39m \u001b[39m \u001b[39m \u001b[39m \u001b[39m \u001b[39m \u001b[39m \u001b[39m \u001b[39m \u001b[39m \u001b[39m \u001b[39m \u001b[39m \u001b[39m \u001b[39m \n",
       "  \u001b[39m▄\u001b[39m▁\u001b[39m█\u001b[34m█\u001b[39m\u001b[32m▄\u001b[39m\u001b[39m▁\u001b[39m▁\u001b[39m▁\u001b[39m▁\u001b[39m▁\u001b[39m▁\u001b[39m▁\u001b[39m▁\u001b[39m▁\u001b[39m▁\u001b[39m▁\u001b[39m▁\u001b[39m▁\u001b[39m▁\u001b[39m▁\u001b[39m▁\u001b[39m▁\u001b[39m▁\u001b[39m▁\u001b[39m▁\u001b[39m▁\u001b[39m▁\u001b[39m▁\u001b[39m▁\u001b[39m▁\u001b[39m▁\u001b[39m▁\u001b[39m▁\u001b[39m▁\u001b[39m▁\u001b[39m▁\u001b[39m▁\u001b[39m▁\u001b[39m▁\u001b[39m▁\u001b[39m▁\u001b[39m▁\u001b[39m▁\u001b[39m▁\u001b[39m▁\u001b[39m▁\u001b[39m▁\u001b[39m▁\u001b[39m▁\u001b[39m▁\u001b[39m▁\u001b[39m▁\u001b[39m▁\u001b[39m▁\u001b[39m▁\u001b[39m▁\u001b[39m▁\u001b[39m▁\u001b[39m▁\u001b[39m▄\u001b[39m \u001b[39m▁\n",
       "  39.5 ms\u001b[90m       \u001b[39m\u001b[90mHistogram: \u001b[39m\u001b[90m\u001b[1mlog(\u001b[22m\u001b[39m\u001b[90mfrequency\u001b[39m\u001b[90m\u001b[1m)\u001b[22m\u001b[39m\u001b[90m by time\u001b[39m       234 ms \u001b[0m\u001b[1m<\u001b[22m\n",
       "\n",
       " Memory estimate\u001b[90m: \u001b[39m\u001b[33m32.42 MiB\u001b[39m, allocs estimate\u001b[90m: \u001b[39m\u001b[33m81398\u001b[39m."
      ]
     },
     "execution_count": 52,
     "metadata": {},
     "output_type": "execute_result"
    }
   ],
   "source": [
    "@benchmark scan(lpst_strains_y, geno_strains, kinship_strains)"
   ]
  },
  {
   "cell_type": "code",
   "execution_count": 53,
   "id": "1cf2be31-f3b9-4bda-a321-2c31143c1d01",
   "metadata": {},
   "outputs": [
    {
     "data": {
      "text/plain": [
       "BenchmarkTools.Trial: 94 samples with 1 evaluation.\n",
       " Range \u001b[90m(\u001b[39m\u001b[36m\u001b[1mmin\u001b[22m\u001b[39m … \u001b[35mmax\u001b[39m\u001b[90m):  \u001b[39m\u001b[36m\u001b[1m45.709 ms\u001b[22m\u001b[39m … \u001b[35m229.799 ms\u001b[39m  \u001b[90m┊\u001b[39m GC \u001b[90m(\u001b[39mmin … max\u001b[90m): \u001b[39m0.00% … 83.15%\n",
       " Time  \u001b[90m(\u001b[39m\u001b[34m\u001b[1mmedian\u001b[22m\u001b[39m\u001b[90m):     \u001b[39m\u001b[34m\u001b[1m49.179 ms               \u001b[22m\u001b[39m\u001b[90m┊\u001b[39m GC \u001b[90m(\u001b[39mmedian\u001b[90m):    \u001b[39m0.00%\n",
       " Time  \u001b[90m(\u001b[39m\u001b[32m\u001b[1mmean\u001b[22m\u001b[39m ± \u001b[32mσ\u001b[39m\u001b[90m):   \u001b[39m\u001b[32m\u001b[1m53.652 ms\u001b[22m\u001b[39m ± \u001b[32m 25.903 ms\u001b[39m  \u001b[90m┊\u001b[39m GC \u001b[90m(\u001b[39mmean ± σ\u001b[90m):  \u001b[39m7.42% ± 11.93%\n",
       "\n",
       "  \u001b[39m█\u001b[34m▇\u001b[39m\u001b[39m \u001b[32m \u001b[39m\u001b[39m \u001b[39m \u001b[39m \u001b[39m \u001b[39m \u001b[39m \u001b[39m \u001b[39m \u001b[39m \u001b[39m \u001b[39m \u001b[39m \u001b[39m \u001b[39m \u001b[39m \u001b[39m \u001b[39m \u001b[39m \u001b[39m \u001b[39m \u001b[39m \u001b[39m \u001b[39m \u001b[39m \u001b[39m \u001b[39m \u001b[39m \u001b[39m \u001b[39m \u001b[39m \u001b[39m \u001b[39m \u001b[39m \u001b[39m \u001b[39m \u001b[39m \u001b[39m \u001b[39m \u001b[39m \u001b[39m \u001b[39m \u001b[39m \u001b[39m \u001b[39m \u001b[39m \u001b[39m \u001b[39m \u001b[39m \u001b[39m \u001b[39m \u001b[39m \u001b[39m \u001b[39m \u001b[39m \u001b[39m \u001b[39m \u001b[39m \u001b[39m \n",
       "  \u001b[39m█\u001b[34m█\u001b[39m\u001b[39m█\u001b[32m▄\u001b[39m\u001b[39m▂\u001b[39m▁\u001b[39m▁\u001b[39m▁\u001b[39m▁\u001b[39m▁\u001b[39m▁\u001b[39m▁\u001b[39m▁\u001b[39m▁\u001b[39m▁\u001b[39m▁\u001b[39m▁\u001b[39m▁\u001b[39m▁\u001b[39m▁\u001b[39m▁\u001b[39m▁\u001b[39m▁\u001b[39m▁\u001b[39m▁\u001b[39m▁\u001b[39m▁\u001b[39m▁\u001b[39m▁\u001b[39m▁\u001b[39m▁\u001b[39m▁\u001b[39m▁\u001b[39m▁\u001b[39m▁\u001b[39m▁\u001b[39m▁\u001b[39m▁\u001b[39m▁\u001b[39m▁\u001b[39m▁\u001b[39m▁\u001b[39m▁\u001b[39m▁\u001b[39m▁\u001b[39m▁\u001b[39m▁\u001b[39m▁\u001b[39m▁\u001b[39m▁\u001b[39m▁\u001b[39m▁\u001b[39m▁\u001b[39m▁\u001b[39m▁\u001b[39m▁\u001b[39m▁\u001b[39m▁\u001b[39m▁\u001b[39m▂\u001b[39m \u001b[39m▁\n",
       "  45.7 ms\u001b[90m         Histogram: frequency by time\u001b[39m          225 ms \u001b[0m\u001b[1m<\u001b[22m\n",
       "\n",
       " Memory estimate\u001b[90m: \u001b[39m\u001b[33m32.32 MiB\u001b[39m, allocs estimate\u001b[90m: \u001b[39m\u001b[33m81020\u001b[39m."
      ]
     },
     "execution_count": 53,
     "metadata": {},
     "output_type": "execute_result"
    }
   ],
   "source": [
    "@benchmark scan(lpst_strains_y, geno_strains, kinship_strains;\n",
    "                prior_variance = 1.0, prior_sample_size = 0.1)"
   ]
  },
  {
   "cell_type": "code",
   "execution_count": 54,
   "id": "a9208929-b7ff-4b46-8036-38ef5bc98b9b",
   "metadata": {},
   "outputs": [
    {
     "data": {
      "text/plain": [
       "BenchmarkTools.Trial: 2 samples with 1 evaluation.\n",
       " Range \u001b[90m(\u001b[39m\u001b[36m\u001b[1mmin\u001b[22m\u001b[39m … \u001b[35mmax\u001b[39m\u001b[90m):  \u001b[39m\u001b[36m\u001b[1m2.678 s\u001b[22m\u001b[39m … \u001b[35m  2.808 s\u001b[39m  \u001b[90m┊\u001b[39m GC \u001b[90m(\u001b[39mmin … max\u001b[90m): \u001b[39m5.15% … 9.90%\n",
       " Time  \u001b[90m(\u001b[39m\u001b[34m\u001b[1mmedian\u001b[22m\u001b[39m\u001b[90m):     \u001b[39m\u001b[34m\u001b[1m2.743 s              \u001b[22m\u001b[39m\u001b[90m┊\u001b[39m GC \u001b[90m(\u001b[39mmedian\u001b[90m):    \u001b[39m7.58%\n",
       " Time  \u001b[90m(\u001b[39m\u001b[32m\u001b[1mmean\u001b[22m\u001b[39m ± \u001b[32mσ\u001b[39m\u001b[90m):   \u001b[39m\u001b[32m\u001b[1m2.743 s\u001b[22m\u001b[39m ± \u001b[32m91.680 ms\u001b[39m  \u001b[90m┊\u001b[39m GC \u001b[90m(\u001b[39mmean ± σ\u001b[90m):  \u001b[39m7.58% ± 3.36%\n",
       "\n",
       "  \u001b[34m█\u001b[39m\u001b[39m \u001b[39m \u001b[39m \u001b[39m \u001b[39m \u001b[39m \u001b[39m \u001b[39m \u001b[39m \u001b[39m \u001b[39m \u001b[39m \u001b[39m \u001b[39m \u001b[39m \u001b[39m \u001b[39m \u001b[39m \u001b[39m \u001b[39m \u001b[39m \u001b[39m \u001b[39m \u001b[39m \u001b[39m \u001b[39m \u001b[39m \u001b[32m \u001b[39m\u001b[39m \u001b[39m \u001b[39m \u001b[39m \u001b[39m \u001b[39m \u001b[39m \u001b[39m \u001b[39m \u001b[39m \u001b[39m \u001b[39m \u001b[39m \u001b[39m \u001b[39m \u001b[39m \u001b[39m \u001b[39m \u001b[39m \u001b[39m \u001b[39m \u001b[39m \u001b[39m \u001b[39m \u001b[39m \u001b[39m \u001b[39m \u001b[39m█\u001b[39m \u001b[39m \n",
       "  \u001b[34m█\u001b[39m\u001b[39m▁\u001b[39m▁\u001b[39m▁\u001b[39m▁\u001b[39m▁\u001b[39m▁\u001b[39m▁\u001b[39m▁\u001b[39m▁\u001b[39m▁\u001b[39m▁\u001b[39m▁\u001b[39m▁\u001b[39m▁\u001b[39m▁\u001b[39m▁\u001b[39m▁\u001b[39m▁\u001b[39m▁\u001b[39m▁\u001b[39m▁\u001b[39m▁\u001b[39m▁\u001b[39m▁\u001b[39m▁\u001b[39m▁\u001b[39m▁\u001b[32m▁\u001b[39m\u001b[39m▁\u001b[39m▁\u001b[39m▁\u001b[39m▁\u001b[39m▁\u001b[39m▁\u001b[39m▁\u001b[39m▁\u001b[39m▁\u001b[39m▁\u001b[39m▁\u001b[39m▁\u001b[39m▁\u001b[39m▁\u001b[39m▁\u001b[39m▁\u001b[39m▁\u001b[39m▁\u001b[39m▁\u001b[39m▁\u001b[39m▁\u001b[39m▁\u001b[39m▁\u001b[39m▁\u001b[39m▁\u001b[39m▁\u001b[39m▁\u001b[39m█\u001b[39m \u001b[39m▁\n",
       "  2.68 s\u001b[90m         Histogram: frequency by time\u001b[39m        2.81 s \u001b[0m\u001b[1m<\u001b[22m\n",
       "\n",
       " Memory estimate\u001b[90m: \u001b[39m\u001b[33m2.05 GiB\u001b[39m, allocs estimate\u001b[90m: \u001b[39m\u001b[33m6725943\u001b[39m."
      ]
     },
     "execution_count": 54,
     "metadata": {},
     "output_type": "execute_result"
    }
   ],
   "source": [
    "@benchmark scan(lpst_strains_y, geno_strains, kinship_strains;\n",
    "                assumption = \"alt\")"
   ]
  },
  {
   "cell_type": "code",
   "execution_count": 55,
   "id": "59ec3b0a-0981-43fb-afd8-486533718672",
   "metadata": {},
   "outputs": [
    {
     "data": {
      "text/plain": [
       "BenchmarkTools.Trial: 3 samples with 1 evaluation.\n",
       " Range \u001b[90m(\u001b[39m\u001b[36m\u001b[1mmin\u001b[22m\u001b[39m … \u001b[35mmax\u001b[39m\u001b[90m):  \u001b[39m\u001b[36m\u001b[1m1.667 s\u001b[22m\u001b[39m … \u001b[35m 1.675 s\u001b[39m  \u001b[90m┊\u001b[39m GC \u001b[90m(\u001b[39mmin … max\u001b[90m): \u001b[39m8.24% … 8.60%\n",
       " Time  \u001b[90m(\u001b[39m\u001b[34m\u001b[1mmedian\u001b[22m\u001b[39m\u001b[90m):     \u001b[39m\u001b[34m\u001b[1m1.668 s             \u001b[22m\u001b[39m\u001b[90m┊\u001b[39m GC \u001b[90m(\u001b[39mmedian\u001b[90m):    \u001b[39m8.29%\n",
       " Time  \u001b[90m(\u001b[39m\u001b[32m\u001b[1mmean\u001b[22m\u001b[39m ± \u001b[32mσ\u001b[39m\u001b[90m):   \u001b[39m\u001b[32m\u001b[1m1.670 s\u001b[22m\u001b[39m ± \u001b[32m4.477 ms\u001b[39m  \u001b[90m┊\u001b[39m GC \u001b[90m(\u001b[39mmean ± σ\u001b[90m):  \u001b[39m8.38% ± 0.20%\n",
       "\n",
       "  \u001b[34m█\u001b[39m\u001b[39m \u001b[39m \u001b[39m \u001b[39m \u001b[39m \u001b[39m \u001b[39m \u001b[39m█\u001b[39m \u001b[39m \u001b[39m \u001b[39m \u001b[39m \u001b[39m \u001b[39m \u001b[39m \u001b[39m \u001b[39m \u001b[39m \u001b[39m \u001b[39m \u001b[32m \u001b[39m\u001b[39m \u001b[39m \u001b[39m \u001b[39m \u001b[39m \u001b[39m \u001b[39m \u001b[39m \u001b[39m \u001b[39m \u001b[39m \u001b[39m \u001b[39m \u001b[39m \u001b[39m \u001b[39m \u001b[39m \u001b[39m \u001b[39m \u001b[39m \u001b[39m \u001b[39m \u001b[39m \u001b[39m \u001b[39m \u001b[39m \u001b[39m \u001b[39m \u001b[39m \u001b[39m \u001b[39m \u001b[39m \u001b[39m█\u001b[39m \u001b[39m \n",
       "  \u001b[34m█\u001b[39m\u001b[39m▁\u001b[39m▁\u001b[39m▁\u001b[39m▁\u001b[39m▁\u001b[39m▁\u001b[39m▁\u001b[39m█\u001b[39m▁\u001b[39m▁\u001b[39m▁\u001b[39m▁\u001b[39m▁\u001b[39m▁\u001b[39m▁\u001b[39m▁\u001b[39m▁\u001b[39m▁\u001b[39m▁\u001b[39m▁\u001b[39m▁\u001b[32m▁\u001b[39m\u001b[39m▁\u001b[39m▁\u001b[39m▁\u001b[39m▁\u001b[39m▁\u001b[39m▁\u001b[39m▁\u001b[39m▁\u001b[39m▁\u001b[39m▁\u001b[39m▁\u001b[39m▁\u001b[39m▁\u001b[39m▁\u001b[39m▁\u001b[39m▁\u001b[39m▁\u001b[39m▁\u001b[39m▁\u001b[39m▁\u001b[39m▁\u001b[39m▁\u001b[39m▁\u001b[39m▁\u001b[39m▁\u001b[39m▁\u001b[39m▁\u001b[39m▁\u001b[39m▁\u001b[39m▁\u001b[39m▁\u001b[39m▁\u001b[39m█\u001b[39m \u001b[39m▁\n",
       "  1.67 s\u001b[90m        Histogram: frequency by time\u001b[39m        1.67 s \u001b[0m\u001b[1m<\u001b[22m\n",
       "\n",
       " Memory estimate\u001b[90m: \u001b[39m\u001b[33m1.23 GiB\u001b[39m, allocs estimate\u001b[90m: \u001b[39m\u001b[33m4082862\u001b[39m."
      ]
     },
     "execution_count": 55,
     "metadata": {},
     "output_type": "execute_result"
    }
   ],
   "source": [
    "@benchmark scan(lpst_strains_y, geno_strains, kinship_strains;\n",
    "                assumption = \"alt\", \n",
    "                prior_variance = 1.0, prior_sample_size = 0.1)"
   ]
  },
  {
   "cell_type": "code",
   "execution_count": 65,
   "id": "b57d1674-2115-4268-8fc3-42d8de8bd516",
   "metadata": {},
   "outputs": [
    {
     "data": {
      "text/plain": [
       "1"
      ]
     },
     "execution_count": 65,
     "metadata": {},
     "output_type": "execute_result"
    }
   ],
   "source": [
    "BLAS.get_num_threads()"
   ]
  },
  {
   "cell_type": "code",
   "execution_count": 68,
   "id": "28a7b019-24c9-4b1a-a032-718badc2c1d5",
   "metadata": {},
   "outputs": [
    {
     "name": "stdout",
     "output_type": "stream",
     "text": [
      " 59.414409 seconds (2.61 G allocations: 434.448 GiB, 40.69% gc time)\n"
     ]
    }
   ],
   "source": [
    "@time bulkscan_null(lpst_strains_Y, geno_strains, kinship_strains,\n",
    "                    prior_variance = 1.0, prior_sample_size = 0.1);"
   ]
  },
  {
   "cell_type": "code",
   "execution_count": 56,
   "id": "34aa6121-f875-41d0-8e69-282a2681e1aa",
   "metadata": {},
   "outputs": [],
   "source": [
    "grid_perf = collect(0.0:0.05:0.95);"
   ]
  },
  {
   "cell_type": "code",
   "execution_count": 57,
   "id": "0cb27837-a1a5-45fb-8ba1-283e8f887c24",
   "metadata": {},
   "outputs": [
    {
     "data": {
      "text/plain": [
       "BenchmarkTools.Trial: 2 samples with 1 evaluation.\n",
       " Range \u001b[90m(\u001b[39m\u001b[36m\u001b[1mmin\u001b[22m\u001b[39m … \u001b[35mmax\u001b[39m\u001b[90m):  \u001b[39m\u001b[36m\u001b[1m4.319 s\u001b[22m\u001b[39m … \u001b[35m  4.427 s\u001b[39m  \u001b[90m┊\u001b[39m GC \u001b[90m(\u001b[39mmin … max\u001b[90m): \u001b[39m3.48% … 3.22%\n",
       " Time  \u001b[90m(\u001b[39m\u001b[34m\u001b[1mmedian\u001b[22m\u001b[39m\u001b[90m):     \u001b[39m\u001b[34m\u001b[1m4.373 s              \u001b[22m\u001b[39m\u001b[90m┊\u001b[39m GC \u001b[90m(\u001b[39mmedian\u001b[90m):    \u001b[39m3.35%\n",
       " Time  \u001b[90m(\u001b[39m\u001b[32m\u001b[1mmean\u001b[22m\u001b[39m ± \u001b[32mσ\u001b[39m\u001b[90m):   \u001b[39m\u001b[32m\u001b[1m4.373 s\u001b[22m\u001b[39m ± \u001b[32m75.882 ms\u001b[39m  \u001b[90m┊\u001b[39m GC \u001b[90m(\u001b[39mmean ± σ\u001b[90m):  \u001b[39m3.35% ± 0.18%\n",
       "\n",
       "  \u001b[34m█\u001b[39m\u001b[39m \u001b[39m \u001b[39m \u001b[39m \u001b[39m \u001b[39m \u001b[39m \u001b[39m \u001b[39m \u001b[39m \u001b[39m \u001b[39m \u001b[39m \u001b[39m \u001b[39m \u001b[39m \u001b[39m \u001b[39m \u001b[39m \u001b[39m \u001b[39m \u001b[39m \u001b[39m \u001b[39m \u001b[39m \u001b[39m \u001b[39m \u001b[32m \u001b[39m\u001b[39m \u001b[39m \u001b[39m \u001b[39m \u001b[39m \u001b[39m \u001b[39m \u001b[39m \u001b[39m \u001b[39m \u001b[39m \u001b[39m \u001b[39m \u001b[39m \u001b[39m \u001b[39m \u001b[39m \u001b[39m \u001b[39m \u001b[39m \u001b[39m \u001b[39m \u001b[39m \u001b[39m \u001b[39m \u001b[39m \u001b[39m \u001b[39m█\u001b[39m \u001b[39m \n",
       "  \u001b[34m█\u001b[39m\u001b[39m▁\u001b[39m▁\u001b[39m▁\u001b[39m▁\u001b[39m▁\u001b[39m▁\u001b[39m▁\u001b[39m▁\u001b[39m▁\u001b[39m▁\u001b[39m▁\u001b[39m▁\u001b[39m▁\u001b[39m▁\u001b[39m▁\u001b[39m▁\u001b[39m▁\u001b[39m▁\u001b[39m▁\u001b[39m▁\u001b[39m▁\u001b[39m▁\u001b[39m▁\u001b[39m▁\u001b[39m▁\u001b[39m▁\u001b[39m▁\u001b[32m▁\u001b[39m\u001b[39m▁\u001b[39m▁\u001b[39m▁\u001b[39m▁\u001b[39m▁\u001b[39m▁\u001b[39m▁\u001b[39m▁\u001b[39m▁\u001b[39m▁\u001b[39m▁\u001b[39m▁\u001b[39m▁\u001b[39m▁\u001b[39m▁\u001b[39m▁\u001b[39m▁\u001b[39m▁\u001b[39m▁\u001b[39m▁\u001b[39m▁\u001b[39m▁\u001b[39m▁\u001b[39m▁\u001b[39m▁\u001b[39m▁\u001b[39m▁\u001b[39m█\u001b[39m \u001b[39m▁\n",
       "  4.32 s\u001b[90m         Histogram: frequency by time\u001b[39m        4.43 s \u001b[0m\u001b[1m<\u001b[22m\n",
       "\n",
       " Memory estimate\u001b[90m: \u001b[39m\u001b[33m5.29 GiB\u001b[39m, allocs estimate\u001b[90m: \u001b[39m\u001b[33m9473686\u001b[39m."
      ]
     },
     "execution_count": 57,
     "metadata": {},
     "output_type": "execute_result"
    }
   ],
   "source": [
    "@benchmark bulkscan_null_grid(lpst_strains_Y, geno_strains, kinship_strains, grid_perf;\n",
    "                              prior_variance = 1.0, prior_sample_size = 0.1)"
   ]
  },
  {
   "cell_type": "code",
   "execution_count": 58,
   "id": "dd5795d1-b5d0-4f83-8b64-7c0ba98409ba",
   "metadata": {},
   "outputs": [
    {
     "data": {
      "text/plain": [
       "BenchmarkTools.Trial: 1 sample with 1 evaluation.\n",
       " Single result which took \u001b[34m14.257 s\u001b[39m (4.92% GC) to evaluate,\n",
       " with a memory estimate of \u001b[33m36.86 GiB\u001b[39m, over \u001b[33m8691487\u001b[39m allocations."
      ]
     },
     "execution_count": 58,
     "metadata": {},
     "output_type": "execute_result"
    }
   ],
   "source": [
    "@benchmark bulkscan_alt_grid(lpst_strains_Y, geno_strains, kinship_strains, grid_perf)"
   ]
  },
  {
   "cell_type": "code",
   "execution_count": 42,
   "id": "ca4d6441-04f3-4841-8eb8-6dfd31cd10bd",
   "metadata": {},
   "outputs": [],
   "source": [
    "grid_fine = collect(0.00:0.01:0.99);"
   ]
  },
  {
   "cell_type": "code",
   "execution_count": 43,
   "id": "b0b475d1-e49a-467a-aeb6-6392d970643c",
   "metadata": {},
   "outputs": [
    {
     "name": "stdout",
     "output_type": "stream",
     "text": [
      " 80.951376 seconds (45.34 M allocations: 191.402 GiB, 1.87% gc time, 1.10% compilation time)\n"
     ]
    }
   ],
   "source": [
    "@time test_alt_grid = bulkscan_alt_grid(lpst_strains_Y, geno_strains, kinship_strains, grid_fine);"
   ]
  },
  {
   "cell_type": "code",
   "execution_count": 44,
   "id": "4dd24701-c35b-44fb-a150-fa856a0ac297",
   "metadata": {},
   "outputs": [
    {
     "name": "stdout",
     "output_type": "stream",
     "text": [
      " 10.479788 seconds (27.38 M allocations: 8.464 GiB, 6.78% gc time)\n"
     ]
    }
   ],
   "source": [
    "@time test_alt_one_trait = scan(lpst_strains_y, geno_strains, kinship_strains;\n",
    "                                assumption = \"alt\", optim_interval = 4);"
   ]
  },
  {
   "cell_type": "code",
   "execution_count": 48,
   "id": "6808093d-b3c7-4f03-88e2-60b867cf1e6f",
   "metadata": {},
   "outputs": [
    {
     "data": {
      "text/plain": [
       "(0.1396593128848893, 1124)"
      ]
     },
     "execution_count": 48,
     "metadata": {},
     "output_type": "execute_result"
    }
   ],
   "source": [
    "findmax(abs.(test_alt_one_trait.lod .- test_alt_grid[1][:, lp_id]))"
   ]
  },
  {
   "cell_type": "code",
   "execution_count": 49,
   "id": "9c330894-5c0b-4ef6-a4c9-05c33e30a0a6",
   "metadata": {},
   "outputs": [
    {
     "data": {
      "text/plain": [
       "1.9076911920915123"
      ]
     },
     "execution_count": 49,
     "metadata": {},
     "output_type": "execute_result"
    }
   ],
   "source": [
    "test_alt_grid[1][1124, lp_id]"
   ]
  },
  {
   "cell_type": "code",
   "execution_count": 60,
   "id": "9f549d14-f919-4df1-8c11-4c33b9833744",
   "metadata": {},
   "outputs": [
    {
     "data": {
      "text/plain": [
       "CartesianIndex{2}[]"
      ]
     },
     "execution_count": 60,
     "metadata": {},
     "output_type": "execute_result"
    }
   ],
   "source": [
    "findall(test_alt_grid[2] .> 0.0)"
   ]
  },
  {
   "cell_type": "code",
   "execution_count": 53,
   "id": "f3b43330-917b-4b3f-89d3-067e9c454e07",
   "metadata": {},
   "outputs": [
    {
     "data": {
      "text/plain": [
       "7321-element Vector{Float64}:\n",
       " 0.9999999831800871\n",
       " 0.9999999831800871\n",
       " 0.9999999831800871\n",
       " 0.9999999831800871\n",
       " 0.9999999831800871\n",
       " 0.9999999831800871\n",
       " 0.9999999831800871\n",
       " 0.9999999831800871\n",
       " 0.9999999831800871\n",
       " 0.9999999831800871\n",
       " 0.9999999831800871\n",
       " 0.9999999831800871\n",
       " 0.9999999831800871\n",
       " ⋮\n",
       " 3.6518127143473113e-16\n",
       " 3.6518127143473113e-16\n",
       " 3.6518127143473113e-16\n",
       " 0.9999999831800871\n",
       " 0.9999999831800871\n",
       " 0.9999999831800871\n",
       " 0.9999999831800871\n",
       " 0.9999999831800871\n",
       " 0.9999999831800871\n",
       " 0.9999999831800871\n",
       " 0.9999999831800871\n",
       " 0.9999999831800871"
      ]
     },
     "execution_count": 53,
     "metadata": {},
     "output_type": "execute_result"
    }
   ],
   "source": [
    "test_alt_one_trait.h2_each_marker"
   ]
  },
  {
   "cell_type": "code",
   "execution_count": 55,
   "id": "35b3c63a-e7d5-4044-bb00-9462f8c330b0",
   "metadata": {},
   "outputs": [
    {
     "data": {
      "text/plain": [
       "7321-element Vector{Float64}:\n",
       " 0.3877714781553215\n",
       " 0.3877714781553215\n",
       " 0.3877714781553215\n",
       " 0.3877714781553215\n",
       " 0.3877714781553215\n",
       " 0.3877714781553215\n",
       " 0.3877714781553215\n",
       " 0.3877714781553215\n",
       " 0.3877714781553215\n",
       " 0.3877714781553215\n",
       " 0.3877714781553215\n",
       " 0.3877714781553215\n",
       " 0.16034649816110755\n",
       " ⋮\n",
       " 0.34527623483010667\n",
       " 0.34527623483010667\n",
       " 0.34527623483010667\n",
       " 0.027585330847610865\n",
       " 0.23282638549027487\n",
       " 0.23282638549027487\n",
       " 0.15291510380768134\n",
       " 0.014215536213185248\n",
       " 0.15291510380768134\n",
       " 0.014215536213185248\n",
       " 0.14223017364495535\n",
       " 0.14223017364495535"
      ]
     },
     "execution_count": 55,
     "metadata": {},
     "output_type": "execute_result"
    }
   ],
   "source": [
    "test_alt_one_trait.lod"
   ]
  },
  {
   "cell_type": "code",
   "execution_count": 54,
   "id": "3bfed0ee-6df5-44a5-86e4-a3a5e9de64f1",
   "metadata": {},
   "outputs": [
    {
     "data": {
      "text/plain": [
       "7321-element Vector{Float64}:\n",
       " 0.3842559232200484\n",
       " 0.3842559232200484\n",
       " 0.3842559232200484\n",
       " 0.3842559232200484\n",
       " 0.3842559232200484\n",
       " 0.3842559232200484\n",
       " 0.3842559232200484\n",
       " 0.3842559232200484\n",
       " 0.3842559232200484\n",
       " 0.3842559232200484\n",
       " 0.3842559232200484\n",
       " 0.3842559232200484\n",
       " 0.15768543241608898\n",
       " ⋮\n",
       " 0.416519492663195\n",
       " 0.416519492663195\n",
       " 0.416519492663195\n",
       " 0.07389030380463844\n",
       " 0.2853121601401946\n",
       " 0.2853121601401946\n",
       " 0.16737924236167478\n",
       " 0.02589601537873198\n",
       " 0.16737924236167478\n",
       " 0.02589601537873198\n",
       " 0.15081230591462266\n",
       " 0.15081230591462266"
      ]
     },
     "execution_count": 54,
     "metadata": {},
     "output_type": "execute_result"
    }
   ],
   "source": [
    "test_alt_grid[1][:, lp_id]"
   ]
  },
  {
   "cell_type": "code",
   "execution_count": null,
   "id": "6d74078b-7eb5-4403-a617-1eba6e510adb",
   "metadata": {},
   "outputs": [],
   "source": []
  },
  {
   "cell_type": "code",
   "execution_count": 84,
   "id": "1bd666ce-6015-4387-8044-6a122c46f45c",
   "metadata": {},
   "outputs": [
    {
     "name": "stdout",
     "output_type": "stream",
     "text": [
      "  9.820028 seconds (43.91 M allocations: 11.816 GiB, 10.40% gc time)\n"
     ]
    }
   ],
   "source": [
    "@time test_null_grid = bulkscan_null_grid(lpst_strains_Y, geno_strains, kinship_strains, grid_fine);"
   ]
  },
  {
   "cell_type": "code",
   "execution_count": 32,
   "id": "749e538e-bdca-4c00-9cfd-58185fcd5a53",
   "metadata": {},
   "outputs": [
    {
     "name": "stdout",
     "output_type": "stream",
     "text": [
      " 22.683089 seconds (57.26 M allocations: 17.732 GiB, 8.97% gc time)\n"
     ]
    }
   ],
   "source": [
    "@time test_null_one_trait = scan(lpst_strains_y, geno_strains, kinship_strains;\n",
    "                                assumption = \"alt\", optim_interval = 10);"
   ]
  },
  {
   "cell_type": "code",
   "execution_count": 33,
   "id": "c6c986c0-5dc8-42df-8d1a-bdc633aa43ee",
   "metadata": {},
   "outputs": [
    {
     "ename": "LoadError",
     "evalue": "UndefVarError: test_null_grid not defined",
     "output_type": "error",
     "traceback": [
      "UndefVarError: test_null_grid not defined",
      "",
      "Stacktrace:",
      " [1] top-level scope",
      "   @ In[33]:1"
     ]
    }
   ],
   "source": [
    "findmax(abs.(test_null_one_trait.lod .- test_null_grid.L[:, lp_id]))"
   ]
  },
  {
   "cell_type": "code",
   "execution_count": 88,
   "id": "28c73465-fce7-4692-afe9-ffca9bee61bf",
   "metadata": {},
   "outputs": [
    {
     "data": {
      "text/plain": [
       "1×2 Matrix{Float64}:\n",
       " 1.0676  1.09977"
      ]
     },
     "execution_count": 88,
     "metadata": {},
     "output_type": "execute_result"
    }
   ],
   "source": [
    "hcat(test_null_one_trait.lod[6941], test_null_grid.L[6941, lp_id])"
   ]
  },
  {
   "cell_type": "code",
   "execution_count": 89,
   "id": "5bdd1f6d-560a-4e31-aab6-1d12b9c30283",
   "metadata": {},
   "outputs": [
    {
     "data": {
      "text/plain": [
       "0.99"
      ]
     },
     "execution_count": 89,
     "metadata": {},
     "output_type": "execute_result"
    }
   ],
   "source": [
    "test_null_grid.h2_null_list[lp_id]"
   ]
  },
  {
   "cell_type": "code",
   "execution_count": 34,
   "id": "678b654a-70e5-4a01-84b2-a917ac9dde4f",
   "metadata": {},
   "outputs": [],
   "source": [
    "gemma_results_strains = readdlm(\"output/results_strains.txt.assoc.txt\", '\\t');\n",
    "gemma_results_ind = readdlm(\"output/results_ind.txt.assoc.txt\", '\\t');"
   ]
  },
  {
   "cell_type": "code",
   "execution_count": 35,
   "id": "f6e53608-76ff-40f5-8d78-76d03c20f787",
   "metadata": {},
   "outputs": [],
   "source": [
    "gemma_strains = gemma_results_strains[2:end, 10] |> x -> Array{Float64}(x);\n",
    "gemma_ind = gemma_results_ind[2:end, 10] |> x -> Array{Float64}(x);"
   ]
  },
  {
   "cell_type": "code",
   "execution_count": 36,
   "id": "9aa27a63-51ed-465c-a64b-16056ddcb05e",
   "metadata": {},
   "outputs": [
    {
     "data": {
      "text/plain": [
       "p2lod (generic function with 1 method)"
      ]
     },
     "execution_count": 36,
     "metadata": {},
     "output_type": "execute_result"
    }
   ],
   "source": [
    "function p2lod(pval::Float64, df::Int64)\n",
    "    \n",
    "    lrs = invlogcdf(Chisq(df), log(1-pval))\n",
    "    lod = lrs/(2*log(10))\n",
    "    \n",
    "    # return lrs\n",
    "    return lod\n",
    "\n",
    "end"
   ]
  },
  {
   "cell_type": "code",
   "execution_count": 37,
   "id": "f6488455-053d-4cdd-a29b-5670ac21bb28",
   "metadata": {},
   "outputs": [],
   "source": [
    "gemma_strains_lod = p2lod.(gemma_strains, 1);\n",
    "gemma_ind_lod = p2lod.(gemma_ind, 1);"
   ]
  },
  {
   "cell_type": "code",
   "execution_count": 41,
   "id": "3a0651df-8ace-4eab-9e65-0869716d9b3e",
   "metadata": {},
   "outputs": [
    {
     "ename": "LoadError",
     "evalue": "UndefVarError: test_null_grid not defined",
     "output_type": "error",
     "traceback": [
      "UndefVarError: test_null_grid not defined",
      "",
      "Stacktrace:",
      " [1] top-level scope",
      "   @ In[41]:1"
     ]
    }
   ],
   "source": [
    "hcat(gemma_strains_lod, test_alt_one_trait.lod, test_null_grid[:, lp_id])"
   ]
  },
  {
   "cell_type": "code",
   "execution_count": 97,
   "id": "3e4cacaa-d1fd-4e8f-b6d6-bec65898a496",
   "metadata": {},
   "outputs": [
    {
     "data": {
      "text/plain": [
       "(0.995205565940622, 130)"
      ]
     },
     "execution_count": 97,
     "metadata": {},
     "output_type": "execute_result"
    }
   ],
   "source": [
    "findmax(abs.(gemma_strains_lod .- test_alt_one_trait.lod))"
   ]
  },
  {
   "cell_type": "code",
   "execution_count": 101,
   "id": "df68ff50-c554-49d9-a4df-14548fd7658f",
   "metadata": {},
   "outputs": [
    {
     "data": {
      "text/plain": [
       "1×3 Matrix{Float64}:\n",
       " 0.531161  1.52637  1.59624"
      ]
     },
     "execution_count": 101,
     "metadata": {},
     "output_type": "execute_result"
    }
   ],
   "source": [
    "hcat(gemma_strains_lod[130], test_alt_one_trait.lod[130], test_alt_grid[130, lp_id])"
   ]
  },
  {
   "cell_type": "code",
   "execution_count": 99,
   "id": "85338c32-13c0-4442-a916-76656dcc9aaa",
   "metadata": {},
   "outputs": [
    {
     "data": {
      "text/plain": [
       "(1.06508190697209, 130)"
      ]
     },
     "execution_count": 99,
     "metadata": {},
     "output_type": "execute_result"
    }
   ],
   "source": [
    "findmax(abs.(gemma_strains_lod .- test_alt_grid[:, lp_id]))"
   ]
  },
  {
   "cell_type": "code",
   "execution_count": 100,
   "id": "10d59595-933c-4867-8c63-96631c46f732",
   "metadata": {},
   "outputs": [
    {
     "data": {
      "text/plain": [
       "0.08359513727632838"
      ]
     },
     "execution_count": 100,
     "metadata": {},
     "output_type": "execute_result"
    }
   ],
   "source": [
    "mean(gemma_strains_lod .- test_alt_one_trait.lod .> 0.0)"
   ]
  },
  {
   "cell_type": "code",
   "execution_count": 39,
   "id": "9a80574c-bd48-4b7f-8ad9-02c6c2cea091",
   "metadata": {},
   "outputs": [
    {
     "name": "stdout",
     "output_type": "stream",
     "text": [
      "  2.701044 seconds (6.73 M allocations: 2.055 GiB, 10.16% gc time)\n"
     ]
    }
   ],
   "source": [
    "@time test_alt_one_trait = scan(lpst_strains_y, geno_strains, kinship_strains;\n",
    "                                assumption = \"alt\", optim_interval = 1);"
   ]
  },
  {
   "cell_type": "code",
   "execution_count": 103,
   "id": "f637488b-a5d6-43cf-812c-f6c44c469337",
   "metadata": {},
   "outputs": [
    {
     "data": {
      "text/plain": [
       "(0.9952055617676439, 130)"
      ]
     },
     "execution_count": 103,
     "metadata": {},
     "output_type": "execute_result"
    }
   ],
   "source": [
    "findmax(abs.(gemma_strains_lod .- test_alt_one_trait1.lod))"
   ]
  },
  {
   "cell_type": "code",
   "execution_count": 122,
   "id": "d73a9820-02f5-4d89-81bb-d894ddbf8c8e",
   "metadata": {},
   "outputs": [
    {
     "data": {
      "text/plain": [
       "1.0e6"
      ]
     },
     "execution_count": 122,
     "metadata": {},
     "output_type": "execute_result"
    }
   ],
   "source": [
    "test = readdlm(\"output/results_strains.txt.assoc.txt\", '\\t')[2:end, :];\n",
    "test[130, :][9]"
   ]
  },
  {
   "cell_type": "code",
   "execution_count": 121,
   "id": "8ce0bdf4-7e67-4dff-b353-fd679ba2e13e",
   "metadata": {},
   "outputs": [
    {
     "data": {
      "text/plain": [
       "0.5311611707846458"
      ]
     },
     "execution_count": 121,
     "metadata": {},
     "output_type": "execute_result"
    }
   ],
   "source": [
    "p2lod(0.1178182, 1)"
   ]
  },
  {
   "cell_type": "code",
   "execution_count": 124,
   "id": "1a4e6130-d6c6-4a63-8158-25eef41863ce",
   "metadata": {},
   "outputs": [
    {
     "data": {
      "text/plain": [
       "0.999999000001"
      ]
     },
     "execution_count": 124,
     "metadata": {},
     "output_type": "execute_result"
    }
   ],
   "source": [
    "test[130, :][9]/(1+test[130, :][9])"
   ]
  },
  {
   "cell_type": "code",
   "execution_count": 125,
   "id": "af71a60a-aaa8-451f-b657-99ae8078adfb",
   "metadata": {},
   "outputs": [
    {
     "data": {
      "text/plain": [
       "5.8722588511011e-16"
      ]
     },
     "execution_count": 125,
     "metadata": {},
     "output_type": "execute_result"
    }
   ],
   "source": [
    "test_alt_one_trait.h2_each_marker[130]"
   ]
  },
  {
   "cell_type": "code",
   "execution_count": 132,
   "id": "5ac14127-7c16-4a6c-916c-fdfa3af0e60c",
   "metadata": {},
   "outputs": [
    {
     "data": {
      "text/plain": [
       "5.8722588511011e-16"
      ]
     },
     "execution_count": 132,
     "metadata": {},
     "output_type": "execute_result"
    }
   ],
   "source": [
    "test_alt_one_trait.h2_each_marker[130]"
   ]
  },
  {
   "cell_type": "code",
   "execution_count": 128,
   "id": "80e23bfc-e4db-49e0-bbff-0f0e3dca4dc4",
   "metadata": {},
   "outputs": [],
   "source": [
    "grid_plot = collect(0:999).*0.001;"
   ]
  },
  {
   "cell_type": "code",
   "execution_count": 131,
   "id": "8c119e11-6e7a-45f8-a8c5-6d77b966be5e",
   "metadata": {},
   "outputs": [
    {
     "name": "stdout",
     "output_type": "stream",
     "text": [
      "Loglik plot: \n"
     ]
    },
    {
     "data": {
      "image/svg+xml": [
       "<?xml version=\"1.0\" encoding=\"utf-8\"?>\n",
       "<svg xmlns=\"http://www.w3.org/2000/svg\" xmlns:xlink=\"http://www.w3.org/1999/xlink\" width=\"600\" height=\"400\" viewBox=\"0 0 2400 1600\">\n",
       "<defs>\n",
       "  <clipPath id=\"clip770\">\n",
       "    <rect x=\"0\" y=\"0\" width=\"2400\" height=\"1600\"/>\n",
       "  </clipPath>\n",
       "</defs>\n",
       "<path clip-path=\"url(#clip770)\" d=\"\n",
       "M0 1600 L2400 1600 L2400 0 L0 0  Z\n",
       "  \" fill=\"#ffffff\" fill-rule=\"evenodd\" fill-opacity=\"1\"/>\n",
       "<defs>\n",
       "  <clipPath id=\"clip771\">\n",
       "    <rect x=\"480\" y=\"0\" width=\"1681\" height=\"1600\"/>\n",
       "  </clipPath>\n",
       "</defs>\n",
       "<path clip-path=\"url(#clip770)\" d=\"\n",
       "M242.135 1423.18 L2352.76 1423.18 L2352.76 47.2441 L242.135 47.2441  Z\n",
       "  \" fill=\"#ffffff\" fill-rule=\"evenodd\" fill-opacity=\"1\"/>\n",
       "<defs>\n",
       "  <clipPath id=\"clip772\">\n",
       "    <rect x=\"242\" y=\"47\" width=\"2112\" height=\"1377\"/>\n",
       "  </clipPath>\n",
       "</defs>\n",
       "<polyline clip-path=\"url(#clip772)\" style=\"stroke:#000000; stroke-linecap:round; stroke-linejoin:round; stroke-width:2; stroke-opacity:0.1; fill:none\" points=\"\n",
       "  338.072,1423.18 338.072,47.2441 \n",
       "  \"/>\n",
       "<polyline clip-path=\"url(#clip772)\" style=\"stroke:#000000; stroke-linecap:round; stroke-linejoin:round; stroke-width:2; stroke-opacity:0.1; fill:none\" points=\"\n",
       "  817.759,1423.18 817.759,47.2441 \n",
       "  \"/>\n",
       "<polyline clip-path=\"url(#clip772)\" style=\"stroke:#000000; stroke-linecap:round; stroke-linejoin:round; stroke-width:2; stroke-opacity:0.1; fill:none\" points=\"\n",
       "  1297.45,1423.18 1297.45,47.2441 \n",
       "  \"/>\n",
       "<polyline clip-path=\"url(#clip772)\" style=\"stroke:#000000; stroke-linecap:round; stroke-linejoin:round; stroke-width:2; stroke-opacity:0.1; fill:none\" points=\"\n",
       "  1777.13,1423.18 1777.13,47.2441 \n",
       "  \"/>\n",
       "<polyline clip-path=\"url(#clip772)\" style=\"stroke:#000000; stroke-linecap:round; stroke-linejoin:round; stroke-width:2; stroke-opacity:0.1; fill:none\" points=\"\n",
       "  2256.82,1423.18 2256.82,47.2441 \n",
       "  \"/>\n",
       "<polyline clip-path=\"url(#clip770)\" style=\"stroke:#000000; stroke-linecap:round; stroke-linejoin:round; stroke-width:4; stroke-opacity:1; fill:none\" points=\"\n",
       "  242.135,1423.18 2352.76,1423.18 \n",
       "  \"/>\n",
       "<polyline clip-path=\"url(#clip770)\" style=\"stroke:#000000; stroke-linecap:round; stroke-linejoin:round; stroke-width:4; stroke-opacity:1; fill:none\" points=\"\n",
       "  338.072,1423.18 338.072,1404.28 \n",
       "  \"/>\n",
       "<polyline clip-path=\"url(#clip770)\" style=\"stroke:#000000; stroke-linecap:round; stroke-linejoin:round; stroke-width:4; stroke-opacity:1; fill:none\" points=\"\n",
       "  817.759,1423.18 817.759,1404.28 \n",
       "  \"/>\n",
       "<polyline clip-path=\"url(#clip770)\" style=\"stroke:#000000; stroke-linecap:round; stroke-linejoin:round; stroke-width:4; stroke-opacity:1; fill:none\" points=\"\n",
       "  1297.45,1423.18 1297.45,1404.28 \n",
       "  \"/>\n",
       "<polyline clip-path=\"url(#clip770)\" style=\"stroke:#000000; stroke-linecap:round; stroke-linejoin:round; stroke-width:4; stroke-opacity:1; fill:none\" points=\"\n",
       "  1777.13,1423.18 1777.13,1404.28 \n",
       "  \"/>\n",
       "<polyline clip-path=\"url(#clip770)\" style=\"stroke:#000000; stroke-linecap:round; stroke-linejoin:round; stroke-width:4; stroke-opacity:1; fill:none\" points=\"\n",
       "  2256.82,1423.18 2256.82,1404.28 \n",
       "  \"/>\n",
       "<path clip-path=\"url(#clip770)\" d=\"M300.375 1454.1 Q296.764 1454.1 294.936 1457.66 Q293.13 1461.2 293.13 1468.33 Q293.13 1475.44 294.936 1479.01 Q296.764 1482.55 300.375 1482.55 Q304.01 1482.55 305.815 1479.01 Q307.644 1475.44 307.644 1468.33 Q307.644 1461.2 305.815 1457.66 Q304.01 1454.1 300.375 1454.1 M300.375 1450.39 Q306.186 1450.39 309.241 1455 Q312.32 1459.58 312.32 1468.33 Q312.32 1477.06 309.241 1481.67 Q306.186 1486.25 300.375 1486.25 Q294.565 1486.25 291.487 1481.67 Q288.431 1477.06 288.431 1468.33 Q288.431 1459.58 291.487 1455 Q294.565 1450.39 300.375 1450.39 Z\" fill=\"#000000\" fill-rule=\"evenodd\" fill-opacity=\"1\" /><path clip-path=\"url(#clip770)\" d=\"M320.537 1479.7 L325.422 1479.7 L325.422 1485.58 L320.537 1485.58 L320.537 1479.7 Z\" fill=\"#000000\" fill-rule=\"evenodd\" fill-opacity=\"1\" /><path clip-path=\"url(#clip770)\" d=\"M345.607 1454.1 Q341.996 1454.1 340.167 1457.66 Q338.361 1461.2 338.361 1468.33 Q338.361 1475.44 340.167 1479.01 Q341.996 1482.55 345.607 1482.55 Q349.241 1482.55 351.046 1479.01 Q352.875 1475.44 352.875 1468.33 Q352.875 1461.2 351.046 1457.66 Q349.241 1454.1 345.607 1454.1 M345.607 1450.39 Q351.417 1450.39 354.472 1455 Q357.551 1459.58 357.551 1468.33 Q357.551 1477.06 354.472 1481.67 Q351.417 1486.25 345.607 1486.25 Q339.797 1486.25 336.718 1481.67 Q333.662 1477.06 333.662 1468.33 Q333.662 1459.58 336.718 1455 Q339.797 1450.39 345.607 1450.39 Z\" fill=\"#000000\" fill-rule=\"evenodd\" fill-opacity=\"1\" /><path clip-path=\"url(#clip770)\" d=\"M375.769 1454.1 Q372.157 1454.1 370.329 1457.66 Q368.523 1461.2 368.523 1468.33 Q368.523 1475.44 370.329 1479.01 Q372.157 1482.55 375.769 1482.55 Q379.403 1482.55 381.208 1479.01 Q383.037 1475.44 383.037 1468.33 Q383.037 1461.2 381.208 1457.66 Q379.403 1454.1 375.769 1454.1 M375.769 1450.39 Q381.579 1450.39 384.634 1455 Q387.713 1459.58 387.713 1468.33 Q387.713 1477.06 384.634 1481.67 Q381.579 1486.25 375.769 1486.25 Q369.958 1486.25 366.88 1481.67 Q363.824 1477.06 363.824 1468.33 Q363.824 1459.58 366.88 1455 Q369.958 1450.39 375.769 1450.39 Z\" fill=\"#000000\" fill-rule=\"evenodd\" fill-opacity=\"1\" /><path clip-path=\"url(#clip770)\" d=\"M780.56 1454.1 Q776.949 1454.1 775.12 1457.66 Q773.314 1461.2 773.314 1468.33 Q773.314 1475.44 775.12 1479.01 Q776.949 1482.55 780.56 1482.55 Q784.194 1482.55 786 1479.01 Q787.828 1475.44 787.828 1468.33 Q787.828 1461.2 786 1457.66 Q784.194 1454.1 780.56 1454.1 M780.56 1450.39 Q786.37 1450.39 789.425 1455 Q792.504 1459.58 792.504 1468.33 Q792.504 1477.06 789.425 1481.67 Q786.37 1486.25 780.56 1486.25 Q774.75 1486.25 771.671 1481.67 Q768.615 1477.06 768.615 1468.33 Q768.615 1459.58 771.671 1455 Q774.75 1450.39 780.56 1450.39 Z\" fill=\"#000000\" fill-rule=\"evenodd\" fill-opacity=\"1\" /><path clip-path=\"url(#clip770)\" d=\"M800.722 1479.7 L805.606 1479.7 L805.606 1485.58 L800.722 1485.58 L800.722 1479.7 Z\" fill=\"#000000\" fill-rule=\"evenodd\" fill-opacity=\"1\" /><path clip-path=\"url(#clip770)\" d=\"M819.819 1481.64 L836.138 1481.64 L836.138 1485.58 L814.194 1485.58 L814.194 1481.64 Q816.856 1478.89 821.439 1474.26 Q826.046 1469.61 827.226 1468.27 Q829.472 1465.74 830.351 1464.01 Q831.254 1462.25 831.254 1460.56 Q831.254 1457.8 829.31 1456.07 Q827.388 1454.33 824.286 1454.33 Q822.087 1454.33 819.634 1455.09 Q817.203 1455.86 814.425 1457.41 L814.425 1452.69 Q817.249 1451.55 819.703 1450.97 Q822.157 1450.39 824.194 1450.39 Q829.564 1450.39 832.759 1453.08 Q835.953 1455.77 835.953 1460.26 Q835.953 1462.39 835.143 1464.31 Q834.356 1466.2 832.249 1468.8 Q831.671 1469.47 828.569 1472.69 Q825.467 1475.88 819.819 1481.64 Z\" fill=\"#000000\" fill-rule=\"evenodd\" fill-opacity=\"1\" /><path clip-path=\"url(#clip770)\" d=\"M845.999 1451.02 L864.356 1451.02 L864.356 1454.96 L850.282 1454.96 L850.282 1463.43 Q851.3 1463.08 852.319 1462.92 Q853.337 1462.73 854.356 1462.73 Q860.143 1462.73 863.522 1465.9 Q866.902 1469.08 866.902 1474.49 Q866.902 1480.07 863.43 1483.17 Q859.957 1486.25 853.638 1486.25 Q851.462 1486.25 849.194 1485.88 Q846.948 1485.51 844.541 1484.77 L844.541 1480.07 Q846.624 1481.2 848.846 1481.76 Q851.069 1482.32 853.545 1482.32 Q857.55 1482.32 859.888 1480.21 Q862.226 1478.1 862.226 1474.49 Q862.226 1470.88 859.888 1468.77 Q857.55 1466.67 853.545 1466.67 Q851.67 1466.67 849.796 1467.08 Q847.944 1467.5 845.999 1468.38 L845.999 1451.02 Z\" fill=\"#000000\" fill-rule=\"evenodd\" fill-opacity=\"1\" /><path clip-path=\"url(#clip770)\" d=\"M1259.75 1454.1 Q1256.14 1454.1 1254.31 1457.66 Q1252.5 1461.2 1252.5 1468.33 Q1252.5 1475.44 1254.31 1479.01 Q1256.14 1482.55 1259.75 1482.55 Q1263.38 1482.55 1265.19 1479.01 Q1267.02 1475.44 1267.02 1468.33 Q1267.02 1461.2 1265.19 1457.66 Q1263.38 1454.1 1259.75 1454.1 M1259.75 1450.39 Q1265.56 1450.39 1268.61 1455 Q1271.69 1459.58 1271.69 1468.33 Q1271.69 1477.06 1268.61 1481.67 Q1265.56 1486.25 1259.75 1486.25 Q1253.94 1486.25 1250.86 1481.67 Q1247.8 1477.06 1247.8 1468.33 Q1247.8 1459.58 1250.86 1455 Q1253.94 1450.39 1259.75 1450.39 Z\" fill=\"#000000\" fill-rule=\"evenodd\" fill-opacity=\"1\" /><path clip-path=\"url(#clip770)\" d=\"M1279.91 1479.7 L1284.79 1479.7 L1284.79 1485.58 L1279.91 1485.58 L1279.91 1479.7 Z\" fill=\"#000000\" fill-rule=\"evenodd\" fill-opacity=\"1\" /><path clip-path=\"url(#clip770)\" d=\"M1295.03 1451.02 L1313.38 1451.02 L1313.38 1454.96 L1299.31 1454.96 L1299.31 1463.43 Q1300.33 1463.08 1301.35 1462.92 Q1302.36 1462.73 1303.38 1462.73 Q1309.17 1462.73 1312.55 1465.9 Q1315.93 1469.08 1315.93 1474.49 Q1315.93 1480.07 1312.46 1483.17 Q1308.98 1486.25 1302.67 1486.25 Q1300.49 1486.25 1298.22 1485.88 Q1295.98 1485.51 1293.57 1484.77 L1293.57 1480.07 Q1295.65 1481.2 1297.87 1481.76 Q1300.1 1482.32 1302.57 1482.32 Q1306.58 1482.32 1308.92 1480.21 Q1311.25 1478.1 1311.25 1474.49 Q1311.25 1470.88 1308.92 1468.77 Q1306.58 1466.67 1302.57 1466.67 Q1300.7 1466.67 1298.82 1467.08 Q1296.97 1467.5 1295.03 1468.38 L1295.03 1451.02 Z\" fill=\"#000000\" fill-rule=\"evenodd\" fill-opacity=\"1\" /><path clip-path=\"url(#clip770)\" d=\"M1335.14 1454.1 Q1331.53 1454.1 1329.7 1457.66 Q1327.9 1461.2 1327.9 1468.33 Q1327.9 1475.44 1329.7 1479.01 Q1331.53 1482.55 1335.14 1482.55 Q1338.78 1482.55 1340.58 1479.01 Q1342.41 1475.44 1342.41 1468.33 Q1342.41 1461.2 1340.58 1457.66 Q1338.78 1454.1 1335.14 1454.1 M1335.14 1450.39 Q1340.95 1450.39 1344.01 1455 Q1347.09 1459.58 1347.09 1468.33 Q1347.09 1477.06 1344.01 1481.67 Q1340.95 1486.25 1335.14 1486.25 Q1329.33 1486.25 1326.25 1481.67 Q1323.2 1477.06 1323.2 1468.33 Q1323.2 1459.58 1326.25 1455 Q1329.33 1450.39 1335.14 1450.39 Z\" fill=\"#000000\" fill-rule=\"evenodd\" fill-opacity=\"1\" /><path clip-path=\"url(#clip770)\" d=\"M1739.93 1454.1 Q1736.32 1454.1 1734.49 1457.66 Q1732.69 1461.2 1732.69 1468.33 Q1732.69 1475.44 1734.49 1479.01 Q1736.32 1482.55 1739.93 1482.55 Q1743.57 1482.55 1745.37 1479.01 Q1747.2 1475.44 1747.2 1468.33 Q1747.2 1461.2 1745.37 1457.66 Q1743.57 1454.1 1739.93 1454.1 M1739.93 1450.39 Q1745.74 1450.39 1748.8 1455 Q1751.88 1459.58 1751.88 1468.33 Q1751.88 1477.06 1748.8 1481.67 Q1745.74 1486.25 1739.93 1486.25 Q1734.12 1486.25 1731.04 1481.67 Q1727.99 1477.06 1727.99 1468.33 Q1727.99 1459.58 1731.04 1455 Q1734.12 1450.39 1739.93 1450.39 Z\" fill=\"#000000\" fill-rule=\"evenodd\" fill-opacity=\"1\" /><path clip-path=\"url(#clip770)\" d=\"M1760.09 1479.7 L1764.98 1479.7 L1764.98 1485.58 L1760.09 1485.58 L1760.09 1479.7 Z\" fill=\"#000000\" fill-rule=\"evenodd\" fill-opacity=\"1\" /><path clip-path=\"url(#clip770)\" d=\"M1773.98 1451.02 L1796.21 1451.02 L1796.21 1453.01 L1783.66 1485.58 L1778.78 1485.58 L1790.58 1454.96 L1773.98 1454.96 L1773.98 1451.02 Z\" fill=\"#000000\" fill-rule=\"evenodd\" fill-opacity=\"1\" /><path clip-path=\"url(#clip770)\" d=\"M1805.37 1451.02 L1823.73 1451.02 L1823.73 1454.96 L1809.65 1454.96 L1809.65 1463.43 Q1810.67 1463.08 1811.69 1462.92 Q1812.71 1462.73 1813.73 1462.73 Q1819.52 1462.73 1822.9 1465.9 Q1826.28 1469.08 1826.28 1474.49 Q1826.28 1480.07 1822.8 1483.17 Q1819.33 1486.25 1813.01 1486.25 Q1810.84 1486.25 1808.57 1485.88 Q1806.32 1485.51 1803.91 1484.77 L1803.91 1480.07 Q1806 1481.2 1808.22 1481.76 Q1810.44 1482.32 1812.92 1482.32 Q1816.92 1482.32 1819.26 1480.21 Q1821.6 1478.1 1821.6 1474.49 Q1821.6 1470.88 1819.26 1468.77 Q1816.92 1466.67 1812.92 1466.67 Q1811.04 1466.67 1809.17 1467.08 Q1807.32 1467.5 1805.37 1468.38 L1805.37 1451.02 Z\" fill=\"#000000\" fill-rule=\"evenodd\" fill-opacity=\"1\" /><path clip-path=\"url(#clip770)\" d=\"M2208.89 1481.64 L2216.53 1481.64 L2216.53 1455.28 L2208.22 1456.95 L2208.22 1452.69 L2216.48 1451.02 L2221.16 1451.02 L2221.16 1481.64 L2228.8 1481.64 L2228.8 1485.58 L2208.89 1485.58 L2208.89 1481.64 Z\" fill=\"#000000\" fill-rule=\"evenodd\" fill-opacity=\"1\" /><path clip-path=\"url(#clip770)\" d=\"M2238.24 1479.7 L2243.13 1479.7 L2243.13 1485.58 L2238.24 1485.58 L2238.24 1479.7 Z\" fill=\"#000000\" fill-rule=\"evenodd\" fill-opacity=\"1\" /><path clip-path=\"url(#clip770)\" d=\"M2263.31 1454.1 Q2259.7 1454.1 2257.87 1457.66 Q2256.07 1461.2 2256.07 1468.33 Q2256.07 1475.44 2257.87 1479.01 Q2259.7 1482.55 2263.31 1482.55 Q2266.95 1482.55 2268.75 1479.01 Q2270.58 1475.44 2270.58 1468.33 Q2270.58 1461.2 2268.75 1457.66 Q2266.95 1454.1 2263.31 1454.1 M2263.31 1450.39 Q2269.12 1450.39 2272.18 1455 Q2275.26 1459.58 2275.26 1468.33 Q2275.26 1477.06 2272.18 1481.67 Q2269.12 1486.25 2263.31 1486.25 Q2257.5 1486.25 2254.42 1481.67 Q2251.37 1477.06 2251.37 1468.33 Q2251.37 1459.58 2254.42 1455 Q2257.5 1450.39 2263.31 1450.39 Z\" fill=\"#000000\" fill-rule=\"evenodd\" fill-opacity=\"1\" /><path clip-path=\"url(#clip770)\" d=\"M2293.47 1454.1 Q2289.86 1454.1 2288.03 1457.66 Q2286.23 1461.2 2286.23 1468.33 Q2286.23 1475.44 2288.03 1479.01 Q2289.86 1482.55 2293.47 1482.55 Q2297.11 1482.55 2298.91 1479.01 Q2300.74 1475.44 2300.74 1468.33 Q2300.74 1461.2 2298.91 1457.66 Q2297.11 1454.1 2293.47 1454.1 M2293.47 1450.39 Q2299.28 1450.39 2302.34 1455 Q2305.42 1459.58 2305.42 1468.33 Q2305.42 1477.06 2302.34 1481.67 Q2299.28 1486.25 2293.47 1486.25 Q2287.66 1486.25 2284.58 1481.67 Q2281.53 1477.06 2281.53 1468.33 Q2281.53 1459.58 2284.58 1455 Q2287.66 1450.39 2293.47 1450.39 Z\" fill=\"#000000\" fill-rule=\"evenodd\" fill-opacity=\"1\" /><path clip-path=\"url(#clip770)\" d=\"M1292.13 1546.53 L1292.13 1568.04 L1286.27 1568.04 L1286.27 1546.72 Q1286.27 1541.66 1284.3 1539.14 Q1282.33 1536.63 1278.38 1536.63 Q1273.64 1536.63 1270.9 1539.65 Q1268.16 1542.68 1268.16 1547.9 L1268.16 1568.04 L1262.27 1568.04 L1262.27 1518.52 L1268.16 1518.52 L1268.16 1537.93 Q1270.26 1534.72 1273.1 1533.13 Q1275.96 1531.54 1279.68 1531.54 Q1285.83 1531.54 1288.98 1535.36 Q1292.13 1539.14 1292.13 1546.53 Z\" fill=\"#000000\" fill-rule=\"evenodd\" fill-opacity=\"1\" /><path clip-path=\"url(#clip770)\" d=\"M1310.18 1562.63 L1332.62 1562.63 L1332.62 1568.04 L1302.44 1568.04 L1302.44 1562.63 Q1306.1 1558.85 1312.4 1552.48 Q1318.74 1546.08 1320.36 1544.24 Q1323.45 1540.77 1324.66 1538.38 Q1325.9 1535.96 1325.9 1533.64 Q1325.9 1529.85 1323.23 1527.46 Q1320.58 1525.08 1316.32 1525.08 Q1313.3 1525.08 1309.92 1526.13 Q1306.58 1527.18 1302.76 1529.31 L1302.76 1522.82 Q1306.64 1521.26 1310.02 1520.46 Q1313.39 1519.66 1316.19 1519.66 Q1323.58 1519.66 1327.97 1523.36 Q1332.36 1527.05 1332.36 1533.22 Q1332.36 1536.15 1331.25 1538.79 Q1330.17 1541.4 1327.27 1544.97 Q1326.47 1545.89 1322.21 1550.32 Q1317.94 1554.71 1310.18 1562.63 Z\" fill=\"#000000\" fill-rule=\"evenodd\" fill-opacity=\"1\" /><polyline clip-path=\"url(#clip772)\" style=\"stroke:#000000; stroke-linecap:round; stroke-linejoin:round; stroke-width:2; stroke-opacity:0.1; fill:none\" points=\"\n",
       "  242.135,1420.89 2352.76,1420.89 \n",
       "  \"/>\n",
       "<polyline clip-path=\"url(#clip772)\" style=\"stroke:#000000; stroke-linecap:round; stroke-linejoin:round; stroke-width:2; stroke-opacity:0.1; fill:none\" points=\"\n",
       "  242.135,963.773 2352.76,963.773 \n",
       "  \"/>\n",
       "<polyline clip-path=\"url(#clip772)\" style=\"stroke:#000000; stroke-linecap:round; stroke-linejoin:round; stroke-width:2; stroke-opacity:0.1; fill:none\" points=\"\n",
       "  242.135,506.651 2352.76,506.651 \n",
       "  \"/>\n",
       "<polyline clip-path=\"url(#clip772)\" style=\"stroke:#000000; stroke-linecap:round; stroke-linejoin:round; stroke-width:2; stroke-opacity:0.1; fill:none\" points=\"\n",
       "  242.135,49.5297 2352.76,49.5297 \n",
       "  \"/>\n",
       "<polyline clip-path=\"url(#clip770)\" style=\"stroke:#000000; stroke-linecap:round; stroke-linejoin:round; stroke-width:4; stroke-opacity:1; fill:none\" points=\"\n",
       "  242.135,1423.18 242.135,47.2441 \n",
       "  \"/>\n",
       "<polyline clip-path=\"url(#clip770)\" style=\"stroke:#000000; stroke-linecap:round; stroke-linejoin:round; stroke-width:4; stroke-opacity:1; fill:none\" points=\"\n",
       "  242.135,1420.89 261.032,1420.89 \n",
       "  \"/>\n",
       "<polyline clip-path=\"url(#clip770)\" style=\"stroke:#000000; stroke-linecap:round; stroke-linejoin:round; stroke-width:4; stroke-opacity:1; fill:none\" points=\"\n",
       "  242.135,963.773 261.032,963.773 \n",
       "  \"/>\n",
       "<polyline clip-path=\"url(#clip770)\" style=\"stroke:#000000; stroke-linecap:round; stroke-linejoin:round; stroke-width:4; stroke-opacity:1; fill:none\" points=\"\n",
       "  242.135,506.651 261.032,506.651 \n",
       "  \"/>\n",
       "<polyline clip-path=\"url(#clip770)\" style=\"stroke:#000000; stroke-linecap:round; stroke-linejoin:round; stroke-width:4; stroke-opacity:1; fill:none\" points=\"\n",
       "  242.135,49.5297 261.032,49.5297 \n",
       "  \"/>\n",
       "<path clip-path=\"url(#clip770)\" d=\"M114.26 1421.35 L143.936 1421.35 L143.936 1425.28 L114.26 1425.28 L114.26 1421.35 Z\" fill=\"#000000\" fill-rule=\"evenodd\" fill-opacity=\"1\" /><path clip-path=\"url(#clip770)\" d=\"M154.075 1403.61 L172.431 1403.61 L172.431 1407.55 L158.357 1407.55 L158.357 1416.02 Q159.376 1415.67 160.394 1415.51 Q161.413 1415.33 162.431 1415.33 Q168.218 1415.33 171.598 1418.5 Q174.977 1421.67 174.977 1427.09 Q174.977 1432.67 171.505 1435.77 Q168.033 1438.85 161.714 1438.85 Q159.538 1438.85 157.269 1438.48 Q155.024 1438.1 152.616 1437.36 L152.616 1432.67 Q154.7 1433.8 156.922 1434.35 Q159.144 1434.91 161.621 1434.91 Q165.626 1434.91 167.964 1432.8 Q170.302 1430.7 170.302 1427.09 Q170.302 1423.48 167.964 1421.37 Q165.626 1419.26 161.621 1419.26 Q159.746 1419.26 157.871 1419.68 Q156.019 1420.1 154.075 1420.98 L154.075 1403.61 Z\" fill=\"#000000\" fill-rule=\"evenodd\" fill-opacity=\"1\" /><path clip-path=\"url(#clip770)\" d=\"M194.19 1406.69 Q190.579 1406.69 188.75 1410.26 Q186.945 1413.8 186.945 1420.93 Q186.945 1428.04 188.75 1431.6 Q190.579 1435.14 194.19 1435.14 Q197.825 1435.14 199.63 1431.6 Q201.459 1428.04 201.459 1420.93 Q201.459 1413.8 199.63 1410.26 Q197.825 1406.69 194.19 1406.69 M194.19 1402.99 Q200 1402.99 203.056 1407.6 Q206.135 1412.18 206.135 1420.93 Q206.135 1429.66 203.056 1434.26 Q200 1438.85 194.19 1438.85 Q188.38 1438.85 185.301 1434.26 Q182.246 1429.66 182.246 1420.93 Q182.246 1412.18 185.301 1407.6 Q188.38 1402.99 194.19 1402.99 Z\" fill=\"#000000\" fill-rule=\"evenodd\" fill-opacity=\"1\" /><path clip-path=\"url(#clip770)\" d=\"M114.26 964.224 L143.936 964.224 L143.936 968.159 L114.26 968.159 L114.26 964.224 Z\" fill=\"#000000\" fill-rule=\"evenodd\" fill-opacity=\"1\" /><path clip-path=\"url(#clip770)\" d=\"M166.876 950.567 L155.07 969.016 L166.876 969.016 L166.876 950.567 M165.649 946.493 L171.528 946.493 L171.528 969.016 L176.459 969.016 L176.459 972.905 L171.528 972.905 L171.528 981.053 L166.876 981.053 L166.876 972.905 L151.274 972.905 L151.274 968.391 L165.649 946.493 Z\" fill=\"#000000\" fill-rule=\"evenodd\" fill-opacity=\"1\" /><path clip-path=\"url(#clip770)\" d=\"M194.19 949.571 Q190.579 949.571 188.75 953.136 Q186.945 956.678 186.945 963.807 Q186.945 970.914 188.75 974.479 Q190.579 978.02 194.19 978.02 Q197.825 978.02 199.63 974.479 Q201.459 970.914 201.459 963.807 Q201.459 956.678 199.63 953.136 Q197.825 949.571 194.19 949.571 M194.19 945.868 Q200 945.868 203.056 950.474 Q206.135 955.057 206.135 963.807 Q206.135 972.534 203.056 977.141 Q200 981.724 194.19 981.724 Q188.38 981.724 185.301 977.141 Q182.246 972.534 182.246 963.807 Q182.246 955.057 185.301 950.474 Q188.38 945.868 194.19 945.868 Z\" fill=\"#000000\" fill-rule=\"evenodd\" fill-opacity=\"1\" /><path clip-path=\"url(#clip770)\" d=\"M114.26 507.103 L143.936 507.103 L143.936 511.038 L114.26 511.038 L114.26 507.103 Z\" fill=\"#000000\" fill-rule=\"evenodd\" fill-opacity=\"1\" /><path clip-path=\"url(#clip770)\" d=\"M168.195 505.297 Q171.552 506.015 173.427 508.283 Q175.325 510.552 175.325 513.885 Q175.325 519.001 171.806 521.802 Q168.288 524.603 161.806 524.603 Q159.63 524.603 157.315 524.163 Q155.024 523.746 152.57 522.89 L152.57 518.376 Q154.515 519.51 156.829 520.089 Q159.144 520.667 161.667 520.667 Q166.065 520.667 168.357 518.931 Q170.672 517.195 170.672 513.885 Q170.672 510.829 168.519 509.116 Q166.39 507.38 162.57 507.38 L158.542 507.38 L158.542 503.538 L162.755 503.538 Q166.204 503.538 168.033 502.172 Q169.862 500.783 169.862 498.191 Q169.862 495.529 167.964 494.117 Q166.089 492.681 162.57 492.681 Q160.649 492.681 158.45 493.098 Q156.251 493.515 153.612 494.394 L153.612 490.228 Q156.274 489.487 158.589 489.117 Q160.927 488.746 162.987 488.746 Q168.311 488.746 171.413 491.177 Q174.514 493.584 174.514 497.705 Q174.514 500.575 172.871 502.566 Q171.227 504.533 168.195 505.297 Z\" fill=\"#000000\" fill-rule=\"evenodd\" fill-opacity=\"1\" /><path clip-path=\"url(#clip770)\" d=\"M194.19 492.45 Q190.579 492.45 188.75 496.015 Q186.945 499.556 186.945 506.686 Q186.945 513.792 188.75 517.357 Q190.579 520.899 194.19 520.899 Q197.825 520.899 199.63 517.357 Q201.459 513.792 201.459 506.686 Q201.459 499.556 199.63 496.015 Q197.825 492.45 194.19 492.45 M194.19 488.746 Q200 488.746 203.056 493.353 Q206.135 497.936 206.135 506.686 Q206.135 515.413 203.056 520.019 Q200 524.603 194.19 524.603 Q188.38 524.603 185.301 520.019 Q182.246 515.413 182.246 506.686 Q182.246 497.936 185.301 493.353 Q188.38 488.746 194.19 488.746 Z\" fill=\"#000000\" fill-rule=\"evenodd\" fill-opacity=\"1\" /><path clip-path=\"url(#clip770)\" d=\"M114.26 49.9811 L143.936 49.9811 L143.936 53.9163 L114.26 53.9163 L114.26 49.9811 Z\" fill=\"#000000\" fill-rule=\"evenodd\" fill-opacity=\"1\" /><path clip-path=\"url(#clip770)\" d=\"M158.056 62.8745 L174.376 62.8745 L174.376 66.8097 L152.431 66.8097 L152.431 62.8745 Q155.093 60.1199 159.677 55.4903 Q164.283 50.8376 165.464 49.495 Q167.709 46.9718 168.589 45.2357 Q169.491 43.4765 169.491 41.7867 Q169.491 39.0321 167.547 37.296 Q165.626 35.5599 162.524 35.5599 Q160.325 35.5599 157.871 36.3238 Q155.44 37.0876 152.663 38.6386 L152.663 33.9164 Q155.487 32.7821 157.94 32.2034 Q160.394 31.6247 162.431 31.6247 Q167.802 31.6247 170.996 34.3099 Q174.19 36.995 174.19 41.4858 Q174.19 43.6154 173.38 45.5367 Q172.593 47.4348 170.487 50.0274 Q169.908 50.6987 166.806 53.9163 Q163.704 57.1107 158.056 62.8745 Z\" fill=\"#000000\" fill-rule=\"evenodd\" fill-opacity=\"1\" /><path clip-path=\"url(#clip770)\" d=\"M194.19 35.3284 Q190.579 35.3284 188.75 38.8932 Q186.945 42.4348 186.945 49.5644 Q186.945 56.6709 188.75 60.2357 Q190.579 63.7773 194.19 63.7773 Q197.825 63.7773 199.63 60.2357 Q201.459 56.6709 201.459 49.5644 Q201.459 42.4348 199.63 38.8932 Q197.825 35.3284 194.19 35.3284 M194.19 31.6247 Q200 31.6247 203.056 36.2312 Q206.135 40.8145 206.135 49.5644 Q206.135 58.2912 203.056 62.8977 Q200 67.481 194.19 67.481 Q188.38 67.481 185.301 62.8977 Q182.246 58.2912 182.246 49.5644 Q182.246 40.8145 185.301 36.2312 Q188.38 31.6247 194.19 31.6247 Z\" fill=\"#000000\" fill-rule=\"evenodd\" fill-opacity=\"1\" /><path clip-path=\"url(#clip770)\" d=\"M14.479 818.714 L14.479 812.858 L64.0042 812.858 L64.0042 818.714 L14.479 818.714 Z\" fill=\"#000000\" fill-rule=\"evenodd\" fill-opacity=\"1\" /><path clip-path=\"url(#clip770)\" d=\"M32.4621 786.79 Q32.4621 791.501 36.1542 794.238 Q39.8145 796.975 46.212 796.975 Q52.6095 796.975 56.3017 794.27 Q59.9619 791.533 59.9619 786.79 Q59.9619 782.111 56.2698 779.374 Q52.5777 776.637 46.212 776.637 Q39.8781 776.637 36.186 779.374 Q32.4621 782.111 32.4621 786.79 M27.4968 786.79 Q27.4968 779.151 32.4621 774.791 Q37.4273 770.43 46.212 770.43 Q54.9649 770.43 59.9619 774.791 Q64.9272 779.151 64.9272 786.79 Q64.9272 794.461 59.9619 798.821 Q54.9649 803.15 46.212 803.15 Q37.4273 803.15 32.4621 798.821 Q27.4968 794.461 27.4968 786.79 Z\" fill=\"#000000\" fill-rule=\"evenodd\" fill-opacity=\"1\" /><path clip-path=\"url(#clip770)\" d=\"M45.7664 737.265 Q39.4007 737.265 35.8996 739.907 Q32.3984 742.517 32.3984 747.259 Q32.3984 751.97 35.8996 754.611 Q39.4007 757.221 45.7664 757.221 Q52.1003 757.221 55.6014 754.611 Q59.1026 751.97 59.1026 747.259 Q59.1026 742.517 55.6014 739.907 Q52.1003 737.265 45.7664 737.265 M59.58 731.408 Q68.683 731.408 73.1071 735.451 Q77.5631 739.493 77.5631 747.832 Q77.5631 750.919 77.0857 753.657 Q76.6401 756.394 75.6852 758.972 L69.9879 758.972 Q71.3884 756.394 72.0568 753.879 Q72.7252 751.365 72.7252 748.755 Q72.7252 742.994 69.7015 740.129 Q66.7096 737.265 60.6303 737.265 L57.7339 737.265 Q60.885 739.079 62.4446 741.912 Q64.0042 744.745 64.0042 748.691 Q64.0042 755.248 59.0071 759.258 Q54.01 763.269 45.7664 763.269 Q37.491 763.269 32.4939 759.258 Q27.4968 755.248 27.4968 748.691 Q27.4968 744.745 29.0564 741.912 Q30.616 739.079 33.7671 737.265 L28.3562 737.265 L28.3562 731.408 L59.58 731.408 Z\" fill=\"#000000\" fill-rule=\"evenodd\" fill-opacity=\"1\" /><path clip-path=\"url(#clip770)\" d=\"M14.479 719.345 L14.479 713.489 L64.0042 713.489 L64.0042 719.345 L14.479 719.345 Z\" fill=\"#000000\" fill-rule=\"evenodd\" fill-opacity=\"1\" /><path clip-path=\"url(#clip770)\" d=\"M28.3562 701.235 L28.3562 695.379 L64.0042 695.379 L64.0042 701.235 L28.3562 701.235 M14.479 701.235 L14.479 695.379 L21.895 695.379 L21.895 701.235 L14.479 701.235 Z\" fill=\"#000000\" fill-rule=\"evenodd\" fill-opacity=\"1\" /><path clip-path=\"url(#clip770)\" d=\"M14.479 683.347 L14.479 677.459 L43.7294 677.459 L28.3562 659.985 L28.3562 652.506 L45.0344 671.412 L64.0042 651.71 L64.0042 659.349 L46.5939 677.459 L64.0042 677.459 L64.0042 683.347 L14.479 683.347 Z\" fill=\"#000000\" fill-rule=\"evenodd\" fill-opacity=\"1\" /><polyline clip-path=\"url(#clip772)\" style=\"stroke:#0000ff; stroke-linecap:round; stroke-linejoin:round; stroke-width:4; stroke-opacity:1; fill:none\" points=\"\n",
       "  338.072,255.003 339.991,255.538 341.909,256.06 343.828,256.568 345.747,257.064 347.666,257.548 349.584,258.02 351.503,258.481 353.422,258.932 355.341,259.373 \n",
       "  357.259,259.803 359.178,260.225 361.097,260.638 363.016,261.042 364.934,261.438 366.853,261.825 368.772,262.206 370.691,262.578 372.609,262.944 374.528,263.303 \n",
       "  376.447,263.655 378.366,264 380.284,264.339 382.203,264.673 384.122,265 386.041,265.322 387.959,265.638 389.878,265.949 391.797,266.254 393.716,266.555 \n",
       "  395.634,266.851 397.553,267.142 399.472,267.428 401.391,267.71 403.309,267.988 405.228,268.261 407.147,268.53 409.066,268.796 410.984,269.057 412.903,269.314 \n",
       "  414.822,269.568 416.741,269.818 418.659,270.065 420.578,270.308 422.497,270.547 424.416,270.784 426.334,271.017 428.253,271.247 430.172,271.474 432.091,271.698 \n",
       "  434.009,271.919 435.928,272.137 437.847,272.352 439.766,272.565 441.684,272.775 443.603,272.982 445.522,273.187 447.441,273.389 449.359,273.589 451.278,273.786 \n",
       "  453.197,273.981 455.116,274.173 457.034,274.363 458.953,274.551 460.872,274.737 462.791,274.921 464.709,275.102 466.628,275.282 468.547,275.459 470.466,275.634 \n",
       "  472.384,275.808 474.303,275.979 476.222,276.149 478.14,276.316 480.059,276.482 481.978,276.646 483.897,276.809 485.815,276.969 487.734,277.128 489.653,277.285 \n",
       "  491.572,277.441 493.49,277.595 495.409,277.747 497.328,277.897 499.247,278.047 501.165,278.194 503.084,278.34 505.003,278.485 506.922,278.628 508.84,278.77 \n",
       "  510.759,278.91 512.678,279.049 514.597,279.187 516.515,279.323 518.434,279.458 520.353,279.591 522.272,279.723 524.19,279.854 526.109,279.984 528.028,280.113 \n",
       "  529.947,280.24 531.865,280.366 533.784,280.491 535.703,280.614 537.622,280.737 539.54,280.858 541.459,280.978 543.378,281.098 545.297,281.216 547.215,281.333 \n",
       "  549.134,281.449 551.053,281.563 552.972,281.677 554.89,281.79 556.809,281.902 558.728,282.012 560.647,282.122 562.565,282.231 564.484,282.339 566.403,282.446 \n",
       "  568.322,282.552 570.24,282.656 572.159,282.761 574.078,282.864 575.997,282.966 577.915,283.067 579.834,283.168 581.753,283.267 583.672,283.366 585.59,283.464 \n",
       "  587.509,283.561 589.428,283.657 591.347,283.753 593.265,283.847 595.184,283.941 597.103,284.034 599.022,284.126 600.94,284.218 602.859,284.308 604.778,284.398 \n",
       "  606.697,284.487 608.615,284.576 610.534,284.664 612.453,284.75 614.372,284.837 616.29,284.922 618.209,285.007 620.128,285.091 622.046,285.175 623.965,285.257 \n",
       "  625.884,285.339 627.803,285.421 629.721,285.501 631.64,285.581 633.559,285.661 635.478,285.739 637.396,285.818 639.315,285.895 641.234,285.972 643.153,286.048 \n",
       "  645.071,286.124 646.99,286.199 648.909,286.273 650.828,286.347 652.746,286.42 654.665,286.492 656.584,286.564 658.503,286.636 660.421,286.707 662.34,286.777 \n",
       "  664.259,286.847 666.178,286.916 668.096,286.984 670.015,287.052 671.934,287.12 673.853,287.187 675.771,287.253 677.69,287.319 679.609,287.385 681.528,287.449 \n",
       "  683.446,287.514 685.365,287.578 687.284,287.641 689.203,287.704 691.121,287.766 693.04,287.828 694.959,287.889 696.878,287.95 698.796,288.01 700.715,288.07 \n",
       "  702.634,288.129 704.553,288.188 706.471,288.247 708.39,288.305 710.309,288.362 712.228,288.419 714.146,288.476 716.065,288.532 717.984,288.587 719.903,288.643 \n",
       "  721.821,288.697 723.74,288.752 725.659,288.806 727.578,288.859 729.496,288.912 731.415,288.965 733.334,289.017 735.253,289.069 737.171,289.12 739.09,289.171 \n",
       "  741.009,289.221 742.928,289.272 744.846,289.321 746.765,289.371 748.684,289.419 750.603,289.468 752.521,289.516 754.44,289.564 756.359,289.611 758.277,289.658 \n",
       "  760.196,289.704 762.115,289.751 764.034,289.796 765.952,289.842 767.871,289.887 769.79,289.931 771.709,289.976 773.627,290.02 775.546,290.063 777.465,290.106 \n",
       "  779.384,290.149 781.302,290.192 783.221,290.234 785.14,290.275 787.059,290.317 788.977,290.358 790.896,290.399 792.815,290.439 794.734,290.479 796.652,290.519 \n",
       "  798.571,290.558 800.49,290.597 802.409,290.636 804.327,290.674 806.246,290.712 808.165,290.749 810.084,290.787 812.002,290.824 813.921,290.86 815.84,290.897 \n",
       "  817.759,290.933 819.677,290.968 821.596,291.004 823.515,291.039 825.434,291.074 827.352,291.108 829.271,291.142 831.19,291.176 833.109,291.21 835.027,291.243 \n",
       "  836.946,291.276 838.865,291.308 840.784,291.341 842.702,291.372 844.621,291.404 846.54,291.436 848.459,291.467 850.377,291.497 852.296,291.528 854.215,291.558 \n",
       "  856.134,291.588 858.052,291.618 859.971,291.647 861.89,291.676 863.809,291.705 865.727,291.734 867.646,291.762 869.565,291.79 871.484,291.817 873.402,291.845 \n",
       "  875.321,291.872 877.24,291.899 879.159,291.925 881.077,291.952 882.996,291.978 884.915,292.003 886.834,292.029 888.752,292.054 890.671,292.079 892.59,292.104 \n",
       "  894.509,292.128 896.427,292.152 898.346,292.176 900.265,292.2 902.183,292.223 904.102,292.246 906.021,292.269 907.94,292.292 909.858,292.314 911.777,292.336 \n",
       "  913.696,292.358 915.615,292.38 917.533,292.401 919.452,292.422 921.371,292.443 923.29,292.463 925.208,292.484 927.127,292.504 929.046,292.524 930.965,292.543 \n",
       "  932.883,292.563 934.802,292.582 936.721,292.601 938.64,292.619 940.558,292.638 942.477,292.656 944.396,292.674 946.315,292.692 948.233,292.709 950.152,292.726 \n",
       "  952.071,292.743 953.99,292.76 955.908,292.777 957.827,292.793 959.746,292.809 961.665,292.825 963.583,292.84 965.502,292.856 967.421,292.871 969.34,292.886 \n",
       "  971.258,292.901 973.177,292.915 975.096,292.929 977.015,292.943 978.933,292.957 980.852,292.971 982.771,292.984 984.69,292.997 986.608,293.01 988.527,293.023 \n",
       "  990.446,293.035 992.365,293.047 994.283,293.06 996.202,293.071 998.121,293.083 1000.04,293.094 1001.96,293.106 1003.88,293.116 1005.8,293.127 1007.71,293.138 \n",
       "  1009.63,293.148 1011.55,293.158 1013.47,293.168 1015.39,293.178 1017.31,293.187 1019.23,293.197 1021.15,293.206 1023.06,293.214 1024.98,293.223 1026.9,293.232 \n",
       "  1028.82,293.24 1030.74,293.248 1032.66,293.256 1034.58,293.263 1036.5,293.271 1038.41,293.278 1040.33,293.285 1042.25,293.292 1044.17,293.298 1046.09,293.305 \n",
       "  1048.01,293.311 1049.93,293.317 1051.85,293.323 1053.76,293.328 1055.68,293.334 1057.6,293.339 1059.52,293.344 1061.44,293.349 1063.36,293.353 1065.28,293.357 \n",
       "  1067.2,293.362 1069.11,293.366 1071.03,293.37 1072.95,293.373 1074.87,293.377 1076.79,293.38 1078.71,293.383 1080.63,293.386 1082.55,293.388 1084.46,293.391 \n",
       "  1086.38,293.393 1088.3,293.395 1090.22,293.397 1092.14,293.399 1094.06,293.4 1095.98,293.401 1097.9,293.402 1099.81,293.403 1101.73,293.404 1103.65,293.405 \n",
       "  1105.57,293.405 1107.49,293.405 1109.41,293.405 1111.33,293.405 1113.25,293.404 1115.16,293.404 1117.08,293.403 1119,293.402 1120.92,293.401 1122.84,293.4 \n",
       "  1124.76,293.398 1126.68,293.396 1128.6,293.394 1130.51,293.392 1132.43,293.39 1134.35,293.388 1136.27,293.385 1138.19,293.382 1140.11,293.379 1142.03,293.376 \n",
       "  1143.95,293.373 1145.86,293.369 1147.78,293.365 1149.7,293.361 1151.62,293.357 1153.54,293.353 1155.46,293.348 1157.38,293.344 1159.3,293.339 1161.21,293.334 \n",
       "  1163.13,293.329 1165.05,293.323 1166.97,293.318 1168.89,293.312 1170.81,293.306 1172.73,293.3 1174.65,293.294 1176.56,293.287 1178.48,293.281 1180.4,293.274 \n",
       "  1182.32,293.267 1184.24,293.26 1186.16,293.252 1188.08,293.245 1190,293.237 1191.91,293.229 1193.83,293.221 1195.75,293.213 1197.67,293.204 1199.59,293.196 \n",
       "  1201.51,293.187 1203.43,293.178 1205.35,293.169 1207.26,293.16 1209.18,293.15 1211.1,293.14 1213.02,293.13 1214.94,293.12 1216.86,293.11 1218.78,293.1 \n",
       "  1220.7,293.089 1222.61,293.079 1224.53,293.068 1226.45,293.057 1228.37,293.045 1230.29,293.034 1232.21,293.022 1234.13,293.01 1236.05,292.998 1237.96,292.986 \n",
       "  1239.88,292.974 1241.8,292.961 1243.72,292.949 1245.64,292.936 1247.56,292.923 1249.48,292.91 1251.4,292.896 1253.31,292.883 1255.23,292.869 1257.15,292.855 \n",
       "  1259.07,292.841 1260.99,292.827 1262.91,292.812 1264.83,292.798 1266.75,292.783 1268.66,292.768 1270.58,292.753 1272.5,292.738 1274.42,292.722 1276.34,292.706 \n",
       "  1278.26,292.691 1280.18,292.675 1282.1,292.658 1284.01,292.642 1285.93,292.625 1287.85,292.609 1289.77,292.592 1291.69,292.575 1293.61,292.558 1295.53,292.54 \n",
       "  1297.45,292.523 1299.36,292.505 1301.28,292.487 1303.2,292.469 1305.12,292.45 1307.04,292.432 1308.96,292.413 1310.88,292.394 1312.8,292.375 1314.71,292.356 \n",
       "  1316.63,292.337 1318.55,292.317 1320.47,292.298 1322.39,292.278 1324.31,292.258 1326.23,292.238 1328.15,292.217 1330.06,292.197 1331.98,292.176 1333.9,292.155 \n",
       "  1335.82,292.134 1337.74,292.112 1339.66,292.091 1341.58,292.069 1343.5,292.047 1345.41,292.025 1347.33,292.003 1349.25,291.981 1351.17,291.958 1353.09,291.936 \n",
       "  1355.01,291.913 1356.93,291.89 1358.85,291.866 1360.76,291.843 1362.68,291.819 1364.6,291.796 1366.52,291.772 1368.44,291.748 1370.36,291.723 1372.28,291.699 \n",
       "  1374.2,291.674 1376.11,291.649 1378.03,291.624 1379.95,291.599 1381.87,291.573 1383.79,291.548 1385.71,291.522 1387.63,291.496 1389.55,291.47 1391.46,291.444 \n",
       "  1393.38,291.417 1395.3,291.391 1397.22,291.364 1399.14,291.337 1401.06,291.309 1402.98,291.282 1404.9,291.254 1406.81,291.227 1408.73,291.199 1410.65,291.171 \n",
       "  1412.57,291.142 1414.49,291.114 1416.41,291.085 1418.33,291.056 1420.25,291.027 1422.16,290.998 1424.08,290.969 1426,290.939 1427.92,290.909 1429.84,290.879 \n",
       "  1431.76,290.849 1433.68,290.819 1435.6,290.788 1437.51,290.757 1439.43,290.726 1441.35,290.695 1443.27,290.664 1445.19,290.633 1447.11,290.601 1449.03,290.569 \n",
       "  1450.95,290.537 1452.86,290.505 1454.78,290.472 1456.7,290.44 1458.62,290.407 1460.54,290.374 1462.46,290.341 1464.38,290.307 1466.29,290.274 1468.21,290.24 \n",
       "  1470.13,290.206 1472.05,290.172 1473.97,290.138 1475.89,290.103 1477.81,290.068 1479.73,290.033 1481.64,289.998 1483.56,289.963 1485.48,289.927 1487.4,289.892 \n",
       "  1489.32,289.856 1491.24,289.82 1493.16,289.784 1495.08,289.747 1496.99,289.71 1498.91,289.673 1500.83,289.636 1502.75,289.599 1504.67,289.562 1506.59,289.524 \n",
       "  1508.51,289.486 1510.43,289.448 1512.34,289.41 1514.26,289.371 1516.18,289.333 1518.1,289.294 1520.02,289.255 1521.94,289.215 1523.86,289.176 1525.78,289.136 \n",
       "  1527.69,289.096 1529.61,289.056 1531.53,289.016 1533.45,288.975 1535.37,288.935 1537.29,288.894 1539.21,288.853 1541.13,288.811 1543.04,288.77 1544.96,288.728 \n",
       "  1546.88,288.686 1548.8,288.644 1550.72,288.601 1552.64,288.559 1554.56,288.516 1556.48,288.473 1558.39,288.43 1560.31,288.386 1562.23,288.343 1564.15,288.299 \n",
       "  1566.07,288.255 1567.99,288.21 1569.91,288.166 1571.83,288.121 1573.74,288.076 1575.66,288.031 1577.58,287.986 1579.5,287.94 1581.42,287.894 1583.34,287.848 \n",
       "  1585.26,287.802 1587.18,287.755 1589.09,287.709 1591.01,287.662 1592.93,287.615 1594.85,287.567 1596.77,287.52 1598.69,287.472 1600.61,287.424 1602.53,287.376 \n",
       "  1604.44,287.327 1606.36,287.278 1608.28,287.229 1610.2,287.18 1612.12,287.131 1614.04,287.081 1615.96,287.031 1617.88,286.981 1619.79,286.931 1621.71,286.88 \n",
       "  1623.63,286.83 1625.55,286.779 1627.47,286.727 1629.39,286.676 1631.31,286.624 1633.23,286.572 1635.14,286.52 1637.06,286.468 1638.98,286.415 1640.9,286.362 \n",
       "  1642.82,286.309 1644.74,286.255 1646.66,286.202 1648.58,286.148 1650.49,286.094 1652.41,286.039 1654.33,285.985 1656.25,285.93 1658.17,285.875 1660.09,285.819 \n",
       "  1662.01,285.764 1663.93,285.708 1665.84,285.652 1667.76,285.595 1669.68,285.539 1671.6,285.482 1673.52,285.425 1675.44,285.368 1677.36,285.31 1679.28,285.252 \n",
       "  1681.19,285.194 1683.11,285.136 1685.03,285.077 1686.95,285.018 1688.87,284.959 1690.79,284.899 1692.71,284.84 1694.63,284.78 1696.54,284.719 1698.46,284.659 \n",
       "  1700.38,284.598 1702.3,284.537 1704.22,284.476 1706.14,284.414 1708.06,284.353 1709.98,284.29 1711.89,284.228 1713.81,284.165 1715.73,284.103 1717.65,284.039 \n",
       "  1719.57,283.976 1721.49,283.912 1723.41,283.848 1725.33,283.784 1727.24,283.719 1729.16,283.654 1731.08,283.589 1733,283.524 1734.92,283.458 1736.84,283.392 \n",
       "  1738.76,283.326 1740.68,283.259 1742.59,283.192 1744.51,283.125 1746.43,283.058 1748.35,282.99 1750.27,282.922 1752.19,282.854 1754.11,282.785 1756.03,282.716 \n",
       "  1757.94,282.647 1759.86,282.577 1761.78,282.508 1763.7,282.437 1765.62,282.367 1767.54,282.296 1769.46,282.225 1771.38,282.154 1773.29,282.082 1775.21,282.01 \n",
       "  1777.13,281.938 1779.05,281.865 1780.97,281.793 1782.89,281.719 1784.81,281.646 1786.73,281.572 1788.64,281.498 1790.56,281.423 1792.48,281.348 1794.4,281.273 \n",
       "  1796.32,281.198 1798.24,281.122 1800.16,281.046 1802.08,280.97 1803.99,280.893 1805.91,280.816 1807.83,280.738 1809.75,280.66 1811.67,280.582 1813.59,280.504 \n",
       "  1815.51,280.425 1817.43,280.346 1819.34,280.266 1821.26,280.187 1823.18,280.106 1825.1,280.026 1827.02,279.945 1828.94,279.864 1830.86,279.782 1832.78,279.7 \n",
       "  1834.69,279.618 1836.61,279.536 1838.53,279.453 1840.45,279.369 1842.37,279.285 1844.29,279.201 1846.21,279.117 1848.13,279.032 1850.04,278.947 1851.96,278.861 \n",
       "  1853.88,278.775 1855.8,278.689 1857.72,278.602 1859.64,278.515 1861.56,278.428 1863.48,278.34 1865.39,278.252 1867.31,278.163 1869.23,278.074 1871.15,277.985 \n",
       "  1873.07,277.895 1874.99,277.805 1876.91,277.715 1878.83,277.624 1880.74,277.532 1882.66,277.441 1884.58,277.348 1886.5,277.256 1888.42,277.163 1890.34,277.07 \n",
       "  1892.26,276.976 1894.18,276.882 1896.09,276.787 1898.01,276.692 1899.93,276.596 1901.85,276.501 1903.77,276.404 1905.69,276.308 1907.61,276.21 1909.53,276.113 \n",
       "  1911.44,276.015 1913.36,275.916 1915.28,275.817 1917.2,275.718 1919.12,275.618 1921.04,275.518 1922.96,275.417 1924.88,275.316 1926.79,275.215 1928.71,275.113 \n",
       "  1930.63,275.01 1932.55,274.907 1934.47,274.804 1936.39,274.7 1938.31,274.595 1940.23,274.491 1942.14,274.385 1944.06,274.279 1945.98,274.173 1947.9,274.066 \n",
       "  1949.82,273.959 1951.74,273.852 1953.66,273.743 1955.58,273.635 1957.49,273.525 1959.41,273.416 1961.33,273.306 1963.25,273.195 1965.17,273.084 1967.09,272.972 \n",
       "  1969.01,272.86 1970.93,272.747 1972.84,272.634 1974.76,272.52 1976.68,272.406 1978.6,272.291 1980.52,272.175 1982.44,272.059 1984.36,271.943 1986.28,271.826 \n",
       "  1988.19,271.708 1990.11,271.59 1992.03,271.472 1993.95,271.352 1995.87,271.233 1997.79,271.112 1999.71,270.992 2001.63,270.87 2003.54,270.748 2005.46,270.625 \n",
       "  2007.38,270.502 2009.3,270.379 2011.22,270.254 2013.14,270.129 2015.06,270.004 2016.98,269.878 2018.89,269.751 2020.81,269.624 2022.73,269.496 2024.65,269.367 \n",
       "  2026.57,269.238 2028.49,269.108 2030.41,268.978 2032.33,268.847 2034.24,268.715 2036.16,268.583 2038.08,268.45 2040,268.316 2041.92,268.182 2043.84,268.047 \n",
       "  2045.76,267.911 2047.68,267.775 2049.59,267.638 2051.51,267.501 2053.43,267.363 2055.35,267.224 2057.27,267.084 2059.19,266.944 2061.11,266.803 2063.03,266.661 \n",
       "  2064.94,266.519 2066.86,266.376 2068.78,266.232 2070.7,266.087 2072.62,265.942 2074.54,265.796 2076.46,265.649 2078.38,265.502 2080.29,265.354 2082.21,265.205 \n",
       "  2084.13,265.055 2086.05,264.905 2087.97,264.753 2089.89,264.601 2091.81,264.449 2093.73,264.295 2095.64,264.141 2097.56,263.986 2099.48,263.83 2101.4,263.673 \n",
       "  2103.32,263.516 2105.24,263.357 2107.16,263.198 2109.08,263.038 2110.99,262.877 2112.91,262.716 2114.83,262.553 2116.75,262.39 2118.67,262.226 2120.59,262.061 \n",
       "  2122.51,261.895 2124.43,261.728 2126.34,261.56 2128.26,261.391 2130.18,261.222 2132.1,261.052 2134.02,260.88 2135.94,260.708 2137.86,260.535 2139.78,260.361 \n",
       "  2141.69,260.186 2143.61,260.01 2145.53,259.833 2147.45,259.655 2149.37,259.476 2151.29,259.296 2153.21,259.116 2155.13,258.934 2157.04,258.751 2158.96,258.567 \n",
       "  2160.88,258.383 2162.8,258.197 2164.72,258.01 2166.64,257.822 2168.56,257.633 2170.47,257.443 2172.39,257.252 2174.31,257.06 2176.23,256.867 2178.15,256.672 \n",
       "  2180.07,256.477 2181.99,256.28 2183.91,256.083 2185.82,255.884 2187.74,255.684 2189.66,255.483 2191.58,255.281 2193.5,255.078 2195.42,254.873 2197.34,254.668 \n",
       "  2199.26,254.461 2201.17,254.253 2203.09,254.043 2205.01,253.833 2206.93,253.621 2208.85,253.408 2210.77,253.194 2212.69,252.978 2214.61,252.762 2216.52,252.544 \n",
       "  2218.44,252.324 2220.36,252.104 2222.28,251.882 2224.2,251.658 2226.12,251.434 2228.04,251.208 2229.96,250.98 2231.87,250.752 2233.79,250.522 2235.71,250.29 \n",
       "  2237.63,250.057 2239.55,249.823 2241.47,249.587 2243.39,249.35 2245.31,249.111 2247.22,248.871 2249.14,248.629 2251.06,248.386 2252.98,248.142 2254.9,247.896 \n",
       "  \n",
       "  \"/>\n",
       "<circle clip-path=\"url(#clip772)\" cx=\"2254.9\" cy=\"247.896\" r=\"14.4\" fill=\"#0000ff\" fill-rule=\"evenodd\" fill-opacity=\"1\" stroke=\"#000000\" stroke-opacity=\"1\" stroke-width=\"3.2\"/>\n",
       "<polyline clip-path=\"url(#clip772)\" style=\"stroke:#ff0000; stroke-linecap:round; stroke-linejoin:round; stroke-width:4; stroke-opacity:1; fill:none\" points=\"\n",
       "  338.072,86.9884 339.991,87.5707 341.909,88.1391 343.828,88.6945 345.747,89.2373 347.666,89.7681 349.584,90.2875 351.503,90.7959 353.422,91.2939 355.341,91.7819 \n",
       "  357.259,92.2602 359.178,92.7293 361.097,93.1895 363.016,93.6411 364.934,94.0846 366.853,94.5201 368.772,94.9481 370.691,95.3686 372.609,95.7821 374.528,96.1888 \n",
       "  376.447,96.5888 378.366,96.9824 380.284,97.3699 382.203,97.7514 384.122,98.1271 386.041,98.4972 387.959,98.8618 389.878,99.2212 391.797,99.5755 393.716,99.9248 \n",
       "  395.634,100.269 397.553,100.609 399.472,100.944 401.391,101.275 403.309,101.602 405.228,101.924 407.147,102.243 409.066,102.557 410.984,102.868 412.903,103.174 \n",
       "  414.822,103.477 416.741,103.777 418.659,104.073 420.578,104.366 422.497,104.655 424.416,104.941 426.334,105.224 428.253,105.504 430.172,105.781 432.091,106.055 \n",
       "  434.009,106.326 435.928,106.594 437.847,106.86 439.766,107.123 441.684,107.383 443.603,107.641 445.522,107.896 447.441,108.148 449.359,108.399 451.278,108.647 \n",
       "  453.197,108.892 455.116,109.135 457.034,109.377 458.953,109.616 460.872,109.852 462.791,110.087 464.709,110.32 466.628,110.55 468.547,110.779 470.466,111.006 \n",
       "  472.384,111.231 474.303,111.454 476.222,111.675 478.14,111.894 480.059,112.112 481.978,112.328 483.897,112.542 485.815,112.754 487.734,112.965 489.653,113.175 \n",
       "  491.572,113.382 493.49,113.588 495.409,113.793 497.328,113.996 499.247,114.198 501.165,114.398 503.084,114.597 505.003,114.794 506.922,114.99 508.84,115.184 \n",
       "  510.759,115.377 512.678,115.569 514.597,115.76 516.515,115.949 518.434,116.137 520.353,116.324 522.272,116.51 524.19,116.694 526.109,116.877 528.028,117.059 \n",
       "  529.947,117.24 531.865,117.42 533.784,117.599 535.703,117.776 537.622,117.953 539.54,118.128 541.459,118.302 543.378,118.476 545.297,118.648 547.215,118.819 \n",
       "  549.134,118.99 551.053,119.159 552.972,119.327 554.89,119.495 556.809,119.661 558.728,119.826 560.647,119.991 562.565,120.155 564.484,120.318 566.403,120.479 \n",
       "  568.322,120.641 570.24,120.801 572.159,120.96 574.078,121.119 575.997,121.276 577.915,121.433 579.834,121.589 581.753,121.745 583.672,121.899 585.59,122.053 \n",
       "  587.509,122.206 589.428,122.358 591.347,122.509 593.265,122.66 595.184,122.81 597.103,122.96 599.022,123.108 600.94,123.256 602.859,123.403 604.778,123.55 \n",
       "  606.697,123.696 608.615,123.841 610.534,123.985 612.453,124.129 614.372,124.272 616.29,124.415 618.209,124.557 620.128,124.698 622.046,124.839 623.965,124.979 \n",
       "  625.884,125.119 627.803,125.257 629.721,125.396 631.64,125.534 633.559,125.671 635.478,125.807 637.396,125.943 639.315,126.079 641.234,126.214 643.153,126.348 \n",
       "  645.071,126.482 646.99,126.615 648.909,126.748 650.828,126.881 652.746,127.012 654.665,127.144 656.584,127.274 658.503,127.405 660.421,127.534 662.34,127.664 \n",
       "  664.259,127.793 666.178,127.921 668.096,128.049 670.015,128.176 671.934,128.303 673.853,128.43 675.771,128.556 677.69,128.681 679.609,128.806 681.528,128.931 \n",
       "  683.446,129.055 685.365,129.179 687.284,129.302 689.203,129.425 691.121,129.548 693.04,129.67 694.959,129.792 696.878,129.913 698.796,130.034 700.715,130.155 \n",
       "  702.634,130.275 704.553,130.395 706.471,130.514 708.39,130.633 710.309,130.752 712.228,130.87 714.146,130.988 716.065,131.105 717.984,131.222 719.903,131.339 \n",
       "  721.821,131.455 723.74,131.571 725.659,131.687 727.578,131.803 729.496,131.918 731.415,132.032 733.334,132.147 735.253,132.261 737.171,132.374 739.09,132.488 \n",
       "  741.009,132.601 742.928,132.713 744.846,132.826 746.765,132.938 748.684,133.049 750.603,133.161 752.521,133.272 754.44,133.383 756.359,133.493 758.277,133.604 \n",
       "  760.196,133.714 762.115,133.823 764.034,133.932 765.952,134.042 767.871,134.15 769.79,134.259 771.709,134.367 773.627,134.475 775.546,134.583 777.465,134.69 \n",
       "  779.384,134.797 781.302,134.904 783.221,135.01 785.14,135.117 787.059,135.223 788.977,135.329 790.896,135.434 792.815,135.539 794.734,135.644 796.652,135.749 \n",
       "  798.571,135.854 800.49,135.958 802.409,136.062 804.327,136.166 806.246,136.269 808.165,136.373 810.084,136.476 812.002,136.579 813.921,136.681 815.84,136.784 \n",
       "  817.759,136.886 819.677,136.988 821.596,137.089 823.515,137.191 825.434,137.292 827.352,137.393 829.271,137.494 831.19,137.594 833.109,137.695 835.027,137.795 \n",
       "  836.946,137.895 838.865,137.995 840.784,138.094 842.702,138.194 844.621,138.293 846.54,138.392 848.459,138.491 850.377,138.589 852.296,138.688 854.215,138.786 \n",
       "  856.134,138.884 858.052,138.981 859.971,139.079 861.89,139.176 863.809,139.274 865.727,139.371 867.646,139.468 869.565,139.564 871.484,139.661 873.402,139.757 \n",
       "  875.321,139.853 877.24,139.949 879.159,140.045 881.077,140.14 882.996,140.236 884.915,140.331 886.834,140.426 888.752,140.521 890.671,140.616 892.59,140.711 \n",
       "  894.509,140.805 896.427,140.899 898.346,140.993 900.265,141.087 902.183,141.181 904.102,141.275 906.021,141.368 907.94,141.462 909.858,141.555 911.777,141.648 \n",
       "  913.696,141.741 915.615,141.833 917.533,141.926 919.452,142.018 921.371,142.111 923.29,142.203 925.208,142.295 927.127,142.387 929.046,142.478 930.965,142.57 \n",
       "  932.883,142.661 934.802,142.753 936.721,142.844 938.64,142.935 940.558,143.026 942.477,143.117 944.396,143.207 946.315,143.298 948.233,143.388 950.152,143.478 \n",
       "  952.071,143.568 953.99,143.658 955.908,143.748 957.827,143.838 959.746,143.927 961.665,144.017 963.583,144.106 965.502,144.196 967.421,144.285 969.34,144.374 \n",
       "  971.258,144.463 973.177,144.551 975.096,144.64 977.015,144.728 978.933,144.817 980.852,144.905 982.771,144.993 984.69,145.081 986.608,145.169 988.527,145.257 \n",
       "  990.446,145.345 992.365,145.433 994.283,145.52 996.202,145.608 998.121,145.695 1000.04,145.782 1001.96,145.869 1003.88,145.956 1005.8,146.043 1007.71,146.13 \n",
       "  1009.63,146.217 1011.55,146.303 1013.47,146.39 1015.39,146.476 1017.31,146.562 1019.23,146.649 1021.15,146.735 1023.06,146.821 1024.98,146.907 1026.9,146.992 \n",
       "  1028.82,147.078 1030.74,147.164 1032.66,147.249 1034.58,147.335 1036.5,147.42 1038.41,147.505 1040.33,147.591 1042.25,147.676 1044.17,147.761 1046.09,147.846 \n",
       "  1048.01,147.931 1049.93,148.015 1051.85,148.1 1053.76,148.185 1055.68,148.269 1057.6,148.354 1059.52,148.438 1061.44,148.522 1063.36,148.606 1065.28,148.69 \n",
       "  1067.2,148.774 1069.11,148.858 1071.03,148.942 1072.95,149.026 1074.87,149.11 1076.79,149.193 1078.71,149.277 1080.63,149.36 1082.55,149.444 1084.46,149.527 \n",
       "  1086.38,149.611 1088.3,149.694 1090.22,149.777 1092.14,149.86 1094.06,149.943 1095.98,150.026 1097.9,150.109 1099.81,150.191 1101.73,150.274 1103.65,150.357 \n",
       "  1105.57,150.439 1107.49,150.522 1109.41,150.604 1111.33,150.687 1113.25,150.769 1115.16,150.851 1117.08,150.934 1119,151.016 1120.92,151.098 1122.84,151.18 \n",
       "  1124.76,151.262 1126.68,151.344 1128.6,151.425 1130.51,151.507 1132.43,151.589 1134.35,151.671 1136.27,151.752 1138.19,151.834 1140.11,151.915 1142.03,151.997 \n",
       "  1143.95,152.078 1145.86,152.159 1147.78,152.241 1149.7,152.322 1151.62,152.403 1153.54,152.484 1155.46,152.565 1157.38,152.646 1159.3,152.727 1161.21,152.808 \n",
       "  1163.13,152.889 1165.05,152.97 1166.97,153.05 1168.89,153.131 1170.81,153.212 1172.73,153.292 1174.65,153.373 1176.56,153.453 1178.48,153.534 1180.4,153.614 \n",
       "  1182.32,153.694 1184.24,153.775 1186.16,153.855 1188.08,153.935 1190,154.015 1191.91,154.095 1193.83,154.176 1195.75,154.256 1197.67,154.336 1199.59,154.416 \n",
       "  1201.51,154.495 1203.43,154.575 1205.35,154.655 1207.26,154.735 1209.18,154.815 1211.1,154.894 1213.02,154.974 1214.94,155.054 1216.86,155.133 1218.78,155.213 \n",
       "  1220.7,155.292 1222.61,155.372 1224.53,155.451 1226.45,155.531 1228.37,155.61 1230.29,155.689 1232.21,155.769 1234.13,155.848 1236.05,155.927 1237.96,156.006 \n",
       "  1239.88,156.085 1241.8,156.165 1243.72,156.244 1245.64,156.323 1247.56,156.402 1249.48,156.481 1251.4,156.56 1253.31,156.639 1255.23,156.717 1257.15,156.796 \n",
       "  1259.07,156.875 1260.99,156.954 1262.91,157.033 1264.83,157.111 1266.75,157.19 1268.66,157.269 1270.58,157.347 1272.5,157.426 1274.42,157.505 1276.34,157.583 \n",
       "  1278.26,157.662 1280.18,157.74 1282.1,157.819 1284.01,157.897 1285.93,157.976 1287.85,158.054 1289.77,158.132 1291.69,158.211 1293.61,158.289 1295.53,158.367 \n",
       "  1297.45,158.445 1299.36,158.524 1301.28,158.602 1303.2,158.68 1305.12,158.758 1307.04,158.836 1308.96,158.915 1310.88,158.993 1312.8,159.071 1314.71,159.149 \n",
       "  1316.63,159.227 1318.55,159.305 1320.47,159.383 1322.39,159.461 1324.31,159.539 1326.23,159.617 1328.15,159.695 1330.06,159.772 1331.98,159.85 1333.9,159.928 \n",
       "  1335.82,160.006 1337.74,160.084 1339.66,160.161 1341.58,160.239 1343.5,160.317 1345.41,160.395 1347.33,160.472 1349.25,160.55 1351.17,160.628 1353.09,160.705 \n",
       "  1355.01,160.783 1356.93,160.861 1358.85,160.938 1360.76,161.016 1362.68,161.093 1364.6,161.171 1366.52,161.249 1368.44,161.326 1370.36,161.404 1372.28,161.481 \n",
       "  1374.2,161.559 1376.11,161.636 1378.03,161.713 1379.95,161.791 1381.87,161.868 1383.79,161.946 1385.71,162.023 1387.63,162.1 1389.55,162.178 1391.46,162.255 \n",
       "  1393.38,162.332 1395.3,162.41 1397.22,162.487 1399.14,162.564 1401.06,162.642 1402.98,162.719 1404.9,162.796 1406.81,162.873 1408.73,162.951 1410.65,163.028 \n",
       "  1412.57,163.105 1414.49,163.182 1416.41,163.259 1418.33,163.337 1420.25,163.414 1422.16,163.491 1424.08,163.568 1426,163.645 1427.92,163.722 1429.84,163.799 \n",
       "  1431.76,163.877 1433.68,163.954 1435.6,164.031 1437.51,164.108 1439.43,164.185 1441.35,164.262 1443.27,164.339 1445.19,164.416 1447.11,164.493 1449.03,164.57 \n",
       "  1450.95,164.647 1452.86,164.724 1454.78,164.801 1456.7,164.878 1458.62,164.955 1460.54,165.032 1462.46,165.109 1464.38,165.186 1466.29,165.263 1468.21,165.34 \n",
       "  1470.13,165.417 1472.05,165.493 1473.97,165.57 1475.89,165.647 1477.81,165.724 1479.73,165.801 1481.64,165.878 1483.56,165.955 1485.48,166.032 1487.4,166.108 \n",
       "  1489.32,166.185 1491.24,166.262 1493.16,166.339 1495.08,166.416 1496.99,166.493 1498.91,166.569 1500.83,166.646 1502.75,166.723 1504.67,166.8 1506.59,166.877 \n",
       "  1508.51,166.953 1510.43,167.03 1512.34,167.107 1514.26,167.184 1516.18,167.26 1518.1,167.337 1520.02,167.414 1521.94,167.491 1523.86,167.567 1525.78,167.644 \n",
       "  1527.69,167.721 1529.61,167.798 1531.53,167.874 1533.45,167.951 1535.37,168.028 1537.29,168.104 1539.21,168.181 1541.13,168.258 1543.04,168.334 1544.96,168.411 \n",
       "  1546.88,168.488 1548.8,168.564 1550.72,168.641 1552.64,168.718 1554.56,168.794 1556.48,168.871 1558.39,168.948 1560.31,169.024 1562.23,169.101 1564.15,169.177 \n",
       "  1566.07,169.254 1567.99,169.331 1569.91,169.407 1571.83,169.484 1573.74,169.56 1575.66,169.637 1577.58,169.713 1579.5,169.79 1581.42,169.867 1583.34,169.943 \n",
       "  1585.26,170.02 1587.18,170.096 1589.09,170.173 1591.01,170.249 1592.93,170.326 1594.85,170.402 1596.77,170.479 1598.69,170.555 1600.61,170.632 1602.53,170.708 \n",
       "  1604.44,170.785 1606.36,170.861 1608.28,170.938 1610.2,171.014 1612.12,171.09 1614.04,171.167 1615.96,171.243 1617.88,171.32 1619.79,171.396 1621.71,171.473 \n",
       "  1623.63,171.549 1625.55,171.625 1627.47,171.702 1629.39,171.778 1631.31,171.854 1633.23,171.931 1635.14,172.007 1637.06,172.083 1638.98,172.16 1640.9,172.236 \n",
       "  1642.82,172.312 1644.74,172.389 1646.66,172.465 1648.58,172.541 1650.49,172.617 1652.41,172.694 1654.33,172.77 1656.25,172.846 1658.17,172.922 1660.09,172.999 \n",
       "  1662.01,173.075 1663.93,173.151 1665.84,173.227 1667.76,173.303 1669.68,173.379 1671.6,173.456 1673.52,173.532 1675.44,173.608 1677.36,173.684 1679.28,173.76 \n",
       "  1681.19,173.836 1683.11,173.912 1685.03,173.988 1686.95,174.064 1688.87,174.14 1690.79,174.216 1692.71,174.292 1694.63,174.368 1696.54,174.444 1698.46,174.52 \n",
       "  1700.38,174.596 1702.3,174.672 1704.22,174.748 1706.14,174.824 1708.06,174.899 1709.98,174.975 1711.89,175.051 1713.81,175.127 1715.73,175.203 1717.65,175.278 \n",
       "  1719.57,175.354 1721.49,175.43 1723.41,175.506 1725.33,175.581 1727.24,175.657 1729.16,175.732 1731.08,175.808 1733,175.884 1734.92,175.959 1736.84,176.035 \n",
       "  1738.76,176.11 1740.68,176.186 1742.59,176.261 1744.51,176.337 1746.43,176.412 1748.35,176.488 1750.27,176.563 1752.19,176.638 1754.11,176.714 1756.03,176.789 \n",
       "  1757.94,176.864 1759.86,176.939 1761.78,177.015 1763.7,177.09 1765.62,177.165 1767.54,177.24 1769.46,177.315 1771.38,177.39 1773.29,177.465 1775.21,177.54 \n",
       "  1777.13,177.615 1779.05,177.69 1780.97,177.765 1782.89,177.84 1784.81,177.915 1786.73,177.99 1788.64,178.064 1790.56,178.139 1792.48,178.214 1794.4,178.288 \n",
       "  1796.32,178.363 1798.24,178.438 1800.16,178.512 1802.08,178.587 1803.99,178.661 1805.91,178.736 1807.83,178.81 1809.75,178.884 1811.67,178.959 1813.59,179.033 \n",
       "  1815.51,179.107 1817.43,179.181 1819.34,179.255 1821.26,179.329 1823.18,179.403 1825.1,179.477 1827.02,179.551 1828.94,179.625 1830.86,179.699 1832.78,179.773 \n",
       "  1834.69,179.847 1836.61,179.92 1838.53,179.994 1840.45,180.067 1842.37,180.141 1844.29,180.214 1846.21,180.288 1848.13,180.361 1850.04,180.434 1851.96,180.508 \n",
       "  1853.88,180.581 1855.8,180.654 1857.72,180.727 1859.64,180.8 1861.56,180.873 1863.48,180.946 1865.39,181.019 1867.31,181.091 1869.23,181.164 1871.15,181.237 \n",
       "  1873.07,181.309 1874.99,181.382 1876.91,181.454 1878.83,181.526 1880.74,181.599 1882.66,181.671 1884.58,181.743 1886.5,181.815 1888.42,181.887 1890.34,181.959 \n",
       "  1892.26,182.03 1894.18,182.102 1896.09,182.174 1898.01,182.245 1899.93,182.317 1901.85,182.388 1903.77,182.459 1905.69,182.531 1907.61,182.602 1909.53,182.673 \n",
       "  1911.44,182.744 1913.36,182.814 1915.28,182.885 1917.2,182.956 1919.12,183.026 1921.04,183.097 1922.96,183.167 1924.88,183.237 1926.79,183.308 1928.71,183.378 \n",
       "  1930.63,183.448 1932.55,183.517 1934.47,183.587 1936.39,183.657 1938.31,183.726 1940.23,183.796 1942.14,183.865 1944.06,183.934 1945.98,184.003 1947.9,184.072 \n",
       "  1949.82,184.141 1951.74,184.21 1953.66,184.278 1955.58,184.347 1957.49,184.415 1959.41,184.483 1961.33,184.551 1963.25,184.619 1965.17,184.687 1967.09,184.755 \n",
       "  1969.01,184.822 1970.93,184.89 1972.84,184.957 1974.76,185.024 1976.68,185.091 1978.6,185.158 1980.52,185.225 1982.44,185.291 1984.36,185.358 1986.28,185.424 \n",
       "  1988.19,185.49 1990.11,185.556 1992.03,185.622 1993.95,185.687 1995.87,185.753 1997.79,185.818 1999.71,185.883 2001.63,185.948 2003.54,186.013 2005.46,186.078 \n",
       "  2007.38,186.142 2009.3,186.206 2011.22,186.271 2013.14,186.334 2015.06,186.398 2016.98,186.462 2018.89,186.525 2020.81,186.588 2022.73,186.651 2024.65,186.714 \n",
       "  2026.57,186.776 2028.49,186.839 2030.41,186.901 2032.33,186.963 2034.24,187.025 2036.16,187.086 2038.08,187.147 2040,187.209 2041.92,187.269 2043.84,187.33 \n",
       "  2045.76,187.39 2047.68,187.451 2049.59,187.511 2051.51,187.57 2053.43,187.63 2055.35,187.689 2057.27,187.748 2059.19,187.807 2061.11,187.865 2063.03,187.924 \n",
       "  2064.94,187.982 2066.86,188.039 2068.78,188.097 2070.7,188.154 2072.62,188.211 2074.54,188.268 2076.46,188.324 2078.38,188.38 2080.29,188.436 2082.21,188.492 \n",
       "  2084.13,188.547 2086.05,188.602 2087.97,188.657 2089.89,188.711 2091.81,188.765 2093.73,188.819 2095.64,188.872 2097.56,188.925 2099.48,188.978 2101.4,189.031 \n",
       "  2103.32,189.083 2105.24,189.135 2107.16,189.186 2109.08,189.237 2110.99,189.288 2112.91,189.339 2114.83,189.389 2116.75,189.439 2118.67,189.488 2120.59,189.537 \n",
       "  2122.51,189.586 2124.43,189.634 2126.34,189.682 2128.26,189.729 2130.18,189.777 2132.1,189.823 2134.02,189.87 2135.94,189.916 2137.86,189.961 2139.78,190.006 \n",
       "  2141.69,190.051 2143.61,190.095 2145.53,190.139 2147.45,190.183 2149.37,190.226 2151.29,190.268 2153.21,190.31 2155.13,190.352 2157.04,190.393 2158.96,190.434 \n",
       "  2160.88,190.474 2162.8,190.514 2164.72,190.553 2166.64,190.592 2168.56,190.63 2170.47,190.668 2172.39,190.705 2174.31,190.742 2176.23,190.778 2178.15,190.814 \n",
       "  2180.07,190.849 2181.99,190.884 2183.91,190.918 2185.82,190.951 2187.74,190.985 2189.66,191.017 2191.58,191.049 2193.5,191.08 2195.42,191.111 2197.34,191.141 \n",
       "  2199.26,191.17 2201.17,191.199 2203.09,191.228 2205.01,191.255 2206.93,191.282 2208.85,191.309 2210.77,191.335 2212.69,191.36 2214.61,191.384 2216.52,191.408 \n",
       "  2218.44,191.431 2220.36,191.454 2222.28,191.475 2224.2,191.496 2226.12,191.517 2228.04,191.536 2229.96,191.555 2231.87,191.574 2233.79,191.591 2235.71,191.608 \n",
       "  2237.63,191.624 2239.55,191.639 2241.47,191.653 2243.39,191.667 2245.31,191.68 2247.22,191.692 2249.14,191.703 2251.06,191.714 2252.98,191.723 2254.9,191.732 \n",
       "  \n",
       "  \"/>\n",
       "<circle clip-path=\"url(#clip772)\" cx=\"338.072\" cy=\"86.9884\" r=\"14.4\" fill=\"#ff0000\" fill-rule=\"evenodd\" fill-opacity=\"1\" stroke=\"#000000\" stroke-opacity=\"1\" stroke-width=\"3.2\"/>\n",
       "<polyline clip-path=\"url(#clip772)\" style=\"stroke:#0000ff; stroke-linecap:round; stroke-linejoin:round; stroke-width:4; stroke-opacity:1; fill:none\" stroke-dasharray=\"16, 10\" points=\"\n",
       "  2254.9,1423.18 2254.9,247.896 \n",
       "  \"/>\n",
       "<polyline clip-path=\"url(#clip772)\" style=\"stroke:#0000ff; stroke-linecap:round; stroke-linejoin:round; stroke-width:4; stroke-opacity:1; fill:none\" stroke-dasharray=\"16, 10\" points=\"\n",
       "  242.135,247.896 2254.9,247.896 \n",
       "  \"/>\n",
       "<polyline clip-path=\"url(#clip772)\" style=\"stroke:#ff0000; stroke-linecap:round; stroke-linejoin:round; stroke-width:4; stroke-opacity:1; fill:none\" stroke-dasharray=\"16, 10\" points=\"\n",
       "  338.072,1423.18 338.072,86.9884 \n",
       "  \"/>\n",
       "<polyline clip-path=\"url(#clip772)\" style=\"stroke:#ff0000; stroke-linecap:round; stroke-linejoin:round; stroke-width:4; stroke-opacity:1; fill:none\" stroke-dasharray=\"16, 10\" points=\"\n",
       "  242.135,86.9884 338.072,86.9884 \n",
       "  \"/>\n",
       "<path clip-path=\"url(#clip770)\" d=\"\n",
       "M312.489 1377.32 L781.049 1377.32 L781.049 1118.12 L312.489 1118.12  Z\n",
       "  \" fill=\"#ffffff\" fill-rule=\"evenodd\" fill-opacity=\"1\"/>\n",
       "<polyline clip-path=\"url(#clip770)\" style=\"stroke:#000000; stroke-linecap:round; stroke-linejoin:round; stroke-width:4; stroke-opacity:1; fill:none\" points=\"\n",
       "  312.489,1377.32 781.049,1377.32 781.049,1118.12 312.489,1118.12 312.489,1377.32 \n",
       "  \"/>\n",
       "<polyline clip-path=\"url(#clip770)\" style=\"stroke:#0000ff; stroke-linecap:round; stroke-linejoin:round; stroke-width:4; stroke-opacity:1; fill:none\" points=\"\n",
       "  335.94,1169.96 476.648,1169.96 \n",
       "  \"/>\n",
       "<path clip-path=\"url(#clip770)\" d=\"M500.099 1152.68 L506.396 1152.68 L521.72 1181.59 L521.72 1152.68 L526.257 1152.68 L526.257 1187.24 L519.96 1187.24 L504.636 1158.32 L504.636 1187.24 L500.099 1187.24 L500.099 1152.68 Z\" fill=\"#000000\" fill-rule=\"evenodd\" fill-opacity=\"1\" /><path clip-path=\"url(#clip770)\" d=\"M534.937 1177 L534.937 1161.31 L539.196 1161.31 L539.196 1176.84 Q539.196 1180.52 540.632 1182.37 Q542.067 1184.2 544.937 1184.2 Q548.386 1184.2 550.377 1182 Q552.391 1179.8 552.391 1176.01 L552.391 1161.31 L556.65 1161.31 L556.65 1187.24 L552.391 1187.24 L552.391 1183.25 Q550.84 1185.61 548.78 1186.77 Q546.743 1187.91 544.034 1187.91 Q539.567 1187.91 537.252 1185.13 Q534.937 1182.35 534.937 1177 M545.655 1160.68 L545.655 1160.68 Z\" fill=\"#000000\" fill-rule=\"evenodd\" fill-opacity=\"1\" /><path clip-path=\"url(#clip770)\" d=\"M565.423 1151.22 L569.682 1151.22 L569.682 1187.24 L565.423 1187.24 L565.423 1151.22 Z\" fill=\"#000000\" fill-rule=\"evenodd\" fill-opacity=\"1\" /><path clip-path=\"url(#clip770)\" d=\"M578.594 1151.22 L582.854 1151.22 L582.854 1187.24 L578.594 1187.24 L578.594 1151.22 Z\" fill=\"#000000\" fill-rule=\"evenodd\" fill-opacity=\"1\" /><circle clip-path=\"url(#clip770)\" cx=\"406.294\" cy=\"1221.8\" r=\"23.04\" fill=\"#0000ff\" fill-rule=\"evenodd\" fill-opacity=\"1\" stroke=\"#000000\" stroke-opacity=\"1\" stroke-width=\"5.12\"/>\n",
       "<path clip-path=\"url(#clip770)\" d=\"M520.447 1218.13 Q522.044 1215.26 524.266 1213.89 Q526.488 1212.52 529.497 1212.52 Q533.548 1212.52 535.747 1215.37 Q537.947 1218.2 537.947 1223.43 L537.947 1239.08 L533.664 1239.08 L533.664 1223.57 Q533.664 1219.84 532.345 1218.03 Q531.025 1216.23 528.317 1216.23 Q525.007 1216.23 523.085 1218.43 Q521.164 1220.63 521.164 1224.42 L521.164 1239.08 L516.882 1239.08 L516.882 1223.57 Q516.882 1219.82 515.562 1218.03 Q514.243 1216.23 511.488 1216.23 Q508.224 1216.23 506.303 1218.45 Q504.382 1220.65 504.382 1224.42 L504.382 1239.08 L500.099 1239.08 L500.099 1213.15 L504.382 1213.15 L504.382 1217.18 Q505.84 1214.79 507.877 1213.66 Q509.914 1212.52 512.715 1212.52 Q515.539 1212.52 517.507 1213.96 Q519.498 1215.39 520.447 1218.13 Z\" fill=\"#000000\" fill-rule=\"evenodd\" fill-opacity=\"1\" /><path clip-path=\"url(#clip770)\" d=\"M558.224 1226.04 Q553.062 1226.04 551.071 1227.22 Q549.081 1228.4 549.081 1231.25 Q549.081 1233.52 550.562 1234.86 Q552.067 1236.18 554.636 1236.18 Q558.178 1236.18 560.307 1233.68 Q562.46 1231.16 562.46 1226.99 L562.46 1226.04 L558.224 1226.04 M566.719 1224.28 L566.719 1239.08 L562.46 1239.08 L562.46 1235.14 Q561.002 1237.5 558.826 1238.64 Q556.65 1239.75 553.502 1239.75 Q549.521 1239.75 547.159 1237.52 Q544.821 1235.28 544.821 1231.53 Q544.821 1227.15 547.738 1224.93 Q550.678 1222.71 556.488 1222.71 L562.46 1222.71 L562.46 1222.29 Q562.46 1219.35 560.516 1217.76 Q558.595 1216.14 555.099 1216.14 Q552.877 1216.14 550.771 1216.67 Q548.664 1217.2 546.72 1218.27 L546.72 1214.33 Q549.058 1213.43 551.257 1212.99 Q553.456 1212.52 555.539 1212.52 Q561.164 1212.52 563.942 1215.44 Q566.719 1218.36 566.719 1224.28 Z\" fill=\"#000000\" fill-rule=\"evenodd\" fill-opacity=\"1\" /><path clip-path=\"url(#clip770)\" d=\"M597.043 1213.15 L587.668 1225.77 L597.53 1239.08 L592.506 1239.08 L584.96 1228.89 L577.414 1239.08 L572.391 1239.08 L582.46 1225.51 L573.247 1213.15 L578.27 1213.15 L585.145 1222.39 L592.02 1213.15 L597.043 1213.15 Z\" fill=\"#000000\" fill-rule=\"evenodd\" fill-opacity=\"1\" /><path clip-path=\"url(#clip770)\" d=\"M603.733 1204.52 L608.409 1204.52 L608.409 1235.14 L625.238 1235.14 L625.238 1239.08 L603.733 1239.08 L603.733 1204.52 Z\" fill=\"#000000\" fill-rule=\"evenodd\" fill-opacity=\"1\" /><path clip-path=\"url(#clip770)\" d=\"M630.145 1204.52 L634.821 1204.52 L634.821 1235.14 L651.65 1235.14 L651.65 1239.08 L630.145 1239.08 L630.145 1204.52 Z\" fill=\"#000000\" fill-rule=\"evenodd\" fill-opacity=\"1\" /><path clip-path=\"url(#clip770)\" d=\"M676.071 1246.95 L676.071 1250.26 L651.441 1250.26 L651.441 1246.95 L676.071 1246.95 Z\" fill=\"#000000\" fill-rule=\"evenodd\" fill-opacity=\"1\" /><path clip-path=\"url(#clip770)\" d=\"M701.626 1223.43 L701.626 1239.08 L697.367 1239.08 L697.367 1223.57 Q697.367 1219.89 695.932 1218.06 Q694.497 1216.23 691.626 1216.23 Q688.177 1216.23 686.186 1218.43 Q684.196 1220.63 684.196 1224.42 L684.196 1239.08 L679.913 1239.08 L679.913 1213.15 L684.196 1213.15 L684.196 1217.18 Q685.723 1214.84 687.784 1213.68 Q689.867 1212.52 692.575 1212.52 Q697.043 1212.52 699.335 1215.3 Q701.626 1218.06 701.626 1223.43 Z\" fill=\"#000000\" fill-rule=\"evenodd\" fill-opacity=\"1\" /><path clip-path=\"url(#clip770)\" d=\"M709.682 1228.84 L709.682 1213.15 L713.941 1213.15 L713.941 1228.68 Q713.941 1232.36 715.376 1234.21 Q716.811 1236.04 719.682 1236.04 Q723.131 1236.04 725.121 1233.84 Q727.135 1231.64 727.135 1227.85 L727.135 1213.15 L731.395 1213.15 L731.395 1239.08 L727.135 1239.08 L727.135 1235.09 Q725.584 1237.45 723.524 1238.61 Q721.487 1239.75 718.779 1239.75 Q714.311 1239.75 711.996 1236.97 Q709.682 1234.19 709.682 1228.84 M720.399 1212.52 L720.399 1212.52 Z\" fill=\"#000000\" fill-rule=\"evenodd\" fill-opacity=\"1\" /><path clip-path=\"url(#clip770)\" d=\"M740.168 1203.06 L744.427 1203.06 L744.427 1239.08 L740.168 1239.08 L740.168 1203.06 Z\" fill=\"#000000\" fill-rule=\"evenodd\" fill-opacity=\"1\" /><path clip-path=\"url(#clip770)\" d=\"M753.339 1203.06 L757.598 1203.06 L757.598 1239.08 L753.339 1239.08 L753.339 1203.06 Z\" fill=\"#000000\" fill-rule=\"evenodd\" fill-opacity=\"1\" /><polyline clip-path=\"url(#clip770)\" style=\"stroke:#ff0000; stroke-linecap:round; stroke-linejoin:round; stroke-width:4; stroke-opacity:1; fill:none\" points=\"\n",
       "  335.94,1273.64 476.648,1273.64 \n",
       "  \"/>\n",
       "<path clip-path=\"url(#clip770)\" d=\"M515.933 1260.96 L509.59 1278.16 L522.298 1278.16 L515.933 1260.96 M513.294 1256.36 L518.595 1256.36 L531.766 1290.92 L526.905 1290.92 L523.757 1282.05 L508.178 1282.05 L505.03 1290.92 L500.099 1290.92 L513.294 1256.36 Z\" fill=\"#000000\" fill-rule=\"evenodd\" fill-opacity=\"1\" /><path clip-path=\"url(#clip770)\" d=\"M536.627 1254.9 L540.886 1254.9 L540.886 1290.92 L536.627 1290.92 L536.627 1254.9 Z\" fill=\"#000000\" fill-rule=\"evenodd\" fill-opacity=\"1\" /><path clip-path=\"url(#clip770)\" d=\"M554.011 1257.63 L554.011 1264.99 L562.784 1264.99 L562.784 1268.3 L554.011 1268.3 L554.011 1282.37 Q554.011 1285.54 554.868 1286.45 Q555.747 1287.35 558.409 1287.35 L562.784 1287.35 L562.784 1290.92 L558.409 1290.92 Q553.479 1290.92 551.604 1289.09 Q549.729 1287.23 549.729 1282.37 L549.729 1268.3 L546.604 1268.3 L546.604 1264.99 L549.729 1264.99 L549.729 1257.63 L554.011 1257.63 Z\" fill=\"#000000\" fill-rule=\"evenodd\" fill-opacity=\"1\" /><path clip-path=\"url(#clip770)\" d=\"M588.085 1298.79 L588.085 1302.1 L563.456 1302.1 L563.456 1298.79 L588.085 1298.79 Z\" fill=\"#000000\" fill-rule=\"evenodd\" fill-opacity=\"1\" /><path clip-path=\"url(#clip770)\" d=\"M593.502 1286.98 L601.141 1286.98 L601.141 1260.61 L592.83 1262.28 L592.83 1258.02 L601.094 1256.36 L605.77 1256.36 L605.77 1286.98 L613.409 1286.98 L613.409 1290.92 L593.502 1290.92 L593.502 1286.98 Z\" fill=\"#000000\" fill-rule=\"evenodd\" fill-opacity=\"1\" /><path clip-path=\"url(#clip770)\" d=\"M637.02 1272.28 Q640.377 1273 642.251 1275.27 Q644.15 1277.54 644.15 1280.87 Q644.15 1285.98 640.631 1288.79 Q637.113 1291.59 630.631 1291.59 Q628.455 1291.59 626.14 1291.15 Q623.849 1290.73 621.395 1289.87 L621.395 1285.36 Q623.34 1286.49 625.654 1287.07 Q627.969 1287.65 630.492 1287.65 Q634.89 1287.65 637.182 1285.92 Q639.497 1284.18 639.497 1280.87 Q639.497 1277.81 637.344 1276.1 Q635.215 1274.36 631.395 1274.36 L627.367 1274.36 L627.367 1270.52 L631.58 1270.52 Q635.029 1270.52 636.858 1269.16 Q638.687 1267.77 638.687 1265.17 Q638.687 1262.51 636.789 1261.1 Q634.914 1259.67 631.395 1259.67 Q629.474 1259.67 627.275 1260.08 Q625.076 1260.5 622.437 1261.38 L622.437 1257.21 Q625.099 1256.47 627.414 1256.1 Q629.752 1255.73 631.812 1255.73 Q637.136 1255.73 640.238 1258.16 Q643.339 1260.57 643.339 1264.69 Q643.339 1267.56 641.696 1269.55 Q640.052 1271.52 637.02 1272.28 Z\" fill=\"#000000\" fill-rule=\"evenodd\" fill-opacity=\"1\" /><path clip-path=\"url(#clip770)\" d=\"M663.015 1259.43 Q659.404 1259.43 657.575 1263 Q655.77 1266.54 655.77 1273.67 Q655.77 1280.78 657.575 1284.34 Q659.404 1287.88 663.015 1287.88 Q666.65 1287.88 668.455 1284.34 Q670.284 1280.78 670.284 1273.67 Q670.284 1266.54 668.455 1263 Q666.65 1259.43 663.015 1259.43 M663.015 1255.73 Q668.825 1255.73 671.881 1260.34 Q674.96 1264.92 674.96 1273.67 Q674.96 1282.4 671.881 1287 Q668.825 1291.59 663.015 1291.59 Q657.205 1291.59 654.126 1287 Q651.071 1282.4 651.071 1273.67 Q651.071 1264.92 654.126 1260.34 Q657.205 1255.73 663.015 1255.73 Z\" fill=\"#000000\" fill-rule=\"evenodd\" fill-opacity=\"1\" /><circle clip-path=\"url(#clip770)\" cx=\"406.294\" cy=\"1325.48\" r=\"23.04\" fill=\"#ff0000\" fill-rule=\"evenodd\" fill-opacity=\"1\" stroke=\"#000000\" stroke-opacity=\"1\" stroke-width=\"5.12\"/>\n",
       "<path clip-path=\"url(#clip770)\" d=\"M520.447 1321.81 Q522.044 1318.94 524.266 1317.57 Q526.488 1316.2 529.497 1316.2 Q533.548 1316.2 535.747 1319.05 Q537.947 1321.88 537.947 1327.11 L537.947 1342.76 L533.664 1342.76 L533.664 1327.25 Q533.664 1323.52 532.345 1321.71 Q531.025 1319.91 528.317 1319.91 Q525.007 1319.91 523.085 1322.11 Q521.164 1324.31 521.164 1328.1 L521.164 1342.76 L516.882 1342.76 L516.882 1327.25 Q516.882 1323.5 515.562 1321.71 Q514.243 1319.91 511.488 1319.91 Q508.224 1319.91 506.303 1322.13 Q504.382 1324.33 504.382 1328.1 L504.382 1342.76 L500.099 1342.76 L500.099 1316.83 L504.382 1316.83 L504.382 1320.86 Q505.84 1318.47 507.877 1317.34 Q509.914 1316.2 512.715 1316.2 Q515.539 1316.2 517.507 1317.64 Q519.498 1319.07 520.447 1321.81 Z\" fill=\"#000000\" fill-rule=\"evenodd\" fill-opacity=\"1\" /><path clip-path=\"url(#clip770)\" d=\"M558.224 1329.72 Q553.062 1329.72 551.071 1330.9 Q549.081 1332.08 549.081 1334.93 Q549.081 1337.2 550.562 1338.54 Q552.067 1339.86 554.636 1339.86 Q558.178 1339.86 560.307 1337.36 Q562.46 1334.84 562.46 1330.67 L562.46 1329.72 L558.224 1329.72 M566.719 1327.96 L566.719 1342.76 L562.46 1342.76 L562.46 1338.82 Q561.002 1341.18 558.826 1342.32 Q556.65 1343.43 553.502 1343.43 Q549.521 1343.43 547.159 1341.2 Q544.821 1338.96 544.821 1335.21 Q544.821 1330.83 547.738 1328.61 Q550.678 1326.39 556.488 1326.39 L562.46 1326.39 L562.46 1325.97 Q562.46 1323.03 560.516 1321.44 Q558.595 1319.82 555.099 1319.82 Q552.877 1319.82 550.771 1320.35 Q548.664 1320.88 546.72 1321.95 L546.72 1318.01 Q549.058 1317.11 551.257 1316.67 Q553.456 1316.2 555.539 1316.2 Q561.164 1316.2 563.942 1319.12 Q566.719 1322.04 566.719 1327.96 Z\" fill=\"#000000\" fill-rule=\"evenodd\" fill-opacity=\"1\" /><path clip-path=\"url(#clip770)\" d=\"M597.043 1316.83 L587.668 1329.45 L597.53 1342.76 L592.506 1342.76 L584.96 1332.57 L577.414 1342.76 L572.391 1342.76 L582.46 1329.19 L573.247 1316.83 L578.27 1316.83 L585.145 1326.07 L592.02 1316.83 L597.043 1316.83 Z\" fill=\"#000000\" fill-rule=\"evenodd\" fill-opacity=\"1\" /><path clip-path=\"url(#clip770)\" d=\"M603.733 1308.2 L608.409 1308.2 L608.409 1338.82 L625.238 1338.82 L625.238 1342.76 L603.733 1342.76 L603.733 1308.2 Z\" fill=\"#000000\" fill-rule=\"evenodd\" fill-opacity=\"1\" /><path clip-path=\"url(#clip770)\" d=\"M630.145 1308.2 L634.821 1308.2 L634.821 1338.82 L651.65 1338.82 L651.65 1342.76 L630.145 1342.76 L630.145 1308.2 Z\" fill=\"#000000\" fill-rule=\"evenodd\" fill-opacity=\"1\" /><path clip-path=\"url(#clip770)\" d=\"M676.071 1350.63 L676.071 1353.94 L651.441 1353.94 L651.441 1350.63 L676.071 1350.63 Z\" fill=\"#000000\" fill-rule=\"evenodd\" fill-opacity=\"1\" /><path clip-path=\"url(#clip770)\" d=\"M691.858 1329.72 Q686.696 1329.72 684.705 1330.9 Q682.714 1332.08 682.714 1334.93 Q682.714 1337.2 684.196 1338.54 Q685.7 1339.86 688.27 1339.86 Q691.811 1339.86 693.941 1337.36 Q696.094 1334.84 696.094 1330.67 L696.094 1329.72 L691.858 1329.72 M700.353 1327.96 L700.353 1342.76 L696.094 1342.76 L696.094 1338.82 Q694.635 1341.18 692.46 1342.32 Q690.284 1343.43 687.136 1343.43 Q683.154 1343.43 680.793 1341.2 Q678.455 1338.96 678.455 1335.21 Q678.455 1330.83 681.372 1328.61 Q684.311 1326.39 690.122 1326.39 L696.094 1326.39 L696.094 1325.97 Q696.094 1323.03 694.149 1321.44 Q692.228 1319.82 688.733 1319.82 Q686.511 1319.82 684.404 1320.35 Q682.298 1320.88 680.353 1321.95 L680.353 1318.01 Q682.691 1317.11 684.89 1316.67 Q687.089 1316.2 689.173 1316.2 Q694.798 1316.2 697.575 1319.12 Q700.353 1322.04 700.353 1327.96 Z\" fill=\"#000000\" fill-rule=\"evenodd\" fill-opacity=\"1\" /><path clip-path=\"url(#clip770)\" d=\"M709.126 1306.74 L713.385 1306.74 L713.385 1342.76 L709.126 1342.76 L709.126 1306.74 Z\" fill=\"#000000\" fill-rule=\"evenodd\" fill-opacity=\"1\" /><path clip-path=\"url(#clip770)\" d=\"M726.51 1309.47 L726.51 1316.83 L735.283 1316.83 L735.283 1320.14 L726.51 1320.14 L726.51 1334.21 Q726.51 1337.38 727.367 1338.29 Q728.246 1339.19 730.908 1339.19 L735.283 1339.19 L735.283 1342.76 L730.908 1342.76 Q725.978 1342.76 724.103 1340.93 Q722.228 1339.07 722.228 1334.21 L722.228 1320.14 L719.103 1320.14 L719.103 1316.83 L722.228 1316.83 L722.228 1309.47 L726.51 1309.47 Z\" fill=\"#000000\" fill-rule=\"evenodd\" fill-opacity=\"1\" /><path clip-path=\"url(#clip770)\" d=\"M2202.21 1408.98 Q2198.6 1408.98 2196.78 1412.54 Q2194.97 1416.08 2194.97 1423.21 Q2194.97 1430.32 2196.78 1433.89 Q2198.6 1437.43 2202.21 1437.43 Q2205.85 1437.43 2207.65 1433.89 Q2209.48 1430.32 2209.48 1423.21 Q2209.48 1416.08 2207.65 1412.54 Q2205.85 1408.98 2202.21 1408.98 M2202.21 1405.27 Q2208.03 1405.27 2211.08 1409.88 Q2214.16 1414.46 2214.16 1423.21 Q2214.16 1431.94 2211.08 1436.55 Q2208.03 1441.13 2202.21 1441.13 Q2196.4 1441.13 2193.33 1436.55 Q2190.27 1431.94 2190.27 1423.21 Q2190.27 1414.46 2193.33 1409.88 Q2196.4 1405.27 2202.21 1405.27 Z\" fill=\"#0000ff\" fill-rule=\"evenodd\" fill-opacity=\"1\" /><path clip-path=\"url(#clip770)\" d=\"M2222.38 1434.58 L2227.26 1434.58 L2227.26 1440.46 L2222.38 1440.46 L2222.38 1434.58 Z\" fill=\"#0000ff\" fill-rule=\"evenodd\" fill-opacity=\"1\" /><path clip-path=\"url(#clip770)\" d=\"M2237.59 1439.74 L2237.59 1435.48 Q2239.34 1436.32 2241.15 1436.76 Q2242.96 1437.2 2244.69 1437.2 Q2249.32 1437.2 2251.75 1434.09 Q2254.21 1430.97 2254.55 1424.63 Q2253.21 1426.62 2251.15 1427.68 Q2249.09 1428.75 2246.59 1428.75 Q2241.4 1428.75 2238.37 1425.62 Q2235.36 1422.47 2235.36 1417.03 Q2235.36 1411.71 2238.51 1408.49 Q2241.66 1405.27 2246.89 1405.27 Q2252.89 1405.27 2256.03 1409.88 Q2259.21 1414.46 2259.21 1423.21 Q2259.21 1431.39 2255.32 1436.27 Q2251.45 1441.13 2244.9 1441.13 Q2243.14 1441.13 2241.34 1440.78 Q2239.53 1440.44 2237.59 1439.74 M2246.89 1425.09 Q2250.04 1425.09 2251.87 1422.94 Q2253.72 1420.78 2253.72 1417.03 Q2253.72 1413.31 2251.87 1411.15 Q2250.04 1408.98 2246.89 1408.98 Q2243.74 1408.98 2241.89 1411.15 Q2240.06 1413.31 2240.06 1417.03 Q2240.06 1420.78 2241.89 1422.94 Q2243.74 1425.09 2246.89 1425.09 Z\" fill=\"#0000ff\" fill-rule=\"evenodd\" fill-opacity=\"1\" /><path clip-path=\"url(#clip770)\" d=\"M2267.75 1439.74 L2267.75 1435.48 Q2269.51 1436.32 2271.31 1436.76 Q2273.12 1437.2 2274.85 1437.2 Q2279.48 1437.2 2281.91 1434.09 Q2284.37 1430.97 2284.71 1424.63 Q2283.37 1426.62 2281.31 1427.68 Q2279.25 1428.75 2276.75 1428.75 Q2271.57 1428.75 2268.53 1425.62 Q2265.52 1422.47 2265.52 1417.03 Q2265.52 1411.71 2268.67 1408.49 Q2271.82 1405.27 2277.05 1405.27 Q2283.05 1405.27 2286.2 1409.88 Q2289.37 1414.46 2289.37 1423.21 Q2289.37 1431.39 2285.48 1436.27 Q2281.61 1441.13 2275.06 1441.13 Q2273.3 1441.13 2271.5 1440.78 Q2269.69 1440.44 2267.75 1439.74 M2277.05 1425.09 Q2280.2 1425.09 2282.03 1422.94 Q2283.88 1420.78 2283.88 1417.03 Q2283.88 1413.31 2282.03 1411.15 Q2280.2 1408.98 2277.05 1408.98 Q2273.9 1408.98 2272.05 1411.15 Q2270.22 1413.31 2270.22 1417.03 Q2270.22 1420.78 2272.05 1422.94 Q2273.9 1425.09 2277.05 1425.09 Z\" fill=\"#0000ff\" fill-rule=\"evenodd\" fill-opacity=\"1\" /><path clip-path=\"url(#clip770)\" d=\"M2297.91 1439.74 L2297.91 1435.48 Q2299.67 1436.32 2301.47 1436.76 Q2303.28 1437.2 2305.02 1437.2 Q2309.64 1437.2 2312.08 1434.09 Q2314.53 1430.97 2314.88 1424.63 Q2313.53 1426.62 2311.47 1427.68 Q2309.41 1428.75 2306.91 1428.75 Q2301.73 1428.75 2298.7 1425.62 Q2295.69 1422.47 2295.69 1417.03 Q2295.69 1411.71 2298.83 1408.49 Q2301.98 1405.27 2307.21 1405.27 Q2313.21 1405.27 2316.36 1409.88 Q2319.53 1414.46 2319.53 1423.21 Q2319.53 1431.39 2315.64 1436.27 Q2311.77 1441.13 2305.22 1441.13 Q2303.46 1441.13 2301.66 1440.78 Q2299.85 1440.44 2297.91 1439.74 M2307.21 1425.09 Q2310.36 1425.09 2312.19 1422.94 Q2314.04 1420.78 2314.04 1417.03 Q2314.04 1413.31 2312.19 1411.15 Q2310.36 1408.98 2307.21 1408.98 Q2304.07 1408.98 2302.21 1411.15 Q2300.39 1413.31 2300.39 1417.03 Q2300.39 1420.78 2302.21 1422.94 Q2304.07 1425.09 2307.21 1425.09 Z\" fill=\"#0000ff\" fill-rule=\"evenodd\" fill-opacity=\"1\" /><path clip-path=\"url(#clip770)\" d=\"M315.456 1408.98 Q311.845 1408.98 310.017 1412.54 Q308.211 1416.08 308.211 1423.21 Q308.211 1430.32 310.017 1433.89 Q311.845 1437.43 315.456 1437.43 Q319.091 1437.43 320.896 1433.89 Q322.725 1430.32 322.725 1423.21 Q322.725 1416.08 320.896 1412.54 Q319.091 1408.98 315.456 1408.98 M315.456 1405.27 Q321.267 1405.27 324.322 1409.88 Q327.401 1414.46 327.401 1423.21 Q327.401 1431.94 324.322 1436.55 Q321.267 1441.13 315.456 1441.13 Q309.646 1441.13 306.568 1436.55 Q303.512 1431.94 303.512 1423.21 Q303.512 1414.46 306.568 1409.88 Q309.646 1405.27 315.456 1405.27 Z\" fill=\"#ff0000\" fill-rule=\"evenodd\" fill-opacity=\"1\" /><path clip-path=\"url(#clip770)\" d=\"M335.618 1434.58 L340.503 1434.58 L340.503 1440.46 L335.618 1440.46 L335.618 1434.58 Z\" fill=\"#ff0000\" fill-rule=\"evenodd\" fill-opacity=\"1\" /><path clip-path=\"url(#clip770)\" d=\"M360.688 1408.98 Q357.077 1408.98 355.248 1412.54 Q353.442 1416.08 353.442 1423.21 Q353.442 1430.32 355.248 1433.89 Q357.077 1437.43 360.688 1437.43 Q364.322 1437.43 366.127 1433.89 Q367.956 1430.32 367.956 1423.21 Q367.956 1416.08 366.127 1412.54 Q364.322 1408.98 360.688 1408.98 M360.688 1405.27 Q366.498 1405.27 369.553 1409.88 Q372.632 1414.46 372.632 1423.21 Q372.632 1431.94 369.553 1436.55 Q366.498 1441.13 360.688 1441.13 Q354.877 1441.13 351.799 1436.55 Q348.743 1431.94 348.743 1423.21 Q348.743 1414.46 351.799 1409.88 Q354.877 1405.27 360.688 1405.27 Z\" fill=\"#ff0000\" fill-rule=\"evenodd\" fill-opacity=\"1\" /></svg>\n"
      ]
     },
     "metadata": {},
     "output_type": "display_data"
    }
   ],
   "source": [
    "scan(lpst_strains_y, geno_strains, kinship_strains;\n",
    "     assumption = \"alt\", optim_interval = 1,\n",
    "     plot_loglik = true, markerID = 130, h2_grid = grid_plot, y_lims = [-50.0, -20.0]);"
   ]
  },
  {
   "cell_type": "code",
   "execution_count": 135,
   "id": "d54afb90-2a28-44d5-8876-d9dc8d248472",
   "metadata": {},
   "outputs": [
    {
     "data": {
      "text/plain": [
       "6.103985049420214e-16"
      ]
     },
     "execution_count": 135,
     "metadata": {},
     "output_type": "execute_result"
    }
   ],
   "source": [
    "test_null_one_trait.h2_each_marker[130]"
   ]
  },
  {
   "cell_type": "code",
   "execution_count": 137,
   "id": "4d9bd082-aa60-4dcc-8aba-60213e84a642",
   "metadata": {},
   "outputs": [
    {
     "data": {
      "text/plain": [
       "56.23045"
      ]
     },
     "execution_count": 137,
     "metadata": {},
     "output_type": "execute_result"
    }
   ],
   "source": [
    "test[130, 8]"
   ]
  },
  {
   "cell_type": "code",
   "execution_count": 62,
   "id": "b7927af7-a0d7-4d27-89a9-efe0bf78ca7d",
   "metadata": {},
   "outputs": [
    {
     "name": "stdout",
     "output_type": "stream",
     "text": [
      " 38.588290 seconds (27.60 M allocations: 34.050 GiB, 9.53% gc time)\n"
     ]
    }
   ],
   "source": [
    "@time test_alt_one_trait_ind = scan(lpst_ind_y, geno_ind, kinship_ind_from_strains;\n",
    "                                assumption = \"alt\", optim_interval = 4);"
   ]
  },
  {
   "cell_type": "code",
   "execution_count": 66,
   "id": "4a2f39d5-1ff0-44aa-9e38-deb20aa2bd18",
   "metadata": {},
   "outputs": [
    {
     "data": {
      "text/plain": [
       "7321×2 Matrix{Float64}:\n",
       " 0.44861    5.87226e-16\n",
       " 0.44861    5.87226e-16\n",
       " 0.44861    5.87226e-16\n",
       " 0.44861    5.87226e-16\n",
       " 0.44861    5.87226e-16\n",
       " 0.44861    5.87226e-16\n",
       " 0.44861    5.87226e-16\n",
       " 0.44861    5.87226e-16\n",
       " 0.44861    5.87226e-16\n",
       " 0.44861    5.87226e-16\n",
       " 0.44861    5.87226e-16\n",
       " 0.44861    5.87226e-16\n",
       " 0.0272577  9.50151e-16\n",
       " ⋮          \n",
       " 0.325853   3.62926e-16\n",
       " 0.325853   3.62926e-16\n",
       " 0.325853   3.62926e-16\n",
       " 0.049511   3.65181e-16\n",
       " 0.338767   3.60834e-16\n",
       " 0.338767   3.60834e-16\n",
       " 0.163592   3.62926e-16\n",
       " 0.0956353  5.90876e-16\n",
       " 0.163592   3.62926e-16\n",
       " 0.0956353  5.90876e-16\n",
       " 0.161577   5.87226e-16\n",
       " 0.161577   5.87226e-16"
      ]
     },
     "execution_count": 66,
     "metadata": {},
     "output_type": "execute_result"
    }
   ],
   "source": [
    "hcat(test_alt_one_trait_ind.lod, test_alt_one_trait_ind.h2_each_marker)"
   ]
  },
  {
   "cell_type": "code",
   "execution_count": 71,
   "id": "111532bc-eeaf-429d-ac12-7900a2dbbd1d",
   "metadata": {},
   "outputs": [
    {
     "name": "stdout",
     "output_type": "stream",
     "text": [
      "141.641255 seconds (43.47 M allocations: 215.921 GiB, 19.86% gc time)\n"
     ]
    }
   ],
   "source": [
    "@time test_alt_ind = bulkscan_alt_grid(lpst_ind_Y, geno_ind, kinship_ind_from_strains, grid_fine);"
   ]
  },
  {
   "cell_type": "code",
   "execution_count": 79,
   "id": "77254316-7412-49bf-8570-d15bb6b5a0b1",
   "metadata": {},
   "outputs": [
    {
     "data": {
      "text/plain": [
       "false"
      ]
     },
     "execution_count": 79,
     "metadata": {},
     "output_type": "execute_result"
    }
   ],
   "source": [
    "any(h2_list .> 0.0)"
   ]
  },
  {
   "cell_type": "code",
   "execution_count": 76,
   "id": "1019ca91-4df8-484b-9a78-34f3e7ef63fc",
   "metadata": {},
   "outputs": [],
   "source": [
    "L = test_alt_ind[1];\n",
    "h2_list = test_alt_ind[2];"
   ]
  },
  {
   "cell_type": "code",
   "execution_count": 78,
   "id": "6b3e3042-b6c5-4391-8183-c2ed6cf3477b",
   "metadata": {},
   "outputs": [
    {
     "data": {
      "text/plain": [
       "7321×2 Matrix{Float64}:\n",
       " 0.44861    0.0\n",
       " 0.44861    0.0\n",
       " 0.44861    0.0\n",
       " 0.44861    0.0\n",
       " 0.44861    0.0\n",
       " 0.44861    0.0\n",
       " 0.44861    0.0\n",
       " 0.44861    0.0\n",
       " 0.44861    0.0\n",
       " 0.44861    0.0\n",
       " 0.44861    0.0\n",
       " 0.44861    0.0\n",
       " 0.0754863  0.0\n",
       " ⋮          \n",
       " 0.325853   0.0\n",
       " 0.325853   0.0\n",
       " 0.325853   0.0\n",
       " 0.049511   0.0\n",
       " 0.338767   0.0\n",
       " 0.338767   0.0\n",
       " 0.163592   0.0\n",
       " 0.0956353  0.0\n",
       " 0.163592   0.0\n",
       " 0.0956353  0.0\n",
       " 0.161577   0.0\n",
       " 0.161577   0.0"
      ]
     },
     "execution_count": 78,
     "metadata": {},
     "output_type": "execute_result"
    }
   ],
   "source": [
    "hcat(L[:, lp_id], h2_list[:, lp_id])"
   ]
  },
  {
   "cell_type": "code",
   "execution_count": 83,
   "id": "ee09e365-8d44-4d1c-866a-f5b13acb6eff",
   "metadata": {},
   "outputs": [
    {
     "name": "stdout",
     "output_type": "stream",
     "text": [
      " 39.882711 seconds (46.80 M allocations: 41.700 GiB, 60.73% gc time)\n"
     ]
    }
   ],
   "source": [
    "@time test_null_ind = bulkscan_null_grid(lpst_ind_Y, geno_ind, kinship_ind_from_strains, grid_fine;\n",
    "                                   prior_variance = 1.0, prior_sample_size = 0.0);"
   ]
  },
  {
   "cell_type": "code",
   "execution_count": 84,
   "id": "7ec36978-461f-4811-80b2-f99f500ec359",
   "metadata": {},
   "outputs": [
    {
     "data": {
      "text/plain": [
       "15203-element Vector{Int64}:\n",
       "     1\n",
       "     3\n",
       "     4\n",
       "     5\n",
       "     6\n",
       "     7\n",
       "     8\n",
       "     9\n",
       "    10\n",
       "    13\n",
       "    14\n",
       "    16\n",
       "    17\n",
       "     ⋮\n",
       " 32410\n",
       " 32411\n",
       " 32412\n",
       " 32420\n",
       " 32421\n",
       " 32425\n",
       " 32426\n",
       " 32428\n",
       " 32429\n",
       " 32437\n",
       " 32441\n",
       " 32443"
      ]
     },
     "execution_count": 84,
     "metadata": {},
     "output_type": "execute_result"
    }
   ],
   "source": [
    "findall(test_null_ind.h2_null_list .> 0.0)"
   ]
  },
  {
   "cell_type": "code",
   "execution_count": 86,
   "id": "cf4505f7-b1ca-4cd8-83de-704816fe2fae",
   "metadata": {},
   "outputs": [
    {
     "data": {
      "text/plain": [
       "(95.08909700114346, CartesianIndex(7001, 14098))"
      ]
     },
     "execution_count": 86,
     "metadata": {},
     "output_type": "execute_result"
    }
   ],
   "source": [
    "findmax(abs.(test_null_ind.L .- L))"
   ]
  },
  {
   "cell_type": "code",
   "execution_count": null,
   "id": "9ade80cb-08cf-4287-b803-5f8ae6fc356c",
   "metadata": {},
   "outputs": [],
   "source": [
    "test_null_ind.L[7001, 14098]"
   ]
  }
 ],
 "metadata": {
  "kernelspec": {
   "display_name": "Julia 16 Threads 1.7.3",
   "language": "julia",
   "name": "julia-16-threads-1.7"
  },
  "language_info": {
   "file_extension": ".jl",
   "mimetype": "application/julia",
   "name": "julia",
   "version": "1.7.3"
  }
 },
 "nbformat": 4,
 "nbformat_minor": 5
}
