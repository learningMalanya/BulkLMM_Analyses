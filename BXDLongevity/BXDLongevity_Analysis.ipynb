{
 "cells": [
  {
   "cell_type": "markdown",
   "id": "76f80b67-85df-4d55-bb10-f6913d392780",
   "metadata": {},
   "source": [
    "## Data Analysis using BulkLMM - BXD Longevity Study"
   ]
  },
  {
   "cell_type": "code",
   "execution_count": 2,
   "id": "028f2786-ee1b-4ec3-ab13-05110ad9caf6",
   "metadata": {},
   "outputs": [],
   "source": [
    "using CSV, DelimitedFiles, DataFrames, Missings, XLSX\n",
    "using LinearAlgebra, Statistics, Optim\n",
    "using Random, Distributions, LoopVectorization\n",
    "using GeneNetworkAPI, Downloads\n",
    "using BenchmarkTools"
   ]
  },
  {
   "cell_type": "code",
   "execution_count": 3,
   "id": "4a6c9448-eeee-4fe2-8b74-a183abe6cf6f",
   "metadata": {},
   "outputs": [],
   "source": [
    "using Plots"
   ]
  },
  {
   "cell_type": "code",
   "execution_count": 4,
   "id": "bc3d1279-dc9b-4a8e-8616-12e041d6179f",
   "metadata": {},
   "outputs": [],
   "source": [
    "local_path = \"../../BulkLMM.jl/src\";"
   ]
  },
  {
   "cell_type": "code",
   "execution_count": 5,
   "id": "d10bc79d-6961-489d-a971-fb0562b6e25b",
   "metadata": {},
   "outputs": [
    {
     "data": {
      "text/plain": [
       "huberize (generic function with 1 method)"
      ]
     },
     "execution_count": 5,
     "metadata": {},
     "output_type": "execute_result"
    }
   ],
   "source": [
    "import LossFunctions: HuberLoss, value\n",
    "import Distributions: Chisq,ccdf\n",
    "import StatsBase: mad, sample\n",
    "\n",
    "function huberize(y::Vector{Float64})\n",
    "    m = median(y)\n",
    "    s = mad(y,normalize=true)\n",
    "    z = (y.-m)./s\n",
    "    l = value.(HuberLoss(1),z)\n",
    "    x = sign.(z).* sqrt.(2*l)\n",
    "    return m .+ s.*x\n",
    "end"
   ]
  },
  {
   "cell_type": "markdown",
   "id": "548266cf-7288-4c51-a8d0-61a23e207f4e",
   "metadata": {},
   "source": [
    "## Load processed_data:"
   ]
  },
  {
   "cell_type": "markdown",
   "id": "76b2ccbd-e0db-4bcd-a11d-7703fbbbd811",
   "metadata": {},
   "source": [
    "### By individuals:"
   ]
  },
  {
   "cell_type": "code",
   "execution_count": 6,
   "id": "abafa447-fb73-405f-a457-8ab1ac3cefcc",
   "metadata": {},
   "outputs": [],
   "source": [
    "BXD_pheno_ind_summary_df = CSV.read(\"data/GN886_pheno_summary.csv\", DataFrame);"
   ]
  },
  {
   "cell_type": "markdown",
   "id": "a3e12b95-f2e2-4cfc-812d-34f74ac83f1e",
   "metadata": {},
   "source": [
    "By individuals, there are 248 individual samples for 32445 livear proteome."
   ]
  },
  {
   "cell_type": "code",
   "execution_count": 7,
   "id": "cf42c49c-60d5-458e-9206-35123de57d51",
   "metadata": {},
   "outputs": [
    {
     "name": "stdout",
     "output_type": "stream",
     "text": [
      "(248, 32448)\n"
     ]
    },
    {
     "data": {
      "text/html": [
       "<div><div style = \"float: left;\"><span>10×10 DataFrame</span></div><div style = \"clear: both;\"></div></div><div class = \"data-frame\" style = \"overflow-x: scroll;\"><table class = \"data-frame\" style = \"margin-bottom: 6px;\"><thead><tr class = \"header\"><th class = \"rowNumber\" style = \"font-weight: bold; text-align: right;\">Row</th><th style = \"text-align: left;\">Sample</th><th style = \"text-align: left;\">Strain</th><th style = \"text-align: left;\">Strain_num</th><th style = \"text-align: left;\">P42209_DESGLNRK_2</th><th style = \"text-align: left;\">P42209_GLRPLDVAFLR_3</th><th style = \"text-align: left;\">Q99M02_VGDPVYR_2</th><th style = \"text-align: left;\">Q99M02_VWIYPIK_2</th><th style = \"text-align: left;\">Q99M02_LCDPSVK_2</th><th style = \"text-align: left;\">Q99M02_CVLTTVDPDTGIIDR_2</th><th style = \"text-align: left;\">Q99M02_LVQFDTSMK_2</th></tr><tr class = \"subheader headerLastRow\"><th class = \"rowNumber\" style = \"font-weight: bold; text-align: right;\"></th><th title = \"String7\" style = \"text-align: left;\">String7</th><th title = \"String7\" style = \"text-align: left;\">String7</th><th title = \"Int64\" style = \"text-align: left;\">Int64</th><th title = \"Float64\" style = \"text-align: left;\">Float64</th><th title = \"Float64\" style = \"text-align: left;\">Float64</th><th title = \"Float64\" style = \"text-align: left;\">Float64</th><th title = \"Float64\" style = \"text-align: left;\">Float64</th><th title = \"Float64\" style = \"text-align: left;\">Float64</th><th title = \"Float64\" style = \"text-align: left;\">Float64</th><th title = \"Float64\" style = \"text-align: left;\">Float64</th></tr></thead><tbody><tr><td class = \"rowNumber\" style = \"font-weight: bold; text-align: right;\">1</td><td style = \"text-align: left;\">H1009</td><td style = \"text-align: left;\">BXD9</td><td style = \"text-align: right;\">9</td><td style = \"text-align: right;\">11.349</td><td style = \"text-align: right;\">11.534</td><td style = \"text-align: right;\">17.587</td><td style = \"text-align: right;\">17.517</td><td style = \"text-align: right;\">17.309</td><td style = \"text-align: right;\">16.574</td><td style = \"text-align: right;\">16.323</td></tr><tr><td class = \"rowNumber\" style = \"font-weight: bold; text-align: right;\">2</td><td style = \"text-align: left;\">H0370</td><td style = \"text-align: left;\">BXD9</td><td style = \"text-align: right;\">9</td><td style = \"text-align: right;\">11.249</td><td style = \"text-align: right;\">12.735</td><td style = \"text-align: right;\">17.427</td><td style = \"text-align: right;\">17.325</td><td style = \"text-align: right;\">17.252</td><td style = \"text-align: right;\">16.685</td><td style = \"text-align: right;\">16.021</td></tr><tr><td class = \"rowNumber\" style = \"font-weight: bold; text-align: right;\">3</td><td style = \"text-align: left;\">H2577</td><td style = \"text-align: left;\">BXD9</td><td style = \"text-align: right;\">9</td><td style = \"text-align: right;\">12.415</td><td style = \"text-align: right;\">10.487</td><td style = \"text-align: right;\">17.89</td><td style = \"text-align: right;\">17.488</td><td style = \"text-align: right;\">17.594</td><td style = \"text-align: right;\">16.731</td><td style = \"text-align: right;\">16.208</td></tr><tr><td class = \"rowNumber\" style = \"font-weight: bold; text-align: right;\">4</td><td style = \"text-align: left;\">H0365</td><td style = \"text-align: left;\">BXD9</td><td style = \"text-align: right;\">9</td><td style = \"text-align: right;\">11.374</td><td style = \"text-align: right;\">10.674</td><td style = \"text-align: right;\">17.714</td><td style = \"text-align: right;\">17.401</td><td style = \"text-align: right;\">17.381</td><td style = \"text-align: right;\">16.621</td><td style = \"text-align: right;\">16.337</td></tr><tr><td class = \"rowNumber\" style = \"font-weight: bold; text-align: right;\">5</td><td style = \"text-align: left;\">H1333</td><td style = \"text-align: left;\">BXD13</td><td style = \"text-align: right;\">13</td><td style = \"text-align: right;\">11.687</td><td style = \"text-align: right;\">11.524</td><td style = \"text-align: right;\">17.362</td><td style = \"text-align: right;\">17.367</td><td style = \"text-align: right;\">17.071</td><td style = \"text-align: right;\">16.465</td><td style = \"text-align: right;\">15.97</td></tr><tr><td class = \"rowNumber\" style = \"font-weight: bold; text-align: right;\">6</td><td style = \"text-align: left;\">H2259</td><td style = \"text-align: left;\">BXD24</td><td style = \"text-align: right;\">24</td><td style = \"text-align: right;\">11.837</td><td style = \"text-align: right;\">11.715</td><td style = \"text-align: right;\">17.57</td><td style = \"text-align: right;\">17.792</td><td style = \"text-align: right;\">17.505</td><td style = \"text-align: right;\">16.894</td><td style = \"text-align: right;\">16.277</td></tr><tr><td class = \"rowNumber\" style = \"font-weight: bold; text-align: right;\">7</td><td style = \"text-align: left;\">H1792</td><td style = \"text-align: left;\">BXD24</td><td style = \"text-align: right;\">24</td><td style = \"text-align: right;\">11.563</td><td style = \"text-align: right;\">11.434</td><td style = \"text-align: right;\">17.789</td><td style = \"text-align: right;\">17.847</td><td style = \"text-align: right;\">17.416</td><td style = \"text-align: right;\">17.042</td><td style = \"text-align: right;\">16.292</td></tr><tr><td class = \"rowNumber\" style = \"font-weight: bold; text-align: right;\">8</td><td style = \"text-align: left;\">H1791</td><td style = \"text-align: left;\">BXD24</td><td style = \"text-align: right;\">24</td><td style = \"text-align: right;\">12.5</td><td style = \"text-align: right;\">12.273</td><td style = \"text-align: right;\">17.944</td><td style = \"text-align: right;\">17.833</td><td style = \"text-align: right;\">17.63</td><td style = \"text-align: right;\">16.862</td><td style = \"text-align: right;\">16.3</td></tr><tr><td class = \"rowNumber\" style = \"font-weight: bold; text-align: right;\">9</td><td style = \"text-align: left;\">H1541</td><td style = \"text-align: left;\">BXD24</td><td style = \"text-align: right;\">24</td><td style = \"text-align: right;\">11.815</td><td style = \"text-align: right;\">11.564</td><td style = \"text-align: right;\">17.794</td><td style = \"text-align: right;\">17.759</td><td style = \"text-align: right;\">17.456</td><td style = \"text-align: right;\">16.878</td><td style = \"text-align: right;\">16.377</td></tr><tr><td class = \"rowNumber\" style = \"font-weight: bold; text-align: right;\">10</td><td style = \"text-align: left;\">H1277</td><td style = \"text-align: left;\">BXD24</td><td style = \"text-align: right;\">24</td><td style = \"text-align: right;\">12.674</td><td style = \"text-align: right;\">11.743</td><td style = \"text-align: right;\">17.866</td><td style = \"text-align: right;\">17.845</td><td style = \"text-align: right;\">17.577</td><td style = \"text-align: right;\">16.922</td><td style = \"text-align: right;\">16.26</td></tr></tbody></table></div>"
      ],
      "text/latex": [
       "\\begin{tabular}{r|ccccccc}\n",
       "\t& Sample & Strain & Strain\\_num & P42209\\_DESGLNRK\\_2 & P42209\\_GLRPLDVAFLR\\_3 & Q99M02\\_VGDPVYR\\_2 & \\\\\n",
       "\t\\hline\n",
       "\t& String7 & String7 & Int64 & Float64 & Float64 & Float64 & \\\\\n",
       "\t\\hline\n",
       "\t1 & H1009 & BXD9 & 9 & 11.349 & 11.534 & 17.587 & $\\dots$ \\\\\n",
       "\t2 & H0370 & BXD9 & 9 & 11.249 & 12.735 & 17.427 & $\\dots$ \\\\\n",
       "\t3 & H2577 & BXD9 & 9 & 12.415 & 10.487 & 17.89 & $\\dots$ \\\\\n",
       "\t4 & H0365 & BXD9 & 9 & 11.374 & 10.674 & 17.714 & $\\dots$ \\\\\n",
       "\t5 & H1333 & BXD13 & 13 & 11.687 & 11.524 & 17.362 & $\\dots$ \\\\\n",
       "\t6 & H2259 & BXD24 & 24 & 11.837 & 11.715 & 17.57 & $\\dots$ \\\\\n",
       "\t7 & H1792 & BXD24 & 24 & 11.563 & 11.434 & 17.789 & $\\dots$ \\\\\n",
       "\t8 & H1791 & BXD24 & 24 & 12.5 & 12.273 & 17.944 & $\\dots$ \\\\\n",
       "\t9 & H1541 & BXD24 & 24 & 11.815 & 11.564 & 17.794 & $\\dots$ \\\\\n",
       "\t10 & H1277 & BXD24 & 24 & 12.674 & 11.743 & 17.866 & $\\dots$ \\\\\n",
       "\\end{tabular}\n"
      ],
      "text/plain": [
       "\u001b[1m10×10 DataFrame\u001b[0m\n",
       "\u001b[1m Row \u001b[0m│\u001b[1m Sample  \u001b[0m\u001b[1m Strain  \u001b[0m\u001b[1m Strain_num \u001b[0m\u001b[1m P42209_DESGLNRK_2 \u001b[0m\u001b[1m P42209_GLRPLDVAFLR_3 \u001b[0m\u001b[1m \u001b[0m ⋯\n",
       "     │\u001b[90m String7 \u001b[0m\u001b[90m String7 \u001b[0m\u001b[90m Int64      \u001b[0m\u001b[90m Float64           \u001b[0m\u001b[90m Float64              \u001b[0m\u001b[90m \u001b[0m ⋯\n",
       "─────┼──────────────────────────────────────────────────────────────────────────\n",
       "   1 │ H1009    BXD9              9             11.349                11.534   ⋯\n",
       "   2 │ H0370    BXD9              9             11.249                12.735\n",
       "   3 │ H2577    BXD9              9             12.415                10.487\n",
       "   4 │ H0365    BXD9              9             11.374                10.674\n",
       "   5 │ H1333    BXD13            13             11.687                11.524   ⋯\n",
       "   6 │ H2259    BXD24            24             11.837                11.715\n",
       "   7 │ H1792    BXD24            24             11.563                11.434\n",
       "   8 │ H1791    BXD24            24             12.5                  12.273\n",
       "   9 │ H1541    BXD24            24             11.815                11.564   ⋯\n",
       "  10 │ H1277    BXD24            24             12.674                11.743\n",
       "\u001b[36m                                                               5 columns omitted\u001b[0m"
      ]
     },
     "execution_count": 7,
     "metadata": {},
     "output_type": "execute_result"
    }
   ],
   "source": [
    "println(size(BXD_pheno_ind_summary_df)) \n",
    "BXD_pheno_ind_summary_df[1:10, 1:10]"
   ]
  },
  {
   "cell_type": "code",
   "execution_count": 8,
   "id": "5fd9f4b1-5c54-442b-bd68-1f8110045bc6",
   "metadata": {},
   "outputs": [
    {
     "data": {
      "text/plain": [
       "\"P61924_VALRGEDVPLTEQTVSQVLQSAK_3\""
      ]
     },
     "execution_count": 8,
     "metadata": {},
     "output_type": "execute_result"
    }
   ],
   "source": [
    "names(BXD_pheno_ind_summary_df)[7515]"
   ]
  },
  {
   "cell_type": "code",
   "execution_count": 9,
   "id": "05d0b88c-c346-4a8d-91fc-e3d78010146f",
   "metadata": {},
   "outputs": [
    {
     "data": {
      "image/svg+xml": [
       "<?xml version=\"1.0\" encoding=\"utf-8\"?>\n",
       "<svg xmlns=\"http://www.w3.org/2000/svg\" xmlns:xlink=\"http://www.w3.org/1999/xlink\" width=\"600\" height=\"400\" viewBox=\"0 0 2400 1600\">\n",
       "<defs>\n",
       "  <clipPath id=\"clip680\">\n",
       "    <rect x=\"0\" y=\"0\" width=\"2400\" height=\"1600\"/>\n",
       "  </clipPath>\n",
       "</defs>\n",
       "<path clip-path=\"url(#clip680)\" d=\"\n",
       "M0 1600 L2400 1600 L2400 0 L0 0  Z\n",
       "  \" fill=\"#ffffff\" fill-rule=\"evenodd\" fill-opacity=\"1\"/>\n",
       "<defs>\n",
       "  <clipPath id=\"clip681\">\n",
       "    <rect x=\"480\" y=\"0\" width=\"1681\" height=\"1600\"/>\n",
       "  </clipPath>\n",
       "</defs>\n",
       "<path clip-path=\"url(#clip680)\" d=\"\n",
       "M141.853 1486.45 L2352.76 1486.45 L2352.76 47.2441 L141.853 47.2441  Z\n",
       "  \" fill=\"#ffffff\" fill-rule=\"evenodd\" fill-opacity=\"1\"/>\n",
       "<defs>\n",
       "  <clipPath id=\"clip682\">\n",
       "    <rect x=\"141\" y=\"47\" width=\"2212\" height=\"1440\"/>\n",
       "  </clipPath>\n",
       "</defs>\n",
       "<polyline clip-path=\"url(#clip682)\" style=\"stroke:#000000; stroke-linecap:round; stroke-linejoin:round; stroke-width:2; stroke-opacity:0.1; fill:none\" points=\"\n",
       "  442.338,1486.45 442.338,47.2441 \n",
       "  \"/>\n",
       "<polyline clip-path=\"url(#clip682)\" style=\"stroke:#000000; stroke-linecap:round; stroke-linejoin:round; stroke-width:2; stroke-opacity:0.1; fill:none\" points=\"\n",
       "  889.542,1486.45 889.542,47.2441 \n",
       "  \"/>\n",
       "<polyline clip-path=\"url(#clip682)\" style=\"stroke:#000000; stroke-linecap:round; stroke-linejoin:round; stroke-width:2; stroke-opacity:0.1; fill:none\" points=\"\n",
       "  1336.75,1486.45 1336.75,47.2441 \n",
       "  \"/>\n",
       "<polyline clip-path=\"url(#clip682)\" style=\"stroke:#000000; stroke-linecap:round; stroke-linejoin:round; stroke-width:2; stroke-opacity:0.1; fill:none\" points=\"\n",
       "  1783.95,1486.45 1783.95,47.2441 \n",
       "  \"/>\n",
       "<polyline clip-path=\"url(#clip682)\" style=\"stroke:#000000; stroke-linecap:round; stroke-linejoin:round; stroke-width:2; stroke-opacity:0.1; fill:none\" points=\"\n",
       "  2231.15,1486.45 2231.15,47.2441 \n",
       "  \"/>\n",
       "<polyline clip-path=\"url(#clip680)\" style=\"stroke:#000000; stroke-linecap:round; stroke-linejoin:round; stroke-width:4; stroke-opacity:1; fill:none\" points=\"\n",
       "  141.853,1486.45 2352.76,1486.45 \n",
       "  \"/>\n",
       "<polyline clip-path=\"url(#clip680)\" style=\"stroke:#000000; stroke-linecap:round; stroke-linejoin:round; stroke-width:4; stroke-opacity:1; fill:none\" points=\"\n",
       "  442.338,1486.45 442.338,1467.55 \n",
       "  \"/>\n",
       "<polyline clip-path=\"url(#clip680)\" style=\"stroke:#000000; stroke-linecap:round; stroke-linejoin:round; stroke-width:4; stroke-opacity:1; fill:none\" points=\"\n",
       "  889.542,1486.45 889.542,1467.55 \n",
       "  \"/>\n",
       "<polyline clip-path=\"url(#clip680)\" style=\"stroke:#000000; stroke-linecap:round; stroke-linejoin:round; stroke-width:4; stroke-opacity:1; fill:none\" points=\"\n",
       "  1336.75,1486.45 1336.75,1467.55 \n",
       "  \"/>\n",
       "<polyline clip-path=\"url(#clip680)\" style=\"stroke:#000000; stroke-linecap:round; stroke-linejoin:round; stroke-width:4; stroke-opacity:1; fill:none\" points=\"\n",
       "  1783.95,1486.45 1783.95,1467.55 \n",
       "  \"/>\n",
       "<polyline clip-path=\"url(#clip680)\" style=\"stroke:#000000; stroke-linecap:round; stroke-linejoin:round; stroke-width:4; stroke-opacity:1; fill:none\" points=\"\n",
       "  2231.15,1486.45 2231.15,1467.55 \n",
       "  \"/>\n",
       "<path clip-path=\"url(#clip680)\" d=\"M394.41 1544.91 L402.049 1544.91 L402.049 1518.55 L393.739 1520.21 L393.739 1515.95 L402.003 1514.29 L406.678 1514.29 L406.678 1544.91 L414.317 1544.91 L414.317 1548.85 L394.41 1548.85 L394.41 1544.91 Z\" fill=\"#000000\" fill-rule=\"evenodd\" fill-opacity=\"1\" /><path clip-path=\"url(#clip680)\" d=\"M436.609 1518.36 L424.803 1536.81 L436.609 1536.81 L436.609 1518.36 M435.382 1514.29 L441.262 1514.29 L441.262 1536.81 L446.192 1536.81 L446.192 1540.7 L441.262 1540.7 L441.262 1548.85 L436.609 1548.85 L436.609 1540.7 L421.007 1540.7 L421.007 1536.19 L435.382 1514.29 Z\" fill=\"#000000\" fill-rule=\"evenodd\" fill-opacity=\"1\" /><path clip-path=\"url(#clip680)\" d=\"M453.924 1542.97 L458.808 1542.97 L458.808 1548.85 L453.924 1548.85 L453.924 1542.97 Z\" fill=\"#000000\" fill-rule=\"evenodd\" fill-opacity=\"1\" /><path clip-path=\"url(#clip680)\" d=\"M478.993 1517.37 Q475.382 1517.37 473.553 1520.93 Q471.748 1524.47 471.748 1531.6 Q471.748 1538.71 473.553 1542.27 Q475.382 1545.82 478.993 1545.82 Q482.627 1545.82 484.433 1542.27 Q486.261 1538.71 486.261 1531.6 Q486.261 1524.47 484.433 1520.93 Q482.627 1517.37 478.993 1517.37 M478.993 1513.66 Q484.803 1513.66 487.859 1518.27 Q490.937 1522.85 490.937 1531.6 Q490.937 1540.33 487.859 1544.94 Q484.803 1549.52 478.993 1549.52 Q473.183 1549.52 470.104 1544.94 Q467.048 1540.33 467.048 1531.6 Q467.048 1522.85 470.104 1518.27 Q473.183 1513.66 478.993 1513.66 Z\" fill=\"#000000\" fill-rule=\"evenodd\" fill-opacity=\"1\" /><path clip-path=\"url(#clip680)\" d=\"M842.111 1544.91 L849.75 1544.91 L849.75 1518.55 L841.44 1520.21 L841.44 1515.95 L849.704 1514.29 L854.38 1514.29 L854.38 1544.91 L862.019 1544.91 L862.019 1548.85 L842.111 1548.85 L842.111 1544.91 Z\" fill=\"#000000\" fill-rule=\"evenodd\" fill-opacity=\"1\" /><path clip-path=\"url(#clip680)\" d=\"M884.31 1518.36 L872.505 1536.81 L884.31 1536.81 L884.31 1518.36 M883.083 1514.29 L888.963 1514.29 L888.963 1536.81 L893.893 1536.81 L893.893 1540.7 L888.963 1540.7 L888.963 1548.85 L884.31 1548.85 L884.31 1540.7 L868.708 1540.7 L868.708 1536.19 L883.083 1514.29 Z\" fill=\"#000000\" fill-rule=\"evenodd\" fill-opacity=\"1\" /><path clip-path=\"url(#clip680)\" d=\"M901.625 1542.97 L906.509 1542.97 L906.509 1548.85 L901.625 1548.85 L901.625 1542.97 Z\" fill=\"#000000\" fill-rule=\"evenodd\" fill-opacity=\"1\" /><path clip-path=\"url(#clip680)\" d=\"M916.74 1514.29 L935.097 1514.29 L935.097 1518.22 L921.023 1518.22 L921.023 1526.7 Q922.041 1526.35 923.06 1526.19 Q924.078 1526 925.097 1526 Q930.884 1526 934.264 1529.17 Q937.643 1532.34 937.643 1537.76 Q937.643 1543.34 934.171 1546.44 Q930.699 1549.52 924.379 1549.52 Q922.203 1549.52 919.935 1549.15 Q917.69 1548.78 915.282 1548.04 L915.282 1543.34 Q917.365 1544.47 919.588 1545.03 Q921.81 1545.58 924.287 1545.58 Q928.291 1545.58 930.629 1543.48 Q932.967 1541.37 932.967 1537.76 Q932.967 1534.15 930.629 1532.04 Q928.291 1529.94 924.287 1529.94 Q922.412 1529.94 920.537 1530.35 Q918.685 1530.77 916.74 1531.65 L916.74 1514.29 Z\" fill=\"#000000\" fill-rule=\"evenodd\" fill-opacity=\"1\" /><path clip-path=\"url(#clip680)\" d=\"M1288.82 1544.91 L1296.46 1544.91 L1296.46 1518.55 L1288.15 1520.21 L1288.15 1515.95 L1296.41 1514.29 L1301.09 1514.29 L1301.09 1544.91 L1308.72 1544.91 L1308.72 1548.85 L1288.82 1548.85 L1288.82 1544.91 Z\" fill=\"#000000\" fill-rule=\"evenodd\" fill-opacity=\"1\" /><path clip-path=\"url(#clip680)\" d=\"M1318.22 1514.29 L1336.57 1514.29 L1336.57 1518.22 L1322.5 1518.22 L1322.5 1526.7 Q1323.52 1526.35 1324.53 1526.19 Q1325.55 1526 1326.57 1526 Q1332.36 1526 1335.74 1529.17 Q1339.12 1532.34 1339.12 1537.76 Q1339.12 1543.34 1335.65 1546.44 Q1332.17 1549.52 1325.85 1549.52 Q1323.68 1549.52 1321.41 1549.15 Q1319.16 1548.78 1316.76 1548.04 L1316.76 1543.34 Q1318.84 1544.47 1321.06 1545.03 Q1323.28 1545.58 1325.76 1545.58 Q1329.77 1545.58 1332.1 1543.48 Q1334.44 1541.37 1334.44 1537.76 Q1334.44 1534.15 1332.1 1532.04 Q1329.77 1529.94 1325.76 1529.94 Q1323.89 1529.94 1322.01 1530.35 Q1320.16 1530.77 1318.22 1531.65 L1318.22 1514.29 Z\" fill=\"#000000\" fill-rule=\"evenodd\" fill-opacity=\"1\" /><path clip-path=\"url(#clip680)\" d=\"M1348.33 1542.97 L1353.21 1542.97 L1353.21 1548.85 L1348.33 1548.85 L1348.33 1542.97 Z\" fill=\"#000000\" fill-rule=\"evenodd\" fill-opacity=\"1\" /><path clip-path=\"url(#clip680)\" d=\"M1373.4 1517.37 Q1369.79 1517.37 1367.96 1520.93 Q1366.15 1524.47 1366.15 1531.6 Q1366.15 1538.71 1367.96 1542.27 Q1369.79 1545.82 1373.4 1545.82 Q1377.03 1545.82 1378.84 1542.27 Q1380.67 1538.71 1380.67 1531.6 Q1380.67 1524.47 1378.84 1520.93 Q1377.03 1517.37 1373.4 1517.37 M1373.4 1513.66 Q1379.21 1513.66 1382.27 1518.27 Q1385.34 1522.85 1385.34 1531.6 Q1385.34 1540.33 1382.27 1544.94 Q1379.21 1549.52 1373.4 1549.52 Q1367.59 1549.52 1364.51 1544.94 Q1361.46 1540.33 1361.46 1531.6 Q1361.46 1522.85 1364.51 1518.27 Q1367.59 1513.66 1373.4 1513.66 Z\" fill=\"#000000\" fill-rule=\"evenodd\" fill-opacity=\"1\" /><path clip-path=\"url(#clip680)\" d=\"M1736.52 1544.91 L1744.16 1544.91 L1744.16 1518.55 L1735.85 1520.21 L1735.85 1515.95 L1744.11 1514.29 L1748.79 1514.29 L1748.79 1544.91 L1756.43 1544.91 L1756.43 1548.85 L1736.52 1548.85 L1736.52 1544.91 Z\" fill=\"#000000\" fill-rule=\"evenodd\" fill-opacity=\"1\" /><path clip-path=\"url(#clip680)\" d=\"M1765.92 1514.29 L1784.27 1514.29 L1784.27 1518.22 L1770.2 1518.22 L1770.2 1526.7 Q1771.22 1526.35 1772.24 1526.19 Q1773.25 1526 1774.27 1526 Q1780.06 1526 1783.44 1529.17 Q1786.82 1532.34 1786.82 1537.76 Q1786.82 1543.34 1783.35 1546.44 Q1779.87 1549.52 1773.56 1549.52 Q1771.38 1549.52 1769.11 1549.15 Q1766.87 1548.78 1764.46 1548.04 L1764.46 1543.34 Q1766.54 1544.47 1768.76 1545.03 Q1770.99 1545.58 1773.46 1545.58 Q1777.47 1545.58 1779.81 1543.48 Q1782.14 1541.37 1782.14 1537.76 Q1782.14 1534.15 1779.81 1532.04 Q1777.47 1529.94 1773.46 1529.94 Q1771.59 1529.94 1769.71 1530.35 Q1767.86 1530.77 1765.92 1531.65 L1765.92 1514.29 Z\" fill=\"#000000\" fill-rule=\"evenodd\" fill-opacity=\"1\" /><path clip-path=\"url(#clip680)\" d=\"M1796.03 1542.97 L1800.92 1542.97 L1800.92 1548.85 L1796.03 1548.85 L1796.03 1542.97 Z\" fill=\"#000000\" fill-rule=\"evenodd\" fill-opacity=\"1\" /><path clip-path=\"url(#clip680)\" d=\"M1811.15 1514.29 L1829.5 1514.29 L1829.5 1518.22 L1815.43 1518.22 L1815.43 1526.7 Q1816.45 1526.35 1817.47 1526.19 Q1818.49 1526 1819.5 1526 Q1825.29 1526 1828.67 1529.17 Q1832.05 1532.34 1832.05 1537.76 Q1832.05 1543.34 1828.58 1546.44 Q1825.11 1549.52 1818.79 1549.52 Q1816.61 1549.52 1814.34 1549.15 Q1812.1 1548.78 1809.69 1548.04 L1809.69 1543.34 Q1811.77 1544.47 1813.99 1545.03 Q1816.22 1545.58 1818.69 1545.58 Q1822.7 1545.58 1825.04 1543.48 Q1827.37 1541.37 1827.37 1537.76 Q1827.37 1534.15 1825.04 1532.04 Q1822.7 1529.94 1818.69 1529.94 Q1816.82 1529.94 1814.94 1530.35 Q1813.09 1530.77 1811.15 1531.65 L1811.15 1514.29 Z\" fill=\"#000000\" fill-rule=\"evenodd\" fill-opacity=\"1\" /><path clip-path=\"url(#clip680)\" d=\"M2183.22 1544.91 L2190.86 1544.91 L2190.86 1518.55 L2182.55 1520.21 L2182.55 1515.95 L2190.82 1514.29 L2195.49 1514.29 L2195.49 1544.91 L2203.13 1544.91 L2203.13 1548.85 L2183.22 1548.85 L2183.22 1544.91 Z\" fill=\"#000000\" fill-rule=\"evenodd\" fill-opacity=\"1\" /><path clip-path=\"url(#clip680)\" d=\"M2223.15 1529.7 Q2220.01 1529.7 2218.15 1531.86 Q2216.33 1534.01 2216.33 1537.76 Q2216.33 1541.49 2218.15 1543.66 Q2220.01 1545.82 2223.15 1545.82 Q2226.3 1545.82 2228.13 1543.66 Q2229.98 1541.49 2229.98 1537.76 Q2229.98 1534.01 2228.13 1531.86 Q2226.3 1529.7 2223.15 1529.7 M2232.44 1515.05 L2232.44 1519.31 Q2230.68 1518.48 2228.87 1518.04 Q2227.09 1517.6 2225.33 1517.6 Q2220.7 1517.6 2218.25 1520.72 Q2215.82 1523.85 2215.47 1530.17 Q2216.84 1528.15 2218.9 1527.09 Q2220.96 1526 2223.43 1526 Q2228.64 1526 2231.65 1529.17 Q2234.68 1532.32 2234.68 1537.76 Q2234.68 1543.08 2231.53 1546.3 Q2228.39 1549.52 2223.15 1549.52 Q2217.16 1549.52 2213.99 1544.94 Q2210.82 1540.33 2210.82 1531.6 Q2210.82 1523.41 2214.71 1518.55 Q2218.59 1513.66 2225.15 1513.66 Q2226.9 1513.66 2228.69 1514.01 Q2230.49 1514.36 2232.44 1515.05 Z\" fill=\"#000000\" fill-rule=\"evenodd\" fill-opacity=\"1\" /><path clip-path=\"url(#clip680)\" d=\"M2242.74 1542.97 L2247.62 1542.97 L2247.62 1548.85 L2242.74 1548.85 L2242.74 1542.97 Z\" fill=\"#000000\" fill-rule=\"evenodd\" fill-opacity=\"1\" /><path clip-path=\"url(#clip680)\" d=\"M2267.81 1517.37 Q2264.2 1517.37 2262.37 1520.93 Q2260.56 1524.47 2260.56 1531.6 Q2260.56 1538.71 2262.37 1542.27 Q2264.2 1545.82 2267.81 1545.82 Q2271.44 1545.82 2273.25 1542.27 Q2275.08 1538.71 2275.08 1531.6 Q2275.08 1524.47 2273.25 1520.93 Q2271.44 1517.37 2267.81 1517.37 M2267.81 1513.66 Q2273.62 1513.66 2276.67 1518.27 Q2279.75 1522.85 2279.75 1531.6 Q2279.75 1540.33 2276.67 1544.94 Q2273.62 1549.52 2267.81 1549.52 Q2262 1549.52 2258.92 1544.94 Q2255.86 1540.33 2255.86 1531.6 Q2255.86 1522.85 2258.92 1518.27 Q2262 1513.66 2267.81 1513.66 Z\" fill=\"#000000\" fill-rule=\"evenodd\" fill-opacity=\"1\" /><polyline clip-path=\"url(#clip682)\" style=\"stroke:#000000; stroke-linecap:round; stroke-linejoin:round; stroke-width:2; stroke-opacity:0.1; fill:none\" points=\"\n",
       "  141.853,1445.72 2352.76,1445.72 \n",
       "  \"/>\n",
       "<polyline clip-path=\"url(#clip682)\" style=\"stroke:#000000; stroke-linecap:round; stroke-linejoin:round; stroke-width:2; stroke-opacity:0.1; fill:none\" points=\"\n",
       "  141.853,1184.61 2352.76,1184.61 \n",
       "  \"/>\n",
       "<polyline clip-path=\"url(#clip682)\" style=\"stroke:#000000; stroke-linecap:round; stroke-linejoin:round; stroke-width:2; stroke-opacity:0.1; fill:none\" points=\"\n",
       "  141.853,923.508 2352.76,923.508 \n",
       "  \"/>\n",
       "<polyline clip-path=\"url(#clip682)\" style=\"stroke:#000000; stroke-linecap:round; stroke-linejoin:round; stroke-width:2; stroke-opacity:0.1; fill:none\" points=\"\n",
       "  141.853,662.404 2352.76,662.404 \n",
       "  \"/>\n",
       "<polyline clip-path=\"url(#clip682)\" style=\"stroke:#000000; stroke-linecap:round; stroke-linejoin:round; stroke-width:2; stroke-opacity:0.1; fill:none\" points=\"\n",
       "  141.853,401.301 2352.76,401.301 \n",
       "  \"/>\n",
       "<polyline clip-path=\"url(#clip682)\" style=\"stroke:#000000; stroke-linecap:round; stroke-linejoin:round; stroke-width:2; stroke-opacity:0.1; fill:none\" points=\"\n",
       "  141.853,140.197 2352.76,140.197 \n",
       "  \"/>\n",
       "<polyline clip-path=\"url(#clip680)\" style=\"stroke:#000000; stroke-linecap:round; stroke-linejoin:round; stroke-width:4; stroke-opacity:1; fill:none\" points=\"\n",
       "  141.853,1486.45 141.853,47.2441 \n",
       "  \"/>\n",
       "<polyline clip-path=\"url(#clip680)\" style=\"stroke:#000000; stroke-linecap:round; stroke-linejoin:round; stroke-width:4; stroke-opacity:1; fill:none\" points=\"\n",
       "  141.853,1445.72 160.751,1445.72 \n",
       "  \"/>\n",
       "<polyline clip-path=\"url(#clip680)\" style=\"stroke:#000000; stroke-linecap:round; stroke-linejoin:round; stroke-width:4; stroke-opacity:1; fill:none\" points=\"\n",
       "  141.853,1184.61 160.751,1184.61 \n",
       "  \"/>\n",
       "<polyline clip-path=\"url(#clip680)\" style=\"stroke:#000000; stroke-linecap:round; stroke-linejoin:round; stroke-width:4; stroke-opacity:1; fill:none\" points=\"\n",
       "  141.853,923.508 160.751,923.508 \n",
       "  \"/>\n",
       "<polyline clip-path=\"url(#clip680)\" style=\"stroke:#000000; stroke-linecap:round; stroke-linejoin:round; stroke-width:4; stroke-opacity:1; fill:none\" points=\"\n",
       "  141.853,662.404 160.751,662.404 \n",
       "  \"/>\n",
       "<polyline clip-path=\"url(#clip680)\" style=\"stroke:#000000; stroke-linecap:round; stroke-linejoin:round; stroke-width:4; stroke-opacity:1; fill:none\" points=\"\n",
       "  141.853,401.301 160.751,401.301 \n",
       "  \"/>\n",
       "<polyline clip-path=\"url(#clip680)\" style=\"stroke:#000000; stroke-linecap:round; stroke-linejoin:round; stroke-width:4; stroke-opacity:1; fill:none\" points=\"\n",
       "  141.853,140.197 160.751,140.197 \n",
       "  \"/>\n",
       "<path clip-path=\"url(#clip680)\" d=\"M93.9086 1431.51 Q90.2975 1431.51 88.4688 1435.08 Q86.6632 1438.62 86.6632 1445.75 Q86.6632 1452.86 88.4688 1456.42 Q90.2975 1459.96 93.9086 1459.96 Q97.5428 1459.96 99.3483 1456.42 Q101.177 1452.86 101.177 1445.75 Q101.177 1438.62 99.3483 1435.08 Q97.5428 1431.51 93.9086 1431.51 M93.9086 1427.81 Q99.7187 1427.81 102.774 1432.42 Q105.853 1437 105.853 1445.75 Q105.853 1454.48 102.774 1459.08 Q99.7187 1463.67 93.9086 1463.67 Q88.0984 1463.67 85.0197 1459.08 Q81.9642 1454.48 81.9642 1445.75 Q81.9642 1437 85.0197 1432.42 Q88.0984 1427.81 93.9086 1427.81 Z\" fill=\"#000000\" fill-rule=\"evenodd\" fill-opacity=\"1\" /><path clip-path=\"url(#clip680)\" d=\"M54.5569 1197.96 L62.1958 1197.96 L62.1958 1171.59 L53.8856 1173.26 L53.8856 1169 L62.1495 1167.33 L66.8254 1167.33 L66.8254 1197.96 L74.4642 1197.96 L74.4642 1201.89 L54.5569 1201.89 L54.5569 1197.96 Z\" fill=\"#000000\" fill-rule=\"evenodd\" fill-opacity=\"1\" /><path clip-path=\"url(#clip680)\" d=\"M93.9086 1170.41 Q90.2975 1170.41 88.4688 1173.98 Q86.6632 1177.52 86.6632 1184.65 Q86.6632 1191.75 88.4688 1195.32 Q90.2975 1198.86 93.9086 1198.86 Q97.5428 1198.86 99.3483 1195.32 Q101.177 1191.75 101.177 1184.65 Q101.177 1177.52 99.3483 1173.98 Q97.5428 1170.41 93.9086 1170.41 M93.9086 1166.71 Q99.7187 1166.71 102.774 1171.31 Q105.853 1175.9 105.853 1184.65 Q105.853 1193.37 102.774 1197.98 Q99.7187 1202.56 93.9086 1202.56 Q88.0984 1202.56 85.0197 1197.98 Q81.9642 1193.37 81.9642 1184.65 Q81.9642 1175.9 85.0197 1171.31 Q88.0984 1166.71 93.9086 1166.71 Z\" fill=\"#000000\" fill-rule=\"evenodd\" fill-opacity=\"1\" /><path clip-path=\"url(#clip680)\" d=\"M57.7745 936.853 L74.0939 936.853 L74.0939 940.788 L52.1495 940.788 L52.1495 936.853 Q54.8115 934.098 59.3949 929.469 Q64.0013 924.816 65.1819 923.474 Q67.4272 920.95 68.3068 919.214 Q69.2096 917.455 69.2096 915.765 Q69.2096 913.011 67.2652 911.274 Q65.3439 909.538 62.2421 909.538 Q60.043 909.538 57.5893 910.302 Q55.1588 911.066 52.381 912.617 L52.381 907.895 Q55.2051 906.761 57.6588 906.182 Q60.1124 905.603 62.1495 905.603 Q67.5198 905.603 70.7142 908.288 Q73.9087 910.974 73.9087 915.464 Q73.9087 917.594 73.0985 919.515 Q72.3115 921.413 70.205 924.006 Q69.6263 924.677 66.5245 927.895 Q63.4226 931.089 57.7745 936.853 Z\" fill=\"#000000\" fill-rule=\"evenodd\" fill-opacity=\"1\" /><path clip-path=\"url(#clip680)\" d=\"M93.9086 909.307 Q90.2975 909.307 88.4688 912.872 Q86.6632 916.413 86.6632 923.543 Q86.6632 930.649 88.4688 934.214 Q90.2975 937.756 93.9086 937.756 Q97.5428 937.756 99.3483 934.214 Q101.177 930.649 101.177 923.543 Q101.177 916.413 99.3483 912.872 Q97.5428 909.307 93.9086 909.307 M93.9086 905.603 Q99.7187 905.603 102.774 910.21 Q105.853 914.793 105.853 923.543 Q105.853 932.27 102.774 936.876 Q99.7187 941.46 93.9086 941.46 Q88.0984 941.46 85.0197 936.876 Q81.9642 932.27 81.9642 923.543 Q81.9642 914.793 85.0197 910.21 Q88.0984 905.603 93.9086 905.603 Z\" fill=\"#000000\" fill-rule=\"evenodd\" fill-opacity=\"1\" /><path clip-path=\"url(#clip680)\" d=\"M67.9133 661.05 Q71.2698 661.768 73.1448 664.036 Q75.0429 666.305 75.0429 669.638 Q75.0429 674.754 71.5244 677.555 Q68.0059 680.356 61.5245 680.356 Q59.3486 680.356 57.0338 679.916 Q54.7421 679.499 52.2884 678.643 L52.2884 674.129 Q54.2328 675.263 56.5477 675.842 Q58.8625 676.421 61.3856 676.421 Q65.7837 676.421 68.0754 674.685 Q70.3902 672.948 70.3902 669.638 Q70.3902 666.583 68.2374 664.87 Q66.1078 663.134 62.2884 663.134 L58.2606 663.134 L58.2606 659.291 L62.4735 659.291 Q65.9226 659.291 67.7513 657.925 Q69.58 656.536 69.58 653.944 Q69.58 651.282 67.6819 649.87 Q65.8069 648.435 62.2884 648.435 Q60.3671 648.435 58.168 648.851 Q55.969 649.268 53.3301 650.148 L53.3301 645.981 Q55.9921 645.24 58.3069 644.87 Q60.6449 644.499 62.705 644.499 Q68.0291 644.499 71.1309 646.93 Q74.2327 649.337 74.2327 653.458 Q74.2327 656.328 72.5892 658.319 Q70.9457 660.286 67.9133 661.05 Z\" fill=\"#000000\" fill-rule=\"evenodd\" fill-opacity=\"1\" /><path clip-path=\"url(#clip680)\" d=\"M93.9086 648.203 Q90.2975 648.203 88.4688 651.768 Q86.6632 655.31 86.6632 662.439 Q86.6632 669.546 88.4688 673.11 Q90.2975 676.652 93.9086 676.652 Q97.5428 676.652 99.3483 673.11 Q101.177 669.546 101.177 662.439 Q101.177 655.31 99.3483 651.768 Q97.5428 648.203 93.9086 648.203 M93.9086 644.499 Q99.7187 644.499 102.774 649.106 Q105.853 653.689 105.853 662.439 Q105.853 671.166 102.774 675.772 Q99.7187 680.356 93.9086 680.356 Q88.0984 680.356 85.0197 675.772 Q81.9642 671.166 81.9642 662.439 Q81.9642 653.689 85.0197 649.106 Q88.0984 644.499 93.9086 644.499 Z\" fill=\"#000000\" fill-rule=\"evenodd\" fill-opacity=\"1\" /><path clip-path=\"url(#clip680)\" d=\"M66.5939 388.095 L54.7884 406.544 L66.5939 406.544 L66.5939 388.095 M65.367 384.021 L71.2466 384.021 L71.2466 406.544 L76.1772 406.544 L76.1772 410.433 L71.2466 410.433 L71.2466 418.581 L66.5939 418.581 L66.5939 410.433 L50.9921 410.433 L50.9921 405.919 L65.367 384.021 Z\" fill=\"#000000\" fill-rule=\"evenodd\" fill-opacity=\"1\" /><path clip-path=\"url(#clip680)\" d=\"M93.9086 387.099 Q90.2975 387.099 88.4688 390.664 Q86.6632 394.206 86.6632 401.335 Q86.6632 408.442 88.4688 412.007 Q90.2975 415.548 93.9086 415.548 Q97.5428 415.548 99.3483 412.007 Q101.177 408.442 101.177 401.335 Q101.177 394.206 99.3483 390.664 Q97.5428 387.099 93.9086 387.099 M93.9086 383.396 Q99.7187 383.396 102.774 388.002 Q105.853 392.586 105.853 401.335 Q105.853 410.062 102.774 414.669 Q99.7187 419.252 93.9086 419.252 Q88.0984 419.252 85.0197 414.669 Q81.9642 410.062 81.9642 401.335 Q81.9642 392.586 85.0197 388.002 Q88.0984 383.396 93.9086 383.396 Z\" fill=\"#000000\" fill-rule=\"evenodd\" fill-opacity=\"1\" /><path clip-path=\"url(#clip680)\" d=\"M53.793 122.917 L72.1494 122.917 L72.1494 126.852 L58.0754 126.852 L58.0754 135.324 Q59.0939 134.977 60.1124 134.815 Q61.131 134.63 62.1495 134.63 Q67.9365 134.63 71.3161 137.801 Q74.6957 140.972 74.6957 146.389 Q74.6957 151.968 71.2235 155.07 Q67.7513 158.148 61.4319 158.148 Q59.256 158.148 56.9875 157.778 Q54.7421 157.408 52.3347 156.667 L52.3347 151.968 Q54.418 153.102 56.6402 153.658 Q58.8625 154.213 61.3393 154.213 Q65.3439 154.213 67.6819 152.107 Q70.0198 150 70.0198 146.389 Q70.0198 142.778 67.6819 140.672 Q65.3439 138.565 61.3393 138.565 Q59.4643 138.565 57.5893 138.982 Q55.7375 139.398 53.793 140.278 L53.793 122.917 Z\" fill=\"#000000\" fill-rule=\"evenodd\" fill-opacity=\"1\" /><path clip-path=\"url(#clip680)\" d=\"M93.9086 125.996 Q90.2975 125.996 88.4688 129.561 Q86.6632 133.102 86.6632 140.232 Q86.6632 147.338 88.4688 150.903 Q90.2975 154.445 93.9086 154.445 Q97.5428 154.445 99.3483 150.903 Q101.177 147.338 101.177 140.232 Q101.177 133.102 99.3483 129.561 Q97.5428 125.996 93.9086 125.996 M93.9086 122.292 Q99.7187 122.292 102.774 126.898 Q105.853 131.482 105.853 140.232 Q105.853 148.959 102.774 153.565 Q99.7187 158.148 93.9086 158.148 Q88.0984 158.148 85.0197 153.565 Q81.9642 148.959 81.9642 140.232 Q81.9642 131.482 85.0197 126.898 Q88.0984 122.292 93.9086 122.292 Z\" fill=\"#000000\" fill-rule=\"evenodd\" fill-opacity=\"1\" /><path clip-path=\"url(#clip682)\" d=\"\n",
       "M263.457 1419.61 L263.457 1445.72 L352.897 1445.72 L352.897 1419.61 L263.457 1419.61 L263.457 1419.61  Z\n",
       "  \" fill=\"#009af9\" fill-rule=\"evenodd\" fill-opacity=\"1\"/>\n",
       "<polyline clip-path=\"url(#clip682)\" style=\"stroke:#000000; stroke-linecap:round; stroke-linejoin:round; stroke-width:4; stroke-opacity:1; fill:none\" points=\"\n",
       "  263.457,1419.61 263.457,1445.72 352.897,1445.72 352.897,1419.61 263.457,1419.61 \n",
       "  \"/>\n",
       "<path clip-path=\"url(#clip682)\" d=\"\n",
       "M352.897 1419.61 L352.897 1445.72 L442.338 1445.72 L442.338 1419.61 L352.897 1419.61 L352.897 1419.61  Z\n",
       "  \" fill=\"#009af9\" fill-rule=\"evenodd\" fill-opacity=\"1\"/>\n",
       "<polyline clip-path=\"url(#clip682)\" style=\"stroke:#000000; stroke-linecap:round; stroke-linejoin:round; stroke-width:4; stroke-opacity:1; fill:none\" points=\"\n",
       "  352.897,1419.61 352.897,1445.72 442.338,1445.72 442.338,1419.61 352.897,1419.61 \n",
       "  \"/>\n",
       "<path clip-path=\"url(#clip682)\" d=\"\n",
       "M442.338 1367.38 L442.338 1445.72 L531.779 1445.72 L531.779 1367.38 L442.338 1367.38 L442.338 1367.38  Z\n",
       "  \" fill=\"#009af9\" fill-rule=\"evenodd\" fill-opacity=\"1\"/>\n",
       "<polyline clip-path=\"url(#clip682)\" style=\"stroke:#000000; stroke-linecap:round; stroke-linejoin:round; stroke-width:4; stroke-opacity:1; fill:none\" points=\"\n",
       "  442.338,1367.38 442.338,1445.72 531.779,1445.72 531.779,1367.38 442.338,1367.38 \n",
       "  \"/>\n",
       "<path clip-path=\"url(#clip682)\" d=\"\n",
       "M531.779 1445.72 L531.779 1445.72 L621.219 1445.72 L621.219 1445.72 L531.779 1445.72 L531.779 1445.72  Z\n",
       "  \" fill=\"#009af9\" fill-rule=\"evenodd\" fill-opacity=\"1\"/>\n",
       "<polyline clip-path=\"url(#clip682)\" style=\"stroke:#000000; stroke-linecap:round; stroke-linejoin:round; stroke-width:4; stroke-opacity:1; fill:none\" points=\"\n",
       "  531.779,1445.72 531.779,1445.72 621.219,1445.72 531.779,1445.72 \n",
       "  \"/>\n",
       "<path clip-path=\"url(#clip682)\" d=\"\n",
       "M621.219 1419.61 L621.219 1445.72 L710.66 1445.72 L710.66 1419.61 L621.219 1419.61 L621.219 1419.61  Z\n",
       "  \" fill=\"#009af9\" fill-rule=\"evenodd\" fill-opacity=\"1\"/>\n",
       "<polyline clip-path=\"url(#clip682)\" style=\"stroke:#000000; stroke-linecap:round; stroke-linejoin:round; stroke-width:4; stroke-opacity:1; fill:none\" points=\"\n",
       "  621.219,1419.61 621.219,1445.72 710.66,1445.72 710.66,1419.61 621.219,1419.61 \n",
       "  \"/>\n",
       "<path clip-path=\"url(#clip682)\" d=\"\n",
       "M710.66 1445.72 L710.66 1445.72 L800.101 1445.72 L800.101 1445.72 L710.66 1445.72 L710.66 1445.72  Z\n",
       "  \" fill=\"#009af9\" fill-rule=\"evenodd\" fill-opacity=\"1\"/>\n",
       "<polyline clip-path=\"url(#clip682)\" style=\"stroke:#000000; stroke-linecap:round; stroke-linejoin:round; stroke-width:4; stroke-opacity:1; fill:none\" points=\"\n",
       "  710.66,1445.72 710.66,1445.72 800.101,1445.72 710.66,1445.72 \n",
       "  \"/>\n",
       "<path clip-path=\"url(#clip682)\" d=\"\n",
       "M800.101 1445.72 L800.101 1445.72 L889.542 1445.72 L889.542 1445.72 L800.101 1445.72 L800.101 1445.72  Z\n",
       "  \" fill=\"#009af9\" fill-rule=\"evenodd\" fill-opacity=\"1\"/>\n",
       "<polyline clip-path=\"url(#clip682)\" style=\"stroke:#000000; stroke-linecap:round; stroke-linejoin:round; stroke-width:4; stroke-opacity:1; fill:none\" points=\"\n",
       "  800.101,1445.72 800.101,1445.72 889.542,1445.72 800.101,1445.72 \n",
       "  \"/>\n",
       "<path clip-path=\"url(#clip682)\" d=\"\n",
       "M889.542 1445.72 L889.542 1445.72 L978.982 1445.72 L978.982 1445.72 L889.542 1445.72 L889.542 1445.72  Z\n",
       "  \" fill=\"#009af9\" fill-rule=\"evenodd\" fill-opacity=\"1\"/>\n",
       "<polyline clip-path=\"url(#clip682)\" style=\"stroke:#000000; stroke-linecap:round; stroke-linejoin:round; stroke-width:4; stroke-opacity:1; fill:none\" points=\"\n",
       "  889.542,1445.72 889.542,1445.72 978.982,1445.72 889.542,1445.72 \n",
       "  \"/>\n",
       "<path clip-path=\"url(#clip682)\" d=\"\n",
       "M978.982 1367.38 L978.982 1445.72 L1068.42 1445.72 L1068.42 1367.38 L978.982 1367.38 L978.982 1367.38  Z\n",
       "  \" fill=\"#009af9\" fill-rule=\"evenodd\" fill-opacity=\"1\"/>\n",
       "<polyline clip-path=\"url(#clip682)\" style=\"stroke:#000000; stroke-linecap:round; stroke-linejoin:round; stroke-width:4; stroke-opacity:1; fill:none\" points=\"\n",
       "  978.982,1367.38 978.982,1445.72 1068.42,1445.72 1068.42,1367.38 978.982,1367.38 \n",
       "  \"/>\n",
       "<path clip-path=\"url(#clip682)\" d=\"\n",
       "M1068.42 1419.61 L1068.42 1445.72 L1157.86 1445.72 L1157.86 1419.61 L1068.42 1419.61 L1068.42 1419.61  Z\n",
       "  \" fill=\"#009af9\" fill-rule=\"evenodd\" fill-opacity=\"1\"/>\n",
       "<polyline clip-path=\"url(#clip682)\" style=\"stroke:#000000; stroke-linecap:round; stroke-linejoin:round; stroke-width:4; stroke-opacity:1; fill:none\" points=\"\n",
       "  1068.42,1419.61 1068.42,1445.72 1157.86,1445.72 1157.86,1419.61 1068.42,1419.61 \n",
       "  \"/>\n",
       "<path clip-path=\"url(#clip682)\" d=\"\n",
       "M1157.86 1315.16 L1157.86 1445.72 L1247.3 1445.72 L1247.3 1315.16 L1157.86 1315.16 L1157.86 1315.16  Z\n",
       "  \" fill=\"#009af9\" fill-rule=\"evenodd\" fill-opacity=\"1\"/>\n",
       "<polyline clip-path=\"url(#clip682)\" style=\"stroke:#000000; stroke-linecap:round; stroke-linejoin:round; stroke-width:4; stroke-opacity:1; fill:none\" points=\"\n",
       "  1157.86,1315.16 1157.86,1445.72 1247.3,1445.72 1247.3,1315.16 1157.86,1315.16 \n",
       "  \"/>\n",
       "<path clip-path=\"url(#clip682)\" d=\"\n",
       "M1247.3 1341.27 L1247.3 1445.72 L1336.75 1445.72 L1336.75 1341.27 L1247.3 1341.27 L1247.3 1341.27  Z\n",
       "  \" fill=\"#009af9\" fill-rule=\"evenodd\" fill-opacity=\"1\"/>\n",
       "<polyline clip-path=\"url(#clip682)\" style=\"stroke:#000000; stroke-linecap:round; stroke-linejoin:round; stroke-width:4; stroke-opacity:1; fill:none\" points=\"\n",
       "  1247.3,1341.27 1247.3,1445.72 1336.75,1445.72 1336.75,1341.27 1247.3,1341.27 \n",
       "  \"/>\n",
       "<path clip-path=\"url(#clip682)\" d=\"\n",
       "M1336.75 1158.5 L1336.75 1445.72 L1426.19 1445.72 L1426.19 1158.5 L1336.75 1158.5 L1336.75 1158.5  Z\n",
       "  \" fill=\"#009af9\" fill-rule=\"evenodd\" fill-opacity=\"1\"/>\n",
       "<polyline clip-path=\"url(#clip682)\" style=\"stroke:#000000; stroke-linecap:round; stroke-linejoin:round; stroke-width:4; stroke-opacity:1; fill:none\" points=\"\n",
       "  1336.75,1158.5 1336.75,1445.72 1426.19,1445.72 1426.19,1158.5 1336.75,1158.5 \n",
       "  \"/>\n",
       "<path clip-path=\"url(#clip682)\" d=\"\n",
       "M1426.19 401.301 L1426.19 1445.72 L1515.63 1445.72 L1515.63 401.301 L1426.19 401.301 L1426.19 401.301  Z\n",
       "  \" fill=\"#009af9\" fill-rule=\"evenodd\" fill-opacity=\"1\"/>\n",
       "<polyline clip-path=\"url(#clip682)\" style=\"stroke:#000000; stroke-linecap:round; stroke-linejoin:round; stroke-width:4; stroke-opacity:1; fill:none\" points=\"\n",
       "  1426.19,401.301 1426.19,1445.72 1515.63,1445.72 1515.63,401.301 1426.19,401.301 \n",
       "  \"/>\n",
       "<path clip-path=\"url(#clip682)\" d=\"\n",
       "M1515.63 296.859 L1515.63 1445.72 L1605.07 1445.72 L1605.07 296.859 L1515.63 296.859 L1515.63 296.859  Z\n",
       "  \" fill=\"#009af9\" fill-rule=\"evenodd\" fill-opacity=\"1\"/>\n",
       "<polyline clip-path=\"url(#clip682)\" style=\"stroke:#000000; stroke-linecap:round; stroke-linejoin:round; stroke-width:4; stroke-opacity:1; fill:none\" points=\"\n",
       "  1515.63,296.859 1515.63,1445.72 1605.07,1445.72 1605.07,296.859 1515.63,296.859 \n",
       "  \"/>\n",
       "<path clip-path=\"url(#clip682)\" d=\"\n",
       "M1605.07 87.9763 L1605.07 1445.72 L1694.51 1445.72 L1694.51 87.9763 L1605.07 87.9763 L1605.07 87.9763  Z\n",
       "  \" fill=\"#009af9\" fill-rule=\"evenodd\" fill-opacity=\"1\"/>\n",
       "<polyline clip-path=\"url(#clip682)\" style=\"stroke:#000000; stroke-linecap:round; stroke-linejoin:round; stroke-width:4; stroke-opacity:1; fill:none\" points=\"\n",
       "  1605.07,87.9763 1605.07,1445.72 1694.51,1445.72 1694.51,87.9763 1605.07,87.9763 \n",
       "  \"/>\n",
       "<path clip-path=\"url(#clip682)\" d=\"\n",
       "M1694.51 557.963 L1694.51 1445.72 L1783.95 1445.72 L1783.95 557.963 L1694.51 557.963 L1694.51 557.963  Z\n",
       "  \" fill=\"#009af9\" fill-rule=\"evenodd\" fill-opacity=\"1\"/>\n",
       "<polyline clip-path=\"url(#clip682)\" style=\"stroke:#000000; stroke-linecap:round; stroke-linejoin:round; stroke-width:4; stroke-opacity:1; fill:none\" points=\"\n",
       "  1694.51,557.963 1694.51,1445.72 1783.95,1445.72 1783.95,557.963 1694.51,557.963 \n",
       "  \"/>\n",
       "<path clip-path=\"url(#clip682)\" d=\"\n",
       "M1783.95 688.515 L1783.95 1445.72 L1873.39 1445.72 L1873.39 688.515 L1783.95 688.515 L1783.95 688.515  Z\n",
       "  \" fill=\"#009af9\" fill-rule=\"evenodd\" fill-opacity=\"1\"/>\n",
       "<polyline clip-path=\"url(#clip682)\" style=\"stroke:#000000; stroke-linecap:round; stroke-linejoin:round; stroke-width:4; stroke-opacity:1; fill:none\" points=\"\n",
       "  1783.95,688.515 1783.95,1445.72 1873.39,1445.72 1873.39,688.515 1783.95,688.515 \n",
       "  \"/>\n",
       "<path clip-path=\"url(#clip682)\" d=\"\n",
       "M1873.39 1210.72 L1873.39 1445.72 L1962.83 1445.72 L1962.83 1210.72 L1873.39 1210.72 L1873.39 1210.72  Z\n",
       "  \" fill=\"#009af9\" fill-rule=\"evenodd\" fill-opacity=\"1\"/>\n",
       "<polyline clip-path=\"url(#clip682)\" style=\"stroke:#000000; stroke-linecap:round; stroke-linejoin:round; stroke-width:4; stroke-opacity:1; fill:none\" points=\"\n",
       "  1873.39,1210.72 1873.39,1445.72 1962.83,1445.72 1962.83,1210.72 1873.39,1210.72 \n",
       "  \"/>\n",
       "<path clip-path=\"url(#clip682)\" d=\"\n",
       "M1962.83 1315.16 L1962.83 1445.72 L2052.27 1445.72 L2052.27 1315.16 L1962.83 1315.16 L1962.83 1315.16  Z\n",
       "  \" fill=\"#009af9\" fill-rule=\"evenodd\" fill-opacity=\"1\"/>\n",
       "<polyline clip-path=\"url(#clip682)\" style=\"stroke:#000000; stroke-linecap:round; stroke-linejoin:round; stroke-width:4; stroke-opacity:1; fill:none\" points=\"\n",
       "  1962.83,1315.16 1962.83,1445.72 2052.27,1445.72 2052.27,1315.16 1962.83,1315.16 \n",
       "  \"/>\n",
       "<path clip-path=\"url(#clip682)\" d=\"\n",
       "M2052.27 1393.49 L2052.27 1445.72 L2141.71 1445.72 L2141.71 1393.49 L2052.27 1393.49 L2052.27 1393.49  Z\n",
       "  \" fill=\"#009af9\" fill-rule=\"evenodd\" fill-opacity=\"1\"/>\n",
       "<polyline clip-path=\"url(#clip682)\" style=\"stroke:#000000; stroke-linecap:round; stroke-linejoin:round; stroke-width:4; stroke-opacity:1; fill:none\" points=\"\n",
       "  2052.27,1393.49 2052.27,1445.72 2141.71,1445.72 2141.71,1393.49 2052.27,1393.49 \n",
       "  \"/>\n",
       "<path clip-path=\"url(#clip682)\" d=\"\n",
       "M2141.71 1367.38 L2141.71 1445.72 L2231.15 1445.72 L2231.15 1367.38 L2141.71 1367.38 L2141.71 1367.38  Z\n",
       "  \" fill=\"#009af9\" fill-rule=\"evenodd\" fill-opacity=\"1\"/>\n",
       "<polyline clip-path=\"url(#clip682)\" style=\"stroke:#000000; stroke-linecap:round; stroke-linejoin:round; stroke-width:4; stroke-opacity:1; fill:none\" points=\"\n",
       "  2141.71,1367.38 2141.71,1445.72 2231.15,1445.72 2231.15,1367.38 2141.71,1367.38 \n",
       "  \"/>\n",
       "<circle clip-path=\"url(#clip682)\" style=\"fill:#009af9; stroke:none; fill-opacity:0\" cx=\"308.177\" cy=\"1419.61\" r=\"2\"/>\n",
       "<circle clip-path=\"url(#clip682)\" style=\"fill:#009af9; stroke:none; fill-opacity:0\" cx=\"397.618\" cy=\"1419.61\" r=\"2\"/>\n",
       "<circle clip-path=\"url(#clip682)\" style=\"fill:#009af9; stroke:none; fill-opacity:0\" cx=\"487.058\" cy=\"1367.38\" r=\"2\"/>\n",
       "<circle clip-path=\"url(#clip682)\" style=\"fill:#009af9; stroke:none; fill-opacity:0\" cx=\"576.499\" cy=\"1445.72\" r=\"2\"/>\n",
       "<circle clip-path=\"url(#clip682)\" style=\"fill:#009af9; stroke:none; fill-opacity:0\" cx=\"665.94\" cy=\"1419.61\" r=\"2\"/>\n",
       "<circle clip-path=\"url(#clip682)\" style=\"fill:#009af9; stroke:none; fill-opacity:0\" cx=\"755.38\" cy=\"1445.72\" r=\"2\"/>\n",
       "<circle clip-path=\"url(#clip682)\" style=\"fill:#009af9; stroke:none; fill-opacity:0\" cx=\"844.821\" cy=\"1445.72\" r=\"2\"/>\n",
       "<circle clip-path=\"url(#clip682)\" style=\"fill:#009af9; stroke:none; fill-opacity:0\" cx=\"934.262\" cy=\"1445.72\" r=\"2\"/>\n",
       "<circle clip-path=\"url(#clip682)\" style=\"fill:#009af9; stroke:none; fill-opacity:0\" cx=\"1023.7\" cy=\"1367.38\" r=\"2\"/>\n",
       "<circle clip-path=\"url(#clip682)\" style=\"fill:#009af9; stroke:none; fill-opacity:0\" cx=\"1113.14\" cy=\"1419.61\" r=\"2\"/>\n",
       "<circle clip-path=\"url(#clip682)\" style=\"fill:#009af9; stroke:none; fill-opacity:0\" cx=\"1202.58\" cy=\"1315.16\" r=\"2\"/>\n",
       "<circle clip-path=\"url(#clip682)\" style=\"fill:#009af9; stroke:none; fill-opacity:0\" cx=\"1292.02\" cy=\"1341.27\" r=\"2\"/>\n",
       "<circle clip-path=\"url(#clip682)\" style=\"fill:#009af9; stroke:none; fill-opacity:0\" cx=\"1381.47\" cy=\"1158.5\" r=\"2\"/>\n",
       "<circle clip-path=\"url(#clip682)\" style=\"fill:#009af9; stroke:none; fill-opacity:0\" cx=\"1470.91\" cy=\"401.301\" r=\"2\"/>\n",
       "<circle clip-path=\"url(#clip682)\" style=\"fill:#009af9; stroke:none; fill-opacity:0\" cx=\"1560.35\" cy=\"296.859\" r=\"2\"/>\n",
       "<circle clip-path=\"url(#clip682)\" style=\"fill:#009af9; stroke:none; fill-opacity:0\" cx=\"1649.79\" cy=\"87.9763\" r=\"2\"/>\n",
       "<circle clip-path=\"url(#clip682)\" style=\"fill:#009af9; stroke:none; fill-opacity:0\" cx=\"1739.23\" cy=\"557.963\" r=\"2\"/>\n",
       "<circle clip-path=\"url(#clip682)\" style=\"fill:#009af9; stroke:none; fill-opacity:0\" cx=\"1828.67\" cy=\"688.515\" r=\"2\"/>\n",
       "<circle clip-path=\"url(#clip682)\" style=\"fill:#009af9; stroke:none; fill-opacity:0\" cx=\"1918.11\" cy=\"1210.72\" r=\"2\"/>\n",
       "<circle clip-path=\"url(#clip682)\" style=\"fill:#009af9; stroke:none; fill-opacity:0\" cx=\"2007.55\" cy=\"1315.16\" r=\"2\"/>\n",
       "<circle clip-path=\"url(#clip682)\" style=\"fill:#009af9; stroke:none; fill-opacity:0\" cx=\"2096.99\" cy=\"1393.49\" r=\"2\"/>\n",
       "<circle clip-path=\"url(#clip682)\" style=\"fill:#009af9; stroke:none; fill-opacity:0\" cx=\"2186.43\" cy=\"1367.38\" r=\"2\"/>\n",
       "<path clip-path=\"url(#clip680)\" d=\"\n",
       "M2005.54 198.898 L2279.06 198.898 L2279.06 95.2176 L2005.54 95.2176  Z\n",
       "  \" fill=\"#ffffff\" fill-rule=\"evenodd\" fill-opacity=\"1\"/>\n",
       "<polyline clip-path=\"url(#clip680)\" style=\"stroke:#000000; stroke-linecap:round; stroke-linejoin:round; stroke-width:4; stroke-opacity:1; fill:none\" points=\"\n",
       "  2005.54,198.898 2279.06,198.898 2279.06,95.2176 2005.54,95.2176 2005.54,198.898 \n",
       "  \"/>\n",
       "<path clip-path=\"url(#clip680)\" d=\"\n",
       "M2030.1 167.794 L2177.5 167.794 L2177.5 126.322 L2030.1 126.322 L2030.1 167.794  Z\n",
       "  \" fill=\"#009af9\" fill-rule=\"evenodd\" fill-opacity=\"1\"/>\n",
       "<polyline clip-path=\"url(#clip680)\" style=\"stroke:#000000; stroke-linecap:round; stroke-linejoin:round; stroke-width:4; stroke-opacity:1; fill:none\" points=\"\n",
       "  2030.1,167.794 2177.5,167.794 2177.5,126.322 2030.1,126.322 2030.1,167.794 \n",
       "  \"/>\n",
       "<path clip-path=\"url(#clip680)\" d=\"M2215.91 166.745 Q2214.1 171.375 2212.39 172.787 Q2210.67 174.199 2207.8 174.199 L2204.4 174.199 L2204.4 170.634 L2206.9 170.634 Q2208.66 170.634 2209.63 169.8 Q2210.6 168.967 2211.79 165.865 L2212.55 163.921 L2202.06 138.412 L2206.58 138.412 L2214.68 158.689 L2222.78 138.412 L2227.29 138.412 L2215.91 166.745 Z\" fill=\"#000000\" fill-rule=\"evenodd\" fill-opacity=\"1\" /><path clip-path=\"url(#clip680)\" d=\"M2234.59 160.402 L2242.23 160.402 L2242.23 134.037 L2233.91 135.703 L2233.91 131.444 L2242.18 129.778 L2246.85 129.778 L2246.85 160.402 L2254.49 160.402 L2254.49 164.338 L2234.59 164.338 L2234.59 160.402 Z\" fill=\"#000000\" fill-rule=\"evenodd\" fill-opacity=\"1\" /></svg>\n"
      ]
     },
     "execution_count": 9,
     "metadata": {},
     "output_type": "execute_result"
    }
   ],
   "source": [
    "histogram(BXD_pheno_ind_summary_df.\"P61924_VALRGEDVPLTEQTVSQVLQSAK_3\")"
   ]
  },
  {
   "cell_type": "code",
   "execution_count": 10,
   "id": "0ff1711f-771b-432b-a230-4161835d4b52",
   "metadata": {},
   "outputs": [],
   "source": [
    "BXD_geno_ind_summary_df = CSV.read(\"data/GN886_geno_summary.csv\", DataFrame);"
   ]
  },
  {
   "cell_type": "markdown",
   "id": "2f3abf17-58be-4916-9a5f-412546a12f50",
   "metadata": {},
   "source": [
    "By individuals, there are 248 individual samples for 7321 markers."
   ]
  },
  {
   "cell_type": "code",
   "execution_count": 11,
   "id": "e7f39851-0173-4c71-b583-dd4ad554445d",
   "metadata": {},
   "outputs": [
    {
     "name": "stdout",
     "output_type": "stream",
     "text": [
      "(248, 7324)\n"
     ]
    },
    {
     "data": {
      "text/html": [
       "<div><div style = \"float: left;\"><span>10×10 DataFrame</span></div><div style = \"clear: both;\"></div></div><div class = \"data-frame\" style = \"overflow-x: scroll;\"><table class = \"data-frame\" style = \"margin-bottom: 6px;\"><thead><tr class = \"header\"><th class = \"rowNumber\" style = \"font-weight: bold; text-align: right;\">Row</th><th style = \"text-align: left;\">Sample</th><th style = \"text-align: left;\">Strain</th><th style = \"text-align: left;\">Strain_num</th><th style = \"text-align: left;\">rs31443144</th><th style = \"text-align: left;\">rs6269442</th><th style = \"text-align: left;\">rs32285189</th><th style = \"text-align: left;\">rs258367496</th><th style = \"text-align: left;\">rs32430919</th><th style = \"text-align: left;\">rs36251697</th><th style = \"text-align: left;\">rs30658298</th></tr><tr class = \"subheader headerLastRow\"><th class = \"rowNumber\" style = \"font-weight: bold; text-align: right;\"></th><th title = \"String7\" style = \"text-align: left;\">String7</th><th title = \"String7\" style = \"text-align: left;\">String7</th><th title = \"Int64\" style = \"text-align: left;\">Int64</th><th title = \"Float64\" style = \"text-align: left;\">Float64</th><th title = \"Float64\" style = \"text-align: left;\">Float64</th><th title = \"Float64\" style = \"text-align: left;\">Float64</th><th title = \"Float64\" style = \"text-align: left;\">Float64</th><th title = \"Float64\" style = \"text-align: left;\">Float64</th><th title = \"Float64\" style = \"text-align: left;\">Float64</th><th title = \"Float64\" style = \"text-align: left;\">Float64</th></tr></thead><tbody><tr><td class = \"rowNumber\" style = \"font-weight: bold; text-align: right;\">1</td><td style = \"text-align: left;\">H1009</td><td style = \"text-align: left;\">BXD9</td><td style = \"text-align: right;\">9</td><td style = \"text-align: right;\">0.0</td><td style = \"text-align: right;\">0.0</td><td style = \"text-align: right;\">0.0</td><td style = \"text-align: right;\">0.0</td><td style = \"text-align: right;\">0.0</td><td style = \"text-align: right;\">0.0</td><td style = \"text-align: right;\">0.0</td></tr><tr><td class = \"rowNumber\" style = \"font-weight: bold; text-align: right;\">2</td><td style = \"text-align: left;\">H0370</td><td style = \"text-align: left;\">BXD9</td><td style = \"text-align: right;\">9</td><td style = \"text-align: right;\">0.0</td><td style = \"text-align: right;\">0.0</td><td style = \"text-align: right;\">0.0</td><td style = \"text-align: right;\">0.0</td><td style = \"text-align: right;\">0.0</td><td style = \"text-align: right;\">0.0</td><td style = \"text-align: right;\">0.0</td></tr><tr><td class = \"rowNumber\" style = \"font-weight: bold; text-align: right;\">3</td><td style = \"text-align: left;\">H2577</td><td style = \"text-align: left;\">BXD9</td><td style = \"text-align: right;\">9</td><td style = \"text-align: right;\">0.0</td><td style = \"text-align: right;\">0.0</td><td style = \"text-align: right;\">0.0</td><td style = \"text-align: right;\">0.0</td><td style = \"text-align: right;\">0.0</td><td style = \"text-align: right;\">0.0</td><td style = \"text-align: right;\">0.0</td></tr><tr><td class = \"rowNumber\" style = \"font-weight: bold; text-align: right;\">4</td><td style = \"text-align: left;\">H0365</td><td style = \"text-align: left;\">BXD9</td><td style = \"text-align: right;\">9</td><td style = \"text-align: right;\">0.0</td><td style = \"text-align: right;\">0.0</td><td style = \"text-align: right;\">0.0</td><td style = \"text-align: right;\">0.0</td><td style = \"text-align: right;\">0.0</td><td style = \"text-align: right;\">0.0</td><td style = \"text-align: right;\">0.0</td></tr><tr><td class = \"rowNumber\" style = \"font-weight: bold; text-align: right;\">5</td><td style = \"text-align: left;\">H1333</td><td style = \"text-align: left;\">BXD13</td><td style = \"text-align: right;\">13</td><td style = \"text-align: right;\">0.0</td><td style = \"text-align: right;\">0.0</td><td style = \"text-align: right;\">0.0</td><td style = \"text-align: right;\">0.0</td><td style = \"text-align: right;\">0.0</td><td style = \"text-align: right;\">0.0</td><td style = \"text-align: right;\">0.0</td></tr><tr><td class = \"rowNumber\" style = \"font-weight: bold; text-align: right;\">6</td><td style = \"text-align: left;\">H2259</td><td style = \"text-align: left;\">BXD24</td><td style = \"text-align: right;\">24</td><td style = \"text-align: right;\">0.0</td><td style = \"text-align: right;\">0.0</td><td style = \"text-align: right;\">0.0</td><td style = \"text-align: right;\">0.0</td><td style = \"text-align: right;\">0.0</td><td style = \"text-align: right;\">0.0</td><td style = \"text-align: right;\">0.0</td></tr><tr><td class = \"rowNumber\" style = \"font-weight: bold; text-align: right;\">7</td><td style = \"text-align: left;\">H1792</td><td style = \"text-align: left;\">BXD24</td><td style = \"text-align: right;\">24</td><td style = \"text-align: right;\">0.0</td><td style = \"text-align: right;\">0.0</td><td style = \"text-align: right;\">0.0</td><td style = \"text-align: right;\">0.0</td><td style = \"text-align: right;\">0.0</td><td style = \"text-align: right;\">0.0</td><td style = \"text-align: right;\">0.0</td></tr><tr><td class = \"rowNumber\" style = \"font-weight: bold; text-align: right;\">8</td><td style = \"text-align: left;\">H1791</td><td style = \"text-align: left;\">BXD24</td><td style = \"text-align: right;\">24</td><td style = \"text-align: right;\">0.0</td><td style = \"text-align: right;\">0.0</td><td style = \"text-align: right;\">0.0</td><td style = \"text-align: right;\">0.0</td><td style = \"text-align: right;\">0.0</td><td style = \"text-align: right;\">0.0</td><td style = \"text-align: right;\">0.0</td></tr><tr><td class = \"rowNumber\" style = \"font-weight: bold; text-align: right;\">9</td><td style = \"text-align: left;\">H1541</td><td style = \"text-align: left;\">BXD24</td><td style = \"text-align: right;\">24</td><td style = \"text-align: right;\">0.0</td><td style = \"text-align: right;\">0.0</td><td style = \"text-align: right;\">0.0</td><td style = \"text-align: right;\">0.0</td><td style = \"text-align: right;\">0.0</td><td style = \"text-align: right;\">0.0</td><td style = \"text-align: right;\">0.0</td></tr><tr><td class = \"rowNumber\" style = \"font-weight: bold; text-align: right;\">10</td><td style = \"text-align: left;\">H1277</td><td style = \"text-align: left;\">BXD24</td><td style = \"text-align: right;\">24</td><td style = \"text-align: right;\">0.0</td><td style = \"text-align: right;\">0.0</td><td style = \"text-align: right;\">0.0</td><td style = \"text-align: right;\">0.0</td><td style = \"text-align: right;\">0.0</td><td style = \"text-align: right;\">0.0</td><td style = \"text-align: right;\">0.0</td></tr></tbody></table></div>"
      ],
      "text/latex": [
       "\\begin{tabular}{r|ccccccccc}\n",
       "\t& Sample & Strain & Strain\\_num & rs31443144 & rs6269442 & rs32285189 & rs258367496 & rs32430919 & \\\\\n",
       "\t\\hline\n",
       "\t& String7 & String7 & Int64 & Float64 & Float64 & Float64 & Float64 & Float64 & \\\\\n",
       "\t\\hline\n",
       "\t1 & H1009 & BXD9 & 9 & 0.0 & 0.0 & 0.0 & 0.0 & 0.0 & $\\dots$ \\\\\n",
       "\t2 & H0370 & BXD9 & 9 & 0.0 & 0.0 & 0.0 & 0.0 & 0.0 & $\\dots$ \\\\\n",
       "\t3 & H2577 & BXD9 & 9 & 0.0 & 0.0 & 0.0 & 0.0 & 0.0 & $\\dots$ \\\\\n",
       "\t4 & H0365 & BXD9 & 9 & 0.0 & 0.0 & 0.0 & 0.0 & 0.0 & $\\dots$ \\\\\n",
       "\t5 & H1333 & BXD13 & 13 & 0.0 & 0.0 & 0.0 & 0.0 & 0.0 & $\\dots$ \\\\\n",
       "\t6 & H2259 & BXD24 & 24 & 0.0 & 0.0 & 0.0 & 0.0 & 0.0 & $\\dots$ \\\\\n",
       "\t7 & H1792 & BXD24 & 24 & 0.0 & 0.0 & 0.0 & 0.0 & 0.0 & $\\dots$ \\\\\n",
       "\t8 & H1791 & BXD24 & 24 & 0.0 & 0.0 & 0.0 & 0.0 & 0.0 & $\\dots$ \\\\\n",
       "\t9 & H1541 & BXD24 & 24 & 0.0 & 0.0 & 0.0 & 0.0 & 0.0 & $\\dots$ \\\\\n",
       "\t10 & H1277 & BXD24 & 24 & 0.0 & 0.0 & 0.0 & 0.0 & 0.0 & $\\dots$ \\\\\n",
       "\\end{tabular}\n"
      ],
      "text/plain": [
       "\u001b[1m10×10 DataFrame\u001b[0m\n",
       "\u001b[1m Row \u001b[0m│\u001b[1m Sample  \u001b[0m\u001b[1m Strain  \u001b[0m\u001b[1m Strain_num \u001b[0m\u001b[1m rs31443144 \u001b[0m\u001b[1m rs6269442 \u001b[0m\u001b[1m rs32285189 \u001b[0m\u001b[1m rs2583\u001b[0m ⋯\n",
       "     │\u001b[90m String7 \u001b[0m\u001b[90m String7 \u001b[0m\u001b[90m Int64      \u001b[0m\u001b[90m Float64    \u001b[0m\u001b[90m Float64   \u001b[0m\u001b[90m Float64    \u001b[0m\u001b[90m Float6\u001b[0m ⋯\n",
       "─────┼──────────────────────────────────────────────────────────────────────────\n",
       "   1 │ H1009    BXD9              9         0.0        0.0         0.0         ⋯\n",
       "   2 │ H0370    BXD9              9         0.0        0.0         0.0\n",
       "   3 │ H2577    BXD9              9         0.0        0.0         0.0\n",
       "   4 │ H0365    BXD9              9         0.0        0.0         0.0\n",
       "   5 │ H1333    BXD13            13         0.0        0.0         0.0         ⋯\n",
       "   6 │ H2259    BXD24            24         0.0        0.0         0.0\n",
       "   7 │ H1792    BXD24            24         0.0        0.0         0.0\n",
       "   8 │ H1791    BXD24            24         0.0        0.0         0.0\n",
       "   9 │ H1541    BXD24            24         0.0        0.0         0.0         ⋯\n",
       "  10 │ H1277    BXD24            24         0.0        0.0         0.0\n",
       "\u001b[36m                                                               4 columns omitted\u001b[0m"
      ]
     },
     "execution_count": 11,
     "metadata": {},
     "output_type": "execute_result"
    }
   ],
   "source": [
    "println(size(BXD_geno_ind_summary_df)) \n",
    "BXD_geno_ind_summary_df[1:10, 1:10]"
   ]
  },
  {
   "cell_type": "markdown",
   "id": "1b3a012c-d98c-47ec-aeea-d83fc2d5dbdc",
   "metadata": {},
   "source": [
    "#### Huberized individual LPs:"
   ]
  },
  {
   "cell_type": "code",
   "execution_count": 12,
   "id": "5dc93464-ac71-4a51-aba7-b5f839bca5d4",
   "metadata": {},
   "outputs": [],
   "source": [
    "BXD_pheno_huber_ind_summary_df = CSV.read(\"data/GN886_pheno_huber_summary.csv\", DataFrame);"
   ]
  },
  {
   "cell_type": "code",
   "execution_count": 13,
   "id": "0d4d6ad5-1392-4017-b190-6dd7ab0f2167",
   "metadata": {},
   "outputs": [
    {
     "name": "stdout",
     "output_type": "stream",
     "text": [
      "(248, 32448)\n"
     ]
    },
    {
     "data": {
      "text/html": [
       "<div><div style = \"float: left;\"><span>10×10 DataFrame</span></div><div style = \"clear: both;\"></div></div><div class = \"data-frame\" style = \"overflow-x: scroll;\"><table class = \"data-frame\" style = \"margin-bottom: 6px;\"><thead><tr class = \"header\"><th class = \"rowNumber\" style = \"font-weight: bold; text-align: right;\">Row</th><th style = \"text-align: left;\">Sample</th><th style = \"text-align: left;\">Strain</th><th style = \"text-align: left;\">Strain_num</th><th style = \"text-align: left;\">P42209_DESGLNRK_2</th><th style = \"text-align: left;\">P42209_GLRPLDVAFLR_3</th><th style = \"text-align: left;\">Q99M02_VGDPVYR_2</th><th style = \"text-align: left;\">Q99M02_VWIYPIK_2</th><th style = \"text-align: left;\">Q99M02_LCDPSVK_2</th><th style = \"text-align: left;\">Q99M02_CVLTTVDPDTGIIDR_2</th><th style = \"text-align: left;\">Q99M02_LVQFDTSMK_2</th></tr><tr class = \"subheader headerLastRow\"><th class = \"rowNumber\" style = \"font-weight: bold; text-align: right;\"></th><th title = \"String7\" style = \"text-align: left;\">String7</th><th title = \"String7\" style = \"text-align: left;\">String7</th><th title = \"Int64\" style = \"text-align: left;\">Int64</th><th title = \"Float64\" style = \"text-align: left;\">Float64</th><th title = \"Float64\" style = \"text-align: left;\">Float64</th><th title = \"Float64\" style = \"text-align: left;\">Float64</th><th title = \"Float64\" style = \"text-align: left;\">Float64</th><th title = \"Float64\" style = \"text-align: left;\">Float64</th><th title = \"Float64\" style = \"text-align: left;\">Float64</th><th title = \"Float64\" style = \"text-align: left;\">Float64</th></tr></thead><tbody><tr><td class = \"rowNumber\" style = \"font-weight: bold; text-align: right;\">1</td><td style = \"text-align: left;\">H1009</td><td style = \"text-align: left;\">BXD9</td><td style = \"text-align: right;\">9</td><td style = \"text-align: right;\">11.35</td><td style = \"text-align: right;\">11.534</td><td style = \"text-align: right;\">17.587</td><td style = \"text-align: right;\">17.517</td><td style = \"text-align: right;\">17.309</td><td style = \"text-align: right;\">16.574</td><td style = \"text-align: right;\">16.323</td></tr><tr><td class = \"rowNumber\" style = \"font-weight: bold; text-align: right;\">2</td><td style = \"text-align: left;\">H0370</td><td style = \"text-align: left;\">BXD9</td><td style = \"text-align: right;\">9</td><td style = \"text-align: right;\">11.2619</td><td style = \"text-align: right;\">12.6093</td><td style = \"text-align: right;\">17.4271</td><td style = \"text-align: right;\">17.3294</td><td style = \"text-align: right;\">17.252</td><td style = \"text-align: right;\">16.685</td><td style = \"text-align: right;\">16.0223</td></tr><tr><td class = \"rowNumber\" style = \"font-weight: bold; text-align: right;\">3</td><td style = \"text-align: left;\">H2577</td><td style = \"text-align: left;\">BXD9</td><td style = \"text-align: right;\">9</td><td style = \"text-align: right;\">12.415</td><td style = \"text-align: right;\">10.5848</td><td style = \"text-align: right;\">17.8852</td><td style = \"text-align: right;\">17.488</td><td style = \"text-align: right;\">17.5905</td><td style = \"text-align: right;\">16.731</td><td style = \"text-align: right;\">16.208</td></tr><tr><td class = \"rowNumber\" style = \"font-weight: bold; text-align: right;\">4</td><td style = \"text-align: left;\">H0365</td><td style = \"text-align: left;\">BXD9</td><td style = \"text-align: right;\">9</td><td style = \"text-align: right;\">11.3741</td><td style = \"text-align: right;\">10.7134</td><td style = \"text-align: right;\">17.714</td><td style = \"text-align: right;\">17.401</td><td style = \"text-align: right;\">17.381</td><td style = \"text-align: right;\">16.621</td><td style = \"text-align: right;\">16.337</td></tr><tr><td class = \"rowNumber\" style = \"font-weight: bold; text-align: right;\">5</td><td style = \"text-align: left;\">H1333</td><td style = \"text-align: left;\">BXD13</td><td style = \"text-align: right;\">13</td><td style = \"text-align: right;\">11.687</td><td style = \"text-align: right;\">11.524</td><td style = \"text-align: right;\">17.3718</td><td style = \"text-align: right;\">17.3671</td><td style = \"text-align: right;\">17.096</td><td style = \"text-align: right;\">16.4699</td><td style = \"text-align: right;\">15.9795</td></tr><tr><td class = \"rowNumber\" style = \"font-weight: bold; text-align: right;\">6</td><td style = \"text-align: left;\">H2259</td><td style = \"text-align: left;\">BXD24</td><td style = \"text-align: right;\">24</td><td style = \"text-align: right;\">11.837</td><td style = \"text-align: right;\">11.715</td><td style = \"text-align: right;\">17.57</td><td style = \"text-align: right;\">17.792</td><td style = \"text-align: right;\">17.505</td><td style = \"text-align: right;\">16.894</td><td style = \"text-align: right;\">16.277</td></tr><tr><td class = \"rowNumber\" style = \"font-weight: bold; text-align: right;\">7</td><td style = \"text-align: left;\">H1792</td><td style = \"text-align: left;\">BXD24</td><td style = \"text-align: right;\">24</td><td style = \"text-align: right;\">11.563</td><td style = \"text-align: right;\">11.434</td><td style = \"text-align: right;\">17.789</td><td style = \"text-align: right;\">17.8432</td><td style = \"text-align: right;\">17.416</td><td style = \"text-align: right;\">17.0223</td><td style = \"text-align: right;\">16.292</td></tr><tr><td class = \"rowNumber\" style = \"font-weight: bold; text-align: right;\">8</td><td style = \"text-align: left;\">H1791</td><td style = \"text-align: left;\">BXD24</td><td style = \"text-align: right;\">24</td><td style = \"text-align: right;\">12.5</td><td style = \"text-align: right;\">12.2701</td><td style = \"text-align: right;\">17.9262</td><td style = \"text-align: right;\">17.8312</td><td style = \"text-align: right;\">17.6187</td><td style = \"text-align: right;\">16.862</td><td style = \"text-align: right;\">16.3</td></tr><tr><td class = \"rowNumber\" style = \"font-weight: bold; text-align: right;\">9</td><td style = \"text-align: left;\">H1541</td><td style = \"text-align: left;\">BXD24</td><td style = \"text-align: right;\">24</td><td style = \"text-align: right;\">11.815</td><td style = \"text-align: right;\">11.564</td><td style = \"text-align: right;\">17.794</td><td style = \"text-align: right;\">17.759</td><td style = \"text-align: right;\">17.456</td><td style = \"text-align: right;\">16.878</td><td style = \"text-align: right;\">16.377</td></tr><tr><td class = \"rowNumber\" style = \"font-weight: bold; text-align: right;\">10</td><td style = \"text-align: left;\">H1277</td><td style = \"text-align: left;\">BXD24</td><td style = \"text-align: right;\">24</td><td style = \"text-align: right;\">12.658</td><td style = \"text-align: right;\">11.743</td><td style = \"text-align: right;\">17.8646</td><td style = \"text-align: right;\">17.8415</td><td style = \"text-align: right;\">17.5758</td><td style = \"text-align: right;\">16.922</td><td style = \"text-align: right;\">16.26</td></tr></tbody></table></div>"
      ],
      "text/latex": [
       "\\begin{tabular}{r|ccccccc}\n",
       "\t& Sample & Strain & Strain\\_num & P42209\\_DESGLNRK\\_2 & P42209\\_GLRPLDVAFLR\\_3 & Q99M02\\_VGDPVYR\\_2 & \\\\\n",
       "\t\\hline\n",
       "\t& String7 & String7 & Int64 & Float64 & Float64 & Float64 & \\\\\n",
       "\t\\hline\n",
       "\t1 & H1009 & BXD9 & 9 & 11.35 & 11.534 & 17.587 & $\\dots$ \\\\\n",
       "\t2 & H0370 & BXD9 & 9 & 11.2619 & 12.6093 & 17.4271 & $\\dots$ \\\\\n",
       "\t3 & H2577 & BXD9 & 9 & 12.415 & 10.5848 & 17.8852 & $\\dots$ \\\\\n",
       "\t4 & H0365 & BXD9 & 9 & 11.3741 & 10.7134 & 17.714 & $\\dots$ \\\\\n",
       "\t5 & H1333 & BXD13 & 13 & 11.687 & 11.524 & 17.3718 & $\\dots$ \\\\\n",
       "\t6 & H2259 & BXD24 & 24 & 11.837 & 11.715 & 17.57 & $\\dots$ \\\\\n",
       "\t7 & H1792 & BXD24 & 24 & 11.563 & 11.434 & 17.789 & $\\dots$ \\\\\n",
       "\t8 & H1791 & BXD24 & 24 & 12.5 & 12.2701 & 17.9262 & $\\dots$ \\\\\n",
       "\t9 & H1541 & BXD24 & 24 & 11.815 & 11.564 & 17.794 & $\\dots$ \\\\\n",
       "\t10 & H1277 & BXD24 & 24 & 12.658 & 11.743 & 17.8646 & $\\dots$ \\\\\n",
       "\\end{tabular}\n"
      ],
      "text/plain": [
       "\u001b[1m10×10 DataFrame\u001b[0m\n",
       "\u001b[1m Row \u001b[0m│\u001b[1m Sample  \u001b[0m\u001b[1m Strain  \u001b[0m\u001b[1m Strain_num \u001b[0m\u001b[1m P42209_DESGLNRK_2 \u001b[0m\u001b[1m P42209_GLRPLDVAFLR_3 \u001b[0m\u001b[1m \u001b[0m ⋯\n",
       "     │\u001b[90m String7 \u001b[0m\u001b[90m String7 \u001b[0m\u001b[90m Int64      \u001b[0m\u001b[90m Float64           \u001b[0m\u001b[90m Float64              \u001b[0m\u001b[90m \u001b[0m ⋯\n",
       "─────┼──────────────────────────────────────────────────────────────────────────\n",
       "   1 │ H1009    BXD9              9            11.35                 11.534    ⋯\n",
       "   2 │ H0370    BXD9              9            11.2619               12.6093\n",
       "   3 │ H2577    BXD9              9            12.415                10.5848\n",
       "   4 │ H0365    BXD9              9            11.3741               10.7134\n",
       "   5 │ H1333    BXD13            13            11.687                11.524    ⋯\n",
       "   6 │ H2259    BXD24            24            11.837                11.715\n",
       "   7 │ H1792    BXD24            24            11.563                11.434\n",
       "   8 │ H1791    BXD24            24            12.5                  12.2701\n",
       "   9 │ H1541    BXD24            24            11.815                11.564    ⋯\n",
       "  10 │ H1277    BXD24            24            12.658                11.743\n",
       "\u001b[36m                                                               5 columns omitted\u001b[0m"
      ]
     },
     "execution_count": 13,
     "metadata": {},
     "output_type": "execute_result"
    }
   ],
   "source": [
    "println(size(BXD_pheno_huber_ind_summary_df)) \n",
    "BXD_pheno_huber_ind_summary_df[1:10, 1:10]"
   ]
  },
  {
   "cell_type": "code",
   "execution_count": 14,
   "id": "eaed5a58-17b1-42d0-986f-11363aaaa3d5",
   "metadata": {},
   "outputs": [
    {
     "data": {
      "image/svg+xml": [
       "<?xml version=\"1.0\" encoding=\"utf-8\"?>\n",
       "<svg xmlns=\"http://www.w3.org/2000/svg\" xmlns:xlink=\"http://www.w3.org/1999/xlink\" width=\"600\" height=\"400\" viewBox=\"0 0 2400 1600\">\n",
       "<defs>\n",
       "  <clipPath id=\"clip720\">\n",
       "    <rect x=\"0\" y=\"0\" width=\"2400\" height=\"1600\"/>\n",
       "  </clipPath>\n",
       "</defs>\n",
       "<path clip-path=\"url(#clip720)\" d=\"\n",
       "M0 1600 L2400 1600 L2400 0 L0 0  Z\n",
       "  \" fill=\"#ffffff\" fill-rule=\"evenodd\" fill-opacity=\"1\"/>\n",
       "<defs>\n",
       "  <clipPath id=\"clip721\">\n",
       "    <rect x=\"480\" y=\"0\" width=\"1681\" height=\"1600\"/>\n",
       "  </clipPath>\n",
       "</defs>\n",
       "<path clip-path=\"url(#clip720)\" d=\"\n",
       "M141.853 1486.45 L2352.76 1486.45 L2352.76 47.2441 L141.853 47.2441  Z\n",
       "  \" fill=\"#ffffff\" fill-rule=\"evenodd\" fill-opacity=\"1\"/>\n",
       "<defs>\n",
       "  <clipPath id=\"clip722\">\n",
       "    <rect x=\"141\" y=\"47\" width=\"2212\" height=\"1440\"/>\n",
       "  </clipPath>\n",
       "</defs>\n",
       "<polyline clip-path=\"url(#clip722)\" style=\"stroke:#000000; stroke-linecap:round; stroke-linejoin:round; stroke-width:2; stroke-opacity:0.1; fill:none\" points=\"\n",
       "  566.179,1486.45 566.179,47.2441 \n",
       "  \"/>\n",
       "<polyline clip-path=\"url(#clip722)\" style=\"stroke:#000000; stroke-linecap:round; stroke-linejoin:round; stroke-width:2; stroke-opacity:0.1; fill:none\" points=\"\n",
       "  1020.26,1486.45 1020.26,47.2441 \n",
       "  \"/>\n",
       "<polyline clip-path=\"url(#clip722)\" style=\"stroke:#000000; stroke-linecap:round; stroke-linejoin:round; stroke-width:2; stroke-opacity:0.1; fill:none\" points=\"\n",
       "  1474.35,1486.45 1474.35,47.2441 \n",
       "  \"/>\n",
       "<polyline clip-path=\"url(#clip722)\" style=\"stroke:#000000; stroke-linecap:round; stroke-linejoin:round; stroke-width:2; stroke-opacity:0.1; fill:none\" points=\"\n",
       "  1928.43,1486.45 1928.43,47.2441 \n",
       "  \"/>\n",
       "<polyline clip-path=\"url(#clip720)\" style=\"stroke:#000000; stroke-linecap:round; stroke-linejoin:round; stroke-width:4; stroke-opacity:1; fill:none\" points=\"\n",
       "  141.853,1486.45 2352.76,1486.45 \n",
       "  \"/>\n",
       "<polyline clip-path=\"url(#clip720)\" style=\"stroke:#000000; stroke-linecap:round; stroke-linejoin:round; stroke-width:4; stroke-opacity:1; fill:none\" points=\"\n",
       "  566.179,1486.45 566.179,1467.55 \n",
       "  \"/>\n",
       "<polyline clip-path=\"url(#clip720)\" style=\"stroke:#000000; stroke-linecap:round; stroke-linejoin:round; stroke-width:4; stroke-opacity:1; fill:none\" points=\"\n",
       "  1020.26,1486.45 1020.26,1467.55 \n",
       "  \"/>\n",
       "<polyline clip-path=\"url(#clip720)\" style=\"stroke:#000000; stroke-linecap:round; stroke-linejoin:round; stroke-width:4; stroke-opacity:1; fill:none\" points=\"\n",
       "  1474.35,1486.45 1474.35,1467.55 \n",
       "  \"/>\n",
       "<polyline clip-path=\"url(#clip720)\" style=\"stroke:#000000; stroke-linecap:round; stroke-linejoin:round; stroke-width:4; stroke-opacity:1; fill:none\" points=\"\n",
       "  1928.43,1486.45 1928.43,1467.55 \n",
       "  \"/>\n",
       "<path clip-path=\"url(#clip720)\" d=\"M518.702 1544.91 L526.341 1544.91 L526.341 1518.55 L518.031 1520.21 L518.031 1515.95 L526.295 1514.29 L530.971 1514.29 L530.971 1544.91 L538.61 1544.91 L538.61 1548.85 L518.702 1548.85 L518.702 1544.91 Z\" fill=\"#000000\" fill-rule=\"evenodd\" fill-opacity=\"1\" /><path clip-path=\"url(#clip720)\" d=\"M560.901 1518.36 L549.096 1536.81 L560.901 1536.81 L560.901 1518.36 M559.674 1514.29 L565.554 1514.29 L565.554 1536.81 L570.484 1536.81 L570.484 1540.7 L565.554 1540.7 L565.554 1548.85 L560.901 1548.85 L560.901 1540.7 L545.299 1540.7 L545.299 1536.19 L559.674 1514.29 Z\" fill=\"#000000\" fill-rule=\"evenodd\" fill-opacity=\"1\" /><path clip-path=\"url(#clip720)\" d=\"M578.216 1542.97 L583.1 1542.97 L583.1 1548.85 L578.216 1548.85 L578.216 1542.97 Z\" fill=\"#000000\" fill-rule=\"evenodd\" fill-opacity=\"1\" /><path clip-path=\"url(#clip720)\" d=\"M592.105 1514.29 L614.327 1514.29 L614.327 1516.28 L601.781 1548.85 L596.896 1548.85 L608.702 1518.22 L592.105 1518.22 L592.105 1514.29 Z\" fill=\"#000000\" fill-rule=\"evenodd\" fill-opacity=\"1\" /><path clip-path=\"url(#clip720)\" d=\"M972.335 1544.91 L979.973 1544.91 L979.973 1518.55 L971.663 1520.21 L971.663 1515.95 L979.927 1514.29 L984.603 1514.29 L984.603 1544.91 L992.242 1544.91 L992.242 1548.85 L972.335 1548.85 L972.335 1544.91 Z\" fill=\"#000000\" fill-rule=\"evenodd\" fill-opacity=\"1\" /><path clip-path=\"url(#clip720)\" d=\"M1001.73 1514.29 L1020.09 1514.29 L1020.09 1518.22 L1006.01 1518.22 L1006.01 1526.7 Q1007.03 1526.35 1008.05 1526.19 Q1009.07 1526 1010.09 1526 Q1015.88 1526 1019.26 1529.17 Q1022.64 1532.34 1022.64 1537.76 Q1022.64 1543.34 1019.16 1546.44 Q1015.69 1549.52 1009.37 1549.52 Q1007.2 1549.52 1004.93 1549.15 Q1002.68 1548.78 1000.27 1548.04 L1000.27 1543.34 Q1002.36 1544.47 1004.58 1545.03 Q1006.8 1545.58 1009.28 1545.58 Q1013.28 1545.58 1015.62 1543.48 Q1017.96 1541.37 1017.96 1537.76 Q1017.96 1534.15 1015.62 1532.04 Q1013.28 1529.94 1009.28 1529.94 Q1007.4 1529.94 1005.53 1530.35 Q1003.68 1530.77 1001.73 1531.65 L1001.73 1514.29 Z\" fill=\"#000000\" fill-rule=\"evenodd\" fill-opacity=\"1\" /><path clip-path=\"url(#clip720)\" d=\"M1031.85 1542.97 L1036.73 1542.97 L1036.73 1548.85 L1031.85 1548.85 L1031.85 1542.97 Z\" fill=\"#000000\" fill-rule=\"evenodd\" fill-opacity=\"1\" /><path clip-path=\"url(#clip720)\" d=\"M1056.92 1517.37 Q1053.31 1517.37 1051.48 1520.93 Q1049.67 1524.47 1049.67 1531.6 Q1049.67 1538.71 1051.48 1542.27 Q1053.31 1545.82 1056.92 1545.82 Q1060.55 1545.82 1062.36 1542.27 Q1064.19 1538.71 1064.19 1531.6 Q1064.19 1524.47 1062.36 1520.93 Q1060.55 1517.37 1056.92 1517.37 M1056.92 1513.66 Q1062.73 1513.66 1065.78 1518.27 Q1068.86 1522.85 1068.86 1531.6 Q1068.86 1540.33 1065.78 1544.94 Q1062.73 1549.52 1056.92 1549.52 Q1051.11 1549.52 1048.03 1544.94 Q1044.97 1540.33 1044.97 1531.6 Q1044.97 1522.85 1048.03 1518.27 Q1051.11 1513.66 1056.92 1513.66 Z\" fill=\"#000000\" fill-rule=\"evenodd\" fill-opacity=\"1\" /><path clip-path=\"url(#clip720)\" d=\"M1426.74 1544.91 L1434.38 1544.91 L1434.38 1518.55 L1426.07 1520.21 L1426.07 1515.95 L1434.33 1514.29 L1439.01 1514.29 L1439.01 1544.91 L1446.65 1544.91 L1446.65 1548.85 L1426.74 1548.85 L1426.74 1544.91 Z\" fill=\"#000000\" fill-rule=\"evenodd\" fill-opacity=\"1\" /><path clip-path=\"url(#clip720)\" d=\"M1456.14 1514.29 L1474.5 1514.29 L1474.5 1518.22 L1460.42 1518.22 L1460.42 1526.7 Q1461.44 1526.35 1462.46 1526.19 Q1463.48 1526 1464.5 1526 Q1470.28 1526 1473.66 1529.17 Q1477.04 1532.34 1477.04 1537.76 Q1477.04 1543.34 1473.57 1546.44 Q1470.1 1549.52 1463.78 1549.52 Q1461.6 1549.52 1459.33 1549.15 Q1457.09 1548.78 1454.68 1548.04 L1454.68 1543.34 Q1456.77 1544.47 1458.99 1545.03 Q1461.21 1545.58 1463.69 1545.58 Q1467.69 1545.58 1470.03 1543.48 Q1472.37 1541.37 1472.37 1537.76 Q1472.37 1534.15 1470.03 1532.04 Q1467.69 1529.94 1463.69 1529.94 Q1461.81 1529.94 1459.94 1530.35 Q1458.08 1530.77 1456.14 1531.65 L1456.14 1514.29 Z\" fill=\"#000000\" fill-rule=\"evenodd\" fill-opacity=\"1\" /><path clip-path=\"url(#clip720)\" d=\"M1486.26 1542.97 L1491.14 1542.97 L1491.14 1548.85 L1486.26 1548.85 L1486.26 1542.97 Z\" fill=\"#000000\" fill-rule=\"evenodd\" fill-opacity=\"1\" /><path clip-path=\"url(#clip720)\" d=\"M1515.49 1530.21 Q1518.85 1530.93 1520.72 1533.2 Q1522.62 1535.47 1522.62 1538.8 Q1522.62 1543.92 1519.1 1546.72 Q1515.58 1549.52 1509.1 1549.52 Q1506.93 1549.52 1504.61 1549.08 Q1502.32 1548.66 1499.87 1547.81 L1499.87 1543.29 Q1501.81 1544.43 1504.13 1545.01 Q1506.44 1545.58 1508.96 1545.58 Q1513.36 1545.58 1515.65 1543.85 Q1517.97 1542.11 1517.97 1538.8 Q1517.97 1535.75 1515.82 1534.03 Q1513.69 1532.3 1509.87 1532.3 L1505.84 1532.3 L1505.84 1528.45 L1510.05 1528.45 Q1513.5 1528.45 1515.33 1527.09 Q1517.16 1525.7 1517.16 1523.11 Q1517.16 1520.45 1515.26 1519.03 Q1513.39 1517.6 1509.87 1517.6 Q1507.95 1517.6 1505.75 1518.01 Q1503.55 1518.43 1500.91 1519.31 L1500.91 1515.14 Q1503.57 1514.4 1505.89 1514.03 Q1508.22 1513.66 1510.28 1513.66 Q1515.61 1513.66 1518.71 1516.09 Q1521.81 1518.5 1521.81 1522.62 Q1521.81 1525.49 1520.17 1527.48 Q1518.52 1529.45 1515.49 1530.21 Z\" fill=\"#000000\" fill-rule=\"evenodd\" fill-opacity=\"1\" /><path clip-path=\"url(#clip720)\" d=\"M1880.42 1544.91 L1888.06 1544.91 L1888.06 1518.55 L1879.75 1520.21 L1879.75 1515.95 L1888.01 1514.29 L1892.69 1514.29 L1892.69 1544.91 L1900.33 1544.91 L1900.33 1548.85 L1880.42 1548.85 L1880.42 1544.91 Z\" fill=\"#000000\" fill-rule=\"evenodd\" fill-opacity=\"1\" /><path clip-path=\"url(#clip720)\" d=\"M1909.82 1514.29 L1928.18 1514.29 L1928.18 1518.22 L1914.1 1518.22 L1914.1 1526.7 Q1915.12 1526.35 1916.14 1526.19 Q1917.16 1526 1918.18 1526 Q1923.96 1526 1927.34 1529.17 Q1930.72 1532.34 1930.72 1537.76 Q1930.72 1543.34 1927.25 1546.44 Q1923.78 1549.52 1917.46 1549.52 Q1915.28 1549.52 1913.01 1549.15 Q1910.77 1548.78 1908.36 1548.04 L1908.36 1543.34 Q1910.44 1544.47 1912.67 1545.03 Q1914.89 1545.58 1917.37 1545.58 Q1921.37 1545.58 1923.71 1543.48 Q1926.05 1541.37 1926.05 1537.76 Q1926.05 1534.15 1923.71 1532.04 Q1921.37 1529.94 1917.37 1529.94 Q1915.49 1529.94 1913.62 1530.35 Q1911.76 1530.77 1909.82 1531.65 L1909.82 1514.29 Z\" fill=\"#000000\" fill-rule=\"evenodd\" fill-opacity=\"1\" /><path clip-path=\"url(#clip720)\" d=\"M1939.93 1542.97 L1944.82 1542.97 L1944.82 1548.85 L1939.93 1548.85 L1939.93 1542.97 Z\" fill=\"#000000\" fill-rule=\"evenodd\" fill-opacity=\"1\" /><path clip-path=\"url(#clip720)\" d=\"M1965.58 1529.7 Q1962.43 1529.7 1960.58 1531.86 Q1958.75 1534.01 1958.75 1537.76 Q1958.75 1541.49 1960.58 1543.66 Q1962.43 1545.82 1965.58 1545.82 Q1968.73 1545.82 1970.56 1543.66 Q1972.41 1541.49 1972.41 1537.76 Q1972.41 1534.01 1970.56 1531.86 Q1968.73 1529.7 1965.58 1529.7 M1974.86 1515.05 L1974.86 1519.31 Q1973.11 1518.48 1971.3 1518.04 Q1969.52 1517.6 1967.76 1517.6 Q1963.13 1517.6 1960.68 1520.72 Q1958.24 1523.85 1957.9 1530.17 Q1959.26 1528.15 1961.32 1527.09 Q1963.38 1526 1965.86 1526 Q1971.07 1526 1974.08 1529.17 Q1977.11 1532.32 1977.11 1537.76 Q1977.11 1543.08 1973.96 1546.3 Q1970.81 1549.52 1965.58 1549.52 Q1959.59 1549.52 1956.42 1544.94 Q1953.24 1540.33 1953.24 1531.6 Q1953.24 1523.41 1957.13 1518.55 Q1961.02 1513.66 1967.57 1513.66 Q1969.33 1513.66 1971.11 1514.01 Q1972.92 1514.36 1974.86 1515.05 Z\" fill=\"#000000\" fill-rule=\"evenodd\" fill-opacity=\"1\" /><polyline clip-path=\"url(#clip722)\" style=\"stroke:#000000; stroke-linecap:round; stroke-linejoin:round; stroke-width:2; stroke-opacity:0.1; fill:none\" points=\"\n",
       "  141.853,1445.72 2352.76,1445.72 \n",
       "  \"/>\n",
       "<polyline clip-path=\"url(#clip722)\" style=\"stroke:#000000; stroke-linecap:round; stroke-linejoin:round; stroke-width:2; stroke-opacity:0.1; fill:none\" points=\"\n",
       "  141.853,1184.61 2352.76,1184.61 \n",
       "  \"/>\n",
       "<polyline clip-path=\"url(#clip722)\" style=\"stroke:#000000; stroke-linecap:round; stroke-linejoin:round; stroke-width:2; stroke-opacity:0.1; fill:none\" points=\"\n",
       "  141.853,923.508 2352.76,923.508 \n",
       "  \"/>\n",
       "<polyline clip-path=\"url(#clip722)\" style=\"stroke:#000000; stroke-linecap:round; stroke-linejoin:round; stroke-width:2; stroke-opacity:0.1; fill:none\" points=\"\n",
       "  141.853,662.404 2352.76,662.404 \n",
       "  \"/>\n",
       "<polyline clip-path=\"url(#clip722)\" style=\"stroke:#000000; stroke-linecap:round; stroke-linejoin:round; stroke-width:2; stroke-opacity:0.1; fill:none\" points=\"\n",
       "  141.853,401.301 2352.76,401.301 \n",
       "  \"/>\n",
       "<polyline clip-path=\"url(#clip722)\" style=\"stroke:#000000; stroke-linecap:round; stroke-linejoin:round; stroke-width:2; stroke-opacity:0.1; fill:none\" points=\"\n",
       "  141.853,140.197 2352.76,140.197 \n",
       "  \"/>\n",
       "<polyline clip-path=\"url(#clip720)\" style=\"stroke:#000000; stroke-linecap:round; stroke-linejoin:round; stroke-width:4; stroke-opacity:1; fill:none\" points=\"\n",
       "  141.853,1486.45 141.853,47.2441 \n",
       "  \"/>\n",
       "<polyline clip-path=\"url(#clip720)\" style=\"stroke:#000000; stroke-linecap:round; stroke-linejoin:round; stroke-width:4; stroke-opacity:1; fill:none\" points=\"\n",
       "  141.853,1445.72 160.751,1445.72 \n",
       "  \"/>\n",
       "<polyline clip-path=\"url(#clip720)\" style=\"stroke:#000000; stroke-linecap:round; stroke-linejoin:round; stroke-width:4; stroke-opacity:1; fill:none\" points=\"\n",
       "  141.853,1184.61 160.751,1184.61 \n",
       "  \"/>\n",
       "<polyline clip-path=\"url(#clip720)\" style=\"stroke:#000000; stroke-linecap:round; stroke-linejoin:round; stroke-width:4; stroke-opacity:1; fill:none\" points=\"\n",
       "  141.853,923.508 160.751,923.508 \n",
       "  \"/>\n",
       "<polyline clip-path=\"url(#clip720)\" style=\"stroke:#000000; stroke-linecap:round; stroke-linejoin:round; stroke-width:4; stroke-opacity:1; fill:none\" points=\"\n",
       "  141.853,662.404 160.751,662.404 \n",
       "  \"/>\n",
       "<polyline clip-path=\"url(#clip720)\" style=\"stroke:#000000; stroke-linecap:round; stroke-linejoin:round; stroke-width:4; stroke-opacity:1; fill:none\" points=\"\n",
       "  141.853,401.301 160.751,401.301 \n",
       "  \"/>\n",
       "<polyline clip-path=\"url(#clip720)\" style=\"stroke:#000000; stroke-linecap:round; stroke-linejoin:round; stroke-width:4; stroke-opacity:1; fill:none\" points=\"\n",
       "  141.853,140.197 160.751,140.197 \n",
       "  \"/>\n",
       "<path clip-path=\"url(#clip720)\" d=\"M93.9086 1431.51 Q90.2975 1431.51 88.4688 1435.08 Q86.6632 1438.62 86.6632 1445.75 Q86.6632 1452.86 88.4688 1456.42 Q90.2975 1459.96 93.9086 1459.96 Q97.5428 1459.96 99.3483 1456.42 Q101.177 1452.86 101.177 1445.75 Q101.177 1438.62 99.3483 1435.08 Q97.5428 1431.51 93.9086 1431.51 M93.9086 1427.81 Q99.7187 1427.81 102.774 1432.42 Q105.853 1437 105.853 1445.75 Q105.853 1454.48 102.774 1459.08 Q99.7187 1463.67 93.9086 1463.67 Q88.0984 1463.67 85.0197 1459.08 Q81.9642 1454.48 81.9642 1445.75 Q81.9642 1437 85.0197 1432.42 Q88.0984 1427.81 93.9086 1427.81 Z\" fill=\"#000000\" fill-rule=\"evenodd\" fill-opacity=\"1\" /><path clip-path=\"url(#clip720)\" d=\"M54.5569 1197.96 L62.1958 1197.96 L62.1958 1171.59 L53.8856 1173.26 L53.8856 1169 L62.1495 1167.33 L66.8254 1167.33 L66.8254 1197.96 L74.4642 1197.96 L74.4642 1201.89 L54.5569 1201.89 L54.5569 1197.96 Z\" fill=\"#000000\" fill-rule=\"evenodd\" fill-opacity=\"1\" /><path clip-path=\"url(#clip720)\" d=\"M93.9086 1170.41 Q90.2975 1170.41 88.4688 1173.98 Q86.6632 1177.52 86.6632 1184.65 Q86.6632 1191.75 88.4688 1195.32 Q90.2975 1198.86 93.9086 1198.86 Q97.5428 1198.86 99.3483 1195.32 Q101.177 1191.75 101.177 1184.65 Q101.177 1177.52 99.3483 1173.98 Q97.5428 1170.41 93.9086 1170.41 M93.9086 1166.71 Q99.7187 1166.71 102.774 1171.31 Q105.853 1175.9 105.853 1184.65 Q105.853 1193.37 102.774 1197.98 Q99.7187 1202.56 93.9086 1202.56 Q88.0984 1202.56 85.0197 1197.98 Q81.9642 1193.37 81.9642 1184.65 Q81.9642 1175.9 85.0197 1171.31 Q88.0984 1166.71 93.9086 1166.71 Z\" fill=\"#000000\" fill-rule=\"evenodd\" fill-opacity=\"1\" /><path clip-path=\"url(#clip720)\" d=\"M57.7745 936.853 L74.0939 936.853 L74.0939 940.788 L52.1495 940.788 L52.1495 936.853 Q54.8115 934.098 59.3949 929.469 Q64.0013 924.816 65.1819 923.474 Q67.4272 920.95 68.3068 919.214 Q69.2096 917.455 69.2096 915.765 Q69.2096 913.011 67.2652 911.274 Q65.3439 909.538 62.2421 909.538 Q60.043 909.538 57.5893 910.302 Q55.1588 911.066 52.381 912.617 L52.381 907.895 Q55.2051 906.761 57.6588 906.182 Q60.1124 905.603 62.1495 905.603 Q67.5198 905.603 70.7142 908.288 Q73.9087 910.974 73.9087 915.464 Q73.9087 917.594 73.0985 919.515 Q72.3115 921.413 70.205 924.006 Q69.6263 924.677 66.5245 927.895 Q63.4226 931.089 57.7745 936.853 Z\" fill=\"#000000\" fill-rule=\"evenodd\" fill-opacity=\"1\" /><path clip-path=\"url(#clip720)\" d=\"M93.9086 909.307 Q90.2975 909.307 88.4688 912.872 Q86.6632 916.413 86.6632 923.543 Q86.6632 930.649 88.4688 934.214 Q90.2975 937.756 93.9086 937.756 Q97.5428 937.756 99.3483 934.214 Q101.177 930.649 101.177 923.543 Q101.177 916.413 99.3483 912.872 Q97.5428 909.307 93.9086 909.307 M93.9086 905.603 Q99.7187 905.603 102.774 910.21 Q105.853 914.793 105.853 923.543 Q105.853 932.27 102.774 936.876 Q99.7187 941.46 93.9086 941.46 Q88.0984 941.46 85.0197 936.876 Q81.9642 932.27 81.9642 923.543 Q81.9642 914.793 85.0197 910.21 Q88.0984 905.603 93.9086 905.603 Z\" fill=\"#000000\" fill-rule=\"evenodd\" fill-opacity=\"1\" /><path clip-path=\"url(#clip720)\" d=\"M67.9133 661.05 Q71.2698 661.768 73.1448 664.036 Q75.0429 666.305 75.0429 669.638 Q75.0429 674.754 71.5244 677.555 Q68.0059 680.356 61.5245 680.356 Q59.3486 680.356 57.0338 679.916 Q54.7421 679.499 52.2884 678.643 L52.2884 674.129 Q54.2328 675.263 56.5477 675.842 Q58.8625 676.421 61.3856 676.421 Q65.7837 676.421 68.0754 674.685 Q70.3902 672.948 70.3902 669.638 Q70.3902 666.583 68.2374 664.87 Q66.1078 663.134 62.2884 663.134 L58.2606 663.134 L58.2606 659.291 L62.4735 659.291 Q65.9226 659.291 67.7513 657.925 Q69.58 656.536 69.58 653.944 Q69.58 651.282 67.6819 649.87 Q65.8069 648.435 62.2884 648.435 Q60.3671 648.435 58.168 648.851 Q55.969 649.268 53.3301 650.148 L53.3301 645.981 Q55.9921 645.24 58.3069 644.87 Q60.6449 644.499 62.705 644.499 Q68.0291 644.499 71.1309 646.93 Q74.2327 649.337 74.2327 653.458 Q74.2327 656.328 72.5892 658.319 Q70.9457 660.286 67.9133 661.05 Z\" fill=\"#000000\" fill-rule=\"evenodd\" fill-opacity=\"1\" /><path clip-path=\"url(#clip720)\" d=\"M93.9086 648.203 Q90.2975 648.203 88.4688 651.768 Q86.6632 655.31 86.6632 662.439 Q86.6632 669.546 88.4688 673.11 Q90.2975 676.652 93.9086 676.652 Q97.5428 676.652 99.3483 673.11 Q101.177 669.546 101.177 662.439 Q101.177 655.31 99.3483 651.768 Q97.5428 648.203 93.9086 648.203 M93.9086 644.499 Q99.7187 644.499 102.774 649.106 Q105.853 653.689 105.853 662.439 Q105.853 671.166 102.774 675.772 Q99.7187 680.356 93.9086 680.356 Q88.0984 680.356 85.0197 675.772 Q81.9642 671.166 81.9642 662.439 Q81.9642 653.689 85.0197 649.106 Q88.0984 644.499 93.9086 644.499 Z\" fill=\"#000000\" fill-rule=\"evenodd\" fill-opacity=\"1\" /><path clip-path=\"url(#clip720)\" d=\"M66.5939 388.095 L54.7884 406.544 L66.5939 406.544 L66.5939 388.095 M65.367 384.021 L71.2466 384.021 L71.2466 406.544 L76.1772 406.544 L76.1772 410.433 L71.2466 410.433 L71.2466 418.581 L66.5939 418.581 L66.5939 410.433 L50.9921 410.433 L50.9921 405.919 L65.367 384.021 Z\" fill=\"#000000\" fill-rule=\"evenodd\" fill-opacity=\"1\" /><path clip-path=\"url(#clip720)\" d=\"M93.9086 387.099 Q90.2975 387.099 88.4688 390.664 Q86.6632 394.206 86.6632 401.335 Q86.6632 408.442 88.4688 412.007 Q90.2975 415.548 93.9086 415.548 Q97.5428 415.548 99.3483 412.007 Q101.177 408.442 101.177 401.335 Q101.177 394.206 99.3483 390.664 Q97.5428 387.099 93.9086 387.099 M93.9086 383.396 Q99.7187 383.396 102.774 388.002 Q105.853 392.586 105.853 401.335 Q105.853 410.062 102.774 414.669 Q99.7187 419.252 93.9086 419.252 Q88.0984 419.252 85.0197 414.669 Q81.9642 410.062 81.9642 401.335 Q81.9642 392.586 85.0197 388.002 Q88.0984 383.396 93.9086 383.396 Z\" fill=\"#000000\" fill-rule=\"evenodd\" fill-opacity=\"1\" /><path clip-path=\"url(#clip720)\" d=\"M53.793 122.917 L72.1494 122.917 L72.1494 126.852 L58.0754 126.852 L58.0754 135.324 Q59.0939 134.977 60.1124 134.815 Q61.131 134.63 62.1495 134.63 Q67.9365 134.63 71.3161 137.801 Q74.6957 140.972 74.6957 146.389 Q74.6957 151.968 71.2235 155.07 Q67.7513 158.148 61.4319 158.148 Q59.256 158.148 56.9875 157.778 Q54.7421 157.408 52.3347 156.667 L52.3347 151.968 Q54.418 153.102 56.6402 153.658 Q58.8625 154.213 61.3393 154.213 Q65.3439 154.213 67.6819 152.107 Q70.0198 150 70.0198 146.389 Q70.0198 142.778 67.6819 140.672 Q65.3439 138.565 61.3393 138.565 Q59.4643 138.565 57.5893 138.982 Q55.7375 139.398 53.793 140.278 L53.793 122.917 Z\" fill=\"#000000\" fill-rule=\"evenodd\" fill-opacity=\"1\" /><path clip-path=\"url(#clip720)\" d=\"M93.9086 125.996 Q90.2975 125.996 88.4688 129.561 Q86.6632 133.102 86.6632 140.232 Q86.6632 147.338 88.4688 150.903 Q90.2975 154.445 93.9086 154.445 Q97.5428 154.445 99.3483 150.903 Q101.177 147.338 101.177 140.232 Q101.177 133.102 99.3483 129.561 Q97.5428 125.996 93.9086 125.996 M93.9086 122.292 Q99.7187 122.292 102.774 126.898 Q105.853 131.482 105.853 140.232 Q105.853 148.959 102.774 153.565 Q99.7187 158.148 93.9086 158.148 Q88.0984 158.148 85.0197 153.565 Q81.9642 148.959 81.9642 140.232 Q81.9642 131.482 85.0197 126.898 Q88.0984 122.292 93.9086 122.292 Z\" fill=\"#000000\" fill-rule=\"evenodd\" fill-opacity=\"1\" /><path clip-path=\"url(#clip722)\" d=\"\n",
       "M263.457 1393.49 L263.457 1445.72 L414.818 1445.72 L414.818 1393.49 L263.457 1393.49 L263.457 1393.49  Z\n",
       "  \" fill=\"#009af9\" fill-rule=\"evenodd\" fill-opacity=\"1\"/>\n",
       "<polyline clip-path=\"url(#clip722)\" style=\"stroke:#000000; stroke-linecap:round; stroke-linejoin:round; stroke-width:4; stroke-opacity:1; fill:none\" points=\"\n",
       "  263.457,1393.49 263.457,1445.72 414.818,1445.72 414.818,1393.49 263.457,1393.49 \n",
       "  \"/>\n",
       "<path clip-path=\"url(#clip722)\" d=\"\n",
       "M414.818 1367.38 L414.818 1445.72 L566.179 1445.72 L566.179 1367.38 L414.818 1367.38 L414.818 1367.38  Z\n",
       "  \" fill=\"#009af9\" fill-rule=\"evenodd\" fill-opacity=\"1\"/>\n",
       "<polyline clip-path=\"url(#clip722)\" style=\"stroke:#000000; stroke-linecap:round; stroke-linejoin:round; stroke-width:4; stroke-opacity:1; fill:none\" points=\"\n",
       "  414.818,1367.38 414.818,1445.72 566.179,1445.72 566.179,1367.38 414.818,1367.38 \n",
       "  \"/>\n",
       "<path clip-path=\"url(#clip722)\" d=\"\n",
       "M566.179 1419.61 L566.179 1445.72 L717.54 1445.72 L717.54 1419.61 L566.179 1419.61 L566.179 1419.61  Z\n",
       "  \" fill=\"#009af9\" fill-rule=\"evenodd\" fill-opacity=\"1\"/>\n",
       "<polyline clip-path=\"url(#clip722)\" style=\"stroke:#000000; stroke-linecap:round; stroke-linejoin:round; stroke-width:4; stroke-opacity:1; fill:none\" points=\"\n",
       "  566.179,1419.61 566.179,1445.72 717.54,1445.72 717.54,1419.61 566.179,1419.61 \n",
       "  \"/>\n",
       "<path clip-path=\"url(#clip722)\" d=\"\n",
       "M717.54 1341.27 L717.54 1445.72 L868.901 1445.72 L868.901 1341.27 L717.54 1341.27 L717.54 1341.27  Z\n",
       "  \" fill=\"#009af9\" fill-rule=\"evenodd\" fill-opacity=\"1\"/>\n",
       "<polyline clip-path=\"url(#clip722)\" style=\"stroke:#000000; stroke-linecap:round; stroke-linejoin:round; stroke-width:4; stroke-opacity:1; fill:none\" points=\"\n",
       "  717.54,1341.27 717.54,1445.72 868.901,1445.72 868.901,1341.27 717.54,1341.27 \n",
       "  \"/>\n",
       "<path clip-path=\"url(#clip722)\" d=\"\n",
       "M868.901 1262.94 L868.901 1445.72 L1020.26 1445.72 L1020.26 1262.94 L868.901 1262.94 L868.901 1262.94  Z\n",
       "  \" fill=\"#009af9\" fill-rule=\"evenodd\" fill-opacity=\"1\"/>\n",
       "<polyline clip-path=\"url(#clip722)\" style=\"stroke:#000000; stroke-linecap:round; stroke-linejoin:round; stroke-width:4; stroke-opacity:1; fill:none\" points=\"\n",
       "  868.901,1262.94 868.901,1445.72 1020.26,1445.72 1020.26,1262.94 868.901,1262.94 \n",
       "  \"/>\n",
       "<path clip-path=\"url(#clip722)\" d=\"\n",
       "M1020.26 1106.28 L1020.26 1445.72 L1171.62 1445.72 L1171.62 1106.28 L1020.26 1106.28 L1020.26 1106.28  Z\n",
       "  \" fill=\"#009af9\" fill-rule=\"evenodd\" fill-opacity=\"1\"/>\n",
       "<polyline clip-path=\"url(#clip722)\" style=\"stroke:#000000; stroke-linecap:round; stroke-linejoin:round; stroke-width:4; stroke-opacity:1; fill:none\" points=\"\n",
       "  1020.26,1106.28 1020.26,1445.72 1171.62,1445.72 1171.62,1106.28 1020.26,1106.28 \n",
       "  \"/>\n",
       "<path clip-path=\"url(#clip722)\" d=\"\n",
       "M1171.62 401.301 L1171.62 1445.72 L1322.99 1445.72 L1322.99 401.301 L1171.62 401.301 L1171.62 401.301  Z\n",
       "  \" fill=\"#009af9\" fill-rule=\"evenodd\" fill-opacity=\"1\"/>\n",
       "<polyline clip-path=\"url(#clip722)\" style=\"stroke:#000000; stroke-linecap:round; stroke-linejoin:round; stroke-width:4; stroke-opacity:1; fill:none\" points=\"\n",
       "  1171.62,401.301 1171.62,1445.72 1322.99,1445.72 1322.99,401.301 1171.62,401.301 \n",
       "  \"/>\n",
       "<path clip-path=\"url(#clip722)\" d=\"\n",
       "M1322.99 296.859 L1322.99 1445.72 L1474.35 1445.72 L1474.35 296.859 L1322.99 296.859 L1322.99 296.859  Z\n",
       "  \" fill=\"#009af9\" fill-rule=\"evenodd\" fill-opacity=\"1\"/>\n",
       "<polyline clip-path=\"url(#clip722)\" style=\"stroke:#000000; stroke-linecap:round; stroke-linejoin:round; stroke-width:4; stroke-opacity:1; fill:none\" points=\"\n",
       "  1322.99,296.859 1322.99,1445.72 1474.35,1445.72 1474.35,296.859 1322.99,296.859 \n",
       "  \"/>\n",
       "<path clip-path=\"url(#clip722)\" d=\"\n",
       "M1474.35 87.9763 L1474.35 1445.72 L1625.71 1445.72 L1625.71 87.9763 L1474.35 87.9763 L1474.35 87.9763  Z\n",
       "  \" fill=\"#009af9\" fill-rule=\"evenodd\" fill-opacity=\"1\"/>\n",
       "<polyline clip-path=\"url(#clip722)\" style=\"stroke:#000000; stroke-linecap:round; stroke-linejoin:round; stroke-width:4; stroke-opacity:1; fill:none\" points=\"\n",
       "  1474.35,87.9763 1474.35,1445.72 1625.71,1445.72 1625.71,87.9763 1474.35,87.9763 \n",
       "  \"/>\n",
       "<path clip-path=\"url(#clip722)\" d=\"\n",
       "M1625.71 557.963 L1625.71 1445.72 L1777.07 1445.72 L1777.07 557.963 L1625.71 557.963 L1625.71 557.963  Z\n",
       "  \" fill=\"#009af9\" fill-rule=\"evenodd\" fill-opacity=\"1\"/>\n",
       "<polyline clip-path=\"url(#clip722)\" style=\"stroke:#000000; stroke-linecap:round; stroke-linejoin:round; stroke-width:4; stroke-opacity:1; fill:none\" points=\"\n",
       "  1625.71,557.963 1625.71,1445.72 1777.07,1445.72 1777.07,557.963 1625.71,557.963 \n",
       "  \"/>\n",
       "<path clip-path=\"url(#clip722)\" d=\"\n",
       "M1777.07 636.294 L1777.07 1445.72 L1928.43 1445.72 L1928.43 636.294 L1777.07 636.294 L1777.07 636.294  Z\n",
       "  \" fill=\"#009af9\" fill-rule=\"evenodd\" fill-opacity=\"1\"/>\n",
       "<polyline clip-path=\"url(#clip722)\" style=\"stroke:#000000; stroke-linecap:round; stroke-linejoin:round; stroke-width:4; stroke-opacity:1; fill:none\" points=\"\n",
       "  1777.07,636.294 1777.07,1445.72 1928.43,1445.72 1928.43,636.294 1777.07,636.294 \n",
       "  \"/>\n",
       "<path clip-path=\"url(#clip722)\" d=\"\n",
       "M1928.43 1132.39 L1928.43 1445.72 L2079.79 1445.72 L2079.79 1132.39 L1928.43 1132.39 L1928.43 1132.39  Z\n",
       "  \" fill=\"#009af9\" fill-rule=\"evenodd\" fill-opacity=\"1\"/>\n",
       "<polyline clip-path=\"url(#clip722)\" style=\"stroke:#000000; stroke-linecap:round; stroke-linejoin:round; stroke-width:4; stroke-opacity:1; fill:none\" points=\"\n",
       "  1928.43,1132.39 1928.43,1445.72 2079.79,1445.72 2079.79,1132.39 1928.43,1132.39 \n",
       "  \"/>\n",
       "<path clip-path=\"url(#clip722)\" d=\"\n",
       "M2079.79 1315.16 L2079.79 1445.72 L2231.15 1445.72 L2231.15 1315.16 L2079.79 1315.16 L2079.79 1315.16  Z\n",
       "  \" fill=\"#009af9\" fill-rule=\"evenodd\" fill-opacity=\"1\"/>\n",
       "<polyline clip-path=\"url(#clip722)\" style=\"stroke:#000000; stroke-linecap:round; stroke-linejoin:round; stroke-width:4; stroke-opacity:1; fill:none\" points=\"\n",
       "  2079.79,1315.16 2079.79,1445.72 2231.15,1445.72 2231.15,1315.16 2079.79,1315.16 \n",
       "  \"/>\n",
       "<circle clip-path=\"url(#clip722)\" style=\"fill:#009af9; stroke:none; fill-opacity:0\" cx=\"339.137\" cy=\"1393.49\" r=\"2\"/>\n",
       "<circle clip-path=\"url(#clip722)\" style=\"fill:#009af9; stroke:none; fill-opacity:0\" cx=\"490.498\" cy=\"1367.38\" r=\"2\"/>\n",
       "<circle clip-path=\"url(#clip722)\" style=\"fill:#009af9; stroke:none; fill-opacity:0\" cx=\"641.86\" cy=\"1419.61\" r=\"2\"/>\n",
       "<circle clip-path=\"url(#clip722)\" style=\"fill:#009af9; stroke:none; fill-opacity:0\" cx=\"793.221\" cy=\"1341.27\" r=\"2\"/>\n",
       "<circle clip-path=\"url(#clip722)\" style=\"fill:#009af9; stroke:none; fill-opacity:0\" cx=\"944.582\" cy=\"1262.94\" r=\"2\"/>\n",
       "<circle clip-path=\"url(#clip722)\" style=\"fill:#009af9; stroke:none; fill-opacity:0\" cx=\"1095.94\" cy=\"1106.28\" r=\"2\"/>\n",
       "<circle clip-path=\"url(#clip722)\" style=\"fill:#009af9; stroke:none; fill-opacity:0\" cx=\"1247.3\" cy=\"401.301\" r=\"2\"/>\n",
       "<circle clip-path=\"url(#clip722)\" style=\"fill:#009af9; stroke:none; fill-opacity:0\" cx=\"1398.67\" cy=\"296.859\" r=\"2\"/>\n",
       "<circle clip-path=\"url(#clip722)\" style=\"fill:#009af9; stroke:none; fill-opacity:0\" cx=\"1550.03\" cy=\"87.9763\" r=\"2\"/>\n",
       "<circle clip-path=\"url(#clip722)\" style=\"fill:#009af9; stroke:none; fill-opacity:0\" cx=\"1701.39\" cy=\"557.963\" r=\"2\"/>\n",
       "<circle clip-path=\"url(#clip722)\" style=\"fill:#009af9; stroke:none; fill-opacity:0\" cx=\"1852.75\" cy=\"636.294\" r=\"2\"/>\n",
       "<circle clip-path=\"url(#clip722)\" style=\"fill:#009af9; stroke:none; fill-opacity:0\" cx=\"2004.11\" cy=\"1132.39\" r=\"2\"/>\n",
       "<circle clip-path=\"url(#clip722)\" style=\"fill:#009af9; stroke:none; fill-opacity:0\" cx=\"2155.47\" cy=\"1315.16\" r=\"2\"/>\n",
       "<path clip-path=\"url(#clip720)\" d=\"\n",
       "M2005.54 198.898 L2279.06 198.898 L2279.06 95.2176 L2005.54 95.2176  Z\n",
       "  \" fill=\"#ffffff\" fill-rule=\"evenodd\" fill-opacity=\"1\"/>\n",
       "<polyline clip-path=\"url(#clip720)\" style=\"stroke:#000000; stroke-linecap:round; stroke-linejoin:round; stroke-width:4; stroke-opacity:1; fill:none\" points=\"\n",
       "  2005.54,198.898 2279.06,198.898 2279.06,95.2176 2005.54,95.2176 2005.54,198.898 \n",
       "  \"/>\n",
       "<path clip-path=\"url(#clip720)\" d=\"\n",
       "M2030.1 167.794 L2177.5 167.794 L2177.5 126.322 L2030.1 126.322 L2030.1 167.794  Z\n",
       "  \" fill=\"#009af9\" fill-rule=\"evenodd\" fill-opacity=\"1\"/>\n",
       "<polyline clip-path=\"url(#clip720)\" style=\"stroke:#000000; stroke-linecap:round; stroke-linejoin:round; stroke-width:4; stroke-opacity:1; fill:none\" points=\"\n",
       "  2030.1,167.794 2177.5,167.794 2177.5,126.322 2030.1,126.322 2030.1,167.794 \n",
       "  \"/>\n",
       "<path clip-path=\"url(#clip720)\" d=\"M2215.91 166.745 Q2214.1 171.375 2212.39 172.787 Q2210.67 174.199 2207.8 174.199 L2204.4 174.199 L2204.4 170.634 L2206.9 170.634 Q2208.66 170.634 2209.63 169.8 Q2210.6 168.967 2211.79 165.865 L2212.55 163.921 L2202.06 138.412 L2206.58 138.412 L2214.68 158.689 L2222.78 138.412 L2227.29 138.412 L2215.91 166.745 Z\" fill=\"#000000\" fill-rule=\"evenodd\" fill-opacity=\"1\" /><path clip-path=\"url(#clip720)\" d=\"M2234.59 160.402 L2242.23 160.402 L2242.23 134.037 L2233.91 135.703 L2233.91 131.444 L2242.18 129.778 L2246.85 129.778 L2246.85 160.402 L2254.49 160.402 L2254.49 164.338 L2234.59 164.338 L2234.59 160.402 Z\" fill=\"#000000\" fill-rule=\"evenodd\" fill-opacity=\"1\" /></svg>\n"
      ]
     },
     "execution_count": 14,
     "metadata": {},
     "output_type": "execute_result"
    }
   ],
   "source": [
    "histogram(BXD_pheno_huber_ind_summary_df.\"P61924_VALRGEDVPLTEQTVSQVLQSAK_3\")"
   ]
  },
  {
   "cell_type": "markdown",
   "id": "09ec71ff-4361-42b5-b7be-b5b67963dc81",
   "metadata": {},
   "source": [
    "### By strains:"
   ]
  },
  {
   "cell_type": "code",
   "execution_count": 15,
   "id": "87fab8f1-fbe4-49d2-94cc-0163ac9ad461",
   "metadata": {},
   "outputs": [],
   "source": [
    "BXD_pheno_strains_summary_df = CSV.read(\"data/GN886_pheno_strain_means_summary.csv\", DataFrame);"
   ]
  },
  {
   "cell_type": "markdown",
   "id": "2255810e-cdd7-4473-a605-8a96126cbad0",
   "metadata": {},
   "source": [
    "By strains, there are 50 BXD strains for 32445 liver proteome."
   ]
  },
  {
   "cell_type": "code",
   "execution_count": 16,
   "id": "f5441670-3929-420d-a6c3-ceb794ea9cb1",
   "metadata": {},
   "outputs": [
    {
     "name": "stdout",
     "output_type": "stream",
     "text": [
      "(50, 32447)\n"
     ]
    },
    {
     "data": {
      "text/html": [
       "<div><div style = \"float: left;\"><span>10×10 DataFrame</span></div><div style = \"clear: both;\"></div></div><div class = \"data-frame\" style = \"overflow-x: scroll;\"><table class = \"data-frame\" style = \"margin-bottom: 6px;\"><thead><tr class = \"header\"><th class = \"rowNumber\" style = \"font-weight: bold; text-align: right;\">Row</th><th style = \"text-align: left;\">Strain</th><th style = \"text-align: left;\">Number of Samples</th><th style = \"text-align: left;\">P42209_DESGLNRK_2</th><th style = \"text-align: left;\">P42209_GLRPLDVAFLR_3</th><th style = \"text-align: left;\">Q99M02_VGDPVYR_2</th><th style = \"text-align: left;\">Q99M02_VWIYPIK_2</th><th style = \"text-align: left;\">Q99M02_LCDPSVK_2</th><th style = \"text-align: left;\">Q99M02_CVLTTVDPDTGIIDR_2</th><th style = \"text-align: left;\">Q99M02_LVQFDTSMK_2</th><th style = \"text-align: left;\">Q99M02_QLQQVGTVSK_2</th></tr><tr class = \"subheader headerLastRow\"><th class = \"rowNumber\" style = \"font-weight: bold; text-align: right;\"></th><th title = \"String7\" style = \"text-align: left;\">String7</th><th title = \"Int64\" style = \"text-align: left;\">Int64</th><th title = \"Float64\" style = \"text-align: left;\">Float64</th><th title = \"Float64\" style = \"text-align: left;\">Float64</th><th title = \"Float64\" style = \"text-align: left;\">Float64</th><th title = \"Float64\" style = \"text-align: left;\">Float64</th><th title = \"Float64\" style = \"text-align: left;\">Float64</th><th title = \"Float64\" style = \"text-align: left;\">Float64</th><th title = \"Float64\" style = \"text-align: left;\">Float64</th><th title = \"Float64\" style = \"text-align: left;\">Float64</th></tr></thead><tbody><tr><td class = \"rowNumber\" style = \"font-weight: bold; text-align: right;\">1</td><td style = \"text-align: left;\">BXD9</td><td style = \"text-align: right;\">4</td><td style = \"text-align: right;\">11.5968</td><td style = \"text-align: right;\">11.3575</td><td style = \"text-align: right;\">17.6545</td><td style = \"text-align: right;\">17.4327</td><td style = \"text-align: right;\">17.384</td><td style = \"text-align: right;\">16.6528</td><td style = \"text-align: right;\">16.2222</td><td style = \"text-align: right;\">16.3227</td></tr><tr><td class = \"rowNumber\" style = \"font-weight: bold; text-align: right;\">2</td><td style = \"text-align: left;\">BXD13</td><td style = \"text-align: right;\">1</td><td style = \"text-align: right;\">11.687</td><td style = \"text-align: right;\">11.524</td><td style = \"text-align: right;\">17.362</td><td style = \"text-align: right;\">17.367</td><td style = \"text-align: right;\">17.071</td><td style = \"text-align: right;\">16.465</td><td style = \"text-align: right;\">15.97</td><td style = \"text-align: right;\">15.98</td></tr><tr><td class = \"rowNumber\" style = \"font-weight: bold; text-align: right;\">3</td><td style = \"text-align: left;\">BXD24</td><td style = \"text-align: right;\">5</td><td style = \"text-align: right;\">12.0778</td><td style = \"text-align: right;\">11.7458</td><td style = \"text-align: right;\">17.7926</td><td style = \"text-align: right;\">17.8152</td><td style = \"text-align: right;\">17.5168</td><td style = \"text-align: right;\">16.9196</td><td style = \"text-align: right;\">16.3012</td><td style = \"text-align: right;\">16.4304</td></tr><tr><td class = \"rowNumber\" style = \"font-weight: bold; text-align: right;\">4</td><td style = \"text-align: left;\">BXD27</td><td style = \"text-align: right;\">3</td><td style = \"text-align: right;\">11.717</td><td style = \"text-align: right;\">11.149</td><td style = \"text-align: right;\">17.336</td><td style = \"text-align: right;\">17.3143</td><td style = \"text-align: right;\">17.165</td><td style = \"text-align: right;\">16.5283</td><td style = \"text-align: right;\">15.9407</td><td style = \"text-align: right;\">16.002</td></tr><tr><td class = \"rowNumber\" style = \"font-weight: bold; text-align: right;\">5</td><td style = \"text-align: left;\">BXD29</td><td style = \"text-align: right;\">11</td><td style = \"text-align: right;\">11.735</td><td style = \"text-align: right;\">11.3496</td><td style = \"text-align: right;\">17.4583</td><td style = \"text-align: right;\">17.3877</td><td style = \"text-align: right;\">17.2431</td><td style = \"text-align: right;\">16.4945</td><td style = \"text-align: right;\">16.0869</td><td style = \"text-align: right;\">16.1075</td></tr><tr><td class = \"rowNumber\" style = \"font-weight: bold; text-align: right;\">6</td><td style = \"text-align: left;\">BXD32</td><td style = \"text-align: right;\">8</td><td style = \"text-align: right;\">11.6266</td><td style = \"text-align: right;\">11.554</td><td style = \"text-align: right;\">17.8254</td><td style = \"text-align: right;\">17.7716</td><td style = \"text-align: right;\">17.4639</td><td style = \"text-align: right;\">16.9029</td><td style = \"text-align: right;\">16.434</td><td style = \"text-align: right;\">16.425</td></tr><tr><td class = \"rowNumber\" style = \"font-weight: bold; text-align: right;\">7</td><td style = \"text-align: left;\">BXD34</td><td style = \"text-align: right;\">13</td><td style = \"text-align: right;\">11.7491</td><td style = \"text-align: right;\">11.9135</td><td style = \"text-align: right;\">17.6108</td><td style = \"text-align: right;\">17.5974</td><td style = \"text-align: right;\">17.2988</td><td style = \"text-align: right;\">16.7761</td><td style = \"text-align: right;\">16.3147</td><td style = \"text-align: right;\">16.2926</td></tr><tr><td class = \"rowNumber\" style = \"font-weight: bold; text-align: right;\">8</td><td style = \"text-align: left;\">BXD39</td><td style = \"text-align: right;\">5</td><td style = \"text-align: right;\">11.9158</td><td style = \"text-align: right;\">11.719</td><td style = \"text-align: right;\">17.395</td><td style = \"text-align: right;\">17.385</td><td style = \"text-align: right;\">17.157</td><td style = \"text-align: right;\">16.5226</td><td style = \"text-align: right;\">16.179</td><td style = \"text-align: right;\">16.0594</td></tr><tr><td class = \"rowNumber\" style = \"font-weight: bold; text-align: right;\">9</td><td style = \"text-align: left;\">BXD40</td><td style = \"text-align: right;\">8</td><td style = \"text-align: right;\">11.8651</td><td style = \"text-align: right;\">11.6817</td><td style = \"text-align: right;\">17.5986</td><td style = \"text-align: right;\">17.6386</td><td style = \"text-align: right;\">17.3861</td><td style = \"text-align: right;\">16.6824</td><td style = \"text-align: right;\">16.2855</td><td style = \"text-align: right;\">16.2523</td></tr><tr><td class = \"rowNumber\" style = \"font-weight: bold; text-align: right;\">10</td><td style = \"text-align: left;\">BXD43</td><td style = \"text-align: right;\">4</td><td style = \"text-align: right;\">12.378</td><td style = \"text-align: right;\">11.4563</td><td style = \"text-align: right;\">17.76</td><td style = \"text-align: right;\">17.8035</td><td style = \"text-align: right;\">17.3652</td><td style = \"text-align: right;\">16.885</td><td style = \"text-align: right;\">16.5245</td><td style = \"text-align: right;\">16.3532</td></tr></tbody></table></div>"
      ],
      "text/latex": [
       "\\begin{tabular}{r|cccccc}\n",
       "\t& Strain & Number of Samples & P42209\\_DESGLNRK\\_2 & P42209\\_GLRPLDVAFLR\\_3 & Q99M02\\_VGDPVYR\\_2 & \\\\\n",
       "\t\\hline\n",
       "\t& String7 & Int64 & Float64 & Float64 & Float64 & \\\\\n",
       "\t\\hline\n",
       "\t1 & BXD9 & 4 & 11.5968 & 11.3575 & 17.6545 & $\\dots$ \\\\\n",
       "\t2 & BXD13 & 1 & 11.687 & 11.524 & 17.362 & $\\dots$ \\\\\n",
       "\t3 & BXD24 & 5 & 12.0778 & 11.7458 & 17.7926 & $\\dots$ \\\\\n",
       "\t4 & BXD27 & 3 & 11.717 & 11.149 & 17.336 & $\\dots$ \\\\\n",
       "\t5 & BXD29 & 11 & 11.735 & 11.3496 & 17.4583 & $\\dots$ \\\\\n",
       "\t6 & BXD32 & 8 & 11.6266 & 11.554 & 17.8254 & $\\dots$ \\\\\n",
       "\t7 & BXD34 & 13 & 11.7491 & 11.9135 & 17.6108 & $\\dots$ \\\\\n",
       "\t8 & BXD39 & 5 & 11.9158 & 11.719 & 17.395 & $\\dots$ \\\\\n",
       "\t9 & BXD40 & 8 & 11.8651 & 11.6817 & 17.5986 & $\\dots$ \\\\\n",
       "\t10 & BXD43 & 4 & 12.378 & 11.4563 & 17.76 & $\\dots$ \\\\\n",
       "\\end{tabular}\n"
      ],
      "text/plain": [
       "\u001b[1m10×10 DataFrame\u001b[0m\n",
       "\u001b[1m Row \u001b[0m│\u001b[1m Strain  \u001b[0m\u001b[1m Number of Samples \u001b[0m\u001b[1m P42209_DESGLNRK_2 \u001b[0m\u001b[1m P42209_GLRPLDVAFLR_3 \u001b[0m\u001b[1m Q9\u001b[0m ⋯\n",
       "     │\u001b[90m String7 \u001b[0m\u001b[90m Int64             \u001b[0m\u001b[90m Float64           \u001b[0m\u001b[90m Float64              \u001b[0m\u001b[90m Fl\u001b[0m ⋯\n",
       "─────┼──────────────────────────────────────────────────────────────────────────\n",
       "   1 │ BXD9                     4            11.5968               11.3575     ⋯\n",
       "   2 │ BXD13                    1            11.687                11.524\n",
       "   3 │ BXD24                    5            12.0778               11.7458\n",
       "   4 │ BXD27                    3            11.717                11.149\n",
       "   5 │ BXD29                   11            11.735                11.3496     ⋯\n",
       "   6 │ BXD32                    8            11.6266               11.554\n",
       "   7 │ BXD34                   13            11.7491               11.9135\n",
       "   8 │ BXD39                    5            11.9158               11.719\n",
       "   9 │ BXD40                    8            11.8651               11.6817     ⋯\n",
       "  10 │ BXD43                    4            12.378                11.4563\n",
       "\u001b[36m                                                               6 columns omitted\u001b[0m"
      ]
     },
     "execution_count": 16,
     "metadata": {},
     "output_type": "execute_result"
    }
   ],
   "source": [
    "println(size(BXD_pheno_strains_summary_df)) \n",
    "BXD_pheno_strains_summary_df[1:10, 1:10]"
   ]
  },
  {
   "cell_type": "code",
   "execution_count": 17,
   "id": "016e1679-349f-4ee8-a248-7882bbee07c5",
   "metadata": {},
   "outputs": [
    {
     "data": {
      "image/svg+xml": [
       "<?xml version=\"1.0\" encoding=\"utf-8\"?>\n",
       "<svg xmlns=\"http://www.w3.org/2000/svg\" xmlns:xlink=\"http://www.w3.org/1999/xlink\" width=\"600\" height=\"400\" viewBox=\"0 0 2400 1600\">\n",
       "<defs>\n",
       "  <clipPath id=\"clip760\">\n",
       "    <rect x=\"0\" y=\"0\" width=\"2400\" height=\"1600\"/>\n",
       "  </clipPath>\n",
       "</defs>\n",
       "<path clip-path=\"url(#clip760)\" d=\"\n",
       "M0 1600 L2400 1600 L2400 0 L0 0  Z\n",
       "  \" fill=\"#ffffff\" fill-rule=\"evenodd\" fill-opacity=\"1\"/>\n",
       "<defs>\n",
       "  <clipPath id=\"clip761\">\n",
       "    <rect x=\"480\" y=\"0\" width=\"1681\" height=\"1600\"/>\n",
       "  </clipPath>\n",
       "</defs>\n",
       "<path clip-path=\"url(#clip760)\" d=\"\n",
       "M138.959 1486.45 L2352.76 1486.45 L2352.76 47.2441 L138.959 47.2441  Z\n",
       "  \" fill=\"#ffffff\" fill-rule=\"evenodd\" fill-opacity=\"1\"/>\n",
       "<defs>\n",
       "  <clipPath id=\"clip762\">\n",
       "    <rect x=\"138\" y=\"47\" width=\"2215\" height=\"1440\"/>\n",
       "  </clipPath>\n",
       "</defs>\n",
       "<polyline clip-path=\"url(#clip762)\" style=\"stroke:#000000; stroke-linecap:round; stroke-linejoin:round; stroke-width:2; stroke-opacity:0.1; fill:none\" points=\"\n",
       "  392.074,1486.45 392.074,47.2441 \n",
       "  \"/>\n",
       "<polyline clip-path=\"url(#clip762)\" style=\"stroke:#000000; stroke-linecap:round; stroke-linejoin:round; stroke-width:2; stroke-opacity:0.1; fill:none\" points=\"\n",
       "  786.128,1486.45 786.128,47.2441 \n",
       "  \"/>\n",
       "<polyline clip-path=\"url(#clip762)\" style=\"stroke:#000000; stroke-linecap:round; stroke-linejoin:round; stroke-width:2; stroke-opacity:0.1; fill:none\" points=\"\n",
       "  1180.18,1486.45 1180.18,47.2441 \n",
       "  \"/>\n",
       "<polyline clip-path=\"url(#clip762)\" style=\"stroke:#000000; stroke-linecap:round; stroke-linejoin:round; stroke-width:2; stroke-opacity:0.1; fill:none\" points=\"\n",
       "  1574.24,1486.45 1574.24,47.2441 \n",
       "  \"/>\n",
       "<polyline clip-path=\"url(#clip762)\" style=\"stroke:#000000; stroke-linecap:round; stroke-linejoin:round; stroke-width:2; stroke-opacity:0.1; fill:none\" points=\"\n",
       "  1968.29,1486.45 1968.29,47.2441 \n",
       "  \"/>\n",
       "<polyline clip-path=\"url(#clip760)\" style=\"stroke:#000000; stroke-linecap:round; stroke-linejoin:round; stroke-width:4; stroke-opacity:1; fill:none\" points=\"\n",
       "  138.959,1486.45 2352.76,1486.45 \n",
       "  \"/>\n",
       "<polyline clip-path=\"url(#clip760)\" style=\"stroke:#000000; stroke-linecap:round; stroke-linejoin:round; stroke-width:4; stroke-opacity:1; fill:none\" points=\"\n",
       "  392.074,1486.45 392.074,1467.55 \n",
       "  \"/>\n",
       "<polyline clip-path=\"url(#clip760)\" style=\"stroke:#000000; stroke-linecap:round; stroke-linejoin:round; stroke-width:4; stroke-opacity:1; fill:none\" points=\"\n",
       "  786.128,1486.45 786.128,1467.55 \n",
       "  \"/>\n",
       "<polyline clip-path=\"url(#clip760)\" style=\"stroke:#000000; stroke-linecap:round; stroke-linejoin:round; stroke-width:4; stroke-opacity:1; fill:none\" points=\"\n",
       "  1180.18,1486.45 1180.18,1467.55 \n",
       "  \"/>\n",
       "<polyline clip-path=\"url(#clip760)\" style=\"stroke:#000000; stroke-linecap:round; stroke-linejoin:round; stroke-width:4; stroke-opacity:1; fill:none\" points=\"\n",
       "  1574.24,1486.45 1574.24,1467.55 \n",
       "  \"/>\n",
       "<polyline clip-path=\"url(#clip760)\" style=\"stroke:#000000; stroke-linecap:round; stroke-linejoin:round; stroke-width:4; stroke-opacity:1; fill:none\" points=\"\n",
       "  1968.29,1486.45 1968.29,1467.55 \n",
       "  \"/>\n",
       "<path clip-path=\"url(#clip760)\" d=\"M343.903 1544.91 L351.541 1544.91 L351.541 1518.55 L343.231 1520.21 L343.231 1515.95 L351.495 1514.29 L356.171 1514.29 L356.171 1544.91 L363.81 1544.91 L363.81 1548.85 L343.903 1548.85 L343.903 1544.91 Z\" fill=\"#000000\" fill-rule=\"evenodd\" fill-opacity=\"1\" /><path clip-path=\"url(#clip760)\" d=\"M386.101 1518.36 L374.296 1536.81 L386.101 1536.81 L386.101 1518.36 M384.875 1514.29 L390.754 1514.29 L390.754 1536.81 L395.685 1536.81 L395.685 1540.7 L390.754 1540.7 L390.754 1548.85 L386.101 1548.85 L386.101 1540.7 L370.5 1540.7 L370.5 1536.19 L384.875 1514.29 Z\" fill=\"#000000\" fill-rule=\"evenodd\" fill-opacity=\"1\" /><path clip-path=\"url(#clip760)\" d=\"M403.416 1542.97 L408.3 1542.97 L408.3 1548.85 L403.416 1548.85 L403.416 1542.97 Z\" fill=\"#000000\" fill-rule=\"evenodd\" fill-opacity=\"1\" /><path clip-path=\"url(#clip760)\" d=\"M431.333 1518.36 L419.527 1536.81 L431.333 1536.81 L431.333 1518.36 M430.106 1514.29 L435.985 1514.29 L435.985 1536.81 L440.916 1536.81 L440.916 1540.7 L435.985 1540.7 L435.985 1548.85 L431.333 1548.85 L431.333 1540.7 L415.731 1540.7 L415.731 1536.19 L430.106 1514.29 Z\" fill=\"#000000\" fill-rule=\"evenodd\" fill-opacity=\"1\" /><path clip-path=\"url(#clip760)\" d=\"M738.651 1544.91 L746.29 1544.91 L746.29 1518.55 L737.98 1520.21 L737.98 1515.95 L746.244 1514.29 L750.92 1514.29 L750.92 1544.91 L758.558 1544.91 L758.558 1548.85 L738.651 1548.85 L738.651 1544.91 Z\" fill=\"#000000\" fill-rule=\"evenodd\" fill-opacity=\"1\" /><path clip-path=\"url(#clip760)\" d=\"M780.85 1518.36 L769.045 1536.81 L780.85 1536.81 L780.85 1518.36 M779.623 1514.29 L785.503 1514.29 L785.503 1536.81 L790.433 1536.81 L790.433 1540.7 L785.503 1540.7 L785.503 1548.85 L780.85 1548.85 L780.85 1540.7 L765.248 1540.7 L765.248 1536.19 L779.623 1514.29 Z\" fill=\"#000000\" fill-rule=\"evenodd\" fill-opacity=\"1\" /><path clip-path=\"url(#clip760)\" d=\"M798.165 1542.97 L803.049 1542.97 L803.049 1548.85 L798.165 1548.85 L798.165 1542.97 Z\" fill=\"#000000\" fill-rule=\"evenodd\" fill-opacity=\"1\" /><path clip-path=\"url(#clip760)\" d=\"M812.054 1514.29 L834.276 1514.29 L834.276 1516.28 L821.729 1548.85 L816.845 1548.85 L828.651 1518.22 L812.054 1518.22 L812.054 1514.29 Z\" fill=\"#000000\" fill-rule=\"evenodd\" fill-opacity=\"1\" /><path clip-path=\"url(#clip760)\" d=\"M1132.25 1544.91 L1139.89 1544.91 L1139.89 1518.55 L1131.58 1520.21 L1131.58 1515.95 L1139.85 1514.29 L1144.52 1514.29 L1144.52 1544.91 L1152.16 1544.91 L1152.16 1548.85 L1132.25 1548.85 L1132.25 1544.91 Z\" fill=\"#000000\" fill-rule=\"evenodd\" fill-opacity=\"1\" /><path clip-path=\"url(#clip760)\" d=\"M1161.65 1514.29 L1180.01 1514.29 L1180.01 1518.22 L1165.93 1518.22 L1165.93 1526.7 Q1166.95 1526.35 1167.97 1526.19 Q1168.99 1526 1170.01 1526 Q1175.8 1526 1179.18 1529.17 Q1182.55 1532.34 1182.55 1537.76 Q1182.55 1543.34 1179.08 1546.44 Q1175.61 1549.52 1169.29 1549.52 Q1167.11 1549.52 1164.85 1549.15 Q1162.6 1548.78 1160.19 1548.04 L1160.19 1543.34 Q1162.28 1544.47 1164.5 1545.03 Q1166.72 1545.58 1169.2 1545.58 Q1173.2 1545.58 1175.54 1543.48 Q1177.88 1541.37 1177.88 1537.76 Q1177.88 1534.15 1175.54 1532.04 Q1173.2 1529.94 1169.2 1529.94 Q1167.32 1529.94 1165.45 1530.35 Q1163.6 1530.77 1161.65 1531.65 L1161.65 1514.29 Z\" fill=\"#000000\" fill-rule=\"evenodd\" fill-opacity=\"1\" /><path clip-path=\"url(#clip760)\" d=\"M1191.77 1542.97 L1196.65 1542.97 L1196.65 1548.85 L1191.77 1548.85 L1191.77 1542.97 Z\" fill=\"#000000\" fill-rule=\"evenodd\" fill-opacity=\"1\" /><path clip-path=\"url(#clip760)\" d=\"M1216.84 1517.37 Q1213.23 1517.37 1211.4 1520.93 Q1209.59 1524.47 1209.59 1531.6 Q1209.59 1538.71 1211.4 1542.27 Q1213.23 1545.82 1216.84 1545.82 Q1220.47 1545.82 1222.28 1542.27 Q1224.11 1538.71 1224.11 1531.6 Q1224.11 1524.47 1222.28 1520.93 Q1220.47 1517.37 1216.84 1517.37 M1216.84 1513.66 Q1222.65 1513.66 1225.7 1518.27 Q1228.78 1522.85 1228.78 1531.6 Q1228.78 1540.33 1225.7 1544.94 Q1222.65 1549.52 1216.84 1549.52 Q1211.03 1549.52 1207.95 1544.94 Q1204.89 1540.33 1204.89 1531.6 Q1204.89 1522.85 1207.95 1518.27 Q1211.03 1513.66 1216.84 1513.66 Z\" fill=\"#000000\" fill-rule=\"evenodd\" fill-opacity=\"1\" /><path clip-path=\"url(#clip760)\" d=\"M1526.63 1544.91 L1534.27 1544.91 L1534.27 1518.55 L1525.96 1520.21 L1525.96 1515.95 L1534.22 1514.29 L1538.9 1514.29 L1538.9 1544.91 L1546.54 1544.91 L1546.54 1548.85 L1526.63 1548.85 L1526.63 1544.91 Z\" fill=\"#000000\" fill-rule=\"evenodd\" fill-opacity=\"1\" /><path clip-path=\"url(#clip760)\" d=\"M1556.03 1514.29 L1574.39 1514.29 L1574.39 1518.22 L1560.31 1518.22 L1560.31 1526.7 Q1561.33 1526.35 1562.35 1526.19 Q1563.37 1526 1564.39 1526 Q1570.17 1526 1573.55 1529.17 Q1576.93 1532.34 1576.93 1537.76 Q1576.93 1543.34 1573.46 1546.44 Q1569.99 1549.52 1563.67 1549.52 Q1561.49 1549.52 1559.22 1549.15 Q1556.98 1548.78 1554.57 1548.04 L1554.57 1543.34 Q1556.66 1544.47 1558.88 1545.03 Q1561.1 1545.58 1563.58 1545.58 Q1567.58 1545.58 1569.92 1543.48 Q1572.26 1541.37 1572.26 1537.76 Q1572.26 1534.15 1569.92 1532.04 Q1567.58 1529.94 1563.58 1529.94 Q1561.7 1529.94 1559.83 1530.35 Q1557.97 1530.77 1556.03 1531.65 L1556.03 1514.29 Z\" fill=\"#000000\" fill-rule=\"evenodd\" fill-opacity=\"1\" /><path clip-path=\"url(#clip760)\" d=\"M1586.15 1542.97 L1591.03 1542.97 L1591.03 1548.85 L1586.15 1548.85 L1586.15 1542.97 Z\" fill=\"#000000\" fill-rule=\"evenodd\" fill-opacity=\"1\" /><path clip-path=\"url(#clip760)\" d=\"M1615.38 1530.21 Q1618.74 1530.93 1620.61 1533.2 Q1622.51 1535.47 1622.51 1538.8 Q1622.51 1543.92 1618.99 1546.72 Q1615.47 1549.52 1608.99 1549.52 Q1606.82 1549.52 1604.5 1549.08 Q1602.21 1548.66 1599.76 1547.81 L1599.76 1543.29 Q1601.7 1544.43 1604.02 1545.01 Q1606.33 1545.58 1608.85 1545.58 Q1613.25 1545.58 1615.54 1543.85 Q1617.86 1542.11 1617.86 1538.8 Q1617.86 1535.75 1615.71 1534.03 Q1613.58 1532.3 1609.76 1532.3 L1605.73 1532.3 L1605.73 1528.45 L1609.94 1528.45 Q1613.39 1528.45 1615.22 1527.09 Q1617.05 1525.7 1617.05 1523.11 Q1617.05 1520.45 1615.15 1519.03 Q1613.28 1517.6 1609.76 1517.6 Q1607.84 1517.6 1605.64 1518.01 Q1603.44 1518.43 1600.8 1519.31 L1600.8 1515.14 Q1603.46 1514.4 1605.78 1514.03 Q1608.11 1513.66 1610.17 1513.66 Q1615.5 1513.66 1618.6 1516.09 Q1621.7 1518.5 1621.7 1522.62 Q1621.7 1525.49 1620.06 1527.48 Q1618.41 1529.45 1615.38 1530.21 Z\" fill=\"#000000\" fill-rule=\"evenodd\" fill-opacity=\"1\" /><path clip-path=\"url(#clip760)\" d=\"M1920.28 1544.91 L1927.92 1544.91 L1927.92 1518.55 L1919.61 1520.21 L1919.61 1515.95 L1927.87 1514.29 L1932.55 1514.29 L1932.55 1544.91 L1940.19 1544.91 L1940.19 1548.85 L1920.28 1548.85 L1920.28 1544.91 Z\" fill=\"#000000\" fill-rule=\"evenodd\" fill-opacity=\"1\" /><path clip-path=\"url(#clip760)\" d=\"M1949.68 1514.29 L1968.04 1514.29 L1968.04 1518.22 L1953.96 1518.22 L1953.96 1526.7 Q1954.98 1526.35 1956 1526.19 Q1957.02 1526 1958.04 1526 Q1963.82 1526 1967.2 1529.17 Q1970.58 1532.34 1970.58 1537.76 Q1970.58 1543.34 1967.11 1546.44 Q1963.64 1549.52 1957.32 1549.52 Q1955.14 1549.52 1952.87 1549.15 Q1950.63 1548.78 1948.22 1548.04 L1948.22 1543.34 Q1950.3 1544.47 1952.53 1545.03 Q1954.75 1545.58 1957.23 1545.58 Q1961.23 1545.58 1963.57 1543.48 Q1965.91 1541.37 1965.91 1537.76 Q1965.91 1534.15 1963.57 1532.04 Q1961.23 1529.94 1957.23 1529.94 Q1955.35 1529.94 1953.48 1530.35 Q1951.62 1530.77 1949.68 1531.65 L1949.68 1514.29 Z\" fill=\"#000000\" fill-rule=\"evenodd\" fill-opacity=\"1\" /><path clip-path=\"url(#clip760)\" d=\"M1979.79 1542.97 L1984.68 1542.97 L1984.68 1548.85 L1979.79 1548.85 L1979.79 1542.97 Z\" fill=\"#000000\" fill-rule=\"evenodd\" fill-opacity=\"1\" /><path clip-path=\"url(#clip760)\" d=\"M2005.44 1529.7 Q2002.29 1529.7 2000.44 1531.86 Q1998.61 1534.01 1998.61 1537.76 Q1998.61 1541.49 2000.44 1543.66 Q2002.29 1545.82 2005.44 1545.82 Q2008.59 1545.82 2010.42 1543.66 Q2012.27 1541.49 2012.27 1537.76 Q2012.27 1534.01 2010.42 1531.86 Q2008.59 1529.7 2005.44 1529.7 M2014.73 1515.05 L2014.73 1519.31 Q2012.97 1518.48 2011.16 1518.04 Q2009.38 1517.6 2007.62 1517.6 Q2002.99 1517.6 2000.54 1520.72 Q1998.11 1523.85 1997.76 1530.17 Q1999.12 1528.15 2001.18 1527.09 Q2003.24 1526 2005.72 1526 Q2010.93 1526 2013.94 1529.17 Q2016.97 1532.32 2016.97 1537.76 Q2016.97 1543.08 2013.82 1546.3 Q2010.67 1549.52 2005.44 1549.52 Q1999.45 1549.52 1996.28 1544.94 Q1993.11 1540.33 1993.11 1531.6 Q1993.11 1523.41 1996.99 1518.55 Q2000.88 1513.66 2007.43 1513.66 Q2009.19 1513.66 2010.98 1514.01 Q2012.78 1514.36 2014.73 1515.05 Z\" fill=\"#000000\" fill-rule=\"evenodd\" fill-opacity=\"1\" /><polyline clip-path=\"url(#clip762)\" style=\"stroke:#000000; stroke-linecap:round; stroke-linejoin:round; stroke-width:2; stroke-opacity:0.1; fill:none\" points=\"\n",
       "  138.959,1445.72 2352.76,1445.72 \n",
       "  \"/>\n",
       "<polyline clip-path=\"url(#clip762)\" style=\"stroke:#000000; stroke-linecap:round; stroke-linejoin:round; stroke-width:2; stroke-opacity:0.1; fill:none\" points=\"\n",
       "  138.959,993.136 2352.76,993.136 \n",
       "  \"/>\n",
       "<polyline clip-path=\"url(#clip762)\" style=\"stroke:#000000; stroke-linecap:round; stroke-linejoin:round; stroke-width:2; stroke-opacity:0.1; fill:none\" points=\"\n",
       "  138.959,540.556 2352.76,540.556 \n",
       "  \"/>\n",
       "<polyline clip-path=\"url(#clip762)\" style=\"stroke:#000000; stroke-linecap:round; stroke-linejoin:round; stroke-width:2; stroke-opacity:0.1; fill:none\" points=\"\n",
       "  138.959,87.9763 2352.76,87.9763 \n",
       "  \"/>\n",
       "<polyline clip-path=\"url(#clip760)\" style=\"stroke:#000000; stroke-linecap:round; stroke-linejoin:round; stroke-width:4; stroke-opacity:1; fill:none\" points=\"\n",
       "  138.959,1486.45 138.959,47.2441 \n",
       "  \"/>\n",
       "<polyline clip-path=\"url(#clip760)\" style=\"stroke:#000000; stroke-linecap:round; stroke-linejoin:round; stroke-width:4; stroke-opacity:1; fill:none\" points=\"\n",
       "  138.959,1445.72 157.857,1445.72 \n",
       "  \"/>\n",
       "<polyline clip-path=\"url(#clip760)\" style=\"stroke:#000000; stroke-linecap:round; stroke-linejoin:round; stroke-width:4; stroke-opacity:1; fill:none\" points=\"\n",
       "  138.959,993.136 157.857,993.136 \n",
       "  \"/>\n",
       "<polyline clip-path=\"url(#clip760)\" style=\"stroke:#000000; stroke-linecap:round; stroke-linejoin:round; stroke-width:4; stroke-opacity:1; fill:none\" points=\"\n",
       "  138.959,540.556 157.857,540.556 \n",
       "  \"/>\n",
       "<polyline clip-path=\"url(#clip760)\" style=\"stroke:#000000; stroke-linecap:round; stroke-linejoin:round; stroke-width:4; stroke-opacity:1; fill:none\" points=\"\n",
       "  138.959,87.9763 157.857,87.9763 \n",
       "  \"/>\n",
       "<path clip-path=\"url(#clip760)\" d=\"M91.0151 1431.51 Q87.404 1431.51 85.5753 1435.08 Q83.7697 1438.62 83.7697 1445.75 Q83.7697 1452.86 85.5753 1456.42 Q87.404 1459.96 91.0151 1459.96 Q94.6493 1459.96 96.4548 1456.42 Q98.2835 1452.86 98.2835 1445.75 Q98.2835 1438.62 96.4548 1435.08 Q94.6493 1431.51 91.0151 1431.51 M91.0151 1427.81 Q96.8252 1427.81 99.8808 1432.42 Q102.959 1437 102.959 1445.75 Q102.959 1454.48 99.8808 1459.08 Q96.8252 1463.67 91.0151 1463.67 Q85.2049 1463.67 82.1262 1459.08 Q79.0707 1454.48 79.0707 1445.75 Q79.0707 1437 82.1262 1432.42 Q85.2049 1427.81 91.0151 1427.81 Z\" fill=\"#000000\" fill-rule=\"evenodd\" fill-opacity=\"1\" /><path clip-path=\"url(#clip760)\" d=\"M82.0568 975.856 L100.413 975.856 L100.413 979.791 L86.3392 979.791 L86.3392 988.263 Q87.3577 987.916 88.3762 987.754 Q89.3947 987.569 90.4132 987.569 Q96.2002 987.569 99.5798 990.74 Q102.959 993.911 102.959 999.328 Q102.959 1004.91 99.4872 1008.01 Q96.015 1011.09 89.6956 1011.09 Q87.5197 1011.09 85.2512 1010.72 Q83.0058 1010.35 80.5984 1009.61 L80.5984 1004.91 Q82.6818 1006.04 84.904 1006.6 Q87.1262 1007.15 89.603 1007.15 Q93.6076 1007.15 95.9456 1005.05 Q98.2835 1002.94 98.2835 999.328 Q98.2835 995.717 95.9456 993.61 Q93.6076 991.504 89.603 991.504 Q87.728 991.504 85.8531 991.921 Q84.0012 992.337 82.0568 993.217 L82.0568 975.856 Z\" fill=\"#000000\" fill-rule=\"evenodd\" fill-opacity=\"1\" /><path clip-path=\"url(#clip760)\" d=\"M51.6634 553.901 L59.3023 553.901 L59.3023 527.535 L50.9921 529.202 L50.9921 524.943 L59.256 523.276 L63.9319 523.276 L63.9319 553.901 L71.5707 553.901 L71.5707 557.836 L51.6634 557.836 L51.6634 553.901 Z\" fill=\"#000000\" fill-rule=\"evenodd\" fill-opacity=\"1\" /><path clip-path=\"url(#clip760)\" d=\"M91.0151 526.355 Q87.404 526.355 85.5753 529.92 Q83.7697 533.461 83.7697 540.591 Q83.7697 547.697 85.5753 551.262 Q87.404 554.804 91.0151 554.804 Q94.6493 554.804 96.4548 551.262 Q98.2835 547.697 98.2835 540.591 Q98.2835 533.461 96.4548 529.92 Q94.6493 526.355 91.0151 526.355 M91.0151 522.651 Q96.8252 522.651 99.8808 527.258 Q102.959 531.841 102.959 540.591 Q102.959 549.318 99.8808 553.924 Q96.8252 558.507 91.0151 558.507 Q85.2049 558.507 82.1262 553.924 Q79.0707 549.318 79.0707 540.591 Q79.0707 531.841 82.1262 527.258 Q85.2049 522.651 91.0151 522.651 Z\" fill=\"#000000\" fill-rule=\"evenodd\" fill-opacity=\"1\" /><path clip-path=\"url(#clip760)\" d=\"M52.6588 101.321 L60.2976 101.321 L60.2976 74.9555 L51.9875 76.6222 L51.9875 72.3629 L60.2513 70.6963 L64.9272 70.6963 L64.9272 101.321 L72.5661 101.321 L72.5661 105.256 L52.6588 105.256 L52.6588 101.321 Z\" fill=\"#000000\" fill-rule=\"evenodd\" fill-opacity=\"1\" /><path clip-path=\"url(#clip760)\" d=\"M82.0568 70.6963 L100.413 70.6963 L100.413 74.6314 L86.3392 74.6314 L86.3392 83.1036 Q87.3577 82.7564 88.3762 82.5944 Q89.3947 82.4092 90.4132 82.4092 Q96.2002 82.4092 99.5798 85.5805 Q102.959 88.7517 102.959 94.1684 Q102.959 99.747 99.4872 102.849 Q96.015 105.928 89.6956 105.928 Q87.5197 105.928 85.2512 105.557 Q83.0058 105.187 80.5984 104.446 L80.5984 99.747 Q82.6818 100.881 84.904 101.437 Q87.1262 101.992 89.603 101.992 Q93.6076 101.992 95.9456 99.8859 Q98.2835 97.7795 98.2835 94.1684 Q98.2835 90.5573 95.9456 88.4508 Q93.6076 86.3443 89.603 86.3443 Q87.728 86.3443 85.8531 86.761 Q84.0012 87.1777 82.0568 88.0573 L82.0568 70.6963 Z\" fill=\"#000000\" fill-rule=\"evenodd\" fill-opacity=\"1\" /><path clip-path=\"url(#clip762)\" d=\"\n",
       "M260.722 1355.2 L260.722 1445.72 L392.074 1445.72 L392.074 1355.2 L260.722 1355.2 L260.722 1355.2  Z\n",
       "  \" fill=\"#009af9\" fill-rule=\"evenodd\" fill-opacity=\"1\"/>\n",
       "<polyline clip-path=\"url(#clip762)\" style=\"stroke:#000000; stroke-linecap:round; stroke-linejoin:round; stroke-width:4; stroke-opacity:1; fill:none\" points=\"\n",
       "  260.722,1355.2 260.722,1445.72 392.074,1445.72 392.074,1355.2 260.722,1355.2 \n",
       "  \"/>\n",
       "<path clip-path=\"url(#clip762)\" d=\"\n",
       "M392.074 1445.72 L392.074 1445.72 L523.425 1445.72 L523.425 1445.72 L392.074 1445.72 L392.074 1445.72  Z\n",
       "  \" fill=\"#009af9\" fill-rule=\"evenodd\" fill-opacity=\"1\"/>\n",
       "<polyline clip-path=\"url(#clip762)\" style=\"stroke:#000000; stroke-linecap:round; stroke-linejoin:round; stroke-width:4; stroke-opacity:1; fill:none\" points=\"\n",
       "  392.074,1445.72 392.074,1445.72 523.425,1445.72 392.074,1445.72 \n",
       "  \"/>\n",
       "<path clip-path=\"url(#clip762)\" d=\"\n",
       "M523.425 1445.72 L523.425 1445.72 L654.776 1445.72 L654.776 1445.72 L523.425 1445.72 L523.425 1445.72  Z\n",
       "  \" fill=\"#009af9\" fill-rule=\"evenodd\" fill-opacity=\"1\"/>\n",
       "<polyline clip-path=\"url(#clip762)\" style=\"stroke:#000000; stroke-linecap:round; stroke-linejoin:round; stroke-width:4; stroke-opacity:1; fill:none\" points=\"\n",
       "  523.425,1445.72 523.425,1445.72 654.776,1445.72 523.425,1445.72 \n",
       "  \"/>\n",
       "<path clip-path=\"url(#clip762)\" d=\"\n",
       "M654.776 1445.72 L654.776 1445.72 L786.128 1445.72 L786.128 1445.72 L654.776 1445.72 L654.776 1445.72  Z\n",
       "  \" fill=\"#009af9\" fill-rule=\"evenodd\" fill-opacity=\"1\"/>\n",
       "<polyline clip-path=\"url(#clip762)\" style=\"stroke:#000000; stroke-linecap:round; stroke-linejoin:round; stroke-width:4; stroke-opacity:1; fill:none\" points=\"\n",
       "  654.776,1445.72 654.776,1445.72 786.128,1445.72 654.776,1445.72 \n",
       "  \"/>\n",
       "<path clip-path=\"url(#clip762)\" d=\"\n",
       "M786.128 1445.72 L786.128 1445.72 L917.479 1445.72 L917.479 1445.72 L786.128 1445.72 L786.128 1445.72  Z\n",
       "  \" fill=\"#009af9\" fill-rule=\"evenodd\" fill-opacity=\"1\"/>\n",
       "<polyline clip-path=\"url(#clip762)\" style=\"stroke:#000000; stroke-linecap:round; stroke-linejoin:round; stroke-width:4; stroke-opacity:1; fill:none\" points=\"\n",
       "  786.128,1445.72 786.128,1445.72 917.479,1445.72 786.128,1445.72 \n",
       "  \"/>\n",
       "<path clip-path=\"url(#clip762)\" d=\"\n",
       "M917.479 1445.72 L917.479 1445.72 L1048.83 1445.72 L1048.83 1445.72 L917.479 1445.72 L917.479 1445.72  Z\n",
       "  \" fill=\"#009af9\" fill-rule=\"evenodd\" fill-opacity=\"1\"/>\n",
       "<polyline clip-path=\"url(#clip762)\" style=\"stroke:#000000; stroke-linecap:round; stroke-linejoin:round; stroke-width:4; stroke-opacity:1; fill:none\" points=\"\n",
       "  917.479,1445.72 917.479,1445.72 1048.83,1445.72 917.479,1445.72 \n",
       "  \"/>\n",
       "<path clip-path=\"url(#clip762)\" d=\"\n",
       "M1048.83 1445.72 L1048.83 1445.72 L1180.18 1445.72 L1180.18 1445.72 L1048.83 1445.72 L1048.83 1445.72  Z\n",
       "  \" fill=\"#009af9\" fill-rule=\"evenodd\" fill-opacity=\"1\"/>\n",
       "<polyline clip-path=\"url(#clip762)\" style=\"stroke:#000000; stroke-linecap:round; stroke-linejoin:round; stroke-width:4; stroke-opacity:1; fill:none\" points=\"\n",
       "  1048.83,1445.72 1048.83,1445.72 1180.18,1445.72 1048.83,1445.72 \n",
       "  \"/>\n",
       "<path clip-path=\"url(#clip762)\" d=\"\n",
       "M1180.18 1264.68 L1180.18 1445.72 L1311.53 1445.72 L1311.53 1264.68 L1180.18 1264.68 L1180.18 1264.68  Z\n",
       "  \" fill=\"#009af9\" fill-rule=\"evenodd\" fill-opacity=\"1\"/>\n",
       "<polyline clip-path=\"url(#clip762)\" style=\"stroke:#000000; stroke-linecap:round; stroke-linejoin:round; stroke-width:4; stroke-opacity:1; fill:none\" points=\"\n",
       "  1180.18,1264.68 1180.18,1445.72 1311.53,1445.72 1311.53,1264.68 1180.18,1264.68 \n",
       "  \"/>\n",
       "<path clip-path=\"url(#clip762)\" d=\"\n",
       "M1311.53 812.104 L1311.53 1445.72 L1442.88 1445.72 L1442.88 812.104 L1311.53 812.104 L1311.53 812.104  Z\n",
       "  \" fill=\"#009af9\" fill-rule=\"evenodd\" fill-opacity=\"1\"/>\n",
       "<polyline clip-path=\"url(#clip762)\" style=\"stroke:#000000; stroke-linecap:round; stroke-linejoin:round; stroke-width:4; stroke-opacity:1; fill:none\" points=\"\n",
       "  1311.53,812.104 1311.53,1445.72 1442.88,1445.72 1442.88,812.104 1311.53,812.104 \n",
       "  \"/>\n",
       "<path clip-path=\"url(#clip762)\" d=\"\n",
       "M1442.88 87.9763 L1442.88 1445.72 L1574.24 1445.72 L1574.24 87.9763 L1442.88 87.9763 L1442.88 87.9763  Z\n",
       "  \" fill=\"#009af9\" fill-rule=\"evenodd\" fill-opacity=\"1\"/>\n",
       "<polyline clip-path=\"url(#clip762)\" style=\"stroke:#000000; stroke-linecap:round; stroke-linejoin:round; stroke-width:4; stroke-opacity:1; fill:none\" points=\"\n",
       "  1442.88,87.9763 1442.88,1445.72 1574.24,1445.72 1574.24,87.9763 1442.88,87.9763 \n",
       "  \"/>\n",
       "<path clip-path=\"url(#clip762)\" d=\"\n",
       "M1574.24 87.9763 L1574.24 1445.72 L1705.59 1445.72 L1705.59 87.9763 L1574.24 87.9763 L1574.24 87.9763  Z\n",
       "  \" fill=\"#009af9\" fill-rule=\"evenodd\" fill-opacity=\"1\"/>\n",
       "<polyline clip-path=\"url(#clip762)\" style=\"stroke:#000000; stroke-linecap:round; stroke-linejoin:round; stroke-width:4; stroke-opacity:1; fill:none\" points=\"\n",
       "  1574.24,87.9763 1574.24,1445.72 1705.59,1445.72 1705.59,87.9763 1574.24,87.9763 \n",
       "  \"/>\n",
       "<path clip-path=\"url(#clip762)\" d=\"\n",
       "M1705.59 812.104 L1705.59 1445.72 L1836.94 1445.72 L1836.94 812.104 L1705.59 812.104 L1705.59 812.104  Z\n",
       "  \" fill=\"#009af9\" fill-rule=\"evenodd\" fill-opacity=\"1\"/>\n",
       "<polyline clip-path=\"url(#clip762)\" style=\"stroke:#000000; stroke-linecap:round; stroke-linejoin:round; stroke-width:4; stroke-opacity:1; fill:none\" points=\"\n",
       "  1705.59,812.104 1705.59,1445.72 1836.94,1445.72 1836.94,812.104 1705.59,812.104 \n",
       "  \"/>\n",
       "<path clip-path=\"url(#clip762)\" d=\"\n",
       "M1836.94 1355.2 L1836.94 1445.72 L1968.29 1445.72 L1968.29 1355.2 L1836.94 1355.2 L1836.94 1355.2  Z\n",
       "  \" fill=\"#009af9\" fill-rule=\"evenodd\" fill-opacity=\"1\"/>\n",
       "<polyline clip-path=\"url(#clip762)\" style=\"stroke:#000000; stroke-linecap:round; stroke-linejoin:round; stroke-width:4; stroke-opacity:1; fill:none\" points=\"\n",
       "  1836.94,1355.2 1836.94,1445.72 1968.29,1445.72 1968.29,1355.2 1836.94,1355.2 \n",
       "  \"/>\n",
       "<path clip-path=\"url(#clip762)\" d=\"\n",
       "M1968.29 1355.2 L1968.29 1445.72 L2099.64 1445.72 L2099.64 1355.2 L1968.29 1355.2 L1968.29 1355.2  Z\n",
       "  \" fill=\"#009af9\" fill-rule=\"evenodd\" fill-opacity=\"1\"/>\n",
       "<polyline clip-path=\"url(#clip762)\" style=\"stroke:#000000; stroke-linecap:round; stroke-linejoin:round; stroke-width:4; stroke-opacity:1; fill:none\" points=\"\n",
       "  1968.29,1355.2 1968.29,1445.72 2099.64,1445.72 2099.64,1355.2 1968.29,1355.2 \n",
       "  \"/>\n",
       "<path clip-path=\"url(#clip762)\" d=\"\n",
       "M2099.64 1355.2 L2099.64 1445.72 L2230.99 1445.72 L2230.99 1355.2 L2099.64 1355.2 L2099.64 1355.2  Z\n",
       "  \" fill=\"#009af9\" fill-rule=\"evenodd\" fill-opacity=\"1\"/>\n",
       "<polyline clip-path=\"url(#clip762)\" style=\"stroke:#000000; stroke-linecap:round; stroke-linejoin:round; stroke-width:4; stroke-opacity:1; fill:none\" points=\"\n",
       "  2099.64,1355.2 2099.64,1445.72 2230.99,1445.72 2230.99,1355.2 2099.64,1355.2 \n",
       "  \"/>\n",
       "<circle clip-path=\"url(#clip762)\" style=\"fill:#009af9; stroke:none; fill-opacity:0\" cx=\"326.398\" cy=\"1355.2\" r=\"2\"/>\n",
       "<circle clip-path=\"url(#clip762)\" style=\"fill:#009af9; stroke:none; fill-opacity:0\" cx=\"457.749\" cy=\"1445.72\" r=\"2\"/>\n",
       "<circle clip-path=\"url(#clip762)\" style=\"fill:#009af9; stroke:none; fill-opacity:0\" cx=\"589.101\" cy=\"1445.72\" r=\"2\"/>\n",
       "<circle clip-path=\"url(#clip762)\" style=\"fill:#009af9; stroke:none; fill-opacity:0\" cx=\"720.452\" cy=\"1445.72\" r=\"2\"/>\n",
       "<circle clip-path=\"url(#clip762)\" style=\"fill:#009af9; stroke:none; fill-opacity:0\" cx=\"851.803\" cy=\"1445.72\" r=\"2\"/>\n",
       "<circle clip-path=\"url(#clip762)\" style=\"fill:#009af9; stroke:none; fill-opacity:0\" cx=\"983.155\" cy=\"1445.72\" r=\"2\"/>\n",
       "<circle clip-path=\"url(#clip762)\" style=\"fill:#009af9; stroke:none; fill-opacity:0\" cx=\"1114.51\" cy=\"1445.72\" r=\"2\"/>\n",
       "<circle clip-path=\"url(#clip762)\" style=\"fill:#009af9; stroke:none; fill-opacity:0\" cx=\"1245.86\" cy=\"1264.68\" r=\"2\"/>\n",
       "<circle clip-path=\"url(#clip762)\" style=\"fill:#009af9; stroke:none; fill-opacity:0\" cx=\"1377.21\" cy=\"812.104\" r=\"2\"/>\n",
       "<circle clip-path=\"url(#clip762)\" style=\"fill:#009af9; stroke:none; fill-opacity:0\" cx=\"1508.56\" cy=\"87.9763\" r=\"2\"/>\n",
       "<circle clip-path=\"url(#clip762)\" style=\"fill:#009af9; stroke:none; fill-opacity:0\" cx=\"1639.91\" cy=\"87.9763\" r=\"2\"/>\n",
       "<circle clip-path=\"url(#clip762)\" style=\"fill:#009af9; stroke:none; fill-opacity:0\" cx=\"1771.26\" cy=\"812.104\" r=\"2\"/>\n",
       "<circle clip-path=\"url(#clip762)\" style=\"fill:#009af9; stroke:none; fill-opacity:0\" cx=\"1902.61\" cy=\"1355.2\" r=\"2\"/>\n",
       "<circle clip-path=\"url(#clip762)\" style=\"fill:#009af9; stroke:none; fill-opacity:0\" cx=\"2033.97\" cy=\"1355.2\" r=\"2\"/>\n",
       "<circle clip-path=\"url(#clip762)\" style=\"fill:#009af9; stroke:none; fill-opacity:0\" cx=\"2165.32\" cy=\"1355.2\" r=\"2\"/>\n",
       "<path clip-path=\"url(#clip760)\" d=\"\n",
       "M2005.15 198.898 L2278.96 198.898 L2278.96 95.2176 L2005.15 95.2176  Z\n",
       "  \" fill=\"#ffffff\" fill-rule=\"evenodd\" fill-opacity=\"1\"/>\n",
       "<polyline clip-path=\"url(#clip760)\" style=\"stroke:#000000; stroke-linecap:round; stroke-linejoin:round; stroke-width:4; stroke-opacity:1; fill:none\" points=\"\n",
       "  2005.15,198.898 2278.96,198.898 2278.96,95.2176 2005.15,95.2176 2005.15,198.898 \n",
       "  \"/>\n",
       "<path clip-path=\"url(#clip760)\" d=\"\n",
       "M2029.75 167.794 L2177.34 167.794 L2177.34 126.322 L2029.75 126.322 L2029.75 167.794  Z\n",
       "  \" fill=\"#009af9\" fill-rule=\"evenodd\" fill-opacity=\"1\"/>\n",
       "<polyline clip-path=\"url(#clip760)\" style=\"stroke:#000000; stroke-linecap:round; stroke-linejoin:round; stroke-width:4; stroke-opacity:1; fill:none\" points=\"\n",
       "  2029.75,167.794 2177.34,167.794 2177.34,126.322 2029.75,126.322 2029.75,167.794 \n",
       "  \"/>\n",
       "<path clip-path=\"url(#clip760)\" d=\"M2215.78 166.745 Q2213.97 171.375 2212.26 172.787 Q2210.55 174.199 2207.68 174.199 L2204.27 174.199 L2204.27 170.634 L2206.77 170.634 Q2208.53 170.634 2209.5 169.8 Q2210.48 168.967 2211.66 165.865 L2212.42 163.921 L2201.93 138.412 L2206.45 138.412 L2214.55 158.689 L2222.65 138.412 L2227.17 138.412 L2215.78 166.745 Z\" fill=\"#000000\" fill-rule=\"evenodd\" fill-opacity=\"1\" /><path clip-path=\"url(#clip760)\" d=\"M2234.46 160.402 L2242.1 160.402 L2242.1 134.037 L2233.79 135.703 L2233.79 131.444 L2242.05 129.778 L2246.73 129.778 L2246.73 160.402 L2254.36 160.402 L2254.36 164.338 L2234.46 164.338 L2234.46 160.402 Z\" fill=\"#000000\" fill-rule=\"evenodd\" fill-opacity=\"1\" /></svg>\n"
      ]
     },
     "execution_count": 17,
     "metadata": {},
     "output_type": "execute_result"
    }
   ],
   "source": [
    "histogram(BXD_pheno_strains_summary_df.\"P61924_VALRGEDVPLTEQTVSQVLQSAK_3\")"
   ]
  },
  {
   "cell_type": "code",
   "execution_count": 18,
   "id": "c9e172db-b395-4c04-9c4c-429e8ce5b677",
   "metadata": {},
   "outputs": [],
   "source": [
    "BXD_geno_strains_summary_df = CSV.read(\"data/GN886_geno_strains_summary.csv\", DataFrame);"
   ]
  },
  {
   "cell_type": "markdown",
   "id": "e606034c-1af9-4dad-a88d-07f4cc67be19",
   "metadata": {},
   "source": [
    "By strains, there are 50 BXD strains for 7321 markers."
   ]
  },
  {
   "cell_type": "code",
   "execution_count": 19,
   "id": "324c16c7-5a68-44a5-abe6-b098bf1526a9",
   "metadata": {},
   "outputs": [
    {
     "name": "stdout",
     "output_type": "stream",
     "text": [
      "(50, 7322)\n"
     ]
    },
    {
     "data": {
      "text/html": [
       "<div><div style = \"float: left;\"><span>10×10 DataFrame</span></div><div style = \"clear: both;\"></div></div><div class = \"data-frame\" style = \"overflow-x: scroll;\"><table class = \"data-frame\" style = \"margin-bottom: 6px;\"><thead><tr class = \"header\"><th class = \"rowNumber\" style = \"font-weight: bold; text-align: right;\">Row</th><th style = \"text-align: left;\">Strain</th><th style = \"text-align: left;\">rs31443144</th><th style = \"text-align: left;\">rs6269442</th><th style = \"text-align: left;\">rs32285189</th><th style = \"text-align: left;\">rs258367496</th><th style = \"text-align: left;\">rs32430919</th><th style = \"text-align: left;\">rs36251697</th><th style = \"text-align: left;\">rs30658298</th><th style = \"text-align: left;\">rs51852623</th><th style = \"text-align: left;\">rs31879829</th></tr><tr class = \"subheader headerLastRow\"><th class = \"rowNumber\" style = \"font-weight: bold; text-align: right;\"></th><th title = \"String7\" style = \"text-align: left;\">String7</th><th title = \"Float64\" style = \"text-align: left;\">Float64</th><th title = \"Float64\" style = \"text-align: left;\">Float64</th><th title = \"Float64\" style = \"text-align: left;\">Float64</th><th title = \"Float64\" style = \"text-align: left;\">Float64</th><th title = \"Float64\" style = \"text-align: left;\">Float64</th><th title = \"Float64\" style = \"text-align: left;\">Float64</th><th title = \"Float64\" style = \"text-align: left;\">Float64</th><th title = \"Float64\" style = \"text-align: left;\">Float64</th><th title = \"Float64\" style = \"text-align: left;\">Float64</th></tr></thead><tbody><tr><td class = \"rowNumber\" style = \"font-weight: bold; text-align: right;\">1</td><td style = \"text-align: left;\">BXD9</td><td style = \"text-align: right;\">0.0</td><td style = \"text-align: right;\">0.0</td><td style = \"text-align: right;\">0.0</td><td style = \"text-align: right;\">0.0</td><td style = \"text-align: right;\">0.0</td><td style = \"text-align: right;\">0.0</td><td style = \"text-align: right;\">0.0</td><td style = \"text-align: right;\">0.0</td><td style = \"text-align: right;\">0.0</td></tr><tr><td class = \"rowNumber\" style = \"font-weight: bold; text-align: right;\">2</td><td style = \"text-align: left;\">BXD13</td><td style = \"text-align: right;\">0.0</td><td style = \"text-align: right;\">0.0</td><td style = \"text-align: right;\">0.0</td><td style = \"text-align: right;\">0.0</td><td style = \"text-align: right;\">0.0</td><td style = \"text-align: right;\">0.0</td><td style = \"text-align: right;\">0.0</td><td style = \"text-align: right;\">0.0</td><td style = \"text-align: right;\">0.0</td></tr><tr><td class = \"rowNumber\" style = \"font-weight: bold; text-align: right;\">3</td><td style = \"text-align: left;\">BXD24</td><td style = \"text-align: right;\">0.0</td><td style = \"text-align: right;\">0.0</td><td style = \"text-align: right;\">0.0</td><td style = \"text-align: right;\">0.0</td><td style = \"text-align: right;\">0.0</td><td style = \"text-align: right;\">0.0</td><td style = \"text-align: right;\">0.0</td><td style = \"text-align: right;\">0.0</td><td style = \"text-align: right;\">0.0</td></tr><tr><td class = \"rowNumber\" style = \"font-weight: bold; text-align: right;\">4</td><td style = \"text-align: left;\">BXD27</td><td style = \"text-align: right;\">0.0</td><td style = \"text-align: right;\">0.0</td><td style = \"text-align: right;\">0.0</td><td style = \"text-align: right;\">0.0</td><td style = \"text-align: right;\">0.0</td><td style = \"text-align: right;\">0.0</td><td style = \"text-align: right;\">0.0</td><td style = \"text-align: right;\">0.0</td><td style = \"text-align: right;\">0.0</td></tr><tr><td class = \"rowNumber\" style = \"font-weight: bold; text-align: right;\">5</td><td style = \"text-align: left;\">BXD29</td><td style = \"text-align: right;\">1.0</td><td style = \"text-align: right;\">1.0</td><td style = \"text-align: right;\">1.0</td><td style = \"text-align: right;\">1.0</td><td style = \"text-align: right;\">1.0</td><td style = \"text-align: right;\">1.0</td><td style = \"text-align: right;\">1.0</td><td style = \"text-align: right;\">1.0</td><td style = \"text-align: right;\">1.0</td></tr><tr><td class = \"rowNumber\" style = \"font-weight: bold; text-align: right;\">6</td><td style = \"text-align: left;\">BXD32</td><td style = \"text-align: right;\">0.0</td><td style = \"text-align: right;\">0.0</td><td style = \"text-align: right;\">0.0</td><td style = \"text-align: right;\">0.0</td><td style = \"text-align: right;\">0.0</td><td style = \"text-align: right;\">0.0</td><td style = \"text-align: right;\">0.0</td><td style = \"text-align: right;\">0.0</td><td style = \"text-align: right;\">0.0</td></tr><tr><td class = \"rowNumber\" style = \"font-weight: bold; text-align: right;\">7</td><td style = \"text-align: left;\">BXD34</td><td style = \"text-align: right;\">0.0</td><td style = \"text-align: right;\">0.0</td><td style = \"text-align: right;\">0.0</td><td style = \"text-align: right;\">0.0</td><td style = \"text-align: right;\">0.0</td><td style = \"text-align: right;\">0.0</td><td style = \"text-align: right;\">0.0</td><td style = \"text-align: right;\">0.0</td><td style = \"text-align: right;\">0.0</td></tr><tr><td class = \"rowNumber\" style = \"font-weight: bold; text-align: right;\">8</td><td style = \"text-align: left;\">BXD39</td><td style = \"text-align: right;\">1.0</td><td style = \"text-align: right;\">1.0</td><td style = \"text-align: right;\">1.0</td><td style = \"text-align: right;\">1.0</td><td style = \"text-align: right;\">1.0</td><td style = \"text-align: right;\">1.0</td><td style = \"text-align: right;\">1.0</td><td style = \"text-align: right;\">1.0</td><td style = \"text-align: right;\">1.0</td></tr><tr><td class = \"rowNumber\" style = \"font-weight: bold; text-align: right;\">9</td><td style = \"text-align: left;\">BXD40</td><td style = \"text-align: right;\">0.0</td><td style = \"text-align: right;\">0.0</td><td style = \"text-align: right;\">0.0</td><td style = \"text-align: right;\">0.0</td><td style = \"text-align: right;\">0.0</td><td style = \"text-align: right;\">0.0</td><td style = \"text-align: right;\">0.0</td><td style = \"text-align: right;\">0.0</td><td style = \"text-align: right;\">0.0</td></tr><tr><td class = \"rowNumber\" style = \"font-weight: bold; text-align: right;\">10</td><td style = \"text-align: left;\">BXD43</td><td style = \"text-align: right;\">0.0</td><td style = \"text-align: right;\">0.0</td><td style = \"text-align: right;\">0.0</td><td style = \"text-align: right;\">0.0</td><td style = \"text-align: right;\">0.0</td><td style = \"text-align: right;\">0.0</td><td style = \"text-align: right;\">0.0</td><td style = \"text-align: right;\">0.0</td><td style = \"text-align: right;\">0.0</td></tr></tbody></table></div>"
      ],
      "text/latex": [
       "\\begin{tabular}{r|cccccccc}\n",
       "\t& Strain & rs31443144 & rs6269442 & rs32285189 & rs258367496 & rs32430919 & rs36251697 & \\\\\n",
       "\t\\hline\n",
       "\t& String7 & Float64 & Float64 & Float64 & Float64 & Float64 & Float64 & \\\\\n",
       "\t\\hline\n",
       "\t1 & BXD9 & 0.0 & 0.0 & 0.0 & 0.0 & 0.0 & 0.0 & $\\dots$ \\\\\n",
       "\t2 & BXD13 & 0.0 & 0.0 & 0.0 & 0.0 & 0.0 & 0.0 & $\\dots$ \\\\\n",
       "\t3 & BXD24 & 0.0 & 0.0 & 0.0 & 0.0 & 0.0 & 0.0 & $\\dots$ \\\\\n",
       "\t4 & BXD27 & 0.0 & 0.0 & 0.0 & 0.0 & 0.0 & 0.0 & $\\dots$ \\\\\n",
       "\t5 & BXD29 & 1.0 & 1.0 & 1.0 & 1.0 & 1.0 & 1.0 & $\\dots$ \\\\\n",
       "\t6 & BXD32 & 0.0 & 0.0 & 0.0 & 0.0 & 0.0 & 0.0 & $\\dots$ \\\\\n",
       "\t7 & BXD34 & 0.0 & 0.0 & 0.0 & 0.0 & 0.0 & 0.0 & $\\dots$ \\\\\n",
       "\t8 & BXD39 & 1.0 & 1.0 & 1.0 & 1.0 & 1.0 & 1.0 & $\\dots$ \\\\\n",
       "\t9 & BXD40 & 0.0 & 0.0 & 0.0 & 0.0 & 0.0 & 0.0 & $\\dots$ \\\\\n",
       "\t10 & BXD43 & 0.0 & 0.0 & 0.0 & 0.0 & 0.0 & 0.0 & $\\dots$ \\\\\n",
       "\\end{tabular}\n"
      ],
      "text/plain": [
       "\u001b[1m10×10 DataFrame\u001b[0m\n",
       "\u001b[1m Row \u001b[0m│\u001b[1m Strain  \u001b[0m\u001b[1m rs31443144 \u001b[0m\u001b[1m rs6269442 \u001b[0m\u001b[1m rs32285189 \u001b[0m\u001b[1m rs258367496 \u001b[0m\u001b[1m rs32430919 \u001b[0m\u001b[1m rs\u001b[0m ⋯\n",
       "     │\u001b[90m String7 \u001b[0m\u001b[90m Float64    \u001b[0m\u001b[90m Float64   \u001b[0m\u001b[90m Float64    \u001b[0m\u001b[90m Float64     \u001b[0m\u001b[90m Float64    \u001b[0m\u001b[90m Fl\u001b[0m ⋯\n",
       "─────┼──────────────────────────────────────────────────────────────────────────\n",
       "   1 │ BXD9            0.0        0.0         0.0          0.0         0.0     ⋯\n",
       "   2 │ BXD13           0.0        0.0         0.0          0.0         0.0\n",
       "   3 │ BXD24           0.0        0.0         0.0          0.0         0.0\n",
       "   4 │ BXD27           0.0        0.0         0.0          0.0         0.0\n",
       "   5 │ BXD29           1.0        1.0         1.0          1.0         1.0     ⋯\n",
       "   6 │ BXD32           0.0        0.0         0.0          0.0         0.0\n",
       "   7 │ BXD34           0.0        0.0         0.0          0.0         0.0\n",
       "   8 │ BXD39           1.0        1.0         1.0          1.0         1.0\n",
       "   9 │ BXD40           0.0        0.0         0.0          0.0         0.0     ⋯\n",
       "  10 │ BXD43           0.0        0.0         0.0          0.0         0.0\n",
       "\u001b[36m                                                               4 columns omitted\u001b[0m"
      ]
     },
     "execution_count": 19,
     "metadata": {},
     "output_type": "execute_result"
    }
   ],
   "source": [
    "println(size(BXD_geno_strains_summary_df)) \n",
    "BXD_geno_strains_summary_df[1:10, 1:10]"
   ]
  },
  {
   "cell_type": "markdown",
   "id": "89aad467-abcd-43b1-a360-b630c6ba6540",
   "metadata": {},
   "source": [
    "#### Huberized strain means LPs:"
   ]
  },
  {
   "cell_type": "code",
   "execution_count": 20,
   "id": "2f6df52c-130b-432d-80ea-5b4a7b062cbf",
   "metadata": {},
   "outputs": [],
   "source": [
    "# BXD_pheno_huber_strains_summary_df = CSV.read(\"data/GN886_pheno_huber_strain_means_summary.csv\", DataFrame);"
   ]
  },
  {
   "cell_type": "code",
   "execution_count": 21,
   "id": "65295cde-518b-4436-bfd7-602bfe624fbe",
   "metadata": {},
   "outputs": [],
   "source": [
    "# println(size(BXD_pheno_huber_strains_summary_df)) \n",
    "# BXD_pheno_huber_strains_summary_df[1:10, 1:10]"
   ]
  },
  {
   "cell_type": "code",
   "execution_count": 22,
   "id": "453930d1-5879-4e1a-820d-2dc0dae35dba",
   "metadata": {},
   "outputs": [],
   "source": [
    "# histogram(BXD_pheno_huber_strains_summary_df.\"P61924_VALRGEDVPLTEQTVSQVLQSAK_3\")"
   ]
  },
  {
   "cell_type": "code",
   "execution_count": 23,
   "id": "feb10137-3005-4b62-acc4-eb6ea7bd4e43",
   "metadata": {},
   "outputs": [],
   "source": [
    "# mean(BXD_pheno_huber_ind_summary_df[1:4, 4])"
   ]
  },
  {
   "cell_type": "code",
   "execution_count": 24,
   "id": "612b39ee-cdbb-480b-92ff-7d1d85c05d9b",
   "metadata": {},
   "outputs": [],
   "source": [
    "# mean(BXD_pheno_huber_ind_summary_df[11:13, 4])"
   ]
  },
  {
   "cell_type": "markdown",
   "id": "3e0e8473-c29a-42c3-a47f-a2748cd4f5d7",
   "metadata": {},
   "source": [
    "## Load functions:"
   ]
  },
  {
   "cell_type": "code",
   "execution_count": 25,
   "id": "f04bb842-e79c-4ec0-9d62-d7b944e6f665",
   "metadata": {},
   "outputs": [],
   "source": [
    "include(joinpath(local_path, \"kinship.jl\"));\n",
    "include(joinpath(local_path, \"util.jl\"));\n",
    "include(joinpath(local_path, \"wls.jl\"));\n",
    "include(joinpath(local_path, \"lmm.jl\"));\n",
    "include(joinpath(local_path, \"transform_helpers.jl\"));\n",
    "include(joinpath(local_path, \"scan.jl\"));\n",
    "include(joinpath(local_path, \"bulkscan_helpers.jl\"));\n",
    "include(joinpath(local_path, \"bulkscan.jl\"));\n",
    "include(joinpath(local_path, \"readData.jl\"));"
   ]
  },
  {
   "cell_type": "markdown",
   "id": "0eae3573-e769-444e-9899-98480f6f8ccd",
   "metadata": {
    "tags": []
   },
   "source": [
    "## Objectives\n",
    "\n",
    "- gemma one trait, ind and strains\n",
    "\n",
    "- scan_alt one trait, ind and strains\n",
    "\n",
    "- scan_null one trait, ind and strains\n",
    "\n",
    "- bulkscan_grid (null), all traits, ...\n",
    "\n",
    "- data structure for all traits results...\n",
    "\n",
    "- Heatmap grids_taken, compare on strain means and individuals\n",
    "\n",
    "- Histogram of heritabilities (null) for all traits (both strain means and individual level data)\n",
    "\n",
    "- Loglikelihood by h2_grid plot, strain means v.s. individuals\n",
    "\n",
    "- Report fixed effects:\n",
    "\n",
    "- Adjusting difference in the number of samples across strains\n",
    "\n",
    "- Histogram of heritabilities (null) for all traits (both strain means and individual level data)"
   ]
  },
  {
   "cell_type": "markdown",
   "id": "3fe2c576-b753-4832-810f-24f196d05587",
   "metadata": {},
   "source": [
    "## Run BulkLMM.jl:"
   ]
  },
  {
   "cell_type": "markdown",
   "id": "b21044d7-08fc-454d-9528-e1271634033d",
   "metadata": {},
   "source": [
    "### Calculate kinship:"
   ]
  },
  {
   "cell_type": "markdown",
   "id": "02df590a-330c-42cd-9683-a3ba1ff991fc",
   "metadata": {},
   "source": [
    "First, calculate the kinship matrix of relatedness among the strains (50-by-50):"
   ]
  },
  {
   "cell_type": "code",
   "execution_count": 26,
   "id": "18e76163-3e2a-40b3-b934-7ee1c9329887",
   "metadata": {},
   "outputs": [],
   "source": [
    "geno_strains = Matrix{Float64}(BXD_geno_strains_summary_df[:, 2:end]);"
   ]
  },
  {
   "cell_type": "code",
   "execution_count": 27,
   "id": "dd7d6569-ee12-4e1f-8fa4-df06d5c62ff8",
   "metadata": {},
   "outputs": [],
   "source": [
    "kinship_strains = calcKinship(geno_strains);"
   ]
  },
  {
   "cell_type": "markdown",
   "id": "e11b6c48-a575-4948-86bf-5e40d01b79c6",
   "metadata": {},
   "source": [
    "Then, construct the kinship matrix of relatedness among the individuals based on which strain they are from:"
   ]
  },
  {
   "cell_type": "code",
   "execution_count": 28,
   "id": "cfcf52f0-8c4a-4a39-83be-9955101cc419",
   "metadata": {},
   "outputs": [
    {
     "data": {
      "text/plain": [
       "calcRepeats (generic function with 1 method)"
      ]
     },
     "execution_count": 28,
     "metadata": {},
     "output_type": "execute_result"
    }
   ],
   "source": [
    "function calcRepeats(x::Array{Int64, 1})\n",
    "    \n",
    "    counting_dict = Dict{Int64, Int64}();\n",
    "    \n",
    "    for i in 1:length(x)\n",
    "        curr_key = x[i];\n",
    "        if haskey(counting_dict, curr_key) # if current key already exists\n",
    "            counting_dict[curr_key] += 1;\n",
    "        else # if current key does not present, add it as a new key\n",
    "            counting_dict[curr_key] = 1;\n",
    "        end\n",
    "    end\n",
    "    \n",
    "    return counting_dict\n",
    "    \n",
    "end"
   ]
  },
  {
   "cell_type": "code",
   "execution_count": 29,
   "id": "a22c5899-227f-44e8-872b-0fb90953fd4b",
   "metadata": {},
   "outputs": [
    {
     "data": {
      "text/plain": [
       "calcIndKinship_from_StrainKinship (generic function with 1 method)"
      ]
     },
     "execution_count": 29,
     "metadata": {},
     "output_type": "execute_result"
    }
   ],
   "source": [
    "function calcIndKinship_from_StrainKinship(kinship_strains::Array{Float64, 2}, \n",
    "                                           strain_info_about_samples::Array{Int64, 1})\n",
    "    \n",
    "    counting_dict = calcRepeats(strain_info_about_samples);\n",
    "    reps_each_strain = map(x -> counting_dict[x], unique(strain_info_about_samples));\n",
    "    \n",
    "    # Initialize the placeholder:\n",
    "    kinship_ind_from_strains = ones(sum(reps_each_strain), sum(reps_each_strain));\n",
    "\n",
    "    # process the first BXD strain...\n",
    "    reps_strain_1 = reps_each_strain[1];\n",
    "    k_11 = kinship_strains[1, 1];\n",
    "    # block_11 = ones(reps_strain_1, reps_strain_1);\n",
    "\n",
    "    row_id = 0;\n",
    "    col_id = 0;\n",
    "\n",
    "    @views kinship_ind_from_strains[(row_id+1):(row_id+reps_strain_1), \n",
    "                             (row_id+1):(row_id+reps_strain_1)] .*= k_11;\n",
    "\n",
    "    for j in 2:length(reps_each_strain)\n",
    "        reps_strain_j = reps_each_strain[j];\n",
    "        k_1j = kinship_strains[1, j];\n",
    "        # block_1j = ones(reps_strain_1, reps_strain_j);\n",
    "\n",
    "        col_id += reps_each_strain[j-1];\n",
    "        @views kinship_ind_from_strains[(row_id+1):(row_id+reps_strain_1), \n",
    "                                 (col_id+1):(col_id+reps_strain_j)] .*= k_1j;\n",
    "\n",
    "        # process the off-diagonal block conveniently...\n",
    "        # block_j1 = ones(reps_strain_j, reps_strain_1);\n",
    "        kinship_ind_from_strains[(col_id+1):(col_id+reps_strain_j),\n",
    "                                 (row_id+1):(row_id+reps_strain_1)] .*= k_1j;\n",
    "\n",
    "    end\n",
    "\n",
    "    # process for the second BXD strain and all after...\n",
    "    # for i in 2:length(reps_each_strain)\n",
    "    for i in 2:length(reps_each_strain)\n",
    "\n",
    "        reps_strain_i = reps_each_strain[i];\n",
    "        k_ii = kinship_strains[i, i];\n",
    "        # block_ii = ones(reps_strain_i, reps_strain_i);\n",
    "\n",
    "        row_id += reps_each_strain[i-1];\n",
    "        @views kinship_ind_from_strains[(row_id+1):(row_id+reps_strain_i), \n",
    "                                 (row_id+1):(row_id+reps_strain_i)] .*= k_ii;\n",
    "\n",
    "        col_id = row_id+reps_strain_i;\n",
    "\n",
    "        for j in (i+1):length(reps_each_strain)\n",
    "\n",
    "            reps_strain_j = reps_each_strain[j];\n",
    "            k_ij = kinship_strains[i, j];\n",
    "            # block_ij = ones(reps_strain_i, reps_strain_j);\n",
    "\n",
    "            @views kinship_ind_from_strains[(row_id+1):(row_id+reps_strain_i), \n",
    "                                     (col_id+1):(col_id+reps_strain_j)] .*= k_ij;\n",
    "\n",
    "            # process the off-diagonal block conveniently...\n",
    "            # block_ji = ones(reps_strain_j, reps_strain_i);\n",
    "            @views kinship_ind_from_strains[(col_id+1):(col_id+reps_strain_j),\n",
    "                                     (row_id+1):(row_id+reps_strain_i)] .*= k_ij;\n",
    "\n",
    "            col_id += reps_each_strain[j];\n",
    "        end\n",
    "    \n",
    "    end\n",
    "    \n",
    "    return kinship_ind_from_strains\n",
    "end"
   ]
  },
  {
   "cell_type": "code",
   "execution_count": 30,
   "id": "1627ff49-f03c-4f7c-95bb-647d9bec26dc",
   "metadata": {},
   "outputs": [],
   "source": [
    "BXD_geno_ind_summary_df.Strain_num = Vector{Int64}(BXD_geno_ind_summary_df.Strain_num);"
   ]
  },
  {
   "cell_type": "code",
   "execution_count": 31,
   "id": "ed61c75f-c283-49fd-acde-30b083d1743b",
   "metadata": {},
   "outputs": [
    {
     "name": "stdout",
     "output_type": "stream",
     "text": [
      "  0.000257 seconds (76 allocations: 503.766 KiB)\n"
     ]
    }
   ],
   "source": [
    "@time kinship_ind_from_strains = calcIndKinship_from_StrainKinship(kinship_strains, BXD_geno_ind_summary_df.Strain_num);"
   ]
  },
  {
   "cell_type": "markdown",
   "id": "c5e77a37-855e-4143-941c-1bd5164b84a7",
   "metadata": {},
   "source": [
    "Compare the runtime with directly calculating the kinship matrix from individual genotype data:"
   ]
  },
  {
   "cell_type": "code",
   "execution_count": 32,
   "id": "d5f97779-e35c-4373-91ae-b9f003c5c280",
   "metadata": {},
   "outputs": [],
   "source": [
    "geno_ind = Matrix{Float64}(BXD_geno_ind_summary_df[:, 4:end]);"
   ]
  },
  {
   "cell_type": "code",
   "execution_count": 33,
   "id": "0306cc96-a8d2-4cbd-a7af-539ee488c70f",
   "metadata": {},
   "outputs": [
    {
     "name": "stdout",
     "output_type": "stream",
     "text": [
      "  3.298689 seconds (306.28 k allocations: 8.368 GiB, 6.27% gc time)\n"
     ]
    }
   ],
   "source": [
    "@time kinship_ind_from_ind = calcKinship(geno_ind);"
   ]
  },
  {
   "cell_type": "code",
   "execution_count": 34,
   "id": "cfe9f696-f089-4865-a081-a5dd95d5c87e",
   "metadata": {},
   "outputs": [
    {
     "data": {
      "text/plain": [
       "0.04186586531894554"
      ]
     },
     "execution_count": 34,
     "metadata": {},
     "output_type": "execute_result"
    }
   ],
   "source": [
    "maximum(abs.(kinship_ind_from_ind .- kinship_ind_from_strains))"
   ]
  },
  {
   "cell_type": "markdown",
   "id": "19b9c567-b404-429c-a3a6-6053ffec44d4",
   "metadata": {},
   "source": [
    "### Single-trait genome scans:"
   ]
  },
  {
   "cell_type": "markdown",
   "id": "bcbd89b9-2ad3-40a8-8e8d-81512875debb",
   "metadata": {},
   "source": [
    "To see single trait genome scan results, we take the 7512-th livear proteomic as the single trait to run analysis:  "
   ]
  },
  {
   "cell_type": "code",
   "execution_count": 35,
   "id": "547fc3eb-99e8-43b7-a7dd-bb0d3073b3b5",
   "metadata": {},
   "outputs": [],
   "source": [
    "lp_names = names(BXD_pheno_ind_summary_df)[4:end];"
   ]
  },
  {
   "cell_type": "code",
   "execution_count": 36,
   "id": "07a1bf7c-d333-4826-ab63-513f87006589",
   "metadata": {},
   "outputs": [
    {
     "data": {
      "text/plain": [
       "\"P61924_VALRGEDVPLTEQTVSQVLQSAK_3\""
      ]
     },
     "execution_count": 36,
     "metadata": {},
     "output_type": "execute_result"
    }
   ],
   "source": [
    "lp_id = 7512;\n",
    "lp_names[lp_id]"
   ]
  },
  {
   "cell_type": "markdown",
   "id": "fb6aa497-38b0-4c8e-9582-c675019bfcfc",
   "metadata": {},
   "source": [
    "#### For individual liver proteome"
   ]
  },
  {
   "cell_type": "code",
   "execution_count": 37,
   "id": "f9e6bc67-fc56-47ae-aa0c-df73658709b0",
   "metadata": {},
   "outputs": [],
   "source": [
    "lp_ind_Y = Matrix{Float64}(BXD_pheno_ind_summary_df[:, 4:end]);\n",
    "lp_ind_y = reshape(lp_ind_Y[:, lp_id], :, 1);"
   ]
  },
  {
   "cell_type": "code",
   "execution_count": 38,
   "id": "46e776f3-20ed-4c79-b942-02f00cb0914f",
   "metadata": {},
   "outputs": [],
   "source": [
    "## Huberized individuals data:\n",
    "lp_ind_Y_hub = Matrix{Float64}(BXD_pheno_huber_ind_summary_df[:, 4:end]);\n",
    "lp_ind_y_hub = reshape(lp_ind_Y_hub[:, lp_id], :, 1);"
   ]
  },
  {
   "cell_type": "code",
   "execution_count": 39,
   "id": "f2da6aaf-aedd-4183-9160-777a5f0ffd9a",
   "metadata": {},
   "outputs": [],
   "source": [
    "lpst_ind_Y = colStandardize(lp_ind_Y);\n",
    "lpst_ind_y = reshape(lpst_ind_Y[:, lp_id], :, 1);\n",
    "lpst_ind_Y_hub = colStandardize(lp_ind_Y_hub);\n",
    "lpst_ind_y_hub = reshape(lpst_ind_Y_hub[:, lp_id], :, 1);"
   ]
  },
  {
   "cell_type": "code",
   "execution_count": 40,
   "id": "fb383cb0-71d2-45ea-97ba-b5d685e69607",
   "metadata": {},
   "outputs": [
    {
     "name": "stdout",
     "output_type": "stream",
     "text": [
      "  0.172116 seconds (80.94 k allocations: 134.905 MiB)\n"
     ]
    }
   ],
   "source": [
    "@time scan_results_ind = scan(lp_ind_y, geno_ind, kinship_ind_from_strains);"
   ]
  },
  {
   "cell_type": "code",
   "execution_count": 41,
   "id": "b44968a6-e24e-46bc-99c1-c5f5a8599e96",
   "metadata": {},
   "outputs": [
    {
     "name": "stdout",
     "output_type": "stream",
     "text": [
      "  5.005654 seconds (4.00 M allocations: 4.976 GiB, 15.40% gc time)\n"
     ]
    }
   ],
   "source": [
    "@time scan_results_ind_alt = scan(lp_ind_y, geno_ind, kinship_ind_from_strains;\n",
    "                                  assumption = \"alt\");"
   ]
  },
  {
   "cell_type": "code",
   "execution_count": 42,
   "id": "9c03e809-2462-4340-8493-ca18c3343d2d",
   "metadata": {},
   "outputs": [
    {
     "name": "stdout",
     "output_type": "stream",
     "text": [
      "  4.201728 seconds (3.89 M allocations: 4.830 GiB, 7.62% gc time)\n"
     ]
    }
   ],
   "source": [
    "@time scan_st_results_ind_alt = scan(lpst_ind_y, geno_ind, kinship_ind_from_strains;\n",
    "                                  assumption = \"alt\", \n",
    "                                  prior_variance = 1.0, prior_sample_size = 0.1);"
   ]
  },
  {
   "cell_type": "markdown",
   "id": "c5dee00f-8806-4196-833e-85138b7c76a5",
   "metadata": {},
   "source": [
    "##### Huberized..."
   ]
  },
  {
   "cell_type": "code",
   "execution_count": 43,
   "id": "b6a14dd3-3acb-458d-b7b9-6739fe2d50d3",
   "metadata": {},
   "outputs": [
    {
     "name": "stdout",
     "output_type": "stream",
     "text": [
      "  0.130011 seconds (81.10 k allocations: 135.087 MiB)\n"
     ]
    }
   ],
   "source": [
    "@time scan_results_ind_hub = scan(lp_ind_y_hub, geno_ind, kinship_ind_from_strains);"
   ]
  },
  {
   "cell_type": "code",
   "execution_count": 44,
   "id": "5c78c03a-5852-4063-9216-acf8338be573",
   "metadata": {},
   "outputs": [
    {
     "name": "stdout",
     "output_type": "stream",
     "text": [
      "  7.548068 seconds (6.98 M allocations: 8.671 GiB, 7.41% gc time)\n"
     ]
    }
   ],
   "source": [
    "@time scan_results_ind_alt_hub = scan(lp_ind_y_hub, geno_ind, kinship_ind_from_strains;\n",
    "                                      assumption = \"alt\");"
   ]
  },
  {
   "cell_type": "code",
   "execution_count": 45,
   "id": "7c41a206-47cf-4274-9961-969760ab167f",
   "metadata": {},
   "outputs": [
    {
     "name": "stdout",
     "output_type": "stream",
     "text": [
      "  7.699729 seconds (6.98 M allocations: 8.671 GiB, 7.12% gc time)\n"
     ]
    }
   ],
   "source": [
    "@time scan_st_results_ind_alt_hub = scan(lpst_ind_y_hub, geno_ind, kinship_ind_from_strains;\n",
    "                                         assumption = \"alt\",\n",
    "                                         prior_variance = 1.0, prior_sample_size = 0.1);"
   ]
  },
  {
   "cell_type": "code",
   "execution_count": 46,
   "id": "1862e7c0-014a-444a-88e0-0783ee5fb2cc",
   "metadata": {},
   "outputs": [
    {
     "data": {
      "text/plain": [
       "0.0"
      ]
     },
     "execution_count": 46,
     "metadata": {},
     "output_type": "execute_result"
    }
   ],
   "source": [
    "scan_results_ind_hub.h2_null"
   ]
  },
  {
   "cell_type": "code",
   "execution_count": 47,
   "id": "4cb56fea-b26f-404b-a4e3-f348f3a0dd0b",
   "metadata": {},
   "outputs": [
    {
     "data": {
      "text/plain": [
       "0.0"
      ]
     },
     "execution_count": 47,
     "metadata": {},
     "output_type": "execute_result"
    }
   ],
   "source": [
    "scan_results_ind_alt_hub.h2_null"
   ]
  },
  {
   "cell_type": "code",
   "execution_count": 48,
   "id": "9776d671-d9ae-4557-9372-38d204a8fe9b",
   "metadata": {},
   "outputs": [
    {
     "data": {
      "text/plain": [
       "0.0"
      ]
     },
     "execution_count": 48,
     "metadata": {},
     "output_type": "execute_result"
    }
   ],
   "source": [
    "scan_st_results_ind_alt_hub.h2_null"
   ]
  },
  {
   "cell_type": "code",
   "execution_count": 49,
   "id": "33b9a119-0f74-4db2-aa40-5ef34bc8f1d6",
   "metadata": {},
   "outputs": [
    {
     "data": {
      "text/plain": [
       "7321×2 Matrix{Float64}:\n",
       " 0.232151  0.0729695\n",
       " 0.232151  0.0729695\n",
       " 0.232151  0.0729695\n",
       " 0.232151  0.0729695\n",
       " 0.232151  0.0729695\n",
       " 0.232151  0.0729695\n",
       " 0.232151  0.0729695\n",
       " 0.232151  0.0729695\n",
       " 0.232151  0.0729695\n",
       " 0.232151  0.0729695\n",
       " 0.232151  0.0729695\n",
       " 0.232151  0.0729695\n",
       " 0.224441  0.096154\n",
       " ⋮         \n",
       " 0.764663  0.846453\n",
       " 0.764663  0.846453\n",
       " 0.764663  0.846453\n",
       " 0.693795  0.744502\n",
       " 0.554794  0.594852\n",
       " 0.554794  0.594852\n",
       " 0.593088  0.667094\n",
       " 0.637187  0.715399\n",
       " 0.593088  0.667094\n",
       " 0.637187  0.715399\n",
       " 0.510479  0.536802\n",
       " 0.510479  0.536802"
      ]
     },
     "execution_count": 49,
     "metadata": {},
     "output_type": "execute_result"
    }
   ],
   "source": [
    "hcat(scan_results_ind_alt.lod, scan_results_ind_alt_hub.lod)"
   ]
  },
  {
   "cell_type": "code",
   "execution_count": 50,
   "id": "4eb97040-9b9d-4b6a-b8c1-b497f16cd24b",
   "metadata": {},
   "outputs": [
    {
     "name": "stdout",
     "output_type": "stream",
     "text": [
      "  0.922270 seconds (1.91 M allocations: 259.288 MiB, 89.03% compilation time)\n"
     ]
    }
   ],
   "source": [
    "@time scan_perms_results_ind = scan(lp_ind_y, geno_ind, kinship_ind_from_strains;\n",
    "                                    permutation_test = true, nperms = 1000, original = true);"
   ]
  },
  {
   "cell_type": "markdown",
   "id": "02074d3d-dfce-4b1d-a559-e03508615ca3",
   "metadata": {},
   "source": [
    "#### For liver proteome means by strains"
   ]
  },
  {
   "cell_type": "code",
   "execution_count": 51,
   "id": "4b51bafb-a1de-41c5-9f0d-b708b4972cdb",
   "metadata": {},
   "outputs": [],
   "source": [
    "lp_strains_Y = Matrix{Float64}(BXD_pheno_strains_summary_df[:, 3:end]);\n",
    "lp_strains_y = reshape(lp_strains_Y[:, lp_id], :, 1);"
   ]
  },
  {
   "cell_type": "code",
   "execution_count": 52,
   "id": "b8b9d35b-3061-4d3f-9f57-be13fa1d39bd",
   "metadata": {},
   "outputs": [],
   "source": [
    "lpst_strains_Y = colStandardize(lp_strains_Y);\n",
    "lpst_strains_y = reshape(lpst_strains_Y[:, lp_id], :, 1);"
   ]
  },
  {
   "cell_type": "markdown",
   "id": "e74f136e-1af7-40fd-b5bf-7efe42ab9757",
   "metadata": {},
   "source": [
    "(strain means of the huberized individual liver proteome...)"
   ]
  },
  {
   "cell_type": "code",
   "execution_count": 53,
   "id": "4c4fa4f6-1822-47e1-b623-77534cab5a25",
   "metadata": {},
   "outputs": [],
   "source": [
    "# lp_strains_Y_hub = Matrix{Float64}(BXD_pheno_huber_strains_summary_df[:, 3:end]);\n",
    "# lp_strains_y_hub = reshape(lp_strains_Y_hub[:, lp_id], :, 1);"
   ]
  },
  {
   "cell_type": "markdown",
   "id": "782264ea-3983-4d42-9580-9d05243969b0",
   "metadata": {},
   "source": [
    "Instead, take the strain means from the original individual data, and then apply huberization:"
   ]
  },
  {
   "cell_type": "code",
   "execution_count": 54,
   "id": "78b8669f-fe96-4a74-8382-206f4f9c780f",
   "metadata": {},
   "outputs": [
    {
     "name": "stdout",
     "output_type": "stream",
     "text": [
      "  0.480738 seconds (1.46 M allocations: 182.745 MiB, 68.28% compilation time)\n",
      "  0.048525 seconds (87.29 k allocations: 17.325 MiB, 86.47% compilation time)\n"
     ]
    }
   ],
   "source": [
    "@time lp_strains_Y_hub = map(x -> huberize(lp_strains_Y[:, x]), 1:size(lp_strains_Y, 2));\n",
    "@time lp_strains_Y_hub = reduce(hcat, lp_strains_Y_hub);\n",
    "lp_strains_y_hub = reshape(lp_strains_Y_hub[:, lp_id], :, 1);"
   ]
  },
  {
   "cell_type": "code",
   "execution_count": 55,
   "id": "2a9f7f07-01ab-4b35-99f5-e24e8ed2b178",
   "metadata": {},
   "outputs": [],
   "source": [
    "BXD_strain_means_huberized_summary_df = DataFrame(\n",
    "    hcat(Matrix{Any}(BXD_pheno_strains_summary_df[:, 1:2]), lp_strains_Y_hub),\n",
    "    names(BXD_pheno_strains_summary_df));\n",
    "\n",
    "CSV.write(\"data/GN886_pheno_huber_strain_means_summary.csv\", BXD_strain_means_huberized_summary_df);"
   ]
  },
  {
   "cell_type": "code",
   "execution_count": 56,
   "id": "7156eec1-85dd-406e-95c3-8b675b9bc568",
   "metadata": {},
   "outputs": [],
   "source": [
    "lpst_strains_Y_hub = colStandardize(lp_strains_Y_hub);\n",
    "lpst_strains_y_hub = reshape(lpst_strains_Y_hub[:, lp_id], :, 1);"
   ]
  },
  {
   "cell_type": "code",
   "execution_count": 57,
   "id": "8d181cef-df57-4e17-b4bc-f7c6a8a41d2f",
   "metadata": {},
   "outputs": [
    {
     "name": "stdout",
     "output_type": "stream",
     "text": [
      "  0.108344 seconds (243.46 k allocations: 41.780 MiB, 62.59% compilation time)\n"
     ]
    }
   ],
   "source": [
    "@time scan_results_strains = scan(lp_strains_y, geno_strains, kinship_strains; prior_variance = var(lp_strains_y));"
   ]
  },
  {
   "cell_type": "code",
   "execution_count": 58,
   "id": "558a9947-1e61-402e-90da-5a8c1cae15c7",
   "metadata": {},
   "outputs": [
    {
     "name": "stdout",
     "output_type": "stream",
     "text": [
      "  4.028338 seconds (10.34 M allocations: 3.214 GiB, 11.20% gc time)\n"
     ]
    }
   ],
   "source": [
    "@time scan_results_strains_alt = scan(lp_strains_y, geno_strains, kinship_strains;\n",
    "                                      assumption = \"alt\");"
   ]
  },
  {
   "cell_type": "markdown",
   "id": "faf83850-37e3-458f-ace0-45c28d34968b",
   "metadata": {},
   "source": [
    "##### Huberized... "
   ]
  },
  {
   "cell_type": "code",
   "execution_count": 59,
   "id": "6cb21105-cdbc-4a1f-ae30-3e3952e701c0",
   "metadata": {},
   "outputs": [
    {
     "name": "stdout",
     "output_type": "stream",
     "text": [
      "  0.044570 seconds (80.91 k allocations: 32.292 MiB)\n"
     ]
    }
   ],
   "source": [
    "@time scan_results_strains_hub = scan(lp_strains_y_hub, geno_strains, kinship_strains);"
   ]
  },
  {
   "cell_type": "code",
   "execution_count": 60,
   "id": "4546600f-0b64-471b-a8fc-15b0b0a28e63",
   "metadata": {},
   "outputs": [
    {
     "name": "stdout",
     "output_type": "stream",
     "text": [
      "  2.228895 seconds (5.79 M allocations: 1.801 GiB, 8.57% gc time)\n"
     ]
    }
   ],
   "source": [
    "@time scan_results_strains_alt_hub = scan(lp_strains_y_hub, geno_strains, kinship_strains;\n",
    "                                          assumption = \"alt\");"
   ]
  },
  {
   "cell_type": "code",
   "execution_count": 61,
   "id": "b02933f0-cdab-48ae-af03-99d7f2b07152",
   "metadata": {},
   "outputs": [
    {
     "name": "stdout",
     "output_type": "stream",
     "text": [
      "  2.390328 seconds (6.01 M allocations: 1.869 GiB, 11.78% gc time, 0.20% compilation time)\n"
     ]
    }
   ],
   "source": [
    "@time scan_results_strains_alt_hub_c = scan(lp_strains_y_hub, geno_strains, kinship_strains;\n",
    "                                          assumption = \"alt\",  \n",
    "                                          prior_variance = var(lp_strains_y_hub), \n",
    "                                          prior_sample_size = 0.1);"
   ]
  },
  {
   "cell_type": "code",
   "execution_count": 62,
   "id": "f7e7ec8e-7352-4fef-a22c-d61e90fbae53",
   "metadata": {},
   "outputs": [
    {
     "name": "stdout",
     "output_type": "stream",
     "text": [
      "  0.033696 seconds (91.31 k allocations: 79.028 MiB)\n"
     ]
    }
   ],
   "source": [
    "@time scan_perms_results_strains = scan(lp_strains_y, geno_strains, kinship_strains;\n",
    "                                        permutation_test = true, nperms = 1000, original = true);"
   ]
  },
  {
   "cell_type": "markdown",
   "id": "e581b199-d92b-4b4a-950f-888df22eb3f2",
   "metadata": {},
   "source": [
    "### Multiple-trait genome scans:"
   ]
  },
  {
   "cell_type": "code",
   "execution_count": 63,
   "id": "cd08a07d-6a5c-45e0-a9a3-2aa199495c2a",
   "metadata": {},
   "outputs": [],
   "source": [
    "BLAS.set_num_threads(16)"
   ]
  },
  {
   "cell_type": "code",
   "execution_count": 64,
   "id": "e02cca07-1c96-4fa6-89a5-4582abc864f1",
   "metadata": {},
   "outputs": [
    {
     "data": {
      "text/plain": [
       "16"
      ]
     },
     "execution_count": 64,
     "metadata": {},
     "output_type": "execute_result"
    }
   ],
   "source": [
    "BLAS.get_num_threads()"
   ]
  },
  {
   "cell_type": "code",
   "execution_count": 65,
   "id": "bea4f61b-409c-47a7-a2ff-00c7acebe2f0",
   "metadata": {},
   "outputs": [],
   "source": [
    "grid_list = collect(0.0:0.01:0.99);"
   ]
  },
  {
   "cell_type": "markdown",
   "id": "15398327-2dcb-4168-8f30-a8bc4c3957ae",
   "metadata": {},
   "source": [
    "#### For individual liver proteome"
   ]
  },
  {
   "cell_type": "code",
   "execution_count": 66,
   "id": "3885674f-e06e-47fb-b0d7-5ca1e5cf027d",
   "metadata": {},
   "outputs": [
    {
     "data": {
      "text/plain": [
       "BenchmarkTools.Trial: 1 sample with 1 evaluation.\n",
       " Single result which took \u001b[34m18.270 s\u001b[39m (7.62% GC) to evaluate,\n",
       " with a memory estimate of \u001b[33m41.76 GiB\u001b[39m, over \u001b[33m46806687\u001b[39m allocations."
      ]
     },
     "execution_count": 66,
     "metadata": {},
     "output_type": "execute_result"
    }
   ],
   "source": [
    "@benchmark bulkscan_null_grid(lp_ind_Y, geno_ind, kinship_ind_from_strains, grid_list)"
   ]
  },
  {
   "cell_type": "code",
   "execution_count": 67,
   "id": "2a304cb3-24ef-483e-a3ee-9ac484b2c3fb",
   "metadata": {},
   "outputs": [
    {
     "name": "stdout",
     "output_type": "stream",
     "text": [
      "193.207012 seconds (2.60 G allocations: 1.814 TiB, 12.78% gc time, 0.03% compilation time)\n"
     ]
    }
   ],
   "source": [
    "@time bulkscan_results_null_ind = bulkscan_null(lp_ind_Y, geno_ind, kinship_ind_from_strains; nb = 16);"
   ]
  },
  {
   "cell_type": "code",
   "execution_count": 68,
   "id": "0a73fb1d-8e91-4cc8-a227-236ceda8f66b",
   "metadata": {},
   "outputs": [],
   "source": [
    "BLAS.set_num_threads(16)"
   ]
  },
  {
   "cell_type": "code",
   "execution_count": 69,
   "id": "44d2515c-83a5-419a-a1d1-5e9151ceacc2",
   "metadata": {},
   "outputs": [
    {
     "data": {
      "text/plain": [
       "BenchmarkTools.Trial: 1 sample with 1 evaluation.\n",
       " Single result which took \u001b[34m118.814 s\u001b[39m (1.26% GC) to evaluate,\n",
       " with a memory estimate of \u001b[33m208.84 GiB\u001b[39m, over \u001b[33m43457651\u001b[39m allocations."
      ]
     },
     "execution_count": 69,
     "metadata": {},
     "output_type": "execute_result"
    }
   ],
   "source": [
    "@benchmark bulkscan_alt_grid(lp_ind_Y, geno_ind, kinship_ind_from_strains, grid_list)"
   ]
  },
  {
   "cell_type": "code",
   "execution_count": 70,
   "id": "c8b20542-0959-472e-9ae8-df190723e01e",
   "metadata": {},
   "outputs": [
    {
     "name": "stdout",
     "output_type": "stream",
     "text": [
      " 17.868354 seconds (46.81 M allocations: 41.761 GiB, 3.28% gc time)\n"
     ]
    }
   ],
   "source": [
    "@time bulkscan_results_ind = bulkscan_null_grid(lp_ind_Y, geno_ind, kinship_ind_from_strains, grid_list);"
   ]
  },
  {
   "cell_type": "markdown",
   "id": "f69ba271-fe23-4764-9186-4167a256a964",
   "metadata": {},
   "source": [
    "#### For liver proteome means by strains"
   ]
  },
  {
   "cell_type": "code",
   "execution_count": 71,
   "id": "2d2442d4-183b-49d5-aa62-6e0c19030921",
   "metadata": {},
   "outputs": [],
   "source": [
    "grid_list = collect(0.0:0.01:0.99);"
   ]
  },
  {
   "cell_type": "code",
   "execution_count": 72,
   "id": "144309ed-5af7-450d-ad8b-8533a9676f4e",
   "metadata": {},
   "outputs": [
    {
     "data": {
      "text/plain": [
       "BenchmarkTools.Trial: 1 sample with 1 evaluation.\n",
       " Single result which took \u001b[34m7.519 s\u001b[39m (7.52% GC) to evaluate,\n",
       " with a memory estimate of \u001b[33m11.78 GiB\u001b[39m, over \u001b[33m43673888\u001b[39m allocations."
      ]
     },
     "execution_count": 72,
     "metadata": {},
     "output_type": "execute_result"
    }
   ],
   "source": [
    "@benchmark bulkscan_null_grid(lp_strains_Y, geno_strains, kinship_strains, grid_list)"
   ]
  },
  {
   "cell_type": "code",
   "execution_count": 73,
   "id": "f1d7f72c-5fd7-4135-94d0-7afaf3c8e396",
   "metadata": {},
   "outputs": [
    {
     "name": "stdout",
     "output_type": "stream",
     "text": [
      " 65.088784 seconds (2.61 G allocations: 434.646 GiB, 38.94% gc time)\n"
     ]
    }
   ],
   "source": [
    "@time bulkscan_results_null_strains = bulkscan_null(lp_strains_Y, geno_strains, kinship_strains);"
   ]
  },
  {
   "cell_type": "code",
   "execution_count": 74,
   "id": "a1231e79-a93f-4fc7-8927-033d0dc5bf93",
   "metadata": {},
   "outputs": [],
   "source": [
    "BLAS.set_num_threads(16)"
   ]
  },
  {
   "cell_type": "code",
   "execution_count": 75,
   "id": "72a4ee75-e32b-4f97-b062-55afb687f85c",
   "metadata": {},
   "outputs": [
    {
     "data": {
      "text/plain": [
       "BenchmarkTools.Trial: 1 sample with 1 evaluation.\n",
       " Single result which took \u001b[34m84.884 s\u001b[39m (1.47% GC) to evaluate,\n",
       " with a memory estimate of \u001b[33m184.22 GiB\u001b[39m, over \u001b[33m43457817\u001b[39m allocations."
      ]
     },
     "execution_count": 75,
     "metadata": {},
     "output_type": "execute_result"
    }
   ],
   "source": [
    "@benchmark bulkscan_alt_grid(lp_strains_Y, geno_strains, kinship_strains, grid_list)"
   ]
  },
  {
   "cell_type": "code",
   "execution_count": 76,
   "id": "bd1ea493-2cc3-4e3c-9f4c-8faaf7cc10d2",
   "metadata": {},
   "outputs": [
    {
     "name": "stdout",
     "output_type": "stream",
     "text": [
      "  8.389346 seconds (43.67 M allocations: 11.782 GiB, 5.10% gc time)\n"
     ]
    }
   ],
   "source": [
    "@time bulkscan_results_strains = bulkscan_null_grid(lp_strains_Y, geno_strains, kinship_strains, grid_list);"
   ]
  },
  {
   "cell_type": "code",
   "execution_count": 77,
   "id": "30095e95-0d51-40ba-b221-986a8fddd0b2",
   "metadata": {},
   "outputs": [
    {
     "data": {
      "text/plain": [
       "0.0"
      ]
     },
     "execution_count": 77,
     "metadata": {},
     "output_type": "execute_result"
    }
   ],
   "source": [
    "scan_results_ind_hub.h2_null"
   ]
  },
  {
   "cell_type": "code",
   "execution_count": 78,
   "id": "d399fa80-1f78-46e3-afb5-61f85f5abc54",
   "metadata": {},
   "outputs": [
    {
     "data": {
      "text/plain": [
       "0.0"
      ]
     },
     "execution_count": 78,
     "metadata": {},
     "output_type": "execute_result"
    }
   ],
   "source": [
    "scan_results_strains_hub.h2_null"
   ]
  },
  {
   "cell_type": "code",
   "execution_count": 83,
   "id": "2e78b39c-a53f-4930-8d2d-5ee55f47b346",
   "metadata": {},
   "outputs": [
    {
     "data": {
      "text/html": [
       "<div><div style = \"float: left;\"><span>10×4 DataFrame</span></div><div style = \"clear: both;\"></div></div><div class = \"data-frame\" style = \"overflow-x: scroll;\"><table class = \"data-frame\" style = \"margin-bottom: 6px;\"><thead><tr class = \"header\"><th class = \"rowNumber\" style = \"font-weight: bold; text-align: right;\">Row</th><th style = \"text-align: left;\">LOD_ind</th><th style = \"text-align: left;\">LOD_ind_grid</th><th style = \"text-align: left;\">LOD_strains</th><th style = \"text-align: left;\">LOD_strains_grid</th></tr><tr class = \"subheader headerLastRow\"><th class = \"rowNumber\" style = \"font-weight: bold; text-align: right;\"></th><th title = \"Float64\" style = \"text-align: left;\">Float64</th><th title = \"Float64\" style = \"text-align: left;\">Float64</th><th title = \"Float64\" style = \"text-align: left;\">Float64</th><th title = \"Float64\" style = \"text-align: left;\">Float64</th></tr></thead><tbody><tr><td class = \"rowNumber\" style = \"font-weight: bold; text-align: right;\">1</td><td style = \"text-align: right;\">0.232074</td><td style = \"text-align: right;\">0.232067</td><td style = \"text-align: right;\">0.0175979</td><td style = \"text-align: right;\">0.0175979</td></tr><tr><td class = \"rowNumber\" style = \"font-weight: bold; text-align: right;\">2</td><td style = \"text-align: right;\">0.232074</td><td style = \"text-align: right;\">0.232067</td><td style = \"text-align: right;\">0.0175979</td><td style = \"text-align: right;\">0.0175979</td></tr><tr><td class = \"rowNumber\" style = \"font-weight: bold; text-align: right;\">3</td><td style = \"text-align: right;\">0.232074</td><td style = \"text-align: right;\">0.232067</td><td style = \"text-align: right;\">0.0175979</td><td style = \"text-align: right;\">0.0175979</td></tr><tr><td class = \"rowNumber\" style = \"font-weight: bold; text-align: right;\">4</td><td style = \"text-align: right;\">0.232074</td><td style = \"text-align: right;\">0.232067</td><td style = \"text-align: right;\">0.0175979</td><td style = \"text-align: right;\">0.0175979</td></tr><tr><td class = \"rowNumber\" style = \"font-weight: bold; text-align: right;\">5</td><td style = \"text-align: right;\">0.232074</td><td style = \"text-align: right;\">0.232067</td><td style = \"text-align: right;\">0.0175979</td><td style = \"text-align: right;\">0.0175979</td></tr><tr><td class = \"rowNumber\" style = \"font-weight: bold; text-align: right;\">6</td><td style = \"text-align: right;\">0.232074</td><td style = \"text-align: right;\">0.232067</td><td style = \"text-align: right;\">0.0175979</td><td style = \"text-align: right;\">0.0175979</td></tr><tr><td class = \"rowNumber\" style = \"font-weight: bold; text-align: right;\">7</td><td style = \"text-align: right;\">0.232074</td><td style = \"text-align: right;\">0.232067</td><td style = \"text-align: right;\">0.0175979</td><td style = \"text-align: right;\">0.0175979</td></tr><tr><td class = \"rowNumber\" style = \"font-weight: bold; text-align: right;\">8</td><td style = \"text-align: right;\">0.232074</td><td style = \"text-align: right;\">0.232067</td><td style = \"text-align: right;\">0.0175979</td><td style = \"text-align: right;\">0.0175979</td></tr><tr><td class = \"rowNumber\" style = \"font-weight: bold; text-align: right;\">9</td><td style = \"text-align: right;\">0.232074</td><td style = \"text-align: right;\">0.232067</td><td style = \"text-align: right;\">0.0175979</td><td style = \"text-align: right;\">0.0175979</td></tr><tr><td class = \"rowNumber\" style = \"font-weight: bold; text-align: right;\">10</td><td style = \"text-align: right;\">0.232074</td><td style = \"text-align: right;\">0.232067</td><td style = \"text-align: right;\">0.0175979</td><td style = \"text-align: right;\">0.0175979</td></tr></tbody></table></div>"
      ],
      "text/latex": [
       "\\begin{tabular}{r|cccc}\n",
       "\t& LOD\\_ind & LOD\\_ind\\_grid & LOD\\_strains & LOD\\_strains\\_grid\\\\\n",
       "\t\\hline\n",
       "\t& Float64 & Float64 & Float64 & Float64\\\\\n",
       "\t\\hline\n",
       "\t1 & 0.232074 & 0.232067 & 0.0175979 & 0.0175979 \\\\\n",
       "\t2 & 0.232074 & 0.232067 & 0.0175979 & 0.0175979 \\\\\n",
       "\t3 & 0.232074 & 0.232067 & 0.0175979 & 0.0175979 \\\\\n",
       "\t4 & 0.232074 & 0.232067 & 0.0175979 & 0.0175979 \\\\\n",
       "\t5 & 0.232074 & 0.232067 & 0.0175979 & 0.0175979 \\\\\n",
       "\t6 & 0.232074 & 0.232067 & 0.0175979 & 0.0175979 \\\\\n",
       "\t7 & 0.232074 & 0.232067 & 0.0175979 & 0.0175979 \\\\\n",
       "\t8 & 0.232074 & 0.232067 & 0.0175979 & 0.0175979 \\\\\n",
       "\t9 & 0.232074 & 0.232067 & 0.0175979 & 0.0175979 \\\\\n",
       "\t10 & 0.232074 & 0.232067 & 0.0175979 & 0.0175979 \\\\\n",
       "\\end{tabular}\n"
      ],
      "text/plain": [
       "\u001b[1m10×4 DataFrame\u001b[0m\n",
       "\u001b[1m Row \u001b[0m│\u001b[1m LOD_ind  \u001b[0m\u001b[1m LOD_ind_grid \u001b[0m\u001b[1m LOD_strains \u001b[0m\u001b[1m LOD_strains_grid \u001b[0m\n",
       "     │\u001b[90m Float64  \u001b[0m\u001b[90m Float64      \u001b[0m\u001b[90m Float64     \u001b[0m\u001b[90m Float64          \u001b[0m\n",
       "─────┼───────────────────────────────────────────────────────\n",
       "   1 │ 0.232074      0.232067    0.0175979         0.0175979\n",
       "   2 │ 0.232074      0.232067    0.0175979         0.0175979\n",
       "   3 │ 0.232074      0.232067    0.0175979         0.0175979\n",
       "   4 │ 0.232074      0.232067    0.0175979         0.0175979\n",
       "   5 │ 0.232074      0.232067    0.0175979         0.0175979\n",
       "   6 │ 0.232074      0.232067    0.0175979         0.0175979\n",
       "   7 │ 0.232074      0.232067    0.0175979         0.0175979\n",
       "   8 │ 0.232074      0.232067    0.0175979         0.0175979\n",
       "   9 │ 0.232074      0.232067    0.0175979         0.0175979\n",
       "  10 │ 0.232074      0.232067    0.0175979         0.0175979"
      ]
     },
     "execution_count": 85,
     "metadata": {},
     "output_type": "execute_result"
    }
   ],
   "source": [
    "hcat(scan_results_ind.lod, bulkscan_results_ind.L[:, lp_id], \n",
    "     scan_results_strains.lod, bulkscan_results_strains.L[:, lp_id]) |> \n",
    "(x -> DataFrame(x, [\"LOD_ind\", \"LOD_ind_grid\",  \"LOD_strains\", \"LOD_strains_grid\"])) |> x -> x[1:10, :]"
   ]
  },
  {
   "cell_type": "code",
   "execution_count": 84,
   "id": "1c131979-131a-4cfe-8d70-ccdaa873d06c",
   "metadata": {},
   "outputs": [
    {
     "data": {
      "text/plain": [
       "7321-element Vector{Float64}:\n",
       " 0.01759789271605796\n",
       " 0.01759789271605796\n",
       " 0.01759789271605796\n",
       " 0.01759789271605796\n",
       " 0.01759789271605796\n",
       " 0.01759789271605796\n",
       " 0.01759789271605796\n",
       " 0.01759789271605796\n",
       " 0.01759789271605796\n",
       " 0.01759789271605796\n",
       " 0.01759789271605796\n",
       " 0.01759789271605796\n",
       " 0.018276021885086768\n",
       " ⋮\n",
       " 1.121859037927299\n",
       " 1.121859037927299\n",
       " 1.121859037927299\n",
       " 1.0740009400657125\n",
       " 0.988228626611079\n",
       " 0.988228626611079\n",
       " 1.0330695940989287\n",
       " 1.1292342006500697\n",
       " 1.0330695940989287\n",
       " 1.1292342006500697\n",
       " 0.8539088796289366\n",
       " 0.8539088796289366"
      ]
     },
     "execution_count": 84,
     "metadata": {},
     "output_type": "execute_result"
    }
   ],
   "source": [
    "scan_results_strains_alt.lod"
   ]
  },
  {
   "cell_type": "code",
   "execution_count": 80,
   "id": "c6898101-1ae1-4929-ac34-b61afe75b518",
   "metadata": {},
   "outputs": [
    {
     "data": {
      "image/svg+xml": [
       "<?xml version=\"1.0\" encoding=\"utf-8\"?>\n",
       "<svg xmlns=\"http://www.w3.org/2000/svg\" xmlns:xlink=\"http://www.w3.org/1999/xlink\" width=\"600\" height=\"400\" viewBox=\"0 0 2400 1600\">\n",
       "<defs>\n",
       "  <clipPath id=\"clip800\">\n",
       "    <rect x=\"0\" y=\"0\" width=\"2400\" height=\"1600\"/>\n",
       "  </clipPath>\n",
       "</defs>\n",
       "<path clip-path=\"url(#clip800)\" d=\"\n",
       "M0 1600 L2400 1600 L2400 0 L0 0  Z\n",
       "  \" fill=\"#ffffff\" fill-rule=\"evenodd\" fill-opacity=\"1\"/>\n",
       "<defs>\n",
       "  <clipPath id=\"clip801\">\n",
       "    <rect x=\"480\" y=\"0\" width=\"1681\" height=\"1600\"/>\n",
       "  </clipPath>\n",
       "</defs>\n",
       "<path clip-path=\"url(#clip800)\" d=\"\n",
       "M110.881 1486.45 L2352.76 1486.45 L2352.76 47.2441 L110.881 47.2441  Z\n",
       "  \" fill=\"#ffffff\" fill-rule=\"evenodd\" fill-opacity=\"1\"/>\n",
       "<defs>\n",
       "  <clipPath id=\"clip802\">\n",
       "    <rect x=\"110\" y=\"47\" width=\"2243\" height=\"1440\"/>\n",
       "  </clipPath>\n",
       "</defs>\n",
       "<polyline clip-path=\"url(#clip802)\" style=\"stroke:#000000; stroke-linecap:round; stroke-linejoin:round; stroke-width:2; stroke-opacity:0.1; fill:none\" points=\"\n",
       "  174.041,1486.45 174.041,47.2441 \n",
       "  \"/>\n",
       "<polyline clip-path=\"url(#clip802)\" style=\"stroke:#000000; stroke-linecap:round; stroke-linejoin:round; stroke-width:2; stroke-opacity:0.1; fill:none\" points=\"\n",
       "  751.904,1486.45 751.904,47.2441 \n",
       "  \"/>\n",
       "<polyline clip-path=\"url(#clip802)\" style=\"stroke:#000000; stroke-linecap:round; stroke-linejoin:round; stroke-width:2; stroke-opacity:0.1; fill:none\" points=\"\n",
       "  1329.77,1486.45 1329.77,47.2441 \n",
       "  \"/>\n",
       "<polyline clip-path=\"url(#clip802)\" style=\"stroke:#000000; stroke-linecap:round; stroke-linejoin:round; stroke-width:2; stroke-opacity:0.1; fill:none\" points=\"\n",
       "  1907.63,1486.45 1907.63,47.2441 \n",
       "  \"/>\n",
       "<polyline clip-path=\"url(#clip800)\" style=\"stroke:#000000; stroke-linecap:round; stroke-linejoin:round; stroke-width:4; stroke-opacity:1; fill:none\" points=\"\n",
       "  110.881,1486.45 2352.76,1486.45 \n",
       "  \"/>\n",
       "<polyline clip-path=\"url(#clip800)\" style=\"stroke:#000000; stroke-linecap:round; stroke-linejoin:round; stroke-width:4; stroke-opacity:1; fill:none\" points=\"\n",
       "  174.041,1486.45 174.041,1467.55 \n",
       "  \"/>\n",
       "<polyline clip-path=\"url(#clip800)\" style=\"stroke:#000000; stroke-linecap:round; stroke-linejoin:round; stroke-width:4; stroke-opacity:1; fill:none\" points=\"\n",
       "  751.904,1486.45 751.904,1467.55 \n",
       "  \"/>\n",
       "<polyline clip-path=\"url(#clip800)\" style=\"stroke:#000000; stroke-linecap:round; stroke-linejoin:round; stroke-width:4; stroke-opacity:1; fill:none\" points=\"\n",
       "  1329.77,1486.45 1329.77,1467.55 \n",
       "  \"/>\n",
       "<polyline clip-path=\"url(#clip800)\" style=\"stroke:#000000; stroke-linecap:round; stroke-linejoin:round; stroke-width:4; stroke-opacity:1; fill:none\" points=\"\n",
       "  1907.63,1486.45 1907.63,1467.55 \n",
       "  \"/>\n",
       "<path clip-path=\"url(#clip800)\" d=\"M174.041 1517.37 Q170.43 1517.37 168.601 1520.93 Q166.796 1524.47 166.796 1531.6 Q166.796 1538.71 168.601 1542.27 Q170.43 1545.82 174.041 1545.82 Q177.675 1545.82 179.481 1542.27 Q181.31 1538.71 181.31 1531.6 Q181.31 1524.47 179.481 1520.93 Q177.675 1517.37 174.041 1517.37 M174.041 1513.66 Q179.851 1513.66 182.907 1518.27 Q185.986 1522.85 185.986 1531.6 Q185.986 1540.33 182.907 1544.94 Q179.851 1549.52 174.041 1549.52 Q168.231 1549.52 165.152 1544.94 Q162.097 1540.33 162.097 1531.6 Q162.097 1522.85 165.152 1518.27 Q168.231 1513.66 174.041 1513.66 Z\" fill=\"#000000\" fill-rule=\"evenodd\" fill-opacity=\"1\" /><path clip-path=\"url(#clip800)\" d=\"M700.515 1544.91 L716.834 1544.91 L716.834 1548.85 L694.89 1548.85 L694.89 1544.91 Q697.552 1542.16 702.135 1537.53 Q706.742 1532.88 707.922 1531.53 Q710.168 1529.01 711.047 1527.27 Q711.95 1525.51 711.95 1523.82 Q711.95 1521.07 710.006 1519.33 Q708.084 1517.6 704.983 1517.6 Q702.784 1517.6 700.33 1518.36 Q697.899 1519.13 695.122 1520.68 L695.122 1515.95 Q697.946 1514.82 700.399 1514.24 Q702.853 1513.66 704.89 1513.66 Q710.26 1513.66 713.455 1516.35 Q716.649 1519.03 716.649 1523.52 Q716.649 1525.65 715.839 1527.57 Q715.052 1529.47 712.946 1532.07 Q712.367 1532.74 709.265 1535.95 Q706.163 1539.15 700.515 1544.91 Z\" fill=\"#000000\" fill-rule=\"evenodd\" fill-opacity=\"1\" /><path clip-path=\"url(#clip800)\" d=\"M736.649 1517.37 Q733.038 1517.37 731.209 1520.93 Q729.404 1524.47 729.404 1531.6 Q729.404 1538.71 731.209 1542.27 Q733.038 1545.82 736.649 1545.82 Q740.283 1545.82 742.089 1542.27 Q743.918 1538.71 743.918 1531.6 Q743.918 1524.47 742.089 1520.93 Q740.283 1517.37 736.649 1517.37 M736.649 1513.66 Q742.459 1513.66 745.515 1518.27 Q748.593 1522.85 748.593 1531.6 Q748.593 1540.33 745.515 1544.94 Q742.459 1549.52 736.649 1549.52 Q730.839 1549.52 727.76 1544.94 Q724.705 1540.33 724.705 1531.6 Q724.705 1522.85 727.76 1518.27 Q730.839 1513.66 736.649 1513.66 Z\" fill=\"#000000\" fill-rule=\"evenodd\" fill-opacity=\"1\" /><path clip-path=\"url(#clip800)\" d=\"M766.811 1517.37 Q763.2 1517.37 761.371 1520.93 Q759.566 1524.47 759.566 1531.6 Q759.566 1538.71 761.371 1542.27 Q763.2 1545.82 766.811 1545.82 Q770.445 1545.82 772.251 1542.27 Q774.079 1538.71 774.079 1531.6 Q774.079 1524.47 772.251 1520.93 Q770.445 1517.37 766.811 1517.37 M766.811 1513.66 Q772.621 1513.66 775.677 1518.27 Q778.755 1522.85 778.755 1531.6 Q778.755 1540.33 775.677 1544.94 Q772.621 1549.52 766.811 1549.52 Q761.001 1549.52 757.922 1544.94 Q754.867 1540.33 754.867 1531.6 Q754.867 1522.85 757.922 1518.27 Q761.001 1513.66 766.811 1513.66 Z\" fill=\"#000000\" fill-rule=\"evenodd\" fill-opacity=\"1\" /><path clip-path=\"url(#clip800)\" d=\"M796.973 1517.37 Q793.362 1517.37 791.533 1520.93 Q789.728 1524.47 789.728 1531.6 Q789.728 1538.71 791.533 1542.27 Q793.362 1545.82 796.973 1545.82 Q800.607 1545.82 802.413 1542.27 Q804.241 1538.71 804.241 1531.6 Q804.241 1524.47 802.413 1520.93 Q800.607 1517.37 796.973 1517.37 M796.973 1513.66 Q802.783 1513.66 805.839 1518.27 Q808.917 1522.85 808.917 1531.6 Q808.917 1540.33 805.839 1544.94 Q802.783 1549.52 796.973 1549.52 Q791.163 1549.52 788.084 1544.94 Q785.028 1540.33 785.028 1531.6 Q785.028 1522.85 788.084 1518.27 Q791.163 1513.66 796.973 1513.66 Z\" fill=\"#000000\" fill-rule=\"evenodd\" fill-opacity=\"1\" /><path clip-path=\"url(#clip800)\" d=\"M1287.78 1518.36 L1275.97 1536.81 L1287.78 1536.81 L1287.78 1518.36 M1286.55 1514.29 L1292.43 1514.29 L1292.43 1536.81 L1297.36 1536.81 L1297.36 1540.7 L1292.43 1540.7 L1292.43 1548.85 L1287.78 1548.85 L1287.78 1540.7 L1272.17 1540.7 L1272.17 1536.19 L1286.55 1514.29 Z\" fill=\"#000000\" fill-rule=\"evenodd\" fill-opacity=\"1\" /><path clip-path=\"url(#clip800)\" d=\"M1315.09 1517.37 Q1311.48 1517.37 1309.65 1520.93 Q1307.84 1524.47 1307.84 1531.6 Q1307.84 1538.71 1309.65 1542.27 Q1311.48 1545.82 1315.09 1545.82 Q1318.72 1545.82 1320.53 1542.27 Q1322.36 1538.71 1322.36 1531.6 Q1322.36 1524.47 1320.53 1520.93 Q1318.72 1517.37 1315.09 1517.37 M1315.09 1513.66 Q1320.9 1513.66 1323.96 1518.27 Q1327.03 1522.85 1327.03 1531.6 Q1327.03 1540.33 1323.96 1544.94 Q1320.9 1549.52 1315.09 1549.52 Q1309.28 1549.52 1306.2 1544.94 Q1303.15 1540.33 1303.15 1531.6 Q1303.15 1522.85 1306.2 1518.27 Q1309.28 1513.66 1315.09 1513.66 Z\" fill=\"#000000\" fill-rule=\"evenodd\" fill-opacity=\"1\" /><path clip-path=\"url(#clip800)\" d=\"M1345.25 1517.37 Q1341.64 1517.37 1339.81 1520.93 Q1338.01 1524.47 1338.01 1531.6 Q1338.01 1538.71 1339.81 1542.27 Q1341.64 1545.82 1345.25 1545.82 Q1348.89 1545.82 1350.69 1542.27 Q1352.52 1538.71 1352.52 1531.6 Q1352.52 1524.47 1350.69 1520.93 Q1348.89 1517.37 1345.25 1517.37 M1345.25 1513.66 Q1351.06 1513.66 1354.12 1518.27 Q1357.2 1522.85 1357.2 1531.6 Q1357.2 1540.33 1354.12 1544.94 Q1351.06 1549.52 1345.25 1549.52 Q1339.44 1549.52 1336.36 1544.94 Q1333.31 1540.33 1333.31 1531.6 Q1333.31 1522.85 1336.36 1518.27 Q1339.44 1513.66 1345.25 1513.66 Z\" fill=\"#000000\" fill-rule=\"evenodd\" fill-opacity=\"1\" /><path clip-path=\"url(#clip800)\" d=\"M1375.41 1517.37 Q1371.8 1517.37 1369.97 1520.93 Q1368.17 1524.47 1368.17 1531.6 Q1368.17 1538.71 1369.97 1542.27 Q1371.8 1545.82 1375.41 1545.82 Q1379.05 1545.82 1380.85 1542.27 Q1382.68 1538.71 1382.68 1531.6 Q1382.68 1524.47 1380.85 1520.93 Q1379.05 1517.37 1375.41 1517.37 M1375.41 1513.66 Q1381.22 1513.66 1384.28 1518.27 Q1387.36 1522.85 1387.36 1531.6 Q1387.36 1540.33 1384.28 1544.94 Q1381.22 1549.52 1375.41 1549.52 Q1369.6 1549.52 1366.53 1544.94 Q1363.47 1540.33 1363.47 1531.6 Q1363.47 1522.85 1366.53 1518.27 Q1369.6 1513.66 1375.41 1513.66 Z\" fill=\"#000000\" fill-rule=\"evenodd\" fill-opacity=\"1\" /><path clip-path=\"url(#clip800)\" d=\"M1862.87 1529.7 Q1859.72 1529.7 1857.87 1531.86 Q1856.04 1534.01 1856.04 1537.76 Q1856.04 1541.49 1857.87 1543.66 Q1859.72 1545.82 1862.87 1545.82 Q1866.02 1545.82 1867.85 1543.66 Q1869.7 1541.49 1869.7 1537.76 Q1869.7 1534.01 1867.85 1531.86 Q1866.02 1529.7 1862.87 1529.7 M1872.15 1515.05 L1872.15 1519.31 Q1870.39 1518.48 1868.59 1518.04 Q1866.81 1517.6 1865.05 1517.6 Q1860.42 1517.6 1857.96 1520.72 Q1855.53 1523.85 1855.19 1530.17 Q1856.55 1528.15 1858.61 1527.09 Q1860.67 1526 1863.15 1526 Q1868.36 1526 1871.37 1529.17 Q1874.4 1532.32 1874.4 1537.76 Q1874.4 1543.08 1871.25 1546.3 Q1868.1 1549.52 1862.87 1549.52 Q1856.88 1549.52 1853.71 1544.94 Q1850.53 1540.33 1850.53 1531.6 Q1850.53 1523.41 1854.42 1518.55 Q1858.31 1513.66 1864.86 1513.66 Q1866.62 1513.66 1868.4 1514.01 Q1870.21 1514.36 1872.15 1515.05 Z\" fill=\"#000000\" fill-rule=\"evenodd\" fill-opacity=\"1\" /><path clip-path=\"url(#clip800)\" d=\"M1892.45 1517.37 Q1888.84 1517.37 1887.02 1520.93 Q1885.21 1524.47 1885.21 1531.6 Q1885.21 1538.71 1887.02 1542.27 Q1888.84 1545.82 1892.45 1545.82 Q1896.09 1545.82 1897.89 1542.27 Q1899.72 1538.71 1899.72 1531.6 Q1899.72 1524.47 1897.89 1520.93 Q1896.09 1517.37 1892.45 1517.37 M1892.45 1513.66 Q1898.27 1513.66 1901.32 1518.27 Q1904.4 1522.85 1904.4 1531.6 Q1904.4 1540.33 1901.32 1544.94 Q1898.27 1549.52 1892.45 1549.52 Q1886.64 1549.52 1883.57 1544.94 Q1880.51 1540.33 1880.51 1531.6 Q1880.51 1522.85 1883.57 1518.27 Q1886.64 1513.66 1892.45 1513.66 Z\" fill=\"#000000\" fill-rule=\"evenodd\" fill-opacity=\"1\" /><path clip-path=\"url(#clip800)\" d=\"M1922.62 1517.37 Q1919.01 1517.37 1917.18 1520.93 Q1915.37 1524.47 1915.37 1531.6 Q1915.37 1538.71 1917.18 1542.27 Q1919.01 1545.82 1922.62 1545.82 Q1926.25 1545.82 1928.06 1542.27 Q1929.89 1538.71 1929.89 1531.6 Q1929.89 1524.47 1928.06 1520.93 Q1926.25 1517.37 1922.62 1517.37 M1922.62 1513.66 Q1928.43 1513.66 1931.48 1518.27 Q1934.56 1522.85 1934.56 1531.6 Q1934.56 1540.33 1931.48 1544.94 Q1928.43 1549.52 1922.62 1549.52 Q1916.81 1549.52 1913.73 1544.94 Q1910.67 1540.33 1910.67 1531.6 Q1910.67 1522.85 1913.73 1518.27 Q1916.81 1513.66 1922.62 1513.66 Z\" fill=\"#000000\" fill-rule=\"evenodd\" fill-opacity=\"1\" /><path clip-path=\"url(#clip800)\" d=\"M1952.78 1517.37 Q1949.17 1517.37 1947.34 1520.93 Q1945.53 1524.47 1945.53 1531.6 Q1945.53 1538.71 1947.34 1542.27 Q1949.17 1545.82 1952.78 1545.82 Q1956.41 1545.82 1958.22 1542.27 Q1960.05 1538.71 1960.05 1531.6 Q1960.05 1524.47 1958.22 1520.93 Q1956.41 1517.37 1952.78 1517.37 M1952.78 1513.66 Q1958.59 1513.66 1961.64 1518.27 Q1964.72 1522.85 1964.72 1531.6 Q1964.72 1540.33 1961.64 1544.94 Q1958.59 1549.52 1952.78 1549.52 Q1946.97 1549.52 1943.89 1544.94 Q1940.83 1540.33 1940.83 1531.6 Q1940.83 1522.85 1943.89 1518.27 Q1946.97 1513.66 1952.78 1513.66 Z\" fill=\"#000000\" fill-rule=\"evenodd\" fill-opacity=\"1\" /><polyline clip-path=\"url(#clip802)\" style=\"stroke:#000000; stroke-linecap:round; stroke-linejoin:round; stroke-width:2; stroke-opacity:0.1; fill:none\" points=\"\n",
       "  110.881,1445.72 2352.76,1445.72 \n",
       "  \"/>\n",
       "<polyline clip-path=\"url(#clip802)\" style=\"stroke:#000000; stroke-linecap:round; stroke-linejoin:round; stroke-width:2; stroke-opacity:0.1; fill:none\" points=\"\n",
       "  110.881,1077.62 2352.76,1077.62 \n",
       "  \"/>\n",
       "<polyline clip-path=\"url(#clip802)\" style=\"stroke:#000000; stroke-linecap:round; stroke-linejoin:round; stroke-width:2; stroke-opacity:0.1; fill:none\" points=\"\n",
       "  110.881,709.526 2352.76,709.526 \n",
       "  \"/>\n",
       "<polyline clip-path=\"url(#clip802)\" style=\"stroke:#000000; stroke-linecap:round; stroke-linejoin:round; stroke-width:2; stroke-opacity:0.1; fill:none\" points=\"\n",
       "  110.881,341.431 2352.76,341.431 \n",
       "  \"/>\n",
       "<polyline clip-path=\"url(#clip800)\" style=\"stroke:#000000; stroke-linecap:round; stroke-linejoin:round; stroke-width:4; stroke-opacity:1; fill:none\" points=\"\n",
       "  110.881,1486.45 110.881,47.2441 \n",
       "  \"/>\n",
       "<polyline clip-path=\"url(#clip800)\" style=\"stroke:#000000; stroke-linecap:round; stroke-linejoin:round; stroke-width:4; stroke-opacity:1; fill:none\" points=\"\n",
       "  110.881,1445.72 129.779,1445.72 \n",
       "  \"/>\n",
       "<polyline clip-path=\"url(#clip800)\" style=\"stroke:#000000; stroke-linecap:round; stroke-linejoin:round; stroke-width:4; stroke-opacity:1; fill:none\" points=\"\n",
       "  110.881,1077.62 129.779,1077.62 \n",
       "  \"/>\n",
       "<polyline clip-path=\"url(#clip800)\" style=\"stroke:#000000; stroke-linecap:round; stroke-linejoin:round; stroke-width:4; stroke-opacity:1; fill:none\" points=\"\n",
       "  110.881,709.526 129.779,709.526 \n",
       "  \"/>\n",
       "<polyline clip-path=\"url(#clip800)\" style=\"stroke:#000000; stroke-linecap:round; stroke-linejoin:round; stroke-width:4; stroke-opacity:1; fill:none\" points=\"\n",
       "  110.881,341.431 129.779,341.431 \n",
       "  \"/>\n",
       "<path clip-path=\"url(#clip800)\" d=\"M62.9365 1431.51 Q59.3254 1431.51 57.4967 1435.08 Q55.6912 1438.62 55.6912 1445.75 Q55.6912 1452.86 57.4967 1456.42 Q59.3254 1459.96 62.9365 1459.96 Q66.5707 1459.96 68.3763 1456.42 Q70.205 1452.86 70.205 1445.75 Q70.205 1438.62 68.3763 1435.08 Q66.5707 1431.51 62.9365 1431.51 M62.9365 1427.81 Q68.7467 1427.81 71.8022 1432.42 Q74.8809 1437 74.8809 1445.75 Q74.8809 1454.48 71.8022 1459.08 Q68.7467 1463.67 62.9365 1463.67 Q57.1264 1463.67 54.0477 1459.08 Q50.9921 1454.48 50.9921 1445.75 Q50.9921 1437 54.0477 1432.42 Q57.1264 1427.81 62.9365 1427.81 Z\" fill=\"#000000\" fill-rule=\"evenodd\" fill-opacity=\"1\" /><path clip-path=\"url(#clip800)\" d=\"M54.9736 1090.97 L62.6124 1090.97 L62.6124 1064.6 L54.3023 1066.27 L54.3023 1062.01 L62.5661 1060.34 L67.242 1060.34 L67.242 1090.97 L74.8809 1090.97 L74.8809 1094.9 L54.9736 1094.9 L54.9736 1090.97 Z\" fill=\"#000000\" fill-rule=\"evenodd\" fill-opacity=\"1\" /><path clip-path=\"url(#clip800)\" d=\"M58.5615 722.871 L74.8809 722.871 L74.8809 726.806 L52.9366 726.806 L52.9366 722.871 Q55.5986 720.116 60.1819 715.487 Q64.7883 710.834 65.9689 709.491 Q68.2143 706.968 69.0939 705.232 Q69.9967 703.473 69.9967 701.783 Q69.9967 699.029 68.0522 697.292 Q66.1309 695.556 63.0291 695.556 Q60.83 695.556 58.3763 696.32 Q55.9458 697.084 53.168 698.635 L53.168 693.913 Q55.9921 692.779 58.4458 692.2 Q60.8995 691.621 62.9365 691.621 Q68.3068 691.621 71.5013 694.306 Q74.6957 696.992 74.6957 701.482 Q74.6957 703.612 73.8855 705.533 Q73.0985 707.431 70.992 710.024 Q70.4133 710.695 67.3115 713.913 Q64.2096 717.107 58.5615 722.871 Z\" fill=\"#000000\" fill-rule=\"evenodd\" fill-opacity=\"1\" /><path clip-path=\"url(#clip800)\" d=\"M67.7513 340.077 Q71.1078 340.795 72.9827 343.063 Q74.8809 345.332 74.8809 348.665 Q74.8809 353.781 71.3624 356.582 Q67.8439 359.383 61.3624 359.383 Q59.1865 359.383 56.8717 358.943 Q54.5801 358.526 52.1264 357.67 L52.1264 353.156 Q54.0708 354.29 56.3856 354.869 Q58.7004 355.448 61.2236 355.448 Q65.6217 355.448 67.9133 353.711 Q70.2281 351.975 70.2281 348.665 Q70.2281 345.61 68.0754 343.897 Q65.9457 342.161 62.1263 342.161 L58.0986 342.161 L58.0986 338.318 L62.3115 338.318 Q65.7606 338.318 67.5893 336.952 Q69.418 335.563 69.418 332.971 Q69.418 330.309 67.5198 328.897 Q65.6448 327.462 62.1263 327.462 Q60.205 327.462 58.006 327.878 Q55.8069 328.295 53.168 329.175 L53.168 325.008 Q55.8301 324.267 58.1449 323.897 Q60.4828 323.526 62.543 323.526 Q67.867 323.526 70.9689 325.957 Q74.0707 328.364 74.0707 332.485 Q74.0707 335.355 72.4272 337.346 Q70.7837 339.313 67.7513 340.077 Z\" fill=\"#000000\" fill-rule=\"evenodd\" fill-opacity=\"1\" /><polyline clip-path=\"url(#clip802)\" style=\"stroke:#009af9; stroke-linecap:round; stroke-linejoin:round; stroke-width:4; stroke-opacity:1; fill:none\" points=\"\n",
       "  174.33,1418.86 174.619,1418.86 174.908,1418.86 175.197,1418.86 175.486,1418.86 175.775,1418.86 176.064,1418.86 176.353,1418.86 176.642,1418.86 176.931,1418.86 \n",
       "  177.219,1418.86 177.508,1418.86 177.797,1410.32 178.086,1410.32 178.375,1200.28 178.664,1200.28 178.953,1200.28 179.242,1200.28 179.531,1200.28 179.82,1200.28 \n",
       "  180.109,1187.58 180.398,1187.58 180.687,1174.22 180.976,1174.22 181.265,1174.22 181.553,1174.22 181.842,1174.22 182.131,1174.22 182.42,1174.22 182.709,1174.22 \n",
       "  182.998,1174.22 183.287,1179.48 183.576,1179.48 183.865,1179.48 184.154,1247.9 184.443,1317.89 184.732,1325.48 185.021,1325.48 185.31,1325.48 185.598,1325.48 \n",
       "  185.887,1325.48 186.176,1325.48 186.465,1325.48 186.754,1343.87 187.043,1343.87 187.332,1320.88 187.621,1320.88 187.91,1320.88 188.199,1320.88 188.488,1312.58 \n",
       "  188.777,1312.58 189.066,1312.58 189.355,1312.58 189.644,1312.58 189.932,1098.92 190.221,1183.91 190.51,1098.92 190.799,1098.92 191.088,1098.92 191.377,982.883 \n",
       "  191.666,982.883 191.955,999.077 192.244,999.077 192.533,999.077 192.822,999.077 193.111,999.077 193.4,999.077 193.689,999.077 193.978,999.077 194.266,999.077 \n",
       "  194.555,999.077 194.844,901.095 195.133,901.095 195.422,948.092 195.711,948.092 196,948.092 196.289,948.092 196.578,948.092 196.867,1119.9 197.156,1005.31 \n",
       "  197.445,1005.31 197.734,1005.31 198.023,1019.3 198.311,1019.3 198.6,1061.43 198.889,1061.43 199.178,1019.3 199.467,945.353 199.756,1252.06 200.045,1252.06 \n",
       "  200.334,1259.83 200.623,1432.96 200.912,1432.96 201.201,1432.96 201.49,1415.5 201.779,1413.93 202.068,1413.93 202.357,1413.93 202.645,1413.93 202.934,1413.93 \n",
       "  203.223,1413.93 203.512,1413.93 203.801,1413.93 204.09,1413.93 204.379,1413.93 204.668,1413.93 204.957,1397.2 205.246,1397.2 205.535,1397.2 205.824,1444.1 \n",
       "  206.113,1444.1 206.402,1444.1 206.69,1444.1 206.979,1444.1 207.268,1434.12 207.557,1434.12 207.846,1438.18 208.135,1438.18 208.424,1441.48 208.713,1444.12 \n",
       "  209.002,1444.12 209.291,1445.69 209.58,1445.69 209.869,1444.12 210.158,1441.33 210.447,1441.33 210.736,1441.33 211.024,1441.33 211.313,1441.33 211.602,1440.81 \n",
       "  211.891,1440.81 212.18,1443.69 212.469,1445.71 212.758,1445.71 213.047,1426.28 213.336,1426.28 213.625,1432.81 213.914,1434.82 214.203,1434.82 214.492,1434.82 \n",
       "  214.781,1434.82 215.069,1387.47 215.358,1391.63 215.647,1343.2 215.936,1343.2 216.225,1360.75 216.514,1360.75 216.803,1360.75 217.092,1360.75 217.381,1360.75 \n",
       "  217.67,1360.75 217.959,1360.75 218.248,1360.75 218.537,1360.75 218.826,1360.75 219.115,1379.41 219.403,1379.41 219.692,1379.41 219.981,1379.41 220.27,1379.41 \n",
       "  220.559,1379.41 220.848,1379.41 221.137,1379.41 221.426,1379.41 221.715,1379.41 222.004,1379.41 222.293,1355.95 222.582,1355.95 222.871,1355.95 223.16,1355.95 \n",
       "  223.448,1410.98 223.737,1410.98 224.026,1410.98 224.315,1417.98 224.604,1417.98 224.893,1417.98 225.182,1384.11 225.471,1445.46 225.76,1443.84 226.049,1443.3 \n",
       "  226.338,1443.84 226.627,1443.84 226.916,1443.84 227.205,1443.84 227.494,1407.08 227.782,1407.08 228.071,1407.08 228.36,1409.47 228.649,1409.47 228.938,1409.47 \n",
       "  229.227,1409.47 229.516,1430.79 229.805,1349.29 230.094,1349.29 230.383,1369.27 230.672,1428.74 230.961,1428.74 231.25,1428.74 231.539,1428.74 231.827,1428.74 \n",
       "  232.116,1430.25 232.405,1399.1 232.694,1409.25 232.983,1408.84 233.272,1436.11 233.561,1432.08 233.85,1432.08 234.139,1419.41 234.428,1419.41 234.717,1419.41 \n",
       "  235.006,1419.41 235.295,1419.41 235.584,1419.41 235.873,1419.41 236.161,1419.41 236.45,1419.41 236.739,1419.41 237.028,1419.41 237.317,1419.41 237.606,1419.41 \n",
       "  237.895,1419.41 238.184,1419.41 238.473,1419.41 238.762,1419.41 239.051,1419.41 239.34,1419.41 239.629,1419.41 239.918,1419.41 240.206,1419.41 240.495,1419.41 \n",
       "  240.784,1419.41 241.073,1419.41 241.362,1426.79 241.651,1435.68 241.94,1435.68 242.229,1435.68 242.518,1435.68 242.807,1435.68 243.096,1435.68 243.385,1409.47 \n",
       "  243.674,1409.47 243.963,1416.99 244.252,1416.99 244.54,1416.99 244.829,1416.99 245.118,1416.99 245.407,1416.99 245.696,1416.99 245.985,1416.99 246.274,1403.64 \n",
       "  246.563,1056.72 246.852,1191.11 247.141,1266.64 247.43,1266.64 247.719,1266.64 248.008,1308.23 248.297,1308.23 248.585,1331.24 248.874,1368.41 249.163,1368.41 \n",
       "  249.452,1350.44 249.741,1313.29 250.03,1354.53 250.319,1443.96 250.608,1443.96 250.897,1443.96 251.186,1443.96 251.475,1443.96 251.764,1443.96 252.053,1443.96 \n",
       "  252.342,1443.96 252.631,1443.62 252.919,1443.62 253.208,1443.62 253.497,1443.62 253.786,1443.62 254.075,1443.62 254.364,1443.62 254.653,1443.62 254.942,1376.21 \n",
       "  255.231,1376.21 255.52,1391.2 255.809,1391.2 256.098,1391.2 256.387,1391.2 256.676,1391.2 256.965,1389.88 257.253,1389.88 257.542,1388.15 257.831,1388.15 \n",
       "  258.12,1388.15 258.409,1388.15 258.698,1388.15 258.987,1388.15 259.276,1365.94 259.565,1365.94 259.854,1344.8 260.143,1421.21 260.432,1421.21 260.721,1401.58 \n",
       "  261.01,1416.09 261.298,1431.69 261.587,1431.69 261.876,1436.05 262.165,1390.62 262.454,1378.18 262.743,1378.18 263.032,1378.18 263.321,1378.18 263.61,1378.18 \n",
       "  263.899,1247.96 264.188,1247.96 264.477,1174.79 264.766,1174.79 265.055,1174.79 265.344,1333.22 265.632,1333.22 265.921,1372.69 266.21,1372.69 266.499,1372.69 \n",
       "  266.788,1372.69 267.077,1372.69 267.366,1372.69 267.655,1308.22 267.944,1308.22 268.233,1308.22 268.522,1308.22 268.811,1308.22 269.1,1369.75 269.389,1369.75 \n",
       "  269.677,1399.04 269.966,1407.31 270.255,1407.31 270.544,1407.31 270.833,1399.04 271.122,1399.04 271.411,1399.04 271.7,1367.3 271.989,1367.3 272.278,1367.3 \n",
       "  272.567,1367.3 272.856,1367.3 273.145,1367.3 273.434,1367.3 273.723,1367.3 274.011,1367.3 274.3,1371.05 274.589,1371.05 274.878,1445.69 275.167,1445.69 \n",
       "  275.456,1441.5 275.745,1441.5 276.034,1441.5 276.323,1445.02 276.612,1445.02 276.901,1445.02 277.19,1445.02 277.479,1445.02 277.768,1445.02 278.056,1445.02 \n",
       "  278.345,1445.02 278.634,1445.02 278.923,1445.02 279.212,1443.31 279.501,1443.31 279.79,1443.31 280.079,1445.48 280.368,1445.48 280.657,1445.48 280.946,1445.48 \n",
       "  281.235,1445.48 281.524,1445.48 281.813,1445.48 282.102,1444.82 282.39,1444.82 282.679,1436.55 282.968,1434.52 283.257,1431.98 283.546,1431.98 283.835,1438.9 \n",
       "  284.124,1438.9 284.413,1438.9 284.702,1438.9 284.991,1438.9 285.28,1438.9 285.569,1440.45 285.858,1440.45 286.147,1414.08 286.435,1414.08 286.724,1414.08 \n",
       "  287.013,1414.08 287.302,1438.2 287.591,1438.2 287.88,1438.2 288.169,1438.2 288.458,1438.2 288.747,1442.62 289.036,1445.15 289.325,1445.15 289.614,1445.15 \n",
       "  289.903,1445.15 290.192,1445.15 290.481,1442.91 290.769,1442.91 291.058,1431.95 291.347,1431.95 291.636,1437.01 291.925,1432.48 292.214,1419.59 292.503,1419.59 \n",
       "  292.792,1445.17 293.081,1445.17 293.37,1445.46 293.659,1445.46 293.948,1445.7 294.237,1445.7 294.526,1439.09 294.814,1439.09 295.103,1439.09 295.392,1439.09 \n",
       "  295.681,1439.09 295.97,1437.18 296.259,1437.18 296.548,1438.86 296.837,1438.86 297.126,1436.46 297.415,1435.24 297.704,1438.64 297.993,1438.64 298.282,1438.64 \n",
       "  298.571,1419.87 298.86,1419.87 299.148,1419.87 299.437,1419.87 299.726,1419.87 300.015,1419.87 300.304,1443.47 300.593,1443.47 300.882,1443.47 301.171,1443.47 \n",
       "  301.46,1443.64 301.749,1443.64 302.038,1443.64 302.327,1443.83 302.616,1443.83 302.905,1411.53 303.193,1411.53 303.482,1434.09 303.771,1434.09 304.06,1434.09 \n",
       "  304.349,1434.09 304.638,1434.09 304.927,1434.09 305.216,1434.09 305.505,1434.09 305.794,1434.09 306.083,1396.04 306.372,1398.95 306.661,1417.33 306.95,1331.44 \n",
       "  307.239,1324.2 307.527,1324.2 307.816,1324.2 308.105,1324.2 308.394,1363.75 308.683,1363.75 308.972,1300.75 309.261,1238.39 309.55,1238.39 309.839,1238.39 \n",
       "  310.128,1238.39 310.417,1238.39 310.706,1238.39 310.995,1068.15 311.284,1240.88 311.573,1240.88 311.861,1240.88 312.15,1240.88 312.439,1240.88 312.728,1240.88 \n",
       "  313.017,1240.88 313.306,1240.88 313.595,1240.88 313.884,1240.88 314.173,1240.88 314.462,1240.88 314.751,1322.58 315.04,1322.58 315.329,1322.58 315.618,1322.58 \n",
       "  315.906,1322.58 316.195,1322.58 316.484,1322.58 316.773,1322.89 317.062,1322.89 317.351,1276.11 317.64,1308.97 317.929,1308.97 318.218,1308.97 318.507,1308.97 \n",
       "  318.796,1370.85 319.085,1393.89 319.374,1424.37 319.663,1424.37 319.952,1424.37 320.24,1439.98 320.529,1430.78 320.818,1439.98 321.107,1439.98 321.396,1439.98 \n",
       "  321.685,1422.9 321.974,1422.9 322.263,1422.9 322.552,1422.9 322.841,1422.9 323.13,1422.9 323.419,1401.22 323.708,1401.22 323.997,1401.22 324.285,1401.22 \n",
       "  324.574,1352.86 324.863,1352.86 325.152,1383.52 325.441,1383.52 325.73,1383.52 326.019,1383.52 326.308,1383.52 326.597,1383.52 326.886,1383.52 327.175,1383.52 \n",
       "  327.464,1383.52 327.753,1356.23 328.042,1345.35 328.331,1440.07 328.619,1445.44 328.908,1445.44 329.197,1445.44 329.486,1445.44 329.775,1445.44 330.064,1445.6 \n",
       "  330.353,1445.6 330.642,1445.6 330.931,1444.49 331.22,1444.49 331.509,1444.49 331.798,1444.49 332.087,1444.49 332.376,1444.49 332.664,1444.49 332.953,1444.49 \n",
       "  333.242,1441.44 333.531,1441.44 333.82,1441.44 334.109,1441.44 334.398,1441.44 334.687,1441.44 334.976,1436.76 335.265,1436.76 335.554,1445.68 335.843,1445.54 \n",
       "  336.132,1438.57 336.421,1438.57 336.71,1438.57 336.998,1438.57 337.287,1394.92 337.576,1394.92 337.865,1440.96 338.154,1441.47 338.443,1406.44 338.732,1406.44 \n",
       "  339.021,1363.96 339.31,1334.86 339.599,1334.86 339.888,1340.38 340.177,1340.38 340.466,1340.38 340.755,1340.38 341.043,1340.38 341.332,1348.27 341.621,1348.27 \n",
       "  341.91,1348.27 342.199,1381.54 342.488,1381.54 342.777,1381.54 343.066,1381.54 343.355,1381.54 343.644,1431.49 343.933,1431.49 344.222,1431.49 344.511,1431.49 \n",
       "  344.8,1443.39 345.089,1445.43 345.377,1445.43 345.666,1443.39 345.955,1443.39 346.244,1445.42 346.533,1445.42 346.822,1445.42 347.111,1445.42 347.4,1445.42 \n",
       "  347.689,1445.54 347.978,1417 348.267,1421.98 348.556,1415.3 348.845,1415.3 349.134,1415.3 349.422,1417.25 349.711,1393.48 350,1393.48 350.289,1393.48 \n",
       "  350.578,1435.95 350.867,1435.95 351.156,1444.24 351.445,1444.24 351.734,1445.68 352.023,1445.68 352.312,1416.06 352.601,1437.78 352.89,1437.78 353.179,1423.04 \n",
       "  353.468,1423.04 353.756,1423.04 354.045,1429.82 354.334,1291.91 354.623,1291.91 354.912,1291.91 355.201,1291.91 355.49,1276.79 355.779,1276.79 356.068,1276.79 \n",
       "  356.357,1276.79 356.646,1276.79 356.935,1276.79 357.224,1276.79 357.513,1276.79 357.801,1276.79 358.09,1427.77 358.379,1427.77 358.668,1427.77 358.957,1429.53 \n",
       "  359.246,1330.29 359.535,1433.14 359.824,1443.06 360.113,1445.68 360.402,1429.82 360.691,1363.11 360.98,1316.49 361.269,1364.24 361.558,1364.24 361.847,1364.24 \n",
       "  362.135,1374.91 362.424,1374.91 362.713,1374.91 363.002,1374.91 363.291,1374.91 363.58,1383.12 363.869,1383.12 364.158,1383.12 364.447,1383.12 364.736,1383.12 \n",
       "  365.025,1383.12 365.314,1383.12 365.603,1398.83 365.892,1383.12 366.181,1383.12 366.469,1383.12 366.758,1392.15 367.047,1392.15 367.336,1392.15 367.625,1392.15 \n",
       "  367.914,1361.48 368.203,1361.48 368.492,1361.48 368.781,1361.48 369.07,1399.73 369.359,1399.73 369.648,1399.73 369.937,1399.73 370.226,1399.73 370.514,1399.73 \n",
       "  370.803,1363.98 371.092,1307.53 371.381,1284.98 371.67,1284.98 371.959,1284.98 372.248,1284.98 372.537,1284.98 372.826,1284.98 373.115,1284.98 373.404,1284.98 \n",
       "  373.693,1284.98 373.982,1284.98 374.271,1284.98 374.56,1425.49 374.848,1425.49 375.137,1425.49 375.426,1425.49 375.715,1425.49 376.004,1425.49 376.293,1425.49 \n",
       "  376.582,1425.49 376.871,1425.49 377.16,1425.49 377.449,1412.34 377.738,1412.34 378.027,1412.34 378.316,1412.34 378.605,1412.34 378.893,1412.34 379.182,1412.34 \n",
       "  379.471,1412.34 379.76,1412.34 380.049,1402.48 380.338,1402.48 380.627,1402.48 380.916,1402.48 381.205,1402.48 381.494,1402.48 381.783,1228.17 382.072,1228.17 \n",
       "  382.361,1292.1 382.65,1298.14 382.939,1310.07 383.227,1317.04 383.516,1317.04 383.805,1317.04 384.094,1317.04 384.383,1317.04 384.672,1317.04 384.961,1317.04 \n",
       "  385.25,1297.22 385.539,1244.1 385.828,1244.1 386.117,1219.79 386.406,1219.79 386.695,1219.79 386.984,1219.79 387.272,1185.7 387.561,1185.7 387.85,1441.52 \n",
       "  388.139,1438.78 388.428,1438.78 388.717,1438.78 389.006,1438.78 389.295,1438.78 389.584,1438.78 389.873,1438.78 390.162,1429.64 390.451,1429.64 390.74,1429.64 \n",
       "  391.029,1429.64 391.318,1429.64 391.606,1429.64 391.895,1429.64 392.184,1429.64 392.473,1429.64 392.762,1429.64 393.051,1429.64 393.34,1429.64 393.629,1429.64 \n",
       "  393.918,1429.64 394.207,1429.64 394.496,1429.64 394.785,1429.64 395.074,1429.64 395.363,1437.01 395.651,1437.01 395.94,1437.01 396.229,1437.01 396.518,1424.97 \n",
       "  396.807,1407.47 397.096,1419.85 397.385,1413.03 397.674,1419.33 397.963,1419.33 398.252,1419.33 398.541,1419.33 398.83,1416.9 399.119,1416.9 399.408,1416.9 \n",
       "  399.697,1416.9 399.985,1416.9 400.274,1443.53 400.563,1445.37 400.852,1445.37 401.141,1445.37 401.43,1445.37 401.719,1445.37 402.008,1445.37 402.297,1444.7 \n",
       "  402.586,1444.7 402.875,1444.7 403.164,1444.7 403.453,1438.42 403.742,1438.42 404.03,1438.42 404.319,1438.42 404.608,1438.42 404.897,1438.42 405.186,1438.42 \n",
       "  405.475,1433.68 405.764,1433.68 406.053,1433.68 406.342,1433.68 406.631,1433.68 406.92,1433.68 407.209,1433.68 407.498,1433.68 407.787,1433.68 408.076,1433.68 \n",
       "  408.364,1433.68 408.653,1433.68 408.942,1436.65 409.231,1445.64 409.52,1445.64 409.809,1445.12 410.098,1445.12 410.387,1445.56 410.676,1443.6 410.965,1439.53 \n",
       "  411.254,1439.53 411.543,1439.53 411.832,1434.33 412.121,1428.21 412.409,1426.48 412.698,1436.2 412.987,1411.37 413.276,1411.37 413.565,1411.37 413.854,1429.51 \n",
       "  414.143,1432.07 414.432,1432.07 414.721,1434.15 415.01,1434.15 415.299,1434.15 415.588,1434.15 415.877,1382.29 416.166,1405.26 416.455,1302.25 416.743,1152.18 \n",
       "  417.032,1152.18 417.321,1152.18 417.61,1152.18 417.899,1101.56 418.188,1101.56 418.477,1101.56 418.766,1183.31 419.055,1183.31 419.344,1183.31 419.633,1183.31 \n",
       "  419.922,1227.22 420.211,1227.22 420.5,1227.22 420.788,1227.22 421.077,1227.22 421.366,1227.22 421.655,1277.01 421.944,1351.66 422.233,1363.75 422.522,1363.75 \n",
       "  422.811,1351.22 423.1,1363.75 423.389,1363.75 423.678,1360.22 423.967,1360.22 424.256,1348.02 424.545,1360.22 424.834,1318.01 425.122,1361.04 425.411,1361.04 \n",
       "  425.7,1313.02 425.989,1313.02 426.278,1313.02 426.567,1313.02 426.856,1313.02 427.145,1313.02 427.434,1436.21 427.723,1436.21 428.012,1436.21 428.301,1436.21 \n",
       "  428.59,1436.21 428.879,1436.21 429.168,1436.21 429.456,1436.21 429.745,1436.21 430.034,1436.21 430.323,1436.21 430.612,1424.98 430.901,1011.22 431.19,1011.22 \n",
       "  431.479,1011.22 431.768,1011.22 432.057,1011.22 432.346,1011.22 432.635,1171.26 432.924,1171.26 433.213,1171.26 433.501,1171.26 433.79,1171.26 434.079,1171.26 \n",
       "  434.368,1171.26 434.657,1171.26 434.946,1171.26 435.235,1154.66 435.524,1154.66 435.813,1154.66 436.102,1154.66 436.391,1154.66 436.68,1154.66 436.969,1154.66 \n",
       "  437.258,1108.8 437.547,1108.8 437.835,1108.8 438.124,1108.8 438.413,1084.75 438.702,1083.98 438.991,1094.77 439.28,1094.77 439.569,883.03 439.858,883.03 \n",
       "  440.147,883.03 440.436,883.03 440.725,1209.36 441.014,1209.36 441.303,1209.36 441.592,1209.36 441.88,1232.42 442.169,1232.42 442.458,1232.42 442.747,1232.42 \n",
       "  443.036,1232.42 443.325,1232.42 443.614,1232.42 443.903,1232.42 444.192,1214.64 444.481,1214.64 444.77,1214.64 445.059,1214.64 445.348,1214.64 445.637,1214.64 \n",
       "  445.926,1214.64 446.214,1267.61 446.503,1267.61 446.792,1267.61 447.081,1267.61 447.37,1267.61 447.659,1267.61 447.948,1267.61 448.237,1213.52 448.526,1213.52 \n",
       "  448.815,1213.52 449.104,1213.52 449.393,1213.52 449.682,1213.52 449.971,1213.52 450.259,1213.52 450.548,1213.52 450.837,1213.52 451.126,1213.52 451.415,1213.52 \n",
       "  451.704,1259.41 451.993,1259.41 452.282,1259.41 452.571,1259.41 452.86,1259.41 453.149,1153.88 453.438,1153.88 453.727,1153.88 454.016,1153.88 454.305,1153.88 \n",
       "  454.593,1070.13 454.882,1070.13 455.171,1070.13 455.46,1070.13 455.749,1070.13 456.038,1070.13 456.327,1106.17 456.616,1106.17 456.905,1106.17 457.194,1106.17 \n",
       "  457.483,1133.12 457.772,1075.75 458.061,1075.75 458.35,1075.75 458.638,1075.75 458.927,1075.75 459.216,1276.97 459.505,1276.97 459.794,1276.97 460.083,1276.97 \n",
       "  460.372,1276.97 460.661,1276.97 460.95,1327.97 461.239,1359.56 461.528,1391.28 461.817,1391.28 462.106,1391.28 462.395,1391.28 462.684,1391.28 462.972,1395.9 \n",
       "  463.261,1401.87 463.55,1401.87 463.839,1401.87 464.128,1401.87 464.417,1401.87 464.706,1401.87 464.995,1401.87 465.284,1401.87 465.573,1401.87 465.862,1401.87 \n",
       "  466.151,1401.87 466.44,1401.87 466.729,1401.87 467.017,1441.21 467.306,1441.21 467.595,1441.21 467.884,1441.21 468.173,1441.21 468.462,1445.15 468.751,1445.15 \n",
       "  469.04,1445.15 469.329,1443.73 469.618,1445.55 469.907,1445.55 470.196,1440.43 470.485,1440.43 470.774,1440.43 471.063,1440.43 471.351,1440.43 471.64,1440.43 \n",
       "  471.929,1440.43 472.218,1440.43 472.507,1445.7 472.796,1445.59 473.085,1445.59 473.374,1441.8 473.663,1441.8 473.952,1431.01 474.241,1427.36 474.53,1401.45 \n",
       "  474.819,1401.45 475.108,1401.45 475.396,1401.45 475.685,1401.45 475.974,1401.45 476.263,1401.45 476.552,1425.6 476.841,1440.59 477.13,1440.59 477.419,1440.59 \n",
       "  477.708,1440.59 477.997,1444.28 478.286,1444.28 478.575,1444.28 478.864,1444.28 479.153,1445.7 479.442,1445.7 479.73,1445.7 480.019,1445.7 480.308,1442.09 \n",
       "  480.597,1442.09 480.886,1442.09 481.175,1445 481.464,1445.69 481.753,1445.69 482.042,1444.84 482.331,1444.84 482.62,1444.84 482.909,1444.84 483.198,1444.84 \n",
       "  483.487,1444.84 483.776,1444.62 484.064,1444.62 484.353,1444.62 484.642,1444.62 484.931,1444.62 485.22,1444.62 485.509,1444.62 485.798,1431.03 486.087,1431.03 \n",
       "  486.376,1439.31 486.665,1425.42 486.954,1425.42 487.243,1425.42 487.532,1383.71 487.821,1430.08 488.109,1430.08 488.398,1332.14 488.687,1332.14 488.976,1332.14 \n",
       "  489.265,1332.14 489.554,1332.14 489.843,1308.39 490.132,1308.39 490.421,1308.39 490.71,1308.39 490.999,1308.39 491.288,1308.39 491.577,1435.67 491.866,1435.67 \n",
       "  492.155,1435.67 492.443,1444.42 492.732,1444.42 493.021,1444.42 493.31,1444.42 493.599,1444.42 493.888,1427.24 494.177,1420.75 494.466,1420.75 494.755,1420.75 \n",
       "  495.044,1435.66 495.333,1435.66 495.622,1427.81 495.911,1445.72 496.2,1445.72 496.488,1445.72 496.777,1445.72 497.066,1445.72 497.355,1444.49 497.644,1444.49 \n",
       "  497.933,1445.24 498.222,1445.53 498.511,1445.24 498.8,1388.72 499.089,1388.72 499.378,1388.72 499.667,1388.72 499.956,1388.72 500.245,1388.72 500.534,1388.72 \n",
       "  500.822,1388.72 501.111,1388.72 501.4,1385.4 501.689,1385.4 501.978,1413.97 502.267,1413.97 502.556,1376.05 502.845,1376.05 503.134,1367.42 503.423,1445.56 \n",
       "  503.712,1445.56 504.001,1445.56 504.29,1445.56 504.579,1445.56 504.867,1445.56 505.156,1445.56 505.445,1445.56 505.734,1445.56 506.023,1445.56 506.312,1430.81 \n",
       "  506.601,1435.57 506.89,1435.57 507.179,1440.14 507.468,1383.08 507.757,1374.03 508.046,1374.03 508.335,1374.03 508.624,1374.03 508.913,1374.03 509.201,1374.03 \n",
       "  509.49,1360.46 509.779,1360.46 510.068,1402.72 510.357,1402.72 510.646,1350.74 510.935,1350.74 511.224,1381.69 511.513,1381.69 511.802,1381.69 512.091,1381.69 \n",
       "  512.38,1294.05 512.669,1075.86 512.958,456.303 513.246,456.303 513.535,526.065 513.824,526.065 514.113,526.065 514.402,526.065 514.691,568.487 514.98,568.487 \n",
       "  515.269,568.487 515.558,568.487 515.847,568.487 516.136,568.487 516.425,568.487 516.714,568.487 517.003,568.487 517.292,568.487 517.58,568.487 517.869,533.323 \n",
       "  518.158,533.323 518.447,418.286 518.736,418.286 519.025,418.286 519.314,418.286 519.603,510.036 519.892,510.036 520.181,510.036 520.47,510.036 520.759,510.036 \n",
       "  521.048,510.036 521.337,510.036 521.625,510.036 521.914,521.892 522.203,521.892 522.492,521.892 522.781,521.892 523.07,521.892 523.359,643.36 523.648,521.892 \n",
       "  523.937,521.892 524.226,312.729 524.515,312.729 524.804,312.729 525.093,312.729 525.382,312.729 525.671,312.729 525.959,312.729 526.248,312.729 526.537,1421.59 \n",
       "  526.826,1427.32 527.115,1427.32 527.404,1427.32 527.693,1427.32 527.982,1427.32 528.271,1427.32 528.56,1427.32 528.849,1427.32 529.138,1427.32 529.427,1433.36 \n",
       "  529.716,1433.36 530.004,1443.54 530.293,1441.57 530.582,1441.57 530.871,1441.57 531.16,1441.57 531.449,1437.51 531.738,1437.51 532.027,1437.51 532.316,1437.51 \n",
       "  532.605,1437.51 532.894,1437.51 533.183,1437.51 533.472,1417.41 533.761,1414.32 534.05,1414.32 534.338,1414.32 534.627,1425.14 534.916,1425.14 535.205,1414.32 \n",
       "  535.494,1414.32 535.783,1414.32 536.072,1414.32 536.361,1367.67 536.65,1367.67 536.939,1367.67 537.228,1367.67 537.517,1399.73 537.806,1399.73 538.095,1399.73 \n",
       "  538.384,1420.47 538.672,1420.47 538.961,1432.15 539.25,1432.15 539.539,1432.15 539.828,1432.15 540.117,1373.38 540.406,1396.19 540.695,1396.19 540.984,1396.19 \n",
       "  541.273,1425.93 541.562,1424.18 541.851,1248.62 542.14,1248.62 542.429,1248.62 542.717,1248.62 543.006,1248.62 543.295,1248.62 543.584,1245 543.873,1245 \n",
       "  544.162,1245 544.451,815.564 544.74,815.564 545.029,815.564 545.318,815.564 545.607,815.564 545.896,815.564 546.185,815.564 546.474,815.564 546.763,815.564 \n",
       "  547.051,815.564 547.34,815.564 547.629,880.156 547.918,946.887 548.207,946.887 548.496,1006.01 548.785,1006.01 549.074,1006.01 549.363,1006.01 549.652,1006.01 \n",
       "  549.941,960.132 550.23,1006.01 550.519,1006.01 550.808,1006.01 551.096,1006.01 551.385,1086.44 551.674,1086.44 551.963,1086.44 552.252,1086.44 552.541,1086.44 \n",
       "  552.83,1086.44 553.119,1086.44 553.408,1086.44 553.697,953.227 553.986,944.047 554.275,944.047 554.564,944.047 554.853,944.047 555.142,944.047 555.43,944.047 \n",
       "  555.719,944.047 556.008,944.047 556.297,944.047 556.586,944.047 556.875,944.047 557.164,944.047 557.453,944.047 557.742,944.047 558.031,907.271 558.32,907.271 \n",
       "  558.609,1037.62 558.898,1044.21 559.187,1054.05 559.475,1054.05 559.764,927.456 560.053,927.456 560.342,927.456 560.631,988.526 560.92,988.526 561.209,988.526 \n",
       "  561.498,988.526 561.787,938.297 562.076,938.297 562.365,938.297 562.654,995.393 562.943,995.393 563.232,995.393 563.521,1417.88 563.809,1436.1 564.098,1436.1 \n",
       "  564.387,1436.1 564.676,1436.1 564.965,1444.93 565.254,1444.93 565.543,1444.93 565.832,1444.93 566.121,1444.93 566.41,1444.93 566.699,1444.93 566.988,1444.93 \n",
       "  567.277,1444.93 567.566,1444.93 567.854,1404.7 568.143,1445.28 568.432,1429.46 568.721,1429.46 569.01,1429.46 569.299,1429.46 569.588,1429.46 569.877,1429.46 \n",
       "  570.166,1429.46 570.455,1429.46 570.744,1429.46 571.033,1401.69 571.322,1401.69 571.611,1349.98 571.9,1443.7 572.188,1443.7 572.477,1443.7 572.766,1443.7 \n",
       "  573.055,1443.7 573.344,1443.7 573.633,1427.53 573.922,1427.53 574.211,1387.83 574.5,1390.2 574.789,1390.2 575.078,1393.43 575.367,1393.43 575.656,1393.43 \n",
       "  575.945,1372.65 576.233,1404.9 576.522,1404.9 576.811,1441.37 577.1,1441.37 577.389,1441.37 577.678,1438.61 577.967,1441.37 578.256,1440.11 578.545,1082.72 \n",
       "  578.834,1082.72 579.123,1082.72 579.412,1082.72 579.701,1007.82 579.99,1007.82 580.279,1007.82 580.567,1007.82 580.856,1007.82 581.145,1216.3 581.434,1216.3 \n",
       "  581.723,1216.3 582.012,1135.92 582.301,1054.18 582.59,1054.18 582.879,1081.88 583.168,1081.88 583.457,1081.88 583.746,1081.88 584.035,1054.18 584.324,1054.18 \n",
       "  584.612,1054.18 584.901,1079.97 585.19,1079.97 585.479,1079.97 585.768,1083.68 586.057,1099.86 586.346,1099.86 586.635,1099.86 586.924,1099.86 587.213,1099.86 \n",
       "  587.502,1099.86 587.791,1099.86 588.08,1164.06 588.369,1164.06 588.658,1164.06 588.946,1164.06 589.235,1064.91 589.524,1064.91 589.813,1064.91 590.102,1365.94 \n",
       "  590.391,1365.94 590.68,1365.94 590.969,1365.94 591.258,1365.94 591.547,1365.94 591.836,1365.94 592.125,1365.94 592.414,1339.31 592.703,1339.31 592.991,1339.31 \n",
       "  593.28,1360.01 593.569,1360.01 593.858,1319.9 594.147,1319.9 594.436,1294.47 594.725,1336.91 595.014,1336.91 595.303,1336.91 595.592,1328.96 595.881,1328.96 \n",
       "  596.17,1328.96 596.459,1344.96 596.748,1344.96 597.037,1344.96 597.325,1344.96 597.614,1357.12 597.903,1357.12 598.192,1357.12 598.481,1420.51 598.77,1420.51 \n",
       "  599.059,1349.31 599.348,1349.31 599.637,1349.31 599.926,1383.75 600.215,1383.75 600.504,1374.55 600.793,1374.55 601.082,1374.55 601.371,1374.55 601.659,1374.55 \n",
       "  601.948,1374.55 602.237,1339.63 602.526,1297.51 602.815,1297.51 603.104,1297.51 603.393,1297.51 603.682,1297.51 603.971,1239.13 604.26,1239.13 604.549,1204.76 \n",
       "  604.838,1204.76 605.127,865.322 605.416,553.95 605.704,553.95 605.993,553.95 606.282,553.95 606.571,553.95 606.86,553.95 607.149,553.95 607.438,553.95 \n",
       "  607.727,553.95 608.016,428.205 608.305,465.332 608.594,465.332 608.883,465.332 609.172,465.332 609.461,465.332 609.75,465.332 610.038,465.332 610.327,915.267 \n",
       "  610.616,915.267 610.905,1075.07 611.194,1075.07 611.483,1163.82 611.772,1163.82 612.061,1085.68 612.35,1085.68 612.639,947.862 612.928,1088.27 613.217,1088.27 \n",
       "  613.506,1181.3 613.795,1181.3 614.083,1181.3 614.372,1181.3 614.661,1181.3 614.95,1125.5 615.239,1088.27 615.528,1103.09 615.817,1103.09 616.106,1103.09 \n",
       "  616.395,1138.51 616.684,1138.51 616.973,1223.27 617.262,1223.27 617.551,1223.27 617.84,1239.43 618.129,1433.06 618.417,1329.71 618.706,1381.25 618.995,1445.58 \n",
       "  619.284,1445.58 619.573,1445.53 619.862,1445.48 620.151,1445.48 620.44,1445.48 620.729,1445.48 621.018,1445.48 621.307,1445.48 621.596,1445.48 621.885,1445.48 \n",
       "  622.174,1445.48 622.462,1444.12 622.751,1441.96 623.04,1438.96 623.329,1438.96 623.618,1441.56 623.907,1441.56 624.196,1441.56 624.485,1441.56 624.774,1441.56 \n",
       "  625.063,1441.56 625.352,1441.56 625.641,1441.56 625.93,1441.56 626.219,1441.56 626.508,1441.56 626.796,1441.56 627.085,1441.56 627.374,1441.56 627.663,1441.56 \n",
       "  627.952,1445.33 628.241,1445.33 628.53,1445.33 628.819,1445.33 629.108,1442.33 629.397,1432.85 629.686,1430.61 629.975,1430.61 630.264,1429.55 630.553,1430.09 \n",
       "  630.841,1430.09 631.13,1430.09 631.419,1412.68 631.708,1412.68 631.997,1412.68 632.286,1412.68 632.575,1403.01 632.864,1366.94 633.153,1432.62 633.442,1432.62 \n",
       "  633.731,1422.55 634.02,1422.55 634.309,1422.55 634.598,1422.55 634.887,1422.55 635.175,1422.55 635.464,1422.55 635.753,1398.11 636.042,1398.11 636.331,1398.11 \n",
       "  636.62,1398.11 636.909,1398.11 637.198,1444.3 637.487,1443.13 637.776,1443.13 638.065,1443.13 638.354,1430.95 638.643,1430.95 638.932,1419.1 639.22,1419.1 \n",
       "  639.509,1419.1 639.798,1438.08 640.087,1421.91 640.376,1421.91 640.665,1413.73 640.954,1413.73 641.243,1399.83 641.532,1400.58 641.821,1398.22 642.11,1398.22 \n",
       "  642.399,1399.38 642.688,1399.38 642.977,1399.38 643.266,1399.38 643.554,1399.38 643.843,1399.38 644.132,1399.38 644.421,1398.22 644.71,1397.47 644.999,1397.47 \n",
       "  645.288,1397.47 645.577,1397.47 645.866,1382.72 646.155,1392.33 646.444,1392.33 646.733,1412.17 647.022,1412.17 647.311,1424.01 647.599,1424.01 647.888,1439.81 \n",
       "  648.177,1439.81 648.466,1435.83 648.755,1439.36 649.044,1432.96 649.333,1432.96 649.622,1432.96 649.911,1432.96 650.2,1432.96 650.489,1432.96 650.778,1432.96 \n",
       "  651.067,1166.18 651.356,1251.99 651.645,1217.56 651.933,1217.56 652.222,1200.18 652.511,1200.18 652.8,1200.18 653.089,1200.18 653.378,1183.06 653.667,1183.06 \n",
       "  653.956,1183.06 654.245,1183.06 654.534,1183.06 654.823,1183.06 655.112,1183.06 655.401,1183.06 655.69,1183.06 655.979,1242.02 656.267,1296.64 656.556,1307.37 \n",
       "  656.845,1309.64 657.134,1309.64 657.423,1375.31 657.712,1375.31 658.001,1375.31 658.29,1375.31 658.579,1375.31 658.868,1375.31 659.157,1375.31 659.446,1375.31 \n",
       "  659.735,1375.31 660.024,1375.31 660.312,1375.31 660.601,1375.31 660.89,1375.31 661.179,1375.31 661.468,1395.47 661.757,1395.47 662.046,1440.57 662.335,1440.57 \n",
       "  662.624,1395.47 662.913,1440.57 663.202,1360.12 663.491,1356.33 663.78,1310.81 664.069,1310.81 664.358,1310.81 664.646,1310.81 664.935,1310.81 665.224,1310.81 \n",
       "  665.513,1310.81 665.802,1310.81 666.091,1310.81 666.38,1329.66 666.669,1329.66 666.958,1329.66 667.247,1329.66 667.536,1329.66 667.825,1329.66 668.114,1329.66 \n",
       "  668.403,1329.66 668.691,1329.66 668.98,1329.66 669.269,1329.66 669.558,1329.66 669.847,1295.93 670.136,1295.93 670.425,1344.12 670.714,1344.12 671.003,1396.3 \n",
       "  671.292,1396.3 671.581,1396.3 671.87,1396.3 672.159,1432.22 672.448,1436.95 672.737,1436.95 673.025,1403.43 673.314,1403.43 673.603,1425.17 673.892,1425.17 \n",
       "  674.181,1425.17 674.47,1425.17 674.759,1425.17 675.048,1425.17 675.337,1398.03 675.626,1398.03 675.915,1398.03 676.204,1398.03 676.493,1398.03 676.782,1398.03 \n",
       "  677.07,1424.92 677.359,1424.92 677.648,1424.92 677.937,1424.92 678.226,1439.89 678.515,1443.01 678.804,1425.54 679.093,1425.54 679.382,1425.54 679.671,1425.54 \n",
       "  679.96,1425.54 680.249,1425.54 680.538,1425.54 680.827,1425.54 681.116,1425.54 681.404,1425.54 681.693,1404.56 681.982,1437.47 682.271,1437.47 682.56,1392.61 \n",
       "  682.849,1375.19 683.138,1375.19 683.427,1375.19 683.716,1375.19 684.005,1375.19 684.294,1375.19 684.583,1375.19 684.872,1375.19 685.161,1371.96 685.449,1371.96 \n",
       "  685.738,1371.96 686.027,1371.96 686.316,1361.88 686.605,1361.88 686.894,1319.59 687.183,1319.59 687.472,1438.27 687.761,1438.27 688.05,1438.27 688.339,1438.27 \n",
       "  688.628,1438.27 688.917,1445.54 689.206,1445.54 689.495,1445.54 689.783,1445.54 690.072,1439.56 690.361,1439.56 690.65,1439.56 690.939,1439.56 691.228,1439.56 \n",
       "  691.517,1415.58 691.806,1415.58 692.095,1439.56 692.384,1439.56 692.673,1439.56 692.962,1445.43 693.251,1445.43 693.54,1445.43 693.828,1445.43 694.117,1442.03 \n",
       "  694.406,1442.03 694.695,1442.03 694.984,1442.03 695.273,1429.24 695.562,1429.24 695.851,1429.24 696.14,1434.09 696.429,1434.09 696.718,1434.09 697.007,1439.85 \n",
       "  697.296,1433.81 697.585,1433.81 697.874,1433.81 698.162,1433.81 698.451,1437.51 698.74,1437.51 699.029,1433.38 699.318,1433.38 699.607,1433.38 699.896,1433.38 \n",
       "  700.185,1433.38 700.474,1428.2 700.763,1435.76 701.052,1414.74 701.341,1414.74 701.63,1445.09 701.919,1429.79 702.207,1429.79 702.496,1429.79 702.785,1429.79 \n",
       "  703.074,1432.01 703.363,1432.01 703.652,1436.51 703.941,1436.51 704.23,1441.57 704.519,1418.02 704.808,1418.02 705.097,1418.02 705.386,1418.02 705.675,1445.21 \n",
       "  705.964,1445.21 706.253,1440.78 706.541,1412.98 706.83,1412.98 707.119,1401.79 707.408,1380.6 707.697,1394.68 707.986,1376.57 708.275,1376.57 708.564,1376.57 \n",
       "  708.853,1376.57 709.142,1376.57 709.431,1376.57 709.72,1376.57 710.009,1408.38 710.298,1408.38 710.586,1408.38 710.875,1432.26 711.164,1425.65 711.453,1425.65 \n",
       "  711.742,1425.65 712.031,1425.65 712.32,1425.65 712.609,1427.3 712.898,1429.02 713.187,1429.02 713.476,1433.18 713.765,1433.18 714.054,1433.18 714.343,1433.18 \n",
       "  714.632,1410 714.92,1410 715.209,1422.88 715.498,1422.88 715.787,1422.88 716.076,1422.88 716.365,1422.88 716.654,1422.88 716.943,1412.74 717.232,1412.74 \n",
       "  717.521,1412.74 717.81,1412.74 718.099,1412.74 718.388,1411.42 718.677,1411.42 718.966,1411.42 719.254,1364.4 719.543,1364.4 719.832,1380.12 720.121,1380.12 \n",
       "  720.41,1444.88 720.699,1441.62 720.988,1437.16 721.277,1437.16 721.566,1437.16 721.855,1427.73 722.144,1433.99 722.433,1433.99 722.722,1433.99 723.011,1433.99 \n",
       "  723.299,1433.99 723.588,1433.99 723.877,1434.84 724.166,1418.25 724.455,1423.3 724.744,1423.3 725.033,1423.3 725.322,1423.3 725.611,1430.13 725.9,1430.13 \n",
       "  726.189,1420.64 726.478,1334.44 726.767,1334.44 727.056,1334.44 727.345,1334.44 727.633,1322.93 727.922,1322.93 728.211,1322.93 728.5,1322.93 728.789,1322.93 \n",
       "  729.078,1322.93 729.367,1383.79 729.656,1383.79 729.945,1391.89 730.234,1391.89 730.523,1420.76 730.812,1420.76 731.101,1420.76 731.39,1420.76 731.678,1420.76 \n",
       "  731.967,1422.61 732.256,1064.31 732.545,1064.31 732.834,1141.92 733.123,1141.92 733.412,1141.92 733.701,1238.74 733.99,1238.74 734.279,1090.19 734.568,1090.19 \n",
       "  734.857,1090.19 735.146,1238.74 735.435,1238.74 735.724,1238.74 736.012,1238.74 736.301,1238.74 736.59,1233.33 736.879,1238.74 737.168,1296.8 737.457,1298.79 \n",
       "  737.746,1298.79 738.035,1298.79 738.324,1298.79 738.613,1298.79 738.902,1298.79 739.191,1298.79 739.48,1298.79 739.769,1298.79 740.057,1183.45 740.346,1183.45 \n",
       "  740.635,1183.45 740.924,1183.45 741.213,1183.45 741.502,1394.22 741.791,1394.22 742.08,1394.22 742.369,1408.69 742.658,1408.69 742.947,1408.69 743.236,1408.69 \n",
       "  743.525,1408.69 743.814,1412.48 744.103,1442.21 744.391,1417.9 744.68,1417.9 744.969,1380.69 745.258,1383.54 745.547,1383.54 745.836,1383.54 746.125,1383.54 \n",
       "  746.414,1397.03 746.703,1441.63 746.992,1440.87 747.281,1428.6 747.57,1428.6 747.859,1428.6 748.148,1285.45 748.436,1330.04 748.725,1330.04 749.014,1330.04 \n",
       "  749.303,1343.53 749.592,1343.53 749.881,1343.53 750.17,1343.53 750.459,1343.53 750.748,1343.53 751.037,1343.53 751.326,1356.25 751.615,1356.25 751.904,1356.25 \n",
       "  752.193,1356.25 752.482,1356.25 752.77,1356.25 753.059,1356.25 753.348,1356.25 753.637,1299.84 753.926,1299.84 754.215,1299.84 754.504,1299.84 754.793,1299.84 \n",
       "  755.082,1299.84 755.371,1299.84 755.66,1299.84 755.949,1299.84 756.238,1299.84 756.527,1218.67 756.815,1218.67 757.104,1218.67 757.393,1218.67 757.682,1284.26 \n",
       "  757.971,1284.26 758.26,1284.26 758.549,1284.26 758.838,1333.68 759.127,1333.68 759.416,1333.68 759.705,1405.03 759.994,1407.43 760.283,1407.43 760.572,1427.41 \n",
       "  760.861,1427.41 761.149,1416.2 761.438,1416.2 761.727,1416.2 762.016,1424.27 762.305,1424.27 762.594,1444.8 762.883,1444.8 763.172,1444.8 763.461,1444.8 \n",
       "  763.75,1444.8 764.039,1379.5 764.328,1379.5 764.617,1379.5 764.906,1379.5 765.194,1379.5 765.483,1379.5 765.772,1379.5 766.061,1412.51 766.35,1412.51 \n",
       "  766.639,1412.51 766.928,1412.51 767.217,1414.92 767.506,1414.92 767.795,1414.92 768.084,1414.92 768.373,1414.92 768.662,1414.92 768.951,1440.74 769.24,1440.74 \n",
       "  769.528,1398.54 769.817,1398.54 770.106,1398.54 770.395,1398.54 770.684,1398.54 770.973,1398.54 771.262,1359.87 771.551,1359.87 771.84,1359.87 772.129,1305.72 \n",
       "  772.418,1305.72 772.707,1305.72 772.996,1305.72 773.285,1305.72 773.574,1305.72 773.862,1305.72 774.151,1305.72 774.44,1305.72 774.729,1422.33 775.018,1422.33 \n",
       "  775.307,1422.33 775.596,1422.33 775.885,1422.33 776.174,1422.33 776.463,1422.33 776.752,1422.33 777.041,1422.33 777.33,1440.17 777.619,1440.17 777.907,1404.64 \n",
       "  778.196,1425.48 778.485,1425.48 778.774,1425.48 779.063,1425.48 779.352,1425.48 779.641,1425.48 779.93,1425.48 780.219,1425.48 780.508,1438.83 780.797,1439.2 \n",
       "  781.086,1445.65 781.375,1441.7 781.664,1393.88 781.953,1391.62 782.241,1402.38 782.53,1402.38 782.819,1408.77 783.108,1429.35 783.397,1430.54 783.686,1439.38 \n",
       "  783.975,1384.72 784.264,1384.72 784.553,1394.72 784.842,1394.72 785.131,1339.41 785.42,1339.41 785.709,1324.04 785.998,1324.04 786.286,1324.04 786.575,1321.95 \n",
       "  786.864,1321.95 787.153,1321.95 787.442,1350.69 787.731,1350.69 788.02,1284.32 788.309,1365.79 788.598,1252.83 788.887,1134.76 789.176,1134.76 789.465,1134.76 \n",
       "  789.754,1134.76 790.043,1067.67 790.332,995.195 790.62,995.195 790.909,984.073 791.198,869.326 791.487,869.326 791.776,980.082 792.065,1010.17 792.354,1069.17 \n",
       "  792.643,1069.17 792.932,1019.85 793.221,1019.85 793.51,1046.08 793.799,1144.21 794.088,1156.29 794.377,1156.29 794.665,1435.84 794.954,1435.84 795.243,1444.6 \n",
       "  795.532,1445.48 795.821,1425.73 796.11,1428.35 796.399,1438.19 796.688,1438.19 796.977,1438.19 797.266,1438.19 797.555,1438.19 797.844,1438.19 798.133,1438.19 \n",
       "  798.422,1442.04 798.711,1442.04 798.999,1442.04 799.288,1445.43 799.577,1445.43 799.866,1445.43 800.155,1445.43 800.444,1439.7 800.733,1436.59 801.022,1433.3 \n",
       "  801.311,1433.3 801.6,1433.3 801.889,1433.3 802.178,1433.3 802.467,1433.3 802.756,1418.57 803.044,1423.35 803.333,1432.5 803.622,1437.55 803.911,1437.55 \n",
       "  804.2,1445.03 804.489,1424.9 804.778,1424.9 805.067,1424.11 805.356,1428.1 805.645,1428.1 805.934,1441.88 806.223,1441.21 806.512,1441.21 806.801,1331.6 \n",
       "  807.09,1331.6 807.378,1331.6 807.667,1331.6 807.956,1331.6 808.245,1331.6 808.534,1331.6 808.823,1331.6 809.112,1274.96 809.401,1274.96 809.69,1274.96 \n",
       "  809.979,1274.96 810.268,1274.96 810.557,1274.96 810.846,1274.96 811.135,1272.76 811.423,1272.76 811.712,1397.11 812.001,1397.11 812.29,1443.45 812.579,1443.45 \n",
       "  812.868,1443.64 813.157,1427.46 813.446,1440.54 813.735,1440.54 814.024,1438.97 814.313,1438.97 814.602,1438.97 814.891,1438.97 815.18,1438.97 815.469,1438.97 \n",
       "  815.757,1438.97 816.046,1438.97 816.335,1422.58 816.624,1422.58 816.913,1422.58 817.202,1422.58 817.491,1422.58 817.78,1426.81 818.069,1426.81 818.358,1426.81 \n",
       "  818.647,1426.81 818.936,1426.81 819.225,1421.35 819.514,1421.35 819.802,1421.35 820.091,1421.35 820.38,1435.61 820.669,1435.61 820.958,1435.61 821.247,1435.61 \n",
       "  821.536,1391.3 821.825,1394.36 822.114,1394.36 822.403,1394.36 822.692,1394.36 822.981,1394.36 823.27,1394.36 823.559,1391.21 823.848,1420.97 824.136,1420.97 \n",
       "  824.425,1420.97 824.714,1420.97 825.003,1420.97 825.292,1420.97 825.581,1420.97 825.87,1420.97 826.159,1420.97 826.448,1408.86 826.737,1408.86 827.026,1404.89 \n",
       "  827.315,1404.89 827.604,1401.41 827.893,1401.41 828.182,1401.41 828.47,1401.41 828.759,1401.41 829.048,1401.41 829.337,1401.41 829.626,1401.41 829.915,1396.82 \n",
       "  830.204,1396.82 830.493,1396.82 830.782,1407.71 831.071,1444.3 831.36,1444.3 831.649,1444.58 831.938,1444.58 832.227,1426.87 832.515,1426.87 832.804,1407.03 \n",
       "  833.093,1441.91 833.382,1436.93 833.671,1436.93 833.96,1436.93 834.249,1431.04 834.538,1434.24 834.827,1444.79 835.116,1444.79 835.405,1444.79 835.694,1445.2 \n",
       "  835.983,1443.64 836.272,1443.64 836.561,1433.73 836.849,1433.73 837.138,1433.73 837.427,1433.73 837.716,1429.82 838.005,1429.82 838.294,1429.82 838.583,1429.82 \n",
       "  838.872,1432.85 839.161,1432.85 839.45,1432.85 839.739,1432.85 840.028,1410.52 840.317,1431.27 840.606,1442.75 840.894,1442.75 841.183,1442.35 841.472,1442.35 \n",
       "  841.761,1442.35 842.05,1442.35 842.339,1439.52 842.628,1439.52 842.917,1439.47 843.206,1385.5 843.495,1385.5 843.784,1406.63 844.073,1321.46 844.362,1321.46 \n",
       "  844.651,1287.78 844.94,1287.78 845.228,1287.78 845.517,1246.42 845.806,1246.42 846.095,1246.42 846.384,1246.42 846.673,1420.04 846.962,1420.04 847.251,1420.04 \n",
       "  847.54,1420.04 847.829,1420.04 848.118,1420.04 848.407,1426.95 848.696,1426.95 848.985,1426.95 849.273,1426.95 849.562,1400.71 849.851,1400.71 850.14,1426.45 \n",
       "  850.429,1426.45 850.718,1426.45 851.007,1426.45 851.296,1426.45 851.585,1426.45 851.874,1426.45 852.163,1402.06 852.452,1402.06 852.741,1402.06 853.03,1402.06 \n",
       "  853.319,1324.53 853.607,1324.53 853.896,1208.21 854.185,1262.88 854.474,1262.88 854.763,1262.88 855.052,1301.92 855.341,1388.24 855.63,1388.24 855.919,1384.84 \n",
       "  856.208,1384.84 856.497,1384.84 856.786,1384.84 857.075,1381.65 857.364,1381.65 857.652,1379.14 857.941,1379.14 858.23,1390.46 858.519,1390.46 858.808,1420.18 \n",
       "  859.097,1420.18 859.386,1370.07 859.675,1370.07 859.964,1140.55 860.253,1140.55 860.542,1140.55 860.831,1140.55 861.12,1140.55 861.409,1140.55 861.698,1140.55 \n",
       "  861.986,1378.94 862.275,1408.17 862.564,1408.17 862.853,1408.17 863.142,1408.17 863.431,1408.17 863.72,1408.17 864.009,1408.17 864.298,1408.17 864.587,1408.17 \n",
       "  864.876,1408.17 865.165,1408.17 865.454,1408.17 865.743,1408.17 866.031,1408.17 866.32,1403.09 866.609,1423.88 866.898,1423.88 867.187,1423.88 867.476,1423.88 \n",
       "  867.765,1400.89 868.054,1400.89 868.343,1400.89 868.632,1400.89 868.921,1400.89 869.21,1400.89 869.499,1392.66 869.788,1392.66 870.077,1201.4 870.365,1201.4 \n",
       "  870.654,1208.39 870.943,1208.39 871.232,1208.39 871.521,1208.39 871.81,1208.39 872.099,1208.39 872.388,1208.39 872.677,1208.39 872.966,1208.39 873.255,1295.51 \n",
       "  873.544,1295.51 873.833,1295.51 874.122,1295.51 874.41,1295.51 874.699,1295.51 874.988,1295.51 875.277,1295.51 875.566,1295.51 875.855,1373.91 876.144,1373.91 \n",
       "  876.433,1373.91 876.722,1373.91 877.011,1373.91 877.3,1373.91 877.589,1373.91 877.878,1373.91 878.167,1357.82 878.456,1357.82 878.744,1360.95 879.033,1360.95 \n",
       "  879.322,1303.34 879.611,1303.34 879.9,1303.34 880.189,1303.34 880.478,1228.74 880.767,1228.74 881.056,1207.42 881.345,1207.42 881.634,1202.36 881.923,1202.36 \n",
       "  882.212,1135.06 882.501,1135.06 882.789,1135.06 883.078,1135.06 883.367,1135.06 883.656,1135.06 883.945,1069.23 884.234,1069.23 884.523,1152.57 884.812,1152.57 \n",
       "  885.101,1152.57 885.39,1152.57 885.679,1152.57 885.968,1152.57 886.257,1238.39 886.546,1236.32 886.835,1236.32 887.123,1271.71 887.412,1271.71 887.701,1271.71 \n",
       "  887.99,1271.71 888.279,1271.71 888.568,1088.76 888.857,1117.82 889.146,1117.82 889.435,1155.25 889.724,1155.25 890.013,1199.16 890.302,1199.16 890.591,1199.16 \n",
       "  890.88,1199.16 891.169,1222.75 891.457,1216.76 891.746,1216.76 892.035,1153.3 892.324,1153.3 892.613,1153.3 892.902,1219.18 893.191,1219.18 893.48,1219.18 \n",
       "  893.769,1219.18 894.058,1219.18 894.347,1219.18 894.636,1219.18 894.925,1253.68 895.214,1253.68 895.502,1225.34 895.791,1225.34 896.08,1225.34 896.369,1225.34 \n",
       "  896.658,1225.34 896.947,1225.34 897.236,1430.8 897.525,1430.8 897.814,1432.2 898.103,1432.2 898.392,1430.2 898.681,1430.2 898.97,1430.2 899.259,1403.39 \n",
       "  899.548,1403.39 899.836,1403.39 900.125,1411.29 900.414,1443.17 900.703,1348.64 900.992,1348.64 901.281,1348.64 901.57,1348.64 901.859,1348.64 902.148,1348.64 \n",
       "  902.437,1348.64 902.726,1348.64 903.015,1348.64 903.304,1348.64 903.593,1340.24 903.881,1340.24 904.17,1340.24 904.459,1412.62 904.748,1412.62 905.037,1419.71 \n",
       "  905.326,1419.71 905.615,1419.71 905.904,1419.71 906.193,1419.71 906.482,1419.71 906.771,1424.71 907.06,1425.92 907.349,1403.67 907.638,1403.67 907.927,1403.67 \n",
       "  908.215,1403.67 908.504,1403.67 908.793,1439.08 909.082,1439.08 909.371,1411.9 909.66,1439.08 909.949,1315.28 910.238,1419.64 910.527,1419.64 910.816,1419.64 \n",
       "  911.105,1419.64 911.394,1425.57 911.683,1425.57 911.972,1425.57 912.26,1425.57 912.549,1438.93 912.838,1438.93 913.127,1430.71 913.416,1445.04 913.705,1420.68 \n",
       "  913.994,1420.68 914.283,1426.64 914.572,1439.7 914.861,1440.47 915.15,1441.28 915.439,1441.28 915.728,1437.12 916.017,1437.12 916.306,1437.12 916.594,1437.12 \n",
       "  916.883,1437.12 917.172,1437.12 917.461,1437.12 917.75,1445.71 918.039,1445.11 918.328,1445.11 918.617,1445.11 918.906,1445.11 919.195,1445.11 919.484,1445.11 \n",
       "  919.773,1005.8 920.062,1005.8 920.351,1053.18 920.639,1053.18 920.928,1059.35 921.217,1059.35 921.506,1059.35 921.795,1039.34 922.084,1039.34 922.373,1039.34 \n",
       "  922.662,1039.34 922.951,1039.34 923.24,1065.2 923.529,1065.2 923.818,1065.2 924.107,1065.2 924.396,1095.07 924.685,1200.27 924.973,1200.27 925.262,1258.1 \n",
       "  925.551,1258.1 925.84,1258.1 926.129,1258.1 926.418,1418.55 926.707,1430.13 926.996,1439.12 927.285,1439.12 927.574,1440.92 927.863,1441.17 928.152,1445.71 \n",
       "  928.441,1441.31 928.73,1443.83 929.018,1445.26 929.307,1445.17 929.596,1445.17 929.885,1445.17 930.174,1443.57 930.463,1443.57 930.752,1443.57 931.041,1443.57 \n",
       "  931.33,1445.71 931.619,1442.19 931.908,1443.57 932.197,1445.67 932.486,1445.67 932.775,1445.67 933.064,1445.67 933.352,1445.67 933.641,1445.67 933.93,1445.1 \n",
       "  934.219,1445.1 934.508,1411.66 934.797,1410.35 935.086,1266.61 935.375,1266.61 935.664,1266.61 935.953,1266.61 936.242,1266.61 936.531,1436.14 936.82,1436.14 \n",
       "  937.109,1436.14 937.397,1436.14 937.686,1436.14 937.975,1436.14 938.264,1436.14 938.553,1436.14 938.842,1436.14 939.131,1444.55 939.42,1444.55 939.709,1444.55 \n",
       "  939.998,1444.55 940.287,1445.59 940.576,1445.7 940.865,1444.02 941.154,1343.73 941.443,1343.73 941.731,1343.73 942.02,1343.73 942.309,1343.73 942.598,1343.73 \n",
       "  942.887,1343.73 943.176,1358.59 943.465,1358.59 943.754,1330.74 944.043,1323.86 944.332,1328.63 944.621,1328.63 944.91,1437.28 945.199,1437.28 945.488,1437.28 \n",
       "  945.777,1437.28 946.065,1429.31 946.354,1429.31 946.643,1429.31 946.932,1429.31 947.221,1416.75 947.51,1382.62 947.799,1382.62 948.088,1382.62 948.377,1382.62 \n",
       "  948.666,1382.62 948.955,1382.62 949.244,1382.62 949.533,1175.37 949.822,1175.37 950.11,1125.22 950.399,1075.11 950.688,1075.11 950.977,1075.11 951.266,1166.66 \n",
       "  951.555,1166.66 951.844,1166.66 952.133,1166.66 952.422,1231.2 952.711,1313.77 953,1251.8 953.289,1189.08 953.578,1189.08 953.867,1189.08 954.156,1392.6 \n",
       "  954.444,1375.94 954.733,1375.94 955.022,1375.94 955.311,1375.94 955.6,1375.94 955.889,1375.94 956.178,1375.94 956.467,1380.99 956.756,1380.99 957.045,1440.64 \n",
       "  957.334,1444.99 957.623,1444.99 957.912,1444.26 958.201,1444.26 958.489,1444.26 958.778,1444.26 959.067,1429.03 959.356,1429.03 959.645,1429.03 959.934,1429.03 \n",
       "  960.223,1429.03 960.512,1429.03 960.801,1429.03 961.09,1442.94 961.379,1442.94 961.668,1442.94 961.957,1442.94 962.246,1445.31 962.535,1445.31 962.823,1438.67 \n",
       "  963.112,1443.3 963.401,1443.3 963.69,1443.3 963.979,1443.3 964.268,1426.47 964.557,1426.47 964.846,1443.06 965.135,1443.06 965.424,1443.06 965.713,1443.06 \n",
       "  966.002,1413.39 966.291,1413.39 966.58,1413.39 966.868,1413.39 967.157,1403.39 967.446,1403.39 967.735,1403.39 968.024,1403.39 968.313,1403.39 968.602,1403.39 \n",
       "  968.891,1403.39 969.18,1408.42 969.469,1408.42 969.758,1408.42 970.047,1408.42 970.336,1408.42 970.625,1408.42 970.914,1408.42 971.202,1424.68 971.491,1424.68 \n",
       "  971.78,1424.68 972.069,1424.68 972.358,1441.27 972.647,1444.12 972.936,1444.12 973.225,1444.12 973.514,1444.12 973.803,1444.12 974.092,1388.69 974.381,1388.69 \n",
       "  974.67,1388.69 974.959,1388.69 975.247,1388.69 975.536,1356.92 975.825,1424.8 976.114,1263.35 976.403,1263.35 976.692,1263.35 976.981,1263.35 977.27,1368.27 \n",
       "  977.559,1368.27 977.848,1320.77 978.137,1320.77 978.426,1320.77 978.715,1320.77 979.004,1274.43 979.293,1274.43 979.581,1274.43 979.87,1274.43 980.159,1233.39 \n",
       "  980.448,1445.64 980.737,1445.64 981.026,1444.67 981.315,1444.67 981.604,1444.67 981.893,1444.67 982.182,1444.67 982.471,1444.67 982.76,1445.58 983.049,1425.29 \n",
       "  983.338,1369.02 983.626,1369.02 983.915,1369.02 984.204,1445.64 984.493,1445.64 984.782,1445.64 985.071,1445.59 985.36,1445.54 985.649,1445.54 985.938,1445.54 \n",
       "  986.227,1445.54 986.516,1445.54 986.805,1445.54 987.094,1445.54 987.383,1445.54 987.672,1445.64 987.96,1445.64 988.249,1445.64 988.538,1240.16 988.827,1240.16 \n",
       "  989.116,1236.25 989.405,1236.25 989.694,1126.16 989.983,1126.16 990.272,977.569 990.561,1202.29 990.85,1190.34 991.139,1190.34 991.428,1190.34 991.717,1190.34 \n",
       "  992.005,1190.34 992.294,1190.34 992.583,1112.6 992.872,1112.6 993.161,1112.6 993.45,1234.73 993.739,1234.73 994.028,1234.73 994.317,1234.73 994.606,1146.35 \n",
       "  994.895,1146.35 995.184,1146.35 995.473,1146.35 995.762,1142.84 996.051,1142.84 996.339,1408.24 996.628,1408.24 996.917,1408.24 997.206,1408.24 997.495,1408.24 \n",
       "  997.784,1408.24 998.073,1408.24 998.362,1408.24 998.651,1404.24 998.94,1404.24 999.229,1404.24 999.518,1436.41 999.807,1436.41 1000.1,1436.41 1000.38,1437.34 \n",
       "  1000.67,1434.55 1000.96,1438.04 1001.25,1438.04 1001.54,1438.04 1001.83,1438.04 1002.12,1442.56 1002.41,1442.56 1002.7,1442.56 1002.98,1445.58 1003.27,1444.6 \n",
       "  1003.56,1444.6 1003.85,1444.6 1004.14,1444.6 1004.43,1435.98 1004.72,1435.98 1005.01,1435.98 1005.3,1439.71 1005.59,1439.71 1005.87,1371.41 1006.16,1371.41 \n",
       "  1006.45,1371.41 1006.74,1371.41 1007.03,1371.41 1007.32,1371.41 1007.61,1371.41 1007.9,1371.41 1008.19,1371.41 1008.47,1371.41 1008.76,1371.41 1009.05,1371.41 \n",
       "  1009.34,1382.52 1009.63,1382.52 1009.92,1382.52 1010.21,1382.52 1010.5,1382.52 1010.79,1382.52 1011.07,1382.52 1011.36,1382.52 1011.65,1382.52 1011.94,1382.52 \n",
       "  1012.23,1382.52 1012.52,1382.52 1012.81,1332.06 1013.1,1311.02 1013.39,1311.02 1013.68,1294.81 1013.96,1021.55 1014.25,1053.14 1014.54,1053.14 1014.83,1078.57 \n",
       "  1015.12,1157.46 1015.41,1157.46 1015.7,1157.46 1015.99,1157.46 1016.28,1157.46 1016.56,1157.46 1016.85,1169.54 1017.14,1444.67 1017.43,1444.67 1017.72,1444.76 \n",
       "  1018.01,1444.76 1018.3,1444.76 1018.59,1444.76 1018.88,1444.76 1019.17,1445.08 1019.45,1440.98 1019.74,1444.88 1020.03,1444.88 1020.32,1444.88 1020.61,1445.69 \n",
       "  1020.9,1445.69 1021.19,1445.71 1021.48,1445.71 1021.77,1439.75 1022.05,1439.75 1022.34,1439.75 1022.63,1444.9 1022.92,1433.32 1023.21,1433.32 1023.5,1436.99 \n",
       "  1023.79,1434.15 1024.08,1381.87 1024.37,1380.34 1024.65,1380.34 1024.94,1335.49 1025.23,1335.49 1025.52,1363.27 1025.81,1363.27 1026.1,1363.27 1026.39,1363.27 \n",
       "  1026.68,1363.27 1026.97,1363.27 1027.26,1363.27 1027.54,1363.27 1027.83,1363.27 1028.12,1363.27 1028.41,1363.27 1028.7,1363.27 1028.99,1363.27 1029.28,1363.27 \n",
       "  1029.57,1445.15 1029.86,1445.15 1030.14,1445.15 1030.43,1445.15 1030.72,1443.31 1031.01,1443.31 1031.3,1443.31 1031.59,1443.31 1031.88,1444.76 1032.17,1444.76 \n",
       "  1032.46,1444.76 1032.74,1444.74 1033.03,1444.74 1033.32,1444.74 1033.61,1441.23 1033.9,1441.23 1034.19,1429.78 1034.48,1429.78 1034.77,1429.78 1035.06,1429.78 \n",
       "  1035.35,1429.78 1035.63,1431.18 1035.92,1431.18 1036.21,1431.18 1036.5,1431.18 1036.79,1431.18 1037.08,1431.18 1037.37,1438.65 1037.66,1438.65 1037.95,1438.65 \n",
       "  1038.23,1438.65 1038.52,1429.54 1038.81,1429.54 1039.1,1444.06 1039.39,1445.13 1039.68,1445.13 1039.97,1445.13 1040.26,1445.13 1040.55,1445.13 1040.83,1445.13 \n",
       "  1041.12,1445.13 1041.41,1445.13 1041.7,1444.02 1041.99,1444.02 1042.28,1445.15 1042.57,1345.13 1042.86,1345.13 1043.15,1309.63 1043.44,1309.63 1043.72,1309.63 \n",
       "  1044.01,1309.63 1044.3,1309.63 1044.59,1309.63 1044.88,978.858 1045.17,978.858 1045.46,960.009 1045.75,966.315 1046.04,966.315 1046.32,966.315 1046.61,966.315 \n",
       "  1046.9,1130.27 1047.19,1130.27 1047.48,1130.27 1047.77,1130.27 1048.06,1357.87 1048.35,1357.87 1048.64,1357.87 1048.92,1357.87 1049.21,1238.71 1049.5,1089.9 \n",
       "  1049.79,1089.9 1050.08,1089.9 1050.37,1094.33 1050.66,1065.18 1050.95,1065.18 1051.24,1065.18 1051.53,1266 1051.81,1266 1052.1,1266 1052.39,1261.78 \n",
       "  1052.68,1261.78 1052.97,1268.01 1053.26,1268.01 1053.55,1268.01 1053.84,1268.01 1054.13,1268.01 1054.41,1268.01 1054.7,1268.01 1054.99,1129 1055.28,1129 \n",
       "  1055.57,1129 1055.86,1270.97 1056.15,1310.15 1056.44,1310.15 1056.73,1310.15 1057.02,1310.15 1057.3,1261.54 1057.59,1261.54 1057.88,1261.54 1058.17,1142.64 \n",
       "  1058.46,1142.64 1058.75,1142.64 1059.04,1183.37 1059.33,1183.37 1059.62,1183.37 1059.9,1183.37 1060.19,1183.37 1060.48,1183.37 1060.77,1183.37 1061.06,1260.21 \n",
       "  1061.35,1408.69 1061.64,1408.69 1061.93,1408.69 1062.22,1369.01 1062.5,1408.69 1062.79,1418.49 1063.08,1418.49 1063.37,1418.49 1063.66,1400.99 1063.95,1400.99 \n",
       "  1064.24,1205.76 1064.53,1205.76 1064.82,1330.14 1065.11,1339.06 1065.39,1285.14 1065.68,1285.14 1065.97,1285.14 1066.26,1285.14 1066.55,1292.32 1066.84,1292.32 \n",
       "  1067.13,1231.05 1067.42,1231.05 1067.71,1276.76 1067.99,1276.76 1068.28,1276.76 1068.57,1276.76 1068.86,1276.76 1069.15,1276.76 1069.44,1276.76 1069.73,1276.76 \n",
       "  1070.02,1329.85 1070.31,1329.85 1070.59,1371.4 1070.88,1371.4 1071.17,1371.4 1071.46,1371.4 1071.75,1318.64 1072.04,1236.66 1072.33,1236.66 1072.62,1236.66 \n",
       "  1072.91,1236.66 1073.2,1182.55 1073.48,1182.55 1073.77,1182.55 1074.06,1207.21 1074.35,1207.21 1074.64,1207.21 1074.93,1193.11 1075.22,1211.38 1075.51,1211.38 \n",
       "  1075.8,1211.38 1076.08,1302.99 1076.37,1416.31 1076.66,1427.47 1076.95,1427.47 1077.24,1445.54 1077.53,1445.54 1077.82,1445.54 1078.11,1445.54 1078.4,1445.54 \n",
       "  1078.68,1445.54 1078.97,1445.23 1079.26,1445.23 1079.55,1445.23 1079.84,1445.23 1080.13,1445.23 1080.42,1445.23 1080.71,1445.23 1081,1445.23 1081.29,1445.23 \n",
       "  1081.57,1445.23 1081.86,1445.23 1082.15,1445.23 1082.44,1445.47 1082.73,1445.47 1083.02,1442.83 1083.31,1442.83 1083.6,1442.83 1083.89,1442.83 1084.17,1442.83 \n",
       "  1084.46,1442.83 1084.75,1435.99 1085.04,1445.66 1085.33,1445.66 1085.62,1445.66 1085.91,1445.15 1086.2,1445.66 1086.49,1439.67 1086.77,1439.67 1087.06,1407.11 \n",
       "  1087.35,1407.11 1087.64,1392.18 1087.93,1392.18 1088.22,1392.18 1088.51,1392.18 1088.8,1392.18 1089.09,1392.18 1089.38,1442.97 1089.66,1442.97 1089.95,1442.97 \n",
       "  1090.24,1442.97 1090.53,1442.97 1090.82,1442.97 1091.11,1442.97 1091.4,1442.97 1091.69,1442.97 1091.98,1442.97 1092.26,1442.97 1092.55,1442.97 1092.84,1442.97 \n",
       "  1093.13,1392.18 1093.42,1418.24 1093.71,1418.24 1094,1418.24 1094.29,1386.64 1094.58,1386.64 1094.87,1386.64 1095.15,1405.74 1095.44,1405.74 1095.73,1405.74 \n",
       "  1096.02,1405.74 1096.31,1415.08 1096.6,1415.08 1096.89,1415.08 1097.18,1415.08 1097.47,1415.08 1097.75,1409.17 1098.04,1409.17 1098.33,1409.17 1098.62,1409.17 \n",
       "  1098.91,1409.17 1099.2,1409.17 1099.49,1409.17 1099.78,1409.17 1100.07,1409.17 1100.35,1223.33 1100.64,1223.33 1100.93,1223.33 1101.22,1223.33 1101.51,1223.33 \n",
       "  1101.8,1223.33 1102.09,1208.33 1102.38,1239.32 1102.67,1239.32 1102.96,1223.15 1103.24,1254.37 1103.53,1254.37 1103.82,1254.37 1104.11,1334 1104.4,1334 \n",
       "  1104.69,1383.57 1104.98,1383.57 1105.27,1383.57 1105.56,1383.57 1105.84,1438.58 1106.13,1438.58 1106.42,1409.08 1106.71,1409.08 1107,1407.27 1107.29,1407.27 \n",
       "  1107.58,1407.27 1107.87,1407.27 1108.16,1407.27 1108.44,1407.27 1108.73,1407.27 1109.02,1409.08 1109.31,1409.08 1109.6,1394.77 1109.89,1394.77 1110.18,1392.82 \n",
       "  1110.47,1392.82 1110.76,1384.45 1111.05,1392.82 1111.33,1392.82 1111.62,1392.82 1111.91,1429.96 1112.2,1429.96 1112.49,1429.96 1112.78,1429.96 1113.07,1429.96 \n",
       "  1113.36,1442.36 1113.65,1442.36 1113.93,1442.36 1114.22,1394.97 1114.51,1394.97 1114.8,1429.08 1115.09,1429.08 1115.38,1427.29 1115.67,1425.75 1115.96,1425.75 \n",
       "  1116.25,1425.75 1116.53,1425.75 1116.82,1425.75 1117.11,1425.75 1117.4,1394.66 1117.69,1394.66 1117.98,1438.55 1118.27,1438.55 1118.56,1438.55 1118.85,1438.55 \n",
       "  1119.14,1433.6 1119.42,1433.6 1119.71,1433.6 1120,1444.02 1120.29,1444.02 1120.58,1444.02 1120.87,1444.02 1121.16,1434.97 1121.45,1434.97 1121.74,1425.33 \n",
       "  1122.02,1404.54 1122.31,1433.33 1122.6,1433.33 1122.89,1433.33 1123.18,1433.33 1123.47,1414.14 1123.76,1414.14 1124.05,1254.11 1124.34,1254.11 1124.62,1254.11 \n",
       "  1124.91,1254.11 1125.2,1169.13 1125.49,1169.13 1125.78,1223.73 1126.07,1223.73 1126.36,1252.04 1126.65,1179.03 1126.94,1214.35 1127.23,1214.35 1127.51,1291.15 \n",
       "  1127.8,1291.15 1128.09,1291.15 1128.38,1291.15 1128.67,1322.84 1128.96,1322.84 1129.25,1322.84 1129.54,1322.84 1129.83,1322.84 1130.11,1277.48 1130.4,1277.48 \n",
       "  1130.69,1272.48 1130.98,1272.48 1131.27,1331.39 1131.56,1331.39 1131.85,1331.39 1132.14,1331.39 1132.43,1331.39 1132.71,1331.39 1133,1331.39 1133.29,1331.39 \n",
       "  1133.58,1331.39 1133.87,1331.39 1134.16,1331.39 1134.45,1347.88 1134.74,1347.88 1135.03,1347.88 1135.32,1347.88 1135.6,1347.88 1135.89,1347.88 1136.18,1347.88 \n",
       "  1136.47,1414.77 1136.76,1414.77 1137.05,1435.83 1137.34,1435.83 1137.63,1435.83 1137.92,1435.83 1138.2,1435.83 1138.49,1435.83 1138.78,1435.83 1139.07,1435.83 \n",
       "  1139.36,1435.83 1139.65,1385.2 1139.94,1385.2 1140.23,1174.4 1140.52,1174.4 1140.81,1174.4 1141.09,1276.36 1141.38,1260.98 1141.67,1260.98 1141.96,1271.31 \n",
       "  1142.25,1297.93 1142.54,1297.93 1142.83,1362.42 1143.12,1328.2 1143.41,1345.48 1143.69,1362.87 1143.98,1362.87 1144.27,1439.71 1144.56,1414.98 1144.85,1414.98 \n",
       "  1145.14,1414.98 1145.43,1414.98 1145.72,1414.98 1146.01,1414.98 1146.29,1414.98 1146.58,1414.98 1146.87,1420.66 1147.16,1420.66 1147.45,1420.66 1147.74,1420.66 \n",
       "  1148.03,1420.66 1148.32,1420.66 1148.61,1420.66 1148.9,1420.66 1149.18,1420.66 1149.47,1436.05 1149.76,1430.33 1150.05,1430.33 1150.34,1400.75 1150.63,1380.97 \n",
       "  1150.92,1380.97 1151.21,1380.97 1151.5,1380.97 1151.78,1380.97 1152.07,1380.97 1152.36,1380.97 1152.65,1380.97 1152.94,1380.97 1153.23,1380.97 1153.52,1380.97 \n",
       "  1153.81,1380.97 1154.1,1380.97 1154.38,1380.97 1154.67,1380.97 1154.96,1380.97 1155.25,1380.97 1155.54,1380.97 1155.83,1344.46 1156.12,1344.46 1156.41,1344.46 \n",
       "  1156.7,1344.46 1156.99,1344.46 1157.27,1398.91 1157.56,1398.91 1157.85,1409.33 1158.14,1409.33 1158.43,1409.33 1158.72,1409.33 1159.01,1409.33 1159.3,1409.33 \n",
       "  1159.59,1243.18 1159.87,1243.18 1160.16,1243.18 1160.45,1243.18 1160.74,1220.44 1161.03,1125.56 1161.32,1247.83 1161.61,1199.56 1161.9,1232.04 1162.19,1232.04 \n",
       "  1162.47,1232.04 1162.76,1246.81 1163.05,1270.84 1163.34,1270.84 1163.63,1265.2 1163.92,1265.2 1164.21,1431.72 1164.5,1445.48 1164.79,1148.84 1165.08,1132.08 \n",
       "  1165.36,1132.08 1165.65,1132.08 1165.94,1132.08 1166.23,1084.55 1166.52,1079.69 1166.81,1079.69 1167.1,1079.69 1167.39,1079.69 1167.68,1079.69 1167.96,1079.69 \n",
       "  1168.25,1079.69 1168.54,1079.69 1168.83,1079.69 1169.12,1034.19 1169.41,1373.03 1169.7,1366.53 1169.99,1366.53 1170.28,1366.53 1170.56,1366.53 1170.85,1366.53 \n",
       "  1171.14,1366.53 1171.43,1346.82 1171.72,1346.82 1172.01,1326.84 1172.3,1326.84 1172.59,1326.84 1172.88,1307.37 1173.17,1353.17 1173.45,1216.94 1173.74,1216.94 \n",
       "  1174.03,1087.32 1174.32,1087.32 1174.61,956.746 1174.9,956.746 1175.19,956.746 1175.48,956.746 1175.77,1331.87 1176.05,1445.69 1176.34,1445.69 1176.63,1397.21 \n",
       "  1176.92,1404.81 1177.21,1332.92 1177.5,1351.47 1177.79,1351.47 1178.08,1351.47 1178.37,1332.92 1178.66,1332.92 1178.94,1332.92 1179.23,1332.92 1179.52,1351.47 \n",
       "  1179.81,1372.55 1180.1,1372.55 1180.39,1356 1180.68,1356 1180.97,1372.55 1181.26,1403.47 1181.54,1390.25 1181.83,1327.97 1182.12,1327.97 1182.41,1327.97 \n",
       "  1182.7,1327.97 1182.99,1327.97 1183.28,1327.97 1183.57,1373.41 1183.86,1373.41 1184.14,1417.78 1184.43,1408.61 1184.72,1408.61 1185.01,1408.61 1185.3,1408.61 \n",
       "  1185.59,1418.59 1185.88,1426.06 1186.17,1426.06 1186.46,1426.06 1186.75,1426.06 1187.03,1412.17 1187.32,1412.17 1187.61,1412.17 1187.9,1420.89 1188.19,1420.89 \n",
       "  1188.48,1420.89 1188.77,1420.89 1189.06,1420.89 1189.35,1420.89 1189.63,1445.4 1189.92,1445.4 1190.21,1445.4 1190.5,1445.4 1190.79,1384.2 1191.08,1380.22 \n",
       "  1191.37,1327.33 1191.66,1327.33 1191.95,1327.33 1192.23,1341.47 1192.52,1341.47 1192.81,1341.47 1193.1,1367.12 1193.39,1367.12 1193.68,1408.63 1193.97,1408.63 \n",
       "  1194.26,1408.63 1194.55,1408.63 1194.84,1408.63 1195.12,1408.63 1195.41,1442.92 1195.7,1442.92 1195.99,1442.92 1196.28,1442.92 1196.57,1445.71 1196.86,1445.71 \n",
       "  1197.15,1445.71 1197.44,1445.71 1197.72,1445.71 1198.01,1445.71 1198.3,1445.71 1198.59,1445.71 1198.88,1445.71 1199.17,1445.71 1199.46,1442.8 1199.75,1445.63 \n",
       "  1200.04,1445.63 1200.32,1445.63 1200.61,1445.63 1200.9,1372.4 1201.19,1372.4 1201.48,1362.52 1201.77,1362.52 1202.06,1362.52 1202.35,1362.52 1202.64,1362.52 \n",
       "  1202.93,1362.52 1203.21,1373.63 1203.5,1373.63 1203.79,1373.34 1204.08,1249.07 1204.37,1249.52 1204.66,1265.7 1204.95,1211.75 1205.24,1189.65 1205.53,1402.14 \n",
       "  1205.81,1399.53 1206.1,1397.72 1206.39,1438.65 1206.68,1438.65 1206.97,1437.58 1207.26,1437.58 1207.55,1436.52 1207.84,1436.52 1208.13,1436.52 1208.41,1436.52 \n",
       "  1208.7,1436.52 1208.99,1438.11 1209.28,1438.11 1209.57,1438.11 1209.86,1438.11 1210.15,1438.11 1210.44,1438.11 1210.73,1438.11 1211.02,1442.74 1211.3,1442.74 \n",
       "  1211.59,1442.74 1211.88,1442.74 1212.17,1442.74 1212.46,1442.74 1212.75,1442.74 1213.04,1442.74 1213.33,1442.74 1213.62,1442.74 1213.9,1442.74 1214.19,1442.74 \n",
       "  1214.48,1439.2 1214.77,1439.2 1215.06,1439.2 1215.35,1439.2 1215.64,1432.61 1215.93,1432.61 1216.22,1432.61 1216.51,1432.61 1216.79,1432.61 1217.08,1432.61 \n",
       "  1217.37,1432.61 1217.66,1432.61 1217.95,1432.61 1218.24,1432.61 1218.53,1432.61 1218.82,1432.61 1219.11,1413.94 1219.39,1413.94 1219.68,1422.36 1219.97,1422.36 \n",
       "  1220.26,1422.36 1220.55,1422.36 1220.84,1422.36 1221.13,1422.36 1221.42,1445.57 1221.71,1445.57 1221.99,1442.91 1222.28,1442.91 1222.57,1440.62 1222.86,1440.62 \n",
       "  1223.15,1440.62 1223.44,1440.62 1223.73,1432.94 1224.02,1432.94 1224.31,1444.9 1224.6,1444.9 1224.88,1444.9 1225.17,1444.9 1225.46,1444.9 1225.75,1420.48 \n",
       "  1226.04,1428.73 1226.33,1428.73 1226.62,1428.73 1226.91,1428.73 1227.2,1428.73 1227.48,1428.73 1227.77,1428.73 1228.06,1428.73 1228.35,1407.14 1228.64,1413.36 \n",
       "  1228.93,1413.36 1229.22,1413.36 1229.51,1413.36 1229.8,1413.36 1230.08,1413.36 1230.37,1413.36 1230.66,1419.79 1230.95,1419.79 1231.24,1413.12 1231.53,1413.12 \n",
       "  1231.82,1413.12 1232.11,1413.12 1232.4,1420.9 1232.69,1420.9 1232.97,1420.9 1233.26,1420.9 1233.55,1436.31 1233.84,1445.33 1234.13,1445.33 1234.42,1445.33 \n",
       "  1234.71,1445.33 1235,1445.66 1235.29,1445.66 1235.57,1445.39 1235.86,1445.39 1236.15,1445.39 1236.44,1444.93 1236.73,1444.93 1237.02,1444.93 1237.31,1445.42 \n",
       "  1237.6,1445.42 1237.89,1445.42 1238.17,1445.42 1238.46,1445.42 1238.75,1445.42 1239.04,1445.69 1239.33,1445.69 1239.62,1445.69 1239.91,1445.69 1240.2,1445.69 \n",
       "  1240.49,1445.69 1240.78,1445.69 1241.06,1445.69 1241.35,1385.41 1241.64,1432.87 1241.93,1432.87 1242.22,1445.44 1242.51,1445.44 1242.8,1438.92 1243.09,1438.92 \n",
       "  1243.38,1439.95 1243.66,1439.95 1243.95,1400.03 1244.24,1400.03 1244.53,1400.03 1244.82,1403.37 1245.11,1403.37 1245.4,1396.78 1245.69,1401.69 1245.98,1440.44 \n",
       "  1246.26,1440.44 1246.55,1440.44 1246.84,1440.44 1247.13,1420.39 1247.42,1420.39 1247.71,1420.39 1248,1434.63 1248.29,1436.65 1248.58,1436.65 1248.87,1436.65 \n",
       "  1249.15,1436.65 1249.44,1436.65 1249.73,1418.73 1250.02,1418.73 1250.31,1381.67 1250.6,1381.67 1250.89,1381.67 1251.18,1381.67 1251.47,1381.67 1251.75,1381.67 \n",
       "  1252.04,1381.67 1252.33,1381.67 1252.62,1381.67 1252.91,1381.67 1253.2,1381.67 1253.49,1381.67 1253.78,1364.19 1254.07,1364.19 1254.36,1380.79 1254.64,1380.79 \n",
       "  1254.93,1380.79 1255.22,1380.79 1255.51,1380.79 1255.8,1380.79 1256.09,1380.79 1256.38,1380.79 1256.67,1380.79 1256.96,1389.73 1257.24,1389.73 1257.53,1411.55 \n",
       "  1257.82,1415.82 1258.11,1420.03 1258.4,1445.01 1258.69,1445.01 1258.98,1445.01 1259.27,1445.01 1259.56,1445.01 1259.84,1445.01 1260.13,1445.01 1260.42,1441.94 \n",
       "  1260.71,1441.94 1261,1438 1261.29,1438 1261.58,1440.95 1261.87,1440.95 1262.16,1435.59 1262.45,1435.59 1262.73,1429.06 1263.02,1429.06 1263.31,1434 \n",
       "  1263.6,1434 1263.89,1417.75 1264.18,1437.97 1264.47,1437.97 1264.76,1407.33 1265.05,1278.92 1265.33,1278.92 1265.62,1344.22 1265.91,1344.22 1266.2,1346.71 \n",
       "  1266.49,1346.71 1266.78,1324.29 1267.07,1324.29 1267.36,1324.29 1267.65,1324.29 1267.93,1445.06 1268.22,1445.06 1268.51,1445.06 1268.8,1445.65 1269.09,1171.45 \n",
       "  1269.38,1445.65 1269.67,1445.17 1269.96,1445.72 1270.25,1445.72 1270.54,1445.72 1270.82,1445.65 1271.11,1437.03 1271.4,1416.91 1271.69,1438.07 1271.98,1417.07 \n",
       "  1272.27,1417.07 1272.56,1421.8 1272.85,1435.27 1273.14,1389.6 1273.42,1399.87 1273.71,1430.94 1274,1423.92 1274.29,1405.92 1274.58,1385.52 1274.87,1385.52 \n",
       "  1275.16,1385.52 1275.45,1385.52 1275.74,1385.52 1276.02,1438.13 1276.31,1438.13 1276.6,1442.1 1276.89,1442.1 1277.18,1436.46 1277.47,1445.71 1277.76,1445.71 \n",
       "  1278.05,1438.78 1278.34,1438.78 1278.63,1442.44 1278.91,1442.44 1279.2,1430.46 1279.49,1430.46 1279.78,1421.89 1280.07,1421.89 1280.36,1421.89 1280.65,1420.75 \n",
       "  1280.94,1420.75 1281.23,1420.75 1281.51,1420.75 1281.8,1420.75 1282.09,1420.75 1282.38,1307.97 1282.67,1307.97 1282.96,1307.97 1283.25,1307.97 1283.54,1307.97 \n",
       "  1283.83,1307.97 1284.11,1307.97 1284.4,1307.97 1284.69,1307.97 1284.98,1307.97 1285.27,1292.87 1285.56,1292.87 1285.85,1292.87 1286.14,1292.87 1286.43,1293.23 \n",
       "  1286.72,1282.36 1287,1282.36 1287.29,1282.36 1287.58,1284.26 1287.87,1284.26 1288.16,1284.26 1288.45,1284.26 1288.74,1284.26 1289.03,1284.26 1289.32,1284.26 \n",
       "  1289.6,1396.32 1289.89,1396.32 1290.18,1389.04 1290.47,1389.04 1290.76,1389.04 1291.05,1389.04 1291.34,1389.04 1291.63,1389.04 1291.92,1389.04 1292.21,1389.04 \n",
       "  1292.49,1389.04 1292.78,1389.04 1293.07,1389.04 1293.36,1396.32 1293.65,1396.32 1293.94,1396.32 1294.23,1396.32 1294.52,1396.32 1294.81,1396.32 1295.09,1425.72 \n",
       "  1295.38,1425.72 1295.67,1443.17 1295.96,1443.17 1296.25,1443.17 1296.54,1443.17 1296.83,1443.17 1297.12,1443.17 1297.41,1445.4 1297.69,1445.4 1297.98,1445.58 \n",
       "  1298.27,1445.58 1298.56,1376.78 1298.85,1441.66 1299.14,1441.66 1299.43,1430.48 1299.72,1430.48 1300.01,1430.48 1300.3,1432.24 1300.58,1432.24 1300.87,1432.24 \n",
       "  1301.16,1434.11 1301.45,1434.11 1301.74,1434.11 1302.03,1434.11 1302.32,1430.03 1302.61,1430.03 1302.9,1404.92 1303.18,1404.92 1303.47,1412.27 1303.76,1412.27 \n",
       "  1304.05,1420.51 1304.34,1426.2 1304.63,1426.2 1304.92,1428.85 1305.21,1428.85 1305.5,1427.29 1305.78,1427.29 1306.07,1431.73 1306.36,1431.73 1306.65,1431.73 \n",
       "  1306.94,1431.73 1307.23,1431.73 1307.52,1431.73 1307.81,1441.53 1308.1,1441.53 1308.39,1441.53 1308.67,1441.53 1308.96,1436.23 1309.25,1429.46 1309.54,1429.46 \n",
       "  1309.83,1435.05 1310.12,1435.05 1310.41,1435.05 1310.7,1435.05 1310.99,1435.05 1311.27,1435.05 1311.56,1435.05 1311.85,1435.05 1312.14,1435.05 1312.43,1435.05 \n",
       "  1312.72,1435.05 1313.01,1440.57 1313.3,1440.57 1313.59,1440.57 1313.87,1441.36 1314.16,1441.36 1314.45,1441.36 1314.74,1441.36 1315.03,1428.77 1315.32,1428.77 \n",
       "  1315.61,1428.77 1315.9,1428.77 1316.19,1428.77 1316.48,1428.77 1316.76,1428.77 1317.05,1428.77 1317.34,1428.77 1317.63,1428.77 1317.92,1428.77 1318.21,1428.77 \n",
       "  1318.5,1440.62 1318.79,1441.64 1319.08,1441.64 1319.36,1441.64 1319.65,1442.37 1319.94,1442.37 1320.23,1442.37 1320.52,1442.37 1320.81,1442.37 1321.1,1442.37 \n",
       "  1321.39,1442.37 1321.68,1442.37 1321.96,1440.01 1322.25,1440.58 1322.54,1440.58 1322.83,1437.56 1323.12,1437.56 1323.41,1437.56 1323.7,1437.56 1323.99,1408.61 \n",
       "  1324.28,1408.61 1324.57,1408.61 1324.85,1408.61 1325.14,1408.61 1325.43,1408.61 1325.72,1408.61 1326.01,1408.61 1326.3,1408.61 1326.59,1408.61 1326.88,1408.61 \n",
       "  1327.17,1408.61 1327.45,1439 1327.74,1439 1328.03,1439 1328.32,1439 1328.61,1444.29 1328.9,1445.31 1329.19,1445.31 1329.48,1444.13 1329.77,1444.13 \n",
       "  1330.06,1444.13 1330.34,1442.36 1330.63,1442.36 1330.92,1442.36 1331.21,1442.36 1331.5,1442.36 1331.79,1365.8 1332.08,1365.8 1332.37,1365.8 1332.66,1365.8 \n",
       "  1332.94,1365.8 1333.23,1365.8 1333.52,1365.8 1333.81,1365.8 1334.1,1365.8 1334.39,1365.8 1334.68,1445.45 1334.97,1445.45 1335.26,1444.18 1335.54,1444.18 \n",
       "  1335.83,1444.18 1336.12,1444.18 1336.41,1444.18 1336.7,1445.4 1336.99,1445.4 1337.28,1445.4 1337.57,1445.4 1337.86,1442.93 1338.15,1442.93 1338.43,1441.54 \n",
       "  1338.72,1441.54 1339.01,1443.51 1339.3,1443.51 1339.59,1443.51 1339.88,1443.51 1340.17,1443.51 1340.46,1443.51 1340.75,1434.16 1341.03,1434.16 1341.32,1419.3 \n",
       "  1341.61,1419.3 1341.9,1419.3 1342.19,1419.3 1342.48,1419.3 1342.77,1419.3 1343.06,1419.3 1343.35,1419.3 1343.63,1419.3 1343.92,1419.3 1344.21,1436.86 \n",
       "  1344.5,1428.21 1344.79,1402.52 1345.08,1402.52 1345.37,1402.52 1345.66,1402.52 1345.95,1402.52 1346.24,1402.52 1346.52,1402.52 1346.81,1431.83 1347.1,1431.83 \n",
       "  1347.39,1431.83 1347.68,1431.83 1347.97,1431.83 1348.26,1431.83 1348.55,1425.58 1348.84,1425.58 1349.12,1433.96 1349.41,1433.96 1349.7,1433.96 1349.99,1433.96 \n",
       "  1350.28,1436.57 1350.57,1436.57 1350.86,1436.57 1351.15,1436.57 1351.44,1436.57 1351.72,1436.57 1352.01,1436.57 1352.3,1436.57 1352.59,1436.57 1352.88,1436.57 \n",
       "  1353.17,1445.55 1353.46,1438.29 1353.75,1438.29 1354.04,1440.04 1354.33,1440.04 1354.61,1440.04 1354.9,1440.04 1355.19,1440.04 1355.48,1440.04 1355.77,1440.04 \n",
       "  1356.06,1440.04 1356.35,1444.66 1356.64,1444.66 1356.93,1444.66 1357.21,1444.66 1357.5,1444.66 1357.79,1444.66 1358.08,1443.12 1358.37,1443.12 1358.66,1443.12 \n",
       "  1358.95,1409.31 1359.24,1409.31 1359.53,1409.31 1359.81,1409.31 1360.1,1439.49 1360.39,1439.49 1360.68,1439.49 1360.97,1439.49 1361.26,1439.49 1361.55,1431.28 \n",
       "  1361.84,1431.28 1362.13,1431.28 1362.42,1431.28 1362.7,1431.28 1362.99,1431.28 1363.28,1420.63 1363.57,1420.63 1363.86,1420.63 1364.15,1420.63 1364.44,1420.63 \n",
       "  1364.73,1420.63 1365.02,1420.63 1365.3,1420.63 1365.59,1420.63 1365.88,1445.33 1366.17,1445.33 1366.46,1445.33 1366.75,1445.33 1367.04,1445.68 1367.33,1444.04 \n",
       "  1367.62,1444.04 1367.9,1443.36 1368.19,1443.36 1368.48,1443.36 1368.77,1443.36 1369.06,1443.36 1369.35,1443.36 1369.64,1443.36 1369.93,1443.36 1370.22,1443.36 \n",
       "  1370.51,1443.36 1370.79,1443.36 1371.08,1443.36 1371.37,1443.36 1371.66,1443.36 1371.95,1443.36 1372.24,1443.36 1372.53,1443.36 1372.82,1438.1 1373.11,1435.19 \n",
       "  1373.39,1435.19 1373.68,1435.19 1373.97,1435.19 1374.26,1435.19 1374.55,1431.36 1374.84,1443.88 1375.13,1443.88 1375.42,1418.12 1375.71,1418.12 1376,1418.12 \n",
       "  1376.28,1418.12 1376.57,1418.12 1376.86,1418.12 1377.15,1418.12 1377.44,1418.12 1377.73,1418.12 1378.02,1418.12 1378.31,1401.07 1378.6,1401.07 1378.88,1416.78 \n",
       "  1379.17,1416.78 1379.46,1416.78 1379.75,1444.82 1380.04,1402.78 1380.33,1402.78 1380.62,1406.88 1380.91,1406.88 1381.2,1406.88 1381.48,1406.88 1381.77,1406.88 \n",
       "  1382.06,1444.87 1382.35,1445.33 1382.64,1445.33 1382.93,1445.33 1383.22,1445.33 1383.51,1445.64 1383.8,1445.64 1384.09,1445.64 1384.37,1445.64 1384.66,1443.91 \n",
       "  1384.95,1445.38 1385.24,1445.38 1385.53,1445.38 1385.82,1445.38 1386.11,1445.38 1386.4,1445.38 1386.69,1445.56 1386.97,1445.56 1387.26,1445.56 1387.55,1445.6 \n",
       "  1387.84,1445.64 1388.13,1445.64 1388.42,1433.76 1388.71,1286.06 1389,1286.06 1389.29,1397.94 1389.57,1415.68 1389.86,1415.68 1390.15,1415.68 1390.44,1415.68 \n",
       "  1390.73,1415.68 1391.02,1415.68 1391.31,1433.6 1391.6,1433.6 1391.89,1438.32 1392.18,1438.32 1392.46,1426.35 1392.75,1426.35 1393.04,1426.35 1393.33,1426.35 \n",
       "  1393.62,1426.35 1393.91,1426.35 1394.2,1426.35 1394.49,1439.79 1394.78,1439.79 1395.06,1436.7 1395.35,1436.7 1395.64,1414.71 1395.93,1342.65 1396.22,1324.8 \n",
       "  1396.51,1324.8 1396.8,1324.8 1397.09,1422.82 1397.38,1422.82 1397.66,1422.82 1397.95,1422.82 1398.24,1422.82 1398.53,1422.82 1398.82,1422.82 1399.11,1422.82 \n",
       "  1399.4,1422.82 1399.69,1422.82 1399.98,1422.82 1400.27,1422.82 1400.55,1422.82 1400.84,1419.85 1401.13,1419.85 1401.42,1444.91 1401.71,1444.91 1402,1434.81 \n",
       "  1402.29,1434.81 1402.58,1434.81 1402.87,1434.81 1403.15,1442.17 1403.44,1442.17 1403.73,1442.17 1404.02,1440.87 1404.31,1440.87 1404.6,1440.87 1404.89,1440.87 \n",
       "  1405.18,1432.73 1405.47,1347.75 1405.75,1347.75 1406.04,1415.67 1406.33,1415.67 1406.62,1415.67 1406.91,1415.67 1407.2,1415.67 1407.49,1415.67 1407.78,1248.45 \n",
       "  1408.07,1248.45 1408.36,1248.45 1408.64,1248.45 1408.93,1248.45 1409.22,1248.45 1409.51,1248.45 1409.8,1248.45 1410.09,1248.45 1410.38,1248.45 1410.67,1192.61 \n",
       "  1410.96,1192.61 1411.24,1192.61 1411.53,1185.24 1411.82,1185.24 1412.11,1185.24 1412.4,1185.24 1412.69,1185.24 1412.98,1185.24 1413.27,1254.66 1413.56,1270.81 \n",
       "  1413.85,1270.81 1414.13,1270.81 1414.42,1327.16 1414.71,1327.16 1415,1327.16 1415.29,1327.16 1415.58,1327.16 1415.87,1327.16 1416.16,1327.16 1416.45,1327.16 \n",
       "  1416.73,1327.16 1417.02,1434.75 1417.31,1437.57 1417.6,1437.57 1417.89,1390.48 1418.18,1327.95 1418.47,1327.95 1418.76,1328.37 1419.05,1328.37 1419.33,1328.37 \n",
       "  1419.62,1336.95 1419.91,1336.95 1420.2,1336.95 1420.49,1336.95 1420.78,1375.91 1421.07,1375.91 1421.36,1375.91 1421.65,1406.15 1421.94,1406.15 1422.22,1401.92 \n",
       "  1422.51,1369.93 1422.8,1369.93 1423.09,1369.93 1423.38,1339.53 1423.67,1339.53 1423.96,1297.02 1424.25,1322.47 1424.54,1294.38 1424.82,1294.38 1425.11,1294.38 \n",
       "  1425.4,1362.85 1425.69,1319.19 1425.98,1347.42 1426.27,1347.42 1426.56,1307.04 1426.85,1380.48 1427.14,1380.48 1427.42,1380.48 1427.71,1380.48 1428,1297.49 \n",
       "  1428.29,1297.49 1428.58,1344.11 1428.87,1326.43 1429.16,1347.13 1429.45,1432.57 1429.74,1432.57 1430.03,1432.57 1430.31,1415.66 1430.6,1415.66 1430.89,1426.19 \n",
       "  1431.18,1426.19 1431.47,1389.19 1431.76,1389.19 1432.05,1389.19 1432.34,1389.19 1432.63,1389.19 1432.91,1389.19 1433.2,1351.5 1433.49,1351.5 1433.78,1351.5 \n",
       "  1434.07,1351.5 1434.36,1392.54 1434.65,1228.85 1434.94,1228.85 1435.23,1236.68 1435.51,1236.68 1435.8,1236.68 1436.09,1266.75 1436.38,1266.75 1436.67,1266.75 \n",
       "  1436.96,1414.32 1437.25,1414.32 1437.54,1414.32 1437.83,1414.32 1438.12,1414.32 1438.4,1414.32 1438.69,1414.32 1438.98,1414.32 1439.27,1414.32 1439.56,1414.32 \n",
       "  1439.85,1414.32 1440.14,1414.32 1440.43,1397.53 1440.72,1397.53 1441,1397.53 1441.29,1397.53 1441.58,1414.26 1441.87,1406.11 1442.16,1406.11 1442.45,1406.11 \n",
       "  1442.74,1406.11 1443.03,1406.11 1443.32,1406.11 1443.6,1439.27 1443.89,1439.27 1444.18,1439.27 1444.47,1439.27 1444.76,1439.27 1445.05,1439.27 1445.34,1439.27 \n",
       "  1445.63,1439.27 1445.92,1437.68 1446.21,1437.68 1446.49,1437.68 1446.78,1437.68 1447.07,1437.68 1447.36,1437.68 1447.65,1437.68 1447.94,1445.31 1448.23,1441.66 \n",
       "  1448.52,1441.66 1448.81,1441.66 1449.09,1441.66 1449.38,1441.66 1449.67,1441.66 1449.96,1444.67 1450.25,1444.67 1450.54,1444.67 1450.83,1444.67 1451.12,1444.67 \n",
       "  1451.41,1444.67 1451.7,1444.67 1451.98,1444.67 1452.27,1443.5 1452.56,1443.5 1452.85,1441.17 1453.14,1440.42 1453.43,1440.42 1453.72,1425.88 1454.01,1425.88 \n",
       "  1454.3,1425.88 1454.58,1425.88 1454.87,1425.88 1455.16,1425.88 1455.45,1445.7 1455.74,1424.32 1456.03,1424.32 1456.32,1424.32 1456.61,1424.32 1456.9,1424.32 \n",
       "  1457.18,1424.32 1457.47,1401.93 1457.76,1401.93 1458.05,1401.35 1458.34,1401.35 1458.63,1441.85 1458.92,1426.24 1459.21,1426.24 1459.5,1426.24 1459.79,1432.43 \n",
       "  1460.07,1342.03 1460.36,1342.03 1460.65,1342.03 1460.94,1342.03 1461.23,1342.03 1461.52,1342.03 1461.81,1342.03 1462.1,1342.03 1462.39,1371.64 1462.67,1371.64 \n",
       "  1462.96,1371.64 1463.25,1371.64 1463.54,1371.64 1463.83,1371.64 1464.12,1371.64 1464.41,1371.64 1464.7,1371.64 1464.99,1371.64 1465.27,1413.89 1465.56,1325.31 \n",
       "  1465.85,1420.22 1466.14,1356.35 1466.43,1356.35 1466.72,1351.08 1467.01,1351.08 1467.3,1351.08 1467.59,1351.08 1467.88,1351.08 1468.16,1351.08 1468.45,1351.08 \n",
       "  1468.74,1351.08 1469.03,1351.08 1469.32,1351.08 1469.61,1351.08 1469.9,1369.2 1470.19,1369.2 1470.48,1369.2 1470.76,1369.2 1471.05,1369.2 1471.34,1369.2 \n",
       "  1471.63,1369.2 1471.92,1308.2 1472.21,1308.2 1472.5,1331.48 1472.79,1331.48 1473.08,1331.48 1473.36,1177.29 1473.65,1193.46 1473.94,1193.46 1474.23,1193.46 \n",
       "  1474.52,1193.46 1474.81,1193.46 1475.1,1193.46 1475.39,1323.41 1475.68,1269.19 1475.97,1269.19 1476.25,1328.53 1476.54,1243.04 1476.83,1243.04 1477.12,1214.54 \n",
       "  1477.41,1214.54 1477.7,1391.04 1477.99,1391.04 1478.28,1436.17 1478.57,1426.46 1478.85,1426.46 1479.14,1426.46 1479.43,1426.46 1479.72,1426.46 1480.01,1426.46 \n",
       "  1480.3,1429.04 1480.59,1429.04 1480.88,1405.98 1481.17,1405.98 1481.45,1405.98 1481.74,1405.98 1482.03,1405.98 1482.32,1405.98 1482.61,1405.98 1482.9,1405.98 \n",
       "  1483.19,1408.31 1483.48,1370.68 1483.77,1370.68 1484.06,1370.68 1484.34,1370.68 1484.63,1370.68 1484.92,1299.64 1485.21,1399.8 1485.5,1399.8 1485.79,1399.8 \n",
       "  1486.08,1399.8 1486.37,1401.64 1486.66,1401.64 1486.94,1406.11 1487.23,1406.11 1487.52,1406.11 1487.81,1397.9 1488.1,1397.9 1488.39,1397.9 1488.68,1397.9 \n",
       "  1488.97,1288.63 1489.26,1243.31 1489.55,1213.59 1489.83,1213.59 1490.12,1213.59 1490.41,1213.59 1490.7,1222.19 1490.99,1222.19 1491.28,1391.77 1491.57,1391.77 \n",
       "  1491.86,1391.77 1492.15,1391.77 1492.43,1413.06 1492.72,1413.06 1493.01,1445.44 1493.3,1445.44 1493.59,1413.06 1493.88,1413.06 1494.17,1413.06 1494.46,1413.06 \n",
       "  1494.75,1413.06 1495.03,1425.42 1495.32,1425.42 1495.61,1425.42 1495.9,1425.42 1496.19,1425.42 1496.48,1425.42 1496.77,1425.42 1497.06,1425.42 1497.35,1425.88 \n",
       "  1497.64,1425.88 1497.92,1425.88 1498.21,1425.88 1498.5,1425.88 1498.79,1425.88 1499.08,1425.88 1499.37,1425.88 1499.66,1425.88 1499.95,1444.63 1500.24,1444.63 \n",
       "  1500.52,1444.63 1500.81,1444.63 1501.1,1444.63 1501.39,1439.8 1501.68,1438.52 1501.97,1438.52 1502.26,1438.21 1502.55,1438.21 1502.84,1438.21 1503.12,1438.21 \n",
       "  1503.41,1438.21 1503.7,1439.16 1503.99,1440.1 1504.28,1440.1 1504.57,1440.1 1504.86,1432.64 1505.15,1432.64 1505.44,1397.51 1505.73,1371.86 1506.01,1392.42 \n",
       "  1506.3,1392.42 1506.59,1392.42 1506.88,1392.42 1507.17,1392.42 1507.46,1401.41 1507.75,1401.41 1508.04,1401.41 1508.33,1421.93 1508.61,1421.93 1508.9,1414.55 \n",
       "  1509.19,1414.55 1509.48,1419.88 1509.77,1419.88 1510.06,1419.88 1510.35,1419.88 1510.64,1419.88 1510.93,1419.88 1511.21,1419.88 1511.5,1419.88 1511.79,1419.88 \n",
       "  1512.08,1419.88 1512.37,1419.88 1512.66,1419.88 1512.95,1419.88 1513.24,1419.88 1513.53,1445.51 1513.82,1445.51 1514.1,1445.51 1514.39,1420.46 1514.68,1353.98 \n",
       "  1514.97,1353.98 1515.26,1445.27 1515.55,1445.27 1515.84,1445.67 1516.13,1445.67 1516.42,1445.67 1516.7,1445.67 1516.99,1445.67 1517.28,1445.67 1517.57,1438.09 \n",
       "  1517.86,1438.09 1518.15,1438.09 1518.44,1438.09 1518.73,1438.09 1519.02,1438.09 1519.3,1438.09 1519.59,1438.09 1519.88,1438.09 1520.17,1445.47 1520.46,1445.71 \n",
       "  1520.75,1438.74 1521.04,1438.74 1521.33,1445.23 1521.62,1445.23 1521.91,1445.23 1522.19,1380.36 1522.48,1380.36 1522.77,1380.36 1523.06,1383.3 1523.35,1386.7 \n",
       "  1523.64,1386.7 1523.93,1386.7 1524.22,1386.7 1524.51,1378.45 1524.79,1442.78 1525.08,1441.11 1525.37,1441.11 1525.66,1443.1 1525.95,1443.1 1526.24,1443.54 \n",
       "  1526.53,1443.54 1526.82,1444.78 1527.11,1444.78 1527.4,1444.78 1527.68,1444.78 1527.97,1444.78 1528.26,1444.78 1528.55,1444.78 1528.84,1444.78 1529.13,1445.59 \n",
       "  1529.42,1445.59 1529.71,1445.59 1530,1445.59 1530.28,1445.54 1530.57,1445.54 1530.86,1445.54 1531.15,1445.54 1531.44,1445.54 1531.73,1445.7 1532.02,1445.29 \n",
       "  1532.31,1444.84 1532.6,1444.84 1532.88,1443.46 1533.17,1443.46 1533.46,1443.46 1533.75,1443.46 1534.04,1443.46 1534.33,1443.46 1534.62,1443.46 1534.91,1443.46 \n",
       "  1535.2,1443.46 1535.49,1443.46 1535.77,1443.46 1536.06,1442.42 1536.35,1442.42 1536.64,1442.42 1536.93,1445.17 1537.22,1445.17 1537.51,1443.27 1537.8,1443.27 \n",
       "  1538.09,1443.27 1538.37,1443.27 1538.66,1443.27 1538.95,1442.34 1539.24,1438.35 1539.53,1442.4 1539.82,1442.84 1540.11,1442.84 1540.4,1442.84 1540.69,1442.84 \n",
       "  1540.97,1367.71 1541.26,1367.71 1541.55,1367.71 1541.84,1367.71 1542.13,1445.44 1542.42,1432.51 1542.71,1432.51 1543,1432.51 1543.29,1432.51 1543.58,1432.51 \n",
       "  1543.86,1420.71 1544.15,1420.71 1544.44,1420.71 1544.73,1420.71 1545.02,1420.71 1545.31,1420.71 1545.6,1420.71 1545.89,1420.71 1546.18,1420.71 1546.46,1420.71 \n",
       "  1546.75,1420.71 1547.04,1420.71 1547.33,1420.71 1547.62,1420.71 1547.91,1436.97 1548.2,1436.97 1548.49,1436.97 1548.78,1436.97 1549.06,1436.97 1549.35,1436.97 \n",
       "  1549.64,1436.97 1549.93,1436.97 1550.22,1433.39 1550.51,1433.39 1550.8,1444.57 1551.09,1444.57 1551.38,1402.25 1551.67,1402.25 1551.95,1397.65 1552.24,1397.65 \n",
       "  1552.53,1397.65 1552.82,1397.65 1553.11,1397.65 1553.4,1397.65 1553.69,1397.65 1553.98,1397.65 1554.27,1397.65 1554.55,1397.65 1554.84,1397.65 1555.13,1397.65 \n",
       "  1555.42,1397.65 1555.71,1380.72 1556,1360.94 1556.29,1281.92 1556.58,1299.6 1556.87,1299.6 1557.15,1234.83 1557.44,1234.83 1557.73,1234.83 1558.02,1041.05 \n",
       "  1558.31,1110.61 1558.6,1110.61 1558.89,1110.61 1559.18,1110.61 1559.47,1230.27 1559.76,1230.27 1560.04,1230.27 1560.33,1230.27 1560.62,1170.35 1560.91,1170.35 \n",
       "  1561.2,1170.35 1561.49,1170.35 1561.78,1170.35 1562.07,1170.35 1562.36,1163.07 1562.64,1158.03 1562.93,1158.03 1563.22,1161.39 1563.51,1161.39 1563.8,1161.39 \n",
       "  1564.09,1110.94 1564.38,1110.94 1564.67,1115.06 1564.96,1143.07 1565.25,1143.07 1565.53,1037.9 1565.82,1037.9 1566.11,992.342 1566.4,1285.29 1566.69,1285.29 \n",
       "  1566.98,1285.29 1567.27,1266.81 1567.56,1266.81 1567.85,1314.64 1568.13,1287.96 1568.42,1287.96 1568.71,1287.96 1569,1287.96 1569.29,1251.83 1569.58,1251.83 \n",
       "  1569.87,1251.83 1570.16,1398.91 1570.45,1398.91 1570.73,1443.91 1571.02,1427.8 1571.31,1427.8 1571.6,1425.23 1571.89,1428.71 1572.18,1428.71 1572.47,1428.71 \n",
       "  1572.76,1432.47 1573.05,1432.47 1573.34,1432.47 1573.62,1432.47 1573.91,1444.58 1574.2,1444.58 1574.49,1445.63 1574.78,1445.63 1575.07,1445.63 1575.36,1445.63 \n",
       "  1575.65,1445.63 1575.94,1445.63 1576.22,1445.63 1576.51,1445.63 1576.8,1445.54 1577.09,1445.54 1577.38,1445.43 1577.67,1445.43 1577.96,1445 1578.25,1445.37 \n",
       "  1578.54,1441.66 1578.82,1441.66 1579.11,1439.79 1579.4,1439.79 1579.69,1438.83 1579.98,1438.83 1580.27,1441.51 1580.56,1441.51 1580.85,1429.56 1581.14,1429.56 \n",
       "  1581.43,1429.56 1581.71,1429.56 1582,1418.15 1582.29,1418.15 1582.58,1421.1 1582.87,1421.1 1583.16,1426.72 1583.45,1393.98 1583.74,1426.41 1584.03,1426.41 \n",
       "  1584.31,1434.08 1584.6,1434.08 1584.89,1434.08 1585.18,1434.08 1585.47,1440.9 1585.76,1440.9 1586.05,1440.9 1586.34,1440.9 1586.63,1425.68 1586.91,1425.68 \n",
       "  1587.2,1425.68 1587.49,1425.68 1587.78,1428.57 1588.07,1425.68 1588.36,1425.68 1588.65,1411.99 1588.94,1400.9 1589.23,1425.12 1589.52,1425.12 1589.8,1421.91 \n",
       "  1590.09,1421.91 1590.38,1421.91 1590.67,1418.88 1590.96,1418.15 1591.25,1418.15 1591.54,1417.65 1591.83,1417.65 1592.12,1417.65 1592.4,1429.3 1592.69,1437.27 \n",
       "  1592.98,1437.27 1593.27,1432.14 1593.56,1432.14 1593.85,1432.14 1594.14,1432.14 1594.43,1322.83 1594.72,1322.83 1595,1310.49 1595.29,1310.49 1595.58,1310.49 \n",
       "  1595.87,1310.49 1596.16,1310.49 1596.45,1347.42 1596.74,1192.49 1597.03,1192.49 1597.32,1439.1 1597.61,1439.1 1597.89,1439.1 1598.18,1439.1 1598.47,1439.1 \n",
       "  1598.76,1440.86 1599.05,1443.33 1599.34,1443.33 1599.63,1444.8 1599.92,1441 1600.21,1441 1600.49,1441 1600.78,1441 1601.07,1402.67 1601.36,1412.22 \n",
       "  1601.65,1412.22 1601.94,1412.22 1602.23,1414.17 1602.52,1414.17 1602.81,1414.17 1603.09,1414.17 1603.38,1416.76 1603.67,1416.76 1603.96,1416.76 1604.25,1402.65 \n",
       "  1604.54,1402.65 1604.83,1402.65 1605.12,1402.65 1605.41,1347.58 1605.7,1341.91 1605.98,1235.62 1606.27,1098.35 1606.56,1098.35 1606.85,1098.35 1607.14,1098.35 \n",
       "  1607.43,1098.35 1607.72,1098.35 1608.01,1098.35 1608.3,1098.35 1608.58,1098.35 1608.87,1098.35 1609.16,1098.35 1609.45,1098.35 1609.74,1098.35 1610.03,1098.35 \n",
       "  1610.32,1098.35 1610.61,1098.35 1610.9,1098.35 1611.19,1179.58 1611.47,1165.5 1611.76,1165.5 1612.05,1153.37 1612.34,1103.77 1612.63,1103.77 1612.92,1103.77 \n",
       "  1613.21,1103.77 1613.5,1103.77 1613.79,1103.77 1614.07,1103.77 1614.36,1194.96 1614.65,1194.96 1614.94,1080.02 1615.23,1080.02 1615.52,1080.02 1615.81,1080.02 \n",
       "  1616.1,1080.02 1616.39,1080.02 1616.67,1080.02 1616.96,1080.02 1617.25,1080.02 1617.54,1080.02 1617.83,1061.64 1618.12,1319.27 1618.41,1322.72 1618.7,1322.72 \n",
       "  1618.99,1296.63 1619.28,1296.63 1619.56,1296.63 1619.85,1296.63 1620.14,1277.49 1620.43,1277.49 1620.72,1043.72 1621.01,1043.72 1621.3,1043.72 1621.59,1043.72 \n",
       "  1621.88,1043.72 1622.16,1028.26 1622.45,979.362 1622.74,979.362 1623.03,1012.97 1623.32,1012.97 1623.61,1012.97 1623.9,1012.97 1624.19,1012.97 1624.48,1012.97 \n",
       "  1624.76,1012.97 1625.05,1012.97 1625.34,1012.97 1625.63,1012.97 1625.92,1012.97 1626.21,1012.97 1626.5,1012.97 1626.79,1012.97 1627.08,1012.97 1627.37,1063.91 \n",
       "  1627.65,1063.91 1627.94,1063.91 1628.23,1063.91 1628.52,1063.91 1628.81,869.633 1629.1,869.633 1629.39,869.633 1629.68,869.633 1629.97,869.633 1630.25,869.633 \n",
       "  1630.54,845.961 1630.83,883.114 1631.12,883.114 1631.41,883.114 1631.7,940.087 1631.99,1027.84 1632.28,1032.94 1632.57,1048.34 1632.85,1048.34 1633.14,1048.34 \n",
       "  1633.43,1119.84 1633.72,1119.84 1634.01,1119.84 1634.3,1119.84 1634.59,1103.88 1634.88,1253.74 1635.17,1296.77 1635.46,1296.77 1635.74,1296.77 1636.03,1296.77 \n",
       "  1636.32,1145.41 1636.61,1248.75 1636.9,1365.23 1637.19,1365.23 1637.48,1365.23 1637.77,1248.75 1638.06,1365.23 1638.34,1334.48 1638.63,1334.48 1638.92,1334.48 \n",
       "  1639.21,1334.48 1639.5,1254.88 1639.79,1254.88 1640.08,1254.88 1640.37,1254.88 1640.66,1254.88 1640.94,1254.88 1641.23,1254.88 1641.52,1254.88 1641.81,880.731 \n",
       "  1642.1,880.731 1642.39,880.731 1642.68,880.731 1642.97,880.731 1643.26,880.731 1643.55,383.717 1643.83,383.717 1644.12,504.845 1644.41,504.845 1644.7,504.845 \n",
       "  1644.99,437.682 1645.28,564.393 1645.57,564.393 1645.86,564.393 1646.15,564.393 1646.43,530.09 1646.72,543.415 1647.01,757.54 1647.3,757.54 1647.59,756.343 \n",
       "  1647.88,842.493 1648.17,1007.12 1648.46,848.843 1648.75,848.843 1649.04,822.667 1649.32,771.391 1649.61,771.391 1649.9,771.391 1650.19,623.48 1650.48,623.48 \n",
       "  1650.77,623.48 1651.06,671.969 1651.35,671.969 1651.64,513.507 1651.92,513.507 1652.21,647.43 1652.5,647.43 1652.79,647.43 1653.08,647.43 1653.37,647.43 \n",
       "  1653.66,647.43 1653.95,647.43 1654.24,647.43 1654.52,647.43 1654.81,647.43 1655.1,647.43 1655.39,647.43 1655.68,640.263 1655.97,702.556 1656.26,702.556 \n",
       "  1656.55,702.556 1656.84,635.208 1657.13,592.546 1657.41,592.546 1657.7,706.602 1657.99,706.602 1658.28,706.602 1658.57,706.602 1658.86,580.094 1659.15,714.139 \n",
       "  1659.44,714.139 1659.73,714.139 1660.01,714.139 1660.3,714.139 1660.59,714.139 1660.88,714.139 1661.17,714.139 1661.46,714.139 1661.75,714.139 1662.04,714.139 \n",
       "  1662.33,699.817 1662.61,699.817 1662.9,932.456 1663.19,974.174 1663.48,1150.24 1663.77,1150.24 1664.06,1150.24 1664.35,1150.24 1664.64,1150.24 1664.93,1150.24 \n",
       "  1665.22,1150.24 1665.5,1150.24 1665.79,1150.24 1666.08,1150.24 1666.37,1150.24 1666.66,1150.24 1666.95,1150.24 1667.24,1150.24 1667.53,1133.4 1667.82,1133.4 \n",
       "  1668.1,1140.04 1668.39,1068.59 1668.68,1068.59 1668.97,1097.73 1669.26,1097.73 1669.55,1097.73 1669.84,1200.59 1670.13,1200.59 1670.42,1200.59 1670.7,1294.58 \n",
       "  1670.99,1294.58 1671.28,1308.55 1671.57,1308.55 1671.86,1282.64 1672.15,1308.63 1672.44,1308.63 1672.73,1308.63 1673.02,1308.63 1673.31,1323.32 1673.59,1323.32 \n",
       "  1673.88,1356.03 1674.17,1319.67 1674.46,1270.88 1674.75,1212.58 1675.04,1138.95 1675.33,1138.95 1675.62,1138.95 1675.91,1138.95 1676.19,1138.95 1676.48,1102.79 \n",
       "  1676.77,1102.79 1677.06,1102.79 1677.35,1152.42 1677.64,1082.32 1677.93,1082.32 1678.22,950.248 1678.51,1043.85 1678.79,1120.65 1679.08,1120.65 1679.37,1120.65 \n",
       "  1679.66,1108.32 1679.95,1233.98 1680.24,1274.56 1680.53,1274.56 1680.82,1274.56 1681.11,1329.73 1681.4,1329.73 1681.68,1436.48 1681.97,1435.57 1682.26,1434.97 \n",
       "  1682.55,1434.97 1682.84,1445.71 1683.13,1445.71 1683.42,1445.71 1683.71,1440.89 1684,1440.89 1684.28,1445.37 1684.57,1445.37 1684.86,1445.37 1685.15,1445.37 \n",
       "  1685.44,1445.37 1685.73,1445.37 1686.02,1445.37 1686.31,652.172 1686.6,652.172 1686.89,652.172 1687.17,909.214 1687.46,1029.91 1687.75,1088.7 1688.04,1088.7 \n",
       "  1688.33,1088.7 1688.62,1088.7 1688.91,1088.7 1689.2,1098.69 1689.49,1098.69 1689.77,1098.69 1690.06,1050.99 1690.35,1132.5 1690.64,1185.31 1690.93,1185.31 \n",
       "  1691.22,1211.12 1691.51,1288.51 1691.8,1288.51 1692.09,1288.51 1692.37,1321.31 1692.66,1355.64 1692.95,1331.4 1693.24,1307.28 1693.53,1307.28 1693.82,1307.28 \n",
       "  1694.11,1307.28 1694.4,1295.14 1694.69,1295.14 1694.98,1295.14 1695.26,1295.14 1695.55,1366.18 1695.84,1366.18 1696.13,1366.18 1696.42,1393.56 1696.71,1369.81 \n",
       "  1697,1369.81 1697.29,1369.81 1697.58,1369.81 1697.86,1369.81 1698.15,1369.81 1698.44,1380.39 1698.73,1383.11 1699.02,1397.05 1699.31,1411.24 1699.6,1416.18 \n",
       "  1699.89,1421.83 1700.18,1421.83 1700.46,1421.83 1700.75,1421.83 1701.04,1421.83 1701.33,1421.83 1701.62,1421.83 1701.91,1421.83 1702.2,1439.6 1702.49,1439.6 \n",
       "  1702.78,1440.32 1703.07,1440.32 1703.35,1427.01 1703.64,1427.01 1703.93,1427.01 1704.22,1390.27 1704.51,1380.67 1704.8,1373.11 1705.09,1373.11 1705.38,1373.11 \n",
       "  1705.67,1373.11 1705.95,1284.71 1706.24,1284.71 1706.53,1426.64 1706.82,1438.85 1707.11,1438.85 1707.4,1438.85 1707.69,1438.85 1707.98,1438.85 1708.27,1445.45 \n",
       "  1708.55,1296.97 1708.84,1250.64 1709.13,1250.64 1709.42,1250.64 1709.71,1250.64 1710,1250.64 1710.29,1413.43 1710.58,1437.23 1710.87,1411.51 1711.16,1411.51 \n",
       "  1711.44,1411.51 1711.73,1411.51 1712.02,1411.51 1712.31,1411.51 1712.6,1428.11 1712.89,1392.41 1713.18,1438.29 1713.47,1410.02 1713.76,1380.21 1714.04,1380.21 \n",
       "  1714.33,1380.21 1714.62,1393.78 1714.91,1408.31 1715.2,1333.51 1715.49,1302.8 1715.78,1389.49 1716.07,1389.49 1716.36,1356.64 1716.64,1397.21 1716.93,1436.98 \n",
       "  1717.22,1440.75 1717.51,1433.94 1717.8,1411.04 1718.09,1411.04 1718.38,1411.04 1718.67,1411.04 1718.96,1400.14 1719.25,1413.43 1719.53,1438.72 1719.82,1438.72 \n",
       "  1720.11,1438.72 1720.4,1443.77 1720.69,1443.77 1720.98,1443.77 1721.27,1443.77 1721.56,1411.51 1721.85,1411.51 1722.13,1187.47 1722.42,1219.48 1722.71,1219.48 \n",
       "  1723,1219.48 1723.29,1219.48 1723.58,1213.33 1723.87,1213.33 1724.16,1213.33 1724.45,1213.33 1724.74,1331.4 1725.02,1331.4 1725.31,1331.4 1725.6,1331.4 \n",
       "  1725.89,1313.78 1726.18,1313.78 1726.47,1313.78 1726.76,1313.78 1727.05,1313.78 1727.34,1298.54 1727.62,1166.05 1727.91,1372.67 1728.2,1412.59 1728.49,1437.8 \n",
       "  1728.78,1437.8 1729.07,1437.8 1729.36,1437.8 1729.65,1437.8 1729.94,1440.64 1730.22,1442.88 1730.51,1442.88 1730.8,1445.04 1731.09,1445.04 1731.38,1445.04 \n",
       "  1731.67,1442.99 1731.96,1435.73 1732.25,1424.56 1732.54,1424.56 1732.83,1424.56 1733.11,1424.56 1733.4,1431.82 1733.69,1431.82 1733.98,1431.82 1734.27,1431.82 \n",
       "  1734.56,1431.82 1734.85,1431.82 1735.14,1431.82 1735.43,1431.82 1735.71,1440.58 1736,1440.58 1736.29,1440.58 1736.58,1440.58 1736.87,1440.58 1737.16,1440.58 \n",
       "  1737.45,1440.58 1737.74,1397.59 1738.03,1397.59 1738.31,1407.04 1738.6,1407.04 1738.89,1407.04 1739.18,1419.03 1739.47,1407.99 1739.76,1407.99 1740.05,1393.23 \n",
       "  1740.34,1409.24 1740.63,1419.99 1740.92,1419.99 1741.2,1419.99 1741.49,1419.99 1741.78,1419.99 1742.07,1382.16 1742.36,1382.16 1742.65,1391.98 1742.94,1402.63 \n",
       "  1743.23,1353.66 1743.52,1353.66 1743.8,1353.66 1744.09,1319.8 1744.38,1343.72 1744.67,1284.85 1744.96,1284.85 1745.25,1338.04 1745.54,1369.24 1745.83,1369.24 \n",
       "  1746.12,1369.24 1746.4,1369.24 1746.69,1415.14 1746.98,1401.69 1747.27,1401.69 1747.56,1401.69 1747.85,1401.69 1748.14,1401.69 1748.43,1383.33 1748.72,1383.33 \n",
       "  1749.01,1383.33 1749.29,1383.33 1749.58,1383.33 1749.87,1391.97 1750.16,1391.97 1750.45,1421.32 1750.74,1421.32 1751.03,1424.87 1751.32,1424.87 1751.61,1424.87 \n",
       "  1751.89,1417.28 1752.18,1435.91 1752.47,1437.7 1752.76,1445.54 1753.05,1445.54 1753.34,1435.5 1753.63,1435.5 1753.92,1437.75 1754.21,1437.75 1754.49,1439.98 \n",
       "  1754.78,1439.98 1755.07,1439.98 1755.36,1442.67 1755.65,1442.67 1755.94,1445.7 1756.23,1444.44 1756.52,1443.64 1756.81,1365.9 1757.1,1365.9 1757.38,1365.9 \n",
       "  1757.67,1365.9 1757.96,1333.24 1758.25,1333.24 1758.54,1322.66 1758.83,1322.66 1759.12,1322.66 1759.41,1406.86 1759.7,1406.86 1759.98,1406.86 1760.27,1406.86 \n",
       "  1760.56,1406.86 1760.85,1406.86 1761.14,1406.86 1761.43,1406.86 1761.72,1406.86 1762.01,1406.86 1762.3,1372.53 1762.59,1346.16 1762.87,1346.16 1763.16,1346.16 \n",
       "  1763.45,1346.16 1763.74,1346.16 1764.03,1346.16 1764.32,1346.16 1764.61,1346.16 1764.9,1432.04 1765.19,1423.92 1765.47,1345.67 1765.76,1345.67 1766.05,1345.67 \n",
       "  1766.34,1380.67 1766.63,1380.67 1766.92,1362.3 1767.21,1405.71 1767.5,1402.27 1767.79,1369.85 1768.07,1378.43 1768.36,1378.43 1768.65,1378.43 1768.94,1378.43 \n",
       "  1769.23,1382.2 1769.52,1441.87 1769.81,1441.87 1770.1,1441.87 1770.39,1441.87 1770.68,1441.87 1770.96,1273.56 1771.25,1273.56 1771.54,1273.56 1771.83,1273.56 \n",
       "  1772.12,1248.43 1772.41,1248.43 1772.7,1248.43 1772.99,1248.43 1773.28,1248.43 1773.56,1357.77 1773.85,1357.77 1774.14,1323.43 1774.43,1323.43 1774.72,1293.93 \n",
       "  1775.01,1293.93 1775.3,1293.93 1775.59,1293.93 1775.88,1345.08 1776.16,1345.08 1776.45,1360.12 1776.74,1399.09 1777.03,1399.09 1777.32,1399.09 1777.61,1399.09 \n",
       "  1777.9,1399.09 1778.19,1407.19 1778.48,1416.52 1778.77,1416.52 1779.05,1440.02 1779.34,1444.12 1779.63,1444.12 1779.92,1444.12 1780.21,1444.12 1780.5,1444.99 \n",
       "  1780.79,1444.99 1781.08,1444.99 1781.37,1444.99 1781.65,1444.99 1781.94,1437.19 1782.23,1437.19 1782.52,1405.55 1782.81,1405.55 1783.1,1409.59 1783.39,1409.59 \n",
       "  1783.68,1409.59 1783.97,1409.59 1784.25,1409.59 1784.54,1377.69 1784.83,1377.69 1785.12,1383.6 1785.41,1383.6 1785.7,1383.6 1785.99,1383.6 1786.28,1383.6 \n",
       "  1786.57,1383.6 1786.86,1424.28 1787.14,1423.64 1787.43,1423.19 1787.72,1423.19 1788.01,1423.19 1788.3,1423.19 1788.59,1423.19 1788.88,1423.19 1789.17,1433.12 \n",
       "  1789.46,1433.12 1789.74,1433.12 1790.03,1440.48 1790.32,1440.48 1790.61,1445.57 1790.9,1445.23 1791.19,1441.01 1791.48,1441.01 1791.77,1441.01 1792.06,1441.01 \n",
       "  1792.34,1441.01 1792.63,1441.01 1792.92,1441.01 1793.21,1438.05 1793.5,1438.05 1793.79,1438.05 1794.08,1438.05 1794.37,1438.05 1794.66,1438.05 1794.95,1438.05 \n",
       "  1795.23,1434.54 1795.52,1434.54 1795.81,1434.54 1796.1,1434.54 1796.39,1434.54 1796.68,1434.54 1796.97,1434.54 1797.26,1411.71 1797.55,1411.71 1797.83,1437 \n",
       "  1798.12,1437 1798.41,1437 1798.7,1441.97 1798.99,1441.97 1799.28,1441.97 1799.57,1441.97 1799.86,1441.97 1800.15,1441.97 1800.44,1441.97 1800.72,1445.07 \n",
       "  1801.01,1445.07 1801.3,1376.37 1801.59,1376.37 1801.88,1376.37 1802.17,1376.37 1802.46,1376.37 1802.75,1376.37 1803.04,1376.37 1803.32,1376.37 1803.61,1376.37 \n",
       "  1803.9,1376.37 1804.19,1376.37 1804.48,1376.37 1804.77,1376.37 1805.06,1376.37 1805.35,1393.88 1805.64,1393.88 1805.92,1393.88 1806.21,1393.88 1806.5,1393.88 \n",
       "  1806.79,1393.88 1807.08,1442.81 1807.37,1442.81 1807.66,1442.81 1807.95,1442.81 1808.24,1442.81 1808.53,1442.81 1808.81,1416.37 1809.1,1432.85 1809.39,1432.85 \n",
       "  1809.68,1432.85 1809.97,1432.85 1810.26,1301.7 1810.55,1330.58 1810.84,1330.58 1811.13,1341.34 1811.41,1341.34 1811.7,1341.34 1811.99,1341.34 1812.28,1341.34 \n",
       "  1812.57,1341.34 1812.86,1341.34 1813.15,1341.34 1813.44,1341.34 1813.73,1341.34 1814.01,1341.34 1814.3,1363.73 1814.59,1363.73 1814.88,1363.73 1815.17,1355.59 \n",
       "  1815.46,919.694 1815.75,919.694 1816.04,919.694 1816.33,919.694 1816.62,919.694 1816.9,919.694 1817.19,919.694 1817.48,919.694 1817.77,919.694 1818.06,919.694 \n",
       "  1818.35,919.694 1818.64,901.784 1818.93,1392.23 1819.22,1391.46 1819.5,1393.71 1819.79,1396.76 1820.08,1396.76 1820.37,1396.76 1820.66,1396.76 1820.95,1392.11 \n",
       "  1821.24,1392.11 1821.53,1412.8 1821.82,1417.29 1822.1,1417.29 1822.39,1417.29 1822.68,1417.29 1822.97,1417.29 1823.26,1417.29 1823.55,1441.67 1823.84,1441.67 \n",
       "  1824.13,1441.67 1824.42,1441.67 1824.71,1441.67 1824.99,1441.67 1825.28,1441.67 1825.57,1441.67 1825.86,1441.67 1826.15,1441.67 1826.44,1406.08 1826.73,1406.08 \n",
       "  1827.02,1409.89 1827.31,1409.89 1827.59,1409.89 1827.88,1409.89 1828.17,1409.89 1828.46,1412.09 1828.75,1388.04 1829.04,1388.04 1829.33,1388.04 1829.62,1408.67 \n",
       "  1829.91,1426.15 1830.19,1417.31 1830.48,1405.04 1830.77,1405.04 1831.06,1421.95 1831.35,1419.67 1831.64,1424.96 1831.93,1436.12 1832.22,1434.32 1832.51,1416.59 \n",
       "  1832.8,1413.32 1833.08,1413.32 1833.37,1413.32 1833.66,1413.32 1833.95,1413.32 1834.24,1413.32 1834.53,1413.32 1834.82,1431.81 1835.11,1431.81 1835.4,1431.81 \n",
       "  1835.68,1422.23 1835.97,1422.23 1836.26,1427.26 1836.55,1427.26 1836.84,1427.26 1837.13,1427.26 1837.42,1429.94 1837.71,1422.56 1838,1445.72 1838.28,1444.52 \n",
       "  1838.57,1441.1 1838.86,1441.1 1839.15,1441.1 1839.44,1441.1 1839.73,1408.9 1840.02,1438.86 1840.31,1438.86 1840.6,1416.49 1840.89,1354.74 1841.17,1363.92 \n",
       "  1841.46,1352.08 1841.75,1343.82 1842.04,1343.82 1842.33,1343.82 1842.62,1343.82 1842.91,1313.56 1843.2,1292.02 1843.49,1282.34 1843.77,1282.34 1844.06,1304.9 \n",
       "  1844.35,1304.9 1844.64,1356.97 1844.93,1356.97 1845.22,1376.97 1845.51,1376.97 1845.8,1376.97 1846.09,1376.97 1846.38,1376.97 1846.66,1376.97 1846.95,1376.97 \n",
       "  1847.24,1382.13 1847.53,1388.8 1847.82,1119.51 1848.11,1119.51 1848.4,1197.37 1848.69,1275.64 1848.98,1275.64 1849.26,1275.64 1849.55,1275.64 1849.84,1275.64 \n",
       "  1850.13,1275.64 1850.42,1275.64 1850.71,1275.64 1851,1275.64 1851.29,1275.64 1851.58,1244.94 1851.86,1275.24 1852.15,1259.34 1852.44,1259.34 1852.73,1250.68 \n",
       "  1853.02,1250.68 1853.31,1250.68 1853.6,1240.19 1853.89,1232.88 1854.18,1232.88 1854.47,1232.88 1854.75,1232.88 1855.04,1232.88 1855.33,1222.21 1855.62,1222.21 \n",
       "  1855.91,1213.02 1856.2,1222.7 1856.49,1222.7 1856.78,1222.7 1857.07,1135.95 1857.35,1135.95 1857.64,1135.95 1857.93,1135.95 1858.22,1035.59 1858.51,1070.24 \n",
       "  1858.8,1109.19 1859.09,1109.19 1859.38,1109.19 1859.67,1109.19 1859.95,1027.76 1860.24,1027.76 1860.53,1027.76 1860.82,1027.76 1861.11,1027.76 1861.4,1027.76 \n",
       "  1861.69,1058.85 1861.98,1058.85 1862.27,1058.85 1862.56,1058.85 1862.84,1233.71 1863.13,1233.71 1863.42,1233.71 1863.71,1317.26 1864,1317.26 1864.29,1317.26 \n",
       "  1864.58,1317.26 1864.87,1299.27 1865.16,1299.27 1865.44,1284.06 1865.73,1284.06 1866.02,1253.29 1866.31,1255.23 1866.6,1197.99 1866.89,1197.99 1867.18,1197.99 \n",
       "  1867.47,1179.26 1867.76,1179.26 1868.04,1179.26 1868.33,1179.26 1868.62,1179.26 1868.91,1233.08 1869.2,1233.08 1869.49,1233.08 1869.78,1445.63 1870.07,1445.63 \n",
       "  1870.36,1444.96 1870.65,1444.96 1870.93,1444.96 1871.22,1444.96 1871.51,1434.68 1871.8,1445.68 1872.09,1444.6 1872.38,1444.6 1872.67,1443.85 1872.96,1443.01 \n",
       "  1873.25,1445.49 1873.53,1445.66 1873.82,1445.66 1874.11,1445.66 1874.4,1445.66 1874.69,1445.4 1874.98,1445.4 1875.27,1445.4 1875.56,1445.4 1875.85,1445.4 \n",
       "  1876.13,1445.4 1876.42,1443.42 1876.71,1443.42 1877,1443.42 1877.29,1423.27 1877.58,1423.27 1877.87,1423.27 1878.16,1423.27 1878.45,1371.12 1878.74,1256.01 \n",
       "  1879.02,1256.01 1879.31,1256.01 1879.6,1256.01 1879.89,1256.01 1880.18,1256.01 1880.47,1256.01 1880.76,1256.01 1881.05,1282.18 1881.34,1282.18 1881.62,1133.5 \n",
       "  1881.91,1115.13 1882.2,1115.13 1882.49,1151.12 1882.78,1026.41 1883.07,1026.41 1883.36,1026.41 1883.65,1027.14 1883.94,1041.29 1884.23,1041.29 1884.51,1041.29 \n",
       "  1884.8,996.12 1885.09,1127.33 1885.38,1113.98 1885.67,1113.98 1885.96,1025.73 1886.25,1025.73 1886.54,1025.73 1886.83,1025.73 1887.11,1025.73 1887.4,1025.73 \n",
       "  1887.69,1025.73 1887.98,1025.73 1888.27,1059.09 1888.56,1106.76 1888.85,1106.76 1889.14,1143.55 1889.43,1143.55 1889.71,1143.55 1890,1143.55 1890.29,1143.55 \n",
       "  1890.58,1143.58 1890.87,1143.58 1891.16,1146.33 1891.45,1149.16 1891.74,1303.17 1892.03,1303.17 1892.32,1300.73 1892.6,1300.73 1892.89,1300.73 1893.18,1293.66 \n",
       "  1893.47,1293.66 1893.76,1293.66 1894.05,1293.66 1894.34,1293.66 1894.63,1293.66 1894.92,1293.66 1895.2,1241.52 1895.49,1201.35 1895.78,1201.35 1896.07,1201.35 \n",
       "  1896.36,1201.35 1896.65,1201.35 1896.94,1195.29 1897.23,1188.54 1897.52,1220.97 1897.8,1220.97 1898.09,1220.97 1898.38,1299 1898.67,1272.3 1898.96,1272.3 \n",
       "  1899.25,1236.02 1899.54,1236.02 1899.83,1236.02 1900.12,1236.02 1900.41,1319.62 1900.69,1338.79 1900.98,1353.12 1901.27,1353.12 1901.56,1353.12 1901.85,1353.12 \n",
       "  1902.14,1350.87 1902.43,1417.5 1902.72,1406.98 1903.01,1396.52 1903.29,1396.52 1903.58,1396.52 1903.87,1396.52 1904.16,1396.52 1904.45,1396.52 1904.74,1396.52 \n",
       "  1905.03,1396.52 1905.32,1386.54 1905.61,1284.08 1905.89,1284.08 1906.18,1284.08 1906.47,1440.69 1906.76,1440.69 1907.05,1440.69 1907.34,1440.69 1907.63,1440.69 \n",
       "  1907.92,1440.69 1908.21,1440.69 1908.5,1440.69 1908.78,1440.69 1909.07,1440.69 1909.36,1443.42 1909.65,1443.42 1909.94,1443.42 1910.23,1443.42 1910.52,1443.42 \n",
       "  1910.81,1443.42 1911.1,1443.42 1911.38,1444.09 1911.67,1444.09 1911.96,1443.6 1912.25,1443.6 1912.54,1445.55 1912.83,1445.55 1913.12,1399.45 1913.41,1399.45 \n",
       "  1913.7,1399.45 1913.98,1399.45 1914.27,1406.48 1914.56,1406.48 1914.85,1416 1915.14,1416 1915.43,1420.48 1915.72,1420.48 1916.01,1420.48 1916.3,1422.23 \n",
       "  1916.59,1422.23 1916.87,1422.23 1917.16,1424.11 1917.45,1431.3 1917.74,1431.3 1918.03,1431.3 1918.32,1431.3 1918.61,1426.04 1918.9,1426.04 1919.19,1352.16 \n",
       "  1919.47,1415.56 1919.76,1444.18 1920.05,1444.18 1920.34,1444.18 1920.63,1444.08 1920.92,1441.31 1921.21,1441.31 1921.5,1439.47 1921.79,1437.73 1922.08,1414.27 \n",
       "  1922.36,1414.27 1922.65,1414.27 1922.94,1367.23 1923.23,1370.53 1923.52,1382.51 1923.81,1382.51 1924.1,1382.51 1924.39,1382.51 1924.68,1382.51 1924.96,1330.81 \n",
       "  1925.25,1330.81 1925.54,1367.09 1925.83,1408.6 1926.12,1430.57 1926.41,1430.57 1926.7,1400.72 1926.99,1390.84 1927.28,1381.09 1927.56,1381.09 1927.85,1381.09 \n",
       "  1928.14,1378.35 1928.43,1378.35 1928.72,1378.35 1929.01,1378.35 1929.3,1381.07 1929.59,1381.07 1929.88,1425.1 1930.17,1437.83 1930.45,1444.82 1930.74,1444.82 \n",
       "  1931.03,1444.82 1931.32,1444.82 1931.61,1444.82 1931.9,1444.82 1932.19,1444.82 1932.48,1444.82 1932.77,1413.71 1933.05,1388.53 1933.34,1388.53 1933.63,1388.53 \n",
       "  1933.92,1388.53 1934.21,1388.53 1934.5,1388.53 1934.79,1396.12 1935.08,1396.12 1935.37,1396.12 1935.65,1396.12 1935.94,1396.12 1936.23,1396.12 1936.52,1387.04 \n",
       "  1936.81,1387.04 1937.1,1387.04 1937.39,1387.04 1937.68,1387.04 1937.97,1387.04 1938.26,1387.04 1938.54,1387.04 1938.83,804.018 1939.12,779.272 1939.41,779.272 \n",
       "  1939.7,712.369 1939.99,712.369 1940.28,712.369 1940.57,683.082 1940.86,767.214 1941.14,806.513 1941.43,910.717 1941.72,910.717 1942.01,928.717 1942.3,1021.6 \n",
       "  1942.59,1021.6 1942.88,1021.6 1943.17,1058.04 1943.46,1058.04 1943.74,1058.04 1944.03,1142.51 1944.32,1142.51 1944.61,1142.51 1944.9,1142.51 1945.19,1142.51 \n",
       "  1945.48,1142.51 1945.77,1142.51 1946.06,1142.51 1946.35,1121.99 1946.63,1121.99 1946.92,1126.61 1947.21,1125.34 1947.5,1134.33 1947.79,1134.33 1948.08,1134.33 \n",
       "  1948.37,1306.79 1948.66,1306.79 1948.95,1353.53 1949.23,1353.53 1949.52,1353.53 1949.81,1337.71 1950.1,1445.68 1950.39,1445.68 1950.68,1445.57 1950.97,1331.02 \n",
       "  1951.26,1331.02 1951.55,1331.02 1951.83,1331.02 1952.12,1331.02 1952.41,1331.02 1952.7,1331.02 1952.99,1331.02 1953.28,1331.02 1953.57,1349.64 1953.86,1349.64 \n",
       "  1954.15,1342.57 1954.44,1412.39 1954.72,1412.39 1955.01,1412.39 1955.3,1426.44 1955.59,1397.73 1955.88,1361.73 1956.17,1356.12 1956.46,1355.75 1956.75,1387.99 \n",
       "  1957.04,1387.99 1957.32,1427.38 1957.61,1427.38 1957.9,1432.77 1958.19,1432.77 1958.48,1432.77 1958.77,1432.77 1959.06,1432.77 1959.35,1432.77 1959.64,1432.77 \n",
       "  1959.93,1432.77 1960.21,1445.12 1960.5,1445.12 1960.79,1441.11 1961.08,1441.11 1961.37,1410.24 1961.66,1343.58 1961.95,1343.58 1962.24,1343.58 1962.53,1343.58 \n",
       "  1962.81,1343.58 1963.1,1343.58 1963.39,1343.58 1963.68,1343.58 1963.97,1343.58 1964.26,1343.58 1964.55,1343.58 1964.84,1343.58 1965.13,1343.58 1965.41,1343.58 \n",
       "  1965.7,1351.16 1965.99,1403.76 1966.28,1403.76 1966.57,1403.76 1966.86,1403.76 1967.15,1410.56 1967.44,1410.56 1967.73,1410.56 1968.02,1410.56 1968.3,1410.56 \n",
       "  1968.59,1410.56 1968.88,1410.56 1969.17,1410.56 1969.46,1407.18 1969.75,1407.18 1970.04,1407.18 1970.33,1388.75 1970.62,1388.75 1970.9,1388.75 1971.19,1405.26 \n",
       "  1971.48,1405.26 1971.77,1405.26 1972.06,1405.26 1972.35,1399.07 1972.64,1399.07 1972.93,1399.07 1973.22,1399.07 1973.5,1443.49 1973.79,1442.36 1974.08,1442.36 \n",
       "  1974.37,1442.36 1974.66,1442.36 1974.95,1442.36 1975.24,1444.92 1975.53,1440.9 1975.82,1436.35 1976.11,1436.35 1976.39,1431.36 1976.68,1431.36 1976.97,1431.36 \n",
       "  1977.26,1445.62 1977.55,1445.62 1977.84,1435.51 1978.13,1435.51 1978.42,1435.51 1978.71,1435.51 1978.99,1435.51 1979.28,1444.85 1979.57,1435.51 1979.86,1435.51 \n",
       "  1980.15,1435.51 1980.44,1435.51 1980.73,1442.8 1981.02,1442.8 1981.31,1444.66 1981.59,1444.66 1981.88,1444.19 1982.17,1434.63 1982.46,1417.22 1982.75,1417.22 \n",
       "  1983.04,1417.22 1983.33,1423.15 1983.62,1403.99 1983.91,1403.99 1984.2,1403.99 1984.48,1413.3 1984.77,1413.3 1985.06,1432.63 1985.35,1432.63 1985.64,1398.88 \n",
       "  1985.93,1398.88 1986.22,1398.88 1986.51,1398.88 1986.8,1387.18 1987.08,1387.18 1987.37,1344.74 1987.66,1344.74 1987.95,1303.88 1988.24,1314.09 1988.53,1314.09 \n",
       "  1988.82,1314.09 1989.11,1433.54 1989.4,1405.68 1989.68,1304.03 1989.97,1304.03 1990.26,1304.03 1990.55,1304.03 1990.84,1304.03 1991.13,1304.03 1991.42,1304.03 \n",
       "  1991.71,1292.59 1992,1304.03 1992.29,1304.03 1992.57,1252.84 1992.86,1252.84 1993.15,1239.7 1993.44,1140.25 1993.73,1191.61 1994.02,1191.61 1994.31,1385.09 \n",
       "  1994.6,1385.09 1994.89,1385.09 1995.17,1385.09 1995.46,1385.09 1995.75,1329.99 1996.04,1329.99 1996.33,1329.99 1996.62,1329.99 1996.91,1329.99 1997.2,1329.99 \n",
       "  1997.49,1329.99 1997.78,1329.99 1998.06,1329.99 1998.35,1326.41 1998.64,1326.41 1998.93,1326.41 1999.22,1326.41 1999.51,1372.92 1999.8,1372.92 2000.09,1394.49 \n",
       "  2000.38,1394.49 2000.66,1411.89 2000.95,1411.89 2001.24,1442.23 2001.53,1442.23 2001.82,1442.23 2002.11,1442.23 2002.4,1442.23 2002.69,1442.23 2002.98,1442.23 \n",
       "  2003.26,1442.23 2003.55,1442.23 2003.84,1439.8 2004.13,1442.23 2004.42,1442.23 2004.71,1442.23 2005,1442.23 2005.29,1442.23 2005.58,1440.78 2005.87,1440.78 \n",
       "  2006.15,1440.78 2006.44,1439.27 2006.73,1444.18 2007.02,1445.71 2007.31,1445.71 2007.6,1445.71 2007.89,1445.71 2008.18,1445.71 2008.47,1445.71 2008.75,1424.4 \n",
       "  2009.04,1445.7 2009.33,1445.7 2009.62,1445.7 2009.91,1445.7 2010.2,1432.41 2010.49,1432.41 2010.78,1419.25 2011.07,1419.25 2011.35,1390.8 2011.64,1380.39 \n",
       "  2011.93,1372.06 2012.22,1440.63 2012.51,1440.63 2012.8,1440.63 2013.09,1440.63 2013.38,1440.63 2013.67,1440.63 2013.96,1440.63 2014.24,1440.63 2014.53,1440.63 \n",
       "  2014.82,1444.42 2015.11,1416.89 2015.4,1416.89 2015.69,1434.41 2015.98,1434.41 2016.27,1422.72 2016.56,1422.72 2016.84,1422.72 2017.13,1437.83 2017.42,1437.83 \n",
       "  2017.71,1437.83 2018,1437.83 2018.29,1437.83 2018.58,1412.13 2018.87,1412.13 2019.16,1062.85 2019.44,1062.85 2019.73,1055.53 2020.02,1055.53 2020.31,1085.4 \n",
       "  2020.6,1031.01 2020.89,1252.05 2021.18,1276.81 2021.47,1308.72 2021.76,1392.17 2022.05,1392.17 2022.33,1392.17 2022.62,1392.17 2022.91,1392.17 2023.2,1392.17 \n",
       "  2023.49,1429.53 2023.78,1429.53 2024.07,1429.53 2024.36,1429.53 2024.65,1429.53 2024.93,1429.53 2025.22,1429.53 2025.51,1429.53 2025.8,1429.53 2026.09,1429.53 \n",
       "  2026.38,1442.43 2026.67,1442.43 2026.96,1442.43 2027.25,1442.43 2027.53,1443.23 2027.82,1443.23 2028.11,1442.26 2028.4,1442.26 2028.69,1442.26 2028.98,1442.26 \n",
       "  2029.27,1440.19 2029.56,1440.19 2029.85,1440.19 2030.14,1420.21 2030.42,1420.21 2030.71,1420.21 2031,1425.52 2031.29,1425.52 2031.58,1425.52 2031.87,1425.52 \n",
       "  2032.16,1425.52 2032.45,1425.52 2032.74,1442.22 2033.02,1442.22 2033.31,1445.4 2033.6,1445.4 2033.89,1327.97 2034.18,1327.97 2034.47,1327.97 2034.76,1327.97 \n",
       "  2035.05,1327.97 2035.34,1355.76 2035.63,1355.76 2035.91,1355.76 2036.2,1355.76 2036.49,1355.76 2036.78,1355.76 2037.07,1415.28 2037.36,1415.28 2037.65,1420.97 \n",
       "  2037.94,1441.1 2038.23,1441.1 2038.51,1441.1 2038.8,1441.1 2039.09,1441.1 2039.38,1434.98 2039.67,1434.98 2039.96,1434.98 2040.25,1434.98 2040.54,1426.34 \n",
       "  2040.83,1426.34 2041.11,1416.96 2041.4,1416.96 2041.69,1416.96 2041.98,1416.96 2042.27,1416.96 2042.56,1416.96 2042.85,1416.96 2043.14,1416.96 2043.43,1416.96 \n",
       "  2043.72,1416.96 2044,1416.96 2044.29,1416.96 2044.58,1442.73 2044.87,1442.73 2045.16,1442.73 2045.45,1442.73 2045.74,1389.62 2046.03,1389.62 2046.32,1399 \n",
       "  2046.6,1399 2046.89,1429.17 2047.18,1429.17 2047.47,1429.17 2047.76,1429.17 2048.05,1429.17 2048.34,1429.17 2048.63,1423.87 2048.92,1389.46 2049.2,1389.46 \n",
       "  2049.49,1398.14 2049.78,1398.14 2050.07,1398.15 2050.36,1398.15 2050.65,1398.15 2050.94,1398.15 2051.23,1398.15 2051.52,1425.21 2051.81,1425.21 2052.09,1425.21 \n",
       "  2052.38,1425.21 2052.67,1425.21 2052.96,1425.21 2053.25,1425.21 2053.54,1425.21 2053.83,1343.43 2054.12,1343.43 2054.41,1343.43 2054.69,1343.43 2054.98,1343.43 \n",
       "  2055.27,1343.43 2055.56,1284.99 2055.85,1284.99 2056.14,1284.99 2056.43,1284.99 2056.72,1284.99 2057.01,1284.99 2057.29,1284.99 2057.58,1284.99 2057.87,1284.99 \n",
       "  2058.16,1391.11 2058.45,1391.11 2058.74,1391.11 2059.03,1391.11 2059.32,1391.11 2059.61,1391.11 2059.9,1391.11 2060.18,1391.11 2060.47,1329.49 2060.76,1329.49 \n",
       "  2061.05,1287.42 2061.34,1287.42 2061.63,1287.42 2061.92,1287.42 2062.21,1287.42 2062.5,1287.42 2062.78,1287.42 2063.07,1303.18 2063.36,1125.13 2063.65,1125.13 \n",
       "  2063.94,1125.13 2064.23,1152.24 2064.52,1207.76 2064.81,1207.76 2065.1,1207.76 2065.38,1264.03 2065.67,1327.91 2065.96,1344.08 2066.25,1350.45 2066.54,1360.26 \n",
       "  2066.83,1360.26 2067.12,1360.26 2067.41,1360.26 2067.7,1390.72 2067.99,1382.08 2068.27,1382.08 2068.56,1398.54 2068.85,1398.54 2069.14,1398.54 2069.43,1439.34 \n",
       "  2069.72,1439.34 2070.01,1442.21 2070.3,1442.21 2070.59,1445.06 2070.87,1445.06 2071.16,1434.21 2071.45,1434.21 2071.74,1434.21 2072.03,1142.94 2072.32,1115.63 \n",
       "  2072.61,1115.63 2072.9,1115.63 2073.19,1115.63 2073.48,1115.63 2073.76,1022.92 2074.05,1054.22 2074.34,1089.57 2074.63,1251.04 2074.92,1251.04 2075.21,1251.04 \n",
       "  2075.5,1220.94 2075.79,1251.04 2076.08,1220.94 2076.36,1405.35 2076.65,1405.35 2076.94,1405.35 2077.23,1405.35 2077.52,1401.08 2077.81,1404.24 2078.1,1349.25 \n",
       "  2078.39,1365.7 2078.68,1258.94 2078.96,1258.94 2079.25,1369.59 2079.54,1369.59 2079.83,1369.59 2080.12,1369.59 2080.41,1369.59 2080.7,1369.59 2080.99,1369.59 \n",
       "  2081.28,1369.59 2081.57,1141.11 2081.85,1141.11 2082.14,1124.69 2082.43,1124.69 2082.72,1124.69 2083.01,1187.98 2083.3,1187.98 2083.59,1187.98 2083.88,1187.98 \n",
       "  2084.17,1187.98 2084.45,1187.98 2084.74,1264.05 2085.03,1264.05 2085.32,1321.42 2085.61,1345.7 2085.9,1345.7 2086.19,1345.7 2086.48,1345.7 2086.77,1334.5 \n",
       "  2087.05,1334.5 2087.34,1325.32 2087.63,1337.44 2087.92,1334.04 2088.21,1315.38 2088.5,1315.38 2088.79,1315.38 2089.08,1320.53 2089.37,1320.53 2089.66,1320.53 \n",
       "  2089.94,1308.54 2090.23,1306.79 2090.52,1306.27 2090.81,1306.27 2091.1,1301.44 2091.39,1299.12 2091.68,1299.12 2091.97,1299.12 2092.26,1299.12 2092.54,1323.52 \n",
       "  2092.83,1341.42 2093.12,1361.77 2093.41,1361.77 2093.7,1361.77 2093.99,1361.77 2094.28,1361.77 2094.57,1370.36 2094.86,1370.36 2095.14,1370.36 2095.43,1303.44 \n",
       "  2095.72,1303.44 2096.01,1275.3 2096.3,1275.3 2096.59,1374.43 2096.88,1374.43 2097.17,1374.43 2097.46,1374.43 2097.75,1371.08 2098.03,1371.08 2098.32,1371.08 \n",
       "  2098.61,1371.08 2098.9,1371.08 2099.19,1371.08 2099.48,1371.08 2099.77,1371.08 2100.06,1362.49 2100.35,1357.03 2100.63,1357.03 2100.92,1357.03 2101.21,1315.66 \n",
       "  2101.5,1315.66 2101.79,1315.66 2102.08,1332.77 2102.37,1332.77 2102.66,1331.69 2102.95,1331.69 2103.23,1331.69 2103.52,1331.69 2103.81,1331.69 2104.1,1331.69 \n",
       "  2104.39,1331.69 2104.68,1343.37 2104.97,1343.37 2105.26,1343.37 2105.55,1343.37 2105.84,1343.37 2106.12,1343.37 2106.41,1343.37 2106.7,1365.01 2106.99,1386.78 \n",
       "  2107.28,1386.78 2107.57,1386.78 2107.86,1386.78 2108.15,1386.78 2108.44,1412.03 2108.72,1412.03 2109.01,1422.41 2109.3,1422.41 2109.59,1429.38 2109.88,1429.38 \n",
       "  2110.17,1429.38 2110.46,1429.38 2110.75,1430.84 2111.04,1433.97 2111.32,1444.52 2111.61,1440.14 2111.9,1440.14 2112.19,1440.14 2112.48,1414.41 2112.77,1414.41 \n",
       "  2113.06,1414.41 2113.35,1396.34 2113.64,1296.89 2113.93,1296.89 2114.21,1296.89 2114.5,1296.89 2114.79,1296.89 2115.08,1296.89 2115.37,1302.8 2115.66,1320.12 \n",
       "  2115.95,1406.99 2116.24,1432.31 2116.53,1431.51 2116.81,1441.76 2117.1,1440.06 2117.39,1440.06 2117.68,1440.06 2117.97,1440.06 2118.26,1431.99 2118.55,1431.99 \n",
       "  2118.84,1431.99 2119.13,1431.99 2119.42,1427.83 2119.7,1427.83 2119.99,1430.23 2120.28,1430.23 2120.57,1430.23 2120.86,1430.23 2121.15,1430.23 2121.44,1432.79 \n",
       "  2121.73,1437.86 2122.02,1415.06 2122.3,1415.06 2122.59,1435.32 2122.88,1435.32 2123.17,1435.32 2123.46,1414.06 2123.75,1414.06 2124.04,1440.49 2124.33,1440.49 \n",
       "  2124.62,1326.2 2124.9,1268.46 2125.19,1106.85 2125.48,1214.49 2125.77,1214.49 2126.06,1214.49 2126.35,1214.49 2126.64,1214.49 2126.93,1254.46 2127.22,1254.46 \n",
       "  2127.51,1235.13 2127.79,1407.59 2128.08,1407.59 2128.37,1373.04 2128.66,1382.4 2128.95,1382.4 2129.24,1383.26 2129.53,1384.65 2129.82,1384.65 2130.11,1384.65 \n",
       "  2130.39,1384.65 2130.68,1384.65 2130.97,1384.65 2131.26,1325.92 2131.55,1325.92 2131.84,1325.92 2132.13,1325.92 2132.42,1439.12 2132.71,1439.12 2132.99,1443.23 \n",
       "  2133.28,1443.23 2133.57,1443.23 2133.86,1443.23 2134.15,1443.23 2134.44,1422.94 2134.73,1444.17 2135.02,1444.17 2135.31,1444.17 2135.6,1444.17 2135.88,1444.17 \n",
       "  2136.17,1444.17 2136.46,1444.17 2136.75,1444.17 2137.04,1443.66 2137.33,1445.68 2137.62,1440.2 2137.91,1434.79 2138.2,1438.24 2138.48,1433.46 2138.77,1438.5 \n",
       "  2139.06,1434.36 2139.35,1445.22 2139.64,1433.25 2139.93,1434.33 2140.22,1434.33 2140.51,1434.33 2140.8,1435.54 2141.08,1435.54 2141.37,1376.7 2141.66,1374.73 \n",
       "  2141.95,1374.73 2142.24,1354.06 2142.53,1336.28 2142.82,1330.4 2143.11,1330.4 2143.4,1330.4 2143.69,1330.4 2143.97,1369.71 2144.26,1337.78 2144.55,1337.78 \n",
       "  2144.84,1377.61 2145.13,1377.61 2145.42,1377.61 2145.71,1343.62 2146,1343.62 2146.29,1343.62 2146.57,1363.81 2146.86,1363.81 2147.15,1363.81 2147.44,1363.81 \n",
       "  2147.73,1363.81 2148.02,1363.81 2148.31,1363.81 2148.6,1363.81 2148.89,1432.23 2149.17,1432.23 2149.46,1432.23 2149.75,1432.23 2150.04,1432.23 2150.33,1426 \n",
       "  2150.62,1444.88 2150.91,1444.88 2151.2,1445.34 2151.49,1444.18 2151.78,1444.18 2152.06,1442.86 2152.35,1445.6 2152.64,1445.6 2152.93,1445.6 2153.22,1445.51 \n",
       "  2153.51,1445.51 2153.8,1435.82 2154.09,1435.82 2154.38,1431.85 2154.66,1434.94 2154.95,1385.44 2155.24,1237.04 2155.53,1415.28 2155.82,1432.77 2156.11,1432.77 \n",
       "  2156.4,1432.77 2156.69,1432.77 2156.98,1432.77 2157.27,1432.77 2157.55,1432.77 2157.84,1436.08 2158.13,1436.08 2158.42,1442.19 2158.71,1442.19 2159,1444.25 \n",
       "  2159.29,1445.37 2159.58,1445.37 2159.87,1445.59 2160.15,1263.43 2160.44,1263.43 2160.73,1209.75 2161.02,1209.75 2161.31,1209.75 2161.6,1209.75 2161.89,1209.75 \n",
       "  2162.18,1209.75 2162.47,1209.75 2162.75,1209.75 2163.04,1194.53 2163.33,1205.26 2163.62,1205.26 2163.91,1205.26 2164.2,1205.26 2164.49,1205.26 2164.78,1205.26 \n",
       "  2165.07,1205.26 2165.36,1205.26 2165.64,1234.78 2165.93,1245.86 2166.22,1245.86 2166.51,1352.21 2166.8,1352.21 2167.09,1352.21 2167.38,1352.21 2167.67,1352.21 \n",
       "  2167.96,1352.21 2168.24,1399.01 2168.53,1399.01 2168.82,1399.01 2169.11,1294.53 2169.4,1248.14 2169.69,1248.14 2169.98,1248.14 2170.27,1212.19 2170.56,1212.19 \n",
       "  2170.84,1210.25 2171.13,1219.47 2171.42,1219.47 2171.71,1219.47 2172,1260.12 2172.29,1260.12 2172.58,1306.83 2172.87,1289.33 2173.16,1277.41 2173.45,1277.41 \n",
       "  2173.73,1277.41 2174.02,1277.41 2174.31,1273.39 2174.6,1222.69 2174.89,1354.56 2175.18,1354.56 2175.47,1424.89 2175.76,1424.89 2176.05,1424.89 2176.33,1424.89 \n",
       "  2176.62,1434.86 2176.91,1443.99 2177.2,1445.29 2177.49,1445.68 2177.78,1445.68 2178.07,1445.68 2178.36,1445.65 2178.65,1445.65 2178.93,1445.35 2179.22,1445.35 \n",
       "  2179.51,1443.21 2179.8,1407.34 2180.09,1416.42 2180.38,1409.22 2180.67,1429.47 2180.96,1429.47 2181.25,1429.47 2181.54,1429.87 2181.82,1429.87 2182.11,1434.97 \n",
       "  2182.4,1444.88 2182.69,1445.71 2182.98,1429.39 2183.27,1430.47 2183.56,1430.47 2183.85,1435.86 2184.14,1435.86 2184.42,1435.86 2184.71,1419.35 2185,1419.35 \n",
       "  2185.29,1445.71 2185.58,1445.71 2185.87,1445.71 2186.16,1436.85 2186.45,1359.6 2186.74,1359.6 2187.02,1402.65 2187.31,1402.65 2187.6,1420.45 2187.89,1420.45 \n",
       "  2188.18,1434.75 2188.47,1434.75 2188.76,1410.95 2189.05,1410.95 2189.34,1410.95 2189.63,1410.95 2189.91,1410.95 2190.2,1414.82 2190.49,1414.82 2190.78,1445.7 \n",
       "  2191.07,1445.7 2191.36,1445.7 2191.65,1445.7 2191.94,1440.81 2192.23,1440.81 2192.51,1442.3 2192.8,1442.3 2193.09,1445.04 2193.38,1445.04 2193.67,1445.04 \n",
       "  2193.96,1307.12 2194.25,1304.32 2194.54,1304.32 2194.83,1304.32 2195.12,1302.3 2195.4,1302.3 2195.69,1390.58 2195.98,1438.34 2196.27,1438.34 2196.56,1445.5 \n",
       "  2196.85,1444.47 2197.14,1444.47 2197.43,1444.47 2197.72,1444.47 2198,1444.47 2198.29,1444.47 2198.58,1444.47 2198.87,1444.47 2199.16,1443.18 2199.45,1442.05 \n",
       "  2199.74,1440.79 2200.03,1440.79 2200.32,1440.79 2200.6,1440.79 2200.89,1440.79 2201.18,1440.79 2201.47,1440.79 2201.76,1440.79 2202.05,1440.79 2202.34,1440.79 \n",
       "  2202.63,1440.79 2202.92,1440.79 2203.21,1437.76 2203.49,1437.76 2203.78,1437.76 2204.07,1437.76 2204.36,1431.97 2204.65,1434.85 2204.94,1434.85 2205.23,1434.85 \n",
       "  2205.52,1427.81 2205.81,1427.44 2206.09,1434.35 2206.38,1434.35 2206.67,1434.35 2206.96,1434.35 2207.25,1434.35 2207.54,1444.48 2207.83,1443.41 2208.12,1426.75 \n",
       "  2208.41,1426.75 2208.69,1426.75 2208.98,1426.75 2209.27,1426.75 2209.56,1426.75 2209.85,1426.75 2210.14,1426.75 2210.43,1426.75 2210.72,1426.75 2211.01,1440.02 \n",
       "  2211.3,1411.9 2211.58,1417.23 2211.87,1355.76 2212.16,1355.76 2212.45,1354.86 2212.74,1406.69 2213.03,1406.69 2213.32,1428.52 2213.61,1428.52 2213.9,1428.52 \n",
       "  2214.18,1428.52 2214.47,1411.68 2214.76,1411.68 2215.05,1411.68 2215.34,1411.68 2215.63,1396.39 2215.92,1396.39 2216.21,1396.39 2216.5,1396.39 2216.78,1396.39 \n",
       "  2217.07,1396.39 2217.36,1396.39 2217.65,1396.39 2217.94,1394.32 2218.23,1389.55 2218.52,1389.55 2218.81,1372.56 2219.1,1372.56 2219.39,1372.56 2219.67,1372.56 \n",
       "  2219.96,1385.71 2220.25,1385.71 2220.54,1385.71 2220.83,1385.71 2221.12,1385.71 2221.41,1385.71 2221.7,1385.71 2221.99,1385.71 2222.27,1385.71 2222.56,1385.71 \n",
       "  2222.85,1404.54 2223.14,1404.54 2223.43,1404.54 2223.72,1417.61 2224.01,1428.69 2224.3,1428.69 2224.59,1428.69 2224.87,1428.69 2225.16,1428.69 2225.45,1428.69 \n",
       "  2225.74,1416.61 2226.03,1416.61 2226.32,1416.61 2226.61,1416.61 2226.9,1416.61 2227.19,1428.79 2227.48,1431.23 2227.76,1419.4 2228.05,1418.88 2228.34,1424.43 \n",
       "  2228.63,1424.43 2228.92,1424.43 2229.21,1424.43 2229.5,1424.43 2229.79,1426.46 2230.08,1429.38 2230.36,1429.38 2230.65,1429.38 2230.94,1429.38 2231.23,1429.38 \n",
       "  2231.52,1429.38 2231.81,1429.38 2232.1,1429.38 2232.39,1429.38 2232.68,1424.48 2232.97,1412.79 2233.25,1399.51 2233.54,1399.51 2233.83,1413.56 2234.12,1413.56 \n",
       "  2234.41,1021.52 2234.7,1021.52 2234.99,1021.52 2235.28,1021.52 2235.57,1021.52 2235.85,1021.52 2236.14,1021.52 2236.43,1021.52 2236.72,1021.52 2237.01,1021.52 \n",
       "  2237.3,1021.52 2237.59,1197.72 2237.88,1272.86 2238.17,1223.86 2238.45,1280.88 2238.74,1422.93 2239.03,1424.68 2239.32,1424.68 2239.61,1438.49 2239.9,1436.32 \n",
       "  2240.19,1418.84 2240.48,1418.84 2240.77,1418.84 2241.06,1402.97 2241.34,1389.58 2241.63,1389.58 2241.92,1445.49 2242.21,1383.03 2242.5,1383.03 2242.79,1227.38 \n",
       "  2243.08,1227.38 2243.37,1227.38 2243.66,1227.38 2243.94,1253.78 2244.23,1253.78 2244.52,1166.49 2244.81,1166.49 2245.1,1166.49 2245.39,1199.15 2245.68,1199.15 \n",
       "  2245.97,1199.15 2246.26,1236.88 2246.54,1236.88 2246.83,1251.07 2247.12,1278.38 2247.41,1321.93 2247.7,1321.93 2247.99,1344.82 2248.28,1344.82 2248.57,1344.82 \n",
       "  2248.86,1344.82 2249.15,1344.82 2249.43,1344.82 2249.72,1344.82 2250.01,1364.16 2250.3,1364.16 2250.59,1345.02 2250.88,1345.02 2251.17,1356.72 2251.46,1353.5 \n",
       "  2251.75,1327.69 2252.03,1327.69 2252.32,1380.58 2252.61,1365.47 2252.9,1207.89 2253.19,1207.89 2253.48,1268.79 2253.77,1324.28 2254.06,1324.28 2254.35,1324.28 \n",
       "  2254.63,1328.75 2254.92,1436.76 2255.21,1436.76 2255.5,1436.76 2255.79,1432.67 2256.08,1443.09 2256.37,1443.09 2256.66,1443.09 2256.95,1441.04 2257.24,1438.7 \n",
       "  2257.52,1438.7 2257.81,1438.7 2258.1,1441.99 2258.39,1444.14 2258.68,1444.14 2258.97,1444.14 2259.26,1444.14 2259.55,1444.14 2259.84,1444.14 2260.12,1445.7 \n",
       "  2260.41,1443.45 2260.7,1443.45 2260.99,1440.84 2261.28,1440.84 2261.57,1440.84 2261.86,1390.39 2262.15,1185.08 2262.44,1185.08 2262.72,1185.08 2263.01,1210.85 \n",
       "  2263.3,1210.85 2263.59,1210.85 2263.88,1198.05 2264.17,1235.92 2264.46,1229.1 2264.75,1229.1 2265.04,1235.92 2265.33,1244.88 2265.61,928.679 2265.9,928.679 \n",
       "  2266.19,1070.1 2266.48,998.397 2266.77,998.397 2267.06,998.397 2267.35,1143.84 2267.64,1143.84 2267.93,1157.86 2268.21,1243.4 2268.5,1250.77 2268.79,1314.02 \n",
       "  2269.08,1394.11 2269.37,1394.11 2269.66,1382.17 2269.95,1379.1 2270.24,1387.38 2270.53,1283.8 2270.82,1323.88 2271.1,1065.54 2271.39,1065.54 2271.68,1065.54 \n",
       "  2271.97,1065.54 2272.26,1065.54 2272.55,1065.54 2272.84,1065.54 2273.13,928.872 2273.42,928.872 2273.7,928.872 2273.99,928.872 2274.28,945.591 2274.57,945.591 \n",
       "  2274.86,899.062 2275.15,922.535 2275.44,922.535 2275.73,776.99 2276.02,776.99 2276.3,776.99 2276.59,553.926 2276.88,553.926 2277.17,553.926 2277.46,553.926 \n",
       "  2277.75,553.926 2278.04,553.926 2278.33,573.022 2278.62,573.022 2278.91,401.823 2279.19,540.405 2279.48,595.025 2279.77,501.141 2280.06,501.141 2280.35,87.9763 \n",
       "  2280.64,87.9763 2280.93,815.194 2281.22,891.185 2281.51,856.127 2281.79,929.657 2282.08,929.657 2282.37,929.657 2282.66,964.611 2282.95,964.611 2283.24,949.423 \n",
       "  2283.53,939.382 2283.82,1023.88 2284.11,1130.46 2284.39,1080.17 2284.68,1045.37 2284.97,1134.14 2285.26,1134.14 2285.55,1134.14 2285.84,1134.14 2286.13,1134.14 \n",
       "  2286.42,1134.14 2286.71,1134.14 2287,1171.67 2287.28,1226.75 2287.57,1226.75 2287.86,1200.16 2288.15,1182.38 2288.44,1200.16 2288.73,1182.38 2289.02,1248.12 \n",
       "  2289.31,1248.12 \n",
       "  \"/>\n",
       "<polyline clip-path=\"url(#clip802)\" style=\"stroke:#e26f46; stroke-linecap:round; stroke-linejoin:round; stroke-width:4; stroke-opacity:1; fill:none\" points=\"\n",
       "  174.33,1444.78 174.619,1444.78 174.908,1444.78 175.197,1444.78 175.486,1444.78 175.775,1444.78 176.064,1444.78 176.353,1444.78 176.642,1444.78 176.931,1444.78 \n",
       "  177.219,1444.78 177.508,1444.78 177.797,1444.64 178.086,1444.64 178.375,1425.34 178.664,1425.34 178.953,1425.34 179.242,1425.34 179.531,1425.34 179.82,1425.34 \n",
       "  180.109,1424.59 180.398,1424.59 180.687,1421.31 180.976,1421.31 181.265,1421.31 181.553,1421.31 181.842,1421.31 182.131,1421.31 182.42,1421.31 182.709,1421.31 \n",
       "  182.998,1421.31 183.287,1425.27 183.576,1425.27 183.865,1425.27 184.154,1435.03 184.443,1443.3 184.732,1444.11 185.021,1444.11 185.31,1444.11 185.598,1444.11 \n",
       "  185.887,1444.11 186.176,1444.11 186.465,1444.11 186.754,1445.16 187.043,1445.16 187.332,1436.55 187.621,1436.55 187.91,1436.55 188.199,1436.55 188.488,1432.86 \n",
       "  188.777,1432.86 189.066,1432.86 189.355,1432.86 189.644,1432.86 189.932,1324.55 190.221,1364.24 190.51,1324.55 190.799,1324.55 191.088,1324.55 191.377,1262.25 \n",
       "  191.666,1262.25 191.955,1277.94 192.244,1277.94 192.533,1277.94 192.822,1277.94 193.111,1277.94 193.4,1277.94 193.689,1277.94 193.978,1277.94 194.266,1277.94 \n",
       "  194.555,1277.94 194.844,1196.39 195.133,1196.39 195.422,1225.51 195.711,1225.51 196,1225.51 196.289,1225.51 196.578,1225.51 196.867,1353.77 197.156,1299.06 \n",
       "  197.445,1299.06 197.734,1299.06 198.023,1291.69 198.311,1291.69 198.6,1343.32 198.889,1343.32 199.178,1291.69 199.467,1270.16 199.756,1332.5 200.045,1332.5 \n",
       "  200.334,1320.05 200.623,1444.1 200.912,1444.1 201.201,1444.1 201.49,1398.38 201.779,1392.01 202.068,1392.01 202.357,1392.01 202.645,1392.01 202.934,1392.01 \n",
       "  203.223,1392.01 203.512,1392.01 203.801,1392.01 204.09,1392.01 204.379,1392.01 204.668,1392.01 204.957,1348.71 205.246,1348.71 205.535,1348.71 205.824,1421.25 \n",
       "  206.113,1421.25 206.402,1421.25 206.69,1421.25 206.979,1421.25 207.268,1352.79 207.557,1352.79 207.846,1373.91 208.135,1373.91 208.424,1395.05 208.713,1427.91 \n",
       "  209.002,1427.91 209.291,1442.5 209.58,1442.5 209.869,1427.91 210.158,1444.12 210.447,1444.12 210.736,1444.12 211.024,1444.12 211.313,1444.12 211.602,1444.93 \n",
       "  211.891,1444.93 212.18,1431.58 212.469,1406.43 212.758,1406.43 213.047,1442.39 213.336,1442.39 213.625,1440.11 213.914,1438.54 214.203,1438.54 214.492,1438.54 \n",
       "  214.781,1438.54 215.069,1442.33 215.358,1425.9 215.647,1398.25 215.936,1398.25 216.225,1388.96 216.514,1388.96 216.803,1388.96 217.092,1388.96 217.381,1388.96 \n",
       "  217.67,1388.96 217.959,1388.96 218.248,1388.96 218.537,1388.96 218.826,1388.96 219.115,1414.04 219.403,1414.04 219.692,1414.04 219.981,1414.04 220.27,1414.04 \n",
       "  220.559,1414.04 220.848,1414.04 221.137,1414.04 221.426,1414.04 221.715,1414.04 222.004,1414.04 222.293,1379.48 222.582,1379.48 222.871,1379.48 223.16,1379.48 \n",
       "  223.448,1405.05 223.737,1405.05 224.026,1405.05 224.315,1419.8 224.604,1419.8 224.893,1419.8 225.182,1390.3 225.471,1392.7 225.76,1373.49 226.049,1362.09 \n",
       "  226.338,1369.55 226.627,1369.55 226.916,1369.55 227.205,1369.55 227.494,1445.63 227.782,1445.63 228.071,1445.63 228.36,1445.47 228.649,1445.47 228.938,1445.47 \n",
       "  229.227,1445.47 229.516,1428.64 229.805,1328.34 230.094,1328.34 230.383,1346.48 230.672,1430.05 230.961,1430.05 231.25,1430.05 231.539,1430.05 231.827,1430.05 \n",
       "  232.116,1423.06 232.405,1433.17 232.694,1428.82 232.983,1405.36 233.272,1310.92 233.561,1296.29 233.85,1296.29 234.139,1306.14 234.428,1306.14 234.717,1306.14 \n",
       "  235.006,1306.14 235.295,1306.14 235.584,1306.14 235.873,1306.14 236.161,1306.14 236.45,1306.14 236.739,1306.14 237.028,1306.14 237.317,1306.14 237.606,1306.14 \n",
       "  237.895,1306.14 238.184,1306.14 238.473,1306.14 238.762,1306.14 239.051,1306.14 239.34,1306.14 239.629,1306.14 239.918,1306.14 240.206,1306.14 240.495,1306.14 \n",
       "  240.784,1306.14 241.073,1306.14 241.362,1379.37 241.651,1413.78 241.94,1413.78 242.229,1413.78 242.518,1413.78 242.807,1413.78 243.096,1413.78 243.385,1400.95 \n",
       "  243.674,1400.95 243.963,1406.04 244.252,1406.04 244.54,1406.04 244.829,1406.04 245.118,1406.04 245.407,1406.04 245.696,1406.04 245.985,1406.04 246.274,1369.63 \n",
       "  246.563,1217.68 246.852,1295.71 247.141,1322.54 247.43,1322.54 247.719,1322.54 248.008,1351.07 248.297,1351.07 248.585,1367.64 248.874,1392.69 249.163,1392.69 \n",
       "  249.452,1445.67 249.741,1435 250.03,1441.2 250.319,1443.09 250.608,1443.09 250.897,1443.09 251.186,1443.09 251.475,1443.09 251.764,1443.09 252.053,1443.09 \n",
       "  252.342,1443.09 252.631,1444.1 252.919,1444.1 253.208,1444.1 253.497,1444.1 253.786,1444.1 254.075,1444.1 254.364,1444.1 254.653,1444.1 254.942,1399.05 \n",
       "  255.231,1399.05 255.52,1408.73 255.809,1408.73 256.098,1408.73 256.387,1408.73 256.676,1408.73 256.965,1432.05 257.253,1432.05 257.542,1429.49 257.831,1429.49 \n",
       "  258.12,1429.49 258.409,1429.49 258.698,1429.49 258.987,1429.49 259.276,1426.55 259.565,1426.55 259.854,1417.19 260.143,1443.94 260.432,1443.94 260.721,1437.97 \n",
       "  261.01,1442.03 261.298,1445.5 261.587,1445.5 261.876,1445.72 262.165,1424.99 262.454,1388.37 262.743,1388.37 263.032,1388.37 263.321,1388.37 263.61,1388.37 \n",
       "  263.899,1300.87 264.188,1300.87 264.477,1207.2 264.766,1207.2 265.055,1207.2 265.344,1325.37 265.632,1325.37 265.921,1405.48 266.21,1405.48 266.499,1405.48 \n",
       "  266.788,1405.48 267.077,1405.48 267.366,1405.48 267.655,1372.12 267.944,1372.12 268.233,1372.12 268.522,1372.12 268.811,1372.12 269.1,1391.33 269.389,1391.33 \n",
       "  269.677,1442.83 269.966,1445.58 270.255,1445.58 270.544,1445.58 270.833,1442.83 271.122,1442.83 271.411,1442.83 271.7,1437.33 271.989,1437.33 272.278,1437.33 \n",
       "  272.567,1437.33 272.856,1437.33 273.145,1437.33 273.434,1437.33 273.723,1437.33 274.011,1437.33 274.3,1437.45 274.589,1437.45 274.878,1445.65 275.167,1445.65 \n",
       "  275.456,1439.32 275.745,1439.32 276.034,1439.32 276.323,1442.96 276.612,1442.96 276.901,1442.96 277.19,1442.96 277.479,1442.96 277.768,1442.96 278.056,1442.96 \n",
       "  278.345,1442.96 278.634,1442.96 278.923,1442.96 279.212,1445.66 279.501,1445.66 279.79,1445.66 280.079,1444.78 280.368,1444.78 280.657,1444.78 280.946,1444.78 \n",
       "  281.235,1444.78 281.524,1444.78 281.813,1444.78 282.102,1445.59 282.39,1445.59 282.679,1443.27 282.968,1442.3 283.257,1439.97 283.546,1439.97 283.835,1445.71 \n",
       "  284.124,1445.71 284.413,1445.71 284.702,1445.71 284.991,1445.71 285.28,1445.71 285.569,1445.67 285.858,1445.67 286.147,1438.78 286.435,1438.78 286.724,1438.78 \n",
       "  287.013,1438.78 287.302,1445.69 287.591,1445.69 287.88,1445.69 288.169,1445.69 288.458,1445.69 288.747,1424.91 289.036,1431.61 289.325,1431.61 289.614,1431.61 \n",
       "  289.903,1431.61 290.192,1431.61 290.481,1445.65 290.769,1445.65 291.058,1445.52 291.347,1445.52 291.636,1444.17 291.925,1445.23 292.214,1443.44 292.503,1443.44 \n",
       "  292.792,1437.07 293.081,1437.07 293.37,1431.26 293.659,1431.26 293.948,1440.43 294.237,1440.43 294.526,1413.56 294.814,1413.56 295.103,1413.56 295.392,1413.56 \n",
       "  295.681,1413.56 295.97,1406.6 296.259,1406.6 296.548,1410.47 296.837,1410.47 297.126,1413.26 297.415,1403.31 297.704,1407.85 297.993,1407.85 298.282,1407.85 \n",
       "  298.571,1380.57 298.86,1380.57 299.148,1380.57 299.437,1380.57 299.726,1380.57 300.015,1380.57 300.304,1406.24 300.593,1406.24 300.882,1406.24 301.171,1406.24 \n",
       "  301.46,1407.8 301.749,1407.8 302.038,1407.8 302.327,1410.85 302.616,1410.85 302.905,1332.03 303.193,1332.03 303.482,1393.2 303.771,1393.2 304.06,1393.2 \n",
       "  304.349,1393.2 304.638,1393.2 304.927,1393.2 305.216,1393.2 305.505,1393.2 305.794,1393.2 306.083,1363.29 306.372,1378.34 306.661,1399.14 306.95,1324.06 \n",
       "  307.239,1314.92 307.527,1314.92 307.816,1314.92 308.105,1314.92 308.394,1339.86 308.683,1339.86 308.972,1311.32 309.261,1221.68 309.55,1221.68 309.839,1221.68 \n",
       "  310.128,1221.68 310.417,1221.68 310.706,1221.68 310.995,1114.99 311.284,1308.23 311.573,1308.23 311.861,1308.23 312.15,1308.23 312.439,1308.23 312.728,1308.23 \n",
       "  313.017,1308.23 313.306,1308.23 313.595,1308.23 313.884,1308.23 314.173,1308.23 314.462,1308.23 314.751,1338.63 315.04,1338.63 315.329,1338.63 315.618,1338.63 \n",
       "  315.906,1338.63 316.195,1338.63 316.484,1338.63 316.773,1336.61 317.062,1336.61 317.351,1256.42 317.64,1273.16 317.929,1273.16 318.218,1273.16 318.507,1273.16 \n",
       "  318.796,1403.96 319.085,1383.61 319.374,1398.47 319.663,1398.47 319.952,1398.47 320.24,1425.65 320.529,1411.66 320.818,1425.65 321.107,1425.65 321.396,1425.65 \n",
       "  321.685,1404.99 321.974,1404.99 322.263,1404.99 322.552,1404.99 322.841,1404.99 323.13,1404.99 323.419,1350.69 323.708,1350.69 323.997,1350.69 324.285,1350.69 \n",
       "  324.574,1326.83 324.863,1326.83 325.152,1384.52 325.441,1384.52 325.73,1384.52 326.019,1384.52 326.308,1384.52 326.597,1384.52 326.886,1384.52 327.175,1384.52 \n",
       "  327.464,1384.52 327.753,1341.5 328.042,1316.25 328.331,1384.34 328.619,1424.99 328.908,1424.99 329.197,1424.99 329.486,1424.99 329.775,1424.99 330.064,1431.58 \n",
       "  330.353,1431.58 330.642,1431.58 330.931,1401.79 331.22,1401.79 331.509,1401.79 331.798,1401.79 332.087,1401.79 332.376,1401.79 332.664,1401.79 332.953,1401.79 \n",
       "  333.242,1398.22 333.531,1398.22 333.82,1398.22 334.109,1398.22 334.398,1398.22 334.687,1398.22 334.976,1441.93 335.265,1441.93 335.554,1425.08 335.843,1427.9 \n",
       "  336.132,1430.44 336.421,1430.44 336.71,1430.44 336.998,1430.44 337.287,1400.08 337.576,1400.08 337.865,1442.38 338.154,1439.01 338.443,1397.15 338.732,1397.15 \n",
       "  339.021,1356.6 339.31,1334.34 339.599,1334.34 339.888,1339.78 340.177,1339.78 340.466,1339.78 340.755,1339.78 341.043,1339.78 341.332,1369.09 341.621,1369.09 \n",
       "  341.91,1369.09 342.199,1415.37 342.488,1415.37 342.777,1415.37 343.066,1415.37 343.355,1415.37 343.644,1444.48 343.933,1444.48 344.222,1444.48 344.511,1444.48 \n",
       "  344.8,1444.19 345.089,1434.71 345.377,1434.71 345.666,1441.24 345.955,1441.24 346.244,1401.63 346.533,1401.63 346.822,1401.63 347.111,1401.63 347.4,1427.99 \n",
       "  347.689,1424.43 347.978,1414.7 348.267,1418.78 348.556,1403.45 348.845,1403.45 349.134,1403.45 349.422,1411.94 349.711,1404.01 350,1404.01 350.289,1404.01 \n",
       "  350.578,1440.19 350.867,1440.19 351.156,1444.6 351.445,1444.6 351.734,1442.27 352.023,1442.27 352.312,1440.16 352.601,1445.71 352.89,1445.71 353.179,1444.15 \n",
       "  353.468,1444.15 353.756,1444.15 354.045,1442.93 354.334,1444.82 354.623,1444.82 354.912,1444.82 355.201,1444.82 355.49,1443.79 355.779,1443.79 356.068,1443.79 \n",
       "  356.357,1443.79 356.646,1443.79 356.935,1443.79 357.224,1443.79 357.513,1443.79 357.801,1443.79 358.09,1441.21 358.379,1441.21 358.668,1441.21 358.957,1444.93 \n",
       "  359.246,1388.21 359.535,1442.22 359.824,1440.52 360.113,1411.89 360.402,1430.79 360.691,1442.05 360.98,1425.54 361.269,1438.89 361.558,1438.89 361.847,1438.89 \n",
       "  362.135,1440.97 362.424,1440.97 362.713,1440.97 363.002,1440.97 363.291,1440.97 363.58,1439.79 363.869,1439.79 364.158,1439.79 364.447,1439.79 364.736,1439.79 \n",
       "  365.025,1439.79 365.314,1439.79 365.603,1445.69 365.892,1439.79 366.181,1439.79 366.469,1439.79 366.758,1444.15 367.047,1444.15 367.336,1444.15 367.625,1444.15 \n",
       "  367.914,1400.72 368.203,1400.72 368.492,1400.72 368.781,1400.72 369.07,1434.21 369.359,1434.21 369.648,1434.21 369.937,1434.21 370.226,1434.21 370.514,1434.21 \n",
       "  370.803,1412.42 371.092,1356.99 371.381,1328.86 371.67,1328.86 371.959,1328.86 372.248,1328.86 372.537,1328.86 372.826,1328.86 373.115,1328.86 373.404,1328.86 \n",
       "  373.693,1328.86 373.982,1328.86 374.271,1328.86 374.56,1396.28 374.848,1396.28 375.137,1396.28 375.426,1396.28 375.715,1396.28 376.004,1396.28 376.293,1396.28 \n",
       "  376.582,1396.28 376.871,1396.28 377.16,1396.28 377.449,1394.51 377.738,1394.51 378.027,1394.51 378.316,1394.51 378.605,1394.51 378.893,1394.51 379.182,1394.51 \n",
       "  379.471,1394.51 379.76,1394.51 380.049,1343.15 380.338,1343.15 380.627,1343.15 380.916,1343.15 381.205,1343.15 381.494,1343.15 381.783,1251.38 382.072,1251.38 \n",
       "  382.361,1333.8 382.65,1336.15 382.939,1343.02 383.227,1389.53 383.516,1389.53 383.805,1389.53 384.094,1389.53 384.383,1389.53 384.672,1389.53 384.961,1389.53 \n",
       "  385.25,1380.2 385.539,1308.22 385.828,1308.22 386.117,1219.6 386.406,1219.6 386.695,1219.6 386.984,1219.6 387.272,1197.99 387.561,1197.99 387.85,1376.33 \n",
       "  388.139,1356.02 388.428,1356.02 388.717,1356.02 389.006,1356.02 389.295,1356.02 389.584,1356.02 389.873,1356.02 390.162,1350.06 390.451,1350.06 390.74,1350.06 \n",
       "  391.029,1350.06 391.318,1350.06 391.606,1350.06 391.895,1350.06 392.184,1350.06 392.473,1350.06 392.762,1350.06 393.051,1350.06 393.34,1350.06 393.629,1350.06 \n",
       "  393.918,1350.06 394.207,1350.06 394.496,1350.06 394.785,1350.06 395.074,1350.06 395.363,1389.42 395.651,1389.42 395.94,1389.42 396.229,1389.42 396.518,1389.34 \n",
       "  396.807,1321.84 397.096,1368.16 397.385,1328.37 397.674,1339.21 397.963,1339.21 398.252,1339.21 398.541,1339.21 398.83,1391.99 399.119,1391.99 399.408,1391.99 \n",
       "  399.697,1391.99 399.985,1391.99 400.274,1420.49 400.563,1430.95 400.852,1430.95 401.141,1430.95 401.43,1430.95 401.719,1430.95 402.008,1430.95 402.297,1428.71 \n",
       "  402.586,1428.71 402.875,1428.71 403.164,1428.71 403.453,1438.3 403.742,1438.3 404.03,1438.3 404.319,1438.3 404.608,1438.3 404.897,1438.3 405.186,1438.3 \n",
       "  405.475,1445.7 405.764,1445.7 406.053,1445.7 406.342,1445.7 406.631,1445.7 406.92,1445.7 407.209,1445.7 407.498,1445.7 407.787,1445.7 408.076,1445.7 \n",
       "  408.364,1445.7 408.653,1445.7 408.942,1445.63 409.231,1436.11 409.52,1436.11 409.809,1433.73 410.098,1433.73 410.387,1441.81 410.676,1438.95 410.965,1435.62 \n",
       "  411.254,1435.62 411.543,1435.62 411.832,1430.47 412.121,1425.01 412.409,1421.9 412.698,1442.12 412.987,1410.46 413.276,1410.46 413.565,1410.46 413.854,1421.7 \n",
       "  414.143,1428.06 414.432,1428.06 414.721,1428.79 415.01,1428.79 415.299,1428.79 415.588,1428.79 415.877,1399.99 416.166,1407.8 416.455,1374.76 416.743,1316.78 \n",
       "  417.032,1316.78 417.321,1316.78 417.61,1316.78 417.899,1306.36 418.188,1306.36 418.477,1306.36 418.766,1346.96 419.055,1346.96 419.344,1346.96 419.633,1346.96 \n",
       "  419.922,1372.45 420.211,1372.45 420.5,1372.45 420.788,1372.45 421.077,1372.45 421.366,1372.45 421.655,1354.48 421.944,1407.17 422.233,1413.31 422.522,1413.31 \n",
       "  422.811,1407.72 423.1,1413.31 423.389,1413.31 423.678,1413.02 423.967,1413.02 424.256,1407.54 424.545,1413.02 424.834,1398.17 425.122,1407.48 425.411,1407.48 \n",
       "  425.7,1361.42 425.989,1361.42 426.278,1361.42 426.567,1361.42 426.856,1361.42 427.145,1361.42 427.434,1445.59 427.723,1445.59 428.012,1445.59 428.301,1445.59 \n",
       "  428.59,1445.59 428.879,1445.59 429.168,1445.59 429.456,1445.59 429.745,1445.59 430.034,1445.59 430.323,1445.59 430.612,1441.77 430.901,1285.6 431.19,1285.6 \n",
       "  431.479,1285.6 431.768,1285.6 432.057,1285.6 432.346,1285.6 432.635,1364.08 432.924,1364.08 433.213,1364.08 433.501,1364.08 433.79,1364.08 434.079,1364.08 \n",
       "  434.368,1364.08 434.657,1364.08 434.946,1364.08 435.235,1350.46 435.524,1350.46 435.813,1350.46 436.102,1350.46 436.391,1350.46 436.68,1350.46 436.969,1350.46 \n",
       "  437.258,1343.76 437.547,1343.76 437.835,1343.76 438.124,1343.76 438.413,1333.16 438.702,1334.59 438.991,1340.37 439.28,1340.37 439.569,1134.48 439.858,1134.48 \n",
       "  440.147,1134.48 440.436,1134.48 440.725,1220.23 441.014,1220.23 441.303,1220.23 441.592,1220.23 441.88,1298.89 442.169,1298.89 442.458,1298.89 442.747,1298.89 \n",
       "  443.036,1298.89 443.325,1298.89 443.614,1298.89 443.903,1298.89 444.192,1242.48 444.481,1242.48 444.77,1242.48 445.059,1242.48 445.348,1242.48 445.637,1242.48 \n",
       "  445.926,1242.48 446.214,1272.84 446.503,1272.84 446.792,1272.84 447.081,1272.84 447.37,1272.84 447.659,1272.84 447.948,1272.84 448.237,1091.04 448.526,1091.04 \n",
       "  448.815,1091.04 449.104,1091.04 449.393,1091.04 449.682,1091.04 449.971,1091.04 450.259,1091.04 450.548,1091.04 450.837,1091.04 451.126,1091.04 451.415,1091.04 \n",
       "  451.704,1109.95 451.993,1109.95 452.282,1109.95 452.571,1109.95 452.86,1109.95 453.149,984.814 453.438,984.814 453.727,984.814 454.016,984.814 454.305,984.814 \n",
       "  454.593,897.481 454.882,897.481 455.171,897.481 455.46,897.481 455.749,897.481 456.038,897.481 456.327,938.269 456.616,938.269 456.905,938.269 457.194,938.269 \n",
       "  457.483,931.304 457.772,905.954 458.061,905.954 458.35,905.954 458.638,905.954 458.927,905.954 459.216,1235.05 459.505,1235.05 459.794,1235.05 460.083,1235.05 \n",
       "  460.372,1235.05 460.661,1235.05 460.95,1351.77 461.239,1366.15 461.528,1382.44 461.817,1382.44 462.106,1382.44 462.395,1382.44 462.684,1382.44 462.972,1386.03 \n",
       "  463.261,1391.85 463.55,1391.85 463.839,1391.85 464.128,1391.85 464.417,1391.85 464.706,1391.85 464.995,1391.85 465.284,1391.85 465.573,1391.85 465.862,1391.85 \n",
       "  466.151,1391.85 466.44,1391.85 466.729,1391.85 467.017,1438.75 467.306,1438.75 467.595,1438.75 467.884,1438.75 468.173,1438.75 468.462,1445.7 468.751,1445.7 \n",
       "  469.04,1445.7 469.329,1444.9 469.618,1445.72 469.907,1445.72 470.196,1415.18 470.485,1415.18 470.774,1415.18 471.063,1415.18 471.351,1415.18 471.64,1415.18 \n",
       "  471.929,1415.18 472.218,1415.18 472.507,1441.05 472.796,1439.68 473.085,1439.68 473.374,1445.66 473.663,1445.66 473.952,1439.78 474.241,1439.93 474.53,1400.36 \n",
       "  474.819,1400.36 475.108,1400.36 475.396,1400.36 475.685,1400.36 475.974,1400.36 476.263,1400.36 476.552,1425.76 476.841,1441.25 477.13,1441.25 477.419,1441.25 \n",
       "  477.708,1441.25 477.997,1444.29 478.286,1444.29 478.575,1444.29 478.864,1444.29 479.153,1444.53 479.442,1444.53 479.73,1444.53 480.019,1444.53 480.308,1414.72 \n",
       "  480.597,1414.72 480.886,1414.72 481.175,1434.87 481.464,1438 481.753,1438 482.042,1413.7 482.331,1413.7 482.62,1413.7 482.909,1413.7 483.198,1413.7 \n",
       "  483.487,1413.7 483.776,1426.17 484.064,1426.17 484.353,1426.17 484.642,1426.17 484.931,1426.17 485.22,1426.17 485.509,1426.17 485.798,1398.57 486.087,1398.57 \n",
       "  486.376,1427.21 486.665,1415.48 486.954,1415.48 487.243,1415.48 487.532,1375.73 487.821,1426.65 488.109,1426.65 488.398,1304.44 488.687,1304.44 488.976,1304.44 \n",
       "  489.265,1304.44 489.554,1304.44 489.843,1244.69 490.132,1244.69 490.421,1244.69 490.71,1244.69 490.999,1244.69 491.288,1244.69 491.577,1408.61 491.866,1408.61 \n",
       "  492.155,1408.61 492.443,1421.65 492.732,1421.65 493.021,1421.65 493.31,1421.65 493.599,1421.65 493.888,1397.28 494.177,1389.34 494.466,1389.34 494.755,1389.34 \n",
       "  495.044,1431.5 495.333,1431.5 495.622,1423.81 495.911,1445.65 496.2,1445.65 496.488,1445.65 496.777,1445.65 497.066,1445.65 497.355,1445.25 497.644,1445.25 \n",
       "  497.933,1444.8 498.222,1445.72 498.511,1444.8 498.8,1395 499.089,1395 499.378,1395 499.667,1395 499.956,1395 500.245,1395 500.534,1395 \n",
       "  500.822,1395 501.111,1395 501.4,1399.29 501.689,1399.29 501.978,1408.64 502.267,1408.64 502.556,1385.79 502.845,1385.79 503.134,1368.42 503.423,1407.62 \n",
       "  503.712,1407.62 504.001,1407.62 504.29,1407.62 504.579,1407.62 504.867,1407.62 505.156,1407.62 505.445,1407.62 505.734,1407.62 506.023,1407.62 506.312,1438.88 \n",
       "  506.601,1441.38 506.89,1441.38 507.179,1443.28 507.468,1367.54 507.757,1362.06 508.046,1362.06 508.335,1362.06 508.624,1362.06 508.913,1362.06 509.201,1362.06 \n",
       "  509.49,1300.35 509.779,1300.35 510.068,1373.89 510.357,1373.89 510.646,1361.3 510.935,1361.3 511.224,1418.11 511.513,1418.11 511.802,1418.11 512.091,1418.11 \n",
       "  512.38,1349.33 512.669,1135.71 512.958,704.568 513.246,704.568 513.535,837.45 513.824,837.45 514.113,837.45 514.402,837.45 514.691,862.311 514.98,862.311 \n",
       "  515.269,862.311 515.558,862.311 515.847,862.311 516.136,862.311 516.425,862.311 516.714,862.311 517.003,862.311 517.292,862.311 517.58,862.311 517.869,843.522 \n",
       "  518.158,843.522 518.447,661.515 518.736,661.515 519.025,661.515 519.314,661.515 519.603,682.755 519.892,682.755 520.181,682.755 520.47,682.755 520.759,682.755 \n",
       "  521.048,682.755 521.337,682.755 521.625,682.755 521.914,734.307 522.203,734.307 522.492,734.307 522.781,734.307 523.07,734.307 523.359,802.611 523.648,734.307 \n",
       "  523.937,734.307 524.226,616.64 524.515,616.64 524.804,616.64 525.093,616.64 525.382,616.64 525.671,616.64 525.959,616.64 526.248,616.64 526.537,1431.01 \n",
       "  526.826,1439.26 527.115,1439.26 527.404,1439.26 527.693,1439.26 527.982,1439.26 528.271,1439.26 528.56,1439.26 528.849,1439.26 529.138,1439.26 529.427,1445.62 \n",
       "  529.716,1445.62 530.004,1422.86 530.293,1426.65 530.582,1426.65 530.871,1426.65 531.16,1426.65 531.449,1430.86 531.738,1430.86 532.027,1430.86 532.316,1430.86 \n",
       "  532.605,1430.86 532.894,1430.86 533.183,1430.86 533.472,1407.25 533.761,1402.31 534.05,1402.31 534.338,1402.31 534.627,1427.25 534.916,1427.25 535.205,1402.31 \n",
       "  535.494,1402.31 535.783,1402.31 536.072,1402.31 536.361,1357.57 536.65,1357.57 536.939,1357.57 537.228,1357.57 537.517,1422.13 537.806,1422.13 538.095,1422.13 \n",
       "  538.384,1442.63 538.672,1442.63 538.961,1445.07 539.25,1445.07 539.539,1445.07 539.828,1445.07 540.117,1428.83 540.406,1411.55 540.695,1411.55 540.984,1411.55 \n",
       "  541.273,1423.66 541.562,1420.47 541.851,1349.92 542.14,1349.92 542.429,1349.92 542.717,1349.92 543.006,1349.92 543.295,1349.92 543.584,1346.16 543.873,1346.16 \n",
       "  544.162,1346.16 544.451,997.228 544.74,997.228 545.029,997.228 545.318,997.228 545.607,997.228 545.896,997.228 546.185,997.228 546.474,997.228 546.763,997.228 \n",
       "  547.051,997.228 547.34,997.228 547.629,1084.01 547.918,1098.29 548.207,1098.29 548.496,1145.17 548.785,1145.17 549.074,1145.17 549.363,1145.17 549.652,1145.17 \n",
       "  549.941,1056.95 550.23,1145.17 550.519,1145.17 550.808,1145.17 551.096,1145.17 551.385,1187.18 551.674,1187.18 551.963,1187.18 552.252,1187.18 552.541,1187.18 \n",
       "  552.83,1187.18 553.119,1187.18 553.408,1187.18 553.697,1141.66 553.986,1108.05 554.275,1108.05 554.564,1108.05 554.853,1108.05 555.142,1108.05 555.43,1108.05 \n",
       "  555.719,1108.05 556.008,1108.05 556.297,1108.05 556.586,1108.05 556.875,1108.05 557.164,1108.05 557.453,1108.05 557.742,1108.05 558.031,978.183 558.32,978.183 \n",
       "  558.609,1053.43 558.898,1080.95 559.187,1121.99 559.475,1121.99 559.764,1068.26 560.053,1068.26 560.342,1068.26 560.631,1212.88 560.92,1212.88 561.209,1212.88 \n",
       "  561.498,1212.88 561.787,1125.25 562.076,1125.25 562.365,1125.25 562.654,1165.64 562.943,1165.64 563.232,1165.64 563.521,1406.76 563.809,1430.08 564.098,1430.08 \n",
       "  564.387,1430.08 564.676,1430.08 564.965,1443.15 565.254,1443.15 565.543,1443.15 565.832,1443.15 566.121,1443.15 566.41,1443.15 566.699,1443.15 566.988,1443.15 \n",
       "  567.277,1443.15 567.566,1443.15 567.854,1414.18 568.143,1442.08 568.432,1434.04 568.721,1434.04 569.01,1434.04 569.299,1434.04 569.588,1434.04 569.877,1434.04 \n",
       "  570.166,1434.04 570.455,1434.04 570.744,1434.04 571.033,1412.56 571.322,1412.56 571.611,1386.76 571.9,1443.92 572.188,1443.92 572.477,1443.92 572.766,1443.92 \n",
       "  573.055,1443.92 573.344,1443.92 573.633,1430.7 573.922,1430.7 574.211,1398.91 574.5,1402.25 574.789,1402.25 575.078,1407.2 575.367,1407.2 575.656,1407.2 \n",
       "  575.945,1394.31 576.233,1411.38 576.522,1411.38 576.811,1444.07 577.1,1444.07 577.389,1444.07 577.678,1442.74 577.967,1444.07 578.256,1433.81 578.545,1238.56 \n",
       "  578.834,1238.56 579.123,1238.56 579.412,1238.56 579.701,1131.08 579.99,1131.08 580.279,1131.08 580.567,1131.08 580.856,1131.08 581.145,1275.41 581.434,1275.41 \n",
       "  581.723,1275.41 582.012,1182 582.301,1111.13 582.59,1111.13 582.879,1166.07 583.168,1166.07 583.457,1166.07 583.746,1166.07 584.035,1111.13 584.324,1111.13 \n",
       "  584.612,1111.13 584.901,1124.19 585.19,1124.19 585.479,1124.19 585.768,1123.01 586.057,1136.29 586.346,1136.29 586.635,1136.29 586.924,1136.29 587.213,1136.29 \n",
       "  587.502,1136.29 587.791,1136.29 588.08,1188.2 588.369,1188.2 588.658,1188.2 588.946,1188.2 589.235,1102.74 589.524,1102.74 589.813,1102.74 590.102,1298.42 \n",
       "  590.391,1298.42 590.68,1298.42 590.969,1298.42 591.258,1298.42 591.547,1298.42 591.836,1298.42 592.125,1298.42 592.414,1290.27 592.703,1290.27 592.991,1290.27 \n",
       "  593.28,1313.7 593.569,1313.7 593.858,1284.3 594.147,1284.3 594.436,1257.56 594.725,1380.48 595.014,1380.48 595.303,1380.48 595.592,1352.98 595.881,1352.98 \n",
       "  596.17,1352.98 596.459,1400.46 596.748,1400.46 597.037,1400.46 597.325,1400.46 597.614,1416.43 597.903,1416.43 598.192,1416.43 598.481,1445.09 598.77,1445.09 \n",
       "  599.059,1422.6 599.348,1422.6 599.637,1422.6 599.926,1432.31 600.215,1432.31 600.504,1434.08 600.793,1434.08 601.082,1434.08 601.371,1434.08 601.659,1434.08 \n",
       "  601.948,1434.08 602.237,1422.29 602.526,1338.9 602.815,1338.9 603.104,1338.9 603.393,1338.9 603.682,1338.9 603.971,1311.75 604.26,1311.75 604.549,1250.25 \n",
       "  604.838,1250.25 605.127,997.416 605.416,932.185 605.704,932.185 605.993,932.185 606.282,932.185 606.571,932.185 606.86,932.185 607.149,932.185 607.438,932.185 \n",
       "  607.727,932.185 608.016,869.751 608.305,896.012 608.594,896.012 608.883,896.012 609.172,896.012 609.461,896.012 609.75,896.012 610.038,896.012 610.327,1333.19 \n",
       "  610.616,1333.19 610.905,1369.21 611.194,1369.21 611.483,1399.49 611.772,1399.49 612.061,1376.54 612.35,1376.54 612.639,1293.08 612.928,1428.98 613.217,1428.98 \n",
       "  613.506,1443.49 613.795,1443.49 614.083,1443.49 614.372,1443.49 614.661,1443.49 614.95,1437.75 615.239,1428.98 615.528,1412.8 615.817,1412.8 616.106,1412.8 \n",
       "  616.395,1435.2 616.684,1435.2 616.973,1445.41 617.262,1445.41 617.551,1445.41 617.84,1445.71 618.129,1430.45 618.417,1414.05 618.706,1433.45 618.995,1433.31 \n",
       "  619.284,1433.31 619.573,1434.38 619.862,1435.82 620.151,1435.82 620.44,1435.82 620.729,1435.82 621.018,1435.82 621.307,1435.82 621.596,1435.82 621.885,1435.82 \n",
       "  622.174,1435.82 622.462,1445.62 622.751,1444.78 623.04,1440.72 623.329,1440.72 623.618,1442.01 623.907,1442.01 624.196,1442.01 624.485,1442.01 624.774,1442.01 \n",
       "  625.063,1442.01 625.352,1442.01 625.641,1442.01 625.93,1442.01 626.219,1442.01 626.508,1442.01 626.796,1442.01 627.085,1442.01 627.374,1442.01 627.663,1442.01 \n",
       "  627.952,1443.28 628.241,1443.28 628.53,1443.28 628.819,1443.28 629.108,1445.57 629.397,1430.77 629.686,1427.5 629.975,1427.5 630.264,1428.58 630.553,1430.22 \n",
       "  630.841,1430.22 631.13,1430.22 631.419,1395.62 631.708,1395.62 631.997,1395.62 632.286,1395.62 632.575,1388.9 632.864,1368.71 633.153,1424.49 633.442,1424.49 \n",
       "  633.731,1427.9 634.02,1427.9 634.309,1427.9 634.598,1427.9 634.887,1427.9 635.175,1427.9 635.464,1427.9 635.753,1416.02 636.042,1416.02 636.331,1416.02 \n",
       "  636.62,1416.02 636.909,1416.02 637.198,1441.22 637.487,1442.34 637.776,1442.34 638.065,1442.34 638.354,1444.73 638.643,1444.73 638.932,1433.25 639.22,1433.25 \n",
       "  639.509,1433.25 639.798,1443.07 640.087,1406.27 640.376,1406.27 640.665,1361.9 640.954,1361.9 641.243,1310.32 641.532,1312.96 641.821,1295.53 642.11,1295.53 \n",
       "  642.399,1304.1 642.688,1304.1 642.977,1304.1 643.266,1304.1 643.554,1304.1 643.843,1304.1 644.132,1304.1 644.421,1295.53 644.71,1293.1 644.999,1293.1 \n",
       "  645.288,1293.1 645.577,1293.1 645.866,1245.08 646.155,1326.44 646.444,1326.44 646.733,1410.4 647.022,1410.4 647.311,1420.09 647.599,1420.09 647.888,1440.54 \n",
       "  648.177,1440.54 648.466,1437.65 648.755,1443.14 649.044,1439.8 649.333,1439.8 649.622,1439.8 649.911,1439.8 650.2,1439.8 650.489,1439.8 650.778,1439.8 \n",
       "  651.067,1136.65 651.356,1208.58 651.645,1200.08 651.933,1200.08 652.222,1185.36 652.511,1185.36 652.8,1185.36 653.089,1185.36 653.378,1194.92 653.667,1194.92 \n",
       "  653.956,1194.92 654.245,1194.92 654.534,1194.92 654.823,1194.92 655.112,1194.92 655.401,1194.92 655.69,1194.92 655.979,1242.35 656.267,1351.9 656.556,1356.59 \n",
       "  656.845,1361.54 657.134,1361.54 657.423,1405.64 657.712,1405.64 658.001,1405.64 658.29,1405.64 658.579,1405.64 658.868,1405.64 659.157,1405.64 659.446,1405.64 \n",
       "  659.735,1405.64 660.024,1405.64 660.312,1405.64 660.601,1405.64 660.89,1405.64 661.179,1405.64 661.468,1409.35 661.757,1409.35 662.046,1444.58 662.335,1444.58 \n",
       "  662.624,1409.35 662.913,1444.58 663.202,1330.92 663.491,1290.62 663.78,1241.16 664.069,1241.16 664.358,1241.16 664.646,1241.16 664.935,1241.16 665.224,1241.16 \n",
       "  665.513,1241.16 665.802,1241.16 666.091,1241.16 666.38,1257.43 666.669,1257.43 666.958,1257.43 667.247,1257.43 667.536,1257.43 667.825,1257.43 668.114,1257.43 \n",
       "  668.403,1257.43 668.691,1257.43 668.98,1257.43 669.269,1257.43 669.558,1257.43 669.847,1261.12 670.136,1261.12 670.425,1365.75 670.714,1365.75 671.003,1405.94 \n",
       "  671.292,1405.94 671.581,1405.94 671.87,1405.94 672.159,1439.56 672.448,1442.08 672.737,1442.08 673.025,1421.62 673.314,1421.62 673.603,1432.15 673.892,1432.15 \n",
       "  674.181,1432.15 674.47,1432.15 674.759,1432.15 675.048,1432.15 675.337,1375.04 675.626,1375.04 675.915,1375.04 676.204,1375.04 676.493,1375.04 676.782,1375.04 \n",
       "  677.07,1396.03 677.359,1396.03 677.648,1396.03 677.937,1396.03 678.226,1411.13 678.515,1348.81 678.804,1434.7 679.093,1434.7 679.382,1434.7 679.671,1434.7 \n",
       "  679.96,1434.7 680.249,1434.7 680.538,1434.7 680.827,1434.7 681.116,1434.7 681.404,1434.7 681.693,1439.11 681.982,1394.91 682.271,1394.91 682.56,1343.42 \n",
       "  682.849,1320.74 683.138,1320.74 683.427,1320.74 683.716,1320.74 684.005,1320.74 684.294,1320.74 684.583,1320.74 684.872,1320.74 685.161,1298.45 685.449,1298.45 \n",
       "  685.738,1298.45 686.027,1298.45 686.316,1270.24 686.605,1270.24 686.894,1231.31 687.183,1231.31 687.472,1416.65 687.761,1416.65 688.05,1416.65 688.339,1416.65 \n",
       "  688.628,1416.65 688.917,1445.3 689.206,1445.3 689.495,1445.3 689.783,1445.3 690.072,1442.09 690.361,1442.09 690.65,1442.09 690.939,1442.09 691.228,1442.09 \n",
       "  691.517,1436.1 691.806,1436.1 692.095,1442.09 692.384,1442.09 692.673,1442.09 692.962,1445.3 693.251,1445.3 693.54,1445.3 693.828,1445.3 694.117,1441.76 \n",
       "  694.406,1441.76 694.695,1441.76 694.984,1441.76 695.273,1433.08 695.562,1433.08 695.851,1433.08 696.14,1436.71 696.429,1436.71 696.718,1436.71 697.007,1440.93 \n",
       "  697.296,1440.93 697.585,1440.93 697.874,1440.93 698.162,1440.93 698.451,1444.83 698.74,1444.83 699.029,1443.6 699.318,1443.6 699.607,1443.6 699.896,1443.6 \n",
       "  700.185,1443.6 700.474,1436.96 700.763,1436.46 701.052,1402.27 701.341,1402.27 701.63,1437.14 701.919,1420.98 702.207,1420.98 702.496,1420.98 702.785,1420.98 \n",
       "  703.074,1425.79 703.363,1425.79 703.652,1429.97 703.941,1429.97 704.23,1445.5 704.519,1439.22 704.808,1439.22 705.097,1439.22 705.386,1439.22 705.675,1445.22 \n",
       "  705.964,1445.22 706.253,1432.51 706.541,1353.33 706.83,1353.33 707.119,1317.14 707.408,1365.36 707.697,1393.05 707.986,1380.91 708.275,1380.91 708.564,1380.91 \n",
       "  708.853,1380.91 709.142,1380.91 709.431,1380.91 709.72,1380.91 710.009,1442.16 710.298,1442.16 710.586,1442.16 710.875,1442.88 711.164,1444.51 711.453,1444.51 \n",
       "  711.742,1444.51 712.031,1444.51 712.32,1444.51 712.609,1442.1 712.898,1438.68 713.187,1438.68 713.476,1435.86 713.765,1435.86 714.054,1435.86 714.343,1435.86 \n",
       "  714.632,1445.56 714.92,1445.56 715.209,1445.45 715.498,1445.45 715.787,1445.45 716.076,1445.45 716.365,1445.45 716.654,1445.45 716.943,1445.61 717.232,1445.61 \n",
       "  717.521,1445.61 717.81,1445.61 718.099,1445.61 718.388,1445.24 718.677,1445.24 718.966,1445.24 719.254,1442.41 719.543,1442.41 719.832,1444.7 720.121,1444.7 \n",
       "  720.41,1442.83 720.699,1428.37 720.988,1422.61 721.277,1422.61 721.566,1422.61 721.855,1403.6 722.144,1434.05 722.433,1434.05 722.722,1434.05 723.011,1434.05 \n",
       "  723.299,1434.05 723.588,1434.05 723.877,1445.46 724.166,1372.18 724.455,1405.08 724.744,1405.08 725.033,1405.08 725.322,1405.08 725.611,1434.19 725.9,1434.19 \n",
       "  726.189,1413.45 726.478,1376.24 726.767,1376.24 727.056,1376.24 727.345,1376.24 727.633,1369.59 727.922,1369.59 728.211,1369.59 728.5,1369.59 728.789,1369.59 \n",
       "  729.078,1369.59 729.367,1410.52 729.656,1410.52 729.945,1415 730.234,1415 730.523,1426.43 730.812,1426.43 731.101,1426.43 731.39,1426.43 731.678,1426.43 \n",
       "  731.967,1432.9 732.256,1315.36 732.545,1315.36 732.834,1360.27 733.123,1360.27 733.412,1360.27 733.701,1390.93 733.99,1390.93 734.279,1302.32 734.568,1302.32 \n",
       "  734.857,1302.32 735.146,1390.93 735.435,1390.93 735.724,1390.93 736.012,1390.93 736.301,1390.93 736.59,1388.2 736.879,1390.93 737.168,1438.86 737.457,1440.53 \n",
       "  737.746,1440.53 738.035,1440.53 738.324,1440.53 738.613,1440.53 738.902,1440.53 739.191,1440.53 739.48,1440.53 739.769,1440.53 740.057,1382.56 740.346,1382.56 \n",
       "  740.635,1382.56 740.924,1382.56 741.213,1382.56 741.502,1432.38 741.791,1432.38 742.08,1432.38 742.369,1442.62 742.658,1442.62 742.947,1442.62 743.236,1442.62 \n",
       "  743.525,1442.62 743.814,1422.74 744.103,1445.31 744.391,1432.83 744.68,1432.83 744.969,1403.58 745.258,1413.09 745.547,1413.09 745.836,1413.09 746.125,1413.09 \n",
       "  746.414,1428.82 746.703,1444.77 746.992,1433.66 747.281,1423.78 747.57,1423.78 747.859,1423.78 748.148,1429.53 748.436,1443.46 748.725,1443.46 749.014,1443.46 \n",
       "  749.303,1441.93 749.592,1441.93 749.881,1441.93 750.17,1441.93 750.459,1441.93 750.748,1441.93 751.037,1441.93 751.326,1439.56 751.615,1439.56 751.904,1439.56 \n",
       "  752.193,1439.56 752.482,1439.56 752.77,1439.56 753.059,1439.56 753.348,1439.56 753.637,1444.04 753.926,1444.04 754.215,1444.04 754.504,1444.04 754.793,1444.04 \n",
       "  755.082,1444.04 755.371,1444.04 755.66,1444.04 755.949,1444.04 756.238,1444.04 756.527,1440.9 756.815,1440.9 757.104,1440.9 757.393,1440.9 757.682,1444.32 \n",
       "  757.971,1444.32 758.26,1444.32 758.549,1444.32 758.838,1440.19 759.127,1440.19 759.416,1440.19 759.705,1397.56 759.994,1386.38 760.283,1386.38 760.572,1364.81 \n",
       "  760.861,1364.81 761.149,1380.24 761.438,1380.24 761.727,1380.24 762.016,1324.83 762.305,1324.83 762.594,1162.65 762.883,1162.65 763.172,1162.65 763.461,1162.65 \n",
       "  763.75,1162.65 764.039,1395.23 764.328,1395.23 764.617,1395.23 764.906,1395.23 765.194,1395.23 765.483,1395.23 765.772,1395.23 766.061,1347.99 766.35,1347.99 \n",
       "  766.639,1347.99 766.928,1347.99 767.217,1351.24 767.506,1351.24 767.795,1351.24 768.084,1351.24 768.373,1351.24 768.662,1351.24 768.951,1306.24 769.24,1306.24 \n",
       "  769.528,1238.54 769.817,1238.54 770.106,1238.54 770.395,1238.54 770.684,1238.54 770.973,1238.54 771.262,1181.74 771.551,1181.74 771.84,1181.74 772.129,1130.55 \n",
       "  772.418,1130.55 772.707,1130.55 772.996,1130.55 773.285,1130.55 773.574,1130.55 773.862,1130.55 774.151,1130.55 774.44,1130.55 774.729,1295.67 775.018,1295.67 \n",
       "  775.307,1295.67 775.596,1295.67 775.885,1295.67 776.174,1295.67 776.463,1295.67 776.752,1295.67 777.041,1295.67 777.33,1368.58 777.619,1368.58 777.907,1440.93 \n",
       "  778.196,1444.43 778.485,1444.43 778.774,1444.43 779.063,1444.43 779.352,1444.43 779.641,1444.43 779.93,1444.43 780.219,1444.43 780.508,1351.22 780.797,1370.69 \n",
       "  781.086,1392.57 781.375,1333.8 781.664,1224.76 781.953,1280.03 782.241,1348.71 782.53,1348.71 782.819,1339.54 783.108,1362.08 783.397,1321.12 783.686,1345.04 \n",
       "  783.975,1440.14 784.264,1440.14 784.553,1444.62 784.842,1444.62 785.131,1441.17 785.42,1441.17 785.709,1433.71 785.998,1433.71 786.286,1433.71 786.575,1435.65 \n",
       "  786.864,1435.65 787.153,1435.65 787.442,1445.3 787.731,1445.3 788.02,1426.62 788.309,1445.71 788.598,1423.36 788.887,1367.44 789.176,1367.44 789.465,1367.44 \n",
       "  789.754,1367.44 790.043,1292.27 790.332,1260.66 790.62,1260.66 790.909,1252.38 791.198,1194.56 791.487,1194.56 791.776,1265.2 792.065,1299.98 792.354,1397.34 \n",
       "  792.643,1397.34 792.932,1383.61 793.221,1383.61 793.51,1393.87 793.799,1417.7 794.088,1421.15 794.377,1421.15 794.665,1442.86 794.954,1442.86 795.243,1421.17 \n",
       "  795.532,1417.83 795.821,1329.15 796.11,1354.02 796.399,1423.38 796.688,1423.38 796.977,1423.38 797.266,1423.38 797.555,1423.38 797.844,1423.38 798.133,1423.38 \n",
       "  798.422,1427.92 798.711,1427.92 798.999,1427.92 799.288,1444.99 799.577,1444.99 799.866,1444.99 800.155,1444.99 800.444,1439.47 800.733,1436.76 801.022,1433.99 \n",
       "  801.311,1433.99 801.6,1433.99 801.889,1433.99 802.178,1433.99 802.467,1433.99 802.756,1422.58 803.044,1426.41 803.333,1441.48 803.622,1445.04 803.911,1445.04 \n",
       "  804.2,1430.81 804.489,1332.65 804.778,1332.65 805.067,1314.39 805.356,1313.4 805.645,1313.4 805.934,1365.51 806.223,1362.68 806.512,1362.68 806.801,1305.35 \n",
       "  807.09,1305.35 807.378,1305.35 807.667,1305.35 807.956,1305.35 808.245,1305.35 808.534,1305.35 808.823,1305.35 809.112,1213.02 809.401,1213.02 809.69,1213.02 \n",
       "  809.979,1213.02 810.268,1213.02 810.557,1213.02 810.846,1213.02 811.135,1203.4 811.423,1203.4 811.712,1348.25 812.001,1348.25 812.29,1393.76 812.579,1393.76 \n",
       "  812.868,1392.3 813.157,1423.77 813.446,1416.51 813.735,1416.51 814.024,1422.8 814.313,1422.8 814.602,1422.8 814.891,1422.8 815.18,1422.8 815.469,1422.8 \n",
       "  815.757,1422.8 816.046,1422.8 816.335,1441.83 816.624,1441.83 816.913,1441.83 817.202,1441.83 817.491,1441.83 817.78,1445.71 818.069,1445.71 818.358,1445.71 \n",
       "  818.647,1445.71 818.936,1445.71 819.225,1445.47 819.514,1445.47 819.802,1445.47 820.091,1445.47 820.38,1438.74 820.669,1438.74 820.958,1438.74 821.247,1438.74 \n",
       "  821.536,1445.14 821.825,1445.48 822.114,1445.48 822.403,1445.48 822.692,1445.48 822.981,1445.48 823.27,1445.48 823.559,1445.61 823.848,1439.18 824.136,1439.18 \n",
       "  824.425,1439.18 824.714,1439.18 825.003,1439.18 825.292,1439.18 825.581,1439.18 825.87,1439.18 826.159,1439.18 826.448,1445.69 826.737,1445.69 827.026,1445.46 \n",
       "  827.315,1445.46 827.604,1445.09 827.893,1445.09 828.182,1445.09 828.47,1445.09 828.759,1445.09 829.048,1445.09 829.337,1445.09 829.626,1445.09 829.915,1427.32 \n",
       "  830.204,1427.32 830.493,1427.32 830.782,1443.89 831.071,1425.2 831.36,1425.2 831.649,1428.31 831.938,1428.31 832.227,1396.75 832.515,1396.75 832.804,1287.02 \n",
       "  833.093,1381.75 833.382,1385.28 833.671,1385.28 833.96,1385.28 834.249,1376.51 834.538,1412.02 834.827,1430.3 835.116,1430.3 835.405,1430.3 835.694,1432.6 \n",
       "  835.983,1427.98 836.272,1427.98 836.561,1408.16 836.849,1408.16 837.138,1408.16 837.427,1408.16 837.716,1403.42 838.005,1403.42 838.294,1403.42 838.583,1403.42 \n",
       "  838.872,1411.48 839.161,1411.48 839.45,1411.48 839.739,1411.48 840.028,1444.84 840.317,1400.89 840.606,1409.36 840.894,1409.36 841.183,1385.14 841.472,1385.14 \n",
       "  841.761,1385.14 842.05,1385.14 842.339,1363.85 842.628,1363.85 842.917,1367.26 843.206,1338.69 843.495,1338.69 843.784,1356.21 844.073,1306.11 844.362,1306.11 \n",
       "  844.651,1271.07 844.94,1271.07 845.228,1271.07 845.517,1256.33 845.806,1256.33 846.095,1256.33 846.384,1256.33 846.673,1353.83 846.962,1353.83 847.251,1353.83 \n",
       "  847.54,1353.83 847.829,1353.83 848.118,1353.83 848.407,1366 848.696,1366 848.985,1366 849.273,1366 849.562,1329.21 849.851,1329.21 850.14,1394.21 \n",
       "  850.429,1394.21 850.718,1394.21 851.007,1394.21 851.296,1394.21 851.585,1394.21 851.874,1394.21 852.163,1346.98 852.452,1346.98 852.741,1346.98 853.03,1346.98 \n",
       "  853.319,1229.12 853.607,1229.12 853.896,1134.1 854.185,1302.98 854.474,1302.98 854.763,1302.98 855.052,1313.94 855.341,1371.91 855.63,1371.91 855.919,1364.61 \n",
       "  856.208,1364.61 856.497,1364.61 856.786,1364.61 857.075,1348.46 857.364,1348.46 857.652,1344.09 857.941,1344.09 858.23,1341.45 858.519,1341.45 858.808,1376.8 \n",
       "  859.097,1376.8 859.386,1293.94 859.675,1293.94 859.964,1176.91 860.253,1176.91 860.542,1176.91 860.831,1176.91 861.12,1176.91 861.409,1176.91 861.698,1176.91 \n",
       "  861.986,1288.67 862.275,1318.92 862.564,1318.92 862.853,1318.92 863.142,1318.92 863.431,1318.92 863.72,1318.92 864.009,1318.92 864.298,1318.92 864.587,1318.92 \n",
       "  864.876,1318.92 865.165,1318.92 865.454,1318.92 865.743,1318.92 866.031,1318.92 866.32,1294.83 866.609,1365.08 866.898,1365.08 867.187,1365.08 867.476,1365.08 \n",
       "  867.765,1342.32 868.054,1342.32 868.343,1342.32 868.632,1342.32 868.921,1342.32 869.21,1342.32 869.499,1316.53 869.788,1316.53 870.077,1212.56 870.365,1212.56 \n",
       "  870.654,1210.61 870.943,1210.61 871.232,1210.61 871.521,1210.61 871.81,1210.61 872.099,1210.61 872.388,1210.61 872.677,1210.61 872.966,1210.61 873.255,1264.09 \n",
       "  873.544,1264.09 873.833,1264.09 874.122,1264.09 874.41,1264.09 874.699,1264.09 874.988,1264.09 875.277,1264.09 875.566,1264.09 875.855,1394.23 876.144,1394.23 \n",
       "  876.433,1394.23 876.722,1394.23 877.011,1394.23 877.3,1394.23 877.589,1394.23 877.878,1394.23 878.167,1386.34 878.456,1386.34 878.744,1397.57 879.033,1397.57 \n",
       "  879.322,1381.77 879.611,1381.77 879.9,1381.77 880.189,1381.77 880.478,1292.77 880.767,1292.77 881.056,1279.97 881.345,1279.97 881.634,1267.65 881.923,1267.65 \n",
       "  882.212,1158.74 882.501,1158.74 882.789,1158.74 883.078,1158.74 883.367,1158.74 883.656,1158.74 883.945,1120.92 884.234,1120.92 884.523,1169.64 884.812,1169.64 \n",
       "  885.101,1169.64 885.39,1169.64 885.679,1169.64 885.968,1169.64 886.257,1249.37 886.546,1328.9 886.835,1328.9 887.123,1347.09 887.412,1347.09 887.701,1347.09 \n",
       "  887.99,1347.09 888.279,1347.09 888.568,1109.65 888.857,1213.37 889.146,1213.37 889.435,1278.49 889.724,1278.49 890.013,1286.42 890.302,1286.42 890.591,1286.42 \n",
       "  890.88,1286.42 891.169,1297.54 891.457,1273.81 891.746,1273.81 892.035,1242.99 892.324,1242.99 892.613,1242.99 892.902,1278.71 893.191,1278.71 893.48,1278.71 \n",
       "  893.769,1278.71 894.058,1278.71 894.347,1278.71 894.636,1278.71 894.925,1338.06 895.214,1338.06 895.502,1322.02 895.791,1322.02 896.08,1322.02 896.369,1322.02 \n",
       "  896.658,1322.02 896.947,1322.02 897.236,1421.76 897.525,1421.76 897.814,1429.15 898.103,1429.15 898.392,1427.22 898.681,1427.22 898.97,1427.22 899.259,1416.17 \n",
       "  899.548,1416.17 899.836,1416.17 900.125,1416.47 900.414,1436.37 900.703,1359.94 900.992,1359.94 901.281,1359.94 901.57,1359.94 901.859,1359.94 902.148,1359.94 \n",
       "  902.437,1359.94 902.726,1359.94 903.015,1359.94 903.304,1359.94 903.593,1352.9 903.881,1352.9 904.17,1352.9 904.459,1421.4 904.748,1421.4 905.037,1424.95 \n",
       "  905.326,1424.95 905.615,1424.95 905.904,1424.95 906.193,1424.95 906.482,1424.95 906.771,1428.25 907.06,1431.35 907.349,1442.61 907.638,1442.61 907.927,1442.61 \n",
       "  908.215,1442.61 908.504,1442.61 908.793,1410.34 909.082,1410.34 909.371,1222.03 909.66,1410.34 909.949,1080.54 910.238,1296.63 910.527,1296.63 910.816,1296.63 \n",
       "  911.105,1296.63 911.394,1325.69 911.683,1325.69 911.972,1325.69 912.26,1325.69 912.549,1418.14 912.838,1418.14 913.127,1406.65 913.416,1440.98 913.705,1433.5 \n",
       "  913.994,1433.5 914.283,1436.86 914.572,1442.69 914.861,1443.53 915.15,1444.33 915.439,1444.33 915.728,1442.77 916.017,1442.77 916.306,1442.77 916.594,1442.77 \n",
       "  916.883,1442.77 917.172,1442.77 917.461,1442.77 917.75,1444.88 918.039,1443.43 918.328,1443.43 918.617,1443.43 918.906,1443.43 919.195,1443.43 919.484,1443.43 \n",
       "  919.773,1320.08 920.062,1320.08 920.351,1340.49 920.639,1340.49 920.928,1341.14 921.217,1341.14 921.506,1341.14 921.795,1334.51 922.084,1334.51 922.373,1334.51 \n",
       "  922.662,1334.51 922.951,1334.51 923.24,1360.35 923.529,1360.35 923.818,1360.35 924.107,1360.35 924.396,1404.74 924.685,1424.94 924.973,1424.94 925.262,1434.37 \n",
       "  925.551,1434.37 925.84,1434.37 926.129,1434.37 926.418,1416.33 926.707,1409.04 926.996,1402.54 927.285,1402.54 927.574,1339.35 927.863,1341.03 928.152,1364.44 \n",
       "  928.441,1407.06 928.73,1201.67 929.018,1325.03 929.307,1330.59 929.596,1330.59 929.885,1330.59 930.174,1257.1 930.463,1257.1 930.752,1257.1 931.041,1257.1 \n",
       "  931.33,1287.87 931.619,1365.39 931.908,1359.34 932.197,1261.18 932.486,1261.18 932.775,1261.18 933.064,1261.18 933.352,1261.18 933.641,1261.18 933.93,1251.62 \n",
       "  934.219,1251.62 934.508,1205.74 934.797,1184.85 935.086,1065.15 935.375,1065.15 935.664,1065.15 935.953,1065.15 936.242,1065.15 936.531,1385.22 936.82,1385.22 \n",
       "  937.109,1385.22 937.397,1385.22 937.686,1385.22 937.975,1385.22 938.264,1385.22 938.553,1385.22 938.842,1385.22 939.131,1395.67 939.42,1395.67 939.709,1395.67 \n",
       "  939.998,1395.67 940.287,1413.25 940.576,1409.29 940.865,1430.63 941.154,1374.45 941.443,1374.45 941.731,1374.45 942.02,1374.45 942.309,1374.45 942.598,1374.45 \n",
       "  942.887,1374.45 943.176,1407.86 943.465,1407.86 943.754,1403.21 944.043,1399.38 944.332,1403.6 944.621,1403.6 944.91,1445.68 945.199,1445.68 945.488,1445.68 \n",
       "  945.777,1445.68 946.065,1444.45 946.354,1444.45 946.643,1444.45 946.932,1444.45 947.221,1443.3 947.51,1387.38 947.799,1387.38 948.088,1387.38 948.377,1387.38 \n",
       "  948.666,1387.38 948.955,1387.38 949.244,1387.38 949.533,1167.45 949.822,1167.45 950.11,1161.65 950.399,1092.28 950.688,1092.28 950.977,1092.28 951.266,1095.09 \n",
       "  951.555,1095.09 951.844,1095.09 952.133,1095.09 952.422,1151.28 952.711,1244.44 953,1191.36 953.289,1151.41 953.578,1151.41 953.867,1151.41 954.156,1379.93 \n",
       "  954.444,1337.7 954.733,1337.7 955.022,1337.7 955.311,1337.7 955.6,1337.7 955.889,1337.7 956.178,1337.7 956.467,1342.72 956.756,1342.72 957.045,1428.12 \n",
       "  957.334,1409.52 957.623,1409.52 957.912,1402.61 958.201,1402.61 958.489,1402.61 958.778,1402.61 959.067,1363.82 959.356,1363.82 959.645,1363.82 959.934,1363.82 \n",
       "  960.223,1363.82 960.512,1363.82 960.801,1363.82 961.09,1394.24 961.379,1394.24 961.668,1394.24 961.957,1394.24 962.246,1405.36 962.535,1405.36 962.823,1388.17 \n",
       "  963.112,1400.99 963.401,1400.99 963.69,1400.99 963.979,1400.99 964.268,1334.89 964.557,1334.89 964.846,1356.78 965.135,1356.78 965.424,1356.78 965.713,1356.78 \n",
       "  966.002,1445.38 966.291,1445.38 966.58,1445.38 966.868,1445.38 967.157,1445.04 967.446,1445.04 967.735,1445.04 968.024,1445.04 968.313,1445.04 968.602,1445.04 \n",
       "  968.891,1445.04 969.18,1444.16 969.469,1444.16 969.758,1444.16 970.047,1444.16 970.336,1444.16 970.625,1444.16 970.914,1444.16 971.202,1437.43 971.491,1437.43 \n",
       "  971.78,1437.43 972.069,1437.43 972.358,1441.95 972.647,1422.01 972.936,1422.01 973.225,1422.01 973.514,1422.01 973.803,1422.01 974.092,1331.72 974.381,1331.72 \n",
       "  974.67,1331.72 974.959,1331.72 975.247,1331.72 975.536,1288.74 975.825,1385.48 976.114,1337.73 976.403,1337.73 976.692,1337.73 976.981,1337.73 977.27,1414.52 \n",
       "  977.559,1414.52 977.848,1389.92 978.137,1389.92 978.426,1389.92 978.715,1389.92 979.004,1365.36 979.293,1365.36 979.581,1365.36 979.87,1365.36 980.159,1339.84 \n",
       "  980.448,1434.08 980.737,1434.08 981.026,1434.57 981.315,1434.57 981.604,1434.57 981.893,1434.57 982.182,1434.57 982.471,1434.57 982.76,1423.75 983.049,1429.87 \n",
       "  983.338,1439.64 983.626,1439.64 983.915,1439.64 984.204,1297.07 984.493,1297.07 984.782,1297.07 985.071,1285.11 985.36,1280.52 985.649,1280.52 985.938,1280.52 \n",
       "  986.227,1280.52 986.516,1280.52 986.805,1280.52 987.094,1280.52 987.383,1280.52 987.672,1297.07 987.96,1297.07 988.249,1297.07 988.538,1080.33 988.827,1080.33 \n",
       "  989.116,1076.27 989.405,1076.27 989.694,1007.22 989.983,1007.22 990.272,793.809 990.561,1029.98 990.85,963.6 991.139,963.6 991.428,963.6 991.717,963.6 \n",
       "  992.005,963.6 992.294,963.6 992.583,936.976 992.872,936.976 993.161,936.976 993.45,1020.27 993.739,1020.27 994.028,1020.27 994.317,1020.27 994.606,966.428 \n",
       "  994.895,966.428 995.184,966.428 995.473,966.428 995.762,950.202 996.051,950.202 996.339,1129.5 996.628,1129.5 996.917,1129.5 997.206,1129.5 997.495,1129.5 \n",
       "  997.784,1129.5 998.073,1129.5 998.362,1129.5 998.651,1113.58 998.94,1113.58 999.229,1113.58 999.518,1318.15 999.807,1318.15 1000.1,1318.15 1000.38,1321.45 \n",
       "  1000.67,1326.79 1000.96,1336.45 1001.25,1336.45 1001.54,1336.45 1001.83,1336.45 1002.12,1352.67 1002.41,1352.67 1002.7,1352.67 1002.98,1361.06 1003.27,1372.22 \n",
       "  1003.56,1372.22 1003.85,1372.22 1004.14,1372.22 1004.43,1383.41 1004.72,1383.41 1005.01,1383.41 1005.3,1374.12 1005.59,1374.12 1005.87,1281.45 1006.16,1281.45 \n",
       "  1006.45,1281.45 1006.74,1281.45 1007.03,1281.45 1007.32,1281.45 1007.61,1281.45 1007.9,1281.45 1008.19,1281.45 1008.47,1281.45 1008.76,1281.45 1009.05,1281.45 \n",
       "  1009.34,1294.8 1009.63,1294.8 1009.92,1294.8 1010.21,1294.8 1010.5,1294.8 1010.79,1294.8 1011.07,1294.8 1011.36,1294.8 1011.65,1294.8 1011.94,1294.8 \n",
       "  1012.23,1294.8 1012.52,1294.8 1012.81,1268.36 1013.1,1251.41 1013.39,1251.41 1013.68,1235.81 1013.96,1153.9 1014.25,1175.96 1014.54,1175.96 1014.83,1217.13 \n",
       "  1015.12,1293.86 1015.41,1293.86 1015.7,1293.86 1015.99,1293.86 1016.28,1293.86 1016.56,1293.86 1016.85,1328 1017.14,1444.99 1017.43,1444.99 1017.72,1420.46 \n",
       "  1018.01,1420.46 1018.3,1420.46 1018.59,1420.46 1018.88,1420.46 1019.17,1427.96 1019.45,1424.85 1019.74,1438.14 1020.03,1438.14 1020.32,1438.14 1020.61,1413.98 \n",
       "  1020.9,1413.98 1021.19,1403.82 1021.48,1403.82 1021.77,1373.72 1022.05,1373.72 1022.34,1373.72 1022.63,1410.31 1022.92,1425.78 1023.21,1425.78 1023.5,1422.09 \n",
       "  1023.79,1426.94 1024.08,1443.69 1024.37,1445.07 1024.65,1445.07 1024.94,1420.07 1025.23,1420.07 1025.52,1419.28 1025.81,1419.28 1026.1,1419.28 1026.39,1419.28 \n",
       "  1026.68,1419.28 1026.97,1419.28 1027.26,1419.28 1027.54,1419.28 1027.83,1419.28 1028.12,1419.28 1028.41,1419.28 1028.7,1419.28 1028.99,1419.28 1029.28,1419.28 \n",
       "  1029.57,1443.78 1029.86,1443.78 1030.14,1443.78 1030.43,1443.78 1030.72,1427.58 1031.01,1427.58 1031.3,1427.58 1031.59,1427.58 1031.88,1430.79 1032.17,1430.79 \n",
       "  1032.46,1430.79 1032.74,1442.89 1033.03,1442.89 1033.32,1442.89 1033.61,1429.6 1033.9,1429.6 1034.19,1393.72 1034.48,1393.72 1034.77,1393.72 1035.06,1393.72 \n",
       "  1035.35,1393.72 1035.63,1403.76 1035.92,1403.76 1036.21,1403.76 1036.5,1403.76 1036.79,1403.76 1037.08,1403.76 1037.37,1429.28 1037.66,1429.28 1037.95,1429.28 \n",
       "  1038.23,1429.28 1038.52,1427.54 1038.81,1427.54 1039.1,1444.5 1039.39,1445.24 1039.68,1445.24 1039.97,1445.24 1040.26,1445.24 1040.55,1445.24 1040.83,1445.24 \n",
       "  1041.12,1445.24 1041.41,1445.24 1041.7,1445.72 1041.99,1445.72 1042.28,1445.58 1042.57,1418.02 1042.86,1418.02 1043.15,1401.78 1043.44,1401.78 1043.72,1401.78 \n",
       "  1044.01,1401.78 1044.3,1401.78 1044.59,1401.78 1044.88,1180.17 1045.17,1180.17 1045.46,1193.61 1045.75,1212.54 1046.04,1212.54 1046.32,1212.54 1046.61,1212.54 \n",
       "  1046.9,1313.34 1047.19,1313.34 1047.48,1313.34 1047.77,1313.34 1048.06,1366.84 1048.35,1366.84 1048.64,1366.84 1048.92,1366.84 1049.21,1401.77 1049.5,1146.15 \n",
       "  1049.79,1146.15 1050.08,1146.15 1050.37,1152.22 1050.66,1042.45 1050.95,1042.45 1051.24,1042.45 1051.53,1236.37 1051.81,1236.37 1052.1,1236.37 1052.39,1214.47 \n",
       "  1052.68,1214.47 1052.97,1222.78 1053.26,1222.78 1053.55,1222.78 1053.84,1222.78 1054.13,1222.78 1054.41,1222.78 1054.7,1222.78 1054.99,1054.78 1055.28,1054.78 \n",
       "  1055.57,1054.78 1055.86,1310.6 1056.15,1351.87 1056.44,1351.87 1056.73,1351.87 1057.02,1351.87 1057.3,1318.61 1057.59,1318.61 1057.88,1318.61 1058.17,1241.07 \n",
       "  1058.46,1241.07 1058.75,1241.07 1059.04,1259.49 1059.33,1259.49 1059.62,1259.49 1059.9,1259.49 1060.19,1259.49 1060.48,1259.49 1060.77,1259.49 1061.06,1307.21 \n",
       "  1061.35,1416.72 1061.64,1416.72 1061.93,1416.72 1062.22,1391.02 1062.5,1416.72 1062.79,1423.01 1063.08,1423.01 1063.37,1423.01 1063.66,1409.13 1063.95,1409.13 \n",
       "  1064.24,1370.01 1064.53,1370.01 1064.82,1413.68 1065.11,1417.71 1065.39,1394.18 1065.68,1394.18 1065.97,1394.18 1066.26,1394.18 1066.55,1418.52 1066.84,1418.52 \n",
       "  1067.13,1342.94 1067.42,1342.94 1067.71,1371.37 1067.99,1371.37 1068.28,1371.37 1068.57,1371.37 1068.86,1371.37 1069.15,1371.37 1069.44,1371.37 1069.73,1371.37 \n",
       "  1070.02,1393.06 1070.31,1393.06 1070.59,1439.19 1070.88,1439.19 1071.17,1439.19 1071.46,1439.19 1071.75,1430.43 1072.04,1402.27 1072.33,1402.27 1072.62,1402.27 \n",
       "  1072.91,1402.27 1073.2,1380.01 1073.48,1380.01 1073.77,1380.01 1074.06,1419.62 1074.35,1419.62 1074.64,1419.62 1074.93,1424.45 1075.22,1431.7 1075.51,1431.7 \n",
       "  1075.8,1431.7 1076.08,1444.82 1076.37,1445.36 1076.66,1445.62 1076.95,1445.62 1077.24,1416 1077.53,1416 1077.82,1416 1078.11,1416 1078.4,1416 \n",
       "  1078.68,1416 1078.97,1410.2 1079.26,1410.2 1079.55,1410.2 1079.84,1410.2 1080.13,1410.2 1080.42,1410.2 1080.71,1410.2 1081,1410.2 1081.29,1410.2 \n",
       "  1081.57,1410.2 1081.86,1410.2 1082.15,1410.2 1082.44,1421.18 1082.73,1421.18 1083.02,1408.17 1083.31,1408.17 1083.6,1408.17 1083.89,1408.17 1084.17,1408.17 \n",
       "  1084.46,1408.17 1084.75,1437.77 1085.04,1423.17 1085.33,1423.17 1085.62,1423.17 1085.91,1418.77 1086.2,1423.17 1086.49,1414.15 1086.77,1414.15 1087.06,1368.55 \n",
       "  1087.35,1368.55 1087.64,1322.35 1087.93,1322.35 1088.22,1322.35 1088.51,1322.35 1088.8,1322.35 1089.09,1322.35 1089.38,1402.67 1089.66,1402.67 1089.95,1402.67 \n",
       "  1090.24,1402.67 1090.53,1402.67 1090.82,1402.67 1091.11,1402.67 1091.4,1402.67 1091.69,1402.67 1091.98,1402.67 1092.26,1402.67 1092.55,1402.67 1092.84,1402.67 \n",
       "  1093.13,1322.35 1093.42,1345.9 1093.71,1345.9 1094,1345.9 1094.29,1313.23 1094.58,1313.23 1094.87,1313.23 1095.15,1319.18 1095.44,1319.18 1095.73,1319.18 \n",
       "  1096.02,1319.18 1096.31,1327.45 1096.6,1327.45 1096.89,1327.45 1097.18,1327.45 1097.47,1327.45 1097.75,1324.01 1098.04,1324.01 1098.33,1324.01 1098.62,1324.01 \n",
       "  1098.91,1324.01 1099.2,1324.01 1099.49,1324.01 1099.78,1324.01 1100.07,1324.01 1100.35,1022.46 1100.64,1022.46 1100.93,1022.46 1101.22,1022.46 1101.51,1022.46 \n",
       "  1101.8,1022.46 1102.09,978.284 1102.38,1072.14 1102.67,1072.14 1102.96,1059.59 1103.24,1086.23 1103.53,1086.23 1103.82,1086.23 1104.11,1186.25 1104.4,1186.25 \n",
       "  1104.69,1255.51 1104.98,1255.51 1105.27,1255.51 1105.56,1255.51 1105.84,1390.24 1106.13,1390.24 1106.42,1339.4 1106.71,1339.4 1107,1341.36 1107.29,1341.36 \n",
       "  1107.58,1341.36 1107.87,1341.36 1108.16,1341.36 1108.44,1341.36 1108.73,1341.36 1109.02,1339.4 1109.31,1339.4 1109.6,1287.01 1109.89,1287.01 1110.18,1289.54 \n",
       "  1110.47,1289.54 1110.76,1277 1111.05,1289.54 1111.33,1289.54 1111.62,1289.54 1111.91,1352.09 1112.2,1352.09 1112.49,1352.09 1112.78,1352.09 1113.07,1352.09 \n",
       "  1113.36,1420.29 1113.65,1420.29 1113.93,1420.29 1114.22,1427.27 1114.51,1427.27 1114.8,1442.97 1115.09,1442.97 1115.38,1441.8 1115.67,1440.59 1115.96,1440.59 \n",
       "  1116.25,1440.59 1116.53,1440.59 1116.82,1440.59 1117.11,1440.59 1117.4,1424.78 1117.69,1424.78 1117.98,1445.7 1118.27,1445.7 1118.56,1445.7 1118.85,1445.7 \n",
       "  1119.14,1437.54 1119.42,1437.54 1119.71,1437.54 1120,1443.21 1120.29,1443.21 1120.58,1443.21 1120.87,1443.21 1121.16,1440.98 1121.45,1440.98 1121.74,1428.75 \n",
       "  1122.02,1417.49 1122.31,1443.83 1122.6,1443.83 1122.89,1443.83 1123.18,1443.83 1123.47,1441.41 1123.76,1441.41 1124.05,1411.4 1124.34,1411.4 1124.62,1411.4 \n",
       "  1124.91,1411.4 1125.2,1376.18 1125.49,1376.18 1125.78,1397.49 1126.07,1397.49 1126.36,1408.08 1126.65,1354.97 1126.94,1320.48 1127.23,1320.48 1127.51,1370 \n",
       "  1127.8,1370 1128.09,1370 1128.38,1370 1128.67,1407.98 1128.96,1407.98 1129.25,1407.98 1129.54,1407.98 1129.83,1407.98 1130.11,1391.64 1130.4,1391.64 \n",
       "  1130.69,1388.5 1130.98,1388.5 1131.27,1404.42 1131.56,1404.42 1131.85,1404.42 1132.14,1404.42 1132.43,1404.42 1132.71,1404.42 1133,1404.42 1133.29,1404.42 \n",
       "  1133.58,1404.42 1133.87,1404.42 1134.16,1404.42 1134.45,1433.09 1134.74,1433.09 1135.03,1433.09 1135.32,1433.09 1135.6,1433.09 1135.89,1433.09 1136.18,1433.09 \n",
       "  1136.47,1444.96 1136.76,1444.96 1137.05,1428.15 1137.34,1428.15 1137.63,1428.15 1137.92,1428.15 1138.2,1428.15 1138.49,1428.15 1138.78,1428.15 1139.07,1428.15 \n",
       "  1139.36,1428.15 1139.65,1443.89 1139.94,1443.89 1140.23,1389.73 1140.52,1389.73 1140.81,1389.73 1141.09,1420.96 1141.38,1394.74 1141.67,1394.74 1141.96,1413.69 \n",
       "  1142.25,1434.5 1142.54,1434.5 1142.83,1442 1143.12,1434.81 1143.41,1442.5 1143.69,1445.65 1143.98,1445.65 1144.27,1444.91 1144.56,1438.33 1144.85,1438.33 \n",
       "  1145.14,1438.33 1145.43,1438.33 1145.72,1438.33 1146.01,1438.33 1146.29,1438.33 1146.58,1438.33 1146.87,1439.98 1147.16,1439.98 1147.45,1439.98 1147.74,1439.98 \n",
       "  1148.03,1439.98 1148.32,1439.98 1148.61,1439.98 1148.9,1439.98 1149.18,1439.98 1149.47,1436.41 1149.76,1439.28 1150.05,1439.28 1150.34,1445.71 1150.63,1444.31 \n",
       "  1150.92,1444.31 1151.21,1444.31 1151.5,1444.31 1151.78,1444.31 1152.07,1444.31 1152.36,1444.31 1152.65,1444.31 1152.94,1444.31 1153.23,1444.31 1153.52,1444.31 \n",
       "  1153.81,1444.31 1154.1,1444.31 1154.38,1444.31 1154.67,1444.31 1154.96,1444.31 1155.25,1444.31 1155.54,1444.31 1155.83,1439.94 1156.12,1439.94 1156.41,1439.94 \n",
       "  1156.7,1439.94 1156.99,1439.94 1157.27,1445.53 1157.56,1445.53 1157.85,1444.81 1158.14,1444.81 1158.43,1444.81 1158.72,1444.81 1159.01,1444.81 1159.3,1444.81 \n",
       "  1159.59,1437.71 1159.87,1437.71 1160.16,1437.71 1160.45,1437.71 1160.74,1413.32 1161.03,1375.66 1161.32,1438.64 1161.61,1427.86 1161.9,1432.46 1162.19,1432.46 \n",
       "  1162.47,1432.46 1162.76,1078.18 1163.05,1288.37 1163.34,1288.37 1163.63,1285.97 1163.92,1285.97 1164.21,1445.09 1164.5,1437.43 1164.79,1361.54 1165.08,1369.73 \n",
       "  1165.36,1369.73 1165.65,1369.73 1165.94,1369.73 1166.23,1316.23 1166.52,1301.77 1166.81,1301.77 1167.1,1301.77 1167.39,1301.77 1167.68,1301.77 1167.96,1301.77 \n",
       "  1168.25,1301.77 1168.54,1301.77 1168.83,1301.77 1169.12,1273.92 1169.41,1413.02 1169.7,1393.34 1169.99,1393.34 1170.28,1393.34 1170.56,1393.34 1170.85,1393.34 \n",
       "  1171.14,1393.34 1171.43,1362.5 1171.72,1362.5 1172.01,1328.31 1172.3,1328.31 1172.59,1328.31 1172.88,1267.08 1173.17,1356.66 1173.45,1268.77 1173.74,1268.77 \n",
       "  1174.03,1264.55 1174.32,1264.55 1174.61,1186.36 1174.9,1186.36 1175.19,1186.36 1175.48,1186.36 1175.77,1437.21 1176.05,1445.46 1176.34,1445.46 1176.63,1395.6 \n",
       "  1176.92,1410.68 1177.21,1340.46 1177.5,1354.61 1177.79,1354.61 1178.08,1354.61 1178.37,1340.46 1178.66,1340.46 1178.94,1340.46 1179.23,1340.46 1179.52,1354.61 \n",
       "  1179.81,1368.97 1180.1,1368.97 1180.39,1355.97 1180.68,1355.97 1180.97,1368.97 1181.26,1396.32 1181.54,1385.32 1181.83,1251.1 1182.12,1251.1 1182.41,1251.1 \n",
       "  1182.7,1251.1 1182.99,1251.1 1183.28,1251.1 1183.57,1326.24 1183.86,1326.24 1184.14,1379.66 1184.43,1371.78 1184.72,1371.78 1185.01,1371.78 1185.3,1371.78 \n",
       "  1185.59,1353.22 1185.88,1400.99 1186.17,1400.99 1186.46,1400.99 1186.75,1400.99 1187.03,1396.24 1187.32,1396.24 1187.61,1396.24 1187.9,1403 1188.19,1403 \n",
       "  1188.48,1403 1188.77,1403 1189.06,1403 1189.35,1403 1189.63,1442.21 1189.92,1442.21 1190.21,1442.21 1190.5,1442.21 1190.79,1445.25 1191.08,1444.69 \n",
       "  1191.37,1433.82 1191.66,1433.82 1191.95,1433.82 1192.23,1437.19 1192.52,1437.19 1192.81,1437.19 1193.1,1442.98 1193.39,1442.98 1193.68,1445.1 1193.97,1445.1 \n",
       "  1194.26,1445.1 1194.55,1445.1 1194.84,1445.1 1195.12,1445.1 1195.41,1416.57 1195.7,1416.57 1195.99,1416.57 1196.28,1416.57 1196.57,1373.51 1196.86,1373.51 \n",
       "  1197.15,1373.51 1197.44,1373.51 1197.72,1373.51 1198.01,1373.51 1198.3,1373.51 1198.59,1373.51 1198.88,1373.51 1199.17,1373.51 1199.46,1387.86 1199.75,1376.64 \n",
       "  1200.04,1376.64 1200.32,1376.64 1200.61,1376.64 1200.9,1331.44 1201.19,1331.44 1201.48,1305.18 1201.77,1305.18 1202.06,1305.18 1202.35,1305.18 1202.64,1305.18 \n",
       "  1202.93,1305.18 1203.21,1316.64 1203.5,1316.64 1203.79,1388.69 1204.08,1305.24 1204.37,1305.36 1204.66,1336.1 1204.95,1256.21 1205.24,1243.05 1205.53,1415.36 \n",
       "  1205.81,1411.79 1206.1,1409.65 1206.39,1390.1 1206.68,1390.1 1206.97,1377.11 1207.26,1377.11 1207.55,1366.05 1207.84,1366.05 1208.13,1366.05 1208.41,1366.05 \n",
       "  1208.7,1366.05 1208.99,1368.24 1209.28,1368.24 1209.57,1368.24 1209.86,1368.24 1210.15,1368.24 1210.44,1368.24 1210.73,1368.24 1211.02,1410.49 1211.3,1410.49 \n",
       "  1211.59,1410.49 1211.88,1410.49 1212.17,1410.49 1212.46,1410.49 1212.75,1410.49 1213.04,1410.49 1213.33,1410.49 1213.62,1410.49 1213.9,1410.49 1214.19,1410.49 \n",
       "  1214.48,1417.11 1214.77,1417.11 1215.06,1417.11 1215.35,1417.11 1215.64,1436.71 1215.93,1436.71 1216.22,1436.71 1216.51,1436.71 1216.79,1436.71 1217.08,1436.71 \n",
       "  1217.37,1436.71 1217.66,1436.71 1217.95,1436.71 1218.24,1436.71 1218.53,1436.71 1218.82,1436.71 1219.11,1442.51 1219.39,1442.51 1219.68,1440.31 1219.97,1440.31 \n",
       "  1220.26,1440.31 1220.55,1440.31 1220.84,1440.31 1221.13,1440.31 1221.42,1418.94 1221.71,1418.94 1221.99,1404.62 1222.28,1404.62 1222.57,1398.28 1222.86,1398.28 \n",
       "  1223.15,1398.28 1223.44,1398.28 1223.73,1357.51 1224.02,1357.51 1224.31,1403 1224.6,1403 1224.88,1403 1225.17,1403 1225.46,1403 1225.75,1274.74 \n",
       "  1226.04,1318.27 1226.33,1318.27 1226.62,1318.27 1226.91,1318.27 1227.2,1318.27 1227.48,1318.27 1227.77,1318.27 1228.06,1318.27 1228.35,1231.95 1228.64,1240.23 \n",
       "  1228.93,1240.23 1229.22,1240.23 1229.51,1240.23 1229.8,1240.23 1230.08,1240.23 1230.37,1240.23 1230.66,1253.43 1230.95,1253.43 1231.24,1216.83 1231.53,1216.83 \n",
       "  1231.82,1216.83 1232.11,1216.83 1232.4,1269.56 1232.69,1269.56 1232.97,1269.56 1233.26,1269.56 1233.55,1387.42 1233.84,1412.76 1234.13,1412.76 1234.42,1412.76 \n",
       "  1234.71,1412.76 1235,1427.83 1235.29,1427.83 1235.57,1444.22 1235.86,1444.22 1236.15,1444.22 1236.44,1444.9 1236.73,1444.9 1237.02,1444.9 1237.31,1440.42 \n",
       "  1237.6,1440.42 1237.89,1440.42 1238.17,1440.42 1238.46,1440.42 1238.75,1440.42 1239.04,1442.83 1239.33,1442.83 1239.62,1442.83 1239.91,1442.83 1240.2,1442.83 \n",
       "  1240.49,1442.83 1240.78,1442.83 1241.06,1442.83 1241.35,1370.24 1241.64,1412.25 1241.93,1412.25 1242.22,1442.75 1242.51,1442.75 1242.8,1437.36 1243.09,1437.36 \n",
       "  1243.38,1441.31 1243.66,1441.31 1243.95,1411.73 1244.24,1411.73 1244.53,1411.73 1244.82,1414.24 1245.11,1414.24 1245.4,1411.23 1245.69,1415.85 1245.98,1437.85 \n",
       "  1246.26,1437.85 1246.55,1437.85 1246.84,1437.85 1247.13,1445.13 1247.42,1445.13 1247.71,1445.13 1248,1445.68 1248.29,1445.1 1248.58,1445.1 1248.87,1445.1 \n",
       "  1249.15,1445.1 1249.44,1445.1 1249.73,1425.23 1250.02,1425.23 1250.31,1397 1250.6,1397 1250.89,1397 1251.18,1397 1251.47,1397 1251.75,1397 \n",
       "  1252.04,1397 1252.33,1397 1252.62,1397 1252.91,1397 1253.2,1397 1253.49,1397 1253.78,1385.02 1254.07,1385.02 1254.36,1409.31 1254.64,1409.31 \n",
       "  1254.93,1409.31 1255.22,1409.31 1255.51,1409.31 1255.8,1409.31 1256.09,1409.31 1256.38,1409.31 1256.67,1409.31 1256.96,1414.15 1257.24,1414.15 1257.53,1437.77 \n",
       "  1257.82,1443.78 1258.11,1445.71 1258.4,1425.84 1258.69,1425.84 1258.98,1425.84 1259.27,1425.84 1259.56,1425.84 1259.84,1425.84 1260.13,1425.84 1260.42,1397.77 \n",
       "  1260.71,1397.77 1261,1389.77 1261.29,1389.77 1261.58,1406.54 1261.87,1406.54 1262.16,1395.59 1262.45,1395.59 1262.73,1392.23 1263.02,1392.23 1263.31,1389.08 \n",
       "  1263.6,1389.08 1263.89,1381.87 1264.18,1408.65 1264.47,1408.65 1264.76,1423.93 1265.05,1229.36 1265.33,1229.36 1265.62,1394.82 1265.91,1394.82 1266.2,1399.52 \n",
       "  1266.49,1399.52 1266.78,1404.49 1267.07,1404.49 1267.36,1404.49 1267.65,1404.49 1267.93,1438.81 1268.22,1438.81 1268.51,1438.81 1268.8,1431.84 1269.09,1077.88 \n",
       "  1269.38,1431.84 1269.67,1437.09 1269.96,1412.42 1270.25,1412.42 1270.54,1412.42 1270.82,1408.29 1271.11,1420.24 1271.4,1445.6 1271.69,1434.54 1271.98,1445.5 \n",
       "  1272.27,1445.5 1272.56,1445.71 1272.85,1445.12 1273.14,1442.51 1273.42,1445.71 1273.71,1438.13 1274,1440.92 1274.29,1443.07 1274.58,1444.68 1274.87,1444.68 \n",
       "  1275.16,1444.68 1275.45,1444.68 1275.74,1444.68 1276.02,1412.49 1276.31,1412.49 1276.6,1383.26 1276.89,1383.26 1277.18,1367.94 1277.47,1407.42 1277.76,1407.42 \n",
       "  1278.05,1438.16 1278.34,1438.16 1278.63,1414.44 1278.91,1414.44 1279.2,1426.68 1279.49,1426.68 1279.78,1433.06 1280.07,1433.06 1280.36,1433.06 1280.65,1435.5 \n",
       "  1280.94,1435.5 1281.23,1435.5 1281.51,1435.5 1281.8,1435.5 1282.09,1435.5 1282.38,1437.07 1282.67,1437.07 1282.96,1437.07 1283.25,1437.07 1283.54,1437.07 \n",
       "  1283.83,1437.07 1284.11,1437.07 1284.4,1437.07 1284.69,1437.07 1284.98,1437.07 1285.27,1445.6 1285.56,1445.6 1285.85,1445.6 1286.14,1445.6 1286.43,1445.69 \n",
       "  1286.72,1445.38 1287,1445.38 1287.29,1445.38 1287.58,1445.56 1287.87,1445.56 1288.16,1445.56 1288.45,1445.56 1288.74,1445.56 1289.03,1445.56 1289.32,1445.56 \n",
       "  1289.6,1431.7 1289.89,1431.7 1290.18,1434.17 1290.47,1434.17 1290.76,1434.17 1291.05,1434.17 1291.34,1434.17 1291.63,1434.17 1291.92,1434.17 1292.21,1434.17 \n",
       "  1292.49,1434.17 1292.78,1434.17 1293.07,1434.17 1293.36,1431.7 1293.65,1431.7 1293.94,1431.7 1294.23,1431.7 1294.52,1431.7 1294.81,1431.7 1295.09,1414.15 \n",
       "  1295.38,1414.15 1295.67,1379.5 1295.96,1379.5 1296.25,1379.5 1296.54,1379.5 1296.83,1379.5 1297.12,1379.5 1297.41,1364.55 1297.69,1364.55 1297.98,1350.84 \n",
       "  1298.27,1350.84 1298.56,1294.17 1298.85,1415.44 1299.14,1415.44 1299.43,1368.28 1299.72,1368.28 1300.01,1368.28 1300.3,1381.22 1300.58,1381.22 1300.87,1381.22 \n",
       "  1301.16,1397.59 1301.45,1397.59 1301.74,1397.59 1302.03,1397.59 1302.32,1391.29 1302.61,1391.29 1302.9,1361.95 1303.18,1361.95 1303.47,1368.2 1303.76,1368.2 \n",
       "  1304.05,1410.09 1304.34,1422.96 1304.63,1422.96 1304.92,1425.59 1305.21,1425.59 1305.5,1427.22 1305.78,1427.22 1306.07,1430.67 1306.36,1430.67 1306.65,1430.67 \n",
       "  1306.94,1430.67 1307.23,1430.67 1307.52,1430.67 1307.81,1439.46 1308.1,1439.46 1308.39,1439.46 1308.67,1439.46 1308.96,1436.06 1309.25,1432.37 1309.54,1432.37 \n",
       "  1309.83,1445.02 1310.12,1445.02 1310.41,1445.02 1310.7,1445.02 1310.99,1445.02 1311.27,1445.02 1311.56,1445.02 1311.85,1445.02 1312.14,1445.02 1312.43,1445.02 \n",
       "  1312.72,1445.02 1313.01,1444.45 1313.3,1444.45 1313.59,1444.45 1313.87,1442.15 1314.16,1442.15 1314.45,1442.15 1314.74,1442.15 1315.03,1445.23 1315.32,1445.23 \n",
       "  1315.61,1445.23 1315.9,1445.23 1316.19,1445.23 1316.48,1445.23 1316.76,1445.23 1317.05,1445.23 1317.34,1445.23 1317.63,1445.23 1317.92,1445.23 1318.21,1445.23 \n",
       "  1318.5,1406.82 1318.79,1406.58 1319.08,1406.58 1319.36,1406.58 1319.65,1397.37 1319.94,1397.37 1320.23,1397.37 1320.52,1397.37 1320.81,1397.37 1321.1,1397.37 \n",
       "  1321.39,1397.37 1321.68,1397.37 1321.96,1402.7 1322.25,1398.27 1322.54,1398.27 1322.83,1412.97 1323.12,1412.97 1323.41,1412.97 1323.7,1412.97 1323.99,1437.13 \n",
       "  1324.28,1437.13 1324.57,1437.13 1324.85,1437.13 1325.14,1437.13 1325.43,1437.13 1325.72,1437.13 1326.01,1437.13 1326.3,1437.13 1326.59,1437.13 1326.88,1437.13 \n",
       "  1327.17,1437.13 1327.45,1423.23 1327.74,1423.23 1328.03,1423.23 1328.32,1423.23 1328.61,1419.89 1328.9,1412.41 1329.19,1412.41 1329.48,1425.82 1329.77,1425.82 \n",
       "  1330.06,1425.82 1330.34,1429.61 1330.63,1429.61 1330.92,1429.61 1331.21,1429.61 1331.5,1429.61 1331.79,1434.41 1332.08,1434.41 1332.37,1434.41 1332.66,1434.41 \n",
       "  1332.94,1434.41 1333.23,1434.41 1333.52,1434.41 1333.81,1434.41 1334.1,1434.41 1334.39,1434.41 1334.68,1415.77 1334.97,1415.77 1335.26,1371.4 1335.54,1371.4 \n",
       "  1335.83,1371.4 1336.12,1371.4 1336.41,1371.4 1336.7,1381.16 1336.99,1381.16 1337.28,1381.16 1337.57,1381.16 1337.86,1411.04 1338.15,1411.04 1338.43,1426.29 \n",
       "  1338.72,1426.29 1339.01,1422.02 1339.3,1422.02 1339.59,1422.02 1339.88,1422.02 1340.17,1422.02 1340.46,1422.02 1340.75,1432.58 1341.03,1432.58 1341.32,1445.43 \n",
       "  1341.61,1445.43 1341.9,1445.43 1342.19,1445.43 1342.48,1445.43 1342.77,1445.43 1343.06,1445.43 1343.35,1445.43 1343.63,1445.43 1343.92,1445.43 1344.21,1444.63 \n",
       "  1344.5,1445.68 1344.79,1442.81 1345.08,1442.81 1345.37,1442.81 1345.66,1442.81 1345.95,1442.81 1346.24,1442.81 1346.52,1442.81 1346.81,1445.32 1347.1,1445.32 \n",
       "  1347.39,1445.32 1347.68,1445.32 1347.97,1445.32 1348.26,1445.32 1348.55,1433.65 1348.84,1433.65 1349.12,1444.3 1349.41,1444.3 1349.7,1444.3 1349.99,1444.3 \n",
       "  1350.28,1443.56 1350.57,1443.56 1350.86,1443.56 1351.15,1443.56 1351.44,1443.56 1351.72,1443.56 1352.01,1443.56 1352.3,1443.56 1352.59,1443.56 1352.88,1443.56 \n",
       "  1353.17,1445.68 1353.46,1436.81 1353.75,1436.81 1354.04,1439.82 1354.33,1439.82 1354.61,1439.82 1354.9,1439.82 1355.19,1439.82 1355.48,1439.82 1355.77,1439.82 \n",
       "  1356.06,1439.82 1356.35,1444.38 1356.64,1444.38 1356.93,1444.38 1357.21,1444.38 1357.5,1444.38 1357.79,1444.38 1358.08,1440.25 1358.37,1440.25 1358.66,1440.25 \n",
       "  1358.95,1418.92 1359.24,1418.92 1359.53,1418.92 1359.81,1418.92 1360.1,1433.96 1360.39,1433.96 1360.68,1433.96 1360.97,1433.96 1361.26,1433.96 1361.55,1410.62 \n",
       "  1361.84,1410.62 1362.13,1410.62 1362.42,1410.62 1362.7,1410.62 1362.99,1410.62 1363.28,1399.5 1363.57,1399.5 1363.86,1399.5 1364.15,1399.5 1364.44,1399.5 \n",
       "  1364.73,1399.5 1365.02,1399.5 1365.3,1399.5 1365.59,1399.5 1365.88,1430.06 1366.17,1430.06 1366.46,1430.06 1366.75,1430.06 1367.04,1444.32 1367.33,1443.61 \n",
       "  1367.62,1443.61 1367.9,1443.51 1368.19,1443.51 1368.48,1443.51 1368.77,1443.51 1369.06,1443.51 1369.35,1443.51 1369.64,1443.51 1369.93,1443.51 1370.22,1443.51 \n",
       "  1370.51,1443.51 1370.79,1443.51 1371.08,1443.51 1371.37,1443.51 1371.66,1443.51 1371.95,1443.51 1372.24,1443.51 1372.53,1443.51 1372.82,1440.26 1373.11,1441.41 \n",
       "  1373.39,1441.41 1373.68,1441.41 1373.97,1441.41 1374.26,1441.41 1374.55,1439.39 1374.84,1445.09 1375.13,1445.09 1375.42,1425.72 1375.71,1425.72 1376,1425.72 \n",
       "  1376.28,1425.72 1376.57,1425.72 1376.86,1425.72 1377.15,1425.72 1377.44,1425.72 1377.73,1425.72 1378.02,1425.72 1378.31,1422.36 1378.6,1422.36 1378.88,1440.29 \n",
       "  1379.17,1440.29 1379.46,1440.29 1379.75,1445.46 1380.04,1445.57 1380.33,1445.57 1380.62,1445.47 1380.91,1445.47 1381.2,1445.47 1381.48,1445.47 1381.77,1445.47 \n",
       "  1382.06,1387.9 1382.35,1382.99 1382.64,1382.99 1382.93,1382.99 1383.22,1382.99 1383.51,1373.13 1383.8,1373.13 1384.09,1373.13 1384.37,1373.13 1384.66,1387.47 \n",
       "  1384.95,1365.74 1385.24,1365.74 1385.53,1365.74 1385.82,1365.74 1386.11,1365.74 1386.4,1365.74 1386.69,1378.05 1386.97,1378.05 1387.26,1378.05 1387.55,1380.42 \n",
       "  1387.84,1385.4 1388.13,1385.4 1388.42,1426.94 1388.71,1392.06 1389,1392.06 1389.29,1429.22 1389.57,1438.46 1389.86,1438.46 1390.15,1438.46 1390.44,1438.46 \n",
       "  1390.73,1438.46 1391.02,1438.46 1391.31,1434.24 1391.6,1434.24 1391.89,1406.82 1392.18,1406.82 1392.46,1422.33 1392.75,1422.33 1393.04,1422.33 1393.33,1422.33 \n",
       "  1393.62,1422.33 1393.91,1422.33 1394.2,1422.33 1394.49,1409.61 1394.78,1409.61 1395.06,1414.92 1395.35,1414.92 1395.64,1438.51 1395.93,1441.69 1396.22,1433.26 \n",
       "  1396.51,1433.26 1396.8,1433.26 1397.09,1444.97 1397.38,1444.97 1397.66,1444.97 1397.95,1444.97 1398.24,1444.97 1398.53,1444.97 1398.82,1444.97 1399.11,1444.97 \n",
       "  1399.4,1444.97 1399.69,1444.97 1399.98,1444.97 1400.27,1444.97 1400.55,1444.97 1400.84,1445.37 1401.13,1445.37 1401.42,1420.32 1401.71,1420.32 1402,1357.04 \n",
       "  1402.29,1357.04 1402.58,1357.04 1402.87,1357.04 1403.15,1432.37 1403.44,1432.37 1403.73,1432.37 1404.02,1436.56 1404.31,1436.56 1404.6,1436.56 1404.89,1436.56 \n",
       "  1405.18,1438.62 1405.47,1417.25 1405.75,1417.25 1406.04,1445.32 1406.33,1445.32 1406.62,1445.32 1406.91,1445.32 1407.2,1445.32 1407.49,1445.32 1407.78,1425.35 \n",
       "  1408.07,1425.35 1408.36,1425.35 1408.64,1425.35 1408.93,1425.35 1409.22,1425.35 1409.51,1425.35 1409.8,1425.35 1410.09,1425.35 1410.38,1425.35 1410.67,1413.65 \n",
       "  1410.96,1413.65 1411.24,1413.65 1411.53,1406.76 1411.82,1406.76 1412.11,1406.76 1412.4,1406.76 1412.69,1406.76 1412.98,1406.76 1413.27,1426.66 1413.56,1431.7 \n",
       "  1413.85,1431.7 1414.13,1431.7 1414.42,1442.24 1414.71,1442.24 1415,1442.24 1415.29,1442.24 1415.58,1442.24 1415.87,1442.24 1416.16,1442.24 1416.45,1442.24 \n",
       "  1416.73,1442.24 1417.02,1435.57 1417.31,1434.06 1417.6,1434.06 1417.89,1416.28 1418.18,1408.04 1418.47,1408.04 1418.76,1407.01 1419.05,1407.01 1419.33,1407.01 \n",
       "  1419.62,1409.7 1419.91,1409.7 1420.2,1409.7 1420.49,1409.7 1420.78,1427.04 1421.07,1427.04 1421.36,1427.04 1421.65,1436.28 1421.94,1436.28 1422.22,1432.73 \n",
       "  1422.51,1418.01 1422.8,1418.01 1423.09,1418.01 1423.38,1375.98 1423.67,1375.98 1423.96,1309.57 1424.25,1309.25 1424.54,1286.98 1424.82,1286.98 1425.11,1286.98 \n",
       "  1425.4,1346.38 1425.69,1308.18 1425.98,1334.16 1426.27,1334.16 1426.56,1287.58 1426.85,1441.64 1427.14,1441.64 1427.42,1441.64 1427.71,1441.64 1428,1401.42 \n",
       "  1428.29,1401.42 1428.58,1425.19 1428.87,1407 1429.16,1429.89 1429.45,1433.54 1429.74,1433.54 1430.03,1433.54 1430.31,1441.77 1430.6,1441.77 1430.89,1445.63 \n",
       "  1431.18,1445.63 1431.47,1443.38 1431.76,1443.38 1432.05,1443.38 1432.34,1443.38 1432.63,1443.38 1432.91,1443.38 1433.2,1427.46 1433.49,1427.46 1433.78,1427.46 \n",
       "  1434.07,1427.46 1434.36,1444.79 1434.65,1364.79 1434.94,1364.79 1435.23,1379.74 1435.51,1379.74 1435.8,1379.74 1436.09,1393.77 1436.38,1393.77 1436.67,1393.77 \n",
       "  1436.96,1354.06 1437.25,1354.06 1437.54,1354.06 1437.83,1354.06 1438.12,1354.06 1438.4,1354.06 1438.69,1354.06 1438.98,1354.06 1439.27,1354.06 1439.56,1354.06 \n",
       "  1439.85,1354.06 1440.14,1354.06 1440.43,1329.26 1440.72,1329.26 1441,1329.26 1441.29,1329.26 1441.58,1334.66 1441.87,1298.81 1442.16,1298.81 1442.45,1298.81 \n",
       "  1442.74,1298.81 1443.03,1298.81 1443.32,1298.81 1443.6,1415.43 1443.89,1415.43 1444.18,1415.43 1444.47,1415.43 1444.76,1415.43 1445.05,1415.43 1445.34,1415.43 \n",
       "  1445.63,1415.43 1445.92,1409.56 1446.21,1409.56 1446.49,1409.56 1446.78,1409.56 1447.07,1409.56 1447.36,1409.56 1447.65,1409.56 1447.94,1444.84 1448.23,1436.57 \n",
       "  1448.52,1436.57 1448.81,1436.57 1449.09,1436.57 1449.38,1436.57 1449.67,1436.57 1449.96,1439.2 1450.25,1439.2 1450.54,1439.2 1450.83,1439.2 1451.12,1439.2 \n",
       "  1451.41,1439.2 1451.7,1439.2 1451.98,1439.2 1452.27,1412.28 1452.56,1412.28 1452.85,1377.02 1453.14,1363.6 1453.43,1363.6 1453.72,1328.92 1454.01,1328.92 \n",
       "  1454.3,1328.92 1454.58,1328.92 1454.87,1328.92 1455.16,1328.92 1455.45,1416.16 1455.74,1445.7 1456.03,1445.7 1456.32,1445.7 1456.61,1445.7 1456.9,1445.7 \n",
       "  1457.18,1445.7 1457.47,1445.68 1457.76,1445.68 1458.05,1445.42 1458.34,1445.42 1458.63,1417.98 1458.92,1442.06 1459.21,1442.06 1459.5,1442.06 1459.79,1444.93 \n",
       "  1460.07,1426.6 1460.36,1426.6 1460.65,1426.6 1460.94,1426.6 1461.23,1426.6 1461.52,1426.6 1461.81,1426.6 1462.1,1426.6 1462.39,1419.57 1462.67,1419.57 \n",
       "  1462.96,1419.57 1463.25,1419.57 1463.54,1419.57 1463.83,1419.57 1464.12,1419.57 1464.41,1419.57 1464.7,1419.57 1464.99,1419.57 1465.27,1417.53 1465.56,1328.44 \n",
       "  1465.85,1435.23 1466.14,1415.93 1466.43,1415.93 1466.72,1401.78 1467.01,1401.78 1467.3,1401.78 1467.59,1401.78 1467.88,1401.78 1468.16,1401.78 1468.45,1401.78 \n",
       "  1468.74,1401.78 1469.03,1401.78 1469.32,1401.78 1469.61,1401.78 1469.9,1437.03 1470.19,1437.03 1470.48,1437.03 1470.76,1437.03 1471.05,1437.03 1471.34,1437.03 \n",
       "  1471.63,1437.03 1471.92,1413.04 1472.21,1413.04 1472.5,1420.12 1472.79,1420.12 1473.08,1420.12 1473.36,1352.3 1473.65,1339.59 1473.94,1339.59 1474.23,1339.59 \n",
       "  1474.52,1339.59 1474.81,1339.59 1475.1,1339.59 1475.39,1384.87 1475.68,1279.37 1475.97,1279.37 1476.25,1360.64 1476.54,1295.23 1476.83,1295.23 1477.12,1182.28 \n",
       "  1477.41,1182.28 1477.7,1300.64 1477.99,1300.64 1478.28,1428.8 1478.57,1445.7 1478.85,1445.7 1479.14,1445.7 1479.43,1445.7 1479.72,1445.7 1480.01,1445.7 \n",
       "  1480.3,1445.11 1480.59,1445.11 1480.88,1426.08 1481.17,1426.08 1481.45,1426.08 1481.74,1426.08 1482.03,1426.08 1482.32,1426.08 1482.61,1426.08 1482.9,1426.08 \n",
       "  1483.19,1428.23 1483.48,1415.22 1483.77,1415.22 1484.06,1415.22 1484.34,1415.22 1484.63,1415.22 1484.92,1370.24 1485.21,1427.51 1485.5,1427.51 1485.79,1427.51 \n",
       "  1486.08,1427.51 1486.37,1428.78 1486.66,1428.78 1486.94,1430.83 1487.23,1430.83 1487.52,1430.83 1487.81,1418.51 1488.1,1418.51 1488.39,1418.51 1488.68,1418.51 \n",
       "  1488.97,1187.35 1489.26,1151.3 1489.55,1146.93 1489.83,1146.93 1490.12,1146.93 1490.41,1146.93 1490.7,1112.15 1490.99,1112.15 1491.28,1311.96 1491.57,1311.96 \n",
       "  1491.86,1311.96 1492.15,1311.96 1492.43,1334.61 1492.72,1334.61 1493.01,1407.05 1493.3,1407.05 1493.59,1334.61 1493.88,1334.61 1494.17,1334.61 1494.46,1334.61 \n",
       "  1494.75,1334.61 1495.03,1350.52 1495.32,1350.52 1495.61,1350.52 1495.9,1350.52 1496.19,1350.52 1496.48,1350.52 1496.77,1350.52 1497.06,1350.52 1497.35,1350.83 \n",
       "  1497.64,1350.83 1497.92,1350.83 1498.21,1350.83 1498.5,1350.83 1498.79,1350.83 1499.08,1350.83 1499.37,1350.83 1499.66,1350.83 1499.95,1415.29 1500.24,1415.29 \n",
       "  1500.52,1415.29 1500.81,1415.29 1501.1,1415.29 1501.39,1411.49 1501.68,1411.48 1501.97,1411.48 1502.26,1410.26 1502.55,1410.26 1502.84,1410.26 1503.12,1410.26 \n",
       "  1503.41,1410.26 1503.7,1418.23 1503.99,1426.08 1504.28,1426.08 1504.57,1426.08 1504.86,1417.89 1505.15,1417.89 1505.44,1380.53 1505.73,1436.36 1506.01,1444.7 \n",
       "  1506.3,1444.7 1506.59,1444.7 1506.88,1444.7 1507.17,1444.7 1507.46,1445.48 1507.75,1445.48 1508.04,1445.48 1508.33,1436.75 1508.61,1436.75 1508.9,1267.06 \n",
       "  1509.19,1267.06 1509.48,1297.84 1509.77,1297.84 1510.06,1297.84 1510.35,1297.84 1510.64,1297.84 1510.93,1297.84 1511.21,1297.84 1511.5,1297.84 1511.79,1297.84 \n",
       "  1512.08,1297.84 1512.37,1297.84 1512.66,1297.84 1512.95,1297.84 1513.24,1297.84 1513.53,1360 1513.82,1360 1514.1,1360 1514.39,1243.57 1514.68,1082.93 \n",
       "  1514.97,1082.93 1515.26,1343.22 1515.55,1343.22 1515.84,1358.81 1516.13,1358.81 1516.42,1358.81 1516.7,1358.81 1516.99,1358.81 1517.28,1358.81 1517.57,1431.34 \n",
       "  1517.86,1431.34 1518.15,1431.34 1518.44,1431.34 1518.73,1431.34 1519.02,1431.34 1519.3,1431.34 1519.59,1431.34 1519.88,1431.34 1520.17,1407.01 1520.46,1402.42 \n",
       "  1520.75,1362.85 1521.04,1362.85 1521.33,1407.44 1521.62,1407.44 1521.91,1407.44 1522.19,1443.81 1522.48,1443.81 1522.77,1443.81 1523.06,1445.34 1523.35,1445.69 \n",
       "  1523.64,1445.69 1523.93,1445.69 1524.22,1445.69 1524.51,1445.69 1524.79,1388.32 1525.08,1386.56 1525.37,1386.56 1525.66,1361.65 1525.95,1361.65 1526.24,1309.4 \n",
       "  1526.53,1309.4 1526.82,1401.49 1527.11,1401.49 1527.4,1401.49 1527.68,1401.49 1527.97,1401.49 1528.26,1401.49 1528.55,1401.49 1528.84,1401.49 1529.13,1359.74 \n",
       "  1529.42,1359.74 1529.71,1359.74 1530,1359.74 1530.28,1405.86 1530.57,1405.86 1530.86,1405.86 1531.15,1405.86 1531.44,1405.86 1531.73,1401.83 1532.02,1352.9 \n",
       "  1532.31,1349.81 1532.6,1349.81 1532.88,1404.95 1533.17,1404.95 1533.46,1404.95 1533.75,1404.95 1534.04,1404.95 1534.33,1404.95 1534.62,1404.95 1534.91,1404.95 \n",
       "  1535.2,1404.95 1535.49,1404.95 1535.77,1404.95 1536.06,1411.39 1536.35,1411.39 1536.64,1411.39 1536.93,1403.32 1537.22,1403.32 1537.51,1417.87 1537.8,1417.87 \n",
       "  1538.09,1417.87 1538.37,1417.87 1538.66,1417.87 1538.95,1415.54 1539.24,1441.23 1539.53,1425.38 1539.82,1422.17 1540.11,1422.17 1540.4,1422.17 1540.69,1422.17 \n",
       "  1540.97,1438.51 1541.26,1438.51 1541.55,1438.51 1541.84,1438.51 1542.13,1418.92 1542.42,1375.67 1542.71,1375.67 1543,1375.67 1543.29,1375.67 1543.58,1375.67 \n",
       "  1543.86,1370.34 1544.15,1370.34 1544.44,1370.34 1544.73,1370.34 1545.02,1370.34 1545.31,1370.34 1545.6,1370.34 1545.89,1370.34 1546.18,1370.34 1546.46,1370.34 \n",
       "  1546.75,1370.34 1547.04,1370.34 1547.33,1370.34 1547.62,1370.34 1547.91,1389.22 1548.2,1389.22 1548.49,1389.22 1548.78,1389.22 1549.06,1389.22 1549.35,1389.22 \n",
       "  1549.64,1389.22 1549.93,1389.22 1550.22,1385.11 1550.51,1385.11 1550.8,1412.04 1551.09,1412.04 1551.38,1413.78 1551.67,1413.78 1551.95,1409.01 1552.24,1409.01 \n",
       "  1552.53,1409.01 1552.82,1409.01 1553.11,1409.01 1553.4,1409.01 1553.69,1409.01 1553.98,1409.01 1554.27,1409.01 1554.55,1409.01 1554.84,1409.01 1555.13,1409.01 \n",
       "  1555.42,1409.01 1555.71,1393.33 1556,1391.94 1556.29,1369.33 1556.58,1406.53 1556.87,1406.53 1557.15,1351.59 1557.44,1351.59 1557.73,1351.59 1558.02,1323.41 \n",
       "  1558.31,1383.99 1558.6,1383.99 1558.89,1383.99 1559.18,1383.99 1559.47,1384.23 1559.76,1384.23 1560.04,1384.23 1560.33,1384.23 1560.62,1364.79 1560.91,1364.79 \n",
       "  1561.2,1364.79 1561.49,1364.79 1561.78,1364.79 1562.07,1364.79 1562.36,1348.63 1562.64,1335.25 1562.93,1335.25 1563.22,1221.72 1563.51,1221.72 1563.8,1221.72 \n",
       "  1564.09,1140.29 1564.38,1140.29 1564.67,1149.34 1564.96,1247.32 1565.25,1247.32 1565.53,1170.33 1565.82,1170.33 1566.11,1137.25 1566.4,1228.28 1566.69,1228.28 \n",
       "  1566.98,1228.28 1567.27,1210.21 1567.56,1210.21 1567.85,1325.56 1568.13,1258.04 1568.42,1258.04 1568.71,1258.04 1569,1258.04 1569.29,1243.78 1569.58,1243.78 \n",
       "  1569.87,1243.78 1570.16,1393.23 1570.45,1393.23 1570.73,1432.33 1571.02,1439.84 1571.31,1439.84 1571.6,1442.88 1571.89,1441.84 1572.18,1441.84 1572.47,1441.84 \n",
       "  1572.76,1440.85 1573.05,1440.85 1573.34,1440.85 1573.62,1440.85 1573.91,1369.16 1574.2,1369.16 1574.49,1411.4 1574.78,1411.4 1575.07,1411.4 1575.36,1411.4 \n",
       "  1575.65,1411.4 1575.94,1411.4 1576.22,1411.4 1576.51,1411.4 1576.8,1410.56 1577.09,1410.56 1577.38,1411.11 1577.67,1411.11 1577.96,1415.2 1578.25,1408.08 \n",
       "  1578.54,1401.83 1578.82,1401.83 1579.11,1431.72 1579.4,1431.72 1579.69,1436.6 1579.98,1436.6 1580.27,1433.91 1580.56,1433.91 1580.85,1440.55 1581.14,1440.55 \n",
       "  1581.43,1440.55 1581.71,1440.55 1582,1443.72 1582.29,1443.72 1582.58,1441.36 1582.87,1441.36 1583.16,1434.91 1583.45,1440.86 1583.74,1423.58 1584.03,1423.58 \n",
       "  1584.31,1415.09 1584.6,1415.09 1584.89,1415.09 1585.18,1415.09 1585.47,1404.07 1585.76,1404.07 1586.05,1404.07 1586.34,1404.07 1586.63,1442.03 1586.91,1442.03 \n",
       "  1587.2,1442.03 1587.49,1442.03 1587.78,1439.24 1588.07,1442.03 1588.36,1442.03 1588.65,1444.95 1588.94,1444.99 1589.23,1445.13 1589.52,1445.13 1589.8,1445.7 \n",
       "  1590.09,1445.7 1590.38,1445.7 1590.67,1445.43 1590.96,1445.2 1591.25,1445.2 1591.54,1444.92 1591.83,1444.92 1592.12,1444.92 1592.4,1445.11 1592.69,1441.05 \n",
       "  1592.98,1441.05 1593.27,1445.22 1593.56,1445.22 1593.85,1445.22 1594.14,1445.22 1594.43,1375.6 1594.72,1375.6 1595,1367.63 1595.29,1367.63 1595.58,1367.63 \n",
       "  1595.87,1367.63 1596.16,1367.63 1596.45,1366.06 1596.74,1310.47 1597.03,1310.47 1597.32,1445.71 1597.61,1445.71 1597.89,1445.71 1598.18,1445.71 1598.47,1445.71 \n",
       "  1598.76,1431.87 1599.05,1439.78 1599.34,1439.78 1599.63,1444.15 1599.92,1441.27 1600.21,1441.27 1600.49,1441.27 1600.78,1441.27 1601.07,1421.25 1601.36,1441.33 \n",
       "  1601.65,1441.33 1601.94,1441.33 1602.23,1442.71 1602.52,1442.71 1602.81,1442.71 1603.09,1442.71 1603.38,1401.73 1603.67,1401.73 1603.96,1401.73 1604.25,1352.86 \n",
       "  1604.54,1352.86 1604.83,1352.86 1605.12,1352.86 1605.41,1321.8 1605.7,1315.95 1605.98,1186.62 1606.27,1021.46 1606.56,1021.46 1606.85,1021.46 1607.14,1021.46 \n",
       "  1607.43,1021.46 1607.72,1021.46 1608.01,1021.46 1608.3,1021.46 1608.58,1021.46 1608.87,1021.46 1609.16,1021.46 1609.45,1021.46 1609.74,1021.46 1610.03,1021.46 \n",
       "  1610.32,1021.46 1610.61,1021.46 1610.9,1021.46 1611.19,1082.56 1611.47,1012.44 1611.76,1012.44 1612.05,954.626 1612.34,937.335 1612.63,937.335 1612.92,937.335 \n",
       "  1613.21,937.335 1613.5,937.335 1613.79,937.335 1614.07,937.335 1614.36,1188.72 1614.65,1188.72 1614.94,1085.04 1615.23,1085.04 1615.52,1085.04 1615.81,1085.04 \n",
       "  1616.1,1085.04 1616.39,1085.04 1616.67,1085.04 1616.96,1085.04 1617.25,1085.04 1617.54,1085.04 1617.83,1051.36 1618.12,1353.33 1618.41,1348.78 1618.7,1348.78 \n",
       "  1618.99,1294.61 1619.28,1294.61 1619.56,1294.61 1619.85,1294.61 1620.14,1215.97 1620.43,1215.97 1620.72,920.72 1621.01,920.72 1621.3,920.72 1621.59,920.72 \n",
       "  1621.88,920.72 1622.16,901.717 1622.45,873.233 1622.74,873.233 1623.03,918.43 1623.32,918.43 1623.61,918.43 1623.9,918.43 1624.19,918.43 1624.48,918.43 \n",
       "  1624.76,918.43 1625.05,918.43 1625.34,918.43 1625.63,918.43 1625.92,918.43 1626.21,918.43 1626.5,918.43 1626.79,918.43 1627.08,918.43 1627.37,963.142 \n",
       "  1627.65,963.142 1627.94,963.142 1628.23,963.142 1628.52,963.142 1628.81,710.861 1629.1,710.861 1629.39,710.861 1629.68,710.861 1629.97,710.861 1630.25,710.861 \n",
       "  1630.54,685.619 1630.83,693.078 1631.12,693.078 1631.41,693.078 1631.7,712.347 1631.99,954.877 1632.28,970.287 1632.57,1005.2 1632.85,1005.2 1633.14,1005.2 \n",
       "  1633.43,1051.79 1633.72,1051.79 1634.01,1051.79 1634.3,1051.79 1634.59,932.909 1634.88,1141.68 1635.17,956.817 1635.46,956.817 1635.74,956.817 1636.03,956.817 \n",
       "  1636.32,874.979 1636.61,1007.18 1636.9,1076.67 1637.19,1076.67 1637.48,1076.67 1637.77,1007.18 1638.06,1076.67 1638.34,1044.42 1638.63,1044.42 1638.92,1044.42 \n",
       "  1639.21,1044.42 1639.5,951.32 1639.79,951.32 1640.08,951.32 1640.37,951.32 1640.66,951.32 1640.94,951.32 1641.23,951.32 1641.52,951.32 1641.81,793.226 \n",
       "  1642.1,793.226 1642.39,793.226 1642.68,793.226 1642.97,793.226 1643.26,793.226 1643.55,556.539 1643.83,556.539 1644.12,740.554 1644.41,740.554 1644.7,740.554 \n",
       "  1644.99,698.955 1645.28,942.9 1645.57,942.9 1645.86,942.9 1646.15,942.9 1646.43,924.41 1646.72,930.451 1647.01,986.818 1647.3,986.818 1647.59,1001.88 \n",
       "  1647.88,1050.48 1648.17,1238.65 1648.46,1262.82 1648.75,1262.82 1649.04,1253 1649.32,1182.95 1649.61,1182.95 1649.9,1182.95 1650.19,1130.43 1650.48,1130.43 \n",
       "  1650.77,1130.43 1651.06,1154.42 1651.35,1154.42 1651.64,1072.54 1651.92,1072.54 1652.21,904.736 1652.5,904.736 1652.79,904.736 1653.08,904.736 1653.37,904.736 \n",
       "  1653.66,904.736 1653.95,904.736 1654.24,904.736 1654.52,904.736 1654.81,904.736 1655.1,904.736 1655.39,904.736 1655.68,909.69 1655.97,958.48 1656.26,958.48 \n",
       "  1656.55,958.48 1656.84,769.191 1657.13,745.275 1657.41,745.275 1657.7,850.97 1657.99,850.97 1658.28,850.97 1658.57,850.97 1658.86,890.396 1659.15,1044.26 \n",
       "  1659.44,1044.26 1659.73,1044.26 1660.01,1044.26 1660.3,1044.26 1660.59,1044.26 1660.88,1044.26 1661.17,1044.26 1661.46,1044.26 1661.75,1044.26 1662.04,1044.26 \n",
       "  1662.33,1096.17 1662.61,1096.17 1662.9,1250.3 1663.19,1246.29 1663.48,1342.74 1663.77,1342.74 1664.06,1342.74 1664.35,1342.74 1664.64,1342.74 1664.93,1342.74 \n",
       "  1665.22,1342.74 1665.5,1342.74 1665.79,1342.74 1666.08,1342.74 1666.37,1342.74 1666.66,1342.74 1666.95,1342.74 1667.24,1342.74 1667.53,1335.43 1667.82,1335.43 \n",
       "  1668.1,1346.42 1668.39,1190.7 1668.68,1190.7 1668.97,1231.55 1669.26,1231.55 1669.55,1231.55 1669.84,1266.27 1670.13,1266.27 1670.42,1266.27 1670.7,1317.52 \n",
       "  1670.99,1317.52 1671.28,1380.53 1671.57,1380.53 1671.86,1338.59 1672.15,1348.51 1672.44,1348.51 1672.73,1348.51 1673.02,1348.51 1673.31,1354.51 1673.59,1354.51 \n",
       "  1673.88,1370.21 1674.17,1307.12 1674.46,1288.58 1674.75,1254.9 1675.04,1262.07 1675.33,1262.07 1675.62,1262.07 1675.91,1262.07 1676.19,1262.07 1676.48,1209.5 \n",
       "  1676.77,1209.5 1677.06,1209.5 1677.35,1287.46 1677.64,1099.94 1677.93,1099.94 1678.22,983.094 1678.51,1021.68 1678.79,1227.8 1679.08,1227.8 1679.37,1227.8 \n",
       "  1679.66,1217.79 1679.95,1305.01 1680.24,1342.54 1680.53,1342.54 1680.82,1342.54 1681.11,1393.48 1681.4,1393.48 1681.68,1445.53 1681.97,1445.65 1682.26,1445.71 \n",
       "  1682.55,1445.71 1682.84,1437.43 1683.13,1437.43 1683.42,1437.43 1683.71,1398.89 1684,1398.89 1684.28,1426.36 1684.57,1426.36 1684.86,1426.36 1685.15,1426.36 \n",
       "  1685.44,1426.36 1685.73,1426.36 1686.02,1426.36 1686.31,922.086 1686.6,922.086 1686.89,922.086 1687.17,1171.09 1687.46,1208.52 1687.75,1246.9 1688.04,1246.9 \n",
       "  1688.33,1246.9 1688.62,1246.9 1688.91,1246.9 1689.2,1254.45 1689.49,1254.45 1689.77,1254.45 1690.06,1232.84 1690.35,1294.89 1690.64,1340.58 1690.93,1340.58 \n",
       "  1691.22,1350.77 1691.51,1405.32 1691.8,1405.32 1692.09,1405.32 1692.37,1415.41 1692.66,1425.08 1692.95,1409.64 1693.24,1391.51 1693.53,1391.51 1693.82,1391.51 \n",
       "  1694.11,1391.51 1694.4,1385.75 1694.69,1385.75 1694.98,1385.75 1695.26,1385.75 1695.55,1411.72 1695.84,1411.72 1696.13,1411.72 1696.42,1403.59 1696.71,1413.98 \n",
       "  1697,1413.98 1697.29,1413.98 1697.58,1413.98 1697.86,1413.98 1698.15,1413.98 1698.44,1419.56 1698.73,1426.25 1699.02,1431.02 1699.31,1435.61 1699.6,1437.86 \n",
       "  1699.89,1440.1 1700.18,1440.1 1700.46,1440.1 1700.75,1440.1 1701.04,1440.1 1701.33,1440.1 1701.62,1440.1 1701.91,1440.1 1702.2,1444.71 1702.49,1444.71 \n",
       "  1702.78,1443.41 1703.07,1443.41 1703.35,1429.06 1703.64,1429.06 1703.93,1429.06 1704.22,1398.28 1704.51,1390.48 1704.8,1384.54 1705.09,1384.54 1705.38,1384.54 \n",
       "  1705.67,1384.54 1705.95,1295.1 1706.24,1295.1 1706.53,1396.63 1706.82,1415.18 1707.11,1415.18 1707.4,1415.18 1707.69,1415.18 1707.98,1415.18 1708.27,1441.18 \n",
       "  1708.55,1424.51 1708.84,1385.98 1709.13,1385.98 1709.42,1385.98 1709.71,1385.98 1710,1385.98 1710.29,1430.52 1710.58,1444.91 1710.87,1431.36 1711.16,1431.36 \n",
       "  1711.44,1431.36 1711.73,1431.36 1712.02,1431.36 1712.31,1431.36 1712.6,1425.68 1712.89,1442.2 1713.18,1364.8 1713.47,1275.91 1713.76,1268.85 1714.04,1268.85 \n",
       "  1714.33,1268.85 1714.62,1281.7 1714.91,1300.41 1715.2,1205 1715.49,1174.47 1715.78,1309.68 1716.07,1309.68 1716.36,1280.84 1716.64,1362.63 1716.93,1412.73 \n",
       "  1717.22,1427.79 1717.51,1445.6 1717.8,1443.22 1718.09,1443.22 1718.38,1443.22 1718.67,1443.22 1718.96,1436.03 1719.25,1445.06 1719.53,1440.55 1719.82,1440.55 \n",
       "  1720.11,1440.55 1720.4,1427.75 1720.69,1427.75 1720.98,1427.75 1721.27,1427.75 1721.56,1445.5 1721.85,1445.5 1722.13,1416.97 1722.42,1422.24 1722.71,1422.24 \n",
       "  1723,1422.24 1723.29,1422.24 1723.58,1413.89 1723.87,1413.89 1724.16,1413.89 1724.45,1413.89 1724.74,1438.1 1725.02,1438.1 1725.31,1438.1 1725.6,1438.1 \n",
       "  1725.89,1434.93 1726.18,1434.93 1726.47,1434.93 1726.76,1434.93 1727.05,1434.93 1727.34,1431.79 1727.62,1401.89 1727.91,1437.69 1728.2,1443.88 1728.49,1445.39 \n",
       "  1728.78,1445.39 1729.07,1445.39 1729.36,1445.39 1729.65,1445.39 1729.94,1445.65 1730.22,1445.69 1730.51,1445.69 1730.8,1445.22 1731.09,1445.22 1731.38,1445.22 \n",
       "  1731.67,1440.78 1731.96,1437.48 1732.25,1433.72 1732.54,1433.72 1732.83,1433.72 1733.11,1433.72 1733.4,1445.49 1733.69,1445.49 1733.98,1445.49 1734.27,1445.49 \n",
       "  1734.56,1445.49 1734.85,1445.49 1735.14,1445.49 1735.43,1445.49 1735.71,1444.99 1736,1444.99 1736.29,1444.99 1736.58,1444.99 1736.87,1444.99 1737.16,1444.99 \n",
       "  1737.45,1444.99 1737.74,1433.49 1738.03,1433.49 1738.31,1435.94 1738.6,1435.94 1738.89,1435.94 1739.18,1439.31 1739.47,1428.24 1739.76,1428.24 1740.05,1409.18 \n",
       "  1740.34,1417.13 1740.63,1429.87 1740.92,1429.87 1741.2,1429.87 1741.49,1429.87 1741.78,1429.87 1742.07,1403.72 1742.36,1403.72 1742.65,1418.15 1742.94,1439.87 \n",
       "  1743.23,1414.82 1743.52,1414.82 1743.8,1414.82 1744.09,1417.74 1744.38,1307.31 1744.67,1257.17 1744.96,1257.17 1745.25,1291.57 1745.54,1307.12 1745.83,1307.12 \n",
       "  1746.12,1307.12 1746.4,1307.12 1746.69,1422.34 1746.98,1394.72 1747.27,1394.72 1747.56,1394.72 1747.85,1394.72 1748.14,1394.72 1748.43,1422.55 1748.72,1422.55 \n",
       "  1749.01,1422.55 1749.29,1422.55 1749.58,1422.55 1749.87,1425.39 1750.16,1425.39 1750.45,1444.31 1750.74,1444.31 1751.03,1445.61 1751.32,1445.61 1751.61,1445.61 \n",
       "  1751.89,1439.3 1752.18,1445.66 1752.47,1444.91 1752.76,1410.18 1753.05,1410.18 1753.34,1444.56 1753.63,1444.56 1753.92,1439.41 1754.21,1439.41 1754.49,1401.48 \n",
       "  1754.78,1401.48 1755.07,1401.48 1755.36,1416.09 1755.65,1416.09 1755.94,1408.36 1756.23,1425.98 1756.52,1431.72 1756.81,1436.89 1757.1,1436.89 1757.38,1436.89 \n",
       "  1757.67,1436.89 1757.96,1425.78 1758.25,1425.78 1758.54,1421.56 1758.83,1421.56 1759.12,1421.56 1759.41,1445.47 1759.7,1445.47 1759.98,1445.47 1760.27,1445.47 \n",
       "  1760.56,1445.47 1760.85,1445.47 1761.14,1445.47 1761.43,1445.47 1761.72,1445.47 1762.01,1445.47 1762.3,1442.32 1762.59,1431.76 1762.87,1431.76 1763.16,1431.76 \n",
       "  1763.45,1431.76 1763.74,1431.76 1764.03,1431.76 1764.32,1431.76 1764.61,1431.76 1764.9,1443.92 1765.19,1417.91 1765.47,1436.59 1765.76,1436.59 1766.05,1436.59 \n",
       "  1766.34,1442.41 1766.63,1442.41 1766.92,1428.77 1767.21,1442.98 1767.5,1438.33 1767.79,1430.66 1768.07,1429.89 1768.36,1429.89 1768.65,1429.89 1768.94,1429.89 \n",
       "  1769.23,1429.33 1769.52,1445.36 1769.81,1445.36 1770.1,1445.36 1770.39,1445.36 1770.68,1445.36 1770.96,1400.19 1771.25,1400.19 1771.54,1400.19 1771.83,1400.19 \n",
       "  1772.12,1393.88 1772.41,1393.88 1772.7,1393.88 1772.99,1393.88 1773.28,1393.88 1773.56,1427.92 1773.85,1427.92 1774.14,1421.85 1774.43,1421.85 1774.72,1389.92 \n",
       "  1775.01,1389.92 1775.3,1389.92 1775.59,1389.92 1775.88,1420.21 1776.16,1420.21 1776.45,1425.52 1776.74,1441.85 1777.03,1441.85 1777.32,1441.85 1777.61,1441.85 \n",
       "  1777.9,1441.85 1778.19,1443.77 1778.48,1445.1 1778.77,1445.1 1779.05,1442.62 1779.34,1429.03 1779.63,1429.03 1779.92,1429.03 1780.21,1429.03 1780.5,1422.18 \n",
       "  1780.79,1422.18 1781.08,1422.18 1781.37,1422.18 1781.65,1422.18 1781.94,1375.1 1782.23,1375.1 1782.52,1319.38 1782.81,1319.38 1783.1,1333.21 1783.39,1333.21 \n",
       "  1783.68,1333.21 1783.97,1333.21 1784.25,1333.21 1784.54,1316.39 1784.83,1316.39 1785.12,1334.53 1785.41,1334.53 1785.7,1334.53 1785.99,1334.53 1786.28,1334.53 \n",
       "  1786.57,1334.53 1786.86,1385.78 1787.14,1382.1 1787.43,1380.99 1787.72,1380.99 1788.01,1380.99 1788.3,1380.99 1788.59,1380.99 1788.88,1380.99 1789.17,1394.78 \n",
       "  1789.46,1394.78 1789.74,1394.78 1790.03,1408.59 1790.32,1408.59 1790.61,1438.05 1790.9,1433.75 1791.19,1444.73 1791.48,1444.73 1791.77,1444.73 1792.06,1444.73 \n",
       "  1792.34,1444.73 1792.63,1444.73 1792.92,1444.73 1793.21,1445.39 1793.5,1445.39 1793.79,1445.39 1794.08,1445.39 1794.37,1445.39 1794.66,1445.39 1794.95,1445.39 \n",
       "  1795.23,1445.71 1795.52,1445.71 1795.81,1445.71 1796.1,1445.71 1796.39,1445.71 1796.68,1445.71 1796.97,1445.71 1797.26,1387.37 1797.55,1387.37 1797.83,1419.27 \n",
       "  1798.12,1419.27 1798.41,1419.27 1798.7,1426.67 1798.99,1426.67 1799.28,1426.67 1799.57,1426.67 1799.86,1426.67 1800.15,1426.67 1800.44,1426.67 1800.72,1441.75 \n",
       "  1801.01,1441.75 1801.3,1389.78 1801.59,1389.78 1801.88,1389.78 1802.17,1389.78 1802.46,1389.78 1802.75,1389.78 1803.04,1389.78 1803.32,1389.78 1803.61,1389.78 \n",
       "  1803.9,1389.78 1804.19,1389.78 1804.48,1389.78 1804.77,1389.78 1805.06,1389.78 1805.35,1401.47 1805.64,1401.47 1805.92,1401.47 1806.21,1401.47 1806.5,1401.47 \n",
       "  1806.79,1401.47 1807.08,1439.07 1807.37,1439.07 1807.66,1439.07 1807.95,1439.07 1808.24,1439.07 1808.53,1439.07 1808.81,1414.7 1809.1,1440.06 1809.39,1440.06 \n",
       "  1809.68,1440.06 1809.97,1440.06 1810.26,1406.05 1810.55,1409.95 1810.84,1409.95 1811.13,1413.33 1811.41,1413.33 1811.7,1413.33 1811.99,1413.33 1812.28,1413.33 \n",
       "  1812.57,1413.33 1812.86,1413.33 1813.15,1413.33 1813.44,1413.33 1813.73,1413.33 1814.01,1413.33 1814.3,1423.24 1814.59,1423.24 1814.88,1423.24 1815.17,1356.89 \n",
       "  1815.46,1113.62 1815.75,1113.62 1816.04,1113.62 1816.33,1113.62 1816.62,1113.62 1816.9,1113.62 1817.19,1113.62 1817.48,1113.62 1817.77,1113.62 1818.06,1113.62 \n",
       "  1818.35,1113.62 1818.64,1106.47 1818.93,1384.48 1819.22,1385.28 1819.5,1388.51 1819.79,1393.92 1820.08,1393.92 1820.37,1393.92 1820.66,1393.92 1820.95,1401.39 \n",
       "  1821.24,1401.39 1821.53,1438.28 1821.82,1444.14 1822.1,1444.14 1822.39,1444.14 1822.68,1444.14 1822.97,1444.14 1823.26,1444.14 1823.55,1444.29 1823.84,1444.29 \n",
       "  1824.13,1444.29 1824.42,1444.29 1824.71,1444.29 1824.99,1444.29 1825.28,1444.29 1825.57,1444.29 1825.86,1444.29 1826.15,1444.29 1826.44,1433.13 1826.73,1433.13 \n",
       "  1827.02,1435 1827.31,1435 1827.59,1435 1827.88,1435 1828.17,1435 1828.46,1439.64 1828.75,1414.55 1829.04,1414.55 1829.33,1414.55 1829.62,1423.58 \n",
       "  1829.91,1431.81 1830.19,1406.8 1830.48,1375.22 1830.77,1375.22 1831.06,1435.99 1831.35,1434.75 1831.64,1437.34 1831.93,1413.8 1832.22,1413.32 1832.51,1436.19 \n",
       "  1832.8,1438.1 1833.08,1438.1 1833.37,1438.1 1833.66,1438.1 1833.95,1438.1 1834.24,1438.1 1834.53,1438.1 1834.82,1429.66 1835.11,1429.66 1835.4,1429.66 \n",
       "  1835.68,1443.01 1835.97,1443.01 1836.26,1441.19 1836.55,1441.19 1836.84,1441.19 1837.13,1441.19 1837.42,1438.33 1837.71,1445.67 1838,1436.86 1838.28,1439.98 \n",
       "  1838.57,1442.59 1838.86,1442.59 1839.15,1442.59 1839.44,1442.59 1839.73,1439.31 1840.02,1395.48 1840.31,1395.48 1840.6,1367.86 1840.89,1219.48 1841.17,1110.2 \n",
       "  1841.46,1086.86 1841.75,1079.23 1842.04,1079.23 1842.33,1079.23 1842.62,1079.23 1842.91,994.807 1843.2,956.703 1843.49,957.48 1843.77,957.48 1844.06,993.12 \n",
       "  1844.35,993.12 1844.64,1189.43 1844.93,1189.43 1845.22,1212.37 1845.51,1212.37 1845.8,1212.37 1846.09,1212.37 1846.38,1212.37 1846.66,1212.37 1846.95,1212.37 \n",
       "  1847.24,1228.61 1847.53,1252.92 1847.82,1047.28 1848.11,1047.28 1848.4,1099.65 1848.69,1154.57 1848.98,1154.57 1849.26,1154.57 1849.55,1154.57 1849.84,1154.57 \n",
       "  1850.13,1154.57 1850.42,1154.57 1850.71,1154.57 1851,1154.57 1851.29,1154.57 1851.58,1112.5 1851.86,1195.54 1852.15,1183.19 1852.44,1183.19 1852.73,1180.72 \n",
       "  1853.02,1180.72 1853.31,1180.72 1853.6,1150.73 1853.89,1131.83 1854.18,1131.83 1854.47,1131.83 1854.75,1131.83 1855.04,1131.83 1855.33,1329.1 1855.62,1329.1 \n",
       "  1855.91,1312.02 1856.2,1318.63 1856.49,1318.63 1856.78,1318.63 1857.07,1040.72 1857.35,1040.72 1857.64,1040.72 1857.93,1040.72 1858.22,836.83 1858.51,908.946 \n",
       "  1858.8,997.401 1859.09,997.401 1859.38,997.401 1859.67,997.401 1859.95,764.589 1860.24,764.589 1860.53,764.589 1860.82,764.589 1861.11,764.589 1861.4,764.589 \n",
       "  1861.69,925.267 1861.98,925.267 1862.27,925.267 1862.56,925.267 1862.84,1111.48 1863.13,1111.48 1863.42,1111.48 1863.71,1179.7 1864,1179.7 1864.29,1179.7 \n",
       "  1864.58,1179.7 1864.87,1071.93 1865.16,1071.93 1865.44,1054.24 1865.73,1054.24 1866.02,1137.7 1866.31,1134.85 1866.6,1179.87 1866.89,1179.87 1867.18,1179.87 \n",
       "  1867.47,1139.05 1867.76,1139.05 1868.04,1139.05 1868.33,1139.05 1868.62,1139.05 1868.91,1238.85 1869.2,1238.85 1869.49,1238.85 1869.78,1439.39 1870.07,1439.39 \n",
       "  1870.36,1441.29 1870.65,1441.29 1870.93,1441.29 1871.22,1441.29 1871.51,1443.54 1871.8,1445.46 1872.09,1442.93 1872.38,1442.93 1872.67,1444.8 1872.96,1444.47 \n",
       "  1873.25,1442.14 1873.53,1441.6 1873.82,1441.6 1874.11,1441.6 1874.4,1441.6 1874.69,1440.46 1874.98,1440.46 1875.27,1440.46 1875.56,1440.46 1875.85,1440.46 \n",
       "  1876.13,1440.46 1876.42,1444.63 1876.71,1444.63 1877,1444.63 1877.29,1411.27 1877.58,1411.27 1877.87,1411.27 1878.16,1411.27 1878.45,1360.21 1878.74,1269.35 \n",
       "  1879.02,1269.35 1879.31,1269.35 1879.6,1269.35 1879.89,1269.35 1880.18,1269.35 1880.47,1269.35 1880.76,1269.35 1881.05,1215.27 1881.34,1215.27 1881.62,1120.96 \n",
       "  1881.91,1106.01 1882.2,1106.01 1882.49,1131.99 1882.78,1027.14 1883.07,1027.14 1883.36,1027.14 1883.65,1036.76 1883.94,1066.7 1884.23,1066.7 1884.51,1066.7 \n",
       "  1884.8,984.972 1885.09,1036.64 1885.38,1024.81 1885.67,1024.81 1885.96,869.483 1886.25,869.483 1886.54,869.483 1886.83,869.483 1887.11,869.483 1887.4,869.483 \n",
       "  1887.69,869.483 1887.98,869.483 1888.27,901.258 1888.56,954.958 1888.85,954.958 1889.14,1051.9 1889.43,1051.9 1889.71,1051.9 1890,1051.9 1890.29,1051.9 \n",
       "  1890.58,1045.29 1890.87,1045.29 1891.16,1056.79 1891.45,1088.4 1891.74,1301 1892.03,1301 1892.32,1303.04 1892.6,1303.04 1892.89,1303.04 1893.18,1288.02 \n",
       "  1893.47,1288.02 1893.76,1288.02 1894.05,1288.02 1894.34,1288.02 1894.63,1288.02 1894.92,1288.02 1895.2,1267.73 1895.49,1254.01 1895.78,1254.01 1896.07,1254.01 \n",
       "  1896.36,1254.01 1896.65,1254.01 1896.94,1254.4 1897.23,1257.48 1897.52,1330.51 1897.8,1330.51 1898.09,1330.51 1898.38,1356.06 1898.67,1307.04 1898.96,1307.04 \n",
       "  1899.25,1298.8 1899.54,1298.8 1899.83,1298.8 1900.12,1298.8 1900.41,1412.93 1900.69,1418.74 1900.98,1420.99 1901.27,1420.99 1901.56,1420.99 1901.85,1420.99 \n",
       "  1902.14,1417.29 1902.43,1439.5 1902.72,1435.39 1903.01,1430.76 1903.29,1430.76 1903.58,1430.76 1903.87,1430.76 1904.16,1430.76 1904.45,1430.76 1904.74,1430.76 \n",
       "  1905.03,1430.76 1905.32,1398.51 1905.61,1291.93 1905.89,1291.93 1906.18,1291.93 1906.47,1429.93 1906.76,1429.93 1907.05,1429.93 1907.34,1429.93 1907.63,1429.93 \n",
       "  1907.92,1429.93 1908.21,1429.93 1908.5,1429.93 1908.78,1429.93 1909.07,1429.93 1909.36,1325.62 1909.65,1325.62 1909.94,1325.62 1910.23,1325.62 1910.52,1325.62 \n",
       "  1910.81,1325.62 1911.1,1325.62 1911.38,1326.51 1911.67,1326.51 1911.96,1307.89 1912.25,1307.89 1912.54,1352.87 1912.83,1352.87 1913.12,1443.35 1913.41,1443.35 \n",
       "  1913.7,1443.35 1913.98,1443.35 1914.27,1442.21 1914.56,1442.21 1914.85,1422.94 1915.14,1422.94 1915.43,1426.27 1915.72,1426.27 1916.01,1426.27 1916.3,1418.53 \n",
       "  1916.59,1418.53 1916.87,1418.53 1917.16,1410.76 1917.45,1373.24 1917.74,1373.24 1918.03,1373.24 1918.32,1373.24 1918.61,1351.66 1918.9,1351.66 1919.19,1251.69 \n",
       "  1919.47,1354.92 1919.76,1420.82 1920.05,1420.82 1920.34,1420.82 1920.63,1436.98 1920.92,1436.68 1921.21,1436.68 1921.5,1436.54 1921.79,1437.12 1922.08,1416.84 \n",
       "  1922.36,1416.84 1922.65,1416.84 1922.94,1380.43 1923.23,1265.54 1923.52,1297.12 1923.81,1297.12 1924.1,1297.12 1924.39,1297.12 1924.68,1297.12 1924.96,1230.27 \n",
       "  1925.25,1230.27 1925.54,1316.34 1925.83,1366.1 1926.12,1445.66 1926.41,1445.66 1926.7,1409.12 1926.99,1390.99 1927.28,1372.03 1927.56,1372.03 1927.85,1372.03 \n",
       "  1928.14,1367.21 1928.43,1367.21 1928.72,1367.21 1929.01,1367.21 1929.3,1379.74 1929.59,1379.74 1929.88,1427.18 1930.17,1433.76 1930.45,1439.3 1930.74,1439.3 \n",
       "  1931.03,1439.3 1931.32,1439.3 1931.61,1439.3 1931.9,1439.3 1932.19,1439.3 1932.48,1439.3 1932.77,1443.17 1933.05,1440.47 1933.34,1440.47 1933.63,1440.47 \n",
       "  1933.92,1440.47 1934.21,1440.47 1934.5,1440.47 1934.79,1439.22 1935.08,1439.22 1935.37,1439.22 1935.65,1439.22 1935.94,1439.22 1936.23,1439.22 1936.52,1430.9 \n",
       "  1936.81,1430.9 1937.1,1430.9 1937.39,1430.9 1937.68,1430.9 1937.97,1430.9 1938.26,1430.9 1938.54,1430.9 1938.83,1216 1939.12,1179.72 1939.41,1179.72 \n",
       "  1939.7,1099.44 1939.99,1099.44 1940.28,1099.44 1940.57,1095.66 1940.86,1200.49 1941.14,1282.88 1941.43,1313.18 1941.72,1313.18 1942.01,1244.72 1942.3,1253.23 \n",
       "  1942.59,1253.23 1942.88,1253.23 1943.17,1268.75 1943.46,1268.75 1943.74,1268.75 1944.03,1331.13 1944.32,1331.13 1944.61,1331.13 1944.9,1331.13 1945.19,1331.13 \n",
       "  1945.48,1331.13 1945.77,1331.13 1946.06,1331.13 1946.35,1322.02 1946.63,1322.02 1946.92,1329.72 1947.21,1331.14 1947.5,1337.05 1947.79,1337.05 1948.08,1337.05 \n",
       "  1948.37,1391.05 1948.66,1391.05 1948.95,1424.14 1949.23,1424.14 1949.52,1424.14 1949.81,1398.52 1950.1,1440.71 1950.39,1440.71 1950.68,1428.21 1950.97,1344.63 \n",
       "  1951.26,1344.63 1951.55,1344.63 1951.83,1344.63 1952.12,1344.63 1952.41,1344.63 1952.7,1344.63 1952.99,1344.63 1953.28,1344.63 1953.57,1359.61 1953.86,1359.61 \n",
       "  1954.15,1348.62 1954.44,1396.7 1954.72,1396.7 1955.01,1396.7 1955.3,1413.31 1955.59,1384.9 1955.88,1353.49 1956.17,1347.78 1956.46,1359.47 1956.75,1432.09 \n",
       "  1957.04,1432.09 1957.32,1441.36 1957.61,1441.36 1957.9,1445.06 1958.19,1445.06 1958.48,1445.06 1958.77,1445.06 1959.06,1445.06 1959.35,1445.06 1959.64,1445.06 \n",
       "  1959.93,1445.06 1960.21,1442.99 1960.5,1442.99 1960.79,1445.58 1961.08,1445.58 1961.37,1405.49 1961.66,1304.09 1961.95,1304.09 1962.24,1304.09 1962.53,1304.09 \n",
       "  1962.81,1304.09 1963.1,1304.09 1963.39,1304.09 1963.68,1304.09 1963.97,1304.09 1964.26,1304.09 1964.55,1304.09 1964.84,1304.09 1965.13,1304.09 1965.41,1304.09 \n",
       "  1965.7,1310.69 1965.99,1368.79 1966.28,1368.79 1966.57,1368.79 1966.86,1368.79 1967.15,1376.9 1967.44,1376.9 1967.73,1376.9 1968.02,1376.9 1968.3,1376.9 \n",
       "  1968.59,1376.9 1968.88,1376.9 1969.17,1376.9 1969.46,1370.61 1969.75,1370.61 1970.04,1370.61 1970.33,1364.59 1970.62,1364.59 1970.9,1364.59 1971.19,1378.89 \n",
       "  1971.48,1378.89 1971.77,1378.89 1972.06,1378.89 1972.35,1372.66 1972.64,1372.66 1972.93,1372.66 1973.22,1372.66 1973.5,1427.05 1973.79,1425.85 1974.08,1425.85 \n",
       "  1974.37,1425.85 1974.66,1425.85 1974.95,1425.85 1975.24,1444.98 1975.53,1444.8 1975.82,1439.13 1976.11,1439.13 1976.39,1429.58 1976.68,1429.58 1976.97,1429.58 \n",
       "  1977.26,1444.89 1977.55,1444.89 1977.84,1445.01 1978.13,1445.01 1978.42,1445.01 1978.71,1445.01 1978.99,1445.01 1979.28,1444.63 1979.57,1445.01 1979.86,1445.01 \n",
       "  1980.15,1445.01 1980.44,1445.01 1980.73,1443.67 1981.02,1443.67 1981.31,1444.91 1981.59,1444.91 1981.88,1429.17 1982.17,1370.24 1982.46,1386.48 1982.75,1386.48 \n",
       "  1983.04,1386.48 1983.33,1403.26 1983.62,1382.24 1983.91,1382.24 1984.2,1382.24 1984.48,1410.71 1984.77,1410.71 1985.06,1439.28 1985.35,1439.28 1985.64,1424.57 \n",
       "  1985.93,1424.57 1986.22,1424.57 1986.51,1424.57 1986.8,1419.71 1987.08,1419.71 1987.37,1374.21 1987.66,1374.21 1987.95,1258.76 1988.24,1268.47 1988.53,1268.47 \n",
       "  1988.82,1268.47 1989.11,1423.24 1989.4,1375.71 1989.68,1353.55 1989.97,1353.55 1990.26,1353.55 1990.55,1353.55 1990.84,1353.55 1991.13,1353.55 1991.42,1353.55 \n",
       "  1991.71,1345.39 1992,1353.55 1992.29,1353.55 1992.57,1272.47 1992.86,1272.47 1993.15,1261.42 1993.44,1117.64 1993.73,1175.77 1994.02,1175.77 1994.31,1387.9 \n",
       "  1994.6,1387.9 1994.89,1387.9 1995.17,1387.9 1995.46,1387.9 1995.75,1326.97 1996.04,1326.97 1996.33,1326.97 1996.62,1326.97 1996.91,1326.97 1997.2,1326.97 \n",
       "  1997.49,1326.97 1997.78,1326.97 1998.06,1326.97 1998.35,1312.21 1998.64,1312.21 1998.93,1312.21 1999.22,1312.21 1999.51,1378.34 1999.8,1378.34 2000.09,1402.76 \n",
       "  2000.38,1402.76 2000.66,1406.98 2000.95,1406.98 2001.24,1442.92 2001.53,1442.92 2001.82,1442.92 2002.11,1442.92 2002.4,1442.92 2002.69,1442.92 2002.98,1442.92 \n",
       "  2003.26,1442.92 2003.55,1442.92 2003.84,1432.13 2004.13,1442.92 2004.42,1442.92 2004.71,1442.92 2005,1442.92 2005.29,1442.92 2005.58,1443.74 2005.87,1443.74 \n",
       "  2006.15,1443.74 2006.44,1444.48 2006.73,1442.78 2007.02,1440.55 2007.31,1440.55 2007.6,1440.55 2007.89,1440.55 2008.18,1440.55 2008.47,1440.55 2008.75,1408.32 \n",
       "  2009.04,1443.97 2009.33,1443.97 2009.62,1443.97 2009.91,1443.97 2010.2,1425.64 2010.49,1425.64 2010.78,1409.83 2011.07,1409.83 2011.35,1366.71 2011.64,1354.83 \n",
       "  2011.93,1346.5 2012.22,1418.98 2012.51,1418.98 2012.8,1418.98 2013.09,1418.98 2013.38,1418.98 2013.67,1418.98 2013.96,1418.98 2014.24,1418.98 2014.53,1418.98 \n",
       "  2014.82,1436.18 2015.11,1293.72 2015.4,1293.72 2015.69,1309.56 2015.98,1309.56 2016.27,1298.39 2016.56,1298.39 2016.84,1298.39 2017.13,1324.26 2017.42,1324.26 \n",
       "  2017.71,1324.26 2018,1324.26 2018.29,1324.26 2018.58,1184.26 2018.87,1184.26 2019.16,908.327 2019.44,908.327 2019.73,898.686 2020.02,898.686 2020.31,1030.12 \n",
       "  2020.6,994.069 2020.89,1057.3 2021.18,1104.54 2021.47,1175.42 2021.76,1262.04 2022.05,1262.04 2022.33,1262.04 2022.62,1262.04 2022.91,1262.04 2023.2,1262.04 \n",
       "  2023.49,1346.45 2023.78,1346.45 2024.07,1346.45 2024.36,1346.45 2024.65,1346.45 2024.93,1346.45 2025.22,1346.45 2025.51,1346.45 2025.8,1346.45 2026.09,1346.45 \n",
       "  2026.38,1330.29 2026.67,1330.29 2026.96,1330.29 2027.25,1330.29 2027.53,1335.15 2027.82,1335.15 2028.11,1275.72 2028.4,1275.72 2028.69,1275.72 2028.98,1275.72 \n",
       "  2029.27,1266.73 2029.56,1266.73 2029.85,1266.73 2030.14,1246.52 2030.42,1246.52 2030.71,1246.52 2031,1262.96 2031.29,1262.96 2031.58,1262.96 2031.87,1262.96 \n",
       "  2032.16,1262.96 2032.45,1262.96 2032.74,1419.49 2033.02,1419.49 2033.31,1438.98 2033.6,1438.98 2033.89,1373.65 2034.18,1373.65 2034.47,1373.65 2034.76,1373.65 \n",
       "  2035.05,1373.65 2035.34,1380.7 2035.63,1380.7 2035.91,1380.7 2036.2,1380.7 2036.49,1380.7 2036.78,1380.7 2037.07,1406.35 2037.36,1406.35 2037.65,1411.21 \n",
       "  2037.94,1434.64 2038.23,1434.64 2038.51,1434.64 2038.8,1434.64 2039.09,1434.64 2039.38,1426.7 2039.67,1426.7 2039.96,1426.7 2040.25,1426.7 2040.54,1438.65 \n",
       "  2040.83,1438.65 2041.11,1444.92 2041.4,1444.92 2041.69,1444.92 2041.98,1444.92 2042.27,1444.92 2042.56,1444.92 2042.85,1444.92 2043.14,1444.92 2043.43,1444.92 \n",
       "  2043.72,1444.92 2044,1444.92 2044.29,1444.92 2044.58,1429.11 2044.87,1429.11 2045.16,1429.11 2045.45,1429.11 2045.74,1326.84 2046.03,1326.84 2046.32,1336.16 \n",
       "  2046.6,1336.16 2046.89,1403.96 2047.18,1403.96 2047.47,1403.96 2047.76,1403.96 2048.05,1403.96 2048.34,1403.96 2048.63,1399.29 2048.92,1373.23 2049.2,1373.23 \n",
       "  2049.49,1380.82 2049.78,1380.82 2050.07,1394.37 2050.36,1394.37 2050.65,1394.37 2050.94,1394.37 2051.23,1394.37 2051.52,1417.71 2051.81,1417.71 2052.09,1417.71 \n",
       "  2052.38,1417.71 2052.67,1417.71 2052.96,1417.71 2053.25,1417.71 2053.54,1417.71 2053.83,1349.78 2054.12,1349.78 2054.41,1349.78 2054.69,1349.78 2054.98,1349.78 \n",
       "  2055.27,1349.78 2055.56,1253.44 2055.85,1253.44 2056.14,1253.44 2056.43,1253.44 2056.72,1253.44 2057.01,1253.44 2057.29,1253.44 2057.58,1253.44 2057.87,1253.44 \n",
       "  2058.16,1353.08 2058.45,1353.08 2058.74,1353.08 2059.03,1353.08 2059.32,1353.08 2059.61,1353.08 2059.9,1353.08 2060.18,1353.08 2060.47,1374.04 2060.76,1374.04 \n",
       "  2061.05,1316.07 2061.34,1316.07 2061.63,1316.07 2061.92,1316.07 2062.21,1316.07 2062.5,1316.07 2062.78,1316.07 2063.07,1328.53 2063.36,1145.06 2063.65,1145.06 \n",
       "  2063.94,1145.06 2064.23,1237.89 2064.52,1317.78 2064.81,1317.78 2065.1,1317.78 2065.38,1384.4 2065.67,1408.11 2065.96,1405.3 2066.25,1407.89 2066.54,1411.85 \n",
       "  2066.83,1411.85 2067.12,1411.85 2067.41,1411.85 2067.7,1432.23 2067.99,1428.95 2068.27,1428.95 2068.56,1433.75 2068.85,1433.75 2069.14,1433.75 2069.43,1444.21 \n",
       "  2069.72,1444.21 2070.01,1411.06 2070.3,1411.06 2070.59,1432.83 2070.87,1432.83 2071.16,1423.27 2071.45,1423.27 2071.74,1423.27 2072.03,1145.83 2072.32,1120.59 \n",
       "  2072.61,1120.59 2072.9,1120.59 2073.19,1120.59 2073.48,1120.59 2073.76,980.588 2074.05,1001.83 2074.34,1033.11 2074.63,1208.03 2074.92,1208.03 2075.21,1208.03 \n",
       "  2075.5,1132.06 2075.79,1208.03 2076.08,1132.06 2076.36,1372.92 2076.65,1372.92 2076.94,1372.92 2077.23,1372.92 2077.52,1364.5 2077.81,1372.93 2078.1,1312.95 \n",
       "  2078.39,1323.3 2078.68,1244.47 2078.96,1244.47 2079.25,1398.02 2079.54,1398.02 2079.83,1398.02 2080.12,1398.02 2080.41,1398.02 2080.7,1398.02 2080.99,1398.02 \n",
       "  2081.28,1398.02 2081.57,1184.45 2081.85,1184.45 2082.14,1171.26 2082.43,1171.26 2082.72,1171.26 2083.01,1270.03 2083.3,1270.03 2083.59,1270.03 2083.88,1270.03 \n",
       "  2084.17,1270.03 2084.45,1270.03 2084.74,1314.8 2085.03,1314.8 2085.32,1374.5 2085.61,1387.39 2085.9,1387.39 2086.19,1387.39 2086.48,1387.39 2086.77,1368.65 \n",
       "  2087.05,1368.65 2087.34,1337.03 2087.63,1284.93 2087.92,1287.08 2088.21,1185.68 2088.5,1185.68 2088.79,1185.68 2089.08,1223.55 2089.37,1223.55 2089.66,1223.55 \n",
       "  2089.94,1191.21 2090.23,1182.98 2090.52,1186.77 2090.81,1186.77 2091.1,1174.66 2091.39,1174.62 2091.68,1174.62 2091.97,1174.62 2092.26,1174.62 2092.54,1244.51 \n",
       "  2092.83,1263.73 2093.12,1289.17 2093.41,1289.17 2093.7,1289.17 2093.99,1289.17 2094.28,1289.17 2094.57,1293.61 2094.86,1293.61 2095.14,1293.61 2095.43,1215.67 \n",
       "  2095.72,1215.67 2096.01,1192.57 2096.3,1192.57 2096.59,1283.03 2096.88,1283.03 2097.17,1283.03 2097.46,1283.03 2097.75,1257.99 2098.03,1257.99 2098.32,1257.99 \n",
       "  2098.61,1257.99 2098.9,1257.99 2099.19,1257.99 2099.48,1257.99 2099.77,1257.99 2100.06,1248 2100.35,1246.32 2100.63,1246.32 2100.92,1246.32 2101.21,1212.81 \n",
       "  2101.5,1212.81 2101.79,1212.81 2102.08,1296.14 2102.37,1296.14 2102.66,1200.48 2102.95,1200.48 2103.23,1200.48 2103.52,1200.48 2103.81,1200.48 2104.1,1200.48 \n",
       "  2104.39,1200.48 2104.68,1235.22 2104.97,1235.22 2105.26,1235.22 2105.55,1235.22 2105.84,1235.22 2106.12,1235.22 2106.41,1235.22 2106.7,1260.12 2106.99,1290.22 \n",
       "  2107.28,1290.22 2107.57,1290.22 2107.86,1290.22 2108.15,1290.22 2108.44,1398.64 2108.72,1398.64 2109.01,1401.1 2109.3,1401.1 2109.59,1431.29 2109.88,1431.29 \n",
       "  2110.17,1431.29 2110.46,1431.29 2110.75,1436.6 2111.04,1420.63 2111.32,1426.9 2111.61,1432.75 2111.9,1432.75 2112.19,1432.75 2112.48,1419.87 2112.77,1419.87 \n",
       "  2113.06,1419.87 2113.35,1389.57 2113.64,1161.34 2113.93,1161.34 2114.21,1161.34 2114.5,1161.34 2114.79,1161.34 2115.08,1161.34 2115.37,1218.81 2115.66,1233.09 \n",
       "  2115.95,1212.16 2116.24,1274.85 2116.53,1258.24 2116.81,1323.93 2117.1,1362.17 2117.39,1362.17 2117.68,1362.17 2117.97,1362.17 2118.26,1402.06 2118.55,1402.06 \n",
       "  2118.84,1402.06 2119.13,1402.06 2119.42,1421.14 2119.7,1421.14 2119.99,1422.75 2120.28,1422.75 2120.57,1422.75 2120.86,1422.75 2121.15,1422.75 2121.44,1416.75 \n",
       "  2121.73,1377.41 2122.02,1377.7 2122.3,1377.7 2122.59,1443.47 2122.88,1443.47 2123.17,1443.47 2123.46,1421.87 2123.75,1421.87 2124.04,1444.5 2124.33,1444.5 \n",
       "  2124.62,1431.62 2124.9,1425.31 2125.19,1342.6 2125.48,1392.55 2125.77,1392.55 2126.06,1392.55 2126.35,1392.55 2126.64,1392.55 2126.93,1407.3 2127.22,1407.3 \n",
       "  2127.51,1401.35 2127.79,1437.94 2128.08,1437.94 2128.37,1369.16 2128.66,1441.68 2128.95,1441.68 2129.24,1442.35 2129.53,1443.08 2129.82,1443.08 2130.11,1443.08 \n",
       "  2130.39,1443.08 2130.68,1443.08 2130.97,1443.08 2131.26,1385.41 2131.55,1385.41 2131.84,1385.41 2132.13,1385.41 2132.42,1430.24 2132.71,1430.24 2132.99,1435.92 \n",
       "  2133.28,1435.92 2133.57,1435.92 2133.86,1435.92 2134.15,1435.92 2134.44,1415.03 2134.73,1439.7 2135.02,1439.7 2135.31,1439.7 2135.6,1439.7 2135.88,1439.7 \n",
       "  2136.17,1439.7 2136.46,1439.7 2136.75,1439.7 2137.04,1435.28 2137.33,1440.73 2137.62,1426.49 2137.91,1422.47 2138.2,1445.5 2138.48,1440.06 2138.77,1442.8 \n",
       "  2139.06,1440.67 2139.35,1445.44 2139.64,1443.18 2139.93,1442.18 2140.22,1442.18 2140.51,1442.18 2140.8,1441.18 2141.08,1441.18 2141.37,1442.41 2141.66,1443.56 \n",
       "  2141.95,1443.56 2142.24,1444.91 2142.53,1445.62 2142.82,1445.71 2143.11,1445.71 2143.4,1445.71 2143.69,1445.71 2143.97,1444.29 2144.26,1277.53 2144.55,1277.53 \n",
       "  2144.84,1296.24 2145.13,1296.24 2145.42,1296.24 2145.71,1203.61 2146,1203.61 2146.29,1203.61 2146.57,1271.22 2146.86,1271.22 2147.15,1271.22 2147.44,1271.22 \n",
       "  2147.73,1271.22 2148.02,1271.22 2148.31,1271.22 2148.6,1271.22 2148.89,1376.6 2149.17,1376.6 2149.46,1376.6 2149.75,1376.6 2150.04,1376.6 2150.33,1319.41 \n",
       "  2150.62,1357.31 2150.91,1357.31 2151.2,1361.91 2151.49,1410.84 2151.78,1410.84 2152.06,1407.04 2152.35,1396.81 2152.64,1396.81 2152.93,1396.81 2153.22,1429.43 \n",
       "  2153.51,1429.43 2153.8,1445.7 2154.09,1445.7 2154.38,1445.35 2154.66,1445.47 2154.95,1419.68 2155.24,1230.4 2155.53,1336.13 2155.82,1396.97 2156.11,1396.97 \n",
       "  2156.4,1396.97 2156.69,1396.97 2156.98,1396.97 2157.27,1396.97 2157.55,1396.97 2157.84,1394.06 2158.13,1394.06 2158.42,1406.47 2158.71,1406.47 2159,1438.29 \n",
       "  2159.29,1429.63 2159.58,1429.63 2159.87,1426.89 2160.15,1322.81 2160.44,1322.81 2160.73,1288.07 2161.02,1288.07 2161.31,1288.07 2161.6,1288.07 2161.89,1288.07 \n",
       "  2162.18,1288.07 2162.47,1288.07 2162.75,1288.07 2163.04,1288.94 2163.33,1296.07 2163.62,1296.07 2163.91,1296.07 2164.2,1296.07 2164.49,1296.07 2164.78,1296.07 \n",
       "  2165.07,1296.07 2165.36,1296.07 2165.64,1373.03 2165.93,1396.34 2166.22,1396.34 2166.51,1428.21 2166.8,1428.21 2167.09,1428.21 2167.38,1428.21 2167.67,1428.21 \n",
       "  2167.96,1428.21 2168.24,1435.93 2168.53,1435.93 2168.82,1435.93 2169.11,1376.77 2169.4,1366.48 2169.69,1366.48 2169.98,1366.48 2170.27,1349.11 2170.56,1349.11 \n",
       "  2170.84,1348.08 2171.13,1351 2171.42,1351 2171.71,1351 2172,1414.39 2172.29,1414.39 2172.58,1426.37 2172.87,1421.59 2173.16,1417.32 2173.45,1417.32 \n",
       "  2173.73,1417.32 2174.02,1417.32 2174.31,1412.35 2174.6,1407.2 2174.89,1435.19 2175.18,1435.19 2175.47,1443.62 2175.76,1443.62 2176.05,1443.62 2176.33,1443.62 \n",
       "  2176.62,1440.31 2176.91,1435.21 2177.2,1429.03 2177.49,1430.9 2177.78,1430.9 2178.07,1430.9 2178.36,1433.2 2178.65,1433.2 2178.93,1427.32 2179.22,1427.32 \n",
       "  2179.51,1433.47 2179.8,1356.63 2180.09,1380.94 2180.38,1373.34 2180.67,1434.36 2180.96,1434.36 2181.25,1434.36 2181.54,1435.26 2181.82,1435.26 2182.11,1437.4 \n",
       "  2182.4,1444.93 2182.69,1442.59 2182.98,1415.36 2183.27,1423.48 2183.56,1423.48 2183.85,1442.18 2184.14,1442.18 2184.42,1442.18 2184.71,1436.05 2185,1436.05 \n",
       "  2185.29,1445.59 2185.58,1445.59 2185.87,1445.59 2186.16,1443.55 2186.45,1233.37 2186.74,1233.37 2187.02,1316.65 2187.31,1316.65 2187.6,1333.73 2187.89,1333.73 \n",
       "  2188.18,1354.62 2188.47,1354.62 2188.76,1361.3 2189.05,1361.3 2189.34,1361.3 2189.63,1361.3 2189.91,1361.3 2190.2,1369.73 2190.49,1369.73 2190.78,1399.39 \n",
       "  2191.07,1399.39 2191.36,1399.39 2191.65,1399.39 2191.94,1380.19 2192.23,1380.19 2192.51,1373.74 2192.8,1373.74 2193.09,1420.26 2193.38,1420.26 2193.67,1420.26 \n",
       "  2193.96,1144.51 2194.25,1140.75 2194.54,1140.75 2194.83,1140.75 2195.12,1135.46 2195.4,1135.46 2195.69,1274.86 2195.98,1377.1 2196.27,1377.1 2196.56,1390.25 \n",
       "  2196.85,1395.79 2197.14,1395.79 2197.43,1395.79 2197.72,1395.79 2198,1395.79 2198.29,1395.79 2198.58,1395.79 2198.87,1395.79 2199.16,1425.1 2199.45,1430.46 \n",
       "  2199.74,1435.5 2200.03,1435.5 2200.32,1435.5 2200.6,1435.5 2200.89,1435.5 2201.18,1435.5 2201.47,1435.5 2201.76,1435.5 2202.05,1435.5 2202.34,1435.5 \n",
       "  2202.63,1435.5 2202.92,1435.5 2203.21,1437.35 2203.49,1437.35 2203.78,1437.35 2204.07,1437.35 2204.36,1440.03 2204.65,1438.6 2204.94,1438.6 2205.23,1438.6 \n",
       "  2205.52,1444.49 2205.81,1420.74 2206.09,1434.28 2206.38,1434.28 2206.67,1434.28 2206.96,1434.28 2207.25,1434.28 2207.54,1445.52 2207.83,1445.69 2208.12,1440.28 \n",
       "  2208.41,1440.28 2208.69,1440.28 2208.98,1440.28 2209.27,1440.28 2209.56,1440.28 2209.85,1440.28 2210.14,1440.28 2210.43,1440.28 2210.72,1440.28 2211.01,1444.51 \n",
       "  2211.3,1430.48 2211.58,1433.58 2211.87,1320.2 2212.16,1320.2 2212.45,1316.99 2212.74,1377.7 2213.03,1377.7 2213.32,1440.84 2213.61,1440.84 2213.9,1440.84 \n",
       "  2214.18,1440.84 2214.47,1441.76 2214.76,1441.76 2215.05,1441.76 2215.34,1441.76 2215.63,1444.67 2215.92,1444.67 2216.21,1444.67 2216.5,1444.67 2216.78,1444.67 \n",
       "  2217.07,1444.67 2217.36,1444.67 2217.65,1444.67 2217.94,1444.79 2218.23,1445.57 2218.52,1445.57 2218.81,1441.74 2219.1,1441.74 2219.39,1441.74 2219.67,1441.74 \n",
       "  2219.96,1444.79 2220.25,1444.79 2220.54,1444.79 2220.83,1444.79 2221.12,1444.79 2221.41,1444.79 2221.7,1444.79 2221.99,1444.79 2222.27,1444.79 2222.56,1444.79 \n",
       "  2222.85,1440.46 2223.14,1440.46 2223.43,1440.46 2223.72,1431.73 2224.01,1419.75 2224.3,1419.75 2224.59,1419.75 2224.87,1419.75 2225.16,1419.75 2225.45,1419.75 \n",
       "  2225.74,1444.48 2226.03,1444.48 2226.32,1444.48 2226.61,1444.48 2226.9,1444.48 2227.19,1433.43 2227.48,1428.06 2227.76,1426.73 2228.05,1428.56 2228.34,1425.88 \n",
       "  2228.63,1425.88 2228.92,1425.88 2229.21,1425.88 2229.5,1425.88 2229.79,1423.36 2230.08,1421.61 2230.36,1421.61 2230.65,1421.61 2230.94,1421.61 2231.23,1421.61 \n",
       "  2231.52,1421.61 2231.81,1421.61 2232.1,1421.61 2232.39,1421.61 2232.68,1425.39 2232.97,1435.79 2233.25,1442.7 2233.54,1442.7 2233.83,1442.42 2234.12,1442.42 \n",
       "  2234.41,905.76 2234.7,905.76 2234.99,905.76 2235.28,905.76 2235.57,905.76 2235.85,905.76 2236.14,905.76 2236.43,905.76 2236.72,905.76 2237.01,905.76 \n",
       "  2237.3,905.76 2237.59,1256.95 2237.88,1329.34 2238.17,1305.22 2238.45,1318.01 2238.74,1430.63 2239.03,1399.57 2239.32,1399.57 2239.61,1432.19 2239.9,1445.65 \n",
       "  2240.19,1433.48 2240.48,1433.48 2240.77,1433.48 2241.06,1427.79 2241.34,1390.54 2241.63,1390.54 2241.92,1444.18 2242.21,1358.7 2242.5,1358.7 2242.79,1192.71 \n",
       "  2243.08,1192.71 2243.37,1192.71 2243.66,1192.71 2243.94,1239.29 2244.23,1239.29 2244.52,1183.96 2244.81,1183.96 2245.1,1183.96 2245.39,1222.59 2245.68,1222.59 \n",
       "  2245.97,1222.59 2246.26,1267.11 2246.54,1267.11 2246.83,1285.81 2247.12,1324.7 2247.41,1334.96 2247.7,1334.96 2247.99,1369.94 2248.28,1369.94 2248.57,1369.94 \n",
       "  2248.86,1369.94 2249.15,1369.94 2249.43,1369.94 2249.72,1369.94 2250.01,1379.65 2250.3,1379.65 2250.59,1349.9 2250.88,1349.9 2251.17,1373.49 2251.46,1368.05 \n",
       "  2251.75,1429.97 2252.03,1429.97 2252.32,1444.39 2252.61,1436.95 2252.9,1363.21 2253.19,1363.21 2253.48,1399.25 2253.77,1426.09 2254.06,1426.09 2254.35,1426.09 \n",
       "  2254.63,1428.89 2254.92,1439.17 2255.21,1439.17 2255.5,1439.17 2255.79,1436.34 2256.08,1442.25 2256.37,1442.25 2256.66,1442.25 2256.95,1440.52 2257.24,1438.7 \n",
       "  2257.52,1438.7 2257.81,1438.7 2258.1,1443.05 2258.39,1445.58 2258.68,1445.58 2258.97,1445.58 2259.26,1445.58 2259.55,1445.58 2259.84,1445.58 2260.12,1445.66 \n",
       "  2260.41,1445.03 2260.7,1445.03 2260.99,1441.25 2261.28,1441.25 2261.57,1441.25 2261.86,1434.81 2262.15,1391.58 2262.44,1391.58 2262.72,1391.58 2263.01,1398.93 \n",
       "  2263.3,1398.93 2263.59,1398.93 2263.88,1393.29 2264.17,1402.35 2264.46,1389.48 2264.75,1389.48 2265.04,1402.35 2265.33,1399.19 2265.61,1257 2265.9,1257 \n",
       "  2266.19,1329.81 2266.48,1217.02 2266.77,1217.02 2267.06,1217.02 2267.35,1324.14 2267.64,1324.14 2267.93,1332.1 2268.21,1367.22 2268.5,1371.97 2268.79,1401.39 \n",
       "  2269.08,1440.93 2269.37,1440.93 2269.66,1420.14 2269.95,1411.34 2270.24,1414.69 2270.53,1327.26 2270.82,1337.56 2271.1,1062.04 2271.39,1062.04 2271.68,1062.04 \n",
       "  2271.97,1062.04 2272.26,1062.04 2272.55,1062.04 2272.84,1062.04 2273.13,1010.2 2273.42,1010.2 2273.7,1010.2 2273.99,1010.2 2274.28,1018.11 2274.57,1018.11 \n",
       "  2274.86,915.225 2275.15,933.842 2275.44,933.842 2275.73,887.081 2276.02,887.081 2276.3,887.081 2276.59,696.831 2276.88,696.831 2277.17,696.831 2277.46,696.831 \n",
       "  2277.75,696.831 2278.04,696.831 2278.33,722.59 2278.62,722.59 2278.91,589.205 2279.19,728.77 2279.48,656.211 2279.77,541.051 2280.06,541.051 2280.35,254.418 \n",
       "  2280.64,254.418 2280.93,388.853 2281.22,419.785 2281.51,349.34 2281.79,420.929 2282.08,420.929 2282.37,420.929 2282.66,462.239 2282.95,462.239 2283.24,351.087 \n",
       "  2283.53,390.981 2283.82,423.112 2284.11,803.41 2284.39,737.8 2284.68,702.143 2284.97,962.638 2285.26,962.638 2285.55,962.638 2285.84,962.638 2286.13,962.638 \n",
       "  2286.42,962.638 2286.71,962.638 2287,990.014 2287.28,1036.02 2287.57,1036.02 2287.86,1008.72 2288.15,955.719 2288.44,1008.72 2288.73,955.719 2289.02,1105.91 \n",
       "  2289.31,1105.91 \n",
       "  \"/>\n",
       "<path clip-path=\"url(#clip800)\" d=\"\n",
       "M185.61 250.738 L994.169 250.738 L994.169 95.2176 L185.61 95.2176  Z\n",
       "  \" fill=\"#ffffff\" fill-rule=\"evenodd\" fill-opacity=\"1\"/>\n",
       "<polyline clip-path=\"url(#clip800)\" style=\"stroke:#000000; stroke-linecap:round; stroke-linejoin:round; stroke-width:4; stroke-opacity:1; fill:none\" points=\"\n",
       "  185.61,250.738 994.169,250.738 994.169,95.2176 185.61,95.2176 185.61,250.738 \n",
       "  \"/>\n",
       "<polyline clip-path=\"url(#clip800)\" style=\"stroke:#009af9; stroke-linecap:round; stroke-linejoin:round; stroke-width:4; stroke-opacity:1; fill:none\" points=\"\n",
       "  210.52,147.058 359.978,147.058 \n",
       "  \"/>\n",
       "<path clip-path=\"url(#clip800)\" d=\"M384.888 128.319 L389.147 128.319 L389.147 164.338 L384.888 164.338 L384.888 128.319 Z\" fill=\"#000000\" fill-rule=\"evenodd\" fill-opacity=\"1\" /><path clip-path=\"url(#clip800)\" d=\"M408.105 141.398 Q404.679 141.398 402.689 144.083 Q400.698 146.745 400.698 151.398 Q400.698 156.051 402.666 158.736 Q404.656 161.398 408.105 161.398 Q411.508 161.398 413.499 158.713 Q415.49 156.027 415.49 151.398 Q415.49 146.791 413.499 144.106 Q411.508 141.398 408.105 141.398 M408.105 137.787 Q413.661 137.787 416.832 141.398 Q420.003 145.009 420.003 151.398 Q420.003 157.764 416.832 161.398 Q413.661 165.009 408.105 165.009 Q402.527 165.009 399.355 161.398 Q396.207 157.764 396.207 151.398 Q396.207 145.009 399.355 141.398 Q402.527 137.787 408.105 137.787 Z\" fill=\"#000000\" fill-rule=\"evenodd\" fill-opacity=\"1\" /><path clip-path=\"url(#clip800)\" d=\"M444.124 142.347 L444.124 128.319 L448.383 128.319 L448.383 164.338 L444.124 164.338 L444.124 160.449 Q442.781 162.763 440.721 163.898 Q438.684 165.009 435.813 165.009 Q431.114 165.009 428.151 161.259 Q425.212 157.509 425.212 151.398 Q425.212 145.287 428.151 141.537 Q431.114 137.787 435.813 137.787 Q438.684 137.787 440.721 138.921 Q442.781 140.032 444.124 142.347 M429.61 151.398 Q429.61 156.097 431.531 158.782 Q433.476 161.444 436.855 161.444 Q440.235 161.444 442.179 158.782 Q444.124 156.097 444.124 151.398 Q444.124 146.699 442.179 144.037 Q440.235 141.352 436.855 141.352 Q433.476 141.352 431.531 144.037 Q429.61 146.699 429.61 151.398 Z\" fill=\"#000000\" fill-rule=\"evenodd\" fill-opacity=\"1\" /><path clip-path=\"url(#clip800)\" d=\"M476.855 172.208 L476.855 175.518 L452.225 175.518 L452.225 172.208 L476.855 172.208 Z\" fill=\"#000000\" fill-rule=\"evenodd\" fill-opacity=\"1\" /><path clip-path=\"url(#clip800)\" d=\"M480.86 138.412 L485.119 138.412 L485.119 164.338 L480.86 164.338 L480.86 138.412 M480.86 128.319 L485.119 128.319 L485.119 133.713 L480.86 133.713 L480.86 128.319 Z\" fill=\"#000000\" fill-rule=\"evenodd\" fill-opacity=\"1\" /><path clip-path=\"url(#clip800)\" d=\"M515.582 148.689 L515.582 164.338 L511.322 164.338 L511.322 148.828 Q511.322 145.148 509.887 143.319 Q508.452 141.49 505.582 141.49 Q502.133 141.49 500.142 143.69 Q498.151 145.889 498.151 149.685 L498.151 164.338 L493.869 164.338 L493.869 138.412 L498.151 138.412 L498.151 142.44 Q499.679 140.102 501.739 138.944 Q503.822 137.787 506.531 137.787 Q510.998 137.787 513.29 140.565 Q515.582 143.319 515.582 148.689 Z\" fill=\"#000000\" fill-rule=\"evenodd\" fill-opacity=\"1\" /><path clip-path=\"url(#clip800)\" d=\"M541.137 142.347 L541.137 128.319 L545.396 128.319 L545.396 164.338 L541.137 164.338 L541.137 160.449 Q539.794 162.763 537.734 163.898 Q535.697 165.009 532.827 165.009 Q528.128 165.009 525.165 161.259 Q522.225 157.509 522.225 151.398 Q522.225 145.287 525.165 141.537 Q528.128 137.787 532.827 137.787 Q535.697 137.787 537.734 138.921 Q539.794 140.032 541.137 142.347 M526.623 151.398 Q526.623 156.097 528.544 158.782 Q530.489 161.444 533.869 161.444 Q537.248 161.444 539.193 158.782 Q541.137 156.097 541.137 151.398 Q541.137 146.699 539.193 144.037 Q537.248 141.352 533.869 141.352 Q530.489 141.352 528.544 144.037 Q526.623 146.699 526.623 151.398 Z\" fill=\"#000000\" fill-rule=\"evenodd\" fill-opacity=\"1\" /><path clip-path=\"url(#clip800)\" d=\"M554.169 138.412 L558.429 138.412 L558.429 164.338 L554.169 164.338 L554.169 138.412 M554.169 128.319 L558.429 128.319 L558.429 133.713 L554.169 133.713 L554.169 128.319 Z\" fill=\"#000000\" fill-rule=\"evenodd\" fill-opacity=\"1\" /><path clip-path=\"url(#clip800)\" d=\"M564.285 138.412 L568.799 138.412 L576.901 160.171 L585.003 138.412 L589.516 138.412 L579.794 164.338 L574.007 164.338 L564.285 138.412 Z\" fill=\"#000000\" fill-rule=\"evenodd\" fill-opacity=\"1\" /><path clip-path=\"url(#clip800)\" d=\"M595.396 138.412 L599.655 138.412 L599.655 164.338 L595.396 164.338 L595.396 138.412 M595.396 128.319 L599.655 128.319 L599.655 133.713 L595.396 133.713 L595.396 128.319 Z\" fill=\"#000000\" fill-rule=\"evenodd\" fill-opacity=\"1\" /><path clip-path=\"url(#clip800)\" d=\"M625.627 142.347 L625.627 128.319 L629.887 128.319 L629.887 164.338 L625.627 164.338 L625.627 160.449 Q624.285 162.763 622.225 163.898 Q620.187 165.009 617.317 165.009 Q612.618 165.009 609.655 161.259 Q606.715 157.509 606.715 151.398 Q606.715 145.287 609.655 141.537 Q612.618 137.787 617.317 137.787 Q620.187 137.787 622.225 138.921 Q624.285 140.032 625.627 142.347 M611.113 151.398 Q611.113 156.097 613.035 158.782 Q614.979 161.444 618.359 161.444 Q621.738 161.444 623.683 158.782 Q625.627 156.097 625.627 151.398 Q625.627 146.699 623.683 144.037 Q621.738 141.352 618.359 141.352 Q614.979 141.352 613.035 144.037 Q611.113 146.699 611.113 151.398 Z\" fill=\"#000000\" fill-rule=\"evenodd\" fill-opacity=\"1\" /><path clip-path=\"url(#clip800)\" d=\"M638.22 154.106 L638.22 138.412 L642.479 138.412 L642.479 153.944 Q642.479 157.625 643.914 159.476 Q645.349 161.305 648.22 161.305 Q651.669 161.305 653.66 159.106 Q655.673 156.907 655.673 153.111 L655.673 138.412 L659.933 138.412 L659.933 164.338 L655.673 164.338 L655.673 160.356 Q654.123 162.717 652.062 163.875 Q650.025 165.009 647.317 165.009 Q642.849 165.009 640.535 162.231 Q638.22 159.453 638.22 154.106 M648.937 137.787 L648.937 137.787 Z\" fill=\"#000000\" fill-rule=\"evenodd\" fill-opacity=\"1\" /><path clip-path=\"url(#clip800)\" d=\"M680.488 151.305 Q675.326 151.305 673.335 152.486 Q671.345 153.666 671.345 156.514 Q671.345 158.782 672.826 160.125 Q674.331 161.444 676.9 161.444 Q680.442 161.444 682.571 158.944 Q684.724 156.421 684.724 152.254 L684.724 151.305 L680.488 151.305 M688.983 149.546 L688.983 164.338 L684.724 164.338 L684.724 160.402 Q683.266 162.763 681.09 163.898 Q678.914 165.009 675.766 165.009 Q671.784 165.009 669.423 162.787 Q667.085 160.541 667.085 156.791 Q667.085 152.416 670.002 150.194 Q672.942 147.972 678.752 147.972 L684.724 147.972 L684.724 147.555 Q684.724 144.615 682.78 143.018 Q680.858 141.398 677.363 141.398 Q675.141 141.398 673.034 141.93 Q670.928 142.463 668.984 143.527 L668.984 139.592 Q671.321 138.69 673.521 138.25 Q675.72 137.787 677.803 137.787 Q683.428 137.787 686.206 140.703 Q688.983 143.62 688.983 149.546 Z\" fill=\"#000000\" fill-rule=\"evenodd\" fill-opacity=\"1\" /><path clip-path=\"url(#clip800)\" d=\"M697.757 128.319 L702.016 128.319 L702.016 164.338 L697.757 164.338 L697.757 128.319 Z\" fill=\"#000000\" fill-rule=\"evenodd\" fill-opacity=\"1\" /><path clip-path=\"url(#clip800)\" d=\"M730.627 172.208 L730.627 175.518 L705.997 175.518 L705.997 172.208 L730.627 172.208 Z\" fill=\"#000000\" fill-rule=\"evenodd\" fill-opacity=\"1\" /><path clip-path=\"url(#clip800)\" d=\"M756.182 148.689 L756.182 164.338 L751.923 164.338 L751.923 148.828 Q751.923 145.148 750.488 143.319 Q749.053 141.49 746.182 141.49 Q742.733 141.49 740.742 143.69 Q738.752 145.889 738.752 149.685 L738.752 164.338 L734.469 164.338 L734.469 138.412 L738.752 138.412 L738.752 142.44 Q740.279 140.102 742.34 138.944 Q744.423 137.787 747.131 137.787 Q751.599 137.787 753.89 140.565 Q756.182 143.319 756.182 148.689 Z\" fill=\"#000000\" fill-rule=\"evenodd\" fill-opacity=\"1\" /><path clip-path=\"url(#clip800)\" d=\"M764.238 154.106 L764.238 138.412 L768.497 138.412 L768.497 153.944 Q768.497 157.625 769.932 159.476 Q771.367 161.305 774.238 161.305 Q777.687 161.305 779.677 159.106 Q781.691 156.907 781.691 153.111 L781.691 138.412 L785.95 138.412 L785.95 164.338 L781.691 164.338 L781.691 160.356 Q780.14 162.717 778.08 163.875 Q776.043 165.009 773.335 165.009 Q768.867 165.009 766.552 162.231 Q764.238 159.453 764.238 154.106 M774.955 137.787 L774.955 137.787 Z\" fill=\"#000000\" fill-rule=\"evenodd\" fill-opacity=\"1\" /><path clip-path=\"url(#clip800)\" d=\"M794.724 128.319 L798.983 128.319 L798.983 164.338 L794.724 164.338 L794.724 128.319 Z\" fill=\"#000000\" fill-rule=\"evenodd\" fill-opacity=\"1\" /><path clip-path=\"url(#clip800)\" d=\"M807.895 128.319 L812.154 128.319 L812.154 164.338 L807.895 164.338 L807.895 128.319 Z\" fill=\"#000000\" fill-rule=\"evenodd\" fill-opacity=\"1\" /><path clip-path=\"url(#clip800)\" d=\"M840.765 172.208 L840.765 175.518 L816.136 175.518 L816.136 172.208 L840.765 172.208 Z\" fill=\"#000000\" fill-rule=\"evenodd\" fill-opacity=\"1\" /><path clip-path=\"url(#clip800)\" d=\"M866.945 150.31 L866.945 152.393 L847.362 152.393 Q847.64 156.791 850.001 159.106 Q852.385 161.398 856.621 161.398 Q859.075 161.398 861.367 160.796 Q863.682 160.194 865.95 158.99 L865.95 163.018 Q863.658 163.99 861.251 164.5 Q858.844 165.009 856.367 165.009 Q850.163 165.009 846.529 161.398 Q842.918 157.787 842.918 151.629 Q842.918 145.264 846.344 141.537 Q849.793 137.787 855.626 137.787 Q860.858 137.787 863.89 141.166 Q866.945 144.523 866.945 150.31 M862.686 149.06 Q862.64 145.565 860.719 143.481 Q858.82 141.398 855.672 141.398 Q852.108 141.398 849.955 143.412 Q847.825 145.426 847.501 149.083 L862.686 149.06 Z\" fill=\"#000000\" fill-rule=\"evenodd\" fill-opacity=\"1\" /><path clip-path=\"url(#clip800)\" d=\"M894.654 138.412 L885.279 151.027 L895.14 164.338 L890.117 164.338 L882.57 154.152 L875.024 164.338 L870.001 164.338 L880.07 150.773 L870.857 138.412 L875.881 138.412 L882.756 147.648 L889.63 138.412 L894.654 138.412 Z\" fill=\"#000000\" fill-rule=\"evenodd\" fill-opacity=\"1\" /><path clip-path=\"url(#clip800)\" d=\"M912.941 151.305 Q907.779 151.305 905.788 152.486 Q903.797 153.666 903.797 156.514 Q903.797 158.782 905.279 160.125 Q906.783 161.444 909.353 161.444 Q912.894 161.444 915.024 158.944 Q917.177 156.421 917.177 152.254 L917.177 151.305 L912.941 151.305 M921.436 149.546 L921.436 164.338 L917.177 164.338 L917.177 160.402 Q915.718 162.763 913.542 163.898 Q911.366 165.009 908.218 165.009 Q904.237 165.009 901.876 162.787 Q899.538 160.541 899.538 156.791 Q899.538 152.416 902.455 150.194 Q905.394 147.972 911.204 147.972 L917.177 147.972 L917.177 147.555 Q917.177 144.615 915.232 143.018 Q913.311 141.398 909.816 141.398 Q907.593 141.398 905.487 141.93 Q903.38 142.463 901.436 143.527 L901.436 139.592 Q903.774 138.69 905.973 138.25 Q908.172 137.787 910.255 137.787 Q915.88 137.787 918.658 140.703 Q921.436 143.62 921.436 149.546 Z\" fill=\"#000000\" fill-rule=\"evenodd\" fill-opacity=\"1\" /><path clip-path=\"url(#clip800)\" d=\"M948.866 139.407 L948.866 143.389 Q947.061 142.393 945.232 141.907 Q943.427 141.398 941.575 141.398 Q937.431 141.398 935.14 144.037 Q932.848 146.652 932.848 151.398 Q932.848 156.143 935.14 158.782 Q937.431 161.398 941.575 161.398 Q943.427 161.398 945.232 160.912 Q947.061 160.402 948.866 159.407 L948.866 163.342 Q947.084 164.176 945.163 164.592 Q943.264 165.009 941.112 165.009 Q935.255 165.009 931.806 161.328 Q928.357 157.648 928.357 151.398 Q928.357 145.055 931.829 141.421 Q935.325 137.787 941.389 137.787 Q943.357 137.787 945.232 138.203 Q947.107 138.597 948.866 139.407 Z\" fill=\"#000000\" fill-rule=\"evenodd\" fill-opacity=\"1\" /><path clip-path=\"url(#clip800)\" d=\"M960.487 131.051 L960.487 138.412 L969.26 138.412 L969.26 141.722 L960.487 141.722 L960.487 155.796 Q960.487 158.967 961.343 159.87 Q962.223 160.773 964.885 160.773 L969.26 160.773 L969.26 164.338 L964.885 164.338 Q959.954 164.338 958.079 162.509 Q956.204 160.657 956.204 155.796 L956.204 141.722 L953.079 141.722 L953.079 138.412 L956.204 138.412 L956.204 131.051 L960.487 131.051 Z\" fill=\"#000000\" fill-rule=\"evenodd\" fill-opacity=\"1\" /><polyline clip-path=\"url(#clip800)\" style=\"stroke:#e26f46; stroke-linecap:round; stroke-linejoin:round; stroke-width:4; stroke-opacity:1; fill:none\" points=\"\n",
       "  210.52,198.898 359.978,198.898 \n",
       "  \"/>\n",
       "<path clip-path=\"url(#clip800)\" d=\"M384.888 180.159 L389.147 180.159 L389.147 216.178 L384.888 216.178 L384.888 180.159 Z\" fill=\"#000000\" fill-rule=\"evenodd\" fill-opacity=\"1\" /><path clip-path=\"url(#clip800)\" d=\"M408.105 193.238 Q404.679 193.238 402.689 195.923 Q400.698 198.585 400.698 203.238 Q400.698 207.891 402.666 210.576 Q404.656 213.238 408.105 213.238 Q411.508 213.238 413.499 210.553 Q415.49 207.867 415.49 203.238 Q415.49 198.631 413.499 195.946 Q411.508 193.238 408.105 193.238 M408.105 189.627 Q413.661 189.627 416.832 193.238 Q420.003 196.849 420.003 203.238 Q420.003 209.604 416.832 213.238 Q413.661 216.849 408.105 216.849 Q402.527 216.849 399.355 213.238 Q396.207 209.604 396.207 203.238 Q396.207 196.849 399.355 193.238 Q402.527 189.627 408.105 189.627 Z\" fill=\"#000000\" fill-rule=\"evenodd\" fill-opacity=\"1\" /><path clip-path=\"url(#clip800)\" d=\"M444.124 194.187 L444.124 180.159 L448.383 180.159 L448.383 216.178 L444.124 216.178 L444.124 212.289 Q442.781 214.603 440.721 215.738 Q438.684 216.849 435.813 216.849 Q431.114 216.849 428.151 213.099 Q425.212 209.349 425.212 203.238 Q425.212 197.127 428.151 193.377 Q431.114 189.627 435.813 189.627 Q438.684 189.627 440.721 190.761 Q442.781 191.872 444.124 194.187 M429.61 203.238 Q429.61 207.937 431.531 210.622 Q433.476 213.284 436.855 213.284 Q440.235 213.284 442.179 210.622 Q444.124 207.937 444.124 203.238 Q444.124 198.539 442.179 195.877 Q440.235 193.192 436.855 193.192 Q433.476 193.192 431.531 195.877 Q429.61 198.539 429.61 203.238 Z\" fill=\"#000000\" fill-rule=\"evenodd\" fill-opacity=\"1\" /><path clip-path=\"url(#clip800)\" d=\"M476.855 224.048 L476.855 227.358 L452.225 227.358 L452.225 224.048 L476.855 224.048 Z\" fill=\"#000000\" fill-rule=\"evenodd\" fill-opacity=\"1\" /><path clip-path=\"url(#clip800)\" d=\"M497.387 191.016 L497.387 195.043 Q495.582 194.117 493.637 193.655 Q491.693 193.192 489.609 193.192 Q486.438 193.192 484.841 194.164 Q483.267 195.136 483.267 197.08 Q483.267 198.562 484.401 199.418 Q485.535 200.252 488.961 201.016 L490.42 201.34 Q494.957 202.312 496.855 204.094 Q498.776 205.854 498.776 209.025 Q498.776 212.636 495.906 214.742 Q493.059 216.849 488.059 216.849 Q485.975 216.849 483.707 216.432 Q481.461 216.039 478.961 215.228 L478.961 210.83 Q481.323 212.057 483.614 212.682 Q485.906 213.284 488.151 213.284 Q491.16 213.284 492.781 212.266 Q494.401 211.224 494.401 209.349 Q494.401 207.613 493.221 206.687 Q492.063 205.761 488.105 204.904 L486.623 204.557 Q482.665 203.724 480.906 202.011 Q479.147 200.275 479.147 197.266 Q479.147 193.608 481.739 191.618 Q484.332 189.627 489.1 189.627 Q491.461 189.627 493.545 189.974 Q495.628 190.321 497.387 191.016 Z\" fill=\"#000000\" fill-rule=\"evenodd\" fill-opacity=\"1\" /><path clip-path=\"url(#clip800)\" d=\"M509.771 182.891 L509.771 190.252 L518.545 190.252 L518.545 193.562 L509.771 193.562 L509.771 207.636 Q509.771 210.807 510.628 211.71 Q511.508 212.613 514.17 212.613 L518.545 212.613 L518.545 216.178 L514.17 216.178 Q509.239 216.178 507.364 214.349 Q505.489 212.497 505.489 207.636 L505.489 193.562 L502.364 193.562 L502.364 190.252 L505.489 190.252 L505.489 182.891 L509.771 182.891 Z\" fill=\"#000000\" fill-rule=\"evenodd\" fill-opacity=\"1\" /><path clip-path=\"url(#clip800)\" d=\"M539.169 194.233 Q538.452 193.817 537.595 193.631 Q536.762 193.423 535.744 193.423 Q532.132 193.423 530.188 195.784 Q528.267 198.122 528.267 202.52 L528.267 216.178 L523.984 216.178 L523.984 190.252 L528.267 190.252 L528.267 194.28 Q529.609 191.918 531.762 190.784 Q533.915 189.627 536.994 189.627 Q537.433 189.627 537.966 189.696 Q538.498 189.743 539.146 189.858 L539.169 194.233 Z\" fill=\"#000000\" fill-rule=\"evenodd\" fill-opacity=\"1\" /><path clip-path=\"url(#clip800)\" d=\"M555.419 203.145 Q550.257 203.145 548.267 204.326 Q546.276 205.506 546.276 208.354 Q546.276 210.622 547.757 211.965 Q549.262 213.284 551.831 213.284 Q555.373 213.284 557.503 210.784 Q559.655 208.261 559.655 204.094 L559.655 203.145 L555.419 203.145 M563.915 201.386 L563.915 216.178 L559.655 216.178 L559.655 212.242 Q558.197 214.603 556.021 215.738 Q553.845 216.849 550.697 216.849 Q546.716 216.849 544.355 214.627 Q542.017 212.381 542.017 208.631 Q542.017 204.256 544.933 202.034 Q547.873 199.812 553.683 199.812 L559.655 199.812 L559.655 199.395 Q559.655 196.455 557.711 194.858 Q555.79 193.238 552.294 193.238 Q550.072 193.238 547.966 193.77 Q545.859 194.303 543.915 195.367 L543.915 191.432 Q546.253 190.53 548.452 190.09 Q550.651 189.627 552.734 189.627 Q558.359 189.627 561.137 192.543 Q563.915 195.46 563.915 201.386 Z\" fill=\"#000000\" fill-rule=\"evenodd\" fill-opacity=\"1\" /><path clip-path=\"url(#clip800)\" d=\"M572.688 190.252 L576.947 190.252 L576.947 216.178 L572.688 216.178 L572.688 190.252 M572.688 180.159 L576.947 180.159 L576.947 185.553 L572.688 185.553 L572.688 180.159 Z\" fill=\"#000000\" fill-rule=\"evenodd\" fill-opacity=\"1\" /><path clip-path=\"url(#clip800)\" d=\"M607.41 200.529 L607.41 216.178 L603.151 216.178 L603.151 200.668 Q603.151 196.988 601.715 195.159 Q600.28 193.33 597.41 193.33 Q593.961 193.33 591.97 195.53 Q589.979 197.729 589.979 201.525 L589.979 216.178 L585.697 216.178 L585.697 190.252 L589.979 190.252 L589.979 194.28 Q591.507 191.942 593.567 190.784 Q595.651 189.627 598.359 189.627 Q602.826 189.627 605.118 192.405 Q607.41 195.159 607.41 200.529 Z\" fill=\"#000000\" fill-rule=\"evenodd\" fill-opacity=\"1\" /><path clip-path=\"url(#clip800)\" d=\"M632.433 191.016 L632.433 195.043 Q630.627 194.117 628.683 193.655 Q626.738 193.192 624.655 193.192 Q621.484 193.192 619.887 194.164 Q618.313 195.136 618.313 197.08 Q618.313 198.562 619.447 199.418 Q620.581 200.252 624.007 201.016 L625.465 201.34 Q630.002 202.312 631.9 204.094 Q633.822 205.854 633.822 209.025 Q633.822 212.636 630.951 214.742 Q628.104 216.849 623.104 216.849 Q621.021 216.849 618.752 216.432 Q616.507 216.039 614.007 215.228 L614.007 210.83 Q616.368 212.057 618.66 212.682 Q620.951 213.284 623.197 213.284 Q626.206 213.284 627.826 212.266 Q629.447 211.224 629.447 209.349 Q629.447 207.613 628.266 206.687 Q627.109 205.761 623.15 204.904 L621.669 204.557 Q617.711 203.724 615.951 202.011 Q614.192 200.275 614.192 197.266 Q614.192 193.608 616.785 191.618 Q619.377 189.627 624.146 189.627 Q626.507 189.627 628.59 189.974 Q630.674 190.321 632.433 191.016 Z\" fill=\"#000000\" fill-rule=\"evenodd\" fill-opacity=\"1\" /><path clip-path=\"url(#clip800)\" d=\"M660.303 224.048 L660.303 227.358 L635.674 227.358 L635.674 224.048 L660.303 224.048 Z\" fill=\"#000000\" fill-rule=\"evenodd\" fill-opacity=\"1\" /><path clip-path=\"url(#clip800)\" d=\"M685.858 200.529 L685.858 216.178 L681.599 216.178 L681.599 200.668 Q681.599 196.988 680.164 195.159 Q678.729 193.33 675.858 193.33 Q672.409 193.33 670.419 195.53 Q668.428 197.729 668.428 201.525 L668.428 216.178 L664.146 216.178 L664.146 190.252 L668.428 190.252 L668.428 194.28 Q669.956 191.942 672.016 190.784 Q674.099 189.627 676.808 189.627 Q681.275 189.627 683.567 192.405 Q685.858 195.159 685.858 200.529 Z\" fill=\"#000000\" fill-rule=\"evenodd\" fill-opacity=\"1\" /><path clip-path=\"url(#clip800)\" d=\"M693.914 205.946 L693.914 190.252 L698.173 190.252 L698.173 205.784 Q698.173 209.465 699.608 211.316 Q701.044 213.145 703.914 213.145 Q707.363 213.145 709.354 210.946 Q711.368 208.747 711.368 204.951 L711.368 190.252 L715.627 190.252 L715.627 216.178 L711.368 216.178 L711.368 212.196 Q709.817 214.557 707.756 215.715 Q705.719 216.849 703.011 216.849 Q698.544 216.849 696.229 214.071 Q693.914 211.293 693.914 205.946 M704.631 189.627 L704.631 189.627 Z\" fill=\"#000000\" fill-rule=\"evenodd\" fill-opacity=\"1\" /><path clip-path=\"url(#clip800)\" d=\"M724.4 180.159 L728.659 180.159 L728.659 216.178 L724.4 216.178 L724.4 180.159 Z\" fill=\"#000000\" fill-rule=\"evenodd\" fill-opacity=\"1\" /><path clip-path=\"url(#clip800)\" d=\"M737.571 180.159 L741.83 180.159 L741.83 216.178 L737.571 216.178 L737.571 180.159 Z\" fill=\"#000000\" fill-rule=\"evenodd\" fill-opacity=\"1\" /><path clip-path=\"url(#clip800)\" d=\"M770.441 224.048 L770.441 227.358 L745.812 227.358 L745.812 224.048 L770.441 224.048 Z\" fill=\"#000000\" fill-rule=\"evenodd\" fill-opacity=\"1\" /><path clip-path=\"url(#clip800)\" d=\"M796.622 202.15 L796.622 204.233 L777.039 204.233 Q777.316 208.631 779.677 210.946 Q782.062 213.238 786.298 213.238 Q788.751 213.238 791.043 212.636 Q793.358 212.034 795.626 210.83 L795.626 214.858 Q793.335 215.83 790.927 216.34 Q788.52 216.849 786.043 216.849 Q779.839 216.849 776.205 213.238 Q772.594 209.627 772.594 203.469 Q772.594 197.104 776.02 193.377 Q779.469 189.627 785.302 189.627 Q790.534 189.627 793.566 193.006 Q796.622 196.363 796.622 202.15 M792.363 200.9 Q792.316 197.405 790.395 195.321 Q788.497 193.238 785.349 193.238 Q781.784 193.238 779.631 195.252 Q777.501 197.266 777.177 200.923 L792.363 200.9 Z\" fill=\"#000000\" fill-rule=\"evenodd\" fill-opacity=\"1\" /><path clip-path=\"url(#clip800)\" d=\"M824.33 190.252 L814.955 202.867 L824.816 216.178 L819.793 216.178 L812.247 205.992 L804.7 216.178 L799.677 216.178 L809.747 202.613 L800.534 190.252 L805.557 190.252 L812.432 199.488 L819.307 190.252 L824.33 190.252 Z\" fill=\"#000000\" fill-rule=\"evenodd\" fill-opacity=\"1\" /><path clip-path=\"url(#clip800)\" d=\"M842.617 203.145 Q837.455 203.145 835.464 204.326 Q833.473 205.506 833.473 208.354 Q833.473 210.622 834.955 211.965 Q836.459 213.284 839.029 213.284 Q842.571 213.284 844.7 210.784 Q846.853 208.261 846.853 204.094 L846.853 203.145 L842.617 203.145 M851.112 201.386 L851.112 216.178 L846.853 216.178 L846.853 212.242 Q845.395 214.603 843.219 215.738 Q841.043 216.849 837.895 216.849 Q833.913 216.849 831.552 214.627 Q829.214 212.381 829.214 208.631 Q829.214 204.256 832.131 202.034 Q835.071 199.812 840.881 199.812 L846.853 199.812 L846.853 199.395 Q846.853 196.455 844.909 194.858 Q842.987 193.238 839.492 193.238 Q837.27 193.238 835.163 193.77 Q833.057 194.303 831.112 195.367 L831.112 191.432 Q833.45 190.53 835.649 190.09 Q837.848 189.627 839.932 189.627 Q845.557 189.627 848.334 192.543 Q851.112 195.46 851.112 201.386 Z\" fill=\"#000000\" fill-rule=\"evenodd\" fill-opacity=\"1\" /><path clip-path=\"url(#clip800)\" d=\"M878.543 191.247 L878.543 195.229 Q876.737 194.233 874.908 193.747 Q873.103 193.238 871.251 193.238 Q867.107 193.238 864.816 195.877 Q862.524 198.492 862.524 203.238 Q862.524 207.983 864.816 210.622 Q867.107 213.238 871.251 213.238 Q873.103 213.238 874.908 212.752 Q876.737 212.242 878.543 211.247 L878.543 215.182 Q876.76 216.016 874.839 216.432 Q872.941 216.849 870.788 216.849 Q864.932 216.849 861.483 213.168 Q858.033 209.488 858.033 203.238 Q858.033 196.895 861.506 193.261 Q865.001 189.627 871.066 189.627 Q873.033 189.627 874.908 190.043 Q876.783 190.437 878.543 191.247 Z\" fill=\"#000000\" fill-rule=\"evenodd\" fill-opacity=\"1\" /><path clip-path=\"url(#clip800)\" d=\"M890.163 182.891 L890.163 190.252 L898.936 190.252 L898.936 193.562 L890.163 193.562 L890.163 207.636 Q890.163 210.807 891.019 211.71 Q891.899 212.613 894.561 212.613 L898.936 212.613 L898.936 216.178 L894.561 216.178 Q889.63 216.178 887.756 214.349 Q885.881 212.497 885.881 207.636 L885.881 193.562 L882.756 193.562 L882.756 190.252 L885.881 190.252 L885.881 182.891 L890.163 182.891 Z\" fill=\"#000000\" fill-rule=\"evenodd\" fill-opacity=\"1\" /></svg>\n"
      ]
     },
     "execution_count": 80,
     "metadata": {},
     "output_type": "execute_result"
    }
   ],
   "source": [
    "plot(scan_results_ind_hub.lod, label = \"lod_individual_null_exact\");\n",
    "plot!(scan_results_strains_hub.lod, label = \"lod_strains_null_exact\")"
   ]
  },
  {
   "cell_type": "code",
   "execution_count": 81,
   "id": "26594bd1-d0cd-456c-b48f-c69480ff1daa",
   "metadata": {},
   "outputs": [
    {
     "data": {
      "text/plain": [
       "0.8568184216302921"
      ]
     },
     "execution_count": 81,
     "metadata": {},
     "output_type": "execute_result"
    }
   ],
   "source": [
    "maximum(abs.(scan_results_strains_hub.lod .- bulkscan_results_strains.L[:, lp_id]))"
   ]
  },
  {
   "cell_type": "code",
   "execution_count": 82,
   "id": "0a275ff1-3d82-435a-9d2c-686d8ba4cb37",
   "metadata": {},
   "outputs": [],
   "source": [
    "(lp_strains_y0, X0, lambda0) = transform_rotation(lp_strains_y, geno_strains, kinship_strains);"
   ]
  },
  {
   "cell_type": "markdown",
   "id": "1ddf54c4-ce2a-469e-afc8-08b152d4d8cd",
   "metadata": {
    "tags": []
   },
   "source": [
    "## Run GEMMA for single-trait scans:"
   ]
  },
  {
   "cell_type": "code",
   "execution_count": null,
   "id": "b1bac948-cc65-453b-8b09-9c772cd932b6",
   "metadata": {},
   "outputs": [],
   "source": [
    "pwd()"
   ]
  },
  {
   "cell_type": "code",
   "execution_count": null,
   "id": "7e7b6054-f267-437b-ac63-8a9b3e1ff006",
   "metadata": {},
   "outputs": [],
   "source": [
    "gemma = \"/home/zyu20/Softwares/gemma-0.98.5-linux-static-AMD64\""
   ]
  },
  {
   "cell_type": "code",
   "execution_count": null,
   "id": "73a7cbf3-d647-4c5a-a7e3-42677404cca2",
   "metadata": {},
   "outputs": [],
   "source": [
    "run(`$gemma -h`)"
   ]
  },
  {
   "cell_type": "code",
   "execution_count": null,
   "id": "ee6e9830-b187-452a-ab36-e814781b1b70",
   "metadata": {},
   "outputs": [],
   "source": [
    "function transform_bxd_pheno_to_gemma2(inputfile::AbstractString, outputfile::AbstractString, iter::Int64)\n",
    "    pheno = CSV.read(inputfile, DataFrame);\n",
    "    pheno = Matrix{Float64}(pheno[:, 3:end]);\n",
    "    open(outputfile, \"w\") do io\n",
    "        writedlm(io, pheno[:, iter])\n",
    "    end\n",
    "    return pheno\n",
    "end"
   ]
  },
  {
   "cell_type": "code",
   "execution_count": null,
   "id": "39441696-89ed-4087-b2ad-67f12bef125b",
   "metadata": {},
   "outputs": [],
   "source": [
    "function transform_bxd_geno_to_gemma2(inputfile::AbstractString, outputfile::AbstractString, \n",
    "                                      startCol::Int64)\n",
    "    data = CSV.read(inputfile, DataFrame);\n",
    "    \n",
    "    marker_names = names(data)[startCol:end];\n",
    "    data = 2 .* data[:, startCol:end] |> x -> Matrix{Float64}(x)\n",
    "    # data = data[:, startCol:end] |> x -> Matrix{Float64}(x)\n",
    "    minor_allele = fill(\"A\", length(marker_names), 1);\n",
    "    major_allele = fill(\"B\", length(marker_names), 1);\n",
    "    output = hcat(hcat(marker_names, minor_allele, major_allele), transpose(data))\n",
    "    writeToFile(output, outputfile)\n",
    "    return output\n",
    "end"
   ]
  },
  {
   "cell_type": "code",
   "execution_count": null,
   "id": "0e090b4f-6dc7-44bf-b082-893f5deed830",
   "metadata": {},
   "outputs": [],
   "source": [
    "lp_id"
   ]
  },
  {
   "cell_type": "code",
   "execution_count": null,
   "id": "1d49eaa6-a548-4ee8-a565-3f548535da52",
   "metadata": {},
   "outputs": [],
   "source": [
    "transform_bxd_geno_to_gemma2(\"data/GN886_geno_strains_summary.csv\", \"data/GEMMA_data/GN886_geno_strains_summary.txt\", 2);\n",
    "transform_bxd_geno_to_gemma2(\"data/GN886_geno_summary.csv\", \"data/GEMMA_data/GN886_geno_ind_summary.txt\", 4);"
   ]
  },
  {
   "cell_type": "code",
   "execution_count": null,
   "id": "4015a708-0c19-4a46-9f59-2ad49ef02b24",
   "metadata": {},
   "outputs": [],
   "source": [
    "transform_bxd_pheno_to_gemma2(\"data/GN886_pheno_huber_strain_means_summary.csv\", \"data/GEMMA_data/GN886_pheno_huber_strains_summary.txt\", lp_id);\n",
    "transform_bxd_pheno_to_gemma2(\"data/GN886_pheno_huber_summary.csv\", \"data/GEMMA_data/GN886_pheno_huber_ind_summary.txt\", lp_id);"
   ]
  },
  {
   "cell_type": "code",
   "execution_count": null,
   "id": "0ae98acb-a676-49b6-ab15-ed9dad6d3e21",
   "metadata": {},
   "outputs": [],
   "source": [
    "writedlm(\"data/GEMMA_data/kinship_strains.txt\", kinship_strains, '\\t')\n",
    "writedlm(\"data/GEMMA_data/kinship_ind.txt\", kinship_ind_from_strains, '\\t')"
   ]
  },
  {
   "cell_type": "code",
   "execution_count": null,
   "id": "76c8932a-65f4-4048-80e3-8b377700abf9",
   "metadata": {},
   "outputs": [],
   "source": [
    "function p2lod(pval::Float64, df::Int64)\n",
    "    \n",
    "    lrs = invlogcdf(Chisq(df), log(1-pval))\n",
    "    lod = lrs/(2*log(10))\n",
    "    \n",
    "    # return lrs\n",
    "    return lod\n",
    "\n",
    "end"
   ]
  },
  {
   "cell_type": "code",
   "execution_count": null,
   "id": "ba8d2c36-000d-4f71-b0eb-34fdb7f5f5f3",
   "metadata": {},
   "outputs": [],
   "source": [
    "function gemmaWrapper(pheno_filename::String, geno_filename::String,\n",
    "                      kinship_filename::String, output_filename::String)\n",
    "    \n",
    "    run(`$gemma -g $geno_filename -p $pheno_filename -k $kinship_filename -lmm 2 -lmax 1000000 -o $output_filename`)\n",
    "    \n",
    "end"
   ]
  },
  {
   "cell_type": "code",
   "execution_count": null,
   "id": "5c081ae1-91e6-44e4-ac5b-be6bdaa982be",
   "metadata": {},
   "outputs": [],
   "source": [
    "@time gemmaWrapper(\"data/GEMMA_data/GN886_pheno_strains_summary.txt\", \n",
    "                   \"data/GEMMA_data/GN886_geno_strains_summary.txt\",\n",
    "                   \"data/GEMMA_data/kinship_strains.txt\",\n",
    "                   \"results_strains.txt\");"
   ]
  },
  {
   "cell_type": "code",
   "execution_count": null,
   "id": "de3ba7dd-97a4-4286-b61e-e7926647e930",
   "metadata": {},
   "outputs": [],
   "source": [
    "@time gemmaWrapper(\"data/GEMMA_data/GN886_pheno_huber_ind_summary.txt\", \n",
    "                   \"data/GEMMA_data/GN886_geno_ind_summary.txt\",\n",
    "                   \"data/GEMMA_data/kinship_ind.txt\",\n",
    "                   \"results_ind.txt\");"
   ]
  },
  {
   "cell_type": "code",
   "execution_count": null,
   "id": "d48f6416-11df-47d2-ae97-b9cf673623bc",
   "metadata": {},
   "outputs": [],
   "source": [
    "sum(eigen(kinship_ind_from_strains).values.<0.0001)"
   ]
  },
  {
   "cell_type": "code",
   "execution_count": null,
   "id": "b6e5af53-02e8-4cec-b8fc-83b3efe76ddd",
   "metadata": {},
   "outputs": [],
   "source": [
    "gemma_results_strains = readdlm(\"output/results_strains.txt.assoc.txt\", '\\t');\n",
    "gemma_results_ind = readdlm(\"output/results_ind.txt.assoc.txt\", '\\t');"
   ]
  },
  {
   "cell_type": "code",
   "execution_count": null,
   "id": "b1f06ed0-ba22-4f56-9843-de4b47d2b7b8",
   "metadata": {},
   "outputs": [],
   "source": [
    "gemma_strains = gemma_results_strains[2:end, 10] |> x -> Array{Float64}(x);\n",
    "gemma_ind = gemma_results_ind[2:end, 10] |> x -> Array{Float64}(x);"
   ]
  },
  {
   "cell_type": "code",
   "execution_count": null,
   "id": "f082a5d7-1717-4f03-9272-07df9e10c38e",
   "metadata": {},
   "outputs": [],
   "source": [
    "gemma_strains_lod = p2lod.(gemma_strains, 1);\n",
    "gemma_ind_lod = p2lod.(gemma_ind, 1);"
   ]
  },
  {
   "cell_type": "code",
   "execution_count": null,
   "id": "077555ab-3fa2-4ad6-a9c0-e8f8410b52f8",
   "metadata": {},
   "outputs": [],
   "source": [
    "hcat(gemma_ind_lod, scan_results_ind.lod)"
   ]
  },
  {
   "cell_type": "code",
   "execution_count": null,
   "id": "7e0eb569-2240-4346-9b81-f3b66c8206cc",
   "metadata": {},
   "outputs": [],
   "source": [
    "hcat(gemma_strains_lod, scan_results_strains_alt_hub.lod, bulkscan_results_strains[3][:, lp_id])"
   ]
  },
  {
   "cell_type": "code",
   "execution_count": null,
   "id": "709a4dfd-3648-4165-9d24-d3fadaee590a",
   "metadata": {},
   "outputs": [],
   "source": [
    "lookRange = 2001:4000"
   ]
  },
  {
   "cell_type": "code",
   "execution_count": null,
   "id": "5e4e64a0-6443-4654-b791-a392d62e5d7f",
   "metadata": {},
   "outputs": [],
   "source": [
    "lookRange = 1:1000"
   ]
  },
  {
   "cell_type": "code",
   "execution_count": null,
   "id": "e7359365-0980-44c6-bb9b-c57ef20a0506",
   "metadata": {},
   "outputs": [],
   "source": [
    "plot(gemma_strains_lod[lookRange], label = \"GEMMA_strains\");\n",
    "# plot!(scan_results_strains_alt_hub.lod[lookRange], label = \"BulkLMM_strains\")\n",
    "plot!(bulkscan_results_strains[3][lookRange, lp_id], label = \"BulkLMM_strains_grid\")"
   ]
  },
  {
   "cell_type": "code",
   "execution_count": null,
   "id": "634bf00f-9d0c-4dac-9e69-a1c59b390fef",
   "metadata": {},
   "outputs": [],
   "source": [
    "scan_results_ind.h2_null"
   ]
  },
  {
   "cell_type": "markdown",
   "id": "1636f06a-05e5-4d55-a747-f2cb0e31b0ee",
   "metadata": {},
   "source": [
    "## Examine loglikelihood:"
   ]
  },
  {
   "cell_type": "code",
   "execution_count": null,
   "id": "635967d9-359a-4800-a7a0-6f06cbc6e419",
   "metadata": {},
   "outputs": [],
   "source": [
    "fitlmm(lp_strains_y0, reshape(X0[:, 1], :, 1), lambda0, [0.0, 0.0]).h2"
   ]
  },
  {
   "cell_type": "code",
   "execution_count": null,
   "id": "6b71bc3f-499c-486a-a33b-2d04fa7813b0",
   "metadata": {},
   "outputs": [],
   "source": [
    "w = makeweights(0.601192247603648, lambda0);\n",
    "w_h0 = makeweights(0.0, lambda0);"
   ]
  },
  {
   "cell_type": "code",
   "execution_count": null,
   "id": "8fc7435c-c935-4e00-9fc6-78a382bd4baf",
   "metadata": {},
   "outputs": [],
   "source": [
    "wls(lp_strains_y0, reshape(X0[:, 1], :, 1), w, [0.0, 0.0]).ell"
   ]
  },
  {
   "cell_type": "code",
   "execution_count": null,
   "id": "07a88ec8-8d86-4908-ac1c-6b239ef8ee9e",
   "metadata": {},
   "outputs": [],
   "source": [
    "wls(lp_strains_y0, reshape(X0[:, 1], :, 1), w_h0, [0.0, 0.0]).ell"
   ]
  },
  {
   "cell_type": "code",
   "execution_count": null,
   "id": "b9b430e6-7ac1-4ec8-b267-fd7f67d76c23",
   "metadata": {},
   "outputs": [],
   "source": [
    "function getLL(y::Array{Float64, 2}, G::Array{Float64, 2}, K::Array{Float64, 2}, markerID::Int64, h2::Float64; prior::Array{Float64, 1} = [0.0, 0.0])\n",
    "    \n",
    "    Gj = reshape(G[:, markerID], :, 1);\n",
    "    (y0, X0, lambda0) = transform_rotation(y, Gj, K; addIntercept = true);\n",
    "    w = makeweights(h2, lambda0);\n",
    "    X0_inter = reshape(X0[:, 1], :, 1);\n",
    "    \n",
    "    return (ll_null = wls(y0, X0_inter, w, prior).ell, ll_markerID = wls(y0, X0, w, prior).ell)\n",
    "    # return (wls(y0, X0_inter, w, prior).ell, wls(y0, X0, w, prior).ell)\n",
    "end"
   ]
  },
  {
   "cell_type": "code",
   "execution_count": null,
   "id": "b678e8d5-f75d-48a6-b369-fb2642f5ec5b",
   "metadata": {},
   "outputs": [],
   "source": [
    "opt = optimize(x -> -getLL(lp_strains_y_hub, geno_strains, kinship_strains, 1997, x).ll_null, 0.0, 1.0)"
   ]
  },
  {
   "cell_type": "code",
   "execution_count": null,
   "id": "d03b2ecb-da4a-493a-b6bf-036bc115ca27",
   "metadata": {},
   "outputs": [],
   "source": [
    "opt.minimizer"
   ]
  },
  {
   "cell_type": "code",
   "execution_count": null,
   "id": "e3bbd867-f813-4b4f-ac18-37dfacd7b7c9",
   "metadata": {},
   "outputs": [],
   "source": [
    "opt.minimum"
   ]
  },
  {
   "cell_type": "code",
   "execution_count": null,
   "id": "93752916-c6ac-4c63-8eb2-f5f3368eb849",
   "metadata": {},
   "outputs": [],
   "source": [
    "-getLL(lp_strains_y_hub, geno_strains, kinship_strains, 1997, 0.0).ll_null"
   ]
  },
  {
   "cell_type": "code",
   "execution_count": null,
   "id": "5268d4f8-93d8-453e-a4c6-54ee625a68d9",
   "metadata": {},
   "outputs": [],
   "source": [
    "opt.minimum <= -getLL(lp_strains_y_hub, geno_strains, kinship_strains, 1997, 0.0).ll_null"
   ]
  },
  {
   "cell_type": "code",
   "execution_count": null,
   "id": "fa61ed18-c2f9-46c1-8b7f-a8b56e2c5916",
   "metadata": {},
   "outputs": [],
   "source": []
  },
  {
   "cell_type": "code",
   "execution_count": null,
   "id": "15261040-1dc9-4e7f-98da-8e00ade3128d",
   "metadata": {},
   "outputs": [],
   "source": []
  },
  {
   "cell_type": "code",
   "execution_count": null,
   "id": "fa95280c-e456-49af-a360-555364a7ae25",
   "metadata": {},
   "outputs": [],
   "source": []
  },
  {
   "cell_type": "code",
   "execution_count": null,
   "id": "1dce9acf-3077-48a2-bc5a-ab8d19ee1b03",
   "metadata": {},
   "outputs": [],
   "source": [
    "var(lp_strains_y)"
   ]
  },
  {
   "cell_type": "code",
   "execution_count": null,
   "id": "72ee791b-0a3b-41f5-b945-0a54f6535523",
   "metadata": {},
   "outputs": [],
   "source": [
    "ind_ll = map(x -> getLL(lp_ind_y, geno_ind, kinship_ind_from_strains, 1997, x), collect(0.0:0.001:0.999));\n",
    "strains_ll = map(x -> getLL(lp_strains_y, geno_strains, kinship_strains, 1997, x), collect(0.0:0.001:0.999));"
   ]
  },
  {
   "cell_type": "code",
   "execution_count": null,
   "id": "0b411521-f2c7-49a2-89ed-058d062b6738",
   "metadata": {},
   "outputs": [],
   "source": [
    "ind_ell_list = zeros(999);\n",
    "strains_ell_list = zeros(999);\n",
    "strains_ell_list_alt = zeros(999);\n",
    "for k in 1:999 \n",
    "    ind_ell_list[k] = ind_ll[k].ll_null;\n",
    "    strains_ell_list[k] = strains_ll[k].ll_null;\n",
    "    strains_ell_list_alt[k] = strains_ll[k].ll_markerID;\n",
    "end"
   ]
  },
  {
   "cell_type": "code",
   "execution_count": null,
   "id": "c36342c1-adda-439d-8a36-6ddf1318854d",
   "metadata": {},
   "outputs": [],
   "source": [
    "scan_results_strains_hub.h2_null"
   ]
  },
  {
   "cell_type": "code",
   "execution_count": null,
   "id": "d7c6bd9a-3a3c-4d18-95fd-3e37505a91f9",
   "metadata": {},
   "outputs": [],
   "source": [
    "getLL(lp_strains_y, geno_strains, kinship_strains, 1997, 0.6011922559652536)"
   ]
  },
  {
   "cell_type": "code",
   "execution_count": null,
   "id": "b344ef20-8ac9-4688-b860-213d73ae9412",
   "metadata": {},
   "outputs": [],
   "source": [
    "scan_results_strains_hub.h2_null"
   ]
  },
  {
   "cell_type": "code",
   "execution_count": null,
   "id": "0cb7ec5b-cf79-432d-befb-f61d69f1b213",
   "metadata": {},
   "outputs": [],
   "source": [
    "min(1.0, 2.0)"
   ]
  },
  {
   "cell_type": "code",
   "execution_count": null,
   "id": "df99ceb3-16fe-4af0-bdc5-6e937e419243",
   "metadata": {},
   "outputs": [],
   "source": [
    "scan_results_strains_alt_hub.h2_each_marker[1997]"
   ]
  },
  {
   "cell_type": "code",
   "execution_count": null,
   "id": "2c591cf3-dc60-43d6-837c-23bd9c20a665",
   "metadata": {},
   "outputs": [],
   "source": []
  },
  {
   "cell_type": "code",
   "execution_count": null,
   "id": "2d0f18a8-e23d-4b49-92f7-04ee04f1d4aa",
   "metadata": {},
   "outputs": [],
   "source": [
    "plot(strains_ell_list, label = \"null\")\n",
    "plot!(strains_ell_list_alt, label = \"alt\")"
   ]
  },
  {
   "cell_type": "code",
   "execution_count": null,
   "id": "61b260fc-353f-4c19-9898-b60bea2484ab",
   "metadata": {},
   "outputs": [],
   "source": [
    "plot(strains_ell_list) # covariates+marker"
   ]
  },
  {
   "cell_type": "code",
   "execution_count": null,
   "id": "6e420b54-7a4c-4c13-86a5-ee383b660f7f",
   "metadata": {},
   "outputs": [],
   "source": [
    "findmax(strains_ell_list)"
   ]
  },
  {
   "cell_type": "code",
   "execution_count": null,
   "id": "e6908b72-61d6-46e2-bfdc-00d514d2570c",
   "metadata": {},
   "outputs": [],
   "source": [
    "plot(collect(1:999).*0.001, ind_ell_list, xlabel = \"h2\", ylabel = \"loglik\", label = \"LP individuals\", color = \"blue\", legend=:bottomleft)\n",
    "plot!(collect(1:999).*0.001, strains_ell_list, xlabel = \"h2\", ylabel = \"loglik\", label = \"LP strain means\", color = \"red\")"
   ]
  },
  {
   "cell_type": "code",
   "execution_count": null,
   "id": "8af2bb19-f013-4038-a40e-e7568e1b28a5",
   "metadata": {},
   "outputs": [],
   "source": [
    "max_lods_ind = mapslices(x -> maximum(bulkscan_results_ind[3][:, x]))"
   ]
  }
 ],
 "metadata": {
  "kernelspec": {
   "display_name": "Julia 16 Threads 1.7.3",
   "language": "julia",
   "name": "julia-16-threads-1.7"
  },
  "language_info": {
   "file_extension": ".jl",
   "mimetype": "application/julia",
   "name": "julia",
   "version": "1.7.3"
  }
 },
 "nbformat": 4,
 "nbformat_minor": 5
}
