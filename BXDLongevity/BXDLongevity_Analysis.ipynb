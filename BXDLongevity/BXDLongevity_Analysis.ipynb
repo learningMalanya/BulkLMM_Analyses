{
 "cells": [
  {
   "cell_type": "markdown",
   "id": "76f80b67-85df-4d55-bb10-f6913d392780",
   "metadata": {},
   "source": [
    "## Data Analysis using BulkLMM - BXD Longevity Study"
   ]
  },
  {
   "cell_type": "code",
   "execution_count": 1,
   "id": "028f2786-ee1b-4ec3-ab13-05110ad9caf6",
   "metadata": {},
   "outputs": [],
   "source": [
    "using CSV, DelimitedFiles, DataFrames, Missings, XLSX\n",
    "using LinearAlgebra, Statistics, Optim\n",
    "using Random, Distributions, LoopVectorization\n",
    "using GeneNetworkAPI, Downloads\n",
    "using BenchmarkTools"
   ]
  },
  {
   "cell_type": "code",
   "execution_count": 2,
   "id": "4a6c9448-eeee-4fe2-8b74-a183abe6cf6f",
   "metadata": {},
   "outputs": [],
   "source": [
    "using Plots"
   ]
  },
  {
   "cell_type": "code",
   "execution_count": 3,
   "id": "bc3d1279-dc9b-4a8e-8616-12e041d6179f",
   "metadata": {},
   "outputs": [],
   "source": [
    "local_path = \"../../BulkLMM.jl/src\";"
   ]
  },
  {
   "cell_type": "code",
   "execution_count": 4,
   "id": "d10bc79d-6961-489d-a971-fb0562b6e25b",
   "metadata": {},
   "outputs": [
    {
     "data": {
      "text/plain": [
       "huberize (generic function with 1 method)"
      ]
     },
     "execution_count": 4,
     "metadata": {},
     "output_type": "execute_result"
    }
   ],
   "source": [
    "import LossFunctions: HuberLoss, value\n",
    "import Distributions: Chisq,ccdf\n",
    "import StatsBase: mad, sample\n",
    "\n",
    "function huberize(y::Vector{Float64})\n",
    "    m = median(y)\n",
    "    s = mad(y,normalize=true)\n",
    "    z = (y.-m)./s\n",
    "    l = value.(HuberLoss(1),z)\n",
    "    x = sign.(z).* sqrt.(2*l)\n",
    "    return m .+ s.*x\n",
    "end"
   ]
  },
  {
   "cell_type": "markdown",
   "id": "548266cf-7288-4c51-a8d0-61a23e207f4e",
   "metadata": {},
   "source": [
    "## Load processed_data:"
   ]
  },
  {
   "cell_type": "markdown",
   "id": "76b2ccbd-e0db-4bcd-a11d-7703fbbbd811",
   "metadata": {},
   "source": [
    "### By individuals:"
   ]
  },
  {
   "cell_type": "code",
   "execution_count": 5,
   "id": "abafa447-fb73-405f-a457-8ab1ac3cefcc",
   "metadata": {},
   "outputs": [],
   "source": [
    "BXD_pheno_ind_summary_df = CSV.read(\"data/GN886_pheno_summary.csv\", DataFrame);"
   ]
  },
  {
   "cell_type": "markdown",
   "id": "a3e12b95-f2e2-4cfc-812d-34f74ac83f1e",
   "metadata": {},
   "source": [
    "By individuals, there are 248 individual samples for 32445 livear proteome."
   ]
  },
  {
   "cell_type": "code",
   "execution_count": 6,
   "id": "cf42c49c-60d5-458e-9206-35123de57d51",
   "metadata": {},
   "outputs": [
    {
     "name": "stdout",
     "output_type": "stream",
     "text": [
      "(248, 32448)\n"
     ]
    },
    {
     "data": {
      "text/html": [
       "<div><div style = \"float: left;\"><span>10×10 DataFrame</span></div><div style = \"clear: both;\"></div></div><div class = \"data-frame\" style = \"overflow-x: scroll;\"><table class = \"data-frame\" style = \"margin-bottom: 6px;\"><thead><tr class = \"header\"><th class = \"rowNumber\" style = \"font-weight: bold; text-align: right;\">Row</th><th style = \"text-align: left;\">Sample</th><th style = \"text-align: left;\">Strain</th><th style = \"text-align: left;\">Strain_num</th><th style = \"text-align: left;\">P42209_DESGLNRK_2</th><th style = \"text-align: left;\">P42209_GLRPLDVAFLR_3</th><th style = \"text-align: left;\">Q99M02_VGDPVYR_2</th><th style = \"text-align: left;\">Q99M02_VWIYPIK_2</th><th style = \"text-align: left;\">Q99M02_LCDPSVK_2</th><th style = \"text-align: left;\">Q99M02_CVLTTVDPDTGIIDR_2</th><th style = \"text-align: left;\">Q99M02_LVQFDTSMK_2</th></tr><tr class = \"subheader headerLastRow\"><th class = \"rowNumber\" style = \"font-weight: bold; text-align: right;\"></th><th title = \"String7\" style = \"text-align: left;\">String7</th><th title = \"String7\" style = \"text-align: left;\">String7</th><th title = \"Int64\" style = \"text-align: left;\">Int64</th><th title = \"Float64\" style = \"text-align: left;\">Float64</th><th title = \"Float64\" style = \"text-align: left;\">Float64</th><th title = \"Float64\" style = \"text-align: left;\">Float64</th><th title = \"Float64\" style = \"text-align: left;\">Float64</th><th title = \"Float64\" style = \"text-align: left;\">Float64</th><th title = \"Float64\" style = \"text-align: left;\">Float64</th><th title = \"Float64\" style = \"text-align: left;\">Float64</th></tr></thead><tbody><tr><td class = \"rowNumber\" style = \"font-weight: bold; text-align: right;\">1</td><td style = \"text-align: left;\">H1009</td><td style = \"text-align: left;\">BXD9</td><td style = \"text-align: right;\">9</td><td style = \"text-align: right;\">11.349</td><td style = \"text-align: right;\">11.534</td><td style = \"text-align: right;\">17.587</td><td style = \"text-align: right;\">17.517</td><td style = \"text-align: right;\">17.309</td><td style = \"text-align: right;\">16.574</td><td style = \"text-align: right;\">16.323</td></tr><tr><td class = \"rowNumber\" style = \"font-weight: bold; text-align: right;\">2</td><td style = \"text-align: left;\">H0370</td><td style = \"text-align: left;\">BXD9</td><td style = \"text-align: right;\">9</td><td style = \"text-align: right;\">11.249</td><td style = \"text-align: right;\">12.735</td><td style = \"text-align: right;\">17.427</td><td style = \"text-align: right;\">17.325</td><td style = \"text-align: right;\">17.252</td><td style = \"text-align: right;\">16.685</td><td style = \"text-align: right;\">16.021</td></tr><tr><td class = \"rowNumber\" style = \"font-weight: bold; text-align: right;\">3</td><td style = \"text-align: left;\">H2577</td><td style = \"text-align: left;\">BXD9</td><td style = \"text-align: right;\">9</td><td style = \"text-align: right;\">12.415</td><td style = \"text-align: right;\">10.487</td><td style = \"text-align: right;\">17.89</td><td style = \"text-align: right;\">17.488</td><td style = \"text-align: right;\">17.594</td><td style = \"text-align: right;\">16.731</td><td style = \"text-align: right;\">16.208</td></tr><tr><td class = \"rowNumber\" style = \"font-weight: bold; text-align: right;\">4</td><td style = \"text-align: left;\">H0365</td><td style = \"text-align: left;\">BXD9</td><td style = \"text-align: right;\">9</td><td style = \"text-align: right;\">11.374</td><td style = \"text-align: right;\">10.674</td><td style = \"text-align: right;\">17.714</td><td style = \"text-align: right;\">17.401</td><td style = \"text-align: right;\">17.381</td><td style = \"text-align: right;\">16.621</td><td style = \"text-align: right;\">16.337</td></tr><tr><td class = \"rowNumber\" style = \"font-weight: bold; text-align: right;\">5</td><td style = \"text-align: left;\">H1333</td><td style = \"text-align: left;\">BXD13</td><td style = \"text-align: right;\">13</td><td style = \"text-align: right;\">11.687</td><td style = \"text-align: right;\">11.524</td><td style = \"text-align: right;\">17.362</td><td style = \"text-align: right;\">17.367</td><td style = \"text-align: right;\">17.071</td><td style = \"text-align: right;\">16.465</td><td style = \"text-align: right;\">15.97</td></tr><tr><td class = \"rowNumber\" style = \"font-weight: bold; text-align: right;\">6</td><td style = \"text-align: left;\">H2259</td><td style = \"text-align: left;\">BXD24</td><td style = \"text-align: right;\">24</td><td style = \"text-align: right;\">11.837</td><td style = \"text-align: right;\">11.715</td><td style = \"text-align: right;\">17.57</td><td style = \"text-align: right;\">17.792</td><td style = \"text-align: right;\">17.505</td><td style = \"text-align: right;\">16.894</td><td style = \"text-align: right;\">16.277</td></tr><tr><td class = \"rowNumber\" style = \"font-weight: bold; text-align: right;\">7</td><td style = \"text-align: left;\">H1792</td><td style = \"text-align: left;\">BXD24</td><td style = \"text-align: right;\">24</td><td style = \"text-align: right;\">11.563</td><td style = \"text-align: right;\">11.434</td><td style = \"text-align: right;\">17.789</td><td style = \"text-align: right;\">17.847</td><td style = \"text-align: right;\">17.416</td><td style = \"text-align: right;\">17.042</td><td style = \"text-align: right;\">16.292</td></tr><tr><td class = \"rowNumber\" style = \"font-weight: bold; text-align: right;\">8</td><td style = \"text-align: left;\">H1791</td><td style = \"text-align: left;\">BXD24</td><td style = \"text-align: right;\">24</td><td style = \"text-align: right;\">12.5</td><td style = \"text-align: right;\">12.273</td><td style = \"text-align: right;\">17.944</td><td style = \"text-align: right;\">17.833</td><td style = \"text-align: right;\">17.63</td><td style = \"text-align: right;\">16.862</td><td style = \"text-align: right;\">16.3</td></tr><tr><td class = \"rowNumber\" style = \"font-weight: bold; text-align: right;\">9</td><td style = \"text-align: left;\">H1541</td><td style = \"text-align: left;\">BXD24</td><td style = \"text-align: right;\">24</td><td style = \"text-align: right;\">11.815</td><td style = \"text-align: right;\">11.564</td><td style = \"text-align: right;\">17.794</td><td style = \"text-align: right;\">17.759</td><td style = \"text-align: right;\">17.456</td><td style = \"text-align: right;\">16.878</td><td style = \"text-align: right;\">16.377</td></tr><tr><td class = \"rowNumber\" style = \"font-weight: bold; text-align: right;\">10</td><td style = \"text-align: left;\">H1277</td><td style = \"text-align: left;\">BXD24</td><td style = \"text-align: right;\">24</td><td style = \"text-align: right;\">12.674</td><td style = \"text-align: right;\">11.743</td><td style = \"text-align: right;\">17.866</td><td style = \"text-align: right;\">17.845</td><td style = \"text-align: right;\">17.577</td><td style = \"text-align: right;\">16.922</td><td style = \"text-align: right;\">16.26</td></tr></tbody></table></div>"
      ],
      "text/latex": [
       "\\begin{tabular}{r|ccccccc}\n",
       "\t& Sample & Strain & Strain\\_num & P42209\\_DESGLNRK\\_2 & P42209\\_GLRPLDVAFLR\\_3 & Q99M02\\_VGDPVYR\\_2 & \\\\\n",
       "\t\\hline\n",
       "\t& String7 & String7 & Int64 & Float64 & Float64 & Float64 & \\\\\n",
       "\t\\hline\n",
       "\t1 & H1009 & BXD9 & 9 & 11.349 & 11.534 & 17.587 & $\\dots$ \\\\\n",
       "\t2 & H0370 & BXD9 & 9 & 11.249 & 12.735 & 17.427 & $\\dots$ \\\\\n",
       "\t3 & H2577 & BXD9 & 9 & 12.415 & 10.487 & 17.89 & $\\dots$ \\\\\n",
       "\t4 & H0365 & BXD9 & 9 & 11.374 & 10.674 & 17.714 & $\\dots$ \\\\\n",
       "\t5 & H1333 & BXD13 & 13 & 11.687 & 11.524 & 17.362 & $\\dots$ \\\\\n",
       "\t6 & H2259 & BXD24 & 24 & 11.837 & 11.715 & 17.57 & $\\dots$ \\\\\n",
       "\t7 & H1792 & BXD24 & 24 & 11.563 & 11.434 & 17.789 & $\\dots$ \\\\\n",
       "\t8 & H1791 & BXD24 & 24 & 12.5 & 12.273 & 17.944 & $\\dots$ \\\\\n",
       "\t9 & H1541 & BXD24 & 24 & 11.815 & 11.564 & 17.794 & $\\dots$ \\\\\n",
       "\t10 & H1277 & BXD24 & 24 & 12.674 & 11.743 & 17.866 & $\\dots$ \\\\\n",
       "\\end{tabular}\n"
      ],
      "text/plain": [
       "\u001b[1m10×10 DataFrame\u001b[0m\n",
       "\u001b[1m Row \u001b[0m│\u001b[1m Sample  \u001b[0m\u001b[1m Strain  \u001b[0m\u001b[1m Strain_num \u001b[0m\u001b[1m P42209_DESGLNRK_2 \u001b[0m\u001b[1m P42209_GLRPLDVAFLR_3 \u001b[0m\u001b[1m \u001b[0m ⋯\n",
       "     │\u001b[90m String7 \u001b[0m\u001b[90m String7 \u001b[0m\u001b[90m Int64      \u001b[0m\u001b[90m Float64           \u001b[0m\u001b[90m Float64              \u001b[0m\u001b[90m \u001b[0m ⋯\n",
       "─────┼──────────────────────────────────────────────────────────────────────────\n",
       "   1 │ H1009    BXD9              9             11.349                11.534   ⋯\n",
       "   2 │ H0370    BXD9              9             11.249                12.735\n",
       "   3 │ H2577    BXD9              9             12.415                10.487\n",
       "   4 │ H0365    BXD9              9             11.374                10.674\n",
       "   5 │ H1333    BXD13            13             11.687                11.524   ⋯\n",
       "   6 │ H2259    BXD24            24             11.837                11.715\n",
       "   7 │ H1792    BXD24            24             11.563                11.434\n",
       "   8 │ H1791    BXD24            24             12.5                  12.273\n",
       "   9 │ H1541    BXD24            24             11.815                11.564   ⋯\n",
       "  10 │ H1277    BXD24            24             12.674                11.743\n",
       "\u001b[36m                                                               5 columns omitted\u001b[0m"
      ]
     },
     "execution_count": 6,
     "metadata": {},
     "output_type": "execute_result"
    }
   ],
   "source": [
    "println(size(BXD_pheno_ind_summary_df)) \n",
    "BXD_pheno_ind_summary_df[1:10, 1:10]"
   ]
  },
  {
   "cell_type": "code",
   "execution_count": 7,
   "id": "5fd9f4b1-5c54-442b-bd68-1f8110045bc6",
   "metadata": {},
   "outputs": [
    {
     "data": {
      "text/plain": [
       "\"P61924_VALRGEDVPLTEQTVSQVLQSAK_3\""
      ]
     },
     "execution_count": 7,
     "metadata": {},
     "output_type": "execute_result"
    }
   ],
   "source": [
    "names(BXD_pheno_ind_summary_df)[7515]"
   ]
  },
  {
   "cell_type": "code",
   "execution_count": 8,
   "id": "05d0b88c-c346-4a8d-91fc-e3d78010146f",
   "metadata": {},
   "outputs": [
    {
     "data": {
      "image/svg+xml": [
       "<?xml version=\"1.0\" encoding=\"utf-8\"?>\n",
       "<svg xmlns=\"http://www.w3.org/2000/svg\" xmlns:xlink=\"http://www.w3.org/1999/xlink\" width=\"600\" height=\"400\" viewBox=\"0 0 2400 1600\">\n",
       "<defs>\n",
       "  <clipPath id=\"clip960\">\n",
       "    <rect x=\"0\" y=\"0\" width=\"2400\" height=\"1600\"/>\n",
       "  </clipPath>\n",
       "</defs>\n",
       "<path clip-path=\"url(#clip960)\" d=\"\n",
       "M0 1600 L2400 1600 L2400 0 L0 0  Z\n",
       "  \" fill=\"#ffffff\" fill-rule=\"evenodd\" fill-opacity=\"1\"/>\n",
       "<defs>\n",
       "  <clipPath id=\"clip961\">\n",
       "    <rect x=\"480\" y=\"0\" width=\"1681\" height=\"1600\"/>\n",
       "  </clipPath>\n",
       "</defs>\n",
       "<path clip-path=\"url(#clip960)\" d=\"\n",
       "M141.853 1486.45 L2352.76 1486.45 L2352.76 47.2441 L141.853 47.2441  Z\n",
       "  \" fill=\"#ffffff\" fill-rule=\"evenodd\" fill-opacity=\"1\"/>\n",
       "<defs>\n",
       "  <clipPath id=\"clip962\">\n",
       "    <rect x=\"141\" y=\"47\" width=\"2212\" height=\"1440\"/>\n",
       "  </clipPath>\n",
       "</defs>\n",
       "<polyline clip-path=\"url(#clip962)\" style=\"stroke:#000000; stroke-linecap:round; stroke-linejoin:round; stroke-width:2; stroke-opacity:0.1; fill:none\" points=\"\n",
       "  442.338,1486.45 442.338,47.2441 \n",
       "  \"/>\n",
       "<polyline clip-path=\"url(#clip962)\" style=\"stroke:#000000; stroke-linecap:round; stroke-linejoin:round; stroke-width:2; stroke-opacity:0.1; fill:none\" points=\"\n",
       "  889.542,1486.45 889.542,47.2441 \n",
       "  \"/>\n",
       "<polyline clip-path=\"url(#clip962)\" style=\"stroke:#000000; stroke-linecap:round; stroke-linejoin:round; stroke-width:2; stroke-opacity:0.1; fill:none\" points=\"\n",
       "  1336.75,1486.45 1336.75,47.2441 \n",
       "  \"/>\n",
       "<polyline clip-path=\"url(#clip962)\" style=\"stroke:#000000; stroke-linecap:round; stroke-linejoin:round; stroke-width:2; stroke-opacity:0.1; fill:none\" points=\"\n",
       "  1783.95,1486.45 1783.95,47.2441 \n",
       "  \"/>\n",
       "<polyline clip-path=\"url(#clip962)\" style=\"stroke:#000000; stroke-linecap:round; stroke-linejoin:round; stroke-width:2; stroke-opacity:0.1; fill:none\" points=\"\n",
       "  2231.15,1486.45 2231.15,47.2441 \n",
       "  \"/>\n",
       "<polyline clip-path=\"url(#clip960)\" style=\"stroke:#000000; stroke-linecap:round; stroke-linejoin:round; stroke-width:4; stroke-opacity:1; fill:none\" points=\"\n",
       "  141.853,1486.45 2352.76,1486.45 \n",
       "  \"/>\n",
       "<polyline clip-path=\"url(#clip960)\" style=\"stroke:#000000; stroke-linecap:round; stroke-linejoin:round; stroke-width:4; stroke-opacity:1; fill:none\" points=\"\n",
       "  442.338,1486.45 442.338,1467.55 \n",
       "  \"/>\n",
       "<polyline clip-path=\"url(#clip960)\" style=\"stroke:#000000; stroke-linecap:round; stroke-linejoin:round; stroke-width:4; stroke-opacity:1; fill:none\" points=\"\n",
       "  889.542,1486.45 889.542,1467.55 \n",
       "  \"/>\n",
       "<polyline clip-path=\"url(#clip960)\" style=\"stroke:#000000; stroke-linecap:round; stroke-linejoin:round; stroke-width:4; stroke-opacity:1; fill:none\" points=\"\n",
       "  1336.75,1486.45 1336.75,1467.55 \n",
       "  \"/>\n",
       "<polyline clip-path=\"url(#clip960)\" style=\"stroke:#000000; stroke-linecap:round; stroke-linejoin:round; stroke-width:4; stroke-opacity:1; fill:none\" points=\"\n",
       "  1783.95,1486.45 1783.95,1467.55 \n",
       "  \"/>\n",
       "<polyline clip-path=\"url(#clip960)\" style=\"stroke:#000000; stroke-linecap:round; stroke-linejoin:round; stroke-width:4; stroke-opacity:1; fill:none\" points=\"\n",
       "  2231.15,1486.45 2231.15,1467.55 \n",
       "  \"/>\n",
       "<path clip-path=\"url(#clip960)\" d=\"M394.41 1544.91 L402.049 1544.91 L402.049 1518.55 L393.739 1520.21 L393.739 1515.95 L402.003 1514.29 L406.678 1514.29 L406.678 1544.91 L414.317 1544.91 L414.317 1548.85 L394.41 1548.85 L394.41 1544.91 Z\" fill=\"#000000\" fill-rule=\"evenodd\" fill-opacity=\"1\" /><path clip-path=\"url(#clip960)\" d=\"M436.609 1518.36 L424.803 1536.81 L436.609 1536.81 L436.609 1518.36 M435.382 1514.29 L441.262 1514.29 L441.262 1536.81 L446.192 1536.81 L446.192 1540.7 L441.262 1540.7 L441.262 1548.85 L436.609 1548.85 L436.609 1540.7 L421.007 1540.7 L421.007 1536.19 L435.382 1514.29 Z\" fill=\"#000000\" fill-rule=\"evenodd\" fill-opacity=\"1\" /><path clip-path=\"url(#clip960)\" d=\"M453.924 1542.97 L458.808 1542.97 L458.808 1548.85 L453.924 1548.85 L453.924 1542.97 Z\" fill=\"#000000\" fill-rule=\"evenodd\" fill-opacity=\"1\" /><path clip-path=\"url(#clip960)\" d=\"M478.993 1517.37 Q475.382 1517.37 473.553 1520.93 Q471.748 1524.47 471.748 1531.6 Q471.748 1538.71 473.553 1542.27 Q475.382 1545.82 478.993 1545.82 Q482.627 1545.82 484.433 1542.27 Q486.261 1538.71 486.261 1531.6 Q486.261 1524.47 484.433 1520.93 Q482.627 1517.37 478.993 1517.37 M478.993 1513.66 Q484.803 1513.66 487.859 1518.27 Q490.937 1522.85 490.937 1531.6 Q490.937 1540.33 487.859 1544.94 Q484.803 1549.52 478.993 1549.52 Q473.183 1549.52 470.104 1544.94 Q467.048 1540.33 467.048 1531.6 Q467.048 1522.85 470.104 1518.27 Q473.183 1513.66 478.993 1513.66 Z\" fill=\"#000000\" fill-rule=\"evenodd\" fill-opacity=\"1\" /><path clip-path=\"url(#clip960)\" d=\"M842.111 1544.91 L849.75 1544.91 L849.75 1518.55 L841.44 1520.21 L841.44 1515.95 L849.704 1514.29 L854.38 1514.29 L854.38 1544.91 L862.019 1544.91 L862.019 1548.85 L842.111 1548.85 L842.111 1544.91 Z\" fill=\"#000000\" fill-rule=\"evenodd\" fill-opacity=\"1\" /><path clip-path=\"url(#clip960)\" d=\"M884.31 1518.36 L872.505 1536.81 L884.31 1536.81 L884.31 1518.36 M883.083 1514.29 L888.963 1514.29 L888.963 1536.81 L893.893 1536.81 L893.893 1540.7 L888.963 1540.7 L888.963 1548.85 L884.31 1548.85 L884.31 1540.7 L868.708 1540.7 L868.708 1536.19 L883.083 1514.29 Z\" fill=\"#000000\" fill-rule=\"evenodd\" fill-opacity=\"1\" /><path clip-path=\"url(#clip960)\" d=\"M901.625 1542.97 L906.509 1542.97 L906.509 1548.85 L901.625 1548.85 L901.625 1542.97 Z\" fill=\"#000000\" fill-rule=\"evenodd\" fill-opacity=\"1\" /><path clip-path=\"url(#clip960)\" d=\"M916.74 1514.29 L935.097 1514.29 L935.097 1518.22 L921.023 1518.22 L921.023 1526.7 Q922.041 1526.35 923.06 1526.19 Q924.078 1526 925.097 1526 Q930.884 1526 934.264 1529.17 Q937.643 1532.34 937.643 1537.76 Q937.643 1543.34 934.171 1546.44 Q930.699 1549.52 924.379 1549.52 Q922.203 1549.52 919.935 1549.15 Q917.69 1548.78 915.282 1548.04 L915.282 1543.34 Q917.365 1544.47 919.588 1545.03 Q921.81 1545.58 924.287 1545.58 Q928.291 1545.58 930.629 1543.48 Q932.967 1541.37 932.967 1537.76 Q932.967 1534.15 930.629 1532.04 Q928.291 1529.94 924.287 1529.94 Q922.412 1529.94 920.537 1530.35 Q918.685 1530.77 916.74 1531.65 L916.74 1514.29 Z\" fill=\"#000000\" fill-rule=\"evenodd\" fill-opacity=\"1\" /><path clip-path=\"url(#clip960)\" d=\"M1288.82 1544.91 L1296.46 1544.91 L1296.46 1518.55 L1288.15 1520.21 L1288.15 1515.95 L1296.41 1514.29 L1301.09 1514.29 L1301.09 1544.91 L1308.72 1544.91 L1308.72 1548.85 L1288.82 1548.85 L1288.82 1544.91 Z\" fill=\"#000000\" fill-rule=\"evenodd\" fill-opacity=\"1\" /><path clip-path=\"url(#clip960)\" d=\"M1318.22 1514.29 L1336.57 1514.29 L1336.57 1518.22 L1322.5 1518.22 L1322.5 1526.7 Q1323.52 1526.35 1324.53 1526.19 Q1325.55 1526 1326.57 1526 Q1332.36 1526 1335.74 1529.17 Q1339.12 1532.34 1339.12 1537.76 Q1339.12 1543.34 1335.65 1546.44 Q1332.17 1549.52 1325.85 1549.52 Q1323.68 1549.52 1321.41 1549.15 Q1319.16 1548.78 1316.76 1548.04 L1316.76 1543.34 Q1318.84 1544.47 1321.06 1545.03 Q1323.28 1545.58 1325.76 1545.58 Q1329.77 1545.58 1332.1 1543.48 Q1334.44 1541.37 1334.44 1537.76 Q1334.44 1534.15 1332.1 1532.04 Q1329.77 1529.94 1325.76 1529.94 Q1323.89 1529.94 1322.01 1530.35 Q1320.16 1530.77 1318.22 1531.65 L1318.22 1514.29 Z\" fill=\"#000000\" fill-rule=\"evenodd\" fill-opacity=\"1\" /><path clip-path=\"url(#clip960)\" d=\"M1348.33 1542.97 L1353.21 1542.97 L1353.21 1548.85 L1348.33 1548.85 L1348.33 1542.97 Z\" fill=\"#000000\" fill-rule=\"evenodd\" fill-opacity=\"1\" /><path clip-path=\"url(#clip960)\" d=\"M1373.4 1517.37 Q1369.79 1517.37 1367.96 1520.93 Q1366.15 1524.47 1366.15 1531.6 Q1366.15 1538.71 1367.96 1542.27 Q1369.79 1545.82 1373.4 1545.82 Q1377.03 1545.82 1378.84 1542.27 Q1380.67 1538.71 1380.67 1531.6 Q1380.67 1524.47 1378.84 1520.93 Q1377.03 1517.37 1373.4 1517.37 M1373.4 1513.66 Q1379.21 1513.66 1382.27 1518.27 Q1385.34 1522.85 1385.34 1531.6 Q1385.34 1540.33 1382.27 1544.94 Q1379.21 1549.52 1373.4 1549.52 Q1367.59 1549.52 1364.51 1544.94 Q1361.46 1540.33 1361.46 1531.6 Q1361.46 1522.85 1364.51 1518.27 Q1367.59 1513.66 1373.4 1513.66 Z\" fill=\"#000000\" fill-rule=\"evenodd\" fill-opacity=\"1\" /><path clip-path=\"url(#clip960)\" d=\"M1736.52 1544.91 L1744.16 1544.91 L1744.16 1518.55 L1735.85 1520.21 L1735.85 1515.95 L1744.11 1514.29 L1748.79 1514.29 L1748.79 1544.91 L1756.43 1544.91 L1756.43 1548.85 L1736.52 1548.85 L1736.52 1544.91 Z\" fill=\"#000000\" fill-rule=\"evenodd\" fill-opacity=\"1\" /><path clip-path=\"url(#clip960)\" d=\"M1765.92 1514.29 L1784.27 1514.29 L1784.27 1518.22 L1770.2 1518.22 L1770.2 1526.7 Q1771.22 1526.35 1772.24 1526.19 Q1773.25 1526 1774.27 1526 Q1780.06 1526 1783.44 1529.17 Q1786.82 1532.34 1786.82 1537.76 Q1786.82 1543.34 1783.35 1546.44 Q1779.87 1549.52 1773.56 1549.52 Q1771.38 1549.52 1769.11 1549.15 Q1766.87 1548.78 1764.46 1548.04 L1764.46 1543.34 Q1766.54 1544.47 1768.76 1545.03 Q1770.99 1545.58 1773.46 1545.58 Q1777.47 1545.58 1779.81 1543.48 Q1782.14 1541.37 1782.14 1537.76 Q1782.14 1534.15 1779.81 1532.04 Q1777.47 1529.94 1773.46 1529.94 Q1771.59 1529.94 1769.71 1530.35 Q1767.86 1530.77 1765.92 1531.65 L1765.92 1514.29 Z\" fill=\"#000000\" fill-rule=\"evenodd\" fill-opacity=\"1\" /><path clip-path=\"url(#clip960)\" d=\"M1796.03 1542.97 L1800.92 1542.97 L1800.92 1548.85 L1796.03 1548.85 L1796.03 1542.97 Z\" fill=\"#000000\" fill-rule=\"evenodd\" fill-opacity=\"1\" /><path clip-path=\"url(#clip960)\" d=\"M1811.15 1514.29 L1829.5 1514.29 L1829.5 1518.22 L1815.43 1518.22 L1815.43 1526.7 Q1816.45 1526.35 1817.47 1526.19 Q1818.49 1526 1819.5 1526 Q1825.29 1526 1828.67 1529.17 Q1832.05 1532.34 1832.05 1537.76 Q1832.05 1543.34 1828.58 1546.44 Q1825.11 1549.52 1818.79 1549.52 Q1816.61 1549.52 1814.34 1549.15 Q1812.1 1548.78 1809.69 1548.04 L1809.69 1543.34 Q1811.77 1544.47 1813.99 1545.03 Q1816.22 1545.58 1818.69 1545.58 Q1822.7 1545.58 1825.04 1543.48 Q1827.37 1541.37 1827.37 1537.76 Q1827.37 1534.15 1825.04 1532.04 Q1822.7 1529.94 1818.69 1529.94 Q1816.82 1529.94 1814.94 1530.35 Q1813.09 1530.77 1811.15 1531.65 L1811.15 1514.29 Z\" fill=\"#000000\" fill-rule=\"evenodd\" fill-opacity=\"1\" /><path clip-path=\"url(#clip960)\" d=\"M2183.22 1544.91 L2190.86 1544.91 L2190.86 1518.55 L2182.55 1520.21 L2182.55 1515.95 L2190.82 1514.29 L2195.49 1514.29 L2195.49 1544.91 L2203.13 1544.91 L2203.13 1548.85 L2183.22 1548.85 L2183.22 1544.91 Z\" fill=\"#000000\" fill-rule=\"evenodd\" fill-opacity=\"1\" /><path clip-path=\"url(#clip960)\" d=\"M2223.15 1529.7 Q2220.01 1529.7 2218.15 1531.86 Q2216.33 1534.01 2216.33 1537.76 Q2216.33 1541.49 2218.15 1543.66 Q2220.01 1545.82 2223.15 1545.82 Q2226.3 1545.82 2228.13 1543.66 Q2229.98 1541.49 2229.98 1537.76 Q2229.98 1534.01 2228.13 1531.86 Q2226.3 1529.7 2223.15 1529.7 M2232.44 1515.05 L2232.44 1519.31 Q2230.68 1518.48 2228.87 1518.04 Q2227.09 1517.6 2225.33 1517.6 Q2220.7 1517.6 2218.25 1520.72 Q2215.82 1523.85 2215.47 1530.17 Q2216.84 1528.15 2218.9 1527.09 Q2220.96 1526 2223.43 1526 Q2228.64 1526 2231.65 1529.17 Q2234.68 1532.32 2234.68 1537.76 Q2234.68 1543.08 2231.53 1546.3 Q2228.39 1549.52 2223.15 1549.52 Q2217.16 1549.52 2213.99 1544.94 Q2210.82 1540.33 2210.82 1531.6 Q2210.82 1523.41 2214.71 1518.55 Q2218.59 1513.66 2225.15 1513.66 Q2226.9 1513.66 2228.69 1514.01 Q2230.49 1514.36 2232.44 1515.05 Z\" fill=\"#000000\" fill-rule=\"evenodd\" fill-opacity=\"1\" /><path clip-path=\"url(#clip960)\" d=\"M2242.74 1542.97 L2247.62 1542.97 L2247.62 1548.85 L2242.74 1548.85 L2242.74 1542.97 Z\" fill=\"#000000\" fill-rule=\"evenodd\" fill-opacity=\"1\" /><path clip-path=\"url(#clip960)\" d=\"M2267.81 1517.37 Q2264.2 1517.37 2262.37 1520.93 Q2260.56 1524.47 2260.56 1531.6 Q2260.56 1538.71 2262.37 1542.27 Q2264.2 1545.82 2267.81 1545.82 Q2271.44 1545.82 2273.25 1542.27 Q2275.08 1538.71 2275.08 1531.6 Q2275.08 1524.47 2273.25 1520.93 Q2271.44 1517.37 2267.81 1517.37 M2267.81 1513.66 Q2273.62 1513.66 2276.67 1518.27 Q2279.75 1522.85 2279.75 1531.6 Q2279.75 1540.33 2276.67 1544.94 Q2273.62 1549.52 2267.81 1549.52 Q2262 1549.52 2258.92 1544.94 Q2255.86 1540.33 2255.86 1531.6 Q2255.86 1522.85 2258.92 1518.27 Q2262 1513.66 2267.81 1513.66 Z\" fill=\"#000000\" fill-rule=\"evenodd\" fill-opacity=\"1\" /><polyline clip-path=\"url(#clip962)\" style=\"stroke:#000000; stroke-linecap:round; stroke-linejoin:round; stroke-width:2; stroke-opacity:0.1; fill:none\" points=\"\n",
       "  141.853,1445.72 2352.76,1445.72 \n",
       "  \"/>\n",
       "<polyline clip-path=\"url(#clip962)\" style=\"stroke:#000000; stroke-linecap:round; stroke-linejoin:round; stroke-width:2; stroke-opacity:0.1; fill:none\" points=\"\n",
       "  141.853,1184.61 2352.76,1184.61 \n",
       "  \"/>\n",
       "<polyline clip-path=\"url(#clip962)\" style=\"stroke:#000000; stroke-linecap:round; stroke-linejoin:round; stroke-width:2; stroke-opacity:0.1; fill:none\" points=\"\n",
       "  141.853,923.508 2352.76,923.508 \n",
       "  \"/>\n",
       "<polyline clip-path=\"url(#clip962)\" style=\"stroke:#000000; stroke-linecap:round; stroke-linejoin:round; stroke-width:2; stroke-opacity:0.1; fill:none\" points=\"\n",
       "  141.853,662.404 2352.76,662.404 \n",
       "  \"/>\n",
       "<polyline clip-path=\"url(#clip962)\" style=\"stroke:#000000; stroke-linecap:round; stroke-linejoin:round; stroke-width:2; stroke-opacity:0.1; fill:none\" points=\"\n",
       "  141.853,401.301 2352.76,401.301 \n",
       "  \"/>\n",
       "<polyline clip-path=\"url(#clip962)\" style=\"stroke:#000000; stroke-linecap:round; stroke-linejoin:round; stroke-width:2; stroke-opacity:0.1; fill:none\" points=\"\n",
       "  141.853,140.197 2352.76,140.197 \n",
       "  \"/>\n",
       "<polyline clip-path=\"url(#clip960)\" style=\"stroke:#000000; stroke-linecap:round; stroke-linejoin:round; stroke-width:4; stroke-opacity:1; fill:none\" points=\"\n",
       "  141.853,1486.45 141.853,47.2441 \n",
       "  \"/>\n",
       "<polyline clip-path=\"url(#clip960)\" style=\"stroke:#000000; stroke-linecap:round; stroke-linejoin:round; stroke-width:4; stroke-opacity:1; fill:none\" points=\"\n",
       "  141.853,1445.72 160.751,1445.72 \n",
       "  \"/>\n",
       "<polyline clip-path=\"url(#clip960)\" style=\"stroke:#000000; stroke-linecap:round; stroke-linejoin:round; stroke-width:4; stroke-opacity:1; fill:none\" points=\"\n",
       "  141.853,1184.61 160.751,1184.61 \n",
       "  \"/>\n",
       "<polyline clip-path=\"url(#clip960)\" style=\"stroke:#000000; stroke-linecap:round; stroke-linejoin:round; stroke-width:4; stroke-opacity:1; fill:none\" points=\"\n",
       "  141.853,923.508 160.751,923.508 \n",
       "  \"/>\n",
       "<polyline clip-path=\"url(#clip960)\" style=\"stroke:#000000; stroke-linecap:round; stroke-linejoin:round; stroke-width:4; stroke-opacity:1; fill:none\" points=\"\n",
       "  141.853,662.404 160.751,662.404 \n",
       "  \"/>\n",
       "<polyline clip-path=\"url(#clip960)\" style=\"stroke:#000000; stroke-linecap:round; stroke-linejoin:round; stroke-width:4; stroke-opacity:1; fill:none\" points=\"\n",
       "  141.853,401.301 160.751,401.301 \n",
       "  \"/>\n",
       "<polyline clip-path=\"url(#clip960)\" style=\"stroke:#000000; stroke-linecap:round; stroke-linejoin:round; stroke-width:4; stroke-opacity:1; fill:none\" points=\"\n",
       "  141.853,140.197 160.751,140.197 \n",
       "  \"/>\n",
       "<path clip-path=\"url(#clip960)\" d=\"M93.9086 1431.51 Q90.2975 1431.51 88.4688 1435.08 Q86.6632 1438.62 86.6632 1445.75 Q86.6632 1452.86 88.4688 1456.42 Q90.2975 1459.96 93.9086 1459.96 Q97.5428 1459.96 99.3483 1456.42 Q101.177 1452.86 101.177 1445.75 Q101.177 1438.62 99.3483 1435.08 Q97.5428 1431.51 93.9086 1431.51 M93.9086 1427.81 Q99.7187 1427.81 102.774 1432.42 Q105.853 1437 105.853 1445.75 Q105.853 1454.48 102.774 1459.08 Q99.7187 1463.67 93.9086 1463.67 Q88.0984 1463.67 85.0197 1459.08 Q81.9642 1454.48 81.9642 1445.75 Q81.9642 1437 85.0197 1432.42 Q88.0984 1427.81 93.9086 1427.81 Z\" fill=\"#000000\" fill-rule=\"evenodd\" fill-opacity=\"1\" /><path clip-path=\"url(#clip960)\" d=\"M54.5569 1197.96 L62.1958 1197.96 L62.1958 1171.59 L53.8856 1173.26 L53.8856 1169 L62.1495 1167.33 L66.8254 1167.33 L66.8254 1197.96 L74.4642 1197.96 L74.4642 1201.89 L54.5569 1201.89 L54.5569 1197.96 Z\" fill=\"#000000\" fill-rule=\"evenodd\" fill-opacity=\"1\" /><path clip-path=\"url(#clip960)\" d=\"M93.9086 1170.41 Q90.2975 1170.41 88.4688 1173.98 Q86.6632 1177.52 86.6632 1184.65 Q86.6632 1191.75 88.4688 1195.32 Q90.2975 1198.86 93.9086 1198.86 Q97.5428 1198.86 99.3483 1195.32 Q101.177 1191.75 101.177 1184.65 Q101.177 1177.52 99.3483 1173.98 Q97.5428 1170.41 93.9086 1170.41 M93.9086 1166.71 Q99.7187 1166.71 102.774 1171.31 Q105.853 1175.9 105.853 1184.65 Q105.853 1193.37 102.774 1197.98 Q99.7187 1202.56 93.9086 1202.56 Q88.0984 1202.56 85.0197 1197.98 Q81.9642 1193.37 81.9642 1184.65 Q81.9642 1175.9 85.0197 1171.31 Q88.0984 1166.71 93.9086 1166.71 Z\" fill=\"#000000\" fill-rule=\"evenodd\" fill-opacity=\"1\" /><path clip-path=\"url(#clip960)\" d=\"M57.7745 936.853 L74.0939 936.853 L74.0939 940.788 L52.1495 940.788 L52.1495 936.853 Q54.8115 934.098 59.3949 929.469 Q64.0013 924.816 65.1819 923.474 Q67.4272 920.95 68.3068 919.214 Q69.2096 917.455 69.2096 915.765 Q69.2096 913.011 67.2652 911.274 Q65.3439 909.538 62.2421 909.538 Q60.043 909.538 57.5893 910.302 Q55.1588 911.066 52.381 912.617 L52.381 907.895 Q55.2051 906.761 57.6588 906.182 Q60.1124 905.603 62.1495 905.603 Q67.5198 905.603 70.7142 908.288 Q73.9087 910.974 73.9087 915.464 Q73.9087 917.594 73.0985 919.515 Q72.3115 921.413 70.205 924.006 Q69.6263 924.677 66.5245 927.895 Q63.4226 931.089 57.7745 936.853 Z\" fill=\"#000000\" fill-rule=\"evenodd\" fill-opacity=\"1\" /><path clip-path=\"url(#clip960)\" d=\"M93.9086 909.307 Q90.2975 909.307 88.4688 912.872 Q86.6632 916.413 86.6632 923.543 Q86.6632 930.649 88.4688 934.214 Q90.2975 937.756 93.9086 937.756 Q97.5428 937.756 99.3483 934.214 Q101.177 930.649 101.177 923.543 Q101.177 916.413 99.3483 912.872 Q97.5428 909.307 93.9086 909.307 M93.9086 905.603 Q99.7187 905.603 102.774 910.21 Q105.853 914.793 105.853 923.543 Q105.853 932.27 102.774 936.876 Q99.7187 941.46 93.9086 941.46 Q88.0984 941.46 85.0197 936.876 Q81.9642 932.27 81.9642 923.543 Q81.9642 914.793 85.0197 910.21 Q88.0984 905.603 93.9086 905.603 Z\" fill=\"#000000\" fill-rule=\"evenodd\" fill-opacity=\"1\" /><path clip-path=\"url(#clip960)\" d=\"M67.9133 661.05 Q71.2698 661.768 73.1448 664.036 Q75.0429 666.305 75.0429 669.638 Q75.0429 674.754 71.5244 677.555 Q68.0059 680.356 61.5245 680.356 Q59.3486 680.356 57.0338 679.916 Q54.7421 679.499 52.2884 678.643 L52.2884 674.129 Q54.2328 675.263 56.5477 675.842 Q58.8625 676.421 61.3856 676.421 Q65.7837 676.421 68.0754 674.685 Q70.3902 672.948 70.3902 669.638 Q70.3902 666.583 68.2374 664.87 Q66.1078 663.134 62.2884 663.134 L58.2606 663.134 L58.2606 659.291 L62.4735 659.291 Q65.9226 659.291 67.7513 657.925 Q69.58 656.536 69.58 653.944 Q69.58 651.282 67.6819 649.87 Q65.8069 648.435 62.2884 648.435 Q60.3671 648.435 58.168 648.851 Q55.969 649.268 53.3301 650.148 L53.3301 645.981 Q55.9921 645.24 58.3069 644.87 Q60.6449 644.499 62.705 644.499 Q68.0291 644.499 71.1309 646.93 Q74.2327 649.337 74.2327 653.458 Q74.2327 656.328 72.5892 658.319 Q70.9457 660.286 67.9133 661.05 Z\" fill=\"#000000\" fill-rule=\"evenodd\" fill-opacity=\"1\" /><path clip-path=\"url(#clip960)\" d=\"M93.9086 648.203 Q90.2975 648.203 88.4688 651.768 Q86.6632 655.31 86.6632 662.439 Q86.6632 669.546 88.4688 673.11 Q90.2975 676.652 93.9086 676.652 Q97.5428 676.652 99.3483 673.11 Q101.177 669.546 101.177 662.439 Q101.177 655.31 99.3483 651.768 Q97.5428 648.203 93.9086 648.203 M93.9086 644.499 Q99.7187 644.499 102.774 649.106 Q105.853 653.689 105.853 662.439 Q105.853 671.166 102.774 675.772 Q99.7187 680.356 93.9086 680.356 Q88.0984 680.356 85.0197 675.772 Q81.9642 671.166 81.9642 662.439 Q81.9642 653.689 85.0197 649.106 Q88.0984 644.499 93.9086 644.499 Z\" fill=\"#000000\" fill-rule=\"evenodd\" fill-opacity=\"1\" /><path clip-path=\"url(#clip960)\" d=\"M66.5939 388.095 L54.7884 406.544 L66.5939 406.544 L66.5939 388.095 M65.367 384.021 L71.2466 384.021 L71.2466 406.544 L76.1772 406.544 L76.1772 410.433 L71.2466 410.433 L71.2466 418.581 L66.5939 418.581 L66.5939 410.433 L50.9921 410.433 L50.9921 405.919 L65.367 384.021 Z\" fill=\"#000000\" fill-rule=\"evenodd\" fill-opacity=\"1\" /><path clip-path=\"url(#clip960)\" d=\"M93.9086 387.099 Q90.2975 387.099 88.4688 390.664 Q86.6632 394.206 86.6632 401.335 Q86.6632 408.442 88.4688 412.007 Q90.2975 415.548 93.9086 415.548 Q97.5428 415.548 99.3483 412.007 Q101.177 408.442 101.177 401.335 Q101.177 394.206 99.3483 390.664 Q97.5428 387.099 93.9086 387.099 M93.9086 383.396 Q99.7187 383.396 102.774 388.002 Q105.853 392.586 105.853 401.335 Q105.853 410.062 102.774 414.669 Q99.7187 419.252 93.9086 419.252 Q88.0984 419.252 85.0197 414.669 Q81.9642 410.062 81.9642 401.335 Q81.9642 392.586 85.0197 388.002 Q88.0984 383.396 93.9086 383.396 Z\" fill=\"#000000\" fill-rule=\"evenodd\" fill-opacity=\"1\" /><path clip-path=\"url(#clip960)\" d=\"M53.793 122.917 L72.1494 122.917 L72.1494 126.852 L58.0754 126.852 L58.0754 135.324 Q59.0939 134.977 60.1124 134.815 Q61.131 134.63 62.1495 134.63 Q67.9365 134.63 71.3161 137.801 Q74.6957 140.972 74.6957 146.389 Q74.6957 151.968 71.2235 155.07 Q67.7513 158.148 61.4319 158.148 Q59.256 158.148 56.9875 157.778 Q54.7421 157.408 52.3347 156.667 L52.3347 151.968 Q54.418 153.102 56.6402 153.658 Q58.8625 154.213 61.3393 154.213 Q65.3439 154.213 67.6819 152.107 Q70.0198 150 70.0198 146.389 Q70.0198 142.778 67.6819 140.672 Q65.3439 138.565 61.3393 138.565 Q59.4643 138.565 57.5893 138.982 Q55.7375 139.398 53.793 140.278 L53.793 122.917 Z\" fill=\"#000000\" fill-rule=\"evenodd\" fill-opacity=\"1\" /><path clip-path=\"url(#clip960)\" d=\"M93.9086 125.996 Q90.2975 125.996 88.4688 129.561 Q86.6632 133.102 86.6632 140.232 Q86.6632 147.338 88.4688 150.903 Q90.2975 154.445 93.9086 154.445 Q97.5428 154.445 99.3483 150.903 Q101.177 147.338 101.177 140.232 Q101.177 133.102 99.3483 129.561 Q97.5428 125.996 93.9086 125.996 M93.9086 122.292 Q99.7187 122.292 102.774 126.898 Q105.853 131.482 105.853 140.232 Q105.853 148.959 102.774 153.565 Q99.7187 158.148 93.9086 158.148 Q88.0984 158.148 85.0197 153.565 Q81.9642 148.959 81.9642 140.232 Q81.9642 131.482 85.0197 126.898 Q88.0984 122.292 93.9086 122.292 Z\" fill=\"#000000\" fill-rule=\"evenodd\" fill-opacity=\"1\" /><path clip-path=\"url(#clip962)\" d=\"\n",
       "M263.457 1419.61 L263.457 1445.72 L352.897 1445.72 L352.897 1419.61 L263.457 1419.61 L263.457 1419.61  Z\n",
       "  \" fill=\"#009af9\" fill-rule=\"evenodd\" fill-opacity=\"1\"/>\n",
       "<polyline clip-path=\"url(#clip962)\" style=\"stroke:#000000; stroke-linecap:round; stroke-linejoin:round; stroke-width:4; stroke-opacity:1; fill:none\" points=\"\n",
       "  263.457,1419.61 263.457,1445.72 352.897,1445.72 352.897,1419.61 263.457,1419.61 \n",
       "  \"/>\n",
       "<path clip-path=\"url(#clip962)\" d=\"\n",
       "M352.897 1419.61 L352.897 1445.72 L442.338 1445.72 L442.338 1419.61 L352.897 1419.61 L352.897 1419.61  Z\n",
       "  \" fill=\"#009af9\" fill-rule=\"evenodd\" fill-opacity=\"1\"/>\n",
       "<polyline clip-path=\"url(#clip962)\" style=\"stroke:#000000; stroke-linecap:round; stroke-linejoin:round; stroke-width:4; stroke-opacity:1; fill:none\" points=\"\n",
       "  352.897,1419.61 352.897,1445.72 442.338,1445.72 442.338,1419.61 352.897,1419.61 \n",
       "  \"/>\n",
       "<path clip-path=\"url(#clip962)\" d=\"\n",
       "M442.338 1367.38 L442.338 1445.72 L531.779 1445.72 L531.779 1367.38 L442.338 1367.38 L442.338 1367.38  Z\n",
       "  \" fill=\"#009af9\" fill-rule=\"evenodd\" fill-opacity=\"1\"/>\n",
       "<polyline clip-path=\"url(#clip962)\" style=\"stroke:#000000; stroke-linecap:round; stroke-linejoin:round; stroke-width:4; stroke-opacity:1; fill:none\" points=\"\n",
       "  442.338,1367.38 442.338,1445.72 531.779,1445.72 531.779,1367.38 442.338,1367.38 \n",
       "  \"/>\n",
       "<path clip-path=\"url(#clip962)\" d=\"\n",
       "M531.779 1445.72 L531.779 1445.72 L621.219 1445.72 L621.219 1445.72 L531.779 1445.72 L531.779 1445.72  Z\n",
       "  \" fill=\"#009af9\" fill-rule=\"evenodd\" fill-opacity=\"1\"/>\n",
       "<polyline clip-path=\"url(#clip962)\" style=\"stroke:#000000; stroke-linecap:round; stroke-linejoin:round; stroke-width:4; stroke-opacity:1; fill:none\" points=\"\n",
       "  531.779,1445.72 531.779,1445.72 621.219,1445.72 531.779,1445.72 \n",
       "  \"/>\n",
       "<path clip-path=\"url(#clip962)\" d=\"\n",
       "M621.219 1419.61 L621.219 1445.72 L710.66 1445.72 L710.66 1419.61 L621.219 1419.61 L621.219 1419.61  Z\n",
       "  \" fill=\"#009af9\" fill-rule=\"evenodd\" fill-opacity=\"1\"/>\n",
       "<polyline clip-path=\"url(#clip962)\" style=\"stroke:#000000; stroke-linecap:round; stroke-linejoin:round; stroke-width:4; stroke-opacity:1; fill:none\" points=\"\n",
       "  621.219,1419.61 621.219,1445.72 710.66,1445.72 710.66,1419.61 621.219,1419.61 \n",
       "  \"/>\n",
       "<path clip-path=\"url(#clip962)\" d=\"\n",
       "M710.66 1445.72 L710.66 1445.72 L800.101 1445.72 L800.101 1445.72 L710.66 1445.72 L710.66 1445.72  Z\n",
       "  \" fill=\"#009af9\" fill-rule=\"evenodd\" fill-opacity=\"1\"/>\n",
       "<polyline clip-path=\"url(#clip962)\" style=\"stroke:#000000; stroke-linecap:round; stroke-linejoin:round; stroke-width:4; stroke-opacity:1; fill:none\" points=\"\n",
       "  710.66,1445.72 710.66,1445.72 800.101,1445.72 710.66,1445.72 \n",
       "  \"/>\n",
       "<path clip-path=\"url(#clip962)\" d=\"\n",
       "M800.101 1445.72 L800.101 1445.72 L889.542 1445.72 L889.542 1445.72 L800.101 1445.72 L800.101 1445.72  Z\n",
       "  \" fill=\"#009af9\" fill-rule=\"evenodd\" fill-opacity=\"1\"/>\n",
       "<polyline clip-path=\"url(#clip962)\" style=\"stroke:#000000; stroke-linecap:round; stroke-linejoin:round; stroke-width:4; stroke-opacity:1; fill:none\" points=\"\n",
       "  800.101,1445.72 800.101,1445.72 889.542,1445.72 800.101,1445.72 \n",
       "  \"/>\n",
       "<path clip-path=\"url(#clip962)\" d=\"\n",
       "M889.542 1445.72 L889.542 1445.72 L978.982 1445.72 L978.982 1445.72 L889.542 1445.72 L889.542 1445.72  Z\n",
       "  \" fill=\"#009af9\" fill-rule=\"evenodd\" fill-opacity=\"1\"/>\n",
       "<polyline clip-path=\"url(#clip962)\" style=\"stroke:#000000; stroke-linecap:round; stroke-linejoin:round; stroke-width:4; stroke-opacity:1; fill:none\" points=\"\n",
       "  889.542,1445.72 889.542,1445.72 978.982,1445.72 889.542,1445.72 \n",
       "  \"/>\n",
       "<path clip-path=\"url(#clip962)\" d=\"\n",
       "M978.982 1367.38 L978.982 1445.72 L1068.42 1445.72 L1068.42 1367.38 L978.982 1367.38 L978.982 1367.38  Z\n",
       "  \" fill=\"#009af9\" fill-rule=\"evenodd\" fill-opacity=\"1\"/>\n",
       "<polyline clip-path=\"url(#clip962)\" style=\"stroke:#000000; stroke-linecap:round; stroke-linejoin:round; stroke-width:4; stroke-opacity:1; fill:none\" points=\"\n",
       "  978.982,1367.38 978.982,1445.72 1068.42,1445.72 1068.42,1367.38 978.982,1367.38 \n",
       "  \"/>\n",
       "<path clip-path=\"url(#clip962)\" d=\"\n",
       "M1068.42 1419.61 L1068.42 1445.72 L1157.86 1445.72 L1157.86 1419.61 L1068.42 1419.61 L1068.42 1419.61  Z\n",
       "  \" fill=\"#009af9\" fill-rule=\"evenodd\" fill-opacity=\"1\"/>\n",
       "<polyline clip-path=\"url(#clip962)\" style=\"stroke:#000000; stroke-linecap:round; stroke-linejoin:round; stroke-width:4; stroke-opacity:1; fill:none\" points=\"\n",
       "  1068.42,1419.61 1068.42,1445.72 1157.86,1445.72 1157.86,1419.61 1068.42,1419.61 \n",
       "  \"/>\n",
       "<path clip-path=\"url(#clip962)\" d=\"\n",
       "M1157.86 1315.16 L1157.86 1445.72 L1247.3 1445.72 L1247.3 1315.16 L1157.86 1315.16 L1157.86 1315.16  Z\n",
       "  \" fill=\"#009af9\" fill-rule=\"evenodd\" fill-opacity=\"1\"/>\n",
       "<polyline clip-path=\"url(#clip962)\" style=\"stroke:#000000; stroke-linecap:round; stroke-linejoin:round; stroke-width:4; stroke-opacity:1; fill:none\" points=\"\n",
       "  1157.86,1315.16 1157.86,1445.72 1247.3,1445.72 1247.3,1315.16 1157.86,1315.16 \n",
       "  \"/>\n",
       "<path clip-path=\"url(#clip962)\" d=\"\n",
       "M1247.3 1341.27 L1247.3 1445.72 L1336.75 1445.72 L1336.75 1341.27 L1247.3 1341.27 L1247.3 1341.27  Z\n",
       "  \" fill=\"#009af9\" fill-rule=\"evenodd\" fill-opacity=\"1\"/>\n",
       "<polyline clip-path=\"url(#clip962)\" style=\"stroke:#000000; stroke-linecap:round; stroke-linejoin:round; stroke-width:4; stroke-opacity:1; fill:none\" points=\"\n",
       "  1247.3,1341.27 1247.3,1445.72 1336.75,1445.72 1336.75,1341.27 1247.3,1341.27 \n",
       "  \"/>\n",
       "<path clip-path=\"url(#clip962)\" d=\"\n",
       "M1336.75 1158.5 L1336.75 1445.72 L1426.19 1445.72 L1426.19 1158.5 L1336.75 1158.5 L1336.75 1158.5  Z\n",
       "  \" fill=\"#009af9\" fill-rule=\"evenodd\" fill-opacity=\"1\"/>\n",
       "<polyline clip-path=\"url(#clip962)\" style=\"stroke:#000000; stroke-linecap:round; stroke-linejoin:round; stroke-width:4; stroke-opacity:1; fill:none\" points=\"\n",
       "  1336.75,1158.5 1336.75,1445.72 1426.19,1445.72 1426.19,1158.5 1336.75,1158.5 \n",
       "  \"/>\n",
       "<path clip-path=\"url(#clip962)\" d=\"\n",
       "M1426.19 401.301 L1426.19 1445.72 L1515.63 1445.72 L1515.63 401.301 L1426.19 401.301 L1426.19 401.301  Z\n",
       "  \" fill=\"#009af9\" fill-rule=\"evenodd\" fill-opacity=\"1\"/>\n",
       "<polyline clip-path=\"url(#clip962)\" style=\"stroke:#000000; stroke-linecap:round; stroke-linejoin:round; stroke-width:4; stroke-opacity:1; fill:none\" points=\"\n",
       "  1426.19,401.301 1426.19,1445.72 1515.63,1445.72 1515.63,401.301 1426.19,401.301 \n",
       "  \"/>\n",
       "<path clip-path=\"url(#clip962)\" d=\"\n",
       "M1515.63 296.859 L1515.63 1445.72 L1605.07 1445.72 L1605.07 296.859 L1515.63 296.859 L1515.63 296.859  Z\n",
       "  \" fill=\"#009af9\" fill-rule=\"evenodd\" fill-opacity=\"1\"/>\n",
       "<polyline clip-path=\"url(#clip962)\" style=\"stroke:#000000; stroke-linecap:round; stroke-linejoin:round; stroke-width:4; stroke-opacity:1; fill:none\" points=\"\n",
       "  1515.63,296.859 1515.63,1445.72 1605.07,1445.72 1605.07,296.859 1515.63,296.859 \n",
       "  \"/>\n",
       "<path clip-path=\"url(#clip962)\" d=\"\n",
       "M1605.07 87.9763 L1605.07 1445.72 L1694.51 1445.72 L1694.51 87.9763 L1605.07 87.9763 L1605.07 87.9763  Z\n",
       "  \" fill=\"#009af9\" fill-rule=\"evenodd\" fill-opacity=\"1\"/>\n",
       "<polyline clip-path=\"url(#clip962)\" style=\"stroke:#000000; stroke-linecap:round; stroke-linejoin:round; stroke-width:4; stroke-opacity:1; fill:none\" points=\"\n",
       "  1605.07,87.9763 1605.07,1445.72 1694.51,1445.72 1694.51,87.9763 1605.07,87.9763 \n",
       "  \"/>\n",
       "<path clip-path=\"url(#clip962)\" d=\"\n",
       "M1694.51 557.963 L1694.51 1445.72 L1783.95 1445.72 L1783.95 557.963 L1694.51 557.963 L1694.51 557.963  Z\n",
       "  \" fill=\"#009af9\" fill-rule=\"evenodd\" fill-opacity=\"1\"/>\n",
       "<polyline clip-path=\"url(#clip962)\" style=\"stroke:#000000; stroke-linecap:round; stroke-linejoin:round; stroke-width:4; stroke-opacity:1; fill:none\" points=\"\n",
       "  1694.51,557.963 1694.51,1445.72 1783.95,1445.72 1783.95,557.963 1694.51,557.963 \n",
       "  \"/>\n",
       "<path clip-path=\"url(#clip962)\" d=\"\n",
       "M1783.95 688.515 L1783.95 1445.72 L1873.39 1445.72 L1873.39 688.515 L1783.95 688.515 L1783.95 688.515  Z\n",
       "  \" fill=\"#009af9\" fill-rule=\"evenodd\" fill-opacity=\"1\"/>\n",
       "<polyline clip-path=\"url(#clip962)\" style=\"stroke:#000000; stroke-linecap:round; stroke-linejoin:round; stroke-width:4; stroke-opacity:1; fill:none\" points=\"\n",
       "  1783.95,688.515 1783.95,1445.72 1873.39,1445.72 1873.39,688.515 1783.95,688.515 \n",
       "  \"/>\n",
       "<path clip-path=\"url(#clip962)\" d=\"\n",
       "M1873.39 1210.72 L1873.39 1445.72 L1962.83 1445.72 L1962.83 1210.72 L1873.39 1210.72 L1873.39 1210.72  Z\n",
       "  \" fill=\"#009af9\" fill-rule=\"evenodd\" fill-opacity=\"1\"/>\n",
       "<polyline clip-path=\"url(#clip962)\" style=\"stroke:#000000; stroke-linecap:round; stroke-linejoin:round; stroke-width:4; stroke-opacity:1; fill:none\" points=\"\n",
       "  1873.39,1210.72 1873.39,1445.72 1962.83,1445.72 1962.83,1210.72 1873.39,1210.72 \n",
       "  \"/>\n",
       "<path clip-path=\"url(#clip962)\" d=\"\n",
       "M1962.83 1315.16 L1962.83 1445.72 L2052.27 1445.72 L2052.27 1315.16 L1962.83 1315.16 L1962.83 1315.16  Z\n",
       "  \" fill=\"#009af9\" fill-rule=\"evenodd\" fill-opacity=\"1\"/>\n",
       "<polyline clip-path=\"url(#clip962)\" style=\"stroke:#000000; stroke-linecap:round; stroke-linejoin:round; stroke-width:4; stroke-opacity:1; fill:none\" points=\"\n",
       "  1962.83,1315.16 1962.83,1445.72 2052.27,1445.72 2052.27,1315.16 1962.83,1315.16 \n",
       "  \"/>\n",
       "<path clip-path=\"url(#clip962)\" d=\"\n",
       "M2052.27 1393.49 L2052.27 1445.72 L2141.71 1445.72 L2141.71 1393.49 L2052.27 1393.49 L2052.27 1393.49  Z\n",
       "  \" fill=\"#009af9\" fill-rule=\"evenodd\" fill-opacity=\"1\"/>\n",
       "<polyline clip-path=\"url(#clip962)\" style=\"stroke:#000000; stroke-linecap:round; stroke-linejoin:round; stroke-width:4; stroke-opacity:1; fill:none\" points=\"\n",
       "  2052.27,1393.49 2052.27,1445.72 2141.71,1445.72 2141.71,1393.49 2052.27,1393.49 \n",
       "  \"/>\n",
       "<path clip-path=\"url(#clip962)\" d=\"\n",
       "M2141.71 1367.38 L2141.71 1445.72 L2231.15 1445.72 L2231.15 1367.38 L2141.71 1367.38 L2141.71 1367.38  Z\n",
       "  \" fill=\"#009af9\" fill-rule=\"evenodd\" fill-opacity=\"1\"/>\n",
       "<polyline clip-path=\"url(#clip962)\" style=\"stroke:#000000; stroke-linecap:round; stroke-linejoin:round; stroke-width:4; stroke-opacity:1; fill:none\" points=\"\n",
       "  2141.71,1367.38 2141.71,1445.72 2231.15,1445.72 2231.15,1367.38 2141.71,1367.38 \n",
       "  \"/>\n",
       "<circle clip-path=\"url(#clip962)\" style=\"fill:#009af9; stroke:none; fill-opacity:0\" cx=\"308.177\" cy=\"1419.61\" r=\"2\"/>\n",
       "<circle clip-path=\"url(#clip962)\" style=\"fill:#009af9; stroke:none; fill-opacity:0\" cx=\"397.618\" cy=\"1419.61\" r=\"2\"/>\n",
       "<circle clip-path=\"url(#clip962)\" style=\"fill:#009af9; stroke:none; fill-opacity:0\" cx=\"487.058\" cy=\"1367.38\" r=\"2\"/>\n",
       "<circle clip-path=\"url(#clip962)\" style=\"fill:#009af9; stroke:none; fill-opacity:0\" cx=\"576.499\" cy=\"1445.72\" r=\"2\"/>\n",
       "<circle clip-path=\"url(#clip962)\" style=\"fill:#009af9; stroke:none; fill-opacity:0\" cx=\"665.94\" cy=\"1419.61\" r=\"2\"/>\n",
       "<circle clip-path=\"url(#clip962)\" style=\"fill:#009af9; stroke:none; fill-opacity:0\" cx=\"755.38\" cy=\"1445.72\" r=\"2\"/>\n",
       "<circle clip-path=\"url(#clip962)\" style=\"fill:#009af9; stroke:none; fill-opacity:0\" cx=\"844.821\" cy=\"1445.72\" r=\"2\"/>\n",
       "<circle clip-path=\"url(#clip962)\" style=\"fill:#009af9; stroke:none; fill-opacity:0\" cx=\"934.262\" cy=\"1445.72\" r=\"2\"/>\n",
       "<circle clip-path=\"url(#clip962)\" style=\"fill:#009af9; stroke:none; fill-opacity:0\" cx=\"1023.7\" cy=\"1367.38\" r=\"2\"/>\n",
       "<circle clip-path=\"url(#clip962)\" style=\"fill:#009af9; stroke:none; fill-opacity:0\" cx=\"1113.14\" cy=\"1419.61\" r=\"2\"/>\n",
       "<circle clip-path=\"url(#clip962)\" style=\"fill:#009af9; stroke:none; fill-opacity:0\" cx=\"1202.58\" cy=\"1315.16\" r=\"2\"/>\n",
       "<circle clip-path=\"url(#clip962)\" style=\"fill:#009af9; stroke:none; fill-opacity:0\" cx=\"1292.02\" cy=\"1341.27\" r=\"2\"/>\n",
       "<circle clip-path=\"url(#clip962)\" style=\"fill:#009af9; stroke:none; fill-opacity:0\" cx=\"1381.47\" cy=\"1158.5\" r=\"2\"/>\n",
       "<circle clip-path=\"url(#clip962)\" style=\"fill:#009af9; stroke:none; fill-opacity:0\" cx=\"1470.91\" cy=\"401.301\" r=\"2\"/>\n",
       "<circle clip-path=\"url(#clip962)\" style=\"fill:#009af9; stroke:none; fill-opacity:0\" cx=\"1560.35\" cy=\"296.859\" r=\"2\"/>\n",
       "<circle clip-path=\"url(#clip962)\" style=\"fill:#009af9; stroke:none; fill-opacity:0\" cx=\"1649.79\" cy=\"87.9763\" r=\"2\"/>\n",
       "<circle clip-path=\"url(#clip962)\" style=\"fill:#009af9; stroke:none; fill-opacity:0\" cx=\"1739.23\" cy=\"557.963\" r=\"2\"/>\n",
       "<circle clip-path=\"url(#clip962)\" style=\"fill:#009af9; stroke:none; fill-opacity:0\" cx=\"1828.67\" cy=\"688.515\" r=\"2\"/>\n",
       "<circle clip-path=\"url(#clip962)\" style=\"fill:#009af9; stroke:none; fill-opacity:0\" cx=\"1918.11\" cy=\"1210.72\" r=\"2\"/>\n",
       "<circle clip-path=\"url(#clip962)\" style=\"fill:#009af9; stroke:none; fill-opacity:0\" cx=\"2007.55\" cy=\"1315.16\" r=\"2\"/>\n",
       "<circle clip-path=\"url(#clip962)\" style=\"fill:#009af9; stroke:none; fill-opacity:0\" cx=\"2096.99\" cy=\"1393.49\" r=\"2\"/>\n",
       "<circle clip-path=\"url(#clip962)\" style=\"fill:#009af9; stroke:none; fill-opacity:0\" cx=\"2186.43\" cy=\"1367.38\" r=\"2\"/>\n",
       "<path clip-path=\"url(#clip960)\" d=\"\n",
       "M2005.54 198.898 L2279.06 198.898 L2279.06 95.2176 L2005.54 95.2176  Z\n",
       "  \" fill=\"#ffffff\" fill-rule=\"evenodd\" fill-opacity=\"1\"/>\n",
       "<polyline clip-path=\"url(#clip960)\" style=\"stroke:#000000; stroke-linecap:round; stroke-linejoin:round; stroke-width:4; stroke-opacity:1; fill:none\" points=\"\n",
       "  2005.54,198.898 2279.06,198.898 2279.06,95.2176 2005.54,95.2176 2005.54,198.898 \n",
       "  \"/>\n",
       "<path clip-path=\"url(#clip960)\" d=\"\n",
       "M2030.1 167.794 L2177.5 167.794 L2177.5 126.322 L2030.1 126.322 L2030.1 167.794  Z\n",
       "  \" fill=\"#009af9\" fill-rule=\"evenodd\" fill-opacity=\"1\"/>\n",
       "<polyline clip-path=\"url(#clip960)\" style=\"stroke:#000000; stroke-linecap:round; stroke-linejoin:round; stroke-width:4; stroke-opacity:1; fill:none\" points=\"\n",
       "  2030.1,167.794 2177.5,167.794 2177.5,126.322 2030.1,126.322 2030.1,167.794 \n",
       "  \"/>\n",
       "<path clip-path=\"url(#clip960)\" d=\"M2215.91 166.745 Q2214.1 171.375 2212.39 172.787 Q2210.67 174.199 2207.8 174.199 L2204.4 174.199 L2204.4 170.634 L2206.9 170.634 Q2208.66 170.634 2209.63 169.8 Q2210.6 168.967 2211.79 165.865 L2212.55 163.921 L2202.06 138.412 L2206.58 138.412 L2214.68 158.689 L2222.78 138.412 L2227.29 138.412 L2215.91 166.745 Z\" fill=\"#000000\" fill-rule=\"evenodd\" fill-opacity=\"1\" /><path clip-path=\"url(#clip960)\" d=\"M2234.59 160.402 L2242.23 160.402 L2242.23 134.037 L2233.91 135.703 L2233.91 131.444 L2242.18 129.778 L2246.85 129.778 L2246.85 160.402 L2254.49 160.402 L2254.49 164.338 L2234.59 164.338 L2234.59 160.402 Z\" fill=\"#000000\" fill-rule=\"evenodd\" fill-opacity=\"1\" /></svg>\n"
      ]
     },
     "execution_count": 8,
     "metadata": {},
     "output_type": "execute_result"
    }
   ],
   "source": [
    "histogram(BXD_pheno_ind_summary_df.\"P61924_VALRGEDVPLTEQTVSQVLQSAK_3\")"
   ]
  },
  {
   "cell_type": "code",
   "execution_count": 9,
   "id": "0ff1711f-771b-432b-a230-4161835d4b52",
   "metadata": {},
   "outputs": [],
   "source": [
    "BXD_geno_ind_summary_df = CSV.read(\"data/GN886_geno_summary.csv\", DataFrame);"
   ]
  },
  {
   "cell_type": "markdown",
   "id": "2f3abf17-58be-4916-9a5f-412546a12f50",
   "metadata": {},
   "source": [
    "By individuals, there are 248 individual samples for 7321 markers."
   ]
  },
  {
   "cell_type": "code",
   "execution_count": 10,
   "id": "e7f39851-0173-4c71-b583-dd4ad554445d",
   "metadata": {},
   "outputs": [
    {
     "name": "stdout",
     "output_type": "stream",
     "text": [
      "(248, 7324)\n"
     ]
    },
    {
     "data": {
      "text/html": [
       "<div><div style = \"float: left;\"><span>10×10 DataFrame</span></div><div style = \"clear: both;\"></div></div><div class = \"data-frame\" style = \"overflow-x: scroll;\"><table class = \"data-frame\" style = \"margin-bottom: 6px;\"><thead><tr class = \"header\"><th class = \"rowNumber\" style = \"font-weight: bold; text-align: right;\">Row</th><th style = \"text-align: left;\">Sample</th><th style = \"text-align: left;\">Strain</th><th style = \"text-align: left;\">Strain_num</th><th style = \"text-align: left;\">rs31443144</th><th style = \"text-align: left;\">rs6269442</th><th style = \"text-align: left;\">rs32285189</th><th style = \"text-align: left;\">rs258367496</th><th style = \"text-align: left;\">rs32430919</th><th style = \"text-align: left;\">rs36251697</th><th style = \"text-align: left;\">rs30658298</th></tr><tr class = \"subheader headerLastRow\"><th class = \"rowNumber\" style = \"font-weight: bold; text-align: right;\"></th><th title = \"String7\" style = \"text-align: left;\">String7</th><th title = \"String7\" style = \"text-align: left;\">String7</th><th title = \"Int64\" style = \"text-align: left;\">Int64</th><th title = \"Float64\" style = \"text-align: left;\">Float64</th><th title = \"Float64\" style = \"text-align: left;\">Float64</th><th title = \"Float64\" style = \"text-align: left;\">Float64</th><th title = \"Float64\" style = \"text-align: left;\">Float64</th><th title = \"Float64\" style = \"text-align: left;\">Float64</th><th title = \"Float64\" style = \"text-align: left;\">Float64</th><th title = \"Float64\" style = \"text-align: left;\">Float64</th></tr></thead><tbody><tr><td class = \"rowNumber\" style = \"font-weight: bold; text-align: right;\">1</td><td style = \"text-align: left;\">H1009</td><td style = \"text-align: left;\">BXD9</td><td style = \"text-align: right;\">9</td><td style = \"text-align: right;\">0.0</td><td style = \"text-align: right;\">0.0</td><td style = \"text-align: right;\">0.0</td><td style = \"text-align: right;\">0.0</td><td style = \"text-align: right;\">0.0</td><td style = \"text-align: right;\">0.0</td><td style = \"text-align: right;\">0.0</td></tr><tr><td class = \"rowNumber\" style = \"font-weight: bold; text-align: right;\">2</td><td style = \"text-align: left;\">H0370</td><td style = \"text-align: left;\">BXD9</td><td style = \"text-align: right;\">9</td><td style = \"text-align: right;\">0.0</td><td style = \"text-align: right;\">0.0</td><td style = \"text-align: right;\">0.0</td><td style = \"text-align: right;\">0.0</td><td style = \"text-align: right;\">0.0</td><td style = \"text-align: right;\">0.0</td><td style = \"text-align: right;\">0.0</td></tr><tr><td class = \"rowNumber\" style = \"font-weight: bold; text-align: right;\">3</td><td style = \"text-align: left;\">H2577</td><td style = \"text-align: left;\">BXD9</td><td style = \"text-align: right;\">9</td><td style = \"text-align: right;\">0.0</td><td style = \"text-align: right;\">0.0</td><td style = \"text-align: right;\">0.0</td><td style = \"text-align: right;\">0.0</td><td style = \"text-align: right;\">0.0</td><td style = \"text-align: right;\">0.0</td><td style = \"text-align: right;\">0.0</td></tr><tr><td class = \"rowNumber\" style = \"font-weight: bold; text-align: right;\">4</td><td style = \"text-align: left;\">H0365</td><td style = \"text-align: left;\">BXD9</td><td style = \"text-align: right;\">9</td><td style = \"text-align: right;\">0.0</td><td style = \"text-align: right;\">0.0</td><td style = \"text-align: right;\">0.0</td><td style = \"text-align: right;\">0.0</td><td style = \"text-align: right;\">0.0</td><td style = \"text-align: right;\">0.0</td><td style = \"text-align: right;\">0.0</td></tr><tr><td class = \"rowNumber\" style = \"font-weight: bold; text-align: right;\">5</td><td style = \"text-align: left;\">H1333</td><td style = \"text-align: left;\">BXD13</td><td style = \"text-align: right;\">13</td><td style = \"text-align: right;\">0.0</td><td style = \"text-align: right;\">0.0</td><td style = \"text-align: right;\">0.0</td><td style = \"text-align: right;\">0.0</td><td style = \"text-align: right;\">0.0</td><td style = \"text-align: right;\">0.0</td><td style = \"text-align: right;\">0.0</td></tr><tr><td class = \"rowNumber\" style = \"font-weight: bold; text-align: right;\">6</td><td style = \"text-align: left;\">H2259</td><td style = \"text-align: left;\">BXD24</td><td style = \"text-align: right;\">24</td><td style = \"text-align: right;\">0.0</td><td style = \"text-align: right;\">0.0</td><td style = \"text-align: right;\">0.0</td><td style = \"text-align: right;\">0.0</td><td style = \"text-align: right;\">0.0</td><td style = \"text-align: right;\">0.0</td><td style = \"text-align: right;\">0.0</td></tr><tr><td class = \"rowNumber\" style = \"font-weight: bold; text-align: right;\">7</td><td style = \"text-align: left;\">H1792</td><td style = \"text-align: left;\">BXD24</td><td style = \"text-align: right;\">24</td><td style = \"text-align: right;\">0.0</td><td style = \"text-align: right;\">0.0</td><td style = \"text-align: right;\">0.0</td><td style = \"text-align: right;\">0.0</td><td style = \"text-align: right;\">0.0</td><td style = \"text-align: right;\">0.0</td><td style = \"text-align: right;\">0.0</td></tr><tr><td class = \"rowNumber\" style = \"font-weight: bold; text-align: right;\">8</td><td style = \"text-align: left;\">H1791</td><td style = \"text-align: left;\">BXD24</td><td style = \"text-align: right;\">24</td><td style = \"text-align: right;\">0.0</td><td style = \"text-align: right;\">0.0</td><td style = \"text-align: right;\">0.0</td><td style = \"text-align: right;\">0.0</td><td style = \"text-align: right;\">0.0</td><td style = \"text-align: right;\">0.0</td><td style = \"text-align: right;\">0.0</td></tr><tr><td class = \"rowNumber\" style = \"font-weight: bold; text-align: right;\">9</td><td style = \"text-align: left;\">H1541</td><td style = \"text-align: left;\">BXD24</td><td style = \"text-align: right;\">24</td><td style = \"text-align: right;\">0.0</td><td style = \"text-align: right;\">0.0</td><td style = \"text-align: right;\">0.0</td><td style = \"text-align: right;\">0.0</td><td style = \"text-align: right;\">0.0</td><td style = \"text-align: right;\">0.0</td><td style = \"text-align: right;\">0.0</td></tr><tr><td class = \"rowNumber\" style = \"font-weight: bold; text-align: right;\">10</td><td style = \"text-align: left;\">H1277</td><td style = \"text-align: left;\">BXD24</td><td style = \"text-align: right;\">24</td><td style = \"text-align: right;\">0.0</td><td style = \"text-align: right;\">0.0</td><td style = \"text-align: right;\">0.0</td><td style = \"text-align: right;\">0.0</td><td style = \"text-align: right;\">0.0</td><td style = \"text-align: right;\">0.0</td><td style = \"text-align: right;\">0.0</td></tr></tbody></table></div>"
      ],
      "text/latex": [
       "\\begin{tabular}{r|ccccccccc}\n",
       "\t& Sample & Strain & Strain\\_num & rs31443144 & rs6269442 & rs32285189 & rs258367496 & rs32430919 & \\\\\n",
       "\t\\hline\n",
       "\t& String7 & String7 & Int64 & Float64 & Float64 & Float64 & Float64 & Float64 & \\\\\n",
       "\t\\hline\n",
       "\t1 & H1009 & BXD9 & 9 & 0.0 & 0.0 & 0.0 & 0.0 & 0.0 & $\\dots$ \\\\\n",
       "\t2 & H0370 & BXD9 & 9 & 0.0 & 0.0 & 0.0 & 0.0 & 0.0 & $\\dots$ \\\\\n",
       "\t3 & H2577 & BXD9 & 9 & 0.0 & 0.0 & 0.0 & 0.0 & 0.0 & $\\dots$ \\\\\n",
       "\t4 & H0365 & BXD9 & 9 & 0.0 & 0.0 & 0.0 & 0.0 & 0.0 & $\\dots$ \\\\\n",
       "\t5 & H1333 & BXD13 & 13 & 0.0 & 0.0 & 0.0 & 0.0 & 0.0 & $\\dots$ \\\\\n",
       "\t6 & H2259 & BXD24 & 24 & 0.0 & 0.0 & 0.0 & 0.0 & 0.0 & $\\dots$ \\\\\n",
       "\t7 & H1792 & BXD24 & 24 & 0.0 & 0.0 & 0.0 & 0.0 & 0.0 & $\\dots$ \\\\\n",
       "\t8 & H1791 & BXD24 & 24 & 0.0 & 0.0 & 0.0 & 0.0 & 0.0 & $\\dots$ \\\\\n",
       "\t9 & H1541 & BXD24 & 24 & 0.0 & 0.0 & 0.0 & 0.0 & 0.0 & $\\dots$ \\\\\n",
       "\t10 & H1277 & BXD24 & 24 & 0.0 & 0.0 & 0.0 & 0.0 & 0.0 & $\\dots$ \\\\\n",
       "\\end{tabular}\n"
      ],
      "text/plain": [
       "\u001b[1m10×10 DataFrame\u001b[0m\n",
       "\u001b[1m Row \u001b[0m│\u001b[1m Sample  \u001b[0m\u001b[1m Strain  \u001b[0m\u001b[1m Strain_num \u001b[0m\u001b[1m rs31443144 \u001b[0m\u001b[1m rs6269442 \u001b[0m\u001b[1m rs32285189 \u001b[0m\u001b[1m rs2583\u001b[0m ⋯\n",
       "     │\u001b[90m String7 \u001b[0m\u001b[90m String7 \u001b[0m\u001b[90m Int64      \u001b[0m\u001b[90m Float64    \u001b[0m\u001b[90m Float64   \u001b[0m\u001b[90m Float64    \u001b[0m\u001b[90m Float6\u001b[0m ⋯\n",
       "─────┼──────────────────────────────────────────────────────────────────────────\n",
       "   1 │ H1009    BXD9              9         0.0        0.0         0.0         ⋯\n",
       "   2 │ H0370    BXD9              9         0.0        0.0         0.0\n",
       "   3 │ H2577    BXD9              9         0.0        0.0         0.0\n",
       "   4 │ H0365    BXD9              9         0.0        0.0         0.0\n",
       "   5 │ H1333    BXD13            13         0.0        0.0         0.0         ⋯\n",
       "   6 │ H2259    BXD24            24         0.0        0.0         0.0\n",
       "   7 │ H1792    BXD24            24         0.0        0.0         0.0\n",
       "   8 │ H1791    BXD24            24         0.0        0.0         0.0\n",
       "   9 │ H1541    BXD24            24         0.0        0.0         0.0         ⋯\n",
       "  10 │ H1277    BXD24            24         0.0        0.0         0.0\n",
       "\u001b[36m                                                               4 columns omitted\u001b[0m"
      ]
     },
     "execution_count": 10,
     "metadata": {},
     "output_type": "execute_result"
    }
   ],
   "source": [
    "println(size(BXD_geno_ind_summary_df)) \n",
    "BXD_geno_ind_summary_df[1:10, 1:10]"
   ]
  },
  {
   "cell_type": "markdown",
   "id": "1b3a012c-d98c-47ec-aeea-d83fc2d5dbdc",
   "metadata": {},
   "source": [
    "#### Huberized individual LPs:"
   ]
  },
  {
   "cell_type": "code",
   "execution_count": 11,
   "id": "5dc93464-ac71-4a51-aba7-b5f839bca5d4",
   "metadata": {},
   "outputs": [],
   "source": [
    "BXD_pheno_huber_ind_summary_df = CSV.read(\"data/GN886_pheno_huber_summary.csv\", DataFrame);"
   ]
  },
  {
   "cell_type": "code",
   "execution_count": 12,
   "id": "0d4d6ad5-1392-4017-b190-6dd7ab0f2167",
   "metadata": {},
   "outputs": [
    {
     "name": "stdout",
     "output_type": "stream",
     "text": [
      "(248, 32448)\n"
     ]
    },
    {
     "data": {
      "text/html": [
       "<div><div style = \"float: left;\"><span>10×10 DataFrame</span></div><div style = \"clear: both;\"></div></div><div class = \"data-frame\" style = \"overflow-x: scroll;\"><table class = \"data-frame\" style = \"margin-bottom: 6px;\"><thead><tr class = \"header\"><th class = \"rowNumber\" style = \"font-weight: bold; text-align: right;\">Row</th><th style = \"text-align: left;\">Sample</th><th style = \"text-align: left;\">Strain</th><th style = \"text-align: left;\">Strain_num</th><th style = \"text-align: left;\">P42209_DESGLNRK_2</th><th style = \"text-align: left;\">P42209_GLRPLDVAFLR_3</th><th style = \"text-align: left;\">Q99M02_VGDPVYR_2</th><th style = \"text-align: left;\">Q99M02_VWIYPIK_2</th><th style = \"text-align: left;\">Q99M02_LCDPSVK_2</th><th style = \"text-align: left;\">Q99M02_CVLTTVDPDTGIIDR_2</th><th style = \"text-align: left;\">Q99M02_LVQFDTSMK_2</th></tr><tr class = \"subheader headerLastRow\"><th class = \"rowNumber\" style = \"font-weight: bold; text-align: right;\"></th><th title = \"String7\" style = \"text-align: left;\">String7</th><th title = \"String7\" style = \"text-align: left;\">String7</th><th title = \"Int64\" style = \"text-align: left;\">Int64</th><th title = \"Float64\" style = \"text-align: left;\">Float64</th><th title = \"Float64\" style = \"text-align: left;\">Float64</th><th title = \"Float64\" style = \"text-align: left;\">Float64</th><th title = \"Float64\" style = \"text-align: left;\">Float64</th><th title = \"Float64\" style = \"text-align: left;\">Float64</th><th title = \"Float64\" style = \"text-align: left;\">Float64</th><th title = \"Float64\" style = \"text-align: left;\">Float64</th></tr></thead><tbody><tr><td class = \"rowNumber\" style = \"font-weight: bold; text-align: right;\">1</td><td style = \"text-align: left;\">H1009</td><td style = \"text-align: left;\">BXD9</td><td style = \"text-align: right;\">9</td><td style = \"text-align: right;\">11.35</td><td style = \"text-align: right;\">11.534</td><td style = \"text-align: right;\">17.587</td><td style = \"text-align: right;\">17.517</td><td style = \"text-align: right;\">17.309</td><td style = \"text-align: right;\">16.574</td><td style = \"text-align: right;\">16.323</td></tr><tr><td class = \"rowNumber\" style = \"font-weight: bold; text-align: right;\">2</td><td style = \"text-align: left;\">H0370</td><td style = \"text-align: left;\">BXD9</td><td style = \"text-align: right;\">9</td><td style = \"text-align: right;\">11.2619</td><td style = \"text-align: right;\">12.6093</td><td style = \"text-align: right;\">17.4271</td><td style = \"text-align: right;\">17.3294</td><td style = \"text-align: right;\">17.252</td><td style = \"text-align: right;\">16.685</td><td style = \"text-align: right;\">16.0223</td></tr><tr><td class = \"rowNumber\" style = \"font-weight: bold; text-align: right;\">3</td><td style = \"text-align: left;\">H2577</td><td style = \"text-align: left;\">BXD9</td><td style = \"text-align: right;\">9</td><td style = \"text-align: right;\">12.415</td><td style = \"text-align: right;\">10.5848</td><td style = \"text-align: right;\">17.8852</td><td style = \"text-align: right;\">17.488</td><td style = \"text-align: right;\">17.5905</td><td style = \"text-align: right;\">16.731</td><td style = \"text-align: right;\">16.208</td></tr><tr><td class = \"rowNumber\" style = \"font-weight: bold; text-align: right;\">4</td><td style = \"text-align: left;\">H0365</td><td style = \"text-align: left;\">BXD9</td><td style = \"text-align: right;\">9</td><td style = \"text-align: right;\">11.3741</td><td style = \"text-align: right;\">10.7134</td><td style = \"text-align: right;\">17.714</td><td style = \"text-align: right;\">17.401</td><td style = \"text-align: right;\">17.381</td><td style = \"text-align: right;\">16.621</td><td style = \"text-align: right;\">16.337</td></tr><tr><td class = \"rowNumber\" style = \"font-weight: bold; text-align: right;\">5</td><td style = \"text-align: left;\">H1333</td><td style = \"text-align: left;\">BXD13</td><td style = \"text-align: right;\">13</td><td style = \"text-align: right;\">11.687</td><td style = \"text-align: right;\">11.524</td><td style = \"text-align: right;\">17.3718</td><td style = \"text-align: right;\">17.3671</td><td style = \"text-align: right;\">17.096</td><td style = \"text-align: right;\">16.4699</td><td style = \"text-align: right;\">15.9795</td></tr><tr><td class = \"rowNumber\" style = \"font-weight: bold; text-align: right;\">6</td><td style = \"text-align: left;\">H2259</td><td style = \"text-align: left;\">BXD24</td><td style = \"text-align: right;\">24</td><td style = \"text-align: right;\">11.837</td><td style = \"text-align: right;\">11.715</td><td style = \"text-align: right;\">17.57</td><td style = \"text-align: right;\">17.792</td><td style = \"text-align: right;\">17.505</td><td style = \"text-align: right;\">16.894</td><td style = \"text-align: right;\">16.277</td></tr><tr><td class = \"rowNumber\" style = \"font-weight: bold; text-align: right;\">7</td><td style = \"text-align: left;\">H1792</td><td style = \"text-align: left;\">BXD24</td><td style = \"text-align: right;\">24</td><td style = \"text-align: right;\">11.563</td><td style = \"text-align: right;\">11.434</td><td style = \"text-align: right;\">17.789</td><td style = \"text-align: right;\">17.8432</td><td style = \"text-align: right;\">17.416</td><td style = \"text-align: right;\">17.0223</td><td style = \"text-align: right;\">16.292</td></tr><tr><td class = \"rowNumber\" style = \"font-weight: bold; text-align: right;\">8</td><td style = \"text-align: left;\">H1791</td><td style = \"text-align: left;\">BXD24</td><td style = \"text-align: right;\">24</td><td style = \"text-align: right;\">12.5</td><td style = \"text-align: right;\">12.2701</td><td style = \"text-align: right;\">17.9262</td><td style = \"text-align: right;\">17.8312</td><td style = \"text-align: right;\">17.6187</td><td style = \"text-align: right;\">16.862</td><td style = \"text-align: right;\">16.3</td></tr><tr><td class = \"rowNumber\" style = \"font-weight: bold; text-align: right;\">9</td><td style = \"text-align: left;\">H1541</td><td style = \"text-align: left;\">BXD24</td><td style = \"text-align: right;\">24</td><td style = \"text-align: right;\">11.815</td><td style = \"text-align: right;\">11.564</td><td style = \"text-align: right;\">17.794</td><td style = \"text-align: right;\">17.759</td><td style = \"text-align: right;\">17.456</td><td style = \"text-align: right;\">16.878</td><td style = \"text-align: right;\">16.377</td></tr><tr><td class = \"rowNumber\" style = \"font-weight: bold; text-align: right;\">10</td><td style = \"text-align: left;\">H1277</td><td style = \"text-align: left;\">BXD24</td><td style = \"text-align: right;\">24</td><td style = \"text-align: right;\">12.658</td><td style = \"text-align: right;\">11.743</td><td style = \"text-align: right;\">17.8646</td><td style = \"text-align: right;\">17.8415</td><td style = \"text-align: right;\">17.5758</td><td style = \"text-align: right;\">16.922</td><td style = \"text-align: right;\">16.26</td></tr></tbody></table></div>"
      ],
      "text/latex": [
       "\\begin{tabular}{r|ccccccc}\n",
       "\t& Sample & Strain & Strain\\_num & P42209\\_DESGLNRK\\_2 & P42209\\_GLRPLDVAFLR\\_3 & Q99M02\\_VGDPVYR\\_2 & \\\\\n",
       "\t\\hline\n",
       "\t& String7 & String7 & Int64 & Float64 & Float64 & Float64 & \\\\\n",
       "\t\\hline\n",
       "\t1 & H1009 & BXD9 & 9 & 11.35 & 11.534 & 17.587 & $\\dots$ \\\\\n",
       "\t2 & H0370 & BXD9 & 9 & 11.2619 & 12.6093 & 17.4271 & $\\dots$ \\\\\n",
       "\t3 & H2577 & BXD9 & 9 & 12.415 & 10.5848 & 17.8852 & $\\dots$ \\\\\n",
       "\t4 & H0365 & BXD9 & 9 & 11.3741 & 10.7134 & 17.714 & $\\dots$ \\\\\n",
       "\t5 & H1333 & BXD13 & 13 & 11.687 & 11.524 & 17.3718 & $\\dots$ \\\\\n",
       "\t6 & H2259 & BXD24 & 24 & 11.837 & 11.715 & 17.57 & $\\dots$ \\\\\n",
       "\t7 & H1792 & BXD24 & 24 & 11.563 & 11.434 & 17.789 & $\\dots$ \\\\\n",
       "\t8 & H1791 & BXD24 & 24 & 12.5 & 12.2701 & 17.9262 & $\\dots$ \\\\\n",
       "\t9 & H1541 & BXD24 & 24 & 11.815 & 11.564 & 17.794 & $\\dots$ \\\\\n",
       "\t10 & H1277 & BXD24 & 24 & 12.658 & 11.743 & 17.8646 & $\\dots$ \\\\\n",
       "\\end{tabular}\n"
      ],
      "text/plain": [
       "\u001b[1m10×10 DataFrame\u001b[0m\n",
       "\u001b[1m Row \u001b[0m│\u001b[1m Sample  \u001b[0m\u001b[1m Strain  \u001b[0m\u001b[1m Strain_num \u001b[0m\u001b[1m P42209_DESGLNRK_2 \u001b[0m\u001b[1m P42209_GLRPLDVAFLR_3 \u001b[0m\u001b[1m \u001b[0m ⋯\n",
       "     │\u001b[90m String7 \u001b[0m\u001b[90m String7 \u001b[0m\u001b[90m Int64      \u001b[0m\u001b[90m Float64           \u001b[0m\u001b[90m Float64              \u001b[0m\u001b[90m \u001b[0m ⋯\n",
       "─────┼──────────────────────────────────────────────────────────────────────────\n",
       "   1 │ H1009    BXD9              9            11.35                 11.534    ⋯\n",
       "   2 │ H0370    BXD9              9            11.2619               12.6093\n",
       "   3 │ H2577    BXD9              9            12.415                10.5848\n",
       "   4 │ H0365    BXD9              9            11.3741               10.7134\n",
       "   5 │ H1333    BXD13            13            11.687                11.524    ⋯\n",
       "   6 │ H2259    BXD24            24            11.837                11.715\n",
       "   7 │ H1792    BXD24            24            11.563                11.434\n",
       "   8 │ H1791    BXD24            24            12.5                  12.2701\n",
       "   9 │ H1541    BXD24            24            11.815                11.564    ⋯\n",
       "  10 │ H1277    BXD24            24            12.658                11.743\n",
       "\u001b[36m                                                               5 columns omitted\u001b[0m"
      ]
     },
     "execution_count": 12,
     "metadata": {},
     "output_type": "execute_result"
    }
   ],
   "source": [
    "println(size(BXD_pheno_huber_ind_summary_df)) \n",
    "BXD_pheno_huber_ind_summary_df[1:10, 1:10]"
   ]
  },
  {
   "cell_type": "code",
   "execution_count": 13,
   "id": "eaed5a58-17b1-42d0-986f-11363aaaa3d5",
   "metadata": {},
   "outputs": [
    {
     "data": {
      "image/svg+xml": [
       "<?xml version=\"1.0\" encoding=\"utf-8\"?>\n",
       "<svg xmlns=\"http://www.w3.org/2000/svg\" xmlns:xlink=\"http://www.w3.org/1999/xlink\" width=\"600\" height=\"400\" viewBox=\"0 0 2400 1600\">\n",
       "<defs>\n",
       "  <clipPath id=\"clip000\">\n",
       "    <rect x=\"0\" y=\"0\" width=\"2400\" height=\"1600\"/>\n",
       "  </clipPath>\n",
       "</defs>\n",
       "<path clip-path=\"url(#clip000)\" d=\"\n",
       "M0 1600 L2400 1600 L2400 0 L0 0  Z\n",
       "  \" fill=\"#ffffff\" fill-rule=\"evenodd\" fill-opacity=\"1\"/>\n",
       "<defs>\n",
       "  <clipPath id=\"clip001\">\n",
       "    <rect x=\"480\" y=\"0\" width=\"1681\" height=\"1600\"/>\n",
       "  </clipPath>\n",
       "</defs>\n",
       "<path clip-path=\"url(#clip000)\" d=\"\n",
       "M141.853 1486.45 L2352.76 1486.45 L2352.76 47.2441 L141.853 47.2441  Z\n",
       "  \" fill=\"#ffffff\" fill-rule=\"evenodd\" fill-opacity=\"1\"/>\n",
       "<defs>\n",
       "  <clipPath id=\"clip002\">\n",
       "    <rect x=\"141\" y=\"47\" width=\"2212\" height=\"1440\"/>\n",
       "  </clipPath>\n",
       "</defs>\n",
       "<polyline clip-path=\"url(#clip002)\" style=\"stroke:#000000; stroke-linecap:round; stroke-linejoin:round; stroke-width:2; stroke-opacity:0.1; fill:none\" points=\"\n",
       "  566.179,1486.45 566.179,47.2441 \n",
       "  \"/>\n",
       "<polyline clip-path=\"url(#clip002)\" style=\"stroke:#000000; stroke-linecap:round; stroke-linejoin:round; stroke-width:2; stroke-opacity:0.1; fill:none\" points=\"\n",
       "  1020.26,1486.45 1020.26,47.2441 \n",
       "  \"/>\n",
       "<polyline clip-path=\"url(#clip002)\" style=\"stroke:#000000; stroke-linecap:round; stroke-linejoin:round; stroke-width:2; stroke-opacity:0.1; fill:none\" points=\"\n",
       "  1474.35,1486.45 1474.35,47.2441 \n",
       "  \"/>\n",
       "<polyline clip-path=\"url(#clip002)\" style=\"stroke:#000000; stroke-linecap:round; stroke-linejoin:round; stroke-width:2; stroke-opacity:0.1; fill:none\" points=\"\n",
       "  1928.43,1486.45 1928.43,47.2441 \n",
       "  \"/>\n",
       "<polyline clip-path=\"url(#clip000)\" style=\"stroke:#000000; stroke-linecap:round; stroke-linejoin:round; stroke-width:4; stroke-opacity:1; fill:none\" points=\"\n",
       "  141.853,1486.45 2352.76,1486.45 \n",
       "  \"/>\n",
       "<polyline clip-path=\"url(#clip000)\" style=\"stroke:#000000; stroke-linecap:round; stroke-linejoin:round; stroke-width:4; stroke-opacity:1; fill:none\" points=\"\n",
       "  566.179,1486.45 566.179,1467.55 \n",
       "  \"/>\n",
       "<polyline clip-path=\"url(#clip000)\" style=\"stroke:#000000; stroke-linecap:round; stroke-linejoin:round; stroke-width:4; stroke-opacity:1; fill:none\" points=\"\n",
       "  1020.26,1486.45 1020.26,1467.55 \n",
       "  \"/>\n",
       "<polyline clip-path=\"url(#clip000)\" style=\"stroke:#000000; stroke-linecap:round; stroke-linejoin:round; stroke-width:4; stroke-opacity:1; fill:none\" points=\"\n",
       "  1474.35,1486.45 1474.35,1467.55 \n",
       "  \"/>\n",
       "<polyline clip-path=\"url(#clip000)\" style=\"stroke:#000000; stroke-linecap:round; stroke-linejoin:round; stroke-width:4; stroke-opacity:1; fill:none\" points=\"\n",
       "  1928.43,1486.45 1928.43,1467.55 \n",
       "  \"/>\n",
       "<path clip-path=\"url(#clip000)\" d=\"M518.702 1544.91 L526.341 1544.91 L526.341 1518.55 L518.031 1520.21 L518.031 1515.95 L526.295 1514.29 L530.971 1514.29 L530.971 1544.91 L538.61 1544.91 L538.61 1548.85 L518.702 1548.85 L518.702 1544.91 Z\" fill=\"#000000\" fill-rule=\"evenodd\" fill-opacity=\"1\" /><path clip-path=\"url(#clip000)\" d=\"M560.901 1518.36 L549.096 1536.81 L560.901 1536.81 L560.901 1518.36 M559.674 1514.29 L565.554 1514.29 L565.554 1536.81 L570.484 1536.81 L570.484 1540.7 L565.554 1540.7 L565.554 1548.85 L560.901 1548.85 L560.901 1540.7 L545.299 1540.7 L545.299 1536.19 L559.674 1514.29 Z\" fill=\"#000000\" fill-rule=\"evenodd\" fill-opacity=\"1\" /><path clip-path=\"url(#clip000)\" d=\"M578.216 1542.97 L583.1 1542.97 L583.1 1548.85 L578.216 1548.85 L578.216 1542.97 Z\" fill=\"#000000\" fill-rule=\"evenodd\" fill-opacity=\"1\" /><path clip-path=\"url(#clip000)\" d=\"M592.105 1514.29 L614.327 1514.29 L614.327 1516.28 L601.781 1548.85 L596.896 1548.85 L608.702 1518.22 L592.105 1518.22 L592.105 1514.29 Z\" fill=\"#000000\" fill-rule=\"evenodd\" fill-opacity=\"1\" /><path clip-path=\"url(#clip000)\" d=\"M972.335 1544.91 L979.973 1544.91 L979.973 1518.55 L971.663 1520.21 L971.663 1515.95 L979.927 1514.29 L984.603 1514.29 L984.603 1544.91 L992.242 1544.91 L992.242 1548.85 L972.335 1548.85 L972.335 1544.91 Z\" fill=\"#000000\" fill-rule=\"evenodd\" fill-opacity=\"1\" /><path clip-path=\"url(#clip000)\" d=\"M1001.73 1514.29 L1020.09 1514.29 L1020.09 1518.22 L1006.01 1518.22 L1006.01 1526.7 Q1007.03 1526.35 1008.05 1526.19 Q1009.07 1526 1010.09 1526 Q1015.88 1526 1019.26 1529.17 Q1022.64 1532.34 1022.64 1537.76 Q1022.64 1543.34 1019.16 1546.44 Q1015.69 1549.52 1009.37 1549.52 Q1007.2 1549.52 1004.93 1549.15 Q1002.68 1548.78 1000.27 1548.04 L1000.27 1543.34 Q1002.36 1544.47 1004.58 1545.03 Q1006.8 1545.58 1009.28 1545.58 Q1013.28 1545.58 1015.62 1543.48 Q1017.96 1541.37 1017.96 1537.76 Q1017.96 1534.15 1015.62 1532.04 Q1013.28 1529.94 1009.28 1529.94 Q1007.4 1529.94 1005.53 1530.35 Q1003.68 1530.77 1001.73 1531.65 L1001.73 1514.29 Z\" fill=\"#000000\" fill-rule=\"evenodd\" fill-opacity=\"1\" /><path clip-path=\"url(#clip000)\" d=\"M1031.85 1542.97 L1036.73 1542.97 L1036.73 1548.85 L1031.85 1548.85 L1031.85 1542.97 Z\" fill=\"#000000\" fill-rule=\"evenodd\" fill-opacity=\"1\" /><path clip-path=\"url(#clip000)\" d=\"M1056.92 1517.37 Q1053.31 1517.37 1051.48 1520.93 Q1049.67 1524.47 1049.67 1531.6 Q1049.67 1538.71 1051.48 1542.27 Q1053.31 1545.82 1056.92 1545.82 Q1060.55 1545.82 1062.36 1542.27 Q1064.19 1538.71 1064.19 1531.6 Q1064.19 1524.47 1062.36 1520.93 Q1060.55 1517.37 1056.92 1517.37 M1056.92 1513.66 Q1062.73 1513.66 1065.78 1518.27 Q1068.86 1522.85 1068.86 1531.6 Q1068.86 1540.33 1065.78 1544.94 Q1062.73 1549.52 1056.92 1549.52 Q1051.11 1549.52 1048.03 1544.94 Q1044.97 1540.33 1044.97 1531.6 Q1044.97 1522.85 1048.03 1518.27 Q1051.11 1513.66 1056.92 1513.66 Z\" fill=\"#000000\" fill-rule=\"evenodd\" fill-opacity=\"1\" /><path clip-path=\"url(#clip000)\" d=\"M1426.74 1544.91 L1434.38 1544.91 L1434.38 1518.55 L1426.07 1520.21 L1426.07 1515.95 L1434.33 1514.29 L1439.01 1514.29 L1439.01 1544.91 L1446.65 1544.91 L1446.65 1548.85 L1426.74 1548.85 L1426.74 1544.91 Z\" fill=\"#000000\" fill-rule=\"evenodd\" fill-opacity=\"1\" /><path clip-path=\"url(#clip000)\" d=\"M1456.14 1514.29 L1474.5 1514.29 L1474.5 1518.22 L1460.42 1518.22 L1460.42 1526.7 Q1461.44 1526.35 1462.46 1526.19 Q1463.48 1526 1464.5 1526 Q1470.28 1526 1473.66 1529.17 Q1477.04 1532.34 1477.04 1537.76 Q1477.04 1543.34 1473.57 1546.44 Q1470.1 1549.52 1463.78 1549.52 Q1461.6 1549.52 1459.33 1549.15 Q1457.09 1548.78 1454.68 1548.04 L1454.68 1543.34 Q1456.77 1544.47 1458.99 1545.03 Q1461.21 1545.58 1463.69 1545.58 Q1467.69 1545.58 1470.03 1543.48 Q1472.37 1541.37 1472.37 1537.76 Q1472.37 1534.15 1470.03 1532.04 Q1467.69 1529.94 1463.69 1529.94 Q1461.81 1529.94 1459.94 1530.35 Q1458.08 1530.77 1456.14 1531.65 L1456.14 1514.29 Z\" fill=\"#000000\" fill-rule=\"evenodd\" fill-opacity=\"1\" /><path clip-path=\"url(#clip000)\" d=\"M1486.26 1542.97 L1491.14 1542.97 L1491.14 1548.85 L1486.26 1548.85 L1486.26 1542.97 Z\" fill=\"#000000\" fill-rule=\"evenodd\" fill-opacity=\"1\" /><path clip-path=\"url(#clip000)\" d=\"M1515.49 1530.21 Q1518.85 1530.93 1520.72 1533.2 Q1522.62 1535.47 1522.62 1538.8 Q1522.62 1543.92 1519.1 1546.72 Q1515.58 1549.52 1509.1 1549.52 Q1506.93 1549.52 1504.61 1549.08 Q1502.32 1548.66 1499.87 1547.81 L1499.87 1543.29 Q1501.81 1544.43 1504.13 1545.01 Q1506.44 1545.58 1508.96 1545.58 Q1513.36 1545.58 1515.65 1543.85 Q1517.97 1542.11 1517.97 1538.8 Q1517.97 1535.75 1515.82 1534.03 Q1513.69 1532.3 1509.87 1532.3 L1505.84 1532.3 L1505.84 1528.45 L1510.05 1528.45 Q1513.5 1528.45 1515.33 1527.09 Q1517.16 1525.7 1517.16 1523.11 Q1517.16 1520.45 1515.26 1519.03 Q1513.39 1517.6 1509.87 1517.6 Q1507.95 1517.6 1505.75 1518.01 Q1503.55 1518.43 1500.91 1519.31 L1500.91 1515.14 Q1503.57 1514.4 1505.89 1514.03 Q1508.22 1513.66 1510.28 1513.66 Q1515.61 1513.66 1518.71 1516.09 Q1521.81 1518.5 1521.81 1522.62 Q1521.81 1525.49 1520.17 1527.48 Q1518.52 1529.45 1515.49 1530.21 Z\" fill=\"#000000\" fill-rule=\"evenodd\" fill-opacity=\"1\" /><path clip-path=\"url(#clip000)\" d=\"M1880.42 1544.91 L1888.06 1544.91 L1888.06 1518.55 L1879.75 1520.21 L1879.75 1515.95 L1888.01 1514.29 L1892.69 1514.29 L1892.69 1544.91 L1900.33 1544.91 L1900.33 1548.85 L1880.42 1548.85 L1880.42 1544.91 Z\" fill=\"#000000\" fill-rule=\"evenodd\" fill-opacity=\"1\" /><path clip-path=\"url(#clip000)\" d=\"M1909.82 1514.29 L1928.18 1514.29 L1928.18 1518.22 L1914.1 1518.22 L1914.1 1526.7 Q1915.12 1526.35 1916.14 1526.19 Q1917.16 1526 1918.18 1526 Q1923.96 1526 1927.34 1529.17 Q1930.72 1532.34 1930.72 1537.76 Q1930.72 1543.34 1927.25 1546.44 Q1923.78 1549.52 1917.46 1549.52 Q1915.28 1549.52 1913.01 1549.15 Q1910.77 1548.78 1908.36 1548.04 L1908.36 1543.34 Q1910.44 1544.47 1912.67 1545.03 Q1914.89 1545.58 1917.37 1545.58 Q1921.37 1545.58 1923.71 1543.48 Q1926.05 1541.37 1926.05 1537.76 Q1926.05 1534.15 1923.71 1532.04 Q1921.37 1529.94 1917.37 1529.94 Q1915.49 1529.94 1913.62 1530.35 Q1911.76 1530.77 1909.82 1531.65 L1909.82 1514.29 Z\" fill=\"#000000\" fill-rule=\"evenodd\" fill-opacity=\"1\" /><path clip-path=\"url(#clip000)\" d=\"M1939.93 1542.97 L1944.82 1542.97 L1944.82 1548.85 L1939.93 1548.85 L1939.93 1542.97 Z\" fill=\"#000000\" fill-rule=\"evenodd\" fill-opacity=\"1\" /><path clip-path=\"url(#clip000)\" d=\"M1965.58 1529.7 Q1962.43 1529.7 1960.58 1531.86 Q1958.75 1534.01 1958.75 1537.76 Q1958.75 1541.49 1960.58 1543.66 Q1962.43 1545.82 1965.58 1545.82 Q1968.73 1545.82 1970.56 1543.66 Q1972.41 1541.49 1972.41 1537.76 Q1972.41 1534.01 1970.56 1531.86 Q1968.73 1529.7 1965.58 1529.7 M1974.86 1515.05 L1974.86 1519.31 Q1973.11 1518.48 1971.3 1518.04 Q1969.52 1517.6 1967.76 1517.6 Q1963.13 1517.6 1960.68 1520.72 Q1958.24 1523.85 1957.9 1530.17 Q1959.26 1528.15 1961.32 1527.09 Q1963.38 1526 1965.86 1526 Q1971.07 1526 1974.08 1529.17 Q1977.11 1532.32 1977.11 1537.76 Q1977.11 1543.08 1973.96 1546.3 Q1970.81 1549.52 1965.58 1549.52 Q1959.59 1549.52 1956.42 1544.94 Q1953.24 1540.33 1953.24 1531.6 Q1953.24 1523.41 1957.13 1518.55 Q1961.02 1513.66 1967.57 1513.66 Q1969.33 1513.66 1971.11 1514.01 Q1972.92 1514.36 1974.86 1515.05 Z\" fill=\"#000000\" fill-rule=\"evenodd\" fill-opacity=\"1\" /><polyline clip-path=\"url(#clip002)\" style=\"stroke:#000000; stroke-linecap:round; stroke-linejoin:round; stroke-width:2; stroke-opacity:0.1; fill:none\" points=\"\n",
       "  141.853,1445.72 2352.76,1445.72 \n",
       "  \"/>\n",
       "<polyline clip-path=\"url(#clip002)\" style=\"stroke:#000000; stroke-linecap:round; stroke-linejoin:round; stroke-width:2; stroke-opacity:0.1; fill:none\" points=\"\n",
       "  141.853,1184.61 2352.76,1184.61 \n",
       "  \"/>\n",
       "<polyline clip-path=\"url(#clip002)\" style=\"stroke:#000000; stroke-linecap:round; stroke-linejoin:round; stroke-width:2; stroke-opacity:0.1; fill:none\" points=\"\n",
       "  141.853,923.508 2352.76,923.508 \n",
       "  \"/>\n",
       "<polyline clip-path=\"url(#clip002)\" style=\"stroke:#000000; stroke-linecap:round; stroke-linejoin:round; stroke-width:2; stroke-opacity:0.1; fill:none\" points=\"\n",
       "  141.853,662.404 2352.76,662.404 \n",
       "  \"/>\n",
       "<polyline clip-path=\"url(#clip002)\" style=\"stroke:#000000; stroke-linecap:round; stroke-linejoin:round; stroke-width:2; stroke-opacity:0.1; fill:none\" points=\"\n",
       "  141.853,401.301 2352.76,401.301 \n",
       "  \"/>\n",
       "<polyline clip-path=\"url(#clip002)\" style=\"stroke:#000000; stroke-linecap:round; stroke-linejoin:round; stroke-width:2; stroke-opacity:0.1; fill:none\" points=\"\n",
       "  141.853,140.197 2352.76,140.197 \n",
       "  \"/>\n",
       "<polyline clip-path=\"url(#clip000)\" style=\"stroke:#000000; stroke-linecap:round; stroke-linejoin:round; stroke-width:4; stroke-opacity:1; fill:none\" points=\"\n",
       "  141.853,1486.45 141.853,47.2441 \n",
       "  \"/>\n",
       "<polyline clip-path=\"url(#clip000)\" style=\"stroke:#000000; stroke-linecap:round; stroke-linejoin:round; stroke-width:4; stroke-opacity:1; fill:none\" points=\"\n",
       "  141.853,1445.72 160.751,1445.72 \n",
       "  \"/>\n",
       "<polyline clip-path=\"url(#clip000)\" style=\"stroke:#000000; stroke-linecap:round; stroke-linejoin:round; stroke-width:4; stroke-opacity:1; fill:none\" points=\"\n",
       "  141.853,1184.61 160.751,1184.61 \n",
       "  \"/>\n",
       "<polyline clip-path=\"url(#clip000)\" style=\"stroke:#000000; stroke-linecap:round; stroke-linejoin:round; stroke-width:4; stroke-opacity:1; fill:none\" points=\"\n",
       "  141.853,923.508 160.751,923.508 \n",
       "  \"/>\n",
       "<polyline clip-path=\"url(#clip000)\" style=\"stroke:#000000; stroke-linecap:round; stroke-linejoin:round; stroke-width:4; stroke-opacity:1; fill:none\" points=\"\n",
       "  141.853,662.404 160.751,662.404 \n",
       "  \"/>\n",
       "<polyline clip-path=\"url(#clip000)\" style=\"stroke:#000000; stroke-linecap:round; stroke-linejoin:round; stroke-width:4; stroke-opacity:1; fill:none\" points=\"\n",
       "  141.853,401.301 160.751,401.301 \n",
       "  \"/>\n",
       "<polyline clip-path=\"url(#clip000)\" style=\"stroke:#000000; stroke-linecap:round; stroke-linejoin:round; stroke-width:4; stroke-opacity:1; fill:none\" points=\"\n",
       "  141.853,140.197 160.751,140.197 \n",
       "  \"/>\n",
       "<path clip-path=\"url(#clip000)\" d=\"M93.9086 1431.51 Q90.2975 1431.51 88.4688 1435.08 Q86.6632 1438.62 86.6632 1445.75 Q86.6632 1452.86 88.4688 1456.42 Q90.2975 1459.96 93.9086 1459.96 Q97.5428 1459.96 99.3483 1456.42 Q101.177 1452.86 101.177 1445.75 Q101.177 1438.62 99.3483 1435.08 Q97.5428 1431.51 93.9086 1431.51 M93.9086 1427.81 Q99.7187 1427.81 102.774 1432.42 Q105.853 1437 105.853 1445.75 Q105.853 1454.48 102.774 1459.08 Q99.7187 1463.67 93.9086 1463.67 Q88.0984 1463.67 85.0197 1459.08 Q81.9642 1454.48 81.9642 1445.75 Q81.9642 1437 85.0197 1432.42 Q88.0984 1427.81 93.9086 1427.81 Z\" fill=\"#000000\" fill-rule=\"evenodd\" fill-opacity=\"1\" /><path clip-path=\"url(#clip000)\" d=\"M54.5569 1197.96 L62.1958 1197.96 L62.1958 1171.59 L53.8856 1173.26 L53.8856 1169 L62.1495 1167.33 L66.8254 1167.33 L66.8254 1197.96 L74.4642 1197.96 L74.4642 1201.89 L54.5569 1201.89 L54.5569 1197.96 Z\" fill=\"#000000\" fill-rule=\"evenodd\" fill-opacity=\"1\" /><path clip-path=\"url(#clip000)\" d=\"M93.9086 1170.41 Q90.2975 1170.41 88.4688 1173.98 Q86.6632 1177.52 86.6632 1184.65 Q86.6632 1191.75 88.4688 1195.32 Q90.2975 1198.86 93.9086 1198.86 Q97.5428 1198.86 99.3483 1195.32 Q101.177 1191.75 101.177 1184.65 Q101.177 1177.52 99.3483 1173.98 Q97.5428 1170.41 93.9086 1170.41 M93.9086 1166.71 Q99.7187 1166.71 102.774 1171.31 Q105.853 1175.9 105.853 1184.65 Q105.853 1193.37 102.774 1197.98 Q99.7187 1202.56 93.9086 1202.56 Q88.0984 1202.56 85.0197 1197.98 Q81.9642 1193.37 81.9642 1184.65 Q81.9642 1175.9 85.0197 1171.31 Q88.0984 1166.71 93.9086 1166.71 Z\" fill=\"#000000\" fill-rule=\"evenodd\" fill-opacity=\"1\" /><path clip-path=\"url(#clip000)\" d=\"M57.7745 936.853 L74.0939 936.853 L74.0939 940.788 L52.1495 940.788 L52.1495 936.853 Q54.8115 934.098 59.3949 929.469 Q64.0013 924.816 65.1819 923.474 Q67.4272 920.95 68.3068 919.214 Q69.2096 917.455 69.2096 915.765 Q69.2096 913.011 67.2652 911.274 Q65.3439 909.538 62.2421 909.538 Q60.043 909.538 57.5893 910.302 Q55.1588 911.066 52.381 912.617 L52.381 907.895 Q55.2051 906.761 57.6588 906.182 Q60.1124 905.603 62.1495 905.603 Q67.5198 905.603 70.7142 908.288 Q73.9087 910.974 73.9087 915.464 Q73.9087 917.594 73.0985 919.515 Q72.3115 921.413 70.205 924.006 Q69.6263 924.677 66.5245 927.895 Q63.4226 931.089 57.7745 936.853 Z\" fill=\"#000000\" fill-rule=\"evenodd\" fill-opacity=\"1\" /><path clip-path=\"url(#clip000)\" d=\"M93.9086 909.307 Q90.2975 909.307 88.4688 912.872 Q86.6632 916.413 86.6632 923.543 Q86.6632 930.649 88.4688 934.214 Q90.2975 937.756 93.9086 937.756 Q97.5428 937.756 99.3483 934.214 Q101.177 930.649 101.177 923.543 Q101.177 916.413 99.3483 912.872 Q97.5428 909.307 93.9086 909.307 M93.9086 905.603 Q99.7187 905.603 102.774 910.21 Q105.853 914.793 105.853 923.543 Q105.853 932.27 102.774 936.876 Q99.7187 941.46 93.9086 941.46 Q88.0984 941.46 85.0197 936.876 Q81.9642 932.27 81.9642 923.543 Q81.9642 914.793 85.0197 910.21 Q88.0984 905.603 93.9086 905.603 Z\" fill=\"#000000\" fill-rule=\"evenodd\" fill-opacity=\"1\" /><path clip-path=\"url(#clip000)\" d=\"M67.9133 661.05 Q71.2698 661.768 73.1448 664.036 Q75.0429 666.305 75.0429 669.638 Q75.0429 674.754 71.5244 677.555 Q68.0059 680.356 61.5245 680.356 Q59.3486 680.356 57.0338 679.916 Q54.7421 679.499 52.2884 678.643 L52.2884 674.129 Q54.2328 675.263 56.5477 675.842 Q58.8625 676.421 61.3856 676.421 Q65.7837 676.421 68.0754 674.685 Q70.3902 672.948 70.3902 669.638 Q70.3902 666.583 68.2374 664.87 Q66.1078 663.134 62.2884 663.134 L58.2606 663.134 L58.2606 659.291 L62.4735 659.291 Q65.9226 659.291 67.7513 657.925 Q69.58 656.536 69.58 653.944 Q69.58 651.282 67.6819 649.87 Q65.8069 648.435 62.2884 648.435 Q60.3671 648.435 58.168 648.851 Q55.969 649.268 53.3301 650.148 L53.3301 645.981 Q55.9921 645.24 58.3069 644.87 Q60.6449 644.499 62.705 644.499 Q68.0291 644.499 71.1309 646.93 Q74.2327 649.337 74.2327 653.458 Q74.2327 656.328 72.5892 658.319 Q70.9457 660.286 67.9133 661.05 Z\" fill=\"#000000\" fill-rule=\"evenodd\" fill-opacity=\"1\" /><path clip-path=\"url(#clip000)\" d=\"M93.9086 648.203 Q90.2975 648.203 88.4688 651.768 Q86.6632 655.31 86.6632 662.439 Q86.6632 669.546 88.4688 673.11 Q90.2975 676.652 93.9086 676.652 Q97.5428 676.652 99.3483 673.11 Q101.177 669.546 101.177 662.439 Q101.177 655.31 99.3483 651.768 Q97.5428 648.203 93.9086 648.203 M93.9086 644.499 Q99.7187 644.499 102.774 649.106 Q105.853 653.689 105.853 662.439 Q105.853 671.166 102.774 675.772 Q99.7187 680.356 93.9086 680.356 Q88.0984 680.356 85.0197 675.772 Q81.9642 671.166 81.9642 662.439 Q81.9642 653.689 85.0197 649.106 Q88.0984 644.499 93.9086 644.499 Z\" fill=\"#000000\" fill-rule=\"evenodd\" fill-opacity=\"1\" /><path clip-path=\"url(#clip000)\" d=\"M66.5939 388.095 L54.7884 406.544 L66.5939 406.544 L66.5939 388.095 M65.367 384.021 L71.2466 384.021 L71.2466 406.544 L76.1772 406.544 L76.1772 410.433 L71.2466 410.433 L71.2466 418.581 L66.5939 418.581 L66.5939 410.433 L50.9921 410.433 L50.9921 405.919 L65.367 384.021 Z\" fill=\"#000000\" fill-rule=\"evenodd\" fill-opacity=\"1\" /><path clip-path=\"url(#clip000)\" d=\"M93.9086 387.099 Q90.2975 387.099 88.4688 390.664 Q86.6632 394.206 86.6632 401.335 Q86.6632 408.442 88.4688 412.007 Q90.2975 415.548 93.9086 415.548 Q97.5428 415.548 99.3483 412.007 Q101.177 408.442 101.177 401.335 Q101.177 394.206 99.3483 390.664 Q97.5428 387.099 93.9086 387.099 M93.9086 383.396 Q99.7187 383.396 102.774 388.002 Q105.853 392.586 105.853 401.335 Q105.853 410.062 102.774 414.669 Q99.7187 419.252 93.9086 419.252 Q88.0984 419.252 85.0197 414.669 Q81.9642 410.062 81.9642 401.335 Q81.9642 392.586 85.0197 388.002 Q88.0984 383.396 93.9086 383.396 Z\" fill=\"#000000\" fill-rule=\"evenodd\" fill-opacity=\"1\" /><path clip-path=\"url(#clip000)\" d=\"M53.793 122.917 L72.1494 122.917 L72.1494 126.852 L58.0754 126.852 L58.0754 135.324 Q59.0939 134.977 60.1124 134.815 Q61.131 134.63 62.1495 134.63 Q67.9365 134.63 71.3161 137.801 Q74.6957 140.972 74.6957 146.389 Q74.6957 151.968 71.2235 155.07 Q67.7513 158.148 61.4319 158.148 Q59.256 158.148 56.9875 157.778 Q54.7421 157.408 52.3347 156.667 L52.3347 151.968 Q54.418 153.102 56.6402 153.658 Q58.8625 154.213 61.3393 154.213 Q65.3439 154.213 67.6819 152.107 Q70.0198 150 70.0198 146.389 Q70.0198 142.778 67.6819 140.672 Q65.3439 138.565 61.3393 138.565 Q59.4643 138.565 57.5893 138.982 Q55.7375 139.398 53.793 140.278 L53.793 122.917 Z\" fill=\"#000000\" fill-rule=\"evenodd\" fill-opacity=\"1\" /><path clip-path=\"url(#clip000)\" d=\"M93.9086 125.996 Q90.2975 125.996 88.4688 129.561 Q86.6632 133.102 86.6632 140.232 Q86.6632 147.338 88.4688 150.903 Q90.2975 154.445 93.9086 154.445 Q97.5428 154.445 99.3483 150.903 Q101.177 147.338 101.177 140.232 Q101.177 133.102 99.3483 129.561 Q97.5428 125.996 93.9086 125.996 M93.9086 122.292 Q99.7187 122.292 102.774 126.898 Q105.853 131.482 105.853 140.232 Q105.853 148.959 102.774 153.565 Q99.7187 158.148 93.9086 158.148 Q88.0984 158.148 85.0197 153.565 Q81.9642 148.959 81.9642 140.232 Q81.9642 131.482 85.0197 126.898 Q88.0984 122.292 93.9086 122.292 Z\" fill=\"#000000\" fill-rule=\"evenodd\" fill-opacity=\"1\" /><path clip-path=\"url(#clip002)\" d=\"\n",
       "M263.457 1393.49 L263.457 1445.72 L414.818 1445.72 L414.818 1393.49 L263.457 1393.49 L263.457 1393.49  Z\n",
       "  \" fill=\"#009af9\" fill-rule=\"evenodd\" fill-opacity=\"1\"/>\n",
       "<polyline clip-path=\"url(#clip002)\" style=\"stroke:#000000; stroke-linecap:round; stroke-linejoin:round; stroke-width:4; stroke-opacity:1; fill:none\" points=\"\n",
       "  263.457,1393.49 263.457,1445.72 414.818,1445.72 414.818,1393.49 263.457,1393.49 \n",
       "  \"/>\n",
       "<path clip-path=\"url(#clip002)\" d=\"\n",
       "M414.818 1367.38 L414.818 1445.72 L566.179 1445.72 L566.179 1367.38 L414.818 1367.38 L414.818 1367.38  Z\n",
       "  \" fill=\"#009af9\" fill-rule=\"evenodd\" fill-opacity=\"1\"/>\n",
       "<polyline clip-path=\"url(#clip002)\" style=\"stroke:#000000; stroke-linecap:round; stroke-linejoin:round; stroke-width:4; stroke-opacity:1; fill:none\" points=\"\n",
       "  414.818,1367.38 414.818,1445.72 566.179,1445.72 566.179,1367.38 414.818,1367.38 \n",
       "  \"/>\n",
       "<path clip-path=\"url(#clip002)\" d=\"\n",
       "M566.179 1419.61 L566.179 1445.72 L717.54 1445.72 L717.54 1419.61 L566.179 1419.61 L566.179 1419.61  Z\n",
       "  \" fill=\"#009af9\" fill-rule=\"evenodd\" fill-opacity=\"1\"/>\n",
       "<polyline clip-path=\"url(#clip002)\" style=\"stroke:#000000; stroke-linecap:round; stroke-linejoin:round; stroke-width:4; stroke-opacity:1; fill:none\" points=\"\n",
       "  566.179,1419.61 566.179,1445.72 717.54,1445.72 717.54,1419.61 566.179,1419.61 \n",
       "  \"/>\n",
       "<path clip-path=\"url(#clip002)\" d=\"\n",
       "M717.54 1341.27 L717.54 1445.72 L868.901 1445.72 L868.901 1341.27 L717.54 1341.27 L717.54 1341.27  Z\n",
       "  \" fill=\"#009af9\" fill-rule=\"evenodd\" fill-opacity=\"1\"/>\n",
       "<polyline clip-path=\"url(#clip002)\" style=\"stroke:#000000; stroke-linecap:round; stroke-linejoin:round; stroke-width:4; stroke-opacity:1; fill:none\" points=\"\n",
       "  717.54,1341.27 717.54,1445.72 868.901,1445.72 868.901,1341.27 717.54,1341.27 \n",
       "  \"/>\n",
       "<path clip-path=\"url(#clip002)\" d=\"\n",
       "M868.901 1262.94 L868.901 1445.72 L1020.26 1445.72 L1020.26 1262.94 L868.901 1262.94 L868.901 1262.94  Z\n",
       "  \" fill=\"#009af9\" fill-rule=\"evenodd\" fill-opacity=\"1\"/>\n",
       "<polyline clip-path=\"url(#clip002)\" style=\"stroke:#000000; stroke-linecap:round; stroke-linejoin:round; stroke-width:4; stroke-opacity:1; fill:none\" points=\"\n",
       "  868.901,1262.94 868.901,1445.72 1020.26,1445.72 1020.26,1262.94 868.901,1262.94 \n",
       "  \"/>\n",
       "<path clip-path=\"url(#clip002)\" d=\"\n",
       "M1020.26 1106.28 L1020.26 1445.72 L1171.62 1445.72 L1171.62 1106.28 L1020.26 1106.28 L1020.26 1106.28  Z\n",
       "  \" fill=\"#009af9\" fill-rule=\"evenodd\" fill-opacity=\"1\"/>\n",
       "<polyline clip-path=\"url(#clip002)\" style=\"stroke:#000000; stroke-linecap:round; stroke-linejoin:round; stroke-width:4; stroke-opacity:1; fill:none\" points=\"\n",
       "  1020.26,1106.28 1020.26,1445.72 1171.62,1445.72 1171.62,1106.28 1020.26,1106.28 \n",
       "  \"/>\n",
       "<path clip-path=\"url(#clip002)\" d=\"\n",
       "M1171.62 401.301 L1171.62 1445.72 L1322.99 1445.72 L1322.99 401.301 L1171.62 401.301 L1171.62 401.301  Z\n",
       "  \" fill=\"#009af9\" fill-rule=\"evenodd\" fill-opacity=\"1\"/>\n",
       "<polyline clip-path=\"url(#clip002)\" style=\"stroke:#000000; stroke-linecap:round; stroke-linejoin:round; stroke-width:4; stroke-opacity:1; fill:none\" points=\"\n",
       "  1171.62,401.301 1171.62,1445.72 1322.99,1445.72 1322.99,401.301 1171.62,401.301 \n",
       "  \"/>\n",
       "<path clip-path=\"url(#clip002)\" d=\"\n",
       "M1322.99 296.859 L1322.99 1445.72 L1474.35 1445.72 L1474.35 296.859 L1322.99 296.859 L1322.99 296.859  Z\n",
       "  \" fill=\"#009af9\" fill-rule=\"evenodd\" fill-opacity=\"1\"/>\n",
       "<polyline clip-path=\"url(#clip002)\" style=\"stroke:#000000; stroke-linecap:round; stroke-linejoin:round; stroke-width:4; stroke-opacity:1; fill:none\" points=\"\n",
       "  1322.99,296.859 1322.99,1445.72 1474.35,1445.72 1474.35,296.859 1322.99,296.859 \n",
       "  \"/>\n",
       "<path clip-path=\"url(#clip002)\" d=\"\n",
       "M1474.35 87.9763 L1474.35 1445.72 L1625.71 1445.72 L1625.71 87.9763 L1474.35 87.9763 L1474.35 87.9763  Z\n",
       "  \" fill=\"#009af9\" fill-rule=\"evenodd\" fill-opacity=\"1\"/>\n",
       "<polyline clip-path=\"url(#clip002)\" style=\"stroke:#000000; stroke-linecap:round; stroke-linejoin:round; stroke-width:4; stroke-opacity:1; fill:none\" points=\"\n",
       "  1474.35,87.9763 1474.35,1445.72 1625.71,1445.72 1625.71,87.9763 1474.35,87.9763 \n",
       "  \"/>\n",
       "<path clip-path=\"url(#clip002)\" d=\"\n",
       "M1625.71 557.963 L1625.71 1445.72 L1777.07 1445.72 L1777.07 557.963 L1625.71 557.963 L1625.71 557.963  Z\n",
       "  \" fill=\"#009af9\" fill-rule=\"evenodd\" fill-opacity=\"1\"/>\n",
       "<polyline clip-path=\"url(#clip002)\" style=\"stroke:#000000; stroke-linecap:round; stroke-linejoin:round; stroke-width:4; stroke-opacity:1; fill:none\" points=\"\n",
       "  1625.71,557.963 1625.71,1445.72 1777.07,1445.72 1777.07,557.963 1625.71,557.963 \n",
       "  \"/>\n",
       "<path clip-path=\"url(#clip002)\" d=\"\n",
       "M1777.07 636.294 L1777.07 1445.72 L1928.43 1445.72 L1928.43 636.294 L1777.07 636.294 L1777.07 636.294  Z\n",
       "  \" fill=\"#009af9\" fill-rule=\"evenodd\" fill-opacity=\"1\"/>\n",
       "<polyline clip-path=\"url(#clip002)\" style=\"stroke:#000000; stroke-linecap:round; stroke-linejoin:round; stroke-width:4; stroke-opacity:1; fill:none\" points=\"\n",
       "  1777.07,636.294 1777.07,1445.72 1928.43,1445.72 1928.43,636.294 1777.07,636.294 \n",
       "  \"/>\n",
       "<path clip-path=\"url(#clip002)\" d=\"\n",
       "M1928.43 1132.39 L1928.43 1445.72 L2079.79 1445.72 L2079.79 1132.39 L1928.43 1132.39 L1928.43 1132.39  Z\n",
       "  \" fill=\"#009af9\" fill-rule=\"evenodd\" fill-opacity=\"1\"/>\n",
       "<polyline clip-path=\"url(#clip002)\" style=\"stroke:#000000; stroke-linecap:round; stroke-linejoin:round; stroke-width:4; stroke-opacity:1; fill:none\" points=\"\n",
       "  1928.43,1132.39 1928.43,1445.72 2079.79,1445.72 2079.79,1132.39 1928.43,1132.39 \n",
       "  \"/>\n",
       "<path clip-path=\"url(#clip002)\" d=\"\n",
       "M2079.79 1315.16 L2079.79 1445.72 L2231.15 1445.72 L2231.15 1315.16 L2079.79 1315.16 L2079.79 1315.16  Z\n",
       "  \" fill=\"#009af9\" fill-rule=\"evenodd\" fill-opacity=\"1\"/>\n",
       "<polyline clip-path=\"url(#clip002)\" style=\"stroke:#000000; stroke-linecap:round; stroke-linejoin:round; stroke-width:4; stroke-opacity:1; fill:none\" points=\"\n",
       "  2079.79,1315.16 2079.79,1445.72 2231.15,1445.72 2231.15,1315.16 2079.79,1315.16 \n",
       "  \"/>\n",
       "<circle clip-path=\"url(#clip002)\" style=\"fill:#009af9; stroke:none; fill-opacity:0\" cx=\"339.137\" cy=\"1393.49\" r=\"2\"/>\n",
       "<circle clip-path=\"url(#clip002)\" style=\"fill:#009af9; stroke:none; fill-opacity:0\" cx=\"490.498\" cy=\"1367.38\" r=\"2\"/>\n",
       "<circle clip-path=\"url(#clip002)\" style=\"fill:#009af9; stroke:none; fill-opacity:0\" cx=\"641.86\" cy=\"1419.61\" r=\"2\"/>\n",
       "<circle clip-path=\"url(#clip002)\" style=\"fill:#009af9; stroke:none; fill-opacity:0\" cx=\"793.221\" cy=\"1341.27\" r=\"2\"/>\n",
       "<circle clip-path=\"url(#clip002)\" style=\"fill:#009af9; stroke:none; fill-opacity:0\" cx=\"944.582\" cy=\"1262.94\" r=\"2\"/>\n",
       "<circle clip-path=\"url(#clip002)\" style=\"fill:#009af9; stroke:none; fill-opacity:0\" cx=\"1095.94\" cy=\"1106.28\" r=\"2\"/>\n",
       "<circle clip-path=\"url(#clip002)\" style=\"fill:#009af9; stroke:none; fill-opacity:0\" cx=\"1247.3\" cy=\"401.301\" r=\"2\"/>\n",
       "<circle clip-path=\"url(#clip002)\" style=\"fill:#009af9; stroke:none; fill-opacity:0\" cx=\"1398.67\" cy=\"296.859\" r=\"2\"/>\n",
       "<circle clip-path=\"url(#clip002)\" style=\"fill:#009af9; stroke:none; fill-opacity:0\" cx=\"1550.03\" cy=\"87.9763\" r=\"2\"/>\n",
       "<circle clip-path=\"url(#clip002)\" style=\"fill:#009af9; stroke:none; fill-opacity:0\" cx=\"1701.39\" cy=\"557.963\" r=\"2\"/>\n",
       "<circle clip-path=\"url(#clip002)\" style=\"fill:#009af9; stroke:none; fill-opacity:0\" cx=\"1852.75\" cy=\"636.294\" r=\"2\"/>\n",
       "<circle clip-path=\"url(#clip002)\" style=\"fill:#009af9; stroke:none; fill-opacity:0\" cx=\"2004.11\" cy=\"1132.39\" r=\"2\"/>\n",
       "<circle clip-path=\"url(#clip002)\" style=\"fill:#009af9; stroke:none; fill-opacity:0\" cx=\"2155.47\" cy=\"1315.16\" r=\"2\"/>\n",
       "<path clip-path=\"url(#clip000)\" d=\"\n",
       "M2005.54 198.898 L2279.06 198.898 L2279.06 95.2176 L2005.54 95.2176  Z\n",
       "  \" fill=\"#ffffff\" fill-rule=\"evenodd\" fill-opacity=\"1\"/>\n",
       "<polyline clip-path=\"url(#clip000)\" style=\"stroke:#000000; stroke-linecap:round; stroke-linejoin:round; stroke-width:4; stroke-opacity:1; fill:none\" points=\"\n",
       "  2005.54,198.898 2279.06,198.898 2279.06,95.2176 2005.54,95.2176 2005.54,198.898 \n",
       "  \"/>\n",
       "<path clip-path=\"url(#clip000)\" d=\"\n",
       "M2030.1 167.794 L2177.5 167.794 L2177.5 126.322 L2030.1 126.322 L2030.1 167.794  Z\n",
       "  \" fill=\"#009af9\" fill-rule=\"evenodd\" fill-opacity=\"1\"/>\n",
       "<polyline clip-path=\"url(#clip000)\" style=\"stroke:#000000; stroke-linecap:round; stroke-linejoin:round; stroke-width:4; stroke-opacity:1; fill:none\" points=\"\n",
       "  2030.1,167.794 2177.5,167.794 2177.5,126.322 2030.1,126.322 2030.1,167.794 \n",
       "  \"/>\n",
       "<path clip-path=\"url(#clip000)\" d=\"M2215.91 166.745 Q2214.1 171.375 2212.39 172.787 Q2210.67 174.199 2207.8 174.199 L2204.4 174.199 L2204.4 170.634 L2206.9 170.634 Q2208.66 170.634 2209.63 169.8 Q2210.6 168.967 2211.79 165.865 L2212.55 163.921 L2202.06 138.412 L2206.58 138.412 L2214.68 158.689 L2222.78 138.412 L2227.29 138.412 L2215.91 166.745 Z\" fill=\"#000000\" fill-rule=\"evenodd\" fill-opacity=\"1\" /><path clip-path=\"url(#clip000)\" d=\"M2234.59 160.402 L2242.23 160.402 L2242.23 134.037 L2233.91 135.703 L2233.91 131.444 L2242.18 129.778 L2246.85 129.778 L2246.85 160.402 L2254.49 160.402 L2254.49 164.338 L2234.59 164.338 L2234.59 160.402 Z\" fill=\"#000000\" fill-rule=\"evenodd\" fill-opacity=\"1\" /></svg>\n"
      ]
     },
     "execution_count": 13,
     "metadata": {},
     "output_type": "execute_result"
    }
   ],
   "source": [
    "histogram(BXD_pheno_huber_ind_summary_df.\"P61924_VALRGEDVPLTEQTVSQVLQSAK_3\")"
   ]
  },
  {
   "cell_type": "markdown",
   "id": "09ec71ff-4361-42b5-b7be-b5b67963dc81",
   "metadata": {},
   "source": [
    "### By strains:"
   ]
  },
  {
   "cell_type": "code",
   "execution_count": 14,
   "id": "87fab8f1-fbe4-49d2-94cc-0163ac9ad461",
   "metadata": {},
   "outputs": [],
   "source": [
    "BXD_pheno_strains_summary_df = CSV.read(\"data/GN886_pheno_strain_means_summary.csv\", DataFrame);"
   ]
  },
  {
   "cell_type": "markdown",
   "id": "2255810e-cdd7-4473-a605-8a96126cbad0",
   "metadata": {},
   "source": [
    "By strains, there are 50 BXD strains for 32445 liver proteome."
   ]
  },
  {
   "cell_type": "code",
   "execution_count": 15,
   "id": "f5441670-3929-420d-a6c3-ceb794ea9cb1",
   "metadata": {},
   "outputs": [
    {
     "name": "stdout",
     "output_type": "stream",
     "text": [
      "(50, 32447)\n"
     ]
    },
    {
     "data": {
      "text/html": [
       "<div><div style = \"float: left;\"><span>10×10 DataFrame</span></div><div style = \"clear: both;\"></div></div><div class = \"data-frame\" style = \"overflow-x: scroll;\"><table class = \"data-frame\" style = \"margin-bottom: 6px;\"><thead><tr class = \"header\"><th class = \"rowNumber\" style = \"font-weight: bold; text-align: right;\">Row</th><th style = \"text-align: left;\">Strain</th><th style = \"text-align: left;\">Number of Samples</th><th style = \"text-align: left;\">P42209_DESGLNRK_2</th><th style = \"text-align: left;\">P42209_GLRPLDVAFLR_3</th><th style = \"text-align: left;\">Q99M02_VGDPVYR_2</th><th style = \"text-align: left;\">Q99M02_VWIYPIK_2</th><th style = \"text-align: left;\">Q99M02_LCDPSVK_2</th><th style = \"text-align: left;\">Q99M02_CVLTTVDPDTGIIDR_2</th><th style = \"text-align: left;\">Q99M02_LVQFDTSMK_2</th><th style = \"text-align: left;\">Q99M02_QLQQVGTVSK_2</th></tr><tr class = \"subheader headerLastRow\"><th class = \"rowNumber\" style = \"font-weight: bold; text-align: right;\"></th><th title = \"String7\" style = \"text-align: left;\">String7</th><th title = \"Int64\" style = \"text-align: left;\">Int64</th><th title = \"Float64\" style = \"text-align: left;\">Float64</th><th title = \"Float64\" style = \"text-align: left;\">Float64</th><th title = \"Float64\" style = \"text-align: left;\">Float64</th><th title = \"Float64\" style = \"text-align: left;\">Float64</th><th title = \"Float64\" style = \"text-align: left;\">Float64</th><th title = \"Float64\" style = \"text-align: left;\">Float64</th><th title = \"Float64\" style = \"text-align: left;\">Float64</th><th title = \"Float64\" style = \"text-align: left;\">Float64</th></tr></thead><tbody><tr><td class = \"rowNumber\" style = \"font-weight: bold; text-align: right;\">1</td><td style = \"text-align: left;\">BXD9</td><td style = \"text-align: right;\">4</td><td style = \"text-align: right;\">11.5968</td><td style = \"text-align: right;\">11.3575</td><td style = \"text-align: right;\">17.6545</td><td style = \"text-align: right;\">17.4327</td><td style = \"text-align: right;\">17.384</td><td style = \"text-align: right;\">16.6528</td><td style = \"text-align: right;\">16.2222</td><td style = \"text-align: right;\">16.3227</td></tr><tr><td class = \"rowNumber\" style = \"font-weight: bold; text-align: right;\">2</td><td style = \"text-align: left;\">BXD13</td><td style = \"text-align: right;\">1</td><td style = \"text-align: right;\">11.687</td><td style = \"text-align: right;\">11.524</td><td style = \"text-align: right;\">17.362</td><td style = \"text-align: right;\">17.367</td><td style = \"text-align: right;\">17.071</td><td style = \"text-align: right;\">16.465</td><td style = \"text-align: right;\">15.97</td><td style = \"text-align: right;\">15.98</td></tr><tr><td class = \"rowNumber\" style = \"font-weight: bold; text-align: right;\">3</td><td style = \"text-align: left;\">BXD24</td><td style = \"text-align: right;\">5</td><td style = \"text-align: right;\">12.0778</td><td style = \"text-align: right;\">11.7458</td><td style = \"text-align: right;\">17.7926</td><td style = \"text-align: right;\">17.8152</td><td style = \"text-align: right;\">17.5168</td><td style = \"text-align: right;\">16.9196</td><td style = \"text-align: right;\">16.3012</td><td style = \"text-align: right;\">16.4304</td></tr><tr><td class = \"rowNumber\" style = \"font-weight: bold; text-align: right;\">4</td><td style = \"text-align: left;\">BXD27</td><td style = \"text-align: right;\">3</td><td style = \"text-align: right;\">11.717</td><td style = \"text-align: right;\">11.149</td><td style = \"text-align: right;\">17.336</td><td style = \"text-align: right;\">17.3143</td><td style = \"text-align: right;\">17.165</td><td style = \"text-align: right;\">16.5283</td><td style = \"text-align: right;\">15.9407</td><td style = \"text-align: right;\">16.002</td></tr><tr><td class = \"rowNumber\" style = \"font-weight: bold; text-align: right;\">5</td><td style = \"text-align: left;\">BXD29</td><td style = \"text-align: right;\">11</td><td style = \"text-align: right;\">11.735</td><td style = \"text-align: right;\">11.3496</td><td style = \"text-align: right;\">17.4583</td><td style = \"text-align: right;\">17.3877</td><td style = \"text-align: right;\">17.2431</td><td style = \"text-align: right;\">16.4945</td><td style = \"text-align: right;\">16.0869</td><td style = \"text-align: right;\">16.1075</td></tr><tr><td class = \"rowNumber\" style = \"font-weight: bold; text-align: right;\">6</td><td style = \"text-align: left;\">BXD32</td><td style = \"text-align: right;\">8</td><td style = \"text-align: right;\">11.6266</td><td style = \"text-align: right;\">11.554</td><td style = \"text-align: right;\">17.8254</td><td style = \"text-align: right;\">17.7716</td><td style = \"text-align: right;\">17.4639</td><td style = \"text-align: right;\">16.9029</td><td style = \"text-align: right;\">16.434</td><td style = \"text-align: right;\">16.425</td></tr><tr><td class = \"rowNumber\" style = \"font-weight: bold; text-align: right;\">7</td><td style = \"text-align: left;\">BXD34</td><td style = \"text-align: right;\">13</td><td style = \"text-align: right;\">11.7491</td><td style = \"text-align: right;\">11.9135</td><td style = \"text-align: right;\">17.6108</td><td style = \"text-align: right;\">17.5974</td><td style = \"text-align: right;\">17.2988</td><td style = \"text-align: right;\">16.7761</td><td style = \"text-align: right;\">16.3147</td><td style = \"text-align: right;\">16.2926</td></tr><tr><td class = \"rowNumber\" style = \"font-weight: bold; text-align: right;\">8</td><td style = \"text-align: left;\">BXD39</td><td style = \"text-align: right;\">5</td><td style = \"text-align: right;\">11.9158</td><td style = \"text-align: right;\">11.719</td><td style = \"text-align: right;\">17.395</td><td style = \"text-align: right;\">17.385</td><td style = \"text-align: right;\">17.157</td><td style = \"text-align: right;\">16.5226</td><td style = \"text-align: right;\">16.179</td><td style = \"text-align: right;\">16.0594</td></tr><tr><td class = \"rowNumber\" style = \"font-weight: bold; text-align: right;\">9</td><td style = \"text-align: left;\">BXD40</td><td style = \"text-align: right;\">8</td><td style = \"text-align: right;\">11.8651</td><td style = \"text-align: right;\">11.6817</td><td style = \"text-align: right;\">17.5986</td><td style = \"text-align: right;\">17.6386</td><td style = \"text-align: right;\">17.3861</td><td style = \"text-align: right;\">16.6824</td><td style = \"text-align: right;\">16.2855</td><td style = \"text-align: right;\">16.2523</td></tr><tr><td class = \"rowNumber\" style = \"font-weight: bold; text-align: right;\">10</td><td style = \"text-align: left;\">BXD43</td><td style = \"text-align: right;\">4</td><td style = \"text-align: right;\">12.378</td><td style = \"text-align: right;\">11.4563</td><td style = \"text-align: right;\">17.76</td><td style = \"text-align: right;\">17.8035</td><td style = \"text-align: right;\">17.3652</td><td style = \"text-align: right;\">16.885</td><td style = \"text-align: right;\">16.5245</td><td style = \"text-align: right;\">16.3532</td></tr></tbody></table></div>"
      ],
      "text/latex": [
       "\\begin{tabular}{r|cccccc}\n",
       "\t& Strain & Number of Samples & P42209\\_DESGLNRK\\_2 & P42209\\_GLRPLDVAFLR\\_3 & Q99M02\\_VGDPVYR\\_2 & \\\\\n",
       "\t\\hline\n",
       "\t& String7 & Int64 & Float64 & Float64 & Float64 & \\\\\n",
       "\t\\hline\n",
       "\t1 & BXD9 & 4 & 11.5968 & 11.3575 & 17.6545 & $\\dots$ \\\\\n",
       "\t2 & BXD13 & 1 & 11.687 & 11.524 & 17.362 & $\\dots$ \\\\\n",
       "\t3 & BXD24 & 5 & 12.0778 & 11.7458 & 17.7926 & $\\dots$ \\\\\n",
       "\t4 & BXD27 & 3 & 11.717 & 11.149 & 17.336 & $\\dots$ \\\\\n",
       "\t5 & BXD29 & 11 & 11.735 & 11.3496 & 17.4583 & $\\dots$ \\\\\n",
       "\t6 & BXD32 & 8 & 11.6266 & 11.554 & 17.8254 & $\\dots$ \\\\\n",
       "\t7 & BXD34 & 13 & 11.7491 & 11.9135 & 17.6108 & $\\dots$ \\\\\n",
       "\t8 & BXD39 & 5 & 11.9158 & 11.719 & 17.395 & $\\dots$ \\\\\n",
       "\t9 & BXD40 & 8 & 11.8651 & 11.6817 & 17.5986 & $\\dots$ \\\\\n",
       "\t10 & BXD43 & 4 & 12.378 & 11.4563 & 17.76 & $\\dots$ \\\\\n",
       "\\end{tabular}\n"
      ],
      "text/plain": [
       "\u001b[1m10×10 DataFrame\u001b[0m\n",
       "\u001b[1m Row \u001b[0m│\u001b[1m Strain  \u001b[0m\u001b[1m Number of Samples \u001b[0m\u001b[1m P42209_DESGLNRK_2 \u001b[0m\u001b[1m P42209_GLRPLDVAFLR_3 \u001b[0m\u001b[1m Q9\u001b[0m ⋯\n",
       "     │\u001b[90m String7 \u001b[0m\u001b[90m Int64             \u001b[0m\u001b[90m Float64           \u001b[0m\u001b[90m Float64              \u001b[0m\u001b[90m Fl\u001b[0m ⋯\n",
       "─────┼──────────────────────────────────────────────────────────────────────────\n",
       "   1 │ BXD9                     4            11.5968               11.3575     ⋯\n",
       "   2 │ BXD13                    1            11.687                11.524\n",
       "   3 │ BXD24                    5            12.0778               11.7458\n",
       "   4 │ BXD27                    3            11.717                11.149\n",
       "   5 │ BXD29                   11            11.735                11.3496     ⋯\n",
       "   6 │ BXD32                    8            11.6266               11.554\n",
       "   7 │ BXD34                   13            11.7491               11.9135\n",
       "   8 │ BXD39                    5            11.9158               11.719\n",
       "   9 │ BXD40                    8            11.8651               11.6817     ⋯\n",
       "  10 │ BXD43                    4            12.378                11.4563\n",
       "\u001b[36m                                                               6 columns omitted\u001b[0m"
      ]
     },
     "execution_count": 15,
     "metadata": {},
     "output_type": "execute_result"
    }
   ],
   "source": [
    "println(size(BXD_pheno_strains_summary_df)) \n",
    "BXD_pheno_strains_summary_df[1:10, 1:10]"
   ]
  },
  {
   "cell_type": "code",
   "execution_count": 16,
   "id": "016e1679-349f-4ee8-a248-7882bbee07c5",
   "metadata": {},
   "outputs": [
    {
     "data": {
      "image/svg+xml": [
       "<?xml version=\"1.0\" encoding=\"utf-8\"?>\n",
       "<svg xmlns=\"http://www.w3.org/2000/svg\" xmlns:xlink=\"http://www.w3.org/1999/xlink\" width=\"600\" height=\"400\" viewBox=\"0 0 2400 1600\">\n",
       "<defs>\n",
       "  <clipPath id=\"clip040\">\n",
       "    <rect x=\"0\" y=\"0\" width=\"2400\" height=\"1600\"/>\n",
       "  </clipPath>\n",
       "</defs>\n",
       "<path clip-path=\"url(#clip040)\" d=\"\n",
       "M0 1600 L2400 1600 L2400 0 L0 0  Z\n",
       "  \" fill=\"#ffffff\" fill-rule=\"evenodd\" fill-opacity=\"1\"/>\n",
       "<defs>\n",
       "  <clipPath id=\"clip041\">\n",
       "    <rect x=\"480\" y=\"0\" width=\"1681\" height=\"1600\"/>\n",
       "  </clipPath>\n",
       "</defs>\n",
       "<path clip-path=\"url(#clip040)\" d=\"\n",
       "M138.959 1486.45 L2352.76 1486.45 L2352.76 47.2441 L138.959 47.2441  Z\n",
       "  \" fill=\"#ffffff\" fill-rule=\"evenodd\" fill-opacity=\"1\"/>\n",
       "<defs>\n",
       "  <clipPath id=\"clip042\">\n",
       "    <rect x=\"138\" y=\"47\" width=\"2215\" height=\"1440\"/>\n",
       "  </clipPath>\n",
       "</defs>\n",
       "<polyline clip-path=\"url(#clip042)\" style=\"stroke:#000000; stroke-linecap:round; stroke-linejoin:round; stroke-width:2; stroke-opacity:0.1; fill:none\" points=\"\n",
       "  392.074,1486.45 392.074,47.2441 \n",
       "  \"/>\n",
       "<polyline clip-path=\"url(#clip042)\" style=\"stroke:#000000; stroke-linecap:round; stroke-linejoin:round; stroke-width:2; stroke-opacity:0.1; fill:none\" points=\"\n",
       "  786.128,1486.45 786.128,47.2441 \n",
       "  \"/>\n",
       "<polyline clip-path=\"url(#clip042)\" style=\"stroke:#000000; stroke-linecap:round; stroke-linejoin:round; stroke-width:2; stroke-opacity:0.1; fill:none\" points=\"\n",
       "  1180.18,1486.45 1180.18,47.2441 \n",
       "  \"/>\n",
       "<polyline clip-path=\"url(#clip042)\" style=\"stroke:#000000; stroke-linecap:round; stroke-linejoin:round; stroke-width:2; stroke-opacity:0.1; fill:none\" points=\"\n",
       "  1574.24,1486.45 1574.24,47.2441 \n",
       "  \"/>\n",
       "<polyline clip-path=\"url(#clip042)\" style=\"stroke:#000000; stroke-linecap:round; stroke-linejoin:round; stroke-width:2; stroke-opacity:0.1; fill:none\" points=\"\n",
       "  1968.29,1486.45 1968.29,47.2441 \n",
       "  \"/>\n",
       "<polyline clip-path=\"url(#clip040)\" style=\"stroke:#000000; stroke-linecap:round; stroke-linejoin:round; stroke-width:4; stroke-opacity:1; fill:none\" points=\"\n",
       "  138.959,1486.45 2352.76,1486.45 \n",
       "  \"/>\n",
       "<polyline clip-path=\"url(#clip040)\" style=\"stroke:#000000; stroke-linecap:round; stroke-linejoin:round; stroke-width:4; stroke-opacity:1; fill:none\" points=\"\n",
       "  392.074,1486.45 392.074,1467.55 \n",
       "  \"/>\n",
       "<polyline clip-path=\"url(#clip040)\" style=\"stroke:#000000; stroke-linecap:round; stroke-linejoin:round; stroke-width:4; stroke-opacity:1; fill:none\" points=\"\n",
       "  786.128,1486.45 786.128,1467.55 \n",
       "  \"/>\n",
       "<polyline clip-path=\"url(#clip040)\" style=\"stroke:#000000; stroke-linecap:round; stroke-linejoin:round; stroke-width:4; stroke-opacity:1; fill:none\" points=\"\n",
       "  1180.18,1486.45 1180.18,1467.55 \n",
       "  \"/>\n",
       "<polyline clip-path=\"url(#clip040)\" style=\"stroke:#000000; stroke-linecap:round; stroke-linejoin:round; stroke-width:4; stroke-opacity:1; fill:none\" points=\"\n",
       "  1574.24,1486.45 1574.24,1467.55 \n",
       "  \"/>\n",
       "<polyline clip-path=\"url(#clip040)\" style=\"stroke:#000000; stroke-linecap:round; stroke-linejoin:round; stroke-width:4; stroke-opacity:1; fill:none\" points=\"\n",
       "  1968.29,1486.45 1968.29,1467.55 \n",
       "  \"/>\n",
       "<path clip-path=\"url(#clip040)\" d=\"M343.903 1544.91 L351.541 1544.91 L351.541 1518.55 L343.231 1520.21 L343.231 1515.95 L351.495 1514.29 L356.171 1514.29 L356.171 1544.91 L363.81 1544.91 L363.81 1548.85 L343.903 1548.85 L343.903 1544.91 Z\" fill=\"#000000\" fill-rule=\"evenodd\" fill-opacity=\"1\" /><path clip-path=\"url(#clip040)\" d=\"M386.101 1518.36 L374.296 1536.81 L386.101 1536.81 L386.101 1518.36 M384.875 1514.29 L390.754 1514.29 L390.754 1536.81 L395.685 1536.81 L395.685 1540.7 L390.754 1540.7 L390.754 1548.85 L386.101 1548.85 L386.101 1540.7 L370.5 1540.7 L370.5 1536.19 L384.875 1514.29 Z\" fill=\"#000000\" fill-rule=\"evenodd\" fill-opacity=\"1\" /><path clip-path=\"url(#clip040)\" d=\"M403.416 1542.97 L408.3 1542.97 L408.3 1548.85 L403.416 1548.85 L403.416 1542.97 Z\" fill=\"#000000\" fill-rule=\"evenodd\" fill-opacity=\"1\" /><path clip-path=\"url(#clip040)\" d=\"M431.333 1518.36 L419.527 1536.81 L431.333 1536.81 L431.333 1518.36 M430.106 1514.29 L435.985 1514.29 L435.985 1536.81 L440.916 1536.81 L440.916 1540.7 L435.985 1540.7 L435.985 1548.85 L431.333 1548.85 L431.333 1540.7 L415.731 1540.7 L415.731 1536.19 L430.106 1514.29 Z\" fill=\"#000000\" fill-rule=\"evenodd\" fill-opacity=\"1\" /><path clip-path=\"url(#clip040)\" d=\"M738.651 1544.91 L746.29 1544.91 L746.29 1518.55 L737.98 1520.21 L737.98 1515.95 L746.244 1514.29 L750.92 1514.29 L750.92 1544.91 L758.558 1544.91 L758.558 1548.85 L738.651 1548.85 L738.651 1544.91 Z\" fill=\"#000000\" fill-rule=\"evenodd\" fill-opacity=\"1\" /><path clip-path=\"url(#clip040)\" d=\"M780.85 1518.36 L769.045 1536.81 L780.85 1536.81 L780.85 1518.36 M779.623 1514.29 L785.503 1514.29 L785.503 1536.81 L790.433 1536.81 L790.433 1540.7 L785.503 1540.7 L785.503 1548.85 L780.85 1548.85 L780.85 1540.7 L765.248 1540.7 L765.248 1536.19 L779.623 1514.29 Z\" fill=\"#000000\" fill-rule=\"evenodd\" fill-opacity=\"1\" /><path clip-path=\"url(#clip040)\" d=\"M798.165 1542.97 L803.049 1542.97 L803.049 1548.85 L798.165 1548.85 L798.165 1542.97 Z\" fill=\"#000000\" fill-rule=\"evenodd\" fill-opacity=\"1\" /><path clip-path=\"url(#clip040)\" d=\"M812.054 1514.29 L834.276 1514.29 L834.276 1516.28 L821.729 1548.85 L816.845 1548.85 L828.651 1518.22 L812.054 1518.22 L812.054 1514.29 Z\" fill=\"#000000\" fill-rule=\"evenodd\" fill-opacity=\"1\" /><path clip-path=\"url(#clip040)\" d=\"M1132.25 1544.91 L1139.89 1544.91 L1139.89 1518.55 L1131.58 1520.21 L1131.58 1515.95 L1139.85 1514.29 L1144.52 1514.29 L1144.52 1544.91 L1152.16 1544.91 L1152.16 1548.85 L1132.25 1548.85 L1132.25 1544.91 Z\" fill=\"#000000\" fill-rule=\"evenodd\" fill-opacity=\"1\" /><path clip-path=\"url(#clip040)\" d=\"M1161.65 1514.29 L1180.01 1514.29 L1180.01 1518.22 L1165.93 1518.22 L1165.93 1526.7 Q1166.95 1526.35 1167.97 1526.19 Q1168.99 1526 1170.01 1526 Q1175.8 1526 1179.18 1529.17 Q1182.55 1532.34 1182.55 1537.76 Q1182.55 1543.34 1179.08 1546.44 Q1175.61 1549.52 1169.29 1549.52 Q1167.11 1549.52 1164.85 1549.15 Q1162.6 1548.78 1160.19 1548.04 L1160.19 1543.34 Q1162.28 1544.47 1164.5 1545.03 Q1166.72 1545.58 1169.2 1545.58 Q1173.2 1545.58 1175.54 1543.48 Q1177.88 1541.37 1177.88 1537.76 Q1177.88 1534.15 1175.54 1532.04 Q1173.2 1529.94 1169.2 1529.94 Q1167.32 1529.94 1165.45 1530.35 Q1163.6 1530.77 1161.65 1531.65 L1161.65 1514.29 Z\" fill=\"#000000\" fill-rule=\"evenodd\" fill-opacity=\"1\" /><path clip-path=\"url(#clip040)\" d=\"M1191.77 1542.97 L1196.65 1542.97 L1196.65 1548.85 L1191.77 1548.85 L1191.77 1542.97 Z\" fill=\"#000000\" fill-rule=\"evenodd\" fill-opacity=\"1\" /><path clip-path=\"url(#clip040)\" d=\"M1216.84 1517.37 Q1213.23 1517.37 1211.4 1520.93 Q1209.59 1524.47 1209.59 1531.6 Q1209.59 1538.71 1211.4 1542.27 Q1213.23 1545.82 1216.84 1545.82 Q1220.47 1545.82 1222.28 1542.27 Q1224.11 1538.71 1224.11 1531.6 Q1224.11 1524.47 1222.28 1520.93 Q1220.47 1517.37 1216.84 1517.37 M1216.84 1513.66 Q1222.65 1513.66 1225.7 1518.27 Q1228.78 1522.85 1228.78 1531.6 Q1228.78 1540.33 1225.7 1544.94 Q1222.65 1549.52 1216.84 1549.52 Q1211.03 1549.52 1207.95 1544.94 Q1204.89 1540.33 1204.89 1531.6 Q1204.89 1522.85 1207.95 1518.27 Q1211.03 1513.66 1216.84 1513.66 Z\" fill=\"#000000\" fill-rule=\"evenodd\" fill-opacity=\"1\" /><path clip-path=\"url(#clip040)\" d=\"M1526.63 1544.91 L1534.27 1544.91 L1534.27 1518.55 L1525.96 1520.21 L1525.96 1515.95 L1534.22 1514.29 L1538.9 1514.29 L1538.9 1544.91 L1546.54 1544.91 L1546.54 1548.85 L1526.63 1548.85 L1526.63 1544.91 Z\" fill=\"#000000\" fill-rule=\"evenodd\" fill-opacity=\"1\" /><path clip-path=\"url(#clip040)\" d=\"M1556.03 1514.29 L1574.39 1514.29 L1574.39 1518.22 L1560.31 1518.22 L1560.31 1526.7 Q1561.33 1526.35 1562.35 1526.19 Q1563.37 1526 1564.39 1526 Q1570.17 1526 1573.55 1529.17 Q1576.93 1532.34 1576.93 1537.76 Q1576.93 1543.34 1573.46 1546.44 Q1569.99 1549.52 1563.67 1549.52 Q1561.49 1549.52 1559.22 1549.15 Q1556.98 1548.78 1554.57 1548.04 L1554.57 1543.34 Q1556.66 1544.47 1558.88 1545.03 Q1561.1 1545.58 1563.58 1545.58 Q1567.58 1545.58 1569.92 1543.48 Q1572.26 1541.37 1572.26 1537.76 Q1572.26 1534.15 1569.92 1532.04 Q1567.58 1529.94 1563.58 1529.94 Q1561.7 1529.94 1559.83 1530.35 Q1557.97 1530.77 1556.03 1531.65 L1556.03 1514.29 Z\" fill=\"#000000\" fill-rule=\"evenodd\" fill-opacity=\"1\" /><path clip-path=\"url(#clip040)\" d=\"M1586.15 1542.97 L1591.03 1542.97 L1591.03 1548.85 L1586.15 1548.85 L1586.15 1542.97 Z\" fill=\"#000000\" fill-rule=\"evenodd\" fill-opacity=\"1\" /><path clip-path=\"url(#clip040)\" d=\"M1615.38 1530.21 Q1618.74 1530.93 1620.61 1533.2 Q1622.51 1535.47 1622.51 1538.8 Q1622.51 1543.92 1618.99 1546.72 Q1615.47 1549.52 1608.99 1549.52 Q1606.82 1549.52 1604.5 1549.08 Q1602.21 1548.66 1599.76 1547.81 L1599.76 1543.29 Q1601.7 1544.43 1604.02 1545.01 Q1606.33 1545.58 1608.85 1545.58 Q1613.25 1545.58 1615.54 1543.85 Q1617.86 1542.11 1617.86 1538.8 Q1617.86 1535.75 1615.71 1534.03 Q1613.58 1532.3 1609.76 1532.3 L1605.73 1532.3 L1605.73 1528.45 L1609.94 1528.45 Q1613.39 1528.45 1615.22 1527.09 Q1617.05 1525.7 1617.05 1523.11 Q1617.05 1520.45 1615.15 1519.03 Q1613.28 1517.6 1609.76 1517.6 Q1607.84 1517.6 1605.64 1518.01 Q1603.44 1518.43 1600.8 1519.31 L1600.8 1515.14 Q1603.46 1514.4 1605.78 1514.03 Q1608.11 1513.66 1610.17 1513.66 Q1615.5 1513.66 1618.6 1516.09 Q1621.7 1518.5 1621.7 1522.62 Q1621.7 1525.49 1620.06 1527.48 Q1618.41 1529.45 1615.38 1530.21 Z\" fill=\"#000000\" fill-rule=\"evenodd\" fill-opacity=\"1\" /><path clip-path=\"url(#clip040)\" d=\"M1920.28 1544.91 L1927.92 1544.91 L1927.92 1518.55 L1919.61 1520.21 L1919.61 1515.95 L1927.87 1514.29 L1932.55 1514.29 L1932.55 1544.91 L1940.19 1544.91 L1940.19 1548.85 L1920.28 1548.85 L1920.28 1544.91 Z\" fill=\"#000000\" fill-rule=\"evenodd\" fill-opacity=\"1\" /><path clip-path=\"url(#clip040)\" d=\"M1949.68 1514.29 L1968.04 1514.29 L1968.04 1518.22 L1953.96 1518.22 L1953.96 1526.7 Q1954.98 1526.35 1956 1526.19 Q1957.02 1526 1958.04 1526 Q1963.82 1526 1967.2 1529.17 Q1970.58 1532.34 1970.58 1537.76 Q1970.58 1543.34 1967.11 1546.44 Q1963.64 1549.52 1957.32 1549.52 Q1955.14 1549.52 1952.87 1549.15 Q1950.63 1548.78 1948.22 1548.04 L1948.22 1543.34 Q1950.3 1544.47 1952.53 1545.03 Q1954.75 1545.58 1957.23 1545.58 Q1961.23 1545.58 1963.57 1543.48 Q1965.91 1541.37 1965.91 1537.76 Q1965.91 1534.15 1963.57 1532.04 Q1961.23 1529.94 1957.23 1529.94 Q1955.35 1529.94 1953.48 1530.35 Q1951.62 1530.77 1949.68 1531.65 L1949.68 1514.29 Z\" fill=\"#000000\" fill-rule=\"evenodd\" fill-opacity=\"1\" /><path clip-path=\"url(#clip040)\" d=\"M1979.79 1542.97 L1984.68 1542.97 L1984.68 1548.85 L1979.79 1548.85 L1979.79 1542.97 Z\" fill=\"#000000\" fill-rule=\"evenodd\" fill-opacity=\"1\" /><path clip-path=\"url(#clip040)\" d=\"M2005.44 1529.7 Q2002.29 1529.7 2000.44 1531.86 Q1998.61 1534.01 1998.61 1537.76 Q1998.61 1541.49 2000.44 1543.66 Q2002.29 1545.82 2005.44 1545.82 Q2008.59 1545.82 2010.42 1543.66 Q2012.27 1541.49 2012.27 1537.76 Q2012.27 1534.01 2010.42 1531.86 Q2008.59 1529.7 2005.44 1529.7 M2014.73 1515.05 L2014.73 1519.31 Q2012.97 1518.48 2011.16 1518.04 Q2009.38 1517.6 2007.62 1517.6 Q2002.99 1517.6 2000.54 1520.72 Q1998.11 1523.85 1997.76 1530.17 Q1999.12 1528.15 2001.18 1527.09 Q2003.24 1526 2005.72 1526 Q2010.93 1526 2013.94 1529.17 Q2016.97 1532.32 2016.97 1537.76 Q2016.97 1543.08 2013.82 1546.3 Q2010.67 1549.52 2005.44 1549.52 Q1999.45 1549.52 1996.28 1544.94 Q1993.11 1540.33 1993.11 1531.6 Q1993.11 1523.41 1996.99 1518.55 Q2000.88 1513.66 2007.43 1513.66 Q2009.19 1513.66 2010.98 1514.01 Q2012.78 1514.36 2014.73 1515.05 Z\" fill=\"#000000\" fill-rule=\"evenodd\" fill-opacity=\"1\" /><polyline clip-path=\"url(#clip042)\" style=\"stroke:#000000; stroke-linecap:round; stroke-linejoin:round; stroke-width:2; stroke-opacity:0.1; fill:none\" points=\"\n",
       "  138.959,1445.72 2352.76,1445.72 \n",
       "  \"/>\n",
       "<polyline clip-path=\"url(#clip042)\" style=\"stroke:#000000; stroke-linecap:round; stroke-linejoin:round; stroke-width:2; stroke-opacity:0.1; fill:none\" points=\"\n",
       "  138.959,993.136 2352.76,993.136 \n",
       "  \"/>\n",
       "<polyline clip-path=\"url(#clip042)\" style=\"stroke:#000000; stroke-linecap:round; stroke-linejoin:round; stroke-width:2; stroke-opacity:0.1; fill:none\" points=\"\n",
       "  138.959,540.556 2352.76,540.556 \n",
       "  \"/>\n",
       "<polyline clip-path=\"url(#clip042)\" style=\"stroke:#000000; stroke-linecap:round; stroke-linejoin:round; stroke-width:2; stroke-opacity:0.1; fill:none\" points=\"\n",
       "  138.959,87.9763 2352.76,87.9763 \n",
       "  \"/>\n",
       "<polyline clip-path=\"url(#clip040)\" style=\"stroke:#000000; stroke-linecap:round; stroke-linejoin:round; stroke-width:4; stroke-opacity:1; fill:none\" points=\"\n",
       "  138.959,1486.45 138.959,47.2441 \n",
       "  \"/>\n",
       "<polyline clip-path=\"url(#clip040)\" style=\"stroke:#000000; stroke-linecap:round; stroke-linejoin:round; stroke-width:4; stroke-opacity:1; fill:none\" points=\"\n",
       "  138.959,1445.72 157.857,1445.72 \n",
       "  \"/>\n",
       "<polyline clip-path=\"url(#clip040)\" style=\"stroke:#000000; stroke-linecap:round; stroke-linejoin:round; stroke-width:4; stroke-opacity:1; fill:none\" points=\"\n",
       "  138.959,993.136 157.857,993.136 \n",
       "  \"/>\n",
       "<polyline clip-path=\"url(#clip040)\" style=\"stroke:#000000; stroke-linecap:round; stroke-linejoin:round; stroke-width:4; stroke-opacity:1; fill:none\" points=\"\n",
       "  138.959,540.556 157.857,540.556 \n",
       "  \"/>\n",
       "<polyline clip-path=\"url(#clip040)\" style=\"stroke:#000000; stroke-linecap:round; stroke-linejoin:round; stroke-width:4; stroke-opacity:1; fill:none\" points=\"\n",
       "  138.959,87.9763 157.857,87.9763 \n",
       "  \"/>\n",
       "<path clip-path=\"url(#clip040)\" d=\"M91.0151 1431.51 Q87.404 1431.51 85.5753 1435.08 Q83.7697 1438.62 83.7697 1445.75 Q83.7697 1452.86 85.5753 1456.42 Q87.404 1459.96 91.0151 1459.96 Q94.6493 1459.96 96.4548 1456.42 Q98.2835 1452.86 98.2835 1445.75 Q98.2835 1438.62 96.4548 1435.08 Q94.6493 1431.51 91.0151 1431.51 M91.0151 1427.81 Q96.8252 1427.81 99.8808 1432.42 Q102.959 1437 102.959 1445.75 Q102.959 1454.48 99.8808 1459.08 Q96.8252 1463.67 91.0151 1463.67 Q85.2049 1463.67 82.1262 1459.08 Q79.0707 1454.48 79.0707 1445.75 Q79.0707 1437 82.1262 1432.42 Q85.2049 1427.81 91.0151 1427.81 Z\" fill=\"#000000\" fill-rule=\"evenodd\" fill-opacity=\"1\" /><path clip-path=\"url(#clip040)\" d=\"M82.0568 975.856 L100.413 975.856 L100.413 979.791 L86.3392 979.791 L86.3392 988.263 Q87.3577 987.916 88.3762 987.754 Q89.3947 987.569 90.4132 987.569 Q96.2002 987.569 99.5798 990.74 Q102.959 993.911 102.959 999.328 Q102.959 1004.91 99.4872 1008.01 Q96.015 1011.09 89.6956 1011.09 Q87.5197 1011.09 85.2512 1010.72 Q83.0058 1010.35 80.5984 1009.61 L80.5984 1004.91 Q82.6818 1006.04 84.904 1006.6 Q87.1262 1007.15 89.603 1007.15 Q93.6076 1007.15 95.9456 1005.05 Q98.2835 1002.94 98.2835 999.328 Q98.2835 995.717 95.9456 993.61 Q93.6076 991.504 89.603 991.504 Q87.728 991.504 85.8531 991.921 Q84.0012 992.337 82.0568 993.217 L82.0568 975.856 Z\" fill=\"#000000\" fill-rule=\"evenodd\" fill-opacity=\"1\" /><path clip-path=\"url(#clip040)\" d=\"M51.6634 553.901 L59.3023 553.901 L59.3023 527.535 L50.9921 529.202 L50.9921 524.943 L59.256 523.276 L63.9319 523.276 L63.9319 553.901 L71.5707 553.901 L71.5707 557.836 L51.6634 557.836 L51.6634 553.901 Z\" fill=\"#000000\" fill-rule=\"evenodd\" fill-opacity=\"1\" /><path clip-path=\"url(#clip040)\" d=\"M91.0151 526.355 Q87.404 526.355 85.5753 529.92 Q83.7697 533.461 83.7697 540.591 Q83.7697 547.697 85.5753 551.262 Q87.404 554.804 91.0151 554.804 Q94.6493 554.804 96.4548 551.262 Q98.2835 547.697 98.2835 540.591 Q98.2835 533.461 96.4548 529.92 Q94.6493 526.355 91.0151 526.355 M91.0151 522.651 Q96.8252 522.651 99.8808 527.258 Q102.959 531.841 102.959 540.591 Q102.959 549.318 99.8808 553.924 Q96.8252 558.507 91.0151 558.507 Q85.2049 558.507 82.1262 553.924 Q79.0707 549.318 79.0707 540.591 Q79.0707 531.841 82.1262 527.258 Q85.2049 522.651 91.0151 522.651 Z\" fill=\"#000000\" fill-rule=\"evenodd\" fill-opacity=\"1\" /><path clip-path=\"url(#clip040)\" d=\"M52.6588 101.321 L60.2976 101.321 L60.2976 74.9555 L51.9875 76.6222 L51.9875 72.3629 L60.2513 70.6963 L64.9272 70.6963 L64.9272 101.321 L72.5661 101.321 L72.5661 105.256 L52.6588 105.256 L52.6588 101.321 Z\" fill=\"#000000\" fill-rule=\"evenodd\" fill-opacity=\"1\" /><path clip-path=\"url(#clip040)\" d=\"M82.0568 70.6963 L100.413 70.6963 L100.413 74.6314 L86.3392 74.6314 L86.3392 83.1036 Q87.3577 82.7564 88.3762 82.5944 Q89.3947 82.4092 90.4132 82.4092 Q96.2002 82.4092 99.5798 85.5805 Q102.959 88.7517 102.959 94.1684 Q102.959 99.747 99.4872 102.849 Q96.015 105.928 89.6956 105.928 Q87.5197 105.928 85.2512 105.557 Q83.0058 105.187 80.5984 104.446 L80.5984 99.747 Q82.6818 100.881 84.904 101.437 Q87.1262 101.992 89.603 101.992 Q93.6076 101.992 95.9456 99.8859 Q98.2835 97.7795 98.2835 94.1684 Q98.2835 90.5573 95.9456 88.4508 Q93.6076 86.3443 89.603 86.3443 Q87.728 86.3443 85.8531 86.761 Q84.0012 87.1777 82.0568 88.0573 L82.0568 70.6963 Z\" fill=\"#000000\" fill-rule=\"evenodd\" fill-opacity=\"1\" /><path clip-path=\"url(#clip042)\" d=\"\n",
       "M260.722 1355.2 L260.722 1445.72 L392.074 1445.72 L392.074 1355.2 L260.722 1355.2 L260.722 1355.2  Z\n",
       "  \" fill=\"#009af9\" fill-rule=\"evenodd\" fill-opacity=\"1\"/>\n",
       "<polyline clip-path=\"url(#clip042)\" style=\"stroke:#000000; stroke-linecap:round; stroke-linejoin:round; stroke-width:4; stroke-opacity:1; fill:none\" points=\"\n",
       "  260.722,1355.2 260.722,1445.72 392.074,1445.72 392.074,1355.2 260.722,1355.2 \n",
       "  \"/>\n",
       "<path clip-path=\"url(#clip042)\" d=\"\n",
       "M392.074 1445.72 L392.074 1445.72 L523.425 1445.72 L523.425 1445.72 L392.074 1445.72 L392.074 1445.72  Z\n",
       "  \" fill=\"#009af9\" fill-rule=\"evenodd\" fill-opacity=\"1\"/>\n",
       "<polyline clip-path=\"url(#clip042)\" style=\"stroke:#000000; stroke-linecap:round; stroke-linejoin:round; stroke-width:4; stroke-opacity:1; fill:none\" points=\"\n",
       "  392.074,1445.72 392.074,1445.72 523.425,1445.72 392.074,1445.72 \n",
       "  \"/>\n",
       "<path clip-path=\"url(#clip042)\" d=\"\n",
       "M523.425 1445.72 L523.425 1445.72 L654.776 1445.72 L654.776 1445.72 L523.425 1445.72 L523.425 1445.72  Z\n",
       "  \" fill=\"#009af9\" fill-rule=\"evenodd\" fill-opacity=\"1\"/>\n",
       "<polyline clip-path=\"url(#clip042)\" style=\"stroke:#000000; stroke-linecap:round; stroke-linejoin:round; stroke-width:4; stroke-opacity:1; fill:none\" points=\"\n",
       "  523.425,1445.72 523.425,1445.72 654.776,1445.72 523.425,1445.72 \n",
       "  \"/>\n",
       "<path clip-path=\"url(#clip042)\" d=\"\n",
       "M654.776 1445.72 L654.776 1445.72 L786.128 1445.72 L786.128 1445.72 L654.776 1445.72 L654.776 1445.72  Z\n",
       "  \" fill=\"#009af9\" fill-rule=\"evenodd\" fill-opacity=\"1\"/>\n",
       "<polyline clip-path=\"url(#clip042)\" style=\"stroke:#000000; stroke-linecap:round; stroke-linejoin:round; stroke-width:4; stroke-opacity:1; fill:none\" points=\"\n",
       "  654.776,1445.72 654.776,1445.72 786.128,1445.72 654.776,1445.72 \n",
       "  \"/>\n",
       "<path clip-path=\"url(#clip042)\" d=\"\n",
       "M786.128 1445.72 L786.128 1445.72 L917.479 1445.72 L917.479 1445.72 L786.128 1445.72 L786.128 1445.72  Z\n",
       "  \" fill=\"#009af9\" fill-rule=\"evenodd\" fill-opacity=\"1\"/>\n",
       "<polyline clip-path=\"url(#clip042)\" style=\"stroke:#000000; stroke-linecap:round; stroke-linejoin:round; stroke-width:4; stroke-opacity:1; fill:none\" points=\"\n",
       "  786.128,1445.72 786.128,1445.72 917.479,1445.72 786.128,1445.72 \n",
       "  \"/>\n",
       "<path clip-path=\"url(#clip042)\" d=\"\n",
       "M917.479 1445.72 L917.479 1445.72 L1048.83 1445.72 L1048.83 1445.72 L917.479 1445.72 L917.479 1445.72  Z\n",
       "  \" fill=\"#009af9\" fill-rule=\"evenodd\" fill-opacity=\"1\"/>\n",
       "<polyline clip-path=\"url(#clip042)\" style=\"stroke:#000000; stroke-linecap:round; stroke-linejoin:round; stroke-width:4; stroke-opacity:1; fill:none\" points=\"\n",
       "  917.479,1445.72 917.479,1445.72 1048.83,1445.72 917.479,1445.72 \n",
       "  \"/>\n",
       "<path clip-path=\"url(#clip042)\" d=\"\n",
       "M1048.83 1445.72 L1048.83 1445.72 L1180.18 1445.72 L1180.18 1445.72 L1048.83 1445.72 L1048.83 1445.72  Z\n",
       "  \" fill=\"#009af9\" fill-rule=\"evenodd\" fill-opacity=\"1\"/>\n",
       "<polyline clip-path=\"url(#clip042)\" style=\"stroke:#000000; stroke-linecap:round; stroke-linejoin:round; stroke-width:4; stroke-opacity:1; fill:none\" points=\"\n",
       "  1048.83,1445.72 1048.83,1445.72 1180.18,1445.72 1048.83,1445.72 \n",
       "  \"/>\n",
       "<path clip-path=\"url(#clip042)\" d=\"\n",
       "M1180.18 1264.68 L1180.18 1445.72 L1311.53 1445.72 L1311.53 1264.68 L1180.18 1264.68 L1180.18 1264.68  Z\n",
       "  \" fill=\"#009af9\" fill-rule=\"evenodd\" fill-opacity=\"1\"/>\n",
       "<polyline clip-path=\"url(#clip042)\" style=\"stroke:#000000; stroke-linecap:round; stroke-linejoin:round; stroke-width:4; stroke-opacity:1; fill:none\" points=\"\n",
       "  1180.18,1264.68 1180.18,1445.72 1311.53,1445.72 1311.53,1264.68 1180.18,1264.68 \n",
       "  \"/>\n",
       "<path clip-path=\"url(#clip042)\" d=\"\n",
       "M1311.53 812.104 L1311.53 1445.72 L1442.88 1445.72 L1442.88 812.104 L1311.53 812.104 L1311.53 812.104  Z\n",
       "  \" fill=\"#009af9\" fill-rule=\"evenodd\" fill-opacity=\"1\"/>\n",
       "<polyline clip-path=\"url(#clip042)\" style=\"stroke:#000000; stroke-linecap:round; stroke-linejoin:round; stroke-width:4; stroke-opacity:1; fill:none\" points=\"\n",
       "  1311.53,812.104 1311.53,1445.72 1442.88,1445.72 1442.88,812.104 1311.53,812.104 \n",
       "  \"/>\n",
       "<path clip-path=\"url(#clip042)\" d=\"\n",
       "M1442.88 87.9763 L1442.88 1445.72 L1574.24 1445.72 L1574.24 87.9763 L1442.88 87.9763 L1442.88 87.9763  Z\n",
       "  \" fill=\"#009af9\" fill-rule=\"evenodd\" fill-opacity=\"1\"/>\n",
       "<polyline clip-path=\"url(#clip042)\" style=\"stroke:#000000; stroke-linecap:round; stroke-linejoin:round; stroke-width:4; stroke-opacity:1; fill:none\" points=\"\n",
       "  1442.88,87.9763 1442.88,1445.72 1574.24,1445.72 1574.24,87.9763 1442.88,87.9763 \n",
       "  \"/>\n",
       "<path clip-path=\"url(#clip042)\" d=\"\n",
       "M1574.24 87.9763 L1574.24 1445.72 L1705.59 1445.72 L1705.59 87.9763 L1574.24 87.9763 L1574.24 87.9763  Z\n",
       "  \" fill=\"#009af9\" fill-rule=\"evenodd\" fill-opacity=\"1\"/>\n",
       "<polyline clip-path=\"url(#clip042)\" style=\"stroke:#000000; stroke-linecap:round; stroke-linejoin:round; stroke-width:4; stroke-opacity:1; fill:none\" points=\"\n",
       "  1574.24,87.9763 1574.24,1445.72 1705.59,1445.72 1705.59,87.9763 1574.24,87.9763 \n",
       "  \"/>\n",
       "<path clip-path=\"url(#clip042)\" d=\"\n",
       "M1705.59 812.104 L1705.59 1445.72 L1836.94 1445.72 L1836.94 812.104 L1705.59 812.104 L1705.59 812.104  Z\n",
       "  \" fill=\"#009af9\" fill-rule=\"evenodd\" fill-opacity=\"1\"/>\n",
       "<polyline clip-path=\"url(#clip042)\" style=\"stroke:#000000; stroke-linecap:round; stroke-linejoin:round; stroke-width:4; stroke-opacity:1; fill:none\" points=\"\n",
       "  1705.59,812.104 1705.59,1445.72 1836.94,1445.72 1836.94,812.104 1705.59,812.104 \n",
       "  \"/>\n",
       "<path clip-path=\"url(#clip042)\" d=\"\n",
       "M1836.94 1355.2 L1836.94 1445.72 L1968.29 1445.72 L1968.29 1355.2 L1836.94 1355.2 L1836.94 1355.2  Z\n",
       "  \" fill=\"#009af9\" fill-rule=\"evenodd\" fill-opacity=\"1\"/>\n",
       "<polyline clip-path=\"url(#clip042)\" style=\"stroke:#000000; stroke-linecap:round; stroke-linejoin:round; stroke-width:4; stroke-opacity:1; fill:none\" points=\"\n",
       "  1836.94,1355.2 1836.94,1445.72 1968.29,1445.72 1968.29,1355.2 1836.94,1355.2 \n",
       "  \"/>\n",
       "<path clip-path=\"url(#clip042)\" d=\"\n",
       "M1968.29 1355.2 L1968.29 1445.72 L2099.64 1445.72 L2099.64 1355.2 L1968.29 1355.2 L1968.29 1355.2  Z\n",
       "  \" fill=\"#009af9\" fill-rule=\"evenodd\" fill-opacity=\"1\"/>\n",
       "<polyline clip-path=\"url(#clip042)\" style=\"stroke:#000000; stroke-linecap:round; stroke-linejoin:round; stroke-width:4; stroke-opacity:1; fill:none\" points=\"\n",
       "  1968.29,1355.2 1968.29,1445.72 2099.64,1445.72 2099.64,1355.2 1968.29,1355.2 \n",
       "  \"/>\n",
       "<path clip-path=\"url(#clip042)\" d=\"\n",
       "M2099.64 1355.2 L2099.64 1445.72 L2230.99 1445.72 L2230.99 1355.2 L2099.64 1355.2 L2099.64 1355.2  Z\n",
       "  \" fill=\"#009af9\" fill-rule=\"evenodd\" fill-opacity=\"1\"/>\n",
       "<polyline clip-path=\"url(#clip042)\" style=\"stroke:#000000; stroke-linecap:round; stroke-linejoin:round; stroke-width:4; stroke-opacity:1; fill:none\" points=\"\n",
       "  2099.64,1355.2 2099.64,1445.72 2230.99,1445.72 2230.99,1355.2 2099.64,1355.2 \n",
       "  \"/>\n",
       "<circle clip-path=\"url(#clip042)\" style=\"fill:#009af9; stroke:none; fill-opacity:0\" cx=\"326.398\" cy=\"1355.2\" r=\"2\"/>\n",
       "<circle clip-path=\"url(#clip042)\" style=\"fill:#009af9; stroke:none; fill-opacity:0\" cx=\"457.749\" cy=\"1445.72\" r=\"2\"/>\n",
       "<circle clip-path=\"url(#clip042)\" style=\"fill:#009af9; stroke:none; fill-opacity:0\" cx=\"589.101\" cy=\"1445.72\" r=\"2\"/>\n",
       "<circle clip-path=\"url(#clip042)\" style=\"fill:#009af9; stroke:none; fill-opacity:0\" cx=\"720.452\" cy=\"1445.72\" r=\"2\"/>\n",
       "<circle clip-path=\"url(#clip042)\" style=\"fill:#009af9; stroke:none; fill-opacity:0\" cx=\"851.803\" cy=\"1445.72\" r=\"2\"/>\n",
       "<circle clip-path=\"url(#clip042)\" style=\"fill:#009af9; stroke:none; fill-opacity:0\" cx=\"983.155\" cy=\"1445.72\" r=\"2\"/>\n",
       "<circle clip-path=\"url(#clip042)\" style=\"fill:#009af9; stroke:none; fill-opacity:0\" cx=\"1114.51\" cy=\"1445.72\" r=\"2\"/>\n",
       "<circle clip-path=\"url(#clip042)\" style=\"fill:#009af9; stroke:none; fill-opacity:0\" cx=\"1245.86\" cy=\"1264.68\" r=\"2\"/>\n",
       "<circle clip-path=\"url(#clip042)\" style=\"fill:#009af9; stroke:none; fill-opacity:0\" cx=\"1377.21\" cy=\"812.104\" r=\"2\"/>\n",
       "<circle clip-path=\"url(#clip042)\" style=\"fill:#009af9; stroke:none; fill-opacity:0\" cx=\"1508.56\" cy=\"87.9763\" r=\"2\"/>\n",
       "<circle clip-path=\"url(#clip042)\" style=\"fill:#009af9; stroke:none; fill-opacity:0\" cx=\"1639.91\" cy=\"87.9763\" r=\"2\"/>\n",
       "<circle clip-path=\"url(#clip042)\" style=\"fill:#009af9; stroke:none; fill-opacity:0\" cx=\"1771.26\" cy=\"812.104\" r=\"2\"/>\n",
       "<circle clip-path=\"url(#clip042)\" style=\"fill:#009af9; stroke:none; fill-opacity:0\" cx=\"1902.61\" cy=\"1355.2\" r=\"2\"/>\n",
       "<circle clip-path=\"url(#clip042)\" style=\"fill:#009af9; stroke:none; fill-opacity:0\" cx=\"2033.97\" cy=\"1355.2\" r=\"2\"/>\n",
       "<circle clip-path=\"url(#clip042)\" style=\"fill:#009af9; stroke:none; fill-opacity:0\" cx=\"2165.32\" cy=\"1355.2\" r=\"2\"/>\n",
       "<path clip-path=\"url(#clip040)\" d=\"\n",
       "M2005.15 198.898 L2278.96 198.898 L2278.96 95.2176 L2005.15 95.2176  Z\n",
       "  \" fill=\"#ffffff\" fill-rule=\"evenodd\" fill-opacity=\"1\"/>\n",
       "<polyline clip-path=\"url(#clip040)\" style=\"stroke:#000000; stroke-linecap:round; stroke-linejoin:round; stroke-width:4; stroke-opacity:1; fill:none\" points=\"\n",
       "  2005.15,198.898 2278.96,198.898 2278.96,95.2176 2005.15,95.2176 2005.15,198.898 \n",
       "  \"/>\n",
       "<path clip-path=\"url(#clip040)\" d=\"\n",
       "M2029.75 167.794 L2177.34 167.794 L2177.34 126.322 L2029.75 126.322 L2029.75 167.794  Z\n",
       "  \" fill=\"#009af9\" fill-rule=\"evenodd\" fill-opacity=\"1\"/>\n",
       "<polyline clip-path=\"url(#clip040)\" style=\"stroke:#000000; stroke-linecap:round; stroke-linejoin:round; stroke-width:4; stroke-opacity:1; fill:none\" points=\"\n",
       "  2029.75,167.794 2177.34,167.794 2177.34,126.322 2029.75,126.322 2029.75,167.794 \n",
       "  \"/>\n",
       "<path clip-path=\"url(#clip040)\" d=\"M2215.78 166.745 Q2213.97 171.375 2212.26 172.787 Q2210.55 174.199 2207.68 174.199 L2204.27 174.199 L2204.27 170.634 L2206.77 170.634 Q2208.53 170.634 2209.5 169.8 Q2210.48 168.967 2211.66 165.865 L2212.42 163.921 L2201.93 138.412 L2206.45 138.412 L2214.55 158.689 L2222.65 138.412 L2227.17 138.412 L2215.78 166.745 Z\" fill=\"#000000\" fill-rule=\"evenodd\" fill-opacity=\"1\" /><path clip-path=\"url(#clip040)\" d=\"M2234.46 160.402 L2242.1 160.402 L2242.1 134.037 L2233.79 135.703 L2233.79 131.444 L2242.05 129.778 L2246.73 129.778 L2246.73 160.402 L2254.36 160.402 L2254.36 164.338 L2234.46 164.338 L2234.46 160.402 Z\" fill=\"#000000\" fill-rule=\"evenodd\" fill-opacity=\"1\" /></svg>\n"
      ]
     },
     "execution_count": 16,
     "metadata": {},
     "output_type": "execute_result"
    }
   ],
   "source": [
    "histogram(BXD_pheno_strains_summary_df.\"P61924_VALRGEDVPLTEQTVSQVLQSAK_3\")"
   ]
  },
  {
   "cell_type": "code",
   "execution_count": 17,
   "id": "c9e172db-b395-4c04-9c4c-429e8ce5b677",
   "metadata": {},
   "outputs": [],
   "source": [
    "BXD_geno_strains_summary_df = CSV.read(\"data/GN886_geno_strains_summary.csv\", DataFrame);"
   ]
  },
  {
   "cell_type": "markdown",
   "id": "e606034c-1af9-4dad-a88d-07f4cc67be19",
   "metadata": {},
   "source": [
    "By strains, there are 50 BXD strains for 7321 markers."
   ]
  },
  {
   "cell_type": "code",
   "execution_count": 18,
   "id": "324c16c7-5a68-44a5-abe6-b098bf1526a9",
   "metadata": {},
   "outputs": [
    {
     "name": "stdout",
     "output_type": "stream",
     "text": [
      "(50, 7322)\n"
     ]
    },
    {
     "data": {
      "text/html": [
       "<div><div style = \"float: left;\"><span>10×10 DataFrame</span></div><div style = \"clear: both;\"></div></div><div class = \"data-frame\" style = \"overflow-x: scroll;\"><table class = \"data-frame\" style = \"margin-bottom: 6px;\"><thead><tr class = \"header\"><th class = \"rowNumber\" style = \"font-weight: bold; text-align: right;\">Row</th><th style = \"text-align: left;\">Strain</th><th style = \"text-align: left;\">rs31443144</th><th style = \"text-align: left;\">rs6269442</th><th style = \"text-align: left;\">rs32285189</th><th style = \"text-align: left;\">rs258367496</th><th style = \"text-align: left;\">rs32430919</th><th style = \"text-align: left;\">rs36251697</th><th style = \"text-align: left;\">rs30658298</th><th style = \"text-align: left;\">rs51852623</th><th style = \"text-align: left;\">rs31879829</th></tr><tr class = \"subheader headerLastRow\"><th class = \"rowNumber\" style = \"font-weight: bold; text-align: right;\"></th><th title = \"String7\" style = \"text-align: left;\">String7</th><th title = \"Float64\" style = \"text-align: left;\">Float64</th><th title = \"Float64\" style = \"text-align: left;\">Float64</th><th title = \"Float64\" style = \"text-align: left;\">Float64</th><th title = \"Float64\" style = \"text-align: left;\">Float64</th><th title = \"Float64\" style = \"text-align: left;\">Float64</th><th title = \"Float64\" style = \"text-align: left;\">Float64</th><th title = \"Float64\" style = \"text-align: left;\">Float64</th><th title = \"Float64\" style = \"text-align: left;\">Float64</th><th title = \"Float64\" style = \"text-align: left;\">Float64</th></tr></thead><tbody><tr><td class = \"rowNumber\" style = \"font-weight: bold; text-align: right;\">1</td><td style = \"text-align: left;\">BXD9</td><td style = \"text-align: right;\">0.0</td><td style = \"text-align: right;\">0.0</td><td style = \"text-align: right;\">0.0</td><td style = \"text-align: right;\">0.0</td><td style = \"text-align: right;\">0.0</td><td style = \"text-align: right;\">0.0</td><td style = \"text-align: right;\">0.0</td><td style = \"text-align: right;\">0.0</td><td style = \"text-align: right;\">0.0</td></tr><tr><td class = \"rowNumber\" style = \"font-weight: bold; text-align: right;\">2</td><td style = \"text-align: left;\">BXD13</td><td style = \"text-align: right;\">0.0</td><td style = \"text-align: right;\">0.0</td><td style = \"text-align: right;\">0.0</td><td style = \"text-align: right;\">0.0</td><td style = \"text-align: right;\">0.0</td><td style = \"text-align: right;\">0.0</td><td style = \"text-align: right;\">0.0</td><td style = \"text-align: right;\">0.0</td><td style = \"text-align: right;\">0.0</td></tr><tr><td class = \"rowNumber\" style = \"font-weight: bold; text-align: right;\">3</td><td style = \"text-align: left;\">BXD24</td><td style = \"text-align: right;\">0.0</td><td style = \"text-align: right;\">0.0</td><td style = \"text-align: right;\">0.0</td><td style = \"text-align: right;\">0.0</td><td style = \"text-align: right;\">0.0</td><td style = \"text-align: right;\">0.0</td><td style = \"text-align: right;\">0.0</td><td style = \"text-align: right;\">0.0</td><td style = \"text-align: right;\">0.0</td></tr><tr><td class = \"rowNumber\" style = \"font-weight: bold; text-align: right;\">4</td><td style = \"text-align: left;\">BXD27</td><td style = \"text-align: right;\">0.0</td><td style = \"text-align: right;\">0.0</td><td style = \"text-align: right;\">0.0</td><td style = \"text-align: right;\">0.0</td><td style = \"text-align: right;\">0.0</td><td style = \"text-align: right;\">0.0</td><td style = \"text-align: right;\">0.0</td><td style = \"text-align: right;\">0.0</td><td style = \"text-align: right;\">0.0</td></tr><tr><td class = \"rowNumber\" style = \"font-weight: bold; text-align: right;\">5</td><td style = \"text-align: left;\">BXD29</td><td style = \"text-align: right;\">1.0</td><td style = \"text-align: right;\">1.0</td><td style = \"text-align: right;\">1.0</td><td style = \"text-align: right;\">1.0</td><td style = \"text-align: right;\">1.0</td><td style = \"text-align: right;\">1.0</td><td style = \"text-align: right;\">1.0</td><td style = \"text-align: right;\">1.0</td><td style = \"text-align: right;\">1.0</td></tr><tr><td class = \"rowNumber\" style = \"font-weight: bold; text-align: right;\">6</td><td style = \"text-align: left;\">BXD32</td><td style = \"text-align: right;\">0.0</td><td style = \"text-align: right;\">0.0</td><td style = \"text-align: right;\">0.0</td><td style = \"text-align: right;\">0.0</td><td style = \"text-align: right;\">0.0</td><td style = \"text-align: right;\">0.0</td><td style = \"text-align: right;\">0.0</td><td style = \"text-align: right;\">0.0</td><td style = \"text-align: right;\">0.0</td></tr><tr><td class = \"rowNumber\" style = \"font-weight: bold; text-align: right;\">7</td><td style = \"text-align: left;\">BXD34</td><td style = \"text-align: right;\">0.0</td><td style = \"text-align: right;\">0.0</td><td style = \"text-align: right;\">0.0</td><td style = \"text-align: right;\">0.0</td><td style = \"text-align: right;\">0.0</td><td style = \"text-align: right;\">0.0</td><td style = \"text-align: right;\">0.0</td><td style = \"text-align: right;\">0.0</td><td style = \"text-align: right;\">0.0</td></tr><tr><td class = \"rowNumber\" style = \"font-weight: bold; text-align: right;\">8</td><td style = \"text-align: left;\">BXD39</td><td style = \"text-align: right;\">1.0</td><td style = \"text-align: right;\">1.0</td><td style = \"text-align: right;\">1.0</td><td style = \"text-align: right;\">1.0</td><td style = \"text-align: right;\">1.0</td><td style = \"text-align: right;\">1.0</td><td style = \"text-align: right;\">1.0</td><td style = \"text-align: right;\">1.0</td><td style = \"text-align: right;\">1.0</td></tr><tr><td class = \"rowNumber\" style = \"font-weight: bold; text-align: right;\">9</td><td style = \"text-align: left;\">BXD40</td><td style = \"text-align: right;\">0.0</td><td style = \"text-align: right;\">0.0</td><td style = \"text-align: right;\">0.0</td><td style = \"text-align: right;\">0.0</td><td style = \"text-align: right;\">0.0</td><td style = \"text-align: right;\">0.0</td><td style = \"text-align: right;\">0.0</td><td style = \"text-align: right;\">0.0</td><td style = \"text-align: right;\">0.0</td></tr><tr><td class = \"rowNumber\" style = \"font-weight: bold; text-align: right;\">10</td><td style = \"text-align: left;\">BXD43</td><td style = \"text-align: right;\">0.0</td><td style = \"text-align: right;\">0.0</td><td style = \"text-align: right;\">0.0</td><td style = \"text-align: right;\">0.0</td><td style = \"text-align: right;\">0.0</td><td style = \"text-align: right;\">0.0</td><td style = \"text-align: right;\">0.0</td><td style = \"text-align: right;\">0.0</td><td style = \"text-align: right;\">0.0</td></tr></tbody></table></div>"
      ],
      "text/latex": [
       "\\begin{tabular}{r|cccccccc}\n",
       "\t& Strain & rs31443144 & rs6269442 & rs32285189 & rs258367496 & rs32430919 & rs36251697 & \\\\\n",
       "\t\\hline\n",
       "\t& String7 & Float64 & Float64 & Float64 & Float64 & Float64 & Float64 & \\\\\n",
       "\t\\hline\n",
       "\t1 & BXD9 & 0.0 & 0.0 & 0.0 & 0.0 & 0.0 & 0.0 & $\\dots$ \\\\\n",
       "\t2 & BXD13 & 0.0 & 0.0 & 0.0 & 0.0 & 0.0 & 0.0 & $\\dots$ \\\\\n",
       "\t3 & BXD24 & 0.0 & 0.0 & 0.0 & 0.0 & 0.0 & 0.0 & $\\dots$ \\\\\n",
       "\t4 & BXD27 & 0.0 & 0.0 & 0.0 & 0.0 & 0.0 & 0.0 & $\\dots$ \\\\\n",
       "\t5 & BXD29 & 1.0 & 1.0 & 1.0 & 1.0 & 1.0 & 1.0 & $\\dots$ \\\\\n",
       "\t6 & BXD32 & 0.0 & 0.0 & 0.0 & 0.0 & 0.0 & 0.0 & $\\dots$ \\\\\n",
       "\t7 & BXD34 & 0.0 & 0.0 & 0.0 & 0.0 & 0.0 & 0.0 & $\\dots$ \\\\\n",
       "\t8 & BXD39 & 1.0 & 1.0 & 1.0 & 1.0 & 1.0 & 1.0 & $\\dots$ \\\\\n",
       "\t9 & BXD40 & 0.0 & 0.0 & 0.0 & 0.0 & 0.0 & 0.0 & $\\dots$ \\\\\n",
       "\t10 & BXD43 & 0.0 & 0.0 & 0.0 & 0.0 & 0.0 & 0.0 & $\\dots$ \\\\\n",
       "\\end{tabular}\n"
      ],
      "text/plain": [
       "\u001b[1m10×10 DataFrame\u001b[0m\n",
       "\u001b[1m Row \u001b[0m│\u001b[1m Strain  \u001b[0m\u001b[1m rs31443144 \u001b[0m\u001b[1m rs6269442 \u001b[0m\u001b[1m rs32285189 \u001b[0m\u001b[1m rs258367496 \u001b[0m\u001b[1m rs32430919 \u001b[0m\u001b[1m rs\u001b[0m ⋯\n",
       "     │\u001b[90m String7 \u001b[0m\u001b[90m Float64    \u001b[0m\u001b[90m Float64   \u001b[0m\u001b[90m Float64    \u001b[0m\u001b[90m Float64     \u001b[0m\u001b[90m Float64    \u001b[0m\u001b[90m Fl\u001b[0m ⋯\n",
       "─────┼──────────────────────────────────────────────────────────────────────────\n",
       "   1 │ BXD9            0.0        0.0         0.0          0.0         0.0     ⋯\n",
       "   2 │ BXD13           0.0        0.0         0.0          0.0         0.0\n",
       "   3 │ BXD24           0.0        0.0         0.0          0.0         0.0\n",
       "   4 │ BXD27           0.0        0.0         0.0          0.0         0.0\n",
       "   5 │ BXD29           1.0        1.0         1.0          1.0         1.0     ⋯\n",
       "   6 │ BXD32           0.0        0.0         0.0          0.0         0.0\n",
       "   7 │ BXD34           0.0        0.0         0.0          0.0         0.0\n",
       "   8 │ BXD39           1.0        1.0         1.0          1.0         1.0\n",
       "   9 │ BXD40           0.0        0.0         0.0          0.0         0.0     ⋯\n",
       "  10 │ BXD43           0.0        0.0         0.0          0.0         0.0\n",
       "\u001b[36m                                                               4 columns omitted\u001b[0m"
      ]
     },
     "execution_count": 18,
     "metadata": {},
     "output_type": "execute_result"
    }
   ],
   "source": [
    "println(size(BXD_geno_strains_summary_df)) \n",
    "BXD_geno_strains_summary_df[1:10, 1:10]"
   ]
  },
  {
   "cell_type": "markdown",
   "id": "89aad467-abcd-43b1-a360-b630c6ba6540",
   "metadata": {},
   "source": [
    "#### Huberized strain means LPs:"
   ]
  },
  {
   "cell_type": "code",
   "execution_count": 19,
   "id": "2f6df52c-130b-432d-80ea-5b4a7b062cbf",
   "metadata": {},
   "outputs": [],
   "source": [
    "# BXD_pheno_huber_strains_summary_df = CSV.read(\"data/GN886_pheno_huber_strain_means_summary.csv\", DataFrame);"
   ]
  },
  {
   "cell_type": "code",
   "execution_count": 20,
   "id": "65295cde-518b-4436-bfd7-602bfe624fbe",
   "metadata": {},
   "outputs": [],
   "source": [
    "# println(size(BXD_pheno_huber_strains_summary_df)) \n",
    "# BXD_pheno_huber_strains_summary_df[1:10, 1:10]"
   ]
  },
  {
   "cell_type": "code",
   "execution_count": 21,
   "id": "453930d1-5879-4e1a-820d-2dc0dae35dba",
   "metadata": {},
   "outputs": [],
   "source": [
    "# histogram(BXD_pheno_huber_strains_summary_df.\"P61924_VALRGEDVPLTEQTVSQVLQSAK_3\")"
   ]
  },
  {
   "cell_type": "code",
   "execution_count": 22,
   "id": "feb10137-3005-4b62-acc4-eb6ea7bd4e43",
   "metadata": {},
   "outputs": [],
   "source": [
    "# mean(BXD_pheno_huber_ind_summary_df[1:4, 4])"
   ]
  },
  {
   "cell_type": "code",
   "execution_count": 23,
   "id": "612b39ee-cdbb-480b-92ff-7d1d85c05d9b",
   "metadata": {},
   "outputs": [],
   "source": [
    "# mean(BXD_pheno_huber_ind_summary_df[11:13, 4])"
   ]
  },
  {
   "cell_type": "markdown",
   "id": "3e0e8473-c29a-42c3-a47f-a2748cd4f5d7",
   "metadata": {},
   "source": [
    "## Load functions:"
   ]
  },
  {
   "cell_type": "code",
   "execution_count": 24,
   "id": "f04bb842-e79c-4ec0-9d62-d7b944e6f665",
   "metadata": {},
   "outputs": [],
   "source": [
    "include(joinpath(local_path, \"kinship.jl\"));\n",
    "include(joinpath(local_path, \"util.jl\"));\n",
    "include(joinpath(local_path, \"wls.jl\"));\n",
    "include(joinpath(local_path, \"lmm.jl\"));\n",
    "include(joinpath(local_path, \"transform_helpers.jl\"));\n",
    "include(joinpath(local_path, \"scan.jl\"));\n",
    "include(joinpath(local_path, \"bulkscan_helpers.jl\"));\n",
    "include(joinpath(local_path, \"bulkscan.jl\"));\n",
    "include(joinpath(local_path, \"readData.jl\"));"
   ]
  },
  {
   "cell_type": "markdown",
   "id": "0eae3573-e769-444e-9899-98480f6f8ccd",
   "metadata": {
    "tags": []
   },
   "source": [
    "## Objectives\n",
    "\n",
    "- gemma one trait, ind and strains\n",
    "\n",
    "- scan_alt one trait, ind and strains\n",
    "\n",
    "- scan_null one trait, ind and strains\n",
    "\n",
    "- bulkscan_grid (null), all traits, ...\n",
    "\n",
    "- data structure for all traits results...\n",
    "\n",
    "- Heatmap grids_taken, compare on strain means and individuals\n",
    "\n",
    "- Histogram of heritabilities (null) for all traits (both strain means and individual level data)\n",
    "\n",
    "- Loglikelihood by h2_grid plot, strain means v.s. individuals\n",
    "\n",
    "- Report fixed effects:\n",
    "\n",
    "- Adjusting difference in the number of samples across strains\n",
    "\n",
    "- Histogram of heritabilities (null) for all traits (both strain means and individual level data)"
   ]
  },
  {
   "cell_type": "markdown",
   "id": "3fe2c576-b753-4832-810f-24f196d05587",
   "metadata": {},
   "source": [
    "## Run BulkLMM.jl:"
   ]
  },
  {
   "cell_type": "markdown",
   "id": "b21044d7-08fc-454d-9528-e1271634033d",
   "metadata": {},
   "source": [
    "### Calculate kinship:"
   ]
  },
  {
   "cell_type": "markdown",
   "id": "02df590a-330c-42cd-9683-a3ba1ff991fc",
   "metadata": {},
   "source": [
    "First, calculate the kinship matrix of relatedness among the strains (50-by-50):"
   ]
  },
  {
   "cell_type": "code",
   "execution_count": 25,
   "id": "18e76163-3e2a-40b3-b934-7ee1c9329887",
   "metadata": {},
   "outputs": [],
   "source": [
    "geno_strains = Matrix{Float64}(BXD_geno_strains_summary_df[:, 2:end]);"
   ]
  },
  {
   "cell_type": "code",
   "execution_count": 26,
   "id": "dd7d6569-ee12-4e1f-8fa4-df06d5c62ff8",
   "metadata": {},
   "outputs": [],
   "source": [
    "kinship_strains = calcKinship(geno_strains);"
   ]
  },
  {
   "cell_type": "markdown",
   "id": "e11b6c48-a575-4948-86bf-5e40d01b79c6",
   "metadata": {},
   "source": [
    "Then, construct the kinship matrix of relatedness among the individuals based on which strain they are from:"
   ]
  },
  {
   "cell_type": "code",
   "execution_count": 27,
   "id": "cfcf52f0-8c4a-4a39-83be-9955101cc419",
   "metadata": {},
   "outputs": [
    {
     "data": {
      "text/plain": [
       "calcRepeats (generic function with 1 method)"
      ]
     },
     "execution_count": 27,
     "metadata": {},
     "output_type": "execute_result"
    }
   ],
   "source": [
    "function calcRepeats(x::Array{Int64, 1})\n",
    "    \n",
    "    counting_dict = Dict{Int64, Int64}();\n",
    "    \n",
    "    for i in 1:length(x)\n",
    "        curr_key = x[i];\n",
    "        if haskey(counting_dict, curr_key) # if current key already exists\n",
    "            counting_dict[curr_key] += 1;\n",
    "        else # if current key does not present, add it as a new key\n",
    "            counting_dict[curr_key] = 1;\n",
    "        end\n",
    "    end\n",
    "    \n",
    "    return counting_dict\n",
    "    \n",
    "end"
   ]
  },
  {
   "cell_type": "code",
   "execution_count": 28,
   "id": "a22c5899-227f-44e8-872b-0fb90953fd4b",
   "metadata": {},
   "outputs": [
    {
     "data": {
      "text/plain": [
       "calcIndKinship_from_StrainKinship (generic function with 1 method)"
      ]
     },
     "execution_count": 28,
     "metadata": {},
     "output_type": "execute_result"
    }
   ],
   "source": [
    "function calcIndKinship_from_StrainKinship(kinship_strains::Array{Float64, 2}, \n",
    "                                           strain_info_about_samples::Array{Int64, 1})\n",
    "    \n",
    "    counting_dict = calcRepeats(strain_info_about_samples);\n",
    "    reps_each_strain = map(x -> counting_dict[x], unique(strain_info_about_samples));\n",
    "    \n",
    "    # Initialize the placeholder:\n",
    "    kinship_ind_from_strains = ones(sum(reps_each_strain), sum(reps_each_strain));\n",
    "\n",
    "    # process the first BXD strain...\n",
    "    reps_strain_1 = reps_each_strain[1];\n",
    "    k_11 = kinship_strains[1, 1];\n",
    "    # block_11 = ones(reps_strain_1, reps_strain_1);\n",
    "\n",
    "    row_id = 0;\n",
    "    col_id = 0;\n",
    "\n",
    "    @views kinship_ind_from_strains[(row_id+1):(row_id+reps_strain_1), \n",
    "                             (row_id+1):(row_id+reps_strain_1)] .*= k_11;\n",
    "\n",
    "    for j in 2:length(reps_each_strain)\n",
    "        reps_strain_j = reps_each_strain[j];\n",
    "        k_1j = kinship_strains[1, j];\n",
    "        # block_1j = ones(reps_strain_1, reps_strain_j);\n",
    "\n",
    "        col_id += reps_each_strain[j-1];\n",
    "        @views kinship_ind_from_strains[(row_id+1):(row_id+reps_strain_1), \n",
    "                                 (col_id+1):(col_id+reps_strain_j)] .*= k_1j;\n",
    "\n",
    "        # process the off-diagonal block conveniently...\n",
    "        # block_j1 = ones(reps_strain_j, reps_strain_1);\n",
    "        kinship_ind_from_strains[(col_id+1):(col_id+reps_strain_j),\n",
    "                                 (row_id+1):(row_id+reps_strain_1)] .*= k_1j;\n",
    "\n",
    "    end\n",
    "\n",
    "    # process for the second BXD strain and all after...\n",
    "    # for i in 2:length(reps_each_strain)\n",
    "    for i in 2:length(reps_each_strain)\n",
    "\n",
    "        reps_strain_i = reps_each_strain[i];\n",
    "        k_ii = kinship_strains[i, i];\n",
    "        # block_ii = ones(reps_strain_i, reps_strain_i);\n",
    "\n",
    "        row_id += reps_each_strain[i-1];\n",
    "        @views kinship_ind_from_strains[(row_id+1):(row_id+reps_strain_i), \n",
    "                                 (row_id+1):(row_id+reps_strain_i)] .*= k_ii;\n",
    "\n",
    "        col_id = row_id+reps_strain_i;\n",
    "\n",
    "        for j in (i+1):length(reps_each_strain)\n",
    "\n",
    "            reps_strain_j = reps_each_strain[j];\n",
    "            k_ij = kinship_strains[i, j];\n",
    "            # block_ij = ones(reps_strain_i, reps_strain_j);\n",
    "\n",
    "            @views kinship_ind_from_strains[(row_id+1):(row_id+reps_strain_i), \n",
    "                                     (col_id+1):(col_id+reps_strain_j)] .*= k_ij;\n",
    "\n",
    "            # process the off-diagonal block conveniently...\n",
    "            # block_ji = ones(reps_strain_j, reps_strain_i);\n",
    "            @views kinship_ind_from_strains[(col_id+1):(col_id+reps_strain_j),\n",
    "                                     (row_id+1):(row_id+reps_strain_i)] .*= k_ij;\n",
    "\n",
    "            col_id += reps_each_strain[j];\n",
    "        end\n",
    "    \n",
    "    end\n",
    "    \n",
    "    return kinship_ind_from_strains\n",
    "end"
   ]
  },
  {
   "cell_type": "code",
   "execution_count": 29,
   "id": "1627ff49-f03c-4f7c-95bb-647d9bec26dc",
   "metadata": {},
   "outputs": [],
   "source": [
    "BXD_geno_ind_summary_df.Strain_num = Vector{Int64}(BXD_geno_ind_summary_df.Strain_num);"
   ]
  },
  {
   "cell_type": "code",
   "execution_count": 30,
   "id": "ed61c75f-c283-49fd-acde-30b083d1743b",
   "metadata": {},
   "outputs": [
    {
     "name": "stdout",
     "output_type": "stream",
     "text": [
      "  0.000228 seconds (76 allocations: 503.766 KiB)\n"
     ]
    }
   ],
   "source": [
    "@time kinship_ind_from_strains = calcIndKinship_from_StrainKinship(kinship_strains, BXD_geno_ind_summary_df.Strain_num);"
   ]
  },
  {
   "cell_type": "markdown",
   "id": "c5e77a37-855e-4143-941c-1bd5164b84a7",
   "metadata": {},
   "source": [
    "Compare the runtime with directly calculating the kinship matrix from individual genotype data:"
   ]
  },
  {
   "cell_type": "code",
   "execution_count": 31,
   "id": "d5f97779-e35c-4373-91ae-b9f003c5c280",
   "metadata": {},
   "outputs": [],
   "source": [
    "geno_ind = Matrix{Float64}(BXD_geno_ind_summary_df[:, 4:end]);"
   ]
  },
  {
   "cell_type": "code",
   "execution_count": 32,
   "id": "0306cc96-a8d2-4cbd-a7af-539ee488c70f",
   "metadata": {},
   "outputs": [
    {
     "name": "stdout",
     "output_type": "stream",
     "text": [
      "  3.408009 seconds (306.28 k allocations: 8.368 GiB, 6.11% gc time)\n"
     ]
    }
   ],
   "source": [
    "@time kinship_ind_from_ind = calcKinship(geno_ind);"
   ]
  },
  {
   "cell_type": "code",
   "execution_count": 33,
   "id": "cfe9f696-f089-4865-a081-a5dd95d5c87e",
   "metadata": {},
   "outputs": [
    {
     "data": {
      "text/plain": [
       "0.04186586531894554"
      ]
     },
     "execution_count": 33,
     "metadata": {},
     "output_type": "execute_result"
    }
   ],
   "source": [
    "maximum(abs.(kinship_ind_from_ind .- kinship_ind_from_strains))"
   ]
  },
  {
   "cell_type": "markdown",
   "id": "19b9c567-b404-429c-a3a6-6053ffec44d4",
   "metadata": {},
   "source": [
    "### Single-trait genome scans:"
   ]
  },
  {
   "cell_type": "markdown",
   "id": "bcbd89b9-2ad3-40a8-8e8d-81512875debb",
   "metadata": {},
   "source": [
    "To see single trait genome scan results, we take the 7512-th livear proteomic as the single trait to run analysis:  "
   ]
  },
  {
   "cell_type": "code",
   "execution_count": 34,
   "id": "547fc3eb-99e8-43b7-a7dd-bb0d3073b3b5",
   "metadata": {},
   "outputs": [],
   "source": [
    "lp_names = names(BXD_pheno_ind_summary_df)[4:end];"
   ]
  },
  {
   "cell_type": "code",
   "execution_count": 35,
   "id": "07a1bf7c-d333-4826-ab63-513f87006589",
   "metadata": {},
   "outputs": [
    {
     "data": {
      "text/plain": [
       "\"P61924_VALRGEDVPLTEQTVSQVLQSAK_3\""
      ]
     },
     "execution_count": 35,
     "metadata": {},
     "output_type": "execute_result"
    }
   ],
   "source": [
    "lp_id = 7512;\n",
    "lp_names[lp_id]"
   ]
  },
  {
   "cell_type": "markdown",
   "id": "fb6aa497-38b0-4c8e-9582-c675019bfcfc",
   "metadata": {},
   "source": [
    "#### For individual liver proteome"
   ]
  },
  {
   "cell_type": "code",
   "execution_count": 36,
   "id": "f9e6bc67-fc56-47ae-aa0c-df73658709b0",
   "metadata": {},
   "outputs": [],
   "source": [
    "lp_ind_Y = Matrix{Float64}(BXD_pheno_ind_summary_df[:, 4:end]);\n",
    "lp_ind_y = reshape(lp_ind_Y[:, lp_id], :, 1);"
   ]
  },
  {
   "cell_type": "code",
   "execution_count": 37,
   "id": "46e776f3-20ed-4c79-b942-02f00cb0914f",
   "metadata": {},
   "outputs": [],
   "source": [
    "## Huberized individuals data:\n",
    "lp_ind_Y_hub = Matrix{Float64}(BXD_pheno_huber_ind_summary_df[:, 4:end]);\n",
    "lp_ind_y_hub = reshape(lp_ind_Y_hub[:, lp_id], :, 1);"
   ]
  },
  {
   "cell_type": "code",
   "execution_count": 38,
   "id": "f2da6aaf-aedd-4183-9160-777a5f0ffd9a",
   "metadata": {},
   "outputs": [],
   "source": [
    "lpst_ind_Y = colStandardize(lp_ind_Y);\n",
    "lpst_ind_y = reshape(lpst_ind_Y[:, lp_id], :, 1);\n",
    "lpst_ind_Y_hub = colStandardize(lp_ind_Y_hub);\n",
    "lpst_ind_y_hub = reshape(lpst_ind_Y_hub[:, lp_id], :, 1);"
   ]
  },
  {
   "cell_type": "code",
   "execution_count": 39,
   "id": "fb383cb0-71d2-45ea-97ba-b5d685e69607",
   "metadata": {},
   "outputs": [
    {
     "name": "stdout",
     "output_type": "stream",
     "text": [
      "  0.213539 seconds (80.92 k allocations: 134.882 MiB, 25.49% gc time)\n"
     ]
    }
   ],
   "source": [
    "@time scan_results_ind = scan(lp_ind_y, geno_ind, kinship_ind_from_strains);"
   ]
  },
  {
   "cell_type": "code",
   "execution_count": 40,
   "id": "b44968a6-e24e-46bc-99c1-c5f5a8599e96",
   "metadata": {},
   "outputs": [
    {
     "name": "stdout",
     "output_type": "stream",
     "text": [
      "  4.348013 seconds (3.85 M allocations: 4.786 GiB, 7.07% gc time)\n"
     ]
    }
   ],
   "source": [
    "@time scan_results_ind_alt = scan(lp_ind_y, geno_ind, kinship_ind_from_strains;\n",
    "                                  assumption = \"alt\");"
   ]
  },
  {
   "cell_type": "code",
   "execution_count": 41,
   "id": "9c03e809-2462-4340-8493-ca18c3343d2d",
   "metadata": {},
   "outputs": [
    {
     "name": "stdout",
     "output_type": "stream",
     "text": [
      "  4.197292 seconds (3.73 M allocations: 4.639 GiB, 7.28% gc time)\n"
     ]
    }
   ],
   "source": [
    "@time scan_st_results_ind_alt = scan(lpst_ind_y, geno_ind, kinship_ind_from_strains;\n",
    "                                  assumption = \"alt\", \n",
    "                                  prior_variance = 1.0, prior_sample_size = 0.1);"
   ]
  },
  {
   "cell_type": "markdown",
   "id": "c5dee00f-8806-4196-833e-85138b7c76a5",
   "metadata": {},
   "source": [
    "##### Huberized..."
   ]
  },
  {
   "cell_type": "code",
   "execution_count": 42,
   "id": "b6a14dd3-3acb-458d-b7b9-6739fe2d50d3",
   "metadata": {},
   "outputs": [
    {
     "name": "stdout",
     "output_type": "stream",
     "text": [
      "  0.134654 seconds (81.08 k allocations: 135.064 MiB)\n"
     ]
    }
   ],
   "source": [
    "@time scan_results_ind_hub = scan(lp_ind_y_hub, geno_ind, kinship_ind_from_strains);"
   ]
  },
  {
   "cell_type": "code",
   "execution_count": 43,
   "id": "5c78c03a-5852-4063-9216-acf8338be573",
   "metadata": {},
   "outputs": [
    {
     "name": "stdout",
     "output_type": "stream",
     "text": [
      "  7.524852 seconds (6.83 M allocations: 8.480 GiB, 7.10% gc time)\n"
     ]
    }
   ],
   "source": [
    "@time scan_results_ind_alt_hub = scan(lp_ind_y_hub, geno_ind, kinship_ind_from_strains;\n",
    "                                      assumption = \"alt\");"
   ]
  },
  {
   "cell_type": "code",
   "execution_count": 44,
   "id": "7c41a206-47cf-4274-9961-969760ab167f",
   "metadata": {},
   "outputs": [
    {
     "name": "stdout",
     "output_type": "stream",
     "text": [
      "  7.634985 seconds (6.83 M allocations: 8.480 GiB, 7.08% gc time)\n"
     ]
    }
   ],
   "source": [
    "@time scan_st_results_ind_alt_hub = scan(lpst_ind_y_hub, geno_ind, kinship_ind_from_strains;\n",
    "                                         assumption = \"alt\",\n",
    "                                         prior_variance = 1.0, prior_sample_size = 0.1);"
   ]
  },
  {
   "cell_type": "code",
   "execution_count": 45,
   "id": "1862e7c0-014a-444a-88e0-0783ee5fb2cc",
   "metadata": {},
   "outputs": [
    {
     "data": {
      "text/plain": [
       "0.06452496649941293"
      ]
     },
     "execution_count": 45,
     "metadata": {},
     "output_type": "execute_result"
    }
   ],
   "source": [
    "scan_results_ind_hub.h2_null"
   ]
  },
  {
   "cell_type": "code",
   "execution_count": 46,
   "id": "4cb56fea-b26f-404b-a4e3-f348f3a0dd0b",
   "metadata": {},
   "outputs": [
    {
     "data": {
      "text/plain": [
       "0.06452496649941293"
      ]
     },
     "execution_count": 46,
     "metadata": {},
     "output_type": "execute_result"
    }
   ],
   "source": [
    "scan_results_ind_alt_hub.h2_null"
   ]
  },
  {
   "cell_type": "code",
   "execution_count": 47,
   "id": "9776d671-d9ae-4557-9372-38d204a8fe9b",
   "metadata": {},
   "outputs": [
    {
     "data": {
      "text/plain": [
       "0.06451099855679913"
      ]
     },
     "execution_count": 47,
     "metadata": {},
     "output_type": "execute_result"
    }
   ],
   "source": [
    "scan_st_results_ind_alt_hub.h2_null"
   ]
  },
  {
   "cell_type": "code",
   "execution_count": 48,
   "id": "33b9a119-0f74-4db2-aa40-5ef34bc8f1d6",
   "metadata": {},
   "outputs": [
    {
     "data": {
      "text/plain": [
       "7321×2 Matrix{Float64}:\n",
       " 0.232151  0.119197\n",
       " 0.232151  0.119197\n",
       " 0.232151  0.119197\n",
       " 0.232151  0.119197\n",
       " 0.232151  0.119197\n",
       " 0.232151  0.119197\n",
       " 0.232151  0.119197\n",
       " 0.232151  0.119197\n",
       " 0.232151  0.119197\n",
       " 0.232151  0.119197\n",
       " 0.232151  0.119197\n",
       " 0.232151  0.119197\n",
       " 0.224441  0.134353\n",
       " ⋮         \n",
       " 0.700907  0.947232\n",
       " 0.700907  0.947232\n",
       " 0.700907  0.947232\n",
       " 0.636675  0.845281\n",
       " 0.523869  0.69563\n",
       " 0.523869  0.69563\n",
       " 0.562377  0.767873\n",
       " 0.598874  0.816178\n",
       " 0.562377  0.767873\n",
       " 0.598874  0.816178\n",
       " 0.467374  0.637581\n",
       " 0.467374  0.637581"
      ]
     },
     "execution_count": 48,
     "metadata": {},
     "output_type": "execute_result"
    }
   ],
   "source": [
    "hcat(scan_results_ind_alt.lod, scan_results_ind_alt_hub.lod)"
   ]
  },
  {
   "cell_type": "code",
   "execution_count": 49,
   "id": "4eb97040-9b9d-4b6a-b8c1-b497f16cd24b",
   "metadata": {},
   "outputs": [
    {
     "name": "stdout",
     "output_type": "stream",
     "text": [
      "  0.932690 seconds (1.91 M allocations: 259.265 MiB, 3.79% gc time, 86.69% compilation time)\n"
     ]
    }
   ],
   "source": [
    "@time scan_perms_results_ind = scan(lp_ind_y, geno_ind, kinship_ind_from_strains;\n",
    "                                    permutation_test = true, nperms = 1000, original = true);"
   ]
  },
  {
   "cell_type": "markdown",
   "id": "02074d3d-dfce-4b1d-a559-e03508615ca3",
   "metadata": {},
   "source": [
    "#### For liver proteome means by strains"
   ]
  },
  {
   "cell_type": "code",
   "execution_count": 50,
   "id": "4b51bafb-a1de-41c5-9f0d-b708b4972cdb",
   "metadata": {},
   "outputs": [],
   "source": [
    "lp_strains_Y = Matrix{Float64}(BXD_pheno_strains_summary_df[:, 3:end]);\n",
    "lp_strains_y = reshape(lp_strains_Y[:, lp_id], :, 1);"
   ]
  },
  {
   "cell_type": "code",
   "execution_count": 51,
   "id": "b8b9d35b-3061-4d3f-9f57-be13fa1d39bd",
   "metadata": {},
   "outputs": [],
   "source": [
    "lpst_strains_Y = colStandardize(lp_strains_Y);\n",
    "lpst_strains_y = reshape(lpst_strains_Y[:, lp_id], :, 1);"
   ]
  },
  {
   "cell_type": "markdown",
   "id": "e74f136e-1af7-40fd-b5bf-7efe42ab9757",
   "metadata": {},
   "source": [
    "(strain means of the huberized individual liver proteome...)"
   ]
  },
  {
   "cell_type": "code",
   "execution_count": 52,
   "id": "4c4fa4f6-1822-47e1-b623-77534cab5a25",
   "metadata": {},
   "outputs": [],
   "source": [
    "# lp_strains_Y_hub = Matrix{Float64}(BXD_pheno_huber_strains_summary_df[:, 3:end]);\n",
    "# lp_strains_y_hub = reshape(lp_strains_Y_hub[:, lp_id], :, 1);"
   ]
  },
  {
   "cell_type": "markdown",
   "id": "782264ea-3983-4d42-9580-9d05243969b0",
   "metadata": {},
   "source": [
    "Instead, take the strain means from the original individual data, and then apply huberization:"
   ]
  },
  {
   "cell_type": "code",
   "execution_count": 53,
   "id": "78b8669f-fe96-4a74-8382-206f4f9c780f",
   "metadata": {},
   "outputs": [
    {
     "name": "stdout",
     "output_type": "stream",
     "text": [
      "  0.517380 seconds (1.46 M allocations: 182.745 MiB, 12.27% gc time, 62.32% compilation time)\n",
      "  0.049727 seconds (87.29 k allocations: 17.325 MiB, 86.69% compilation time)\n"
     ]
    }
   ],
   "source": [
    "@time lp_strains_Y_hub = map(x -> huberize(lp_strains_Y[:, x]), 1:size(lp_strains_Y, 2));\n",
    "@time lp_strains_Y_hub = reduce(hcat, lp_strains_Y_hub);\n",
    "lp_strains_y_hub = reshape(lp_strains_Y_hub[:, lp_id], :, 1);"
   ]
  },
  {
   "cell_type": "code",
   "execution_count": 55,
   "id": "2a9f7f07-01ab-4b35-99f5-e24e8ed2b178",
   "metadata": {},
   "outputs": [],
   "source": [
    "BXD_strain_means_huberized_summary_df = DataFrame(\n",
    "    hcat(Matrix{Any}(BXD_pheno_strains_summary_df[:, 1:2]), lp_strains_Y_hub),\n",
    "    names(BXD_pheno_strains_summary_df));\n",
    "\n",
    "CSV.write(\"data/GN886_pheno_huber_strain_means_summary.csv\", BXD_strain_means_huberized_summary_df);"
   ]
  },
  {
   "cell_type": "code",
   "execution_count": 56,
   "id": "7156eec1-85dd-406e-95c3-8b675b9bc568",
   "metadata": {},
   "outputs": [],
   "source": [
    "lpst_strains_Y_hub = colStandardize(lp_strains_Y_hub);\n",
    "lpst_strains_y_hub = reshape(lpst_strains_Y_hub[:, lp_id], :, 1);"
   ]
  },
  {
   "cell_type": "code",
   "execution_count": 57,
   "id": "8d181cef-df57-4e17-b4bc-f7c6a8a41d2f",
   "metadata": {},
   "outputs": [
    {
     "name": "stdout",
     "output_type": "stream",
     "text": [
      "  0.039662 seconds (82.15 k allocations: 32.632 MiB)\n"
     ]
    }
   ],
   "source": [
    "@time scan_results_strains = scan(lp_strains_y, geno_strains, kinship_strains);"
   ]
  },
  {
   "cell_type": "code",
   "execution_count": 58,
   "id": "558a9947-1e61-402e-90da-5a8c1cae15c7",
   "metadata": {},
   "outputs": [
    {
     "name": "stdout",
     "output_type": "stream",
     "text": [
      "  4.344922 seconds (10.18 M allocations: 3.166 GiB, 17.64% gc time)\n"
     ]
    }
   ],
   "source": [
    "@time scan_results_strains_alt = scan(lp_strains_y, geno_strains, kinship_strains;\n",
    "                                      assumption = \"alt\");"
   ]
  },
  {
   "cell_type": "markdown",
   "id": "faf83850-37e3-458f-ace0-45c28d34968b",
   "metadata": {},
   "source": [
    "##### Huberized... "
   ]
  },
  {
   "cell_type": "code",
   "execution_count": 59,
   "id": "6cb21105-cdbc-4a1f-ae30-3e3952e701c0",
   "metadata": {},
   "outputs": [
    {
     "name": "stdout",
     "output_type": "stream",
     "text": [
      "  0.049946 seconds (80.89 k allocations: 32.287 MiB)\n"
     ]
    }
   ],
   "source": [
    "@time scan_results_strains_hub = scan(lp_strains_y_hub, geno_strains, kinship_strains);"
   ]
  },
  {
   "cell_type": "code",
   "execution_count": 60,
   "id": "4546600f-0b64-471b-a8fc-15b0b0a28e63",
   "metadata": {},
   "outputs": [
    {
     "name": "stdout",
     "output_type": "stream",
     "text": [
      "  2.209976 seconds (5.64 M allocations: 1.753 GiB, 8.33% gc time)\n"
     ]
    }
   ],
   "source": [
    "@time scan_results_strains_alt_hub = scan(lp_strains_y_hub, geno_strains, kinship_strains;\n",
    "                                          assumption = \"alt\");"
   ]
  },
  {
   "cell_type": "code",
   "execution_count": 61,
   "id": "b02933f0-cdab-48ae-af03-99d7f2b07152",
   "metadata": {},
   "outputs": [
    {
     "name": "stdout",
     "output_type": "stream",
     "text": [
      "  2.413712 seconds (5.96 M allocations: 1.827 GiB, 11.92% gc time, 2.07% compilation time)\n"
     ]
    }
   ],
   "source": [
    "@time scan_results_strains_alt_hub_c = scan(lp_strains_y_hub, geno_strains, kinship_strains;\n",
    "                                          assumption = \"alt\",  \n",
    "                                          prior_variance = var(lp_strains_y_hub), \n",
    "                                          prior_sample_size = 0.1);"
   ]
  },
  {
   "cell_type": "code",
   "execution_count": 62,
   "id": "4ec0ca11-d9d4-46c1-919e-96c2ddf00e74",
   "metadata": {},
   "outputs": [
    {
     "data": {
      "text/plain": [
       "0.6011922559652536"
      ]
     },
     "execution_count": 62,
     "metadata": {},
     "output_type": "execute_result"
    }
   ],
   "source": [
    "scan_results_strains_alt_hub.h2_null"
   ]
  },
  {
   "cell_type": "code",
   "execution_count": 63,
   "id": "590aa0a3-a01c-4c16-bb12-58a18a4ca807",
   "metadata": {},
   "outputs": [
    {
     "data": {
      "text/plain": [
       "0.5794317678991349"
      ]
     },
     "execution_count": 63,
     "metadata": {},
     "output_type": "execute_result"
    }
   ],
   "source": [
    "scan_results_strains_alt_hub_c.h2_null # Bayes Corrected"
   ]
  },
  {
   "cell_type": "code",
   "execution_count": 64,
   "id": "05d62757-98a5-4f63-9643-b7885fef4357",
   "metadata": {},
   "outputs": [
    {
     "data": {
      "text/plain": [
       "7321×2 Matrix{Float64}:\n",
       " -0.232254  0.141084\n",
       " -0.232254  0.141084\n",
       " -0.232254  0.141084\n",
       " -0.232254  0.141084\n",
       " -0.232254  0.141084\n",
       " -0.232254  0.141084\n",
       " -0.232254  0.141084\n",
       " -0.232254  0.141084\n",
       " -0.232254  0.141084\n",
       " -0.232254  0.141084\n",
       " -0.232254  0.141084\n",
       " -0.232254  0.141084\n",
       " -0.203384  0.155486\n",
       "  ⋮         \n",
       "  1.12186   1.50983\n",
       "  1.12186   1.50983\n",
       "  1.12186   1.50983\n",
       "  1.074     1.43546\n",
       "  0.988229  1.31049\n",
       "  0.988229  1.31049\n",
       "  1.03307   1.38463\n",
       "  1.12923   1.52862\n",
       "  1.03307   1.38463\n",
       "  1.12923   1.52862\n",
       "  0.853909  1.12059\n",
       "  0.853909  1.12059"
      ]
     },
     "execution_count": 64,
     "metadata": {},
     "output_type": "execute_result"
    }
   ],
   "source": [
    "hcat(scan_results_strains_alt.lod, scan_results_strains_alt_hub.lod)"
   ]
  },
  {
   "cell_type": "code",
   "execution_count": 65,
   "id": "3b0415be-0af9-4dc7-ac8a-c34baa141512",
   "metadata": {},
   "outputs": [
    {
     "data": {
      "text/plain": [
       "false"
      ]
     },
     "execution_count": 65,
     "metadata": {},
     "output_type": "execute_result"
    }
   ],
   "source": [
    "any(scan_results_strains_alt_hub.lod .< 0.0)"
   ]
  },
  {
   "cell_type": "code",
   "execution_count": 66,
   "id": "f7e7ec8e-7352-4fef-a22c-d61e90fbae53",
   "metadata": {},
   "outputs": [
    {
     "name": "stdout",
     "output_type": "stream",
     "text": [
      "  0.130835 seconds (91.29 k allocations: 79.023 MiB, 71.94% gc time)\n"
     ]
    }
   ],
   "source": [
    "@time scan_perms_results_strains = scan(lp_strains_y, geno_strains, kinship_strains;\n",
    "                                        permutation_test = true, nperms = 1000, original = true);"
   ]
  },
  {
   "cell_type": "markdown",
   "id": "e581b199-d92b-4b4a-950f-888df22eb3f2",
   "metadata": {},
   "source": [
    "### Multiple-trait genome scans:"
   ]
  },
  {
   "cell_type": "code",
   "execution_count": 67,
   "id": "cd08a07d-6a5c-45e0-a9a3-2aa199495c2a",
   "metadata": {},
   "outputs": [],
   "source": [
    "BLAS.set_num_threads(16)"
   ]
  },
  {
   "cell_type": "code",
   "execution_count": 68,
   "id": "e02cca07-1c96-4fa6-89a5-4582abc864f1",
   "metadata": {},
   "outputs": [
    {
     "data": {
      "text/plain": [
       "16"
      ]
     },
     "execution_count": 68,
     "metadata": {},
     "output_type": "execute_result"
    }
   ],
   "source": [
    "BLAS.get_num_threads()"
   ]
  },
  {
   "cell_type": "code",
   "execution_count": 69,
   "id": "bea4f61b-409c-47a7-a2ff-00c7acebe2f0",
   "metadata": {},
   "outputs": [],
   "source": [
    "grid_list = collect(0.0:0.05:0.95);"
   ]
  },
  {
   "cell_type": "markdown",
   "id": "15398327-2dcb-4168-8f30-a8bc4c3957ae",
   "metadata": {},
   "source": [
    "#### For individual liver proteome"
   ]
  },
  {
   "cell_type": "code",
   "execution_count": 70,
   "id": "3885674f-e06e-47fb-b0d7-5ca1e5cf027d",
   "metadata": {},
   "outputs": [
    {
     "data": {
      "text/plain": [
       "BenchmarkTools.Trial: 1 sample with 1 evaluation.\n",
       " Single result which took \u001b[34m6.118 s\u001b[39m (10.77% GC) to evaluate,\n",
       " with a memory estimate of \u001b[33m11.67 GiB\u001b[39m, over \u001b[33m10097672\u001b[39m allocations."
      ]
     },
     "execution_count": 70,
     "metadata": {},
     "output_type": "execute_result"
    }
   ],
   "source": [
    "@benchmark bulkscan_null_grid(lp_ind_Y_hub, geno_ind, kinship_ind_from_strains, grid_list)"
   ]
  },
  {
   "cell_type": "code",
   "execution_count": 71,
   "id": "2a304cb3-24ef-483e-a3ee-9ac484b2c3fb",
   "metadata": {},
   "outputs": [
    {
     "name": "stdout",
     "output_type": "stream",
     "text": [
      "148.710614 seconds (2.60 G allocations: 1.813 TiB, 17.29% gc time, 0.04% compilation time)\n"
     ]
    }
   ],
   "source": [
    "@time bulkscan_results_null_ind = bulkscan_null(lp_ind_Y_hub, geno_ind, kinship_ind_from_strains; nb = 16);"
   ]
  },
  {
   "cell_type": "code",
   "execution_count": 72,
   "id": "0a73fb1d-8e91-4cc8-a227-236ceda8f66b",
   "metadata": {},
   "outputs": [],
   "source": [
    "BLAS.set_num_threads(16)"
   ]
  },
  {
   "cell_type": "code",
   "execution_count": 73,
   "id": "44d2515c-83a5-419a-a1d1-5e9151ceacc2",
   "metadata": {},
   "outputs": [
    {
     "data": {
      "text/plain": [
       "BenchmarkTools.Trial: 1 sample with 1 evaluation.\n",
       " Single result which took \u001b[34m22.616 s\u001b[39m (3.37% GC) to evaluate,\n",
       " with a memory estimate of \u001b[33m41.84 GiB\u001b[39m, over \u001b[33m8691530\u001b[39m allocations."
      ]
     },
     "execution_count": 73,
     "metadata": {},
     "output_type": "execute_result"
    }
   ],
   "source": [
    "@benchmark bulkscan_alt_grid(lp_ind_Y_hub, geno_ind, kinship_ind_from_strains, grid_list)"
   ]
  },
  {
   "cell_type": "code",
   "execution_count": 74,
   "id": "c8b20542-0959-472e-9ae8-df190723e01e",
   "metadata": {},
   "outputs": [
    {
     "name": "stdout",
     "output_type": "stream",
     "text": [
      "  5.639697 seconds (10.10 M allocations: 11.669 GiB, 3.99% gc time)\n"
     ]
    }
   ],
   "source": [
    "@time bulkscan_results_ind = bulkscan_null_grid(lp_ind_Y_hub, geno_ind, kinship_ind_from_strains, grid_list);"
   ]
  },
  {
   "cell_type": "markdown",
   "id": "f69ba271-fe23-4764-9186-4167a256a964",
   "metadata": {},
   "source": [
    "#### For liver proteome means by strains"
   ]
  },
  {
   "cell_type": "code",
   "execution_count": 75,
   "id": "f9d834cd-44e1-4295-bfe8-f53f4d23e77e",
   "metadata": {},
   "outputs": [
    {
     "data": {
      "text/plain": [
       "BenchmarkTools.Trial: 2 samples with 1 evaluation.\n",
       " Range \u001b[90m(\u001b[39m\u001b[36m\u001b[1mmin\u001b[22m\u001b[39m … \u001b[35mmax\u001b[39m\u001b[90m):  \u001b[39m\u001b[36m\u001b[1m2.712 s\u001b[22m\u001b[39m … \u001b[35m  2.736 s\u001b[39m  \u001b[90m┊\u001b[39m GC \u001b[90m(\u001b[39mmin … max\u001b[90m): \u001b[39m4.41% … 5.10%\n",
       " Time  \u001b[90m(\u001b[39m\u001b[34m\u001b[1mmedian\u001b[22m\u001b[39m\u001b[90m):     \u001b[39m\u001b[34m\u001b[1m2.724 s              \u001b[22m\u001b[39m\u001b[90m┊\u001b[39m GC \u001b[90m(\u001b[39mmedian\u001b[90m):    \u001b[39m4.75%\n",
       " Time  \u001b[90m(\u001b[39m\u001b[32m\u001b[1mmean\u001b[22m\u001b[39m ± \u001b[32mσ\u001b[39m\u001b[90m):   \u001b[39m\u001b[32m\u001b[1m2.724 s\u001b[22m\u001b[39m ± \u001b[32m17.293 ms\u001b[39m  \u001b[90m┊\u001b[39m GC \u001b[90m(\u001b[39mmean ± σ\u001b[90m):  \u001b[39m4.75% ± 0.49%\n",
       "\n",
       "  \u001b[34m█\u001b[39m\u001b[39m \u001b[39m \u001b[39m \u001b[39m \u001b[39m \u001b[39m \u001b[39m \u001b[39m \u001b[39m \u001b[39m \u001b[39m \u001b[39m \u001b[39m \u001b[39m \u001b[39m \u001b[39m \u001b[39m \u001b[39m \u001b[39m \u001b[39m \u001b[39m \u001b[39m \u001b[39m \u001b[39m \u001b[39m \u001b[39m \u001b[39m \u001b[32m \u001b[39m\u001b[39m \u001b[39m \u001b[39m \u001b[39m \u001b[39m \u001b[39m \u001b[39m \u001b[39m \u001b[39m \u001b[39m \u001b[39m \u001b[39m \u001b[39m \u001b[39m \u001b[39m \u001b[39m \u001b[39m \u001b[39m \u001b[39m \u001b[39m \u001b[39m \u001b[39m \u001b[39m \u001b[39m \u001b[39m \u001b[39m \u001b[39m \u001b[39m█\u001b[39m \u001b[39m \n",
       "  \u001b[34m█\u001b[39m\u001b[39m▁\u001b[39m▁\u001b[39m▁\u001b[39m▁\u001b[39m▁\u001b[39m▁\u001b[39m▁\u001b[39m▁\u001b[39m▁\u001b[39m▁\u001b[39m▁\u001b[39m▁\u001b[39m▁\u001b[39m▁\u001b[39m▁\u001b[39m▁\u001b[39m▁\u001b[39m▁\u001b[39m▁\u001b[39m▁\u001b[39m▁\u001b[39m▁\u001b[39m▁\u001b[39m▁\u001b[39m▁\u001b[39m▁\u001b[39m▁\u001b[32m▁\u001b[39m\u001b[39m▁\u001b[39m▁\u001b[39m▁\u001b[39m▁\u001b[39m▁\u001b[39m▁\u001b[39m▁\u001b[39m▁\u001b[39m▁\u001b[39m▁\u001b[39m▁\u001b[39m▁\u001b[39m▁\u001b[39m▁\u001b[39m▁\u001b[39m▁\u001b[39m▁\u001b[39m▁\u001b[39m▁\u001b[39m▁\u001b[39m▁\u001b[39m▁\u001b[39m▁\u001b[39m▁\u001b[39m▁\u001b[39m▁\u001b[39m▁\u001b[39m█\u001b[39m \u001b[39m▁\n",
       "  2.71 s\u001b[90m         Histogram: frequency by time\u001b[39m        2.74 s \u001b[0m\u001b[1m<\u001b[22m\n",
       "\n",
       " Memory estimate\u001b[90m: \u001b[39m\u001b[33m5.33 GiB\u001b[39m, allocs estimate\u001b[90m: \u001b[39m\u001b[33m9632333\u001b[39m."
      ]
     },
     "execution_count": 75,
     "metadata": {},
     "output_type": "execute_result"
    }
   ],
   "source": [
    "@benchmark bulkscan_null_grid(lp_strains_Y_hub, geno_strains, kinship_strains, grid_list)"
   ]
  },
  {
   "cell_type": "code",
   "execution_count": 76,
   "id": "f1d7f72c-5fd7-4135-94d0-7afaf3c8e396",
   "metadata": {},
   "outputs": [
    {
     "name": "stdout",
     "output_type": "stream",
     "text": [
      " 56.029306 seconds (2.61 G allocations: 434.355 GiB, 42.58% gc time)\n"
     ]
    }
   ],
   "source": [
    "@time bulkscan_results_null_strains = bulkscan_null(lp_strains_Y_hub, geno_strains, kinship_strains);"
   ]
  },
  {
   "cell_type": "code",
   "execution_count": 77,
   "id": "a1231e79-a93f-4fc7-8927-033d0dc5bf93",
   "metadata": {},
   "outputs": [],
   "source": [
    "BLAS.set_num_threads(16)"
   ]
  },
  {
   "cell_type": "code",
   "execution_count": 78,
   "id": "72a4ee75-e32b-4f97-b062-55afb687f85c",
   "metadata": {},
   "outputs": [
    {
     "data": {
      "text/plain": [
       "BenchmarkTools.Trial: 1 sample with 1 evaluation.\n",
       " Single result which took \u001b[34m15.772 s\u001b[39m (3.13% GC) to evaluate,\n",
       " with a memory estimate of \u001b[33m36.86 GiB\u001b[39m, over \u001b[33m8691545\u001b[39m allocations."
      ]
     },
     "execution_count": 78,
     "metadata": {},
     "output_type": "execute_result"
    }
   ],
   "source": [
    "@benchmark bulkscan_alt_grid(lp_strains_Y_hub, geno_strains, kinship_strains, grid_list)"
   ]
  },
  {
   "cell_type": "code",
   "execution_count": 79,
   "id": "55def9df-1227-478f-9b39-d9f11c4bc3f8",
   "metadata": {},
   "outputs": [],
   "source": [
    "grid_list = collect(0.0:0.05:0.95);"
   ]
  },
  {
   "cell_type": "code",
   "execution_count": 80,
   "id": "bd1ea493-2cc3-4e3c-9f4c-8faaf7cc10d2",
   "metadata": {},
   "outputs": [
    {
     "name": "stdout",
     "output_type": "stream",
     "text": [
      "  3.158366 seconds (9.63 M allocations: 5.332 GiB, 4.68% gc time)\n"
     ]
    }
   ],
   "source": [
    "@time bulkscan_results_strains = bulkscan_null_grid(lp_strains_Y_hub, geno_strains, kinship_strains, grid_list);"
   ]
  },
  {
   "cell_type": "code",
   "execution_count": 81,
   "id": "2e78b39c-a53f-4930-8d2d-5ee55f47b346",
   "metadata": {},
   "outputs": [
    {
     "data": {
      "text/html": [
       "<div><div style = \"float: left;\"><span>10×4 DataFrame</span></div><div style = \"clear: both;\"></div></div><div class = \"data-frame\" style = \"overflow-x: scroll;\"><table class = \"data-frame\" style = \"margin-bottom: 6px;\"><thead><tr class = \"header\"><th class = \"rowNumber\" style = \"font-weight: bold; text-align: right;\">Row</th><th style = \"text-align: left;\">LOD_ind</th><th style = \"text-align: left;\">LOD_ind_grid</th><th style = \"text-align: left;\">LOD_strains</th><th style = \"text-align: left;\">LOD_strains_grid</th></tr><tr class = \"subheader headerLastRow\"><th class = \"rowNumber\" style = \"font-weight: bold; text-align: right;\"></th><th title = \"Float64\" style = \"text-align: left;\">Float64</th><th title = \"Float64\" style = \"text-align: left;\">Float64</th><th title = \"Float64\" style = \"text-align: left;\">Float64</th><th title = \"Float64\" style = \"text-align: left;\">Float64</th></tr></thead><tbody><tr><td class = \"rowNumber\" style = \"font-weight: bold; text-align: right;\">1</td><td style = \"text-align: right;\">0.116277</td><td style = \"text-align: right;\">0.0729695</td><td style = \"text-align: right;\">0.106625</td><td style = \"text-align: right;\">0.00255342</td></tr><tr><td class = \"rowNumber\" style = \"font-weight: bold; text-align: right;\">2</td><td style = \"text-align: right;\">0.116277</td><td style = \"text-align: right;\">0.0729695</td><td style = \"text-align: right;\">0.106625</td><td style = \"text-align: right;\">0.00255342</td></tr><tr><td class = \"rowNumber\" style = \"font-weight: bold; text-align: right;\">3</td><td style = \"text-align: right;\">0.116277</td><td style = \"text-align: right;\">0.0729695</td><td style = \"text-align: right;\">0.106625</td><td style = \"text-align: right;\">0.00255342</td></tr><tr><td class = \"rowNumber\" style = \"font-weight: bold; text-align: right;\">4</td><td style = \"text-align: right;\">0.116277</td><td style = \"text-align: right;\">0.0729695</td><td style = \"text-align: right;\">0.106625</td><td style = \"text-align: right;\">0.00255342</td></tr><tr><td class = \"rowNumber\" style = \"font-weight: bold; text-align: right;\">5</td><td style = \"text-align: right;\">0.116277</td><td style = \"text-align: right;\">0.0729695</td><td style = \"text-align: right;\">0.106625</td><td style = \"text-align: right;\">0.00255342</td></tr><tr><td class = \"rowNumber\" style = \"font-weight: bold; text-align: right;\">6</td><td style = \"text-align: right;\">0.116277</td><td style = \"text-align: right;\">0.0729695</td><td style = \"text-align: right;\">0.106625</td><td style = \"text-align: right;\">0.00255342</td></tr><tr><td class = \"rowNumber\" style = \"font-weight: bold; text-align: right;\">7</td><td style = \"text-align: right;\">0.116277</td><td style = \"text-align: right;\">0.0729695</td><td style = \"text-align: right;\">0.106625</td><td style = \"text-align: right;\">0.00255342</td></tr><tr><td class = \"rowNumber\" style = \"font-weight: bold; text-align: right;\">8</td><td style = \"text-align: right;\">0.116277</td><td style = \"text-align: right;\">0.0729695</td><td style = \"text-align: right;\">0.106625</td><td style = \"text-align: right;\">0.00255342</td></tr><tr><td class = \"rowNumber\" style = \"font-weight: bold; text-align: right;\">9</td><td style = \"text-align: right;\">0.116277</td><td style = \"text-align: right;\">0.0729695</td><td style = \"text-align: right;\">0.106625</td><td style = \"text-align: right;\">0.00255342</td></tr><tr><td class = \"rowNumber\" style = \"font-weight: bold; text-align: right;\">10</td><td style = \"text-align: right;\">0.116277</td><td style = \"text-align: right;\">0.0729695</td><td style = \"text-align: right;\">0.106625</td><td style = \"text-align: right;\">0.00255342</td></tr></tbody></table></div>"
      ],
      "text/latex": [
       "\\begin{tabular}{r|cccc}\n",
       "\t& LOD\\_ind & LOD\\_ind\\_grid & LOD\\_strains & LOD\\_strains\\_grid\\\\\n",
       "\t\\hline\n",
       "\t& Float64 & Float64 & Float64 & Float64\\\\\n",
       "\t\\hline\n",
       "\t1 & 0.116277 & 0.0729695 & 0.106625 & 0.00255342 \\\\\n",
       "\t2 & 0.116277 & 0.0729695 & 0.106625 & 0.00255342 \\\\\n",
       "\t3 & 0.116277 & 0.0729695 & 0.106625 & 0.00255342 \\\\\n",
       "\t4 & 0.116277 & 0.0729695 & 0.106625 & 0.00255342 \\\\\n",
       "\t5 & 0.116277 & 0.0729695 & 0.106625 & 0.00255342 \\\\\n",
       "\t6 & 0.116277 & 0.0729695 & 0.106625 & 0.00255342 \\\\\n",
       "\t7 & 0.116277 & 0.0729695 & 0.106625 & 0.00255342 \\\\\n",
       "\t8 & 0.116277 & 0.0729695 & 0.106625 & 0.00255342 \\\\\n",
       "\t9 & 0.116277 & 0.0729695 & 0.106625 & 0.00255342 \\\\\n",
       "\t10 & 0.116277 & 0.0729695 & 0.106625 & 0.00255342 \\\\\n",
       "\\end{tabular}\n"
      ],
      "text/plain": [
       "\u001b[1m10×4 DataFrame\u001b[0m\n",
       "\u001b[1m Row \u001b[0m│\u001b[1m LOD_ind  \u001b[0m\u001b[1m LOD_ind_grid \u001b[0m\u001b[1m LOD_strains \u001b[0m\u001b[1m LOD_strains_grid \u001b[0m\n",
       "     │\u001b[90m Float64  \u001b[0m\u001b[90m Float64      \u001b[0m\u001b[90m Float64     \u001b[0m\u001b[90m Float64          \u001b[0m\n",
       "─────┼───────────────────────────────────────────────────────\n",
       "   1 │ 0.116277     0.0729695     0.106625        0.00255342\n",
       "   2 │ 0.116277     0.0729695     0.106625        0.00255342\n",
       "   3 │ 0.116277     0.0729695     0.106625        0.00255342\n",
       "   4 │ 0.116277     0.0729695     0.106625        0.00255342\n",
       "   5 │ 0.116277     0.0729695     0.106625        0.00255342\n",
       "   6 │ 0.116277     0.0729695     0.106625        0.00255342\n",
       "   7 │ 0.116277     0.0729695     0.106625        0.00255342\n",
       "   8 │ 0.116277     0.0729695     0.106625        0.00255342\n",
       "   9 │ 0.116277     0.0729695     0.106625        0.00255342\n",
       "  10 │ 0.116277     0.0729695     0.106625        0.00255342"
      ]
     },
     "execution_count": 81,
     "metadata": {},
     "output_type": "execute_result"
    }
   ],
   "source": [
    "hcat(scan_results_ind_hub.lod, bulkscan_results_ind[3][:, lp_id], \n",
    "     scan_results_strains_hub.lod, bulkscan_results_strains[3][:, lp_id]) |> \n",
    "(x -> DataFrame(x, [\"LOD_ind\", \"LOD_ind_grid\",  \"LOD_strains\", \"LOD_strains_grid\"])) |> x -> x[1:10, :]"
   ]
  },
  {
   "cell_type": "code",
   "execution_count": 108,
   "id": "26594bd1-d0cd-456c-b48f-c69480ff1daa",
   "metadata": {},
   "outputs": [
    {
     "data": {
      "text/plain": [
       "0.7963885183852386"
      ]
     },
     "execution_count": 108,
     "metadata": {},
     "output_type": "execute_result"
    }
   ],
   "source": [
    "maximum(abs.(scan_results_strains_hub.lod .- bulkscan_results_strains[3][:, lp_id]))"
   ]
  },
  {
   "cell_type": "code",
   "execution_count": 109,
   "id": "8dfb44ff-92c8-4e74-aea8-49a2cedcae4d",
   "metadata": {},
   "outputs": [],
   "source": [
    "h2_taken_ind = bulkscan_results_ind[1];\n",
    "h2_taken_strains = bulkscan_results_strains[1];"
   ]
  },
  {
   "cell_type": "code",
   "execution_count": 110,
   "id": "5eb4c7b0-1e02-410e-9f0f-ea7fcb5e2fec",
   "metadata": {},
   "outputs": [
    {
     "data": {
      "text/plain": [
       "20-element Vector{Float64}:\n",
       " 0.0\n",
       " 0.2\n",
       " 0.4\n",
       " 0.45\n",
       " 0.5\n",
       " 0.15\n",
       " 0.35\n",
       " 0.3\n",
       " 0.6\n",
       " 0.25\n",
       " 0.7\n",
       " 0.1\n",
       " 0.75\n",
       " 0.9\n",
       " 0.95\n",
       " 0.55\n",
       " 0.8\n",
       " 0.05\n",
       " 0.85\n",
       " 0.65"
      ]
     },
     "execution_count": 110,
     "metadata": {},
     "output_type": "execute_result"
    }
   ],
   "source": [
    "bulkscan_results_ind[2]"
   ]
  },
  {
   "cell_type": "code",
   "execution_count": 111,
   "id": "06fbec74-be3f-423a-80b1-7ccc4805dff5",
   "metadata": {},
   "outputs": [
    {
     "data": {
      "text/plain": [
       "get_h2_distribution (generic function with 1 method)"
      ]
     },
     "execution_count": 111,
     "metadata": {},
     "output_type": "execute_result"
    }
   ],
   "source": [
    "function get_h2_distribution(h2_list::Array{Float64, 1}, idxs_by_bin::Vector{Vector{Bool}})\n",
    "\n",
    "    h2_distr = zeros(size(idxs_by_bin[1], 1));\n",
    "    \n",
    "    for i in 1:length(h2_list)\n",
    "        h2_distr[idxs_by_bin[i]] .= h2_list[i]\n",
    "    end\n",
    "    \n",
    "    return h2_distr;\n",
    "    \n",
    "end"
   ]
  },
  {
   "cell_type": "code",
   "execution_count": 112,
   "id": "6dcad1b7-17a8-4a1e-a218-aabacab5c219",
   "metadata": {},
   "outputs": [],
   "source": [
    "h2_distr_ind = get_h2_distribution(bulkscan_results_ind[2], h2_taken_ind);\n",
    "h2_distr_strains = get_h2_distribution(bulkscan_results_strains[2], h2_taken_strains);"
   ]
  },
  {
   "cell_type": "code",
   "execution_count": 113,
   "id": "9ad978d7-dd9f-4a0d-affc-6b4462577e95",
   "metadata": {},
   "outputs": [
    {
     "data": {
      "text/plain": [
       "32445-element Vector{Float64}:\n",
       " 0.15\n",
       " 0.1\n",
       " 0.45\n",
       " 0.65\n",
       " 0.35\n",
       " 0.5\n",
       " 0.25\n",
       " 0.45\n",
       " 0.35\n",
       " 0.3\n",
       " 0.1\n",
       " 0.0\n",
       " 0.4\n",
       " ⋮\n",
       " 0.0\n",
       " 0.0\n",
       " 0.0\n",
       " 0.75\n",
       " 0.0\n",
       " 0.0\n",
       " 0.0\n",
       " 0.1\n",
       " 0.0\n",
       " 0.15\n",
       " 0.0\n",
       " 0.0"
      ]
     },
     "execution_count": 113,
     "metadata": {},
     "output_type": "execute_result"
    }
   ],
   "source": [
    "h2_distr_ind"
   ]
  },
  {
   "cell_type": "code",
   "execution_count": 114,
   "id": "e1afd1e2-e9f1-4e8c-937c-d256e1544dfa",
   "metadata": {},
   "outputs": [
    {
     "data": {
      "image/svg+xml": [
       "<?xml version=\"1.0\" encoding=\"utf-8\"?>\n",
       "<svg xmlns=\"http://www.w3.org/2000/svg\" xmlns:xlink=\"http://www.w3.org/1999/xlink\" width=\"600\" height=\"400\" viewBox=\"0 0 2400 1600\">\n",
       "<defs>\n",
       "  <clipPath id=\"clip160\">\n",
       "    <rect x=\"0\" y=\"0\" width=\"2400\" height=\"1600\"/>\n",
       "  </clipPath>\n",
       "</defs>\n",
       "<path clip-path=\"url(#clip160)\" d=\"\n",
       "M0 1600 L2400 1600 L2400 0 L0 0  Z\n",
       "  \" fill=\"#ffffff\" fill-rule=\"evenodd\" fill-opacity=\"1\"/>\n",
       "<defs>\n",
       "  <clipPath id=\"clip161\">\n",
       "    <rect x=\"480\" y=\"0\" width=\"1681\" height=\"1600\"/>\n",
       "  </clipPath>\n",
       "</defs>\n",
       "<path clip-path=\"url(#clip160)\" d=\"\n",
       "M219.866 1423.18 L2352.76 1423.18 L2352.76 47.2441 L219.866 47.2441  Z\n",
       "  \" fill=\"#ffffff\" fill-rule=\"evenodd\" fill-opacity=\"1\"/>\n",
       "<defs>\n",
       "  <clipPath id=\"clip162\">\n",
       "    <rect x=\"219\" y=\"47\" width=\"2134\" height=\"1377\"/>\n",
       "  </clipPath>\n",
       "</defs>\n",
       "<polyline clip-path=\"url(#clip162)\" style=\"stroke:#000000; stroke-linecap:round; stroke-linejoin:round; stroke-width:2; stroke-opacity:0.1; fill:none\" points=\"\n",
       "  384.636,1423.18 384.636,47.2441 \n",
       "  \"/>\n",
       "<polyline clip-path=\"url(#clip162)\" style=\"stroke:#000000; stroke-linecap:round; stroke-linejoin:round; stroke-width:2; stroke-opacity:0.1; fill:none\" points=\"\n",
       "  859.202,1423.18 859.202,47.2441 \n",
       "  \"/>\n",
       "<polyline clip-path=\"url(#clip162)\" style=\"stroke:#000000; stroke-linecap:round; stroke-linejoin:round; stroke-width:2; stroke-opacity:0.1; fill:none\" points=\"\n",
       "  1333.77,1423.18 1333.77,47.2441 \n",
       "  \"/>\n",
       "<polyline clip-path=\"url(#clip162)\" style=\"stroke:#000000; stroke-linecap:round; stroke-linejoin:round; stroke-width:2; stroke-opacity:0.1; fill:none\" points=\"\n",
       "  1808.33,1423.18 1808.33,47.2441 \n",
       "  \"/>\n",
       "<polyline clip-path=\"url(#clip162)\" style=\"stroke:#000000; stroke-linecap:round; stroke-linejoin:round; stroke-width:2; stroke-opacity:0.1; fill:none\" points=\"\n",
       "  2282.9,1423.18 2282.9,47.2441 \n",
       "  \"/>\n",
       "<polyline clip-path=\"url(#clip160)\" style=\"stroke:#000000; stroke-linecap:round; stroke-linejoin:round; stroke-width:4; stroke-opacity:1; fill:none\" points=\"\n",
       "  219.866,1423.18 2352.76,1423.18 \n",
       "  \"/>\n",
       "<polyline clip-path=\"url(#clip160)\" style=\"stroke:#000000; stroke-linecap:round; stroke-linejoin:round; stroke-width:4; stroke-opacity:1; fill:none\" points=\"\n",
       "  384.636,1423.18 384.636,1404.28 \n",
       "  \"/>\n",
       "<polyline clip-path=\"url(#clip160)\" style=\"stroke:#000000; stroke-linecap:round; stroke-linejoin:round; stroke-width:4; stroke-opacity:1; fill:none\" points=\"\n",
       "  859.202,1423.18 859.202,1404.28 \n",
       "  \"/>\n",
       "<polyline clip-path=\"url(#clip160)\" style=\"stroke:#000000; stroke-linecap:round; stroke-linejoin:round; stroke-width:4; stroke-opacity:1; fill:none\" points=\"\n",
       "  1333.77,1423.18 1333.77,1404.28 \n",
       "  \"/>\n",
       "<polyline clip-path=\"url(#clip160)\" style=\"stroke:#000000; stroke-linecap:round; stroke-linejoin:round; stroke-width:4; stroke-opacity:1; fill:none\" points=\"\n",
       "  1808.33,1423.18 1808.33,1404.28 \n",
       "  \"/>\n",
       "<polyline clip-path=\"url(#clip160)\" style=\"stroke:#000000; stroke-linecap:round; stroke-linejoin:round; stroke-width:4; stroke-opacity:1; fill:none\" points=\"\n",
       "  2282.9,1423.18 2282.9,1404.28 \n",
       "  \"/>\n",
       "<path clip-path=\"url(#clip160)\" d=\"M346.939 1454.1 Q343.328 1454.1 341.499 1457.66 Q339.694 1461.2 339.694 1468.33 Q339.694 1475.44 341.499 1479.01 Q343.328 1482.55 346.939 1482.55 Q350.573 1482.55 352.379 1479.01 Q354.208 1475.44 354.208 1468.33 Q354.208 1461.2 352.379 1457.66 Q350.573 1454.1 346.939 1454.1 M346.939 1450.39 Q352.749 1450.39 355.805 1455 Q358.883 1459.58 358.883 1468.33 Q358.883 1477.06 355.805 1481.67 Q352.749 1486.25 346.939 1486.25 Q341.129 1486.25 338.05 1481.67 Q334.995 1477.06 334.995 1468.33 Q334.995 1459.58 338.05 1455 Q341.129 1450.39 346.939 1450.39 Z\" fill=\"#000000\" fill-rule=\"evenodd\" fill-opacity=\"1\" /><path clip-path=\"url(#clip160)\" d=\"M367.101 1479.7 L371.985 1479.7 L371.985 1485.58 L367.101 1485.58 L367.101 1479.7 Z\" fill=\"#000000\" fill-rule=\"evenodd\" fill-opacity=\"1\" /><path clip-path=\"url(#clip160)\" d=\"M392.17 1454.1 Q388.559 1454.1 386.73 1457.66 Q384.925 1461.2 384.925 1468.33 Q384.925 1475.44 386.73 1479.01 Q388.559 1482.55 392.17 1482.55 Q395.805 1482.55 397.61 1479.01 Q399.439 1475.44 399.439 1468.33 Q399.439 1461.2 397.61 1457.66 Q395.805 1454.1 392.17 1454.1 M392.17 1450.39 Q397.98 1450.39 401.036 1455 Q404.115 1459.58 404.115 1468.33 Q404.115 1477.06 401.036 1481.67 Q397.98 1486.25 392.17 1486.25 Q386.36 1486.25 383.281 1481.67 Q380.226 1477.06 380.226 1468.33 Q380.226 1459.58 383.281 1455 Q386.36 1450.39 392.17 1450.39 Z\" fill=\"#000000\" fill-rule=\"evenodd\" fill-opacity=\"1\" /><path clip-path=\"url(#clip160)\" d=\"M422.332 1454.1 Q418.721 1454.1 416.892 1457.66 Q415.087 1461.2 415.087 1468.33 Q415.087 1475.44 416.892 1479.01 Q418.721 1482.55 422.332 1482.55 Q425.966 1482.55 427.772 1479.01 Q429.601 1475.44 429.601 1468.33 Q429.601 1461.2 427.772 1457.66 Q425.966 1454.1 422.332 1454.1 M422.332 1450.39 Q428.142 1450.39 431.198 1455 Q434.277 1459.58 434.277 1468.33 Q434.277 1477.06 431.198 1481.67 Q428.142 1486.25 422.332 1486.25 Q416.522 1486.25 413.443 1481.67 Q410.388 1477.06 410.388 1468.33 Q410.388 1459.58 413.443 1455 Q416.522 1450.39 422.332 1450.39 Z\" fill=\"#000000\" fill-rule=\"evenodd\" fill-opacity=\"1\" /><path clip-path=\"url(#clip160)\" d=\"M822.003 1454.1 Q818.392 1454.1 816.563 1457.66 Q814.757 1461.2 814.757 1468.33 Q814.757 1475.44 816.563 1479.01 Q818.392 1482.55 822.003 1482.55 Q825.637 1482.55 827.443 1479.01 Q829.271 1475.44 829.271 1468.33 Q829.271 1461.2 827.443 1457.66 Q825.637 1454.1 822.003 1454.1 M822.003 1450.39 Q827.813 1450.39 830.868 1455 Q833.947 1459.58 833.947 1468.33 Q833.947 1477.06 830.868 1481.67 Q827.813 1486.25 822.003 1486.25 Q816.193 1486.25 813.114 1481.67 Q810.058 1477.06 810.058 1468.33 Q810.058 1459.58 813.114 1455 Q816.193 1450.39 822.003 1450.39 Z\" fill=\"#000000\" fill-rule=\"evenodd\" fill-opacity=\"1\" /><path clip-path=\"url(#clip160)\" d=\"M842.165 1479.7 L847.049 1479.7 L847.049 1485.58 L842.165 1485.58 L842.165 1479.7 Z\" fill=\"#000000\" fill-rule=\"evenodd\" fill-opacity=\"1\" /><path clip-path=\"url(#clip160)\" d=\"M861.262 1481.64 L877.581 1481.64 L877.581 1485.58 L855.637 1485.58 L855.637 1481.64 Q858.299 1478.89 862.882 1474.26 Q867.489 1469.61 868.669 1468.27 Q870.915 1465.74 871.794 1464.01 Q872.697 1462.25 872.697 1460.56 Q872.697 1457.8 870.753 1456.07 Q868.831 1454.33 865.729 1454.33 Q863.53 1454.33 861.077 1455.09 Q858.646 1455.86 855.868 1457.41 L855.868 1452.69 Q858.692 1451.55 861.146 1450.97 Q863.6 1450.39 865.637 1450.39 Q871.007 1450.39 874.202 1453.08 Q877.396 1455.77 877.396 1460.26 Q877.396 1462.39 876.586 1464.31 Q875.799 1466.2 873.692 1468.8 Q873.114 1469.47 870.012 1472.69 Q866.91 1475.88 861.262 1481.64 Z\" fill=\"#000000\" fill-rule=\"evenodd\" fill-opacity=\"1\" /><path clip-path=\"url(#clip160)\" d=\"M887.442 1451.02 L905.799 1451.02 L905.799 1454.96 L891.725 1454.96 L891.725 1463.43 Q892.743 1463.08 893.762 1462.92 Q894.78 1462.73 895.799 1462.73 Q901.586 1462.73 904.965 1465.9 Q908.345 1469.08 908.345 1474.49 Q908.345 1480.07 904.873 1483.17 Q901.4 1486.25 895.081 1486.25 Q892.905 1486.25 890.637 1485.88 Q888.391 1485.51 885.984 1484.77 L885.984 1480.07 Q888.067 1481.2 890.289 1481.76 Q892.512 1482.32 894.988 1482.32 Q898.993 1482.32 901.331 1480.21 Q903.669 1478.1 903.669 1474.49 Q903.669 1470.88 901.331 1468.77 Q898.993 1466.67 894.988 1466.67 Q893.113 1466.67 891.239 1467.08 Q889.387 1467.5 887.442 1468.38 L887.442 1451.02 Z\" fill=\"#000000\" fill-rule=\"evenodd\" fill-opacity=\"1\" /><path clip-path=\"url(#clip160)\" d=\"M1296.07 1454.1 Q1292.46 1454.1 1290.63 1457.66 Q1288.83 1461.2 1288.83 1468.33 Q1288.83 1475.44 1290.63 1479.01 Q1292.46 1482.55 1296.07 1482.55 Q1299.71 1482.55 1301.51 1479.01 Q1303.34 1475.44 1303.34 1468.33 Q1303.34 1461.2 1301.51 1457.66 Q1299.71 1454.1 1296.07 1454.1 M1296.07 1450.39 Q1301.88 1450.39 1304.94 1455 Q1308.02 1459.58 1308.02 1468.33 Q1308.02 1477.06 1304.94 1481.67 Q1301.88 1486.25 1296.07 1486.25 Q1290.26 1486.25 1287.18 1481.67 Q1284.13 1477.06 1284.13 1468.33 Q1284.13 1459.58 1287.18 1455 Q1290.26 1450.39 1296.07 1450.39 Z\" fill=\"#000000\" fill-rule=\"evenodd\" fill-opacity=\"1\" /><path clip-path=\"url(#clip160)\" d=\"M1316.23 1479.7 L1321.12 1479.7 L1321.12 1485.58 L1316.23 1485.58 L1316.23 1479.7 Z\" fill=\"#000000\" fill-rule=\"evenodd\" fill-opacity=\"1\" /><path clip-path=\"url(#clip160)\" d=\"M1331.35 1451.02 L1349.71 1451.02 L1349.71 1454.96 L1335.63 1454.96 L1335.63 1463.43 Q1336.65 1463.08 1337.67 1462.92 Q1338.69 1462.73 1339.71 1462.73 Q1345.49 1462.73 1348.87 1465.9 Q1352.25 1469.08 1352.25 1474.49 Q1352.25 1480.07 1348.78 1483.17 Q1345.31 1486.25 1338.99 1486.25 Q1336.81 1486.25 1334.54 1485.88 Q1332.3 1485.51 1329.89 1484.77 L1329.89 1480.07 Q1331.97 1481.2 1334.2 1481.76 Q1336.42 1482.32 1338.89 1482.32 Q1342.9 1482.32 1345.24 1480.21 Q1347.58 1478.1 1347.58 1474.49 Q1347.58 1470.88 1345.24 1468.77 Q1342.9 1466.67 1338.89 1466.67 Q1337.02 1466.67 1335.14 1467.08 Q1333.29 1467.5 1331.35 1468.38 L1331.35 1451.02 Z\" fill=\"#000000\" fill-rule=\"evenodd\" fill-opacity=\"1\" /><path clip-path=\"url(#clip160)\" d=\"M1371.46 1454.1 Q1367.85 1454.1 1366.02 1457.66 Q1364.22 1461.2 1364.22 1468.33 Q1364.22 1475.44 1366.02 1479.01 Q1367.85 1482.55 1371.46 1482.55 Q1375.1 1482.55 1376.9 1479.01 Q1378.73 1475.44 1378.73 1468.33 Q1378.73 1461.2 1376.9 1457.66 Q1375.1 1454.1 1371.46 1454.1 M1371.46 1450.39 Q1377.27 1450.39 1380.33 1455 Q1383.41 1459.58 1383.41 1468.33 Q1383.41 1477.06 1380.33 1481.67 Q1377.27 1486.25 1371.46 1486.25 Q1365.65 1486.25 1362.58 1481.67 Q1359.52 1477.06 1359.52 1468.33 Q1359.52 1459.58 1362.58 1455 Q1365.65 1450.39 1371.46 1450.39 Z\" fill=\"#000000\" fill-rule=\"evenodd\" fill-opacity=\"1\" /><path clip-path=\"url(#clip160)\" d=\"M1771.13 1454.1 Q1767.52 1454.1 1765.7 1457.66 Q1763.89 1461.2 1763.89 1468.33 Q1763.89 1475.44 1765.7 1479.01 Q1767.52 1482.55 1771.13 1482.55 Q1774.77 1482.55 1776.57 1479.01 Q1778.4 1475.44 1778.4 1468.33 Q1778.4 1461.2 1776.57 1457.66 Q1774.77 1454.1 1771.13 1454.1 M1771.13 1450.39 Q1776.95 1450.39 1780 1455 Q1783.08 1459.58 1783.08 1468.33 Q1783.08 1477.06 1780 1481.67 Q1776.95 1486.25 1771.13 1486.25 Q1765.32 1486.25 1762.25 1481.67 Q1759.19 1477.06 1759.19 1468.33 Q1759.19 1459.58 1762.25 1455 Q1765.32 1450.39 1771.13 1450.39 Z\" fill=\"#000000\" fill-rule=\"evenodd\" fill-opacity=\"1\" /><path clip-path=\"url(#clip160)\" d=\"M1791.3 1479.7 L1796.18 1479.7 L1796.18 1485.58 L1791.3 1485.58 L1791.3 1479.7 Z\" fill=\"#000000\" fill-rule=\"evenodd\" fill-opacity=\"1\" /><path clip-path=\"url(#clip160)\" d=\"M1805.19 1451.02 L1827.41 1451.02 L1827.41 1453.01 L1814.86 1485.58 L1809.98 1485.58 L1821.78 1454.96 L1805.19 1454.96 L1805.19 1451.02 Z\" fill=\"#000000\" fill-rule=\"evenodd\" fill-opacity=\"1\" /><path clip-path=\"url(#clip160)\" d=\"M1836.57 1451.02 L1854.93 1451.02 L1854.93 1454.96 L1840.86 1454.96 L1840.86 1463.43 Q1841.88 1463.08 1842.89 1462.92 Q1843.91 1462.73 1844.93 1462.73 Q1850.72 1462.73 1854.1 1465.9 Q1857.48 1469.08 1857.48 1474.49 Q1857.48 1480.07 1854 1483.17 Q1850.53 1486.25 1844.21 1486.25 Q1842.04 1486.25 1839.77 1485.88 Q1837.52 1485.51 1835.12 1484.77 L1835.12 1480.07 Q1837.2 1481.2 1839.42 1481.76 Q1841.64 1482.32 1844.12 1482.32 Q1848.13 1482.32 1850.46 1480.21 Q1852.8 1478.1 1852.8 1474.49 Q1852.8 1470.88 1850.46 1468.77 Q1848.13 1466.67 1844.12 1466.67 Q1842.25 1466.67 1840.37 1467.08 Q1838.52 1467.5 1836.57 1468.38 L1836.57 1451.02 Z\" fill=\"#000000\" fill-rule=\"evenodd\" fill-opacity=\"1\" /><path clip-path=\"url(#clip160)\" d=\"M2234.97 1481.64 L2242.61 1481.64 L2242.61 1455.28 L2234.3 1456.95 L2234.3 1452.69 L2242.56 1451.02 L2247.24 1451.02 L2247.24 1481.64 L2254.88 1481.64 L2254.88 1485.58 L2234.97 1485.58 L2234.97 1481.64 Z\" fill=\"#000000\" fill-rule=\"evenodd\" fill-opacity=\"1\" /><path clip-path=\"url(#clip160)\" d=\"M2264.32 1479.7 L2269.21 1479.7 L2269.21 1485.58 L2264.32 1485.58 L2264.32 1479.7 Z\" fill=\"#000000\" fill-rule=\"evenodd\" fill-opacity=\"1\" /><path clip-path=\"url(#clip160)\" d=\"M2289.39 1454.1 Q2285.78 1454.1 2283.95 1457.66 Q2282.15 1461.2 2282.15 1468.33 Q2282.15 1475.44 2283.95 1479.01 Q2285.78 1482.55 2289.39 1482.55 Q2293.03 1482.55 2294.83 1479.01 Q2296.66 1475.44 2296.66 1468.33 Q2296.66 1461.2 2294.83 1457.66 Q2293.03 1454.1 2289.39 1454.1 M2289.39 1450.39 Q2295.2 1450.39 2298.26 1455 Q2301.34 1459.58 2301.34 1468.33 Q2301.34 1477.06 2298.26 1481.67 Q2295.2 1486.25 2289.39 1486.25 Q2283.58 1486.25 2280.5 1481.67 Q2277.45 1477.06 2277.45 1468.33 Q2277.45 1459.58 2280.5 1455 Q2283.58 1450.39 2289.39 1450.39 Z\" fill=\"#000000\" fill-rule=\"evenodd\" fill-opacity=\"1\" /><path clip-path=\"url(#clip160)\" d=\"M2319.55 1454.1 Q2315.94 1454.1 2314.11 1457.66 Q2312.31 1461.2 2312.31 1468.33 Q2312.31 1475.44 2314.11 1479.01 Q2315.94 1482.55 2319.55 1482.55 Q2323.19 1482.55 2324.99 1479.01 Q2326.82 1475.44 2326.82 1468.33 Q2326.82 1461.2 2324.99 1457.66 Q2323.19 1454.1 2319.55 1454.1 M2319.55 1450.39 Q2325.36 1450.39 2328.42 1455 Q2331.5 1459.58 2331.5 1468.33 Q2331.5 1477.06 2328.42 1481.67 Q2325.36 1486.25 2319.55 1486.25 Q2313.74 1486.25 2310.67 1481.67 Q2307.61 1477.06 2307.61 1468.33 Q2307.61 1459.58 2310.67 1455 Q2313.74 1450.39 2319.55 1450.39 Z\" fill=\"#000000\" fill-rule=\"evenodd\" fill-opacity=\"1\" /><path clip-path=\"url(#clip160)\" d=\"M1281 1546.53 L1281 1568.04 L1275.14 1568.04 L1275.14 1546.72 Q1275.14 1541.66 1273.17 1539.14 Q1271.19 1536.63 1267.25 1536.63 Q1262.5 1536.63 1259.77 1539.65 Q1257.03 1542.68 1257.03 1547.9 L1257.03 1568.04 L1251.14 1568.04 L1251.14 1518.52 L1257.03 1518.52 L1257.03 1537.93 Q1259.13 1534.72 1261.96 1533.13 Q1264.83 1531.54 1268.55 1531.54 Q1274.69 1531.54 1277.84 1535.36 Q1281 1539.14 1281 1546.53 Z\" fill=\"#000000\" fill-rule=\"evenodd\" fill-opacity=\"1\" /><path clip-path=\"url(#clip160)\" d=\"M1299.04 1562.63 L1321.48 1562.63 L1321.48 1568.04 L1291.31 1568.04 L1291.31 1562.63 Q1294.97 1558.85 1301.27 1552.48 Q1307.6 1546.08 1309.23 1544.24 Q1312.31 1540.77 1313.52 1538.38 Q1314.77 1535.96 1314.77 1533.64 Q1314.77 1529.85 1312.09 1527.46 Q1309.45 1525.08 1305.19 1525.08 Q1302.16 1525.08 1298.79 1526.13 Q1295.45 1527.18 1291.63 1529.31 L1291.63 1522.82 Q1295.51 1521.26 1298.88 1520.46 Q1302.26 1519.66 1305.06 1519.66 Q1312.44 1519.66 1316.83 1523.36 Q1321.23 1527.05 1321.23 1533.22 Q1321.23 1536.15 1320.11 1538.79 Q1319.03 1541.4 1316.13 1544.97 Q1315.34 1545.89 1311.07 1550.32 Q1306.81 1554.71 1299.04 1562.63 Z\" fill=\"#000000\" fill-rule=\"evenodd\" fill-opacity=\"1\" /><polyline clip-path=\"url(#clip162)\" style=\"stroke:#000000; stroke-linecap:round; stroke-linejoin:round; stroke-width:2; stroke-opacity:0.1; fill:none\" points=\"\n",
       "  219.866,1384.24 2352.76,1384.24 \n",
       "  \"/>\n",
       "<polyline clip-path=\"url(#clip162)\" style=\"stroke:#000000; stroke-linecap:round; stroke-linejoin:round; stroke-width:2; stroke-opacity:0.1; fill:none\" points=\"\n",
       "  219.866,1132.37 2352.76,1132.37 \n",
       "  \"/>\n",
       "<polyline clip-path=\"url(#clip162)\" style=\"stroke:#000000; stroke-linecap:round; stroke-linejoin:round; stroke-width:2; stroke-opacity:0.1; fill:none\" points=\"\n",
       "  219.866,880.497 2352.76,880.497 \n",
       "  \"/>\n",
       "<polyline clip-path=\"url(#clip162)\" style=\"stroke:#000000; stroke-linecap:round; stroke-linejoin:round; stroke-width:2; stroke-opacity:0.1; fill:none\" points=\"\n",
       "  219.866,628.626 2352.76,628.626 \n",
       "  \"/>\n",
       "<polyline clip-path=\"url(#clip162)\" style=\"stroke:#000000; stroke-linecap:round; stroke-linejoin:round; stroke-width:2; stroke-opacity:0.1; fill:none\" points=\"\n",
       "  219.866,376.755 2352.76,376.755 \n",
       "  \"/>\n",
       "<polyline clip-path=\"url(#clip162)\" style=\"stroke:#000000; stroke-linecap:round; stroke-linejoin:round; stroke-width:2; stroke-opacity:0.1; fill:none\" points=\"\n",
       "  219.866,124.884 2352.76,124.884 \n",
       "  \"/>\n",
       "<polyline clip-path=\"url(#clip160)\" style=\"stroke:#000000; stroke-linecap:round; stroke-linejoin:round; stroke-width:4; stroke-opacity:1; fill:none\" points=\"\n",
       "  219.866,1423.18 219.866,47.2441 \n",
       "  \"/>\n",
       "<polyline clip-path=\"url(#clip160)\" style=\"stroke:#000000; stroke-linecap:round; stroke-linejoin:round; stroke-width:4; stroke-opacity:1; fill:none\" points=\"\n",
       "  219.866,1384.24 238.764,1384.24 \n",
       "  \"/>\n",
       "<polyline clip-path=\"url(#clip160)\" style=\"stroke:#000000; stroke-linecap:round; stroke-linejoin:round; stroke-width:4; stroke-opacity:1; fill:none\" points=\"\n",
       "  219.866,1132.37 238.764,1132.37 \n",
       "  \"/>\n",
       "<polyline clip-path=\"url(#clip160)\" style=\"stroke:#000000; stroke-linecap:round; stroke-linejoin:round; stroke-width:4; stroke-opacity:1; fill:none\" points=\"\n",
       "  219.866,880.497 238.764,880.497 \n",
       "  \"/>\n",
       "<polyline clip-path=\"url(#clip160)\" style=\"stroke:#000000; stroke-linecap:round; stroke-linejoin:round; stroke-width:4; stroke-opacity:1; fill:none\" points=\"\n",
       "  219.866,628.626 238.764,628.626 \n",
       "  \"/>\n",
       "<polyline clip-path=\"url(#clip160)\" style=\"stroke:#000000; stroke-linecap:round; stroke-linejoin:round; stroke-width:4; stroke-opacity:1; fill:none\" points=\"\n",
       "  219.866,376.755 238.764,376.755 \n",
       "  \"/>\n",
       "<polyline clip-path=\"url(#clip160)\" style=\"stroke:#000000; stroke-linecap:round; stroke-linejoin:round; stroke-width:4; stroke-opacity:1; fill:none\" points=\"\n",
       "  219.866,124.884 238.764,124.884 \n",
       "  \"/>\n",
       "<path clip-path=\"url(#clip160)\" d=\"M126.691 1370.04 Q123.08 1370.04 121.251 1373.6 Q119.445 1377.14 119.445 1384.27 Q119.445 1391.38 121.251 1394.94 Q123.08 1398.49 126.691 1398.49 Q130.325 1398.49 132.13 1394.94 Q133.959 1391.38 133.959 1384.27 Q133.959 1377.14 132.13 1373.6 Q130.325 1370.04 126.691 1370.04 M126.691 1366.33 Q132.501 1366.33 135.556 1370.94 Q138.635 1375.52 138.635 1384.27 Q138.635 1393 135.556 1397.61 Q132.501 1402.19 126.691 1402.19 Q120.88 1402.19 117.802 1397.61 Q114.746 1393 114.746 1384.27 Q114.746 1375.52 117.802 1370.94 Q120.88 1366.33 126.691 1366.33 Z\" fill=\"#000000\" fill-rule=\"evenodd\" fill-opacity=\"1\" /><path clip-path=\"url(#clip160)\" d=\"M146.853 1395.64 L151.737 1395.64 L151.737 1401.52 L146.853 1401.52 L146.853 1395.64 Z\" fill=\"#000000\" fill-rule=\"evenodd\" fill-opacity=\"1\" /><path clip-path=\"url(#clip160)\" d=\"M171.922 1370.04 Q168.311 1370.04 166.482 1373.6 Q164.677 1377.14 164.677 1384.27 Q164.677 1391.38 166.482 1394.94 Q168.311 1398.49 171.922 1398.49 Q175.556 1398.49 177.362 1394.94 Q179.19 1391.38 179.19 1384.27 Q179.19 1377.14 177.362 1373.6 Q175.556 1370.04 171.922 1370.04 M171.922 1366.33 Q177.732 1366.33 180.788 1370.94 Q183.866 1375.52 183.866 1384.27 Q183.866 1393 180.788 1397.61 Q177.732 1402.19 171.922 1402.19 Q166.112 1402.19 163.033 1397.61 Q159.978 1393 159.978 1384.27 Q159.978 1375.52 163.033 1370.94 Q166.112 1366.33 171.922 1366.33 Z\" fill=\"#000000\" fill-rule=\"evenodd\" fill-opacity=\"1\" /><path clip-path=\"url(#clip160)\" d=\"M127.917 1118.17 Q124.306 1118.17 122.478 1121.73 Q120.672 1125.27 120.672 1132.4 Q120.672 1139.51 122.478 1143.07 Q124.306 1146.62 127.917 1146.62 Q131.552 1146.62 133.357 1143.07 Q135.186 1139.51 135.186 1132.4 Q135.186 1125.27 133.357 1121.73 Q131.552 1118.17 127.917 1118.17 M127.917 1114.46 Q133.728 1114.46 136.783 1119.07 Q139.862 1123.65 139.862 1132.4 Q139.862 1141.13 136.783 1145.74 Q133.728 1150.32 127.917 1150.32 Q122.107 1150.32 119.029 1145.74 Q115.973 1141.13 115.973 1132.4 Q115.973 1123.65 119.029 1119.07 Q122.107 1114.46 127.917 1114.46 Z\" fill=\"#000000\" fill-rule=\"evenodd\" fill-opacity=\"1\" /><path clip-path=\"url(#clip160)\" d=\"M148.079 1143.77 L152.964 1143.77 L152.964 1149.65 L148.079 1149.65 L148.079 1143.77 Z\" fill=\"#000000\" fill-rule=\"evenodd\" fill-opacity=\"1\" /><path clip-path=\"url(#clip160)\" d=\"M163.959 1145.71 L171.598 1145.71 L171.598 1119.35 L163.288 1121.01 L163.288 1116.75 L171.552 1115.09 L176.227 1115.09 L176.227 1145.71 L183.866 1145.71 L183.866 1149.65 L163.959 1149.65 L163.959 1145.71 Z\" fill=\"#000000\" fill-rule=\"evenodd\" fill-opacity=\"1\" /><path clip-path=\"url(#clip160)\" d=\"M128.288 866.295 Q124.677 866.295 122.848 869.86 Q121.043 873.402 121.043 880.531 Q121.043 887.638 122.848 891.203 Q124.677 894.744 128.288 894.744 Q131.922 894.744 133.728 891.203 Q135.556 887.638 135.556 880.531 Q135.556 873.402 133.728 869.86 Q131.922 866.295 128.288 866.295 M128.288 862.592 Q134.098 862.592 137.154 867.198 Q140.232 871.781 140.232 880.531 Q140.232 889.258 137.154 893.865 Q134.098 898.448 128.288 898.448 Q122.478 898.448 119.399 893.865 Q116.343 889.258 116.343 880.531 Q116.343 871.781 119.399 867.198 Q122.478 862.592 128.288 862.592 Z\" fill=\"#000000\" fill-rule=\"evenodd\" fill-opacity=\"1\" /><path clip-path=\"url(#clip160)\" d=\"M148.45 891.897 L153.334 891.897 L153.334 897.777 L148.45 897.777 L148.45 891.897 Z\" fill=\"#000000\" fill-rule=\"evenodd\" fill-opacity=\"1\" /><path clip-path=\"url(#clip160)\" d=\"M167.547 893.842 L183.866 893.842 L183.866 897.777 L161.922 897.777 L161.922 893.842 Q164.584 891.087 169.167 886.457 Q173.774 881.805 174.954 880.462 Q177.2 877.939 178.079 876.203 Q178.982 874.443 178.982 872.754 Q178.982 869.999 177.038 868.263 Q175.116 866.527 172.014 866.527 Q169.815 866.527 167.362 867.291 Q164.931 868.055 162.153 869.606 L162.153 864.883 Q164.977 863.749 167.431 863.17 Q169.885 862.592 171.922 862.592 Q177.292 862.592 180.487 865.277 Q183.681 867.962 183.681 872.453 Q183.681 874.582 182.871 876.504 Q182.084 878.402 179.977 880.994 Q179.399 881.666 176.297 884.883 Q173.195 888.078 167.547 893.842 Z\" fill=\"#000000\" fill-rule=\"evenodd\" fill-opacity=\"1\" /><path clip-path=\"url(#clip160)\" d=\"M127.339 614.425 Q123.728 614.425 121.899 617.989 Q120.093 621.531 120.093 628.661 Q120.093 635.767 121.899 639.332 Q123.728 642.873 127.339 642.873 Q130.973 642.873 132.779 639.332 Q134.607 635.767 134.607 628.661 Q134.607 621.531 132.779 617.989 Q130.973 614.425 127.339 614.425 M127.339 610.721 Q133.149 610.721 136.204 615.327 Q139.283 619.911 139.283 628.661 Q139.283 637.387 136.204 641.994 Q133.149 646.577 127.339 646.577 Q121.529 646.577 118.45 641.994 Q115.394 637.387 115.394 628.661 Q115.394 619.911 118.45 615.327 Q121.529 610.721 127.339 610.721 Z\" fill=\"#000000\" fill-rule=\"evenodd\" fill-opacity=\"1\" /><path clip-path=\"url(#clip160)\" d=\"M147.501 640.026 L152.385 640.026 L152.385 645.906 L147.501 645.906 L147.501 640.026 Z\" fill=\"#000000\" fill-rule=\"evenodd\" fill-opacity=\"1\" /><path clip-path=\"url(#clip160)\" d=\"M176.737 627.272 Q180.093 627.989 181.968 630.258 Q183.866 632.526 183.866 635.86 Q183.866 640.975 180.348 643.776 Q176.829 646.577 170.348 646.577 Q168.172 646.577 165.857 646.137 Q163.565 645.721 161.112 644.864 L161.112 640.35 Q163.056 641.485 165.371 642.063 Q167.686 642.642 170.209 642.642 Q174.607 642.642 176.899 640.906 Q179.214 639.17 179.214 635.86 Q179.214 632.804 177.061 631.091 Q174.931 629.355 171.112 629.355 L167.084 629.355 L167.084 625.512 L171.297 625.512 Q174.746 625.512 176.575 624.147 Q178.403 622.758 178.403 620.165 Q178.403 617.503 176.505 616.091 Q174.63 614.656 171.112 614.656 Q169.19 614.656 166.991 615.073 Q164.792 615.489 162.153 616.369 L162.153 612.202 Q164.815 611.462 167.13 611.091 Q169.468 610.721 171.528 610.721 Q176.852 610.721 179.954 613.151 Q183.056 615.559 183.056 619.679 Q183.056 622.55 181.413 624.54 Q179.769 626.508 176.737 627.272 Z\" fill=\"#000000\" fill-rule=\"evenodd\" fill-opacity=\"1\" /><path clip-path=\"url(#clip160)\" d=\"M126.205 362.554 Q122.593 362.554 120.765 366.119 Q118.959 369.66 118.959 376.79 Q118.959 383.896 120.765 387.461 Q122.593 391.003 126.205 391.003 Q129.839 391.003 131.644 387.461 Q133.473 383.896 133.473 376.79 Q133.473 369.66 131.644 366.119 Q129.839 362.554 126.205 362.554 M126.205 358.85 Q132.015 358.85 135.07 363.457 Q138.149 368.04 138.149 376.79 Q138.149 385.517 135.07 390.123 Q132.015 394.706 126.205 394.706 Q120.394 394.706 117.316 390.123 Q114.26 385.517 114.26 376.79 Q114.26 368.04 117.316 363.457 Q120.394 358.85 126.205 358.85 Z\" fill=\"#000000\" fill-rule=\"evenodd\" fill-opacity=\"1\" /><path clip-path=\"url(#clip160)\" d=\"M146.366 388.155 L151.251 388.155 L151.251 394.035 L146.366 394.035 L146.366 388.155 Z\" fill=\"#000000\" fill-rule=\"evenodd\" fill-opacity=\"1\" /><path clip-path=\"url(#clip160)\" d=\"M174.283 363.549 L162.477 381.998 L174.283 381.998 L174.283 363.549 M173.056 359.475 L178.936 359.475 L178.936 381.998 L183.866 381.998 L183.866 385.887 L178.936 385.887 L178.936 394.035 L174.283 394.035 L174.283 385.887 L158.681 385.887 L158.681 381.373 L173.056 359.475 Z\" fill=\"#000000\" fill-rule=\"evenodd\" fill-opacity=\"1\" /><path clip-path=\"url(#clip160)\" d=\"M127.686 110.683 Q124.075 110.683 122.246 114.248 Q120.441 117.789 120.441 124.919 Q120.441 132.025 122.246 135.59 Q124.075 139.132 127.686 139.132 Q131.32 139.132 133.126 135.59 Q134.954 132.025 134.954 124.919 Q134.954 117.789 133.126 114.248 Q131.32 110.683 127.686 110.683 M127.686 106.979 Q133.496 106.979 136.552 111.586 Q139.63 116.169 139.63 124.919 Q139.63 133.646 136.552 138.252 Q133.496 142.836 127.686 142.836 Q121.876 142.836 118.797 138.252 Q115.742 133.646 115.742 124.919 Q115.742 116.169 118.797 111.586 Q121.876 106.979 127.686 106.979 Z\" fill=\"#000000\" fill-rule=\"evenodd\" fill-opacity=\"1\" /><path clip-path=\"url(#clip160)\" d=\"M147.848 136.285 L152.732 136.285 L152.732 142.164 L147.848 142.164 L147.848 136.285 Z\" fill=\"#000000\" fill-rule=\"evenodd\" fill-opacity=\"1\" /><path clip-path=\"url(#clip160)\" d=\"M162.964 107.604 L181.32 107.604 L181.32 111.539 L167.246 111.539 L167.246 120.012 Q168.264 119.664 169.283 119.502 Q170.302 119.317 171.32 119.317 Q177.107 119.317 180.487 122.488 Q183.866 125.66 183.866 131.076 Q183.866 136.655 180.394 139.757 Q176.922 142.836 170.602 142.836 Q168.427 142.836 166.158 142.465 Q163.913 142.095 161.505 141.354 L161.505 136.655 Q163.589 137.789 165.811 138.345 Q168.033 138.9 170.51 138.9 Q174.514 138.9 176.852 136.794 Q179.19 134.687 179.19 131.076 Q179.19 127.465 176.852 125.359 Q174.514 123.252 170.51 123.252 Q168.635 123.252 166.76 123.669 Q164.908 124.086 162.964 124.965 L162.964 107.604 Z\" fill=\"#000000\" fill-rule=\"evenodd\" fill-opacity=\"1\" /><path clip-path=\"url(#clip160)\" d=\"M21.7677 890.981 L39.6235 890.981 L39.6235 882.896 Q39.6235 878.409 37.3 875.958 Q34.9765 873.507 30.6797 873.507 Q26.4147 873.507 24.0912 875.958 Q21.7677 878.409 21.7677 882.896 L21.7677 890.981 M16.4842 897.41 L16.4842 882.896 Q16.4842 874.907 20.1126 870.833 Q23.7092 866.727 30.6797 866.727 Q37.7138 866.727 41.3104 870.833 Q44.907 874.907 44.907 882.896 L44.907 890.981 L64.0042 890.981 L64.0042 897.41 L16.4842 897.41 Z\" fill=\"#000000\" fill-rule=\"evenodd\" fill-opacity=\"1\" /><path clip-path=\"url(#clip160)\" d=\"M33.8307 838.846 Q33.2578 839.832 33.0032 841.01 Q32.7167 842.156 32.7167 843.556 Q32.7167 848.522 35.9632 851.195 Q39.1779 853.837 45.2253 853.837 L64.0042 853.837 L64.0042 859.725 L28.3562 859.725 L28.3562 853.837 L33.8944 853.837 Q30.6479 851.991 29.0883 849.031 Q27.4968 846.071 27.4968 841.838 Q27.4968 841.233 27.5923 840.501 Q27.656 839.769 27.8151 838.878 L33.8307 838.846 Z\" fill=\"#000000\" fill-rule=\"evenodd\" fill-opacity=\"1\" /><path clip-path=\"url(#clip160)\" d=\"M32.4621 820.321 Q32.4621 825.032 36.1542 827.769 Q39.8145 830.507 46.212 830.507 Q52.6095 830.507 56.3017 827.801 Q59.9619 825.064 59.9619 820.321 Q59.9619 815.643 56.2698 812.905 Q52.5777 810.168 46.212 810.168 Q39.8781 810.168 36.186 812.905 Q32.4621 815.643 32.4621 820.321 M27.4968 820.321 Q27.4968 812.683 32.4621 808.322 Q37.4273 803.962 46.212 803.962 Q54.9649 803.962 59.9619 808.322 Q64.9272 812.683 64.9272 820.321 Q64.9272 827.992 59.9619 832.353 Q54.9649 836.681 46.212 836.681 Q37.4273 836.681 32.4621 832.353 Q27.4968 827.992 27.4968 820.321 Z\" fill=\"#000000\" fill-rule=\"evenodd\" fill-opacity=\"1\" /><path clip-path=\"url(#clip160)\" d=\"M58.657 788.588 L77.5631 788.588 L77.5631 794.477 L28.3562 794.477 L28.3562 788.588 L33.7671 788.588 Q30.5842 786.742 29.0564 783.941 Q27.4968 781.109 27.4968 777.194 Q27.4968 770.701 32.6531 766.659 Q37.8093 762.585 46.212 762.585 Q54.6147 762.585 59.771 766.659 Q64.9272 770.701 64.9272 777.194 Q64.9272 781.109 63.3994 783.941 Q61.8398 786.742 58.657 788.588 M46.212 768.664 Q39.7508 768.664 36.0905 771.337 Q32.3984 773.979 32.3984 778.626 Q32.3984 783.273 36.0905 785.947 Q39.7508 788.588 46.212 788.588 Q52.6732 788.588 56.3653 785.947 Q60.0256 783.273 60.0256 778.626 Q60.0256 773.979 56.3653 771.337 Q52.6732 768.664 46.212 768.664 Z\" fill=\"#000000\" fill-rule=\"evenodd\" fill-opacity=\"1\" /><path clip-path=\"url(#clip160)\" d=\"M32.4621 739.063 Q32.4621 743.774 36.1542 746.511 Q39.8145 749.248 46.212 749.248 Q52.6095 749.248 56.3017 746.543 Q59.9619 743.806 59.9619 739.063 Q59.9619 734.384 56.2698 731.647 Q52.5777 728.91 46.212 728.91 Q39.8781 728.91 36.186 731.647 Q32.4621 734.384 32.4621 739.063 M27.4968 739.063 Q27.4968 731.424 32.4621 727.064 Q37.4273 722.703 46.212 722.703 Q54.9649 722.703 59.9619 727.064 Q64.9272 731.424 64.9272 739.063 Q64.9272 746.734 59.9619 751.094 Q54.9649 755.423 46.212 755.423 Q37.4273 755.423 32.4621 751.094 Q27.4968 746.734 27.4968 739.063 Z\" fill=\"#000000\" fill-rule=\"evenodd\" fill-opacity=\"1\" /><path clip-path=\"url(#clip160)\" d=\"M33.8307 692.339 Q33.2578 693.326 33.0032 694.503 Q32.7167 695.649 32.7167 697.05 Q32.7167 702.015 35.9632 704.688 Q39.1779 707.33 45.2253 707.33 L64.0042 707.33 L64.0042 713.218 L28.3562 713.218 L28.3562 707.33 L33.8944 707.33 Q30.6479 705.484 29.0883 702.524 Q27.4968 699.564 27.4968 695.331 Q27.4968 694.726 27.5923 693.994 Q27.656 693.262 27.8151 692.371 L33.8307 692.339 Z\" fill=\"#000000\" fill-rule=\"evenodd\" fill-opacity=\"1\" /><path clip-path=\"url(#clip160)\" d=\"M18.2347 680.403 L28.3562 680.403 L28.3562 668.34 L32.9077 668.34 L32.9077 680.403 L52.2594 680.403 Q56.6199 680.403 57.8613 679.226 Q59.1026 678.016 59.1026 674.356 L59.1026 668.34 L64.0042 668.34 L64.0042 674.356 Q64.0042 681.135 61.4897 683.713 Q58.9434 686.292 52.2594 686.292 L32.9077 686.292 L32.9077 690.588 L28.3562 690.588 L28.3562 686.292 L18.2347 686.292 L18.2347 680.403 Z\" fill=\"#000000\" fill-rule=\"evenodd\" fill-opacity=\"1\" /><path clip-path=\"url(#clip160)\" d=\"M28.3562 660.638 L28.3562 654.781 L64.0042 654.781 L64.0042 660.638 L28.3562 660.638 M14.479 660.638 L14.479 654.781 L21.895 654.781 L21.895 660.638 L14.479 660.638 Z\" fill=\"#000000\" fill-rule=\"evenodd\" fill-opacity=\"1\" /><path clip-path=\"url(#clip160)\" d=\"M32.4621 628.714 Q32.4621 633.424 36.1542 636.162 Q39.8145 638.899 46.212 638.899 Q52.6095 638.899 56.3017 636.193 Q59.9619 633.456 59.9619 628.714 Q59.9619 624.035 56.2698 621.298 Q52.5777 618.56 46.212 618.56 Q39.8781 618.56 36.186 621.298 Q32.4621 624.035 32.4621 628.714 M27.4968 628.714 Q27.4968 621.075 32.4621 616.714 Q37.4273 612.354 46.212 612.354 Q54.9649 612.354 59.9619 616.714 Q64.9272 621.075 64.9272 628.714 Q64.9272 636.384 59.9619 640.745 Q54.9649 645.074 46.212 645.074 Q37.4273 645.074 32.4621 640.745 Q27.4968 636.384 27.4968 628.714 Z\" fill=\"#000000\" fill-rule=\"evenodd\" fill-opacity=\"1\" /><path clip-path=\"url(#clip160)\" d=\"M42.4881 573.014 L64.0042 573.014 L64.0042 578.87 L42.679 578.87 Q37.6183 578.87 35.1038 580.844 Q32.5894 582.817 32.5894 586.764 Q32.5894 591.506 35.6131 594.243 Q38.6368 596.981 43.8567 596.981 L64.0042 596.981 L64.0042 602.869 L28.3562 602.869 L28.3562 596.981 L33.8944 596.981 Q30.6797 594.88 29.0883 592.047 Q27.4968 589.183 27.4968 585.459 Q27.4968 579.316 31.3163 576.165 Q35.1038 573.014 42.4881 573.014 Z\" fill=\"#000000\" fill-rule=\"evenodd\" fill-opacity=\"1\" /><path clip-path=\"url(#clip162)\" d=\"\n",
       "M337.179 86.1857 L337.179 1384.24 L432.092 1384.24 L432.092 86.1857 L337.179 86.1857 L337.179 86.1857  Z\n",
       "  \" fill=\"#009af9\" fill-rule=\"evenodd\" fill-opacity=\"1\"/>\n",
       "<polyline clip-path=\"url(#clip162)\" style=\"stroke:#000000; stroke-linecap:round; stroke-linejoin:round; stroke-width:4; stroke-opacity:1; fill:none\" points=\"\n",
       "  337.179,86.1857 337.179,1384.24 432.092,1384.24 432.092,86.1857 337.179,86.1857 \n",
       "  \"/>\n",
       "<path clip-path=\"url(#clip162)\" d=\"\n",
       "M432.092 1350.93 L432.092 1384.24 L527.005 1384.24 L527.005 1350.93 L432.092 1350.93 L432.092 1350.93  Z\n",
       "  \" fill=\"#009af9\" fill-rule=\"evenodd\" fill-opacity=\"1\"/>\n",
       "<polyline clip-path=\"url(#clip162)\" style=\"stroke:#000000; stroke-linecap:round; stroke-linejoin:round; stroke-width:4; stroke-opacity:1; fill:none\" points=\"\n",
       "  432.092,1350.93 432.092,1384.24 527.005,1384.24 527.005,1350.93 432.092,1350.93 \n",
       "  \"/>\n",
       "<path clip-path=\"url(#clip162)\" d=\"\n",
       "M527.005 1156.7 L527.005 1384.24 L621.919 1384.24 L621.919 1156.7 L527.005 1156.7 L527.005 1156.7  Z\n",
       "  \" fill=\"#009af9\" fill-rule=\"evenodd\" fill-opacity=\"1\"/>\n",
       "<polyline clip-path=\"url(#clip162)\" style=\"stroke:#000000; stroke-linecap:round; stroke-linejoin:round; stroke-width:4; stroke-opacity:1; fill:none\" points=\"\n",
       "  527.005,1156.7 527.005,1384.24 621.919,1384.24 621.919,1156.7 527.005,1156.7 \n",
       "  \"/>\n",
       "<path clip-path=\"url(#clip162)\" d=\"\n",
       "M621.919 1174.48 L621.919 1384.24 L716.832 1384.24 L716.832 1174.48 L621.919 1174.48 L621.919 1174.48  Z\n",
       "  \" fill=\"#009af9\" fill-rule=\"evenodd\" fill-opacity=\"1\"/>\n",
       "<polyline clip-path=\"url(#clip162)\" style=\"stroke:#000000; stroke-linecap:round; stroke-linejoin:round; stroke-width:4; stroke-opacity:1; fill:none\" points=\"\n",
       "  621.919,1174.48 621.919,1384.24 716.832,1384.24 716.832,1174.48 621.919,1174.48 \n",
       "  \"/>\n",
       "<path clip-path=\"url(#clip162)\" d=\"\n",
       "M716.832 1221.6 L716.832 1384.24 L811.745 1384.24 L811.745 1221.6 L716.832 1221.6 L716.832 1221.6  Z\n",
       "  \" fill=\"#009af9\" fill-rule=\"evenodd\" fill-opacity=\"1\"/>\n",
       "<polyline clip-path=\"url(#clip162)\" style=\"stroke:#000000; stroke-linecap:round; stroke-linejoin:round; stroke-width:4; stroke-opacity:1; fill:none\" points=\"\n",
       "  716.832,1221.6 716.832,1384.24 811.745,1384.24 811.745,1221.6 716.832,1221.6 \n",
       "  \"/>\n",
       "<path clip-path=\"url(#clip162)\" d=\"\n",
       "M811.745 1250.71 L811.745 1384.24 L906.658 1384.24 L906.658 1250.71 L811.745 1250.71 L811.745 1250.71  Z\n",
       "  \" fill=\"#009af9\" fill-rule=\"evenodd\" fill-opacity=\"1\"/>\n",
       "<polyline clip-path=\"url(#clip162)\" style=\"stroke:#000000; stroke-linecap:round; stroke-linejoin:round; stroke-width:4; stroke-opacity:1; fill:none\" points=\"\n",
       "  811.745,1250.71 811.745,1384.24 906.658,1384.24 906.658,1250.71 811.745,1250.71 \n",
       "  \"/>\n",
       "<path clip-path=\"url(#clip162)\" d=\"\n",
       "M906.658 1276.33 L906.658 1384.24 L1001.57 1384.24 L1001.57 1276.33 L906.658 1276.33 L906.658 1276.33  Z\n",
       "  \" fill=\"#009af9\" fill-rule=\"evenodd\" fill-opacity=\"1\"/>\n",
       "<polyline clip-path=\"url(#clip162)\" style=\"stroke:#000000; stroke-linecap:round; stroke-linejoin:round; stroke-width:4; stroke-opacity:1; fill:none\" points=\"\n",
       "  906.658,1276.33 906.658,1384.24 1001.57,1384.24 1001.57,1276.33 906.658,1276.33 \n",
       "  \"/>\n",
       "<path clip-path=\"url(#clip162)\" d=\"\n",
       "M1001.57 1296.52 L1001.57 1384.24 L1096.48 1384.24 L1096.48 1296.52 L1001.57 1296.52 L1001.57 1296.52  Z\n",
       "  \" fill=\"#009af9\" fill-rule=\"evenodd\" fill-opacity=\"1\"/>\n",
       "<polyline clip-path=\"url(#clip162)\" style=\"stroke:#000000; stroke-linecap:round; stroke-linejoin:round; stroke-width:4; stroke-opacity:1; fill:none\" points=\"\n",
       "  1001.57,1296.52 1001.57,1384.24 1096.48,1384.24 1096.48,1296.52 1001.57,1296.52 \n",
       "  \"/>\n",
       "<path clip-path=\"url(#clip162)\" d=\"\n",
       "M1096.48 1314.37 L1096.48 1384.24 L1191.4 1384.24 L1191.4 1314.37 L1096.48 1314.37 L1096.48 1314.37  Z\n",
       "  \" fill=\"#009af9\" fill-rule=\"evenodd\" fill-opacity=\"1\"/>\n",
       "<polyline clip-path=\"url(#clip162)\" style=\"stroke:#000000; stroke-linecap:round; stroke-linejoin:round; stroke-width:4; stroke-opacity:1; fill:none\" points=\"\n",
       "  1096.48,1314.37 1096.48,1384.24 1191.4,1384.24 1191.4,1314.37 1096.48,1314.37 \n",
       "  \"/>\n",
       "<path clip-path=\"url(#clip162)\" d=\"\n",
       "M1191.4 1337.58 L1191.4 1384.24 L1286.31 1384.24 L1286.31 1337.58 L1191.4 1337.58 L1191.4 1337.58  Z\n",
       "  \" fill=\"#009af9\" fill-rule=\"evenodd\" fill-opacity=\"1\"/>\n",
       "<polyline clip-path=\"url(#clip162)\" style=\"stroke:#000000; stroke-linecap:round; stroke-linejoin:round; stroke-width:4; stroke-opacity:1; fill:none\" points=\"\n",
       "  1191.4,1337.58 1191.4,1384.24 1286.31,1384.24 1286.31,1337.58 1191.4,1337.58 \n",
       "  \"/>\n",
       "<path clip-path=\"url(#clip162)\" d=\"\n",
       "M1286.31 1355.05 L1286.31 1384.24 L1381.22 1384.24 L1381.22 1355.05 L1286.31 1355.05 L1286.31 1355.05  Z\n",
       "  \" fill=\"#009af9\" fill-rule=\"evenodd\" fill-opacity=\"1\"/>\n",
       "<polyline clip-path=\"url(#clip162)\" style=\"stroke:#000000; stroke-linecap:round; stroke-linejoin:round; stroke-width:4; stroke-opacity:1; fill:none\" points=\"\n",
       "  1286.31,1355.05 1286.31,1384.24 1381.22,1384.24 1381.22,1355.05 1286.31,1355.05 \n",
       "  \"/>\n",
       "<path clip-path=\"url(#clip162)\" d=\"\n",
       "M1381.22 1361.03 L1381.22 1384.24 L1476.14 1384.24 L1476.14 1361.03 L1381.22 1361.03 L1381.22 1361.03  Z\n",
       "  \" fill=\"#009af9\" fill-rule=\"evenodd\" fill-opacity=\"1\"/>\n",
       "<polyline clip-path=\"url(#clip162)\" style=\"stroke:#000000; stroke-linecap:round; stroke-linejoin:round; stroke-width:4; stroke-opacity:1; fill:none\" points=\"\n",
       "  1381.22,1361.03 1381.22,1384.24 1476.14,1384.24 1476.14,1361.03 1381.22,1361.03 \n",
       "  \"/>\n",
       "<path clip-path=\"url(#clip162)\" d=\"\n",
       "M1476.14 1368.32 L1476.14 1384.24 L1571.05 1384.24 L1571.05 1368.32 L1476.14 1368.32 L1476.14 1368.32  Z\n",
       "  \" fill=\"#009af9\" fill-rule=\"evenodd\" fill-opacity=\"1\"/>\n",
       "<polyline clip-path=\"url(#clip162)\" style=\"stroke:#000000; stroke-linecap:round; stroke-linejoin:round; stroke-width:4; stroke-opacity:1; fill:none\" points=\"\n",
       "  1476.14,1368.32 1476.14,1384.24 1571.05,1384.24 1571.05,1368.32 1476.14,1368.32 \n",
       "  \"/>\n",
       "<path clip-path=\"url(#clip162)\" d=\"\n",
       "M1571.05 1369.02 L1571.05 1384.24 L1665.96 1384.24 L1665.96 1369.02 L1571.05 1369.02 L1571.05 1369.02  Z\n",
       "  \" fill=\"#009af9\" fill-rule=\"evenodd\" fill-opacity=\"1\"/>\n",
       "<polyline clip-path=\"url(#clip162)\" style=\"stroke:#000000; stroke-linecap:round; stroke-linejoin:round; stroke-width:4; stroke-opacity:1; fill:none\" points=\"\n",
       "  1571.05,1369.02 1571.05,1384.24 1665.96,1384.24 1665.96,1369.02 1571.05,1369.02 \n",
       "  \"/>\n",
       "<path clip-path=\"url(#clip162)\" d=\"\n",
       "M1665.96 1371.27 L1665.96 1384.24 L1760.88 1384.24 L1760.88 1371.27 L1665.96 1371.27 L1665.96 1371.27  Z\n",
       "  \" fill=\"#009af9\" fill-rule=\"evenodd\" fill-opacity=\"1\"/>\n",
       "<polyline clip-path=\"url(#clip162)\" style=\"stroke:#000000; stroke-linecap:round; stroke-linejoin:round; stroke-width:4; stroke-opacity:1; fill:none\" points=\"\n",
       "  1665.96,1371.27 1665.96,1384.24 1760.88,1384.24 1760.88,1371.27 1665.96,1371.27 \n",
       "  \"/>\n",
       "<path clip-path=\"url(#clip162)\" d=\"\n",
       "M1760.88 1374.22 L1760.88 1384.24 L1855.79 1384.24 L1855.79 1374.22 L1760.88 1374.22 L1760.88 1374.22  Z\n",
       "  \" fill=\"#009af9\" fill-rule=\"evenodd\" fill-opacity=\"1\"/>\n",
       "<polyline clip-path=\"url(#clip162)\" style=\"stroke:#000000; stroke-linecap:round; stroke-linejoin:round; stroke-width:4; stroke-opacity:1; fill:none\" points=\"\n",
       "  1760.88,1374.22 1760.88,1384.24 1855.79,1384.24 1855.79,1374.22 1760.88,1374.22 \n",
       "  \"/>\n",
       "<path clip-path=\"url(#clip162)\" d=\"\n",
       "M1855.79 1375 L1855.79 1384.24 L1950.7 1384.24 L1950.7 1375 L1855.79 1375 L1855.79 1375  Z\n",
       "  \" fill=\"#009af9\" fill-rule=\"evenodd\" fill-opacity=\"1\"/>\n",
       "<polyline clip-path=\"url(#clip162)\" style=\"stroke:#000000; stroke-linecap:round; stroke-linejoin:round; stroke-width:4; stroke-opacity:1; fill:none\" points=\"\n",
       "  1855.79,1375 1855.79,1384.24 1950.7,1384.24 1950.7,1375 1855.79,1375 \n",
       "  \"/>\n",
       "<path clip-path=\"url(#clip162)\" d=\"\n",
       "M1950.7 1370.81 L1950.7 1384.24 L2045.62 1384.24 L2045.62 1370.81 L1950.7 1370.81 L1950.7 1370.81  Z\n",
       "  \" fill=\"#009af9\" fill-rule=\"evenodd\" fill-opacity=\"1\"/>\n",
       "<polyline clip-path=\"url(#clip162)\" style=\"stroke:#000000; stroke-linecap:round; stroke-linejoin:round; stroke-width:4; stroke-opacity:1; fill:none\" points=\"\n",
       "  1950.7,1370.81 1950.7,1384.24 2045.62,1384.24 2045.62,1370.81 1950.7,1370.81 \n",
       "  \"/>\n",
       "<path clip-path=\"url(#clip162)\" d=\"\n",
       "M2045.62 1373.76 L2045.62 1384.24 L2140.53 1384.24 L2140.53 1373.76 L2045.62 1373.76 L2045.62 1373.76  Z\n",
       "  \" fill=\"#009af9\" fill-rule=\"evenodd\" fill-opacity=\"1\"/>\n",
       "<polyline clip-path=\"url(#clip162)\" style=\"stroke:#000000; stroke-linecap:round; stroke-linejoin:round; stroke-width:4; stroke-opacity:1; fill:none\" points=\"\n",
       "  2045.62,1373.76 2045.62,1384.24 2140.53,1384.24 2140.53,1373.76 2045.62,1373.76 \n",
       "  \"/>\n",
       "<path clip-path=\"url(#clip162)\" d=\"\n",
       "M2140.53 1382.14 L2140.53 1384.24 L2235.44 1384.24 L2235.44 1382.14 L2140.53 1382.14 L2140.53 1382.14  Z\n",
       "  \" fill=\"#009af9\" fill-rule=\"evenodd\" fill-opacity=\"1\"/>\n",
       "<polyline clip-path=\"url(#clip162)\" style=\"stroke:#000000; stroke-linecap:round; stroke-linejoin:round; stroke-width:4; stroke-opacity:1; fill:none\" points=\"\n",
       "  2140.53,1382.14 2140.53,1384.24 2235.44,1384.24 2235.44,1382.14 2140.53,1382.14 \n",
       "  \"/>\n",
       "<circle clip-path=\"url(#clip162)\" style=\"fill:#009af9; stroke:none; fill-opacity:0\" cx=\"384.636\" cy=\"86.1857\" r=\"2\"/>\n",
       "<circle clip-path=\"url(#clip162)\" style=\"fill:#009af9; stroke:none; fill-opacity:0\" cx=\"479.549\" cy=\"1350.93\" r=\"2\"/>\n",
       "<circle clip-path=\"url(#clip162)\" style=\"fill:#009af9; stroke:none; fill-opacity:0\" cx=\"574.462\" cy=\"1156.7\" r=\"2\"/>\n",
       "<circle clip-path=\"url(#clip162)\" style=\"fill:#009af9; stroke:none; fill-opacity:0\" cx=\"669.375\" cy=\"1174.48\" r=\"2\"/>\n",
       "<circle clip-path=\"url(#clip162)\" style=\"fill:#009af9; stroke:none; fill-opacity:0\" cx=\"764.288\" cy=\"1221.6\" r=\"2\"/>\n",
       "<circle clip-path=\"url(#clip162)\" style=\"fill:#009af9; stroke:none; fill-opacity:0\" cx=\"859.202\" cy=\"1250.71\" r=\"2\"/>\n",
       "<circle clip-path=\"url(#clip162)\" style=\"fill:#009af9; stroke:none; fill-opacity:0\" cx=\"954.115\" cy=\"1276.33\" r=\"2\"/>\n",
       "<circle clip-path=\"url(#clip162)\" style=\"fill:#009af9; stroke:none; fill-opacity:0\" cx=\"1049.03\" cy=\"1296.52\" r=\"2\"/>\n",
       "<circle clip-path=\"url(#clip162)\" style=\"fill:#009af9; stroke:none; fill-opacity:0\" cx=\"1143.94\" cy=\"1314.37\" r=\"2\"/>\n",
       "<circle clip-path=\"url(#clip162)\" style=\"fill:#009af9; stroke:none; fill-opacity:0\" cx=\"1238.85\" cy=\"1337.58\" r=\"2\"/>\n",
       "<circle clip-path=\"url(#clip162)\" style=\"fill:#009af9; stroke:none; fill-opacity:0\" cx=\"1333.77\" cy=\"1355.05\" r=\"2\"/>\n",
       "<circle clip-path=\"url(#clip162)\" style=\"fill:#009af9; stroke:none; fill-opacity:0\" cx=\"1428.68\" cy=\"1361.03\" r=\"2\"/>\n",
       "<circle clip-path=\"url(#clip162)\" style=\"fill:#009af9; stroke:none; fill-opacity:0\" cx=\"1523.59\" cy=\"1368.32\" r=\"2\"/>\n",
       "<circle clip-path=\"url(#clip162)\" style=\"fill:#009af9; stroke:none; fill-opacity:0\" cx=\"1618.51\" cy=\"1369.02\" r=\"2\"/>\n",
       "<circle clip-path=\"url(#clip162)\" style=\"fill:#009af9; stroke:none; fill-opacity:0\" cx=\"1713.42\" cy=\"1371.27\" r=\"2\"/>\n",
       "<circle clip-path=\"url(#clip162)\" style=\"fill:#009af9; stroke:none; fill-opacity:0\" cx=\"1808.33\" cy=\"1374.22\" r=\"2\"/>\n",
       "<circle clip-path=\"url(#clip162)\" style=\"fill:#009af9; stroke:none; fill-opacity:0\" cx=\"1903.25\" cy=\"1375\" r=\"2\"/>\n",
       "<circle clip-path=\"url(#clip162)\" style=\"fill:#009af9; stroke:none; fill-opacity:0\" cx=\"1998.16\" cy=\"1370.81\" r=\"2\"/>\n",
       "<circle clip-path=\"url(#clip162)\" style=\"fill:#009af9; stroke:none; fill-opacity:0\" cx=\"2093.07\" cy=\"1373.76\" r=\"2\"/>\n",
       "<circle clip-path=\"url(#clip162)\" style=\"fill:#009af9; stroke:none; fill-opacity:0\" cx=\"2187.99\" cy=\"1382.14\" r=\"2\"/>\n",
       "<path clip-path=\"url(#clip160)\" d=\"\n",
       "M1773.7 196.789 L2281.66 196.789 L2281.66 93.1086 L1773.7 93.1086  Z\n",
       "  \" fill=\"#ffffff\" fill-rule=\"evenodd\" fill-opacity=\"1\"/>\n",
       "<polyline clip-path=\"url(#clip160)\" style=\"stroke:#000000; stroke-linecap:round; stroke-linejoin:round; stroke-width:4; stroke-opacity:1; fill:none\" points=\"\n",
       "  1773.7,196.789 2281.66,196.789 2281.66,93.1086 1773.7,93.1086 1773.7,196.789 \n",
       "  \"/>\n",
       "<path clip-path=\"url(#clip160)\" d=\"\n",
       "M1797.4 165.685 L1939.59 165.685 L1939.59 124.213 L1797.4 124.213 L1797.4 165.685  Z\n",
       "  \" fill=\"#009af9\" fill-rule=\"evenodd\" fill-opacity=\"1\"/>\n",
       "<polyline clip-path=\"url(#clip160)\" style=\"stroke:#000000; stroke-linecap:round; stroke-linejoin:round; stroke-width:4; stroke-opacity:1; fill:none\" points=\"\n",
       "  1797.4,165.685 1939.59,165.685 1939.59,124.213 1797.4,124.213 1797.4,165.685 \n",
       "  \"/>\n",
       "<path clip-path=\"url(#clip160)\" d=\"M1963.29 127.669 L1967.96 127.669 L1967.96 162.229 L1963.29 162.229 L1963.29 127.669 Z\" fill=\"#000000\" fill-rule=\"evenodd\" fill-opacity=\"1\" /><path clip-path=\"url(#clip160)\" d=\"M1998.63 146.581 L1998.63 162.229 L1994.37 162.229 L1994.37 146.719 Q1994.37 143.039 1992.94 141.21 Q1991.5 139.382 1988.63 139.382 Q1985.18 139.382 1983.19 141.581 Q1981.2 143.78 1981.2 147.576 L1981.2 162.229 L1976.92 162.229 L1976.92 136.303 L1981.2 136.303 L1981.2 140.331 Q1982.73 137.993 1984.79 136.835 Q1986.87 135.678 1989.58 135.678 Q1994.05 135.678 1996.34 138.456 Q1998.63 141.21 1998.63 146.581 Z\" fill=\"#000000\" fill-rule=\"evenodd\" fill-opacity=\"1\" /><path clip-path=\"url(#clip160)\" d=\"M2024.19 140.238 L2024.19 126.21 L2028.45 126.21 L2028.45 162.229 L2024.19 162.229 L2024.19 158.34 Q2022.85 160.655 2020.79 161.789 Q2018.75 162.9 2015.88 162.9 Q2011.18 162.9 2008.22 159.15 Q2005.28 155.4 2005.28 149.289 Q2005.28 143.178 2008.22 139.428 Q2011.18 135.678 2015.88 135.678 Q2018.75 135.678 2020.79 136.812 Q2022.85 137.923 2024.19 140.238 M2009.68 149.289 Q2009.68 153.988 2011.6 156.673 Q2013.54 159.335 2016.92 159.335 Q2020.3 159.335 2022.24 156.673 Q2024.19 153.988 2024.19 149.289 Q2024.19 144.59 2022.24 141.928 Q2020.3 139.243 2016.92 139.243 Q2013.54 139.243 2011.6 141.928 Q2009.68 144.59 2009.68 149.289 Z\" fill=\"#000000\" fill-rule=\"evenodd\" fill-opacity=\"1\" /><path clip-path=\"url(#clip160)\" d=\"M2037.22 136.303 L2041.48 136.303 L2041.48 162.229 L2037.22 162.229 L2037.22 136.303 M2037.22 126.21 L2041.48 126.21 L2041.48 131.604 L2037.22 131.604 L2037.22 126.21 Z\" fill=\"#000000\" fill-rule=\"evenodd\" fill-opacity=\"1\" /><path clip-path=\"url(#clip160)\" d=\"M2047.34 136.303 L2051.85 136.303 L2059.95 158.062 L2068.05 136.303 L2072.57 136.303 L2062.85 162.229 L2057.06 162.229 L2047.34 136.303 Z\" fill=\"#000000\" fill-rule=\"evenodd\" fill-opacity=\"1\" /><path clip-path=\"url(#clip160)\" d=\"M2078.45 136.303 L2082.71 136.303 L2082.71 162.229 L2078.45 162.229 L2078.45 136.303 M2078.45 126.21 L2082.71 126.21 L2082.71 131.604 L2078.45 131.604 L2078.45 126.21 Z\" fill=\"#000000\" fill-rule=\"evenodd\" fill-opacity=\"1\" /><path clip-path=\"url(#clip160)\" d=\"M2108.68 140.238 L2108.68 126.21 L2112.94 126.21 L2112.94 162.229 L2108.68 162.229 L2108.68 158.34 Q2107.34 160.655 2105.28 161.789 Q2103.24 162.9 2100.37 162.9 Q2095.67 162.9 2092.71 159.15 Q2089.77 155.4 2089.77 149.289 Q2089.77 143.178 2092.71 139.428 Q2095.67 135.678 2100.37 135.678 Q2103.24 135.678 2105.28 136.812 Q2107.34 137.923 2108.68 140.238 M2094.17 149.289 Q2094.17 153.988 2096.09 156.673 Q2098.03 159.335 2101.41 159.335 Q2104.79 159.335 2106.73 156.673 Q2108.68 153.988 2108.68 149.289 Q2108.68 144.59 2106.73 141.928 Q2104.79 139.243 2101.41 139.243 Q2098.03 139.243 2096.09 141.928 Q2094.17 144.59 2094.17 149.289 Z\" fill=\"#000000\" fill-rule=\"evenodd\" fill-opacity=\"1\" /><path clip-path=\"url(#clip160)\" d=\"M2121.27 151.997 L2121.27 136.303 L2125.53 136.303 L2125.53 151.835 Q2125.53 155.516 2126.97 157.368 Q2128.4 159.196 2131.27 159.196 Q2134.72 159.196 2136.71 156.997 Q2138.73 154.798 2138.73 151.002 L2138.73 136.303 L2142.98 136.303 L2142.98 162.229 L2138.73 162.229 L2138.73 158.247 Q2137.17 160.608 2135.11 161.766 Q2133.08 162.9 2130.37 162.9 Q2125.9 162.9 2123.59 160.122 Q2121.27 157.344 2121.27 151.997 M2131.99 135.678 L2131.99 135.678 Z\" fill=\"#000000\" fill-rule=\"evenodd\" fill-opacity=\"1\" /><path clip-path=\"url(#clip160)\" d=\"M2163.54 149.196 Q2158.38 149.196 2156.39 150.377 Q2154.4 151.557 2154.4 154.405 Q2154.4 156.673 2155.88 158.016 Q2157.38 159.335 2159.95 159.335 Q2163.49 159.335 2165.62 156.835 Q2167.78 154.312 2167.78 150.145 L2167.78 149.196 L2163.54 149.196 M2172.04 147.437 L2172.04 162.229 L2167.78 162.229 L2167.78 158.293 Q2166.32 160.655 2164.14 161.789 Q2161.97 162.9 2158.82 162.9 Q2154.84 162.9 2152.48 160.678 Q2150.14 158.432 2150.14 154.682 Q2150.14 150.307 2153.05 148.085 Q2155.99 145.863 2161.8 145.863 L2167.78 145.863 L2167.78 145.446 Q2167.78 142.507 2165.83 140.909 Q2163.91 139.289 2160.42 139.289 Q2158.19 139.289 2156.09 139.821 Q2153.98 140.354 2152.04 141.419 L2152.04 137.483 Q2154.37 136.581 2156.57 136.141 Q2158.77 135.678 2160.85 135.678 Q2166.48 135.678 2169.26 138.594 Q2172.04 141.511 2172.04 147.437 Z\" fill=\"#000000\" fill-rule=\"evenodd\" fill-opacity=\"1\" /><path clip-path=\"url(#clip160)\" d=\"M2180.81 126.21 L2185.07 126.21 L2185.07 162.229 L2180.81 162.229 L2180.81 126.21 Z\" fill=\"#000000\" fill-rule=\"evenodd\" fill-opacity=\"1\" /><path clip-path=\"url(#clip160)\" d=\"M2209.23 127.669 L2213.91 127.669 L2213.91 158.293 L2230.74 158.293 L2230.74 162.229 L2209.23 162.229 L2209.23 127.669 Z\" fill=\"#000000\" fill-rule=\"evenodd\" fill-opacity=\"1\" /><path clip-path=\"url(#clip160)\" d=\"M2240.32 131.511 L2240.32 144.497 L2246.2 144.497 Q2249.47 144.497 2251.25 142.807 Q2253.03 141.118 2253.03 137.993 Q2253.03 134.891 2251.25 133.201 Q2249.47 131.511 2246.2 131.511 L2240.32 131.511 M2235.65 127.669 L2246.2 127.669 Q2252.01 127.669 2254.97 130.307 Q2257.96 132.923 2257.96 137.993 Q2257.96 143.108 2254.97 145.724 Q2252.01 148.34 2246.2 148.34 L2240.32 148.34 L2240.32 162.229 L2235.65 162.229 L2235.65 127.669 Z\" fill=\"#000000\" fill-rule=\"evenodd\" fill-opacity=\"1\" /></svg>\n"
      ]
     },
     "execution_count": 114,
     "metadata": {},
     "output_type": "execute_result"
    }
   ],
   "source": [
    "hist_ind = histogram(h2_distr_ind, normalize = :probability,\n",
    "          label = \"Individual LP\", xlab = \"h2\", ylab = \"Proportion\", bins = -0.025:0.05:1.00)"
   ]
  },
  {
   "cell_type": "code",
   "execution_count": 89,
   "id": "c49f3201-505f-4ca3-ba10-b9f911d52a4f",
   "metadata": {},
   "outputs": [
    {
     "data": {
      "text/plain": [
       "univar_liteqtl_c (generic function with 1 method)"
      ]
     },
     "execution_count": 89,
     "metadata": {},
     "output_type": "execute_result"
    }
   ],
   "source": [
    "function univar_liteqtl_c(y0_j::AbstractArray{Float64, 1}, X0_intercept::AbstractArray{Float64, 2}, \n",
    "    X0_covar::AbstractArray{Float64, 2}, lambda0::AbstractArray{Float64, 1}; \n",
    "    prior_variance = 0.0, prior_sample_size = 0.0,\n",
    "    reml::Bool = false)\n",
    "\n",
    "    n = size(y0_j, 1);\n",
    "    y0 = reshape(y0_j, :, 1);\n",
    "\n",
    "    # estimate the heritability from the null model and apply it to the reweighting of all markers;\n",
    "    vc = fitlmm(y0, X0_intercept, lambda0, [prior_variance, prior_sample_size]; reml = reml);\n",
    "    sqrtw = sqrt.(abs.(makeweights(vc.h2, lambda0)));\n",
    "\n",
    "    # re-weight the data; then in theory, the observations are homoskedestic and independent.\n",
    "    wy0 = rowMultiply(y0, sqrtw);\n",
    "    wX0_intercept = rowMultiply(X0_intercept, sqrtw);\n",
    "    wX0_covar = rowMultiply(X0_covar, sqrtw);\n",
    "\n",
    "    R = computeR_LMM(wy0, wX0_covar, wX0_intercept);\n",
    "    threaded_map!(r2lod, R, n; dims = 2);\n",
    "\n",
    "    return (R = R, h2 = vc.h2); # results will be p-by-1, i.e. all LOD scores for the j-th trait and p markers\n",
    "\n",
    "end"
   ]
  },
  {
   "cell_type": "code",
   "execution_count": 90,
   "id": "fb64287e-fbb9-42a7-b8eb-6b6ab9f2b9ed",
   "metadata": {},
   "outputs": [
    {
     "data": {
      "text/plain": [
       "bulkscan_null_c (generic function with 1 method)"
      ]
     },
     "execution_count": 90,
     "metadata": {},
     "output_type": "execute_result"
    }
   ],
   "source": [
    "function bulkscan_null_c(Y::Array{Float64, 2}, G::Array{Float64, 2}, K::Array{Float64, 2};\n",
    "                   nb::Int64 = Threads.nthreads(), \n",
    "                   nt_blas::Int64 = 1, prior_variance = 1.0, prior_sample_size = 0.0,\n",
    "                   reml::Bool = false)\n",
    "\n",
    "\n",
    "    m = size(Y, 2);\n",
    "    p = size(G, 2);\n",
    "\n",
    "    BLAS.set_num_threads(nt_blas);\n",
    "\n",
    "    # rotate data\n",
    "    (Y0, X0, lambda0) = transform_rotation(Y, G, K);\n",
    "    X0_intercept = reshape(X0[:, 1], :, 1);\n",
    "    X0_covar = X0[:, 2:end];\n",
    "\n",
    "    # distribute the `m` traits equally to every block\n",
    "    (len, rem) = divrem(m, nb);\n",
    "\n",
    "    results = Array{Array{Float64, 2}, 1}(undef, nb);\n",
    "    h2_null_list = zeros(m);\n",
    "\n",
    "    Threads.@threads for t = 1:nb # so the N blocks will share the (nthreads - N) BLAS threads\n",
    "\n",
    "        lods_currBlock = Array{Float64, 2}(undef, p, len);\n",
    "\n",
    "        # process every trait in the block by a @simd loop \n",
    "        @simd for i = 1:len\n",
    "            j = i+(t-1)*len;\n",
    "\n",
    "            outputs = univar_liteqtl_c(Y0[:, j], X0_intercept, X0_covar, lambda0; \n",
    "                                                              prior_variance = prior_variance, prior_sample_size = prior_sample_size,\n",
    "                                                              reml = reml);\n",
    "            @inbounds lods_currBlock[:, i] = outputs.R;\n",
    "            @inbounds h2_null_list[j] = outputs.h2 \n",
    "        end\n",
    "\n",
    "        results[t] = lods_currBlock;\n",
    "\n",
    "    end\n",
    "\n",
    "    LODs_all = reduce(hcat, results);\n",
    "\n",
    "    # if no remainder as the result of blocking, no remaining traits need to be scanned\n",
    "    if rem == 0\n",
    "        return LODs_all\n",
    "    end\n",
    "        \n",
    "    # else, process up the remaining traits\n",
    "    lods_remBlock = Array{Float64, 2}(undef, p, rem);\n",
    "\n",
    "    for i in 1:rem\n",
    "\n",
    "        j = m-rem+i;\n",
    "\n",
    "        outputs = univar_liteqtl_c(Y0[:, j], X0_intercept, X0_covar, lambda0;\n",
    "                   reml = reml);\n",
    "        \n",
    "        lods_remBlock[:, i] = outputs.R;\n",
    "        h2_null_list[j] = outputs.h2;\n",
    "\n",
    "    end\n",
    "\n",
    "    LODs_all = hcat(LODs_all, lods_remBlock);\n",
    "\n",
    "    return (L = LODs_all, h2_null_list = h2_null_list)\n",
    "\n",
    "end"
   ]
  },
  {
   "cell_type": "code",
   "execution_count": 91,
   "id": "c45c9f04-1fb0-499a-b99a-39865f7c94d0",
   "metadata": {},
   "outputs": [
    {
     "ename": "LoadError",
     "evalue": "TaskFailedException\n\n\u001b[91m    nested task error: \u001b[39mInterruptException:\n    Stacktrace:\n     [1] \u001b[0m\u001b[1minner_mapslices!\u001b[22m\u001b[0m\u001b[1m(\u001b[22m\u001b[90msafe_for_reuse\u001b[39m::\u001b[0mBool, \u001b[90mindices\u001b[39m::\u001b[0mBase.Iterators.Drop\u001b[90m{CartesianIndices{1, Tuple{Base.OneTo{Int64}}}}\u001b[39m, \u001b[90mnidx\u001b[39m::\u001b[0mInt64, \u001b[90midx\u001b[39m::\u001b[0mVector\u001b[90m{Any}\u001b[39m, \u001b[90motherdims\u001b[39m::\u001b[0mVector\u001b[90m{Int64}\u001b[39m, \u001b[90mridx\u001b[39m::\u001b[0mVector\u001b[90m{Any}\u001b[39m, \u001b[90mAslice\u001b[39m::\u001b[0mVector\u001b[90m{Float64}\u001b[39m, \u001b[90mA\u001b[39m::\u001b[0mMatrix\u001b[90m{Float64}\u001b[39m, \u001b[90mf\u001b[39m::\u001b[0mvar\"#26#28\", \u001b[90mR\u001b[39m::\u001b[0mMatrix\u001b[90m{Float64}\u001b[39m\u001b[0m\u001b[1m)\u001b[22m\n    \u001b[90m   @ \u001b[39m\u001b[90mBase\u001b[39m \u001b[90m./\u001b[39m\u001b[90m\u001b[4mabstractarray.jl:2834\u001b[24m\u001b[39m\n     [2] \u001b[0m\u001b[1mmapslices\u001b[22m\u001b[0m\u001b[1m(\u001b[22m\u001b[90mf\u001b[39m::\u001b[0mvar\"#26#28\", \u001b[90mA\u001b[39m::\u001b[0mMatrix\u001b[90m{Float64}\u001b[39m; \u001b[90mdims\u001b[39m::\u001b[0mInt64\u001b[0m\u001b[1m)\u001b[22m\n    \u001b[90m   @ \u001b[39m\u001b[90mBase\u001b[39m \u001b[90m./\u001b[39m\u001b[90m\u001b[4mabstractarray.jl:2824\u001b[24m\u001b[39m\n     [3] \u001b[0m\u001b[1mcomputeR_LMM\u001b[22m\u001b[0m\u001b[1m(\u001b[22m\u001b[90mwY\u001b[39m::\u001b[0mMatrix\u001b[90m{Float64}\u001b[39m, \u001b[90mwX\u001b[39m::\u001b[0mMatrix\u001b[90m{Float64}\u001b[39m, \u001b[90mwIntercept\u001b[39m::\u001b[0mMatrix\u001b[90m{Float64}\u001b[39m\u001b[0m\u001b[1m)\u001b[22m\n    \u001b[90m   @ \u001b[39m\u001b[35mMain\u001b[39m \u001b[90m~/git/BulkLMM.jl/src/\u001b[39m\u001b[90m\u001b[4mbulkscan_helpers.jl:57\u001b[24m\u001b[39m\n     [4] \u001b[0m\u001b[1munivar_liteqtl_c\u001b[22m\u001b[0m\u001b[1m(\u001b[22m\u001b[90my0_j\u001b[39m::\u001b[0mVector\u001b[90m{Float64}\u001b[39m, \u001b[90mX0_intercept\u001b[39m::\u001b[0mMatrix\u001b[90m{Float64}\u001b[39m, \u001b[90mX0_covar\u001b[39m::\u001b[0mMatrix\u001b[90m{Float64}\u001b[39m, \u001b[90mlambda0\u001b[39m::\u001b[0mVector\u001b[90m{Float64}\u001b[39m; \u001b[90mprior_variance\u001b[39m::\u001b[0mFloat64, \u001b[90mprior_sample_size\u001b[39m::\u001b[0mFloat64, \u001b[90mreml\u001b[39m::\u001b[0mBool\u001b[0m\u001b[1m)\u001b[22m\n    \u001b[90m   @ \u001b[39m\u001b[35mMain\u001b[39m \u001b[90m./\u001b[39m\u001b[90m\u001b[4mIn[89]:18\u001b[24m\u001b[39m\n     [5] \u001b[0m\u001b[1mmacro expansion\u001b[22m\n    \u001b[90m   @ \u001b[39m\u001b[90m./\u001b[39m\u001b[90m\u001b[4mIn[90]:31\u001b[24m\u001b[39m\u001b[90m [inlined]\u001b[39m\n     [6] \u001b[0m\u001b[1mmacro expansion\u001b[22m\n    \u001b[90m   @ \u001b[39m\u001b[90m./\u001b[39m\u001b[90m\u001b[4msimdloop.jl:77\u001b[24m\u001b[39m\u001b[90m [inlined]\u001b[39m\n     [7] \u001b[0m\u001b[1mmacro expansion\u001b[22m\n    \u001b[90m   @ \u001b[39m\u001b[90m./\u001b[39m\u001b[90m\u001b[4mIn[90]:28\u001b[24m\u001b[39m\u001b[90m [inlined]\u001b[39m\n     [8] \u001b[0m\u001b[1m(::var\"#263#threadsfor_fun#71\"{Float64, Float64, Bool, Vector{Float64}, Vector{Matrix{Float64}}, Int64, Matrix{Float64}, Matrix{Float64}, Vector{Float64}, Matrix{Float64}, Int64, UnitRange{Int64}})\u001b[22m\u001b[0m\u001b[1m(\u001b[22m\u001b[90monethread\u001b[39m::\u001b[0mBool\u001b[0m\u001b[1m)\u001b[22m\n    \u001b[90m   @ \u001b[39m\u001b[35mMain\u001b[39m \u001b[90m./\u001b[39m\u001b[90m\u001b[4mthreadingconstructs.jl:85\u001b[24m\u001b[39m\n     [9] \u001b[0m\u001b[1m(::var\"#263#threadsfor_fun#71\"{Float64, Float64, Bool, Vector{Float64}, Vector{Matrix{Float64}}, Int64, Matrix{Float64}, Matrix{Float64}, Vector{Float64}, Matrix{Float64}, Int64, UnitRange{Int64}})\u001b[22m\u001b[0m\u001b[1m(\u001b[22m\u001b[0m\u001b[1m)\u001b[22m\n    \u001b[90m   @ \u001b[39m\u001b[35mMain\u001b[39m \u001b[90m./\u001b[39m\u001b[90m\u001b[4mthreadingconstructs.jl:52\u001b[24m\u001b[39m",
     "output_type": "error",
     "traceback": [
      "TaskFailedException\n\n\u001b[91m    nested task error: \u001b[39mInterruptException:\n    Stacktrace:\n     [1] \u001b[0m\u001b[1minner_mapslices!\u001b[22m\u001b[0m\u001b[1m(\u001b[22m\u001b[90msafe_for_reuse\u001b[39m::\u001b[0mBool, \u001b[90mindices\u001b[39m::\u001b[0mBase.Iterators.Drop\u001b[90m{CartesianIndices{1, Tuple{Base.OneTo{Int64}}}}\u001b[39m, \u001b[90mnidx\u001b[39m::\u001b[0mInt64, \u001b[90midx\u001b[39m::\u001b[0mVector\u001b[90m{Any}\u001b[39m, \u001b[90motherdims\u001b[39m::\u001b[0mVector\u001b[90m{Int64}\u001b[39m, \u001b[90mridx\u001b[39m::\u001b[0mVector\u001b[90m{Any}\u001b[39m, \u001b[90mAslice\u001b[39m::\u001b[0mVector\u001b[90m{Float64}\u001b[39m, \u001b[90mA\u001b[39m::\u001b[0mMatrix\u001b[90m{Float64}\u001b[39m, \u001b[90mf\u001b[39m::\u001b[0mvar\"#26#28\", \u001b[90mR\u001b[39m::\u001b[0mMatrix\u001b[90m{Float64}\u001b[39m\u001b[0m\u001b[1m)\u001b[22m\n    \u001b[90m   @ \u001b[39m\u001b[90mBase\u001b[39m \u001b[90m./\u001b[39m\u001b[90m\u001b[4mabstractarray.jl:2834\u001b[24m\u001b[39m\n     [2] \u001b[0m\u001b[1mmapslices\u001b[22m\u001b[0m\u001b[1m(\u001b[22m\u001b[90mf\u001b[39m::\u001b[0mvar\"#26#28\", \u001b[90mA\u001b[39m::\u001b[0mMatrix\u001b[90m{Float64}\u001b[39m; \u001b[90mdims\u001b[39m::\u001b[0mInt64\u001b[0m\u001b[1m)\u001b[22m\n    \u001b[90m   @ \u001b[39m\u001b[90mBase\u001b[39m \u001b[90m./\u001b[39m\u001b[90m\u001b[4mabstractarray.jl:2824\u001b[24m\u001b[39m\n     [3] \u001b[0m\u001b[1mcomputeR_LMM\u001b[22m\u001b[0m\u001b[1m(\u001b[22m\u001b[90mwY\u001b[39m::\u001b[0mMatrix\u001b[90m{Float64}\u001b[39m, \u001b[90mwX\u001b[39m::\u001b[0mMatrix\u001b[90m{Float64}\u001b[39m, \u001b[90mwIntercept\u001b[39m::\u001b[0mMatrix\u001b[90m{Float64}\u001b[39m\u001b[0m\u001b[1m)\u001b[22m\n    \u001b[90m   @ \u001b[39m\u001b[35mMain\u001b[39m \u001b[90m~/git/BulkLMM.jl/src/\u001b[39m\u001b[90m\u001b[4mbulkscan_helpers.jl:57\u001b[24m\u001b[39m\n     [4] \u001b[0m\u001b[1munivar_liteqtl_c\u001b[22m\u001b[0m\u001b[1m(\u001b[22m\u001b[90my0_j\u001b[39m::\u001b[0mVector\u001b[90m{Float64}\u001b[39m, \u001b[90mX0_intercept\u001b[39m::\u001b[0mMatrix\u001b[90m{Float64}\u001b[39m, \u001b[90mX0_covar\u001b[39m::\u001b[0mMatrix\u001b[90m{Float64}\u001b[39m, \u001b[90mlambda0\u001b[39m::\u001b[0mVector\u001b[90m{Float64}\u001b[39m; \u001b[90mprior_variance\u001b[39m::\u001b[0mFloat64, \u001b[90mprior_sample_size\u001b[39m::\u001b[0mFloat64, \u001b[90mreml\u001b[39m::\u001b[0mBool\u001b[0m\u001b[1m)\u001b[22m\n    \u001b[90m   @ \u001b[39m\u001b[35mMain\u001b[39m \u001b[90m./\u001b[39m\u001b[90m\u001b[4mIn[89]:18\u001b[24m\u001b[39m\n     [5] \u001b[0m\u001b[1mmacro expansion\u001b[22m\n    \u001b[90m   @ \u001b[39m\u001b[90m./\u001b[39m\u001b[90m\u001b[4mIn[90]:31\u001b[24m\u001b[39m\u001b[90m [inlined]\u001b[39m\n     [6] \u001b[0m\u001b[1mmacro expansion\u001b[22m\n    \u001b[90m   @ \u001b[39m\u001b[90m./\u001b[39m\u001b[90m\u001b[4msimdloop.jl:77\u001b[24m\u001b[39m\u001b[90m [inlined]\u001b[39m\n     [7] \u001b[0m\u001b[1mmacro expansion\u001b[22m\n    \u001b[90m   @ \u001b[39m\u001b[90m./\u001b[39m\u001b[90m\u001b[4mIn[90]:28\u001b[24m\u001b[39m\u001b[90m [inlined]\u001b[39m\n     [8] \u001b[0m\u001b[1m(::var\"#263#threadsfor_fun#71\"{Float64, Float64, Bool, Vector{Float64}, Vector{Matrix{Float64}}, Int64, Matrix{Float64}, Matrix{Float64}, Vector{Float64}, Matrix{Float64}, Int64, UnitRange{Int64}})\u001b[22m\u001b[0m\u001b[1m(\u001b[22m\u001b[90monethread\u001b[39m::\u001b[0mBool\u001b[0m\u001b[1m)\u001b[22m\n    \u001b[90m   @ \u001b[39m\u001b[35mMain\u001b[39m \u001b[90m./\u001b[39m\u001b[90m\u001b[4mthreadingconstructs.jl:85\u001b[24m\u001b[39m\n     [9] \u001b[0m\u001b[1m(::var\"#263#threadsfor_fun#71\"{Float64, Float64, Bool, Vector{Float64}, Vector{Matrix{Float64}}, Int64, Matrix{Float64}, Matrix{Float64}, Vector{Float64}, Matrix{Float64}, Int64, UnitRange{Int64}})\u001b[22m\u001b[0m\u001b[1m(\u001b[22m\u001b[0m\u001b[1m)\u001b[22m\n    \u001b[90m   @ \u001b[39m\u001b[35mMain\u001b[39m \u001b[90m./\u001b[39m\u001b[90m\u001b[4mthreadingconstructs.jl:52\u001b[24m\u001b[39m",
      "",
      "Stacktrace:",
      " [1] wait",
      "   @ ./task.jl:334 [inlined]",
      " [2] threading_run(func::Function)",
      "   @ Base.Threads ./threadingconstructs.jl:38",
      " [3] macro expansion",
      "   @ ./threadingconstructs.jl:97 [inlined]",
      " [4] bulkscan_null_c(Y::Matrix{Float64}, G::Matrix{Float64}, K::Matrix{Float64}; nb::Int64, nt_blas::Int64, prior_variance::Float64, prior_sample_size::Float64, reml::Bool)",
      "   @ Main ./In[90]:23",
      " [5] bulkscan_null_c",
      "   @ ./In[90]:7 [inlined]",
      " [6] top-level scope",
      "   @ ./timing.jl:220 [inlined]",
      " [7] top-level scope",
      "   @ ./In[91]:0"
     ]
    }
   ],
   "source": [
    "@time test_bulkscan_null = bulkscan_null_c(lp_strains_Y_hub, geno_strains, kinship_strains);"
   ]
  },
  {
   "cell_type": "code",
   "execution_count": 92,
   "id": "630bba80-031a-470e-b59a-030de714e203",
   "metadata": {},
   "outputs": [
    {
     "ename": "LoadError",
     "evalue": "UndefVarError: test_bulkscan_null not defined",
     "output_type": "error",
     "traceback": [
      "UndefVarError: test_bulkscan_null not defined",
      "",
      "Stacktrace:",
      " [1] top-level scope",
      "   @ In[92]:1"
     ]
    }
   ],
   "source": [
    "maximum(abs.(test_bulkscan_null.L .- bulkscan_results_null_strains))"
   ]
  },
  {
   "cell_type": "code",
   "execution_count": 93,
   "id": "b5cfb51e-e27e-48fe-b61f-41ea91f20bb8",
   "metadata": {},
   "outputs": [
    {
     "ename": "LoadError",
     "evalue": "UndefVarError: test_bulkscan_null not defined",
     "output_type": "error",
     "traceback": [
      "UndefVarError: test_bulkscan_null not defined",
      "",
      "Stacktrace:",
      " [1] top-level scope",
      "   @ In[93]:1"
     ]
    }
   ],
   "source": [
    "test_bulkscan_null.h2_null_list[lp_id]"
   ]
  },
  {
   "cell_type": "code",
   "execution_count": 94,
   "id": "abade3d3-c453-4819-92ee-8cdaa7224250",
   "metadata": {},
   "outputs": [
    {
     "data": {
      "text/plain": [
       "5.545009081338703e-16"
      ]
     },
     "execution_count": 94,
     "metadata": {},
     "output_type": "execute_result"
    }
   ],
   "source": [
    "scan_results_strains.h2_null"
   ]
  },
  {
   "cell_type": "code",
   "execution_count": 95,
   "id": "52838214-5ee2-44cf-a977-f885f75960ba",
   "metadata": {},
   "outputs": [
    {
     "data": {
      "text/plain": [
       "0.0"
      ]
     },
     "execution_count": 95,
     "metadata": {},
     "output_type": "execute_result"
    }
   ],
   "source": [
    "h2_distr_strains[lp_id]"
   ]
  },
  {
   "cell_type": "code",
   "execution_count": 96,
   "id": "189f0a8b-9d8d-4769-b102-4394b114f5af",
   "metadata": {},
   "outputs": [
    {
     "ename": "LoadError",
     "evalue": "UndefVarError: test_bulkscan_null not defined",
     "output_type": "error",
     "traceback": [
      "UndefVarError: test_bulkscan_null not defined",
      "",
      "Stacktrace:",
      " [1] top-level scope",
      "   @ In[96]:1"
     ]
    }
   ],
   "source": [
    "maximum(abs.(test_bulkscan_null.L .- bulkscan_results_null_strains))"
   ]
  },
  {
   "cell_type": "code",
   "execution_count": 97,
   "id": "779f3c2d-2b69-4972-b3c7-e87cd3d89954",
   "metadata": {},
   "outputs": [
    {
     "ename": "LoadError",
     "evalue": "UndefVarError: test_bulkscan_null not defined",
     "output_type": "error",
     "traceback": [
      "UndefVarError: test_bulkscan_null not defined",
      "",
      "Stacktrace:",
      " [1] top-level scope",
      "   @ In[97]:1"
     ]
    }
   ],
   "source": [
    "hcat(bulkscan_results_strains[3][:, lp_id], test_bulkscan_null.L[:, lp_id])"
   ]
  },
  {
   "cell_type": "code",
   "execution_count": 116,
   "id": "0a275ff1-3d82-435a-9d2c-686d8ba4cb37",
   "metadata": {},
   "outputs": [],
   "source": [
    "(lp_strains_y0, X0, lambda0) = transform_rotation(lp_strains_y_hub, geno_strains, kinship_strains);"
   ]
  },
  {
   "cell_type": "code",
   "execution_count": 120,
   "id": "955f48d0-5528-4312-a216-14d2d6a54e71",
   "metadata": {},
   "outputs": [
    {
     "data": {
      "text/plain": [
       "0.6011922559652536"
      ]
     },
     "execution_count": 120,
     "metadata": {},
     "output_type": "execute_result"
    }
   ],
   "source": [
    "scan_results_strains_hub.h2_null"
   ]
  },
  {
   "cell_type": "code",
   "execution_count": 136,
   "id": "4dc5aa11-b47e-42c8-ad4c-bba20de68d21",
   "metadata": {},
   "outputs": [],
   "source": [
    "test = bulkscan_null_grid(lp_strains_y_hub, geno_strains, kinship_strains, vcat(grid_list, scan_results_strains_hub.h2_null));"
   ]
  },
  {
   "cell_type": "code",
   "execution_count": 137,
   "id": "5e461a4a-640a-4d49-8b39-3f1f02323a67",
   "metadata": {},
   "outputs": [
    {
     "data": {
      "text/plain": [
       "7321×3 Matrix{Float64}:\n",
       " 0.00255342  0.106625  0.106625\n",
       " 0.00255342  0.106625  0.106625\n",
       " 0.00255342  0.106625  0.106625\n",
       " 0.00255342  0.106625  0.106625\n",
       " 0.00255342  0.106625  0.106625\n",
       " 0.00255342  0.106625  0.106625\n",
       " 0.00255342  0.106625  0.106625\n",
       " 0.00255342  0.106625  0.106625\n",
       " 0.00255342  0.106625  0.106625\n",
       " 0.00255342  0.106625  0.106625\n",
       " 0.00255342  0.106625  0.106625\n",
       " 0.00255342  0.106625  0.106625\n",
       " 0.00293048  0.110276  0.110276\n",
       " ⋮                     \n",
       " 1.31237     1.0168    1.0168\n",
       " 1.31237     1.0168    1.0168\n",
       " 1.31237     1.0168    1.0168\n",
       " 1.238       0.965602  0.965602\n",
       " 1.11303     0.825586  0.825586\n",
       " 1.11303     0.825586  0.825586\n",
       " 1.18718     0.876094  0.876094\n",
       " 1.33117     0.945266  0.945266\n",
       " 1.18718     0.876094  0.876094\n",
       " 1.33117     0.945266  0.945266\n",
       " 0.923137    0.556789  0.556789\n",
       " 0.923137    0.556789  0.556789"
      ]
     },
     "execution_count": 137,
     "metadata": {},
     "output_type": "execute_result"
    }
   ],
   "source": [
    "test_h2_0 = weighted_liteqtl(lp_strains_y0, X0, lambda0, 0.0);\n",
    "test_h2_06 = weighted_liteqtl(lp_strains_y0, X0, lambda0, scan_results_strains_hub.h2_null);\n",
    "hcat(test_h2_0, test_h2_06, scan_results_strains_hub.lod)"
   ]
  },
  {
   "cell_type": "code",
   "execution_count": 100,
   "id": "09944299-3761-49b3-95ea-bc4ba8c681d1",
   "metadata": {},
   "outputs": [
    {
     "ename": "LoadError",
     "evalue": "UndefVarError: test_bulkscan_null not defined",
     "output_type": "error",
     "traceback": [
      "UndefVarError: test_bulkscan_null not defined",
      "",
      "Stacktrace:",
      " [1] top-level scope",
      "   @ In[100]:1"
     ]
    }
   ],
   "source": [
    "maximum(abs.(bulkscan_results_strains[3][:, lp_id].- test_bulkscan_null.L[:, lp_id]))"
   ]
  },
  {
   "cell_type": "code",
   "execution_count": 101,
   "id": "6da6331e-f022-4d08-96b1-bbc9b7cf5e5e",
   "metadata": {},
   "outputs": [
    {
     "data": {
      "text/plain": [
       "0.0"
      ]
     },
     "execution_count": 101,
     "metadata": {},
     "output_type": "execute_result"
    }
   ],
   "source": [
    "h2_distr_strains[lp_id]"
   ]
  },
  {
   "cell_type": "code",
   "execution_count": 102,
   "id": "7f5128c5-f1cd-41ce-8fe7-b775aee95629",
   "metadata": {},
   "outputs": [
    {
     "ename": "LoadError",
     "evalue": "UndefVarError: test_bulkscan_null not defined",
     "output_type": "error",
     "traceback": [
      "UndefVarError: test_bulkscan_null not defined",
      "",
      "Stacktrace:",
      " [1] top-level scope",
      "   @ In[102]:1"
     ]
    }
   ],
   "source": [
    "hcat(h2_distr_strains, round.(test_bulkscan_null.h2_null_list; digits = 2))"
   ]
  },
  {
   "cell_type": "code",
   "execution_count": 103,
   "id": "768dd759-ae2d-4a9c-bc59-836e8591704d",
   "metadata": {},
   "outputs": [
    {
     "ename": "LoadError",
     "evalue": "UndefVarError: test_bulkscan_null not defined",
     "output_type": "error",
     "traceback": [
      "UndefVarError: test_bulkscan_null not defined",
      "",
      "Stacktrace:",
      " [1] top-level scope",
      "   @ In[103]:1"
     ]
    }
   ],
   "source": [
    "mean(abs.(h2_distr_strains .- test_bulkscan_null.h2_null_list))"
   ]
  },
  {
   "cell_type": "code",
   "execution_count": 104,
   "id": "a6efe2fe-a920-4b40-8fc1-a0f86fc9fd45",
   "metadata": {},
   "outputs": [
    {
     "data": {
      "text/plain": [
       "0.706558370839386"
      ]
     },
     "execution_count": 104,
     "metadata": {},
     "output_type": "execute_result"
    }
   ],
   "source": [
    "scan(reshape(lp_strains_Y_hub[:, 6], :, 1), geno_strains, kinship_strains).h2_null"
   ]
  },
  {
   "cell_type": "code",
   "execution_count": 105,
   "id": "d6f5e0d7-12a8-4248-b60d-9cae9e182f1d",
   "metadata": {},
   "outputs": [
    {
     "data": {
      "image/svg+xml": [
       "<?xml version=\"1.0\" encoding=\"utf-8\"?>\n",
       "<svg xmlns=\"http://www.w3.org/2000/svg\" xmlns:xlink=\"http://www.w3.org/1999/xlink\" width=\"600\" height=\"400\" viewBox=\"0 0 2400 1600\">\n",
       "<defs>\n",
       "  <clipPath id=\"clip120\">\n",
       "    <rect x=\"0\" y=\"0\" width=\"2400\" height=\"1600\"/>\n",
       "  </clipPath>\n",
       "</defs>\n",
       "<path clip-path=\"url(#clip120)\" d=\"\n",
       "M0 1600 L2400 1600 L2400 0 L0 0  Z\n",
       "  \" fill=\"#ffffff\" fill-rule=\"evenodd\" fill-opacity=\"1\"/>\n",
       "<defs>\n",
       "  <clipPath id=\"clip121\">\n",
       "    <rect x=\"480\" y=\"0\" width=\"1681\" height=\"1600\"/>\n",
       "  </clipPath>\n",
       "</defs>\n",
       "<path clip-path=\"url(#clip120)\" d=\"\n",
       "M219.866 1423.18 L2352.76 1423.18 L2352.76 47.2441 L219.866 47.2441  Z\n",
       "  \" fill=\"#ffffff\" fill-rule=\"evenodd\" fill-opacity=\"1\"/>\n",
       "<defs>\n",
       "  <clipPath id=\"clip122\">\n",
       "    <rect x=\"219\" y=\"47\" width=\"2134\" height=\"1377\"/>\n",
       "  </clipPath>\n",
       "</defs>\n",
       "<polyline clip-path=\"url(#clip122)\" style=\"stroke:#000000; stroke-linecap:round; stroke-linejoin:round; stroke-width:2; stroke-opacity:0.1; fill:none\" points=\"\n",
       "  387.133,1423.18 387.133,47.2441 \n",
       "  \"/>\n",
       "<polyline clip-path=\"url(#clip122)\" style=\"stroke:#000000; stroke-linecap:round; stroke-linejoin:round; stroke-width:2; stroke-opacity:0.1; fill:none\" points=\"\n",
       "  786.768,1423.18 786.768,47.2441 \n",
       "  \"/>\n",
       "<polyline clip-path=\"url(#clip122)\" style=\"stroke:#000000; stroke-linecap:round; stroke-linejoin:round; stroke-width:2; stroke-opacity:0.1; fill:none\" points=\"\n",
       "  1186.4,1423.18 1186.4,47.2441 \n",
       "  \"/>\n",
       "<polyline clip-path=\"url(#clip122)\" style=\"stroke:#000000; stroke-linecap:round; stroke-linejoin:round; stroke-width:2; stroke-opacity:0.1; fill:none\" points=\"\n",
       "  1586.04,1423.18 1586.04,47.2441 \n",
       "  \"/>\n",
       "<polyline clip-path=\"url(#clip122)\" style=\"stroke:#000000; stroke-linecap:round; stroke-linejoin:round; stroke-width:2; stroke-opacity:0.1; fill:none\" points=\"\n",
       "  1985.67,1423.18 1985.67,47.2441 \n",
       "  \"/>\n",
       "<polyline clip-path=\"url(#clip120)\" style=\"stroke:#000000; stroke-linecap:round; stroke-linejoin:round; stroke-width:4; stroke-opacity:1; fill:none\" points=\"\n",
       "  219.866,1423.18 2352.76,1423.18 \n",
       "  \"/>\n",
       "<polyline clip-path=\"url(#clip120)\" style=\"stroke:#000000; stroke-linecap:round; stroke-linejoin:round; stroke-width:4; stroke-opacity:1; fill:none\" points=\"\n",
       "  387.133,1423.18 387.133,1404.28 \n",
       "  \"/>\n",
       "<polyline clip-path=\"url(#clip120)\" style=\"stroke:#000000; stroke-linecap:round; stroke-linejoin:round; stroke-width:4; stroke-opacity:1; fill:none\" points=\"\n",
       "  786.768,1423.18 786.768,1404.28 \n",
       "  \"/>\n",
       "<polyline clip-path=\"url(#clip120)\" style=\"stroke:#000000; stroke-linecap:round; stroke-linejoin:round; stroke-width:4; stroke-opacity:1; fill:none\" points=\"\n",
       "  1186.4,1423.18 1186.4,1404.28 \n",
       "  \"/>\n",
       "<polyline clip-path=\"url(#clip120)\" style=\"stroke:#000000; stroke-linecap:round; stroke-linejoin:round; stroke-width:4; stroke-opacity:1; fill:none\" points=\"\n",
       "  1586.04,1423.18 1586.04,1404.28 \n",
       "  \"/>\n",
       "<polyline clip-path=\"url(#clip120)\" style=\"stroke:#000000; stroke-linecap:round; stroke-linejoin:round; stroke-width:4; stroke-opacity:1; fill:none\" points=\"\n",
       "  1985.67,1423.18 1985.67,1404.28 \n",
       "  \"/>\n",
       "<path clip-path=\"url(#clip120)\" d=\"M364.518 1454.1 Q360.907 1454.1 359.078 1457.66 Q357.272 1461.2 357.272 1468.33 Q357.272 1475.44 359.078 1479.01 Q360.907 1482.55 364.518 1482.55 Q368.152 1482.55 369.957 1479.01 Q371.786 1475.44 371.786 1468.33 Q371.786 1461.2 369.957 1457.66 Q368.152 1454.1 364.518 1454.1 M364.518 1450.39 Q370.328 1450.39 373.383 1455 Q376.462 1459.58 376.462 1468.33 Q376.462 1477.06 373.383 1481.67 Q370.328 1486.25 364.518 1486.25 Q358.708 1486.25 355.629 1481.67 Q352.573 1477.06 352.573 1468.33 Q352.573 1459.58 355.629 1455 Q358.708 1450.39 364.518 1450.39 Z\" fill=\"#000000\" fill-rule=\"evenodd\" fill-opacity=\"1\" /><path clip-path=\"url(#clip120)\" d=\"M384.68 1479.7 L389.564 1479.7 L389.564 1485.58 L384.68 1485.58 L384.68 1479.7 Z\" fill=\"#000000\" fill-rule=\"evenodd\" fill-opacity=\"1\" /><path clip-path=\"url(#clip120)\" d=\"M409.749 1454.1 Q406.138 1454.1 404.309 1457.66 Q402.504 1461.2 402.504 1468.33 Q402.504 1475.44 404.309 1479.01 Q406.138 1482.55 409.749 1482.55 Q413.383 1482.55 415.189 1479.01 Q417.017 1475.44 417.017 1468.33 Q417.017 1461.2 415.189 1457.66 Q413.383 1454.1 409.749 1454.1 M409.749 1450.39 Q415.559 1450.39 418.615 1455 Q421.693 1459.58 421.693 1468.33 Q421.693 1477.06 418.615 1481.67 Q415.559 1486.25 409.749 1486.25 Q403.939 1486.25 400.86 1481.67 Q397.805 1477.06 397.805 1468.33 Q397.805 1459.58 400.86 1455 Q403.939 1450.39 409.749 1450.39 Z\" fill=\"#000000\" fill-rule=\"evenodd\" fill-opacity=\"1\" /><path clip-path=\"url(#clip120)\" d=\"M764.951 1454.1 Q761.34 1454.1 759.511 1457.66 Q757.706 1461.2 757.706 1468.33 Q757.706 1475.44 759.511 1479.01 Q761.34 1482.55 764.951 1482.55 Q768.585 1482.55 770.391 1479.01 Q772.219 1475.44 772.219 1468.33 Q772.219 1461.2 770.391 1457.66 Q768.585 1454.1 764.951 1454.1 M764.951 1450.39 Q770.761 1450.39 773.817 1455 Q776.895 1459.58 776.895 1468.33 Q776.895 1477.06 773.817 1481.67 Q770.761 1486.25 764.951 1486.25 Q759.141 1486.25 756.062 1481.67 Q753.006 1477.06 753.006 1468.33 Q753.006 1459.58 756.062 1455 Q759.141 1450.39 764.951 1450.39 Z\" fill=\"#000000\" fill-rule=\"evenodd\" fill-opacity=\"1\" /><path clip-path=\"url(#clip120)\" d=\"M785.113 1479.7 L789.997 1479.7 L789.997 1485.58 L785.113 1485.58 L785.113 1479.7 Z\" fill=\"#000000\" fill-rule=\"evenodd\" fill-opacity=\"1\" /><path clip-path=\"url(#clip120)\" d=\"M804.21 1481.64 L820.529 1481.64 L820.529 1485.58 L798.585 1485.58 L798.585 1481.64 Q801.247 1478.89 805.83 1474.26 Q810.437 1469.61 811.617 1468.27 Q813.863 1465.74 814.742 1464.01 Q815.645 1462.25 815.645 1460.56 Q815.645 1457.8 813.701 1456.07 Q811.779 1454.33 808.677 1454.33 Q806.478 1454.33 804.025 1455.09 Q801.594 1455.86 798.816 1457.41 L798.816 1452.69 Q801.64 1451.55 804.094 1450.97 Q806.548 1450.39 808.585 1450.39 Q813.955 1450.39 817.15 1453.08 Q820.344 1455.77 820.344 1460.26 Q820.344 1462.39 819.534 1464.31 Q818.747 1466.2 816.64 1468.8 Q816.062 1469.47 812.96 1472.69 Q809.858 1475.88 804.21 1481.64 Z\" fill=\"#000000\" fill-rule=\"evenodd\" fill-opacity=\"1\" /><path clip-path=\"url(#clip120)\" d=\"M1163.54 1454.1 Q1159.93 1454.1 1158.1 1457.66 Q1156.3 1461.2 1156.3 1468.33 Q1156.3 1475.44 1158.1 1479.01 Q1159.93 1482.55 1163.54 1482.55 Q1167.18 1482.55 1168.98 1479.01 Q1170.81 1475.44 1170.81 1468.33 Q1170.81 1461.2 1168.98 1457.66 Q1167.18 1454.1 1163.54 1454.1 M1163.54 1450.39 Q1169.35 1450.39 1172.41 1455 Q1175.49 1459.58 1175.49 1468.33 Q1175.49 1477.06 1172.41 1481.67 Q1169.35 1486.25 1163.54 1486.25 Q1157.73 1486.25 1154.65 1481.67 Q1151.6 1477.06 1151.6 1468.33 Q1151.6 1459.58 1154.65 1455 Q1157.73 1450.39 1163.54 1450.39 Z\" fill=\"#000000\" fill-rule=\"evenodd\" fill-opacity=\"1\" /><path clip-path=\"url(#clip120)\" d=\"M1183.71 1479.7 L1188.59 1479.7 L1188.59 1485.58 L1183.71 1485.58 L1183.71 1479.7 Z\" fill=\"#000000\" fill-rule=\"evenodd\" fill-opacity=\"1\" /><path clip-path=\"url(#clip120)\" d=\"M1211.62 1455.09 L1199.82 1473.54 L1211.62 1473.54 L1211.62 1455.09 M1210.4 1451.02 L1216.27 1451.02 L1216.27 1473.54 L1221.21 1473.54 L1221.21 1477.43 L1216.27 1477.43 L1216.27 1485.58 L1211.62 1485.58 L1211.62 1477.43 L1196.02 1477.43 L1196.02 1472.92 L1210.4 1451.02 Z\" fill=\"#000000\" fill-rule=\"evenodd\" fill-opacity=\"1\" /><path clip-path=\"url(#clip120)\" d=\"M1563.34 1454.1 Q1559.73 1454.1 1557.9 1457.66 Q1556.1 1461.2 1556.1 1468.33 Q1556.1 1475.44 1557.9 1479.01 Q1559.73 1482.55 1563.34 1482.55 Q1566.97 1482.55 1568.78 1479.01 Q1570.61 1475.44 1570.61 1468.33 Q1570.61 1461.2 1568.78 1457.66 Q1566.97 1454.1 1563.34 1454.1 M1563.34 1450.39 Q1569.15 1450.39 1572.21 1455 Q1575.28 1459.58 1575.28 1468.33 Q1575.28 1477.06 1572.21 1481.67 Q1569.15 1486.25 1563.34 1486.25 Q1557.53 1486.25 1554.45 1481.67 Q1551.4 1477.06 1551.4 1468.33 Q1551.4 1459.58 1554.45 1455 Q1557.53 1450.39 1563.34 1450.39 Z\" fill=\"#000000\" fill-rule=\"evenodd\" fill-opacity=\"1\" /><path clip-path=\"url(#clip120)\" d=\"M1583.5 1479.7 L1588.39 1479.7 L1588.39 1485.58 L1583.5 1485.58 L1583.5 1479.7 Z\" fill=\"#000000\" fill-rule=\"evenodd\" fill-opacity=\"1\" /><path clip-path=\"url(#clip120)\" d=\"M1609.15 1466.44 Q1606 1466.44 1604.15 1468.59 Q1602.32 1470.74 1602.32 1474.49 Q1602.32 1478.22 1604.15 1480.39 Q1606 1482.55 1609.15 1482.55 Q1612.3 1482.55 1614.13 1480.39 Q1615.98 1478.22 1615.98 1474.49 Q1615.98 1470.74 1614.13 1468.59 Q1612.3 1466.44 1609.15 1466.44 M1618.43 1451.78 L1618.43 1456.04 Q1616.67 1455.21 1614.87 1454.77 Q1613.09 1454.33 1611.33 1454.33 Q1606.7 1454.33 1604.24 1457.45 Q1601.81 1460.58 1601.47 1466.9 Q1602.83 1464.89 1604.89 1463.82 Q1606.95 1462.73 1609.43 1462.73 Q1614.64 1462.73 1617.65 1465.9 Q1620.68 1469.05 1620.68 1474.49 Q1620.68 1479.82 1617.53 1483.03 Q1614.38 1486.25 1609.15 1486.25 Q1603.15 1486.25 1599.98 1481.67 Q1596.81 1477.06 1596.81 1468.33 Q1596.81 1460.14 1600.7 1455.28 Q1604.59 1450.39 1611.14 1450.39 Q1612.9 1450.39 1614.68 1450.74 Q1616.49 1451.09 1618.43 1451.78 Z\" fill=\"#000000\" fill-rule=\"evenodd\" fill-opacity=\"1\" /><path clip-path=\"url(#clip120)\" d=\"M1963.1 1454.1 Q1959.49 1454.1 1957.66 1457.66 Q1955.86 1461.2 1955.86 1468.33 Q1955.86 1475.44 1957.66 1479.01 Q1959.49 1482.55 1963.1 1482.55 Q1966.74 1482.55 1968.54 1479.01 Q1970.37 1475.44 1970.37 1468.33 Q1970.37 1461.2 1968.54 1457.66 Q1966.74 1454.1 1963.1 1454.1 M1963.1 1450.39 Q1968.91 1450.39 1971.97 1455 Q1975.05 1459.58 1975.05 1468.33 Q1975.05 1477.06 1971.97 1481.67 Q1968.91 1486.25 1963.1 1486.25 Q1957.29 1486.25 1954.21 1481.67 Q1951.16 1477.06 1951.16 1468.33 Q1951.16 1459.58 1954.21 1455 Q1957.29 1450.39 1963.1 1450.39 Z\" fill=\"#000000\" fill-rule=\"evenodd\" fill-opacity=\"1\" /><path clip-path=\"url(#clip120)\" d=\"M1983.26 1479.7 L1988.15 1479.7 L1988.15 1485.58 L1983.26 1485.58 L1983.26 1479.7 Z\" fill=\"#000000\" fill-rule=\"evenodd\" fill-opacity=\"1\" /><path clip-path=\"url(#clip120)\" d=\"M2008.33 1469.17 Q2005 1469.17 2003.08 1470.95 Q2001.18 1472.73 2001.18 1475.86 Q2001.18 1478.98 2003.08 1480.77 Q2005 1482.55 2008.33 1482.55 Q2011.67 1482.55 2013.59 1480.77 Q2015.51 1478.96 2015.51 1475.86 Q2015.51 1472.73 2013.59 1470.95 Q2011.69 1469.17 2008.33 1469.17 M2003.66 1467.18 Q2000.65 1466.44 1998.96 1464.38 Q1997.29 1462.32 1997.29 1459.35 Q1997.29 1455.21 2000.23 1452.8 Q2003.19 1450.39 2008.33 1450.39 Q2013.5 1450.39 2016.44 1452.8 Q2019.38 1455.21 2019.38 1459.35 Q2019.38 1462.32 2017.69 1464.38 Q2016.02 1466.44 2013.03 1467.18 Q2016.41 1467.96 2018.29 1470.26 Q2020.19 1472.55 2020.19 1475.86 Q2020.19 1480.88 2017.11 1483.57 Q2014.05 1486.25 2008.33 1486.25 Q2002.62 1486.25 1999.54 1483.57 Q1996.48 1480.88 1996.48 1475.86 Q1996.48 1472.55 1998.38 1470.26 Q2000.28 1467.96 2003.66 1467.18 M2001.94 1459.79 Q2001.94 1462.48 2003.61 1463.98 Q2005.3 1465.49 2008.33 1465.49 Q2011.34 1465.49 2013.03 1463.98 Q2014.75 1462.48 2014.75 1459.79 Q2014.75 1457.11 2013.03 1455.6 Q2011.34 1454.1 2008.33 1454.1 Q2005.3 1454.1 2003.61 1455.6 Q2001.94 1457.11 2001.94 1459.79 Z\" fill=\"#000000\" fill-rule=\"evenodd\" fill-opacity=\"1\" /><path clip-path=\"url(#clip120)\" d=\"M1281 1546.53 L1281 1568.04 L1275.14 1568.04 L1275.14 1546.72 Q1275.14 1541.66 1273.17 1539.14 Q1271.19 1536.63 1267.25 1536.63 Q1262.5 1536.63 1259.77 1539.65 Q1257.03 1542.68 1257.03 1547.9 L1257.03 1568.04 L1251.14 1568.04 L1251.14 1518.52 L1257.03 1518.52 L1257.03 1537.93 Q1259.13 1534.72 1261.96 1533.13 Q1264.83 1531.54 1268.55 1531.54 Q1274.69 1531.54 1277.84 1535.36 Q1281 1539.14 1281 1546.53 Z\" fill=\"#000000\" fill-rule=\"evenodd\" fill-opacity=\"1\" /><path clip-path=\"url(#clip120)\" d=\"M1299.04 1562.63 L1321.48 1562.63 L1321.48 1568.04 L1291.31 1568.04 L1291.31 1562.63 Q1294.97 1558.85 1301.27 1552.48 Q1307.6 1546.08 1309.23 1544.24 Q1312.31 1540.77 1313.52 1538.38 Q1314.77 1535.96 1314.77 1533.64 Q1314.77 1529.85 1312.09 1527.46 Q1309.45 1525.08 1305.19 1525.08 Q1302.16 1525.08 1298.79 1526.13 Q1295.45 1527.18 1291.63 1529.31 L1291.63 1522.82 Q1295.51 1521.26 1298.88 1520.46 Q1302.26 1519.66 1305.06 1519.66 Q1312.44 1519.66 1316.83 1523.36 Q1321.23 1527.05 1321.23 1533.22 Q1321.23 1536.15 1320.11 1538.79 Q1319.03 1541.4 1316.13 1544.97 Q1315.34 1545.89 1311.07 1550.32 Q1306.81 1554.71 1299.04 1562.63 Z\" fill=\"#000000\" fill-rule=\"evenodd\" fill-opacity=\"1\" /><polyline clip-path=\"url(#clip122)\" style=\"stroke:#000000; stroke-linecap:round; stroke-linejoin:round; stroke-width:2; stroke-opacity:0.1; fill:none\" points=\"\n",
       "  219.866,1384.24 2352.76,1384.24 \n",
       "  \"/>\n",
       "<polyline clip-path=\"url(#clip122)\" style=\"stroke:#000000; stroke-linecap:round; stroke-linejoin:round; stroke-width:2; stroke-opacity:0.1; fill:none\" points=\"\n",
       "  219.866,1097.34 2352.76,1097.34 \n",
       "  \"/>\n",
       "<polyline clip-path=\"url(#clip122)\" style=\"stroke:#000000; stroke-linecap:round; stroke-linejoin:round; stroke-width:2; stroke-opacity:0.1; fill:none\" points=\"\n",
       "  219.866,810.448 2352.76,810.448 \n",
       "  \"/>\n",
       "<polyline clip-path=\"url(#clip122)\" style=\"stroke:#000000; stroke-linecap:round; stroke-linejoin:round; stroke-width:2; stroke-opacity:0.1; fill:none\" points=\"\n",
       "  219.866,523.552 2352.76,523.552 \n",
       "  \"/>\n",
       "<polyline clip-path=\"url(#clip122)\" style=\"stroke:#000000; stroke-linecap:round; stroke-linejoin:round; stroke-width:2; stroke-opacity:0.1; fill:none\" points=\"\n",
       "  219.866,236.657 2352.76,236.657 \n",
       "  \"/>\n",
       "<polyline clip-path=\"url(#clip120)\" style=\"stroke:#000000; stroke-linecap:round; stroke-linejoin:round; stroke-width:4; stroke-opacity:1; fill:none\" points=\"\n",
       "  219.866,1423.18 219.866,47.2441 \n",
       "  \"/>\n",
       "<polyline clip-path=\"url(#clip120)\" style=\"stroke:#000000; stroke-linecap:round; stroke-linejoin:round; stroke-width:4; stroke-opacity:1; fill:none\" points=\"\n",
       "  219.866,1384.24 238.764,1384.24 \n",
       "  \"/>\n",
       "<polyline clip-path=\"url(#clip120)\" style=\"stroke:#000000; stroke-linecap:round; stroke-linejoin:round; stroke-width:4; stroke-opacity:1; fill:none\" points=\"\n",
       "  219.866,1097.34 238.764,1097.34 \n",
       "  \"/>\n",
       "<polyline clip-path=\"url(#clip120)\" style=\"stroke:#000000; stroke-linecap:round; stroke-linejoin:round; stroke-width:4; stroke-opacity:1; fill:none\" points=\"\n",
       "  219.866,810.448 238.764,810.448 \n",
       "  \"/>\n",
       "<polyline clip-path=\"url(#clip120)\" style=\"stroke:#000000; stroke-linecap:round; stroke-linejoin:round; stroke-width:4; stroke-opacity:1; fill:none\" points=\"\n",
       "  219.866,523.552 238.764,523.552 \n",
       "  \"/>\n",
       "<polyline clip-path=\"url(#clip120)\" style=\"stroke:#000000; stroke-linecap:round; stroke-linejoin:round; stroke-width:4; stroke-opacity:1; fill:none\" points=\"\n",
       "  219.866,236.657 238.764,236.657 \n",
       "  \"/>\n",
       "<path clip-path=\"url(#clip120)\" d=\"M126.691 1370.04 Q123.08 1370.04 121.251 1373.6 Q119.445 1377.14 119.445 1384.27 Q119.445 1391.38 121.251 1394.94 Q123.08 1398.49 126.691 1398.49 Q130.325 1398.49 132.13 1394.94 Q133.959 1391.38 133.959 1384.27 Q133.959 1377.14 132.13 1373.6 Q130.325 1370.04 126.691 1370.04 M126.691 1366.33 Q132.501 1366.33 135.556 1370.94 Q138.635 1375.52 138.635 1384.27 Q138.635 1393 135.556 1397.61 Q132.501 1402.19 126.691 1402.19 Q120.88 1402.19 117.802 1397.61 Q114.746 1393 114.746 1384.27 Q114.746 1375.52 117.802 1370.94 Q120.88 1366.33 126.691 1366.33 Z\" fill=\"#000000\" fill-rule=\"evenodd\" fill-opacity=\"1\" /><path clip-path=\"url(#clip120)\" d=\"M146.853 1395.64 L151.737 1395.64 L151.737 1401.52 L146.853 1401.52 L146.853 1395.64 Z\" fill=\"#000000\" fill-rule=\"evenodd\" fill-opacity=\"1\" /><path clip-path=\"url(#clip120)\" d=\"M171.922 1370.04 Q168.311 1370.04 166.482 1373.6 Q164.677 1377.14 164.677 1384.27 Q164.677 1391.38 166.482 1394.94 Q168.311 1398.49 171.922 1398.49 Q175.556 1398.49 177.362 1394.94 Q179.19 1391.38 179.19 1384.27 Q179.19 1377.14 177.362 1373.6 Q175.556 1370.04 171.922 1370.04 M171.922 1366.33 Q177.732 1366.33 180.788 1370.94 Q183.866 1375.52 183.866 1384.27 Q183.866 1393 180.788 1397.61 Q177.732 1402.19 171.922 1402.19 Q166.112 1402.19 163.033 1397.61 Q159.978 1393 159.978 1384.27 Q159.978 1375.52 163.033 1370.94 Q166.112 1366.33 171.922 1366.33 Z\" fill=\"#000000\" fill-rule=\"evenodd\" fill-opacity=\"1\" /><path clip-path=\"url(#clip120)\" d=\"M128.288 1083.14 Q124.677 1083.14 122.848 1086.71 Q121.043 1090.25 121.043 1097.38 Q121.043 1104.48 122.848 1108.05 Q124.677 1111.59 128.288 1111.59 Q131.922 1111.59 133.728 1108.05 Q135.556 1104.48 135.556 1097.38 Q135.556 1090.25 133.728 1086.71 Q131.922 1083.14 128.288 1083.14 M128.288 1079.44 Q134.098 1079.44 137.154 1084.04 Q140.232 1088.63 140.232 1097.38 Q140.232 1106.1 137.154 1110.71 Q134.098 1115.29 128.288 1115.29 Q122.478 1115.29 119.399 1110.71 Q116.343 1106.1 116.343 1097.38 Q116.343 1088.63 119.399 1084.04 Q122.478 1079.44 128.288 1079.44 Z\" fill=\"#000000\" fill-rule=\"evenodd\" fill-opacity=\"1\" /><path clip-path=\"url(#clip120)\" d=\"M148.45 1108.74 L153.334 1108.74 L153.334 1114.62 L148.45 1114.62 L148.45 1108.74 Z\" fill=\"#000000\" fill-rule=\"evenodd\" fill-opacity=\"1\" /><path clip-path=\"url(#clip120)\" d=\"M167.547 1110.69 L183.866 1110.69 L183.866 1114.62 L161.922 1114.62 L161.922 1110.69 Q164.584 1107.93 169.167 1103.3 Q173.774 1098.65 174.954 1097.31 Q177.2 1094.79 178.079 1093.05 Q178.982 1091.29 178.982 1089.6 Q178.982 1086.85 177.038 1085.11 Q175.116 1083.37 172.014 1083.37 Q169.815 1083.37 167.362 1084.14 Q164.931 1084.9 162.153 1086.45 L162.153 1081.73 Q164.977 1080.6 167.431 1080.02 Q169.885 1079.44 171.922 1079.44 Q177.292 1079.44 180.487 1082.12 Q183.681 1084.81 183.681 1089.3 Q183.681 1091.43 182.871 1093.35 Q182.084 1095.25 179.977 1097.84 Q179.399 1098.51 176.297 1101.73 Q173.195 1104.92 167.547 1110.69 Z\" fill=\"#000000\" fill-rule=\"evenodd\" fill-opacity=\"1\" /><path clip-path=\"url(#clip120)\" d=\"M126.205 796.246 Q122.593 796.246 120.765 799.811 Q118.959 803.353 118.959 810.482 Q118.959 817.589 120.765 821.154 Q122.593 824.695 126.205 824.695 Q129.839 824.695 131.644 821.154 Q133.473 817.589 133.473 810.482 Q133.473 803.353 131.644 799.811 Q129.839 796.246 126.205 796.246 M126.205 792.543 Q132.015 792.543 135.07 797.149 Q138.149 801.732 138.149 810.482 Q138.149 819.209 135.07 823.816 Q132.015 828.399 126.205 828.399 Q120.394 828.399 117.316 823.816 Q114.26 819.209 114.26 810.482 Q114.26 801.732 117.316 797.149 Q120.394 792.543 126.205 792.543 Z\" fill=\"#000000\" fill-rule=\"evenodd\" fill-opacity=\"1\" /><path clip-path=\"url(#clip120)\" d=\"M146.366 821.848 L151.251 821.848 L151.251 827.728 L146.366 827.728 L146.366 821.848 Z\" fill=\"#000000\" fill-rule=\"evenodd\" fill-opacity=\"1\" /><path clip-path=\"url(#clip120)\" d=\"M174.283 797.242 L162.477 815.691 L174.283 815.691 L174.283 797.242 M173.056 793.168 L178.936 793.168 L178.936 815.691 L183.866 815.691 L183.866 819.579 L178.936 819.579 L178.936 827.728 L174.283 827.728 L174.283 819.579 L158.681 819.579 L158.681 815.066 L173.056 793.168 Z\" fill=\"#000000\" fill-rule=\"evenodd\" fill-opacity=\"1\" /><path clip-path=\"url(#clip120)\" d=\"M126.529 509.351 Q122.918 509.351 121.089 512.916 Q119.283 516.457 119.283 523.587 Q119.283 530.693 121.089 534.258 Q122.918 537.8 126.529 537.8 Q130.163 537.8 131.968 534.258 Q133.797 530.693 133.797 523.587 Q133.797 516.457 131.968 512.916 Q130.163 509.351 126.529 509.351 M126.529 505.647 Q132.339 505.647 135.394 510.254 Q138.473 514.837 138.473 523.587 Q138.473 532.314 135.394 536.92 Q132.339 541.504 126.529 541.504 Q120.718 541.504 117.64 536.92 Q114.584 532.314 114.584 523.587 Q114.584 514.837 117.64 510.254 Q120.718 505.647 126.529 505.647 Z\" fill=\"#000000\" fill-rule=\"evenodd\" fill-opacity=\"1\" /><path clip-path=\"url(#clip120)\" d=\"M146.691 534.953 L151.575 534.953 L151.575 540.832 L146.691 540.832 L146.691 534.953 Z\" fill=\"#000000\" fill-rule=\"evenodd\" fill-opacity=\"1\" /><path clip-path=\"url(#clip120)\" d=\"M172.339 521.689 Q169.19 521.689 167.339 523.842 Q165.51 525.994 165.51 529.744 Q165.51 533.471 167.339 535.647 Q169.19 537.8 172.339 537.8 Q175.487 537.8 177.315 535.647 Q179.167 533.471 179.167 529.744 Q179.167 525.994 177.315 523.842 Q175.487 521.689 172.339 521.689 M181.621 507.036 L181.621 511.295 Q179.862 510.462 178.056 510.022 Q176.274 509.582 174.514 509.582 Q169.885 509.582 167.431 512.707 Q165.001 515.832 164.653 522.152 Q166.019 520.138 168.079 519.073 Q170.139 517.985 172.616 517.985 Q177.825 517.985 180.834 521.156 Q183.866 524.305 183.866 529.744 Q183.866 535.068 180.718 538.286 Q177.57 541.504 172.339 541.504 Q166.343 541.504 163.172 536.92 Q160.001 532.314 160.001 523.587 Q160.001 515.393 163.89 510.532 Q167.778 505.647 174.329 505.647 Q176.089 505.647 177.871 505.994 Q179.676 506.342 181.621 507.036 Z\" fill=\"#000000\" fill-rule=\"evenodd\" fill-opacity=\"1\" /><path clip-path=\"url(#clip120)\" d=\"M126.783 222.456 Q123.172 222.456 121.343 226.02 Q119.538 229.562 119.538 236.692 Q119.538 243.798 121.343 247.363 Q123.172 250.905 126.783 250.905 Q130.417 250.905 132.223 247.363 Q134.052 243.798 134.052 236.692 Q134.052 229.562 132.223 226.02 Q130.417 222.456 126.783 222.456 M126.783 218.752 Q132.593 218.752 135.649 223.358 Q138.728 227.942 138.728 236.692 Q138.728 245.418 135.649 250.025 Q132.593 254.608 126.783 254.608 Q120.973 254.608 117.894 250.025 Q114.839 245.418 114.839 236.692 Q114.839 227.942 117.894 223.358 Q120.973 218.752 126.783 218.752 Z\" fill=\"#000000\" fill-rule=\"evenodd\" fill-opacity=\"1\" /><path clip-path=\"url(#clip120)\" d=\"M146.945 248.057 L151.829 248.057 L151.829 253.937 L146.945 253.937 L146.945 248.057 Z\" fill=\"#000000\" fill-rule=\"evenodd\" fill-opacity=\"1\" /><path clip-path=\"url(#clip120)\" d=\"M172.014 237.525 Q168.681 237.525 166.76 239.307 Q164.862 241.09 164.862 244.215 Q164.862 247.34 166.76 249.122 Q168.681 250.905 172.014 250.905 Q175.348 250.905 177.269 249.122 Q179.19 247.317 179.19 244.215 Q179.19 241.09 177.269 239.307 Q175.371 237.525 172.014 237.525 M167.339 235.534 Q164.329 234.794 162.64 232.733 Q160.973 230.673 160.973 227.71 Q160.973 223.567 163.913 221.159 Q166.876 218.752 172.014 218.752 Q177.176 218.752 180.116 221.159 Q183.056 223.567 183.056 227.71 Q183.056 230.673 181.366 232.733 Q179.7 234.794 176.714 235.534 Q180.093 236.321 181.968 238.613 Q183.866 240.905 183.866 244.215 Q183.866 249.238 180.788 251.923 Q177.732 254.608 172.014 254.608 Q166.297 254.608 163.218 251.923 Q160.163 249.238 160.163 244.215 Q160.163 240.905 162.061 238.613 Q163.959 236.321 167.339 235.534 M165.626 228.15 Q165.626 230.835 167.292 232.34 Q168.982 233.844 172.014 233.844 Q175.024 233.844 176.714 232.34 Q178.426 230.835 178.426 228.15 Q178.426 225.465 176.714 223.96 Q175.024 222.456 172.014 222.456 Q168.982 222.456 167.292 223.96 Q165.626 225.465 165.626 228.15 Z\" fill=\"#000000\" fill-rule=\"evenodd\" fill-opacity=\"1\" /><path clip-path=\"url(#clip120)\" d=\"M21.7677 890.981 L39.6235 890.981 L39.6235 882.896 Q39.6235 878.409 37.3 875.958 Q34.9765 873.507 30.6797 873.507 Q26.4147 873.507 24.0912 875.958 Q21.7677 878.409 21.7677 882.896 L21.7677 890.981 M16.4842 897.41 L16.4842 882.896 Q16.4842 874.907 20.1126 870.833 Q23.7092 866.727 30.6797 866.727 Q37.7138 866.727 41.3104 870.833 Q44.907 874.907 44.907 882.896 L44.907 890.981 L64.0042 890.981 L64.0042 897.41 L16.4842 897.41 Z\" fill=\"#000000\" fill-rule=\"evenodd\" fill-opacity=\"1\" /><path clip-path=\"url(#clip120)\" d=\"M33.8307 838.846 Q33.2578 839.832 33.0032 841.01 Q32.7167 842.156 32.7167 843.556 Q32.7167 848.522 35.9632 851.195 Q39.1779 853.837 45.2253 853.837 L64.0042 853.837 L64.0042 859.725 L28.3562 859.725 L28.3562 853.837 L33.8944 853.837 Q30.6479 851.991 29.0883 849.031 Q27.4968 846.071 27.4968 841.838 Q27.4968 841.233 27.5923 840.501 Q27.656 839.769 27.8151 838.878 L33.8307 838.846 Z\" fill=\"#000000\" fill-rule=\"evenodd\" fill-opacity=\"1\" /><path clip-path=\"url(#clip120)\" d=\"M32.4621 820.321 Q32.4621 825.032 36.1542 827.769 Q39.8145 830.507 46.212 830.507 Q52.6095 830.507 56.3017 827.801 Q59.9619 825.064 59.9619 820.321 Q59.9619 815.643 56.2698 812.905 Q52.5777 810.168 46.212 810.168 Q39.8781 810.168 36.186 812.905 Q32.4621 815.643 32.4621 820.321 M27.4968 820.321 Q27.4968 812.683 32.4621 808.322 Q37.4273 803.962 46.212 803.962 Q54.9649 803.962 59.9619 808.322 Q64.9272 812.683 64.9272 820.321 Q64.9272 827.992 59.9619 832.353 Q54.9649 836.681 46.212 836.681 Q37.4273 836.681 32.4621 832.353 Q27.4968 827.992 27.4968 820.321 Z\" fill=\"#000000\" fill-rule=\"evenodd\" fill-opacity=\"1\" /><path clip-path=\"url(#clip120)\" d=\"M58.657 788.588 L77.5631 788.588 L77.5631 794.477 L28.3562 794.477 L28.3562 788.588 L33.7671 788.588 Q30.5842 786.742 29.0564 783.941 Q27.4968 781.109 27.4968 777.194 Q27.4968 770.701 32.6531 766.659 Q37.8093 762.585 46.212 762.585 Q54.6147 762.585 59.771 766.659 Q64.9272 770.701 64.9272 777.194 Q64.9272 781.109 63.3994 783.941 Q61.8398 786.742 58.657 788.588 M46.212 768.664 Q39.7508 768.664 36.0905 771.337 Q32.3984 773.979 32.3984 778.626 Q32.3984 783.273 36.0905 785.947 Q39.7508 788.588 46.212 788.588 Q52.6732 788.588 56.3653 785.947 Q60.0256 783.273 60.0256 778.626 Q60.0256 773.979 56.3653 771.337 Q52.6732 768.664 46.212 768.664 Z\" fill=\"#000000\" fill-rule=\"evenodd\" fill-opacity=\"1\" /><path clip-path=\"url(#clip120)\" d=\"M32.4621 739.063 Q32.4621 743.774 36.1542 746.511 Q39.8145 749.248 46.212 749.248 Q52.6095 749.248 56.3017 746.543 Q59.9619 743.806 59.9619 739.063 Q59.9619 734.384 56.2698 731.647 Q52.5777 728.91 46.212 728.91 Q39.8781 728.91 36.186 731.647 Q32.4621 734.384 32.4621 739.063 M27.4968 739.063 Q27.4968 731.424 32.4621 727.064 Q37.4273 722.703 46.212 722.703 Q54.9649 722.703 59.9619 727.064 Q64.9272 731.424 64.9272 739.063 Q64.9272 746.734 59.9619 751.094 Q54.9649 755.423 46.212 755.423 Q37.4273 755.423 32.4621 751.094 Q27.4968 746.734 27.4968 739.063 Z\" fill=\"#000000\" fill-rule=\"evenodd\" fill-opacity=\"1\" /><path clip-path=\"url(#clip120)\" d=\"M33.8307 692.339 Q33.2578 693.326 33.0032 694.503 Q32.7167 695.649 32.7167 697.05 Q32.7167 702.015 35.9632 704.688 Q39.1779 707.33 45.2253 707.33 L64.0042 707.33 L64.0042 713.218 L28.3562 713.218 L28.3562 707.33 L33.8944 707.33 Q30.6479 705.484 29.0883 702.524 Q27.4968 699.564 27.4968 695.331 Q27.4968 694.726 27.5923 693.994 Q27.656 693.262 27.8151 692.371 L33.8307 692.339 Z\" fill=\"#000000\" fill-rule=\"evenodd\" fill-opacity=\"1\" /><path clip-path=\"url(#clip120)\" d=\"M18.2347 680.403 L28.3562 680.403 L28.3562 668.34 L32.9077 668.34 L32.9077 680.403 L52.2594 680.403 Q56.6199 680.403 57.8613 679.226 Q59.1026 678.016 59.1026 674.356 L59.1026 668.34 L64.0042 668.34 L64.0042 674.356 Q64.0042 681.135 61.4897 683.713 Q58.9434 686.292 52.2594 686.292 L32.9077 686.292 L32.9077 690.588 L28.3562 690.588 L28.3562 686.292 L18.2347 686.292 L18.2347 680.403 Z\" fill=\"#000000\" fill-rule=\"evenodd\" fill-opacity=\"1\" /><path clip-path=\"url(#clip120)\" d=\"M28.3562 660.638 L28.3562 654.781 L64.0042 654.781 L64.0042 660.638 L28.3562 660.638 M14.479 660.638 L14.479 654.781 L21.895 654.781 L21.895 660.638 L14.479 660.638 Z\" fill=\"#000000\" fill-rule=\"evenodd\" fill-opacity=\"1\" /><path clip-path=\"url(#clip120)\" d=\"M32.4621 628.714 Q32.4621 633.424 36.1542 636.162 Q39.8145 638.899 46.212 638.899 Q52.6095 638.899 56.3017 636.193 Q59.9619 633.456 59.9619 628.714 Q59.9619 624.035 56.2698 621.298 Q52.5777 618.56 46.212 618.56 Q39.8781 618.56 36.186 621.298 Q32.4621 624.035 32.4621 628.714 M27.4968 628.714 Q27.4968 621.075 32.4621 616.714 Q37.4273 612.354 46.212 612.354 Q54.9649 612.354 59.9619 616.714 Q64.9272 621.075 64.9272 628.714 Q64.9272 636.384 59.9619 640.745 Q54.9649 645.074 46.212 645.074 Q37.4273 645.074 32.4621 640.745 Q27.4968 636.384 27.4968 628.714 Z\" fill=\"#000000\" fill-rule=\"evenodd\" fill-opacity=\"1\" /><path clip-path=\"url(#clip120)\" d=\"M42.4881 573.014 L64.0042 573.014 L64.0042 578.87 L42.679 578.87 Q37.6183 578.87 35.1038 580.844 Q32.5894 582.817 32.5894 586.764 Q32.5894 591.506 35.6131 594.243 Q38.6368 596.981 43.8567 596.981 L64.0042 596.981 L64.0042 602.869 L28.3562 602.869 L28.3562 596.981 L33.8944 596.981 Q30.6797 594.88 29.0883 592.047 Q27.4968 589.183 27.4968 585.459 Q27.4968 579.316 31.3163 576.165 Q35.1038 573.014 42.4881 573.014 Z\" fill=\"#000000\" fill-rule=\"evenodd\" fill-opacity=\"1\" /><path clip-path=\"url(#clip122)\" d=\"\n",
       "M337.179 86.1857 L337.179 1384.24 L437.088 1384.24 L437.088 86.1857 L337.179 86.1857 L337.179 86.1857  Z\n",
       "  \" fill=\"#009af9\" fill-rule=\"evenodd\" fill-opacity=\"1\"/>\n",
       "<polyline clip-path=\"url(#clip122)\" style=\"stroke:#000000; stroke-linecap:round; stroke-linejoin:round; stroke-width:4; stroke-opacity:1; fill:none\" points=\"\n",
       "  337.179,86.1857 337.179,1384.24 437.088,1384.24 437.088,86.1857 337.179,86.1857 \n",
       "  \"/>\n",
       "<path clip-path=\"url(#clip122)\" d=\"\n",
       "M437.088 1384.24 L437.088 1384.24 L536.996 1384.24 L536.996 1384.24 L437.088 1384.24 L437.088 1384.24  Z\n",
       "  \" fill=\"#009af9\" fill-rule=\"evenodd\" fill-opacity=\"1\"/>\n",
       "<polyline clip-path=\"url(#clip122)\" style=\"stroke:#000000; stroke-linecap:round; stroke-linejoin:round; stroke-width:4; stroke-opacity:1; fill:none\" points=\"\n",
       "  437.088,1384.24 437.088,1384.24 536.996,1384.24 437.088,1384.24 \n",
       "  \"/>\n",
       "<path clip-path=\"url(#clip122)\" d=\"\n",
       "M536.996 1384.24 L536.996 1384.24 L636.905 1384.24 L636.905 1384.24 L536.996 1384.24 L536.996 1384.24  Z\n",
       "  \" fill=\"#009af9\" fill-rule=\"evenodd\" fill-opacity=\"1\"/>\n",
       "<polyline clip-path=\"url(#clip122)\" style=\"stroke:#000000; stroke-linecap:round; stroke-linejoin:round; stroke-width:4; stroke-opacity:1; fill:none\" points=\"\n",
       "  536.996,1384.24 536.996,1384.24 636.905,1384.24 536.996,1384.24 \n",
       "  \"/>\n",
       "<path clip-path=\"url(#clip122)\" d=\"\n",
       "M636.905 1384.24 L636.905 1384.24 L736.814 1384.24 L736.814 1384.24 L636.905 1384.24 L636.905 1384.24  Z\n",
       "  \" fill=\"#009af9\" fill-rule=\"evenodd\" fill-opacity=\"1\"/>\n",
       "<polyline clip-path=\"url(#clip122)\" style=\"stroke:#000000; stroke-linecap:round; stroke-linejoin:round; stroke-width:4; stroke-opacity:1; fill:none\" points=\"\n",
       "  636.905,1384.24 636.905,1384.24 736.814,1384.24 636.905,1384.24 \n",
       "  \"/>\n",
       "<path clip-path=\"url(#clip122)\" d=\"\n",
       "M736.814 1384.24 L736.814 1384.24 L836.722 1384.24 L836.722 1384.24 L736.814 1384.24 L736.814 1384.24  Z\n",
       "  \" fill=\"#009af9\" fill-rule=\"evenodd\" fill-opacity=\"1\"/>\n",
       "<polyline clip-path=\"url(#clip122)\" style=\"stroke:#000000; stroke-linecap:round; stroke-linejoin:round; stroke-width:4; stroke-opacity:1; fill:none\" points=\"\n",
       "  736.814,1384.24 736.814,1384.24 836.722,1384.24 736.814,1384.24 \n",
       "  \"/>\n",
       "<path clip-path=\"url(#clip122)\" d=\"\n",
       "M836.722 1384.24 L836.722 1384.24 L936.631 1384.24 L936.631 1384.24 L836.722 1384.24 L836.722 1384.24  Z\n",
       "  \" fill=\"#009af9\" fill-rule=\"evenodd\" fill-opacity=\"1\"/>\n",
       "<polyline clip-path=\"url(#clip122)\" style=\"stroke:#000000; stroke-linecap:round; stroke-linejoin:round; stroke-width:4; stroke-opacity:1; fill:none\" points=\"\n",
       "  836.722,1384.24 836.722,1384.24 936.631,1384.24 836.722,1384.24 \n",
       "  \"/>\n",
       "<path clip-path=\"url(#clip122)\" d=\"\n",
       "M936.631 1384.24 L936.631 1384.24 L1036.54 1384.24 L1036.54 1384.24 L936.631 1384.24 L936.631 1384.24  Z\n",
       "  \" fill=\"#009af9\" fill-rule=\"evenodd\" fill-opacity=\"1\"/>\n",
       "<polyline clip-path=\"url(#clip122)\" style=\"stroke:#000000; stroke-linecap:round; stroke-linejoin:round; stroke-width:4; stroke-opacity:1; fill:none\" points=\"\n",
       "  936.631,1384.24 936.631,1384.24 1036.54,1384.24 936.631,1384.24 \n",
       "  \"/>\n",
       "<path clip-path=\"url(#clip122)\" d=\"\n",
       "M1036.54 1384.19 L1036.54 1384.24 L1136.45 1384.24 L1136.45 1384.19 L1036.54 1384.19 L1036.54 1384.19  Z\n",
       "  \" fill=\"#009af9\" fill-rule=\"evenodd\" fill-opacity=\"1\"/>\n",
       "<polyline clip-path=\"url(#clip122)\" style=\"stroke:#000000; stroke-linecap:round; stroke-linejoin:round; stroke-width:4; stroke-opacity:1; fill:none\" points=\"\n",
       "  1036.54,1384.19 1036.54,1384.24 1136.45,1384.24 1136.45,1384.19 1036.54,1384.19 \n",
       "  \"/>\n",
       "<path clip-path=\"url(#clip122)\" d=\"\n",
       "M1136.45 1384.19 L1136.45 1384.24 L1236.36 1384.24 L1236.36 1384.19 L1136.45 1384.19 L1136.45 1384.19  Z\n",
       "  \" fill=\"#009af9\" fill-rule=\"evenodd\" fill-opacity=\"1\"/>\n",
       "<polyline clip-path=\"url(#clip122)\" style=\"stroke:#000000; stroke-linecap:round; stroke-linejoin:round; stroke-width:4; stroke-opacity:1; fill:none\" points=\"\n",
       "  1136.45,1384.19 1136.45,1384.24 1236.36,1384.24 1236.36,1384.19 1136.45,1384.19 \n",
       "  \"/>\n",
       "<path clip-path=\"url(#clip122)\" d=\"\n",
       "M1236.36 1384.19 L1236.36 1384.24 L1336.27 1384.24 L1336.27 1384.19 L1236.36 1384.19 L1236.36 1384.19  Z\n",
       "  \" fill=\"#009af9\" fill-rule=\"evenodd\" fill-opacity=\"1\"/>\n",
       "<polyline clip-path=\"url(#clip122)\" style=\"stroke:#000000; stroke-linecap:round; stroke-linejoin:round; stroke-width:4; stroke-opacity:1; fill:none\" points=\"\n",
       "  1236.36,1384.19 1236.36,1384.24 1336.27,1384.24 1336.27,1384.19 1236.36,1384.19 \n",
       "  \"/>\n",
       "<path clip-path=\"url(#clip122)\" d=\"\n",
       "M1336.27 1383.26 L1336.27 1384.24 L1436.17 1384.24 L1436.17 1383.26 L1336.27 1383.26 L1336.27 1383.26  Z\n",
       "  \" fill=\"#009af9\" fill-rule=\"evenodd\" fill-opacity=\"1\"/>\n",
       "<polyline clip-path=\"url(#clip122)\" style=\"stroke:#000000; stroke-linecap:round; stroke-linejoin:round; stroke-width:4; stroke-opacity:1; fill:none\" points=\"\n",
       "  1336.27,1383.26 1336.27,1384.24 1436.17,1384.24 1436.17,1383.26 1336.27,1383.26 \n",
       "  \"/>\n",
       "<path clip-path=\"url(#clip122)\" d=\"\n",
       "M1436.17 1381.39 L1436.17 1384.24 L1536.08 1384.24 L1536.08 1381.39 L1436.17 1381.39 L1436.17 1381.39  Z\n",
       "  \" fill=\"#009af9\" fill-rule=\"evenodd\" fill-opacity=\"1\"/>\n",
       "<polyline clip-path=\"url(#clip122)\" style=\"stroke:#000000; stroke-linecap:round; stroke-linejoin:round; stroke-width:4; stroke-opacity:1; fill:none\" points=\"\n",
       "  1436.17,1381.39 1436.17,1384.24 1536.08,1384.24 1536.08,1381.39 1436.17,1381.39 \n",
       "  \"/>\n",
       "<path clip-path=\"url(#clip122)\" d=\"\n",
       "M1536.08 1377.21 L1536.08 1384.24 L1635.99 1384.24 L1635.99 1377.21 L1536.08 1377.21 L1536.08 1377.21  Z\n",
       "  \" fill=\"#009af9\" fill-rule=\"evenodd\" fill-opacity=\"1\"/>\n",
       "<polyline clip-path=\"url(#clip122)\" style=\"stroke:#000000; stroke-linecap:round; stroke-linejoin:round; stroke-width:4; stroke-opacity:1; fill:none\" points=\"\n",
       "  1536.08,1377.21 1536.08,1384.24 1635.99,1384.24 1635.99,1377.21 1536.08,1377.21 \n",
       "  \"/>\n",
       "<path clip-path=\"url(#clip122)\" d=\"\n",
       "M1635.99 1372.54 L1635.99 1384.24 L1735.9 1384.24 L1735.9 1372.54 L1635.99 1372.54 L1635.99 1372.54  Z\n",
       "  \" fill=\"#009af9\" fill-rule=\"evenodd\" fill-opacity=\"1\"/>\n",
       "<polyline clip-path=\"url(#clip122)\" style=\"stroke:#000000; stroke-linecap:round; stroke-linejoin:round; stroke-width:4; stroke-opacity:1; fill:none\" points=\"\n",
       "  1635.99,1372.54 1635.99,1384.24 1735.9,1384.24 1735.9,1372.54 1635.99,1372.54 \n",
       "  \"/>\n",
       "<path clip-path=\"url(#clip122)\" d=\"\n",
       "M1735.9 1368.36 L1735.9 1384.24 L1835.81 1384.24 L1835.81 1368.36 L1735.9 1368.36 L1735.9 1368.36  Z\n",
       "  \" fill=\"#009af9\" fill-rule=\"evenodd\" fill-opacity=\"1\"/>\n",
       "<polyline clip-path=\"url(#clip122)\" style=\"stroke:#000000; stroke-linecap:round; stroke-linejoin:round; stroke-width:4; stroke-opacity:1; fill:none\" points=\"\n",
       "  1735.9,1368.36 1735.9,1384.24 1835.81,1384.24 1835.81,1368.36 1735.9,1368.36 \n",
       "  \"/>\n",
       "<path clip-path=\"url(#clip122)\" d=\"\n",
       "M1835.81 1364.49 L1835.81 1384.24 L1935.72 1384.24 L1935.72 1364.49 L1835.81 1364.49 L1835.81 1364.49  Z\n",
       "  \" fill=\"#009af9\" fill-rule=\"evenodd\" fill-opacity=\"1\"/>\n",
       "<polyline clip-path=\"url(#clip122)\" style=\"stroke:#000000; stroke-linecap:round; stroke-linejoin:round; stroke-width:4; stroke-opacity:1; fill:none\" points=\"\n",
       "  1835.81,1364.49 1835.81,1384.24 1935.72,1384.24 1935.72,1364.49 1835.81,1364.49 \n",
       "  \"/>\n",
       "<path clip-path=\"url(#clip122)\" d=\"\n",
       "M1935.72 1359.64 L1935.72 1384.24 L2035.63 1384.24 L2035.63 1359.64 L1935.72 1359.64 L1935.72 1359.64  Z\n",
       "  \" fill=\"#009af9\" fill-rule=\"evenodd\" fill-opacity=\"1\"/>\n",
       "<polyline clip-path=\"url(#clip122)\" style=\"stroke:#000000; stroke-linecap:round; stroke-linejoin:round; stroke-width:4; stroke-opacity:1; fill:none\" points=\"\n",
       "  1935.72,1359.64 1935.72,1384.24 2035.63,1384.24 2035.63,1359.64 1935.72,1359.64 \n",
       "  \"/>\n",
       "<path clip-path=\"url(#clip122)\" d=\"\n",
       "M2035.63 1359.37 L2035.63 1384.24 L2135.53 1384.24 L2135.53 1359.37 L2035.63 1359.37 L2035.63 1359.37  Z\n",
       "  \" fill=\"#009af9\" fill-rule=\"evenodd\" fill-opacity=\"1\"/>\n",
       "<polyline clip-path=\"url(#clip122)\" style=\"stroke:#000000; stroke-linecap:round; stroke-linejoin:round; stroke-width:4; stroke-opacity:1; fill:none\" points=\"\n",
       "  2035.63,1359.37 2035.63,1384.24 2135.53,1384.24 2135.53,1359.37 2035.63,1359.37 \n",
       "  \"/>\n",
       "<path clip-path=\"url(#clip122)\" d=\"\n",
       "M2135.53 1355.59 L2135.53 1384.24 L2235.44 1384.24 L2235.44 1355.59 L2135.53 1355.59 L2135.53 1355.59  Z\n",
       "  \" fill=\"#009af9\" fill-rule=\"evenodd\" fill-opacity=\"1\"/>\n",
       "<polyline clip-path=\"url(#clip122)\" style=\"stroke:#000000; stroke-linecap:round; stroke-linejoin:round; stroke-width:4; stroke-opacity:1; fill:none\" points=\"\n",
       "  2135.53,1355.59 2135.53,1384.24 2235.44,1384.24 2235.44,1355.59 2135.53,1355.59 \n",
       "  \"/>\n",
       "<circle clip-path=\"url(#clip122)\" style=\"fill:#009af9; stroke:none; fill-opacity:0\" cx=\"387.133\" cy=\"86.1857\" r=\"2\"/>\n",
       "<circle clip-path=\"url(#clip122)\" style=\"fill:#009af9; stroke:none; fill-opacity:0\" cx=\"487.042\" cy=\"1384.24\" r=\"2\"/>\n",
       "<circle clip-path=\"url(#clip122)\" style=\"fill:#009af9; stroke:none; fill-opacity:0\" cx=\"586.951\" cy=\"1384.24\" r=\"2\"/>\n",
       "<circle clip-path=\"url(#clip122)\" style=\"fill:#009af9; stroke:none; fill-opacity:0\" cx=\"686.859\" cy=\"1384.24\" r=\"2\"/>\n",
       "<circle clip-path=\"url(#clip122)\" style=\"fill:#009af9; stroke:none; fill-opacity:0\" cx=\"786.768\" cy=\"1384.24\" r=\"2\"/>\n",
       "<circle clip-path=\"url(#clip122)\" style=\"fill:#009af9; stroke:none; fill-opacity:0\" cx=\"886.677\" cy=\"1384.24\" r=\"2\"/>\n",
       "<circle clip-path=\"url(#clip122)\" style=\"fill:#009af9; stroke:none; fill-opacity:0\" cx=\"986.585\" cy=\"1384.24\" r=\"2\"/>\n",
       "<circle clip-path=\"url(#clip122)\" style=\"fill:#009af9; stroke:none; fill-opacity:0\" cx=\"1086.49\" cy=\"1384.19\" r=\"2\"/>\n",
       "<circle clip-path=\"url(#clip122)\" style=\"fill:#009af9; stroke:none; fill-opacity:0\" cx=\"1186.4\" cy=\"1384.19\" r=\"2\"/>\n",
       "<circle clip-path=\"url(#clip122)\" style=\"fill:#009af9; stroke:none; fill-opacity:0\" cx=\"1286.31\" cy=\"1384.19\" r=\"2\"/>\n",
       "<circle clip-path=\"url(#clip122)\" style=\"fill:#009af9; stroke:none; fill-opacity:0\" cx=\"1386.22\" cy=\"1383.26\" r=\"2\"/>\n",
       "<circle clip-path=\"url(#clip122)\" style=\"fill:#009af9; stroke:none; fill-opacity:0\" cx=\"1486.13\" cy=\"1381.39\" r=\"2\"/>\n",
       "<circle clip-path=\"url(#clip122)\" style=\"fill:#009af9; stroke:none; fill-opacity:0\" cx=\"1586.04\" cy=\"1377.21\" r=\"2\"/>\n",
       "<circle clip-path=\"url(#clip122)\" style=\"fill:#009af9; stroke:none; fill-opacity:0\" cx=\"1685.95\" cy=\"1372.54\" r=\"2\"/>\n",
       "<circle clip-path=\"url(#clip122)\" style=\"fill:#009af9; stroke:none; fill-opacity:0\" cx=\"1785.85\" cy=\"1368.36\" r=\"2\"/>\n",
       "<circle clip-path=\"url(#clip122)\" style=\"fill:#009af9; stroke:none; fill-opacity:0\" cx=\"1885.76\" cy=\"1364.49\" r=\"2\"/>\n",
       "<circle clip-path=\"url(#clip122)\" style=\"fill:#009af9; stroke:none; fill-opacity:0\" cx=\"1985.67\" cy=\"1359.64\" r=\"2\"/>\n",
       "<circle clip-path=\"url(#clip122)\" style=\"fill:#009af9; stroke:none; fill-opacity:0\" cx=\"2085.58\" cy=\"1359.37\" r=\"2\"/>\n",
       "<circle clip-path=\"url(#clip122)\" style=\"fill:#009af9; stroke:none; fill-opacity:0\" cx=\"2185.49\" cy=\"1355.59\" r=\"2\"/>\n",
       "<path clip-path=\"url(#clip120)\" d=\"\n",
       "M1693.67 196.789 L2281.66 196.789 L2281.66 93.1086 L1693.67 93.1086  Z\n",
       "  \" fill=\"#ffffff\" fill-rule=\"evenodd\" fill-opacity=\"1\"/>\n",
       "<polyline clip-path=\"url(#clip120)\" style=\"stroke:#000000; stroke-linecap:round; stroke-linejoin:round; stroke-width:4; stroke-opacity:1; fill:none\" points=\"\n",
       "  1693.67,196.789 2281.66,196.789 2281.66,93.1086 1693.67,93.1086 1693.67,196.789 \n",
       "  \"/>\n",
       "<path clip-path=\"url(#clip120)\" d=\"\n",
       "M1717.37 165.685 L1859.56 165.685 L1859.56 124.213 L1717.37 124.213 L1717.37 165.685  Z\n",
       "  \" fill=\"#009af9\" fill-rule=\"evenodd\" fill-opacity=\"1\"/>\n",
       "<polyline clip-path=\"url(#clip120)\" style=\"stroke:#000000; stroke-linecap:round; stroke-linejoin:round; stroke-width:4; stroke-opacity:1; fill:none\" points=\"\n",
       "  1717.37,165.685 1859.56,165.685 1859.56,124.213 1717.37,124.213 1717.37,165.685 \n",
       "  \"/>\n",
       "<path clip-path=\"url(#clip120)\" d=\"M1905.51 128.803 L1905.51 133.363 Q1902.85 132.09 1900.49 131.465 Q1898.12 130.84 1895.93 130.84 Q1892.11 130.84 1890.02 132.321 Q1887.96 133.803 1887.96 136.534 Q1887.96 138.826 1889.33 140.007 Q1890.72 141.164 1894.56 141.882 L1897.38 142.46 Q1902.62 143.456 1905.09 145.979 Q1907.59 148.479 1907.59 152.692 Q1907.59 157.715 1904.21 160.307 Q1900.86 162.9 1894.35 162.9 Q1891.9 162.9 1889.12 162.344 Q1886.37 161.789 1883.4 160.701 L1883.4 155.886 Q1886.25 157.483 1888.98 158.293 Q1891.71 159.104 1894.35 159.104 Q1898.36 159.104 1900.53 157.53 Q1902.71 155.956 1902.71 153.039 Q1902.71 150.493 1901.13 149.057 Q1899.58 147.622 1896.02 146.905 L1893.17 146.349 Q1887.94 145.307 1885.6 143.085 Q1883.26 140.863 1883.26 136.905 Q1883.26 132.321 1886.48 129.682 Q1889.72 127.044 1895.39 127.044 Q1897.82 127.044 1900.35 127.483 Q1902.87 127.923 1905.51 128.803 Z\" fill=\"#000000\" fill-rule=\"evenodd\" fill-opacity=\"1\" /><path clip-path=\"url(#clip120)\" d=\"M1918.91 128.942 L1918.91 136.303 L1927.68 136.303 L1927.68 139.613 L1918.91 139.613 L1918.91 153.687 Q1918.91 156.858 1919.77 157.761 Q1920.65 158.664 1923.31 158.664 L1927.68 158.664 L1927.68 162.229 L1923.31 162.229 Q1918.38 162.229 1916.5 160.4 Q1914.63 158.548 1914.63 153.687 L1914.63 139.613 L1911.5 139.613 L1911.5 136.303 L1914.63 136.303 L1914.63 128.942 L1918.91 128.942 Z\" fill=\"#000000\" fill-rule=\"evenodd\" fill-opacity=\"1\" /><path clip-path=\"url(#clip120)\" d=\"M1948.31 140.284 Q1947.59 139.868 1946.74 139.682 Q1945.9 139.474 1944.88 139.474 Q1941.27 139.474 1939.33 141.835 Q1937.41 144.173 1937.41 148.571 L1937.41 162.229 L1933.12 162.229 L1933.12 136.303 L1937.41 136.303 L1937.41 140.331 Q1938.75 137.969 1940.9 136.835 Q1943.06 135.678 1946.13 135.678 Q1946.57 135.678 1947.11 135.747 Q1947.64 135.794 1948.29 135.909 L1948.31 140.284 Z\" fill=\"#000000\" fill-rule=\"evenodd\" fill-opacity=\"1\" /><path clip-path=\"url(#clip120)\" d=\"M1964.56 149.196 Q1959.4 149.196 1957.41 150.377 Q1955.42 151.557 1955.42 154.405 Q1955.42 156.673 1956.9 158.016 Q1958.4 159.335 1960.97 159.335 Q1964.51 159.335 1966.64 156.835 Q1968.8 154.312 1968.8 150.145 L1968.8 149.196 L1964.56 149.196 M1973.05 147.437 L1973.05 162.229 L1968.8 162.229 L1968.8 158.293 Q1967.34 160.655 1965.16 161.789 Q1962.99 162.9 1959.84 162.9 Q1955.86 162.9 1953.49 160.678 Q1951.16 158.432 1951.16 154.682 Q1951.16 150.307 1954.07 148.085 Q1957.01 145.863 1962.82 145.863 L1968.8 145.863 L1968.8 145.446 Q1968.8 142.507 1966.85 140.909 Q1964.93 139.289 1961.43 139.289 Q1959.21 139.289 1957.11 139.821 Q1955 140.354 1953.06 141.419 L1953.06 137.483 Q1955.39 136.581 1957.59 136.141 Q1959.79 135.678 1961.87 135.678 Q1967.5 135.678 1970.28 138.594 Q1973.05 141.511 1973.05 147.437 Z\" fill=\"#000000\" fill-rule=\"evenodd\" fill-opacity=\"1\" /><path clip-path=\"url(#clip120)\" d=\"M1981.83 136.303 L1986.09 136.303 L1986.09 162.229 L1981.83 162.229 L1981.83 136.303 M1981.83 126.21 L1986.09 126.21 L1986.09 131.604 L1981.83 131.604 L1981.83 126.21 Z\" fill=\"#000000\" fill-rule=\"evenodd\" fill-opacity=\"1\" /><path clip-path=\"url(#clip120)\" d=\"M2016.55 146.581 L2016.55 162.229 L2012.29 162.229 L2012.29 146.719 Q2012.29 143.039 2010.86 141.21 Q2009.42 139.382 2006.55 139.382 Q2003.1 139.382 2001.11 141.581 Q1999.12 143.78 1999.12 147.576 L1999.12 162.229 L1994.84 162.229 L1994.84 136.303 L1999.12 136.303 L1999.12 140.331 Q2000.65 137.993 2002.71 136.835 Q2004.79 135.678 2007.5 135.678 Q2011.97 135.678 2014.26 138.456 Q2016.55 141.21 2016.55 146.581 Z\" fill=\"#000000\" fill-rule=\"evenodd\" fill-opacity=\"1\" /><path clip-path=\"url(#clip120)\" d=\"M2040.3 127.669 L2047.27 127.669 L2056.09 151.187 L2064.95 127.669 L2071.92 127.669 L2071.92 162.229 L2067.36 162.229 L2067.36 131.882 L2058.45 155.585 L2053.75 155.585 L2044.84 131.882 L2044.84 162.229 L2040.3 162.229 L2040.3 127.669 Z\" fill=\"#000000\" fill-rule=\"evenodd\" fill-opacity=\"1\" /><path clip-path=\"url(#clip120)\" d=\"M2103.19 148.201 L2103.19 150.284 L2083.61 150.284 Q2083.89 154.682 2086.25 156.997 Q2088.63 159.289 2092.87 159.289 Q2095.32 159.289 2097.61 158.687 Q2099.93 158.085 2102.2 156.881 L2102.2 160.909 Q2099.91 161.881 2097.5 162.391 Q2095.09 162.9 2092.61 162.9 Q2086.41 162.9 2082.78 159.289 Q2079.17 155.678 2079.17 149.52 Q2079.17 143.155 2082.59 139.428 Q2086.04 135.678 2091.87 135.678 Q2097.11 135.678 2100.14 139.057 Q2103.19 142.414 2103.19 148.201 M2098.93 146.951 Q2098.89 143.456 2096.97 141.372 Q2095.07 139.289 2091.92 139.289 Q2088.36 139.289 2086.2 141.303 Q2084.07 143.317 2083.75 146.974 L2098.93 146.951 Z\" fill=\"#000000\" fill-rule=\"evenodd\" fill-opacity=\"1\" /><path clip-path=\"url(#clip120)\" d=\"M2121.97 149.196 Q2116.8 149.196 2114.81 150.377 Q2112.82 151.557 2112.82 154.405 Q2112.82 156.673 2114.3 158.016 Q2115.81 159.335 2118.38 159.335 Q2121.92 159.335 2124.05 156.835 Q2126.2 154.312 2126.2 150.145 L2126.2 149.196 L2121.97 149.196 M2130.46 147.437 L2130.46 162.229 L2126.2 162.229 L2126.2 158.293 Q2124.74 160.655 2122.57 161.789 Q2120.39 162.9 2117.24 162.9 Q2113.26 162.9 2110.9 160.678 Q2108.56 158.432 2108.56 154.682 Q2108.56 150.307 2111.48 148.085 Q2114.42 145.863 2120.23 145.863 L2126.2 145.863 L2126.2 145.446 Q2126.2 142.507 2124.26 140.909 Q2122.34 139.289 2118.84 139.289 Q2116.62 139.289 2114.51 139.821 Q2112.41 140.354 2110.46 141.419 L2110.46 137.483 Q2112.8 136.581 2115 136.141 Q2117.2 135.678 2119.28 135.678 Q2124.91 135.678 2127.68 138.594 Q2130.46 141.511 2130.46 147.437 Z\" fill=\"#000000\" fill-rule=\"evenodd\" fill-opacity=\"1\" /><path clip-path=\"url(#clip120)\" d=\"M2160.79 146.581 L2160.79 162.229 L2156.53 162.229 L2156.53 146.719 Q2156.53 143.039 2155.09 141.21 Q2153.66 139.382 2150.79 139.382 Q2147.34 139.382 2145.35 141.581 Q2143.35 143.78 2143.35 147.576 L2143.35 162.229 L2139.07 162.229 L2139.07 136.303 L2143.35 136.303 L2143.35 140.331 Q2144.88 137.993 2146.94 136.835 Q2149.03 135.678 2151.73 135.678 Q2156.2 135.678 2158.49 138.456 Q2160.79 141.21 2160.79 146.581 Z\" fill=\"#000000\" fill-rule=\"evenodd\" fill-opacity=\"1\" /><path clip-path=\"url(#clip120)\" d=\"M2185.81 137.067 L2185.81 141.094 Q2184 140.169 2182.06 139.706 Q2180.11 139.243 2178.03 139.243 Q2174.86 139.243 2173.26 140.215 Q2171.69 141.187 2171.69 143.131 Q2171.69 144.613 2172.82 145.469 Q2173.96 146.303 2177.38 147.067 L2178.84 147.391 Q2183.38 148.363 2185.28 150.145 Q2187.2 151.905 2187.2 155.076 Q2187.2 158.687 2184.33 160.793 Q2181.48 162.9 2176.48 162.9 Q2174.4 162.9 2172.13 162.483 Q2169.88 162.09 2167.38 161.28 L2167.38 156.881 Q2169.74 158.108 2172.04 158.733 Q2174.33 159.335 2176.57 159.335 Q2179.58 159.335 2181.2 158.317 Q2182.82 157.275 2182.82 155.4 Q2182.82 153.664 2181.64 152.738 Q2180.48 151.812 2176.53 150.956 L2175.04 150.608 Q2171.09 149.775 2169.33 148.062 Q2167.57 146.326 2167.57 143.317 Q2167.57 139.659 2170.16 137.669 Q2172.75 135.678 2177.52 135.678 Q2179.88 135.678 2181.97 136.025 Q2184.05 136.372 2185.81 137.067 Z\" fill=\"#000000\" fill-rule=\"evenodd\" fill-opacity=\"1\" /><path clip-path=\"url(#clip120)\" d=\"M2209.23 127.669 L2213.91 127.669 L2213.91 158.293 L2230.74 158.293 L2230.74 162.229 L2209.23 162.229 L2209.23 127.669 Z\" fill=\"#000000\" fill-rule=\"evenodd\" fill-opacity=\"1\" /><path clip-path=\"url(#clip120)\" d=\"M2240.32 131.511 L2240.32 144.497 L2246.2 144.497 Q2249.47 144.497 2251.25 142.807 Q2253.03 141.118 2253.03 137.993 Q2253.03 134.891 2251.25 133.201 Q2249.47 131.511 2246.2 131.511 L2240.32 131.511 M2235.65 127.669 L2246.2 127.669 Q2252.01 127.669 2254.97 130.307 Q2257.96 132.923 2257.96 137.993 Q2257.96 143.108 2254.97 145.724 Q2252.01 148.34 2246.2 148.34 L2240.32 148.34 L2240.32 162.229 L2235.65 162.229 L2235.65 127.669 Z\" fill=\"#000000\" fill-rule=\"evenodd\" fill-opacity=\"1\" /></svg>\n"
      ]
     },
     "execution_count": 105,
     "metadata": {},
     "output_type": "execute_result"
    }
   ],
   "source": [
    "hist_strains = histogram(h2_distr_strains, normalize = :probability,\n",
    "          label = \"Strain Means LP\", xlab = \"h2\", ylab = \"Proportion\", bins = -0.025:0.05:0.95)"
   ]
  },
  {
   "cell_type": "code",
   "execution_count": null,
   "id": "8a8fc1d9-fa6b-4481-bb7d-31d706e352a4",
   "metadata": {},
   "outputs": [],
   "source": [
    "hcat(h2_distr_strains, h2_distr_ind)"
   ]
  },
  {
   "cell_type": "markdown",
   "id": "1ddf54c4-ce2a-469e-afc8-08b152d4d8cd",
   "metadata": {
    "tags": []
   },
   "source": [
    "## Run GEMMA for single-trait scans:"
   ]
  },
  {
   "cell_type": "code",
   "execution_count": null,
   "id": "b1bac948-cc65-453b-8b09-9c772cd932b6",
   "metadata": {},
   "outputs": [],
   "source": [
    "pwd()"
   ]
  },
  {
   "cell_type": "code",
   "execution_count": null,
   "id": "7e7b6054-f267-437b-ac63-8a9b3e1ff006",
   "metadata": {},
   "outputs": [],
   "source": [
    "gemma = \"/home/zyu20/Softwares/gemma-0.98.5-linux-static-AMD64\""
   ]
  },
  {
   "cell_type": "code",
   "execution_count": null,
   "id": "73a7cbf3-d647-4c5a-a7e3-42677404cca2",
   "metadata": {},
   "outputs": [],
   "source": [
    "run(`$gemma -h`)"
   ]
  },
  {
   "cell_type": "code",
   "execution_count": null,
   "id": "ee6e9830-b187-452a-ab36-e814781b1b70",
   "metadata": {},
   "outputs": [],
   "source": [
    "function transform_bxd_pheno_to_gemma2(inputfile::AbstractString, outputfile::AbstractString, iter::Int64)\n",
    "    pheno = CSV.read(inputfile, DataFrame);\n",
    "    pheno = Matrix{Float64}(pheno[:, 3:end]);\n",
    "    open(outputfile, \"w\") do io\n",
    "        writedlm(io, pheno[:, iter])\n",
    "    end\n",
    "    return pheno\n",
    "end"
   ]
  },
  {
   "cell_type": "code",
   "execution_count": null,
   "id": "39441696-89ed-4087-b2ad-67f12bef125b",
   "metadata": {},
   "outputs": [],
   "source": [
    "function transform_bxd_geno_to_gemma2(inputfile::AbstractString, outputfile::AbstractString, \n",
    "                                      startCol::Int64)\n",
    "    data = CSV.read(inputfile, DataFrame);\n",
    "    \n",
    "    marker_names = names(data)[startCol:end];\n",
    "    data = 2 .* data[:, startCol:end] |> x -> Matrix{Float64}(x)\n",
    "    # data = data[:, startCol:end] |> x -> Matrix{Float64}(x)\n",
    "    minor_allele = fill(\"A\", length(marker_names), 1);\n",
    "    major_allele = fill(\"B\", length(marker_names), 1);\n",
    "    output = hcat(hcat(marker_names, minor_allele, major_allele), transpose(data))\n",
    "    writeToFile(output, outputfile)\n",
    "    return output\n",
    "end"
   ]
  },
  {
   "cell_type": "code",
   "execution_count": null,
   "id": "0e090b4f-6dc7-44bf-b082-893f5deed830",
   "metadata": {},
   "outputs": [],
   "source": [
    "lp_id"
   ]
  },
  {
   "cell_type": "code",
   "execution_count": null,
   "id": "1d49eaa6-a548-4ee8-a565-3f548535da52",
   "metadata": {},
   "outputs": [],
   "source": [
    "transform_bxd_geno_to_gemma2(\"data/GN886_geno_strains_summary.csv\", \"data/GEMMA_data/GN886_geno_strains_summary.txt\", 2);\n",
    "transform_bxd_geno_to_gemma2(\"data/GN886_geno_summary.csv\", \"data/GEMMA_data/GN886_geno_ind_summary.txt\", 4);"
   ]
  },
  {
   "cell_type": "code",
   "execution_count": null,
   "id": "4015a708-0c19-4a46-9f59-2ad49ef02b24",
   "metadata": {},
   "outputs": [],
   "source": [
    "transform_bxd_pheno_to_gemma2(\"data/GN886_pheno_huber_strain_means_summary.csv\", \"data/GEMMA_data/GN886_pheno_huber_strains_summary.txt\", lp_id);\n",
    "transform_bxd_pheno_to_gemma2(\"data/GN886_pheno_huber_summary.csv\", \"data/GEMMA_data/GN886_pheno_huber_ind_summary.txt\", lp_id);"
   ]
  },
  {
   "cell_type": "code",
   "execution_count": null,
   "id": "0ae98acb-a676-49b6-ab15-ed9dad6d3e21",
   "metadata": {},
   "outputs": [],
   "source": [
    "writedlm(\"data/GEMMA_data/kinship_strains.txt\", kinship_strains, '\\t')\n",
    "writedlm(\"data/GEMMA_data/kinship_ind.txt\", kinship_ind_from_strains, '\\t')"
   ]
  },
  {
   "cell_type": "code",
   "execution_count": null,
   "id": "76c8932a-65f4-4048-80e3-8b377700abf9",
   "metadata": {},
   "outputs": [],
   "source": [
    "function p2lod(pval::Float64, df::Int64)\n",
    "    \n",
    "    lrs = invlogcdf(Chisq(df), log(1-pval))\n",
    "    lod = lrs/(2*log(10))\n",
    "    \n",
    "    # return lrs\n",
    "    return lod\n",
    "\n",
    "end"
   ]
  },
  {
   "cell_type": "code",
   "execution_count": null,
   "id": "ba8d2c36-000d-4f71-b0eb-34fdb7f5f5f3",
   "metadata": {},
   "outputs": [],
   "source": [
    "function gemmaWrapper(pheno_filename::String, geno_filename::String,\n",
    "                      kinship_filename::String, output_filename::String)\n",
    "    \n",
    "    run(`$gemma -g $geno_filename -p $pheno_filename -k $kinship_filename -lmm 2 -lmax 1000000 -o $output_filename`)\n",
    "    \n",
    "end"
   ]
  },
  {
   "cell_type": "code",
   "execution_count": null,
   "id": "5c081ae1-91e6-44e4-ac5b-be6bdaa982be",
   "metadata": {},
   "outputs": [],
   "source": [
    "@time gemmaWrapper(\"data/GEMMA_data/GN886_pheno_huber_strains_summary.txt\", \n",
    "                   \"data/GEMMA_data/GN886_geno_strains_summary.txt\",\n",
    "                   \"data/GEMMA_data/kinship_strains.txt\",\n",
    "                   \"results_strains.txt\");"
   ]
  },
  {
   "cell_type": "code",
   "execution_count": null,
   "id": "de3ba7dd-97a4-4286-b61e-e7926647e930",
   "metadata": {},
   "outputs": [],
   "source": [
    "@time gemmaWrapper(\"data/GEMMA_data/GN886_pheno_huber_ind_summary.txt\", \n",
    "                   \"data/GEMMA_data/GN886_geno_ind_summary.txt\",\n",
    "                   \"data/GEMMA_data/kinship_ind.txt\",\n",
    "                   \"results_ind.txt\");"
   ]
  },
  {
   "cell_type": "code",
   "execution_count": null,
   "id": "d48f6416-11df-47d2-ae97-b9cf673623bc",
   "metadata": {},
   "outputs": [],
   "source": [
    "sum(eigen(kinship_ind_from_strains).values.<0.0001)"
   ]
  },
  {
   "cell_type": "code",
   "execution_count": null,
   "id": "b6e5af53-02e8-4cec-b8fc-83b3efe76ddd",
   "metadata": {},
   "outputs": [],
   "source": [
    "gemma_results_strains = readdlm(\"output/results_strains.txt.assoc.txt\", '\\t');\n",
    "gemma_results_ind = readdlm(\"output/results_ind.txt.assoc.txt\", '\\t');"
   ]
  },
  {
   "cell_type": "code",
   "execution_count": null,
   "id": "b1f06ed0-ba22-4f56-9843-de4b47d2b7b8",
   "metadata": {},
   "outputs": [],
   "source": [
    "gemma_strains = gemma_results_strains[2:end, 10] |> x -> Array{Float64}(x);\n",
    "gemma_ind = gemma_results_ind[2:end, 10] |> x -> Array{Float64}(x);"
   ]
  },
  {
   "cell_type": "code",
   "execution_count": null,
   "id": "f082a5d7-1717-4f03-9272-07df9e10c38e",
   "metadata": {},
   "outputs": [],
   "source": [
    "gemma_strains_lod = p2lod.(gemma_strains, 1);\n",
    "gemma_ind_lod = p2lod.(gemma_ind, 1);"
   ]
  },
  {
   "cell_type": "code",
   "execution_count": null,
   "id": "077555ab-3fa2-4ad6-a9c0-e8f8410b52f8",
   "metadata": {},
   "outputs": [],
   "source": [
    "hcat(gemma_ind_lod, scan_results_ind.lod)"
   ]
  },
  {
   "cell_type": "code",
   "execution_count": null,
   "id": "709a4dfd-3648-4165-9d24-d3fadaee590a",
   "metadata": {},
   "outputs": [],
   "source": [
    "lookRange = 2001:4000"
   ]
  },
  {
   "cell_type": "code",
   "execution_count": null,
   "id": "5e4e64a0-6443-4654-b791-a392d62e5d7f",
   "metadata": {},
   "outputs": [],
   "source": [
    "lookRange = 1:7321"
   ]
  },
  {
   "cell_type": "code",
   "execution_count": null,
   "id": "e7359365-0980-44c6-bb9b-c57ef20a0506",
   "metadata": {},
   "outputs": [],
   "source": [
    "plot(gemma_ind_lod[lookRange], label = \"GEMMA_ind\");\n",
    "plot!(scan_results_ind_alt.lod[lookRange], label = \"BulkLMM_ind\")\n",
    "# plot!(bulkscan_results_ind[3][lookRange, lp_id], label = \"BulkLMM_ind_grid\")"
   ]
  },
  {
   "cell_type": "code",
   "execution_count": null,
   "id": "634bf00f-9d0c-4dac-9e69-a1c59b390fef",
   "metadata": {},
   "outputs": [],
   "source": [
    "scan_results_ind.h2_null"
   ]
  },
  {
   "cell_type": "markdown",
   "id": "1636f06a-05e5-4d55-a747-f2cb0e31b0ee",
   "metadata": {},
   "source": [
    "## Examine loglikelihood:"
   ]
  },
  {
   "cell_type": "code",
   "execution_count": 174,
   "id": "635967d9-359a-4800-a7a0-6f06cbc6e419",
   "metadata": {},
   "outputs": [
    {
     "data": {
      "text/plain": [
       "0.601192247603648"
      ]
     },
     "execution_count": 174,
     "metadata": {},
     "output_type": "execute_result"
    }
   ],
   "source": [
    "fitlmm(lp_strains_y0, reshape(X0[:, 1], :, 1), lambda0, [0.0, 0.0]).h2"
   ]
  },
  {
   "cell_type": "code",
   "execution_count": 178,
   "id": "6b71bc3f-499c-486a-a33b-2d04fa7813b0",
   "metadata": {},
   "outputs": [],
   "source": [
    "w = makeweights(0.601192247603648, lambda0);\n",
    "w_h0 = makeweights(0.0, lambda0);"
   ]
  },
  {
   "cell_type": "code",
   "execution_count": 177,
   "id": "8fc7435c-c935-4e00-9fc6-78a382bd4baf",
   "metadata": {},
   "outputs": [
    {
     "data": {
      "text/plain": [
       "77.39200360919392"
      ]
     },
     "execution_count": 177,
     "metadata": {},
     "output_type": "execute_result"
    }
   ],
   "source": [
    "wls(lp_strains_y0, reshape(X0[:, 1], :, 1), w, [0.0, 0.0]).ell"
   ]
  },
  {
   "cell_type": "code",
   "execution_count": 179,
   "id": "07a88ec8-8d86-4908-ac1c-6b239ef8ee9e",
   "metadata": {},
   "outputs": [
    {
     "data": {
      "text/plain": [
       "77.84666095466974"
      ]
     },
     "execution_count": 179,
     "metadata": {},
     "output_type": "execute_result"
    }
   ],
   "source": [
    "wls(lp_strains_y0, reshape(X0[:, 1], :, 1), w_h0, [0.0, 0.0]).ell"
   ]
  },
  {
   "cell_type": "code",
   "execution_count": 180,
   "id": "b9b430e6-7ac1-4ec8-b267-fd7f67d76c23",
   "metadata": {},
   "outputs": [
    {
     "data": {
      "text/plain": [
       "getLL (generic function with 1 method)"
      ]
     },
     "execution_count": 180,
     "metadata": {},
     "output_type": "execute_result"
    }
   ],
   "source": [
    "function getLL(y::Array{Float64, 2}, G::Array{Float64, 2}, K::Array{Float64, 2}, markerID::Int64, h2::Float64; prior::Array{Float64, 1} = [0.0, 0.0])\n",
    "    \n",
    "    Gj = reshape(G[:, markerID], :, 1);\n",
    "    (y0, X0, lambda0) = transform_rotation(y, Gj, K; addIntercept = true);\n",
    "    w = makeweights(h2, lambda0);\n",
    "    X0_inter = reshape(X0[:, 1], :, 1);\n",
    "    \n",
    "    return (ll_null = wls(y0, X0_inter, w, prior).ell, ll_markerID = wls(y0, X0, w, prior).ell)\n",
    "    # return (wls(y0, X0_inter, w, prior).ell, wls(y0, X0, w, prior).ell)\n",
    "end"
   ]
  },
  {
   "cell_type": "code",
   "execution_count": 139,
   "id": "c2a6d857-a2c4-4764-9db3-972bd0fb6322",
   "metadata": {},
   "outputs": [
    {
     "data": {
      "text/plain": [
       "0.109907911562461"
      ]
     },
     "execution_count": 139,
     "metadata": {},
     "output_type": "execute_result"
    }
   ],
   "source": [
    "scan_results_ind.h2_null"
   ]
  },
  {
   "cell_type": "code",
   "execution_count": 162,
   "id": "1dce9acf-3077-48a2-bc5a-ab8d19ee1b03",
   "metadata": {},
   "outputs": [
    {
     "data": {
      "text/plain": [
       "0.03383776164310895"
      ]
     },
     "execution_count": 162,
     "metadata": {},
     "output_type": "execute_result"
    }
   ],
   "source": [
    "var(lp_strains_y)"
   ]
  },
  {
   "cell_type": "code",
   "execution_count": 163,
   "id": "72ee791b-0a3b-41f5-b945-0a54f6535523",
   "metadata": {},
   "outputs": [],
   "source": [
    "ind_ll = map(x -> getLL(lp_ind_y, geno_ind, kinship_ind_from_strains, 1997, x), collect(0.0:0.001:0.999));\n",
    "strains_ll = map(x -> getLL(lp_strains_y, geno_strains, kinship_strains, 1997, x; prior = [0.034, 0.1] ), collect(0.0:0.001:0.999));"
   ]
  },
  {
   "cell_type": "code",
   "execution_count": 164,
   "id": "0b411521-f2c7-49a2-89ed-058d062b6738",
   "metadata": {},
   "outputs": [],
   "source": [
    "ind_ell_list = zeros(999);\n",
    "strains_ell_list = zeros(999);\n",
    "for k in 1:999 \n",
    "    ind_ell_list[k] = ind_ll[k].ll_null;\n",
    "    strains_ell_list[k] = strains_ll[k].ll_null;\n",
    "end"
   ]
  },
  {
   "cell_type": "code",
   "execution_count": 165,
   "id": "c36342c1-adda-439d-8a36-6ddf1318854d",
   "metadata": {},
   "outputs": [
    {
     "data": {
      "text/plain": [
       "0.6011922559652536"
      ]
     },
     "execution_count": 165,
     "metadata": {},
     "output_type": "execute_result"
    }
   ],
   "source": [
    "scan_results_strains_hub.h2_null"
   ]
  },
  {
   "cell_type": "code",
   "execution_count": 166,
   "id": "d7c6bd9a-3a3c-4d18-95fd-3e37505a91f9",
   "metadata": {},
   "outputs": [
    {
     "data": {
      "text/plain": [
       "(ll_null = 59.37881705701244, ll_markerID = 59.54740033410485)"
      ]
     },
     "execution_count": 166,
     "metadata": {},
     "output_type": "execute_result"
    }
   ],
   "source": [
    "getLL(lp_strains_y, geno_strains, kinship_strains, 1997, 0.6011922559652536)"
   ]
  },
  {
   "cell_type": "code",
   "execution_count": 167,
   "id": "2d0f18a8-e23d-4b49-92f7-04ee04f1d4aa",
   "metadata": {},
   "outputs": [
    {
     "data": {
      "image/svg+xml": [
       "<?xml version=\"1.0\" encoding=\"utf-8\"?>\n",
       "<svg xmlns=\"http://www.w3.org/2000/svg\" xmlns:xlink=\"http://www.w3.org/1999/xlink\" width=\"600\" height=\"400\" viewBox=\"0 0 2400 1600\">\n",
       "<defs>\n",
       "  <clipPath id=\"clip320\">\n",
       "    <rect x=\"0\" y=\"0\" width=\"2400\" height=\"1600\"/>\n",
       "  </clipPath>\n",
       "</defs>\n",
       "<path clip-path=\"url(#clip320)\" d=\"\n",
       "M0 1600 L2400 1600 L2400 0 L0 0  Z\n",
       "  \" fill=\"#ffffff\" fill-rule=\"evenodd\" fill-opacity=\"1\"/>\n",
       "<defs>\n",
       "  <clipPath id=\"clip321\">\n",
       "    <rect x=\"480\" y=\"0\" width=\"1681\" height=\"1600\"/>\n",
       "  </clipPath>\n",
       "</defs>\n",
       "<path clip-path=\"url(#clip320)\" d=\"\n",
       "M186.089 1486.45 L2352.76 1486.45 L2352.76 47.2441 L186.089 47.2441  Z\n",
       "  \" fill=\"#ffffff\" fill-rule=\"evenodd\" fill-opacity=\"1\"/>\n",
       "<defs>\n",
       "  <clipPath id=\"clip322\">\n",
       "    <rect x=\"186\" y=\"47\" width=\"2168\" height=\"1440\"/>\n",
       "  </clipPath>\n",
       "</defs>\n",
       "<polyline clip-path=\"url(#clip322)\" style=\"stroke:#000000; stroke-linecap:round; stroke-linejoin:round; stroke-width:2; stroke-opacity:0.1; fill:none\" points=\"\n",
       "  245.361,1486.45 245.361,47.2441 \n",
       "  \"/>\n",
       "<polyline clip-path=\"url(#clip322)\" style=\"stroke:#000000; stroke-linecap:round; stroke-linejoin:round; stroke-width:2; stroke-opacity:0.1; fill:none\" points=\"\n",
       "  757.392,1486.45 757.392,47.2441 \n",
       "  \"/>\n",
       "<polyline clip-path=\"url(#clip322)\" style=\"stroke:#000000; stroke-linecap:round; stroke-linejoin:round; stroke-width:2; stroke-opacity:0.1; fill:none\" points=\"\n",
       "  1269.42,1486.45 1269.42,47.2441 \n",
       "  \"/>\n",
       "<polyline clip-path=\"url(#clip322)\" style=\"stroke:#000000; stroke-linecap:round; stroke-linejoin:round; stroke-width:2; stroke-opacity:0.1; fill:none\" points=\"\n",
       "  1781.45,1486.45 1781.45,47.2441 \n",
       "  \"/>\n",
       "<polyline clip-path=\"url(#clip322)\" style=\"stroke:#000000; stroke-linecap:round; stroke-linejoin:round; stroke-width:2; stroke-opacity:0.1; fill:none\" points=\"\n",
       "  2293.48,1486.45 2293.48,47.2441 \n",
       "  \"/>\n",
       "<polyline clip-path=\"url(#clip320)\" style=\"stroke:#000000; stroke-linecap:round; stroke-linejoin:round; stroke-width:4; stroke-opacity:1; fill:none\" points=\"\n",
       "  186.089,1486.45 2352.76,1486.45 \n",
       "  \"/>\n",
       "<polyline clip-path=\"url(#clip320)\" style=\"stroke:#000000; stroke-linecap:round; stroke-linejoin:round; stroke-width:4; stroke-opacity:1; fill:none\" points=\"\n",
       "  245.361,1486.45 245.361,1467.55 \n",
       "  \"/>\n",
       "<polyline clip-path=\"url(#clip320)\" style=\"stroke:#000000; stroke-linecap:round; stroke-linejoin:round; stroke-width:4; stroke-opacity:1; fill:none\" points=\"\n",
       "  757.392,1486.45 757.392,1467.55 \n",
       "  \"/>\n",
       "<polyline clip-path=\"url(#clip320)\" style=\"stroke:#000000; stroke-linecap:round; stroke-linejoin:round; stroke-width:4; stroke-opacity:1; fill:none\" points=\"\n",
       "  1269.42,1486.45 1269.42,1467.55 \n",
       "  \"/>\n",
       "<polyline clip-path=\"url(#clip320)\" style=\"stroke:#000000; stroke-linecap:round; stroke-linejoin:round; stroke-width:4; stroke-opacity:1; fill:none\" points=\"\n",
       "  1781.45,1486.45 1781.45,1467.55 \n",
       "  \"/>\n",
       "<polyline clip-path=\"url(#clip320)\" style=\"stroke:#000000; stroke-linecap:round; stroke-linejoin:round; stroke-width:4; stroke-opacity:1; fill:none\" points=\"\n",
       "  2293.48,1486.45 2293.48,1467.55 \n",
       "  \"/>\n",
       "<path clip-path=\"url(#clip320)\" d=\"M245.361 1517.37 Q241.75 1517.37 239.922 1520.93 Q238.116 1524.47 238.116 1531.6 Q238.116 1538.71 239.922 1542.27 Q241.75 1545.82 245.361 1545.82 Q248.996 1545.82 250.801 1542.27 Q252.63 1538.71 252.63 1531.6 Q252.63 1524.47 250.801 1520.93 Q248.996 1517.37 245.361 1517.37 M245.361 1513.66 Q251.172 1513.66 254.227 1518.27 Q257.306 1522.85 257.306 1531.6 Q257.306 1540.33 254.227 1544.94 Q251.172 1549.52 245.361 1549.52 Q239.551 1549.52 236.473 1544.94 Q233.417 1540.33 233.417 1531.6 Q233.417 1522.85 236.473 1518.27 Q239.551 1513.66 245.361 1513.66 Z\" fill=\"#000000\" fill-rule=\"evenodd\" fill-opacity=\"1\" /><path clip-path=\"url(#clip320)\" d=\"M721.084 1544.91 L737.404 1544.91 L737.404 1548.85 L715.459 1548.85 L715.459 1544.91 Q718.121 1542.16 722.705 1537.53 Q727.311 1532.88 728.492 1531.53 Q730.737 1529.01 731.617 1527.27 Q732.519 1525.51 732.519 1523.82 Q732.519 1521.07 730.575 1519.33 Q728.654 1517.6 725.552 1517.6 Q723.353 1517.6 720.899 1518.36 Q718.469 1519.13 715.691 1520.68 L715.691 1515.95 Q718.515 1514.82 720.968 1514.24 Q723.422 1513.66 725.459 1513.66 Q730.83 1513.66 734.024 1516.35 Q737.218 1519.03 737.218 1523.52 Q737.218 1525.65 736.408 1527.57 Q735.621 1529.47 733.515 1532.07 Q732.936 1532.74 729.834 1535.95 Q726.732 1539.15 721.084 1544.91 Z\" fill=\"#000000\" fill-rule=\"evenodd\" fill-opacity=\"1\" /><path clip-path=\"url(#clip320)\" d=\"M747.265 1514.29 L765.621 1514.29 L765.621 1518.22 L751.547 1518.22 L751.547 1526.7 Q752.566 1526.35 753.584 1526.19 Q754.603 1526 755.621 1526 Q761.408 1526 764.788 1529.17 Q768.167 1532.34 768.167 1537.76 Q768.167 1543.34 764.695 1546.44 Q761.223 1549.52 754.903 1549.52 Q752.728 1549.52 750.459 1549.15 Q748.214 1548.78 745.806 1548.04 L745.806 1543.34 Q747.89 1544.47 750.112 1545.03 Q752.334 1545.58 754.811 1545.58 Q758.816 1545.58 761.153 1543.48 Q763.491 1541.37 763.491 1537.76 Q763.491 1534.15 761.153 1532.04 Q758.816 1529.94 754.811 1529.94 Q752.936 1529.94 751.061 1530.35 Q749.209 1530.77 747.265 1531.65 L747.265 1514.29 Z\" fill=\"#000000\" fill-rule=\"evenodd\" fill-opacity=\"1\" /><path clip-path=\"url(#clip320)\" d=\"M787.38 1517.37 Q783.769 1517.37 781.94 1520.93 Q780.135 1524.47 780.135 1531.6 Q780.135 1538.71 781.94 1542.27 Q783.769 1545.82 787.38 1545.82 Q791.014 1545.82 792.82 1542.27 Q794.649 1538.71 794.649 1531.6 Q794.649 1524.47 792.82 1520.93 Q791.014 1517.37 787.38 1517.37 M787.38 1513.66 Q793.19 1513.66 796.246 1518.27 Q799.325 1522.85 799.325 1531.6 Q799.325 1540.33 796.246 1544.94 Q793.19 1549.52 787.38 1549.52 Q781.57 1549.52 778.491 1544.94 Q775.436 1540.33 775.436 1531.6 Q775.436 1522.85 778.491 1518.27 Q781.57 1513.66 787.38 1513.66 Z\" fill=\"#000000\" fill-rule=\"evenodd\" fill-opacity=\"1\" /><path clip-path=\"url(#clip320)\" d=\"M1229.04 1514.29 L1247.4 1514.29 L1247.4 1518.22 L1233.32 1518.22 L1233.32 1526.7 Q1234.34 1526.35 1235.36 1526.19 Q1236.38 1526 1237.4 1526 Q1243.18 1526 1246.56 1529.17 Q1249.94 1532.34 1249.94 1537.76 Q1249.94 1543.34 1246.47 1546.44 Q1243 1549.52 1236.68 1549.52 Q1234.5 1549.52 1232.24 1549.15 Q1229.99 1548.78 1227.58 1548.04 L1227.58 1543.34 Q1229.67 1544.47 1231.89 1545.03 Q1234.11 1545.58 1236.59 1545.58 Q1240.59 1545.58 1242.93 1543.48 Q1245.27 1541.37 1245.27 1537.76 Q1245.27 1534.15 1242.93 1532.04 Q1240.59 1529.94 1236.59 1529.94 Q1234.71 1529.94 1232.84 1530.35 Q1230.99 1530.77 1229.04 1531.65 L1229.04 1514.29 Z\" fill=\"#000000\" fill-rule=\"evenodd\" fill-opacity=\"1\" /><path clip-path=\"url(#clip320)\" d=\"M1269.16 1517.37 Q1265.55 1517.37 1263.72 1520.93 Q1261.91 1524.47 1261.91 1531.6 Q1261.91 1538.71 1263.72 1542.27 Q1265.55 1545.82 1269.16 1545.82 Q1272.79 1545.82 1274.6 1542.27 Q1276.42 1538.71 1276.42 1531.6 Q1276.42 1524.47 1274.6 1520.93 Q1272.79 1517.37 1269.16 1517.37 M1269.16 1513.66 Q1274.97 1513.66 1278.02 1518.27 Q1281.1 1522.85 1281.1 1531.6 Q1281.1 1540.33 1278.02 1544.94 Q1274.97 1549.52 1269.16 1549.52 Q1263.35 1549.52 1260.27 1544.94 Q1257.21 1540.33 1257.21 1531.6 Q1257.21 1522.85 1260.27 1518.27 Q1263.35 1513.66 1269.16 1513.66 Z\" fill=\"#000000\" fill-rule=\"evenodd\" fill-opacity=\"1\" /><path clip-path=\"url(#clip320)\" d=\"M1299.32 1517.37 Q1295.71 1517.37 1293.88 1520.93 Q1292.07 1524.47 1292.07 1531.6 Q1292.07 1538.71 1293.88 1542.27 Q1295.71 1545.82 1299.32 1545.82 Q1302.95 1545.82 1304.76 1542.27 Q1306.59 1538.71 1306.59 1531.6 Q1306.59 1524.47 1304.76 1520.93 Q1302.95 1517.37 1299.32 1517.37 M1299.32 1513.66 Q1305.13 1513.66 1308.18 1518.27 Q1311.26 1522.85 1311.26 1531.6 Q1311.26 1540.33 1308.18 1544.94 Q1305.13 1549.52 1299.32 1549.52 Q1293.51 1549.52 1290.43 1544.94 Q1287.37 1540.33 1287.37 1531.6 Q1287.37 1522.85 1290.43 1518.27 Q1293.51 1513.66 1299.32 1513.66 Z\" fill=\"#000000\" fill-rule=\"evenodd\" fill-opacity=\"1\" /><path clip-path=\"url(#clip320)\" d=\"M1739.73 1514.29 L1761.95 1514.29 L1761.95 1516.28 L1749.4 1548.85 L1744.52 1548.85 L1756.33 1518.22 L1739.73 1518.22 L1739.73 1514.29 Z\" fill=\"#000000\" fill-rule=\"evenodd\" fill-opacity=\"1\" /><path clip-path=\"url(#clip320)\" d=\"M1771.12 1514.29 L1789.47 1514.29 L1789.47 1518.22 L1775.4 1518.22 L1775.4 1526.7 Q1776.42 1526.35 1777.44 1526.19 Q1778.46 1526 1779.47 1526 Q1785.26 1526 1788.64 1529.17 Q1792.02 1532.34 1792.02 1537.76 Q1792.02 1543.34 1788.55 1546.44 Q1785.08 1549.52 1778.76 1549.52 Q1776.58 1549.52 1774.31 1549.15 Q1772.07 1548.78 1769.66 1548.04 L1769.66 1543.34 Q1771.74 1544.47 1773.96 1545.03 Q1776.19 1545.58 1778.66 1545.58 Q1782.67 1545.58 1785.01 1543.48 Q1787.34 1541.37 1787.34 1537.76 Q1787.34 1534.15 1785.01 1532.04 Q1782.67 1529.94 1778.66 1529.94 Q1776.79 1529.94 1774.91 1530.35 Q1773.06 1530.77 1771.12 1531.65 L1771.12 1514.29 Z\" fill=\"#000000\" fill-rule=\"evenodd\" fill-opacity=\"1\" /><path clip-path=\"url(#clip320)\" d=\"M1811.23 1517.37 Q1807.62 1517.37 1805.79 1520.93 Q1803.99 1524.47 1803.99 1531.6 Q1803.99 1538.71 1805.79 1542.27 Q1807.62 1545.82 1811.23 1545.82 Q1814.87 1545.82 1816.67 1542.27 Q1818.5 1538.71 1818.5 1531.6 Q1818.5 1524.47 1816.67 1520.93 Q1814.87 1517.37 1811.23 1517.37 M1811.23 1513.66 Q1817.04 1513.66 1820.1 1518.27 Q1823.18 1522.85 1823.18 1531.6 Q1823.18 1540.33 1820.1 1544.94 Q1817.04 1549.52 1811.23 1549.52 Q1805.42 1549.52 1802.34 1544.94 Q1799.29 1540.33 1799.29 1531.6 Q1799.29 1522.85 1802.34 1518.27 Q1805.42 1513.66 1811.23 1513.66 Z\" fill=\"#000000\" fill-rule=\"evenodd\" fill-opacity=\"1\" /><path clip-path=\"url(#clip320)\" d=\"M2238.01 1544.91 L2245.65 1544.91 L2245.65 1518.55 L2237.34 1520.21 L2237.34 1515.95 L2245.6 1514.29 L2250.28 1514.29 L2250.28 1544.91 L2257.92 1544.91 L2257.92 1548.85 L2238.01 1548.85 L2238.01 1544.91 Z\" fill=\"#000000\" fill-rule=\"evenodd\" fill-opacity=\"1\" /><path clip-path=\"url(#clip320)\" d=\"M2277.36 1517.37 Q2273.75 1517.37 2271.92 1520.93 Q2270.12 1524.47 2270.12 1531.6 Q2270.12 1538.71 2271.92 1542.27 Q2273.75 1545.82 2277.36 1545.82 Q2280.99 1545.82 2282.8 1542.27 Q2284.63 1538.71 2284.63 1531.6 Q2284.63 1524.47 2282.8 1520.93 Q2280.99 1517.37 2277.36 1517.37 M2277.36 1513.66 Q2283.17 1513.66 2286.23 1518.27 Q2289.31 1522.85 2289.31 1531.6 Q2289.31 1540.33 2286.23 1544.94 Q2283.17 1549.52 2277.36 1549.52 Q2271.55 1549.52 2268.47 1544.94 Q2265.42 1540.33 2265.42 1531.6 Q2265.42 1522.85 2268.47 1518.27 Q2271.55 1513.66 2277.36 1513.66 Z\" fill=\"#000000\" fill-rule=\"evenodd\" fill-opacity=\"1\" /><path clip-path=\"url(#clip320)\" d=\"M2307.52 1517.37 Q2303.91 1517.37 2302.08 1520.93 Q2300.28 1524.47 2300.28 1531.6 Q2300.28 1538.71 2302.08 1542.27 Q2303.91 1545.82 2307.52 1545.82 Q2311.16 1545.82 2312.96 1542.27 Q2314.79 1538.71 2314.79 1531.6 Q2314.79 1524.47 2312.96 1520.93 Q2311.16 1517.37 2307.52 1517.37 M2307.52 1513.66 Q2313.33 1513.66 2316.39 1518.27 Q2319.47 1522.85 2319.47 1531.6 Q2319.47 1540.33 2316.39 1544.94 Q2313.33 1549.52 2307.52 1549.52 Q2301.71 1549.52 2298.63 1544.94 Q2295.58 1540.33 2295.58 1531.6 Q2295.58 1522.85 2298.63 1518.27 Q2301.71 1513.66 2307.52 1513.66 Z\" fill=\"#000000\" fill-rule=\"evenodd\" fill-opacity=\"1\" /><path clip-path=\"url(#clip320)\" d=\"M2337.68 1517.37 Q2334.07 1517.37 2332.24 1520.93 Q2330.44 1524.47 2330.44 1531.6 Q2330.44 1538.71 2332.24 1542.27 Q2334.07 1545.82 2337.68 1545.82 Q2341.32 1545.82 2343.12 1542.27 Q2344.95 1538.71 2344.95 1531.6 Q2344.95 1524.47 2343.12 1520.93 Q2341.32 1517.37 2337.68 1517.37 M2337.68 1513.66 Q2343.49 1513.66 2346.55 1518.27 Q2349.63 1522.85 2349.63 1531.6 Q2349.63 1540.33 2346.55 1544.94 Q2343.49 1549.52 2337.68 1549.52 Q2331.87 1549.52 2328.8 1544.94 Q2325.74 1540.33 2325.74 1531.6 Q2325.74 1522.85 2328.8 1518.27 Q2331.87 1513.66 2337.68 1513.66 Z\" fill=\"#000000\" fill-rule=\"evenodd\" fill-opacity=\"1\" /><polyline clip-path=\"url(#clip322)\" style=\"stroke:#000000; stroke-linecap:round; stroke-linejoin:round; stroke-width:2; stroke-opacity:0.1; fill:none\" points=\"\n",
       "  186.089,1486.12 2352.76,1486.12 \n",
       "  \"/>\n",
       "<polyline clip-path=\"url(#clip322)\" style=\"stroke:#000000; stroke-linecap:round; stroke-linejoin:round; stroke-width:2; stroke-opacity:0.1; fill:none\" points=\"\n",
       "  186.089,1145.41 2352.76,1145.41 \n",
       "  \"/>\n",
       "<polyline clip-path=\"url(#clip322)\" style=\"stroke:#000000; stroke-linecap:round; stroke-linejoin:round; stroke-width:2; stroke-opacity:0.1; fill:none\" points=\"\n",
       "  186.089,804.707 2352.76,804.707 \n",
       "  \"/>\n",
       "<polyline clip-path=\"url(#clip322)\" style=\"stroke:#000000; stroke-linecap:round; stroke-linejoin:round; stroke-width:2; stroke-opacity:0.1; fill:none\" points=\"\n",
       "  186.089,463.999 2352.76,463.999 \n",
       "  \"/>\n",
       "<polyline clip-path=\"url(#clip322)\" style=\"stroke:#000000; stroke-linecap:round; stroke-linejoin:round; stroke-width:2; stroke-opacity:0.1; fill:none\" points=\"\n",
       "  186.089,123.291 2352.76,123.291 \n",
       "  \"/>\n",
       "<polyline clip-path=\"url(#clip320)\" style=\"stroke:#000000; stroke-linecap:round; stroke-linejoin:round; stroke-width:4; stroke-opacity:1; fill:none\" points=\"\n",
       "  186.089,1486.45 186.089,47.2441 \n",
       "  \"/>\n",
       "<polyline clip-path=\"url(#clip320)\" style=\"stroke:#000000; stroke-linecap:round; stroke-linejoin:round; stroke-width:4; stroke-opacity:1; fill:none\" points=\"\n",
       "  186.089,1486.12 204.986,1486.12 \n",
       "  \"/>\n",
       "<polyline clip-path=\"url(#clip320)\" style=\"stroke:#000000; stroke-linecap:round; stroke-linejoin:round; stroke-width:4; stroke-opacity:1; fill:none\" points=\"\n",
       "  186.089,1145.41 204.986,1145.41 \n",
       "  \"/>\n",
       "<polyline clip-path=\"url(#clip320)\" style=\"stroke:#000000; stroke-linecap:round; stroke-linejoin:round; stroke-width:4; stroke-opacity:1; fill:none\" points=\"\n",
       "  186.089,804.707 204.986,804.707 \n",
       "  \"/>\n",
       "<polyline clip-path=\"url(#clip320)\" style=\"stroke:#000000; stroke-linecap:round; stroke-linejoin:round; stroke-width:4; stroke-opacity:1; fill:none\" points=\"\n",
       "  186.089,463.999 204.986,463.999 \n",
       "  \"/>\n",
       "<polyline clip-path=\"url(#clip320)\" style=\"stroke:#000000; stroke-linecap:round; stroke-linejoin:round; stroke-width:4; stroke-opacity:1; fill:none\" points=\"\n",
       "  186.089,123.291 204.986,123.291 \n",
       "  \"/>\n",
       "<path clip-path=\"url(#clip320)\" d=\"M52.7977 1468.84 L71.1541 1468.84 L71.1541 1472.78 L57.0801 1472.78 L57.0801 1481.25 Q58.0986 1480.9 59.1171 1480.74 Q60.1356 1480.56 61.1541 1480.56 Q66.9411 1480.56 70.3207 1483.73 Q73.7003 1486.9 73.7003 1492.31 Q73.7003 1497.89 70.2281 1501 Q66.7559 1504.07 60.4365 1504.07 Q58.2606 1504.07 55.9921 1503.7 Q53.7467 1503.33 51.3393 1502.59 L51.3393 1497.89 Q53.4227 1499.03 55.6449 1499.58 Q57.8671 1500.14 60.3439 1500.14 Q64.3485 1500.14 66.6865 1498.03 Q69.0244 1495.93 69.0244 1492.31 Q69.0244 1488.7 66.6865 1486.6 Q64.3485 1484.49 60.3439 1484.49 Q58.4689 1484.49 56.5939 1484.91 Q54.7421 1485.32 52.7977 1486.2 L52.7977 1468.84 Z\" fill=\"#000000\" fill-rule=\"evenodd\" fill-opacity=\"1\" /><path clip-path=\"url(#clip320)\" d=\"M92.9132 1471.92 Q89.3021 1471.92 87.4734 1475.49 Q85.6679 1479.03 85.6679 1486.16 Q85.6679 1493.26 87.4734 1496.83 Q89.3021 1500.37 92.9132 1500.37 Q96.5474 1500.37 98.353 1496.83 Q100.182 1493.26 100.182 1486.16 Q100.182 1479.03 98.353 1475.49 Q96.5474 1471.92 92.9132 1471.92 M92.9132 1468.22 Q98.7234 1468.22 101.779 1472.82 Q104.858 1477.41 104.858 1486.16 Q104.858 1494.88 101.779 1499.49 Q98.7234 1504.07 92.9132 1504.07 Q87.103 1504.07 84.0244 1499.49 Q80.9688 1494.88 80.9688 1486.16 Q80.9688 1477.41 84.0244 1472.82 Q87.103 1468.22 92.9132 1468.22 Z\" fill=\"#000000\" fill-rule=\"evenodd\" fill-opacity=\"1\" /><path clip-path=\"url(#clip320)\" d=\"M113.075 1497.52 L117.959 1497.52 L117.959 1503.4 L113.075 1503.4 L113.075 1497.52 Z\" fill=\"#000000\" fill-rule=\"evenodd\" fill-opacity=\"1\" /><path clip-path=\"url(#clip320)\" d=\"M138.144 1471.92 Q134.533 1471.92 132.705 1475.49 Q130.899 1479.03 130.899 1486.16 Q130.899 1493.26 132.705 1496.83 Q134.533 1500.37 138.144 1500.37 Q141.779 1500.37 143.584 1496.83 Q145.413 1493.26 145.413 1486.16 Q145.413 1479.03 143.584 1475.49 Q141.779 1471.92 138.144 1471.92 M138.144 1468.22 Q143.955 1468.22 147.01 1472.82 Q150.089 1477.41 150.089 1486.16 Q150.089 1494.88 147.01 1499.49 Q143.955 1504.07 138.144 1504.07 Q132.334 1504.07 129.256 1499.49 Q126.2 1494.88 126.2 1486.16 Q126.2 1477.41 129.256 1472.82 Q132.334 1468.22 138.144 1468.22 Z\" fill=\"#000000\" fill-rule=\"evenodd\" fill-opacity=\"1\" /><path clip-path=\"url(#clip320)\" d=\"M53.793 1128.13 L72.1494 1128.13 L72.1494 1132.07 L58.0754 1132.07 L58.0754 1140.54 Q59.0939 1140.19 60.1124 1140.03 Q61.131 1139.85 62.1495 1139.85 Q67.9365 1139.85 71.3161 1143.02 Q74.6957 1146.19 74.6957 1151.61 Q74.6957 1157.19 71.2235 1160.29 Q67.7513 1163.37 61.4319 1163.37 Q59.256 1163.37 56.9875 1163 Q54.7421 1162.63 52.3347 1161.88 L52.3347 1157.19 Q54.418 1158.32 56.6402 1158.88 Q58.8625 1159.43 61.3393 1159.43 Q65.3439 1159.43 67.6819 1157.32 Q70.0198 1155.22 70.0198 1151.61 Q70.0198 1148 67.6819 1145.89 Q65.3439 1143.78 61.3393 1143.78 Q59.4643 1143.78 57.5893 1144.2 Q55.7375 1144.62 53.793 1145.5 L53.793 1128.13 Z\" fill=\"#000000\" fill-rule=\"evenodd\" fill-opacity=\"1\" /><path clip-path=\"url(#clip320)\" d=\"M87.9364 1158.76 L104.256 1158.76 L104.256 1162.69 L82.3114 1162.69 L82.3114 1158.76 Q84.9734 1156 89.5567 1151.38 Q94.1632 1146.72 95.3437 1145.38 Q97.5891 1142.86 98.4687 1141.12 Q99.3715 1139.36 99.3715 1137.67 Q99.3715 1134.92 97.4271 1133.18 Q95.5058 1131.44 92.4039 1131.44 Q90.2049 1131.44 87.7512 1132.21 Q85.3206 1132.97 82.5429 1134.52 L82.5429 1129.8 Q85.3669 1128.67 87.8206 1128.09 Q90.2743 1127.51 92.3113 1127.51 Q97.6817 1127.51 100.876 1130.19 Q104.071 1132.88 104.071 1137.37 Q104.071 1139.5 103.26 1141.42 Q102.473 1143.32 100.367 1145.91 Q99.7882 1146.58 96.6863 1149.8 Q93.5845 1153 87.9364 1158.76 Z\" fill=\"#000000\" fill-rule=\"evenodd\" fill-opacity=\"1\" /><path clip-path=\"url(#clip320)\" d=\"M114.07 1156.81 L118.955 1156.81 L118.955 1162.69 L114.07 1162.69 L114.07 1156.81 Z\" fill=\"#000000\" fill-rule=\"evenodd\" fill-opacity=\"1\" /><path clip-path=\"url(#clip320)\" d=\"M129.186 1128.13 L147.543 1128.13 L147.543 1132.07 L133.469 1132.07 L133.469 1140.54 Q134.487 1140.19 135.506 1140.03 Q136.524 1139.85 137.543 1139.85 Q143.33 1139.85 146.709 1143.02 Q150.089 1146.19 150.089 1151.61 Q150.089 1157.19 146.617 1160.29 Q143.144 1163.37 136.825 1163.37 Q134.649 1163.37 132.381 1163 Q130.135 1162.63 127.728 1161.88 L127.728 1157.19 Q129.811 1158.32 132.033 1158.88 Q134.256 1159.43 136.732 1159.43 Q140.737 1159.43 143.075 1157.32 Q145.413 1155.22 145.413 1151.61 Q145.413 1148 143.075 1145.89 Q140.737 1143.78 136.732 1143.78 Q134.857 1143.78 132.982 1144.2 Q131.131 1144.62 129.186 1145.5 L129.186 1128.13 Z\" fill=\"#000000\" fill-rule=\"evenodd\" fill-opacity=\"1\" /><path clip-path=\"url(#clip320)\" d=\"M52.7977 787.427 L71.1541 787.427 L71.1541 791.362 L57.0801 791.362 L57.0801 799.834 Q58.0986 799.487 59.1171 799.325 Q60.1356 799.139 61.1541 799.139 Q66.9411 799.139 70.3207 802.311 Q73.7003 805.482 73.7003 810.899 Q73.7003 816.477 70.2281 819.579 Q66.7559 822.658 60.4365 822.658 Q58.2606 822.658 55.9921 822.287 Q53.7467 821.917 51.3393 821.176 L51.3393 816.477 Q53.4227 817.612 55.6449 818.167 Q57.8671 818.723 60.3439 818.723 Q64.3485 818.723 66.6865 816.616 Q69.0244 814.51 69.0244 810.899 Q69.0244 807.288 66.6865 805.181 Q64.3485 803.075 60.3439 803.075 Q58.4689 803.075 56.5939 803.491 Q54.7421 803.908 52.7977 804.788 L52.7977 787.427 Z\" fill=\"#000000\" fill-rule=\"evenodd\" fill-opacity=\"1\" /><path clip-path=\"url(#clip320)\" d=\"M82.9595 787.427 L101.316 787.427 L101.316 791.362 L87.2419 791.362 L87.2419 799.834 Q88.2604 799.487 89.279 799.325 Q90.2975 799.139 91.316 799.139 Q97.103 799.139 100.483 802.311 Q103.862 805.482 103.862 810.899 Q103.862 816.477 100.39 819.579 Q96.9178 822.658 90.5984 822.658 Q88.4225 822.658 86.154 822.287 Q83.9086 821.917 81.5012 821.176 L81.5012 816.477 Q83.5845 817.612 85.8068 818.167 Q88.029 818.723 90.5058 818.723 Q94.5104 818.723 96.8484 816.616 Q99.1863 814.51 99.1863 810.899 Q99.1863 807.288 96.8484 805.181 Q94.5104 803.075 90.5058 803.075 Q88.6308 803.075 86.7558 803.491 Q84.904 803.908 82.9595 804.788 L82.9595 787.427 Z\" fill=\"#000000\" fill-rule=\"evenodd\" fill-opacity=\"1\" /><path clip-path=\"url(#clip320)\" d=\"M113.075 816.107 L117.959 816.107 L117.959 821.987 L113.075 821.987 L113.075 816.107 Z\" fill=\"#000000\" fill-rule=\"evenodd\" fill-opacity=\"1\" /><path clip-path=\"url(#clip320)\" d=\"M138.144 790.505 Q134.533 790.505 132.705 794.07 Q130.899 797.612 130.899 804.741 Q130.899 811.848 132.705 815.412 Q134.533 818.954 138.144 818.954 Q141.779 818.954 143.584 815.412 Q145.413 811.848 145.413 804.741 Q145.413 797.612 143.584 794.07 Q141.779 790.505 138.144 790.505 M138.144 786.802 Q143.955 786.802 147.01 791.408 Q150.089 795.991 150.089 804.741 Q150.089 813.468 147.01 818.075 Q143.955 822.658 138.144 822.658 Q132.334 822.658 129.256 818.075 Q126.2 813.468 126.2 804.741 Q126.2 795.991 129.256 791.408 Q132.334 786.802 138.144 786.802 Z\" fill=\"#000000\" fill-rule=\"evenodd\" fill-opacity=\"1\" /><path clip-path=\"url(#clip320)\" d=\"M53.793 446.719 L72.1494 446.719 L72.1494 450.654 L58.0754 450.654 L58.0754 459.126 Q59.0939 458.779 60.1124 458.617 Q61.131 458.431 62.1495 458.431 Q67.9365 458.431 71.3161 461.603 Q74.6957 464.774 74.6957 470.191 Q74.6957 475.769 71.2235 478.871 Q67.7513 481.95 61.4319 481.95 Q59.256 481.95 56.9875 481.58 Q54.7421 481.209 52.3347 480.468 L52.3347 475.769 Q54.418 476.904 56.6402 477.459 Q58.8625 478.015 61.3393 478.015 Q65.3439 478.015 67.6819 475.908 Q70.0198 473.802 70.0198 470.191 Q70.0198 466.58 67.6819 464.473 Q65.3439 462.367 61.3393 462.367 Q59.4643 462.367 57.5893 462.783 Q55.7375 463.2 53.793 464.08 L53.793 446.719 Z\" fill=\"#000000\" fill-rule=\"evenodd\" fill-opacity=\"1\" /><path clip-path=\"url(#clip320)\" d=\"M82.7281 446.719 L104.95 446.719 L104.95 448.709 L92.4039 481.279 L87.5197 481.279 L99.3252 450.654 L82.7281 450.654 L82.7281 446.719 Z\" fill=\"#000000\" fill-rule=\"evenodd\" fill-opacity=\"1\" /><path clip-path=\"url(#clip320)\" d=\"M114.07 475.399 L118.955 475.399 L118.955 481.279 L114.07 481.279 L114.07 475.399 Z\" fill=\"#000000\" fill-rule=\"evenodd\" fill-opacity=\"1\" /><path clip-path=\"url(#clip320)\" d=\"M129.186 446.719 L147.543 446.719 L147.543 450.654 L133.469 450.654 L133.469 459.126 Q134.487 458.779 135.506 458.617 Q136.524 458.431 137.543 458.431 Q143.33 458.431 146.709 461.603 Q150.089 464.774 150.089 470.191 Q150.089 475.769 146.617 478.871 Q143.144 481.95 136.825 481.95 Q134.649 481.95 132.381 481.58 Q130.135 481.209 127.728 480.468 L127.728 475.769 Q129.811 476.904 132.033 477.459 Q134.256 478.015 136.732 478.015 Q140.737 478.015 143.075 475.908 Q145.413 473.802 145.413 470.191 Q145.413 466.58 143.075 464.473 Q140.737 462.367 136.732 462.367 Q134.857 462.367 132.982 462.783 Q131.131 463.2 129.186 464.08 L129.186 446.719 Z\" fill=\"#000000\" fill-rule=\"evenodd\" fill-opacity=\"1\" /><path clip-path=\"url(#clip320)\" d=\"M63.33 121.427 Q60.1819 121.427 58.33 123.58 Q56.5014 125.733 56.5014 129.483 Q56.5014 133.21 58.33 135.385 Q60.1819 137.538 63.33 137.538 Q66.4782 137.538 68.3068 135.385 Q70.1587 133.21 70.1587 129.483 Q70.1587 125.733 68.3068 123.58 Q66.4782 121.427 63.33 121.427 M72.6124 106.775 L72.6124 111.034 Q70.8531 110.2 69.0476 109.761 Q67.2652 109.321 65.5059 109.321 Q60.8763 109.321 58.4226 112.446 Q55.9921 115.571 55.6449 121.89 Q57.0106 119.876 59.0708 118.811 Q61.131 117.724 63.6078 117.724 Q68.8161 117.724 71.8253 120.895 Q74.8577 124.043 74.8577 129.483 Q74.8577 134.807 71.7096 138.024 Q68.5615 141.242 63.33 141.242 Q57.3347 141.242 54.1634 136.659 Q50.9921 132.052 50.9921 123.325 Q50.9921 115.131 54.881 110.27 Q58.7699 105.386 65.3208 105.386 Q67.08 105.386 68.8624 105.733 Q70.6679 106.08 72.6124 106.775 Z\" fill=\"#000000\" fill-rule=\"evenodd\" fill-opacity=\"1\" /><path clip-path=\"url(#clip320)\" d=\"M92.9132 109.089 Q89.3021 109.089 87.4734 112.654 Q85.6679 116.196 85.6679 123.325 Q85.6679 130.432 87.4734 133.997 Q89.3021 137.538 92.9132 137.538 Q96.5474 137.538 98.353 133.997 Q100.182 130.432 100.182 123.325 Q100.182 116.196 98.353 112.654 Q96.5474 109.089 92.9132 109.089 M92.9132 105.386 Q98.7234 105.386 101.779 109.992 Q104.858 114.575 104.858 123.325 Q104.858 132.052 101.779 136.659 Q98.7234 141.242 92.9132 141.242 Q87.103 141.242 84.0244 136.659 Q80.9688 132.052 80.9688 123.325 Q80.9688 114.575 84.0244 109.992 Q87.103 105.386 92.9132 105.386 Z\" fill=\"#000000\" fill-rule=\"evenodd\" fill-opacity=\"1\" /><path clip-path=\"url(#clip320)\" d=\"M113.075 134.691 L117.959 134.691 L117.959 140.571 L113.075 140.571 L113.075 134.691 Z\" fill=\"#000000\" fill-rule=\"evenodd\" fill-opacity=\"1\" /><path clip-path=\"url(#clip320)\" d=\"M138.144 109.089 Q134.533 109.089 132.705 112.654 Q130.899 116.196 130.899 123.325 Q130.899 130.432 132.705 133.997 Q134.533 137.538 138.144 137.538 Q141.779 137.538 143.584 133.997 Q145.413 130.432 145.413 123.325 Q145.413 116.196 143.584 112.654 Q141.779 109.089 138.144 109.089 M138.144 105.386 Q143.955 105.386 147.01 109.992 Q150.089 114.575 150.089 123.325 Q150.089 132.052 147.01 136.659 Q143.955 141.242 138.144 141.242 Q132.334 141.242 129.256 136.659 Q126.2 132.052 126.2 123.325 Q126.2 114.575 129.256 109.992 Q132.334 105.386 138.144 105.386 Z\" fill=\"#000000\" fill-rule=\"evenodd\" fill-opacity=\"1\" /><polyline clip-path=\"url(#clip322)\" style=\"stroke:#009af9; stroke-linecap:round; stroke-linejoin:round; stroke-width:4; stroke-opacity:1; fill:none\" points=\"\n",
       "  247.41,87.9763 249.458,89.4697 251.506,90.922 253.554,92.3353 255.602,93.7112 257.65,95.0516 259.698,96.3581 261.746,97.632 263.795,98.8748 265.843,100.088 \n",
       "  267.891,101.272 269.939,102.429 271.987,103.56 274.035,104.665 276.083,105.746 278.131,106.803 280.18,107.838 282.228,108.851 284.276,109.843 286.324,110.814 \n",
       "  288.372,111.766 290.42,112.7 292.468,113.614 294.516,114.511 296.565,115.391 298.613,116.254 300.661,117.102 302.709,117.933 304.757,118.75 306.805,119.551 \n",
       "  308.853,120.339 310.901,121.113 312.949,121.873 314.998,122.62 317.046,123.354 319.094,124.077 321.142,124.787 323.19,125.485 325.238,126.172 327.286,126.848 \n",
       "  329.334,127.513 331.383,128.167 333.431,128.812 335.479,129.446 337.527,130.071 339.575,130.686 341.623,131.291 343.671,131.888 345.719,132.476 347.768,133.055 \n",
       "  349.816,133.625 351.864,134.188 353.912,134.742 355.96,135.288 358.008,135.827 360.056,136.358 362.104,136.882 364.153,137.398 366.201,137.907 368.249,138.41 \n",
       "  370.297,138.905 372.345,139.394 374.393,139.877 376.441,140.353 378.489,140.823 380.538,141.286 382.586,141.744 384.634,142.196 386.682,142.642 388.73,143.082 \n",
       "  390.778,143.517 392.826,143.946 394.874,144.37 396.922,144.789 398.971,145.202 401.019,145.611 403.067,146.014 405.115,146.413 407.163,146.806 409.211,147.196 \n",
       "  411.259,147.58 413.307,147.96 415.356,148.335 417.404,148.706 419.452,149.073 421.5,149.436 423.548,149.794 425.596,150.148 427.644,150.498 429.692,150.844 \n",
       "  431.741,151.187 433.789,151.525 435.837,151.86 437.885,152.191 439.933,152.518 441.981,152.842 444.029,153.162 446.077,153.478 448.126,153.791 450.174,154.101 \n",
       "  452.222,154.408 454.27,154.711 456.318,155.011 458.366,155.308 460.414,155.601 462.462,155.892 464.51,156.179 466.559,156.464 468.607,156.745 470.655,157.024 \n",
       "  472.703,157.299 474.751,157.572 476.799,157.842 478.847,158.11 480.895,158.374 482.944,158.636 484.992,158.896 487.04,159.152 489.088,159.407 491.136,159.658 \n",
       "  493.184,159.907 495.232,160.154 497.28,160.398 499.329,160.64 501.377,160.879 503.425,161.117 505.473,161.351 507.521,161.584 509.569,161.814 511.617,162.042 \n",
       "  513.665,162.268 515.714,162.492 517.762,162.714 519.81,162.933 521.858,163.151 523.906,163.366 525.954,163.579 528.002,163.791 530.05,164 532.099,164.208 \n",
       "  534.147,164.413 536.195,164.617 538.243,164.819 540.291,165.019 542.339,165.217 544.387,165.413 546.435,165.607 548.483,165.8 550.532,165.991 552.58,166.18 \n",
       "  554.628,166.368 556.676,166.554 558.724,166.738 560.772,166.92 562.82,167.101 564.868,167.281 566.917,167.458 568.965,167.635 571.013,167.809 573.061,167.982 \n",
       "  575.109,168.154 577.157,168.324 579.205,168.493 581.253,168.66 583.302,168.825 585.35,168.99 587.398,169.152 589.446,169.314 591.494,169.474 593.542,169.633 \n",
       "  595.59,169.79 597.638,169.946 599.687,170.101 601.735,170.254 603.783,170.406 605.831,170.557 607.879,170.706 609.927,170.855 611.975,171.002 614.023,171.147 \n",
       "  616.072,171.292 618.12,171.435 620.168,171.578 622.216,171.719 624.264,171.858 626.312,171.997 628.36,172.135 630.408,172.271 632.456,172.406 634.505,172.541 \n",
       "  636.553,172.674 638.601,172.806 640.649,172.937 642.697,173.067 644.745,173.196 646.793,173.324 648.841,173.451 650.89,173.576 652.938,173.701 654.986,173.825 \n",
       "  657.034,173.948 659.082,174.07 661.13,174.191 663.178,174.311 665.226,174.43 667.275,174.548 669.323,174.665 671.371,174.781 673.419,174.897 675.467,175.011 \n",
       "  677.515,175.125 679.563,175.237 681.611,175.349 683.66,175.46 685.708,175.57 687.756,175.679 689.804,175.788 691.852,175.895 693.9,176.002 695.948,176.108 \n",
       "  697.996,176.213 700.045,176.318 702.093,176.421 704.141,176.524 706.189,176.626 708.237,176.727 710.285,176.828 712.333,176.928 714.381,177.027 716.429,177.125 \n",
       "  718.478,177.223 720.526,177.319 722.574,177.416 724.622,177.511 726.67,177.606 728.718,177.7 730.766,177.793 732.814,177.886 734.863,177.978 736.911,178.069 \n",
       "  738.959,178.16 741.007,178.25 743.055,178.339 745.103,178.428 747.151,178.516 749.199,178.603 751.248,178.69 753.296,178.777 755.344,178.862 757.392,178.947 \n",
       "  759.44,179.032 761.488,179.115 763.536,179.199 765.584,179.281 767.633,179.363 769.681,179.445 771.729,179.526 773.777,179.606 775.825,179.686 777.873,179.765 \n",
       "  779.921,179.844 781.969,179.922 784.017,180 786.066,180.077 788.114,180.154 790.162,180.23 792.21,180.305 794.258,180.381 796.306,180.455 798.354,180.529 \n",
       "  800.402,180.603 802.451,180.676 804.499,180.748 806.547,180.821 808.595,180.892 810.643,180.963 812.691,181.034 814.739,181.104 816.787,181.174 818.836,181.244 \n",
       "  820.884,181.313 822.932,181.381 824.98,181.449 827.028,181.517 829.076,181.584 831.124,181.651 833.172,181.717 835.221,181.783 837.269,181.848 839.317,181.913 \n",
       "  841.365,181.978 843.413,182.042 845.461,182.106 847.509,182.17 849.557,182.233 851.606,182.295 853.654,182.358 855.702,182.42 857.75,182.481 859.798,182.543 \n",
       "  861.846,182.603 863.894,182.664 865.942,182.724 867.99,182.784 870.039,182.843 872.087,182.902 874.135,182.961 876.183,183.019 878.231,183.077 880.279,183.135 \n",
       "  882.327,183.192 884.375,183.249 886.424,183.306 888.472,183.363 890.52,183.419 892.568,183.474 894.616,183.53 896.664,183.585 898.712,183.64 900.76,183.694 \n",
       "  902.809,183.749 904.857,183.803 906.905,183.856 908.953,183.91 911.001,183.963 913.049,184.015 915.097,184.068 917.145,184.12 919.194,184.172 921.242,184.224 \n",
       "  923.29,184.275 925.338,184.326 927.386,184.377 929.434,184.428 931.482,184.478 933.53,184.529 935.579,184.578 937.627,184.628 939.675,184.677 941.723,184.727 \n",
       "  943.771,184.776 945.819,184.824 947.867,184.873 949.915,184.921 951.963,184.969 954.012,185.017 956.06,185.064 958.108,185.112 960.156,185.159 962.204,185.206 \n",
       "  964.252,185.252 966.3,185.299 968.348,185.345 970.397,185.391 972.445,185.437 974.493,185.482 976.541,185.528 978.589,185.573 980.637,185.618 982.685,185.663 \n",
       "  984.733,185.708 986.782,185.752 988.83,185.797 990.878,185.841 992.926,185.885 994.974,185.929 997.022,185.972 999.07,186.016 1001.12,186.059 1003.17,186.102 \n",
       "  1005.21,186.145 1007.26,186.188 1009.31,186.231 1011.36,186.273 1013.41,186.315 1015.46,186.358 1017.5,186.4 1019.55,186.442 1021.6,186.483 1023.65,186.525 \n",
       "  1025.7,186.566 1027.74,186.608 1029.79,186.649 1031.84,186.69 1033.89,186.731 1035.94,186.772 1037.98,186.812 1040.03,186.853 1042.08,186.893 1044.13,186.934 \n",
       "  1046.18,186.974 1048.23,187.014 1050.27,187.054 1052.32,187.094 1054.37,187.133 1056.42,187.173 1058.47,187.212 1060.51,187.252 1062.56,187.291 1064.61,187.33 \n",
       "  1066.66,187.369 1068.71,187.408 1070.75,187.447 1072.8,187.486 1074.85,187.525 1076.9,187.564 1078.95,187.602 1081,187.641 1083.04,187.679 1085.09,187.717 \n",
       "  1087.14,187.756 1089.19,187.794 1091.24,187.832 1093.28,187.87 1095.33,187.908 1097.38,187.946 1099.43,187.984 1101.48,188.021 1103.52,188.059 1105.57,188.097 \n",
       "  1107.62,188.134 1109.67,188.172 1111.72,188.209 1113.77,188.246 1115.81,188.284 1117.86,188.321 1119.91,188.358 1121.96,188.396 1124.01,188.433 1126.05,188.47 \n",
       "  1128.1,188.507 1130.15,188.544 1132.2,188.581 1134.25,188.618 1136.29,188.655 1138.34,188.692 1140.39,188.729 1142.44,188.765 1144.49,188.802 1146.54,188.839 \n",
       "  1148.58,188.876 1150.63,188.913 1152.68,188.949 1154.73,188.986 1156.78,189.023 1158.82,189.059 1160.87,189.096 1162.92,189.133 1164.97,189.169 1167.02,189.206 \n",
       "  1169.06,189.243 1171.11,189.279 1173.16,189.316 1175.21,189.352 1177.26,189.389 1179.31,189.426 1181.35,189.462 1183.4,189.499 1185.45,189.536 1187.5,189.572 \n",
       "  1189.55,189.609 1191.59,189.646 1193.64,189.682 1195.69,189.719 1197.74,189.756 1199.79,189.793 1201.83,189.829 1203.88,189.866 1205.93,189.903 1207.98,189.94 \n",
       "  1210.03,189.977 1212.07,190.014 1214.12,190.051 1216.17,190.088 1218.22,190.125 1220.27,190.162 1222.32,190.199 1224.36,190.236 1226.41,190.273 1228.46,190.31 \n",
       "  1230.51,190.348 1232.56,190.385 1234.6,190.422 1236.65,190.46 1238.7,190.497 1240.75,190.535 1242.8,190.572 1244.84,190.61 1246.89,190.648 1248.94,190.686 \n",
       "  1250.99,190.723 1253.04,190.761 1255.09,190.799 1257.13,190.837 1259.18,190.875 1261.23,190.914 1263.28,190.952 1265.33,190.99 1267.37,191.028 1269.42,191.067 \n",
       "  1271.47,191.105 1273.52,191.144 1275.57,191.183 1277.61,191.222 1279.66,191.261 1281.71,191.299 1283.76,191.339 1285.81,191.378 1287.86,191.417 1289.9,191.456 \n",
       "  1291.95,191.496 1294,191.535 1296.05,191.575 1298.1,191.615 1300.14,191.655 1302.19,191.694 1304.24,191.735 1306.29,191.775 1308.34,191.815 1310.38,191.855 \n",
       "  1312.43,191.896 1314.48,191.936 1316.53,191.977 1318.58,192.018 1320.63,192.059 1322.67,192.1 1324.72,192.141 1326.77,192.183 1328.82,192.224 1330.87,192.266 \n",
       "  1332.91,192.308 1334.96,192.349 1337.01,192.391 1339.06,192.434 1341.11,192.476 1343.15,192.518 1345.2,192.561 1347.25,192.604 1349.3,192.646 1351.35,192.689 \n",
       "  1353.4,192.733 1355.44,192.776 1357.49,192.819 1359.54,192.863 1361.59,192.907 1363.64,192.951 1365.68,192.995 1367.73,193.039 1369.78,193.083 1371.83,193.128 \n",
       "  1373.88,193.173 1375.92,193.218 1377.97,193.263 1380.02,193.308 1382.07,193.353 1384.12,193.399 1386.17,193.445 1388.21,193.491 1390.26,193.537 1392.31,193.583 \n",
       "  1394.36,193.63 1396.41,193.677 1398.45,193.724 1400.5,193.771 1402.55,193.818 1404.6,193.865 1406.65,193.913 1408.69,193.961 1410.74,194.009 1412.79,194.058 \n",
       "  1414.84,194.106 1416.89,194.155 1418.94,194.204 1420.98,194.253 1423.03,194.302 1425.08,194.352 1427.13,194.402 1429.18,194.452 1431.22,194.502 1433.27,194.552 \n",
       "  1435.32,194.603 1437.37,194.654 1439.42,194.705 1441.46,194.756 1443.51,194.808 1445.56,194.86 1447.61,194.912 1449.66,194.964 1451.71,195.017 1453.75,195.07 \n",
       "  1455.8,195.123 1457.85,195.176 1459.9,195.23 1461.95,195.284 1463.99,195.338 1466.04,195.392 1468.09,195.447 1470.14,195.502 1472.19,195.557 1474.23,195.612 \n",
       "  1476.28,195.668 1478.33,195.724 1480.38,195.78 1482.43,195.837 1484.48,195.894 1486.52,195.951 1488.57,196.008 1490.62,196.066 1492.67,196.124 1494.72,196.182 \n",
       "  1496.76,196.241 1498.81,196.299 1500.86,196.359 1502.91,196.418 1504.96,196.478 1507,196.538 1509.05,196.598 1511.1,196.659 1513.15,196.72 1515.2,196.781 \n",
       "  1517.25,196.843 1519.29,196.905 1521.34,196.967 1523.39,197.03 1525.44,197.093 1527.49,197.156 1529.53,197.22 1531.58,197.284 1533.63,197.348 1535.68,197.413 \n",
       "  1537.73,197.478 1539.77,197.543 1541.82,197.609 1543.87,197.675 1545.92,197.742 1547.97,197.809 1550.02,197.876 1552.06,197.943 1554.11,198.011 1556.16,198.08 \n",
       "  1558.21,198.148 1560.26,198.217 1562.3,198.287 1564.35,198.357 1566.4,198.427 1568.45,198.497 1570.5,198.569 1572.54,198.64 1574.59,198.712 1576.64,198.784 \n",
       "  1578.69,198.857 1580.74,198.93 1582.78,199.003 1584.83,199.077 1586.88,199.151 1588.93,199.226 1590.98,199.301 1593.03,199.377 1595.07,199.453 1597.12,199.53 \n",
       "  1599.17,199.606 1601.22,199.684 1603.27,199.762 1605.31,199.84 1607.36,199.919 1609.41,199.998 1611.46,200.078 1613.51,200.158 1615.55,200.238 1617.6,200.32 \n",
       "  1619.65,200.401 1621.7,200.483 1623.75,200.566 1625.8,200.649 1627.84,200.732 1629.89,200.817 1631.94,200.901 1633.99,200.986 1636.04,201.072 1638.08,201.158 \n",
       "  1640.13,201.244 1642.18,201.332 1644.23,201.419 1646.28,201.508 1648.32,201.596 1650.37,201.686 1652.42,201.776 1654.47,201.866 1656.52,201.957 1658.57,202.048 \n",
       "  1660.61,202.141 1662.66,202.233 1664.71,202.326 1666.76,202.42 1668.81,202.515 1670.85,202.61 1672.9,202.705 1674.95,202.802 1677,202.898 1679.05,202.996 \n",
       "  1681.09,203.094 1683.14,203.192 1685.19,203.292 1687.24,203.392 1689.29,203.492 1691.34,203.593 1693.38,203.695 1695.43,203.798 1697.48,203.901 1699.53,204.005 \n",
       "  1701.58,204.109 1703.62,204.214 1705.67,204.32 1707.72,204.427 1709.77,204.534 1711.82,204.642 1713.86,204.751 1715.91,204.86 1717.96,204.97 1720.01,205.081 \n",
       "  1722.06,205.192 1724.11,205.305 1726.15,205.418 1728.2,205.531 1730.25,205.646 1732.3,205.761 1734.35,205.877 1736.39,205.994 1738.44,206.112 1740.49,206.23 \n",
       "  1742.54,206.349 1744.59,206.469 1746.63,206.59 1748.68,206.712 1750.73,206.834 1752.78,206.957 1754.83,207.081 1756.88,207.206 1758.92,207.332 1760.97,207.459 \n",
       "  1763.02,207.586 1765.07,207.715 1767.12,207.844 1769.16,207.974 1771.21,208.106 1773.26,208.238 1775.31,208.371 1777.36,208.504 1779.4,208.639 1781.45,208.775 \n",
       "  1783.5,208.912 1785.55,209.049 1787.6,209.188 1789.65,209.328 1791.69,209.468 1793.74,209.61 1795.79,209.753 1797.84,209.896 1799.89,210.041 1801.93,210.187 \n",
       "  1803.98,210.334 1806.03,210.482 1808.08,210.631 1810.13,210.781 1812.17,210.932 1814.22,211.084 1816.27,211.237 1818.32,211.392 1820.37,211.547 1822.42,211.704 \n",
       "  1824.46,211.862 1826.51,212.021 1828.56,212.181 1830.61,212.343 1832.66,212.505 1834.7,212.669 1836.75,212.834 1838.8,213.001 1840.85,213.168 1842.9,213.337 \n",
       "  1844.94,213.508 1846.99,213.679 1849.04,213.852 1851.09,214.026 1853.14,214.201 1855.19,214.378 1857.23,214.556 1859.28,214.736 1861.33,214.917 1863.38,215.099 \n",
       "  1865.43,215.283 1867.47,215.468 1869.52,215.655 1871.57,215.843 1873.62,216.033 1875.67,216.224 1877.71,216.417 1879.76,216.611 1881.81,216.807 1883.86,217.005 \n",
       "  1885.91,217.204 1887.96,217.404 1890,217.606 1892.05,217.81 1894.1,218.016 1896.15,218.223 1898.2,218.432 1900.24,218.643 1902.29,218.855 1904.34,219.07 \n",
       "  1906.39,219.286 1908.44,219.503 1910.48,219.723 1912.53,219.945 1914.58,220.168 1916.63,220.393 1918.68,220.621 1920.73,220.85 1922.77,221.081 1924.82,221.314 \n",
       "  1926.87,221.549 1928.92,221.787 1930.97,222.026 1933.01,222.267 1935.06,222.511 1937.11,222.757 1939.16,223.005 1941.21,223.255 1943.25,223.507 1945.3,223.762 \n",
       "  1947.35,224.019 1949.4,224.278 1951.45,224.54 1953.5,224.804 1955.54,225.07 1957.59,225.339 1959.64,225.611 1961.69,225.884 1963.74,226.161 1965.78,226.44 \n",
       "  1967.83,226.722 1969.88,227.006 1971.93,227.294 1973.98,227.583 1976.02,227.876 1978.07,228.172 1980.12,228.47 1982.17,228.772 1984.22,229.076 1986.26,229.383 \n",
       "  1988.31,229.694 1990.36,230.007 1992.41,230.324 1994.46,230.644 1996.51,230.967 1998.55,231.293 2000.6,231.623 2002.65,231.956 2004.7,232.292 2006.75,232.633 \n",
       "  2008.79,232.976 2010.84,233.324 2012.89,233.675 2014.94,234.029 2016.99,234.388 2019.03,234.75 2021.08,235.117 2023.13,235.487 2025.18,235.862 2027.23,236.24 \n",
       "  2029.28,236.623 2031.32,237.01 2033.37,237.402 2035.42,237.798 2037.47,238.198 2039.52,238.603 2041.56,239.013 2043.61,239.428 2045.66,239.847 2047.71,240.272 \n",
       "  2049.76,240.702 2051.8,241.136 2053.85,241.576 2055.9,242.022 2057.95,242.473 2060,242.929 2062.05,243.392 2064.09,243.86 2066.14,244.334 2068.19,244.814 \n",
       "  2070.24,245.301 2072.29,245.793 2074.33,246.293 2076.38,246.798 2078.43,247.311 2080.48,247.831 2082.53,248.357 2084.57,248.891 2086.62,249.433 2088.67,249.982 \n",
       "  2090.72,250.538 2092.77,251.103 2094.82,251.676 2096.86,252.257 2098.91,252.847 2100.96,253.446 2103.01,254.053 2105.06,254.67 2107.1,255.297 2109.15,255.933 \n",
       "  2111.2,256.579 2113.25,257.236 2115.3,257.903 2117.34,258.581 2119.39,259.27 2121.44,259.971 2123.49,260.683 2125.54,261.408 2127.59,262.146 2129.63,262.896 \n",
       "  2131.68,263.66 2133.73,264.437 2135.78,265.229 2137.83,266.036 2139.87,266.857 2141.92,267.695 2143.97,268.549 2146.02,269.419 2148.07,270.307 2150.11,271.213 \n",
       "  2152.16,272.138 2154.21,273.082 2156.26,274.047 2158.31,275.032 2160.36,276.039 2162.4,277.069 2164.45,278.122 2166.5,279.2 2168.55,280.304 2170.6,281.434 \n",
       "  2172.64,282.592 2174.69,283.78 2176.74,284.997 2178.79,286.247 2180.84,287.53 2182.88,288.848 2184.93,290.204 2186.98,291.597 2189.03,293.032 2191.08,294.51 \n",
       "  2193.13,296.032 2195.17,297.603 2197.22,299.224 2199.27,300.899 2201.32,302.631 2203.37,304.422 2205.41,306.278 2207.46,308.202 2209.51,310.199 2211.56,312.274 \n",
       "  2213.61,314.432 2215.65,316.679 2217.7,319.022 2219.75,321.469 2221.8,324.027 2223.85,326.705 2225.9,329.514 2227.94,332.465 2229.99,335.571 2232.04,338.846 \n",
       "  2234.09,342.307 2236.14,345.971 2238.18,349.86 2240.23,353.998 2242.28,358.413 2244.33,363.137 2246.38,368.207 2248.42,373.668 2250.47,379.57 2252.52,385.976 \n",
       "  2254.57,392.959 2256.62,400.608 2258.67,409.03 2260.71,418.358 2262.76,428.759 2264.81,440.439 2266.86,453.666 2268.91,468.786 2270.95,486.257 2273,506.699 \n",
       "  2275.05,530.971 2277.1,560.297 2279.15,596.489 2281.19,642.339 2283.24,702.396 2285.29,784.597 2287.34,904.155 2289.39,1094.42 2291.44,1445.72 \n",
       "  \"/>\n",
       "<path clip-path=\"url(#clip320)\" d=\"\n",
       "M258.311 1438.47 L527.408 1438.47 L527.408 1334.79 L258.311 1334.79  Z\n",
       "  \" fill=\"#ffffff\" fill-rule=\"evenodd\" fill-opacity=\"1\"/>\n",
       "<polyline clip-path=\"url(#clip320)\" style=\"stroke:#000000; stroke-linecap:round; stroke-linejoin:round; stroke-width:4; stroke-opacity:1; fill:none\" points=\"\n",
       "  258.311,1438.47 527.408,1438.47 527.408,1334.79 258.311,1334.79 258.311,1438.47 \n",
       "  \"/>\n",
       "<polyline clip-path=\"url(#clip320)\" style=\"stroke:#009af9; stroke-linecap:round; stroke-linejoin:round; stroke-width:4; stroke-opacity:1; fill:none\" points=\"\n",
       "  282.385,1386.63 426.83,1386.63 \n",
       "  \"/>\n",
       "<path clip-path=\"url(#clip320)\" d=\"M464.746 1406.32 Q462.941 1410.95 461.228 1412.36 Q459.515 1413.78 456.644 1413.78 L453.242 1413.78 L453.242 1410.21 L455.742 1410.21 Q457.501 1410.21 458.473 1409.38 Q459.445 1408.54 460.626 1405.44 L461.39 1403.5 L450.904 1377.99 L455.418 1377.99 L463.519 1398.27 L471.621 1377.99 L476.135 1377.99 L464.746 1406.32 Z\" fill=\"#000000\" fill-rule=\"evenodd\" fill-opacity=\"1\" /><path clip-path=\"url(#clip320)\" d=\"M483.427 1399.98 L491.066 1399.98 L491.066 1373.61 L482.755 1375.28 L482.755 1371.02 L491.019 1369.35 L495.695 1369.35 L495.695 1399.98 L503.334 1399.98 L503.334 1403.91 L483.427 1403.91 L483.427 1399.98 Z\" fill=\"#000000\" fill-rule=\"evenodd\" fill-opacity=\"1\" /></svg>\n"
      ]
     },
     "execution_count": 167,
     "metadata": {},
     "output_type": "execute_result"
    }
   ],
   "source": [
    "plot(strains_ell_list)"
   ]
  },
  {
   "cell_type": "code",
   "execution_count": 169,
   "id": "6e420b54-7a4c-4c13-86a5-ee383b660f7f",
   "metadata": {},
   "outputs": [
    {
     "data": {
      "text/plain": [
       "(60.259124721479466, 1)"
      ]
     },
     "execution_count": 169,
     "metadata": {},
     "output_type": "execute_result"
    }
   ],
   "source": [
    "findmax(strains_ell_list)"
   ]
  },
  {
   "cell_type": "code",
   "execution_count": 142,
   "id": "e6908b72-61d6-46e2-bfdc-00d514d2570c",
   "metadata": {},
   "outputs": [
    {
     "data": {
      "image/svg+xml": [
       "<?xml version=\"1.0\" encoding=\"utf-8\"?>\n",
       "<svg xmlns=\"http://www.w3.org/2000/svg\" xmlns:xlink=\"http://www.w3.org/1999/xlink\" width=\"600\" height=\"400\" viewBox=\"0 0 2400 1600\">\n",
       "<defs>\n",
       "  <clipPath id=\"clip200\">\n",
       "    <rect x=\"0\" y=\"0\" width=\"2400\" height=\"1600\"/>\n",
       "  </clipPath>\n",
       "</defs>\n",
       "<path clip-path=\"url(#clip200)\" d=\"\n",
       "M0 1600 L2400 1600 L2400 0 L0 0  Z\n",
       "  \" fill=\"#ffffff\" fill-rule=\"evenodd\" fill-opacity=\"1\"/>\n",
       "<defs>\n",
       "  <clipPath id=\"clip201\">\n",
       "    <rect x=\"480\" y=\"0\" width=\"1681\" height=\"1600\"/>\n",
       "  </clipPath>\n",
       "</defs>\n",
       "<path clip-path=\"url(#clip200)\" d=\"\n",
       "M232.389 1423.18 L2352.76 1423.18 L2352.76 47.2441 L232.389 47.2441  Z\n",
       "  \" fill=\"#ffffff\" fill-rule=\"evenodd\" fill-opacity=\"1\"/>\n",
       "<defs>\n",
       "  <clipPath id=\"clip202\">\n",
       "    <rect x=\"232\" y=\"47\" width=\"2121\" height=\"1377\"/>\n",
       "  </clipPath>\n",
       "</defs>\n",
       "<polyline clip-path=\"url(#clip202)\" style=\"stroke:#000000; stroke-linecap:round; stroke-linejoin:round; stroke-width:2; stroke-opacity:0.1; fill:none\" points=\"\n",
       "  290.395,1423.18 290.395,47.2441 \n",
       "  \"/>\n",
       "<polyline clip-path=\"url(#clip202)\" style=\"stroke:#000000; stroke-linecap:round; stroke-linejoin:round; stroke-width:2; stroke-opacity:0.1; fill:none\" points=\"\n",
       "  791.484,1423.18 791.484,47.2441 \n",
       "  \"/>\n",
       "<polyline clip-path=\"url(#clip202)\" style=\"stroke:#000000; stroke-linecap:round; stroke-linejoin:round; stroke-width:2; stroke-opacity:0.1; fill:none\" points=\"\n",
       "  1292.57,1423.18 1292.57,47.2441 \n",
       "  \"/>\n",
       "<polyline clip-path=\"url(#clip202)\" style=\"stroke:#000000; stroke-linecap:round; stroke-linejoin:round; stroke-width:2; stroke-opacity:0.1; fill:none\" points=\"\n",
       "  1793.66,1423.18 1793.66,47.2441 \n",
       "  \"/>\n",
       "<polyline clip-path=\"url(#clip202)\" style=\"stroke:#000000; stroke-linecap:round; stroke-linejoin:round; stroke-width:2; stroke-opacity:0.1; fill:none\" points=\"\n",
       "  2294.75,1423.18 2294.75,47.2441 \n",
       "  \"/>\n",
       "<polyline clip-path=\"url(#clip200)\" style=\"stroke:#000000; stroke-linecap:round; stroke-linejoin:round; stroke-width:4; stroke-opacity:1; fill:none\" points=\"\n",
       "  232.389,1423.18 2352.76,1423.18 \n",
       "  \"/>\n",
       "<polyline clip-path=\"url(#clip200)\" style=\"stroke:#000000; stroke-linecap:round; stroke-linejoin:round; stroke-width:4; stroke-opacity:1; fill:none\" points=\"\n",
       "  290.395,1423.18 290.395,1404.28 \n",
       "  \"/>\n",
       "<polyline clip-path=\"url(#clip200)\" style=\"stroke:#000000; stroke-linecap:round; stroke-linejoin:round; stroke-width:4; stroke-opacity:1; fill:none\" points=\"\n",
       "  791.484,1423.18 791.484,1404.28 \n",
       "  \"/>\n",
       "<polyline clip-path=\"url(#clip200)\" style=\"stroke:#000000; stroke-linecap:round; stroke-linejoin:round; stroke-width:4; stroke-opacity:1; fill:none\" points=\"\n",
       "  1292.57,1423.18 1292.57,1404.28 \n",
       "  \"/>\n",
       "<polyline clip-path=\"url(#clip200)\" style=\"stroke:#000000; stroke-linecap:round; stroke-linejoin:round; stroke-width:4; stroke-opacity:1; fill:none\" points=\"\n",
       "  1793.66,1423.18 1793.66,1404.28 \n",
       "  \"/>\n",
       "<polyline clip-path=\"url(#clip200)\" style=\"stroke:#000000; stroke-linecap:round; stroke-linejoin:round; stroke-width:4; stroke-opacity:1; fill:none\" points=\"\n",
       "  2294.75,1423.18 2294.75,1404.28 \n",
       "  \"/>\n",
       "<path clip-path=\"url(#clip200)\" d=\"M252.699 1454.1 Q249.088 1454.1 247.259 1457.66 Q245.453 1461.2 245.453 1468.33 Q245.453 1475.44 247.259 1479.01 Q249.088 1482.55 252.699 1482.55 Q256.333 1482.55 258.139 1479.01 Q259.967 1475.44 259.967 1468.33 Q259.967 1461.2 258.139 1457.66 Q256.333 1454.1 252.699 1454.1 M252.699 1450.39 Q258.509 1450.39 261.565 1455 Q264.643 1459.58 264.643 1468.33 Q264.643 1477.06 261.565 1481.67 Q258.509 1486.25 252.699 1486.25 Q246.889 1486.25 243.81 1481.67 Q240.754 1477.06 240.754 1468.33 Q240.754 1459.58 243.81 1455 Q246.889 1450.39 252.699 1450.39 Z\" fill=\"#000000\" fill-rule=\"evenodd\" fill-opacity=\"1\" /><path clip-path=\"url(#clip200)\" d=\"M272.861 1479.7 L277.745 1479.7 L277.745 1485.58 L272.861 1485.58 L272.861 1479.7 Z\" fill=\"#000000\" fill-rule=\"evenodd\" fill-opacity=\"1\" /><path clip-path=\"url(#clip200)\" d=\"M297.93 1454.1 Q294.319 1454.1 292.49 1457.66 Q290.685 1461.2 290.685 1468.33 Q290.685 1475.44 292.49 1479.01 Q294.319 1482.55 297.93 1482.55 Q301.564 1482.55 303.37 1479.01 Q305.199 1475.44 305.199 1468.33 Q305.199 1461.2 303.37 1457.66 Q301.564 1454.1 297.93 1454.1 M297.93 1450.39 Q303.74 1450.39 306.796 1455 Q309.874 1459.58 309.874 1468.33 Q309.874 1477.06 306.796 1481.67 Q303.74 1486.25 297.93 1486.25 Q292.12 1486.25 289.041 1481.67 Q285.986 1477.06 285.986 1468.33 Q285.986 1459.58 289.041 1455 Q292.12 1450.39 297.93 1450.39 Z\" fill=\"#000000\" fill-rule=\"evenodd\" fill-opacity=\"1\" /><path clip-path=\"url(#clip200)\" d=\"M328.092 1454.1 Q324.481 1454.1 322.652 1457.66 Q320.847 1461.2 320.847 1468.33 Q320.847 1475.44 322.652 1479.01 Q324.481 1482.55 328.092 1482.55 Q331.726 1482.55 333.532 1479.01 Q335.36 1475.44 335.36 1468.33 Q335.36 1461.2 333.532 1457.66 Q331.726 1454.1 328.092 1454.1 M328.092 1450.39 Q333.902 1450.39 336.958 1455 Q340.036 1459.58 340.036 1468.33 Q340.036 1477.06 336.958 1481.67 Q333.902 1486.25 328.092 1486.25 Q322.282 1486.25 319.203 1481.67 Q316.148 1477.06 316.148 1468.33 Q316.148 1459.58 319.203 1455 Q322.282 1450.39 328.092 1450.39 Z\" fill=\"#000000\" fill-rule=\"evenodd\" fill-opacity=\"1\" /><path clip-path=\"url(#clip200)\" d=\"M754.285 1454.1 Q750.674 1454.1 748.845 1457.66 Q747.04 1461.2 747.04 1468.33 Q747.04 1475.44 748.845 1479.01 Q750.674 1482.55 754.285 1482.55 Q757.919 1482.55 759.725 1479.01 Q761.554 1475.44 761.554 1468.33 Q761.554 1461.2 759.725 1457.66 Q757.919 1454.1 754.285 1454.1 M754.285 1450.39 Q760.095 1450.39 763.151 1455 Q766.23 1459.58 766.23 1468.33 Q766.23 1477.06 763.151 1481.67 Q760.095 1486.25 754.285 1486.25 Q748.475 1486.25 745.396 1481.67 Q742.341 1477.06 742.341 1468.33 Q742.341 1459.58 745.396 1455 Q748.475 1450.39 754.285 1450.39 Z\" fill=\"#000000\" fill-rule=\"evenodd\" fill-opacity=\"1\" /><path clip-path=\"url(#clip200)\" d=\"M774.447 1479.7 L779.331 1479.7 L779.331 1485.58 L774.447 1485.58 L774.447 1479.7 Z\" fill=\"#000000\" fill-rule=\"evenodd\" fill-opacity=\"1\" /><path clip-path=\"url(#clip200)\" d=\"M793.544 1481.64 L809.864 1481.64 L809.864 1485.58 L787.919 1485.58 L787.919 1481.64 Q790.581 1478.89 795.165 1474.26 Q799.771 1469.61 800.952 1468.27 Q803.197 1465.74 804.077 1464.01 Q804.979 1462.25 804.979 1460.56 Q804.979 1457.8 803.035 1456.07 Q801.114 1454.33 798.012 1454.33 Q795.813 1454.33 793.359 1455.09 Q790.928 1455.86 788.151 1457.41 L788.151 1452.69 Q790.975 1451.55 793.428 1450.97 Q795.882 1450.39 797.919 1450.39 Q803.289 1450.39 806.484 1453.08 Q809.678 1455.77 809.678 1460.26 Q809.678 1462.39 808.868 1464.31 Q808.081 1466.2 805.975 1468.8 Q805.396 1469.47 802.294 1472.69 Q799.192 1475.88 793.544 1481.64 Z\" fill=\"#000000\" fill-rule=\"evenodd\" fill-opacity=\"1\" /><path clip-path=\"url(#clip200)\" d=\"M819.725 1451.02 L838.081 1451.02 L838.081 1454.96 L824.007 1454.96 L824.007 1463.43 Q825.025 1463.08 826.044 1462.92 Q827.063 1462.73 828.081 1462.73 Q833.868 1462.73 837.248 1465.9 Q840.627 1469.08 840.627 1474.49 Q840.627 1480.07 837.155 1483.17 Q833.683 1486.25 827.363 1486.25 Q825.188 1486.25 822.919 1485.88 Q820.674 1485.51 818.266 1484.77 L818.266 1480.07 Q820.35 1481.2 822.572 1481.76 Q824.794 1482.32 827.271 1482.32 Q831.275 1482.32 833.613 1480.21 Q835.951 1478.1 835.951 1474.49 Q835.951 1470.88 833.613 1468.77 Q831.275 1466.67 827.271 1466.67 Q825.396 1466.67 823.521 1467.08 Q821.669 1467.5 819.725 1468.38 L819.725 1451.02 Z\" fill=\"#000000\" fill-rule=\"evenodd\" fill-opacity=\"1\" /><path clip-path=\"url(#clip200)\" d=\"M1254.88 1454.1 Q1251.26 1454.1 1249.44 1457.66 Q1247.63 1461.2 1247.63 1468.33 Q1247.63 1475.44 1249.44 1479.01 Q1251.26 1482.55 1254.88 1482.55 Q1258.51 1482.55 1260.32 1479.01 Q1262.14 1475.44 1262.14 1468.33 Q1262.14 1461.2 1260.32 1457.66 Q1258.51 1454.1 1254.88 1454.1 M1254.88 1450.39 Q1260.69 1450.39 1263.74 1455 Q1266.82 1459.58 1266.82 1468.33 Q1266.82 1477.06 1263.74 1481.67 Q1260.69 1486.25 1254.88 1486.25 Q1249.07 1486.25 1245.99 1481.67 Q1242.93 1477.06 1242.93 1468.33 Q1242.93 1459.58 1245.99 1455 Q1249.07 1450.39 1254.88 1450.39 Z\" fill=\"#000000\" fill-rule=\"evenodd\" fill-opacity=\"1\" /><path clip-path=\"url(#clip200)\" d=\"M1275.04 1479.7 L1279.92 1479.7 L1279.92 1485.58 L1275.04 1485.58 L1275.04 1479.7 Z\" fill=\"#000000\" fill-rule=\"evenodd\" fill-opacity=\"1\" /><path clip-path=\"url(#clip200)\" d=\"M1290.15 1451.02 L1308.51 1451.02 L1308.51 1454.96 L1294.44 1454.96 L1294.44 1463.43 Q1295.45 1463.08 1296.47 1462.92 Q1297.49 1462.73 1298.51 1462.73 Q1304.3 1462.73 1307.68 1465.9 Q1311.06 1469.08 1311.06 1474.49 Q1311.06 1480.07 1307.58 1483.17 Q1304.11 1486.25 1297.79 1486.25 Q1295.62 1486.25 1293.35 1485.88 Q1291.1 1485.51 1288.7 1484.77 L1288.7 1480.07 Q1290.78 1481.2 1293 1481.76 Q1295.22 1482.32 1297.7 1482.32 Q1301.7 1482.32 1304.04 1480.21 Q1306.38 1478.1 1306.38 1474.49 Q1306.38 1470.88 1304.04 1468.77 Q1301.7 1466.67 1297.7 1466.67 Q1295.82 1466.67 1293.95 1467.08 Q1292.1 1467.5 1290.15 1468.38 L1290.15 1451.02 Z\" fill=\"#000000\" fill-rule=\"evenodd\" fill-opacity=\"1\" /><path clip-path=\"url(#clip200)\" d=\"M1330.27 1454.1 Q1326.66 1454.1 1324.83 1457.66 Q1323.02 1461.2 1323.02 1468.33 Q1323.02 1475.44 1324.83 1479.01 Q1326.66 1482.55 1330.27 1482.55 Q1333.9 1482.55 1335.71 1479.01 Q1337.54 1475.44 1337.54 1468.33 Q1337.54 1461.2 1335.71 1457.66 Q1333.9 1454.1 1330.27 1454.1 M1330.27 1450.39 Q1336.08 1450.39 1339.13 1455 Q1342.21 1459.58 1342.21 1468.33 Q1342.21 1477.06 1339.13 1481.67 Q1336.08 1486.25 1330.27 1486.25 Q1324.46 1486.25 1321.38 1481.67 Q1318.32 1477.06 1318.32 1468.33 Q1318.32 1459.58 1321.38 1455 Q1324.46 1450.39 1330.27 1450.39 Z\" fill=\"#000000\" fill-rule=\"evenodd\" fill-opacity=\"1\" /><path clip-path=\"url(#clip200)\" d=\"M1756.46 1454.1 Q1752.85 1454.1 1751.02 1457.66 Q1749.22 1461.2 1749.22 1468.33 Q1749.22 1475.44 1751.02 1479.01 Q1752.85 1482.55 1756.46 1482.55 Q1760.1 1482.55 1761.9 1479.01 Q1763.73 1475.44 1763.73 1468.33 Q1763.73 1461.2 1761.9 1457.66 Q1760.1 1454.1 1756.46 1454.1 M1756.46 1450.39 Q1762.27 1450.39 1765.33 1455 Q1768.41 1459.58 1768.41 1468.33 Q1768.41 1477.06 1765.33 1481.67 Q1762.27 1486.25 1756.46 1486.25 Q1750.65 1486.25 1747.57 1481.67 Q1744.52 1477.06 1744.52 1468.33 Q1744.52 1459.58 1747.57 1455 Q1750.65 1450.39 1756.46 1450.39 Z\" fill=\"#000000\" fill-rule=\"evenodd\" fill-opacity=\"1\" /><path clip-path=\"url(#clip200)\" d=\"M1776.62 1479.7 L1781.51 1479.7 L1781.51 1485.58 L1776.62 1485.58 L1776.62 1479.7 Z\" fill=\"#000000\" fill-rule=\"evenodd\" fill-opacity=\"1\" /><path clip-path=\"url(#clip200)\" d=\"M1790.51 1451.02 L1812.74 1451.02 L1812.74 1453.01 L1800.19 1485.58 L1795.3 1485.58 L1807.11 1454.96 L1790.51 1454.96 L1790.51 1451.02 Z\" fill=\"#000000\" fill-rule=\"evenodd\" fill-opacity=\"1\" /><path clip-path=\"url(#clip200)\" d=\"M1821.9 1451.02 L1840.26 1451.02 L1840.26 1454.96 L1826.18 1454.96 L1826.18 1463.43 Q1827.2 1463.08 1828.22 1462.92 Q1829.24 1462.73 1830.26 1462.73 Q1836.05 1462.73 1839.42 1465.9 Q1842.8 1469.08 1842.8 1474.49 Q1842.8 1480.07 1839.33 1483.17 Q1835.86 1486.25 1829.54 1486.25 Q1827.36 1486.25 1825.1 1485.88 Q1822.85 1485.51 1820.44 1484.77 L1820.44 1480.07 Q1822.53 1481.2 1824.75 1481.76 Q1826.97 1482.32 1829.45 1482.32 Q1833.45 1482.32 1835.79 1480.21 Q1838.13 1478.1 1838.13 1474.49 Q1838.13 1470.88 1835.79 1468.77 Q1833.45 1466.67 1829.45 1466.67 Q1827.57 1466.67 1825.7 1467.08 Q1823.85 1467.5 1821.9 1468.38 L1821.9 1451.02 Z\" fill=\"#000000\" fill-rule=\"evenodd\" fill-opacity=\"1\" /><path clip-path=\"url(#clip200)\" d=\"M2246.82 1481.64 L2254.46 1481.64 L2254.46 1455.28 L2246.15 1456.95 L2246.15 1452.69 L2254.41 1451.02 L2259.09 1451.02 L2259.09 1481.64 L2266.73 1481.64 L2266.73 1485.58 L2246.82 1485.58 L2246.82 1481.64 Z\" fill=\"#000000\" fill-rule=\"evenodd\" fill-opacity=\"1\" /><path clip-path=\"url(#clip200)\" d=\"M2276.17 1479.7 L2281.06 1479.7 L2281.06 1485.58 L2276.17 1485.58 L2276.17 1479.7 Z\" fill=\"#000000\" fill-rule=\"evenodd\" fill-opacity=\"1\" /><path clip-path=\"url(#clip200)\" d=\"M2301.24 1454.1 Q2297.63 1454.1 2295.8 1457.66 Q2294 1461.2 2294 1468.33 Q2294 1475.44 2295.8 1479.01 Q2297.63 1482.55 2301.24 1482.55 Q2304.88 1482.55 2306.68 1479.01 Q2308.51 1475.44 2308.51 1468.33 Q2308.51 1461.2 2306.68 1457.66 Q2304.88 1454.1 2301.24 1454.1 M2301.24 1450.39 Q2307.05 1450.39 2310.11 1455 Q2313.19 1459.58 2313.19 1468.33 Q2313.19 1477.06 2310.11 1481.67 Q2307.05 1486.25 2301.24 1486.25 Q2295.43 1486.25 2292.35 1481.67 Q2289.3 1477.06 2289.3 1468.33 Q2289.3 1459.58 2292.35 1455 Q2295.43 1450.39 2301.24 1450.39 Z\" fill=\"#000000\" fill-rule=\"evenodd\" fill-opacity=\"1\" /><path clip-path=\"url(#clip200)\" d=\"M2331.4 1454.1 Q2327.79 1454.1 2325.96 1457.66 Q2324.16 1461.2 2324.16 1468.33 Q2324.16 1475.44 2325.96 1479.01 Q2327.79 1482.55 2331.4 1482.55 Q2335.04 1482.55 2336.84 1479.01 Q2338.67 1475.44 2338.67 1468.33 Q2338.67 1461.2 2336.84 1457.66 Q2335.04 1454.1 2331.4 1454.1 M2331.4 1450.39 Q2337.21 1450.39 2340.27 1455 Q2343.35 1459.58 2343.35 1468.33 Q2343.35 1477.06 2340.27 1481.67 Q2337.21 1486.25 2331.4 1486.25 Q2325.59 1486.25 2322.52 1481.67 Q2319.46 1477.06 2319.46 1468.33 Q2319.46 1459.58 2322.52 1455 Q2325.59 1450.39 2331.4 1450.39 Z\" fill=\"#000000\" fill-rule=\"evenodd\" fill-opacity=\"1\" /><path clip-path=\"url(#clip200)\" d=\"M1287.26 1546.53 L1287.26 1568.04 L1281.4 1568.04 L1281.4 1546.72 Q1281.4 1541.66 1279.43 1539.14 Q1277.45 1536.63 1273.51 1536.63 Q1268.76 1536.63 1266.03 1539.65 Q1263.29 1542.68 1263.29 1547.9 L1263.29 1568.04 L1257.4 1568.04 L1257.4 1518.52 L1263.29 1518.52 L1263.29 1537.93 Q1265.39 1534.72 1268.22 1533.13 Q1271.09 1531.54 1274.81 1531.54 Q1280.96 1531.54 1284.11 1535.36 Q1287.26 1539.14 1287.26 1546.53 Z\" fill=\"#000000\" fill-rule=\"evenodd\" fill-opacity=\"1\" /><path clip-path=\"url(#clip200)\" d=\"M1305.3 1562.63 L1327.74 1562.63 L1327.74 1568.04 L1297.57 1568.04 L1297.57 1562.63 Q1301.23 1558.85 1307.53 1552.48 Q1313.87 1546.08 1315.49 1544.24 Q1318.58 1540.77 1319.79 1538.38 Q1321.03 1535.96 1321.03 1533.64 Q1321.03 1529.85 1318.35 1527.46 Q1315.71 1525.08 1311.45 1525.08 Q1308.42 1525.08 1305.05 1526.13 Q1301.71 1527.18 1297.89 1529.31 L1297.89 1522.82 Q1301.77 1521.26 1305.14 1520.46 Q1308.52 1519.66 1311.32 1519.66 Q1318.7 1519.66 1323.1 1523.36 Q1327.49 1527.05 1327.49 1533.22 Q1327.49 1536.15 1326.37 1538.79 Q1325.29 1541.4 1322.4 1544.97 Q1321.6 1545.89 1317.34 1550.32 Q1313.07 1554.71 1305.3 1562.63 Z\" fill=\"#000000\" fill-rule=\"evenodd\" fill-opacity=\"1\" /><polyline clip-path=\"url(#clip202)\" style=\"stroke:#000000; stroke-linecap:round; stroke-linejoin:round; stroke-width:2; stroke-opacity:0.1; fill:none\" points=\"\n",
       "  232.389,1291.03 2352.76,1291.03 \n",
       "  \"/>\n",
       "<polyline clip-path=\"url(#clip202)\" style=\"stroke:#000000; stroke-linecap:round; stroke-linejoin:round; stroke-width:2; stroke-opacity:0.1; fill:none\" points=\"\n",
       "  232.389,1092.81 2352.76,1092.81 \n",
       "  \"/>\n",
       "<polyline clip-path=\"url(#clip202)\" style=\"stroke:#000000; stroke-linecap:round; stroke-linejoin:round; stroke-width:2; stroke-opacity:0.1; fill:none\" points=\"\n",
       "  232.389,894.588 2352.76,894.588 \n",
       "  \"/>\n",
       "<polyline clip-path=\"url(#clip202)\" style=\"stroke:#000000; stroke-linecap:round; stroke-linejoin:round; stroke-width:2; stroke-opacity:0.1; fill:none\" points=\"\n",
       "  232.389,696.37 2352.76,696.37 \n",
       "  \"/>\n",
       "<polyline clip-path=\"url(#clip202)\" style=\"stroke:#000000; stroke-linecap:round; stroke-linejoin:round; stroke-width:2; stroke-opacity:0.1; fill:none\" points=\"\n",
       "  232.389,498.151 2352.76,498.151 \n",
       "  \"/>\n",
       "<polyline clip-path=\"url(#clip202)\" style=\"stroke:#000000; stroke-linecap:round; stroke-linejoin:round; stroke-width:2; stroke-opacity:0.1; fill:none\" points=\"\n",
       "  232.389,299.933 2352.76,299.933 \n",
       "  \"/>\n",
       "<polyline clip-path=\"url(#clip202)\" style=\"stroke:#000000; stroke-linecap:round; stroke-linejoin:round; stroke-width:2; stroke-opacity:0.1; fill:none\" points=\"\n",
       "  232.389,101.714 2352.76,101.714 \n",
       "  \"/>\n",
       "<polyline clip-path=\"url(#clip200)\" style=\"stroke:#000000; stroke-linecap:round; stroke-linejoin:round; stroke-width:4; stroke-opacity:1; fill:none\" points=\"\n",
       "  232.389,1423.18 232.389,47.2441 \n",
       "  \"/>\n",
       "<polyline clip-path=\"url(#clip200)\" style=\"stroke:#000000; stroke-linecap:round; stroke-linejoin:round; stroke-width:4; stroke-opacity:1; fill:none\" points=\"\n",
       "  232.389,1291.03 251.287,1291.03 \n",
       "  \"/>\n",
       "<polyline clip-path=\"url(#clip200)\" style=\"stroke:#000000; stroke-linecap:round; stroke-linejoin:round; stroke-width:4; stroke-opacity:1; fill:none\" points=\"\n",
       "  232.389,1092.81 251.287,1092.81 \n",
       "  \"/>\n",
       "<polyline clip-path=\"url(#clip200)\" style=\"stroke:#000000; stroke-linecap:round; stroke-linejoin:round; stroke-width:4; stroke-opacity:1; fill:none\" points=\"\n",
       "  232.389,894.588 251.287,894.588 \n",
       "  \"/>\n",
       "<polyline clip-path=\"url(#clip200)\" style=\"stroke:#000000; stroke-linecap:round; stroke-linejoin:round; stroke-width:4; stroke-opacity:1; fill:none\" points=\"\n",
       "  232.389,696.37 251.287,696.37 \n",
       "  \"/>\n",
       "<polyline clip-path=\"url(#clip200)\" style=\"stroke:#000000; stroke-linecap:round; stroke-linejoin:round; stroke-width:4; stroke-opacity:1; fill:none\" points=\"\n",
       "  232.389,498.151 251.287,498.151 \n",
       "  \"/>\n",
       "<polyline clip-path=\"url(#clip200)\" style=\"stroke:#000000; stroke-linecap:round; stroke-linejoin:round; stroke-width:4; stroke-opacity:1; fill:none\" points=\"\n",
       "  232.389,299.933 251.287,299.933 \n",
       "  \"/>\n",
       "<polyline clip-path=\"url(#clip200)\" style=\"stroke:#000000; stroke-linecap:round; stroke-linejoin:round; stroke-width:4; stroke-opacity:1; fill:none\" points=\"\n",
       "  232.389,101.714 251.287,101.714 \n",
       "  \"/>\n",
       "<path clip-path=\"url(#clip200)\" d=\"M154.862 1289.16 Q151.714 1289.16 149.862 1291.31 Q148.033 1293.47 148.033 1297.22 Q148.033 1300.94 149.862 1303.12 Q151.714 1305.27 154.862 1305.27 Q158.01 1305.27 159.839 1303.12 Q161.69 1300.94 161.69 1297.22 Q161.69 1293.47 159.839 1291.31 Q158.01 1289.16 154.862 1289.16 M164.144 1274.51 L164.144 1278.77 Q162.385 1277.94 160.579 1277.5 Q158.797 1277.06 157.038 1277.06 Q152.408 1277.06 149.954 1280.18 Q147.524 1283.31 147.177 1289.62 Q148.542 1287.61 150.603 1286.55 Q152.663 1285.46 155.14 1285.46 Q160.348 1285.46 163.357 1288.63 Q166.39 1291.78 166.39 1297.22 Q166.39 1302.54 163.241 1305.76 Q160.093 1308.98 154.862 1308.98 Q148.866 1308.98 145.695 1304.39 Q142.524 1299.79 142.524 1291.06 Q142.524 1282.87 146.413 1278 Q150.302 1273.12 156.853 1273.12 Q158.612 1273.12 160.394 1273.47 Q162.2 1273.81 164.144 1274.51 Z\" fill=\"#000000\" fill-rule=\"evenodd\" fill-opacity=\"1\" /><path clip-path=\"url(#clip200)\" d=\"M184.445 1276.82 Q180.834 1276.82 179.005 1280.39 Q177.2 1283.93 177.2 1291.06 Q177.2 1298.17 179.005 1301.73 Q180.834 1305.27 184.445 1305.27 Q188.079 1305.27 189.885 1301.73 Q191.713 1298.17 191.713 1291.06 Q191.713 1283.93 189.885 1280.39 Q188.079 1276.82 184.445 1276.82 M184.445 1273.12 Q190.255 1273.12 193.311 1277.73 Q196.389 1282.31 196.389 1291.06 Q196.389 1299.79 193.311 1304.39 Q190.255 1308.98 184.445 1308.98 Q178.635 1308.98 175.556 1304.39 Q172.501 1299.79 172.501 1291.06 Q172.501 1282.31 175.556 1277.73 Q178.635 1273.12 184.445 1273.12 Z\" fill=\"#000000\" fill-rule=\"evenodd\" fill-opacity=\"1\" /><path clip-path=\"url(#clip200)\" d=\"M154.283 1093.67 Q150.95 1093.67 149.028 1095.46 Q147.13 1097.24 147.13 1100.36 Q147.13 1103.49 149.028 1105.27 Q150.95 1107.05 154.283 1107.05 Q157.616 1107.05 159.538 1105.27 Q161.459 1103.47 161.459 1100.36 Q161.459 1097.24 159.538 1095.46 Q157.64 1093.67 154.283 1093.67 M149.607 1091.68 Q146.598 1090.94 144.908 1088.88 Q143.241 1086.82 143.241 1083.86 Q143.241 1079.72 146.181 1077.31 Q149.144 1074.9 154.283 1074.9 Q159.445 1074.9 162.385 1077.31 Q165.325 1079.72 165.325 1083.86 Q165.325 1086.82 163.635 1088.88 Q161.968 1090.94 158.982 1091.68 Q162.362 1092.47 164.237 1094.76 Q166.135 1097.05 166.135 1100.36 Q166.135 1105.39 163.056 1108.07 Q160.001 1110.76 154.283 1110.76 Q148.566 1110.76 145.487 1108.07 Q142.431 1105.39 142.431 1100.36 Q142.431 1097.05 144.329 1094.76 Q146.228 1092.47 149.607 1091.68 M147.894 1084.3 Q147.894 1086.99 149.561 1088.49 Q151.251 1089.99 154.283 1089.99 Q157.292 1089.99 158.982 1088.49 Q160.695 1086.99 160.695 1084.3 Q160.695 1081.61 158.982 1080.11 Q157.292 1078.61 154.283 1078.61 Q151.251 1078.61 149.561 1080.11 Q147.894 1081.61 147.894 1084.3 Z\" fill=\"#000000\" fill-rule=\"evenodd\" fill-opacity=\"1\" /><path clip-path=\"url(#clip200)\" d=\"M184.445 1078.61 Q180.834 1078.61 179.005 1082.17 Q177.2 1085.71 177.2 1092.84 Q177.2 1099.95 179.005 1103.51 Q180.834 1107.05 184.445 1107.05 Q188.079 1107.05 189.885 1103.51 Q191.713 1099.95 191.713 1092.84 Q191.713 1085.71 189.885 1082.17 Q188.079 1078.61 184.445 1078.61 M184.445 1074.9 Q190.255 1074.9 193.311 1079.51 Q196.389 1084.09 196.389 1092.84 Q196.389 1101.57 193.311 1106.17 Q190.255 1110.76 184.445 1110.76 Q178.635 1110.76 175.556 1106.17 Q172.501 1101.57 172.501 1092.84 Q172.501 1084.09 175.556 1079.51 Q178.635 1074.9 184.445 1074.9 Z\" fill=\"#000000\" fill-rule=\"evenodd\" fill-opacity=\"1\" /><path clip-path=\"url(#clip200)\" d=\"M114.931 907.933 L122.57 907.933 L122.57 881.568 L114.26 883.234 L114.26 878.975 L122.524 877.308 L127.2 877.308 L127.2 907.933 L134.839 907.933 L134.839 911.868 L114.931 911.868 L114.931 907.933 Z\" fill=\"#000000\" fill-rule=\"evenodd\" fill-opacity=\"1\" /><path clip-path=\"url(#clip200)\" d=\"M154.283 880.387 Q150.672 880.387 148.843 883.952 Q147.038 887.493 147.038 894.623 Q147.038 901.729 148.843 905.294 Q150.672 908.836 154.283 908.836 Q157.917 908.836 159.723 905.294 Q161.552 901.729 161.552 894.623 Q161.552 887.493 159.723 883.952 Q157.917 880.387 154.283 880.387 M154.283 876.683 Q160.093 876.683 163.149 881.29 Q166.227 885.873 166.227 894.623 Q166.227 903.35 163.149 907.956 Q160.093 912.54 154.283 912.54 Q148.473 912.54 145.394 907.956 Q142.339 903.35 142.339 894.623 Q142.339 885.873 145.394 881.29 Q148.473 876.683 154.283 876.683 Z\" fill=\"#000000\" fill-rule=\"evenodd\" fill-opacity=\"1\" /><path clip-path=\"url(#clip200)\" d=\"M184.445 880.387 Q180.834 880.387 179.005 883.952 Q177.2 887.493 177.2 894.623 Q177.2 901.729 179.005 905.294 Q180.834 908.836 184.445 908.836 Q188.079 908.836 189.885 905.294 Q191.713 901.729 191.713 894.623 Q191.713 887.493 189.885 883.952 Q188.079 880.387 184.445 880.387 M184.445 876.683 Q190.255 876.683 193.311 881.29 Q196.389 885.873 196.389 894.623 Q196.389 903.35 193.311 907.956 Q190.255 912.54 184.445 912.54 Q178.635 912.54 175.556 907.956 Q172.501 903.35 172.501 894.623 Q172.501 885.873 175.556 881.29 Q178.635 876.683 184.445 876.683 Z\" fill=\"#000000\" fill-rule=\"evenodd\" fill-opacity=\"1\" /><path clip-path=\"url(#clip200)\" d=\"M114.931 709.715 L122.57 709.715 L122.57 683.349 L114.26 685.016 L114.26 680.757 L122.524 679.09 L127.2 679.09 L127.2 709.715 L134.839 709.715 L134.839 713.65 L114.931 713.65 L114.931 709.715 Z\" fill=\"#000000\" fill-rule=\"evenodd\" fill-opacity=\"1\" /><path clip-path=\"url(#clip200)\" d=\"M148.311 709.715 L164.63 709.715 L164.63 713.65 L142.686 713.65 L142.686 709.715 Q145.348 706.96 149.931 702.33 Q154.538 697.678 155.718 696.335 Q157.964 693.812 158.843 692.076 Q159.746 690.317 159.746 688.627 Q159.746 685.872 157.802 684.136 Q155.88 682.4 152.778 682.4 Q150.579 682.4 148.126 683.164 Q145.695 683.928 142.917 685.479 L142.917 680.757 Q145.741 679.622 148.195 679.044 Q150.649 678.465 152.686 678.465 Q158.056 678.465 161.251 681.15 Q164.445 683.835 164.445 688.326 Q164.445 690.456 163.635 692.377 Q162.848 694.275 160.741 696.868 Q160.163 697.539 157.061 700.756 Q153.959 703.951 148.311 709.715 Z\" fill=\"#000000\" fill-rule=\"evenodd\" fill-opacity=\"1\" /><path clip-path=\"url(#clip200)\" d=\"M184.445 682.169 Q180.834 682.169 179.005 685.733 Q177.2 689.275 177.2 696.405 Q177.2 703.511 179.005 707.076 Q180.834 710.617 184.445 710.617 Q188.079 710.617 189.885 707.076 Q191.713 703.511 191.713 696.405 Q191.713 689.275 189.885 685.733 Q188.079 682.169 184.445 682.169 M184.445 678.465 Q190.255 678.465 193.311 683.071 Q196.389 687.655 196.389 696.405 Q196.389 705.131 193.311 709.738 Q190.255 714.321 184.445 714.321 Q178.635 714.321 175.556 709.738 Q172.501 705.131 172.501 696.405 Q172.501 687.655 175.556 683.071 Q178.635 678.465 184.445 678.465 Z\" fill=\"#000000\" fill-rule=\"evenodd\" fill-opacity=\"1\" /><path clip-path=\"url(#clip200)\" d=\"M114.931 511.496 L122.57 511.496 L122.57 485.131 L114.26 486.797 L114.26 482.538 L122.524 480.871 L127.2 480.871 L127.2 511.496 L134.839 511.496 L134.839 515.431 L114.931 515.431 L114.931 511.496 Z\" fill=\"#000000\" fill-rule=\"evenodd\" fill-opacity=\"1\" /><path clip-path=\"url(#clip200)\" d=\"M157.13 484.945 L145.325 503.394 L157.13 503.394 L157.13 484.945 M155.903 480.871 L161.783 480.871 L161.783 503.394 L166.714 503.394 L166.714 507.283 L161.783 507.283 L161.783 515.431 L157.13 515.431 L157.13 507.283 L141.529 507.283 L141.529 502.769 L155.903 480.871 Z\" fill=\"#000000\" fill-rule=\"evenodd\" fill-opacity=\"1\" /><path clip-path=\"url(#clip200)\" d=\"M184.445 483.95 Q180.834 483.95 179.005 487.515 Q177.2 491.057 177.2 498.186 Q177.2 505.293 179.005 508.857 Q180.834 512.399 184.445 512.399 Q188.079 512.399 189.885 508.857 Q191.713 505.293 191.713 498.186 Q191.713 491.057 189.885 487.515 Q188.079 483.95 184.445 483.95 M184.445 480.246 Q190.255 480.246 193.311 484.853 Q196.389 489.436 196.389 498.186 Q196.389 506.913 193.311 511.519 Q190.255 516.103 184.445 516.103 Q178.635 516.103 175.556 511.519 Q172.501 506.913 172.501 498.186 Q172.501 489.436 175.556 484.853 Q178.635 480.246 184.445 480.246 Z\" fill=\"#000000\" fill-rule=\"evenodd\" fill-opacity=\"1\" /><path clip-path=\"url(#clip200)\" d=\"M114.931 313.278 L122.57 313.278 L122.57 286.912 L114.26 288.579 L114.26 284.32 L122.524 282.653 L127.2 282.653 L127.2 313.278 L134.839 313.278 L134.839 317.213 L114.931 317.213 L114.931 313.278 Z\" fill=\"#000000\" fill-rule=\"evenodd\" fill-opacity=\"1\" /><path clip-path=\"url(#clip200)\" d=\"M154.862 298.07 Q151.714 298.07 149.862 300.222 Q148.033 302.375 148.033 306.125 Q148.033 309.852 149.862 312.028 Q151.714 314.181 154.862 314.181 Q158.01 314.181 159.839 312.028 Q161.69 309.852 161.69 306.125 Q161.69 302.375 159.839 300.222 Q158.01 298.07 154.862 298.07 M164.144 283.417 L164.144 287.676 Q162.385 286.843 160.579 286.403 Q158.797 285.963 157.038 285.963 Q152.408 285.963 149.954 289.088 Q147.524 292.213 147.177 298.532 Q148.542 296.519 150.603 295.454 Q152.663 294.366 155.14 294.366 Q160.348 294.366 163.357 297.537 Q166.39 300.685 166.39 306.125 Q166.39 311.449 163.241 314.667 Q160.093 317.884 154.862 317.884 Q148.866 317.884 145.695 313.301 Q142.524 308.694 142.524 299.968 Q142.524 291.773 146.413 286.912 Q150.302 282.028 156.853 282.028 Q158.612 282.028 160.394 282.375 Q162.2 282.722 164.144 283.417 Z\" fill=\"#000000\" fill-rule=\"evenodd\" fill-opacity=\"1\" /><path clip-path=\"url(#clip200)\" d=\"M184.445 285.732 Q180.834 285.732 179.005 289.296 Q177.2 292.838 177.2 299.968 Q177.2 307.074 179.005 310.639 Q180.834 314.181 184.445 314.181 Q188.079 314.181 189.885 310.639 Q191.713 307.074 191.713 299.968 Q191.713 292.838 189.885 289.296 Q188.079 285.732 184.445 285.732 M184.445 282.028 Q190.255 282.028 193.311 286.634 Q196.389 291.218 196.389 299.968 Q196.389 308.694 193.311 313.301 Q190.255 317.884 184.445 317.884 Q178.635 317.884 175.556 313.301 Q172.501 308.694 172.501 299.968 Q172.501 291.218 175.556 286.634 Q178.635 282.028 184.445 282.028 Z\" fill=\"#000000\" fill-rule=\"evenodd\" fill-opacity=\"1\" /><path clip-path=\"url(#clip200)\" d=\"M114.931 115.059 L122.57 115.059 L122.57 88.6937 L114.26 90.3603 L114.26 86.1011 L122.524 84.4344 L127.2 84.4344 L127.2 115.059 L134.839 115.059 L134.839 118.994 L114.931 118.994 L114.931 115.059 Z\" fill=\"#000000\" fill-rule=\"evenodd\" fill-opacity=\"1\" /><path clip-path=\"url(#clip200)\" d=\"M154.283 102.582 Q150.95 102.582 149.028 104.365 Q147.13 106.147 147.13 109.272 Q147.13 112.397 149.028 114.18 Q150.95 115.962 154.283 115.962 Q157.616 115.962 159.538 114.18 Q161.459 112.374 161.459 109.272 Q161.459 106.147 159.538 104.365 Q157.64 102.582 154.283 102.582 M149.607 100.592 Q146.598 99.851 144.908 97.7909 Q143.241 95.7307 143.241 92.7677 Q143.241 88.6242 146.181 86.2168 Q149.144 83.8095 154.283 83.8095 Q159.445 83.8095 162.385 86.2168 Q165.325 88.6242 165.325 92.7677 Q165.325 95.7307 163.635 97.7909 Q161.968 99.851 158.982 100.592 Q162.362 101.379 164.237 103.67 Q166.135 105.962 166.135 109.272 Q166.135 114.295 163.056 116.981 Q160.001 119.666 154.283 119.666 Q148.566 119.666 145.487 116.981 Q142.431 114.295 142.431 109.272 Q142.431 105.962 144.329 103.67 Q146.228 101.379 149.607 100.592 M147.894 93.2075 Q147.894 95.8927 149.561 97.3973 Q151.251 98.902 154.283 98.902 Q157.292 98.902 158.982 97.3973 Q160.695 95.8927 160.695 93.2075 Q160.695 90.5224 158.982 89.0178 Q157.292 87.5131 154.283 87.5131 Q151.251 87.5131 149.561 89.0178 Q147.894 90.5224 147.894 93.2075 Z\" fill=\"#000000\" fill-rule=\"evenodd\" fill-opacity=\"1\" /><path clip-path=\"url(#clip200)\" d=\"M184.445 87.5131 Q180.834 87.5131 179.005 91.0779 Q177.2 94.6196 177.2 101.749 Q177.2 108.856 179.005 112.42 Q180.834 115.962 184.445 115.962 Q188.079 115.962 189.885 112.42 Q191.713 108.856 191.713 101.749 Q191.713 94.6196 189.885 91.0779 Q188.079 87.5131 184.445 87.5131 M184.445 83.8095 Q190.255 83.8095 193.311 88.4159 Q196.389 92.9992 196.389 101.749 Q196.389 110.476 193.311 115.082 Q190.255 119.666 184.445 119.666 Q178.635 119.666 175.556 115.082 Q172.501 110.476 172.501 101.749 Q172.501 92.9992 175.556 88.4159 Q178.635 83.8095 184.445 83.8095 Z\" fill=\"#000000\" fill-rule=\"evenodd\" fill-opacity=\"1\" /><path clip-path=\"url(#clip200)\" d=\"M14.479 818.714 L14.479 812.858 L64.0042 812.858 L64.0042 818.714 L14.479 818.714 Z\" fill=\"#000000\" fill-rule=\"evenodd\" fill-opacity=\"1\" /><path clip-path=\"url(#clip200)\" d=\"M32.4621 786.79 Q32.4621 791.501 36.1542 794.238 Q39.8145 796.975 46.212 796.975 Q52.6095 796.975 56.3017 794.27 Q59.9619 791.533 59.9619 786.79 Q59.9619 782.111 56.2698 779.374 Q52.5777 776.637 46.212 776.637 Q39.8781 776.637 36.186 779.374 Q32.4621 782.111 32.4621 786.79 M27.4968 786.79 Q27.4968 779.151 32.4621 774.791 Q37.4273 770.43 46.212 770.43 Q54.9649 770.43 59.9619 774.791 Q64.9272 779.151 64.9272 786.79 Q64.9272 794.461 59.9619 798.821 Q54.9649 803.15 46.212 803.15 Q37.4273 803.15 32.4621 798.821 Q27.4968 794.461 27.4968 786.79 Z\" fill=\"#000000\" fill-rule=\"evenodd\" fill-opacity=\"1\" /><path clip-path=\"url(#clip200)\" d=\"M45.7664 737.265 Q39.4007 737.265 35.8996 739.907 Q32.3984 742.517 32.3984 747.259 Q32.3984 751.97 35.8996 754.611 Q39.4007 757.221 45.7664 757.221 Q52.1003 757.221 55.6014 754.611 Q59.1026 751.97 59.1026 747.259 Q59.1026 742.517 55.6014 739.907 Q52.1003 737.265 45.7664 737.265 M59.58 731.408 Q68.683 731.408 73.1071 735.451 Q77.5631 739.493 77.5631 747.832 Q77.5631 750.919 77.0857 753.657 Q76.6401 756.394 75.6852 758.972 L69.9879 758.972 Q71.3884 756.394 72.0568 753.879 Q72.7252 751.365 72.7252 748.755 Q72.7252 742.994 69.7015 740.129 Q66.7096 737.265 60.6303 737.265 L57.7339 737.265 Q60.885 739.079 62.4446 741.912 Q64.0042 744.745 64.0042 748.691 Q64.0042 755.248 59.0071 759.258 Q54.01 763.269 45.7664 763.269 Q37.491 763.269 32.4939 759.258 Q27.4968 755.248 27.4968 748.691 Q27.4968 744.745 29.0564 741.912 Q30.616 739.079 33.7671 737.265 L28.3562 737.265 L28.3562 731.408 L59.58 731.408 Z\" fill=\"#000000\" fill-rule=\"evenodd\" fill-opacity=\"1\" /><path clip-path=\"url(#clip200)\" d=\"M14.479 719.345 L14.479 713.489 L64.0042 713.489 L64.0042 719.345 L14.479 719.345 Z\" fill=\"#000000\" fill-rule=\"evenodd\" fill-opacity=\"1\" /><path clip-path=\"url(#clip200)\" d=\"M28.3562 701.235 L28.3562 695.379 L64.0042 695.379 L64.0042 701.235 L28.3562 701.235 M14.479 701.235 L14.479 695.379 L21.895 695.379 L21.895 701.235 L14.479 701.235 Z\" fill=\"#000000\" fill-rule=\"evenodd\" fill-opacity=\"1\" /><path clip-path=\"url(#clip200)\" d=\"M14.479 683.347 L14.479 677.459 L43.7294 677.459 L28.3562 659.985 L28.3562 652.506 L45.0344 671.412 L64.0042 651.71 L64.0042 659.349 L46.5939 677.459 L64.0042 677.459 L64.0042 683.347 L14.479 683.347 Z\" fill=\"#000000\" fill-rule=\"evenodd\" fill-opacity=\"1\" /><polyline clip-path=\"url(#clip202)\" style=\"stroke:#0000ff; stroke-linecap:round; stroke-linejoin:round; stroke-width:4; stroke-opacity:1; fill:none\" points=\"\n",
       "  292.4,87.7314 294.404,88.0615 296.408,88.3296 298.413,88.5485 300.417,88.7277 302.421,88.8742 304.426,88.9935 306.43,89.0899 308.435,89.1668 310.439,89.2271 \n",
       "  312.443,89.2729 314.448,89.3061 316.452,89.3285 318.456,89.3414 320.461,89.3459 322.465,89.343 324.469,89.3336 326.474,89.3184 328.478,89.2982 330.482,89.2734 \n",
       "  332.487,89.2446 334.491,89.2122 336.496,89.1768 338.5,89.1385 340.504,89.0978 342.509,89.0549 344.513,89.0101 346.517,88.9636 348.522,88.9157 350.526,88.8666 \n",
       "  352.53,88.8163 354.535,88.7651 356.539,88.7132 358.543,88.6606 360.548,88.6075 362.552,88.5541 364.556,88.5003 366.561,88.4463 368.565,88.3922 370.57,88.338 \n",
       "  372.574,88.2839 374.578,88.2299 376.583,88.1761 378.587,88.1225 380.591,88.0692 382.596,88.0162 384.6,87.9636 386.604,87.9115 388.609,87.8597 390.613,87.8085 \n",
       "  392.617,87.7578 394.622,87.7077 396.626,87.6582 398.631,87.6092 400.635,87.561 402.639,87.5133 404.644,87.4664 406.648,87.4202 408.652,87.3747 410.657,87.3299 \n",
       "  412.661,87.2859 414.665,87.2427 416.67,87.2002 418.674,87.1586 420.678,87.1177 422.683,87.0777 424.687,87.0385 426.691,87.0001 428.696,86.9626 430.7,86.9259 \n",
       "  432.705,86.8901 434.709,86.8552 436.713,86.8211 438.718,86.7879 440.722,86.7555 442.726,86.7241 444.731,86.6935 446.735,86.6638 448.739,86.635 450.744,86.6071 \n",
       "  452.748,86.5801 454.752,86.554 456.757,86.5288 458.761,86.5044 460.766,86.481 462.77,86.4585 464.774,86.4369 466.779,86.4162 468.783,86.3963 470.787,86.3774 \n",
       "  472.792,86.3594 474.796,86.3423 476.8,86.326 478.805,86.3107 480.809,86.2963 482.813,86.2827 484.818,86.2701 486.822,86.2583 488.826,86.2474 490.831,86.2375 \n",
       "  492.835,86.2284 494.84,86.2202 496.844,86.2128 498.848,86.2064 500.853,86.2008 502.857,86.1961 504.861,86.1923 506.866,86.1893 508.87,86.1872 510.874,86.186 \n",
       "  512.879,86.1857 514.883,86.1862 516.887,86.1876 518.892,86.1898 520.896,86.1929 522.9,86.1968 524.905,86.2016 526.909,86.2072 528.914,86.2137 530.918,86.221 \n",
       "  532.922,86.2292 534.927,86.2381 536.931,86.248 538.935,86.2586 540.94,86.2701 542.944,86.2824 544.948,86.2956 546.953,86.3095 548.957,86.3243 550.961,86.3399 \n",
       "  552.966,86.3563 554.97,86.3735 556.975,86.3915 558.979,86.4103 560.983,86.4299 562.988,86.4504 564.992,86.4716 566.996,86.4936 569.001,86.5164 571.005,86.54 \n",
       "  573.009,86.5644 575.014,86.5896 577.018,86.6155 579.022,86.6422 581.027,86.6697 583.031,86.698 585.035,86.7271 587.04,86.7569 589.044,86.7875 591.049,86.8188 \n",
       "  593.053,86.8509 595.057,86.8838 597.062,86.9174 599.066,86.9518 601.07,86.987 603.075,87.0229 605.079,87.0595 607.083,87.0969 609.088,87.135 611.092,87.1739 \n",
       "  613.096,87.2135 615.101,87.2538 617.105,87.2949 619.11,87.3367 621.114,87.3792 623.118,87.4225 625.123,87.4665 627.127,87.5112 629.131,87.5567 631.136,87.6028 \n",
       "  633.14,87.6497 635.144,87.6973 637.149,87.7456 639.153,87.7946 641.157,87.8444 643.162,87.8948 645.166,87.946 647.17,87.9978 649.175,88.0504 651.179,88.1036 \n",
       "  653.184,88.1576 655.188,88.2122 657.192,88.2676 659.197,88.3236 661.201,88.3804 663.205,88.4378 665.21,88.4959 667.214,88.5547 669.218,88.6142 671.223,88.6744 \n",
       "  673.227,88.7353 675.231,88.7968 677.236,88.859 679.24,88.9219 681.244,88.9855 683.249,89.0498 685.253,89.1147 687.258,89.1803 689.262,89.2466 691.266,89.3135 \n",
       "  693.271,89.3811 695.275,89.4494 697.279,89.5183 699.284,89.5879 701.288,89.6582 703.292,89.7291 705.297,89.8007 707.301,89.873 709.305,89.9459 711.31,90.0195 \n",
       "  713.314,90.0937 715.319,90.1686 717.323,90.2441 719.327,90.3203 721.332,90.3971 723.336,90.4746 725.34,90.5528 727.345,90.6316 729.349,90.711 731.353,90.7911 \n",
       "  733.358,90.8718 735.362,90.9532 737.366,91.0352 739.371,91.1179 741.375,91.2012 743.379,91.2851 745.384,91.3697 747.388,91.4549 749.393,91.5408 751.397,91.6273 \n",
       "  753.401,91.7144 755.406,91.8022 757.41,91.8906 759.414,91.9796 761.419,92.0693 763.423,92.1596 765.427,92.2506 767.432,92.3421 769.436,92.4343 771.44,92.5272 \n",
       "  773.445,92.6206 775.449,92.7147 777.454,92.8095 779.458,92.9048 781.462,93.0008 783.467,93.0974 785.471,93.1946 787.475,93.2925 789.48,93.391 791.484,93.4901 \n",
       "  793.488,93.5898 795.493,93.6902 797.497,93.7912 799.501,93.8928 801.506,93.995 803.51,94.0979 805.514,94.2014 807.519,94.3055 809.523,94.4102 811.528,94.5155 \n",
       "  813.532,94.6215 815.536,94.7281 817.541,94.8353 819.545,94.9431 821.549,95.0516 823.554,95.1606 825.558,95.2703 827.562,95.3806 829.567,95.4916 831.571,95.6031 \n",
       "  833.575,95.7153 835.58,95.8281 837.584,95.9415 839.589,96.0555 841.593,96.1701 843.597,96.2854 845.602,96.4013 847.606,96.5178 849.61,96.6349 851.615,96.7526 \n",
       "  853.619,96.871 855.623,96.9899 857.628,97.1095 859.632,97.2297 861.636,97.3506 863.641,97.472 865.645,97.5941 867.649,97.7168 869.654,97.8401 871.658,97.964 \n",
       "  873.663,98.0885 875.667,98.2137 877.671,98.3395 879.676,98.4659 881.68,98.5929 883.684,98.7205 885.689,98.8488 887.693,98.9777 889.697,99.1072 891.702,99.2373 \n",
       "  893.706,99.368 895.71,99.4994 897.715,99.6314 899.719,99.764 901.723,99.8972 903.728,100.031 905.732,100.166 907.737,100.301 909.741,100.436 911.745,100.573 \n",
       "  913.75,100.71 915.754,100.847 917.758,100.986 919.763,101.124 921.767,101.264 923.771,101.404 925.776,101.545 927.78,101.686 929.784,101.828 931.789,101.971 \n",
       "  933.793,102.114 935.798,102.258 937.802,102.402 939.806,102.548 941.811,102.693 943.815,102.84 945.819,102.987 947.824,103.134 949.828,103.283 951.832,103.432 \n",
       "  953.837,103.581 955.841,103.731 957.845,103.882 959.85,104.034 961.854,104.186 963.858,104.339 965.863,104.492 967.867,104.646 969.872,104.801 971.876,104.956 \n",
       "  973.88,105.112 975.885,105.269 977.889,105.426 979.893,105.584 981.898,105.743 983.902,105.902 985.906,106.062 987.911,106.222 989.915,106.383 991.919,106.545 \n",
       "  993.924,106.708 995.928,106.871 997.933,107.034 999.937,107.199 1001.94,107.364 1003.95,107.53 1005.95,107.696 1007.95,107.863 1009.96,108.031 1011.96,108.199 \n",
       "  1013.97,108.368 1015.97,108.538 1017.98,108.708 1019.98,108.879 1021.98,109.051 1023.99,109.223 1025.99,109.396 1028,109.57 1030,109.744 1032.01,109.919 \n",
       "  1034.01,110.095 1036.02,110.271 1038.02,110.449 1040.02,110.626 1042.03,110.805 1044.03,110.984 1046.04,111.164 1048.04,111.344 1050.05,111.525 1052.05,111.707 \n",
       "  1054.05,111.889 1056.06,112.073 1058.06,112.256 1060.07,112.441 1062.07,112.626 1064.08,112.812 1066.08,112.999 1068.08,113.186 1070.09,113.374 1072.09,113.563 \n",
       "  1074.1,113.752 1076.1,113.943 1078.11,114.133 1080.11,114.325 1082.12,114.517 1084.12,114.71 1086.12,114.904 1088.13,115.098 1090.13,115.293 1092.14,115.489 \n",
       "  1094.14,115.686 1096.15,115.883 1098.15,116.081 1100.15,116.279 1102.16,116.479 1104.16,116.679 1106.17,116.88 1108.17,117.081 1110.18,117.284 1112.18,117.487 \n",
       "  1114.19,117.69 1116.19,117.895 1118.19,118.1 1120.2,118.306 1122.2,118.513 1124.21,118.72 1126.21,118.928 1128.22,119.137 1130.22,119.347 1132.22,119.557 \n",
       "  1134.23,119.768 1136.23,119.98 1138.24,120.193 1140.24,120.406 1142.25,120.621 1144.25,120.835 1146.25,121.051 1148.26,121.268 1150.26,121.485 1152.27,121.703 \n",
       "  1154.27,121.922 1156.28,122.141 1158.28,122.361 1160.29,122.582 1162.29,122.804 1164.29,123.027 1166.3,123.25 1168.3,123.475 1170.31,123.7 1172.31,123.925 \n",
       "  1174.32,124.152 1176.32,124.379 1178.32,124.607 1180.33,124.836 1182.33,125.066 1184.34,125.297 1186.34,125.528 1188.35,125.76 1190.35,125.993 1192.35,126.227 \n",
       "  1194.36,126.462 1196.36,126.697 1198.37,126.933 1200.37,127.17 1202.38,127.408 1204.38,127.647 1206.39,127.886 1208.39,128.127 1210.39,128.368 1212.4,128.61 \n",
       "  1214.4,128.853 1216.41,129.096 1218.41,129.341 1220.42,129.586 1222.42,129.833 1224.42,130.08 1226.43,130.328 1228.43,130.576 1230.44,130.826 1232.44,131.077 \n",
       "  1234.45,131.328 1236.45,131.58 1238.46,131.833 1240.46,132.087 1242.46,132.342 1244.47,132.598 1246.47,132.855 1248.48,133.112 1250.48,133.371 1252.49,133.63 \n",
       "  1254.49,133.89 1256.49,134.151 1258.5,134.413 1260.5,134.676 1262.51,134.94 1264.51,135.205 1266.52,135.47 1268.52,135.737 1270.52,136.004 1272.53,136.273 \n",
       "  1274.53,136.542 1276.54,136.812 1278.54,137.083 1280.55,137.355 1282.55,137.628 1284.56,137.902 1286.56,138.177 1288.56,138.453 1290.57,138.73 1292.57,139.008 \n",
       "  1294.58,139.286 1296.58,139.566 1298.59,139.847 1300.59,140.128 1302.59,140.411 1304.6,140.695 1306.6,140.979 1308.61,141.265 1310.61,141.551 1312.62,141.839 \n",
       "  1314.62,142.127 1316.62,142.417 1318.63,142.707 1320.63,142.999 1322.64,143.291 1324.64,143.585 1326.65,143.879 1328.65,144.175 1330.66,144.471 1332.66,144.769 \n",
       "  1334.66,145.067 1336.67,145.367 1338.67,145.668 1340.68,145.97 1342.68,146.272 1344.69,146.576 1346.69,146.881 1348.69,147.187 1350.7,147.494 1352.7,147.802 \n",
       "  1354.71,148.111 1356.71,148.422 1358.72,148.733 1360.72,149.045 1362.73,149.359 1364.73,149.673 1366.73,149.989 1368.74,150.306 1370.74,150.624 1372.75,150.943 \n",
       "  1374.75,151.263 1376.76,151.584 1378.76,151.906 1380.76,152.23 1382.77,152.555 1384.77,152.88 1386.78,153.207 1388.78,153.535 1390.79,153.865 1392.79,154.195 \n",
       "  1394.79,154.526 1396.8,154.859 1398.8,155.193 1400.81,155.528 1402.81,155.864 1404.82,156.202 1406.82,156.54 1408.83,156.88 1410.83,157.221 1412.83,157.564 \n",
       "  1414.84,157.907 1416.84,158.252 1418.85,158.598 1420.85,158.945 1422.86,159.293 1424.86,159.643 1426.86,159.994 1428.87,160.346 1430.87,160.699 1432.88,161.054 \n",
       "  1434.88,161.41 1436.89,161.767 1438.89,162.125 1440.89,162.485 1442.9,162.846 1444.9,163.208 1446.91,163.572 1448.91,163.937 1450.92,164.303 1452.92,164.671 \n",
       "  1454.93,165.04 1456.93,165.41 1458.93,165.782 1460.94,166.154 1462.94,166.529 1464.95,166.904 1466.95,167.281 1468.96,167.66 1470.96,168.04 1472.96,168.421 \n",
       "  1474.97,168.803 1476.97,169.187 1478.98,169.573 1480.98,169.959 1482.99,170.348 1484.99,170.737 1487,171.128 1489,171.521 1491,171.915 1493.01,172.31 \n",
       "  1495.01,172.707 1497.02,173.105 1499.02,173.505 1501.03,173.907 1503.03,174.309 1505.03,174.714 1507.04,175.119 1509.04,175.527 1511.05,175.936 1513.05,176.346 \n",
       "  1515.06,176.758 1517.06,177.171 1519.06,177.586 1521.07,178.003 1523.07,178.421 1525.08,178.841 1527.08,179.262 1529.09,179.685 1531.09,180.109 1533.1,180.535 \n",
       "  1535.1,180.963 1537.1,181.392 1539.11,181.823 1541.11,182.256 1543.12,182.69 1545.12,183.126 1547.13,183.564 1549.13,184.003 1551.13,184.444 1553.14,184.887 \n",
       "  1555.14,185.331 1557.15,185.777 1559.15,186.225 1561.16,186.674 1563.16,187.126 1565.16,187.579 1567.17,188.034 1569.17,188.49 1571.18,188.948 1573.18,189.409 \n",
       "  1575.19,189.871 1577.19,190.334 1579.2,190.8 1581.2,191.267 1583.2,191.737 1585.21,192.208 1587.21,192.681 1589.22,193.156 1591.22,193.632 1593.23,194.111 \n",
       "  1595.23,194.592 1597.23,195.074 1599.24,195.558 1601.24,196.045 1603.25,196.533 1605.25,197.023 1607.26,197.516 1609.26,198.01 1611.26,198.506 1613.27,199.004 \n",
       "  1615.27,199.504 1617.28,200.007 1619.28,200.511 1621.29,201.017 1623.29,201.526 1625.3,202.036 1627.3,202.549 1629.3,203.064 1631.31,203.581 1633.31,204.1 \n",
       "  1635.32,204.621 1637.32,205.144 1639.33,205.67 1641.33,206.197 1643.33,206.727 1645.34,207.259 1647.34,207.794 1649.35,208.33 1651.35,208.869 1653.36,209.41 \n",
       "  1655.36,209.953 1657.37,210.499 1659.37,211.047 1661.37,211.597 1663.38,212.15 1665.38,212.705 1667.39,213.262 1669.39,213.822 1671.4,214.384 1673.4,214.949 \n",
       "  1675.4,215.516 1677.41,216.085 1679.41,216.657 1681.42,217.232 1683.42,217.809 1685.43,218.388 1687.43,218.97 1689.43,219.555 1691.44,220.142 1693.44,220.732 \n",
       "  1695.45,221.324 1697.45,221.919 1699.46,222.516 1701.46,223.117 1703.47,223.719 1705.47,224.325 1707.47,224.933 1709.48,225.544 1711.48,226.158 1713.49,226.775 \n",
       "  1715.49,227.394 1717.5,228.016 1719.5,228.641 1721.5,229.269 1723.51,229.9 1725.51,230.533 1727.52,231.17 1729.52,231.809 1731.53,232.452 1733.53,233.097 \n",
       "  1735.53,233.745 1737.54,234.397 1739.54,235.051 1741.55,235.709 1743.55,236.369 1745.56,237.033 1747.56,237.7 1749.57,238.37 1751.57,239.043 1753.57,239.719 \n",
       "  1755.58,240.399 1757.58,241.081 1759.59,241.767 1761.59,242.457 1763.6,243.149 1765.6,243.845 1767.6,244.545 1769.61,245.248 1771.61,245.954 1773.62,246.664 \n",
       "  1775.62,247.377 1777.63,248.094 1779.63,248.814 1781.64,249.538 1783.64,250.265 1785.64,250.996 1787.65,251.731 1789.65,252.469 1791.66,253.211 1793.66,253.957 \n",
       "  1795.67,254.706 1797.67,255.46 1799.67,256.217 1801.68,256.978 1803.68,257.743 1805.69,258.512 1807.69,259.285 1809.7,260.061 1811.7,260.842 1813.7,261.627 \n",
       "  1815.71,262.416 1817.71,263.209 1819.72,264.007 1821.72,264.808 1823.73,265.614 1825.73,266.424 1827.74,267.238 1829.74,268.057 1831.74,268.88 1833.75,269.708 \n",
       "  1835.75,270.54 1837.76,271.376 1839.76,272.217 1841.77,273.063 1843.77,273.913 1845.77,274.768 1847.78,275.628 1849.78,276.492 1851.79,277.361 1853.79,278.235 \n",
       "  1855.8,279.114 1857.8,279.998 1859.8,280.887 1861.81,281.781 1863.81,282.68 1865.82,283.584 1867.82,284.493 1869.83,285.408 1871.83,286.327 1873.84,287.252 \n",
       "  1875.84,288.183 1877.84,289.119 1879.85,290.06 1881.85,291.007 1883.86,291.959 1885.86,292.917 1887.87,293.881 1889.87,294.851 1891.87,295.826 1893.88,296.807 \n",
       "  1895.88,297.795 1897.89,298.788 1899.89,299.787 1901.9,300.792 1903.9,301.804 1905.91,302.822 1907.91,303.846 1909.91,304.876 1911.92,305.913 1913.92,306.957 \n",
       "  1915.93,308.007 1917.93,309.063 1919.94,310.127 1921.94,311.197 1923.94,312.274 1925.95,313.358 1927.95,314.449 1929.96,315.547 1931.96,316.652 1933.97,317.765 \n",
       "  1935.97,318.885 1937.97,320.012 1939.98,321.147 1941.98,322.29 1943.99,323.44 1945.99,324.598 1948,325.764 1950,326.937 1952.01,328.119 1954.01,329.309 \n",
       "  1956.01,330.507 1958.02,331.714 1960.02,332.929 1962.03,334.153 1964.03,335.385 1966.04,336.626 1968.04,337.876 1970.04,339.134 1972.05,340.402 1974.05,341.68 \n",
       "  1976.06,342.966 1978.06,344.262 1980.07,345.567 1982.07,346.882 1984.07,348.207 1986.08,349.542 1988.08,350.887 1990.09,352.242 1992.09,353.608 1994.1,354.984 \n",
       "  1996.1,356.371 1998.11,357.768 2000.11,359.176 2002.11,360.596 2004.12,362.026 2006.12,363.468 2008.13,364.922 2010.13,366.387 2012.14,367.864 2014.14,369.353 \n",
       "  2016.14,370.854 2018.15,372.368 2020.15,373.894 2022.16,375.433 2024.16,376.985 2026.17,378.55 2028.17,380.128 2030.18,381.72 2032.18,383.326 2034.18,384.945 \n",
       "  2036.19,386.579 2038.19,388.227 2040.2,389.89 2042.2,391.568 2044.21,393.261 2046.21,394.969 2048.21,396.692 2050.22,398.432 2052.22,400.187 2054.23,401.959 \n",
       "  2056.23,403.748 2058.24,405.553 2060.24,407.376 2062.24,409.216 2064.25,411.074 2066.25,412.951 2068.26,414.845 2070.26,416.759 2072.27,418.691 2074.27,420.643 \n",
       "  2076.28,422.615 2078.28,424.607 2080.28,426.619 2082.29,428.653 2084.29,430.708 2086.3,432.784 2088.3,434.883 2090.31,437.004 2092.31,439.149 2094.31,441.317 \n",
       "  2096.32,443.509 2098.32,445.725 2100.33,447.966 2102.33,450.233 2104.34,452.526 2106.34,454.845 2108.34,457.192 2110.35,459.566 2112.35,461.969 2114.36,464.401 \n",
       "  2116.36,466.862 2118.37,469.353 2120.37,471.876 2122.38,474.43 2124.38,477.016 2126.38,479.636 2128.39,482.289 2130.39,484.978 2132.4,487.702 2134.4,490.462 \n",
       "  2136.41,493.26 2138.41,496.097 2140.41,498.973 2142.42,501.889 2144.42,504.846 2146.43,507.846 2148.43,510.89 2150.44,513.979 2152.44,517.114 2154.45,520.296 \n",
       "  2156.45,523.527 2158.45,526.809 2160.46,530.142 2162.46,533.528 2164.47,536.969 2166.47,540.467 2168.48,544.023 2170.48,547.639 2172.48,551.317 2174.49,555.059 \n",
       "  2176.49,558.868 2178.5,562.745 2180.5,566.692 2182.51,570.713 2184.51,574.81 2186.51,578.986 2188.52,583.243 2190.52,587.585 2192.53,592.014 2194.53,596.535 \n",
       "  2196.54,601.151 2198.54,605.865 2200.55,610.682 2202.55,615.607 2204.55,620.643 2206.56,625.796 2208.56,631.071 2210.57,636.473 2212.57,642.009 2214.58,647.686 \n",
       "  2216.58,653.509 2218.58,659.487 2220.59,665.627 2222.59,671.938 2224.6,678.431 2226.6,685.114 2228.61,691.999 2230.61,699.098 2232.61,706.424 2234.62,713.991 \n",
       "  2236.62,721.817 2238.63,729.917 2240.63,738.312 2242.64,747.022 2244.64,756.073 2246.65,765.489 2248.65,775.302 2250.65,785.545 2252.66,796.256 2254.66,807.479 \n",
       "  2256.67,819.265 2258.67,831.67 2260.68,844.762 2262.68,858.619 2264.68,873.335 2266.69,889.02 2268.69,905.808 2270.7,923.863 2272.7,943.388 2274.71,964.64 \n",
       "  2276.71,987.947 2278.72,1013.74 2280.72,1042.62 2282.72,1075.39 2284.73,1113.28 2286.73,1158.14 2288.74,1213.12 2290.74,1284.09 2292.75,1384.24 \n",
       "  \"/>\n",
       "<polyline clip-path=\"url(#clip202)\" style=\"stroke:#ff0000; stroke-linecap:round; stroke-linejoin:round; stroke-width:4; stroke-opacity:1; fill:none\" points=\"\n",
       "  292.4,1289.44 294.404,1289.55 296.408,1289.66 298.413,1289.76 300.417,1289.86 302.421,1289.96 304.426,1290.05 306.43,1290.15 308.435,1290.24 310.439,1290.33 \n",
       "  312.443,1290.41 314.448,1290.5 316.452,1290.58 318.456,1290.66 320.461,1290.74 322.465,1290.81 324.469,1290.89 326.474,1290.96 328.478,1291.03 330.482,1291.11 \n",
       "  332.487,1291.17 334.491,1291.24 336.496,1291.31 338.5,1291.37 340.504,1291.44 342.509,1291.5 344.513,1291.56 346.517,1291.62 348.522,1291.68 350.526,1291.74 \n",
       "  352.53,1291.8 354.535,1291.85 356.539,1291.91 358.543,1291.96 360.548,1292.02 362.552,1292.07 364.556,1292.12 366.561,1292.17 368.565,1292.22 370.57,1292.27 \n",
       "  372.574,1292.32 374.578,1292.37 376.583,1292.41 378.587,1292.46 380.591,1292.51 382.596,1292.55 384.6,1292.59 386.604,1292.64 388.609,1292.68 390.613,1292.72 \n",
       "  392.617,1292.76 394.622,1292.8 396.626,1292.84 398.631,1292.88 400.635,1292.92 402.639,1292.96 404.644,1293 406.648,1293.04 408.652,1293.07 410.657,1293.11 \n",
       "  412.661,1293.15 414.665,1293.18 416.67,1293.22 418.674,1293.25 420.678,1293.29 422.683,1293.32 424.687,1293.35 426.691,1293.39 428.696,1293.42 430.7,1293.45 \n",
       "  432.705,1293.48 434.709,1293.51 436.713,1293.54 438.718,1293.57 440.722,1293.6 442.726,1293.63 444.731,1293.66 446.735,1293.69 448.739,1293.72 450.744,1293.75 \n",
       "  452.748,1293.78 454.752,1293.81 456.757,1293.83 458.761,1293.86 460.766,1293.89 462.77,1293.91 464.774,1293.94 466.779,1293.96 468.783,1293.99 470.787,1294.01 \n",
       "  472.792,1294.04 474.796,1294.06 476.8,1294.09 478.805,1294.11 480.809,1294.14 482.813,1294.16 484.818,1294.18 486.822,1294.21 488.826,1294.23 490.831,1294.25 \n",
       "  492.835,1294.27 494.84,1294.3 496.844,1294.32 498.848,1294.34 500.853,1294.36 502.857,1294.38 504.861,1294.4 506.866,1294.42 508.87,1294.44 510.874,1294.46 \n",
       "  512.879,1294.48 514.883,1294.5 516.887,1294.52 518.892,1294.54 520.896,1294.56 522.9,1294.58 524.905,1294.6 526.909,1294.62 528.914,1294.64 530.918,1294.66 \n",
       "  532.922,1294.67 534.927,1294.69 536.931,1294.71 538.935,1294.73 540.94,1294.74 542.944,1294.76 544.948,1294.78 546.953,1294.79 548.957,1294.81 550.961,1294.83 \n",
       "  552.966,1294.84 554.97,1294.86 556.975,1294.88 558.979,1294.89 560.983,1294.91 562.988,1294.92 564.992,1294.94 566.996,1294.95 569.001,1294.97 571.005,1294.99 \n",
       "  573.009,1295 575.014,1295.01 577.018,1295.03 579.022,1295.04 581.027,1295.06 583.031,1295.07 585.035,1295.09 587.04,1295.1 589.044,1295.11 591.049,1295.13 \n",
       "  593.053,1295.14 595.057,1295.16 597.062,1295.17 599.066,1295.18 601.07,1295.2 603.075,1295.21 605.079,1295.22 607.083,1295.23 609.088,1295.25 611.092,1295.26 \n",
       "  613.096,1295.27 615.101,1295.28 617.105,1295.3 619.11,1295.31 621.114,1295.32 623.118,1295.33 625.123,1295.34 627.127,1295.36 629.131,1295.37 631.136,1295.38 \n",
       "  633.14,1295.39 635.144,1295.4 637.149,1295.41 639.153,1295.42 641.157,1295.43 643.162,1295.45 645.166,1295.46 647.17,1295.47 649.175,1295.48 651.179,1295.49 \n",
       "  653.184,1295.5 655.188,1295.51 657.192,1295.52 659.197,1295.53 661.201,1295.54 663.205,1295.55 665.21,1295.56 667.214,1295.57 669.218,1295.58 671.223,1295.59 \n",
       "  673.227,1295.6 675.231,1295.61 677.236,1295.62 679.24,1295.63 681.244,1295.64 683.249,1295.65 685.253,1295.65 687.258,1295.66 689.262,1295.67 691.266,1295.68 \n",
       "  693.271,1295.69 695.275,1295.7 697.279,1295.71 699.284,1295.72 701.288,1295.73 703.292,1295.73 705.297,1295.74 707.301,1295.75 709.305,1295.76 711.31,1295.77 \n",
       "  713.314,1295.78 715.319,1295.78 717.323,1295.79 719.327,1295.8 721.332,1295.81 723.336,1295.82 725.34,1295.82 727.345,1295.83 729.349,1295.84 731.353,1295.85 \n",
       "  733.358,1295.85 735.362,1295.86 737.366,1295.87 739.371,1295.88 741.375,1295.88 743.379,1295.89 745.384,1295.9 747.388,1295.91 749.393,1295.91 751.397,1295.92 \n",
       "  753.401,1295.93 755.406,1295.93 757.41,1295.94 759.414,1295.95 761.419,1295.95 763.423,1295.96 765.427,1295.97 767.432,1295.97 769.436,1295.98 771.44,1295.99 \n",
       "  773.445,1295.99 775.449,1296 777.454,1296.01 779.458,1296.01 781.462,1296.02 783.467,1296.03 785.471,1296.03 787.475,1296.04 789.48,1296.04 791.484,1296.05 \n",
       "  793.488,1296.06 795.493,1296.06 797.497,1296.07 799.501,1296.08 801.506,1296.08 803.51,1296.09 805.514,1296.09 807.519,1296.1 809.523,1296.1 811.528,1296.11 \n",
       "  813.532,1296.12 815.536,1296.12 817.541,1296.13 819.545,1296.13 821.549,1296.14 823.554,1296.14 825.558,1296.15 827.562,1296.15 829.567,1296.16 831.571,1296.16 \n",
       "  833.575,1296.17 835.58,1296.17 837.584,1296.18 839.589,1296.19 841.593,1296.19 843.597,1296.2 845.602,1296.2 847.606,1296.21 849.61,1296.21 851.615,1296.22 \n",
       "  853.619,1296.22 855.623,1296.23 857.628,1296.23 859.632,1296.23 861.636,1296.24 863.641,1296.24 865.645,1296.25 867.649,1296.25 869.654,1296.26 871.658,1296.26 \n",
       "  873.663,1296.27 875.667,1296.27 877.671,1296.28 879.676,1296.28 881.68,1296.29 883.684,1296.29 885.689,1296.29 887.693,1296.3 889.697,1296.3 891.702,1296.31 \n",
       "  893.706,1296.31 895.71,1296.32 897.715,1296.32 899.719,1296.33 901.723,1296.33 903.728,1296.33 905.732,1296.34 907.737,1296.34 909.741,1296.35 911.745,1296.35 \n",
       "  913.75,1296.35 915.754,1296.36 917.758,1296.36 919.763,1296.37 921.767,1296.37 923.771,1296.37 925.776,1296.38 927.78,1296.38 929.784,1296.39 931.789,1296.39 \n",
       "  933.793,1296.39 935.798,1296.4 937.802,1296.4 939.806,1296.4 941.811,1296.41 943.815,1296.41 945.819,1296.42 947.824,1296.42 949.828,1296.42 951.832,1296.43 \n",
       "  953.837,1296.43 955.841,1296.43 957.845,1296.44 959.85,1296.44 961.854,1296.44 963.858,1296.45 965.863,1296.45 967.867,1296.46 969.872,1296.46 971.876,1296.46 \n",
       "  973.88,1296.47 975.885,1296.47 977.889,1296.47 979.893,1296.48 981.898,1296.48 983.902,1296.48 985.906,1296.49 987.911,1296.49 989.915,1296.49 991.919,1296.5 \n",
       "  993.924,1296.5 995.928,1296.5 997.933,1296.51 999.937,1296.51 1001.94,1296.51 1003.95,1296.51 1005.95,1296.52 1007.95,1296.52 1009.96,1296.52 1011.96,1296.53 \n",
       "  1013.97,1296.53 1015.97,1296.53 1017.98,1296.54 1019.98,1296.54 1021.98,1296.54 1023.99,1296.55 1025.99,1296.55 1028,1296.55 1030,1296.55 1032.01,1296.56 \n",
       "  1034.01,1296.56 1036.02,1296.56 1038.02,1296.57 1040.02,1296.57 1042.03,1296.57 1044.03,1296.58 1046.04,1296.58 1048.04,1296.58 1050.05,1296.58 1052.05,1296.59 \n",
       "  1054.05,1296.59 1056.06,1296.59 1058.06,1296.6 1060.07,1296.6 1062.07,1296.6 1064.08,1296.6 1066.08,1296.61 1068.08,1296.61 1070.09,1296.61 1072.09,1296.62 \n",
       "  1074.1,1296.62 1076.1,1296.62 1078.11,1296.62 1080.11,1296.63 1082.12,1296.63 1084.12,1296.63 1086.12,1296.63 1088.13,1296.64 1090.13,1296.64 1092.14,1296.64 \n",
       "  1094.14,1296.64 1096.15,1296.65 1098.15,1296.65 1100.15,1296.65 1102.16,1296.66 1104.16,1296.66 1106.17,1296.66 1108.17,1296.66 1110.18,1296.67 1112.18,1296.67 \n",
       "  1114.19,1296.67 1116.19,1296.67 1118.19,1296.68 1120.2,1296.68 1122.2,1296.68 1124.21,1296.68 1126.21,1296.69 1128.22,1296.69 1130.22,1296.69 1132.22,1296.69 \n",
       "  1134.23,1296.7 1136.23,1296.7 1138.24,1296.7 1140.24,1296.7 1142.25,1296.71 1144.25,1296.71 1146.25,1296.71 1148.26,1296.71 1150.26,1296.72 1152.27,1296.72 \n",
       "  1154.27,1296.72 1156.28,1296.72 1158.28,1296.73 1160.29,1296.73 1162.29,1296.73 1164.29,1296.73 1166.3,1296.74 1168.3,1296.74 1170.31,1296.74 1172.31,1296.74 \n",
       "  1174.32,1296.75 1176.32,1296.75 1178.32,1296.75 1180.33,1296.75 1182.33,1296.76 1184.34,1296.76 1186.34,1296.76 1188.35,1296.76 1190.35,1296.77 1192.35,1296.77 \n",
       "  1194.36,1296.77 1196.36,1296.77 1198.37,1296.78 1200.37,1296.78 1202.38,1296.78 1204.38,1296.78 1206.39,1296.78 1208.39,1296.79 1210.39,1296.79 1212.4,1296.79 \n",
       "  1214.4,1296.79 1216.41,1296.8 1218.41,1296.8 1220.42,1296.8 1222.42,1296.8 1224.42,1296.81 1226.43,1296.81 1228.43,1296.81 1230.44,1296.81 1232.44,1296.82 \n",
       "  1234.45,1296.82 1236.45,1296.82 1238.46,1296.82 1240.46,1296.83 1242.46,1296.83 1244.47,1296.83 1246.47,1296.83 1248.48,1296.84 1250.48,1296.84 1252.49,1296.84 \n",
       "  1254.49,1296.84 1256.49,1296.85 1258.5,1296.85 1260.5,1296.85 1262.51,1296.85 1264.51,1296.85 1266.52,1296.86 1268.52,1296.86 1270.52,1296.86 1272.53,1296.86 \n",
       "  1274.53,1296.87 1276.54,1296.87 1278.54,1296.87 1280.55,1296.87 1282.55,1296.88 1284.56,1296.88 1286.56,1296.88 1288.56,1296.88 1290.57,1296.89 1292.57,1296.89 \n",
       "  1294.58,1296.89 1296.58,1296.89 1298.59,1296.9 1300.59,1296.9 1302.59,1296.9 1304.6,1296.9 1306.6,1296.91 1308.61,1296.91 1310.61,1296.91 1312.62,1296.91 \n",
       "  1314.62,1296.92 1316.62,1296.92 1318.63,1296.92 1320.63,1296.92 1322.64,1296.93 1324.64,1296.93 1326.65,1296.93 1328.65,1296.93 1330.66,1296.94 1332.66,1296.94 \n",
       "  1334.66,1296.94 1336.67,1296.94 1338.67,1296.95 1340.68,1296.95 1342.68,1296.95 1344.69,1296.96 1346.69,1296.96 1348.69,1296.96 1350.7,1296.96 1352.7,1296.97 \n",
       "  1354.71,1296.97 1356.71,1296.97 1358.72,1296.97 1360.72,1296.98 1362.73,1296.98 1364.73,1296.98 1366.73,1296.98 1368.74,1296.99 1370.74,1296.99 1372.75,1296.99 \n",
       "  1374.75,1297 1376.76,1297 1378.76,1297 1380.76,1297 1382.77,1297.01 1384.77,1297.01 1386.78,1297.01 1388.78,1297.01 1390.79,1297.02 1392.79,1297.02 \n",
       "  1394.79,1297.02 1396.8,1297.03 1398.8,1297.03 1400.81,1297.03 1402.81,1297.03 1404.82,1297.04 1406.82,1297.04 1408.83,1297.04 1410.83,1297.05 1412.83,1297.05 \n",
       "  1414.84,1297.05 1416.84,1297.05 1418.85,1297.06 1420.85,1297.06 1422.86,1297.06 1424.86,1297.07 1426.86,1297.07 1428.87,1297.07 1430.87,1297.07 1432.88,1297.08 \n",
       "  1434.88,1297.08 1436.89,1297.08 1438.89,1297.09 1440.89,1297.09 1442.9,1297.09 1444.9,1297.1 1446.91,1297.1 1448.91,1297.1 1450.92,1297.11 1452.92,1297.11 \n",
       "  1454.93,1297.11 1456.93,1297.11 1458.93,1297.12 1460.94,1297.12 1462.94,1297.12 1464.95,1297.13 1466.95,1297.13 1468.96,1297.13 1470.96,1297.14 1472.96,1297.14 \n",
       "  1474.97,1297.14 1476.97,1297.15 1478.98,1297.15 1480.98,1297.15 1482.99,1297.16 1484.99,1297.16 1487,1297.16 1489,1297.17 1491,1297.17 1493.01,1297.17 \n",
       "  1495.01,1297.18 1497.02,1297.18 1499.02,1297.18 1501.03,1297.19 1503.03,1297.19 1505.03,1297.2 1507.04,1297.2 1509.04,1297.2 1511.05,1297.21 1513.05,1297.21 \n",
       "  1515.06,1297.21 1517.06,1297.22 1519.06,1297.22 1521.07,1297.22 1523.07,1297.23 1525.08,1297.23 1527.08,1297.23 1529.09,1297.24 1531.09,1297.24 1533.1,1297.25 \n",
       "  1535.1,1297.25 1537.1,1297.25 1539.11,1297.26 1541.11,1297.26 1543.12,1297.27 1545.12,1297.27 1547.13,1297.27 1549.13,1297.28 1551.13,1297.28 1553.14,1297.28 \n",
       "  1555.14,1297.29 1557.15,1297.29 1559.15,1297.3 1561.16,1297.3 1563.16,1297.3 1565.16,1297.31 1567.17,1297.31 1569.17,1297.32 1571.18,1297.32 1573.18,1297.33 \n",
       "  1575.19,1297.33 1577.19,1297.33 1579.2,1297.34 1581.2,1297.34 1583.2,1297.35 1585.21,1297.35 1587.21,1297.35 1589.22,1297.36 1591.22,1297.36 1593.23,1297.37 \n",
       "  1595.23,1297.37 1597.23,1297.38 1599.24,1297.38 1601.24,1297.39 1603.25,1297.39 1605.25,1297.39 1607.26,1297.4 1609.26,1297.4 1611.26,1297.41 1613.27,1297.41 \n",
       "  1615.27,1297.42 1617.28,1297.42 1619.28,1297.43 1621.29,1297.43 1623.29,1297.44 1625.3,1297.44 1627.3,1297.45 1629.3,1297.45 1631.31,1297.46 1633.31,1297.46 \n",
       "  1635.32,1297.47 1637.32,1297.47 1639.33,1297.48 1641.33,1297.48 1643.33,1297.49 1645.34,1297.49 1647.34,1297.5 1649.35,1297.5 1651.35,1297.51 1653.36,1297.51 \n",
       "  1655.36,1297.52 1657.37,1297.52 1659.37,1297.53 1661.37,1297.53 1663.38,1297.54 1665.38,1297.54 1667.39,1297.55 1669.39,1297.55 1671.4,1297.56 1673.4,1297.56 \n",
       "  1675.4,1297.57 1677.41,1297.57 1679.41,1297.58 1681.42,1297.59 1683.42,1297.59 1685.43,1297.6 1687.43,1297.6 1689.43,1297.61 1691.44,1297.61 1693.44,1297.62 \n",
       "  1695.45,1297.63 1697.45,1297.63 1699.46,1297.64 1701.46,1297.64 1703.47,1297.65 1705.47,1297.66 1707.47,1297.66 1709.48,1297.67 1711.48,1297.67 1713.49,1297.68 \n",
       "  1715.49,1297.69 1717.5,1297.69 1719.5,1297.7 1721.5,1297.7 1723.51,1297.71 1725.51,1297.72 1727.52,1297.72 1729.52,1297.73 1731.53,1297.74 1733.53,1297.74 \n",
       "  1735.53,1297.75 1737.54,1297.76 1739.54,1297.76 1741.55,1297.77 1743.55,1297.78 1745.56,1297.78 1747.56,1297.79 1749.57,1297.8 1751.57,1297.8 1753.57,1297.81 \n",
       "  1755.58,1297.82 1757.58,1297.82 1759.59,1297.83 1761.59,1297.84 1763.6,1297.85 1765.6,1297.85 1767.6,1297.86 1769.61,1297.87 1771.61,1297.87 1773.62,1297.88 \n",
       "  1775.62,1297.89 1777.63,1297.9 1779.63,1297.9 1781.64,1297.91 1783.64,1297.92 1785.64,1297.93 1787.65,1297.94 1789.65,1297.94 1791.66,1297.95 1793.66,1297.96 \n",
       "  1795.67,1297.97 1797.67,1297.97 1799.67,1297.98 1801.68,1297.99 1803.68,1298 1805.69,1298.01 1807.69,1298.01 1809.7,1298.02 1811.7,1298.03 1813.7,1298.04 \n",
       "  1815.71,1298.05 1817.71,1298.06 1819.72,1298.06 1821.72,1298.07 1823.73,1298.08 1825.73,1298.09 1827.74,1298.1 1829.74,1298.11 1831.74,1298.12 1833.75,1298.13 \n",
       "  1835.75,1298.14 1837.76,1298.14 1839.76,1298.15 1841.77,1298.16 1843.77,1298.17 1845.77,1298.18 1847.78,1298.19 1849.78,1298.2 1851.79,1298.21 1853.79,1298.22 \n",
       "  1855.8,1298.23 1857.8,1298.24 1859.8,1298.25 1861.81,1298.26 1863.81,1298.27 1865.82,1298.28 1867.82,1298.29 1869.83,1298.3 1871.83,1298.31 1873.84,1298.32 \n",
       "  1875.84,1298.33 1877.84,1298.34 1879.85,1298.35 1881.85,1298.36 1883.86,1298.37 1885.86,1298.38 1887.87,1298.39 1889.87,1298.4 1891.87,1298.41 1893.88,1298.42 \n",
       "  1895.88,1298.43 1897.89,1298.44 1899.89,1298.46 1901.9,1298.47 1903.9,1298.48 1905.91,1298.49 1907.91,1298.5 1909.91,1298.51 1911.92,1298.52 1913.92,1298.54 \n",
       "  1915.93,1298.55 1917.93,1298.56 1919.94,1298.57 1921.94,1298.58 1923.94,1298.6 1925.95,1298.61 1927.95,1298.62 1929.96,1298.63 1931.96,1298.65 1933.97,1298.66 \n",
       "  1935.97,1298.67 1937.97,1298.68 1939.98,1298.7 1941.98,1298.71 1943.99,1298.72 1945.99,1298.73 1948,1298.75 1950,1298.76 1952.01,1298.77 1954.01,1298.79 \n",
       "  1956.01,1298.8 1958.02,1298.82 1960.02,1298.83 1962.03,1298.84 1964.03,1298.86 1966.04,1298.87 1968.04,1298.89 1970.04,1298.9 1972.05,1298.91 1974.05,1298.93 \n",
       "  1976.06,1298.94 1978.06,1298.96 1980.07,1298.97 1982.07,1298.99 1984.07,1299 1986.08,1299.02 1988.08,1299.03 1990.09,1299.05 1992.09,1299.06 1994.1,1299.08 \n",
       "  1996.1,1299.1 1998.11,1299.11 2000.11,1299.13 2002.11,1299.14 2004.12,1299.16 2006.12,1299.18 2008.13,1299.19 2010.13,1299.21 2012.14,1299.23 2014.14,1299.24 \n",
       "  2016.14,1299.26 2018.15,1299.28 2020.15,1299.3 2022.16,1299.31 2024.16,1299.33 2026.17,1299.35 2028.17,1299.37 2030.18,1299.38 2032.18,1299.4 2034.18,1299.42 \n",
       "  2036.19,1299.44 2038.19,1299.46 2040.2,1299.48 2042.2,1299.5 2044.21,1299.52 2046.21,1299.53 2048.21,1299.55 2050.22,1299.57 2052.22,1299.59 2054.23,1299.61 \n",
       "  2056.23,1299.63 2058.24,1299.65 2060.24,1299.67 2062.24,1299.7 2064.25,1299.72 2066.25,1299.74 2068.26,1299.76 2070.26,1299.78 2072.27,1299.8 2074.27,1299.82 \n",
       "  2076.28,1299.84 2078.28,1299.87 2080.28,1299.89 2082.29,1299.91 2084.29,1299.93 2086.3,1299.96 2088.3,1299.98 2090.31,1300 2092.31,1300.03 2094.31,1300.05 \n",
       "  2096.32,1300.07 2098.32,1300.1 2100.33,1300.12 2102.33,1300.15 2104.34,1300.17 2106.34,1300.2 2108.34,1300.22 2110.35,1300.25 2112.35,1300.27 2114.36,1300.3 \n",
       "  2116.36,1300.33 2118.37,1300.35 2120.37,1300.38 2122.38,1300.41 2124.38,1300.43 2126.38,1300.46 2128.39,1300.49 2130.39,1300.52 2132.4,1300.55 2134.4,1300.57 \n",
       "  2136.41,1300.6 2138.41,1300.63 2140.41,1300.66 2142.42,1300.69 2144.42,1300.72 2146.43,1300.75 2148.43,1300.78 2150.44,1300.81 2152.44,1300.84 2154.45,1300.87 \n",
       "  2156.45,1300.91 2158.45,1300.94 2160.46,1300.97 2162.46,1301 2164.47,1301.04 2166.47,1301.07 2168.48,1301.1 2170.48,1301.14 2172.48,1301.17 2174.49,1301.21 \n",
       "  2176.49,1301.24 2178.5,1301.28 2180.5,1301.31 2182.51,1301.35 2184.51,1301.39 2186.51,1301.42 2188.52,1301.46 2190.52,1301.5 2192.53,1301.54 2194.53,1301.58 \n",
       "  2196.54,1301.62 2198.54,1301.66 2200.55,1301.7 2202.55,1301.74 2204.55,1301.78 2206.56,1301.82 2208.56,1301.86 2210.57,1301.9 2212.57,1301.94 2214.58,1301.99 \n",
       "  2216.58,1302.03 2218.58,1302.08 2220.59,1302.12 2222.59,1302.17 2224.6,1302.21 2226.6,1302.26 2228.61,1302.31 2230.61,1302.35 2232.61,1302.4 2234.62,1302.45 \n",
       "  2236.62,1302.5 2238.63,1302.55 2240.63,1302.6 2242.64,1302.65 2244.64,1302.7 2246.65,1302.75 2248.65,1302.81 2250.65,1302.86 2252.66,1302.91 2254.66,1302.97 \n",
       "  2256.67,1303.03 2258.67,1303.08 2260.68,1303.14 2262.68,1303.2 2264.68,1303.26 2266.69,1303.31 2268.69,1303.37 2270.7,1303.44 2272.7,1303.5 2274.71,1303.56 \n",
       "  2276.71,1303.62 2278.72,1303.69 2280.72,1303.75 2282.72,1303.82 2284.73,1303.89 2286.73,1303.95 2288.74,1304.02 2290.74,1304.09 2292.75,1304.16 \n",
       "  \"/>\n",
       "<path clip-path=\"url(#clip200)\" d=\"\n",
       "M303.068 1377.32 L887.464 1377.32 L887.464 1221.8 L303.068 1221.8  Z\n",
       "  \" fill=\"#ffffff\" fill-rule=\"evenodd\" fill-opacity=\"1\"/>\n",
       "<polyline clip-path=\"url(#clip200)\" style=\"stroke:#000000; stroke-linecap:round; stroke-linejoin:round; stroke-width:4; stroke-opacity:1; fill:none\" points=\"\n",
       "  303.068,1377.32 887.464,1377.32 887.464,1221.8 303.068,1221.8 303.068,1377.32 \n",
       "  \"/>\n",
       "<polyline clip-path=\"url(#clip200)\" style=\"stroke:#0000ff; stroke-linecap:round; stroke-linejoin:round; stroke-width:4; stroke-opacity:1; fill:none\" points=\"\n",
       "  326.628,1273.64 467.986,1273.64 \n",
       "  \"/>\n",
       "<path clip-path=\"url(#clip200)\" d=\"M491.545 1256.36 L496.221 1256.36 L496.221 1286.98 L513.05 1286.98 L513.05 1290.92 L491.545 1290.92 L491.545 1256.36 Z\" fill=\"#000000\" fill-rule=\"evenodd\" fill-opacity=\"1\" /><path clip-path=\"url(#clip200)\" d=\"M522.633 1260.2 L522.633 1273.18 L528.513 1273.18 Q531.777 1273.18 533.559 1271.49 Q535.341 1269.8 535.341 1266.68 Q535.341 1263.58 533.559 1261.89 Q531.777 1260.2 528.513 1260.2 L522.633 1260.2 M517.957 1256.36 L528.513 1256.36 Q534.323 1256.36 537.286 1258.99 Q540.272 1261.61 540.272 1266.68 Q540.272 1271.8 537.286 1274.41 Q534.323 1277.03 528.513 1277.03 L522.633 1277.03 L522.633 1290.92 L517.957 1290.92 L517.957 1256.36 Z\" fill=\"#000000\" fill-rule=\"evenodd\" fill-opacity=\"1\" /><path clip-path=\"url(#clip200)\" d=\"M561.429 1264.99 L565.688 1264.99 L565.688 1290.92 L561.429 1290.92 L561.429 1264.99 M561.429 1254.9 L565.688 1254.9 L565.688 1260.29 L561.429 1260.29 L561.429 1254.9 Z\" fill=\"#000000\" fill-rule=\"evenodd\" fill-opacity=\"1\" /><path clip-path=\"url(#clip200)\" d=\"M596.151 1275.27 L596.151 1290.92 L591.892 1290.92 L591.892 1275.41 Q591.892 1271.73 590.457 1269.9 Q589.022 1268.07 586.151 1268.07 Q582.702 1268.07 580.711 1270.27 Q578.721 1272.47 578.721 1276.26 L578.721 1290.92 L574.438 1290.92 L574.438 1264.99 L578.721 1264.99 L578.721 1269.02 Q580.248 1266.68 582.309 1265.52 Q584.392 1264.36 587.1 1264.36 Q591.568 1264.36 593.86 1267.14 Q596.151 1269.9 596.151 1275.27 Z\" fill=\"#000000\" fill-rule=\"evenodd\" fill-opacity=\"1\" /><path clip-path=\"url(#clip200)\" d=\"M621.707 1268.92 L621.707 1254.9 L625.966 1254.9 L625.966 1290.92 L621.707 1290.92 L621.707 1287.03 Q620.364 1289.34 618.304 1290.48 Q616.267 1291.59 613.396 1291.59 Q608.697 1291.59 605.734 1287.84 Q602.795 1284.09 602.795 1277.98 Q602.795 1271.86 605.734 1268.11 Q608.697 1264.36 613.396 1264.36 Q616.267 1264.36 618.304 1265.5 Q620.364 1266.61 621.707 1268.92 M607.193 1277.98 Q607.193 1282.67 609.114 1285.36 Q611.059 1288.02 614.438 1288.02 Q617.818 1288.02 619.762 1285.36 Q621.707 1282.67 621.707 1277.98 Q621.707 1273.28 619.762 1270.61 Q617.818 1267.93 614.438 1267.93 Q611.059 1267.93 609.114 1270.61 Q607.193 1273.28 607.193 1277.98 Z\" fill=\"#000000\" fill-rule=\"evenodd\" fill-opacity=\"1\" /><path clip-path=\"url(#clip200)\" d=\"M634.739 1264.99 L638.998 1264.99 L638.998 1290.92 L634.739 1290.92 L634.739 1264.99 M634.739 1254.9 L638.998 1254.9 L638.998 1260.29 L634.739 1260.29 L634.739 1254.9 Z\" fill=\"#000000\" fill-rule=\"evenodd\" fill-opacity=\"1\" /><path clip-path=\"url(#clip200)\" d=\"M644.855 1264.99 L649.368 1264.99 L657.47 1286.75 L665.572 1264.99 L670.086 1264.99 L660.364 1290.92 L654.577 1290.92 L644.855 1264.99 Z\" fill=\"#000000\" fill-rule=\"evenodd\" fill-opacity=\"1\" /><path clip-path=\"url(#clip200)\" d=\"M675.966 1264.99 L680.225 1264.99 L680.225 1290.92 L675.966 1290.92 L675.966 1264.99 M675.966 1254.9 L680.225 1254.9 L680.225 1260.29 L675.966 1260.29 L675.966 1254.9 Z\" fill=\"#000000\" fill-rule=\"evenodd\" fill-opacity=\"1\" /><path clip-path=\"url(#clip200)\" d=\"M706.197 1268.92 L706.197 1254.9 L710.456 1254.9 L710.456 1290.92 L706.197 1290.92 L706.197 1287.03 Q704.854 1289.34 702.794 1290.48 Q700.757 1291.59 697.887 1291.59 Q693.188 1291.59 690.225 1287.84 Q687.285 1284.09 687.285 1277.98 Q687.285 1271.86 690.225 1268.11 Q693.188 1264.36 697.887 1264.36 Q700.757 1264.36 702.794 1265.5 Q704.854 1266.61 706.197 1268.92 M691.683 1277.98 Q691.683 1282.67 693.604 1285.36 Q695.549 1288.02 698.928 1288.02 Q702.308 1288.02 704.252 1285.36 Q706.197 1282.67 706.197 1277.98 Q706.197 1273.28 704.252 1270.61 Q702.308 1267.93 698.928 1267.93 Q695.549 1267.93 693.604 1270.61 Q691.683 1273.28 691.683 1277.98 Z\" fill=\"#000000\" fill-rule=\"evenodd\" fill-opacity=\"1\" /><path clip-path=\"url(#clip200)\" d=\"M718.789 1280.68 L718.789 1264.99 L723.049 1264.99 L723.049 1280.52 Q723.049 1284.2 724.484 1286.05 Q725.919 1287.88 728.789 1287.88 Q732.238 1287.88 734.229 1285.68 Q736.243 1283.48 736.243 1279.69 L736.243 1264.99 L740.502 1264.99 L740.502 1290.92 L736.243 1290.92 L736.243 1286.93 Q734.692 1289.29 732.632 1290.45 Q730.595 1291.59 727.887 1291.59 Q723.419 1291.59 721.104 1288.81 Q718.789 1286.03 718.789 1280.68 M729.507 1264.36 L729.507 1264.36 Z\" fill=\"#000000\" fill-rule=\"evenodd\" fill-opacity=\"1\" /><path clip-path=\"url(#clip200)\" d=\"M761.058 1277.88 Q755.896 1277.88 753.905 1279.06 Q751.914 1280.24 751.914 1283.09 Q751.914 1285.36 753.396 1286.7 Q754.9 1288.02 757.47 1288.02 Q761.011 1288.02 763.141 1285.52 Q765.294 1283 765.294 1278.83 L765.294 1277.88 L761.058 1277.88 M769.553 1276.12 L769.553 1290.92 L765.294 1290.92 L765.294 1286.98 Q763.835 1289.34 761.66 1290.48 Q759.484 1291.59 756.336 1291.59 Q752.354 1291.59 749.993 1289.36 Q747.655 1287.12 747.655 1283.37 Q747.655 1278.99 750.572 1276.77 Q753.511 1274.55 759.322 1274.55 L765.294 1274.55 L765.294 1274.13 Q765.294 1271.19 763.349 1269.6 Q761.428 1267.98 757.933 1267.98 Q755.711 1267.98 753.604 1268.51 Q751.498 1269.04 749.553 1270.11 L749.553 1266.17 Q751.891 1265.27 754.09 1264.83 Q756.289 1264.36 758.373 1264.36 Q763.998 1264.36 766.775 1267.28 Q769.553 1270.2 769.553 1276.12 Z\" fill=\"#000000\" fill-rule=\"evenodd\" fill-opacity=\"1\" /><path clip-path=\"url(#clip200)\" d=\"M778.326 1254.9 L782.585 1254.9 L782.585 1290.92 L778.326 1290.92 L778.326 1254.9 Z\" fill=\"#000000\" fill-rule=\"evenodd\" fill-opacity=\"1\" /><path clip-path=\"url(#clip200)\" d=\"M808.025 1265.75 L808.025 1269.78 Q806.219 1268.86 804.275 1268.39 Q802.331 1267.93 800.247 1267.93 Q797.076 1267.93 795.479 1268.9 Q793.905 1269.87 793.905 1271.82 Q793.905 1273.3 795.039 1274.16 Q796.173 1274.99 799.599 1275.75 L801.057 1276.08 Q805.595 1277.05 807.493 1278.83 Q809.414 1280.59 809.414 1283.76 Q809.414 1287.37 806.544 1289.48 Q803.696 1291.59 798.696 1291.59 Q796.613 1291.59 794.345 1291.17 Q792.099 1290.78 789.599 1289.97 L789.599 1285.57 Q791.96 1286.79 794.252 1287.42 Q796.544 1288.02 798.789 1288.02 Q801.798 1288.02 803.419 1287 Q805.039 1285.96 805.039 1284.09 Q805.039 1282.35 803.858 1281.42 Q802.701 1280.5 798.743 1279.64 L797.261 1279.3 Q793.303 1278.46 791.544 1276.75 Q789.784 1275.01 789.784 1272 Q789.784 1268.35 792.377 1266.36 Q794.97 1264.36 799.738 1264.36 Q802.099 1264.36 804.182 1264.71 Q806.266 1265.06 808.025 1265.75 Z\" fill=\"#000000\" fill-rule=\"evenodd\" fill-opacity=\"1\" /><polyline clip-path=\"url(#clip200)\" style=\"stroke:#ff0000; stroke-linecap:round; stroke-linejoin:round; stroke-width:4; stroke-opacity:1; fill:none\" points=\"\n",
       "  326.628,1325.48 467.986,1325.48 \n",
       "  \"/>\n",
       "<path clip-path=\"url(#clip200)\" d=\"M491.545 1308.2 L496.221 1308.2 L496.221 1338.82 L513.05 1338.82 L513.05 1342.76 L491.545 1342.76 L491.545 1308.2 Z\" fill=\"#000000\" fill-rule=\"evenodd\" fill-opacity=\"1\" /><path clip-path=\"url(#clip200)\" d=\"M522.633 1312.04 L522.633 1325.02 L528.513 1325.02 Q531.777 1325.02 533.559 1323.33 Q535.341 1321.64 535.341 1318.52 Q535.341 1315.42 533.559 1313.73 Q531.777 1312.04 528.513 1312.04 L522.633 1312.04 M517.957 1308.2 L528.513 1308.2 Q534.323 1308.2 537.286 1310.83 Q540.272 1313.45 540.272 1318.52 Q540.272 1323.64 537.286 1326.25 Q534.323 1328.87 528.513 1328.87 L522.633 1328.87 L522.633 1342.76 L517.957 1342.76 L517.957 1308.2 Z\" fill=\"#000000\" fill-rule=\"evenodd\" fill-opacity=\"1\" /><path clip-path=\"url(#clip200)\" d=\"M577.957 1317.59 L577.957 1321.62 Q576.151 1320.7 574.207 1320.23 Q572.262 1319.77 570.179 1319.77 Q567.008 1319.77 565.411 1320.74 Q563.837 1321.71 563.837 1323.66 Q563.837 1325.14 564.971 1326 Q566.105 1326.83 569.531 1327.59 L570.989 1327.92 Q575.526 1328.89 577.424 1330.67 Q579.346 1332.43 579.346 1335.6 Q579.346 1339.21 576.475 1341.32 Q573.628 1343.43 568.628 1343.43 Q566.545 1343.43 564.276 1343.01 Q562.031 1342.62 559.531 1341.81 L559.531 1337.41 Q561.892 1338.63 564.184 1339.26 Q566.475 1339.86 568.721 1339.86 Q571.73 1339.86 573.35 1338.84 Q574.971 1337.8 574.971 1335.93 Q574.971 1334.19 573.79 1333.26 Q572.633 1332.34 568.674 1331.48 L567.193 1331.14 Q563.235 1330.3 561.475 1328.59 Q559.716 1326.85 559.716 1323.84 Q559.716 1320.19 562.309 1318.2 Q564.901 1316.2 569.67 1316.2 Q572.031 1316.2 574.114 1316.55 Q576.198 1316.9 577.957 1317.59 Z\" fill=\"#000000\" fill-rule=\"evenodd\" fill-opacity=\"1\" /><path clip-path=\"url(#clip200)\" d=\"M590.341 1309.47 L590.341 1316.83 L599.114 1316.83 L599.114 1320.14 L590.341 1320.14 L590.341 1334.21 Q590.341 1337.38 591.198 1338.29 Q592.077 1339.19 594.739 1339.19 L599.114 1339.19 L599.114 1342.76 L594.739 1342.76 Q589.809 1342.76 587.934 1340.93 Q586.059 1339.07 586.059 1334.21 L586.059 1320.14 L582.934 1320.14 L582.934 1316.83 L586.059 1316.83 L586.059 1309.47 L590.341 1309.47 Z\" fill=\"#000000\" fill-rule=\"evenodd\" fill-opacity=\"1\" /><path clip-path=\"url(#clip200)\" d=\"M619.739 1320.81 Q619.021 1320.39 618.165 1320.21 Q617.332 1320 616.313 1320 Q612.702 1320 610.758 1322.36 Q608.836 1324.7 608.836 1329.1 L608.836 1342.76 L604.554 1342.76 L604.554 1316.83 L608.836 1316.83 L608.836 1320.86 Q610.179 1318.5 612.332 1317.36 Q614.484 1316.2 617.563 1316.2 Q618.003 1316.2 618.535 1316.27 Q619.068 1316.32 619.716 1316.44 L619.739 1320.81 Z\" fill=\"#000000\" fill-rule=\"evenodd\" fill-opacity=\"1\" /><path clip-path=\"url(#clip200)\" d=\"M635.989 1329.72 Q630.827 1329.72 628.836 1330.9 Q626.845 1332.08 626.845 1334.93 Q626.845 1337.2 628.327 1338.54 Q629.832 1339.86 632.401 1339.86 Q635.943 1339.86 638.072 1337.36 Q640.225 1334.84 640.225 1330.67 L640.225 1329.72 L635.989 1329.72 M644.484 1327.96 L644.484 1342.76 L640.225 1342.76 L640.225 1338.82 Q638.767 1341.18 636.591 1342.32 Q634.415 1343.43 631.267 1343.43 Q627.285 1343.43 624.924 1341.2 Q622.586 1338.96 622.586 1335.21 Q622.586 1330.83 625.503 1328.61 Q628.443 1326.39 634.253 1326.39 L640.225 1326.39 L640.225 1325.97 Q640.225 1323.03 638.281 1321.44 Q636.359 1319.82 632.864 1319.82 Q630.642 1319.82 628.535 1320.35 Q626.429 1320.88 624.484 1321.95 L624.484 1318.01 Q626.822 1317.11 629.021 1316.67 Q631.22 1316.2 633.304 1316.2 Q638.929 1316.2 641.706 1319.12 Q644.484 1322.04 644.484 1327.96 Z\" fill=\"#000000\" fill-rule=\"evenodd\" fill-opacity=\"1\" /><path clip-path=\"url(#clip200)\" d=\"M653.257 1316.83 L657.517 1316.83 L657.517 1342.76 L653.257 1342.76 L653.257 1316.83 M653.257 1306.74 L657.517 1306.74 L657.517 1312.13 L653.257 1312.13 L653.257 1306.74 Z\" fill=\"#000000\" fill-rule=\"evenodd\" fill-opacity=\"1\" /><path clip-path=\"url(#clip200)\" d=\"M687.979 1327.11 L687.979 1342.76 L683.72 1342.76 L683.72 1327.25 Q683.72 1323.57 682.285 1321.74 Q680.85 1319.91 677.979 1319.91 Q674.53 1319.91 672.54 1322.11 Q670.549 1324.31 670.549 1328.1 L670.549 1342.76 L666.267 1342.76 L666.267 1316.83 L670.549 1316.83 L670.549 1320.86 Q672.077 1318.52 674.137 1317.36 Q676.22 1316.2 678.929 1316.2 Q683.396 1316.2 685.688 1318.98 Q687.979 1321.74 687.979 1327.11 Z\" fill=\"#000000\" fill-rule=\"evenodd\" fill-opacity=\"1\" /><path clip-path=\"url(#clip200)\" d=\"M731.729 1321.81 Q733.326 1318.94 735.549 1317.57 Q737.771 1316.2 740.78 1316.2 Q744.831 1316.2 747.03 1319.05 Q749.229 1321.88 749.229 1327.11 L749.229 1342.76 L744.947 1342.76 L744.947 1327.25 Q744.947 1323.52 743.627 1321.71 Q742.308 1319.91 739.599 1319.91 Q736.289 1319.91 734.368 1322.11 Q732.447 1324.31 732.447 1328.1 L732.447 1342.76 L728.164 1342.76 L728.164 1327.25 Q728.164 1323.5 726.845 1321.71 Q725.525 1319.91 722.771 1319.91 Q719.507 1319.91 717.586 1322.13 Q715.664 1324.33 715.664 1328.1 L715.664 1342.76 L711.382 1342.76 L711.382 1316.83 L715.664 1316.83 L715.664 1320.86 Q717.123 1318.47 719.16 1317.34 Q721.197 1316.2 723.998 1316.2 Q726.822 1316.2 728.789 1317.64 Q730.78 1319.07 731.729 1321.81 Z\" fill=\"#000000\" fill-rule=\"evenodd\" fill-opacity=\"1\" /><path clip-path=\"url(#clip200)\" d=\"M779.9 1328.73 L779.9 1330.81 L760.317 1330.81 Q760.595 1335.21 762.956 1337.52 Q765.34 1339.82 769.576 1339.82 Q772.03 1339.82 774.322 1339.21 Q776.636 1338.61 778.905 1337.41 L778.905 1341.44 Q776.613 1342.41 774.206 1342.92 Q771.798 1343.43 769.322 1343.43 Q763.118 1343.43 759.484 1339.82 Q755.873 1336.2 755.873 1330.05 Q755.873 1323.68 759.298 1319.95 Q762.748 1316.2 768.581 1316.2 Q773.812 1316.2 776.845 1319.58 Q779.9 1322.94 779.9 1328.73 M775.641 1327.48 Q775.595 1323.98 773.673 1321.9 Q771.775 1319.82 768.627 1319.82 Q765.062 1319.82 762.91 1321.83 Q760.78 1323.84 760.456 1327.5 L775.641 1327.48 Z\" fill=\"#000000\" fill-rule=\"evenodd\" fill-opacity=\"1\" /><path clip-path=\"url(#clip200)\" d=\"M798.673 1329.72 Q793.511 1329.72 791.521 1330.9 Q789.53 1332.08 789.53 1334.93 Q789.53 1337.2 791.011 1338.54 Q792.516 1339.86 795.085 1339.86 Q798.627 1339.86 800.757 1337.36 Q802.909 1334.84 802.909 1330.67 L802.909 1329.72 L798.673 1329.72 M807.169 1327.96 L807.169 1342.76 L802.909 1342.76 L802.909 1338.82 Q801.451 1341.18 799.275 1342.32 Q797.099 1343.43 793.951 1343.43 Q789.97 1343.43 787.608 1341.2 Q785.271 1338.96 785.271 1335.21 Q785.271 1330.83 788.187 1328.61 Q791.127 1326.39 796.937 1326.39 L802.909 1326.39 L802.909 1325.97 Q802.909 1323.03 800.965 1321.44 Q799.044 1319.82 795.548 1319.82 Q793.326 1319.82 791.22 1320.35 Q789.113 1320.88 787.169 1321.95 L787.169 1318.01 Q789.507 1317.11 791.706 1316.67 Q793.905 1316.2 795.988 1316.2 Q801.613 1316.2 804.391 1319.12 Q807.169 1322.04 807.169 1327.96 Z\" fill=\"#000000\" fill-rule=\"evenodd\" fill-opacity=\"1\" /><path clip-path=\"url(#clip200)\" d=\"M837.492 1327.11 L837.492 1342.76 L833.233 1342.76 L833.233 1327.25 Q833.233 1323.57 831.798 1321.74 Q830.363 1319.91 827.493 1319.91 Q824.043 1319.91 822.053 1322.11 Q820.062 1324.31 820.062 1328.1 L820.062 1342.76 L815.78 1342.76 L815.78 1316.83 L820.062 1316.83 L820.062 1320.86 Q821.59 1318.52 823.65 1317.36 Q825.733 1316.2 828.442 1316.2 Q832.909 1316.2 835.201 1318.98 Q837.492 1321.74 837.492 1327.11 Z\" fill=\"#000000\" fill-rule=\"evenodd\" fill-opacity=\"1\" /><path clip-path=\"url(#clip200)\" d=\"M862.515 1317.59 L862.515 1321.62 Q860.71 1320.7 858.766 1320.23 Q856.821 1319.77 854.738 1319.77 Q851.566 1319.77 849.969 1320.74 Q848.395 1321.71 848.395 1323.66 Q848.395 1325.14 849.529 1326 Q850.664 1326.83 854.09 1327.59 L855.548 1327.92 Q860.085 1328.89 861.983 1330.67 Q863.904 1332.43 863.904 1335.6 Q863.904 1339.21 861.034 1341.32 Q858.187 1343.43 853.187 1343.43 Q851.104 1343.43 848.835 1343.01 Q846.59 1342.62 844.09 1341.81 L844.09 1337.41 Q846.451 1338.63 848.742 1339.26 Q851.034 1339.86 853.279 1339.86 Q856.289 1339.86 857.909 1338.84 Q859.529 1337.8 859.529 1335.93 Q859.529 1334.19 858.349 1333.26 Q857.191 1332.34 853.233 1331.48 L851.752 1331.14 Q847.793 1330.3 846.034 1328.59 Q844.275 1326.85 844.275 1323.84 Q844.275 1320.19 846.867 1318.2 Q849.46 1316.2 854.229 1316.2 Q856.59 1316.2 858.673 1316.55 Q860.756 1316.9 862.515 1317.59 Z\" fill=\"#000000\" fill-rule=\"evenodd\" fill-opacity=\"1\" /></svg>\n"
      ]
     },
     "execution_count": 142,
     "metadata": {},
     "output_type": "execute_result"
    }
   ],
   "source": [
    "plot(collect(1:999).*0.001, ind_ell_list, xlabel = \"h2\", ylabel = \"loglik\", label = \"LP individuals\", color = \"blue\", legend=:bottomleft)\n",
    "plot!(collect(1:999).*0.001, strains_ell_list, xlabel = \"h2\", ylabel = \"loglik\", label = \"LP strain means\", color = \"red\")"
   ]
  },
  {
   "cell_type": "code",
   "execution_count": null,
   "id": "8af2bb19-f013-4038-a40e-e7568e1b28a5",
   "metadata": {},
   "outputs": [],
   "source": []
  }
 ],
 "metadata": {
  "kernelspec": {
   "display_name": "Julia 16 Threads 1.7.3",
   "language": "julia",
   "name": "julia-16-threads-1.7"
  },
  "language_info": {
   "file_extension": ".jl",
   "mimetype": "application/julia",
   "name": "julia",
   "version": "1.7.3"
  }
 },
 "nbformat": 4,
 "nbformat_minor": 5
}
