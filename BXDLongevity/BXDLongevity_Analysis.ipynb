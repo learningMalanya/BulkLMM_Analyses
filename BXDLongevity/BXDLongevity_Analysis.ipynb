{
 "cells": [
  {
   "cell_type": "markdown",
   "id": "76f80b67-85df-4d55-bb10-f6913d392780",
   "metadata": {},
   "source": [
    "## Data Analysis using BulkLMM - BXD Longevity Study"
   ]
  },
  {
   "cell_type": "code",
   "execution_count": 1,
   "id": "028f2786-ee1b-4ec3-ab13-05110ad9caf6",
   "metadata": {},
   "outputs": [],
   "source": [
    "using CSV, DelimitedFiles, DataFrames, Missings, XLSX\n",
    "using LinearAlgebra, Statistics, Optim\n",
    "using Random, Distributions, LoopVectorization\n",
    "using GeneNetworkAPI, Downloads\n",
    "using BenchmarkTools"
   ]
  },
  {
   "cell_type": "code",
   "execution_count": 2,
   "id": "4a6c9448-eeee-4fe2-8b74-a183abe6cf6f",
   "metadata": {},
   "outputs": [],
   "source": [
    "using Plots"
   ]
  },
  {
   "cell_type": "code",
   "execution_count": 3,
   "id": "bc3d1279-dc9b-4a8e-8616-12e041d6179f",
   "metadata": {},
   "outputs": [],
   "source": [
    "local_path = \"../../BulkLMM.jl/src\";"
   ]
  },
  {
   "cell_type": "code",
   "execution_count": 4,
   "id": "d10bc79d-6961-489d-a971-fb0562b6e25b",
   "metadata": {},
   "outputs": [
    {
     "data": {
      "text/plain": [
       "huberize (generic function with 1 method)"
      ]
     },
     "execution_count": 4,
     "metadata": {},
     "output_type": "execute_result"
    }
   ],
   "source": [
    "import LossFunctions: HuberLoss, value\n",
    "import Distributions: Chisq,ccdf\n",
    "import StatsBase: mad, sample\n",
    "\n",
    "function huberize(y::Vector{Float64})\n",
    "    m = median(y)\n",
    "    s = mad(y,normalize=true)\n",
    "    z = (y.-m)./s\n",
    "    l = value.(HuberLoss(1),z)\n",
    "    x = sign.(z).* sqrt.(2*l)\n",
    "    return m .+ s.*x\n",
    "end"
   ]
  },
  {
   "cell_type": "markdown",
   "id": "548266cf-7288-4c51-a8d0-61a23e207f4e",
   "metadata": {},
   "source": [
    "## Load processed_data:"
   ]
  },
  {
   "cell_type": "markdown",
   "id": "76b2ccbd-e0db-4bcd-a11d-7703fbbbd811",
   "metadata": {},
   "source": [
    "### By individuals:"
   ]
  },
  {
   "cell_type": "code",
   "execution_count": 5,
   "id": "abafa447-fb73-405f-a457-8ab1ac3cefcc",
   "metadata": {},
   "outputs": [],
   "source": [
    "BXD_pheno_ind_summary_df = CSV.read(\"data/GN886_pheno_summary.csv\", DataFrame);"
   ]
  },
  {
   "cell_type": "markdown",
   "id": "a3e12b95-f2e2-4cfc-812d-34f74ac83f1e",
   "metadata": {},
   "source": [
    "By individuals, there are 248 individual samples for 32445 livear proteome."
   ]
  },
  {
   "cell_type": "code",
   "execution_count": 6,
   "id": "cf42c49c-60d5-458e-9206-35123de57d51",
   "metadata": {},
   "outputs": [
    {
     "name": "stdout",
     "output_type": "stream",
     "text": [
      "(248, 32448)\n"
     ]
    },
    {
     "data": {
      "text/html": [
       "<div><div style = \"float: left;\"><span>10×10 DataFrame</span></div><div style = \"clear: both;\"></div></div><div class = \"data-frame\" style = \"overflow-x: scroll;\"><table class = \"data-frame\" style = \"margin-bottom: 6px;\"><thead><tr class = \"header\"><th class = \"rowNumber\" style = \"font-weight: bold; text-align: right;\">Row</th><th style = \"text-align: left;\">Sample</th><th style = \"text-align: left;\">Strain</th><th style = \"text-align: left;\">Strain_num</th><th style = \"text-align: left;\">P42209_DESGLNRK_2</th><th style = \"text-align: left;\">P42209_GLRPLDVAFLR_3</th><th style = \"text-align: left;\">Q99M02_VGDPVYR_2</th><th style = \"text-align: left;\">Q99M02_VWIYPIK_2</th><th style = \"text-align: left;\">Q99M02_LCDPSVK_2</th><th style = \"text-align: left;\">Q99M02_CVLTTVDPDTGIIDR_2</th><th style = \"text-align: left;\">Q99M02_LVQFDTSMK_2</th></tr><tr class = \"subheader headerLastRow\"><th class = \"rowNumber\" style = \"font-weight: bold; text-align: right;\"></th><th title = \"String7\" style = \"text-align: left;\">String7</th><th title = \"String7\" style = \"text-align: left;\">String7</th><th title = \"Int64\" style = \"text-align: left;\">Int64</th><th title = \"Float64\" style = \"text-align: left;\">Float64</th><th title = \"Float64\" style = \"text-align: left;\">Float64</th><th title = \"Float64\" style = \"text-align: left;\">Float64</th><th title = \"Float64\" style = \"text-align: left;\">Float64</th><th title = \"Float64\" style = \"text-align: left;\">Float64</th><th title = \"Float64\" style = \"text-align: left;\">Float64</th><th title = \"Float64\" style = \"text-align: left;\">Float64</th></tr></thead><tbody><tr><td class = \"rowNumber\" style = \"font-weight: bold; text-align: right;\">1</td><td style = \"text-align: left;\">H1009</td><td style = \"text-align: left;\">BXD9</td><td style = \"text-align: right;\">9</td><td style = \"text-align: right;\">11.349</td><td style = \"text-align: right;\">11.534</td><td style = \"text-align: right;\">17.587</td><td style = \"text-align: right;\">17.517</td><td style = \"text-align: right;\">17.309</td><td style = \"text-align: right;\">16.574</td><td style = \"text-align: right;\">16.323</td></tr><tr><td class = \"rowNumber\" style = \"font-weight: bold; text-align: right;\">2</td><td style = \"text-align: left;\">H0370</td><td style = \"text-align: left;\">BXD9</td><td style = \"text-align: right;\">9</td><td style = \"text-align: right;\">11.249</td><td style = \"text-align: right;\">12.735</td><td style = \"text-align: right;\">17.427</td><td style = \"text-align: right;\">17.325</td><td style = \"text-align: right;\">17.252</td><td style = \"text-align: right;\">16.685</td><td style = \"text-align: right;\">16.021</td></tr><tr><td class = \"rowNumber\" style = \"font-weight: bold; text-align: right;\">3</td><td style = \"text-align: left;\">H2577</td><td style = \"text-align: left;\">BXD9</td><td style = \"text-align: right;\">9</td><td style = \"text-align: right;\">12.415</td><td style = \"text-align: right;\">10.487</td><td style = \"text-align: right;\">17.89</td><td style = \"text-align: right;\">17.488</td><td style = \"text-align: right;\">17.594</td><td style = \"text-align: right;\">16.731</td><td style = \"text-align: right;\">16.208</td></tr><tr><td class = \"rowNumber\" style = \"font-weight: bold; text-align: right;\">4</td><td style = \"text-align: left;\">H0365</td><td style = \"text-align: left;\">BXD9</td><td style = \"text-align: right;\">9</td><td style = \"text-align: right;\">11.374</td><td style = \"text-align: right;\">10.674</td><td style = \"text-align: right;\">17.714</td><td style = \"text-align: right;\">17.401</td><td style = \"text-align: right;\">17.381</td><td style = \"text-align: right;\">16.621</td><td style = \"text-align: right;\">16.337</td></tr><tr><td class = \"rowNumber\" style = \"font-weight: bold; text-align: right;\">5</td><td style = \"text-align: left;\">H1333</td><td style = \"text-align: left;\">BXD13</td><td style = \"text-align: right;\">13</td><td style = \"text-align: right;\">11.687</td><td style = \"text-align: right;\">11.524</td><td style = \"text-align: right;\">17.362</td><td style = \"text-align: right;\">17.367</td><td style = \"text-align: right;\">17.071</td><td style = \"text-align: right;\">16.465</td><td style = \"text-align: right;\">15.97</td></tr><tr><td class = \"rowNumber\" style = \"font-weight: bold; text-align: right;\">6</td><td style = \"text-align: left;\">H2259</td><td style = \"text-align: left;\">BXD24</td><td style = \"text-align: right;\">24</td><td style = \"text-align: right;\">11.837</td><td style = \"text-align: right;\">11.715</td><td style = \"text-align: right;\">17.57</td><td style = \"text-align: right;\">17.792</td><td style = \"text-align: right;\">17.505</td><td style = \"text-align: right;\">16.894</td><td style = \"text-align: right;\">16.277</td></tr><tr><td class = \"rowNumber\" style = \"font-weight: bold; text-align: right;\">7</td><td style = \"text-align: left;\">H1792</td><td style = \"text-align: left;\">BXD24</td><td style = \"text-align: right;\">24</td><td style = \"text-align: right;\">11.563</td><td style = \"text-align: right;\">11.434</td><td style = \"text-align: right;\">17.789</td><td style = \"text-align: right;\">17.847</td><td style = \"text-align: right;\">17.416</td><td style = \"text-align: right;\">17.042</td><td style = \"text-align: right;\">16.292</td></tr><tr><td class = \"rowNumber\" style = \"font-weight: bold; text-align: right;\">8</td><td style = \"text-align: left;\">H1791</td><td style = \"text-align: left;\">BXD24</td><td style = \"text-align: right;\">24</td><td style = \"text-align: right;\">12.5</td><td style = \"text-align: right;\">12.273</td><td style = \"text-align: right;\">17.944</td><td style = \"text-align: right;\">17.833</td><td style = \"text-align: right;\">17.63</td><td style = \"text-align: right;\">16.862</td><td style = \"text-align: right;\">16.3</td></tr><tr><td class = \"rowNumber\" style = \"font-weight: bold; text-align: right;\">9</td><td style = \"text-align: left;\">H1541</td><td style = \"text-align: left;\">BXD24</td><td style = \"text-align: right;\">24</td><td style = \"text-align: right;\">11.815</td><td style = \"text-align: right;\">11.564</td><td style = \"text-align: right;\">17.794</td><td style = \"text-align: right;\">17.759</td><td style = \"text-align: right;\">17.456</td><td style = \"text-align: right;\">16.878</td><td style = \"text-align: right;\">16.377</td></tr><tr><td class = \"rowNumber\" style = \"font-weight: bold; text-align: right;\">10</td><td style = \"text-align: left;\">H1277</td><td style = \"text-align: left;\">BXD24</td><td style = \"text-align: right;\">24</td><td style = \"text-align: right;\">12.674</td><td style = \"text-align: right;\">11.743</td><td style = \"text-align: right;\">17.866</td><td style = \"text-align: right;\">17.845</td><td style = \"text-align: right;\">17.577</td><td style = \"text-align: right;\">16.922</td><td style = \"text-align: right;\">16.26</td></tr></tbody></table></div>"
      ],
      "text/latex": [
       "\\begin{tabular}{r|ccccccc}\n",
       "\t& Sample & Strain & Strain\\_num & P42209\\_DESGLNRK\\_2 & P42209\\_GLRPLDVAFLR\\_3 & Q99M02\\_VGDPVYR\\_2 & \\\\\n",
       "\t\\hline\n",
       "\t& String7 & String7 & Int64 & Float64 & Float64 & Float64 & \\\\\n",
       "\t\\hline\n",
       "\t1 & H1009 & BXD9 & 9 & 11.349 & 11.534 & 17.587 & $\\dots$ \\\\\n",
       "\t2 & H0370 & BXD9 & 9 & 11.249 & 12.735 & 17.427 & $\\dots$ \\\\\n",
       "\t3 & H2577 & BXD9 & 9 & 12.415 & 10.487 & 17.89 & $\\dots$ \\\\\n",
       "\t4 & H0365 & BXD9 & 9 & 11.374 & 10.674 & 17.714 & $\\dots$ \\\\\n",
       "\t5 & H1333 & BXD13 & 13 & 11.687 & 11.524 & 17.362 & $\\dots$ \\\\\n",
       "\t6 & H2259 & BXD24 & 24 & 11.837 & 11.715 & 17.57 & $\\dots$ \\\\\n",
       "\t7 & H1792 & BXD24 & 24 & 11.563 & 11.434 & 17.789 & $\\dots$ \\\\\n",
       "\t8 & H1791 & BXD24 & 24 & 12.5 & 12.273 & 17.944 & $\\dots$ \\\\\n",
       "\t9 & H1541 & BXD24 & 24 & 11.815 & 11.564 & 17.794 & $\\dots$ \\\\\n",
       "\t10 & H1277 & BXD24 & 24 & 12.674 & 11.743 & 17.866 & $\\dots$ \\\\\n",
       "\\end{tabular}\n"
      ],
      "text/plain": [
       "\u001b[1m10×10 DataFrame\u001b[0m\n",
       "\u001b[1m Row \u001b[0m│\u001b[1m Sample  \u001b[0m\u001b[1m Strain  \u001b[0m\u001b[1m Strain_num \u001b[0m\u001b[1m P42209_DESGLNRK_2 \u001b[0m\u001b[1m P42209_GLRPLDVAFLR_3 \u001b[0m\u001b[1m \u001b[0m ⋯\n",
       "     │\u001b[90m String7 \u001b[0m\u001b[90m String7 \u001b[0m\u001b[90m Int64      \u001b[0m\u001b[90m Float64           \u001b[0m\u001b[90m Float64              \u001b[0m\u001b[90m \u001b[0m ⋯\n",
       "─────┼──────────────────────────────────────────────────────────────────────────\n",
       "   1 │ H1009    BXD9              9             11.349                11.534   ⋯\n",
       "   2 │ H0370    BXD9              9             11.249                12.735\n",
       "   3 │ H2577    BXD9              9             12.415                10.487\n",
       "   4 │ H0365    BXD9              9             11.374                10.674\n",
       "   5 │ H1333    BXD13            13             11.687                11.524   ⋯\n",
       "   6 │ H2259    BXD24            24             11.837                11.715\n",
       "   7 │ H1792    BXD24            24             11.563                11.434\n",
       "   8 │ H1791    BXD24            24             12.5                  12.273\n",
       "   9 │ H1541    BXD24            24             11.815                11.564   ⋯\n",
       "  10 │ H1277    BXD24            24             12.674                11.743\n",
       "\u001b[36m                                                               5 columns omitted\u001b[0m"
      ]
     },
     "execution_count": 6,
     "metadata": {},
     "output_type": "execute_result"
    }
   ],
   "source": [
    "println(size(BXD_pheno_ind_summary_df)) \n",
    "BXD_pheno_ind_summary_df[1:10, 1:10]"
   ]
  },
  {
   "cell_type": "code",
   "execution_count": 7,
   "id": "0ff1711f-771b-432b-a230-4161835d4b52",
   "metadata": {},
   "outputs": [],
   "source": [
    "BXD_geno_ind_summary_df = CSV.read(\"data/GN886_geno_summary.csv\", DataFrame);"
   ]
  },
  {
   "cell_type": "markdown",
   "id": "2f3abf17-58be-4916-9a5f-412546a12f50",
   "metadata": {},
   "source": [
    "By individuals, there are 248 individual samples for 7321 markers."
   ]
  },
  {
   "cell_type": "code",
   "execution_count": 8,
   "id": "e7f39851-0173-4c71-b583-dd4ad554445d",
   "metadata": {},
   "outputs": [
    {
     "name": "stdout",
     "output_type": "stream",
     "text": [
      "(248, 7324)\n"
     ]
    },
    {
     "data": {
      "text/html": [
       "<div><div style = \"float: left;\"><span>10×10 DataFrame</span></div><div style = \"clear: both;\"></div></div><div class = \"data-frame\" style = \"overflow-x: scroll;\"><table class = \"data-frame\" style = \"margin-bottom: 6px;\"><thead><tr class = \"header\"><th class = \"rowNumber\" style = \"font-weight: bold; text-align: right;\">Row</th><th style = \"text-align: left;\">Sample</th><th style = \"text-align: left;\">Strain</th><th style = \"text-align: left;\">Strain_num</th><th style = \"text-align: left;\">rs31443144</th><th style = \"text-align: left;\">rs6269442</th><th style = \"text-align: left;\">rs32285189</th><th style = \"text-align: left;\">rs258367496</th><th style = \"text-align: left;\">rs32430919</th><th style = \"text-align: left;\">rs36251697</th><th style = \"text-align: left;\">rs30658298</th></tr><tr class = \"subheader headerLastRow\"><th class = \"rowNumber\" style = \"font-weight: bold; text-align: right;\"></th><th title = \"String7\" style = \"text-align: left;\">String7</th><th title = \"String7\" style = \"text-align: left;\">String7</th><th title = \"Int64\" style = \"text-align: left;\">Int64</th><th title = \"Float64\" style = \"text-align: left;\">Float64</th><th title = \"Float64\" style = \"text-align: left;\">Float64</th><th title = \"Float64\" style = \"text-align: left;\">Float64</th><th title = \"Float64\" style = \"text-align: left;\">Float64</th><th title = \"Float64\" style = \"text-align: left;\">Float64</th><th title = \"Float64\" style = \"text-align: left;\">Float64</th><th title = \"Float64\" style = \"text-align: left;\">Float64</th></tr></thead><tbody><tr><td class = \"rowNumber\" style = \"font-weight: bold; text-align: right;\">1</td><td style = \"text-align: left;\">H1009</td><td style = \"text-align: left;\">BXD9</td><td style = \"text-align: right;\">9</td><td style = \"text-align: right;\">0.0</td><td style = \"text-align: right;\">0.0</td><td style = \"text-align: right;\">0.0</td><td style = \"text-align: right;\">0.0</td><td style = \"text-align: right;\">0.0</td><td style = \"text-align: right;\">0.0</td><td style = \"text-align: right;\">0.0</td></tr><tr><td class = \"rowNumber\" style = \"font-weight: bold; text-align: right;\">2</td><td style = \"text-align: left;\">H0370</td><td style = \"text-align: left;\">BXD9</td><td style = \"text-align: right;\">9</td><td style = \"text-align: right;\">0.0</td><td style = \"text-align: right;\">0.0</td><td style = \"text-align: right;\">0.0</td><td style = \"text-align: right;\">0.0</td><td style = \"text-align: right;\">0.0</td><td style = \"text-align: right;\">0.0</td><td style = \"text-align: right;\">0.0</td></tr><tr><td class = \"rowNumber\" style = \"font-weight: bold; text-align: right;\">3</td><td style = \"text-align: left;\">H2577</td><td style = \"text-align: left;\">BXD9</td><td style = \"text-align: right;\">9</td><td style = \"text-align: right;\">0.0</td><td style = \"text-align: right;\">0.0</td><td style = \"text-align: right;\">0.0</td><td style = \"text-align: right;\">0.0</td><td style = \"text-align: right;\">0.0</td><td style = \"text-align: right;\">0.0</td><td style = \"text-align: right;\">0.0</td></tr><tr><td class = \"rowNumber\" style = \"font-weight: bold; text-align: right;\">4</td><td style = \"text-align: left;\">H0365</td><td style = \"text-align: left;\">BXD9</td><td style = \"text-align: right;\">9</td><td style = \"text-align: right;\">0.0</td><td style = \"text-align: right;\">0.0</td><td style = \"text-align: right;\">0.0</td><td style = \"text-align: right;\">0.0</td><td style = \"text-align: right;\">0.0</td><td style = \"text-align: right;\">0.0</td><td style = \"text-align: right;\">0.0</td></tr><tr><td class = \"rowNumber\" style = \"font-weight: bold; text-align: right;\">5</td><td style = \"text-align: left;\">H1333</td><td style = \"text-align: left;\">BXD13</td><td style = \"text-align: right;\">13</td><td style = \"text-align: right;\">0.0</td><td style = \"text-align: right;\">0.0</td><td style = \"text-align: right;\">0.0</td><td style = \"text-align: right;\">0.0</td><td style = \"text-align: right;\">0.0</td><td style = \"text-align: right;\">0.0</td><td style = \"text-align: right;\">0.0</td></tr><tr><td class = \"rowNumber\" style = \"font-weight: bold; text-align: right;\">6</td><td style = \"text-align: left;\">H2259</td><td style = \"text-align: left;\">BXD24</td><td style = \"text-align: right;\">24</td><td style = \"text-align: right;\">0.0</td><td style = \"text-align: right;\">0.0</td><td style = \"text-align: right;\">0.0</td><td style = \"text-align: right;\">0.0</td><td style = \"text-align: right;\">0.0</td><td style = \"text-align: right;\">0.0</td><td style = \"text-align: right;\">0.0</td></tr><tr><td class = \"rowNumber\" style = \"font-weight: bold; text-align: right;\">7</td><td style = \"text-align: left;\">H1792</td><td style = \"text-align: left;\">BXD24</td><td style = \"text-align: right;\">24</td><td style = \"text-align: right;\">0.0</td><td style = \"text-align: right;\">0.0</td><td style = \"text-align: right;\">0.0</td><td style = \"text-align: right;\">0.0</td><td style = \"text-align: right;\">0.0</td><td style = \"text-align: right;\">0.0</td><td style = \"text-align: right;\">0.0</td></tr><tr><td class = \"rowNumber\" style = \"font-weight: bold; text-align: right;\">8</td><td style = \"text-align: left;\">H1791</td><td style = \"text-align: left;\">BXD24</td><td style = \"text-align: right;\">24</td><td style = \"text-align: right;\">0.0</td><td style = \"text-align: right;\">0.0</td><td style = \"text-align: right;\">0.0</td><td style = \"text-align: right;\">0.0</td><td style = \"text-align: right;\">0.0</td><td style = \"text-align: right;\">0.0</td><td style = \"text-align: right;\">0.0</td></tr><tr><td class = \"rowNumber\" style = \"font-weight: bold; text-align: right;\">9</td><td style = \"text-align: left;\">H1541</td><td style = \"text-align: left;\">BXD24</td><td style = \"text-align: right;\">24</td><td style = \"text-align: right;\">0.0</td><td style = \"text-align: right;\">0.0</td><td style = \"text-align: right;\">0.0</td><td style = \"text-align: right;\">0.0</td><td style = \"text-align: right;\">0.0</td><td style = \"text-align: right;\">0.0</td><td style = \"text-align: right;\">0.0</td></tr><tr><td class = \"rowNumber\" style = \"font-weight: bold; text-align: right;\">10</td><td style = \"text-align: left;\">H1277</td><td style = \"text-align: left;\">BXD24</td><td style = \"text-align: right;\">24</td><td style = \"text-align: right;\">0.0</td><td style = \"text-align: right;\">0.0</td><td style = \"text-align: right;\">0.0</td><td style = \"text-align: right;\">0.0</td><td style = \"text-align: right;\">0.0</td><td style = \"text-align: right;\">0.0</td><td style = \"text-align: right;\">0.0</td></tr></tbody></table></div>"
      ],
      "text/latex": [
       "\\begin{tabular}{r|ccccccccc}\n",
       "\t& Sample & Strain & Strain\\_num & rs31443144 & rs6269442 & rs32285189 & rs258367496 & rs32430919 & \\\\\n",
       "\t\\hline\n",
       "\t& String7 & String7 & Int64 & Float64 & Float64 & Float64 & Float64 & Float64 & \\\\\n",
       "\t\\hline\n",
       "\t1 & H1009 & BXD9 & 9 & 0.0 & 0.0 & 0.0 & 0.0 & 0.0 & $\\dots$ \\\\\n",
       "\t2 & H0370 & BXD9 & 9 & 0.0 & 0.0 & 0.0 & 0.0 & 0.0 & $\\dots$ \\\\\n",
       "\t3 & H2577 & BXD9 & 9 & 0.0 & 0.0 & 0.0 & 0.0 & 0.0 & $\\dots$ \\\\\n",
       "\t4 & H0365 & BXD9 & 9 & 0.0 & 0.0 & 0.0 & 0.0 & 0.0 & $\\dots$ \\\\\n",
       "\t5 & H1333 & BXD13 & 13 & 0.0 & 0.0 & 0.0 & 0.0 & 0.0 & $\\dots$ \\\\\n",
       "\t6 & H2259 & BXD24 & 24 & 0.0 & 0.0 & 0.0 & 0.0 & 0.0 & $\\dots$ \\\\\n",
       "\t7 & H1792 & BXD24 & 24 & 0.0 & 0.0 & 0.0 & 0.0 & 0.0 & $\\dots$ \\\\\n",
       "\t8 & H1791 & BXD24 & 24 & 0.0 & 0.0 & 0.0 & 0.0 & 0.0 & $\\dots$ \\\\\n",
       "\t9 & H1541 & BXD24 & 24 & 0.0 & 0.0 & 0.0 & 0.0 & 0.0 & $\\dots$ \\\\\n",
       "\t10 & H1277 & BXD24 & 24 & 0.0 & 0.0 & 0.0 & 0.0 & 0.0 & $\\dots$ \\\\\n",
       "\\end{tabular}\n"
      ],
      "text/plain": [
       "\u001b[1m10×10 DataFrame\u001b[0m\n",
       "\u001b[1m Row \u001b[0m│\u001b[1m Sample  \u001b[0m\u001b[1m Strain  \u001b[0m\u001b[1m Strain_num \u001b[0m\u001b[1m rs31443144 \u001b[0m\u001b[1m rs6269442 \u001b[0m\u001b[1m rs32285189 \u001b[0m\u001b[1m rs2583\u001b[0m ⋯\n",
       "     │\u001b[90m String7 \u001b[0m\u001b[90m String7 \u001b[0m\u001b[90m Int64      \u001b[0m\u001b[90m Float64    \u001b[0m\u001b[90m Float64   \u001b[0m\u001b[90m Float64    \u001b[0m\u001b[90m Float6\u001b[0m ⋯\n",
       "─────┼──────────────────────────────────────────────────────────────────────────\n",
       "   1 │ H1009    BXD9              9         0.0        0.0         0.0         ⋯\n",
       "   2 │ H0370    BXD9              9         0.0        0.0         0.0\n",
       "   3 │ H2577    BXD9              9         0.0        0.0         0.0\n",
       "   4 │ H0365    BXD9              9         0.0        0.0         0.0\n",
       "   5 │ H1333    BXD13            13         0.0        0.0         0.0         ⋯\n",
       "   6 │ H2259    BXD24            24         0.0        0.0         0.0\n",
       "   7 │ H1792    BXD24            24         0.0        0.0         0.0\n",
       "   8 │ H1791    BXD24            24         0.0        0.0         0.0\n",
       "   9 │ H1541    BXD24            24         0.0        0.0         0.0         ⋯\n",
       "  10 │ H1277    BXD24            24         0.0        0.0         0.0\n",
       "\u001b[36m                                                               4 columns omitted\u001b[0m"
      ]
     },
     "execution_count": 8,
     "metadata": {},
     "output_type": "execute_result"
    }
   ],
   "source": [
    "println(size(BXD_geno_ind_summary_df)) \n",
    "BXD_geno_ind_summary_df[1:10, 1:10]"
   ]
  },
  {
   "cell_type": "markdown",
   "id": "09ec71ff-4361-42b5-b7be-b5b67963dc81",
   "metadata": {},
   "source": [
    "### By strains:"
   ]
  },
  {
   "cell_type": "code",
   "execution_count": 9,
   "id": "87fab8f1-fbe4-49d2-94cc-0163ac9ad461",
   "metadata": {},
   "outputs": [],
   "source": [
    "BXD_pheno_strains_summary_df = CSV.read(\"data/GN886_pheno_strain_means_summary.csv\", DataFrame);"
   ]
  },
  {
   "cell_type": "markdown",
   "id": "2255810e-cdd7-4473-a605-8a96126cbad0",
   "metadata": {},
   "source": [
    "By strains, there are 50 BXD strains for 32445 liver proteome."
   ]
  },
  {
   "cell_type": "code",
   "execution_count": 10,
   "id": "f5441670-3929-420d-a6c3-ceb794ea9cb1",
   "metadata": {},
   "outputs": [
    {
     "name": "stdout",
     "output_type": "stream",
     "text": [
      "(50, 32447)\n"
     ]
    },
    {
     "data": {
      "text/html": [
       "<div><div style = \"float: left;\"><span>10×10 DataFrame</span></div><div style = \"clear: both;\"></div></div><div class = \"data-frame\" style = \"overflow-x: scroll;\"><table class = \"data-frame\" style = \"margin-bottom: 6px;\"><thead><tr class = \"header\"><th class = \"rowNumber\" style = \"font-weight: bold; text-align: right;\">Row</th><th style = \"text-align: left;\">Strain</th><th style = \"text-align: left;\">Number of Samples</th><th style = \"text-align: left;\">P42209_DESGLNRK_2</th><th style = \"text-align: left;\">P42209_GLRPLDVAFLR_3</th><th style = \"text-align: left;\">Q99M02_VGDPVYR_2</th><th style = \"text-align: left;\">Q99M02_VWIYPIK_2</th><th style = \"text-align: left;\">Q99M02_LCDPSVK_2</th><th style = \"text-align: left;\">Q99M02_CVLTTVDPDTGIIDR_2</th><th style = \"text-align: left;\">Q99M02_LVQFDTSMK_2</th><th style = \"text-align: left;\">Q99M02_QLQQVGTVSK_2</th></tr><tr class = \"subheader headerLastRow\"><th class = \"rowNumber\" style = \"font-weight: bold; text-align: right;\"></th><th title = \"String7\" style = \"text-align: left;\">String7</th><th title = \"Int64\" style = \"text-align: left;\">Int64</th><th title = \"Float64\" style = \"text-align: left;\">Float64</th><th title = \"Float64\" style = \"text-align: left;\">Float64</th><th title = \"Float64\" style = \"text-align: left;\">Float64</th><th title = \"Float64\" style = \"text-align: left;\">Float64</th><th title = \"Float64\" style = \"text-align: left;\">Float64</th><th title = \"Float64\" style = \"text-align: left;\">Float64</th><th title = \"Float64\" style = \"text-align: left;\">Float64</th><th title = \"Float64\" style = \"text-align: left;\">Float64</th></tr></thead><tbody><tr><td class = \"rowNumber\" style = \"font-weight: bold; text-align: right;\">1</td><td style = \"text-align: left;\">BXD9</td><td style = \"text-align: right;\">4</td><td style = \"text-align: right;\">11.5968</td><td style = \"text-align: right;\">11.3575</td><td style = \"text-align: right;\">17.6545</td><td style = \"text-align: right;\">17.4327</td><td style = \"text-align: right;\">17.384</td><td style = \"text-align: right;\">16.6528</td><td style = \"text-align: right;\">16.2222</td><td style = \"text-align: right;\">16.3227</td></tr><tr><td class = \"rowNumber\" style = \"font-weight: bold; text-align: right;\">2</td><td style = \"text-align: left;\">BXD13</td><td style = \"text-align: right;\">1</td><td style = \"text-align: right;\">11.687</td><td style = \"text-align: right;\">11.524</td><td style = \"text-align: right;\">17.362</td><td style = \"text-align: right;\">17.367</td><td style = \"text-align: right;\">17.071</td><td style = \"text-align: right;\">16.465</td><td style = \"text-align: right;\">15.97</td><td style = \"text-align: right;\">15.98</td></tr><tr><td class = \"rowNumber\" style = \"font-weight: bold; text-align: right;\">3</td><td style = \"text-align: left;\">BXD24</td><td style = \"text-align: right;\">5</td><td style = \"text-align: right;\">12.0778</td><td style = \"text-align: right;\">11.7458</td><td style = \"text-align: right;\">17.7926</td><td style = \"text-align: right;\">17.8152</td><td style = \"text-align: right;\">17.5168</td><td style = \"text-align: right;\">16.9196</td><td style = \"text-align: right;\">16.3012</td><td style = \"text-align: right;\">16.4304</td></tr><tr><td class = \"rowNumber\" style = \"font-weight: bold; text-align: right;\">4</td><td style = \"text-align: left;\">BXD27</td><td style = \"text-align: right;\">3</td><td style = \"text-align: right;\">11.717</td><td style = \"text-align: right;\">11.149</td><td style = \"text-align: right;\">17.336</td><td style = \"text-align: right;\">17.3143</td><td style = \"text-align: right;\">17.165</td><td style = \"text-align: right;\">16.5283</td><td style = \"text-align: right;\">15.9407</td><td style = \"text-align: right;\">16.002</td></tr><tr><td class = \"rowNumber\" style = \"font-weight: bold; text-align: right;\">5</td><td style = \"text-align: left;\">BXD29</td><td style = \"text-align: right;\">11</td><td style = \"text-align: right;\">11.735</td><td style = \"text-align: right;\">11.3496</td><td style = \"text-align: right;\">17.4583</td><td style = \"text-align: right;\">17.3877</td><td style = \"text-align: right;\">17.2431</td><td style = \"text-align: right;\">16.4945</td><td style = \"text-align: right;\">16.0869</td><td style = \"text-align: right;\">16.1075</td></tr><tr><td class = \"rowNumber\" style = \"font-weight: bold; text-align: right;\">6</td><td style = \"text-align: left;\">BXD32</td><td style = \"text-align: right;\">8</td><td style = \"text-align: right;\">11.6266</td><td style = \"text-align: right;\">11.554</td><td style = \"text-align: right;\">17.8254</td><td style = \"text-align: right;\">17.7716</td><td style = \"text-align: right;\">17.4639</td><td style = \"text-align: right;\">16.9029</td><td style = \"text-align: right;\">16.434</td><td style = \"text-align: right;\">16.425</td></tr><tr><td class = \"rowNumber\" style = \"font-weight: bold; text-align: right;\">7</td><td style = \"text-align: left;\">BXD34</td><td style = \"text-align: right;\">13</td><td style = \"text-align: right;\">11.7491</td><td style = \"text-align: right;\">11.9135</td><td style = \"text-align: right;\">17.6108</td><td style = \"text-align: right;\">17.5974</td><td style = \"text-align: right;\">17.2988</td><td style = \"text-align: right;\">16.7761</td><td style = \"text-align: right;\">16.3147</td><td style = \"text-align: right;\">16.2926</td></tr><tr><td class = \"rowNumber\" style = \"font-weight: bold; text-align: right;\">8</td><td style = \"text-align: left;\">BXD39</td><td style = \"text-align: right;\">5</td><td style = \"text-align: right;\">11.9158</td><td style = \"text-align: right;\">11.719</td><td style = \"text-align: right;\">17.395</td><td style = \"text-align: right;\">17.385</td><td style = \"text-align: right;\">17.157</td><td style = \"text-align: right;\">16.5226</td><td style = \"text-align: right;\">16.179</td><td style = \"text-align: right;\">16.0594</td></tr><tr><td class = \"rowNumber\" style = \"font-weight: bold; text-align: right;\">9</td><td style = \"text-align: left;\">BXD40</td><td style = \"text-align: right;\">8</td><td style = \"text-align: right;\">11.8651</td><td style = \"text-align: right;\">11.6817</td><td style = \"text-align: right;\">17.5986</td><td style = \"text-align: right;\">17.6386</td><td style = \"text-align: right;\">17.3861</td><td style = \"text-align: right;\">16.6824</td><td style = \"text-align: right;\">16.2855</td><td style = \"text-align: right;\">16.2523</td></tr><tr><td class = \"rowNumber\" style = \"font-weight: bold; text-align: right;\">10</td><td style = \"text-align: left;\">BXD43</td><td style = \"text-align: right;\">4</td><td style = \"text-align: right;\">12.378</td><td style = \"text-align: right;\">11.4563</td><td style = \"text-align: right;\">17.76</td><td style = \"text-align: right;\">17.8035</td><td style = \"text-align: right;\">17.3652</td><td style = \"text-align: right;\">16.885</td><td style = \"text-align: right;\">16.5245</td><td style = \"text-align: right;\">16.3532</td></tr></tbody></table></div>"
      ],
      "text/latex": [
       "\\begin{tabular}{r|cccccc}\n",
       "\t& Strain & Number of Samples & P42209\\_DESGLNRK\\_2 & P42209\\_GLRPLDVAFLR\\_3 & Q99M02\\_VGDPVYR\\_2 & \\\\\n",
       "\t\\hline\n",
       "\t& String7 & Int64 & Float64 & Float64 & Float64 & \\\\\n",
       "\t\\hline\n",
       "\t1 & BXD9 & 4 & 11.5968 & 11.3575 & 17.6545 & $\\dots$ \\\\\n",
       "\t2 & BXD13 & 1 & 11.687 & 11.524 & 17.362 & $\\dots$ \\\\\n",
       "\t3 & BXD24 & 5 & 12.0778 & 11.7458 & 17.7926 & $\\dots$ \\\\\n",
       "\t4 & BXD27 & 3 & 11.717 & 11.149 & 17.336 & $\\dots$ \\\\\n",
       "\t5 & BXD29 & 11 & 11.735 & 11.3496 & 17.4583 & $\\dots$ \\\\\n",
       "\t6 & BXD32 & 8 & 11.6266 & 11.554 & 17.8254 & $\\dots$ \\\\\n",
       "\t7 & BXD34 & 13 & 11.7491 & 11.9135 & 17.6108 & $\\dots$ \\\\\n",
       "\t8 & BXD39 & 5 & 11.9158 & 11.719 & 17.395 & $\\dots$ \\\\\n",
       "\t9 & BXD40 & 8 & 11.8651 & 11.6817 & 17.5986 & $\\dots$ \\\\\n",
       "\t10 & BXD43 & 4 & 12.378 & 11.4563 & 17.76 & $\\dots$ \\\\\n",
       "\\end{tabular}\n"
      ],
      "text/plain": [
       "\u001b[1m10×10 DataFrame\u001b[0m\n",
       "\u001b[1m Row \u001b[0m│\u001b[1m Strain  \u001b[0m\u001b[1m Number of Samples \u001b[0m\u001b[1m P42209_DESGLNRK_2 \u001b[0m\u001b[1m P42209_GLRPLDVAFLR_3 \u001b[0m\u001b[1m Q9\u001b[0m ⋯\n",
       "     │\u001b[90m String7 \u001b[0m\u001b[90m Int64             \u001b[0m\u001b[90m Float64           \u001b[0m\u001b[90m Float64              \u001b[0m\u001b[90m Fl\u001b[0m ⋯\n",
       "─────┼──────────────────────────────────────────────────────────────────────────\n",
       "   1 │ BXD9                     4            11.5968               11.3575     ⋯\n",
       "   2 │ BXD13                    1            11.687                11.524\n",
       "   3 │ BXD24                    5            12.0778               11.7458\n",
       "   4 │ BXD27                    3            11.717                11.149\n",
       "   5 │ BXD29                   11            11.735                11.3496     ⋯\n",
       "   6 │ BXD32                    8            11.6266               11.554\n",
       "   7 │ BXD34                   13            11.7491               11.9135\n",
       "   8 │ BXD39                    5            11.9158               11.719\n",
       "   9 │ BXD40                    8            11.8651               11.6817     ⋯\n",
       "  10 │ BXD43                    4            12.378                11.4563\n",
       "\u001b[36m                                                               6 columns omitted\u001b[0m"
      ]
     },
     "execution_count": 10,
     "metadata": {},
     "output_type": "execute_result"
    }
   ],
   "source": [
    "println(size(BXD_pheno_strains_summary_df)) \n",
    "BXD_pheno_strains_summary_df[1:10, 1:10]"
   ]
  },
  {
   "cell_type": "code",
   "execution_count": 11,
   "id": "c9e172db-b395-4c04-9c4c-429e8ce5b677",
   "metadata": {},
   "outputs": [],
   "source": [
    "BXD_geno_strains_summary_df = CSV.read(\"data/GN886_geno_strains_summary.csv\", DataFrame);"
   ]
  },
  {
   "cell_type": "markdown",
   "id": "e606034c-1af9-4dad-a88d-07f4cc67be19",
   "metadata": {},
   "source": [
    "By strains, there are 50 BXD strains for 7321 markers."
   ]
  },
  {
   "cell_type": "code",
   "execution_count": 12,
   "id": "324c16c7-5a68-44a5-abe6-b098bf1526a9",
   "metadata": {},
   "outputs": [
    {
     "name": "stdout",
     "output_type": "stream",
     "text": [
      "(50, 7322)\n"
     ]
    },
    {
     "data": {
      "text/html": [
       "<div><div style = \"float: left;\"><span>10×10 DataFrame</span></div><div style = \"clear: both;\"></div></div><div class = \"data-frame\" style = \"overflow-x: scroll;\"><table class = \"data-frame\" style = \"margin-bottom: 6px;\"><thead><tr class = \"header\"><th class = \"rowNumber\" style = \"font-weight: bold; text-align: right;\">Row</th><th style = \"text-align: left;\">Strain</th><th style = \"text-align: left;\">rs31443144</th><th style = \"text-align: left;\">rs6269442</th><th style = \"text-align: left;\">rs32285189</th><th style = \"text-align: left;\">rs258367496</th><th style = \"text-align: left;\">rs32430919</th><th style = \"text-align: left;\">rs36251697</th><th style = \"text-align: left;\">rs30658298</th><th style = \"text-align: left;\">rs51852623</th><th style = \"text-align: left;\">rs31879829</th></tr><tr class = \"subheader headerLastRow\"><th class = \"rowNumber\" style = \"font-weight: bold; text-align: right;\"></th><th title = \"String7\" style = \"text-align: left;\">String7</th><th title = \"Float64\" style = \"text-align: left;\">Float64</th><th title = \"Float64\" style = \"text-align: left;\">Float64</th><th title = \"Float64\" style = \"text-align: left;\">Float64</th><th title = \"Float64\" style = \"text-align: left;\">Float64</th><th title = \"Float64\" style = \"text-align: left;\">Float64</th><th title = \"Float64\" style = \"text-align: left;\">Float64</th><th title = \"Float64\" style = \"text-align: left;\">Float64</th><th title = \"Float64\" style = \"text-align: left;\">Float64</th><th title = \"Float64\" style = \"text-align: left;\">Float64</th></tr></thead><tbody><tr><td class = \"rowNumber\" style = \"font-weight: bold; text-align: right;\">1</td><td style = \"text-align: left;\">BXD9</td><td style = \"text-align: right;\">0.0</td><td style = \"text-align: right;\">0.0</td><td style = \"text-align: right;\">0.0</td><td style = \"text-align: right;\">0.0</td><td style = \"text-align: right;\">0.0</td><td style = \"text-align: right;\">0.0</td><td style = \"text-align: right;\">0.0</td><td style = \"text-align: right;\">0.0</td><td style = \"text-align: right;\">0.0</td></tr><tr><td class = \"rowNumber\" style = \"font-weight: bold; text-align: right;\">2</td><td style = \"text-align: left;\">BXD13</td><td style = \"text-align: right;\">0.0</td><td style = \"text-align: right;\">0.0</td><td style = \"text-align: right;\">0.0</td><td style = \"text-align: right;\">0.0</td><td style = \"text-align: right;\">0.0</td><td style = \"text-align: right;\">0.0</td><td style = \"text-align: right;\">0.0</td><td style = \"text-align: right;\">0.0</td><td style = \"text-align: right;\">0.0</td></tr><tr><td class = \"rowNumber\" style = \"font-weight: bold; text-align: right;\">3</td><td style = \"text-align: left;\">BXD24</td><td style = \"text-align: right;\">0.0</td><td style = \"text-align: right;\">0.0</td><td style = \"text-align: right;\">0.0</td><td style = \"text-align: right;\">0.0</td><td style = \"text-align: right;\">0.0</td><td style = \"text-align: right;\">0.0</td><td style = \"text-align: right;\">0.0</td><td style = \"text-align: right;\">0.0</td><td style = \"text-align: right;\">0.0</td></tr><tr><td class = \"rowNumber\" style = \"font-weight: bold; text-align: right;\">4</td><td style = \"text-align: left;\">BXD27</td><td style = \"text-align: right;\">0.0</td><td style = \"text-align: right;\">0.0</td><td style = \"text-align: right;\">0.0</td><td style = \"text-align: right;\">0.0</td><td style = \"text-align: right;\">0.0</td><td style = \"text-align: right;\">0.0</td><td style = \"text-align: right;\">0.0</td><td style = \"text-align: right;\">0.0</td><td style = \"text-align: right;\">0.0</td></tr><tr><td class = \"rowNumber\" style = \"font-weight: bold; text-align: right;\">5</td><td style = \"text-align: left;\">BXD29</td><td style = \"text-align: right;\">1.0</td><td style = \"text-align: right;\">1.0</td><td style = \"text-align: right;\">1.0</td><td style = \"text-align: right;\">1.0</td><td style = \"text-align: right;\">1.0</td><td style = \"text-align: right;\">1.0</td><td style = \"text-align: right;\">1.0</td><td style = \"text-align: right;\">1.0</td><td style = \"text-align: right;\">1.0</td></tr><tr><td class = \"rowNumber\" style = \"font-weight: bold; text-align: right;\">6</td><td style = \"text-align: left;\">BXD32</td><td style = \"text-align: right;\">0.0</td><td style = \"text-align: right;\">0.0</td><td style = \"text-align: right;\">0.0</td><td style = \"text-align: right;\">0.0</td><td style = \"text-align: right;\">0.0</td><td style = \"text-align: right;\">0.0</td><td style = \"text-align: right;\">0.0</td><td style = \"text-align: right;\">0.0</td><td style = \"text-align: right;\">0.0</td></tr><tr><td class = \"rowNumber\" style = \"font-weight: bold; text-align: right;\">7</td><td style = \"text-align: left;\">BXD34</td><td style = \"text-align: right;\">0.0</td><td style = \"text-align: right;\">0.0</td><td style = \"text-align: right;\">0.0</td><td style = \"text-align: right;\">0.0</td><td style = \"text-align: right;\">0.0</td><td style = \"text-align: right;\">0.0</td><td style = \"text-align: right;\">0.0</td><td style = \"text-align: right;\">0.0</td><td style = \"text-align: right;\">0.0</td></tr><tr><td class = \"rowNumber\" style = \"font-weight: bold; text-align: right;\">8</td><td style = \"text-align: left;\">BXD39</td><td style = \"text-align: right;\">1.0</td><td style = \"text-align: right;\">1.0</td><td style = \"text-align: right;\">1.0</td><td style = \"text-align: right;\">1.0</td><td style = \"text-align: right;\">1.0</td><td style = \"text-align: right;\">1.0</td><td style = \"text-align: right;\">1.0</td><td style = \"text-align: right;\">1.0</td><td style = \"text-align: right;\">1.0</td></tr><tr><td class = \"rowNumber\" style = \"font-weight: bold; text-align: right;\">9</td><td style = \"text-align: left;\">BXD40</td><td style = \"text-align: right;\">0.0</td><td style = \"text-align: right;\">0.0</td><td style = \"text-align: right;\">0.0</td><td style = \"text-align: right;\">0.0</td><td style = \"text-align: right;\">0.0</td><td style = \"text-align: right;\">0.0</td><td style = \"text-align: right;\">0.0</td><td style = \"text-align: right;\">0.0</td><td style = \"text-align: right;\">0.0</td></tr><tr><td class = \"rowNumber\" style = \"font-weight: bold; text-align: right;\">10</td><td style = \"text-align: left;\">BXD43</td><td style = \"text-align: right;\">0.0</td><td style = \"text-align: right;\">0.0</td><td style = \"text-align: right;\">0.0</td><td style = \"text-align: right;\">0.0</td><td style = \"text-align: right;\">0.0</td><td style = \"text-align: right;\">0.0</td><td style = \"text-align: right;\">0.0</td><td style = \"text-align: right;\">0.0</td><td style = \"text-align: right;\">0.0</td></tr></tbody></table></div>"
      ],
      "text/latex": [
       "\\begin{tabular}{r|cccccccc}\n",
       "\t& Strain & rs31443144 & rs6269442 & rs32285189 & rs258367496 & rs32430919 & rs36251697 & \\\\\n",
       "\t\\hline\n",
       "\t& String7 & Float64 & Float64 & Float64 & Float64 & Float64 & Float64 & \\\\\n",
       "\t\\hline\n",
       "\t1 & BXD9 & 0.0 & 0.0 & 0.0 & 0.0 & 0.0 & 0.0 & $\\dots$ \\\\\n",
       "\t2 & BXD13 & 0.0 & 0.0 & 0.0 & 0.0 & 0.0 & 0.0 & $\\dots$ \\\\\n",
       "\t3 & BXD24 & 0.0 & 0.0 & 0.0 & 0.0 & 0.0 & 0.0 & $\\dots$ \\\\\n",
       "\t4 & BXD27 & 0.0 & 0.0 & 0.0 & 0.0 & 0.0 & 0.0 & $\\dots$ \\\\\n",
       "\t5 & BXD29 & 1.0 & 1.0 & 1.0 & 1.0 & 1.0 & 1.0 & $\\dots$ \\\\\n",
       "\t6 & BXD32 & 0.0 & 0.0 & 0.0 & 0.0 & 0.0 & 0.0 & $\\dots$ \\\\\n",
       "\t7 & BXD34 & 0.0 & 0.0 & 0.0 & 0.0 & 0.0 & 0.0 & $\\dots$ \\\\\n",
       "\t8 & BXD39 & 1.0 & 1.0 & 1.0 & 1.0 & 1.0 & 1.0 & $\\dots$ \\\\\n",
       "\t9 & BXD40 & 0.0 & 0.0 & 0.0 & 0.0 & 0.0 & 0.0 & $\\dots$ \\\\\n",
       "\t10 & BXD43 & 0.0 & 0.0 & 0.0 & 0.0 & 0.0 & 0.0 & $\\dots$ \\\\\n",
       "\\end{tabular}\n"
      ],
      "text/plain": [
       "\u001b[1m10×10 DataFrame\u001b[0m\n",
       "\u001b[1m Row \u001b[0m│\u001b[1m Strain  \u001b[0m\u001b[1m rs31443144 \u001b[0m\u001b[1m rs6269442 \u001b[0m\u001b[1m rs32285189 \u001b[0m\u001b[1m rs258367496 \u001b[0m\u001b[1m rs32430919 \u001b[0m\u001b[1m rs\u001b[0m ⋯\n",
       "     │\u001b[90m String7 \u001b[0m\u001b[90m Float64    \u001b[0m\u001b[90m Float64   \u001b[0m\u001b[90m Float64    \u001b[0m\u001b[90m Float64     \u001b[0m\u001b[90m Float64    \u001b[0m\u001b[90m Fl\u001b[0m ⋯\n",
       "─────┼──────────────────────────────────────────────────────────────────────────\n",
       "   1 │ BXD9            0.0        0.0         0.0          0.0         0.0     ⋯\n",
       "   2 │ BXD13           0.0        0.0         0.0          0.0         0.0\n",
       "   3 │ BXD24           0.0        0.0         0.0          0.0         0.0\n",
       "   4 │ BXD27           0.0        0.0         0.0          0.0         0.0\n",
       "   5 │ BXD29           1.0        1.0         1.0          1.0         1.0     ⋯\n",
       "   6 │ BXD32           0.0        0.0         0.0          0.0         0.0\n",
       "   7 │ BXD34           0.0        0.0         0.0          0.0         0.0\n",
       "   8 │ BXD39           1.0        1.0         1.0          1.0         1.0\n",
       "   9 │ BXD40           0.0        0.0         0.0          0.0         0.0     ⋯\n",
       "  10 │ BXD43           0.0        0.0         0.0          0.0         0.0\n",
       "\u001b[36m                                                               4 columns omitted\u001b[0m"
      ]
     },
     "execution_count": 12,
     "metadata": {},
     "output_type": "execute_result"
    }
   ],
   "source": [
    "println(size(BXD_geno_strains_summary_df)) \n",
    "BXD_geno_strains_summary_df[1:10, 1:10]"
   ]
  },
  {
   "cell_type": "markdown",
   "id": "3e0e8473-c29a-42c3-a47f-a2748cd4f5d7",
   "metadata": {},
   "source": [
    "## Load functions:"
   ]
  },
  {
   "cell_type": "code",
   "execution_count": 103,
   "id": "f04bb842-e79c-4ec0-9d62-d7b944e6f665",
   "metadata": {},
   "outputs": [],
   "source": [
    "include(joinpath(local_path, \"kinship.jl\"));\n",
    "include(joinpath(local_path, \"util.jl\"));\n",
    "include(joinpath(local_path, \"wls.jl\"));\n",
    "include(joinpath(local_path, \"lmm.jl\"));\n",
    "include(joinpath(local_path, \"gridbrent.jl\"));\n",
    "include(joinpath(local_path, \"transform_helpers.jl\"));\n",
    "include(joinpath(local_path, \"scan.jl\"));\n",
    "include(joinpath(local_path, \"bulkscan_helpers.jl\"));\n",
    "include(joinpath(local_path, \"bulkscan.jl\"));\n",
    "include(joinpath(local_path, \"readData.jl\"));\n",
    "include(joinpath(local_path, \"../plot_utils/visuals_utils.jl\"));\n",
    "include(joinpath(local_path, \"analysis_helpers/single_trait_analysis.jl\"));"
   ]
  },
  {
   "cell_type": "markdown",
   "id": "0eae3573-e769-444e-9899-98480f6f8ccd",
   "metadata": {
    "tags": []
   },
   "source": [
    "## Objectives\n",
    "\n",
    "- gemma one trait, ind and strains\n",
    "\n",
    "- scan_alt one trait, ind and strains\n",
    "\n",
    "- scan_null one trait, ind and strains\n",
    "\n",
    "- bulkscan_grid (null), all traits, ...\n",
    "\n",
    "- data structure for all traits results...\n",
    "\n",
    "- Heatmap grids_taken, compare on strain means and individuals\n",
    "\n",
    "- Histogram of heritabilities (null) for all traits (both strain means and individual level data)\n",
    "\n",
    "- Loglikelihood by h2_grid plot, strain means v.s. individuals\n",
    "\n",
    "- Report fixed effects:\n",
    "\n",
    "- Adjusting difference in the number of samples across strains\n",
    "\n",
    "- Histogram of heritabilities (null) for all traits (both strain means and individual level data)"
   ]
  },
  {
   "cell_type": "markdown",
   "id": "3fe2c576-b753-4832-810f-24f196d05587",
   "metadata": {},
   "source": [
    "## Run BulkLMM.jl:"
   ]
  },
  {
   "cell_type": "markdown",
   "id": "b21044d7-08fc-454d-9528-e1271634033d",
   "metadata": {},
   "source": [
    "### Calculate kinship:"
   ]
  },
  {
   "cell_type": "markdown",
   "id": "02df590a-330c-42cd-9683-a3ba1ff991fc",
   "metadata": {},
   "source": [
    "First, calculate the kinship matrix of relatedness among the strains (50-by-50):"
   ]
  },
  {
   "cell_type": "code",
   "execution_count": 14,
   "id": "18e76163-3e2a-40b3-b934-7ee1c9329887",
   "metadata": {},
   "outputs": [],
   "source": [
    "geno_strains = Matrix{Float64}(BXD_geno_strains_summary_df[:, 2:end]);"
   ]
  },
  {
   "cell_type": "code",
   "execution_count": 15,
   "id": "dd7d6569-ee12-4e1f-8fa4-df06d5c62ff8",
   "metadata": {},
   "outputs": [],
   "source": [
    "kinship_strains = calcKinship(geno_strains);"
   ]
  },
  {
   "cell_type": "markdown",
   "id": "e11b6c48-a575-4948-86bf-5e40d01b79c6",
   "metadata": {},
   "source": [
    "Then, construct the kinship matrix of relatedness among the individuals based on which strain they are from:"
   ]
  },
  {
   "cell_type": "code",
   "execution_count": 16,
   "id": "cfcf52f0-8c4a-4a39-83be-9955101cc419",
   "metadata": {},
   "outputs": [
    {
     "data": {
      "text/plain": [
       "calcRepeats (generic function with 1 method)"
      ]
     },
     "execution_count": 16,
     "metadata": {},
     "output_type": "execute_result"
    }
   ],
   "source": [
    "function calcRepeats(x::Array{Int64, 1})\n",
    "    \n",
    "    counting_dict = Dict{Int64, Int64}();\n",
    "    \n",
    "    for i in 1:length(x)\n",
    "        curr_key = x[i];\n",
    "        if haskey(counting_dict, curr_key) # if current key already exists\n",
    "            counting_dict[curr_key] += 1;\n",
    "        else # if current key does not present, add it as a new key\n",
    "            counting_dict[curr_key] = 1;\n",
    "        end\n",
    "    end\n",
    "    \n",
    "    return counting_dict\n",
    "    \n",
    "end"
   ]
  },
  {
   "cell_type": "code",
   "execution_count": 17,
   "id": "a22c5899-227f-44e8-872b-0fb90953fd4b",
   "metadata": {},
   "outputs": [
    {
     "data": {
      "text/plain": [
       "calcIndKinship_from_StrainKinship (generic function with 1 method)"
      ]
     },
     "execution_count": 17,
     "metadata": {},
     "output_type": "execute_result"
    }
   ],
   "source": [
    "function calcIndKinship_from_StrainKinship(kinship_strains::Array{Float64, 2}, \n",
    "                                           strain_info_about_samples::Array{Int64, 1})\n",
    "    \n",
    "    counting_dict = calcRepeats(strain_info_about_samples);\n",
    "    reps_each_strain = map(x -> counting_dict[x], unique(strain_info_about_samples));\n",
    "    \n",
    "    # Initialize the placeholder:\n",
    "    kinship_ind_from_strains = ones(sum(reps_each_strain), sum(reps_each_strain));\n",
    "\n",
    "    # process the first BXD strain...\n",
    "    reps_strain_1 = reps_each_strain[1];\n",
    "    k_11 = kinship_strains[1, 1];\n",
    "    # block_11 = ones(reps_strain_1, reps_strain_1);\n",
    "\n",
    "    row_id = 0;\n",
    "    col_id = 0;\n",
    "\n",
    "    @views kinship_ind_from_strains[(row_id+1):(row_id+reps_strain_1), \n",
    "                             (row_id+1):(row_id+reps_strain_1)] .*= k_11;\n",
    "\n",
    "    for j in 2:length(reps_each_strain)\n",
    "        reps_strain_j = reps_each_strain[j];\n",
    "        k_1j = kinship_strains[1, j];\n",
    "        # block_1j = ones(reps_strain_1, reps_strain_j);\n",
    "\n",
    "        col_id += reps_each_strain[j-1];\n",
    "        @views kinship_ind_from_strains[(row_id+1):(row_id+reps_strain_1), \n",
    "                                 (col_id+1):(col_id+reps_strain_j)] .*= k_1j;\n",
    "\n",
    "        # process the off-diagonal block conveniently...\n",
    "        # block_j1 = ones(reps_strain_j, reps_strain_1);\n",
    "        kinship_ind_from_strains[(col_id+1):(col_id+reps_strain_j),\n",
    "                                 (row_id+1):(row_id+reps_strain_1)] .*= k_1j;\n",
    "\n",
    "    end\n",
    "\n",
    "    # process for the second BXD strain and all after...\n",
    "    # for i in 2:length(reps_each_strain)\n",
    "    for i in 2:length(reps_each_strain)\n",
    "\n",
    "        reps_strain_i = reps_each_strain[i];\n",
    "        k_ii = kinship_strains[i, i];\n",
    "        # block_ii = ones(reps_strain_i, reps_strain_i);\n",
    "\n",
    "        row_id += reps_each_strain[i-1];\n",
    "        @views kinship_ind_from_strains[(row_id+1):(row_id+reps_strain_i), \n",
    "                                 (row_id+1):(row_id+reps_strain_i)] .*= k_ii;\n",
    "\n",
    "        col_id = row_id+reps_strain_i;\n",
    "\n",
    "        for j in (i+1):length(reps_each_strain)\n",
    "\n",
    "            reps_strain_j = reps_each_strain[j];\n",
    "            k_ij = kinship_strains[i, j];\n",
    "            # block_ij = ones(reps_strain_i, reps_strain_j);\n",
    "\n",
    "            @views kinship_ind_from_strains[(row_id+1):(row_id+reps_strain_i), \n",
    "                                     (col_id+1):(col_id+reps_strain_j)] .*= k_ij;\n",
    "\n",
    "            # process the off-diagonal block conveniently...\n",
    "            # block_ji = ones(reps_strain_j, reps_strain_i);\n",
    "            @views kinship_ind_from_strains[(col_id+1):(col_id+reps_strain_j),\n",
    "                                     (row_id+1):(row_id+reps_strain_i)] .*= k_ij;\n",
    "\n",
    "            col_id += reps_each_strain[j];\n",
    "        end\n",
    "    \n",
    "    end\n",
    "    \n",
    "    return kinship_ind_from_strains\n",
    "end"
   ]
  },
  {
   "cell_type": "code",
   "execution_count": 18,
   "id": "1627ff49-f03c-4f7c-95bb-647d9bec26dc",
   "metadata": {},
   "outputs": [],
   "source": [
    "BXD_geno_ind_summary_df.Strain_num = Vector{Int64}(BXD_geno_ind_summary_df.Strain_num);"
   ]
  },
  {
   "cell_type": "code",
   "execution_count": 19,
   "id": "ed61c75f-c283-49fd-acde-30b083d1743b",
   "metadata": {},
   "outputs": [
    {
     "name": "stdout",
     "output_type": "stream",
     "text": [
      "  0.000330 seconds (76 allocations: 503.766 KiB)\n"
     ]
    }
   ],
   "source": [
    "@time kinship_ind_from_strains = calcIndKinship_from_StrainKinship(kinship_strains, BXD_geno_ind_summary_df.Strain_num);"
   ]
  },
  {
   "cell_type": "markdown",
   "id": "c5e77a37-855e-4143-941c-1bd5164b84a7",
   "metadata": {},
   "source": [
    "Compare the runtime with directly calculating the kinship matrix from individual genotype data:"
   ]
  },
  {
   "cell_type": "code",
   "execution_count": 20,
   "id": "d52be48c-64d2-4894-a83c-3af0629e489c",
   "metadata": {},
   "outputs": [
    {
     "data": {
      "text/plain": [
       "10×10 Matrix{Float64}:\n",
       " 1.0   1.0   1.0   1.0   0.55  0.58  0.58  0.58  0.58  0.58\n",
       " 1.0   1.0   1.0   1.0   0.55  0.58  0.58  0.58  0.58  0.58\n",
       " 1.0   1.0   1.0   1.0   0.55  0.58  0.58  0.58  0.58  0.58\n",
       " 1.0   1.0   1.0   1.0   0.55  0.58  0.58  0.58  0.58  0.58\n",
       " 0.55  0.55  0.55  0.55  1.0   0.56  0.56  0.56  0.56  0.56\n",
       " 0.58  0.58  0.58  0.58  0.56  1.0   1.0   1.0   1.0   1.0\n",
       " 0.58  0.58  0.58  0.58  0.56  1.0   1.0   1.0   1.0   1.0\n",
       " 0.58  0.58  0.58  0.58  0.56  1.0   1.0   1.0   1.0   1.0\n",
       " 0.58  0.58  0.58  0.58  0.56  1.0   1.0   1.0   1.0   1.0\n",
       " 0.58  0.58  0.58  0.58  0.56  1.0   1.0   1.0   1.0   1.0"
      ]
     },
     "execution_count": 20,
     "metadata": {},
     "output_type": "execute_result"
    }
   ],
   "source": [
    "round.(kinship_ind_from_strains[1:10, 1:10], digits = 2)"
   ]
  },
  {
   "cell_type": "code",
   "execution_count": 21,
   "id": "d5f97779-e35c-4373-91ae-b9f003c5c280",
   "metadata": {},
   "outputs": [],
   "source": [
    "geno_ind = Matrix{Float64}(BXD_geno_ind_summary_df[:, 4:end]);"
   ]
  },
  {
   "cell_type": "code",
   "execution_count": 22,
   "id": "0306cc96-a8d2-4cbd-a7af-539ee488c70f",
   "metadata": {},
   "outputs": [
    {
     "name": "stdout",
     "output_type": "stream",
     "text": [
      "  5.442911 seconds (306.28 k allocations: 8.368 GiB, 14.57% gc time)\n"
     ]
    }
   ],
   "source": [
    "@time kinship_ind_from_ind = calcKinship(geno_ind);"
   ]
  },
  {
   "cell_type": "code",
   "execution_count": 23,
   "id": "cfe9f696-f089-4865-a081-a5dd95d5c87e",
   "metadata": {},
   "outputs": [
    {
     "data": {
      "text/plain": [
       "0.04186586531894554"
      ]
     },
     "execution_count": 23,
     "metadata": {},
     "output_type": "execute_result"
    }
   ],
   "source": [
    "maximum(abs.(kinship_ind_from_ind .- kinship_ind_from_strains))"
   ]
  },
  {
   "cell_type": "markdown",
   "id": "19b9c567-b404-429c-a3a6-6053ffec44d4",
   "metadata": {},
   "source": [
    "### Single-trait genome scans:"
   ]
  },
  {
   "cell_type": "markdown",
   "id": "bcbd89b9-2ad3-40a8-8e8d-81512875debb",
   "metadata": {},
   "source": [
    "To see single trait genome scan results, we take the 29437-th livear proteomic as the single trait to run analysis:  "
   ]
  },
  {
   "cell_type": "code",
   "execution_count": 24,
   "id": "547fc3eb-99e8-43b7-a7dd-bb0d3073b3b5",
   "metadata": {},
   "outputs": [],
   "source": [
    "lp_names = names(BXD_pheno_ind_summary_df)[4:end];"
   ]
  },
  {
   "cell_type": "code",
   "execution_count": 25,
   "id": "07a1bf7c-d333-4826-ab63-513f87006589",
   "metadata": {},
   "outputs": [
    {
     "data": {
      "text/plain": [
       "\"Q9Z2I8_SSGLPITSAVDLEDAAK_3\""
      ]
     },
     "execution_count": 25,
     "metadata": {},
     "output_type": "execute_result"
    }
   ],
   "source": [
    "lp_id = 29437;\n",
    "lp_names[lp_id]"
   ]
  },
  {
   "cell_type": "code",
   "execution_count": 26,
   "id": "10b8a21f-65a2-442f-bdd4-fbb0f7e2feaf",
   "metadata": {},
   "outputs": [],
   "source": [
    "prior = [1.0, 0.1];"
   ]
  },
  {
   "cell_type": "markdown",
   "id": "fb6aa497-38b0-4c8e-9582-c675019bfcfc",
   "metadata": {},
   "source": [
    "#### For individual liver proteome"
   ]
  },
  {
   "cell_type": "code",
   "execution_count": 27,
   "id": "f9e6bc67-fc56-47ae-aa0c-df73658709b0",
   "metadata": {},
   "outputs": [],
   "source": [
    "lp_ind_Y = Matrix{Float64}(BXD_pheno_ind_summary_df[:, 4:end]);\n",
    "lp_ind_y = reshape(lp_ind_Y[:, lp_id], :, 1);"
   ]
  },
  {
   "cell_type": "code",
   "execution_count": 28,
   "id": "ebaaef2c-8973-42e0-b527-c23d8c73ae40",
   "metadata": {},
   "outputs": [],
   "source": [
    "lpst_ind_Y = colStandardize(lp_ind_Y);\n",
    "lpst_ind_y = reshape(lpst_ind_Y[:, lp_id], :, 1);"
   ]
  },
  {
   "cell_type": "code",
   "execution_count": 29,
   "id": "fb383cb0-71d2-45ea-97ba-b5d685e69607",
   "metadata": {},
   "outputs": [
    {
     "name": "stdout",
     "output_type": "stream",
     "text": [
      "Loglik plot: \n"
     ]
    },
    {
     "data": {
      "image/svg+xml": [
       "<?xml version=\"1.0\" encoding=\"utf-8\"?>\n",
       "<svg xmlns=\"http://www.w3.org/2000/svg\" xmlns:xlink=\"http://www.w3.org/1999/xlink\" width=\"600\" height=\"400\" viewBox=\"0 0 2400 1600\">\n",
       "<defs>\n",
       "  <clipPath id=\"clip920\">\n",
       "    <rect x=\"0\" y=\"0\" width=\"2400\" height=\"1600\"/>\n",
       "  </clipPath>\n",
       "</defs>\n",
       "<path clip-path=\"url(#clip920)\" d=\"M0 1600 L2400 1600 L2400 0 L0 0  Z\" fill=\"#ffffff\" fill-rule=\"evenodd\" fill-opacity=\"1\"/>\n",
       "<defs>\n",
       "  <clipPath id=\"clip921\">\n",
       "    <rect x=\"480\" y=\"0\" width=\"1681\" height=\"1600\"/>\n",
       "  </clipPath>\n",
       "</defs>\n",
       "<path clip-path=\"url(#clip920)\" d=\"M272.297 1423.18 L2352.76 1423.18 L2352.76 47.2441 L272.297 47.2441  Z\" fill=\"#ffffff\" fill-rule=\"evenodd\" fill-opacity=\"1\"/>\n",
       "<defs>\n",
       "  <clipPath id=\"clip922\">\n",
       "    <rect x=\"272\" y=\"47\" width=\"2081\" height=\"1377\"/>\n",
       "  </clipPath>\n",
       "</defs>\n",
       "<polyline clip-path=\"url(#clip922)\" style=\"stroke:#000000; stroke-linecap:round; stroke-linejoin:round; stroke-width:2; stroke-opacity:0.1; fill:none\" points=\"366.863,1423.18 366.863,47.2441 \"/>\n",
       "<polyline clip-path=\"url(#clip922)\" style=\"stroke:#000000; stroke-linecap:round; stroke-linejoin:round; stroke-width:2; stroke-opacity:0.1; fill:none\" points=\"839.695,1423.18 839.695,47.2441 \"/>\n",
       "<polyline clip-path=\"url(#clip922)\" style=\"stroke:#000000; stroke-linecap:round; stroke-linejoin:round; stroke-width:2; stroke-opacity:0.1; fill:none\" points=\"1312.53,1423.18 1312.53,47.2441 \"/>\n",
       "<polyline clip-path=\"url(#clip922)\" style=\"stroke:#000000; stroke-linecap:round; stroke-linejoin:round; stroke-width:2; stroke-opacity:0.1; fill:none\" points=\"1785.36,1423.18 1785.36,47.2441 \"/>\n",
       "<polyline clip-path=\"url(#clip922)\" style=\"stroke:#000000; stroke-linecap:round; stroke-linejoin:round; stroke-width:2; stroke-opacity:0.1; fill:none\" points=\"2258.19,1423.18 2258.19,47.2441 \"/>\n",
       "<polyline clip-path=\"url(#clip920)\" style=\"stroke:#000000; stroke-linecap:round; stroke-linejoin:round; stroke-width:4; stroke-opacity:1; fill:none\" points=\"272.297,1423.18 2352.76,1423.18 \"/>\n",
       "<polyline clip-path=\"url(#clip920)\" style=\"stroke:#000000; stroke-linecap:round; stroke-linejoin:round; stroke-width:4; stroke-opacity:1; fill:none\" points=\"366.863,1423.18 366.863,1404.28 \"/>\n",
       "<polyline clip-path=\"url(#clip920)\" style=\"stroke:#000000; stroke-linecap:round; stroke-linejoin:round; stroke-width:4; stroke-opacity:1; fill:none\" points=\"839.695,1423.18 839.695,1404.28 \"/>\n",
       "<polyline clip-path=\"url(#clip920)\" style=\"stroke:#000000; stroke-linecap:round; stroke-linejoin:round; stroke-width:4; stroke-opacity:1; fill:none\" points=\"1312.53,1423.18 1312.53,1404.28 \"/>\n",
       "<polyline clip-path=\"url(#clip920)\" style=\"stroke:#000000; stroke-linecap:round; stroke-linejoin:round; stroke-width:4; stroke-opacity:1; fill:none\" points=\"1785.36,1423.18 1785.36,1404.28 \"/>\n",
       "<polyline clip-path=\"url(#clip920)\" style=\"stroke:#000000; stroke-linecap:round; stroke-linejoin:round; stroke-width:4; stroke-opacity:1; fill:none\" points=\"2258.19,1423.18 2258.19,1404.28 \"/>\n",
       "<path clip-path=\"url(#clip920)\" d=\"M329.166 1454.1 Q325.555 1454.1 323.727 1457.66 Q321.921 1461.2 321.921 1468.33 Q321.921 1475.44 323.727 1479.01 Q325.555 1482.55 329.166 1482.55 Q332.801 1482.55 334.606 1479.01 Q336.435 1475.44 336.435 1468.33 Q336.435 1461.2 334.606 1457.66 Q332.801 1454.1 329.166 1454.1 M329.166 1450.39 Q334.976 1450.39 338.032 1455 Q341.111 1459.58 341.111 1468.33 Q341.111 1477.06 338.032 1481.67 Q334.976 1486.25 329.166 1486.25 Q323.356 1486.25 320.277 1481.67 Q317.222 1477.06 317.222 1468.33 Q317.222 1459.58 320.277 1455 Q323.356 1450.39 329.166 1450.39 Z\" fill=\"#000000\" fill-rule=\"nonzero\" fill-opacity=\"1\" /><path clip-path=\"url(#clip920)\" d=\"M349.328 1479.7 L354.212 1479.7 L354.212 1485.58 L349.328 1485.58 L349.328 1479.7 Z\" fill=\"#000000\" fill-rule=\"nonzero\" fill-opacity=\"1\" /><path clip-path=\"url(#clip920)\" d=\"M374.398 1454.1 Q370.786 1454.1 368.958 1457.66 Q367.152 1461.2 367.152 1468.33 Q367.152 1475.44 368.958 1479.01 Q370.786 1482.55 374.398 1482.55 Q378.032 1482.55 379.837 1479.01 Q381.666 1475.44 381.666 1468.33 Q381.666 1461.2 379.837 1457.66 Q378.032 1454.1 374.398 1454.1 M374.398 1450.39 Q380.208 1450.39 383.263 1455 Q386.342 1459.58 386.342 1468.33 Q386.342 1477.06 383.263 1481.67 Q380.208 1486.25 374.398 1486.25 Q368.587 1486.25 365.509 1481.67 Q362.453 1477.06 362.453 1468.33 Q362.453 1459.58 365.509 1455 Q368.587 1450.39 374.398 1450.39 Z\" fill=\"#000000\" fill-rule=\"nonzero\" fill-opacity=\"1\" /><path clip-path=\"url(#clip920)\" d=\"M404.559 1454.1 Q400.948 1454.1 399.12 1457.66 Q397.314 1461.2 397.314 1468.33 Q397.314 1475.44 399.12 1479.01 Q400.948 1482.55 404.559 1482.55 Q408.194 1482.55 409.999 1479.01 Q411.828 1475.44 411.828 1468.33 Q411.828 1461.2 409.999 1457.66 Q408.194 1454.1 404.559 1454.1 M404.559 1450.39 Q410.37 1450.39 413.425 1455 Q416.504 1459.58 416.504 1468.33 Q416.504 1477.06 413.425 1481.67 Q410.37 1486.25 404.559 1486.25 Q398.749 1486.25 395.671 1481.67 Q392.615 1477.06 392.615 1468.33 Q392.615 1459.58 395.671 1455 Q398.749 1450.39 404.559 1450.39 Z\" fill=\"#000000\" fill-rule=\"nonzero\" fill-opacity=\"1\" /><path clip-path=\"url(#clip920)\" d=\"M802.496 1454.1 Q798.885 1454.1 797.056 1457.66 Q795.25 1461.2 795.25 1468.33 Q795.25 1475.44 797.056 1479.01 Q798.885 1482.55 802.496 1482.55 Q806.13 1482.55 807.935 1479.01 Q809.764 1475.44 809.764 1468.33 Q809.764 1461.2 807.935 1457.66 Q806.13 1454.1 802.496 1454.1 M802.496 1450.39 Q808.306 1450.39 811.361 1455 Q814.44 1459.58 814.44 1468.33 Q814.44 1477.06 811.361 1481.67 Q808.306 1486.25 802.496 1486.25 Q796.686 1486.25 793.607 1481.67 Q790.551 1477.06 790.551 1468.33 Q790.551 1459.58 793.607 1455 Q796.686 1450.39 802.496 1450.39 Z\" fill=\"#000000\" fill-rule=\"nonzero\" fill-opacity=\"1\" /><path clip-path=\"url(#clip920)\" d=\"M822.658 1479.7 L827.542 1479.7 L827.542 1485.58 L822.658 1485.58 L822.658 1479.7 Z\" fill=\"#000000\" fill-rule=\"nonzero\" fill-opacity=\"1\" /><path clip-path=\"url(#clip920)\" d=\"M841.755 1481.64 L858.074 1481.64 L858.074 1485.58 L836.13 1485.58 L836.13 1481.64 Q838.792 1478.89 843.375 1474.26 Q847.982 1469.61 849.162 1468.27 Q851.407 1465.74 852.287 1464.01 Q853.19 1462.25 853.19 1460.56 Q853.19 1457.8 851.245 1456.07 Q849.324 1454.33 846.222 1454.33 Q844.023 1454.33 841.57 1455.09 Q839.139 1455.86 836.361 1457.41 L836.361 1452.69 Q839.185 1451.55 841.639 1450.97 Q844.093 1450.39 846.13 1450.39 Q851.5 1450.39 854.694 1453.08 Q857.889 1455.77 857.889 1460.26 Q857.889 1462.39 857.079 1464.31 Q856.292 1466.2 854.185 1468.8 Q853.607 1469.47 850.505 1472.69 Q847.403 1475.88 841.755 1481.64 Z\" fill=\"#000000\" fill-rule=\"nonzero\" fill-opacity=\"1\" /><path clip-path=\"url(#clip920)\" d=\"M867.935 1451.02 L886.292 1451.02 L886.292 1454.96 L872.218 1454.96 L872.218 1463.43 Q873.236 1463.08 874.255 1462.92 Q875.273 1462.73 876.292 1462.73 Q882.079 1462.73 885.458 1465.9 Q888.838 1469.08 888.838 1474.49 Q888.838 1480.07 885.366 1483.17 Q881.893 1486.25 875.574 1486.25 Q873.398 1486.25 871.13 1485.88 Q868.884 1485.51 866.477 1484.77 L866.477 1480.07 Q868.56 1481.2 870.782 1481.76 Q873.005 1482.32 875.481 1482.32 Q879.486 1482.32 881.824 1480.21 Q884.162 1478.1 884.162 1474.49 Q884.162 1470.88 881.824 1468.77 Q879.486 1466.67 875.481 1466.67 Q873.606 1466.67 871.731 1467.08 Q869.88 1467.5 867.935 1468.38 L867.935 1451.02 Z\" fill=\"#000000\" fill-rule=\"nonzero\" fill-opacity=\"1\" /><path clip-path=\"url(#clip920)\" d=\"M1274.83 1454.1 Q1271.22 1454.1 1269.39 1457.66 Q1267.58 1461.2 1267.58 1468.33 Q1267.58 1475.44 1269.39 1479.01 Q1271.22 1482.55 1274.83 1482.55 Q1278.46 1482.55 1280.27 1479.01 Q1282.1 1475.44 1282.1 1468.33 Q1282.1 1461.2 1280.27 1457.66 Q1278.46 1454.1 1274.83 1454.1 M1274.83 1450.39 Q1280.64 1450.39 1283.7 1455 Q1286.77 1459.58 1286.77 1468.33 Q1286.77 1477.06 1283.7 1481.67 Q1280.64 1486.25 1274.83 1486.25 Q1269.02 1486.25 1265.94 1481.67 Q1262.89 1477.06 1262.89 1468.33 Q1262.89 1459.58 1265.94 1455 Q1269.02 1450.39 1274.83 1450.39 Z\" fill=\"#000000\" fill-rule=\"nonzero\" fill-opacity=\"1\" /><path clip-path=\"url(#clip920)\" d=\"M1294.99 1479.7 L1299.88 1479.7 L1299.88 1485.58 L1294.99 1485.58 L1294.99 1479.7 Z\" fill=\"#000000\" fill-rule=\"nonzero\" fill-opacity=\"1\" /><path clip-path=\"url(#clip920)\" d=\"M1310.11 1451.02 L1328.46 1451.02 L1328.46 1454.96 L1314.39 1454.96 L1314.39 1463.43 Q1315.41 1463.08 1316.43 1462.92 Q1317.45 1462.73 1318.46 1462.73 Q1324.25 1462.73 1327.63 1465.9 Q1331.01 1469.08 1331.01 1474.49 Q1331.01 1480.07 1327.54 1483.17 Q1324.07 1486.25 1317.75 1486.25 Q1315.57 1486.25 1313.3 1485.88 Q1311.06 1485.51 1308.65 1484.77 L1308.65 1480.07 Q1310.73 1481.2 1312.95 1481.76 Q1315.18 1482.32 1317.65 1482.32 Q1321.66 1482.32 1324 1480.21 Q1326.33 1478.1 1326.33 1474.49 Q1326.33 1470.88 1324 1468.77 Q1321.66 1466.67 1317.65 1466.67 Q1315.78 1466.67 1313.9 1467.08 Q1312.05 1467.5 1310.11 1468.38 L1310.11 1451.02 Z\" fill=\"#000000\" fill-rule=\"nonzero\" fill-opacity=\"1\" /><path clip-path=\"url(#clip920)\" d=\"M1350.22 1454.1 Q1346.61 1454.1 1344.78 1457.66 Q1342.98 1461.2 1342.98 1468.33 Q1342.98 1475.44 1344.78 1479.01 Q1346.61 1482.55 1350.22 1482.55 Q1353.86 1482.55 1355.66 1479.01 Q1357.49 1475.44 1357.49 1468.33 Q1357.49 1461.2 1355.66 1457.66 Q1353.86 1454.1 1350.22 1454.1 M1350.22 1450.39 Q1356.03 1450.39 1359.09 1455 Q1362.17 1459.58 1362.17 1468.33 Q1362.17 1477.06 1359.09 1481.67 Q1356.03 1486.25 1350.22 1486.25 Q1344.41 1486.25 1341.33 1481.67 Q1338.28 1477.06 1338.28 1468.33 Q1338.28 1459.58 1341.33 1455 Q1344.41 1450.39 1350.22 1450.39 Z\" fill=\"#000000\" fill-rule=\"nonzero\" fill-opacity=\"1\" /><path clip-path=\"url(#clip920)\" d=\"M1748.16 1454.1 Q1744.55 1454.1 1742.72 1457.66 Q1740.91 1461.2 1740.91 1468.33 Q1740.91 1475.44 1742.72 1479.01 Q1744.55 1482.55 1748.16 1482.55 Q1751.79 1482.55 1753.6 1479.01 Q1755.43 1475.44 1755.43 1468.33 Q1755.43 1461.2 1753.6 1457.66 Q1751.79 1454.1 1748.16 1454.1 M1748.16 1450.39 Q1753.97 1450.39 1757.02 1455 Q1760.1 1459.58 1760.1 1468.33 Q1760.1 1477.06 1757.02 1481.67 Q1753.97 1486.25 1748.16 1486.25 Q1742.35 1486.25 1739.27 1481.67 Q1736.21 1477.06 1736.21 1468.33 Q1736.21 1459.58 1739.27 1455 Q1742.35 1450.39 1748.16 1450.39 Z\" fill=\"#000000\" fill-rule=\"nonzero\" fill-opacity=\"1\" /><path clip-path=\"url(#clip920)\" d=\"M1768.32 1479.7 L1773.21 1479.7 L1773.21 1485.58 L1768.32 1485.58 L1768.32 1479.7 Z\" fill=\"#000000\" fill-rule=\"nonzero\" fill-opacity=\"1\" /><path clip-path=\"url(#clip920)\" d=\"M1782.21 1451.02 L1804.43 1451.02 L1804.43 1453.01 L1791.89 1485.58 L1787 1485.58 L1798.81 1454.96 L1782.21 1454.96 L1782.21 1451.02 Z\" fill=\"#000000\" fill-rule=\"nonzero\" fill-opacity=\"1\" /><path clip-path=\"url(#clip920)\" d=\"M1813.6 1451.02 L1831.95 1451.02 L1831.95 1454.96 L1817.88 1454.96 L1817.88 1463.43 Q1818.9 1463.08 1819.92 1462.92 Q1820.94 1462.73 1821.95 1462.73 Q1827.74 1462.73 1831.12 1465.9 Q1834.5 1469.08 1834.5 1474.49 Q1834.5 1480.07 1831.03 1483.17 Q1827.56 1486.25 1821.24 1486.25 Q1819.06 1486.25 1816.79 1485.88 Q1814.55 1485.51 1812.14 1484.77 L1812.14 1480.07 Q1814.22 1481.2 1816.45 1481.76 Q1818.67 1482.32 1821.14 1482.32 Q1825.15 1482.32 1827.49 1480.21 Q1829.83 1478.1 1829.83 1474.49 Q1829.83 1470.88 1827.49 1468.77 Q1825.15 1466.67 1821.14 1466.67 Q1819.27 1466.67 1817.39 1467.08 Q1815.54 1467.5 1813.6 1468.38 L1813.6 1451.02 Z\" fill=\"#000000\" fill-rule=\"nonzero\" fill-opacity=\"1\" /><path clip-path=\"url(#clip920)\" d=\"M2210.26 1481.64 L2217.9 1481.64 L2217.9 1455.28 L2209.59 1456.95 L2209.59 1452.69 L2217.85 1451.02 L2222.53 1451.02 L2222.53 1481.64 L2230.17 1481.64 L2230.17 1485.58 L2210.26 1485.58 L2210.26 1481.64 Z\" fill=\"#000000\" fill-rule=\"nonzero\" fill-opacity=\"1\" /><path clip-path=\"url(#clip920)\" d=\"M2239.61 1479.7 L2244.5 1479.7 L2244.5 1485.58 L2239.61 1485.58 L2239.61 1479.7 Z\" fill=\"#000000\" fill-rule=\"nonzero\" fill-opacity=\"1\" /><path clip-path=\"url(#clip920)\" d=\"M2264.68 1454.1 Q2261.07 1454.1 2259.24 1457.66 Q2257.44 1461.2 2257.44 1468.33 Q2257.44 1475.44 2259.24 1479.01 Q2261.07 1482.55 2264.68 1482.55 Q2268.32 1482.55 2270.12 1479.01 Q2271.95 1475.44 2271.95 1468.33 Q2271.95 1461.2 2270.12 1457.66 Q2268.32 1454.1 2264.68 1454.1 M2264.68 1450.39 Q2270.49 1450.39 2273.55 1455 Q2276.63 1459.58 2276.63 1468.33 Q2276.63 1477.06 2273.55 1481.67 Q2270.49 1486.25 2264.68 1486.25 Q2258.87 1486.25 2255.79 1481.67 Q2252.74 1477.06 2252.74 1468.33 Q2252.74 1459.58 2255.79 1455 Q2258.87 1450.39 2264.68 1450.39 Z\" fill=\"#000000\" fill-rule=\"nonzero\" fill-opacity=\"1\" /><path clip-path=\"url(#clip920)\" d=\"M2294.84 1454.1 Q2291.23 1454.1 2289.4 1457.66 Q2287.6 1461.2 2287.6 1468.33 Q2287.6 1475.44 2289.4 1479.01 Q2291.23 1482.55 2294.84 1482.55 Q2298.48 1482.55 2300.28 1479.01 Q2302.11 1475.44 2302.11 1468.33 Q2302.11 1461.2 2300.28 1457.66 Q2298.48 1454.1 2294.84 1454.1 M2294.84 1450.39 Q2300.65 1450.39 2303.71 1455 Q2306.79 1459.58 2306.79 1468.33 Q2306.79 1477.06 2303.71 1481.67 Q2300.65 1486.25 2294.84 1486.25 Q2289.03 1486.25 2285.96 1481.67 Q2282.9 1477.06 2282.9 1468.33 Q2282.9 1459.58 2285.96 1455 Q2289.03 1450.39 2294.84 1450.39 Z\" fill=\"#000000\" fill-rule=\"nonzero\" fill-opacity=\"1\" /><path clip-path=\"url(#clip920)\" d=\"M1307.21 1546.53 L1307.21 1568.04 L1301.35 1568.04 L1301.35 1546.72 Q1301.35 1541.66 1299.38 1539.14 Q1297.41 1536.63 1293.46 1536.63 Q1288.72 1536.63 1285.98 1539.65 Q1283.24 1542.68 1283.24 1547.9 L1283.24 1568.04 L1277.36 1568.04 L1277.36 1518.52 L1283.24 1518.52 L1283.24 1537.93 Q1285.34 1534.72 1288.18 1533.13 Q1291.04 1531.54 1294.77 1531.54 Q1300.91 1531.54 1304.06 1535.36 Q1307.21 1539.14 1307.21 1546.53 Z\" fill=\"#000000\" fill-rule=\"nonzero\" fill-opacity=\"1\" /><path clip-path=\"url(#clip920)\" d=\"M1325.26 1562.63 L1347.7 1562.63 L1347.7 1568.04 L1317.52 1568.04 L1317.52 1562.63 Q1321.18 1558.85 1327.49 1552.48 Q1333.82 1546.08 1335.44 1544.24 Q1338.53 1540.77 1339.74 1538.38 Q1340.98 1535.96 1340.98 1533.64 Q1340.98 1529.85 1338.31 1527.46 Q1335.67 1525.08 1331.4 1525.08 Q1328.38 1525.08 1325 1526.13 Q1321.66 1527.18 1317.84 1529.31 L1317.84 1522.82 Q1321.72 1521.26 1325.1 1520.46 Q1328.47 1519.66 1331.27 1519.66 Q1338.66 1519.66 1343.05 1523.36 Q1347.44 1527.05 1347.44 1533.22 Q1347.44 1536.15 1346.33 1538.79 Q1345.25 1541.4 1342.35 1544.97 Q1341.55 1545.89 1337.29 1550.32 Q1333.02 1554.71 1325.26 1562.63 Z\" fill=\"#000000\" fill-rule=\"nonzero\" fill-opacity=\"1\" /><polyline clip-path=\"url(#clip922)\" style=\"stroke:#000000; stroke-linecap:round; stroke-linejoin:round; stroke-width:2; stroke-opacity:0.1; fill:none\" points=\"272.297,1289.67 2352.76,1289.67 \"/>\n",
       "<polyline clip-path=\"url(#clip922)\" style=\"stroke:#000000; stroke-linecap:round; stroke-linejoin:round; stroke-width:2; stroke-opacity:0.1; fill:none\" points=\"272.297,1112.24 2352.76,1112.24 \"/>\n",
       "<polyline clip-path=\"url(#clip922)\" style=\"stroke:#000000; stroke-linecap:round; stroke-linejoin:round; stroke-width:2; stroke-opacity:0.1; fill:none\" points=\"272.297,934.816 2352.76,934.816 \"/>\n",
       "<polyline clip-path=\"url(#clip922)\" style=\"stroke:#000000; stroke-linecap:round; stroke-linejoin:round; stroke-width:2; stroke-opacity:0.1; fill:none\" points=\"272.297,757.39 2352.76,757.39 \"/>\n",
       "<polyline clip-path=\"url(#clip922)\" style=\"stroke:#000000; stroke-linecap:round; stroke-linejoin:round; stroke-width:2; stroke-opacity:0.1; fill:none\" points=\"272.297,579.965 2352.76,579.965 \"/>\n",
       "<polyline clip-path=\"url(#clip922)\" style=\"stroke:#000000; stroke-linecap:round; stroke-linejoin:round; stroke-width:2; stroke-opacity:0.1; fill:none\" points=\"272.297,402.539 2352.76,402.539 \"/>\n",
       "<polyline clip-path=\"url(#clip922)\" style=\"stroke:#000000; stroke-linecap:round; stroke-linejoin:round; stroke-width:2; stroke-opacity:0.1; fill:none\" points=\"272.297,225.113 2352.76,225.113 \"/>\n",
       "<polyline clip-path=\"url(#clip922)\" style=\"stroke:#000000; stroke-linecap:round; stroke-linejoin:round; stroke-width:2; stroke-opacity:0.1; fill:none\" points=\"272.297,47.6877 2352.76,47.6877 \"/>\n",
       "<polyline clip-path=\"url(#clip920)\" style=\"stroke:#000000; stroke-linecap:round; stroke-linejoin:round; stroke-width:4; stroke-opacity:1; fill:none\" points=\"272.297,1423.18 272.297,47.2441 \"/>\n",
       "<polyline clip-path=\"url(#clip920)\" style=\"stroke:#000000; stroke-linecap:round; stroke-linejoin:round; stroke-width:4; stroke-opacity:1; fill:none\" points=\"272.297,1289.67 291.194,1289.67 \"/>\n",
       "<polyline clip-path=\"url(#clip920)\" style=\"stroke:#000000; stroke-linecap:round; stroke-linejoin:round; stroke-width:4; stroke-opacity:1; fill:none\" points=\"272.297,1112.24 291.194,1112.24 \"/>\n",
       "<polyline clip-path=\"url(#clip920)\" style=\"stroke:#000000; stroke-linecap:round; stroke-linejoin:round; stroke-width:4; stroke-opacity:1; fill:none\" points=\"272.297,934.816 291.194,934.816 \"/>\n",
       "<polyline clip-path=\"url(#clip920)\" style=\"stroke:#000000; stroke-linecap:round; stroke-linejoin:round; stroke-width:4; stroke-opacity:1; fill:none\" points=\"272.297,757.39 291.194,757.39 \"/>\n",
       "<polyline clip-path=\"url(#clip920)\" style=\"stroke:#000000; stroke-linecap:round; stroke-linejoin:round; stroke-width:4; stroke-opacity:1; fill:none\" points=\"272.297,579.965 291.194,579.965 \"/>\n",
       "<polyline clip-path=\"url(#clip920)\" style=\"stroke:#000000; stroke-linecap:round; stroke-linejoin:round; stroke-width:4; stroke-opacity:1; fill:none\" points=\"272.297,402.539 291.194,402.539 \"/>\n",
       "<polyline clip-path=\"url(#clip920)\" style=\"stroke:#000000; stroke-linecap:round; stroke-linejoin:round; stroke-width:4; stroke-opacity:1; fill:none\" points=\"272.297,225.113 291.194,225.113 \"/>\n",
       "<polyline clip-path=\"url(#clip920)\" style=\"stroke:#000000; stroke-linecap:round; stroke-linejoin:round; stroke-width:4; stroke-opacity:1; fill:none\" points=\"272.297,47.6877 291.194,47.6877 \"/>\n",
       "<path clip-path=\"url(#clip920)\" d=\"M114.26 1290.12 L143.936 1290.12 L143.936 1294.05 L114.26 1294.05 L114.26 1290.12 Z\" fill=\"#000000\" fill-rule=\"nonzero\" fill-opacity=\"1\" /><path clip-path=\"url(#clip920)\" d=\"M158.056 1303.01 L174.376 1303.01 L174.376 1306.95 L152.431 1306.95 L152.431 1303.01 Q155.093 1300.26 159.677 1295.63 Q164.283 1290.97 165.464 1289.63 Q167.709 1287.11 168.589 1285.37 Q169.491 1283.61 169.491 1281.92 Q169.491 1279.17 167.547 1277.43 Q165.626 1275.7 162.524 1275.7 Q160.325 1275.7 157.871 1276.46 Q155.44 1277.22 152.663 1278.78 L152.663 1274.05 Q155.487 1272.92 157.94 1272.34 Q160.394 1271.76 162.431 1271.76 Q167.802 1271.76 170.996 1274.45 Q174.19 1277.13 174.19 1281.62 Q174.19 1283.75 173.38 1285.67 Q172.593 1287.57 170.487 1290.16 Q169.908 1290.84 166.806 1294.05 Q163.704 1297.25 158.056 1303.01 Z\" fill=\"#000000\" fill-rule=\"nonzero\" fill-opacity=\"1\" /><path clip-path=\"url(#clip920)\" d=\"M194.769 1287.8 Q191.621 1287.8 189.769 1289.96 Q187.94 1292.11 187.94 1295.86 Q187.94 1299.59 189.769 1301.76 Q191.621 1303.91 194.769 1303.91 Q197.917 1303.91 199.746 1301.76 Q201.598 1299.59 201.598 1295.86 Q201.598 1292.11 199.746 1289.96 Q197.917 1287.8 194.769 1287.8 M204.051 1273.15 L204.051 1277.41 Q202.292 1276.58 200.487 1276.14 Q198.704 1275.7 196.945 1275.7 Q192.315 1275.7 189.862 1278.82 Q187.431 1281.95 187.084 1288.27 Q188.45 1286.25 190.51 1285.19 Q192.57 1284.1 195.047 1284.1 Q200.255 1284.1 203.264 1287.27 Q206.297 1290.42 206.297 1295.86 Q206.297 1301.18 203.149 1304.4 Q200 1307.62 194.769 1307.62 Q188.774 1307.62 185.602 1303.04 Q182.431 1298.43 182.431 1289.7 Q182.431 1281.51 186.32 1276.65 Q190.209 1271.76 196.76 1271.76 Q198.519 1271.76 200.301 1272.11 Q202.107 1272.46 204.051 1273.15 Z\" fill=\"#000000\" fill-rule=\"nonzero\" fill-opacity=\"1\" /><path clip-path=\"url(#clip920)\" d=\"M224.352 1275.47 Q220.741 1275.47 218.912 1279.03 Q217.107 1282.57 217.107 1289.7 Q217.107 1296.81 218.912 1300.37 Q220.741 1303.91 224.352 1303.91 Q227.986 1303.91 229.792 1300.37 Q231.621 1296.81 231.621 1289.7 Q231.621 1282.57 229.792 1279.03 Q227.986 1275.47 224.352 1275.47 M224.352 1271.76 Q230.162 1271.76 233.218 1276.37 Q236.297 1280.95 236.297 1289.7 Q236.297 1298.43 233.218 1303.04 Q230.162 1307.62 224.352 1307.62 Q218.542 1307.62 215.463 1303.04 Q212.408 1298.43 212.408 1289.7 Q212.408 1280.95 215.463 1276.37 Q218.542 1271.76 224.352 1271.76 Z\" fill=\"#000000\" fill-rule=\"nonzero\" fill-opacity=\"1\" /><path clip-path=\"url(#clip920)\" d=\"M114.26 1112.69 L143.936 1112.69 L143.936 1116.63 L114.26 1116.63 L114.26 1112.69 Z\" fill=\"#000000\" fill-rule=\"nonzero\" fill-opacity=\"1\" /><path clip-path=\"url(#clip920)\" d=\"M158.056 1125.59 L174.376 1125.59 L174.376 1129.52 L152.431 1129.52 L152.431 1125.59 Q155.093 1122.83 159.677 1118.2 Q164.283 1113.55 165.464 1112.21 Q167.709 1109.68 168.589 1107.95 Q169.491 1106.19 169.491 1104.5 Q169.491 1101.74 167.547 1100.01 Q165.626 1098.27 162.524 1098.27 Q160.325 1098.27 157.871 1099.04 Q155.44 1099.8 152.663 1101.35 L152.663 1096.63 Q155.487 1095.49 157.94 1094.92 Q160.394 1094.34 162.431 1094.34 Q167.802 1094.34 170.996 1097.02 Q174.19 1099.71 174.19 1104.2 Q174.19 1106.33 173.38 1108.25 Q172.593 1110.15 170.487 1112.74 Q169.908 1113.41 166.806 1116.63 Q163.704 1119.82 158.056 1125.59 Z\" fill=\"#000000\" fill-rule=\"nonzero\" fill-opacity=\"1\" /><path clip-path=\"url(#clip920)\" d=\"M197.037 1099.04 L185.232 1117.48 L197.037 1117.48 L197.037 1099.04 M195.811 1094.96 L201.69 1094.96 L201.69 1117.48 L206.621 1117.48 L206.621 1121.37 L201.69 1121.37 L201.69 1129.52 L197.037 1129.52 L197.037 1121.37 L181.436 1121.37 L181.436 1116.86 L195.811 1094.96 Z\" fill=\"#000000\" fill-rule=\"nonzero\" fill-opacity=\"1\" /><path clip-path=\"url(#clip920)\" d=\"M224.352 1098.04 Q220.741 1098.04 218.912 1101.6 Q217.107 1105.15 217.107 1112.28 Q217.107 1119.38 218.912 1122.95 Q220.741 1126.49 224.352 1126.49 Q227.986 1126.49 229.792 1122.95 Q231.621 1119.38 231.621 1112.28 Q231.621 1105.15 229.792 1101.6 Q227.986 1098.04 224.352 1098.04 M224.352 1094.34 Q230.162 1094.34 233.218 1098.94 Q236.297 1103.53 236.297 1112.28 Q236.297 1121 233.218 1125.61 Q230.162 1130.19 224.352 1130.19 Q218.542 1130.19 215.463 1125.61 Q212.408 1121 212.408 1112.28 Q212.408 1103.53 215.463 1098.94 Q218.542 1094.34 224.352 1094.34 Z\" fill=\"#000000\" fill-rule=\"nonzero\" fill-opacity=\"1\" /><path clip-path=\"url(#clip920)\" d=\"M114.26 935.267 L143.936 935.267 L143.936 939.202 L114.26 939.202 L114.26 935.267 Z\" fill=\"#000000\" fill-rule=\"nonzero\" fill-opacity=\"1\" /><path clip-path=\"url(#clip920)\" d=\"M158.056 948.161 L174.376 948.161 L174.376 952.096 L152.431 952.096 L152.431 948.161 Q155.093 945.406 159.677 940.776 Q164.283 936.124 165.464 934.781 Q167.709 932.258 168.589 930.522 Q169.491 928.763 169.491 927.073 Q169.491 924.318 167.547 922.582 Q165.626 920.846 162.524 920.846 Q160.325 920.846 157.871 921.61 Q155.44 922.374 152.663 923.925 L152.663 919.202 Q155.487 918.068 157.94 917.49 Q160.394 916.911 162.431 916.911 Q167.802 916.911 170.996 919.596 Q174.19 922.281 174.19 926.772 Q174.19 928.901 173.38 930.823 Q172.593 932.721 170.487 935.313 Q169.908 935.985 166.806 939.202 Q163.704 942.397 158.056 948.161 Z\" fill=\"#000000\" fill-rule=\"nonzero\" fill-opacity=\"1\" /><path clip-path=\"url(#clip920)\" d=\"M188.218 948.161 L204.537 948.161 L204.537 952.096 L182.593 952.096 L182.593 948.161 Q185.255 945.406 189.838 940.776 Q194.445 936.124 195.625 934.781 Q197.871 932.258 198.75 930.522 Q199.653 928.763 199.653 927.073 Q199.653 924.318 197.709 922.582 Q195.787 920.846 192.686 920.846 Q190.487 920.846 188.033 921.61 Q185.602 922.374 182.825 923.925 L182.825 919.202 Q185.649 918.068 188.102 917.49 Q190.556 916.911 192.593 916.911 Q197.963 916.911 201.158 919.596 Q204.352 922.281 204.352 926.772 Q204.352 928.901 203.542 930.823 Q202.755 932.721 200.649 935.313 Q200.07 935.985 196.968 939.202 Q193.866 942.397 188.218 948.161 Z\" fill=\"#000000\" fill-rule=\"nonzero\" fill-opacity=\"1\" /><path clip-path=\"url(#clip920)\" d=\"M224.352 920.614 Q220.741 920.614 218.912 924.179 Q217.107 927.721 217.107 934.851 Q217.107 941.957 218.912 945.522 Q220.741 949.063 224.352 949.063 Q227.986 949.063 229.792 945.522 Q231.621 941.957 231.621 934.851 Q231.621 927.721 229.792 924.179 Q227.986 920.614 224.352 920.614 M224.352 916.911 Q230.162 916.911 233.218 921.517 Q236.297 926.101 236.297 934.851 Q236.297 943.577 233.218 948.184 Q230.162 952.767 224.352 952.767 Q218.542 952.767 215.463 948.184 Q212.408 943.577 212.408 934.851 Q212.408 926.101 215.463 921.517 Q218.542 916.911 224.352 916.911 Z\" fill=\"#000000\" fill-rule=\"nonzero\" fill-opacity=\"1\" /><path clip-path=\"url(#clip920)\" d=\"M114.26 757.842 L143.936 757.842 L143.936 761.777 L114.26 761.777 L114.26 757.842 Z\" fill=\"#000000\" fill-rule=\"nonzero\" fill-opacity=\"1\" /><path clip-path=\"url(#clip920)\" d=\"M158.056 770.735 L174.376 770.735 L174.376 774.67 L152.431 774.67 L152.431 770.735 Q155.093 767.98 159.677 763.351 Q164.283 758.698 165.464 757.355 Q167.709 754.832 168.589 753.096 Q169.491 751.337 169.491 749.647 Q169.491 746.893 167.547 745.156 Q165.626 743.42 162.524 743.42 Q160.325 743.42 157.871 744.184 Q155.44 744.948 152.663 746.499 L152.663 741.777 Q155.487 740.643 157.94 740.064 Q160.394 739.485 162.431 739.485 Q167.802 739.485 170.996 742.17 Q174.19 744.856 174.19 749.346 Q174.19 751.476 173.38 753.397 Q172.593 755.295 170.487 757.888 Q169.908 758.559 166.806 761.777 Q163.704 764.971 158.056 770.735 Z\" fill=\"#000000\" fill-rule=\"nonzero\" fill-opacity=\"1\" /><path clip-path=\"url(#clip920)\" d=\"M194.19 743.189 Q190.579 743.189 188.75 746.754 Q186.945 750.295 186.945 757.425 Q186.945 764.531 188.75 768.096 Q190.579 771.638 194.19 771.638 Q197.825 771.638 199.63 768.096 Q201.459 764.531 201.459 757.425 Q201.459 750.295 199.63 746.754 Q197.825 743.189 194.19 743.189 M194.19 739.485 Q200 739.485 203.056 744.092 Q206.135 748.675 206.135 757.425 Q206.135 766.152 203.056 770.758 Q200 775.341 194.19 775.341 Q188.38 775.341 185.301 770.758 Q182.246 766.152 182.246 757.425 Q182.246 748.675 185.301 744.092 Q188.38 739.485 194.19 739.485 Z\" fill=\"#000000\" fill-rule=\"nonzero\" fill-opacity=\"1\" /><path clip-path=\"url(#clip920)\" d=\"M224.352 743.189 Q220.741 743.189 218.912 746.754 Q217.107 750.295 217.107 757.425 Q217.107 764.531 218.912 768.096 Q220.741 771.638 224.352 771.638 Q227.986 771.638 229.792 768.096 Q231.621 764.531 231.621 757.425 Q231.621 750.295 229.792 746.754 Q227.986 743.189 224.352 743.189 M224.352 739.485 Q230.162 739.485 233.218 744.092 Q236.297 748.675 236.297 757.425 Q236.297 766.152 233.218 770.758 Q230.162 775.341 224.352 775.341 Q218.542 775.341 215.463 770.758 Q212.408 766.152 212.408 757.425 Q212.408 748.675 215.463 744.092 Q218.542 739.485 224.352 739.485 Z\" fill=\"#000000\" fill-rule=\"nonzero\" fill-opacity=\"1\" /><path clip-path=\"url(#clip920)\" d=\"M114.26 580.416 L143.936 580.416 L143.936 584.351 L114.26 584.351 L114.26 580.416 Z\" fill=\"#000000\" fill-rule=\"nonzero\" fill-opacity=\"1\" /><path clip-path=\"url(#clip920)\" d=\"M154.839 593.309 L162.477 593.309 L162.477 566.944 L154.167 568.61 L154.167 564.351 L162.431 562.685 L167.107 562.685 L167.107 593.309 L174.746 593.309 L174.746 597.245 L154.839 597.245 L154.839 593.309 Z\" fill=\"#000000\" fill-rule=\"nonzero\" fill-opacity=\"1\" /><path clip-path=\"url(#clip920)\" d=\"M194.19 580.833 Q190.857 580.833 188.936 582.615 Q187.038 584.397 187.038 587.522 Q187.038 590.647 188.936 592.43 Q190.857 594.212 194.19 594.212 Q197.524 594.212 199.445 592.43 Q201.366 590.624 201.366 587.522 Q201.366 584.397 199.445 582.615 Q197.547 580.833 194.19 580.833 M189.514 578.842 Q186.505 578.101 184.815 576.041 Q183.149 573.981 183.149 571.018 Q183.149 566.874 186.088 564.467 Q189.051 562.06 194.19 562.06 Q199.352 562.06 202.292 564.467 Q205.232 566.874 205.232 571.018 Q205.232 573.981 203.542 576.041 Q201.875 578.101 198.889 578.842 Q202.269 579.629 204.144 581.921 Q206.042 584.212 206.042 587.522 Q206.042 592.545 202.963 595.231 Q199.908 597.916 194.19 597.916 Q188.473 597.916 185.394 595.231 Q182.338 592.545 182.338 587.522 Q182.338 584.212 184.237 581.921 Q186.135 579.629 189.514 578.842 M187.801 571.458 Q187.801 574.143 189.468 575.647 Q191.158 577.152 194.19 577.152 Q197.2 577.152 198.889 575.647 Q200.602 574.143 200.602 571.458 Q200.602 568.772 198.889 567.268 Q197.2 565.763 194.19 565.763 Q191.158 565.763 189.468 567.268 Q187.801 568.772 187.801 571.458 Z\" fill=\"#000000\" fill-rule=\"nonzero\" fill-opacity=\"1\" /><path clip-path=\"url(#clip920)\" d=\"M224.352 565.763 Q220.741 565.763 218.912 569.328 Q217.107 572.87 217.107 579.999 Q217.107 587.106 218.912 590.671 Q220.741 594.212 224.352 594.212 Q227.986 594.212 229.792 590.671 Q231.621 587.106 231.621 579.999 Q231.621 572.87 229.792 569.328 Q227.986 565.763 224.352 565.763 M224.352 562.06 Q230.162 562.06 233.218 566.666 Q236.297 571.249 236.297 579.999 Q236.297 588.726 233.218 593.333 Q230.162 597.916 224.352 597.916 Q218.542 597.916 215.463 593.333 Q212.408 588.726 212.408 579.999 Q212.408 571.249 215.463 566.666 Q218.542 562.06 224.352 562.06 Z\" fill=\"#000000\" fill-rule=\"nonzero\" fill-opacity=\"1\" /><path clip-path=\"url(#clip920)\" d=\"M114.26 402.99 L143.936 402.99 L143.936 406.925 L114.26 406.925 L114.26 402.99 Z\" fill=\"#000000\" fill-rule=\"nonzero\" fill-opacity=\"1\" /><path clip-path=\"url(#clip920)\" d=\"M154.839 415.884 L162.477 415.884 L162.477 389.518 L154.167 391.185 L154.167 386.926 L162.431 385.259 L167.107 385.259 L167.107 415.884 L174.746 415.884 L174.746 419.819 L154.839 419.819 L154.839 415.884 Z\" fill=\"#000000\" fill-rule=\"nonzero\" fill-opacity=\"1\" /><path clip-path=\"url(#clip920)\" d=\"M194.769 400.675 Q191.621 400.675 189.769 402.828 Q187.94 404.981 187.94 408.731 Q187.94 412.458 189.769 414.634 Q191.621 416.787 194.769 416.787 Q197.917 416.787 199.746 414.634 Q201.598 412.458 201.598 408.731 Q201.598 404.981 199.746 402.828 Q197.917 400.675 194.769 400.675 M204.051 386.023 L204.051 390.282 Q202.292 389.449 200.487 389.009 Q198.704 388.569 196.945 388.569 Q192.315 388.569 189.862 391.694 Q187.431 394.819 187.084 401.138 Q188.45 399.125 190.51 398.06 Q192.57 396.972 195.047 396.972 Q200.255 396.972 203.264 400.143 Q206.297 403.291 206.297 408.731 Q206.297 414.055 203.149 417.273 Q200 420.49 194.769 420.49 Q188.774 420.49 185.602 415.907 Q182.431 411.3 182.431 402.574 Q182.431 394.379 186.32 389.518 Q190.209 384.634 196.76 384.634 Q198.519 384.634 200.301 384.981 Q202.107 385.328 204.051 386.023 Z\" fill=\"#000000\" fill-rule=\"nonzero\" fill-opacity=\"1\" /><path clip-path=\"url(#clip920)\" d=\"M224.352 388.338 Q220.741 388.338 218.912 391.902 Q217.107 395.444 217.107 402.574 Q217.107 409.68 218.912 413.245 Q220.741 416.787 224.352 416.787 Q227.986 416.787 229.792 413.245 Q231.621 409.68 231.621 402.574 Q231.621 395.444 229.792 391.902 Q227.986 388.338 224.352 388.338 M224.352 384.634 Q230.162 384.634 233.218 389.24 Q236.297 393.824 236.297 402.574 Q236.297 411.3 233.218 415.907 Q230.162 420.49 224.352 420.49 Q218.542 420.49 215.463 415.907 Q212.408 411.3 212.408 402.574 Q212.408 393.824 215.463 389.24 Q218.542 384.634 224.352 384.634 Z\" fill=\"#000000\" fill-rule=\"nonzero\" fill-opacity=\"1\" /><path clip-path=\"url(#clip920)\" d=\"M114.26 225.565 L143.936 225.565 L143.936 229.5 L114.26 229.5 L114.26 225.565 Z\" fill=\"#000000\" fill-rule=\"nonzero\" fill-opacity=\"1\" /><path clip-path=\"url(#clip920)\" d=\"M154.839 238.458 L162.477 238.458 L162.477 212.093 L154.167 213.759 L154.167 209.5 L162.431 207.833 L167.107 207.833 L167.107 238.458 L174.746 238.458 L174.746 242.393 L154.839 242.393 L154.839 238.458 Z\" fill=\"#000000\" fill-rule=\"nonzero\" fill-opacity=\"1\" /><path clip-path=\"url(#clip920)\" d=\"M197.037 211.907 L185.232 230.356 L197.037 230.356 L197.037 211.907 M195.811 207.833 L201.69 207.833 L201.69 230.356 L206.621 230.356 L206.621 234.245 L201.69 234.245 L201.69 242.393 L197.037 242.393 L197.037 234.245 L181.436 234.245 L181.436 229.731 L195.811 207.833 Z\" fill=\"#000000\" fill-rule=\"nonzero\" fill-opacity=\"1\" /><path clip-path=\"url(#clip920)\" d=\"M224.352 210.912 Q220.741 210.912 218.912 214.477 Q217.107 218.018 217.107 225.148 Q217.107 232.254 218.912 235.819 Q220.741 239.361 224.352 239.361 Q227.986 239.361 229.792 235.819 Q231.621 232.254 231.621 225.148 Q231.621 218.018 229.792 214.477 Q227.986 210.912 224.352 210.912 M224.352 207.208 Q230.162 207.208 233.218 211.815 Q236.297 216.398 236.297 225.148 Q236.297 233.875 233.218 238.481 Q230.162 243.065 224.352 243.065 Q218.542 243.065 215.463 238.481 Q212.408 233.875 212.408 225.148 Q212.408 216.398 215.463 211.815 Q218.542 207.208 224.352 207.208 Z\" fill=\"#000000\" fill-rule=\"nonzero\" fill-opacity=\"1\" /><path clip-path=\"url(#clip920)\" d=\"M114.26 48.139 L143.936 48.139 L143.936 52.0742 L114.26 52.0742 L114.26 48.139 Z\" fill=\"#000000\" fill-rule=\"nonzero\" fill-opacity=\"1\" /><path clip-path=\"url(#clip920)\" d=\"M154.839 61.0325 L162.477 61.0325 L162.477 34.6669 L154.167 36.3336 L154.167 32.0743 L162.431 30.4077 L167.107 30.4077 L167.107 61.0325 L174.746 61.0325 L174.746 64.9677 L154.839 64.9677 L154.839 61.0325 Z\" fill=\"#000000\" fill-rule=\"nonzero\" fill-opacity=\"1\" /><path clip-path=\"url(#clip920)\" d=\"M188.218 61.0325 L204.537 61.0325 L204.537 64.9677 L182.593 64.9677 L182.593 61.0325 Q185.255 58.2779 189.838 53.6483 Q194.445 48.9955 195.625 47.6529 Q197.871 45.1298 198.75 43.3937 Q199.653 41.6345 199.653 39.9446 Q199.653 37.19 197.709 35.4539 Q195.787 33.7178 192.686 33.7178 Q190.487 33.7178 188.033 34.4817 Q185.602 35.2456 182.825 36.7965 L182.825 32.0743 Q185.649 30.9401 188.102 30.3614 Q190.556 29.7827 192.593 29.7827 Q197.963 29.7827 201.158 32.4678 Q204.352 35.153 204.352 39.6437 Q204.352 41.7733 203.542 43.6946 Q202.755 45.5928 200.649 48.1853 Q200.07 48.8566 196.968 52.0742 Q193.866 55.2686 188.218 61.0325 Z\" fill=\"#000000\" fill-rule=\"nonzero\" fill-opacity=\"1\" /><path clip-path=\"url(#clip920)\" d=\"M224.352 33.4863 Q220.741 33.4863 218.912 37.0511 Q217.107 40.5928 217.107 47.7224 Q217.107 54.8288 218.912 58.3936 Q220.741 61.9353 224.352 61.9353 Q227.986 61.9353 229.792 58.3936 Q231.621 54.8288 231.621 47.7224 Q231.621 40.5928 229.792 37.0511 Q227.986 33.4863 224.352 33.4863 M224.352 29.7827 Q230.162 29.7827 233.218 34.3891 Q236.297 38.9724 236.297 47.7224 Q236.297 56.4492 233.218 61.0556 Q230.162 65.639 224.352 65.639 Q218.542 65.639 215.463 61.0556 Q212.408 56.4492 212.408 47.7224 Q212.408 38.9724 215.463 34.3891 Q218.542 29.7827 224.352 29.7827 Z\" fill=\"#000000\" fill-rule=\"nonzero\" fill-opacity=\"1\" /><path clip-path=\"url(#clip920)\" d=\"M14.479 818.714 L14.479 812.858 L64.0042 812.858 L64.0042 818.714 L14.479 818.714 Z\" fill=\"#000000\" fill-rule=\"nonzero\" fill-opacity=\"1\" /><path clip-path=\"url(#clip920)\" d=\"M32.4621 786.79 Q32.4621 791.501 36.1542 794.238 Q39.8145 796.975 46.212 796.975 Q52.6095 796.975 56.3017 794.27 Q59.9619 791.533 59.9619 786.79 Q59.9619 782.111 56.2698 779.374 Q52.5777 776.637 46.212 776.637 Q39.8781 776.637 36.186 779.374 Q32.4621 782.111 32.4621 786.79 M27.4968 786.79 Q27.4968 779.151 32.4621 774.791 Q37.4273 770.43 46.212 770.43 Q54.9649 770.43 59.9619 774.791 Q64.9272 779.151 64.9272 786.79 Q64.9272 794.461 59.9619 798.821 Q54.9649 803.15 46.212 803.15 Q37.4273 803.15 32.4621 798.821 Q27.4968 794.461 27.4968 786.79 Z\" fill=\"#000000\" fill-rule=\"nonzero\" fill-opacity=\"1\" /><path clip-path=\"url(#clip920)\" d=\"M45.7664 737.265 Q39.4007 737.265 35.8996 739.907 Q32.3984 742.517 32.3984 747.259 Q32.3984 751.97 35.8996 754.611 Q39.4007 757.221 45.7664 757.221 Q52.1003 757.221 55.6014 754.611 Q59.1026 751.97 59.1026 747.259 Q59.1026 742.517 55.6014 739.907 Q52.1003 737.265 45.7664 737.265 M59.58 731.408 Q68.683 731.408 73.1071 735.451 Q77.5631 739.493 77.5631 747.832 Q77.5631 750.919 77.0857 753.657 Q76.6401 756.394 75.6852 758.972 L69.9879 758.972 Q71.3884 756.394 72.0568 753.879 Q72.7252 751.365 72.7252 748.755 Q72.7252 742.994 69.7015 740.129 Q66.7096 737.265 60.6303 737.265 L57.7339 737.265 Q60.885 739.079 62.4446 741.912 Q64.0042 744.745 64.0042 748.691 Q64.0042 755.248 59.0071 759.258 Q54.01 763.269 45.7664 763.269 Q37.491 763.269 32.4939 759.258 Q27.4968 755.248 27.4968 748.691 Q27.4968 744.745 29.0564 741.912 Q30.616 739.079 33.7671 737.265 L28.3562 737.265 L28.3562 731.408 L59.58 731.408 Z\" fill=\"#000000\" fill-rule=\"nonzero\" fill-opacity=\"1\" /><path clip-path=\"url(#clip920)\" d=\"M14.479 719.345 L14.479 713.489 L64.0042 713.489 L64.0042 719.345 L14.479 719.345 Z\" fill=\"#000000\" fill-rule=\"nonzero\" fill-opacity=\"1\" /><path clip-path=\"url(#clip920)\" d=\"M28.3562 701.235 L28.3562 695.379 L64.0042 695.379 L64.0042 701.235 L28.3562 701.235 M14.479 701.235 L14.479 695.379 L21.895 695.379 L21.895 701.235 L14.479 701.235 Z\" fill=\"#000000\" fill-rule=\"nonzero\" fill-opacity=\"1\" /><path clip-path=\"url(#clip920)\" d=\"M14.479 683.347 L14.479 677.459 L43.7294 677.459 L28.3562 659.985 L28.3562 652.506 L45.0344 671.412 L64.0042 651.71 L64.0042 659.349 L46.5939 677.459 L64.0042 677.459 L64.0042 683.347 L14.479 683.347 Z\" fill=\"#000000\" fill-rule=\"nonzero\" fill-opacity=\"1\" /><polyline clip-path=\"url(#clip922)\" style=\"stroke:#0000ff; stroke-linecap:round; stroke-linejoin:round; stroke-width:4; stroke-opacity:1; fill:none\" points=\"366.863,79.2073 368.754,79.6649 370.646,80.0653 372.537,80.42 374.428,80.7375 376.32,81.0242 378.211,81.2849 380.102,81.5236 381.993,81.7433 383.885,81.9465 385.776,82.1354 387.667,82.3117 389.559,82.4767 391.45,82.6319 393.341,82.7782 395.233,82.9166 397.124,83.0478 399.015,83.1726 400.907,83.2915 402.798,83.4052 404.689,83.5141 406.581,83.6185 408.472,83.7191 410.363,83.8159 412.255,83.9094 414.146,83.9999 416.037,84.0876 417.929,84.1727 419.82,84.2555 421.711,84.3361 423.603,84.4147 425.494,84.4915 427.385,84.5666 429.277,84.6402 431.168,84.7123 433.059,84.7832 434.951,84.8529 436.842,84.9215 438.733,84.9891 440.625,85.0558 442.516,85.1217 444.407,85.1869 446.299,85.2513 448.19,85.3152 450.081,85.3785 451.973,85.4413 453.864,85.5037 455.755,85.5657 457.647,85.6274 459.538,85.6888 461.429,85.7499 463.321,85.8108 465.212,85.8715 467.103,85.9321 468.995,85.9926 470.886,86.0531 472.777,86.1135 474.668,86.1738 476.56,86.2342 478.451,86.2946 480.342,86.3551 482.234,86.4157 484.125,86.4763 486.016,86.5371 487.908,86.5981 489.799,86.6592 491.69,86.7205 493.582,86.782 495.473,86.8437 497.364,86.9056 499.256,86.9678 501.147,87.0302 503.038,87.0929 504.93,87.1559 506.821,87.2192 508.712,87.2827 510.604,87.3466 512.495,87.4108 514.386,87.4754 516.278,87.5403 518.169,87.6056 520.06,87.6712 521.952,87.7372 523.843,87.8035 525.734,87.8703 527.626,87.9374 529.517,88.0049 531.408,88.0729 533.3,88.1412 535.191,88.21 537.082,88.2792 538.974,88.3488 540.865,88.4189 542.756,88.4894 544.648,88.5603 546.539,88.6317 548.43,88.7035 550.322,88.7758 552.213,88.8485 554.104,88.9218 555.996,88.9954 557.887,89.0696 559.778,89.1442 561.67,89.2193 563.561,89.2949 565.452,89.3709 567.344,89.4474 569.235,89.5245 571.126,89.602 573.017,89.68 574.909,89.7585 576.8,89.8375 578.691,89.917 580.583,89.997 582.474,90.0775 584.365,90.1585 586.257,90.24 588.148,90.322 590.039,90.4045 591.931,90.4876 593.822,90.5711 595.713,90.6552 597.605,90.7398 599.496,90.8249 601.387,90.9105 603.279,90.9966 605.17,91.0833 607.061,91.1704 608.953,91.2581 610.844,91.3463 612.735,91.4351 614.627,91.5243 616.518,91.6141 618.409,91.7044 620.301,91.7953 622.192,91.8866 624.083,91.9785 625.975,92.071 627.866,92.1639 629.757,92.2574 631.649,92.3514 633.54,92.446 635.431,92.5411 637.323,92.6367 639.214,92.7328 641.105,92.8295 642.997,92.9267 644.888,93.0244 646.779,93.1227 648.671,93.2215 650.562,93.3209 652.453,93.4208 654.345,93.5212 656.236,93.6221 658.127,93.7236 660.019,93.8256 661.91,93.9282 663.801,94.0313 665.692,94.1349 667.584,94.2391 669.475,94.3438 671.366,94.4491 673.258,94.5549 675.149,94.6612 677.04,94.768 678.932,94.8754 680.823,94.9834 682.714,95.0918 684.606,95.2009 686.497,95.3104 688.388,95.4205 690.28,95.5311 692.171,95.6423 694.062,95.754 695.954,95.8663 697.845,95.979 699.736,96.0924 701.628,96.2062 703.519,96.3206 705.41,96.4356 707.302,96.5511 709.193,96.6671 711.084,96.7837 712.976,96.9008 714.867,97.0184 716.758,97.1366 718.65,97.2553 720.541,97.3746 722.432,97.4944 724.324,97.6147 726.215,97.7356 728.106,97.857 729.998,97.979 731.889,98.1015 733.78,98.2245 735.672,98.3481 737.563,98.4722 739.454,98.5969 741.346,98.7221 743.237,98.8478 745.128,98.9741 747.02,99.101 748.911,99.2283 750.802,99.3562 752.694,99.4847 754.585,99.6137 756.476,99.7432 758.368,99.8733 760.259,100.004 762.15,100.135 764.041,100.267 765.933,100.399 767.824,100.532 769.715,100.665 771.607,100.799 773.498,100.933 775.389,101.068 777.281,101.204 779.172,101.34 781.063,101.476 782.955,101.614 784.846,101.751 786.737,101.889 788.629,102.028 790.52,102.168 792.411,102.307 794.303,102.448 796.194,102.589 798.085,102.73 799.977,102.872 801.868,103.015 803.759,103.158 805.651,103.301 807.542,103.446 809.433,103.59 811.325,103.736 813.216,103.881 815.107,104.028 816.999,104.175 818.89,104.322 820.781,104.47 822.673,104.619 824.564,104.768 826.455,104.918 828.347,105.068 830.238,105.219 832.129,105.37 834.021,105.522 835.912,105.674 837.803,105.827 839.695,105.981 841.586,106.135 843.477,106.289 845.369,106.444 847.26,106.6 849.151,106.756 851.043,106.913 852.934,107.07 854.825,107.228 856.716,107.387 858.608,107.546 860.499,107.705 862.39,107.865 864.282,108.026 866.173,108.187 868.064,108.349 869.956,108.511 871.847,108.674 873.738,108.838 875.63,109.002 877.521,109.166 879.412,109.331 881.304,109.497 883.195,109.663 885.086,109.83 886.978,109.997 888.869,110.165 890.76,110.334 892.652,110.503 894.543,110.672 896.434,110.843 898.326,111.013 900.217,111.185 902.108,111.356 904,111.529 905.891,111.702 907.782,111.875 909.674,112.049 911.565,112.224 913.456,112.399 915.348,112.575 917.239,112.751 919.13,112.928 921.022,113.106 922.913,113.284 924.804,113.462 926.696,113.642 928.587,113.821 930.478,114.002 932.37,114.183 934.261,114.364 936.152,114.546 938.044,114.729 939.935,114.912 941.826,115.096 943.718,115.28 945.609,115.465 947.5,115.651 949.391,115.837 951.283,116.023 953.174,116.211 955.065,116.398 956.957,116.587 958.848,116.776 960.739,116.965 962.631,117.155 964.522,117.346 966.413,117.537 968.305,117.729 970.196,117.922 972.087,118.115 973.979,118.309 975.87,118.503 977.761,118.698 979.653,118.893 981.544,119.089 983.435,119.286 985.327,119.483 987.218,119.681 989.109,119.879 991.001,120.078 992.892,120.278 994.783,120.478 996.675,120.679 998.566,120.88 1000.46,121.082 1002.35,121.285 1004.24,121.488 1006.13,121.692 1008.02,121.896 1009.91,122.101 1011.81,122.307 1013.7,122.513 1015.59,122.72 1017.48,122.927 1019.37,123.135 1021.26,123.344 1023.15,123.553 1025.04,123.763 1026.94,123.973 1028.83,124.184 1030.72,124.396 1032.61,124.608 1034.5,124.821 1036.39,125.035 1038.28,125.249 1040.18,125.464 1042.07,125.679 1043.96,125.895 1045.85,126.112 1047.74,126.329 1049.63,126.547 1051.52,126.766 1053.41,126.985 1055.31,127.205 1057.2,127.425 1059.09,127.646 1060.98,127.868 1062.87,128.09 1064.76,128.313 1066.65,128.537 1068.55,128.761 1070.44,128.986 1072.33,129.212 1074.22,129.438 1076.11,129.665 1078,129.892 1079.89,130.12 1081.78,130.349 1083.68,130.578 1085.57,130.808 1087.46,131.039 1089.35,131.271 1091.24,131.503 1093.13,131.735 1095.02,131.969 1096.91,132.203 1098.81,132.437 1100.7,132.673 1102.59,132.909 1104.48,133.145 1106.37,133.383 1108.26,133.62 1110.15,133.859 1112.05,134.098 1113.94,134.338 1115.83,134.579 1117.72,134.82 1119.61,135.062 1121.5,135.305 1123.39,135.548 1125.28,135.793 1127.18,136.037 1129.07,136.283 1130.96,136.529 1132.85,136.776 1134.74,137.023 1136.63,137.271 1138.52,137.52 1140.42,137.77 1142.31,138.02 1144.2,138.271 1146.09,138.523 1147.98,138.775 1149.87,139.028 1151.76,139.282 1153.65,139.536 1155.55,139.791 1157.44,140.047 1159.33,140.304 1161.22,140.561 1163.11,140.819 1165,141.078 1166.89,141.337 1168.79,141.597 1170.68,141.858 1172.57,142.12 1174.46,142.382 1176.35,142.645 1178.24,142.909 1180.13,143.174 1182.02,143.439 1183.92,143.705 1185.81,143.972 1187.7,144.239 1189.59,144.507 1191.48,144.776 1193.37,145.046 1195.26,145.317 1197.16,145.588 1199.05,145.86 1200.94,146.132 1202.83,146.406 1204.72,146.68 1206.61,146.955 1208.5,147.231 1210.39,147.507 1212.29,147.785 1214.18,148.063 1216.07,148.341 1217.96,148.621 1219.85,148.901 1221.74,149.183 1223.63,149.465 1225.53,149.747 1227.42,150.031 1229.31,150.315 1231.2,150.6 1233.09,150.886 1234.98,151.173 1236.87,151.46 1238.76,151.748 1240.66,152.037 1242.55,152.327 1244.44,152.618 1246.33,152.909 1248.22,153.202 1250.11,153.495 1252,153.788 1253.9,154.083 1255.79,154.379 1257.68,154.675 1259.57,154.972 1261.46,155.27 1263.35,155.569 1265.24,155.869 1267.13,156.169 1269.03,156.471 1270.92,156.773 1272.81,157.076 1274.7,157.38 1276.59,157.685 1278.48,157.99 1280.37,158.297 1282.26,158.604 1284.16,158.912 1286.05,159.221 1287.94,159.531 1289.83,159.842 1291.72,160.153 1293.61,160.466 1295.5,160.779 1297.4,161.094 1299.29,161.409 1301.18,161.725 1303.07,162.042 1304.96,162.359 1306.85,162.678 1308.74,162.998 1310.63,163.318 1312.53,163.64 1314.42,163.962 1316.31,164.285 1318.2,164.609 1320.09,164.935 1321.98,165.261 1323.87,165.587 1325.77,165.915 1327.66,166.244 1329.55,166.574 1331.44,166.904 1333.33,167.236 1335.22,167.569 1337.11,167.902 1339,168.236 1340.9,168.572 1342.79,168.908 1344.68,169.245 1346.57,169.584 1348.46,169.923 1350.35,170.263 1352.24,170.604 1354.14,170.947 1356.03,171.29 1357.92,171.634 1359.81,171.979 1361.7,172.325 1363.59,172.672 1365.48,173.02 1367.37,173.369 1369.27,173.72 1371.16,174.071 1373.05,174.423 1374.94,174.776 1376.83,175.13 1378.72,175.485 1380.61,175.842 1382.51,176.199 1384.4,176.557 1386.29,176.917 1388.18,177.277 1390.07,177.639 1391.96,178.001 1393.85,178.365 1395.74,178.73 1397.64,179.095 1399.53,179.462 1401.42,179.83 1403.31,180.199 1405.2,180.569 1407.09,180.94 1408.98,181.313 1410.88,181.686 1412.77,182.06 1414.66,182.436 1416.55,182.813 1418.44,183.19 1420.33,183.569 1422.22,183.949 1424.11,184.331 1426.01,184.713 1427.9,185.096 1429.79,185.481 1431.68,185.867 1433.57,186.254 1435.46,186.642 1437.35,187.031 1439.25,187.422 1441.14,187.813 1443.03,188.206 1444.92,188.6 1446.81,188.995 1448.7,189.392 1450.59,189.789 1452.48,190.188 1454.38,190.588 1456.27,190.989 1458.16,191.392 1460.05,191.795 1461.94,192.2 1463.83,192.606 1465.72,193.014 1467.62,193.422 1469.51,193.832 1471.4,194.243 1473.29,194.656 1475.18,195.07 1477.07,195.485 1478.96,195.901 1480.85,196.318 1482.75,196.737 1484.64,197.157 1486.53,197.579 1488.42,198.002 1490.31,198.426 1492.2,198.851 1494.09,199.278 1495.98,199.706 1497.88,200.136 1499.77,200.567 1501.66,200.999 1503.55,201.432 1505.44,201.867 1507.33,202.304 1509.22,202.741 1511.12,203.18 1513.01,203.621 1514.9,204.063 1516.79,204.506 1518.68,204.951 1520.57,205.397 1522.46,205.845 1524.35,206.294 1526.25,206.744 1528.14,207.196 1530.03,207.65 1531.92,208.104 1533.81,208.561 1535.7,209.019 1537.59,209.478 1539.49,209.939 1541.38,210.401 1543.27,210.865 1545.16,211.331 1547.05,211.798 1548.94,212.266 1550.83,212.736 1552.72,213.208 1554.62,213.681 1556.51,214.155 1558.4,214.632 1560.29,215.11 1562.18,215.589 1564.07,216.07 1565.96,216.553 1567.86,217.037 1569.75,217.523 1571.64,218.011 1573.53,218.5 1575.42,218.991 1577.31,219.484 1579.2,219.978 1581.09,220.474 1582.99,220.971 1584.88,221.471 1586.77,221.972 1588.66,222.475 1590.55,222.979 1592.44,223.485 1594.33,223.993 1596.23,224.503 1598.12,225.015 1600.01,225.528 1601.9,226.043 1603.79,226.56 1605.68,227.079 1607.57,227.599 1609.46,228.122 1611.36,228.646 1613.25,229.172 1615.14,229.7 1617.03,230.23 1618.92,230.761 1620.81,231.295 1622.7,231.83 1624.6,232.368 1626.49,232.907 1628.38,233.448 1630.27,233.992 1632.16,234.537 1634.05,235.084 1635.94,235.633 1637.83,236.184 1639.73,236.738 1641.62,237.293 1643.51,237.85 1645.4,238.409 1647.29,238.971 1649.18,239.534 1651.07,240.1 1652.97,240.667 1654.86,241.237 1656.75,241.809 1658.64,242.383 1660.53,242.959 1662.42,243.537 1664.31,244.118 1666.2,244.701 1668.1,245.286 1669.99,245.873 1671.88,246.462 1673.77,247.054 1675.66,247.648 1677.55,248.244 1679.44,248.842 1681.33,249.443 1683.23,250.046 1685.12,250.651 1687.01,251.259 1688.9,251.869 1690.79,252.482 1692.68,253.097 1694.57,253.714 1696.47,254.334 1698.36,254.956 1700.25,255.581 1702.14,256.208 1704.03,256.838 1705.92,257.47 1707.81,258.105 1709.7,258.742 1711.6,259.382 1713.49,260.025 1715.38,260.67 1717.27,261.317 1719.16,261.968 1721.05,262.621 1722.94,263.277 1724.84,263.935 1726.73,264.596 1728.62,265.26 1730.51,265.927 1732.4,266.596 1734.29,267.268 1736.18,267.943 1738.07,268.621 1739.97,269.302 1741.86,269.985 1743.75,270.672 1745.64,271.361 1747.53,272.054 1749.42,272.749 1751.31,273.447 1753.21,274.148 1755.1,274.853 1756.99,275.56 1758.88,276.271 1760.77,276.984 1762.66,277.701 1764.55,278.421 1766.44,279.144 1768.34,279.87 1770.23,280.6 1772.12,281.332 1774.01,282.068 1775.9,282.808 1777.79,283.55 1779.68,284.296 1781.58,285.046 1783.47,285.798 1785.36,286.555 1787.25,287.314 1789.14,288.077 1791.03,288.844 1792.92,289.614 1794.81,290.388 1796.71,291.166 1798.6,291.947 1800.49,292.731 1802.38,293.52 1804.27,294.312 1806.16,295.108 1808.05,295.907 1809.95,296.711 1811.84,297.518 1813.73,298.329 1815.62,299.145 1817.51,299.964 1819.4,300.787 1821.29,301.614 1823.18,302.445 1825.08,303.28 1826.97,304.12 1828.86,304.963 1830.75,305.811 1832.64,306.663 1834.53,307.52 1836.42,308.38 1838.32,309.245 1840.21,310.115 1842.1,310.988 1843.99,311.867 1845.88,312.75 1847.77,313.637 1849.66,314.529 1851.55,315.426 1853.45,316.327 1855.34,317.233 1857.23,318.144 1859.12,319.06 1861.01,319.98 1862.9,320.906 1864.79,321.836 1866.68,322.771 1868.58,323.712 1870.47,324.658 1872.36,325.608 1874.25,326.564 1876.14,327.526 1878.03,328.492 1879.92,329.464 1881.82,330.442 1883.71,331.425 1885.6,332.413 1887.49,333.407 1889.38,334.407 1891.27,335.412 1893.16,336.423 1895.05,337.44 1896.95,338.463 1898.84,339.492 1900.73,340.527 1902.62,341.568 1904.51,342.615 1906.4,343.668 1908.29,344.728 1910.19,345.794 1912.08,346.866 1913.97,347.945 1915.86,349.031 1917.75,350.123 1919.64,351.222 1921.53,352.327 1923.42,353.44 1925.32,354.559 1927.21,355.686 1929.1,356.819 1930.99,357.96 1932.88,359.108 1934.77,360.264 1936.66,361.426 1938.56,362.597 1940.45,363.775 1942.34,364.961 1944.23,366.154 1946.12,367.356 1948.01,368.565 1949.9,369.783 1951.79,371.009 1953.69,372.243 1955.58,373.485 1957.47,374.736 1959.36,375.996 1961.25,377.264 1963.14,378.541 1965.03,379.828 1966.93,381.123 1968.82,382.427 1970.71,383.741 1972.6,385.065 1974.49,386.397 1976.38,387.74 1978.27,389.092 1980.16,390.455 1982.06,391.827 1983.95,393.21 1985.84,394.603 1987.73,396.007 1989.62,397.421 1991.51,398.846 1993.4,400.283 1995.3,401.73 1997.19,403.189 1999.08,404.659 2000.97,406.141 2002.86,407.634 2004.75,409.14 2006.64,410.658 2008.53,412.188 2010.43,413.731 2012.32,415.286 2014.21,416.855 2016.1,418.436 2017.99,420.031 2019.88,421.64 2021.77,423.262 2023.67,424.899 2025.56,426.549 2027.45,428.215 2029.34,429.894 2031.23,431.589 2033.12,433.299 2035.01,435.025 2036.9,436.766 2038.8,438.524 2040.69,440.297 2042.58,442.087 2044.47,443.895 2046.36,445.719 2048.25,447.561 2050.14,449.42 2052.03,451.298 2053.93,453.194 2055.82,455.109 2057.71,457.044 2059.6,458.997 2061.49,460.971 2063.38,462.965 2065.27,464.98 2067.17,467.016 2069.06,469.073 2070.95,471.152 2072.84,473.254 2074.73,475.379 2076.62,477.527 2078.51,479.699 2080.4,481.895 2082.3,484.117 2084.19,486.363 2086.08,488.636 2087.97,490.935 2089.86,493.262 2091.75,495.616 2093.64,497.999 2095.54,500.41 2097.43,502.852 2099.32,505.324 2101.21,507.827 2103.1,510.362 2104.99,512.93 2106.88,515.532 2108.77,518.168 2110.67,520.839 2112.56,523.547 2114.45,526.291 2116.34,529.074 2118.23,531.897 2120.12,534.759 2122.01,537.663 2123.91,540.609 2125.8,543.599 2127.69,546.634 2129.58,549.716 2131.47,552.845 2133.36,556.024 2135.25,559.253 2137.14,562.534 2139.04,565.87 2140.93,569.261 2142.82,572.709 2144.71,576.217 2146.6,579.786 2148.49,583.419 2150.38,587.117 2152.28,590.883 2154.17,594.72 2156.06,598.63 2157.95,602.616 2159.84,606.68 2161.73,610.826 2163.62,615.058 2165.51,619.377 2167.41,623.789 2169.3,628.297 2171.19,632.905 2173.08,637.618 2174.97,642.44 2176.86,647.376 2178.75,652.432 2180.65,657.614 2182.54,662.927 2184.43,668.378 2186.32,673.975 2188.21,679.726 2190.1,685.638 2191.99,691.721 2193.88,697.985 2195.78,704.441 2197.67,711.1 2199.56,717.976 2201.45,725.082 2203.34,732.435 2205.23,740.051 2207.12,747.949 2209.02,756.152 2210.91,764.683 2212.8,773.569 2214.69,782.84 2216.58,792.53 2218.47,802.679 2220.36,813.331 2222.25,824.538 2224.15,836.359 2226.04,848.866 2227.93,862.142 2229.82,876.285 2231.71,891.415 2233.6,907.68 2235.49,925.261 2237.38,944.386 2239.28,965.352 2241.17,988.547 2243.06,1014.5 2244.95,1043.94 2246.84,1077.95 2248.73,1118.22 2250.62,1167.53 2252.52,1231.16 2254.41,1320.91 2256.3,1474.46 \"/>\n",
       "<circle clip-path=\"url(#clip922)\" cx=\"366.863\" cy=\"79.2073\" r=\"14.4\" fill=\"#0000ff\" fill-rule=\"evenodd\" fill-opacity=\"1\" stroke=\"#000000\" stroke-opacity=\"1\" stroke-width=\"3.2\"/>\n",
       "<polyline clip-path=\"url(#clip922)\" style=\"stroke:#ff0000; stroke-linecap:round; stroke-linejoin:round; stroke-width:4; stroke-opacity:1; fill:none\" points=\"366.863,70.0436 368.754,70.5027 370.646,70.9048 372.537,71.2615 374.428,71.5813 376.32,71.8706 378.211,72.1341 380.102,72.3759 381.993,72.5989 383.885,72.8058 385.776,72.9985 387.667,73.1788 389.559,73.3483 391.45,73.508 393.341,73.6591 395.233,73.8024 397.124,73.9389 399.015,74.0691 400.907,74.1937 402.798,74.3132 404.689,74.4281 406.581,74.5389 408.472,74.6458 410.363,74.7493 412.255,74.8496 414.146,74.9471 416.037,75.0419 417.929,75.1343 419.82,75.2246 421.711,75.3128 423.603,75.3992 425.494,75.484 427.385,75.5672 429.277,75.6491 431.168,75.7297 433.059,75.8091 434.951,75.8875 436.842,75.9649 438.733,76.0415 440.625,76.1173 442.516,76.1924 444.407,76.2669 446.299,76.3409 448.19,76.4143 450.081,76.4874 451.973,76.56 453.864,76.6323 455.755,76.7044 457.647,76.7762 459.538,76.8478 461.429,76.9193 463.321,76.9907 465.212,77.062 467.103,77.1333 468.995,77.2045 470.886,77.2758 472.777,77.3471 474.668,77.4185 476.56,77.49 478.451,77.5616 480.342,77.6334 482.234,77.7053 484.125,77.7774 486.016,77.8497 487.908,77.9222 489.799,77.995 491.69,78.068 493.582,78.1413 495.473,78.2148 497.364,78.2887 499.256,78.3629 501.147,78.4374 503.038,78.5122 504.93,78.5873 506.821,78.6628 508.712,78.7387 510.604,78.815 512.495,78.8916 514.386,78.9686 516.278,79.046 518.169,79.1238 520.06,79.2021 521.952,79.2807 523.843,79.3598 525.734,79.4393 527.626,79.5192 529.517,79.5996 531.408,79.6804 533.3,79.7617 535.191,79.8434 537.082,79.9256 538.974,80.0083 540.865,80.0914 542.756,80.175 544.648,80.2591 546.539,80.3436 548.43,80.4287 550.322,80.5142 552.213,80.6002 554.104,80.6867 555.996,80.7737 557.887,80.8612 559.778,80.9492 561.67,81.0378 563.561,81.1268 565.452,81.2163 567.344,81.3063 569.235,81.3968 571.126,81.4879 573.017,81.5795 574.909,81.6715 576.8,81.7641 578.691,81.8573 580.583,81.9509 582.474,82.045 584.365,82.1397 586.257,82.2349 588.148,82.3306 590.039,82.4269 591.931,82.5236 593.822,82.6209 595.713,82.7188 597.605,82.8171 599.496,82.916 601.387,83.0154 603.279,83.1154 605.17,83.2158 607.061,83.3168 608.953,83.4184 610.844,83.5204 612.735,83.623 614.627,83.7261 616.518,83.8298 618.409,83.934 620.301,84.0387 622.192,84.144 624.083,84.2498 625.975,84.3561 627.866,84.463 629.757,84.5704 631.649,84.6783 633.54,84.7868 635.431,84.8958 637.323,85.0053 639.214,85.1154 641.105,85.226 642.997,85.3371 644.888,85.4488 646.779,85.561 648.671,85.6737 650.562,85.787 652.453,85.9008 654.345,86.0152 656.236,86.13 658.127,86.2454 660.019,86.3614 661.91,86.4779 663.801,86.5949 665.692,86.7124 667.584,86.8305 669.475,86.9491 671.366,87.0683 673.258,87.188 675.149,87.3082 677.04,87.4289 678.932,87.5502 680.823,87.672 682.714,87.7944 684.606,87.9173 686.497,88.0407 688.388,88.1646 690.28,88.2891 692.171,88.4141 694.062,88.5397 695.954,88.6657 697.845,88.7923 699.736,88.9195 701.628,89.0471 703.519,89.1753 705.41,89.3041 707.302,89.4333 709.193,89.5631 711.084,89.6934 712.976,89.8243 714.867,89.9557 716.758,90.0876 718.65,90.22 720.541,90.353 722.432,90.4865 724.324,90.6205 726.215,90.7551 728.106,90.8902 729.998,91.0258 731.889,91.1619 733.78,91.2986 735.672,91.4358 737.563,91.5736 739.454,91.7118 741.346,91.8506 743.237,91.9899 745.128,92.1298 747.02,92.2702 748.911,92.4111 750.802,92.5525 752.694,92.6945 754.585,92.837 756.476,92.98 758.368,93.1235 760.259,93.2676 762.15,93.4122 764.041,93.5573 765.933,93.703 767.824,93.8492 769.715,93.9959 771.607,94.1432 773.498,94.2909 775.389,94.4392 777.281,94.5881 779.172,94.7374 781.063,94.8873 782.955,95.0377 784.846,95.1887 786.737,95.3401 788.629,95.4921 790.52,95.6447 792.411,95.7977 794.303,95.9513 796.194,96.1054 798.085,96.2601 799.977,96.4152 801.868,96.5709 803.759,96.7272 805.651,96.8839 807.542,97.0412 809.433,97.199 811.325,97.3574 813.216,97.5162 815.107,97.6756 816.999,97.8356 818.89,97.996 820.781,98.157 822.673,98.3186 824.564,98.4806 826.455,98.6432 828.347,98.8063 830.238,98.97 832.129,99.1342 834.021,99.2989 835.912,99.4641 837.803,99.6299 839.695,99.7962 841.586,99.9631 843.477,100.13 845.369,100.298 847.26,100.467 849.151,100.636 851.043,100.805 852.934,100.975 854.825,101.146 856.716,101.317 858.608,101.489 860.499,101.661 862.39,101.834 864.282,102.007 866.173,102.181 868.064,102.355 869.956,102.53 871.847,102.705 873.738,102.881 875.63,103.058 877.521,103.235 879.412,103.412 881.304,103.59 883.195,103.769 885.086,103.948 886.978,104.128 888.869,104.308 890.76,104.489 892.652,104.67 894.543,104.852 896.434,105.035 898.326,105.218 900.217,105.401 902.108,105.585 904,105.77 905.891,105.955 907.782,106.141 909.674,106.327 911.565,106.514 913.456,106.701 915.348,106.889 917.239,107.078 919.13,107.267 921.022,107.456 922.913,107.646 924.804,107.837 926.696,108.028 928.587,108.22 930.478,108.412 932.37,108.605 934.261,108.799 936.152,108.993 938.044,109.187 939.935,109.382 941.826,109.578 943.718,109.774 945.609,109.971 947.5,110.168 949.391,110.366 951.283,110.565 953.174,110.764 955.065,110.963 956.957,111.163 958.848,111.364 960.739,111.565 962.631,111.767 964.522,111.97 966.413,112.173 968.305,112.376 970.196,112.58 972.087,112.785 973.979,112.99 975.87,113.196 977.761,113.402 979.653,113.609 981.544,113.817 983.435,114.025 985.327,114.234 987.218,114.443 989.109,114.653 991.001,114.863 992.892,115.074 994.783,115.286 996.675,115.498 998.566,115.71 1000.46,115.924 1002.35,116.138 1004.24,116.352 1006.13,116.567 1008.02,116.783 1009.91,116.999 1011.81,117.216 1013.7,117.433 1015.59,117.651 1017.48,117.87 1019.37,118.089 1021.26,118.309 1023.15,118.529 1025.04,118.75 1026.94,118.972 1028.83,119.194 1030.72,119.417 1032.61,119.64 1034.5,119.864 1036.39,120.089 1038.28,120.314 1040.18,120.54 1042.07,120.766 1043.96,120.993 1045.85,121.221 1047.74,121.449 1049.63,121.678 1051.52,121.907 1053.41,122.137 1055.31,122.368 1057.2,122.599 1059.09,122.831 1060.98,123.063 1062.87,123.297 1064.76,123.53 1066.65,123.765 1068.55,124 1070.44,124.235 1072.33,124.471 1074.22,124.708 1076.11,124.946 1078,125.184 1079.89,125.423 1081.78,125.662 1083.68,125.902 1085.57,126.143 1087.46,126.384 1089.35,126.626 1091.24,126.868 1093.13,127.112 1095.02,127.355 1096.91,127.6 1098.81,127.845 1100.7,128.091 1102.59,128.337 1104.48,128.584 1106.37,128.832 1108.26,129.08 1110.15,129.329 1112.05,129.579 1113.94,129.829 1115.83,130.08 1117.72,130.332 1119.61,130.584 1121.5,130.837 1123.39,131.091 1125.28,131.345 1127.18,131.6 1129.07,131.856 1130.96,132.112 1132.85,132.369 1134.74,132.627 1136.63,132.885 1138.52,133.144 1140.42,133.404 1142.31,133.664 1144.2,133.925 1146.09,134.187 1147.98,134.449 1149.87,134.712 1151.76,134.976 1153.65,135.24 1155.55,135.506 1157.44,135.771 1159.33,136.038 1161.22,136.305 1163.11,136.573 1165,136.842 1166.89,137.111 1168.79,137.381 1170.68,137.652 1172.57,137.923 1174.46,138.196 1176.35,138.469 1178.24,138.742 1180.13,139.016 1182.02,139.292 1183.92,139.567 1185.81,139.844 1187.7,140.121 1189.59,140.399 1191.48,140.678 1193.37,140.957 1195.26,141.237 1197.16,141.518 1199.05,141.8 1200.94,142.082 1202.83,142.365 1204.72,142.649 1206.61,142.933 1208.5,143.219 1210.39,143.505 1212.29,143.792 1214.18,144.079 1216.07,144.368 1217.96,144.657 1219.85,144.947 1221.74,145.237 1223.63,145.529 1225.53,145.821 1227.42,146.114 1229.31,146.407 1231.2,146.702 1233.09,146.997 1234.98,147.293 1236.87,147.59 1238.76,147.888 1240.66,148.186 1242.55,148.485 1244.44,148.785 1246.33,149.086 1248.22,149.387 1250.11,149.69 1252,149.993 1253.9,150.297 1255.79,150.602 1257.68,150.907 1259.57,151.214 1261.46,151.521 1263.35,151.829 1265.24,152.138 1267.13,152.447 1269.03,152.758 1270.92,153.069 1272.81,153.381 1274.7,153.694 1276.59,154.008 1278.48,154.323 1280.37,154.638 1282.26,154.955 1284.16,155.272 1286.05,155.59 1287.94,155.909 1289.83,156.229 1291.72,156.549 1293.61,156.871 1295.5,157.193 1297.4,157.516 1299.29,157.84 1301.18,158.165 1303.07,158.491 1304.96,158.818 1306.85,159.145 1308.74,159.474 1310.63,159.803 1312.53,160.133 1314.42,160.465 1316.31,160.797 1318.2,161.13 1320.09,161.464 1321.98,161.798 1323.87,162.134 1325.77,162.471 1327.66,162.808 1329.55,163.147 1331.44,163.486 1333.33,163.826 1335.22,164.167 1337.11,164.51 1339,164.853 1340.9,165.197 1342.79,165.542 1344.68,165.888 1346.57,166.235 1348.46,166.582 1350.35,166.931 1352.24,167.281 1354.14,167.632 1356.03,167.983 1357.92,168.336 1359.81,168.69 1361.7,169.044 1363.59,169.4 1365.48,169.757 1367.37,170.114 1369.27,170.473 1371.16,170.833 1373.05,171.193 1374.94,171.555 1376.83,171.917 1378.72,172.281 1380.61,172.646 1382.51,173.012 1384.4,173.378 1386.29,173.746 1388.18,174.115 1390.07,174.485 1391.96,174.856 1393.85,175.228 1395.74,175.601 1397.64,175.975 1399.53,176.35 1401.42,176.726 1403.31,177.103 1405.2,177.482 1407.09,177.861 1408.98,178.242 1410.88,178.623 1412.77,179.006 1414.66,179.39 1416.55,179.775 1418.44,180.161 1420.33,180.548 1422.22,180.936 1424.11,181.325 1426.01,181.716 1427.9,182.107 1429.79,182.5 1431.68,182.894 1433.57,183.289 1435.46,183.685 1437.35,184.083 1439.25,184.481 1441.14,184.881 1443.03,185.282 1444.92,185.684 1446.81,186.087 1448.7,186.491 1450.59,186.897 1452.48,187.304 1454.38,187.712 1456.27,188.121 1458.16,188.531 1460.05,188.943 1461.94,189.356 1463.83,189.77 1465.72,190.185 1467.62,190.602 1469.51,191.02 1471.4,191.439 1473.29,191.859 1475.18,192.281 1477.07,192.704 1478.96,193.128 1480.85,193.553 1482.75,193.98 1484.64,194.408 1486.53,194.837 1488.42,195.268 1490.31,195.7 1492.2,196.133 1494.09,196.568 1495.98,197.004 1497.88,197.441 1499.77,197.88 1501.66,198.32 1503.55,198.761 1505.44,199.204 1507.33,199.648 1509.22,200.093 1511.12,200.54 1513.01,200.988 1514.9,201.438 1516.79,201.889 1518.68,202.341 1520.57,202.795 1522.46,203.25 1524.35,203.707 1526.25,204.165 1528.14,204.625 1530.03,205.086 1531.92,205.548 1533.81,206.012 1535.7,206.478 1537.59,206.945 1539.49,207.413 1541.38,207.883 1543.27,208.354 1545.16,208.827 1547.05,209.302 1548.94,209.778 1550.83,210.255 1552.72,210.735 1554.62,211.215 1556.51,211.697 1558.4,212.181 1560.29,212.667 1562.18,213.154 1564.07,213.642 1565.96,214.132 1567.86,214.624 1569.75,215.118 1571.64,215.613 1573.53,216.109 1575.42,216.608 1577.31,217.108 1579.2,217.609 1581.09,218.113 1582.99,218.618 1584.88,219.124 1586.77,219.633 1588.66,220.143 1590.55,220.655 1592.44,221.168 1594.33,221.684 1596.23,222.201 1598.12,222.72 1600.01,223.24 1601.9,223.763 1603.79,224.287 1605.68,224.813 1607.57,225.341 1609.46,225.87 1611.36,226.402 1613.25,226.935 1615.14,227.471 1617.03,228.008 1618.92,228.547 1620.81,229.087 1622.7,229.63 1624.6,230.175 1626.49,230.721 1628.38,231.27 1630.27,231.82 1632.16,232.373 1634.05,232.927 1635.94,233.483 1637.83,234.042 1639.73,234.602 1641.62,235.164 1643.51,235.729 1645.4,236.295 1647.29,236.864 1649.18,237.434 1651.07,238.007 1652.97,238.582 1654.86,239.159 1656.75,239.738 1658.64,240.319 1660.53,240.902 1662.42,241.487 1664.31,242.075 1666.2,242.665 1668.1,243.257 1669.99,243.851 1671.88,244.447 1673.77,245.046 1675.66,245.647 1677.55,246.25 1679.44,246.856 1681.33,247.464 1683.23,248.074 1685.12,248.686 1687.01,249.301 1688.9,249.918 1690.79,250.538 1692.68,251.16 1694.57,251.784 1696.47,252.411 1698.36,253.04 1700.25,253.672 1702.14,254.306 1704.03,254.942 1705.92,255.582 1707.81,256.223 1709.7,256.868 1711.6,257.514 1713.49,258.164 1715.38,258.816 1717.27,259.47 1719.16,260.128 1721.05,260.788 1722.94,261.45 1724.84,262.115 1726.73,262.783 1728.62,263.454 1730.51,264.128 1732.4,264.804 1734.29,265.483 1736.18,266.165 1738.07,266.85 1739.97,267.537 1741.86,268.228 1743.75,268.921 1745.64,269.617 1747.53,270.316 1749.42,271.018 1751.31,271.724 1753.21,272.432 1755.1,273.143 1756.99,273.857 1758.88,274.574 1760.77,275.295 1762.66,276.018 1764.55,276.745 1766.44,277.475 1768.34,278.208 1770.23,278.944 1772.12,279.683 1774.01,280.426 1775.9,281.172 1777.79,281.921 1779.68,282.674 1781.58,283.43 1783.47,284.19 1785.36,284.953 1787.25,285.719 1789.14,286.489 1791.03,287.262 1792.92,288.039 1794.81,288.82 1796.71,289.604 1798.6,290.392 1800.49,291.183 1802.38,291.978 1804.27,292.777 1806.16,293.579 1808.05,294.386 1809.95,295.196 1811.84,296.01 1813.73,296.828 1815.62,297.65 1817.51,298.475 1819.4,299.305 1821.29,300.139 1823.18,300.977 1825.08,301.819 1826.97,302.665 1828.86,303.515 1830.75,304.369 1832.64,305.228 1834.53,306.091 1836.42,306.958 1838.32,307.83 1840.21,308.706 1842.1,309.586 1843.99,310.471 1845.88,311.36 1847.77,312.254 1849.66,313.153 1851.55,314.056 1853.45,314.964 1855.34,315.877 1857.23,316.794 1859.12,317.716 1861.01,318.643 1862.9,319.575 1864.79,320.512 1866.68,321.454 1868.58,322.401 1870.47,323.354 1872.36,324.311 1874.25,325.273 1876.14,326.241 1878.03,327.214 1879.92,328.193 1881.82,329.177 1883.71,330.166 1885.6,331.161 1887.49,332.162 1889.38,333.168 1891.27,334.18 1893.16,335.197 1895.05,336.221 1896.95,337.25 1898.84,338.286 1900.73,339.327 1902.62,340.374 1904.51,341.428 1906.4,342.488 1908.29,343.554 1910.19,344.626 1912.08,345.705 1913.97,346.791 1915.86,347.883 1917.75,348.981 1919.64,350.086 1921.53,351.198 1923.42,352.317 1925.32,353.443 1927.21,354.576 1929.1,355.716 1930.99,356.863 1932.88,358.018 1934.77,359.18 1936.66,360.349 1938.56,361.526 1940.45,362.71 1942.34,363.902 1944.23,365.102 1946.12,366.31 1948.01,367.526 1949.9,368.75 1951.79,369.982 1953.69,371.223 1955.58,372.472 1957.47,373.729 1959.36,374.995 1961.25,376.27 1963.14,377.554 1965.03,378.846 1966.93,380.148 1968.82,381.459 1970.71,382.779 1972.6,384.109 1974.49,385.448 1976.38,386.797 1978.27,388.156 1980.16,389.524 1982.06,390.903 1983.95,392.292 1985.84,393.692 1987.73,395.102 1989.62,396.523 1991.51,397.954 1993.4,399.397 1995.3,400.851 1997.19,402.316 1999.08,403.792 2000.97,405.28 2002.86,406.78 2004.75,408.292 2006.64,409.816 2008.53,411.353 2010.43,412.902 2012.32,414.464 2014.21,416.039 2016.1,417.627 2017.99,419.228 2019.88,420.843 2021.77,422.472 2023.67,424.115 2025.56,425.772 2027.45,427.443 2029.34,429.129 2031.23,430.83 2033.12,432.547 2035.01,434.279 2036.9,436.026 2038.8,437.79 2040.69,439.57 2042.58,441.367 2044.47,443.18 2046.36,445.011 2048.25,446.859 2050.14,448.725 2052.03,450.609 2053.93,452.511 2055.82,454.433 2057.71,456.373 2059.6,458.333 2061.49,460.313 2063.38,462.314 2065.27,464.335 2067.17,466.377 2069.06,468.441 2070.95,470.526 2072.84,472.634 2074.73,474.765 2076.62,476.92 2078.51,479.098 2080.4,481.301 2082.3,483.528 2084.19,485.781 2086.08,488.06 2087.97,490.366 2089.86,492.699 2091.75,495.059 2093.64,497.448 2095.54,499.866 2097.43,502.314 2099.32,504.792 2101.21,507.302 2103.1,509.843 2104.99,512.418 2106.88,515.025 2108.77,517.668 2110.67,520.345 2112.56,523.059 2114.45,525.81 2116.34,528.6 2118.23,531.428 2120.12,534.297 2122.01,537.207 2123.91,540.16 2125.8,543.156 2127.69,546.197 2129.58,549.285 2131.47,552.421 2133.36,555.606 2135.25,558.841 2137.14,562.129 2139.04,565.47 2140.93,568.868 2142.82,572.322 2144.71,575.836 2146.6,579.412 2148.49,583.051 2150.38,586.756 2152.28,590.528 2154.17,594.371 2156.06,598.288 2157.95,602.28 2159.84,606.35 2161.73,610.503 2163.62,614.741 2165.51,619.067 2167.41,623.485 2169.3,627.999 2171.19,632.613 2173.08,637.332 2174.97,642.161 2176.86,647.103 2178.75,652.165 2180.65,657.353 2182.54,662.673 2184.43,668.131 2186.32,673.734 2188.21,679.491 2190.1,685.409 2191.99,691.499 2193.88,697.769 2195.78,704.231 2197.67,710.897 2199.56,717.779 2201.45,724.891 2203.34,732.25 2205.23,739.873 2207.12,747.778 2209.02,755.987 2210.91,764.524 2212.8,773.417 2214.69,782.694 2216.58,792.391 2218.47,802.546 2220.36,813.204 2222.25,824.417 2224.15,836.245 2226.04,848.758 2227.93,862.04 2229.82,876.189 2231.71,891.326 2233.6,907.597 2235.49,925.184 2237.38,944.316 2239.28,965.289 2241.17,988.49 2243.06,1014.45 2244.95,1043.89 2246.84,1077.91 2248.73,1118.18 2250.62,1167.5 2252.52,1231.14 2254.41,1320.9 2256.3,1474.46 \"/>\n",
       "<circle clip-path=\"url(#clip922)\" cx=\"366.863\" cy=\"70.0436\" r=\"14.4\" fill=\"#ff0000\" fill-rule=\"evenodd\" fill-opacity=\"1\" stroke=\"#000000\" stroke-opacity=\"1\" stroke-width=\"3.2\"/>\n",
       "<polyline clip-path=\"url(#clip922)\" style=\"stroke:#0000ff; stroke-linecap:round; stroke-linejoin:round; stroke-width:4; stroke-opacity:1; fill:none\" stroke-dasharray=\"16, 10\" points=\"366.863,1423.18 366.863,79.2073 \"/>\n",
       "<polyline clip-path=\"url(#clip922)\" style=\"stroke:#0000ff; stroke-linecap:round; stroke-linejoin:round; stroke-width:4; stroke-opacity:1; fill:none\" stroke-dasharray=\"16, 10\" points=\"272.297,79.2073 366.863,79.2073 \"/>\n",
       "<polyline clip-path=\"url(#clip922)\" style=\"stroke:#ff0000; stroke-linecap:round; stroke-linejoin:round; stroke-width:4; stroke-opacity:1; fill:none\" stroke-dasharray=\"16, 10\" points=\"366.863,1423.18 366.863,70.0436 \"/>\n",
       "<polyline clip-path=\"url(#clip922)\" style=\"stroke:#ff0000; stroke-linecap:round; stroke-linejoin:round; stroke-width:4; stroke-opacity:1; fill:none\" stroke-dasharray=\"16, 10\" points=\"272.297,70.0436 366.863,70.0436 \"/>\n",
       "<path clip-path=\"url(#clip920)\" d=\"M341.645 1377.32 L807.19 1377.32 L807.19 1118.12 L341.645 1118.12  Z\" fill=\"#ffffff\" fill-rule=\"evenodd\" fill-opacity=\"1\"/>\n",
       "<polyline clip-path=\"url(#clip920)\" style=\"stroke:#000000; stroke-linecap:round; stroke-linejoin:round; stroke-width:4; stroke-opacity:1; fill:none\" points=\"341.645,1377.32 807.19,1377.32 807.19,1118.12 341.645,1118.12 341.645,1377.32 \"/>\n",
       "<polyline clip-path=\"url(#clip920)\" style=\"stroke:#0000ff; stroke-linecap:round; stroke-linejoin:round; stroke-width:4; stroke-opacity:1; fill:none\" points=\"364.761,1169.96 503.459,1169.96 \"/>\n",
       "<path clip-path=\"url(#clip920)\" d=\"M526.575 1152.68 L532.871 1152.68 L548.195 1181.59 L548.195 1152.68 L552.732 1152.68 L552.732 1187.24 L546.436 1187.24 L531.112 1158.32 L531.112 1187.24 L526.575 1187.24 L526.575 1152.68 Z\" fill=\"#000000\" fill-rule=\"nonzero\" fill-opacity=\"1\" /><path clip-path=\"url(#clip920)\" d=\"M561.413 1177 L561.413 1161.31 L565.672 1161.31 L565.672 1176.84 Q565.672 1180.52 567.107 1182.37 Q568.542 1184.2 571.413 1184.2 Q574.862 1184.2 576.852 1182 Q578.866 1179.8 578.866 1176.01 L578.866 1161.31 L583.126 1161.31 L583.126 1187.24 L578.866 1187.24 L578.866 1183.25 Q577.315 1185.61 575.255 1186.77 Q573.218 1187.91 570.51 1187.91 Q566.042 1187.91 563.727 1185.13 Q561.413 1182.35 561.413 1177 M572.13 1160.68 L572.13 1160.68 Z\" fill=\"#000000\" fill-rule=\"nonzero\" fill-opacity=\"1\" /><path clip-path=\"url(#clip920)\" d=\"M591.899 1151.22 L596.158 1151.22 L596.158 1187.24 L591.899 1187.24 L591.899 1151.22 Z\" fill=\"#000000\" fill-rule=\"nonzero\" fill-opacity=\"1\" /><path clip-path=\"url(#clip920)\" d=\"M605.07 1151.22 L609.329 1151.22 L609.329 1187.24 L605.07 1187.24 L605.07 1151.22 Z\" fill=\"#000000\" fill-rule=\"nonzero\" fill-opacity=\"1\" /><circle clip-path=\"url(#clip920)\" cx=\"434.11\" cy=\"1221.8\" r=\"20.48\" fill=\"#0000ff\" fill-rule=\"evenodd\" fill-opacity=\"1\" stroke=\"#000000\" stroke-opacity=\"1\" stroke-width=\"4.55111\"/>\n",
       "<path clip-path=\"url(#clip920)\" d=\"M546.922 1218.13 Q548.519 1215.26 550.741 1213.89 Q552.964 1212.52 555.973 1212.52 Q560.024 1212.52 562.223 1215.37 Q564.422 1218.2 564.422 1223.43 L564.422 1239.08 L560.14 1239.08 L560.14 1223.57 Q560.14 1219.84 558.82 1218.03 Q557.501 1216.23 554.792 1216.23 Q551.482 1216.23 549.561 1218.43 Q547.64 1220.63 547.64 1224.42 L547.64 1239.08 L543.357 1239.08 L543.357 1223.57 Q543.357 1219.82 542.038 1218.03 Q540.718 1216.23 537.964 1216.23 Q534.7 1216.23 532.779 1218.45 Q530.857 1220.65 530.857 1224.42 L530.857 1239.08 L526.575 1239.08 L526.575 1213.15 L530.857 1213.15 L530.857 1217.18 Q532.316 1214.79 534.353 1213.66 Q536.39 1212.52 539.191 1212.52 Q542.015 1212.52 543.982 1213.96 Q545.973 1215.39 546.922 1218.13 Z\" fill=\"#000000\" fill-rule=\"nonzero\" fill-opacity=\"1\" /><path clip-path=\"url(#clip920)\" d=\"M584.7 1226.04 Q579.538 1226.04 577.547 1227.22 Q575.556 1228.4 575.556 1231.25 Q575.556 1233.52 577.038 1234.86 Q578.542 1236.18 581.112 1236.18 Q584.653 1236.18 586.783 1233.68 Q588.936 1231.16 588.936 1226.99 L588.936 1226.04 L584.7 1226.04 M593.195 1224.28 L593.195 1239.08 L588.936 1239.08 L588.936 1235.14 Q587.477 1237.5 585.301 1238.64 Q583.126 1239.75 579.977 1239.75 Q575.996 1239.75 573.635 1237.52 Q571.297 1235.28 571.297 1231.53 Q571.297 1227.15 574.214 1224.93 Q577.153 1222.71 582.963 1222.71 L588.936 1222.71 L588.936 1222.29 Q588.936 1219.35 586.991 1217.76 Q585.07 1216.14 581.575 1216.14 Q579.352 1216.14 577.246 1216.67 Q575.139 1217.2 573.195 1218.27 L573.195 1214.33 Q575.533 1213.43 577.732 1212.99 Q579.931 1212.52 582.014 1212.52 Q587.639 1212.52 590.417 1215.44 Q593.195 1218.36 593.195 1224.28 Z\" fill=\"#000000\" fill-rule=\"nonzero\" fill-opacity=\"1\" /><path clip-path=\"url(#clip920)\" d=\"M623.519 1213.15 L614.144 1225.77 L624.005 1239.08 L618.982 1239.08 L611.436 1228.89 L603.889 1239.08 L598.866 1239.08 L608.936 1225.51 L599.723 1213.15 L604.746 1213.15 L611.621 1222.39 L618.496 1213.15 L623.519 1213.15 Z\" fill=\"#000000\" fill-rule=\"nonzero\" fill-opacity=\"1\" /><path clip-path=\"url(#clip920)\" d=\"M630.209 1204.52 L634.885 1204.52 L634.885 1235.14 L651.713 1235.14 L651.713 1239.08 L630.209 1239.08 L630.209 1204.52 Z\" fill=\"#000000\" fill-rule=\"nonzero\" fill-opacity=\"1\" /><path clip-path=\"url(#clip920)\" d=\"M656.621 1204.52 L661.296 1204.52 L661.296 1235.14 L678.125 1235.14 L678.125 1239.08 L656.621 1239.08 L656.621 1204.52 Z\" fill=\"#000000\" fill-rule=\"nonzero\" fill-opacity=\"1\" /><path clip-path=\"url(#clip920)\" d=\"M702.546 1246.95 L702.546 1250.26 L677.917 1250.26 L677.917 1246.95 L702.546 1246.95 Z\" fill=\"#000000\" fill-rule=\"nonzero\" fill-opacity=\"1\" /><path clip-path=\"url(#clip920)\" d=\"M728.102 1223.43 L728.102 1239.08 L723.842 1239.08 L723.842 1223.57 Q723.842 1219.89 722.407 1218.06 Q720.972 1216.23 718.102 1216.23 Q714.653 1216.23 712.662 1218.43 Q710.671 1220.63 710.671 1224.42 L710.671 1239.08 L706.389 1239.08 L706.389 1213.15 L710.671 1213.15 L710.671 1217.18 Q712.199 1214.84 714.259 1213.68 Q716.342 1212.52 719.051 1212.52 Q723.518 1212.52 725.81 1215.3 Q728.102 1218.06 728.102 1223.43 Z\" fill=\"#000000\" fill-rule=\"nonzero\" fill-opacity=\"1\" /><path clip-path=\"url(#clip920)\" d=\"M736.157 1228.84 L736.157 1213.15 L740.416 1213.15 L740.416 1228.68 Q740.416 1232.36 741.852 1234.21 Q743.287 1236.04 746.157 1236.04 Q749.606 1236.04 751.597 1233.84 Q753.611 1231.64 753.611 1227.85 L753.611 1213.15 L757.87 1213.15 L757.87 1239.08 L753.611 1239.08 L753.611 1235.09 Q752.06 1237.45 750 1238.61 Q747.963 1239.75 745.254 1239.75 Q740.787 1239.75 738.472 1236.97 Q736.157 1234.19 736.157 1228.84 M746.875 1212.52 L746.875 1212.52 Z\" fill=\"#000000\" fill-rule=\"nonzero\" fill-opacity=\"1\" /><path clip-path=\"url(#clip920)\" d=\"M766.643 1203.06 L770.902 1203.06 L770.902 1239.08 L766.643 1239.08 L766.643 1203.06 Z\" fill=\"#000000\" fill-rule=\"nonzero\" fill-opacity=\"1\" /><path clip-path=\"url(#clip920)\" d=\"M779.814 1203.06 L784.074 1203.06 L784.074 1239.08 L779.814 1239.08 L779.814 1203.06 Z\" fill=\"#000000\" fill-rule=\"nonzero\" fill-opacity=\"1\" /><polyline clip-path=\"url(#clip920)\" style=\"stroke:#ff0000; stroke-linecap:round; stroke-linejoin:round; stroke-width:4; stroke-opacity:1; fill:none\" points=\"364.761,1273.64 503.459,1273.64 \"/>\n",
       "<path clip-path=\"url(#clip920)\" d=\"M542.408 1260.96 L536.066 1278.16 L548.774 1278.16 L542.408 1260.96 M539.769 1256.36 L545.07 1256.36 L558.241 1290.92 L553.38 1290.92 L550.232 1282.05 L534.654 1282.05 L531.505 1290.92 L526.575 1290.92 L539.769 1256.36 Z\" fill=\"#000000\" fill-rule=\"nonzero\" fill-opacity=\"1\" /><path clip-path=\"url(#clip920)\" d=\"M563.102 1254.9 L567.362 1254.9 L567.362 1290.92 L563.102 1290.92 L563.102 1254.9 Z\" fill=\"#000000\" fill-rule=\"nonzero\" fill-opacity=\"1\" /><path clip-path=\"url(#clip920)\" d=\"M580.487 1257.63 L580.487 1264.99 L589.26 1264.99 L589.26 1268.3 L580.487 1268.3 L580.487 1282.37 Q580.487 1285.54 581.343 1286.45 Q582.223 1287.35 584.885 1287.35 L589.26 1287.35 L589.26 1290.92 L584.885 1290.92 Q579.954 1290.92 578.079 1289.09 Q576.204 1287.23 576.204 1282.37 L576.204 1268.3 L573.079 1268.3 L573.079 1264.99 L576.204 1264.99 L576.204 1257.63 L580.487 1257.63 Z\" fill=\"#000000\" fill-rule=\"nonzero\" fill-opacity=\"1\" /><path clip-path=\"url(#clip920)\" d=\"M614.561 1298.79 L614.561 1302.1 L589.931 1302.1 L589.931 1298.79 L614.561 1298.79 Z\" fill=\"#000000\" fill-rule=\"nonzero\" fill-opacity=\"1\" /><path clip-path=\"url(#clip920)\" d=\"M633.334 1272.28 Q636.69 1273 638.565 1275.27 Q640.463 1277.54 640.463 1280.87 Q640.463 1285.98 636.945 1288.79 Q633.426 1291.59 626.945 1291.59 Q624.769 1291.59 622.454 1291.15 Q620.162 1290.73 617.709 1289.87 L617.709 1285.36 Q619.653 1286.49 621.968 1287.07 Q624.283 1287.65 626.806 1287.65 Q631.204 1287.65 633.496 1285.92 Q635.81 1284.18 635.81 1280.87 Q635.81 1277.81 633.658 1276.1 Q631.528 1274.36 627.709 1274.36 L623.681 1274.36 L623.681 1270.52 L627.894 1270.52 Q631.343 1270.52 633.172 1269.16 Q635 1267.77 635 1265.17 Q635 1262.51 633.102 1261.1 Q631.227 1259.67 627.709 1259.67 Q625.787 1259.67 623.588 1260.08 Q621.389 1260.5 618.75 1261.38 L618.75 1257.21 Q621.412 1256.47 623.727 1256.1 Q626.065 1255.73 628.125 1255.73 Q633.449 1255.73 636.551 1258.16 Q639.653 1260.57 639.653 1264.69 Q639.653 1267.56 638.009 1269.55 Q636.366 1271.52 633.334 1272.28 Z\" fill=\"#000000\" fill-rule=\"nonzero\" fill-opacity=\"1\" /><circle clip-path=\"url(#clip920)\" cx=\"434.11\" cy=\"1325.48\" r=\"20.48\" fill=\"#ff0000\" fill-rule=\"evenodd\" fill-opacity=\"1\" stroke=\"#000000\" stroke-opacity=\"1\" stroke-width=\"4.55111\"/>\n",
       "<path clip-path=\"url(#clip920)\" d=\"M546.922 1321.81 Q548.519 1318.94 550.741 1317.57 Q552.964 1316.2 555.973 1316.2 Q560.024 1316.2 562.223 1319.05 Q564.422 1321.88 564.422 1327.11 L564.422 1342.76 L560.14 1342.76 L560.14 1327.25 Q560.14 1323.52 558.82 1321.71 Q557.501 1319.91 554.792 1319.91 Q551.482 1319.91 549.561 1322.11 Q547.64 1324.31 547.64 1328.1 L547.64 1342.76 L543.357 1342.76 L543.357 1327.25 Q543.357 1323.5 542.038 1321.71 Q540.718 1319.91 537.964 1319.91 Q534.7 1319.91 532.779 1322.13 Q530.857 1324.33 530.857 1328.1 L530.857 1342.76 L526.575 1342.76 L526.575 1316.83 L530.857 1316.83 L530.857 1320.86 Q532.316 1318.47 534.353 1317.34 Q536.39 1316.2 539.191 1316.2 Q542.015 1316.2 543.982 1317.64 Q545.973 1319.07 546.922 1321.81 Z\" fill=\"#000000\" fill-rule=\"nonzero\" fill-opacity=\"1\" /><path clip-path=\"url(#clip920)\" d=\"M584.7 1329.72 Q579.538 1329.72 577.547 1330.9 Q575.556 1332.08 575.556 1334.93 Q575.556 1337.2 577.038 1338.54 Q578.542 1339.86 581.112 1339.86 Q584.653 1339.86 586.783 1337.36 Q588.936 1334.84 588.936 1330.67 L588.936 1329.72 L584.7 1329.72 M593.195 1327.96 L593.195 1342.76 L588.936 1342.76 L588.936 1338.82 Q587.477 1341.18 585.301 1342.32 Q583.126 1343.43 579.977 1343.43 Q575.996 1343.43 573.635 1341.2 Q571.297 1338.96 571.297 1335.21 Q571.297 1330.83 574.214 1328.61 Q577.153 1326.39 582.963 1326.39 L588.936 1326.39 L588.936 1325.97 Q588.936 1323.03 586.991 1321.44 Q585.07 1319.82 581.575 1319.82 Q579.352 1319.82 577.246 1320.35 Q575.139 1320.88 573.195 1321.95 L573.195 1318.01 Q575.533 1317.11 577.732 1316.67 Q579.931 1316.2 582.014 1316.2 Q587.639 1316.2 590.417 1319.12 Q593.195 1322.04 593.195 1327.96 Z\" fill=\"#000000\" fill-rule=\"nonzero\" fill-opacity=\"1\" /><path clip-path=\"url(#clip920)\" d=\"M623.519 1316.83 L614.144 1329.45 L624.005 1342.76 L618.982 1342.76 L611.436 1332.57 L603.889 1342.76 L598.866 1342.76 L608.936 1329.19 L599.723 1316.83 L604.746 1316.83 L611.621 1326.07 L618.496 1316.83 L623.519 1316.83 Z\" fill=\"#000000\" fill-rule=\"nonzero\" fill-opacity=\"1\" /><path clip-path=\"url(#clip920)\" d=\"M630.209 1308.2 L634.885 1308.2 L634.885 1338.82 L651.713 1338.82 L651.713 1342.76 L630.209 1342.76 L630.209 1308.2 Z\" fill=\"#000000\" fill-rule=\"nonzero\" fill-opacity=\"1\" /><path clip-path=\"url(#clip920)\" d=\"M656.621 1308.2 L661.296 1308.2 L661.296 1338.82 L678.125 1338.82 L678.125 1342.76 L656.621 1342.76 L656.621 1308.2 Z\" fill=\"#000000\" fill-rule=\"nonzero\" fill-opacity=\"1\" /><path clip-path=\"url(#clip920)\" d=\"M702.546 1350.63 L702.546 1353.94 L677.917 1353.94 L677.917 1350.63 L702.546 1350.63 Z\" fill=\"#000000\" fill-rule=\"nonzero\" fill-opacity=\"1\" /><path clip-path=\"url(#clip920)\" d=\"M718.333 1329.72 Q713.171 1329.72 711.18 1330.9 Q709.19 1332.08 709.19 1334.93 Q709.19 1337.2 710.671 1338.54 Q712.176 1339.86 714.745 1339.86 Q718.287 1339.86 720.416 1337.36 Q722.569 1334.84 722.569 1330.67 L722.569 1329.72 L718.333 1329.72 M726.828 1327.96 L726.828 1342.76 L722.569 1342.76 L722.569 1338.82 Q721.111 1341.18 718.935 1342.32 Q716.759 1343.43 713.611 1343.43 Q709.629 1343.43 707.268 1341.2 Q704.93 1338.96 704.93 1335.21 Q704.93 1330.83 707.847 1328.61 Q710.787 1326.39 716.597 1326.39 L722.569 1326.39 L722.569 1325.97 Q722.569 1323.03 720.625 1321.44 Q718.704 1319.82 715.208 1319.82 Q712.986 1319.82 710.879 1320.35 Q708.773 1320.88 706.829 1321.95 L706.829 1318.01 Q709.167 1317.11 711.366 1316.67 Q713.565 1316.2 715.648 1316.2 Q721.273 1316.2 724.051 1319.12 Q726.828 1322.04 726.828 1327.96 Z\" fill=\"#000000\" fill-rule=\"nonzero\" fill-opacity=\"1\" /><path clip-path=\"url(#clip920)\" d=\"M735.602 1306.74 L739.861 1306.74 L739.861 1342.76 L735.602 1342.76 L735.602 1306.74 Z\" fill=\"#000000\" fill-rule=\"nonzero\" fill-opacity=\"1\" /><path clip-path=\"url(#clip920)\" d=\"M752.986 1309.47 L752.986 1316.83 L761.759 1316.83 L761.759 1320.14 L752.986 1320.14 L752.986 1334.21 Q752.986 1337.38 753.842 1338.29 Q754.722 1339.19 757.384 1339.19 L761.759 1339.19 L761.759 1342.76 L757.384 1342.76 Q752.453 1342.76 750.578 1340.93 Q748.703 1339.07 748.703 1334.21 L748.703 1320.14 L745.578 1320.14 L745.578 1316.83 L748.703 1316.83 L748.703 1309.47 L752.986 1309.47 Z\" fill=\"#000000\" fill-rule=\"nonzero\" fill-opacity=\"1\" /><g clip-path=\"url(#clip920)\">\n",
       "<text style=\"fill:#0000ff; fill-opacity:1; font-family:Century Gothic,CenturyGothic,AppleGothic,sans-serif; font-size:47px; text-anchor:middle;\" transform=\"rotate(0, 366.863, 1440.68)\" x=\"366.863\" y=\"1440.68\">0.0</text>\n",
       "</g>\n",
       "<g clip-path=\"url(#clip920)\">\n",
       "<text style=\"fill:#ff0000; fill-opacity:1; font-family:Century Gothic,CenturyGothic,AppleGothic,sans-serif; font-size:47px; text-anchor:middle;\" transform=\"rotate(0, 366.863, 1440.68)\" x=\"366.863\" y=\"1440.68\">0.0</text>\n",
       "</g>\n",
       "</svg>\n"
      ]
     },
     "metadata": {},
     "output_type": "display_data"
    },
    {
     "name": "stdout",
     "output_type": "stream",
     "text": [
      " 11.792717 seconds (21.90 M allocations: 1.302 GiB, 5.00% gc time, 95.89% compilation time: 13% of which was recompilation)\n"
     ]
    },
    {
     "name": "stderr",
     "output_type": "stream",
     "text": [
      "GKS: could not find font below.ttf\n"
     ]
    }
   ],
   "source": [
    "@time scan_results_ind = scan(lpst_ind_y, geno_ind, kinship_ind_from_strains;\n",
    "                              prior_variance = prior[1], prior_sample_size = prior[2],\n",
    "                              plot_loglik = true, markerID = 3, h2_grid = collect(0.0:999).*0.001,\n",
    "                              x_lims = [0.0, 1.0], y_lims = [-275, -120.0]);"
   ]
  },
  {
   "cell_type": "code",
   "execution_count": 30,
   "id": "b2dcd33a-1d17-466f-98d5-2d13cba44825",
   "metadata": {},
   "outputs": [],
   "source": [
    "BLAS.set_num_threads(Threads.nthreads())"
   ]
  },
  {
   "cell_type": "code",
   "execution_count": 31,
   "id": "8e2671d3-bfc1-4541-b841-6a178b77a950",
   "metadata": {},
   "outputs": [
    {
     "data": {
      "text/plain": [
       "1"
      ]
     },
     "execution_count": 31,
     "metadata": {},
     "output_type": "execute_result"
    }
   ],
   "source": [
    "BLAS.get_num_threads()"
   ]
  },
  {
   "cell_type": "code",
   "execution_count": 32,
   "id": "b44968a6-e24e-46bc-99c1-c5f5a8599e96",
   "metadata": {},
   "outputs": [
    {
     "name": "stdout",
     "output_type": "stream",
     "text": [
      " 11.365944 seconds (11.79 M allocations: 14.369 GiB, 28.82% gc time, 0.32% compilation time)\n"
     ]
    }
   ],
   "source": [
    "@time scan_results_ind_alt = scan(lpst_ind_y, geno_ind, kinship_ind_from_strains;\n",
    "                                  assumption = \"alt\", \n",
    "                                  prior_variance = prior[1], prior_sample_size = prior[2]);"
   ]
  },
  {
   "cell_type": "code",
   "execution_count": 33,
   "id": "4eb97040-9b9d-4b6a-b8c1-b497f16cd24b",
   "metadata": {},
   "outputs": [
    {
     "name": "stdout",
     "output_type": "stream",
     "text": [
      "  0.817561 seconds (1.53 M allocations: 237.183 MiB, 3.24% gc time, 69.50% compilation time)\n"
     ]
    }
   ],
   "source": [
    "@time scan_perms_results_ind = scan(lpst_ind_y, geno_ind, kinship_ind_from_strains;\n",
    "                                    prior_variance = prior[1], prior_sample_size = prior[2],\n",
    "                                    permutation_test = true, nperms = 1000, original = true);"
   ]
  },
  {
   "cell_type": "code",
   "execution_count": 34,
   "id": "e4f465be-68de-4c22-bdf7-a06d4729a66f",
   "metadata": {},
   "outputs": [],
   "source": [
    "max_lods = vec(mapslices(x -> maximum(x), scan_perms_results_ind; dims = 1));"
   ]
  },
  {
   "cell_type": "code",
   "execution_count": 35,
   "id": "1a3a0594-dd3d-4f8d-b824-b88ec344a287",
   "metadata": {},
   "outputs": [],
   "source": [
    "thrs = map(x -> quantile(max_lods, x), [0.85, 0.95]);"
   ]
  },
  {
   "cell_type": "code",
   "execution_count": 36,
   "id": "4046cb16-e0ef-401f-b242-20442e5fba8e",
   "metadata": {},
   "outputs": [
    {
     "data": {
      "text/plain": [
       "29437"
      ]
     },
     "execution_count": 36,
     "metadata": {},
     "output_type": "execute_result"
    }
   ],
   "source": [
    "lp_id"
   ]
  },
  {
   "cell_type": "code",
   "execution_count": 37,
   "id": "9a166cc0-58ee-41ca-a84b-b22939bd5669",
   "metadata": {},
   "outputs": [
    {
     "data": {
      "text/plain": [
       "0.0"
      ]
     },
     "execution_count": 37,
     "metadata": {},
     "output_type": "execute_result"
    }
   ],
   "source": [
    "mean(scan_perms_results_ind[:, 1] .> 2.94)"
   ]
  },
  {
   "cell_type": "code",
   "execution_count": 38,
   "id": "a5b86474-94e4-4794-8184-dbbab2956548",
   "metadata": {},
   "outputs": [
    {
     "data": {
      "text/plain": [
       "2-element Vector{Float64}:\n",
       " 2.9331062815664715\n",
       " 3.4166702474006114"
      ]
     },
     "execution_count": 38,
     "metadata": {},
     "output_type": "execute_result"
    }
   ],
   "source": [
    "thrs"
   ]
  },
  {
   "cell_type": "code",
   "execution_count": 39,
   "id": "703432c5-882d-4ec7-a9b9-818c1ed4b08e",
   "metadata": {},
   "outputs": [],
   "source": [
    "single_results_ind = DataFrame(hcat(scan_results_ind.lod, scan_results_ind_alt.lod, scan_perms_results_ind[:, 1]), [\"scan_null\", \"scan_alt\", \"scan_perms.original\"]);"
   ]
  },
  {
   "cell_type": "code",
   "execution_count": 40,
   "id": "1003eae2-dd56-42dd-9da9-5a218b38e37b",
   "metadata": {},
   "outputs": [
    {
     "data": {
      "text/html": [
       "<div><div style = \"float: left;\"><span>6×3 DataFrame</span></div><div style = \"clear: both;\"></div></div><div class = \"data-frame\" style = \"overflow-x: scroll;\"><table class = \"data-frame\" style = \"margin-bottom: 6px;\"><thead><tr class = \"header\"><th class = \"rowNumber\" style = \"font-weight: bold; text-align: right;\">Row</th><th style = \"text-align: left;\">scan_null</th><th style = \"text-align: left;\">scan_alt</th><th style = \"text-align: left;\">scan_perms.original</th></tr><tr class = \"subheader headerLastRow\"><th class = \"rowNumber\" style = \"font-weight: bold; text-align: right;\"></th><th title = \"Float64\" style = \"text-align: left;\">Float64</th><th title = \"Float64\" style = \"text-align: left;\">Float64</th><th title = \"Float64\" style = \"text-align: left;\">Float64</th></tr></thead><tbody><tr><td class = \"rowNumber\" style = \"font-weight: bold; text-align: right;\">1</td><td style = \"text-align: right;\">0.44861</td><td style = \"text-align: right;\">0.448609</td><td style = \"text-align: right;\">0.44861</td></tr><tr><td class = \"rowNumber\" style = \"font-weight: bold; text-align: right;\">2</td><td style = \"text-align: right;\">0.44861</td><td style = \"text-align: right;\">0.448609</td><td style = \"text-align: right;\">0.44861</td></tr><tr><td class = \"rowNumber\" style = \"font-weight: bold; text-align: right;\">3</td><td style = \"text-align: right;\">0.44861</td><td style = \"text-align: right;\">0.448609</td><td style = \"text-align: right;\">0.44861</td></tr><tr><td class = \"rowNumber\" style = \"font-weight: bold; text-align: right;\">4</td><td style = \"text-align: right;\">0.44861</td><td style = \"text-align: right;\">0.448609</td><td style = \"text-align: right;\">0.44861</td></tr><tr><td class = \"rowNumber\" style = \"font-weight: bold; text-align: right;\">5</td><td style = \"text-align: right;\">0.44861</td><td style = \"text-align: right;\">0.448609</td><td style = \"text-align: right;\">0.44861</td></tr><tr><td class = \"rowNumber\" style = \"font-weight: bold; text-align: right;\">6</td><td style = \"text-align: right;\">0.44861</td><td style = \"text-align: right;\">0.448609</td><td style = \"text-align: right;\">0.44861</td></tr></tbody></table></div>"
      ],
      "text/latex": [
       "\\begin{tabular}{r|ccc}\n",
       "\t& scan\\_null & scan\\_alt & scan\\_perms.original\\\\\n",
       "\t\\hline\n",
       "\t& Float64 & Float64 & Float64\\\\\n",
       "\t\\hline\n",
       "\t1 & 0.44861 & 0.448609 & 0.44861 \\\\\n",
       "\t2 & 0.44861 & 0.448609 & 0.44861 \\\\\n",
       "\t3 & 0.44861 & 0.448609 & 0.44861 \\\\\n",
       "\t4 & 0.44861 & 0.448609 & 0.44861 \\\\\n",
       "\t5 & 0.44861 & 0.448609 & 0.44861 \\\\\n",
       "\t6 & 0.44861 & 0.448609 & 0.44861 \\\\\n",
       "\\end{tabular}\n"
      ],
      "text/plain": [
       "\u001b[1m6×3 DataFrame\u001b[0m\n",
       "\u001b[1m Row \u001b[0m│\u001b[1m scan_null \u001b[0m\u001b[1m scan_alt \u001b[0m\u001b[1m scan_perms.original \u001b[0m\n",
       "     │\u001b[90m Float64   \u001b[0m\u001b[90m Float64  \u001b[0m\u001b[90m Float64             \u001b[0m\n",
       "─────┼──────────────────────────────────────────\n",
       "   1 │   0.44861  0.448609              0.44861\n",
       "   2 │   0.44861  0.448609              0.44861\n",
       "   3 │   0.44861  0.448609              0.44861\n",
       "   4 │   0.44861  0.448609              0.44861\n",
       "   5 │   0.44861  0.448609              0.44861\n",
       "   6 │   0.44861  0.448609              0.44861"
      ]
     },
     "execution_count": 40,
     "metadata": {},
     "output_type": "execute_result"
    }
   ],
   "source": [
    "single_results_ind[1:6, :]"
   ]
  },
  {
   "cell_type": "markdown",
   "id": "02074d3d-dfce-4b1d-a559-e03508615ca3",
   "metadata": {},
   "source": [
    "#### For liver proteome means by strains"
   ]
  },
  {
   "cell_type": "code",
   "execution_count": 41,
   "id": "4b51bafb-a1de-41c5-9f0d-b708b4972cdb",
   "metadata": {},
   "outputs": [],
   "source": [
    "lp_strains_Y = Matrix{Float64}(BXD_pheno_strains_summary_df[:, 3:end]);\n",
    "lp_strains_y = reshape(lp_strains_Y[:, lp_id], :, 1);"
   ]
  },
  {
   "cell_type": "code",
   "execution_count": 42,
   "id": "3fb63f6a-afd6-470f-aceb-cea72c5cba2b",
   "metadata": {},
   "outputs": [],
   "source": [
    "lpst_strains_Y = colStandardize(lp_strains_Y);\n",
    "lpst_strains_y = reshape(lpst_strains_Y[:, lp_id], :, 1);"
   ]
  },
  {
   "cell_type": "code",
   "execution_count": 87,
   "id": "8d181cef-df57-4e17-b4bc-f7c6a8a41d2f",
   "metadata": {},
   "outputs": [
    {
     "name": "stdout",
     "output_type": "stream",
     "text": [
      "  0.032653 seconds (83.86 k allocations: 33.094 MiB)\n"
     ]
    }
   ],
   "source": [
    "@time scan_results_strains = scan(lpst_strains_y, geno_strains, kinship_strains; \n",
    "                                  prior_variance = prior[1], prior_sample_size = prior[2],\n",
    "                                  optim_interval = 4);"
   ]
  },
  {
   "cell_type": "code",
   "execution_count": 44,
   "id": "558a9947-1e61-402e-90da-5a8c1cae15c7",
   "metadata": {},
   "outputs": [
    {
     "name": "stdout",
     "output_type": "stream",
     "text": [
      "  1.079429 seconds (4.08 M allocations: 1.234 GiB, 19.42% gc time)\n"
     ]
    }
   ],
   "source": [
    "@time scan_results_strains_alt = scan(lpst_strains_y, geno_strains, kinship_strains;\n",
    "                                      assumption = \"alt\",\n",
    "                                      prior_variance = prior[1], prior_sample_size = prior[2]);"
   ]
  },
  {
   "cell_type": "code",
   "execution_count": 45,
   "id": "f7e7ec8e-7352-4fef-a22c-d61e90fbae53",
   "metadata": {},
   "outputs": [
    {
     "name": "stdout",
     "output_type": "stream",
     "text": [
      "  0.130010 seconds (183.05 k allocations: 83.958 MiB, 24.71% compilation time)\n"
     ]
    }
   ],
   "source": [
    "@time scan_perms_results_strains = scan(lpst_strains_y, geno_strains, kinship_strains;\n",
    "                                        permutation_test = true, nperms = 1000, original = true, \n",
    "                                        prior_variance = prior[1], prior_sample_size = prior[2]);"
   ]
  },
  {
   "cell_type": "code",
   "execution_count": 46,
   "id": "ef7d8e30-dfea-47f0-a7ff-ae966a9594b9",
   "metadata": {},
   "outputs": [],
   "source": [
    "single_results_strains = DataFrame(hcat(scan_results_strains.lod, scan_results_strains_alt.lod, scan_perms_results_strains[:, 1]), [\"scan_null\", \"scan_alt\", \"scan_perms.original\"]);"
   ]
  },
  {
   "cell_type": "code",
   "execution_count": 47,
   "id": "cd32ad3e-95f0-4169-a7b7-1b1b28b48f6c",
   "metadata": {},
   "outputs": [
    {
     "data": {
      "text/html": [
       "<div><div style = \"float: left;\"><span>6×3 DataFrame</span></div><div style = \"clear: both;\"></div></div><div class = \"data-frame\" style = \"overflow-x: scroll;\"><table class = \"data-frame\" style = \"margin-bottom: 6px;\"><thead><tr class = \"header\"><th class = \"rowNumber\" style = \"font-weight: bold; text-align: right;\">Row</th><th style = \"text-align: left;\">scan_null</th><th style = \"text-align: left;\">scan_alt</th><th style = \"text-align: left;\">scan_perms.original</th></tr><tr class = \"subheader headerLastRow\"><th class = \"rowNumber\" style = \"font-weight: bold; text-align: right;\"></th><th title = \"Float64\" style = \"text-align: left;\">Float64</th><th title = \"Float64\" style = \"text-align: left;\">Float64</th><th title = \"Float64\" style = \"text-align: left;\">Float64</th></tr></thead><tbody><tr><td class = \"rowNumber\" style = \"font-weight: bold; text-align: right;\">1</td><td style = \"text-align: right;\">0.363103</td><td style = \"text-align: right;\">0.359619</td><td style = \"text-align: right;\">0.363103</td></tr><tr><td class = \"rowNumber\" style = \"font-weight: bold; text-align: right;\">2</td><td style = \"text-align: right;\">0.363103</td><td style = \"text-align: right;\">0.359619</td><td style = \"text-align: right;\">0.363103</td></tr><tr><td class = \"rowNumber\" style = \"font-weight: bold; text-align: right;\">3</td><td style = \"text-align: right;\">0.363103</td><td style = \"text-align: right;\">0.359619</td><td style = \"text-align: right;\">0.363103</td></tr><tr><td class = \"rowNumber\" style = \"font-weight: bold; text-align: right;\">4</td><td style = \"text-align: right;\">0.363103</td><td style = \"text-align: right;\">0.359619</td><td style = \"text-align: right;\">0.363103</td></tr><tr><td class = \"rowNumber\" style = \"font-weight: bold; text-align: right;\">5</td><td style = \"text-align: right;\">0.363103</td><td style = \"text-align: right;\">0.359619</td><td style = \"text-align: right;\">0.363103</td></tr><tr><td class = \"rowNumber\" style = \"font-weight: bold; text-align: right;\">6</td><td style = \"text-align: right;\">0.363103</td><td style = \"text-align: right;\">0.359619</td><td style = \"text-align: right;\">0.363103</td></tr></tbody></table></div>"
      ],
      "text/latex": [
       "\\begin{tabular}{r|ccc}\n",
       "\t& scan\\_null & scan\\_alt & scan\\_perms.original\\\\\n",
       "\t\\hline\n",
       "\t& Float64 & Float64 & Float64\\\\\n",
       "\t\\hline\n",
       "\t1 & 0.363103 & 0.359619 & 0.363103 \\\\\n",
       "\t2 & 0.363103 & 0.359619 & 0.363103 \\\\\n",
       "\t3 & 0.363103 & 0.359619 & 0.363103 \\\\\n",
       "\t4 & 0.363103 & 0.359619 & 0.363103 \\\\\n",
       "\t5 & 0.363103 & 0.359619 & 0.363103 \\\\\n",
       "\t6 & 0.363103 & 0.359619 & 0.363103 \\\\\n",
       "\\end{tabular}\n"
      ],
      "text/plain": [
       "\u001b[1m6×3 DataFrame\u001b[0m\n",
       "\u001b[1m Row \u001b[0m│\u001b[1m scan_null \u001b[0m\u001b[1m scan_alt \u001b[0m\u001b[1m scan_perms.original \u001b[0m\n",
       "     │\u001b[90m Float64   \u001b[0m\u001b[90m Float64  \u001b[0m\u001b[90m Float64             \u001b[0m\n",
       "─────┼──────────────────────────────────────────\n",
       "   1 │  0.363103  0.359619             0.363103\n",
       "   2 │  0.363103  0.359619             0.363103\n",
       "   3 │  0.363103  0.359619             0.363103\n",
       "   4 │  0.363103  0.359619             0.363103\n",
       "   5 │  0.363103  0.359619             0.363103\n",
       "   6 │  0.363103  0.359619             0.363103"
      ]
     },
     "execution_count": 47,
     "metadata": {},
     "output_type": "execute_result"
    }
   ],
   "source": [
    "single_results_strains[1:6, :]"
   ]
  },
  {
   "cell_type": "code",
   "execution_count": 48,
   "id": "d5c3f3c6-25ce-4cb6-8256-d5cd33898b19",
   "metadata": {},
   "outputs": [
    {
     "data": {
      "text/plain": [
       "(50, 1)"
      ]
     },
     "execution_count": 48,
     "metadata": {},
     "output_type": "execute_result"
    }
   ],
   "source": [
    "size(lp_strains_y)"
   ]
  },
  {
   "cell_type": "code",
   "execution_count": 49,
   "id": "55a7845a-e2c2-43ef-a5a2-0f87bf3aa659",
   "metadata": {},
   "outputs": [
    {
     "data": {
      "text/plain": [
       "5-element Vector{Float64}:\n",
       "  1.0226201850024244\n",
       " -0.007395742683977131\n",
       "  0.8020068444624721\n",
       "  1.234467432540759\n",
       " -0.5639098286938068"
      ]
     },
     "execution_count": 49,
     "metadata": {},
     "output_type": "execute_result"
    }
   ],
   "source": [
    "lpst_strains_y[1:5]./sqrt(0.5)"
   ]
  },
  {
   "cell_type": "markdown",
   "id": "beafdcee-0be5-4243-bf4c-142b1b692df9",
   "metadata": {},
   "source": [
    "### Weighted Error Variances:"
   ]
  },
  {
   "cell_type": "markdown",
   "id": "3db9e73e-b72b-44d5-b83f-8928c874c016",
   "metadata": {},
   "source": [
    "Assuming that\n",
    "\n",
    "$$y = X_0 B_0+g\\beta+\\epsilon$$\n",
    "\n",
    "where \n",
    "\n",
    "$$\\epsilon \\sim N(0,  \\sigma^2_g K + \\sigma^2_e V) $$ and \n",
    "\n",
    "the matrix $V$ is a diagonal but not necessarily an identity matrix."
   ]
  },
  {
   "cell_type": "markdown",
   "id": "1e014cdf-d1d5-424c-b0ee-631aa556cb61",
   "metadata": {},
   "source": [
    "Notice that since $V^{-1} = V^{-1/2}V^{-1/2}$, then the strategy is as such:"
   ]
  },
  {
   "cell_type": "markdown",
   "id": "dee5ac13-31b2-4d7e-88c9-c7d47a59f0b6",
   "metadata": {},
   "source": [
    "Let $$y^* = V^{-1/2}y = V^{-1/2}X0+V^{-1/2}g\\beta+V^{-1/2}\\epsilon$$\n",
    "\n",
    "then \n",
    "$$V^{-1/2}\\epsilon \\sim N(0, \\sigma^2_g V^{-1/2}KV^{-1/2}+\\sigma^2_e V^{-1/2}VV^{-1/2} = \\sigma^2_g K^*+\\sigma^2_e I)$$"
   ]
  },
  {
   "cell_type": "code",
   "execution_count": 52,
   "id": "2d78e1d4-8920-4242-a2a0-400853cb0de6",
   "metadata": {},
   "outputs": [
    {
     "data": {
      "text/html": [
       "<div><div style = \"float: left;\"><span>6×32448 DataFrame</span></div><div style = \"float: right;\"><span style = \"font-style: italic;\">32348 columns omitted</span></div><div style = \"clear: both;\"></div></div><div class = \"data-frame\" style = \"overflow-x: scroll;\"><table class = \"data-frame\" style = \"margin-bottom: 6px;\"><thead><tr class = \"header\"><th class = \"rowNumber\" style = \"font-weight: bold; text-align: right;\">Row</th><th style = \"text-align: left;\">Sample</th><th style = \"text-align: left;\">Strain</th><th style = \"text-align: left;\">Strain_num</th><th style = \"text-align: left;\">P42209_DESGLNRK_2</th><th style = \"text-align: left;\">P42209_GLRPLDVAFLR_3</th><th style = \"text-align: left;\">Q99M02_VGDPVYR_2</th><th style = \"text-align: left;\">Q99M02_VWIYPIK_2</th><th style = \"text-align: left;\">Q99M02_LCDPSVK_2</th><th style = \"text-align: left;\">Q99M02_CVLTTVDPDTGIIDR_2</th><th style = \"text-align: left;\">Q99M02_LVQFDTSMK_2</th><th style = \"text-align: left;\">Q99M02_QLQQVGTVSK_2</th><th style = \"text-align: left;\">Q99M02_KLYPSESYLQNYEVAYPDCSPVHLISEASLVDLNTR_4</th><th style = \"text-align: left;\">Q99M02_GRDCGDEVAQWFTNYLK_3</th><th style = \"text-align: left;\">Q99M02_SIYQSSPLFGMYFSVEK_2</th><th style = \"text-align: left;\">Q99M02_RQLQQVGTVSK_3</th><th style = \"text-align: left;\">Q99M02_LYPSESYLQNYEVAYPDCSPVHLISEASLVDLNTR_4</th><th style = \"text-align: left;\">Q99M02_KLYPSESYLQNYEVAYPDCSPVHLISEASLVDLNTR_5</th><th style = \"text-align: left;\">Q99M02_SIYQSSPLFGMYFSVEK_3</th><th style = \"text-align: left;\">Q99M02_CVLTTVDPDTGIIDRK_3</th><th style = \"text-align: left;\">Q99M02_CVLTTVDPDTGIIDR_3</th><th style = \"text-align: left;\">Q99M02_TQAYRLVQFDTSMK_3</th><th style = \"text-align: left;\">Q99M02_GVSVCETECTDMGLR_2</th><th style = \"text-align: left;\">Q99M02_DCGDEVAQWFTNYLK_2</th><th style = \"text-align: left;\">Q99M02_DRFWMVVK_2</th><th style = \"text-align: left;\">Q99M02_GRDCGDEVAQWFTNYLK_2</th><th style = \"text-align: left;\">Q99M02_DCGDEVAQWFTNYLK_3</th><th style = \"text-align: left;\">Q99M02_EDGHMVTAR_2</th><th style = \"text-align: left;\">Q99M02_RQLQQVGTVSK_2</th><th style = \"text-align: left;\">P42208_TIISYIDEQFER_2</th><th style = \"text-align: left;\">P42208_ILDEIEEHSIK_3</th><th style = \"text-align: left;\">P42208_VNIVPVIAK_2</th><th style = \"text-align: left;\">P42208_ASIPFSVVGSNQLIEAK_2</th><th style = \"text-align: left;\">P42208_TVQIEASTVEIEER_2</th><th style = \"text-align: left;\">P42208_LTVVDTPGYGDAINCR_2</th><th style = \"text-align: left;\">P42208_ASIPFSVVGSNQLIEAK_3</th><th style = \"text-align: left;\">P42208_STLINSLFLTDLYPER_3</th><th style = \"text-align: left;\">Q9Z1S5_VNIIPVIAK_2</th><th style = \"text-align: left;\">Q3KNM2_LGPVVYVLDLADR_2</th><th style = \"text-align: left;\">Q9Z2Q6_LATPEDKQDIDKQYVGFATLPNQVHR_4</th><th style = \"text-align: left;\">Q9Z2Q6_VNIVPILAK_2</th><th style = \"text-align: left;\">Q9R1T4_RNEFLGELQK_3</th><th style = \"text-align: left;\">Q9R1T4_STLMDTLFNTK_2</th><th style = \"text-align: left;\">O55131_STLINSLFLTDLYSPEYPGPSHR_3</th><th style = \"text-align: left;\">O55131_FEDYLNAESR_2</th><th style = \"text-align: left;\">O55131_IYEFPETDDEEENKLVK_3</th><th style = \"text-align: left;\">O55131_NLEGYVGFANLPNQVYR_2</th><th style = \"text-align: left;\">O55131_DVTNNVHYENYR_3</th><th style = \"text-align: left;\">O55131_ANWEAQQR_2</th><th style = \"text-align: left;\">O55131_NLEGYVGFANLPNQVYR_3</th><th style = \"text-align: left;\">O55131_ADTLTPEECQQFK_2</th><th style = \"text-align: left;\">O55131_ILEQQNSSR_2</th><th style = \"text-align: left;\">O55131_VQCCLYFIAPSGHGLKPLDIEFMK_4</th><th style = \"text-align: left;\">O55131_TVQVEQSK_2</th><th style = \"text-align: left;\">O55131_LKDSEAELQR_2</th><th style = \"text-align: left;\">Q8CHH9_VNIIPLIAK_2</th><th style = \"text-align: left;\">Q8CHH9_VNIIPIIAK_2</th><th style = \"text-align: left;\">Q80UG5_ADTLTLEER_2</th><th style = \"text-align: left;\">Q80UG5_STLINTLFK_2</th><th style = \"text-align: left;\">Q80UG5_RTEITIVKPQESVLR_4</th><th style = \"text-align: left;\">Q80UG5_DITSNIHFEAYR_3</th><th style = \"text-align: left;\">Q80UG5_LEPRPSVAEVPYR_3</th><th style = \"text-align: left;\">Q80UG5_FINDQYEK_2</th><th style = \"text-align: left;\">Q80UG5_YLQEEVNINR_2</th><th style = \"text-align: left;\">Q80UG5_VVNIVPVIAK_2</th><th style = \"text-align: left;\">Q80UG5_SITHDIEEK_2</th><th style = \"text-align: left;\">Q80UG5_IPEGSAVPATDAAPK_2</th><th style = \"text-align: left;\">Q80UG5_SVQPTSEER_2</th><th style = \"text-align: left;\">Q80UG5_QVESTASAAGPSR_2</th><th style = \"text-align: left;\">Q8C1B7_FESDPATHNEPGVR_3</th><th style = \"text-align: left;\">Q8C1B7_SYELQESNVR_2</th><th style = \"text-align: left;\">Q8C1B7_NLSLSGHVGFDSLPDQLVNK_3</th><th style = \"text-align: left;\">Q8C1B7_AAAQLLQSQAQQSGAQQTK_3</th><th style = \"text-align: left;\">Q8C1B7_ELEEEVSNFQK_2</th><th style = \"text-align: left;\">Q9ERR7_WNTDSVEEFLSEK_2</th><th style = \"text-align: left;\">Q9ERR7_LLDDNGNIAEELSILK_2</th><th style = \"text-align: left;\">Q9ERY9_YLEAEPVSR_2</th><th style = \"text-align: left;\">P59708_ITAEEMYDIFGK_2</th><th style = \"text-align: left;\">Q9DCS2_CLDSIAATTR_2</th><th style = \"text-align: left;\">Q9DCS2_ISPQSNVDFDLTLR_2</th><th style = \"text-align: left;\">Q9DCS2_VLEVASGSGQHAAHFAQAFPNAEWQPSDVDQR_4</th><th style = \"text-align: left;\">Q9DCS2_QYVDPAQR_2</th><th style = \"text-align: left;\">Q9DCS2_NKEPILSVLR_2</th><th style = \"text-align: left;\">Q9DCS2_AQGLSNVK_2</th><th style = \"text-align: left;\">Q9DCS2_VLEVASGSGQHAAHFAQAFPNAEWQPSDVDQR_5</th><th style = \"text-align: left;\">Q9DCS2_MVDMPANNK_2</th><th style = \"text-align: left;\">Q9DCS2_DTVLLEELGQASGLVLER_3</th><th style = \"text-align: left;\">Q9DCS2_DTVLLEELGQASGLVLER_2</th><th style = \"text-align: left;\">Q9JHJ3_LLHTADVCQLEVALVGASPR_3</th><th style = \"text-align: left;\">A2A8E1_TIVEFECR_2</th><th style = \"text-align: left;\">A2A8E1_ATLENVTNLRPVGEDFR_3</th><th style = \"text-align: left;\">A2A8E1_ENSIDILSSTIK_2</th><th style = \"text-align: left;\">A2A8E1_AQESVGIFEVTHQFVK_3</th><th style = \"text-align: left;\">Q8BWR2_GLAYGLYLR_2</th><th style = \"text-align: left;\">Q8VED9_IQTLSAIDTIK_2</th><th style = \"text-align: left;\">Q9CRB3_LFFDTER_2</th><th style = \"text-align: left;\">Q9CRB3_FHVPLLLSPWSYTTYR_3</th><th style = \"text-align: left;\">Q9CRB3_TSYTNLDGR_2</th><th style = \"text-align: left;\">Q9CRB3_LEAPCQQWMELR_2</th><th style = \"text-align: left;\">Q9CRB3_CPGLLTPSQIKPGTYK_3</th><th style = \"text-align: left;\">Q9CRB3_LEAPCQQWMELR_3</th><th style = \"text-align: right;\">&ctdot;</th></tr><tr class = \"subheader headerLastRow\"><th class = \"rowNumber\" style = \"font-weight: bold; text-align: right;\"></th><th title = \"String7\" style = \"text-align: left;\">String7</th><th title = \"String7\" style = \"text-align: left;\">String7</th><th title = \"Int64\" style = \"text-align: left;\">Int64</th><th title = \"Float64\" style = \"text-align: left;\">Float64</th><th title = \"Float64\" style = \"text-align: left;\">Float64</th><th title = \"Float64\" style = \"text-align: left;\">Float64</th><th title = \"Float64\" style = \"text-align: left;\">Float64</th><th title = \"Float64\" style = \"text-align: left;\">Float64</th><th title = \"Float64\" style = \"text-align: left;\">Float64</th><th title = \"Float64\" style = \"text-align: left;\">Float64</th><th title = \"Float64\" style = \"text-align: left;\">Float64</th><th title = \"Float64\" style = \"text-align: left;\">Float64</th><th title = \"Float64\" style = \"text-align: left;\">Float64</th><th title = \"Float64\" style = \"text-align: left;\">Float64</th><th title = \"Float64\" style = \"text-align: left;\">Float64</th><th title = \"Float64\" style = \"text-align: left;\">Float64</th><th title = \"Float64\" style = \"text-align: left;\">Float64</th><th title = \"Float64\" style = \"text-align: left;\">Float64</th><th title = \"Float64\" style = \"text-align: left;\">Float64</th><th title = \"Float64\" style = \"text-align: left;\">Float64</th><th title = \"Float64\" style = \"text-align: left;\">Float64</th><th title = \"Float64\" style = \"text-align: left;\">Float64</th><th title = \"Float64\" style = \"text-align: left;\">Float64</th><th title = \"Float64\" style = \"text-align: left;\">Float64</th><th title = \"Float64\" style = \"text-align: left;\">Float64</th><th title = \"Float64\" style = \"text-align: left;\">Float64</th><th title = \"Float64\" style = \"text-align: left;\">Float64</th><th title = \"Float64\" style = \"text-align: left;\">Float64</th><th title = \"Float64\" style = \"text-align: left;\">Float64</th><th title = \"Float64\" style = \"text-align: left;\">Float64</th><th title = \"Float64\" style = \"text-align: left;\">Float64</th><th title = \"Float64\" style = \"text-align: left;\">Float64</th><th title = \"Float64\" style = \"text-align: left;\">Float64</th><th title = \"Float64\" style = \"text-align: left;\">Float64</th><th title = \"Float64\" style = \"text-align: left;\">Float64</th><th title = \"Float64\" style = \"text-align: left;\">Float64</th><th title = \"Float64\" style = \"text-align: left;\">Float64</th><th title = \"Float64\" style = \"text-align: left;\">Float64</th><th title = \"Float64\" style = \"text-align: left;\">Float64</th><th title = \"Float64\" style = \"text-align: left;\">Float64</th><th title = \"Float64\" style = \"text-align: left;\">Float64</th><th title = \"Float64\" style = \"text-align: left;\">Float64</th><th title = \"Float64\" style = \"text-align: left;\">Float64</th><th title = \"Float64\" style = \"text-align: left;\">Float64</th><th title = \"Float64\" style = \"text-align: left;\">Float64</th><th title = \"Float64\" style = \"text-align: left;\">Float64</th><th title = \"Float64\" style = \"text-align: left;\">Float64</th><th title = \"Float64\" style = \"text-align: left;\">Float64</th><th title = \"Float64\" style = \"text-align: left;\">Float64</th><th title = \"Float64\" style = \"text-align: left;\">Float64</th><th title = \"Float64\" style = \"text-align: left;\">Float64</th><th title = \"Float64\" style = \"text-align: left;\">Float64</th><th title = \"Float64\" style = \"text-align: left;\">Float64</th><th title = \"Float64\" style = \"text-align: left;\">Float64</th><th title = \"Float64\" style = \"text-align: left;\">Float64</th><th title = \"Float64\" style = \"text-align: left;\">Float64</th><th title = \"Float64\" style = \"text-align: left;\">Float64</th><th title = \"Float64\" style = \"text-align: left;\">Float64</th><th title = \"Float64\" style = \"text-align: left;\">Float64</th><th title = \"Float64\" style = \"text-align: left;\">Float64</th><th title = \"Float64\" style = \"text-align: left;\">Float64</th><th title = \"Float64\" style = \"text-align: left;\">Float64</th><th title = \"Float64\" style = \"text-align: left;\">Float64</th><th title = \"Float64\" style = \"text-align: left;\">Float64</th><th title = \"Float64\" style = \"text-align: left;\">Float64</th><th title = \"Float64\" style = \"text-align: left;\">Float64</th><th title = \"Float64\" style = \"text-align: left;\">Float64</th><th title = \"Float64\" style = \"text-align: left;\">Float64</th><th title = \"Float64\" style = \"text-align: left;\">Float64</th><th title = \"Float64\" style = \"text-align: left;\">Float64</th><th title = \"Float64\" style = \"text-align: left;\">Float64</th><th title = \"Float64\" style = \"text-align: left;\">Float64</th><th title = \"Float64\" style = \"text-align: left;\">Float64</th><th title = \"Float64\" style = \"text-align: left;\">Float64</th><th title = \"Float64\" style = \"text-align: left;\">Float64</th><th title = \"Float64\" style = \"text-align: left;\">Float64</th><th title = \"Float64\" style = \"text-align: left;\">Float64</th><th title = \"Float64\" style = \"text-align: left;\">Float64</th><th title = \"Float64\" style = \"text-align: left;\">Float64</th><th title = \"Float64\" style = \"text-align: left;\">Float64</th><th title = \"Float64\" style = \"text-align: left;\">Float64</th><th title = \"Float64\" style = \"text-align: left;\">Float64</th><th title = \"Float64\" style = \"text-align: left;\">Float64</th><th title = \"Float64\" style = \"text-align: left;\">Float64</th><th title = \"Float64\" style = \"text-align: left;\">Float64</th><th title = \"Float64\" style = \"text-align: left;\">Float64</th><th title = \"Float64\" style = \"text-align: left;\">Float64</th><th title = \"Float64\" style = \"text-align: left;\">Float64</th><th title = \"Float64\" style = \"text-align: left;\">Float64</th><th title = \"Float64\" style = \"text-align: left;\">Float64</th><th title = \"Float64\" style = \"text-align: left;\">Float64</th><th title = \"Float64\" style = \"text-align: left;\">Float64</th><th title = \"Float64\" style = \"text-align: left;\">Float64</th><th title = \"Float64\" style = \"text-align: left;\">Float64</th><th title = \"Float64\" style = \"text-align: left;\">Float64</th><th title = \"Float64\" style = \"text-align: left;\">Float64</th><th title = \"Float64\" style = \"text-align: left;\">Float64</th><th title = \"Float64\" style = \"text-align: left;\">Float64</th><th title = \"Float64\" style = \"text-align: left;\">Float64</th><th title = \"Float64\" style = \"text-align: left;\">Float64</th><th title = \"Float64\" style = \"text-align: right;\">&ctdot;</th></tr></thead><tbody><tr><td class = \"rowNumber\" style = \"font-weight: bold; text-align: right;\">1</td><td style = \"text-align: left;\">H1009</td><td style = \"text-align: left;\">BXD9</td><td style = \"text-align: right;\">9</td><td style = \"text-align: right;\">11.349</td><td style = \"text-align: right;\">11.534</td><td style = \"text-align: right;\">17.587</td><td style = \"text-align: right;\">17.517</td><td style = \"text-align: right;\">17.309</td><td style = \"text-align: right;\">16.574</td><td style = \"text-align: right;\">16.323</td><td style = \"text-align: right;\">16.263</td><td style = \"text-align: right;\">16.24</td><td style = \"text-align: right;\">16.052</td><td style = \"text-align: right;\">15.355</td><td style = \"text-align: right;\">15.795</td><td style = \"text-align: right;\">15.4</td><td style = \"text-align: right;\">15.03</td><td style = \"text-align: right;\">14.831</td><td style = \"text-align: right;\">14.914</td><td style = \"text-align: right;\">14.755</td><td style = \"text-align: right;\">14.389</td><td style = \"text-align: right;\">14.272</td><td style = \"text-align: right;\">13.992</td><td style = \"text-align: right;\">14.291</td><td style = \"text-align: right;\">13.762</td><td style = \"text-align: right;\">13.167</td><td style = \"text-align: right;\">12.662</td><td style = \"text-align: right;\">10.913</td><td style = \"text-align: right;\">14.723</td><td style = \"text-align: right;\">14.348</td><td style = \"text-align: right;\">13.345</td><td style = \"text-align: right;\">14.228</td><td style = \"text-align: right;\">13.862</td><td style = \"text-align: right;\">13.902</td><td style = \"text-align: right;\">13.687</td><td style = \"text-align: right;\">11.613</td><td style = \"text-align: right;\">10.245</td><td style = \"text-align: right;\">14.409</td><td style = \"text-align: right;\">15.147</td><td style = \"text-align: right;\">12.34</td><td style = \"text-align: right;\">14.404</td><td style = \"text-align: right;\">13.775</td><td style = \"text-align: right;\">14.293</td><td style = \"text-align: right;\">14.461</td><td style = \"text-align: right;\">14.23</td><td style = \"text-align: right;\">14.065</td><td style = \"text-align: right;\">14.258</td><td style = \"text-align: right;\">14.31</td><td style = \"text-align: right;\">13.616</td><td style = \"text-align: right;\">13.541</td><td style = \"text-align: right;\">13.46</td><td style = \"text-align: right;\">13.293</td><td style = \"text-align: right;\">12.937</td><td style = \"text-align: right;\">12.717</td><td style = \"text-align: right;\">15.149</td><td style = \"text-align: right;\">14.36</td><td style = \"text-align: right;\">14.833</td><td style = \"text-align: right;\">14.341</td><td style = \"text-align: right;\">14.579</td><td style = \"text-align: right;\">14.316</td><td style = \"text-align: right;\">14.049</td><td style = \"text-align: right;\">13.817</td><td style = \"text-align: right;\">13.656</td><td style = \"text-align: right;\">13.297</td><td style = \"text-align: right;\">13.78</td><td style = \"text-align: right;\">12.843</td><td style = \"text-align: right;\">12.439</td><td style = \"text-align: right;\">11.074</td><td style = \"text-align: right;\">14.065</td><td style = \"text-align: right;\">13.915</td><td style = \"text-align: right;\">13.994</td><td style = \"text-align: right;\">13.907</td><td style = \"text-align: right;\">13.247</td><td style = \"text-align: right;\">13.356</td><td style = \"text-align: right;\">12.815</td><td style = \"text-align: right;\">14.702</td><td style = \"text-align: right;\">13.637</td><td style = \"text-align: right;\">16.398</td><td style = \"text-align: right;\">16.402</td><td style = \"text-align: right;\">16.271</td><td style = \"text-align: right;\">16.0</td><td style = \"text-align: right;\">15.909</td><td style = \"text-align: right;\">15.647</td><td style = \"text-align: right;\">15.021</td><td style = \"text-align: right;\">13.726</td><td style = \"text-align: right;\">7.236</td><td style = \"text-align: right;\">3.295</td><td style = \"text-align: right;\">13.794</td><td style = \"text-align: right;\">14.838</td><td style = \"text-align: right;\">14.908</td><td style = \"text-align: right;\">14.664</td><td style = \"text-align: right;\">13.055</td><td style = \"text-align: right;\">12.612</td><td style = \"text-align: right;\">13.323</td><td style = \"text-align: right;\">18.252</td><td style = \"text-align: right;\">16.889</td><td style = \"text-align: right;\">17.118</td><td style = \"text-align: right;\">16.443</td><td style = \"text-align: right;\">15.683</td><td style = \"text-align: right;\">14.183</td><td style = \"text-align: right;\">&ctdot;</td></tr><tr><td class = \"rowNumber\" style = \"font-weight: bold; text-align: right;\">2</td><td style = \"text-align: left;\">H0370</td><td style = \"text-align: left;\">BXD9</td><td style = \"text-align: right;\">9</td><td style = \"text-align: right;\">11.249</td><td style = \"text-align: right;\">12.735</td><td style = \"text-align: right;\">17.427</td><td style = \"text-align: right;\">17.325</td><td style = \"text-align: right;\">17.252</td><td style = \"text-align: right;\">16.685</td><td style = \"text-align: right;\">16.021</td><td style = \"text-align: right;\">16.332</td><td style = \"text-align: right;\">15.965</td><td style = \"text-align: right;\">15.624</td><td style = \"text-align: right;\">15.336</td><td style = \"text-align: right;\">14.811</td><td style = \"text-align: right;\">14.979</td><td style = \"text-align: right;\">14.957</td><td style = \"text-align: right;\">14.474</td><td style = \"text-align: right;\">14.815</td><td style = \"text-align: right;\">14.912</td><td style = \"text-align: right;\">14.77</td><td style = \"text-align: right;\">14.244</td><td style = \"text-align: right;\">14.151</td><td style = \"text-align: right;\">13.87</td><td style = \"text-align: right;\">13.696</td><td style = \"text-align: right;\">11.285</td><td style = \"text-align: right;\">13.094</td><td style = \"text-align: right;\">12.99</td><td style = \"text-align: right;\">14.693</td><td style = \"text-align: right;\">14.325</td><td style = \"text-align: right;\">13.812</td><td style = \"text-align: right;\">13.761</td><td style = \"text-align: right;\">14.299</td><td style = \"text-align: right;\">13.728</td><td style = \"text-align: right;\">13.671</td><td style = \"text-align: right;\">10.678</td><td style = \"text-align: right;\">12.411</td><td style = \"text-align: right;\">14.209</td><td style = \"text-align: right;\">15.113</td><td style = \"text-align: right;\">12.719</td><td style = \"text-align: right;\">13.653</td><td style = \"text-align: right;\">13.652</td><td style = \"text-align: right;\">14.711</td><td style = \"text-align: right;\">14.455</td><td style = \"text-align: right;\">14.302</td><td style = \"text-align: right;\">14.254</td><td style = \"text-align: right;\">13.889</td><td style = \"text-align: right;\">14.378</td><td style = \"text-align: right;\">13.339</td><td style = \"text-align: right;\">13.615</td><td style = \"text-align: right;\">12.124</td><td style = \"text-align: right;\">13.634</td><td style = \"text-align: right;\">11.894</td><td style = \"text-align: right;\">13.017</td><td style = \"text-align: right;\">15.184</td><td style = \"text-align: right;\">14.411</td><td style = \"text-align: right;\">14.978</td><td style = \"text-align: right;\">14.348</td><td style = \"text-align: right;\">14.457</td><td style = \"text-align: right;\">14.669</td><td style = \"text-align: right;\">14.235</td><td style = \"text-align: right;\">13.924</td><td style = \"text-align: right;\">14.003</td><td style = \"text-align: right;\">13.666</td><td style = \"text-align: right;\">14.188</td><td style = \"text-align: right;\">13.613</td><td style = \"text-align: right;\">12.401</td><td style = \"text-align: right;\">11.491</td><td style = \"text-align: right;\">14.018</td><td style = \"text-align: right;\">14.086</td><td style = \"text-align: right;\">13.778</td><td style = \"text-align: right;\">13.871</td><td style = \"text-align: right;\">13.235</td><td style = \"text-align: right;\">13.212</td><td style = \"text-align: right;\">12.527</td><td style = \"text-align: right;\">14.404</td><td style = \"text-align: right;\">13.305</td><td style = \"text-align: right;\">16.291</td><td style = \"text-align: right;\">16.533</td><td style = \"text-align: right;\">16.014</td><td style = \"text-align: right;\">16.083</td><td style = \"text-align: right;\">16.104</td><td style = \"text-align: right;\">15.923</td><td style = \"text-align: right;\">14.657</td><td style = \"text-align: right;\">12.945</td><td style = \"text-align: right;\">11.541</td><td style = \"text-align: right;\">12.83</td><td style = \"text-align: right;\">13.963</td><td style = \"text-align: right;\">15.221</td><td style = \"text-align: right;\">15.093</td><td style = \"text-align: right;\">14.817</td><td style = \"text-align: right;\">13.129</td><td style = \"text-align: right;\">13.251</td><td style = \"text-align: right;\">13.666</td><td style = \"text-align: right;\">18.352</td><td style = \"text-align: right;\">17.202</td><td style = \"text-align: right;\">17.106</td><td style = \"text-align: right;\">16.211</td><td style = \"text-align: right;\">15.557</td><td style = \"text-align: right;\">14.051</td><td style = \"text-align: right;\">&ctdot;</td></tr><tr><td class = \"rowNumber\" style = \"font-weight: bold; text-align: right;\">3</td><td style = \"text-align: left;\">H2577</td><td style = \"text-align: left;\">BXD9</td><td style = \"text-align: right;\">9</td><td style = \"text-align: right;\">12.415</td><td style = \"text-align: right;\">10.487</td><td style = \"text-align: right;\">17.89</td><td style = \"text-align: right;\">17.488</td><td style = \"text-align: right;\">17.594</td><td style = \"text-align: right;\">16.731</td><td style = \"text-align: right;\">16.208</td><td style = \"text-align: right;\">16.417</td><td style = \"text-align: right;\">16.182</td><td style = \"text-align: right;\">16.07</td><td style = \"text-align: right;\">15.356</td><td style = \"text-align: right;\">15.863</td><td style = \"text-align: right;\">15.109</td><td style = \"text-align: right;\">15.033</td><td style = \"text-align: right;\">14.914</td><td style = \"text-align: right;\">14.967</td><td style = \"text-align: right;\">14.355</td><td style = \"text-align: right;\">14.242</td><td style = \"text-align: right;\">14.588</td><td style = \"text-align: right;\">14.289</td><td style = \"text-align: right;\">14.267</td><td style = \"text-align: right;\">13.802</td><td style = \"text-align: right;\">13.015</td><td style = \"text-align: right;\">13.371</td><td style = \"text-align: right;\">12.637</td><td style = \"text-align: right;\">13.861</td><td style = \"text-align: right;\">14.179</td><td style = \"text-align: right;\">12.208</td><td style = \"text-align: right;\">13.453</td><td style = \"text-align: right;\">13.541</td><td style = \"text-align: right;\">13.37</td><td style = \"text-align: right;\">13.689</td><td style = \"text-align: right;\">10.072</td><td style = \"text-align: right;\">9.864</td><td style = \"text-align: right;\">14.387</td><td style = \"text-align: right;\">15.132</td><td style = \"text-align: right;\">12.267</td><td style = \"text-align: right;\">13.809</td><td style = \"text-align: right;\">13.439</td><td style = \"text-align: right;\">14.278</td><td style = \"text-align: right;\">14.046</td><td style = \"text-align: right;\">13.795</td><td style = \"text-align: right;\">14.186</td><td style = \"text-align: right;\">13.719</td><td style = \"text-align: right;\">14.087</td><td style = \"text-align: right;\">13.657</td><td style = \"text-align: right;\">12.693</td><td style = \"text-align: right;\">13.618</td><td style = \"text-align: right;\">12.68</td><td style = \"text-align: right;\">12.717</td><td style = \"text-align: right;\">12.675</td><td style = \"text-align: right;\">14.976</td><td style = \"text-align: right;\">13.714</td><td style = \"text-align: right;\">14.986</td><td style = \"text-align: right;\">14.0</td><td style = \"text-align: right;\">14.337</td><td style = \"text-align: right;\">14.344</td><td style = \"text-align: right;\">13.613</td><td style = \"text-align: right;\">13.228</td><td style = \"text-align: right;\">13.313</td><td style = \"text-align: right;\">12.639</td><td style = \"text-align: right;\">13.791</td><td style = \"text-align: right;\">10.895</td><td style = \"text-align: right;\">12.259</td><td style = \"text-align: right;\">10.923</td><td style = \"text-align: right;\">13.552</td><td style = \"text-align: right;\">13.719</td><td style = \"text-align: right;\">13.266</td><td style = \"text-align: right;\">13.521</td><td style = \"text-align: right;\">13.085</td><td style = \"text-align: right;\">13.292</td><td style = \"text-align: right;\">11.783</td><td style = \"text-align: right;\">14.967</td><td style = \"text-align: right;\">12.924</td><td style = \"text-align: right;\">16.235</td><td style = \"text-align: right;\">16.191</td><td style = \"text-align: right;\">15.877</td><td style = \"text-align: right;\">15.898</td><td style = \"text-align: right;\">15.851</td><td style = \"text-align: right;\">16.033</td><td style = \"text-align: right;\">14.695</td><td style = \"text-align: right;\">13.533</td><td style = \"text-align: right;\">9.657</td><td style = \"text-align: right;\">12.811</td><td style = \"text-align: right;\">13.877</td><td style = \"text-align: right;\">14.851</td><td style = \"text-align: right;\">14.993</td><td style = \"text-align: right;\">14.642</td><td style = \"text-align: right;\">12.832</td><td style = \"text-align: right;\">13.225</td><td style = \"text-align: right;\">12.795</td><td style = \"text-align: right;\">18.21</td><td style = \"text-align: right;\">16.846</td><td style = \"text-align: right;\">17.019</td><td style = \"text-align: right;\">15.882</td><td style = \"text-align: right;\">15.599</td><td style = \"text-align: right;\">14.0</td><td style = \"text-align: right;\">&ctdot;</td></tr><tr><td class = \"rowNumber\" style = \"font-weight: bold; text-align: right;\">4</td><td style = \"text-align: left;\">H0365</td><td style = \"text-align: left;\">BXD9</td><td style = \"text-align: right;\">9</td><td style = \"text-align: right;\">11.374</td><td style = \"text-align: right;\">10.674</td><td style = \"text-align: right;\">17.714</td><td style = \"text-align: right;\">17.401</td><td style = \"text-align: right;\">17.381</td><td style = \"text-align: right;\">16.621</td><td style = \"text-align: right;\">16.337</td><td style = \"text-align: right;\">16.279</td><td style = \"text-align: right;\">16.304</td><td style = \"text-align: right;\">16.153</td><td style = \"text-align: right;\">15.509</td><td style = \"text-align: right;\">15.673</td><td style = \"text-align: right;\">15.411</td><td style = \"text-align: right;\">15.207</td><td style = \"text-align: right;\">15.082</td><td style = \"text-align: right;\">14.959</td><td style = \"text-align: right;\">14.782</td><td style = \"text-align: right;\">14.53</td><td style = \"text-align: right;\">14.636</td><td style = \"text-align: right;\">14.309</td><td style = \"text-align: right;\">14.296</td><td style = \"text-align: right;\">13.808</td><td style = \"text-align: right;\">13.163</td><td style = \"text-align: right;\">12.99</td><td style = \"text-align: right;\">12.106</td><td style = \"text-align: right;\">14.457</td><td style = \"text-align: right;\">14.464</td><td style = \"text-align: right;\">13.119</td><td style = \"text-align: right;\">13.42</td><td style = \"text-align: right;\">13.466</td><td style = \"text-align: right;\">13.717</td><td style = \"text-align: right;\">13.305</td><td style = \"text-align: right;\">9.526</td><td style = \"text-align: right;\">10.685</td><td style = \"text-align: right;\">14.608</td><td style = \"text-align: right;\">15.05</td><td style = \"text-align: right;\">11.858</td><td style = \"text-align: right;\">14.077</td><td style = \"text-align: right;\">13.459</td><td style = \"text-align: right;\">14.379</td><td style = \"text-align: right;\">14.294</td><td style = \"text-align: right;\">13.946</td><td style = \"text-align: right;\">13.816</td><td style = \"text-align: right;\">14.172</td><td style = \"text-align: right;\">14.218</td><td style = \"text-align: right;\">13.352</td><td style = \"text-align: right;\">13.12</td><td style = \"text-align: right;\">12.885</td><td style = \"text-align: right;\">12.876</td><td style = \"text-align: right;\">12.836</td><td style = \"text-align: right;\">11.771</td><td style = \"text-align: right;\">15.005</td><td style = \"text-align: right;\">13.907</td><td style = \"text-align: right;\">15.195</td><td style = \"text-align: right;\">14.505</td><td style = \"text-align: right;\">14.645</td><td style = \"text-align: right;\">14.437</td><td style = \"text-align: right;\">14.339</td><td style = \"text-align: right;\">13.929</td><td style = \"text-align: right;\">13.891</td><td style = \"text-align: right;\">12.584</td><td style = \"text-align: right;\">13.894</td><td style = \"text-align: right;\">13.005</td><td style = \"text-align: right;\">11.745</td><td style = \"text-align: right;\">11.587</td><td style = \"text-align: right;\">13.855</td><td style = \"text-align: right;\">13.595</td><td style = \"text-align: right;\">13.443</td><td style = \"text-align: right;\">13.53</td><td style = \"text-align: right;\">13.295</td><td style = \"text-align: right;\">12.984</td><td style = \"text-align: right;\">12.606</td><td style = \"text-align: right;\">14.777</td><td style = \"text-align: right;\">13.316</td><td style = \"text-align: right;\">16.244</td><td style = \"text-align: right;\">16.171</td><td style = \"text-align: right;\">16.074</td><td style = \"text-align: right;\">15.865</td><td style = \"text-align: right;\">15.819</td><td style = \"text-align: right;\">15.716</td><td style = \"text-align: right;\">14.651</td><td style = \"text-align: right;\">13.418</td><td style = \"text-align: right;\">12.186</td><td style = \"text-align: right;\">11.279</td><td style = \"text-align: right;\">13.677</td><td style = \"text-align: right;\">15.099</td><td style = \"text-align: right;\">14.941</td><td style = \"text-align: right;\">14.738</td><td style = \"text-align: right;\">13.196</td><td style = \"text-align: right;\">13.011</td><td style = \"text-align: right;\">13.543</td><td style = \"text-align: right;\">18.146</td><td style = \"text-align: right;\">17.282</td><td style = \"text-align: right;\">17.106</td><td style = \"text-align: right;\">16.174</td><td style = \"text-align: right;\">15.614</td><td style = \"text-align: right;\">13.949</td><td style = \"text-align: right;\">&ctdot;</td></tr><tr><td class = \"rowNumber\" style = \"font-weight: bold; text-align: right;\">5</td><td style = \"text-align: left;\">H1333</td><td style = \"text-align: left;\">BXD13</td><td style = \"text-align: right;\">13</td><td style = \"text-align: right;\">11.687</td><td style = \"text-align: right;\">11.524</td><td style = \"text-align: right;\">17.362</td><td style = \"text-align: right;\">17.367</td><td style = \"text-align: right;\">17.071</td><td style = \"text-align: right;\">16.465</td><td style = \"text-align: right;\">15.97</td><td style = \"text-align: right;\">15.98</td><td style = \"text-align: right;\">16.108</td><td style = \"text-align: right;\">15.938</td><td style = \"text-align: right;\">15.541</td><td style = \"text-align: right;\">15.121</td><td style = \"text-align: right;\">14.971</td><td style = \"text-align: right;\">14.903</td><td style = \"text-align: right;\">14.859</td><td style = \"text-align: right;\">14.664</td><td style = \"text-align: right;\">14.504</td><td style = \"text-align: right;\">14.407</td><td style = \"text-align: right;\">13.969</td><td style = \"text-align: right;\">14.8</td><td style = \"text-align: right;\">14.137</td><td style = \"text-align: right;\">13.564</td><td style = \"text-align: right;\">12.76</td><td style = \"text-align: right;\">12.675</td><td style = \"text-align: right;\">10.73</td><td style = \"text-align: right;\">14.177</td><td style = \"text-align: right;\">14.387</td><td style = \"text-align: right;\">14.163</td><td style = \"text-align: right;\">14.263</td><td style = \"text-align: right;\">14.137</td><td style = \"text-align: right;\">13.716</td><td style = \"text-align: right;\">13.914</td><td style = \"text-align: right;\">10.33</td><td style = \"text-align: right;\">12.509</td><td style = \"text-align: right;\">14.681</td><td style = \"text-align: right;\">15.291</td><td style = \"text-align: right;\">12.428</td><td style = \"text-align: right;\">13.724</td><td style = \"text-align: right;\">13.942</td><td style = \"text-align: right;\">14.533</td><td style = \"text-align: right;\">14.243</td><td style = \"text-align: right;\">14.28</td><td style = \"text-align: right;\">14.347</td><td style = \"text-align: right;\">14.401</td><td style = \"text-align: right;\">13.624</td><td style = \"text-align: right;\">13.771</td><td style = \"text-align: right;\">13.424</td><td style = \"text-align: right;\">13.562</td><td style = \"text-align: right;\">13.38</td><td style = \"text-align: right;\">12.794</td><td style = \"text-align: right;\">12.361</td><td style = \"text-align: right;\">15.332</td><td style = \"text-align: right;\">14.932</td><td style = \"text-align: right;\">14.845</td><td style = \"text-align: right;\">15.077</td><td style = \"text-align: right;\">14.859</td><td style = \"text-align: right;\">14.384</td><td style = \"text-align: right;\">14.296</td><td style = \"text-align: right;\">13.806</td><td style = \"text-align: right;\">14.147</td><td style = \"text-align: right;\">13.204</td><td style = \"text-align: right;\">13.585</td><td style = \"text-align: right;\">13.129</td><td style = \"text-align: right;\">12.163</td><td style = \"text-align: right;\">8.345</td><td style = \"text-align: right;\">14.16</td><td style = \"text-align: right;\">13.969</td><td style = \"text-align: right;\">14.061</td><td style = \"text-align: right;\">13.865</td><td style = \"text-align: right;\">13.096</td><td style = \"text-align: right;\">13.459</td><td style = \"text-align: right;\">12.487</td><td style = \"text-align: right;\">14.692</td><td style = \"text-align: right;\">13.804</td><td style = \"text-align: right;\">16.059</td><td style = \"text-align: right;\">16.074</td><td style = \"text-align: right;\">16.011</td><td style = \"text-align: right;\">15.545</td><td style = \"text-align: right;\">15.406</td><td style = \"text-align: right;\">15.51</td><td style = \"text-align: right;\">14.934</td><td style = \"text-align: right;\">13.014</td><td style = \"text-align: right;\">12.128</td><td style = \"text-align: right;\">10.242</td><td style = \"text-align: right;\">14.031</td><td style = \"text-align: right;\">14.619</td><td style = \"text-align: right;\">14.694</td><td style = \"text-align: right;\">14.367</td><td style = \"text-align: right;\">13.109</td><td style = \"text-align: right;\">12.496</td><td style = \"text-align: right;\">13.936</td><td style = \"text-align: right;\">18.353</td><td style = \"text-align: right;\">17.438</td><td style = \"text-align: right;\">17.023</td><td style = \"text-align: right;\">16.186</td><td style = \"text-align: right;\">15.476</td><td style = \"text-align: right;\">14.089</td><td style = \"text-align: right;\">&ctdot;</td></tr><tr><td class = \"rowNumber\" style = \"font-weight: bold; text-align: right;\">6</td><td style = \"text-align: left;\">H2259</td><td style = \"text-align: left;\">BXD24</td><td style = \"text-align: right;\">24</td><td style = \"text-align: right;\">11.837</td><td style = \"text-align: right;\">11.715</td><td style = \"text-align: right;\">17.57</td><td style = \"text-align: right;\">17.792</td><td style = \"text-align: right;\">17.505</td><td style = \"text-align: right;\">16.894</td><td style = \"text-align: right;\">16.277</td><td style = \"text-align: right;\">16.408</td><td style = \"text-align: right;\">16.127</td><td style = \"text-align: right;\">16.226</td><td style = \"text-align: right;\">15.512</td><td style = \"text-align: right;\">15.217</td><td style = \"text-align: right;\">14.936</td><td style = \"text-align: right;\">15.126</td><td style = \"text-align: right;\">15.137</td><td style = \"text-align: right;\">14.774</td><td style = \"text-align: right;\">14.909</td><td style = \"text-align: right;\">14.821</td><td style = \"text-align: right;\">14.443</td><td style = \"text-align: right;\">14.327</td><td style = \"text-align: right;\">13.977</td><td style = \"text-align: right;\">13.275</td><td style = \"text-align: right;\">13.467</td><td style = \"text-align: right;\">12.901</td><td style = \"text-align: right;\">12.17</td><td style = \"text-align: right;\">15.032</td><td style = \"text-align: right;\">14.423</td><td style = \"text-align: right;\">16.016</td><td style = \"text-align: right;\">14.499</td><td style = \"text-align: right;\">14.443</td><td style = \"text-align: right;\">14.15</td><td style = \"text-align: right;\">13.914</td><td style = \"text-align: right;\">11.629</td><td style = \"text-align: right;\">11.703</td><td style = \"text-align: right;\">14.199</td><td style = \"text-align: right;\">14.91</td><td style = \"text-align: right;\">13.119</td><td style = \"text-align: right;\">14.628</td><td style = \"text-align: right;\">14.397</td><td style = \"text-align: right;\">14.863</td><td style = \"text-align: right;\">15.049</td><td style = \"text-align: right;\">14.504</td><td style = \"text-align: right;\">13.994</td><td style = \"text-align: right;\">13.705</td><td style = \"text-align: right;\">14.438</td><td style = \"text-align: right;\">13.283</td><td style = \"text-align: right;\">14.034</td><td style = \"text-align: right;\">13.776</td><td style = \"text-align: right;\">13.369</td><td style = \"text-align: right;\">13.268</td><td style = \"text-align: right;\">13.169</td><td style = \"text-align: right;\">15.819</td><td style = \"text-align: right;\">16.623</td><td style = \"text-align: right;\">14.966</td><td style = \"text-align: right;\">15.085</td><td style = \"text-align: right;\">15.048</td><td style = \"text-align: right;\">14.508</td><td style = \"text-align: right;\">13.742</td><td style = \"text-align: right;\">14.183</td><td style = \"text-align: right;\">14.045</td><td style = \"text-align: right;\">12.944</td><td style = \"text-align: right;\">13.709</td><td style = \"text-align: right;\">13.951</td><td style = \"text-align: right;\">11.915</td><td style = \"text-align: right;\">12.226</td><td style = \"text-align: right;\">14.677</td><td style = \"text-align: right;\">14.584</td><td style = \"text-align: right;\">14.699</td><td style = \"text-align: right;\">13.069</td><td style = \"text-align: right;\">13.73</td><td style = \"text-align: right;\">13.668</td><td style = \"text-align: right;\">12.112</td><td style = \"text-align: right;\">14.754</td><td style = \"text-align: right;\">13.307</td><td style = \"text-align: right;\">16.1</td><td style = \"text-align: right;\">16.239</td><td style = \"text-align: right;\">16.072</td><td style = \"text-align: right;\">15.849</td><td style = \"text-align: right;\">15.743</td><td style = \"text-align: right;\">15.519</td><td style = \"text-align: right;\">15.132</td><td style = \"text-align: right;\">13.229</td><td style = \"text-align: right;\">12.628</td><td style = \"text-align: right;\">9.156</td><td style = \"text-align: right;\">13.72</td><td style = \"text-align: right;\">15.432</td><td style = \"text-align: right;\">15.469</td><td style = \"text-align: right;\">14.728</td><td style = \"text-align: right;\">13.421</td><td style = \"text-align: right;\">13.398</td><td style = \"text-align: right;\">14.013</td><td style = \"text-align: right;\">17.736</td><td style = \"text-align: right;\">17.088</td><td style = \"text-align: right;\">16.729</td><td style = \"text-align: right;\">16.112</td><td style = \"text-align: right;\">15.209</td><td style = \"text-align: right;\">13.971</td><td style = \"text-align: right;\">&ctdot;</td></tr></tbody></table></div>"
      ],
      "text/latex": [
       "\\begin{tabular}{r|ccccccc}\n",
       "\t& Sample & Strain & Strain\\_num & P42209\\_DESGLNRK\\_2 & P42209\\_GLRPLDVAFLR\\_3 & Q99M02\\_VGDPVYR\\_2 & \\\\\n",
       "\t\\hline\n",
       "\t& String7 & String7 & Int64 & Float64 & Float64 & Float64 & \\\\\n",
       "\t\\hline\n",
       "\t1 & H1009 & BXD9 & 9 & 11.349 & 11.534 & 17.587 & $\\dots$ \\\\\n",
       "\t2 & H0370 & BXD9 & 9 & 11.249 & 12.735 & 17.427 & $\\dots$ \\\\\n",
       "\t3 & H2577 & BXD9 & 9 & 12.415 & 10.487 & 17.89 & $\\dots$ \\\\\n",
       "\t4 & H0365 & BXD9 & 9 & 11.374 & 10.674 & 17.714 & $\\dots$ \\\\\n",
       "\t5 & H1333 & BXD13 & 13 & 11.687 & 11.524 & 17.362 & $\\dots$ \\\\\n",
       "\t6 & H2259 & BXD24 & 24 & 11.837 & 11.715 & 17.57 & $\\dots$ \\\\\n",
       "\\end{tabular}\n"
      ],
      "text/plain": [
       "\u001b[1m6×32448 DataFrame\u001b[0m\n",
       "\u001b[1m Row \u001b[0m│\u001b[1m Sample  \u001b[0m\u001b[1m Strain  \u001b[0m\u001b[1m Strain_num \u001b[0m\u001b[1m P42209_DESGLNRK_2 \u001b[0m\u001b[1m P42209_GLRPLDVAFLR_3 \u001b[0m\u001b[1m \u001b[0m ⋯\n",
       "     │\u001b[90m String7 \u001b[0m\u001b[90m String7 \u001b[0m\u001b[90m Int64      \u001b[0m\u001b[90m Float64           \u001b[0m\u001b[90m Float64              \u001b[0m\u001b[90m \u001b[0m ⋯\n",
       "─────┼──────────────────────────────────────────────────────────────────────────\n",
       "   1 │ H1009    BXD9              9             11.349                11.534   ⋯\n",
       "   2 │ H0370    BXD9              9             11.249                12.735\n",
       "   3 │ H2577    BXD9              9             12.415                10.487\n",
       "   4 │ H0365    BXD9              9             11.374                10.674\n",
       "   5 │ H1333    BXD13            13             11.687                11.524   ⋯\n",
       "   6 │ H2259    BXD24            24             11.837                11.715\n",
       "\u001b[36m                                                           32443 columns omitted\u001b[0m"
      ]
     },
     "execution_count": 52,
     "metadata": {},
     "output_type": "execute_result"
    }
   ],
   "source": [
    "BXD_pheno_ind_summary_df[1:6, :]"
   ]
  },
  {
   "cell_type": "code",
   "execution_count": 53,
   "id": "b377263f-5b06-48ce-b4cd-e190d1c61ef1",
   "metadata": {},
   "outputs": [
    {
     "data": {
      "text/html": [
       "<div><div style = \"float: left;\"><span>6×32447 DataFrame</span></div><div style = \"float: right;\"><span style = \"font-style: italic;\">32347 columns omitted</span></div><div style = \"clear: both;\"></div></div><div class = \"data-frame\" style = \"overflow-x: scroll;\"><table class = \"data-frame\" style = \"margin-bottom: 6px;\"><thead><tr class = \"header\"><th class = \"rowNumber\" style = \"font-weight: bold; text-align: right;\">Row</th><th style = \"text-align: left;\">Strain</th><th style = \"text-align: left;\">Number of Samples</th><th style = \"text-align: left;\">P42209_DESGLNRK_2</th><th style = \"text-align: left;\">P42209_GLRPLDVAFLR_3</th><th style = \"text-align: left;\">Q99M02_VGDPVYR_2</th><th style = \"text-align: left;\">Q99M02_VWIYPIK_2</th><th style = \"text-align: left;\">Q99M02_LCDPSVK_2</th><th style = \"text-align: left;\">Q99M02_CVLTTVDPDTGIIDR_2</th><th style = \"text-align: left;\">Q99M02_LVQFDTSMK_2</th><th style = \"text-align: left;\">Q99M02_QLQQVGTVSK_2</th><th style = \"text-align: left;\">Q99M02_KLYPSESYLQNYEVAYPDCSPVHLISEASLVDLNTR_4</th><th style = \"text-align: left;\">Q99M02_GRDCGDEVAQWFTNYLK_3</th><th style = \"text-align: left;\">Q99M02_SIYQSSPLFGMYFSVEK_2</th><th style = \"text-align: left;\">Q99M02_RQLQQVGTVSK_3</th><th style = \"text-align: left;\">Q99M02_LYPSESYLQNYEVAYPDCSPVHLISEASLVDLNTR_4</th><th style = \"text-align: left;\">Q99M02_KLYPSESYLQNYEVAYPDCSPVHLISEASLVDLNTR_5</th><th style = \"text-align: left;\">Q99M02_SIYQSSPLFGMYFSVEK_3</th><th style = \"text-align: left;\">Q99M02_CVLTTVDPDTGIIDRK_3</th><th style = \"text-align: left;\">Q99M02_CVLTTVDPDTGIIDR_3</th><th style = \"text-align: left;\">Q99M02_TQAYRLVQFDTSMK_3</th><th style = \"text-align: left;\">Q99M02_GVSVCETECTDMGLR_2</th><th style = \"text-align: left;\">Q99M02_DCGDEVAQWFTNYLK_2</th><th style = \"text-align: left;\">Q99M02_DRFWMVVK_2</th><th style = \"text-align: left;\">Q99M02_GRDCGDEVAQWFTNYLK_2</th><th style = \"text-align: left;\">Q99M02_DCGDEVAQWFTNYLK_3</th><th style = \"text-align: left;\">Q99M02_EDGHMVTAR_2</th><th style = \"text-align: left;\">Q99M02_RQLQQVGTVSK_2</th><th style = \"text-align: left;\">P42208_TIISYIDEQFER_2</th><th style = \"text-align: left;\">P42208_ILDEIEEHSIK_3</th><th style = \"text-align: left;\">P42208_VNIVPVIAK_2</th><th style = \"text-align: left;\">P42208_ASIPFSVVGSNQLIEAK_2</th><th style = \"text-align: left;\">P42208_TVQIEASTVEIEER_2</th><th style = \"text-align: left;\">P42208_LTVVDTPGYGDAINCR_2</th><th style = \"text-align: left;\">P42208_ASIPFSVVGSNQLIEAK_3</th><th style = \"text-align: left;\">P42208_STLINSLFLTDLYPER_3</th><th style = \"text-align: left;\">Q9Z1S5_VNIIPVIAK_2</th><th style = \"text-align: left;\">Q3KNM2_LGPVVYVLDLADR_2</th><th style = \"text-align: left;\">Q9Z2Q6_LATPEDKQDIDKQYVGFATLPNQVHR_4</th><th style = \"text-align: left;\">Q9Z2Q6_VNIVPILAK_2</th><th style = \"text-align: left;\">Q9R1T4_RNEFLGELQK_3</th><th style = \"text-align: left;\">Q9R1T4_STLMDTLFNTK_2</th><th style = \"text-align: left;\">O55131_STLINSLFLTDLYSPEYPGPSHR_3</th><th style = \"text-align: left;\">O55131_FEDYLNAESR_2</th><th style = \"text-align: left;\">O55131_IYEFPETDDEEENKLVK_3</th><th style = \"text-align: left;\">O55131_NLEGYVGFANLPNQVYR_2</th><th style = \"text-align: left;\">O55131_DVTNNVHYENYR_3</th><th style = \"text-align: left;\">O55131_ANWEAQQR_2</th><th style = \"text-align: left;\">O55131_NLEGYVGFANLPNQVYR_3</th><th style = \"text-align: left;\">O55131_ADTLTPEECQQFK_2</th><th style = \"text-align: left;\">O55131_ILEQQNSSR_2</th><th style = \"text-align: left;\">O55131_VQCCLYFIAPSGHGLKPLDIEFMK_4</th><th style = \"text-align: left;\">O55131_TVQVEQSK_2</th><th style = \"text-align: left;\">O55131_LKDSEAELQR_2</th><th style = \"text-align: left;\">Q8CHH9_VNIIPLIAK_2</th><th style = \"text-align: left;\">Q8CHH9_VNIIPIIAK_2</th><th style = \"text-align: left;\">Q80UG5_ADTLTLEER_2</th><th style = \"text-align: left;\">Q80UG5_STLINTLFK_2</th><th style = \"text-align: left;\">Q80UG5_RTEITIVKPQESVLR_4</th><th style = \"text-align: left;\">Q80UG5_DITSNIHFEAYR_3</th><th style = \"text-align: left;\">Q80UG5_LEPRPSVAEVPYR_3</th><th style = \"text-align: left;\">Q80UG5_FINDQYEK_2</th><th style = \"text-align: left;\">Q80UG5_YLQEEVNINR_2</th><th style = \"text-align: left;\">Q80UG5_VVNIVPVIAK_2</th><th style = \"text-align: left;\">Q80UG5_SITHDIEEK_2</th><th style = \"text-align: left;\">Q80UG5_IPEGSAVPATDAAPK_2</th><th style = \"text-align: left;\">Q80UG5_SVQPTSEER_2</th><th style = \"text-align: left;\">Q80UG5_QVESTASAAGPSR_2</th><th style = \"text-align: left;\">Q8C1B7_FESDPATHNEPGVR_3</th><th style = \"text-align: left;\">Q8C1B7_SYELQESNVR_2</th><th style = \"text-align: left;\">Q8C1B7_NLSLSGHVGFDSLPDQLVNK_3</th><th style = \"text-align: left;\">Q8C1B7_AAAQLLQSQAQQSGAQQTK_3</th><th style = \"text-align: left;\">Q8C1B7_ELEEEVSNFQK_2</th><th style = \"text-align: left;\">Q9ERR7_WNTDSVEEFLSEK_2</th><th style = \"text-align: left;\">Q9ERR7_LLDDNGNIAEELSILK_2</th><th style = \"text-align: left;\">Q9ERY9_YLEAEPVSR_2</th><th style = \"text-align: left;\">P59708_ITAEEMYDIFGK_2</th><th style = \"text-align: left;\">Q9DCS2_CLDSIAATTR_2</th><th style = \"text-align: left;\">Q9DCS2_ISPQSNVDFDLTLR_2</th><th style = \"text-align: left;\">Q9DCS2_VLEVASGSGQHAAHFAQAFPNAEWQPSDVDQR_4</th><th style = \"text-align: left;\">Q9DCS2_QYVDPAQR_2</th><th style = \"text-align: left;\">Q9DCS2_NKEPILSVLR_2</th><th style = \"text-align: left;\">Q9DCS2_AQGLSNVK_2</th><th style = \"text-align: left;\">Q9DCS2_VLEVASGSGQHAAHFAQAFPNAEWQPSDVDQR_5</th><th style = \"text-align: left;\">Q9DCS2_MVDMPANNK_2</th><th style = \"text-align: left;\">Q9DCS2_DTVLLEELGQASGLVLER_3</th><th style = \"text-align: left;\">Q9DCS2_DTVLLEELGQASGLVLER_2</th><th style = \"text-align: left;\">Q9JHJ3_LLHTADVCQLEVALVGASPR_3</th><th style = \"text-align: left;\">A2A8E1_TIVEFECR_2</th><th style = \"text-align: left;\">A2A8E1_ATLENVTNLRPVGEDFR_3</th><th style = \"text-align: left;\">A2A8E1_ENSIDILSSTIK_2</th><th style = \"text-align: left;\">A2A8E1_AQESVGIFEVTHQFVK_3</th><th style = \"text-align: left;\">Q8BWR2_GLAYGLYLR_2</th><th style = \"text-align: left;\">Q8VED9_IQTLSAIDTIK_2</th><th style = \"text-align: left;\">Q9CRB3_LFFDTER_2</th><th style = \"text-align: left;\">Q9CRB3_FHVPLLLSPWSYTTYR_3</th><th style = \"text-align: left;\">Q9CRB3_TSYTNLDGR_2</th><th style = \"text-align: left;\">Q9CRB3_LEAPCQQWMELR_2</th><th style = \"text-align: left;\">Q9CRB3_CPGLLTPSQIKPGTYK_3</th><th style = \"text-align: left;\">Q9CRB3_LEAPCQQWMELR_3</th><th style = \"text-align: left;\">Q9CRB3_CPGLLTPSQIKPGTYK_2</th><th style = \"text-align: right;\">&ctdot;</th></tr><tr class = \"subheader headerLastRow\"><th class = \"rowNumber\" style = \"font-weight: bold; text-align: right;\"></th><th title = \"String7\" style = \"text-align: left;\">String7</th><th title = \"Int64\" style = \"text-align: left;\">Int64</th><th title = \"Float64\" style = \"text-align: left;\">Float64</th><th title = \"Float64\" style = \"text-align: left;\">Float64</th><th title = \"Float64\" style = \"text-align: left;\">Float64</th><th title = \"Float64\" style = \"text-align: left;\">Float64</th><th title = \"Float64\" style = \"text-align: left;\">Float64</th><th title = \"Float64\" style = \"text-align: left;\">Float64</th><th title = \"Float64\" style = \"text-align: left;\">Float64</th><th title = \"Float64\" style = \"text-align: left;\">Float64</th><th title = \"Float64\" style = \"text-align: left;\">Float64</th><th title = \"Float64\" style = \"text-align: left;\">Float64</th><th title = \"Float64\" style = \"text-align: left;\">Float64</th><th title = \"Float64\" style = \"text-align: left;\">Float64</th><th title = \"Float64\" style = \"text-align: left;\">Float64</th><th title = \"Float64\" style = \"text-align: left;\">Float64</th><th title = \"Float64\" style = \"text-align: left;\">Float64</th><th title = \"Float64\" style = \"text-align: left;\">Float64</th><th title = \"Float64\" style = \"text-align: left;\">Float64</th><th title = \"Float64\" style = \"text-align: left;\">Float64</th><th title = \"Float64\" style = \"text-align: left;\">Float64</th><th title = \"Float64\" style = \"text-align: left;\">Float64</th><th title = \"Float64\" style = \"text-align: left;\">Float64</th><th title = \"Float64\" style = \"text-align: left;\">Float64</th><th title = \"Float64\" style = \"text-align: left;\">Float64</th><th title = \"Float64\" style = \"text-align: left;\">Float64</th><th title = \"Float64\" style = \"text-align: left;\">Float64</th><th title = \"Float64\" style = \"text-align: left;\">Float64</th><th title = \"Float64\" style = \"text-align: left;\">Float64</th><th title = \"Float64\" style = \"text-align: left;\">Float64</th><th title = \"Float64\" style = \"text-align: left;\">Float64</th><th title = \"Float64\" style = \"text-align: left;\">Float64</th><th title = \"Float64\" style = \"text-align: left;\">Float64</th><th title = \"Float64\" style = \"text-align: left;\">Float64</th><th title = \"Float64\" style = \"text-align: left;\">Float64</th><th title = \"Float64\" style = \"text-align: left;\">Float64</th><th title = \"Float64\" style = \"text-align: left;\">Float64</th><th title = \"Float64\" style = \"text-align: left;\">Float64</th><th title = \"Float64\" style = \"text-align: left;\">Float64</th><th title = \"Float64\" style = \"text-align: left;\">Float64</th><th title = \"Float64\" style = \"text-align: left;\">Float64</th><th title = \"Float64\" style = \"text-align: left;\">Float64</th><th title = \"Float64\" style = \"text-align: left;\">Float64</th><th title = \"Float64\" style = \"text-align: left;\">Float64</th><th title = \"Float64\" style = \"text-align: left;\">Float64</th><th title = \"Float64\" style = \"text-align: left;\">Float64</th><th title = \"Float64\" style = \"text-align: left;\">Float64</th><th title = \"Float64\" style = \"text-align: left;\">Float64</th><th title = \"Float64\" style = \"text-align: left;\">Float64</th><th title = \"Float64\" style = \"text-align: left;\">Float64</th><th title = \"Float64\" style = \"text-align: left;\">Float64</th><th title = \"Float64\" style = \"text-align: left;\">Float64</th><th title = \"Float64\" style = \"text-align: left;\">Float64</th><th title = \"Float64\" style = \"text-align: left;\">Float64</th><th title = \"Float64\" style = \"text-align: left;\">Float64</th><th title = \"Float64\" style = \"text-align: left;\">Float64</th><th title = \"Float64\" style = \"text-align: left;\">Float64</th><th title = \"Float64\" style = \"text-align: left;\">Float64</th><th title = \"Float64\" style = \"text-align: left;\">Float64</th><th title = \"Float64\" style = \"text-align: left;\">Float64</th><th title = \"Float64\" style = \"text-align: left;\">Float64</th><th title = \"Float64\" style = \"text-align: left;\">Float64</th><th title = \"Float64\" style = \"text-align: left;\">Float64</th><th title = \"Float64\" style = \"text-align: left;\">Float64</th><th title = \"Float64\" style = \"text-align: left;\">Float64</th><th title = \"Float64\" style = \"text-align: left;\">Float64</th><th title = \"Float64\" style = \"text-align: left;\">Float64</th><th title = \"Float64\" style = \"text-align: left;\">Float64</th><th title = \"Float64\" style = \"text-align: left;\">Float64</th><th title = \"Float64\" style = \"text-align: left;\">Float64</th><th title = \"Float64\" style = \"text-align: left;\">Float64</th><th title = \"Float64\" style = \"text-align: left;\">Float64</th><th title = \"Float64\" style = \"text-align: left;\">Float64</th><th title = \"Float64\" style = \"text-align: left;\">Float64</th><th title = \"Float64\" style = \"text-align: left;\">Float64</th><th title = \"Float64\" style = \"text-align: left;\">Float64</th><th title = \"Float64\" style = \"text-align: left;\">Float64</th><th title = \"Float64\" style = \"text-align: left;\">Float64</th><th title = \"Float64\" style = \"text-align: left;\">Float64</th><th title = \"Float64\" style = \"text-align: left;\">Float64</th><th title = \"Float64\" style = \"text-align: left;\">Float64</th><th title = \"Float64\" style = \"text-align: left;\">Float64</th><th title = \"Float64\" style = \"text-align: left;\">Float64</th><th title = \"Float64\" style = \"text-align: left;\">Float64</th><th title = \"Float64\" style = \"text-align: left;\">Float64</th><th title = \"Float64\" style = \"text-align: left;\">Float64</th><th title = \"Float64\" style = \"text-align: left;\">Float64</th><th title = \"Float64\" style = \"text-align: left;\">Float64</th><th title = \"Float64\" style = \"text-align: left;\">Float64</th><th title = \"Float64\" style = \"text-align: left;\">Float64</th><th title = \"Float64\" style = \"text-align: left;\">Float64</th><th title = \"Float64\" style = \"text-align: left;\">Float64</th><th title = \"Float64\" style = \"text-align: left;\">Float64</th><th title = \"Float64\" style = \"text-align: left;\">Float64</th><th title = \"Float64\" style = \"text-align: left;\">Float64</th><th title = \"Float64\" style = \"text-align: left;\">Float64</th><th title = \"Float64\" style = \"text-align: left;\">Float64</th><th title = \"Float64\" style = \"text-align: left;\">Float64</th><th title = \"Float64\" style = \"text-align: left;\">Float64</th><th title = \"Float64\" style = \"text-align: left;\">Float64</th><th title = \"Float64\" style = \"text-align: right;\">&ctdot;</th></tr></thead><tbody><tr><td class = \"rowNumber\" style = \"font-weight: bold; text-align: right;\">1</td><td style = \"text-align: left;\">BXD9</td><td style = \"text-align: right;\">4</td><td style = \"text-align: right;\">11.5968</td><td style = \"text-align: right;\">11.3575</td><td style = \"text-align: right;\">17.6545</td><td style = \"text-align: right;\">17.4327</td><td style = \"text-align: right;\">17.384</td><td style = \"text-align: right;\">16.6528</td><td style = \"text-align: right;\">16.2222</td><td style = \"text-align: right;\">16.3227</td><td style = \"text-align: right;\">16.1728</td><td style = \"text-align: right;\">15.9748</td><td style = \"text-align: right;\">15.389</td><td style = \"text-align: right;\">15.5355</td><td style = \"text-align: right;\">15.2248</td><td style = \"text-align: right;\">15.0568</td><td style = \"text-align: right;\">14.8253</td><td style = \"text-align: right;\">14.9138</td><td style = \"text-align: right;\">14.701</td><td style = \"text-align: right;\">14.4827</td><td style = \"text-align: right;\">14.435</td><td style = \"text-align: right;\">14.1852</td><td style = \"text-align: right;\">14.181</td><td style = \"text-align: right;\">13.767</td><td style = \"text-align: right;\">12.6575</td><td style = \"text-align: right;\">13.0293</td><td style = \"text-align: right;\">12.1615</td><td style = \"text-align: right;\">14.4335</td><td style = \"text-align: right;\">14.329</td><td style = \"text-align: right;\">13.121</td><td style = \"text-align: right;\">13.7155</td><td style = \"text-align: right;\">13.792</td><td style = \"text-align: right;\">13.6792</td><td style = \"text-align: right;\">13.588</td><td style = \"text-align: right;\">10.4722</td><td style = \"text-align: right;\">10.8012</td><td style = \"text-align: right;\">14.4032</td><td style = \"text-align: right;\">15.1105</td><td style = \"text-align: right;\">12.296</td><td style = \"text-align: right;\">13.9857</td><td style = \"text-align: right;\">13.5813</td><td style = \"text-align: right;\">14.4152</td><td style = \"text-align: right;\">14.314</td><td style = \"text-align: right;\">14.0682</td><td style = \"text-align: right;\">14.0802</td><td style = \"text-align: right;\">14.0095</td><td style = \"text-align: right;\">14.2483</td><td style = \"text-align: right;\">13.491</td><td style = \"text-align: right;\">13.2422</td><td style = \"text-align: right;\">13.0218</td><td style = \"text-align: right;\">13.1207</td><td style = \"text-align: right;\">12.596</td><td style = \"text-align: right;\">12.545</td><td style = \"text-align: right;\">15.0785</td><td style = \"text-align: right;\">14.098</td><td style = \"text-align: right;\">14.998</td><td style = \"text-align: right;\">14.2985</td><td style = \"text-align: right;\">14.5045</td><td style = \"text-align: right;\">14.4415</td><td style = \"text-align: right;\">14.059</td><td style = \"text-align: right;\">13.7245</td><td style = \"text-align: right;\">13.7157</td><td style = \"text-align: right;\">13.0465</td><td style = \"text-align: right;\">13.9132</td><td style = \"text-align: right;\">12.589</td><td style = \"text-align: right;\">12.211</td><td style = \"text-align: right;\">11.2688</td><td style = \"text-align: right;\">13.8725</td><td style = \"text-align: right;\">13.8287</td><td style = \"text-align: right;\">13.6202</td><td style = \"text-align: right;\">13.7073</td><td style = \"text-align: right;\">13.2155</td><td style = \"text-align: right;\">13.211</td><td style = \"text-align: right;\">12.4328</td><td style = \"text-align: right;\">14.7125</td><td style = \"text-align: right;\">13.2955</td><td style = \"text-align: right;\">16.292</td><td style = \"text-align: right;\">16.3242</td><td style = \"text-align: right;\">16.059</td><td style = \"text-align: right;\">15.9615</td><td style = \"text-align: right;\">15.9207</td><td style = \"text-align: right;\">15.8298</td><td style = \"text-align: right;\">14.756</td><td style = \"text-align: right;\">13.4055</td><td style = \"text-align: right;\">10.155</td><td style = \"text-align: right;\">10.0538</td><td style = \"text-align: right;\">13.8277</td><td style = \"text-align: right;\">15.0023</td><td style = \"text-align: right;\">14.9838</td><td style = \"text-align: right;\">14.7153</td><td style = \"text-align: right;\">13.053</td><td style = \"text-align: right;\">13.0248</td><td style = \"text-align: right;\">13.3317</td><td style = \"text-align: right;\">18.24</td><td style = \"text-align: right;\">17.0547</td><td style = \"text-align: right;\">17.0873</td><td style = \"text-align: right;\">16.1775</td><td style = \"text-align: right;\">15.6133</td><td style = \"text-align: right;\">14.0457</td><td style = \"text-align: right;\">13.528</td><td style = \"text-align: right;\">&ctdot;</td></tr><tr><td class = \"rowNumber\" style = \"font-weight: bold; text-align: right;\">2</td><td style = \"text-align: left;\">BXD13</td><td style = \"text-align: right;\">1</td><td style = \"text-align: right;\">11.687</td><td style = \"text-align: right;\">11.524</td><td style = \"text-align: right;\">17.362</td><td style = \"text-align: right;\">17.367</td><td style = \"text-align: right;\">17.071</td><td style = \"text-align: right;\">16.465</td><td style = \"text-align: right;\">15.97</td><td style = \"text-align: right;\">15.98</td><td style = \"text-align: right;\">16.108</td><td style = \"text-align: right;\">15.938</td><td style = \"text-align: right;\">15.541</td><td style = \"text-align: right;\">15.121</td><td style = \"text-align: right;\">14.971</td><td style = \"text-align: right;\">14.903</td><td style = \"text-align: right;\">14.859</td><td style = \"text-align: right;\">14.664</td><td style = \"text-align: right;\">14.504</td><td style = \"text-align: right;\">14.407</td><td style = \"text-align: right;\">13.969</td><td style = \"text-align: right;\">14.8</td><td style = \"text-align: right;\">14.137</td><td style = \"text-align: right;\">13.564</td><td style = \"text-align: right;\">12.76</td><td style = \"text-align: right;\">12.675</td><td style = \"text-align: right;\">10.73</td><td style = \"text-align: right;\">14.177</td><td style = \"text-align: right;\">14.387</td><td style = \"text-align: right;\">14.163</td><td style = \"text-align: right;\">14.263</td><td style = \"text-align: right;\">14.137</td><td style = \"text-align: right;\">13.716</td><td style = \"text-align: right;\">13.914</td><td style = \"text-align: right;\">10.33</td><td style = \"text-align: right;\">12.509</td><td style = \"text-align: right;\">14.681</td><td style = \"text-align: right;\">15.291</td><td style = \"text-align: right;\">12.428</td><td style = \"text-align: right;\">13.724</td><td style = \"text-align: right;\">13.942</td><td style = \"text-align: right;\">14.533</td><td style = \"text-align: right;\">14.243</td><td style = \"text-align: right;\">14.28</td><td style = \"text-align: right;\">14.347</td><td style = \"text-align: right;\">14.401</td><td style = \"text-align: right;\">13.624</td><td style = \"text-align: right;\">13.771</td><td style = \"text-align: right;\">13.424</td><td style = \"text-align: right;\">13.562</td><td style = \"text-align: right;\">13.38</td><td style = \"text-align: right;\">12.794</td><td style = \"text-align: right;\">12.361</td><td style = \"text-align: right;\">15.332</td><td style = \"text-align: right;\">14.932</td><td style = \"text-align: right;\">14.845</td><td style = \"text-align: right;\">15.077</td><td style = \"text-align: right;\">14.859</td><td style = \"text-align: right;\">14.384</td><td style = \"text-align: right;\">14.296</td><td style = \"text-align: right;\">13.806</td><td style = \"text-align: right;\">14.147</td><td style = \"text-align: right;\">13.204</td><td style = \"text-align: right;\">13.585</td><td style = \"text-align: right;\">13.129</td><td style = \"text-align: right;\">12.163</td><td style = \"text-align: right;\">8.345</td><td style = \"text-align: right;\">14.16</td><td style = \"text-align: right;\">13.969</td><td style = \"text-align: right;\">14.061</td><td style = \"text-align: right;\">13.865</td><td style = \"text-align: right;\">13.096</td><td style = \"text-align: right;\">13.459</td><td style = \"text-align: right;\">12.487</td><td style = \"text-align: right;\">14.692</td><td style = \"text-align: right;\">13.804</td><td style = \"text-align: right;\">16.059</td><td style = \"text-align: right;\">16.074</td><td style = \"text-align: right;\">16.011</td><td style = \"text-align: right;\">15.545</td><td style = \"text-align: right;\">15.406</td><td style = \"text-align: right;\">15.51</td><td style = \"text-align: right;\">14.934</td><td style = \"text-align: right;\">13.014</td><td style = \"text-align: right;\">12.128</td><td style = \"text-align: right;\">10.242</td><td style = \"text-align: right;\">14.031</td><td style = \"text-align: right;\">14.619</td><td style = \"text-align: right;\">14.694</td><td style = \"text-align: right;\">14.367</td><td style = \"text-align: right;\">13.109</td><td style = \"text-align: right;\">12.496</td><td style = \"text-align: right;\">13.936</td><td style = \"text-align: right;\">18.353</td><td style = \"text-align: right;\">17.438</td><td style = \"text-align: right;\">17.023</td><td style = \"text-align: right;\">16.186</td><td style = \"text-align: right;\">15.476</td><td style = \"text-align: right;\">14.089</td><td style = \"text-align: right;\">13.59</td><td style = \"text-align: right;\">&ctdot;</td></tr><tr><td class = \"rowNumber\" style = \"font-weight: bold; text-align: right;\">3</td><td style = \"text-align: left;\">BXD24</td><td style = \"text-align: right;\">5</td><td style = \"text-align: right;\">12.0778</td><td style = \"text-align: right;\">11.7458</td><td style = \"text-align: right;\">17.7926</td><td style = \"text-align: right;\">17.8152</td><td style = \"text-align: right;\">17.5168</td><td style = \"text-align: right;\">16.9196</td><td style = \"text-align: right;\">16.3012</td><td style = \"text-align: right;\">16.4304</td><td style = \"text-align: right;\">16.4046</td><td style = \"text-align: right;\">16.198</td><td style = \"text-align: right;\">15.7484</td><td style = \"text-align: right;\">15.4766</td><td style = \"text-align: right;\">15.5122</td><td style = \"text-align: right;\">15.3378</td><td style = \"text-align: right;\">15.1678</td><td style = \"text-align: right;\">14.9602</td><td style = \"text-align: right;\">14.7964</td><td style = \"text-align: right;\">14.6034</td><td style = \"text-align: right;\">14.4538</td><td style = \"text-align: right;\">14.553</td><td style = \"text-align: right;\">14.1074</td><td style = \"text-align: right;\">13.4392</td><td style = \"text-align: right;\">13.4314</td><td style = \"text-align: right;\">12.8272</td><td style = \"text-align: right;\">12.076</td><td style = \"text-align: right;\">14.622</td><td style = \"text-align: right;\">14.2248</td><td style = \"text-align: right;\">14.2662</td><td style = \"text-align: right;\">13.7822</td><td style = \"text-align: right;\">14.082</td><td style = \"text-align: right;\">13.8986</td><td style = \"text-align: right;\">13.7788</td><td style = \"text-align: right;\">10.639</td><td style = \"text-align: right;\">10.9026</td><td style = \"text-align: right;\">14.6066</td><td style = \"text-align: right;\">15.3112</td><td style = \"text-align: right;\">12.8476</td><td style = \"text-align: right;\">14.1936</td><td style = \"text-align: right;\">13.8788</td><td style = \"text-align: right;\">14.5368</td><td style = \"text-align: right;\">14.5982</td><td style = \"text-align: right;\">14.1958</td><td style = \"text-align: right;\">14.0398</td><td style = \"text-align: right;\">14.0304</td><td style = \"text-align: right;\">14.1092</td><td style = \"text-align: right;\">13.5726</td><td style = \"text-align: right;\">13.493</td><td style = \"text-align: right;\">13.4714</td><td style = \"text-align: right;\">13.094</td><td style = \"text-align: right;\">12.8576</td><td style = \"text-align: right;\">12.6106</td><td style = \"text-align: right;\">15.381</td><td style = \"text-align: right;\">15.13</td><td style = \"text-align: right;\">14.7966</td><td style = \"text-align: right;\">14.7886</td><td style = \"text-align: right;\">14.807</td><td style = \"text-align: right;\">14.5512</td><td style = \"text-align: right;\">14.0154</td><td style = \"text-align: right;\">13.8298</td><td style = \"text-align: right;\">13.8532</td><td style = \"text-align: right;\">13.3786</td><td style = \"text-align: right;\">13.6128</td><td style = \"text-align: right;\">12.7878</td><td style = \"text-align: right;\">12.1732</td><td style = \"text-align: right;\">11.5004</td><td style = \"text-align: right;\">14.199</td><td style = \"text-align: right;\">14.1752</td><td style = \"text-align: right;\">14.03</td><td style = \"text-align: right;\">13.5106</td><td style = \"text-align: right;\">13.0432</td><td style = \"text-align: right;\">13.4558</td><td style = \"text-align: right;\">12.2262</td><td style = \"text-align: right;\">14.6826</td><td style = \"text-align: right;\">13.3648</td><td style = \"text-align: right;\">16.119</td><td style = \"text-align: right;\">16.1756</td><td style = \"text-align: right;\">16.024</td><td style = \"text-align: right;\">15.7366</td><td style = \"text-align: right;\">15.5866</td><td style = \"text-align: right;\">15.5456</td><td style = \"text-align: right;\">14.7516</td><td style = \"text-align: right;\">13.1946</td><td style = \"text-align: right;\">12.2582</td><td style = \"text-align: right;\">9.51</td><td style = \"text-align: right;\">13.862</td><td style = \"text-align: right;\">15.1892</td><td style = \"text-align: right;\">15.1918</td><td style = \"text-align: right;\">14.6118</td><td style = \"text-align: right;\">13.2002</td><td style = \"text-align: right;\">13.1128</td><td style = \"text-align: right;\">13.6436</td><td style = \"text-align: right;\">18.0574</td><td style = \"text-align: right;\">16.9206</td><td style = \"text-align: right;\">16.9398</td><td style = \"text-align: right;\">16.1706</td><td style = \"text-align: right;\">15.4332</td><td style = \"text-align: right;\">14.1424</td><td style = \"text-align: right;\">13.2646</td><td style = \"text-align: right;\">&ctdot;</td></tr><tr><td class = \"rowNumber\" style = \"font-weight: bold; text-align: right;\">4</td><td style = \"text-align: left;\">BXD27</td><td style = \"text-align: right;\">3</td><td style = \"text-align: right;\">11.717</td><td style = \"text-align: right;\">11.149</td><td style = \"text-align: right;\">17.336</td><td style = \"text-align: right;\">17.3143</td><td style = \"text-align: right;\">17.165</td><td style = \"text-align: right;\">16.5283</td><td style = \"text-align: right;\">15.9407</td><td style = \"text-align: right;\">16.002</td><td style = \"text-align: right;\">15.835</td><td style = \"text-align: right;\">15.6853</td><td style = \"text-align: right;\">15.393</td><td style = \"text-align: right;\">15.2167</td><td style = \"text-align: right;\">14.949</td><td style = \"text-align: right;\">15.1823</td><td style = \"text-align: right;\">14.6633</td><td style = \"text-align: right;\">14.868</td><td style = \"text-align: right;\">14.3793</td><td style = \"text-align: right;\">14.2423</td><td style = \"text-align: right;\">13.8173</td><td style = \"text-align: right;\">14.148</td><td style = \"text-align: right;\">14.0913</td><td style = \"text-align: right;\">13.4913</td><td style = \"text-align: right;\">12.6937</td><td style = \"text-align: right;\">12.1197</td><td style = \"text-align: right;\">11.027</td><td style = \"text-align: right;\">14.52</td><td style = \"text-align: right;\">14.422</td><td style = \"text-align: right;\">14.1073</td><td style = \"text-align: right;\">13.619</td><td style = \"text-align: right;\">13.63</td><td style = \"text-align: right;\">13.6857</td><td style = \"text-align: right;\">13.611</td><td style = \"text-align: right;\">9.32133</td><td style = \"text-align: right;\">11.7763</td><td style = \"text-align: right;\">14.571</td><td style = \"text-align: right;\">15.3837</td><td style = \"text-align: right;\">12.784</td><td style = \"text-align: right;\">14.6323</td><td style = \"text-align: right;\">13.7723</td><td style = \"text-align: right;\">14.1757</td><td style = \"text-align: right;\">14.3563</td><td style = \"text-align: right;\">14.211</td><td style = \"text-align: right;\">14.0903</td><td style = \"text-align: right;\">14.1083</td><td style = \"text-align: right;\">14.071</td><td style = \"text-align: right;\">13.6597</td><td style = \"text-align: right;\">13.4197</td><td style = \"text-align: right;\">13.5897</td><td style = \"text-align: right;\">12.8537</td><td style = \"text-align: right;\">12.67</td><td style = \"text-align: right;\">12.1583</td><td style = \"text-align: right;\">15.2177</td><td style = \"text-align: right;\">14.5537</td><td style = \"text-align: right;\">14.891</td><td style = \"text-align: right;\">14.2777</td><td style = \"text-align: right;\">14.77</td><td style = \"text-align: right;\">14.5403</td><td style = \"text-align: right;\">14.3283</td><td style = \"text-align: right;\">13.8783</td><td style = \"text-align: right;\">13.4637</td><td style = \"text-align: right;\">13.6553</td><td style = \"text-align: right;\">13.646</td><td style = \"text-align: right;\">13.0073</td><td style = \"text-align: right;\">11.9843</td><td style = \"text-align: right;\">10.2057</td><td style = \"text-align: right;\">13.9873</td><td style = \"text-align: right;\">14.092</td><td style = \"text-align: right;\">13.784</td><td style = \"text-align: right;\">13.8003</td><td style = \"text-align: right;\">13.3137</td><td style = \"text-align: right;\">13.387</td><td style = \"text-align: right;\">12.7673</td><td style = \"text-align: right;\">15.2597</td><td style = \"text-align: right;\">13.5233</td><td style = \"text-align: right;\">16.011</td><td style = \"text-align: right;\">15.8713</td><td style = \"text-align: right;\">15.713</td><td style = \"text-align: right;\">15.4403</td><td style = \"text-align: right;\">15.3543</td><td style = \"text-align: right;\">15.4597</td><td style = \"text-align: right;\">14.6077</td><td style = \"text-align: right;\">13.0793</td><td style = \"text-align: right;\">9.956</td><td style = \"text-align: right;\">12.3407</td><td style = \"text-align: right;\">14.0577</td><td style = \"text-align: right;\">15.1457</td><td style = \"text-align: right;\">14.8357</td><td style = \"text-align: right;\">14.668</td><td style = \"text-align: right;\">13.2197</td><td style = \"text-align: right;\">13.157</td><td style = \"text-align: right;\">13.5327</td><td style = \"text-align: right;\">18.2297</td><td style = \"text-align: right;\">17.1547</td><td style = \"text-align: right;\">17.0423</td><td style = \"text-align: right;\">16.064</td><td style = \"text-align: right;\">15.5357</td><td style = \"text-align: right;\">13.8793</td><td style = \"text-align: right;\">13.3773</td><td style = \"text-align: right;\">&ctdot;</td></tr><tr><td class = \"rowNumber\" style = \"font-weight: bold; text-align: right;\">5</td><td style = \"text-align: left;\">BXD29</td><td style = \"text-align: right;\">11</td><td style = \"text-align: right;\">11.735</td><td style = \"text-align: right;\">11.3496</td><td style = \"text-align: right;\">17.4583</td><td style = \"text-align: right;\">17.3877</td><td style = \"text-align: right;\">17.2431</td><td style = \"text-align: right;\">16.4945</td><td style = \"text-align: right;\">16.0869</td><td style = \"text-align: right;\">16.1075</td><td style = \"text-align: right;\">16.1212</td><td style = \"text-align: right;\">15.8937</td><td style = \"text-align: right;\">15.684</td><td style = \"text-align: right;\">15.409</td><td style = \"text-align: right;\">15.1916</td><td style = \"text-align: right;\">15.0053</td><td style = \"text-align: right;\">14.9666</td><td style = \"text-align: right;\">14.8633</td><td style = \"text-align: right;\">14.366</td><td style = \"text-align: right;\">14.1128</td><td style = \"text-align: right;\">14.2439</td><td style = \"text-align: right;\">14.1931</td><td style = \"text-align: right;\">14.2505</td><td style = \"text-align: right;\">13.3711</td><td style = \"text-align: right;\">12.8908</td><td style = \"text-align: right;\">12.7607</td><td style = \"text-align: right;\">11.6908</td><td style = \"text-align: right;\">14.8308</td><td style = \"text-align: right;\">14.5071</td><td style = \"text-align: right;\">14.7158</td><td style = \"text-align: right;\">14.162</td><td style = \"text-align: right;\">14.1477</td><td style = \"text-align: right;\">13.9994</td><td style = \"text-align: right;\">13.7841</td><td style = \"text-align: right;\">10.4076</td><td style = \"text-align: right;\">12.3381</td><td style = \"text-align: right;\">14.5445</td><td style = \"text-align: right;\">15.2115</td><td style = \"text-align: right;\">12.7209</td><td style = \"text-align: right;\">14.4564</td><td style = \"text-align: right;\">13.9601</td><td style = \"text-align: right;\">14.6675</td><td style = \"text-align: right;\">14.5868</td><td style = \"text-align: right;\">14.3356</td><td style = \"text-align: right;\">14.1672</td><td style = \"text-align: right;\">13.8776</td><td style = \"text-align: right;\">14.0893</td><td style = \"text-align: right;\">13.8332</td><td style = \"text-align: right;\">13.7339</td><td style = \"text-align: right;\">13.7212</td><td style = \"text-align: right;\">13.3905</td><td style = \"text-align: right;\">13.2016</td><td style = \"text-align: right;\">12.9025</td><td style = \"text-align: right;\">15.5145</td><td style = \"text-align: right;\">15.5719</td><td style = \"text-align: right;\">15.0056</td><td style = \"text-align: right;\">14.7801</td><td style = \"text-align: right;\">14.7173</td><td style = \"text-align: right;\">14.6183</td><td style = \"text-align: right;\">14.4813</td><td style = \"text-align: right;\">13.9296</td><td style = \"text-align: right;\">13.8006</td><td style = \"text-align: right;\">13.8925</td><td style = \"text-align: right;\">13.7307</td><td style = \"text-align: right;\">13.5148</td><td style = \"text-align: right;\">11.9401</td><td style = \"text-align: right;\">12.2295</td><td style = \"text-align: right;\">14.2733</td><td style = \"text-align: right;\">14.176</td><td style = \"text-align: right;\">13.8756</td><td style = \"text-align: right;\">13.7707</td><td style = \"text-align: right;\">13.242</td><td style = \"text-align: right;\">13.3123</td><td style = \"text-align: right;\">12.4464</td><td style = \"text-align: right;\">14.7318</td><td style = \"text-align: right;\">13.3787</td><td style = \"text-align: right;\">16.1553</td><td style = \"text-align: right;\">16.1705</td><td style = \"text-align: right;\">16.0135</td><td style = \"text-align: right;\">15.6993</td><td style = \"text-align: right;\">15.6559</td><td style = \"text-align: right;\">15.5867</td><td style = \"text-align: right;\">14.7852</td><td style = \"text-align: right;\">13.3675</td><td style = \"text-align: right;\">10.3002</td><td style = \"text-align: right;\">10.162</td><td style = \"text-align: right;\">13.7972</td><td style = \"text-align: right;\">14.8815</td><td style = \"text-align: right;\">14.8505</td><td style = \"text-align: right;\">14.4068</td><td style = \"text-align: right;\">12.7473</td><td style = \"text-align: right;\">12.9053</td><td style = \"text-align: right;\">13.4953</td><td style = \"text-align: right;\">18.0303</td><td style = \"text-align: right;\">17.222</td><td style = \"text-align: right;\">16.9341</td><td style = \"text-align: right;\">16.1497</td><td style = \"text-align: right;\">15.5033</td><td style = \"text-align: right;\">14.0375</td><td style = \"text-align: right;\">13.3467</td><td style = \"text-align: right;\">&ctdot;</td></tr><tr><td class = \"rowNumber\" style = \"font-weight: bold; text-align: right;\">6</td><td style = \"text-align: left;\">BXD32</td><td style = \"text-align: right;\">8</td><td style = \"text-align: right;\">11.6266</td><td style = \"text-align: right;\">11.554</td><td style = \"text-align: right;\">17.8254</td><td style = \"text-align: right;\">17.7716</td><td style = \"text-align: right;\">17.4639</td><td style = \"text-align: right;\">16.9029</td><td style = \"text-align: right;\">16.434</td><td style = \"text-align: right;\">16.425</td><td style = \"text-align: right;\">16.3785</td><td style = \"text-align: right;\">16.1801</td><td style = \"text-align: right;\">15.552</td><td style = \"text-align: right;\">15.7024</td><td style = \"text-align: right;\">15.5084</td><td style = \"text-align: right;\">15.1917</td><td style = \"text-align: right;\">15.122</td><td style = \"text-align: right;\">15.0381</td><td style = \"text-align: right;\">14.8614</td><td style = \"text-align: right;\">14.5611</td><td style = \"text-align: right;\">14.601</td><td style = \"text-align: right;\">14.5976</td><td style = \"text-align: right;\">14.445</td><td style = \"text-align: right;\">13.5466</td><td style = \"text-align: right;\">13.1775</td><td style = \"text-align: right;\">12.8655</td><td style = \"text-align: right;\">12.3601</td><td style = \"text-align: right;\">14.5995</td><td style = \"text-align: right;\">14.4216</td><td style = \"text-align: right;\">14.2189</td><td style = \"text-align: right;\">13.8381</td><td style = \"text-align: right;\">13.7746</td><td style = \"text-align: right;\">13.8859</td><td style = \"text-align: right;\">13.709</td><td style = \"text-align: right;\">10.2306</td><td style = \"text-align: right;\">11.1946</td><td style = \"text-align: right;\">14.3859</td><td style = \"text-align: right;\">15.4081</td><td style = \"text-align: right;\">12.6895</td><td style = \"text-align: right;\">14.3795</td><td style = \"text-align: right;\">13.9581</td><td style = \"text-align: right;\">14.4554</td><td style = \"text-align: right;\">14.5031</td><td style = \"text-align: right;\">14.2995</td><td style = \"text-align: right;\">14.0696</td><td style = \"text-align: right;\">14.1139</td><td style = \"text-align: right;\">14.0496</td><td style = \"text-align: right;\">13.7116</td><td style = \"text-align: right;\">13.4935</td><td style = \"text-align: right;\">13.3465</td><td style = \"text-align: right;\">13.2482</td><td style = \"text-align: right;\">12.8716</td><td style = \"text-align: right;\">12.738</td><td style = \"text-align: right;\">15.2785</td><td style = \"text-align: right;\">14.7681</td><td style = \"text-align: right;\">14.885</td><td style = \"text-align: right;\">14.4642</td><td style = \"text-align: right;\">14.4146</td><td style = \"text-align: right;\">14.4585</td><td style = \"text-align: right;\">14.039</td><td style = \"text-align: right;\">13.8499</td><td style = \"text-align: right;\">13.7484</td><td style = \"text-align: right;\">13.6994</td><td style = \"text-align: right;\">13.5931</td><td style = \"text-align: right;\">12.8803</td><td style = \"text-align: right;\">11.9216</td><td style = \"text-align: right;\">11.2298</td><td style = \"text-align: right;\">14.3098</td><td style = \"text-align: right;\">14.1794</td><td style = \"text-align: right;\">14.0259</td><td style = \"text-align: right;\">13.8049</td><td style = \"text-align: right;\">13.1902</td><td style = \"text-align: right;\">13.3515</td><td style = \"text-align: right;\">12.6331</td><td style = \"text-align: right;\">14.8286</td><td style = \"text-align: right;\">13.2711</td><td style = \"text-align: right;\">15.7947</td><td style = \"text-align: right;\">15.729</td><td style = \"text-align: right;\">15.5913</td><td style = \"text-align: right;\">15.2536</td><td style = \"text-align: right;\">15.2625</td><td style = \"text-align: right;\">15.2375</td><td style = \"text-align: right;\">14.5699</td><td style = \"text-align: right;\">12.9751</td><td style = \"text-align: right;\">11.6832</td><td style = \"text-align: right;\">9.80775</td><td style = \"text-align: right;\">13.8344</td><td style = \"text-align: right;\">15.1399</td><td style = \"text-align: right;\">14.9749</td><td style = \"text-align: right;\">14.6185</td><td style = \"text-align: right;\">13.0956</td><td style = \"text-align: right;\">13.0355</td><td style = \"text-align: right;\">13.8955</td><td style = \"text-align: right;\">18.2956</td><td style = \"text-align: right;\">16.9094</td><td style = \"text-align: right;\">17.091</td><td style = \"text-align: right;\">16.3139</td><td style = \"text-align: right;\">15.5746</td><td style = \"text-align: right;\">14.2024</td><td style = \"text-align: right;\">13.4624</td><td style = \"text-align: right;\">&ctdot;</td></tr></tbody></table></div>"
      ],
      "text/latex": [
       "\\begin{tabular}{r|cccccc}\n",
       "\t& Strain & Number of Samples & P42209\\_DESGLNRK\\_2 & P42209\\_GLRPLDVAFLR\\_3 & Q99M02\\_VGDPVYR\\_2 & \\\\\n",
       "\t\\hline\n",
       "\t& String7 & Int64 & Float64 & Float64 & Float64 & \\\\\n",
       "\t\\hline\n",
       "\t1 & BXD9 & 4 & 11.5968 & 11.3575 & 17.6545 & $\\dots$ \\\\\n",
       "\t2 & BXD13 & 1 & 11.687 & 11.524 & 17.362 & $\\dots$ \\\\\n",
       "\t3 & BXD24 & 5 & 12.0778 & 11.7458 & 17.7926 & $\\dots$ \\\\\n",
       "\t4 & BXD27 & 3 & 11.717 & 11.149 & 17.336 & $\\dots$ \\\\\n",
       "\t5 & BXD29 & 11 & 11.735 & 11.3496 & 17.4583 & $\\dots$ \\\\\n",
       "\t6 & BXD32 & 8 & 11.6266 & 11.554 & 17.8254 & $\\dots$ \\\\\n",
       "\\end{tabular}\n"
      ],
      "text/plain": [
       "\u001b[1m6×32447 DataFrame\u001b[0m\n",
       "\u001b[1m Row \u001b[0m│\u001b[1m Strain  \u001b[0m\u001b[1m Number of Samples \u001b[0m\u001b[1m P42209_DESGLNRK_2 \u001b[0m\u001b[1m P42209_GLRPLDVAFLR_3 \u001b[0m\u001b[1m Q9\u001b[0m ⋯\n",
       "     │\u001b[90m String7 \u001b[0m\u001b[90m Int64             \u001b[0m\u001b[90m Float64           \u001b[0m\u001b[90m Float64              \u001b[0m\u001b[90m Fl\u001b[0m ⋯\n",
       "─────┼──────────────────────────────────────────────────────────────────────────\n",
       "   1 │ BXD9                     4            11.5968               11.3575     ⋯\n",
       "   2 │ BXD13                    1            11.687                11.524\n",
       "   3 │ BXD24                    5            12.0778               11.7458\n",
       "   4 │ BXD27                    3            11.717                11.149\n",
       "   5 │ BXD29                   11            11.735                11.3496     ⋯\n",
       "   6 │ BXD32                    8            11.6266               11.554\n",
       "\u001b[36m                                                           32443 columns omitted\u001b[0m"
      ]
     },
     "execution_count": 53,
     "metadata": {},
     "output_type": "execute_result"
    }
   ],
   "source": [
    "BXD_pheno_strains_summary_df[1:6, :]"
   ]
  },
  {
   "cell_type": "code",
   "execution_count": 54,
   "id": "465a5506-0ac0-4057-a196-c41a57b49b73",
   "metadata": {},
   "outputs": [],
   "source": [
    "# weights_true = float.(1.0 ./BXD_pheno_strains_summary_df[:, 2]);\n",
    "weights_true = sqrt.(BXD_pheno_strains_summary_df[:, 2]);"
   ]
  },
  {
   "cell_type": "code",
   "execution_count": 55,
   "id": "1d5cd959-919b-4ef4-82c4-13b02104f76d",
   "metadata": {},
   "outputs": [
    {
     "name": "stdout",
     "output_type": "stream",
     "text": [
      "  0.204839 seconds (579.14 k allocations: 63.000 MiB, 83.67% compilation time)\n"
     ]
    }
   ],
   "source": [
    "@time lod_from_pkg = scan(lpst_strains_y, geno_strains, kinship_strains;\n",
    "                          weights = weights_true,\n",
    "                          prior_variance = prior[1], prior_sample_size = prior[2]);"
   ]
  },
  {
   "cell_type": "code",
   "execution_count": 56,
   "id": "751cc1dd-e209-45c9-a8ec-144e83612427",
   "metadata": {},
   "outputs": [
    {
     "data": {
      "text/plain": [
       "10-element Vector{Float64}:\n",
       " 0.4454216995526783\n",
       " 0.4454216995526783\n",
       " 0.4454216995526783\n",
       " 0.4454216995526783\n",
       " 0.4454216995526783\n",
       " 0.4454216995526783\n",
       " 0.4454216995526783\n",
       " 0.4454216995526783\n",
       " 0.4454216995526783\n",
       " 0.4454216995526783"
      ]
     },
     "execution_count": 56,
     "metadata": {},
     "output_type": "execute_result"
    }
   ],
   "source": [
    "lod_from_pkg.lod[1:10]"
   ]
  },
  {
   "cell_type": "code",
   "execution_count": 57,
   "id": "8055deb9-d794-4447-b784-a5384c854499",
   "metadata": {},
   "outputs": [
    {
     "data": {
      "text/plain": [
       "10-element Vector{Float64}:\n",
       " 0.4454216995526783\n",
       " 0.4454216995526783\n",
       " 0.4454216995526783\n",
       " 0.4454216995526783\n",
       " 0.4454216995526783\n",
       " 0.4454216995526783\n",
       " 0.4454216995526783\n",
       " 0.4454216995526783\n",
       " 0.4454216995526783\n",
       " 0.4454216995526783"
      ]
     },
     "execution_count": 57,
     "metadata": {},
     "output_type": "execute_result"
    }
   ],
   "source": [
    "lod_from_pkg.lod[1:10]"
   ]
  },
  {
   "cell_type": "code",
   "execution_count": 58,
   "id": "07d71104-6b77-4632-a949-508ba4e494a8",
   "metadata": {},
   "outputs": [],
   "source": [
    "lpst_strains_y_test = rowMultiply(lpst_strains_y, weights_true);\n",
    "geno_strains_test = rowMultiply(geno_strains, weights_true);\n",
    "covar_strains_test = rowMultiply(ones(50, 1), weights_true);\n",
    "# kinship_strains_test = rowMultiply(kinship_strains, weights_true);"
   ]
  },
  {
   "cell_type": "code",
   "execution_count": 59,
   "id": "87c7b93b-1b8e-4c37-8b39-ceff05e68458",
   "metadata": {},
   "outputs": [],
   "source": [
    "test_W = rowMultiply(kinship_strains, weights_true);"
   ]
  },
  {
   "cell_type": "code",
   "execution_count": 60,
   "id": "c379c311-7a3f-432d-89d3-acbefb542881",
   "metadata": {},
   "outputs": [],
   "source": [
    "test_K = rowMultiply(permutedims(test_W), weights_true);"
   ]
  },
  {
   "cell_type": "code",
   "execution_count": 61,
   "id": "7584bd11-3a6c-4b7d-aa77-70b4ef1b5bc2",
   "metadata": {},
   "outputs": [],
   "source": [
    "lod_by_hand = scan(lpst_strains_y_test, geno_strains_test, covar_strains_test, test_K;\n",
    "                   addIntercept = false, \n",
    "                   prior_variance = prior[1], prior_sample_size = prior[2]);"
   ]
  },
  {
   "cell_type": "code",
   "execution_count": 62,
   "id": "0ae33b05-9e20-4a00-9bdc-812d61de9a5a",
   "metadata": {},
   "outputs": [
    {
     "data": {
      "text/plain": [
       "9.634922359946785e-6"
      ]
     },
     "execution_count": 62,
     "metadata": {},
     "output_type": "execute_result"
    }
   ],
   "source": [
    "sum(abs.(lod_by_hand.lod .- lod_from_pkg.lod))"
   ]
  },
  {
   "cell_type": "code",
   "execution_count": 63,
   "id": "5bbe2f8c-c370-42bc-a363-4ff83ba99d75",
   "metadata": {},
   "outputs": [
    {
     "data": {
      "text/plain": [
       "29437"
      ]
     },
     "execution_count": 63,
     "metadata": {},
     "output_type": "execute_result"
    }
   ],
   "source": [
    "lp_id"
   ]
  },
  {
   "cell_type": "code",
   "execution_count": 132,
   "id": "226e7f69-19a9-4ef5-b0e6-e8e77f364b07",
   "metadata": {},
   "outputs": [
    {
     "data": {
      "text/plain": [
       "\"Q9Z2I8_SSGLPITSAVDLEDAAK_3\""
      ]
     },
     "execution_count": 132,
     "metadata": {},
     "output_type": "execute_result"
    }
   ],
   "source": [
    "lp_names[lp_id]"
   ]
  },
  {
   "cell_type": "markdown",
   "id": "66b656a3-339a-4d83-8211-4c5a18e13346",
   "metadata": {},
   "source": [
    "### Test:"
   ]
  },
  {
   "cell_type": "code",
   "execution_count": 65,
   "id": "d5e84bca-67e0-4c47-96e1-926ae3863bed",
   "metadata": {},
   "outputs": [
    {
     "data": {
      "text/plain": [
       "Missing"
      ]
     },
     "execution_count": 65,
     "metadata": {},
     "output_type": "execute_result"
    }
   ],
   "source": [
    "typeof(missing)"
   ]
  },
  {
   "cell_type": "code",
   "execution_count": 66,
   "id": "09d45a9d-3285-4381-b447-3da60e14bf3c",
   "metadata": {},
   "outputs": [
    {
     "data": {
      "text/plain": [
       "missing"
      ]
     },
     "execution_count": 66,
     "metadata": {},
     "output_type": "execute_result"
    }
   ],
   "source": [
    "a = missing"
   ]
  },
  {
   "cell_type": "code",
   "execution_count": 67,
   "id": "be673a5d-d9b6-41e4-a2db-a5d6f41bdfa7",
   "metadata": {},
   "outputs": [
    {
     "name": "stdout",
     "output_type": "stream",
     "text": [
      "  0.000001 seconds\n"
     ]
    },
    {
     "data": {
      "text/plain": [
       "true"
      ]
     },
     "execution_count": 67,
     "metadata": {},
     "output_type": "execute_result"
    }
   ],
   "source": [
    "@time ismissing(a)"
   ]
  },
  {
   "cell_type": "code",
   "execution_count": 126,
   "id": "7da4a5cc-b56b-4bb8-b492-7d32377152c1",
   "metadata": {},
   "outputs": [],
   "source": [
    "test_a = scan_null(lpst_strains_y_test, geno_strains_test, \n",
    "                   covar_strains_test, test_K,\n",
    "                   prior, false; optim_interval = 10);"
   ]
  },
  {
   "cell_type": "code",
   "execution_count": 100,
   "id": "d119d896-3896-4732-81c7-1119faeb27e0",
   "metadata": {},
   "outputs": [
    {
     "name": "stdout",
     "output_type": "stream",
     "text": [
      " 13.778711 seconds (45.94 M allocations: 12.248 GiB, 9.73% gc time)\n"
     ]
    }
   ],
   "source": [
    "@time test_A = bulkscan_null_grid(lpst_strains_Y, geno_strains, kinship_strains, grid_list;\n",
    "                                  weights = weights_true, \n",
    "                                  prior_variance = 1.0, prior_sample_size = 0.1);"
   ]
  },
  {
   "cell_type": "code",
   "execution_count": 101,
   "id": "6ca0c1ff-4be8-4f1a-ae47-a1b7de756709",
   "metadata": {},
   "outputs": [
    {
     "data": {
      "text/plain": [
       "0.0"
      ]
     },
     "execution_count": 101,
     "metadata": {},
     "output_type": "execute_result"
    }
   ],
   "source": [
    "test_A.h2_null_list[lp_id]"
   ]
  },
  {
   "cell_type": "code",
   "execution_count": 112,
   "id": "0297769b-2181-4c65-9365-7265c83d1f8b",
   "metadata": {},
   "outputs": [
    {
     "data": {
      "text/plain": [
       "0.474419778638072"
      ]
     },
     "execution_count": 112,
     "metadata": {},
     "output_type": "execute_result"
    }
   ],
   "source": [
    "lod_from_pkg.h2_null"
   ]
  },
  {
   "cell_type": "code",
   "execution_count": 127,
   "id": "dbe2cbfa-3f27-40c5-ad3c-81c75db775d4",
   "metadata": {},
   "outputs": [
    {
     "data": {
      "text/plain": [
       "0.8925840081786263"
      ]
     },
     "execution_count": 127,
     "metadata": {},
     "output_type": "execute_result"
    }
   ],
   "source": [
    "maximum(abs.(test_a.lod .- lod_by_hand.lod))"
   ]
  },
  {
   "cell_type": "code",
   "execution_count": 129,
   "id": "d9bee10b-f345-464a-b129-4d3bb5110fbd",
   "metadata": {},
   "outputs": [
    {
     "data": {
      "text/plain": [
       "3.8006057647275933e-16"
      ]
     },
     "execution_count": 129,
     "metadata": {},
     "output_type": "execute_result"
    }
   ],
   "source": [
    "test_a.h2_null"
   ]
  },
  {
   "cell_type": "code",
   "execution_count": 89,
   "id": "74c0e981-9d37-433d-b2e9-cc9a53d27cae",
   "metadata": {},
   "outputs": [
    {
     "data": {
      "text/plain": [
       "3.6023885132639637e-16"
      ]
     },
     "execution_count": 89,
     "metadata": {},
     "output_type": "execute_result"
    }
   ],
   "source": [
    "scan_results_strains.h2_null"
   ]
  },
  {
   "cell_type": "code",
   "execution_count": 90,
   "id": "7efac8bd-3d00-4846-8388-b956eaddf720",
   "metadata": {},
   "outputs": [],
   "source": [
    "bulkscan_results_strains = bulkscan_null_grid(lpst_strains_Y, geno_strains, kinship_strains, grid_list;\n",
    "                                              prior_variance = 1.0, prior_sample_size = 0.1);"
   ]
  },
  {
   "cell_type": "code",
   "execution_count": 131,
   "id": "cc2f2a1c-37c6-486d-9a1f-70e1934c8e31",
   "metadata": {},
   "outputs": [
    {
     "data": {
      "text/plain": [
       "0.0"
      ]
     },
     "execution_count": 131,
     "metadata": {},
     "output_type": "execute_result"
    }
   ],
   "source": [
    "bulkscan_results_strains.h2_null_list[lp_id]"
   ]
  },
  {
   "cell_type": "code",
   "execution_count": 98,
   "id": "8b831154-2f7b-4ab3-aff9-8092c2519332",
   "metadata": {},
   "outputs": [
    {
     "data": {
      "text/plain": [
       "5.773159728050814e-15"
      ]
     },
     "execution_count": 98,
     "metadata": {},
     "output_type": "execute_result"
    }
   ],
   "source": [
    "maximum(abs.(bulkscan_results_strains.L[:, lp_id] .- scan_results_strains.lod))"
   ]
  },
  {
   "cell_type": "code",
   "execution_count": 105,
   "id": "5b3717b9-bc48-4c18-b54d-f519faf147d9",
   "metadata": {},
   "outputs": [
    {
     "name": "stdout",
     "output_type": "stream",
     "text": [
      "416.451647 seconds (2.67 G allocations: 449.095 GiB, 10.78% gc time, 0.05% compilation time)\n"
     ]
    }
   ],
   "source": [
    "@time test_A_exact = bulkscan_null(lpst_strains_Y, geno_strains, kinship_strains; nb = Threads.nthreads(),\n",
    "                                   weights = weights_true, \n",
    "                                   prior_variance = 1.0, prior_sample_size = 0.1, optim_interval = 4);"
   ]
  },
  {
   "cell_type": "code",
   "execution_count": 107,
   "id": "c1b838b4-52b8-4d42-a727-3d30484f2fec",
   "metadata": {},
   "outputs": [
    {
     "data": {
      "text/plain": [
       "0.4744197815158777"
      ]
     },
     "execution_count": 107,
     "metadata": {},
     "output_type": "execute_result"
    }
   ],
   "source": [
    "test_A_exact.h2_null_list[lp_id]"
   ]
  },
  {
   "cell_type": "code",
   "execution_count": 130,
   "id": "bdd013dd-69a4-4410-9845-092db7989bbb",
   "metadata": {},
   "outputs": [
    {
     "data": {
      "text/plain": [
       "0.0"
      ]
     },
     "execution_count": 130,
     "metadata": {},
     "output_type": "execute_result"
    }
   ],
   "source": [
    "test_A.h2_null_list[lp_id]"
   ]
  },
  {
   "cell_type": "code",
   "execution_count": 119,
   "id": "1784c286-384d-4571-a1c6-96a5ddf4f62a",
   "metadata": {},
   "outputs": [
    {
     "data": {
      "text/plain": [
       "7321×3 Matrix{Float64}:\n",
       " 0.445422   0.444145   0.445899\n",
       " 0.445422   0.444145   0.445899\n",
       " 0.445422   0.444145   0.445899\n",
       " 0.445422   0.444145   0.445899\n",
       " 0.445422   0.444145   0.445899\n",
       " 0.445422   0.444145   0.445899\n",
       " 0.445422   0.444145   0.445899\n",
       " 0.445422   0.444145   0.445899\n",
       " 0.445422   0.444145   0.445899\n",
       " 0.445422   0.444145   0.445899\n",
       " 0.445422   0.444145   0.445899\n",
       " 0.445422   0.444145   0.445899\n",
       " 0.140874   0.026578   0.025037\n",
       " ⋮                     \n",
       " 0.242951   0.321163   0.343775\n",
       " 0.242951   0.321163   0.343775\n",
       " 0.242951   0.321163   0.343775\n",
       " 0.0170998  0.0483146  0.0572317\n",
       " 0.241847   0.334049   0.357469\n",
       " 0.241847   0.334049   0.357469\n",
       " 0.11357    0.160293   0.176429\n",
       " 0.0244759  0.0934784  0.10757\n",
       " 0.11357    0.160293   0.176429\n",
       " 0.0244759  0.0934784  0.10757\n",
       " 0.104616   0.158307   0.178015\n",
       " 0.104616   0.158307   0.178015"
      ]
     },
     "execution_count": 119,
     "metadata": {},
     "output_type": "execute_result"
    }
   ],
   "source": [
    "hcat(test_A_exact.L[:, lp_id], test_a, test_A.L[:, lp_id])"
   ]
  },
  {
   "cell_type": "markdown",
   "id": "e581b199-d92b-4b4a-950f-888df22eb3f2",
   "metadata": {},
   "source": [
    "### Multiple-trait genome scans:"
   ]
  },
  {
   "cell_type": "code",
   "execution_count": 78,
   "id": "cd08a07d-6a5c-45e0-a9a3-2aa199495c2a",
   "metadata": {},
   "outputs": [],
   "source": [
    "BLAS.set_num_threads(Threads.nthreads())"
   ]
  },
  {
   "cell_type": "code",
   "execution_count": 79,
   "id": "e02cca07-1c96-4fa6-89a5-4582abc864f1",
   "metadata": {},
   "outputs": [
    {
     "data": {
      "text/plain": [
       "1"
      ]
     },
     "execution_count": 79,
     "metadata": {},
     "output_type": "execute_result"
    }
   ],
   "source": [
    "BLAS.get_num_threads()"
   ]
  },
  {
   "cell_type": "code",
   "execution_count": 80,
   "id": "bea4f61b-409c-47a7-a2ff-00c7acebe2f0",
   "metadata": {},
   "outputs": [],
   "source": [
    "grid_list = collect(0.0:0.01:0.99);"
   ]
  },
  {
   "cell_type": "markdown",
   "id": "15398327-2dcb-4168-8f30-a8bc4c3957ae",
   "metadata": {},
   "source": [
    "#### For individual liver proteome"
   ]
  },
  {
   "cell_type": "code",
   "execution_count": 81,
   "id": "e3ffddcb-2dfb-4442-a569-a50ef65a4276",
   "metadata": {},
   "outputs": [
    {
     "data": {
      "text/plain": [
       "(248, 32445)"
      ]
     },
     "execution_count": 81,
     "metadata": {},
     "output_type": "execute_result"
    }
   ],
   "source": [
    "size(lpst_ind_Y)"
   ]
  },
  {
   "cell_type": "code",
   "execution_count": 82,
   "id": "743c155d-79e5-4dad-9c70-045bced69678",
   "metadata": {},
   "outputs": [
    {
     "data": {
      "text/plain": [
       "(50, 32445)"
      ]
     },
     "execution_count": 82,
     "metadata": {},
     "output_type": "execute_result"
    }
   ],
   "source": [
    "size(lpst_strains_Y)"
   ]
  },
  {
   "cell_type": "code",
   "execution_count": null,
   "id": "2a304cb3-24ef-483e-a3ee-9ac484b2c3fb",
   "metadata": {},
   "outputs": [],
   "source": [
    "@time bulkscan_results_ind_null = bulkscan_null(lpst_ind_Y, geno_ind, kinship_ind_from_strains; nb = Threads.nthreads(),\n",
    "                                                prior_variance = 1.0, prior_sample_size = 0.1, optim_interval = 4);"
   ]
  },
  {
   "cell_type": "code",
   "execution_count": null,
   "id": "0a73fb1d-8e91-4cc8-a227-236ceda8f66b",
   "metadata": {},
   "outputs": [],
   "source": [
    "BLAS.set_num_threads(Threads.nthreads())"
   ]
  },
  {
   "cell_type": "code",
   "execution_count": null,
   "id": "44d2515c-83a5-419a-a1d1-5e9151ceacc2",
   "metadata": {},
   "outputs": [],
   "source": [
    "@time bulkscan_results_ind_alt_grid = bulkscan_alt_grid(lpst_ind_Y, geno_ind, kinship_ind_from_strains, grid_list);"
   ]
  },
  {
   "cell_type": "code",
   "execution_count": null,
   "id": "c8b20542-0959-472e-9ae8-df190723e01e",
   "metadata": {},
   "outputs": [],
   "source": [
    "@time bulkscan_results_ind_null_grid = bulkscan_null_grid(lpst_ind_Y, geno_ind, kinship_ind_from_strains, grid_list);"
   ]
  },
  {
   "cell_type": "markdown",
   "id": "f69ba271-fe23-4764-9186-4167a256a964",
   "metadata": {},
   "source": [
    "#### For liver proteome means by strains"
   ]
  },
  {
   "cell_type": "code",
   "execution_count": 104,
   "id": "f1d7f72c-5fd7-4135-94d0-7afaf3c8e396",
   "metadata": {},
   "outputs": [
    {
     "name": "stdout",
     "output_type": "stream",
     "text": [
      "391.871703 seconds (2.69 G allocations: 452.285 GiB, 11.21% gc time, 0.26% compilation time)\n"
     ]
    }
   ],
   "source": [
    "@time bulkscan_results_strains_null = bulkscan_null(lpst_strains_Y, geno_strains, kinship_strains; nb = Threads.nthreads(),\n",
    "                                                    prior_variance = 1.0, prior_sample_size = 0.1, optim_interval = 4);"
   ]
  },
  {
   "cell_type": "code",
   "execution_count": null,
   "id": "a1231e79-a93f-4fc7-8927-033d0dc5bf93",
   "metadata": {},
   "outputs": [],
   "source": [
    "BLAS.set_num_threads(Threads.nthreads())"
   ]
  },
  {
   "cell_type": "code",
   "execution_count": null,
   "id": "72a4ee75-e32b-4f97-b062-55afb687f85c",
   "metadata": {},
   "outputs": [],
   "source": [
    "@time bulkscan_results_strains_alt_grid = bulkscan_alt_grid(lpst_strains_Y, geno_strains, kinship_strains, grid_list);"
   ]
  },
  {
   "cell_type": "code",
   "execution_count": null,
   "id": "bd1ea493-2cc3-4e3c-9f4c-8faaf7cc10d2",
   "metadata": {},
   "outputs": [],
   "source": [
    "@time bulkscan_results_strains_null_grid = bulkscan_null_grid(lpst_strains_Y, geno_strains, kinship_strains, grid_list;\n",
    "                                                              prior_variance = 1.0, prior_sample_size = 0.1);"
   ]
  },
  {
   "cell_type": "code",
   "execution_count": null,
   "id": "d7680b96-f668-4e29-88c0-08bc226fb795",
   "metadata": {},
   "outputs": [],
   "source": [
    "pwd()"
   ]
  },
  {
   "cell_type": "code",
   "execution_count": null,
   "id": "1f8ce2a9-4b9c-4e5c-a10d-03169333e9fd",
   "metadata": {},
   "outputs": [],
   "source": [
    "bulkscan_results_strains_null_grid.L"
   ]
  },
  {
   "cell_type": "markdown",
   "id": "eada40c8-13e0-4830-b41e-e7c2683c9716",
   "metadata": {},
   "source": [
    "### Write-in results:"
   ]
  },
  {
   "cell_type": "code",
   "execution_count": null,
   "id": "cf58ad1f-e5ea-4f8b-8572-6f2d24614148",
   "metadata": {},
   "outputs": [],
   "source": [
    "lp_names[lp_id]"
   ]
  },
  {
   "cell_type": "code",
   "execution_count": null,
   "id": "1d38a868-1ee3-4689-82ac-847217996d74",
   "metadata": {},
   "outputs": [],
   "source": [
    "output_folder_ind_nh = \"BulkLMM_Outputs/Ind_NoHub\";\n",
    "output_folder_strains_nh = \"BulkLMM_Outputs/Strains_NoHub\";"
   ]
  },
  {
   "cell_type": "code",
   "execution_count": null,
   "id": "fd0b56d4-a4df-4b47-adfc-3a77de0b91fe",
   "metadata": {},
   "outputs": [],
   "source": [
    "pwd()"
   ]
  },
  {
   "cell_type": "markdown",
   "id": "26c1df5c-6932-42a6-81b5-46f24666f00f",
   "metadata": {},
   "source": [
    "#### Single_trait:"
   ]
  },
  {
   "cell_type": "code",
   "execution_count": null,
   "id": "846bf97e-04eb-4f2b-b6d1-19e85cdee17f",
   "metadata": {},
   "outputs": [],
   "source": []
  },
  {
   "cell_type": "code",
   "execution_count": null,
   "id": "961dbb0d-fed1-4929-bc58-0d6f3b23a2fd",
   "metadata": {},
   "outputs": [],
   "source": []
  },
  {
   "cell_type": "markdown",
   "id": "c4a2a091-53aa-48b5-8758-5be4517c2fe6",
   "metadata": {},
   "source": [
    "#### Multiple_traits:"
   ]
  },
  {
   "cell_type": "code",
   "execution_count": null,
   "id": "3d9082ae-5fb4-41d6-83be-26cbd85df42d",
   "metadata": {},
   "outputs": [],
   "source": [
    "b_ind_null = vcat(bulkscan_results_ind_null.h2_null_list', bulkscan_results_ind_null.L);"
   ]
  },
  {
   "cell_type": "code",
   "execution_count": null,
   "id": "20e3cf95-f6ba-4864-af4d-c174f932e9db",
   "metadata": {},
   "outputs": [],
   "source": [
    "b_ind_null_grid = vcat(bulkscan_results_ind_null_grid.h2_null_list', bulkscan_results_ind_null_grid.L);"
   ]
  },
  {
   "cell_type": "code",
   "execution_count": null,
   "id": "8b27e45d-8f27-49b4-85a6-d85eb52f78d4",
   "metadata": {},
   "outputs": [],
   "source": []
  },
  {
   "cell_type": "code",
   "execution_count": null,
   "id": "686deed9-6c49-401a-9c00-21c8ac6e0864",
   "metadata": {},
   "outputs": [],
   "source": []
  },
  {
   "cell_type": "code",
   "execution_count": null,
   "id": "735aa2ef-ebf0-4074-ae74-d0e19cf92eea",
   "metadata": {},
   "outputs": [],
   "source": [
    "b_strains_null = vcat(bulkscan_results_strains_null.h2_null_list', bulkscan_results_strains_null.L);"
   ]
  },
  {
   "cell_type": "code",
   "execution_count": null,
   "id": "27fece3b-43f8-405d-b91f-56273fc4394c",
   "metadata": {},
   "outputs": [],
   "source": [
    "b_strains_null_grid = vcat(bulkscan_results_strains_null_grid.h2_null_list', bulkscan_results_strains_null_grid.L);"
   ]
  },
  {
   "cell_type": "code",
   "execution_count": null,
   "id": "a659edf2-2957-410a-91d2-c0952439f7a9",
   "metadata": {},
   "outputs": [],
   "source": [
    "b_strains_null_grid = vcat(bulkscan_results_strains_null_grid.h2_null_list', bulkscan_results_strains_null_grid.L);"
   ]
  },
  {
   "cell_type": "code",
   "execution_count": null,
   "id": "18e22ec5-308e-4a4f-b10b-409aae17eac1",
   "metadata": {},
   "outputs": [],
   "source": []
  },
  {
   "cell_type": "markdown",
   "id": "1636f06a-05e5-4d55-a747-f2cb0e31b0ee",
   "metadata": {},
   "source": [
    "## Examine loglikelihood:"
   ]
  },
  {
   "cell_type": "code",
   "execution_count": null,
   "id": "84314d32-ae36-4cc2-8beb-ec6df9a666d2",
   "metadata": {},
   "outputs": [],
   "source": [
    "findall(map(x -> (x <= 0.97) & (x >= 0.93), bulkscan_results_strains_null_grid.h2_null_list))"
   ]
  },
  {
   "cell_type": "code",
   "execution_count": null,
   "id": "ac7d1b80-5a27-4d3e-b952-fe71273b47cb",
   "metadata": {},
   "outputs": [],
   "source": [
    "lp_id = 31663;"
   ]
  },
  {
   "cell_type": "code",
   "execution_count": null,
   "id": "ff5a83dc-31e7-4b2d-9aff-0d11bd4b972b",
   "metadata": {},
   "outputs": [],
   "source": [
    "lp_id = 29437;"
   ]
  },
  {
   "cell_type": "code",
   "execution_count": null,
   "id": "557a4df1-bab1-4759-9fe5-ee8b90ebb58a",
   "metadata": {},
   "outputs": [],
   "source": [
    "bulkscan_results_strains_null_grid.h2_null_list[lp_id]"
   ]
  },
  {
   "cell_type": "code",
   "execution_count": null,
   "id": "5ed199d5-31bc-4b63-9cd4-511a559237fa",
   "metadata": {},
   "outputs": [],
   "source": [
    "lpst_strains_y = reshape(lpst_strains_Y[:, lp_id], :, 1)"
   ]
  },
  {
   "cell_type": "code",
   "execution_count": null,
   "id": "b9b430e6-7ac1-4ec8-b267-fd7f67d76c23",
   "metadata": {},
   "outputs": [],
   "source": [
    "## Inputs: Original data, a given h2 to evaluate loglik on\n",
    "##         (optional) prior for regularization loglik near the upper boundary pt.\n",
    "## Outputs: the logliks (null, alt mean model) under the given h2\n",
    "function getLL(y::Array{Float64, 2}, G::Array{Float64, 2}, K::Array{Float64, 2}, \n",
    "               markerID::Int64, h2::Float64; prior::Array{Float64, 1} = [0.0, 0.0])\n",
    "    \n",
    "    Gj = reshape(G[:, markerID], :, 1);\n",
    "    (y0, X0, lambda0) = transform_rotation(y, Gj, K; addIntercept = true);\n",
    "    w = makeweights(h2, lambda0);\n",
    "    X0_inter = reshape(X0[:, 1], :, 1);\n",
    "    \n",
    "    return (ll_null = wls(y0, X0_inter, w, prior).ell, ll_markerID = wls(y0, X0, w, prior).ell)\n",
    "end\n",
    "\n",
    "function getLL(y0::Array{Float64, 2}, X0::Array{Float64, 2}, lambda0::Array{Float64, 1}, \n",
    "               markerID::Int64, h2::Float64; prior::Array{Float64, 1} = [0.0, 0.0])\n",
    "    \n",
    "    n = size(y0, 1);\n",
    "    w = makeweights(h2, lambda0);\n",
    "\n",
    "    X0_inter = reshape(X0[:, 1], :, 1);\n",
    "    X_design = zeros(n, 2);\n",
    "    X_design[:, 1] = X0[:, 1];\n",
    "    X_design[:, 2] = X0[:, markerID+1];\n",
    "    \n",
    "    return (ll_null = wls(y0, X0_inter, w, prior).ell, ll_markerID = wls(y0, X_design, w, prior).ell)\n",
    "end"
   ]
  },
  {
   "cell_type": "code",
   "execution_count": null,
   "id": "b678e8d5-f75d-48a6-b369-fb2642f5ec5b",
   "metadata": {},
   "outputs": [],
   "source": [
    "@time opt = optimize(x -> -getLL(lpst_strains_y, geno_strains, kinship_strains, 1997, x; prior = prior).ll_null, 0.0, 1.0)"
   ]
  },
  {
   "cell_type": "code",
   "execution_count": null,
   "id": "fa61ed18-c2f9-46c1-8b7f-a8b56e2c5916",
   "metadata": {},
   "outputs": [],
   "source": [
    "@time gridopt = gridbrent(x -> -getLL(lpst_strains_y, geno_strains, kinship_strains, 1997, x; prior = prior).ll_null, 0.0, 1.0, 10);"
   ]
  },
  {
   "cell_type": "code",
   "execution_count": null,
   "id": "240dbb33-7548-46d6-a29e-8a26d895d6f0",
   "metadata": {},
   "outputs": [],
   "source": [
    "gridopt.minimizer"
   ]
  },
  {
   "cell_type": "code",
   "execution_count": null,
   "id": "7eebb403-adfe-4701-9640-f1b96638e1c4",
   "metadata": {},
   "outputs": [],
   "source": [
    "@time ml_null = scan(lpst_strains_y, geno_strains, kinship_strains; \n",
    "                     prior_variance = prior[1], prior_sample_size = prior[2]);"
   ]
  },
  {
   "cell_type": "code",
   "execution_count": null,
   "id": "29ad8deb-e6c1-43d5-8b45-4b8d115413d1",
   "metadata": {},
   "outputs": [],
   "source": [
    "@time reml_null = scan(lpst_strains_y, geno_strains, kinship_strains; \n",
    "                       reml = true, \n",
    "                       prior_variance = prior[1], prior_sample_size = prior[2]);"
   ]
  },
  {
   "cell_type": "code",
   "execution_count": null,
   "id": "7590f818-3a8e-4549-87c0-2df762f4b461",
   "metadata": {},
   "outputs": [],
   "source": [
    "@time ml_alt = scan(lpst_strains_y, geno_strains, kinship_strains; \n",
    "                    reml = false, assumption = \"alt\", \n",
    "                    prior_variance = prior[1], prior_sample_size = prior[2]);"
   ]
  },
  {
   "cell_type": "code",
   "execution_count": null,
   "id": "67d93961-d10c-4dc3-ba62-0dcae7b49ff4",
   "metadata": {},
   "outputs": [],
   "source": [
    "@time reml_alt = scan(lpst_strains_y, geno_strains, kinship_strains; \n",
    "                      reml = true, assumption = \"alt\",\n",
    "                      prior_variance = prior[1], prior_sample_size = prior[2]);"
   ]
  },
  {
   "cell_type": "code",
   "execution_count": null,
   "id": "d03b2ecb-da4a-493a-b6bf-036bc115ca27",
   "metadata": {},
   "outputs": [],
   "source": [
    "opt.minimizer"
   ]
  },
  {
   "cell_type": "code",
   "execution_count": null,
   "id": "e3bbd867-f813-4b4f-ac18-37dfacd7b7c9",
   "metadata": {},
   "outputs": [],
   "source": [
    "opt.minimum"
   ]
  },
  {
   "cell_type": "code",
   "execution_count": null,
   "id": "15261040-1dc9-4e7f-98da-8e00ade3128d",
   "metadata": {},
   "outputs": [],
   "source": [
    "gridopt"
   ]
  },
  {
   "cell_type": "code",
   "execution_count": null,
   "id": "be852430-7110-4c96-ba52-69356b363633",
   "metadata": {},
   "outputs": [],
   "source": [
    "prior"
   ]
  },
  {
   "cell_type": "code",
   "execution_count": null,
   "id": "bdeb41e8-7255-4bc8-b9a3-2dbbf00d9cf1",
   "metadata": {},
   "outputs": [],
   "source": [
    "prior = [1.0, 0.1];"
   ]
  },
  {
   "cell_type": "code",
   "execution_count": null,
   "id": "d0b4cc9c-9325-4dbd-8ca2-83ed987b4b40",
   "metadata": {},
   "outputs": [],
   "source": [
    "@time begin\n",
    "    ind_ll = map(x -> getLL(lpst_ind_y, geno_ind, kinship_ind_from_strains, 1997, x; prior = prior), h2_grid);\n",
    "    strains_ll = map(x -> getLL(lpst_strains_y, geno_strains, kinship_strains, 1997, x; prior = prior), h2_grid);\n",
    "\n",
    "    ind_ell_list2 = zeros(1000);\n",
    "    ind_ell_list_alt2 = zeros(1000);\n",
    "    strains_ell_list = zeros(1000);\n",
    "    strains_ell_list_alt = zeros(1000);\n",
    "    for k in 1:1000 \n",
    "        ind_ell_list2[k] = ind_ll[k].ll_null;\n",
    "        strains_ell_list[k] = strains_ll[k].ll_null;\n",
    "        strains_ell_list_alt[k] = strains_ll[k].ll_markerID;\n",
    "    end\n",
    "end"
   ]
  },
  {
   "cell_type": "code",
   "execution_count": null,
   "id": "856c3b51-537b-4f56-b580-db048acb7fa4",
   "metadata": {},
   "outputs": [],
   "source": [
    "h2_grid = 0.001*collect(0:999);"
   ]
  },
  {
   "cell_type": "code",
   "execution_count": null,
   "id": "b078565f-5581-467f-b39a-61f8bea7168d",
   "metadata": {},
   "outputs": [],
   "source": [
    "@time begin\n",
    "    ind_ell_list = zeros(1000);\n",
    "    ind_ell_list_alt = zeros(1000);\n",
    "\n",
    "\n",
    "    (lpst_ind_y0, geno_ind0, lambda_ind0) = transform_rotation(lpst_ind_y, geno_ind, kinship_ind_from_strains;\n",
    "                                                              addIntercept = true);\n",
    "    markerID = 1997;\n",
    "\n",
    "    for k in 1:length(h2_grid)\n",
    "        curr_h2 = h2_grid[k];\n",
    "        output = getLL(lpst_ind_y0, geno_ind0, lambda_ind0, markerID, curr_h2; prior = prior);\n",
    "        ind_ell_list[k] = output.ll_null;\n",
    "        ind_ell_list_alt[k] = output.ll_markerID;\n",
    "    end\n",
    "    \n",
    "end"
   ]
  },
  {
   "cell_type": "code",
   "execution_count": null,
   "id": "c8c45ced-1187-42c9-a7cf-5e5220601657",
   "metadata": {},
   "outputs": [],
   "source": [
    "sum(ind_ell_list .- ind_ell_list2)"
   ]
  },
  {
   "cell_type": "code",
   "execution_count": null,
   "id": "212818a6-770a-4c30-953d-e5ac974d19bb",
   "metadata": {},
   "outputs": [],
   "source": [
    "ind_ell_list .- ind_ell_list_alt"
   ]
  },
  {
   "cell_type": "code",
   "execution_count": null,
   "id": "70768942-7cd8-492c-bb2e-006079c632ae",
   "metadata": {},
   "outputs": [],
   "source": [
    "gridopt.minimizer"
   ]
  },
  {
   "cell_type": "code",
   "execution_count": null,
   "id": "db93cd62-9e1e-4d5f-81cb-347cd61e40e6",
   "metadata": {},
   "outputs": [],
   "source": []
  },
  {
   "cell_type": "code",
   "execution_count": null,
   "id": "2d0f18a8-e23d-4b49-92f7-04ee04f1d4aa",
   "metadata": {},
   "outputs": [],
   "source": [
    "plot(collect(0.001:0.001:0.999), strains_ell_list, label = \"Intercept\", ylab = \"loglik\", xlab = \"h2\")\n",
    "# plot!(collect(0.001:0.001:0.999), strains_ell_list_alt, label = \"alt\")\n",
    "scatter!([opt.minimizer], [-opt.minimum], label = \"brents_optim\", color = \"blue\")\n",
    "plot!([opt.minimizer, opt.minimizer], [-35.5, -opt.minimum], color = \"blue\", style = :dash, label = \"\")\n",
    "plot!([-0.02, opt.minimizer], ones(2).* (-opt.minimum), color = \"blue\", style = :dash, label = \"\")\n",
    "# scatter!([gridopt.minimizer], [-gridopt.minimum], label = \"grid_brents_optim\", color = \"red\")\n",
    "# plot!([gridopt.minimizer, gridopt.minimizer], [-35.5, -gridopt.minimum], color = \"red\", style = :dash, label = \"\")\n",
    "# plot!([-0.02, gridopt.minimizer], ones(2).* (-gridopt.minimum), color = \"red\", style = :dash, label = \"\")\n",
    "annotate!(opt.minimizer, -35.5, \n",
    "          text(\"0.9275\", :blue, :below, 8))\n",
    "xlims!((-0.025, 1.05))\n",
    "ylims!((-35.0, -24.0))"
   ]
  },
  {
   "cell_type": "code",
   "execution_count": null,
   "id": "e33645e9-e05f-4d11-99da-7844f66f31b9",
   "metadata": {},
   "outputs": [],
   "source": [
    "min(1.0, 0.1)"
   ]
  },
  {
   "cell_type": "code",
   "execution_count": null,
   "id": "39f1b04e-8351-4e73-9ec1-cb34e0c86033",
   "metadata": {},
   "outputs": [],
   "source": [
    "min([1.0, 1.2, 3.0, 2.3])"
   ]
  },
  {
   "cell_type": "code",
   "execution_count": null,
   "id": "41c11bb7-c5c9-424d-b813-677fd712ffc3",
   "metadata": {},
   "outputs": [],
   "source": [
    "typeof(1.0:10.0)"
   ]
  },
  {
   "cell_type": "code",
   "execution_count": null,
   "id": "a83c108c-4525-413f-99df-3ea863d8de7b",
   "metadata": {},
   "outputs": [],
   "source": [
    "?ylims"
   ]
  },
  {
   "cell_type": "code",
   "execution_count": null,
   "id": "6e420b54-7a4c-4c13-86a5-ee383b660f7f",
   "metadata": {},
   "outputs": [],
   "source": [
    "findmax(strains_ell_list)"
   ]
  },
  {
   "cell_type": "code",
   "execution_count": null,
   "id": "e6908b72-61d6-46e2-bfdc-00d514d2570c",
   "metadata": {},
   "outputs": [],
   "source": [
    "plot(collect(1:999).*0.001, ind_ell_list, xlabel = \"h2\", ylabel = \"loglik\", label = \"LP individuals\", color = \"blue\", legend=:bottomleft)\n",
    "plot!(collect(1:999).*0.001, strains_ell_list, xlabel = \"h2\", ylabel = \"loglik\", label = \"LP strain means\", color = \"red\")"
   ]
  },
  {
   "cell_type": "code",
   "execution_count": null,
   "id": "e3020beb-ee92-4bf1-a165-a6a84abe79b9",
   "metadata": {},
   "outputs": [],
   "source": []
  },
  {
   "cell_type": "code",
   "execution_count": null,
   "id": "443adcf5-255a-43b7-999a-7990d76ba1fd",
   "metadata": {},
   "outputs": [],
   "source": []
  },
  {
   "cell_type": "markdown",
   "id": "4cb7caa4-7cb7-4d75-b371-f2919122e458",
   "metadata": {},
   "source": [
    "## Examine hsqs, maxLods:"
   ]
  },
  {
   "cell_type": "code",
   "execution_count": null,
   "id": "6c875ef5-3efe-48e4-855a-e5196af469d1",
   "metadata": {},
   "outputs": [],
   "source": [
    "L_ind_null = bulkscan_results_ind_null.L;"
   ]
  },
  {
   "cell_type": "code",
   "execution_count": null,
   "id": "d2db9e6b-baf4-465e-add8-3c3938e0c2dc",
   "metadata": {},
   "outputs": [],
   "source": [
    "L_ind_null_grid = bulkscan_results_ind_null_grid.L;"
   ]
  },
  {
   "cell_type": "code",
   "execution_count": null,
   "id": "8af2bb19-f013-4038-a40e-e7568e1b28a5",
   "metadata": {},
   "outputs": [],
   "source": [
    "function getMaxLODs(L::Array{Float64, 2})\n",
    "    \n",
    "    m = size(L, 2);\n",
    "    max_marker = Array{Int64, 1}(undef, m);\n",
    "    max_lod = Array{Float64, 1}(undef, m);\n",
    "    \n",
    "    for i in 1:m\n",
    "        result_i = findmax(L[:, i]); \n",
    "        max_marker[i] = result_i[2];\n",
    "        max_lod[i] = result_i[1];\n",
    "    end\n",
    "    \n",
    "    return (max_markers = max_marker, max_lod = max_lod);\n",
    "end"
   ]
  },
  {
   "cell_type": "code",
   "execution_count": null,
   "id": "e9e73599-aa37-44ef-a623-814ea7144d25",
   "metadata": {},
   "outputs": [],
   "source": [
    "@time begin\n",
    "    max_results_ind = getMaxLODs(L_ind_null);\n",
    "    max_results_ind_grid = getMaxLODs(L_ind_null_grid);\n",
    "end;"
   ]
  },
  {
   "cell_type": "code",
   "execution_count": null,
   "id": "ac5e8245-703c-4e75-a007-dcb3e4683618",
   "metadata": {},
   "outputs": [],
   "source": [
    "pwd()"
   ]
  },
  {
   "cell_type": "code",
   "execution_count": null,
   "id": "100b2191-490d-4e5b-9340-8ada99594b7e",
   "metadata": {},
   "outputs": [],
   "source": [
    "# CSV.write(\"output/max_results_ind.csv\", DataFrame(round.(hcat(max_results_ind.max_markers, max_results_ind.max_lod), digits = 2), [\"max_marker\", \"max_lod\"]))"
   ]
  },
  {
   "cell_type": "code",
   "execution_count": null,
   "id": "88e030de-5c8f-46be-a46c-f01cc2520088",
   "metadata": {},
   "outputs": [],
   "source": [
    "# CSV.write(\"output/max_results_ind_grid.csv\", DataFrame(round.(hcat(max_results_ind_grid.max_markers, max_results_ind_grid.max_lod), digits = 2), [\"max_marker\", \"max_lod\"]))"
   ]
  },
  {
   "cell_type": "code",
   "execution_count": null,
   "id": "7cfbefdf-2b7d-4420-af29-c9f0f64cba6d",
   "metadata": {},
   "outputs": [],
   "source": [
    "@time bulkscan_results_ind_null_4 = bulkscan_null(lpst_ind_Y, geno_ind, kinship_ind_from_strains; nb = Threads.nthreads(),\n",
    "                                                  prior_variance = 1.0, prior_sample_size = 0.1, optim_interval = 4);"
   ]
  },
  {
   "cell_type": "code",
   "execution_count": null,
   "id": "7e3d6152-539f-40b8-bb82-dd36c2696a1a",
   "metadata": {},
   "outputs": [],
   "source": [
    "@time bulkscan_results_null_strains_4 = bulkscan_null(lpst_strains_Y, geno_strains, kinship_strains; nb = Threads.nthreads(),\n",
    "                                                      prior_variance = 1.0, prior_sample_size = 0.1, optim_interval = 4);"
   ]
  },
  {
   "cell_type": "code",
   "execution_count": null,
   "id": "5ce1c297-dedb-4502-a146-094593e2ade3",
   "metadata": {},
   "outputs": [],
   "source": [
    "L_ind = bulkscan_results_ind_null.L;\n",
    "L_strains = bulkscan_results_strains_null.L;\n",
    "h2s_ind = bulkscan_results_ind_null.h2_null_list;\n",
    "h2s_strains = bulkscan_results_strains_null.h2_null_list;"
   ]
  },
  {
   "cell_type": "code",
   "execution_count": null,
   "id": "166fc44a-cfd0-4b0c-9120-3aec112e070c",
   "metadata": {},
   "outputs": [],
   "source": [
    "L_ind_4 = bulkscan_results_ind_null_4.L;\n",
    "L_strains_4 = bulkscan_results_null_strains_4.L;\n",
    "h2s_ind_4 = bulkscan_results_ind_null_4.h2_null_list;\n",
    "h2s_strains_4 = bulkscan_results_null_strains_4.h2_null_list;"
   ]
  },
  {
   "cell_type": "code",
   "execution_count": null,
   "id": "779f01cc-c95a-4711-a063-56f1d948e7f1",
   "metadata": {},
   "outputs": [],
   "source": []
  },
  {
   "cell_type": "markdown",
   "id": "81d2a958-0b9c-4ebe-8b25-d50069886e3b",
   "metadata": {},
   "source": [
    "## Get Plot:"
   ]
  },
  {
   "cell_type": "code",
   "execution_count": null,
   "id": "a31b7b0c-4fea-48ea-8d32-113660a1d21b",
   "metadata": {},
   "outputs": [],
   "source": [
    "BXD_pmap = CSV.read(\"data/BXD_pmap.csv\", DataFrame);\n",
    "BXD_gmap = CSV.read(\"data/BXD_gmap.csv\", DataFrame);"
   ]
  },
  {
   "cell_type": "code",
   "execution_count": null,
   "id": "088c60aa-f589-4d1b-b597-5e0f750ed422",
   "metadata": {},
   "outputs": [],
   "source": [
    "max_results_df_ind = CSV.read(\"output/max_results_ind.csv\", DataFrame);"
   ]
  },
  {
   "cell_type": "code",
   "execution_count": null,
   "id": "aee243fa-8042-4d63-809e-d64f7063242d",
   "metadata": {},
   "outputs": [],
   "source": [
    "max_results_df_ind_grid = CSV.read(\"output/max_results_ind_grid.csv\", DataFrame);"
   ]
  },
  {
   "cell_type": "code",
   "execution_count": null,
   "id": "6364f079-7743-42f5-b691-52df2350b486",
   "metadata": {},
   "outputs": [],
   "source": [
    "using RecipesBase, Plots, Plots.PlotMeasures, ColorSchemes"
   ]
  },
  {
   "cell_type": "code",
   "execution_count": null,
   "id": "792d6ae6-28fc-47d8-8756-f36b4be7a1ae",
   "metadata": {},
   "outputs": [],
   "source": [
    "function plot_eQTL2(lodc::Array{Float64, 2}, gmap::DataFrame, phenocovar::DataFrame;\n",
    "                thr::Float64 = 5.0, kwargs...)\n",
    "    \n",
    "    x, y, z, mysteps, mychr = get_eQTL_accMb(\n",
    "                                lodc, \n",
    "                                phenocovar,\n",
    "                                gmap;\n",
    "                                thr = thr,\n",
    "                                kwargs...\n",
    "                              )\n",
    "\n",
    "    eQTLplot(x, y, z, mysteps, mychr, kwargs...)\n",
    "\n",
    "end"
   ]
  },
  {
   "cell_type": "code",
   "execution_count": null,
   "id": "6647e4f6-93c5-4f53-9b42-8113bff4e1c9",
   "metadata": {},
   "outputs": [],
   "source": [
    "BXD_pmap.Chr = convert.(String, BXD_pmap.Chr);"
   ]
  },
  {
   "cell_type": "code",
   "execution_count": null,
   "id": "53c1ee33-4e85-4c9e-9773-10384ef185cc",
   "metadata": {},
   "outputs": [],
   "source": [
    "BXD_gmap.Chr = convert.(String, BXD_gmap.Chr);"
   ]
  },
  {
   "cell_type": "code",
   "execution_count": null,
   "id": "bd05ceb6-e3c4-4de1-967a-17e8be5694bb",
   "metadata": {},
   "outputs": [],
   "source": [
    "plot_eQTL2(Matrix(max_results_df_ind), BXD_gmap, BXD_pmap)"
   ]
  },
  {
   "cell_type": "code",
   "execution_count": null,
   "id": "0f8a6bbc-a096-4749-a858-806479bdb415",
   "metadata": {},
   "outputs": [],
   "source": [
    "lp_id"
   ]
  },
  {
   "cell_type": "code",
   "execution_count": null,
   "id": "db7c3875-9be7-4270-95f8-3a4e40a952e1",
   "metadata": {},
   "outputs": [],
   "source": [
    "lp_ind_y"
   ]
  },
  {
   "cell_type": "code",
   "execution_count": null,
   "id": "c9c6a90b-f5e3-4e76-8d9b-c43ddc6cbe93",
   "metadata": {},
   "outputs": [],
   "source": [
    "lpst_ind_y"
   ]
  },
  {
   "cell_type": "code",
   "execution_count": null,
   "id": "9965367b-5bb2-419e-b9e8-88073d0e2d84",
   "metadata": {},
   "outputs": [],
   "source": [
    "scan_results_ind_alt.lod"
   ]
  },
  {
   "cell_type": "code",
   "execution_count": null,
   "id": "3e86e849-169d-483d-95d6-42abe5891b95",
   "metadata": {},
   "outputs": [],
   "source": []
  },
  {
   "cell_type": "markdown",
   "id": "1bd1387f-8c85-4453-9547-c00eadb126ac",
   "metadata": {},
   "source": [
    "### Heritabilities:"
   ]
  },
  {
   "cell_type": "code",
   "execution_count": null,
   "id": "efccaf03-e495-484c-9a1b-b2ce37b16c2e",
   "metadata": {},
   "outputs": [],
   "source": [
    "findall(abs.(h2s_strains .- h2s_strains_4) .>= 0.5)"
   ]
  },
  {
   "cell_type": "code",
   "execution_count": null,
   "id": "5a3a734e-2d68-4ea4-97a1-d476280d11c5",
   "metadata": {},
   "outputs": [],
   "source": [
    "findmax(abs.(h2s_strains .- h2s_strains_4))"
   ]
  },
  {
   "cell_type": "code",
   "execution_count": null,
   "id": "8bc854c0-58c7-4381-b8a7-5263532240c6",
   "metadata": {},
   "outputs": [],
   "source": [
    "largest_h2diff_strains_y = reshape(lpst_strains_Y[:, 6], :, 1);"
   ]
  },
  {
   "cell_type": "code",
   "execution_count": null,
   "id": "67b1b819-f4d3-4b19-9d19-775c12f60892",
   "metadata": {},
   "outputs": [],
   "source": [
    "@time test_scan_results_opt1 = scan(largest_h2diff_strains_y, geno_strains, kinship_strains; \n",
    "                             prior_variance = 1.0, prior_sample_size = 0.1, optim_interval = 1);"
   ]
  },
  {
   "cell_type": "code",
   "execution_count": null,
   "id": "426fd1da-4ff6-4a52-8b59-33aea4cf2419",
   "metadata": {},
   "outputs": [],
   "source": [
    "@time test_scan_results_opt2 = scan(largest_h2diff_strains_y, geno_strains, kinship_strains; \n",
    "                             prior_variance = 1.0, prior_sample_size = 0.1, optim_interval = 2);"
   ]
  },
  {
   "cell_type": "code",
   "execution_count": null,
   "id": "ff548933-3042-4201-a20e-49833ad6e5ed",
   "metadata": {},
   "outputs": [],
   "source": [
    "@time test_scan_results_opt4 = scan(largest_h2diff_strains_y, geno_strains, kinship_strains; \n",
    "                             prior_variance = 1.0, prior_sample_size = 0.1, optim_interval = 4);"
   ]
  },
  {
   "cell_type": "code",
   "execution_count": null,
   "id": "3f8909dd-1768-4279-a671-72344de2a394",
   "metadata": {},
   "outputs": [],
   "source": [
    "@time test_scan_results_opt10 = scan(largest_h2diff_strains_y, geno_strains, kinship_strains; \n",
    "                             prior_variance = 1.0, prior_sample_size = 0.1, optim_interval = 10);"
   ]
  },
  {
   "cell_type": "code",
   "execution_count": null,
   "id": "8c5d8f12-3aef-47c2-a232-f274f7c3a7fa",
   "metadata": {},
   "outputs": [],
   "source": [
    "test_scan_results_opt1.h2_null"
   ]
  },
  {
   "cell_type": "code",
   "execution_count": null,
   "id": "5521e69d-8671-4448-9619-f0f04fd20fd1",
   "metadata": {},
   "outputs": [],
   "source": [
    "test_scan_results_opt2.h2_null"
   ]
  },
  {
   "cell_type": "code",
   "execution_count": null,
   "id": "26cddd2e-e3ec-4413-bd31-3b3346193f49",
   "metadata": {},
   "outputs": [],
   "source": [
    "test_scan_results_opt4.h2_null"
   ]
  },
  {
   "cell_type": "code",
   "execution_count": null,
   "id": "6bb11152-653a-4773-822a-32e76166d266",
   "metadata": {},
   "outputs": [],
   "source": [
    "test_scan_results_opt10.h2_null"
   ]
  },
  {
   "cell_type": "code",
   "execution_count": null,
   "id": "dcdccd26-df34-42ca-9379-d9b724d4a98b",
   "metadata": {},
   "outputs": [],
   "source": [
    "getLL(largest_h2diff_strains_y, geno_strains, kinship_strains, 1, 0.0)"
   ]
  },
  {
   "cell_type": "code",
   "execution_count": null,
   "id": "5963c795-8737-48fd-a634-0b1b8909dd62",
   "metadata": {},
   "outputs": [],
   "source": [
    "getLL(largest_h2diff_strains_y, geno_strains, kinship_strains, 1, 0.66)"
   ]
  },
  {
   "cell_type": "code",
   "execution_count": null,
   "id": "e2147b7a-f305-4701-8223-abf4de2228c7",
   "metadata": {},
   "outputs": [],
   "source": [
    "# ind_ll = map(x -> getLL(largest_h2diff_strains_y, geno_strains, kinship_strains, 1, x), collect(0.0:0.001:0.999));\n",
    "l_strains_ll = map(x -> getLL(largest_h2diff_strains_y, geno_strains, kinship_strains, 1, x;\n",
    "                              prior = [1.0, 0.1]), \n",
    "                   collect(0.0:0.001:0.999));\n",
    "\n",
    "# ind_ell_list = zeros(999);\n",
    "l_strains_ell_list = zeros(999);\n",
    "l_strains_ell_list_alt = zeros(999);\n",
    "for k in 1:999 \n",
    "    # ind_ell_list[k] = ind_ll[k].ll_null;\n",
    "    l_strains_ell_list[k] = l_strains_ll[k].ll_null;\n",
    "    l_strains_ell_list_alt[k] = l_strains_ll[k].ll_markerID;\n",
    "end"
   ]
  },
  {
   "cell_type": "code",
   "execution_count": null,
   "id": "387e857c-7d6c-4137-8322-a74b1d1c2106",
   "metadata": {},
   "outputs": [],
   "source": [
    "plot(l_strains_ell_list)"
   ]
  },
  {
   "cell_type": "code",
   "execution_count": null,
   "id": "aab2d48b-770c-4875-9eab-5118e15871ee",
   "metadata": {},
   "outputs": [],
   "source": [
    "plot(exp.(l_strains_ell_list .- maximum(l_strains_ell_list)))"
   ]
  },
  {
   "cell_type": "code",
   "execution_count": null,
   "id": "c0926f58-cc8a-4dee-88e2-3a6e80271688",
   "metadata": {},
   "outputs": [],
   "source": [
    "plot(exp.(l_strains_ell_list .- maximum(l_strains_ell_list)))"
   ]
  },
  {
   "cell_type": "code",
   "execution_count": null,
   "id": "42c3fb8b-7b2e-485d-8f32-0faafa85fda0",
   "metadata": {},
   "outputs": [],
   "source": []
  },
  {
   "cell_type": "code",
   "execution_count": null,
   "id": "1bc07185-f219-44e7-bfcc-007fdfc1b9de",
   "metadata": {},
   "outputs": [],
   "source": []
  },
  {
   "cell_type": "markdown",
   "id": "a0688b4d-b8cd-4354-a225-7501a95092eb",
   "metadata": {},
   "source": [
    "### Maximum lod scores:"
   ]
  },
  {
   "cell_type": "code",
   "execution_count": null,
   "id": "bce0ae26-6858-4f58-97d5-3546c020867e",
   "metadata": {},
   "outputs": [],
   "source": [
    "histogram(max_results_ind.max_lod, label = \"Maximum lod - Individual LP\")"
   ]
  },
  {
   "cell_type": "code",
   "execution_count": null,
   "id": "51db45fe-83d5-4112-b1b3-2faf52e2d306",
   "metadata": {},
   "outputs": [],
   "source": [
    "histogram(max_results_strains.max_lod, label = \"Maximum lod - Strain mean LP\")"
   ]
  },
  {
   "cell_type": "code",
   "execution_count": null,
   "id": "85cd5865-5fdf-4542-ad00-005c0f843383",
   "metadata": {},
   "outputs": [],
   "source": [
    "plot(max_results_ind.max_lod .- max_results_strains.max_lod, label = \"Max lod: ind - strains\")\n",
    "hline!(x -> x = 0.0, label = \"\")"
   ]
  },
  {
   "cell_type": "code",
   "execution_count": null,
   "id": "6ccb0c09-3494-428b-a03d-ccb95ddb8f2e",
   "metadata": {},
   "outputs": [],
   "source": [
    "mean(max_results_ind.max_lod .- max_results_strains.max_lod .>= 0.0)"
   ]
  },
  {
   "cell_type": "code",
   "execution_count": null,
   "id": "ef615c79-9f04-4c97-8f5c-b6c2e5ab7cc5",
   "metadata": {},
   "outputs": [],
   "source": []
  },
  {
   "cell_type": "code",
   "execution_count": null,
   "id": "19c7e4b0-0a67-4042-9c8a-67e3f3b4c6ba",
   "metadata": {},
   "outputs": [],
   "source": []
  },
  {
   "cell_type": "code",
   "execution_count": null,
   "id": "094283bd-1f2f-4afa-a235-a12cf3af2c7d",
   "metadata": {},
   "outputs": [],
   "source": [
    "pwd()"
   ]
  },
  {
   "cell_type": "code",
   "execution_count": null,
   "id": "a8925d91-ce60-4f46-a1cc-862693a0aa96",
   "metadata": {},
   "outputs": [],
   "source": []
  },
  {
   "cell_type": "code",
   "execution_count": null,
   "id": "1dc030a2-94ec-4732-84c9-9da632c2db7f",
   "metadata": {},
   "outputs": [],
   "source": []
  },
  {
   "cell_type": "markdown",
   "id": "45af8dac-f9dd-49f8-aa66-04cbb2c7c6e3",
   "metadata": {
    "tags": []
   },
   "source": [
    "## Run GEMMA for single-trait scans:"
   ]
  },
  {
   "cell_type": "code",
   "execution_count": null,
   "id": "b1bac948-cc65-453b-8b09-9c772cd932b6",
   "metadata": {},
   "outputs": [],
   "source": [
    "pwd()"
   ]
  },
  {
   "cell_type": "code",
   "execution_count": null,
   "id": "7e7b6054-f267-437b-ac63-8a9b3e1ff006",
   "metadata": {},
   "outputs": [],
   "source": [
    "gemma = \"/home/zyu20/Softwares/gemma-0.98.5-linux-static-AMD64\""
   ]
  },
  {
   "cell_type": "code",
   "execution_count": null,
   "id": "73a7cbf3-d647-4c5a-a7e3-42677404cca2",
   "metadata": {},
   "outputs": [],
   "source": [
    "run(`$gemma -h`)"
   ]
  },
  {
   "cell_type": "code",
   "execution_count": null,
   "id": "ee6e9830-b187-452a-ab36-e814781b1b70",
   "metadata": {},
   "outputs": [],
   "source": [
    "function transform_bxd_pheno_to_gemma2(inputfile::AbstractString, outputfile::AbstractString, iter::Int64)\n",
    "    pheno = CSV.read(inputfile, DataFrame);\n",
    "    pheno = Matrix{Float64}(pheno[:, 3:end]);\n",
    "    open(outputfile, \"w\") do io\n",
    "        writedlm(io, pheno[:, iter])\n",
    "    end\n",
    "    return pheno\n",
    "end"
   ]
  },
  {
   "cell_type": "code",
   "execution_count": null,
   "id": "39441696-89ed-4087-b2ad-67f12bef125b",
   "metadata": {},
   "outputs": [],
   "source": [
    "function transform_bxd_geno_to_gemma2(inputfile::AbstractString, outputfile::AbstractString, \n",
    "                                      startCol::Int64)\n",
    "    data = CSV.read(inputfile, DataFrame);\n",
    "    \n",
    "    marker_names = names(data)[startCol:end];\n",
    "    data = 2 .* data[:, startCol:end] |> x -> Matrix{Float64}(x)\n",
    "    # data = data[:, startCol:end] |> x -> Matrix{Float64}(x)\n",
    "    minor_allele = fill(\"A\", length(marker_names), 1);\n",
    "    major_allele = fill(\"B\", length(marker_names), 1);\n",
    "    output = hcat(hcat(marker_names, minor_allele, major_allele), transpose(data))\n",
    "    writeToFile(output, outputfile)\n",
    "    return output\n",
    "end"
   ]
  },
  {
   "cell_type": "code",
   "execution_count": null,
   "id": "0e090b4f-6dc7-44bf-b082-893f5deed830",
   "metadata": {},
   "outputs": [],
   "source": [
    "lp_id"
   ]
  },
  {
   "cell_type": "code",
   "execution_count": null,
   "id": "1d49eaa6-a548-4ee8-a565-3f548535da52",
   "metadata": {},
   "outputs": [],
   "source": [
    "# transform_bxd_geno_to_gemma2(\"data/GN886_geno_strains_summary.csv\", \"data/GEMMA_data/GN886_geno_strains_summary.txt\", 2);\n",
    "# transform_bxd_geno_to_gemma2(\"data/GN886_geno_summary.csv\", \"data/GEMMA_data/GN886_geno_ind_summary.txt\", 4);"
   ]
  },
  {
   "cell_type": "code",
   "execution_count": null,
   "id": "28157ddb-4b44-44d5-a161-a9726b9acbe3",
   "metadata": {},
   "outputs": [],
   "source": [
    "lp_id = 29437;"
   ]
  },
  {
   "cell_type": "code",
   "execution_count": null,
   "id": "4015a708-0c19-4a46-9f59-2ad49ef02b24",
   "metadata": {},
   "outputs": [],
   "source": [
    "transform_bxd_pheno_to_gemma2(\"data/GN886_pheno_strain_means_summary.csv\", \"data/GEMMA_data/GN886_pheno_strains_summary.txt\", lp_id);\n",
    "transform_bxd_pheno_to_gemma2(\"data/GN886_pheno_summary.csv\", \"data/GEMMA_data/GN886_pheno_ind_summary.txt\", lp_id);"
   ]
  },
  {
   "cell_type": "code",
   "execution_count": null,
   "id": "0ae98acb-a676-49b6-ab15-ed9dad6d3e21",
   "metadata": {},
   "outputs": [],
   "source": [
    "# writedlm(\"data/GEMMA_data/kinship_strains.txt\", kinship_strains, '\\t')\n",
    "# writedlm(\"data/GEMMA_data/kinship_ind.txt\", kinship_ind_from_strains, '\\t')"
   ]
  },
  {
   "cell_type": "code",
   "execution_count": null,
   "id": "76c8932a-65f4-4048-80e3-8b377700abf9",
   "metadata": {},
   "outputs": [],
   "source": [
    "function p2lod(pval::Float64, df::Int64)\n",
    "    \n",
    "    lrs = invlogcdf(Chisq(df), log(1-pval))\n",
    "    lod = lrs/(2*log(10))\n",
    "    \n",
    "    # return lrs\n",
    "    return lod\n",
    "\n",
    "end"
   ]
  },
  {
   "cell_type": "code",
   "execution_count": null,
   "id": "ba8d2c36-000d-4f71-b0eb-34fdb7f5f5f3",
   "metadata": {},
   "outputs": [],
   "source": [
    "function gemmaWrapper(pheno_filename::String, geno_filename::String,\n",
    "                      kinship_filename::String, output_filename::String)\n",
    "    \n",
    "    run(`$gemma -g $geno_filename -p $pheno_filename -k $kinship_filename -lmm 2 -lmax 1000000 -o $output_filename`)\n",
    "    \n",
    "end"
   ]
  },
  {
   "cell_type": "code",
   "execution_count": null,
   "id": "5c081ae1-91e6-44e4-ac5b-be6bdaa982be",
   "metadata": {},
   "outputs": [],
   "source": [
    "@time gemmaWrapper(\"data/GEMMA_data/GN886_pheno_strains_summary.txt\", \n",
    "                   \"data/GEMMA_data/GN886_geno_strains_summary.txt\",\n",
    "                   \"data/GEMMA_data/kinship_strains.txt\",\n",
    "                   \"results_strains.txt\");"
   ]
  },
  {
   "cell_type": "code",
   "execution_count": null,
   "id": "de3ba7dd-97a4-4286-b61e-e7926647e930",
   "metadata": {},
   "outputs": [],
   "source": [
    "@time gemmaWrapper(\"data/GEMMA_data/GN886_pheno_ind_summary.txt\", \n",
    "                   \"data/GEMMA_data/GN886_geno_ind_summary.txt\",\n",
    "                   \"data/GEMMA_data/kinship_ind.txt\",\n",
    "                   \"results_ind.txt\");"
   ]
  },
  {
   "cell_type": "code",
   "execution_count": null,
   "id": "d48f6416-11df-47d2-ae97-b9cf673623bc",
   "metadata": {},
   "outputs": [],
   "source": [
    "sum(eigen(kinship_ind_from_strains).values.<0.0001)"
   ]
  },
  {
   "cell_type": "code",
   "execution_count": null,
   "id": "b6e5af53-02e8-4cec-b8fc-83b3efe76ddd",
   "metadata": {},
   "outputs": [],
   "source": [
    "gemma_results_strains = readdlm(\"output/results_strains.txt.assoc.txt\", '\\t');\n",
    "gemma_results_ind = readdlm(\"output/results_ind.txt.assoc.txt\", '\\t');"
   ]
  },
  {
   "cell_type": "code",
   "execution_count": null,
   "id": "b1f06ed0-ba22-4f56-9843-de4b47d2b7b8",
   "metadata": {},
   "outputs": [],
   "source": [
    "gemma_strains = gemma_results_strains[2:end, 10] |> x -> Array{Float64}(x);\n",
    "gemma_ind = gemma_results_ind[2:end, 10] |> x -> Array{Float64}(x);"
   ]
  },
  {
   "cell_type": "code",
   "execution_count": null,
   "id": "f082a5d7-1717-4f03-9272-07df9e10c38e",
   "metadata": {},
   "outputs": [],
   "source": [
    "gemma_strains_lod = p2lod.(gemma_strains, 1);\n",
    "gemma_ind_lod = p2lod.(gemma_ind, 1);"
   ]
  },
  {
   "cell_type": "code",
   "execution_count": null,
   "id": "077555ab-3fa2-4ad6-a9c0-e8f8410b52f8",
   "metadata": {},
   "outputs": [],
   "source": [
    "hcat(gemma_ind_lod, scan_results_ind.lod, bulkscan_results_null_grid_ind.L[:, lp_id])"
   ]
  },
  {
   "cell_type": "code",
   "execution_count": null,
   "id": "d1f1d5ae-3afb-46dc-b538-dd57428ae794",
   "metadata": {},
   "outputs": [],
   "source": [
    "hcat(gemma_strains_lod, scan_results_strains.lod, bulkscan_results_null_strains.L[:, lp_id])"
   ]
  },
  {
   "cell_type": "code",
   "execution_count": null,
   "id": "709a4dfd-3648-4165-9d24-d3fadaee590a",
   "metadata": {},
   "outputs": [],
   "source": [
    "lookRange = 1:7321"
   ]
  },
  {
   "cell_type": "code",
   "execution_count": null,
   "id": "e7359365-0980-44c6-bb9b-c57ef20a0506",
   "metadata": {},
   "outputs": [],
   "source": [
    "plot(gemma_strains_lod[lookRange], label = \"GEMMA_strains\");\n",
    "# plot!(scan_results_strains_alt_hub.lod[lookRange], label = \"BulkLMM_strains\")\n",
    "plot!(bulkscan_results_null_strains.L[lookRange, lp_id], label = \"BulkLMM_strains\")"
   ]
  },
  {
   "cell_type": "code",
   "execution_count": null,
   "id": "634bf00f-9d0c-4dac-9e69-a1c59b390fef",
   "metadata": {},
   "outputs": [],
   "source": [
    "scan_results_ind.h2_null"
   ]
  },
  {
   "cell_type": "code",
   "execution_count": null,
   "id": "6ee6edbe-afdc-468c-8cc9-861adfeb0c3e",
   "metadata": {},
   "outputs": [],
   "source": []
  }
 ],
 "metadata": {
  "kernelspec": {
   "display_name": "Julia 1.8.2",
   "language": "julia",
   "name": "julia-1.8"
  },
  "language_info": {
   "file_extension": ".jl",
   "mimetype": "application/julia",
   "name": "julia",
   "version": "1.8.2"
  }
 },
 "nbformat": 4,
 "nbformat_minor": 5
}
