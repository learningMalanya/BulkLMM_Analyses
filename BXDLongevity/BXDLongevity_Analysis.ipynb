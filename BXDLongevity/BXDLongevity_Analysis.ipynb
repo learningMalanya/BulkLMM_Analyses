{
 "cells": [
  {
   "cell_type": "markdown",
   "id": "76f80b67-85df-4d55-bb10-f6913d392780",
   "metadata": {},
   "source": [
    "## Data Analysis using BulkLMM - BXD Longevity Study"
   ]
  },
  {
   "cell_type": "code",
   "execution_count": 1,
   "id": "028f2786-ee1b-4ec3-ab13-05110ad9caf6",
   "metadata": {},
   "outputs": [],
   "source": [
    "using CSV, DelimitedFiles, DataFrames, Missings, XLSX\n",
    "using LinearAlgebra, Statistics, Optim\n",
    "using Random, Distributions, LoopVectorization\n",
    "# using GeneNetworkAPI, Downloads\n",
    "using BenchmarkTools"
   ]
  },
  {
   "cell_type": "code",
   "execution_count": 2,
   "id": "4a6c9448-eeee-4fe2-8b74-a183abe6cf6f",
   "metadata": {},
   "outputs": [],
   "source": [
    "using Plots"
   ]
  },
  {
   "cell_type": "code",
   "execution_count": 3,
   "id": "bc3d1279-dc9b-4a8e-8616-12e041d6179f",
   "metadata": {},
   "outputs": [],
   "source": [
    "local_path = \"../../BulkLMM.jl/src\";"
   ]
  },
  {
   "cell_type": "markdown",
   "id": "548266cf-7288-4c51-a8d0-61a23e207f4e",
   "metadata": {},
   "source": [
    "## Load processed_data:"
   ]
  },
  {
   "cell_type": "markdown",
   "id": "76b2ccbd-e0db-4bcd-a11d-7703fbbbd811",
   "metadata": {},
   "source": [
    "### By individuals:"
   ]
  },
  {
   "cell_type": "code",
   "execution_count": 4,
   "id": "d6fec140-00e9-4f42-9b72-3b5f067bcf20",
   "metadata": {},
   "outputs": [
    {
     "data": {
      "text/plain": [
       "\"/home/zyu20/git/BulkLMM_Analyses/BXDLongevity\""
      ]
     },
     "execution_count": 4,
     "metadata": {},
     "output_type": "execute_result"
    }
   ],
   "source": [
    "pwd()"
   ]
  },
  {
   "cell_type": "code",
   "execution_count": 5,
   "id": "abafa447-fb73-405f-a457-8ab1ac3cefcc",
   "metadata": {},
   "outputs": [],
   "source": [
    "BXD_pheno_ind_summary_df = CSV.read(\"../../../shareddata/BXDLongevity/data/GN886_pheno_summary.csv\", DataFrame);"
   ]
  },
  {
   "cell_type": "markdown",
   "id": "a3e12b95-f2e2-4cfc-812d-34f74ac83f1e",
   "metadata": {},
   "source": [
    "By individuals, there are 248 individual samples for 32445 livear proteome."
   ]
  },
  {
   "cell_type": "code",
   "execution_count": 6,
   "id": "cf42c49c-60d5-458e-9206-35123de57d51",
   "metadata": {},
   "outputs": [
    {
     "name": "stdout",
     "output_type": "stream",
     "text": [
      "(248, 32448)\n"
     ]
    },
    {
     "data": {
      "text/html": [
       "<div><div style = \"float: left;\"><span>10×10 DataFrame</span></div><div style = \"clear: both;\"></div></div><div class = \"data-frame\" style = \"overflow-x: scroll;\"><table class = \"data-frame\" style = \"margin-bottom: 6px;\"><thead><tr class = \"header\"><th class = \"rowNumber\" style = \"font-weight: bold; text-align: right;\">Row</th><th style = \"text-align: left;\">Sample</th><th style = \"text-align: left;\">Strain</th><th style = \"text-align: left;\">Strain_num</th><th style = \"text-align: left;\">P42209_DESGLNRK_2</th><th style = \"text-align: left;\">P42209_GLRPLDVAFLR_3</th><th style = \"text-align: left;\">Q99M02_VGDPVYR_2</th><th style = \"text-align: left;\">Q99M02_VWIYPIK_2</th><th style = \"text-align: left;\">Q99M02_LCDPSVK_2</th><th style = \"text-align: left;\">Q99M02_CVLTTVDPDTGIIDR_2</th><th style = \"text-align: left;\">Q99M02_LVQFDTSMK_2</th></tr><tr class = \"subheader headerLastRow\"><th class = \"rowNumber\" style = \"font-weight: bold; text-align: right;\"></th><th title = \"String7\" style = \"text-align: left;\">String7</th><th title = \"String7\" style = \"text-align: left;\">String7</th><th title = \"Int64\" style = \"text-align: left;\">Int64</th><th title = \"Float64\" style = \"text-align: left;\">Float64</th><th title = \"Float64\" style = \"text-align: left;\">Float64</th><th title = \"Float64\" style = \"text-align: left;\">Float64</th><th title = \"Float64\" style = \"text-align: left;\">Float64</th><th title = \"Float64\" style = \"text-align: left;\">Float64</th><th title = \"Float64\" style = \"text-align: left;\">Float64</th><th title = \"Float64\" style = \"text-align: left;\">Float64</th></tr></thead><tbody><tr><td class = \"rowNumber\" style = \"font-weight: bold; text-align: right;\">1</td><td style = \"text-align: left;\">H1009</td><td style = \"text-align: left;\">BXD9</td><td style = \"text-align: right;\">9</td><td style = \"text-align: right;\">11.349</td><td style = \"text-align: right;\">11.534</td><td style = \"text-align: right;\">17.587</td><td style = \"text-align: right;\">17.517</td><td style = \"text-align: right;\">17.309</td><td style = \"text-align: right;\">16.574</td><td style = \"text-align: right;\">16.323</td></tr><tr><td class = \"rowNumber\" style = \"font-weight: bold; text-align: right;\">2</td><td style = \"text-align: left;\">H0370</td><td style = \"text-align: left;\">BXD9</td><td style = \"text-align: right;\">9</td><td style = \"text-align: right;\">11.249</td><td style = \"text-align: right;\">12.735</td><td style = \"text-align: right;\">17.427</td><td style = \"text-align: right;\">17.325</td><td style = \"text-align: right;\">17.252</td><td style = \"text-align: right;\">16.685</td><td style = \"text-align: right;\">16.021</td></tr><tr><td class = \"rowNumber\" style = \"font-weight: bold; text-align: right;\">3</td><td style = \"text-align: left;\">H2577</td><td style = \"text-align: left;\">BXD9</td><td style = \"text-align: right;\">9</td><td style = \"text-align: right;\">12.415</td><td style = \"text-align: right;\">10.487</td><td style = \"text-align: right;\">17.89</td><td style = \"text-align: right;\">17.488</td><td style = \"text-align: right;\">17.594</td><td style = \"text-align: right;\">16.731</td><td style = \"text-align: right;\">16.208</td></tr><tr><td class = \"rowNumber\" style = \"font-weight: bold; text-align: right;\">4</td><td style = \"text-align: left;\">H0365</td><td style = \"text-align: left;\">BXD9</td><td style = \"text-align: right;\">9</td><td style = \"text-align: right;\">11.374</td><td style = \"text-align: right;\">10.674</td><td style = \"text-align: right;\">17.714</td><td style = \"text-align: right;\">17.401</td><td style = \"text-align: right;\">17.381</td><td style = \"text-align: right;\">16.621</td><td style = \"text-align: right;\">16.337</td></tr><tr><td class = \"rowNumber\" style = \"font-weight: bold; text-align: right;\">5</td><td style = \"text-align: left;\">H1333</td><td style = \"text-align: left;\">BXD13</td><td style = \"text-align: right;\">13</td><td style = \"text-align: right;\">11.687</td><td style = \"text-align: right;\">11.524</td><td style = \"text-align: right;\">17.362</td><td style = \"text-align: right;\">17.367</td><td style = \"text-align: right;\">17.071</td><td style = \"text-align: right;\">16.465</td><td style = \"text-align: right;\">15.97</td></tr><tr><td class = \"rowNumber\" style = \"font-weight: bold; text-align: right;\">6</td><td style = \"text-align: left;\">H2259</td><td style = \"text-align: left;\">BXD24</td><td style = \"text-align: right;\">24</td><td style = \"text-align: right;\">11.837</td><td style = \"text-align: right;\">11.715</td><td style = \"text-align: right;\">17.57</td><td style = \"text-align: right;\">17.792</td><td style = \"text-align: right;\">17.505</td><td style = \"text-align: right;\">16.894</td><td style = \"text-align: right;\">16.277</td></tr><tr><td class = \"rowNumber\" style = \"font-weight: bold; text-align: right;\">7</td><td style = \"text-align: left;\">H1792</td><td style = \"text-align: left;\">BXD24</td><td style = \"text-align: right;\">24</td><td style = \"text-align: right;\">11.563</td><td style = \"text-align: right;\">11.434</td><td style = \"text-align: right;\">17.789</td><td style = \"text-align: right;\">17.847</td><td style = \"text-align: right;\">17.416</td><td style = \"text-align: right;\">17.042</td><td style = \"text-align: right;\">16.292</td></tr><tr><td class = \"rowNumber\" style = \"font-weight: bold; text-align: right;\">8</td><td style = \"text-align: left;\">H1791</td><td style = \"text-align: left;\">BXD24</td><td style = \"text-align: right;\">24</td><td style = \"text-align: right;\">12.5</td><td style = \"text-align: right;\">12.273</td><td style = \"text-align: right;\">17.944</td><td style = \"text-align: right;\">17.833</td><td style = \"text-align: right;\">17.63</td><td style = \"text-align: right;\">16.862</td><td style = \"text-align: right;\">16.3</td></tr><tr><td class = \"rowNumber\" style = \"font-weight: bold; text-align: right;\">9</td><td style = \"text-align: left;\">H1541</td><td style = \"text-align: left;\">BXD24</td><td style = \"text-align: right;\">24</td><td style = \"text-align: right;\">11.815</td><td style = \"text-align: right;\">11.564</td><td style = \"text-align: right;\">17.794</td><td style = \"text-align: right;\">17.759</td><td style = \"text-align: right;\">17.456</td><td style = \"text-align: right;\">16.878</td><td style = \"text-align: right;\">16.377</td></tr><tr><td class = \"rowNumber\" style = \"font-weight: bold; text-align: right;\">10</td><td style = \"text-align: left;\">H1277</td><td style = \"text-align: left;\">BXD24</td><td style = \"text-align: right;\">24</td><td style = \"text-align: right;\">12.674</td><td style = \"text-align: right;\">11.743</td><td style = \"text-align: right;\">17.866</td><td style = \"text-align: right;\">17.845</td><td style = \"text-align: right;\">17.577</td><td style = \"text-align: right;\">16.922</td><td style = \"text-align: right;\">16.26</td></tr></tbody></table></div>"
      ],
      "text/latex": [
       "\\begin{tabular}{r|ccccccc}\n",
       "\t& Sample & Strain & Strain\\_num & P42209\\_DESGLNRK\\_2 & P42209\\_GLRPLDVAFLR\\_3 & Q99M02\\_VGDPVYR\\_2 & \\\\\n",
       "\t\\hline\n",
       "\t& String7 & String7 & Int64 & Float64 & Float64 & Float64 & \\\\\n",
       "\t\\hline\n",
       "\t1 & H1009 & BXD9 & 9 & 11.349 & 11.534 & 17.587 & $\\dots$ \\\\\n",
       "\t2 & H0370 & BXD9 & 9 & 11.249 & 12.735 & 17.427 & $\\dots$ \\\\\n",
       "\t3 & H2577 & BXD9 & 9 & 12.415 & 10.487 & 17.89 & $\\dots$ \\\\\n",
       "\t4 & H0365 & BXD9 & 9 & 11.374 & 10.674 & 17.714 & $\\dots$ \\\\\n",
       "\t5 & H1333 & BXD13 & 13 & 11.687 & 11.524 & 17.362 & $\\dots$ \\\\\n",
       "\t6 & H2259 & BXD24 & 24 & 11.837 & 11.715 & 17.57 & $\\dots$ \\\\\n",
       "\t7 & H1792 & BXD24 & 24 & 11.563 & 11.434 & 17.789 & $\\dots$ \\\\\n",
       "\t8 & H1791 & BXD24 & 24 & 12.5 & 12.273 & 17.944 & $\\dots$ \\\\\n",
       "\t9 & H1541 & BXD24 & 24 & 11.815 & 11.564 & 17.794 & $\\dots$ \\\\\n",
       "\t10 & H1277 & BXD24 & 24 & 12.674 & 11.743 & 17.866 & $\\dots$ \\\\\n",
       "\\end{tabular}\n"
      ],
      "text/plain": [
       "\u001b[1m10×10 DataFrame\u001b[0m\n",
       "\u001b[1m Row \u001b[0m│\u001b[1m Sample  \u001b[0m\u001b[1m Strain  \u001b[0m\u001b[1m Strain_num \u001b[0m\u001b[1m P42209_DESGLNRK_2 \u001b[0m\u001b[1m P42209_GLRPLDVAFLR_3 \u001b[0m\u001b[1m \u001b[0m ⋯\n",
       "     │\u001b[90m String7 \u001b[0m\u001b[90m String7 \u001b[0m\u001b[90m Int64      \u001b[0m\u001b[90m Float64           \u001b[0m\u001b[90m Float64              \u001b[0m\u001b[90m \u001b[0m ⋯\n",
       "─────┼──────────────────────────────────────────────────────────────────────────\n",
       "   1 │ H1009    BXD9              9             11.349                11.534   ⋯\n",
       "   2 │ H0370    BXD9              9             11.249                12.735\n",
       "   3 │ H2577    BXD9              9             12.415                10.487\n",
       "   4 │ H0365    BXD9              9             11.374                10.674\n",
       "   5 │ H1333    BXD13            13             11.687                11.524   ⋯\n",
       "   6 │ H2259    BXD24            24             11.837                11.715\n",
       "   7 │ H1792    BXD24            24             11.563                11.434\n",
       "   8 │ H1791    BXD24            24             12.5                  12.273\n",
       "   9 │ H1541    BXD24            24             11.815                11.564   ⋯\n",
       "  10 │ H1277    BXD24            24             12.674                11.743\n",
       "\u001b[36m                                                               5 columns omitted\u001b[0m"
      ]
     },
     "execution_count": 6,
     "metadata": {},
     "output_type": "execute_result"
    }
   ],
   "source": [
    "println(size(BXD_pheno_ind_summary_df)) \n",
    "BXD_pheno_ind_summary_df[1:10, 1:10]"
   ]
  },
  {
   "cell_type": "code",
   "execution_count": 7,
   "id": "0ff1711f-771b-432b-a230-4161835d4b52",
   "metadata": {},
   "outputs": [],
   "source": [
    "BXD_geno_ind_summary_df = CSV.read(\"../../../shareddata/BXDLongevity/data/GN886_geno_summary.csv\", DataFrame);"
   ]
  },
  {
   "cell_type": "markdown",
   "id": "2f3abf17-58be-4916-9a5f-412546a12f50",
   "metadata": {},
   "source": [
    "By individuals, there are 248 individual samples for 7321 markers."
   ]
  },
  {
   "cell_type": "code",
   "execution_count": 8,
   "id": "e7f39851-0173-4c71-b583-dd4ad554445d",
   "metadata": {},
   "outputs": [
    {
     "name": "stdout",
     "output_type": "stream",
     "text": [
      "(248, 7324)\n"
     ]
    },
    {
     "data": {
      "text/html": [
       "<div><div style = \"float: left;\"><span>10×10 DataFrame</span></div><div style = \"clear: both;\"></div></div><div class = \"data-frame\" style = \"overflow-x: scroll;\"><table class = \"data-frame\" style = \"margin-bottom: 6px;\"><thead><tr class = \"header\"><th class = \"rowNumber\" style = \"font-weight: bold; text-align: right;\">Row</th><th style = \"text-align: left;\">Sample</th><th style = \"text-align: left;\">Strain</th><th style = \"text-align: left;\">Strain_num</th><th style = \"text-align: left;\">rs31443144</th><th style = \"text-align: left;\">rs6269442</th><th style = \"text-align: left;\">rs32285189</th><th style = \"text-align: left;\">rs258367496</th><th style = \"text-align: left;\">rs32430919</th><th style = \"text-align: left;\">rs36251697</th><th style = \"text-align: left;\">rs30658298</th></tr><tr class = \"subheader headerLastRow\"><th class = \"rowNumber\" style = \"font-weight: bold; text-align: right;\"></th><th title = \"String7\" style = \"text-align: left;\">String7</th><th title = \"String7\" style = \"text-align: left;\">String7</th><th title = \"Int64\" style = \"text-align: left;\">Int64</th><th title = \"Float64\" style = \"text-align: left;\">Float64</th><th title = \"Float64\" style = \"text-align: left;\">Float64</th><th title = \"Float64\" style = \"text-align: left;\">Float64</th><th title = \"Float64\" style = \"text-align: left;\">Float64</th><th title = \"Float64\" style = \"text-align: left;\">Float64</th><th title = \"Float64\" style = \"text-align: left;\">Float64</th><th title = \"Float64\" style = \"text-align: left;\">Float64</th></tr></thead><tbody><tr><td class = \"rowNumber\" style = \"font-weight: bold; text-align: right;\">1</td><td style = \"text-align: left;\">H1009</td><td style = \"text-align: left;\">BXD9</td><td style = \"text-align: right;\">9</td><td style = \"text-align: right;\">0.0</td><td style = \"text-align: right;\">0.0</td><td style = \"text-align: right;\">0.0</td><td style = \"text-align: right;\">0.0</td><td style = \"text-align: right;\">0.0</td><td style = \"text-align: right;\">0.0</td><td style = \"text-align: right;\">0.0</td></tr><tr><td class = \"rowNumber\" style = \"font-weight: bold; text-align: right;\">2</td><td style = \"text-align: left;\">H0370</td><td style = \"text-align: left;\">BXD9</td><td style = \"text-align: right;\">9</td><td style = \"text-align: right;\">0.0</td><td style = \"text-align: right;\">0.0</td><td style = \"text-align: right;\">0.0</td><td style = \"text-align: right;\">0.0</td><td style = \"text-align: right;\">0.0</td><td style = \"text-align: right;\">0.0</td><td style = \"text-align: right;\">0.0</td></tr><tr><td class = \"rowNumber\" style = \"font-weight: bold; text-align: right;\">3</td><td style = \"text-align: left;\">H2577</td><td style = \"text-align: left;\">BXD9</td><td style = \"text-align: right;\">9</td><td style = \"text-align: right;\">0.0</td><td style = \"text-align: right;\">0.0</td><td style = \"text-align: right;\">0.0</td><td style = \"text-align: right;\">0.0</td><td style = \"text-align: right;\">0.0</td><td style = \"text-align: right;\">0.0</td><td style = \"text-align: right;\">0.0</td></tr><tr><td class = \"rowNumber\" style = \"font-weight: bold; text-align: right;\">4</td><td style = \"text-align: left;\">H0365</td><td style = \"text-align: left;\">BXD9</td><td style = \"text-align: right;\">9</td><td style = \"text-align: right;\">0.0</td><td style = \"text-align: right;\">0.0</td><td style = \"text-align: right;\">0.0</td><td style = \"text-align: right;\">0.0</td><td style = \"text-align: right;\">0.0</td><td style = \"text-align: right;\">0.0</td><td style = \"text-align: right;\">0.0</td></tr><tr><td class = \"rowNumber\" style = \"font-weight: bold; text-align: right;\">5</td><td style = \"text-align: left;\">H1333</td><td style = \"text-align: left;\">BXD13</td><td style = \"text-align: right;\">13</td><td style = \"text-align: right;\">0.0</td><td style = \"text-align: right;\">0.0</td><td style = \"text-align: right;\">0.0</td><td style = \"text-align: right;\">0.0</td><td style = \"text-align: right;\">0.0</td><td style = \"text-align: right;\">0.0</td><td style = \"text-align: right;\">0.0</td></tr><tr><td class = \"rowNumber\" style = \"font-weight: bold; text-align: right;\">6</td><td style = \"text-align: left;\">H2259</td><td style = \"text-align: left;\">BXD24</td><td style = \"text-align: right;\">24</td><td style = \"text-align: right;\">0.0</td><td style = \"text-align: right;\">0.0</td><td style = \"text-align: right;\">0.0</td><td style = \"text-align: right;\">0.0</td><td style = \"text-align: right;\">0.0</td><td style = \"text-align: right;\">0.0</td><td style = \"text-align: right;\">0.0</td></tr><tr><td class = \"rowNumber\" style = \"font-weight: bold; text-align: right;\">7</td><td style = \"text-align: left;\">H1792</td><td style = \"text-align: left;\">BXD24</td><td style = \"text-align: right;\">24</td><td style = \"text-align: right;\">0.0</td><td style = \"text-align: right;\">0.0</td><td style = \"text-align: right;\">0.0</td><td style = \"text-align: right;\">0.0</td><td style = \"text-align: right;\">0.0</td><td style = \"text-align: right;\">0.0</td><td style = \"text-align: right;\">0.0</td></tr><tr><td class = \"rowNumber\" style = \"font-weight: bold; text-align: right;\">8</td><td style = \"text-align: left;\">H1791</td><td style = \"text-align: left;\">BXD24</td><td style = \"text-align: right;\">24</td><td style = \"text-align: right;\">0.0</td><td style = \"text-align: right;\">0.0</td><td style = \"text-align: right;\">0.0</td><td style = \"text-align: right;\">0.0</td><td style = \"text-align: right;\">0.0</td><td style = \"text-align: right;\">0.0</td><td style = \"text-align: right;\">0.0</td></tr><tr><td class = \"rowNumber\" style = \"font-weight: bold; text-align: right;\">9</td><td style = \"text-align: left;\">H1541</td><td style = \"text-align: left;\">BXD24</td><td style = \"text-align: right;\">24</td><td style = \"text-align: right;\">0.0</td><td style = \"text-align: right;\">0.0</td><td style = \"text-align: right;\">0.0</td><td style = \"text-align: right;\">0.0</td><td style = \"text-align: right;\">0.0</td><td style = \"text-align: right;\">0.0</td><td style = \"text-align: right;\">0.0</td></tr><tr><td class = \"rowNumber\" style = \"font-weight: bold; text-align: right;\">10</td><td style = \"text-align: left;\">H1277</td><td style = \"text-align: left;\">BXD24</td><td style = \"text-align: right;\">24</td><td style = \"text-align: right;\">0.0</td><td style = \"text-align: right;\">0.0</td><td style = \"text-align: right;\">0.0</td><td style = \"text-align: right;\">0.0</td><td style = \"text-align: right;\">0.0</td><td style = \"text-align: right;\">0.0</td><td style = \"text-align: right;\">0.0</td></tr></tbody></table></div>"
      ],
      "text/latex": [
       "\\begin{tabular}{r|ccccccccc}\n",
       "\t& Sample & Strain & Strain\\_num & rs31443144 & rs6269442 & rs32285189 & rs258367496 & rs32430919 & \\\\\n",
       "\t\\hline\n",
       "\t& String7 & String7 & Int64 & Float64 & Float64 & Float64 & Float64 & Float64 & \\\\\n",
       "\t\\hline\n",
       "\t1 & H1009 & BXD9 & 9 & 0.0 & 0.0 & 0.0 & 0.0 & 0.0 & $\\dots$ \\\\\n",
       "\t2 & H0370 & BXD9 & 9 & 0.0 & 0.0 & 0.0 & 0.0 & 0.0 & $\\dots$ \\\\\n",
       "\t3 & H2577 & BXD9 & 9 & 0.0 & 0.0 & 0.0 & 0.0 & 0.0 & $\\dots$ \\\\\n",
       "\t4 & H0365 & BXD9 & 9 & 0.0 & 0.0 & 0.0 & 0.0 & 0.0 & $\\dots$ \\\\\n",
       "\t5 & H1333 & BXD13 & 13 & 0.0 & 0.0 & 0.0 & 0.0 & 0.0 & $\\dots$ \\\\\n",
       "\t6 & H2259 & BXD24 & 24 & 0.0 & 0.0 & 0.0 & 0.0 & 0.0 & $\\dots$ \\\\\n",
       "\t7 & H1792 & BXD24 & 24 & 0.0 & 0.0 & 0.0 & 0.0 & 0.0 & $\\dots$ \\\\\n",
       "\t8 & H1791 & BXD24 & 24 & 0.0 & 0.0 & 0.0 & 0.0 & 0.0 & $\\dots$ \\\\\n",
       "\t9 & H1541 & BXD24 & 24 & 0.0 & 0.0 & 0.0 & 0.0 & 0.0 & $\\dots$ \\\\\n",
       "\t10 & H1277 & BXD24 & 24 & 0.0 & 0.0 & 0.0 & 0.0 & 0.0 & $\\dots$ \\\\\n",
       "\\end{tabular}\n"
      ],
      "text/plain": [
       "\u001b[1m10×10 DataFrame\u001b[0m\n",
       "\u001b[1m Row \u001b[0m│\u001b[1m Sample  \u001b[0m\u001b[1m Strain  \u001b[0m\u001b[1m Strain_num \u001b[0m\u001b[1m rs31443144 \u001b[0m\u001b[1m rs6269442 \u001b[0m\u001b[1m rs32285189 \u001b[0m\u001b[1m rs2583\u001b[0m ⋯\n",
       "     │\u001b[90m String7 \u001b[0m\u001b[90m String7 \u001b[0m\u001b[90m Int64      \u001b[0m\u001b[90m Float64    \u001b[0m\u001b[90m Float64   \u001b[0m\u001b[90m Float64    \u001b[0m\u001b[90m Float6\u001b[0m ⋯\n",
       "─────┼──────────────────────────────────────────────────────────────────────────\n",
       "   1 │ H1009    BXD9              9         0.0        0.0         0.0         ⋯\n",
       "   2 │ H0370    BXD9              9         0.0        0.0         0.0\n",
       "   3 │ H2577    BXD9              9         0.0        0.0         0.0\n",
       "   4 │ H0365    BXD9              9         0.0        0.0         0.0\n",
       "   5 │ H1333    BXD13            13         0.0        0.0         0.0         ⋯\n",
       "   6 │ H2259    BXD24            24         0.0        0.0         0.0\n",
       "   7 │ H1792    BXD24            24         0.0        0.0         0.0\n",
       "   8 │ H1791    BXD24            24         0.0        0.0         0.0\n",
       "   9 │ H1541    BXD24            24         0.0        0.0         0.0         ⋯\n",
       "  10 │ H1277    BXD24            24         0.0        0.0         0.0\n",
       "\u001b[36m                                                               4 columns omitted\u001b[0m"
      ]
     },
     "execution_count": 8,
     "metadata": {},
     "output_type": "execute_result"
    }
   ],
   "source": [
    "println(size(BXD_geno_ind_summary_df)) \n",
    "BXD_geno_ind_summary_df[1:10, 1:10]"
   ]
  },
  {
   "cell_type": "markdown",
   "id": "09ec71ff-4361-42b5-b7be-b5b67963dc81",
   "metadata": {},
   "source": [
    "### By strains:"
   ]
  },
  {
   "cell_type": "code",
   "execution_count": 9,
   "id": "446da4f9-0e1b-481b-b1c0-27fbd9d0165b",
   "metadata": {},
   "outputs": [
    {
     "data": {
      "text/plain": [
       "\"/home/zyu20/git/BulkLMM_Analyses/BXDLongevity\""
      ]
     },
     "execution_count": 9,
     "metadata": {},
     "output_type": "execute_result"
    }
   ],
   "source": [
    "pwd()"
   ]
  },
  {
   "cell_type": "code",
   "execution_count": 10,
   "id": "87fab8f1-fbe4-49d2-94cc-0163ac9ad461",
   "metadata": {},
   "outputs": [],
   "source": [
    "BXD_pheno_strains_summary_df = CSV.read(\"../../../shareddata/BXDLongevity/data/GN886_pheno_strain_means_summary.csv\", DataFrame);"
   ]
  },
  {
   "cell_type": "markdown",
   "id": "2255810e-cdd7-4473-a605-8a96126cbad0",
   "metadata": {},
   "source": [
    "By strains, there are 50 BXD strains for 32445 liver proteome."
   ]
  },
  {
   "cell_type": "code",
   "execution_count": 12,
   "id": "f5441670-3929-420d-a6c3-ceb794ea9cb1",
   "metadata": {},
   "outputs": [
    {
     "name": "stdout",
     "output_type": "stream",
     "text": [
      "(50, 32447)\n"
     ]
    },
    {
     "data": {
      "text/html": [
       "<div><div style = \"float: left;\"><span>10×10 DataFrame</span></div><div style = \"clear: both;\"></div></div><div class = \"data-frame\" style = \"overflow-x: scroll;\"><table class = \"data-frame\" style = \"margin-bottom: 6px;\"><thead><tr class = \"header\"><th class = \"rowNumber\" style = \"font-weight: bold; text-align: right;\">Row</th><th style = \"text-align: left;\">Strain</th><th style = \"text-align: left;\">Number of Samples</th><th style = \"text-align: left;\">P42209_DESGLNRK_2</th><th style = \"text-align: left;\">P42209_GLRPLDVAFLR_3</th><th style = \"text-align: left;\">Q99M02_VGDPVYR_2</th><th style = \"text-align: left;\">Q99M02_VWIYPIK_2</th><th style = \"text-align: left;\">Q99M02_LCDPSVK_2</th><th style = \"text-align: left;\">Q99M02_CVLTTVDPDTGIIDR_2</th><th style = \"text-align: left;\">Q99M02_LVQFDTSMK_2</th><th style = \"text-align: left;\">Q99M02_QLQQVGTVSK_2</th></tr><tr class = \"subheader headerLastRow\"><th class = \"rowNumber\" style = \"font-weight: bold; text-align: right;\"></th><th title = \"String7\" style = \"text-align: left;\">String7</th><th title = \"Int64\" style = \"text-align: left;\">Int64</th><th title = \"Float64\" style = \"text-align: left;\">Float64</th><th title = \"Float64\" style = \"text-align: left;\">Float64</th><th title = \"Float64\" style = \"text-align: left;\">Float64</th><th title = \"Float64\" style = \"text-align: left;\">Float64</th><th title = \"Float64\" style = \"text-align: left;\">Float64</th><th title = \"Float64\" style = \"text-align: left;\">Float64</th><th title = \"Float64\" style = \"text-align: left;\">Float64</th><th title = \"Float64\" style = \"text-align: left;\">Float64</th></tr></thead><tbody><tr><td class = \"rowNumber\" style = \"font-weight: bold; text-align: right;\">1</td><td style = \"text-align: left;\">BXD9</td><td style = \"text-align: right;\">4</td><td style = \"text-align: right;\">11.5968</td><td style = \"text-align: right;\">11.3575</td><td style = \"text-align: right;\">17.6545</td><td style = \"text-align: right;\">17.4327</td><td style = \"text-align: right;\">17.384</td><td style = \"text-align: right;\">16.6528</td><td style = \"text-align: right;\">16.2222</td><td style = \"text-align: right;\">16.3227</td></tr><tr><td class = \"rowNumber\" style = \"font-weight: bold; text-align: right;\">2</td><td style = \"text-align: left;\">BXD13</td><td style = \"text-align: right;\">1</td><td style = \"text-align: right;\">11.687</td><td style = \"text-align: right;\">11.524</td><td style = \"text-align: right;\">17.362</td><td style = \"text-align: right;\">17.367</td><td style = \"text-align: right;\">17.071</td><td style = \"text-align: right;\">16.465</td><td style = \"text-align: right;\">15.97</td><td style = \"text-align: right;\">15.98</td></tr><tr><td class = \"rowNumber\" style = \"font-weight: bold; text-align: right;\">3</td><td style = \"text-align: left;\">BXD24</td><td style = \"text-align: right;\">5</td><td style = \"text-align: right;\">12.0778</td><td style = \"text-align: right;\">11.7458</td><td style = \"text-align: right;\">17.7926</td><td style = \"text-align: right;\">17.8152</td><td style = \"text-align: right;\">17.5168</td><td style = \"text-align: right;\">16.9196</td><td style = \"text-align: right;\">16.3012</td><td style = \"text-align: right;\">16.4304</td></tr><tr><td class = \"rowNumber\" style = \"font-weight: bold; text-align: right;\">4</td><td style = \"text-align: left;\">BXD27</td><td style = \"text-align: right;\">3</td><td style = \"text-align: right;\">11.717</td><td style = \"text-align: right;\">11.149</td><td style = \"text-align: right;\">17.336</td><td style = \"text-align: right;\">17.3143</td><td style = \"text-align: right;\">17.165</td><td style = \"text-align: right;\">16.5283</td><td style = \"text-align: right;\">15.9407</td><td style = \"text-align: right;\">16.002</td></tr><tr><td class = \"rowNumber\" style = \"font-weight: bold; text-align: right;\">5</td><td style = \"text-align: left;\">BXD29</td><td style = \"text-align: right;\">11</td><td style = \"text-align: right;\">11.735</td><td style = \"text-align: right;\">11.3496</td><td style = \"text-align: right;\">17.4583</td><td style = \"text-align: right;\">17.3877</td><td style = \"text-align: right;\">17.2431</td><td style = \"text-align: right;\">16.4945</td><td style = \"text-align: right;\">16.0869</td><td style = \"text-align: right;\">16.1075</td></tr><tr><td class = \"rowNumber\" style = \"font-weight: bold; text-align: right;\">6</td><td style = \"text-align: left;\">BXD32</td><td style = \"text-align: right;\">8</td><td style = \"text-align: right;\">11.6266</td><td style = \"text-align: right;\">11.554</td><td style = \"text-align: right;\">17.8254</td><td style = \"text-align: right;\">17.7716</td><td style = \"text-align: right;\">17.4639</td><td style = \"text-align: right;\">16.9029</td><td style = \"text-align: right;\">16.434</td><td style = \"text-align: right;\">16.425</td></tr><tr><td class = \"rowNumber\" style = \"font-weight: bold; text-align: right;\">7</td><td style = \"text-align: left;\">BXD34</td><td style = \"text-align: right;\">13</td><td style = \"text-align: right;\">11.7491</td><td style = \"text-align: right;\">11.9135</td><td style = \"text-align: right;\">17.6108</td><td style = \"text-align: right;\">17.5974</td><td style = \"text-align: right;\">17.2988</td><td style = \"text-align: right;\">16.7761</td><td style = \"text-align: right;\">16.3147</td><td style = \"text-align: right;\">16.2926</td></tr><tr><td class = \"rowNumber\" style = \"font-weight: bold; text-align: right;\">8</td><td style = \"text-align: left;\">BXD39</td><td style = \"text-align: right;\">5</td><td style = \"text-align: right;\">11.9158</td><td style = \"text-align: right;\">11.719</td><td style = \"text-align: right;\">17.395</td><td style = \"text-align: right;\">17.385</td><td style = \"text-align: right;\">17.157</td><td style = \"text-align: right;\">16.5226</td><td style = \"text-align: right;\">16.179</td><td style = \"text-align: right;\">16.0594</td></tr><tr><td class = \"rowNumber\" style = \"font-weight: bold; text-align: right;\">9</td><td style = \"text-align: left;\">BXD40</td><td style = \"text-align: right;\">8</td><td style = \"text-align: right;\">11.8651</td><td style = \"text-align: right;\">11.6817</td><td style = \"text-align: right;\">17.5986</td><td style = \"text-align: right;\">17.6386</td><td style = \"text-align: right;\">17.3861</td><td style = \"text-align: right;\">16.6824</td><td style = \"text-align: right;\">16.2855</td><td style = \"text-align: right;\">16.2523</td></tr><tr><td class = \"rowNumber\" style = \"font-weight: bold; text-align: right;\">10</td><td style = \"text-align: left;\">BXD43</td><td style = \"text-align: right;\">4</td><td style = \"text-align: right;\">12.378</td><td style = \"text-align: right;\">11.4563</td><td style = \"text-align: right;\">17.76</td><td style = \"text-align: right;\">17.8035</td><td style = \"text-align: right;\">17.3652</td><td style = \"text-align: right;\">16.885</td><td style = \"text-align: right;\">16.5245</td><td style = \"text-align: right;\">16.3532</td></tr></tbody></table></div>"
      ],
      "text/latex": [
       "\\begin{tabular}{r|cccccc}\n",
       "\t& Strain & Number of Samples & P42209\\_DESGLNRK\\_2 & P42209\\_GLRPLDVAFLR\\_3 & Q99M02\\_VGDPVYR\\_2 & \\\\\n",
       "\t\\hline\n",
       "\t& String7 & Int64 & Float64 & Float64 & Float64 & \\\\\n",
       "\t\\hline\n",
       "\t1 & BXD9 & 4 & 11.5968 & 11.3575 & 17.6545 & $\\dots$ \\\\\n",
       "\t2 & BXD13 & 1 & 11.687 & 11.524 & 17.362 & $\\dots$ \\\\\n",
       "\t3 & BXD24 & 5 & 12.0778 & 11.7458 & 17.7926 & $\\dots$ \\\\\n",
       "\t4 & BXD27 & 3 & 11.717 & 11.149 & 17.336 & $\\dots$ \\\\\n",
       "\t5 & BXD29 & 11 & 11.735 & 11.3496 & 17.4583 & $\\dots$ \\\\\n",
       "\t6 & BXD32 & 8 & 11.6266 & 11.554 & 17.8254 & $\\dots$ \\\\\n",
       "\t7 & BXD34 & 13 & 11.7491 & 11.9135 & 17.6108 & $\\dots$ \\\\\n",
       "\t8 & BXD39 & 5 & 11.9158 & 11.719 & 17.395 & $\\dots$ \\\\\n",
       "\t9 & BXD40 & 8 & 11.8651 & 11.6817 & 17.5986 & $\\dots$ \\\\\n",
       "\t10 & BXD43 & 4 & 12.378 & 11.4563 & 17.76 & $\\dots$ \\\\\n",
       "\\end{tabular}\n"
      ],
      "text/plain": [
       "\u001b[1m10×10 DataFrame\u001b[0m\n",
       "\u001b[1m Row \u001b[0m│\u001b[1m Strain  \u001b[0m\u001b[1m Number of Samples \u001b[0m\u001b[1m P42209_DESGLNRK_2 \u001b[0m\u001b[1m P42209_GLRPLDVAFLR_3 \u001b[0m\u001b[1m Q9\u001b[0m ⋯\n",
       "     │\u001b[90m String7 \u001b[0m\u001b[90m Int64             \u001b[0m\u001b[90m Float64           \u001b[0m\u001b[90m Float64              \u001b[0m\u001b[90m Fl\u001b[0m ⋯\n",
       "─────┼──────────────────────────────────────────────────────────────────────────\n",
       "   1 │ BXD9                     4            11.5968               11.3575     ⋯\n",
       "   2 │ BXD13                    1            11.687                11.524\n",
       "   3 │ BXD24                    5            12.0778               11.7458\n",
       "   4 │ BXD27                    3            11.717                11.149\n",
       "   5 │ BXD29                   11            11.735                11.3496     ⋯\n",
       "   6 │ BXD32                    8            11.6266               11.554\n",
       "   7 │ BXD34                   13            11.7491               11.9135\n",
       "   8 │ BXD39                    5            11.9158               11.719\n",
       "   9 │ BXD40                    8            11.8651               11.6817     ⋯\n",
       "  10 │ BXD43                    4            12.378                11.4563\n",
       "\u001b[36m                                                               6 columns omitted\u001b[0m"
      ]
     },
     "execution_count": 12,
     "metadata": {},
     "output_type": "execute_result"
    }
   ],
   "source": [
    "println(size(BXD_pheno_strains_summary_df)) \n",
    "BXD_pheno_strains_summary_df[1:10, 1:10]"
   ]
  },
  {
   "cell_type": "code",
   "execution_count": 13,
   "id": "c9e172db-b395-4c04-9c4c-429e8ce5b677",
   "metadata": {},
   "outputs": [],
   "source": [
    "BXD_geno_strains_summary_df = CSV.read(\"../../../shareddata/BXDLongevity/data/GN886_geno_strains_summary.csv\", DataFrame);"
   ]
  },
  {
   "cell_type": "markdown",
   "id": "e606034c-1af9-4dad-a88d-07f4cc67be19",
   "metadata": {},
   "source": [
    "By strains, there are 50 BXD strains for 7321 markers."
   ]
  },
  {
   "cell_type": "code",
   "execution_count": 14,
   "id": "324c16c7-5a68-44a5-abe6-b098bf1526a9",
   "metadata": {},
   "outputs": [
    {
     "name": "stdout",
     "output_type": "stream",
     "text": [
      "(50, 7322)\n"
     ]
    },
    {
     "data": {
      "text/html": [
       "<div><div style = \"float: left;\"><span>10×10 DataFrame</span></div><div style = \"clear: both;\"></div></div><div class = \"data-frame\" style = \"overflow-x: scroll;\"><table class = \"data-frame\" style = \"margin-bottom: 6px;\"><thead><tr class = \"header\"><th class = \"rowNumber\" style = \"font-weight: bold; text-align: right;\">Row</th><th style = \"text-align: left;\">Strain</th><th style = \"text-align: left;\">rs31443144</th><th style = \"text-align: left;\">rs6269442</th><th style = \"text-align: left;\">rs32285189</th><th style = \"text-align: left;\">rs258367496</th><th style = \"text-align: left;\">rs32430919</th><th style = \"text-align: left;\">rs36251697</th><th style = \"text-align: left;\">rs30658298</th><th style = \"text-align: left;\">rs51852623</th><th style = \"text-align: left;\">rs31879829</th></tr><tr class = \"subheader headerLastRow\"><th class = \"rowNumber\" style = \"font-weight: bold; text-align: right;\"></th><th title = \"String7\" style = \"text-align: left;\">String7</th><th title = \"Float64\" style = \"text-align: left;\">Float64</th><th title = \"Float64\" style = \"text-align: left;\">Float64</th><th title = \"Float64\" style = \"text-align: left;\">Float64</th><th title = \"Float64\" style = \"text-align: left;\">Float64</th><th title = \"Float64\" style = \"text-align: left;\">Float64</th><th title = \"Float64\" style = \"text-align: left;\">Float64</th><th title = \"Float64\" style = \"text-align: left;\">Float64</th><th title = \"Float64\" style = \"text-align: left;\">Float64</th><th title = \"Float64\" style = \"text-align: left;\">Float64</th></tr></thead><tbody><tr><td class = \"rowNumber\" style = \"font-weight: bold; text-align: right;\">1</td><td style = \"text-align: left;\">BXD9</td><td style = \"text-align: right;\">0.0</td><td style = \"text-align: right;\">0.0</td><td style = \"text-align: right;\">0.0</td><td style = \"text-align: right;\">0.0</td><td style = \"text-align: right;\">0.0</td><td style = \"text-align: right;\">0.0</td><td style = \"text-align: right;\">0.0</td><td style = \"text-align: right;\">0.0</td><td style = \"text-align: right;\">0.0</td></tr><tr><td class = \"rowNumber\" style = \"font-weight: bold; text-align: right;\">2</td><td style = \"text-align: left;\">BXD13</td><td style = \"text-align: right;\">0.0</td><td style = \"text-align: right;\">0.0</td><td style = \"text-align: right;\">0.0</td><td style = \"text-align: right;\">0.0</td><td style = \"text-align: right;\">0.0</td><td style = \"text-align: right;\">0.0</td><td style = \"text-align: right;\">0.0</td><td style = \"text-align: right;\">0.0</td><td style = \"text-align: right;\">0.0</td></tr><tr><td class = \"rowNumber\" style = \"font-weight: bold; text-align: right;\">3</td><td style = \"text-align: left;\">BXD24</td><td style = \"text-align: right;\">0.0</td><td style = \"text-align: right;\">0.0</td><td style = \"text-align: right;\">0.0</td><td style = \"text-align: right;\">0.0</td><td style = \"text-align: right;\">0.0</td><td style = \"text-align: right;\">0.0</td><td style = \"text-align: right;\">0.0</td><td style = \"text-align: right;\">0.0</td><td style = \"text-align: right;\">0.0</td></tr><tr><td class = \"rowNumber\" style = \"font-weight: bold; text-align: right;\">4</td><td style = \"text-align: left;\">BXD27</td><td style = \"text-align: right;\">0.0</td><td style = \"text-align: right;\">0.0</td><td style = \"text-align: right;\">0.0</td><td style = \"text-align: right;\">0.0</td><td style = \"text-align: right;\">0.0</td><td style = \"text-align: right;\">0.0</td><td style = \"text-align: right;\">0.0</td><td style = \"text-align: right;\">0.0</td><td style = \"text-align: right;\">0.0</td></tr><tr><td class = \"rowNumber\" style = \"font-weight: bold; text-align: right;\">5</td><td style = \"text-align: left;\">BXD29</td><td style = \"text-align: right;\">1.0</td><td style = \"text-align: right;\">1.0</td><td style = \"text-align: right;\">1.0</td><td style = \"text-align: right;\">1.0</td><td style = \"text-align: right;\">1.0</td><td style = \"text-align: right;\">1.0</td><td style = \"text-align: right;\">1.0</td><td style = \"text-align: right;\">1.0</td><td style = \"text-align: right;\">1.0</td></tr><tr><td class = \"rowNumber\" style = \"font-weight: bold; text-align: right;\">6</td><td style = \"text-align: left;\">BXD32</td><td style = \"text-align: right;\">0.0</td><td style = \"text-align: right;\">0.0</td><td style = \"text-align: right;\">0.0</td><td style = \"text-align: right;\">0.0</td><td style = \"text-align: right;\">0.0</td><td style = \"text-align: right;\">0.0</td><td style = \"text-align: right;\">0.0</td><td style = \"text-align: right;\">0.0</td><td style = \"text-align: right;\">0.0</td></tr><tr><td class = \"rowNumber\" style = \"font-weight: bold; text-align: right;\">7</td><td style = \"text-align: left;\">BXD34</td><td style = \"text-align: right;\">0.0</td><td style = \"text-align: right;\">0.0</td><td style = \"text-align: right;\">0.0</td><td style = \"text-align: right;\">0.0</td><td style = \"text-align: right;\">0.0</td><td style = \"text-align: right;\">0.0</td><td style = \"text-align: right;\">0.0</td><td style = \"text-align: right;\">0.0</td><td style = \"text-align: right;\">0.0</td></tr><tr><td class = \"rowNumber\" style = \"font-weight: bold; text-align: right;\">8</td><td style = \"text-align: left;\">BXD39</td><td style = \"text-align: right;\">1.0</td><td style = \"text-align: right;\">1.0</td><td style = \"text-align: right;\">1.0</td><td style = \"text-align: right;\">1.0</td><td style = \"text-align: right;\">1.0</td><td style = \"text-align: right;\">1.0</td><td style = \"text-align: right;\">1.0</td><td style = \"text-align: right;\">1.0</td><td style = \"text-align: right;\">1.0</td></tr><tr><td class = \"rowNumber\" style = \"font-weight: bold; text-align: right;\">9</td><td style = \"text-align: left;\">BXD40</td><td style = \"text-align: right;\">0.0</td><td style = \"text-align: right;\">0.0</td><td style = \"text-align: right;\">0.0</td><td style = \"text-align: right;\">0.0</td><td style = \"text-align: right;\">0.0</td><td style = \"text-align: right;\">0.0</td><td style = \"text-align: right;\">0.0</td><td style = \"text-align: right;\">0.0</td><td style = \"text-align: right;\">0.0</td></tr><tr><td class = \"rowNumber\" style = \"font-weight: bold; text-align: right;\">10</td><td style = \"text-align: left;\">BXD43</td><td style = \"text-align: right;\">0.0</td><td style = \"text-align: right;\">0.0</td><td style = \"text-align: right;\">0.0</td><td style = \"text-align: right;\">0.0</td><td style = \"text-align: right;\">0.0</td><td style = \"text-align: right;\">0.0</td><td style = \"text-align: right;\">0.0</td><td style = \"text-align: right;\">0.0</td><td style = \"text-align: right;\">0.0</td></tr></tbody></table></div>"
      ],
      "text/latex": [
       "\\begin{tabular}{r|cccccccc}\n",
       "\t& Strain & rs31443144 & rs6269442 & rs32285189 & rs258367496 & rs32430919 & rs36251697 & \\\\\n",
       "\t\\hline\n",
       "\t& String7 & Float64 & Float64 & Float64 & Float64 & Float64 & Float64 & \\\\\n",
       "\t\\hline\n",
       "\t1 & BXD9 & 0.0 & 0.0 & 0.0 & 0.0 & 0.0 & 0.0 & $\\dots$ \\\\\n",
       "\t2 & BXD13 & 0.0 & 0.0 & 0.0 & 0.0 & 0.0 & 0.0 & $\\dots$ \\\\\n",
       "\t3 & BXD24 & 0.0 & 0.0 & 0.0 & 0.0 & 0.0 & 0.0 & $\\dots$ \\\\\n",
       "\t4 & BXD27 & 0.0 & 0.0 & 0.0 & 0.0 & 0.0 & 0.0 & $\\dots$ \\\\\n",
       "\t5 & BXD29 & 1.0 & 1.0 & 1.0 & 1.0 & 1.0 & 1.0 & $\\dots$ \\\\\n",
       "\t6 & BXD32 & 0.0 & 0.0 & 0.0 & 0.0 & 0.0 & 0.0 & $\\dots$ \\\\\n",
       "\t7 & BXD34 & 0.0 & 0.0 & 0.0 & 0.0 & 0.0 & 0.0 & $\\dots$ \\\\\n",
       "\t8 & BXD39 & 1.0 & 1.0 & 1.0 & 1.0 & 1.0 & 1.0 & $\\dots$ \\\\\n",
       "\t9 & BXD40 & 0.0 & 0.0 & 0.0 & 0.0 & 0.0 & 0.0 & $\\dots$ \\\\\n",
       "\t10 & BXD43 & 0.0 & 0.0 & 0.0 & 0.0 & 0.0 & 0.0 & $\\dots$ \\\\\n",
       "\\end{tabular}\n"
      ],
      "text/plain": [
       "\u001b[1m10×10 DataFrame\u001b[0m\n",
       "\u001b[1m Row \u001b[0m│\u001b[1m Strain  \u001b[0m\u001b[1m rs31443144 \u001b[0m\u001b[1m rs6269442 \u001b[0m\u001b[1m rs32285189 \u001b[0m\u001b[1m rs258367496 \u001b[0m\u001b[1m rs32430919 \u001b[0m\u001b[1m rs\u001b[0m ⋯\n",
       "     │\u001b[90m String7 \u001b[0m\u001b[90m Float64    \u001b[0m\u001b[90m Float64   \u001b[0m\u001b[90m Float64    \u001b[0m\u001b[90m Float64     \u001b[0m\u001b[90m Float64    \u001b[0m\u001b[90m Fl\u001b[0m ⋯\n",
       "─────┼──────────────────────────────────────────────────────────────────────────\n",
       "   1 │ BXD9            0.0        0.0         0.0          0.0         0.0     ⋯\n",
       "   2 │ BXD13           0.0        0.0         0.0          0.0         0.0\n",
       "   3 │ BXD24           0.0        0.0         0.0          0.0         0.0\n",
       "   4 │ BXD27           0.0        0.0         0.0          0.0         0.0\n",
       "   5 │ BXD29           1.0        1.0         1.0          1.0         1.0     ⋯\n",
       "   6 │ BXD32           0.0        0.0         0.0          0.0         0.0\n",
       "   7 │ BXD34           0.0        0.0         0.0          0.0         0.0\n",
       "   8 │ BXD39           1.0        1.0         1.0          1.0         1.0\n",
       "   9 │ BXD40           0.0        0.0         0.0          0.0         0.0     ⋯\n",
       "  10 │ BXD43           0.0        0.0         0.0          0.0         0.0\n",
       "\u001b[36m                                                               4 columns omitted\u001b[0m"
      ]
     },
     "execution_count": 14,
     "metadata": {},
     "output_type": "execute_result"
    }
   ],
   "source": [
    "println(size(BXD_geno_strains_summary_df)) \n",
    "BXD_geno_strains_summary_df[1:10, 1:10]"
   ]
  },
  {
   "cell_type": "markdown",
   "id": "3e0e8473-c29a-42c3-a47f-a2748cd4f5d7",
   "metadata": {},
   "source": [
    "## Load functions:"
   ]
  },
  {
   "cell_type": "code",
   "execution_count": 15,
   "id": "eb9dc75b-0c40-4bf1-b24e-cb6896ae45b3",
   "metadata": {},
   "outputs": [
    {
     "data": {
      "text/plain": [
       "\"/home/zyu20/git/BulkLMM_Analyses/BXDLongevity\""
      ]
     },
     "execution_count": 15,
     "metadata": {},
     "output_type": "execute_result"
    }
   ],
   "source": [
    "pwd()"
   ]
  },
  {
   "cell_type": "code",
   "execution_count": 16,
   "id": "f04bb842-e79c-4ec0-9d62-d7b944e6f665",
   "metadata": {},
   "outputs": [],
   "source": [
    "include(joinpath(local_path, \"kinship.jl\"));\n",
    "include(joinpath(local_path, \"util.jl\"));\n",
    "include(joinpath(local_path, \"wls.jl\"));\n",
    "include(joinpath(local_path, \"lmm.jl\"));\n",
    "include(joinpath(local_path, \"gridbrent.jl\"));\n",
    "include(joinpath(local_path, \"transform_helpers.jl\"));\n",
    "include(joinpath(local_path, \"scan.jl\"));\n",
    "include(joinpath(local_path, \"bulkscan_helpers.jl\"));\n",
    "include(joinpath(local_path, \"bulkscan.jl\"));\n",
    "include(joinpath(local_path, \"readData.jl\"));\n",
    "include(joinpath(local_path, \"../plot_utils/visuals_utils.jl\"));\n",
    "include(joinpath(local_path, \"analysis_helpers/single_trait_analysis.jl\"));\n",
    "include(\"../../BigRiver_util_code/src/kinship_utils.jl\");"
   ]
  },
  {
   "cell_type": "markdown",
   "id": "0eae3573-e769-444e-9899-98480f6f8ccd",
   "metadata": {
    "tags": []
   },
   "source": [
    "## Objectives\n",
    "\n",
    "- gemma one trait, ind and strains\n",
    "\n",
    "- scan_alt one trait, ind and strains\n",
    "\n",
    "- scan_null one trait, ind and strains\n",
    "\n",
    "- bulkscan_grid (null), all traits, ...\n",
    "\n",
    "- data structure for all traits results...\n",
    "\n",
    "- Heatmap grids_taken, compare on strain means and individuals\n",
    "\n",
    "- Histogram of heritabilities (null) for all traits (both strain means and individual level data)\n",
    "\n",
    "- Loglikelihood by h2_grid plot, strain means v.s. individuals\n",
    "\n",
    "- Report fixed effects:\n",
    "\n",
    "- Adjusting difference in the number of samples across strains\n",
    "\n",
    "- Histogram of heritabilities (null) for all traits (both strain means and individual level data)"
   ]
  },
  {
   "cell_type": "markdown",
   "id": "3fe2c576-b753-4832-810f-24f196d05587",
   "metadata": {},
   "source": [
    "## Run BulkLMM.jl:"
   ]
  },
  {
   "cell_type": "markdown",
   "id": "b21044d7-08fc-454d-9528-e1271634033d",
   "metadata": {},
   "source": [
    "### Calculate kinship:"
   ]
  },
  {
   "cell_type": "markdown",
   "id": "02df590a-330c-42cd-9683-a3ba1ff991fc",
   "metadata": {},
   "source": [
    "First, calculate the kinship matrix of relatedness among the strains (50-by-50):"
   ]
  },
  {
   "cell_type": "code",
   "execution_count": 17,
   "id": "18e76163-3e2a-40b3-b934-7ee1c9329887",
   "metadata": {},
   "outputs": [],
   "source": [
    "geno_strains = Matrix{Float64}(BXD_geno_strains_summary_df[:, 2:end]);"
   ]
  },
  {
   "cell_type": "code",
   "execution_count": 18,
   "id": "dd7d6569-ee12-4e1f-8fa4-df06d5c62ff8",
   "metadata": {},
   "outputs": [],
   "source": [
    "kinship_strains = calcKinship(geno_strains);"
   ]
  },
  {
   "cell_type": "markdown",
   "id": "e11b6c48-a575-4948-86bf-5e40d01b79c6",
   "metadata": {},
   "source": [
    "Then, construct the kinship matrix of relatedness among the individuals based on which strain they are from:"
   ]
  },
  {
   "cell_type": "code",
   "execution_count": 20,
   "id": "1627ff49-f03c-4f7c-95bb-647d9bec26dc",
   "metadata": {},
   "outputs": [],
   "source": [
    "BXD_geno_ind_summary_df.Strain_num = Vector{Int64}(BXD_geno_ind_summary_df.Strain_num);"
   ]
  },
  {
   "cell_type": "code",
   "execution_count": 21,
   "id": "ed61c75f-c283-49fd-acde-30b083d1743b",
   "metadata": {},
   "outputs": [
    {
     "name": "stdout",
     "output_type": "stream",
     "text": [
      "  0.002961 seconds (28 allocations: 493.812 KiB)\n"
     ]
    }
   ],
   "source": [
    "@time kinship_ind_from_strains = calcKinship2(kinship_strains, BXD_geno_ind_summary_df.Strain_num);"
   ]
  },
  {
   "cell_type": "markdown",
   "id": "19b9c567-b404-429c-a3a6-6053ffec44d4",
   "metadata": {},
   "source": [
    "### Single-trait genome scans:"
   ]
  },
  {
   "cell_type": "markdown",
   "id": "bcbd89b9-2ad3-40a8-8e8d-81512875debb",
   "metadata": {},
   "source": [
    "To see single trait genome scan results, we take the 29437-th livear proteomic as the single trait to run analysis:  "
   ]
  },
  {
   "cell_type": "code",
   "execution_count": 31,
   "id": "547fc3eb-99e8-43b7-a7dd-bb0d3073b3b5",
   "metadata": {},
   "outputs": [],
   "source": [
    "lp_names = names(BXD_pheno_ind_summary_df)[4:end];"
   ]
  },
  {
   "cell_type": "code",
   "execution_count": 32,
   "id": "07a1bf7c-d333-4826-ab63-513f87006589",
   "metadata": {},
   "outputs": [
    {
     "data": {
      "text/plain": [
       "\"Q9Z2I8_SSGLPITSAVDLEDAAK_3\""
      ]
     },
     "execution_count": 32,
     "metadata": {},
     "output_type": "execute_result"
    }
   ],
   "source": [
    "lp_id = 29437;\n",
    "lp_names[lp_id]"
   ]
  },
  {
   "cell_type": "code",
   "execution_count": 33,
   "id": "10b8a21f-65a2-442f-bdd4-fbb0f7e2feaf",
   "metadata": {},
   "outputs": [],
   "source": [
    "prior = [1.0, 0.0];"
   ]
  },
  {
   "cell_type": "markdown",
   "id": "fb6aa497-38b0-4c8e-9582-c675019bfcfc",
   "metadata": {},
   "source": [
    "#### For individual liver proteome"
   ]
  },
  {
   "cell_type": "code",
   "execution_count": 34,
   "id": "d5f97779-e35c-4373-91ae-b9f003c5c280",
   "metadata": {},
   "outputs": [],
   "source": [
    "geno_ind = Matrix{Float64}(BXD_geno_ind_summary_df[:, 4:end]);"
   ]
  },
  {
   "cell_type": "code",
   "execution_count": 35,
   "id": "f9e6bc67-fc56-47ae-aa0c-df73658709b0",
   "metadata": {},
   "outputs": [],
   "source": [
    "lp_ind_Y = Matrix{Float64}(BXD_pheno_ind_summary_df[:, 4:end]);\n",
    "lp_ind_y = reshape(lp_ind_Y[:, lp_id], :, 1);"
   ]
  },
  {
   "cell_type": "code",
   "execution_count": 36,
   "id": "ebaaef2c-8973-42e0-b527-c23d8c73ae40",
   "metadata": {},
   "outputs": [],
   "source": [
    "lpst_ind_Y = colStandardize(lp_ind_Y);\n",
    "lpst_ind_y = reshape(lpst_ind_Y[:, lp_id], :, 1);"
   ]
  },
  {
   "cell_type": "code",
   "execution_count": 45,
   "id": "fb383cb0-71d2-45ea-97ba-b5d685e69607",
   "metadata": {},
   "outputs": [
    {
     "name": "stdout",
     "output_type": "stream",
     "text": [
      "  0.164502 seconds (82.20 k allocations: 136.248 MiB, 12.94% gc time)\n"
     ]
    }
   ],
   "source": [
    "@time scan_results_ind = scan(lpst_ind_y, geno_ind, kinship_ind_from_strains;\n",
    "                              prior_variance = 1.0, prior_sample_size = 0.1);"
   ]
  },
  {
   "cell_type": "code",
   "execution_count": 47,
   "id": "b44968a6-e24e-46bc-99c1-c5f5a8599e96",
   "metadata": {},
   "outputs": [
    {
     "name": "stdout",
     "output_type": "stream",
     "text": [
      " 13.322422 seconds (11.82 M allocations: 14.369 GiB, 7.34% gc time, 0.26% compilation time)\n"
     ]
    }
   ],
   "source": [
    "@time scan_results_ind_alt = scan(lpst_ind_y, geno_ind, kinship_ind_from_strains;\n",
    "                                  assumption = \"alt\", \n",
    "                                  prior_variance = prior[1], prior_sample_size = prior[2]);"
   ]
  },
  {
   "cell_type": "code",
   "execution_count": 48,
   "id": "4eb97040-9b9d-4b6a-b8c1-b497f16cd24b",
   "metadata": {},
   "outputs": [
    {
     "name": "stdout",
     "output_type": "stream",
     "text": [
      "  0.977219 seconds (2.04 M allocations: 268.265 MiB, 1.56% gc time, 89.44% compilation time)\n"
     ]
    }
   ],
   "source": [
    "@time scan_perms_results_ind = scan(lpst_ind_y, geno_ind, kinship_ind_from_strains;\n",
    "                                    prior_variance = prior[1], prior_sample_size = prior[2],\n",
    "                                    permutation_test = true, nperms = 1000, original = true);"
   ]
  },
  {
   "cell_type": "code",
   "execution_count": 49,
   "id": "703432c5-882d-4ec7-a9b9-818c1ed4b08e",
   "metadata": {},
   "outputs": [],
   "source": [
    "single_results_ind = DataFrame(hcat(scan_results_ind.lod, scan_results_ind_alt.lod, scan_perms_results_ind[:, 1]), [\"scan_null\", \"scan_alt\", \"scan_perms.original\"]);"
   ]
  },
  {
   "cell_type": "code",
   "execution_count": 50,
   "id": "1003eae2-dd56-42dd-9da9-5a218b38e37b",
   "metadata": {},
   "outputs": [
    {
     "data": {
      "text/html": [
       "<div><div style = \"float: left;\"><span>6×3 DataFrame</span></div><div style = \"clear: both;\"></div></div><div class = \"data-frame\" style = \"overflow-x: scroll;\"><table class = \"data-frame\" style = \"margin-bottom: 6px;\"><thead><tr class = \"header\"><th class = \"rowNumber\" style = \"font-weight: bold; text-align: right;\">Row</th><th style = \"text-align: left;\">scan_null</th><th style = \"text-align: left;\">scan_alt</th><th style = \"text-align: left;\">scan_perms.original</th></tr><tr class = \"subheader headerLastRow\"><th class = \"rowNumber\" style = \"font-weight: bold; text-align: right;\"></th><th title = \"Float64\" style = \"text-align: left;\">Float64</th><th title = \"Float64\" style = \"text-align: left;\">Float64</th><th title = \"Float64\" style = \"text-align: left;\">Float64</th></tr></thead><tbody><tr><td class = \"rowNumber\" style = \"font-weight: bold; text-align: right;\">1</td><td style = \"text-align: right;\">0.44861</td><td style = \"text-align: right;\">0.44861</td><td style = \"text-align: right;\">0.44861</td></tr><tr><td class = \"rowNumber\" style = \"font-weight: bold; text-align: right;\">2</td><td style = \"text-align: right;\">0.44861</td><td style = \"text-align: right;\">0.44861</td><td style = \"text-align: right;\">0.44861</td></tr><tr><td class = \"rowNumber\" style = \"font-weight: bold; text-align: right;\">3</td><td style = \"text-align: right;\">0.44861</td><td style = \"text-align: right;\">0.44861</td><td style = \"text-align: right;\">0.44861</td></tr><tr><td class = \"rowNumber\" style = \"font-weight: bold; text-align: right;\">4</td><td style = \"text-align: right;\">0.44861</td><td style = \"text-align: right;\">0.44861</td><td style = \"text-align: right;\">0.44861</td></tr><tr><td class = \"rowNumber\" style = \"font-weight: bold; text-align: right;\">5</td><td style = \"text-align: right;\">0.44861</td><td style = \"text-align: right;\">0.44861</td><td style = \"text-align: right;\">0.44861</td></tr><tr><td class = \"rowNumber\" style = \"font-weight: bold; text-align: right;\">6</td><td style = \"text-align: right;\">0.44861</td><td style = \"text-align: right;\">0.44861</td><td style = \"text-align: right;\">0.44861</td></tr></tbody></table></div>"
      ],
      "text/latex": [
       "\\begin{tabular}{r|ccc}\n",
       "\t& scan\\_null & scan\\_alt & scan\\_perms.original\\\\\n",
       "\t\\hline\n",
       "\t& Float64 & Float64 & Float64\\\\\n",
       "\t\\hline\n",
       "\t1 & 0.44861 & 0.44861 & 0.44861 \\\\\n",
       "\t2 & 0.44861 & 0.44861 & 0.44861 \\\\\n",
       "\t3 & 0.44861 & 0.44861 & 0.44861 \\\\\n",
       "\t4 & 0.44861 & 0.44861 & 0.44861 \\\\\n",
       "\t5 & 0.44861 & 0.44861 & 0.44861 \\\\\n",
       "\t6 & 0.44861 & 0.44861 & 0.44861 \\\\\n",
       "\\end{tabular}\n"
      ],
      "text/plain": [
       "\u001b[1m6×3 DataFrame\u001b[0m\n",
       "\u001b[1m Row \u001b[0m│\u001b[1m scan_null \u001b[0m\u001b[1m scan_alt \u001b[0m\u001b[1m scan_perms.original \u001b[0m\n",
       "     │\u001b[90m Float64   \u001b[0m\u001b[90m Float64  \u001b[0m\u001b[90m Float64             \u001b[0m\n",
       "─────┼──────────────────────────────────────────\n",
       "   1 │   0.44861   0.44861              0.44861\n",
       "   2 │   0.44861   0.44861              0.44861\n",
       "   3 │   0.44861   0.44861              0.44861\n",
       "   4 │   0.44861   0.44861              0.44861\n",
       "   5 │   0.44861   0.44861              0.44861\n",
       "   6 │   0.44861   0.44861              0.44861"
      ]
     },
     "execution_count": 50,
     "metadata": {},
     "output_type": "execute_result"
    }
   ],
   "source": [
    "single_results_ind[1:6, :]"
   ]
  },
  {
   "cell_type": "markdown",
   "id": "02074d3d-dfce-4b1d-a559-e03508615ca3",
   "metadata": {},
   "source": [
    "#### For liver proteome means by strains"
   ]
  },
  {
   "cell_type": "code",
   "execution_count": 51,
   "id": "4b51bafb-a1de-41c5-9f0d-b708b4972cdb",
   "metadata": {},
   "outputs": [],
   "source": [
    "lp_strains_Y = Matrix{Float64}(BXD_pheno_strains_summary_df[:, 3:end]);\n",
    "lp_strains_y = reshape(lp_strains_Y[:, lp_id], :, 1);"
   ]
  },
  {
   "cell_type": "code",
   "execution_count": 52,
   "id": "3fb63f6a-afd6-470f-aceb-cea72c5cba2b",
   "metadata": {},
   "outputs": [],
   "source": [
    "lpst_strains_Y = colStandardize(lp_strains_Y);\n",
    "lpst_strains_y = reshape(lpst_strains_Y[:, lp_id], :, 1);"
   ]
  },
  {
   "cell_type": "code",
   "execution_count": 67,
   "id": "8d181cef-df57-4e17-b4bc-f7c6a8a41d2f",
   "metadata": {},
   "outputs": [
    {
     "name": "stdout",
     "output_type": "stream",
     "text": [
      "  0.045805 seconds (84.35 k allocations: 33.226 MiB)\n"
     ]
    }
   ],
   "source": [
    "@time scan_results_strains = scan(lpst_strains_y, geno_strains, kinship_strains; \n",
    "                                  prior_variance = prior[1], prior_sample_size = prior[2],\n",
    "                                  optim_interval = 4);"
   ]
  },
  {
   "cell_type": "code",
   "execution_count": 68,
   "id": "558a9947-1e61-402e-90da-5a8c1cae15c7",
   "metadata": {},
   "outputs": [
    {
     "name": "stdout",
     "output_type": "stream",
     "text": [
      "  2.856948 seconds (6.73 M allocations: 2.055 GiB, 7.77% gc time)\n"
     ]
    }
   ],
   "source": [
    "@time scan_results_strains_alt = scan(lpst_strains_y, geno_strains, kinship_strains;\n",
    "                                      assumption = \"alt\",\n",
    "                                      prior_variance = prior[1], prior_sample_size = prior[2]);"
   ]
  },
  {
   "cell_type": "code",
   "execution_count": 69,
   "id": "f7e7ec8e-7352-4fef-a22c-d61e90fbae53",
   "metadata": {},
   "outputs": [
    {
     "name": "stdout",
     "output_type": "stream",
     "text": [
      "  0.137267 seconds (90.54 k allocations: 78.811 MiB, 67.73% gc time)\n"
     ]
    }
   ],
   "source": [
    "@time scan_perms_results_strains = scan(lpst_strains_y, geno_strains, kinship_strains;\n",
    "                                        permutation_test = true, nperms = 1000, original = true, \n",
    "                                        prior_variance = prior[1], prior_sample_size = prior[2]);"
   ]
  },
  {
   "cell_type": "code",
   "execution_count": 70,
   "id": "ef7d8e30-dfea-47f0-a7ff-ae966a9594b9",
   "metadata": {},
   "outputs": [],
   "source": [
    "single_results_strains = DataFrame(hcat(scan_results_strains.lod, scan_results_strains_alt.lod, scan_perms_results_strains[:, 1]), [\"scan_null\", \"scan_alt\", \"scan_perms.original\"]);"
   ]
  },
  {
   "cell_type": "code",
   "execution_count": 71,
   "id": "cd32ad3e-95f0-4169-a7b7-1b1b28b48f6c",
   "metadata": {},
   "outputs": [
    {
     "data": {
      "text/html": [
       "<div><div style = \"float: left;\"><span>6×3 DataFrame</span></div><div style = \"clear: both;\"></div></div><div class = \"data-frame\" style = \"overflow-x: scroll;\"><table class = \"data-frame\" style = \"margin-bottom: 6px;\"><thead><tr class = \"header\"><th class = \"rowNumber\" style = \"font-weight: bold; text-align: right;\">Row</th><th style = \"text-align: left;\">scan_null</th><th style = \"text-align: left;\">scan_alt</th><th style = \"text-align: left;\">scan_perms.original</th></tr><tr class = \"subheader headerLastRow\"><th class = \"rowNumber\" style = \"font-weight: bold; text-align: right;\"></th><th title = \"Float64\" style = \"text-align: left;\">Float64</th><th title = \"Float64\" style = \"text-align: left;\">Float64</th><th title = \"Float64\" style = \"text-align: left;\">Float64</th></tr></thead><tbody><tr><td class = \"rowNumber\" style = \"font-weight: bold; text-align: right;\">1</td><td style = \"text-align: right;\">0.387771</td><td style = \"text-align: right;\">0.387771</td><td style = \"text-align: right;\">0.387771</td></tr><tr><td class = \"rowNumber\" style = \"font-weight: bold; text-align: right;\">2</td><td style = \"text-align: right;\">0.387771</td><td style = \"text-align: right;\">0.387771</td><td style = \"text-align: right;\">0.387771</td></tr><tr><td class = \"rowNumber\" style = \"font-weight: bold; text-align: right;\">3</td><td style = \"text-align: right;\">0.387771</td><td style = \"text-align: right;\">0.387771</td><td style = \"text-align: right;\">0.387771</td></tr><tr><td class = \"rowNumber\" style = \"font-weight: bold; text-align: right;\">4</td><td style = \"text-align: right;\">0.387771</td><td style = \"text-align: right;\">0.387771</td><td style = \"text-align: right;\">0.387771</td></tr><tr><td class = \"rowNumber\" style = \"font-weight: bold; text-align: right;\">5</td><td style = \"text-align: right;\">0.387771</td><td style = \"text-align: right;\">0.387771</td><td style = \"text-align: right;\">0.387771</td></tr><tr><td class = \"rowNumber\" style = \"font-weight: bold; text-align: right;\">6</td><td style = \"text-align: right;\">0.387771</td><td style = \"text-align: right;\">0.387771</td><td style = \"text-align: right;\">0.387771</td></tr></tbody></table></div>"
      ],
      "text/latex": [
       "\\begin{tabular}{r|ccc}\n",
       "\t& scan\\_null & scan\\_alt & scan\\_perms.original\\\\\n",
       "\t\\hline\n",
       "\t& Float64 & Float64 & Float64\\\\\n",
       "\t\\hline\n",
       "\t1 & 0.387771 & 0.387771 & 0.387771 \\\\\n",
       "\t2 & 0.387771 & 0.387771 & 0.387771 \\\\\n",
       "\t3 & 0.387771 & 0.387771 & 0.387771 \\\\\n",
       "\t4 & 0.387771 & 0.387771 & 0.387771 \\\\\n",
       "\t5 & 0.387771 & 0.387771 & 0.387771 \\\\\n",
       "\t6 & 0.387771 & 0.387771 & 0.387771 \\\\\n",
       "\\end{tabular}\n"
      ],
      "text/plain": [
       "\u001b[1m6×3 DataFrame\u001b[0m\n",
       "\u001b[1m Row \u001b[0m│\u001b[1m scan_null \u001b[0m\u001b[1m scan_alt \u001b[0m\u001b[1m scan_perms.original \u001b[0m\n",
       "     │\u001b[90m Float64   \u001b[0m\u001b[90m Float64  \u001b[0m\u001b[90m Float64             \u001b[0m\n",
       "─────┼──────────────────────────────────────────\n",
       "   1 │  0.387771  0.387771             0.387771\n",
       "   2 │  0.387771  0.387771             0.387771\n",
       "   3 │  0.387771  0.387771             0.387771\n",
       "   4 │  0.387771  0.387771             0.387771\n",
       "   5 │  0.387771  0.387771             0.387771\n",
       "   6 │  0.387771  0.387771             0.387771"
      ]
     },
     "execution_count": 71,
     "metadata": {},
     "output_type": "execute_result"
    }
   ],
   "source": [
    "single_results_strains[1:6, :]"
   ]
  },
  {
   "cell_type": "markdown",
   "id": "e581b199-d92b-4b4a-950f-888df22eb3f2",
   "metadata": {},
   "source": [
    "### Multiple-trait genome scans:"
   ]
  },
  {
   "cell_type": "code",
   "execution_count": 72,
   "id": "cd08a07d-6a5c-45e0-a9a3-2aa199495c2a",
   "metadata": {},
   "outputs": [],
   "source": [
    "BLAS.set_num_threads(Threads.nthreads())"
   ]
  },
  {
   "cell_type": "code",
   "execution_count": 73,
   "id": "e02cca07-1c96-4fa6-89a5-4582abc864f1",
   "metadata": {},
   "outputs": [
    {
     "data": {
      "text/plain": [
       "16"
      ]
     },
     "execution_count": 73,
     "metadata": {},
     "output_type": "execute_result"
    }
   ],
   "source": [
    "BLAS.get_num_threads()"
   ]
  },
  {
   "cell_type": "code",
   "execution_count": 75,
   "id": "e1648bcc-bf04-4651-acfb-d4673b7826f5",
   "metadata": {},
   "outputs": [],
   "source": [
    "grid_list = collect(0.0:0.05:0.95);\n",
    "# grid_list = collect(0.0:0.01:0.99);"
   ]
  },
  {
   "cell_type": "markdown",
   "id": "15398327-2dcb-4168-8f30-a8bc4c3957ae",
   "metadata": {},
   "source": [
    "#### For individual liver proteome"
   ]
  },
  {
   "cell_type": "code",
   "execution_count": 76,
   "id": "e3ffddcb-2dfb-4442-a569-a50ef65a4276",
   "metadata": {},
   "outputs": [
    {
     "data": {
      "text/plain": [
       "(248, 32445)"
      ]
     },
     "execution_count": 76,
     "metadata": {},
     "output_type": "execute_result"
    }
   ],
   "source": [
    "size(lpst_ind_Y)"
   ]
  },
  {
   "cell_type": "code",
   "execution_count": 77,
   "id": "743c155d-79e5-4dad-9c70-045bced69678",
   "metadata": {},
   "outputs": [
    {
     "data": {
      "text/plain": [
       "(50, 32445)"
      ]
     },
     "execution_count": 77,
     "metadata": {},
     "output_type": "execute_result"
    }
   ],
   "source": [
    "size(lpst_strains_Y)"
   ]
  },
  {
   "cell_type": "code",
   "execution_count": 78,
   "id": "c97d6a1f-da6a-42e4-9687-037aff817b11",
   "metadata": {},
   "outputs": [
    {
     "data": {
      "text/plain": [
       "16"
      ]
     },
     "execution_count": 78,
     "metadata": {},
     "output_type": "execute_result"
    }
   ],
   "source": [
    "Threads.nthreads()"
   ]
  },
  {
   "cell_type": "code",
   "execution_count": 79,
   "id": "2a304cb3-24ef-483e-a3ee-9ac484b2c3fb",
   "metadata": {},
   "outputs": [
    {
     "name": "stdout",
     "output_type": "stream",
     "text": [
      "163.091016 seconds (2.60 G allocations: 1.813 TiB, 14.57% gc time, 0.19% compilation time)\n"
     ]
    }
   ],
   "source": [
    "@time bulkscan_results_ind_null = bulkscan_null(lp_ind_Y, geno_ind, kinship_ind_from_strains; nb = Threads.nthreads(),\n",
    "                                                prior_variance = 1.0, prior_sample_size = 0.0, optim_interval = 1);"
   ]
  },
  {
   "cell_type": "code",
   "execution_count": 80,
   "id": "0a73fb1d-8e91-4cc8-a227-236ceda8f66b",
   "metadata": {},
   "outputs": [],
   "source": [
    "BLAS.set_num_threads(Threads.nthreads())"
   ]
  },
  {
   "cell_type": "code",
   "execution_count": 81,
   "id": "44d2515c-83a5-419a-a1d1-5e9151ceacc2",
   "metadata": {},
   "outputs": [
    {
     "name": "stdout",
     "output_type": "stream",
     "text": [
      " 23.266629 seconds (8.86 M allocations: 41.849 GiB, 5.46% gc time, 0.20% compilation time)\n"
     ]
    }
   ],
   "source": [
    "@time bulkscan_results_ind_alt_grid = bulkscan_alt_grid(lpst_ind_Y, geno_ind, kinship_ind_from_strains, grid_list);"
   ]
  },
  {
   "cell_type": "code",
   "execution_count": 83,
   "id": "c8b20542-0959-472e-9ae8-df190723e01e",
   "metadata": {},
   "outputs": [
    {
     "name": "stdout",
     "output_type": "stream",
     "text": [
      "  6.073376 seconds (10.10 M allocations: 11.609 GiB, 3.39% gc time)\n"
     ]
    }
   ],
   "source": [
    "@time bulkscan_results_ind_null_grid = bulkscan_null_grid(lpst_ind_Y, geno_ind, kinship_ind_from_strains, grid_list);"
   ]
  },
  {
   "cell_type": "markdown",
   "id": "f69ba271-fe23-4764-9186-4167a256a964",
   "metadata": {},
   "source": [
    "#### For liver proteome means by strains"
   ]
  },
  {
   "cell_type": "code",
   "execution_count": 145,
   "id": "f1d7f72c-5fd7-4135-94d0-7afaf3c8e396",
   "metadata": {},
   "outputs": [
    {
     "name": "stdout",
     "output_type": "stream",
     "text": [
      " 51.151220 seconds (2.61 G allocations: 434.477 GiB, 35.90% gc time)\n"
     ]
    }
   ],
   "source": [
    "@time bulkscan_results_strains_null = bulkscan_null(lpst_strains_Y, geno_strains, kinship_strains; nb = Threads.nthreads(),\n",
    "                                                    prior_variance = 1.0, prior_sample_size = 0.0, optim_interval = 1);"
   ]
  },
  {
   "cell_type": "code",
   "execution_count": 85,
   "id": "a1231e79-a93f-4fc7-8927-033d0dc5bf93",
   "metadata": {},
   "outputs": [],
   "source": [
    "BLAS.set_num_threads(Threads.nthreads())"
   ]
  },
  {
   "cell_type": "code",
   "execution_count": 86,
   "id": "72a4ee75-e32b-4f97-b062-55afb687f85c",
   "metadata": {},
   "outputs": [
    {
     "name": "stdout",
     "output_type": "stream",
     "text": [
      " 16.416681 seconds (8.69 M allocations: 36.859 GiB, 14.53% gc time)\n"
     ]
    }
   ],
   "source": [
    "@time bulkscan_results_strains_alt_grid = bulkscan_alt_grid(lpst_strains_Y, geno_strains, kinship_strains, grid_list);"
   ]
  },
  {
   "cell_type": "code",
   "execution_count": 146,
   "id": "bd1ea493-2cc3-4e3c-9f4c-8faaf7cc10d2",
   "metadata": {},
   "outputs": [
    {
     "name": "stdout",
     "output_type": "stream",
     "text": [
      "  5.281386 seconds (9.47 M allocations: 5.288 GiB, 10.84% gc time)\n"
     ]
    }
   ],
   "source": [
    "@time bulkscan_results_strains_null_grid = bulkscan_null_grid(lpst_strains_Y, geno_strains, kinship_strains, grid_list;\n",
    "                                                              prior_variance = 1.0, prior_sample_size = 0.0);"
   ]
  },
  {
   "cell_type": "code",
   "execution_count": 88,
   "id": "d7680b96-f668-4e29-88c0-08bc226fb795",
   "metadata": {},
   "outputs": [
    {
     "data": {
      "text/plain": [
       "\"/home/zyu20/git/BulkLMM_Analyses/BXDLongevity\""
      ]
     },
     "execution_count": 88,
     "metadata": {},
     "output_type": "execute_result"
    }
   ],
   "source": [
    "pwd()"
   ]
  },
  {
   "cell_type": "code",
   "execution_count": 132,
   "id": "18e22ec5-308e-4a4f-b10b-409aae17eac1",
   "metadata": {},
   "outputs": [],
   "source": [
    "blackSwans = findall(bulkscan_results_strains_null.h2_null_list .>= 0.9999);"
   ]
  },
  {
   "cell_type": "code",
   "execution_count": 144,
   "id": "965c6c15-c864-4889-81f8-d5e868cde5d9",
   "metadata": {},
   "outputs": [
    {
     "data": {
      "text/plain": [
       "1000-element Vector{Float64}:\n",
       " 0.001\n",
       " 0.002\n",
       " 0.003\n",
       " 0.004\n",
       " 0.005\n",
       " 0.006\n",
       " 0.007\n",
       " 0.008\n",
       " 0.009000000000000001\n",
       " 0.01\n",
       " 0.011\n",
       " 0.012\n",
       " 0.013000000000000001\n",
       " ⋮\n",
       " 0.989\n",
       " 0.99\n",
       " 0.991\n",
       " 0.992\n",
       " 0.993\n",
       " 0.994\n",
       " 0.995\n",
       " 0.996\n",
       " 0.997\n",
       " 0.998\n",
       " 0.999\n",
       " 0.9999999"
      ]
     },
     "execution_count": 144,
     "metadata": {},
     "output_type": "execute_result"
    }
   ],
   "source": [
    "h2_grid = collect(1:999).*0.001;\n",
    "h2_grid = vcat(h2_grid, 0.9999999)"
   ]
  },
  {
   "cell_type": "code",
   "execution_count": 134,
   "id": "352fe6e6-d9d9-45e2-9a9d-d48ddc9e209d",
   "metadata": {},
   "outputs": [
    {
     "data": {
      "text/plain": [
       "241"
      ]
     },
     "execution_count": 134,
     "metadata": {},
     "output_type": "execute_result"
    }
   ],
   "source": [
    "test_id = blackSwans[5]"
   ]
  },
  {
   "cell_type": "code",
   "execution_count": 135,
   "id": "1eb26b86-555d-4125-9561-4c2d779cc559",
   "metadata": {},
   "outputs": [
    {
     "data": {
      "text/plain": [
       "419"
      ]
     },
     "execution_count": 135,
     "metadata": {},
     "output_type": "execute_result"
    }
   ],
   "source": [
    "size(blackSwans, 1)"
   ]
  },
  {
   "cell_type": "code",
   "execution_count": 147,
   "id": "f0f9e7b7-c5c5-4c7d-90bf-137ecf46bc86",
   "metadata": {},
   "outputs": [],
   "source": [
    "#= \n",
    "for test_id in blackSwans[1]\n",
    "    println(test_id)\n",
    "    scan(reshape(lpst_strains_Y[:, test_id], :, 1), geno_strains, kinship_strains;\n",
    "         prior_variance = 1.0, prior_sample_size = 0.0, optim_interval = 1,\n",
    "         plot_loglik = true, markerID = 1, h2_grid = h2_grid, y_lims = [-25.0, -21]);\n",
    "end\n",
    "=#"
   ]
  },
  {
   "cell_type": "code",
   "execution_count": 165,
   "id": "9b1075fa-dc55-4f50-a77f-088450181531",
   "metadata": {},
   "outputs": [
    {
     "data": {
      "text/plain": [
       "2045-element Vector{Int64}:\n",
       "     6\n",
       "    13\n",
       "    33\n",
       "    38\n",
       "    41\n",
       "    47\n",
       "    53\n",
       "    55\n",
       "    59\n",
       "    63\n",
       "    65\n",
       "    68\n",
       "    71\n",
       "     ⋮\n",
       " 32228\n",
       " 32250\n",
       " 32270\n",
       " 32278\n",
       " 32334\n",
       " 32339\n",
       " 32348\n",
       " 32355\n",
       " 32364\n",
       " 32379\n",
       " 32424\n",
       " 32441"
      ]
     },
     "execution_count": 165,
     "metadata": {},
     "output_type": "execute_result"
    }
   ],
   "source": [
    "findall(abs.(bulkscan_results_strains_null.h2_null_list .- bulkscan_results_strains_null_grid.h2_null_list) .> 0.50)"
   ]
  },
  {
   "cell_type": "markdown",
   "id": "c384ee93-9fc4-491f-9665-6fd6c3ecfc2f",
   "metadata": {},
   "source": [
    "for trait 617..."
   ]
  },
  {
   "cell_type": "code",
   "execution_count": 150,
   "id": "7fd22d87-c77f-4565-afa9-2e6b607c66e4",
   "metadata": {},
   "outputs": [],
   "source": [
    "test_grid_brent1 = scan(reshape(lpst_strains_Y[:, 617], :, 1), geno_strains, kinship_strains);"
   ]
  },
  {
   "cell_type": "code",
   "execution_count": 151,
   "id": "e3b1fc3c-081d-429d-a4fc-4e4118b3d744",
   "metadata": {},
   "outputs": [],
   "source": [
    "test_grid_brent4 = scan(reshape(lpst_strains_Y[:, 617], :, 1), geno_strains, kinship_strains;\n",
    "                        optim_interval = 4);"
   ]
  },
  {
   "cell_type": "code",
   "execution_count": 194,
   "id": "344dc18e-83b1-4f1f-b58a-da22b8ec8ae7",
   "metadata": {},
   "outputs": [],
   "source": [
    "test_grid_brent1c = scan(reshape(lpst_strains_Y[:, 617], :, 1), geno_strains, kinship_strains;\n",
    "                         prior_variance = 1.0, prior_sample_size = 49.0);"
   ]
  },
  {
   "cell_type": "code",
   "execution_count": 195,
   "id": "e2709508-0b2c-4835-bf52-003dd2fc0101",
   "metadata": {},
   "outputs": [
    {
     "data": {
      "text/plain": [
       "0.6760670144691605"
      ]
     },
     "execution_count": 195,
     "metadata": {},
     "output_type": "execute_result"
    }
   ],
   "source": [
    "test_grid_brent1.h2_null"
   ]
  },
  {
   "cell_type": "code",
   "execution_count": 196,
   "id": "d97d8f64-7f6b-4572-974f-e4e3236bfb4c",
   "metadata": {},
   "outputs": [
    {
     "data": {
      "text/plain": [
       "7.729668872377043e-16"
      ]
     },
     "execution_count": 196,
     "metadata": {},
     "output_type": "execute_result"
    }
   ],
   "source": [
    "test_grid_brent4.h2_null"
   ]
  },
  {
   "cell_type": "code",
   "execution_count": 197,
   "id": "59823460-0e4a-428a-9bb2-2264914edb0f",
   "metadata": {},
   "outputs": [
    {
     "data": {
      "text/plain": [
       "1.09920440735099e-15"
      ]
     },
     "execution_count": 197,
     "metadata": {},
     "output_type": "execute_result"
    }
   ],
   "source": [
    "test_grid_brent1c.h2_null"
   ]
  },
  {
   "cell_type": "code",
   "execution_count": 198,
   "id": "e6390a8e-dbed-40ea-9496-8a63d355eca2",
   "metadata": {},
   "outputs": [
    {
     "data": {
      "text/plain": [
       "7321×3 Matrix{Float64}:\n",
       " 0.125322    0.0708822  0.0643288\n",
       " 0.125322    0.0708822  0.0643288\n",
       " 0.125322    0.0708822  0.0643288\n",
       " 0.125322    0.0708822  0.0643288\n",
       " 0.125322    0.0708822  0.0643288\n",
       " 0.125322    0.0708822  0.0643288\n",
       " 0.125322    0.0708822  0.0643288\n",
       " 0.125322    0.0708822  0.0643288\n",
       " 0.125322    0.0708822  0.0643288\n",
       " 0.125322    0.0708822  0.0643288\n",
       " 0.125322    0.0708822  0.0643288\n",
       " 0.125322    0.0708822  0.0643288\n",
       " 0.112734    0.118025   0.0748609\n",
       " ⋮                      \n",
       " 0.152007    0.118166   0.00133766\n",
       " 0.152007    0.118166   0.00133766\n",
       " 0.152007    0.118166   0.00133766\n",
       " 0.115361    0.0950165  5.77928e-6\n",
       " 0.140935    0.0833545  0.00068534\n",
       " 0.140935    0.0833545  0.00068534\n",
       " 0.117898    0.0649331  0.00521591\n",
       " 0.0897677   0.0156876  0.0146325\n",
       " 0.117898    0.0649331  0.00521591\n",
       " 0.0897677   0.0156876  0.0146325\n",
       " 2.98765e-6  0.0250059  0.00870479\n",
       " 2.98765e-6  0.0250059  0.00870479"
      ]
     },
     "execution_count": 198,
     "metadata": {},
     "output_type": "execute_result"
    }
   ],
   "source": [
    "hcat(test_grid_brent1.lod, test_grid_brent4.lod, test_grid_brent1c.lod)"
   ]
  },
  {
   "cell_type": "markdown",
   "id": "d86fafd4-dca7-4a3f-bd8d-a75b69889ffa",
   "metadata": {},
   "source": [
    "for trait 6"
   ]
  },
  {
   "cell_type": "code",
   "execution_count": 199,
   "id": "c57a3aac-f472-46ec-bac2-546763e28085",
   "metadata": {},
   "outputs": [],
   "source": [
    "test_grid_brent1 = scan(reshape(lpst_strains_Y[:, 6], :, 1), geno_strains, kinship_strains);"
   ]
  },
  {
   "cell_type": "code",
   "execution_count": 200,
   "id": "6536661c-61bf-4460-ac36-4d1b27997f80",
   "metadata": {},
   "outputs": [],
   "source": [
    "test_grid_brent4 = scan(reshape(lpst_strains_Y[:, 6], :, 1), geno_strains, kinship_strains;\n",
    "                        optim_interval = 10);"
   ]
  },
  {
   "cell_type": "code",
   "execution_count": 201,
   "id": "cfc73443-472f-4b03-8954-0b47ce820bc7",
   "metadata": {},
   "outputs": [],
   "source": [
    "test_grid_brent1c = scan(reshape(lpst_strains_Y[:, 6], :, 1), geno_strains, kinship_strains;\n",
    "                         prior_variance = 1.0, prior_sample_size = 49.0);"
   ]
  },
  {
   "cell_type": "code",
   "execution_count": 202,
   "id": "fe76ef66-02e8-49bd-9420-9628ae68c3be",
   "metadata": {},
   "outputs": [
    {
     "data": {
      "text/plain": [
       "0.6760670144691605"
      ]
     },
     "execution_count": 202,
     "metadata": {},
     "output_type": "execute_result"
    }
   ],
   "source": [
    "test_grid_brent1.h2_null"
   ]
  },
  {
   "cell_type": "code",
   "execution_count": 203,
   "id": "b3960181-1422-4f45-b935-f1f9ff07573e",
   "metadata": {},
   "outputs": [
    {
     "data": {
      "text/plain": [
       "7.729668872377043e-16"
      ]
     },
     "execution_count": 203,
     "metadata": {},
     "output_type": "execute_result"
    }
   ],
   "source": [
    "test_grid_brent4.h2_null"
   ]
  },
  {
   "cell_type": "code",
   "execution_count": 204,
   "id": "a13ebba3-b148-4da0-8f67-c4e490544f20",
   "metadata": {},
   "outputs": [
    {
     "data": {
      "text/plain": [
       "5.897297997161383e-16"
      ]
     },
     "execution_count": 204,
     "metadata": {},
     "output_type": "execute_result"
    }
   ],
   "source": [
    "test_grid_brent1c.h2_null"
   ]
  },
  {
   "cell_type": "code",
   "execution_count": 205,
   "id": "c28fe9ad-940c-4dd8-8184-25628ed0f51a",
   "metadata": {},
   "outputs": [
    {
     "data": {
      "text/plain": [
       "7321×3 Matrix{Float64}:\n",
       " 0.125322    0.0708822  0.0708822\n",
       " 0.125322    0.0708822  0.0708822\n",
       " 0.125322    0.0708822  0.0708822\n",
       " 0.125322    0.0708822  0.0708822\n",
       " 0.125322    0.0708822  0.0708822\n",
       " 0.125322    0.0708822  0.0708822\n",
       " 0.125322    0.0708822  0.0708822\n",
       " 0.125322    0.0708822  0.0708822\n",
       " 0.125322    0.0708822  0.0708822\n",
       " 0.125322    0.0708822  0.0708822\n",
       " 0.125322    0.0708822  0.0708822\n",
       " 0.125322    0.0708822  0.0708822\n",
       " 0.112734    0.118025   0.118025\n",
       " ⋮                      \n",
       " 0.152007    0.118166   0.118166\n",
       " 0.152007    0.118166   0.118166\n",
       " 0.152007    0.118166   0.118166\n",
       " 0.115361    0.0950165  0.0950165\n",
       " 0.140935    0.0833545  0.0833545\n",
       " 0.140935    0.0833545  0.0833545\n",
       " 0.117898    0.0649331  0.0649331\n",
       " 0.0897677   0.0156876  0.0156876\n",
       " 0.117898    0.0649331  0.0649331\n",
       " 0.0897677   0.0156876  0.0156876\n",
       " 2.98765e-6  0.0250059  0.0250059\n",
       " 2.98765e-6  0.0250059  0.0250059"
      ]
     },
     "execution_count": 205,
     "metadata": {},
     "output_type": "execute_result"
    }
   ],
   "source": [
    "hcat(test_grid_brent1.lod, test_grid_brent4.lod, test_grid_brent1c.lod)"
   ]
  },
  {
   "cell_type": "markdown",
   "id": "c0c0d52b-1a02-490b-b7da-ef1f8f588963",
   "metadata": {},
   "source": [
    "### Peformance check:"
   ]
  },
  {
   "cell_type": "markdown",
   "id": "4d7af6d1-d09d-4630-a940-a98d7753e7c5",
   "metadata": {},
   "source": [
    "#### Individual data:\n",
    "- n = 248\n",
    "- m = 32445\n",
    "- p = 7321"
   ]
  },
  {
   "cell_type": "code",
   "execution_count": 218,
   "id": "5186431f-99e3-4c56-8896-30e9cf2ad037",
   "metadata": {},
   "outputs": [
    {
     "data": {
      "text/plain": [
       "(248, 32445)"
      ]
     },
     "execution_count": 218,
     "metadata": {},
     "output_type": "execute_result"
    }
   ],
   "source": [
    "size(lpst_ind_Y)"
   ]
  },
  {
   "cell_type": "code",
   "execution_count": 223,
   "id": "2c806f81-2571-41e4-9ec5-af3a0a6af603",
   "metadata": {},
   "outputs": [
    {
     "data": {
      "text/plain": [
       "(248, 7321)"
      ]
     },
     "execution_count": 223,
     "metadata": {},
     "output_type": "execute_result"
    }
   ],
   "source": [
    "size(geno_ind)"
   ]
  },
  {
   "cell_type": "code",
   "execution_count": 207,
   "id": "6d621b15-97bb-40b5-be00-fb1911fcce22",
   "metadata": {},
   "outputs": [
    {
     "data": {
      "text/plain": [
       "BenchmarkTools.Trial: 31 samples with 1 evaluation.\n",
       " Range \u001b[90m(\u001b[39m\u001b[36m\u001b[1mmin\u001b[22m\u001b[39m … \u001b[35mmax\u001b[39m\u001b[90m):  \u001b[39m\u001b[36m\u001b[1m164.902 ms\u001b[22m\u001b[39m … \u001b[35m170.195 ms\u001b[39m  \u001b[90m┊\u001b[39m GC \u001b[90m(\u001b[39mmin … max\u001b[90m): \u001b[39m10.13% … 9.98%\n",
       " Time  \u001b[90m(\u001b[39m\u001b[34m\u001b[1mmedian\u001b[22m\u001b[39m\u001b[90m):     \u001b[39m\u001b[34m\u001b[1m165.927 ms               \u001b[22m\u001b[39m\u001b[90m┊\u001b[39m GC \u001b[90m(\u001b[39mmedian\u001b[90m):    \u001b[39m10.15%\n",
       " Time  \u001b[90m(\u001b[39m\u001b[32m\u001b[1mmean\u001b[22m\u001b[39m ± \u001b[32mσ\u001b[39m\u001b[90m):   \u001b[39m\u001b[32m\u001b[1m166.178 ms\u001b[22m\u001b[39m ± \u001b[32m  1.093 ms\u001b[39m  \u001b[90m┊\u001b[39m GC \u001b[90m(\u001b[39mmean ± σ\u001b[90m):  \u001b[39m10.15% ± 0.10%\n",
       "\n",
       "  \u001b[39m▂\u001b[39m \u001b[39m \u001b[39m \u001b[39m \u001b[39m \u001b[39m \u001b[39m \u001b[39m \u001b[39m \u001b[39m \u001b[39m█\u001b[34m \u001b[39m\u001b[39m \u001b[39m▂\u001b[32m \u001b[39m\u001b[39m \u001b[39m \u001b[39m \u001b[39m \u001b[39m \u001b[39m \u001b[39m \u001b[39m \u001b[39m \u001b[39m \u001b[39m \u001b[39m \u001b[39m \u001b[39m \u001b[39m \u001b[39m \u001b[39m \u001b[39m \u001b[39m \u001b[39m \u001b[39m \u001b[39m \u001b[39m \u001b[39m \u001b[39m \u001b[39m \u001b[39m \u001b[39m \u001b[39m \u001b[39m \u001b[39m \u001b[39m \u001b[39m \u001b[39m \u001b[39m \u001b[39m \u001b[39m \u001b[39m \u001b[39m \u001b[39m \u001b[39m \u001b[39m \u001b[39m \u001b[39m \u001b[39m \u001b[39m \u001b[39m \n",
       "  \u001b[39m█\u001b[39m▁\u001b[39m▁\u001b[39m▅\u001b[39m▅\u001b[39m▅\u001b[39m█\u001b[39m▅\u001b[39m▁\u001b[39m█\u001b[39m▅\u001b[39m█\u001b[34m▅\u001b[39m\u001b[39m▁\u001b[39m█\u001b[32m▁\u001b[39m\u001b[39m█\u001b[39m▁\u001b[39m▅\u001b[39m▁\u001b[39m▅\u001b[39m▅\u001b[39m▅\u001b[39m▁\u001b[39m▅\u001b[39m▁\u001b[39m▁\u001b[39m▁\u001b[39m▁\u001b[39m▁\u001b[39m▁\u001b[39m▁\u001b[39m▁\u001b[39m▁\u001b[39m▅\u001b[39m▁\u001b[39m▁\u001b[39m▁\u001b[39m▁\u001b[39m▁\u001b[39m▁\u001b[39m▅\u001b[39m▁\u001b[39m▁\u001b[39m▁\u001b[39m▁\u001b[39m▁\u001b[39m▁\u001b[39m▁\u001b[39m▁\u001b[39m▁\u001b[39m▁\u001b[39m▁\u001b[39m▁\u001b[39m▁\u001b[39m▁\u001b[39m▁\u001b[39m▁\u001b[39m▁\u001b[39m▁\u001b[39m▅\u001b[39m \u001b[39m▁\n",
       "  165 ms\u001b[90m           Histogram: frequency by time\u001b[39m          170 ms \u001b[0m\u001b[1m<\u001b[22m\n",
       "\n",
       " Memory estimate\u001b[90m: \u001b[39m\u001b[33m136.22 MiB\u001b[39m, allocs estimate\u001b[90m: \u001b[39m\u001b[33m82175\u001b[39m."
      ]
     },
     "execution_count": 207,
     "metadata": {},
     "output_type": "execute_result"
    }
   ],
   "source": [
    "@benchmark scan(lpst_ind_y, geno_ind, kinship_ind_from_strains)"
   ]
  },
  {
   "cell_type": "code",
   "execution_count": 208,
   "id": "2ab53d50-2533-4e72-a213-c40574d137af",
   "metadata": {},
   "outputs": [
    {
     "data": {
      "text/plain": [
       "BenchmarkTools.Trial: 31 samples with 1 evaluation.\n",
       " Range \u001b[90m(\u001b[39m\u001b[36m\u001b[1mmin\u001b[22m\u001b[39m … \u001b[35mmax\u001b[39m\u001b[90m):  \u001b[39m\u001b[36m\u001b[1m165.110 ms\u001b[22m\u001b[39m … \u001b[35m168.172 ms\u001b[39m  \u001b[90m┊\u001b[39m GC \u001b[90m(\u001b[39mmin … max\u001b[90m): \u001b[39m10.27% … 10.09%\n",
       " Time  \u001b[90m(\u001b[39m\u001b[34m\u001b[1mmedian\u001b[22m\u001b[39m\u001b[90m):     \u001b[39m\u001b[34m\u001b[1m166.420 ms               \u001b[22m\u001b[39m\u001b[90m┊\u001b[39m GC \u001b[90m(\u001b[39mmedian\u001b[90m):    \u001b[39m10.13%\n",
       " Time  \u001b[90m(\u001b[39m\u001b[32m\u001b[1mmean\u001b[22m\u001b[39m ± \u001b[32mσ\u001b[39m\u001b[90m):   \u001b[39m\u001b[32m\u001b[1m166.449 ms\u001b[22m\u001b[39m ± \u001b[32m755.808 μs\u001b[39m  \u001b[90m┊\u001b[39m GC \u001b[90m(\u001b[39mmean ± σ\u001b[90m):  \u001b[39m10.18% ±  0.23%\n",
       "\n",
       "  \u001b[39m \u001b[39m \u001b[39m \u001b[39m \u001b[39m \u001b[39m \u001b[39m \u001b[39m \u001b[39m \u001b[39m \u001b[39m▁\u001b[39m \u001b[39m \u001b[39m \u001b[39m \u001b[39m \u001b[39m█\u001b[39m▄\u001b[39m \u001b[39m \u001b[39m \u001b[39m \u001b[39m \u001b[39m \u001b[39m \u001b[34m \u001b[39m\u001b[39m \u001b[32m \u001b[39m\u001b[39m \u001b[39m \u001b[39m \u001b[39m▄\u001b[39m \u001b[39m \u001b[39m \u001b[39m \u001b[39m \u001b[39m \u001b[39m \u001b[39m \u001b[39m \u001b[39m \u001b[39m \u001b[39m \u001b[39m \u001b[39m \u001b[39m \u001b[39m \u001b[39m \u001b[39m \u001b[39m \u001b[39m \u001b[39m \u001b[39m \u001b[39m \u001b[39m \u001b[39m \u001b[39m \u001b[39m \u001b[39m \u001b[39m \u001b[39m \u001b[39m \n",
       "  \u001b[39m▆\u001b[39m▁\u001b[39m▆\u001b[39m▁\u001b[39m▁\u001b[39m▁\u001b[39m▁\u001b[39m▁\u001b[39m▁\u001b[39m▆\u001b[39m█\u001b[39m▁\u001b[39m▁\u001b[39m▁\u001b[39m▆\u001b[39m▁\u001b[39m█\u001b[39m█\u001b[39m▁\u001b[39m▁\u001b[39m▁\u001b[39m▆\u001b[39m▁\u001b[39m▁\u001b[39m▆\u001b[34m▁\u001b[39m\u001b[39m▆\u001b[32m▆\u001b[39m\u001b[39m▁\u001b[39m▆\u001b[39m▆\u001b[39m█\u001b[39m▆\u001b[39m▁\u001b[39m▁\u001b[39m▁\u001b[39m▆\u001b[39m▁\u001b[39m▁\u001b[39m▁\u001b[39m▆\u001b[39m▆\u001b[39m▁\u001b[39m▆\u001b[39m▁\u001b[39m▁\u001b[39m▁\u001b[39m▆\u001b[39m▁\u001b[39m▆\u001b[39m▁\u001b[39m▁\u001b[39m▁\u001b[39m▁\u001b[39m▆\u001b[39m▁\u001b[39m▁\u001b[39m▁\u001b[39m▁\u001b[39m▁\u001b[39m▆\u001b[39m \u001b[39m▁\n",
       "  165 ms\u001b[90m           Histogram: frequency by time\u001b[39m          168 ms \u001b[0m\u001b[1m<\u001b[22m\n",
       "\n",
       " Memory estimate\u001b[90m: \u001b[39m\u001b[33m136.22 MiB\u001b[39m, allocs estimate\u001b[90m: \u001b[39m\u001b[33m82175\u001b[39m."
      ]
     },
     "execution_count": 208,
     "metadata": {},
     "output_type": "execute_result"
    }
   ],
   "source": [
    "@benchmark scan(lpst_ind_y, geno_ind, kinship_ind_from_strains;\n",
    "                prior_variance = 1.0, prior_sample_size = 0.1)"
   ]
  },
  {
   "cell_type": "code",
   "execution_count": 209,
   "id": "9499d1c5-b7e0-4b80-8bb4-74a7449de503",
   "metadata": {},
   "outputs": [
    {
     "data": {
      "text/plain": [
       "BenchmarkTools.Trial: 1 sample with 1 evaluation.\n",
       " Single result which took \u001b[34m13.868 s\u001b[39m (12.22% GC) to evaluate,\n",
       " with a memory estimate of \u001b[33m14.36 GiB\u001b[39m, over \u001b[33m11699751\u001b[39m allocations."
      ]
     },
     "execution_count": 209,
     "metadata": {},
     "output_type": "execute_result"
    }
   ],
   "source": [
    "@benchmark scan(lpst_ind_y, geno_ind, kinship_ind_from_strains;\n",
    "                assumption = \"alt\")"
   ]
  },
  {
   "cell_type": "code",
   "execution_count": 210,
   "id": "4358dedc-6d98-447c-a2bc-baf166f73f36",
   "metadata": {},
   "outputs": [
    {
     "data": {
      "text/plain": [
       "BenchmarkTools.Trial: 1 sample with 1 evaluation.\n",
       " Single result which took \u001b[34m13.863 s\u001b[39m (12.31% GC) to evaluate,\n",
       " with a memory estimate of \u001b[33m14.36 GiB\u001b[39m, over \u001b[33m11697819\u001b[39m allocations."
      ]
     },
     "execution_count": 210,
     "metadata": {},
     "output_type": "execute_result"
    }
   ],
   "source": [
    "@benchmark scan(lpst_ind_y, geno_ind, kinship_ind_from_strains;\n",
    "                assumption = \"alt\", \n",
    "                prior_variance = 1.0, prior_sample_size = 0.1)"
   ]
  },
  {
   "cell_type": "code",
   "execution_count": null,
   "id": "c1797da7-2e71-4170-b169-15ff506828b6",
   "metadata": {},
   "outputs": [],
   "source": [
    "@benchmark bulkscan_null(lpst_ind_Y, geno_ind, kinship_ind_from_strains,\n",
    "                         prior_variance = 1.0, prior_sample_size = 0.1)"
   ]
  },
  {
   "cell_type": "code",
   "execution_count": 211,
   "id": "7e3c6287-fb49-42b6-8c90-39bfca88e2f4",
   "metadata": {},
   "outputs": [],
   "source": [
    "grid_perf = collect(0.0:0.05:0.95);"
   ]
  },
  {
   "cell_type": "code",
   "execution_count": 215,
   "id": "85303778-4d44-45c7-b422-88295248f909",
   "metadata": {},
   "outputs": [
    {
     "data": {
      "text/plain": [
       "BenchmarkTools.Trial: 1 sample with 1 evaluation.\n",
       " Single result which took \u001b[34m17.366 s\u001b[39m (48.95% GC) to evaluate,\n",
       " with a memory estimate of \u001b[33m11.61 GiB\u001b[39m, over \u001b[33m10096104\u001b[39m allocations."
      ]
     },
     "execution_count": 215,
     "metadata": {},
     "output_type": "execute_result"
    }
   ],
   "source": [
    "@benchmark bulkscan_null_grid(lpst_ind_Y, geno_ind, kinship_ind_from_strains, grid_perf;\n",
    "                              prior_variance = 1.0, prior_sample_size = 0.1)"
   ]
  },
  {
   "cell_type": "code",
   "execution_count": 217,
   "id": "bdc492b2-3d84-42df-9b6d-09054595a067",
   "metadata": {},
   "outputs": [
    {
     "data": {
      "text/plain": [
       "BenchmarkTools.Trial: 1 sample with 1 evaluation.\n",
       " Single result which took \u001b[34m101.817 s\u001b[39m (6.92% GC) to evaluate,\n",
       " with a memory estimate of \u001b[33m41.84 GiB\u001b[39m, over \u001b[33m8691488\u001b[39m allocations."
      ]
     },
     "execution_count": 217,
     "metadata": {},
     "output_type": "execute_result"
    }
   ],
   "source": [
    "@benchmark bulkscan_alt_grid(lpst_ind_Y, geno_ind, kinship_ind_from_strains, grid_perf)"
   ]
  },
  {
   "cell_type": "markdown",
   "id": "d689cc87-01de-4f41-9193-55cd1201769c",
   "metadata": {},
   "source": [
    "#### Strain mean data:\n",
    "- n = 50\n",
    "- m = 32445\n",
    "- p = 7321"
   ]
  },
  {
   "cell_type": "code",
   "execution_count": 221,
   "id": "a7f55341-5d16-48f3-b3f7-7c2c71077963",
   "metadata": {},
   "outputs": [
    {
     "data": {
      "text/plain": [
       "(50, 32445)"
      ]
     },
     "execution_count": 221,
     "metadata": {},
     "output_type": "execute_result"
    }
   ],
   "source": [
    "size(lpst_strains_Y)"
   ]
  },
  {
   "cell_type": "code",
   "execution_count": 222,
   "id": "63889131-bb18-48fc-ad89-51b10d4e7ade",
   "metadata": {},
   "outputs": [
    {
     "data": {
      "text/plain": [
       "(50, 7321)"
      ]
     },
     "execution_count": 222,
     "metadata": {},
     "output_type": "execute_result"
    }
   ],
   "source": [
    "size(geno_strains)"
   ]
  },
  {
   "cell_type": "code",
   "execution_count": 224,
   "id": "2f8084a6-9ce3-429d-bf82-33d5ca370310",
   "metadata": {},
   "outputs": [
    {
     "data": {
      "text/plain": [
       "BenchmarkTools.Trial: 134 samples with 1 evaluation.\n",
       " Range \u001b[90m(\u001b[39m\u001b[36m\u001b[1mmin\u001b[22m\u001b[39m … \u001b[35mmax\u001b[39m\u001b[90m):  \u001b[39m\u001b[36m\u001b[1m32.937 ms\u001b[22m\u001b[39m … \u001b[35m44.974 ms\u001b[39m  \u001b[90m┊\u001b[39m GC \u001b[90m(\u001b[39mmin … max\u001b[90m): \u001b[39m 0.00% … 0.00%\n",
       " Time  \u001b[90m(\u001b[39m\u001b[34m\u001b[1mmedian\u001b[22m\u001b[39m\u001b[90m):     \u001b[39m\u001b[34m\u001b[1m38.483 ms              \u001b[22m\u001b[39m\u001b[90m┊\u001b[39m GC \u001b[90m(\u001b[39mmedian\u001b[90m):    \u001b[39m13.39%\n",
       " Time  \u001b[90m(\u001b[39m\u001b[32m\u001b[1mmean\u001b[22m\u001b[39m ± \u001b[32mσ\u001b[39m\u001b[90m):   \u001b[39m\u001b[32m\u001b[1m37.325 ms\u001b[22m\u001b[39m ± \u001b[32m 2.487 ms\u001b[39m  \u001b[90m┊\u001b[39m GC \u001b[90m(\u001b[39mmean ± σ\u001b[90m):  \u001b[39m10.17% ± 5.98%\n",
       "\n",
       "  \u001b[39m \u001b[39m \u001b[39m \u001b[39m \u001b[39m \u001b[39m \u001b[39m \u001b[39m \u001b[39m \u001b[39m \u001b[39m \u001b[39m \u001b[39m \u001b[39m \u001b[39m \u001b[39m \u001b[39m \u001b[39m \u001b[39m \u001b[39m \u001b[39m \u001b[39m \u001b[39m \u001b[39m \u001b[39m \u001b[39m \u001b[39m \u001b[39m \u001b[32m \u001b[39m\u001b[39m \u001b[39m \u001b[39m \u001b[39m \u001b[39m \u001b[39m▄\u001b[34m█\u001b[39m\u001b[39m \u001b[39m \u001b[39m \u001b[39m \u001b[39m \u001b[39m \u001b[39m \u001b[39m \u001b[39m \u001b[39m \u001b[39m \u001b[39m \u001b[39m \u001b[39m \u001b[39m \u001b[39m \u001b[39m \u001b[39m \u001b[39m \u001b[39m \u001b[39m \u001b[39m \u001b[39m \u001b[39m \u001b[39m \n",
       "  \u001b[39m▅\u001b[39m▇\u001b[39m▆\u001b[39m▄\u001b[39m▃\u001b[39m▁\u001b[39m▁\u001b[39m▁\u001b[39m▁\u001b[39m▁\u001b[39m▂\u001b[39m▁\u001b[39m▂\u001b[39m▁\u001b[39m▁\u001b[39m▁\u001b[39m▁\u001b[39m▁\u001b[39m▁\u001b[39m▁\u001b[39m▁\u001b[39m▁\u001b[39m▁\u001b[39m▁\u001b[39m▁\u001b[39m▁\u001b[39m▁\u001b[39m▁\u001b[32m▁\u001b[39m\u001b[39m▁\u001b[39m▁\u001b[39m▁\u001b[39m▃\u001b[39m▅\u001b[39m█\u001b[34m█\u001b[39m\u001b[39m█\u001b[39m▇\u001b[39m▄\u001b[39m▃\u001b[39m▂\u001b[39m▁\u001b[39m▁\u001b[39m▁\u001b[39m▁\u001b[39m▁\u001b[39m▁\u001b[39m▁\u001b[39m▁\u001b[39m▁\u001b[39m▁\u001b[39m▁\u001b[39m▁\u001b[39m▂\u001b[39m▁\u001b[39m▁\u001b[39m▁\u001b[39m▁\u001b[39m▂\u001b[39m \u001b[39m▂\n",
       "  32.9 ms\u001b[90m         Histogram: frequency by time\u001b[39m        42.3 ms \u001b[0m\u001b[1m<\u001b[22m\n",
       "\n",
       " Memory estimate\u001b[90m: \u001b[39m\u001b[33m32.42 MiB\u001b[39m, allocs estimate\u001b[90m: \u001b[39m\u001b[33m81398\u001b[39m."
      ]
     },
     "execution_count": 224,
     "metadata": {},
     "output_type": "execute_result"
    }
   ],
   "source": [
    "@benchmark scan(lpst_strains_y, geno_strains, kinship_strains)"
   ]
  },
  {
   "cell_type": "code",
   "execution_count": 225,
   "id": "1cf2be31-f3b9-4bda-a321-2c31143c1d01",
   "metadata": {},
   "outputs": [
    {
     "data": {
      "text/plain": [
       "BenchmarkTools.Trial: 135 samples with 1 evaluation.\n",
       " Range \u001b[90m(\u001b[39m\u001b[36m\u001b[1mmin\u001b[22m\u001b[39m … \u001b[35mmax\u001b[39m\u001b[90m):  \u001b[39m\u001b[36m\u001b[1m32.836 ms\u001b[22m\u001b[39m … \u001b[35m44.496 ms\u001b[39m  \u001b[90m┊\u001b[39m GC \u001b[90m(\u001b[39mmin … max\u001b[90m): \u001b[39m 0.00% … 0.00%\n",
       " Time  \u001b[90m(\u001b[39m\u001b[34m\u001b[1mmedian\u001b[22m\u001b[39m\u001b[90m):     \u001b[39m\u001b[34m\u001b[1m38.337 ms              \u001b[22m\u001b[39m\u001b[90m┊\u001b[39m GC \u001b[90m(\u001b[39mmedian\u001b[90m):    \u001b[39m13.39%\n",
       " Time  \u001b[90m(\u001b[39m\u001b[32m\u001b[1mmean\u001b[22m\u001b[39m ± \u001b[32mσ\u001b[39m\u001b[90m):   \u001b[39m\u001b[32m\u001b[1m37.156 ms\u001b[22m\u001b[39m ± \u001b[32m 2.438 ms\u001b[39m  \u001b[90m┊\u001b[39m GC \u001b[90m(\u001b[39mmean ± σ\u001b[90m):  \u001b[39m10.20% ± 5.97%\n",
       "\n",
       "  \u001b[39m \u001b[39m \u001b[39m \u001b[39m \u001b[39m \u001b[39m \u001b[39m \u001b[39m \u001b[39m \u001b[39m \u001b[39m \u001b[39m \u001b[39m \u001b[39m \u001b[39m \u001b[39m \u001b[39m \u001b[39m \u001b[39m \u001b[39m \u001b[39m \u001b[39m \u001b[39m \u001b[39m \u001b[39m \u001b[39m \u001b[39m \u001b[39m \u001b[39m \u001b[39m \u001b[39m \u001b[32m \u001b[39m\u001b[39m \u001b[39m \u001b[39m \u001b[39m \u001b[39m \u001b[39m \u001b[39m \u001b[39m▄\u001b[34m█\u001b[39m\u001b[39m▂\u001b[39m \u001b[39m \u001b[39m \u001b[39m \u001b[39m \u001b[39m \u001b[39m \u001b[39m \u001b[39m \u001b[39m \u001b[39m \u001b[39m \u001b[39m \u001b[39m \u001b[39m \u001b[39m \u001b[39m \u001b[39m \u001b[39m \n",
       "  \u001b[39m▅\u001b[39m▅\u001b[39m▅\u001b[39m▆\u001b[39m▅\u001b[39m▁\u001b[39m▁\u001b[39m▁\u001b[39m▁\u001b[39m▁\u001b[39m▁\u001b[39m▁\u001b[39m▁\u001b[39m▁\u001b[39m▁\u001b[39m▁\u001b[39m▁\u001b[39m▁\u001b[39m▁\u001b[39m▁\u001b[39m▁\u001b[39m▁\u001b[39m▁\u001b[39m▁\u001b[39m▁\u001b[39m▁\u001b[39m▁\u001b[39m▁\u001b[39m▁\u001b[39m▁\u001b[39m▁\u001b[32m▁\u001b[39m\u001b[39m▁\u001b[39m▁\u001b[39m▁\u001b[39m▁\u001b[39m▁\u001b[39m▅\u001b[39m█\u001b[39m█\u001b[34m█\u001b[39m\u001b[39m█\u001b[39m▄\u001b[39m▄\u001b[39m▂\u001b[39m▁\u001b[39m▂\u001b[39m▁\u001b[39m▁\u001b[39m▁\u001b[39m▁\u001b[39m▁\u001b[39m▁\u001b[39m▁\u001b[39m▁\u001b[39m▁\u001b[39m▁\u001b[39m▁\u001b[39m▃\u001b[39m \u001b[39m▂\n",
       "  32.8 ms\u001b[90m         Histogram: frequency by time\u001b[39m          41 ms \u001b[0m\u001b[1m<\u001b[22m\n",
       "\n",
       " Memory estimate\u001b[90m: \u001b[39m\u001b[33m32.32 MiB\u001b[39m, allocs estimate\u001b[90m: \u001b[39m\u001b[33m81020\u001b[39m."
      ]
     },
     "execution_count": 225,
     "metadata": {},
     "output_type": "execute_result"
    }
   ],
   "source": [
    "@benchmark scan(lpst_strains_y, geno_strains, kinship_strains;\n",
    "                prior_variance = 1.0, prior_sample_size = 0.1)"
   ]
  },
  {
   "cell_type": "code",
   "execution_count": 226,
   "id": "a9208929-b7ff-4b46-8036-38ef5bc98b9b",
   "metadata": {},
   "outputs": [
    {
     "data": {
      "text/plain": [
       "BenchmarkTools.Trial: 3 samples with 1 evaluation.\n",
       " Range \u001b[90m(\u001b[39m\u001b[36m\u001b[1mmin\u001b[22m\u001b[39m … \u001b[35mmax\u001b[39m\u001b[90m):  \u001b[39m\u001b[36m\u001b[1m1.905 s\u001b[22m\u001b[39m … \u001b[35m  1.942 s\u001b[39m  \u001b[90m┊\u001b[39m GC \u001b[90m(\u001b[39mmin … max\u001b[90m): \u001b[39m11.25% … 11.91%\n",
       " Time  \u001b[90m(\u001b[39m\u001b[34m\u001b[1mmedian\u001b[22m\u001b[39m\u001b[90m):     \u001b[39m\u001b[34m\u001b[1m1.909 s              \u001b[22m\u001b[39m\u001b[90m┊\u001b[39m GC \u001b[90m(\u001b[39mmedian\u001b[90m):    \u001b[39m11.38%\n",
       " Time  \u001b[90m(\u001b[39m\u001b[32m\u001b[1mmean\u001b[22m\u001b[39m ± \u001b[32mσ\u001b[39m\u001b[90m):   \u001b[39m\u001b[32m\u001b[1m1.919 s\u001b[22m\u001b[39m ± \u001b[32m20.656 ms\u001b[39m  \u001b[90m┊\u001b[39m GC \u001b[90m(\u001b[39mmean ± σ\u001b[90m):  \u001b[39m11.51% ±  0.35%\n",
       "\n",
       "  \u001b[34m█\u001b[39m\u001b[39m \u001b[39m \u001b[39m \u001b[39m \u001b[39m█\u001b[39m \u001b[39m \u001b[39m \u001b[39m \u001b[39m \u001b[39m \u001b[39m \u001b[39m \u001b[39m \u001b[39m \u001b[39m \u001b[39m \u001b[39m \u001b[39m \u001b[39m \u001b[32m \u001b[39m\u001b[39m \u001b[39m \u001b[39m \u001b[39m \u001b[39m \u001b[39m \u001b[39m \u001b[39m \u001b[39m \u001b[39m \u001b[39m \u001b[39m \u001b[39m \u001b[39m \u001b[39m \u001b[39m \u001b[39m \u001b[39m \u001b[39m \u001b[39m \u001b[39m \u001b[39m \u001b[39m \u001b[39m \u001b[39m \u001b[39m \u001b[39m \u001b[39m \u001b[39m \u001b[39m \u001b[39m \u001b[39m \u001b[39m \u001b[39m \u001b[39m█\u001b[39m \u001b[39m \n",
       "  \u001b[34m█\u001b[39m\u001b[39m▁\u001b[39m▁\u001b[39m▁\u001b[39m▁\u001b[39m█\u001b[39m▁\u001b[39m▁\u001b[39m▁\u001b[39m▁\u001b[39m▁\u001b[39m▁\u001b[39m▁\u001b[39m▁\u001b[39m▁\u001b[39m▁\u001b[39m▁\u001b[39m▁\u001b[39m▁\u001b[39m▁\u001b[39m▁\u001b[32m▁\u001b[39m\u001b[39m▁\u001b[39m▁\u001b[39m▁\u001b[39m▁\u001b[39m▁\u001b[39m▁\u001b[39m▁\u001b[39m▁\u001b[39m▁\u001b[39m▁\u001b[39m▁\u001b[39m▁\u001b[39m▁\u001b[39m▁\u001b[39m▁\u001b[39m▁\u001b[39m▁\u001b[39m▁\u001b[39m▁\u001b[39m▁\u001b[39m▁\u001b[39m▁\u001b[39m▁\u001b[39m▁\u001b[39m▁\u001b[39m▁\u001b[39m▁\u001b[39m▁\u001b[39m▁\u001b[39m▁\u001b[39m▁\u001b[39m▁\u001b[39m▁\u001b[39m▁\u001b[39m█\u001b[39m \u001b[39m▁\n",
       "  1.9 s\u001b[90m          Histogram: frequency by time\u001b[39m        1.94 s \u001b[0m\u001b[1m<\u001b[22m\n",
       "\n",
       " Memory estimate\u001b[90m: \u001b[39m\u001b[33m2.05 GiB\u001b[39m, allocs estimate\u001b[90m: \u001b[39m\u001b[33m6725355\u001b[39m."
      ]
     },
     "execution_count": 226,
     "metadata": {},
     "output_type": "execute_result"
    }
   ],
   "source": [
    "@benchmark scan(lpst_strains_y, geno_strains, kinship_strains;\n",
    "                assumption = \"alt\")"
   ]
  },
  {
   "cell_type": "code",
   "execution_count": 227,
   "id": "59ec3b0a-0981-43fb-afd8-486533718672",
   "metadata": {},
   "outputs": [
    {
     "data": {
      "text/plain": [
       "BenchmarkTools.Trial: 5 samples with 1 evaluation.\n",
       " Range \u001b[90m(\u001b[39m\u001b[36m\u001b[1mmin\u001b[22m\u001b[39m … \u001b[35mmax\u001b[39m\u001b[90m):  \u001b[39m\u001b[36m\u001b[1m1.157 s\u001b[22m\u001b[39m … \u001b[35m  1.185 s\u001b[39m  \u001b[90m┊\u001b[39m GC \u001b[90m(\u001b[39mmin … max\u001b[90m): \u001b[39m11.38% … 11.62%\n",
       " Time  \u001b[90m(\u001b[39m\u001b[34m\u001b[1mmedian\u001b[22m\u001b[39m\u001b[90m):     \u001b[39m\u001b[34m\u001b[1m1.162 s              \u001b[22m\u001b[39m\u001b[90m┊\u001b[39m GC \u001b[90m(\u001b[39mmedian\u001b[90m):    \u001b[39m11.42%\n",
       " Time  \u001b[90m(\u001b[39m\u001b[32m\u001b[1mmean\u001b[22m\u001b[39m ± \u001b[32mσ\u001b[39m\u001b[90m):   \u001b[39m\u001b[32m\u001b[1m1.165 s\u001b[22m\u001b[39m ± \u001b[32m11.653 ms\u001b[39m  \u001b[90m┊\u001b[39m GC \u001b[90m(\u001b[39mmean ± σ\u001b[90m):  \u001b[39m11.45% ±  0.11%\n",
       "\n",
       "  \u001b[39m█\u001b[39m \u001b[39m \u001b[34m█\u001b[39m\u001b[39m \u001b[39m \u001b[39m \u001b[39m \u001b[39m \u001b[39m \u001b[39m█\u001b[39m█\u001b[39m \u001b[39m \u001b[39m \u001b[39m \u001b[32m \u001b[39m\u001b[39m \u001b[39m \u001b[39m \u001b[39m \u001b[39m \u001b[39m \u001b[39m \u001b[39m \u001b[39m \u001b[39m \u001b[39m \u001b[39m \u001b[39m \u001b[39m \u001b[39m \u001b[39m \u001b[39m \u001b[39m \u001b[39m \u001b[39m \u001b[39m \u001b[39m \u001b[39m \u001b[39m \u001b[39m \u001b[39m \u001b[39m \u001b[39m \u001b[39m \u001b[39m \u001b[39m \u001b[39m \u001b[39m \u001b[39m \u001b[39m \u001b[39m \u001b[39m \u001b[39m \u001b[39m \u001b[39m█\u001b[39m \u001b[39m \n",
       "  \u001b[39m█\u001b[39m▁\u001b[39m▁\u001b[34m█\u001b[39m\u001b[39m▁\u001b[39m▁\u001b[39m▁\u001b[39m▁\u001b[39m▁\u001b[39m▁\u001b[39m█\u001b[39m█\u001b[39m▁\u001b[39m▁\u001b[39m▁\u001b[39m▁\u001b[32m▁\u001b[39m\u001b[39m▁\u001b[39m▁\u001b[39m▁\u001b[39m▁\u001b[39m▁\u001b[39m▁\u001b[39m▁\u001b[39m▁\u001b[39m▁\u001b[39m▁\u001b[39m▁\u001b[39m▁\u001b[39m▁\u001b[39m▁\u001b[39m▁\u001b[39m▁\u001b[39m▁\u001b[39m▁\u001b[39m▁\u001b[39m▁\u001b[39m▁\u001b[39m▁\u001b[39m▁\u001b[39m▁\u001b[39m▁\u001b[39m▁\u001b[39m▁\u001b[39m▁\u001b[39m▁\u001b[39m▁\u001b[39m▁\u001b[39m▁\u001b[39m▁\u001b[39m▁\u001b[39m▁\u001b[39m▁\u001b[39m▁\u001b[39m▁\u001b[39m▁\u001b[39m█\u001b[39m \u001b[39m▁\n",
       "  1.16 s\u001b[90m         Histogram: frequency by time\u001b[39m        1.19 s \u001b[0m\u001b[1m<\u001b[22m\n",
       "\n",
       " Memory estimate\u001b[90m: \u001b[39m\u001b[33m1.23 GiB\u001b[39m, allocs estimate\u001b[90m: \u001b[39m\u001b[33m4085949\u001b[39m."
      ]
     },
     "execution_count": 227,
     "metadata": {},
     "output_type": "execute_result"
    }
   ],
   "source": [
    "@benchmark scan(lpst_strains_y, geno_strains, kinship_strains;\n",
    "                assumption = \"alt\", \n",
    "                prior_variance = 1.0, prior_sample_size = 0.1)"
   ]
  },
  {
   "cell_type": "code",
   "execution_count": 232,
   "id": "28a7b019-24c9-4b1a-a032-718badc2c1d5",
   "metadata": {},
   "outputs": [
    {
     "data": {
      "text/plain": [
       "BenchmarkTools.Trial: 1 sample with 1 evaluation.\n",
       " Single result which took \u001b[34m50.878 s\u001b[39m (36.30% GC) to evaluate,\n",
       " with a memory estimate of \u001b[33m434.45 GiB\u001b[39m, over \u001b[33m2611858437\u001b[39m allocations."
      ]
     },
     "execution_count": 232,
     "metadata": {},
     "output_type": "execute_result"
    }
   ],
   "source": [
    "@benchmark bulkscan_null(lpst_strains_Y, geno_strains, kinship_strains,\n",
    "                         prior_variance = 1.0, prior_sample_size = 0.1)"
   ]
  },
  {
   "cell_type": "code",
   "execution_count": 233,
   "id": "34aa6121-f875-41d0-8e69-282a2681e1aa",
   "metadata": {},
   "outputs": [],
   "source": [
    "grid_perf = collect(0.0:0.05:0.95);"
   ]
  },
  {
   "cell_type": "code",
   "execution_count": 234,
   "id": "0cb27837-a1a5-45fb-8ba1-283e8f887c24",
   "metadata": {},
   "outputs": [
    {
     "data": {
      "text/plain": [
       "BenchmarkTools.Trial: 2 samples with 1 evaluation.\n",
       " Range \u001b[90m(\u001b[39m\u001b[36m\u001b[1mmin\u001b[22m\u001b[39m … \u001b[35mmax\u001b[39m\u001b[90m):  \u001b[39m\u001b[36m\u001b[1m4.958 s\u001b[22m\u001b[39m … \u001b[35m   5.551 s\u001b[39m  \u001b[90m┊\u001b[39m GC \u001b[90m(\u001b[39mmin … max\u001b[90m): \u001b[39m 5.50% … 14.92%\n",
       " Time  \u001b[90m(\u001b[39m\u001b[34m\u001b[1mmedian\u001b[22m\u001b[39m\u001b[90m):     \u001b[39m\u001b[34m\u001b[1m5.254 s               \u001b[22m\u001b[39m\u001b[90m┊\u001b[39m GC \u001b[90m(\u001b[39mmedian\u001b[90m):    \u001b[39m10.47%\n",
       " Time  \u001b[90m(\u001b[39m\u001b[32m\u001b[1mmean\u001b[22m\u001b[39m ± \u001b[32mσ\u001b[39m\u001b[90m):   \u001b[39m\u001b[32m\u001b[1m5.254 s\u001b[22m\u001b[39m ± \u001b[32m419.891 ms\u001b[39m  \u001b[90m┊\u001b[39m GC \u001b[90m(\u001b[39mmean ± σ\u001b[90m):  \u001b[39m10.47% ±  6.66%\n",
       "\n",
       "  \u001b[34m█\u001b[39m\u001b[39m \u001b[39m \u001b[39m \u001b[39m \u001b[39m \u001b[39m \u001b[39m \u001b[39m \u001b[39m \u001b[39m \u001b[39m \u001b[39m \u001b[39m \u001b[39m \u001b[39m \u001b[39m \u001b[39m \u001b[39m \u001b[39m \u001b[39m \u001b[39m \u001b[39m \u001b[39m \u001b[39m \u001b[39m \u001b[39m \u001b[39m \u001b[39m \u001b[32m \u001b[39m\u001b[39m \u001b[39m \u001b[39m \u001b[39m \u001b[39m \u001b[39m \u001b[39m \u001b[39m \u001b[39m \u001b[39m \u001b[39m \u001b[39m \u001b[39m \u001b[39m \u001b[39m \u001b[39m \u001b[39m \u001b[39m \u001b[39m \u001b[39m \u001b[39m \u001b[39m \u001b[39m \u001b[39m \u001b[39m \u001b[39m \u001b[39m \u001b[39m█\u001b[39m \u001b[39m \n",
       "  \u001b[34m█\u001b[39m\u001b[39m▁\u001b[39m▁\u001b[39m▁\u001b[39m▁\u001b[39m▁\u001b[39m▁\u001b[39m▁\u001b[39m▁\u001b[39m▁\u001b[39m▁\u001b[39m▁\u001b[39m▁\u001b[39m▁\u001b[39m▁\u001b[39m▁\u001b[39m▁\u001b[39m▁\u001b[39m▁\u001b[39m▁\u001b[39m▁\u001b[39m▁\u001b[39m▁\u001b[39m▁\u001b[39m▁\u001b[39m▁\u001b[39m▁\u001b[39m▁\u001b[39m▁\u001b[32m▁\u001b[39m\u001b[39m▁\u001b[39m▁\u001b[39m▁\u001b[39m▁\u001b[39m▁\u001b[39m▁\u001b[39m▁\u001b[39m▁\u001b[39m▁\u001b[39m▁\u001b[39m▁\u001b[39m▁\u001b[39m▁\u001b[39m▁\u001b[39m▁\u001b[39m▁\u001b[39m▁\u001b[39m▁\u001b[39m▁\u001b[39m▁\u001b[39m▁\u001b[39m▁\u001b[39m▁\u001b[39m▁\u001b[39m▁\u001b[39m▁\u001b[39m▁\u001b[39m█\u001b[39m \u001b[39m▁\n",
       "  4.96 s\u001b[90m         Histogram: frequency by time\u001b[39m         5.55 s \u001b[0m\u001b[1m<\u001b[22m\n",
       "\n",
       " Memory estimate\u001b[90m: \u001b[39m\u001b[33m5.29 GiB\u001b[39m, allocs estimate\u001b[90m: \u001b[39m\u001b[33m9473702\u001b[39m."
      ]
     },
     "execution_count": 234,
     "metadata": {},
     "output_type": "execute_result"
    }
   ],
   "source": [
    "@benchmark bulkscan_null_grid(lpst_strains_Y, geno_strains, kinship_strains, grid_perf;\n",
    "                              prior_variance = 1.0, prior_sample_size = 0.1)"
   ]
  },
  {
   "cell_type": "code",
   "execution_count": 235,
   "id": "dd5795d1-b5d0-4f83-8b64-7c0ba98409ba",
   "metadata": {},
   "outputs": [
    {
     "data": {
      "text/plain": [
       "BenchmarkTools.Trial: 1 sample with 1 evaluation.\n",
       " Single result which took \u001b[34m35.014 s\u001b[39m (1.94% GC) to evaluate,\n",
       " with a memory estimate of \u001b[33m36.86 GiB\u001b[39m, over \u001b[33m8691531\u001b[39m allocations."
      ]
     },
     "execution_count": 235,
     "metadata": {},
     "output_type": "execute_result"
    }
   ],
   "source": [
    "@benchmark bulkscan_alt_grid(lpst_strains_Y, geno_strains, kinship_strains, grid_perf)"
   ]
  },
  {
   "cell_type": "markdown",
   "id": "3fd4d032-c27a-40c7-8740-241e6052814f",
   "metadata": {
    "tags": []
   },
   "source": [
    "### Weighted Error Variances:"
   ]
  },
  {
   "cell_type": "markdown",
   "id": "cb9f1e27-3462-46f3-8139-35458352c653",
   "metadata": {},
   "source": [
    "Assuming that\n",
    "\n",
    "$$y = X_0 B_0+g\\beta+\\epsilon$$\n",
    "\n",
    "where \n",
    "\n",
    "$$\\epsilon \\sim N(0,  \\sigma^2_g K + \\sigma^2_e V) $$ and \n",
    "\n",
    "the matrix $V$ is a diagonal but not necessarily an identity matrix."
   ]
  },
  {
   "cell_type": "markdown",
   "id": "5c6e66ba-9c29-4691-b69d-e9fac6f1871d",
   "metadata": {},
   "source": [
    "Notice that since $V^{-1} = V^{-1/2}V^{-1/2}$, then the strategy is as such:"
   ]
  },
  {
   "cell_type": "markdown",
   "id": "a4b44311-d63a-41e5-8b35-f8919856edd6",
   "metadata": {},
   "source": [
    "Let $$y^* = V^{-1/2}y = V^{-1/2}X0+V^{-1/2}g\\beta+V^{-1/2}\\epsilon$$\n",
    "\n",
    "then \n",
    "$$V^{-1/2}\\epsilon \\sim N(0, \\sigma^2_g V^{-1/2}KV^{-1/2}+\\sigma^2_e V^{-1/2}VV^{-1/2} = \\sigma^2_g K^*+\\sigma^2_e I)$$"
   ]
  },
  {
   "cell_type": "markdown",
   "id": "4cb7caa4-7cb7-4d75-b371-f2919122e458",
   "metadata": {},
   "source": [
    "## Examine hsqs, maxLods:"
   ]
  },
  {
   "cell_type": "code",
   "execution_count": null,
   "id": "6c875ef5-3efe-48e4-855a-e5196af469d1",
   "metadata": {},
   "outputs": [],
   "source": [
    "L_ind_null = bulkscan_results_ind_null.L;"
   ]
  },
  {
   "cell_type": "code",
   "execution_count": null,
   "id": "d2db9e6b-baf4-465e-add8-3c3938e0c2dc",
   "metadata": {},
   "outputs": [],
   "source": [
    "L_ind_null_grid = bulkscan_results_ind_null_grid.L;"
   ]
  },
  {
   "cell_type": "code",
   "execution_count": null,
   "id": "8af2bb19-f013-4038-a40e-e7568e1b28a5",
   "metadata": {},
   "outputs": [],
   "source": [
    "function getMaxLODs(L::Array{Float64, 2})\n",
    "    \n",
    "    m = size(L, 2);\n",
    "    max_marker = Array{Int64, 1}(undef, m);\n",
    "    max_lod = Array{Float64, 1}(undef, m);\n",
    "    \n",
    "    for i in 1:m\n",
    "        result_i = findmax(L[:, i]); \n",
    "        max_marker[i] = result_i[2];\n",
    "        max_lod[i] = result_i[1];\n",
    "    end\n",
    "    \n",
    "    return (max_markers = max_marker, max_lod = max_lod);\n",
    "end"
   ]
  },
  {
   "cell_type": "code",
   "execution_count": null,
   "id": "e9e73599-aa37-44ef-a623-814ea7144d25",
   "metadata": {},
   "outputs": [],
   "source": [
    "@time begin\n",
    "    max_results_ind = getMaxLODs(L_ind_null);\n",
    "    max_results_ind_grid = getMaxLODs(L_ind_null_grid);\n",
    "end;"
   ]
  },
  {
   "cell_type": "code",
   "execution_count": null,
   "id": "ac5e8245-703c-4e75-a007-dcb3e4683618",
   "metadata": {},
   "outputs": [],
   "source": [
    "pwd()"
   ]
  },
  {
   "cell_type": "code",
   "execution_count": null,
   "id": "100b2191-490d-4e5b-9340-8ada99594b7e",
   "metadata": {},
   "outputs": [],
   "source": [
    "# CSV.write(\"output/max_results_ind.csv\", DataFrame(round.(hcat(max_results_ind.max_markers, max_results_ind.max_lod), digits = 2), [\"max_marker\", \"max_lod\"]))"
   ]
  },
  {
   "cell_type": "code",
   "execution_count": null,
   "id": "88e030de-5c8f-46be-a46c-f01cc2520088",
   "metadata": {},
   "outputs": [],
   "source": [
    "# CSV.write(\"output/max_results_ind_grid.csv\", DataFrame(round.(hcat(max_results_ind_grid.max_markers, max_results_ind_grid.max_lod), digits = 2), [\"max_marker\", \"max_lod\"]))"
   ]
  },
  {
   "cell_type": "code",
   "execution_count": null,
   "id": "7cfbefdf-2b7d-4420-af29-c9f0f64cba6d",
   "metadata": {},
   "outputs": [],
   "source": [
    "@time bulkscan_results_ind_null_4 = bulkscan_null(lpst_ind_Y, geno_ind, kinship_ind_from_strains; nb = Threads.nthreads(),\n",
    "                                                  prior_variance = 1.0, prior_sample_size = 0.1, optim_interval = 4);"
   ]
  },
  {
   "cell_type": "code",
   "execution_count": null,
   "id": "7e3d6152-539f-40b8-bb82-dd36c2696a1a",
   "metadata": {},
   "outputs": [],
   "source": [
    "@time bulkscan_results_null_strains_4 = bulkscan_null(lpst_strains_Y, geno_strains, kinship_strains; nb = Threads.nthreads(),\n",
    "                                                      prior_variance = 1.0, prior_sample_size = 0.1, optim_interval = 4);"
   ]
  },
  {
   "cell_type": "code",
   "execution_count": null,
   "id": "5ce1c297-dedb-4502-a146-094593e2ade3",
   "metadata": {},
   "outputs": [],
   "source": [
    "L_ind = bulkscan_results_ind_null.L;\n",
    "L_strains = bulkscan_results_strains_null.L;\n",
    "h2s_ind = bulkscan_results_ind_null.h2_null_list;\n",
    "h2s_strains = bulkscan_results_strains_null.h2_null_list;"
   ]
  },
  {
   "cell_type": "code",
   "execution_count": null,
   "id": "166fc44a-cfd0-4b0c-9120-3aec112e070c",
   "metadata": {},
   "outputs": [],
   "source": [
    "L_ind_4 = bulkscan_results_ind_null_4.L;\n",
    "L_strains_4 = bulkscan_results_null_strains_4.L;\n",
    "h2s_ind_4 = bulkscan_results_ind_null_4.h2_null_list;\n",
    "h2s_strains_4 = bulkscan_results_null_strains_4.h2_null_list;"
   ]
  },
  {
   "cell_type": "code",
   "execution_count": null,
   "id": "779f01cc-c95a-4711-a063-56f1d948e7f1",
   "metadata": {},
   "outputs": [],
   "source": []
  },
  {
   "cell_type": "markdown",
   "id": "81d2a958-0b9c-4ebe-8b25-d50069886e3b",
   "metadata": {},
   "source": [
    "## Get Plot:"
   ]
  },
  {
   "cell_type": "code",
   "execution_count": null,
   "id": "a31b7b0c-4fea-48ea-8d32-113660a1d21b",
   "metadata": {},
   "outputs": [],
   "source": [
    "BXD_pmap = CSV.read(\"data/BXD_pmap.csv\", DataFrame);\n",
    "BXD_gmap = CSV.read(\"data/BXD_gmap.csv\", DataFrame);"
   ]
  },
  {
   "cell_type": "code",
   "execution_count": null,
   "id": "088c60aa-f589-4d1b-b597-5e0f750ed422",
   "metadata": {},
   "outputs": [],
   "source": [
    "max_results_df_ind = CSV.read(\"output/max_results_ind.csv\", DataFrame);"
   ]
  },
  {
   "cell_type": "code",
   "execution_count": null,
   "id": "aee243fa-8042-4d63-809e-d64f7063242d",
   "metadata": {},
   "outputs": [],
   "source": [
    "max_results_df_ind_grid = CSV.read(\"output/max_results_ind_grid.csv\", DataFrame);"
   ]
  },
  {
   "cell_type": "code",
   "execution_count": null,
   "id": "6364f079-7743-42f5-b691-52df2350b486",
   "metadata": {},
   "outputs": [],
   "source": [
    "using RecipesBase, Plots, Plots.PlotMeasures, ColorSchemes"
   ]
  },
  {
   "cell_type": "code",
   "execution_count": null,
   "id": "792d6ae6-28fc-47d8-8756-f36b4be7a1ae",
   "metadata": {},
   "outputs": [],
   "source": [
    "function plot_eQTL2(lodc::Array{Float64, 2}, gmap::DataFrame, phenocovar::DataFrame;\n",
    "                thr::Float64 = 5.0, kwargs...)\n",
    "    \n",
    "    x, y, z, mysteps, mychr = get_eQTL_accMb(\n",
    "                                lodc, \n",
    "                                phenocovar,\n",
    "                                gmap;\n",
    "                                thr = thr,\n",
    "                                kwargs...\n",
    "                              )\n",
    "\n",
    "    eQTLplot(x, y, z, mysteps, mychr, kwargs...)\n",
    "\n",
    "end"
   ]
  },
  {
   "cell_type": "code",
   "execution_count": null,
   "id": "6647e4f6-93c5-4f53-9b42-8113bff4e1c9",
   "metadata": {},
   "outputs": [],
   "source": [
    "BXD_pmap.Chr = convert.(String, BXD_pmap.Chr);"
   ]
  },
  {
   "cell_type": "code",
   "execution_count": null,
   "id": "53c1ee33-4e85-4c9e-9773-10384ef185cc",
   "metadata": {},
   "outputs": [],
   "source": [
    "BXD_gmap.Chr = convert.(String, BXD_gmap.Chr);"
   ]
  },
  {
   "cell_type": "code",
   "execution_count": null,
   "id": "bd05ceb6-e3c4-4de1-967a-17e8be5694bb",
   "metadata": {},
   "outputs": [],
   "source": [
    "plot_eQTL2(Matrix(max_results_df_ind), BXD_gmap, BXD_pmap)"
   ]
  },
  {
   "cell_type": "code",
   "execution_count": null,
   "id": "0f8a6bbc-a096-4749-a858-806479bdb415",
   "metadata": {},
   "outputs": [],
   "source": [
    "lp_id"
   ]
  },
  {
   "cell_type": "code",
   "execution_count": null,
   "id": "db7c3875-9be7-4270-95f8-3a4e40a952e1",
   "metadata": {},
   "outputs": [],
   "source": [
    "lp_ind_y"
   ]
  },
  {
   "cell_type": "code",
   "execution_count": null,
   "id": "c9c6a90b-f5e3-4e76-8d9b-c43ddc6cbe93",
   "metadata": {},
   "outputs": [],
   "source": [
    "lpst_ind_y"
   ]
  },
  {
   "cell_type": "code",
   "execution_count": null,
   "id": "9965367b-5bb2-419e-b9e8-88073d0e2d84",
   "metadata": {},
   "outputs": [],
   "source": [
    "scan_results_ind_alt.lod"
   ]
  },
  {
   "cell_type": "code",
   "execution_count": null,
   "id": "3e86e849-169d-483d-95d6-42abe5891b95",
   "metadata": {},
   "outputs": [],
   "source": []
  },
  {
   "cell_type": "markdown",
   "id": "1bd1387f-8c85-4453-9547-c00eadb126ac",
   "metadata": {},
   "source": [
    "### Heritabilities:"
   ]
  },
  {
   "cell_type": "code",
   "execution_count": null,
   "id": "1bc07185-f219-44e7-bfcc-007fdfc1b9de",
   "metadata": {},
   "outputs": [],
   "source": []
  },
  {
   "cell_type": "markdown",
   "id": "a0688b4d-b8cd-4354-a225-7501a95092eb",
   "metadata": {},
   "source": [
    "### Maximum lod scores:"
   ]
  },
  {
   "cell_type": "code",
   "execution_count": null,
   "id": "bce0ae26-6858-4f58-97d5-3546c020867e",
   "metadata": {},
   "outputs": [],
   "source": [
    "histogram(max_results_ind.max_lod, label = \"Maximum lod - Individual LP\")"
   ]
  },
  {
   "cell_type": "code",
   "execution_count": null,
   "id": "1dc030a2-94ec-4732-84c9-9da632c2db7f",
   "metadata": {},
   "outputs": [],
   "source": []
  },
  {
   "cell_type": "markdown",
   "id": "45af8dac-f9dd-49f8-aa66-04cbb2c7c6e3",
   "metadata": {
    "tags": []
   },
   "source": [
    "## Run GEMMA for single-trait scans:"
   ]
  },
  {
   "cell_type": "code",
   "execution_count": null,
   "id": "b1bac948-cc65-453b-8b09-9c772cd932b6",
   "metadata": {},
   "outputs": [],
   "source": [
    "pwd()"
   ]
  },
  {
   "cell_type": "code",
   "execution_count": null,
   "id": "7e7b6054-f267-437b-ac63-8a9b3e1ff006",
   "metadata": {},
   "outputs": [],
   "source": [
    "gemma = \"/home/zyu20/Softwares/gemma-0.98.5-linux-static-AMD64\""
   ]
  },
  {
   "cell_type": "code",
   "execution_count": null,
   "id": "73a7cbf3-d647-4c5a-a7e3-42677404cca2",
   "metadata": {},
   "outputs": [],
   "source": [
    "run(`$gemma -h`)"
   ]
  },
  {
   "cell_type": "code",
   "execution_count": null,
   "id": "ee6e9830-b187-452a-ab36-e814781b1b70",
   "metadata": {},
   "outputs": [],
   "source": [
    "function transform_bxd_pheno_to_gemma2(inputfile::AbstractString, outputfile::AbstractString, iter::Int64)\n",
    "    pheno = CSV.read(inputfile, DataFrame);\n",
    "    pheno = Matrix{Float64}(pheno[:, 3:end]);\n",
    "    open(outputfile, \"w\") do io\n",
    "        writedlm(io, pheno[:, iter])\n",
    "    end\n",
    "    return pheno\n",
    "end"
   ]
  },
  {
   "cell_type": "code",
   "execution_count": null,
   "id": "39441696-89ed-4087-b2ad-67f12bef125b",
   "metadata": {},
   "outputs": [],
   "source": [
    "function transform_bxd_geno_to_gemma2(inputfile::AbstractString, outputfile::AbstractString, \n",
    "                                      startCol::Int64)\n",
    "    data = CSV.read(inputfile, DataFrame);\n",
    "    \n",
    "    marker_names = names(data)[startCol:end];\n",
    "    data = 2 .* data[:, startCol:end] |> x -> Matrix{Float64}(x)\n",
    "    # data = data[:, startCol:end] |> x -> Matrix{Float64}(x)\n",
    "    minor_allele = fill(\"A\", length(marker_names), 1);\n",
    "    major_allele = fill(\"B\", length(marker_names), 1);\n",
    "    output = hcat(hcat(marker_names, minor_allele, major_allele), transpose(data))\n",
    "    writeToFile(output, outputfile)\n",
    "    return output\n",
    "end"
   ]
  },
  {
   "cell_type": "code",
   "execution_count": null,
   "id": "0e090b4f-6dc7-44bf-b082-893f5deed830",
   "metadata": {},
   "outputs": [],
   "source": [
    "lp_id"
   ]
  },
  {
   "cell_type": "code",
   "execution_count": null,
   "id": "1d49eaa6-a548-4ee8-a565-3f548535da52",
   "metadata": {},
   "outputs": [],
   "source": [
    "# transform_bxd_geno_to_gemma2(\"data/GN886_geno_strains_summary.csv\", \"data/GEMMA_data/GN886_geno_strains_summary.txt\", 2);\n",
    "# transform_bxd_geno_to_gemma2(\"data/GN886_geno_summary.csv\", \"data/GEMMA_data/GN886_geno_ind_summary.txt\", 4);"
   ]
  },
  {
   "cell_type": "code",
   "execution_count": null,
   "id": "28157ddb-4b44-44d5-a161-a9726b9acbe3",
   "metadata": {},
   "outputs": [],
   "source": [
    "lp_id = 29437;"
   ]
  },
  {
   "cell_type": "code",
   "execution_count": null,
   "id": "4015a708-0c19-4a46-9f59-2ad49ef02b24",
   "metadata": {},
   "outputs": [],
   "source": [
    "transform_bxd_pheno_to_gemma2(\"data/GN886_pheno_strain_means_summary.csv\", \"data/GEMMA_data/GN886_pheno_strains_summary.txt\", lp_id);\n",
    "transform_bxd_pheno_to_gemma2(\"data/GN886_pheno_summary.csv\", \"data/GEMMA_data/GN886_pheno_ind_summary.txt\", lp_id);"
   ]
  },
  {
   "cell_type": "code",
   "execution_count": null,
   "id": "0ae98acb-a676-49b6-ab15-ed9dad6d3e21",
   "metadata": {},
   "outputs": [],
   "source": [
    "# writedlm(\"data/GEMMA_data/kinship_strains.txt\", kinship_strains, '\\t')\n",
    "# writedlm(\"data/GEMMA_data/kinship_ind.txt\", kinship_ind_from_strains, '\\t')"
   ]
  },
  {
   "cell_type": "code",
   "execution_count": null,
   "id": "76c8932a-65f4-4048-80e3-8b377700abf9",
   "metadata": {},
   "outputs": [],
   "source": [
    "function p2lod(pval::Float64, df::Int64)\n",
    "    \n",
    "    lrs = invlogcdf(Chisq(df), log(1-pval))\n",
    "    lod = lrs/(2*log(10))\n",
    "    \n",
    "    # return lrs\n",
    "    return lod\n",
    "\n",
    "end"
   ]
  },
  {
   "cell_type": "code",
   "execution_count": null,
   "id": "ba8d2c36-000d-4f71-b0eb-34fdb7f5f5f3",
   "metadata": {},
   "outputs": [],
   "source": [
    "function gemmaWrapper(pheno_filename::String, geno_filename::String,\n",
    "                      kinship_filename::String, output_filename::String)\n",
    "    \n",
    "    run(`$gemma -g $geno_filename -p $pheno_filename -k $kinship_filename -lmm 2 -lmax 1000000 -o $output_filename`)\n",
    "    \n",
    "end"
   ]
  },
  {
   "cell_type": "code",
   "execution_count": null,
   "id": "5c081ae1-91e6-44e4-ac5b-be6bdaa982be",
   "metadata": {},
   "outputs": [],
   "source": [
    "@time gemmaWrapper(\"data/GEMMA_data/GN886_pheno_strains_summary.txt\", \n",
    "                   \"data/GEMMA_data/GN886_geno_strains_summary.txt\",\n",
    "                   \"data/GEMMA_data/kinship_strains.txt\",\n",
    "                   \"results_strains.txt\");"
   ]
  },
  {
   "cell_type": "code",
   "execution_count": null,
   "id": "de3ba7dd-97a4-4286-b61e-e7926647e930",
   "metadata": {},
   "outputs": [],
   "source": [
    "@time gemmaWrapper(\"data/GEMMA_data/GN886_pheno_ind_summary.txt\", \n",
    "                   \"data/GEMMA_data/GN886_geno_ind_summary.txt\",\n",
    "                   \"data/GEMMA_data/kinship_ind.txt\",\n",
    "                   \"results_ind.txt\");"
   ]
  },
  {
   "cell_type": "code",
   "execution_count": null,
   "id": "d48f6416-11df-47d2-ae97-b9cf673623bc",
   "metadata": {},
   "outputs": [],
   "source": [
    "sum(eigen(kinship_ind_from_strains).values.<0.0001)"
   ]
  },
  {
   "cell_type": "code",
   "execution_count": null,
   "id": "b6e5af53-02e8-4cec-b8fc-83b3efe76ddd",
   "metadata": {},
   "outputs": [],
   "source": [
    "gemma_results_strains = readdlm(\"output/results_strains.txt.assoc.txt\", '\\t');\n",
    "gemma_results_ind = readdlm(\"output/results_ind.txt.assoc.txt\", '\\t');"
   ]
  },
  {
   "cell_type": "code",
   "execution_count": null,
   "id": "b1f06ed0-ba22-4f56-9843-de4b47d2b7b8",
   "metadata": {},
   "outputs": [],
   "source": [
    "gemma_strains = gemma_results_strains[2:end, 10] |> x -> Array{Float64}(x);\n",
    "gemma_ind = gemma_results_ind[2:end, 10] |> x -> Array{Float64}(x);"
   ]
  },
  {
   "cell_type": "code",
   "execution_count": null,
   "id": "f082a5d7-1717-4f03-9272-07df9e10c38e",
   "metadata": {},
   "outputs": [],
   "source": [
    "gemma_strains_lod = p2lod.(gemma_strains, 1);\n",
    "gemma_ind_lod = p2lod.(gemma_ind, 1);"
   ]
  },
  {
   "cell_type": "code",
   "execution_count": null,
   "id": "077555ab-3fa2-4ad6-a9c0-e8f8410b52f8",
   "metadata": {},
   "outputs": [],
   "source": [
    "hcat(gemma_ind_lod, scan_results_ind.lod, bulkscan_results_null_grid_ind.L[:, lp_id])"
   ]
  },
  {
   "cell_type": "code",
   "execution_count": null,
   "id": "d1f1d5ae-3afb-46dc-b538-dd57428ae794",
   "metadata": {},
   "outputs": [],
   "source": [
    "hcat(gemma_strains_lod, scan_results_strains.lod, bulkscan_results_null_strains.L[:, lp_id])"
   ]
  },
  {
   "cell_type": "code",
   "execution_count": null,
   "id": "709a4dfd-3648-4165-9d24-d3fadaee590a",
   "metadata": {},
   "outputs": [],
   "source": [
    "lookRange = 1:7321"
   ]
  },
  {
   "cell_type": "code",
   "execution_count": null,
   "id": "e7359365-0980-44c6-bb9b-c57ef20a0506",
   "metadata": {},
   "outputs": [],
   "source": [
    "plot(gemma_strains_lod[lookRange], label = \"GEMMA_strains\");\n",
    "# plot!(scan_results_strains_alt_hub.lod[lookRange], label = \"BulkLMM_strains\")\n",
    "plot!(bulkscan_results_null_strains.L[lookRange, lp_id], label = \"BulkLMM_strains\")"
   ]
  },
  {
   "cell_type": "code",
   "execution_count": null,
   "id": "634bf00f-9d0c-4dac-9e69-a1c59b390fef",
   "metadata": {},
   "outputs": [],
   "source": [
    "scan_results_ind.h2_null"
   ]
  },
  {
   "cell_type": "code",
   "execution_count": null,
   "id": "6ee6edbe-afdc-468c-8cc9-861adfeb0c3e",
   "metadata": {},
   "outputs": [],
   "source": []
  }
 ],
 "metadata": {
  "kernelspec": {
   "display_name": "Julia 16 Threads 1.7.3",
   "language": "julia",
   "name": "julia-16-threads-1.7"
  },
  "language_info": {
   "file_extension": ".jl",
   "mimetype": "application/julia",
   "name": "julia",
   "version": "1.7.3"
  }
 },
 "nbformat": 4,
 "nbformat_minor": 5
}
