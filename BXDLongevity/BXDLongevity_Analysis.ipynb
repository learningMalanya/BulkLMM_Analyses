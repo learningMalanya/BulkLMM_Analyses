{
 "cells": [
  {
   "cell_type": "markdown",
   "id": "76f80b67-85df-4d55-bb10-f6913d392780",
   "metadata": {},
   "source": [
    "## Data Analysis using BulkLMM - BXD Longevity Study"
   ]
  },
  {
   "cell_type": "code",
   "execution_count": 1,
   "id": "028f2786-ee1b-4ec3-ab13-05110ad9caf6",
   "metadata": {},
   "outputs": [],
   "source": [
    "using CSV, DelimitedFiles, DataFrames, Missings, XLSX\n",
    "using LinearAlgebra, Statistics, Optim\n",
    "using Random, Distributions, LoopVectorization\n",
    "# using GeneNetworkAPI, Downloads\n",
    "using BenchmarkTools"
   ]
  },
  {
   "cell_type": "code",
   "execution_count": 2,
   "id": "4a6c9448-eeee-4fe2-8b74-a183abe6cf6f",
   "metadata": {},
   "outputs": [],
   "source": [
    "using Plots"
   ]
  },
  {
   "cell_type": "code",
   "execution_count": 3,
   "id": "bc3d1279-dc9b-4a8e-8616-12e041d6179f",
   "metadata": {},
   "outputs": [],
   "source": [
    "local_path = \"../../BulkLMM.jl/src\";"
   ]
  },
  {
   "cell_type": "markdown",
   "id": "548266cf-7288-4c51-a8d0-61a23e207f4e",
   "metadata": {},
   "source": [
    "## Load processed_data:"
   ]
  },
  {
   "cell_type": "markdown",
   "id": "76b2ccbd-e0db-4bcd-a11d-7703fbbbd811",
   "metadata": {},
   "source": [
    "### By individuals:"
   ]
  },
  {
   "cell_type": "code",
   "execution_count": 4,
   "id": "d6fec140-00e9-4f42-9b72-3b5f067bcf20",
   "metadata": {},
   "outputs": [
    {
     "data": {
      "text/plain": [
       "\"/home/zyu20/git/BulkLMM_Analyses/BXDLongevity\""
      ]
     },
     "execution_count": 4,
     "metadata": {},
     "output_type": "execute_result"
    }
   ],
   "source": [
    "pwd()"
   ]
  },
  {
   "cell_type": "code",
   "execution_count": 5,
   "id": "abafa447-fb73-405f-a457-8ab1ac3cefcc",
   "metadata": {},
   "outputs": [],
   "source": [
    "BXD_pheno_ind_summary_df = CSV.read(\"../../../shareddata/BXDLongevity/data/GN886_pheno_summary.csv\", DataFrame);"
   ]
  },
  {
   "cell_type": "markdown",
   "id": "a3e12b95-f2e2-4cfc-812d-34f74ac83f1e",
   "metadata": {},
   "source": [
    "By individuals, there are 248 individual samples for 32445 livear proteome."
   ]
  },
  {
   "cell_type": "code",
   "execution_count": 6,
   "id": "cf42c49c-60d5-458e-9206-35123de57d51",
   "metadata": {},
   "outputs": [
    {
     "name": "stdout",
     "output_type": "stream",
     "text": [
      "(248, 32448)\n"
     ]
    },
    {
     "data": {
      "text/html": [
       "<div><div style = \"float: left;\"><span>10×10 DataFrame</span></div><div style = \"clear: both;\"></div></div><div class = \"data-frame\" style = \"overflow-x: scroll;\"><table class = \"data-frame\" style = \"margin-bottom: 6px;\"><thead><tr class = \"header\"><th class = \"rowNumber\" style = \"font-weight: bold; text-align: right;\">Row</th><th style = \"text-align: left;\">Sample</th><th style = \"text-align: left;\">Strain</th><th style = \"text-align: left;\">Strain_num</th><th style = \"text-align: left;\">P42209_DESGLNRK_2</th><th style = \"text-align: left;\">P42209_GLRPLDVAFLR_3</th><th style = \"text-align: left;\">Q99M02_VGDPVYR_2</th><th style = \"text-align: left;\">Q99M02_VWIYPIK_2</th><th style = \"text-align: left;\">Q99M02_LCDPSVK_2</th><th style = \"text-align: left;\">Q99M02_CVLTTVDPDTGIIDR_2</th><th style = \"text-align: left;\">Q99M02_LVQFDTSMK_2</th></tr><tr class = \"subheader headerLastRow\"><th class = \"rowNumber\" style = \"font-weight: bold; text-align: right;\"></th><th title = \"String7\" style = \"text-align: left;\">String7</th><th title = \"String7\" style = \"text-align: left;\">String7</th><th title = \"Int64\" style = \"text-align: left;\">Int64</th><th title = \"Float64\" style = \"text-align: left;\">Float64</th><th title = \"Float64\" style = \"text-align: left;\">Float64</th><th title = \"Float64\" style = \"text-align: left;\">Float64</th><th title = \"Float64\" style = \"text-align: left;\">Float64</th><th title = \"Float64\" style = \"text-align: left;\">Float64</th><th title = \"Float64\" style = \"text-align: left;\">Float64</th><th title = \"Float64\" style = \"text-align: left;\">Float64</th></tr></thead><tbody><tr><td class = \"rowNumber\" style = \"font-weight: bold; text-align: right;\">1</td><td style = \"text-align: left;\">H1009</td><td style = \"text-align: left;\">BXD9</td><td style = \"text-align: right;\">9</td><td style = \"text-align: right;\">11.349</td><td style = \"text-align: right;\">11.534</td><td style = \"text-align: right;\">17.587</td><td style = \"text-align: right;\">17.517</td><td style = \"text-align: right;\">17.309</td><td style = \"text-align: right;\">16.574</td><td style = \"text-align: right;\">16.323</td></tr><tr><td class = \"rowNumber\" style = \"font-weight: bold; text-align: right;\">2</td><td style = \"text-align: left;\">H0370</td><td style = \"text-align: left;\">BXD9</td><td style = \"text-align: right;\">9</td><td style = \"text-align: right;\">11.249</td><td style = \"text-align: right;\">12.735</td><td style = \"text-align: right;\">17.427</td><td style = \"text-align: right;\">17.325</td><td style = \"text-align: right;\">17.252</td><td style = \"text-align: right;\">16.685</td><td style = \"text-align: right;\">16.021</td></tr><tr><td class = \"rowNumber\" style = \"font-weight: bold; text-align: right;\">3</td><td style = \"text-align: left;\">H2577</td><td style = \"text-align: left;\">BXD9</td><td style = \"text-align: right;\">9</td><td style = \"text-align: right;\">12.415</td><td style = \"text-align: right;\">10.487</td><td style = \"text-align: right;\">17.89</td><td style = \"text-align: right;\">17.488</td><td style = \"text-align: right;\">17.594</td><td style = \"text-align: right;\">16.731</td><td style = \"text-align: right;\">16.208</td></tr><tr><td class = \"rowNumber\" style = \"font-weight: bold; text-align: right;\">4</td><td style = \"text-align: left;\">H0365</td><td style = \"text-align: left;\">BXD9</td><td style = \"text-align: right;\">9</td><td style = \"text-align: right;\">11.374</td><td style = \"text-align: right;\">10.674</td><td style = \"text-align: right;\">17.714</td><td style = \"text-align: right;\">17.401</td><td style = \"text-align: right;\">17.381</td><td style = \"text-align: right;\">16.621</td><td style = \"text-align: right;\">16.337</td></tr><tr><td class = \"rowNumber\" style = \"font-weight: bold; text-align: right;\">5</td><td style = \"text-align: left;\">H1333</td><td style = \"text-align: left;\">BXD13</td><td style = \"text-align: right;\">13</td><td style = \"text-align: right;\">11.687</td><td style = \"text-align: right;\">11.524</td><td style = \"text-align: right;\">17.362</td><td style = \"text-align: right;\">17.367</td><td style = \"text-align: right;\">17.071</td><td style = \"text-align: right;\">16.465</td><td style = \"text-align: right;\">15.97</td></tr><tr><td class = \"rowNumber\" style = \"font-weight: bold; text-align: right;\">6</td><td style = \"text-align: left;\">H2259</td><td style = \"text-align: left;\">BXD24</td><td style = \"text-align: right;\">24</td><td style = \"text-align: right;\">11.837</td><td style = \"text-align: right;\">11.715</td><td style = \"text-align: right;\">17.57</td><td style = \"text-align: right;\">17.792</td><td style = \"text-align: right;\">17.505</td><td style = \"text-align: right;\">16.894</td><td style = \"text-align: right;\">16.277</td></tr><tr><td class = \"rowNumber\" style = \"font-weight: bold; text-align: right;\">7</td><td style = \"text-align: left;\">H1792</td><td style = \"text-align: left;\">BXD24</td><td style = \"text-align: right;\">24</td><td style = \"text-align: right;\">11.563</td><td style = \"text-align: right;\">11.434</td><td style = \"text-align: right;\">17.789</td><td style = \"text-align: right;\">17.847</td><td style = \"text-align: right;\">17.416</td><td style = \"text-align: right;\">17.042</td><td style = \"text-align: right;\">16.292</td></tr><tr><td class = \"rowNumber\" style = \"font-weight: bold; text-align: right;\">8</td><td style = \"text-align: left;\">H1791</td><td style = \"text-align: left;\">BXD24</td><td style = \"text-align: right;\">24</td><td style = \"text-align: right;\">12.5</td><td style = \"text-align: right;\">12.273</td><td style = \"text-align: right;\">17.944</td><td style = \"text-align: right;\">17.833</td><td style = \"text-align: right;\">17.63</td><td style = \"text-align: right;\">16.862</td><td style = \"text-align: right;\">16.3</td></tr><tr><td class = \"rowNumber\" style = \"font-weight: bold; text-align: right;\">9</td><td style = \"text-align: left;\">H1541</td><td style = \"text-align: left;\">BXD24</td><td style = \"text-align: right;\">24</td><td style = \"text-align: right;\">11.815</td><td style = \"text-align: right;\">11.564</td><td style = \"text-align: right;\">17.794</td><td style = \"text-align: right;\">17.759</td><td style = \"text-align: right;\">17.456</td><td style = \"text-align: right;\">16.878</td><td style = \"text-align: right;\">16.377</td></tr><tr><td class = \"rowNumber\" style = \"font-weight: bold; text-align: right;\">10</td><td style = \"text-align: left;\">H1277</td><td style = \"text-align: left;\">BXD24</td><td style = \"text-align: right;\">24</td><td style = \"text-align: right;\">12.674</td><td style = \"text-align: right;\">11.743</td><td style = \"text-align: right;\">17.866</td><td style = \"text-align: right;\">17.845</td><td style = \"text-align: right;\">17.577</td><td style = \"text-align: right;\">16.922</td><td style = \"text-align: right;\">16.26</td></tr></tbody></table></div>"
      ],
      "text/latex": [
       "\\begin{tabular}{r|ccccccc}\n",
       "\t& Sample & Strain & Strain\\_num & P42209\\_DESGLNRK\\_2 & P42209\\_GLRPLDVAFLR\\_3 & Q99M02\\_VGDPVYR\\_2 & \\\\\n",
       "\t\\hline\n",
       "\t& String7 & String7 & Int64 & Float64 & Float64 & Float64 & \\\\\n",
       "\t\\hline\n",
       "\t1 & H1009 & BXD9 & 9 & 11.349 & 11.534 & 17.587 & $\\dots$ \\\\\n",
       "\t2 & H0370 & BXD9 & 9 & 11.249 & 12.735 & 17.427 & $\\dots$ \\\\\n",
       "\t3 & H2577 & BXD9 & 9 & 12.415 & 10.487 & 17.89 & $\\dots$ \\\\\n",
       "\t4 & H0365 & BXD9 & 9 & 11.374 & 10.674 & 17.714 & $\\dots$ \\\\\n",
       "\t5 & H1333 & BXD13 & 13 & 11.687 & 11.524 & 17.362 & $\\dots$ \\\\\n",
       "\t6 & H2259 & BXD24 & 24 & 11.837 & 11.715 & 17.57 & $\\dots$ \\\\\n",
       "\t7 & H1792 & BXD24 & 24 & 11.563 & 11.434 & 17.789 & $\\dots$ \\\\\n",
       "\t8 & H1791 & BXD24 & 24 & 12.5 & 12.273 & 17.944 & $\\dots$ \\\\\n",
       "\t9 & H1541 & BXD24 & 24 & 11.815 & 11.564 & 17.794 & $\\dots$ \\\\\n",
       "\t10 & H1277 & BXD24 & 24 & 12.674 & 11.743 & 17.866 & $\\dots$ \\\\\n",
       "\\end{tabular}\n"
      ],
      "text/plain": [
       "\u001b[1m10×10 DataFrame\u001b[0m\n",
       "\u001b[1m Row \u001b[0m│\u001b[1m Sample  \u001b[0m\u001b[1m Strain  \u001b[0m\u001b[1m Strain_num \u001b[0m\u001b[1m P42209_DESGLNRK_2 \u001b[0m\u001b[1m P42209_GLRPLDVAFLR_3 \u001b[0m\u001b[1m \u001b[0m ⋯\n",
       "     │\u001b[90m String7 \u001b[0m\u001b[90m String7 \u001b[0m\u001b[90m Int64      \u001b[0m\u001b[90m Float64           \u001b[0m\u001b[90m Float64              \u001b[0m\u001b[90m \u001b[0m ⋯\n",
       "─────┼──────────────────────────────────────────────────────────────────────────\n",
       "   1 │ H1009    BXD9              9             11.349                11.534   ⋯\n",
       "   2 │ H0370    BXD9              9             11.249                12.735\n",
       "   3 │ H2577    BXD9              9             12.415                10.487\n",
       "   4 │ H0365    BXD9              9             11.374                10.674\n",
       "   5 │ H1333    BXD13            13             11.687                11.524   ⋯\n",
       "   6 │ H2259    BXD24            24             11.837                11.715\n",
       "   7 │ H1792    BXD24            24             11.563                11.434\n",
       "   8 │ H1791    BXD24            24             12.5                  12.273\n",
       "   9 │ H1541    BXD24            24             11.815                11.564   ⋯\n",
       "  10 │ H1277    BXD24            24             12.674                11.743\n",
       "\u001b[36m                                                               5 columns omitted\u001b[0m"
      ]
     },
     "execution_count": 6,
     "metadata": {},
     "output_type": "execute_result"
    }
   ],
   "source": [
    "println(size(BXD_pheno_ind_summary_df)) \n",
    "BXD_pheno_ind_summary_df[1:10, 1:10]"
   ]
  },
  {
   "cell_type": "code",
   "execution_count": 7,
   "id": "0ff1711f-771b-432b-a230-4161835d4b52",
   "metadata": {},
   "outputs": [],
   "source": [
    "BXD_geno_ind_summary_df = CSV.read(\"../../../shareddata/BXDLongevity/data/GN886_geno_summary.csv\", DataFrame);"
   ]
  },
  {
   "cell_type": "markdown",
   "id": "2f3abf17-58be-4916-9a5f-412546a12f50",
   "metadata": {},
   "source": [
    "By individuals, there are 248 individual samples for 7321 markers."
   ]
  },
  {
   "cell_type": "code",
   "execution_count": 8,
   "id": "e7f39851-0173-4c71-b583-dd4ad554445d",
   "metadata": {},
   "outputs": [
    {
     "name": "stdout",
     "output_type": "stream",
     "text": [
      "(248, 7324)\n"
     ]
    },
    {
     "data": {
      "text/html": [
       "<div><div style = \"float: left;\"><span>10×10 DataFrame</span></div><div style = \"clear: both;\"></div></div><div class = \"data-frame\" style = \"overflow-x: scroll;\"><table class = \"data-frame\" style = \"margin-bottom: 6px;\"><thead><tr class = \"header\"><th class = \"rowNumber\" style = \"font-weight: bold; text-align: right;\">Row</th><th style = \"text-align: left;\">Sample</th><th style = \"text-align: left;\">Strain</th><th style = \"text-align: left;\">Strain_num</th><th style = \"text-align: left;\">rs31443144</th><th style = \"text-align: left;\">rs6269442</th><th style = \"text-align: left;\">rs32285189</th><th style = \"text-align: left;\">rs258367496</th><th style = \"text-align: left;\">rs32430919</th><th style = \"text-align: left;\">rs36251697</th><th style = \"text-align: left;\">rs30658298</th></tr><tr class = \"subheader headerLastRow\"><th class = \"rowNumber\" style = \"font-weight: bold; text-align: right;\"></th><th title = \"String7\" style = \"text-align: left;\">String7</th><th title = \"String7\" style = \"text-align: left;\">String7</th><th title = \"Int64\" style = \"text-align: left;\">Int64</th><th title = \"Float64\" style = \"text-align: left;\">Float64</th><th title = \"Float64\" style = \"text-align: left;\">Float64</th><th title = \"Float64\" style = \"text-align: left;\">Float64</th><th title = \"Float64\" style = \"text-align: left;\">Float64</th><th title = \"Float64\" style = \"text-align: left;\">Float64</th><th title = \"Float64\" style = \"text-align: left;\">Float64</th><th title = \"Float64\" style = \"text-align: left;\">Float64</th></tr></thead><tbody><tr><td class = \"rowNumber\" style = \"font-weight: bold; text-align: right;\">1</td><td style = \"text-align: left;\">H1009</td><td style = \"text-align: left;\">BXD9</td><td style = \"text-align: right;\">9</td><td style = \"text-align: right;\">0.0</td><td style = \"text-align: right;\">0.0</td><td style = \"text-align: right;\">0.0</td><td style = \"text-align: right;\">0.0</td><td style = \"text-align: right;\">0.0</td><td style = \"text-align: right;\">0.0</td><td style = \"text-align: right;\">0.0</td></tr><tr><td class = \"rowNumber\" style = \"font-weight: bold; text-align: right;\">2</td><td style = \"text-align: left;\">H0370</td><td style = \"text-align: left;\">BXD9</td><td style = \"text-align: right;\">9</td><td style = \"text-align: right;\">0.0</td><td style = \"text-align: right;\">0.0</td><td style = \"text-align: right;\">0.0</td><td style = \"text-align: right;\">0.0</td><td style = \"text-align: right;\">0.0</td><td style = \"text-align: right;\">0.0</td><td style = \"text-align: right;\">0.0</td></tr><tr><td class = \"rowNumber\" style = \"font-weight: bold; text-align: right;\">3</td><td style = \"text-align: left;\">H2577</td><td style = \"text-align: left;\">BXD9</td><td style = \"text-align: right;\">9</td><td style = \"text-align: right;\">0.0</td><td style = \"text-align: right;\">0.0</td><td style = \"text-align: right;\">0.0</td><td style = \"text-align: right;\">0.0</td><td style = \"text-align: right;\">0.0</td><td style = \"text-align: right;\">0.0</td><td style = \"text-align: right;\">0.0</td></tr><tr><td class = \"rowNumber\" style = \"font-weight: bold; text-align: right;\">4</td><td style = \"text-align: left;\">H0365</td><td style = \"text-align: left;\">BXD9</td><td style = \"text-align: right;\">9</td><td style = \"text-align: right;\">0.0</td><td style = \"text-align: right;\">0.0</td><td style = \"text-align: right;\">0.0</td><td style = \"text-align: right;\">0.0</td><td style = \"text-align: right;\">0.0</td><td style = \"text-align: right;\">0.0</td><td style = \"text-align: right;\">0.0</td></tr><tr><td class = \"rowNumber\" style = \"font-weight: bold; text-align: right;\">5</td><td style = \"text-align: left;\">H1333</td><td style = \"text-align: left;\">BXD13</td><td style = \"text-align: right;\">13</td><td style = \"text-align: right;\">0.0</td><td style = \"text-align: right;\">0.0</td><td style = \"text-align: right;\">0.0</td><td style = \"text-align: right;\">0.0</td><td style = \"text-align: right;\">0.0</td><td style = \"text-align: right;\">0.0</td><td style = \"text-align: right;\">0.0</td></tr><tr><td class = \"rowNumber\" style = \"font-weight: bold; text-align: right;\">6</td><td style = \"text-align: left;\">H2259</td><td style = \"text-align: left;\">BXD24</td><td style = \"text-align: right;\">24</td><td style = \"text-align: right;\">0.0</td><td style = \"text-align: right;\">0.0</td><td style = \"text-align: right;\">0.0</td><td style = \"text-align: right;\">0.0</td><td style = \"text-align: right;\">0.0</td><td style = \"text-align: right;\">0.0</td><td style = \"text-align: right;\">0.0</td></tr><tr><td class = \"rowNumber\" style = \"font-weight: bold; text-align: right;\">7</td><td style = \"text-align: left;\">H1792</td><td style = \"text-align: left;\">BXD24</td><td style = \"text-align: right;\">24</td><td style = \"text-align: right;\">0.0</td><td style = \"text-align: right;\">0.0</td><td style = \"text-align: right;\">0.0</td><td style = \"text-align: right;\">0.0</td><td style = \"text-align: right;\">0.0</td><td style = \"text-align: right;\">0.0</td><td style = \"text-align: right;\">0.0</td></tr><tr><td class = \"rowNumber\" style = \"font-weight: bold; text-align: right;\">8</td><td style = \"text-align: left;\">H1791</td><td style = \"text-align: left;\">BXD24</td><td style = \"text-align: right;\">24</td><td style = \"text-align: right;\">0.0</td><td style = \"text-align: right;\">0.0</td><td style = \"text-align: right;\">0.0</td><td style = \"text-align: right;\">0.0</td><td style = \"text-align: right;\">0.0</td><td style = \"text-align: right;\">0.0</td><td style = \"text-align: right;\">0.0</td></tr><tr><td class = \"rowNumber\" style = \"font-weight: bold; text-align: right;\">9</td><td style = \"text-align: left;\">H1541</td><td style = \"text-align: left;\">BXD24</td><td style = \"text-align: right;\">24</td><td style = \"text-align: right;\">0.0</td><td style = \"text-align: right;\">0.0</td><td style = \"text-align: right;\">0.0</td><td style = \"text-align: right;\">0.0</td><td style = \"text-align: right;\">0.0</td><td style = \"text-align: right;\">0.0</td><td style = \"text-align: right;\">0.0</td></tr><tr><td class = \"rowNumber\" style = \"font-weight: bold; text-align: right;\">10</td><td style = \"text-align: left;\">H1277</td><td style = \"text-align: left;\">BXD24</td><td style = \"text-align: right;\">24</td><td style = \"text-align: right;\">0.0</td><td style = \"text-align: right;\">0.0</td><td style = \"text-align: right;\">0.0</td><td style = \"text-align: right;\">0.0</td><td style = \"text-align: right;\">0.0</td><td style = \"text-align: right;\">0.0</td><td style = \"text-align: right;\">0.0</td></tr></tbody></table></div>"
      ],
      "text/latex": [
       "\\begin{tabular}{r|ccccccccc}\n",
       "\t& Sample & Strain & Strain\\_num & rs31443144 & rs6269442 & rs32285189 & rs258367496 & rs32430919 & \\\\\n",
       "\t\\hline\n",
       "\t& String7 & String7 & Int64 & Float64 & Float64 & Float64 & Float64 & Float64 & \\\\\n",
       "\t\\hline\n",
       "\t1 & H1009 & BXD9 & 9 & 0.0 & 0.0 & 0.0 & 0.0 & 0.0 & $\\dots$ \\\\\n",
       "\t2 & H0370 & BXD9 & 9 & 0.0 & 0.0 & 0.0 & 0.0 & 0.0 & $\\dots$ \\\\\n",
       "\t3 & H2577 & BXD9 & 9 & 0.0 & 0.0 & 0.0 & 0.0 & 0.0 & $\\dots$ \\\\\n",
       "\t4 & H0365 & BXD9 & 9 & 0.0 & 0.0 & 0.0 & 0.0 & 0.0 & $\\dots$ \\\\\n",
       "\t5 & H1333 & BXD13 & 13 & 0.0 & 0.0 & 0.0 & 0.0 & 0.0 & $\\dots$ \\\\\n",
       "\t6 & H2259 & BXD24 & 24 & 0.0 & 0.0 & 0.0 & 0.0 & 0.0 & $\\dots$ \\\\\n",
       "\t7 & H1792 & BXD24 & 24 & 0.0 & 0.0 & 0.0 & 0.0 & 0.0 & $\\dots$ \\\\\n",
       "\t8 & H1791 & BXD24 & 24 & 0.0 & 0.0 & 0.0 & 0.0 & 0.0 & $\\dots$ \\\\\n",
       "\t9 & H1541 & BXD24 & 24 & 0.0 & 0.0 & 0.0 & 0.0 & 0.0 & $\\dots$ \\\\\n",
       "\t10 & H1277 & BXD24 & 24 & 0.0 & 0.0 & 0.0 & 0.0 & 0.0 & $\\dots$ \\\\\n",
       "\\end{tabular}\n"
      ],
      "text/plain": [
       "\u001b[1m10×10 DataFrame\u001b[0m\n",
       "\u001b[1m Row \u001b[0m│\u001b[1m Sample  \u001b[0m\u001b[1m Strain  \u001b[0m\u001b[1m Strain_num \u001b[0m\u001b[1m rs31443144 \u001b[0m\u001b[1m rs6269442 \u001b[0m\u001b[1m rs32285189 \u001b[0m\u001b[1m rs2583\u001b[0m ⋯\n",
       "     │\u001b[90m String7 \u001b[0m\u001b[90m String7 \u001b[0m\u001b[90m Int64      \u001b[0m\u001b[90m Float64    \u001b[0m\u001b[90m Float64   \u001b[0m\u001b[90m Float64    \u001b[0m\u001b[90m Float6\u001b[0m ⋯\n",
       "─────┼──────────────────────────────────────────────────────────────────────────\n",
       "   1 │ H1009    BXD9              9         0.0        0.0         0.0         ⋯\n",
       "   2 │ H0370    BXD9              9         0.0        0.0         0.0\n",
       "   3 │ H2577    BXD9              9         0.0        0.0         0.0\n",
       "   4 │ H0365    BXD9              9         0.0        0.0         0.0\n",
       "   5 │ H1333    BXD13            13         0.0        0.0         0.0         ⋯\n",
       "   6 │ H2259    BXD24            24         0.0        0.0         0.0\n",
       "   7 │ H1792    BXD24            24         0.0        0.0         0.0\n",
       "   8 │ H1791    BXD24            24         0.0        0.0         0.0\n",
       "   9 │ H1541    BXD24            24         0.0        0.0         0.0         ⋯\n",
       "  10 │ H1277    BXD24            24         0.0        0.0         0.0\n",
       "\u001b[36m                                                               4 columns omitted\u001b[0m"
      ]
     },
     "execution_count": 8,
     "metadata": {},
     "output_type": "execute_result"
    }
   ],
   "source": [
    "println(size(BXD_geno_ind_summary_df)) \n",
    "BXD_geno_ind_summary_df[1:10, 1:10]"
   ]
  },
  {
   "cell_type": "markdown",
   "id": "09ec71ff-4361-42b5-b7be-b5b67963dc81",
   "metadata": {},
   "source": [
    "### By strains:"
   ]
  },
  {
   "cell_type": "code",
   "execution_count": 9,
   "id": "446da4f9-0e1b-481b-b1c0-27fbd9d0165b",
   "metadata": {},
   "outputs": [
    {
     "data": {
      "text/plain": [
       "\"/home/zyu20/git/BulkLMM_Analyses/BXDLongevity\""
      ]
     },
     "execution_count": 9,
     "metadata": {},
     "output_type": "execute_result"
    }
   ],
   "source": [
    "pwd()"
   ]
  },
  {
   "cell_type": "code",
   "execution_count": 10,
   "id": "87fab8f1-fbe4-49d2-94cc-0163ac9ad461",
   "metadata": {},
   "outputs": [],
   "source": [
    "BXD_pheno_strains_summary_df = CSV.read(\"../../../shareddata/BXDLongevity/data/GN886_pheno_strain_means_summary.csv\", DataFrame);"
   ]
  },
  {
   "cell_type": "markdown",
   "id": "2255810e-cdd7-4473-a605-8a96126cbad0",
   "metadata": {},
   "source": [
    "By strains, there are 50 BXD strains for 32445 liver proteome."
   ]
  },
  {
   "cell_type": "code",
   "execution_count": 158,
   "id": "f5441670-3929-420d-a6c3-ceb794ea9cb1",
   "metadata": {},
   "outputs": [
    {
     "name": "stdout",
     "output_type": "stream",
     "text": [
      "(50, 32447)\n"
     ]
    },
    {
     "data": {
      "text/html": [
       "<div><div style = \"float: left;\"><span>10×10 DataFrame</span></div><div style = \"clear: both;\"></div></div><div class = \"data-frame\" style = \"overflow-x: scroll;\"><table class = \"data-frame\" style = \"margin-bottom: 6px;\"><thead><tr class = \"header\"><th class = \"rowNumber\" style = \"font-weight: bold; text-align: right;\">Row</th><th style = \"text-align: left;\">Strain</th><th style = \"text-align: left;\">Number of Samples</th><th style = \"text-align: left;\">P42209_DESGLNRK_2</th><th style = \"text-align: left;\">P42209_GLRPLDVAFLR_3</th><th style = \"text-align: left;\">Q99M02_VGDPVYR_2</th><th style = \"text-align: left;\">Q99M02_VWIYPIK_2</th><th style = \"text-align: left;\">Q99M02_LCDPSVK_2</th><th style = \"text-align: left;\">Q99M02_CVLTTVDPDTGIIDR_2</th><th style = \"text-align: left;\">Q99M02_LVQFDTSMK_2</th><th style = \"text-align: left;\">Q99M02_QLQQVGTVSK_2</th></tr><tr class = \"subheader headerLastRow\"><th class = \"rowNumber\" style = \"font-weight: bold; text-align: right;\"></th><th title = \"String7\" style = \"text-align: left;\">String7</th><th title = \"Int64\" style = \"text-align: left;\">Int64</th><th title = \"Float64\" style = \"text-align: left;\">Float64</th><th title = \"Float64\" style = \"text-align: left;\">Float64</th><th title = \"Float64\" style = \"text-align: left;\">Float64</th><th title = \"Float64\" style = \"text-align: left;\">Float64</th><th title = \"Float64\" style = \"text-align: left;\">Float64</th><th title = \"Float64\" style = \"text-align: left;\">Float64</th><th title = \"Float64\" style = \"text-align: left;\">Float64</th><th title = \"Float64\" style = \"text-align: left;\">Float64</th></tr></thead><tbody><tr><td class = \"rowNumber\" style = \"font-weight: bold; text-align: right;\">1</td><td style = \"text-align: left;\">BXD9</td><td style = \"text-align: right;\">4</td><td style = \"text-align: right;\">11.5968</td><td style = \"text-align: right;\">11.3575</td><td style = \"text-align: right;\">17.6545</td><td style = \"text-align: right;\">17.4327</td><td style = \"text-align: right;\">17.384</td><td style = \"text-align: right;\">16.6528</td><td style = \"text-align: right;\">16.2222</td><td style = \"text-align: right;\">16.3227</td></tr><tr><td class = \"rowNumber\" style = \"font-weight: bold; text-align: right;\">2</td><td style = \"text-align: left;\">BXD13</td><td style = \"text-align: right;\">1</td><td style = \"text-align: right;\">11.687</td><td style = \"text-align: right;\">11.524</td><td style = \"text-align: right;\">17.362</td><td style = \"text-align: right;\">17.367</td><td style = \"text-align: right;\">17.071</td><td style = \"text-align: right;\">16.465</td><td style = \"text-align: right;\">15.97</td><td style = \"text-align: right;\">15.98</td></tr><tr><td class = \"rowNumber\" style = \"font-weight: bold; text-align: right;\">3</td><td style = \"text-align: left;\">BXD24</td><td style = \"text-align: right;\">5</td><td style = \"text-align: right;\">12.0778</td><td style = \"text-align: right;\">11.7458</td><td style = \"text-align: right;\">17.7926</td><td style = \"text-align: right;\">17.8152</td><td style = \"text-align: right;\">17.5168</td><td style = \"text-align: right;\">16.9196</td><td style = \"text-align: right;\">16.3012</td><td style = \"text-align: right;\">16.4304</td></tr><tr><td class = \"rowNumber\" style = \"font-weight: bold; text-align: right;\">4</td><td style = \"text-align: left;\">BXD27</td><td style = \"text-align: right;\">3</td><td style = \"text-align: right;\">11.717</td><td style = \"text-align: right;\">11.149</td><td style = \"text-align: right;\">17.336</td><td style = \"text-align: right;\">17.3143</td><td style = \"text-align: right;\">17.165</td><td style = \"text-align: right;\">16.5283</td><td style = \"text-align: right;\">15.9407</td><td style = \"text-align: right;\">16.002</td></tr><tr><td class = \"rowNumber\" style = \"font-weight: bold; text-align: right;\">5</td><td style = \"text-align: left;\">BXD29</td><td style = \"text-align: right;\">11</td><td style = \"text-align: right;\">11.735</td><td style = \"text-align: right;\">11.3496</td><td style = \"text-align: right;\">17.4583</td><td style = \"text-align: right;\">17.3877</td><td style = \"text-align: right;\">17.2431</td><td style = \"text-align: right;\">16.4945</td><td style = \"text-align: right;\">16.0869</td><td style = \"text-align: right;\">16.1075</td></tr><tr><td class = \"rowNumber\" style = \"font-weight: bold; text-align: right;\">6</td><td style = \"text-align: left;\">BXD32</td><td style = \"text-align: right;\">8</td><td style = \"text-align: right;\">11.6266</td><td style = \"text-align: right;\">11.554</td><td style = \"text-align: right;\">17.8254</td><td style = \"text-align: right;\">17.7716</td><td style = \"text-align: right;\">17.4639</td><td style = \"text-align: right;\">16.9029</td><td style = \"text-align: right;\">16.434</td><td style = \"text-align: right;\">16.425</td></tr><tr><td class = \"rowNumber\" style = \"font-weight: bold; text-align: right;\">7</td><td style = \"text-align: left;\">BXD34</td><td style = \"text-align: right;\">13</td><td style = \"text-align: right;\">11.7491</td><td style = \"text-align: right;\">11.9135</td><td style = \"text-align: right;\">17.6108</td><td style = \"text-align: right;\">17.5974</td><td style = \"text-align: right;\">17.2988</td><td style = \"text-align: right;\">16.7761</td><td style = \"text-align: right;\">16.3147</td><td style = \"text-align: right;\">16.2926</td></tr><tr><td class = \"rowNumber\" style = \"font-weight: bold; text-align: right;\">8</td><td style = \"text-align: left;\">BXD39</td><td style = \"text-align: right;\">5</td><td style = \"text-align: right;\">11.9158</td><td style = \"text-align: right;\">11.719</td><td style = \"text-align: right;\">17.395</td><td style = \"text-align: right;\">17.385</td><td style = \"text-align: right;\">17.157</td><td style = \"text-align: right;\">16.5226</td><td style = \"text-align: right;\">16.179</td><td style = \"text-align: right;\">16.0594</td></tr><tr><td class = \"rowNumber\" style = \"font-weight: bold; text-align: right;\">9</td><td style = \"text-align: left;\">BXD40</td><td style = \"text-align: right;\">8</td><td style = \"text-align: right;\">11.8651</td><td style = \"text-align: right;\">11.6817</td><td style = \"text-align: right;\">17.5986</td><td style = \"text-align: right;\">17.6386</td><td style = \"text-align: right;\">17.3861</td><td style = \"text-align: right;\">16.6824</td><td style = \"text-align: right;\">16.2855</td><td style = \"text-align: right;\">16.2523</td></tr><tr><td class = \"rowNumber\" style = \"font-weight: bold; text-align: right;\">10</td><td style = \"text-align: left;\">BXD43</td><td style = \"text-align: right;\">4</td><td style = \"text-align: right;\">12.378</td><td style = \"text-align: right;\">11.4563</td><td style = \"text-align: right;\">17.76</td><td style = \"text-align: right;\">17.8035</td><td style = \"text-align: right;\">17.3652</td><td style = \"text-align: right;\">16.885</td><td style = \"text-align: right;\">16.5245</td><td style = \"text-align: right;\">16.3532</td></tr></tbody></table></div>"
      ],
      "text/latex": [
       "\\begin{tabular}{r|cccccc}\n",
       "\t& Strain & Number of Samples & P42209\\_DESGLNRK\\_2 & P42209\\_GLRPLDVAFLR\\_3 & Q99M02\\_VGDPVYR\\_2 & \\\\\n",
       "\t\\hline\n",
       "\t& String7 & Int64 & Float64 & Float64 & Float64 & \\\\\n",
       "\t\\hline\n",
       "\t1 & BXD9 & 4 & 11.5968 & 11.3575 & 17.6545 & $\\dots$ \\\\\n",
       "\t2 & BXD13 & 1 & 11.687 & 11.524 & 17.362 & $\\dots$ \\\\\n",
       "\t3 & BXD24 & 5 & 12.0778 & 11.7458 & 17.7926 & $\\dots$ \\\\\n",
       "\t4 & BXD27 & 3 & 11.717 & 11.149 & 17.336 & $\\dots$ \\\\\n",
       "\t5 & BXD29 & 11 & 11.735 & 11.3496 & 17.4583 & $\\dots$ \\\\\n",
       "\t6 & BXD32 & 8 & 11.6266 & 11.554 & 17.8254 & $\\dots$ \\\\\n",
       "\t7 & BXD34 & 13 & 11.7491 & 11.9135 & 17.6108 & $\\dots$ \\\\\n",
       "\t8 & BXD39 & 5 & 11.9158 & 11.719 & 17.395 & $\\dots$ \\\\\n",
       "\t9 & BXD40 & 8 & 11.8651 & 11.6817 & 17.5986 & $\\dots$ \\\\\n",
       "\t10 & BXD43 & 4 & 12.378 & 11.4563 & 17.76 & $\\dots$ \\\\\n",
       "\\end{tabular}\n"
      ],
      "text/plain": [
       "\u001b[1m10×10 DataFrame\u001b[0m\n",
       "\u001b[1m Row \u001b[0m│\u001b[1m Strain  \u001b[0m\u001b[1m Number of Samples \u001b[0m\u001b[1m P42209_DESGLNRK_2 \u001b[0m\u001b[1m P42209_GLRPLDVAFLR_3 \u001b[0m\u001b[1m Q9\u001b[0m ⋯\n",
       "     │\u001b[90m String7 \u001b[0m\u001b[90m Int64             \u001b[0m\u001b[90m Float64           \u001b[0m\u001b[90m Float64              \u001b[0m\u001b[90m Fl\u001b[0m ⋯\n",
       "─────┼──────────────────────────────────────────────────────────────────────────\n",
       "   1 │ BXD9                     4            11.5968               11.3575     ⋯\n",
       "   2 │ BXD13                    1            11.687                11.524\n",
       "   3 │ BXD24                    5            12.0778               11.7458\n",
       "   4 │ BXD27                    3            11.717                11.149\n",
       "   5 │ BXD29                   11            11.735                11.3496     ⋯\n",
       "   6 │ BXD32                    8            11.6266               11.554\n",
       "   7 │ BXD34                   13            11.7491               11.9135\n",
       "   8 │ BXD39                    5            11.9158               11.719\n",
       "   9 │ BXD40                    8            11.8651               11.6817     ⋯\n",
       "  10 │ BXD43                    4            12.378                11.4563\n",
       "\u001b[36m                                                               6 columns omitted\u001b[0m"
      ]
     },
     "execution_count": 158,
     "metadata": {},
     "output_type": "execute_result"
    }
   ],
   "source": [
    "println(size(BXD_pheno_strains_summary_df)) \n",
    "BXD_pheno_strains_summary_df[1:10, 1:10]"
   ]
  },
  {
   "cell_type": "code",
   "execution_count": 12,
   "id": "c9e172db-b395-4c04-9c4c-429e8ce5b677",
   "metadata": {},
   "outputs": [],
   "source": [
    "BXD_geno_strains_summary_df = CSV.read(\"../../../shareddata/BXDLongevity/data/GN886_geno_strains_summary.csv\", DataFrame);"
   ]
  },
  {
   "cell_type": "markdown",
   "id": "e606034c-1af9-4dad-a88d-07f4cc67be19",
   "metadata": {},
   "source": [
    "By strains, there are 50 BXD strains for 7321 markers."
   ]
  },
  {
   "cell_type": "code",
   "execution_count": 13,
   "id": "324c16c7-5a68-44a5-abe6-b098bf1526a9",
   "metadata": {},
   "outputs": [
    {
     "name": "stdout",
     "output_type": "stream",
     "text": [
      "(50, 7322)\n"
     ]
    },
    {
     "data": {
      "text/html": [
       "<div><div style = \"float: left;\"><span>10×10 DataFrame</span></div><div style = \"clear: both;\"></div></div><div class = \"data-frame\" style = \"overflow-x: scroll;\"><table class = \"data-frame\" style = \"margin-bottom: 6px;\"><thead><tr class = \"header\"><th class = \"rowNumber\" style = \"font-weight: bold; text-align: right;\">Row</th><th style = \"text-align: left;\">Strain</th><th style = \"text-align: left;\">rs31443144</th><th style = \"text-align: left;\">rs6269442</th><th style = \"text-align: left;\">rs32285189</th><th style = \"text-align: left;\">rs258367496</th><th style = \"text-align: left;\">rs32430919</th><th style = \"text-align: left;\">rs36251697</th><th style = \"text-align: left;\">rs30658298</th><th style = \"text-align: left;\">rs51852623</th><th style = \"text-align: left;\">rs31879829</th></tr><tr class = \"subheader headerLastRow\"><th class = \"rowNumber\" style = \"font-weight: bold; text-align: right;\"></th><th title = \"String7\" style = \"text-align: left;\">String7</th><th title = \"Float64\" style = \"text-align: left;\">Float64</th><th title = \"Float64\" style = \"text-align: left;\">Float64</th><th title = \"Float64\" style = \"text-align: left;\">Float64</th><th title = \"Float64\" style = \"text-align: left;\">Float64</th><th title = \"Float64\" style = \"text-align: left;\">Float64</th><th title = \"Float64\" style = \"text-align: left;\">Float64</th><th title = \"Float64\" style = \"text-align: left;\">Float64</th><th title = \"Float64\" style = \"text-align: left;\">Float64</th><th title = \"Float64\" style = \"text-align: left;\">Float64</th></tr></thead><tbody><tr><td class = \"rowNumber\" style = \"font-weight: bold; text-align: right;\">1</td><td style = \"text-align: left;\">BXD9</td><td style = \"text-align: right;\">0.0</td><td style = \"text-align: right;\">0.0</td><td style = \"text-align: right;\">0.0</td><td style = \"text-align: right;\">0.0</td><td style = \"text-align: right;\">0.0</td><td style = \"text-align: right;\">0.0</td><td style = \"text-align: right;\">0.0</td><td style = \"text-align: right;\">0.0</td><td style = \"text-align: right;\">0.0</td></tr><tr><td class = \"rowNumber\" style = \"font-weight: bold; text-align: right;\">2</td><td style = \"text-align: left;\">BXD13</td><td style = \"text-align: right;\">0.0</td><td style = \"text-align: right;\">0.0</td><td style = \"text-align: right;\">0.0</td><td style = \"text-align: right;\">0.0</td><td style = \"text-align: right;\">0.0</td><td style = \"text-align: right;\">0.0</td><td style = \"text-align: right;\">0.0</td><td style = \"text-align: right;\">0.0</td><td style = \"text-align: right;\">0.0</td></tr><tr><td class = \"rowNumber\" style = \"font-weight: bold; text-align: right;\">3</td><td style = \"text-align: left;\">BXD24</td><td style = \"text-align: right;\">0.0</td><td style = \"text-align: right;\">0.0</td><td style = \"text-align: right;\">0.0</td><td style = \"text-align: right;\">0.0</td><td style = \"text-align: right;\">0.0</td><td style = \"text-align: right;\">0.0</td><td style = \"text-align: right;\">0.0</td><td style = \"text-align: right;\">0.0</td><td style = \"text-align: right;\">0.0</td></tr><tr><td class = \"rowNumber\" style = \"font-weight: bold; text-align: right;\">4</td><td style = \"text-align: left;\">BXD27</td><td style = \"text-align: right;\">0.0</td><td style = \"text-align: right;\">0.0</td><td style = \"text-align: right;\">0.0</td><td style = \"text-align: right;\">0.0</td><td style = \"text-align: right;\">0.0</td><td style = \"text-align: right;\">0.0</td><td style = \"text-align: right;\">0.0</td><td style = \"text-align: right;\">0.0</td><td style = \"text-align: right;\">0.0</td></tr><tr><td class = \"rowNumber\" style = \"font-weight: bold; text-align: right;\">5</td><td style = \"text-align: left;\">BXD29</td><td style = \"text-align: right;\">1.0</td><td style = \"text-align: right;\">1.0</td><td style = \"text-align: right;\">1.0</td><td style = \"text-align: right;\">1.0</td><td style = \"text-align: right;\">1.0</td><td style = \"text-align: right;\">1.0</td><td style = \"text-align: right;\">1.0</td><td style = \"text-align: right;\">1.0</td><td style = \"text-align: right;\">1.0</td></tr><tr><td class = \"rowNumber\" style = \"font-weight: bold; text-align: right;\">6</td><td style = \"text-align: left;\">BXD32</td><td style = \"text-align: right;\">0.0</td><td style = \"text-align: right;\">0.0</td><td style = \"text-align: right;\">0.0</td><td style = \"text-align: right;\">0.0</td><td style = \"text-align: right;\">0.0</td><td style = \"text-align: right;\">0.0</td><td style = \"text-align: right;\">0.0</td><td style = \"text-align: right;\">0.0</td><td style = \"text-align: right;\">0.0</td></tr><tr><td class = \"rowNumber\" style = \"font-weight: bold; text-align: right;\">7</td><td style = \"text-align: left;\">BXD34</td><td style = \"text-align: right;\">0.0</td><td style = \"text-align: right;\">0.0</td><td style = \"text-align: right;\">0.0</td><td style = \"text-align: right;\">0.0</td><td style = \"text-align: right;\">0.0</td><td style = \"text-align: right;\">0.0</td><td style = \"text-align: right;\">0.0</td><td style = \"text-align: right;\">0.0</td><td style = \"text-align: right;\">0.0</td></tr><tr><td class = \"rowNumber\" style = \"font-weight: bold; text-align: right;\">8</td><td style = \"text-align: left;\">BXD39</td><td style = \"text-align: right;\">1.0</td><td style = \"text-align: right;\">1.0</td><td style = \"text-align: right;\">1.0</td><td style = \"text-align: right;\">1.0</td><td style = \"text-align: right;\">1.0</td><td style = \"text-align: right;\">1.0</td><td style = \"text-align: right;\">1.0</td><td style = \"text-align: right;\">1.0</td><td style = \"text-align: right;\">1.0</td></tr><tr><td class = \"rowNumber\" style = \"font-weight: bold; text-align: right;\">9</td><td style = \"text-align: left;\">BXD40</td><td style = \"text-align: right;\">0.0</td><td style = \"text-align: right;\">0.0</td><td style = \"text-align: right;\">0.0</td><td style = \"text-align: right;\">0.0</td><td style = \"text-align: right;\">0.0</td><td style = \"text-align: right;\">0.0</td><td style = \"text-align: right;\">0.0</td><td style = \"text-align: right;\">0.0</td><td style = \"text-align: right;\">0.0</td></tr><tr><td class = \"rowNumber\" style = \"font-weight: bold; text-align: right;\">10</td><td style = \"text-align: left;\">BXD43</td><td style = \"text-align: right;\">0.0</td><td style = \"text-align: right;\">0.0</td><td style = \"text-align: right;\">0.0</td><td style = \"text-align: right;\">0.0</td><td style = \"text-align: right;\">0.0</td><td style = \"text-align: right;\">0.0</td><td style = \"text-align: right;\">0.0</td><td style = \"text-align: right;\">0.0</td><td style = \"text-align: right;\">0.0</td></tr></tbody></table></div>"
      ],
      "text/latex": [
       "\\begin{tabular}{r|cccccccc}\n",
       "\t& Strain & rs31443144 & rs6269442 & rs32285189 & rs258367496 & rs32430919 & rs36251697 & \\\\\n",
       "\t\\hline\n",
       "\t& String7 & Float64 & Float64 & Float64 & Float64 & Float64 & Float64 & \\\\\n",
       "\t\\hline\n",
       "\t1 & BXD9 & 0.0 & 0.0 & 0.0 & 0.0 & 0.0 & 0.0 & $\\dots$ \\\\\n",
       "\t2 & BXD13 & 0.0 & 0.0 & 0.0 & 0.0 & 0.0 & 0.0 & $\\dots$ \\\\\n",
       "\t3 & BXD24 & 0.0 & 0.0 & 0.0 & 0.0 & 0.0 & 0.0 & $\\dots$ \\\\\n",
       "\t4 & BXD27 & 0.0 & 0.0 & 0.0 & 0.0 & 0.0 & 0.0 & $\\dots$ \\\\\n",
       "\t5 & BXD29 & 1.0 & 1.0 & 1.0 & 1.0 & 1.0 & 1.0 & $\\dots$ \\\\\n",
       "\t6 & BXD32 & 0.0 & 0.0 & 0.0 & 0.0 & 0.0 & 0.0 & $\\dots$ \\\\\n",
       "\t7 & BXD34 & 0.0 & 0.0 & 0.0 & 0.0 & 0.0 & 0.0 & $\\dots$ \\\\\n",
       "\t8 & BXD39 & 1.0 & 1.0 & 1.0 & 1.0 & 1.0 & 1.0 & $\\dots$ \\\\\n",
       "\t9 & BXD40 & 0.0 & 0.0 & 0.0 & 0.0 & 0.0 & 0.0 & $\\dots$ \\\\\n",
       "\t10 & BXD43 & 0.0 & 0.0 & 0.0 & 0.0 & 0.0 & 0.0 & $\\dots$ \\\\\n",
       "\\end{tabular}\n"
      ],
      "text/plain": [
       "\u001b[1m10×10 DataFrame\u001b[0m\n",
       "\u001b[1m Row \u001b[0m│\u001b[1m Strain  \u001b[0m\u001b[1m rs31443144 \u001b[0m\u001b[1m rs6269442 \u001b[0m\u001b[1m rs32285189 \u001b[0m\u001b[1m rs258367496 \u001b[0m\u001b[1m rs32430919 \u001b[0m\u001b[1m rs\u001b[0m ⋯\n",
       "     │\u001b[90m String7 \u001b[0m\u001b[90m Float64    \u001b[0m\u001b[90m Float64   \u001b[0m\u001b[90m Float64    \u001b[0m\u001b[90m Float64     \u001b[0m\u001b[90m Float64    \u001b[0m\u001b[90m Fl\u001b[0m ⋯\n",
       "─────┼──────────────────────────────────────────────────────────────────────────\n",
       "   1 │ BXD9            0.0        0.0         0.0          0.0         0.0     ⋯\n",
       "   2 │ BXD13           0.0        0.0         0.0          0.0         0.0\n",
       "   3 │ BXD24           0.0        0.0         0.0          0.0         0.0\n",
       "   4 │ BXD27           0.0        0.0         0.0          0.0         0.0\n",
       "   5 │ BXD29           1.0        1.0         1.0          1.0         1.0     ⋯\n",
       "   6 │ BXD32           0.0        0.0         0.0          0.0         0.0\n",
       "   7 │ BXD34           0.0        0.0         0.0          0.0         0.0\n",
       "   8 │ BXD39           1.0        1.0         1.0          1.0         1.0\n",
       "   9 │ BXD40           0.0        0.0         0.0          0.0         0.0     ⋯\n",
       "  10 │ BXD43           0.0        0.0         0.0          0.0         0.0\n",
       "\u001b[36m                                                               4 columns omitted\u001b[0m"
      ]
     },
     "execution_count": 13,
     "metadata": {},
     "output_type": "execute_result"
    }
   ],
   "source": [
    "println(size(BXD_geno_strains_summary_df)) \n",
    "BXD_geno_strains_summary_df[1:10, 1:10]"
   ]
  },
  {
   "cell_type": "markdown",
   "id": "3e0e8473-c29a-42c3-a47f-a2748cd4f5d7",
   "metadata": {},
   "source": [
    "## Load functions:"
   ]
  },
  {
   "cell_type": "code",
   "execution_count": 159,
   "id": "eb9dc75b-0c40-4bf1-b24e-cb6896ae45b3",
   "metadata": {},
   "outputs": [
    {
     "data": {
      "text/plain": [
       "\"/home/zyu20/git/BulkLMM_Analyses/BXDLongevity\""
      ]
     },
     "execution_count": 159,
     "metadata": {},
     "output_type": "execute_result"
    }
   ],
   "source": [
    "pwd()"
   ]
  },
  {
   "cell_type": "code",
   "execution_count": 160,
   "id": "a41dea7c-30c4-4fb9-a78c-669f36f52b58",
   "metadata": {},
   "outputs": [
    {
     "name": "stdout",
     "output_type": "stream",
     "text": [
      "Julia Version 1.9.2\n",
      "Commit e4ee485e909 (2023-07-05 09:39 UTC)\n",
      "Platform Info:\n",
      "  OS: Linux (x86_64-linux-gnu)\n",
      "  CPU: 48 × Intel(R) Xeon(R) Silver 4214 CPU @ 2.20GHz\n",
      "  WORD_SIZE: 64\n",
      "  LIBM: libopenlibm\n",
      "  LLVM: libLLVM-14.0.6 (ORCJIT, cascadelake)\n",
      "  Threads: 25 on 48 virtual cores\n",
      "Environment:\n",
      "  JULIA_NUM_THREADS = 24\n"
     ]
    }
   ],
   "source": [
    "versioninfo()"
   ]
  },
  {
   "cell_type": "code",
   "execution_count": 210,
   "id": "f04bb842-e79c-4ec0-9d62-d7b944e6f665",
   "metadata": {},
   "outputs": [],
   "source": [
    "include(joinpath(local_path, \"kinship.jl\"));\n",
    "include(joinpath(local_path, \"util.jl\"));\n",
    "include(joinpath(local_path, \"wls.jl\"));\n",
    "include(joinpath(local_path, \"lmm.jl\"));\n",
    "include(joinpath(local_path, \"gridbrent.jl\"));\n",
    "include(joinpath(local_path, \"transform_helpers.jl\"));\n",
    "include(joinpath(local_path, \"scan.jl\"));\n",
    "include(joinpath(local_path, \"bulkscan_helpers.jl\"));\n",
    "include(joinpath(local_path, \"bulkscan.jl\"));\n",
    "include(joinpath(local_path, \"readData.jl\"));\n",
    "include(joinpath(local_path, \"analysis_helpers/single_trait_analysis.jl\"));\n",
    "include(\"../../BigRiver_util_code/src/kinship_utils.jl\");\n",
    "include(\"../../BigRiver_util_code/src/plot_utils.jl\");"
   ]
  },
  {
   "cell_type": "markdown",
   "id": "0eae3573-e769-444e-9899-98480f6f8ccd",
   "metadata": {
    "tags": []
   },
   "source": [
    "## Objectives\n",
    "\n",
    "- gemma one trait, ind and strains\n",
    "\n",
    "- scan_alt one trait, ind and strains\n",
    "\n",
    "- scan_null one trait, ind and strains\n",
    "\n",
    "- bulkscan_grid (null), all traits, ...\n",
    "\n",
    "- data structure for all traits results...\n",
    "\n",
    "- Heatmap grids_taken, compare on strain means and individuals\n",
    "\n",
    "- Histogram of heritabilities (null) for all traits (both strain means and individual level data)\n",
    "\n",
    "- Loglikelihood by h2_grid plot, strain means v.s. individuals\n",
    "\n",
    "- Report fixed effects:\n",
    "\n",
    "- Adjusting difference in the number of samples across strains\n",
    "\n",
    "- Histogram of heritabilities (null) for all traits (both strain means and individual level data)"
   ]
  },
  {
   "cell_type": "markdown",
   "id": "3fe2c576-b753-4832-810f-24f196d05587",
   "metadata": {},
   "source": [
    "## Run BulkLMM.jl:"
   ]
  },
  {
   "cell_type": "markdown",
   "id": "b21044d7-08fc-454d-9528-e1271634033d",
   "metadata": {},
   "source": [
    "### Calculate kinship:"
   ]
  },
  {
   "cell_type": "markdown",
   "id": "02df590a-330c-42cd-9683-a3ba1ff991fc",
   "metadata": {},
   "source": [
    "First, calculate the kinship matrix of relatedness among the strains (50-by-50):"
   ]
  },
  {
   "cell_type": "code",
   "execution_count": 17,
   "id": "18e76163-3e2a-40b3-b934-7ee1c9329887",
   "metadata": {},
   "outputs": [],
   "source": [
    "geno_strains = Matrix{Float64}(BXD_geno_strains_summary_df[:, 2:end]);"
   ]
  },
  {
   "cell_type": "code",
   "execution_count": 18,
   "id": "dd7d6569-ee12-4e1f-8fa4-df06d5c62ff8",
   "metadata": {},
   "outputs": [
    {
     "name": "stdout",
     "output_type": "stream",
     "text": [
      "  0.002726 seconds (9 allocations: 2.831 MiB)\n"
     ]
    }
   ],
   "source": [
    "@time kinship_strains = calcKinship(geno_strains);"
   ]
  },
  {
   "cell_type": "markdown",
   "id": "e11b6c48-a575-4948-86bf-5e40d01b79c6",
   "metadata": {},
   "source": [
    "Then, construct the kinship matrix of relatedness among the individuals based on which strain they are from:"
   ]
  },
  {
   "cell_type": "code",
   "execution_count": 19,
   "id": "1627ff49-f03c-4f7c-95bb-647d9bec26dc",
   "metadata": {},
   "outputs": [],
   "source": [
    "BXD_geno_ind_summary_df.Strain_num = Vector{Int64}(BXD_geno_ind_summary_df.Strain_num);"
   ]
  },
  {
   "cell_type": "code",
   "execution_count": 20,
   "id": "1526e203-063f-4897-9d25-a493b3c62c30",
   "metadata": {},
   "outputs": [],
   "source": [
    "kinship_ind_from_strains = calcIndKinship_from_StrainKinship(kinship_strains, BXD_geno_ind_summary_df.Strain_num);"
   ]
  },
  {
   "cell_type": "markdown",
   "id": "19b9c567-b404-429c-a3a6-6053ffec44d4",
   "metadata": {},
   "source": [
    "### Single-trait genome scans:"
   ]
  },
  {
   "cell_type": "markdown",
   "id": "bcbd89b9-2ad3-40a8-8e8d-81512875debb",
   "metadata": {},
   "source": [
    "To see single trait genome scan results, we take the 29437-th livear proteomic as the single trait to run analysis:  "
   ]
  },
  {
   "cell_type": "code",
   "execution_count": 21,
   "id": "547fc3eb-99e8-43b7-a7dd-bb0d3073b3b5",
   "metadata": {},
   "outputs": [],
   "source": [
    "lp_names = names(BXD_pheno_ind_summary_df)[4:end];"
   ]
  },
  {
   "cell_type": "code",
   "execution_count": 22,
   "id": "07a1bf7c-d333-4826-ab63-513f87006589",
   "metadata": {},
   "outputs": [
    {
     "data": {
      "text/plain": [
       "\"Q9Z2I8_SSGLPITSAVDLEDAAK_3\""
      ]
     },
     "execution_count": 22,
     "metadata": {},
     "output_type": "execute_result"
    }
   ],
   "source": [
    "lp_id = 29437;\n",
    "lp_names[lp_id]"
   ]
  },
  {
   "cell_type": "code",
   "execution_count": 23,
   "id": "10b8a21f-65a2-442f-bdd4-fbb0f7e2feaf",
   "metadata": {},
   "outputs": [],
   "source": [
    "prior = [1.0, 0.0];"
   ]
  },
  {
   "cell_type": "markdown",
   "id": "fb6aa497-38b0-4c8e-9582-c675019bfcfc",
   "metadata": {},
   "source": [
    "#### For individual liver proteome"
   ]
  },
  {
   "cell_type": "code",
   "execution_count": 24,
   "id": "d5f97779-e35c-4373-91ae-b9f003c5c280",
   "metadata": {},
   "outputs": [],
   "source": [
    "geno_ind = Matrix{Float64}(BXD_geno_ind_summary_df[:, 4:end]);"
   ]
  },
  {
   "cell_type": "code",
   "execution_count": 25,
   "id": "f9e6bc67-fc56-47ae-aa0c-df73658709b0",
   "metadata": {},
   "outputs": [],
   "source": [
    "lp_ind_Y = Matrix{Float64}(BXD_pheno_ind_summary_df[:, 4:end]);\n",
    "lp_ind_y = reshape(lp_ind_Y[:, lp_id], :, 1);"
   ]
  },
  {
   "cell_type": "code",
   "execution_count": 26,
   "id": "ebaaef2c-8973-42e0-b527-c23d8c73ae40",
   "metadata": {},
   "outputs": [],
   "source": [
    "lpst_ind_Y = colStandardize(lp_ind_Y);\n",
    "lpst_ind_y = reshape(lpst_ind_Y[:, lp_id], :, 1);"
   ]
  },
  {
   "cell_type": "code",
   "execution_count": 27,
   "id": "fb383cb0-71d2-45ea-97ba-b5d685e69607",
   "metadata": {},
   "outputs": [
    {
     "name": "stdout",
     "output_type": "stream",
     "text": [
      "  0.516683 seconds (171.60 k allocations: 140.872 MiB, 16.61% gc time, 46.33% compilation time)\n"
     ]
    }
   ],
   "source": [
    "@time scan_results_ind = scan(lpst_ind_y, geno_ind, kinship_ind_from_strains;\n",
    "                              prior_variance = 1.0, prior_sample_size = 0.1, reml = true);"
   ]
  },
  {
   "cell_type": "code",
   "execution_count": 28,
   "id": "b44968a6-e24e-46bc-99c1-c5f5a8599e96",
   "metadata": {},
   "outputs": [
    {
     "name": "stdout",
     "output_type": "stream",
     "text": [
      "  3.194989 seconds (3.06 M allocations: 3.367 GiB, 10.08% gc time, 0.66% compilation time)\n"
     ]
    }
   ],
   "source": [
    "@time scan_results_ind_alt = scan(lpst_ind_y, geno_ind, kinship_ind_from_strains;\n",
    "                                  assumption = \"alt\", \n",
    "                                  prior_variance = prior[1], prior_sample_size = prior[2], reml = true);"
   ]
  },
  {
   "cell_type": "code",
   "execution_count": 29,
   "id": "4eb97040-9b9d-4b6a-b8c1-b497f16cd24b",
   "metadata": {},
   "outputs": [
    {
     "name": "stdout",
     "output_type": "stream",
     "text": [
      "  0.738497 seconds (882.90 k allocations: 274.446 MiB, 6.33% gc time, 426.31% compilation time)\n"
     ]
    }
   ],
   "source": [
    "@time scan_perms_results_ind = scan(lpst_ind_y, geno_ind, kinship_ind_from_strains;\n",
    "                                    prior_variance = prior[1], prior_sample_size = prior[2],\n",
    "                                    permutation_test = true, nperms = 1000, reml = true);"
   ]
  },
  {
   "cell_type": "code",
   "execution_count": 30,
   "id": "703432c5-882d-4ec7-a9b9-818c1ed4b08e",
   "metadata": {},
   "outputs": [],
   "source": [
    "single_results_ind = DataFrame(hcat(scan_results_ind.lod, scan_results_ind_alt.lod, scan_perms_results_ind.lod), [\"scan_null\", \"scan_alt\", \"scan_perms.original\"]);"
   ]
  },
  {
   "cell_type": "code",
   "execution_count": 31,
   "id": "1003eae2-dd56-42dd-9da9-5a218b38e37b",
   "metadata": {},
   "outputs": [
    {
     "data": {
      "text/html": [
       "<div><div style = \"float: left;\"><span>6×3 DataFrame</span></div><div style = \"clear: both;\"></div></div><div class = \"data-frame\" style = \"overflow-x: scroll;\"><table class = \"data-frame\" style = \"margin-bottom: 6px;\"><thead><tr class = \"header\"><th class = \"rowNumber\" style = \"font-weight: bold; text-align: right;\">Row</th><th style = \"text-align: left;\">scan_null</th><th style = \"text-align: left;\">scan_alt</th><th style = \"text-align: left;\">scan_perms.original</th></tr><tr class = \"subheader headerLastRow\"><th class = \"rowNumber\" style = \"font-weight: bold; text-align: right;\"></th><th title = \"Float64\" style = \"text-align: left;\">Float64</th><th title = \"Float64\" style = \"text-align: left;\">Float64</th><th title = \"Float64\" style = \"text-align: left;\">Float64</th></tr></thead><tbody><tr><td class = \"rowNumber\" style = \"font-weight: bold; text-align: right;\">1</td><td style = \"text-align: right;\">0.42274</td><td style = \"text-align: right;\">0.43496</td><td style = \"text-align: right;\">0.422737</td></tr><tr><td class = \"rowNumber\" style = \"font-weight: bold; text-align: right;\">2</td><td style = \"text-align: right;\">0.42274</td><td style = \"text-align: right;\">0.43496</td><td style = \"text-align: right;\">0.422737</td></tr><tr><td class = \"rowNumber\" style = \"font-weight: bold; text-align: right;\">3</td><td style = \"text-align: right;\">0.42274</td><td style = \"text-align: right;\">0.43496</td><td style = \"text-align: right;\">0.422737</td></tr><tr><td class = \"rowNumber\" style = \"font-weight: bold; text-align: right;\">4</td><td style = \"text-align: right;\">0.42274</td><td style = \"text-align: right;\">0.43496</td><td style = \"text-align: right;\">0.422737</td></tr><tr><td class = \"rowNumber\" style = \"font-weight: bold; text-align: right;\">5</td><td style = \"text-align: right;\">0.42274</td><td style = \"text-align: right;\">0.43496</td><td style = \"text-align: right;\">0.422737</td></tr><tr><td class = \"rowNumber\" style = \"font-weight: bold; text-align: right;\">6</td><td style = \"text-align: right;\">0.42274</td><td style = \"text-align: right;\">0.43496</td><td style = \"text-align: right;\">0.422737</td></tr></tbody></table></div>"
      ],
      "text/latex": [
       "\\begin{tabular}{r|ccc}\n",
       "\t& scan\\_null & scan\\_alt & scan\\_perms.original\\\\\n",
       "\t\\hline\n",
       "\t& Float64 & Float64 & Float64\\\\\n",
       "\t\\hline\n",
       "\t1 & 0.42274 & 0.43496 & 0.422737 \\\\\n",
       "\t2 & 0.42274 & 0.43496 & 0.422737 \\\\\n",
       "\t3 & 0.42274 & 0.43496 & 0.422737 \\\\\n",
       "\t4 & 0.42274 & 0.43496 & 0.422737 \\\\\n",
       "\t5 & 0.42274 & 0.43496 & 0.422737 \\\\\n",
       "\t6 & 0.42274 & 0.43496 & 0.422737 \\\\\n",
       "\\end{tabular}\n"
      ],
      "text/plain": [
       "\u001b[1m6×3 DataFrame\u001b[0m\n",
       "\u001b[1m Row \u001b[0m│\u001b[1m scan_null \u001b[0m\u001b[1m scan_alt \u001b[0m\u001b[1m scan_perms.original \u001b[0m\n",
       "     │\u001b[90m Float64   \u001b[0m\u001b[90m Float64  \u001b[0m\u001b[90m Float64             \u001b[0m\n",
       "─────┼──────────────────────────────────────────\n",
       "   1 │   0.42274   0.43496             0.422737\n",
       "   2 │   0.42274   0.43496             0.422737\n",
       "   3 │   0.42274   0.43496             0.422737\n",
       "   4 │   0.42274   0.43496             0.422737\n",
       "   5 │   0.42274   0.43496             0.422737\n",
       "   6 │   0.42274   0.43496             0.422737"
      ]
     },
     "execution_count": 31,
     "metadata": {},
     "output_type": "execute_result"
    }
   ],
   "source": [
    "single_results_ind[1:6, :]"
   ]
  },
  {
   "cell_type": "markdown",
   "id": "02074d3d-dfce-4b1d-a559-e03508615ca3",
   "metadata": {},
   "source": [
    "#### For liver proteome means by strains"
   ]
  },
  {
   "cell_type": "code",
   "execution_count": 216,
   "id": "4b51bafb-a1de-41c5-9f0d-b708b4972cdb",
   "metadata": {},
   "outputs": [],
   "source": [
    "lp_strains_Y = Matrix{Float64}(BXD_pheno_strains_summary_df[:, 3:end]);\n",
    "lp_strains_y = reshape(lp_strains_Y[:, lp_id], :, 1);"
   ]
  },
  {
   "cell_type": "code",
   "execution_count": 217,
   "id": "3fb63f6a-afd6-470f-aceb-cea72c5cba2b",
   "metadata": {},
   "outputs": [],
   "source": [
    "lpst_strains_Y = colStandardize(lp_strains_Y);\n",
    "lpst_strains_y = reshape(lpst_strains_Y[:, lp_id], :, 1);"
   ]
  },
  {
   "cell_type": "code",
   "execution_count": null,
   "id": "8d181cef-df57-4e17-b4bc-f7c6a8a41d2f",
   "metadata": {},
   "outputs": [],
   "source": [
    "@time scan_results_strains = scan(lpst_strains_y, geno_strains, kinship_strains; \n",
    "                                  prior_variance = prior[1], prior_sample_size = prior[2],\n",
    "                                  optim_interval = 4);"
   ]
  },
  {
   "cell_type": "code",
   "execution_count": null,
   "id": "558a9947-1e61-402e-90da-5a8c1cae15c7",
   "metadata": {},
   "outputs": [],
   "source": [
    "@time scan_results_strains_alt = scan(lpst_strains_y, geno_strains, kinship_strains;\n",
    "                                      assumption = \"alt\",\n",
    "                                      prior_variance = prior[1], prior_sample_size = prior[2]);"
   ]
  },
  {
   "cell_type": "code",
   "execution_count": null,
   "id": "f7e7ec8e-7352-4fef-a22c-d61e90fbae53",
   "metadata": {},
   "outputs": [],
   "source": [
    "@time scan_perms_results_strains = scan(lpst_strains_y, geno_strains, kinship_strains;\n",
    "                                        permutation_test = true, nperms = 1000, \n",
    "                                        prior_variance = prior[1], prior_sample_size = prior[2]);"
   ]
  },
  {
   "cell_type": "code",
   "execution_count": null,
   "id": "ef7d8e30-dfea-47f0-a7ff-ae966a9594b9",
   "metadata": {},
   "outputs": [],
   "source": [
    "single_results_strains = DataFrame(hcat(scan_results_strains.lod, scan_results_strains_alt.lod, scan_perms_results_strains.lod), [\"scan_null\", \"scan_alt\", \"scan_perms.original\"]);"
   ]
  },
  {
   "cell_type": "code",
   "execution_count": null,
   "id": "cd32ad3e-95f0-4169-a7b7-1b1b28b48f6c",
   "metadata": {},
   "outputs": [],
   "source": [
    "single_results_strains[1:6, :]"
   ]
  },
  {
   "cell_type": "markdown",
   "id": "e581b199-d92b-4b4a-950f-888df22eb3f2",
   "metadata": {},
   "source": [
    "### Multiple-trait genome scans:"
   ]
  },
  {
   "cell_type": "code",
   "execution_count": null,
   "id": "cd08a07d-6a5c-45e0-a9a3-2aa199495c2a",
   "metadata": {},
   "outputs": [],
   "source": [
    "BLAS.set_num_threads(Threads.nthreads())"
   ]
  },
  {
   "cell_type": "code",
   "execution_count": null,
   "id": "e02cca07-1c96-4fa6-89a5-4582abc864f1",
   "metadata": {},
   "outputs": [],
   "source": [
    "BLAS.get_num_threads()"
   ]
  },
  {
   "cell_type": "markdown",
   "id": "ab3642a0-1b20-4116-bf2f-cc2b507ccfd6",
   "metadata": {},
   "source": [
    "using a grid of stepsize 0.10, 0.05, 0.01..."
   ]
  },
  {
   "cell_type": "code",
   "execution_count": null,
   "id": "9e3a1704-b3e3-4f1d-8ace-ba06a4e5b8db",
   "metadata": {},
   "outputs": [],
   "source": [
    "grid_list10 = collect(0:9).*0.1;\n",
    "grid_list20 = collect(0.0:0.05:0.95);\n",
    "grid_list100 = collect(0.0:0.01:0.99);"
   ]
  },
  {
   "cell_type": "markdown",
   "id": "15398327-2dcb-4168-8f30-a8bc4c3957ae",
   "metadata": {},
   "source": [
    "#### For individual liver proteome"
   ]
  },
  {
   "cell_type": "code",
   "execution_count": 32,
   "id": "e3ffddcb-2dfb-4442-a569-a50ef65a4276",
   "metadata": {},
   "outputs": [
    {
     "data": {
      "text/plain": [
       "(248, 32445)"
      ]
     },
     "execution_count": 32,
     "metadata": {},
     "output_type": "execute_result"
    }
   ],
   "source": [
    "size(lpst_ind_Y)"
   ]
  },
  {
   "cell_type": "code",
   "execution_count": 33,
   "id": "743c155d-79e5-4dad-9c70-045bced69678",
   "metadata": {},
   "outputs": [
    {
     "ename": "LoadError",
     "evalue": "UndefVarError: `lpst_strains_Y` not defined",
     "output_type": "error",
     "traceback": [
      "UndefVarError: `lpst_strains_Y` not defined",
      "",
      "Stacktrace:",
      " [1] top-level scope",
      "   @ In[33]:1"
     ]
    }
   ],
   "source": [
    "size(lpst_strains_Y)"
   ]
  },
  {
   "cell_type": "code",
   "execution_count": 34,
   "id": "2a304cb3-24ef-483e-a3ee-9ac484b2c3fb",
   "metadata": {},
   "outputs": [
    {
     "name": "stdout",
     "output_type": "stream",
     "text": [
      "103.410948 seconds (26.62 M allocations: 1.744 TiB, 6.74% gc time, 33.83% compilation time)\n"
     ]
    }
   ],
   "source": [
    "@time bulkscan_results_ind_null = bulkscan(lp_ind_Y, geno_ind, kinship_ind_from_strains; \n",
    "                                           method = \"null-exact\", reml = true);"
   ]
  },
  {
   "cell_type": "code",
   "execution_count": 35,
   "id": "0a73fb1d-8e91-4cc8-a227-236ceda8f66b",
   "metadata": {},
   "outputs": [],
   "source": [
    "BLAS.set_num_threads(Threads.nthreads())"
   ]
  },
  {
   "cell_type": "code",
   "execution_count": null,
   "id": "dadb68d8-a97b-4300-9be3-f37b203439d5",
   "metadata": {},
   "outputs": [],
   "source": [
    "BLAS.get_num_threads()"
   ]
  },
  {
   "cell_type": "code",
   "execution_count": null,
   "id": "d1e51d0d-ffe1-4524-ba62-ca698850112e",
   "metadata": {},
   "outputs": [],
   "source": [
    "@time bulkscan_results_ind_null_grid10 = bulkscan(lp_ind_Y, geno_ind, kinship_ind_from_strains; \n",
    "                                                  method = \"null-grid\", reml = true);"
   ]
  },
  {
   "cell_type": "code",
   "execution_count": null,
   "id": "44d2515c-83a5-419a-a1d1-5e9151ceacc2",
   "metadata": {},
   "outputs": [],
   "source": [
    "@time bulkscan_results_ind_alt_grid10 = bulkscan(lp_ind_Y, geno_ind, kinship_ind_from_strains; \n",
    "                                                 method = \"alt-grid\", reml = true);"
   ]
  },
  {
   "cell_type": "code",
   "execution_count": null,
   "id": "b6fb75f6-0c58-4a9d-a5cc-9dd123d167dd",
   "metadata": {},
   "outputs": [],
   "source": [
    "#=\n",
    "@time bulkscan_results_ind_alt_grid20 = bulkscan_alt_grid(lp_ind_Y, geno_ind, kinship_ind_from_strains, grid_list20;\n",
    "                                                          reml = true);\n",
    "=#"
   ]
  },
  {
   "cell_type": "code",
   "execution_count": null,
   "id": "d8960fe3-03b5-4533-8eeb-9594e76ae117",
   "metadata": {},
   "outputs": [],
   "source": [
    "@time bulkscan_results_ind_alt_grid100 = bulkscan(lp_ind_Y, geno_ind, kinship_ind_from_strains;\n",
    "                                                  method = \"alt-grid\",\n",
    "                                                  h2_grid = collect(0.0:0.01:0.99),\n",
    "                                                  reml = true);"
   ]
  },
  {
   "cell_type": "code",
   "execution_count": null,
   "id": "346bbf28-19e0-4dd7-991d-b44bc6921ea6",
   "metadata": {},
   "outputs": [],
   "source": []
  },
  {
   "cell_type": "code",
   "execution_count": null,
   "id": "c8b20542-0959-472e-9ae8-df190723e01e",
   "metadata": {},
   "outputs": [],
   "source": [
    "@time bulkscan_results_ind_null_grid10 = bulkscan_null_grid(lp_ind_Y, geno_ind, kinship_ind_from_strains, grid_list10; \n",
    "                                                            reml = true);"
   ]
  },
  {
   "cell_type": "code",
   "execution_count": null,
   "id": "686dd260-adb3-4288-94e0-47b591fe2080",
   "metadata": {},
   "outputs": [],
   "source": [
    "@time bulkscan_results_ind_null_grid20 = bulkscan_null_grid(lp_ind_Y, geno_ind, kinship_ind_from_strains, grid_list20;\n",
    "                                                            reml = true);"
   ]
  },
  {
   "cell_type": "code",
   "execution_count": null,
   "id": "d82d63c8-0055-416e-aab9-05d2e76f6397",
   "metadata": {},
   "outputs": [],
   "source": [
    "@time bulkscan_results_ind_null_grid100 = bulkscan_null_grid(lp_ind_Y, geno_ind, kinship_ind_from_strains, grid_list100;\n",
    "                                                             reml = true);"
   ]
  },
  {
   "cell_type": "code",
   "execution_count": null,
   "id": "516d76d7-b3d0-46b3-a5f4-76d5f6a7991b",
   "metadata": {},
   "outputs": [],
   "source": [
    "# writedlm(\"output/bulklmm_L_ind_null_grid10.txt\", bulkscan_results_ind_null_grid10.L, '\\t')"
   ]
  },
  {
   "cell_type": "code",
   "execution_count": null,
   "id": "f7521712-5735-45fe-91fe-755fc25c3f10",
   "metadata": {},
   "outputs": [],
   "source": [
    "# writedlm(\"output/bulklmm_L_ind_null_grid20.txt\", bulkscan_results_ind_null_grid20.L, '\\t')"
   ]
  },
  {
   "cell_type": "code",
   "execution_count": null,
   "id": "7063c3f2-5f43-427c-8374-d40ccc855993",
   "metadata": {},
   "outputs": [],
   "source": [
    "# writedlm(\"output/bulklmm_L_ind_null_grid100.txt\", bulkscan_results_ind_null_grid100.L, '\\t')"
   ]
  },
  {
   "cell_type": "markdown",
   "id": "f69ba271-fe23-4764-9186-4167a256a964",
   "metadata": {},
   "source": [
    "#### For liver proteome means by strains"
   ]
  },
  {
   "cell_type": "code",
   "execution_count": null,
   "id": "f1d7f72c-5fd7-4135-94d0-7afaf3c8e396",
   "metadata": {},
   "outputs": [],
   "source": [
    "@time bulkscan_results_strains_null = bulkscan_null(lpst_strains_Y, geno_strains, kinship_strains; nb = Threads.nthreads(),\n",
    "                                                     prior_variance = 1.0, prior_sample_size = 0.0, optim_interval = 1);"
   ]
  },
  {
   "cell_type": "code",
   "execution_count": null,
   "id": "a1231e79-a93f-4fc7-8927-033d0dc5bf93",
   "metadata": {},
   "outputs": [],
   "source": [
    "BLAS.set_num_threads(Threads.nthreads())"
   ]
  },
  {
   "cell_type": "code",
   "execution_count": null,
   "id": "72a4ee75-e32b-4f97-b062-55afb687f85c",
   "metadata": {},
   "outputs": [],
   "source": [
    "@time bulkscan_results_strains_alt_grid = bulkscan_alt_grid(lpst_strains_Y, geno_strains, kinship_strains, grid_list10);"
   ]
  },
  {
   "cell_type": "code",
   "execution_count": null,
   "id": "bd1ea493-2cc3-4e3c-9f4c-8faaf7cc10d2",
   "metadata": {},
   "outputs": [],
   "source": [
    "@time bulkscan_results_strains_null_grid = bulkscan_null_grid(lpst_strains_Y, geno_strains, kinship_strains, grid_list10;\n",
    "                                                              prior_variance = 1.0, prior_sample_size = 0.0);"
   ]
  },
  {
   "cell_type": "code",
   "execution_count": null,
   "id": "d7680b96-f668-4e29-88c0-08bc226fb795",
   "metadata": {},
   "outputs": [],
   "source": [
    "pwd()"
   ]
  },
  {
   "cell_type": "code",
   "execution_count": null,
   "id": "7af0bcb8-0a13-409a-84b7-3054d9f7e76a",
   "metadata": {},
   "outputs": [],
   "source": []
  },
  {
   "cell_type": "markdown",
   "id": "dd50f48e-3827-468e-b37c-77f46bf861ca",
   "metadata": {},
   "source": [
    "#### Compare with linear models:"
   ]
  },
  {
   "cell_type": "code",
   "execution_count": null,
   "id": "57c99b62-9278-438c-960d-e4278c744435",
   "metadata": {},
   "outputs": [],
   "source": [
    "kinship_id = diagm(ones(size(lpst_ind_Y, 1)));"
   ]
  },
  {
   "cell_type": "code",
   "execution_count": null,
   "id": "6a53b05a-fa31-4f3e-8e87-f36568471351",
   "metadata": {},
   "outputs": [],
   "source": [
    "bulkscan_results_ind_null_grid.L"
   ]
  },
  {
   "cell_type": "code",
   "execution_count": null,
   "id": "c28bb17c-598d-41ae-bb0f-ba0c9a82ff9c",
   "metadata": {},
   "outputs": [],
   "source": [
    "@time bulkscan_results_ind_null_grid_id = bulkscan_null_grid(lpst_ind_Y, geno_ind, kinship_id, grid_list100;\n",
    "                                                             prior_variance = 1.0, prior_sample_size = 0.0,\n",
    "                                                             reml = true);"
   ]
  },
  {
   "cell_type": "code",
   "execution_count": null,
   "id": "eb79c0aa-c7c1-4d70-a88f-1f8159b0ca2a",
   "metadata": {},
   "outputs": [],
   "source": [
    "mean(bulkscan_results_ind_null_grid.L .- bulkscan_results_ind_null_grid_id.L .> 0.0)"
   ]
  },
  {
   "cell_type": "code",
   "execution_count": null,
   "id": "5958d12b-0e5e-47e0-9945-57e4005b13f5",
   "metadata": {},
   "outputs": [],
   "source": []
  },
  {
   "cell_type": "code",
   "execution_count": null,
   "id": "854ead6c-0f05-4a68-81bd-1fcd71c8af0d",
   "metadata": {},
   "outputs": [],
   "source": []
  },
  {
   "cell_type": "markdown",
   "id": "c0c0d52b-1a02-490b-b7da-ef1f8f588963",
   "metadata": {},
   "source": [
    "### Peformance check:"
   ]
  },
  {
   "cell_type": "markdown",
   "id": "4d7af6d1-d09d-4630-a940-a98d7753e7c5",
   "metadata": {},
   "source": [
    "#### Individual data:\n",
    "- n = 248\n",
    "- m = 32445\n",
    "- p = 7321"
   ]
  },
  {
   "cell_type": "code",
   "execution_count": 162,
   "id": "5186431f-99e3-4c56-8896-30e9cf2ad037",
   "metadata": {},
   "outputs": [
    {
     "data": {
      "text/plain": [
       "(248, 32445)"
      ]
     },
     "execution_count": 162,
     "metadata": {},
     "output_type": "execute_result"
    }
   ],
   "source": [
    "size(lpst_ind_Y)"
   ]
  },
  {
   "cell_type": "code",
   "execution_count": 163,
   "id": "2c806f81-2571-41e4-9ec5-af3a0a6af603",
   "metadata": {},
   "outputs": [
    {
     "data": {
      "text/plain": [
       "(248, 7321)"
      ]
     },
     "execution_count": 163,
     "metadata": {},
     "output_type": "execute_result"
    }
   ],
   "source": [
    "size(geno_ind)"
   ]
  },
  {
   "cell_type": "code",
   "execution_count": null,
   "id": "6d621b15-97bb-40b5-be00-fb1911fcce22",
   "metadata": {},
   "outputs": [],
   "source": [
    "@benchmark scan(lpst_ind_y, geno_ind, kinship_ind_from_strains)"
   ]
  },
  {
   "cell_type": "code",
   "execution_count": null,
   "id": "2ab53d50-2533-4e72-a213-c40574d137af",
   "metadata": {},
   "outputs": [],
   "source": [
    "@benchmark scan(lpst_ind_y, geno_ind, kinship_ind_from_strains;\n",
    "                prior_variance = 1.0, prior_sample_size = 0.1)"
   ]
  },
  {
   "cell_type": "code",
   "execution_count": null,
   "id": "9499d1c5-b7e0-4b80-8bb4-74a7449de503",
   "metadata": {},
   "outputs": [],
   "source": [
    "@benchmark scan(lpst_ind_y, geno_ind, kinship_ind_from_strains;\n",
    "                assumption = \"alt\")"
   ]
  },
  {
   "cell_type": "code",
   "execution_count": null,
   "id": "4358dedc-6d98-447c-a2bc-baf166f73f36",
   "metadata": {},
   "outputs": [],
   "source": [
    "@benchmark scan(lpst_ind_y, geno_ind, kinship_ind_from_strains;\n",
    "                assumption = \"alt\", \n",
    "                prior_variance = 1.0, prior_sample_size = 0.1)"
   ]
  },
  {
   "cell_type": "code",
   "execution_count": null,
   "id": "ebbfc9a4-fd99-4394-8b19-cf5419b58093",
   "metadata": {},
   "outputs": [],
   "source": [
    "BLAS.get_num_threads()"
   ]
  },
  {
   "cell_type": "code",
   "execution_count": null,
   "id": "c1797da7-2e71-4170-b169-15ff506828b6",
   "metadata": {},
   "outputs": [],
   "source": [
    "@time bulkscan(lpst_ind_Y, geno_ind, kinship_ind_from_strains;\n",
    "               method = \"null-exact\", \n",
    "               prior_variance = 1.0, prior_sample_size = 0.1);"
   ]
  },
  {
   "cell_type": "code",
   "execution_count": null,
   "id": "e8f83331-3787-4650-a709-da6dd7bc8114",
   "metadata": {},
   "outputs": [],
   "source": [
    "BLAS.set_num_threads(Threads.nthreads())"
   ]
  },
  {
   "cell_type": "code",
   "execution_count": null,
   "id": "4b2b56a7-c183-4ce6-8d82-2cca9bb02bc4",
   "metadata": {},
   "outputs": [],
   "source": [
    "@benchmark bulkscan(lpst_ind_Y, geno_ind, kinship_ind_from_strains;\n",
    "               method = \"null-grid\",\n",
    "               prior_variance = 1.0, prior_sample_size = 0.1)"
   ]
  },
  {
   "cell_type": "code",
   "execution_count": null,
   "id": "e682bcd8-8ac6-4c0d-8014-c1db495af0ff",
   "metadata": {},
   "outputs": [],
   "source": [
    "@benchmark bulkscan(lpst_ind_Y, geno_ind, kinship_ind_from_strains;\n",
    "               method = \"alt-grid\", \n",
    "               prior_variance = 1.0, prior_sample_size = 0.1)"
   ]
  },
  {
   "cell_type": "markdown",
   "id": "d689cc87-01de-4f41-9193-55cd1201769c",
   "metadata": {},
   "source": [
    "#### Strain mean data:\n",
    "- n = 50\n",
    "- m = 32445\n",
    "- p = 7321"
   ]
  },
  {
   "cell_type": "code",
   "execution_count": null,
   "id": "a7f55341-5d16-48f3-b3f7-7c2c71077963",
   "metadata": {},
   "outputs": [],
   "source": [
    "size(lpst_strains_Y)"
   ]
  },
  {
   "cell_type": "code",
   "execution_count": null,
   "id": "63889131-bb18-48fc-ad89-51b10d4e7ade",
   "metadata": {},
   "outputs": [],
   "source": [
    "size(geno_strains)"
   ]
  },
  {
   "cell_type": "code",
   "execution_count": null,
   "id": "2f8084a6-9ce3-429d-bf82-33d5ca370310",
   "metadata": {},
   "outputs": [],
   "source": [
    "@benchmark scan(lpst_strains_y, geno_strains, kinship_strains)"
   ]
  },
  {
   "cell_type": "code",
   "execution_count": null,
   "id": "1cf2be31-f3b9-4bda-a321-2c31143c1d01",
   "metadata": {},
   "outputs": [],
   "source": [
    "@benchmark scan(lpst_strains_y, geno_strains, kinship_strains;\n",
    "                prior_variance = 1.0, prior_sample_size = 0.1)"
   ]
  },
  {
   "cell_type": "code",
   "execution_count": null,
   "id": "a9208929-b7ff-4b46-8036-38ef5bc98b9b",
   "metadata": {},
   "outputs": [],
   "source": [
    "@benchmark scan(lpst_strains_y, geno_strains, kinship_strains;\n",
    "                assumption = \"alt\")"
   ]
  },
  {
   "cell_type": "code",
   "execution_count": null,
   "id": "59ec3b0a-0981-43fb-afd8-486533718672",
   "metadata": {},
   "outputs": [],
   "source": [
    "@benchmark scan(lpst_strains_y, geno_strains, kinship_strains;\n",
    "                assumption = \"alt\", \n",
    "                prior_variance = 1.0, prior_sample_size = 0.1)"
   ]
  },
  {
   "cell_type": "code",
   "execution_count": null,
   "id": "b57d1674-2115-4268-8fc3-42d8de8bd516",
   "metadata": {},
   "outputs": [],
   "source": [
    "BLAS.get_num_threads()"
   ]
  },
  {
   "cell_type": "code",
   "execution_count": null,
   "id": "28a7b019-24c9-4b1a-a032-718badc2c1d5",
   "metadata": {},
   "outputs": [],
   "source": [
    "@time bulkscan_null(lpst_strains_Y, geno_strains, kinship_strains,\n",
    "                    prior_variance = 1.0, prior_sample_size = 0.1);"
   ]
  },
  {
   "cell_type": "code",
   "execution_count": null,
   "id": "34aa6121-f875-41d0-8e69-282a2681e1aa",
   "metadata": {},
   "outputs": [],
   "source": [
    "grid_perf = collect(0.0:0.05:0.95);"
   ]
  },
  {
   "cell_type": "code",
   "execution_count": null,
   "id": "4140582e-4fda-4e98-9dca-511ae9ee953d",
   "metadata": {},
   "outputs": [],
   "source": [
    "grid_ = collect(0.0:0.05:0.95);"
   ]
  },
  {
   "cell_type": "code",
   "execution_count": null,
   "id": "0cb27837-a1a5-45fb-8ba1-283e8f887c24",
   "metadata": {},
   "outputs": [],
   "source": [
    "@benchmark bulkscan_null_grid(lpst_strains_Y, geno_strains, kinship_strains, grid_perf;\n",
    "                              prior_variance = 1.0, prior_sample_size = 0.1)"
   ]
  },
  {
   "cell_type": "code",
   "execution_count": null,
   "id": "dd5795d1-b5d0-4f83-8b64-7c0ba98409ba",
   "metadata": {},
   "outputs": [],
   "source": [
    "@benchmark bulkscan_alt_grid(lpst_strains_Y, geno_strains, kinship_strains, grid_perf)"
   ]
  },
  {
   "cell_type": "code",
   "execution_count": null,
   "id": "ca4d6441-04f3-4841-8eb8-6dfd31cd10bd",
   "metadata": {},
   "outputs": [],
   "source": [
    "grid_fine = collect(0.00:0.01:0.99);"
   ]
  },
  {
   "cell_type": "markdown",
   "id": "21f35e19-11c5-41f7-ab6f-2c6aaf198973",
   "metadata": {},
   "source": [
    "## Compare with GEMMA:"
   ]
  },
  {
   "cell_type": "code",
   "execution_count": 37,
   "id": "941b09df-cd4a-4548-ba1a-d8ec3babf67e",
   "metadata": {},
   "outputs": [],
   "source": [
    "include(\"../../BigRiver_util_code/src/run_gemma_utils.jl\");"
   ]
  },
  {
   "cell_type": "code",
   "execution_count": 38,
   "id": "7c134838-3aeb-40a0-88ec-7d543ffc176a",
   "metadata": {},
   "outputs": [
    {
     "data": {
      "text/plain": [
       "32445"
      ]
     },
     "execution_count": 38,
     "metadata": {},
     "output_type": "execute_result"
    }
   ],
   "source": [
    "m = size(lpst_ind_Y, 2)"
   ]
  },
  {
   "cell_type": "code",
   "execution_count": 39,
   "id": "4352fef7-b044-4d9c-9900-26f59c23d04f",
   "metadata": {},
   "outputs": [
    {
     "data": {
      "text/plain": [
       "7321"
      ]
     },
     "execution_count": 39,
     "metadata": {},
     "output_type": "execute_result"
    }
   ],
   "source": [
    "p = size(geno_ind, 2)"
   ]
  },
  {
   "cell_type": "code",
   "execution_count": 40,
   "id": "a5985b32-b239-41c8-b9f5-00abbf9e8864",
   "metadata": {},
   "outputs": [
    {
     "data": {
      "text/plain": [
       "1000-element Vector{Int64}:\n",
       "  8203\n",
       "   889\n",
       "   699\n",
       " 23309\n",
       " 20495\n",
       " 16822\n",
       " 19001\n",
       "  3783\n",
       "  7407\n",
       " 16682\n",
       "  8547\n",
       "  1260\n",
       "  6436\n",
       "     ⋮\n",
       " 24501\n",
       "  7848\n",
       " 23230\n",
       "  1742\n",
       " 28677\n",
       " 16358\n",
       "  2786\n",
       " 22274\n",
       "  1747\n",
       "  3864\n",
       " 25541\n",
       "  1157"
      ]
     },
     "execution_count": 40,
     "metadata": {},
     "output_type": "execute_result"
    }
   ],
   "source": [
    "# samples = sample(1:m, 1000);\n",
    "samples = Int.(readdlm(\"output/samples1000.txt\")) |> vec"
   ]
  },
  {
   "cell_type": "code",
   "execution_count": 41,
   "id": "ae559e5c-5865-4c1a-a25b-4f67b0a251d6",
   "metadata": {},
   "outputs": [],
   "source": [
    "marker_names = names(BXD_geno_strains_summary_df)[2:end];"
   ]
  },
  {
   "cell_type": "markdown",
   "id": "e313d781-927f-4c47-bad5-635ca5f6106e",
   "metadata": {},
   "source": [
    "#### strains:"
   ]
  },
  {
   "cell_type": "code",
   "execution_count": null,
   "id": "cb532138-90dc-4636-930b-0b8ac469b8af",
   "metadata": {},
   "outputs": [],
   "source": [
    "pheno_strains_subset = lpst_strains_Y[:, samples];"
   ]
  },
  {
   "cell_type": "code",
   "execution_count": null,
   "id": "3842222d-627e-407a-bc36-cd6efb940e56",
   "metadata": {},
   "outputs": [],
   "source": [
    "t_strains = @elapsed gemma_L_strains = run_gemma(pheno_strains_subset, geno_strains, kinship_strains,\n",
    "                                                [\"A\", \"B\"], marker_names, \n",
    "                                                \"data/GEMMA_data/GN886_pheno_strains_y.txt\", \"data/GEMMA_data/GN886_geno_strains.txt\", \"data/GEMMA_data/kinship_strains.txt\", \"results_strains\",\n",
    "                                                \"/home/zyu20/Softwares/gemma-0.98.5-linux-static-AMD64\")"
   ]
  },
  {
   "cell_type": "code",
   "execution_count": null,
   "id": "3e80d740-5561-4f05-8f6a-5aa60b721568",
   "metadata": {},
   "outputs": [],
   "source": [
    "t_strains"
   ]
  },
  {
   "cell_type": "code",
   "execution_count": null,
   "id": "f8a89c8b-29c8-4183-9896-179f844eee73",
   "metadata": {},
   "outputs": [],
   "source": [
    "findall(isnan.(gemma_L_strains))"
   ]
  },
  {
   "cell_type": "code",
   "execution_count": null,
   "id": "358455d0-3371-4eb0-ba9e-330749a26dec",
   "metadata": {},
   "outputs": [],
   "source": [
    "Threads.nthreads()"
   ]
  },
  {
   "cell_type": "code",
   "execution_count": null,
   "id": "18fb6765-503c-4df7-a675-dea809209ace",
   "metadata": {},
   "outputs": [],
   "source": [
    "function run_bulklmm_alt(pheno::Array{Float64, 2}, geno::Array{Float64, 2}, kinship::Array{Float64, 2})\n",
    "    \n",
    "    m = size(pheno, 2);\n",
    "    p = size(geno, 2);\n",
    "    \n",
    "    L = zeros(p, m);\n",
    "    \n",
    "    Threads.@threads for t in 1:1000\n",
    "        pheno_y = reshape(pheno[:, t], :, 1);\n",
    "        L[:, t] .= scan(pheno_y, geno, kinship; assumption = \"alt\", reml = true).lod;\n",
    "    end\n",
    "    \n",
    "    return L\n",
    "    \n",
    "end"
   ]
  },
  {
   "cell_type": "code",
   "execution_count": null,
   "id": "75a1488c-5de8-4ded-a600-2e1e5100f4a5",
   "metadata": {},
   "outputs": [],
   "source": [
    "BLAS.get_num_threads()"
   ]
  },
  {
   "cell_type": "code",
   "execution_count": null,
   "id": "d09a7599-f433-4002-a59b-750a840e3aca",
   "metadata": {},
   "outputs": [],
   "source": [
    "BLAS.set_num_threads(4)"
   ]
  },
  {
   "cell_type": "code",
   "execution_count": null,
   "id": "99dcc7c8-d11d-4c0e-9d38-10b0540625b1",
   "metadata": {},
   "outputs": [],
   "source": [
    "# @time bulklmm_L_exact_alt = run_bulklmm_alt(pheno_strains_subset, geno_strains, kinship_strains);"
   ]
  },
  {
   "cell_type": "markdown",
   "id": "54e9f83d-63a3-4797-b77f-e12ceb67a354",
   "metadata": {},
   "source": [
    "#### individuals:"
   ]
  },
  {
   "cell_type": "code",
   "execution_count": null,
   "id": "afc2ccdb-de0a-47df-ae77-70d0b0752a40",
   "metadata": {},
   "outputs": [],
   "source": [
    "pheno_ind_subset = lpst_ind_Y[:, samples];"
   ]
  },
  {
   "cell_type": "code",
   "execution_count": null,
   "id": "3f8d67a1-1b2a-4b1a-a873-a0a971e864c6",
   "metadata": {},
   "outputs": [],
   "source": [
    "t_ind = @elapsed gemma_L_ind = run_gemma(pheno_ind_subset, geno_ind, kinship_ind_from_strains,\n",
    "                                         [\"A\", \"B\"], marker_names, \n",
    "                                         \"data/GEMMA_data/GN886_pheno_ind_y.txt\", \"data/GEMMA_data/GN886_geno_ind.txt\", \"data/GEMMA_data/kinship_ind.txt\", \"results_ind\",\n",
    "                                         \"/home/zyu20/Softwares/gemma-0.98.5-linux-static-AMD64\")"
   ]
  },
  {
   "cell_type": "code",
   "execution_count": null,
   "id": "cf35f9ea-ff6a-498f-810a-83ecc6d601af",
   "metadata": {},
   "outputs": [],
   "source": [
    "t_ind/1000*m"
   ]
  },
  {
   "cell_type": "code",
   "execution_count": null,
   "id": "b280bc89-ac6d-4404-ab69-a373fcc9f67a",
   "metadata": {},
   "outputs": [],
   "source": [
    "t_ind"
   ]
  },
  {
   "cell_type": "code",
   "execution_count": null,
   "id": "54e95202-7ef3-4560-ad99-84e7975579f7",
   "metadata": {},
   "outputs": [],
   "source": [
    "findall(isnan.(gemma_L_ind))"
   ]
  },
  {
   "cell_type": "code",
   "execution_count": null,
   "id": "a4f0d1fd-a5d9-4259-a2e4-1f245baa1eb0",
   "metadata": {},
   "outputs": [],
   "source": [
    "findall(isinf.(gemma_L_ind))"
   ]
  },
  {
   "cell_type": "code",
   "execution_count": null,
   "id": "7a6a54dd-b0e4-460d-b48e-9928c4bf467b",
   "metadata": {},
   "outputs": [],
   "source": [
    "gemma_L_ind"
   ]
  },
  {
   "cell_type": "code",
   "execution_count": null,
   "id": "9f1222fd-9197-4679-bcc6-26f5892e9ffc",
   "metadata": {},
   "outputs": [],
   "source": [
    "pwd()"
   ]
  },
  {
   "cell_type": "code",
   "execution_count": null,
   "id": "4e361ddc-2bd6-4e84-ae8a-620aa776ebce",
   "metadata": {},
   "outputs": [],
   "source": [
    "# writedlm(\"output/gemma_L_strains.txt\", gemma_L_strains, '\\t');\n",
    "# writedlm(\"output/gemma_L_ind.txt\", gemma_L_ind, '\\t');\n",
    "# writedlm(\"output/samples1000.txt\", samples, '\\t');"
   ]
  },
  {
   "cell_type": "code",
   "execution_count": null,
   "id": "8ddbecce-92e2-4ee8-95f3-7d8a64809957",
   "metadata": {},
   "outputs": [],
   "source": [
    "abs_diff = abs.(bulkscan_results_ind_null.L[:, samples] .- gemma_L_ind);"
   ]
  },
  {
   "cell_type": "code",
   "execution_count": null,
   "id": "62c6a479-f824-4483-9375-6a46c2fc62e6",
   "metadata": {},
   "outputs": [],
   "source": [
    "mean_abs_diff = 0;"
   ]
  },
  {
   "cell_type": "code",
   "execution_count": null,
   "id": "faa91980-bfc7-4354-a37b-4b1ed1f07433",
   "metadata": {},
   "outputs": [],
   "source": [
    "mean_abs_diff"
   ]
  },
  {
   "cell_type": "code",
   "execution_count": null,
   "id": "299c5a79-c627-4d38-a0a0-74a76ab2ec81",
   "metadata": {},
   "outputs": [],
   "source": []
  },
  {
   "cell_type": "code",
   "execution_count": null,
   "id": "e85d0326-67e4-4498-ac4c-8b27827d9591",
   "metadata": {},
   "outputs": [],
   "source": []
  },
  {
   "cell_type": "code",
   "execution_count": null,
   "id": "a8cfd8b6-b5cb-4c16-b255-c90c4f1f4957",
   "metadata": {},
   "outputs": [],
   "source": []
  },
  {
   "cell_type": "code",
   "execution_count": null,
   "id": "acf3323a-b89b-4210-b5cc-62b033bf8c53",
   "metadata": {},
   "outputs": [],
   "source": []
  },
  {
   "cell_type": "code",
   "execution_count": 42,
   "id": "1c584a07-11cc-48f2-b86c-ba1762992080",
   "metadata": {},
   "outputs": [],
   "source": [
    "bulkscan_results_ind_null.L[:, samples];"
   ]
  },
  {
   "cell_type": "code",
   "execution_count": 44,
   "id": "0ce29500-78e2-4af9-90c3-232da2119001",
   "metadata": {},
   "outputs": [],
   "source": [
    "gemma_ind_L = readdlm(\"output/gemma_L_ind.txt\", '\\t');"
   ]
  },
  {
   "cell_type": "code",
   "execution_count": 45,
   "id": "40ae4b51-7d71-4d2f-9356-4d8b45a5bbca",
   "metadata": {},
   "outputs": [
    {
     "data": {
      "image/png": "[encoded data removed]",
      "image/svg+xml": [
       "<?xml version=\"1.0\" encoding=\"utf-8\"?>\n",
       "<svg xmlns=\"http://www.w3.org/2000/svg\" xmlns:xlink=\"http://www.w3.org/1999/xlink\" width=\"600\" height=\"400\" viewBox=\"0 0 2400 1600\">\n",
       "<defs>\n",
       "  <clipPath id=\"clip210\">\n",
       "    <rect x=\"0\" y=\"0\" width=\"2400\" height=\"1600\"/>\n",
       "  </clipPath>\n",
       "</defs>\n",
       "<path clip-path=\"url(#clip210)\" d=\"M0 1600 L2400 1600 L2400 0 L0 0  Z\" fill=\"#ffffff\" fill-rule=\"evenodd\" fill-opacity=\"1\"/>\n",
       "<defs>\n",
       "  <clipPath id=\"clip211\">\n",
       "    <rect x=\"480\" y=\"0\" width=\"1681\" height=\"1600\"/>\n",
       "  </clipPath>\n",
       "</defs>\n",
       "<path clip-path=\"url(#clip210)\" d=\"M219.866 1423.18 L2352.76 1423.18 L2352.76 47.2441 L219.866 47.2441  Z\" fill=\"#ffffff\" fill-rule=\"evenodd\" fill-opacity=\"1\"/>\n",
       "<defs>\n",
       "  <clipPath id=\"clip212\">\n",
       "    <rect x=\"219\" y=\"47\" width=\"2134\" height=\"1377\"/>\n",
       "  </clipPath>\n",
       "</defs>\n",
       "<polyline clip-path=\"url(#clip212)\" style=\"stroke:#000000; stroke-linecap:round; stroke-linejoin:round; stroke-width:2; stroke-opacity:0.1; fill:none\" points=\"279.564,1423.18 279.564,47.2441 \"/>\n",
       "<polyline clip-path=\"url(#clip212)\" style=\"stroke:#000000; stroke-linecap:round; stroke-linejoin:round; stroke-width:2; stroke-opacity:0.1; fill:none\" points=\"718.147,1423.18 718.147,47.2441 \"/>\n",
       "<polyline clip-path=\"url(#clip212)\" style=\"stroke:#000000; stroke-linecap:round; stroke-linejoin:round; stroke-width:2; stroke-opacity:0.1; fill:none\" points=\"1156.73,1423.18 1156.73,47.2441 \"/>\n",
       "<polyline clip-path=\"url(#clip212)\" style=\"stroke:#000000; stroke-linecap:round; stroke-linejoin:round; stroke-width:2; stroke-opacity:0.1; fill:none\" points=\"1595.31,1423.18 1595.31,47.2441 \"/>\n",
       "<polyline clip-path=\"url(#clip212)\" style=\"stroke:#000000; stroke-linecap:round; stroke-linejoin:round; stroke-width:2; stroke-opacity:0.1; fill:none\" points=\"2033.9,1423.18 2033.9,47.2441 \"/>\n",
       "<polyline clip-path=\"url(#clip210)\" style=\"stroke:#000000; stroke-linecap:round; stroke-linejoin:round; stroke-width:4; stroke-opacity:1; fill:none\" points=\"219.866,1423.18 2352.76,1423.18 \"/>\n",
       "<polyline clip-path=\"url(#clip210)\" style=\"stroke:#000000; stroke-linecap:round; stroke-linejoin:round; stroke-width:4; stroke-opacity:1; fill:none\" points=\"279.564,1423.18 279.564,1404.28 \"/>\n",
       "<polyline clip-path=\"url(#clip210)\" style=\"stroke:#000000; stroke-linecap:round; stroke-linejoin:round; stroke-width:4; stroke-opacity:1; fill:none\" points=\"718.147,1423.18 718.147,1404.28 \"/>\n",
       "<polyline clip-path=\"url(#clip210)\" style=\"stroke:#000000; stroke-linecap:round; stroke-linejoin:round; stroke-width:4; stroke-opacity:1; fill:none\" points=\"1156.73,1423.18 1156.73,1404.28 \"/>\n",
       "<polyline clip-path=\"url(#clip210)\" style=\"stroke:#000000; stroke-linecap:round; stroke-linejoin:round; stroke-width:4; stroke-opacity:1; fill:none\" points=\"1595.31,1423.18 1595.31,1404.28 \"/>\n",
       "<polyline clip-path=\"url(#clip210)\" style=\"stroke:#000000; stroke-linecap:round; stroke-linejoin:round; stroke-width:4; stroke-opacity:1; fill:none\" points=\"2033.9,1423.18 2033.9,1404.28 \"/>\n",
       "<path clip-path=\"url(#clip210)\" d=\"M256.948 1454.1 Q253.337 1454.1 251.509 1457.66 Q249.703 1461.2 249.703 1468.33 Q249.703 1475.44 251.509 1479.01 Q253.337 1482.55 256.948 1482.55 Q260.583 1482.55 262.388 1479.01 Q264.217 1475.44 264.217 1468.33 Q264.217 1461.2 262.388 1457.66 Q260.583 1454.1 256.948 1454.1 M256.948 1450.39 Q262.759 1450.39 265.814 1455 Q268.893 1459.58 268.893 1468.33 Q268.893 1477.06 265.814 1481.67 Q262.759 1486.25 256.948 1486.25 Q251.138 1486.25 248.06 1481.67 Q245.004 1477.06 245.004 1468.33 Q245.004 1459.58 248.06 1455 Q251.138 1450.39 256.948 1450.39 Z\" fill=\"#000000\" fill-rule=\"nonzero\" fill-opacity=\"1\" /><path clip-path=\"url(#clip210)\" d=\"M277.11 1479.7 L281.995 1479.7 L281.995 1485.58 L277.11 1485.58 L277.11 1479.7 Z\" fill=\"#000000\" fill-rule=\"nonzero\" fill-opacity=\"1\" /><path clip-path=\"url(#clip210)\" d=\"M302.18 1454.1 Q298.569 1454.1 296.74 1457.66 Q294.934 1461.2 294.934 1468.33 Q294.934 1475.44 296.74 1479.01 Q298.569 1482.55 302.18 1482.55 Q305.814 1482.55 307.619 1479.01 Q309.448 1475.44 309.448 1468.33 Q309.448 1461.2 307.619 1457.66 Q305.814 1454.1 302.18 1454.1 M302.18 1450.39 Q307.99 1450.39 311.045 1455 Q314.124 1459.58 314.124 1468.33 Q314.124 1477.06 311.045 1481.67 Q307.99 1486.25 302.18 1486.25 Q296.37 1486.25 293.291 1481.67 Q290.235 1477.06 290.235 1468.33 Q290.235 1459.58 293.291 1455 Q296.37 1450.39 302.18 1450.39 Z\" fill=\"#000000\" fill-rule=\"nonzero\" fill-opacity=\"1\" /><path clip-path=\"url(#clip210)\" d=\"M696.145 1454.1 Q692.534 1454.1 690.705 1457.66 Q688.9 1461.2 688.9 1468.33 Q688.9 1475.44 690.705 1479.01 Q692.534 1482.55 696.145 1482.55 Q699.779 1482.55 701.585 1479.01 Q703.413 1475.44 703.413 1468.33 Q703.413 1461.2 701.585 1457.66 Q699.779 1454.1 696.145 1454.1 M696.145 1450.39 Q701.955 1450.39 705.011 1455 Q708.089 1459.58 708.089 1468.33 Q708.089 1477.06 705.011 1481.67 Q701.955 1486.25 696.145 1486.25 Q690.335 1486.25 687.256 1481.67 Q684.201 1477.06 684.201 1468.33 Q684.201 1459.58 687.256 1455 Q690.335 1450.39 696.145 1450.39 Z\" fill=\"#000000\" fill-rule=\"nonzero\" fill-opacity=\"1\" /><path clip-path=\"url(#clip210)\" d=\"M716.307 1479.7 L721.191 1479.7 L721.191 1485.58 L716.307 1485.58 L716.307 1479.7 Z\" fill=\"#000000\" fill-rule=\"nonzero\" fill-opacity=\"1\" /><path clip-path=\"url(#clip210)\" d=\"M732.186 1481.64 L739.825 1481.64 L739.825 1455.28 L731.515 1456.95 L731.515 1452.69 L739.779 1451.02 L744.455 1451.02 L744.455 1481.64 L752.094 1481.64 L752.094 1485.58 L732.186 1485.58 L732.186 1481.64 Z\" fill=\"#000000\" fill-rule=\"nonzero\" fill-opacity=\"1\" /><path clip-path=\"url(#clip210)\" d=\"M1134.91 1454.1 Q1131.3 1454.1 1129.47 1457.66 Q1127.67 1461.2 1127.67 1468.33 Q1127.67 1475.44 1129.47 1479.01 Q1131.3 1482.55 1134.91 1482.55 Q1138.55 1482.55 1140.35 1479.01 Q1142.18 1475.44 1142.18 1468.33 Q1142.18 1461.2 1140.35 1457.66 Q1138.55 1454.1 1134.91 1454.1 M1134.91 1450.39 Q1140.72 1450.39 1143.78 1455 Q1146.86 1459.58 1146.86 1468.33 Q1146.86 1477.06 1143.78 1481.67 Q1140.72 1486.25 1134.91 1486.25 Q1129.1 1486.25 1126.02 1481.67 Q1122.97 1477.06 1122.97 1468.33 Q1122.97 1459.58 1126.02 1455 Q1129.1 1450.39 1134.91 1450.39 Z\" fill=\"#000000\" fill-rule=\"nonzero\" fill-opacity=\"1\" /><path clip-path=\"url(#clip210)\" d=\"M1155.08 1479.7 L1159.96 1479.7 L1159.96 1485.58 L1155.08 1485.58 L1155.08 1479.7 Z\" fill=\"#000000\" fill-rule=\"nonzero\" fill-opacity=\"1\" /><path clip-path=\"url(#clip210)\" d=\"M1174.17 1481.64 L1190.49 1481.64 L1190.49 1485.58 L1168.55 1485.58 L1168.55 1481.64 Q1171.21 1478.89 1175.79 1474.26 Q1180.4 1469.61 1181.58 1468.27 Q1183.83 1465.74 1184.7 1464.01 Q1185.61 1462.25 1185.61 1460.56 Q1185.61 1457.8 1183.66 1456.07 Q1181.74 1454.33 1178.64 1454.33 Q1176.44 1454.33 1173.99 1455.09 Q1171.56 1455.86 1168.78 1457.41 L1168.78 1452.69 Q1171.6 1451.55 1174.06 1450.97 Q1176.51 1450.39 1178.55 1450.39 Q1183.92 1450.39 1187.11 1453.08 Q1190.31 1455.77 1190.31 1460.26 Q1190.31 1462.39 1189.5 1464.31 Q1188.71 1466.2 1186.6 1468.8 Q1186.02 1469.47 1182.92 1472.69 Q1179.82 1475.88 1174.17 1481.64 Z\" fill=\"#000000\" fill-rule=\"nonzero\" fill-opacity=\"1\" /><path clip-path=\"url(#clip210)\" d=\"M1573.02 1454.1 Q1569.41 1454.1 1567.58 1457.66 Q1565.78 1461.2 1565.78 1468.33 Q1565.78 1475.44 1567.58 1479.01 Q1569.41 1482.55 1573.02 1482.55 Q1576.66 1482.55 1578.46 1479.01 Q1580.29 1475.44 1580.29 1468.33 Q1580.29 1461.2 1578.46 1457.66 Q1576.66 1454.1 1573.02 1454.1 M1573.02 1450.39 Q1578.83 1450.39 1581.89 1455 Q1584.97 1459.58 1584.97 1468.33 Q1584.97 1477.06 1581.89 1481.67 Q1578.83 1486.25 1573.02 1486.25 Q1567.21 1486.25 1564.13 1481.67 Q1561.08 1477.06 1561.08 1468.33 Q1561.08 1459.58 1564.13 1455 Q1567.21 1450.39 1573.02 1450.39 Z\" fill=\"#000000\" fill-rule=\"nonzero\" fill-opacity=\"1\" /><path clip-path=\"url(#clip210)\" d=\"M1593.18 1479.7 L1598.07 1479.7 L1598.07 1485.58 L1593.18 1485.58 L1593.18 1479.7 Z\" fill=\"#000000\" fill-rule=\"nonzero\" fill-opacity=\"1\" /><path clip-path=\"url(#clip210)\" d=\"M1622.42 1466.95 Q1625.78 1467.66 1627.65 1469.93 Q1629.55 1472.2 1629.55 1475.53 Q1629.55 1480.65 1626.03 1483.45 Q1622.51 1486.25 1616.03 1486.25 Q1613.86 1486.25 1611.54 1485.81 Q1609.25 1485.39 1606.79 1484.54 L1606.79 1480.02 Q1608.74 1481.16 1611.05 1481.74 Q1613.37 1482.32 1615.89 1482.32 Q1620.29 1482.32 1622.58 1480.58 Q1624.9 1478.84 1624.9 1475.53 Q1624.9 1472.48 1622.74 1470.77 Q1620.61 1469.03 1616.79 1469.03 L1612.77 1469.03 L1612.77 1465.19 L1616.98 1465.19 Q1620.43 1465.19 1622.26 1463.82 Q1624.09 1462.43 1624.09 1459.84 Q1624.09 1457.18 1622.19 1455.77 Q1620.31 1454.33 1616.79 1454.33 Q1614.87 1454.33 1612.67 1454.75 Q1610.48 1455.16 1607.84 1456.04 L1607.84 1451.88 Q1610.5 1451.14 1612.81 1450.77 Q1615.15 1450.39 1617.21 1450.39 Q1622.54 1450.39 1625.64 1452.83 Q1628.74 1455.23 1628.74 1459.35 Q1628.74 1462.22 1627.1 1464.21 Q1625.45 1466.18 1622.42 1466.95 Z\" fill=\"#000000\" fill-rule=\"nonzero\" fill-opacity=\"1\" /><path clip-path=\"url(#clip210)\" d=\"M2011.04 1454.1 Q2007.43 1454.1 2005.6 1457.66 Q2003.79 1461.2 2003.79 1468.33 Q2003.79 1475.44 2005.6 1479.01 Q2007.43 1482.55 2011.04 1482.55 Q2014.67 1482.55 2016.48 1479.01 Q2018.31 1475.44 2018.31 1468.33 Q2018.31 1461.2 2016.48 1457.66 Q2014.67 1454.1 2011.04 1454.1 M2011.04 1450.39 Q2016.85 1450.39 2019.9 1455 Q2022.98 1459.58 2022.98 1468.33 Q2022.98 1477.06 2019.9 1481.67 Q2016.85 1486.25 2011.04 1486.25 Q2005.23 1486.25 2002.15 1481.67 Q1999.09 1477.06 1999.09 1468.33 Q1999.09 1459.58 2002.15 1455 Q2005.23 1450.39 2011.04 1450.39 Z\" fill=\"#000000\" fill-rule=\"nonzero\" fill-opacity=\"1\" /><path clip-path=\"url(#clip210)\" d=\"M2031.2 1479.7 L2036.08 1479.7 L2036.08 1485.58 L2031.2 1485.58 L2031.2 1479.7 Z\" fill=\"#000000\" fill-rule=\"nonzero\" fill-opacity=\"1\" /><path clip-path=\"url(#clip210)\" d=\"M2059.12 1455.09 L2047.31 1473.54 L2059.12 1473.54 L2059.12 1455.09 M2057.89 1451.02 L2063.77 1451.02 L2063.77 1473.54 L2068.7 1473.54 L2068.7 1477.43 L2063.77 1477.43 L2063.77 1485.58 L2059.12 1485.58 L2059.12 1477.43 L2043.51 1477.43 L2043.51 1472.92 L2057.89 1451.02 Z\" fill=\"#000000\" fill-rule=\"nonzero\" fill-opacity=\"1\" /><path clip-path=\"url(#clip210)\" d=\"M1176.03 1550.25 Q1176.03 1543.79 1173.35 1540.13 Q1170.71 1536.44 1166.06 1536.44 Q1161.42 1536.44 1158.74 1540.13 Q1156.1 1543.79 1156.1 1550.25 Q1156.1 1556.71 1158.74 1560.4 Q1161.42 1564.07 1166.06 1564.07 Q1170.71 1564.07 1173.35 1560.4 Q1176.03 1556.71 1176.03 1550.25 M1156.1 1537.81 Q1157.95 1534.62 1160.75 1533.1 Q1163.58 1531.54 1167.5 1531.54 Q1173.99 1531.54 1178.03 1536.69 Q1182.1 1541.85 1182.1 1550.25 Q1182.1 1558.65 1178.03 1563.81 Q1173.99 1568.97 1167.5 1568.97 Q1163.58 1568.97 1160.75 1567.44 Q1157.95 1565.88 1156.1 1562.7 L1156.1 1568.04 L1150.21 1568.04 L1150.21 1518.52 L1156.1 1518.52 L1156.1 1537.81 Z\" fill=\"#000000\" fill-rule=\"nonzero\" fill-opacity=\"1\" /><path clip-path=\"url(#clip210)\" d=\"M1191.21 1553.98 L1191.21 1532.4 L1197.06 1532.4 L1197.06 1553.75 Q1197.06 1558.81 1199.04 1561.36 Q1201.01 1563.87 1204.96 1563.87 Q1209.7 1563.87 1212.44 1560.85 Q1215.21 1557.83 1215.21 1552.61 L1215.21 1532.4 L1221.06 1532.4 L1221.06 1568.04 L1215.21 1568.04 L1215.21 1562.57 Q1213.07 1565.82 1210.24 1567.41 Q1207.44 1568.97 1203.72 1568.97 Q1197.57 1568.97 1194.39 1565.15 Q1191.21 1561.33 1191.21 1553.98 M1205.94 1531.54 L1205.94 1531.54 Z\" fill=\"#000000\" fill-rule=\"nonzero\" fill-opacity=\"1\" /><path clip-path=\"url(#clip210)\" d=\"M1233.13 1518.52 L1238.98 1518.52 L1238.98 1568.04 L1233.13 1568.04 L1233.13 1518.52 Z\" fill=\"#000000\" fill-rule=\"nonzero\" fill-opacity=\"1\" /><path clip-path=\"url(#clip210)\" d=\"M1251.01 1518.52 L1256.9 1518.52 L1256.9 1547.77 L1274.38 1532.4 L1281.86 1532.4 L1262.95 1549.07 L1282.65 1568.04 L1275.01 1568.04 L1256.9 1550.63 L1256.9 1568.04 L1251.01 1568.04 L1251.01 1518.52 Z\" fill=\"#000000\" fill-rule=\"nonzero\" fill-opacity=\"1\" /><path clip-path=\"url(#clip210)\" d=\"M1288.98 1518.52 L1294.84 1518.52 L1294.84 1568.04 L1288.98 1568.04 L1288.98 1518.52 Z\" fill=\"#000000\" fill-rule=\"nonzero\" fill-opacity=\"1\" /><path clip-path=\"url(#clip210)\" d=\"M1334.85 1539.24 Q1337.05 1535.29 1340.1 1533.41 Q1343.16 1531.54 1347.29 1531.54 Q1352.86 1531.54 1355.89 1535.45 Q1358.91 1539.33 1358.91 1546.53 L1358.91 1568.04 L1353.02 1568.04 L1353.02 1546.72 Q1353.02 1541.59 1351.21 1539.11 Q1349.4 1536.63 1345.67 1536.63 Q1341.12 1536.63 1338.48 1539.65 Q1335.84 1542.68 1335.84 1547.9 L1335.84 1568.04 L1329.95 1568.04 L1329.95 1546.72 Q1329.95 1541.56 1328.13 1539.11 Q1326.32 1536.63 1322.53 1536.63 Q1318.04 1536.63 1315.4 1539.68 Q1312.76 1542.71 1312.76 1547.9 L1312.76 1568.04 L1306.87 1568.04 L1306.87 1532.4 L1312.76 1532.4 L1312.76 1537.93 Q1314.77 1534.66 1317.57 1533.1 Q1320.37 1531.54 1324.22 1531.54 Q1328.1 1531.54 1330.81 1533.51 Q1333.54 1535.48 1334.85 1539.24 Z\" fill=\"#000000\" fill-rule=\"nonzero\" fill-opacity=\"1\" /><path clip-path=\"url(#clip210)\" d=\"M1398.35 1539.24 Q1400.54 1535.29 1403.6 1533.41 Q1406.65 1531.54 1410.79 1531.54 Q1416.36 1531.54 1419.39 1535.45 Q1422.41 1539.33 1422.41 1546.53 L1422.41 1568.04 L1416.52 1568.04 L1416.52 1546.72 Q1416.52 1541.59 1414.71 1539.11 Q1412.89 1536.63 1409.17 1536.63 Q1404.62 1536.63 1401.98 1539.65 Q1399.33 1542.68 1399.33 1547.9 L1399.33 1568.04 L1393.45 1568.04 L1393.45 1546.72 Q1393.45 1541.56 1391.63 1539.11 Q1389.82 1536.63 1386.03 1536.63 Q1381.54 1536.63 1378.9 1539.68 Q1376.26 1542.71 1376.26 1547.9 L1376.26 1568.04 L1370.37 1568.04 L1370.37 1532.4 L1376.26 1532.4 L1376.26 1537.93 Q1378.26 1534.66 1381.06 1533.1 Q1383.87 1531.54 1387.72 1531.54 Q1391.6 1531.54 1394.31 1533.51 Q1397.04 1535.48 1398.35 1539.24 Z\" fill=\"#000000\" fill-rule=\"nonzero\" fill-opacity=\"1\" /><polyline clip-path=\"url(#clip212)\" style=\"stroke:#000000; stroke-linecap:round; stroke-linejoin:round; stroke-width:2; stroke-opacity:0.1; fill:none\" points=\"219.866,1384.69 2352.76,1384.69 \"/>\n",
       "<polyline clip-path=\"url(#clip212)\" style=\"stroke:#000000; stroke-linecap:round; stroke-linejoin:round; stroke-width:2; stroke-opacity:0.1; fill:none\" points=\"219.866,1101.99 2352.76,1101.99 \"/>\n",
       "<polyline clip-path=\"url(#clip212)\" style=\"stroke:#000000; stroke-linecap:round; stroke-linejoin:round; stroke-width:2; stroke-opacity:0.1; fill:none\" points=\"219.866,819.289 2352.76,819.289 \"/>\n",
       "<polyline clip-path=\"url(#clip212)\" style=\"stroke:#000000; stroke-linecap:round; stroke-linejoin:round; stroke-width:2; stroke-opacity:0.1; fill:none\" points=\"219.866,536.589 2352.76,536.589 \"/>\n",
       "<polyline clip-path=\"url(#clip212)\" style=\"stroke:#000000; stroke-linecap:round; stroke-linejoin:round; stroke-width:2; stroke-opacity:0.1; fill:none\" points=\"219.866,253.888 2352.76,253.888 \"/>\n",
       "<polyline clip-path=\"url(#clip210)\" style=\"stroke:#000000; stroke-linecap:round; stroke-linejoin:round; stroke-width:4; stroke-opacity:1; fill:none\" points=\"219.866,1423.18 219.866,47.2441 \"/>\n",
       "<polyline clip-path=\"url(#clip210)\" style=\"stroke:#000000; stroke-linecap:round; stroke-linejoin:round; stroke-width:4; stroke-opacity:1; fill:none\" points=\"219.866,1384.69 238.764,1384.69 \"/>\n",
       "<polyline clip-path=\"url(#clip210)\" style=\"stroke:#000000; stroke-linecap:round; stroke-linejoin:round; stroke-width:4; stroke-opacity:1; fill:none\" points=\"219.866,1101.99 238.764,1101.99 \"/>\n",
       "<polyline clip-path=\"url(#clip210)\" style=\"stroke:#000000; stroke-linecap:round; stroke-linejoin:round; stroke-width:4; stroke-opacity:1; fill:none\" points=\"219.866,819.289 238.764,819.289 \"/>\n",
       "<polyline clip-path=\"url(#clip210)\" style=\"stroke:#000000; stroke-linecap:round; stroke-linejoin:round; stroke-width:4; stroke-opacity:1; fill:none\" points=\"219.866,536.589 238.764,536.589 \"/>\n",
       "<polyline clip-path=\"url(#clip210)\" style=\"stroke:#000000; stroke-linecap:round; stroke-linejoin:round; stroke-width:4; stroke-opacity:1; fill:none\" points=\"219.866,253.888 238.764,253.888 \"/>\n",
       "<path clip-path=\"url(#clip210)\" d=\"M126.691 1370.49 Q123.08 1370.49 121.251 1374.05 Q119.445 1377.6 119.445 1384.73 Q119.445 1391.83 121.251 1395.4 Q123.08 1398.94 126.691 1398.94 Q130.325 1398.94 132.13 1395.4 Q133.959 1391.83 133.959 1384.73 Q133.959 1377.6 132.13 1374.05 Q130.325 1370.49 126.691 1370.49 M126.691 1366.79 Q132.501 1366.79 135.556 1371.39 Q138.635 1375.98 138.635 1384.73 Q138.635 1393.45 135.556 1398.06 Q132.501 1402.64 126.691 1402.64 Q120.88 1402.64 117.802 1398.06 Q114.746 1393.45 114.746 1384.73 Q114.746 1375.98 117.802 1371.39 Q120.88 1366.79 126.691 1366.79 Z\" fill=\"#000000\" fill-rule=\"nonzero\" fill-opacity=\"1\" /><path clip-path=\"url(#clip210)\" d=\"M146.853 1396.09 L151.737 1396.09 L151.737 1401.97 L146.853 1401.97 L146.853 1396.09 Z\" fill=\"#000000\" fill-rule=\"nonzero\" fill-opacity=\"1\" /><path clip-path=\"url(#clip210)\" d=\"M171.922 1370.49 Q168.311 1370.49 166.482 1374.05 Q164.677 1377.6 164.677 1384.73 Q164.677 1391.83 166.482 1395.4 Q168.311 1398.94 171.922 1398.94 Q175.556 1398.94 177.362 1395.4 Q179.19 1391.83 179.19 1384.73 Q179.19 1377.6 177.362 1374.05 Q175.556 1370.49 171.922 1370.49 M171.922 1366.79 Q177.732 1366.79 180.788 1371.39 Q183.866 1375.98 183.866 1384.73 Q183.866 1393.45 180.788 1398.06 Q177.732 1402.64 171.922 1402.64 Q166.112 1402.64 163.033 1398.06 Q159.978 1393.45 159.978 1384.73 Q159.978 1375.98 163.033 1371.39 Q166.112 1366.79 171.922 1366.79 Z\" fill=\"#000000\" fill-rule=\"nonzero\" fill-opacity=\"1\" /><path clip-path=\"url(#clip210)\" d=\"M127.917 1087.79 Q124.306 1087.79 122.478 1091.35 Q120.672 1094.9 120.672 1102.02 Q120.672 1109.13 122.478 1112.7 Q124.306 1116.24 127.917 1116.24 Q131.552 1116.24 133.357 1112.7 Q135.186 1109.13 135.186 1102.02 Q135.186 1094.9 133.357 1091.35 Q131.552 1087.79 127.917 1087.79 M127.917 1084.09 Q133.728 1084.09 136.783 1088.69 Q139.862 1093.27 139.862 1102.02 Q139.862 1110.75 136.783 1115.36 Q133.728 1119.94 127.917 1119.94 Q122.107 1119.94 119.029 1115.36 Q115.973 1110.75 115.973 1102.02 Q115.973 1093.27 119.029 1088.69 Q122.107 1084.09 127.917 1084.09 Z\" fill=\"#000000\" fill-rule=\"nonzero\" fill-opacity=\"1\" /><path clip-path=\"url(#clip210)\" d=\"M148.079 1113.39 L152.964 1113.39 L152.964 1119.27 L148.079 1119.27 L148.079 1113.39 Z\" fill=\"#000000\" fill-rule=\"nonzero\" fill-opacity=\"1\" /><path clip-path=\"url(#clip210)\" d=\"M163.959 1115.34 L171.598 1115.34 L171.598 1088.97 L163.288 1090.64 L163.288 1086.38 L171.552 1084.71 L176.227 1084.71 L176.227 1115.34 L183.866 1115.34 L183.866 1119.27 L163.959 1119.27 L163.959 1115.34 Z\" fill=\"#000000\" fill-rule=\"nonzero\" fill-opacity=\"1\" /><path clip-path=\"url(#clip210)\" d=\"M128.288 805.088 Q124.677 805.088 122.848 808.653 Q121.043 812.195 121.043 819.324 Q121.043 826.431 122.848 829.995 Q124.677 833.537 128.288 833.537 Q131.922 833.537 133.728 829.995 Q135.556 826.431 135.556 819.324 Q135.556 812.195 133.728 808.653 Q131.922 805.088 128.288 805.088 M128.288 801.384 Q134.098 801.384 137.154 805.991 Q140.232 810.574 140.232 819.324 Q140.232 828.051 137.154 832.657 Q134.098 837.241 128.288 837.241 Q122.478 837.241 119.399 832.657 Q116.343 828.051 116.343 819.324 Q116.343 810.574 119.399 805.991 Q122.478 801.384 128.288 801.384 Z\" fill=\"#000000\" fill-rule=\"nonzero\" fill-opacity=\"1\" /><path clip-path=\"url(#clip210)\" d=\"M148.45 830.69 L153.334 830.69 L153.334 836.569 L148.45 836.569 L148.45 830.69 Z\" fill=\"#000000\" fill-rule=\"nonzero\" fill-opacity=\"1\" /><path clip-path=\"url(#clip210)\" d=\"M167.547 832.634 L183.866 832.634 L183.866 836.569 L161.922 836.569 L161.922 832.634 Q164.584 829.88 169.167 825.25 Q173.774 820.597 174.954 819.255 Q177.2 816.732 178.079 814.995 Q178.982 813.236 178.982 811.546 Q178.982 808.792 177.038 807.056 Q175.116 805.32 172.014 805.32 Q169.815 805.32 167.362 806.084 Q164.931 806.847 162.153 808.398 L162.153 803.676 Q164.977 802.542 167.431 801.963 Q169.885 801.384 171.922 801.384 Q177.292 801.384 180.487 804.07 Q183.681 806.755 183.681 811.246 Q183.681 813.375 182.871 815.296 Q182.084 817.195 179.977 819.787 Q179.399 820.458 176.297 823.676 Q173.195 826.87 167.547 832.634 Z\" fill=\"#000000\" fill-rule=\"nonzero\" fill-opacity=\"1\" /><path clip-path=\"url(#clip210)\" d=\"M127.339 522.387 Q123.728 522.387 121.899 525.952 Q120.093 529.494 120.093 536.623 Q120.093 543.73 121.899 547.295 Q123.728 550.836 127.339 550.836 Q130.973 550.836 132.779 547.295 Q134.607 543.73 134.607 536.623 Q134.607 529.494 132.779 525.952 Q130.973 522.387 127.339 522.387 M127.339 518.684 Q133.149 518.684 136.204 523.29 Q139.283 527.873 139.283 536.623 Q139.283 545.35 136.204 549.957 Q133.149 554.54 127.339 554.54 Q121.529 554.54 118.45 549.957 Q115.394 545.35 115.394 536.623 Q115.394 527.873 118.45 523.29 Q121.529 518.684 127.339 518.684 Z\" fill=\"#000000\" fill-rule=\"nonzero\" fill-opacity=\"1\" /><path clip-path=\"url(#clip210)\" d=\"M147.501 547.989 L152.385 547.989 L152.385 553.869 L147.501 553.869 L147.501 547.989 Z\" fill=\"#000000\" fill-rule=\"nonzero\" fill-opacity=\"1\" /><path clip-path=\"url(#clip210)\" d=\"M176.737 535.235 Q180.093 535.952 181.968 538.221 Q183.866 540.489 183.866 543.822 Q183.866 548.938 180.348 551.739 Q176.829 554.54 170.348 554.54 Q168.172 554.54 165.857 554.1 Q163.565 553.684 161.112 552.827 L161.112 548.313 Q163.056 549.447 165.371 550.026 Q167.686 550.605 170.209 550.605 Q174.607 550.605 176.899 548.869 Q179.214 547.133 179.214 543.822 Q179.214 540.767 177.061 539.054 Q174.931 537.318 171.112 537.318 L167.084 537.318 L167.084 533.475 L171.297 533.475 Q174.746 533.475 176.575 532.11 Q178.403 530.721 178.403 528.128 Q178.403 525.466 176.505 524.054 Q174.63 522.619 171.112 522.619 Q169.19 522.619 166.991 523.036 Q164.792 523.452 162.153 524.332 L162.153 520.165 Q164.815 519.424 167.13 519.054 Q169.468 518.684 171.528 518.684 Q176.852 518.684 179.954 521.114 Q183.056 523.522 183.056 527.642 Q183.056 530.512 181.413 532.503 Q179.769 534.471 176.737 535.235 Z\" fill=\"#000000\" fill-rule=\"nonzero\" fill-opacity=\"1\" /><path clip-path=\"url(#clip210)\" d=\"M126.205 239.687 Q122.593 239.687 120.765 243.251 Q118.959 246.793 118.959 253.923 Q118.959 261.029 120.765 264.594 Q122.593 268.136 126.205 268.136 Q129.839 268.136 131.644 264.594 Q133.473 261.029 133.473 253.923 Q133.473 246.793 131.644 243.251 Q129.839 239.687 126.205 239.687 M126.205 235.983 Q132.015 235.983 135.07 240.589 Q138.149 245.173 138.149 253.923 Q138.149 262.649 135.07 267.256 Q132.015 271.839 126.205 271.839 Q120.394 271.839 117.316 267.256 Q114.26 262.649 114.26 253.923 Q114.26 245.173 117.316 240.589 Q120.394 235.983 126.205 235.983 Z\" fill=\"#000000\" fill-rule=\"nonzero\" fill-opacity=\"1\" /><path clip-path=\"url(#clip210)\" d=\"M146.366 265.288 L151.251 265.288 L151.251 271.168 L146.366 271.168 L146.366 265.288 Z\" fill=\"#000000\" fill-rule=\"nonzero\" fill-opacity=\"1\" /><path clip-path=\"url(#clip210)\" d=\"M174.283 240.682 L162.477 259.131 L174.283 259.131 L174.283 240.682 M173.056 236.608 L178.936 236.608 L178.936 259.131 L183.866 259.131 L183.866 263.02 L178.936 263.02 L178.936 271.168 L174.283 271.168 L174.283 263.02 L158.681 263.02 L158.681 258.506 L173.056 236.608 Z\" fill=\"#000000\" fill-rule=\"nonzero\" fill-opacity=\"1\" /><path clip-path=\"url(#clip210)\" d=\"M45.7664 828.661 Q39.4007 828.661 35.8996 831.302 Q32.3984 833.912 32.3984 838.655 Q32.3984 843.365 35.8996 846.007 Q39.4007 848.617 45.7664 848.617 Q52.1003 848.617 55.6014 846.007 Q59.1026 843.365 59.1026 838.655 Q59.1026 833.912 55.6014 831.302 Q52.1003 828.661 45.7664 828.661 M59.58 822.804 Q68.683 822.804 73.1071 826.846 Q77.5631 830.889 77.5631 839.228 Q77.5631 842.315 77.0857 845.052 Q76.6401 847.789 75.6852 850.368 L69.9879 850.368 Q71.3884 847.789 72.0568 845.275 Q72.7252 842.761 72.7252 840.151 Q72.7252 834.39 69.7015 831.525 Q66.7096 828.661 60.6303 828.661 L57.7339 828.661 Q60.885 830.475 62.4446 833.308 Q64.0042 836.14 64.0042 840.087 Q64.0042 846.644 59.0071 850.654 Q54.01 854.664 45.7664 854.664 Q37.491 854.664 32.4939 850.654 Q27.4968 846.644 27.4968 840.087 Q27.4968 836.14 29.0564 833.308 Q30.616 830.475 33.7671 828.661 L28.3562 828.661 L28.3562 822.804 L59.58 822.804 Z\" fill=\"#000000\" fill-rule=\"nonzero\" fill-opacity=\"1\" /><path clip-path=\"url(#clip210)\" d=\"M44.7161 780.249 L47.5806 780.249 L47.5806 807.176 Q53.6281 806.794 56.8109 803.548 Q59.9619 800.269 59.9619 794.445 Q59.9619 791.071 59.1344 787.92 Q58.3069 784.737 56.6518 781.618 L62.1899 781.618 Q63.5267 784.769 64.227 788.079 Q64.9272 791.389 64.9272 794.795 Q64.9272 803.325 59.9619 808.322 Q54.9967 813.287 46.5303 813.287 Q37.7774 813.287 32.6531 808.577 Q27.4968 803.834 27.4968 795.813 Q27.4968 788.62 32.1438 784.451 Q36.7589 780.249 44.7161 780.249 M42.9973 786.106 Q38.1912 786.169 35.3266 788.811 Q32.4621 791.421 32.4621 795.75 Q32.4621 800.651 35.2312 803.611 Q38.0002 806.54 43.0292 806.985 L42.9973 786.106 Z\" fill=\"#000000\" fill-rule=\"nonzero\" fill-opacity=\"1\" /><path clip-path=\"url(#clip210)\" d=\"M35.1993 742.883 Q31.2526 740.686 29.3747 737.631 Q27.4968 734.575 27.4968 730.438 Q27.4968 724.868 31.4117 721.844 Q35.2948 718.82 42.4881 718.82 L64.0042 718.82 L64.0042 724.709 L42.679 724.709 Q37.5546 724.709 35.072 726.523 Q32.5894 728.337 32.5894 732.061 Q32.5894 736.612 35.6131 739.254 Q38.6368 741.896 43.8567 741.896 L64.0042 741.896 L64.0042 747.784 L42.679 747.784 Q37.5228 747.784 35.072 749.598 Q32.5894 751.413 32.5894 755.2 Q32.5894 759.688 35.6449 762.33 Q38.6686 764.972 43.8567 764.972 L64.0042 764.972 L64.0042 770.86 L28.3562 770.86 L28.3562 764.972 L33.8944 764.972 Q30.616 762.966 29.0564 760.166 Q27.4968 757.365 27.4968 753.513 Q27.4968 749.63 29.4702 746.925 Q31.4436 744.188 35.1993 742.883 Z\" fill=\"#000000\" fill-rule=\"nonzero\" fill-opacity=\"1\" /><path clip-path=\"url(#clip210)\" d=\"M35.1993 679.385 Q31.2526 677.189 29.3747 674.133 Q27.4968 671.077 27.4968 666.94 Q27.4968 661.37 31.4117 658.346 Q35.2948 655.322 42.4881 655.322 L64.0042 655.322 L64.0042 661.211 L42.679 661.211 Q37.5546 661.211 35.072 663.025 Q32.5894 664.839 32.5894 668.563 Q32.5894 673.115 35.6131 675.756 Q38.6368 678.398 43.8567 678.398 L64.0042 678.398 L64.0042 684.286 L42.679 684.286 Q37.5228 684.286 35.072 686.101 Q32.5894 687.915 32.5894 691.702 Q32.5894 696.19 35.6449 698.832 Q38.6686 701.474 43.8567 701.474 L64.0042 701.474 L64.0042 707.362 L28.3562 707.362 L28.3562 701.474 L33.8944 701.474 Q30.616 699.469 29.0564 696.668 Q27.4968 693.867 27.4968 690.015 Q27.4968 686.132 29.4702 683.427 Q31.4436 680.69 35.1993 679.385 Z\" fill=\"#000000\" fill-rule=\"nonzero\" fill-opacity=\"1\" /><path clip-path=\"url(#clip210)\" d=\"M46.0847 627.441 Q46.0847 634.538 47.7079 637.276 Q49.3312 640.013 53.2461 640.013 Q56.3653 640.013 58.2114 637.976 Q60.0256 635.907 60.0256 632.374 Q60.0256 627.504 56.5881 624.576 Q53.1188 621.616 47.3897 621.616 L46.0847 621.616 L46.0847 627.441 M43.6657 615.759 L64.0042 615.759 L64.0042 621.616 L58.5933 621.616 Q61.8398 623.621 63.3994 626.613 Q64.9272 629.605 64.9272 633.934 Q64.9272 639.408 61.8716 642.655 Q58.7843 645.869 53.6281 645.869 Q47.6125 645.869 44.5569 641.859 Q41.5014 637.817 41.5014 629.828 L41.5014 621.616 L40.9285 621.616 Q36.8862 621.616 34.6901 624.29 Q32.4621 626.931 32.4621 631.737 Q32.4621 634.793 33.1941 637.689 Q33.9262 640.586 35.3903 643.259 L29.9795 643.259 Q28.7381 640.045 28.1334 637.021 Q27.4968 633.997 27.4968 631.133 Q27.4968 623.398 31.5072 619.579 Q35.5176 615.759 43.6657 615.759 Z\" fill=\"#000000\" fill-rule=\"nonzero\" fill-opacity=\"1\" /><circle clip-path=\"url(#clip212)\" cx=\"856.517\" cy=\"1008.78\" r=\"14.4\" fill=\"#009af9\" fill-rule=\"evenodd\" fill-opacity=\"1\" stroke=\"#000000\" stroke-opacity=\"1\" stroke-width=\"3.2\"/>\n",
       "<circle clip-path=\"url(#clip212)\" cx=\"856.517\" cy=\"1008.78\" r=\"14.4\" fill=\"#009af9\" fill-rule=\"evenodd\" fill-opacity=\"1\" stroke=\"#000000\" stroke-opacity=\"1\" stroke-width=\"3.2\"/>\n",
       "<circle clip-path=\"url(#clip212)\" cx=\"856.517\" cy=\"1008.78\" r=\"14.4\" fill=\"#009af9\" fill-rule=\"evenodd\" fill-opacity=\"1\" stroke=\"#000000\" stroke-opacity=\"1\" stroke-width=\"3.2\"/>\n",
       "<circle clip-path=\"url(#clip212)\" cx=\"856.517\" cy=\"1008.78\" r=\"14.4\" fill=\"#009af9\" fill-rule=\"evenodd\" fill-opacity=\"1\" stroke=\"#000000\" stroke-opacity=\"1\" stroke-width=\"3.2\"/>\n",
       "<circle clip-path=\"url(#clip212)\" cx=\"856.517\" cy=\"1008.78\" r=\"14.4\" fill=\"#009af9\" fill-rule=\"evenodd\" fill-opacity=\"1\" stroke=\"#000000\" stroke-opacity=\"1\" stroke-width=\"3.2\"/>\n",
       "<circle clip-path=\"url(#clip212)\" cx=\"856.517\" cy=\"1008.78\" r=\"14.4\" fill=\"#009af9\" fill-rule=\"evenodd\" fill-opacity=\"1\" stroke=\"#000000\" stroke-opacity=\"1\" stroke-width=\"3.2\"/>\n",
       "<circle clip-path=\"url(#clip212)\" cx=\"856.517\" cy=\"1008.78\" r=\"14.4\" fill=\"#009af9\" fill-rule=\"evenodd\" fill-opacity=\"1\" stroke=\"#000000\" stroke-opacity=\"1\" stroke-width=\"3.2\"/>\n",
       "<circle clip-path=\"url(#clip212)\" cx=\"856.517\" cy=\"1008.78\" r=\"14.4\" fill=\"#009af9\" fill-rule=\"evenodd\" fill-opacity=\"1\" stroke=\"#000000\" stroke-opacity=\"1\" stroke-width=\"3.2\"/>\n",
       "<circle clip-path=\"url(#clip212)\" cx=\"856.517\" cy=\"1008.78\" r=\"14.4\" fill=\"#009af9\" fill-rule=\"evenodd\" fill-opacity=\"1\" stroke=\"#000000\" stroke-opacity=\"1\" stroke-width=\"3.2\"/>\n",
       "<circle clip-path=\"url(#clip212)\" cx=\"856.517\" cy=\"1008.78\" r=\"14.4\" fill=\"#009af9\" fill-rule=\"evenodd\" fill-opacity=\"1\" stroke=\"#000000\" stroke-opacity=\"1\" stroke-width=\"3.2\"/>\n",
       "<circle clip-path=\"url(#clip212)\" cx=\"856.517\" cy=\"1008.78\" r=\"14.4\" fill=\"#009af9\" fill-rule=\"evenodd\" fill-opacity=\"1\" stroke=\"#000000\" stroke-opacity=\"1\" stroke-width=\"3.2\"/>\n",
       "<circle clip-path=\"url(#clip212)\" cx=\"856.517\" cy=\"1008.78\" r=\"14.4\" fill=\"#009af9\" fill-rule=\"evenodd\" fill-opacity=\"1\" stroke=\"#000000\" stroke-opacity=\"1\" stroke-width=\"3.2\"/>\n",
       "<circle clip-path=\"url(#clip212)\" cx=\"454.822\" cy=\"1271.86\" r=\"14.4\" fill=\"#009af9\" fill-rule=\"evenodd\" fill-opacity=\"1\" stroke=\"#000000\" stroke-opacity=\"1\" stroke-width=\"3.2\"/>\n",
       "<circle clip-path=\"url(#clip212)\" cx=\"454.822\" cy=\"1271.86\" r=\"14.4\" fill=\"#009af9\" fill-rule=\"evenodd\" fill-opacity=\"1\" stroke=\"#000000\" stroke-opacity=\"1\" stroke-width=\"3.2\"/>\n",
       "<circle clip-path=\"url(#clip212)\" cx=\"827.114\" cy=\"1030.82\" r=\"14.4\" fill=\"#009af9\" fill-rule=\"evenodd\" fill-opacity=\"1\" stroke=\"#000000\" stroke-opacity=\"1\" stroke-width=\"3.2\"/>\n",
       "<circle clip-path=\"url(#clip212)\" cx=\"827.114\" cy=\"1030.82\" r=\"14.4\" fill=\"#009af9\" fill-rule=\"evenodd\" fill-opacity=\"1\" stroke=\"#000000\" stroke-opacity=\"1\" stroke-width=\"3.2\"/>\n",
       "<circle clip-path=\"url(#clip212)\" cx=\"827.114\" cy=\"1030.82\" r=\"14.4\" fill=\"#009af9\" fill-rule=\"evenodd\" fill-opacity=\"1\" stroke=\"#000000\" stroke-opacity=\"1\" stroke-width=\"3.2\"/>\n",
       "<circle clip-path=\"url(#clip212)\" cx=\"827.114\" cy=\"1030.82\" r=\"14.4\" fill=\"#009af9\" fill-rule=\"evenodd\" fill-opacity=\"1\" stroke=\"#000000\" stroke-opacity=\"1\" stroke-width=\"3.2\"/>\n",
       "<circle clip-path=\"url(#clip212)\" cx=\"827.114\" cy=\"1030.82\" r=\"14.4\" fill=\"#009af9\" fill-rule=\"evenodd\" fill-opacity=\"1\" stroke=\"#000000\" stroke-opacity=\"1\" stroke-width=\"3.2\"/>\n",
       "<circle clip-path=\"url(#clip212)\" cx=\"827.114\" cy=\"1030.82\" r=\"14.4\" fill=\"#009af9\" fill-rule=\"evenodd\" fill-opacity=\"1\" stroke=\"#000000\" stroke-opacity=\"1\" stroke-width=\"3.2\"/>\n",
       "<circle clip-path=\"url(#clip212)\" cx=\"296.451\" cy=\"1373.65\" r=\"14.4\" fill=\"#009af9\" fill-rule=\"evenodd\" fill-opacity=\"1\" stroke=\"#000000\" stroke-opacity=\"1\" stroke-width=\"3.2\"/>\n",
       "<circle clip-path=\"url(#clip212)\" cx=\"296.451\" cy=\"1373.65\" r=\"14.4\" fill=\"#009af9\" fill-rule=\"evenodd\" fill-opacity=\"1\" stroke=\"#000000\" stroke-opacity=\"1\" stroke-width=\"3.2\"/>\n",
       "<circle clip-path=\"url(#clip212)\" cx=\"435.129\" cy=\"1284.43\" r=\"14.4\" fill=\"#009af9\" fill-rule=\"evenodd\" fill-opacity=\"1\" stroke=\"#000000\" stroke-opacity=\"1\" stroke-width=\"3.2\"/>\n",
       "<circle clip-path=\"url(#clip212)\" cx=\"435.129\" cy=\"1284.43\" r=\"14.4\" fill=\"#009af9\" fill-rule=\"evenodd\" fill-opacity=\"1\" stroke=\"#000000\" stroke-opacity=\"1\" stroke-width=\"3.2\"/>\n",
       "<circle clip-path=\"url(#clip212)\" cx=\"435.129\" cy=\"1284.43\" r=\"14.4\" fill=\"#009af9\" fill-rule=\"evenodd\" fill-opacity=\"1\" stroke=\"#000000\" stroke-opacity=\"1\" stroke-width=\"3.2\"/>\n",
       "<circle clip-path=\"url(#clip212)\" cx=\"435.129\" cy=\"1284.43\" r=\"14.4\" fill=\"#009af9\" fill-rule=\"evenodd\" fill-opacity=\"1\" stroke=\"#000000\" stroke-opacity=\"1\" stroke-width=\"3.2\"/>\n",
       "<circle clip-path=\"url(#clip212)\" cx=\"435.129\" cy=\"1284.43\" r=\"14.4\" fill=\"#009af9\" fill-rule=\"evenodd\" fill-opacity=\"1\" stroke=\"#000000\" stroke-opacity=\"1\" stroke-width=\"3.2\"/>\n",
       "<circle clip-path=\"url(#clip212)\" cx=\"435.129\" cy=\"1284.43\" r=\"14.4\" fill=\"#009af9\" fill-rule=\"evenodd\" fill-opacity=\"1\" stroke=\"#000000\" stroke-opacity=\"1\" stroke-width=\"3.2\"/>\n",
       "<circle clip-path=\"url(#clip212)\" cx=\"435.129\" cy=\"1284.43\" r=\"14.4\" fill=\"#009af9\" fill-rule=\"evenodd\" fill-opacity=\"1\" stroke=\"#000000\" stroke-opacity=\"1\" stroke-width=\"3.2\"/>\n",
       "<circle clip-path=\"url(#clip212)\" cx=\"435.129\" cy=\"1284.43\" r=\"14.4\" fill=\"#009af9\" fill-rule=\"evenodd\" fill-opacity=\"1\" stroke=\"#000000\" stroke-opacity=\"1\" stroke-width=\"3.2\"/>\n",
       "<circle clip-path=\"url(#clip212)\" cx=\"435.129\" cy=\"1284.43\" r=\"14.4\" fill=\"#009af9\" fill-rule=\"evenodd\" fill-opacity=\"1\" stroke=\"#000000\" stroke-opacity=\"1\" stroke-width=\"3.2\"/>\n",
       "<circle clip-path=\"url(#clip212)\" cx=\"401.724\" cy=\"1306.06\" r=\"14.4\" fill=\"#009af9\" fill-rule=\"evenodd\" fill-opacity=\"1\" stroke=\"#000000\" stroke-opacity=\"1\" stroke-width=\"3.2\"/>\n",
       "<circle clip-path=\"url(#clip212)\" cx=\"401.724\" cy=\"1306.06\" r=\"14.4\" fill=\"#009af9\" fill-rule=\"evenodd\" fill-opacity=\"1\" stroke=\"#000000\" stroke-opacity=\"1\" stroke-width=\"3.2\"/>\n",
       "<circle clip-path=\"url(#clip212)\" cx=\"401.724\" cy=\"1306.06\" r=\"14.4\" fill=\"#009af9\" fill-rule=\"evenodd\" fill-opacity=\"1\" stroke=\"#000000\" stroke-opacity=\"1\" stroke-width=\"3.2\"/>\n",
       "<circle clip-path=\"url(#clip212)\" cx=\"1442.89\" cy=\"631.459\" r=\"14.4\" fill=\"#009af9\" fill-rule=\"evenodd\" fill-opacity=\"1\" stroke=\"#000000\" stroke-opacity=\"1\" stroke-width=\"3.2\"/>\n",
       "<circle clip-path=\"url(#clip212)\" cx=\"560.201\" cy=\"1204.1\" r=\"14.4\" fill=\"#009af9\" fill-rule=\"evenodd\" fill-opacity=\"1\" stroke=\"#000000\" stroke-opacity=\"1\" stroke-width=\"3.2\"/>\n",
       "<circle clip-path=\"url(#clip212)\" cx=\"355.961\" cy=\"1335.59\" r=\"14.4\" fill=\"#009af9\" fill-rule=\"evenodd\" fill-opacity=\"1\" stroke=\"#000000\" stroke-opacity=\"1\" stroke-width=\"3.2\"/>\n",
       "<circle clip-path=\"url(#clip212)\" cx=\"355.961\" cy=\"1335.59\" r=\"14.4\" fill=\"#009af9\" fill-rule=\"evenodd\" fill-opacity=\"1\" stroke=\"#000000\" stroke-opacity=\"1\" stroke-width=\"3.2\"/>\n",
       "<circle clip-path=\"url(#clip212)\" cx=\"355.961\" cy=\"1335.59\" r=\"14.4\" fill=\"#009af9\" fill-rule=\"evenodd\" fill-opacity=\"1\" stroke=\"#000000\" stroke-opacity=\"1\" stroke-width=\"3.2\"/>\n",
       "<circle clip-path=\"url(#clip212)\" cx=\"355.961\" cy=\"1335.59\" r=\"14.4\" fill=\"#009af9\" fill-rule=\"evenodd\" fill-opacity=\"1\" stroke=\"#000000\" stroke-opacity=\"1\" stroke-width=\"3.2\"/>\n",
       "<circle clip-path=\"url(#clip212)\" cx=\"355.961\" cy=\"1335.59\" r=\"14.4\" fill=\"#009af9\" fill-rule=\"evenodd\" fill-opacity=\"1\" stroke=\"#000000\" stroke-opacity=\"1\" stroke-width=\"3.2\"/>\n",
       "<circle clip-path=\"url(#clip212)\" cx=\"355.961\" cy=\"1335.59\" r=\"14.4\" fill=\"#009af9\" fill-rule=\"evenodd\" fill-opacity=\"1\" stroke=\"#000000\" stroke-opacity=\"1\" stroke-width=\"3.2\"/>\n",
       "<circle clip-path=\"url(#clip212)\" cx=\"355.961\" cy=\"1335.59\" r=\"14.4\" fill=\"#009af9\" fill-rule=\"evenodd\" fill-opacity=\"1\" stroke=\"#000000\" stroke-opacity=\"1\" stroke-width=\"3.2\"/>\n",
       "<circle clip-path=\"url(#clip212)\" cx=\"299.361\" cy=\"1372\" r=\"14.4\" fill=\"#009af9\" fill-rule=\"evenodd\" fill-opacity=\"1\" stroke=\"#000000\" stroke-opacity=\"1\" stroke-width=\"3.2\"/>\n",
       "<circle clip-path=\"url(#clip212)\" cx=\"299.361\" cy=\"1372\" r=\"14.4\" fill=\"#009af9\" fill-rule=\"evenodd\" fill-opacity=\"1\" stroke=\"#000000\" stroke-opacity=\"1\" stroke-width=\"3.2\"/>\n",
       "<circle clip-path=\"url(#clip212)\" cx=\"929.536\" cy=\"966.043\" r=\"14.4\" fill=\"#009af9\" fill-rule=\"evenodd\" fill-opacity=\"1\" stroke=\"#000000\" stroke-opacity=\"1\" stroke-width=\"3.2\"/>\n",
       "<circle clip-path=\"url(#clip212)\" cx=\"929.536\" cy=\"966.043\" r=\"14.4\" fill=\"#009af9\" fill-rule=\"evenodd\" fill-opacity=\"1\" stroke=\"#000000\" stroke-opacity=\"1\" stroke-width=\"3.2\"/>\n",
       "<circle clip-path=\"url(#clip212)\" cx=\"929.536\" cy=\"966.043\" r=\"14.4\" fill=\"#009af9\" fill-rule=\"evenodd\" fill-opacity=\"1\" stroke=\"#000000\" stroke-opacity=\"1\" stroke-width=\"3.2\"/>\n",
       "<circle clip-path=\"url(#clip212)\" cx=\"929.536\" cy=\"966.043\" r=\"14.4\" fill=\"#009af9\" fill-rule=\"evenodd\" fill-opacity=\"1\" stroke=\"#000000\" stroke-opacity=\"1\" stroke-width=\"3.2\"/>\n",
       "<circle clip-path=\"url(#clip212)\" cx=\"1493.57\" cy=\"602.512\" r=\"14.4\" fill=\"#009af9\" fill-rule=\"evenodd\" fill-opacity=\"1\" stroke=\"#000000\" stroke-opacity=\"1\" stroke-width=\"3.2\"/>\n",
       "<circle clip-path=\"url(#clip212)\" cx=\"1493.57\" cy=\"602.512\" r=\"14.4\" fill=\"#009af9\" fill-rule=\"evenodd\" fill-opacity=\"1\" stroke=\"#000000\" stroke-opacity=\"1\" stroke-width=\"3.2\"/>\n",
       "<circle clip-path=\"url(#clip212)\" cx=\"1493.57\" cy=\"602.512\" r=\"14.4\" fill=\"#009af9\" fill-rule=\"evenodd\" fill-opacity=\"1\" stroke=\"#000000\" stroke-opacity=\"1\" stroke-width=\"3.2\"/>\n",
       "<circle clip-path=\"url(#clip212)\" cx=\"1493.57\" cy=\"602.512\" r=\"14.4\" fill=\"#009af9\" fill-rule=\"evenodd\" fill-opacity=\"1\" stroke=\"#000000\" stroke-opacity=\"1\" stroke-width=\"3.2\"/>\n",
       "<circle clip-path=\"url(#clip212)\" cx=\"1493.57\" cy=\"602.512\" r=\"14.4\" fill=\"#009af9\" fill-rule=\"evenodd\" fill-opacity=\"1\" stroke=\"#000000\" stroke-opacity=\"1\" stroke-width=\"3.2\"/>\n",
       "<circle clip-path=\"url(#clip212)\" cx=\"2292.39\" cy=\"86.1857\" r=\"14.4\" fill=\"#009af9\" fill-rule=\"evenodd\" fill-opacity=\"1\" stroke=\"#000000\" stroke-opacity=\"1\" stroke-width=\"3.2\"/>\n",
       "<circle clip-path=\"url(#clip212)\" cx=\"2175.94\" cy=\"162.034\" r=\"14.4\" fill=\"#009af9\" fill-rule=\"evenodd\" fill-opacity=\"1\" stroke=\"#000000\" stroke-opacity=\"1\" stroke-width=\"3.2\"/>\n",
       "<circle clip-path=\"url(#clip212)\" cx=\"2292.39\" cy=\"86.1857\" r=\"14.4\" fill=\"#009af9\" fill-rule=\"evenodd\" fill-opacity=\"1\" stroke=\"#000000\" stroke-opacity=\"1\" stroke-width=\"3.2\"/>\n",
       "<circle clip-path=\"url(#clip212)\" cx=\"2292.39\" cy=\"86.1857\" r=\"14.4\" fill=\"#009af9\" fill-rule=\"evenodd\" fill-opacity=\"1\" stroke=\"#000000\" stroke-opacity=\"1\" stroke-width=\"3.2\"/>\n",
       "<circle clip-path=\"url(#clip212)\" cx=\"2292.39\" cy=\"86.1857\" r=\"14.4\" fill=\"#009af9\" fill-rule=\"evenodd\" fill-opacity=\"1\" stroke=\"#000000\" stroke-opacity=\"1\" stroke-width=\"3.2\"/>\n",
       "<circle clip-path=\"url(#clip212)\" cx=\"955.88\" cy=\"949.081\" r=\"14.4\" fill=\"#009af9\" fill-rule=\"evenodd\" fill-opacity=\"1\" stroke=\"#000000\" stroke-opacity=\"1\" stroke-width=\"3.2\"/>\n",
       "<circle clip-path=\"url(#clip212)\" cx=\"955.88\" cy=\"949.081\" r=\"14.4\" fill=\"#009af9\" fill-rule=\"evenodd\" fill-opacity=\"1\" stroke=\"#000000\" stroke-opacity=\"1\" stroke-width=\"3.2\"/>\n",
       "<circle clip-path=\"url(#clip212)\" cx=\"547.349\" cy=\"1212.36\" r=\"14.4\" fill=\"#009af9\" fill-rule=\"evenodd\" fill-opacity=\"1\" stroke=\"#000000\" stroke-opacity=\"1\" stroke-width=\"3.2\"/>\n",
       "<circle clip-path=\"url(#clip212)\" cx=\"547.349\" cy=\"1212.36\" r=\"14.4\" fill=\"#009af9\" fill-rule=\"evenodd\" fill-opacity=\"1\" stroke=\"#000000\" stroke-opacity=\"1\" stroke-width=\"3.2\"/>\n",
       "<circle clip-path=\"url(#clip212)\" cx=\"547.349\" cy=\"1212.36\" r=\"14.4\" fill=\"#009af9\" fill-rule=\"evenodd\" fill-opacity=\"1\" stroke=\"#000000\" stroke-opacity=\"1\" stroke-width=\"3.2\"/>\n",
       "<circle clip-path=\"url(#clip212)\" cx=\"547.349\" cy=\"1212.36\" r=\"14.4\" fill=\"#009af9\" fill-rule=\"evenodd\" fill-opacity=\"1\" stroke=\"#000000\" stroke-opacity=\"1\" stroke-width=\"3.2\"/>\n",
       "<circle clip-path=\"url(#clip212)\" cx=\"547.349\" cy=\"1212.36\" r=\"14.4\" fill=\"#009af9\" fill-rule=\"evenodd\" fill-opacity=\"1\" stroke=\"#000000\" stroke-opacity=\"1\" stroke-width=\"3.2\"/>\n",
       "<circle clip-path=\"url(#clip212)\" cx=\"547.349\" cy=\"1212.36\" r=\"14.4\" fill=\"#009af9\" fill-rule=\"evenodd\" fill-opacity=\"1\" stroke=\"#000000\" stroke-opacity=\"1\" stroke-width=\"3.2\"/>\n",
       "<circle clip-path=\"url(#clip212)\" cx=\"547.349\" cy=\"1212.36\" r=\"14.4\" fill=\"#009af9\" fill-rule=\"evenodd\" fill-opacity=\"1\" stroke=\"#000000\" stroke-opacity=\"1\" stroke-width=\"3.2\"/>\n",
       "<circle clip-path=\"url(#clip212)\" cx=\"547.349\" cy=\"1212.36\" r=\"14.4\" fill=\"#009af9\" fill-rule=\"evenodd\" fill-opacity=\"1\" stroke=\"#000000\" stroke-opacity=\"1\" stroke-width=\"3.2\"/>\n",
       "<circle clip-path=\"url(#clip212)\" cx=\"547.349\" cy=\"1212.36\" r=\"14.4\" fill=\"#009af9\" fill-rule=\"evenodd\" fill-opacity=\"1\" stroke=\"#000000\" stroke-opacity=\"1\" stroke-width=\"3.2\"/>\n",
       "<circle clip-path=\"url(#clip212)\" cx=\"547.349\" cy=\"1212.36\" r=\"14.4\" fill=\"#009af9\" fill-rule=\"evenodd\" fill-opacity=\"1\" stroke=\"#000000\" stroke-opacity=\"1\" stroke-width=\"3.2\"/>\n",
       "<circle clip-path=\"url(#clip212)\" cx=\"434.403\" cy=\"1285.11\" r=\"14.4\" fill=\"#009af9\" fill-rule=\"evenodd\" fill-opacity=\"1\" stroke=\"#000000\" stroke-opacity=\"1\" stroke-width=\"3.2\"/>\n",
       "<circle clip-path=\"url(#clip212)\" cx=\"434.403\" cy=\"1285.11\" r=\"14.4\" fill=\"#009af9\" fill-rule=\"evenodd\" fill-opacity=\"1\" stroke=\"#000000\" stroke-opacity=\"1\" stroke-width=\"3.2\"/>\n",
       "<circle clip-path=\"url(#clip212)\" cx=\"323.42\" cy=\"1356.61\" r=\"14.4\" fill=\"#009af9\" fill-rule=\"evenodd\" fill-opacity=\"1\" stroke=\"#000000\" stroke-opacity=\"1\" stroke-width=\"3.2\"/>\n",
       "<circle clip-path=\"url(#clip212)\" cx=\"323.42\" cy=\"1356.61\" r=\"14.4\" fill=\"#009af9\" fill-rule=\"evenodd\" fill-opacity=\"1\" stroke=\"#000000\" stroke-opacity=\"1\" stroke-width=\"3.2\"/>\n",
       "<circle clip-path=\"url(#clip212)\" cx=\"323.42\" cy=\"1356.61\" r=\"14.4\" fill=\"#009af9\" fill-rule=\"evenodd\" fill-opacity=\"1\" stroke=\"#000000\" stroke-opacity=\"1\" stroke-width=\"3.2\"/>\n",
       "<circle clip-path=\"url(#clip212)\" cx=\"323.42\" cy=\"1356.61\" r=\"14.4\" fill=\"#009af9\" fill-rule=\"evenodd\" fill-opacity=\"1\" stroke=\"#000000\" stroke-opacity=\"1\" stroke-width=\"3.2\"/>\n",
       "<circle clip-path=\"url(#clip212)\" cx=\"323.42\" cy=\"1356.61\" r=\"14.4\" fill=\"#009af9\" fill-rule=\"evenodd\" fill-opacity=\"1\" stroke=\"#000000\" stroke-opacity=\"1\" stroke-width=\"3.2\"/>\n",
       "<circle clip-path=\"url(#clip212)\" cx=\"1221.52\" cy=\"777.77\" r=\"14.4\" fill=\"#009af9\" fill-rule=\"evenodd\" fill-opacity=\"1\" stroke=\"#000000\" stroke-opacity=\"1\" stroke-width=\"3.2\"/>\n",
       "<circle clip-path=\"url(#clip212)\" cx=\"641.541\" cy=\"1151.55\" r=\"14.4\" fill=\"#009af9\" fill-rule=\"evenodd\" fill-opacity=\"1\" stroke=\"#000000\" stroke-opacity=\"1\" stroke-width=\"3.2\"/>\n",
       "<circle clip-path=\"url(#clip212)\" cx=\"641.541\" cy=\"1151.55\" r=\"14.4\" fill=\"#009af9\" fill-rule=\"evenodd\" fill-opacity=\"1\" stroke=\"#000000\" stroke-opacity=\"1\" stroke-width=\"3.2\"/>\n",
       "<circle clip-path=\"url(#clip212)\" cx=\"641.541\" cy=\"1151.55\" r=\"14.4\" fill=\"#009af9\" fill-rule=\"evenodd\" fill-opacity=\"1\" stroke=\"#000000\" stroke-opacity=\"1\" stroke-width=\"3.2\"/>\n",
       "<circle clip-path=\"url(#clip212)\" cx=\"739.318\" cy=\"1088.64\" r=\"14.4\" fill=\"#009af9\" fill-rule=\"evenodd\" fill-opacity=\"1\" stroke=\"#000000\" stroke-opacity=\"1\" stroke-width=\"3.2\"/>\n",
       "<circle clip-path=\"url(#clip212)\" cx=\"739.318\" cy=\"1088.64\" r=\"14.4\" fill=\"#009af9\" fill-rule=\"evenodd\" fill-opacity=\"1\" stroke=\"#000000\" stroke-opacity=\"1\" stroke-width=\"3.2\"/>\n",
       "<circle clip-path=\"url(#clip212)\" cx=\"1814.41\" cy=\"394.073\" r=\"14.4\" fill=\"#009af9\" fill-rule=\"evenodd\" fill-opacity=\"1\" stroke=\"#000000\" stroke-opacity=\"1\" stroke-width=\"3.2\"/>\n",
       "<circle clip-path=\"url(#clip212)\" cx=\"1814.41\" cy=\"394.073\" r=\"14.4\" fill=\"#009af9\" fill-rule=\"evenodd\" fill-opacity=\"1\" stroke=\"#000000\" stroke-opacity=\"1\" stroke-width=\"3.2\"/>\n",
       "<circle clip-path=\"url(#clip212)\" cx=\"739.318\" cy=\"1088.64\" r=\"14.4\" fill=\"#009af9\" fill-rule=\"evenodd\" fill-opacity=\"1\" stroke=\"#000000\" stroke-opacity=\"1\" stroke-width=\"3.2\"/>\n",
       "<circle clip-path=\"url(#clip212)\" cx=\"338.7\" cy=\"1346.35\" r=\"14.4\" fill=\"#009af9\" fill-rule=\"evenodd\" fill-opacity=\"1\" stroke=\"#000000\" stroke-opacity=\"1\" stroke-width=\"3.2\"/>\n",
       "<circle clip-path=\"url(#clip212)\" cx=\"280.231\" cy=\"1384.24\" r=\"14.4\" fill=\"#009af9\" fill-rule=\"evenodd\" fill-opacity=\"1\" stroke=\"#000000\" stroke-opacity=\"1\" stroke-width=\"3.2\"/>\n",
       "<circle clip-path=\"url(#clip212)\" cx=\"280.231\" cy=\"1384.24\" r=\"14.4\" fill=\"#009af9\" fill-rule=\"evenodd\" fill-opacity=\"1\" stroke=\"#000000\" stroke-opacity=\"1\" stroke-width=\"3.2\"/>\n",
       "<circle clip-path=\"url(#clip212)\" cx=\"545.676\" cy=\"1213.5\" r=\"14.4\" fill=\"#009af9\" fill-rule=\"evenodd\" fill-opacity=\"1\" stroke=\"#000000\" stroke-opacity=\"1\" stroke-width=\"3.2\"/>\n",
       "<circle clip-path=\"url(#clip212)\" cx=\"283.402\" cy=\"1382.25\" r=\"14.4\" fill=\"#009af9\" fill-rule=\"evenodd\" fill-opacity=\"1\" stroke=\"#000000\" stroke-opacity=\"1\" stroke-width=\"3.2\"/>\n",
       "<circle clip-path=\"url(#clip212)\" cx=\"283.402\" cy=\"1382.25\" r=\"14.4\" fill=\"#009af9\" fill-rule=\"evenodd\" fill-opacity=\"1\" stroke=\"#000000\" stroke-opacity=\"1\" stroke-width=\"3.2\"/>\n",
       "<circle clip-path=\"url(#clip212)\" cx=\"283.402\" cy=\"1382.25\" r=\"14.4\" fill=\"#009af9\" fill-rule=\"evenodd\" fill-opacity=\"1\" stroke=\"#000000\" stroke-opacity=\"1\" stroke-width=\"3.2\"/>\n",
       "<circle clip-path=\"url(#clip212)\" cx=\"373.863\" cy=\"1323.97\" r=\"14.4\" fill=\"#009af9\" fill-rule=\"evenodd\" fill-opacity=\"1\" stroke=\"#000000\" stroke-opacity=\"1\" stroke-width=\"3.2\"/>\n",
       "<circle clip-path=\"url(#clip212)\" cx=\"401.411\" cy=\"1306.13\" r=\"14.4\" fill=\"#009af9\" fill-rule=\"evenodd\" fill-opacity=\"1\" stroke=\"#000000\" stroke-opacity=\"1\" stroke-width=\"3.2\"/>\n",
       "<circle clip-path=\"url(#clip212)\" cx=\"401.411\" cy=\"1306.13\" r=\"14.4\" fill=\"#009af9\" fill-rule=\"evenodd\" fill-opacity=\"1\" stroke=\"#000000\" stroke-opacity=\"1\" stroke-width=\"3.2\"/>\n",
       "<circle clip-path=\"url(#clip212)\" cx=\"401.411\" cy=\"1306.13\" r=\"14.4\" fill=\"#009af9\" fill-rule=\"evenodd\" fill-opacity=\"1\" stroke=\"#000000\" stroke-opacity=\"1\" stroke-width=\"3.2\"/>\n",
       "<circle clip-path=\"url(#clip212)\" cx=\"401.411\" cy=\"1306.13\" r=\"14.4\" fill=\"#009af9\" fill-rule=\"evenodd\" fill-opacity=\"1\" stroke=\"#000000\" stroke-opacity=\"1\" stroke-width=\"3.2\"/>\n",
       "<circle clip-path=\"url(#clip212)\" cx=\"401.411\" cy=\"1306.13\" r=\"14.4\" fill=\"#009af9\" fill-rule=\"evenodd\" fill-opacity=\"1\" stroke=\"#000000\" stroke-opacity=\"1\" stroke-width=\"3.2\"/>\n",
       "<path clip-path=\"url(#clip210)\" d=\"M290.963 196.789 L556.682 196.789 L556.682 93.1086 L290.963 93.1086  Z\" fill=\"#ffffff\" fill-rule=\"evenodd\" fill-opacity=\"1\"/>\n",
       "<polyline clip-path=\"url(#clip210)\" style=\"stroke:#000000; stroke-linecap:round; stroke-linejoin:round; stroke-width:4; stroke-opacity:1; fill:none\" points=\"290.963,196.789 556.682,196.789 556.682,93.1086 290.963,93.1086 290.963,196.789 \"/>\n",
       "<circle clip-path=\"url(#clip210)\" cx=\"385.758\" cy=\"144.949\" r=\"20.48\" fill=\"#009af9\" fill-rule=\"evenodd\" fill-opacity=\"1\" stroke=\"#000000\" stroke-opacity=\"1\" stroke-width=\"4.55111\"/>\n",
       "<path clip-path=\"url(#clip210)\" d=\"M494.395 164.636 Q492.59 169.266 490.877 170.678 Q489.164 172.09 486.293 172.09 L482.891 172.09 L482.891 168.525 L485.391 168.525 Q487.15 168.525 488.122 167.692 Q489.094 166.858 490.275 163.756 L491.039 161.812 L480.553 136.303 L485.067 136.303 L493.168 156.581 L501.27 136.303 L505.784 136.303 L494.395 164.636 Z\" fill=\"#000000\" fill-rule=\"nonzero\" fill-opacity=\"1\" /><path clip-path=\"url(#clip210)\" d=\"M513.076 158.293 L520.715 158.293 L520.715 131.928 L512.404 133.595 L512.404 129.335 L520.668 127.669 L525.344 127.669 L525.344 158.293 L532.983 158.293 L532.983 162.229 L513.076 162.229 L513.076 158.293 Z\" fill=\"#000000\" fill-rule=\"nonzero\" fill-opacity=\"1\" /></svg>\n"
      ],
      "text/html": [
       "<?xml version=\"1.0\" encoding=\"utf-8\"?>\n",
       "<svg xmlns=\"http://www.w3.org/2000/svg\" xmlns:xlink=\"http://www.w3.org/1999/xlink\" width=\"600\" height=\"400\" viewBox=\"0 0 2400 1600\">\n",
       "<defs>\n",
       "  <clipPath id=\"clip260\">\n",
       "    <rect x=\"0\" y=\"0\" width=\"2400\" height=\"1600\"/>\n",
       "  </clipPath>\n",
       "</defs>\n",
       "<path clip-path=\"url(#clip260)\" d=\"M0 1600 L2400 1600 L2400 0 L0 0  Z\" fill=\"#ffffff\" fill-rule=\"evenodd\" fill-opacity=\"1\"/>\n",
       "<defs>\n",
       "  <clipPath id=\"clip261\">\n",
       "    <rect x=\"480\" y=\"0\" width=\"1681\" height=\"1600\"/>\n",
       "  </clipPath>\n",
       "</defs>\n",
       "<path clip-path=\"url(#clip260)\" d=\"M219.866 1423.18 L2352.76 1423.18 L2352.76 47.2441 L219.866 47.2441  Z\" fill=\"#ffffff\" fill-rule=\"evenodd\" fill-opacity=\"1\"/>\n",
       "<defs>\n",
       "  <clipPath id=\"clip262\">\n",
       "    <rect x=\"219\" y=\"47\" width=\"2134\" height=\"1377\"/>\n",
       "  </clipPath>\n",
       "</defs>\n",
       "<polyline clip-path=\"url(#clip262)\" style=\"stroke:#000000; stroke-linecap:round; stroke-linejoin:round; stroke-width:2; stroke-opacity:0.1; fill:none\" points=\"279.564,1423.18 279.564,47.2441 \"/>\n",
       "<polyline clip-path=\"url(#clip262)\" style=\"stroke:#000000; stroke-linecap:round; stroke-linejoin:round; stroke-width:2; stroke-opacity:0.1; fill:none\" points=\"718.147,1423.18 718.147,47.2441 \"/>\n",
       "<polyline clip-path=\"url(#clip262)\" style=\"stroke:#000000; stroke-linecap:round; stroke-linejoin:round; stroke-width:2; stroke-opacity:0.1; fill:none\" points=\"1156.73,1423.18 1156.73,47.2441 \"/>\n",
       "<polyline clip-path=\"url(#clip262)\" style=\"stroke:#000000; stroke-linecap:round; stroke-linejoin:round; stroke-width:2; stroke-opacity:0.1; fill:none\" points=\"1595.31,1423.18 1595.31,47.2441 \"/>\n",
       "<polyline clip-path=\"url(#clip262)\" style=\"stroke:#000000; stroke-linecap:round; stroke-linejoin:round; stroke-width:2; stroke-opacity:0.1; fill:none\" points=\"2033.9,1423.18 2033.9,47.2441 \"/>\n",
       "<polyline clip-path=\"url(#clip260)\" style=\"stroke:#000000; stroke-linecap:round; stroke-linejoin:round; stroke-width:4; stroke-opacity:1; fill:none\" points=\"219.866,1423.18 2352.76,1423.18 \"/>\n",
       "<polyline clip-path=\"url(#clip260)\" style=\"stroke:#000000; stroke-linecap:round; stroke-linejoin:round; stroke-width:4; stroke-opacity:1; fill:none\" points=\"279.564,1423.18 279.564,1404.28 \"/>\n",
       "<polyline clip-path=\"url(#clip260)\" style=\"stroke:#000000; stroke-linecap:round; stroke-linejoin:round; stroke-width:4; stroke-opacity:1; fill:none\" points=\"718.147,1423.18 718.147,1404.28 \"/>\n",
       "<polyline clip-path=\"url(#clip260)\" style=\"stroke:#000000; stroke-linecap:round; stroke-linejoin:round; stroke-width:4; stroke-opacity:1; fill:none\" points=\"1156.73,1423.18 1156.73,1404.28 \"/>\n",
       "<polyline clip-path=\"url(#clip260)\" style=\"stroke:#000000; stroke-linecap:round; stroke-linejoin:round; stroke-width:4; stroke-opacity:1; fill:none\" points=\"1595.31,1423.18 1595.31,1404.28 \"/>\n",
       "<polyline clip-path=\"url(#clip260)\" style=\"stroke:#000000; stroke-linecap:round; stroke-linejoin:round; stroke-width:4; stroke-opacity:1; fill:none\" points=\"2033.9,1423.18 2033.9,1404.28 \"/>\n",
       "<path clip-path=\"url(#clip260)\" d=\"M256.948 1454.1 Q253.337 1454.1 251.509 1457.66 Q249.703 1461.2 249.703 1468.33 Q249.703 1475.44 251.509 1479.01 Q253.337 1482.55 256.948 1482.55 Q260.583 1482.55 262.388 1479.01 Q264.217 1475.44 264.217 1468.33 Q264.217 1461.2 262.388 1457.66 Q260.583 1454.1 256.948 1454.1 M256.948 1450.39 Q262.759 1450.39 265.814 1455 Q268.893 1459.58 268.893 1468.33 Q268.893 1477.06 265.814 1481.67 Q262.759 1486.25 256.948 1486.25 Q251.138 1486.25 248.06 1481.67 Q245.004 1477.06 245.004 1468.33 Q245.004 1459.58 248.06 1455 Q251.138 1450.39 256.948 1450.39 Z\" fill=\"#000000\" fill-rule=\"nonzero\" fill-opacity=\"1\" /><path clip-path=\"url(#clip260)\" d=\"M277.11 1479.7 L281.995 1479.7 L281.995 1485.58 L277.11 1485.58 L277.11 1479.7 Z\" fill=\"#000000\" fill-rule=\"nonzero\" fill-opacity=\"1\" /><path clip-path=\"url(#clip260)\" d=\"M302.18 1454.1 Q298.569 1454.1 296.74 1457.66 Q294.934 1461.2 294.934 1468.33 Q294.934 1475.44 296.74 1479.01 Q298.569 1482.55 302.18 1482.55 Q305.814 1482.55 307.619 1479.01 Q309.448 1475.44 309.448 1468.33 Q309.448 1461.2 307.619 1457.66 Q305.814 1454.1 302.18 1454.1 M302.18 1450.39 Q307.99 1450.39 311.045 1455 Q314.124 1459.58 314.124 1468.33 Q314.124 1477.06 311.045 1481.67 Q307.99 1486.25 302.18 1486.25 Q296.37 1486.25 293.291 1481.67 Q290.235 1477.06 290.235 1468.33 Q290.235 1459.58 293.291 1455 Q296.37 1450.39 302.18 1450.39 Z\" fill=\"#000000\" fill-rule=\"nonzero\" fill-opacity=\"1\" /><path clip-path=\"url(#clip260)\" d=\"M696.145 1454.1 Q692.534 1454.1 690.705 1457.66 Q688.9 1461.2 688.9 1468.33 Q688.9 1475.44 690.705 1479.01 Q692.534 1482.55 696.145 1482.55 Q699.779 1482.55 701.585 1479.01 Q703.413 1475.44 703.413 1468.33 Q703.413 1461.2 701.585 1457.66 Q699.779 1454.1 696.145 1454.1 M696.145 1450.39 Q701.955 1450.39 705.011 1455 Q708.089 1459.58 708.089 1468.33 Q708.089 1477.06 705.011 1481.67 Q701.955 1486.25 696.145 1486.25 Q690.335 1486.25 687.256 1481.67 Q684.201 1477.06 684.201 1468.33 Q684.201 1459.58 687.256 1455 Q690.335 1450.39 696.145 1450.39 Z\" fill=\"#000000\" fill-rule=\"nonzero\" fill-opacity=\"1\" /><path clip-path=\"url(#clip260)\" d=\"M716.307 1479.7 L721.191 1479.7 L721.191 1485.58 L716.307 1485.58 L716.307 1479.7 Z\" fill=\"#000000\" fill-rule=\"nonzero\" fill-opacity=\"1\" /><path clip-path=\"url(#clip260)\" d=\"M732.186 1481.64 L739.825 1481.64 L739.825 1455.28 L731.515 1456.95 L731.515 1452.69 L739.779 1451.02 L744.455 1451.02 L744.455 1481.64 L752.094 1481.64 L752.094 1485.58 L732.186 1485.58 L732.186 1481.64 Z\" fill=\"#000000\" fill-rule=\"nonzero\" fill-opacity=\"1\" /><path clip-path=\"url(#clip260)\" d=\"M1134.91 1454.1 Q1131.3 1454.1 1129.47 1457.66 Q1127.67 1461.2 1127.67 1468.33 Q1127.67 1475.44 1129.47 1479.01 Q1131.3 1482.55 1134.91 1482.55 Q1138.55 1482.55 1140.35 1479.01 Q1142.18 1475.44 1142.18 1468.33 Q1142.18 1461.2 1140.35 1457.66 Q1138.55 1454.1 1134.91 1454.1 M1134.91 1450.39 Q1140.72 1450.39 1143.78 1455 Q1146.86 1459.58 1146.86 1468.33 Q1146.86 1477.06 1143.78 1481.67 Q1140.72 1486.25 1134.91 1486.25 Q1129.1 1486.25 1126.02 1481.67 Q1122.97 1477.06 1122.97 1468.33 Q1122.97 1459.58 1126.02 1455 Q1129.1 1450.39 1134.91 1450.39 Z\" fill=\"#000000\" fill-rule=\"nonzero\" fill-opacity=\"1\" /><path clip-path=\"url(#clip260)\" d=\"M1155.08 1479.7 L1159.96 1479.7 L1159.96 1485.58 L1155.08 1485.58 L1155.08 1479.7 Z\" fill=\"#000000\" fill-rule=\"nonzero\" fill-opacity=\"1\" /><path clip-path=\"url(#clip260)\" d=\"M1174.17 1481.64 L1190.49 1481.64 L1190.49 1485.58 L1168.55 1485.58 L1168.55 1481.64 Q1171.21 1478.89 1175.79 1474.26 Q1180.4 1469.61 1181.58 1468.27 Q1183.83 1465.74 1184.7 1464.01 Q1185.61 1462.25 1185.61 1460.56 Q1185.61 1457.8 1183.66 1456.07 Q1181.74 1454.33 1178.64 1454.33 Q1176.44 1454.33 1173.99 1455.09 Q1171.56 1455.86 1168.78 1457.41 L1168.78 1452.69 Q1171.6 1451.55 1174.06 1450.97 Q1176.51 1450.39 1178.55 1450.39 Q1183.92 1450.39 1187.11 1453.08 Q1190.31 1455.77 1190.31 1460.26 Q1190.31 1462.39 1189.5 1464.31 Q1188.71 1466.2 1186.6 1468.8 Q1186.02 1469.47 1182.92 1472.69 Q1179.82 1475.88 1174.17 1481.64 Z\" fill=\"#000000\" fill-rule=\"nonzero\" fill-opacity=\"1\" /><path clip-path=\"url(#clip260)\" d=\"M1573.02 1454.1 Q1569.41 1454.1 1567.58 1457.66 Q1565.78 1461.2 1565.78 1468.33 Q1565.78 1475.44 1567.58 1479.01 Q1569.41 1482.55 1573.02 1482.55 Q1576.66 1482.55 1578.46 1479.01 Q1580.29 1475.44 1580.29 1468.33 Q1580.29 1461.2 1578.46 1457.66 Q1576.66 1454.1 1573.02 1454.1 M1573.02 1450.39 Q1578.83 1450.39 1581.89 1455 Q1584.97 1459.58 1584.97 1468.33 Q1584.97 1477.06 1581.89 1481.67 Q1578.83 1486.25 1573.02 1486.25 Q1567.21 1486.25 1564.13 1481.67 Q1561.08 1477.06 1561.08 1468.33 Q1561.08 1459.58 1564.13 1455 Q1567.21 1450.39 1573.02 1450.39 Z\" fill=\"#000000\" fill-rule=\"nonzero\" fill-opacity=\"1\" /><path clip-path=\"url(#clip260)\" d=\"M1593.18 1479.7 L1598.07 1479.7 L1598.07 1485.58 L1593.18 1485.58 L1593.18 1479.7 Z\" fill=\"#000000\" fill-rule=\"nonzero\" fill-opacity=\"1\" /><path clip-path=\"url(#clip260)\" d=\"M1622.42 1466.95 Q1625.78 1467.66 1627.65 1469.93 Q1629.55 1472.2 1629.55 1475.53 Q1629.55 1480.65 1626.03 1483.45 Q1622.51 1486.25 1616.03 1486.25 Q1613.86 1486.25 1611.54 1485.81 Q1609.25 1485.39 1606.79 1484.54 L1606.79 1480.02 Q1608.74 1481.16 1611.05 1481.74 Q1613.37 1482.32 1615.89 1482.32 Q1620.29 1482.32 1622.58 1480.58 Q1624.9 1478.84 1624.9 1475.53 Q1624.9 1472.48 1622.74 1470.77 Q1620.61 1469.03 1616.79 1469.03 L1612.77 1469.03 L1612.77 1465.19 L1616.98 1465.19 Q1620.43 1465.19 1622.26 1463.82 Q1624.09 1462.43 1624.09 1459.84 Q1624.09 1457.18 1622.19 1455.77 Q1620.31 1454.33 1616.79 1454.33 Q1614.87 1454.33 1612.67 1454.75 Q1610.48 1455.16 1607.84 1456.04 L1607.84 1451.88 Q1610.5 1451.14 1612.81 1450.77 Q1615.15 1450.39 1617.21 1450.39 Q1622.54 1450.39 1625.64 1452.83 Q1628.74 1455.23 1628.74 1459.35 Q1628.74 1462.22 1627.1 1464.21 Q1625.45 1466.18 1622.42 1466.95 Z\" fill=\"#000000\" fill-rule=\"nonzero\" fill-opacity=\"1\" /><path clip-path=\"url(#clip260)\" d=\"M2011.04 1454.1 Q2007.43 1454.1 2005.6 1457.66 Q2003.79 1461.2 2003.79 1468.33 Q2003.79 1475.44 2005.6 1479.01 Q2007.43 1482.55 2011.04 1482.55 Q2014.67 1482.55 2016.48 1479.01 Q2018.31 1475.44 2018.31 1468.33 Q2018.31 1461.2 2016.48 1457.66 Q2014.67 1454.1 2011.04 1454.1 M2011.04 1450.39 Q2016.85 1450.39 2019.9 1455 Q2022.98 1459.58 2022.98 1468.33 Q2022.98 1477.06 2019.9 1481.67 Q2016.85 1486.25 2011.04 1486.25 Q2005.23 1486.25 2002.15 1481.67 Q1999.09 1477.06 1999.09 1468.33 Q1999.09 1459.58 2002.15 1455 Q2005.23 1450.39 2011.04 1450.39 Z\" fill=\"#000000\" fill-rule=\"nonzero\" fill-opacity=\"1\" /><path clip-path=\"url(#clip260)\" d=\"M2031.2 1479.7 L2036.08 1479.7 L2036.08 1485.58 L2031.2 1485.58 L2031.2 1479.7 Z\" fill=\"#000000\" fill-rule=\"nonzero\" fill-opacity=\"1\" /><path clip-path=\"url(#clip260)\" d=\"M2059.12 1455.09 L2047.31 1473.54 L2059.12 1473.54 L2059.12 1455.09 M2057.89 1451.02 L2063.77 1451.02 L2063.77 1473.54 L2068.7 1473.54 L2068.7 1477.43 L2063.77 1477.43 L2063.77 1485.58 L2059.12 1485.58 L2059.12 1477.43 L2043.51 1477.43 L2043.51 1472.92 L2057.89 1451.02 Z\" fill=\"#000000\" fill-rule=\"nonzero\" fill-opacity=\"1\" /><path clip-path=\"url(#clip260)\" d=\"M1176.03 1550.25 Q1176.03 1543.79 1173.35 1540.13 Q1170.71 1536.44 1166.06 1536.44 Q1161.42 1536.44 1158.74 1540.13 Q1156.1 1543.79 1156.1 1550.25 Q1156.1 1556.71 1158.74 1560.4 Q1161.42 1564.07 1166.06 1564.07 Q1170.71 1564.07 1173.35 1560.4 Q1176.03 1556.71 1176.03 1550.25 M1156.1 1537.81 Q1157.95 1534.62 1160.75 1533.1 Q1163.58 1531.54 1167.5 1531.54 Q1173.99 1531.54 1178.03 1536.69 Q1182.1 1541.85 1182.1 1550.25 Q1182.1 1558.65 1178.03 1563.81 Q1173.99 1568.97 1167.5 1568.97 Q1163.58 1568.97 1160.75 1567.44 Q1157.95 1565.88 1156.1 1562.7 L1156.1 1568.04 L1150.21 1568.04 L1150.21 1518.52 L1156.1 1518.52 L1156.1 1537.81 Z\" fill=\"#000000\" fill-rule=\"nonzero\" fill-opacity=\"1\" /><path clip-path=\"url(#clip260)\" d=\"M1191.21 1553.98 L1191.21 1532.4 L1197.06 1532.4 L1197.06 1553.75 Q1197.06 1558.81 1199.04 1561.36 Q1201.01 1563.87 1204.96 1563.87 Q1209.7 1563.87 1212.44 1560.85 Q1215.21 1557.83 1215.21 1552.61 L1215.21 1532.4 L1221.06 1532.4 L1221.06 1568.04 L1215.21 1568.04 L1215.21 1562.57 Q1213.07 1565.82 1210.24 1567.41 Q1207.44 1568.97 1203.72 1568.97 Q1197.57 1568.97 1194.39 1565.15 Q1191.21 1561.33 1191.21 1553.98 M1205.94 1531.54 L1205.94 1531.54 Z\" fill=\"#000000\" fill-rule=\"nonzero\" fill-opacity=\"1\" /><path clip-path=\"url(#clip260)\" d=\"M1233.13 1518.52 L1238.98 1518.52 L1238.98 1568.04 L1233.13 1568.04 L1233.13 1518.52 Z\" fill=\"#000000\" fill-rule=\"nonzero\" fill-opacity=\"1\" /><path clip-path=\"url(#clip260)\" d=\"M1251.01 1518.52 L1256.9 1518.52 L1256.9 1547.77 L1274.38 1532.4 L1281.86 1532.4 L1262.95 1549.07 L1282.65 1568.04 L1275.01 1568.04 L1256.9 1550.63 L1256.9 1568.04 L1251.01 1568.04 L1251.01 1518.52 Z\" fill=\"#000000\" fill-rule=\"nonzero\" fill-opacity=\"1\" /><path clip-path=\"url(#clip260)\" d=\"M1288.98 1518.52 L1294.84 1518.52 L1294.84 1568.04 L1288.98 1568.04 L1288.98 1518.52 Z\" fill=\"#000000\" fill-rule=\"nonzero\" fill-opacity=\"1\" /><path clip-path=\"url(#clip260)\" d=\"M1334.85 1539.24 Q1337.05 1535.29 1340.1 1533.41 Q1343.16 1531.54 1347.29 1531.54 Q1352.86 1531.54 1355.89 1535.45 Q1358.91 1539.33 1358.91 1546.53 L1358.91 1568.04 L1353.02 1568.04 L1353.02 1546.72 Q1353.02 1541.59 1351.21 1539.11 Q1349.4 1536.63 1345.67 1536.63 Q1341.12 1536.63 1338.48 1539.65 Q1335.84 1542.68 1335.84 1547.9 L1335.84 1568.04 L1329.95 1568.04 L1329.95 1546.72 Q1329.95 1541.56 1328.13 1539.11 Q1326.32 1536.63 1322.53 1536.63 Q1318.04 1536.63 1315.4 1539.68 Q1312.76 1542.71 1312.76 1547.9 L1312.76 1568.04 L1306.87 1568.04 L1306.87 1532.4 L1312.76 1532.4 L1312.76 1537.93 Q1314.77 1534.66 1317.57 1533.1 Q1320.37 1531.54 1324.22 1531.54 Q1328.1 1531.54 1330.81 1533.51 Q1333.54 1535.48 1334.85 1539.24 Z\" fill=\"#000000\" fill-rule=\"nonzero\" fill-opacity=\"1\" /><path clip-path=\"url(#clip260)\" d=\"M1398.35 1539.24 Q1400.54 1535.29 1403.6 1533.41 Q1406.65 1531.54 1410.79 1531.54 Q1416.36 1531.54 1419.39 1535.45 Q1422.41 1539.33 1422.41 1546.53 L1422.41 1568.04 L1416.52 1568.04 L1416.52 1546.72 Q1416.52 1541.59 1414.71 1539.11 Q1412.89 1536.63 1409.17 1536.63 Q1404.62 1536.63 1401.98 1539.65 Q1399.33 1542.68 1399.33 1547.9 L1399.33 1568.04 L1393.45 1568.04 L1393.45 1546.72 Q1393.45 1541.56 1391.63 1539.11 Q1389.82 1536.63 1386.03 1536.63 Q1381.54 1536.63 1378.9 1539.68 Q1376.26 1542.71 1376.26 1547.9 L1376.26 1568.04 L1370.37 1568.04 L1370.37 1532.4 L1376.26 1532.4 L1376.26 1537.93 Q1378.26 1534.66 1381.06 1533.1 Q1383.87 1531.54 1387.72 1531.54 Q1391.6 1531.54 1394.31 1533.51 Q1397.04 1535.48 1398.35 1539.24 Z\" fill=\"#000000\" fill-rule=\"nonzero\" fill-opacity=\"1\" /><polyline clip-path=\"url(#clip262)\" style=\"stroke:#000000; stroke-linecap:round; stroke-linejoin:round; stroke-width:2; stroke-opacity:0.1; fill:none\" points=\"219.866,1384.69 2352.76,1384.69 \"/>\n",
       "<polyline clip-path=\"url(#clip262)\" style=\"stroke:#000000; stroke-linecap:round; stroke-linejoin:round; stroke-width:2; stroke-opacity:0.1; fill:none\" points=\"219.866,1101.99 2352.76,1101.99 \"/>\n",
       "<polyline clip-path=\"url(#clip262)\" style=\"stroke:#000000; stroke-linecap:round; stroke-linejoin:round; stroke-width:2; stroke-opacity:0.1; fill:none\" points=\"219.866,819.289 2352.76,819.289 \"/>\n",
       "<polyline clip-path=\"url(#clip262)\" style=\"stroke:#000000; stroke-linecap:round; stroke-linejoin:round; stroke-width:2; stroke-opacity:0.1; fill:none\" points=\"219.866,536.589 2352.76,536.589 \"/>\n",
       "<polyline clip-path=\"url(#clip262)\" style=\"stroke:#000000; stroke-linecap:round; stroke-linejoin:round; stroke-width:2; stroke-opacity:0.1; fill:none\" points=\"219.866,253.888 2352.76,253.888 \"/>\n",
       "<polyline clip-path=\"url(#clip260)\" style=\"stroke:#000000; stroke-linecap:round; stroke-linejoin:round; stroke-width:4; stroke-opacity:1; fill:none\" points=\"219.866,1423.18 219.866,47.2441 \"/>\n",
       "<polyline clip-path=\"url(#clip260)\" style=\"stroke:#000000; stroke-linecap:round; stroke-linejoin:round; stroke-width:4; stroke-opacity:1; fill:none\" points=\"219.866,1384.69 238.764,1384.69 \"/>\n",
       "<polyline clip-path=\"url(#clip260)\" style=\"stroke:#000000; stroke-linecap:round; stroke-linejoin:round; stroke-width:4; stroke-opacity:1; fill:none\" points=\"219.866,1101.99 238.764,1101.99 \"/>\n",
       "<polyline clip-path=\"url(#clip260)\" style=\"stroke:#000000; stroke-linecap:round; stroke-linejoin:round; stroke-width:4; stroke-opacity:1; fill:none\" points=\"219.866,819.289 238.764,819.289 \"/>\n",
       "<polyline clip-path=\"url(#clip260)\" style=\"stroke:#000000; stroke-linecap:round; stroke-linejoin:round; stroke-width:4; stroke-opacity:1; fill:none\" points=\"219.866,536.589 238.764,536.589 \"/>\n",
       "<polyline clip-path=\"url(#clip260)\" style=\"stroke:#000000; stroke-linecap:round; stroke-linejoin:round; stroke-width:4; stroke-opacity:1; fill:none\" points=\"219.866,253.888 238.764,253.888 \"/>\n",
       "<path clip-path=\"url(#clip260)\" d=\"M126.691 1370.49 Q123.08 1370.49 121.251 1374.05 Q119.445 1377.6 119.445 1384.73 Q119.445 1391.83 121.251 1395.4 Q123.08 1398.94 126.691 1398.94 Q130.325 1398.94 132.13 1395.4 Q133.959 1391.83 133.959 1384.73 Q133.959 1377.6 132.13 1374.05 Q130.325 1370.49 126.691 1370.49 M126.691 1366.79 Q132.501 1366.79 135.556 1371.39 Q138.635 1375.98 138.635 1384.73 Q138.635 1393.45 135.556 1398.06 Q132.501 1402.64 126.691 1402.64 Q120.88 1402.64 117.802 1398.06 Q114.746 1393.45 114.746 1384.73 Q114.746 1375.98 117.802 1371.39 Q120.88 1366.79 126.691 1366.79 Z\" fill=\"#000000\" fill-rule=\"nonzero\" fill-opacity=\"1\" /><path clip-path=\"url(#clip260)\" d=\"M146.853 1396.09 L151.737 1396.09 L151.737 1401.97 L146.853 1401.97 L146.853 1396.09 Z\" fill=\"#000000\" fill-rule=\"nonzero\" fill-opacity=\"1\" /><path clip-path=\"url(#clip260)\" d=\"M171.922 1370.49 Q168.311 1370.49 166.482 1374.05 Q164.677 1377.6 164.677 1384.73 Q164.677 1391.83 166.482 1395.4 Q168.311 1398.94 171.922 1398.94 Q175.556 1398.94 177.362 1395.4 Q179.19 1391.83 179.19 1384.73 Q179.19 1377.6 177.362 1374.05 Q175.556 1370.49 171.922 1370.49 M171.922 1366.79 Q177.732 1366.79 180.788 1371.39 Q183.866 1375.98 183.866 1384.73 Q183.866 1393.45 180.788 1398.06 Q177.732 1402.64 171.922 1402.64 Q166.112 1402.64 163.033 1398.06 Q159.978 1393.45 159.978 1384.73 Q159.978 1375.98 163.033 1371.39 Q166.112 1366.79 171.922 1366.79 Z\" fill=\"#000000\" fill-rule=\"nonzero\" fill-opacity=\"1\" /><path clip-path=\"url(#clip260)\" d=\"M127.917 1087.79 Q124.306 1087.79 122.478 1091.35 Q120.672 1094.9 120.672 1102.02 Q120.672 1109.13 122.478 1112.7 Q124.306 1116.24 127.917 1116.24 Q131.552 1116.24 133.357 1112.7 Q135.186 1109.13 135.186 1102.02 Q135.186 1094.9 133.357 1091.35 Q131.552 1087.79 127.917 1087.79 M127.917 1084.09 Q133.728 1084.09 136.783 1088.69 Q139.862 1093.27 139.862 1102.02 Q139.862 1110.75 136.783 1115.36 Q133.728 1119.94 127.917 1119.94 Q122.107 1119.94 119.029 1115.36 Q115.973 1110.75 115.973 1102.02 Q115.973 1093.27 119.029 1088.69 Q122.107 1084.09 127.917 1084.09 Z\" fill=\"#000000\" fill-rule=\"nonzero\" fill-opacity=\"1\" /><path clip-path=\"url(#clip260)\" d=\"M148.079 1113.39 L152.964 1113.39 L152.964 1119.27 L148.079 1119.27 L148.079 1113.39 Z\" fill=\"#000000\" fill-rule=\"nonzero\" fill-opacity=\"1\" /><path clip-path=\"url(#clip260)\" d=\"M163.959 1115.34 L171.598 1115.34 L171.598 1088.97 L163.288 1090.64 L163.288 1086.38 L171.552 1084.71 L176.227 1084.71 L176.227 1115.34 L183.866 1115.34 L183.866 1119.27 L163.959 1119.27 L163.959 1115.34 Z\" fill=\"#000000\" fill-rule=\"nonzero\" fill-opacity=\"1\" /><path clip-path=\"url(#clip260)\" d=\"M128.288 805.088 Q124.677 805.088 122.848 808.653 Q121.043 812.195 121.043 819.324 Q121.043 826.431 122.848 829.995 Q124.677 833.537 128.288 833.537 Q131.922 833.537 133.728 829.995 Q135.556 826.431 135.556 819.324 Q135.556 812.195 133.728 808.653 Q131.922 805.088 128.288 805.088 M128.288 801.384 Q134.098 801.384 137.154 805.991 Q140.232 810.574 140.232 819.324 Q140.232 828.051 137.154 832.657 Q134.098 837.241 128.288 837.241 Q122.478 837.241 119.399 832.657 Q116.343 828.051 116.343 819.324 Q116.343 810.574 119.399 805.991 Q122.478 801.384 128.288 801.384 Z\" fill=\"#000000\" fill-rule=\"nonzero\" fill-opacity=\"1\" /><path clip-path=\"url(#clip260)\" d=\"M148.45 830.69 L153.334 830.69 L153.334 836.569 L148.45 836.569 L148.45 830.69 Z\" fill=\"#000000\" fill-rule=\"nonzero\" fill-opacity=\"1\" /><path clip-path=\"url(#clip260)\" d=\"M167.547 832.634 L183.866 832.634 L183.866 836.569 L161.922 836.569 L161.922 832.634 Q164.584 829.88 169.167 825.25 Q173.774 820.597 174.954 819.255 Q177.2 816.732 178.079 814.995 Q178.982 813.236 178.982 811.546 Q178.982 808.792 177.038 807.056 Q175.116 805.32 172.014 805.32 Q169.815 805.32 167.362 806.084 Q164.931 806.847 162.153 808.398 L162.153 803.676 Q164.977 802.542 167.431 801.963 Q169.885 801.384 171.922 801.384 Q177.292 801.384 180.487 804.07 Q183.681 806.755 183.681 811.246 Q183.681 813.375 182.871 815.296 Q182.084 817.195 179.977 819.787 Q179.399 820.458 176.297 823.676 Q173.195 826.87 167.547 832.634 Z\" fill=\"#000000\" fill-rule=\"nonzero\" fill-opacity=\"1\" /><path clip-path=\"url(#clip260)\" d=\"M127.339 522.387 Q123.728 522.387 121.899 525.952 Q120.093 529.494 120.093 536.623 Q120.093 543.73 121.899 547.295 Q123.728 550.836 127.339 550.836 Q130.973 550.836 132.779 547.295 Q134.607 543.73 134.607 536.623 Q134.607 529.494 132.779 525.952 Q130.973 522.387 127.339 522.387 M127.339 518.684 Q133.149 518.684 136.204 523.29 Q139.283 527.873 139.283 536.623 Q139.283 545.35 136.204 549.957 Q133.149 554.54 127.339 554.54 Q121.529 554.54 118.45 549.957 Q115.394 545.35 115.394 536.623 Q115.394 527.873 118.45 523.29 Q121.529 518.684 127.339 518.684 Z\" fill=\"#000000\" fill-rule=\"nonzero\" fill-opacity=\"1\" /><path clip-path=\"url(#clip260)\" d=\"M147.501 547.989 L152.385 547.989 L152.385 553.869 L147.501 553.869 L147.501 547.989 Z\" fill=\"#000000\" fill-rule=\"nonzero\" fill-opacity=\"1\" /><path clip-path=\"url(#clip260)\" d=\"M176.737 535.235 Q180.093 535.952 181.968 538.221 Q183.866 540.489 183.866 543.822 Q183.866 548.938 180.348 551.739 Q176.829 554.54 170.348 554.54 Q168.172 554.54 165.857 554.1 Q163.565 553.684 161.112 552.827 L161.112 548.313 Q163.056 549.447 165.371 550.026 Q167.686 550.605 170.209 550.605 Q174.607 550.605 176.899 548.869 Q179.214 547.133 179.214 543.822 Q179.214 540.767 177.061 539.054 Q174.931 537.318 171.112 537.318 L167.084 537.318 L167.084 533.475 L171.297 533.475 Q174.746 533.475 176.575 532.11 Q178.403 530.721 178.403 528.128 Q178.403 525.466 176.505 524.054 Q174.63 522.619 171.112 522.619 Q169.19 522.619 166.991 523.036 Q164.792 523.452 162.153 524.332 L162.153 520.165 Q164.815 519.424 167.13 519.054 Q169.468 518.684 171.528 518.684 Q176.852 518.684 179.954 521.114 Q183.056 523.522 183.056 527.642 Q183.056 530.512 181.413 532.503 Q179.769 534.471 176.737 535.235 Z\" fill=\"#000000\" fill-rule=\"nonzero\" fill-opacity=\"1\" /><path clip-path=\"url(#clip260)\" d=\"M126.205 239.687 Q122.593 239.687 120.765 243.251 Q118.959 246.793 118.959 253.923 Q118.959 261.029 120.765 264.594 Q122.593 268.136 126.205 268.136 Q129.839 268.136 131.644 264.594 Q133.473 261.029 133.473 253.923 Q133.473 246.793 131.644 243.251 Q129.839 239.687 126.205 239.687 M126.205 235.983 Q132.015 235.983 135.07 240.589 Q138.149 245.173 138.149 253.923 Q138.149 262.649 135.07 267.256 Q132.015 271.839 126.205 271.839 Q120.394 271.839 117.316 267.256 Q114.26 262.649 114.26 253.923 Q114.26 245.173 117.316 240.589 Q120.394 235.983 126.205 235.983 Z\" fill=\"#000000\" fill-rule=\"nonzero\" fill-opacity=\"1\" /><path clip-path=\"url(#clip260)\" d=\"M146.366 265.288 L151.251 265.288 L151.251 271.168 L146.366 271.168 L146.366 265.288 Z\" fill=\"#000000\" fill-rule=\"nonzero\" fill-opacity=\"1\" /><path clip-path=\"url(#clip260)\" d=\"M174.283 240.682 L162.477 259.131 L174.283 259.131 L174.283 240.682 M173.056 236.608 L178.936 236.608 L178.936 259.131 L183.866 259.131 L183.866 263.02 L178.936 263.02 L178.936 271.168 L174.283 271.168 L174.283 263.02 L158.681 263.02 L158.681 258.506 L173.056 236.608 Z\" fill=\"#000000\" fill-rule=\"nonzero\" fill-opacity=\"1\" /><path clip-path=\"url(#clip260)\" d=\"M45.7664 828.661 Q39.4007 828.661 35.8996 831.302 Q32.3984 833.912 32.3984 838.655 Q32.3984 843.365 35.8996 846.007 Q39.4007 848.617 45.7664 848.617 Q52.1003 848.617 55.6014 846.007 Q59.1026 843.365 59.1026 838.655 Q59.1026 833.912 55.6014 831.302 Q52.1003 828.661 45.7664 828.661 M59.58 822.804 Q68.683 822.804 73.1071 826.846 Q77.5631 830.889 77.5631 839.228 Q77.5631 842.315 77.0857 845.052 Q76.6401 847.789 75.6852 850.368 L69.9879 850.368 Q71.3884 847.789 72.0568 845.275 Q72.7252 842.761 72.7252 840.151 Q72.7252 834.39 69.7015 831.525 Q66.7096 828.661 60.6303 828.661 L57.7339 828.661 Q60.885 830.475 62.4446 833.308 Q64.0042 836.14 64.0042 840.087 Q64.0042 846.644 59.0071 850.654 Q54.01 854.664 45.7664 854.664 Q37.491 854.664 32.4939 850.654 Q27.4968 846.644 27.4968 840.087 Q27.4968 836.14 29.0564 833.308 Q30.616 830.475 33.7671 828.661 L28.3562 828.661 L28.3562 822.804 L59.58 822.804 Z\" fill=\"#000000\" fill-rule=\"nonzero\" fill-opacity=\"1\" /><path clip-path=\"url(#clip260)\" d=\"M44.7161 780.249 L47.5806 780.249 L47.5806 807.176 Q53.6281 806.794 56.8109 803.548 Q59.9619 800.269 59.9619 794.445 Q59.9619 791.071 59.1344 787.92 Q58.3069 784.737 56.6518 781.618 L62.1899 781.618 Q63.5267 784.769 64.227 788.079 Q64.9272 791.389 64.9272 794.795 Q64.9272 803.325 59.9619 808.322 Q54.9967 813.287 46.5303 813.287 Q37.7774 813.287 32.6531 808.577 Q27.4968 803.834 27.4968 795.813 Q27.4968 788.62 32.1438 784.451 Q36.7589 780.249 44.7161 780.249 M42.9973 786.106 Q38.1912 786.169 35.3266 788.811 Q32.4621 791.421 32.4621 795.75 Q32.4621 800.651 35.2312 803.611 Q38.0002 806.54 43.0292 806.985 L42.9973 786.106 Z\" fill=\"#000000\" fill-rule=\"nonzero\" fill-opacity=\"1\" /><path clip-path=\"url(#clip260)\" d=\"M35.1993 742.883 Q31.2526 740.686 29.3747 737.631 Q27.4968 734.575 27.4968 730.438 Q27.4968 724.868 31.4117 721.844 Q35.2948 718.82 42.4881 718.82 L64.0042 718.82 L64.0042 724.709 L42.679 724.709 Q37.5546 724.709 35.072 726.523 Q32.5894 728.337 32.5894 732.061 Q32.5894 736.612 35.6131 739.254 Q38.6368 741.896 43.8567 741.896 L64.0042 741.896 L64.0042 747.784 L42.679 747.784 Q37.5228 747.784 35.072 749.598 Q32.5894 751.413 32.5894 755.2 Q32.5894 759.688 35.6449 762.33 Q38.6686 764.972 43.8567 764.972 L64.0042 764.972 L64.0042 770.86 L28.3562 770.86 L28.3562 764.972 L33.8944 764.972 Q30.616 762.966 29.0564 760.166 Q27.4968 757.365 27.4968 753.513 Q27.4968 749.63 29.4702 746.925 Q31.4436 744.188 35.1993 742.883 Z\" fill=\"#000000\" fill-rule=\"nonzero\" fill-opacity=\"1\" /><path clip-path=\"url(#clip260)\" d=\"M35.1993 679.385 Q31.2526 677.189 29.3747 674.133 Q27.4968 671.077 27.4968 666.94 Q27.4968 661.37 31.4117 658.346 Q35.2948 655.322 42.4881 655.322 L64.0042 655.322 L64.0042 661.211 L42.679 661.211 Q37.5546 661.211 35.072 663.025 Q32.5894 664.839 32.5894 668.563 Q32.5894 673.115 35.6131 675.756 Q38.6368 678.398 43.8567 678.398 L64.0042 678.398 L64.0042 684.286 L42.679 684.286 Q37.5228 684.286 35.072 686.101 Q32.5894 687.915 32.5894 691.702 Q32.5894 696.19 35.6449 698.832 Q38.6686 701.474 43.8567 701.474 L64.0042 701.474 L64.0042 707.362 L28.3562 707.362 L28.3562 701.474 L33.8944 701.474 Q30.616 699.469 29.0564 696.668 Q27.4968 693.867 27.4968 690.015 Q27.4968 686.132 29.4702 683.427 Q31.4436 680.69 35.1993 679.385 Z\" fill=\"#000000\" fill-rule=\"nonzero\" fill-opacity=\"1\" /><path clip-path=\"url(#clip260)\" d=\"M46.0847 627.441 Q46.0847 634.538 47.7079 637.276 Q49.3312 640.013 53.2461 640.013 Q56.3653 640.013 58.2114 637.976 Q60.0256 635.907 60.0256 632.374 Q60.0256 627.504 56.5881 624.576 Q53.1188 621.616 47.3897 621.616 L46.0847 621.616 L46.0847 627.441 M43.6657 615.759 L64.0042 615.759 L64.0042 621.616 L58.5933 621.616 Q61.8398 623.621 63.3994 626.613 Q64.9272 629.605 64.9272 633.934 Q64.9272 639.408 61.8716 642.655 Q58.7843 645.869 53.6281 645.869 Q47.6125 645.869 44.5569 641.859 Q41.5014 637.817 41.5014 629.828 L41.5014 621.616 L40.9285 621.616 Q36.8862 621.616 34.6901 624.29 Q32.4621 626.931 32.4621 631.737 Q32.4621 634.793 33.1941 637.689 Q33.9262 640.586 35.3903 643.259 L29.9795 643.259 Q28.7381 640.045 28.1334 637.021 Q27.4968 633.997 27.4968 631.133 Q27.4968 623.398 31.5072 619.579 Q35.5176 615.759 43.6657 615.759 Z\" fill=\"#000000\" fill-rule=\"nonzero\" fill-opacity=\"1\" /><circle clip-path=\"url(#clip262)\" cx=\"856.517\" cy=\"1008.78\" r=\"14.4\" fill=\"#009af9\" fill-rule=\"evenodd\" fill-opacity=\"1\" stroke=\"#000000\" stroke-opacity=\"1\" stroke-width=\"3.2\"/>\n",
       "<circle clip-path=\"url(#clip262)\" cx=\"856.517\" cy=\"1008.78\" r=\"14.4\" fill=\"#009af9\" fill-rule=\"evenodd\" fill-opacity=\"1\" stroke=\"#000000\" stroke-opacity=\"1\" stroke-width=\"3.2\"/>\n",
       "<circle clip-path=\"url(#clip262)\" cx=\"856.517\" cy=\"1008.78\" r=\"14.4\" fill=\"#009af9\" fill-rule=\"evenodd\" fill-opacity=\"1\" stroke=\"#000000\" stroke-opacity=\"1\" stroke-width=\"3.2\"/>\n",
       "<circle clip-path=\"url(#clip262)\" cx=\"856.517\" cy=\"1008.78\" r=\"14.4\" fill=\"#009af9\" fill-rule=\"evenodd\" fill-opacity=\"1\" stroke=\"#000000\" stroke-opacity=\"1\" stroke-width=\"3.2\"/>\n",
       "<circle clip-path=\"url(#clip262)\" cx=\"856.517\" cy=\"1008.78\" r=\"14.4\" fill=\"#009af9\" fill-rule=\"evenodd\" fill-opacity=\"1\" stroke=\"#000000\" stroke-opacity=\"1\" stroke-width=\"3.2\"/>\n",
       "<circle clip-path=\"url(#clip262)\" cx=\"856.517\" cy=\"1008.78\" r=\"14.4\" fill=\"#009af9\" fill-rule=\"evenodd\" fill-opacity=\"1\" stroke=\"#000000\" stroke-opacity=\"1\" stroke-width=\"3.2\"/>\n",
       "<circle clip-path=\"url(#clip262)\" cx=\"856.517\" cy=\"1008.78\" r=\"14.4\" fill=\"#009af9\" fill-rule=\"evenodd\" fill-opacity=\"1\" stroke=\"#000000\" stroke-opacity=\"1\" stroke-width=\"3.2\"/>\n",
       "<circle clip-path=\"url(#clip262)\" cx=\"856.517\" cy=\"1008.78\" r=\"14.4\" fill=\"#009af9\" fill-rule=\"evenodd\" fill-opacity=\"1\" stroke=\"#000000\" stroke-opacity=\"1\" stroke-width=\"3.2\"/>\n",
       "<circle clip-path=\"url(#clip262)\" cx=\"856.517\" cy=\"1008.78\" r=\"14.4\" fill=\"#009af9\" fill-rule=\"evenodd\" fill-opacity=\"1\" stroke=\"#000000\" stroke-opacity=\"1\" stroke-width=\"3.2\"/>\n",
       "<circle clip-path=\"url(#clip262)\" cx=\"856.517\" cy=\"1008.78\" r=\"14.4\" fill=\"#009af9\" fill-rule=\"evenodd\" fill-opacity=\"1\" stroke=\"#000000\" stroke-opacity=\"1\" stroke-width=\"3.2\"/>\n",
       "<circle clip-path=\"url(#clip262)\" cx=\"856.517\" cy=\"1008.78\" r=\"14.4\" fill=\"#009af9\" fill-rule=\"evenodd\" fill-opacity=\"1\" stroke=\"#000000\" stroke-opacity=\"1\" stroke-width=\"3.2\"/>\n",
       "<circle clip-path=\"url(#clip262)\" cx=\"856.517\" cy=\"1008.78\" r=\"14.4\" fill=\"#009af9\" fill-rule=\"evenodd\" fill-opacity=\"1\" stroke=\"#000000\" stroke-opacity=\"1\" stroke-width=\"3.2\"/>\n",
       "<circle clip-path=\"url(#clip262)\" cx=\"454.822\" cy=\"1271.86\" r=\"14.4\" fill=\"#009af9\" fill-rule=\"evenodd\" fill-opacity=\"1\" stroke=\"#000000\" stroke-opacity=\"1\" stroke-width=\"3.2\"/>\n",
       "<circle clip-path=\"url(#clip262)\" cx=\"454.822\" cy=\"1271.86\" r=\"14.4\" fill=\"#009af9\" fill-rule=\"evenodd\" fill-opacity=\"1\" stroke=\"#000000\" stroke-opacity=\"1\" stroke-width=\"3.2\"/>\n",
       "<circle clip-path=\"url(#clip262)\" cx=\"827.114\" cy=\"1030.82\" r=\"14.4\" fill=\"#009af9\" fill-rule=\"evenodd\" fill-opacity=\"1\" stroke=\"#000000\" stroke-opacity=\"1\" stroke-width=\"3.2\"/>\n",
       "<circle clip-path=\"url(#clip262)\" cx=\"827.114\" cy=\"1030.82\" r=\"14.4\" fill=\"#009af9\" fill-rule=\"evenodd\" fill-opacity=\"1\" stroke=\"#000000\" stroke-opacity=\"1\" stroke-width=\"3.2\"/>\n",
       "<circle clip-path=\"url(#clip262)\" cx=\"827.114\" cy=\"1030.82\" r=\"14.4\" fill=\"#009af9\" fill-rule=\"evenodd\" fill-opacity=\"1\" stroke=\"#000000\" stroke-opacity=\"1\" stroke-width=\"3.2\"/>\n",
       "<circle clip-path=\"url(#clip262)\" cx=\"827.114\" cy=\"1030.82\" r=\"14.4\" fill=\"#009af9\" fill-rule=\"evenodd\" fill-opacity=\"1\" stroke=\"#000000\" stroke-opacity=\"1\" stroke-width=\"3.2\"/>\n",
       "<circle clip-path=\"url(#clip262)\" cx=\"827.114\" cy=\"1030.82\" r=\"14.4\" fill=\"#009af9\" fill-rule=\"evenodd\" fill-opacity=\"1\" stroke=\"#000000\" stroke-opacity=\"1\" stroke-width=\"3.2\"/>\n",
       "<circle clip-path=\"url(#clip262)\" cx=\"827.114\" cy=\"1030.82\" r=\"14.4\" fill=\"#009af9\" fill-rule=\"evenodd\" fill-opacity=\"1\" stroke=\"#000000\" stroke-opacity=\"1\" stroke-width=\"3.2\"/>\n",
       "<circle clip-path=\"url(#clip262)\" cx=\"296.451\" cy=\"1373.65\" r=\"14.4\" fill=\"#009af9\" fill-rule=\"evenodd\" fill-opacity=\"1\" stroke=\"#000000\" stroke-opacity=\"1\" stroke-width=\"3.2\"/>\n",
       "<circle clip-path=\"url(#clip262)\" cx=\"296.451\" cy=\"1373.65\" r=\"14.4\" fill=\"#009af9\" fill-rule=\"evenodd\" fill-opacity=\"1\" stroke=\"#000000\" stroke-opacity=\"1\" stroke-width=\"3.2\"/>\n",
       "<circle clip-path=\"url(#clip262)\" cx=\"435.129\" cy=\"1284.43\" r=\"14.4\" fill=\"#009af9\" fill-rule=\"evenodd\" fill-opacity=\"1\" stroke=\"#000000\" stroke-opacity=\"1\" stroke-width=\"3.2\"/>\n",
       "<circle clip-path=\"url(#clip262)\" cx=\"435.129\" cy=\"1284.43\" r=\"14.4\" fill=\"#009af9\" fill-rule=\"evenodd\" fill-opacity=\"1\" stroke=\"#000000\" stroke-opacity=\"1\" stroke-width=\"3.2\"/>\n",
       "<circle clip-path=\"url(#clip262)\" cx=\"435.129\" cy=\"1284.43\" r=\"14.4\" fill=\"#009af9\" fill-rule=\"evenodd\" fill-opacity=\"1\" stroke=\"#000000\" stroke-opacity=\"1\" stroke-width=\"3.2\"/>\n",
       "<circle clip-path=\"url(#clip262)\" cx=\"435.129\" cy=\"1284.43\" r=\"14.4\" fill=\"#009af9\" fill-rule=\"evenodd\" fill-opacity=\"1\" stroke=\"#000000\" stroke-opacity=\"1\" stroke-width=\"3.2\"/>\n",
       "<circle clip-path=\"url(#clip262)\" cx=\"435.129\" cy=\"1284.43\" r=\"14.4\" fill=\"#009af9\" fill-rule=\"evenodd\" fill-opacity=\"1\" stroke=\"#000000\" stroke-opacity=\"1\" stroke-width=\"3.2\"/>\n",
       "<circle clip-path=\"url(#clip262)\" cx=\"435.129\" cy=\"1284.43\" r=\"14.4\" fill=\"#009af9\" fill-rule=\"evenodd\" fill-opacity=\"1\" stroke=\"#000000\" stroke-opacity=\"1\" stroke-width=\"3.2\"/>\n",
       "<circle clip-path=\"url(#clip262)\" cx=\"435.129\" cy=\"1284.43\" r=\"14.4\" fill=\"#009af9\" fill-rule=\"evenodd\" fill-opacity=\"1\" stroke=\"#000000\" stroke-opacity=\"1\" stroke-width=\"3.2\"/>\n",
       "<circle clip-path=\"url(#clip262)\" cx=\"435.129\" cy=\"1284.43\" r=\"14.4\" fill=\"#009af9\" fill-rule=\"evenodd\" fill-opacity=\"1\" stroke=\"#000000\" stroke-opacity=\"1\" stroke-width=\"3.2\"/>\n",
       "<circle clip-path=\"url(#clip262)\" cx=\"435.129\" cy=\"1284.43\" r=\"14.4\" fill=\"#009af9\" fill-rule=\"evenodd\" fill-opacity=\"1\" stroke=\"#000000\" stroke-opacity=\"1\" stroke-width=\"3.2\"/>\n",
       "<circle clip-path=\"url(#clip262)\" cx=\"401.724\" cy=\"1306.06\" r=\"14.4\" fill=\"#009af9\" fill-rule=\"evenodd\" fill-opacity=\"1\" stroke=\"#000000\" stroke-opacity=\"1\" stroke-width=\"3.2\"/>\n",
       "<circle clip-path=\"url(#clip262)\" cx=\"401.724\" cy=\"1306.06\" r=\"14.4\" fill=\"#009af9\" fill-rule=\"evenodd\" fill-opacity=\"1\" stroke=\"#000000\" stroke-opacity=\"1\" stroke-width=\"3.2\"/>\n",
       "<circle clip-path=\"url(#clip262)\" cx=\"401.724\" cy=\"1306.06\" r=\"14.4\" fill=\"#009af9\" fill-rule=\"evenodd\" fill-opacity=\"1\" stroke=\"#000000\" stroke-opacity=\"1\" stroke-width=\"3.2\"/>\n",
       "<circle clip-path=\"url(#clip262)\" cx=\"1442.89\" cy=\"631.459\" r=\"14.4\" fill=\"#009af9\" fill-rule=\"evenodd\" fill-opacity=\"1\" stroke=\"#000000\" stroke-opacity=\"1\" stroke-width=\"3.2\"/>\n",
       "<circle clip-path=\"url(#clip262)\" cx=\"560.201\" cy=\"1204.1\" r=\"14.4\" fill=\"#009af9\" fill-rule=\"evenodd\" fill-opacity=\"1\" stroke=\"#000000\" stroke-opacity=\"1\" stroke-width=\"3.2\"/>\n",
       "<circle clip-path=\"url(#clip262)\" cx=\"355.961\" cy=\"1335.59\" r=\"14.4\" fill=\"#009af9\" fill-rule=\"evenodd\" fill-opacity=\"1\" stroke=\"#000000\" stroke-opacity=\"1\" stroke-width=\"3.2\"/>\n",
       "<circle clip-path=\"url(#clip262)\" cx=\"355.961\" cy=\"1335.59\" r=\"14.4\" fill=\"#009af9\" fill-rule=\"evenodd\" fill-opacity=\"1\" stroke=\"#000000\" stroke-opacity=\"1\" stroke-width=\"3.2\"/>\n",
       "<circle clip-path=\"url(#clip262)\" cx=\"355.961\" cy=\"1335.59\" r=\"14.4\" fill=\"#009af9\" fill-rule=\"evenodd\" fill-opacity=\"1\" stroke=\"#000000\" stroke-opacity=\"1\" stroke-width=\"3.2\"/>\n",
       "<circle clip-path=\"url(#clip262)\" cx=\"355.961\" cy=\"1335.59\" r=\"14.4\" fill=\"#009af9\" fill-rule=\"evenodd\" fill-opacity=\"1\" stroke=\"#000000\" stroke-opacity=\"1\" stroke-width=\"3.2\"/>\n",
       "<circle clip-path=\"url(#clip262)\" cx=\"355.961\" cy=\"1335.59\" r=\"14.4\" fill=\"#009af9\" fill-rule=\"evenodd\" fill-opacity=\"1\" stroke=\"#000000\" stroke-opacity=\"1\" stroke-width=\"3.2\"/>\n",
       "<circle clip-path=\"url(#clip262)\" cx=\"355.961\" cy=\"1335.59\" r=\"14.4\" fill=\"#009af9\" fill-rule=\"evenodd\" fill-opacity=\"1\" stroke=\"#000000\" stroke-opacity=\"1\" stroke-width=\"3.2\"/>\n",
       "<circle clip-path=\"url(#clip262)\" cx=\"355.961\" cy=\"1335.59\" r=\"14.4\" fill=\"#009af9\" fill-rule=\"evenodd\" fill-opacity=\"1\" stroke=\"#000000\" stroke-opacity=\"1\" stroke-width=\"3.2\"/>\n",
       "<circle clip-path=\"url(#clip262)\" cx=\"299.361\" cy=\"1372\" r=\"14.4\" fill=\"#009af9\" fill-rule=\"evenodd\" fill-opacity=\"1\" stroke=\"#000000\" stroke-opacity=\"1\" stroke-width=\"3.2\"/>\n",
       "<circle clip-path=\"url(#clip262)\" cx=\"299.361\" cy=\"1372\" r=\"14.4\" fill=\"#009af9\" fill-rule=\"evenodd\" fill-opacity=\"1\" stroke=\"#000000\" stroke-opacity=\"1\" stroke-width=\"3.2\"/>\n",
       "<circle clip-path=\"url(#clip262)\" cx=\"929.536\" cy=\"966.043\" r=\"14.4\" fill=\"#009af9\" fill-rule=\"evenodd\" fill-opacity=\"1\" stroke=\"#000000\" stroke-opacity=\"1\" stroke-width=\"3.2\"/>\n",
       "<circle clip-path=\"url(#clip262)\" cx=\"929.536\" cy=\"966.043\" r=\"14.4\" fill=\"#009af9\" fill-rule=\"evenodd\" fill-opacity=\"1\" stroke=\"#000000\" stroke-opacity=\"1\" stroke-width=\"3.2\"/>\n",
       "<circle clip-path=\"url(#clip262)\" cx=\"929.536\" cy=\"966.043\" r=\"14.4\" fill=\"#009af9\" fill-rule=\"evenodd\" fill-opacity=\"1\" stroke=\"#000000\" stroke-opacity=\"1\" stroke-width=\"3.2\"/>\n",
       "<circle clip-path=\"url(#clip262)\" cx=\"929.536\" cy=\"966.043\" r=\"14.4\" fill=\"#009af9\" fill-rule=\"evenodd\" fill-opacity=\"1\" stroke=\"#000000\" stroke-opacity=\"1\" stroke-width=\"3.2\"/>\n",
       "<circle clip-path=\"url(#clip262)\" cx=\"1493.57\" cy=\"602.512\" r=\"14.4\" fill=\"#009af9\" fill-rule=\"evenodd\" fill-opacity=\"1\" stroke=\"#000000\" stroke-opacity=\"1\" stroke-width=\"3.2\"/>\n",
       "<circle clip-path=\"url(#clip262)\" cx=\"1493.57\" cy=\"602.512\" r=\"14.4\" fill=\"#009af9\" fill-rule=\"evenodd\" fill-opacity=\"1\" stroke=\"#000000\" stroke-opacity=\"1\" stroke-width=\"3.2\"/>\n",
       "<circle clip-path=\"url(#clip262)\" cx=\"1493.57\" cy=\"602.512\" r=\"14.4\" fill=\"#009af9\" fill-rule=\"evenodd\" fill-opacity=\"1\" stroke=\"#000000\" stroke-opacity=\"1\" stroke-width=\"3.2\"/>\n",
       "<circle clip-path=\"url(#clip262)\" cx=\"1493.57\" cy=\"602.512\" r=\"14.4\" fill=\"#009af9\" fill-rule=\"evenodd\" fill-opacity=\"1\" stroke=\"#000000\" stroke-opacity=\"1\" stroke-width=\"3.2\"/>\n",
       "<circle clip-path=\"url(#clip262)\" cx=\"1493.57\" cy=\"602.512\" r=\"14.4\" fill=\"#009af9\" fill-rule=\"evenodd\" fill-opacity=\"1\" stroke=\"#000000\" stroke-opacity=\"1\" stroke-width=\"3.2\"/>\n",
       "<circle clip-path=\"url(#clip262)\" cx=\"2292.39\" cy=\"86.1857\" r=\"14.4\" fill=\"#009af9\" fill-rule=\"evenodd\" fill-opacity=\"1\" stroke=\"#000000\" stroke-opacity=\"1\" stroke-width=\"3.2\"/>\n",
       "<circle clip-path=\"url(#clip262)\" cx=\"2175.94\" cy=\"162.034\" r=\"14.4\" fill=\"#009af9\" fill-rule=\"evenodd\" fill-opacity=\"1\" stroke=\"#000000\" stroke-opacity=\"1\" stroke-width=\"3.2\"/>\n",
       "<circle clip-path=\"url(#clip262)\" cx=\"2292.39\" cy=\"86.1857\" r=\"14.4\" fill=\"#009af9\" fill-rule=\"evenodd\" fill-opacity=\"1\" stroke=\"#000000\" stroke-opacity=\"1\" stroke-width=\"3.2\"/>\n",
       "<circle clip-path=\"url(#clip262)\" cx=\"2292.39\" cy=\"86.1857\" r=\"14.4\" fill=\"#009af9\" fill-rule=\"evenodd\" fill-opacity=\"1\" stroke=\"#000000\" stroke-opacity=\"1\" stroke-width=\"3.2\"/>\n",
       "<circle clip-path=\"url(#clip262)\" cx=\"2292.39\" cy=\"86.1857\" r=\"14.4\" fill=\"#009af9\" fill-rule=\"evenodd\" fill-opacity=\"1\" stroke=\"#000000\" stroke-opacity=\"1\" stroke-width=\"3.2\"/>\n",
       "<circle clip-path=\"url(#clip262)\" cx=\"955.88\" cy=\"949.081\" r=\"14.4\" fill=\"#009af9\" fill-rule=\"evenodd\" fill-opacity=\"1\" stroke=\"#000000\" stroke-opacity=\"1\" stroke-width=\"3.2\"/>\n",
       "<circle clip-path=\"url(#clip262)\" cx=\"955.88\" cy=\"949.081\" r=\"14.4\" fill=\"#009af9\" fill-rule=\"evenodd\" fill-opacity=\"1\" stroke=\"#000000\" stroke-opacity=\"1\" stroke-width=\"3.2\"/>\n",
       "<circle clip-path=\"url(#clip262)\" cx=\"547.349\" cy=\"1212.36\" r=\"14.4\" fill=\"#009af9\" fill-rule=\"evenodd\" fill-opacity=\"1\" stroke=\"#000000\" stroke-opacity=\"1\" stroke-width=\"3.2\"/>\n",
       "<circle clip-path=\"url(#clip262)\" cx=\"547.349\" cy=\"1212.36\" r=\"14.4\" fill=\"#009af9\" fill-rule=\"evenodd\" fill-opacity=\"1\" stroke=\"#000000\" stroke-opacity=\"1\" stroke-width=\"3.2\"/>\n",
       "<circle clip-path=\"url(#clip262)\" cx=\"547.349\" cy=\"1212.36\" r=\"14.4\" fill=\"#009af9\" fill-rule=\"evenodd\" fill-opacity=\"1\" stroke=\"#000000\" stroke-opacity=\"1\" stroke-width=\"3.2\"/>\n",
       "<circle clip-path=\"url(#clip262)\" cx=\"547.349\" cy=\"1212.36\" r=\"14.4\" fill=\"#009af9\" fill-rule=\"evenodd\" fill-opacity=\"1\" stroke=\"#000000\" stroke-opacity=\"1\" stroke-width=\"3.2\"/>\n",
       "<circle clip-path=\"url(#clip262)\" cx=\"547.349\" cy=\"1212.36\" r=\"14.4\" fill=\"#009af9\" fill-rule=\"evenodd\" fill-opacity=\"1\" stroke=\"#000000\" stroke-opacity=\"1\" stroke-width=\"3.2\"/>\n",
       "<circle clip-path=\"url(#clip262)\" cx=\"547.349\" cy=\"1212.36\" r=\"14.4\" fill=\"#009af9\" fill-rule=\"evenodd\" fill-opacity=\"1\" stroke=\"#000000\" stroke-opacity=\"1\" stroke-width=\"3.2\"/>\n",
       "<circle clip-path=\"url(#clip262)\" cx=\"547.349\" cy=\"1212.36\" r=\"14.4\" fill=\"#009af9\" fill-rule=\"evenodd\" fill-opacity=\"1\" stroke=\"#000000\" stroke-opacity=\"1\" stroke-width=\"3.2\"/>\n",
       "<circle clip-path=\"url(#clip262)\" cx=\"547.349\" cy=\"1212.36\" r=\"14.4\" fill=\"#009af9\" fill-rule=\"evenodd\" fill-opacity=\"1\" stroke=\"#000000\" stroke-opacity=\"1\" stroke-width=\"3.2\"/>\n",
       "<circle clip-path=\"url(#clip262)\" cx=\"547.349\" cy=\"1212.36\" r=\"14.4\" fill=\"#009af9\" fill-rule=\"evenodd\" fill-opacity=\"1\" stroke=\"#000000\" stroke-opacity=\"1\" stroke-width=\"3.2\"/>\n",
       "<circle clip-path=\"url(#clip262)\" cx=\"547.349\" cy=\"1212.36\" r=\"14.4\" fill=\"#009af9\" fill-rule=\"evenodd\" fill-opacity=\"1\" stroke=\"#000000\" stroke-opacity=\"1\" stroke-width=\"3.2\"/>\n",
       "<circle clip-path=\"url(#clip262)\" cx=\"434.403\" cy=\"1285.11\" r=\"14.4\" fill=\"#009af9\" fill-rule=\"evenodd\" fill-opacity=\"1\" stroke=\"#000000\" stroke-opacity=\"1\" stroke-width=\"3.2\"/>\n",
       "<circle clip-path=\"url(#clip262)\" cx=\"434.403\" cy=\"1285.11\" r=\"14.4\" fill=\"#009af9\" fill-rule=\"evenodd\" fill-opacity=\"1\" stroke=\"#000000\" stroke-opacity=\"1\" stroke-width=\"3.2\"/>\n",
       "<circle clip-path=\"url(#clip262)\" cx=\"323.42\" cy=\"1356.61\" r=\"14.4\" fill=\"#009af9\" fill-rule=\"evenodd\" fill-opacity=\"1\" stroke=\"#000000\" stroke-opacity=\"1\" stroke-width=\"3.2\"/>\n",
       "<circle clip-path=\"url(#clip262)\" cx=\"323.42\" cy=\"1356.61\" r=\"14.4\" fill=\"#009af9\" fill-rule=\"evenodd\" fill-opacity=\"1\" stroke=\"#000000\" stroke-opacity=\"1\" stroke-width=\"3.2\"/>\n",
       "<circle clip-path=\"url(#clip262)\" cx=\"323.42\" cy=\"1356.61\" r=\"14.4\" fill=\"#009af9\" fill-rule=\"evenodd\" fill-opacity=\"1\" stroke=\"#000000\" stroke-opacity=\"1\" stroke-width=\"3.2\"/>\n",
       "<circle clip-path=\"url(#clip262)\" cx=\"323.42\" cy=\"1356.61\" r=\"14.4\" fill=\"#009af9\" fill-rule=\"evenodd\" fill-opacity=\"1\" stroke=\"#000000\" stroke-opacity=\"1\" stroke-width=\"3.2\"/>\n",
       "<circle clip-path=\"url(#clip262)\" cx=\"323.42\" cy=\"1356.61\" r=\"14.4\" fill=\"#009af9\" fill-rule=\"evenodd\" fill-opacity=\"1\" stroke=\"#000000\" stroke-opacity=\"1\" stroke-width=\"3.2\"/>\n",
       "<circle clip-path=\"url(#clip262)\" cx=\"1221.52\" cy=\"777.77\" r=\"14.4\" fill=\"#009af9\" fill-rule=\"evenodd\" fill-opacity=\"1\" stroke=\"#000000\" stroke-opacity=\"1\" stroke-width=\"3.2\"/>\n",
       "<circle clip-path=\"url(#clip262)\" cx=\"641.541\" cy=\"1151.55\" r=\"14.4\" fill=\"#009af9\" fill-rule=\"evenodd\" fill-opacity=\"1\" stroke=\"#000000\" stroke-opacity=\"1\" stroke-width=\"3.2\"/>\n",
       "<circle clip-path=\"url(#clip262)\" cx=\"641.541\" cy=\"1151.55\" r=\"14.4\" fill=\"#009af9\" fill-rule=\"evenodd\" fill-opacity=\"1\" stroke=\"#000000\" stroke-opacity=\"1\" stroke-width=\"3.2\"/>\n",
       "<circle clip-path=\"url(#clip262)\" cx=\"641.541\" cy=\"1151.55\" r=\"14.4\" fill=\"#009af9\" fill-rule=\"evenodd\" fill-opacity=\"1\" stroke=\"#000000\" stroke-opacity=\"1\" stroke-width=\"3.2\"/>\n",
       "<circle clip-path=\"url(#clip262)\" cx=\"739.318\" cy=\"1088.64\" r=\"14.4\" fill=\"#009af9\" fill-rule=\"evenodd\" fill-opacity=\"1\" stroke=\"#000000\" stroke-opacity=\"1\" stroke-width=\"3.2\"/>\n",
       "<circle clip-path=\"url(#clip262)\" cx=\"739.318\" cy=\"1088.64\" r=\"14.4\" fill=\"#009af9\" fill-rule=\"evenodd\" fill-opacity=\"1\" stroke=\"#000000\" stroke-opacity=\"1\" stroke-width=\"3.2\"/>\n",
       "<circle clip-path=\"url(#clip262)\" cx=\"1814.41\" cy=\"394.073\" r=\"14.4\" fill=\"#009af9\" fill-rule=\"evenodd\" fill-opacity=\"1\" stroke=\"#000000\" stroke-opacity=\"1\" stroke-width=\"3.2\"/>\n",
       "<circle clip-path=\"url(#clip262)\" cx=\"1814.41\" cy=\"394.073\" r=\"14.4\" fill=\"#009af9\" fill-rule=\"evenodd\" fill-opacity=\"1\" stroke=\"#000000\" stroke-opacity=\"1\" stroke-width=\"3.2\"/>\n",
       "<circle clip-path=\"url(#clip262)\" cx=\"739.318\" cy=\"1088.64\" r=\"14.4\" fill=\"#009af9\" fill-rule=\"evenodd\" fill-opacity=\"1\" stroke=\"#000000\" stroke-opacity=\"1\" stroke-width=\"3.2\"/>\n",
       "<circle clip-path=\"url(#clip262)\" cx=\"338.7\" cy=\"1346.35\" r=\"14.4\" fill=\"#009af9\" fill-rule=\"evenodd\" fill-opacity=\"1\" stroke=\"#000000\" stroke-opacity=\"1\" stroke-width=\"3.2\"/>\n",
       "<circle clip-path=\"url(#clip262)\" cx=\"280.231\" cy=\"1384.24\" r=\"14.4\" fill=\"#009af9\" fill-rule=\"evenodd\" fill-opacity=\"1\" stroke=\"#000000\" stroke-opacity=\"1\" stroke-width=\"3.2\"/>\n",
       "<circle clip-path=\"url(#clip262)\" cx=\"280.231\" cy=\"1384.24\" r=\"14.4\" fill=\"#009af9\" fill-rule=\"evenodd\" fill-opacity=\"1\" stroke=\"#000000\" stroke-opacity=\"1\" stroke-width=\"3.2\"/>\n",
       "<circle clip-path=\"url(#clip262)\" cx=\"545.676\" cy=\"1213.5\" r=\"14.4\" fill=\"#009af9\" fill-rule=\"evenodd\" fill-opacity=\"1\" stroke=\"#000000\" stroke-opacity=\"1\" stroke-width=\"3.2\"/>\n",
       "<circle clip-path=\"url(#clip262)\" cx=\"283.402\" cy=\"1382.25\" r=\"14.4\" fill=\"#009af9\" fill-rule=\"evenodd\" fill-opacity=\"1\" stroke=\"#000000\" stroke-opacity=\"1\" stroke-width=\"3.2\"/>\n",
       "<circle clip-path=\"url(#clip262)\" cx=\"283.402\" cy=\"1382.25\" r=\"14.4\" fill=\"#009af9\" fill-rule=\"evenodd\" fill-opacity=\"1\" stroke=\"#000000\" stroke-opacity=\"1\" stroke-width=\"3.2\"/>\n",
       "<circle clip-path=\"url(#clip262)\" cx=\"283.402\" cy=\"1382.25\" r=\"14.4\" fill=\"#009af9\" fill-rule=\"evenodd\" fill-opacity=\"1\" stroke=\"#000000\" stroke-opacity=\"1\" stroke-width=\"3.2\"/>\n",
       "<circle clip-path=\"url(#clip262)\" cx=\"373.863\" cy=\"1323.97\" r=\"14.4\" fill=\"#009af9\" fill-rule=\"evenodd\" fill-opacity=\"1\" stroke=\"#000000\" stroke-opacity=\"1\" stroke-width=\"3.2\"/>\n",
       "<circle clip-path=\"url(#clip262)\" cx=\"401.411\" cy=\"1306.13\" r=\"14.4\" fill=\"#009af9\" fill-rule=\"evenodd\" fill-opacity=\"1\" stroke=\"#000000\" stroke-opacity=\"1\" stroke-width=\"3.2\"/>\n",
       "<circle clip-path=\"url(#clip262)\" cx=\"401.411\" cy=\"1306.13\" r=\"14.4\" fill=\"#009af9\" fill-rule=\"evenodd\" fill-opacity=\"1\" stroke=\"#000000\" stroke-opacity=\"1\" stroke-width=\"3.2\"/>\n",
       "<circle clip-path=\"url(#clip262)\" cx=\"401.411\" cy=\"1306.13\" r=\"14.4\" fill=\"#009af9\" fill-rule=\"evenodd\" fill-opacity=\"1\" stroke=\"#000000\" stroke-opacity=\"1\" stroke-width=\"3.2\"/>\n",
       "<circle clip-path=\"url(#clip262)\" cx=\"401.411\" cy=\"1306.13\" r=\"14.4\" fill=\"#009af9\" fill-rule=\"evenodd\" fill-opacity=\"1\" stroke=\"#000000\" stroke-opacity=\"1\" stroke-width=\"3.2\"/>\n",
       "<circle clip-path=\"url(#clip262)\" cx=\"401.411\" cy=\"1306.13\" r=\"14.4\" fill=\"#009af9\" fill-rule=\"evenodd\" fill-opacity=\"1\" stroke=\"#000000\" stroke-opacity=\"1\" stroke-width=\"3.2\"/>\n",
       "<path clip-path=\"url(#clip260)\" d=\"M290.963 196.789 L556.682 196.789 L556.682 93.1086 L290.963 93.1086  Z\" fill=\"#ffffff\" fill-rule=\"evenodd\" fill-opacity=\"1\"/>\n",
       "<polyline clip-path=\"url(#clip260)\" style=\"stroke:#000000; stroke-linecap:round; stroke-linejoin:round; stroke-width:4; stroke-opacity:1; fill:none\" points=\"290.963,196.789 556.682,196.789 556.682,93.1086 290.963,93.1086 290.963,196.789 \"/>\n",
       "<circle clip-path=\"url(#clip260)\" cx=\"385.758\" cy=\"144.949\" r=\"20.48\" fill=\"#009af9\" fill-rule=\"evenodd\" fill-opacity=\"1\" stroke=\"#000000\" stroke-opacity=\"1\" stroke-width=\"4.55111\"/>\n",
       "<path clip-path=\"url(#clip260)\" d=\"M494.395 164.636 Q492.59 169.266 490.877 170.678 Q489.164 172.09 486.293 172.09 L482.891 172.09 L482.891 168.525 L485.391 168.525 Q487.15 168.525 488.122 167.692 Q489.094 166.858 490.275 163.756 L491.039 161.812 L480.553 136.303 L485.067 136.303 L493.168 156.581 L501.27 136.303 L505.784 136.303 L494.395 164.636 Z\" fill=\"#000000\" fill-rule=\"nonzero\" fill-opacity=\"1\" /><path clip-path=\"url(#clip260)\" d=\"M513.076 158.293 L520.715 158.293 L520.715 131.928 L512.404 133.595 L512.404 129.335 L520.668 127.669 L525.344 127.669 L525.344 158.293 L532.983 158.293 L532.983 162.229 L513.076 162.229 L513.076 158.293 Z\" fill=\"#000000\" fill-rule=\"nonzero\" fill-opacity=\"1\" /></svg>\n"
      ]
     },
     "execution_count": 45,
     "metadata": {},
     "output_type": "execute_result"
    }
   ],
   "source": [
    "scatter(bulkscan_results_ind_null.L[1:100, samples[1]], gemma_ind_L[1:100, 1], xlab = \"bulklmm\", ylab = \"gemma\")"
   ]
  },
  {
   "cell_type": "code",
   "execution_count": null,
   "id": "9c25d10d-d65f-4b12-a911-aa81b8e1a777",
   "metadata": {},
   "outputs": [],
   "source": [
    "test_bulkscan_ind_null = bulkscan_results_ind_null.L[:, samples];"
   ]
  },
  {
   "cell_type": "code",
   "execution_count": null,
   "id": "b74b1e93-0828-4255-b962-28dd3206ad7a",
   "metadata": {},
   "outputs": [],
   "source": [
    "toRemove = findall(isinf.(gemma_ind_L))"
   ]
  },
  {
   "cell_type": "code",
   "execution_count": null,
   "id": "647be6aa-c409-434a-960a-d5062492b5ee",
   "metadata": {},
   "outputs": [],
   "source": [
    "for bad in toRemove\n",
    "    i = bad[1];\n",
    "    j = bad[2];\n",
    "    \n",
    "    test_bulkscan_ind_null[i, j] = 0;\n",
    "    gemma_ind_L[i, j] = 0.0;\n",
    "end"
   ]
  },
  {
   "cell_type": "code",
   "execution_count": null,
   "id": "be035846-5850-485d-a7d3-3754ce05abd0",
   "metadata": {},
   "outputs": [],
   "source": [
    "mean(abs.(bulkscan_results_ind_null.L[:, samples] .- gemma_ind_L))"
   ]
  },
  {
   "cell_type": "code",
   "execution_count": null,
   "id": "ac13f4bd-07d9-4fb3-80c0-14a9a6484e07",
   "metadata": {},
   "outputs": [],
   "source": [
    "mean((bulkscan_results_ind_null.L[:, samples] .- gemma_ind_L) .> 0.0)"
   ]
  },
  {
   "cell_type": "code",
   "execution_count": null,
   "id": "0abc3666-3ce9-43b4-8ba8-7d6529b97bd7",
   "metadata": {},
   "outputs": [],
   "source": [
    "scatter(bulkscan_results_ind_null.L[:, samples[1]], gemma_ind_L[:, 1], xlab = \"bulklmm_null\", ylab = \"gemma\", legend = false)\n",
    "plot!(x -> x)"
   ]
  },
  {
   "cell_type": "code",
   "execution_count": null,
   "id": "7a103c15-59cd-4ebf-96bc-428519f3ad37",
   "metadata": {},
   "outputs": [],
   "source": [
    "scatter(bulkscan_results_ind_null_grid.L[:, samples[1]], gemma_ind_L[:, 1], xlab = \"bulklmm_null_grid\", ylab = \"gemma\", legend = false)\n",
    "plot!(x -> x)"
   ]
  },
  {
   "cell_type": "code",
   "execution_count": null,
   "id": "4bb16d00-cb85-40c7-8a25-1f53325cd37c",
   "metadata": {},
   "outputs": [],
   "source": [
    "scatter(bulkscan_results_ind_alt_grid.L[:, samples[1]], gemma_ind_L[:, 1], xlab = \"bulklmm_alt_grid\", ylab = \"gemma\", legend = false)\n",
    "plot!(x -> x)"
   ]
  },
  {
   "cell_type": "code",
   "execution_count": null,
   "id": "cae91c20-2fc2-4f64-b907-9a636a3d152a",
   "metadata": {},
   "outputs": [],
   "source": [
    "bulkscan_L_ind_null = bulkscan_results_ind_null.L[:, samples];"
   ]
  },
  {
   "cell_type": "code",
   "execution_count": null,
   "id": "e93937d9-3e71-40fe-b583-d104dfbd2f3d",
   "metadata": {},
   "outputs": [],
   "source": [
    "bulkscan_L_ind_null_grid = bulkscan_results_ind_null_grid.L[:, samples];"
   ]
  },
  {
   "cell_type": "code",
   "execution_count": null,
   "id": "df5591eb-729e-40c1-b3c8-ef23b038d8ba",
   "metadata": {},
   "outputs": [],
   "source": [
    "bulkscan_L_ind_alt_grid = bulkscan_results_ind_alt_grid.L[:, samples];"
   ]
  },
  {
   "cell_type": "code",
   "execution_count": null,
   "id": "44552f72-9e3c-4c47-9e8b-3530149f0a9a",
   "metadata": {},
   "outputs": [],
   "source": []
  },
  {
   "cell_type": "code",
   "execution_count": null,
   "id": "126f99f8-322d-42b5-851d-01686f70defd",
   "metadata": {},
   "outputs": [],
   "source": [
    "bulkscan_L_strains_null = bulkscan_results_strains_null.L[:, samples];"
   ]
  },
  {
   "cell_type": "code",
   "execution_count": null,
   "id": "43cb0970-bebb-4e5f-be3e-e2211abaf4a2",
   "metadata": {},
   "outputs": [],
   "source": [
    "bulkscan_L_strains_null_grid = bulkscan_results_strains_null_grid.L[:, samples];"
   ]
  },
  {
   "cell_type": "code",
   "execution_count": null,
   "id": "7b3e74d4-b266-4759-99dd-dbe7601a2e4c",
   "metadata": {},
   "outputs": [],
   "source": [
    "bulkscan_L_strains_alt_grid = bulkscan_results_strains_alt_grid.L[:, samples];"
   ]
  },
  {
   "cell_type": "code",
   "execution_count": null,
   "id": "da4e2984-ab8c-4c14-81d5-bff9d500dde5",
   "metadata": {},
   "outputs": [],
   "source": [
    "#= \n",
    "writedlm(\"output/bulklmm_L_ind_null_grid10.txt\", bulkscan_results_ind_null_grid10.L[:, samples], '\\t');\n",
    "writedlm(\"output/bulklmm_L_ind_null_grid20.txt\", bulkscan_results_ind_null_grid20.L[:, samples], '\\t');\n",
    "writedlm(\"output/bulklmm_L_ind_null_grid100.txt\", bulkscan_results_ind_null_grid100.L[:, samples], '\\t')\n",
    "=#"
   ]
  },
  {
   "cell_type": "code",
   "execution_count": null,
   "id": "0d16e675-e9f1-4372-9382-f11d5dcd2282",
   "metadata": {},
   "outputs": [],
   "source": [
    "#= \n",
    "writedlm(\"output/bulklmm_L_ind_alt_grid10.txt\", bulkscan_results_ind_alt_grid10.L[:, samples], '\\t');\n",
    "writedlm(\"output/bulklmm_L_ind_alt_grid20.txt\", bulkscan_results_ind_alt_grid20.L[:, samples], '\\t');\n",
    "writedlm(\"output/bulklmm_L_ind_alt_grid100.txt\", bulkscan_results_ind_alt_grid100.L[:, samples], '\\t')\n",
    "=#"
   ]
  },
  {
   "cell_type": "code",
   "execution_count": null,
   "id": "aa4a6948-35bd-4242-9f28-00addce8cd9c",
   "metadata": {},
   "outputs": [],
   "source": [
    "BLAS.get_num_threads()"
   ]
  },
  {
   "cell_type": "code",
   "execution_count": null,
   "id": "519b85b4-202d-4d15-a9d3-ac3070fecfe3",
   "metadata": {},
   "outputs": [],
   "source": [
    "timing_null_exact_samples_1 = @elapsed bulkscan_null_exact_samples_nc = bulkscan_null(lp_ind_Y[:, samples], geno_ind, kinship_ind_from_strains;\n",
    "                                                                                      reml = true);"
   ]
  },
  {
   "cell_type": "code",
   "execution_count": null,
   "id": "13960cb9-859a-414d-abf3-5766f4b905a4",
   "metadata": {},
   "outputs": [],
   "source": [
    "timing_null_exact_samples = @elapsed bulkscan_null_exact_samples_c = bulkscan_null(lp_ind_Y[:, samples], geno_ind, kinship_ind_from_strains;\n",
    "                                                   nb = 16, nt_blas = 1,\n",
    "                                                   reml = true, optim_interval = 10);"
   ]
  },
  {
   "cell_type": "code",
   "execution_count": null,
   "id": "5608a4ba-de80-440f-89b0-ac8ccbcc9fcd",
   "metadata": {},
   "outputs": [],
   "source": [
    "kinship_id = diagm(ones(size(lp_ind_Y, 1)));"
   ]
  },
  {
   "cell_type": "code",
   "execution_count": null,
   "id": "53d23ecf-6b62-4432-bd90-0b10242eb034",
   "metadata": {},
   "outputs": [],
   "source": [
    "timing_LM_exact_samples = @elapsed bulkscan_LM_exact_samples = bulkscan_null(lp_ind_Y[:, samples], geno_ind, kinship_id;\n",
    "                                                                             nb = 16, nt_blas = 1,\n",
    "                                                                             reml = true, optim_interval = 10);"
   ]
  },
  {
   "cell_type": "code",
   "execution_count": null,
   "id": "fa014f2b-446e-465a-893b-aa8f7afc266d",
   "metadata": {},
   "outputs": [],
   "source": [
    "maximum(abs.(bulkscan_results_ind_null.L[:, samples] .- bulkscan_null_exact_samples_c.L))"
   ]
  },
  {
   "cell_type": "code",
   "execution_count": null,
   "id": "a8cad4a4-ea07-4865-b8a3-0eb02739c445",
   "metadata": {},
   "outputs": [],
   "source": [
    "maximum(abs.(bulkscan_LM_exact_samples.L .- bulkscan_null_exact_samples_c.L))"
   ]
  },
  {
   "cell_type": "code",
   "execution_count": null,
   "id": "42d34d01-2120-41c9-a055-503b15b949e9",
   "metadata": {},
   "outputs": [],
   "source": [
    "timing_null_exact_samples_1"
   ]
  },
  {
   "cell_type": "code",
   "execution_count": 151,
   "id": "47da78c4-4621-4855-8397-208cf38c8338",
   "metadata": {},
   "outputs": [],
   "source": [
    "timing_null_exact_samples = (@benchmark bulkscan(lp_ind_Y[:, samples], geno_ind, kinship_ind_from_strains;\n",
    "                                               method = \"null-exact\",\n",
    "                                               reml = true)) |> x -> median(x.times);"
   ]
  },
  {
   "cell_type": "code",
   "execution_count": 153,
   "id": "915c3b2f-a1f8-446f-847c-60f447fff273",
   "metadata": {},
   "outputs": [
    {
     "data": {
      "text/plain": [
       "BenchmarkTools.Trial: 2 samples with 1 evaluation.\n",
       " Range \u001b[90m(\u001b[39m\u001b[36m\u001b[1mmin\u001b[22m\u001b[39m … \u001b[35mmax\u001b[39m\u001b[90m):  \u001b[39m\u001b[36m\u001b[1m4.608 s\u001b[22m\u001b[39m … \u001b[35m   4.804 s\u001b[39m  \u001b[90m┊\u001b[39m GC \u001b[90m(\u001b[39mmin … max\u001b[90m): \u001b[39m2.59% … 3.82%\n",
       " Time  \u001b[90m(\u001b[39m\u001b[34m\u001b[1mmedian\u001b[22m\u001b[39m\u001b[90m):     \u001b[39m\u001b[34m\u001b[1m4.706 s               \u001b[22m\u001b[39m\u001b[90m┊\u001b[39m GC \u001b[90m(\u001b[39mmedian\u001b[90m):    \u001b[39m3.22%\n",
       " Time  \u001b[90m(\u001b[39m\u001b[32m\u001b[1mmean\u001b[22m\u001b[39m ± \u001b[32mσ\u001b[39m\u001b[90m):   \u001b[39m\u001b[32m\u001b[1m4.706 s\u001b[22m\u001b[39m ± \u001b[32m138.634 ms\u001b[39m  \u001b[90m┊\u001b[39m GC \u001b[90m(\u001b[39mmean ± σ\u001b[90m):  \u001b[39m3.22% ± 0.87%\n",
       "\n",
       "  \u001b[34m█\u001b[39m\u001b[39m \u001b[39m \u001b[39m \u001b[39m \u001b[39m \u001b[39m \u001b[39m \u001b[39m \u001b[39m \u001b[39m \u001b[39m \u001b[39m \u001b[39m \u001b[39m \u001b[39m \u001b[39m \u001b[39m \u001b[39m \u001b[39m \u001b[39m \u001b[39m \u001b[39m \u001b[39m \u001b[39m \u001b[39m \u001b[39m \u001b[39m \u001b[39m \u001b[32m \u001b[39m\u001b[39m \u001b[39m \u001b[39m \u001b[39m \u001b[39m \u001b[39m \u001b[39m \u001b[39m \u001b[39m \u001b[39m \u001b[39m \u001b[39m \u001b[39m \u001b[39m \u001b[39m \u001b[39m \u001b[39m \u001b[39m \u001b[39m \u001b[39m \u001b[39m \u001b[39m \u001b[39m \u001b[39m \u001b[39m \u001b[39m \u001b[39m \u001b[39m█\u001b[39m \u001b[39m \n",
       "  \u001b[34m█\u001b[39m\u001b[39m▁\u001b[39m▁\u001b[39m▁\u001b[39m▁\u001b[39m▁\u001b[39m▁\u001b[39m▁\u001b[39m▁\u001b[39m▁\u001b[39m▁\u001b[39m▁\u001b[39m▁\u001b[39m▁\u001b[39m▁\u001b[39m▁\u001b[39m▁\u001b[39m▁\u001b[39m▁\u001b[39m▁\u001b[39m▁\u001b[39m▁\u001b[39m▁\u001b[39m▁\u001b[39m▁\u001b[39m▁\u001b[39m▁\u001b[39m▁\u001b[39m▁\u001b[32m▁\u001b[39m\u001b[39m▁\u001b[39m▁\u001b[39m▁\u001b[39m▁\u001b[39m▁\u001b[39m▁\u001b[39m▁\u001b[39m▁\u001b[39m▁\u001b[39m▁\u001b[39m▁\u001b[39m▁\u001b[39m▁\u001b[39m▁\u001b[39m▁\u001b[39m▁\u001b[39m▁\u001b[39m▁\u001b[39m▁\u001b[39m▁\u001b[39m▁\u001b[39m▁\u001b[39m▁\u001b[39m▁\u001b[39m▁\u001b[39m▁\u001b[39m▁\u001b[39m█\u001b[39m \u001b[39m▁\n",
       "  4.61 s\u001b[90m         Histogram: frequency by time\u001b[39m          4.8 s \u001b[0m\u001b[1m<\u001b[22m\n",
       "\n",
       " Memory estimate\u001b[90m: \u001b[39m\u001b[33m55.10 GiB\u001b[39m, allocs estimate\u001b[90m: \u001b[39m\u001b[33m762427\u001b[39m."
      ]
     },
     "execution_count": 153,
     "metadata": {},
     "output_type": "execute_result"
    }
   ],
   "source": [
    "@benchmark bulkscan(lp_ind_Y[:, samples], geno_ind, kinship_ind_from_strains;\n",
    "                                               method = \"null-exact\",\n",
    "                                               reml = true)"
   ]
  },
  {
   "cell_type": "code",
   "execution_count": 152,
   "id": "8a72a9ec-53c0-4da4-b528-5694fefedd5d",
   "metadata": {},
   "outputs": [
    {
     "data": {
      "text/plain": [
       "4.744306578e9"
      ]
     },
     "execution_count": 152,
     "metadata": {},
     "output_type": "execute_result"
    }
   ],
   "source": [
    "timing_null_exact_samples"
   ]
  },
  {
   "cell_type": "code",
   "execution_count": 154,
   "id": "94a4d0cb-1503-45ef-9fb0-170f708ff139",
   "metadata": {},
   "outputs": [
    {
     "data": {
      "text/plain": [
       "1"
      ]
     },
     "execution_count": 154,
     "metadata": {},
     "output_type": "execute_result"
    }
   ],
   "source": [
    "BLAS.get_num_threads()"
   ]
  },
  {
   "cell_type": "code",
   "execution_count": 134,
   "id": "c4438fb2-58dc-4b28-81f7-bdec8ae49c9d",
   "metadata": {},
   "outputs": [],
   "source": [
    "BLAS.set_num_threads(24)"
   ]
  },
  {
   "cell_type": "code",
   "execution_count": 141,
   "id": "89010d6e-ec4c-4828-b261-c508c910872b",
   "metadata": {},
   "outputs": [],
   "source": [
    "timing_null_grid_samples10 = (@benchmark bulkscan(lp_ind_Y[:, samples], geno_ind, kinship_ind_from_strains; \n",
    "                                               reml = true)) |> x -> median(x.times);"
   ]
  },
  {
   "cell_type": "code",
   "execution_count": 150,
   "id": "ef4d59a2-f85c-4d5d-9d05-3ba9bbba310d",
   "metadata": {},
   "outputs": [
    {
     "data": {
      "text/plain": [
       "BenchmarkTools.Trial: 14 samples with 1 evaluation.\n",
       " Range \u001b[90m(\u001b[39m\u001b[36m\u001b[1mmin\u001b[22m\u001b[39m … \u001b[35mmax\u001b[39m\u001b[90m):  \u001b[39m\u001b[36m\u001b[1m357.380 ms\u001b[22m\u001b[39m … \u001b[35m410.516 ms\u001b[39m  \u001b[90m┊\u001b[39m GC \u001b[90m(\u001b[39mmin … max\u001b[90m): \u001b[39m0.00% … 0.96%\n",
       " Time  \u001b[90m(\u001b[39m\u001b[34m\u001b[1mmedian\u001b[22m\u001b[39m\u001b[90m):     \u001b[39m\u001b[34m\u001b[1m374.340 ms               \u001b[22m\u001b[39m\u001b[90m┊\u001b[39m GC \u001b[90m(\u001b[39mmedian\u001b[90m):    \u001b[39m0.98%\n",
       " Time  \u001b[90m(\u001b[39m\u001b[32m\u001b[1mmean\u001b[22m\u001b[39m ± \u001b[32mσ\u001b[39m\u001b[90m):   \u001b[39m\u001b[32m\u001b[1m378.904 ms\u001b[22m\u001b[39m ± \u001b[32m 14.966 ms\u001b[39m  \u001b[90m┊\u001b[39m GC \u001b[90m(\u001b[39mmean ± σ\u001b[90m):  \u001b[39m0.59% ± 0.53%\n",
       "\n",
       "  \u001b[39m▁\u001b[39m \u001b[39m \u001b[39m \u001b[39m \u001b[39m \u001b[39m \u001b[39m \u001b[39m \u001b[39m \u001b[39m▁\u001b[39m \u001b[39m▁\u001b[39m \u001b[39m▁\u001b[39m▁\u001b[39m▁\u001b[39m \u001b[39m▁\u001b[34m▁\u001b[39m\u001b[39m \u001b[39m \u001b[39m \u001b[39m \u001b[39m \u001b[32m▁\u001b[39m\u001b[39m \u001b[39m█\u001b[39m \u001b[39m \u001b[39m \u001b[39m \u001b[39m \u001b[39m \u001b[39m \u001b[39m \u001b[39m \u001b[39m▁\u001b[39m \u001b[39m \u001b[39m \u001b[39m \u001b[39m \u001b[39m \u001b[39m \u001b[39m \u001b[39m \u001b[39m \u001b[39m \u001b[39m \u001b[39m \u001b[39m \u001b[39m \u001b[39m \u001b[39m \u001b[39m \u001b[39m \u001b[39m▁\u001b[39m \u001b[39m \u001b[39m▁\u001b[39m \u001b[39m \n",
       "  \u001b[39m█\u001b[39m▁\u001b[39m▁\u001b[39m▁\u001b[39m▁\u001b[39m▁\u001b[39m▁\u001b[39m▁\u001b[39m▁\u001b[39m▁\u001b[39m█\u001b[39m▁\u001b[39m█\u001b[39m▁\u001b[39m█\u001b[39m█\u001b[39m█\u001b[39m▁\u001b[39m█\u001b[34m█\u001b[39m\u001b[39m▁\u001b[39m▁\u001b[39m▁\u001b[39m▁\u001b[39m▁\u001b[32m█\u001b[39m\u001b[39m▁\u001b[39m█\u001b[39m▁\u001b[39m▁\u001b[39m▁\u001b[39m▁\u001b[39m▁\u001b[39m▁\u001b[39m▁\u001b[39m▁\u001b[39m▁\u001b[39m█\u001b[39m▁\u001b[39m▁\u001b[39m▁\u001b[39m▁\u001b[39m▁\u001b[39m▁\u001b[39m▁\u001b[39m▁\u001b[39m▁\u001b[39m▁\u001b[39m▁\u001b[39m▁\u001b[39m▁\u001b[39m▁\u001b[39m▁\u001b[39m▁\u001b[39m▁\u001b[39m▁\u001b[39m▁\u001b[39m█\u001b[39m▁\u001b[39m▁\u001b[39m█\u001b[39m \u001b[39m▁\n",
       "  357 ms\u001b[90m           Histogram: frequency by time\u001b[39m          411 ms \u001b[0m\u001b[1m<\u001b[22m\n",
       "\n",
       " Memory estimate\u001b[90m: \u001b[39m\u001b[33m925.87 MiB\u001b[39m, allocs estimate\u001b[90m: \u001b[39m\u001b[33m5080\u001b[39m."
      ]
     },
     "execution_count": 150,
     "metadata": {},
     "output_type": "execute_result"
    }
   ],
   "source": [
    "@benchmark bulkscan(lp_ind_Y[:, samples], geno_ind, kinship_ind_from_strains; \n",
    "                                               reml = true)"
   ]
  },
  {
   "cell_type": "code",
   "execution_count": 149,
   "id": "cbbe1df8-d39f-42d4-ae0c-2ea30b4ce1dd",
   "metadata": {},
   "outputs": [
    {
     "data": {
      "text/plain": [
       "3.86749098e8"
      ]
     },
     "execution_count": 149,
     "metadata": {},
     "output_type": "execute_result"
    }
   ],
   "source": [
    "timing_null_grid_samples10"
   ]
  },
  {
   "cell_type": "code",
   "execution_count": 142,
   "id": "927a46b4-545c-423c-ab61-bd44e885598c",
   "metadata": {},
   "outputs": [],
   "source": [
    "timing_null_grid_samples20 = (@benchmark bulkscan(lp_ind_Y[:, samples], geno_ind, kinship_ind_from_strains;\n",
    "                                               h2_grid = collect(0.0:0.05:0.95),\n",
    "                                               reml = true)) |> x -> median(x.times);"
   ]
  },
  {
   "cell_type": "code",
   "execution_count": 143,
   "id": "bffe7123-1735-4e17-a6d9-5803c3d86c80",
   "metadata": {},
   "outputs": [],
   "source": [
    "timing_null_grid_samples100 = (@benchmark bulkscan(lp_ind_Y[:, samples], geno_ind, kinship_ind_from_strains;\n",
    "                                                          h2_grid = collect(0.0:0.01:0.99),\n",
    "                                                          reml = true)) |> x -> median(x.times);"
   ]
  },
  {
   "cell_type": "code",
   "execution_count": 112,
   "id": "d0f3b745-c268-4f02-b05f-bdde9c61e7f4",
   "metadata": {},
   "outputs": [],
   "source": [
    "# writedlm(\"output/bulklmm_L_ind_LM.txt\", bulkscan_LM_exact_samples.L, '\\t');"
   ]
  },
  {
   "cell_type": "code",
   "execution_count": 113,
   "id": "6320211c-a961-4c1e-90a8-f0d6213ae43a",
   "metadata": {},
   "outputs": [],
   "source": [
    "# writedlm(\"output/bulklmm_L_ind_null.txt\", bulkscan_null_exact_samples_nc.L, '\\t');"
   ]
  },
  {
   "cell_type": "code",
   "execution_count": 114,
   "id": "8096f9b2-4f4c-4df6-ac74-1dfd89ded679",
   "metadata": {},
   "outputs": [],
   "source": [
    "# writedlm(\"output/bulklmm_L_ind_null_corrected10.txt\", bulkscan_null_exact_samples_c.L, '\\t');"
   ]
  },
  {
   "cell_type": "code",
   "execution_count": 115,
   "id": "c2ca0c35-7985-41a6-93f6-f33db7db4e8f",
   "metadata": {},
   "outputs": [],
   "source": [
    "# writedlm(\"output/bulklmm_L_ind_null.txt\", bulkscan_null_exact_samples.L, '\\t');"
   ]
  },
  {
   "cell_type": "code",
   "execution_count": 144,
   "id": "8d784fbe-40a6-4370-b28c-bf37970446c3",
   "metadata": {},
   "outputs": [],
   "source": [
    "BLAS.set_num_threads(12)"
   ]
  },
  {
   "cell_type": "code",
   "execution_count": 145,
   "id": "52b189a0-b688-4d2c-82e3-ab12be4254fe",
   "metadata": {},
   "outputs": [],
   "source": [
    "timing_alt_grid_samples10 = (@benchmark bulkscan(lp_ind_Y[:, samples], geno_ind, kinship_ind_from_strains;\n",
    "                                              method = \"alt-grid\",      \n",
    "                                              reml = true)) |> x -> median(x.times);"
   ]
  },
  {
   "cell_type": "code",
   "execution_count": 146,
   "id": "628cd8d8-39e8-47a6-8349-64e8bfc11952",
   "metadata": {},
   "outputs": [],
   "source": [
    "timing_alt_grid_samples20 = (@benchmark bulkscan(lp_ind_Y[:, samples], geno_ind, kinship_ind_from_strains;\n",
    "                                              h2_grid = collect(0.0:0.05:0.95),\n",
    "                                              method = \"alt-grid\",      \n",
    "                                              reml = true)) |> x -> median(x.times);"
   ]
  },
  {
   "cell_type": "code",
   "execution_count": 147,
   "id": "56653343-fde2-46af-9a25-1679e6df5c44",
   "metadata": {},
   "outputs": [],
   "source": [
    "timing_alt_grid_samples100 = (@benchmark bulkscan(lp_ind_Y[:, samples], geno_ind, kinship_ind_from_strains;\n",
    "                                              h2_grid = collect(0.0:0.01:0.99),\n",
    "                                              method = \"alt-grid\",      \n",
    "                                              reml = true)) |> x -> median(x.times);"
   ]
  },
  {
   "cell_type": "code",
   "execution_count": 157,
   "id": "beb8dfe4-54b8-417c-81de-ca119fd97a10",
   "metadata": {},
   "outputs": [
    {
     "data": {
      "text/plain": [
       "3×2 Matrix{Float64}:\n",
       " 0.386749   2.18925\n",
       " 0.755738   3.87308\n",
       " 3.17922   16.5015"
      ]
     },
     "execution_count": 157,
     "metadata": {},
     "output_type": "execute_result"
    }
   ],
   "source": [
    "hcat([timing_null_grid_samples10, timing_null_grid_samples20, timing_null_grid_samples100],\n",
    "     [timing_alt_grid_samples10, timing_alt_grid_samples20, timing_alt_grid_samples100])./1e9"
   ]
  },
  {
   "cell_type": "markdown",
   "id": "b7cd2d39-93d4-468c-9e3f-713eab9e73df",
   "metadata": {},
   "source": [
    "## Study of grid_size effects on results:"
   ]
  },
  {
   "cell_type": "code",
   "execution_count": null,
   "id": "cf0f9d5e-2f67-4bc7-a9e1-182b27d3b3e0",
   "metadata": {},
   "outputs": [],
   "source": [
    "function subdivide_interval(num_subintervals::Int)\n",
    "    if num_subintervals <= 0\n",
    "        error(\"Invalid number of sub-intervals.\")\n",
    "    end\n",
    "    \n",
    "    subinterval_size = 1.0 / num_subintervals\n",
    "    subintervals = zeros(Float64, num_subintervals, 2)\n",
    "    \n",
    "    for i in 1:num_subintervals\n",
    "        start_point = (i - 1) * subinterval_size\n",
    "        end_point = i * subinterval_size\n",
    "        subintervals[i, :] = [start_point, end_point]\n",
    "    end\n",
    "    \n",
    "    subintervals[end, 2] = 0.99999\n",
    "    return subintervals\n",
    "end"
   ]
  },
  {
   "cell_type": "code",
   "execution_count": null,
   "id": "7a182c07-f60f-458e-93ac-80202f246ab0",
   "metadata": {},
   "outputs": [],
   "source": [
    "list_of_grid_lists = Array{Array{Float64, 1}, 1}(undef, 100);\n",
    "for i in 1:100\n",
    "    temp = subdivide_interval(i)[:, 2];\n",
    "    temp = vcat(0.0, temp);\n",
    "    list_of_grid_lists[i] = temp;\n",
    "end"
   ]
  },
  {
   "cell_type": "code",
   "execution_count": null,
   "id": "eff632a4-98a1-4a6d-86e8-1e491f35a11d",
   "metadata": {},
   "outputs": [],
   "source": [
    "timings_each_grid = zeros(100);\n",
    "k = 0;\n",
    "@time begin\n",
    "    for grid_list in list_of_grid_lists\n",
    "        \n",
    "        k = k+1;\n",
    "        timings_each_grid[k] = @elapsed bulkscan_null_grid(lpst_ind_Y, geno_ind, kinship_ind_from_strains, grid_list);\n",
    "\n",
    "    end\n",
    "end"
   ]
  },
  {
   "cell_type": "code",
   "execution_count": null,
   "id": "d6fcb199-afc3-452b-9531-a7638aac7b57",
   "metadata": {},
   "outputs": [],
   "source": [
    "absErrors_each_grid = zeros(100);\n",
    "\n",
    "k = 0;\n",
    "@time begin\n",
    "    \n",
    "    for grid_list in list_of_grid_lists\n",
    "        \n",
    "        k = k+1;\n",
    "        \n",
    "        null_grid_k_results = bulkscan_null_grid(lpst_ind_Y, geno_ind, kinship_ind_from_strains, grid_list).L;\n",
    "        absErrors_each_grid[k] = mean(abs.(null_grid_k_results .- bulkscan_results_ind_null.L))\n",
    "\n",
    "    end\n",
    "end"
   ]
  },
  {
   "cell_type": "code",
   "execution_count": null,
   "id": "be4bff60-e922-49a9-827b-2aa18a0301a9",
   "metadata": {},
   "outputs": [],
   "source": [
    "h2_study_summary = CSV.read(\"output/h2_study/h2_summary.csv\", DataFrame)"
   ]
  },
  {
   "cell_type": "code",
   "execution_count": null,
   "id": "3b0331f1-020a-49e7-b8be-0e05fdf06793",
   "metadata": {},
   "outputs": [],
   "source": [
    "timings_each_grid = h2_study_summary[:, 1];\n",
    "absErrors_each_grid = h2_study_summary[:, 2];"
   ]
  },
  {
   "cell_type": "code",
   "execution_count": null,
   "id": "85cd4931-8699-4b77-ad1a-231c32e19e26",
   "metadata": {},
   "outputs": [],
   "source": [
    "bulkscan_results_ind_null.L"
   ]
  },
  {
   "cell_type": "code",
   "execution_count": null,
   "id": "4f7c5242-1ce5-4eeb-8238-5cb162fde69a",
   "metadata": {},
   "outputs": [],
   "source": [
    "fit_h2_timings = wls(reshape(timings_each_grid, :, 1), hcat(ones(100), collect(1:100).*1.0), ones(100), [0.0, 0.0]);"
   ]
  },
  {
   "cell_type": "code",
   "execution_count": null,
   "id": "be218782-2cb9-4406-a7a9-78fbbaf8cab5",
   "metadata": {},
   "outputs": [],
   "source": [
    "coefs_h2_timings = round.(fit_h2_timings.b, digits = 2)"
   ]
  },
  {
   "cell_type": "code",
   "execution_count": null,
   "id": "31fbaf1b-9ad4-4b32-9d5e-51a373285a26",
   "metadata": {},
   "outputs": [],
   "source": [
    "plot(timings_each_grid, label = \"Runtime(in s) by grid size\");\n",
    "plot!(x -> fit_h2_timings.b[1]+fit_h2_timings.b[2]*x, label = \"y = 5.13+0.43x\")"
   ]
  },
  {
   "cell_type": "code",
   "execution_count": null,
   "id": "2463d6c5-944d-4a4d-a3df-3f606a2ef3b1",
   "metadata": {},
   "outputs": [],
   "source": [
    "fine_grid = collect(1:99).*0.01;"
   ]
  },
  {
   "cell_type": "code",
   "execution_count": null,
   "id": "3e93b45d-ad4f-4b75-9645-f7627bd3c100",
   "metadata": {},
   "outputs": [],
   "source": [
    "timings_each_grid"
   ]
  },
  {
   "cell_type": "code",
   "execution_count": null,
   "id": "d632e248-0947-496e-ba6d-23e3d061c4e5",
   "metadata": {},
   "outputs": [],
   "source": [
    "fit_h2_timings.b"
   ]
  },
  {
   "cell_type": "code",
   "execution_count": null,
   "id": "9e2efbe7-2ed4-484d-a3ca-bb29eac24067",
   "metadata": {},
   "outputs": [],
   "source": [
    "5.133367084781798+0.43327207080273666*100"
   ]
  },
  {
   "cell_type": "code",
   "execution_count": null,
   "id": "8bc22156-ce83-4f9d-80ae-89bcce124043",
   "metadata": {},
   "outputs": [],
   "source": [
    "timings_each_grid[34]"
   ]
  },
  {
   "cell_type": "code",
   "execution_count": null,
   "id": "28d44f0d-71ef-4692-a2fd-3277c71477a3",
   "metadata": {},
   "outputs": [],
   "source": [
    "absErrors_each_grid[34]"
   ]
  },
  {
   "cell_type": "code",
   "execution_count": null,
   "id": "6e9701f3-bb27-44dd-a2e0-f048450e2774",
   "metadata": {},
   "outputs": [],
   "source": [
    "?annotate!"
   ]
  },
  {
   "cell_type": "code",
   "execution_count": null,
   "id": "a20a7a96-97af-451f-9280-83c9ad1c5c4e",
   "metadata": {},
   "outputs": [],
   "source": [
    "minimum(absErrors_each_grid)"
   ]
  },
  {
   "cell_type": "code",
   "execution_count": null,
   "id": "2a3e4cf7-2fb4-4762-b52c-47717eb9e901",
   "metadata": {},
   "outputs": [],
   "source": [
    "findfirst(absErrors_each_grid.<= 0.01)"
   ]
  },
  {
   "cell_type": "code",
   "execution_count": null,
   "id": "5bb48085-71fe-49df-b357-83651eb101c9",
   "metadata": {},
   "outputs": [],
   "source": [
    "timings_each_grid[15]"
   ]
  },
  {
   "cell_type": "code",
   "execution_count": null,
   "id": "9aac8401-fc67-4b81-a282-6f8079c7c81d",
   "metadata": {},
   "outputs": [],
   "source": [
    "absErrors_each_grid[15]"
   ]
  },
  {
   "cell_type": "code",
   "execution_count": null,
   "id": "07d8b434-b41c-4fdc-94bb-c784058ab8e3",
   "metadata": {},
   "outputs": [],
   "source": [
    "plot(timings_each_grid, label = \"Runtime(in s) by grid size\", color = \"green\", \n",
    "     xaxis = \"h2-grid size\", yaxis = \"Runtime (s)\",\n",
    "     xlims = (0.0, 100.0), ylims = (0.0, 45.0), legend = :topright);\n",
    "plot!(twinx(), absErrors_each_grid, label = \"Mean absolute errors\", \n",
    "      color = \"blue\", legend = :topleft, yaxis = \"Errors in LODs\")\n",
    "plot!([15.0, 15.0], [0.0, 11.30], color = \"red\", label = false, linestyle=:dash)\n",
    "plot!([0.0, 15.0], [11.30, 11.30], color = \"red\", label = false, linestyle=:dash)\n",
    "plot!([15.0, 105.0], [2.8, 2.8], color = \"red\", label = false, linestyle=:dash)\n",
    "plot!(x -> fit_h2_timings.b[1]+fit_h2_timings.b[2]*x, label = \"y = 5.13+0.43x\", linestyle=:dash)\n",
    "annotate!([15.0], [-1.0], (\"15\", 8, \"red\"))\n",
    "annotate!([-4], [11.30], (\"11.30\", 8, \"green\"))\n",
    "annotate!([105.0], [2.8], (\"0.0098\", 8, \"blue\"))"
   ]
  },
  {
   "cell_type": "code",
   "execution_count": null,
   "id": "db335fbf-7743-47f8-ae68-51837220e293",
   "metadata": {},
   "outputs": [],
   "source": [
    "h2_df = DataFrame(hcat(timings_each_grid, absErrors_each_grid), [\"Timing\", \"Mean Absolute Difference\"])"
   ]
  },
  {
   "cell_type": "code",
   "execution_count": null,
   "id": "3aed1f56-b1f8-4bd0-badd-28954430b7f7",
   "metadata": {},
   "outputs": [],
   "source": [
    "pwd()"
   ]
  },
  {
   "cell_type": "code",
   "execution_count": null,
   "id": "ba26103f-01b0-4c86-ab35-0ca806f63914",
   "metadata": {},
   "outputs": [],
   "source": [
    "# CSV.write(\"output/h2_study/h2_summary.csv\", h2_df);"
   ]
  },
  {
   "cell_type": "code",
   "execution_count": null,
   "id": "32be08a9-4832-4c34-8f74-61e2f8aebd54",
   "metadata": {},
   "outputs": [],
   "source": [
    "BLAS.set_num_threads(1)"
   ]
  },
  {
   "cell_type": "code",
   "execution_count": null,
   "id": "6294d974-0d2b-44ce-a9e0-93027ff00fad",
   "metadata": {},
   "outputs": [],
   "source": [
    "@time test1 = scan(reshape(lpst_ind_Y[:, 3], :, 1), geno_ind, kinship_ind_from_strains);"
   ]
  },
  {
   "cell_type": "code",
   "execution_count": null,
   "id": "873f3381-8653-4d1f-9153-0d57a6e6f7f3",
   "metadata": {},
   "outputs": [],
   "source": [
    "BLAS.set_num_threads(4)"
   ]
  },
  {
   "cell_type": "code",
   "execution_count": null,
   "id": "5681c058-8bbc-47eb-be44-c9f4f108dd2c",
   "metadata": {},
   "outputs": [],
   "source": [
    "BLAS.get_num_threads()"
   ]
  },
  {
   "cell_type": "code",
   "execution_count": null,
   "id": "b68a640c-a27c-4064-a60d-6e78720d08ee",
   "metadata": {},
   "outputs": [],
   "source": [
    "@time test2 = scan(reshape(lpst_ind_Y[:, 3], :, 1), geno_ind, kinship_ind_from_strains);"
   ]
  },
  {
   "cell_type": "code",
   "execution_count": null,
   "id": "a9940387-058e-4848-be9c-dc7105f8bec5",
   "metadata": {},
   "outputs": [],
   "source": [
    "@time test3 = scan(reshape(lpst_ind_Y[:, 3], :, 1), geno_ind, kinship_ind_from_strains);"
   ]
  },
  {
   "cell_type": "code",
   "execution_count": null,
   "id": "b4ac4ba4-a83b-4a4e-9809-dcad28804fdd",
   "metadata": {},
   "outputs": [],
   "source": [
    "test1.h2_null"
   ]
  },
  {
   "cell_type": "code",
   "execution_count": null,
   "id": "3fd5eba1-95ae-4015-8525-1dd264dc973a",
   "metadata": {},
   "outputs": [],
   "source": [
    "test2.h2_null"
   ]
  },
  {
   "cell_type": "code",
   "execution_count": null,
   "id": "2fd6633f-e7ac-43ae-83f2-68127b155a2f",
   "metadata": {},
   "outputs": [],
   "source": [
    "test3.h2_null"
   ]
  },
  {
   "cell_type": "code",
   "execution_count": null,
   "id": "63ce963b-46d4-464f-9af0-e9b4c9a564fb",
   "metadata": {},
   "outputs": [],
   "source": [
    "maximum(abs.(test1.lod .- test2.lod))"
   ]
  },
  {
   "cell_type": "code",
   "execution_count": null,
   "id": "9474d788-e283-4a1d-a8f9-2f6137131764",
   "metadata": {},
   "outputs": [],
   "source": [
    "?bulkscan"
   ]
  },
  {
   "cell_type": "code",
   "execution_count": 202,
   "id": "4a4fe5cb-dc00-4695-8293-a12d2e1e1aed",
   "metadata": {},
   "outputs": [
    {
     "data": {
      "text/plain": [
       "24"
      ]
     },
     "execution_count": 202,
     "metadata": {},
     "output_type": "execute_result"
    }
   ],
   "source": [
    "BLAS.set_num_threads(Threads.nthreads())\n",
    "BLAS.get_num_threads()"
   ]
  },
  {
   "cell_type": "code",
   "execution_count": 206,
   "id": "7ca9e2b1-2894-44be-a4bb-06b6562ca210",
   "metadata": {},
   "outputs": [
    {
     "name": "stdout",
     "output_type": "stream",
     "text": [
      " 16.373105 seconds (127.60 k allocations: 34.767 GiB, 0.65% gc time)\n"
     ]
    }
   ],
   "source": [
    "@time test_h2_nc = bulkscan(lpst_ind_Y, geno_ind, kinship_ind_from_strains;\n",
    "                            reml = true,\n",
    "                            h2_grid = collect(0.00:0.01:0.99));"
   ]
  },
  {
   "cell_type": "code",
   "execution_count": 204,
   "id": "d344a6ac-150d-4c0e-aab5-aeff6f429065",
   "metadata": {},
   "outputs": [
    {
     "name": "stdout",
     "output_type": "stream",
     "text": [
      " 14.426598 seconds (127.59 k allocations: 34.767 GiB, 0.57% gc time)\n"
     ]
    }
   ],
   "source": [
    "@time test_h2_c = bulkscan(lpst_ind_Y, geno_ind, kinship_ind_from_strains;\n",
    "                           reml = true,\n",
    "                           h2_grid = collect(0.00:0.01:0.99), \n",
    "                           prior_variance = 1.0, prior_sample_size = 0.1);"
   ]
  },
  {
   "cell_type": "code",
   "execution_count": 174,
   "id": "7282185c-fbdf-46e0-abbe-bc2943a120ec",
   "metadata": {},
   "outputs": [
    {
     "name": "stdout",
     "output_type": "stream",
     "text": [
      "186.291379 seconds (23.66 M allocations: 1.743 TiB, 2.14% gc time)\n"
     ]
    }
   ],
   "source": [
    "@time test_h2_nc_exact = bulkscan(lpst_ind_Y, geno_ind, kinship_ind_from_strains; \n",
    "                                  method = \"null-exact\", reml = true);"
   ]
  },
  {
   "cell_type": "code",
   "execution_count": 218,
   "id": "1441f35b-8a44-411a-8062-e473bc43e138",
   "metadata": {},
   "outputs": [
    {
     "name": "stdout",
     "output_type": "stream",
     "text": [
      " 29.618448 seconds (33.68 M allocations: 373.135 GiB, 6.22% gc time, 74.96% compilation time)\n"
     ]
    }
   ],
   "source": [
    "@time test_h2_nc_exact_strains = bulkscan(lpst_strains_Y, geno_strains, kinship_strains; \n",
    "                                  method = \"null-exact\", reml = true);"
   ]
  },
  {
   "cell_type": "code",
   "execution_count": 188,
   "id": "a1173596-cb2c-4d06-a68e-9002acdb1db0",
   "metadata": {},
   "outputs": [
    {
     "name": "stdout",
     "output_type": "stream",
     "text": [
      "194.109278 seconds (26.49 M allocations: 1.744 TiB, 1.98% gc time, 9.00% compilation time)\n"
     ]
    }
   ],
   "source": [
    "@time test_h2_c_exact = bulkscan(lpst_ind_Y, geno_ind, kinship_ind_from_strains; \n",
    "                           method = \"null-exact\", reml = true,\n",
    "                           prior_variance = 1.0, prior_sample_size = 0.1);"
   ]
  },
  {
   "cell_type": "code",
   "execution_count": 168,
   "id": "a7921ce6-1f73-42c8-8dc5-0ffc1bbc2e36",
   "metadata": {},
   "outputs": [
    {
     "data": {
      "text/plain": [
       "0.95"
      ]
     },
     "execution_count": 168,
     "metadata": {},
     "output_type": "execute_result"
    }
   ],
   "source": [
    "maximum(test_h2_nc.h2_null_list)"
   ]
  },
  {
   "cell_type": "code",
   "execution_count": 169,
   "id": "3bb78ca2-1ebe-46d5-9a2e-948f93298021",
   "metadata": {},
   "outputs": [
    {
     "data": {
      "text/plain": [
       "0.95"
      ]
     },
     "execution_count": 169,
     "metadata": {},
     "output_type": "execute_result"
    }
   ],
   "source": [
    "maximum(test_h2_c.h2_null_list)"
   ]
  },
  {
   "cell_type": "code",
   "execution_count": 219,
   "id": "8b79beff-aff6-4688-ac82-4bbc4df6723d",
   "metadata": {},
   "outputs": [
    {
     "data": {
      "text/plain": [
       "(0.999999984947842, 18)"
      ]
     },
     "execution_count": 219,
     "metadata": {},
     "output_type": "execute_result"
    }
   ],
   "source": [
    "findmax(test_h2_nc_exact_strains.h2_null_list)"
   ]
  },
  {
   "cell_type": "code",
   "execution_count": 178,
   "id": "51ee24a7-f80e-49d3-8eb7-d97a5fb82904",
   "metadata": {},
   "outputs": [
    {
     "data": {
      "text/plain": [
       "(0.9539702211017628, 21498)"
      ]
     },
     "execution_count": 178,
     "metadata": {},
     "output_type": "execute_result"
    }
   ],
   "source": [
    "findmax(test_h2_nc_exact.h2_null_list)"
   ]
  },
  {
   "cell_type": "code",
   "execution_count": 177,
   "id": "5b9b9358-aa59-4be5-80b1-05d36bb06935",
   "metadata": {},
   "outputs": [
    {
     "data": {
      "text/plain": [
       "0.9527586150646432"
      ]
     },
     "execution_count": 177,
     "metadata": {},
     "output_type": "execute_result"
    }
   ],
   "source": [
    "maximum(test_h2_c_exact.h2_null_list)"
   ]
  },
  {
   "cell_type": "code",
   "execution_count": 191,
   "id": "72498fbe-5bb2-4fc4-8fed-b304b7d523bb",
   "metadata": {},
   "outputs": [
    {
     "data": {
      "text/plain": [
       "21498"
      ]
     },
     "execution_count": 191,
     "metadata": {},
     "output_type": "execute_result"
    }
   ],
   "source": [
    "bad_trait = 21498"
   ]
  },
  {
   "cell_type": "code",
   "execution_count": 192,
   "id": "e04ad60b-3286-42a4-9b3a-bd82026efc31",
   "metadata": {},
   "outputs": [
    {
     "name": "stdout",
     "output_type": "stream",
     "text": [
      "  0.167871 seconds (85.03 k allocations: 168.567 MiB)\n"
     ]
    }
   ],
   "source": [
    "@time single_trait_example_nc = scan(lpst_ind_Y[:, bad_trait], geno_ind, kinship_ind_from_strains; \n",
    "                                     reml = true, \n",
    "                                     profileLL = true, markerID = 1, h2_grid = collect(0.00:0.01:0.99));"
   ]
  },
  {
   "cell_type": "code",
   "execution_count": 194,
   "id": "6d1b3c81-6a67-43c3-8e3e-b846b7c97931",
   "metadata": {},
   "outputs": [
    {
     "name": "stdout",
     "output_type": "stream",
     "text": [
      "  0.124927 seconds (80.93 k allocations: 134.840 MiB)\n"
     ]
    }
   ],
   "source": [
    "@time single_trait_example_c = scan(lpst_ind_Y[:, bad_trait], geno_ind, kinship_ind_from_strains;\n",
    "                                    reml = true, \n",
    "                                    prior_variance = 1.0, prior_sample_size = 0.1);"
   ]
  },
  {
   "cell_type": "code",
   "execution_count": 205,
   "id": "d8e6d9b9-0b83-4900-b753-f88f64d8cbd4",
   "metadata": {},
   "outputs": [],
   "source": [
    "test_trait = reshape(lpst_ind_Y[:, bad_trait], :, 1);"
   ]
  },
  {
   "cell_type": "code",
   "execution_count": 221,
   "id": "ffeb8d14-0879-4ebb-b4c6-515f23abf3ee",
   "metadata": {},
   "outputs": [
    {
     "name": "stdout",
     "output_type": "stream",
     "text": [
      "  1.306180 seconds (490.94 k allocations: 617.901 MiB, 36.72% gc time)\n"
     ]
    }
   ],
   "source": [
    "@time scan_getLL = scan(lpst_ind_Y[:, bad_trait], geno_ind, kinship_ind_from_strains;\n",
    "                  profileLL = true,\n",
    "                  h2_grid = collect(0.0:0.0001:0.9999),\n",
    "                  reml = true);"
   ]
  },
  {
   "cell_type": "code",
   "execution_count": 212,
   "id": "efc4afa6-db44-4f1a-8790-40b7b7ad754e",
   "metadata": {},
   "outputs": [
    {
     "name": "stdout",
     "output_type": "stream",
     "text": [
      "  0.063844 seconds (55.58 k allocations: 74.943 MiB)\n",
      "  0.063141 seconds (55.58 k allocations: 74.943 MiB)\n"
     ]
    }
   ],
   "source": [
    "@time p1 = plotLL(test_trait, geno_ind, ones(248, 1), \n",
    "                  kinship_ind_from_strains, \n",
    "                  collect(0.0:0.001:0.999);\n",
    "                  reml = true, prior = [var(test_trait), 0.0]);\n",
    "@time p2 = plotLL(test_trait, geno_ind, ones(248, 1), \n",
    "                  kinship_ind_from_strains, \n",
    "                  collect(0.0:0.001:0.999);\n",
    "                  reml = true, prior = [var(test_trait), 0.1]);\n"
   ]
  },
  {
   "cell_type": "code",
   "execution_count": 214,
   "id": "a738c06b-5b3b-408f-a79a-278e7f2406fa",
   "metadata": {},
   "outputs": [
    {
     "data": {
      "image/png": "[encoded data removed]",
      "image/svg+xml": [
       "<?xml version=\"1.0\" encoding=\"utf-8\"?>\n",
       "<svg xmlns=\"http://www.w3.org/2000/svg\" xmlns:xlink=\"http://www.w3.org/1999/xlink\" width=\"600\" height=\"400\" viewBox=\"0 0 2400 1600\">\n",
       "<defs>\n",
       "  <clipPath id=\"clip480\">\n",
       "    <rect x=\"0\" y=\"0\" width=\"2400\" height=\"1600\"/>\n",
       "  </clipPath>\n",
       "</defs>\n",
       "<path clip-path=\"url(#clip480)\" d=\"M0 1600 L2400 1600 L2400 0 L0 0  Z\" fill=\"#ffffff\" fill-rule=\"evenodd\" fill-opacity=\"1\"/>\n",
       "<defs>\n",
       "  <clipPath id=\"clip481\">\n",
       "    <rect x=\"480\" y=\"0\" width=\"1681\" height=\"1600\"/>\n",
       "  </clipPath>\n",
       "</defs>\n",
       "<path clip-path=\"url(#clip480)\" d=\"M209.029 1486.45 L2352.76 1486.45 L2352.76 47.2441 L209.029 47.2441  Z\" fill=\"#ffffff\" fill-rule=\"evenodd\" fill-opacity=\"1\"/>\n",
       "<defs>\n",
       "  <clipPath id=\"clip482\">\n",
       "    <rect x=\"209\" y=\"47\" width=\"2145\" height=\"1440\"/>\n",
       "  </clipPath>\n",
       "</defs>\n",
       "<polyline clip-path=\"url(#clip482)\" style=\"stroke:#000000; stroke-linecap:round; stroke-linejoin:round; stroke-width:2; stroke-opacity:0.1; fill:none\" points=\"267.676,1486.45 267.676,47.2441 \"/>\n",
       "<polyline clip-path=\"url(#clip482)\" style=\"stroke:#000000; stroke-linecap:round; stroke-linejoin:round; stroke-width:2; stroke-opacity:0.1; fill:none\" points=\"773.778,1486.45 773.778,47.2441 \"/>\n",
       "<polyline clip-path=\"url(#clip482)\" style=\"stroke:#000000; stroke-linecap:round; stroke-linejoin:round; stroke-width:2; stroke-opacity:0.1; fill:none\" points=\"1279.88,1486.45 1279.88,47.2441 \"/>\n",
       "<polyline clip-path=\"url(#clip482)\" style=\"stroke:#000000; stroke-linecap:round; stroke-linejoin:round; stroke-width:2; stroke-opacity:0.1; fill:none\" points=\"1785.98,1486.45 1785.98,47.2441 \"/>\n",
       "<polyline clip-path=\"url(#clip482)\" style=\"stroke:#000000; stroke-linecap:round; stroke-linejoin:round; stroke-width:2; stroke-opacity:0.1; fill:none\" points=\"2292.08,1486.45 2292.08,47.2441 \"/>\n",
       "<polyline clip-path=\"url(#clip480)\" style=\"stroke:#000000; stroke-linecap:round; stroke-linejoin:round; stroke-width:4; stroke-opacity:1; fill:none\" points=\"209.029,1486.45 2352.76,1486.45 \"/>\n",
       "<polyline clip-path=\"url(#clip480)\" style=\"stroke:#000000; stroke-linecap:round; stroke-linejoin:round; stroke-width:4; stroke-opacity:1; fill:none\" points=\"267.676,1486.45 267.676,1467.55 \"/>\n",
       "<polyline clip-path=\"url(#clip480)\" style=\"stroke:#000000; stroke-linecap:round; stroke-linejoin:round; stroke-width:4; stroke-opacity:1; fill:none\" points=\"773.778,1486.45 773.778,1467.55 \"/>\n",
       "<polyline clip-path=\"url(#clip480)\" style=\"stroke:#000000; stroke-linecap:round; stroke-linejoin:round; stroke-width:4; stroke-opacity:1; fill:none\" points=\"1279.88,1486.45 1279.88,1467.55 \"/>\n",
       "<polyline clip-path=\"url(#clip480)\" style=\"stroke:#000000; stroke-linecap:round; stroke-linejoin:round; stroke-width:4; stroke-opacity:1; fill:none\" points=\"1785.98,1486.45 1785.98,1467.55 \"/>\n",
       "<polyline clip-path=\"url(#clip480)\" style=\"stroke:#000000; stroke-linecap:round; stroke-linejoin:round; stroke-width:4; stroke-opacity:1; fill:none\" points=\"2292.08,1486.45 2292.08,1467.55 \"/>\n",
       "<path clip-path=\"url(#clip480)\" d=\"M267.676 1517.37 Q264.065 1517.37 262.236 1520.93 Q260.43 1524.47 260.43 1531.6 Q260.43 1538.71 262.236 1542.27 Q264.065 1545.82 267.676 1545.82 Q271.31 1545.82 273.115 1542.27 Q274.944 1538.71 274.944 1531.6 Q274.944 1524.47 273.115 1520.93 Q271.31 1517.37 267.676 1517.37 M267.676 1513.66 Q273.486 1513.66 276.541 1518.27 Q279.62 1522.85 279.62 1531.6 Q279.62 1540.33 276.541 1544.94 Q273.486 1549.52 267.676 1549.52 Q261.865 1549.52 258.787 1544.94 Q255.731 1540.33 255.731 1531.6 Q255.731 1522.85 258.787 1518.27 Q261.865 1513.66 267.676 1513.66 Z\" fill=\"#000000\" fill-rule=\"nonzero\" fill-opacity=\"1\" /><path clip-path=\"url(#clip480)\" d=\"M737.47 1544.91 L753.789 1544.91 L753.789 1548.85 L731.845 1548.85 L731.845 1544.91 Q734.507 1542.16 739.091 1537.53 Q743.697 1532.88 744.878 1531.53 Q747.123 1529.01 748.002 1527.27 Q748.905 1525.51 748.905 1523.82 Q748.905 1521.07 746.961 1519.33 Q745.04 1517.6 741.938 1517.6 Q739.739 1517.6 737.285 1518.36 Q734.854 1519.13 732.077 1520.68 L732.077 1515.95 Q734.901 1514.82 737.354 1514.24 Q739.808 1513.66 741.845 1513.66 Q747.215 1513.66 750.41 1516.35 Q753.604 1519.03 753.604 1523.52 Q753.604 1525.65 752.794 1527.57 Q752.007 1529.47 749.901 1532.07 Q749.322 1532.74 746.22 1535.95 Q743.118 1539.15 737.47 1544.91 Z\" fill=\"#000000\" fill-rule=\"nonzero\" fill-opacity=\"1\" /><path clip-path=\"url(#clip480)\" d=\"M763.651 1514.29 L782.007 1514.29 L782.007 1518.22 L767.933 1518.22 L767.933 1526.7 Q768.951 1526.35 769.97 1526.19 Q770.988 1526 772.007 1526 Q777.794 1526 781.174 1529.17 Q784.553 1532.34 784.553 1537.76 Q784.553 1543.34 781.081 1546.44 Q777.609 1549.52 771.289 1549.52 Q769.113 1549.52 766.845 1549.15 Q764.6 1548.78 762.192 1548.04 L762.192 1543.34 Q764.276 1544.47 766.498 1545.03 Q768.72 1545.58 771.197 1545.58 Q775.201 1545.58 777.539 1543.48 Q779.877 1541.37 779.877 1537.76 Q779.877 1534.15 777.539 1532.04 Q775.201 1529.94 771.197 1529.94 Q769.322 1529.94 767.447 1530.35 Q765.595 1530.77 763.651 1531.65 L763.651 1514.29 Z\" fill=\"#000000\" fill-rule=\"nonzero\" fill-opacity=\"1\" /><path clip-path=\"url(#clip480)\" d=\"M803.766 1517.37 Q800.155 1517.37 798.326 1520.93 Q796.521 1524.47 796.521 1531.6 Q796.521 1538.71 798.326 1542.27 Q800.155 1545.82 803.766 1545.82 Q807.4 1545.82 809.206 1542.27 Q811.035 1538.71 811.035 1531.6 Q811.035 1524.47 809.206 1520.93 Q807.4 1517.37 803.766 1517.37 M803.766 1513.66 Q809.576 1513.66 812.632 1518.27 Q815.71 1522.85 815.71 1531.6 Q815.71 1540.33 812.632 1544.94 Q809.576 1549.52 803.766 1549.52 Q797.956 1549.52 794.877 1544.94 Q791.822 1540.33 791.822 1531.6 Q791.822 1522.85 794.877 1518.27 Q797.956 1513.66 803.766 1513.66 Z\" fill=\"#000000\" fill-rule=\"nonzero\" fill-opacity=\"1\" /><path clip-path=\"url(#clip480)\" d=\"M1239.5 1514.29 L1257.85 1514.29 L1257.85 1518.22 L1243.78 1518.22 L1243.78 1526.7 Q1244.8 1526.35 1245.82 1526.19 Q1246.84 1526 1247.85 1526 Q1253.64 1526 1257.02 1529.17 Q1260.4 1532.34 1260.4 1537.76 Q1260.4 1543.34 1256.93 1546.44 Q1253.46 1549.52 1247.14 1549.52 Q1244.96 1549.52 1242.69 1549.15 Q1240.45 1548.78 1238.04 1548.04 L1238.04 1543.34 Q1240.12 1544.47 1242.35 1545.03 Q1244.57 1545.58 1247.04 1545.58 Q1251.05 1545.58 1253.39 1543.48 Q1255.73 1541.37 1255.73 1537.76 Q1255.73 1534.15 1253.39 1532.04 Q1251.05 1529.94 1247.04 1529.94 Q1245.17 1529.94 1243.29 1530.35 Q1241.44 1530.77 1239.5 1531.65 L1239.5 1514.29 Z\" fill=\"#000000\" fill-rule=\"nonzero\" fill-opacity=\"1\" /><path clip-path=\"url(#clip480)\" d=\"M1279.61 1517.37 Q1276 1517.37 1274.17 1520.93 Q1272.37 1524.47 1272.37 1531.6 Q1272.37 1538.71 1274.17 1542.27 Q1276 1545.82 1279.61 1545.82 Q1283.25 1545.82 1285.05 1542.27 Q1286.88 1538.71 1286.88 1531.6 Q1286.88 1524.47 1285.05 1520.93 Q1283.25 1517.37 1279.61 1517.37 M1279.61 1513.66 Q1285.42 1513.66 1288.48 1518.27 Q1291.56 1522.85 1291.56 1531.6 Q1291.56 1540.33 1288.48 1544.94 Q1285.42 1549.52 1279.61 1549.52 Q1273.8 1549.52 1270.72 1544.94 Q1267.67 1540.33 1267.67 1531.6 Q1267.67 1522.85 1270.72 1518.27 Q1273.8 1513.66 1279.61 1513.66 Z\" fill=\"#000000\" fill-rule=\"nonzero\" fill-opacity=\"1\" /><path clip-path=\"url(#clip480)\" d=\"M1309.78 1517.37 Q1306.16 1517.37 1304.34 1520.93 Q1302.53 1524.47 1302.53 1531.6 Q1302.53 1538.71 1304.34 1542.27 Q1306.16 1545.82 1309.78 1545.82 Q1313.41 1545.82 1315.22 1542.27 Q1317.04 1538.71 1317.04 1531.6 Q1317.04 1524.47 1315.22 1520.93 Q1313.41 1517.37 1309.78 1517.37 M1309.78 1513.66 Q1315.59 1513.66 1318.64 1518.27 Q1321.72 1522.85 1321.72 1531.6 Q1321.72 1540.33 1318.64 1544.94 Q1315.59 1549.52 1309.78 1549.52 Q1303.97 1549.52 1300.89 1544.94 Q1297.83 1540.33 1297.83 1531.6 Q1297.83 1522.85 1300.89 1518.27 Q1303.97 1513.66 1309.78 1513.66 Z\" fill=\"#000000\" fill-rule=\"nonzero\" fill-opacity=\"1\" /><path clip-path=\"url(#clip480)\" d=\"M1744.26 1514.29 L1766.48 1514.29 L1766.48 1516.28 L1753.93 1548.85 L1749.05 1548.85 L1760.86 1518.22 L1744.26 1518.22 L1744.26 1514.29 Z\" fill=\"#000000\" fill-rule=\"nonzero\" fill-opacity=\"1\" /><path clip-path=\"url(#clip480)\" d=\"M1775.65 1514.29 L1794 1514.29 L1794 1518.22 L1779.93 1518.22 L1779.93 1526.7 Q1780.95 1526.35 1781.97 1526.19 Q1782.98 1526 1784 1526 Q1789.79 1526 1793.17 1529.17 Q1796.55 1532.34 1796.55 1537.76 Q1796.55 1543.34 1793.08 1546.44 Q1789.6 1549.52 1783.29 1549.52 Q1781.11 1549.52 1778.84 1549.15 Q1776.6 1548.78 1774.19 1548.04 L1774.19 1543.34 Q1776.27 1544.47 1778.49 1545.03 Q1780.72 1545.58 1783.19 1545.58 Q1787.2 1545.58 1789.54 1543.48 Q1791.87 1541.37 1791.87 1537.76 Q1791.87 1534.15 1789.54 1532.04 Q1787.2 1529.94 1783.19 1529.94 Q1781.32 1529.94 1779.44 1530.35 Q1777.59 1530.77 1775.65 1531.65 L1775.65 1514.29 Z\" fill=\"#000000\" fill-rule=\"nonzero\" fill-opacity=\"1\" /><path clip-path=\"url(#clip480)\" d=\"M1815.76 1517.37 Q1812.15 1517.37 1810.32 1520.93 Q1808.52 1524.47 1808.52 1531.6 Q1808.52 1538.71 1810.32 1542.27 Q1812.15 1545.82 1815.76 1545.82 Q1819.4 1545.82 1821.2 1542.27 Q1823.03 1538.71 1823.03 1531.6 Q1823.03 1524.47 1821.2 1520.93 Q1819.4 1517.37 1815.76 1517.37 M1815.76 1513.66 Q1821.57 1513.66 1824.63 1518.27 Q1827.71 1522.85 1827.71 1531.6 Q1827.71 1540.33 1824.63 1544.94 Q1821.57 1549.52 1815.76 1549.52 Q1809.95 1549.52 1806.87 1544.94 Q1803.82 1540.33 1803.82 1531.6 Q1803.82 1522.85 1806.87 1518.27 Q1809.95 1513.66 1815.76 1513.66 Z\" fill=\"#000000\" fill-rule=\"nonzero\" fill-opacity=\"1\" /><path clip-path=\"url(#clip480)\" d=\"M2236.61 1544.91 L2244.25 1544.91 L2244.25 1518.55 L2235.94 1520.21 L2235.94 1515.95 L2244.2 1514.29 L2248.88 1514.29 L2248.88 1544.91 L2256.52 1544.91 L2256.52 1548.85 L2236.61 1548.85 L2236.61 1544.91 Z\" fill=\"#000000\" fill-rule=\"nonzero\" fill-opacity=\"1\" /><path clip-path=\"url(#clip480)\" d=\"M2275.96 1517.37 Q2272.35 1517.37 2270.52 1520.93 Q2268.72 1524.47 2268.72 1531.6 Q2268.72 1538.71 2270.52 1542.27 Q2272.35 1545.82 2275.96 1545.82 Q2279.6 1545.82 2281.4 1542.27 Q2283.23 1538.71 2283.23 1531.6 Q2283.23 1524.47 2281.4 1520.93 Q2279.6 1517.37 2275.96 1517.37 M2275.96 1513.66 Q2281.77 1513.66 2284.83 1518.27 Q2287.91 1522.85 2287.91 1531.6 Q2287.91 1540.33 2284.83 1544.94 Q2281.77 1549.52 2275.96 1549.52 Q2270.15 1549.52 2267.07 1544.94 Q2264.02 1540.33 2264.02 1531.6 Q2264.02 1522.85 2267.07 1518.27 Q2270.15 1513.66 2275.96 1513.66 Z\" fill=\"#000000\" fill-rule=\"nonzero\" fill-opacity=\"1\" /><path clip-path=\"url(#clip480)\" d=\"M2306.12 1517.37 Q2302.51 1517.37 2300.68 1520.93 Q2298.88 1524.47 2298.88 1531.6 Q2298.88 1538.71 2300.68 1542.27 Q2302.51 1545.82 2306.12 1545.82 Q2309.76 1545.82 2311.56 1542.27 Q2313.39 1538.71 2313.39 1531.6 Q2313.39 1524.47 2311.56 1520.93 Q2309.76 1517.37 2306.12 1517.37 M2306.12 1513.66 Q2311.93 1513.66 2314.99 1518.27 Q2318.07 1522.85 2318.07 1531.6 Q2318.07 1540.33 2314.99 1544.94 Q2311.93 1549.52 2306.12 1549.52 Q2300.31 1549.52 2297.23 1544.94 Q2294.18 1540.33 2294.18 1531.6 Q2294.18 1522.85 2297.23 1518.27 Q2300.31 1513.66 2306.12 1513.66 Z\" fill=\"#000000\" fill-rule=\"nonzero\" fill-opacity=\"1\" /><path clip-path=\"url(#clip480)\" d=\"M2336.29 1517.37 Q2332.67 1517.37 2330.85 1520.93 Q2329.04 1524.47 2329.04 1531.6 Q2329.04 1538.71 2330.85 1542.27 Q2332.67 1545.82 2336.29 1545.82 Q2339.92 1545.82 2341.73 1542.27 Q2343.55 1538.71 2343.55 1531.6 Q2343.55 1524.47 2341.73 1520.93 Q2339.92 1517.37 2336.29 1517.37 M2336.29 1513.66 Q2342.1 1513.66 2345.15 1518.27 Q2348.23 1522.85 2348.23 1531.6 Q2348.23 1540.33 2345.15 1544.94 Q2342.1 1549.52 2336.29 1549.52 Q2330.48 1549.52 2327.4 1544.94 Q2324.34 1540.33 2324.34 1531.6 Q2324.34 1522.85 2327.4 1518.27 Q2330.48 1513.66 2336.29 1513.66 Z\" fill=\"#000000\" fill-rule=\"nonzero\" fill-opacity=\"1\" /><polyline clip-path=\"url(#clip482)\" style=\"stroke:#000000; stroke-linecap:round; stroke-linejoin:round; stroke-width:2; stroke-opacity:0.1; fill:none\" points=\"209.029,1258.16 2352.76,1258.16 \"/>\n",
       "<polyline clip-path=\"url(#clip482)\" style=\"stroke:#000000; stroke-linecap:round; stroke-linejoin:round; stroke-width:2; stroke-opacity:0.1; fill:none\" points=\"209.029,901.727 2352.76,901.727 \"/>\n",
       "<polyline clip-path=\"url(#clip482)\" style=\"stroke:#000000; stroke-linecap:round; stroke-linejoin:round; stroke-width:2; stroke-opacity:0.1; fill:none\" points=\"209.029,545.297 2352.76,545.297 \"/>\n",
       "<polyline clip-path=\"url(#clip482)\" style=\"stroke:#000000; stroke-linecap:round; stroke-linejoin:round; stroke-width:2; stroke-opacity:0.1; fill:none\" points=\"209.029,188.867 2352.76,188.867 \"/>\n",
       "<polyline clip-path=\"url(#clip480)\" style=\"stroke:#000000; stroke-linecap:round; stroke-linejoin:round; stroke-width:4; stroke-opacity:1; fill:none\" points=\"209.029,1486.45 209.029,47.2441 \"/>\n",
       "<polyline clip-path=\"url(#clip480)\" style=\"stroke:#000000; stroke-linecap:round; stroke-linejoin:round; stroke-width:4; stroke-opacity:1; fill:none\" points=\"209.029,1258.16 227.926,1258.16 \"/>\n",
       "<polyline clip-path=\"url(#clip480)\" style=\"stroke:#000000; stroke-linecap:round; stroke-linejoin:round; stroke-width:4; stroke-opacity:1; fill:none\" points=\"209.029,901.727 227.926,901.727 \"/>\n",
       "<polyline clip-path=\"url(#clip480)\" style=\"stroke:#000000; stroke-linecap:round; stroke-linejoin:round; stroke-width:4; stroke-opacity:1; fill:none\" points=\"209.029,545.297 227.926,545.297 \"/>\n",
       "<polyline clip-path=\"url(#clip480)\" style=\"stroke:#000000; stroke-linecap:round; stroke-linejoin:round; stroke-width:4; stroke-opacity:1; fill:none\" points=\"209.029,188.867 227.926,188.867 \"/>\n",
       "<path clip-path=\"url(#clip480)\" d=\"M50.9921 1258.61 L80.6679 1258.61 L80.6679 1262.54 L50.9921 1262.54 L50.9921 1258.61 Z\" fill=\"#000000\" fill-rule=\"nonzero\" fill-opacity=\"1\" /><path clip-path=\"url(#clip480)\" d=\"M91.5706 1271.5 L99.2095 1271.5 L99.2095 1245.14 L90.8993 1246.8 L90.8993 1242.54 L99.1632 1240.88 L103.839 1240.88 L103.839 1271.5 L111.478 1271.5 L111.478 1275.44 L91.5706 1275.44 L91.5706 1271.5 Z\" fill=\"#000000\" fill-rule=\"nonzero\" fill-opacity=\"1\" /><path clip-path=\"url(#clip480)\" d=\"M130.922 1243.96 Q127.311 1243.96 125.482 1247.52 Q123.677 1251.06 123.677 1258.19 Q123.677 1265.3 125.482 1268.86 Q127.311 1272.4 130.922 1272.4 Q134.556 1272.4 136.362 1268.86 Q138.191 1265.3 138.191 1258.19 Q138.191 1251.06 136.362 1247.52 Q134.556 1243.96 130.922 1243.96 M130.922 1240.25 Q136.732 1240.25 139.788 1244.86 Q142.867 1249.44 142.867 1258.19 Q142.867 1266.92 139.788 1271.52 Q136.732 1276.11 130.922 1276.11 Q125.112 1276.11 122.033 1271.52 Q118.978 1266.92 118.978 1258.19 Q118.978 1249.44 122.033 1244.86 Q125.112 1240.25 130.922 1240.25 Z\" fill=\"#000000\" fill-rule=\"nonzero\" fill-opacity=\"1\" /><path clip-path=\"url(#clip480)\" d=\"M161.084 1243.96 Q157.473 1243.96 155.644 1247.52 Q153.839 1251.06 153.839 1258.19 Q153.839 1265.3 155.644 1268.86 Q157.473 1272.4 161.084 1272.4 Q164.718 1272.4 166.524 1268.86 Q168.353 1265.3 168.353 1258.19 Q168.353 1251.06 166.524 1247.52 Q164.718 1243.96 161.084 1243.96 M161.084 1240.25 Q166.894 1240.25 169.95 1244.86 Q173.029 1249.44 173.029 1258.19 Q173.029 1266.92 169.95 1271.52 Q166.894 1276.11 161.084 1276.11 Q155.274 1276.11 152.195 1271.52 Q149.14 1266.92 149.14 1258.19 Q149.14 1249.44 152.195 1244.86 Q155.274 1240.25 161.084 1240.25 Z\" fill=\"#000000\" fill-rule=\"nonzero\" fill-opacity=\"1\" /><path clip-path=\"url(#clip480)\" d=\"M81.154 902.178 L110.83 902.178 L110.83 906.114 L81.154 906.114 L81.154 902.178 Z\" fill=\"#000000\" fill-rule=\"nonzero\" fill-opacity=\"1\" /><path clip-path=\"url(#clip480)\" d=\"M120.969 884.447 L139.325 884.447 L139.325 888.382 L125.251 888.382 L125.251 896.854 Q126.27 896.507 127.288 896.345 Q128.307 896.16 129.325 896.16 Q135.112 896.16 138.492 899.331 Q141.871 902.503 141.871 907.919 Q141.871 913.498 138.399 916.6 Q134.927 919.678 128.607 919.678 Q126.432 919.678 124.163 919.308 Q121.918 918.938 119.51 918.197 L119.51 913.498 Q121.594 914.632 123.816 915.188 Q126.038 915.743 128.515 915.743 Q132.519 915.743 134.857 913.637 Q137.195 911.53 137.195 907.919 Q137.195 904.308 134.857 902.202 Q132.519 900.095 128.515 900.095 Q126.64 900.095 124.765 900.512 Q122.913 900.928 120.969 901.808 L120.969 884.447 Z\" fill=\"#000000\" fill-rule=\"nonzero\" fill-opacity=\"1\" /><path clip-path=\"url(#clip480)\" d=\"M161.084 887.526 Q157.473 887.526 155.644 891.091 Q153.839 894.632 153.839 901.762 Q153.839 908.868 155.644 912.433 Q157.473 915.975 161.084 915.975 Q164.718 915.975 166.524 912.433 Q168.353 908.868 168.353 901.762 Q168.353 894.632 166.524 891.091 Q164.718 887.526 161.084 887.526 M161.084 883.822 Q166.894 883.822 169.95 888.429 Q173.029 893.012 173.029 901.762 Q173.029 910.489 169.95 915.095 Q166.894 919.678 161.084 919.678 Q155.274 919.678 152.195 915.095 Q149.14 910.489 149.14 901.762 Q149.14 893.012 152.195 888.429 Q155.274 883.822 161.084 883.822 Z\" fill=\"#000000\" fill-rule=\"nonzero\" fill-opacity=\"1\" /><path clip-path=\"url(#clip480)\" d=\"M161.084 531.096 Q157.473 531.096 155.644 534.661 Q153.839 538.202 153.839 545.332 Q153.839 552.438 155.644 556.003 Q157.473 559.545 161.084 559.545 Q164.718 559.545 166.524 556.003 Q168.353 552.438 168.353 545.332 Q168.353 538.202 166.524 534.661 Q164.718 531.096 161.084 531.096 M161.084 527.392 Q166.894 527.392 169.95 531.999 Q173.029 536.582 173.029 545.332 Q173.029 554.059 169.95 558.665 Q166.894 563.248 161.084 563.248 Q155.274 563.248 152.195 558.665 Q149.14 554.059 149.14 545.332 Q149.14 536.582 152.195 531.999 Q155.274 527.392 161.084 527.392 Z\" fill=\"#000000\" fill-rule=\"nonzero\" fill-opacity=\"1\" /><path clip-path=\"url(#clip480)\" d=\"M120.969 171.587 L139.325 171.587 L139.325 175.522 L125.251 175.522 L125.251 183.995 Q126.27 183.647 127.288 183.485 Q128.307 183.3 129.325 183.3 Q135.112 183.3 138.492 186.471 Q141.871 189.643 141.871 195.059 Q141.871 200.638 138.399 203.74 Q134.927 206.818 128.607 206.818 Q126.432 206.818 124.163 206.448 Q121.918 206.078 119.51 205.337 L119.51 200.638 Q121.594 201.772 123.816 202.328 Q126.038 202.883 128.515 202.883 Q132.519 202.883 134.857 200.777 Q137.195 198.67 137.195 195.059 Q137.195 191.448 134.857 189.342 Q132.519 187.235 128.515 187.235 Q126.64 187.235 124.765 187.652 Q122.913 188.069 120.969 188.948 L120.969 171.587 Z\" fill=\"#000000\" fill-rule=\"nonzero\" fill-opacity=\"1\" /><path clip-path=\"url(#clip480)\" d=\"M161.084 174.666 Q157.473 174.666 155.644 178.231 Q153.839 181.772 153.839 188.902 Q153.839 196.008 155.644 199.573 Q157.473 203.115 161.084 203.115 Q164.718 203.115 166.524 199.573 Q168.353 196.008 168.353 188.902 Q168.353 181.772 166.524 178.231 Q164.718 174.666 161.084 174.666 M161.084 170.962 Q166.894 170.962 169.95 175.569 Q173.029 180.152 173.029 188.902 Q173.029 197.629 169.95 202.235 Q166.894 206.818 161.084 206.818 Q155.274 206.818 152.195 202.235 Q149.14 197.629 149.14 188.902 Q149.14 180.152 152.195 175.569 Q155.274 170.962 161.084 170.962 Z\" fill=\"#000000\" fill-rule=\"nonzero\" fill-opacity=\"1\" /><polyline clip-path=\"url(#clip482)\" style=\"stroke:#ff0000; stroke-linecap:round; stroke-linejoin:round; stroke-width:4; stroke-opacity:1; fill:none\" points=\"269.7,1445.33 271.724,1442.45 273.749,1439.59 275.773,1436.75 277.798,1433.92 279.822,1431.12 281.846,1428.33 283.871,1425.56 285.895,1422.81 287.92,1420.07 289.944,1417.35 291.969,1414.65 293.993,1411.96 296.017,1409.29 298.042,1406.63 300.066,1403.99 302.091,1401.37 304.115,1398.76 306.139,1396.16 308.164,1393.58 310.188,1391.02 312.213,1388.47 314.237,1385.93 316.261,1383.4 318.286,1380.89 320.31,1378.4 322.335,1375.91 324.359,1373.44 326.383,1370.98 328.408,1368.54 330.432,1366.1 332.457,1363.68 334.481,1361.28 336.506,1358.88 338.53,1356.49 340.554,1354.12 342.579,1351.76 344.603,1349.41 346.628,1347.07 348.652,1344.74 350.676,1342.43 352.701,1340.12 354.725,1337.83 356.75,1335.54 358.774,1333.27 360.798,1331 362.823,1328.75 364.847,1326.51 366.872,1324.27 368.896,1322.05 370.92,1319.83 372.945,1317.63 374.969,1315.43 376.994,1313.25 379.018,1311.07 381.043,1308.9 383.067,1306.74 385.091,1304.59 387.116,1302.45 389.14,1300.32 391.165,1298.2 393.189,1296.08 395.213,1293.98 397.238,1291.88 399.262,1289.79 401.287,1287.71 403.311,1285.63 405.335,1283.57 407.36,1281.51 409.384,1279.46 411.409,1277.41 413.433,1275.38 415.457,1273.35 417.482,1271.33 419.506,1269.32 421.531,1267.31 423.555,1265.32 425.58,1263.32 427.604,1261.34 429.628,1259.36 431.653,1257.39 433.677,1255.43 435.702,1253.47 437.726,1251.52 439.75,1249.58 441.775,1247.65 443.799,1245.72 445.824,1243.79 447.848,1241.87 449.872,1239.96 451.897,1238.06 453.921,1236.16 455.946,1234.27 457.97,1232.38 459.994,1230.5 462.019,1228.63 464.043,1226.76 466.068,1224.9 468.092,1223.04 470.117,1221.19 472.141,1219.34 474.165,1217.51 476.19,1215.67 478.214,1213.84 480.239,1212.02 482.263,1210.2 484.287,1208.39 486.312,1206.58 488.336,1204.78 490.361,1202.98 492.385,1201.19 494.409,1199.41 496.434,1197.62 498.458,1195.85 500.483,1194.08 502.507,1192.31 504.531,1190.55 506.556,1188.79 508.58,1187.04 510.605,1185.29 512.629,1183.55 514.653,1181.81 516.678,1180.08 518.702,1178.35 520.727,1176.63 522.751,1174.91 524.776,1173.19 526.8,1171.48 528.824,1169.77 530.849,1168.07 532.873,1166.37 534.898,1164.68 536.922,1162.99 538.946,1161.31 540.971,1159.62 542.995,1157.95 545.02,1156.27 547.044,1154.61 549.068,1152.94 551.093,1151.28 553.117,1149.62 555.142,1147.97 557.166,1146.32 559.19,1144.68 561.215,1143.04 563.239,1141.4 565.264,1139.76 567.288,1138.13 569.313,1136.51 571.337,1134.88 573.361,1133.27 575.386,1131.65 577.41,1130.04 579.435,1128.43 581.459,1126.82 583.483,1125.22 585.508,1123.63 587.532,1122.03 589.557,1120.44 591.581,1118.85 593.605,1117.27 595.63,1115.69 597.654,1114.11 599.679,1112.53 601.703,1110.96 603.727,1109.39 605.752,1107.83 607.776,1106.27 609.801,1104.71 611.825,1103.15 613.85,1101.6 615.874,1100.05 617.898,1098.5 619.923,1096.96 621.947,1095.42 623.972,1093.88 625.996,1092.35 628.02,1090.81 630.045,1089.29 632.069,1087.76 634.094,1086.24 636.118,1084.72 638.142,1083.2 640.167,1081.68 642.191,1080.17 644.216,1078.66 646.24,1077.16 648.264,1075.65 650.289,1074.15 652.313,1072.65 654.338,1071.16 656.362,1069.66 658.387,1068.17 660.411,1066.68 662.435,1065.2 664.46,1063.72 666.484,1062.23 668.509,1060.76 670.533,1059.28 672.557,1057.81 674.582,1056.34 676.606,1054.87 678.631,1053.4 680.655,1051.94 682.679,1050.48 684.704,1049.02 686.728,1047.56 688.753,1046.11 690.777,1044.66 692.801,1043.21 694.826,1041.76 696.85,1040.31 698.875,1038.87 700.899,1037.43 702.924,1035.99 704.948,1034.55 706.972,1033.12 708.997,1031.69 711.021,1030.26 713.046,1028.83 715.07,1027.4 717.094,1025.98 719.119,1024.56 721.143,1023.14 723.168,1021.72 725.192,1020.3 727.216,1018.89 729.241,1017.48 731.265,1016.07 733.29,1014.66 735.314,1013.25 737.338,1011.85 739.363,1010.45 741.387,1009.05 743.412,1007.65 745.436,1006.25 747.461,1004.86 749.485,1003.46 751.509,1002.07 753.534,1000.68 755.558,999.296 757.583,997.911 759.607,996.527 761.631,995.145 763.656,993.764 765.68,992.385 767.705,991.008 769.729,989.633 771.753,988.259 773.778,986.887 775.802,985.517 777.827,984.148 779.851,982.781 781.875,981.416 783.9,980.052 785.924,978.69 787.949,977.329 789.973,975.97 791.997,974.612 794.022,973.256 796.046,971.902 798.071,970.549 800.095,969.197 802.12,967.847 804.144,966.499 806.168,965.152 808.193,963.807 810.217,962.462 812.242,961.12 814.266,959.779 816.29,958.439 818.315,957.101 820.339,955.764 822.364,954.428 824.388,953.094 826.412,951.761 828.437,950.43 830.461,949.099 832.486,947.771 834.51,946.443 836.534,945.117 838.559,943.792 840.583,942.469 842.608,941.146 844.632,939.825 846.657,938.505 848.681,937.187 850.705,935.87 852.73,934.554 854.754,933.239 856.779,931.925 858.803,930.613 860.827,929.302 862.852,927.991 864.876,926.683 866.901,925.375 868.925,924.068 870.949,922.763 872.974,921.459 874.998,920.156 877.023,918.854 879.047,917.553 881.071,916.253 883.096,914.954 885.12,913.656 887.145,912.36 889.169,911.064 891.194,909.77 893.218,908.476 895.242,907.184 897.267,905.893 899.291,904.602 901.316,903.313 903.34,902.025 905.364,900.737 907.389,899.451 909.413,898.165 911.438,896.881 913.462,895.597 915.486,894.315 917.511,893.033 919.535,891.753 921.56,890.473 923.584,889.194 925.608,887.916 927.633,886.639 929.657,885.363 931.682,884.088 933.706,882.814 935.731,881.54 937.755,880.268 939.779,878.996 941.804,877.725 943.828,876.455 945.853,875.185 947.877,873.917 949.901,872.649 951.926,871.383 953.95,870.117 955.975,868.851 957.999,867.587 960.023,866.323 962.048,865.06 964.072,863.798 966.097,862.537 968.121,861.276 970.145,860.016 972.17,858.757 974.194,857.499 976.219,856.241 978.243,854.984 980.268,853.728 982.292,852.472 984.316,851.217 986.341,849.963 988.365,848.709 990.39,847.456 992.414,846.204 994.438,844.953 996.463,843.702 998.487,842.451 1000.51,841.202 1002.54,839.953 1004.56,838.704 1006.58,837.457 1008.61,836.209 1010.63,834.963 1012.66,833.717 1014.68,832.471 1016.71,831.226 1018.73,829.982 1020.76,828.739 1022.78,827.495 1024.8,826.253 1026.83,825.011 1028.85,823.769 1030.88,822.528 1032.9,821.288 1034.93,820.048 1036.95,818.809 1038.98,817.57 1041,816.331 1043.02,815.093 1045.05,813.856 1047.07,812.619 1049.1,811.383 1051.12,810.147 1053.15,808.911 1055.17,807.676 1057.2,806.442 1059.22,805.207 1061.24,803.974 1063.27,802.74 1065.29,801.508 1067.32,800.275 1069.34,799.043 1071.37,797.812 1073.39,796.58 1075.41,795.35 1077.44,794.119 1079.46,792.889 1081.49,791.66 1083.51,790.43 1085.54,789.201 1087.56,787.973 1089.59,786.745 1091.61,785.517 1093.63,784.289 1095.66,783.062 1097.68,781.836 1099.71,780.609 1101.73,779.383 1103.76,778.157 1105.78,776.932 1107.81,775.706 1109.83,774.481 1111.85,773.257 1113.88,772.033 1115.9,770.808 1117.93,769.585 1119.95,768.361 1121.98,767.138 1124,765.915 1126.02,764.692 1128.05,763.47 1130.07,762.248 1132.1,761.026 1134.12,759.804 1136.15,758.582 1138.17,757.361 1140.2,756.14 1142.22,754.919 1144.24,753.699 1146.27,752.478 1148.29,751.258 1150.32,750.038 1152.34,748.818 1154.37,747.598 1156.39,746.379 1158.42,745.159 1160.44,743.94 1162.46,742.721 1164.49,741.502 1166.51,740.283 1168.54,739.065 1170.56,737.846 1172.59,736.628 1174.61,735.41 1176.64,734.192 1178.66,732.974 1180.68,731.756 1182.71,730.538 1184.73,729.321 1186.76,728.103 1188.78,726.886 1190.81,725.668 1192.83,724.451 1194.85,723.234 1196.88,722.017 1198.9,720.8 1200.93,719.583 1202.95,718.366 1204.98,717.149 1207,715.932 1209.03,714.715 1211.05,713.498 1213.07,712.282 1215.1,711.065 1217.12,709.848 1219.15,708.631 1221.17,707.415 1223.2,706.198 1225.22,704.981 1227.25,703.765 1229.27,702.548 1231.29,701.331 1233.32,700.115 1235.34,698.898 1237.37,697.681 1239.39,696.464 1241.42,695.248 1243.44,694.031 1245.47,692.814 1247.49,691.597 1249.51,690.38 1251.54,689.163 1253.56,687.946 1255.59,686.728 1257.61,685.511 1259.64,684.294 1261.66,683.076 1263.68,681.859 1265.71,680.641 1267.73,679.423 1269.76,678.205 1271.78,676.987 1273.81,675.769 1275.83,674.551 1277.86,673.333 1279.88,672.114 1281.9,670.895 1283.93,669.677 1285.95,668.458 1287.98,667.239 1290,666.02 1292.03,664.8 1294.05,663.581 1296.08,662.361 1298.1,661.141 1300.12,659.921 1302.15,658.701 1304.17,657.481 1306.2,656.26 1308.22,655.039 1310.25,653.818 1312.27,652.597 1314.29,651.376 1316.32,650.154 1318.34,648.932 1320.37,647.71 1322.39,646.488 1324.42,645.265 1326.44,644.043 1328.47,642.82 1330.49,641.596 1332.51,640.373 1334.54,639.149 1336.56,637.925 1338.59,636.701 1340.61,635.476 1342.64,634.251 1344.66,633.026 1346.69,631.801 1348.71,630.575 1350.73,629.349 1352.76,628.123 1354.78,626.897 1356.81,625.67 1358.83,624.443 1360.86,623.215 1362.88,621.987 1364.91,620.759 1366.93,619.531 1368.95,618.302 1370.98,617.073 1373,615.843 1375.03,614.613 1377.05,613.383 1379.08,612.153 1381.1,610.922 1383.12,609.691 1385.15,608.459 1387.17,607.227 1389.2,605.995 1391.22,604.762 1393.25,603.529 1395.27,602.295 1397.3,601.061 1399.32,599.827 1401.34,598.592 1403.37,597.357 1405.39,596.121 1407.42,594.885 1409.44,593.649 1411.47,592.412 1413.49,591.175 1415.52,589.937 1417.54,588.699 1419.56,587.46 1421.59,586.221 1423.61,584.982 1425.64,583.742 1427.66,582.501 1429.69,581.26 1431.71,580.019 1433.74,578.777 1435.76,577.535 1437.78,576.292 1439.81,575.049 1441.83,573.805 1443.86,572.561 1445.88,571.316 1447.91,570.07 1449.93,568.825 1451.95,567.578 1453.98,566.331 1456,565.084 1458.03,563.836 1460.05,562.587 1462.08,561.338 1464.1,560.089 1466.13,558.839 1468.15,557.588 1470.17,556.337 1472.2,555.085 1474.22,553.833 1476.25,552.58 1478.27,551.326 1480.3,550.072 1482.32,548.817 1484.35,547.562 1486.37,546.306 1488.39,545.05 1490.42,543.793 1492.44,542.535 1494.47,541.277 1496.49,540.018 1498.52,538.758 1500.54,537.498 1502.56,536.238 1504.59,534.976 1506.61,533.714 1508.64,532.451 1510.66,531.188 1512.69,529.924 1514.71,528.66 1516.74,527.394 1518.76,526.128 1520.78,524.862 1522.81,523.594 1524.83,522.326 1526.86,521.058 1528.88,519.788 1530.91,518.518 1532.93,517.248 1534.96,515.976 1536.98,514.704 1539,513.431 1541.03,512.158 1543.05,510.883 1545.08,509.608 1547.1,508.333 1549.13,507.056 1551.15,505.779 1553.18,504.501 1555.2,503.222 1557.22,501.943 1559.25,500.663 1561.27,499.382 1563.3,498.1 1565.32,496.818 1567.35,495.535 1569.37,494.251 1571.39,492.966 1573.42,491.68 1575.44,490.394 1577.47,489.107 1579.49,487.819 1581.52,486.53 1583.54,485.241 1585.57,483.951 1587.59,482.659 1589.61,481.368 1591.64,480.075 1593.66,478.781 1595.69,477.487 1597.71,476.192 1599.74,474.895 1601.76,473.599 1603.79,472.301 1605.81,471.002 1607.83,469.703 1609.86,468.402 1611.88,467.101 1613.91,465.799 1615.93,464.496 1617.96,463.193 1619.98,461.888 1622.01,460.582 1624.03,459.276 1626.05,457.969 1628.08,456.661 1630.1,455.352 1632.13,454.042 1634.15,452.731 1636.18,451.419 1638.2,450.106 1640.22,448.793 1642.25,447.478 1644.27,446.163 1646.3,444.846 1648.32,443.529 1650.35,442.211 1652.37,440.891 1654.4,439.571 1656.42,438.25 1658.44,436.928 1660.47,435.605 1662.49,434.281 1664.52,432.956 1666.54,431.631 1668.57,430.304 1670.59,428.976 1672.62,427.647 1674.64,426.318 1676.66,424.987 1678.69,423.655 1680.71,422.322 1682.74,420.989 1684.76,419.654 1686.79,418.318 1688.81,416.982 1690.83,415.644 1692.86,414.305 1694.88,412.966 1696.91,411.625 1698.93,410.283 1700.96,408.94 1702.98,407.597 1705.01,406.252 1707.03,404.906 1709.05,403.559 1711.08,402.211 1713.1,400.862 1715.13,399.513 1717.15,398.162 1719.18,396.809 1721.2,395.456 1723.23,394.102 1725.25,392.747 1727.27,391.391 1729.3,390.033 1731.32,388.675 1733.35,387.316 1735.37,385.955 1737.4,384.594 1739.42,383.231 1741.45,381.867 1743.47,380.503 1745.49,379.137 1747.52,377.77 1749.54,376.402 1751.57,375.033 1753.59,373.663 1755.62,372.291 1757.64,370.919 1759.66,369.546 1761.69,368.171 1763.71,366.795 1765.74,365.419 1767.76,364.041 1769.79,362.662 1771.81,361.282 1773.84,359.901 1775.86,358.519 1777.88,357.136 1779.91,355.751 1781.93,354.366 1783.96,352.979 1785.98,351.592 1788.01,350.203 1790.03,348.813 1792.06,347.422 1794.08,346.03 1796.1,344.637 1798.13,343.243 1800.15,341.848 1802.18,340.451 1804.2,339.054 1806.23,337.655 1808.25,336.255 1810.28,334.855 1812.3,333.453 1814.32,332.05 1816.35,330.646 1818.37,329.241 1820.4,327.834 1822.42,326.427 1824.45,325.019 1826.47,323.609 1828.49,322.199 1830.52,320.787 1832.54,319.375 1834.57,317.961 1836.59,316.546 1838.62,315.13 1840.64,313.713 1842.67,312.295 1844.69,310.876 1846.71,309.456 1848.74,308.035 1850.76,306.613 1852.79,305.19 1854.81,303.766 1856.84,302.341 1858.86,300.914 1860.89,299.487 1862.91,298.059 1864.93,296.63 1866.96,295.2 1868.98,293.769 1871.01,292.336 1873.03,290.903 1875.06,289.469 1877.08,288.034 1879.1,286.598 1881.13,285.162 1883.15,283.724 1885.18,282.285 1887.2,280.846 1889.23,279.405 1891.25,277.964 1893.28,276.522 1895.3,275.079 1897.32,273.635 1899.35,272.19 1901.37,270.744 1903.4,269.298 1905.42,267.851 1907.45,266.403 1909.47,264.954 1911.5,263.505 1913.52,262.055 1915.54,260.604 1917.57,259.152 1919.59,257.7 1921.62,256.247 1923.64,254.794 1925.67,253.339 1927.69,251.885 1929.72,250.429 1931.74,248.973 1933.76,247.517 1935.79,246.06 1937.81,244.602 1939.84,243.144 1941.86,241.686 1943.89,240.227 1945.91,238.768 1947.93,237.308 1949.96,235.848 1951.98,234.388 1954.01,232.928 1956.03,231.467 1958.06,230.006 1960.08,228.544 1962.11,227.083 1964.13,225.621 1966.15,224.16 1968.18,222.698 1970.2,221.237 1972.23,219.775 1974.25,218.313 1976.28,216.852 1978.3,215.39 1980.33,213.929 1982.35,212.468 1984.37,211.008 1986.4,209.547 1988.42,208.087 1990.45,206.628 1992.47,205.169 1994.5,203.71 1996.52,202.252 1998.55,200.795 2000.57,199.338 2002.59,197.882 2004.62,196.427 2006.64,194.973 2008.67,193.52 2010.69,192.068 2012.72,190.617 2014.74,189.167 2016.76,187.718 2018.79,186.271 2020.81,184.825 2022.84,183.38 2024.86,181.937 2026.89,180.496 2028.91,179.057 2030.94,177.619 2032.96,176.183 2034.98,174.749 2037.01,173.317 2039.03,171.888 2041.06,170.461 2043.08,169.036 2045.11,167.614 2047.13,166.195 2049.16,164.778 2051.18,163.364 2053.2,161.954 2055.23,160.546 2057.25,159.142 2059.28,157.742 2061.3,156.345 2063.33,154.952 2065.35,153.562 2067.38,152.177 2069.4,150.796 2071.42,149.42 2073.45,148.048 2075.47,146.681 2077.5,145.319 2079.52,143.963 2081.55,142.612 2083.57,141.266 2085.59,139.926 2087.62,138.593 2089.64,137.265 2091.67,135.945 2093.69,134.631 2095.72,133.324 2097.74,132.025 2099.77,130.733 2101.79,129.45 2103.81,128.175 2105.84,126.908 2107.86,125.65 2109.89,124.402 2111.91,123.163 2113.94,121.934 2115.96,120.716 2117.99,119.509 2120.01,118.313 2122.03,117.128 2124.06,115.956 2126.08,114.796 2128.11,113.65 2130.13,112.517 2132.16,111.398 2134.18,110.294 2136.2,109.205 2138.23,108.133 2140.25,107.077 2142.28,106.038 2144.3,105.017 2146.33,104.014 2148.35,103.032 2150.38,102.069 2152.4,101.127 2154.42,100.208 2156.45,99.3108 2158.47,98.4378 2160.5,97.5896 2162.52,96.7673 2164.55,95.972 2166.57,95.2048 2168.6,94.4671 2170.62,93.76 2172.64,93.0849 2174.67,92.4433 2176.69,91.8367 2178.72,91.2667 2180.74,90.735 2182.77,90.2434 2184.79,89.7937 2186.82,89.3881 2188.84,89.0285 2190.86,88.7173 2192.89,88.4568 2194.91,88.2497 2196.94,88.0986 2198.96,88.0064 2200.99,87.9763 2203.01,88.0115 2205.03,88.1155 2207.06,88.2922 2209.08,88.5456 2211.11,88.8801 2213.13,89.3005 2215.16,89.8117 2217.18,90.4192 2219.21,91.1291 2221.23,91.9477 2223.25,92.882 2225.28,93.9397 2227.3,95.129 2229.33,96.4591 2231.35,97.94 2233.38,99.5825 2235.4,101.399 2237.43,103.402 2239.45,105.608 2241.47,108.033 2243.5,110.694 2245.52,113.614 2247.55,116.816 2249.57,120.326 2251.6,124.175 2253.62,128.399 2255.65,133.036 2257.67,138.136 2259.69,143.751 2261.72,149.949 2263.74,156.807 2265.77,164.418 2267.79,172.898 2269.82,182.391 2271.84,193.075 2273.86,205.184 2275.89,219.023 2277.91,235.005 2279.94,253.711 2281.96,275.993 2283.99,303.167 2286.01,337.445 2288.04,382.966 2290.06,449.03 2292.08,565.311 \"/>\n",
       "<polyline clip-path=\"url(#clip482)\" style=\"stroke:#0000ff; stroke-linecap:round; stroke-linejoin:round; stroke-width:4; stroke-opacity:1; fill:none\" points=\"269.7,1445.72 271.724,1442.84 273.749,1439.98 275.773,1437.13 277.798,1434.31 279.822,1431.5 281.846,1428.72 283.871,1425.94 285.895,1423.19 287.92,1420.46 289.944,1417.74 291.969,1415.03 293.993,1412.35 296.017,1409.67 298.042,1407.02 300.066,1404.38 302.091,1401.75 304.115,1399.14 306.139,1396.55 308.164,1393.97 310.188,1391.4 312.213,1388.85 314.237,1386.31 316.261,1383.79 318.286,1381.28 320.31,1378.78 322.335,1376.3 324.359,1373.83 326.383,1371.37 328.408,1368.92 330.432,1366.49 332.457,1364.07 334.481,1361.66 336.506,1359.27 338.53,1356.88 340.554,1354.51 342.579,1352.15 344.603,1349.8 346.628,1347.46 348.652,1345.13 350.676,1342.82 352.701,1340.51 354.725,1338.21 356.75,1335.93 358.774,1333.66 360.798,1331.39 362.823,1329.14 364.847,1326.89 366.872,1324.66 368.896,1322.44 370.92,1320.22 372.945,1318.02 374.969,1315.82 376.994,1313.64 379.018,1311.46 381.043,1309.29 383.067,1307.14 385.091,1304.99 387.116,1302.84 389.14,1300.71 391.165,1298.59 393.189,1296.47 395.213,1294.37 397.238,1292.27 399.262,1290.18 401.287,1288.1 403.311,1286.02 405.335,1283.96 407.36,1281.9 409.384,1279.85 411.409,1277.81 413.433,1275.77 415.457,1273.75 417.482,1271.73 419.506,1269.71 421.531,1267.71 423.555,1265.71 425.58,1263.72 427.604,1261.74 429.628,1259.76 431.653,1257.79 433.677,1255.83 435.702,1253.87 437.726,1251.92 439.75,1249.98 441.775,1248.04 443.799,1246.11 445.824,1244.19 447.848,1242.27 449.872,1240.36 451.897,1238.46 453.921,1236.56 455.946,1234.67 457.97,1232.78 459.994,1230.9 462.019,1229.03 464.043,1227.16 466.068,1225.3 468.092,1223.44 470.117,1221.59 472.141,1219.75 474.165,1217.91 476.19,1216.07 478.214,1214.25 480.239,1212.42 482.263,1210.61 484.287,1208.79 486.312,1206.99 488.336,1205.19 490.361,1203.39 492.385,1201.6 494.409,1199.81 496.434,1198.03 498.458,1196.25 500.483,1194.48 502.507,1192.72 504.531,1190.96 506.556,1189.2 508.58,1187.45 510.605,1185.7 512.629,1183.96 514.653,1182.22 516.678,1180.49 518.702,1178.76 520.727,1177.04 522.751,1175.32 524.776,1173.6 526.8,1171.89 528.824,1170.19 530.849,1168.48 532.873,1166.79 534.898,1165.09 536.922,1163.4 538.946,1161.72 540.971,1160.04 542.995,1158.36 545.02,1156.69 547.044,1155.02 549.068,1153.36 551.093,1151.7 553.117,1150.04 555.142,1148.39 557.166,1146.74 559.19,1145.1 561.215,1143.45 563.239,1141.82 565.264,1140.18 567.288,1138.55 569.313,1136.93 571.337,1135.31 573.361,1133.69 575.386,1132.07 577.41,1130.46 579.435,1128.85 581.459,1127.25 583.483,1125.65 585.508,1124.05 587.532,1122.45 589.557,1120.86 591.581,1119.28 593.605,1117.69 595.63,1116.11 597.654,1114.53 599.679,1112.96 601.703,1111.39 603.727,1109.82 605.752,1108.26 607.776,1106.69 609.801,1105.14 611.825,1103.58 613.85,1102.03 615.874,1100.48 617.898,1098.93 619.923,1097.39 621.947,1095.85 623.972,1094.31 625.996,1092.78 628.02,1091.25 630.045,1089.72 632.069,1088.19 634.094,1086.67 636.118,1085.15 638.142,1083.63 640.167,1082.12 642.191,1080.61 644.216,1079.1 646.24,1077.59 648.264,1076.09 650.289,1074.59 652.313,1073.09 654.338,1071.6 656.362,1070.1 658.387,1068.61 660.411,1067.12 662.435,1065.64 664.46,1064.16 666.484,1062.68 668.509,1061.2 670.533,1059.72 672.557,1058.25 674.582,1056.78 676.606,1055.31 678.631,1053.85 680.655,1052.38 682.679,1050.92 684.704,1049.46 686.728,1048.01 688.753,1046.55 690.777,1045.1 692.801,1043.65 694.826,1042.21 696.85,1040.76 698.875,1039.32 700.899,1037.88 702.924,1036.44 704.948,1035 706.972,1033.57 708.997,1032.14 711.021,1030.71 713.046,1029.28 715.07,1027.86 717.094,1026.43 719.119,1025.01 721.143,1023.59 723.168,1022.18 725.192,1020.76 727.216,1019.35 729.241,1017.94 731.265,1016.53 733.29,1015.12 735.314,1013.71 737.338,1012.31 739.363,1010.91 741.387,1009.51 743.412,1008.11 745.436,1006.71 747.461,1005.32 749.485,1003.93 751.509,1002.54 753.534,1001.15 755.558,999.762 757.583,998.377 759.607,996.994 761.631,995.612 763.656,994.232 765.68,992.854 767.705,991.478 769.729,990.103 771.753,988.73 773.778,987.358 775.802,985.989 777.827,984.62 779.851,983.254 781.875,981.889 783.9,980.526 785.924,979.164 787.949,977.804 789.973,976.446 791.997,975.089 794.022,973.733 796.046,972.38 798.071,971.027 800.095,969.676 802.12,968.327 804.144,966.979 806.168,965.633 808.193,964.288 810.217,962.945 812.242,961.603 814.266,960.262 816.29,958.923 818.315,957.585 820.339,956.249 822.364,954.914 824.388,953.58 826.412,952.248 828.437,950.917 830.461,949.588 832.486,948.26 834.51,946.933 836.534,945.608 838.559,944.283 840.583,942.96 842.608,941.639 844.632,940.318 846.657,938.999 848.681,937.681 850.705,936.365 852.73,935.049 854.754,933.735 856.779,932.422 858.803,931.111 860.827,929.8 862.852,928.491 864.876,927.183 866.901,925.876 868.925,924.57 870.949,923.265 872.974,921.961 874.998,920.659 877.023,919.358 879.047,918.057 881.071,916.758 883.096,915.46 885.12,914.163 887.145,912.867 889.169,911.573 891.194,910.279 893.218,908.986 895.242,907.695 897.267,906.404 899.291,905.114 901.316,903.826 903.34,902.538 905.364,901.251 907.389,899.966 909.413,898.681 911.438,897.397 913.462,896.115 915.486,894.833 917.511,893.552 919.535,892.272 921.56,890.993 923.584,889.715 925.608,888.438 927.633,887.162 929.657,885.886 931.682,884.612 933.706,883.338 935.731,882.066 937.755,880.794 939.779,879.523 941.804,878.253 943.828,876.983 945.853,875.715 947.877,874.447 949.901,873.18 951.926,871.914 953.95,870.649 955.975,869.385 957.999,868.121 960.023,866.858 962.048,865.596 964.072,864.335 966.097,863.074 968.121,861.814 970.145,860.555 972.17,859.297 974.194,858.039 976.219,856.782 978.243,855.526 980.268,854.271 982.292,853.016 984.316,851.762 986.341,850.508 988.365,849.256 990.39,848.004 992.414,846.752 994.438,845.501 996.463,844.251 998.487,843.002 1000.51,841.753 1002.54,840.505 1004.56,839.257 1006.58,838.01 1008.61,836.764 1010.63,835.518 1012.66,834.273 1014.68,833.029 1016.71,831.785 1018.73,830.541 1020.76,829.298 1022.78,828.056 1024.8,826.814 1026.83,825.573 1028.85,824.333 1030.88,823.093 1032.9,821.853 1034.93,820.614 1036.95,819.376 1038.98,818.138 1041,816.9 1043.02,815.663 1045.05,814.427 1047.07,813.191 1049.1,811.955 1051.12,810.72 1053.15,809.485 1055.17,808.251 1057.2,807.018 1059.22,805.784 1061.24,804.552 1063.27,803.319 1065.29,802.087 1067.32,800.856 1069.34,799.625 1071.37,798.394 1073.39,797.164 1075.41,795.934 1077.44,794.705 1079.46,793.475 1081.49,792.247 1083.51,791.018 1085.54,789.791 1087.56,788.563 1089.59,787.336 1091.61,786.109 1093.63,784.882 1095.66,783.656 1097.68,782.43 1099.71,781.205 1101.73,779.98 1103.76,778.755 1105.78,777.53 1107.81,776.306 1109.83,775.082 1111.85,773.859 1113.88,772.635 1115.9,771.412 1117.93,770.19 1119.95,768.967 1121.98,767.745 1124,766.523 1126.02,765.301 1128.05,764.08 1130.07,762.859 1132.1,761.638 1134.12,760.417 1136.15,759.196 1138.17,757.976 1140.2,756.756 1142.22,755.536 1144.24,754.317 1146.27,753.097 1148.29,751.878 1150.32,750.659 1152.34,749.44 1154.37,748.222 1156.39,747.003 1158.42,745.785 1160.44,744.567 1162.46,743.349 1164.49,742.131 1166.51,740.913 1168.54,739.696 1170.56,738.478 1172.59,737.261 1174.61,736.044 1176.64,734.827 1178.66,733.61 1180.68,732.394 1182.71,731.177 1184.73,729.96 1186.76,728.744 1188.78,727.528 1190.81,726.311 1192.83,725.095 1194.85,723.879 1196.88,722.663 1198.9,721.447 1200.93,720.231 1202.95,719.016 1204.98,717.8 1207,716.584 1209.03,715.368 1211.05,714.153 1213.07,712.937 1215.1,711.722 1217.12,710.506 1219.15,709.291 1221.17,708.075 1223.2,706.86 1225.22,705.644 1227.25,704.429 1229.27,703.213 1231.29,701.998 1233.32,700.782 1235.34,699.567 1237.37,698.351 1239.39,697.136 1241.42,695.92 1243.44,694.704 1245.47,693.489 1247.49,692.273 1249.51,691.057 1251.54,689.841 1253.56,688.625 1255.59,687.409 1257.61,686.193 1259.64,684.977 1261.66,683.761 1263.68,682.544 1265.71,681.328 1267.73,680.112 1269.76,678.895 1271.78,677.678 1273.81,676.461 1275.83,675.244 1277.86,674.027 1279.88,672.81 1281.9,671.593 1283.93,670.375 1285.95,669.158 1287.98,667.94 1290,666.722 1292.03,665.504 1294.05,664.286 1296.08,663.068 1298.1,661.849 1300.12,660.63 1302.15,659.412 1304.17,658.193 1306.2,656.973 1308.22,655.754 1310.25,654.534 1312.27,653.314 1314.29,652.094 1316.32,650.874 1318.34,649.654 1320.37,648.433 1322.39,647.212 1324.42,645.991 1326.44,644.77 1328.47,643.548 1330.49,642.326 1332.51,641.104 1334.54,639.882 1336.56,638.659 1338.59,637.436 1340.61,636.213 1342.64,634.99 1344.66,633.766 1346.69,632.542 1348.71,631.318 1350.73,630.093 1352.76,628.869 1354.78,627.644 1356.81,626.418 1358.83,625.192 1360.86,623.966 1362.88,622.74 1364.91,621.513 1366.93,620.286 1368.95,619.059 1370.98,617.831 1373,616.604 1375.03,615.375 1377.05,614.147 1379.08,612.918 1381.1,611.688 1383.12,610.458 1385.15,609.228 1387.17,607.998 1389.2,606.767 1391.22,605.536 1393.25,604.304 1395.27,603.072 1397.3,601.84 1399.32,600.607 1401.34,599.374 1403.37,598.14 1405.39,596.906 1407.42,595.672 1409.44,594.437 1411.47,593.202 1413.49,591.966 1415.52,590.73 1417.54,589.494 1419.56,588.257 1421.59,587.019 1423.61,585.781 1425.64,584.543 1427.66,583.304 1429.69,582.065 1431.71,580.825 1433.74,579.585 1435.76,578.344 1437.78,577.103 1439.81,575.861 1441.83,574.619 1443.86,573.377 1445.88,572.134 1447.91,570.89 1449.93,569.646 1451.95,568.401 1453.98,567.156 1456,565.91 1458.03,564.664 1460.05,563.417 1462.08,562.17 1464.1,560.922 1466.13,559.674 1468.15,558.425 1470.17,557.176 1472.2,555.926 1474.22,554.675 1476.25,553.424 1478.27,552.172 1480.3,550.92 1482.32,549.667 1484.35,548.414 1486.37,547.16 1488.39,545.905 1490.42,544.65 1492.44,543.394 1494.47,542.137 1496.49,540.88 1498.52,539.623 1500.54,538.364 1502.56,537.106 1504.59,535.846 1506.61,534.586 1508.64,533.325 1510.66,532.064 1512.69,530.802 1514.71,529.539 1516.74,528.276 1518.76,527.012 1520.78,525.747 1522.81,524.482 1524.83,523.216 1526.86,521.949 1528.88,520.681 1530.91,519.413 1532.93,518.145 1534.96,516.875 1536.98,515.605 1539,514.334 1541.03,513.063 1543.05,511.791 1545.08,510.518 1547.1,509.244 1549.13,507.969 1551.15,506.694 1553.18,505.419 1555.2,504.142 1557.22,502.865 1559.25,501.587 1561.27,500.308 1563.3,499.028 1565.32,497.748 1567.35,496.467 1569.37,495.185 1571.39,493.902 1573.42,492.619 1575.44,491.335 1577.47,490.05 1579.49,488.764 1581.52,487.478 1583.54,486.19 1585.57,484.902 1587.59,483.613 1589.61,482.323 1591.64,481.033 1593.66,479.742 1595.69,478.449 1597.71,477.156 1599.74,475.863 1601.76,474.568 1603.79,473.273 1605.81,471.976 1607.83,470.679 1609.86,469.381 1611.88,468.082 1613.91,466.783 1615.93,465.482 1617.96,464.181 1619.98,462.878 1622.01,461.575 1624.03,460.271 1626.05,458.966 1628.08,457.66 1630.1,456.354 1632.13,455.046 1634.15,453.738 1636.18,452.428 1638.2,451.118 1640.22,449.807 1642.25,448.495 1644.27,447.182 1646.3,445.868 1648.32,444.553 1650.35,443.237 1652.37,441.921 1654.4,440.603 1656.42,439.285 1658.44,437.965 1660.47,436.645 1662.49,435.323 1664.52,434.001 1666.54,432.678 1668.57,431.354 1670.59,430.028 1672.62,428.702 1674.64,427.375 1676.66,426.047 1678.69,424.718 1680.71,423.388 1682.74,422.057 1684.76,420.725 1686.79,419.392 1688.81,418.058 1690.83,416.723 1692.86,415.387 1694.88,414.05 1696.91,412.712 1698.93,411.373 1700.96,410.033 1702.98,408.692 1705.01,407.35 1707.03,406.007 1709.05,404.663 1711.08,403.318 1713.1,401.972 1715.13,400.625 1717.15,399.277 1719.18,397.928 1721.2,396.578 1723.23,395.227 1725.25,393.874 1727.27,392.521 1729.3,391.167 1731.32,389.811 1733.35,388.455 1735.37,387.097 1737.4,385.739 1739.42,384.379 1741.45,383.019 1743.47,381.657 1745.49,380.294 1747.52,378.93 1749.54,377.565 1751.57,376.199 1753.59,374.832 1755.62,373.464 1757.64,372.095 1759.66,370.725 1761.69,369.353 1763.71,367.981 1765.74,366.608 1767.76,365.233 1769.79,363.857 1771.81,362.481 1773.84,361.103 1775.86,359.724 1777.88,358.344 1779.91,356.963 1781.93,355.581 1783.96,354.198 1785.98,352.814 1788.01,351.428 1790.03,350.042 1792.06,348.654 1794.08,347.266 1796.1,345.876 1798.13,344.485 1800.15,343.094 1802.18,341.701 1804.2,340.307 1806.23,338.912 1808.25,337.515 1810.28,336.118 1812.3,334.72 1814.32,333.321 1816.35,331.92 1818.37,330.519 1820.4,329.116 1822.42,327.713 1824.45,326.308 1826.47,324.902 1828.49,323.495 1830.52,322.088 1832.54,320.679 1834.57,319.269 1836.59,317.858 1838.62,316.446 1840.64,315.033 1842.67,313.619 1844.69,312.203 1846.71,310.787 1848.74,309.37 1850.76,307.952 1852.79,306.533 1854.81,305.113 1856.84,303.692 1858.86,302.269 1860.89,300.846 1862.91,299.422 1864.93,297.997 1866.96,296.571 1868.98,295.144 1871.01,293.716 1873.03,292.287 1875.06,290.857 1877.08,289.427 1879.1,287.995 1881.13,286.562 1883.15,285.129 1885.18,283.695 1887.2,282.259 1889.23,280.823 1891.25,279.386 1893.28,277.949 1895.3,276.51 1897.32,275.071 1899.35,273.63 1901.37,272.189 1903.4,270.748 1905.42,269.305 1907.45,267.862 1909.47,266.418 1911.5,264.973 1913.52,263.527 1915.54,262.081 1917.57,260.634 1919.59,259.187 1921.62,257.739 1923.64,256.29 1925.67,254.841 1927.69,253.391 1929.72,251.94 1931.74,250.489 1933.76,249.038 1935.79,247.586 1937.81,246.133 1939.84,244.68 1941.86,243.227 1943.89,241.773 1945.91,240.319 1947.93,238.864 1949.96,237.41 1951.98,235.954 1954.01,234.499 1956.03,233.044 1958.06,231.588 1960.08,230.132 1962.11,228.676 1964.13,227.22 1966.15,225.764 1968.18,224.307 1970.2,222.851 1972.23,221.395 1974.25,219.939 1976.28,218.483 1978.3,217.027 1980.33,215.572 1982.35,214.117 1984.37,212.662 1986.4,211.207 1988.42,209.753 1990.45,208.299 1992.47,206.846 1994.5,205.393 1996.52,203.941 1998.55,202.49 2000.57,201.04 2002.59,199.59 2004.62,198.141 2006.64,196.693 2008.67,195.246 2010.69,193.8 2012.72,192.355 2014.74,190.911 2016.76,189.469 2018.79,188.028 2020.81,186.589 2022.84,185.151 2024.86,183.714 2026.89,182.279 2028.91,180.846 2030.94,179.415 2032.96,177.986 2034.98,176.559 2037.01,175.134 2039.03,173.712 2041.06,172.291 2043.08,170.874 2045.11,169.459 2047.13,168.046 2049.16,166.637 2051.18,165.23 2053.2,163.827 2055.23,162.426 2057.25,161.029 2059.28,159.636 2061.3,158.247 2063.33,156.861 2065.35,155.479 2067.38,154.101 2069.4,152.728 2071.42,151.359 2073.45,149.995 2075.47,148.636 2077.5,147.282 2079.52,145.933 2081.55,144.59 2083.57,143.252 2085.59,141.921 2087.62,140.595 2089.64,139.276 2091.67,137.964 2093.69,136.658 2095.72,135.36 2097.74,134.069 2099.77,132.786 2101.79,131.511 2103.81,130.244 2105.84,128.986 2107.86,127.737 2109.89,126.497 2111.91,125.267 2113.94,124.048 2115.96,122.838 2117.99,121.64 2120.01,120.453 2122.03,119.278 2124.06,118.115 2126.08,116.964 2128.11,115.827 2130.13,114.704 2132.16,113.595 2134.18,112.5 2136.2,111.421 2138.23,110.359 2140.25,109.312 2142.28,108.283 2144.3,107.272 2146.33,106.28 2148.35,105.308 2150.38,104.355 2152.4,103.424 2154.42,102.515 2156.45,101.629 2158.47,100.766 2160.5,99.9288 2162.52,99.1173 2164.55,98.3329 2166.57,97.5768 2168.6,96.8501 2170.62,96.1542 2172.64,95.4905 2174.67,94.8603 2176.69,94.2652 2178.72,93.7068 2180.74,93.1868 2182.77,92.707 2184.79,92.2693 2186.82,91.8756 2188.84,91.5282 2190.86,91.2292 2192.89,90.9812 2194.91,90.7865 2196.94,90.648 2198.96,90.5685 2200.99,90.5512 2203.01,90.5993 2205.03,90.7164 2207.06,90.9063 2209.08,91.173 2211.11,91.521 2213.13,91.9549 2215.16,92.4798 2217.18,93.1012 2219.21,93.825 2221.23,94.6577 2223.25,95.6063 2225.28,96.6784 2227.3,97.8822 2229.33,99.227 2231.35,100.723 2233.38,102.38 2235.4,104.212 2237.43,106.23 2239.45,108.452 2241.47,110.892 2243.5,113.569 2245.52,116.505 2247.55,119.723 2249.57,123.249 2251.6,127.115 2253.62,131.355 2255.65,136.009 2257.67,141.125 2259.69,146.758 2261.72,152.973 2263.74,159.848 2265.77,167.477 2267.79,175.976 2269.82,185.486 2271.84,196.189 2273.86,208.316 2275.89,222.173 2277.91,238.175 2279.94,256.9 2281.96,279.201 2283.99,306.395 2286.01,340.692 2288.04,386.234 2290.06,452.319 2292.08,568.619 \"/>\n",
       "<path clip-path=\"url(#clip480)\" d=\"M280.486 250.738 L547.289 250.738 L547.289 95.2176 L280.486 95.2176  Z\" fill=\"#ffffff\" fill-rule=\"evenodd\" fill-opacity=\"1\"/>\n",
       "<polyline clip-path=\"url(#clip480)\" style=\"stroke:#000000; stroke-linecap:round; stroke-linejoin:round; stroke-width:4; stroke-opacity:1; fill:none\" points=\"280.486,250.738 547.289,250.738 547.289,95.2176 280.486,95.2176 280.486,250.738 \"/>\n",
       "<polyline clip-path=\"url(#clip480)\" style=\"stroke:#ff0000; stroke-linecap:round; stroke-linejoin:round; stroke-width:4; stroke-opacity:1; fill:none\" points=\"304.305,147.058 447.22,147.058 \"/>\n",
       "<path clip-path=\"url(#clip480)\" d=\"M484.882 166.745 Q483.077 171.375 481.364 172.787 Q479.651 174.199 476.78 174.199 L473.378 174.199 L473.378 170.634 L475.878 170.634 Q477.637 170.634 478.609 169.8 Q479.581 168.967 480.762 165.865 L481.526 163.921 L471.04 138.412 L475.554 138.412 L483.655 158.689 L491.757 138.412 L496.271 138.412 L484.882 166.745 Z\" fill=\"#000000\" fill-rule=\"nonzero\" fill-opacity=\"1\" /><path clip-path=\"url(#clip480)\" d=\"M503.563 160.402 L511.201 160.402 L511.201 134.037 L502.891 135.703 L502.891 131.444 L511.155 129.778 L515.831 129.778 L515.831 160.402 L523.47 160.402 L523.47 164.338 L503.563 164.338 L503.563 160.402 Z\" fill=\"#000000\" fill-rule=\"nonzero\" fill-opacity=\"1\" /><polyline clip-path=\"url(#clip480)\" style=\"stroke:#0000ff; stroke-linecap:round; stroke-linejoin:round; stroke-width:4; stroke-opacity:1; fill:none\" points=\"304.305,198.898 447.22,198.898 \"/>\n",
       "<path clip-path=\"url(#clip480)\" d=\"M484.882 218.585 Q483.077 223.215 481.364 224.627 Q479.651 226.039 476.78 226.039 L473.378 226.039 L473.378 222.474 L475.878 222.474 Q477.637 222.474 478.609 221.64 Q479.581 220.807 480.762 217.705 L481.526 215.761 L471.04 190.252 L475.554 190.252 L483.655 210.529 L491.757 190.252 L496.271 190.252 L484.882 218.585 Z\" fill=\"#000000\" fill-rule=\"nonzero\" fill-opacity=\"1\" /><path clip-path=\"url(#clip480)\" d=\"M506.78 212.242 L523.1 212.242 L523.1 216.178 L501.155 216.178 L501.155 212.242 Q503.817 209.488 508.401 204.858 Q513.007 200.205 514.188 198.863 Q516.433 196.34 517.313 194.604 Q518.215 192.844 518.215 191.155 Q518.215 188.4 516.271 186.664 Q514.35 184.928 511.248 184.928 Q509.049 184.928 506.595 185.692 Q504.164 186.455 501.387 188.006 L501.387 183.284 Q504.211 182.15 506.664 181.571 Q509.118 180.993 511.155 180.993 Q516.526 180.993 519.72 183.678 Q522.914 186.363 522.914 190.854 Q522.914 192.983 522.104 194.905 Q521.317 196.803 519.211 199.395 Q518.632 200.067 515.53 203.284 Q512.428 206.479 506.78 212.242 Z\" fill=\"#000000\" fill-rule=\"nonzero\" fill-opacity=\"1\" /></svg>\n"
      ],
      "text/html": [
       "<?xml version=\"1.0\" encoding=\"utf-8\"?>\n",
       "<svg xmlns=\"http://www.w3.org/2000/svg\" xmlns:xlink=\"http://www.w3.org/1999/xlink\" width=\"600\" height=\"400\" viewBox=\"0 0 2400 1600\">\n",
       "<defs>\n",
       "  <clipPath id=\"clip530\">\n",
       "    <rect x=\"0\" y=\"0\" width=\"2400\" height=\"1600\"/>\n",
       "  </clipPath>\n",
       "</defs>\n",
       "<path clip-path=\"url(#clip530)\" d=\"M0 1600 L2400 1600 L2400 0 L0 0  Z\" fill=\"#ffffff\" fill-rule=\"evenodd\" fill-opacity=\"1\"/>\n",
       "<defs>\n",
       "  <clipPath id=\"clip531\">\n",
       "    <rect x=\"480\" y=\"0\" width=\"1681\" height=\"1600\"/>\n",
       "  </clipPath>\n",
       "</defs>\n",
       "<path clip-path=\"url(#clip530)\" d=\"M209.029 1486.45 L2352.76 1486.45 L2352.76 47.2441 L209.029 47.2441  Z\" fill=\"#ffffff\" fill-rule=\"evenodd\" fill-opacity=\"1\"/>\n",
       "<defs>\n",
       "  <clipPath id=\"clip532\">\n",
       "    <rect x=\"209\" y=\"47\" width=\"2145\" height=\"1440\"/>\n",
       "  </clipPath>\n",
       "</defs>\n",
       "<polyline clip-path=\"url(#clip532)\" style=\"stroke:#000000; stroke-linecap:round; stroke-linejoin:round; stroke-width:2; stroke-opacity:0.1; fill:none\" points=\"267.676,1486.45 267.676,47.2441 \"/>\n",
       "<polyline clip-path=\"url(#clip532)\" style=\"stroke:#000000; stroke-linecap:round; stroke-linejoin:round; stroke-width:2; stroke-opacity:0.1; fill:none\" points=\"773.778,1486.45 773.778,47.2441 \"/>\n",
       "<polyline clip-path=\"url(#clip532)\" style=\"stroke:#000000; stroke-linecap:round; stroke-linejoin:round; stroke-width:2; stroke-opacity:0.1; fill:none\" points=\"1279.88,1486.45 1279.88,47.2441 \"/>\n",
       "<polyline clip-path=\"url(#clip532)\" style=\"stroke:#000000; stroke-linecap:round; stroke-linejoin:round; stroke-width:2; stroke-opacity:0.1; fill:none\" points=\"1785.98,1486.45 1785.98,47.2441 \"/>\n",
       "<polyline clip-path=\"url(#clip532)\" style=\"stroke:#000000; stroke-linecap:round; stroke-linejoin:round; stroke-width:2; stroke-opacity:0.1; fill:none\" points=\"2292.08,1486.45 2292.08,47.2441 \"/>\n",
       "<polyline clip-path=\"url(#clip530)\" style=\"stroke:#000000; stroke-linecap:round; stroke-linejoin:round; stroke-width:4; stroke-opacity:1; fill:none\" points=\"209.029,1486.45 2352.76,1486.45 \"/>\n",
       "<polyline clip-path=\"url(#clip530)\" style=\"stroke:#000000; stroke-linecap:round; stroke-linejoin:round; stroke-width:4; stroke-opacity:1; fill:none\" points=\"267.676,1486.45 267.676,1467.55 \"/>\n",
       "<polyline clip-path=\"url(#clip530)\" style=\"stroke:#000000; stroke-linecap:round; stroke-linejoin:round; stroke-width:4; stroke-opacity:1; fill:none\" points=\"773.778,1486.45 773.778,1467.55 \"/>\n",
       "<polyline clip-path=\"url(#clip530)\" style=\"stroke:#000000; stroke-linecap:round; stroke-linejoin:round; stroke-width:4; stroke-opacity:1; fill:none\" points=\"1279.88,1486.45 1279.88,1467.55 \"/>\n",
       "<polyline clip-path=\"url(#clip530)\" style=\"stroke:#000000; stroke-linecap:round; stroke-linejoin:round; stroke-width:4; stroke-opacity:1; fill:none\" points=\"1785.98,1486.45 1785.98,1467.55 \"/>\n",
       "<polyline clip-path=\"url(#clip530)\" style=\"stroke:#000000; stroke-linecap:round; stroke-linejoin:round; stroke-width:4; stroke-opacity:1; fill:none\" points=\"2292.08,1486.45 2292.08,1467.55 \"/>\n",
       "<path clip-path=\"url(#clip530)\" d=\"M267.676 1517.37 Q264.065 1517.37 262.236 1520.93 Q260.43 1524.47 260.43 1531.6 Q260.43 1538.71 262.236 1542.27 Q264.065 1545.82 267.676 1545.82 Q271.31 1545.82 273.115 1542.27 Q274.944 1538.71 274.944 1531.6 Q274.944 1524.47 273.115 1520.93 Q271.31 1517.37 267.676 1517.37 M267.676 1513.66 Q273.486 1513.66 276.541 1518.27 Q279.62 1522.85 279.62 1531.6 Q279.62 1540.33 276.541 1544.94 Q273.486 1549.52 267.676 1549.52 Q261.865 1549.52 258.787 1544.94 Q255.731 1540.33 255.731 1531.6 Q255.731 1522.85 258.787 1518.27 Q261.865 1513.66 267.676 1513.66 Z\" fill=\"#000000\" fill-rule=\"nonzero\" fill-opacity=\"1\" /><path clip-path=\"url(#clip530)\" d=\"M737.47 1544.91 L753.789 1544.91 L753.789 1548.85 L731.845 1548.85 L731.845 1544.91 Q734.507 1542.16 739.091 1537.53 Q743.697 1532.88 744.878 1531.53 Q747.123 1529.01 748.002 1527.27 Q748.905 1525.51 748.905 1523.82 Q748.905 1521.07 746.961 1519.33 Q745.04 1517.6 741.938 1517.6 Q739.739 1517.6 737.285 1518.36 Q734.854 1519.13 732.077 1520.68 L732.077 1515.95 Q734.901 1514.82 737.354 1514.24 Q739.808 1513.66 741.845 1513.66 Q747.215 1513.66 750.41 1516.35 Q753.604 1519.03 753.604 1523.52 Q753.604 1525.65 752.794 1527.57 Q752.007 1529.47 749.901 1532.07 Q749.322 1532.74 746.22 1535.95 Q743.118 1539.15 737.47 1544.91 Z\" fill=\"#000000\" fill-rule=\"nonzero\" fill-opacity=\"1\" /><path clip-path=\"url(#clip530)\" d=\"M763.651 1514.29 L782.007 1514.29 L782.007 1518.22 L767.933 1518.22 L767.933 1526.7 Q768.951 1526.35 769.97 1526.19 Q770.988 1526 772.007 1526 Q777.794 1526 781.174 1529.17 Q784.553 1532.34 784.553 1537.76 Q784.553 1543.34 781.081 1546.44 Q777.609 1549.52 771.289 1549.52 Q769.113 1549.52 766.845 1549.15 Q764.6 1548.78 762.192 1548.04 L762.192 1543.34 Q764.276 1544.47 766.498 1545.03 Q768.72 1545.58 771.197 1545.58 Q775.201 1545.58 777.539 1543.48 Q779.877 1541.37 779.877 1537.76 Q779.877 1534.15 777.539 1532.04 Q775.201 1529.94 771.197 1529.94 Q769.322 1529.94 767.447 1530.35 Q765.595 1530.77 763.651 1531.65 L763.651 1514.29 Z\" fill=\"#000000\" fill-rule=\"nonzero\" fill-opacity=\"1\" /><path clip-path=\"url(#clip530)\" d=\"M803.766 1517.37 Q800.155 1517.37 798.326 1520.93 Q796.521 1524.47 796.521 1531.6 Q796.521 1538.71 798.326 1542.27 Q800.155 1545.82 803.766 1545.82 Q807.4 1545.82 809.206 1542.27 Q811.035 1538.71 811.035 1531.6 Q811.035 1524.47 809.206 1520.93 Q807.4 1517.37 803.766 1517.37 M803.766 1513.66 Q809.576 1513.66 812.632 1518.27 Q815.71 1522.85 815.71 1531.6 Q815.71 1540.33 812.632 1544.94 Q809.576 1549.52 803.766 1549.52 Q797.956 1549.52 794.877 1544.94 Q791.822 1540.33 791.822 1531.6 Q791.822 1522.85 794.877 1518.27 Q797.956 1513.66 803.766 1513.66 Z\" fill=\"#000000\" fill-rule=\"nonzero\" fill-opacity=\"1\" /><path clip-path=\"url(#clip530)\" d=\"M1239.5 1514.29 L1257.85 1514.29 L1257.85 1518.22 L1243.78 1518.22 L1243.78 1526.7 Q1244.8 1526.35 1245.82 1526.19 Q1246.84 1526 1247.85 1526 Q1253.64 1526 1257.02 1529.17 Q1260.4 1532.34 1260.4 1537.76 Q1260.4 1543.34 1256.93 1546.44 Q1253.46 1549.52 1247.14 1549.52 Q1244.96 1549.52 1242.69 1549.15 Q1240.45 1548.78 1238.04 1548.04 L1238.04 1543.34 Q1240.12 1544.47 1242.35 1545.03 Q1244.57 1545.58 1247.04 1545.58 Q1251.05 1545.58 1253.39 1543.48 Q1255.73 1541.37 1255.73 1537.76 Q1255.73 1534.15 1253.39 1532.04 Q1251.05 1529.94 1247.04 1529.94 Q1245.17 1529.94 1243.29 1530.35 Q1241.44 1530.77 1239.5 1531.65 L1239.5 1514.29 Z\" fill=\"#000000\" fill-rule=\"nonzero\" fill-opacity=\"1\" /><path clip-path=\"url(#clip530)\" d=\"M1279.61 1517.37 Q1276 1517.37 1274.17 1520.93 Q1272.37 1524.47 1272.37 1531.6 Q1272.37 1538.71 1274.17 1542.27 Q1276 1545.82 1279.61 1545.82 Q1283.25 1545.82 1285.05 1542.27 Q1286.88 1538.71 1286.88 1531.6 Q1286.88 1524.47 1285.05 1520.93 Q1283.25 1517.37 1279.61 1517.37 M1279.61 1513.66 Q1285.42 1513.66 1288.48 1518.27 Q1291.56 1522.85 1291.56 1531.6 Q1291.56 1540.33 1288.48 1544.94 Q1285.42 1549.52 1279.61 1549.52 Q1273.8 1549.52 1270.72 1544.94 Q1267.67 1540.33 1267.67 1531.6 Q1267.67 1522.85 1270.72 1518.27 Q1273.8 1513.66 1279.61 1513.66 Z\" fill=\"#000000\" fill-rule=\"nonzero\" fill-opacity=\"1\" /><path clip-path=\"url(#clip530)\" d=\"M1309.78 1517.37 Q1306.16 1517.37 1304.34 1520.93 Q1302.53 1524.47 1302.53 1531.6 Q1302.53 1538.71 1304.34 1542.27 Q1306.16 1545.82 1309.78 1545.82 Q1313.41 1545.82 1315.22 1542.27 Q1317.04 1538.71 1317.04 1531.6 Q1317.04 1524.47 1315.22 1520.93 Q1313.41 1517.37 1309.78 1517.37 M1309.78 1513.66 Q1315.59 1513.66 1318.64 1518.27 Q1321.72 1522.85 1321.72 1531.6 Q1321.72 1540.33 1318.64 1544.94 Q1315.59 1549.52 1309.78 1549.52 Q1303.97 1549.52 1300.89 1544.94 Q1297.83 1540.33 1297.83 1531.6 Q1297.83 1522.85 1300.89 1518.27 Q1303.97 1513.66 1309.78 1513.66 Z\" fill=\"#000000\" fill-rule=\"nonzero\" fill-opacity=\"1\" /><path clip-path=\"url(#clip530)\" d=\"M1744.26 1514.29 L1766.48 1514.29 L1766.48 1516.28 L1753.93 1548.85 L1749.05 1548.85 L1760.86 1518.22 L1744.26 1518.22 L1744.26 1514.29 Z\" fill=\"#000000\" fill-rule=\"nonzero\" fill-opacity=\"1\" /><path clip-path=\"url(#clip530)\" d=\"M1775.65 1514.29 L1794 1514.29 L1794 1518.22 L1779.93 1518.22 L1779.93 1526.7 Q1780.95 1526.35 1781.97 1526.19 Q1782.98 1526 1784 1526 Q1789.79 1526 1793.17 1529.17 Q1796.55 1532.34 1796.55 1537.76 Q1796.55 1543.34 1793.08 1546.44 Q1789.6 1549.52 1783.29 1549.52 Q1781.11 1549.52 1778.84 1549.15 Q1776.6 1548.78 1774.19 1548.04 L1774.19 1543.34 Q1776.27 1544.47 1778.49 1545.03 Q1780.72 1545.58 1783.19 1545.58 Q1787.2 1545.58 1789.54 1543.48 Q1791.87 1541.37 1791.87 1537.76 Q1791.87 1534.15 1789.54 1532.04 Q1787.2 1529.94 1783.19 1529.94 Q1781.32 1529.94 1779.44 1530.35 Q1777.59 1530.77 1775.65 1531.65 L1775.65 1514.29 Z\" fill=\"#000000\" fill-rule=\"nonzero\" fill-opacity=\"1\" /><path clip-path=\"url(#clip530)\" d=\"M1815.76 1517.37 Q1812.15 1517.37 1810.32 1520.93 Q1808.52 1524.47 1808.52 1531.6 Q1808.52 1538.71 1810.32 1542.27 Q1812.15 1545.82 1815.76 1545.82 Q1819.4 1545.82 1821.2 1542.27 Q1823.03 1538.71 1823.03 1531.6 Q1823.03 1524.47 1821.2 1520.93 Q1819.4 1517.37 1815.76 1517.37 M1815.76 1513.66 Q1821.57 1513.66 1824.63 1518.27 Q1827.71 1522.85 1827.71 1531.6 Q1827.71 1540.33 1824.63 1544.94 Q1821.57 1549.52 1815.76 1549.52 Q1809.95 1549.52 1806.87 1544.94 Q1803.82 1540.33 1803.82 1531.6 Q1803.82 1522.85 1806.87 1518.27 Q1809.95 1513.66 1815.76 1513.66 Z\" fill=\"#000000\" fill-rule=\"nonzero\" fill-opacity=\"1\" /><path clip-path=\"url(#clip530)\" d=\"M2236.61 1544.91 L2244.25 1544.91 L2244.25 1518.55 L2235.94 1520.21 L2235.94 1515.95 L2244.2 1514.29 L2248.88 1514.29 L2248.88 1544.91 L2256.52 1544.91 L2256.52 1548.85 L2236.61 1548.85 L2236.61 1544.91 Z\" fill=\"#000000\" fill-rule=\"nonzero\" fill-opacity=\"1\" /><path clip-path=\"url(#clip530)\" d=\"M2275.96 1517.37 Q2272.35 1517.37 2270.52 1520.93 Q2268.72 1524.47 2268.72 1531.6 Q2268.72 1538.71 2270.52 1542.27 Q2272.35 1545.82 2275.96 1545.82 Q2279.6 1545.82 2281.4 1542.27 Q2283.23 1538.71 2283.23 1531.6 Q2283.23 1524.47 2281.4 1520.93 Q2279.6 1517.37 2275.96 1517.37 M2275.96 1513.66 Q2281.77 1513.66 2284.83 1518.27 Q2287.91 1522.85 2287.91 1531.6 Q2287.91 1540.33 2284.83 1544.94 Q2281.77 1549.52 2275.96 1549.52 Q2270.15 1549.52 2267.07 1544.94 Q2264.02 1540.33 2264.02 1531.6 Q2264.02 1522.85 2267.07 1518.27 Q2270.15 1513.66 2275.96 1513.66 Z\" fill=\"#000000\" fill-rule=\"nonzero\" fill-opacity=\"1\" /><path clip-path=\"url(#clip530)\" d=\"M2306.12 1517.37 Q2302.51 1517.37 2300.68 1520.93 Q2298.88 1524.47 2298.88 1531.6 Q2298.88 1538.71 2300.68 1542.27 Q2302.51 1545.82 2306.12 1545.82 Q2309.76 1545.82 2311.56 1542.27 Q2313.39 1538.71 2313.39 1531.6 Q2313.39 1524.47 2311.56 1520.93 Q2309.76 1517.37 2306.12 1517.37 M2306.12 1513.66 Q2311.93 1513.66 2314.99 1518.27 Q2318.07 1522.85 2318.07 1531.6 Q2318.07 1540.33 2314.99 1544.94 Q2311.93 1549.52 2306.12 1549.52 Q2300.31 1549.52 2297.23 1544.94 Q2294.18 1540.33 2294.18 1531.6 Q2294.18 1522.85 2297.23 1518.27 Q2300.31 1513.66 2306.12 1513.66 Z\" fill=\"#000000\" fill-rule=\"nonzero\" fill-opacity=\"1\" /><path clip-path=\"url(#clip530)\" d=\"M2336.29 1517.37 Q2332.67 1517.37 2330.85 1520.93 Q2329.04 1524.47 2329.04 1531.6 Q2329.04 1538.71 2330.85 1542.27 Q2332.67 1545.82 2336.29 1545.82 Q2339.92 1545.82 2341.73 1542.27 Q2343.55 1538.71 2343.55 1531.6 Q2343.55 1524.47 2341.73 1520.93 Q2339.92 1517.37 2336.29 1517.37 M2336.29 1513.66 Q2342.1 1513.66 2345.15 1518.27 Q2348.23 1522.85 2348.23 1531.6 Q2348.23 1540.33 2345.15 1544.94 Q2342.1 1549.52 2336.29 1549.52 Q2330.48 1549.52 2327.4 1544.94 Q2324.34 1540.33 2324.34 1531.6 Q2324.34 1522.85 2327.4 1518.27 Q2330.48 1513.66 2336.29 1513.66 Z\" fill=\"#000000\" fill-rule=\"nonzero\" fill-opacity=\"1\" /><polyline clip-path=\"url(#clip532)\" style=\"stroke:#000000; stroke-linecap:round; stroke-linejoin:round; stroke-width:2; stroke-opacity:0.1; fill:none\" points=\"209.029,1258.16 2352.76,1258.16 \"/>\n",
       "<polyline clip-path=\"url(#clip532)\" style=\"stroke:#000000; stroke-linecap:round; stroke-linejoin:round; stroke-width:2; stroke-opacity:0.1; fill:none\" points=\"209.029,901.727 2352.76,901.727 \"/>\n",
       "<polyline clip-path=\"url(#clip532)\" style=\"stroke:#000000; stroke-linecap:round; stroke-linejoin:round; stroke-width:2; stroke-opacity:0.1; fill:none\" points=\"209.029,545.297 2352.76,545.297 \"/>\n",
       "<polyline clip-path=\"url(#clip532)\" style=\"stroke:#000000; stroke-linecap:round; stroke-linejoin:round; stroke-width:2; stroke-opacity:0.1; fill:none\" points=\"209.029,188.867 2352.76,188.867 \"/>\n",
       "<polyline clip-path=\"url(#clip530)\" style=\"stroke:#000000; stroke-linecap:round; stroke-linejoin:round; stroke-width:4; stroke-opacity:1; fill:none\" points=\"209.029,1486.45 209.029,47.2441 \"/>\n",
       "<polyline clip-path=\"url(#clip530)\" style=\"stroke:#000000; stroke-linecap:round; stroke-linejoin:round; stroke-width:4; stroke-opacity:1; fill:none\" points=\"209.029,1258.16 227.926,1258.16 \"/>\n",
       "<polyline clip-path=\"url(#clip530)\" style=\"stroke:#000000; stroke-linecap:round; stroke-linejoin:round; stroke-width:4; stroke-opacity:1; fill:none\" points=\"209.029,901.727 227.926,901.727 \"/>\n",
       "<polyline clip-path=\"url(#clip530)\" style=\"stroke:#000000; stroke-linecap:round; stroke-linejoin:round; stroke-width:4; stroke-opacity:1; fill:none\" points=\"209.029,545.297 227.926,545.297 \"/>\n",
       "<polyline clip-path=\"url(#clip530)\" style=\"stroke:#000000; stroke-linecap:round; stroke-linejoin:round; stroke-width:4; stroke-opacity:1; fill:none\" points=\"209.029,188.867 227.926,188.867 \"/>\n",
       "<path clip-path=\"url(#clip530)\" d=\"M50.9921 1258.61 L80.6679 1258.61 L80.6679 1262.54 L50.9921 1262.54 L50.9921 1258.61 Z\" fill=\"#000000\" fill-rule=\"nonzero\" fill-opacity=\"1\" /><path clip-path=\"url(#clip530)\" d=\"M91.5706 1271.5 L99.2095 1271.5 L99.2095 1245.14 L90.8993 1246.8 L90.8993 1242.54 L99.1632 1240.88 L103.839 1240.88 L103.839 1271.5 L111.478 1271.5 L111.478 1275.44 L91.5706 1275.44 L91.5706 1271.5 Z\" fill=\"#000000\" fill-rule=\"nonzero\" fill-opacity=\"1\" /><path clip-path=\"url(#clip530)\" d=\"M130.922 1243.96 Q127.311 1243.96 125.482 1247.52 Q123.677 1251.06 123.677 1258.19 Q123.677 1265.3 125.482 1268.86 Q127.311 1272.4 130.922 1272.4 Q134.556 1272.4 136.362 1268.86 Q138.191 1265.3 138.191 1258.19 Q138.191 1251.06 136.362 1247.52 Q134.556 1243.96 130.922 1243.96 M130.922 1240.25 Q136.732 1240.25 139.788 1244.86 Q142.867 1249.44 142.867 1258.19 Q142.867 1266.92 139.788 1271.52 Q136.732 1276.11 130.922 1276.11 Q125.112 1276.11 122.033 1271.52 Q118.978 1266.92 118.978 1258.19 Q118.978 1249.44 122.033 1244.86 Q125.112 1240.25 130.922 1240.25 Z\" fill=\"#000000\" fill-rule=\"nonzero\" fill-opacity=\"1\" /><path clip-path=\"url(#clip530)\" d=\"M161.084 1243.96 Q157.473 1243.96 155.644 1247.52 Q153.839 1251.06 153.839 1258.19 Q153.839 1265.3 155.644 1268.86 Q157.473 1272.4 161.084 1272.4 Q164.718 1272.4 166.524 1268.86 Q168.353 1265.3 168.353 1258.19 Q168.353 1251.06 166.524 1247.52 Q164.718 1243.96 161.084 1243.96 M161.084 1240.25 Q166.894 1240.25 169.95 1244.86 Q173.029 1249.44 173.029 1258.19 Q173.029 1266.92 169.95 1271.52 Q166.894 1276.11 161.084 1276.11 Q155.274 1276.11 152.195 1271.52 Q149.14 1266.92 149.14 1258.19 Q149.14 1249.44 152.195 1244.86 Q155.274 1240.25 161.084 1240.25 Z\" fill=\"#000000\" fill-rule=\"nonzero\" fill-opacity=\"1\" /><path clip-path=\"url(#clip530)\" d=\"M81.154 902.178 L110.83 902.178 L110.83 906.114 L81.154 906.114 L81.154 902.178 Z\" fill=\"#000000\" fill-rule=\"nonzero\" fill-opacity=\"1\" /><path clip-path=\"url(#clip530)\" d=\"M120.969 884.447 L139.325 884.447 L139.325 888.382 L125.251 888.382 L125.251 896.854 Q126.27 896.507 127.288 896.345 Q128.307 896.16 129.325 896.16 Q135.112 896.16 138.492 899.331 Q141.871 902.503 141.871 907.919 Q141.871 913.498 138.399 916.6 Q134.927 919.678 128.607 919.678 Q126.432 919.678 124.163 919.308 Q121.918 918.938 119.51 918.197 L119.51 913.498 Q121.594 914.632 123.816 915.188 Q126.038 915.743 128.515 915.743 Q132.519 915.743 134.857 913.637 Q137.195 911.53 137.195 907.919 Q137.195 904.308 134.857 902.202 Q132.519 900.095 128.515 900.095 Q126.64 900.095 124.765 900.512 Q122.913 900.928 120.969 901.808 L120.969 884.447 Z\" fill=\"#000000\" fill-rule=\"nonzero\" fill-opacity=\"1\" /><path clip-path=\"url(#clip530)\" d=\"M161.084 887.526 Q157.473 887.526 155.644 891.091 Q153.839 894.632 153.839 901.762 Q153.839 908.868 155.644 912.433 Q157.473 915.975 161.084 915.975 Q164.718 915.975 166.524 912.433 Q168.353 908.868 168.353 901.762 Q168.353 894.632 166.524 891.091 Q164.718 887.526 161.084 887.526 M161.084 883.822 Q166.894 883.822 169.95 888.429 Q173.029 893.012 173.029 901.762 Q173.029 910.489 169.95 915.095 Q166.894 919.678 161.084 919.678 Q155.274 919.678 152.195 915.095 Q149.14 910.489 149.14 901.762 Q149.14 893.012 152.195 888.429 Q155.274 883.822 161.084 883.822 Z\" fill=\"#000000\" fill-rule=\"nonzero\" fill-opacity=\"1\" /><path clip-path=\"url(#clip530)\" d=\"M161.084 531.096 Q157.473 531.096 155.644 534.661 Q153.839 538.202 153.839 545.332 Q153.839 552.438 155.644 556.003 Q157.473 559.545 161.084 559.545 Q164.718 559.545 166.524 556.003 Q168.353 552.438 168.353 545.332 Q168.353 538.202 166.524 534.661 Q164.718 531.096 161.084 531.096 M161.084 527.392 Q166.894 527.392 169.95 531.999 Q173.029 536.582 173.029 545.332 Q173.029 554.059 169.95 558.665 Q166.894 563.248 161.084 563.248 Q155.274 563.248 152.195 558.665 Q149.14 554.059 149.14 545.332 Q149.14 536.582 152.195 531.999 Q155.274 527.392 161.084 527.392 Z\" fill=\"#000000\" fill-rule=\"nonzero\" fill-opacity=\"1\" /><path clip-path=\"url(#clip530)\" d=\"M120.969 171.587 L139.325 171.587 L139.325 175.522 L125.251 175.522 L125.251 183.995 Q126.27 183.647 127.288 183.485 Q128.307 183.3 129.325 183.3 Q135.112 183.3 138.492 186.471 Q141.871 189.643 141.871 195.059 Q141.871 200.638 138.399 203.74 Q134.927 206.818 128.607 206.818 Q126.432 206.818 124.163 206.448 Q121.918 206.078 119.51 205.337 L119.51 200.638 Q121.594 201.772 123.816 202.328 Q126.038 202.883 128.515 202.883 Q132.519 202.883 134.857 200.777 Q137.195 198.67 137.195 195.059 Q137.195 191.448 134.857 189.342 Q132.519 187.235 128.515 187.235 Q126.64 187.235 124.765 187.652 Q122.913 188.069 120.969 188.948 L120.969 171.587 Z\" fill=\"#000000\" fill-rule=\"nonzero\" fill-opacity=\"1\" /><path clip-path=\"url(#clip530)\" d=\"M161.084 174.666 Q157.473 174.666 155.644 178.231 Q153.839 181.772 153.839 188.902 Q153.839 196.008 155.644 199.573 Q157.473 203.115 161.084 203.115 Q164.718 203.115 166.524 199.573 Q168.353 196.008 168.353 188.902 Q168.353 181.772 166.524 178.231 Q164.718 174.666 161.084 174.666 M161.084 170.962 Q166.894 170.962 169.95 175.569 Q173.029 180.152 173.029 188.902 Q173.029 197.629 169.95 202.235 Q166.894 206.818 161.084 206.818 Q155.274 206.818 152.195 202.235 Q149.14 197.629 149.14 188.902 Q149.14 180.152 152.195 175.569 Q155.274 170.962 161.084 170.962 Z\" fill=\"#000000\" fill-rule=\"nonzero\" fill-opacity=\"1\" /><polyline clip-path=\"url(#clip532)\" style=\"stroke:#ff0000; stroke-linecap:round; stroke-linejoin:round; stroke-width:4; stroke-opacity:1; fill:none\" points=\"269.7,1445.33 271.724,1442.45 273.749,1439.59 275.773,1436.75 277.798,1433.92 279.822,1431.12 281.846,1428.33 283.871,1425.56 285.895,1422.81 287.92,1420.07 289.944,1417.35 291.969,1414.65 293.993,1411.96 296.017,1409.29 298.042,1406.63 300.066,1403.99 302.091,1401.37 304.115,1398.76 306.139,1396.16 308.164,1393.58 310.188,1391.02 312.213,1388.47 314.237,1385.93 316.261,1383.4 318.286,1380.89 320.31,1378.4 322.335,1375.91 324.359,1373.44 326.383,1370.98 328.408,1368.54 330.432,1366.1 332.457,1363.68 334.481,1361.28 336.506,1358.88 338.53,1356.49 340.554,1354.12 342.579,1351.76 344.603,1349.41 346.628,1347.07 348.652,1344.74 350.676,1342.43 352.701,1340.12 354.725,1337.83 356.75,1335.54 358.774,1333.27 360.798,1331 362.823,1328.75 364.847,1326.51 366.872,1324.27 368.896,1322.05 370.92,1319.83 372.945,1317.63 374.969,1315.43 376.994,1313.25 379.018,1311.07 381.043,1308.9 383.067,1306.74 385.091,1304.59 387.116,1302.45 389.14,1300.32 391.165,1298.2 393.189,1296.08 395.213,1293.98 397.238,1291.88 399.262,1289.79 401.287,1287.71 403.311,1285.63 405.335,1283.57 407.36,1281.51 409.384,1279.46 411.409,1277.41 413.433,1275.38 415.457,1273.35 417.482,1271.33 419.506,1269.32 421.531,1267.31 423.555,1265.32 425.58,1263.32 427.604,1261.34 429.628,1259.36 431.653,1257.39 433.677,1255.43 435.702,1253.47 437.726,1251.52 439.75,1249.58 441.775,1247.65 443.799,1245.72 445.824,1243.79 447.848,1241.87 449.872,1239.96 451.897,1238.06 453.921,1236.16 455.946,1234.27 457.97,1232.38 459.994,1230.5 462.019,1228.63 464.043,1226.76 466.068,1224.9 468.092,1223.04 470.117,1221.19 472.141,1219.34 474.165,1217.51 476.19,1215.67 478.214,1213.84 480.239,1212.02 482.263,1210.2 484.287,1208.39 486.312,1206.58 488.336,1204.78 490.361,1202.98 492.385,1201.19 494.409,1199.41 496.434,1197.62 498.458,1195.85 500.483,1194.08 502.507,1192.31 504.531,1190.55 506.556,1188.79 508.58,1187.04 510.605,1185.29 512.629,1183.55 514.653,1181.81 516.678,1180.08 518.702,1178.35 520.727,1176.63 522.751,1174.91 524.776,1173.19 526.8,1171.48 528.824,1169.77 530.849,1168.07 532.873,1166.37 534.898,1164.68 536.922,1162.99 538.946,1161.31 540.971,1159.62 542.995,1157.95 545.02,1156.27 547.044,1154.61 549.068,1152.94 551.093,1151.28 553.117,1149.62 555.142,1147.97 557.166,1146.32 559.19,1144.68 561.215,1143.04 563.239,1141.4 565.264,1139.76 567.288,1138.13 569.313,1136.51 571.337,1134.88 573.361,1133.27 575.386,1131.65 577.41,1130.04 579.435,1128.43 581.459,1126.82 583.483,1125.22 585.508,1123.63 587.532,1122.03 589.557,1120.44 591.581,1118.85 593.605,1117.27 595.63,1115.69 597.654,1114.11 599.679,1112.53 601.703,1110.96 603.727,1109.39 605.752,1107.83 607.776,1106.27 609.801,1104.71 611.825,1103.15 613.85,1101.6 615.874,1100.05 617.898,1098.5 619.923,1096.96 621.947,1095.42 623.972,1093.88 625.996,1092.35 628.02,1090.81 630.045,1089.29 632.069,1087.76 634.094,1086.24 636.118,1084.72 638.142,1083.2 640.167,1081.68 642.191,1080.17 644.216,1078.66 646.24,1077.16 648.264,1075.65 650.289,1074.15 652.313,1072.65 654.338,1071.16 656.362,1069.66 658.387,1068.17 660.411,1066.68 662.435,1065.2 664.46,1063.72 666.484,1062.23 668.509,1060.76 670.533,1059.28 672.557,1057.81 674.582,1056.34 676.606,1054.87 678.631,1053.4 680.655,1051.94 682.679,1050.48 684.704,1049.02 686.728,1047.56 688.753,1046.11 690.777,1044.66 692.801,1043.21 694.826,1041.76 696.85,1040.31 698.875,1038.87 700.899,1037.43 702.924,1035.99 704.948,1034.55 706.972,1033.12 708.997,1031.69 711.021,1030.26 713.046,1028.83 715.07,1027.4 717.094,1025.98 719.119,1024.56 721.143,1023.14 723.168,1021.72 725.192,1020.3 727.216,1018.89 729.241,1017.48 731.265,1016.07 733.29,1014.66 735.314,1013.25 737.338,1011.85 739.363,1010.45 741.387,1009.05 743.412,1007.65 745.436,1006.25 747.461,1004.86 749.485,1003.46 751.509,1002.07 753.534,1000.68 755.558,999.296 757.583,997.911 759.607,996.527 761.631,995.145 763.656,993.764 765.68,992.385 767.705,991.008 769.729,989.633 771.753,988.259 773.778,986.887 775.802,985.517 777.827,984.148 779.851,982.781 781.875,981.416 783.9,980.052 785.924,978.69 787.949,977.329 789.973,975.97 791.997,974.612 794.022,973.256 796.046,971.902 798.071,970.549 800.095,969.197 802.12,967.847 804.144,966.499 806.168,965.152 808.193,963.807 810.217,962.462 812.242,961.12 814.266,959.779 816.29,958.439 818.315,957.101 820.339,955.764 822.364,954.428 824.388,953.094 826.412,951.761 828.437,950.43 830.461,949.099 832.486,947.771 834.51,946.443 836.534,945.117 838.559,943.792 840.583,942.469 842.608,941.146 844.632,939.825 846.657,938.505 848.681,937.187 850.705,935.87 852.73,934.554 854.754,933.239 856.779,931.925 858.803,930.613 860.827,929.302 862.852,927.991 864.876,926.683 866.901,925.375 868.925,924.068 870.949,922.763 872.974,921.459 874.998,920.156 877.023,918.854 879.047,917.553 881.071,916.253 883.096,914.954 885.12,913.656 887.145,912.36 889.169,911.064 891.194,909.77 893.218,908.476 895.242,907.184 897.267,905.893 899.291,904.602 901.316,903.313 903.34,902.025 905.364,900.737 907.389,899.451 909.413,898.165 911.438,896.881 913.462,895.597 915.486,894.315 917.511,893.033 919.535,891.753 921.56,890.473 923.584,889.194 925.608,887.916 927.633,886.639 929.657,885.363 931.682,884.088 933.706,882.814 935.731,881.54 937.755,880.268 939.779,878.996 941.804,877.725 943.828,876.455 945.853,875.185 947.877,873.917 949.901,872.649 951.926,871.383 953.95,870.117 955.975,868.851 957.999,867.587 960.023,866.323 962.048,865.06 964.072,863.798 966.097,862.537 968.121,861.276 970.145,860.016 972.17,858.757 974.194,857.499 976.219,856.241 978.243,854.984 980.268,853.728 982.292,852.472 984.316,851.217 986.341,849.963 988.365,848.709 990.39,847.456 992.414,846.204 994.438,844.953 996.463,843.702 998.487,842.451 1000.51,841.202 1002.54,839.953 1004.56,838.704 1006.58,837.457 1008.61,836.209 1010.63,834.963 1012.66,833.717 1014.68,832.471 1016.71,831.226 1018.73,829.982 1020.76,828.739 1022.78,827.495 1024.8,826.253 1026.83,825.011 1028.85,823.769 1030.88,822.528 1032.9,821.288 1034.93,820.048 1036.95,818.809 1038.98,817.57 1041,816.331 1043.02,815.093 1045.05,813.856 1047.07,812.619 1049.1,811.383 1051.12,810.147 1053.15,808.911 1055.17,807.676 1057.2,806.442 1059.22,805.207 1061.24,803.974 1063.27,802.74 1065.29,801.508 1067.32,800.275 1069.34,799.043 1071.37,797.812 1073.39,796.58 1075.41,795.35 1077.44,794.119 1079.46,792.889 1081.49,791.66 1083.51,790.43 1085.54,789.201 1087.56,787.973 1089.59,786.745 1091.61,785.517 1093.63,784.289 1095.66,783.062 1097.68,781.836 1099.71,780.609 1101.73,779.383 1103.76,778.157 1105.78,776.932 1107.81,775.706 1109.83,774.481 1111.85,773.257 1113.88,772.033 1115.9,770.808 1117.93,769.585 1119.95,768.361 1121.98,767.138 1124,765.915 1126.02,764.692 1128.05,763.47 1130.07,762.248 1132.1,761.026 1134.12,759.804 1136.15,758.582 1138.17,757.361 1140.2,756.14 1142.22,754.919 1144.24,753.699 1146.27,752.478 1148.29,751.258 1150.32,750.038 1152.34,748.818 1154.37,747.598 1156.39,746.379 1158.42,745.159 1160.44,743.94 1162.46,742.721 1164.49,741.502 1166.51,740.283 1168.54,739.065 1170.56,737.846 1172.59,736.628 1174.61,735.41 1176.64,734.192 1178.66,732.974 1180.68,731.756 1182.71,730.538 1184.73,729.321 1186.76,728.103 1188.78,726.886 1190.81,725.668 1192.83,724.451 1194.85,723.234 1196.88,722.017 1198.9,720.8 1200.93,719.583 1202.95,718.366 1204.98,717.149 1207,715.932 1209.03,714.715 1211.05,713.498 1213.07,712.282 1215.1,711.065 1217.12,709.848 1219.15,708.631 1221.17,707.415 1223.2,706.198 1225.22,704.981 1227.25,703.765 1229.27,702.548 1231.29,701.331 1233.32,700.115 1235.34,698.898 1237.37,697.681 1239.39,696.464 1241.42,695.248 1243.44,694.031 1245.47,692.814 1247.49,691.597 1249.51,690.38 1251.54,689.163 1253.56,687.946 1255.59,686.728 1257.61,685.511 1259.64,684.294 1261.66,683.076 1263.68,681.859 1265.71,680.641 1267.73,679.423 1269.76,678.205 1271.78,676.987 1273.81,675.769 1275.83,674.551 1277.86,673.333 1279.88,672.114 1281.9,670.895 1283.93,669.677 1285.95,668.458 1287.98,667.239 1290,666.02 1292.03,664.8 1294.05,663.581 1296.08,662.361 1298.1,661.141 1300.12,659.921 1302.15,658.701 1304.17,657.481 1306.2,656.26 1308.22,655.039 1310.25,653.818 1312.27,652.597 1314.29,651.376 1316.32,650.154 1318.34,648.932 1320.37,647.71 1322.39,646.488 1324.42,645.265 1326.44,644.043 1328.47,642.82 1330.49,641.596 1332.51,640.373 1334.54,639.149 1336.56,637.925 1338.59,636.701 1340.61,635.476 1342.64,634.251 1344.66,633.026 1346.69,631.801 1348.71,630.575 1350.73,629.349 1352.76,628.123 1354.78,626.897 1356.81,625.67 1358.83,624.443 1360.86,623.215 1362.88,621.987 1364.91,620.759 1366.93,619.531 1368.95,618.302 1370.98,617.073 1373,615.843 1375.03,614.613 1377.05,613.383 1379.08,612.153 1381.1,610.922 1383.12,609.691 1385.15,608.459 1387.17,607.227 1389.2,605.995 1391.22,604.762 1393.25,603.529 1395.27,602.295 1397.3,601.061 1399.32,599.827 1401.34,598.592 1403.37,597.357 1405.39,596.121 1407.42,594.885 1409.44,593.649 1411.47,592.412 1413.49,591.175 1415.52,589.937 1417.54,588.699 1419.56,587.46 1421.59,586.221 1423.61,584.982 1425.64,583.742 1427.66,582.501 1429.69,581.26 1431.71,580.019 1433.74,578.777 1435.76,577.535 1437.78,576.292 1439.81,575.049 1441.83,573.805 1443.86,572.561 1445.88,571.316 1447.91,570.07 1449.93,568.825 1451.95,567.578 1453.98,566.331 1456,565.084 1458.03,563.836 1460.05,562.587 1462.08,561.338 1464.1,560.089 1466.13,558.839 1468.15,557.588 1470.17,556.337 1472.2,555.085 1474.22,553.833 1476.25,552.58 1478.27,551.326 1480.3,550.072 1482.32,548.817 1484.35,547.562 1486.37,546.306 1488.39,545.05 1490.42,543.793 1492.44,542.535 1494.47,541.277 1496.49,540.018 1498.52,538.758 1500.54,537.498 1502.56,536.238 1504.59,534.976 1506.61,533.714 1508.64,532.451 1510.66,531.188 1512.69,529.924 1514.71,528.66 1516.74,527.394 1518.76,526.128 1520.78,524.862 1522.81,523.594 1524.83,522.326 1526.86,521.058 1528.88,519.788 1530.91,518.518 1532.93,517.248 1534.96,515.976 1536.98,514.704 1539,513.431 1541.03,512.158 1543.05,510.883 1545.08,509.608 1547.1,508.333 1549.13,507.056 1551.15,505.779 1553.18,504.501 1555.2,503.222 1557.22,501.943 1559.25,500.663 1561.27,499.382 1563.3,498.1 1565.32,496.818 1567.35,495.535 1569.37,494.251 1571.39,492.966 1573.42,491.68 1575.44,490.394 1577.47,489.107 1579.49,487.819 1581.52,486.53 1583.54,485.241 1585.57,483.951 1587.59,482.659 1589.61,481.368 1591.64,480.075 1593.66,478.781 1595.69,477.487 1597.71,476.192 1599.74,474.895 1601.76,473.599 1603.79,472.301 1605.81,471.002 1607.83,469.703 1609.86,468.402 1611.88,467.101 1613.91,465.799 1615.93,464.496 1617.96,463.193 1619.98,461.888 1622.01,460.582 1624.03,459.276 1626.05,457.969 1628.08,456.661 1630.1,455.352 1632.13,454.042 1634.15,452.731 1636.18,451.419 1638.2,450.106 1640.22,448.793 1642.25,447.478 1644.27,446.163 1646.3,444.846 1648.32,443.529 1650.35,442.211 1652.37,440.891 1654.4,439.571 1656.42,438.25 1658.44,436.928 1660.47,435.605 1662.49,434.281 1664.52,432.956 1666.54,431.631 1668.57,430.304 1670.59,428.976 1672.62,427.647 1674.64,426.318 1676.66,424.987 1678.69,423.655 1680.71,422.322 1682.74,420.989 1684.76,419.654 1686.79,418.318 1688.81,416.982 1690.83,415.644 1692.86,414.305 1694.88,412.966 1696.91,411.625 1698.93,410.283 1700.96,408.94 1702.98,407.597 1705.01,406.252 1707.03,404.906 1709.05,403.559 1711.08,402.211 1713.1,400.862 1715.13,399.513 1717.15,398.162 1719.18,396.809 1721.2,395.456 1723.23,394.102 1725.25,392.747 1727.27,391.391 1729.3,390.033 1731.32,388.675 1733.35,387.316 1735.37,385.955 1737.4,384.594 1739.42,383.231 1741.45,381.867 1743.47,380.503 1745.49,379.137 1747.52,377.77 1749.54,376.402 1751.57,375.033 1753.59,373.663 1755.62,372.291 1757.64,370.919 1759.66,369.546 1761.69,368.171 1763.71,366.795 1765.74,365.419 1767.76,364.041 1769.79,362.662 1771.81,361.282 1773.84,359.901 1775.86,358.519 1777.88,357.136 1779.91,355.751 1781.93,354.366 1783.96,352.979 1785.98,351.592 1788.01,350.203 1790.03,348.813 1792.06,347.422 1794.08,346.03 1796.1,344.637 1798.13,343.243 1800.15,341.848 1802.18,340.451 1804.2,339.054 1806.23,337.655 1808.25,336.255 1810.28,334.855 1812.3,333.453 1814.32,332.05 1816.35,330.646 1818.37,329.241 1820.4,327.834 1822.42,326.427 1824.45,325.019 1826.47,323.609 1828.49,322.199 1830.52,320.787 1832.54,319.375 1834.57,317.961 1836.59,316.546 1838.62,315.13 1840.64,313.713 1842.67,312.295 1844.69,310.876 1846.71,309.456 1848.74,308.035 1850.76,306.613 1852.79,305.19 1854.81,303.766 1856.84,302.341 1858.86,300.914 1860.89,299.487 1862.91,298.059 1864.93,296.63 1866.96,295.2 1868.98,293.769 1871.01,292.336 1873.03,290.903 1875.06,289.469 1877.08,288.034 1879.1,286.598 1881.13,285.162 1883.15,283.724 1885.18,282.285 1887.2,280.846 1889.23,279.405 1891.25,277.964 1893.28,276.522 1895.3,275.079 1897.32,273.635 1899.35,272.19 1901.37,270.744 1903.4,269.298 1905.42,267.851 1907.45,266.403 1909.47,264.954 1911.5,263.505 1913.52,262.055 1915.54,260.604 1917.57,259.152 1919.59,257.7 1921.62,256.247 1923.64,254.794 1925.67,253.339 1927.69,251.885 1929.72,250.429 1931.74,248.973 1933.76,247.517 1935.79,246.06 1937.81,244.602 1939.84,243.144 1941.86,241.686 1943.89,240.227 1945.91,238.768 1947.93,237.308 1949.96,235.848 1951.98,234.388 1954.01,232.928 1956.03,231.467 1958.06,230.006 1960.08,228.544 1962.11,227.083 1964.13,225.621 1966.15,224.16 1968.18,222.698 1970.2,221.237 1972.23,219.775 1974.25,218.313 1976.28,216.852 1978.3,215.39 1980.33,213.929 1982.35,212.468 1984.37,211.008 1986.4,209.547 1988.42,208.087 1990.45,206.628 1992.47,205.169 1994.5,203.71 1996.52,202.252 1998.55,200.795 2000.57,199.338 2002.59,197.882 2004.62,196.427 2006.64,194.973 2008.67,193.52 2010.69,192.068 2012.72,190.617 2014.74,189.167 2016.76,187.718 2018.79,186.271 2020.81,184.825 2022.84,183.38 2024.86,181.937 2026.89,180.496 2028.91,179.057 2030.94,177.619 2032.96,176.183 2034.98,174.749 2037.01,173.317 2039.03,171.888 2041.06,170.461 2043.08,169.036 2045.11,167.614 2047.13,166.195 2049.16,164.778 2051.18,163.364 2053.2,161.954 2055.23,160.546 2057.25,159.142 2059.28,157.742 2061.3,156.345 2063.33,154.952 2065.35,153.562 2067.38,152.177 2069.4,150.796 2071.42,149.42 2073.45,148.048 2075.47,146.681 2077.5,145.319 2079.52,143.963 2081.55,142.612 2083.57,141.266 2085.59,139.926 2087.62,138.593 2089.64,137.265 2091.67,135.945 2093.69,134.631 2095.72,133.324 2097.74,132.025 2099.77,130.733 2101.79,129.45 2103.81,128.175 2105.84,126.908 2107.86,125.65 2109.89,124.402 2111.91,123.163 2113.94,121.934 2115.96,120.716 2117.99,119.509 2120.01,118.313 2122.03,117.128 2124.06,115.956 2126.08,114.796 2128.11,113.65 2130.13,112.517 2132.16,111.398 2134.18,110.294 2136.2,109.205 2138.23,108.133 2140.25,107.077 2142.28,106.038 2144.3,105.017 2146.33,104.014 2148.35,103.032 2150.38,102.069 2152.4,101.127 2154.42,100.208 2156.45,99.3108 2158.47,98.4378 2160.5,97.5896 2162.52,96.7673 2164.55,95.972 2166.57,95.2048 2168.6,94.4671 2170.62,93.76 2172.64,93.0849 2174.67,92.4433 2176.69,91.8367 2178.72,91.2667 2180.74,90.735 2182.77,90.2434 2184.79,89.7937 2186.82,89.3881 2188.84,89.0285 2190.86,88.7173 2192.89,88.4568 2194.91,88.2497 2196.94,88.0986 2198.96,88.0064 2200.99,87.9763 2203.01,88.0115 2205.03,88.1155 2207.06,88.2922 2209.08,88.5456 2211.11,88.8801 2213.13,89.3005 2215.16,89.8117 2217.18,90.4192 2219.21,91.1291 2221.23,91.9477 2223.25,92.882 2225.28,93.9397 2227.3,95.129 2229.33,96.4591 2231.35,97.94 2233.38,99.5825 2235.4,101.399 2237.43,103.402 2239.45,105.608 2241.47,108.033 2243.5,110.694 2245.52,113.614 2247.55,116.816 2249.57,120.326 2251.6,124.175 2253.62,128.399 2255.65,133.036 2257.67,138.136 2259.69,143.751 2261.72,149.949 2263.74,156.807 2265.77,164.418 2267.79,172.898 2269.82,182.391 2271.84,193.075 2273.86,205.184 2275.89,219.023 2277.91,235.005 2279.94,253.711 2281.96,275.993 2283.99,303.167 2286.01,337.445 2288.04,382.966 2290.06,449.03 2292.08,565.311 \"/>\n",
       "<polyline clip-path=\"url(#clip532)\" style=\"stroke:#0000ff; stroke-linecap:round; stroke-linejoin:round; stroke-width:4; stroke-opacity:1; fill:none\" points=\"269.7,1445.72 271.724,1442.84 273.749,1439.98 275.773,1437.13 277.798,1434.31 279.822,1431.5 281.846,1428.72 283.871,1425.94 285.895,1423.19 287.92,1420.46 289.944,1417.74 291.969,1415.03 293.993,1412.35 296.017,1409.67 298.042,1407.02 300.066,1404.38 302.091,1401.75 304.115,1399.14 306.139,1396.55 308.164,1393.97 310.188,1391.4 312.213,1388.85 314.237,1386.31 316.261,1383.79 318.286,1381.28 320.31,1378.78 322.335,1376.3 324.359,1373.83 326.383,1371.37 328.408,1368.92 330.432,1366.49 332.457,1364.07 334.481,1361.66 336.506,1359.27 338.53,1356.88 340.554,1354.51 342.579,1352.15 344.603,1349.8 346.628,1347.46 348.652,1345.13 350.676,1342.82 352.701,1340.51 354.725,1338.21 356.75,1335.93 358.774,1333.66 360.798,1331.39 362.823,1329.14 364.847,1326.89 366.872,1324.66 368.896,1322.44 370.92,1320.22 372.945,1318.02 374.969,1315.82 376.994,1313.64 379.018,1311.46 381.043,1309.29 383.067,1307.14 385.091,1304.99 387.116,1302.84 389.14,1300.71 391.165,1298.59 393.189,1296.47 395.213,1294.37 397.238,1292.27 399.262,1290.18 401.287,1288.1 403.311,1286.02 405.335,1283.96 407.36,1281.9 409.384,1279.85 411.409,1277.81 413.433,1275.77 415.457,1273.75 417.482,1271.73 419.506,1269.71 421.531,1267.71 423.555,1265.71 425.58,1263.72 427.604,1261.74 429.628,1259.76 431.653,1257.79 433.677,1255.83 435.702,1253.87 437.726,1251.92 439.75,1249.98 441.775,1248.04 443.799,1246.11 445.824,1244.19 447.848,1242.27 449.872,1240.36 451.897,1238.46 453.921,1236.56 455.946,1234.67 457.97,1232.78 459.994,1230.9 462.019,1229.03 464.043,1227.16 466.068,1225.3 468.092,1223.44 470.117,1221.59 472.141,1219.75 474.165,1217.91 476.19,1216.07 478.214,1214.25 480.239,1212.42 482.263,1210.61 484.287,1208.79 486.312,1206.99 488.336,1205.19 490.361,1203.39 492.385,1201.6 494.409,1199.81 496.434,1198.03 498.458,1196.25 500.483,1194.48 502.507,1192.72 504.531,1190.96 506.556,1189.2 508.58,1187.45 510.605,1185.7 512.629,1183.96 514.653,1182.22 516.678,1180.49 518.702,1178.76 520.727,1177.04 522.751,1175.32 524.776,1173.6 526.8,1171.89 528.824,1170.19 530.849,1168.48 532.873,1166.79 534.898,1165.09 536.922,1163.4 538.946,1161.72 540.971,1160.04 542.995,1158.36 545.02,1156.69 547.044,1155.02 549.068,1153.36 551.093,1151.7 553.117,1150.04 555.142,1148.39 557.166,1146.74 559.19,1145.1 561.215,1143.45 563.239,1141.82 565.264,1140.18 567.288,1138.55 569.313,1136.93 571.337,1135.31 573.361,1133.69 575.386,1132.07 577.41,1130.46 579.435,1128.85 581.459,1127.25 583.483,1125.65 585.508,1124.05 587.532,1122.45 589.557,1120.86 591.581,1119.28 593.605,1117.69 595.63,1116.11 597.654,1114.53 599.679,1112.96 601.703,1111.39 603.727,1109.82 605.752,1108.26 607.776,1106.69 609.801,1105.14 611.825,1103.58 613.85,1102.03 615.874,1100.48 617.898,1098.93 619.923,1097.39 621.947,1095.85 623.972,1094.31 625.996,1092.78 628.02,1091.25 630.045,1089.72 632.069,1088.19 634.094,1086.67 636.118,1085.15 638.142,1083.63 640.167,1082.12 642.191,1080.61 644.216,1079.1 646.24,1077.59 648.264,1076.09 650.289,1074.59 652.313,1073.09 654.338,1071.6 656.362,1070.1 658.387,1068.61 660.411,1067.12 662.435,1065.64 664.46,1064.16 666.484,1062.68 668.509,1061.2 670.533,1059.72 672.557,1058.25 674.582,1056.78 676.606,1055.31 678.631,1053.85 680.655,1052.38 682.679,1050.92 684.704,1049.46 686.728,1048.01 688.753,1046.55 690.777,1045.1 692.801,1043.65 694.826,1042.21 696.85,1040.76 698.875,1039.32 700.899,1037.88 702.924,1036.44 704.948,1035 706.972,1033.57 708.997,1032.14 711.021,1030.71 713.046,1029.28 715.07,1027.86 717.094,1026.43 719.119,1025.01 721.143,1023.59 723.168,1022.18 725.192,1020.76 727.216,1019.35 729.241,1017.94 731.265,1016.53 733.29,1015.12 735.314,1013.71 737.338,1012.31 739.363,1010.91 741.387,1009.51 743.412,1008.11 745.436,1006.71 747.461,1005.32 749.485,1003.93 751.509,1002.54 753.534,1001.15 755.558,999.762 757.583,998.377 759.607,996.994 761.631,995.612 763.656,994.232 765.68,992.854 767.705,991.478 769.729,990.103 771.753,988.73 773.778,987.358 775.802,985.989 777.827,984.62 779.851,983.254 781.875,981.889 783.9,980.526 785.924,979.164 787.949,977.804 789.973,976.446 791.997,975.089 794.022,973.733 796.046,972.38 798.071,971.027 800.095,969.676 802.12,968.327 804.144,966.979 806.168,965.633 808.193,964.288 810.217,962.945 812.242,961.603 814.266,960.262 816.29,958.923 818.315,957.585 820.339,956.249 822.364,954.914 824.388,953.58 826.412,952.248 828.437,950.917 830.461,949.588 832.486,948.26 834.51,946.933 836.534,945.608 838.559,944.283 840.583,942.96 842.608,941.639 844.632,940.318 846.657,938.999 848.681,937.681 850.705,936.365 852.73,935.049 854.754,933.735 856.779,932.422 858.803,931.111 860.827,929.8 862.852,928.491 864.876,927.183 866.901,925.876 868.925,924.57 870.949,923.265 872.974,921.961 874.998,920.659 877.023,919.358 879.047,918.057 881.071,916.758 883.096,915.46 885.12,914.163 887.145,912.867 889.169,911.573 891.194,910.279 893.218,908.986 895.242,907.695 897.267,906.404 899.291,905.114 901.316,903.826 903.34,902.538 905.364,901.251 907.389,899.966 909.413,898.681 911.438,897.397 913.462,896.115 915.486,894.833 917.511,893.552 919.535,892.272 921.56,890.993 923.584,889.715 925.608,888.438 927.633,887.162 929.657,885.886 931.682,884.612 933.706,883.338 935.731,882.066 937.755,880.794 939.779,879.523 941.804,878.253 943.828,876.983 945.853,875.715 947.877,874.447 949.901,873.18 951.926,871.914 953.95,870.649 955.975,869.385 957.999,868.121 960.023,866.858 962.048,865.596 964.072,864.335 966.097,863.074 968.121,861.814 970.145,860.555 972.17,859.297 974.194,858.039 976.219,856.782 978.243,855.526 980.268,854.271 982.292,853.016 984.316,851.762 986.341,850.508 988.365,849.256 990.39,848.004 992.414,846.752 994.438,845.501 996.463,844.251 998.487,843.002 1000.51,841.753 1002.54,840.505 1004.56,839.257 1006.58,838.01 1008.61,836.764 1010.63,835.518 1012.66,834.273 1014.68,833.029 1016.71,831.785 1018.73,830.541 1020.76,829.298 1022.78,828.056 1024.8,826.814 1026.83,825.573 1028.85,824.333 1030.88,823.093 1032.9,821.853 1034.93,820.614 1036.95,819.376 1038.98,818.138 1041,816.9 1043.02,815.663 1045.05,814.427 1047.07,813.191 1049.1,811.955 1051.12,810.72 1053.15,809.485 1055.17,808.251 1057.2,807.018 1059.22,805.784 1061.24,804.552 1063.27,803.319 1065.29,802.087 1067.32,800.856 1069.34,799.625 1071.37,798.394 1073.39,797.164 1075.41,795.934 1077.44,794.705 1079.46,793.475 1081.49,792.247 1083.51,791.018 1085.54,789.791 1087.56,788.563 1089.59,787.336 1091.61,786.109 1093.63,784.882 1095.66,783.656 1097.68,782.43 1099.71,781.205 1101.73,779.98 1103.76,778.755 1105.78,777.53 1107.81,776.306 1109.83,775.082 1111.85,773.859 1113.88,772.635 1115.9,771.412 1117.93,770.19 1119.95,768.967 1121.98,767.745 1124,766.523 1126.02,765.301 1128.05,764.08 1130.07,762.859 1132.1,761.638 1134.12,760.417 1136.15,759.196 1138.17,757.976 1140.2,756.756 1142.22,755.536 1144.24,754.317 1146.27,753.097 1148.29,751.878 1150.32,750.659 1152.34,749.44 1154.37,748.222 1156.39,747.003 1158.42,745.785 1160.44,744.567 1162.46,743.349 1164.49,742.131 1166.51,740.913 1168.54,739.696 1170.56,738.478 1172.59,737.261 1174.61,736.044 1176.64,734.827 1178.66,733.61 1180.68,732.394 1182.71,731.177 1184.73,729.96 1186.76,728.744 1188.78,727.528 1190.81,726.311 1192.83,725.095 1194.85,723.879 1196.88,722.663 1198.9,721.447 1200.93,720.231 1202.95,719.016 1204.98,717.8 1207,716.584 1209.03,715.368 1211.05,714.153 1213.07,712.937 1215.1,711.722 1217.12,710.506 1219.15,709.291 1221.17,708.075 1223.2,706.86 1225.22,705.644 1227.25,704.429 1229.27,703.213 1231.29,701.998 1233.32,700.782 1235.34,699.567 1237.37,698.351 1239.39,697.136 1241.42,695.92 1243.44,694.704 1245.47,693.489 1247.49,692.273 1249.51,691.057 1251.54,689.841 1253.56,688.625 1255.59,687.409 1257.61,686.193 1259.64,684.977 1261.66,683.761 1263.68,682.544 1265.71,681.328 1267.73,680.112 1269.76,678.895 1271.78,677.678 1273.81,676.461 1275.83,675.244 1277.86,674.027 1279.88,672.81 1281.9,671.593 1283.93,670.375 1285.95,669.158 1287.98,667.94 1290,666.722 1292.03,665.504 1294.05,664.286 1296.08,663.068 1298.1,661.849 1300.12,660.63 1302.15,659.412 1304.17,658.193 1306.2,656.973 1308.22,655.754 1310.25,654.534 1312.27,653.314 1314.29,652.094 1316.32,650.874 1318.34,649.654 1320.37,648.433 1322.39,647.212 1324.42,645.991 1326.44,644.77 1328.47,643.548 1330.49,642.326 1332.51,641.104 1334.54,639.882 1336.56,638.659 1338.59,637.436 1340.61,636.213 1342.64,634.99 1344.66,633.766 1346.69,632.542 1348.71,631.318 1350.73,630.093 1352.76,628.869 1354.78,627.644 1356.81,626.418 1358.83,625.192 1360.86,623.966 1362.88,622.74 1364.91,621.513 1366.93,620.286 1368.95,619.059 1370.98,617.831 1373,616.604 1375.03,615.375 1377.05,614.147 1379.08,612.918 1381.1,611.688 1383.12,610.458 1385.15,609.228 1387.17,607.998 1389.2,606.767 1391.22,605.536 1393.25,604.304 1395.27,603.072 1397.3,601.84 1399.32,600.607 1401.34,599.374 1403.37,598.14 1405.39,596.906 1407.42,595.672 1409.44,594.437 1411.47,593.202 1413.49,591.966 1415.52,590.73 1417.54,589.494 1419.56,588.257 1421.59,587.019 1423.61,585.781 1425.64,584.543 1427.66,583.304 1429.69,582.065 1431.71,580.825 1433.74,579.585 1435.76,578.344 1437.78,577.103 1439.81,575.861 1441.83,574.619 1443.86,573.377 1445.88,572.134 1447.91,570.89 1449.93,569.646 1451.95,568.401 1453.98,567.156 1456,565.91 1458.03,564.664 1460.05,563.417 1462.08,562.17 1464.1,560.922 1466.13,559.674 1468.15,558.425 1470.17,557.176 1472.2,555.926 1474.22,554.675 1476.25,553.424 1478.27,552.172 1480.3,550.92 1482.32,549.667 1484.35,548.414 1486.37,547.16 1488.39,545.905 1490.42,544.65 1492.44,543.394 1494.47,542.137 1496.49,540.88 1498.52,539.623 1500.54,538.364 1502.56,537.106 1504.59,535.846 1506.61,534.586 1508.64,533.325 1510.66,532.064 1512.69,530.802 1514.71,529.539 1516.74,528.276 1518.76,527.012 1520.78,525.747 1522.81,524.482 1524.83,523.216 1526.86,521.949 1528.88,520.681 1530.91,519.413 1532.93,518.145 1534.96,516.875 1536.98,515.605 1539,514.334 1541.03,513.063 1543.05,511.791 1545.08,510.518 1547.1,509.244 1549.13,507.969 1551.15,506.694 1553.18,505.419 1555.2,504.142 1557.22,502.865 1559.25,501.587 1561.27,500.308 1563.3,499.028 1565.32,497.748 1567.35,496.467 1569.37,495.185 1571.39,493.902 1573.42,492.619 1575.44,491.335 1577.47,490.05 1579.49,488.764 1581.52,487.478 1583.54,486.19 1585.57,484.902 1587.59,483.613 1589.61,482.323 1591.64,481.033 1593.66,479.742 1595.69,478.449 1597.71,477.156 1599.74,475.863 1601.76,474.568 1603.79,473.273 1605.81,471.976 1607.83,470.679 1609.86,469.381 1611.88,468.082 1613.91,466.783 1615.93,465.482 1617.96,464.181 1619.98,462.878 1622.01,461.575 1624.03,460.271 1626.05,458.966 1628.08,457.66 1630.1,456.354 1632.13,455.046 1634.15,453.738 1636.18,452.428 1638.2,451.118 1640.22,449.807 1642.25,448.495 1644.27,447.182 1646.3,445.868 1648.32,444.553 1650.35,443.237 1652.37,441.921 1654.4,440.603 1656.42,439.285 1658.44,437.965 1660.47,436.645 1662.49,435.323 1664.52,434.001 1666.54,432.678 1668.57,431.354 1670.59,430.028 1672.62,428.702 1674.64,427.375 1676.66,426.047 1678.69,424.718 1680.71,423.388 1682.74,422.057 1684.76,420.725 1686.79,419.392 1688.81,418.058 1690.83,416.723 1692.86,415.387 1694.88,414.05 1696.91,412.712 1698.93,411.373 1700.96,410.033 1702.98,408.692 1705.01,407.35 1707.03,406.007 1709.05,404.663 1711.08,403.318 1713.1,401.972 1715.13,400.625 1717.15,399.277 1719.18,397.928 1721.2,396.578 1723.23,395.227 1725.25,393.874 1727.27,392.521 1729.3,391.167 1731.32,389.811 1733.35,388.455 1735.37,387.097 1737.4,385.739 1739.42,384.379 1741.45,383.019 1743.47,381.657 1745.49,380.294 1747.52,378.93 1749.54,377.565 1751.57,376.199 1753.59,374.832 1755.62,373.464 1757.64,372.095 1759.66,370.725 1761.69,369.353 1763.71,367.981 1765.74,366.608 1767.76,365.233 1769.79,363.857 1771.81,362.481 1773.84,361.103 1775.86,359.724 1777.88,358.344 1779.91,356.963 1781.93,355.581 1783.96,354.198 1785.98,352.814 1788.01,351.428 1790.03,350.042 1792.06,348.654 1794.08,347.266 1796.1,345.876 1798.13,344.485 1800.15,343.094 1802.18,341.701 1804.2,340.307 1806.23,338.912 1808.25,337.515 1810.28,336.118 1812.3,334.72 1814.32,333.321 1816.35,331.92 1818.37,330.519 1820.4,329.116 1822.42,327.713 1824.45,326.308 1826.47,324.902 1828.49,323.495 1830.52,322.088 1832.54,320.679 1834.57,319.269 1836.59,317.858 1838.62,316.446 1840.64,315.033 1842.67,313.619 1844.69,312.203 1846.71,310.787 1848.74,309.37 1850.76,307.952 1852.79,306.533 1854.81,305.113 1856.84,303.692 1858.86,302.269 1860.89,300.846 1862.91,299.422 1864.93,297.997 1866.96,296.571 1868.98,295.144 1871.01,293.716 1873.03,292.287 1875.06,290.857 1877.08,289.427 1879.1,287.995 1881.13,286.562 1883.15,285.129 1885.18,283.695 1887.2,282.259 1889.23,280.823 1891.25,279.386 1893.28,277.949 1895.3,276.51 1897.32,275.071 1899.35,273.63 1901.37,272.189 1903.4,270.748 1905.42,269.305 1907.45,267.862 1909.47,266.418 1911.5,264.973 1913.52,263.527 1915.54,262.081 1917.57,260.634 1919.59,259.187 1921.62,257.739 1923.64,256.29 1925.67,254.841 1927.69,253.391 1929.72,251.94 1931.74,250.489 1933.76,249.038 1935.79,247.586 1937.81,246.133 1939.84,244.68 1941.86,243.227 1943.89,241.773 1945.91,240.319 1947.93,238.864 1949.96,237.41 1951.98,235.954 1954.01,234.499 1956.03,233.044 1958.06,231.588 1960.08,230.132 1962.11,228.676 1964.13,227.22 1966.15,225.764 1968.18,224.307 1970.2,222.851 1972.23,221.395 1974.25,219.939 1976.28,218.483 1978.3,217.027 1980.33,215.572 1982.35,214.117 1984.37,212.662 1986.4,211.207 1988.42,209.753 1990.45,208.299 1992.47,206.846 1994.5,205.393 1996.52,203.941 1998.55,202.49 2000.57,201.04 2002.59,199.59 2004.62,198.141 2006.64,196.693 2008.67,195.246 2010.69,193.8 2012.72,192.355 2014.74,190.911 2016.76,189.469 2018.79,188.028 2020.81,186.589 2022.84,185.151 2024.86,183.714 2026.89,182.279 2028.91,180.846 2030.94,179.415 2032.96,177.986 2034.98,176.559 2037.01,175.134 2039.03,173.712 2041.06,172.291 2043.08,170.874 2045.11,169.459 2047.13,168.046 2049.16,166.637 2051.18,165.23 2053.2,163.827 2055.23,162.426 2057.25,161.029 2059.28,159.636 2061.3,158.247 2063.33,156.861 2065.35,155.479 2067.38,154.101 2069.4,152.728 2071.42,151.359 2073.45,149.995 2075.47,148.636 2077.5,147.282 2079.52,145.933 2081.55,144.59 2083.57,143.252 2085.59,141.921 2087.62,140.595 2089.64,139.276 2091.67,137.964 2093.69,136.658 2095.72,135.36 2097.74,134.069 2099.77,132.786 2101.79,131.511 2103.81,130.244 2105.84,128.986 2107.86,127.737 2109.89,126.497 2111.91,125.267 2113.94,124.048 2115.96,122.838 2117.99,121.64 2120.01,120.453 2122.03,119.278 2124.06,118.115 2126.08,116.964 2128.11,115.827 2130.13,114.704 2132.16,113.595 2134.18,112.5 2136.2,111.421 2138.23,110.359 2140.25,109.312 2142.28,108.283 2144.3,107.272 2146.33,106.28 2148.35,105.308 2150.38,104.355 2152.4,103.424 2154.42,102.515 2156.45,101.629 2158.47,100.766 2160.5,99.9288 2162.52,99.1173 2164.55,98.3329 2166.57,97.5768 2168.6,96.8501 2170.62,96.1542 2172.64,95.4905 2174.67,94.8603 2176.69,94.2652 2178.72,93.7068 2180.74,93.1868 2182.77,92.707 2184.79,92.2693 2186.82,91.8756 2188.84,91.5282 2190.86,91.2292 2192.89,90.9812 2194.91,90.7865 2196.94,90.648 2198.96,90.5685 2200.99,90.5512 2203.01,90.5993 2205.03,90.7164 2207.06,90.9063 2209.08,91.173 2211.11,91.521 2213.13,91.9549 2215.16,92.4798 2217.18,93.1012 2219.21,93.825 2221.23,94.6577 2223.25,95.6063 2225.28,96.6784 2227.3,97.8822 2229.33,99.227 2231.35,100.723 2233.38,102.38 2235.4,104.212 2237.43,106.23 2239.45,108.452 2241.47,110.892 2243.5,113.569 2245.52,116.505 2247.55,119.723 2249.57,123.249 2251.6,127.115 2253.62,131.355 2255.65,136.009 2257.67,141.125 2259.69,146.758 2261.72,152.973 2263.74,159.848 2265.77,167.477 2267.79,175.976 2269.82,185.486 2271.84,196.189 2273.86,208.316 2275.89,222.173 2277.91,238.175 2279.94,256.9 2281.96,279.201 2283.99,306.395 2286.01,340.692 2288.04,386.234 2290.06,452.319 2292.08,568.619 \"/>\n",
       "<path clip-path=\"url(#clip530)\" d=\"M280.486 250.738 L547.289 250.738 L547.289 95.2176 L280.486 95.2176  Z\" fill=\"#ffffff\" fill-rule=\"evenodd\" fill-opacity=\"1\"/>\n",
       "<polyline clip-path=\"url(#clip530)\" style=\"stroke:#000000; stroke-linecap:round; stroke-linejoin:round; stroke-width:4; stroke-opacity:1; fill:none\" points=\"280.486,250.738 547.289,250.738 547.289,95.2176 280.486,95.2176 280.486,250.738 \"/>\n",
       "<polyline clip-path=\"url(#clip530)\" style=\"stroke:#ff0000; stroke-linecap:round; stroke-linejoin:round; stroke-width:4; stroke-opacity:1; fill:none\" points=\"304.305,147.058 447.22,147.058 \"/>\n",
       "<path clip-path=\"url(#clip530)\" d=\"M484.882 166.745 Q483.077 171.375 481.364 172.787 Q479.651 174.199 476.78 174.199 L473.378 174.199 L473.378 170.634 L475.878 170.634 Q477.637 170.634 478.609 169.8 Q479.581 168.967 480.762 165.865 L481.526 163.921 L471.04 138.412 L475.554 138.412 L483.655 158.689 L491.757 138.412 L496.271 138.412 L484.882 166.745 Z\" fill=\"#000000\" fill-rule=\"nonzero\" fill-opacity=\"1\" /><path clip-path=\"url(#clip530)\" d=\"M503.563 160.402 L511.201 160.402 L511.201 134.037 L502.891 135.703 L502.891 131.444 L511.155 129.778 L515.831 129.778 L515.831 160.402 L523.47 160.402 L523.47 164.338 L503.563 164.338 L503.563 160.402 Z\" fill=\"#000000\" fill-rule=\"nonzero\" fill-opacity=\"1\" /><polyline clip-path=\"url(#clip530)\" style=\"stroke:#0000ff; stroke-linecap:round; stroke-linejoin:round; stroke-width:4; stroke-opacity:1; fill:none\" points=\"304.305,198.898 447.22,198.898 \"/>\n",
       "<path clip-path=\"url(#clip530)\" d=\"M484.882 218.585 Q483.077 223.215 481.364 224.627 Q479.651 226.039 476.78 226.039 L473.378 226.039 L473.378 222.474 L475.878 222.474 Q477.637 222.474 478.609 221.64 Q479.581 220.807 480.762 217.705 L481.526 215.761 L471.04 190.252 L475.554 190.252 L483.655 210.529 L491.757 190.252 L496.271 190.252 L484.882 218.585 Z\" fill=\"#000000\" fill-rule=\"nonzero\" fill-opacity=\"1\" /><path clip-path=\"url(#clip530)\" d=\"M506.78 212.242 L523.1 212.242 L523.1 216.178 L501.155 216.178 L501.155 212.242 Q503.817 209.488 508.401 204.858 Q513.007 200.205 514.188 198.863 Q516.433 196.34 517.313 194.604 Q518.215 192.844 518.215 191.155 Q518.215 188.4 516.271 186.664 Q514.35 184.928 511.248 184.928 Q509.049 184.928 506.595 185.692 Q504.164 186.455 501.387 188.006 L501.387 183.284 Q504.211 182.15 506.664 181.571 Q509.118 180.993 511.155 180.993 Q516.526 180.993 519.72 183.678 Q522.914 186.363 522.914 190.854 Q522.914 192.983 522.104 194.905 Q521.317 196.803 519.211 199.395 Q518.632 200.067 515.53 203.284 Q512.428 206.479 506.78 212.242 Z\" fill=\"#000000\" fill-rule=\"nonzero\" fill-opacity=\"1\" /></svg>\n"
      ]
     },
     "execution_count": 214,
     "metadata": {},
     "output_type": "execute_result"
    }
   ],
   "source": [
    "plot(p1.ell_null, color = \"red\")\n",
    "plot!(p2.ell_null, color = \"blue\")"
   ]
  },
  {
   "cell_type": "code",
   "execution_count": null,
   "id": "8ff51801-073c-41e8-aa98-966bee5cb3b6",
   "metadata": {},
   "outputs": [],
   "source": []
  }
 ],
 "metadata": {
  "kernelspec": {
   "display_name": "Julia 24 Threads 1.9.2",
   "language": "julia",
   "name": "julia-24-threads-1.9"
  },
  "language_info": {
   "file_extension": ".jl",
   "mimetype": "application/julia",
   "name": "julia",
   "version": "1.9.2"
  }
 },
 "nbformat": 4,
 "nbformat_minor": 5
}
