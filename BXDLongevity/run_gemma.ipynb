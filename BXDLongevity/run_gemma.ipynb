{
 "cells": [
  {
   "cell_type": "markdown",
   "id": "c6a8e0e0-aa15-4db6-af46-cf040eeb840e",
   "metadata": {
    "tags": []
   },
   "source": [
    "## Run GEMMA for single-trait scans:"
   ]
  },
  {
   "cell_type": "code",
   "execution_count": 10,
   "id": "2baa9339-282c-4b69-9f1c-3c02dbaaf46f",
   "metadata": {},
   "outputs": [],
   "source": [
    "using CSV, DelimitedFiles, DataFrames, Missings, XLSX\n",
    "using LinearAlgebra, Statistics, Optim\n",
    "using Random, Distributions, LoopVectorization\n",
    "# using GeneNetworkAPI, Downloads\n",
    "using BenchmarkTools"
   ]
  },
  {
   "cell_type": "code",
   "execution_count": 1,
   "id": "3184a8aa-7053-43c9-b262-68673ed49499",
   "metadata": {},
   "outputs": [
    {
     "data": {
      "text/plain": [
       "\"/home/zyu20/git/BulkLMM_Analyses/BXDLongevity\""
      ]
     },
     "execution_count": 1,
     "metadata": {},
     "output_type": "execute_result"
    }
   ],
   "source": [
    "pwd()"
   ]
  },
  {
   "cell_type": "code",
   "execution_count": 2,
   "id": "5c1c21bf-2d9f-40d8-b7e7-2ae9685c2a63",
   "metadata": {},
   "outputs": [
    {
     "data": {
      "text/plain": [
       "\"/home/zyu20/Softwares/gemma-0.98.5-linux-static-AMD64\""
      ]
     },
     "execution_count": 2,
     "metadata": {},
     "output_type": "execute_result"
    }
   ],
   "source": [
    "gemma = \"/home/zyu20/Softwares/gemma-0.98.5-linux-static-AMD64\""
   ]
  },
  {
   "cell_type": "code",
   "execution_count": 33,
   "id": "b0dc56e3-d949-45b5-a937-1737aaba0b0f",
   "metadata": {},
   "outputs": [],
   "source": [
    "local_path = \"../../BulkLMM.jl/src\";"
   ]
  },
  {
   "cell_type": "code",
   "execution_count": 34,
   "id": "2d1a6860-8f27-4dfa-a2ee-8bfa52f7279a",
   "metadata": {},
   "outputs": [
    {
     "ename": "LoadError",
     "evalue": "LoadError: UndefVarError: @recipe not defined\nin expression starting at /home/zyu20/git/BulkLMM.jl/plot_utils/visuals_utils.jl:40\nin expression starting at /home/zyu20/git/BulkLMM.jl/plot_utils/visuals_utils.jl:40",
     "output_type": "error",
     "traceback": [
      "LoadError: UndefVarError: @recipe not defined\nin expression starting at /home/zyu20/git/BulkLMM.jl/plot_utils/visuals_utils.jl:40\nin expression starting at /home/zyu20/git/BulkLMM.jl/plot_utils/visuals_utils.jl:40",
      "",
      "Stacktrace:",
      " [1] top-level scope",
      "   @ :0",
      " [2] include(fname::String)",
      "   @ Base.MainInclude ./client.jl:451",
      " [3] top-level scope",
      "   @ In[34]:11"
     ]
    }
   ],
   "source": [
    "include(joinpath(local_path, \"kinship.jl\"));\n",
    "include(joinpath(local_path, \"util.jl\"));\n",
    "include(joinpath(local_path, \"wls.jl\"));\n",
    "include(joinpath(local_path, \"lmm.jl\"));\n",
    "include(joinpath(local_path, \"gridbrent.jl\"));\n",
    "include(joinpath(local_path, \"transform_helpers.jl\"));\n",
    "include(joinpath(local_path, \"scan.jl\"));\n",
    "include(joinpath(local_path, \"bulkscan_helpers.jl\"));\n",
    "include(joinpath(local_path, \"bulkscan.jl\"));\n",
    "include(joinpath(local_path, \"readData.jl\"));\n",
    "include(joinpath(local_path, \"../plot_utils/visuals_utils.jl\"));\n",
    "include(joinpath(local_path, \"analysis_helpers/single_trait_analysis.jl\"));\n",
    "include(\"../../BigRiver_util_code/src/kinship_utils.jl\");"
   ]
  },
  {
   "cell_type": "code",
   "execution_count": 3,
   "id": "7f448fb5-e941-4676-9de7-9ffbba59f51f",
   "metadata": {},
   "outputs": [
    {
     "name": "stdout",
     "output_type": "stream",
     "text": [
      "GEMMA 0.98.5 (2021-08-25) by Xiang Zhou, Pjotr Prins and team (C) 2012-2021\n",
      "\n",
      " type ./gemma -h [num] for detailed help\n",
      " options: \n",
      "  1: quick guide\n",
      "  2: file I/O related\n",
      "  3: SNP QC\n",
      "  4: calculate relatedness matrix\n",
      "  5: perform eigen decomposition\n",
      "  6: perform variance component estimation\n",
      "  7: fit a linear model\n",
      "  8: fit a linear mixed model\n",
      "  9: fit a multivariate linear mixed model\n",
      " 10: fit a Bayesian sparse linear mixed model\n",
      " 11: obtain predicted values\n",
      " 12: calculate snp variance covariance\n",
      " 13: note\n",
      " 14: debug options\n",
      "\n",
      "The GEMMA software is distributed under the GNU General Public v3\n",
      "   -license    show license information\n",
      "   see also http://www.xzlab.org/software.html, https://github.com/genetics-statistics\n"
     ]
    },
    {
     "data": {
      "text/plain": [
       "Process(`\u001b[4m/home/zyu20/Softwares/gemma-0.98.5-linux-static-AMD64\u001b[24m \u001b[4m-h\u001b[24m`, ProcessExited(0))"
      ]
     },
     "execution_count": 3,
     "metadata": {},
     "output_type": "execute_result"
    }
   ],
   "source": [
    "run(`$gemma -h`)"
   ]
  },
  {
   "cell_type": "code",
   "execution_count": 4,
   "id": "4afcb2e5-3c6a-4446-b290-be6126725561",
   "metadata": {},
   "outputs": [
    {
     "data": {
      "text/plain": [
       "transform_bxd_pheno_to_gemma2 (generic function with 1 method)"
      ]
     },
     "execution_count": 4,
     "metadata": {},
     "output_type": "execute_result"
    }
   ],
   "source": [
    "function transform_bxd_pheno_to_gemma2(inputfile::AbstractString, outputfile::AbstractString, iter::Int64)\n",
    "    pheno = CSV.read(inputfile, DataFrame);\n",
    "    pheno = Matrix{Float64}(pheno[:, 3:end]);\n",
    "    open(outputfile, \"w\") do io\n",
    "        writedlm(io, pheno[:, iter])\n",
    "    end\n",
    "    return pheno\n",
    "end"
   ]
  },
  {
   "cell_type": "code",
   "execution_count": 5,
   "id": "211959bf-7c3c-4763-93e1-3f8211e2886d",
   "metadata": {},
   "outputs": [
    {
     "data": {
      "text/plain": [
       "transform_bxd_geno_to_gemma2 (generic function with 1 method)"
      ]
     },
     "execution_count": 5,
     "metadata": {},
     "output_type": "execute_result"
    }
   ],
   "source": [
    "function transform_bxd_geno_to_gemma2(inputfile::AbstractString, outputfile::AbstractString, \n",
    "                                      startCol::Int64)\n",
    "    data = CSV.read(inputfile, DataFrame);\n",
    "    \n",
    "    marker_names = names(data)[startCol:end];\n",
    "    data = 2 .* data[:, startCol:end] |> x -> Matrix{Float64}(x)\n",
    "    # data = data[:, startCol:end] |> x -> Matrix{Float64}(x)\n",
    "    minor_allele = fill(\"A\", length(marker_names), 1);\n",
    "    major_allele = fill(\"B\", length(marker_names), 1);\n",
    "    output = hcat(hcat(marker_names, minor_allele, major_allele), transpose(data))\n",
    "    writeToFile(output, outputfile)\n",
    "    return output\n",
    "end"
   ]
  },
  {
   "cell_type": "code",
   "execution_count": 35,
   "id": "27b1fcfc-d201-4d1a-85c5-0b048af84950",
   "metadata": {},
   "outputs": [],
   "source": [
    "transform_bxd_geno_to_gemma2(\"../../../shareddata/BXDLongevity/data/GN886_geno_strains_summary.csv\", \"data/GEMMA_data/GN886_geno_strains_summary.txt\", 2);\n",
    "transform_bxd_geno_to_gemma2(\"../../../shareddata/BXDLongevity/data/GN886_geno_summary.csv\", \"data/GEMMA_data/GN886_geno_ind_summary.txt\", 4);"
   ]
  },
  {
   "cell_type": "code",
   "execution_count": 8,
   "id": "845928ff-9157-4225-bc76-7113baf6c2d5",
   "metadata": {},
   "outputs": [],
   "source": [
    "lp_id = 29437;"
   ]
  },
  {
   "cell_type": "code",
   "execution_count": 25,
   "id": "cde9813c-0c7b-476d-8abc-e7800d066843",
   "metadata": {},
   "outputs": [],
   "source": [
    "transform_bxd_pheno_to_gemma2(\"../../../shareddata/BXDLongevity/data/GN886_pheno_strain_means_summary.csv\", \"data/GEMMA_data/GN886_pheno_strains_summary.txt\", lp_id);\n",
    "transform_bxd_pheno_to_gemma2(\"../../../shareddata/BXDLongevity/data/GN886_pheno_summary.csv\", \"data/GEMMA_data/GN886_pheno_ind_summary.txt\", lp_id);"
   ]
  },
  {
   "cell_type": "code",
   "execution_count": 29,
   "id": "2505c754-b41e-483f-b9e0-7379f61ca2f1",
   "metadata": {},
   "outputs": [],
   "source": [
    "# writedlm(\"data/GEMMA_data/kinship_strains.txt\", kinship_strains, '\\t')\n",
    "# writedlm(\"data/GEMMA_data/kinship_ind.txt\", kinship_ind_from_strains, '\\t')"
   ]
  },
  {
   "cell_type": "code",
   "execution_count": 26,
   "id": "ee7872f5-092d-47a2-aa7e-2049fc4689a3",
   "metadata": {},
   "outputs": [
    {
     "data": {
      "text/plain": [
       "p2lod (generic function with 1 method)"
      ]
     },
     "execution_count": 26,
     "metadata": {},
     "output_type": "execute_result"
    }
   ],
   "source": [
    "function p2lod(pval::Float64, df::Int64)\n",
    "    \n",
    "    lrs = invlogcdf(Chisq(df), log(1-pval))\n",
    "    lod = lrs/(2*log(10))\n",
    "    \n",
    "    # return lrs\n",
    "    return lod\n",
    "\n",
    "end"
   ]
  },
  {
   "cell_type": "code",
   "execution_count": 36,
   "id": "dda3254f-7498-4a90-a93e-5ebcd18fb34e",
   "metadata": {},
   "outputs": [
    {
     "data": {
      "text/plain": [
       "gemmaWrapper (generic function with 1 method)"
      ]
     },
     "execution_count": 36,
     "metadata": {},
     "output_type": "execute_result"
    }
   ],
   "source": [
    "function gemmaWrapper(pheno_filename::String, geno_filename::String,\n",
    "                      kinship_filename::String, output_filename::String)\n",
    "    \n",
    "    run(`$gemma -g $geno_filename -p $pheno_filename -k $kinship_filename -lmm 2 -lmax 1000000 -o $output_filename`)\n",
    "    \n",
    "end"
   ]
  },
  {
   "cell_type": "code",
   "execution_count": 37,
   "id": "db781ad8-dee0-438a-942c-2628a435afcb",
   "metadata": {},
   "outputs": [
    {
     "name": "stdout",
     "output_type": "stream",
     "text": [
      "GEMMA 0.98.5 (2021-08-25) by Xiang Zhou, Pjotr Prins and team (C) 2012-2021\n",
      "Reading Files ... \n",
      "## number of total individuals = 50\n",
      "## number of analyzed individuals = 50\n",
      "## number of covariates = 1\n",
      "## number of phenotypes = 1\n",
      "## number of total SNPs/var        =     7321\n",
      "## number of analyzed SNPs         =     7321\n",
      "Start Eigen-Decomposition...\n",
      "pve estimate =nan\n",
      "se(pve) =nan\n",
      "================================================== 100%\n"
     ]
    },
    {
     "name": "stderr",
     "output_type": "stream",
     "text": [
      "**** INFO: Done.\n"
     ]
    },
    {
     "name": "stdout",
     "output_type": "stream",
     "text": [
      "  0.370294 seconds (486 allocations: 101.453 KiB)\n"
     ]
    }
   ],
   "source": [
    "@time gemmaWrapper(\"data/GEMMA_data/GN886_pheno_strains_summary.txt\", \n",
    "                   \"data/GEMMA_data/GN886_geno_strains_summary.txt\",\n",
    "                   \"data/GEMMA_data/kinship_strains.txt\",\n",
    "                   \"results_strains.txt\");"
   ]
  },
  {
   "cell_type": "code",
   "execution_count": 38,
   "id": "7a78b24c-0c44-41fe-b779-95820da590cd",
   "metadata": {},
   "outputs": [
    {
     "name": "stdout",
     "output_type": "stream",
     "text": [
      "GEMMA 0.98.5 (2021-08-25) by Xiang Zhou, Pjotr Prins and team (C) 2012-2021\n",
      "Reading Files ... \n",
      "## number of total individuals = 248\n",
      "## number of analyzed individuals = 248\n",
      "## number of covariates = 1\n",
      "## number of phenotypes = 1\n",
      "## number of total SNPs/var        =     7321\n",
      "## number of analyzed SNPs         =     7321\n",
      "Start Eigen-Decomposition...\n",
      "pve estimate =0.0731453\n",
      "se(pve) =0.0466037\n"
     ]
    },
    {
     "name": "stderr",
     "output_type": "stream",
     "text": [
      "**** WARNING: Matrix G has 199 eigenvalues close to zero\n"
     ]
    },
    {
     "name": "stdout",
     "output_type": "stream",
     "text": [
      "================================================== 100%\n",
      "  1.974216 seconds (940 allocations: 73.031 KiB)\n"
     ]
    },
    {
     "name": "stderr",
     "output_type": "stream",
     "text": [
      "**** INFO: Done.\n"
     ]
    }
   ],
   "source": [
    "@time gemmaWrapper(\"data/GEMMA_data/GN886_pheno_ind_summary.txt\", \n",
    "                   \"data/GEMMA_data/GN886_geno_ind_summary.txt\",\n",
    "                   \"data/GEMMA_data/kinship_ind.txt\",\n",
    "                   \"results_ind.txt\");"
   ]
  },
  {
   "cell_type": "code",
   "execution_count": 39,
   "id": "ebc6aba1-d867-4ab5-afc8-d9c2243f927a",
   "metadata": {},
   "outputs": [],
   "source": [
    "gemma_results_strains = readdlm(\"output/results_strains.txt.assoc.txt\", '\\t');\n",
    "gemma_results_ind = readdlm(\"output/results_ind.txt.assoc.txt\", '\\t');"
   ]
  },
  {
   "cell_type": "code",
   "execution_count": 40,
   "id": "e86f5b52-ab3c-49da-9c00-0532308c1e82",
   "metadata": {},
   "outputs": [],
   "source": [
    "gemma_strains = gemma_results_strains[2:end, 10] |> x -> Array{Float64}(x);\n",
    "gemma_ind = gemma_results_ind[2:end, 10] |> x -> Array{Float64}(x);"
   ]
  },
  {
   "cell_type": "code",
   "execution_count": 41,
   "id": "57f89268-3398-48e0-86c8-373600b59505",
   "metadata": {},
   "outputs": [],
   "source": [
    "gemma_strains_lod = p2lod.(gemma_strains, 1);\n",
    "gemma_ind_lod = p2lod.(gemma_ind, 1);"
   ]
  },
  {
   "cell_type": "code",
   "execution_count": null,
   "id": "8d0bc780-15a1-433d-8584-fc57c725380c",
   "metadata": {},
   "outputs": [],
   "source": []
  }
 ],
 "metadata": {
  "kernelspec": {
   "display_name": "Julia 1.7.3",
   "language": "julia",
   "name": "julia-1.7"
  },
  "language_info": {
   "file_extension": ".jl",
   "mimetype": "application/julia",
   "name": "julia",
   "version": "1.7.3"
  }
 },
 "nbformat": 4,
 "nbformat_minor": 5
}
